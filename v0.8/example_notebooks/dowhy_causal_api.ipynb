{
 "cells": [
  {
   "cell_type": "markdown",
   "metadata": {},
   "source": [
    "# Demo for the DoWhy causal API\n",
    "We show a simple example of adding a causal extension to any dataframe. "
   ]
  },
  {
   "cell_type": "code",
   "execution_count": 1,
   "metadata": {
    "execution": {
     "iopub.execute_input": "2022-09-14T19:25:33.518958Z",
     "iopub.status.busy": "2022-09-14T19:25:33.518587Z",
     "iopub.status.idle": "2022-09-14T19:25:34.833833Z",
     "shell.execute_reply": "2022-09-14T19:25:34.832955Z"
    }
   },
   "outputs": [],
   "source": [
    "import dowhy.datasets\n",
    "import dowhy.api\n",
    "\n",
    "import numpy as np\n",
    "import pandas as pd\n",
    "\n",
    "from statsmodels.api import OLS"
   ]
  },
  {
   "cell_type": "code",
   "execution_count": 2,
   "metadata": {
    "execution": {
     "iopub.execute_input": "2022-09-14T19:25:34.839760Z",
     "iopub.status.busy": "2022-09-14T19:25:34.838102Z",
     "iopub.status.idle": "2022-09-14T19:25:34.887072Z",
     "shell.execute_reply": "2022-09-14T19:25:34.886281Z"
    }
   },
   "outputs": [
    {
     "data": {
      "text/html": [
       "<div>\n",
       "<style scoped>\n",
       "    .dataframe tbody tr th:only-of-type {\n",
       "        vertical-align: middle;\n",
       "    }\n",
       "\n",
       "    .dataframe tbody tr th {\n",
       "        vertical-align: top;\n",
       "    }\n",
       "\n",
       "    .dataframe thead th {\n",
       "        text-align: right;\n",
       "    }\n",
       "</style>\n",
       "<table border=\"1\" class=\"dataframe\">\n",
       "  <thead>\n",
       "    <tr style=\"text-align: right;\">\n",
       "      <th></th>\n",
       "      <th>W0</th>\n",
       "      <th>v0</th>\n",
       "      <th>y</th>\n",
       "    </tr>\n",
       "  </thead>\n",
       "  <tbody>\n",
       "    <tr>\n",
       "      <th>0</th>\n",
       "      <td>0.339059</td>\n",
       "      <td>False</td>\n",
       "      <td>1.523297</td>\n",
       "    </tr>\n",
       "    <tr>\n",
       "      <th>1</th>\n",
       "      <td>1.009676</td>\n",
       "      <td>True</td>\n",
       "      <td>4.361143</td>\n",
       "    </tr>\n",
       "    <tr>\n",
       "      <th>2</th>\n",
       "      <td>0.376290</td>\n",
       "      <td>True</td>\n",
       "      <td>7.623149</td>\n",
       "    </tr>\n",
       "    <tr>\n",
       "      <th>3</th>\n",
       "      <td>0.832195</td>\n",
       "      <td>True</td>\n",
       "      <td>6.504141</td>\n",
       "    </tr>\n",
       "    <tr>\n",
       "      <th>4</th>\n",
       "      <td>0.585708</td>\n",
       "      <td>True</td>\n",
       "      <td>4.155991</td>\n",
       "    </tr>\n",
       "    <tr>\n",
       "      <th>...</th>\n",
       "      <td>...</td>\n",
       "      <td>...</td>\n",
       "      <td>...</td>\n",
       "    </tr>\n",
       "    <tr>\n",
       "      <th>995</th>\n",
       "      <td>-0.560865</td>\n",
       "      <td>False</td>\n",
       "      <td>-2.036794</td>\n",
       "    </tr>\n",
       "    <tr>\n",
       "      <th>996</th>\n",
       "      <td>-0.439966</td>\n",
       "      <td>False</td>\n",
       "      <td>-1.173392</td>\n",
       "    </tr>\n",
       "    <tr>\n",
       "      <th>997</th>\n",
       "      <td>-1.545073</td>\n",
       "      <td>False</td>\n",
       "      <td>-2.369035</td>\n",
       "    </tr>\n",
       "    <tr>\n",
       "      <th>998</th>\n",
       "      <td>1.565063</td>\n",
       "      <td>True</td>\n",
       "      <td>5.896693</td>\n",
       "    </tr>\n",
       "    <tr>\n",
       "      <th>999</th>\n",
       "      <td>-1.197883</td>\n",
       "      <td>True</td>\n",
       "      <td>2.477574</td>\n",
       "    </tr>\n",
       "  </tbody>\n",
       "</table>\n",
       "<p>1000 rows × 3 columns</p>\n",
       "</div>"
      ],
      "text/plain": [
       "           W0     v0         y\n",
       "0    0.339059  False  1.523297\n",
       "1    1.009676   True  4.361143\n",
       "2    0.376290   True  7.623149\n",
       "3    0.832195   True  6.504141\n",
       "4    0.585708   True  4.155991\n",
       "..        ...    ...       ...\n",
       "995 -0.560865  False -2.036794\n",
       "996 -0.439966  False -1.173392\n",
       "997 -1.545073  False -2.369035\n",
       "998  1.565063   True  5.896693\n",
       "999 -1.197883   True  2.477574\n",
       "\n",
       "[1000 rows x 3 columns]"
      ]
     },
     "execution_count": 2,
     "metadata": {},
     "output_type": "execute_result"
    }
   ],
   "source": [
    "data = dowhy.datasets.linear_dataset(beta=5,\n",
    "        num_common_causes=1,\n",
    "        num_instruments = 0,\n",
    "        num_samples=1000,\n",
    "        treatment_is_binary=True)\n",
    "df = data['df']\n",
    "df['y'] = df['y'] + np.random.normal(size=len(df)) # Adding noise to data. Without noise, the variance in Y|X, Z is zero, and mcmc fails.\n",
    "#data['dot_graph'] = 'digraph { v ->y;X0-> v;X0-> y;}'\n",
    "\n",
    "treatment= data[\"treatment_name\"][0]\n",
    "outcome = data[\"outcome_name\"][0]\n",
    "common_cause = data[\"common_causes_names\"][0]\n",
    "df"
   ]
  },
  {
   "cell_type": "code",
   "execution_count": 3,
   "metadata": {
    "execution": {
     "iopub.execute_input": "2022-09-14T19:25:34.890829Z",
     "iopub.status.busy": "2022-09-14T19:25:34.890169Z",
     "iopub.status.idle": "2022-09-14T19:25:35.770453Z",
     "shell.execute_reply": "2022-09-14T19:25:35.769804Z"
    }
   },
   "outputs": [
    {
     "data": {
      "text/plain": [
       "<AxesSubplot:xlabel='v0'>"
      ]
     },
     "execution_count": 3,
     "metadata": {},
     "output_type": "execute_result"
    },
    {
     "data": {
      "image/png": "[encoded data removed]",
      "text/plain": [
       "<Figure size 640x480 with 1 Axes>"
      ]
     },
     "metadata": {},
     "output_type": "display_data"
    }
   ],
   "source": [
    "# data['df'] is just a regular pandas.DataFrame\n",
    "df.causal.do(x=treatment,\n",
    "                     variable_types={treatment: 'b', outcome: 'c', common_cause: 'c'},\n",
    "                     outcome=outcome,\n",
    "                     common_causes=[common_cause],\n",
    "                     proceed_when_unidentifiable=True).groupby(treatment).mean().plot(y=outcome, kind='bar')"
   ]
  },
  {
   "cell_type": "code",
   "execution_count": 4,
   "metadata": {
    "execution": {
     "iopub.execute_input": "2022-09-14T19:25:35.774700Z",
     "iopub.status.busy": "2022-09-14T19:25:35.774045Z",
     "iopub.status.idle": "2022-09-14T19:25:35.898265Z",
     "shell.execute_reply": "2022-09-14T19:25:35.897617Z"
    }
   },
   "outputs": [
    {
     "data": {
      "text/plain": [
       "<AxesSubplot:xlabel='v0'>"
      ]
     },
     "execution_count": 4,
     "metadata": {},
     "output_type": "execute_result"
    },
    {
     "data": {
      "image/png": "[encoded data removed]",
      "text/plain": [
       "<Figure size 640x480 with 1 Axes>"
      ]
     },
     "metadata": {},
     "output_type": "display_data"
    }
   ],
   "source": [
    "df.causal.do(x={treatment: 1}, \n",
    "              variable_types={treatment:'b', outcome: 'c', common_cause: 'c'}, \n",
    "              outcome=outcome,\n",
    "              method='weighting', \n",
    "              common_causes=[common_cause],\n",
    "              proceed_when_unidentifiable=True).groupby(treatment).mean().plot(y=outcome, kind='bar')"
   ]
  },
  {
   "cell_type": "code",
   "execution_count": 5,
   "metadata": {
    "execution": {
     "iopub.execute_input": "2022-09-14T19:25:35.903075Z",
     "iopub.status.busy": "2022-09-14T19:25:35.901971Z",
     "iopub.status.idle": "2022-09-14T19:25:35.938918Z",
     "shell.execute_reply": "2022-09-14T19:25:35.938234Z"
    }
   },
   "outputs": [],
   "source": [
    "cdf_1 = df.causal.do(x={treatment: 1}, \n",
    "              variable_types={treatment: 'b', outcome: 'c', common_cause: 'c'}, \n",
    "              outcome=outcome, \n",
    "              dot_graph=data['dot_graph'],\n",
    "              proceed_when_unidentifiable=True)\n",
    "\n",
    "cdf_0 = df.causal.do(x={treatment: 0}, \n",
    "              variable_types={treatment: 'b', outcome: 'c', common_cause: 'c'}, \n",
    "              outcome=outcome, \n",
    "              dot_graph=data['dot_graph'],\n",
    "              proceed_when_unidentifiable=True)\n"
   ]
  },
  {
   "cell_type": "code",
   "execution_count": 6,
   "metadata": {
    "execution": {
     "iopub.execute_input": "2022-09-14T19:25:35.942315Z",
     "iopub.status.busy": "2022-09-14T19:25:35.941900Z",
     "iopub.status.idle": "2022-09-14T19:25:35.956572Z",
     "shell.execute_reply": "2022-09-14T19:25:35.955913Z"
    },
    "scrolled": true
   },
   "outputs": [
    {
     "data": {
      "text/html": [
       "<div>\n",
       "<style scoped>\n",
       "    .dataframe tbody tr th:only-of-type {\n",
       "        vertical-align: middle;\n",
       "    }\n",
       "\n",
       "    .dataframe tbody tr th {\n",
       "        vertical-align: top;\n",
       "    }\n",
       "\n",
       "    .dataframe thead th {\n",
       "        text-align: right;\n",
       "    }\n",
       "</style>\n",
       "<table border=\"1\" class=\"dataframe\">\n",
       "  <thead>\n",
       "    <tr style=\"text-align: right;\">\n",
       "      <th></th>\n",
       "      <th>W0</th>\n",
       "      <th>v0</th>\n",
       "      <th>y</th>\n",
       "      <th>propensity_score</th>\n",
       "      <th>weight</th>\n",
       "    </tr>\n",
       "  </thead>\n",
       "  <tbody>\n",
       "    <tr>\n",
       "      <th>0</th>\n",
       "      <td>-0.370839</td>\n",
       "      <td>False</td>\n",
       "      <td>-1.426270</td>\n",
       "      <td>0.668533</td>\n",
       "      <td>1.495812</td>\n",
       "    </tr>\n",
       "    <tr>\n",
       "      <th>1</th>\n",
       "      <td>1.956810</td>\n",
       "      <td>False</td>\n",
       "      <td>1.876996</td>\n",
       "      <td>0.017484</td>\n",
       "      <td>57.195309</td>\n",
       "    </tr>\n",
       "    <tr>\n",
       "      <th>2</th>\n",
       "      <td>-0.382916</td>\n",
       "      <td>False</td>\n",
       "      <td>-1.248201</td>\n",
       "      <td>0.673950</td>\n",
       "      <td>1.483791</td>\n",
       "    </tr>\n",
       "    <tr>\n",
       "      <th>3</th>\n",
       "      <td>0.924422</td>\n",
       "      <td>False</td>\n",
       "      <td>1.606464</td>\n",
       "      <td>0.126667</td>\n",
       "      <td>7.894687</td>\n",
       "    </tr>\n",
       "    <tr>\n",
       "      <th>4</th>\n",
       "      <td>0.789872</td>\n",
       "      <td>False</td>\n",
       "      <td>1.731581</td>\n",
       "      <td>0.160123</td>\n",
       "      <td>6.245181</td>\n",
       "    </tr>\n",
       "    <tr>\n",
       "      <th>...</th>\n",
       "      <td>...</td>\n",
       "      <td>...</td>\n",
       "      <td>...</td>\n",
       "      <td>...</td>\n",
       "      <td>...</td>\n",
       "    </tr>\n",
       "    <tr>\n",
       "      <th>995</th>\n",
       "      <td>1.518796</td>\n",
       "      <td>False</td>\n",
       "      <td>2.492069</td>\n",
       "      <td>0.041540</td>\n",
       "      <td>24.073284</td>\n",
       "    </tr>\n",
       "    <tr>\n",
       "      <th>996</th>\n",
       "      <td>1.617724</td>\n",
       "      <td>False</td>\n",
       "      <td>3.848876</td>\n",
       "      <td>0.034233</td>\n",
       "      <td>29.211278</td>\n",
       "    </tr>\n",
       "    <tr>\n",
       "      <th>997</th>\n",
       "      <td>1.956810</td>\n",
       "      <td>False</td>\n",
       "      <td>1.876996</td>\n",
       "      <td>0.017484</td>\n",
       "      <td>57.195309</td>\n",
       "    </tr>\n",
       "    <tr>\n",
       "      <th>998</th>\n",
       "      <td>-0.185325</td>\n",
       "      <td>False</td>\n",
       "      <td>-0.376236</td>\n",
       "      <td>0.580432</td>\n",
       "      <td>1.722855</td>\n",
       "    </tr>\n",
       "    <tr>\n",
       "      <th>999</th>\n",
       "      <td>0.177932</td>\n",
       "      <td>False</td>\n",
       "      <td>0.086486</td>\n",
       "      <td>0.398028</td>\n",
       "      <td>2.512383</td>\n",
       "    </tr>\n",
       "  </tbody>\n",
       "</table>\n",
       "<p>1000 rows × 5 columns</p>\n",
       "</div>"
      ],
      "text/plain": [
       "           W0     v0         y  propensity_score     weight\n",
       "0   -0.370839  False -1.426270          0.668533   1.495812\n",
       "1    1.956810  False  1.876996          0.017484  57.195309\n",
       "2   -0.382916  False -1.248201          0.673950   1.483791\n",
       "3    0.924422  False  1.606464          0.126667   7.894687\n",
       "4    0.789872  False  1.731581          0.160123   6.245181\n",
       "..        ...    ...       ...               ...        ...\n",
       "995  1.518796  False  2.492069          0.041540  24.073284\n",
       "996  1.617724  False  3.848876          0.034233  29.211278\n",
       "997  1.956810  False  1.876996          0.017484  57.195309\n",
       "998 -0.185325  False -0.376236          0.580432   1.722855\n",
       "999  0.177932  False  0.086486          0.398028   2.512383\n",
       "\n",
       "[1000 rows x 5 columns]"
      ]
     },
     "execution_count": 6,
     "metadata": {},
     "output_type": "execute_result"
    }
   ],
   "source": [
    "cdf_0"
   ]
  },
  {
   "cell_type": "code",
   "execution_count": 7,
   "metadata": {
    "execution": {
     "iopub.execute_input": "2022-09-14T19:25:35.959876Z",
     "iopub.status.busy": "2022-09-14T19:25:35.959369Z",
     "iopub.status.idle": "2022-09-14T19:25:35.971029Z",
     "shell.execute_reply": "2022-09-14T19:25:35.970302Z"
    }
   },
   "outputs": [
    {
     "data": {
      "text/html": [
       "<div>\n",
       "<style scoped>\n",
       "    .dataframe tbody tr th:only-of-type {\n",
       "        vertical-align: middle;\n",
       "    }\n",
       "\n",
       "    .dataframe tbody tr th {\n",
       "        vertical-align: top;\n",
       "    }\n",
       "\n",
       "    .dataframe thead th {\n",
       "        text-align: right;\n",
       "    }\n",
       "</style>\n",
       "<table border=\"1\" class=\"dataframe\">\n",
       "  <thead>\n",
       "    <tr style=\"text-align: right;\">\n",
       "      <th></th>\n",
       "      <th>W0</th>\n",
       "      <th>v0</th>\n",
       "      <th>y</th>\n",
       "      <th>propensity_score</th>\n",
       "      <th>weight</th>\n",
       "    </tr>\n",
       "  </thead>\n",
       "  <tbody>\n",
       "    <tr>\n",
       "      <th>0</th>\n",
       "      <td>-0.592847</td>\n",
       "      <td>True</td>\n",
       "      <td>3.291838</td>\n",
       "      <td>0.239989</td>\n",
       "      <td>4.166851</td>\n",
       "    </tr>\n",
       "    <tr>\n",
       "      <th>1</th>\n",
       "      <td>1.404890</td>\n",
       "      <td>True</td>\n",
       "      <td>4.027509</td>\n",
       "      <td>0.948201</td>\n",
       "      <td>1.054629</td>\n",
       "    </tr>\n",
       "    <tr>\n",
       "      <th>2</th>\n",
       "      <td>0.727954</td>\n",
       "      <td>True</td>\n",
       "      <td>5.849403</td>\n",
       "      <td>0.822222</td>\n",
       "      <td>1.216216</td>\n",
       "    </tr>\n",
       "    <tr>\n",
       "      <th>3</th>\n",
       "      <td>-0.582116</td>\n",
       "      <td>True</td>\n",
       "      <td>4.759021</td>\n",
       "      <td>0.243990</td>\n",
       "      <td>4.098536</td>\n",
       "    </tr>\n",
       "    <tr>\n",
       "      <th>4</th>\n",
       "      <td>-0.085492</td>\n",
       "      <td>True</td>\n",
       "      <td>4.919241</td>\n",
       "      <td>0.469623</td>\n",
       "      <td>2.129369</td>\n",
       "    </tr>\n",
       "    <tr>\n",
       "      <th>...</th>\n",
       "      <td>...</td>\n",
       "      <td>...</td>\n",
       "      <td>...</td>\n",
       "      <td>...</td>\n",
       "      <td>...</td>\n",
       "    </tr>\n",
       "    <tr>\n",
       "      <th>995</th>\n",
       "      <td>0.064974</td>\n",
       "      <td>True</td>\n",
       "      <td>4.467355</td>\n",
       "      <td>0.545902</td>\n",
       "      <td>1.831831</td>\n",
       "    </tr>\n",
       "    <tr>\n",
       "      <th>996</th>\n",
       "      <td>0.821375</td>\n",
       "      <td>True</td>\n",
       "      <td>3.852592</td>\n",
       "      <td>0.848300</td>\n",
       "      <td>1.178828</td>\n",
       "    </tr>\n",
       "    <tr>\n",
       "      <th>997</th>\n",
       "      <td>1.791186</td>\n",
       "      <td>True</td>\n",
       "      <td>6.668863</td>\n",
       "      <td>0.975690</td>\n",
       "      <td>1.024916</td>\n",
       "    </tr>\n",
       "    <tr>\n",
       "      <th>998</th>\n",
       "      <td>-0.507771</td>\n",
       "      <td>True</td>\n",
       "      <td>3.795654</td>\n",
       "      <td>0.272923</td>\n",
       "      <td>3.664033</td>\n",
       "    </tr>\n",
       "    <tr>\n",
       "      <th>999</th>\n",
       "      <td>0.393533</td>\n",
       "      <td>True</td>\n",
       "      <td>5.167014</td>\n",
       "      <td>0.700954</td>\n",
       "      <td>1.426627</td>\n",
       "    </tr>\n",
       "  </tbody>\n",
       "</table>\n",
       "<p>1000 rows × 5 columns</p>\n",
       "</div>"
      ],
      "text/plain": [
       "           W0    v0         y  propensity_score    weight\n",
       "0   -0.592847  True  3.291838          0.239989  4.166851\n",
       "1    1.404890  True  4.027509          0.948201  1.054629\n",
       "2    0.727954  True  5.849403          0.822222  1.216216\n",
       "3   -0.582116  True  4.759021          0.243990  4.098536\n",
       "4   -0.085492  True  4.919241          0.469623  2.129369\n",
       "..        ...   ...       ...               ...       ...\n",
       "995  0.064974  True  4.467355          0.545902  1.831831\n",
       "996  0.821375  True  3.852592          0.848300  1.178828\n",
       "997  1.791186  True  6.668863          0.975690  1.024916\n",
       "998 -0.507771  True  3.795654          0.272923  3.664033\n",
       "999  0.393533  True  5.167014          0.700954  1.426627\n",
       "\n",
       "[1000 rows x 5 columns]"
      ]
     },
     "execution_count": 7,
     "metadata": {},
     "output_type": "execute_result"
    }
   ],
   "source": [
    "cdf_1"
   ]
  },
  {
   "cell_type": "markdown",
   "metadata": {},
   "source": [
    "## Comparing the estimate to Linear Regression\n",
    "First, estimating the effect using the causal data frame, and the 95% confidence interval."
   ]
  },
  {
   "cell_type": "code",
   "execution_count": 8,
   "metadata": {
    "execution": {
     "iopub.execute_input": "2022-09-14T19:25:35.975874Z",
     "iopub.status.busy": "2022-09-14T19:25:35.975259Z",
     "iopub.status.idle": "2022-09-14T19:25:36.088553Z",
     "shell.execute_reply": "2022-09-14T19:25:36.087672Z"
    }
   },
   "outputs": [
    {
     "data": {
      "image/png": "[encoded data removed]",
      "text/latex": [
       "$\\displaystyle 5.39681422096609$"
      ],
      "text/plain": [
       "5.396814220966087"
      ]
     },
     "execution_count": 8,
     "metadata": {},
     "output_type": "execute_result"
    }
   ],
   "source": [
    "(cdf_1['y'] - cdf_0['y']).mean()"
   ]
  },
  {
   "cell_type": "code",
   "execution_count": 9,
   "metadata": {
    "execution": {
     "iopub.execute_input": "2022-09-14T19:25:36.093106Z",
     "iopub.status.busy": "2022-09-14T19:25:36.092576Z",
     "iopub.status.idle": "2022-09-14T19:25:36.121024Z",
     "shell.execute_reply": "2022-09-14T19:25:36.120179Z"
    }
   },
   "outputs": [
    {
     "data": {
      "image/png": "[encoded data removed]",
      "text/latex": [
       "$\\displaystyle 0.134680784526509$"
      ],
      "text/plain": [
       "0.13468078452650906"
      ]
     },
     "execution_count": 9,
     "metadata": {},
     "output_type": "execute_result"
    }
   ],
   "source": [
    "1.96*(cdf_1['y'] - cdf_0['y']).std() / np.sqrt(len(df))"
   ]
  },
  {
   "cell_type": "markdown",
   "metadata": {},
   "source": [
    "Comparing to the estimate from OLS."
   ]
  },
  {
   "cell_type": "code",
   "execution_count": 10,
   "metadata": {
    "execution": {
     "iopub.execute_input": "2022-09-14T19:25:36.125093Z",
     "iopub.status.busy": "2022-09-14T19:25:36.124594Z",
     "iopub.status.idle": "2022-09-14T19:25:36.142923Z",
     "shell.execute_reply": "2022-09-14T19:25:36.142130Z"
    }
   },
   "outputs": [
    {
     "data": {
      "text/html": [
       "<table class=\"simpletable\">\n",
       "<caption>OLS Regression Results</caption>\n",
       "<tr>\n",
       "  <th>Dep. Variable:</th>            <td>y</td>        <th>  R-squared (uncentered):</th>      <td>   0.966</td> \n",
       "</tr>\n",
       "<tr>\n",
       "  <th>Model:</th>                   <td>OLS</td>       <th>  Adj. R-squared (uncentered):</th> <td>   0.966</td> \n",
       "</tr>\n",
       "<tr>\n",
       "  <th>Method:</th>             <td>Least Squares</td>  <th>  F-statistic:       </th>          <td>1.407e+04</td>\n",
       "</tr>\n",
       "<tr>\n",
       "  <th>Date:</th>             <td>Wed, 14 Sep 2022</td> <th>  Prob (F-statistic):</th>           <td>  0.00</td>  \n",
       "</tr>\n",
       "<tr>\n",
       "  <th>Time:</th>                 <td>19:25:36</td>     <th>  Log-Likelihood:    </th>          <td> -1439.7</td> \n",
       "</tr>\n",
       "<tr>\n",
       "  <th>No. Observations:</th>      <td>  1000</td>      <th>  AIC:               </th>          <td>   2883.</td> \n",
       "</tr>\n",
       "<tr>\n",
       "  <th>Df Residuals:</th>          <td>   998</td>      <th>  BIC:               </th>          <td>   2893.</td> \n",
       "</tr>\n",
       "<tr>\n",
       "  <th>Df Model:</th>              <td>     2</td>      <th>                     </th>              <td> </td>    \n",
       "</tr>\n",
       "<tr>\n",
       "  <th>Covariance Type:</th>      <td>nonrobust</td>    <th>                     </th>              <td> </td>    \n",
       "</tr>\n",
       "</table>\n",
       "<table class=\"simpletable\">\n",
       "<tr>\n",
       "   <td></td>     <th>coef</th>     <th>std err</th>      <th>t</th>      <th>P>|t|</th>  <th>[0.025</th>    <th>0.975]</th>  \n",
       "</tr>\n",
       "<tr>\n",
       "  <th>x1</th> <td>    1.2791</td> <td>    0.039</td> <td>   32.390</td> <td> 0.000</td> <td>    1.202</td> <td>    1.357</td>\n",
       "</tr>\n",
       "<tr>\n",
       "  <th>x2</th> <td>    5.0288</td> <td>    0.056</td> <td>   89.202</td> <td> 0.000</td> <td>    4.918</td> <td>    5.139</td>\n",
       "</tr>\n",
       "</table>\n",
       "<table class=\"simpletable\">\n",
       "<tr>\n",
       "  <th>Omnibus:</th>       <td> 3.317</td> <th>  Durbin-Watson:     </th> <td>   1.975</td>\n",
       "</tr>\n",
       "<tr>\n",
       "  <th>Prob(Omnibus):</th> <td> 0.190</td> <th>  Jarque-Bera (JB):  </th> <td>   3.386</td>\n",
       "</tr>\n",
       "<tr>\n",
       "  <th>Skew:</th>          <td> 0.130</td> <th>  Prob(JB):          </th> <td>   0.184</td>\n",
       "</tr>\n",
       "<tr>\n",
       "  <th>Kurtosis:</th>      <td> 2.884</td> <th>  Cond. No.          </th> <td>    2.74</td>\n",
       "</tr>\n",
       "</table><br/><br/>Notes:<br/>[1] R² is computed without centering (uncentered) since the model does not contain a constant.<br/>[2] Standard Errors assume that the covariance matrix of the errors is correctly specified."
      ],
      "text/plain": [
       "<class 'statsmodels.iolib.summary.Summary'>\n",
       "\"\"\"\n",
       "                                 OLS Regression Results                                \n",
       "=======================================================================================\n",
       "Dep. Variable:                      y   R-squared (uncentered):                   0.966\n",
       "Model:                            OLS   Adj. R-squared (uncentered):              0.966\n",
       "Method:                 Least Squares   F-statistic:                          1.407e+04\n",
       "Date:                Wed, 14 Sep 2022   Prob (F-statistic):                        0.00\n",
       "Time:                        19:25:36   Log-Likelihood:                         -1439.7\n",
       "No. Observations:                1000   AIC:                                      2883.\n",
       "Df Residuals:                     998   BIC:                                      2893.\n",
       "Df Model:                           2                                                  \n",
       "Covariance Type:            nonrobust                                                  \n",
       "==============================================================================\n",
       "                 coef    std err          t      P>|t|      [0.025      0.975]\n",
       "------------------------------------------------------------------------------\n",
       "x1             1.2791      0.039     32.390      0.000       1.202       1.357\n",
       "x2             5.0288      0.056     89.202      0.000       4.918       5.139\n",
       "==============================================================================\n",
       "Omnibus:                        3.317   Durbin-Watson:                   1.975\n",
       "Prob(Omnibus):                  0.190   Jarque-Bera (JB):                3.386\n",
       "Skew:                           0.130   Prob(JB):                        0.184\n",
       "Kurtosis:                       2.884   Cond. No.                         2.74\n",
       "==============================================================================\n",
       "\n",
       "Notes:\n",
       "[1] R² is computed without centering (uncentered) since the model does not contain a constant.\n",
       "[2] Standard Errors assume that the covariance matrix of the errors is correctly specified.\n",
       "\"\"\""
      ]
     },
     "execution_count": 10,
     "metadata": {},
     "output_type": "execute_result"
    }
   ],
   "source": [
    "model = OLS(np.asarray(df[outcome]), np.asarray(df[[common_cause, treatment]], dtype=np.float64))\n",
    "result = model.fit()\n",
    "result.summary()"
   ]
  }
 ],
 "metadata": {
  "kernelspec": {
   "display_name": "Python 3",
   "language": "python",
   "name": "python3"
  },
  "language_info": {
   "codemirror_mode": {
    "name": "ipython",
    "version": 3
   },
   "file_extension": ".py",
   "mimetype": "text/x-python",
   "name": "python",
   "nbconvert_exporter": "python",
   "pygments_lexer": "ipython3",
   "version": "3.8.10"
  },
  "toc": {
   "base_numbering": 1,
   "nav_menu": {},
   "number_sections": false,
   "sideBar": true,
   "skip_h1_title": true,
   "title_cell": "Table of Contents",
   "title_sidebar": "Contents",
   "toc_cell": false,
   "toc_position": {},
   "toc_section_display": true,
   "toc_window_display": false
  }
 },
 "nbformat": 4,
 "nbformat_minor": 4
}
