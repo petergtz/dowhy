{
 "cells": [
  {
   "cell_type": "markdown",
   "metadata": {},
   "source": [
    "# DoWhy: Different estimation methods for causal inference\n",
    "This is a quick introduction to the DoWhy causal inference library.\n",
    "We will load in a sample dataset and use different methods for estimating the causal effect of a (pre-specified)treatment variable on a (pre-specified) outcome variable.\n",
    "\n",
    "We will see that not all estimators return the correct effect for this dataset.\n",
    "\n",
    "First, let us add the required path for Python to find the DoWhy code and load all required packages"
   ]
  },
  {
   "cell_type": "code",
   "execution_count": 1,
   "metadata": {
    "execution": {
     "iopub.execute_input": "2022-09-14T19:26:00.696737Z",
     "iopub.status.busy": "2022-09-14T19:26:00.696431Z",
     "iopub.status.idle": "2022-09-14T19:26:00.715136Z",
     "shell.execute_reply": "2022-09-14T19:26:00.714506Z"
    }
   },
   "outputs": [],
   "source": [
    "%load_ext autoreload\n",
    "%autoreload 2"
   ]
  },
  {
   "cell_type": "code",
   "execution_count": 2,
   "metadata": {
    "execution": {
     "iopub.execute_input": "2022-09-14T19:26:00.718825Z",
     "iopub.status.busy": "2022-09-14T19:26:00.718431Z",
     "iopub.status.idle": "2022-09-14T19:26:01.875410Z",
     "shell.execute_reply": "2022-09-14T19:26:01.874338Z"
    }
   },
   "outputs": [],
   "source": [
    "import numpy as np\n",
    "import pandas as pd\n",
    "import logging\n",
    "\n",
    "import dowhy\n",
    "from dowhy import CausalModel\n",
    "import dowhy.datasets "
   ]
  },
  {
   "cell_type": "markdown",
   "metadata": {},
   "source": [
    "Now, let us load a dataset. For simplicity, we simulate a dataset with linear relationships between common causes and treatment, and common causes and outcome. \n",
    "\n",
    "Beta is the true causal effect. "
   ]
  },
  {
   "cell_type": "code",
   "execution_count": 3,
   "metadata": {
    "execution": {
     "iopub.execute_input": "2022-09-14T19:26:01.880856Z",
     "iopub.status.busy": "2022-09-14T19:26:01.880228Z",
     "iopub.status.idle": "2022-09-14T19:26:02.203809Z",
     "shell.execute_reply": "2022-09-14T19:26:02.203038Z"
    }
   },
   "outputs": [
    {
     "data": {
      "text/html": [
       "<div>\n",
       "<style scoped>\n",
       "    .dataframe tbody tr th:only-of-type {\n",
       "        vertical-align: middle;\n",
       "    }\n",
       "\n",
       "    .dataframe tbody tr th {\n",
       "        vertical-align: top;\n",
       "    }\n",
       "\n",
       "    .dataframe thead th {\n",
       "        text-align: right;\n",
       "    }\n",
       "</style>\n",
       "<table border=\"1\" class=\"dataframe\">\n",
       "  <thead>\n",
       "    <tr style=\"text-align: right;\">\n",
       "      <th></th>\n",
       "      <th>Z0</th>\n",
       "      <th>Z1</th>\n",
       "      <th>W0</th>\n",
       "      <th>W1</th>\n",
       "      <th>W2</th>\n",
       "      <th>W3</th>\n",
       "      <th>W4</th>\n",
       "      <th>v0</th>\n",
       "      <th>y</th>\n",
       "    </tr>\n",
       "  </thead>\n",
       "  <tbody>\n",
       "    <tr>\n",
       "      <th>0</th>\n",
       "      <td>1.0</td>\n",
       "      <td>0.687986</td>\n",
       "      <td>1.633494</td>\n",
       "      <td>-1.250625</td>\n",
       "      <td>0.927178</td>\n",
       "      <td>-1.833909</td>\n",
       "      <td>-0.404578</td>\n",
       "      <td>True</td>\n",
       "      <td>5.498197</td>\n",
       "    </tr>\n",
       "    <tr>\n",
       "      <th>1</th>\n",
       "      <td>1.0</td>\n",
       "      <td>0.756570</td>\n",
       "      <td>0.398974</td>\n",
       "      <td>-1.389788</td>\n",
       "      <td>1.146683</td>\n",
       "      <td>-2.245861</td>\n",
       "      <td>-0.845968</td>\n",
       "      <td>True</td>\n",
       "      <td>1.782328</td>\n",
       "    </tr>\n",
       "    <tr>\n",
       "      <th>2</th>\n",
       "      <td>1.0</td>\n",
       "      <td>0.875724</td>\n",
       "      <td>-1.170325</td>\n",
       "      <td>-0.138730</td>\n",
       "      <td>2.203882</td>\n",
       "      <td>-0.030699</td>\n",
       "      <td>-1.603035</td>\n",
       "      <td>True</td>\n",
       "      <td>4.628401</td>\n",
       "    </tr>\n",
       "    <tr>\n",
       "      <th>3</th>\n",
       "      <td>0.0</td>\n",
       "      <td>0.924126</td>\n",
       "      <td>-0.951097</td>\n",
       "      <td>0.675440</td>\n",
       "      <td>0.480698</td>\n",
       "      <td>-0.861801</td>\n",
       "      <td>-2.738749</td>\n",
       "      <td>False</td>\n",
       "      <td>-12.592867</td>\n",
       "    </tr>\n",
       "    <tr>\n",
       "      <th>4</th>\n",
       "      <td>0.0</td>\n",
       "      <td>0.605515</td>\n",
       "      <td>-0.342407</td>\n",
       "      <td>1.448468</td>\n",
       "      <td>1.408716</td>\n",
       "      <td>-2.028318</td>\n",
       "      <td>-0.414919</td>\n",
       "      <td>True</td>\n",
       "      <td>13.333022</td>\n",
       "    </tr>\n",
       "    <tr>\n",
       "      <th>...</th>\n",
       "      <td>...</td>\n",
       "      <td>...</td>\n",
       "      <td>...</td>\n",
       "      <td>...</td>\n",
       "      <td>...</td>\n",
       "      <td>...</td>\n",
       "      <td>...</td>\n",
       "      <td>...</td>\n",
       "      <td>...</td>\n",
       "    </tr>\n",
       "    <tr>\n",
       "      <th>9995</th>\n",
       "      <td>0.0</td>\n",
       "      <td>0.056583</td>\n",
       "      <td>-0.011412</td>\n",
       "      <td>-3.570399</td>\n",
       "      <td>1.246381</td>\n",
       "      <td>-0.298294</td>\n",
       "      <td>-2.293432</td>\n",
       "      <td>False</td>\n",
       "      <td>-21.295866</td>\n",
       "    </tr>\n",
       "    <tr>\n",
       "      <th>9996</th>\n",
       "      <td>1.0</td>\n",
       "      <td>0.504050</td>\n",
       "      <td>-0.747385</td>\n",
       "      <td>-0.053360</td>\n",
       "      <td>0.117537</td>\n",
       "      <td>-1.425899</td>\n",
       "      <td>-1.864726</td>\n",
       "      <td>False</td>\n",
       "      <td>-11.462042</td>\n",
       "    </tr>\n",
       "    <tr>\n",
       "      <th>9997</th>\n",
       "      <td>1.0</td>\n",
       "      <td>0.904261</td>\n",
       "      <td>0.228929</td>\n",
       "      <td>-1.418597</td>\n",
       "      <td>0.218014</td>\n",
       "      <td>-0.802668</td>\n",
       "      <td>-0.169217</td>\n",
       "      <td>True</td>\n",
       "      <td>4.449252</td>\n",
       "    </tr>\n",
       "    <tr>\n",
       "      <th>9998</th>\n",
       "      <td>1.0</td>\n",
       "      <td>0.380770</td>\n",
       "      <td>-0.407239</td>\n",
       "      <td>0.672763</td>\n",
       "      <td>2.566541</td>\n",
       "      <td>-2.290793</td>\n",
       "      <td>0.009718</td>\n",
       "      <td>True</td>\n",
       "      <td>15.038049</td>\n",
       "    </tr>\n",
       "    <tr>\n",
       "      <th>9999</th>\n",
       "      <td>1.0</td>\n",
       "      <td>0.141680</td>\n",
       "      <td>-0.730638</td>\n",
       "      <td>0.052157</td>\n",
       "      <td>0.420813</td>\n",
       "      <td>-1.127148</td>\n",
       "      <td>-0.508346</td>\n",
       "      <td>True</td>\n",
       "      <td>6.775777</td>\n",
       "    </tr>\n",
       "  </tbody>\n",
       "</table>\n",
       "<p>10000 rows × 9 columns</p>\n",
       "</div>"
      ],
      "text/plain": [
       "       Z0        Z1        W0        W1        W2        W3        W4     v0  \\\n",
       "0     1.0  0.687986  1.633494 -1.250625  0.927178 -1.833909 -0.404578   True   \n",
       "1     1.0  0.756570  0.398974 -1.389788  1.146683 -2.245861 -0.845968   True   \n",
       "2     1.0  0.875724 -1.170325 -0.138730  2.203882 -0.030699 -1.603035   True   \n",
       "3     0.0  0.924126 -0.951097  0.675440  0.480698 -0.861801 -2.738749  False   \n",
       "4     0.0  0.605515 -0.342407  1.448468  1.408716 -2.028318 -0.414919   True   \n",
       "...   ...       ...       ...       ...       ...       ...       ...    ...   \n",
       "9995  0.0  0.056583 -0.011412 -3.570399  1.246381 -0.298294 -2.293432  False   \n",
       "9996  1.0  0.504050 -0.747385 -0.053360  0.117537 -1.425899 -1.864726  False   \n",
       "9997  1.0  0.904261  0.228929 -1.418597  0.218014 -0.802668 -0.169217   True   \n",
       "9998  1.0  0.380770 -0.407239  0.672763  2.566541 -2.290793  0.009718   True   \n",
       "9999  1.0  0.141680 -0.730638  0.052157  0.420813 -1.127148 -0.508346   True   \n",
       "\n",
       "              y  \n",
       "0      5.498197  \n",
       "1      1.782328  \n",
       "2      4.628401  \n",
       "3    -12.592867  \n",
       "4     13.333022  \n",
       "...         ...  \n",
       "9995 -21.295866  \n",
       "9996 -11.462042  \n",
       "9997   4.449252  \n",
       "9998  15.038049  \n",
       "9999   6.775777  \n",
       "\n",
       "[10000 rows x 9 columns]"
      ]
     },
     "execution_count": 3,
     "metadata": {},
     "output_type": "execute_result"
    }
   ],
   "source": [
    "data = dowhy.datasets.linear_dataset(beta=10,\n",
    "        num_common_causes=5, \n",
    "        num_instruments = 2,\n",
    "        num_treatments=1,\n",
    "        num_samples=10000,\n",
    "        treatment_is_binary=True,\n",
    "        outcome_is_binary=False,\n",
    "        stddev_treatment_noise=10)\n",
    "df = data[\"df\"]\n",
    "df"
   ]
  },
  {
   "cell_type": "markdown",
   "metadata": {},
   "source": [
    "Note that we are using a pandas dataframe to load the data."
   ]
  },
  {
   "cell_type": "markdown",
   "metadata": {},
   "source": [
    "## Identifying the causal estimand"
   ]
  },
  {
   "cell_type": "markdown",
   "metadata": {},
   "source": [
    "We now input a causal graph in the DOT graph format."
   ]
  },
  {
   "cell_type": "code",
   "execution_count": 4,
   "metadata": {
    "execution": {
     "iopub.execute_input": "2022-09-14T19:26:02.208010Z",
     "iopub.status.busy": "2022-09-14T19:26:02.207740Z",
     "iopub.status.idle": "2022-09-14T19:26:02.236868Z",
     "shell.execute_reply": "2022-09-14T19:26:02.236160Z"
    }
   },
   "outputs": [],
   "source": [
    "# With graph\n",
    "model=CausalModel(\n",
    "        data = df,\n",
    "        treatment=data[\"treatment_name\"],\n",
    "        outcome=data[\"outcome_name\"],\n",
    "        graph=data[\"gml_graph\"],\n",
    "        instruments=data[\"instrument_names\"]\n",
    "        )"
   ]
  },
  {
   "cell_type": "code",
   "execution_count": 5,
   "metadata": {
    "execution": {
     "iopub.execute_input": "2022-09-14T19:26:02.240580Z",
     "iopub.status.busy": "2022-09-14T19:26:02.240304Z",
     "iopub.status.idle": "2022-09-14T19:26:02.301571Z",
     "shell.execute_reply": "2022-09-14T19:26:02.300813Z"
    }
   },
   "outputs": [],
   "source": [
    "model.view_model()"
   ]
  },
  {
   "cell_type": "code",
   "execution_count": 6,
   "metadata": {
    "execution": {
     "iopub.execute_input": "2022-09-14T19:26:02.306373Z",
     "iopub.status.busy": "2022-09-14T19:26:02.305025Z",
     "iopub.status.idle": "2022-09-14T19:26:02.334813Z",
     "shell.execute_reply": "2022-09-14T19:26:02.334200Z"
    }
   },
   "outputs": [
    {
     "data": {
      "image/png": "[encoded data removed]",
      "text/plain": [
       "<IPython.core.display.Image object>"
      ]
     },
     "metadata": {},
     "output_type": "display_data"
    }
   ],
   "source": [
    "from IPython.display import Image, display\n",
    "display(Image(filename=\"causal_model.png\"))"
   ]
  },
  {
   "cell_type": "markdown",
   "metadata": {},
   "source": [
    "We get a causal graph. Now identification and estimation is done. "
   ]
  },
  {
   "cell_type": "code",
   "execution_count": 7,
   "metadata": {
    "execution": {
     "iopub.execute_input": "2022-09-14T19:26:02.338469Z",
     "iopub.status.busy": "2022-09-14T19:26:02.338192Z",
     "iopub.status.idle": "2022-09-14T19:26:02.596319Z",
     "shell.execute_reply": "2022-09-14T19:26:02.595363Z"
    }
   },
   "outputs": [
    {
     "name": "stdout",
     "output_type": "stream",
     "text": [
      "Estimand type: nonparametric-ate\n",
      "\n",
      "### Estimand : 1\n",
      "Estimand name: backdoor\n",
      "Estimand expression:\n",
      "  d                       \n",
      "─────(E[y|W4,W3,W0,W1,W2])\n",
      "d[v₀]                     \n",
      "Estimand assumption 1, Unconfoundedness: If U→{v0} and U→y then P(y|v0,W4,W3,W0,W1,W2,U) = P(y|v0,W4,W3,W0,W1,W2)\n",
      "\n",
      "### Estimand : 2\n",
      "Estimand name: iv\n",
      "Estimand expression:\n",
      " ⎡                              -1⎤\n",
      " ⎢    d        ⎛    d          ⎞  ⎥\n",
      "E⎢─────────(y)⋅⎜─────────([v₀])⎟  ⎥\n",
      " ⎣d[Z₁  Z₀]    ⎝d[Z₁  Z₀]      ⎠  ⎦\n",
      "Estimand assumption 1, As-if-random: If U→→y then ¬(U →→{Z1,Z0})\n",
      "Estimand assumption 2, Exclusion: If we remove {Z1,Z0}→{v0}, then ¬({Z1,Z0}→y)\n",
      "\n",
      "### Estimand : 3\n",
      "Estimand name: frontdoor\n",
      "No such variable(s) found!\n",
      "\n"
     ]
    }
   ],
   "source": [
    "identified_estimand = model.identify_effect(proceed_when_unidentifiable=True)\n",
    "print(identified_estimand)"
   ]
  },
  {
   "cell_type": "markdown",
   "metadata": {},
   "source": [
    "## Method 1: Regression\n",
    "\n",
    "Use linear regression."
   ]
  },
  {
   "cell_type": "code",
   "execution_count": 8,
   "metadata": {
    "execution": {
     "iopub.execute_input": "2022-09-14T19:26:02.600248Z",
     "iopub.status.busy": "2022-09-14T19:26:02.599811Z",
     "iopub.status.idle": "2022-09-14T19:26:02.920436Z",
     "shell.execute_reply": "2022-09-14T19:26:02.919620Z"
    }
   },
   "outputs": [
    {
     "name": "stdout",
     "output_type": "stream",
     "text": [
      "*** Causal Estimate ***\n",
      "\n",
      "## Identified estimand\n",
      "Estimand type: nonparametric-ate\n",
      "\n",
      "### Estimand : 1\n",
      "Estimand name: backdoor\n",
      "Estimand expression:\n",
      "  d                       \n",
      "─────(E[y|W4,W3,W0,W1,W2])\n",
      "d[v₀]                     \n",
      "Estimand assumption 1, Unconfoundedness: If U→{v0} and U→y then P(y|v0,W4,W3,W0,W1,W2,U) = P(y|v0,W4,W3,W0,W1,W2)\n",
      "\n",
      "## Realized estimand\n",
      "b: y~v0+W4+W3+W0+W1+W2\n",
      "Target units: ate\n",
      "\n",
      "## Estimate\n",
      "Mean value: 10.00004796011746\n",
      "p-value: [0.]\n",
      "\n",
      "Causal Estimate is 10.00004796011746\n"
     ]
    }
   ],
   "source": [
    "causal_estimate_reg = model.estimate_effect(identified_estimand,\n",
    "        method_name=\"backdoor.linear_regression\",\n",
    "        test_significance=True)\n",
    "print(causal_estimate_reg)\n",
    "print(\"Causal Estimate is \" + str(causal_estimate_reg.value))"
   ]
  },
  {
   "cell_type": "markdown",
   "metadata": {},
   "source": [
    "## Method 2: Distance Matching\n",
    "\n",
    "Define a distance metric and then use the metric to match closest points between treatment and control."
   ]
  },
  {
   "cell_type": "code",
   "execution_count": 9,
   "metadata": {
    "execution": {
     "iopub.execute_input": "2022-09-14T19:26:02.924113Z",
     "iopub.status.busy": "2022-09-14T19:26:02.923721Z",
     "iopub.status.idle": "2022-09-14T19:26:05.468111Z",
     "shell.execute_reply": "2022-09-14T19:26:05.467266Z"
    }
   },
   "outputs": [
    {
     "name": "stdout",
     "output_type": "stream",
     "text": [
      "*** Causal Estimate ***\n",
      "\n",
      "## Identified estimand\n",
      "Estimand type: nonparametric-ate\n",
      "\n",
      "### Estimand : 1\n",
      "Estimand name: backdoor\n",
      "Estimand expression:\n",
      "  d                       \n",
      "─────(E[y|W4,W3,W0,W1,W2])\n",
      "d[v₀]                     \n",
      "Estimand assumption 1, Unconfoundedness: If U→{v0} and U→y then P(y|v0,W4,W3,W0,W1,W2,U) = P(y|v0,W4,W3,W0,W1,W2)\n",
      "\n",
      "## Realized estimand\n",
      "b: y~v0+W4+W3+W0+W1+W2\n",
      "Target units: att\n",
      "\n",
      "## Estimate\n",
      "Mean value: 10.500365546485488\n",
      "\n",
      "Causal Estimate is 10.500365546485488\n"
     ]
    }
   ],
   "source": [
    "causal_estimate_dmatch = model.estimate_effect(identified_estimand,\n",
    "                                              method_name=\"backdoor.distance_matching\",\n",
    "                                              target_units=\"att\",\n",
    "                                              method_params={'distance_metric':\"minkowski\", 'p':2})\n",
    "print(causal_estimate_dmatch)\n",
    "print(\"Causal Estimate is \" + str(causal_estimate_dmatch.value))"
   ]
  },
  {
   "cell_type": "markdown",
   "metadata": {},
   "source": [
    "## Method 3: Propensity Score Stratification\n",
    "\n",
    "We will be using propensity scores to stratify units in the data."
   ]
  },
  {
   "cell_type": "code",
   "execution_count": 10,
   "metadata": {
    "execution": {
     "iopub.execute_input": "2022-09-14T19:26:05.472411Z",
     "iopub.status.busy": "2022-09-14T19:26:05.471847Z",
     "iopub.status.idle": "2022-09-14T19:26:06.081574Z",
     "shell.execute_reply": "2022-09-14T19:26:06.080763Z"
    }
   },
   "outputs": [
    {
     "name": "stdout",
     "output_type": "stream",
     "text": [
      "*** Causal Estimate ***\n",
      "\n",
      "## Identified estimand\n",
      "Estimand type: nonparametric-ate\n",
      "\n",
      "### Estimand : 1\n",
      "Estimand name: backdoor\n",
      "Estimand expression:\n",
      "  d                       \n",
      "─────(E[y|W4,W3,W0,W1,W2])\n",
      "d[v₀]                     \n",
      "Estimand assumption 1, Unconfoundedness: If U→{v0} and U→y then P(y|v0,W4,W3,W0,W1,W2,U) = P(y|v0,W4,W3,W0,W1,W2)\n",
      "\n",
      "## Realized estimand\n",
      "b: y~v0+W4+W3+W0+W1+W2\n",
      "Target units: att\n",
      "\n",
      "## Estimate\n",
      "Mean value: 10.091725925183123\n",
      "\n",
      "Causal Estimate is 10.091725925183123\n"
     ]
    }
   ],
   "source": [
    "causal_estimate_strat = model.estimate_effect(identified_estimand,\n",
    "                                              method_name=\"backdoor.propensity_score_stratification\",\n",
    "                                              target_units=\"att\")\n",
    "print(causal_estimate_strat)\n",
    "print(\"Causal Estimate is \" + str(causal_estimate_strat.value))"
   ]
  },
  {
   "cell_type": "markdown",
   "metadata": {},
   "source": [
    "## Method 4: Propensity Score Matching\n",
    "\n",
    "We will be using propensity scores to match units in the data."
   ]
  },
  {
   "cell_type": "code",
   "execution_count": 11,
   "metadata": {
    "execution": {
     "iopub.execute_input": "2022-09-14T19:26:06.085880Z",
     "iopub.status.busy": "2022-09-14T19:26:06.085123Z",
     "iopub.status.idle": "2022-09-14T19:26:09.034462Z",
     "shell.execute_reply": "2022-09-14T19:26:09.033876Z"
    }
   },
   "outputs": [
    {
     "name": "stdout",
     "output_type": "stream",
     "text": [
      "*** Causal Estimate ***\n",
      "\n",
      "## Identified estimand\n",
      "Estimand type: nonparametric-ate\n",
      "\n",
      "### Estimand : 1\n",
      "Estimand name: backdoor\n",
      "Estimand expression:\n",
      "  d                       \n",
      "─────(E[y|W4,W3,W0,W1,W2])\n",
      "d[v₀]                     \n",
      "Estimand assumption 1, Unconfoundedness: If U→{v0} and U→y then P(y|v0,W4,W3,W0,W1,W2,U) = P(y|v0,W4,W3,W0,W1,W2)\n",
      "\n",
      "## Realized estimand\n",
      "b: y~v0+W4+W3+W0+W1+W2\n",
      "Target units: atc\n",
      "\n",
      "## Estimate\n",
      "Mean value: 9.850957370560343\n",
      "\n",
      "Causal Estimate is 9.850957370560343\n"
     ]
    }
   ],
   "source": [
    "causal_estimate_match = model.estimate_effect(identified_estimand,\n",
    "                                              method_name=\"backdoor.propensity_score_matching\",\n",
    "                                              target_units=\"atc\")\n",
    "print(causal_estimate_match)\n",
    "print(\"Causal Estimate is \" + str(causal_estimate_match.value))"
   ]
  },
  {
   "cell_type": "markdown",
   "metadata": {},
   "source": [
    "## Method 5: Weighting\n",
    "\n",
    "We will be using (inverse) propensity scores to assign weights to units in the data. DoWhy supports a few different weighting schemes:\n",
    "1. Vanilla Inverse Propensity Score weighting (IPS) (weighting_scheme=\"ips_weight\")\n",
    "2. Self-normalized IPS weighting (also known as the Hajek estimator) (weighting_scheme=\"ips_normalized_weight\")\n",
    "3. Stabilized IPS weighting (weighting_scheme = \"ips_stabilized_weight\")"
   ]
  },
  {
   "cell_type": "code",
   "execution_count": 12,
   "metadata": {
    "execution": {
     "iopub.execute_input": "2022-09-14T19:26:09.038143Z",
     "iopub.status.busy": "2022-09-14T19:26:09.037682Z",
     "iopub.status.idle": "2022-09-14T19:26:09.104356Z",
     "shell.execute_reply": "2022-09-14T19:26:09.103605Z"
    }
   },
   "outputs": [
    {
     "name": "stdout",
     "output_type": "stream",
     "text": [
      "*** Causal Estimate ***\n",
      "\n",
      "## Identified estimand\n",
      "Estimand type: nonparametric-ate\n",
      "\n",
      "### Estimand : 1\n",
      "Estimand name: backdoor\n",
      "Estimand expression:\n",
      "  d                       \n",
      "─────(E[y|W4,W3,W0,W1,W2])\n",
      "d[v₀]                     \n",
      "Estimand assumption 1, Unconfoundedness: If U→{v0} and U→y then P(y|v0,W4,W3,W0,W1,W2,U) = P(y|v0,W4,W3,W0,W1,W2)\n",
      "\n",
      "## Realized estimand\n",
      "b: y~v0+W4+W3+W0+W1+W2\n",
      "Target units: ate\n",
      "\n",
      "## Estimate\n",
      "Mean value: 10.184880436277249\n",
      "\n",
      "Causal Estimate is 10.184880436277249\n"
     ]
    }
   ],
   "source": [
    "causal_estimate_ipw = model.estimate_effect(identified_estimand,\n",
    "                                            method_name=\"backdoor.propensity_score_weighting\",\n",
    "                                            target_units = \"ate\",\n",
    "                                            method_params={\"weighting_scheme\":\"ips_weight\"})\n",
    "print(causal_estimate_ipw)\n",
    "print(\"Causal Estimate is \" + str(causal_estimate_ipw.value))"
   ]
  },
  {
   "cell_type": "markdown",
   "metadata": {},
   "source": [
    "## Method 6: Instrumental Variable\n",
    "\n",
    "We will be using the Wald estimator for the provided instrumental variable."
   ]
  },
  {
   "cell_type": "code",
   "execution_count": 13,
   "metadata": {
    "execution": {
     "iopub.execute_input": "2022-09-14T19:26:09.107836Z",
     "iopub.status.busy": "2022-09-14T19:26:09.107464Z",
     "iopub.status.idle": "2022-09-14T19:26:09.161644Z",
     "shell.execute_reply": "2022-09-14T19:26:09.161009Z"
    },
    "scrolled": true
   },
   "outputs": [
    {
     "name": "stdout",
     "output_type": "stream",
     "text": [
      "*** Causal Estimate ***\n",
      "\n",
      "## Identified estimand\n",
      "Estimand type: nonparametric-ate\n",
      "\n",
      "### Estimand : 1\n",
      "Estimand name: iv\n",
      "Estimand expression:\n",
      " ⎡                              -1⎤\n",
      " ⎢    d        ⎛    d          ⎞  ⎥\n",
      "E⎢─────────(y)⋅⎜─────────([v₀])⎟  ⎥\n",
      " ⎣d[Z₁  Z₀]    ⎝d[Z₁  Z₀]      ⎠  ⎦\n",
      "Estimand assumption 1, As-if-random: If U→→y then ¬(U →→{Z1,Z0})\n",
      "Estimand assumption 2, Exclusion: If we remove {Z1,Z0}→{v0}, then ¬({Z1,Z0}→y)\n",
      "\n",
      "## Realized estimand\n",
      "Realized estimand: Wald Estimator\n",
      "Realized estimand type: nonparametric-ate\n",
      "Estimand expression:\n",
      " ⎡ d    ⎤  -1⎡ d     ⎤\n",
      "E⎢───(y)⎥⋅E  ⎢───(v₀)⎥\n",
      " ⎣dZ₀   ⎦    ⎣dZ₀    ⎦\n",
      "Estimand assumption 1, As-if-random: If U→→y then ¬(U →→{Z1,Z0})\n",
      "Estimand assumption 2, Exclusion: If we remove {Z1,Z0}→{v0}, then ¬({Z1,Z0}→y)\n",
      "Estimand assumption 3, treatment_effect_homogeneity: Each unit's treatment ['v0'] is affected in the same way by common causes of ['v0'] and y\n",
      "Estimand assumption 4, outcome_effect_homogeneity: Each unit's outcome y is affected in the same way by common causes of ['v0'] and y\n",
      "\n",
      "Target units: ate\n",
      "\n",
      "## Estimate\n",
      "Mean value: 10.253272548814012\n",
      "\n",
      "Causal Estimate is 10.253272548814012\n"
     ]
    }
   ],
   "source": [
    "causal_estimate_iv = model.estimate_effect(identified_estimand,\n",
    "        method_name=\"iv.instrumental_variable\", method_params = {'iv_instrument_name': 'Z0'})\n",
    "print(causal_estimate_iv)\n",
    "print(\"Causal Estimate is \" + str(causal_estimate_iv.value))"
   ]
  },
  {
   "cell_type": "markdown",
   "metadata": {},
   "source": [
    "## Method 7: Regression Discontinuity\n",
    "\n",
    "We will be internally converting this to an equivalent instrumental variables problem."
   ]
  },
  {
   "cell_type": "code",
   "execution_count": 14,
   "metadata": {
    "execution": {
     "iopub.execute_input": "2022-09-14T19:26:09.166594Z",
     "iopub.status.busy": "2022-09-14T19:26:09.165312Z",
     "iopub.status.idle": "2022-09-14T19:26:09.206230Z",
     "shell.execute_reply": "2022-09-14T19:26:09.205615Z"
    }
   },
   "outputs": [
    {
     "name": "stdout",
     "output_type": "stream",
     "text": [
      "*** Causal Estimate ***\n",
      "\n",
      "## Identified estimand\n",
      "Estimand type: nonparametric-ate\n",
      "\n",
      "### Estimand : 1\n",
      "Estimand name: iv\n",
      "Estimand expression:\n",
      " ⎡                              -1⎤\n",
      " ⎢    d        ⎛    d          ⎞  ⎥\n",
      "E⎢─────────(y)⋅⎜─────────([v₀])⎟  ⎥\n",
      " ⎣d[Z₁  Z₀]    ⎝d[Z₁  Z₀]      ⎠  ⎦\n",
      "Estimand assumption 1, As-if-random: If U→→y then ¬(U →→{Z1,Z0})\n",
      "Estimand assumption 2, Exclusion: If we remove {Z1,Z0}→{v0}, then ¬({Z1,Z0}→y)\n",
      "\n",
      "## Realized estimand\n",
      "Realized estimand: Wald Estimator\n",
      "Realized estimand type: nonparametric-ate\n",
      "Estimand expression:\n",
      " ⎡        d            ⎤  -1⎡        d             ⎤\n",
      "E⎢──────────────────(y)⎥⋅E  ⎢──────────────────(v₀)⎥\n",
      " ⎣dlocal_rd_variable   ⎦    ⎣dlocal_rd_variable    ⎦\n",
      "Estimand assumption 1, As-if-random: If U→→y then ¬(U →→{Z1,Z0})\n",
      "Estimand assumption 2, Exclusion: If we remove {Z1,Z0}→{v0}, then ¬({Z1,Z0}→y)\n",
      "Estimand assumption 3, treatment_effect_homogeneity: Each unit's treatment ['local_treatment'] is affected in the same way by common causes of ['local_treatment'] and local_outcome\n",
      "Estimand assumption 4, outcome_effect_homogeneity: Each unit's outcome local_outcome is affected in the same way by common causes of ['local_treatment'] and local_outcome\n",
      "\n",
      "Target units: ate\n",
      "\n",
      "## Estimate\n",
      "Mean value: -1.3421212407734997\n",
      "\n",
      "Causal Estimate is -1.3421212407734997\n"
     ]
    }
   ],
   "source": [
    "causal_estimate_regdist = model.estimate_effect(identified_estimand,\n",
    "        method_name=\"iv.regression_discontinuity\", \n",
    "        method_params={'rd_variable_name':'Z1',\n",
    "                       'rd_threshold_value':0.5,\n",
    "                       'rd_bandwidth': 0.15})\n",
    "print(causal_estimate_regdist)\n",
    "print(\"Causal Estimate is \" + str(causal_estimate_regdist.value))"
   ]
  }
 ],
 "metadata": {
  "kernelspec": {
   "display_name": "Python 3",
   "language": "python",
   "name": "python3"
  },
  "language_info": {
   "codemirror_mode": {
    "name": "ipython",
    "version": 3
   },
   "file_extension": ".py",
   "mimetype": "text/x-python",
   "name": "python",
   "nbconvert_exporter": "python",
   "pygments_lexer": "ipython3",
   "version": "3.8.10"
  },
  "toc": {
   "base_numbering": 1,
   "nav_menu": {},
   "number_sections": false,
   "sideBar": true,
   "skip_h1_title": true,
   "title_cell": "Table of Contents",
   "title_sidebar": "Contents",
   "toc_cell": false,
   "toc_position": {},
   "toc_section_display": true,
   "toc_window_display": false
  }
 },
 "nbformat": 4,
 "nbformat_minor": 4
}
