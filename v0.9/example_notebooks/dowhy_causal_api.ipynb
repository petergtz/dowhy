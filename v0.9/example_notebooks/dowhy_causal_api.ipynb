{
 "cells": [
  {
   "cell_type": "markdown",
   "metadata": {},
   "source": [
    "# Demo for the DoWhy causal API\n",
    "We show a simple example of adding a causal extension to any dataframe. "
   ]
  },
  {
   "cell_type": "code",
   "execution_count": 1,
   "metadata": {
    "execution": {
     "iopub.execute_input": "2022-12-06T09:38:53.469214Z",
     "iopub.status.busy": "2022-12-06T09:38:53.468955Z",
     "iopub.status.idle": "2022-12-06T09:38:55.334808Z",
     "shell.execute_reply": "2022-12-06T09:38:55.334165Z"
    }
   },
   "outputs": [],
   "source": [
    "import dowhy.datasets\n",
    "import dowhy.api\n",
    "\n",
    "import numpy as np\n",
    "import pandas as pd\n",
    "\n",
    "from statsmodels.api import OLS"
   ]
  },
  {
   "cell_type": "code",
   "execution_count": 2,
   "metadata": {
    "execution": {
     "iopub.execute_input": "2022-12-06T09:38:55.338302Z",
     "iopub.status.busy": "2022-12-06T09:38:55.337930Z",
     "iopub.status.idle": "2022-12-06T09:38:55.379036Z",
     "shell.execute_reply": "2022-12-06T09:38:55.378387Z"
    }
   },
   "outputs": [
    {
     "data": {
      "text/html": [
       "<div>\n",
       "<style scoped>\n",
       "    .dataframe tbody tr th:only-of-type {\n",
       "        vertical-align: middle;\n",
       "    }\n",
       "\n",
       "    .dataframe tbody tr th {\n",
       "        vertical-align: top;\n",
       "    }\n",
       "\n",
       "    .dataframe thead th {\n",
       "        text-align: right;\n",
       "    }\n",
       "</style>\n",
       "<table border=\"1\" class=\"dataframe\">\n",
       "  <thead>\n",
       "    <tr style=\"text-align: right;\">\n",
       "      <th></th>\n",
       "      <th>W0</th>\n",
       "      <th>v0</th>\n",
       "      <th>y</th>\n",
       "    </tr>\n",
       "  </thead>\n",
       "  <tbody>\n",
       "    <tr>\n",
       "      <th>0</th>\n",
       "      <td>0.615341</td>\n",
       "      <td>False</td>\n",
       "      <td>-0.216582</td>\n",
       "    </tr>\n",
       "    <tr>\n",
       "      <th>1</th>\n",
       "      <td>1.547448</td>\n",
       "      <td>True</td>\n",
       "      <td>3.791882</td>\n",
       "    </tr>\n",
       "    <tr>\n",
       "      <th>2</th>\n",
       "      <td>-1.220144</td>\n",
       "      <td>True</td>\n",
       "      <td>4.319986</td>\n",
       "    </tr>\n",
       "    <tr>\n",
       "      <th>3</th>\n",
       "      <td>-0.167506</td>\n",
       "      <td>True</td>\n",
       "      <td>6.049082</td>\n",
       "    </tr>\n",
       "    <tr>\n",
       "      <th>4</th>\n",
       "      <td>2.950866</td>\n",
       "      <td>True</td>\n",
       "      <td>4.455041</td>\n",
       "    </tr>\n",
       "    <tr>\n",
       "      <th>...</th>\n",
       "      <td>...</td>\n",
       "      <td>...</td>\n",
       "      <td>...</td>\n",
       "    </tr>\n",
       "    <tr>\n",
       "      <th>995</th>\n",
       "      <td>0.978907</td>\n",
       "      <td>True</td>\n",
       "      <td>6.964400</td>\n",
       "    </tr>\n",
       "    <tr>\n",
       "      <th>996</th>\n",
       "      <td>2.768105</td>\n",
       "      <td>True</td>\n",
       "      <td>4.851054</td>\n",
       "    </tr>\n",
       "    <tr>\n",
       "      <th>997</th>\n",
       "      <td>0.657292</td>\n",
       "      <td>True</td>\n",
       "      <td>7.053682</td>\n",
       "    </tr>\n",
       "    <tr>\n",
       "      <th>998</th>\n",
       "      <td>0.462598</td>\n",
       "      <td>False</td>\n",
       "      <td>0.075282</td>\n",
       "    </tr>\n",
       "    <tr>\n",
       "      <th>999</th>\n",
       "      <td>0.544589</td>\n",
       "      <td>True</td>\n",
       "      <td>3.206106</td>\n",
       "    </tr>\n",
       "  </tbody>\n",
       "</table>\n",
       "<p>1000 rows × 3 columns</p>\n",
       "</div>"
      ],
      "text/plain": [
       "           W0     v0         y\n",
       "0    0.615341  False -0.216582\n",
       "1    1.547448   True  3.791882\n",
       "2   -1.220144   True  4.319986\n",
       "3   -0.167506   True  6.049082\n",
       "4    2.950866   True  4.455041\n",
       "..        ...    ...       ...\n",
       "995  0.978907   True  6.964400\n",
       "996  2.768105   True  4.851054\n",
       "997  0.657292   True  7.053682\n",
       "998  0.462598  False  0.075282\n",
       "999  0.544589   True  3.206106\n",
       "\n",
       "[1000 rows x 3 columns]"
      ]
     },
     "execution_count": 2,
     "metadata": {},
     "output_type": "execute_result"
    }
   ],
   "source": [
    "data = dowhy.datasets.linear_dataset(beta=5,\n",
    "        num_common_causes=1,\n",
    "        num_instruments = 0,\n",
    "        num_samples=1000,\n",
    "        treatment_is_binary=True)\n",
    "df = data['df']\n",
    "df['y'] = df['y'] + np.random.normal(size=len(df)) # Adding noise to data. Without noise, the variance in Y|X, Z is zero, and mcmc fails.\n",
    "#data['dot_graph'] = 'digraph { v ->y;X0-> v;X0-> y;}'\n",
    "\n",
    "treatment= data[\"treatment_name\"][0]\n",
    "outcome = data[\"outcome_name\"][0]\n",
    "common_cause = data[\"common_causes_names\"][0]\n",
    "df"
   ]
  },
  {
   "cell_type": "code",
   "execution_count": 3,
   "metadata": {
    "execution": {
     "iopub.execute_input": "2022-12-06T09:38:55.382320Z",
     "iopub.status.busy": "2022-12-06T09:38:55.381797Z",
     "iopub.status.idle": "2022-12-06T09:38:55.529481Z",
     "shell.execute_reply": "2022-12-06T09:38:55.528910Z"
    }
   },
   "outputs": [
    {
     "data": {
      "text/plain": [
       "<AxesSubplot: xlabel='v0'>"
      ]
     },
     "execution_count": 3,
     "metadata": {},
     "output_type": "execute_result"
    },
    {
     "data": {
      "image/png": "[encoded data removed]",
      "text/plain": [
       "<Figure size 640x480 with 1 Axes>"
      ]
     },
     "metadata": {},
     "output_type": "display_data"
    }
   ],
   "source": [
    "# data['df'] is just a regular pandas.DataFrame\n",
    "df.causal.do(x=treatment,\n",
    "                     variable_types={treatment: 'b', outcome: 'c', common_cause: 'c'},\n",
    "                     outcome=outcome,\n",
    "                     common_causes=[common_cause],\n",
    "                     proceed_when_unidentifiable=True).groupby(treatment).mean().plot(y=outcome, kind='bar')"
   ]
  },
  {
   "cell_type": "code",
   "execution_count": 4,
   "metadata": {
    "execution": {
     "iopub.execute_input": "2022-12-06T09:38:55.532572Z",
     "iopub.status.busy": "2022-12-06T09:38:55.532134Z",
     "iopub.status.idle": "2022-12-06T09:38:55.645107Z",
     "shell.execute_reply": "2022-12-06T09:38:55.644597Z"
    }
   },
   "outputs": [
    {
     "data": {
      "text/plain": [
       "<AxesSubplot: xlabel='v0'>"
      ]
     },
     "execution_count": 4,
     "metadata": {},
     "output_type": "execute_result"
    },
    {
     "data": {
      "image/png": "[encoded data removed]",
      "text/plain": [
       "<Figure size 640x480 with 1 Axes>"
      ]
     },
     "metadata": {},
     "output_type": "display_data"
    }
   ],
   "source": [
    "df.causal.do(x={treatment: 1}, \n",
    "              variable_types={treatment:'b', outcome: 'c', common_cause: 'c'}, \n",
    "              outcome=outcome,\n",
    "              method='weighting', \n",
    "              common_causes=[common_cause],\n",
    "              proceed_when_unidentifiable=True).groupby(treatment).mean().plot(y=outcome, kind='bar')"
   ]
  },
  {
   "cell_type": "code",
   "execution_count": 5,
   "metadata": {
    "execution": {
     "iopub.execute_input": "2022-12-06T09:38:55.647989Z",
     "iopub.status.busy": "2022-12-06T09:38:55.647641Z",
     "iopub.status.idle": "2022-12-06T09:38:55.678746Z",
     "shell.execute_reply": "2022-12-06T09:38:55.678180Z"
    }
   },
   "outputs": [],
   "source": [
    "cdf_1 = df.causal.do(x={treatment: 1}, \n",
    "              variable_types={treatment: 'b', outcome: 'c', common_cause: 'c'}, \n",
    "              outcome=outcome, \n",
    "              dot_graph=data['dot_graph'],\n",
    "              proceed_when_unidentifiable=True)\n",
    "\n",
    "cdf_0 = df.causal.do(x={treatment: 0}, \n",
    "              variable_types={treatment: 'b', outcome: 'c', common_cause: 'c'}, \n",
    "              outcome=outcome, \n",
    "              dot_graph=data['dot_graph'],\n",
    "              proceed_when_unidentifiable=True)\n"
   ]
  },
  {
   "cell_type": "code",
   "execution_count": 6,
   "metadata": {
    "execution": {
     "iopub.execute_input": "2022-12-06T09:38:55.682076Z",
     "iopub.status.busy": "2022-12-06T09:38:55.681580Z",
     "iopub.status.idle": "2022-12-06T09:38:55.692096Z",
     "shell.execute_reply": "2022-12-06T09:38:55.691626Z"
    },
    "scrolled": true
   },
   "outputs": [
    {
     "data": {
      "text/html": [
       "<div>\n",
       "<style scoped>\n",
       "    .dataframe tbody tr th:only-of-type {\n",
       "        vertical-align: middle;\n",
       "    }\n",
       "\n",
       "    .dataframe tbody tr th {\n",
       "        vertical-align: top;\n",
       "    }\n",
       "\n",
       "    .dataframe thead th {\n",
       "        text-align: right;\n",
       "    }\n",
       "</style>\n",
       "<table border=\"1\" class=\"dataframe\">\n",
       "  <thead>\n",
       "    <tr style=\"text-align: right;\">\n",
       "      <th></th>\n",
       "      <th>W0</th>\n",
       "      <th>v0</th>\n",
       "      <th>y</th>\n",
       "      <th>propensity_score</th>\n",
       "      <th>weight</th>\n",
       "    </tr>\n",
       "  </thead>\n",
       "  <tbody>\n",
       "    <tr>\n",
       "      <th>0</th>\n",
       "      <td>0.067560</td>\n",
       "      <td>False</td>\n",
       "      <td>1.911379</td>\n",
       "      <td>0.466482</td>\n",
       "      <td>2.143707</td>\n",
       "    </tr>\n",
       "    <tr>\n",
       "      <th>1</th>\n",
       "      <td>0.823216</td>\n",
       "      <td>False</td>\n",
       "      <td>-1.139482</td>\n",
       "      <td>0.298868</td>\n",
       "      <td>3.345962</td>\n",
       "    </tr>\n",
       "    <tr>\n",
       "      <th>2</th>\n",
       "      <td>1.662468</td>\n",
       "      <td>False</td>\n",
       "      <td>0.487500</td>\n",
       "      <td>0.161029</td>\n",
       "      <td>6.210075</td>\n",
       "    </tr>\n",
       "    <tr>\n",
       "      <th>3</th>\n",
       "      <td>1.219407</td>\n",
       "      <td>False</td>\n",
       "      <td>-0.734138</td>\n",
       "      <td>0.226293</td>\n",
       "      <td>4.419058</td>\n",
       "    </tr>\n",
       "    <tr>\n",
       "      <th>4</th>\n",
       "      <td>3.170608</td>\n",
       "      <td>False</td>\n",
       "      <td>0.352740</td>\n",
       "      <td>0.043754</td>\n",
       "      <td>22.854844</td>\n",
       "    </tr>\n",
       "    <tr>\n",
       "      <th>...</th>\n",
       "      <td>...</td>\n",
       "      <td>...</td>\n",
       "      <td>...</td>\n",
       "      <td>...</td>\n",
       "      <td>...</td>\n",
       "    </tr>\n",
       "    <tr>\n",
       "      <th>995</th>\n",
       "      <td>2.290390</td>\n",
       "      <td>False</td>\n",
       "      <td>0.137876</td>\n",
       "      <td>0.095559</td>\n",
       "      <td>10.464770</td>\n",
       "    </tr>\n",
       "    <tr>\n",
       "      <th>996</th>\n",
       "      <td>1.037646</td>\n",
       "      <td>False</td>\n",
       "      <td>0.709049</td>\n",
       "      <td>0.257967</td>\n",
       "      <td>3.876460</td>\n",
       "    </tr>\n",
       "    <tr>\n",
       "      <th>997</th>\n",
       "      <td>-0.134015</td>\n",
       "      <td>False</td>\n",
       "      <td>1.177118</td>\n",
       "      <td>0.514338</td>\n",
       "      <td>1.944246</td>\n",
       "    </tr>\n",
       "    <tr>\n",
       "      <th>998</th>\n",
       "      <td>0.438583</td>\n",
       "      <td>False</td>\n",
       "      <td>-2.028024</td>\n",
       "      <td>0.380597</td>\n",
       "      <td>2.627451</td>\n",
       "    </tr>\n",
       "    <tr>\n",
       "      <th>999</th>\n",
       "      <td>-0.018765</td>\n",
       "      <td>False</td>\n",
       "      <td>-1.847223</td>\n",
       "      <td>0.486952</td>\n",
       "      <td>2.053589</td>\n",
       "    </tr>\n",
       "  </tbody>\n",
       "</table>\n",
       "<p>1000 rows × 5 columns</p>\n",
       "</div>"
      ],
      "text/plain": [
       "           W0     v0         y  propensity_score     weight\n",
       "0    0.067560  False  1.911379          0.466482   2.143707\n",
       "1    0.823216  False -1.139482          0.298868   3.345962\n",
       "2    1.662468  False  0.487500          0.161029   6.210075\n",
       "3    1.219407  False -0.734138          0.226293   4.419058\n",
       "4    3.170608  False  0.352740          0.043754  22.854844\n",
       "..        ...    ...       ...               ...        ...\n",
       "995  2.290390  False  0.137876          0.095559  10.464770\n",
       "996  1.037646  False  0.709049          0.257967   3.876460\n",
       "997 -0.134015  False  1.177118          0.514338   1.944246\n",
       "998  0.438583  False -2.028024          0.380597   2.627451\n",
       "999 -0.018765  False -1.847223          0.486952   2.053589\n",
       "\n",
       "[1000 rows x 5 columns]"
      ]
     },
     "execution_count": 6,
     "metadata": {},
     "output_type": "execute_result"
    }
   ],
   "source": [
    "cdf_0"
   ]
  },
  {
   "cell_type": "code",
   "execution_count": 7,
   "metadata": {
    "execution": {
     "iopub.execute_input": "2022-12-06T09:38:55.694791Z",
     "iopub.status.busy": "2022-12-06T09:38:55.694377Z",
     "iopub.status.idle": "2022-12-06T09:38:55.704274Z",
     "shell.execute_reply": "2022-12-06T09:38:55.703794Z"
    }
   },
   "outputs": [
    {
     "data": {
      "text/html": [
       "<div>\n",
       "<style scoped>\n",
       "    .dataframe tbody tr th:only-of-type {\n",
       "        vertical-align: middle;\n",
       "    }\n",
       "\n",
       "    .dataframe tbody tr th {\n",
       "        vertical-align: top;\n",
       "    }\n",
       "\n",
       "    .dataframe thead th {\n",
       "        text-align: right;\n",
       "    }\n",
       "</style>\n",
       "<table border=\"1\" class=\"dataframe\">\n",
       "  <thead>\n",
       "    <tr style=\"text-align: right;\">\n",
       "      <th></th>\n",
       "      <th>W0</th>\n",
       "      <th>v0</th>\n",
       "      <th>y</th>\n",
       "      <th>propensity_score</th>\n",
       "      <th>weight</th>\n",
       "    </tr>\n",
       "  </thead>\n",
       "  <tbody>\n",
       "    <tr>\n",
       "      <th>0</th>\n",
       "      <td>0.151752</td>\n",
       "      <td>True</td>\n",
       "      <td>5.144520</td>\n",
       "      <td>0.553375</td>\n",
       "      <td>1.807092</td>\n",
       "    </tr>\n",
       "    <tr>\n",
       "      <th>1</th>\n",
       "      <td>-0.361275</td>\n",
       "      <td>True</td>\n",
       "      <td>5.457729</td>\n",
       "      <td>0.432065</td>\n",
       "      <td>2.314466</td>\n",
       "    </tr>\n",
       "    <tr>\n",
       "      <th>2</th>\n",
       "      <td>-0.516995</td>\n",
       "      <td>True</td>\n",
       "      <td>4.685548</td>\n",
       "      <td>0.396163</td>\n",
       "      <td>2.524211</td>\n",
       "    </tr>\n",
       "    <tr>\n",
       "      <th>3</th>\n",
       "      <td>-0.151791</td>\n",
       "      <td>True</td>\n",
       "      <td>7.376667</td>\n",
       "      <td>0.481441</td>\n",
       "      <td>2.077096</td>\n",
       "    </tr>\n",
       "    <tr>\n",
       "      <th>4</th>\n",
       "      <td>0.533555</td>\n",
       "      <td>True</td>\n",
       "      <td>4.762663</td>\n",
       "      <td>0.640448</td>\n",
       "      <td>1.561408</td>\n",
       "    </tr>\n",
       "    <tr>\n",
       "      <th>...</th>\n",
       "      <td>...</td>\n",
       "      <td>...</td>\n",
       "      <td>...</td>\n",
       "      <td>...</td>\n",
       "      <td>...</td>\n",
       "    </tr>\n",
       "    <tr>\n",
       "      <th>995</th>\n",
       "      <td>2.328699</td>\n",
       "      <td>True</td>\n",
       "      <td>5.015506</td>\n",
       "      <td>0.907543</td>\n",
       "      <td>1.101876</td>\n",
       "    </tr>\n",
       "    <tr>\n",
       "      <th>996</th>\n",
       "      <td>0.922553</td>\n",
       "      <td>True</td>\n",
       "      <td>6.789926</td>\n",
       "      <td>0.720539</td>\n",
       "      <td>1.387849</td>\n",
       "    </tr>\n",
       "    <tr>\n",
       "      <th>997</th>\n",
       "      <td>0.890339</td>\n",
       "      <td>True</td>\n",
       "      <td>5.813846</td>\n",
       "      <td>0.714331</td>\n",
       "      <td>1.399912</td>\n",
       "    </tr>\n",
       "    <tr>\n",
       "      <th>998</th>\n",
       "      <td>-0.380071</td>\n",
       "      <td>True</td>\n",
       "      <td>4.574668</td>\n",
       "      <td>0.427686</td>\n",
       "      <td>2.338166</td>\n",
       "    </tr>\n",
       "    <tr>\n",
       "      <th>999</th>\n",
       "      <td>1.219794</td>\n",
       "      <td>True</td>\n",
       "      <td>3.804645</td>\n",
       "      <td>0.773772</td>\n",
       "      <td>1.292371</td>\n",
       "    </tr>\n",
       "  </tbody>\n",
       "</table>\n",
       "<p>1000 rows × 5 columns</p>\n",
       "</div>"
      ],
      "text/plain": [
       "           W0    v0         y  propensity_score    weight\n",
       "0    0.151752  True  5.144520          0.553375  1.807092\n",
       "1   -0.361275  True  5.457729          0.432065  2.314466\n",
       "2   -0.516995  True  4.685548          0.396163  2.524211\n",
       "3   -0.151791  True  7.376667          0.481441  2.077096\n",
       "4    0.533555  True  4.762663          0.640448  1.561408\n",
       "..        ...   ...       ...               ...       ...\n",
       "995  2.328699  True  5.015506          0.907543  1.101876\n",
       "996  0.922553  True  6.789926          0.720539  1.387849\n",
       "997  0.890339  True  5.813846          0.714331  1.399912\n",
       "998 -0.380071  True  4.574668          0.427686  2.338166\n",
       "999  1.219794  True  3.804645          0.773772  1.292371\n",
       "\n",
       "[1000 rows x 5 columns]"
      ]
     },
     "execution_count": 7,
     "metadata": {},
     "output_type": "execute_result"
    }
   ],
   "source": [
    "cdf_1"
   ]
  },
  {
   "cell_type": "markdown",
   "metadata": {},
   "source": [
    "## Comparing the estimate to Linear Regression\n",
    "First, estimating the effect using the causal data frame, and the 95% confidence interval."
   ]
  },
  {
   "cell_type": "code",
   "execution_count": 8,
   "metadata": {
    "execution": {
     "iopub.execute_input": "2022-12-06T09:38:55.707216Z",
     "iopub.status.busy": "2022-12-06T09:38:55.706665Z",
     "iopub.status.idle": "2022-12-06T09:38:55.765079Z",
     "shell.execute_reply": "2022-12-06T09:38:55.764481Z"
    }
   },
   "outputs": [
    {
     "data": {
      "image/png": "[encoded data removed]",
      "text/latex": [
       "$\\displaystyle 5.18094679145088$"
      ],
      "text/plain": [
       "5.180946791450884"
      ]
     },
     "execution_count": 8,
     "metadata": {},
     "output_type": "execute_result"
    }
   ],
   "source": [
    "(cdf_1['y'] - cdf_0['y']).mean()"
   ]
  },
  {
   "cell_type": "code",
   "execution_count": 9,
   "metadata": {
    "execution": {
     "iopub.execute_input": "2022-12-06T09:38:55.768332Z",
     "iopub.status.busy": "2022-12-06T09:38:55.767835Z",
     "iopub.status.idle": "2022-12-06T09:38:55.790989Z",
     "shell.execute_reply": "2022-12-06T09:38:55.790327Z"
    }
   },
   "outputs": [
    {
     "data": {
      "image/png": "[encoded data removed]",
      "text/latex": [
       "$\\displaystyle 0.0932881847772126$"
      ],
      "text/plain": [
       "0.09328818477721257"
      ]
     },
     "execution_count": 9,
     "metadata": {},
     "output_type": "execute_result"
    }
   ],
   "source": [
    "1.96*(cdf_1['y'] - cdf_0['y']).std() / np.sqrt(len(df))"
   ]
  },
  {
   "cell_type": "markdown",
   "metadata": {},
   "source": [
    "Comparing to the estimate from OLS."
   ]
  },
  {
   "cell_type": "code",
   "execution_count": 10,
   "metadata": {
    "execution": {
     "iopub.execute_input": "2022-12-06T09:38:55.794087Z",
     "iopub.status.busy": "2022-12-06T09:38:55.793860Z",
     "iopub.status.idle": "2022-12-06T09:38:55.810078Z",
     "shell.execute_reply": "2022-12-06T09:38:55.809497Z"
    }
   },
   "outputs": [
    {
     "data": {
      "text/html": [
       "<table class=\"simpletable\">\n",
       "<caption>OLS Regression Results</caption>\n",
       "<tr>\n",
       "  <th>Dep. Variable:</th>            <td>y</td>        <th>  R-squared (uncentered):</th>      <td>   0.945</td>\n",
       "</tr>\n",
       "<tr>\n",
       "  <th>Model:</th>                   <td>OLS</td>       <th>  Adj. R-squared (uncentered):</th> <td>   0.945</td>\n",
       "</tr>\n",
       "<tr>\n",
       "  <th>Method:</th>             <td>Least Squares</td>  <th>  F-statistic:       </th>          <td>   8643.</td>\n",
       "</tr>\n",
       "<tr>\n",
       "  <th>Date:</th>             <td>Tue, 06 Dec 2022</td> <th>  Prob (F-statistic):</th>           <td>  0.00</td> \n",
       "</tr>\n",
       "<tr>\n",
       "  <th>Time:</th>                 <td>09:38:55</td>     <th>  Log-Likelihood:    </th>          <td> -1450.1</td>\n",
       "</tr>\n",
       "<tr>\n",
       "  <th>No. Observations:</th>      <td>  1000</td>      <th>  AIC:               </th>          <td>   2904.</td>\n",
       "</tr>\n",
       "<tr>\n",
       "  <th>Df Residuals:</th>          <td>   998</td>      <th>  BIC:               </th>          <td>   2914.</td>\n",
       "</tr>\n",
       "<tr>\n",
       "  <th>Df Model:</th>              <td>     2</td>      <th>                     </th>              <td> </td>   \n",
       "</tr>\n",
       "<tr>\n",
       "  <th>Covariance Type:</th>      <td>nonrobust</td>    <th>                     </th>              <td> </td>   \n",
       "</tr>\n",
       "</table>\n",
       "<table class=\"simpletable\">\n",
       "<tr>\n",
       "   <td></td>     <th>coef</th>     <th>std err</th>      <th>t</th>      <th>P>|t|</th>  <th>[0.025</th>    <th>0.975]</th>  \n",
       "</tr>\n",
       "<tr>\n",
       "  <th>x1</th> <td>    0.2364</td> <td>    0.035</td> <td>    6.773</td> <td> 0.000</td> <td>    0.168</td> <td>    0.305</td>\n",
       "</tr>\n",
       "<tr>\n",
       "  <th>x2</th> <td>    5.0849</td> <td>    0.053</td> <td>   95.597</td> <td> 0.000</td> <td>    4.981</td> <td>    5.189</td>\n",
       "</tr>\n",
       "</table>\n",
       "<table class=\"simpletable\">\n",
       "<tr>\n",
       "  <th>Omnibus:</th>       <td> 0.226</td> <th>  Durbin-Watson:     </th> <td>   1.922</td>\n",
       "</tr>\n",
       "<tr>\n",
       "  <th>Prob(Omnibus):</th> <td> 0.893</td> <th>  Jarque-Bera (JB):  </th> <td>   0.264</td>\n",
       "</tr>\n",
       "<tr>\n",
       "  <th>Skew:</th>          <td> 0.035</td> <th>  Prob(JB):          </th> <td>   0.876</td>\n",
       "</tr>\n",
       "<tr>\n",
       "  <th>Kurtosis:</th>      <td> 2.962</td> <th>  Cond. No.          </th> <td>    2.46</td>\n",
       "</tr>\n",
       "</table><br/><br/>Notes:<br/>[1] R² is computed without centering (uncentered) since the model does not contain a constant.<br/>[2] Standard Errors assume that the covariance matrix of the errors is correctly specified."
      ],
      "text/plain": [
       "<class 'statsmodels.iolib.summary.Summary'>\n",
       "\"\"\"\n",
       "                                 OLS Regression Results                                \n",
       "=======================================================================================\n",
       "Dep. Variable:                      y   R-squared (uncentered):                   0.945\n",
       "Model:                            OLS   Adj. R-squared (uncentered):              0.945\n",
       "Method:                 Least Squares   F-statistic:                              8643.\n",
       "Date:                Tue, 06 Dec 2022   Prob (F-statistic):                        0.00\n",
       "Time:                        09:38:55   Log-Likelihood:                         -1450.1\n",
       "No. Observations:                1000   AIC:                                      2904.\n",
       "Df Residuals:                     998   BIC:                                      2914.\n",
       "Df Model:                           2                                                  \n",
       "Covariance Type:            nonrobust                                                  \n",
       "==============================================================================\n",
       "                 coef    std err          t      P>|t|      [0.025      0.975]\n",
       "------------------------------------------------------------------------------\n",
       "x1             0.2364      0.035      6.773      0.000       0.168       0.305\n",
       "x2             5.0849      0.053     95.597      0.000       4.981       5.189\n",
       "==============================================================================\n",
       "Omnibus:                        0.226   Durbin-Watson:                   1.922\n",
       "Prob(Omnibus):                  0.893   Jarque-Bera (JB):                0.264\n",
       "Skew:                           0.035   Prob(JB):                        0.876\n",
       "Kurtosis:                       2.962   Cond. No.                         2.46\n",
       "==============================================================================\n",
       "\n",
       "Notes:\n",
       "[1] R² is computed without centering (uncentered) since the model does not contain a constant.\n",
       "[2] Standard Errors assume that the covariance matrix of the errors is correctly specified.\n",
       "\"\"\""
      ]
     },
     "execution_count": 10,
     "metadata": {},
     "output_type": "execute_result"
    }
   ],
   "source": [
    "model = OLS(np.asarray(df[outcome]), np.asarray(df[[common_cause, treatment]], dtype=np.float64))\n",
    "result = model.fit()\n",
    "result.summary()"
   ]
  }
 ],
 "metadata": {
  "kernelspec": {
   "display_name": "Python 3",
   "language": "python",
   "name": "python3"
  },
  "language_info": {
   "codemirror_mode": {
    "name": "ipython",
    "version": 3
   },
   "file_extension": ".py",
   "mimetype": "text/x-python",
   "name": "python",
   "nbconvert_exporter": "python",
   "pygments_lexer": "ipython3",
   "version": "3.8.10"
  },
  "toc": {
   "base_numbering": 1,
   "nav_menu": {},
   "number_sections": false,
   "sideBar": true,
   "skip_h1_title": true,
   "title_cell": "Table of Contents",
   "title_sidebar": "Contents",
   "toc_cell": false,
   "toc_position": {},
   "toc_section_display": true,
   "toc_window_display": false
  }
 },
 "nbformat": 4,
 "nbformat_minor": 4
}
