{
 "cells": [
  {
   "cell_type": "markdown",
   "metadata": {},
   "source": [
    "# Demo for the DoWhy causal API\n",
    "We show a simple example of adding a causal extension to any dataframe. "
   ]
  },
  {
   "cell_type": "code",
   "execution_count": 1,
   "metadata": {
    "execution": {
     "iopub.execute_input": "2022-12-17T06:38:15.813932Z",
     "iopub.status.busy": "2022-12-17T06:38:15.813652Z",
     "iopub.status.idle": "2022-12-17T06:38:18.398169Z",
     "shell.execute_reply": "2022-12-17T06:38:18.397164Z"
    }
   },
   "outputs": [],
   "source": [
    "import dowhy.datasets\n",
    "import dowhy.api\n",
    "\n",
    "import numpy as np\n",
    "import pandas as pd\n",
    "\n",
    "from statsmodels.api import OLS"
   ]
  },
  {
   "cell_type": "code",
   "execution_count": 2,
   "metadata": {
    "execution": {
     "iopub.execute_input": "2022-12-17T06:38:18.404025Z",
     "iopub.status.busy": "2022-12-17T06:38:18.402880Z",
     "iopub.status.idle": "2022-12-17T06:38:18.472193Z",
     "shell.execute_reply": "2022-12-17T06:38:18.471324Z"
    }
   },
   "outputs": [
    {
     "data": {
      "text/html": [
       "<div>\n",
       "<style scoped>\n",
       "    .dataframe tbody tr th:only-of-type {\n",
       "        vertical-align: middle;\n",
       "    }\n",
       "\n",
       "    .dataframe tbody tr th {\n",
       "        vertical-align: top;\n",
       "    }\n",
       "\n",
       "    .dataframe thead th {\n",
       "        text-align: right;\n",
       "    }\n",
       "</style>\n",
       "<table border=\"1\" class=\"dataframe\">\n",
       "  <thead>\n",
       "    <tr style=\"text-align: right;\">\n",
       "      <th></th>\n",
       "      <th>W0</th>\n",
       "      <th>v0</th>\n",
       "      <th>y</th>\n",
       "    </tr>\n",
       "  </thead>\n",
       "  <tbody>\n",
       "    <tr>\n",
       "      <th>0</th>\n",
       "      <td>-0.436905</td>\n",
       "      <td>False</td>\n",
       "      <td>1.746834</td>\n",
       "    </tr>\n",
       "    <tr>\n",
       "      <th>1</th>\n",
       "      <td>0.276758</td>\n",
       "      <td>True</td>\n",
       "      <td>6.017127</td>\n",
       "    </tr>\n",
       "    <tr>\n",
       "      <th>2</th>\n",
       "      <td>-0.035913</td>\n",
       "      <td>False</td>\n",
       "      <td>0.990615</td>\n",
       "    </tr>\n",
       "    <tr>\n",
       "      <th>3</th>\n",
       "      <td>0.109910</td>\n",
       "      <td>False</td>\n",
       "      <td>1.095498</td>\n",
       "    </tr>\n",
       "    <tr>\n",
       "      <th>4</th>\n",
       "      <td>-1.136348</td>\n",
       "      <td>False</td>\n",
       "      <td>-0.984085</td>\n",
       "    </tr>\n",
       "    <tr>\n",
       "      <th>...</th>\n",
       "      <td>...</td>\n",
       "      <td>...</td>\n",
       "      <td>...</td>\n",
       "    </tr>\n",
       "    <tr>\n",
       "      <th>995</th>\n",
       "      <td>-0.623168</td>\n",
       "      <td>False</td>\n",
       "      <td>-1.233430</td>\n",
       "    </tr>\n",
       "    <tr>\n",
       "      <th>996</th>\n",
       "      <td>0.748328</td>\n",
       "      <td>True</td>\n",
       "      <td>5.313026</td>\n",
       "    </tr>\n",
       "    <tr>\n",
       "      <th>997</th>\n",
       "      <td>-0.194007</td>\n",
       "      <td>True</td>\n",
       "      <td>4.264915</td>\n",
       "    </tr>\n",
       "    <tr>\n",
       "      <th>998</th>\n",
       "      <td>-0.555842</td>\n",
       "      <td>False</td>\n",
       "      <td>1.552783</td>\n",
       "    </tr>\n",
       "    <tr>\n",
       "      <th>999</th>\n",
       "      <td>0.702504</td>\n",
       "      <td>False</td>\n",
       "      <td>1.165711</td>\n",
       "    </tr>\n",
       "  </tbody>\n",
       "</table>\n",
       "<p>1000 rows × 3 columns</p>\n",
       "</div>"
      ],
      "text/plain": [
       "           W0     v0         y\n",
       "0   -0.436905  False  1.746834\n",
       "1    0.276758   True  6.017127\n",
       "2   -0.035913  False  0.990615\n",
       "3    0.109910  False  1.095498\n",
       "4   -1.136348  False -0.984085\n",
       "..        ...    ...       ...\n",
       "995 -0.623168  False -1.233430\n",
       "996  0.748328   True  5.313026\n",
       "997 -0.194007   True  4.264915\n",
       "998 -0.555842  False  1.552783\n",
       "999  0.702504  False  1.165711\n",
       "\n",
       "[1000 rows x 3 columns]"
      ]
     },
     "execution_count": 2,
     "metadata": {},
     "output_type": "execute_result"
    }
   ],
   "source": [
    "data = dowhy.datasets.linear_dataset(beta=5,\n",
    "        num_common_causes=1,\n",
    "        num_instruments = 0,\n",
    "        num_samples=1000,\n",
    "        treatment_is_binary=True)\n",
    "df = data['df']\n",
    "df['y'] = df['y'] + np.random.normal(size=len(df)) # Adding noise to data. Without noise, the variance in Y|X, Z is zero, and mcmc fails.\n",
    "#data['dot_graph'] = 'digraph { v ->y;X0-> v;X0-> y;}'\n",
    "\n",
    "treatment= data[\"treatment_name\"][0]\n",
    "outcome = data[\"outcome_name\"][0]\n",
    "common_cause = data[\"common_causes_names\"][0]\n",
    "df"
   ]
  },
  {
   "cell_type": "code",
   "execution_count": 3,
   "metadata": {
    "execution": {
     "iopub.execute_input": "2022-12-17T06:38:18.476625Z",
     "iopub.status.busy": "2022-12-17T06:38:18.476341Z",
     "iopub.status.idle": "2022-12-17T06:38:18.705892Z",
     "shell.execute_reply": "2022-12-17T06:38:18.705021Z"
    }
   },
   "outputs": [
    {
     "data": {
      "text/plain": [
       "<AxesSubplot: xlabel='v0'>"
      ]
     },
     "execution_count": 3,
     "metadata": {},
     "output_type": "execute_result"
    },
    {
     "data": {
      "image/png": "[encoded data removed]",
      "text/plain": [
       "<Figure size 640x480 with 1 Axes>"
      ]
     },
     "metadata": {},
     "output_type": "display_data"
    }
   ],
   "source": [
    "# data['df'] is just a regular pandas.DataFrame\n",
    "df.causal.do(x=treatment,\n",
    "                     variable_types={treatment: 'b', outcome: 'c', common_cause: 'c'},\n",
    "                     outcome=outcome,\n",
    "                     common_causes=[common_cause],\n",
    "                     proceed_when_unidentifiable=True).groupby(treatment).mean().plot(y=outcome, kind='bar')"
   ]
  },
  {
   "cell_type": "code",
   "execution_count": 4,
   "metadata": {
    "execution": {
     "iopub.execute_input": "2022-12-17T06:38:18.709628Z",
     "iopub.status.busy": "2022-12-17T06:38:18.709334Z",
     "iopub.status.idle": "2022-12-17T06:38:18.887473Z",
     "shell.execute_reply": "2022-12-17T06:38:18.886538Z"
    }
   },
   "outputs": [
    {
     "data": {
      "text/plain": [
       "<AxesSubplot: xlabel='v0'>"
      ]
     },
     "execution_count": 4,
     "metadata": {},
     "output_type": "execute_result"
    },
    {
     "data": {
      "image/png": "[encoded data removed]",
      "text/plain": [
       "<Figure size 640x480 with 1 Axes>"
      ]
     },
     "metadata": {},
     "output_type": "display_data"
    }
   ],
   "source": [
    "df.causal.do(x={treatment: 1}, \n",
    "              variable_types={treatment:'b', outcome: 'c', common_cause: 'c'}, \n",
    "              outcome=outcome,\n",
    "              method='weighting', \n",
    "              common_causes=[common_cause],\n",
    "              proceed_when_unidentifiable=True).groupby(treatment).mean().plot(y=outcome, kind='bar')"
   ]
  },
  {
   "cell_type": "code",
   "execution_count": 5,
   "metadata": {
    "execution": {
     "iopub.execute_input": "2022-12-17T06:38:18.891257Z",
     "iopub.status.busy": "2022-12-17T06:38:18.890764Z",
     "iopub.status.idle": "2022-12-17T06:38:18.935824Z",
     "shell.execute_reply": "2022-12-17T06:38:18.934900Z"
    }
   },
   "outputs": [],
   "source": [
    "cdf_1 = df.causal.do(x={treatment: 1}, \n",
    "              variable_types={treatment: 'b', outcome: 'c', common_cause: 'c'}, \n",
    "              outcome=outcome, \n",
    "              dot_graph=data['dot_graph'],\n",
    "              proceed_when_unidentifiable=True)\n",
    "\n",
    "cdf_0 = df.causal.do(x={treatment: 0}, \n",
    "              variable_types={treatment: 'b', outcome: 'c', common_cause: 'c'}, \n",
    "              outcome=outcome, \n",
    "              dot_graph=data['dot_graph'],\n",
    "              proceed_when_unidentifiable=True)\n"
   ]
  },
  {
   "cell_type": "code",
   "execution_count": 6,
   "metadata": {
    "execution": {
     "iopub.execute_input": "2022-12-17T06:38:18.940462Z",
     "iopub.status.busy": "2022-12-17T06:38:18.939842Z",
     "iopub.status.idle": "2022-12-17T06:38:18.954563Z",
     "shell.execute_reply": "2022-12-17T06:38:18.953528Z"
    },
    "scrolled": true
   },
   "outputs": [
    {
     "data": {
      "text/html": [
       "<div>\n",
       "<style scoped>\n",
       "    .dataframe tbody tr th:only-of-type {\n",
       "        vertical-align: middle;\n",
       "    }\n",
       "\n",
       "    .dataframe tbody tr th {\n",
       "        vertical-align: top;\n",
       "    }\n",
       "\n",
       "    .dataframe thead th {\n",
       "        text-align: right;\n",
       "    }\n",
       "</style>\n",
       "<table border=\"1\" class=\"dataframe\">\n",
       "  <thead>\n",
       "    <tr style=\"text-align: right;\">\n",
       "      <th></th>\n",
       "      <th>W0</th>\n",
       "      <th>v0</th>\n",
       "      <th>y</th>\n",
       "      <th>propensity_score</th>\n",
       "      <th>weight</th>\n",
       "    </tr>\n",
       "  </thead>\n",
       "  <tbody>\n",
       "    <tr>\n",
       "      <th>0</th>\n",
       "      <td>-2.451867</td>\n",
       "      <td>False</td>\n",
       "      <td>-5.228110</td>\n",
       "      <td>0.972026</td>\n",
       "      <td>1.028779</td>\n",
       "    </tr>\n",
       "    <tr>\n",
       "      <th>1</th>\n",
       "      <td>0.367597</td>\n",
       "      <td>False</td>\n",
       "      <td>0.576006</td>\n",
       "      <td>0.373936</td>\n",
       "      <td>2.674253</td>\n",
       "    </tr>\n",
       "    <tr>\n",
       "      <th>2</th>\n",
       "      <td>0.491363</td>\n",
       "      <td>False</td>\n",
       "      <td>2.175727</td>\n",
       "      <td>0.333202</td>\n",
       "      <td>3.001187</td>\n",
       "    </tr>\n",
       "    <tr>\n",
       "      <th>3</th>\n",
       "      <td>0.711783</td>\n",
       "      <td>False</td>\n",
       "      <td>0.566149</td>\n",
       "      <td>0.266703</td>\n",
       "      <td>3.749491</td>\n",
       "    </tr>\n",
       "    <tr>\n",
       "      <th>4</th>\n",
       "      <td>-1.658345</td>\n",
       "      <td>False</td>\n",
       "      <td>-3.368804</td>\n",
       "      <td>0.917168</td>\n",
       "      <td>1.090313</td>\n",
       "    </tr>\n",
       "    <tr>\n",
       "      <th>...</th>\n",
       "      <td>...</td>\n",
       "      <td>...</td>\n",
       "      <td>...</td>\n",
       "      <td>...</td>\n",
       "      <td>...</td>\n",
       "    </tr>\n",
       "    <tr>\n",
       "      <th>995</th>\n",
       "      <td>0.991758</td>\n",
       "      <td>False</td>\n",
       "      <td>2.705305</td>\n",
       "      <td>0.195459</td>\n",
       "      <td>5.116168</td>\n",
       "    </tr>\n",
       "    <tr>\n",
       "      <th>996</th>\n",
       "      <td>-1.007565</td>\n",
       "      <td>False</td>\n",
       "      <td>-0.140347</td>\n",
       "      <td>0.812533</td>\n",
       "      <td>1.230720</td>\n",
       "    </tr>\n",
       "    <tr>\n",
       "      <th>997</th>\n",
       "      <td>0.107398</td>\n",
       "      <td>False</td>\n",
       "      <td>0.149837</td>\n",
       "      <td>0.464967</td>\n",
       "      <td>2.150689</td>\n",
       "    </tr>\n",
       "    <tr>\n",
       "      <th>998</th>\n",
       "      <td>0.221108</td>\n",
       "      <td>False</td>\n",
       "      <td>-0.007530</td>\n",
       "      <td>0.424521</td>\n",
       "      <td>2.355598</td>\n",
       "    </tr>\n",
       "    <tr>\n",
       "      <th>999</th>\n",
       "      <td>1.491955</td>\n",
       "      <td>False</td>\n",
       "      <td>0.366618</td>\n",
       "      <td>0.105664</td>\n",
       "      <td>9.463981</td>\n",
       "    </tr>\n",
       "  </tbody>\n",
       "</table>\n",
       "<p>1000 rows × 5 columns</p>\n",
       "</div>"
      ],
      "text/plain": [
       "           W0     v0         y  propensity_score    weight\n",
       "0   -2.451867  False -5.228110          0.972026  1.028779\n",
       "1    0.367597  False  0.576006          0.373936  2.674253\n",
       "2    0.491363  False  2.175727          0.333202  3.001187\n",
       "3    0.711783  False  0.566149          0.266703  3.749491\n",
       "4   -1.658345  False -3.368804          0.917168  1.090313\n",
       "..        ...    ...       ...               ...       ...\n",
       "995  0.991758  False  2.705305          0.195459  5.116168\n",
       "996 -1.007565  False -0.140347          0.812533  1.230720\n",
       "997  0.107398  False  0.149837          0.464967  2.150689\n",
       "998  0.221108  False -0.007530          0.424521  2.355598\n",
       "999  1.491955  False  0.366618          0.105664  9.463981\n",
       "\n",
       "[1000 rows x 5 columns]"
      ]
     },
     "execution_count": 6,
     "metadata": {},
     "output_type": "execute_result"
    }
   ],
   "source": [
    "cdf_0"
   ]
  },
  {
   "cell_type": "code",
   "execution_count": 7,
   "metadata": {
    "execution": {
     "iopub.execute_input": "2022-12-17T06:38:18.958614Z",
     "iopub.status.busy": "2022-12-17T06:38:18.958315Z",
     "iopub.status.idle": "2022-12-17T06:38:18.972634Z",
     "shell.execute_reply": "2022-12-17T06:38:18.971655Z"
    }
   },
   "outputs": [
    {
     "data": {
      "text/html": [
       "<div>\n",
       "<style scoped>\n",
       "    .dataframe tbody tr th:only-of-type {\n",
       "        vertical-align: middle;\n",
       "    }\n",
       "\n",
       "    .dataframe tbody tr th {\n",
       "        vertical-align: top;\n",
       "    }\n",
       "\n",
       "    .dataframe thead th {\n",
       "        text-align: right;\n",
       "    }\n",
       "</style>\n",
       "<table border=\"1\" class=\"dataframe\">\n",
       "  <thead>\n",
       "    <tr style=\"text-align: right;\">\n",
       "      <th></th>\n",
       "      <th>W0</th>\n",
       "      <th>v0</th>\n",
       "      <th>y</th>\n",
       "      <th>propensity_score</th>\n",
       "      <th>weight</th>\n",
       "    </tr>\n",
       "  </thead>\n",
       "  <tbody>\n",
       "    <tr>\n",
       "      <th>0</th>\n",
       "      <td>-0.006548</td>\n",
       "      <td>True</td>\n",
       "      <td>6.710813</td>\n",
       "      <td>0.494035</td>\n",
       "      <td>2.024147</td>\n",
       "    </tr>\n",
       "    <tr>\n",
       "      <th>1</th>\n",
       "      <td>-0.741454</td>\n",
       "      <td>True</td>\n",
       "      <td>3.937414</td>\n",
       "      <td>0.252934</td>\n",
       "      <td>3.953604</td>\n",
       "    </tr>\n",
       "    <tr>\n",
       "      <th>2</th>\n",
       "      <td>-0.498823</td>\n",
       "      <td>True</td>\n",
       "      <td>4.745848</td>\n",
       "      <td>0.324462</td>\n",
       "      <td>3.082022</td>\n",
       "    </tr>\n",
       "    <tr>\n",
       "      <th>3</th>\n",
       "      <td>0.218096</td>\n",
       "      <td>True</td>\n",
       "      <td>3.273484</td>\n",
       "      <td>0.574418</td>\n",
       "      <td>1.740891</td>\n",
       "    </tr>\n",
       "    <tr>\n",
       "      <th>4</th>\n",
       "      <td>0.651958</td>\n",
       "      <td>True</td>\n",
       "      <td>6.479414</td>\n",
       "      <td>0.716099</td>\n",
       "      <td>1.396454</td>\n",
       "    </tr>\n",
       "    <tr>\n",
       "      <th>...</th>\n",
       "      <td>...</td>\n",
       "      <td>...</td>\n",
       "      <td>...</td>\n",
       "      <td>...</td>\n",
       "      <td>...</td>\n",
       "    </tr>\n",
       "    <tr>\n",
       "      <th>995</th>\n",
       "      <td>-0.498823</td>\n",
       "      <td>True</td>\n",
       "      <td>4.745848</td>\n",
       "      <td>0.324462</td>\n",
       "      <td>3.082022</td>\n",
       "    </tr>\n",
       "    <tr>\n",
       "      <th>996</th>\n",
       "      <td>0.628752</td>\n",
       "      <td>True</td>\n",
       "      <td>6.779816</td>\n",
       "      <td>0.709251</td>\n",
       "      <td>1.409938</td>\n",
       "    </tr>\n",
       "    <tr>\n",
       "      <th>997</th>\n",
       "      <td>-0.394105</td>\n",
       "      <td>True</td>\n",
       "      <td>4.843123</td>\n",
       "      <td>0.358377</td>\n",
       "      <td>2.790360</td>\n",
       "    </tr>\n",
       "    <tr>\n",
       "      <th>998</th>\n",
       "      <td>0.628752</td>\n",
       "      <td>True</td>\n",
       "      <td>6.779816</td>\n",
       "      <td>0.709251</td>\n",
       "      <td>1.409938</td>\n",
       "    </tr>\n",
       "    <tr>\n",
       "      <th>999</th>\n",
       "      <td>0.112639</td>\n",
       "      <td>True</td>\n",
       "      <td>5.710984</td>\n",
       "      <td>0.536911</td>\n",
       "      <td>1.862505</td>\n",
       "    </tr>\n",
       "  </tbody>\n",
       "</table>\n",
       "<p>1000 rows × 5 columns</p>\n",
       "</div>"
      ],
      "text/plain": [
       "           W0    v0         y  propensity_score    weight\n",
       "0   -0.006548  True  6.710813          0.494035  2.024147\n",
       "1   -0.741454  True  3.937414          0.252934  3.953604\n",
       "2   -0.498823  True  4.745848          0.324462  3.082022\n",
       "3    0.218096  True  3.273484          0.574418  1.740891\n",
       "4    0.651958  True  6.479414          0.716099  1.396454\n",
       "..        ...   ...       ...               ...       ...\n",
       "995 -0.498823  True  4.745848          0.324462  3.082022\n",
       "996  0.628752  True  6.779816          0.709251  1.409938\n",
       "997 -0.394105  True  4.843123          0.358377  2.790360\n",
       "998  0.628752  True  6.779816          0.709251  1.409938\n",
       "999  0.112639  True  5.710984          0.536911  1.862505\n",
       "\n",
       "[1000 rows x 5 columns]"
      ]
     },
     "execution_count": 7,
     "metadata": {},
     "output_type": "execute_result"
    }
   ],
   "source": [
    "cdf_1"
   ]
  },
  {
   "cell_type": "markdown",
   "metadata": {},
   "source": [
    "## Comparing the estimate to Linear Regression\n",
    "First, estimating the effect using the causal data frame, and the 95% confidence interval."
   ]
  },
  {
   "cell_type": "code",
   "execution_count": 8,
   "metadata": {
    "execution": {
     "iopub.execute_input": "2022-12-17T06:38:18.977677Z",
     "iopub.status.busy": "2022-12-17T06:38:18.977338Z",
     "iopub.status.idle": "2022-12-17T06:38:19.058619Z",
     "shell.execute_reply": "2022-12-17T06:38:19.057503Z"
    }
   },
   "outputs": [
    {
     "data": {
      "image/png": "[encoded data removed]",
      "text/latex": [
       "$\\displaystyle 4.97688077947066$"
      ],
      "text/plain": [
       "4.976880779470661"
      ]
     },
     "execution_count": 8,
     "metadata": {},
     "output_type": "execute_result"
    }
   ],
   "source": [
    "(cdf_1['y'] - cdf_0['y']).mean()"
   ]
  },
  {
   "cell_type": "code",
   "execution_count": 9,
   "metadata": {
    "execution": {
     "iopub.execute_input": "2022-12-17T06:38:19.062701Z",
     "iopub.status.busy": "2022-12-17T06:38:19.062426Z",
     "iopub.status.idle": "2022-12-17T06:38:19.093457Z",
     "shell.execute_reply": "2022-12-17T06:38:19.092615Z"
    }
   },
   "outputs": [
    {
     "data": {
      "image/png": "[encoded data removed]",
      "text/latex": [
       "$\\displaystyle 0.135312498086271$"
      ],
      "text/plain": [
       "0.13531249808627133"
      ]
     },
     "execution_count": 9,
     "metadata": {},
     "output_type": "execute_result"
    }
   ],
   "source": [
    "1.96*(cdf_1['y'] - cdf_0['y']).std() / np.sqrt(len(df))"
   ]
  },
  {
   "cell_type": "markdown",
   "metadata": {},
   "source": [
    "Comparing to the estimate from OLS."
   ]
  },
  {
   "cell_type": "code",
   "execution_count": 10,
   "metadata": {
    "execution": {
     "iopub.execute_input": "2022-12-17T06:38:19.097337Z",
     "iopub.status.busy": "2022-12-17T06:38:19.097070Z",
     "iopub.status.idle": "2022-12-17T06:38:19.124061Z",
     "shell.execute_reply": "2022-12-17T06:38:19.123120Z"
    }
   },
   "outputs": [
    {
     "data": {
      "text/html": [
       "<table class=\"simpletable\">\n",
       "<caption>OLS Regression Results</caption>\n",
       "<tr>\n",
       "  <th>Dep. Variable:</th>            <td>y</td>        <th>  R-squared (uncentered):</th>      <td>   0.960</td> \n",
       "</tr>\n",
       "<tr>\n",
       "  <th>Model:</th>                   <td>OLS</td>       <th>  Adj. R-squared (uncentered):</th> <td>   0.960</td> \n",
       "</tr>\n",
       "<tr>\n",
       "  <th>Method:</th>             <td>Least Squares</td>  <th>  F-statistic:       </th>          <td>1.201e+04</td>\n",
       "</tr>\n",
       "<tr>\n",
       "  <th>Date:</th>             <td>Sat, 17 Dec 2022</td> <th>  Prob (F-statistic):</th>           <td>  0.00</td>  \n",
       "</tr>\n",
       "<tr>\n",
       "  <th>Time:</th>                 <td>06:38:19</td>     <th>  Log-Likelihood:    </th>          <td> -1360.8</td> \n",
       "</tr>\n",
       "<tr>\n",
       "  <th>No. Observations:</th>      <td>  1000</td>      <th>  AIC:               </th>          <td>   2726.</td> \n",
       "</tr>\n",
       "<tr>\n",
       "  <th>Df Residuals:</th>          <td>   998</td>      <th>  BIC:               </th>          <td>   2735.</td> \n",
       "</tr>\n",
       "<tr>\n",
       "  <th>Df Model:</th>              <td>     2</td>      <th>                     </th>              <td> </td>    \n",
       "</tr>\n",
       "<tr>\n",
       "  <th>Covariance Type:</th>      <td>nonrobust</td>    <th>                     </th>              <td> </td>    \n",
       "</tr>\n",
       "</table>\n",
       "<table class=\"simpletable\">\n",
       "<tr>\n",
       "   <td></td>     <th>coef</th>     <th>std err</th>      <th>t</th>      <th>P>|t|</th>  <th>[0.025</th>    <th>0.975]</th>  \n",
       "</tr>\n",
       "<tr>\n",
       "  <th>x1</th> <td>    1.1106</td> <td>    0.036</td> <td>   31.135</td> <td> 0.000</td> <td>    1.041</td> <td>    1.181</td>\n",
       "</tr>\n",
       "<tr>\n",
       "  <th>x2</th> <td>    5.1407</td> <td>    0.047</td> <td>  109.376</td> <td> 0.000</td> <td>    5.048</td> <td>    5.233</td>\n",
       "</tr>\n",
       "</table>\n",
       "<table class=\"simpletable\">\n",
       "<tr>\n",
       "  <th>Omnibus:</th>       <td> 0.779</td> <th>  Durbin-Watson:     </th> <td>   1.922</td>\n",
       "</tr>\n",
       "<tr>\n",
       "  <th>Prob(Omnibus):</th> <td> 0.678</td> <th>  Jarque-Bera (JB):  </th> <td>   0.700</td>\n",
       "</tr>\n",
       "<tr>\n",
       "  <th>Skew:</th>          <td>-0.062</td> <th>  Prob(JB):          </th> <td>   0.705</td>\n",
       "</tr>\n",
       "<tr>\n",
       "  <th>Kurtosis:</th>      <td> 3.040</td> <th>  Cond. No.          </th> <td>    1.99</td>\n",
       "</tr>\n",
       "</table><br/><br/>Notes:<br/>[1] R² is computed without centering (uncentered) since the model does not contain a constant.<br/>[2] Standard Errors assume that the covariance matrix of the errors is correctly specified."
      ],
      "text/plain": [
       "<class 'statsmodels.iolib.summary.Summary'>\n",
       "\"\"\"\n",
       "                                 OLS Regression Results                                \n",
       "=======================================================================================\n",
       "Dep. Variable:                      y   R-squared (uncentered):                   0.960\n",
       "Model:                            OLS   Adj. R-squared (uncentered):              0.960\n",
       "Method:                 Least Squares   F-statistic:                          1.201e+04\n",
       "Date:                Sat, 17 Dec 2022   Prob (F-statistic):                        0.00\n",
       "Time:                        06:38:19   Log-Likelihood:                         -1360.8\n",
       "No. Observations:                1000   AIC:                                      2726.\n",
       "Df Residuals:                     998   BIC:                                      2735.\n",
       "Df Model:                           2                                                  \n",
       "Covariance Type:            nonrobust                                                  \n",
       "==============================================================================\n",
       "                 coef    std err          t      P>|t|      [0.025      0.975]\n",
       "------------------------------------------------------------------------------\n",
       "x1             1.1106      0.036     31.135      0.000       1.041       1.181\n",
       "x2             5.1407      0.047    109.376      0.000       5.048       5.233\n",
       "==============================================================================\n",
       "Omnibus:                        0.779   Durbin-Watson:                   1.922\n",
       "Prob(Omnibus):                  0.678   Jarque-Bera (JB):                0.700\n",
       "Skew:                          -0.062   Prob(JB):                        0.705\n",
       "Kurtosis:                       3.040   Cond. No.                         1.99\n",
       "==============================================================================\n",
       "\n",
       "Notes:\n",
       "[1] R² is computed without centering (uncentered) since the model does not contain a constant.\n",
       "[2] Standard Errors assume that the covariance matrix of the errors is correctly specified.\n",
       "\"\"\""
      ]
     },
     "execution_count": 10,
     "metadata": {},
     "output_type": "execute_result"
    }
   ],
   "source": [
    "model = OLS(np.asarray(df[outcome]), np.asarray(df[[common_cause, treatment]], dtype=np.float64))\n",
    "result = model.fit()\n",
    "result.summary()"
   ]
  }
 ],
 "metadata": {
  "kernelspec": {
   "display_name": "Python 3",
   "language": "python",
   "name": "python3"
  },
  "language_info": {
   "codemirror_mode": {
    "name": "ipython",
    "version": 3
   },
   "file_extension": ".py",
   "mimetype": "text/x-python",
   "name": "python",
   "nbconvert_exporter": "python",
   "pygments_lexer": "ipython3",
   "version": "3.8.10"
  },
  "toc": {
   "base_numbering": 1,
   "nav_menu": {},
   "number_sections": false,
   "sideBar": true,
   "skip_h1_title": true,
   "title_cell": "Table of Contents",
   "title_sidebar": "Contents",
   "toc_cell": false,
   "toc_position": {},
   "toc_section_display": true,
   "toc_window_display": false
  }
 },
 "nbformat": 4,
 "nbformat_minor": 4
}
