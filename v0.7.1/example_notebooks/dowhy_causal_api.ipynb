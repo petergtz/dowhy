{
 "cells": [
  {
   "cell_type": "markdown",
   "metadata": {},
   "source": [
    "# Demo for the DoWhy causal API\n",
    "We show a simple example of adding a causal extension to any dataframe. "
   ]
  },
  {
   "cell_type": "code",
   "execution_count": 1,
   "metadata": {
    "execution": {
     "iopub.execute_input": "2022-10-25T14:54:36.699710Z",
     "iopub.status.busy": "2022-10-25T14:54:36.699364Z",
     "iopub.status.idle": "2022-10-25T14:54:39.205196Z",
     "shell.execute_reply": "2022-10-25T14:54:39.204161Z"
    }
   },
   "outputs": [],
   "source": [
    "import dowhy.datasets\n",
    "import dowhy.api\n",
    "\n",
    "import numpy as np\n",
    "import pandas as pd\n",
    "\n",
    "from statsmodels.api import OLS"
   ]
  },
  {
   "cell_type": "code",
   "execution_count": 2,
   "metadata": {
    "execution": {
     "iopub.execute_input": "2022-10-25T14:54:39.210813Z",
     "iopub.status.busy": "2022-10-25T14:54:39.209252Z",
     "iopub.status.idle": "2022-10-25T14:54:39.283543Z",
     "shell.execute_reply": "2022-10-25T14:54:39.282503Z"
    }
   },
   "outputs": [
    {
     "data": {
      "text/html": [
       "<div>\n",
       "<style scoped>\n",
       "    .dataframe tbody tr th:only-of-type {\n",
       "        vertical-align: middle;\n",
       "    }\n",
       "\n",
       "    .dataframe tbody tr th {\n",
       "        vertical-align: top;\n",
       "    }\n",
       "\n",
       "    .dataframe thead th {\n",
       "        text-align: right;\n",
       "    }\n",
       "</style>\n",
       "<table border=\"1\" class=\"dataframe\">\n",
       "  <thead>\n",
       "    <tr style=\"text-align: right;\">\n",
       "      <th></th>\n",
       "      <th>W0</th>\n",
       "      <th>v0</th>\n",
       "      <th>y</th>\n",
       "    </tr>\n",
       "  </thead>\n",
       "  <tbody>\n",
       "    <tr>\n",
       "      <th>0</th>\n",
       "      <td>-0.495197</td>\n",
       "      <td>False</td>\n",
       "      <td>0.087986</td>\n",
       "    </tr>\n",
       "    <tr>\n",
       "      <th>1</th>\n",
       "      <td>-1.581686</td>\n",
       "      <td>False</td>\n",
       "      <td>-1.721369</td>\n",
       "    </tr>\n",
       "    <tr>\n",
       "      <th>2</th>\n",
       "      <td>-1.768629</td>\n",
       "      <td>False</td>\n",
       "      <td>-4.145863</td>\n",
       "    </tr>\n",
       "    <tr>\n",
       "      <th>3</th>\n",
       "      <td>0.061654</td>\n",
       "      <td>True</td>\n",
       "      <td>5.126225</td>\n",
       "    </tr>\n",
       "    <tr>\n",
       "      <th>4</th>\n",
       "      <td>0.334663</td>\n",
       "      <td>True</td>\n",
       "      <td>4.190167</td>\n",
       "    </tr>\n",
       "    <tr>\n",
       "      <th>...</th>\n",
       "      <td>...</td>\n",
       "      <td>...</td>\n",
       "      <td>...</td>\n",
       "    </tr>\n",
       "    <tr>\n",
       "      <th>995</th>\n",
       "      <td>-1.643208</td>\n",
       "      <td>False</td>\n",
       "      <td>-4.531094</td>\n",
       "    </tr>\n",
       "    <tr>\n",
       "      <th>996</th>\n",
       "      <td>-0.238074</td>\n",
       "      <td>True</td>\n",
       "      <td>5.669158</td>\n",
       "    </tr>\n",
       "    <tr>\n",
       "      <th>997</th>\n",
       "      <td>0.604310</td>\n",
       "      <td>False</td>\n",
       "      <td>1.605504</td>\n",
       "    </tr>\n",
       "    <tr>\n",
       "      <th>998</th>\n",
       "      <td>-0.278361</td>\n",
       "      <td>False</td>\n",
       "      <td>-3.861634</td>\n",
       "    </tr>\n",
       "    <tr>\n",
       "      <th>999</th>\n",
       "      <td>-1.278502</td>\n",
       "      <td>False</td>\n",
       "      <td>-2.960341</td>\n",
       "    </tr>\n",
       "  </tbody>\n",
       "</table>\n",
       "<p>1000 rows × 3 columns</p>\n",
       "</div>"
      ],
      "text/plain": [
       "           W0     v0         y\n",
       "0   -0.495197  False  0.087986\n",
       "1   -1.581686  False -1.721369\n",
       "2   -1.768629  False -4.145863\n",
       "3    0.061654   True  5.126225\n",
       "4    0.334663   True  4.190167\n",
       "..        ...    ...       ...\n",
       "995 -1.643208  False -4.531094\n",
       "996 -0.238074   True  5.669158\n",
       "997  0.604310  False  1.605504\n",
       "998 -0.278361  False -3.861634\n",
       "999 -1.278502  False -2.960341\n",
       "\n",
       "[1000 rows x 3 columns]"
      ]
     },
     "execution_count": 2,
     "metadata": {},
     "output_type": "execute_result"
    }
   ],
   "source": [
    "data = dowhy.datasets.linear_dataset(beta=5,\n",
    "        num_common_causes=1,\n",
    "        num_instruments = 0,\n",
    "        num_samples=1000,\n",
    "        treatment_is_binary=True)\n",
    "df = data['df']\n",
    "df['y'] = df['y'] + np.random.normal(size=len(df)) # Adding noise to data. Without noise, the variance in Y|X, Z is zero, and mcmc fails.\n",
    "#data['dot_graph'] = 'digraph { v ->y;X0-> v;X0-> y;}'\n",
    "\n",
    "treatment= data[\"treatment_name\"][0]\n",
    "outcome = data[\"outcome_name\"][0]\n",
    "common_cause = data[\"common_causes_names\"][0]\n",
    "df"
   ]
  },
  {
   "cell_type": "code",
   "execution_count": 3,
   "metadata": {
    "execution": {
     "iopub.execute_input": "2022-10-25T14:54:39.287282Z",
     "iopub.status.busy": "2022-10-25T14:54:39.287012Z",
     "iopub.status.idle": "2022-10-25T14:54:39.513427Z",
     "shell.execute_reply": "2022-10-25T14:54:39.512515Z"
    }
   },
   "outputs": [
    {
     "data": {
      "text/plain": [
       "<AxesSubplot: xlabel='v0'>"
      ]
     },
     "execution_count": 3,
     "metadata": {},
     "output_type": "execute_result"
    },
    {
     "data": {
      "image/png": "[encoded data removed]",
      "text/plain": [
       "<Figure size 640x480 with 1 Axes>"
      ]
     },
     "metadata": {},
     "output_type": "display_data"
    }
   ],
   "source": [
    "# data['df'] is just a regular pandas.DataFrame\n",
    "df.causal.do(x=treatment,\n",
    "                     variable_types={treatment: 'b', outcome: 'c', common_cause: 'c'},\n",
    "                     outcome=outcome,\n",
    "                     common_causes=[common_cause],\n",
    "                     proceed_when_unidentifiable=True).groupby(treatment).mean().plot(y=outcome, kind='bar')"
   ]
  },
  {
   "cell_type": "code",
   "execution_count": 4,
   "metadata": {
    "execution": {
     "iopub.execute_input": "2022-10-25T14:54:39.516977Z",
     "iopub.status.busy": "2022-10-25T14:54:39.516688Z",
     "iopub.status.idle": "2022-10-25T14:54:39.700203Z",
     "shell.execute_reply": "2022-10-25T14:54:39.699244Z"
    }
   },
   "outputs": [
    {
     "data": {
      "text/plain": [
       "<AxesSubplot: xlabel='v0'>"
      ]
     },
     "execution_count": 4,
     "metadata": {},
     "output_type": "execute_result"
    },
    {
     "data": {
      "image/png": "[encoded data removed]",
      "text/plain": [
       "<Figure size 640x480 with 1 Axes>"
      ]
     },
     "metadata": {},
     "output_type": "display_data"
    }
   ],
   "source": [
    "df.causal.do(x={treatment: 1}, \n",
    "              variable_types={treatment:'b', outcome: 'c', common_cause: 'c'}, \n",
    "              outcome=outcome,\n",
    "              method='weighting', \n",
    "              common_causes=[common_cause],\n",
    "              proceed_when_unidentifiable=True).groupby(treatment).mean().plot(y=outcome, kind='bar')"
   ]
  },
  {
   "cell_type": "code",
   "execution_count": 5,
   "metadata": {
    "execution": {
     "iopub.execute_input": "2022-10-25T14:54:39.703991Z",
     "iopub.status.busy": "2022-10-25T14:54:39.703561Z",
     "iopub.status.idle": "2022-10-25T14:54:39.747489Z",
     "shell.execute_reply": "2022-10-25T14:54:39.746419Z"
    }
   },
   "outputs": [],
   "source": [
    "cdf_1 = df.causal.do(x={treatment: 1}, \n",
    "              variable_types={treatment: 'b', outcome: 'c', common_cause: 'c'}, \n",
    "              outcome=outcome, \n",
    "              dot_graph=data['dot_graph'],\n",
    "              proceed_when_unidentifiable=True)\n",
    "\n",
    "cdf_0 = df.causal.do(x={treatment: 0}, \n",
    "              variable_types={treatment: 'b', outcome: 'c', common_cause: 'c'}, \n",
    "              outcome=outcome, \n",
    "              dot_graph=data['dot_graph'],\n",
    "              proceed_when_unidentifiable=True)\n"
   ]
  },
  {
   "cell_type": "code",
   "execution_count": 6,
   "metadata": {
    "execution": {
     "iopub.execute_input": "2022-10-25T14:54:39.752175Z",
     "iopub.status.busy": "2022-10-25T14:54:39.751454Z",
     "iopub.status.idle": "2022-10-25T14:54:39.765836Z",
     "shell.execute_reply": "2022-10-25T14:54:39.764988Z"
    },
    "scrolled": true
   },
   "outputs": [
    {
     "data": {
      "text/html": [
       "<div>\n",
       "<style scoped>\n",
       "    .dataframe tbody tr th:only-of-type {\n",
       "        vertical-align: middle;\n",
       "    }\n",
       "\n",
       "    .dataframe tbody tr th {\n",
       "        vertical-align: top;\n",
       "    }\n",
       "\n",
       "    .dataframe thead th {\n",
       "        text-align: right;\n",
       "    }\n",
       "</style>\n",
       "<table border=\"1\" class=\"dataframe\">\n",
       "  <thead>\n",
       "    <tr style=\"text-align: right;\">\n",
       "      <th></th>\n",
       "      <th>W0</th>\n",
       "      <th>v0</th>\n",
       "      <th>y</th>\n",
       "      <th>propensity_score</th>\n",
       "      <th>weight</th>\n",
       "    </tr>\n",
       "  </thead>\n",
       "  <tbody>\n",
       "    <tr>\n",
       "      <th>0</th>\n",
       "      <td>-0.309961</td>\n",
       "      <td>False</td>\n",
       "      <td>0.575107</td>\n",
       "      <td>0.651282</td>\n",
       "      <td>1.535433</td>\n",
       "    </tr>\n",
       "    <tr>\n",
       "      <th>1</th>\n",
       "      <td>-0.983459</td>\n",
       "      <td>False</td>\n",
       "      <td>-1.226533</td>\n",
       "      <td>0.885595</td>\n",
       "      <td>1.129185</td>\n",
       "    </tr>\n",
       "    <tr>\n",
       "      <th>2</th>\n",
       "      <td>-0.502504</td>\n",
       "      <td>False</td>\n",
       "      <td>-0.662604</td>\n",
       "      <td>0.737141</td>\n",
       "      <td>1.356593</td>\n",
       "    </tr>\n",
       "    <tr>\n",
       "      <th>3</th>\n",
       "      <td>-0.508891</td>\n",
       "      <td>False</td>\n",
       "      <td>-2.520529</td>\n",
       "      <td>0.739745</td>\n",
       "      <td>1.351817</td>\n",
       "    </tr>\n",
       "    <tr>\n",
       "      <th>4</th>\n",
       "      <td>-0.236352</td>\n",
       "      <td>False</td>\n",
       "      <td>0.033590</td>\n",
       "      <td>0.615214</td>\n",
       "      <td>1.625451</td>\n",
       "    </tr>\n",
       "    <tr>\n",
       "      <th>...</th>\n",
       "      <td>...</td>\n",
       "      <td>...</td>\n",
       "      <td>...</td>\n",
       "      <td>...</td>\n",
       "      <td>...</td>\n",
       "    </tr>\n",
       "    <tr>\n",
       "      <th>995</th>\n",
       "      <td>0.507412</td>\n",
       "      <td>False</td>\n",
       "      <td>1.276103</td>\n",
       "      <td>0.249573</td>\n",
       "      <td>4.006839</td>\n",
       "    </tr>\n",
       "    <tr>\n",
       "      <th>996</th>\n",
       "      <td>-2.195287</td>\n",
       "      <td>False</td>\n",
       "      <td>-4.776804</td>\n",
       "      <td>0.990096</td>\n",
       "      <td>1.010004</td>\n",
       "    </tr>\n",
       "    <tr>\n",
       "      <th>997</th>\n",
       "      <td>-1.561450</td>\n",
       "      <td>False</td>\n",
       "      <td>-4.225458</td>\n",
       "      <td>0.963269</td>\n",
       "      <td>1.038131</td>\n",
       "    </tr>\n",
       "    <tr>\n",
       "      <th>998</th>\n",
       "      <td>-0.864832</td>\n",
       "      <td>False</td>\n",
       "      <td>-0.285299</td>\n",
       "      <td>0.857670</td>\n",
       "      <td>1.165949</td>\n",
       "    </tr>\n",
       "    <tr>\n",
       "      <th>999</th>\n",
       "      <td>-0.178102</td>\n",
       "      <td>False</td>\n",
       "      <td>-3.034473</td>\n",
       "      <td>0.585723</td>\n",
       "      <td>1.707293</td>\n",
       "    </tr>\n",
       "  </tbody>\n",
       "</table>\n",
       "<p>1000 rows × 5 columns</p>\n",
       "</div>"
      ],
      "text/plain": [
       "           W0     v0         y  propensity_score    weight\n",
       "0   -0.309961  False  0.575107          0.651282  1.535433\n",
       "1   -0.983459  False -1.226533          0.885595  1.129185\n",
       "2   -0.502504  False -0.662604          0.737141  1.356593\n",
       "3   -0.508891  False -2.520529          0.739745  1.351817\n",
       "4   -0.236352  False  0.033590          0.615214  1.625451\n",
       "..        ...    ...       ...               ...       ...\n",
       "995  0.507412  False  1.276103          0.249573  4.006839\n",
       "996 -2.195287  False -4.776804          0.990096  1.010004\n",
       "997 -1.561450  False -4.225458          0.963269  1.038131\n",
       "998 -0.864832  False -0.285299          0.857670  1.165949\n",
       "999 -0.178102  False -3.034473          0.585723  1.707293\n",
       "\n",
       "[1000 rows x 5 columns]"
      ]
     },
     "execution_count": 6,
     "metadata": {},
     "output_type": "execute_result"
    }
   ],
   "source": [
    "cdf_0"
   ]
  },
  {
   "cell_type": "code",
   "execution_count": 7,
   "metadata": {
    "execution": {
     "iopub.execute_input": "2022-10-25T14:54:39.769382Z",
     "iopub.status.busy": "2022-10-25T14:54:39.768898Z",
     "iopub.status.idle": "2022-10-25T14:54:39.783207Z",
     "shell.execute_reply": "2022-10-25T14:54:39.782372Z"
    }
   },
   "outputs": [
    {
     "data": {
      "text/html": [
       "<div>\n",
       "<style scoped>\n",
       "    .dataframe tbody tr th:only-of-type {\n",
       "        vertical-align: middle;\n",
       "    }\n",
       "\n",
       "    .dataframe tbody tr th {\n",
       "        vertical-align: top;\n",
       "    }\n",
       "\n",
       "    .dataframe thead th {\n",
       "        text-align: right;\n",
       "    }\n",
       "</style>\n",
       "<table border=\"1\" class=\"dataframe\">\n",
       "  <thead>\n",
       "    <tr style=\"text-align: right;\">\n",
       "      <th></th>\n",
       "      <th>W0</th>\n",
       "      <th>v0</th>\n",
       "      <th>y</th>\n",
       "      <th>propensity_score</th>\n",
       "      <th>weight</th>\n",
       "    </tr>\n",
       "  </thead>\n",
       "  <tbody>\n",
       "    <tr>\n",
       "      <th>0</th>\n",
       "      <td>-0.090766</td>\n",
       "      <td>True</td>\n",
       "      <td>3.938671</td>\n",
       "      <td>0.459605</td>\n",
       "      <td>2.175782</td>\n",
       "    </tr>\n",
       "    <tr>\n",
       "      <th>1</th>\n",
       "      <td>-2.028639</td>\n",
       "      <td>True</td>\n",
       "      <td>-0.433346</td>\n",
       "      <td>0.014022</td>\n",
       "      <td>71.316376</td>\n",
       "    </tr>\n",
       "    <tr>\n",
       "      <th>2</th>\n",
       "      <td>0.760238</td>\n",
       "      <td>True</td>\n",
       "      <td>7.724513</td>\n",
       "      <td>0.836803</td>\n",
       "      <td>1.195024</td>\n",
       "    </tr>\n",
       "    <tr>\n",
       "      <th>3</th>\n",
       "      <td>0.812503</td>\n",
       "      <td>True</td>\n",
       "      <td>6.873988</td>\n",
       "      <td>0.851317</td>\n",
       "      <td>1.174650</td>\n",
       "    </tr>\n",
       "    <tr>\n",
       "      <th>4</th>\n",
       "      <td>-0.582990</td>\n",
       "      <td>True</td>\n",
       "      <td>3.307252</td>\n",
       "      <td>0.231284</td>\n",
       "      <td>4.323690</td>\n",
       "    </tr>\n",
       "    <tr>\n",
       "      <th>...</th>\n",
       "      <td>...</td>\n",
       "      <td>...</td>\n",
       "      <td>...</td>\n",
       "      <td>...</td>\n",
       "      <td>...</td>\n",
       "    </tr>\n",
       "    <tr>\n",
       "      <th>995</th>\n",
       "      <td>-2.028639</td>\n",
       "      <td>True</td>\n",
       "      <td>-0.433346</td>\n",
       "      <td>0.014022</td>\n",
       "      <td>71.316376</td>\n",
       "    </tr>\n",
       "    <tr>\n",
       "      <th>996</th>\n",
       "      <td>0.780936</td>\n",
       "      <td>True</td>\n",
       "      <td>6.487420</td>\n",
       "      <td>0.842683</td>\n",
       "      <td>1.186686</td>\n",
       "    </tr>\n",
       "    <tr>\n",
       "      <th>997</th>\n",
       "      <td>-0.870783</td>\n",
       "      <td>True</td>\n",
       "      <td>3.379852</td>\n",
       "      <td>0.140803</td>\n",
       "      <td>7.102140</td>\n",
       "    </tr>\n",
       "    <tr>\n",
       "      <th>998</th>\n",
       "      <td>0.941639</td>\n",
       "      <td>True</td>\n",
       "      <td>5.729149</td>\n",
       "      <td>0.882632</td>\n",
       "      <td>1.132975</td>\n",
       "    </tr>\n",
       "    <tr>\n",
       "      <th>999</th>\n",
       "      <td>-0.199481</td>\n",
       "      <td>True</td>\n",
       "      <td>6.673574</td>\n",
       "      <td>0.403370</td>\n",
       "      <td>2.479113</td>\n",
       "    </tr>\n",
       "  </tbody>\n",
       "</table>\n",
       "<p>1000 rows × 5 columns</p>\n",
       "</div>"
      ],
      "text/plain": [
       "           W0    v0         y  propensity_score     weight\n",
       "0   -0.090766  True  3.938671          0.459605   2.175782\n",
       "1   -2.028639  True -0.433346          0.014022  71.316376\n",
       "2    0.760238  True  7.724513          0.836803   1.195024\n",
       "3    0.812503  True  6.873988          0.851317   1.174650\n",
       "4   -0.582990  True  3.307252          0.231284   4.323690\n",
       "..        ...   ...       ...               ...        ...\n",
       "995 -2.028639  True -0.433346          0.014022  71.316376\n",
       "996  0.780936  True  6.487420          0.842683   1.186686\n",
       "997 -0.870783  True  3.379852          0.140803   7.102140\n",
       "998  0.941639  True  5.729149          0.882632   1.132975\n",
       "999 -0.199481  True  6.673574          0.403370   2.479113\n",
       "\n",
       "[1000 rows x 5 columns]"
      ]
     },
     "execution_count": 7,
     "metadata": {},
     "output_type": "execute_result"
    }
   ],
   "source": [
    "cdf_1"
   ]
  },
  {
   "cell_type": "markdown",
   "metadata": {},
   "source": [
    "## Comparing the estimate to Linear Regression\n",
    "First, estimating the effect using the causal data frame, and the 95% confidence interval."
   ]
  },
  {
   "cell_type": "code",
   "execution_count": 8,
   "metadata": {
    "execution": {
     "iopub.execute_input": "2022-10-25T14:54:39.786898Z",
     "iopub.status.busy": "2022-10-25T14:54:39.786623Z",
     "iopub.status.idle": "2022-10-25T14:54:39.867250Z",
     "shell.execute_reply": "2022-10-25T14:54:39.866280Z"
    }
   },
   "outputs": [
    {
     "data": {
      "image/png": "[encoded data removed]",
      "text/latex": [
       "$\\displaystyle 4.94516165719543$"
      ],
      "text/plain": [
       "4.945161657195431"
      ]
     },
     "execution_count": 8,
     "metadata": {},
     "output_type": "execute_result"
    }
   ],
   "source": [
    "(cdf_1['y'] - cdf_0['y']).mean()"
   ]
  },
  {
   "cell_type": "code",
   "execution_count": 9,
   "metadata": {
    "execution": {
     "iopub.execute_input": "2022-10-25T14:54:39.872622Z",
     "iopub.status.busy": "2022-10-25T14:54:39.872348Z",
     "iopub.status.idle": "2022-10-25T14:54:39.899056Z",
     "shell.execute_reply": "2022-10-25T14:54:39.898126Z"
    }
   },
   "outputs": [
    {
     "data": {
      "image/png": "[encoded data removed]",
      "text/latex": [
       "$\\displaystyle 0.21509207145346$"
      ],
      "text/plain": [
       "0.21509207145346024"
      ]
     },
     "execution_count": 9,
     "metadata": {},
     "output_type": "execute_result"
    }
   ],
   "source": [
    "1.96*(cdf_1['y'] - cdf_0['y']).std() / np.sqrt(len(df))"
   ]
  },
  {
   "cell_type": "markdown",
   "metadata": {},
   "source": [
    "Comparing to the estimate from OLS."
   ]
  },
  {
   "cell_type": "code",
   "execution_count": 10,
   "metadata": {
    "execution": {
     "iopub.execute_input": "2022-10-25T14:54:39.903206Z",
     "iopub.status.busy": "2022-10-25T14:54:39.902926Z",
     "iopub.status.idle": "2022-10-25T14:54:39.923773Z",
     "shell.execute_reply": "2022-10-25T14:54:39.921880Z"
    }
   },
   "outputs": [
    {
     "data": {
      "text/html": [
       "<table class=\"simpletable\">\n",
       "<caption>OLS Regression Results</caption>\n",
       "<tr>\n",
       "  <th>Dep. Variable:</th>            <td>y</td>        <th>  R-squared (uncentered):</th>      <td>   0.949</td>\n",
       "</tr>\n",
       "<tr>\n",
       "  <th>Model:</th>                   <td>OLS</td>       <th>  Adj. R-squared (uncentered):</th> <td>   0.949</td>\n",
       "</tr>\n",
       "<tr>\n",
       "  <th>Method:</th>             <td>Least Squares</td>  <th>  F-statistic:       </th>          <td>   9259.</td>\n",
       "</tr>\n",
       "<tr>\n",
       "  <th>Date:</th>             <td>Tue, 25 Oct 2022</td> <th>  Prob (F-statistic):</th>           <td>  0.00</td> \n",
       "</tr>\n",
       "<tr>\n",
       "  <th>Time:</th>                 <td>14:54:39</td>     <th>  Log-Likelihood:    </th>          <td> -1419.1</td>\n",
       "</tr>\n",
       "<tr>\n",
       "  <th>No. Observations:</th>      <td>  1000</td>      <th>  AIC:               </th>          <td>   2842.</td>\n",
       "</tr>\n",
       "<tr>\n",
       "  <th>Df Residuals:</th>          <td>   998</td>      <th>  BIC:               </th>          <td>   2852.</td>\n",
       "</tr>\n",
       "<tr>\n",
       "  <th>Df Model:</th>              <td>     2</td>      <th>                     </th>              <td> </td>   \n",
       "</tr>\n",
       "<tr>\n",
       "  <th>Covariance Type:</th>      <td>nonrobust</td>    <th>                     </th>              <td> </td>   \n",
       "</tr>\n",
       "</table>\n",
       "<table class=\"simpletable\">\n",
       "<tr>\n",
       "   <td></td>     <th>coef</th>     <th>std err</th>      <th>t</th>      <th>P>|t|</th>  <th>[0.025</th>    <th>0.975]</th>  \n",
       "</tr>\n",
       "<tr>\n",
       "  <th>x1</th> <td>    2.2726</td> <td>    0.031</td> <td>   74.038</td> <td> 0.000</td> <td>    2.212</td> <td>    2.333</td>\n",
       "</tr>\n",
       "<tr>\n",
       "  <th>x2</th> <td>    5.0261</td> <td>    0.052</td> <td>   95.894</td> <td> 0.000</td> <td>    4.923</td> <td>    5.129</td>\n",
       "</tr>\n",
       "</table>\n",
       "<table class=\"simpletable\">\n",
       "<tr>\n",
       "  <th>Omnibus:</th>       <td> 3.238</td> <th>  Durbin-Watson:     </th> <td>   1.923</td>\n",
       "</tr>\n",
       "<tr>\n",
       "  <th>Prob(Omnibus):</th> <td> 0.198</td> <th>  Jarque-Bera (JB):  </th> <td>   3.090</td>\n",
       "</tr>\n",
       "<tr>\n",
       "  <th>Skew:</th>          <td>-0.122</td> <th>  Prob(JB):          </th> <td>   0.213</td>\n",
       "</tr>\n",
       "<tr>\n",
       "  <th>Kurtosis:</th>      <td> 3.119</td> <th>  Cond. No.          </th> <td>    1.79</td>\n",
       "</tr>\n",
       "</table><br/><br/>Notes:<br/>[1] R² is computed without centering (uncentered) since the model does not contain a constant.<br/>[2] Standard Errors assume that the covariance matrix of the errors is correctly specified."
      ],
      "text/plain": [
       "<class 'statsmodels.iolib.summary.Summary'>\n",
       "\"\"\"\n",
       "                                 OLS Regression Results                                \n",
       "=======================================================================================\n",
       "Dep. Variable:                      y   R-squared (uncentered):                   0.949\n",
       "Model:                            OLS   Adj. R-squared (uncentered):              0.949\n",
       "Method:                 Least Squares   F-statistic:                              9259.\n",
       "Date:                Tue, 25 Oct 2022   Prob (F-statistic):                        0.00\n",
       "Time:                        14:54:39   Log-Likelihood:                         -1419.1\n",
       "No. Observations:                1000   AIC:                                      2842.\n",
       "Df Residuals:                     998   BIC:                                      2852.\n",
       "Df Model:                           2                                                  \n",
       "Covariance Type:            nonrobust                                                  \n",
       "==============================================================================\n",
       "                 coef    std err          t      P>|t|      [0.025      0.975]\n",
       "------------------------------------------------------------------------------\n",
       "x1             2.2726      0.031     74.038      0.000       2.212       2.333\n",
       "x2             5.0261      0.052     95.894      0.000       4.923       5.129\n",
       "==============================================================================\n",
       "Omnibus:                        3.238   Durbin-Watson:                   1.923\n",
       "Prob(Omnibus):                  0.198   Jarque-Bera (JB):                3.090\n",
       "Skew:                          -0.122   Prob(JB):                        0.213\n",
       "Kurtosis:                       3.119   Cond. No.                         1.79\n",
       "==============================================================================\n",
       "\n",
       "Notes:\n",
       "[1] R² is computed without centering (uncentered) since the model does not contain a constant.\n",
       "[2] Standard Errors assume that the covariance matrix of the errors is correctly specified.\n",
       "\"\"\""
      ]
     },
     "execution_count": 10,
     "metadata": {},
     "output_type": "execute_result"
    }
   ],
   "source": [
    "model = OLS(np.asarray(df[outcome]), np.asarray(df[[common_cause, treatment]], dtype=np.float64))\n",
    "result = model.fit()\n",
    "result.summary()"
   ]
  }
 ],
 "metadata": {
  "kernelspec": {
   "display_name": "Python 3",
   "language": "python",
   "name": "python3"
  },
  "language_info": {
   "codemirror_mode": {
    "name": "ipython",
    "version": 3
   },
   "file_extension": ".py",
   "mimetype": "text/x-python",
   "name": "python",
   "nbconvert_exporter": "python",
   "pygments_lexer": "ipython3",
   "version": "3.8.10"
  },
  "toc": {
   "base_numbering": 1,
   "nav_menu": {},
   "number_sections": false,
   "sideBar": true,
   "skip_h1_title": true,
   "title_cell": "Table of Contents",
   "title_sidebar": "Contents",
   "toc_cell": false,
   "toc_position": {},
   "toc_section_display": true,
   "toc_window_display": false
  }
 },
 "nbformat": 4,
 "nbformat_minor": 4
}
