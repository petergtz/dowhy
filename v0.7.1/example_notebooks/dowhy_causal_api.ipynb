{
 "cells": [
  {
   "cell_type": "markdown",
   "metadata": {},
   "source": [
    "# Demo for the DoWhy causal API\n",
    "We show a simple example of adding a causal extension to any dataframe. "
   ]
  },
  {
   "cell_type": "code",
   "execution_count": 1,
   "metadata": {
    "execution": {
     "iopub.execute_input": "2022-07-29T15:14:18.498681Z",
     "iopub.status.busy": "2022-07-29T15:14:18.498203Z",
     "iopub.status.idle": "2022-07-29T15:14:19.766113Z",
     "shell.execute_reply": "2022-07-29T15:14:19.765025Z"
    }
   },
   "outputs": [
    {
     "name": "stdout",
     "output_type": "stream",
     "text": [
      "keywords are unexpanded, not using\n"
     ]
    }
   ],
   "source": [
    "import dowhy.datasets\n",
    "import dowhy.api\n",
    "\n",
    "import numpy as np\n",
    "import pandas as pd\n",
    "\n",
    "from statsmodels.api import OLS"
   ]
  },
  {
   "cell_type": "code",
   "execution_count": 2,
   "metadata": {
    "execution": {
     "iopub.execute_input": "2022-07-29T15:14:19.770916Z",
     "iopub.status.busy": "2022-07-29T15:14:19.770119Z",
     "iopub.status.idle": "2022-07-29T15:14:19.818369Z",
     "shell.execute_reply": "2022-07-29T15:14:19.817400Z"
    }
   },
   "outputs": [
    {
     "data": {
      "text/html": [
       "<div>\n",
       "<style scoped>\n",
       "    .dataframe tbody tr th:only-of-type {\n",
       "        vertical-align: middle;\n",
       "    }\n",
       "\n",
       "    .dataframe tbody tr th {\n",
       "        vertical-align: top;\n",
       "    }\n",
       "\n",
       "    .dataframe thead th {\n",
       "        text-align: right;\n",
       "    }\n",
       "</style>\n",
       "<table border=\"1\" class=\"dataframe\">\n",
       "  <thead>\n",
       "    <tr style=\"text-align: right;\">\n",
       "      <th></th>\n",
       "      <th>W0</th>\n",
       "      <th>v0</th>\n",
       "      <th>y</th>\n",
       "    </tr>\n",
       "  </thead>\n",
       "  <tbody>\n",
       "    <tr>\n",
       "      <th>0</th>\n",
       "      <td>-1.458611</td>\n",
       "      <td>False</td>\n",
       "      <td>-2.972597</td>\n",
       "    </tr>\n",
       "    <tr>\n",
       "      <th>1</th>\n",
       "      <td>-1.542767</td>\n",
       "      <td>False</td>\n",
       "      <td>-3.271322</td>\n",
       "    </tr>\n",
       "    <tr>\n",
       "      <th>2</th>\n",
       "      <td>1.472805</td>\n",
       "      <td>True</td>\n",
       "      <td>5.484167</td>\n",
       "    </tr>\n",
       "    <tr>\n",
       "      <th>3</th>\n",
       "      <td>-0.838632</td>\n",
       "      <td>False</td>\n",
       "      <td>-3.090955</td>\n",
       "    </tr>\n",
       "    <tr>\n",
       "      <th>4</th>\n",
       "      <td>-1.639997</td>\n",
       "      <td>True</td>\n",
       "      <td>2.729702</td>\n",
       "    </tr>\n",
       "    <tr>\n",
       "      <th>...</th>\n",
       "      <td>...</td>\n",
       "      <td>...</td>\n",
       "      <td>...</td>\n",
       "    </tr>\n",
       "    <tr>\n",
       "      <th>995</th>\n",
       "      <td>-1.943703</td>\n",
       "      <td>False</td>\n",
       "      <td>-4.289895</td>\n",
       "    </tr>\n",
       "    <tr>\n",
       "      <th>996</th>\n",
       "      <td>1.256829</td>\n",
       "      <td>True</td>\n",
       "      <td>7.052963</td>\n",
       "    </tr>\n",
       "    <tr>\n",
       "      <th>997</th>\n",
       "      <td>0.299659</td>\n",
       "      <td>True</td>\n",
       "      <td>6.813267</td>\n",
       "    </tr>\n",
       "    <tr>\n",
       "      <th>998</th>\n",
       "      <td>1.306189</td>\n",
       "      <td>True</td>\n",
       "      <td>6.999650</td>\n",
       "    </tr>\n",
       "    <tr>\n",
       "      <th>999</th>\n",
       "      <td>-1.087762</td>\n",
       "      <td>False</td>\n",
       "      <td>-0.914769</td>\n",
       "    </tr>\n",
       "  </tbody>\n",
       "</table>\n",
       "<p>1000 rows × 3 columns</p>\n",
       "</div>"
      ],
      "text/plain": [
       "           W0     v0         y\n",
       "0   -1.458611  False -2.972597\n",
       "1   -1.542767  False -3.271322\n",
       "2    1.472805   True  5.484167\n",
       "3   -0.838632  False -3.090955\n",
       "4   -1.639997   True  2.729702\n",
       "..        ...    ...       ...\n",
       "995 -1.943703  False -4.289895\n",
       "996  1.256829   True  7.052963\n",
       "997  0.299659   True  6.813267\n",
       "998  1.306189   True  6.999650\n",
       "999 -1.087762  False -0.914769\n",
       "\n",
       "[1000 rows x 3 columns]"
      ]
     },
     "execution_count": 2,
     "metadata": {},
     "output_type": "execute_result"
    }
   ],
   "source": [
    "data = dowhy.datasets.linear_dataset(beta=5,\n",
    "        num_common_causes=1,\n",
    "        num_instruments = 0,\n",
    "        num_samples=1000,\n",
    "        treatment_is_binary=True)\n",
    "df = data['df']\n",
    "df['y'] = df['y'] + np.random.normal(size=len(df)) # Adding noise to data. Without noise, the variance in Y|X, Z is zero, and mcmc fails.\n",
    "#data['dot_graph'] = 'digraph { v ->y;X0-> v;X0-> y;}'\n",
    "\n",
    "treatment= data[\"treatment_name\"][0]\n",
    "outcome = data[\"outcome_name\"][0]\n",
    "common_cause = data[\"common_causes_names\"][0]\n",
    "df"
   ]
  },
  {
   "cell_type": "code",
   "execution_count": 3,
   "metadata": {
    "execution": {
     "iopub.execute_input": "2022-07-29T15:14:19.825413Z",
     "iopub.status.busy": "2022-07-29T15:14:19.824473Z",
     "iopub.status.idle": "2022-07-29T15:14:20.633937Z",
     "shell.execute_reply": "2022-07-29T15:14:20.633326Z"
    }
   },
   "outputs": [
    {
     "data": {
      "text/plain": [
       "<AxesSubplot:xlabel='v0'>"
      ]
     },
     "execution_count": 3,
     "metadata": {},
     "output_type": "execute_result"
    },
    {
     "data": {
      "image/png": "[encoded data removed]",
      "text/plain": [
       "<Figure size 432x288 with 1 Axes>"
      ]
     },
     "metadata": {
      "needs_background": "light"
     },
     "output_type": "display_data"
    }
   ],
   "source": [
    "# data['df'] is just a regular pandas.DataFrame\n",
    "df.causal.do(x=treatment,\n",
    "                     variable_types={treatment: 'b', outcome: 'c', common_cause: 'c'},\n",
    "                     outcome=outcome,\n",
    "                     common_causes=[common_cause],\n",
    "                     proceed_when_unidentifiable=True).groupby(treatment).mean().plot(y=outcome, kind='bar')"
   ]
  },
  {
   "cell_type": "code",
   "execution_count": 4,
   "metadata": {
    "execution": {
     "iopub.execute_input": "2022-07-29T15:14:20.638025Z",
     "iopub.status.busy": "2022-07-29T15:14:20.636697Z",
     "iopub.status.idle": "2022-07-29T15:14:20.732869Z",
     "shell.execute_reply": "2022-07-29T15:14:20.732261Z"
    }
   },
   "outputs": [
    {
     "data": {
      "text/plain": [
       "<AxesSubplot:xlabel='v0'>"
      ]
     },
     "execution_count": 4,
     "metadata": {},
     "output_type": "execute_result"
    },
    {
     "data": {
      "image/png": "[encoded data removed]",
      "text/plain": [
       "<Figure size 432x288 with 1 Axes>"
      ]
     },
     "metadata": {
      "needs_background": "light"
     },
     "output_type": "display_data"
    }
   ],
   "source": [
    "df.causal.do(x={treatment: 1}, \n",
    "              variable_types={treatment:'b', outcome: 'c', common_cause: 'c'}, \n",
    "              outcome=outcome,\n",
    "              method='weighting', \n",
    "              common_causes=[common_cause],\n",
    "              proceed_when_unidentifiable=True).groupby(treatment).mean().plot(y=outcome, kind='bar')"
   ]
  },
  {
   "cell_type": "code",
   "execution_count": 5,
   "metadata": {
    "execution": {
     "iopub.execute_input": "2022-07-29T15:14:20.737536Z",
     "iopub.status.busy": "2022-07-29T15:14:20.736419Z",
     "iopub.status.idle": "2022-07-29T15:14:20.771208Z",
     "shell.execute_reply": "2022-07-29T15:14:20.770570Z"
    }
   },
   "outputs": [],
   "source": [
    "cdf_1 = df.causal.do(x={treatment: 1}, \n",
    "              variable_types={treatment: 'b', outcome: 'c', common_cause: 'c'}, \n",
    "              outcome=outcome, \n",
    "              dot_graph=data['dot_graph'],\n",
    "              proceed_when_unidentifiable=True)\n",
    "\n",
    "cdf_0 = df.causal.do(x={treatment: 0}, \n",
    "              variable_types={treatment: 'b', outcome: 'c', common_cause: 'c'}, \n",
    "              outcome=outcome, \n",
    "              dot_graph=data['dot_graph'],\n",
    "              proceed_when_unidentifiable=True)\n"
   ]
  },
  {
   "cell_type": "code",
   "execution_count": 6,
   "metadata": {
    "execution": {
     "iopub.execute_input": "2022-07-29T15:14:20.775027Z",
     "iopub.status.busy": "2022-07-29T15:14:20.774542Z",
     "iopub.status.idle": "2022-07-29T15:14:20.785853Z",
     "shell.execute_reply": "2022-07-29T15:14:20.785166Z"
    },
    "scrolled": true
   },
   "outputs": [
    {
     "data": {
      "text/html": [
       "<div>\n",
       "<style scoped>\n",
       "    .dataframe tbody tr th:only-of-type {\n",
       "        vertical-align: middle;\n",
       "    }\n",
       "\n",
       "    .dataframe tbody tr th {\n",
       "        vertical-align: top;\n",
       "    }\n",
       "\n",
       "    .dataframe thead th {\n",
       "        text-align: right;\n",
       "    }\n",
       "</style>\n",
       "<table border=\"1\" class=\"dataframe\">\n",
       "  <thead>\n",
       "    <tr style=\"text-align: right;\">\n",
       "      <th></th>\n",
       "      <th>W0</th>\n",
       "      <th>v0</th>\n",
       "      <th>y</th>\n",
       "      <th>propensity_score</th>\n",
       "      <th>weight</th>\n",
       "    </tr>\n",
       "  </thead>\n",
       "  <tbody>\n",
       "    <tr>\n",
       "      <th>0</th>\n",
       "      <td>-1.422722</td>\n",
       "      <td>False</td>\n",
       "      <td>-2.114200</td>\n",
       "      <td>0.919434</td>\n",
       "      <td>1.087626</td>\n",
       "    </tr>\n",
       "    <tr>\n",
       "      <th>1</th>\n",
       "      <td>-1.470616</td>\n",
       "      <td>False</td>\n",
       "      <td>-2.728382</td>\n",
       "      <td>0.925490</td>\n",
       "      <td>1.080508</td>\n",
       "    </tr>\n",
       "    <tr>\n",
       "      <th>2</th>\n",
       "      <td>-1.418728</td>\n",
       "      <td>False</td>\n",
       "      <td>-3.744910</td>\n",
       "      <td>0.918909</td>\n",
       "      <td>1.088247</td>\n",
       "    </tr>\n",
       "    <tr>\n",
       "      <th>3</th>\n",
       "      <td>-1.083979</td>\n",
       "      <td>False</td>\n",
       "      <td>0.298700</td>\n",
       "      <td>0.862420</td>\n",
       "      <td>1.159528</td>\n",
       "    </tr>\n",
       "    <tr>\n",
       "      <th>4</th>\n",
       "      <td>-0.508073</td>\n",
       "      <td>False</td>\n",
       "      <td>0.899215</td>\n",
       "      <td>0.693581</td>\n",
       "      <td>1.441792</td>\n",
       "    </tr>\n",
       "    <tr>\n",
       "      <th>...</th>\n",
       "      <td>...</td>\n",
       "      <td>...</td>\n",
       "      <td>...</td>\n",
       "      <td>...</td>\n",
       "      <td>...</td>\n",
       "    </tr>\n",
       "    <tr>\n",
       "      <th>995</th>\n",
       "      <td>-1.295315</td>\n",
       "      <td>False</td>\n",
       "      <td>-2.984849</td>\n",
       "      <td>0.901085</td>\n",
       "      <td>1.109774</td>\n",
       "    </tr>\n",
       "    <tr>\n",
       "      <th>996</th>\n",
       "      <td>-0.045899</td>\n",
       "      <td>False</td>\n",
       "      <td>-0.026670</td>\n",
       "      <td>0.499863</td>\n",
       "      <td>2.000547</td>\n",
       "    </tr>\n",
       "    <tr>\n",
       "      <th>997</th>\n",
       "      <td>1.153602</td>\n",
       "      <td>False</td>\n",
       "      <td>2.744859</td>\n",
       "      <td>0.106963</td>\n",
       "      <td>9.349003</td>\n",
       "    </tr>\n",
       "    <tr>\n",
       "      <th>998</th>\n",
       "      <td>-0.949116</td>\n",
       "      <td>False</td>\n",
       "      <td>-2.424427</td>\n",
       "      <td>0.831599</td>\n",
       "      <td>1.202503</td>\n",
       "    </tr>\n",
       "    <tr>\n",
       "      <th>999</th>\n",
       "      <td>-1.274300</td>\n",
       "      <td>False</td>\n",
       "      <td>-2.630482</td>\n",
       "      <td>0.897722</td>\n",
       "      <td>1.113931</td>\n",
       "    </tr>\n",
       "  </tbody>\n",
       "</table>\n",
       "<p>1000 rows × 5 columns</p>\n",
       "</div>"
      ],
      "text/plain": [
       "           W0     v0         y  propensity_score    weight\n",
       "0   -1.422722  False -2.114200          0.919434  1.087626\n",
       "1   -1.470616  False -2.728382          0.925490  1.080508\n",
       "2   -1.418728  False -3.744910          0.918909  1.088247\n",
       "3   -1.083979  False  0.298700          0.862420  1.159528\n",
       "4   -0.508073  False  0.899215          0.693581  1.441792\n",
       "..        ...    ...       ...               ...       ...\n",
       "995 -1.295315  False -2.984849          0.901085  1.109774\n",
       "996 -0.045899  False -0.026670          0.499863  2.000547\n",
       "997  1.153602  False  2.744859          0.106963  9.349003\n",
       "998 -0.949116  False -2.424427          0.831599  1.202503\n",
       "999 -1.274300  False -2.630482          0.897722  1.113931\n",
       "\n",
       "[1000 rows x 5 columns]"
      ]
     },
     "execution_count": 6,
     "metadata": {},
     "output_type": "execute_result"
    }
   ],
   "source": [
    "cdf_0"
   ]
  },
  {
   "cell_type": "code",
   "execution_count": 7,
   "metadata": {
    "execution": {
     "iopub.execute_input": "2022-07-29T15:14:20.789079Z",
     "iopub.status.busy": "2022-07-29T15:14:20.788619Z",
     "iopub.status.idle": "2022-07-29T15:14:20.799611Z",
     "shell.execute_reply": "2022-07-29T15:14:20.798898Z"
    }
   },
   "outputs": [
    {
     "data": {
      "text/html": [
       "<div>\n",
       "<style scoped>\n",
       "    .dataframe tbody tr th:only-of-type {\n",
       "        vertical-align: middle;\n",
       "    }\n",
       "\n",
       "    .dataframe tbody tr th {\n",
       "        vertical-align: top;\n",
       "    }\n",
       "\n",
       "    .dataframe thead th {\n",
       "        text-align: right;\n",
       "    }\n",
       "</style>\n",
       "<table border=\"1\" class=\"dataframe\">\n",
       "  <thead>\n",
       "    <tr style=\"text-align: right;\">\n",
       "      <th></th>\n",
       "      <th>W0</th>\n",
       "      <th>v0</th>\n",
       "      <th>y</th>\n",
       "      <th>propensity_score</th>\n",
       "      <th>weight</th>\n",
       "    </tr>\n",
       "  </thead>\n",
       "  <tbody>\n",
       "    <tr>\n",
       "      <th>0</th>\n",
       "      <td>-1.138906</td>\n",
       "      <td>True</td>\n",
       "      <td>2.283783</td>\n",
       "      <td>0.126453</td>\n",
       "      <td>7.908060</td>\n",
       "    </tr>\n",
       "    <tr>\n",
       "      <th>1</th>\n",
       "      <td>0.541448</td>\n",
       "      <td>True</td>\n",
       "      <td>6.151780</td>\n",
       "      <td>0.738736</td>\n",
       "      <td>1.353664</td>\n",
       "    </tr>\n",
       "    <tr>\n",
       "      <th>2</th>\n",
       "      <td>0.394274</td>\n",
       "      <td>True</td>\n",
       "      <td>5.144971</td>\n",
       "      <td>0.685485</td>\n",
       "      <td>1.458821</td>\n",
       "    </tr>\n",
       "    <tr>\n",
       "      <th>3</th>\n",
       "      <td>1.641043</td>\n",
       "      <td>True</td>\n",
       "      <td>7.709163</td>\n",
       "      <td>0.951860</td>\n",
       "      <td>1.050575</td>\n",
       "    </tr>\n",
       "    <tr>\n",
       "      <th>4</th>\n",
       "      <td>-0.093108</td>\n",
       "      <td>True</td>\n",
       "      <td>6.130707</td>\n",
       "      <td>0.479274</td>\n",
       "      <td>2.086490</td>\n",
       "    </tr>\n",
       "    <tr>\n",
       "      <th>...</th>\n",
       "      <td>...</td>\n",
       "      <td>...</td>\n",
       "      <td>...</td>\n",
       "      <td>...</td>\n",
       "      <td>...</td>\n",
       "    </tr>\n",
       "    <tr>\n",
       "      <th>995</th>\n",
       "      <td>-0.278227</td>\n",
       "      <td>True</td>\n",
       "      <td>3.525537</td>\n",
       "      <td>0.398821</td>\n",
       "      <td>2.507389</td>\n",
       "    </tr>\n",
       "    <tr>\n",
       "      <th>996</th>\n",
       "      <td>0.657151</td>\n",
       "      <td>True</td>\n",
       "      <td>6.239023</td>\n",
       "      <td>0.776269</td>\n",
       "      <td>1.288214</td>\n",
       "    </tr>\n",
       "    <tr>\n",
       "      <th>997</th>\n",
       "      <td>-0.527790</td>\n",
       "      <td>True</td>\n",
       "      <td>3.105656</td>\n",
       "      <td>0.299058</td>\n",
       "      <td>3.343834</td>\n",
       "    </tr>\n",
       "    <tr>\n",
       "      <th>998</th>\n",
       "      <td>-1.131235</td>\n",
       "      <td>True</td>\n",
       "      <td>3.669502</td>\n",
       "      <td>0.127960</td>\n",
       "      <td>7.814965</td>\n",
       "    </tr>\n",
       "    <tr>\n",
       "      <th>999</th>\n",
       "      <td>-0.130264</td>\n",
       "      <td>True</td>\n",
       "      <td>6.126615</td>\n",
       "      <td>0.462900</td>\n",
       "      <td>2.160292</td>\n",
       "    </tr>\n",
       "  </tbody>\n",
       "</table>\n",
       "<p>1000 rows × 5 columns</p>\n",
       "</div>"
      ],
      "text/plain": [
       "           W0    v0         y  propensity_score    weight\n",
       "0   -1.138906  True  2.283783          0.126453  7.908060\n",
       "1    0.541448  True  6.151780          0.738736  1.353664\n",
       "2    0.394274  True  5.144971          0.685485  1.458821\n",
       "3    1.641043  True  7.709163          0.951860  1.050575\n",
       "4   -0.093108  True  6.130707          0.479274  2.086490\n",
       "..        ...   ...       ...               ...       ...\n",
       "995 -0.278227  True  3.525537          0.398821  2.507389\n",
       "996  0.657151  True  6.239023          0.776269  1.288214\n",
       "997 -0.527790  True  3.105656          0.299058  3.343834\n",
       "998 -1.131235  True  3.669502          0.127960  7.814965\n",
       "999 -0.130264  True  6.126615          0.462900  2.160292\n",
       "\n",
       "[1000 rows x 5 columns]"
      ]
     },
     "execution_count": 7,
     "metadata": {},
     "output_type": "execute_result"
    }
   ],
   "source": [
    "cdf_1"
   ]
  },
  {
   "cell_type": "markdown",
   "metadata": {},
   "source": [
    "## Comparing the estimate to Linear Regression\n",
    "First, estimating the effect using the causal data frame, and the 95% confidence interval."
   ]
  },
  {
   "cell_type": "code",
   "execution_count": 8,
   "metadata": {
    "execution": {
     "iopub.execute_input": "2022-07-29T15:14:20.802843Z",
     "iopub.status.busy": "2022-07-29T15:14:20.802348Z",
     "iopub.status.idle": "2022-07-29T15:14:20.904776Z",
     "shell.execute_reply": "2022-07-29T15:14:20.903984Z"
    }
   },
   "outputs": [
    {
     "data": {
      "image/png": "[encoded data removed]",
      "text/latex": [
       "$\\displaystyle 5.10239818425547$"
      ],
      "text/plain": [
       "5.102398184255466"
      ]
     },
     "execution_count": 8,
     "metadata": {},
     "output_type": "execute_result"
    }
   ],
   "source": [
    "(cdf_1['y'] - cdf_0['y']).mean()"
   ]
  },
  {
   "cell_type": "code",
   "execution_count": 9,
   "metadata": {
    "execution": {
     "iopub.execute_input": "2022-07-29T15:14:20.908429Z",
     "iopub.status.busy": "2022-07-29T15:14:20.908001Z",
     "iopub.status.idle": "2022-07-29T15:14:20.934846Z",
     "shell.execute_reply": "2022-07-29T15:14:20.934085Z"
    }
   },
   "outputs": [
    {
     "data": {
      "image/png": "[encoded data removed]",
      "text/latex": [
       "$\\displaystyle 0.162516496261713$"
      ],
      "text/plain": [
       "0.16251649626171308"
      ]
     },
     "execution_count": 9,
     "metadata": {},
     "output_type": "execute_result"
    }
   ],
   "source": [
    "1.96*(cdf_1['y'] - cdf_0['y']).std() / np.sqrt(len(df))"
   ]
  },
  {
   "cell_type": "markdown",
   "metadata": {},
   "source": [
    "Comparing to the estimate from OLS."
   ]
  },
  {
   "cell_type": "code",
   "execution_count": 10,
   "metadata": {
    "execution": {
     "iopub.execute_input": "2022-07-29T15:14:20.938608Z",
     "iopub.status.busy": "2022-07-29T15:14:20.938200Z",
     "iopub.status.idle": "2022-07-29T15:14:20.956209Z",
     "shell.execute_reply": "2022-07-29T15:14:20.955469Z"
    }
   },
   "outputs": [
    {
     "data": {
      "text/html": [
       "<table class=\"simpletable\">\n",
       "<caption>OLS Regression Results</caption>\n",
       "<tr>\n",
       "  <th>Dep. Variable:</th>            <td>y</td>        <th>  R-squared (uncentered):</th>      <td>   0.940</td>\n",
       "</tr>\n",
       "<tr>\n",
       "  <th>Model:</th>                   <td>OLS</td>       <th>  Adj. R-squared (uncentered):</th> <td>   0.939</td>\n",
       "</tr>\n",
       "<tr>\n",
       "  <th>Method:</th>             <td>Least Squares</td>  <th>  F-statistic:       </th>          <td>   7760.</td>\n",
       "</tr>\n",
       "<tr>\n",
       "  <th>Date:</th>             <td>Fri, 29 Jul 2022</td> <th>  Prob (F-statistic):</th>           <td>  0.00</td> \n",
       "</tr>\n",
       "<tr>\n",
       "  <th>Time:</th>                 <td>15:14:20</td>     <th>  Log-Likelihood:    </th>          <td> -1397.8</td>\n",
       "</tr>\n",
       "<tr>\n",
       "  <th>No. Observations:</th>      <td>  1000</td>      <th>  AIC:               </th>          <td>   2800.</td>\n",
       "</tr>\n",
       "<tr>\n",
       "  <th>Df Residuals:</th>          <td>   998</td>      <th>  BIC:               </th>          <td>   2809.</td>\n",
       "</tr>\n",
       "<tr>\n",
       "  <th>Df Model:</th>              <td>     2</td>      <th>                     </th>              <td> </td>   \n",
       "</tr>\n",
       "<tr>\n",
       "  <th>Covariance Type:</th>      <td>nonrobust</td>    <th>                     </th>              <td> </td>   \n",
       "</tr>\n",
       "</table>\n",
       "<table class=\"simpletable\">\n",
       "<tr>\n",
       "   <td></td>     <th>coef</th>     <th>std err</th>      <th>t</th>      <th>P>|t|</th>  <th>[0.025</th>    <th>0.975]</th>  \n",
       "</tr>\n",
       "<tr>\n",
       "  <th>x1</th> <td>    1.6290</td> <td>    0.029</td> <td>   56.562</td> <td> 0.000</td> <td>    1.572</td> <td>    1.686</td>\n",
       "</tr>\n",
       "<tr>\n",
       "  <th>x2</th> <td>    4.9986</td> <td>    0.050</td> <td>   99.433</td> <td> 0.000</td> <td>    4.900</td> <td>    5.097</td>\n",
       "</tr>\n",
       "</table>\n",
       "<table class=\"simpletable\">\n",
       "<tr>\n",
       "  <th>Omnibus:</th>       <td> 0.568</td> <th>  Durbin-Watson:     </th> <td>   1.980</td>\n",
       "</tr>\n",
       "<tr>\n",
       "  <th>Prob(Omnibus):</th> <td> 0.753</td> <th>  Jarque-Bera (JB):  </th> <td>   0.443</td>\n",
       "</tr>\n",
       "<tr>\n",
       "  <th>Skew:</th>          <td>-0.016</td> <th>  Prob(JB):          </th> <td>   0.801</td>\n",
       "</tr>\n",
       "<tr>\n",
       "  <th>Kurtosis:</th>      <td> 3.098</td> <th>  Cond. No.          </th> <td>    1.80</td>\n",
       "</tr>\n",
       "</table><br/><br/>Notes:<br/>[1] R² is computed without centering (uncentered) since the model does not contain a constant.<br/>[2] Standard Errors assume that the covariance matrix of the errors is correctly specified."
      ],
      "text/plain": [
       "<class 'statsmodels.iolib.summary.Summary'>\n",
       "\"\"\"\n",
       "                                 OLS Regression Results                                \n",
       "=======================================================================================\n",
       "Dep. Variable:                      y   R-squared (uncentered):                   0.940\n",
       "Model:                            OLS   Adj. R-squared (uncentered):              0.939\n",
       "Method:                 Least Squares   F-statistic:                              7760.\n",
       "Date:                Fri, 29 Jul 2022   Prob (F-statistic):                        0.00\n",
       "Time:                        15:14:20   Log-Likelihood:                         -1397.8\n",
       "No. Observations:                1000   AIC:                                      2800.\n",
       "Df Residuals:                     998   BIC:                                      2809.\n",
       "Df Model:                           2                                                  \n",
       "Covariance Type:            nonrobust                                                  \n",
       "==============================================================================\n",
       "                 coef    std err          t      P>|t|      [0.025      0.975]\n",
       "------------------------------------------------------------------------------\n",
       "x1             1.6290      0.029     56.562      0.000       1.572       1.686\n",
       "x2             4.9986      0.050     99.433      0.000       4.900       5.097\n",
       "==============================================================================\n",
       "Omnibus:                        0.568   Durbin-Watson:                   1.980\n",
       "Prob(Omnibus):                  0.753   Jarque-Bera (JB):                0.443\n",
       "Skew:                          -0.016   Prob(JB):                        0.801\n",
       "Kurtosis:                       3.098   Cond. No.                         1.80\n",
       "==============================================================================\n",
       "\n",
       "Notes:\n",
       "[1] R² is computed without centering (uncentered) since the model does not contain a constant.\n",
       "[2] Standard Errors assume that the covariance matrix of the errors is correctly specified.\n",
       "\"\"\""
      ]
     },
     "execution_count": 10,
     "metadata": {},
     "output_type": "execute_result"
    }
   ],
   "source": [
    "model = OLS(np.asarray(df[outcome]), np.asarray(df[[common_cause, treatment]], dtype=np.float64))\n",
    "result = model.fit()\n",
    "result.summary()"
   ]
  }
 ],
 "metadata": {
  "kernelspec": {
   "display_name": "Python 3",
   "language": "python",
   "name": "python3"
  },
  "language_info": {
   "codemirror_mode": {
    "name": "ipython",
    "version": 3
   },
   "file_extension": ".py",
   "mimetype": "text/x-python",
   "name": "python",
   "nbconvert_exporter": "python",
   "pygments_lexer": "ipython3",
   "version": "3.8.10"
  },
  "toc": {
   "base_numbering": 1,
   "nav_menu": {},
   "number_sections": false,
   "sideBar": true,
   "skip_h1_title": true,
   "title_cell": "Table of Contents",
   "title_sidebar": "Contents",
   "toc_cell": false,
   "toc_position": {},
   "toc_section_display": true,
   "toc_window_display": false
  }
 },
 "nbformat": 4,
 "nbformat_minor": 4
}
