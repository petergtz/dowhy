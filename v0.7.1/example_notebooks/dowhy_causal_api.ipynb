{
 "cells": [
  {
   "cell_type": "markdown",
   "metadata": {},
   "source": [
    "# Demo for the DoWhy causal API\n",
    "We show a simple example of adding a causal extension to any dataframe. "
   ]
  },
  {
   "cell_type": "code",
   "execution_count": 1,
   "metadata": {
    "execution": {
     "iopub.execute_input": "2022-10-17T12:57:14.088847Z",
     "iopub.status.busy": "2022-10-17T12:57:14.088486Z",
     "iopub.status.idle": "2022-10-17T12:57:16.446717Z",
     "shell.execute_reply": "2022-10-17T12:57:16.445674Z"
    }
   },
   "outputs": [],
   "source": [
    "import dowhy.datasets\n",
    "import dowhy.api\n",
    "\n",
    "import numpy as np\n",
    "import pandas as pd\n",
    "\n",
    "from statsmodels.api import OLS"
   ]
  },
  {
   "cell_type": "code",
   "execution_count": 2,
   "metadata": {
    "execution": {
     "iopub.execute_input": "2022-10-17T12:57:16.453588Z",
     "iopub.status.busy": "2022-10-17T12:57:16.451317Z",
     "iopub.status.idle": "2022-10-17T12:57:16.508030Z",
     "shell.execute_reply": "2022-10-17T12:57:16.506984Z"
    }
   },
   "outputs": [
    {
     "data": {
      "text/html": [
       "<div>\n",
       "<style scoped>\n",
       "    .dataframe tbody tr th:only-of-type {\n",
       "        vertical-align: middle;\n",
       "    }\n",
       "\n",
       "    .dataframe tbody tr th {\n",
       "        vertical-align: top;\n",
       "    }\n",
       "\n",
       "    .dataframe thead th {\n",
       "        text-align: right;\n",
       "    }\n",
       "</style>\n",
       "<table border=\"1\" class=\"dataframe\">\n",
       "  <thead>\n",
       "    <tr style=\"text-align: right;\">\n",
       "      <th></th>\n",
       "      <th>W0</th>\n",
       "      <th>v0</th>\n",
       "      <th>y</th>\n",
       "    </tr>\n",
       "  </thead>\n",
       "  <tbody>\n",
       "    <tr>\n",
       "      <th>0</th>\n",
       "      <td>-1.226240</td>\n",
       "      <td>False</td>\n",
       "      <td>-1.964265</td>\n",
       "    </tr>\n",
       "    <tr>\n",
       "      <th>1</th>\n",
       "      <td>0.656474</td>\n",
       "      <td>True</td>\n",
       "      <td>4.685681</td>\n",
       "    </tr>\n",
       "    <tr>\n",
       "      <th>2</th>\n",
       "      <td>-0.453865</td>\n",
       "      <td>True</td>\n",
       "      <td>5.925900</td>\n",
       "    </tr>\n",
       "    <tr>\n",
       "      <th>3</th>\n",
       "      <td>-1.091241</td>\n",
       "      <td>False</td>\n",
       "      <td>-0.722329</td>\n",
       "    </tr>\n",
       "    <tr>\n",
       "      <th>4</th>\n",
       "      <td>-1.070798</td>\n",
       "      <td>True</td>\n",
       "      <td>2.218160</td>\n",
       "    </tr>\n",
       "    <tr>\n",
       "      <th>...</th>\n",
       "      <td>...</td>\n",
       "      <td>...</td>\n",
       "      <td>...</td>\n",
       "    </tr>\n",
       "    <tr>\n",
       "      <th>995</th>\n",
       "      <td>-0.310067</td>\n",
       "      <td>True</td>\n",
       "      <td>4.790666</td>\n",
       "    </tr>\n",
       "    <tr>\n",
       "      <th>996</th>\n",
       "      <td>-1.674019</td>\n",
       "      <td>False</td>\n",
       "      <td>-0.818454</td>\n",
       "    </tr>\n",
       "    <tr>\n",
       "      <th>997</th>\n",
       "      <td>-2.138778</td>\n",
       "      <td>False</td>\n",
       "      <td>0.034641</td>\n",
       "    </tr>\n",
       "    <tr>\n",
       "      <th>998</th>\n",
       "      <td>-1.197812</td>\n",
       "      <td>False</td>\n",
       "      <td>-1.648147</td>\n",
       "    </tr>\n",
       "    <tr>\n",
       "      <th>999</th>\n",
       "      <td>-2.340087</td>\n",
       "      <td>False</td>\n",
       "      <td>-1.858730</td>\n",
       "    </tr>\n",
       "  </tbody>\n",
       "</table>\n",
       "<p>1000 rows × 3 columns</p>\n",
       "</div>"
      ],
      "text/plain": [
       "           W0     v0         y\n",
       "0   -1.226240  False -1.964265\n",
       "1    0.656474   True  4.685681\n",
       "2   -0.453865   True  5.925900\n",
       "3   -1.091241  False -0.722329\n",
       "4   -1.070798   True  2.218160\n",
       "..        ...    ...       ...\n",
       "995 -0.310067   True  4.790666\n",
       "996 -1.674019  False -0.818454\n",
       "997 -2.138778  False  0.034641\n",
       "998 -1.197812  False -1.648147\n",
       "999 -2.340087  False -1.858730\n",
       "\n",
       "[1000 rows x 3 columns]"
      ]
     },
     "execution_count": 2,
     "metadata": {},
     "output_type": "execute_result"
    }
   ],
   "source": [
    "data = dowhy.datasets.linear_dataset(beta=5,\n",
    "        num_common_causes=1,\n",
    "        num_instruments = 0,\n",
    "        num_samples=1000,\n",
    "        treatment_is_binary=True)\n",
    "df = data['df']\n",
    "df['y'] = df['y'] + np.random.normal(size=len(df)) # Adding noise to data. Without noise, the variance in Y|X, Z is zero, and mcmc fails.\n",
    "#data['dot_graph'] = 'digraph { v ->y;X0-> v;X0-> y;}'\n",
    "\n",
    "treatment= data[\"treatment_name\"][0]\n",
    "outcome = data[\"outcome_name\"][0]\n",
    "common_cause = data[\"common_causes_names\"][0]\n",
    "df"
   ]
  },
  {
   "cell_type": "code",
   "execution_count": 3,
   "metadata": {
    "execution": {
     "iopub.execute_input": "2022-10-17T12:57:16.512407Z",
     "iopub.status.busy": "2022-10-17T12:57:16.512095Z",
     "iopub.status.idle": "2022-10-17T12:57:16.708784Z",
     "shell.execute_reply": "2022-10-17T12:57:16.708120Z"
    }
   },
   "outputs": [
    {
     "data": {
      "text/plain": [
       "<AxesSubplot: xlabel='v0'>"
      ]
     },
     "execution_count": 3,
     "metadata": {},
     "output_type": "execute_result"
    },
    {
     "data": {
      "image/png": "[encoded data removed]",
      "text/plain": [
       "<Figure size 640x480 with 1 Axes>"
      ]
     },
     "metadata": {},
     "output_type": "display_data"
    }
   ],
   "source": [
    "# data['df'] is just a regular pandas.DataFrame\n",
    "df.causal.do(x=treatment,\n",
    "                     variable_types={treatment: 'b', outcome: 'c', common_cause: 'c'},\n",
    "                     outcome=outcome,\n",
    "                     common_causes=[common_cause],\n",
    "                     proceed_when_unidentifiable=True).groupby(treatment).mean().plot(y=outcome, kind='bar')"
   ]
  },
  {
   "cell_type": "code",
   "execution_count": 4,
   "metadata": {
    "execution": {
     "iopub.execute_input": "2022-10-17T12:57:16.712222Z",
     "iopub.status.busy": "2022-10-17T12:57:16.711749Z",
     "iopub.status.idle": "2022-10-17T12:57:16.873330Z",
     "shell.execute_reply": "2022-10-17T12:57:16.872467Z"
    }
   },
   "outputs": [
    {
     "data": {
      "text/plain": [
       "<AxesSubplot: xlabel='v0'>"
      ]
     },
     "execution_count": 4,
     "metadata": {},
     "output_type": "execute_result"
    },
    {
     "data": {
      "image/png": "[encoded data removed]",
      "text/plain": [
       "<Figure size 640x480 with 1 Axes>"
      ]
     },
     "metadata": {},
     "output_type": "display_data"
    }
   ],
   "source": [
    "df.causal.do(x={treatment: 1}, \n",
    "              variable_types={treatment:'b', outcome: 'c', common_cause: 'c'}, \n",
    "              outcome=outcome,\n",
    "              method='weighting', \n",
    "              common_causes=[common_cause],\n",
    "              proceed_when_unidentifiable=True).groupby(treatment).mean().plot(y=outcome, kind='bar')"
   ]
  },
  {
   "cell_type": "code",
   "execution_count": 5,
   "metadata": {
    "execution": {
     "iopub.execute_input": "2022-10-17T12:57:16.877546Z",
     "iopub.status.busy": "2022-10-17T12:57:16.876781Z",
     "iopub.status.idle": "2022-10-17T12:57:16.916770Z",
     "shell.execute_reply": "2022-10-17T12:57:16.915681Z"
    }
   },
   "outputs": [],
   "source": [
    "cdf_1 = df.causal.do(x={treatment: 1}, \n",
    "              variable_types={treatment: 'b', outcome: 'c', common_cause: 'c'}, \n",
    "              outcome=outcome, \n",
    "              dot_graph=data['dot_graph'],\n",
    "              proceed_when_unidentifiable=True)\n",
    "\n",
    "cdf_0 = df.causal.do(x={treatment: 0}, \n",
    "              variable_types={treatment: 'b', outcome: 'c', common_cause: 'c'}, \n",
    "              outcome=outcome, \n",
    "              dot_graph=data['dot_graph'],\n",
    "              proceed_when_unidentifiable=True)\n"
   ]
  },
  {
   "cell_type": "code",
   "execution_count": 6,
   "metadata": {
    "execution": {
     "iopub.execute_input": "2022-10-17T12:57:16.921559Z",
     "iopub.status.busy": "2022-10-17T12:57:16.921276Z",
     "iopub.status.idle": "2022-10-17T12:57:16.939136Z",
     "shell.execute_reply": "2022-10-17T12:57:16.938398Z"
    },
    "scrolled": true
   },
   "outputs": [
    {
     "data": {
      "text/html": [
       "<div>\n",
       "<style scoped>\n",
       "    .dataframe tbody tr th:only-of-type {\n",
       "        vertical-align: middle;\n",
       "    }\n",
       "\n",
       "    .dataframe tbody tr th {\n",
       "        vertical-align: top;\n",
       "    }\n",
       "\n",
       "    .dataframe thead th {\n",
       "        text-align: right;\n",
       "    }\n",
       "</style>\n",
       "<table border=\"1\" class=\"dataframe\">\n",
       "  <thead>\n",
       "    <tr style=\"text-align: right;\">\n",
       "      <th></th>\n",
       "      <th>W0</th>\n",
       "      <th>v0</th>\n",
       "      <th>y</th>\n",
       "      <th>propensity_score</th>\n",
       "      <th>weight</th>\n",
       "    </tr>\n",
       "  </thead>\n",
       "  <tbody>\n",
       "    <tr>\n",
       "      <th>0</th>\n",
       "      <td>-1.231688</td>\n",
       "      <td>False</td>\n",
       "      <td>-0.095881</td>\n",
       "      <td>0.902690</td>\n",
       "      <td>1.107800</td>\n",
       "    </tr>\n",
       "    <tr>\n",
       "      <th>1</th>\n",
       "      <td>-0.130940</td>\n",
       "      <td>False</td>\n",
       "      <td>-0.427174</td>\n",
       "      <td>0.560493</td>\n",
       "      <td>1.784144</td>\n",
       "    </tr>\n",
       "    <tr>\n",
       "      <th>2</th>\n",
       "      <td>-0.247098</td>\n",
       "      <td>False</td>\n",
       "      <td>1.872216</td>\n",
       "      <td>0.611248</td>\n",
       "      <td>1.635998</td>\n",
       "    </tr>\n",
       "    <tr>\n",
       "      <th>3</th>\n",
       "      <td>-0.453095</td>\n",
       "      <td>False</td>\n",
       "      <td>0.550333</td>\n",
       "      <td>0.695066</td>\n",
       "      <td>1.438713</td>\n",
       "    </tr>\n",
       "    <tr>\n",
       "      <th>4</th>\n",
       "      <td>-0.178620</td>\n",
       "      <td>False</td>\n",
       "      <td>1.660718</td>\n",
       "      <td>0.581544</td>\n",
       "      <td>1.719560</td>\n",
       "    </tr>\n",
       "    <tr>\n",
       "      <th>...</th>\n",
       "      <td>...</td>\n",
       "      <td>...</td>\n",
       "      <td>...</td>\n",
       "      <td>...</td>\n",
       "      <td>...</td>\n",
       "    </tr>\n",
       "    <tr>\n",
       "      <th>995</th>\n",
       "      <td>-2.383104</td>\n",
       "      <td>False</td>\n",
       "      <td>-2.702219</td>\n",
       "      <td>0.986654</td>\n",
       "      <td>1.013526</td>\n",
       "    </tr>\n",
       "    <tr>\n",
       "      <th>996</th>\n",
       "      <td>0.574757</td>\n",
       "      <td>False</td>\n",
       "      <td>-0.314727</td>\n",
       "      <td>0.263279</td>\n",
       "      <td>3.798254</td>\n",
       "    </tr>\n",
       "    <tr>\n",
       "      <th>997</th>\n",
       "      <td>-1.533282</td>\n",
       "      <td>False</td>\n",
       "      <td>-0.747167</td>\n",
       "      <td>0.941097</td>\n",
       "      <td>1.062589</td>\n",
       "    </tr>\n",
       "    <tr>\n",
       "      <th>998</th>\n",
       "      <td>-1.858220</td>\n",
       "      <td>False</td>\n",
       "      <td>-2.036891</td>\n",
       "      <td>0.966331</td>\n",
       "      <td>1.034842</td>\n",
       "    </tr>\n",
       "    <tr>\n",
       "      <th>999</th>\n",
       "      <td>-0.683902</td>\n",
       "      <td>False</td>\n",
       "      <td>-1.482409</td>\n",
       "      <td>0.775561</td>\n",
       "      <td>1.289388</td>\n",
       "    </tr>\n",
       "  </tbody>\n",
       "</table>\n",
       "<p>1000 rows × 5 columns</p>\n",
       "</div>"
      ],
      "text/plain": [
       "           W0     v0         y  propensity_score    weight\n",
       "0   -1.231688  False -0.095881          0.902690  1.107800\n",
       "1   -0.130940  False -0.427174          0.560493  1.784144\n",
       "2   -0.247098  False  1.872216          0.611248  1.635998\n",
       "3   -0.453095  False  0.550333          0.695066  1.438713\n",
       "4   -0.178620  False  1.660718          0.581544  1.719560\n",
       "..        ...    ...       ...               ...       ...\n",
       "995 -2.383104  False -2.702219          0.986654  1.013526\n",
       "996  0.574757  False -0.314727          0.263279  3.798254\n",
       "997 -1.533282  False -0.747167          0.941097  1.062589\n",
       "998 -1.858220  False -2.036891          0.966331  1.034842\n",
       "999 -0.683902  False -1.482409          0.775561  1.289388\n",
       "\n",
       "[1000 rows x 5 columns]"
      ]
     },
     "execution_count": 6,
     "metadata": {},
     "output_type": "execute_result"
    }
   ],
   "source": [
    "cdf_0"
   ]
  },
  {
   "cell_type": "code",
   "execution_count": 7,
   "metadata": {
    "execution": {
     "iopub.execute_input": "2022-10-17T12:57:16.943139Z",
     "iopub.status.busy": "2022-10-17T12:57:16.942501Z",
     "iopub.status.idle": "2022-10-17T12:57:16.955180Z",
     "shell.execute_reply": "2022-10-17T12:57:16.954453Z"
    }
   },
   "outputs": [
    {
     "data": {
      "text/html": [
       "<div>\n",
       "<style scoped>\n",
       "    .dataframe tbody tr th:only-of-type {\n",
       "        vertical-align: middle;\n",
       "    }\n",
       "\n",
       "    .dataframe tbody tr th {\n",
       "        vertical-align: top;\n",
       "    }\n",
       "\n",
       "    .dataframe thead th {\n",
       "        text-align: right;\n",
       "    }\n",
       "</style>\n",
       "<table border=\"1\" class=\"dataframe\">\n",
       "  <thead>\n",
       "    <tr style=\"text-align: right;\">\n",
       "      <th></th>\n",
       "      <th>W0</th>\n",
       "      <th>v0</th>\n",
       "      <th>y</th>\n",
       "      <th>propensity_score</th>\n",
       "      <th>weight</th>\n",
       "    </tr>\n",
       "  </thead>\n",
       "  <tbody>\n",
       "    <tr>\n",
       "      <th>0</th>\n",
       "      <td>0.001011</td>\n",
       "      <td>True</td>\n",
       "      <td>5.137847</td>\n",
       "      <td>0.498676</td>\n",
       "      <td>2.005310</td>\n",
       "    </tr>\n",
       "    <tr>\n",
       "      <th>1</th>\n",
       "      <td>-0.392952</td>\n",
       "      <td>True</td>\n",
       "      <td>3.833934</td>\n",
       "      <td>0.328387</td>\n",
       "      <td>3.045190</td>\n",
       "    </tr>\n",
       "    <tr>\n",
       "      <th>2</th>\n",
       "      <td>-1.720017</td>\n",
       "      <td>True</td>\n",
       "      <td>4.030889</td>\n",
       "      <td>0.042787</td>\n",
       "      <td>23.371489</td>\n",
       "    </tr>\n",
       "    <tr>\n",
       "      <th>3</th>\n",
       "      <td>0.050053</td>\n",
       "      <td>True</td>\n",
       "      <td>4.987136</td>\n",
       "      <td>0.520766</td>\n",
       "      <td>1.920248</td>\n",
       "    </tr>\n",
       "    <tr>\n",
       "      <th>4</th>\n",
       "      <td>-1.027361</td>\n",
       "      <td>True</td>\n",
       "      <td>4.081470</td>\n",
       "      <td>0.134804</td>\n",
       "      <td>7.418197</td>\n",
       "    </tr>\n",
       "    <tr>\n",
       "      <th>...</th>\n",
       "      <td>...</td>\n",
       "      <td>...</td>\n",
       "      <td>...</td>\n",
       "      <td>...</td>\n",
       "      <td>...</td>\n",
       "    </tr>\n",
       "    <tr>\n",
       "      <th>995</th>\n",
       "      <td>-2.095635</td>\n",
       "      <td>True</td>\n",
       "      <td>4.437599</td>\n",
       "      <td>0.022207</td>\n",
       "      <td>45.031777</td>\n",
       "    </tr>\n",
       "    <tr>\n",
       "      <th>996</th>\n",
       "      <td>-0.554172</td>\n",
       "      <td>True</td>\n",
       "      <td>3.890902</td>\n",
       "      <td>0.267739</td>\n",
       "      <td>3.734975</td>\n",
       "    </tr>\n",
       "    <tr>\n",
       "      <th>997</th>\n",
       "      <td>0.001011</td>\n",
       "      <td>True</td>\n",
       "      <td>5.137847</td>\n",
       "      <td>0.498676</td>\n",
       "      <td>2.005310</td>\n",
       "    </tr>\n",
       "    <tr>\n",
       "      <th>998</th>\n",
       "      <td>-1.427752</td>\n",
       "      <td>True</td>\n",
       "      <td>4.974694</td>\n",
       "      <td>0.070376</td>\n",
       "      <td>14.209314</td>\n",
       "    </tr>\n",
       "    <tr>\n",
       "      <th>999</th>\n",
       "      <td>-0.204360</td>\n",
       "      <td>True</td>\n",
       "      <td>5.067804</td>\n",
       "      <td>0.407209</td>\n",
       "      <td>2.455744</td>\n",
       "    </tr>\n",
       "  </tbody>\n",
       "</table>\n",
       "<p>1000 rows × 5 columns</p>\n",
       "</div>"
      ],
      "text/plain": [
       "           W0    v0         y  propensity_score     weight\n",
       "0    0.001011  True  5.137847          0.498676   2.005310\n",
       "1   -0.392952  True  3.833934          0.328387   3.045190\n",
       "2   -1.720017  True  4.030889          0.042787  23.371489\n",
       "3    0.050053  True  4.987136          0.520766   1.920248\n",
       "4   -1.027361  True  4.081470          0.134804   7.418197\n",
       "..        ...   ...       ...               ...        ...\n",
       "995 -2.095635  True  4.437599          0.022207  45.031777\n",
       "996 -0.554172  True  3.890902          0.267739   3.734975\n",
       "997  0.001011  True  5.137847          0.498676   2.005310\n",
       "998 -1.427752  True  4.974694          0.070376  14.209314\n",
       "999 -0.204360  True  5.067804          0.407209   2.455744\n",
       "\n",
       "[1000 rows x 5 columns]"
      ]
     },
     "execution_count": 7,
     "metadata": {},
     "output_type": "execute_result"
    }
   ],
   "source": [
    "cdf_1"
   ]
  },
  {
   "cell_type": "markdown",
   "metadata": {},
   "source": [
    "## Comparing the estimate to Linear Regression\n",
    "First, estimating the effect using the causal data frame, and the 95% confidence interval."
   ]
  },
  {
   "cell_type": "code",
   "execution_count": 8,
   "metadata": {
    "execution": {
     "iopub.execute_input": "2022-10-17T12:57:16.959238Z",
     "iopub.status.busy": "2022-10-17T12:57:16.958803Z",
     "iopub.status.idle": "2022-10-17T12:57:17.035049Z",
     "shell.execute_reply": "2022-10-17T12:57:17.033948Z"
    }
   },
   "outputs": [
    {
     "data": {
      "image/png": "[encoded data removed]",
      "text/latex": [
       "$\\displaystyle 5.08006434927029$"
      ],
      "text/plain": [
       "5.08006434927029"
      ]
     },
     "execution_count": 8,
     "metadata": {},
     "output_type": "execute_result"
    }
   ],
   "source": [
    "(cdf_1['y'] - cdf_0['y']).mean()"
   ]
  },
  {
   "cell_type": "code",
   "execution_count": 9,
   "metadata": {
    "execution": {
     "iopub.execute_input": "2022-10-17T12:57:17.040446Z",
     "iopub.status.busy": "2022-10-17T12:57:17.039408Z",
     "iopub.status.idle": "2022-10-17T12:57:17.069017Z",
     "shell.execute_reply": "2022-10-17T12:57:17.068165Z"
    }
   },
   "outputs": [
    {
     "data": {
      "image/png": "[encoded data removed]",
      "text/latex": [
       "$\\displaystyle 0.107067022370966$"
      ],
      "text/plain": [
       "0.10706702237096646"
      ]
     },
     "execution_count": 9,
     "metadata": {},
     "output_type": "execute_result"
    }
   ],
   "source": [
    "1.96*(cdf_1['y'] - cdf_0['y']).std() / np.sqrt(len(df))"
   ]
  },
  {
   "cell_type": "markdown",
   "metadata": {},
   "source": [
    "Comparing to the estimate from OLS."
   ]
  },
  {
   "cell_type": "code",
   "execution_count": 10,
   "metadata": {
    "execution": {
     "iopub.execute_input": "2022-10-17T12:57:17.073611Z",
     "iopub.status.busy": "2022-10-17T12:57:17.073132Z",
     "iopub.status.idle": "2022-10-17T12:57:17.096322Z",
     "shell.execute_reply": "2022-10-17T12:57:17.095495Z"
    }
   },
   "outputs": [
    {
     "data": {
      "text/html": [
       "<table class=\"simpletable\">\n",
       "<caption>OLS Regression Results</caption>\n",
       "<tr>\n",
       "  <th>Dep. Variable:</th>            <td>y</td>        <th>  R-squared (uncentered):</th>      <td>   0.872</td>\n",
       "</tr>\n",
       "<tr>\n",
       "  <th>Model:</th>                   <td>OLS</td>       <th>  Adj. R-squared (uncentered):</th> <td>   0.872</td>\n",
       "</tr>\n",
       "<tr>\n",
       "  <th>Method:</th>             <td>Least Squares</td>  <th>  F-statistic:       </th>          <td>   3403.</td>\n",
       "</tr>\n",
       "<tr>\n",
       "  <th>Date:</th>             <td>Mon, 17 Oct 2022</td> <th>  Prob (F-statistic):</th>           <td>  0.00</td> \n",
       "</tr>\n",
       "<tr>\n",
       "  <th>Time:</th>                 <td>12:57:17</td>     <th>  Log-Likelihood:    </th>          <td> -1465.3</td>\n",
       "</tr>\n",
       "<tr>\n",
       "  <th>No. Observations:</th>      <td>  1000</td>      <th>  AIC:               </th>          <td>   2935.</td>\n",
       "</tr>\n",
       "<tr>\n",
       "  <th>Df Residuals:</th>          <td>   998</td>      <th>  BIC:               </th>          <td>   2944.</td>\n",
       "</tr>\n",
       "<tr>\n",
       "  <th>Df Model:</th>              <td>     2</td>      <th>                     </th>              <td> </td>   \n",
       "</tr>\n",
       "<tr>\n",
       "  <th>Covariance Type:</th>      <td>nonrobust</td>    <th>                     </th>              <td> </td>   \n",
       "</tr>\n",
       "</table>\n",
       "<table class=\"simpletable\">\n",
       "<tr>\n",
       "   <td></td>     <th>coef</th>     <th>std err</th>      <th>t</th>      <th>P>|t|</th>  <th>[0.025</th>    <th>0.975]</th>  \n",
       "</tr>\n",
       "<tr>\n",
       "  <th>x1</th> <td>    0.8642</td> <td>    0.026</td> <td>   33.436</td> <td> 0.000</td> <td>    0.813</td> <td>    0.915</td>\n",
       "</tr>\n",
       "<tr>\n",
       "  <th>x2</th> <td>    4.9202</td> <td>    0.065</td> <td>   75.663</td> <td> 0.000</td> <td>    4.793</td> <td>    5.048</td>\n",
       "</tr>\n",
       "</table>\n",
       "<table class=\"simpletable\">\n",
       "<tr>\n",
       "  <th>Omnibus:</th>       <td> 0.777</td> <th>  Durbin-Watson:     </th> <td>   2.046</td>\n",
       "</tr>\n",
       "<tr>\n",
       "  <th>Prob(Omnibus):</th> <td> 0.678</td> <th>  Jarque-Bera (JB):  </th> <td>   0.662</td>\n",
       "</tr>\n",
       "<tr>\n",
       "  <th>Skew:</th>          <td>-0.051</td> <th>  Prob(JB):          </th> <td>   0.718</td>\n",
       "</tr>\n",
       "<tr>\n",
       "  <th>Kurtosis:</th>      <td> 3.075</td> <th>  Cond. No.          </th> <td>    2.52</td>\n",
       "</tr>\n",
       "</table><br/><br/>Notes:<br/>[1] R² is computed without centering (uncentered) since the model does not contain a constant.<br/>[2] Standard Errors assume that the covariance matrix of the errors is correctly specified."
      ],
      "text/plain": [
       "<class 'statsmodels.iolib.summary.Summary'>\n",
       "\"\"\"\n",
       "                                 OLS Regression Results                                \n",
       "=======================================================================================\n",
       "Dep. Variable:                      y   R-squared (uncentered):                   0.872\n",
       "Model:                            OLS   Adj. R-squared (uncentered):              0.872\n",
       "Method:                 Least Squares   F-statistic:                              3403.\n",
       "Date:                Mon, 17 Oct 2022   Prob (F-statistic):                        0.00\n",
       "Time:                        12:57:17   Log-Likelihood:                         -1465.3\n",
       "No. Observations:                1000   AIC:                                      2935.\n",
       "Df Residuals:                     998   BIC:                                      2944.\n",
       "Df Model:                           2                                                  \n",
       "Covariance Type:            nonrobust                                                  \n",
       "==============================================================================\n",
       "                 coef    std err          t      P>|t|      [0.025      0.975]\n",
       "------------------------------------------------------------------------------\n",
       "x1             0.8642      0.026     33.436      0.000       0.813       0.915\n",
       "x2             4.9202      0.065     75.663      0.000       4.793       5.048\n",
       "==============================================================================\n",
       "Omnibus:                        0.777   Durbin-Watson:                   2.046\n",
       "Prob(Omnibus):                  0.678   Jarque-Bera (JB):                0.662\n",
       "Skew:                          -0.051   Prob(JB):                        0.718\n",
       "Kurtosis:                       3.075   Cond. No.                         2.52\n",
       "==============================================================================\n",
       "\n",
       "Notes:\n",
       "[1] R² is computed without centering (uncentered) since the model does not contain a constant.\n",
       "[2] Standard Errors assume that the covariance matrix of the errors is correctly specified.\n",
       "\"\"\""
      ]
     },
     "execution_count": 10,
     "metadata": {},
     "output_type": "execute_result"
    }
   ],
   "source": [
    "model = OLS(np.asarray(df[outcome]), np.asarray(df[[common_cause, treatment]], dtype=np.float64))\n",
    "result = model.fit()\n",
    "result.summary()"
   ]
  }
 ],
 "metadata": {
  "kernelspec": {
   "display_name": "Python 3",
   "language": "python",
   "name": "python3"
  },
  "language_info": {
   "codemirror_mode": {
    "name": "ipython",
    "version": 3
   },
   "file_extension": ".py",
   "mimetype": "text/x-python",
   "name": "python",
   "nbconvert_exporter": "python",
   "pygments_lexer": "ipython3",
   "version": "3.8.10"
  },
  "toc": {
   "base_numbering": 1,
   "nav_menu": {},
   "number_sections": false,
   "sideBar": true,
   "skip_h1_title": true,
   "title_cell": "Table of Contents",
   "title_sidebar": "Contents",
   "toc_cell": false,
   "toc_position": {},
   "toc_section_display": true,
   "toc_window_display": false
  }
 },
 "nbformat": 4,
 "nbformat_minor": 4
}
