{
 "cells": [
  {
   "cell_type": "markdown",
   "metadata": {},
   "source": [
    "# Demo for the DoWhy causal API\n",
    "We show a simple example of adding a causal extension to any dataframe. "
   ]
  },
  {
   "cell_type": "code",
   "execution_count": 1,
   "metadata": {
    "execution": {
     "iopub.execute_input": "2022-10-17T14:41:37.548101Z",
     "iopub.status.busy": "2022-10-17T14:41:37.547674Z",
     "iopub.status.idle": "2022-10-17T14:41:40.265728Z",
     "shell.execute_reply": "2022-10-17T14:41:40.264440Z"
    }
   },
   "outputs": [],
   "source": [
    "import dowhy.datasets\n",
    "import dowhy.api\n",
    "\n",
    "import numpy as np\n",
    "import pandas as pd\n",
    "\n",
    "from statsmodels.api import OLS"
   ]
  },
  {
   "cell_type": "code",
   "execution_count": 2,
   "metadata": {
    "execution": {
     "iopub.execute_input": "2022-10-17T14:41:40.272573Z",
     "iopub.status.busy": "2022-10-17T14:41:40.270304Z",
     "iopub.status.idle": "2022-10-17T14:41:40.330605Z",
     "shell.execute_reply": "2022-10-17T14:41:40.329427Z"
    }
   },
   "outputs": [
    {
     "data": {
      "text/html": [
       "<div>\n",
       "<style scoped>\n",
       "    .dataframe tbody tr th:only-of-type {\n",
       "        vertical-align: middle;\n",
       "    }\n",
       "\n",
       "    .dataframe tbody tr th {\n",
       "        vertical-align: top;\n",
       "    }\n",
       "\n",
       "    .dataframe thead th {\n",
       "        text-align: right;\n",
       "    }\n",
       "</style>\n",
       "<table border=\"1\" class=\"dataframe\">\n",
       "  <thead>\n",
       "    <tr style=\"text-align: right;\">\n",
       "      <th></th>\n",
       "      <th>W0</th>\n",
       "      <th>v0</th>\n",
       "      <th>y</th>\n",
       "    </tr>\n",
       "  </thead>\n",
       "  <tbody>\n",
       "    <tr>\n",
       "      <th>0</th>\n",
       "      <td>0.059819</td>\n",
       "      <td>False</td>\n",
       "      <td>0.125867</td>\n",
       "    </tr>\n",
       "    <tr>\n",
       "      <th>1</th>\n",
       "      <td>-1.090060</td>\n",
       "      <td>False</td>\n",
       "      <td>-2.634809</td>\n",
       "    </tr>\n",
       "    <tr>\n",
       "      <th>2</th>\n",
       "      <td>-0.481901</td>\n",
       "      <td>True</td>\n",
       "      <td>4.174310</td>\n",
       "    </tr>\n",
       "    <tr>\n",
       "      <th>3</th>\n",
       "      <td>-1.207703</td>\n",
       "      <td>False</td>\n",
       "      <td>-3.432447</td>\n",
       "    </tr>\n",
       "    <tr>\n",
       "      <th>4</th>\n",
       "      <td>-0.985325</td>\n",
       "      <td>True</td>\n",
       "      <td>4.303417</td>\n",
       "    </tr>\n",
       "    <tr>\n",
       "      <th>...</th>\n",
       "      <td>...</td>\n",
       "      <td>...</td>\n",
       "      <td>...</td>\n",
       "    </tr>\n",
       "    <tr>\n",
       "      <th>995</th>\n",
       "      <td>-1.165431</td>\n",
       "      <td>False</td>\n",
       "      <td>-3.515776</td>\n",
       "    </tr>\n",
       "    <tr>\n",
       "      <th>996</th>\n",
       "      <td>-0.192589</td>\n",
       "      <td>False</td>\n",
       "      <td>0.948743</td>\n",
       "    </tr>\n",
       "    <tr>\n",
       "      <th>997</th>\n",
       "      <td>-0.795401</td>\n",
       "      <td>True</td>\n",
       "      <td>4.216292</td>\n",
       "    </tr>\n",
       "    <tr>\n",
       "      <th>998</th>\n",
       "      <td>-1.427647</td>\n",
       "      <td>False</td>\n",
       "      <td>-3.466208</td>\n",
       "    </tr>\n",
       "    <tr>\n",
       "      <th>999</th>\n",
       "      <td>-1.059739</td>\n",
       "      <td>False</td>\n",
       "      <td>-1.836220</td>\n",
       "    </tr>\n",
       "  </tbody>\n",
       "</table>\n",
       "<p>1000 rows × 3 columns</p>\n",
       "</div>"
      ],
      "text/plain": [
       "           W0     v0         y\n",
       "0    0.059819  False  0.125867\n",
       "1   -1.090060  False -2.634809\n",
       "2   -0.481901   True  4.174310\n",
       "3   -1.207703  False -3.432447\n",
       "4   -0.985325   True  4.303417\n",
       "..        ...    ...       ...\n",
       "995 -1.165431  False -3.515776\n",
       "996 -0.192589  False  0.948743\n",
       "997 -0.795401   True  4.216292\n",
       "998 -1.427647  False -3.466208\n",
       "999 -1.059739  False -1.836220\n",
       "\n",
       "[1000 rows x 3 columns]"
      ]
     },
     "execution_count": 2,
     "metadata": {},
     "output_type": "execute_result"
    }
   ],
   "source": [
    "data = dowhy.datasets.linear_dataset(beta=5,\n",
    "        num_common_causes=1,\n",
    "        num_instruments = 0,\n",
    "        num_samples=1000,\n",
    "        treatment_is_binary=True)\n",
    "df = data['df']\n",
    "df['y'] = df['y'] + np.random.normal(size=len(df)) # Adding noise to data. Without noise, the variance in Y|X, Z is zero, and mcmc fails.\n",
    "#data['dot_graph'] = 'digraph { v ->y;X0-> v;X0-> y;}'\n",
    "\n",
    "treatment= data[\"treatment_name\"][0]\n",
    "outcome = data[\"outcome_name\"][0]\n",
    "common_cause = data[\"common_causes_names\"][0]\n",
    "df"
   ]
  },
  {
   "cell_type": "code",
   "execution_count": 3,
   "metadata": {
    "execution": {
     "iopub.execute_input": "2022-10-17T14:41:40.336995Z",
     "iopub.status.busy": "2022-10-17T14:41:40.336069Z",
     "iopub.status.idle": "2022-10-17T14:41:40.547169Z",
     "shell.execute_reply": "2022-10-17T14:41:40.545807Z"
    }
   },
   "outputs": [
    {
     "data": {
      "text/plain": [
       "<AxesSubplot: xlabel='v0'>"
      ]
     },
     "execution_count": 3,
     "metadata": {},
     "output_type": "execute_result"
    },
    {
     "data": {
      "image/png": "[encoded data removed]",
      "text/plain": [
       "<Figure size 640x480 with 1 Axes>"
      ]
     },
     "metadata": {},
     "output_type": "display_data"
    }
   ],
   "source": [
    "# data['df'] is just a regular pandas.DataFrame\n",
    "df.causal.do(x=treatment,\n",
    "                     variable_types={treatment: 'b', outcome: 'c', common_cause: 'c'},\n",
    "                     outcome=outcome,\n",
    "                     common_causes=[common_cause],\n",
    "                     proceed_when_unidentifiable=True).groupby(treatment).mean().plot(y=outcome, kind='bar')"
   ]
  },
  {
   "cell_type": "code",
   "execution_count": 4,
   "metadata": {
    "execution": {
     "iopub.execute_input": "2022-10-17T14:41:40.552637Z",
     "iopub.status.busy": "2022-10-17T14:41:40.551192Z",
     "iopub.status.idle": "2022-10-17T14:41:40.715267Z",
     "shell.execute_reply": "2022-10-17T14:41:40.714443Z"
    }
   },
   "outputs": [
    {
     "data": {
      "text/plain": [
       "<AxesSubplot: xlabel='v0'>"
      ]
     },
     "execution_count": 4,
     "metadata": {},
     "output_type": "execute_result"
    },
    {
     "data": {
      "image/png": "[encoded data removed]",
      "text/plain": [
       "<Figure size 640x480 with 1 Axes>"
      ]
     },
     "metadata": {},
     "output_type": "display_data"
    }
   ],
   "source": [
    "df.causal.do(x={treatment: 1}, \n",
    "              variable_types={treatment:'b', outcome: 'c', common_cause: 'c'}, \n",
    "              outcome=outcome,\n",
    "              method='weighting', \n",
    "              common_causes=[common_cause],\n",
    "              proceed_when_unidentifiable=True).groupby(treatment).mean().plot(y=outcome, kind='bar')"
   ]
  },
  {
   "cell_type": "code",
   "execution_count": 5,
   "metadata": {
    "execution": {
     "iopub.execute_input": "2022-10-17T14:41:40.721337Z",
     "iopub.status.busy": "2022-10-17T14:41:40.719504Z",
     "iopub.status.idle": "2022-10-17T14:41:40.766413Z",
     "shell.execute_reply": "2022-10-17T14:41:40.765391Z"
    }
   },
   "outputs": [],
   "source": [
    "cdf_1 = df.causal.do(x={treatment: 1}, \n",
    "              variable_types={treatment: 'b', outcome: 'c', common_cause: 'c'}, \n",
    "              outcome=outcome, \n",
    "              dot_graph=data['dot_graph'],\n",
    "              proceed_when_unidentifiable=True)\n",
    "\n",
    "cdf_0 = df.causal.do(x={treatment: 0}, \n",
    "              variable_types={treatment: 'b', outcome: 'c', common_cause: 'c'}, \n",
    "              outcome=outcome, \n",
    "              dot_graph=data['dot_graph'],\n",
    "              proceed_when_unidentifiable=True)\n"
   ]
  },
  {
   "cell_type": "code",
   "execution_count": 6,
   "metadata": {
    "execution": {
     "iopub.execute_input": "2022-10-17T14:41:40.771275Z",
     "iopub.status.busy": "2022-10-17T14:41:40.770691Z",
     "iopub.status.idle": "2022-10-17T14:41:40.791359Z",
     "shell.execute_reply": "2022-10-17T14:41:40.790097Z"
    },
    "scrolled": true
   },
   "outputs": [
    {
     "data": {
      "text/html": [
       "<div>\n",
       "<style scoped>\n",
       "    .dataframe tbody tr th:only-of-type {\n",
       "        vertical-align: middle;\n",
       "    }\n",
       "\n",
       "    .dataframe tbody tr th {\n",
       "        vertical-align: top;\n",
       "    }\n",
       "\n",
       "    .dataframe thead th {\n",
       "        text-align: right;\n",
       "    }\n",
       "</style>\n",
       "<table border=\"1\" class=\"dataframe\">\n",
       "  <thead>\n",
       "    <tr style=\"text-align: right;\">\n",
       "      <th></th>\n",
       "      <th>W0</th>\n",
       "      <th>v0</th>\n",
       "      <th>y</th>\n",
       "      <th>propensity_score</th>\n",
       "      <th>weight</th>\n",
       "    </tr>\n",
       "  </thead>\n",
       "  <tbody>\n",
       "    <tr>\n",
       "      <th>0</th>\n",
       "      <td>0.460876</td>\n",
       "      <td>False</td>\n",
       "      <td>0.703509</td>\n",
       "      <td>0.371494</td>\n",
       "      <td>2.691832</td>\n",
       "    </tr>\n",
       "    <tr>\n",
       "      <th>1</th>\n",
       "      <td>-0.007675</td>\n",
       "      <td>False</td>\n",
       "      <td>0.172301</td>\n",
       "      <td>0.507881</td>\n",
       "      <td>1.968963</td>\n",
       "    </tr>\n",
       "    <tr>\n",
       "      <th>2</th>\n",
       "      <td>-0.145153</td>\n",
       "      <td>False</td>\n",
       "      <td>0.956262</td>\n",
       "      <td>0.548611</td>\n",
       "      <td>1.822786</td>\n",
       "    </tr>\n",
       "    <tr>\n",
       "      <th>3</th>\n",
       "      <td>-0.355933</td>\n",
       "      <td>False</td>\n",
       "      <td>0.077058</td>\n",
       "      <td>0.609636</td>\n",
       "      <td>1.640324</td>\n",
       "    </tr>\n",
       "    <tr>\n",
       "      <th>4</th>\n",
       "      <td>0.410786</td>\n",
       "      <td>False</td>\n",
       "      <td>2.077614</td>\n",
       "      <td>0.385509</td>\n",
       "      <td>2.593974</td>\n",
       "    </tr>\n",
       "    <tr>\n",
       "      <th>...</th>\n",
       "      <td>...</td>\n",
       "      <td>...</td>\n",
       "      <td>...</td>\n",
       "      <td>...</td>\n",
       "      <td>...</td>\n",
       "    </tr>\n",
       "    <tr>\n",
       "      <th>995</th>\n",
       "      <td>-0.965477</td>\n",
       "      <td>False</td>\n",
       "      <td>-0.556716</td>\n",
       "      <td>0.763296</td>\n",
       "      <td>1.310108</td>\n",
       "    </tr>\n",
       "    <tr>\n",
       "      <th>996</th>\n",
       "      <td>-0.685439</td>\n",
       "      <td>False</td>\n",
       "      <td>-0.482467</td>\n",
       "      <td>0.697987</td>\n",
       "      <td>1.432692</td>\n",
       "    </tr>\n",
       "    <tr>\n",
       "      <th>997</th>\n",
       "      <td>0.490968</td>\n",
       "      <td>False</td>\n",
       "      <td>2.313934</td>\n",
       "      <td>0.363176</td>\n",
       "      <td>2.753489</td>\n",
       "    </tr>\n",
       "    <tr>\n",
       "      <th>998</th>\n",
       "      <td>0.175143</td>\n",
       "      <td>False</td>\n",
       "      <td>-0.436943</td>\n",
       "      <td>0.453650</td>\n",
       "      <td>2.204342</td>\n",
       "    </tr>\n",
       "    <tr>\n",
       "      <th>999</th>\n",
       "      <td>0.342879</td>\n",
       "      <td>False</td>\n",
       "      <td>-0.685905</td>\n",
       "      <td>0.404812</td>\n",
       "      <td>2.470284</td>\n",
       "    </tr>\n",
       "  </tbody>\n",
       "</table>\n",
       "<p>1000 rows × 5 columns</p>\n",
       "</div>"
      ],
      "text/plain": [
       "           W0     v0         y  propensity_score    weight\n",
       "0    0.460876  False  0.703509          0.371494  2.691832\n",
       "1   -0.007675  False  0.172301          0.507881  1.968963\n",
       "2   -0.145153  False  0.956262          0.548611  1.822786\n",
       "3   -0.355933  False  0.077058          0.609636  1.640324\n",
       "4    0.410786  False  2.077614          0.385509  2.593974\n",
       "..        ...    ...       ...               ...       ...\n",
       "995 -0.965477  False -0.556716          0.763296  1.310108\n",
       "996 -0.685439  False -0.482467          0.697987  1.432692\n",
       "997  0.490968  False  2.313934          0.363176  2.753489\n",
       "998  0.175143  False -0.436943          0.453650  2.204342\n",
       "999  0.342879  False -0.685905          0.404812  2.470284\n",
       "\n",
       "[1000 rows x 5 columns]"
      ]
     },
     "execution_count": 6,
     "metadata": {},
     "output_type": "execute_result"
    }
   ],
   "source": [
    "cdf_0"
   ]
  },
  {
   "cell_type": "code",
   "execution_count": 7,
   "metadata": {
    "execution": {
     "iopub.execute_input": "2022-10-17T14:41:40.797535Z",
     "iopub.status.busy": "2022-10-17T14:41:40.797090Z",
     "iopub.status.idle": "2022-10-17T14:41:40.812226Z",
     "shell.execute_reply": "2022-10-17T14:41:40.810824Z"
    }
   },
   "outputs": [
    {
     "data": {
      "text/html": [
       "<div>\n",
       "<style scoped>\n",
       "    .dataframe tbody tr th:only-of-type {\n",
       "        vertical-align: middle;\n",
       "    }\n",
       "\n",
       "    .dataframe tbody tr th {\n",
       "        vertical-align: top;\n",
       "    }\n",
       "\n",
       "    .dataframe thead th {\n",
       "        text-align: right;\n",
       "    }\n",
       "</style>\n",
       "<table border=\"1\" class=\"dataframe\">\n",
       "  <thead>\n",
       "    <tr style=\"text-align: right;\">\n",
       "      <th></th>\n",
       "      <th>W0</th>\n",
       "      <th>v0</th>\n",
       "      <th>y</th>\n",
       "      <th>propensity_score</th>\n",
       "      <th>weight</th>\n",
       "    </tr>\n",
       "  </thead>\n",
       "  <tbody>\n",
       "    <tr>\n",
       "      <th>0</th>\n",
       "      <td>-0.614233</td>\n",
       "      <td>True</td>\n",
       "      <td>1.907103</td>\n",
       "      <td>0.320161</td>\n",
       "      <td>3.123425</td>\n",
       "    </tr>\n",
       "    <tr>\n",
       "      <th>1</th>\n",
       "      <td>1.712178</td>\n",
       "      <td>True</td>\n",
       "      <td>9.429463</td>\n",
       "      <td>0.882284</td>\n",
       "      <td>1.133422</td>\n",
       "    </tr>\n",
       "    <tr>\n",
       "      <th>2</th>\n",
       "      <td>1.230096</td>\n",
       "      <td>True</td>\n",
       "      <td>7.320830</td>\n",
       "      <td>0.808579</td>\n",
       "      <td>1.236738</td>\n",
       "    </tr>\n",
       "    <tr>\n",
       "      <th>3</th>\n",
       "      <td>-1.521268</td>\n",
       "      <td>True</td>\n",
       "      <td>1.738626</td>\n",
       "      <td>0.138006</td>\n",
       "      <td>7.246049</td>\n",
       "    </tr>\n",
       "    <tr>\n",
       "      <th>4</th>\n",
       "      <td>-0.786872</td>\n",
       "      <td>True</td>\n",
       "      <td>3.426753</td>\n",
       "      <td>0.277202</td>\n",
       "      <td>3.607480</td>\n",
       "    </tr>\n",
       "    <tr>\n",
       "      <th>...</th>\n",
       "      <td>...</td>\n",
       "      <td>...</td>\n",
       "      <td>...</td>\n",
       "      <td>...</td>\n",
       "      <td>...</td>\n",
       "    </tr>\n",
       "    <tr>\n",
       "      <th>995</th>\n",
       "      <td>-1.488664</td>\n",
       "      <td>True</td>\n",
       "      <td>2.546330</td>\n",
       "      <td>0.142685</td>\n",
       "      <td>7.008445</td>\n",
       "    </tr>\n",
       "    <tr>\n",
       "      <th>996</th>\n",
       "      <td>0.266396</td>\n",
       "      <td>True</td>\n",
       "      <td>4.963375</td>\n",
       "      <td>0.573092</td>\n",
       "      <td>1.744920</td>\n",
       "    </tr>\n",
       "    <tr>\n",
       "      <th>997</th>\n",
       "      <td>-0.152268</td>\n",
       "      <td>True</td>\n",
       "      <td>4.917791</td>\n",
       "      <td>0.449294</td>\n",
       "      <td>2.225712</td>\n",
       "    </tr>\n",
       "    <tr>\n",
       "      <th>998</th>\n",
       "      <td>-1.173642</td>\n",
       "      <td>True</td>\n",
       "      <td>1.724435</td>\n",
       "      <td>0.194905</td>\n",
       "      <td>5.130700</td>\n",
       "    </tr>\n",
       "    <tr>\n",
       "      <th>999</th>\n",
       "      <td>-1.826118</td>\n",
       "      <td>True</td>\n",
       "      <td>1.963976</td>\n",
       "      <td>0.100239</td>\n",
       "      <td>9.976116</td>\n",
       "    </tr>\n",
       "  </tbody>\n",
       "</table>\n",
       "<p>1000 rows × 5 columns</p>\n",
       "</div>"
      ],
      "text/plain": [
       "           W0    v0         y  propensity_score    weight\n",
       "0   -0.614233  True  1.907103          0.320161  3.123425\n",
       "1    1.712178  True  9.429463          0.882284  1.133422\n",
       "2    1.230096  True  7.320830          0.808579  1.236738\n",
       "3   -1.521268  True  1.738626          0.138006  7.246049\n",
       "4   -0.786872  True  3.426753          0.277202  3.607480\n",
       "..        ...   ...       ...               ...       ...\n",
       "995 -1.488664  True  2.546330          0.142685  7.008445\n",
       "996  0.266396  True  4.963375          0.573092  1.744920\n",
       "997 -0.152268  True  4.917791          0.449294  2.225712\n",
       "998 -1.173642  True  1.724435          0.194905  5.130700\n",
       "999 -1.826118  True  1.963976          0.100239  9.976116\n",
       "\n",
       "[1000 rows x 5 columns]"
      ]
     },
     "execution_count": 7,
     "metadata": {},
     "output_type": "execute_result"
    }
   ],
   "source": [
    "cdf_1"
   ]
  },
  {
   "cell_type": "markdown",
   "metadata": {},
   "source": [
    "## Comparing the estimate to Linear Regression\n",
    "First, estimating the effect using the causal data frame, and the 95% confidence interval."
   ]
  },
  {
   "cell_type": "code",
   "execution_count": 8,
   "metadata": {
    "execution": {
     "iopub.execute_input": "2022-10-17T14:41:40.817750Z",
     "iopub.status.busy": "2022-10-17T14:41:40.817112Z",
     "iopub.status.idle": "2022-10-17T14:41:40.895075Z",
     "shell.execute_reply": "2022-10-17T14:41:40.893886Z"
    }
   },
   "outputs": [
    {
     "data": {
      "image/png": "[encoded data removed]",
      "text/latex": [
       "$\\displaystyle 5.41211043756272$"
      ],
      "text/plain": [
       "5.412110437562719"
      ]
     },
     "execution_count": 8,
     "metadata": {},
     "output_type": "execute_result"
    }
   ],
   "source": [
    "(cdf_1['y'] - cdf_0['y']).mean()"
   ]
  },
  {
   "cell_type": "code",
   "execution_count": 9,
   "metadata": {
    "execution": {
     "iopub.execute_input": "2022-10-17T14:41:40.899894Z",
     "iopub.status.busy": "2022-10-17T14:41:40.899273Z",
     "iopub.status.idle": "2022-10-17T14:41:40.931030Z",
     "shell.execute_reply": "2022-10-17T14:41:40.929835Z"
    }
   },
   "outputs": [
    {
     "data": {
      "image/png": "[encoded data removed]",
      "text/latex": [
       "$\\displaystyle 0.191719162292437$"
      ],
      "text/plain": [
       "0.1917191622924375"
      ]
     },
     "execution_count": 9,
     "metadata": {},
     "output_type": "execute_result"
    }
   ],
   "source": [
    "1.96*(cdf_1['y'] - cdf_0['y']).std() / np.sqrt(len(df))"
   ]
  },
  {
   "cell_type": "markdown",
   "metadata": {},
   "source": [
    "Comparing to the estimate from OLS."
   ]
  },
  {
   "cell_type": "code",
   "execution_count": 10,
   "metadata": {
    "execution": {
     "iopub.execute_input": "2022-10-17T14:41:40.936869Z",
     "iopub.status.busy": "2022-10-17T14:41:40.936485Z",
     "iopub.status.idle": "2022-10-17T14:41:40.961748Z",
     "shell.execute_reply": "2022-10-17T14:41:40.960805Z"
    }
   },
   "outputs": [
    {
     "data": {
      "text/html": [
       "<table class=\"simpletable\">\n",
       "<caption>OLS Regression Results</caption>\n",
       "<tr>\n",
       "  <th>Dep. Variable:</th>            <td>y</td>        <th>  R-squared (uncentered):</th>      <td>   0.950</td>\n",
       "</tr>\n",
       "<tr>\n",
       "  <th>Model:</th>                   <td>OLS</td>       <th>  Adj. R-squared (uncentered):</th> <td>   0.950</td>\n",
       "</tr>\n",
       "<tr>\n",
       "  <th>Method:</th>             <td>Least Squares</td>  <th>  F-statistic:       </th>          <td>   9498.</td>\n",
       "</tr>\n",
       "<tr>\n",
       "  <th>Date:</th>             <td>Mon, 17 Oct 2022</td> <th>  Prob (F-statistic):</th>           <td>  0.00</td> \n",
       "</tr>\n",
       "<tr>\n",
       "  <th>Time:</th>                 <td>14:41:40</td>     <th>  Log-Likelihood:    </th>          <td> -1417.0</td>\n",
       "</tr>\n",
       "<tr>\n",
       "  <th>No. Observations:</th>      <td>  1000</td>      <th>  AIC:               </th>          <td>   2838.</td>\n",
       "</tr>\n",
       "<tr>\n",
       "  <th>Df Residuals:</th>          <td>   998</td>      <th>  BIC:               </th>          <td>   2848.</td>\n",
       "</tr>\n",
       "<tr>\n",
       "  <th>Df Model:</th>              <td>     2</td>      <th>                     </th>              <td> </td>   \n",
       "</tr>\n",
       "<tr>\n",
       "  <th>Covariance Type:</th>      <td>nonrobust</td>    <th>                     </th>              <td> </td>   \n",
       "</tr>\n",
       "</table>\n",
       "<table class=\"simpletable\">\n",
       "<tr>\n",
       "   <td></td>     <th>coef</th>     <th>std err</th>      <th>t</th>      <th>P>|t|</th>  <th>[0.025</th>    <th>0.975]</th>  \n",
       "</tr>\n",
       "<tr>\n",
       "  <th>x1</th> <td>    1.9310</td> <td>    0.032</td> <td>   60.823</td> <td> 0.000</td> <td>    1.869</td> <td>    1.993</td>\n",
       "</tr>\n",
       "<tr>\n",
       "  <th>x2</th> <td>    5.0581</td> <td>    0.048</td> <td>  105.398</td> <td> 0.000</td> <td>    4.964</td> <td>    5.152</td>\n",
       "</tr>\n",
       "</table>\n",
       "<table class=\"simpletable\">\n",
       "<tr>\n",
       "  <th>Omnibus:</th>       <td> 2.325</td> <th>  Durbin-Watson:     </th> <td>   2.017</td>\n",
       "</tr>\n",
       "<tr>\n",
       "  <th>Prob(Omnibus):</th> <td> 0.313</td> <th>  Jarque-Bera (JB):  </th> <td>   2.316</td>\n",
       "</tr>\n",
       "<tr>\n",
       "  <th>Skew:</th>          <td> 0.082</td> <th>  Prob(JB):          </th> <td>   0.314</td>\n",
       "</tr>\n",
       "<tr>\n",
       "  <th>Kurtosis:</th>      <td> 2.830</td> <th>  Cond. No.          </th> <td>    1.62</td>\n",
       "</tr>\n",
       "</table><br/><br/>Notes:<br/>[1] R² is computed without centering (uncentered) since the model does not contain a constant.<br/>[2] Standard Errors assume that the covariance matrix of the errors is correctly specified."
      ],
      "text/plain": [
       "<class 'statsmodels.iolib.summary.Summary'>\n",
       "\"\"\"\n",
       "                                 OLS Regression Results                                \n",
       "=======================================================================================\n",
       "Dep. Variable:                      y   R-squared (uncentered):                   0.950\n",
       "Model:                            OLS   Adj. R-squared (uncentered):              0.950\n",
       "Method:                 Least Squares   F-statistic:                              9498.\n",
       "Date:                Mon, 17 Oct 2022   Prob (F-statistic):                        0.00\n",
       "Time:                        14:41:40   Log-Likelihood:                         -1417.0\n",
       "No. Observations:                1000   AIC:                                      2838.\n",
       "Df Residuals:                     998   BIC:                                      2848.\n",
       "Df Model:                           2                                                  \n",
       "Covariance Type:            nonrobust                                                  \n",
       "==============================================================================\n",
       "                 coef    std err          t      P>|t|      [0.025      0.975]\n",
       "------------------------------------------------------------------------------\n",
       "x1             1.9310      0.032     60.823      0.000       1.869       1.993\n",
       "x2             5.0581      0.048    105.398      0.000       4.964       5.152\n",
       "==============================================================================\n",
       "Omnibus:                        2.325   Durbin-Watson:                   2.017\n",
       "Prob(Omnibus):                  0.313   Jarque-Bera (JB):                2.316\n",
       "Skew:                           0.082   Prob(JB):                        0.314\n",
       "Kurtosis:                       2.830   Cond. No.                         1.62\n",
       "==============================================================================\n",
       "\n",
       "Notes:\n",
       "[1] R² is computed without centering (uncentered) since the model does not contain a constant.\n",
       "[2] Standard Errors assume that the covariance matrix of the errors is correctly specified.\n",
       "\"\"\""
      ]
     },
     "execution_count": 10,
     "metadata": {},
     "output_type": "execute_result"
    }
   ],
   "source": [
    "model = OLS(np.asarray(df[outcome]), np.asarray(df[[common_cause, treatment]], dtype=np.float64))\n",
    "result = model.fit()\n",
    "result.summary()"
   ]
  }
 ],
 "metadata": {
  "kernelspec": {
   "display_name": "Python 3",
   "language": "python",
   "name": "python3"
  },
  "language_info": {
   "codemirror_mode": {
    "name": "ipython",
    "version": 3
   },
   "file_extension": ".py",
   "mimetype": "text/x-python",
   "name": "python",
   "nbconvert_exporter": "python",
   "pygments_lexer": "ipython3",
   "version": "3.8.10"
  },
  "toc": {
   "base_numbering": 1,
   "nav_menu": {},
   "number_sections": false,
   "sideBar": true,
   "skip_h1_title": true,
   "title_cell": "Table of Contents",
   "title_sidebar": "Contents",
   "toc_cell": false,
   "toc_position": {},
   "toc_section_display": true,
   "toc_window_display": false
  }
 },
 "nbformat": 4,
 "nbformat_minor": 4
}
