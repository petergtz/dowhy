{
 "cells": [
  {
   "cell_type": "markdown",
   "metadata": {},
   "source": [
    "# Demo for the DoWhy causal API\n",
    "We show a simple example of adding a causal extension to any dataframe. "
   ]
  },
  {
   "cell_type": "code",
   "execution_count": 1,
   "metadata": {
    "execution": {
     "iopub.execute_input": "2022-10-17T14:58:02.994935Z",
     "iopub.status.busy": "2022-10-17T14:58:02.994574Z",
     "iopub.status.idle": "2022-10-17T14:58:05.409037Z",
     "shell.execute_reply": "2022-10-17T14:58:05.407977Z"
    }
   },
   "outputs": [],
   "source": [
    "import dowhy.datasets\n",
    "import dowhy.api\n",
    "\n",
    "import numpy as np\n",
    "import pandas as pd\n",
    "\n",
    "from statsmodels.api import OLS"
   ]
  },
  {
   "cell_type": "code",
   "execution_count": 2,
   "metadata": {
    "execution": {
     "iopub.execute_input": "2022-10-17T14:58:05.416493Z",
     "iopub.status.busy": "2022-10-17T14:58:05.414334Z",
     "iopub.status.idle": "2022-10-17T14:58:05.468080Z",
     "shell.execute_reply": "2022-10-17T14:58:05.467179Z"
    }
   },
   "outputs": [
    {
     "data": {
      "text/html": [
       "<div>\n",
       "<style scoped>\n",
       "    .dataframe tbody tr th:only-of-type {\n",
       "        vertical-align: middle;\n",
       "    }\n",
       "\n",
       "    .dataframe tbody tr th {\n",
       "        vertical-align: top;\n",
       "    }\n",
       "\n",
       "    .dataframe thead th {\n",
       "        text-align: right;\n",
       "    }\n",
       "</style>\n",
       "<table border=\"1\" class=\"dataframe\">\n",
       "  <thead>\n",
       "    <tr style=\"text-align: right;\">\n",
       "      <th></th>\n",
       "      <th>W0</th>\n",
       "      <th>v0</th>\n",
       "      <th>y</th>\n",
       "    </tr>\n",
       "  </thead>\n",
       "  <tbody>\n",
       "    <tr>\n",
       "      <th>0</th>\n",
       "      <td>1.310786</td>\n",
       "      <td>True</td>\n",
       "      <td>7.734083</td>\n",
       "    </tr>\n",
       "    <tr>\n",
       "      <th>1</th>\n",
       "      <td>1.754296</td>\n",
       "      <td>True</td>\n",
       "      <td>8.681555</td>\n",
       "    </tr>\n",
       "    <tr>\n",
       "      <th>2</th>\n",
       "      <td>-0.031483</td>\n",
       "      <td>False</td>\n",
       "      <td>0.492589</td>\n",
       "    </tr>\n",
       "    <tr>\n",
       "      <th>3</th>\n",
       "      <td>0.191160</td>\n",
       "      <td>True</td>\n",
       "      <td>5.578564</td>\n",
       "    </tr>\n",
       "    <tr>\n",
       "      <th>4</th>\n",
       "      <td>-0.053362</td>\n",
       "      <td>True</td>\n",
       "      <td>5.022830</td>\n",
       "    </tr>\n",
       "    <tr>\n",
       "      <th>...</th>\n",
       "      <td>...</td>\n",
       "      <td>...</td>\n",
       "      <td>...</td>\n",
       "    </tr>\n",
       "    <tr>\n",
       "      <th>995</th>\n",
       "      <td>1.365118</td>\n",
       "      <td>True</td>\n",
       "      <td>8.040369</td>\n",
       "    </tr>\n",
       "    <tr>\n",
       "      <th>996</th>\n",
       "      <td>1.879906</td>\n",
       "      <td>True</td>\n",
       "      <td>10.448775</td>\n",
       "    </tr>\n",
       "    <tr>\n",
       "      <th>997</th>\n",
       "      <td>0.135907</td>\n",
       "      <td>False</td>\n",
       "      <td>-0.565469</td>\n",
       "    </tr>\n",
       "    <tr>\n",
       "      <th>998</th>\n",
       "      <td>-0.731910</td>\n",
       "      <td>True</td>\n",
       "      <td>2.942817</td>\n",
       "    </tr>\n",
       "    <tr>\n",
       "      <th>999</th>\n",
       "      <td>2.695930</td>\n",
       "      <td>True</td>\n",
       "      <td>11.412518</td>\n",
       "    </tr>\n",
       "  </tbody>\n",
       "</table>\n",
       "<p>1000 rows × 3 columns</p>\n",
       "</div>"
      ],
      "text/plain": [
       "           W0     v0          y\n",
       "0    1.310786   True   7.734083\n",
       "1    1.754296   True   8.681555\n",
       "2   -0.031483  False   0.492589\n",
       "3    0.191160   True   5.578564\n",
       "4   -0.053362   True   5.022830\n",
       "..        ...    ...        ...\n",
       "995  1.365118   True   8.040369\n",
       "996  1.879906   True  10.448775\n",
       "997  0.135907  False  -0.565469\n",
       "998 -0.731910   True   2.942817\n",
       "999  2.695930   True  11.412518\n",
       "\n",
       "[1000 rows x 3 columns]"
      ]
     },
     "execution_count": 2,
     "metadata": {},
     "output_type": "execute_result"
    }
   ],
   "source": [
    "data = dowhy.datasets.linear_dataset(beta=5,\n",
    "        num_common_causes=1,\n",
    "        num_instruments = 0,\n",
    "        num_samples=1000,\n",
    "        treatment_is_binary=True)\n",
    "df = data['df']\n",
    "df['y'] = df['y'] + np.random.normal(size=len(df)) # Adding noise to data. Without noise, the variance in Y|X, Z is zero, and mcmc fails.\n",
    "#data['dot_graph'] = 'digraph { v ->y;X0-> v;X0-> y;}'\n",
    "\n",
    "treatment= data[\"treatment_name\"][0]\n",
    "outcome = data[\"outcome_name\"][0]\n",
    "common_cause = data[\"common_causes_names\"][0]\n",
    "df"
   ]
  },
  {
   "cell_type": "code",
   "execution_count": 3,
   "metadata": {
    "execution": {
     "iopub.execute_input": "2022-10-17T14:58:05.473479Z",
     "iopub.status.busy": "2022-10-17T14:58:05.472996Z",
     "iopub.status.idle": "2022-10-17T14:58:05.674949Z",
     "shell.execute_reply": "2022-10-17T14:58:05.674054Z"
    }
   },
   "outputs": [
    {
     "data": {
      "text/plain": [
       "<AxesSubplot: xlabel='v0'>"
      ]
     },
     "execution_count": 3,
     "metadata": {},
     "output_type": "execute_result"
    },
    {
     "data": {
      "image/png": "[encoded data removed]",
      "text/plain": [
       "<Figure size 640x480 with 1 Axes>"
      ]
     },
     "metadata": {},
     "output_type": "display_data"
    }
   ],
   "source": [
    "# data['df'] is just a regular pandas.DataFrame\n",
    "df.causal.do(x=treatment,\n",
    "                     variable_types={treatment: 'b', outcome: 'c', common_cause: 'c'},\n",
    "                     outcome=outcome,\n",
    "                     common_causes=[common_cause],\n",
    "                     proceed_when_unidentifiable=True).groupby(treatment).mean().plot(y=outcome, kind='bar')"
   ]
  },
  {
   "cell_type": "code",
   "execution_count": 4,
   "metadata": {
    "execution": {
     "iopub.execute_input": "2022-10-17T14:58:05.678996Z",
     "iopub.status.busy": "2022-10-17T14:58:05.678435Z",
     "iopub.status.idle": "2022-10-17T14:58:05.837525Z",
     "shell.execute_reply": "2022-10-17T14:58:05.836806Z"
    }
   },
   "outputs": [
    {
     "data": {
      "text/plain": [
       "<AxesSubplot: xlabel='v0'>"
      ]
     },
     "execution_count": 4,
     "metadata": {},
     "output_type": "execute_result"
    },
    {
     "data": {
      "image/png": "[encoded data removed]",
      "text/plain": [
       "<Figure size 640x480 with 1 Axes>"
      ]
     },
     "metadata": {},
     "output_type": "display_data"
    }
   ],
   "source": [
    "df.causal.do(x={treatment: 1}, \n",
    "              variable_types={treatment:'b', outcome: 'c', common_cause: 'c'}, \n",
    "              outcome=outcome,\n",
    "              method='weighting', \n",
    "              common_causes=[common_cause],\n",
    "              proceed_when_unidentifiable=True).groupby(treatment).mean().plot(y=outcome, kind='bar')"
   ]
  },
  {
   "cell_type": "code",
   "execution_count": 5,
   "metadata": {
    "execution": {
     "iopub.execute_input": "2022-10-17T14:58:05.841255Z",
     "iopub.status.busy": "2022-10-17T14:58:05.840700Z",
     "iopub.status.idle": "2022-10-17T14:58:05.880570Z",
     "shell.execute_reply": "2022-10-17T14:58:05.879687Z"
    }
   },
   "outputs": [],
   "source": [
    "cdf_1 = df.causal.do(x={treatment: 1}, \n",
    "              variable_types={treatment: 'b', outcome: 'c', common_cause: 'c'}, \n",
    "              outcome=outcome, \n",
    "              dot_graph=data['dot_graph'],\n",
    "              proceed_when_unidentifiable=True)\n",
    "\n",
    "cdf_0 = df.causal.do(x={treatment: 0}, \n",
    "              variable_types={treatment: 'b', outcome: 'c', common_cause: 'c'}, \n",
    "              outcome=outcome, \n",
    "              dot_graph=data['dot_graph'],\n",
    "              proceed_when_unidentifiable=True)\n"
   ]
  },
  {
   "cell_type": "code",
   "execution_count": 6,
   "metadata": {
    "execution": {
     "iopub.execute_input": "2022-10-17T14:58:05.885066Z",
     "iopub.status.busy": "2022-10-17T14:58:05.884562Z",
     "iopub.status.idle": "2022-10-17T14:58:05.899866Z",
     "shell.execute_reply": "2022-10-17T14:58:05.899160Z"
    },
    "scrolled": true
   },
   "outputs": [
    {
     "data": {
      "text/html": [
       "<div>\n",
       "<style scoped>\n",
       "    .dataframe tbody tr th:only-of-type {\n",
       "        vertical-align: middle;\n",
       "    }\n",
       "\n",
       "    .dataframe tbody tr th {\n",
       "        vertical-align: top;\n",
       "    }\n",
       "\n",
       "    .dataframe thead th {\n",
       "        text-align: right;\n",
       "    }\n",
       "</style>\n",
       "<table border=\"1\" class=\"dataframe\">\n",
       "  <thead>\n",
       "    <tr style=\"text-align: right;\">\n",
       "      <th></th>\n",
       "      <th>W0</th>\n",
       "      <th>v0</th>\n",
       "      <th>y</th>\n",
       "      <th>propensity_score</th>\n",
       "      <th>weight</th>\n",
       "    </tr>\n",
       "  </thead>\n",
       "  <tbody>\n",
       "    <tr>\n",
       "      <th>0</th>\n",
       "      <td>0.581001</td>\n",
       "      <td>False</td>\n",
       "      <td>1.572117</td>\n",
       "      <td>0.255497</td>\n",
       "      <td>3.913944</td>\n",
       "    </tr>\n",
       "    <tr>\n",
       "      <th>1</th>\n",
       "      <td>0.516534</td>\n",
       "      <td>False</td>\n",
       "      <td>0.557598</td>\n",
       "      <td>0.275166</td>\n",
       "      <td>3.634174</td>\n",
       "    </tr>\n",
       "    <tr>\n",
       "      <th>2</th>\n",
       "      <td>0.516534</td>\n",
       "      <td>False</td>\n",
       "      <td>0.557598</td>\n",
       "      <td>0.275166</td>\n",
       "      <td>3.634174</td>\n",
       "    </tr>\n",
       "    <tr>\n",
       "      <th>3</th>\n",
       "      <td>0.778755</td>\n",
       "      <td>False</td>\n",
       "      <td>1.232529</td>\n",
       "      <td>0.201148</td>\n",
       "      <td>4.971471</td>\n",
       "    </tr>\n",
       "    <tr>\n",
       "      <th>4</th>\n",
       "      <td>2.148780</td>\n",
       "      <td>False</td>\n",
       "      <td>3.487100</td>\n",
       "      <td>0.028631</td>\n",
       "      <td>34.927371</td>\n",
       "    </tr>\n",
       "    <tr>\n",
       "      <th>...</th>\n",
       "      <td>...</td>\n",
       "      <td>...</td>\n",
       "      <td>...</td>\n",
       "      <td>...</td>\n",
       "      <td>...</td>\n",
       "    </tr>\n",
       "    <tr>\n",
       "      <th>995</th>\n",
       "      <td>1.363757</td>\n",
       "      <td>False</td>\n",
       "      <td>2.336542</td>\n",
       "      <td>0.091530</td>\n",
       "      <td>10.925331</td>\n",
       "    </tr>\n",
       "    <tr>\n",
       "      <th>996</th>\n",
       "      <td>0.125826</td>\n",
       "      <td>False</td>\n",
       "      <td>-0.278460</td>\n",
       "      <td>0.411728</td>\n",
       "      <td>2.428789</td>\n",
       "    </tr>\n",
       "    <tr>\n",
       "      <th>997</th>\n",
       "      <td>0.805005</td>\n",
       "      <td>False</td>\n",
       "      <td>2.735049</td>\n",
       "      <td>0.194624</td>\n",
       "      <td>5.138100</td>\n",
       "    </tr>\n",
       "    <tr>\n",
       "      <th>998</th>\n",
       "      <td>1.724723</td>\n",
       "      <td>False</td>\n",
       "      <td>5.056132</td>\n",
       "      <td>0.054153</td>\n",
       "      <td>18.466161</td>\n",
       "    </tr>\n",
       "    <tr>\n",
       "      <th>999</th>\n",
       "      <td>1.128721</td>\n",
       "      <td>False</td>\n",
       "      <td>4.035166</td>\n",
       "      <td>0.127073</td>\n",
       "      <td>7.869477</td>\n",
       "    </tr>\n",
       "  </tbody>\n",
       "</table>\n",
       "<p>1000 rows × 5 columns</p>\n",
       "</div>"
      ],
      "text/plain": [
       "           W0     v0         y  propensity_score     weight\n",
       "0    0.581001  False  1.572117          0.255497   3.913944\n",
       "1    0.516534  False  0.557598          0.275166   3.634174\n",
       "2    0.516534  False  0.557598          0.275166   3.634174\n",
       "3    0.778755  False  1.232529          0.201148   4.971471\n",
       "4    2.148780  False  3.487100          0.028631  34.927371\n",
       "..        ...    ...       ...               ...        ...\n",
       "995  1.363757  False  2.336542          0.091530  10.925331\n",
       "996  0.125826  False -0.278460          0.411728   2.428789\n",
       "997  0.805005  False  2.735049          0.194624   5.138100\n",
       "998  1.724723  False  5.056132          0.054153  18.466161\n",
       "999  1.128721  False  4.035166          0.127073   7.869477\n",
       "\n",
       "[1000 rows x 5 columns]"
      ]
     },
     "execution_count": 6,
     "metadata": {},
     "output_type": "execute_result"
    }
   ],
   "source": [
    "cdf_0"
   ]
  },
  {
   "cell_type": "code",
   "execution_count": 7,
   "metadata": {
    "execution": {
     "iopub.execute_input": "2022-10-17T14:58:05.903309Z",
     "iopub.status.busy": "2022-10-17T14:58:05.903022Z",
     "iopub.status.idle": "2022-10-17T14:58:05.918074Z",
     "shell.execute_reply": "2022-10-17T14:58:05.917295Z"
    }
   },
   "outputs": [
    {
     "data": {
      "text/html": [
       "<div>\n",
       "<style scoped>\n",
       "    .dataframe tbody tr th:only-of-type {\n",
       "        vertical-align: middle;\n",
       "    }\n",
       "\n",
       "    .dataframe tbody tr th {\n",
       "        vertical-align: top;\n",
       "    }\n",
       "\n",
       "    .dataframe thead th {\n",
       "        text-align: right;\n",
       "    }\n",
       "</style>\n",
       "<table border=\"1\" class=\"dataframe\">\n",
       "  <thead>\n",
       "    <tr style=\"text-align: right;\">\n",
       "      <th></th>\n",
       "      <th>W0</th>\n",
       "      <th>v0</th>\n",
       "      <th>y</th>\n",
       "      <th>propensity_score</th>\n",
       "      <th>weight</th>\n",
       "    </tr>\n",
       "  </thead>\n",
       "  <tbody>\n",
       "    <tr>\n",
       "      <th>0</th>\n",
       "      <td>2.108903</td>\n",
       "      <td>True</td>\n",
       "      <td>10.119942</td>\n",
       "      <td>0.969581</td>\n",
       "      <td>1.031374</td>\n",
       "    </tr>\n",
       "    <tr>\n",
       "      <th>1</th>\n",
       "      <td>-0.562650</td>\n",
       "      <td>True</td>\n",
       "      <td>4.083779</td>\n",
       "      <td>0.327142</td>\n",
       "      <td>3.056776</td>\n",
       "    </tr>\n",
       "    <tr>\n",
       "      <th>2</th>\n",
       "      <td>1.095287</td>\n",
       "      <td>True</td>\n",
       "      <td>6.876324</td>\n",
       "      <td>0.867006</td>\n",
       "      <td>1.153395</td>\n",
       "    </tr>\n",
       "    <tr>\n",
       "      <th>3</th>\n",
       "      <td>2.375665</td>\n",
       "      <td>True</td>\n",
       "      <td>10.499582</td>\n",
       "      <td>0.979756</td>\n",
       "      <td>1.020662</td>\n",
       "    </tr>\n",
       "    <tr>\n",
       "      <th>4</th>\n",
       "      <td>1.169686</td>\n",
       "      <td>True</td>\n",
       "      <td>8.701656</td>\n",
       "      <td>0.879873</td>\n",
       "      <td>1.136528</td>\n",
       "    </tr>\n",
       "    <tr>\n",
       "      <th>...</th>\n",
       "      <td>...</td>\n",
       "      <td>...</td>\n",
       "      <td>...</td>\n",
       "      <td>...</td>\n",
       "      <td>...</td>\n",
       "    </tr>\n",
       "    <tr>\n",
       "      <th>995</th>\n",
       "      <td>1.762711</td>\n",
       "      <td>True</td>\n",
       "      <td>9.246608</td>\n",
       "      <td>0.948814</td>\n",
       "      <td>1.053948</td>\n",
       "    </tr>\n",
       "    <tr>\n",
       "      <th>996</th>\n",
       "      <td>0.568503</td>\n",
       "      <td>True</td>\n",
       "      <td>6.923311</td>\n",
       "      <td>0.740763</td>\n",
       "      <td>1.349959</td>\n",
       "    </tr>\n",
       "    <tr>\n",
       "      <th>997</th>\n",
       "      <td>1.969372</td>\n",
       "      <td>True</td>\n",
       "      <td>8.864908</td>\n",
       "      <td>0.962432</td>\n",
       "      <td>1.039034</td>\n",
       "    </tr>\n",
       "    <tr>\n",
       "      <th>998</th>\n",
       "      <td>1.226189</td>\n",
       "      <td>True</td>\n",
       "      <td>7.424331</td>\n",
       "      <td>0.888914</td>\n",
       "      <td>1.124968</td>\n",
       "    </tr>\n",
       "    <tr>\n",
       "      <th>999</th>\n",
       "      <td>1.310786</td>\n",
       "      <td>True</td>\n",
       "      <td>7.734083</td>\n",
       "      <td>0.901336</td>\n",
       "      <td>1.109465</td>\n",
       "    </tr>\n",
       "  </tbody>\n",
       "</table>\n",
       "<p>1000 rows × 5 columns</p>\n",
       "</div>"
      ],
      "text/plain": [
       "           W0    v0          y  propensity_score    weight\n",
       "0    2.108903  True  10.119942          0.969581  1.031374\n",
       "1   -0.562650  True   4.083779          0.327142  3.056776\n",
       "2    1.095287  True   6.876324          0.867006  1.153395\n",
       "3    2.375665  True  10.499582          0.979756  1.020662\n",
       "4    1.169686  True   8.701656          0.879873  1.136528\n",
       "..        ...   ...        ...               ...       ...\n",
       "995  1.762711  True   9.246608          0.948814  1.053948\n",
       "996  0.568503  True   6.923311          0.740763  1.349959\n",
       "997  1.969372  True   8.864908          0.962432  1.039034\n",
       "998  1.226189  True   7.424331          0.888914  1.124968\n",
       "999  1.310786  True   7.734083          0.901336  1.109465\n",
       "\n",
       "[1000 rows x 5 columns]"
      ]
     },
     "execution_count": 7,
     "metadata": {},
     "output_type": "execute_result"
    }
   ],
   "source": [
    "cdf_1"
   ]
  },
  {
   "cell_type": "markdown",
   "metadata": {},
   "source": [
    "## Comparing the estimate to Linear Regression\n",
    "First, estimating the effect using the causal data frame, and the 95% confidence interval."
   ]
  },
  {
   "cell_type": "code",
   "execution_count": 8,
   "metadata": {
    "execution": {
     "iopub.execute_input": "2022-10-17T14:58:05.922160Z",
     "iopub.status.busy": "2022-10-17T14:58:05.921370Z",
     "iopub.status.idle": "2022-10-17T14:58:05.993992Z",
     "shell.execute_reply": "2022-10-17T14:58:05.993137Z"
    }
   },
   "outputs": [
    {
     "data": {
      "image/png": "[encoded data removed]",
      "text/latex": [
       "$\\displaystyle 5.10323896170999$"
      ],
      "text/plain": [
       "5.103238961709987"
      ]
     },
     "execution_count": 8,
     "metadata": {},
     "output_type": "execute_result"
    }
   ],
   "source": [
    "(cdf_1['y'] - cdf_0['y']).mean()"
   ]
  },
  {
   "cell_type": "code",
   "execution_count": 9,
   "metadata": {
    "execution": {
     "iopub.execute_input": "2022-10-17T14:58:05.998294Z",
     "iopub.status.busy": "2022-10-17T14:58:05.997546Z",
     "iopub.status.idle": "2022-10-17T14:58:06.027059Z",
     "shell.execute_reply": "2022-10-17T14:58:06.026245Z"
    }
   },
   "outputs": [
    {
     "data": {
      "image/png": "[encoded data removed]",
      "text/latex": [
       "$\\displaystyle 0.228261439400355$"
      ],
      "text/plain": [
       "0.2282614394003552"
      ]
     },
     "execution_count": 9,
     "metadata": {},
     "output_type": "execute_result"
    }
   ],
   "source": [
    "1.96*(cdf_1['y'] - cdf_0['y']).std() / np.sqrt(len(df))"
   ]
  },
  {
   "cell_type": "markdown",
   "metadata": {},
   "source": [
    "Comparing to the estimate from OLS."
   ]
  },
  {
   "cell_type": "code",
   "execution_count": 10,
   "metadata": {
    "execution": {
     "iopub.execute_input": "2022-10-17T14:58:06.032210Z",
     "iopub.status.busy": "2022-10-17T14:58:06.031663Z",
     "iopub.status.idle": "2022-10-17T14:58:06.054878Z",
     "shell.execute_reply": "2022-10-17T14:58:06.054020Z"
    }
   },
   "outputs": [
    {
     "data": {
      "text/html": [
       "<table class=\"simpletable\">\n",
       "<caption>OLS Regression Results</caption>\n",
       "<tr>\n",
       "  <th>Dep. Variable:</th>            <td>y</td>        <th>  R-squared (uncentered):</th>      <td>   0.981</td> \n",
       "</tr>\n",
       "<tr>\n",
       "  <th>Model:</th>                   <td>OLS</td>       <th>  Adj. R-squared (uncentered):</th> <td>   0.981</td> \n",
       "</tr>\n",
       "<tr>\n",
       "  <th>Method:</th>             <td>Least Squares</td>  <th>  F-statistic:       </th>          <td>2.550e+04</td>\n",
       "</tr>\n",
       "<tr>\n",
       "  <th>Date:</th>             <td>Mon, 17 Oct 2022</td> <th>  Prob (F-statistic):</th>           <td>  0.00</td>  \n",
       "</tr>\n",
       "<tr>\n",
       "  <th>Time:</th>                 <td>14:58:06</td>     <th>  Log-Likelihood:    </th>          <td> -1421.2</td> \n",
       "</tr>\n",
       "<tr>\n",
       "  <th>No. Observations:</th>      <td>  1000</td>      <th>  AIC:               </th>          <td>   2846.</td> \n",
       "</tr>\n",
       "<tr>\n",
       "  <th>Df Residuals:</th>          <td>   998</td>      <th>  BIC:               </th>          <td>   2856.</td> \n",
       "</tr>\n",
       "<tr>\n",
       "  <th>Df Model:</th>              <td>     2</td>      <th>                     </th>              <td> </td>    \n",
       "</tr>\n",
       "<tr>\n",
       "  <th>Covariance Type:</th>      <td>nonrobust</td>    <th>                     </th>              <td> </td>    \n",
       "</tr>\n",
       "</table>\n",
       "<table class=\"simpletable\">\n",
       "<tr>\n",
       "   <td></td>     <th>coef</th>     <th>std err</th>      <th>t</th>      <th>P>|t|</th>  <th>[0.025</th>    <th>0.975]</th>  \n",
       "</tr>\n",
       "<tr>\n",
       "  <th>x1</th> <td>    2.4480</td> <td>    0.037</td> <td>   66.887</td> <td> 0.000</td> <td>    2.376</td> <td>    2.520</td>\n",
       "</tr>\n",
       "<tr>\n",
       "  <th>x2</th> <td>    4.9973</td> <td>    0.057</td> <td>   87.942</td> <td> 0.000</td> <td>    4.886</td> <td>    5.109</td>\n",
       "</tr>\n",
       "</table>\n",
       "<table class=\"simpletable\">\n",
       "<tr>\n",
       "  <th>Omnibus:</th>       <td> 2.095</td> <th>  Durbin-Watson:     </th> <td>   1.986</td>\n",
       "</tr>\n",
       "<tr>\n",
       "  <th>Prob(Omnibus):</th> <td> 0.351</td> <th>  Jarque-Bera (JB):  </th> <td>   2.127</td>\n",
       "</tr>\n",
       "<tr>\n",
       "  <th>Skew:</th>          <td> 0.083</td> <th>  Prob(JB):          </th> <td>   0.345</td>\n",
       "</tr>\n",
       "<tr>\n",
       "  <th>Kurtosis:</th>      <td> 2.848</td> <th>  Cond. No.          </th> <td>    3.08</td>\n",
       "</tr>\n",
       "</table><br/><br/>Notes:<br/>[1] R² is computed without centering (uncentered) since the model does not contain a constant.<br/>[2] Standard Errors assume that the covariance matrix of the errors is correctly specified."
      ],
      "text/plain": [
       "<class 'statsmodels.iolib.summary.Summary'>\n",
       "\"\"\"\n",
       "                                 OLS Regression Results                                \n",
       "=======================================================================================\n",
       "Dep. Variable:                      y   R-squared (uncentered):                   0.981\n",
       "Model:                            OLS   Adj. R-squared (uncentered):              0.981\n",
       "Method:                 Least Squares   F-statistic:                          2.550e+04\n",
       "Date:                Mon, 17 Oct 2022   Prob (F-statistic):                        0.00\n",
       "Time:                        14:58:06   Log-Likelihood:                         -1421.2\n",
       "No. Observations:                1000   AIC:                                      2846.\n",
       "Df Residuals:                     998   BIC:                                      2856.\n",
       "Df Model:                           2                                                  \n",
       "Covariance Type:            nonrobust                                                  \n",
       "==============================================================================\n",
       "                 coef    std err          t      P>|t|      [0.025      0.975]\n",
       "------------------------------------------------------------------------------\n",
       "x1             2.4480      0.037     66.887      0.000       2.376       2.520\n",
       "x2             4.9973      0.057     87.942      0.000       4.886       5.109\n",
       "==============================================================================\n",
       "Omnibus:                        2.095   Durbin-Watson:                   1.986\n",
       "Prob(Omnibus):                  0.351   Jarque-Bera (JB):                2.127\n",
       "Skew:                           0.083   Prob(JB):                        0.345\n",
       "Kurtosis:                       2.848   Cond. No.                         3.08\n",
       "==============================================================================\n",
       "\n",
       "Notes:\n",
       "[1] R² is computed without centering (uncentered) since the model does not contain a constant.\n",
       "[2] Standard Errors assume that the covariance matrix of the errors is correctly specified.\n",
       "\"\"\""
      ]
     },
     "execution_count": 10,
     "metadata": {},
     "output_type": "execute_result"
    }
   ],
   "source": [
    "model = OLS(np.asarray(df[outcome]), np.asarray(df[[common_cause, treatment]], dtype=np.float64))\n",
    "result = model.fit()\n",
    "result.summary()"
   ]
  }
 ],
 "metadata": {
  "kernelspec": {
   "display_name": "Python 3",
   "language": "python",
   "name": "python3"
  },
  "language_info": {
   "codemirror_mode": {
    "name": "ipython",
    "version": 3
   },
   "file_extension": ".py",
   "mimetype": "text/x-python",
   "name": "python",
   "nbconvert_exporter": "python",
   "pygments_lexer": "ipython3",
   "version": "3.8.10"
  },
  "toc": {
   "base_numbering": 1,
   "nav_menu": {},
   "number_sections": false,
   "sideBar": true,
   "skip_h1_title": true,
   "title_cell": "Table of Contents",
   "title_sidebar": "Contents",
   "toc_cell": false,
   "toc_position": {},
   "toc_section_display": true,
   "toc_window_display": false
  }
 },
 "nbformat": 4,
 "nbformat_minor": 4
}
