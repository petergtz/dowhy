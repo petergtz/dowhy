{
 "cells": [
  {
   "cell_type": "markdown",
   "metadata": {},
   "source": [
    "# Demo for the DoWhy causal API\n",
    "We show a simple example of adding a causal extension to any dataframe. "
   ]
  },
  {
   "cell_type": "code",
   "execution_count": 1,
   "metadata": {
    "execution": {
     "iopub.execute_input": "2022-10-19T15:31:48.283864Z",
     "iopub.status.busy": "2022-10-19T15:31:48.283506Z",
     "iopub.status.idle": "2022-10-19T15:31:50.055469Z",
     "shell.execute_reply": "2022-10-19T15:31:50.054860Z"
    }
   },
   "outputs": [],
   "source": [
    "import dowhy.datasets\n",
    "import dowhy.api\n",
    "\n",
    "import numpy as np\n",
    "import pandas as pd\n",
    "\n",
    "from statsmodels.api import OLS"
   ]
  },
  {
   "cell_type": "code",
   "execution_count": 2,
   "metadata": {
    "execution": {
     "iopub.execute_input": "2022-10-19T15:31:50.059761Z",
     "iopub.status.busy": "2022-10-19T15:31:50.058485Z",
     "iopub.status.idle": "2022-10-19T15:31:50.100809Z",
     "shell.execute_reply": "2022-10-19T15:31:50.100215Z"
    }
   },
   "outputs": [
    {
     "data": {
      "text/html": [
       "<div>\n",
       "<style scoped>\n",
       "    .dataframe tbody tr th:only-of-type {\n",
       "        vertical-align: middle;\n",
       "    }\n",
       "\n",
       "    .dataframe tbody tr th {\n",
       "        vertical-align: top;\n",
       "    }\n",
       "\n",
       "    .dataframe thead th {\n",
       "        text-align: right;\n",
       "    }\n",
       "</style>\n",
       "<table border=\"1\" class=\"dataframe\">\n",
       "  <thead>\n",
       "    <tr style=\"text-align: right;\">\n",
       "      <th></th>\n",
       "      <th>W0</th>\n",
       "      <th>v0</th>\n",
       "      <th>y</th>\n",
       "    </tr>\n",
       "  </thead>\n",
       "  <tbody>\n",
       "    <tr>\n",
       "      <th>0</th>\n",
       "      <td>-0.468421</td>\n",
       "      <td>False</td>\n",
       "      <td>0.250435</td>\n",
       "    </tr>\n",
       "    <tr>\n",
       "      <th>1</th>\n",
       "      <td>-1.959243</td>\n",
       "      <td>False</td>\n",
       "      <td>0.549045</td>\n",
       "    </tr>\n",
       "    <tr>\n",
       "      <th>2</th>\n",
       "      <td>-0.813138</td>\n",
       "      <td>False</td>\n",
       "      <td>0.619455</td>\n",
       "    </tr>\n",
       "    <tr>\n",
       "      <th>3</th>\n",
       "      <td>-1.579307</td>\n",
       "      <td>False</td>\n",
       "      <td>-1.099827</td>\n",
       "    </tr>\n",
       "    <tr>\n",
       "      <th>4</th>\n",
       "      <td>-0.678088</td>\n",
       "      <td>False</td>\n",
       "      <td>-1.365518</td>\n",
       "    </tr>\n",
       "    <tr>\n",
       "      <th>...</th>\n",
       "      <td>...</td>\n",
       "      <td>...</td>\n",
       "      <td>...</td>\n",
       "    </tr>\n",
       "    <tr>\n",
       "      <th>995</th>\n",
       "      <td>1.632999</td>\n",
       "      <td>True</td>\n",
       "      <td>5.673226</td>\n",
       "    </tr>\n",
       "    <tr>\n",
       "      <th>996</th>\n",
       "      <td>0.162074</td>\n",
       "      <td>True</td>\n",
       "      <td>2.686286</td>\n",
       "    </tr>\n",
       "    <tr>\n",
       "      <th>997</th>\n",
       "      <td>0.640817</td>\n",
       "      <td>False</td>\n",
       "      <td>0.175257</td>\n",
       "    </tr>\n",
       "    <tr>\n",
       "      <th>998</th>\n",
       "      <td>0.483879</td>\n",
       "      <td>True</td>\n",
       "      <td>3.462681</td>\n",
       "    </tr>\n",
       "    <tr>\n",
       "      <th>999</th>\n",
       "      <td>-1.337157</td>\n",
       "      <td>False</td>\n",
       "      <td>-0.259736</td>\n",
       "    </tr>\n",
       "  </tbody>\n",
       "</table>\n",
       "<p>1000 rows × 3 columns</p>\n",
       "</div>"
      ],
      "text/plain": [
       "           W0     v0         y\n",
       "0   -0.468421  False  0.250435\n",
       "1   -1.959243  False  0.549045\n",
       "2   -0.813138  False  0.619455\n",
       "3   -1.579307  False -1.099827\n",
       "4   -0.678088  False -1.365518\n",
       "..        ...    ...       ...\n",
       "995  1.632999   True  5.673226\n",
       "996  0.162074   True  2.686286\n",
       "997  0.640817  False  0.175257\n",
       "998  0.483879   True  3.462681\n",
       "999 -1.337157  False -0.259736\n",
       "\n",
       "[1000 rows x 3 columns]"
      ]
     },
     "execution_count": 2,
     "metadata": {},
     "output_type": "execute_result"
    }
   ],
   "source": [
    "data = dowhy.datasets.linear_dataset(beta=5,\n",
    "        num_common_causes=1,\n",
    "        num_instruments = 0,\n",
    "        num_samples=1000,\n",
    "        treatment_is_binary=True)\n",
    "df = data['df']\n",
    "df['y'] = df['y'] + np.random.normal(size=len(df)) # Adding noise to data. Without noise, the variance in Y|X, Z is zero, and mcmc fails.\n",
    "#data['dot_graph'] = 'digraph { v ->y;X0-> v;X0-> y;}'\n",
    "\n",
    "treatment= data[\"treatment_name\"][0]\n",
    "outcome = data[\"outcome_name\"][0]\n",
    "common_cause = data[\"common_causes_names\"][0]\n",
    "df"
   ]
  },
  {
   "cell_type": "code",
   "execution_count": 3,
   "metadata": {
    "execution": {
     "iopub.execute_input": "2022-10-19T15:31:50.103658Z",
     "iopub.status.busy": "2022-10-19T15:31:50.103445Z",
     "iopub.status.idle": "2022-10-19T15:31:50.245737Z",
     "shell.execute_reply": "2022-10-19T15:31:50.245204Z"
    }
   },
   "outputs": [
    {
     "data": {
      "text/plain": [
       "<AxesSubplot: xlabel='v0'>"
      ]
     },
     "execution_count": 3,
     "metadata": {},
     "output_type": "execute_result"
    },
    {
     "data": {
      "image/png": "[encoded data removed]",
      "text/plain": [
       "<Figure size 640x480 with 1 Axes>"
      ]
     },
     "metadata": {},
     "output_type": "display_data"
    }
   ],
   "source": [
    "# data['df'] is just a regular pandas.DataFrame\n",
    "df.causal.do(x=treatment,\n",
    "                     variable_types={treatment: 'b', outcome: 'c', common_cause: 'c'},\n",
    "                     outcome=outcome,\n",
    "                     common_causes=[common_cause],\n",
    "                     proceed_when_unidentifiable=True).groupby(treatment).mean().plot(y=outcome, kind='bar')"
   ]
  },
  {
   "cell_type": "code",
   "execution_count": 4,
   "metadata": {
    "execution": {
     "iopub.execute_input": "2022-10-19T15:31:50.248752Z",
     "iopub.status.busy": "2022-10-19T15:31:50.248511Z",
     "iopub.status.idle": "2022-10-19T15:31:50.365532Z",
     "shell.execute_reply": "2022-10-19T15:31:50.364995Z"
    }
   },
   "outputs": [
    {
     "data": {
      "text/plain": [
       "<AxesSubplot: xlabel='v0'>"
      ]
     },
     "execution_count": 4,
     "metadata": {},
     "output_type": "execute_result"
    },
    {
     "data": {
      "image/png": "[encoded data removed]",
      "text/plain": [
       "<Figure size 640x480 with 1 Axes>"
      ]
     },
     "metadata": {},
     "output_type": "display_data"
    }
   ],
   "source": [
    "df.causal.do(x={treatment: 1}, \n",
    "              variable_types={treatment:'b', outcome: 'c', common_cause: 'c'}, \n",
    "              outcome=outcome,\n",
    "              method='weighting', \n",
    "              common_causes=[common_cause],\n",
    "              proceed_when_unidentifiable=True).groupby(treatment).mean().plot(y=outcome, kind='bar')"
   ]
  },
  {
   "cell_type": "code",
   "execution_count": 5,
   "metadata": {
    "execution": {
     "iopub.execute_input": "2022-10-19T15:31:50.368831Z",
     "iopub.status.busy": "2022-10-19T15:31:50.368416Z",
     "iopub.status.idle": "2022-10-19T15:31:50.399360Z",
     "shell.execute_reply": "2022-10-19T15:31:50.398744Z"
    }
   },
   "outputs": [],
   "source": [
    "cdf_1 = df.causal.do(x={treatment: 1}, \n",
    "              variable_types={treatment: 'b', outcome: 'c', common_cause: 'c'}, \n",
    "              outcome=outcome, \n",
    "              dot_graph=data['dot_graph'],\n",
    "              proceed_when_unidentifiable=True)\n",
    "\n",
    "cdf_0 = df.causal.do(x={treatment: 0}, \n",
    "              variable_types={treatment: 'b', outcome: 'c', common_cause: 'c'}, \n",
    "              outcome=outcome, \n",
    "              dot_graph=data['dot_graph'],\n",
    "              proceed_when_unidentifiable=True)\n"
   ]
  },
  {
   "cell_type": "code",
   "execution_count": 6,
   "metadata": {
    "execution": {
     "iopub.execute_input": "2022-10-19T15:31:50.403861Z",
     "iopub.status.busy": "2022-10-19T15:31:50.402640Z",
     "iopub.status.idle": "2022-10-19T15:31:50.415054Z",
     "shell.execute_reply": "2022-10-19T15:31:50.414536Z"
    },
    "scrolled": true
   },
   "outputs": [
    {
     "data": {
      "text/html": [
       "<div>\n",
       "<style scoped>\n",
       "    .dataframe tbody tr th:only-of-type {\n",
       "        vertical-align: middle;\n",
       "    }\n",
       "\n",
       "    .dataframe tbody tr th {\n",
       "        vertical-align: top;\n",
       "    }\n",
       "\n",
       "    .dataframe thead th {\n",
       "        text-align: right;\n",
       "    }\n",
       "</style>\n",
       "<table border=\"1\" class=\"dataframe\">\n",
       "  <thead>\n",
       "    <tr style=\"text-align: right;\">\n",
       "      <th></th>\n",
       "      <th>W0</th>\n",
       "      <th>v0</th>\n",
       "      <th>y</th>\n",
       "      <th>propensity_score</th>\n",
       "      <th>weight</th>\n",
       "    </tr>\n",
       "  </thead>\n",
       "  <tbody>\n",
       "    <tr>\n",
       "      <th>0</th>\n",
       "      <td>-0.777055</td>\n",
       "      <td>False</td>\n",
       "      <td>-0.404053</td>\n",
       "      <td>0.810070</td>\n",
       "      <td>1.234462</td>\n",
       "    </tr>\n",
       "    <tr>\n",
       "      <th>1</th>\n",
       "      <td>-1.579336</td>\n",
       "      <td>False</td>\n",
       "      <td>-0.930970</td>\n",
       "      <td>0.949531</td>\n",
       "      <td>1.053151</td>\n",
       "    </tr>\n",
       "    <tr>\n",
       "      <th>2</th>\n",
       "      <td>-0.896220</td>\n",
       "      <td>False</td>\n",
       "      <td>1.030578</td>\n",
       "      <td>0.841697</td>\n",
       "      <td>1.188076</td>\n",
       "    </tr>\n",
       "    <tr>\n",
       "      <th>3</th>\n",
       "      <td>0.632851</td>\n",
       "      <td>False</td>\n",
       "      <td>1.440769</td>\n",
       "      <td>0.239079</td>\n",
       "      <td>4.182724</td>\n",
       "    </tr>\n",
       "    <tr>\n",
       "      <th>4</th>\n",
       "      <td>0.470298</td>\n",
       "      <td>False</td>\n",
       "      <td>0.202821</td>\n",
       "      <td>0.297961</td>\n",
       "      <td>3.356148</td>\n",
       "    </tr>\n",
       "    <tr>\n",
       "      <th>...</th>\n",
       "      <td>...</td>\n",
       "      <td>...</td>\n",
       "      <td>...</td>\n",
       "      <td>...</td>\n",
       "      <td>...</td>\n",
       "    </tr>\n",
       "    <tr>\n",
       "      <th>995</th>\n",
       "      <td>-0.685311</td>\n",
       "      <td>False</td>\n",
       "      <td>0.028947</td>\n",
       "      <td>0.782576</td>\n",
       "      <td>1.277831</td>\n",
       "    </tr>\n",
       "    <tr>\n",
       "      <th>996</th>\n",
       "      <td>-0.634275</td>\n",
       "      <td>False</td>\n",
       "      <td>-0.617439</td>\n",
       "      <td>0.766085</td>\n",
       "      <td>1.305339</td>\n",
       "    </tr>\n",
       "    <tr>\n",
       "      <th>997</th>\n",
       "      <td>-1.693956</td>\n",
       "      <td>False</td>\n",
       "      <td>1.202385</td>\n",
       "      <td>0.958776</td>\n",
       "      <td>1.042996</td>\n",
       "    </tr>\n",
       "    <tr>\n",
       "      <th>998</th>\n",
       "      <td>0.238732</td>\n",
       "      <td>False</td>\n",
       "      <td>1.734403</td>\n",
       "      <td>0.394448</td>\n",
       "      <td>2.535188</td>\n",
       "    </tr>\n",
       "    <tr>\n",
       "      <th>999</th>\n",
       "      <td>-2.106595</td>\n",
       "      <td>False</td>\n",
       "      <td>-1.248887</td>\n",
       "      <td>0.980353</td>\n",
       "      <td>1.020041</td>\n",
       "    </tr>\n",
       "  </tbody>\n",
       "</table>\n",
       "<p>1000 rows × 5 columns</p>\n",
       "</div>"
      ],
      "text/plain": [
       "           W0     v0         y  propensity_score    weight\n",
       "0   -0.777055  False -0.404053          0.810070  1.234462\n",
       "1   -1.579336  False -0.930970          0.949531  1.053151\n",
       "2   -0.896220  False  1.030578          0.841697  1.188076\n",
       "3    0.632851  False  1.440769          0.239079  4.182724\n",
       "4    0.470298  False  0.202821          0.297961  3.356148\n",
       "..        ...    ...       ...               ...       ...\n",
       "995 -0.685311  False  0.028947          0.782576  1.277831\n",
       "996 -0.634275  False -0.617439          0.766085  1.305339\n",
       "997 -1.693956  False  1.202385          0.958776  1.042996\n",
       "998  0.238732  False  1.734403          0.394448  2.535188\n",
       "999 -2.106595  False -1.248887          0.980353  1.020041\n",
       "\n",
       "[1000 rows x 5 columns]"
      ]
     },
     "execution_count": 6,
     "metadata": {},
     "output_type": "execute_result"
    }
   ],
   "source": [
    "cdf_0"
   ]
  },
  {
   "cell_type": "code",
   "execution_count": 7,
   "metadata": {
    "execution": {
     "iopub.execute_input": "2022-10-19T15:31:50.417998Z",
     "iopub.status.busy": "2022-10-19T15:31:50.417681Z",
     "iopub.status.idle": "2022-10-19T15:31:50.429301Z",
     "shell.execute_reply": "2022-10-19T15:31:50.428779Z"
    }
   },
   "outputs": [
    {
     "data": {
      "text/html": [
       "<div>\n",
       "<style scoped>\n",
       "    .dataframe tbody tr th:only-of-type {\n",
       "        vertical-align: middle;\n",
       "    }\n",
       "\n",
       "    .dataframe tbody tr th {\n",
       "        vertical-align: top;\n",
       "    }\n",
       "\n",
       "    .dataframe thead th {\n",
       "        text-align: right;\n",
       "    }\n",
       "</style>\n",
       "<table border=\"1\" class=\"dataframe\">\n",
       "  <thead>\n",
       "    <tr style=\"text-align: right;\">\n",
       "      <th></th>\n",
       "      <th>W0</th>\n",
       "      <th>v0</th>\n",
       "      <th>y</th>\n",
       "      <th>propensity_score</th>\n",
       "      <th>weight</th>\n",
       "    </tr>\n",
       "  </thead>\n",
       "  <tbody>\n",
       "    <tr>\n",
       "      <th>0</th>\n",
       "      <td>-1.667935</td>\n",
       "      <td>True</td>\n",
       "      <td>3.638529</td>\n",
       "      <td>0.043169</td>\n",
       "      <td>23.164936</td>\n",
       "    </tr>\n",
       "    <tr>\n",
       "      <th>1</th>\n",
       "      <td>-1.080790</td>\n",
       "      <td>True</td>\n",
       "      <td>4.326058</td>\n",
       "      <td>0.117913</td>\n",
       "      <td>8.480836</td>\n",
       "    </tr>\n",
       "    <tr>\n",
       "      <th>2</th>\n",
       "      <td>-0.422474</td>\n",
       "      <td>True</td>\n",
       "      <td>4.949261</td>\n",
       "      <td>0.311199</td>\n",
       "      <td>3.213379</td>\n",
       "    </tr>\n",
       "    <tr>\n",
       "      <th>3</th>\n",
       "      <td>0.557194</td>\n",
       "      <td>True</td>\n",
       "      <td>3.637832</td>\n",
       "      <td>0.734539</td>\n",
       "      <td>1.361397</td>\n",
       "    </tr>\n",
       "    <tr>\n",
       "      <th>4</th>\n",
       "      <td>-0.001985</td>\n",
       "      <td>True</td>\n",
       "      <td>4.173626</td>\n",
       "      <td>0.495837</td>\n",
       "      <td>2.016792</td>\n",
       "    </tr>\n",
       "    <tr>\n",
       "      <th>...</th>\n",
       "      <td>...</td>\n",
       "      <td>...</td>\n",
       "      <td>...</td>\n",
       "      <td>...</td>\n",
       "      <td>...</td>\n",
       "    </tr>\n",
       "    <tr>\n",
       "      <th>995</th>\n",
       "      <td>-0.053653</td>\n",
       "      <td>True</td>\n",
       "      <td>4.930507</td>\n",
       "      <td>0.471971</td>\n",
       "      <td>2.118775</td>\n",
       "    </tr>\n",
       "    <tr>\n",
       "      <th>996</th>\n",
       "      <td>-0.250217</td>\n",
       "      <td>True</td>\n",
       "      <td>3.790066</td>\n",
       "      <td>0.383230</td>\n",
       "      <td>2.609398</td>\n",
       "    </tr>\n",
       "    <tr>\n",
       "      <th>997</th>\n",
       "      <td>1.297640</td>\n",
       "      <td>True</td>\n",
       "      <td>6.231435</td>\n",
       "      <td>0.915872</td>\n",
       "      <td>1.091856</td>\n",
       "    </tr>\n",
       "    <tr>\n",
       "      <th>998</th>\n",
       "      <td>0.223724</td>\n",
       "      <td>True</td>\n",
       "      <td>5.863090</td>\n",
       "      <td>0.598901</td>\n",
       "      <td>1.669725</td>\n",
       "    </tr>\n",
       "    <tr>\n",
       "      <th>999</th>\n",
       "      <td>-0.363439</td>\n",
       "      <td>True</td>\n",
       "      <td>5.101575</td>\n",
       "      <td>0.335077</td>\n",
       "      <td>2.984388</td>\n",
       "    </tr>\n",
       "  </tbody>\n",
       "</table>\n",
       "<p>1000 rows × 5 columns</p>\n",
       "</div>"
      ],
      "text/plain": [
       "           W0    v0         y  propensity_score     weight\n",
       "0   -1.667935  True  3.638529          0.043169  23.164936\n",
       "1   -1.080790  True  4.326058          0.117913   8.480836\n",
       "2   -0.422474  True  4.949261          0.311199   3.213379\n",
       "3    0.557194  True  3.637832          0.734539   1.361397\n",
       "4   -0.001985  True  4.173626          0.495837   2.016792\n",
       "..        ...   ...       ...               ...        ...\n",
       "995 -0.053653  True  4.930507          0.471971   2.118775\n",
       "996 -0.250217  True  3.790066          0.383230   2.609398\n",
       "997  1.297640  True  6.231435          0.915872   1.091856\n",
       "998  0.223724  True  5.863090          0.598901   1.669725\n",
       "999 -0.363439  True  5.101575          0.335077   2.984388\n",
       "\n",
       "[1000 rows x 5 columns]"
      ]
     },
     "execution_count": 7,
     "metadata": {},
     "output_type": "execute_result"
    }
   ],
   "source": [
    "cdf_1"
   ]
  },
  {
   "cell_type": "markdown",
   "metadata": {},
   "source": [
    "## Comparing the estimate to Linear Regression\n",
    "First, estimating the effect using the causal data frame, and the 95% confidence interval."
   ]
  },
  {
   "cell_type": "code",
   "execution_count": 8,
   "metadata": {
    "execution": {
     "iopub.execute_input": "2022-10-19T15:31:50.432492Z",
     "iopub.status.busy": "2022-10-19T15:31:50.432148Z",
     "iopub.status.idle": "2022-10-19T15:31:50.489556Z",
     "shell.execute_reply": "2022-10-19T15:31:50.488947Z"
    }
   },
   "outputs": [
    {
     "data": {
      "image/png": "[encoded data removed]",
      "text/latex": [
       "$\\displaystyle 5.03332850427846$"
      ],
      "text/plain": [
       "5.033328504278463"
      ]
     },
     "execution_count": 8,
     "metadata": {},
     "output_type": "execute_result"
    }
   ],
   "source": [
    "(cdf_1['y'] - cdf_0['y']).mean()"
   ]
  },
  {
   "cell_type": "code",
   "execution_count": 9,
   "metadata": {
    "execution": {
     "iopub.execute_input": "2022-10-19T15:31:50.492420Z",
     "iopub.status.busy": "2022-10-19T15:31:50.492214Z",
     "iopub.status.idle": "2022-10-19T15:31:50.514126Z",
     "shell.execute_reply": "2022-10-19T15:31:50.513562Z"
    }
   },
   "outputs": [
    {
     "data": {
      "image/png": "[encoded data removed]",
      "text/latex": [
       "$\\displaystyle 0.0828627543483337$"
      ],
      "text/plain": [
       "0.08286275434833375"
      ]
     },
     "execution_count": 9,
     "metadata": {},
     "output_type": "execute_result"
    }
   ],
   "source": [
    "1.96*(cdf_1['y'] - cdf_0['y']).std() / np.sqrt(len(df))"
   ]
  },
  {
   "cell_type": "markdown",
   "metadata": {},
   "source": [
    "Comparing to the estimate from OLS."
   ]
  },
  {
   "cell_type": "code",
   "execution_count": 10,
   "metadata": {
    "execution": {
     "iopub.execute_input": "2022-10-19T15:31:50.516964Z",
     "iopub.status.busy": "2022-10-19T15:31:50.516560Z",
     "iopub.status.idle": "2022-10-19T15:31:50.532622Z",
     "shell.execute_reply": "2022-10-19T15:31:50.532069Z"
    }
   },
   "outputs": [
    {
     "data": {
      "text/html": [
       "<table class=\"simpletable\">\n",
       "<caption>OLS Regression Results</caption>\n",
       "<tr>\n",
       "  <th>Dep. Variable:</th>            <td>y</td>        <th>  R-squared (uncentered):</th>      <td>   0.878</td>\n",
       "</tr>\n",
       "<tr>\n",
       "  <th>Model:</th>                   <td>OLS</td>       <th>  Adj. R-squared (uncentered):</th> <td>   0.878</td>\n",
       "</tr>\n",
       "<tr>\n",
       "  <th>Method:</th>             <td>Least Squares</td>  <th>  F-statistic:       </th>          <td>   3605.</td>\n",
       "</tr>\n",
       "<tr>\n",
       "  <th>Date:</th>             <td>Wed, 19 Oct 2022</td> <th>  Prob (F-statistic):</th>           <td>  0.00</td> \n",
       "</tr>\n",
       "<tr>\n",
       "  <th>Time:</th>                 <td>15:31:50</td>     <th>  Log-Likelihood:    </th>          <td> -1405.0</td>\n",
       "</tr>\n",
       "<tr>\n",
       "  <th>No. Observations:</th>      <td>  1000</td>      <th>  AIC:               </th>          <td>   2814.</td>\n",
       "</tr>\n",
       "<tr>\n",
       "  <th>Df Residuals:</th>          <td>   998</td>      <th>  BIC:               </th>          <td>   2824.</td>\n",
       "</tr>\n",
       "<tr>\n",
       "  <th>Df Model:</th>              <td>     2</td>      <th>                     </th>              <td> </td>   \n",
       "</tr>\n",
       "<tr>\n",
       "  <th>Covariance Type:</th>      <td>nonrobust</td>    <th>                     </th>              <td> </td>   \n",
       "</tr>\n",
       "</table>\n",
       "<table class=\"simpletable\">\n",
       "<tr>\n",
       "   <td></td>     <th>coef</th>     <th>std err</th>      <th>t</th>      <th>P>|t|</th>  <th>[0.025</th>    <th>0.975]</th>  \n",
       "</tr>\n",
       "<tr>\n",
       "  <th>x1</th> <td>    0.1438</td> <td>    0.025</td> <td>    5.821</td> <td> 0.000</td> <td>    0.095</td> <td>    0.192</td>\n",
       "</tr>\n",
       "<tr>\n",
       "  <th>x2</th> <td>    4.9765</td> <td>    0.059</td> <td>   84.452</td> <td> 0.000</td> <td>    4.861</td> <td>    5.092</td>\n",
       "</tr>\n",
       "</table>\n",
       "<table class=\"simpletable\">\n",
       "<tr>\n",
       "  <th>Omnibus:</th>       <td> 5.344</td> <th>  Durbin-Watson:     </th> <td>   1.946</td>\n",
       "</tr>\n",
       "<tr>\n",
       "  <th>Prob(Omnibus):</th> <td> 0.069</td> <th>  Jarque-Bera (JB):  </th> <td>   5.362</td>\n",
       "</tr>\n",
       "<tr>\n",
       "  <th>Skew:</th>          <td> 0.160</td> <th>  Prob(JB):          </th> <td>  0.0685</td>\n",
       "</tr>\n",
       "<tr>\n",
       "  <th>Kurtosis:</th>      <td> 2.839</td> <th>  Cond. No.          </th> <td>    2.39</td>\n",
       "</tr>\n",
       "</table><br/><br/>Notes:<br/>[1] R² is computed without centering (uncentered) since the model does not contain a constant.<br/>[2] Standard Errors assume that the covariance matrix of the errors is correctly specified."
      ],
      "text/plain": [
       "<class 'statsmodels.iolib.summary.Summary'>\n",
       "\"\"\"\n",
       "                                 OLS Regression Results                                \n",
       "=======================================================================================\n",
       "Dep. Variable:                      y   R-squared (uncentered):                   0.878\n",
       "Model:                            OLS   Adj. R-squared (uncentered):              0.878\n",
       "Method:                 Least Squares   F-statistic:                              3605.\n",
       "Date:                Wed, 19 Oct 2022   Prob (F-statistic):                        0.00\n",
       "Time:                        15:31:50   Log-Likelihood:                         -1405.0\n",
       "No. Observations:                1000   AIC:                                      2814.\n",
       "Df Residuals:                     998   BIC:                                      2824.\n",
       "Df Model:                           2                                                  \n",
       "Covariance Type:            nonrobust                                                  \n",
       "==============================================================================\n",
       "                 coef    std err          t      P>|t|      [0.025      0.975]\n",
       "------------------------------------------------------------------------------\n",
       "x1             0.1438      0.025      5.821      0.000       0.095       0.192\n",
       "x2             4.9765      0.059     84.452      0.000       4.861       5.092\n",
       "==============================================================================\n",
       "Omnibus:                        5.344   Durbin-Watson:                   1.946\n",
       "Prob(Omnibus):                  0.069   Jarque-Bera (JB):                5.362\n",
       "Skew:                           0.160   Prob(JB):                       0.0685\n",
       "Kurtosis:                       2.839   Cond. No.                         2.39\n",
       "==============================================================================\n",
       "\n",
       "Notes:\n",
       "[1] R² is computed without centering (uncentered) since the model does not contain a constant.\n",
       "[2] Standard Errors assume that the covariance matrix of the errors is correctly specified.\n",
       "\"\"\""
      ]
     },
     "execution_count": 10,
     "metadata": {},
     "output_type": "execute_result"
    }
   ],
   "source": [
    "model = OLS(np.asarray(df[outcome]), np.asarray(df[[common_cause, treatment]], dtype=np.float64))\n",
    "result = model.fit()\n",
    "result.summary()"
   ]
  }
 ],
 "metadata": {
  "kernelspec": {
   "display_name": "Python 3",
   "language": "python",
   "name": "python3"
  },
  "language_info": {
   "codemirror_mode": {
    "name": "ipython",
    "version": 3
   },
   "file_extension": ".py",
   "mimetype": "text/x-python",
   "name": "python",
   "nbconvert_exporter": "python",
   "pygments_lexer": "ipython3",
   "version": "3.8.10"
  },
  "toc": {
   "base_numbering": 1,
   "nav_menu": {},
   "number_sections": false,
   "sideBar": true,
   "skip_h1_title": true,
   "title_cell": "Table of Contents",
   "title_sidebar": "Contents",
   "toc_cell": false,
   "toc_position": {},
   "toc_section_display": true,
   "toc_window_display": false
  }
 },
 "nbformat": 4,
 "nbformat_minor": 4
}
