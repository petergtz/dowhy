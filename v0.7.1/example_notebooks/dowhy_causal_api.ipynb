{
 "cells": [
  {
   "cell_type": "markdown",
   "metadata": {},
   "source": [
    "# Demo for the DoWhy causal API\n",
    "We show a simple example of adding a causal extension to any dataframe. "
   ]
  },
  {
   "cell_type": "code",
   "execution_count": 1,
   "metadata": {
    "execution": {
     "iopub.execute_input": "2022-07-21T08:43:40.396421Z",
     "iopub.status.busy": "2022-07-21T08:43:40.396143Z",
     "iopub.status.idle": "2022-07-21T08:43:41.614896Z",
     "shell.execute_reply": "2022-07-21T08:43:41.613919Z"
    }
   },
   "outputs": [
    {
     "name": "stdout",
     "output_type": "stream",
     "text": [
      "keywords are unexpanded, not using\n"
     ]
    }
   ],
   "source": [
    "import dowhy.datasets\n",
    "import dowhy.api\n",
    "\n",
    "import numpy as np\n",
    "import pandas as pd\n",
    "\n",
    "from statsmodels.api import OLS"
   ]
  },
  {
   "cell_type": "code",
   "execution_count": 2,
   "metadata": {
    "execution": {
     "iopub.execute_input": "2022-07-21T08:43:41.619118Z",
     "iopub.status.busy": "2022-07-21T08:43:41.618612Z",
     "iopub.status.idle": "2022-07-21T08:43:41.668902Z",
     "shell.execute_reply": "2022-07-21T08:43:41.668227Z"
    }
   },
   "outputs": [
    {
     "data": {
      "text/html": [
       "<div>\n",
       "<style scoped>\n",
       "    .dataframe tbody tr th:only-of-type {\n",
       "        vertical-align: middle;\n",
       "    }\n",
       "\n",
       "    .dataframe tbody tr th {\n",
       "        vertical-align: top;\n",
       "    }\n",
       "\n",
       "    .dataframe thead th {\n",
       "        text-align: right;\n",
       "    }\n",
       "</style>\n",
       "<table border=\"1\" class=\"dataframe\">\n",
       "  <thead>\n",
       "    <tr style=\"text-align: right;\">\n",
       "      <th></th>\n",
       "      <th>W0</th>\n",
       "      <th>v0</th>\n",
       "      <th>y</th>\n",
       "    </tr>\n",
       "  </thead>\n",
       "  <tbody>\n",
       "    <tr>\n",
       "      <th>0</th>\n",
       "      <td>0.415459</td>\n",
       "      <td>True</td>\n",
       "      <td>5.799093</td>\n",
       "    </tr>\n",
       "    <tr>\n",
       "      <th>1</th>\n",
       "      <td>0.334721</td>\n",
       "      <td>True</td>\n",
       "      <td>4.738879</td>\n",
       "    </tr>\n",
       "    <tr>\n",
       "      <th>2</th>\n",
       "      <td>-0.289360</td>\n",
       "      <td>False</td>\n",
       "      <td>0.107189</td>\n",
       "    </tr>\n",
       "    <tr>\n",
       "      <th>3</th>\n",
       "      <td>-1.550413</td>\n",
       "      <td>False</td>\n",
       "      <td>-3.514540</td>\n",
       "    </tr>\n",
       "    <tr>\n",
       "      <th>4</th>\n",
       "      <td>0.818152</td>\n",
       "      <td>True</td>\n",
       "      <td>6.810155</td>\n",
       "    </tr>\n",
       "    <tr>\n",
       "      <th>...</th>\n",
       "      <td>...</td>\n",
       "      <td>...</td>\n",
       "      <td>...</td>\n",
       "    </tr>\n",
       "    <tr>\n",
       "      <th>995</th>\n",
       "      <td>0.869129</td>\n",
       "      <td>True</td>\n",
       "      <td>7.909926</td>\n",
       "    </tr>\n",
       "    <tr>\n",
       "      <th>996</th>\n",
       "      <td>0.226481</td>\n",
       "      <td>True</td>\n",
       "      <td>4.976793</td>\n",
       "    </tr>\n",
       "    <tr>\n",
       "      <th>997</th>\n",
       "      <td>1.792011</td>\n",
       "      <td>True</td>\n",
       "      <td>9.459240</td>\n",
       "    </tr>\n",
       "    <tr>\n",
       "      <th>998</th>\n",
       "      <td>0.565547</td>\n",
       "      <td>True</td>\n",
       "      <td>7.719504</td>\n",
       "    </tr>\n",
       "    <tr>\n",
       "      <th>999</th>\n",
       "      <td>-0.166604</td>\n",
       "      <td>True</td>\n",
       "      <td>6.241408</td>\n",
       "    </tr>\n",
       "  </tbody>\n",
       "</table>\n",
       "<p>1000 rows × 3 columns</p>\n",
       "</div>"
      ],
      "text/plain": [
       "           W0     v0         y\n",
       "0    0.415459   True  5.799093\n",
       "1    0.334721   True  4.738879\n",
       "2   -0.289360  False  0.107189\n",
       "3   -1.550413  False -3.514540\n",
       "4    0.818152   True  6.810155\n",
       "..        ...    ...       ...\n",
       "995  0.869129   True  7.909926\n",
       "996  0.226481   True  4.976793\n",
       "997  1.792011   True  9.459240\n",
       "998  0.565547   True  7.719504\n",
       "999 -0.166604   True  6.241408\n",
       "\n",
       "[1000 rows x 3 columns]"
      ]
     },
     "execution_count": 2,
     "metadata": {},
     "output_type": "execute_result"
    }
   ],
   "source": [
    "data = dowhy.datasets.linear_dataset(beta=5,\n",
    "        num_common_causes=1,\n",
    "        num_instruments = 0,\n",
    "        num_samples=1000,\n",
    "        treatment_is_binary=True)\n",
    "df = data['df']\n",
    "df['y'] = df['y'] + np.random.normal(size=len(df)) # Adding noise to data. Without noise, the variance in Y|X, Z is zero, and mcmc fails.\n",
    "#data['dot_graph'] = 'digraph { v ->y;X0-> v;X0-> y;}'\n",
    "\n",
    "treatment= data[\"treatment_name\"][0]\n",
    "outcome = data[\"outcome_name\"][0]\n",
    "common_cause = data[\"common_causes_names\"][0]\n",
    "df"
   ]
  },
  {
   "cell_type": "code",
   "execution_count": 3,
   "metadata": {
    "execution": {
     "iopub.execute_input": "2022-07-21T08:43:41.672108Z",
     "iopub.status.busy": "2022-07-21T08:43:41.671706Z",
     "iopub.status.idle": "2022-07-21T08:43:42.481339Z",
     "shell.execute_reply": "2022-07-21T08:43:42.480712Z"
    }
   },
   "outputs": [
    {
     "data": {
      "text/plain": [
       "<AxesSubplot:xlabel='v0'>"
      ]
     },
     "execution_count": 3,
     "metadata": {},
     "output_type": "execute_result"
    },
    {
     "data": {
      "image/png": "[encoded data removed]",
      "text/plain": [
       "<Figure size 432x288 with 1 Axes>"
      ]
     },
     "metadata": {
      "needs_background": "light"
     },
     "output_type": "display_data"
    }
   ],
   "source": [
    "# data['df'] is just a regular pandas.DataFrame\n",
    "df.causal.do(x=treatment,\n",
    "                     variable_types={treatment: 'b', outcome: 'c', common_cause: 'c'},\n",
    "                     outcome=outcome,\n",
    "                     common_causes=[common_cause],\n",
    "                     proceed_when_unidentifiable=True).groupby(treatment).mean().plot(y=outcome, kind='bar')"
   ]
  },
  {
   "cell_type": "code",
   "execution_count": 4,
   "metadata": {
    "execution": {
     "iopub.execute_input": "2022-07-21T08:43:42.486258Z",
     "iopub.status.busy": "2022-07-21T08:43:42.484989Z",
     "iopub.status.idle": "2022-07-21T08:43:42.587022Z",
     "shell.execute_reply": "2022-07-21T08:43:42.586439Z"
    }
   },
   "outputs": [
    {
     "data": {
      "text/plain": [
       "<AxesSubplot:xlabel='v0'>"
      ]
     },
     "execution_count": 4,
     "metadata": {},
     "output_type": "execute_result"
    },
    {
     "data": {
      "image/png": "[encoded data removed]",
      "text/plain": [
       "<Figure size 432x288 with 1 Axes>"
      ]
     },
     "metadata": {
      "needs_background": "light"
     },
     "output_type": "display_data"
    }
   ],
   "source": [
    "df.causal.do(x={treatment: 1}, \n",
    "              variable_types={treatment:'b', outcome: 'c', common_cause: 'c'}, \n",
    "              outcome=outcome,\n",
    "              method='weighting', \n",
    "              common_causes=[common_cause],\n",
    "              proceed_when_unidentifiable=True).groupby(treatment).mean().plot(y=outcome, kind='bar')"
   ]
  },
  {
   "cell_type": "code",
   "execution_count": 5,
   "metadata": {
    "execution": {
     "iopub.execute_input": "2022-07-21T08:43:42.591305Z",
     "iopub.status.busy": "2022-07-21T08:43:42.590202Z",
     "iopub.status.idle": "2022-07-21T08:43:42.622823Z",
     "shell.execute_reply": "2022-07-21T08:43:42.622240Z"
    }
   },
   "outputs": [],
   "source": [
    "cdf_1 = df.causal.do(x={treatment: 1}, \n",
    "              variable_types={treatment: 'b', outcome: 'c', common_cause: 'c'}, \n",
    "              outcome=outcome, \n",
    "              dot_graph=data['dot_graph'],\n",
    "              proceed_when_unidentifiable=True)\n",
    "\n",
    "cdf_0 = df.causal.do(x={treatment: 0}, \n",
    "              variable_types={treatment: 'b', outcome: 'c', common_cause: 'c'}, \n",
    "              outcome=outcome, \n",
    "              dot_graph=data['dot_graph'],\n",
    "              proceed_when_unidentifiable=True)\n"
   ]
  },
  {
   "cell_type": "code",
   "execution_count": 6,
   "metadata": {
    "execution": {
     "iopub.execute_input": "2022-07-21T08:43:42.627208Z",
     "iopub.status.busy": "2022-07-21T08:43:42.626125Z",
     "iopub.status.idle": "2022-07-21T08:43:42.638711Z",
     "shell.execute_reply": "2022-07-21T08:43:42.638182Z"
    },
    "scrolled": true
   },
   "outputs": [
    {
     "data": {
      "text/html": [
       "<div>\n",
       "<style scoped>\n",
       "    .dataframe tbody tr th:only-of-type {\n",
       "        vertical-align: middle;\n",
       "    }\n",
       "\n",
       "    .dataframe tbody tr th {\n",
       "        vertical-align: top;\n",
       "    }\n",
       "\n",
       "    .dataframe thead th {\n",
       "        text-align: right;\n",
       "    }\n",
       "</style>\n",
       "<table border=\"1\" class=\"dataframe\">\n",
       "  <thead>\n",
       "    <tr style=\"text-align: right;\">\n",
       "      <th></th>\n",
       "      <th>W0</th>\n",
       "      <th>v0</th>\n",
       "      <th>y</th>\n",
       "      <th>propensity_score</th>\n",
       "      <th>weight</th>\n",
       "    </tr>\n",
       "  </thead>\n",
       "  <tbody>\n",
       "    <tr>\n",
       "      <th>0</th>\n",
       "      <td>-0.738449</td>\n",
       "      <td>False</td>\n",
       "      <td>-1.293852</td>\n",
       "      <td>0.594805</td>\n",
       "      <td>1.681224</td>\n",
       "    </tr>\n",
       "    <tr>\n",
       "      <th>1</th>\n",
       "      <td>1.064900</td>\n",
       "      <td>False</td>\n",
       "      <td>1.429020</td>\n",
       "      <td>0.351070</td>\n",
       "      <td>2.848432</td>\n",
       "    </tr>\n",
       "    <tr>\n",
       "      <th>2</th>\n",
       "      <td>1.193779</td>\n",
       "      <td>False</td>\n",
       "      <td>1.581592</td>\n",
       "      <td>0.334996</td>\n",
       "      <td>2.985113</td>\n",
       "    </tr>\n",
       "    <tr>\n",
       "      <th>3</th>\n",
       "      <td>-0.700085</td>\n",
       "      <td>False</td>\n",
       "      <td>-0.364117</td>\n",
       "      <td>0.589677</td>\n",
       "      <td>1.695844</td>\n",
       "    </tr>\n",
       "    <tr>\n",
       "      <th>4</th>\n",
       "      <td>1.501834</td>\n",
       "      <td>False</td>\n",
       "      <td>3.127222</td>\n",
       "      <td>0.298135</td>\n",
       "      <td>3.354181</td>\n",
       "    </tr>\n",
       "    <tr>\n",
       "      <th>...</th>\n",
       "      <td>...</td>\n",
       "      <td>...</td>\n",
       "      <td>...</td>\n",
       "      <td>...</td>\n",
       "      <td>...</td>\n",
       "    </tr>\n",
       "    <tr>\n",
       "      <th>995</th>\n",
       "      <td>0.645108</td>\n",
       "      <td>False</td>\n",
       "      <td>2.251881</td>\n",
       "      <td>0.405651</td>\n",
       "      <td>2.465171</td>\n",
       "    </tr>\n",
       "    <tr>\n",
       "      <th>996</th>\n",
       "      <td>0.066876</td>\n",
       "      <td>False</td>\n",
       "      <td>1.359433</td>\n",
       "      <td>0.484529</td>\n",
       "      <td>2.063861</td>\n",
       "    </tr>\n",
       "    <tr>\n",
       "      <th>997</th>\n",
       "      <td>0.540318</td>\n",
       "      <td>False</td>\n",
       "      <td>2.166699</td>\n",
       "      <td>0.419709</td>\n",
       "      <td>2.382602</td>\n",
       "    </tr>\n",
       "    <tr>\n",
       "      <th>998</th>\n",
       "      <td>-1.224705</td>\n",
       "      <td>False</td>\n",
       "      <td>-1.431520</td>\n",
       "      <td>0.657691</td>\n",
       "      <td>1.520471</td>\n",
       "    </tr>\n",
       "    <tr>\n",
       "      <th>999</th>\n",
       "      <td>0.936258</td>\n",
       "      <td>False</td>\n",
       "      <td>1.855930</td>\n",
       "      <td>0.367460</td>\n",
       "      <td>2.721388</td>\n",
       "    </tr>\n",
       "  </tbody>\n",
       "</table>\n",
       "<p>1000 rows × 5 columns</p>\n",
       "</div>"
      ],
      "text/plain": [
       "           W0     v0         y  propensity_score    weight\n",
       "0   -0.738449  False -1.293852          0.594805  1.681224\n",
       "1    1.064900  False  1.429020          0.351070  2.848432\n",
       "2    1.193779  False  1.581592          0.334996  2.985113\n",
       "3   -0.700085  False -0.364117          0.589677  1.695844\n",
       "4    1.501834  False  3.127222          0.298135  3.354181\n",
       "..        ...    ...       ...               ...       ...\n",
       "995  0.645108  False  2.251881          0.405651  2.465171\n",
       "996  0.066876  False  1.359433          0.484529  2.063861\n",
       "997  0.540318  False  2.166699          0.419709  2.382602\n",
       "998 -1.224705  False -1.431520          0.657691  1.520471\n",
       "999  0.936258  False  1.855930          0.367460  2.721388\n",
       "\n",
       "[1000 rows x 5 columns]"
      ]
     },
     "execution_count": 6,
     "metadata": {},
     "output_type": "execute_result"
    }
   ],
   "source": [
    "cdf_0"
   ]
  },
  {
   "cell_type": "code",
   "execution_count": 7,
   "metadata": {
    "execution": {
     "iopub.execute_input": "2022-07-21T08:43:42.642894Z",
     "iopub.status.busy": "2022-07-21T08:43:42.641820Z",
     "iopub.status.idle": "2022-07-21T08:43:42.654057Z",
     "shell.execute_reply": "2022-07-21T08:43:42.653452Z"
    }
   },
   "outputs": [
    {
     "data": {
      "text/html": [
       "<div>\n",
       "<style scoped>\n",
       "    .dataframe tbody tr th:only-of-type {\n",
       "        vertical-align: middle;\n",
       "    }\n",
       "\n",
       "    .dataframe tbody tr th {\n",
       "        vertical-align: top;\n",
       "    }\n",
       "\n",
       "    .dataframe thead th {\n",
       "        text-align: right;\n",
       "    }\n",
       "</style>\n",
       "<table border=\"1\" class=\"dataframe\">\n",
       "  <thead>\n",
       "    <tr style=\"text-align: right;\">\n",
       "      <th></th>\n",
       "      <th>W0</th>\n",
       "      <th>v0</th>\n",
       "      <th>y</th>\n",
       "      <th>propensity_score</th>\n",
       "      <th>weight</th>\n",
       "    </tr>\n",
       "  </thead>\n",
       "  <tbody>\n",
       "    <tr>\n",
       "      <th>0</th>\n",
       "      <td>-0.861748</td>\n",
       "      <td>True</td>\n",
       "      <td>4.624594</td>\n",
       "      <td>0.388858</td>\n",
       "      <td>2.571631</td>\n",
       "    </tr>\n",
       "    <tr>\n",
       "      <th>1</th>\n",
       "      <td>-0.333312</td>\n",
       "      <td>True</td>\n",
       "      <td>3.819947</td>\n",
       "      <td>0.460182</td>\n",
       "      <td>2.173054</td>\n",
       "    </tr>\n",
       "    <tr>\n",
       "      <th>2</th>\n",
       "      <td>0.562837</td>\n",
       "      <td>True</td>\n",
       "      <td>6.298315</td>\n",
       "      <td>0.583324</td>\n",
       "      <td>1.714314</td>\n",
       "    </tr>\n",
       "    <tr>\n",
       "      <th>3</th>\n",
       "      <td>-0.459990</td>\n",
       "      <td>True</td>\n",
       "      <td>3.839200</td>\n",
       "      <td>0.442819</td>\n",
       "      <td>2.258261</td>\n",
       "    </tr>\n",
       "    <tr>\n",
       "      <th>4</th>\n",
       "      <td>-2.782892</td>\n",
       "      <td>True</td>\n",
       "      <td>-0.729358</td>\n",
       "      <td>0.180122</td>\n",
       "      <td>5.551786</td>\n",
       "    </tr>\n",
       "    <tr>\n",
       "      <th>...</th>\n",
       "      <td>...</td>\n",
       "      <td>...</td>\n",
       "      <td>...</td>\n",
       "      <td>...</td>\n",
       "      <td>...</td>\n",
       "    </tr>\n",
       "    <tr>\n",
       "      <th>995</th>\n",
       "      <td>-1.085406</td>\n",
       "      <td>True</td>\n",
       "      <td>2.097157</td>\n",
       "      <td>0.359873</td>\n",
       "      <td>2.778757</td>\n",
       "    </tr>\n",
       "    <tr>\n",
       "      <th>996</th>\n",
       "      <td>-0.290056</td>\n",
       "      <td>True</td>\n",
       "      <td>3.834698</td>\n",
       "      <td>0.466135</td>\n",
       "      <td>2.145301</td>\n",
       "    </tr>\n",
       "    <tr>\n",
       "      <th>997</th>\n",
       "      <td>0.235651</td>\n",
       "      <td>True</td>\n",
       "      <td>3.214793</td>\n",
       "      <td>0.538754</td>\n",
       "      <td>1.856136</td>\n",
       "    </tr>\n",
       "    <tr>\n",
       "      <th>998</th>\n",
       "      <td>-1.274561</td>\n",
       "      <td>True</td>\n",
       "      <td>2.190116</td>\n",
       "      <td>0.336124</td>\n",
       "      <td>2.975097</td>\n",
       "    </tr>\n",
       "    <tr>\n",
       "      <th>999</th>\n",
       "      <td>0.087753</td>\n",
       "      <td>True</td>\n",
       "      <td>5.360659</td>\n",
       "      <td>0.518357</td>\n",
       "      <td>1.929173</td>\n",
       "    </tr>\n",
       "  </tbody>\n",
       "</table>\n",
       "<p>1000 rows × 5 columns</p>\n",
       "</div>"
      ],
      "text/plain": [
       "           W0    v0         y  propensity_score    weight\n",
       "0   -0.861748  True  4.624594          0.388858  2.571631\n",
       "1   -0.333312  True  3.819947          0.460182  2.173054\n",
       "2    0.562837  True  6.298315          0.583324  1.714314\n",
       "3   -0.459990  True  3.839200          0.442819  2.258261\n",
       "4   -2.782892  True -0.729358          0.180122  5.551786\n",
       "..        ...   ...       ...               ...       ...\n",
       "995 -1.085406  True  2.097157          0.359873  2.778757\n",
       "996 -0.290056  True  3.834698          0.466135  2.145301\n",
       "997  0.235651  True  3.214793          0.538754  1.856136\n",
       "998 -1.274561  True  2.190116          0.336124  2.975097\n",
       "999  0.087753  True  5.360659          0.518357  1.929173\n",
       "\n",
       "[1000 rows x 5 columns]"
      ]
     },
     "execution_count": 7,
     "metadata": {},
     "output_type": "execute_result"
    }
   ],
   "source": [
    "cdf_1"
   ]
  },
  {
   "cell_type": "markdown",
   "metadata": {},
   "source": [
    "## Comparing the estimate to Linear Regression\n",
    "First, estimating the effect using the causal data frame, and the 95% confidence interval."
   ]
  },
  {
   "cell_type": "code",
   "execution_count": 8,
   "metadata": {
    "execution": {
     "iopub.execute_input": "2022-07-21T08:43:42.657005Z",
     "iopub.status.busy": "2022-07-21T08:43:42.656773Z",
     "iopub.status.idle": "2022-07-21T08:43:42.759807Z",
     "shell.execute_reply": "2022-07-21T08:43:42.759110Z"
    }
   },
   "outputs": [
    {
     "data": {
      "image/png": "[encoded data removed]",
      "text/latex": [
       "$\\displaystyle 5.10692739270556$"
      ],
      "text/plain": [
       "5.106927392705557"
      ]
     },
     "execution_count": 8,
     "metadata": {},
     "output_type": "execute_result"
    }
   ],
   "source": [
    "(cdf_1['y'] - cdf_0['y']).mean()"
   ]
  },
  {
   "cell_type": "code",
   "execution_count": 9,
   "metadata": {
    "execution": {
     "iopub.execute_input": "2022-07-21T08:43:42.763347Z",
     "iopub.status.busy": "2022-07-21T08:43:42.762960Z",
     "iopub.status.idle": "2022-07-21T08:43:42.788780Z",
     "shell.execute_reply": "2022-07-21T08:43:42.788041Z"
    }
   },
   "outputs": [
    {
     "data": {
      "image/png": "[encoded data removed]",
      "text/latex": [
       "$\\displaystyle 0.176197782697061$"
      ],
      "text/plain": [
       "0.1761977826970607"
      ]
     },
     "execution_count": 9,
     "metadata": {},
     "output_type": "execute_result"
    }
   ],
   "source": [
    "1.96*(cdf_1['y'] - cdf_0['y']).std() / np.sqrt(len(df))"
   ]
  },
  {
   "cell_type": "markdown",
   "metadata": {},
   "source": [
    "Comparing to the estimate from OLS."
   ]
  },
  {
   "cell_type": "code",
   "execution_count": 10,
   "metadata": {
    "execution": {
     "iopub.execute_input": "2022-07-21T08:43:42.792107Z",
     "iopub.status.busy": "2022-07-21T08:43:42.791764Z",
     "iopub.status.idle": "2022-07-21T08:43:42.808711Z",
     "shell.execute_reply": "2022-07-21T08:43:42.807975Z"
    }
   },
   "outputs": [
    {
     "data": {
      "text/html": [
       "<table class=\"simpletable\">\n",
       "<caption>OLS Regression Results</caption>\n",
       "<tr>\n",
       "  <th>Dep. Variable:</th>            <td>y</td>        <th>  R-squared (uncentered):</th>      <td>   0.935</td>\n",
       "</tr>\n",
       "<tr>\n",
       "  <th>Model:</th>                   <td>OLS</td>       <th>  Adj. R-squared (uncentered):</th> <td>   0.935</td>\n",
       "</tr>\n",
       "<tr>\n",
       "  <th>Method:</th>             <td>Least Squares</td>  <th>  F-statistic:       </th>          <td>   7173.</td>\n",
       "</tr>\n",
       "<tr>\n",
       "  <th>Date:</th>             <td>Thu, 21 Jul 2022</td> <th>  Prob (F-statistic):</th>           <td>  0.00</td> \n",
       "</tr>\n",
       "<tr>\n",
       "  <th>Time:</th>                 <td>08:43:42</td>     <th>  Log-Likelihood:    </th>          <td> -1394.5</td>\n",
       "</tr>\n",
       "<tr>\n",
       "  <th>No. Observations:</th>      <td>  1000</td>      <th>  AIC:               </th>          <td>   2793.</td>\n",
       "</tr>\n",
       "<tr>\n",
       "  <th>Df Residuals:</th>          <td>   998</td>      <th>  BIC:               </th>          <td>   2803.</td>\n",
       "</tr>\n",
       "<tr>\n",
       "  <th>Df Model:</th>              <td>     2</td>      <th>                     </th>              <td> </td>   \n",
       "</tr>\n",
       "<tr>\n",
       "  <th>Covariance Type:</th>      <td>nonrobust</td>    <th>                     </th>              <td> </td>   \n",
       "</tr>\n",
       "</table>\n",
       "<table class=\"simpletable\">\n",
       "<tr>\n",
       "   <td></td>     <th>coef</th>     <th>std err</th>      <th>t</th>      <th>P>|t|</th>  <th>[0.025</th>    <th>0.975]</th>  \n",
       "</tr>\n",
       "<tr>\n",
       "  <th>x1</th> <td>    1.7913</td> <td>    0.028</td> <td>   63.567</td> <td> 0.000</td> <td>    1.736</td> <td>    1.847</td>\n",
       "</tr>\n",
       "<tr>\n",
       "  <th>x2</th> <td>    5.0130</td> <td>    0.047</td> <td>  107.755</td> <td> 0.000</td> <td>    4.922</td> <td>    5.104</td>\n",
       "</tr>\n",
       "</table>\n",
       "<table class=\"simpletable\">\n",
       "<tr>\n",
       "  <th>Omnibus:</th>       <td> 0.639</td> <th>  Durbin-Watson:     </th> <td>   2.022</td>\n",
       "</tr>\n",
       "<tr>\n",
       "  <th>Prob(Omnibus):</th> <td> 0.726</td> <th>  Jarque-Bera (JB):  </th> <td>   0.680</td>\n",
       "</tr>\n",
       "<tr>\n",
       "  <th>Skew:</th>          <td>-0.060</td> <th>  Prob(JB):          </th> <td>   0.712</td>\n",
       "</tr>\n",
       "<tr>\n",
       "  <th>Kurtosis:</th>      <td> 2.956</td> <th>  Cond. No.          </th> <td>    1.67</td>\n",
       "</tr>\n",
       "</table><br/><br/>Notes:<br/>[1] R² is computed without centering (uncentered) since the model does not contain a constant.<br/>[2] Standard Errors assume that the covariance matrix of the errors is correctly specified."
      ],
      "text/plain": [
       "<class 'statsmodels.iolib.summary.Summary'>\n",
       "\"\"\"\n",
       "                                 OLS Regression Results                                \n",
       "=======================================================================================\n",
       "Dep. Variable:                      y   R-squared (uncentered):                   0.935\n",
       "Model:                            OLS   Adj. R-squared (uncentered):              0.935\n",
       "Method:                 Least Squares   F-statistic:                              7173.\n",
       "Date:                Thu, 21 Jul 2022   Prob (F-statistic):                        0.00\n",
       "Time:                        08:43:42   Log-Likelihood:                         -1394.5\n",
       "No. Observations:                1000   AIC:                                      2793.\n",
       "Df Residuals:                     998   BIC:                                      2803.\n",
       "Df Model:                           2                                                  \n",
       "Covariance Type:            nonrobust                                                  \n",
       "==============================================================================\n",
       "                 coef    std err          t      P>|t|      [0.025      0.975]\n",
       "------------------------------------------------------------------------------\n",
       "x1             1.7913      0.028     63.567      0.000       1.736       1.847\n",
       "x2             5.0130      0.047    107.755      0.000       4.922       5.104\n",
       "==============================================================================\n",
       "Omnibus:                        0.639   Durbin-Watson:                   2.022\n",
       "Prob(Omnibus):                  0.726   Jarque-Bera (JB):                0.680\n",
       "Skew:                          -0.060   Prob(JB):                        0.712\n",
       "Kurtosis:                       2.956   Cond. No.                         1.67\n",
       "==============================================================================\n",
       "\n",
       "Notes:\n",
       "[1] R² is computed without centering (uncentered) since the model does not contain a constant.\n",
       "[2] Standard Errors assume that the covariance matrix of the errors is correctly specified.\n",
       "\"\"\""
      ]
     },
     "execution_count": 10,
     "metadata": {},
     "output_type": "execute_result"
    }
   ],
   "source": [
    "model = OLS(np.asarray(df[outcome]), np.asarray(df[[common_cause, treatment]], dtype=np.float64))\n",
    "result = model.fit()\n",
    "result.summary()"
   ]
  }
 ],
 "metadata": {
  "kernelspec": {
   "display_name": "Python 3",
   "language": "python",
   "name": "python3"
  },
  "language_info": {
   "codemirror_mode": {
    "name": "ipython",
    "version": 3
   },
   "file_extension": ".py",
   "mimetype": "text/x-python",
   "name": "python",
   "nbconvert_exporter": "python",
   "pygments_lexer": "ipython3",
   "version": "3.8.10"
  },
  "toc": {
   "base_numbering": 1,
   "nav_menu": {},
   "number_sections": false,
   "sideBar": true,
   "skip_h1_title": true,
   "title_cell": "Table of Contents",
   "title_sidebar": "Contents",
   "toc_cell": false,
   "toc_position": {},
   "toc_section_display": true,
   "toc_window_display": false
  }
 },
 "nbformat": 4,
 "nbformat_minor": 4
}
