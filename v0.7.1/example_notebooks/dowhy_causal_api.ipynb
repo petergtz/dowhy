{
 "cells": [
  {
   "cell_type": "markdown",
   "metadata": {},
   "source": [
    "# Demo for the DoWhy causal API\n",
    "We show a simple example of adding a causal extension to any dataframe. "
   ]
  },
  {
   "cell_type": "code",
   "execution_count": 1,
   "metadata": {
    "execution": {
     "iopub.execute_input": "2022-09-05T18:24:21.479279Z",
     "iopub.status.busy": "2022-09-05T18:24:21.478742Z",
     "iopub.status.idle": "2022-09-05T18:24:22.907378Z",
     "shell.execute_reply": "2022-09-05T18:24:22.906312Z"
    }
   },
   "outputs": [],
   "source": [
    "import dowhy.datasets\n",
    "import dowhy.api\n",
    "\n",
    "import numpy as np\n",
    "import pandas as pd\n",
    "\n",
    "from statsmodels.api import OLS"
   ]
  },
  {
   "cell_type": "code",
   "execution_count": 2,
   "metadata": {
    "execution": {
     "iopub.execute_input": "2022-09-05T18:24:22.912525Z",
     "iopub.status.busy": "2022-09-05T18:24:22.911748Z",
     "iopub.status.idle": "2022-09-05T18:24:22.968194Z",
     "shell.execute_reply": "2022-09-05T18:24:22.967202Z"
    }
   },
   "outputs": [
    {
     "data": {
      "text/html": [
       "<div>\n",
       "<style scoped>\n",
       "    .dataframe tbody tr th:only-of-type {\n",
       "        vertical-align: middle;\n",
       "    }\n",
       "\n",
       "    .dataframe tbody tr th {\n",
       "        vertical-align: top;\n",
       "    }\n",
       "\n",
       "    .dataframe thead th {\n",
       "        text-align: right;\n",
       "    }\n",
       "</style>\n",
       "<table border=\"1\" class=\"dataframe\">\n",
       "  <thead>\n",
       "    <tr style=\"text-align: right;\">\n",
       "      <th></th>\n",
       "      <th>W0</th>\n",
       "      <th>v0</th>\n",
       "      <th>y</th>\n",
       "    </tr>\n",
       "  </thead>\n",
       "  <tbody>\n",
       "    <tr>\n",
       "      <th>0</th>\n",
       "      <td>0.250941</td>\n",
       "      <td>False</td>\n",
       "      <td>-0.656855</td>\n",
       "    </tr>\n",
       "    <tr>\n",
       "      <th>1</th>\n",
       "      <td>0.011862</td>\n",
       "      <td>True</td>\n",
       "      <td>5.154573</td>\n",
       "    </tr>\n",
       "    <tr>\n",
       "      <th>2</th>\n",
       "      <td>-1.751551</td>\n",
       "      <td>False</td>\n",
       "      <td>-3.646515</td>\n",
       "    </tr>\n",
       "    <tr>\n",
       "      <th>3</th>\n",
       "      <td>-2.648773</td>\n",
       "      <td>False</td>\n",
       "      <td>-2.586609</td>\n",
       "    </tr>\n",
       "    <tr>\n",
       "      <th>4</th>\n",
       "      <td>-2.100894</td>\n",
       "      <td>False</td>\n",
       "      <td>-4.132647</td>\n",
       "    </tr>\n",
       "    <tr>\n",
       "      <th>...</th>\n",
       "      <td>...</td>\n",
       "      <td>...</td>\n",
       "      <td>...</td>\n",
       "    </tr>\n",
       "    <tr>\n",
       "      <th>995</th>\n",
       "      <td>-0.844582</td>\n",
       "      <td>False</td>\n",
       "      <td>-2.807769</td>\n",
       "    </tr>\n",
       "    <tr>\n",
       "      <th>996</th>\n",
       "      <td>-2.482145</td>\n",
       "      <td>False</td>\n",
       "      <td>-5.592985</td>\n",
       "    </tr>\n",
       "    <tr>\n",
       "      <th>997</th>\n",
       "      <td>-1.899882</td>\n",
       "      <td>False</td>\n",
       "      <td>-3.723633</td>\n",
       "    </tr>\n",
       "    <tr>\n",
       "      <th>998</th>\n",
       "      <td>-2.036182</td>\n",
       "      <td>False</td>\n",
       "      <td>-5.959826</td>\n",
       "    </tr>\n",
       "    <tr>\n",
       "      <th>999</th>\n",
       "      <td>0.272077</td>\n",
       "      <td>True</td>\n",
       "      <td>5.365552</td>\n",
       "    </tr>\n",
       "  </tbody>\n",
       "</table>\n",
       "<p>1000 rows × 3 columns</p>\n",
       "</div>"
      ],
      "text/plain": [
       "           W0     v0         y\n",
       "0    0.250941  False -0.656855\n",
       "1    0.011862   True  5.154573\n",
       "2   -1.751551  False -3.646515\n",
       "3   -2.648773  False -2.586609\n",
       "4   -2.100894  False -4.132647\n",
       "..        ...    ...       ...\n",
       "995 -0.844582  False -2.807769\n",
       "996 -2.482145  False -5.592985\n",
       "997 -1.899882  False -3.723633\n",
       "998 -2.036182  False -5.959826\n",
       "999  0.272077   True  5.365552\n",
       "\n",
       "[1000 rows x 3 columns]"
      ]
     },
     "execution_count": 2,
     "metadata": {},
     "output_type": "execute_result"
    }
   ],
   "source": [
    "data = dowhy.datasets.linear_dataset(beta=5,\n",
    "        num_common_causes=1,\n",
    "        num_instruments = 0,\n",
    "        num_samples=1000,\n",
    "        treatment_is_binary=True)\n",
    "df = data['df']\n",
    "df['y'] = df['y'] + np.random.normal(size=len(df)) # Adding noise to data. Without noise, the variance in Y|X, Z is zero, and mcmc fails.\n",
    "#data['dot_graph'] = 'digraph { v ->y;X0-> v;X0-> y;}'\n",
    "\n",
    "treatment= data[\"treatment_name\"][0]\n",
    "outcome = data[\"outcome_name\"][0]\n",
    "common_cause = data[\"common_causes_names\"][0]\n",
    "df"
   ]
  },
  {
   "cell_type": "code",
   "execution_count": 3,
   "metadata": {
    "execution": {
     "iopub.execute_input": "2022-09-05T18:24:22.972604Z",
     "iopub.status.busy": "2022-09-05T18:24:22.972018Z",
     "iopub.status.idle": "2022-09-05T18:24:23.964329Z",
     "shell.execute_reply": "2022-09-05T18:24:23.963640Z"
    }
   },
   "outputs": [
    {
     "data": {
      "text/plain": [
       "<AxesSubplot:xlabel='v0'>"
      ]
     },
     "execution_count": 3,
     "metadata": {},
     "output_type": "execute_result"
    },
    {
     "data": {
      "image/png": "[encoded data removed]",
      "text/plain": [
       "<Figure size 640x480 with 1 Axes>"
      ]
     },
     "metadata": {},
     "output_type": "display_data"
    }
   ],
   "source": [
    "# data['df'] is just a regular pandas.DataFrame\n",
    "df.causal.do(x=treatment,\n",
    "                     variable_types={treatment: 'b', outcome: 'c', common_cause: 'c'},\n",
    "                     outcome=outcome,\n",
    "                     common_causes=[common_cause],\n",
    "                     proceed_when_unidentifiable=True).groupby(treatment).mean().plot(y=outcome, kind='bar')"
   ]
  },
  {
   "cell_type": "code",
   "execution_count": 4,
   "metadata": {
    "execution": {
     "iopub.execute_input": "2022-09-05T18:24:23.967991Z",
     "iopub.status.busy": "2022-09-05T18:24:23.967295Z",
     "iopub.status.idle": "2022-09-05T18:24:24.118984Z",
     "shell.execute_reply": "2022-09-05T18:24:24.118235Z"
    }
   },
   "outputs": [
    {
     "data": {
      "text/plain": [
       "<AxesSubplot:xlabel='v0'>"
      ]
     },
     "execution_count": 4,
     "metadata": {},
     "output_type": "execute_result"
    },
    {
     "data": {
      "image/png": "[encoded data removed]",
      "text/plain": [
       "<Figure size 640x480 with 1 Axes>"
      ]
     },
     "metadata": {},
     "output_type": "display_data"
    }
   ],
   "source": [
    "df.causal.do(x={treatment: 1}, \n",
    "              variable_types={treatment:'b', outcome: 'c', common_cause: 'c'}, \n",
    "              outcome=outcome,\n",
    "              method='weighting', \n",
    "              common_causes=[common_cause],\n",
    "              proceed_when_unidentifiable=True).groupby(treatment).mean().plot(y=outcome, kind='bar')"
   ]
  },
  {
   "cell_type": "code",
   "execution_count": 5,
   "metadata": {
    "execution": {
     "iopub.execute_input": "2022-09-05T18:24:24.124624Z",
     "iopub.status.busy": "2022-09-05T18:24:24.122882Z",
     "iopub.status.idle": "2022-09-05T18:24:24.160820Z",
     "shell.execute_reply": "2022-09-05T18:24:24.159939Z"
    }
   },
   "outputs": [],
   "source": [
    "cdf_1 = df.causal.do(x={treatment: 1}, \n",
    "              variable_types={treatment: 'b', outcome: 'c', common_cause: 'c'}, \n",
    "              outcome=outcome, \n",
    "              dot_graph=data['dot_graph'],\n",
    "              proceed_when_unidentifiable=True)\n",
    "\n",
    "cdf_0 = df.causal.do(x={treatment: 0}, \n",
    "              variable_types={treatment: 'b', outcome: 'c', common_cause: 'c'}, \n",
    "              outcome=outcome, \n",
    "              dot_graph=data['dot_graph'],\n",
    "              proceed_when_unidentifiable=True)\n"
   ]
  },
  {
   "cell_type": "code",
   "execution_count": 6,
   "metadata": {
    "execution": {
     "iopub.execute_input": "2022-09-05T18:24:24.165543Z",
     "iopub.status.busy": "2022-09-05T18:24:24.165066Z",
     "iopub.status.idle": "2022-09-05T18:24:24.177959Z",
     "shell.execute_reply": "2022-09-05T18:24:24.177090Z"
    },
    "scrolled": true
   },
   "outputs": [
    {
     "data": {
      "text/html": [
       "<div>\n",
       "<style scoped>\n",
       "    .dataframe tbody tr th:only-of-type {\n",
       "        vertical-align: middle;\n",
       "    }\n",
       "\n",
       "    .dataframe tbody tr th {\n",
       "        vertical-align: top;\n",
       "    }\n",
       "\n",
       "    .dataframe thead th {\n",
       "        text-align: right;\n",
       "    }\n",
       "</style>\n",
       "<table border=\"1\" class=\"dataframe\">\n",
       "  <thead>\n",
       "    <tr style=\"text-align: right;\">\n",
       "      <th></th>\n",
       "      <th>W0</th>\n",
       "      <th>v0</th>\n",
       "      <th>y</th>\n",
       "      <th>propensity_score</th>\n",
       "      <th>weight</th>\n",
       "    </tr>\n",
       "  </thead>\n",
       "  <tbody>\n",
       "    <tr>\n",
       "      <th>0</th>\n",
       "      <td>-1.080916</td>\n",
       "      <td>False</td>\n",
       "      <td>-3.749920</td>\n",
       "      <td>0.839234</td>\n",
       "      <td>1.191563</td>\n",
       "    </tr>\n",
       "    <tr>\n",
       "      <th>1</th>\n",
       "      <td>-0.378467</td>\n",
       "      <td>False</td>\n",
       "      <td>0.053210</td>\n",
       "      <td>0.626933</td>\n",
       "      <td>1.595066</td>\n",
       "    </tr>\n",
       "    <tr>\n",
       "      <th>2</th>\n",
       "      <td>-2.178057</td>\n",
       "      <td>False</td>\n",
       "      <td>-3.794883</td>\n",
       "      <td>0.968411</td>\n",
       "      <td>1.032619</td>\n",
       "    </tr>\n",
       "    <tr>\n",
       "      <th>3</th>\n",
       "      <td>-2.369960</td>\n",
       "      <td>False</td>\n",
       "      <td>-5.629943</td>\n",
       "      <td>0.976627</td>\n",
       "      <td>1.023933</td>\n",
       "    </tr>\n",
       "    <tr>\n",
       "      <th>4</th>\n",
       "      <td>-1.961412</td>\n",
       "      <td>False</td>\n",
       "      <td>-3.984804</td>\n",
       "      <td>0.955777</td>\n",
       "      <td>1.046269</td>\n",
       "    </tr>\n",
       "    <tr>\n",
       "      <th>...</th>\n",
       "      <td>...</td>\n",
       "      <td>...</td>\n",
       "      <td>...</td>\n",
       "      <td>...</td>\n",
       "      <td>...</td>\n",
       "    </tr>\n",
       "    <tr>\n",
       "      <th>995</th>\n",
       "      <td>-1.691666</td>\n",
       "      <td>False</td>\n",
       "      <td>-2.406136</td>\n",
       "      <td>0.933269</td>\n",
       "      <td>1.071502</td>\n",
       "    </tr>\n",
       "    <tr>\n",
       "      <th>996</th>\n",
       "      <td>-1.166320</td>\n",
       "      <td>False</td>\n",
       "      <td>-2.712309</td>\n",
       "      <td>0.856969</td>\n",
       "      <td>1.166903</td>\n",
       "    </tr>\n",
       "    <tr>\n",
       "      <th>997</th>\n",
       "      <td>-1.201929</td>\n",
       "      <td>False</td>\n",
       "      <td>-3.659684</td>\n",
       "      <td>0.863869</td>\n",
       "      <td>1.157583</td>\n",
       "    </tr>\n",
       "    <tr>\n",
       "      <th>998</th>\n",
       "      <td>-0.779560</td>\n",
       "      <td>False</td>\n",
       "      <td>-1.063985</td>\n",
       "      <td>0.762471</td>\n",
       "      <td>1.311525</td>\n",
       "    </tr>\n",
       "    <tr>\n",
       "      <th>999</th>\n",
       "      <td>-1.279953</td>\n",
       "      <td>False</td>\n",
       "      <td>-2.261797</td>\n",
       "      <td>0.878008</td>\n",
       "      <td>1.138942</td>\n",
       "    </tr>\n",
       "  </tbody>\n",
       "</table>\n",
       "<p>1000 rows × 5 columns</p>\n",
       "</div>"
      ],
      "text/plain": [
       "           W0     v0         y  propensity_score    weight\n",
       "0   -1.080916  False -3.749920          0.839234  1.191563\n",
       "1   -0.378467  False  0.053210          0.626933  1.595066\n",
       "2   -2.178057  False -3.794883          0.968411  1.032619\n",
       "3   -2.369960  False -5.629943          0.976627  1.023933\n",
       "4   -1.961412  False -3.984804          0.955777  1.046269\n",
       "..        ...    ...       ...               ...       ...\n",
       "995 -1.691666  False -2.406136          0.933269  1.071502\n",
       "996 -1.166320  False -2.712309          0.856969  1.166903\n",
       "997 -1.201929  False -3.659684          0.863869  1.157583\n",
       "998 -0.779560  False -1.063985          0.762471  1.311525\n",
       "999 -1.279953  False -2.261797          0.878008  1.138942\n",
       "\n",
       "[1000 rows x 5 columns]"
      ]
     },
     "execution_count": 6,
     "metadata": {},
     "output_type": "execute_result"
    }
   ],
   "source": [
    "cdf_0"
   ]
  },
  {
   "cell_type": "code",
   "execution_count": 7,
   "metadata": {
    "execution": {
     "iopub.execute_input": "2022-09-05T18:24:24.182523Z",
     "iopub.status.busy": "2022-09-05T18:24:24.182210Z",
     "iopub.status.idle": "2022-09-05T18:24:24.198039Z",
     "shell.execute_reply": "2022-09-05T18:24:24.197327Z"
    }
   },
   "outputs": [
    {
     "data": {
      "text/html": [
       "<div>\n",
       "<style scoped>\n",
       "    .dataframe tbody tr th:only-of-type {\n",
       "        vertical-align: middle;\n",
       "    }\n",
       "\n",
       "    .dataframe tbody tr th {\n",
       "        vertical-align: top;\n",
       "    }\n",
       "\n",
       "    .dataframe thead th {\n",
       "        text-align: right;\n",
       "    }\n",
       "</style>\n",
       "<table border=\"1\" class=\"dataframe\">\n",
       "  <thead>\n",
       "    <tr style=\"text-align: right;\">\n",
       "      <th></th>\n",
       "      <th>W0</th>\n",
       "      <th>v0</th>\n",
       "      <th>y</th>\n",
       "      <th>propensity_score</th>\n",
       "      <th>weight</th>\n",
       "    </tr>\n",
       "  </thead>\n",
       "  <tbody>\n",
       "    <tr>\n",
       "      <th>0</th>\n",
       "      <td>-0.024390</td>\n",
       "      <td>True</td>\n",
       "      <td>4.091306</td>\n",
       "      <td>0.513059</td>\n",
       "      <td>1.949094</td>\n",
       "    </tr>\n",
       "    <tr>\n",
       "      <th>1</th>\n",
       "      <td>0.442290</td>\n",
       "      <td>True</td>\n",
       "      <td>7.042294</td>\n",
       "      <td>0.691101</td>\n",
       "      <td>1.446967</td>\n",
       "    </tr>\n",
       "    <tr>\n",
       "      <th>2</th>\n",
       "      <td>0.016557</td>\n",
       "      <td>True</td>\n",
       "      <td>4.243944</td>\n",
       "      <td>0.529545</td>\n",
       "      <td>1.888413</td>\n",
       "    </tr>\n",
       "    <tr>\n",
       "      <th>3</th>\n",
       "      <td>-0.856835</td>\n",
       "      <td>True</td>\n",
       "      <td>4.039040</td>\n",
       "      <td>0.215689</td>\n",
       "      <td>4.636297</td>\n",
       "    </tr>\n",
       "    <tr>\n",
       "      <th>4</th>\n",
       "      <td>-0.488011</td>\n",
       "      <td>True</td>\n",
       "      <td>4.203498</td>\n",
       "      <td>0.332735</td>\n",
       "      <td>3.005394</td>\n",
       "    </tr>\n",
       "    <tr>\n",
       "      <th>...</th>\n",
       "      <td>...</td>\n",
       "      <td>...</td>\n",
       "      <td>...</td>\n",
       "      <td>...</td>\n",
       "      <td>...</td>\n",
       "    </tr>\n",
       "    <tr>\n",
       "      <th>995</th>\n",
       "      <td>-1.565416</td>\n",
       "      <td>True</td>\n",
       "      <td>0.813885</td>\n",
       "      <td>0.080593</td>\n",
       "      <td>12.408014</td>\n",
       "    </tr>\n",
       "    <tr>\n",
       "      <th>996</th>\n",
       "      <td>-1.080100</td>\n",
       "      <td>True</td>\n",
       "      <td>3.805645</td>\n",
       "      <td>0.160944</td>\n",
       "      <td>6.213342</td>\n",
       "    </tr>\n",
       "    <tr>\n",
       "      <th>997</th>\n",
       "      <td>-0.234925</td>\n",
       "      <td>True</td>\n",
       "      <td>2.954979</td>\n",
       "      <td>0.428624</td>\n",
       "      <td>2.333045</td>\n",
       "    </tr>\n",
       "    <tr>\n",
       "      <th>998</th>\n",
       "      <td>0.526734</td>\n",
       "      <td>True</td>\n",
       "      <td>7.236482</td>\n",
       "      <td>0.719408</td>\n",
       "      <td>1.390031</td>\n",
       "    </tr>\n",
       "    <tr>\n",
       "      <th>999</th>\n",
       "      <td>-0.420066</td>\n",
       "      <td>True</td>\n",
       "      <td>3.986335</td>\n",
       "      <td>0.357506</td>\n",
       "      <td>2.797156</td>\n",
       "    </tr>\n",
       "  </tbody>\n",
       "</table>\n",
       "<p>1000 rows × 5 columns</p>\n",
       "</div>"
      ],
      "text/plain": [
       "           W0    v0         y  propensity_score     weight\n",
       "0   -0.024390  True  4.091306          0.513059   1.949094\n",
       "1    0.442290  True  7.042294          0.691101   1.446967\n",
       "2    0.016557  True  4.243944          0.529545   1.888413\n",
       "3   -0.856835  True  4.039040          0.215689   4.636297\n",
       "4   -0.488011  True  4.203498          0.332735   3.005394\n",
       "..        ...   ...       ...               ...        ...\n",
       "995 -1.565416  True  0.813885          0.080593  12.408014\n",
       "996 -1.080100  True  3.805645          0.160944   6.213342\n",
       "997 -0.234925  True  2.954979          0.428624   2.333045\n",
       "998  0.526734  True  7.236482          0.719408   1.390031\n",
       "999 -0.420066  True  3.986335          0.357506   2.797156\n",
       "\n",
       "[1000 rows x 5 columns]"
      ]
     },
     "execution_count": 7,
     "metadata": {},
     "output_type": "execute_result"
    }
   ],
   "source": [
    "cdf_1"
   ]
  },
  {
   "cell_type": "markdown",
   "metadata": {},
   "source": [
    "## Comparing the estimate to Linear Regression\n",
    "First, estimating the effect using the causal data frame, and the 95% confidence interval."
   ]
  },
  {
   "cell_type": "code",
   "execution_count": 8,
   "metadata": {
    "execution": {
     "iopub.execute_input": "2022-09-05T18:24:24.202345Z",
     "iopub.status.busy": "2022-09-05T18:24:24.201700Z",
     "iopub.status.idle": "2022-09-05T18:24:24.322609Z",
     "shell.execute_reply": "2022-09-05T18:24:24.321878Z"
    }
   },
   "outputs": [
    {
     "data": {
      "image/png": "[encoded data removed]",
      "text/latex": [
       "$\\displaystyle 5.47059167957261$"
      ],
      "text/plain": [
       "5.470591679572605"
      ]
     },
     "execution_count": 8,
     "metadata": {},
     "output_type": "execute_result"
    }
   ],
   "source": [
    "(cdf_1['y'] - cdf_0['y']).mean()"
   ]
  },
  {
   "cell_type": "code",
   "execution_count": 9,
   "metadata": {
    "execution": {
     "iopub.execute_input": "2022-09-05T18:24:24.326032Z",
     "iopub.status.busy": "2022-09-05T18:24:24.325509Z",
     "iopub.status.idle": "2022-09-05T18:24:24.356126Z",
     "shell.execute_reply": "2022-09-05T18:24:24.355343Z"
    }
   },
   "outputs": [
    {
     "data": {
      "image/png": "[encoded data removed]",
      "text/latex": [
       "$\\displaystyle 0.206195853990042$"
      ],
      "text/plain": [
       "0.20619585399004214"
      ]
     },
     "execution_count": 9,
     "metadata": {},
     "output_type": "execute_result"
    }
   ],
   "source": [
    "1.96*(cdf_1['y'] - cdf_0['y']).std() / np.sqrt(len(df))"
   ]
  },
  {
   "cell_type": "markdown",
   "metadata": {},
   "source": [
    "Comparing to the estimate from OLS."
   ]
  },
  {
   "cell_type": "code",
   "execution_count": 10,
   "metadata": {
    "execution": {
     "iopub.execute_input": "2022-09-05T18:24:24.359901Z",
     "iopub.status.busy": "2022-09-05T18:24:24.359438Z",
     "iopub.status.idle": "2022-09-05T18:24:24.380156Z",
     "shell.execute_reply": "2022-09-05T18:24:24.379352Z"
    }
   },
   "outputs": [
    {
     "data": {
      "text/html": [
       "<table class=\"simpletable\">\n",
       "<caption>OLS Regression Results</caption>\n",
       "<tr>\n",
       "  <th>Dep. Variable:</th>            <td>y</td>        <th>  R-squared (uncentered):</th>      <td>   0.942</td>\n",
       "</tr>\n",
       "<tr>\n",
       "  <th>Model:</th>                   <td>OLS</td>       <th>  Adj. R-squared (uncentered):</th> <td>   0.942</td>\n",
       "</tr>\n",
       "<tr>\n",
       "  <th>Method:</th>             <td>Least Squares</td>  <th>  F-statistic:       </th>          <td>   8070.</td>\n",
       "</tr>\n",
       "<tr>\n",
       "  <th>Date:</th>             <td>Mon, 05 Sep 2022</td> <th>  Prob (F-statistic):</th>           <td>  0.00</td> \n",
       "</tr>\n",
       "<tr>\n",
       "  <th>Time:</th>                 <td>18:24:24</td>     <th>  Log-Likelihood:    </th>          <td> -1403.6</td>\n",
       "</tr>\n",
       "<tr>\n",
       "  <th>No. Observations:</th>      <td>  1000</td>      <th>  AIC:               </th>          <td>   2811.</td>\n",
       "</tr>\n",
       "<tr>\n",
       "  <th>Df Residuals:</th>          <td>   998</td>      <th>  BIC:               </th>          <td>   2821.</td>\n",
       "</tr>\n",
       "<tr>\n",
       "  <th>Df Model:</th>              <td>     2</td>      <th>                     </th>              <td> </td>   \n",
       "</tr>\n",
       "<tr>\n",
       "  <th>Covariance Type:</th>      <td>nonrobust</td>    <th>                     </th>              <td> </td>   \n",
       "</tr>\n",
       "</table>\n",
       "<table class=\"simpletable\">\n",
       "<tr>\n",
       "   <td></td>     <th>coef</th>     <th>std err</th>      <th>t</th>      <th>P>|t|</th>  <th>[0.025</th>    <th>0.975]</th>  \n",
       "</tr>\n",
       "<tr>\n",
       "  <th>x1</th> <td>    2.1889</td> <td>    0.025</td> <td>   87.193</td> <td> 0.000</td> <td>    2.140</td> <td>    2.238</td>\n",
       "</tr>\n",
       "<tr>\n",
       "  <th>x2</th> <td>    4.9304</td> <td>    0.055</td> <td>   89.857</td> <td> 0.000</td> <td>    4.823</td> <td>    5.038</td>\n",
       "</tr>\n",
       "</table>\n",
       "<table class=\"simpletable\">\n",
       "<tr>\n",
       "  <th>Omnibus:</th>       <td> 0.133</td> <th>  Durbin-Watson:     </th> <td>   2.133</td>\n",
       "</tr>\n",
       "<tr>\n",
       "  <th>Prob(Omnibus):</th> <td> 0.935</td> <th>  Jarque-Bera (JB):  </th> <td>   0.085</td>\n",
       "</tr>\n",
       "<tr>\n",
       "  <th>Skew:</th>          <td> 0.019</td> <th>  Prob(JB):          </th> <td>   0.958</td>\n",
       "</tr>\n",
       "<tr>\n",
       "  <th>Kurtosis:</th>      <td> 3.023</td> <th>  Cond. No.          </th> <td>    2.19</td>\n",
       "</tr>\n",
       "</table><br/><br/>Notes:<br/>[1] R² is computed without centering (uncentered) since the model does not contain a constant.<br/>[2] Standard Errors assume that the covariance matrix of the errors is correctly specified."
      ],
      "text/plain": [
       "<class 'statsmodels.iolib.summary.Summary'>\n",
       "\"\"\"\n",
       "                                 OLS Regression Results                                \n",
       "=======================================================================================\n",
       "Dep. Variable:                      y   R-squared (uncentered):                   0.942\n",
       "Model:                            OLS   Adj. R-squared (uncentered):              0.942\n",
       "Method:                 Least Squares   F-statistic:                              8070.\n",
       "Date:                Mon, 05 Sep 2022   Prob (F-statistic):                        0.00\n",
       "Time:                        18:24:24   Log-Likelihood:                         -1403.6\n",
       "No. Observations:                1000   AIC:                                      2811.\n",
       "Df Residuals:                     998   BIC:                                      2821.\n",
       "Df Model:                           2                                                  \n",
       "Covariance Type:            nonrobust                                                  \n",
       "==============================================================================\n",
       "                 coef    std err          t      P>|t|      [0.025      0.975]\n",
       "------------------------------------------------------------------------------\n",
       "x1             2.1889      0.025     87.193      0.000       2.140       2.238\n",
       "x2             4.9304      0.055     89.857      0.000       4.823       5.038\n",
       "==============================================================================\n",
       "Omnibus:                        0.133   Durbin-Watson:                   2.133\n",
       "Prob(Omnibus):                  0.935   Jarque-Bera (JB):                0.085\n",
       "Skew:                           0.019   Prob(JB):                        0.958\n",
       "Kurtosis:                       3.023   Cond. No.                         2.19\n",
       "==============================================================================\n",
       "\n",
       "Notes:\n",
       "[1] R² is computed without centering (uncentered) since the model does not contain a constant.\n",
       "[2] Standard Errors assume that the covariance matrix of the errors is correctly specified.\n",
       "\"\"\""
      ]
     },
     "execution_count": 10,
     "metadata": {},
     "output_type": "execute_result"
    }
   ],
   "source": [
    "model = OLS(np.asarray(df[outcome]), np.asarray(df[[common_cause, treatment]], dtype=np.float64))\n",
    "result = model.fit()\n",
    "result.summary()"
   ]
  }
 ],
 "metadata": {
  "kernelspec": {
   "display_name": "Python 3",
   "language": "python",
   "name": "python3"
  },
  "language_info": {
   "codemirror_mode": {
    "name": "ipython",
    "version": 3
   },
   "file_extension": ".py",
   "mimetype": "text/x-python",
   "name": "python",
   "nbconvert_exporter": "python",
   "pygments_lexer": "ipython3",
   "version": "3.8.10"
  },
  "toc": {
   "base_numbering": 1,
   "nav_menu": {},
   "number_sections": false,
   "sideBar": true,
   "skip_h1_title": true,
   "title_cell": "Table of Contents",
   "title_sidebar": "Contents",
   "toc_cell": false,
   "toc_position": {},
   "toc_section_display": true,
   "toc_window_display": false
  }
 },
 "nbformat": 4,
 "nbformat_minor": 4
}
