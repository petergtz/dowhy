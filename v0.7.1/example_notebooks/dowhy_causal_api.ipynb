{
 "cells": [
  {
   "cell_type": "markdown",
   "metadata": {},
   "source": [
    "# Demo for the DoWhy causal API\n",
    "We show a simple example of adding a causal extension to any dataframe. "
   ]
  },
  {
   "cell_type": "code",
   "execution_count": 1,
   "metadata": {
    "execution": {
     "iopub.execute_input": "2022-10-19T15:29:01.412992Z",
     "iopub.status.busy": "2022-10-19T15:29:01.412581Z",
     "iopub.status.idle": "2022-10-19T15:29:03.168374Z",
     "shell.execute_reply": "2022-10-19T15:29:03.167722Z"
    }
   },
   "outputs": [],
   "source": [
    "import dowhy.datasets\n",
    "import dowhy.api\n",
    "\n",
    "import numpy as np\n",
    "import pandas as pd\n",
    "\n",
    "from statsmodels.api import OLS"
   ]
  },
  {
   "cell_type": "code",
   "execution_count": 2,
   "metadata": {
    "execution": {
     "iopub.execute_input": "2022-10-19T15:29:03.172158Z",
     "iopub.status.busy": "2022-10-19T15:29:03.171680Z",
     "iopub.status.idle": "2022-10-19T15:29:03.212343Z",
     "shell.execute_reply": "2022-10-19T15:29:03.211788Z"
    }
   },
   "outputs": [
    {
     "data": {
      "text/html": [
       "<div>\n",
       "<style scoped>\n",
       "    .dataframe tbody tr th:only-of-type {\n",
       "        vertical-align: middle;\n",
       "    }\n",
       "\n",
       "    .dataframe tbody tr th {\n",
       "        vertical-align: top;\n",
       "    }\n",
       "\n",
       "    .dataframe thead th {\n",
       "        text-align: right;\n",
       "    }\n",
       "</style>\n",
       "<table border=\"1\" class=\"dataframe\">\n",
       "  <thead>\n",
       "    <tr style=\"text-align: right;\">\n",
       "      <th></th>\n",
       "      <th>W0</th>\n",
       "      <th>v0</th>\n",
       "      <th>y</th>\n",
       "    </tr>\n",
       "  </thead>\n",
       "  <tbody>\n",
       "    <tr>\n",
       "      <th>0</th>\n",
       "      <td>1.192882</td>\n",
       "      <td>True</td>\n",
       "      <td>6.307669</td>\n",
       "    </tr>\n",
       "    <tr>\n",
       "      <th>1</th>\n",
       "      <td>-0.697688</td>\n",
       "      <td>False</td>\n",
       "      <td>-2.799823</td>\n",
       "    </tr>\n",
       "    <tr>\n",
       "      <th>2</th>\n",
       "      <td>1.683245</td>\n",
       "      <td>True</td>\n",
       "      <td>8.660512</td>\n",
       "    </tr>\n",
       "    <tr>\n",
       "      <th>3</th>\n",
       "      <td>2.229438</td>\n",
       "      <td>True</td>\n",
       "      <td>10.030420</td>\n",
       "    </tr>\n",
       "    <tr>\n",
       "      <th>4</th>\n",
       "      <td>-1.008652</td>\n",
       "      <td>False</td>\n",
       "      <td>-1.923299</td>\n",
       "    </tr>\n",
       "    <tr>\n",
       "      <th>...</th>\n",
       "      <td>...</td>\n",
       "      <td>...</td>\n",
       "      <td>...</td>\n",
       "    </tr>\n",
       "    <tr>\n",
       "      <th>995</th>\n",
       "      <td>0.933524</td>\n",
       "      <td>False</td>\n",
       "      <td>3.303752</td>\n",
       "    </tr>\n",
       "    <tr>\n",
       "      <th>996</th>\n",
       "      <td>1.204917</td>\n",
       "      <td>True</td>\n",
       "      <td>6.682914</td>\n",
       "    </tr>\n",
       "    <tr>\n",
       "      <th>997</th>\n",
       "      <td>2.107063</td>\n",
       "      <td>True</td>\n",
       "      <td>11.898302</td>\n",
       "    </tr>\n",
       "    <tr>\n",
       "      <th>998</th>\n",
       "      <td>-0.074520</td>\n",
       "      <td>True</td>\n",
       "      <td>5.089832</td>\n",
       "    </tr>\n",
       "    <tr>\n",
       "      <th>999</th>\n",
       "      <td>0.455653</td>\n",
       "      <td>False</td>\n",
       "      <td>0.240959</td>\n",
       "    </tr>\n",
       "  </tbody>\n",
       "</table>\n",
       "<p>1000 rows × 3 columns</p>\n",
       "</div>"
      ],
      "text/plain": [
       "           W0     v0          y\n",
       "0    1.192882   True   6.307669\n",
       "1   -0.697688  False  -2.799823\n",
       "2    1.683245   True   8.660512\n",
       "3    2.229438   True  10.030420\n",
       "4   -1.008652  False  -1.923299\n",
       "..        ...    ...        ...\n",
       "995  0.933524  False   3.303752\n",
       "996  1.204917   True   6.682914\n",
       "997  2.107063   True  11.898302\n",
       "998 -0.074520   True   5.089832\n",
       "999  0.455653  False   0.240959\n",
       "\n",
       "[1000 rows x 3 columns]"
      ]
     },
     "execution_count": 2,
     "metadata": {},
     "output_type": "execute_result"
    }
   ],
   "source": [
    "data = dowhy.datasets.linear_dataset(beta=5,\n",
    "        num_common_causes=1,\n",
    "        num_instruments = 0,\n",
    "        num_samples=1000,\n",
    "        treatment_is_binary=True)\n",
    "df = data['df']\n",
    "df['y'] = df['y'] + np.random.normal(size=len(df)) # Adding noise to data. Without noise, the variance in Y|X, Z is zero, and mcmc fails.\n",
    "#data['dot_graph'] = 'digraph { v ->y;X0-> v;X0-> y;}'\n",
    "\n",
    "treatment= data[\"treatment_name\"][0]\n",
    "outcome = data[\"outcome_name\"][0]\n",
    "common_cause = data[\"common_causes_names\"][0]\n",
    "df"
   ]
  },
  {
   "cell_type": "code",
   "execution_count": 3,
   "metadata": {
    "execution": {
     "iopub.execute_input": "2022-10-19T15:29:03.214944Z",
     "iopub.status.busy": "2022-10-19T15:29:03.214735Z",
     "iopub.status.idle": "2022-10-19T15:29:03.362147Z",
     "shell.execute_reply": "2022-10-19T15:29:03.361549Z"
    }
   },
   "outputs": [
    {
     "data": {
      "text/plain": [
       "<AxesSubplot: xlabel='v0'>"
      ]
     },
     "execution_count": 3,
     "metadata": {},
     "output_type": "execute_result"
    },
    {
     "data": {
      "image/png": "[encoded data removed]",
      "text/plain": [
       "<Figure size 640x480 with 1 Axes>"
      ]
     },
     "metadata": {},
     "output_type": "display_data"
    }
   ],
   "source": [
    "# data['df'] is just a regular pandas.DataFrame\n",
    "df.causal.do(x=treatment,\n",
    "                     variable_types={treatment: 'b', outcome: 'c', common_cause: 'c'},\n",
    "                     outcome=outcome,\n",
    "                     common_causes=[common_cause],\n",
    "                     proceed_when_unidentifiable=True).groupby(treatment).mean().plot(y=outcome, kind='bar')"
   ]
  },
  {
   "cell_type": "code",
   "execution_count": 4,
   "metadata": {
    "execution": {
     "iopub.execute_input": "2022-10-19T15:29:03.365393Z",
     "iopub.status.busy": "2022-10-19T15:29:03.364824Z",
     "iopub.status.idle": "2022-10-19T15:29:03.478215Z",
     "shell.execute_reply": "2022-10-19T15:29:03.477705Z"
    }
   },
   "outputs": [
    {
     "data": {
      "text/plain": [
       "<AxesSubplot: xlabel='v0'>"
      ]
     },
     "execution_count": 4,
     "metadata": {},
     "output_type": "execute_result"
    },
    {
     "data": {
      "image/png": "[encoded data removed]",
      "text/plain": [
       "<Figure size 640x480 with 1 Axes>"
      ]
     },
     "metadata": {},
     "output_type": "display_data"
    }
   ],
   "source": [
    "df.causal.do(x={treatment: 1}, \n",
    "              variable_types={treatment:'b', outcome: 'c', common_cause: 'c'}, \n",
    "              outcome=outcome,\n",
    "              method='weighting', \n",
    "              common_causes=[common_cause],\n",
    "              proceed_when_unidentifiable=True).groupby(treatment).mean().plot(y=outcome, kind='bar')"
   ]
  },
  {
   "cell_type": "code",
   "execution_count": 5,
   "metadata": {
    "execution": {
     "iopub.execute_input": "2022-10-19T15:29:03.482026Z",
     "iopub.status.busy": "2022-10-19T15:29:03.481025Z",
     "iopub.status.idle": "2022-10-19T15:29:03.511759Z",
     "shell.execute_reply": "2022-10-19T15:29:03.511200Z"
    }
   },
   "outputs": [],
   "source": [
    "cdf_1 = df.causal.do(x={treatment: 1}, \n",
    "              variable_types={treatment: 'b', outcome: 'c', common_cause: 'c'}, \n",
    "              outcome=outcome, \n",
    "              dot_graph=data['dot_graph'],\n",
    "              proceed_when_unidentifiable=True)\n",
    "\n",
    "cdf_0 = df.causal.do(x={treatment: 0}, \n",
    "              variable_types={treatment: 'b', outcome: 'c', common_cause: 'c'}, \n",
    "              outcome=outcome, \n",
    "              dot_graph=data['dot_graph'],\n",
    "              proceed_when_unidentifiable=True)\n"
   ]
  },
  {
   "cell_type": "code",
   "execution_count": 6,
   "metadata": {
    "execution": {
     "iopub.execute_input": "2022-10-19T15:29:03.515653Z",
     "iopub.status.busy": "2022-10-19T15:29:03.514514Z",
     "iopub.status.idle": "2022-10-19T15:29:03.525742Z",
     "shell.execute_reply": "2022-10-19T15:29:03.525174Z"
    },
    "scrolled": true
   },
   "outputs": [
    {
     "data": {
      "text/html": [
       "<div>\n",
       "<style scoped>\n",
       "    .dataframe tbody tr th:only-of-type {\n",
       "        vertical-align: middle;\n",
       "    }\n",
       "\n",
       "    .dataframe tbody tr th {\n",
       "        vertical-align: top;\n",
       "    }\n",
       "\n",
       "    .dataframe thead th {\n",
       "        text-align: right;\n",
       "    }\n",
       "</style>\n",
       "<table border=\"1\" class=\"dataframe\">\n",
       "  <thead>\n",
       "    <tr style=\"text-align: right;\">\n",
       "      <th></th>\n",
       "      <th>W0</th>\n",
       "      <th>v0</th>\n",
       "      <th>y</th>\n",
       "      <th>propensity_score</th>\n",
       "      <th>weight</th>\n",
       "    </tr>\n",
       "  </thead>\n",
       "  <tbody>\n",
       "    <tr>\n",
       "      <th>0</th>\n",
       "      <td>2.206499</td>\n",
       "      <td>False</td>\n",
       "      <td>4.170055</td>\n",
       "      <td>0.056605</td>\n",
       "      <td>17.666343</td>\n",
       "    </tr>\n",
       "    <tr>\n",
       "      <th>1</th>\n",
       "      <td>-0.068734</td>\n",
       "      <td>False</td>\n",
       "      <td>-0.269160</td>\n",
       "      <td>0.529259</td>\n",
       "      <td>1.889435</td>\n",
       "    </tr>\n",
       "    <tr>\n",
       "      <th>2</th>\n",
       "      <td>-0.475105</td>\n",
       "      <td>False</td>\n",
       "      <td>-1.785903</td>\n",
       "      <td>0.654886</td>\n",
       "      <td>1.526984</td>\n",
       "    </tr>\n",
       "    <tr>\n",
       "      <th>3</th>\n",
       "      <td>0.360181</td>\n",
       "      <td>False</td>\n",
       "      <td>1.125425</td>\n",
       "      <td>0.392865</td>\n",
       "      <td>2.545405</td>\n",
       "    </tr>\n",
       "    <tr>\n",
       "      <th>4</th>\n",
       "      <td>-0.140223</td>\n",
       "      <td>False</td>\n",
       "      <td>-0.107828</td>\n",
       "      <td>0.552122</td>\n",
       "      <td>1.811194</td>\n",
       "    </tr>\n",
       "    <tr>\n",
       "      <th>...</th>\n",
       "      <td>...</td>\n",
       "      <td>...</td>\n",
       "      <td>...</td>\n",
       "      <td>...</td>\n",
       "      <td>...</td>\n",
       "    </tr>\n",
       "    <tr>\n",
       "      <th>995</th>\n",
       "      <td>1.484792</td>\n",
       "      <td>False</td>\n",
       "      <td>2.886986</td>\n",
       "      <td>0.131951</td>\n",
       "      <td>7.578547</td>\n",
       "    </tr>\n",
       "    <tr>\n",
       "      <th>996</th>\n",
       "      <td>-0.158099</td>\n",
       "      <td>False</td>\n",
       "      <td>-0.788303</td>\n",
       "      <td>0.557808</td>\n",
       "      <td>1.792730</td>\n",
       "    </tr>\n",
       "    <tr>\n",
       "      <th>997</th>\n",
       "      <td>0.259793</td>\n",
       "      <td>False</td>\n",
       "      <td>-0.113174</td>\n",
       "      <td>0.424095</td>\n",
       "      <td>2.357960</td>\n",
       "    </tr>\n",
       "    <tr>\n",
       "      <th>998</th>\n",
       "      <td>1.253754</td>\n",
       "      <td>False</td>\n",
       "      <td>1.269634</td>\n",
       "      <td>0.169915</td>\n",
       "      <td>5.885300</td>\n",
       "    </tr>\n",
       "    <tr>\n",
       "      <th>999</th>\n",
       "      <td>0.501107</td>\n",
       "      <td>False</td>\n",
       "      <td>1.847250</td>\n",
       "      <td>0.350509</td>\n",
       "      <td>2.852994</td>\n",
       "    </tr>\n",
       "  </tbody>\n",
       "</table>\n",
       "<p>1000 rows × 5 columns</p>\n",
       "</div>"
      ],
      "text/plain": [
       "           W0     v0         y  propensity_score     weight\n",
       "0    2.206499  False  4.170055          0.056605  17.666343\n",
       "1   -0.068734  False -0.269160          0.529259   1.889435\n",
       "2   -0.475105  False -1.785903          0.654886   1.526984\n",
       "3    0.360181  False  1.125425          0.392865   2.545405\n",
       "4   -0.140223  False -0.107828          0.552122   1.811194\n",
       "..        ...    ...       ...               ...        ...\n",
       "995  1.484792  False  2.886986          0.131951   7.578547\n",
       "996 -0.158099  False -0.788303          0.557808   1.792730\n",
       "997  0.259793  False -0.113174          0.424095   2.357960\n",
       "998  1.253754  False  1.269634          0.169915   5.885300\n",
       "999  0.501107  False  1.847250          0.350509   2.852994\n",
       "\n",
       "[1000 rows x 5 columns]"
      ]
     },
     "execution_count": 6,
     "metadata": {},
     "output_type": "execute_result"
    }
   ],
   "source": [
    "cdf_0"
   ]
  },
  {
   "cell_type": "code",
   "execution_count": 7,
   "metadata": {
    "execution": {
     "iopub.execute_input": "2022-10-19T15:29:03.528324Z",
     "iopub.status.busy": "2022-10-19T15:29:03.528122Z",
     "iopub.status.idle": "2022-10-19T15:29:03.538982Z",
     "shell.execute_reply": "2022-10-19T15:29:03.538460Z"
    }
   },
   "outputs": [
    {
     "data": {
      "text/html": [
       "<div>\n",
       "<style scoped>\n",
       "    .dataframe tbody tr th:only-of-type {\n",
       "        vertical-align: middle;\n",
       "    }\n",
       "\n",
       "    .dataframe tbody tr th {\n",
       "        vertical-align: top;\n",
       "    }\n",
       "\n",
       "    .dataframe thead th {\n",
       "        text-align: right;\n",
       "    }\n",
       "</style>\n",
       "<table border=\"1\" class=\"dataframe\">\n",
       "  <thead>\n",
       "    <tr style=\"text-align: right;\">\n",
       "      <th></th>\n",
       "      <th>W0</th>\n",
       "      <th>v0</th>\n",
       "      <th>y</th>\n",
       "      <th>propensity_score</th>\n",
       "      <th>weight</th>\n",
       "    </tr>\n",
       "  </thead>\n",
       "  <tbody>\n",
       "    <tr>\n",
       "      <th>0</th>\n",
       "      <td>0.190820</td>\n",
       "      <td>True</td>\n",
       "      <td>3.289733</td>\n",
       "      <td>0.554074</td>\n",
       "      <td>1.804813</td>\n",
       "    </tr>\n",
       "    <tr>\n",
       "      <th>1</th>\n",
       "      <td>0.064957</td>\n",
       "      <td>True</td>\n",
       "      <td>5.552145</td>\n",
       "      <td>0.513754</td>\n",
       "      <td>1.946457</td>\n",
       "    </tr>\n",
       "    <tr>\n",
       "      <th>2</th>\n",
       "      <td>0.378431</td>\n",
       "      <td>True</td>\n",
       "      <td>6.093418</td>\n",
       "      <td>0.612728</td>\n",
       "      <td>1.632047</td>\n",
       "    </tr>\n",
       "    <tr>\n",
       "      <th>3</th>\n",
       "      <td>1.806196</td>\n",
       "      <td>True</td>\n",
       "      <td>8.779261</td>\n",
       "      <td>0.908694</td>\n",
       "      <td>1.100481</td>\n",
       "    </tr>\n",
       "    <tr>\n",
       "      <th>4</th>\n",
       "      <td>1.897350</td>\n",
       "      <td>True</td>\n",
       "      <td>9.241507</td>\n",
       "      <td>0.917979</td>\n",
       "      <td>1.089350</td>\n",
       "    </tr>\n",
       "    <tr>\n",
       "      <th>...</th>\n",
       "      <td>...</td>\n",
       "      <td>...</td>\n",
       "      <td>...</td>\n",
       "      <td>...</td>\n",
       "      <td>...</td>\n",
       "    </tr>\n",
       "    <tr>\n",
       "      <th>995</th>\n",
       "      <td>1.970058</td>\n",
       "      <td>True</td>\n",
       "      <td>7.782058</td>\n",
       "      <td>0.924760</td>\n",
       "      <td>1.081362</td>\n",
       "    </tr>\n",
       "    <tr>\n",
       "      <th>996</th>\n",
       "      <td>1.919330</td>\n",
       "      <td>True</td>\n",
       "      <td>8.588470</td>\n",
       "      <td>0.920086</td>\n",
       "      <td>1.086855</td>\n",
       "    </tr>\n",
       "    <tr>\n",
       "      <th>997</th>\n",
       "      <td>0.804969</td>\n",
       "      <td>True</td>\n",
       "      <td>8.156917</td>\n",
       "      <td>0.732665</td>\n",
       "      <td>1.364881</td>\n",
       "    </tr>\n",
       "    <tr>\n",
       "      <th>998</th>\n",
       "      <td>0.378624</td>\n",
       "      <td>True</td>\n",
       "      <td>5.898987</td>\n",
       "      <td>0.612787</td>\n",
       "      <td>1.631890</td>\n",
       "    </tr>\n",
       "    <tr>\n",
       "      <th>999</th>\n",
       "      <td>-1.525652</td>\n",
       "      <td>True</td>\n",
       "      <td>-0.091923</td>\n",
       "      <td>0.119864</td>\n",
       "      <td>8.342769</td>\n",
       "    </tr>\n",
       "  </tbody>\n",
       "</table>\n",
       "<p>1000 rows × 5 columns</p>\n",
       "</div>"
      ],
      "text/plain": [
       "           W0    v0         y  propensity_score    weight\n",
       "0    0.190820  True  3.289733          0.554074  1.804813\n",
       "1    0.064957  True  5.552145          0.513754  1.946457\n",
       "2    0.378431  True  6.093418          0.612728  1.632047\n",
       "3    1.806196  True  8.779261          0.908694  1.100481\n",
       "4    1.897350  True  9.241507          0.917979  1.089350\n",
       "..        ...   ...       ...               ...       ...\n",
       "995  1.970058  True  7.782058          0.924760  1.081362\n",
       "996  1.919330  True  8.588470          0.920086  1.086855\n",
       "997  0.804969  True  8.156917          0.732665  1.364881\n",
       "998  0.378624  True  5.898987          0.612787  1.631890\n",
       "999 -1.525652  True -0.091923          0.119864  8.342769\n",
       "\n",
       "[1000 rows x 5 columns]"
      ]
     },
     "execution_count": 7,
     "metadata": {},
     "output_type": "execute_result"
    }
   ],
   "source": [
    "cdf_1"
   ]
  },
  {
   "cell_type": "markdown",
   "metadata": {},
   "source": [
    "## Comparing the estimate to Linear Regression\n",
    "First, estimating the effect using the causal data frame, and the 95% confidence interval."
   ]
  },
  {
   "cell_type": "code",
   "execution_count": 8,
   "metadata": {
    "execution": {
     "iopub.execute_input": "2022-10-19T15:29:03.541841Z",
     "iopub.status.busy": "2022-10-19T15:29:03.541516Z",
     "iopub.status.idle": "2022-10-19T15:29:03.599410Z",
     "shell.execute_reply": "2022-10-19T15:29:03.598859Z"
    }
   },
   "outputs": [
    {
     "data": {
      "image/png": "[encoded data removed]",
      "text/latex": [
       "$\\displaystyle 5.22749207475073$"
      ],
      "text/plain": [
       "5.227492074750733"
      ]
     },
     "execution_count": 8,
     "metadata": {},
     "output_type": "execute_result"
    }
   ],
   "source": [
    "(cdf_1['y'] - cdf_0['y']).mean()"
   ]
  },
  {
   "cell_type": "code",
   "execution_count": 9,
   "metadata": {
    "execution": {
     "iopub.execute_input": "2022-10-19T15:29:03.602329Z",
     "iopub.status.busy": "2022-10-19T15:29:03.602004Z",
     "iopub.status.idle": "2022-10-19T15:29:03.621909Z",
     "shell.execute_reply": "2022-10-19T15:29:03.621322Z"
    }
   },
   "outputs": [
    {
     "data": {
      "image/png": "[encoded data removed]",
      "text/latex": [
       "$\\displaystyle 0.216598801442914$"
      ],
      "text/plain": [
       "0.21659880144291407"
      ]
     },
     "execution_count": 9,
     "metadata": {},
     "output_type": "execute_result"
    }
   ],
   "source": [
    "1.96*(cdf_1['y'] - cdf_0['y']).std() / np.sqrt(len(df))"
   ]
  },
  {
   "cell_type": "markdown",
   "metadata": {},
   "source": [
    "Comparing to the estimate from OLS."
   ]
  },
  {
   "cell_type": "code",
   "execution_count": 10,
   "metadata": {
    "execution": {
     "iopub.execute_input": "2022-10-19T15:29:03.624778Z",
     "iopub.status.busy": "2022-10-19T15:29:03.624299Z",
     "iopub.status.idle": "2022-10-19T15:29:03.639293Z",
     "shell.execute_reply": "2022-10-19T15:29:03.638697Z"
    }
   },
   "outputs": [
    {
     "data": {
      "text/html": [
       "<table class=\"simpletable\">\n",
       "<caption>OLS Regression Results</caption>\n",
       "<tr>\n",
       "  <th>Dep. Variable:</th>            <td>y</td>        <th>  R-squared (uncentered):</th>      <td>   0.975</td> \n",
       "</tr>\n",
       "<tr>\n",
       "  <th>Model:</th>                   <td>OLS</td>       <th>  Adj. R-squared (uncentered):</th> <td>   0.975</td> \n",
       "</tr>\n",
       "<tr>\n",
       "  <th>Method:</th>             <td>Least Squares</td>  <th>  F-statistic:       </th>          <td>1.983e+04</td>\n",
       "</tr>\n",
       "<tr>\n",
       "  <th>Date:</th>             <td>Wed, 19 Oct 2022</td> <th>  Prob (F-statistic):</th>           <td>  0.00</td>  \n",
       "</tr>\n",
       "<tr>\n",
       "  <th>Time:</th>                 <td>15:29:03</td>     <th>  Log-Likelihood:    </th>          <td> -1390.2</td> \n",
       "</tr>\n",
       "<tr>\n",
       "  <th>No. Observations:</th>      <td>  1000</td>      <th>  AIC:               </th>          <td>   2784.</td> \n",
       "</tr>\n",
       "<tr>\n",
       "  <th>Df Residuals:</th>          <td>   998</td>      <th>  BIC:               </th>          <td>   2794.</td> \n",
       "</tr>\n",
       "<tr>\n",
       "  <th>Df Model:</th>              <td>     2</td>      <th>                     </th>              <td> </td>    \n",
       "</tr>\n",
       "<tr>\n",
       "  <th>Covariance Type:</th>      <td>nonrobust</td>    <th>                     </th>              <td> </td>    \n",
       "</tr>\n",
       "</table>\n",
       "<table class=\"simpletable\">\n",
       "<tr>\n",
       "   <td></td>     <th>coef</th>     <th>std err</th>      <th>t</th>      <th>P>|t|</th>  <th>[0.025</th>    <th>0.975]</th>  \n",
       "</tr>\n",
       "<tr>\n",
       "  <th>x1</th> <td>    2.4302</td> <td>    0.035</td> <td>   69.138</td> <td> 0.000</td> <td>    2.361</td> <td>    2.499</td>\n",
       "</tr>\n",
       "<tr>\n",
       "  <th>x2</th> <td>    4.9360</td> <td>    0.051</td> <td>   97.066</td> <td> 0.000</td> <td>    4.836</td> <td>    5.036</td>\n",
       "</tr>\n",
       "</table>\n",
       "<table class=\"simpletable\">\n",
       "<tr>\n",
       "  <th>Omnibus:</th>       <td> 1.184</td> <th>  Durbin-Watson:     </th> <td>   2.058</td>\n",
       "</tr>\n",
       "<tr>\n",
       "  <th>Prob(Omnibus):</th> <td> 0.553</td> <th>  Jarque-Bera (JB):  </th> <td>   1.232</td>\n",
       "</tr>\n",
       "<tr>\n",
       "  <th>Skew:</th>          <td>-0.043</td> <th>  Prob(JB):          </th> <td>   0.540</td>\n",
       "</tr>\n",
       "<tr>\n",
       "  <th>Kurtosis:</th>      <td> 2.851</td> <th>  Cond. No.          </th> <td>    2.39</td>\n",
       "</tr>\n",
       "</table><br/><br/>Notes:<br/>[1] R² is computed without centering (uncentered) since the model does not contain a constant.<br/>[2] Standard Errors assume that the covariance matrix of the errors is correctly specified."
      ],
      "text/plain": [
       "<class 'statsmodels.iolib.summary.Summary'>\n",
       "\"\"\"\n",
       "                                 OLS Regression Results                                \n",
       "=======================================================================================\n",
       "Dep. Variable:                      y   R-squared (uncentered):                   0.975\n",
       "Model:                            OLS   Adj. R-squared (uncentered):              0.975\n",
       "Method:                 Least Squares   F-statistic:                          1.983e+04\n",
       "Date:                Wed, 19 Oct 2022   Prob (F-statistic):                        0.00\n",
       "Time:                        15:29:03   Log-Likelihood:                         -1390.2\n",
       "No. Observations:                1000   AIC:                                      2784.\n",
       "Df Residuals:                     998   BIC:                                      2794.\n",
       "Df Model:                           2                                                  \n",
       "Covariance Type:            nonrobust                                                  \n",
       "==============================================================================\n",
       "                 coef    std err          t      P>|t|      [0.025      0.975]\n",
       "------------------------------------------------------------------------------\n",
       "x1             2.4302      0.035     69.138      0.000       2.361       2.499\n",
       "x2             4.9360      0.051     97.066      0.000       4.836       5.036\n",
       "==============================================================================\n",
       "Omnibus:                        1.184   Durbin-Watson:                   2.058\n",
       "Prob(Omnibus):                  0.553   Jarque-Bera (JB):                1.232\n",
       "Skew:                          -0.043   Prob(JB):                        0.540\n",
       "Kurtosis:                       2.851   Cond. No.                         2.39\n",
       "==============================================================================\n",
       "\n",
       "Notes:\n",
       "[1] R² is computed without centering (uncentered) since the model does not contain a constant.\n",
       "[2] Standard Errors assume that the covariance matrix of the errors is correctly specified.\n",
       "\"\"\""
      ]
     },
     "execution_count": 10,
     "metadata": {},
     "output_type": "execute_result"
    }
   ],
   "source": [
    "model = OLS(np.asarray(df[outcome]), np.asarray(df[[common_cause, treatment]], dtype=np.float64))\n",
    "result = model.fit()\n",
    "result.summary()"
   ]
  }
 ],
 "metadata": {
  "kernelspec": {
   "display_name": "Python 3",
   "language": "python",
   "name": "python3"
  },
  "language_info": {
   "codemirror_mode": {
    "name": "ipython",
    "version": 3
   },
   "file_extension": ".py",
   "mimetype": "text/x-python",
   "name": "python",
   "nbconvert_exporter": "python",
   "pygments_lexer": "ipython3",
   "version": "3.8.10"
  },
  "toc": {
   "base_numbering": 1,
   "nav_menu": {},
   "number_sections": false,
   "sideBar": true,
   "skip_h1_title": true,
   "title_cell": "Table of Contents",
   "title_sidebar": "Contents",
   "toc_cell": false,
   "toc_position": {},
   "toc_section_display": true,
   "toc_window_display": false
  }
 },
 "nbformat": 4,
 "nbformat_minor": 4
}
