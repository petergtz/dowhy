{
 "cells": [
  {
   "cell_type": "markdown",
   "metadata": {},
   "source": [
    "# Demo for the DoWhy causal API\n",
    "We show a simple example of adding a causal extension to any dataframe. "
   ]
  },
  {
   "cell_type": "code",
   "execution_count": 1,
   "metadata": {
    "execution": {
     "iopub.execute_input": "2022-09-06T07:39:35.603973Z",
     "iopub.status.busy": "2022-09-06T07:39:35.603690Z",
     "iopub.status.idle": "2022-09-06T07:39:36.795956Z",
     "shell.execute_reply": "2022-09-06T07:39:36.795190Z"
    }
   },
   "outputs": [],
   "source": [
    "import dowhy.datasets\n",
    "import dowhy.api\n",
    "\n",
    "import numpy as np\n",
    "import pandas as pd\n",
    "\n",
    "from statsmodels.api import OLS"
   ]
  },
  {
   "cell_type": "code",
   "execution_count": 2,
   "metadata": {
    "execution": {
     "iopub.execute_input": "2022-09-06T07:39:36.800346Z",
     "iopub.status.busy": "2022-09-06T07:39:36.799801Z",
     "iopub.status.idle": "2022-09-06T07:39:36.845629Z",
     "shell.execute_reply": "2022-09-06T07:39:36.844935Z"
    }
   },
   "outputs": [
    {
     "data": {
      "text/html": [
       "<div>\n",
       "<style scoped>\n",
       "    .dataframe tbody tr th:only-of-type {\n",
       "        vertical-align: middle;\n",
       "    }\n",
       "\n",
       "    .dataframe tbody tr th {\n",
       "        vertical-align: top;\n",
       "    }\n",
       "\n",
       "    .dataframe thead th {\n",
       "        text-align: right;\n",
       "    }\n",
       "</style>\n",
       "<table border=\"1\" class=\"dataframe\">\n",
       "  <thead>\n",
       "    <tr style=\"text-align: right;\">\n",
       "      <th></th>\n",
       "      <th>W0</th>\n",
       "      <th>v0</th>\n",
       "      <th>y</th>\n",
       "    </tr>\n",
       "  </thead>\n",
       "  <tbody>\n",
       "    <tr>\n",
       "      <th>0</th>\n",
       "      <td>0.550477</td>\n",
       "      <td>True</td>\n",
       "      <td>7.841335</td>\n",
       "    </tr>\n",
       "    <tr>\n",
       "      <th>1</th>\n",
       "      <td>0.215338</td>\n",
       "      <td>True</td>\n",
       "      <td>3.753403</td>\n",
       "    </tr>\n",
       "    <tr>\n",
       "      <th>2</th>\n",
       "      <td>-0.702811</td>\n",
       "      <td>False</td>\n",
       "      <td>-1.430678</td>\n",
       "    </tr>\n",
       "    <tr>\n",
       "      <th>3</th>\n",
       "      <td>2.570619</td>\n",
       "      <td>False</td>\n",
       "      <td>5.683169</td>\n",
       "    </tr>\n",
       "    <tr>\n",
       "      <th>4</th>\n",
       "      <td>1.583350</td>\n",
       "      <td>True</td>\n",
       "      <td>9.695174</td>\n",
       "    </tr>\n",
       "    <tr>\n",
       "      <th>...</th>\n",
       "      <td>...</td>\n",
       "      <td>...</td>\n",
       "      <td>...</td>\n",
       "    </tr>\n",
       "    <tr>\n",
       "      <th>995</th>\n",
       "      <td>0.861502</td>\n",
       "      <td>True</td>\n",
       "      <td>6.195915</td>\n",
       "    </tr>\n",
       "    <tr>\n",
       "      <th>996</th>\n",
       "      <td>0.423040</td>\n",
       "      <td>False</td>\n",
       "      <td>-0.300496</td>\n",
       "    </tr>\n",
       "    <tr>\n",
       "      <th>997</th>\n",
       "      <td>1.403314</td>\n",
       "      <td>True</td>\n",
       "      <td>5.078044</td>\n",
       "    </tr>\n",
       "    <tr>\n",
       "      <th>998</th>\n",
       "      <td>1.449474</td>\n",
       "      <td>False</td>\n",
       "      <td>3.463942</td>\n",
       "    </tr>\n",
       "    <tr>\n",
       "      <th>999</th>\n",
       "      <td>2.687759</td>\n",
       "      <td>True</td>\n",
       "      <td>10.633980</td>\n",
       "    </tr>\n",
       "  </tbody>\n",
       "</table>\n",
       "<p>1000 rows × 3 columns</p>\n",
       "</div>"
      ],
      "text/plain": [
       "           W0     v0          y\n",
       "0    0.550477   True   7.841335\n",
       "1    0.215338   True   3.753403\n",
       "2   -0.702811  False  -1.430678\n",
       "3    2.570619  False   5.683169\n",
       "4    1.583350   True   9.695174\n",
       "..        ...    ...        ...\n",
       "995  0.861502   True   6.195915\n",
       "996  0.423040  False  -0.300496\n",
       "997  1.403314   True   5.078044\n",
       "998  1.449474  False   3.463942\n",
       "999  2.687759   True  10.633980\n",
       "\n",
       "[1000 rows x 3 columns]"
      ]
     },
     "execution_count": 2,
     "metadata": {},
     "output_type": "execute_result"
    }
   ],
   "source": [
    "data = dowhy.datasets.linear_dataset(beta=5,\n",
    "        num_common_causes=1,\n",
    "        num_instruments = 0,\n",
    "        num_samples=1000,\n",
    "        treatment_is_binary=True)\n",
    "df = data['df']\n",
    "df['y'] = df['y'] + np.random.normal(size=len(df)) # Adding noise to data. Without noise, the variance in Y|X, Z is zero, and mcmc fails.\n",
    "#data['dot_graph'] = 'digraph { v ->y;X0-> v;X0-> y;}'\n",
    "\n",
    "treatment= data[\"treatment_name\"][0]\n",
    "outcome = data[\"outcome_name\"][0]\n",
    "common_cause = data[\"common_causes_names\"][0]\n",
    "df"
   ]
  },
  {
   "cell_type": "code",
   "execution_count": 3,
   "metadata": {
    "execution": {
     "iopub.execute_input": "2022-09-06T07:39:36.848838Z",
     "iopub.status.busy": "2022-09-06T07:39:36.848560Z",
     "iopub.status.idle": "2022-09-06T07:39:37.651438Z",
     "shell.execute_reply": "2022-09-06T07:39:37.650811Z"
    }
   },
   "outputs": [
    {
     "data": {
      "text/plain": [
       "<AxesSubplot:xlabel='v0'>"
      ]
     },
     "execution_count": 3,
     "metadata": {},
     "output_type": "execute_result"
    },
    {
     "data": {
      "image/png": "[encoded data removed]",
      "text/plain": [
       "<Figure size 640x480 with 1 Axes>"
      ]
     },
     "metadata": {},
     "output_type": "display_data"
    }
   ],
   "source": [
    "# data['df'] is just a regular pandas.DataFrame\n",
    "df.causal.do(x=treatment,\n",
    "                     variable_types={treatment: 'b', outcome: 'c', common_cause: 'c'},\n",
    "                     outcome=outcome,\n",
    "                     common_causes=[common_cause],\n",
    "                     proceed_when_unidentifiable=True).groupby(treatment).mean().plot(y=outcome, kind='bar')"
   ]
  },
  {
   "cell_type": "code",
   "execution_count": 4,
   "metadata": {
    "execution": {
     "iopub.execute_input": "2022-09-06T07:39:37.655656Z",
     "iopub.status.busy": "2022-09-06T07:39:37.654510Z",
     "iopub.status.idle": "2022-09-06T07:39:37.770651Z",
     "shell.execute_reply": "2022-09-06T07:39:37.770072Z"
    }
   },
   "outputs": [
    {
     "data": {
      "text/plain": [
       "<AxesSubplot:xlabel='v0'>"
      ]
     },
     "execution_count": 4,
     "metadata": {},
     "output_type": "execute_result"
    },
    {
     "data": {
      "image/png": "[encoded data removed]",
      "text/plain": [
       "<Figure size 640x480 with 1 Axes>"
      ]
     },
     "metadata": {},
     "output_type": "display_data"
    }
   ],
   "source": [
    "df.causal.do(x={treatment: 1}, \n",
    "              variable_types={treatment:'b', outcome: 'c', common_cause: 'c'}, \n",
    "              outcome=outcome,\n",
    "              method='weighting', \n",
    "              common_causes=[common_cause],\n",
    "              proceed_when_unidentifiable=True).groupby(treatment).mean().plot(y=outcome, kind='bar')"
   ]
  },
  {
   "cell_type": "code",
   "execution_count": 5,
   "metadata": {
    "execution": {
     "iopub.execute_input": "2022-09-06T07:39:37.775209Z",
     "iopub.status.busy": "2022-09-06T07:39:37.774196Z",
     "iopub.status.idle": "2022-09-06T07:39:37.806879Z",
     "shell.execute_reply": "2022-09-06T07:39:37.806254Z"
    }
   },
   "outputs": [],
   "source": [
    "cdf_1 = df.causal.do(x={treatment: 1}, \n",
    "              variable_types={treatment: 'b', outcome: 'c', common_cause: 'c'}, \n",
    "              outcome=outcome, \n",
    "              dot_graph=data['dot_graph'],\n",
    "              proceed_when_unidentifiable=True)\n",
    "\n",
    "cdf_0 = df.causal.do(x={treatment: 0}, \n",
    "              variable_types={treatment: 'b', outcome: 'c', common_cause: 'c'}, \n",
    "              outcome=outcome, \n",
    "              dot_graph=data['dot_graph'],\n",
    "              proceed_when_unidentifiable=True)\n"
   ]
  },
  {
   "cell_type": "code",
   "execution_count": 6,
   "metadata": {
    "execution": {
     "iopub.execute_input": "2022-09-06T07:39:37.810617Z",
     "iopub.status.busy": "2022-09-06T07:39:37.810251Z",
     "iopub.status.idle": "2022-09-06T07:39:37.822028Z",
     "shell.execute_reply": "2022-09-06T07:39:37.821411Z"
    },
    "scrolled": true
   },
   "outputs": [
    {
     "data": {
      "text/html": [
       "<div>\n",
       "<style scoped>\n",
       "    .dataframe tbody tr th:only-of-type {\n",
       "        vertical-align: middle;\n",
       "    }\n",
       "\n",
       "    .dataframe tbody tr th {\n",
       "        vertical-align: top;\n",
       "    }\n",
       "\n",
       "    .dataframe thead th {\n",
       "        text-align: right;\n",
       "    }\n",
       "</style>\n",
       "<table border=\"1\" class=\"dataframe\">\n",
       "  <thead>\n",
       "    <tr style=\"text-align: right;\">\n",
       "      <th></th>\n",
       "      <th>W0</th>\n",
       "      <th>v0</th>\n",
       "      <th>y</th>\n",
       "      <th>propensity_score</th>\n",
       "      <th>weight</th>\n",
       "    </tr>\n",
       "  </thead>\n",
       "  <tbody>\n",
       "    <tr>\n",
       "      <th>0</th>\n",
       "      <td>2.969143</td>\n",
       "      <td>False</td>\n",
       "      <td>6.856161</td>\n",
       "      <td>0.354589</td>\n",
       "      <td>2.820163</td>\n",
       "    </tr>\n",
       "    <tr>\n",
       "      <th>1</th>\n",
       "      <td>0.565090</td>\n",
       "      <td>False</td>\n",
       "      <td>1.839057</td>\n",
       "      <td>0.461866</td>\n",
       "      <td>2.165130</td>\n",
       "    </tr>\n",
       "    <tr>\n",
       "      <th>2</th>\n",
       "      <td>1.197786</td>\n",
       "      <td>False</td>\n",
       "      <td>2.435378</td>\n",
       "      <td>0.432849</td>\n",
       "      <td>2.310272</td>\n",
       "    </tr>\n",
       "    <tr>\n",
       "      <th>3</th>\n",
       "      <td>2.833821</td>\n",
       "      <td>False</td>\n",
       "      <td>5.571488</td>\n",
       "      <td>0.360357</td>\n",
       "      <td>2.775027</td>\n",
       "    </tr>\n",
       "    <tr>\n",
       "      <th>4</th>\n",
       "      <td>1.534570</td>\n",
       "      <td>False</td>\n",
       "      <td>2.536291</td>\n",
       "      <td>0.417577</td>\n",
       "      <td>2.394768</td>\n",
       "    </tr>\n",
       "    <tr>\n",
       "      <th>...</th>\n",
       "      <td>...</td>\n",
       "      <td>...</td>\n",
       "      <td>...</td>\n",
       "      <td>...</td>\n",
       "      <td>...</td>\n",
       "    </tr>\n",
       "    <tr>\n",
       "      <th>995</th>\n",
       "      <td>-0.315777</td>\n",
       "      <td>False</td>\n",
       "      <td>-1.011258</td>\n",
       "      <td>0.502655</td>\n",
       "      <td>1.989436</td>\n",
       "    </tr>\n",
       "    <tr>\n",
       "      <th>996</th>\n",
       "      <td>0.193352</td>\n",
       "      <td>False</td>\n",
       "      <td>2.191477</td>\n",
       "      <td>0.479049</td>\n",
       "      <td>2.087469</td>\n",
       "    </tr>\n",
       "    <tr>\n",
       "      <th>997</th>\n",
       "      <td>0.612662</td>\n",
       "      <td>False</td>\n",
       "      <td>-0.217551</td>\n",
       "      <td>0.459673</td>\n",
       "      <td>2.175460</td>\n",
       "    </tr>\n",
       "    <tr>\n",
       "      <th>998</th>\n",
       "      <td>-0.137592</td>\n",
       "      <td>False</td>\n",
       "      <td>-1.162013</td>\n",
       "      <td>0.494389</td>\n",
       "      <td>2.022697</td>\n",
       "    </tr>\n",
       "    <tr>\n",
       "      <th>999</th>\n",
       "      <td>1.512870</td>\n",
       "      <td>False</td>\n",
       "      <td>3.480601</td>\n",
       "      <td>0.418557</td>\n",
       "      <td>2.389163</td>\n",
       "    </tr>\n",
       "  </tbody>\n",
       "</table>\n",
       "<p>1000 rows × 5 columns</p>\n",
       "</div>"
      ],
      "text/plain": [
       "           W0     v0         y  propensity_score    weight\n",
       "0    2.969143  False  6.856161          0.354589  2.820163\n",
       "1    0.565090  False  1.839057          0.461866  2.165130\n",
       "2    1.197786  False  2.435378          0.432849  2.310272\n",
       "3    2.833821  False  5.571488          0.360357  2.775027\n",
       "4    1.534570  False  2.536291          0.417577  2.394768\n",
       "..        ...    ...       ...               ...       ...\n",
       "995 -0.315777  False -1.011258          0.502655  1.989436\n",
       "996  0.193352  False  2.191477          0.479049  2.087469\n",
       "997  0.612662  False -0.217551          0.459673  2.175460\n",
       "998 -0.137592  False -1.162013          0.494389  2.022697\n",
       "999  1.512870  False  3.480601          0.418557  2.389163\n",
       "\n",
       "[1000 rows x 5 columns]"
      ]
     },
     "execution_count": 6,
     "metadata": {},
     "output_type": "execute_result"
    }
   ],
   "source": [
    "cdf_0"
   ]
  },
  {
   "cell_type": "code",
   "execution_count": 7,
   "metadata": {
    "execution": {
     "iopub.execute_input": "2022-09-06T07:39:37.825077Z",
     "iopub.status.busy": "2022-09-06T07:39:37.824618Z",
     "iopub.status.idle": "2022-09-06T07:39:37.836726Z",
     "shell.execute_reply": "2022-09-06T07:39:37.836132Z"
    }
   },
   "outputs": [
    {
     "data": {
      "text/html": [
       "<div>\n",
       "<style scoped>\n",
       "    .dataframe tbody tr th:only-of-type {\n",
       "        vertical-align: middle;\n",
       "    }\n",
       "\n",
       "    .dataframe tbody tr th {\n",
       "        vertical-align: top;\n",
       "    }\n",
       "\n",
       "    .dataframe thead th {\n",
       "        text-align: right;\n",
       "    }\n",
       "</style>\n",
       "<table border=\"1\" class=\"dataframe\">\n",
       "  <thead>\n",
       "    <tr style=\"text-align: right;\">\n",
       "      <th></th>\n",
       "      <th>W0</th>\n",
       "      <th>v0</th>\n",
       "      <th>y</th>\n",
       "      <th>propensity_score</th>\n",
       "      <th>weight</th>\n",
       "    </tr>\n",
       "  </thead>\n",
       "  <tbody>\n",
       "    <tr>\n",
       "      <th>0</th>\n",
       "      <td>0.974735</td>\n",
       "      <td>True</td>\n",
       "      <td>6.709170</td>\n",
       "      <td>0.556963</td>\n",
       "      <td>1.795451</td>\n",
       "    </tr>\n",
       "    <tr>\n",
       "      <th>1</th>\n",
       "      <td>-0.171980</td>\n",
       "      <td>True</td>\n",
       "      <td>5.765789</td>\n",
       "      <td>0.504016</td>\n",
       "      <td>1.984066</td>\n",
       "    </tr>\n",
       "    <tr>\n",
       "      <th>2</th>\n",
       "      <td>4.434407</td>\n",
       "      <td>True</td>\n",
       "      <td>13.700631</td>\n",
       "      <td>0.704916</td>\n",
       "      <td>1.418609</td>\n",
       "    </tr>\n",
       "    <tr>\n",
       "      <th>3</th>\n",
       "      <td>0.282246</td>\n",
       "      <td>True</td>\n",
       "      <td>4.463726</td>\n",
       "      <td>0.525066</td>\n",
       "      <td>1.904522</td>\n",
       "    </tr>\n",
       "    <tr>\n",
       "      <th>4</th>\n",
       "      <td>0.376999</td>\n",
       "      <td>True</td>\n",
       "      <td>4.642779</td>\n",
       "      <td>0.529448</td>\n",
       "      <td>1.888758</td>\n",
       "    </tr>\n",
       "    <tr>\n",
       "      <th>...</th>\n",
       "      <td>...</td>\n",
       "      <td>...</td>\n",
       "      <td>...</td>\n",
       "      <td>...</td>\n",
       "      <td>...</td>\n",
       "    </tr>\n",
       "    <tr>\n",
       "      <th>995</th>\n",
       "      <td>1.428217</td>\n",
       "      <td>True</td>\n",
       "      <td>7.036380</td>\n",
       "      <td>0.577616</td>\n",
       "      <td>1.731255</td>\n",
       "    </tr>\n",
       "    <tr>\n",
       "      <th>996</th>\n",
       "      <td>-1.505856</td>\n",
       "      <td>True</td>\n",
       "      <td>2.195899</td>\n",
       "      <td>0.442394</td>\n",
       "      <td>2.260427</td>\n",
       "    </tr>\n",
       "    <tr>\n",
       "      <th>997</th>\n",
       "      <td>-0.041601</td>\n",
       "      <td>True</td>\n",
       "      <td>6.752587</td>\n",
       "      <td>0.510062</td>\n",
       "      <td>1.960544</td>\n",
       "    </tr>\n",
       "    <tr>\n",
       "      <th>998</th>\n",
       "      <td>1.259415</td>\n",
       "      <td>True</td>\n",
       "      <td>9.350940</td>\n",
       "      <td>0.569956</td>\n",
       "      <td>1.754522</td>\n",
       "    </tr>\n",
       "    <tr>\n",
       "      <th>999</th>\n",
       "      <td>0.008220</td>\n",
       "      <td>True</td>\n",
       "      <td>5.934386</td>\n",
       "      <td>0.512373</td>\n",
       "      <td>1.951705</td>\n",
       "    </tr>\n",
       "  </tbody>\n",
       "</table>\n",
       "<p>1000 rows × 5 columns</p>\n",
       "</div>"
      ],
      "text/plain": [
       "           W0    v0          y  propensity_score    weight\n",
       "0    0.974735  True   6.709170          0.556963  1.795451\n",
       "1   -0.171980  True   5.765789          0.504016  1.984066\n",
       "2    4.434407  True  13.700631          0.704916  1.418609\n",
       "3    0.282246  True   4.463726          0.525066  1.904522\n",
       "4    0.376999  True   4.642779          0.529448  1.888758\n",
       "..        ...   ...        ...               ...       ...\n",
       "995  1.428217  True   7.036380          0.577616  1.731255\n",
       "996 -1.505856  True   2.195899          0.442394  2.260427\n",
       "997 -0.041601  True   6.752587          0.510062  1.960544\n",
       "998  1.259415  True   9.350940          0.569956  1.754522\n",
       "999  0.008220  True   5.934386          0.512373  1.951705\n",
       "\n",
       "[1000 rows x 5 columns]"
      ]
     },
     "execution_count": 7,
     "metadata": {},
     "output_type": "execute_result"
    }
   ],
   "source": [
    "cdf_1"
   ]
  },
  {
   "cell_type": "markdown",
   "metadata": {},
   "source": [
    "## Comparing the estimate to Linear Regression\n",
    "First, estimating the effect using the causal data frame, and the 95% confidence interval."
   ]
  },
  {
   "cell_type": "code",
   "execution_count": 8,
   "metadata": {
    "execution": {
     "iopub.execute_input": "2022-09-06T07:39:37.839816Z",
     "iopub.status.busy": "2022-09-06T07:39:37.839221Z",
     "iopub.status.idle": "2022-09-06T07:39:37.940661Z",
     "shell.execute_reply": "2022-09-06T07:39:37.940000Z"
    }
   },
   "outputs": [
    {
     "data": {
      "image/png": "[encoded data removed]",
      "text/latex": [
       "$\\displaystyle 4.90100488845862$"
      ],
      "text/plain": [
       "4.9010048884586155"
      ]
     },
     "execution_count": 8,
     "metadata": {},
     "output_type": "execute_result"
    }
   ],
   "source": [
    "(cdf_1['y'] - cdf_0['y']).mean()"
   ]
  },
  {
   "cell_type": "code",
   "execution_count": 9,
   "metadata": {
    "execution": {
     "iopub.execute_input": "2022-09-06T07:39:37.944288Z",
     "iopub.status.busy": "2022-09-06T07:39:37.943713Z",
     "iopub.status.idle": "2022-09-06T07:39:37.971635Z",
     "shell.execute_reply": "2022-09-06T07:39:37.970997Z"
    }
   },
   "outputs": [
    {
     "data": {
      "image/png": "[encoded data removed]",
      "text/latex": [
       "$\\displaystyle 0.189726771817714$"
      ],
      "text/plain": [
       "0.18972677181771375"
      ]
     },
     "execution_count": 9,
     "metadata": {},
     "output_type": "execute_result"
    }
   ],
   "source": [
    "1.96*(cdf_1['y'] - cdf_0['y']).std() / np.sqrt(len(df))"
   ]
  },
  {
   "cell_type": "markdown",
   "metadata": {},
   "source": [
    "Comparing to the estimate from OLS."
   ]
  },
  {
   "cell_type": "code",
   "execution_count": 10,
   "metadata": {
    "execution": {
     "iopub.execute_input": "2022-09-06T07:39:37.974741Z",
     "iopub.status.busy": "2022-09-06T07:39:37.974490Z",
     "iopub.status.idle": "2022-09-06T07:39:37.992008Z",
     "shell.execute_reply": "2022-09-06T07:39:37.991414Z"
    }
   },
   "outputs": [
    {
     "data": {
      "text/html": [
       "<table class=\"simpletable\">\n",
       "<caption>OLS Regression Results</caption>\n",
       "<tr>\n",
       "  <th>Dep. Variable:</th>            <td>y</td>        <th>  R-squared (uncentered):</th>      <td>   0.967</td> \n",
       "</tr>\n",
       "<tr>\n",
       "  <th>Model:</th>                   <td>OLS</td>       <th>  Adj. R-squared (uncentered):</th> <td>   0.967</td> \n",
       "</tr>\n",
       "<tr>\n",
       "  <th>Method:</th>             <td>Least Squares</td>  <th>  F-statistic:       </th>          <td>1.470e+04</td>\n",
       "</tr>\n",
       "<tr>\n",
       "  <th>Date:</th>             <td>Tue, 06 Sep 2022</td> <th>  Prob (F-statistic):</th>           <td>  0.00</td>  \n",
       "</tr>\n",
       "<tr>\n",
       "  <th>Time:</th>                 <td>07:39:37</td>     <th>  Log-Likelihood:    </th>          <td> -1450.4</td> \n",
       "</tr>\n",
       "<tr>\n",
       "  <th>No. Observations:</th>      <td>  1000</td>      <th>  AIC:               </th>          <td>   2905.</td> \n",
       "</tr>\n",
       "<tr>\n",
       "  <th>Df Residuals:</th>          <td>   998</td>      <th>  BIC:               </th>          <td>   2915.</td> \n",
       "</tr>\n",
       "<tr>\n",
       "  <th>Df Model:</th>              <td>     2</td>      <th>                     </th>              <td> </td>    \n",
       "</tr>\n",
       "<tr>\n",
       "  <th>Covariance Type:</th>      <td>nonrobust</td>    <th>                     </th>              <td> </td>    \n",
       "</tr>\n",
       "</table>\n",
       "<table class=\"simpletable\">\n",
       "<tr>\n",
       "   <td></td>     <th>coef</th>     <th>std err</th>      <th>t</th>      <th>P>|t|</th>  <th>[0.025</th>    <th>0.975]</th>  \n",
       "</tr>\n",
       "<tr>\n",
       "  <th>x1</th> <td>    1.8639</td> <td>    0.029</td> <td>   64.441</td> <td> 0.000</td> <td>    1.807</td> <td>    1.921</td>\n",
       "</tr>\n",
       "<tr>\n",
       "  <th>x2</th> <td>    5.0195</td> <td>    0.053</td> <td>   94.407</td> <td> 0.000</td> <td>    4.915</td> <td>    5.124</td>\n",
       "</tr>\n",
       "</table>\n",
       "<table class=\"simpletable\">\n",
       "<tr>\n",
       "  <th>Omnibus:</th>       <td> 1.627</td> <th>  Durbin-Watson:     </th> <td>   2.034</td>\n",
       "</tr>\n",
       "<tr>\n",
       "  <th>Prob(Omnibus):</th> <td> 0.443</td> <th>  Jarque-Bera (JB):  </th> <td>   1.589</td>\n",
       "</tr>\n",
       "<tr>\n",
       "  <th>Skew:</th>          <td> 0.036</td> <th>  Prob(JB):          </th> <td>   0.452</td>\n",
       "</tr>\n",
       "<tr>\n",
       "  <th>Kurtosis:</th>      <td> 2.818</td> <th>  Cond. No.          </th> <td>    2.49</td>\n",
       "</tr>\n",
       "</table><br/><br/>Notes:<br/>[1] R² is computed without centering (uncentered) since the model does not contain a constant.<br/>[2] Standard Errors assume that the covariance matrix of the errors is correctly specified."
      ],
      "text/plain": [
       "<class 'statsmodels.iolib.summary.Summary'>\n",
       "\"\"\"\n",
       "                                 OLS Regression Results                                \n",
       "=======================================================================================\n",
       "Dep. Variable:                      y   R-squared (uncentered):                   0.967\n",
       "Model:                            OLS   Adj. R-squared (uncentered):              0.967\n",
       "Method:                 Least Squares   F-statistic:                          1.470e+04\n",
       "Date:                Tue, 06 Sep 2022   Prob (F-statistic):                        0.00\n",
       "Time:                        07:39:37   Log-Likelihood:                         -1450.4\n",
       "No. Observations:                1000   AIC:                                      2905.\n",
       "Df Residuals:                     998   BIC:                                      2915.\n",
       "Df Model:                           2                                                  \n",
       "Covariance Type:            nonrobust                                                  \n",
       "==============================================================================\n",
       "                 coef    std err          t      P>|t|      [0.025      0.975]\n",
       "------------------------------------------------------------------------------\n",
       "x1             1.8639      0.029     64.441      0.000       1.807       1.921\n",
       "x2             5.0195      0.053     94.407      0.000       4.915       5.124\n",
       "==============================================================================\n",
       "Omnibus:                        1.627   Durbin-Watson:                   2.034\n",
       "Prob(Omnibus):                  0.443   Jarque-Bera (JB):                1.589\n",
       "Skew:                           0.036   Prob(JB):                        0.452\n",
       "Kurtosis:                       2.818   Cond. No.                         2.49\n",
       "==============================================================================\n",
       "\n",
       "Notes:\n",
       "[1] R² is computed without centering (uncentered) since the model does not contain a constant.\n",
       "[2] Standard Errors assume that the covariance matrix of the errors is correctly specified.\n",
       "\"\"\""
      ]
     },
     "execution_count": 10,
     "metadata": {},
     "output_type": "execute_result"
    }
   ],
   "source": [
    "model = OLS(np.asarray(df[outcome]), np.asarray(df[[common_cause, treatment]], dtype=np.float64))\n",
    "result = model.fit()\n",
    "result.summary()"
   ]
  }
 ],
 "metadata": {
  "kernelspec": {
   "display_name": "Python 3",
   "language": "python",
   "name": "python3"
  },
  "language_info": {
   "codemirror_mode": {
    "name": "ipython",
    "version": 3
   },
   "file_extension": ".py",
   "mimetype": "text/x-python",
   "name": "python",
   "nbconvert_exporter": "python",
   "pygments_lexer": "ipython3",
   "version": "3.8.10"
  },
  "toc": {
   "base_numbering": 1,
   "nav_menu": {},
   "number_sections": false,
   "sideBar": true,
   "skip_h1_title": true,
   "title_cell": "Table of Contents",
   "title_sidebar": "Contents",
   "toc_cell": false,
   "toc_position": {},
   "toc_section_display": true,
   "toc_window_display": false
  }
 },
 "nbformat": 4,
 "nbformat_minor": 4
}
