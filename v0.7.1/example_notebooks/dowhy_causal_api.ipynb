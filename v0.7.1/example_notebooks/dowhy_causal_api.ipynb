{
 "cells": [
  {
   "cell_type": "markdown",
   "metadata": {},
   "source": [
    "# Demo for the DoWhy causal API\n",
    "We show a simple example of adding a causal extension to any dataframe. "
   ]
  },
  {
   "cell_type": "code",
   "execution_count": 1,
   "metadata": {
    "execution": {
     "iopub.execute_input": "2022-07-28T11:27:25.881769Z",
     "iopub.status.busy": "2022-07-28T11:27:25.881247Z",
     "iopub.status.idle": "2022-07-28T11:27:26.965048Z",
     "shell.execute_reply": "2022-07-28T11:27:26.964093Z"
    }
   },
   "outputs": [
    {
     "name": "stdout",
     "output_type": "stream",
     "text": [
      "keywords are unexpanded, not using\n"
     ]
    }
   ],
   "source": [
    "import dowhy.datasets\n",
    "import dowhy.api\n",
    "\n",
    "import numpy as np\n",
    "import pandas as pd\n",
    "\n",
    "from statsmodels.api import OLS"
   ]
  },
  {
   "cell_type": "code",
   "execution_count": 2,
   "metadata": {
    "execution": {
     "iopub.execute_input": "2022-07-28T11:27:26.968449Z",
     "iopub.status.busy": "2022-07-28T11:27:26.967975Z",
     "iopub.status.idle": "2022-07-28T11:27:27.011601Z",
     "shell.execute_reply": "2022-07-28T11:27:27.011066Z"
    }
   },
   "outputs": [
    {
     "data": {
      "text/html": [
       "<div>\n",
       "<style scoped>\n",
       "    .dataframe tbody tr th:only-of-type {\n",
       "        vertical-align: middle;\n",
       "    }\n",
       "\n",
       "    .dataframe tbody tr th {\n",
       "        vertical-align: top;\n",
       "    }\n",
       "\n",
       "    .dataframe thead th {\n",
       "        text-align: right;\n",
       "    }\n",
       "</style>\n",
       "<table border=\"1\" class=\"dataframe\">\n",
       "  <thead>\n",
       "    <tr style=\"text-align: right;\">\n",
       "      <th></th>\n",
       "      <th>W0</th>\n",
       "      <th>v0</th>\n",
       "      <th>y</th>\n",
       "    </tr>\n",
       "  </thead>\n",
       "  <tbody>\n",
       "    <tr>\n",
       "      <th>0</th>\n",
       "      <td>-0.263593</td>\n",
       "      <td>True</td>\n",
       "      <td>1.876312</td>\n",
       "    </tr>\n",
       "    <tr>\n",
       "      <th>1</th>\n",
       "      <td>-0.361264</td>\n",
       "      <td>True</td>\n",
       "      <td>3.708552</td>\n",
       "    </tr>\n",
       "    <tr>\n",
       "      <th>2</th>\n",
       "      <td>0.525572</td>\n",
       "      <td>True</td>\n",
       "      <td>8.146120</td>\n",
       "    </tr>\n",
       "    <tr>\n",
       "      <th>3</th>\n",
       "      <td>-0.112829</td>\n",
       "      <td>False</td>\n",
       "      <td>-2.109046</td>\n",
       "    </tr>\n",
       "    <tr>\n",
       "      <th>4</th>\n",
       "      <td>2.072042</td>\n",
       "      <td>True</td>\n",
       "      <td>10.486636</td>\n",
       "    </tr>\n",
       "    <tr>\n",
       "      <th>...</th>\n",
       "      <td>...</td>\n",
       "      <td>...</td>\n",
       "      <td>...</td>\n",
       "    </tr>\n",
       "    <tr>\n",
       "      <th>995</th>\n",
       "      <td>-0.787383</td>\n",
       "      <td>True</td>\n",
       "      <td>3.329039</td>\n",
       "    </tr>\n",
       "    <tr>\n",
       "      <th>996</th>\n",
       "      <td>-1.578743</td>\n",
       "      <td>False</td>\n",
       "      <td>-4.134269</td>\n",
       "    </tr>\n",
       "    <tr>\n",
       "      <th>997</th>\n",
       "      <td>-1.982020</td>\n",
       "      <td>False</td>\n",
       "      <td>-6.911079</td>\n",
       "    </tr>\n",
       "    <tr>\n",
       "      <th>998</th>\n",
       "      <td>0.384310</td>\n",
       "      <td>False</td>\n",
       "      <td>2.430874</td>\n",
       "    </tr>\n",
       "    <tr>\n",
       "      <th>999</th>\n",
       "      <td>0.312420</td>\n",
       "      <td>False</td>\n",
       "      <td>2.363063</td>\n",
       "    </tr>\n",
       "  </tbody>\n",
       "</table>\n",
       "<p>1000 rows × 3 columns</p>\n",
       "</div>"
      ],
      "text/plain": [
       "           W0     v0          y\n",
       "0   -0.263593   True   1.876312\n",
       "1   -0.361264   True   3.708552\n",
       "2    0.525572   True   8.146120\n",
       "3   -0.112829  False  -2.109046\n",
       "4    2.072042   True  10.486636\n",
       "..        ...    ...        ...\n",
       "995 -0.787383   True   3.329039\n",
       "996 -1.578743  False  -4.134269\n",
       "997 -1.982020  False  -6.911079\n",
       "998  0.384310  False   2.430874\n",
       "999  0.312420  False   2.363063\n",
       "\n",
       "[1000 rows x 3 columns]"
      ]
     },
     "execution_count": 2,
     "metadata": {},
     "output_type": "execute_result"
    }
   ],
   "source": [
    "data = dowhy.datasets.linear_dataset(beta=5,\n",
    "        num_common_causes=1,\n",
    "        num_instruments = 0,\n",
    "        num_samples=1000,\n",
    "        treatment_is_binary=True)\n",
    "df = data['df']\n",
    "df['y'] = df['y'] + np.random.normal(size=len(df)) # Adding noise to data. Without noise, the variance in Y|X, Z is zero, and mcmc fails.\n",
    "#data['dot_graph'] = 'digraph { v ->y;X0-> v;X0-> y;}'\n",
    "\n",
    "treatment= data[\"treatment_name\"][0]\n",
    "outcome = data[\"outcome_name\"][0]\n",
    "common_cause = data[\"common_causes_names\"][0]\n",
    "df"
   ]
  },
  {
   "cell_type": "code",
   "execution_count": 3,
   "metadata": {
    "execution": {
     "iopub.execute_input": "2022-07-28T11:27:27.014279Z",
     "iopub.status.busy": "2022-07-28T11:27:27.014073Z",
     "iopub.status.idle": "2022-07-28T11:27:27.739142Z",
     "shell.execute_reply": "2022-07-28T11:27:27.738596Z"
    }
   },
   "outputs": [
    {
     "data": {
      "text/plain": [
       "<AxesSubplot:xlabel='v0'>"
      ]
     },
     "execution_count": 3,
     "metadata": {},
     "output_type": "execute_result"
    },
    {
     "data": {
      "image/png": "[encoded data removed]",
      "text/plain": [
       "<Figure size 432x288 with 1 Axes>"
      ]
     },
     "metadata": {
      "needs_background": "light"
     },
     "output_type": "display_data"
    }
   ],
   "source": [
    "# data['df'] is just a regular pandas.DataFrame\n",
    "df.causal.do(x=treatment,\n",
    "                     variable_types={treatment: 'b', outcome: 'c', common_cause: 'c'},\n",
    "                     outcome=outcome,\n",
    "                     common_causes=[common_cause],\n",
    "                     proceed_when_unidentifiable=True).groupby(treatment).mean().plot(y=outcome, kind='bar')"
   ]
  },
  {
   "cell_type": "code",
   "execution_count": 4,
   "metadata": {
    "execution": {
     "iopub.execute_input": "2022-07-28T11:27:27.743142Z",
     "iopub.status.busy": "2022-07-28T11:27:27.742073Z",
     "iopub.status.idle": "2022-07-28T11:27:27.830069Z",
     "shell.execute_reply": "2022-07-28T11:27:27.829551Z"
    }
   },
   "outputs": [
    {
     "data": {
      "text/plain": [
       "<AxesSubplot:xlabel='v0'>"
      ]
     },
     "execution_count": 4,
     "metadata": {},
     "output_type": "execute_result"
    },
    {
     "data": {
      "image/png": "[encoded data removed]",
      "text/plain": [
       "<Figure size 432x288 with 1 Axes>"
      ]
     },
     "metadata": {
      "needs_background": "light"
     },
     "output_type": "display_data"
    }
   ],
   "source": [
    "df.causal.do(x={treatment: 1}, \n",
    "              variable_types={treatment:'b', outcome: 'c', common_cause: 'c'}, \n",
    "              outcome=outcome,\n",
    "              method='weighting', \n",
    "              common_causes=[common_cause],\n",
    "              proceed_when_unidentifiable=True).groupby(treatment).mean().plot(y=outcome, kind='bar')"
   ]
  },
  {
   "cell_type": "code",
   "execution_count": 5,
   "metadata": {
    "execution": {
     "iopub.execute_input": "2022-07-28T11:27:27.834039Z",
     "iopub.status.busy": "2022-07-28T11:27:27.833082Z",
     "iopub.status.idle": "2022-07-28T11:27:27.864258Z",
     "shell.execute_reply": "2022-07-28T11:27:27.863750Z"
    }
   },
   "outputs": [],
   "source": [
    "cdf_1 = df.causal.do(x={treatment: 1}, \n",
    "              variable_types={treatment: 'b', outcome: 'c', common_cause: 'c'}, \n",
    "              outcome=outcome, \n",
    "              dot_graph=data['dot_graph'],\n",
    "              proceed_when_unidentifiable=True)\n",
    "\n",
    "cdf_0 = df.causal.do(x={treatment: 0}, \n",
    "              variable_types={treatment: 'b', outcome: 'c', common_cause: 'c'}, \n",
    "              outcome=outcome, \n",
    "              dot_graph=data['dot_graph'],\n",
    "              proceed_when_unidentifiable=True)\n"
   ]
  },
  {
   "cell_type": "code",
   "execution_count": 6,
   "metadata": {
    "execution": {
     "iopub.execute_input": "2022-07-28T11:27:27.868166Z",
     "iopub.status.busy": "2022-07-28T11:27:27.867196Z",
     "iopub.status.idle": "2022-07-28T11:27:27.879276Z",
     "shell.execute_reply": "2022-07-28T11:27:27.878730Z"
    },
    "scrolled": true
   },
   "outputs": [
    {
     "data": {
      "text/html": [
       "<div>\n",
       "<style scoped>\n",
       "    .dataframe tbody tr th:only-of-type {\n",
       "        vertical-align: middle;\n",
       "    }\n",
       "\n",
       "    .dataframe tbody tr th {\n",
       "        vertical-align: top;\n",
       "    }\n",
       "\n",
       "    .dataframe thead th {\n",
       "        text-align: right;\n",
       "    }\n",
       "</style>\n",
       "<table border=\"1\" class=\"dataframe\">\n",
       "  <thead>\n",
       "    <tr style=\"text-align: right;\">\n",
       "      <th></th>\n",
       "      <th>W0</th>\n",
       "      <th>v0</th>\n",
       "      <th>y</th>\n",
       "      <th>propensity_score</th>\n",
       "      <th>weight</th>\n",
       "    </tr>\n",
       "  </thead>\n",
       "  <tbody>\n",
       "    <tr>\n",
       "      <th>0</th>\n",
       "      <td>0.607058</td>\n",
       "      <td>False</td>\n",
       "      <td>0.857088</td>\n",
       "      <td>0.184376</td>\n",
       "      <td>5.423700</td>\n",
       "    </tr>\n",
       "    <tr>\n",
       "      <th>1</th>\n",
       "      <td>-2.492362</td>\n",
       "      <td>False</td>\n",
       "      <td>-4.688440</td>\n",
       "      <td>0.998596</td>\n",
       "      <td>1.001406</td>\n",
       "    </tr>\n",
       "    <tr>\n",
       "      <th>2</th>\n",
       "      <td>0.867356</td>\n",
       "      <td>False</td>\n",
       "      <td>2.399748</td>\n",
       "      <td>0.103087</td>\n",
       "      <td>9.700589</td>\n",
       "    </tr>\n",
       "    <tr>\n",
       "      <th>3</th>\n",
       "      <td>1.364923</td>\n",
       "      <td>False</td>\n",
       "      <td>4.186749</td>\n",
       "      <td>0.030579</td>\n",
       "      <td>32.701911</td>\n",
       "    </tr>\n",
       "    <tr>\n",
       "      <th>4</th>\n",
       "      <td>-0.604142</td>\n",
       "      <td>False</td>\n",
       "      <td>-3.739017</td>\n",
       "      <td>0.840301</td>\n",
       "      <td>1.190050</td>\n",
       "    </tr>\n",
       "    <tr>\n",
       "      <th>...</th>\n",
       "      <td>...</td>\n",
       "      <td>...</td>\n",
       "      <td>...</td>\n",
       "      <td>...</td>\n",
       "      <td>...</td>\n",
       "    </tr>\n",
       "    <tr>\n",
       "      <th>995</th>\n",
       "      <td>0.818486</td>\n",
       "      <td>False</td>\n",
       "      <td>3.715023</td>\n",
       "      <td>0.115434</td>\n",
       "      <td>8.662936</td>\n",
       "    </tr>\n",
       "    <tr>\n",
       "      <th>996</th>\n",
       "      <td>-1.687469</td>\n",
       "      <td>False</td>\n",
       "      <td>-2.964850</td>\n",
       "      <td>0.988745</td>\n",
       "      <td>1.011383</td>\n",
       "    </tr>\n",
       "    <tr>\n",
       "      <th>997</th>\n",
       "      <td>-0.873907</td>\n",
       "      <td>False</td>\n",
       "      <td>-2.234763</td>\n",
       "      <td>0.913843</td>\n",
       "      <td>1.094280</td>\n",
       "    </tr>\n",
       "    <tr>\n",
       "      <th>998</th>\n",
       "      <td>-0.477506</td>\n",
       "      <td>False</td>\n",
       "      <td>-2.254143</td>\n",
       "      <td>0.791071</td>\n",
       "      <td>1.264109</td>\n",
       "    </tr>\n",
       "    <tr>\n",
       "      <th>999</th>\n",
       "      <td>-1.925865</td>\n",
       "      <td>False</td>\n",
       "      <td>-5.093785</td>\n",
       "      <td>0.993911</td>\n",
       "      <td>1.006127</td>\n",
       "    </tr>\n",
       "  </tbody>\n",
       "</table>\n",
       "<p>1000 rows × 5 columns</p>\n",
       "</div>"
      ],
      "text/plain": [
       "           W0     v0         y  propensity_score     weight\n",
       "0    0.607058  False  0.857088          0.184376   5.423700\n",
       "1   -2.492362  False -4.688440          0.998596   1.001406\n",
       "2    0.867356  False  2.399748          0.103087   9.700589\n",
       "3    1.364923  False  4.186749          0.030579  32.701911\n",
       "4   -0.604142  False -3.739017          0.840301   1.190050\n",
       "..        ...    ...       ...               ...        ...\n",
       "995  0.818486  False  3.715023          0.115434   8.662936\n",
       "996 -1.687469  False -2.964850          0.988745   1.011383\n",
       "997 -0.873907  False -2.234763          0.913843   1.094280\n",
       "998 -0.477506  False -2.254143          0.791071   1.264109\n",
       "999 -1.925865  False -5.093785          0.993911   1.006127\n",
       "\n",
       "[1000 rows x 5 columns]"
      ]
     },
     "execution_count": 6,
     "metadata": {},
     "output_type": "execute_result"
    }
   ],
   "source": [
    "cdf_0"
   ]
  },
  {
   "cell_type": "code",
   "execution_count": 7,
   "metadata": {
    "execution": {
     "iopub.execute_input": "2022-07-28T11:27:27.882177Z",
     "iopub.status.busy": "2022-07-28T11:27:27.881867Z",
     "iopub.status.idle": "2022-07-28T11:27:27.893270Z",
     "shell.execute_reply": "2022-07-28T11:27:27.892732Z"
    }
   },
   "outputs": [
    {
     "data": {
      "text/html": [
       "<div>\n",
       "<style scoped>\n",
       "    .dataframe tbody tr th:only-of-type {\n",
       "        vertical-align: middle;\n",
       "    }\n",
       "\n",
       "    .dataframe tbody tr th {\n",
       "        vertical-align: top;\n",
       "    }\n",
       "\n",
       "    .dataframe thead th {\n",
       "        text-align: right;\n",
       "    }\n",
       "</style>\n",
       "<table border=\"1\" class=\"dataframe\">\n",
       "  <thead>\n",
       "    <tr style=\"text-align: right;\">\n",
       "      <th></th>\n",
       "      <th>W0</th>\n",
       "      <th>v0</th>\n",
       "      <th>y</th>\n",
       "      <th>propensity_score</th>\n",
       "      <th>weight</th>\n",
       "    </tr>\n",
       "  </thead>\n",
       "  <tbody>\n",
       "    <tr>\n",
       "      <th>0</th>\n",
       "      <td>1.720907</td>\n",
       "      <td>True</td>\n",
       "      <td>9.250093</td>\n",
       "      <td>0.987647</td>\n",
       "      <td>1.012507</td>\n",
       "    </tr>\n",
       "    <tr>\n",
       "      <th>1</th>\n",
       "      <td>0.448961</td>\n",
       "      <td>True</td>\n",
       "      <td>5.892829</td>\n",
       "      <td>0.745763</td>\n",
       "      <td>1.340908</td>\n",
       "    </tr>\n",
       "    <tr>\n",
       "      <th>2</th>\n",
       "      <td>-0.335376</td>\n",
       "      <td>True</td>\n",
       "      <td>3.282519</td>\n",
       "      <td>0.276468</td>\n",
       "      <td>3.617058</td>\n",
       "    </tr>\n",
       "    <tr>\n",
       "      <th>3</th>\n",
       "      <td>0.441197</td>\n",
       "      <td>True</td>\n",
       "      <td>7.552130</td>\n",
       "      <td>0.741919</td>\n",
       "      <td>1.347857</td>\n",
       "    </tr>\n",
       "    <tr>\n",
       "      <th>4</th>\n",
       "      <td>0.235424</td>\n",
       "      <td>True</td>\n",
       "      <td>6.981818</td>\n",
       "      <td>0.627438</td>\n",
       "      <td>1.593784</td>\n",
       "    </tr>\n",
       "    <tr>\n",
       "      <th>...</th>\n",
       "      <td>...</td>\n",
       "      <td>...</td>\n",
       "      <td>...</td>\n",
       "      <td>...</td>\n",
       "      <td>...</td>\n",
       "    </tr>\n",
       "    <tr>\n",
       "      <th>995</th>\n",
       "      <td>-0.177180</td>\n",
       "      <td>True</td>\n",
       "      <td>3.757236</td>\n",
       "      <td>0.365642</td>\n",
       "      <td>2.734914</td>\n",
       "    </tr>\n",
       "    <tr>\n",
       "      <th>996</th>\n",
       "      <td>0.469474</td>\n",
       "      <td>True</td>\n",
       "      <td>7.686622</td>\n",
       "      <td>0.755737</td>\n",
       "      <td>1.323212</td>\n",
       "    </tr>\n",
       "    <tr>\n",
       "      <th>997</th>\n",
       "      <td>0.548660</td>\n",
       "      <td>True</td>\n",
       "      <td>6.290465</td>\n",
       "      <td>0.791703</td>\n",
       "      <td>1.263100</td>\n",
       "    </tr>\n",
       "    <tr>\n",
       "      <th>998</th>\n",
       "      <td>-0.641024</td>\n",
       "      <td>True</td>\n",
       "      <td>2.975344</td>\n",
       "      <td>0.147253</td>\n",
       "      <td>6.791037</td>\n",
       "    </tr>\n",
       "    <tr>\n",
       "      <th>999</th>\n",
       "      <td>1.282365</td>\n",
       "      <td>True</td>\n",
       "      <td>7.281169</td>\n",
       "      <td>0.962379</td>\n",
       "      <td>1.039092</td>\n",
       "    </tr>\n",
       "  </tbody>\n",
       "</table>\n",
       "<p>1000 rows × 5 columns</p>\n",
       "</div>"
      ],
      "text/plain": [
       "           W0    v0         y  propensity_score    weight\n",
       "0    1.720907  True  9.250093          0.987647  1.012507\n",
       "1    0.448961  True  5.892829          0.745763  1.340908\n",
       "2   -0.335376  True  3.282519          0.276468  3.617058\n",
       "3    0.441197  True  7.552130          0.741919  1.347857\n",
       "4    0.235424  True  6.981818          0.627438  1.593784\n",
       "..        ...   ...       ...               ...       ...\n",
       "995 -0.177180  True  3.757236          0.365642  2.734914\n",
       "996  0.469474  True  7.686622          0.755737  1.323212\n",
       "997  0.548660  True  6.290465          0.791703  1.263100\n",
       "998 -0.641024  True  2.975344          0.147253  6.791037\n",
       "999  1.282365  True  7.281169          0.962379  1.039092\n",
       "\n",
       "[1000 rows x 5 columns]"
      ]
     },
     "execution_count": 7,
     "metadata": {},
     "output_type": "execute_result"
    }
   ],
   "source": [
    "cdf_1"
   ]
  },
  {
   "cell_type": "markdown",
   "metadata": {},
   "source": [
    "## Comparing the estimate to Linear Regression\n",
    "First, estimating the effect using the causal data frame, and the 95% confidence interval."
   ]
  },
  {
   "cell_type": "code",
   "execution_count": 8,
   "metadata": {
    "execution": {
     "iopub.execute_input": "2022-07-28T11:27:27.896321Z",
     "iopub.status.busy": "2022-07-28T11:27:27.895894Z",
     "iopub.status.idle": "2022-07-28T11:27:27.993779Z",
     "shell.execute_reply": "2022-07-28T11:27:27.993209Z"
    }
   },
   "outputs": [
    {
     "data": {
      "image/png": "[encoded data removed]",
      "text/latex": [
       "$\\displaystyle 5.68991833243919$"
      ],
      "text/plain": [
       "5.689918332439189"
      ]
     },
     "execution_count": 8,
     "metadata": {},
     "output_type": "execute_result"
    }
   ],
   "source": [
    "(cdf_1['y'] - cdf_0['y']).mean()"
   ]
  },
  {
   "cell_type": "code",
   "execution_count": 9,
   "metadata": {
    "execution": {
     "iopub.execute_input": "2022-07-28T11:27:27.996860Z",
     "iopub.status.busy": "2022-07-28T11:27:27.996376Z",
     "iopub.status.idle": "2022-07-28T11:27:28.021760Z",
     "shell.execute_reply": "2022-07-28T11:27:28.021177Z"
    }
   },
   "outputs": [
    {
     "data": {
      "image/png": "[encoded data removed]",
      "text/latex": [
       "$\\displaystyle 0.221700506812208$"
      ],
      "text/plain": [
       "0.22170050681220765"
      ]
     },
     "execution_count": 9,
     "metadata": {},
     "output_type": "execute_result"
    }
   ],
   "source": [
    "1.96*(cdf_1['y'] - cdf_0['y']).std() / np.sqrt(len(df))"
   ]
  },
  {
   "cell_type": "markdown",
   "metadata": {},
   "source": [
    "Comparing to the estimate from OLS."
   ]
  },
  {
   "cell_type": "code",
   "execution_count": 10,
   "metadata": {
    "execution": {
     "iopub.execute_input": "2022-07-28T11:27:28.024647Z",
     "iopub.status.busy": "2022-07-28T11:27:28.024413Z",
     "iopub.status.idle": "2022-07-28T11:27:28.039286Z",
     "shell.execute_reply": "2022-07-28T11:27:28.038710Z"
    }
   },
   "outputs": [
    {
     "data": {
      "text/html": [
       "<table class=\"simpletable\">\n",
       "<caption>OLS Regression Results</caption>\n",
       "<tr>\n",
       "  <th>Dep. Variable:</th>            <td>y</td>        <th>  R-squared (uncentered):</th>      <td>   0.962</td> \n",
       "</tr>\n",
       "<tr>\n",
       "  <th>Model:</th>                   <td>OLS</td>       <th>  Adj. R-squared (uncentered):</th> <td>   0.962</td> \n",
       "</tr>\n",
       "<tr>\n",
       "  <th>Method:</th>             <td>Least Squares</td>  <th>  F-statistic:       </th>          <td>1.257e+04</td>\n",
       "</tr>\n",
       "<tr>\n",
       "  <th>Date:</th>             <td>Thu, 28 Jul 2022</td> <th>  Prob (F-statistic):</th>           <td>  0.00</td>  \n",
       "</tr>\n",
       "<tr>\n",
       "  <th>Time:</th>                 <td>11:27:28</td>     <th>  Log-Likelihood:    </th>          <td> -1422.8</td> \n",
       "</tr>\n",
       "<tr>\n",
       "  <th>No. Observations:</th>      <td>  1000</td>      <th>  AIC:               </th>          <td>   2850.</td> \n",
       "</tr>\n",
       "<tr>\n",
       "  <th>Df Residuals:</th>          <td>   998</td>      <th>  BIC:               </th>          <td>   2859.</td> \n",
       "</tr>\n",
       "<tr>\n",
       "  <th>Df Model:</th>              <td>     2</td>      <th>                     </th>              <td> </td>    \n",
       "</tr>\n",
       "<tr>\n",
       "  <th>Covariance Type:</th>      <td>nonrobust</td>    <th>                     </th>              <td> </td>    \n",
       "</tr>\n",
       "</table>\n",
       "<table class=\"simpletable\">\n",
       "<tr>\n",
       "   <td></td>     <th>coef</th>     <th>std err</th>      <th>t</th>      <th>P>|t|</th>  <th>[0.025</th>    <th>0.975]</th>  \n",
       "</tr>\n",
       "<tr>\n",
       "  <th>x1</th> <td>    2.5425</td> <td>    0.035</td> <td>   72.726</td> <td> 0.000</td> <td>    2.474</td> <td>    2.611</td>\n",
       "</tr>\n",
       "<tr>\n",
       "  <th>x2</th> <td>    4.9501</td> <td>    0.052</td> <td>   95.074</td> <td> 0.000</td> <td>    4.848</td> <td>    5.052</td>\n",
       "</tr>\n",
       "</table>\n",
       "<table class=\"simpletable\">\n",
       "<tr>\n",
       "  <th>Omnibus:</th>       <td> 1.866</td> <th>  Durbin-Watson:     </th> <td>   2.115</td>\n",
       "</tr>\n",
       "<tr>\n",
       "  <th>Prob(Omnibus):</th> <td> 0.393</td> <th>  Jarque-Bera (JB):  </th> <td>   1.753</td>\n",
       "</tr>\n",
       "<tr>\n",
       "  <th>Skew:</th>          <td> 0.023</td> <th>  Prob(JB):          </th> <td>   0.416</td>\n",
       "</tr>\n",
       "<tr>\n",
       "  <th>Kurtosis:</th>      <td> 2.800</td> <th>  Cond. No.          </th> <td>    1.87</td>\n",
       "</tr>\n",
       "</table><br/><br/>Notes:<br/>[1] R² is computed without centering (uncentered) since the model does not contain a constant.<br/>[2] Standard Errors assume that the covariance matrix of the errors is correctly specified."
      ],
      "text/plain": [
       "<class 'statsmodels.iolib.summary.Summary'>\n",
       "\"\"\"\n",
       "                                 OLS Regression Results                                \n",
       "=======================================================================================\n",
       "Dep. Variable:                      y   R-squared (uncentered):                   0.962\n",
       "Model:                            OLS   Adj. R-squared (uncentered):              0.962\n",
       "Method:                 Least Squares   F-statistic:                          1.257e+04\n",
       "Date:                Thu, 28 Jul 2022   Prob (F-statistic):                        0.00\n",
       "Time:                        11:27:28   Log-Likelihood:                         -1422.8\n",
       "No. Observations:                1000   AIC:                                      2850.\n",
       "Df Residuals:                     998   BIC:                                      2859.\n",
       "Df Model:                           2                                                  \n",
       "Covariance Type:            nonrobust                                                  \n",
       "==============================================================================\n",
       "                 coef    std err          t      P>|t|      [0.025      0.975]\n",
       "------------------------------------------------------------------------------\n",
       "x1             2.5425      0.035     72.726      0.000       2.474       2.611\n",
       "x2             4.9501      0.052     95.074      0.000       4.848       5.052\n",
       "==============================================================================\n",
       "Omnibus:                        1.866   Durbin-Watson:                   2.115\n",
       "Prob(Omnibus):                  0.393   Jarque-Bera (JB):                1.753\n",
       "Skew:                           0.023   Prob(JB):                        0.416\n",
       "Kurtosis:                       2.800   Cond. No.                         1.87\n",
       "==============================================================================\n",
       "\n",
       "Notes:\n",
       "[1] R² is computed without centering (uncentered) since the model does not contain a constant.\n",
       "[2] Standard Errors assume that the covariance matrix of the errors is correctly specified.\n",
       "\"\"\""
      ]
     },
     "execution_count": 10,
     "metadata": {},
     "output_type": "execute_result"
    }
   ],
   "source": [
    "model = OLS(np.asarray(df[outcome]), np.asarray(df[[common_cause, treatment]], dtype=np.float64))\n",
    "result = model.fit()\n",
    "result.summary()"
   ]
  }
 ],
 "metadata": {
  "kernelspec": {
   "display_name": "Python 3",
   "language": "python",
   "name": "python3"
  },
  "language_info": {
   "codemirror_mode": {
    "name": "ipython",
    "version": 3
   },
   "file_extension": ".py",
   "mimetype": "text/x-python",
   "name": "python",
   "nbconvert_exporter": "python",
   "pygments_lexer": "ipython3",
   "version": "3.8.10"
  },
  "toc": {
   "base_numbering": 1,
   "nav_menu": {},
   "number_sections": false,
   "sideBar": true,
   "skip_h1_title": true,
   "title_cell": "Table of Contents",
   "title_sidebar": "Contents",
   "toc_cell": false,
   "toc_position": {},
   "toc_section_display": true,
   "toc_window_display": false
  }
 },
 "nbformat": 4,
 "nbformat_minor": 4
}
