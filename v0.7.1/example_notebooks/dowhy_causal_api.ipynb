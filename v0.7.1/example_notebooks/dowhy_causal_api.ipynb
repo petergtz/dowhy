{
 "cells": [
  {
   "cell_type": "markdown",
   "metadata": {},
   "source": [
    "# Demo for the DoWhy causal API\n",
    "We show a simple example of adding a causal extension to any dataframe. "
   ]
  },
  {
   "cell_type": "code",
   "execution_count": 1,
   "metadata": {
    "execution": {
     "iopub.execute_input": "2022-10-19T14:24:20.579563Z",
     "iopub.status.busy": "2022-10-19T14:24:20.579191Z",
     "iopub.status.idle": "2022-10-19T14:24:22.010162Z",
     "shell.execute_reply": "2022-10-19T14:24:22.009599Z"
    }
   },
   "outputs": [],
   "source": [
    "import dowhy.datasets\n",
    "import dowhy.api\n",
    "\n",
    "import numpy as np\n",
    "import pandas as pd\n",
    "\n",
    "from statsmodels.api import OLS"
   ]
  },
  {
   "cell_type": "code",
   "execution_count": 2,
   "metadata": {
    "execution": {
     "iopub.execute_input": "2022-10-19T14:24:22.013859Z",
     "iopub.status.busy": "2022-10-19T14:24:22.012594Z",
     "iopub.status.idle": "2022-10-19T14:24:22.045715Z",
     "shell.execute_reply": "2022-10-19T14:24:22.045199Z"
    }
   },
   "outputs": [
    {
     "data": {
      "text/html": [
       "<div>\n",
       "<style scoped>\n",
       "    .dataframe tbody tr th:only-of-type {\n",
       "        vertical-align: middle;\n",
       "    }\n",
       "\n",
       "    .dataframe tbody tr th {\n",
       "        vertical-align: top;\n",
       "    }\n",
       "\n",
       "    .dataframe thead th {\n",
       "        text-align: right;\n",
       "    }\n",
       "</style>\n",
       "<table border=\"1\" class=\"dataframe\">\n",
       "  <thead>\n",
       "    <tr style=\"text-align: right;\">\n",
       "      <th></th>\n",
       "      <th>W0</th>\n",
       "      <th>v0</th>\n",
       "      <th>y</th>\n",
       "    </tr>\n",
       "  </thead>\n",
       "  <tbody>\n",
       "    <tr>\n",
       "      <th>0</th>\n",
       "      <td>0.998424</td>\n",
       "      <td>False</td>\n",
       "      <td>3.095450</td>\n",
       "    </tr>\n",
       "    <tr>\n",
       "      <th>1</th>\n",
       "      <td>1.403003</td>\n",
       "      <td>False</td>\n",
       "      <td>2.597003</td>\n",
       "    </tr>\n",
       "    <tr>\n",
       "      <th>2</th>\n",
       "      <td>0.674959</td>\n",
       "      <td>True</td>\n",
       "      <td>5.161427</td>\n",
       "    </tr>\n",
       "    <tr>\n",
       "      <th>3</th>\n",
       "      <td>0.712088</td>\n",
       "      <td>True</td>\n",
       "      <td>6.959883</td>\n",
       "    </tr>\n",
       "    <tr>\n",
       "      <th>4</th>\n",
       "      <td>0.224879</td>\n",
       "      <td>True</td>\n",
       "      <td>5.553278</td>\n",
       "    </tr>\n",
       "    <tr>\n",
       "      <th>...</th>\n",
       "      <td>...</td>\n",
       "      <td>...</td>\n",
       "      <td>...</td>\n",
       "    </tr>\n",
       "    <tr>\n",
       "      <th>995</th>\n",
       "      <td>-0.217725</td>\n",
       "      <td>True</td>\n",
       "      <td>5.382402</td>\n",
       "    </tr>\n",
       "    <tr>\n",
       "      <th>996</th>\n",
       "      <td>0.392778</td>\n",
       "      <td>False</td>\n",
       "      <td>0.511274</td>\n",
       "    </tr>\n",
       "    <tr>\n",
       "      <th>997</th>\n",
       "      <td>-0.847266</td>\n",
       "      <td>True</td>\n",
       "      <td>3.229490</td>\n",
       "    </tr>\n",
       "    <tr>\n",
       "      <th>998</th>\n",
       "      <td>0.189334</td>\n",
       "      <td>False</td>\n",
       "      <td>-0.662626</td>\n",
       "    </tr>\n",
       "    <tr>\n",
       "      <th>999</th>\n",
       "      <td>0.321290</td>\n",
       "      <td>True</td>\n",
       "      <td>6.268089</td>\n",
       "    </tr>\n",
       "  </tbody>\n",
       "</table>\n",
       "<p>1000 rows × 3 columns</p>\n",
       "</div>"
      ],
      "text/plain": [
       "           W0     v0         y\n",
       "0    0.998424  False  3.095450\n",
       "1    1.403003  False  2.597003\n",
       "2    0.674959   True  5.161427\n",
       "3    0.712088   True  6.959883\n",
       "4    0.224879   True  5.553278\n",
       "..        ...    ...       ...\n",
       "995 -0.217725   True  5.382402\n",
       "996  0.392778  False  0.511274\n",
       "997 -0.847266   True  3.229490\n",
       "998  0.189334  False -0.662626\n",
       "999  0.321290   True  6.268089\n",
       "\n",
       "[1000 rows x 3 columns]"
      ]
     },
     "execution_count": 2,
     "metadata": {},
     "output_type": "execute_result"
    }
   ],
   "source": [
    "data = dowhy.datasets.linear_dataset(beta=5,\n",
    "        num_common_causes=1,\n",
    "        num_instruments = 0,\n",
    "        num_samples=1000,\n",
    "        treatment_is_binary=True)\n",
    "df = data['df']\n",
    "df['y'] = df['y'] + np.random.normal(size=len(df)) # Adding noise to data. Without noise, the variance in Y|X, Z is zero, and mcmc fails.\n",
    "#data['dot_graph'] = 'digraph { v ->y;X0-> v;X0-> y;}'\n",
    "\n",
    "treatment= data[\"treatment_name\"][0]\n",
    "outcome = data[\"outcome_name\"][0]\n",
    "common_cause = data[\"common_causes_names\"][0]\n",
    "df"
   ]
  },
  {
   "cell_type": "code",
   "execution_count": 3,
   "metadata": {
    "execution": {
     "iopub.execute_input": "2022-10-19T14:24:22.047739Z",
     "iopub.status.busy": "2022-10-19T14:24:22.047538Z",
     "iopub.status.idle": "2022-10-19T14:24:22.191896Z",
     "shell.execute_reply": "2022-10-19T14:24:22.191331Z"
    }
   },
   "outputs": [
    {
     "data": {
      "text/plain": [
       "<AxesSubplot: xlabel='v0'>"
      ]
     },
     "execution_count": 3,
     "metadata": {},
     "output_type": "execute_result"
    },
    {
     "data": {
      "image/png": "[encoded data removed]",
      "text/plain": [
       "<Figure size 640x480 with 1 Axes>"
      ]
     },
     "metadata": {},
     "output_type": "display_data"
    }
   ],
   "source": [
    "# data['df'] is just a regular pandas.DataFrame\n",
    "df.causal.do(x=treatment,\n",
    "                     variable_types={treatment: 'b', outcome: 'c', common_cause: 'c'},\n",
    "                     outcome=outcome,\n",
    "                     common_causes=[common_cause],\n",
    "                     proceed_when_unidentifiable=True).groupby(treatment).mean().plot(y=outcome, kind='bar')"
   ]
  },
  {
   "cell_type": "code",
   "execution_count": 4,
   "metadata": {
    "execution": {
     "iopub.execute_input": "2022-10-19T14:24:22.194917Z",
     "iopub.status.busy": "2022-10-19T14:24:22.194456Z",
     "iopub.status.idle": "2022-10-19T14:24:22.312681Z",
     "shell.execute_reply": "2022-10-19T14:24:22.312132Z"
    }
   },
   "outputs": [
    {
     "data": {
      "text/plain": [
       "<AxesSubplot: xlabel='v0'>"
      ]
     },
     "execution_count": 4,
     "metadata": {},
     "output_type": "execute_result"
    },
    {
     "data": {
      "image/png": "[encoded data removed]",
      "text/plain": [
       "<Figure size 640x480 with 1 Axes>"
      ]
     },
     "metadata": {},
     "output_type": "display_data"
    }
   ],
   "source": [
    "df.causal.do(x={treatment: 1}, \n",
    "              variable_types={treatment:'b', outcome: 'c', common_cause: 'c'}, \n",
    "              outcome=outcome,\n",
    "              method='weighting', \n",
    "              common_causes=[common_cause],\n",
    "              proceed_when_unidentifiable=True).groupby(treatment).mean().plot(y=outcome, kind='bar')"
   ]
  },
  {
   "cell_type": "code",
   "execution_count": 5,
   "metadata": {
    "execution": {
     "iopub.execute_input": "2022-10-19T14:24:22.315481Z",
     "iopub.status.busy": "2022-10-19T14:24:22.315171Z",
     "iopub.status.idle": "2022-10-19T14:24:22.340765Z",
     "shell.execute_reply": "2022-10-19T14:24:22.340323Z"
    }
   },
   "outputs": [],
   "source": [
    "cdf_1 = df.causal.do(x={treatment: 1}, \n",
    "              variable_types={treatment: 'b', outcome: 'c', common_cause: 'c'}, \n",
    "              outcome=outcome, \n",
    "              dot_graph=data['dot_graph'],\n",
    "              proceed_when_unidentifiable=True)\n",
    "\n",
    "cdf_0 = df.causal.do(x={treatment: 0}, \n",
    "              variable_types={treatment: 'b', outcome: 'c', common_cause: 'c'}, \n",
    "              outcome=outcome, \n",
    "              dot_graph=data['dot_graph'],\n",
    "              proceed_when_unidentifiable=True)\n"
   ]
  },
  {
   "cell_type": "code",
   "execution_count": 6,
   "metadata": {
    "execution": {
     "iopub.execute_input": "2022-10-19T14:24:22.342936Z",
     "iopub.status.busy": "2022-10-19T14:24:22.342645Z",
     "iopub.status.idle": "2022-10-19T14:24:22.351178Z",
     "shell.execute_reply": "2022-10-19T14:24:22.350734Z"
    },
    "scrolled": true
   },
   "outputs": [
    {
     "data": {
      "text/html": [
       "<div>\n",
       "<style scoped>\n",
       "    .dataframe tbody tr th:only-of-type {\n",
       "        vertical-align: middle;\n",
       "    }\n",
       "\n",
       "    .dataframe tbody tr th {\n",
       "        vertical-align: top;\n",
       "    }\n",
       "\n",
       "    .dataframe thead th {\n",
       "        text-align: right;\n",
       "    }\n",
       "</style>\n",
       "<table border=\"1\" class=\"dataframe\">\n",
       "  <thead>\n",
       "    <tr style=\"text-align: right;\">\n",
       "      <th></th>\n",
       "      <th>W0</th>\n",
       "      <th>v0</th>\n",
       "      <th>y</th>\n",
       "      <th>propensity_score</th>\n",
       "      <th>weight</th>\n",
       "    </tr>\n",
       "  </thead>\n",
       "  <tbody>\n",
       "    <tr>\n",
       "      <th>0</th>\n",
       "      <td>0.918054</td>\n",
       "      <td>False</td>\n",
       "      <td>1.993549</td>\n",
       "      <td>0.428390</td>\n",
       "      <td>2.334320</td>\n",
       "    </tr>\n",
       "    <tr>\n",
       "      <th>1</th>\n",
       "      <td>0.503966</td>\n",
       "      <td>False</td>\n",
       "      <td>0.530631</td>\n",
       "      <td>0.457035</td>\n",
       "      <td>2.188016</td>\n",
       "    </tr>\n",
       "    <tr>\n",
       "      <th>2</th>\n",
       "      <td>2.029441</td>\n",
       "      <td>False</td>\n",
       "      <td>4.925447</td>\n",
       "      <td>0.354315</td>\n",
       "      <td>2.822347</td>\n",
       "    </tr>\n",
       "    <tr>\n",
       "      <th>3</th>\n",
       "      <td>0.455598</td>\n",
       "      <td>False</td>\n",
       "      <td>-0.071221</td>\n",
       "      <td>0.460403</td>\n",
       "      <td>2.172009</td>\n",
       "    </tr>\n",
       "    <tr>\n",
       "      <th>4</th>\n",
       "      <td>3.633791</td>\n",
       "      <td>False</td>\n",
       "      <td>8.978977</td>\n",
       "      <td>0.259208</td>\n",
       "      <td>3.857901</td>\n",
       "    </tr>\n",
       "    <tr>\n",
       "      <th>...</th>\n",
       "      <td>...</td>\n",
       "      <td>...</td>\n",
       "      <td>...</td>\n",
       "      <td>...</td>\n",
       "      <td>...</td>\n",
       "    </tr>\n",
       "    <tr>\n",
       "      <th>995</th>\n",
       "      <td>0.611965</td>\n",
       "      <td>False</td>\n",
       "      <td>-0.266216</td>\n",
       "      <td>0.449529</td>\n",
       "      <td>2.224551</td>\n",
       "    </tr>\n",
       "    <tr>\n",
       "      <th>996</th>\n",
       "      <td>1.997070</td>\n",
       "      <td>False</td>\n",
       "      <td>4.527194</td>\n",
       "      <td>0.356395</td>\n",
       "      <td>2.805877</td>\n",
       "    </tr>\n",
       "    <tr>\n",
       "      <th>997</th>\n",
       "      <td>2.079082</td>\n",
       "      <td>False</td>\n",
       "      <td>3.478149</td>\n",
       "      <td>0.351136</td>\n",
       "      <td>2.847896</td>\n",
       "    </tr>\n",
       "    <tr>\n",
       "      <th>998</th>\n",
       "      <td>1.227414</td>\n",
       "      <td>False</td>\n",
       "      <td>3.082318</td>\n",
       "      <td>0.407289</td>\n",
       "      <td>2.455262</td>\n",
       "    </tr>\n",
       "    <tr>\n",
       "      <th>999</th>\n",
       "      <td>1.033725</td>\n",
       "      <td>False</td>\n",
       "      <td>3.329723</td>\n",
       "      <td>0.420465</td>\n",
       "      <td>2.378317</td>\n",
       "    </tr>\n",
       "  </tbody>\n",
       "</table>\n",
       "<p>1000 rows × 5 columns</p>\n",
       "</div>"
      ],
      "text/plain": [
       "           W0     v0         y  propensity_score    weight\n",
       "0    0.918054  False  1.993549          0.428390  2.334320\n",
       "1    0.503966  False  0.530631          0.457035  2.188016\n",
       "2    2.029441  False  4.925447          0.354315  2.822347\n",
       "3    0.455598  False -0.071221          0.460403  2.172009\n",
       "4    3.633791  False  8.978977          0.259208  3.857901\n",
       "..        ...    ...       ...               ...       ...\n",
       "995  0.611965  False -0.266216          0.449529  2.224551\n",
       "996  1.997070  False  4.527194          0.356395  2.805877\n",
       "997  2.079082  False  3.478149          0.351136  2.847896\n",
       "998  1.227414  False  3.082318          0.407289  2.455262\n",
       "999  1.033725  False  3.329723          0.420465  2.378317\n",
       "\n",
       "[1000 rows x 5 columns]"
      ]
     },
     "execution_count": 6,
     "metadata": {},
     "output_type": "execute_result"
    }
   ],
   "source": [
    "cdf_0"
   ]
  },
  {
   "cell_type": "code",
   "execution_count": 7,
   "metadata": {
    "execution": {
     "iopub.execute_input": "2022-10-19T14:24:22.353307Z",
     "iopub.status.busy": "2022-10-19T14:24:22.353011Z",
     "iopub.status.idle": "2022-10-19T14:24:22.361207Z",
     "shell.execute_reply": "2022-10-19T14:24:22.360758Z"
    }
   },
   "outputs": [
    {
     "data": {
      "text/html": [
       "<div>\n",
       "<style scoped>\n",
       "    .dataframe tbody tr th:only-of-type {\n",
       "        vertical-align: middle;\n",
       "    }\n",
       "\n",
       "    .dataframe tbody tr th {\n",
       "        vertical-align: top;\n",
       "    }\n",
       "\n",
       "    .dataframe thead th {\n",
       "        text-align: right;\n",
       "    }\n",
       "</style>\n",
       "<table border=\"1\" class=\"dataframe\">\n",
       "  <thead>\n",
       "    <tr style=\"text-align: right;\">\n",
       "      <th></th>\n",
       "      <th>W0</th>\n",
       "      <th>v0</th>\n",
       "      <th>y</th>\n",
       "      <th>propensity_score</th>\n",
       "      <th>weight</th>\n",
       "    </tr>\n",
       "  </thead>\n",
       "  <tbody>\n",
       "    <tr>\n",
       "      <th>0</th>\n",
       "      <td>0.416682</td>\n",
       "      <td>True</td>\n",
       "      <td>5.384697</td>\n",
       "      <td>0.536884</td>\n",
       "      <td>1.862600</td>\n",
       "    </tr>\n",
       "    <tr>\n",
       "      <th>1</th>\n",
       "      <td>0.321290</td>\n",
       "      <td>True</td>\n",
       "      <td>6.268089</td>\n",
       "      <td>0.530226</td>\n",
       "      <td>1.885989</td>\n",
       "    </tr>\n",
       "    <tr>\n",
       "      <th>2</th>\n",
       "      <td>-0.076509</td>\n",
       "      <td>True</td>\n",
       "      <td>6.670354</td>\n",
       "      <td>0.502371</td>\n",
       "      <td>1.990562</td>\n",
       "    </tr>\n",
       "    <tr>\n",
       "      <th>3</th>\n",
       "      <td>0.362243</td>\n",
       "      <td>True</td>\n",
       "      <td>6.829831</td>\n",
       "      <td>0.533086</td>\n",
       "      <td>1.875871</td>\n",
       "    </tr>\n",
       "    <tr>\n",
       "      <th>4</th>\n",
       "      <td>1.098488</td>\n",
       "      <td>True</td>\n",
       "      <td>7.375845</td>\n",
       "      <td>0.583954</td>\n",
       "      <td>1.712463</td>\n",
       "    </tr>\n",
       "    <tr>\n",
       "      <th>...</th>\n",
       "      <td>...</td>\n",
       "      <td>...</td>\n",
       "      <td>...</td>\n",
       "      <td>...</td>\n",
       "      <td>...</td>\n",
       "    </tr>\n",
       "    <tr>\n",
       "      <th>995</th>\n",
       "      <td>1.063069</td>\n",
       "      <td>True</td>\n",
       "      <td>5.343131</td>\n",
       "      <td>0.581539</td>\n",
       "      <td>1.719576</td>\n",
       "    </tr>\n",
       "    <tr>\n",
       "      <th>996</th>\n",
       "      <td>-0.097900</td>\n",
       "      <td>True</td>\n",
       "      <td>3.621210</td>\n",
       "      <td>0.500871</td>\n",
       "      <td>1.996523</td>\n",
       "    </tr>\n",
       "    <tr>\n",
       "      <th>997</th>\n",
       "      <td>1.136769</td>\n",
       "      <td>True</td>\n",
       "      <td>6.955116</td>\n",
       "      <td>0.586560</td>\n",
       "      <td>1.704855</td>\n",
       "    </tr>\n",
       "    <tr>\n",
       "      <th>998</th>\n",
       "      <td>3.560370</td>\n",
       "      <td>True</td>\n",
       "      <td>11.026228</td>\n",
       "      <td>0.736818</td>\n",
       "      <td>1.357187</td>\n",
       "    </tr>\n",
       "    <tr>\n",
       "      <th>999</th>\n",
       "      <td>0.861593</td>\n",
       "      <td>True</td>\n",
       "      <td>5.420875</td>\n",
       "      <td>0.567728</td>\n",
       "      <td>1.761408</td>\n",
       "    </tr>\n",
       "  </tbody>\n",
       "</table>\n",
       "<p>1000 rows × 5 columns</p>\n",
       "</div>"
      ],
      "text/plain": [
       "           W0    v0          y  propensity_score    weight\n",
       "0    0.416682  True   5.384697          0.536884  1.862600\n",
       "1    0.321290  True   6.268089          0.530226  1.885989\n",
       "2   -0.076509  True   6.670354          0.502371  1.990562\n",
       "3    0.362243  True   6.829831          0.533086  1.875871\n",
       "4    1.098488  True   7.375845          0.583954  1.712463\n",
       "..        ...   ...        ...               ...       ...\n",
       "995  1.063069  True   5.343131          0.581539  1.719576\n",
       "996 -0.097900  True   3.621210          0.500871  1.996523\n",
       "997  1.136769  True   6.955116          0.586560  1.704855\n",
       "998  3.560370  True  11.026228          0.736818  1.357187\n",
       "999  0.861593  True   5.420875          0.567728  1.761408\n",
       "\n",
       "[1000 rows x 5 columns]"
      ]
     },
     "execution_count": 7,
     "metadata": {},
     "output_type": "execute_result"
    }
   ],
   "source": [
    "cdf_1"
   ]
  },
  {
   "cell_type": "markdown",
   "metadata": {},
   "source": [
    "## Comparing the estimate to Linear Regression\n",
    "First, estimating the effect using the causal data frame, and the 95% confidence interval."
   ]
  },
  {
   "cell_type": "code",
   "execution_count": 8,
   "metadata": {
    "execution": {
     "iopub.execute_input": "2022-10-19T14:24:22.363382Z",
     "iopub.status.busy": "2022-10-19T14:24:22.363079Z",
     "iopub.status.idle": "2022-10-19T14:24:22.407402Z",
     "shell.execute_reply": "2022-10-19T14:24:22.406868Z"
    }
   },
   "outputs": [
    {
     "data": {
      "image/png": "[encoded data removed]",
      "text/latex": [
       "$\\displaystyle 5.01444187753019$"
      ],
      "text/plain": [
       "5.014441877530191"
      ]
     },
     "execution_count": 8,
     "metadata": {},
     "output_type": "execute_result"
    }
   ],
   "source": [
    "(cdf_1['y'] - cdf_0['y']).mean()"
   ]
  },
  {
   "cell_type": "code",
   "execution_count": 9,
   "metadata": {
    "execution": {
     "iopub.execute_input": "2022-10-19T14:24:22.409718Z",
     "iopub.status.busy": "2022-10-19T14:24:22.409286Z",
     "iopub.status.idle": "2022-10-19T14:24:22.424917Z",
     "shell.execute_reply": "2022-10-19T14:24:22.424470Z"
    }
   },
   "outputs": [
    {
     "data": {
      "image/png": "[encoded data removed]",
      "text/latex": [
       "$\\displaystyle 0.198409711178808$"
      ],
      "text/plain": [
       "0.1984097111788083"
      ]
     },
     "execution_count": 9,
     "metadata": {},
     "output_type": "execute_result"
    }
   ],
   "source": [
    "1.96*(cdf_1['y'] - cdf_0['y']).std() / np.sqrt(len(df))"
   ]
  },
  {
   "cell_type": "markdown",
   "metadata": {},
   "source": [
    "Comparing to the estimate from OLS."
   ]
  },
  {
   "cell_type": "code",
   "execution_count": 10,
   "metadata": {
    "execution": {
     "iopub.execute_input": "2022-10-19T14:24:22.426946Z",
     "iopub.status.busy": "2022-10-19T14:24:22.426735Z",
     "iopub.status.idle": "2022-10-19T14:24:22.439761Z",
     "shell.execute_reply": "2022-10-19T14:24:22.439213Z"
    }
   },
   "outputs": [
    {
     "data": {
      "text/html": [
       "<table class=\"simpletable\">\n",
       "<caption>OLS Regression Results</caption>\n",
       "<tr>\n",
       "  <th>Dep. Variable:</th>            <td>y</td>        <th>  R-squared (uncentered):</th>      <td>   0.969</td> \n",
       "</tr>\n",
       "<tr>\n",
       "  <th>Model:</th>                   <td>OLS</td>       <th>  Adj. R-squared (uncentered):</th> <td>   0.969</td> \n",
       "</tr>\n",
       "<tr>\n",
       "  <th>Method:</th>             <td>Least Squares</td>  <th>  F-statistic:       </th>          <td>1.546e+04</td>\n",
       "</tr>\n",
       "<tr>\n",
       "  <th>Date:</th>             <td>Wed, 19 Oct 2022</td> <th>  Prob (F-statistic):</th>           <td>  0.00</td>  \n",
       "</tr>\n",
       "<tr>\n",
       "  <th>Time:</th>                 <td>14:24:22</td>     <th>  Log-Likelihood:    </th>          <td> -1381.8</td> \n",
       "</tr>\n",
       "<tr>\n",
       "  <th>No. Observations:</th>      <td>  1000</td>      <th>  AIC:               </th>          <td>   2768.</td> \n",
       "</tr>\n",
       "<tr>\n",
       "  <th>Df Residuals:</th>          <td>   998</td>      <th>  BIC:               </th>          <td>   2777.</td> \n",
       "</tr>\n",
       "<tr>\n",
       "  <th>Df Model:</th>              <td>     2</td>      <th>                     </th>              <td> </td>    \n",
       "</tr>\n",
       "<tr>\n",
       "  <th>Covariance Type:</th>      <td>nonrobust</td>    <th>                     </th>              <td> </td>    \n",
       "</tr>\n",
       "</table>\n",
       "<table class=\"simpletable\">\n",
       "<tr>\n",
       "   <td></td>     <th>coef</th>     <th>std err</th>      <th>t</th>      <th>P>|t|</th>  <th>[0.025</th>    <th>0.975]</th>  \n",
       "</tr>\n",
       "<tr>\n",
       "  <th>x1</th> <td>    2.0849</td> <td>    0.029</td> <td>   71.874</td> <td> 0.000</td> <td>    2.028</td> <td>    2.142</td>\n",
       "</tr>\n",
       "<tr>\n",
       "  <th>x2</th> <td>    4.9724</td> <td>    0.047</td> <td>  106.257</td> <td> 0.000</td> <td>    4.881</td> <td>    5.064</td>\n",
       "</tr>\n",
       "</table>\n",
       "<table class=\"simpletable\">\n",
       "<tr>\n",
       "  <th>Omnibus:</th>       <td> 0.738</td> <th>  Durbin-Watson:     </th> <td>   1.880</td>\n",
       "</tr>\n",
       "<tr>\n",
       "  <th>Prob(Omnibus):</th> <td> 0.691</td> <th>  Jarque-Bera (JB):  </th> <td>   0.609</td>\n",
       "</tr>\n",
       "<tr>\n",
       "  <th>Skew:</th>          <td> 0.009</td> <th>  Prob(JB):          </th> <td>   0.737</td>\n",
       "</tr>\n",
       "<tr>\n",
       "  <th>Kurtosis:</th>      <td> 3.119</td> <th>  Cond. No.          </th> <td>    2.06</td>\n",
       "</tr>\n",
       "</table><br/><br/>Notes:<br/>[1] R² is computed without centering (uncentered) since the model does not contain a constant.<br/>[2] Standard Errors assume that the covariance matrix of the errors is correctly specified."
      ],
      "text/plain": [
       "<class 'statsmodels.iolib.summary.Summary'>\n",
       "\"\"\"\n",
       "                                 OLS Regression Results                                \n",
       "=======================================================================================\n",
       "Dep. Variable:                      y   R-squared (uncentered):                   0.969\n",
       "Model:                            OLS   Adj. R-squared (uncentered):              0.969\n",
       "Method:                 Least Squares   F-statistic:                          1.546e+04\n",
       "Date:                Wed, 19 Oct 2022   Prob (F-statistic):                        0.00\n",
       "Time:                        14:24:22   Log-Likelihood:                         -1381.8\n",
       "No. Observations:                1000   AIC:                                      2768.\n",
       "Df Residuals:                     998   BIC:                                      2777.\n",
       "Df Model:                           2                                                  \n",
       "Covariance Type:            nonrobust                                                  \n",
       "==============================================================================\n",
       "                 coef    std err          t      P>|t|      [0.025      0.975]\n",
       "------------------------------------------------------------------------------\n",
       "x1             2.0849      0.029     71.874      0.000       2.028       2.142\n",
       "x2             4.9724      0.047    106.257      0.000       4.881       5.064\n",
       "==============================================================================\n",
       "Omnibus:                        0.738   Durbin-Watson:                   1.880\n",
       "Prob(Omnibus):                  0.691   Jarque-Bera (JB):                0.609\n",
       "Skew:                           0.009   Prob(JB):                        0.737\n",
       "Kurtosis:                       3.119   Cond. No.                         2.06\n",
       "==============================================================================\n",
       "\n",
       "Notes:\n",
       "[1] R² is computed without centering (uncentered) since the model does not contain a constant.\n",
       "[2] Standard Errors assume that the covariance matrix of the errors is correctly specified.\n",
       "\"\"\""
      ]
     },
     "execution_count": 10,
     "metadata": {},
     "output_type": "execute_result"
    }
   ],
   "source": [
    "model = OLS(np.asarray(df[outcome]), np.asarray(df[[common_cause, treatment]], dtype=np.float64))\n",
    "result = model.fit()\n",
    "result.summary()"
   ]
  }
 ],
 "metadata": {
  "kernelspec": {
   "display_name": "Python 3",
   "language": "python",
   "name": "python3"
  },
  "language_info": {
   "codemirror_mode": {
    "name": "ipython",
    "version": 3
   },
   "file_extension": ".py",
   "mimetype": "text/x-python",
   "name": "python",
   "nbconvert_exporter": "python",
   "pygments_lexer": "ipython3",
   "version": "3.8.10"
  },
  "toc": {
   "base_numbering": 1,
   "nav_menu": {},
   "number_sections": false,
   "sideBar": true,
   "skip_h1_title": true,
   "title_cell": "Table of Contents",
   "title_sidebar": "Contents",
   "toc_cell": false,
   "toc_position": {},
   "toc_section_display": true,
   "toc_window_display": false
  }
 },
 "nbformat": 4,
 "nbformat_minor": 4
}
