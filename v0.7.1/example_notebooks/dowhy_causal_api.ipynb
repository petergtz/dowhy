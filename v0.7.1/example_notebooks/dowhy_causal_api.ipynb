{
 "cells": [
  {
   "cell_type": "markdown",
   "metadata": {},
   "source": [
    "# Demo for the DoWhy causal API\n",
    "We show a simple example of adding a causal extension to any dataframe. "
   ]
  },
  {
   "cell_type": "code",
   "execution_count": 1,
   "metadata": {
    "execution": {
     "iopub.execute_input": "2022-09-14T18:55:12.284818Z",
     "iopub.status.busy": "2022-09-14T18:55:12.284092Z",
     "iopub.status.idle": "2022-09-14T18:55:13.589798Z",
     "shell.execute_reply": "2022-09-14T18:55:13.588927Z"
    }
   },
   "outputs": [],
   "source": [
    "import dowhy.datasets\n",
    "import dowhy.api\n",
    "\n",
    "import numpy as np\n",
    "import pandas as pd\n",
    "\n",
    "from statsmodels.api import OLS"
   ]
  },
  {
   "cell_type": "code",
   "execution_count": 2,
   "metadata": {
    "execution": {
     "iopub.execute_input": "2022-09-14T18:55:13.594492Z",
     "iopub.status.busy": "2022-09-14T18:55:13.593815Z",
     "iopub.status.idle": "2022-09-14T18:55:13.645920Z",
     "shell.execute_reply": "2022-09-14T18:55:13.645185Z"
    }
   },
   "outputs": [
    {
     "data": {
      "text/html": [
       "<div>\n",
       "<style scoped>\n",
       "    .dataframe tbody tr th:only-of-type {\n",
       "        vertical-align: middle;\n",
       "    }\n",
       "\n",
       "    .dataframe tbody tr th {\n",
       "        vertical-align: top;\n",
       "    }\n",
       "\n",
       "    .dataframe thead th {\n",
       "        text-align: right;\n",
       "    }\n",
       "</style>\n",
       "<table border=\"1\" class=\"dataframe\">\n",
       "  <thead>\n",
       "    <tr style=\"text-align: right;\">\n",
       "      <th></th>\n",
       "      <th>W0</th>\n",
       "      <th>v0</th>\n",
       "      <th>y</th>\n",
       "    </tr>\n",
       "  </thead>\n",
       "  <tbody>\n",
       "    <tr>\n",
       "      <th>0</th>\n",
       "      <td>0.326689</td>\n",
       "      <td>False</td>\n",
       "      <td>0.448556</td>\n",
       "    </tr>\n",
       "    <tr>\n",
       "      <th>1</th>\n",
       "      <td>-0.906599</td>\n",
       "      <td>True</td>\n",
       "      <td>2.325172</td>\n",
       "    </tr>\n",
       "    <tr>\n",
       "      <th>2</th>\n",
       "      <td>0.378685</td>\n",
       "      <td>False</td>\n",
       "      <td>-1.157150</td>\n",
       "    </tr>\n",
       "    <tr>\n",
       "      <th>3</th>\n",
       "      <td>-0.299435</td>\n",
       "      <td>False</td>\n",
       "      <td>0.630886</td>\n",
       "    </tr>\n",
       "    <tr>\n",
       "      <th>4</th>\n",
       "      <td>1.042586</td>\n",
       "      <td>True</td>\n",
       "      <td>2.949594</td>\n",
       "    </tr>\n",
       "    <tr>\n",
       "      <th>...</th>\n",
       "      <td>...</td>\n",
       "      <td>...</td>\n",
       "      <td>...</td>\n",
       "    </tr>\n",
       "    <tr>\n",
       "      <th>995</th>\n",
       "      <td>0.770774</td>\n",
       "      <td>True</td>\n",
       "      <td>5.430327</td>\n",
       "    </tr>\n",
       "    <tr>\n",
       "      <th>996</th>\n",
       "      <td>-0.586816</td>\n",
       "      <td>True</td>\n",
       "      <td>5.585402</td>\n",
       "    </tr>\n",
       "    <tr>\n",
       "      <th>997</th>\n",
       "      <td>0.722458</td>\n",
       "      <td>False</td>\n",
       "      <td>1.299977</td>\n",
       "    </tr>\n",
       "    <tr>\n",
       "      <th>998</th>\n",
       "      <td>-0.395364</td>\n",
       "      <td>True</td>\n",
       "      <td>4.492349</td>\n",
       "    </tr>\n",
       "    <tr>\n",
       "      <th>999</th>\n",
       "      <td>-0.586639</td>\n",
       "      <td>True</td>\n",
       "      <td>2.965871</td>\n",
       "    </tr>\n",
       "  </tbody>\n",
       "</table>\n",
       "<p>1000 rows × 3 columns</p>\n",
       "</div>"
      ],
      "text/plain": [
       "           W0     v0         y\n",
       "0    0.326689  False  0.448556\n",
       "1   -0.906599   True  2.325172\n",
       "2    0.378685  False -1.157150\n",
       "3   -0.299435  False  0.630886\n",
       "4    1.042586   True  2.949594\n",
       "..        ...    ...       ...\n",
       "995  0.770774   True  5.430327\n",
       "996 -0.586816   True  5.585402\n",
       "997  0.722458  False  1.299977\n",
       "998 -0.395364   True  4.492349\n",
       "999 -0.586639   True  2.965871\n",
       "\n",
       "[1000 rows x 3 columns]"
      ]
     },
     "execution_count": 2,
     "metadata": {},
     "output_type": "execute_result"
    }
   ],
   "source": [
    "data = dowhy.datasets.linear_dataset(beta=5,\n",
    "        num_common_causes=1,\n",
    "        num_instruments = 0,\n",
    "        num_samples=1000,\n",
    "        treatment_is_binary=True)\n",
    "df = data['df']\n",
    "df['y'] = df['y'] + np.random.normal(size=len(df)) # Adding noise to data. Without noise, the variance in Y|X, Z is zero, and mcmc fails.\n",
    "#data['dot_graph'] = 'digraph { v ->y;X0-> v;X0-> y;}'\n",
    "\n",
    "treatment= data[\"treatment_name\"][0]\n",
    "outcome = data[\"outcome_name\"][0]\n",
    "common_cause = data[\"common_causes_names\"][0]\n",
    "df"
   ]
  },
  {
   "cell_type": "code",
   "execution_count": 3,
   "metadata": {
    "execution": {
     "iopub.execute_input": "2022-09-14T18:55:13.650682Z",
     "iopub.status.busy": "2022-09-14T18:55:13.650186Z",
     "iopub.status.idle": "2022-09-14T18:55:14.522341Z",
     "shell.execute_reply": "2022-09-14T18:55:14.521628Z"
    }
   },
   "outputs": [
    {
     "data": {
      "text/plain": [
       "<AxesSubplot:xlabel='v0'>"
      ]
     },
     "execution_count": 3,
     "metadata": {},
     "output_type": "execute_result"
    },
    {
     "data": {
      "image/png": "[encoded data removed]",
      "text/plain": [
       "<Figure size 640x480 with 1 Axes>"
      ]
     },
     "metadata": {},
     "output_type": "display_data"
    }
   ],
   "source": [
    "# data['df'] is just a regular pandas.DataFrame\n",
    "df.causal.do(x=treatment,\n",
    "                     variable_types={treatment: 'b', outcome: 'c', common_cause: 'c'},\n",
    "                     outcome=outcome,\n",
    "                     common_causes=[common_cause],\n",
    "                     proceed_when_unidentifiable=True).groupby(treatment).mean().plot(y=outcome, kind='bar')"
   ]
  },
  {
   "cell_type": "code",
   "execution_count": 4,
   "metadata": {
    "execution": {
     "iopub.execute_input": "2022-09-14T18:55:14.527331Z",
     "iopub.status.busy": "2022-09-14T18:55:14.525933Z",
     "iopub.status.idle": "2022-09-14T18:55:14.648507Z",
     "shell.execute_reply": "2022-09-14T18:55:14.647875Z"
    }
   },
   "outputs": [
    {
     "data": {
      "text/plain": [
       "<AxesSubplot:xlabel='v0'>"
      ]
     },
     "execution_count": 4,
     "metadata": {},
     "output_type": "execute_result"
    },
    {
     "data": {
      "image/png": "[encoded data removed]",
      "text/plain": [
       "<Figure size 640x480 with 1 Axes>"
      ]
     },
     "metadata": {},
     "output_type": "display_data"
    }
   ],
   "source": [
    "df.causal.do(x={treatment: 1}, \n",
    "              variable_types={treatment:'b', outcome: 'c', common_cause: 'c'}, \n",
    "              outcome=outcome,\n",
    "              method='weighting', \n",
    "              common_causes=[common_cause],\n",
    "              proceed_when_unidentifiable=True).groupby(treatment).mean().plot(y=outcome, kind='bar')"
   ]
  },
  {
   "cell_type": "code",
   "execution_count": 5,
   "metadata": {
    "execution": {
     "iopub.execute_input": "2022-09-14T18:55:14.653489Z",
     "iopub.status.busy": "2022-09-14T18:55:14.652258Z",
     "iopub.status.idle": "2022-09-14T18:55:14.687551Z",
     "shell.execute_reply": "2022-09-14T18:55:14.686958Z"
    }
   },
   "outputs": [],
   "source": [
    "cdf_1 = df.causal.do(x={treatment: 1}, \n",
    "              variable_types={treatment: 'b', outcome: 'c', common_cause: 'c'}, \n",
    "              outcome=outcome, \n",
    "              dot_graph=data['dot_graph'],\n",
    "              proceed_when_unidentifiable=True)\n",
    "\n",
    "cdf_0 = df.causal.do(x={treatment: 0}, \n",
    "              variable_types={treatment: 'b', outcome: 'c', common_cause: 'c'}, \n",
    "              outcome=outcome, \n",
    "              dot_graph=data['dot_graph'],\n",
    "              proceed_when_unidentifiable=True)\n"
   ]
  },
  {
   "cell_type": "code",
   "execution_count": 6,
   "metadata": {
    "execution": {
     "iopub.execute_input": "2022-09-14T18:55:14.691489Z",
     "iopub.status.busy": "2022-09-14T18:55:14.690786Z",
     "iopub.status.idle": "2022-09-14T18:55:14.703615Z",
     "shell.execute_reply": "2022-09-14T18:55:14.703044Z"
    },
    "scrolled": true
   },
   "outputs": [
    {
     "data": {
      "text/html": [
       "<div>\n",
       "<style scoped>\n",
       "    .dataframe tbody tr th:only-of-type {\n",
       "        vertical-align: middle;\n",
       "    }\n",
       "\n",
       "    .dataframe tbody tr th {\n",
       "        vertical-align: top;\n",
       "    }\n",
       "\n",
       "    .dataframe thead th {\n",
       "        text-align: right;\n",
       "    }\n",
       "</style>\n",
       "<table border=\"1\" class=\"dataframe\">\n",
       "  <thead>\n",
       "    <tr style=\"text-align: right;\">\n",
       "      <th></th>\n",
       "      <th>W0</th>\n",
       "      <th>v0</th>\n",
       "      <th>y</th>\n",
       "      <th>propensity_score</th>\n",
       "      <th>weight</th>\n",
       "    </tr>\n",
       "  </thead>\n",
       "  <tbody>\n",
       "    <tr>\n",
       "      <th>0</th>\n",
       "      <td>-0.114414</td>\n",
       "      <td>False</td>\n",
       "      <td>0.806617</td>\n",
       "      <td>0.521814</td>\n",
       "      <td>1.916392</td>\n",
       "    </tr>\n",
       "    <tr>\n",
       "      <th>1</th>\n",
       "      <td>-0.437425</td>\n",
       "      <td>False</td>\n",
       "      <td>-1.844901</td>\n",
       "      <td>0.527280</td>\n",
       "      <td>1.896524</td>\n",
       "    </tr>\n",
       "    <tr>\n",
       "      <th>2</th>\n",
       "      <td>0.908197</td>\n",
       "      <td>False</td>\n",
       "      <td>1.566832</td>\n",
       "      <td>0.504479</td>\n",
       "      <td>1.982241</td>\n",
       "    </tr>\n",
       "    <tr>\n",
       "      <th>3</th>\n",
       "      <td>0.180203</td>\n",
       "      <td>False</td>\n",
       "      <td>-1.473251</td>\n",
       "      <td>0.516823</td>\n",
       "      <td>1.934897</td>\n",
       "    </tr>\n",
       "    <tr>\n",
       "      <th>4</th>\n",
       "      <td>-0.919758</td>\n",
       "      <td>False</td>\n",
       "      <td>-1.201705</td>\n",
       "      <td>0.535431</td>\n",
       "      <td>1.867655</td>\n",
       "    </tr>\n",
       "    <tr>\n",
       "      <th>...</th>\n",
       "      <td>...</td>\n",
       "      <td>...</td>\n",
       "      <td>...</td>\n",
       "      <td>...</td>\n",
       "      <td>...</td>\n",
       "    </tr>\n",
       "    <tr>\n",
       "      <th>995</th>\n",
       "      <td>-0.924271</td>\n",
       "      <td>False</td>\n",
       "      <td>-0.188714</td>\n",
       "      <td>0.535507</td>\n",
       "      <td>1.867390</td>\n",
       "    </tr>\n",
       "    <tr>\n",
       "      <th>996</th>\n",
       "      <td>1.820202</td>\n",
       "      <td>False</td>\n",
       "      <td>1.088118</td>\n",
       "      <td>0.489009</td>\n",
       "      <td>2.044950</td>\n",
       "    </tr>\n",
       "    <tr>\n",
       "      <th>997</th>\n",
       "      <td>0.039937</td>\n",
       "      <td>False</td>\n",
       "      <td>-1.274895</td>\n",
       "      <td>0.519200</td>\n",
       "      <td>1.926041</td>\n",
       "    </tr>\n",
       "    <tr>\n",
       "      <th>998</th>\n",
       "      <td>0.035028</td>\n",
       "      <td>False</td>\n",
       "      <td>0.371365</td>\n",
       "      <td>0.519283</td>\n",
       "      <td>1.925732</td>\n",
       "    </tr>\n",
       "    <tr>\n",
       "      <th>999</th>\n",
       "      <td>-1.157552</td>\n",
       "      <td>False</td>\n",
       "      <td>0.901272</td>\n",
       "      <td>0.539442</td>\n",
       "      <td>1.853767</td>\n",
       "    </tr>\n",
       "  </tbody>\n",
       "</table>\n",
       "<p>1000 rows × 5 columns</p>\n",
       "</div>"
      ],
      "text/plain": [
       "           W0     v0         y  propensity_score    weight\n",
       "0   -0.114414  False  0.806617          0.521814  1.916392\n",
       "1   -0.437425  False -1.844901          0.527280  1.896524\n",
       "2    0.908197  False  1.566832          0.504479  1.982241\n",
       "3    0.180203  False -1.473251          0.516823  1.934897\n",
       "4   -0.919758  False -1.201705          0.535431  1.867655\n",
       "..        ...    ...       ...               ...       ...\n",
       "995 -0.924271  False -0.188714          0.535507  1.867390\n",
       "996  1.820202  False  1.088118          0.489009  2.044950\n",
       "997  0.039937  False -1.274895          0.519200  1.926041\n",
       "998  0.035028  False  0.371365          0.519283  1.925732\n",
       "999 -1.157552  False  0.901272          0.539442  1.853767\n",
       "\n",
       "[1000 rows x 5 columns]"
      ]
     },
     "execution_count": 6,
     "metadata": {},
     "output_type": "execute_result"
    }
   ],
   "source": [
    "cdf_0"
   ]
  },
  {
   "cell_type": "code",
   "execution_count": 7,
   "metadata": {
    "execution": {
     "iopub.execute_input": "2022-09-14T18:55:14.706633Z",
     "iopub.status.busy": "2022-09-14T18:55:14.706210Z",
     "iopub.status.idle": "2022-09-14T18:55:14.716591Z",
     "shell.execute_reply": "2022-09-14T18:55:14.715891Z"
    }
   },
   "outputs": [
    {
     "data": {
      "text/html": [
       "<div>\n",
       "<style scoped>\n",
       "    .dataframe tbody tr th:only-of-type {\n",
       "        vertical-align: middle;\n",
       "    }\n",
       "\n",
       "    .dataframe tbody tr th {\n",
       "        vertical-align: top;\n",
       "    }\n",
       "\n",
       "    .dataframe thead th {\n",
       "        text-align: right;\n",
       "    }\n",
       "</style>\n",
       "<table border=\"1\" class=\"dataframe\">\n",
       "  <thead>\n",
       "    <tr style=\"text-align: right;\">\n",
       "      <th></th>\n",
       "      <th>W0</th>\n",
       "      <th>v0</th>\n",
       "      <th>y</th>\n",
       "      <th>propensity_score</th>\n",
       "      <th>weight</th>\n",
       "    </tr>\n",
       "  </thead>\n",
       "  <tbody>\n",
       "    <tr>\n",
       "      <th>0</th>\n",
       "      <td>2.356333</td>\n",
       "      <td>True</td>\n",
       "      <td>6.847476</td>\n",
       "      <td>0.520077</td>\n",
       "      <td>1.922793</td>\n",
       "    </tr>\n",
       "    <tr>\n",
       "      <th>1</th>\n",
       "      <td>1.841864</td>\n",
       "      <td>True</td>\n",
       "      <td>6.748936</td>\n",
       "      <td>0.511358</td>\n",
       "      <td>1.955578</td>\n",
       "    </tr>\n",
       "    <tr>\n",
       "      <th>2</th>\n",
       "      <td>-0.758494</td>\n",
       "      <td>True</td>\n",
       "      <td>4.397192</td>\n",
       "      <td>0.467292</td>\n",
       "      <td>2.139988</td>\n",
       "    </tr>\n",
       "    <tr>\n",
       "      <th>3</th>\n",
       "      <td>-0.741826</td>\n",
       "      <td>True</td>\n",
       "      <td>5.669855</td>\n",
       "      <td>0.467574</td>\n",
       "      <td>2.138699</td>\n",
       "    </tr>\n",
       "    <tr>\n",
       "      <th>4</th>\n",
       "      <td>-2.428560</td>\n",
       "      <td>True</td>\n",
       "      <td>2.266709</td>\n",
       "      <td>0.439216</td>\n",
       "      <td>2.276786</td>\n",
       "    </tr>\n",
       "    <tr>\n",
       "      <th>...</th>\n",
       "      <td>...</td>\n",
       "      <td>...</td>\n",
       "      <td>...</td>\n",
       "      <td>...</td>\n",
       "      <td>...</td>\n",
       "    </tr>\n",
       "    <tr>\n",
       "      <th>995</th>\n",
       "      <td>-1.083720</td>\n",
       "      <td>True</td>\n",
       "      <td>5.126413</td>\n",
       "      <td>0.461803</td>\n",
       "      <td>2.165426</td>\n",
       "    </tr>\n",
       "    <tr>\n",
       "      <th>996</th>\n",
       "      <td>-0.411489</td>\n",
       "      <td>True</td>\n",
       "      <td>3.131912</td>\n",
       "      <td>0.473158</td>\n",
       "      <td>2.113458</td>\n",
       "    </tr>\n",
       "    <tr>\n",
       "      <th>997</th>\n",
       "      <td>-2.217379</td>\n",
       "      <td>True</td>\n",
       "      <td>2.438822</td>\n",
       "      <td>0.442748</td>\n",
       "      <td>2.258620</td>\n",
       "    </tr>\n",
       "    <tr>\n",
       "      <th>998</th>\n",
       "      <td>-1.247205</td>\n",
       "      <td>True</td>\n",
       "      <td>4.836007</td>\n",
       "      <td>0.459047</td>\n",
       "      <td>2.178427</td>\n",
       "    </tr>\n",
       "    <tr>\n",
       "      <th>999</th>\n",
       "      <td>-0.586639</td>\n",
       "      <td>True</td>\n",
       "      <td>2.965871</td>\n",
       "      <td>0.470196</td>\n",
       "      <td>2.126771</td>\n",
       "    </tr>\n",
       "  </tbody>\n",
       "</table>\n",
       "<p>1000 rows × 5 columns</p>\n",
       "</div>"
      ],
      "text/plain": [
       "           W0    v0         y  propensity_score    weight\n",
       "0    2.356333  True  6.847476          0.520077  1.922793\n",
       "1    1.841864  True  6.748936          0.511358  1.955578\n",
       "2   -0.758494  True  4.397192          0.467292  2.139988\n",
       "3   -0.741826  True  5.669855          0.467574  2.138699\n",
       "4   -2.428560  True  2.266709          0.439216  2.276786\n",
       "..        ...   ...       ...               ...       ...\n",
       "995 -1.083720  True  5.126413          0.461803  2.165426\n",
       "996 -0.411489  True  3.131912          0.473158  2.113458\n",
       "997 -2.217379  True  2.438822          0.442748  2.258620\n",
       "998 -1.247205  True  4.836007          0.459047  2.178427\n",
       "999 -0.586639  True  2.965871          0.470196  2.126771\n",
       "\n",
       "[1000 rows x 5 columns]"
      ]
     },
     "execution_count": 7,
     "metadata": {},
     "output_type": "execute_result"
    }
   ],
   "source": [
    "cdf_1"
   ]
  },
  {
   "cell_type": "markdown",
   "metadata": {},
   "source": [
    "## Comparing the estimate to Linear Regression\n",
    "First, estimating the effect using the causal data frame, and the 95% confidence interval."
   ]
  },
  {
   "cell_type": "code",
   "execution_count": 8,
   "metadata": {
    "execution": {
     "iopub.execute_input": "2022-09-14T18:55:14.720584Z",
     "iopub.status.busy": "2022-09-14T18:55:14.720322Z",
     "iopub.status.idle": "2022-09-14T18:55:14.829157Z",
     "shell.execute_reply": "2022-09-14T18:55:14.828292Z"
    }
   },
   "outputs": [
    {
     "data": {
      "image/png": "[encoded data removed]",
      "text/latex": [
       "$\\displaystyle 5.08778423567129$"
      ],
      "text/plain": [
       "5.087784235671292"
      ]
     },
     "execution_count": 8,
     "metadata": {},
     "output_type": "execute_result"
    }
   ],
   "source": [
    "(cdf_1['y'] - cdf_0['y']).mean()"
   ]
  },
  {
   "cell_type": "code",
   "execution_count": 9,
   "metadata": {
    "execution": {
     "iopub.execute_input": "2022-09-14T18:55:14.833536Z",
     "iopub.status.busy": "2022-09-14T18:55:14.833033Z",
     "iopub.status.idle": "2022-09-14T18:55:14.859379Z",
     "shell.execute_reply": "2022-09-14T18:55:14.858604Z"
    }
   },
   "outputs": [
    {
     "data": {
      "image/png": "[encoded data removed]",
      "text/latex": [
       "$\\displaystyle 0.102090330103608$"
      ],
      "text/plain": [
       "0.10209033010360781"
      ]
     },
     "execution_count": 9,
     "metadata": {},
     "output_type": "execute_result"
    }
   ],
   "source": [
    "1.96*(cdf_1['y'] - cdf_0['y']).std() / np.sqrt(len(df))"
   ]
  },
  {
   "cell_type": "markdown",
   "metadata": {},
   "source": [
    "Comparing to the estimate from OLS."
   ]
  },
  {
   "cell_type": "code",
   "execution_count": 10,
   "metadata": {
    "execution": {
     "iopub.execute_input": "2022-09-14T18:55:14.862416Z",
     "iopub.status.busy": "2022-09-14T18:55:14.861973Z",
     "iopub.status.idle": "2022-09-14T18:55:14.879689Z",
     "shell.execute_reply": "2022-09-14T18:55:14.878895Z"
    }
   },
   "outputs": [
    {
     "data": {
      "text/html": [
       "<table class=\"simpletable\">\n",
       "<caption>OLS Regression Results</caption>\n",
       "<tr>\n",
       "  <th>Dep. Variable:</th>            <td>y</td>        <th>  R-squared (uncentered):</th>      <td>   0.934</td>\n",
       "</tr>\n",
       "<tr>\n",
       "  <th>Model:</th>                   <td>OLS</td>       <th>  Adj. R-squared (uncentered):</th> <td>   0.934</td>\n",
       "</tr>\n",
       "<tr>\n",
       "  <th>Method:</th>             <td>Least Squares</td>  <th>  F-statistic:       </th>          <td>   7076.</td>\n",
       "</tr>\n",
       "<tr>\n",
       "  <th>Date:</th>             <td>Wed, 14 Sep 2022</td> <th>  Prob (F-statistic):</th>           <td>  0.00</td> \n",
       "</tr>\n",
       "<tr>\n",
       "  <th>Time:</th>                 <td>18:55:14</td>     <th>  Log-Likelihood:    </th>          <td> -1395.1</td>\n",
       "</tr>\n",
       "<tr>\n",
       "  <th>No. Observations:</th>      <td>  1000</td>      <th>  AIC:               </th>          <td>   2794.</td>\n",
       "</tr>\n",
       "<tr>\n",
       "  <th>Df Residuals:</th>          <td>   998</td>      <th>  BIC:               </th>          <td>   2804.</td>\n",
       "</tr>\n",
       "<tr>\n",
       "  <th>Df Model:</th>              <td>     2</td>      <th>                     </th>              <td> </td>   \n",
       "</tr>\n",
       "<tr>\n",
       "  <th>Covariance Type:</th>      <td>nonrobust</td>    <th>                     </th>              <td> </td>   \n",
       "</tr>\n",
       "</table>\n",
       "<table class=\"simpletable\">\n",
       "<tr>\n",
       "   <td></td>     <th>coef</th>     <th>std err</th>      <th>t</th>      <th>P>|t|</th>  <th>[0.025</th>    <th>0.975]</th>  \n",
       "</tr>\n",
       "<tr>\n",
       "  <th>x1</th> <td>    0.7558</td> <td>    0.031</td> <td>   24.243</td> <td> 0.000</td> <td>    0.695</td> <td>    0.817</td>\n",
       "</tr>\n",
       "<tr>\n",
       "  <th>x2</th> <td>    5.0264</td> <td>    0.045</td> <td>  111.891</td> <td> 0.000</td> <td>    4.938</td> <td>    5.115</td>\n",
       "</tr>\n",
       "</table>\n",
       "<table class=\"simpletable\">\n",
       "<tr>\n",
       "  <th>Omnibus:</th>       <td> 0.256</td> <th>  Durbin-Watson:     </th> <td>   2.046</td>\n",
       "</tr>\n",
       "<tr>\n",
       "  <th>Prob(Omnibus):</th> <td> 0.880</td> <th>  Jarque-Bera (JB):  </th> <td>   0.322</td>\n",
       "</tr>\n",
       "<tr>\n",
       "  <th>Skew:</th>          <td> 0.031</td> <th>  Prob(JB):          </th> <td>   0.851</td>\n",
       "</tr>\n",
       "<tr>\n",
       "  <th>Kurtosis:</th>      <td> 2.938</td> <th>  Cond. No.          </th> <td>    1.48</td>\n",
       "</tr>\n",
       "</table><br/><br/>Notes:<br/>[1] R² is computed without centering (uncentered) since the model does not contain a constant.<br/>[2] Standard Errors assume that the covariance matrix of the errors is correctly specified."
      ],
      "text/plain": [
       "<class 'statsmodels.iolib.summary.Summary'>\n",
       "\"\"\"\n",
       "                                 OLS Regression Results                                \n",
       "=======================================================================================\n",
       "Dep. Variable:                      y   R-squared (uncentered):                   0.934\n",
       "Model:                            OLS   Adj. R-squared (uncentered):              0.934\n",
       "Method:                 Least Squares   F-statistic:                              7076.\n",
       "Date:                Wed, 14 Sep 2022   Prob (F-statistic):                        0.00\n",
       "Time:                        18:55:14   Log-Likelihood:                         -1395.1\n",
       "No. Observations:                1000   AIC:                                      2794.\n",
       "Df Residuals:                     998   BIC:                                      2804.\n",
       "Df Model:                           2                                                  \n",
       "Covariance Type:            nonrobust                                                  \n",
       "==============================================================================\n",
       "                 coef    std err          t      P>|t|      [0.025      0.975]\n",
       "------------------------------------------------------------------------------\n",
       "x1             0.7558      0.031     24.243      0.000       0.695       0.817\n",
       "x2             5.0264      0.045    111.891      0.000       4.938       5.115\n",
       "==============================================================================\n",
       "Omnibus:                        0.256   Durbin-Watson:                   2.046\n",
       "Prob(Omnibus):                  0.880   Jarque-Bera (JB):                0.322\n",
       "Skew:                           0.031   Prob(JB):                        0.851\n",
       "Kurtosis:                       2.938   Cond. No.                         1.48\n",
       "==============================================================================\n",
       "\n",
       "Notes:\n",
       "[1] R² is computed without centering (uncentered) since the model does not contain a constant.\n",
       "[2] Standard Errors assume that the covariance matrix of the errors is correctly specified.\n",
       "\"\"\""
      ]
     },
     "execution_count": 10,
     "metadata": {},
     "output_type": "execute_result"
    }
   ],
   "source": [
    "model = OLS(np.asarray(df[outcome]), np.asarray(df[[common_cause, treatment]], dtype=np.float64))\n",
    "result = model.fit()\n",
    "result.summary()"
   ]
  }
 ],
 "metadata": {
  "kernelspec": {
   "display_name": "Python 3",
   "language": "python",
   "name": "python3"
  },
  "language_info": {
   "codemirror_mode": {
    "name": "ipython",
    "version": 3
   },
   "file_extension": ".py",
   "mimetype": "text/x-python",
   "name": "python",
   "nbconvert_exporter": "python",
   "pygments_lexer": "ipython3",
   "version": "3.8.10"
  },
  "toc": {
   "base_numbering": 1,
   "nav_menu": {},
   "number_sections": false,
   "sideBar": true,
   "skip_h1_title": true,
   "title_cell": "Table of Contents",
   "title_sidebar": "Contents",
   "toc_cell": false,
   "toc_position": {},
   "toc_section_display": true,
   "toc_window_display": false
  }
 },
 "nbformat": 4,
 "nbformat_minor": 4
}
