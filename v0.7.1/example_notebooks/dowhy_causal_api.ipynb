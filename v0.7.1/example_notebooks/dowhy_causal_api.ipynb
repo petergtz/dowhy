{
 "cells": [
  {
   "cell_type": "markdown",
   "metadata": {},
   "source": [
    "# Demo for the DoWhy causal API\n",
    "We show a simple example of adding a causal extension to any dataframe. "
   ]
  },
  {
   "cell_type": "code",
   "execution_count": 1,
   "metadata": {
    "execution": {
     "iopub.execute_input": "2022-10-17T14:03:45.787998Z",
     "iopub.status.busy": "2022-10-17T14:03:45.787543Z",
     "iopub.status.idle": "2022-10-17T14:03:47.547167Z",
     "shell.execute_reply": "2022-10-17T14:03:47.546519Z"
    }
   },
   "outputs": [],
   "source": [
    "import dowhy.datasets\n",
    "import dowhy.api\n",
    "\n",
    "import numpy as np\n",
    "import pandas as pd\n",
    "\n",
    "from statsmodels.api import OLS"
   ]
  },
  {
   "cell_type": "code",
   "execution_count": 2,
   "metadata": {
    "execution": {
     "iopub.execute_input": "2022-10-17T14:03:47.551308Z",
     "iopub.status.busy": "2022-10-17T14:03:47.550089Z",
     "iopub.status.idle": "2022-10-17T14:03:47.592481Z",
     "shell.execute_reply": "2022-10-17T14:03:47.591472Z"
    }
   },
   "outputs": [
    {
     "data": {
      "text/html": [
       "<div>\n",
       "<style scoped>\n",
       "    .dataframe tbody tr th:only-of-type {\n",
       "        vertical-align: middle;\n",
       "    }\n",
       "\n",
       "    .dataframe tbody tr th {\n",
       "        vertical-align: top;\n",
       "    }\n",
       "\n",
       "    .dataframe thead th {\n",
       "        text-align: right;\n",
       "    }\n",
       "</style>\n",
       "<table border=\"1\" class=\"dataframe\">\n",
       "  <thead>\n",
       "    <tr style=\"text-align: right;\">\n",
       "      <th></th>\n",
       "      <th>W0</th>\n",
       "      <th>v0</th>\n",
       "      <th>y</th>\n",
       "    </tr>\n",
       "  </thead>\n",
       "  <tbody>\n",
       "    <tr>\n",
       "      <th>0</th>\n",
       "      <td>0.598909</td>\n",
       "      <td>True</td>\n",
       "      <td>6.603668</td>\n",
       "    </tr>\n",
       "    <tr>\n",
       "      <th>1</th>\n",
       "      <td>-1.000436</td>\n",
       "      <td>False</td>\n",
       "      <td>-2.909702</td>\n",
       "    </tr>\n",
       "    <tr>\n",
       "      <th>2</th>\n",
       "      <td>-0.762590</td>\n",
       "      <td>False</td>\n",
       "      <td>-2.675324</td>\n",
       "    </tr>\n",
       "    <tr>\n",
       "      <th>3</th>\n",
       "      <td>0.674898</td>\n",
       "      <td>True</td>\n",
       "      <td>6.496472</td>\n",
       "    </tr>\n",
       "    <tr>\n",
       "      <th>4</th>\n",
       "      <td>-2.141102</td>\n",
       "      <td>False</td>\n",
       "      <td>-7.003684</td>\n",
       "    </tr>\n",
       "    <tr>\n",
       "      <th>...</th>\n",
       "      <td>...</td>\n",
       "      <td>...</td>\n",
       "      <td>...</td>\n",
       "    </tr>\n",
       "    <tr>\n",
       "      <th>995</th>\n",
       "      <td>-1.800016</td>\n",
       "      <td>False</td>\n",
       "      <td>-4.385415</td>\n",
       "    </tr>\n",
       "    <tr>\n",
       "      <th>996</th>\n",
       "      <td>-1.148815</td>\n",
       "      <td>False</td>\n",
       "      <td>-2.907490</td>\n",
       "    </tr>\n",
       "    <tr>\n",
       "      <th>997</th>\n",
       "      <td>-1.105429</td>\n",
       "      <td>False</td>\n",
       "      <td>-3.193994</td>\n",
       "    </tr>\n",
       "    <tr>\n",
       "      <th>998</th>\n",
       "      <td>-0.423894</td>\n",
       "      <td>True</td>\n",
       "      <td>5.356881</td>\n",
       "    </tr>\n",
       "    <tr>\n",
       "      <th>999</th>\n",
       "      <td>-0.814841</td>\n",
       "      <td>False</td>\n",
       "      <td>-1.409951</td>\n",
       "    </tr>\n",
       "  </tbody>\n",
       "</table>\n",
       "<p>1000 rows × 3 columns</p>\n",
       "</div>"
      ],
      "text/plain": [
       "           W0     v0         y\n",
       "0    0.598909   True  6.603668\n",
       "1   -1.000436  False -2.909702\n",
       "2   -0.762590  False -2.675324\n",
       "3    0.674898   True  6.496472\n",
       "4   -2.141102  False -7.003684\n",
       "..        ...    ...       ...\n",
       "995 -1.800016  False -4.385415\n",
       "996 -1.148815  False -2.907490\n",
       "997 -1.105429  False -3.193994\n",
       "998 -0.423894   True  5.356881\n",
       "999 -0.814841  False -1.409951\n",
       "\n",
       "[1000 rows x 3 columns]"
      ]
     },
     "execution_count": 2,
     "metadata": {},
     "output_type": "execute_result"
    }
   ],
   "source": [
    "data = dowhy.datasets.linear_dataset(beta=5,\n",
    "        num_common_causes=1,\n",
    "        num_instruments = 0,\n",
    "        num_samples=1000,\n",
    "        treatment_is_binary=True)\n",
    "df = data['df']\n",
    "df['y'] = df['y'] + np.random.normal(size=len(df)) # Adding noise to data. Without noise, the variance in Y|X, Z is zero, and mcmc fails.\n",
    "#data['dot_graph'] = 'digraph { v ->y;X0-> v;X0-> y;}'\n",
    "\n",
    "treatment= data[\"treatment_name\"][0]\n",
    "outcome = data[\"outcome_name\"][0]\n",
    "common_cause = data[\"common_causes_names\"][0]\n",
    "df"
   ]
  },
  {
   "cell_type": "code",
   "execution_count": 3,
   "metadata": {
    "execution": {
     "iopub.execute_input": "2022-10-17T14:03:47.595519Z",
     "iopub.status.busy": "2022-10-17T14:03:47.595053Z",
     "iopub.status.idle": "2022-10-17T14:03:47.741699Z",
     "shell.execute_reply": "2022-10-17T14:03:47.741132Z"
    }
   },
   "outputs": [
    {
     "data": {
      "text/plain": [
       "<AxesSubplot: xlabel='v0'>"
      ]
     },
     "execution_count": 3,
     "metadata": {},
     "output_type": "execute_result"
    },
    {
     "data": {
      "image/png": "[encoded data removed]",
      "text/plain": [
       "<Figure size 640x480 with 1 Axes>"
      ]
     },
     "metadata": {},
     "output_type": "display_data"
    }
   ],
   "source": [
    "# data['df'] is just a regular pandas.DataFrame\n",
    "df.causal.do(x=treatment,\n",
    "                     variable_types={treatment: 'b', outcome: 'c', common_cause: 'c'},\n",
    "                     outcome=outcome,\n",
    "                     common_causes=[common_cause],\n",
    "                     proceed_when_unidentifiable=True).groupby(treatment).mean().plot(y=outcome, kind='bar')"
   ]
  },
  {
   "cell_type": "code",
   "execution_count": 4,
   "metadata": {
    "execution": {
     "iopub.execute_input": "2022-10-17T14:03:47.744578Z",
     "iopub.status.busy": "2022-10-17T14:03:47.744173Z",
     "iopub.status.idle": "2022-10-17T14:03:47.860837Z",
     "shell.execute_reply": "2022-10-17T14:03:47.860358Z"
    }
   },
   "outputs": [
    {
     "data": {
      "text/plain": [
       "<AxesSubplot: xlabel='v0'>"
      ]
     },
     "execution_count": 4,
     "metadata": {},
     "output_type": "execute_result"
    },
    {
     "data": {
      "image/png": "[encoded data removed]",
      "text/plain": [
       "<Figure size 640x480 with 1 Axes>"
      ]
     },
     "metadata": {},
     "output_type": "display_data"
    }
   ],
   "source": [
    "df.causal.do(x={treatment: 1}, \n",
    "              variable_types={treatment:'b', outcome: 'c', common_cause: 'c'}, \n",
    "              outcome=outcome,\n",
    "              method='weighting', \n",
    "              common_causes=[common_cause],\n",
    "              proceed_when_unidentifiable=True).groupby(treatment).mean().plot(y=outcome, kind='bar')"
   ]
  },
  {
   "cell_type": "code",
   "execution_count": 5,
   "metadata": {
    "execution": {
     "iopub.execute_input": "2022-10-17T14:03:47.863592Z",
     "iopub.status.busy": "2022-10-17T14:03:47.863195Z",
     "iopub.status.idle": "2022-10-17T14:03:47.893005Z",
     "shell.execute_reply": "2022-10-17T14:03:47.891907Z"
    }
   },
   "outputs": [],
   "source": [
    "cdf_1 = df.causal.do(x={treatment: 1}, \n",
    "              variable_types={treatment: 'b', outcome: 'c', common_cause: 'c'}, \n",
    "              outcome=outcome, \n",
    "              dot_graph=data['dot_graph'],\n",
    "              proceed_when_unidentifiable=True)\n",
    "\n",
    "cdf_0 = df.causal.do(x={treatment: 0}, \n",
    "              variable_types={treatment: 'b', outcome: 'c', common_cause: 'c'}, \n",
    "              outcome=outcome, \n",
    "              dot_graph=data['dot_graph'],\n",
    "              proceed_when_unidentifiable=True)\n"
   ]
  },
  {
   "cell_type": "code",
   "execution_count": 6,
   "metadata": {
    "execution": {
     "iopub.execute_input": "2022-10-17T14:03:47.895827Z",
     "iopub.status.busy": "2022-10-17T14:03:47.895439Z",
     "iopub.status.idle": "2022-10-17T14:03:47.907624Z",
     "shell.execute_reply": "2022-10-17T14:03:47.907090Z"
    },
    "scrolled": true
   },
   "outputs": [
    {
     "data": {
      "text/html": [
       "<div>\n",
       "<style scoped>\n",
       "    .dataframe tbody tr th:only-of-type {\n",
       "        vertical-align: middle;\n",
       "    }\n",
       "\n",
       "    .dataframe tbody tr th {\n",
       "        vertical-align: top;\n",
       "    }\n",
       "\n",
       "    .dataframe thead th {\n",
       "        text-align: right;\n",
       "    }\n",
       "</style>\n",
       "<table border=\"1\" class=\"dataframe\">\n",
       "  <thead>\n",
       "    <tr style=\"text-align: right;\">\n",
       "      <th></th>\n",
       "      <th>W0</th>\n",
       "      <th>v0</th>\n",
       "      <th>y</th>\n",
       "      <th>propensity_score</th>\n",
       "      <th>weight</th>\n",
       "    </tr>\n",
       "  </thead>\n",
       "  <tbody>\n",
       "    <tr>\n",
       "      <th>0</th>\n",
       "      <td>1.386097</td>\n",
       "      <td>False</td>\n",
       "      <td>3.691658</td>\n",
       "      <td>0.058994</td>\n",
       "      <td>16.951016</td>\n",
       "    </tr>\n",
       "    <tr>\n",
       "      <th>1</th>\n",
       "      <td>-2.007019</td>\n",
       "      <td>False</td>\n",
       "      <td>-6.068847</td>\n",
       "      <td>0.983840</td>\n",
       "      <td>1.016425</td>\n",
       "    </tr>\n",
       "    <tr>\n",
       "      <th>2</th>\n",
       "      <td>-0.594681</td>\n",
       "      <td>False</td>\n",
       "      <td>-1.940410</td>\n",
       "      <td>0.776585</td>\n",
       "      <td>1.287689</td>\n",
       "    </tr>\n",
       "    <tr>\n",
       "      <th>3</th>\n",
       "      <td>0.055470</td>\n",
       "      <td>False</td>\n",
       "      <td>0.938028</td>\n",
       "      <td>0.481983</td>\n",
       "      <td>2.074761</td>\n",
       "    </tr>\n",
       "    <tr>\n",
       "      <th>4</th>\n",
       "      <td>0.339775</td>\n",
       "      <td>False</td>\n",
       "      <td>1.943973</td>\n",
       "      <td>0.343342</td>\n",
       "      <td>2.912551</td>\n",
       "    </tr>\n",
       "    <tr>\n",
       "      <th>...</th>\n",
       "      <td>...</td>\n",
       "      <td>...</td>\n",
       "      <td>...</td>\n",
       "      <td>...</td>\n",
       "      <td>...</td>\n",
       "    </tr>\n",
       "    <tr>\n",
       "      <th>995</th>\n",
       "      <td>-0.472033</td>\n",
       "      <td>False</td>\n",
       "      <td>-1.989297</td>\n",
       "      <td>0.730517</td>\n",
       "      <td>1.368894</td>\n",
       "    </tr>\n",
       "    <tr>\n",
       "      <th>996</th>\n",
       "      <td>-0.111262</td>\n",
       "      <td>False</td>\n",
       "      <td>-0.981572</td>\n",
       "      <td>0.566086</td>\n",
       "      <td>1.766518</td>\n",
       "    </tr>\n",
       "    <tr>\n",
       "      <th>997</th>\n",
       "      <td>-0.196767</td>\n",
       "      <td>False</td>\n",
       "      <td>-0.735517</td>\n",
       "      <td>0.608076</td>\n",
       "      <td>1.644531</td>\n",
       "    </tr>\n",
       "    <tr>\n",
       "      <th>998</th>\n",
       "      <td>-2.054935</td>\n",
       "      <td>False</td>\n",
       "      <td>-5.627801</td>\n",
       "      <td>0.985314</td>\n",
       "      <td>1.014905</td>\n",
       "    </tr>\n",
       "    <tr>\n",
       "      <th>999</th>\n",
       "      <td>0.907189</td>\n",
       "      <td>False</td>\n",
       "      <td>2.703374</td>\n",
       "      <td>0.142011</td>\n",
       "      <td>7.041720</td>\n",
       "    </tr>\n",
       "  </tbody>\n",
       "</table>\n",
       "<p>1000 rows × 5 columns</p>\n",
       "</div>"
      ],
      "text/plain": [
       "           W0     v0         y  propensity_score     weight\n",
       "0    1.386097  False  3.691658          0.058994  16.951016\n",
       "1   -2.007019  False -6.068847          0.983840   1.016425\n",
       "2   -0.594681  False -1.940410          0.776585   1.287689\n",
       "3    0.055470  False  0.938028          0.481983   2.074761\n",
       "4    0.339775  False  1.943973          0.343342   2.912551\n",
       "..        ...    ...       ...               ...        ...\n",
       "995 -0.472033  False -1.989297          0.730517   1.368894\n",
       "996 -0.111262  False -0.981572          0.566086   1.766518\n",
       "997 -0.196767  False -0.735517          0.608076   1.644531\n",
       "998 -2.054935  False -5.627801          0.985314   1.014905\n",
       "999  0.907189  False  2.703374          0.142011   7.041720\n",
       "\n",
       "[1000 rows x 5 columns]"
      ]
     },
     "execution_count": 6,
     "metadata": {},
     "output_type": "execute_result"
    }
   ],
   "source": [
    "cdf_0"
   ]
  },
  {
   "cell_type": "code",
   "execution_count": 7,
   "metadata": {
    "execution": {
     "iopub.execute_input": "2022-10-17T14:03:47.910185Z",
     "iopub.status.busy": "2022-10-17T14:03:47.909871Z",
     "iopub.status.idle": "2022-10-17T14:03:47.919456Z",
     "shell.execute_reply": "2022-10-17T14:03:47.918850Z"
    }
   },
   "outputs": [
    {
     "data": {
      "text/html": [
       "<div>\n",
       "<style scoped>\n",
       "    .dataframe tbody tr th:only-of-type {\n",
       "        vertical-align: middle;\n",
       "    }\n",
       "\n",
       "    .dataframe tbody tr th {\n",
       "        vertical-align: top;\n",
       "    }\n",
       "\n",
       "    .dataframe thead th {\n",
       "        text-align: right;\n",
       "    }\n",
       "</style>\n",
       "<table border=\"1\" class=\"dataframe\">\n",
       "  <thead>\n",
       "    <tr style=\"text-align: right;\">\n",
       "      <th></th>\n",
       "      <th>W0</th>\n",
       "      <th>v0</th>\n",
       "      <th>y</th>\n",
       "      <th>propensity_score</th>\n",
       "      <th>weight</th>\n",
       "    </tr>\n",
       "  </thead>\n",
       "  <tbody>\n",
       "    <tr>\n",
       "      <th>0</th>\n",
       "      <td>0.170149</td>\n",
       "      <td>True</td>\n",
       "      <td>5.017203</td>\n",
       "      <td>0.575560</td>\n",
       "      <td>1.737437</td>\n",
       "    </tr>\n",
       "    <tr>\n",
       "      <th>1</th>\n",
       "      <td>0.828068</td>\n",
       "      <td>True</td>\n",
       "      <td>8.472136</td>\n",
       "      <td>0.837303</td>\n",
       "      <td>1.194311</td>\n",
       "    </tr>\n",
       "    <tr>\n",
       "      <th>2</th>\n",
       "      <td>-1.262914</td>\n",
       "      <td>True</td>\n",
       "      <td>2.871409</td>\n",
       "      <td>0.069106</td>\n",
       "      <td>14.470549</td>\n",
       "    </tr>\n",
       "    <tr>\n",
       "      <th>3</th>\n",
       "      <td>-0.898102</td>\n",
       "      <td>True</td>\n",
       "      <td>1.931534</td>\n",
       "      <td>0.134591</td>\n",
       "      <td>7.429942</td>\n",
       "    </tr>\n",
       "    <tr>\n",
       "      <th>4</th>\n",
       "      <td>-0.060574</td>\n",
       "      <td>True</td>\n",
       "      <td>4.777845</td>\n",
       "      <td>0.459304</td>\n",
       "      <td>2.177207</td>\n",
       "    </tr>\n",
       "    <tr>\n",
       "      <th>...</th>\n",
       "      <td>...</td>\n",
       "      <td>...</td>\n",
       "      <td>...</td>\n",
       "      <td>...</td>\n",
       "      <td>...</td>\n",
       "    </tr>\n",
       "    <tr>\n",
       "      <th>995</th>\n",
       "      <td>-1.835211</td>\n",
       "      <td>True</td>\n",
       "      <td>-0.294381</td>\n",
       "      <td>0.022739</td>\n",
       "      <td>43.976637</td>\n",
       "    </tr>\n",
       "    <tr>\n",
       "      <th>996</th>\n",
       "      <td>0.190233</td>\n",
       "      <td>True</td>\n",
       "      <td>5.347509</td>\n",
       "      <td>0.585474</td>\n",
       "      <td>1.708016</td>\n",
       "    </tr>\n",
       "    <tr>\n",
       "      <th>997</th>\n",
       "      <td>0.438420</td>\n",
       "      <td>True</td>\n",
       "      <td>6.100254</td>\n",
       "      <td>0.700233</td>\n",
       "      <td>1.428096</td>\n",
       "    </tr>\n",
       "    <tr>\n",
       "      <th>998</th>\n",
       "      <td>-0.119792</td>\n",
       "      <td>True</td>\n",
       "      <td>3.282433</td>\n",
       "      <td>0.429672</td>\n",
       "      <td>2.327357</td>\n",
       "    </tr>\n",
       "    <tr>\n",
       "      <th>999</th>\n",
       "      <td>-0.005790</td>\n",
       "      <td>True</td>\n",
       "      <td>4.244247</td>\n",
       "      <td>0.486981</td>\n",
       "      <td>2.053467</td>\n",
       "    </tr>\n",
       "  </tbody>\n",
       "</table>\n",
       "<p>1000 rows × 5 columns</p>\n",
       "</div>"
      ],
      "text/plain": [
       "           W0    v0         y  propensity_score     weight\n",
       "0    0.170149  True  5.017203          0.575560   1.737437\n",
       "1    0.828068  True  8.472136          0.837303   1.194311\n",
       "2   -1.262914  True  2.871409          0.069106  14.470549\n",
       "3   -0.898102  True  1.931534          0.134591   7.429942\n",
       "4   -0.060574  True  4.777845          0.459304   2.177207\n",
       "..        ...   ...       ...               ...        ...\n",
       "995 -1.835211  True -0.294381          0.022739  43.976637\n",
       "996  0.190233  True  5.347509          0.585474   1.708016\n",
       "997  0.438420  True  6.100254          0.700233   1.428096\n",
       "998 -0.119792  True  3.282433          0.429672   2.327357\n",
       "999 -0.005790  True  4.244247          0.486981   2.053467\n",
       "\n",
       "[1000 rows x 5 columns]"
      ]
     },
     "execution_count": 7,
     "metadata": {},
     "output_type": "execute_result"
    }
   ],
   "source": [
    "cdf_1"
   ]
  },
  {
   "cell_type": "markdown",
   "metadata": {},
   "source": [
    "## Comparing the estimate to Linear Regression\n",
    "First, estimating the effect using the causal data frame, and the 95% confidence interval."
   ]
  },
  {
   "cell_type": "code",
   "execution_count": 8,
   "metadata": {
    "execution": {
     "iopub.execute_input": "2022-10-17T14:03:47.922020Z",
     "iopub.status.busy": "2022-10-17T14:03:47.921812Z",
     "iopub.status.idle": "2022-10-17T14:03:47.978117Z",
     "shell.execute_reply": "2022-10-17T14:03:47.977503Z"
    }
   },
   "outputs": [
    {
     "data": {
      "image/png": "[encoded data removed]",
      "text/latex": [
       "$\\displaystyle 5.26044618414173$"
      ],
      "text/plain": [
       "5.260446184141734"
      ]
     },
     "execution_count": 8,
     "metadata": {},
     "output_type": "execute_result"
    }
   ],
   "source": [
    "(cdf_1['y'] - cdf_0['y']).mean()"
   ]
  },
  {
   "cell_type": "code",
   "execution_count": 9,
   "metadata": {
    "execution": {
     "iopub.execute_input": "2022-10-17T14:03:47.980716Z",
     "iopub.status.busy": "2022-10-17T14:03:47.980511Z",
     "iopub.status.idle": "2022-10-17T14:03:47.999500Z",
     "shell.execute_reply": "2022-10-17T14:03:47.998914Z"
    }
   },
   "outputs": [
    {
     "data": {
      "image/png": "[encoded data removed]",
      "text/latex": [
       "$\\displaystyle 0.252522966451731$"
      ],
      "text/plain": [
       "0.25252296645173145"
      ]
     },
     "execution_count": 9,
     "metadata": {},
     "output_type": "execute_result"
    }
   ],
   "source": [
    "1.96*(cdf_1['y'] - cdf_0['y']).std() / np.sqrt(len(df))"
   ]
  },
  {
   "cell_type": "markdown",
   "metadata": {},
   "source": [
    "Comparing to the estimate from OLS."
   ]
  },
  {
   "cell_type": "code",
   "execution_count": 10,
   "metadata": {
    "execution": {
     "iopub.execute_input": "2022-10-17T14:03:48.002058Z",
     "iopub.status.busy": "2022-10-17T14:03:48.001859Z",
     "iopub.status.idle": "2022-10-17T14:03:48.016332Z",
     "shell.execute_reply": "2022-10-17T14:03:48.015764Z"
    }
   },
   "outputs": [
    {
     "data": {
      "text/html": [
       "<table class=\"simpletable\">\n",
       "<caption>OLS Regression Results</caption>\n",
       "<tr>\n",
       "  <th>Dep. Variable:</th>            <td>y</td>        <th>  R-squared (uncentered):</th>      <td>   0.950</td>\n",
       "</tr>\n",
       "<tr>\n",
       "  <th>Model:</th>                   <td>OLS</td>       <th>  Adj. R-squared (uncentered):</th> <td>   0.950</td>\n",
       "</tr>\n",
       "<tr>\n",
       "  <th>Method:</th>             <td>Least Squares</td>  <th>  F-statistic:       </th>          <td>   9472.</td>\n",
       "</tr>\n",
       "<tr>\n",
       "  <th>Date:</th>             <td>Mon, 17 Oct 2022</td> <th>  Prob (F-statistic):</th>           <td>  0.00</td> \n",
       "</tr>\n",
       "<tr>\n",
       "  <th>Time:</th>                 <td>14:03:48</td>     <th>  Log-Likelihood:    </th>          <td> -1441.7</td>\n",
       "</tr>\n",
       "<tr>\n",
       "  <th>No. Observations:</th>      <td>  1000</td>      <th>  AIC:               </th>          <td>   2887.</td>\n",
       "</tr>\n",
       "<tr>\n",
       "  <th>Df Residuals:</th>          <td>   998</td>      <th>  BIC:               </th>          <td>   2897.</td>\n",
       "</tr>\n",
       "<tr>\n",
       "  <th>Df Model:</th>              <td>     2</td>      <th>                     </th>              <td> </td>   \n",
       "</tr>\n",
       "<tr>\n",
       "  <th>Covariance Type:</th>      <td>nonrobust</td>    <th>                     </th>              <td> </td>   \n",
       "</tr>\n",
       "</table>\n",
       "<table class=\"simpletable\">\n",
       "<tr>\n",
       "   <td></td>     <th>coef</th>     <th>std err</th>      <th>t</th>      <th>P>|t|</th>  <th>[0.025</th>    <th>0.975]</th>  \n",
       "</tr>\n",
       "<tr>\n",
       "  <th>x1</th> <td>    2.7483</td> <td>    0.028</td> <td>   99.040</td> <td> 0.000</td> <td>    2.694</td> <td>    2.803</td>\n",
       "</tr>\n",
       "<tr>\n",
       "  <th>x2</th> <td>    5.0991</td> <td>    0.060</td> <td>   85.556</td> <td> 0.000</td> <td>    4.982</td> <td>    5.216</td>\n",
       "</tr>\n",
       "</table>\n",
       "<table class=\"simpletable\">\n",
       "<tr>\n",
       "  <th>Omnibus:</th>       <td> 1.522</td> <th>  Durbin-Watson:     </th> <td>   2.062</td>\n",
       "</tr>\n",
       "<tr>\n",
       "  <th>Prob(Omnibus):</th> <td> 0.467</td> <th>  Jarque-Bera (JB):  </th> <td>   1.599</td>\n",
       "</tr>\n",
       "<tr>\n",
       "  <th>Skew:</th>          <td> 0.082</td> <th>  Prob(JB):          </th> <td>   0.450</td>\n",
       "</tr>\n",
       "<tr>\n",
       "  <th>Kurtosis:</th>      <td> 2.894</td> <th>  Cond. No.          </th> <td>    2.16</td>\n",
       "</tr>\n",
       "</table><br/><br/>Notes:<br/>[1] R² is computed without centering (uncentered) since the model does not contain a constant.<br/>[2] Standard Errors assume that the covariance matrix of the errors is correctly specified."
      ],
      "text/plain": [
       "<class 'statsmodels.iolib.summary.Summary'>\n",
       "\"\"\"\n",
       "                                 OLS Regression Results                                \n",
       "=======================================================================================\n",
       "Dep. Variable:                      y   R-squared (uncentered):                   0.950\n",
       "Model:                            OLS   Adj. R-squared (uncentered):              0.950\n",
       "Method:                 Least Squares   F-statistic:                              9472.\n",
       "Date:                Mon, 17 Oct 2022   Prob (F-statistic):                        0.00\n",
       "Time:                        14:03:48   Log-Likelihood:                         -1441.7\n",
       "No. Observations:                1000   AIC:                                      2887.\n",
       "Df Residuals:                     998   BIC:                                      2897.\n",
       "Df Model:                           2                                                  \n",
       "Covariance Type:            nonrobust                                                  \n",
       "==============================================================================\n",
       "                 coef    std err          t      P>|t|      [0.025      0.975]\n",
       "------------------------------------------------------------------------------\n",
       "x1             2.7483      0.028     99.040      0.000       2.694       2.803\n",
       "x2             5.0991      0.060     85.556      0.000       4.982       5.216\n",
       "==============================================================================\n",
       "Omnibus:                        1.522   Durbin-Watson:                   2.062\n",
       "Prob(Omnibus):                  0.467   Jarque-Bera (JB):                1.599\n",
       "Skew:                           0.082   Prob(JB):                        0.450\n",
       "Kurtosis:                       2.894   Cond. No.                         2.16\n",
       "==============================================================================\n",
       "\n",
       "Notes:\n",
       "[1] R² is computed without centering (uncentered) since the model does not contain a constant.\n",
       "[2] Standard Errors assume that the covariance matrix of the errors is correctly specified.\n",
       "\"\"\""
      ]
     },
     "execution_count": 10,
     "metadata": {},
     "output_type": "execute_result"
    }
   ],
   "source": [
    "model = OLS(np.asarray(df[outcome]), np.asarray(df[[common_cause, treatment]], dtype=np.float64))\n",
    "result = model.fit()\n",
    "result.summary()"
   ]
  }
 ],
 "metadata": {
  "kernelspec": {
   "display_name": "Python 3",
   "language": "python",
   "name": "python3"
  },
  "language_info": {
   "codemirror_mode": {
    "name": "ipython",
    "version": 3
   },
   "file_extension": ".py",
   "mimetype": "text/x-python",
   "name": "python",
   "nbconvert_exporter": "python",
   "pygments_lexer": "ipython3",
   "version": "3.8.10"
  },
  "toc": {
   "base_numbering": 1,
   "nav_menu": {},
   "number_sections": false,
   "sideBar": true,
   "skip_h1_title": true,
   "title_cell": "Table of Contents",
   "title_sidebar": "Contents",
   "toc_cell": false,
   "toc_position": {},
   "toc_section_display": true,
   "toc_window_display": false
  }
 },
 "nbformat": 4,
 "nbformat_minor": 4
}
