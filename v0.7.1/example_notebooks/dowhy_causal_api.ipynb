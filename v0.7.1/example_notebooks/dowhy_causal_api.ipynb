{
 "cells": [
  {
   "cell_type": "markdown",
   "metadata": {},
   "source": [
    "# Demo for the DoWhy causal API\n",
    "We show a simple example of adding a causal extension to any dataframe. "
   ]
  },
  {
   "cell_type": "code",
   "execution_count": 1,
   "metadata": {
    "execution": {
     "iopub.execute_input": "2022-10-25T14:40:50.700386Z",
     "iopub.status.busy": "2022-10-25T14:40:50.700000Z",
     "iopub.status.idle": "2022-10-25T14:40:52.090830Z",
     "shell.execute_reply": "2022-10-25T14:40:52.090290Z"
    }
   },
   "outputs": [],
   "source": [
    "import dowhy.datasets\n",
    "import dowhy.api\n",
    "\n",
    "import numpy as np\n",
    "import pandas as pd\n",
    "\n",
    "from statsmodels.api import OLS"
   ]
  },
  {
   "cell_type": "code",
   "execution_count": 2,
   "metadata": {
    "execution": {
     "iopub.execute_input": "2022-10-25T14:40:52.093788Z",
     "iopub.status.busy": "2022-10-25T14:40:52.093285Z",
     "iopub.status.idle": "2022-10-25T14:40:52.124655Z",
     "shell.execute_reply": "2022-10-25T14:40:52.124160Z"
    }
   },
   "outputs": [
    {
     "data": {
      "text/html": [
       "<div>\n",
       "<style scoped>\n",
       "    .dataframe tbody tr th:only-of-type {\n",
       "        vertical-align: middle;\n",
       "    }\n",
       "\n",
       "    .dataframe tbody tr th {\n",
       "        vertical-align: top;\n",
       "    }\n",
       "\n",
       "    .dataframe thead th {\n",
       "        text-align: right;\n",
       "    }\n",
       "</style>\n",
       "<table border=\"1\" class=\"dataframe\">\n",
       "  <thead>\n",
       "    <tr style=\"text-align: right;\">\n",
       "      <th></th>\n",
       "      <th>W0</th>\n",
       "      <th>v0</th>\n",
       "      <th>y</th>\n",
       "    </tr>\n",
       "  </thead>\n",
       "  <tbody>\n",
       "    <tr>\n",
       "      <th>0</th>\n",
       "      <td>1.694793</td>\n",
       "      <td>True</td>\n",
       "      <td>6.666812</td>\n",
       "    </tr>\n",
       "    <tr>\n",
       "      <th>1</th>\n",
       "      <td>1.939838</td>\n",
       "      <td>True</td>\n",
       "      <td>4.904249</td>\n",
       "    </tr>\n",
       "    <tr>\n",
       "      <th>2</th>\n",
       "      <td>1.496117</td>\n",
       "      <td>True</td>\n",
       "      <td>6.084713</td>\n",
       "    </tr>\n",
       "    <tr>\n",
       "      <th>3</th>\n",
       "      <td>1.433540</td>\n",
       "      <td>True</td>\n",
       "      <td>4.617045</td>\n",
       "    </tr>\n",
       "    <tr>\n",
       "      <th>4</th>\n",
       "      <td>0.480489</td>\n",
       "      <td>True</td>\n",
       "      <td>3.836808</td>\n",
       "    </tr>\n",
       "    <tr>\n",
       "      <th>...</th>\n",
       "      <td>...</td>\n",
       "      <td>...</td>\n",
       "      <td>...</td>\n",
       "    </tr>\n",
       "    <tr>\n",
       "      <th>995</th>\n",
       "      <td>1.014702</td>\n",
       "      <td>True</td>\n",
       "      <td>6.211560</td>\n",
       "    </tr>\n",
       "    <tr>\n",
       "      <th>996</th>\n",
       "      <td>-0.354563</td>\n",
       "      <td>True</td>\n",
       "      <td>6.226556</td>\n",
       "    </tr>\n",
       "    <tr>\n",
       "      <th>997</th>\n",
       "      <td>1.081872</td>\n",
       "      <td>True</td>\n",
       "      <td>6.648233</td>\n",
       "    </tr>\n",
       "    <tr>\n",
       "      <th>998</th>\n",
       "      <td>0.556500</td>\n",
       "      <td>True</td>\n",
       "      <td>4.178191</td>\n",
       "    </tr>\n",
       "    <tr>\n",
       "      <th>999</th>\n",
       "      <td>0.456844</td>\n",
       "      <td>False</td>\n",
       "      <td>0.160065</td>\n",
       "    </tr>\n",
       "  </tbody>\n",
       "</table>\n",
       "<p>1000 rows × 3 columns</p>\n",
       "</div>"
      ],
      "text/plain": [
       "           W0     v0         y\n",
       "0    1.694793   True  6.666812\n",
       "1    1.939838   True  4.904249\n",
       "2    1.496117   True  6.084713\n",
       "3    1.433540   True  4.617045\n",
       "4    0.480489   True  3.836808\n",
       "..        ...    ...       ...\n",
       "995  1.014702   True  6.211560\n",
       "996 -0.354563   True  6.226556\n",
       "997  1.081872   True  6.648233\n",
       "998  0.556500   True  4.178191\n",
       "999  0.456844  False  0.160065\n",
       "\n",
       "[1000 rows x 3 columns]"
      ]
     },
     "execution_count": 2,
     "metadata": {},
     "output_type": "execute_result"
    }
   ],
   "source": [
    "data = dowhy.datasets.linear_dataset(beta=5,\n",
    "        num_common_causes=1,\n",
    "        num_instruments = 0,\n",
    "        num_samples=1000,\n",
    "        treatment_is_binary=True)\n",
    "df = data['df']\n",
    "df['y'] = df['y'] + np.random.normal(size=len(df)) # Adding noise to data. Without noise, the variance in Y|X, Z is zero, and mcmc fails.\n",
    "#data['dot_graph'] = 'digraph { v ->y;X0-> v;X0-> y;}'\n",
    "\n",
    "treatment= data[\"treatment_name\"][0]\n",
    "outcome = data[\"outcome_name\"][0]\n",
    "common_cause = data[\"common_causes_names\"][0]\n",
    "df"
   ]
  },
  {
   "cell_type": "code",
   "execution_count": 3,
   "metadata": {
    "execution": {
     "iopub.execute_input": "2022-10-25T14:40:52.127220Z",
     "iopub.status.busy": "2022-10-25T14:40:52.126865Z",
     "iopub.status.idle": "2022-10-25T14:40:52.238774Z",
     "shell.execute_reply": "2022-10-25T14:40:52.238271Z"
    }
   },
   "outputs": [
    {
     "data": {
      "text/plain": [
       "<AxesSubplot: xlabel='v0'>"
      ]
     },
     "execution_count": 3,
     "metadata": {},
     "output_type": "execute_result"
    },
    {
     "data": {
      "image/png": "[encoded data removed]",
      "text/plain": [
       "<Figure size 640x480 with 1 Axes>"
      ]
     },
     "metadata": {},
     "output_type": "display_data"
    }
   ],
   "source": [
    "# data['df'] is just a regular pandas.DataFrame\n",
    "df.causal.do(x=treatment,\n",
    "                     variable_types={treatment: 'b', outcome: 'c', common_cause: 'c'},\n",
    "                     outcome=outcome,\n",
    "                     common_causes=[common_cause],\n",
    "                     proceed_when_unidentifiable=True).groupby(treatment).mean().plot(y=outcome, kind='bar')"
   ]
  },
  {
   "cell_type": "code",
   "execution_count": 4,
   "metadata": {
    "execution": {
     "iopub.execute_input": "2022-10-25T14:40:52.241542Z",
     "iopub.status.busy": "2022-10-25T14:40:52.241167Z",
     "iopub.status.idle": "2022-10-25T14:40:52.330208Z",
     "shell.execute_reply": "2022-10-25T14:40:52.329801Z"
    }
   },
   "outputs": [
    {
     "data": {
      "text/plain": [
       "<AxesSubplot: xlabel='v0'>"
      ]
     },
     "execution_count": 4,
     "metadata": {},
     "output_type": "execute_result"
    },
    {
     "data": {
      "image/png": "[encoded data removed]",
      "text/plain": [
       "<Figure size 640x480 with 1 Axes>"
      ]
     },
     "metadata": {},
     "output_type": "display_data"
    }
   ],
   "source": [
    "df.causal.do(x={treatment: 1}, \n",
    "              variable_types={treatment:'b', outcome: 'c', common_cause: 'c'}, \n",
    "              outcome=outcome,\n",
    "              method='weighting', \n",
    "              common_causes=[common_cause],\n",
    "              proceed_when_unidentifiable=True).groupby(treatment).mean().plot(y=outcome, kind='bar')"
   ]
  },
  {
   "cell_type": "code",
   "execution_count": 5,
   "metadata": {
    "execution": {
     "iopub.execute_input": "2022-10-25T14:40:52.333368Z",
     "iopub.status.busy": "2022-10-25T14:40:52.332493Z",
     "iopub.status.idle": "2022-10-25T14:40:52.356733Z",
     "shell.execute_reply": "2022-10-25T14:40:52.356350Z"
    }
   },
   "outputs": [],
   "source": [
    "cdf_1 = df.causal.do(x={treatment: 1}, \n",
    "              variable_types={treatment: 'b', outcome: 'c', common_cause: 'c'}, \n",
    "              outcome=outcome, \n",
    "              dot_graph=data['dot_graph'],\n",
    "              proceed_when_unidentifiable=True)\n",
    "\n",
    "cdf_0 = df.causal.do(x={treatment: 0}, \n",
    "              variable_types={treatment: 'b', outcome: 'c', common_cause: 'c'}, \n",
    "              outcome=outcome, \n",
    "              dot_graph=data['dot_graph'],\n",
    "              proceed_when_unidentifiable=True)\n"
   ]
  },
  {
   "cell_type": "code",
   "execution_count": 6,
   "metadata": {
    "execution": {
     "iopub.execute_input": "2022-10-25T14:40:52.359829Z",
     "iopub.status.busy": "2022-10-25T14:40:52.358956Z",
     "iopub.status.idle": "2022-10-25T14:40:52.368343Z",
     "shell.execute_reply": "2022-10-25T14:40:52.367950Z"
    },
    "scrolled": true
   },
   "outputs": [
    {
     "data": {
      "text/html": [
       "<div>\n",
       "<style scoped>\n",
       "    .dataframe tbody tr th:only-of-type {\n",
       "        vertical-align: middle;\n",
       "    }\n",
       "\n",
       "    .dataframe tbody tr th {\n",
       "        vertical-align: top;\n",
       "    }\n",
       "\n",
       "    .dataframe thead th {\n",
       "        text-align: right;\n",
       "    }\n",
       "</style>\n",
       "<table border=\"1\" class=\"dataframe\">\n",
       "  <thead>\n",
       "    <tr style=\"text-align: right;\">\n",
       "      <th></th>\n",
       "      <th>W0</th>\n",
       "      <th>v0</th>\n",
       "      <th>y</th>\n",
       "      <th>propensity_score</th>\n",
       "      <th>weight</th>\n",
       "    </tr>\n",
       "  </thead>\n",
       "  <tbody>\n",
       "    <tr>\n",
       "      <th>0</th>\n",
       "      <td>0.994771</td>\n",
       "      <td>False</td>\n",
       "      <td>-0.299659</td>\n",
       "      <td>0.173389</td>\n",
       "      <td>5.767384</td>\n",
       "    </tr>\n",
       "    <tr>\n",
       "      <th>1</th>\n",
       "      <td>1.402116</td>\n",
       "      <td>False</td>\n",
       "      <td>0.453620</td>\n",
       "      <td>0.098719</td>\n",
       "      <td>10.129809</td>\n",
       "    </tr>\n",
       "    <tr>\n",
       "      <th>2</th>\n",
       "      <td>1.670344</td>\n",
       "      <td>False</td>\n",
       "      <td>-1.650445</td>\n",
       "      <td>0.066646</td>\n",
       "      <td>15.004652</td>\n",
       "    </tr>\n",
       "    <tr>\n",
       "      <th>3</th>\n",
       "      <td>0.456844</td>\n",
       "      <td>False</td>\n",
       "      <td>0.160065</td>\n",
       "      <td>0.330979</td>\n",
       "      <td>3.021341</td>\n",
       "    </tr>\n",
       "    <tr>\n",
       "      <th>4</th>\n",
       "      <td>0.664541</td>\n",
       "      <td>False</td>\n",
       "      <td>0.941111</td>\n",
       "      <td>0.262105</td>\n",
       "      <td>3.815261</td>\n",
       "    </tr>\n",
       "    <tr>\n",
       "      <th>...</th>\n",
       "      <td>...</td>\n",
       "      <td>...</td>\n",
       "      <td>...</td>\n",
       "      <td>...</td>\n",
       "      <td>...</td>\n",
       "    </tr>\n",
       "    <tr>\n",
       "      <th>995</th>\n",
       "      <td>1.609900</td>\n",
       "      <td>False</td>\n",
       "      <td>-1.224715</td>\n",
       "      <td>0.072900</td>\n",
       "      <td>13.717466</td>\n",
       "    </tr>\n",
       "    <tr>\n",
       "      <th>996</th>\n",
       "      <td>1.667901</td>\n",
       "      <td>False</td>\n",
       "      <td>-1.899619</td>\n",
       "      <td>0.066889</td>\n",
       "      <td>14.950185</td>\n",
       "    </tr>\n",
       "    <tr>\n",
       "      <th>997</th>\n",
       "      <td>0.664541</td>\n",
       "      <td>False</td>\n",
       "      <td>0.941111</td>\n",
       "      <td>0.262105</td>\n",
       "      <td>3.815261</td>\n",
       "    </tr>\n",
       "    <tr>\n",
       "      <th>998</th>\n",
       "      <td>1.063984</td>\n",
       "      <td>False</td>\n",
       "      <td>-0.686202</td>\n",
       "      <td>0.158131</td>\n",
       "      <td>6.323857</td>\n",
       "    </tr>\n",
       "    <tr>\n",
       "      <th>999</th>\n",
       "      <td>0.183526</td>\n",
       "      <td>False</td>\n",
       "      <td>-0.402992</td>\n",
       "      <td>0.433448</td>\n",
       "      <td>2.307083</td>\n",
       "    </tr>\n",
       "  </tbody>\n",
       "</table>\n",
       "<p>1000 rows × 5 columns</p>\n",
       "</div>"
      ],
      "text/plain": [
       "           W0     v0         y  propensity_score     weight\n",
       "0    0.994771  False -0.299659          0.173389   5.767384\n",
       "1    1.402116  False  0.453620          0.098719  10.129809\n",
       "2    1.670344  False -1.650445          0.066646  15.004652\n",
       "3    0.456844  False  0.160065          0.330979   3.021341\n",
       "4    0.664541  False  0.941111          0.262105   3.815261\n",
       "..        ...    ...       ...               ...        ...\n",
       "995  1.609900  False -1.224715          0.072900  13.717466\n",
       "996  1.667901  False -1.899619          0.066889  14.950185\n",
       "997  0.664541  False  0.941111          0.262105   3.815261\n",
       "998  1.063984  False -0.686202          0.158131   6.323857\n",
       "999  0.183526  False -0.402992          0.433448   2.307083\n",
       "\n",
       "[1000 rows x 5 columns]"
      ]
     },
     "execution_count": 6,
     "metadata": {},
     "output_type": "execute_result"
    }
   ],
   "source": [
    "cdf_0"
   ]
  },
  {
   "cell_type": "code",
   "execution_count": 7,
   "metadata": {
    "execution": {
     "iopub.execute_input": "2022-10-25T14:40:52.371081Z",
     "iopub.status.busy": "2022-10-25T14:40:52.370268Z",
     "iopub.status.idle": "2022-10-25T14:40:52.379257Z",
     "shell.execute_reply": "2022-10-25T14:40:52.378862Z"
    }
   },
   "outputs": [
    {
     "data": {
      "text/html": [
       "<div>\n",
       "<style scoped>\n",
       "    .dataframe tbody tr th:only-of-type {\n",
       "        vertical-align: middle;\n",
       "    }\n",
       "\n",
       "    .dataframe tbody tr th {\n",
       "        vertical-align: top;\n",
       "    }\n",
       "\n",
       "    .dataframe thead th {\n",
       "        text-align: right;\n",
       "    }\n",
       "</style>\n",
       "<table border=\"1\" class=\"dataframe\">\n",
       "  <thead>\n",
       "    <tr style=\"text-align: right;\">\n",
       "      <th></th>\n",
       "      <th>W0</th>\n",
       "      <th>v0</th>\n",
       "      <th>y</th>\n",
       "      <th>propensity_score</th>\n",
       "      <th>weight</th>\n",
       "    </tr>\n",
       "  </thead>\n",
       "  <tbody>\n",
       "    <tr>\n",
       "      <th>0</th>\n",
       "      <td>1.235132</td>\n",
       "      <td>True</td>\n",
       "      <td>6.388387</td>\n",
       "      <td>0.874922</td>\n",
       "      <td>1.142960</td>\n",
       "    </tr>\n",
       "    <tr>\n",
       "      <th>1</th>\n",
       "      <td>1.099936</td>\n",
       "      <td>True</td>\n",
       "      <td>6.434019</td>\n",
       "      <td>0.849354</td>\n",
       "      <td>1.177365</td>\n",
       "    </tr>\n",
       "    <tr>\n",
       "      <th>2</th>\n",
       "      <td>1.213970</td>\n",
       "      <td>True</td>\n",
       "      <td>7.829581</td>\n",
       "      <td>0.871180</td>\n",
       "      <td>1.147868</td>\n",
       "    </tr>\n",
       "    <tr>\n",
       "      <th>3</th>\n",
       "      <td>1.672637</td>\n",
       "      <td>True</td>\n",
       "      <td>5.252571</td>\n",
       "      <td>0.933581</td>\n",
       "      <td>1.071144</td>\n",
       "    </tr>\n",
       "    <tr>\n",
       "      <th>4</th>\n",
       "      <td>-0.056355</td>\n",
       "      <td>True</td>\n",
       "      <td>4.283871</td>\n",
       "      <td>0.471324</td>\n",
       "      <td>2.121685</td>\n",
       "    </tr>\n",
       "    <tr>\n",
       "      <th>...</th>\n",
       "      <td>...</td>\n",
       "      <td>...</td>\n",
       "      <td>...</td>\n",
       "      <td>...</td>\n",
       "      <td>...</td>\n",
       "    </tr>\n",
       "    <tr>\n",
       "      <th>995</th>\n",
       "      <td>1.467878</td>\n",
       "      <td>True</td>\n",
       "      <td>5.864889</td>\n",
       "      <td>0.910229</td>\n",
       "      <td>1.098624</td>\n",
       "    </tr>\n",
       "    <tr>\n",
       "      <th>996</th>\n",
       "      <td>0.514733</td>\n",
       "      <td>True</td>\n",
       "      <td>6.677389</td>\n",
       "      <td>0.689139</td>\n",
       "      <td>1.451085</td>\n",
       "    </tr>\n",
       "    <tr>\n",
       "      <th>997</th>\n",
       "      <td>1.527983</td>\n",
       "      <td>True</td>\n",
       "      <td>7.113033</td>\n",
       "      <td>0.917761</td>\n",
       "      <td>1.089608</td>\n",
       "    </tr>\n",
       "    <tr>\n",
       "      <th>998</th>\n",
       "      <td>0.874906</td>\n",
       "      <td>True</td>\n",
       "      <td>6.008448</td>\n",
       "      <td>0.797478</td>\n",
       "      <td>1.253954</td>\n",
       "    </tr>\n",
       "    <tr>\n",
       "      <th>999</th>\n",
       "      <td>-0.724405</td>\n",
       "      <td>True</td>\n",
       "      <td>6.140434</td>\n",
       "      <td>0.234976</td>\n",
       "      <td>4.255753</td>\n",
       "    </tr>\n",
       "  </tbody>\n",
       "</table>\n",
       "<p>1000 rows × 5 columns</p>\n",
       "</div>"
      ],
      "text/plain": [
       "           W0    v0         y  propensity_score    weight\n",
       "0    1.235132  True  6.388387          0.874922  1.142960\n",
       "1    1.099936  True  6.434019          0.849354  1.177365\n",
       "2    1.213970  True  7.829581          0.871180  1.147868\n",
       "3    1.672637  True  5.252571          0.933581  1.071144\n",
       "4   -0.056355  True  4.283871          0.471324  2.121685\n",
       "..        ...   ...       ...               ...       ...\n",
       "995  1.467878  True  5.864889          0.910229  1.098624\n",
       "996  0.514733  True  6.677389          0.689139  1.451085\n",
       "997  1.527983  True  7.113033          0.917761  1.089608\n",
       "998  0.874906  True  6.008448          0.797478  1.253954\n",
       "999 -0.724405  True  6.140434          0.234976  4.255753\n",
       "\n",
       "[1000 rows x 5 columns]"
      ]
     },
     "execution_count": 7,
     "metadata": {},
     "output_type": "execute_result"
    }
   ],
   "source": [
    "cdf_1"
   ]
  },
  {
   "cell_type": "markdown",
   "metadata": {},
   "source": [
    "## Comparing the estimate to Linear Regression\n",
    "First, estimating the effect using the causal data frame, and the 95% confidence interval."
   ]
  },
  {
   "cell_type": "code",
   "execution_count": 8,
   "metadata": {
    "execution": {
     "iopub.execute_input": "2022-10-25T14:40:52.382078Z",
     "iopub.status.busy": "2022-10-25T14:40:52.381260Z",
     "iopub.status.idle": "2022-10-25T14:40:52.425103Z",
     "shell.execute_reply": "2022-10-25T14:40:52.424660Z"
    }
   },
   "outputs": [
    {
     "data": {
      "image/png": "[encoded data removed]",
      "text/latex": [
       "$\\displaystyle 5.30122277763112$"
      ],
      "text/plain": [
       "5.301222777631125"
      ]
     },
     "execution_count": 8,
     "metadata": {},
     "output_type": "execute_result"
    }
   ],
   "source": [
    "(cdf_1['y'] - cdf_0['y']).mean()"
   ]
  },
  {
   "cell_type": "code",
   "execution_count": 9,
   "metadata": {
    "execution": {
     "iopub.execute_input": "2022-10-25T14:40:52.427602Z",
     "iopub.status.busy": "2022-10-25T14:40:52.427185Z",
     "iopub.status.idle": "2022-10-25T14:40:52.444610Z",
     "shell.execute_reply": "2022-10-25T14:40:52.444191Z"
    }
   },
   "outputs": [
    {
     "data": {
      "image/png": "[encoded data removed]",
      "text/latex": [
       "$\\displaystyle 0.0899846392138589$"
      ],
      "text/plain": [
       "0.08998463921385888"
      ]
     },
     "execution_count": 9,
     "metadata": {},
     "output_type": "execute_result"
    }
   ],
   "source": [
    "1.96*(cdf_1['y'] - cdf_0['y']).std() / np.sqrt(len(df))"
   ]
  },
  {
   "cell_type": "markdown",
   "metadata": {},
   "source": [
    "Comparing to the estimate from OLS."
   ]
  },
  {
   "cell_type": "code",
   "execution_count": 10,
   "metadata": {
    "execution": {
     "iopub.execute_input": "2022-10-25T14:40:52.447459Z",
     "iopub.status.busy": "2022-10-25T14:40:52.446636Z",
     "iopub.status.idle": "2022-10-25T14:40:52.460388Z",
     "shell.execute_reply": "2022-10-25T14:40:52.459953Z"
    }
   },
   "outputs": [
    {
     "data": {
      "text/html": [
       "<table class=\"simpletable\">\n",
       "<caption>OLS Regression Results</caption>\n",
       "<tr>\n",
       "  <th>Dep. Variable:</th>            <td>y</td>        <th>  R-squared (uncentered):</th>      <td>   0.954</td> \n",
       "</tr>\n",
       "<tr>\n",
       "  <th>Model:</th>                   <td>OLS</td>       <th>  Adj. R-squared (uncentered):</th> <td>   0.954</td> \n",
       "</tr>\n",
       "<tr>\n",
       "  <th>Method:</th>             <td>Least Squares</td>  <th>  F-statistic:       </th>          <td>1.045e+04</td>\n",
       "</tr>\n",
       "<tr>\n",
       "  <th>Date:</th>             <td>Tue, 25 Oct 2022</td> <th>  Prob (F-statistic):</th>           <td>  0.00</td>  \n",
       "</tr>\n",
       "<tr>\n",
       "  <th>Time:</th>                 <td>14:40:52</td>     <th>  Log-Likelihood:    </th>          <td> -1406.7</td> \n",
       "</tr>\n",
       "<tr>\n",
       "  <th>No. Observations:</th>      <td>  1000</td>      <th>  AIC:               </th>          <td>   2817.</td> \n",
       "</tr>\n",
       "<tr>\n",
       "  <th>Df Residuals:</th>          <td>   998</td>      <th>  BIC:               </th>          <td>   2827.</td> \n",
       "</tr>\n",
       "<tr>\n",
       "  <th>Df Model:</th>              <td>     2</td>      <th>                     </th>              <td> </td>    \n",
       "</tr>\n",
       "<tr>\n",
       "  <th>Covariance Type:</th>      <td>nonrobust</td>    <th>                     </th>              <td> </td>    \n",
       "</tr>\n",
       "</table>\n",
       "<table class=\"simpletable\">\n",
       "<tr>\n",
       "   <td></td>     <th>coef</th>     <th>std err</th>      <th>t</th>      <th>P>|t|</th>  <th>[0.025</th>    <th>0.975]</th>  \n",
       "</tr>\n",
       "<tr>\n",
       "  <th>x1</th> <td>    0.3381</td> <td>    0.036</td> <td>    9.325</td> <td> 0.000</td> <td>    0.267</td> <td>    0.409</td>\n",
       "</tr>\n",
       "<tr>\n",
       "  <th>x2</th> <td>    5.0857</td> <td>    0.054</td> <td>   93.451</td> <td> 0.000</td> <td>    4.979</td> <td>    5.193</td>\n",
       "</tr>\n",
       "</table>\n",
       "<table class=\"simpletable\">\n",
       "<tr>\n",
       "  <th>Omnibus:</th>       <td> 1.285</td> <th>  Durbin-Watson:     </th> <td>   2.011</td>\n",
       "</tr>\n",
       "<tr>\n",
       "  <th>Prob(Omnibus):</th> <td> 0.526</td> <th>  Jarque-Bera (JB):  </th> <td>   1.169</td>\n",
       "</tr>\n",
       "<tr>\n",
       "  <th>Skew:</th>          <td>-0.034</td> <th>  Prob(JB):          </th> <td>   0.557</td>\n",
       "</tr>\n",
       "<tr>\n",
       "  <th>Kurtosis:</th>      <td> 3.153</td> <th>  Cond. No.          </th> <td>    2.76</td>\n",
       "</tr>\n",
       "</table><br/><br/>Notes:<br/>[1] R² is computed without centering (uncentered) since the model does not contain a constant.<br/>[2] Standard Errors assume that the covariance matrix of the errors is correctly specified."
      ],
      "text/plain": [
       "<class 'statsmodels.iolib.summary.Summary'>\n",
       "\"\"\"\n",
       "                                 OLS Regression Results                                \n",
       "=======================================================================================\n",
       "Dep. Variable:                      y   R-squared (uncentered):                   0.954\n",
       "Model:                            OLS   Adj. R-squared (uncentered):              0.954\n",
       "Method:                 Least Squares   F-statistic:                          1.045e+04\n",
       "Date:                Tue, 25 Oct 2022   Prob (F-statistic):                        0.00\n",
       "Time:                        14:40:52   Log-Likelihood:                         -1406.7\n",
       "No. Observations:                1000   AIC:                                      2817.\n",
       "Df Residuals:                     998   BIC:                                      2827.\n",
       "Df Model:                           2                                                  \n",
       "Covariance Type:            nonrobust                                                  \n",
       "==============================================================================\n",
       "                 coef    std err          t      P>|t|      [0.025      0.975]\n",
       "------------------------------------------------------------------------------\n",
       "x1             0.3381      0.036      9.325      0.000       0.267       0.409\n",
       "x2             5.0857      0.054     93.451      0.000       4.979       5.193\n",
       "==============================================================================\n",
       "Omnibus:                        1.285   Durbin-Watson:                   2.011\n",
       "Prob(Omnibus):                  0.526   Jarque-Bera (JB):                1.169\n",
       "Skew:                          -0.034   Prob(JB):                        0.557\n",
       "Kurtosis:                       3.153   Cond. No.                         2.76\n",
       "==============================================================================\n",
       "\n",
       "Notes:\n",
       "[1] R² is computed without centering (uncentered) since the model does not contain a constant.\n",
       "[2] Standard Errors assume that the covariance matrix of the errors is correctly specified.\n",
       "\"\"\""
      ]
     },
     "execution_count": 10,
     "metadata": {},
     "output_type": "execute_result"
    }
   ],
   "source": [
    "model = OLS(np.asarray(df[outcome]), np.asarray(df[[common_cause, treatment]], dtype=np.float64))\n",
    "result = model.fit()\n",
    "result.summary()"
   ]
  }
 ],
 "metadata": {
  "kernelspec": {
   "display_name": "Python 3",
   "language": "python",
   "name": "python3"
  },
  "language_info": {
   "codemirror_mode": {
    "name": "ipython",
    "version": 3
   },
   "file_extension": ".py",
   "mimetype": "text/x-python",
   "name": "python",
   "nbconvert_exporter": "python",
   "pygments_lexer": "ipython3",
   "version": "3.8.10"
  },
  "toc": {
   "base_numbering": 1,
   "nav_menu": {},
   "number_sections": false,
   "sideBar": true,
   "skip_h1_title": true,
   "title_cell": "Table of Contents",
   "title_sidebar": "Contents",
   "toc_cell": false,
   "toc_position": {},
   "toc_section_display": true,
   "toc_window_display": false
  }
 },
 "nbformat": 4,
 "nbformat_minor": 4
}
