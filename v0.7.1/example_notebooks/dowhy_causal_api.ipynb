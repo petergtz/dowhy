{
 "cells": [
  {
   "cell_type": "markdown",
   "metadata": {},
   "source": [
    "# Demo for the DoWhy causal API\n",
    "We show a simple example of adding a causal extension to any dataframe. "
   ]
  },
  {
   "cell_type": "code",
   "execution_count": 1,
   "metadata": {
    "execution": {
     "iopub.execute_input": "2022-07-28T11:44:34.029015Z",
     "iopub.status.busy": "2022-07-28T11:44:34.028529Z",
     "iopub.status.idle": "2022-07-28T11:44:35.449642Z",
     "shell.execute_reply": "2022-07-28T11:44:35.448309Z"
    }
   },
   "outputs": [
    {
     "name": "stdout",
     "output_type": "stream",
     "text": [
      "keywords are unexpanded, not using\n"
     ]
    }
   ],
   "source": [
    "import dowhy.datasets\n",
    "import dowhy.api\n",
    "\n",
    "import numpy as np\n",
    "import pandas as pd\n",
    "\n",
    "from statsmodels.api import OLS"
   ]
  },
  {
   "cell_type": "code",
   "execution_count": 2,
   "metadata": {
    "execution": {
     "iopub.execute_input": "2022-07-28T11:44:35.455984Z",
     "iopub.status.busy": "2022-07-28T11:44:35.455369Z",
     "iopub.status.idle": "2022-07-28T11:44:35.512879Z",
     "shell.execute_reply": "2022-07-28T11:44:35.511813Z"
    }
   },
   "outputs": [
    {
     "data": {
      "text/html": [
       "<div>\n",
       "<style scoped>\n",
       "    .dataframe tbody tr th:only-of-type {\n",
       "        vertical-align: middle;\n",
       "    }\n",
       "\n",
       "    .dataframe tbody tr th {\n",
       "        vertical-align: top;\n",
       "    }\n",
       "\n",
       "    .dataframe thead th {\n",
       "        text-align: right;\n",
       "    }\n",
       "</style>\n",
       "<table border=\"1\" class=\"dataframe\">\n",
       "  <thead>\n",
       "    <tr style=\"text-align: right;\">\n",
       "      <th></th>\n",
       "      <th>W0</th>\n",
       "      <th>v0</th>\n",
       "      <th>y</th>\n",
       "    </tr>\n",
       "  </thead>\n",
       "  <tbody>\n",
       "    <tr>\n",
       "      <th>0</th>\n",
       "      <td>0.627622</td>\n",
       "      <td>True</td>\n",
       "      <td>7.885050</td>\n",
       "    </tr>\n",
       "    <tr>\n",
       "      <th>1</th>\n",
       "      <td>-0.334633</td>\n",
       "      <td>False</td>\n",
       "      <td>-0.965668</td>\n",
       "    </tr>\n",
       "    <tr>\n",
       "      <th>2</th>\n",
       "      <td>0.550505</td>\n",
       "      <td>True</td>\n",
       "      <td>5.588215</td>\n",
       "    </tr>\n",
       "    <tr>\n",
       "      <th>3</th>\n",
       "      <td>-0.006640</td>\n",
       "      <td>True</td>\n",
       "      <td>4.198246</td>\n",
       "    </tr>\n",
       "    <tr>\n",
       "      <th>4</th>\n",
       "      <td>-1.623852</td>\n",
       "      <td>False</td>\n",
       "      <td>-3.253077</td>\n",
       "    </tr>\n",
       "    <tr>\n",
       "      <th>...</th>\n",
       "      <td>...</td>\n",
       "      <td>...</td>\n",
       "      <td>...</td>\n",
       "    </tr>\n",
       "    <tr>\n",
       "      <th>995</th>\n",
       "      <td>-0.002712</td>\n",
       "      <td>False</td>\n",
       "      <td>0.084613</td>\n",
       "    </tr>\n",
       "    <tr>\n",
       "      <th>996</th>\n",
       "      <td>0.675572</td>\n",
       "      <td>True</td>\n",
       "      <td>6.023857</td>\n",
       "    </tr>\n",
       "    <tr>\n",
       "      <th>997</th>\n",
       "      <td>0.776131</td>\n",
       "      <td>False</td>\n",
       "      <td>2.193610</td>\n",
       "    </tr>\n",
       "    <tr>\n",
       "      <th>998</th>\n",
       "      <td>0.286208</td>\n",
       "      <td>True</td>\n",
       "      <td>4.171823</td>\n",
       "    </tr>\n",
       "    <tr>\n",
       "      <th>999</th>\n",
       "      <td>2.677168</td>\n",
       "      <td>True</td>\n",
       "      <td>8.826237</td>\n",
       "    </tr>\n",
       "  </tbody>\n",
       "</table>\n",
       "<p>1000 rows × 3 columns</p>\n",
       "</div>"
      ],
      "text/plain": [
       "           W0     v0         y\n",
       "0    0.627622   True  7.885050\n",
       "1   -0.334633  False -0.965668\n",
       "2    0.550505   True  5.588215\n",
       "3   -0.006640   True  4.198246\n",
       "4   -1.623852  False -3.253077\n",
       "..        ...    ...       ...\n",
       "995 -0.002712  False  0.084613\n",
       "996  0.675572   True  6.023857\n",
       "997  0.776131  False  2.193610\n",
       "998  0.286208   True  4.171823\n",
       "999  2.677168   True  8.826237\n",
       "\n",
       "[1000 rows x 3 columns]"
      ]
     },
     "execution_count": 2,
     "metadata": {},
     "output_type": "execute_result"
    }
   ],
   "source": [
    "data = dowhy.datasets.linear_dataset(beta=5,\n",
    "        num_common_causes=1,\n",
    "        num_instruments = 0,\n",
    "        num_samples=1000,\n",
    "        treatment_is_binary=True)\n",
    "df = data['df']\n",
    "df['y'] = df['y'] + np.random.normal(size=len(df)) # Adding noise to data. Without noise, the variance in Y|X, Z is zero, and mcmc fails.\n",
    "#data['dot_graph'] = 'digraph { v ->y;X0-> v;X0-> y;}'\n",
    "\n",
    "treatment= data[\"treatment_name\"][0]\n",
    "outcome = data[\"outcome_name\"][0]\n",
    "common_cause = data[\"common_causes_names\"][0]\n",
    "df"
   ]
  },
  {
   "cell_type": "code",
   "execution_count": 3,
   "metadata": {
    "execution": {
     "iopub.execute_input": "2022-07-28T11:44:35.516860Z",
     "iopub.status.busy": "2022-07-28T11:44:35.516357Z",
     "iopub.status.idle": "2022-07-28T11:44:36.425483Z",
     "shell.execute_reply": "2022-07-28T11:44:36.424814Z"
    }
   },
   "outputs": [
    {
     "data": {
      "text/plain": [
       "<AxesSubplot:xlabel='v0'>"
      ]
     },
     "execution_count": 3,
     "metadata": {},
     "output_type": "execute_result"
    },
    {
     "data": {
      "image/png": "[encoded data removed]",
      "text/plain": [
       "<Figure size 432x288 with 1 Axes>"
      ]
     },
     "metadata": {
      "needs_background": "light"
     },
     "output_type": "display_data"
    }
   ],
   "source": [
    "# data['df'] is just a regular pandas.DataFrame\n",
    "df.causal.do(x=treatment,\n",
    "                     variable_types={treatment: 'b', outcome: 'c', common_cause: 'c'},\n",
    "                     outcome=outcome,\n",
    "                     common_causes=[common_cause],\n",
    "                     proceed_when_unidentifiable=True).groupby(treatment).mean().plot(y=outcome, kind='bar')"
   ]
  },
  {
   "cell_type": "code",
   "execution_count": 4,
   "metadata": {
    "execution": {
     "iopub.execute_input": "2022-07-28T11:44:36.429659Z",
     "iopub.status.busy": "2022-07-28T11:44:36.429217Z",
     "iopub.status.idle": "2022-07-28T11:44:36.542635Z",
     "shell.execute_reply": "2022-07-28T11:44:36.541969Z"
    }
   },
   "outputs": [
    {
     "data": {
      "text/plain": [
       "<AxesSubplot:xlabel='v0'>"
      ]
     },
     "execution_count": 4,
     "metadata": {},
     "output_type": "execute_result"
    },
    {
     "data": {
      "image/png": "[encoded data removed]",
      "text/plain": [
       "<Figure size 432x288 with 1 Axes>"
      ]
     },
     "metadata": {
      "needs_background": "light"
     },
     "output_type": "display_data"
    }
   ],
   "source": [
    "df.causal.do(x={treatment: 1}, \n",
    "              variable_types={treatment:'b', outcome: 'c', common_cause: 'c'}, \n",
    "              outcome=outcome,\n",
    "              method='weighting', \n",
    "              common_causes=[common_cause],\n",
    "              proceed_when_unidentifiable=True).groupby(treatment).mean().plot(y=outcome, kind='bar')"
   ]
  },
  {
   "cell_type": "code",
   "execution_count": 5,
   "metadata": {
    "execution": {
     "iopub.execute_input": "2022-07-28T11:44:36.547874Z",
     "iopub.status.busy": "2022-07-28T11:44:36.546582Z",
     "iopub.status.idle": "2022-07-28T11:44:36.585178Z",
     "shell.execute_reply": "2022-07-28T11:44:36.584504Z"
    }
   },
   "outputs": [],
   "source": [
    "cdf_1 = df.causal.do(x={treatment: 1}, \n",
    "              variable_types={treatment: 'b', outcome: 'c', common_cause: 'c'}, \n",
    "              outcome=outcome, \n",
    "              dot_graph=data['dot_graph'],\n",
    "              proceed_when_unidentifiable=True)\n",
    "\n",
    "cdf_0 = df.causal.do(x={treatment: 0}, \n",
    "              variable_types={treatment: 'b', outcome: 'c', common_cause: 'c'}, \n",
    "              outcome=outcome, \n",
    "              dot_graph=data['dot_graph'],\n",
    "              proceed_when_unidentifiable=True)\n"
   ]
  },
  {
   "cell_type": "code",
   "execution_count": 6,
   "metadata": {
    "execution": {
     "iopub.execute_input": "2022-07-28T11:44:36.590645Z",
     "iopub.status.busy": "2022-07-28T11:44:36.589377Z",
     "iopub.status.idle": "2022-07-28T11:44:36.604296Z",
     "shell.execute_reply": "2022-07-28T11:44:36.603589Z"
    },
    "scrolled": true
   },
   "outputs": [
    {
     "data": {
      "text/html": [
       "<div>\n",
       "<style scoped>\n",
       "    .dataframe tbody tr th:only-of-type {\n",
       "        vertical-align: middle;\n",
       "    }\n",
       "\n",
       "    .dataframe tbody tr th {\n",
       "        vertical-align: top;\n",
       "    }\n",
       "\n",
       "    .dataframe thead th {\n",
       "        text-align: right;\n",
       "    }\n",
       "</style>\n",
       "<table border=\"1\" class=\"dataframe\">\n",
       "  <thead>\n",
       "    <tr style=\"text-align: right;\">\n",
       "      <th></th>\n",
       "      <th>W0</th>\n",
       "      <th>v0</th>\n",
       "      <th>y</th>\n",
       "      <th>propensity_score</th>\n",
       "      <th>weight</th>\n",
       "    </tr>\n",
       "  </thead>\n",
       "  <tbody>\n",
       "    <tr>\n",
       "      <th>0</th>\n",
       "      <td>-0.008104</td>\n",
       "      <td>False</td>\n",
       "      <td>0.226007</td>\n",
       "      <td>0.515897</td>\n",
       "      <td>1.938370</td>\n",
       "    </tr>\n",
       "    <tr>\n",
       "      <th>1</th>\n",
       "      <td>1.392089</td>\n",
       "      <td>False</td>\n",
       "      <td>2.505784</td>\n",
       "      <td>0.063560</td>\n",
       "      <td>15.733115</td>\n",
       "    </tr>\n",
       "    <tr>\n",
       "      <th>2</th>\n",
       "      <td>-0.377061</td>\n",
       "      <td>False</td>\n",
       "      <td>-1.473656</td>\n",
       "      <td>0.687665</td>\n",
       "      <td>1.454196</td>\n",
       "    </tr>\n",
       "    <tr>\n",
       "      <th>3</th>\n",
       "      <td>-1.030072</td>\n",
       "      <td>False</td>\n",
       "      <td>-1.772441</td>\n",
       "      <td>0.888299</td>\n",
       "      <td>1.125747</td>\n",
       "    </tr>\n",
       "    <tr>\n",
       "      <th>4</th>\n",
       "      <td>1.306722</td>\n",
       "      <td>False</td>\n",
       "      <td>2.138904</td>\n",
       "      <td>0.074316</td>\n",
       "      <td>13.456103</td>\n",
       "    </tr>\n",
       "    <tr>\n",
       "      <th>...</th>\n",
       "      <td>...</td>\n",
       "      <td>...</td>\n",
       "      <td>...</td>\n",
       "      <td>...</td>\n",
       "      <td>...</td>\n",
       "    </tr>\n",
       "    <tr>\n",
       "      <th>995</th>\n",
       "      <td>0.185086</td>\n",
       "      <td>False</td>\n",
       "      <td>-0.277756</td>\n",
       "      <td>0.421571</td>\n",
       "      <td>2.372079</td>\n",
       "    </tr>\n",
       "    <tr>\n",
       "      <th>996</th>\n",
       "      <td>0.156563</td>\n",
       "      <td>False</td>\n",
       "      <td>-1.130665</td>\n",
       "      <td>0.435307</td>\n",
       "      <td>2.297232</td>\n",
       "    </tr>\n",
       "    <tr>\n",
       "      <th>997</th>\n",
       "      <td>0.856506</td>\n",
       "      <td>False</td>\n",
       "      <td>2.438818</td>\n",
       "      <td>0.162903</td>\n",
       "      <td>6.138632</td>\n",
       "    </tr>\n",
       "    <tr>\n",
       "      <th>998</th>\n",
       "      <td>1.113007</td>\n",
       "      <td>False</td>\n",
       "      <td>1.102145</td>\n",
       "      <td>0.105153</td>\n",
       "      <td>9.509964</td>\n",
       "    </tr>\n",
       "    <tr>\n",
       "      <th>999</th>\n",
       "      <td>0.225521</td>\n",
       "      <td>False</td>\n",
       "      <td>-0.972995</td>\n",
       "      <td>0.402310</td>\n",
       "      <td>2.485647</td>\n",
       "    </tr>\n",
       "  </tbody>\n",
       "</table>\n",
       "<p>1000 rows × 5 columns</p>\n",
       "</div>"
      ],
      "text/plain": [
       "           W0     v0         y  propensity_score     weight\n",
       "0   -0.008104  False  0.226007          0.515897   1.938370\n",
       "1    1.392089  False  2.505784          0.063560  15.733115\n",
       "2   -0.377061  False -1.473656          0.687665   1.454196\n",
       "3   -1.030072  False -1.772441          0.888299   1.125747\n",
       "4    1.306722  False  2.138904          0.074316  13.456103\n",
       "..        ...    ...       ...               ...        ...\n",
       "995  0.185086  False -0.277756          0.421571   2.372079\n",
       "996  0.156563  False -1.130665          0.435307   2.297232\n",
       "997  0.856506  False  2.438818          0.162903   6.138632\n",
       "998  1.113007  False  1.102145          0.105153   9.509964\n",
       "999  0.225521  False -0.972995          0.402310   2.485647\n",
       "\n",
       "[1000 rows x 5 columns]"
      ]
     },
     "execution_count": 6,
     "metadata": {},
     "output_type": "execute_result"
    }
   ],
   "source": [
    "cdf_0"
   ]
  },
  {
   "cell_type": "code",
   "execution_count": 7,
   "metadata": {
    "execution": {
     "iopub.execute_input": "2022-07-28T11:44:36.608462Z",
     "iopub.status.busy": "2022-07-28T11:44:36.608002Z",
     "iopub.status.idle": "2022-07-28T11:44:36.623142Z",
     "shell.execute_reply": "2022-07-28T11:44:36.622302Z"
    }
   },
   "outputs": [
    {
     "data": {
      "text/html": [
       "<div>\n",
       "<style scoped>\n",
       "    .dataframe tbody tr th:only-of-type {\n",
       "        vertical-align: middle;\n",
       "    }\n",
       "\n",
       "    .dataframe tbody tr th {\n",
       "        vertical-align: top;\n",
       "    }\n",
       "\n",
       "    .dataframe thead th {\n",
       "        text-align: right;\n",
       "    }\n",
       "</style>\n",
       "<table border=\"1\" class=\"dataframe\">\n",
       "  <thead>\n",
       "    <tr style=\"text-align: right;\">\n",
       "      <th></th>\n",
       "      <th>W0</th>\n",
       "      <th>v0</th>\n",
       "      <th>y</th>\n",
       "      <th>propensity_score</th>\n",
       "      <th>weight</th>\n",
       "    </tr>\n",
       "  </thead>\n",
       "  <tbody>\n",
       "    <tr>\n",
       "      <th>0</th>\n",
       "      <td>1.457884</td>\n",
       "      <td>True</td>\n",
       "      <td>8.845743</td>\n",
       "      <td>0.943720</td>\n",
       "      <td>1.059636</td>\n",
       "    </tr>\n",
       "    <tr>\n",
       "      <th>1</th>\n",
       "      <td>2.155559</td>\n",
       "      <td>True</td>\n",
       "      <td>11.465383</td>\n",
       "      <td>0.985103</td>\n",
       "      <td>1.015122</td>\n",
       "    </tr>\n",
       "    <tr>\n",
       "      <th>2</th>\n",
       "      <td>1.289358</td>\n",
       "      <td>True</td>\n",
       "      <td>7.711589</td>\n",
       "      <td>0.923301</td>\n",
       "      <td>1.083071</td>\n",
       "    </tr>\n",
       "    <tr>\n",
       "      <th>3</th>\n",
       "      <td>2.246441</td>\n",
       "      <td>True</td>\n",
       "      <td>7.854718</td>\n",
       "      <td>0.987511</td>\n",
       "      <td>1.012647</td>\n",
       "    </tr>\n",
       "    <tr>\n",
       "      <th>4</th>\n",
       "      <td>1.094905</td>\n",
       "      <td>True</td>\n",
       "      <td>5.851307</td>\n",
       "      <td>0.891450</td>\n",
       "      <td>1.121768</td>\n",
       "    </tr>\n",
       "    <tr>\n",
       "      <th>...</th>\n",
       "      <td>...</td>\n",
       "      <td>...</td>\n",
       "      <td>...</td>\n",
       "      <td>...</td>\n",
       "      <td>...</td>\n",
       "    </tr>\n",
       "    <tr>\n",
       "      <th>995</th>\n",
       "      <td>1.882233</td>\n",
       "      <td>True</td>\n",
       "      <td>5.346720</td>\n",
       "      <td>0.974767</td>\n",
       "      <td>1.025886</td>\n",
       "    </tr>\n",
       "    <tr>\n",
       "      <th>996</th>\n",
       "      <td>0.672204</td>\n",
       "      <td>True</td>\n",
       "      <td>4.895083</td>\n",
       "      <td>0.781482</td>\n",
       "      <td>1.279619</td>\n",
       "    </tr>\n",
       "    <tr>\n",
       "      <th>997</th>\n",
       "      <td>-0.851549</td>\n",
       "      <td>True</td>\n",
       "      <td>3.333244</td>\n",
       "      <td>0.151564</td>\n",
       "      <td>6.597871</td>\n",
       "    </tr>\n",
       "    <tr>\n",
       "      <th>998</th>\n",
       "      <td>0.638387</td>\n",
       "      <td>True</td>\n",
       "      <td>5.844696</td>\n",
       "      <td>0.769913</td>\n",
       "      <td>1.298848</td>\n",
       "    </tr>\n",
       "    <tr>\n",
       "      <th>999</th>\n",
       "      <td>-1.196006</td>\n",
       "      <td>True</td>\n",
       "      <td>2.934026</td>\n",
       "      <td>0.083187</td>\n",
       "      <td>12.021157</td>\n",
       "    </tr>\n",
       "  </tbody>\n",
       "</table>\n",
       "<p>1000 rows × 5 columns</p>\n",
       "</div>"
      ],
      "text/plain": [
       "           W0    v0          y  propensity_score     weight\n",
       "0    1.457884  True   8.845743          0.943720   1.059636\n",
       "1    2.155559  True  11.465383          0.985103   1.015122\n",
       "2    1.289358  True   7.711589          0.923301   1.083071\n",
       "3    2.246441  True   7.854718          0.987511   1.012647\n",
       "4    1.094905  True   5.851307          0.891450   1.121768\n",
       "..        ...   ...        ...               ...        ...\n",
       "995  1.882233  True   5.346720          0.974767   1.025886\n",
       "996  0.672204  True   4.895083          0.781482   1.279619\n",
       "997 -0.851549  True   3.333244          0.151564   6.597871\n",
       "998  0.638387  True   5.844696          0.769913   1.298848\n",
       "999 -1.196006  True   2.934026          0.083187  12.021157\n",
       "\n",
       "[1000 rows x 5 columns]"
      ]
     },
     "execution_count": 7,
     "metadata": {},
     "output_type": "execute_result"
    }
   ],
   "source": [
    "cdf_1"
   ]
  },
  {
   "cell_type": "markdown",
   "metadata": {},
   "source": [
    "## Comparing the estimate to Linear Regression\n",
    "First, estimating the effect using the causal data frame, and the 95% confidence interval."
   ]
  },
  {
   "cell_type": "code",
   "execution_count": 8,
   "metadata": {
    "execution": {
     "iopub.execute_input": "2022-07-28T11:44:36.626995Z",
     "iopub.status.busy": "2022-07-28T11:44:36.626700Z",
     "iopub.status.idle": "2022-07-28T11:44:36.748501Z",
     "shell.execute_reply": "2022-07-28T11:44:36.747659Z"
    }
   },
   "outputs": [
    {
     "data": {
      "image/png": "[encoded data removed]",
      "text/latex": [
       "$\\displaystyle 4.98463537698712$"
      ],
      "text/plain": [
       "4.984635376987115"
      ]
     },
     "execution_count": 8,
     "metadata": {},
     "output_type": "execute_result"
    }
   ],
   "source": [
    "(cdf_1['y'] - cdf_0['y']).mean()"
   ]
  },
  {
   "cell_type": "code",
   "execution_count": 9,
   "metadata": {
    "execution": {
     "iopub.execute_input": "2022-07-28T11:44:36.752430Z",
     "iopub.status.busy": "2022-07-28T11:44:36.751877Z",
     "iopub.status.idle": "2022-07-28T11:44:36.786900Z",
     "shell.execute_reply": "2022-07-28T11:44:36.786097Z"
    }
   },
   "outputs": [
    {
     "data": {
      "image/png": "[encoded data removed]",
      "text/latex": [
       "$\\displaystyle 0.149488620281007$"
      ],
      "text/plain": [
       "0.14948862028100715"
      ]
     },
     "execution_count": 9,
     "metadata": {},
     "output_type": "execute_result"
    }
   ],
   "source": [
    "1.96*(cdf_1['y'] - cdf_0['y']).std() / np.sqrt(len(df))"
   ]
  },
  {
   "cell_type": "markdown",
   "metadata": {},
   "source": [
    "Comparing to the estimate from OLS."
   ]
  },
  {
   "cell_type": "code",
   "execution_count": 10,
   "metadata": {
    "execution": {
     "iopub.execute_input": "2022-07-28T11:44:36.790731Z",
     "iopub.status.busy": "2022-07-28T11:44:36.790248Z",
     "iopub.status.idle": "2022-07-28T11:44:36.810058Z",
     "shell.execute_reply": "2022-07-28T11:44:36.809335Z"
    }
   },
   "outputs": [
    {
     "data": {
      "text/html": [
       "<table class=\"simpletable\">\n",
       "<caption>OLS Regression Results</caption>\n",
       "<tr>\n",
       "  <th>Dep. Variable:</th>            <td>y</td>        <th>  R-squared (uncentered):</th>      <td>   0.973</td> \n",
       "</tr>\n",
       "<tr>\n",
       "  <th>Model:</th>                   <td>OLS</td>       <th>  Adj. R-squared (uncentered):</th> <td>   0.973</td> \n",
       "</tr>\n",
       "<tr>\n",
       "  <th>Method:</th>             <td>Least Squares</td>  <th>  F-statistic:       </th>          <td>1.814e+04</td>\n",
       "</tr>\n",
       "<tr>\n",
       "  <th>Date:</th>             <td>Thu, 28 Jul 2022</td> <th>  Prob (F-statistic):</th>           <td>  0.00</td>  \n",
       "</tr>\n",
       "<tr>\n",
       "  <th>Time:</th>                 <td>11:44:36</td>     <th>  Log-Likelihood:    </th>          <td> -1415.2</td> \n",
       "</tr>\n",
       "<tr>\n",
       "  <th>No. Observations:</th>      <td>  1000</td>      <th>  AIC:               </th>          <td>   2834.</td> \n",
       "</tr>\n",
       "<tr>\n",
       "  <th>Df Residuals:</th>          <td>   998</td>      <th>  BIC:               </th>          <td>   2844.</td> \n",
       "</tr>\n",
       "<tr>\n",
       "  <th>Df Model:</th>              <td>     2</td>      <th>                     </th>              <td> </td>    \n",
       "</tr>\n",
       "<tr>\n",
       "  <th>Covariance Type:</th>      <td>nonrobust</td>    <th>                     </th>              <td> </td>    \n",
       "</tr>\n",
       "</table>\n",
       "<table class=\"simpletable\">\n",
       "<tr>\n",
       "   <td></td>     <th>coef</th>     <th>std err</th>      <th>t</th>      <th>P>|t|</th>  <th>[0.025</th>    <th>0.975]</th>  \n",
       "</tr>\n",
       "<tr>\n",
       "  <th>x1</th> <td>    1.4639</td> <td>    0.038</td> <td>   38.169</td> <td> 0.000</td> <td>    1.389</td> <td>    1.539</td>\n",
       "</tr>\n",
       "<tr>\n",
       "  <th>x2</th> <td>    4.9882</td> <td>    0.059</td> <td>   84.107</td> <td> 0.000</td> <td>    4.872</td> <td>    5.105</td>\n",
       "</tr>\n",
       "</table>\n",
       "<table class=\"simpletable\">\n",
       "<tr>\n",
       "  <th>Omnibus:</th>       <td> 7.555</td> <th>  Durbin-Watson:     </th> <td>   2.025</td>\n",
       "</tr>\n",
       "<tr>\n",
       "  <th>Prob(Omnibus):</th> <td> 0.023</td> <th>  Jarque-Bera (JB):  </th> <td>   9.160</td>\n",
       "</tr>\n",
       "<tr>\n",
       "  <th>Skew:</th>          <td> 0.102</td> <th>  Prob(JB):          </th> <td>  0.0103</td>\n",
       "</tr>\n",
       "<tr>\n",
       "  <th>Kurtosis:</th>      <td> 3.422</td> <th>  Cond. No.          </th> <td>    3.28</td>\n",
       "</tr>\n",
       "</table><br/><br/>Notes:<br/>[1] R² is computed without centering (uncentered) since the model does not contain a constant.<br/>[2] Standard Errors assume that the covariance matrix of the errors is correctly specified."
      ],
      "text/plain": [
       "<class 'statsmodels.iolib.summary.Summary'>\n",
       "\"\"\"\n",
       "                                 OLS Regression Results                                \n",
       "=======================================================================================\n",
       "Dep. Variable:                      y   R-squared (uncentered):                   0.973\n",
       "Model:                            OLS   Adj. R-squared (uncentered):              0.973\n",
       "Method:                 Least Squares   F-statistic:                          1.814e+04\n",
       "Date:                Thu, 28 Jul 2022   Prob (F-statistic):                        0.00\n",
       "Time:                        11:44:36   Log-Likelihood:                         -1415.2\n",
       "No. Observations:                1000   AIC:                                      2834.\n",
       "Df Residuals:                     998   BIC:                                      2844.\n",
       "Df Model:                           2                                                  \n",
       "Covariance Type:            nonrobust                                                  \n",
       "==============================================================================\n",
       "                 coef    std err          t      P>|t|      [0.025      0.975]\n",
       "------------------------------------------------------------------------------\n",
       "x1             1.4639      0.038     38.169      0.000       1.389       1.539\n",
       "x2             4.9882      0.059     84.107      0.000       4.872       5.105\n",
       "==============================================================================\n",
       "Omnibus:                        7.555   Durbin-Watson:                   2.025\n",
       "Prob(Omnibus):                  0.023   Jarque-Bera (JB):                9.160\n",
       "Skew:                           0.102   Prob(JB):                       0.0103\n",
       "Kurtosis:                       3.422   Cond. No.                         3.28\n",
       "==============================================================================\n",
       "\n",
       "Notes:\n",
       "[1] R² is computed without centering (uncentered) since the model does not contain a constant.\n",
       "[2] Standard Errors assume that the covariance matrix of the errors is correctly specified.\n",
       "\"\"\""
      ]
     },
     "execution_count": 10,
     "metadata": {},
     "output_type": "execute_result"
    }
   ],
   "source": [
    "model = OLS(np.asarray(df[outcome]), np.asarray(df[[common_cause, treatment]], dtype=np.float64))\n",
    "result = model.fit()\n",
    "result.summary()"
   ]
  }
 ],
 "metadata": {
  "kernelspec": {
   "display_name": "Python 3",
   "language": "python",
   "name": "python3"
  },
  "language_info": {
   "codemirror_mode": {
    "name": "ipython",
    "version": 3
   },
   "file_extension": ".py",
   "mimetype": "text/x-python",
   "name": "python",
   "nbconvert_exporter": "python",
   "pygments_lexer": "ipython3",
   "version": "3.8.10"
  },
  "toc": {
   "base_numbering": 1,
   "nav_menu": {},
   "number_sections": false,
   "sideBar": true,
   "skip_h1_title": true,
   "title_cell": "Table of Contents",
   "title_sidebar": "Contents",
   "toc_cell": false,
   "toc_position": {},
   "toc_section_display": true,
   "toc_window_display": false
  }
 },
 "nbformat": 4,
 "nbformat_minor": 4
}
