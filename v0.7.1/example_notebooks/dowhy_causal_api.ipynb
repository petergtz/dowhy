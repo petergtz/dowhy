{
 "cells": [
  {
   "cell_type": "markdown",
   "metadata": {},
   "source": [
    "# Demo for the DoWhy causal API\n",
    "We show a simple example of adding a causal extension to any dataframe. "
   ]
  },
  {
   "cell_type": "code",
   "execution_count": 1,
   "metadata": {
    "execution": {
     "iopub.execute_input": "2022-07-20T15:52:52.211443Z",
     "iopub.status.busy": "2022-07-20T15:52:52.210931Z",
     "iopub.status.idle": "2022-07-20T15:52:53.532919Z",
     "shell.execute_reply": "2022-07-20T15:52:53.532028Z"
    }
   },
   "outputs": [
    {
     "name": "stdout",
     "output_type": "stream",
     "text": [
      "keywords are unexpanded, not using\n"
     ]
    }
   ],
   "source": [
    "import dowhy.datasets\n",
    "import dowhy.api\n",
    "\n",
    "import numpy as np\n",
    "import pandas as pd\n",
    "\n",
    "from statsmodels.api import OLS"
   ]
  },
  {
   "cell_type": "code",
   "execution_count": 2,
   "metadata": {
    "execution": {
     "iopub.execute_input": "2022-07-20T15:52:53.537080Z",
     "iopub.status.busy": "2022-07-20T15:52:53.536507Z",
     "iopub.status.idle": "2022-07-20T15:52:53.582739Z",
     "shell.execute_reply": "2022-07-20T15:52:53.582020Z"
    }
   },
   "outputs": [
    {
     "data": {
      "text/html": [
       "<div>\n",
       "<style scoped>\n",
       "    .dataframe tbody tr th:only-of-type {\n",
       "        vertical-align: middle;\n",
       "    }\n",
       "\n",
       "    .dataframe tbody tr th {\n",
       "        vertical-align: top;\n",
       "    }\n",
       "\n",
       "    .dataframe thead th {\n",
       "        text-align: right;\n",
       "    }\n",
       "</style>\n",
       "<table border=\"1\" class=\"dataframe\">\n",
       "  <thead>\n",
       "    <tr style=\"text-align: right;\">\n",
       "      <th></th>\n",
       "      <th>W0</th>\n",
       "      <th>v0</th>\n",
       "      <th>y</th>\n",
       "    </tr>\n",
       "  </thead>\n",
       "  <tbody>\n",
       "    <tr>\n",
       "      <th>0</th>\n",
       "      <td>-0.847071</td>\n",
       "      <td>True</td>\n",
       "      <td>5.764113</td>\n",
       "    </tr>\n",
       "    <tr>\n",
       "      <th>1</th>\n",
       "      <td>-0.434007</td>\n",
       "      <td>False</td>\n",
       "      <td>-0.338526</td>\n",
       "    </tr>\n",
       "    <tr>\n",
       "      <th>2</th>\n",
       "      <td>0.651028</td>\n",
       "      <td>True</td>\n",
       "      <td>5.173650</td>\n",
       "    </tr>\n",
       "    <tr>\n",
       "      <th>3</th>\n",
       "      <td>0.206796</td>\n",
       "      <td>True</td>\n",
       "      <td>5.834970</td>\n",
       "    </tr>\n",
       "    <tr>\n",
       "      <th>4</th>\n",
       "      <td>0.686597</td>\n",
       "      <td>True</td>\n",
       "      <td>6.724129</td>\n",
       "    </tr>\n",
       "    <tr>\n",
       "      <th>...</th>\n",
       "      <td>...</td>\n",
       "      <td>...</td>\n",
       "      <td>...</td>\n",
       "    </tr>\n",
       "    <tr>\n",
       "      <th>995</th>\n",
       "      <td>1.043465</td>\n",
       "      <td>True</td>\n",
       "      <td>6.653650</td>\n",
       "    </tr>\n",
       "    <tr>\n",
       "      <th>996</th>\n",
       "      <td>0.580309</td>\n",
       "      <td>False</td>\n",
       "      <td>2.602283</td>\n",
       "    </tr>\n",
       "    <tr>\n",
       "      <th>997</th>\n",
       "      <td>1.372125</td>\n",
       "      <td>True</td>\n",
       "      <td>6.504697</td>\n",
       "    </tr>\n",
       "    <tr>\n",
       "      <th>998</th>\n",
       "      <td>0.560423</td>\n",
       "      <td>True</td>\n",
       "      <td>7.315777</td>\n",
       "    </tr>\n",
       "    <tr>\n",
       "      <th>999</th>\n",
       "      <td>1.081653</td>\n",
       "      <td>True</td>\n",
       "      <td>5.543083</td>\n",
       "    </tr>\n",
       "  </tbody>\n",
       "</table>\n",
       "<p>1000 rows × 3 columns</p>\n",
       "</div>"
      ],
      "text/plain": [
       "           W0     v0         y\n",
       "0   -0.847071   True  5.764113\n",
       "1   -0.434007  False -0.338526\n",
       "2    0.651028   True  5.173650\n",
       "3    0.206796   True  5.834970\n",
       "4    0.686597   True  6.724129\n",
       "..        ...    ...       ...\n",
       "995  1.043465   True  6.653650\n",
       "996  0.580309  False  2.602283\n",
       "997  1.372125   True  6.504697\n",
       "998  0.560423   True  7.315777\n",
       "999  1.081653   True  5.543083\n",
       "\n",
       "[1000 rows x 3 columns]"
      ]
     },
     "execution_count": 2,
     "metadata": {},
     "output_type": "execute_result"
    }
   ],
   "source": [
    "data = dowhy.datasets.linear_dataset(beta=5,\n",
    "        num_common_causes=1,\n",
    "        num_instruments = 0,\n",
    "        num_samples=1000,\n",
    "        treatment_is_binary=True)\n",
    "df = data['df']\n",
    "df['y'] = df['y'] + np.random.normal(size=len(df)) # Adding noise to data. Without noise, the variance in Y|X, Z is zero, and mcmc fails.\n",
    "#data['dot_graph'] = 'digraph { v ->y;X0-> v;X0-> y;}'\n",
    "\n",
    "treatment= data[\"treatment_name\"][0]\n",
    "outcome = data[\"outcome_name\"][0]\n",
    "common_cause = data[\"common_causes_names\"][0]\n",
    "df"
   ]
  },
  {
   "cell_type": "code",
   "execution_count": 3,
   "metadata": {
    "execution": {
     "iopub.execute_input": "2022-07-20T15:52:53.586086Z",
     "iopub.status.busy": "2022-07-20T15:52:53.585629Z",
     "iopub.status.idle": "2022-07-20T15:52:54.396352Z",
     "shell.execute_reply": "2022-07-20T15:52:54.395615Z"
    }
   },
   "outputs": [
    {
     "data": {
      "text/plain": [
       "<AxesSubplot:xlabel='v0'>"
      ]
     },
     "execution_count": 3,
     "metadata": {},
     "output_type": "execute_result"
    },
    {
     "data": {
      "image/png": "[encoded data removed]",
      "text/plain": [
       "<Figure size 432x288 with 1 Axes>"
      ]
     },
     "metadata": {
      "needs_background": "light"
     },
     "output_type": "display_data"
    }
   ],
   "source": [
    "# data['df'] is just a regular pandas.DataFrame\n",
    "df.causal.do(x=treatment,\n",
    "                     variable_types={treatment: 'b', outcome: 'c', common_cause: 'c'},\n",
    "                     outcome=outcome,\n",
    "                     common_causes=[common_cause],\n",
    "                     proceed_when_unidentifiable=True).groupby(treatment).mean().plot(y=outcome, kind='bar')"
   ]
  },
  {
   "cell_type": "code",
   "execution_count": 4,
   "metadata": {
    "execution": {
     "iopub.execute_input": "2022-07-20T15:52:54.399731Z",
     "iopub.status.busy": "2022-07-20T15:52:54.399356Z",
     "iopub.status.idle": "2022-07-20T15:52:54.539152Z",
     "shell.execute_reply": "2022-07-20T15:52:54.538349Z"
    }
   },
   "outputs": [
    {
     "data": {
      "text/plain": [
       "<AxesSubplot:xlabel='v0'>"
      ]
     },
     "execution_count": 4,
     "metadata": {},
     "output_type": "execute_result"
    },
    {
     "data": {
      "image/png": "[encoded data removed]",
      "text/plain": [
       "<Figure size 432x288 with 1 Axes>"
      ]
     },
     "metadata": {
      "needs_background": "light"
     },
     "output_type": "display_data"
    }
   ],
   "source": [
    "df.causal.do(x={treatment: 1}, \n",
    "              variable_types={treatment:'b', outcome: 'c', common_cause: 'c'}, \n",
    "              outcome=outcome,\n",
    "              method='weighting', \n",
    "              common_causes=[common_cause],\n",
    "              proceed_when_unidentifiable=True).groupby(treatment).mean().plot(y=outcome, kind='bar')"
   ]
  },
  {
   "cell_type": "code",
   "execution_count": 5,
   "metadata": {
    "execution": {
     "iopub.execute_input": "2022-07-20T15:52:54.543026Z",
     "iopub.status.busy": "2022-07-20T15:52:54.542777Z",
     "iopub.status.idle": "2022-07-20T15:52:54.576824Z",
     "shell.execute_reply": "2022-07-20T15:52:54.576094Z"
    }
   },
   "outputs": [],
   "source": [
    "cdf_1 = df.causal.do(x={treatment: 1}, \n",
    "              variable_types={treatment: 'b', outcome: 'c', common_cause: 'c'}, \n",
    "              outcome=outcome, \n",
    "              dot_graph=data['dot_graph'],\n",
    "              proceed_when_unidentifiable=True)\n",
    "\n",
    "cdf_0 = df.causal.do(x={treatment: 0}, \n",
    "              variable_types={treatment: 'b', outcome: 'c', common_cause: 'c'}, \n",
    "              outcome=outcome, \n",
    "              dot_graph=data['dot_graph'],\n",
    "              proceed_when_unidentifiable=True)\n"
   ]
  },
  {
   "cell_type": "code",
   "execution_count": 6,
   "metadata": {
    "execution": {
     "iopub.execute_input": "2022-07-20T15:52:54.580403Z",
     "iopub.status.busy": "2022-07-20T15:52:54.580033Z",
     "iopub.status.idle": "2022-07-20T15:52:54.592921Z",
     "shell.execute_reply": "2022-07-20T15:52:54.592234Z"
    },
    "scrolled": true
   },
   "outputs": [
    {
     "data": {
      "text/html": [
       "<div>\n",
       "<style scoped>\n",
       "    .dataframe tbody tr th:only-of-type {\n",
       "        vertical-align: middle;\n",
       "    }\n",
       "\n",
       "    .dataframe tbody tr th {\n",
       "        vertical-align: top;\n",
       "    }\n",
       "\n",
       "    .dataframe thead th {\n",
       "        text-align: right;\n",
       "    }\n",
       "</style>\n",
       "<table border=\"1\" class=\"dataframe\">\n",
       "  <thead>\n",
       "    <tr style=\"text-align: right;\">\n",
       "      <th></th>\n",
       "      <th>W0</th>\n",
       "      <th>v0</th>\n",
       "      <th>y</th>\n",
       "      <th>propensity_score</th>\n",
       "      <th>weight</th>\n",
       "    </tr>\n",
       "  </thead>\n",
       "  <tbody>\n",
       "    <tr>\n",
       "      <th>0</th>\n",
       "      <td>-0.373503</td>\n",
       "      <td>False</td>\n",
       "      <td>-2.063875</td>\n",
       "      <td>0.705046</td>\n",
       "      <td>1.418347</td>\n",
       "    </tr>\n",
       "    <tr>\n",
       "      <th>1</th>\n",
       "      <td>0.300966</td>\n",
       "      <td>False</td>\n",
       "      <td>-1.085234</td>\n",
       "      <td>0.330601</td>\n",
       "      <td>3.024791</td>\n",
       "    </tr>\n",
       "    <tr>\n",
       "      <th>2</th>\n",
       "      <td>-0.270178</td>\n",
       "      <td>False</td>\n",
       "      <td>-0.631542</td>\n",
       "      <td>0.652460</td>\n",
       "      <td>1.532662</td>\n",
       "    </tr>\n",
       "    <tr>\n",
       "      <th>3</th>\n",
       "      <td>-0.653574</td>\n",
       "      <td>False</td>\n",
       "      <td>-0.475059</td>\n",
       "      <td>0.821457</td>\n",
       "      <td>1.217349</td>\n",
       "    </tr>\n",
       "    <tr>\n",
       "      <th>4</th>\n",
       "      <td>-1.379462</td>\n",
       "      <td>False</td>\n",
       "      <td>-1.862910</td>\n",
       "      <td>0.961705</td>\n",
       "      <td>1.039820</td>\n",
       "    </tr>\n",
       "    <tr>\n",
       "      <th>...</th>\n",
       "      <td>...</td>\n",
       "      <td>...</td>\n",
       "      <td>...</td>\n",
       "      <td>...</td>\n",
       "      <td>...</td>\n",
       "    </tr>\n",
       "    <tr>\n",
       "      <th>995</th>\n",
       "      <td>-0.043711</td>\n",
       "      <td>False</td>\n",
       "      <td>0.311949</td>\n",
       "      <td>0.525076</td>\n",
       "      <td>1.904485</td>\n",
       "    </tr>\n",
       "    <tr>\n",
       "      <th>996</th>\n",
       "      <td>0.549583</td>\n",
       "      <td>False</td>\n",
       "      <td>0.668491</td>\n",
       "      <td>0.216406</td>\n",
       "      <td>4.620948</td>\n",
       "    </tr>\n",
       "    <tr>\n",
       "      <th>997</th>\n",
       "      <td>1.296047</td>\n",
       "      <td>False</td>\n",
       "      <td>1.910554</td>\n",
       "      <td>0.046002</td>\n",
       "      <td>21.738039</td>\n",
       "    </tr>\n",
       "    <tr>\n",
       "      <th>998</th>\n",
       "      <td>-0.620126</td>\n",
       "      <td>False</td>\n",
       "      <td>0.553588</td>\n",
       "      <td>0.809698</td>\n",
       "      <td>1.235028</td>\n",
       "    </tr>\n",
       "    <tr>\n",
       "      <th>999</th>\n",
       "      <td>0.776751</td>\n",
       "      <td>False</td>\n",
       "      <td>1.182316</td>\n",
       "      <td>0.139692</td>\n",
       "      <td>7.158626</td>\n",
       "    </tr>\n",
       "  </tbody>\n",
       "</table>\n",
       "<p>1000 rows × 5 columns</p>\n",
       "</div>"
      ],
      "text/plain": [
       "           W0     v0         y  propensity_score     weight\n",
       "0   -0.373503  False -2.063875          0.705046   1.418347\n",
       "1    0.300966  False -1.085234          0.330601   3.024791\n",
       "2   -0.270178  False -0.631542          0.652460   1.532662\n",
       "3   -0.653574  False -0.475059          0.821457   1.217349\n",
       "4   -1.379462  False -1.862910          0.961705   1.039820\n",
       "..        ...    ...       ...               ...        ...\n",
       "995 -0.043711  False  0.311949          0.525076   1.904485\n",
       "996  0.549583  False  0.668491          0.216406   4.620948\n",
       "997  1.296047  False  1.910554          0.046002  21.738039\n",
       "998 -0.620126  False  0.553588          0.809698   1.235028\n",
       "999  0.776751  False  1.182316          0.139692   7.158626\n",
       "\n",
       "[1000 rows x 5 columns]"
      ]
     },
     "execution_count": 6,
     "metadata": {},
     "output_type": "execute_result"
    }
   ],
   "source": [
    "cdf_0"
   ]
  },
  {
   "cell_type": "code",
   "execution_count": 7,
   "metadata": {
    "execution": {
     "iopub.execute_input": "2022-07-20T15:52:54.596013Z",
     "iopub.status.busy": "2022-07-20T15:52:54.595653Z",
     "iopub.status.idle": "2022-07-20T15:52:54.612674Z",
     "shell.execute_reply": "2022-07-20T15:52:54.611903Z"
    }
   },
   "outputs": [
    {
     "data": {
      "text/html": [
       "<div>\n",
       "<style scoped>\n",
       "    .dataframe tbody tr th:only-of-type {\n",
       "        vertical-align: middle;\n",
       "    }\n",
       "\n",
       "    .dataframe tbody tr th {\n",
       "        vertical-align: top;\n",
       "    }\n",
       "\n",
       "    .dataframe thead th {\n",
       "        text-align: right;\n",
       "    }\n",
       "</style>\n",
       "<table border=\"1\" class=\"dataframe\">\n",
       "  <thead>\n",
       "    <tr style=\"text-align: right;\">\n",
       "      <th></th>\n",
       "      <th>W0</th>\n",
       "      <th>v0</th>\n",
       "      <th>y</th>\n",
       "      <th>propensity_score</th>\n",
       "      <th>weight</th>\n",
       "    </tr>\n",
       "  </thead>\n",
       "  <tbody>\n",
       "    <tr>\n",
       "      <th>0</th>\n",
       "      <td>0.508195</td>\n",
       "      <td>True</td>\n",
       "      <td>5.197997</td>\n",
       "      <td>0.766736</td>\n",
       "      <td>1.304230</td>\n",
       "    </tr>\n",
       "    <tr>\n",
       "      <th>1</th>\n",
       "      <td>0.358705</td>\n",
       "      <td>True</td>\n",
       "      <td>4.924258</td>\n",
       "      <td>0.698562</td>\n",
       "      <td>1.431512</td>\n",
       "    </tr>\n",
       "    <tr>\n",
       "      <th>2</th>\n",
       "      <td>0.954988</td>\n",
       "      <td>True</td>\n",
       "      <td>7.578972</td>\n",
       "      <td>0.903312</td>\n",
       "      <td>1.107038</td>\n",
       "    </tr>\n",
       "    <tr>\n",
       "      <th>3</th>\n",
       "      <td>1.149259</td>\n",
       "      <td>True</td>\n",
       "      <td>6.508979</td>\n",
       "      <td>0.936361</td>\n",
       "      <td>1.067964</td>\n",
       "    </tr>\n",
       "    <tr>\n",
       "      <th>4</th>\n",
       "      <td>2.521958</td>\n",
       "      <td>True</td>\n",
       "      <td>9.575066</td>\n",
       "      <td>0.997263</td>\n",
       "      <td>1.002745</td>\n",
       "    </tr>\n",
       "    <tr>\n",
       "      <th>...</th>\n",
       "      <td>...</td>\n",
       "      <td>...</td>\n",
       "      <td>...</td>\n",
       "      <td>...</td>\n",
       "      <td>...</td>\n",
       "    </tr>\n",
       "    <tr>\n",
       "      <th>995</th>\n",
       "      <td>1.041624</td>\n",
       "      <td>True</td>\n",
       "      <td>7.568395</td>\n",
       "      <td>0.919615</td>\n",
       "      <td>1.087411</td>\n",
       "    </tr>\n",
       "    <tr>\n",
       "      <th>996</th>\n",
       "      <td>-0.054263</td>\n",
       "      <td>True</td>\n",
       "      <td>4.607452</td>\n",
       "      <td>0.468776</td>\n",
       "      <td>2.133215</td>\n",
       "    </tr>\n",
       "    <tr>\n",
       "      <th>997</th>\n",
       "      <td>0.394525</td>\n",
       "      <td>True</td>\n",
       "      <td>7.352136</td>\n",
       "      <td>0.715899</td>\n",
       "      <td>1.396846</td>\n",
       "    </tr>\n",
       "    <tr>\n",
       "      <th>998</th>\n",
       "      <td>0.779117</td>\n",
       "      <td>True</td>\n",
       "      <td>4.621941</td>\n",
       "      <td>0.860972</td>\n",
       "      <td>1.161478</td>\n",
       "    </tr>\n",
       "    <tr>\n",
       "      <th>999</th>\n",
       "      <td>0.821143</td>\n",
       "      <td>True</td>\n",
       "      <td>6.249199</td>\n",
       "      <td>0.872321</td>\n",
       "      <td>1.146366</td>\n",
       "    </tr>\n",
       "  </tbody>\n",
       "</table>\n",
       "<p>1000 rows × 5 columns</p>\n",
       "</div>"
      ],
      "text/plain": [
       "           W0    v0         y  propensity_score    weight\n",
       "0    0.508195  True  5.197997          0.766736  1.304230\n",
       "1    0.358705  True  4.924258          0.698562  1.431512\n",
       "2    0.954988  True  7.578972          0.903312  1.107038\n",
       "3    1.149259  True  6.508979          0.936361  1.067964\n",
       "4    2.521958  True  9.575066          0.997263  1.002745\n",
       "..        ...   ...       ...               ...       ...\n",
       "995  1.041624  True  7.568395          0.919615  1.087411\n",
       "996 -0.054263  True  4.607452          0.468776  2.133215\n",
       "997  0.394525  True  7.352136          0.715899  1.396846\n",
       "998  0.779117  True  4.621941          0.860972  1.161478\n",
       "999  0.821143  True  6.249199          0.872321  1.146366\n",
       "\n",
       "[1000 rows x 5 columns]"
      ]
     },
     "execution_count": 7,
     "metadata": {},
     "output_type": "execute_result"
    }
   ],
   "source": [
    "cdf_1"
   ]
  },
  {
   "cell_type": "markdown",
   "metadata": {},
   "source": [
    "## Comparing the estimate to Linear Regression\n",
    "First, estimating the effect using the causal data frame, and the 95% confidence interval."
   ]
  },
  {
   "cell_type": "code",
   "execution_count": 8,
   "metadata": {
    "execution": {
     "iopub.execute_input": "2022-07-20T15:52:54.617362Z",
     "iopub.status.busy": "2022-07-20T15:52:54.617037Z",
     "iopub.status.idle": "2022-07-20T15:52:54.717341Z",
     "shell.execute_reply": "2022-07-20T15:52:54.716462Z"
    }
   },
   "outputs": [
    {
     "data": {
      "image/png": "[encoded data removed]",
      "text/latex": [
       "$\\displaystyle 5.87190474942733$"
      ],
      "text/plain": [
       "5.871904749427334"
      ]
     },
     "execution_count": 8,
     "metadata": {},
     "output_type": "execute_result"
    }
   ],
   "source": [
    "(cdf_1['y'] - cdf_0['y']).mean()"
   ]
  },
  {
   "cell_type": "code",
   "execution_count": 9,
   "metadata": {
    "execution": {
     "iopub.execute_input": "2022-07-20T15:52:54.722224Z",
     "iopub.status.busy": "2022-07-20T15:52:54.721557Z",
     "iopub.status.idle": "2022-07-20T15:52:54.746058Z",
     "shell.execute_reply": "2022-07-20T15:52:54.745232Z"
    }
   },
   "outputs": [
    {
     "data": {
      "image/png": "[encoded data removed]",
      "text/latex": [
       "$\\displaystyle 0.137243592994569$"
      ],
      "text/plain": [
       "0.1372435929945691"
      ]
     },
     "execution_count": 9,
     "metadata": {},
     "output_type": "execute_result"
    }
   ],
   "source": [
    "1.96*(cdf_1['y'] - cdf_0['y']).std() / np.sqrt(len(df))"
   ]
  },
  {
   "cell_type": "markdown",
   "metadata": {},
   "source": [
    "Comparing to the estimate from OLS."
   ]
  },
  {
   "cell_type": "code",
   "execution_count": 10,
   "metadata": {
    "execution": {
     "iopub.execute_input": "2022-07-20T15:52:54.749303Z",
     "iopub.status.busy": "2022-07-20T15:52:54.748981Z",
     "iopub.status.idle": "2022-07-20T15:52:54.764514Z",
     "shell.execute_reply": "2022-07-20T15:52:54.763716Z"
    }
   },
   "outputs": [
    {
     "data": {
      "text/html": [
       "<table class=\"simpletable\">\n",
       "<caption>OLS Regression Results</caption>\n",
       "<tr>\n",
       "  <th>Dep. Variable:</th>            <td>y</td>        <th>  R-squared (uncentered):</th>      <td>   0.968</td> \n",
       "</tr>\n",
       "<tr>\n",
       "  <th>Model:</th>                   <td>OLS</td>       <th>  Adj. R-squared (uncentered):</th> <td>   0.968</td> \n",
       "</tr>\n",
       "<tr>\n",
       "  <th>Method:</th>             <td>Least Squares</td>  <th>  F-statistic:       </th>          <td>1.496e+04</td>\n",
       "</tr>\n",
       "<tr>\n",
       "  <th>Date:</th>             <td>Wed, 20 Jul 2022</td> <th>  Prob (F-statistic):</th>           <td>  0.00</td>  \n",
       "</tr>\n",
       "<tr>\n",
       "  <th>Time:</th>                 <td>15:52:54</td>     <th>  Log-Likelihood:    </th>          <td> -1395.3</td> \n",
       "</tr>\n",
       "<tr>\n",
       "  <th>No. Observations:</th>      <td>  1000</td>      <th>  AIC:               </th>          <td>   2795.</td> \n",
       "</tr>\n",
       "<tr>\n",
       "  <th>Df Residuals:</th>          <td>   998</td>      <th>  BIC:               </th>          <td>   2804.</td> \n",
       "</tr>\n",
       "<tr>\n",
       "  <th>Df Model:</th>              <td>     2</td>      <th>                     </th>              <td> </td>    \n",
       "</tr>\n",
       "<tr>\n",
       "  <th>Covariance Type:</th>      <td>nonrobust</td>    <th>                     </th>              <td> </td>    \n",
       "</tr>\n",
       "</table>\n",
       "<table class=\"simpletable\">\n",
       "<tr>\n",
       "   <td></td>     <th>coef</th>     <th>std err</th>      <th>t</th>      <th>P>|t|</th>  <th>[0.025</th>    <th>0.975]</th>  \n",
       "</tr>\n",
       "<tr>\n",
       "  <th>x1</th> <td>    1.4937</td> <td>    0.038</td> <td>   39.785</td> <td> 0.000</td> <td>    1.420</td> <td>    1.567</td>\n",
       "</tr>\n",
       "<tr>\n",
       "  <th>x2</th> <td>    5.0532</td> <td>    0.052</td> <td>   96.440</td> <td> 0.000</td> <td>    4.950</td> <td>    5.156</td>\n",
       "</tr>\n",
       "</table>\n",
       "<table class=\"simpletable\">\n",
       "<tr>\n",
       "  <th>Omnibus:</th>       <td> 1.464</td> <th>  Durbin-Watson:     </th> <td>   2.027</td>\n",
       "</tr>\n",
       "<tr>\n",
       "  <th>Prob(Omnibus):</th> <td> 0.481</td> <th>  Jarque-Bera (JB):  </th> <td>   1.516</td>\n",
       "</tr>\n",
       "<tr>\n",
       "  <th>Skew:</th>          <td> 0.090</td> <th>  Prob(JB):          </th> <td>   0.468</td>\n",
       "</tr>\n",
       "<tr>\n",
       "  <th>Kurtosis:</th>      <td> 2.939</td> <th>  Cond. No.          </th> <td>    2.48</td>\n",
       "</tr>\n",
       "</table><br/><br/>Notes:<br/>[1] R² is computed without centering (uncentered) since the model does not contain a constant.<br/>[2] Standard Errors assume that the covariance matrix of the errors is correctly specified."
      ],
      "text/plain": [
       "<class 'statsmodels.iolib.summary.Summary'>\n",
       "\"\"\"\n",
       "                                 OLS Regression Results                                \n",
       "=======================================================================================\n",
       "Dep. Variable:                      y   R-squared (uncentered):                   0.968\n",
       "Model:                            OLS   Adj. R-squared (uncentered):              0.968\n",
       "Method:                 Least Squares   F-statistic:                          1.496e+04\n",
       "Date:                Wed, 20 Jul 2022   Prob (F-statistic):                        0.00\n",
       "Time:                        15:52:54   Log-Likelihood:                         -1395.3\n",
       "No. Observations:                1000   AIC:                                      2795.\n",
       "Df Residuals:                     998   BIC:                                      2804.\n",
       "Df Model:                           2                                                  \n",
       "Covariance Type:            nonrobust                                                  \n",
       "==============================================================================\n",
       "                 coef    std err          t      P>|t|      [0.025      0.975]\n",
       "------------------------------------------------------------------------------\n",
       "x1             1.4937      0.038     39.785      0.000       1.420       1.567\n",
       "x2             5.0532      0.052     96.440      0.000       4.950       5.156\n",
       "==============================================================================\n",
       "Omnibus:                        1.464   Durbin-Watson:                   2.027\n",
       "Prob(Omnibus):                  0.481   Jarque-Bera (JB):                1.516\n",
       "Skew:                           0.090   Prob(JB):                        0.468\n",
       "Kurtosis:                       2.939   Cond. No.                         2.48\n",
       "==============================================================================\n",
       "\n",
       "Notes:\n",
       "[1] R² is computed without centering (uncentered) since the model does not contain a constant.\n",
       "[2] Standard Errors assume that the covariance matrix of the errors is correctly specified.\n",
       "\"\"\""
      ]
     },
     "execution_count": 10,
     "metadata": {},
     "output_type": "execute_result"
    }
   ],
   "source": [
    "model = OLS(np.asarray(df[outcome]), np.asarray(df[[common_cause, treatment]], dtype=np.float64))\n",
    "result = model.fit()\n",
    "result.summary()"
   ]
  }
 ],
 "metadata": {
  "kernelspec": {
   "display_name": "Python 3",
   "language": "python",
   "name": "python3"
  },
  "language_info": {
   "codemirror_mode": {
    "name": "ipython",
    "version": 3
   },
   "file_extension": ".py",
   "mimetype": "text/x-python",
   "name": "python",
   "nbconvert_exporter": "python",
   "pygments_lexer": "ipython3",
   "version": "3.8.10"
  },
  "toc": {
   "base_numbering": 1,
   "nav_menu": {},
   "number_sections": false,
   "sideBar": true,
   "skip_h1_title": true,
   "title_cell": "Table of Contents",
   "title_sidebar": "Contents",
   "toc_cell": false,
   "toc_position": {},
   "toc_section_display": true,
   "toc_window_display": false
  }
 },
 "nbformat": 4,
 "nbformat_minor": 4
}
