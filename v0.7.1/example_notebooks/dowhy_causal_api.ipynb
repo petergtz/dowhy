{
 "cells": [
  {
   "cell_type": "markdown",
   "metadata": {},
   "source": [
    "# Demo for the DoWhy causal API\n",
    "We show a simple example of adding a causal extension to any dataframe. "
   ]
  },
  {
   "cell_type": "code",
   "execution_count": 1,
   "metadata": {
    "execution": {
     "iopub.execute_input": "2022-07-15T16:23:36.020451Z",
     "iopub.status.busy": "2022-07-15T16:23:36.020188Z",
     "iopub.status.idle": "2022-07-15T16:23:37.120426Z",
     "shell.execute_reply": "2022-07-15T16:23:37.119702Z"
    }
   },
   "outputs": [
    {
     "name": "stdout",
     "output_type": "stream",
     "text": [
      "keywords are unexpanded, not using\n"
     ]
    }
   ],
   "source": [
    "import dowhy.datasets\n",
    "import dowhy.api\n",
    "\n",
    "import numpy as np\n",
    "import pandas as pd\n",
    "\n",
    "from statsmodels.api import OLS"
   ]
  },
  {
   "cell_type": "code",
   "execution_count": 2,
   "metadata": {
    "execution": {
     "iopub.execute_input": "2022-07-15T16:23:37.123886Z",
     "iopub.status.busy": "2022-07-15T16:23:37.123269Z",
     "iopub.status.idle": "2022-07-15T16:23:37.167599Z",
     "shell.execute_reply": "2022-07-15T16:23:37.167043Z"
    }
   },
   "outputs": [
    {
     "data": {
      "text/html": [
       "<div>\n",
       "<style scoped>\n",
       "    .dataframe tbody tr th:only-of-type {\n",
       "        vertical-align: middle;\n",
       "    }\n",
       "\n",
       "    .dataframe tbody tr th {\n",
       "        vertical-align: top;\n",
       "    }\n",
       "\n",
       "    .dataframe thead th {\n",
       "        text-align: right;\n",
       "    }\n",
       "</style>\n",
       "<table border=\"1\" class=\"dataframe\">\n",
       "  <thead>\n",
       "    <tr style=\"text-align: right;\">\n",
       "      <th></th>\n",
       "      <th>W0</th>\n",
       "      <th>v0</th>\n",
       "      <th>y</th>\n",
       "    </tr>\n",
       "  </thead>\n",
       "  <tbody>\n",
       "    <tr>\n",
       "      <th>0</th>\n",
       "      <td>-0.221733</td>\n",
       "      <td>False</td>\n",
       "      <td>1.111044</td>\n",
       "    </tr>\n",
       "    <tr>\n",
       "      <th>1</th>\n",
       "      <td>-0.211903</td>\n",
       "      <td>False</td>\n",
       "      <td>-0.454795</td>\n",
       "    </tr>\n",
       "    <tr>\n",
       "      <th>2</th>\n",
       "      <td>-1.306921</td>\n",
       "      <td>False</td>\n",
       "      <td>-4.290942</td>\n",
       "    </tr>\n",
       "    <tr>\n",
       "      <th>3</th>\n",
       "      <td>0.358945</td>\n",
       "      <td>True</td>\n",
       "      <td>6.445438</td>\n",
       "    </tr>\n",
       "    <tr>\n",
       "      <th>4</th>\n",
       "      <td>-0.355270</td>\n",
       "      <td>False</td>\n",
       "      <td>-0.711614</td>\n",
       "    </tr>\n",
       "    <tr>\n",
       "      <th>...</th>\n",
       "      <td>...</td>\n",
       "      <td>...</td>\n",
       "      <td>...</td>\n",
       "    </tr>\n",
       "    <tr>\n",
       "      <th>995</th>\n",
       "      <td>0.494475</td>\n",
       "      <td>True</td>\n",
       "      <td>5.202539</td>\n",
       "    </tr>\n",
       "    <tr>\n",
       "      <th>996</th>\n",
       "      <td>0.115104</td>\n",
       "      <td>False</td>\n",
       "      <td>0.106966</td>\n",
       "    </tr>\n",
       "    <tr>\n",
       "      <th>997</th>\n",
       "      <td>-1.992502</td>\n",
       "      <td>False</td>\n",
       "      <td>-6.262127</td>\n",
       "    </tr>\n",
       "    <tr>\n",
       "      <th>998</th>\n",
       "      <td>-0.628103</td>\n",
       "      <td>False</td>\n",
       "      <td>-2.596068</td>\n",
       "    </tr>\n",
       "    <tr>\n",
       "      <th>999</th>\n",
       "      <td>-1.364765</td>\n",
       "      <td>False</td>\n",
       "      <td>-4.222890</td>\n",
       "    </tr>\n",
       "  </tbody>\n",
       "</table>\n",
       "<p>1000 rows × 3 columns</p>\n",
       "</div>"
      ],
      "text/plain": [
       "           W0     v0         y\n",
       "0   -0.221733  False  1.111044\n",
       "1   -0.211903  False -0.454795\n",
       "2   -1.306921  False -4.290942\n",
       "3    0.358945   True  6.445438\n",
       "4   -0.355270  False -0.711614\n",
       "..        ...    ...       ...\n",
       "995  0.494475   True  5.202539\n",
       "996  0.115104  False  0.106966\n",
       "997 -1.992502  False -6.262127\n",
       "998 -0.628103  False -2.596068\n",
       "999 -1.364765  False -4.222890\n",
       "\n",
       "[1000 rows x 3 columns]"
      ]
     },
     "execution_count": 2,
     "metadata": {},
     "output_type": "execute_result"
    }
   ],
   "source": [
    "data = dowhy.datasets.linear_dataset(beta=5,\n",
    "        num_common_causes=1,\n",
    "        num_instruments = 0,\n",
    "        num_samples=1000,\n",
    "        treatment_is_binary=True)\n",
    "df = data['df']\n",
    "df['y'] = df['y'] + np.random.normal(size=len(df)) # Adding noise to data. Without noise, the variance in Y|X, Z is zero, and mcmc fails.\n",
    "#data['dot_graph'] = 'digraph { v ->y;X0-> v;X0-> y;}'\n",
    "\n",
    "treatment= data[\"treatment_name\"][0]\n",
    "outcome = data[\"outcome_name\"][0]\n",
    "common_cause = data[\"common_causes_names\"][0]\n",
    "df"
   ]
  },
  {
   "cell_type": "code",
   "execution_count": 3,
   "metadata": {
    "execution": {
     "iopub.execute_input": "2022-07-15T16:23:37.170277Z",
     "iopub.status.busy": "2022-07-15T16:23:37.170053Z",
     "iopub.status.idle": "2022-07-15T16:23:37.908315Z",
     "shell.execute_reply": "2022-07-15T16:23:37.907719Z"
    }
   },
   "outputs": [
    {
     "data": {
      "text/plain": [
       "<AxesSubplot:xlabel='v0'>"
      ]
     },
     "execution_count": 3,
     "metadata": {},
     "output_type": "execute_result"
    },
    {
     "data": {
      "image/png": "[encoded data removed]",
      "text/plain": [
       "<Figure size 432x288 with 1 Axes>"
      ]
     },
     "metadata": {
      "needs_background": "light"
     },
     "output_type": "display_data"
    }
   ],
   "source": [
    "# data['df'] is just a regular pandas.DataFrame\n",
    "df.causal.do(x=treatment,\n",
    "                     variable_types={treatment: 'b', outcome: 'c', common_cause: 'c'},\n",
    "                     outcome=outcome,\n",
    "                     common_causes=[common_cause],\n",
    "                     proceed_when_unidentifiable=True).groupby(treatment).mean().plot(y=outcome, kind='bar')"
   ]
  },
  {
   "cell_type": "code",
   "execution_count": 4,
   "metadata": {
    "execution": {
     "iopub.execute_input": "2022-07-15T16:23:37.911220Z",
     "iopub.status.busy": "2022-07-15T16:23:37.910898Z",
     "iopub.status.idle": "2022-07-15T16:23:37.999462Z",
     "shell.execute_reply": "2022-07-15T16:23:37.998860Z"
    }
   },
   "outputs": [
    {
     "data": {
      "text/plain": [
       "<AxesSubplot:xlabel='v0'>"
      ]
     },
     "execution_count": 4,
     "metadata": {},
     "output_type": "execute_result"
    },
    {
     "data": {
      "image/png": "[encoded data removed]",
      "text/plain": [
       "<Figure size 432x288 with 1 Axes>"
      ]
     },
     "metadata": {
      "needs_background": "light"
     },
     "output_type": "display_data"
    }
   ],
   "source": [
    "df.causal.do(x={treatment: 1}, \n",
    "              variable_types={treatment:'b', outcome: 'c', common_cause: 'c'}, \n",
    "              outcome=outcome,\n",
    "              method='weighting', \n",
    "              common_causes=[common_cause],\n",
    "              proceed_when_unidentifiable=True).groupby(treatment).mean().plot(y=outcome, kind='bar')"
   ]
  },
  {
   "cell_type": "code",
   "execution_count": 5,
   "metadata": {
    "execution": {
     "iopub.execute_input": "2022-07-15T16:23:38.002171Z",
     "iopub.status.busy": "2022-07-15T16:23:38.001952Z",
     "iopub.status.idle": "2022-07-15T16:23:38.031725Z",
     "shell.execute_reply": "2022-07-15T16:23:38.031217Z"
    }
   },
   "outputs": [],
   "source": [
    "cdf_1 = df.causal.do(x={treatment: 1}, \n",
    "              variable_types={treatment: 'b', outcome: 'c', common_cause: 'c'}, \n",
    "              outcome=outcome, \n",
    "              dot_graph=data['dot_graph'],\n",
    "              proceed_when_unidentifiable=True)\n",
    "\n",
    "cdf_0 = df.causal.do(x={treatment: 0}, \n",
    "              variable_types={treatment: 'b', outcome: 'c', common_cause: 'c'}, \n",
    "              outcome=outcome, \n",
    "              dot_graph=data['dot_graph'],\n",
    "              proceed_when_unidentifiable=True)\n"
   ]
  },
  {
   "cell_type": "code",
   "execution_count": 6,
   "metadata": {
    "execution": {
     "iopub.execute_input": "2022-07-15T16:23:38.035114Z",
     "iopub.status.busy": "2022-07-15T16:23:38.033949Z",
     "iopub.status.idle": "2022-07-15T16:23:38.045852Z",
     "shell.execute_reply": "2022-07-15T16:23:38.045250Z"
    },
    "scrolled": true
   },
   "outputs": [
    {
     "data": {
      "text/html": [
       "<div>\n",
       "<style scoped>\n",
       "    .dataframe tbody tr th:only-of-type {\n",
       "        vertical-align: middle;\n",
       "    }\n",
       "\n",
       "    .dataframe tbody tr th {\n",
       "        vertical-align: top;\n",
       "    }\n",
       "\n",
       "    .dataframe thead th {\n",
       "        text-align: right;\n",
       "    }\n",
       "</style>\n",
       "<table border=\"1\" class=\"dataframe\">\n",
       "  <thead>\n",
       "    <tr style=\"text-align: right;\">\n",
       "      <th></th>\n",
       "      <th>W0</th>\n",
       "      <th>v0</th>\n",
       "      <th>y</th>\n",
       "      <th>propensity_score</th>\n",
       "      <th>weight</th>\n",
       "    </tr>\n",
       "  </thead>\n",
       "  <tbody>\n",
       "    <tr>\n",
       "      <th>0</th>\n",
       "      <td>-0.742254</td>\n",
       "      <td>False</td>\n",
       "      <td>-1.765183</td>\n",
       "      <td>0.790512</td>\n",
       "      <td>1.265003</td>\n",
       "    </tr>\n",
       "    <tr>\n",
       "      <th>1</th>\n",
       "      <td>-1.116457</td>\n",
       "      <td>False</td>\n",
       "      <td>-3.735143</td>\n",
       "      <td>0.876924</td>\n",
       "      <td>1.140350</td>\n",
       "    </tr>\n",
       "    <tr>\n",
       "      <th>2</th>\n",
       "      <td>1.192501</td>\n",
       "      <td>False</td>\n",
       "      <td>2.015640</td>\n",
       "      <td>0.123656</td>\n",
       "      <td>8.086974</td>\n",
       "    </tr>\n",
       "    <tr>\n",
       "      <th>3</th>\n",
       "      <td>0.303469</td>\n",
       "      <td>False</td>\n",
       "      <td>2.599272</td>\n",
       "      <td>0.389790</td>\n",
       "      <td>2.565485</td>\n",
       "    </tr>\n",
       "    <tr>\n",
       "      <th>4</th>\n",
       "      <td>-1.979873</td>\n",
       "      <td>False</td>\n",
       "      <td>-5.724103</td>\n",
       "      <td>0.968634</td>\n",
       "      <td>1.032381</td>\n",
       "    </tr>\n",
       "    <tr>\n",
       "      <th>...</th>\n",
       "      <td>...</td>\n",
       "      <td>...</td>\n",
       "      <td>...</td>\n",
       "      <td>...</td>\n",
       "      <td>...</td>\n",
       "    </tr>\n",
       "    <tr>\n",
       "      <th>995</th>\n",
       "      <td>-2.376863</td>\n",
       "      <td>False</td>\n",
       "      <td>-5.089368</td>\n",
       "      <td>0.983769</td>\n",
       "      <td>1.016499</td>\n",
       "    </tr>\n",
       "    <tr>\n",
       "      <th>996</th>\n",
       "      <td>-1.997735</td>\n",
       "      <td>False</td>\n",
       "      <td>-5.027884</td>\n",
       "      <td>0.969543</td>\n",
       "      <td>1.031414</td>\n",
       "    </tr>\n",
       "    <tr>\n",
       "      <th>997</th>\n",
       "      <td>-0.585910</td>\n",
       "      <td>False</td>\n",
       "      <td>-2.527823</td>\n",
       "      <td>0.743160</td>\n",
       "      <td>1.345606</td>\n",
       "    </tr>\n",
       "    <tr>\n",
       "      <th>998</th>\n",
       "      <td>-1.125575</td>\n",
       "      <td>False</td>\n",
       "      <td>-2.957637</td>\n",
       "      <td>0.878586</td>\n",
       "      <td>1.138193</td>\n",
       "    </tr>\n",
       "    <tr>\n",
       "      <th>999</th>\n",
       "      <td>-0.960913</td>\n",
       "      <td>False</td>\n",
       "      <td>-1.271007</td>\n",
       "      <td>0.845459</td>\n",
       "      <td>1.182790</td>\n",
       "    </tr>\n",
       "  </tbody>\n",
       "</table>\n",
       "<p>1000 rows × 5 columns</p>\n",
       "</div>"
      ],
      "text/plain": [
       "           W0     v0         y  propensity_score    weight\n",
       "0   -0.742254  False -1.765183          0.790512  1.265003\n",
       "1   -1.116457  False -3.735143          0.876924  1.140350\n",
       "2    1.192501  False  2.015640          0.123656  8.086974\n",
       "3    0.303469  False  2.599272          0.389790  2.565485\n",
       "4   -1.979873  False -5.724103          0.968634  1.032381\n",
       "..        ...    ...       ...               ...       ...\n",
       "995 -2.376863  False -5.089368          0.983769  1.016499\n",
       "996 -1.997735  False -5.027884          0.969543  1.031414\n",
       "997 -0.585910  False -2.527823          0.743160  1.345606\n",
       "998 -1.125575  False -2.957637          0.878586  1.138193\n",
       "999 -0.960913  False -1.271007          0.845459  1.182790\n",
       "\n",
       "[1000 rows x 5 columns]"
      ]
     },
     "execution_count": 6,
     "metadata": {},
     "output_type": "execute_result"
    }
   ],
   "source": [
    "cdf_0"
   ]
  },
  {
   "cell_type": "code",
   "execution_count": 7,
   "metadata": {
    "execution": {
     "iopub.execute_input": "2022-07-15T16:23:38.048972Z",
     "iopub.status.busy": "2022-07-15T16:23:38.048636Z",
     "iopub.status.idle": "2022-07-15T16:23:38.060652Z",
     "shell.execute_reply": "2022-07-15T16:23:38.060099Z"
    }
   },
   "outputs": [
    {
     "data": {
      "text/html": [
       "<div>\n",
       "<style scoped>\n",
       "    .dataframe tbody tr th:only-of-type {\n",
       "        vertical-align: middle;\n",
       "    }\n",
       "\n",
       "    .dataframe tbody tr th {\n",
       "        vertical-align: top;\n",
       "    }\n",
       "\n",
       "    .dataframe thead th {\n",
       "        text-align: right;\n",
       "    }\n",
       "</style>\n",
       "<table border=\"1\" class=\"dataframe\">\n",
       "  <thead>\n",
       "    <tr style=\"text-align: right;\">\n",
       "      <th></th>\n",
       "      <th>W0</th>\n",
       "      <th>v0</th>\n",
       "      <th>y</th>\n",
       "      <th>propensity_score</th>\n",
       "      <th>weight</th>\n",
       "    </tr>\n",
       "  </thead>\n",
       "  <tbody>\n",
       "    <tr>\n",
       "      <th>0</th>\n",
       "      <td>-2.538773</td>\n",
       "      <td>True</td>\n",
       "      <td>-3.456475</td>\n",
       "      <td>0.012377</td>\n",
       "      <td>80.797277</td>\n",
       "    </tr>\n",
       "    <tr>\n",
       "      <th>1</th>\n",
       "      <td>-2.538773</td>\n",
       "      <td>True</td>\n",
       "      <td>-3.456475</td>\n",
       "      <td>0.012377</td>\n",
       "      <td>80.797277</td>\n",
       "    </tr>\n",
       "    <tr>\n",
       "      <th>2</th>\n",
       "      <td>-0.204507</td>\n",
       "      <td>True</td>\n",
       "      <td>4.285345</td>\n",
       "      <td>0.397803</td>\n",
       "      <td>2.513804</td>\n",
       "    </tr>\n",
       "    <tr>\n",
       "      <th>3</th>\n",
       "      <td>0.009217</td>\n",
       "      <td>True</td>\n",
       "      <td>4.927432</td>\n",
       "      <td>0.487101</td>\n",
       "      <td>2.052961</td>\n",
       "    </tr>\n",
       "    <tr>\n",
       "      <th>4</th>\n",
       "      <td>-1.675061</td>\n",
       "      <td>True</td>\n",
       "      <td>-0.381951</td>\n",
       "      <td>0.051542</td>\n",
       "      <td>19.401519</td>\n",
       "    </tr>\n",
       "    <tr>\n",
       "      <th>...</th>\n",
       "      <td>...</td>\n",
       "      <td>...</td>\n",
       "      <td>...</td>\n",
       "      <td>...</td>\n",
       "      <td>...</td>\n",
       "    </tr>\n",
       "    <tr>\n",
       "      <th>995</th>\n",
       "      <td>0.654555</td>\n",
       "      <td>True</td>\n",
       "      <td>6.099366</td>\n",
       "      <td>0.739723</td>\n",
       "      <td>1.351857</td>\n",
       "    </tr>\n",
       "    <tr>\n",
       "      <th>996</th>\n",
       "      <td>-1.695563</td>\n",
       "      <td>True</td>\n",
       "      <td>0.519423</td>\n",
       "      <td>0.049866</td>\n",
       "      <td>20.053610</td>\n",
       "    </tr>\n",
       "    <tr>\n",
       "      <th>997</th>\n",
       "      <td>-0.575170</td>\n",
       "      <td>True</td>\n",
       "      <td>2.981730</td>\n",
       "      <td>0.260338</td>\n",
       "      <td>3.841167</td>\n",
       "    </tr>\n",
       "    <tr>\n",
       "      <th>998</th>\n",
       "      <td>-1.142837</td>\n",
       "      <td>True</td>\n",
       "      <td>2.779974</td>\n",
       "      <td>0.118321</td>\n",
       "      <td>8.451573</td>\n",
       "    </tr>\n",
       "    <tr>\n",
       "      <th>999</th>\n",
       "      <td>-0.156814</td>\n",
       "      <td>True</td>\n",
       "      <td>5.514072</td>\n",
       "      <td>0.417361</td>\n",
       "      <td>2.396009</td>\n",
       "    </tr>\n",
       "  </tbody>\n",
       "</table>\n",
       "<p>1000 rows × 5 columns</p>\n",
       "</div>"
      ],
      "text/plain": [
       "           W0    v0         y  propensity_score     weight\n",
       "0   -2.538773  True -3.456475          0.012377  80.797277\n",
       "1   -2.538773  True -3.456475          0.012377  80.797277\n",
       "2   -0.204507  True  4.285345          0.397803   2.513804\n",
       "3    0.009217  True  4.927432          0.487101   2.052961\n",
       "4   -1.675061  True -0.381951          0.051542  19.401519\n",
       "..        ...   ...       ...               ...        ...\n",
       "995  0.654555  True  6.099366          0.739723   1.351857\n",
       "996 -1.695563  True  0.519423          0.049866  20.053610\n",
       "997 -0.575170  True  2.981730          0.260338   3.841167\n",
       "998 -1.142837  True  2.779974          0.118321   8.451573\n",
       "999 -0.156814  True  5.514072          0.417361   2.396009\n",
       "\n",
       "[1000 rows x 5 columns]"
      ]
     },
     "execution_count": 7,
     "metadata": {},
     "output_type": "execute_result"
    }
   ],
   "source": [
    "cdf_1"
   ]
  },
  {
   "cell_type": "markdown",
   "metadata": {},
   "source": [
    "## Comparing the estimate to Linear Regression\n",
    "First, estimating the effect using the causal data frame, and the 95% confidence interval."
   ]
  },
  {
   "cell_type": "code",
   "execution_count": 8,
   "metadata": {
    "execution": {
     "iopub.execute_input": "2022-07-15T16:23:38.063138Z",
     "iopub.status.busy": "2022-07-15T16:23:38.062934Z",
     "iopub.status.idle": "2022-07-15T16:23:38.161368Z",
     "shell.execute_reply": "2022-07-15T16:23:38.160778Z"
    }
   },
   "outputs": [
    {
     "data": {
      "image/png": "[encoded data removed]",
      "text/latex": [
       "$\\displaystyle 4.55324688641652$"
      ],
      "text/plain": [
       "4.553246886416517"
      ]
     },
     "execution_count": 8,
     "metadata": {},
     "output_type": "execute_result"
    }
   ],
   "source": [
    "(cdf_1['y'] - cdf_0['y']).mean()"
   ]
  },
  {
   "cell_type": "code",
   "execution_count": 9,
   "metadata": {
    "execution": {
     "iopub.execute_input": "2022-07-15T16:23:38.164209Z",
     "iopub.status.busy": "2022-07-15T16:23:38.163982Z",
     "iopub.status.idle": "2022-07-15T16:23:38.189864Z",
     "shell.execute_reply": "2022-07-15T16:23:38.189264Z"
    }
   },
   "outputs": [
    {
     "data": {
      "image/png": "[encoded data removed]",
      "text/latex": [
       "$\\displaystyle 0.266528068585402$"
      ],
      "text/plain": [
       "0.26652806858540157"
      ]
     },
     "execution_count": 9,
     "metadata": {},
     "output_type": "execute_result"
    }
   ],
   "source": [
    "1.96*(cdf_1['y'] - cdf_0['y']).std() / np.sqrt(len(df))"
   ]
  },
  {
   "cell_type": "markdown",
   "metadata": {},
   "source": [
    "Comparing to the estimate from OLS."
   ]
  },
  {
   "cell_type": "code",
   "execution_count": 10,
   "metadata": {
    "execution": {
     "iopub.execute_input": "2022-07-15T16:23:38.192655Z",
     "iopub.status.busy": "2022-07-15T16:23:38.192435Z",
     "iopub.status.idle": "2022-07-15T16:23:38.207114Z",
     "shell.execute_reply": "2022-07-15T16:23:38.206562Z"
    }
   },
   "outputs": [
    {
     "data": {
      "text/html": [
       "<table class=\"simpletable\">\n",
       "<caption>OLS Regression Results</caption>\n",
       "<tr>\n",
       "  <th>Dep. Variable:</th>            <td>y</td>        <th>  R-squared (uncentered):</th>      <td>   0.953</td> \n",
       "</tr>\n",
       "<tr>\n",
       "  <th>Model:</th>                   <td>OLS</td>       <th>  Adj. R-squared (uncentered):</th> <td>   0.953</td> \n",
       "</tr>\n",
       "<tr>\n",
       "  <th>Method:</th>             <td>Least Squares</td>  <th>  F-statistic:       </th>          <td>1.005e+04</td>\n",
       "</tr>\n",
       "<tr>\n",
       "  <th>Date:</th>             <td>Fri, 15 Jul 2022</td> <th>  Prob (F-statistic):</th>           <td>  0.00</td>  \n",
       "</tr>\n",
       "<tr>\n",
       "  <th>Time:</th>                 <td>16:23:38</td>     <th>  Log-Likelihood:    </th>          <td> -1401.9</td> \n",
       "</tr>\n",
       "<tr>\n",
       "  <th>No. Observations:</th>      <td>  1000</td>      <th>  AIC:               </th>          <td>   2808.</td> \n",
       "</tr>\n",
       "<tr>\n",
       "  <th>Df Residuals:</th>          <td>   998</td>      <th>  BIC:               </th>          <td>   2818.</td> \n",
       "</tr>\n",
       "<tr>\n",
       "  <th>Df Model:</th>              <td>     2</td>      <th>                     </th>              <td> </td>    \n",
       "</tr>\n",
       "<tr>\n",
       "  <th>Covariance Type:</th>      <td>nonrobust</td>    <th>                     </th>              <td> </td>    \n",
       "</tr>\n",
       "</table>\n",
       "<table class=\"simpletable\">\n",
       "<tr>\n",
       "   <td></td>     <th>coef</th>     <th>std err</th>      <th>t</th>      <th>P>|t|</th>  <th>[0.025</th>    <th>0.975]</th>  \n",
       "</tr>\n",
       "<tr>\n",
       "  <th>x1</th> <td>    2.8202</td> <td>    0.026</td> <td>  109.215</td> <td> 0.000</td> <td>    2.769</td> <td>    2.871</td>\n",
       "</tr>\n",
       "<tr>\n",
       "  <th>x2</th> <td>    4.9452</td> <td>    0.057</td> <td>   86.248</td> <td> 0.000</td> <td>    4.833</td> <td>    5.058</td>\n",
       "</tr>\n",
       "</table>\n",
       "<table class=\"simpletable\">\n",
       "<tr>\n",
       "  <th>Omnibus:</th>       <td> 0.471</td> <th>  Durbin-Watson:     </th> <td>   2.045</td>\n",
       "</tr>\n",
       "<tr>\n",
       "  <th>Prob(Omnibus):</th> <td> 0.790</td> <th>  Jarque-Bera (JB):  </th> <td>   0.495</td>\n",
       "</tr>\n",
       "<tr>\n",
       "  <th>Skew:</th>          <td> 0.052</td> <th>  Prob(JB):          </th> <td>   0.781</td>\n",
       "</tr>\n",
       "<tr>\n",
       "  <th>Kurtosis:</th>      <td> 2.970</td> <th>  Cond. No.          </th> <td>    2.22</td>\n",
       "</tr>\n",
       "</table><br/><br/>Notes:<br/>[1] R² is computed without centering (uncentered) since the model does not contain a constant.<br/>[2] Standard Errors assume that the covariance matrix of the errors is correctly specified."
      ],
      "text/plain": [
       "<class 'statsmodels.iolib.summary.Summary'>\n",
       "\"\"\"\n",
       "                                 OLS Regression Results                                \n",
       "=======================================================================================\n",
       "Dep. Variable:                      y   R-squared (uncentered):                   0.953\n",
       "Model:                            OLS   Adj. R-squared (uncentered):              0.953\n",
       "Method:                 Least Squares   F-statistic:                          1.005e+04\n",
       "Date:                Fri, 15 Jul 2022   Prob (F-statistic):                        0.00\n",
       "Time:                        16:23:38   Log-Likelihood:                         -1401.9\n",
       "No. Observations:                1000   AIC:                                      2808.\n",
       "Df Residuals:                     998   BIC:                                      2818.\n",
       "Df Model:                           2                                                  \n",
       "Covariance Type:            nonrobust                                                  \n",
       "==============================================================================\n",
       "                 coef    std err          t      P>|t|      [0.025      0.975]\n",
       "------------------------------------------------------------------------------\n",
       "x1             2.8202      0.026    109.215      0.000       2.769       2.871\n",
       "x2             4.9452      0.057     86.248      0.000       4.833       5.058\n",
       "==============================================================================\n",
       "Omnibus:                        0.471   Durbin-Watson:                   2.045\n",
       "Prob(Omnibus):                  0.790   Jarque-Bera (JB):                0.495\n",
       "Skew:                           0.052   Prob(JB):                        0.781\n",
       "Kurtosis:                       2.970   Cond. No.                         2.22\n",
       "==============================================================================\n",
       "\n",
       "Notes:\n",
       "[1] R² is computed without centering (uncentered) since the model does not contain a constant.\n",
       "[2] Standard Errors assume that the covariance matrix of the errors is correctly specified.\n",
       "\"\"\""
      ]
     },
     "execution_count": 10,
     "metadata": {},
     "output_type": "execute_result"
    }
   ],
   "source": [
    "model = OLS(np.asarray(df[outcome]), np.asarray(df[[common_cause, treatment]], dtype=np.float64))\n",
    "result = model.fit()\n",
    "result.summary()"
   ]
  }
 ],
 "metadata": {
  "kernelspec": {
   "display_name": "Python 3",
   "language": "python",
   "name": "python3"
  },
  "language_info": {
   "codemirror_mode": {
    "name": "ipython",
    "version": 3
   },
   "file_extension": ".py",
   "mimetype": "text/x-python",
   "name": "python",
   "nbconvert_exporter": "python",
   "pygments_lexer": "ipython3",
   "version": "3.8.10"
  },
  "toc": {
   "base_numbering": 1,
   "nav_menu": {},
   "number_sections": false,
   "sideBar": true,
   "skip_h1_title": true,
   "title_cell": "Table of Contents",
   "title_sidebar": "Contents",
   "toc_cell": false,
   "toc_position": {},
   "toc_section_display": true,
   "toc_window_display": false
  }
 },
 "nbformat": 4,
 "nbformat_minor": 4
}
