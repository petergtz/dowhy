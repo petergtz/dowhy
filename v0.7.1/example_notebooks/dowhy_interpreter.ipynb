{
 "cells": [
  {
   "cell_type": "markdown",
   "id": "dc32bd19",
   "metadata": {},
   "source": [
    "# DoWhy: Interpreters for Causal Estimators\n",
    "\n",
    "This is a quick introduction to the use of interpreters in the DoWhy causal inference library.\n",
    "We will load in a sample dataset, use different methods for estimating the causal effect of a (pre-specified)treatment variable on a (pre-specified) outcome variable and demonstrate how to interpret the obtained results.\n",
    "\n",
    "First, let us add the required path for Python to find the DoWhy code and load all required packages"
   ]
  },
  {
   "cell_type": "code",
   "execution_count": 1,
   "id": "30575770",
   "metadata": {
    "execution": {
     "iopub.execute_input": "2022-07-27T13:55:39.163681Z",
     "iopub.status.busy": "2022-07-27T13:55:39.163364Z",
     "iopub.status.idle": "2022-07-27T13:55:39.184741Z",
     "shell.execute_reply": "2022-07-27T13:55:39.183472Z"
    }
   },
   "outputs": [],
   "source": [
    "%load_ext autoreload\n",
    "%autoreload 2"
   ]
  },
  {
   "cell_type": "code",
   "execution_count": 2,
   "id": "d7ff0aca",
   "metadata": {
    "execution": {
     "iopub.execute_input": "2022-07-27T13:55:39.188827Z",
     "iopub.status.busy": "2022-07-27T13:55:39.188393Z",
     "iopub.status.idle": "2022-07-27T13:55:40.535872Z",
     "shell.execute_reply": "2022-07-27T13:55:40.534803Z"
    }
   },
   "outputs": [
    {
     "name": "stdout",
     "output_type": "stream",
     "text": [
      "keywords are unexpanded, not using\n"
     ]
    }
   ],
   "source": [
    "import numpy as np\n",
    "import pandas as pd\n",
    "import logging\n",
    "\n",
    "import dowhy\n",
    "from dowhy import CausalModel\n",
    "import dowhy.datasets "
   ]
  },
  {
   "cell_type": "markdown",
   "id": "da21d5e8",
   "metadata": {},
   "source": [
    "Now, let us load a dataset. For simplicity, we simulate a dataset with linear relationships between common causes and treatment, and common causes and outcome.\n",
    "\n",
    "Beta is the true causal effect."
   ]
  },
  {
   "cell_type": "code",
   "execution_count": 3,
   "id": "2c17bd1f",
   "metadata": {
    "execution": {
     "iopub.execute_input": "2022-07-27T13:55:40.540662Z",
     "iopub.status.busy": "2022-07-27T13:55:40.539885Z",
     "iopub.status.idle": "2022-07-27T13:55:41.117533Z",
     "shell.execute_reply": "2022-07-27T13:55:41.116731Z"
    }
   },
   "outputs": [
    {
     "name": "stdout",
     "output_type": "stream",
     "text": [
      "9264\n"
     ]
    },
    {
     "data": {
      "text/html": [
       "<div>\n",
       "<style scoped>\n",
       "    .dataframe tbody tr th:only-of-type {\n",
       "        vertical-align: middle;\n",
       "    }\n",
       "\n",
       "    .dataframe tbody tr th {\n",
       "        vertical-align: top;\n",
       "    }\n",
       "\n",
       "    .dataframe thead th {\n",
       "        text-align: right;\n",
       "    }\n",
       "</style>\n",
       "<table border=\"1\" class=\"dataframe\">\n",
       "  <thead>\n",
       "    <tr style=\"text-align: right;\">\n",
       "      <th></th>\n",
       "      <th>Z0</th>\n",
       "      <th>Z1</th>\n",
       "      <th>W0</th>\n",
       "      <th>W1</th>\n",
       "      <th>W2</th>\n",
       "      <th>W3</th>\n",
       "      <th>W4</th>\n",
       "      <th>v0</th>\n",
       "      <th>y</th>\n",
       "    </tr>\n",
       "  </thead>\n",
       "  <tbody>\n",
       "    <tr>\n",
       "      <th>0</th>\n",
       "      <td>0.0</td>\n",
       "      <td>0.535953</td>\n",
       "      <td>0.660459</td>\n",
       "      <td>0.378936</td>\n",
       "      <td>1.475279</td>\n",
       "      <td>0.723840</td>\n",
       "      <td>2</td>\n",
       "      <td>True</td>\n",
       "      <td>4.441818</td>\n",
       "    </tr>\n",
       "    <tr>\n",
       "      <th>1</th>\n",
       "      <td>0.0</td>\n",
       "      <td>0.006495</td>\n",
       "      <td>0.838580</td>\n",
       "      <td>1.247014</td>\n",
       "      <td>-1.012283</td>\n",
       "      <td>-0.216729</td>\n",
       "      <td>3</td>\n",
       "      <td>True</td>\n",
       "      <td>3.764843</td>\n",
       "    </tr>\n",
       "    <tr>\n",
       "      <th>2</th>\n",
       "      <td>1.0</td>\n",
       "      <td>0.246572</td>\n",
       "      <td>1.384431</td>\n",
       "      <td>1.304337</td>\n",
       "      <td>-1.842298</td>\n",
       "      <td>-0.896798</td>\n",
       "      <td>1</td>\n",
       "      <td>True</td>\n",
       "      <td>1.700289</td>\n",
       "    </tr>\n",
       "    <tr>\n",
       "      <th>3</th>\n",
       "      <td>1.0</td>\n",
       "      <td>0.609659</td>\n",
       "      <td>1.385118</td>\n",
       "      <td>2.191404</td>\n",
       "      <td>0.394971</td>\n",
       "      <td>-0.561114</td>\n",
       "      <td>1</td>\n",
       "      <td>True</td>\n",
       "      <td>3.554381</td>\n",
       "    </tr>\n",
       "    <tr>\n",
       "      <th>4</th>\n",
       "      <td>0.0</td>\n",
       "      <td>0.113804</td>\n",
       "      <td>2.489955</td>\n",
       "      <td>1.831250</td>\n",
       "      <td>-0.600752</td>\n",
       "      <td>0.068114</td>\n",
       "      <td>3</td>\n",
       "      <td>True</td>\n",
       "      <td>5.558353</td>\n",
       "    </tr>\n",
       "    <tr>\n",
       "      <th>...</th>\n",
       "      <td>...</td>\n",
       "      <td>...</td>\n",
       "      <td>...</td>\n",
       "      <td>...</td>\n",
       "      <td>...</td>\n",
       "      <td>...</td>\n",
       "      <td>...</td>\n",
       "      <td>...</td>\n",
       "      <td>...</td>\n",
       "    </tr>\n",
       "    <tr>\n",
       "      <th>9995</th>\n",
       "      <td>0.0</td>\n",
       "      <td>0.951894</td>\n",
       "      <td>0.305282</td>\n",
       "      <td>1.564002</td>\n",
       "      <td>-2.120824</td>\n",
       "      <td>-0.226999</td>\n",
       "      <td>1</td>\n",
       "      <td>True</td>\n",
       "      <td>1.465086</td>\n",
       "    </tr>\n",
       "    <tr>\n",
       "      <th>9996</th>\n",
       "      <td>1.0</td>\n",
       "      <td>0.304134</td>\n",
       "      <td>1.876713</td>\n",
       "      <td>1.740968</td>\n",
       "      <td>-1.226913</td>\n",
       "      <td>-0.824684</td>\n",
       "      <td>0</td>\n",
       "      <td>True</td>\n",
       "      <td>1.867891</td>\n",
       "    </tr>\n",
       "    <tr>\n",
       "      <th>9997</th>\n",
       "      <td>0.0</td>\n",
       "      <td>0.629927</td>\n",
       "      <td>2.238861</td>\n",
       "      <td>-0.538033</td>\n",
       "      <td>-0.562866</td>\n",
       "      <td>-0.594516</td>\n",
       "      <td>3</td>\n",
       "      <td>True</td>\n",
       "      <td>3.767199</td>\n",
       "    </tr>\n",
       "    <tr>\n",
       "      <th>9998</th>\n",
       "      <td>0.0</td>\n",
       "      <td>0.528640</td>\n",
       "      <td>1.130107</td>\n",
       "      <td>0.536592</td>\n",
       "      <td>0.644871</td>\n",
       "      <td>-0.720363</td>\n",
       "      <td>3</td>\n",
       "      <td>True</td>\n",
       "      <td>4.108085</td>\n",
       "    </tr>\n",
       "    <tr>\n",
       "      <th>9999</th>\n",
       "      <td>1.0</td>\n",
       "      <td>0.481663</td>\n",
       "      <td>0.830598</td>\n",
       "      <td>0.405122</td>\n",
       "      <td>0.821485</td>\n",
       "      <td>0.325900</td>\n",
       "      <td>2</td>\n",
       "      <td>True</td>\n",
       "      <td>3.918717</td>\n",
       "    </tr>\n",
       "  </tbody>\n",
       "</table>\n",
       "<p>10000 rows × 9 columns</p>\n",
       "</div>"
      ],
      "text/plain": [
       "       Z0        Z1        W0        W1        W2        W3 W4    v0         y\n",
       "0     0.0  0.535953  0.660459  0.378936  1.475279  0.723840  2  True  4.441818\n",
       "1     0.0  0.006495  0.838580  1.247014 -1.012283 -0.216729  3  True  3.764843\n",
       "2     1.0  0.246572  1.384431  1.304337 -1.842298 -0.896798  1  True  1.700289\n",
       "3     1.0  0.609659  1.385118  2.191404  0.394971 -0.561114  1  True  3.554381\n",
       "4     0.0  0.113804  2.489955  1.831250 -0.600752  0.068114  3  True  5.558353\n",
       "...   ...       ...       ...       ...       ...       ... ..   ...       ...\n",
       "9995  0.0  0.951894  0.305282  1.564002 -2.120824 -0.226999  1  True  1.465086\n",
       "9996  1.0  0.304134  1.876713  1.740968 -1.226913 -0.824684  0  True  1.867891\n",
       "9997  0.0  0.629927  2.238861 -0.538033 -0.562866 -0.594516  3  True  3.767199\n",
       "9998  0.0  0.528640  1.130107  0.536592  0.644871 -0.720363  3  True  4.108085\n",
       "9999  1.0  0.481663  0.830598  0.405122  0.821485  0.325900  2  True  3.918717\n",
       "\n",
       "[10000 rows x 9 columns]"
      ]
     },
     "execution_count": 3,
     "metadata": {},
     "output_type": "execute_result"
    }
   ],
   "source": [
    "data = dowhy.datasets.linear_dataset(beta=1,\n",
    "        num_common_causes=5, \n",
    "        num_instruments = 2,\n",
    "        num_treatments=1,\n",
    "        num_discrete_common_causes=1,\n",
    "        num_samples=10000,\n",
    "        treatment_is_binary=True,\n",
    "        outcome_is_binary=False)\n",
    "df = data[\"df\"]\n",
    "print(df[df.v0==True].shape[0])\n",
    "df"
   ]
  },
  {
   "cell_type": "markdown",
   "id": "f42f5368",
   "metadata": {},
   "source": [
    "Note that we are using a pandas dataframe to load the data."
   ]
  },
  {
   "cell_type": "markdown",
   "id": "8d5f3ad3",
   "metadata": {},
   "source": [
    "## Identifying the causal estimand"
   ]
  },
  {
   "cell_type": "markdown",
   "id": "a2872fde",
   "metadata": {},
   "source": [
    "We now input a causal graph in the GML graph format."
   ]
  },
  {
   "cell_type": "code",
   "execution_count": 4,
   "id": "103eb6e3",
   "metadata": {
    "execution": {
     "iopub.execute_input": "2022-07-27T13:55:41.121785Z",
     "iopub.status.busy": "2022-07-27T13:55:41.121274Z",
     "iopub.status.idle": "2022-07-27T13:55:41.152569Z",
     "shell.execute_reply": "2022-07-27T13:55:41.151799Z"
    }
   },
   "outputs": [],
   "source": [
    "# With graph\n",
    "model=CausalModel(\n",
    "        data = df,\n",
    "        treatment=data[\"treatment_name\"],\n",
    "        outcome=data[\"outcome_name\"],\n",
    "        graph=data[\"gml_graph\"],\n",
    "        instruments=data[\"instrument_names\"]\n",
    "        )"
   ]
  },
  {
   "cell_type": "code",
   "execution_count": 5,
   "id": "ebcb5e3d",
   "metadata": {
    "execution": {
     "iopub.execute_input": "2022-07-27T13:55:41.156683Z",
     "iopub.status.busy": "2022-07-27T13:55:41.156207Z",
     "iopub.status.idle": "2022-07-27T13:55:41.223173Z",
     "shell.execute_reply": "2022-07-27T13:55:41.222178Z"
    }
   },
   "outputs": [],
   "source": [
    "model.view_model()"
   ]
  },
  {
   "cell_type": "code",
   "execution_count": 6,
   "id": "cca244a9",
   "metadata": {
    "execution": {
     "iopub.execute_input": "2022-07-27T13:55:41.227538Z",
     "iopub.status.busy": "2022-07-27T13:55:41.227076Z",
     "iopub.status.idle": "2022-07-27T13:55:41.258822Z",
     "shell.execute_reply": "2022-07-27T13:55:41.257878Z"
    }
   },
   "outputs": [
    {
     "data": {
      "image/png": "[encoded data removed]",
      "text/plain": [
       "<IPython.core.display.Image object>"
      ]
     },
     "metadata": {},
     "output_type": "display_data"
    }
   ],
   "source": [
    "from IPython.display import Image, display\n",
    "display(Image(filename=\"causal_model.png\"))"
   ]
  },
  {
   "cell_type": "markdown",
   "id": "16a8adc9",
   "metadata": {},
   "source": [
    "We get a causal graph. Now identification and estimation is done."
   ]
  },
  {
   "cell_type": "code",
   "execution_count": 7,
   "id": "f9dd7ece",
   "metadata": {
    "execution": {
     "iopub.execute_input": "2022-07-27T13:55:41.263153Z",
     "iopub.status.busy": "2022-07-27T13:55:41.262266Z",
     "iopub.status.idle": "2022-07-27T13:55:41.559836Z",
     "shell.execute_reply": "2022-07-27T13:55:41.558857Z"
    }
   },
   "outputs": [
    {
     "name": "stdout",
     "output_type": "stream",
     "text": [
      "Estimand type: nonparametric-ate\n",
      "\n",
      "### Estimand : 1\n",
      "Estimand name: backdoor\n",
      "Estimand expression:\n",
      "  d                       \n",
      "─────(E[y|W1,W2,W0,W4,W3])\n",
      "d[v₀]                     \n",
      "Estimand assumption 1, Unconfoundedness: If U→{v0} and U→y then P(y|v0,W1,W2,W0,W4,W3,U) = P(y|v0,W1,W2,W0,W4,W3)\n",
      "\n",
      "### Estimand : 2\n",
      "Estimand name: iv\n",
      "Estimand expression:\n",
      " ⎡                              -1⎤\n",
      " ⎢    d        ⎛    d          ⎞  ⎥\n",
      "E⎢─────────(y)⋅⎜─────────([v₀])⎟  ⎥\n",
      " ⎣d[Z₀  Z₁]    ⎝d[Z₀  Z₁]      ⎠  ⎦\n",
      "Estimand assumption 1, As-if-random: If U→→y then ¬(U →→{Z0,Z1})\n",
      "Estimand assumption 2, Exclusion: If we remove {Z0,Z1}→{v0}, then ¬({Z0,Z1}→y)\n",
      "\n",
      "### Estimand : 3\n",
      "Estimand name: frontdoor\n",
      "No such variable(s) found!\n",
      "\n"
     ]
    }
   ],
   "source": [
    "identified_estimand = model.identify_effect(proceed_when_unidentifiable=True)\n",
    "print(identified_estimand)"
   ]
  },
  {
   "cell_type": "markdown",
   "id": "a1c1bea1",
   "metadata": {},
   "source": [
    "## Method 1: Propensity Score Stratification\n",
    "\n",
    "We will be using propensity scores to stratify units in the data."
   ]
  },
  {
   "cell_type": "code",
   "execution_count": 8,
   "id": "da54325e",
   "metadata": {
    "execution": {
     "iopub.execute_input": "2022-07-27T13:55:41.563677Z",
     "iopub.status.busy": "2022-07-27T13:55:41.563229Z",
     "iopub.status.idle": "2022-07-27T13:55:42.823778Z",
     "shell.execute_reply": "2022-07-27T13:55:42.822797Z"
    }
   },
   "outputs": [
    {
     "name": "stdout",
     "output_type": "stream",
     "text": [
      "propensity_score_stratification\n"
     ]
    },
    {
     "name": "stderr",
     "output_type": "stream",
     "text": [
      "/usr/local/lib/python3.8/dist-packages/sklearn/utils/validation.py:993: DataConversionWarning: A column-vector y was passed when a 1d array was expected. Please change the shape of y to (n_samples, ), for example using ravel().\n",
      "  y = column_or_1d(y, warn=True)\n"
     ]
    },
    {
     "name": "stdout",
     "output_type": "stream",
     "text": [
      "*** Causal Estimate ***\n",
      "\n",
      "## Identified estimand\n",
      "Estimand type: nonparametric-ate\n",
      "\n",
      "### Estimand : 1\n",
      "Estimand name: backdoor\n",
      "Estimand expression:\n",
      "  d                       \n",
      "─────(E[y|W1,W2,W0,W4,W3])\n",
      "d[v₀]                     \n",
      "Estimand assumption 1, Unconfoundedness: If U→{v0} and U→y then P(y|v0,W1,W2,W0,W4,W3,U) = P(y|v0,W1,W2,W0,W4,W3)\n",
      "\n",
      "## Realized estimand\n",
      "b: y~v0+W1+W2+W0+W4+W3\n",
      "Target units: att\n",
      "\n",
      "## Estimate\n",
      "Mean value: 1.0161723611434028\n",
      "\n",
      "Causal Estimate is 1.0161723611434028\n"
     ]
    }
   ],
   "source": [
    "causal_estimate_strat = model.estimate_effect(identified_estimand,\n",
    "                                              method_name=\"backdoor.propensity_score_stratification\",\n",
    "                                              target_units=\"att\")\n",
    "print(causal_estimate_strat)\n",
    "print(\"Causal Estimate is \" + str(causal_estimate_strat.value))"
   ]
  },
  {
   "cell_type": "markdown",
   "id": "6ff37443",
   "metadata": {},
   "source": [
    "### Textual Interpreter\n",
    "\n",
    "The textual Interpreter describes (in words) the effect of unit change in the treatment variable on the outcome variable."
   ]
  },
  {
   "cell_type": "code",
   "execution_count": 9,
   "id": "1dd32e47",
   "metadata": {
    "execution": {
     "iopub.execute_input": "2022-07-27T13:55:42.828291Z",
     "iopub.status.busy": "2022-07-27T13:55:42.827702Z",
     "iopub.status.idle": "2022-07-27T13:55:42.860291Z",
     "shell.execute_reply": "2022-07-27T13:55:42.859028Z"
    }
   },
   "outputs": [
    {
     "name": "stdout",
     "output_type": "stream",
     "text": [
      "Increasing the treatment variable(s) [v0] from 0 to 1 causes an increase of 1.0161723611434028 in the expected value of the outcome [y], over the data distribution/population represented by the dataset.\n"
     ]
    }
   ],
   "source": [
    "# Textual Interpreter\n",
    "interpretation = causal_estimate_strat.interpret(method_name=\"textual_effect_interpreter\")"
   ]
  },
  {
   "cell_type": "markdown",
   "id": "0546aee7",
   "metadata": {},
   "source": [
    "### Visual Interpreter\n",
    "\n",
    "The visual interpreter plots the change in the standardized mean difference (SMD) before and after Propensity Score based adjustment of the dataset. The formula for SMD is given below.\n",
    "\n",
    "\n",
    "$SMD = \\frac{\\bar X_{1} - \\bar X_{2}}{\\sqrt{(S_{1}^{2} + S_{2}^{2})/2}}$\n",
    "\n",
    "Here, $\\bar X_{1}$ and $\\bar X_{2}$ are the sample mean for the treated and control groups.\n"
   ]
  },
  {
   "cell_type": "code",
   "execution_count": 10,
   "id": "401b1355",
   "metadata": {
    "execution": {
     "iopub.execute_input": "2022-07-27T13:55:42.864098Z",
     "iopub.status.busy": "2022-07-27T13:55:42.863814Z",
     "iopub.status.idle": "2022-07-27T13:55:44.198255Z",
     "shell.execute_reply": "2022-07-27T13:55:44.197345Z"
    }
   },
   "outputs": [
    {
     "data": {
      "image/png": "[encoded data removed]",
      "text/plain": [
       "<Figure size 432x288 with 1 Axes>"
      ]
     },
     "metadata": {
      "needs_background": "light"
     },
     "output_type": "display_data"
    }
   ],
   "source": [
    "# Visual Interpreter\n",
    "interpretation = causal_estimate_strat.interpret(method_name=\"propensity_balance_interpreter\")"
   ]
  },
  {
   "cell_type": "markdown",
   "id": "03c9407b",
   "metadata": {},
   "source": [
    "This plot shows how the SMD decreases from the unadjusted to the stratified units. "
   ]
  },
  {
   "cell_type": "markdown",
   "id": "cc1b1a3b",
   "metadata": {},
   "source": [
    "## Method 2: Propensity Score Matching\n",
    "\n",
    "We will be using propensity scores to match units in the data."
   ]
  },
  {
   "cell_type": "code",
   "execution_count": 11,
   "id": "b163508b",
   "metadata": {
    "execution": {
     "iopub.execute_input": "2022-07-27T13:55:44.203690Z",
     "iopub.status.busy": "2022-07-27T13:55:44.202499Z",
     "iopub.status.idle": "2022-07-27T13:55:50.963875Z",
     "shell.execute_reply": "2022-07-27T13:55:50.963040Z"
    }
   },
   "outputs": [
    {
     "name": "stdout",
     "output_type": "stream",
     "text": [
      "propensity_score_matching\n"
     ]
    },
    {
     "name": "stderr",
     "output_type": "stream",
     "text": [
      "/usr/local/lib/python3.8/dist-packages/sklearn/utils/validation.py:993: DataConversionWarning: A column-vector y was passed when a 1d array was expected. Please change the shape of y to (n_samples, ), for example using ravel().\n",
      "  y = column_or_1d(y, warn=True)\n"
     ]
    },
    {
     "name": "stdout",
     "output_type": "stream",
     "text": [
      "*** Causal Estimate ***\n",
      "\n",
      "## Identified estimand\n",
      "Estimand type: nonparametric-ate\n",
      "\n",
      "### Estimand : 1\n",
      "Estimand name: backdoor\n",
      "Estimand expression:\n",
      "  d                       \n",
      "─────(E[y|W1,W2,W0,W4,W3])\n",
      "d[v₀]                     \n",
      "Estimand assumption 1, Unconfoundedness: If U→{v0} and U→y then P(y|v0,W1,W2,W0,W4,W3,U) = P(y|v0,W1,W2,W0,W4,W3)\n",
      "\n",
      "## Realized estimand\n",
      "b: y~v0+W1+W2+W0+W4+W3\n",
      "Target units: atc\n",
      "\n",
      "## Estimate\n",
      "Mean value: 0.9942669188378398\n",
      "\n",
      "Causal Estimate is 0.9942669188378398\n"
     ]
    }
   ],
   "source": [
    "causal_estimate_match = model.estimate_effect(identified_estimand,\n",
    "                                              method_name=\"backdoor.propensity_score_matching\",\n",
    "                                              target_units=\"atc\")\n",
    "print(causal_estimate_match)\n",
    "print(\"Causal Estimate is \" + str(causal_estimate_match.value))"
   ]
  },
  {
   "cell_type": "code",
   "execution_count": 12,
   "id": "932cdb79",
   "metadata": {
    "execution": {
     "iopub.execute_input": "2022-07-27T13:55:50.967723Z",
     "iopub.status.busy": "2022-07-27T13:55:50.967270Z",
     "iopub.status.idle": "2022-07-27T13:55:50.997896Z",
     "shell.execute_reply": "2022-07-27T13:55:50.997074Z"
    }
   },
   "outputs": [
    {
     "name": "stdout",
     "output_type": "stream",
     "text": [
      "Increasing the treatment variable(s) [v0] from 0 to 1 causes an increase of 0.9942669188378398 in the expected value of the outcome [y], over the data distribution/population represented by the dataset.\n"
     ]
    }
   ],
   "source": [
    "# Textual Interpreter\n",
    "interpretation = causal_estimate_match.interpret(method_name=\"textual_effect_interpreter\")"
   ]
  },
  {
   "cell_type": "markdown",
   "id": "ff6b0368",
   "metadata": {},
   "source": [
    "Cannot use propensity balance interpretor here since the interpreter method only supports propensity score stratification estimator."
   ]
  },
  {
   "cell_type": "markdown",
   "id": "917fe3de",
   "metadata": {},
   "source": [
    "## Method 3: Weighting\n",
    "\n",
    "We will be using (inverse) propensity scores to assign weights to units in the data. DoWhy supports a few different weighting schemes:\n",
    "1. Vanilla Inverse Propensity Score weighting (IPS) (weighting_scheme=\"ips_weight\")\n",
    "2. Self-normalized IPS weighting (also known as the Hajek estimator) (weighting_scheme=\"ips_normalized_weight\")\n",
    "3. Stabilized IPS weighting (weighting_scheme = \"ips_stabilized_weight\")"
   ]
  },
  {
   "cell_type": "code",
   "execution_count": 13,
   "id": "b3352c11",
   "metadata": {
    "execution": {
     "iopub.execute_input": "2022-07-27T13:55:51.001960Z",
     "iopub.status.busy": "2022-07-27T13:55:51.001665Z",
     "iopub.status.idle": "2022-07-27T13:55:51.090504Z",
     "shell.execute_reply": "2022-07-27T13:55:51.089030Z"
    }
   },
   "outputs": [
    {
     "name": "stdout",
     "output_type": "stream",
     "text": [
      "propensity_score_weighting\n",
      "*** Causal Estimate ***\n",
      "\n",
      "## Identified estimand\n",
      "Estimand type: nonparametric-ate\n",
      "\n",
      "### Estimand : 1\n",
      "Estimand name: backdoor\n",
      "Estimand expression:\n",
      "  d                       \n",
      "─────(E[y|W1,W2,W0,W4,W3])\n",
      "d[v₀]                     \n",
      "Estimand assumption 1, Unconfoundedness: If U→{v0} and U→y then P(y|v0,W1,W2,W0,W4,W3,U) = P(y|v0,W1,W2,W0,W4,W3)\n",
      "\n",
      "## Realized estimand\n",
      "b: y~v0+W1+W2+W0+W4+W3\n",
      "Target units: ate\n",
      "\n",
      "## Estimate\n",
      "Mean value: 1.6006587266529735\n",
      "\n",
      "Causal Estimate is 1.6006587266529735\n"
     ]
    },
    {
     "name": "stderr",
     "output_type": "stream",
     "text": [
      "/usr/local/lib/python3.8/dist-packages/sklearn/utils/validation.py:993: DataConversionWarning: A column-vector y was passed when a 1d array was expected. Please change the shape of y to (n_samples, ), for example using ravel().\n",
      "  y = column_or_1d(y, warn=True)\n"
     ]
    }
   ],
   "source": [
    "causal_estimate_ipw = model.estimate_effect(identified_estimand,\n",
    "                                            method_name=\"backdoor.propensity_score_weighting\",\n",
    "                                            target_units = \"ate\",\n",
    "                                            method_params={\"weighting_scheme\":\"ips_weight\"})\n",
    "print(causal_estimate_ipw)\n",
    "print(\"Causal Estimate is \" + str(causal_estimate_ipw.value))"
   ]
  },
  {
   "cell_type": "code",
   "execution_count": 14,
   "id": "3aabea64",
   "metadata": {
    "execution": {
     "iopub.execute_input": "2022-07-27T13:55:51.094196Z",
     "iopub.status.busy": "2022-07-27T13:55:51.093864Z",
     "iopub.status.idle": "2022-07-27T13:55:51.136666Z",
     "shell.execute_reply": "2022-07-27T13:55:51.135755Z"
    }
   },
   "outputs": [
    {
     "name": "stdout",
     "output_type": "stream",
     "text": [
      "Increasing the treatment variable(s) [v0] from 0 to 1 causes an increase of 1.6006587266529735 in the expected value of the outcome [y], over the data distribution/population represented by the dataset.\n"
     ]
    }
   ],
   "source": [
    "# Textual Interpreter\n",
    "interpretation = causal_estimate_ipw.interpret(method_name=\"textual_effect_interpreter\")"
   ]
  },
  {
   "cell_type": "code",
   "execution_count": 15,
   "id": "13ed2d64",
   "metadata": {
    "execution": {
     "iopub.execute_input": "2022-07-27T13:55:51.141593Z",
     "iopub.status.busy": "2022-07-27T13:55:51.141103Z",
     "iopub.status.idle": "2022-07-27T13:55:51.520094Z",
     "shell.execute_reply": "2022-07-27T13:55:51.519048Z"
    }
   },
   "outputs": [
    {
     "data": {
      "image/png": "[encoded data removed]",
      "text/plain": [
       "<Figure size 576x576 with 2 Axes>"
      ]
     },
     "metadata": {
      "needs_background": "light"
     },
     "output_type": "display_data"
    }
   ],
   "source": [
    "interpretation = causal_estimate_ipw.interpret(method_name=\"confounder_distribution_interpreter\", fig_size=(8,8), font_size=12, var_name='W4', var_type='discrete')"
   ]
  },
  {
   "cell_type": "code",
   "execution_count": null,
   "id": "420dd664",
   "metadata": {},
   "outputs": [],
   "source": []
  }
 ],
 "metadata": {
  "kernelspec": {
   "display_name": "Python 3",
   "language": "python",
   "name": "python3"
  },
  "language_info": {
   "codemirror_mode": {
    "name": "ipython",
    "version": 3
   },
   "file_extension": ".py",
   "mimetype": "text/x-python",
   "name": "python",
   "nbconvert_exporter": "python",
   "pygments_lexer": "ipython3",
   "version": "3.8.10"
  },
  "toc": {
   "base_numbering": 1,
   "nav_menu": {},
   "number_sections": false,
   "sideBar": true,
   "skip_h1_title": true,
   "title_cell": "Table of Contents",
   "title_sidebar": "Contents",
   "toc_cell": false,
   "toc_position": {},
   "toc_section_display": true,
   "toc_window_display": false
  }
 },
 "nbformat": 4,
 "nbformat_minor": 5
}
