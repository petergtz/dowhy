{
 "cells": [
  {
   "cell_type": "markdown",
   "id": "2ccd238e",
   "metadata": {},
   "source": [
    "# DoWhy: Interpreters for Causal Estimators\n",
    "\n",
    "This is a quick introduction to the use of interpreters in the DoWhy causal inference library.\n",
    "We will load in a sample dataset, use different methods for estimating the causal effect of a (pre-specified)treatment variable on a (pre-specified) outcome variable and demonstrate how to interpret the obtained results.\n",
    "\n",
    "First, let us add the required path for Python to find the DoWhy code and load all required packages"
   ]
  },
  {
   "cell_type": "code",
   "execution_count": 1,
   "id": "7364cd07",
   "metadata": {
    "execution": {
     "iopub.execute_input": "2022-07-20T18:47:29.476837Z",
     "iopub.status.busy": "2022-07-20T18:47:29.476530Z",
     "iopub.status.idle": "2022-07-20T18:47:29.495155Z",
     "shell.execute_reply": "2022-07-20T18:47:29.494383Z"
    }
   },
   "outputs": [],
   "source": [
    "%load_ext autoreload\n",
    "%autoreload 2"
   ]
  },
  {
   "cell_type": "code",
   "execution_count": 2,
   "id": "725218f9",
   "metadata": {
    "execution": {
     "iopub.execute_input": "2022-07-20T18:47:29.499125Z",
     "iopub.status.busy": "2022-07-20T18:47:29.498640Z",
     "iopub.status.idle": "2022-07-20T18:47:30.648993Z",
     "shell.execute_reply": "2022-07-20T18:47:30.647938Z"
    }
   },
   "outputs": [
    {
     "name": "stdout",
     "output_type": "stream",
     "text": [
      "keywords are unexpanded, not using\n"
     ]
    }
   ],
   "source": [
    "import numpy as np\n",
    "import pandas as pd\n",
    "import logging\n",
    "\n",
    "import dowhy\n",
    "from dowhy import CausalModel\n",
    "import dowhy.datasets "
   ]
  },
  {
   "cell_type": "markdown",
   "id": "223c3426",
   "metadata": {},
   "source": [
    "Now, let us load a dataset. For simplicity, we simulate a dataset with linear relationships between common causes and treatment, and common causes and outcome.\n",
    "\n",
    "Beta is the true causal effect."
   ]
  },
  {
   "cell_type": "code",
   "execution_count": 3,
   "id": "2d180efc",
   "metadata": {
    "execution": {
     "iopub.execute_input": "2022-07-20T18:47:30.653946Z",
     "iopub.status.busy": "2022-07-20T18:47:30.653129Z",
     "iopub.status.idle": "2022-07-20T18:47:30.987067Z",
     "shell.execute_reply": "2022-07-20T18:47:30.986373Z"
    }
   },
   "outputs": [
    {
     "name": "stdout",
     "output_type": "stream",
     "text": [
      "7366\n"
     ]
    },
    {
     "data": {
      "text/html": [
       "<div>\n",
       "<style scoped>\n",
       "    .dataframe tbody tr th:only-of-type {\n",
       "        vertical-align: middle;\n",
       "    }\n",
       "\n",
       "    .dataframe tbody tr th {\n",
       "        vertical-align: top;\n",
       "    }\n",
       "\n",
       "    .dataframe thead th {\n",
       "        text-align: right;\n",
       "    }\n",
       "</style>\n",
       "<table border=\"1\" class=\"dataframe\">\n",
       "  <thead>\n",
       "    <tr style=\"text-align: right;\">\n",
       "      <th></th>\n",
       "      <th>Z0</th>\n",
       "      <th>Z1</th>\n",
       "      <th>W0</th>\n",
       "      <th>W1</th>\n",
       "      <th>W2</th>\n",
       "      <th>W3</th>\n",
       "      <th>W4</th>\n",
       "      <th>v0</th>\n",
       "      <th>y</th>\n",
       "    </tr>\n",
       "  </thead>\n",
       "  <tbody>\n",
       "    <tr>\n",
       "      <th>0</th>\n",
       "      <td>0.0</td>\n",
       "      <td>0.305821</td>\n",
       "      <td>-1.695123</td>\n",
       "      <td>0.237137</td>\n",
       "      <td>-1.255666</td>\n",
       "      <td>0.609499</td>\n",
       "      <td>1</td>\n",
       "      <td>False</td>\n",
       "      <td>-0.859232</td>\n",
       "    </tr>\n",
       "    <tr>\n",
       "      <th>1</th>\n",
       "      <td>0.0</td>\n",
       "      <td>0.935705</td>\n",
       "      <td>0.155319</td>\n",
       "      <td>0.999389</td>\n",
       "      <td>-2.459799</td>\n",
       "      <td>2.631579</td>\n",
       "      <td>3</td>\n",
       "      <td>True</td>\n",
       "      <td>1.268026</td>\n",
       "    </tr>\n",
       "    <tr>\n",
       "      <th>2</th>\n",
       "      <td>0.0</td>\n",
       "      <td>0.507572</td>\n",
       "      <td>0.003840</td>\n",
       "      <td>0.687085</td>\n",
       "      <td>-0.280054</td>\n",
       "      <td>0.364313</td>\n",
       "      <td>1</td>\n",
       "      <td>False</td>\n",
       "      <td>0.436345</td>\n",
       "    </tr>\n",
       "    <tr>\n",
       "      <th>3</th>\n",
       "      <td>0.0</td>\n",
       "      <td>0.884331</td>\n",
       "      <td>-2.957968</td>\n",
       "      <td>-1.146003</td>\n",
       "      <td>-1.789086</td>\n",
       "      <td>1.059517</td>\n",
       "      <td>3</td>\n",
       "      <td>True</td>\n",
       "      <td>-0.192452</td>\n",
       "    </tr>\n",
       "    <tr>\n",
       "      <th>4</th>\n",
       "      <td>0.0</td>\n",
       "      <td>0.867993</td>\n",
       "      <td>-0.713991</td>\n",
       "      <td>-0.382577</td>\n",
       "      <td>-1.089740</td>\n",
       "      <td>-0.223527</td>\n",
       "      <td>2</td>\n",
       "      <td>True</td>\n",
       "      <td>0.335767</td>\n",
       "    </tr>\n",
       "    <tr>\n",
       "      <th>...</th>\n",
       "      <td>...</td>\n",
       "      <td>...</td>\n",
       "      <td>...</td>\n",
       "      <td>...</td>\n",
       "      <td>...</td>\n",
       "      <td>...</td>\n",
       "      <td>...</td>\n",
       "      <td>...</td>\n",
       "      <td>...</td>\n",
       "    </tr>\n",
       "    <tr>\n",
       "      <th>9995</th>\n",
       "      <td>0.0</td>\n",
       "      <td>0.860449</td>\n",
       "      <td>-0.084642</td>\n",
       "      <td>0.102469</td>\n",
       "      <td>-1.806391</td>\n",
       "      <td>1.134127</td>\n",
       "      <td>2</td>\n",
       "      <td>True</td>\n",
       "      <td>0.521791</td>\n",
       "    </tr>\n",
       "    <tr>\n",
       "      <th>9996</th>\n",
       "      <td>0.0</td>\n",
       "      <td>0.370670</td>\n",
       "      <td>-1.809237</td>\n",
       "      <td>-0.232211</td>\n",
       "      <td>-2.978742</td>\n",
       "      <td>0.510156</td>\n",
       "      <td>2</td>\n",
       "      <td>False</td>\n",
       "      <td>-2.268338</td>\n",
       "    </tr>\n",
       "    <tr>\n",
       "      <th>9997</th>\n",
       "      <td>0.0</td>\n",
       "      <td>0.006620</td>\n",
       "      <td>-1.044850</td>\n",
       "      <td>0.401014</td>\n",
       "      <td>-0.373460</td>\n",
       "      <td>1.200226</td>\n",
       "      <td>2</td>\n",
       "      <td>True</td>\n",
       "      <td>1.707786</td>\n",
       "    </tr>\n",
       "    <tr>\n",
       "      <th>9998</th>\n",
       "      <td>0.0</td>\n",
       "      <td>0.838849</td>\n",
       "      <td>0.038496</td>\n",
       "      <td>2.000667</td>\n",
       "      <td>-0.280424</td>\n",
       "      <td>1.664436</td>\n",
       "      <td>3</td>\n",
       "      <td>True</td>\n",
       "      <td>3.056078</td>\n",
       "    </tr>\n",
       "    <tr>\n",
       "      <th>9999</th>\n",
       "      <td>0.0</td>\n",
       "      <td>0.642713</td>\n",
       "      <td>-0.891123</td>\n",
       "      <td>0.071448</td>\n",
       "      <td>0.562651</td>\n",
       "      <td>0.494839</td>\n",
       "      <td>1</td>\n",
       "      <td>True</td>\n",
       "      <td>1.834056</td>\n",
       "    </tr>\n",
       "  </tbody>\n",
       "</table>\n",
       "<p>10000 rows × 9 columns</p>\n",
       "</div>"
      ],
      "text/plain": [
       "       Z0        Z1        W0        W1        W2        W3 W4     v0  \\\n",
       "0     0.0  0.305821 -1.695123  0.237137 -1.255666  0.609499  1  False   \n",
       "1     0.0  0.935705  0.155319  0.999389 -2.459799  2.631579  3   True   \n",
       "2     0.0  0.507572  0.003840  0.687085 -0.280054  0.364313  1  False   \n",
       "3     0.0  0.884331 -2.957968 -1.146003 -1.789086  1.059517  3   True   \n",
       "4     0.0  0.867993 -0.713991 -0.382577 -1.089740 -0.223527  2   True   \n",
       "...   ...       ...       ...       ...       ...       ... ..    ...   \n",
       "9995  0.0  0.860449 -0.084642  0.102469 -1.806391  1.134127  2   True   \n",
       "9996  0.0  0.370670 -1.809237 -0.232211 -2.978742  0.510156  2  False   \n",
       "9997  0.0  0.006620 -1.044850  0.401014 -0.373460  1.200226  2   True   \n",
       "9998  0.0  0.838849  0.038496  2.000667 -0.280424  1.664436  3   True   \n",
       "9999  0.0  0.642713 -0.891123  0.071448  0.562651  0.494839  1   True   \n",
       "\n",
       "             y  \n",
       "0    -0.859232  \n",
       "1     1.268026  \n",
       "2     0.436345  \n",
       "3    -0.192452  \n",
       "4     0.335767  \n",
       "...        ...  \n",
       "9995  0.521791  \n",
       "9996 -2.268338  \n",
       "9997  1.707786  \n",
       "9998  3.056078  \n",
       "9999  1.834056  \n",
       "\n",
       "[10000 rows x 9 columns]"
      ]
     },
     "execution_count": 3,
     "metadata": {},
     "output_type": "execute_result"
    }
   ],
   "source": [
    "data = dowhy.datasets.linear_dataset(beta=1,\n",
    "        num_common_causes=5, \n",
    "        num_instruments = 2,\n",
    "        num_treatments=1,\n",
    "        num_discrete_common_causes=1,\n",
    "        num_samples=10000,\n",
    "        treatment_is_binary=True,\n",
    "        outcome_is_binary=False)\n",
    "df = data[\"df\"]\n",
    "print(df[df.v0==True].shape[0])\n",
    "df"
   ]
  },
  {
   "cell_type": "markdown",
   "id": "1478139d",
   "metadata": {},
   "source": [
    "Note that we are using a pandas dataframe to load the data."
   ]
  },
  {
   "cell_type": "markdown",
   "id": "a92733e9",
   "metadata": {},
   "source": [
    "## Identifying the causal estimand"
   ]
  },
  {
   "cell_type": "markdown",
   "id": "9af0199b",
   "metadata": {},
   "source": [
    "We now input a causal graph in the GML graph format."
   ]
  },
  {
   "cell_type": "code",
   "execution_count": 4,
   "id": "72d846b5",
   "metadata": {
    "execution": {
     "iopub.execute_input": "2022-07-20T18:47:30.990493Z",
     "iopub.status.busy": "2022-07-20T18:47:30.990244Z",
     "iopub.status.idle": "2022-07-20T18:47:31.018204Z",
     "shell.execute_reply": "2022-07-20T18:47:31.017546Z"
    }
   },
   "outputs": [],
   "source": [
    "# With graph\n",
    "model=CausalModel(\n",
    "        data = df,\n",
    "        treatment=data[\"treatment_name\"],\n",
    "        outcome=data[\"outcome_name\"],\n",
    "        graph=data[\"gml_graph\"],\n",
    "        instruments=data[\"instrument_names\"]\n",
    "        )"
   ]
  },
  {
   "cell_type": "code",
   "execution_count": 5,
   "id": "400bba60",
   "metadata": {
    "execution": {
     "iopub.execute_input": "2022-07-20T18:47:31.021865Z",
     "iopub.status.busy": "2022-07-20T18:47:31.021464Z",
     "iopub.status.idle": "2022-07-20T18:47:31.087753Z",
     "shell.execute_reply": "2022-07-20T18:47:31.086968Z"
    }
   },
   "outputs": [],
   "source": [
    "model.view_model()"
   ]
  },
  {
   "cell_type": "code",
   "execution_count": 6,
   "id": "1975f5a6",
   "metadata": {
    "execution": {
     "iopub.execute_input": "2022-07-20T18:47:31.091356Z",
     "iopub.status.busy": "2022-07-20T18:47:31.091096Z",
     "iopub.status.idle": "2022-07-20T18:47:31.119304Z",
     "shell.execute_reply": "2022-07-20T18:47:31.118530Z"
    }
   },
   "outputs": [
    {
     "data": {
      "image/png": "[encoded data removed]",
      "text/plain": [
       "<IPython.core.display.Image object>"
      ]
     },
     "metadata": {},
     "output_type": "display_data"
    }
   ],
   "source": [
    "from IPython.display import Image, display\n",
    "display(Image(filename=\"causal_model.png\"))"
   ]
  },
  {
   "cell_type": "markdown",
   "id": "110bbdc7",
   "metadata": {},
   "source": [
    "We get a causal graph. Now identification and estimation is done."
   ]
  },
  {
   "cell_type": "code",
   "execution_count": 7,
   "id": "67b9e643",
   "metadata": {
    "execution": {
     "iopub.execute_input": "2022-07-20T18:47:31.123003Z",
     "iopub.status.busy": "2022-07-20T18:47:31.122763Z",
     "iopub.status.idle": "2022-07-20T18:47:31.356056Z",
     "shell.execute_reply": "2022-07-20T18:47:31.355341Z"
    }
   },
   "outputs": [
    {
     "name": "stdout",
     "output_type": "stream",
     "text": [
      "Estimand type: nonparametric-ate\n",
      "\n",
      "### Estimand : 1\n",
      "Estimand name: backdoor\n",
      "Estimand expression:\n",
      "  d                       \n",
      "─────(E[y|W2,W1,W3,W0,W4])\n",
      "d[v₀]                     \n",
      "Estimand assumption 1, Unconfoundedness: If U→{v0} and U→y then P(y|v0,W2,W1,W3,W0,W4,U) = P(y|v0,W2,W1,W3,W0,W4)\n",
      "\n",
      "### Estimand : 2\n",
      "Estimand name: iv\n",
      "Estimand expression:\n",
      " ⎡                              -1⎤\n",
      " ⎢    d        ⎛    d          ⎞  ⎥\n",
      "E⎢─────────(y)⋅⎜─────────([v₀])⎟  ⎥\n",
      " ⎣d[Z₀  Z₁]    ⎝d[Z₀  Z₁]      ⎠  ⎦\n",
      "Estimand assumption 1, As-if-random: If U→→y then ¬(U →→{Z0,Z1})\n",
      "Estimand assumption 2, Exclusion: If we remove {Z0,Z1}→{v0}, then ¬({Z0,Z1}→y)\n",
      "\n",
      "### Estimand : 3\n",
      "Estimand name: frontdoor\n",
      "No such variable(s) found!\n",
      "\n"
     ]
    }
   ],
   "source": [
    "identified_estimand = model.identify_effect(proceed_when_unidentifiable=True)\n",
    "print(identified_estimand)"
   ]
  },
  {
   "cell_type": "markdown",
   "id": "d87dba7a",
   "metadata": {},
   "source": [
    "## Method 1: Propensity Score Stratification\n",
    "\n",
    "We will be using propensity scores to stratify units in the data."
   ]
  },
  {
   "cell_type": "code",
   "execution_count": 8,
   "id": "85c5970b",
   "metadata": {
    "execution": {
     "iopub.execute_input": "2022-07-20T18:47:31.359817Z",
     "iopub.status.busy": "2022-07-20T18:47:31.359377Z",
     "iopub.status.idle": "2022-07-20T18:47:32.132921Z",
     "shell.execute_reply": "2022-07-20T18:47:32.131479Z"
    }
   },
   "outputs": [
    {
     "name": "stdout",
     "output_type": "stream",
     "text": [
      "propensity_score_stratification\n"
     ]
    },
    {
     "name": "stderr",
     "output_type": "stream",
     "text": [
      "/usr/local/lib/python3.8/dist-packages/sklearn/utils/validation.py:993: DataConversionWarning: A column-vector y was passed when a 1d array was expected. Please change the shape of y to (n_samples, ), for example using ravel().\n",
      "  y = column_or_1d(y, warn=True)\n"
     ]
    },
    {
     "name": "stdout",
     "output_type": "stream",
     "text": [
      "*** Causal Estimate ***\n",
      "\n",
      "## Identified estimand\n",
      "Estimand type: nonparametric-ate\n",
      "\n",
      "### Estimand : 1\n",
      "Estimand name: backdoor\n",
      "Estimand expression:\n",
      "  d                       \n",
      "─────(E[y|W2,W1,W3,W0,W4])\n",
      "d[v₀]                     \n",
      "Estimand assumption 1, Unconfoundedness: If U→{v0} and U→y then P(y|v0,W2,W1,W3,W0,W4,U) = P(y|v0,W2,W1,W3,W0,W4)\n",
      "\n",
      "## Realized estimand\n",
      "b: y~v0+W2+W1+W3+W0+W4\n",
      "Target units: att\n",
      "\n",
      "## Estimate\n",
      "Mean value: 0.9942344005681739\n",
      "\n",
      "Causal Estimate is 0.9942344005681739\n"
     ]
    }
   ],
   "source": [
    "causal_estimate_strat = model.estimate_effect(identified_estimand,\n",
    "                                              method_name=\"backdoor.propensity_score_stratification\",\n",
    "                                              target_units=\"att\")\n",
    "print(causal_estimate_strat)\n",
    "print(\"Causal Estimate is \" + str(causal_estimate_strat.value))"
   ]
  },
  {
   "cell_type": "markdown",
   "id": "508a2963",
   "metadata": {},
   "source": [
    "### Textual Interpreter\n",
    "\n",
    "The textual Interpreter describes (in words) the effect of unit change in the treatment variable on the outcome variable."
   ]
  },
  {
   "cell_type": "code",
   "execution_count": 9,
   "id": "6b054477",
   "metadata": {
    "execution": {
     "iopub.execute_input": "2022-07-20T18:47:32.136684Z",
     "iopub.status.busy": "2022-07-20T18:47:32.136259Z",
     "iopub.status.idle": "2022-07-20T18:47:32.166566Z",
     "shell.execute_reply": "2022-07-20T18:47:32.165253Z"
    }
   },
   "outputs": [
    {
     "name": "stdout",
     "output_type": "stream",
     "text": [
      "Increasing the treatment variable(s) [v0] from 0 to 1 causes an increase of 0.9942344005681739 in the expected value of the outcome [y], over the data distribution/population represented by the dataset.\n"
     ]
    }
   ],
   "source": [
    "# Textual Interpreter\n",
    "interpretation = causal_estimate_strat.interpret(method_name=\"textual_effect_interpreter\")"
   ]
  },
  {
   "cell_type": "markdown",
   "id": "257dc1f0",
   "metadata": {},
   "source": [
    "### Visual Interpreter\n",
    "\n",
    "The visual interpreter plots the change in the standardized mean difference (SMD) before and after Propensity Score based adjustment of the dataset. The formula for SMD is given below.\n",
    "\n",
    "\n",
    "$SMD = \\frac{\\bar X_{1} - \\bar X_{2}}{\\sqrt{(S_{1}^{2} + S_{2}^{2})/2}}$\n",
    "\n",
    "Here, $\\bar X_{1}$ and $\\bar X_{2}$ are the sample mean for the treated and control groups.\n"
   ]
  },
  {
   "cell_type": "code",
   "execution_count": 10,
   "id": "1e19accc",
   "metadata": {
    "execution": {
     "iopub.execute_input": "2022-07-20T18:47:32.170120Z",
     "iopub.status.busy": "2022-07-20T18:47:32.169723Z",
     "iopub.status.idle": "2022-07-20T18:47:33.530779Z",
     "shell.execute_reply": "2022-07-20T18:47:33.530042Z"
    }
   },
   "outputs": [
    {
     "data": {
      "image/png": "[encoded data removed]",
      "text/plain": [
       "<Figure size 432x288 with 1 Axes>"
      ]
     },
     "metadata": {
      "needs_background": "light"
     },
     "output_type": "display_data"
    }
   ],
   "source": [
    "# Visual Interpreter\n",
    "interpretation = causal_estimate_strat.interpret(method_name=\"propensity_balance_interpreter\")"
   ]
  },
  {
   "cell_type": "markdown",
   "id": "de401eef",
   "metadata": {},
   "source": [
    "This plot shows how the SMD decreases from the unadjusted to the stratified units. "
   ]
  },
  {
   "cell_type": "markdown",
   "id": "420e85c1",
   "metadata": {},
   "source": [
    "## Method 2: Propensity Score Matching\n",
    "\n",
    "We will be using propensity scores to match units in the data."
   ]
  },
  {
   "cell_type": "code",
   "execution_count": 11,
   "id": "fb97b79b",
   "metadata": {
    "execution": {
     "iopub.execute_input": "2022-07-20T18:47:33.535349Z",
     "iopub.status.busy": "2022-07-20T18:47:33.534723Z",
     "iopub.status.idle": "2022-07-20T18:47:38.119066Z",
     "shell.execute_reply": "2022-07-20T18:47:38.118325Z"
    }
   },
   "outputs": [
    {
     "name": "stdout",
     "output_type": "stream",
     "text": [
      "propensity_score_matching\n"
     ]
    },
    {
     "name": "stderr",
     "output_type": "stream",
     "text": [
      "/usr/local/lib/python3.8/dist-packages/sklearn/utils/validation.py:993: DataConversionWarning: A column-vector y was passed when a 1d array was expected. Please change the shape of y to (n_samples, ), for example using ravel().\n",
      "  y = column_or_1d(y, warn=True)\n"
     ]
    },
    {
     "name": "stdout",
     "output_type": "stream",
     "text": [
      "*** Causal Estimate ***\n",
      "\n",
      "## Identified estimand\n",
      "Estimand type: nonparametric-ate\n",
      "\n",
      "### Estimand : 1\n",
      "Estimand name: backdoor\n",
      "Estimand expression:\n",
      "  d                       \n",
      "─────(E[y|W2,W1,W3,W0,W4])\n",
      "d[v₀]                     \n",
      "Estimand assumption 1, Unconfoundedness: If U→{v0} and U→y then P(y|v0,W2,W1,W3,W0,W4,U) = P(y|v0,W2,W1,W3,W0,W4)\n",
      "\n",
      "## Realized estimand\n",
      "b: y~v0+W2+W1+W3+W0+W4\n",
      "Target units: atc\n",
      "\n",
      "## Estimate\n",
      "Mean value: 1.0022982418765742\n",
      "\n",
      "Causal Estimate is 1.0022982418765742\n"
     ]
    }
   ],
   "source": [
    "causal_estimate_match = model.estimate_effect(identified_estimand,\n",
    "                                              method_name=\"backdoor.propensity_score_matching\",\n",
    "                                              target_units=\"atc\")\n",
    "print(causal_estimate_match)\n",
    "print(\"Causal Estimate is \" + str(causal_estimate_match.value))"
   ]
  },
  {
   "cell_type": "code",
   "execution_count": 12,
   "id": "62b006df",
   "metadata": {
    "execution": {
     "iopub.execute_input": "2022-07-20T18:47:38.122726Z",
     "iopub.status.busy": "2022-07-20T18:47:38.122289Z",
     "iopub.status.idle": "2022-07-20T18:47:38.153445Z",
     "shell.execute_reply": "2022-07-20T18:47:38.152716Z"
    }
   },
   "outputs": [
    {
     "name": "stdout",
     "output_type": "stream",
     "text": [
      "Increasing the treatment variable(s) [v0] from 0 to 1 causes an increase of 1.0022982418765742 in the expected value of the outcome [y], over the data distribution/population represented by the dataset.\n"
     ]
    }
   ],
   "source": [
    "# Textual Interpreter\n",
    "interpretation = causal_estimate_match.interpret(method_name=\"textual_effect_interpreter\")"
   ]
  },
  {
   "cell_type": "markdown",
   "id": "8a75c0c2",
   "metadata": {},
   "source": [
    "Cannot use propensity balance interpretor here since the interpreter method only supports propensity score stratification estimator."
   ]
  },
  {
   "cell_type": "markdown",
   "id": "ed1172e5",
   "metadata": {},
   "source": [
    "## Method 3: Weighting\n",
    "\n",
    "We will be using (inverse) propensity scores to assign weights to units in the data. DoWhy supports a few different weighting schemes:\n",
    "1. Vanilla Inverse Propensity Score weighting (IPS) (weighting_scheme=\"ips_weight\")\n",
    "2. Self-normalized IPS weighting (also known as the Hajek estimator) (weighting_scheme=\"ips_normalized_weight\")\n",
    "3. Stabilized IPS weighting (weighting_scheme = \"ips_stabilized_weight\")"
   ]
  },
  {
   "cell_type": "code",
   "execution_count": 13,
   "id": "2e6f75b4",
   "metadata": {
    "execution": {
     "iopub.execute_input": "2022-07-20T18:47:38.157069Z",
     "iopub.status.busy": "2022-07-20T18:47:38.156749Z",
     "iopub.status.idle": "2022-07-20T18:47:38.230980Z",
     "shell.execute_reply": "2022-07-20T18:47:38.229627Z"
    }
   },
   "outputs": [
    {
     "name": "stdout",
     "output_type": "stream",
     "text": [
      "propensity_score_weighting\n",
      "*** Causal Estimate ***\n",
      "\n",
      "## Identified estimand\n",
      "Estimand type: nonparametric-ate\n",
      "\n",
      "### Estimand : 1\n",
      "Estimand name: backdoor\n",
      "Estimand expression:\n",
      "  d                       \n",
      "─────(E[y|W2,W1,W3,W0,W4])\n",
      "d[v₀]                     \n",
      "Estimand assumption 1, Unconfoundedness: If U→{v0} and U→y then P(y|v0,W2,W1,W3,W0,W4,U) = P(y|v0,W2,W1,W3,W0,W4)\n",
      "\n",
      "## Realized estimand\n",
      "b: y~v0+W2+W1+W3+W0+W4\n",
      "Target units: ate\n",
      "\n",
      "## Estimate\n",
      "Mean value: 1.0472659986247992\n",
      "\n",
      "Causal Estimate is 1.0472659986247992\n"
     ]
    },
    {
     "name": "stderr",
     "output_type": "stream",
     "text": [
      "/usr/local/lib/python3.8/dist-packages/sklearn/utils/validation.py:993: DataConversionWarning: A column-vector y was passed when a 1d array was expected. Please change the shape of y to (n_samples, ), for example using ravel().\n",
      "  y = column_or_1d(y, warn=True)\n"
     ]
    }
   ],
   "source": [
    "causal_estimate_ipw = model.estimate_effect(identified_estimand,\n",
    "                                            method_name=\"backdoor.propensity_score_weighting\",\n",
    "                                            target_units = \"ate\",\n",
    "                                            method_params={\"weighting_scheme\":\"ips_weight\"})\n",
    "print(causal_estimate_ipw)\n",
    "print(\"Causal Estimate is \" + str(causal_estimate_ipw.value))"
   ]
  },
  {
   "cell_type": "code",
   "execution_count": 14,
   "id": "3228e29b",
   "metadata": {
    "execution": {
     "iopub.execute_input": "2022-07-20T18:47:38.234637Z",
     "iopub.status.busy": "2022-07-20T18:47:38.234371Z",
     "iopub.status.idle": "2022-07-20T18:47:38.264008Z",
     "shell.execute_reply": "2022-07-20T18:47:38.263425Z"
    }
   },
   "outputs": [
    {
     "name": "stdout",
     "output_type": "stream",
     "text": [
      "Increasing the treatment variable(s) [v0] from 0 to 1 causes an increase of 1.0472659986247992 in the expected value of the outcome [y], over the data distribution/population represented by the dataset.\n"
     ]
    }
   ],
   "source": [
    "# Textual Interpreter\n",
    "interpretation = causal_estimate_ipw.interpret(method_name=\"textual_effect_interpreter\")"
   ]
  },
  {
   "cell_type": "code",
   "execution_count": 15,
   "id": "1d752fab",
   "metadata": {
    "execution": {
     "iopub.execute_input": "2022-07-20T18:47:38.267262Z",
     "iopub.status.busy": "2022-07-20T18:47:38.266850Z",
     "iopub.status.idle": "2022-07-20T18:47:38.524271Z",
     "shell.execute_reply": "2022-07-20T18:47:38.522978Z"
    }
   },
   "outputs": [
    {
     "data": {
      "image/png": "[encoded data removed]",
      "text/plain": [
       "<Figure size 576x576 with 2 Axes>"
      ]
     },
     "metadata": {
      "needs_background": "light"
     },
     "output_type": "display_data"
    }
   ],
   "source": [
    "interpretation = causal_estimate_ipw.interpret(method_name=\"confounder_distribution_interpreter\", fig_size=(8,8), font_size=12, var_name='W4', var_type='discrete')"
   ]
  },
  {
   "cell_type": "code",
   "execution_count": null,
   "id": "9ccbc188",
   "metadata": {},
   "outputs": [],
   "source": []
  }
 ],
 "metadata": {
  "kernelspec": {
   "display_name": "Python 3",
   "language": "python",
   "name": "python3"
  },
  "language_info": {
   "codemirror_mode": {
    "name": "ipython",
    "version": 3
   },
   "file_extension": ".py",
   "mimetype": "text/x-python",
   "name": "python",
   "nbconvert_exporter": "python",
   "pygments_lexer": "ipython3",
   "version": "3.8.10"
  },
  "toc": {
   "base_numbering": 1,
   "nav_menu": {},
   "number_sections": false,
   "sideBar": true,
   "skip_h1_title": true,
   "title_cell": "Table of Contents",
   "title_sidebar": "Contents",
   "toc_cell": false,
   "toc_position": {},
   "toc_section_display": true,
   "toc_window_display": false
  }
 },
 "nbformat": 4,
 "nbformat_minor": 5
}
