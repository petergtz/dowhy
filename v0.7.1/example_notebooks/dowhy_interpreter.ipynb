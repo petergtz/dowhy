{
 "cells": [
  {
   "cell_type": "markdown",
   "id": "d92d4b8b",
   "metadata": {},
   "source": [
    "# DoWhy: Interpreters for Causal Estimators\n",
    "\n",
    "This is a quick introduction to the use of interpreters in the DoWhy causal inference library.\n",
    "We will load in a sample dataset, use different methods for estimating the causal effect of a (pre-specified)treatment variable on a (pre-specified) outcome variable and demonstrate how to interpret the obtained results.\n",
    "\n",
    "First, let us add the required path for Python to find the DoWhy code and load all required packages"
   ]
  },
  {
   "cell_type": "code",
   "execution_count": 1,
   "id": "969bd1ca",
   "metadata": {
    "execution": {
     "iopub.execute_input": "2022-07-29T15:15:07.016219Z",
     "iopub.status.busy": "2022-07-29T15:15:07.015695Z",
     "iopub.status.idle": "2022-07-29T15:15:07.033218Z",
     "shell.execute_reply": "2022-07-29T15:15:07.032567Z"
    }
   },
   "outputs": [],
   "source": [
    "%load_ext autoreload\n",
    "%autoreload 2"
   ]
  },
  {
   "cell_type": "code",
   "execution_count": 2,
   "id": "d8c9a117",
   "metadata": {
    "execution": {
     "iopub.execute_input": "2022-07-29T15:15:07.036574Z",
     "iopub.status.busy": "2022-07-29T15:15:07.036164Z",
     "iopub.status.idle": "2022-07-29T15:15:08.038033Z",
     "shell.execute_reply": "2022-07-29T15:15:08.036766Z"
    }
   },
   "outputs": [
    {
     "name": "stdout",
     "output_type": "stream",
     "text": [
      "keywords are unexpanded, not using\n"
     ]
    }
   ],
   "source": [
    "import numpy as np\n",
    "import pandas as pd\n",
    "import logging\n",
    "\n",
    "import dowhy\n",
    "from dowhy import CausalModel\n",
    "import dowhy.datasets "
   ]
  },
  {
   "cell_type": "markdown",
   "id": "fd9e1857",
   "metadata": {},
   "source": [
    "Now, let us load a dataset. For simplicity, we simulate a dataset with linear relationships between common causes and treatment, and common causes and outcome.\n",
    "\n",
    "Beta is the true causal effect."
   ]
  },
  {
   "cell_type": "code",
   "execution_count": 3,
   "id": "fbf4837d",
   "metadata": {
    "execution": {
     "iopub.execute_input": "2022-07-29T15:15:08.042168Z",
     "iopub.status.busy": "2022-07-29T15:15:08.041394Z",
     "iopub.status.idle": "2022-07-29T15:15:08.336108Z",
     "shell.execute_reply": "2022-07-29T15:15:08.335474Z"
    }
   },
   "outputs": [
    {
     "name": "stdout",
     "output_type": "stream",
     "text": [
      "8439\n"
     ]
    },
    {
     "data": {
      "text/html": [
       "<div>\n",
       "<style scoped>\n",
       "    .dataframe tbody tr th:only-of-type {\n",
       "        vertical-align: middle;\n",
       "    }\n",
       "\n",
       "    .dataframe tbody tr th {\n",
       "        vertical-align: top;\n",
       "    }\n",
       "\n",
       "    .dataframe thead th {\n",
       "        text-align: right;\n",
       "    }\n",
       "</style>\n",
       "<table border=\"1\" class=\"dataframe\">\n",
       "  <thead>\n",
       "    <tr style=\"text-align: right;\">\n",
       "      <th></th>\n",
       "      <th>Z0</th>\n",
       "      <th>Z1</th>\n",
       "      <th>W0</th>\n",
       "      <th>W1</th>\n",
       "      <th>W2</th>\n",
       "      <th>W3</th>\n",
       "      <th>W4</th>\n",
       "      <th>v0</th>\n",
       "      <th>y</th>\n",
       "    </tr>\n",
       "  </thead>\n",
       "  <tbody>\n",
       "    <tr>\n",
       "      <th>0</th>\n",
       "      <td>0.0</td>\n",
       "      <td>0.683696</td>\n",
       "      <td>-0.001355</td>\n",
       "      <td>1.733309</td>\n",
       "      <td>0.403880</td>\n",
       "      <td>2.200603</td>\n",
       "      <td>2</td>\n",
       "      <td>True</td>\n",
       "      <td>3.348460</td>\n",
       "    </tr>\n",
       "    <tr>\n",
       "      <th>1</th>\n",
       "      <td>0.0</td>\n",
       "      <td>0.284285</td>\n",
       "      <td>-0.899807</td>\n",
       "      <td>0.354603</td>\n",
       "      <td>-0.565958</td>\n",
       "      <td>-0.230913</td>\n",
       "      <td>3</td>\n",
       "      <td>True</td>\n",
       "      <td>0.719630</td>\n",
       "    </tr>\n",
       "    <tr>\n",
       "      <th>2</th>\n",
       "      <td>0.0</td>\n",
       "      <td>0.095779</td>\n",
       "      <td>-0.314586</td>\n",
       "      <td>-1.615918</td>\n",
       "      <td>-2.435119</td>\n",
       "      <td>0.079520</td>\n",
       "      <td>3</td>\n",
       "      <td>False</td>\n",
       "      <td>-2.509553</td>\n",
       "    </tr>\n",
       "    <tr>\n",
       "      <th>3</th>\n",
       "      <td>0.0</td>\n",
       "      <td>0.338922</td>\n",
       "      <td>-1.223507</td>\n",
       "      <td>0.631883</td>\n",
       "      <td>0.859584</td>\n",
       "      <td>0.410608</td>\n",
       "      <td>3</td>\n",
       "      <td>True</td>\n",
       "      <td>1.494745</td>\n",
       "    </tr>\n",
       "    <tr>\n",
       "      <th>4</th>\n",
       "      <td>0.0</td>\n",
       "      <td>0.992689</td>\n",
       "      <td>-0.252155</td>\n",
       "      <td>1.071535</td>\n",
       "      <td>-0.607943</td>\n",
       "      <td>-0.285896</td>\n",
       "      <td>1</td>\n",
       "      <td>True</td>\n",
       "      <td>1.645392</td>\n",
       "    </tr>\n",
       "    <tr>\n",
       "      <th>...</th>\n",
       "      <td>...</td>\n",
       "      <td>...</td>\n",
       "      <td>...</td>\n",
       "      <td>...</td>\n",
       "      <td>...</td>\n",
       "      <td>...</td>\n",
       "      <td>...</td>\n",
       "      <td>...</td>\n",
       "      <td>...</td>\n",
       "    </tr>\n",
       "    <tr>\n",
       "      <th>9995</th>\n",
       "      <td>0.0</td>\n",
       "      <td>0.253651</td>\n",
       "      <td>-0.967268</td>\n",
       "      <td>1.040111</td>\n",
       "      <td>-0.807058</td>\n",
       "      <td>1.522824</td>\n",
       "      <td>0</td>\n",
       "      <td>True</td>\n",
       "      <td>1.347694</td>\n",
       "    </tr>\n",
       "    <tr>\n",
       "      <th>9996</th>\n",
       "      <td>0.0</td>\n",
       "      <td>0.217643</td>\n",
       "      <td>1.067763</td>\n",
       "      <td>0.202399</td>\n",
       "      <td>0.040966</td>\n",
       "      <td>-0.322433</td>\n",
       "      <td>2</td>\n",
       "      <td>True</td>\n",
       "      <td>1.948198</td>\n",
       "    </tr>\n",
       "    <tr>\n",
       "      <th>9997</th>\n",
       "      <td>0.0</td>\n",
       "      <td>0.820516</td>\n",
       "      <td>-0.675641</td>\n",
       "      <td>2.204119</td>\n",
       "      <td>0.245775</td>\n",
       "      <td>2.420239</td>\n",
       "      <td>0</td>\n",
       "      <td>True</td>\n",
       "      <td>3.236539</td>\n",
       "    </tr>\n",
       "    <tr>\n",
       "      <th>9998</th>\n",
       "      <td>0.0</td>\n",
       "      <td>0.158341</td>\n",
       "      <td>-0.388467</td>\n",
       "      <td>-0.342869</td>\n",
       "      <td>1.741707</td>\n",
       "      <td>1.079993</td>\n",
       "      <td>1</td>\n",
       "      <td>True</td>\n",
       "      <td>1.425799</td>\n",
       "    </tr>\n",
       "    <tr>\n",
       "      <th>9999</th>\n",
       "      <td>0.0</td>\n",
       "      <td>0.546081</td>\n",
       "      <td>-0.536001</td>\n",
       "      <td>2.218772</td>\n",
       "      <td>0.429543</td>\n",
       "      <td>2.074044</td>\n",
       "      <td>0</td>\n",
       "      <td>True</td>\n",
       "      <td>3.340120</td>\n",
       "    </tr>\n",
       "  </tbody>\n",
       "</table>\n",
       "<p>10000 rows × 9 columns</p>\n",
       "</div>"
      ],
      "text/plain": [
       "       Z0        Z1        W0        W1        W2        W3 W4     v0  \\\n",
       "0     0.0  0.683696 -0.001355  1.733309  0.403880  2.200603  2   True   \n",
       "1     0.0  0.284285 -0.899807  0.354603 -0.565958 -0.230913  3   True   \n",
       "2     0.0  0.095779 -0.314586 -1.615918 -2.435119  0.079520  3  False   \n",
       "3     0.0  0.338922 -1.223507  0.631883  0.859584  0.410608  3   True   \n",
       "4     0.0  0.992689 -0.252155  1.071535 -0.607943 -0.285896  1   True   \n",
       "...   ...       ...       ...       ...       ...       ... ..    ...   \n",
       "9995  0.0  0.253651 -0.967268  1.040111 -0.807058  1.522824  0   True   \n",
       "9996  0.0  0.217643  1.067763  0.202399  0.040966 -0.322433  2   True   \n",
       "9997  0.0  0.820516 -0.675641  2.204119  0.245775  2.420239  0   True   \n",
       "9998  0.0  0.158341 -0.388467 -0.342869  1.741707  1.079993  1   True   \n",
       "9999  0.0  0.546081 -0.536001  2.218772  0.429543  2.074044  0   True   \n",
       "\n",
       "             y  \n",
       "0     3.348460  \n",
       "1     0.719630  \n",
       "2    -2.509553  \n",
       "3     1.494745  \n",
       "4     1.645392  \n",
       "...        ...  \n",
       "9995  1.347694  \n",
       "9996  1.948198  \n",
       "9997  3.236539  \n",
       "9998  1.425799  \n",
       "9999  3.340120  \n",
       "\n",
       "[10000 rows x 9 columns]"
      ]
     },
     "execution_count": 3,
     "metadata": {},
     "output_type": "execute_result"
    }
   ],
   "source": [
    "data = dowhy.datasets.linear_dataset(beta=1,\n",
    "        num_common_causes=5, \n",
    "        num_instruments = 2,\n",
    "        num_treatments=1,\n",
    "        num_discrete_common_causes=1,\n",
    "        num_samples=10000,\n",
    "        treatment_is_binary=True,\n",
    "        outcome_is_binary=False)\n",
    "df = data[\"df\"]\n",
    "print(df[df.v0==True].shape[0])\n",
    "df"
   ]
  },
  {
   "cell_type": "markdown",
   "id": "bd44c47e",
   "metadata": {},
   "source": [
    "Note that we are using a pandas dataframe to load the data."
   ]
  },
  {
   "cell_type": "markdown",
   "id": "beacd589",
   "metadata": {},
   "source": [
    "## Identifying the causal estimand"
   ]
  },
  {
   "cell_type": "markdown",
   "id": "b10e7843",
   "metadata": {},
   "source": [
    "We now input a causal graph in the GML graph format."
   ]
  },
  {
   "cell_type": "code",
   "execution_count": 4,
   "id": "ebe91307",
   "metadata": {
    "execution": {
     "iopub.execute_input": "2022-07-29T15:15:08.339600Z",
     "iopub.status.busy": "2022-07-29T15:15:08.339258Z",
     "iopub.status.idle": "2022-07-29T15:15:08.363541Z",
     "shell.execute_reply": "2022-07-29T15:15:08.362862Z"
    }
   },
   "outputs": [],
   "source": [
    "# With graph\n",
    "model=CausalModel(\n",
    "        data = df,\n",
    "        treatment=data[\"treatment_name\"],\n",
    "        outcome=data[\"outcome_name\"],\n",
    "        graph=data[\"gml_graph\"],\n",
    "        instruments=data[\"instrument_names\"]\n",
    "        )"
   ]
  },
  {
   "cell_type": "code",
   "execution_count": 5,
   "id": "73aa0615",
   "metadata": {
    "execution": {
     "iopub.execute_input": "2022-07-29T15:15:08.367117Z",
     "iopub.status.busy": "2022-07-29T15:15:08.366880Z",
     "iopub.status.idle": "2022-07-29T15:15:08.420948Z",
     "shell.execute_reply": "2022-07-29T15:15:08.420263Z"
    }
   },
   "outputs": [],
   "source": [
    "model.view_model()"
   ]
  },
  {
   "cell_type": "code",
   "execution_count": 6,
   "id": "2594fc6f",
   "metadata": {
    "execution": {
     "iopub.execute_input": "2022-07-29T15:15:08.424420Z",
     "iopub.status.busy": "2022-07-29T15:15:08.424047Z",
     "iopub.status.idle": "2022-07-29T15:15:08.449280Z",
     "shell.execute_reply": "2022-07-29T15:15:08.448630Z"
    }
   },
   "outputs": [
    {
     "data": {
      "image/png": "[encoded data removed]",
      "text/plain": [
       "<IPython.core.display.Image object>"
      ]
     },
     "metadata": {},
     "output_type": "display_data"
    }
   ],
   "source": [
    "from IPython.display import Image, display\n",
    "display(Image(filename=\"causal_model.png\"))"
   ]
  },
  {
   "cell_type": "markdown",
   "id": "a2c7f4b8",
   "metadata": {},
   "source": [
    "We get a causal graph. Now identification and estimation is done."
   ]
  },
  {
   "cell_type": "code",
   "execution_count": 7,
   "id": "769e61e4",
   "metadata": {
    "execution": {
     "iopub.execute_input": "2022-07-29T15:15:08.452667Z",
     "iopub.status.busy": "2022-07-29T15:15:08.452231Z",
     "iopub.status.idle": "2022-07-29T15:15:08.659287Z",
     "shell.execute_reply": "2022-07-29T15:15:08.658541Z"
    }
   },
   "outputs": [
    {
     "name": "stdout",
     "output_type": "stream",
     "text": [
      "Estimand type: nonparametric-ate\n",
      "\n",
      "### Estimand : 1\n",
      "Estimand name: backdoor\n",
      "Estimand expression:\n",
      "  d                       \n",
      "─────(E[y|W0,W3,W1,W2,W4])\n",
      "d[v₀]                     \n",
      "Estimand assumption 1, Unconfoundedness: If U→{v0} and U→y then P(y|v0,W0,W3,W1,W2,W4,U) = P(y|v0,W0,W3,W1,W2,W4)\n",
      "\n",
      "### Estimand : 2\n",
      "Estimand name: iv\n",
      "Estimand expression:\n",
      " ⎡                              -1⎤\n",
      " ⎢    d        ⎛    d          ⎞  ⎥\n",
      "E⎢─────────(y)⋅⎜─────────([v₀])⎟  ⎥\n",
      " ⎣d[Z₁  Z₀]    ⎝d[Z₁  Z₀]      ⎠  ⎦\n",
      "Estimand assumption 1, As-if-random: If U→→y then ¬(U →→{Z1,Z0})\n",
      "Estimand assumption 2, Exclusion: If we remove {Z1,Z0}→{v0}, then ¬({Z1,Z0}→y)\n",
      "\n",
      "### Estimand : 3\n",
      "Estimand name: frontdoor\n",
      "No such variable(s) found!\n",
      "\n"
     ]
    }
   ],
   "source": [
    "identified_estimand = model.identify_effect(proceed_when_unidentifiable=True)\n",
    "print(identified_estimand)"
   ]
  },
  {
   "cell_type": "markdown",
   "id": "5f19a324",
   "metadata": {},
   "source": [
    "## Method 1: Propensity Score Stratification\n",
    "\n",
    "We will be using propensity scores to stratify units in the data."
   ]
  },
  {
   "cell_type": "code",
   "execution_count": 8,
   "id": "03f5eab4",
   "metadata": {
    "execution": {
     "iopub.execute_input": "2022-07-29T15:15:08.662611Z",
     "iopub.status.busy": "2022-07-29T15:15:08.662192Z",
     "iopub.status.idle": "2022-07-29T15:15:09.434364Z",
     "shell.execute_reply": "2022-07-29T15:15:09.433567Z"
    }
   },
   "outputs": [
    {
     "name": "stdout",
     "output_type": "stream",
     "text": [
      "propensity_score_stratification\n"
     ]
    },
    {
     "name": "stderr",
     "output_type": "stream",
     "text": [
      "/usr/local/lib/python3.8/dist-packages/sklearn/utils/validation.py:993: DataConversionWarning: A column-vector y was passed when a 1d array was expected. Please change the shape of y to (n_samples, ), for example using ravel().\n",
      "  y = column_or_1d(y, warn=True)\n"
     ]
    },
    {
     "name": "stdout",
     "output_type": "stream",
     "text": [
      "*** Causal Estimate ***\n",
      "\n",
      "## Identified estimand\n",
      "Estimand type: nonparametric-ate\n",
      "\n",
      "### Estimand : 1\n",
      "Estimand name: backdoor\n",
      "Estimand expression:\n",
      "  d                       \n",
      "─────(E[y|W0,W3,W1,W2,W4])\n",
      "d[v₀]                     \n",
      "Estimand assumption 1, Unconfoundedness: If U→{v0} and U→y then P(y|v0,W0,W3,W1,W2,W4,U) = P(y|v0,W0,W3,W1,W2,W4)\n",
      "\n",
      "## Realized estimand\n",
      "b: y~v0+W0+W3+W1+W2+W4\n",
      "Target units: att\n",
      "\n",
      "## Estimate\n",
      "Mean value: 1.00367671554293\n",
      "\n",
      "Causal Estimate is 1.00367671554293\n"
     ]
    }
   ],
   "source": [
    "causal_estimate_strat = model.estimate_effect(identified_estimand,\n",
    "                                              method_name=\"backdoor.propensity_score_stratification\",\n",
    "                                              target_units=\"att\")\n",
    "print(causal_estimate_strat)\n",
    "print(\"Causal Estimate is \" + str(causal_estimate_strat.value))"
   ]
  },
  {
   "cell_type": "markdown",
   "id": "cb6fe541",
   "metadata": {},
   "source": [
    "### Textual Interpreter\n",
    "\n",
    "The textual Interpreter describes (in words) the effect of unit change in the treatment variable on the outcome variable."
   ]
  },
  {
   "cell_type": "code",
   "execution_count": 9,
   "id": "1f505c03",
   "metadata": {
    "execution": {
     "iopub.execute_input": "2022-07-29T15:15:09.437950Z",
     "iopub.status.busy": "2022-07-29T15:15:09.437595Z",
     "iopub.status.idle": "2022-07-29T15:15:09.464745Z",
     "shell.execute_reply": "2022-07-29T15:15:09.463991Z"
    }
   },
   "outputs": [
    {
     "name": "stdout",
     "output_type": "stream",
     "text": [
      "Increasing the treatment variable(s) [v0] from 0 to 1 causes an increase of 1.00367671554293 in the expected value of the outcome [y], over the data distribution/population represented by the dataset.\n"
     ]
    }
   ],
   "source": [
    "# Textual Interpreter\n",
    "interpretation = causal_estimate_strat.interpret(method_name=\"textual_effect_interpreter\")"
   ]
  },
  {
   "cell_type": "markdown",
   "id": "4d37bf0a",
   "metadata": {},
   "source": [
    "### Visual Interpreter\n",
    "\n",
    "The visual interpreter plots the change in the standardized mean difference (SMD) before and after Propensity Score based adjustment of the dataset. The formula for SMD is given below.\n",
    "\n",
    "\n",
    "$SMD = \\frac{\\bar X_{1} - \\bar X_{2}}{\\sqrt{(S_{1}^{2} + S_{2}^{2})/2}}$\n",
    "\n",
    "Here, $\\bar X_{1}$ and $\\bar X_{2}$ are the sample mean for the treated and control groups.\n"
   ]
  },
  {
   "cell_type": "code",
   "execution_count": 10,
   "id": "7433014e",
   "metadata": {
    "execution": {
     "iopub.execute_input": "2022-07-29T15:15:09.468415Z",
     "iopub.status.busy": "2022-07-29T15:15:09.468005Z",
     "iopub.status.idle": "2022-07-29T15:15:10.566270Z",
     "shell.execute_reply": "2022-07-29T15:15:10.565560Z"
    }
   },
   "outputs": [
    {
     "data": {
      "image/png": "[encoded data removed]",
      "text/plain": [
       "<Figure size 432x288 with 1 Axes>"
      ]
     },
     "metadata": {
      "needs_background": "light"
     },
     "output_type": "display_data"
    }
   ],
   "source": [
    "# Visual Interpreter\n",
    "interpretation = causal_estimate_strat.interpret(method_name=\"propensity_balance_interpreter\")"
   ]
  },
  {
   "cell_type": "markdown",
   "id": "5f3680c3",
   "metadata": {},
   "source": [
    "This plot shows how the SMD decreases from the unadjusted to the stratified units. "
   ]
  },
  {
   "cell_type": "markdown",
   "id": "6a8cb817",
   "metadata": {},
   "source": [
    "## Method 2: Propensity Score Matching\n",
    "\n",
    "We will be using propensity scores to match units in the data."
   ]
  },
  {
   "cell_type": "code",
   "execution_count": 11,
   "id": "28e15f55",
   "metadata": {
    "execution": {
     "iopub.execute_input": "2022-07-29T15:15:10.570167Z",
     "iopub.status.busy": "2022-07-29T15:15:10.569511Z",
     "iopub.status.idle": "2022-07-29T15:15:14.825541Z",
     "shell.execute_reply": "2022-07-29T15:15:14.824829Z"
    }
   },
   "outputs": [
    {
     "name": "stdout",
     "output_type": "stream",
     "text": [
      "propensity_score_matching\n"
     ]
    },
    {
     "name": "stderr",
     "output_type": "stream",
     "text": [
      "/usr/local/lib/python3.8/dist-packages/sklearn/utils/validation.py:993: DataConversionWarning: A column-vector y was passed when a 1d array was expected. Please change the shape of y to (n_samples, ), for example using ravel().\n",
      "  y = column_or_1d(y, warn=True)\n"
     ]
    },
    {
     "name": "stdout",
     "output_type": "stream",
     "text": [
      "*** Causal Estimate ***\n",
      "\n",
      "## Identified estimand\n",
      "Estimand type: nonparametric-ate\n",
      "\n",
      "### Estimand : 1\n",
      "Estimand name: backdoor\n",
      "Estimand expression:\n",
      "  d                       \n",
      "─────(E[y|W0,W3,W1,W2,W4])\n",
      "d[v₀]                     \n",
      "Estimand assumption 1, Unconfoundedness: If U→{v0} and U→y then P(y|v0,W0,W3,W1,W2,W4,U) = P(y|v0,W0,W3,W1,W2,W4)\n",
      "\n",
      "## Realized estimand\n",
      "b: y~v0+W0+W3+W1+W2+W4\n",
      "Target units: atc\n",
      "\n",
      "## Estimate\n",
      "Mean value: 0.9975074172461659\n",
      "\n",
      "Causal Estimate is 0.9975074172461659\n"
     ]
    }
   ],
   "source": [
    "causal_estimate_match = model.estimate_effect(identified_estimand,\n",
    "                                              method_name=\"backdoor.propensity_score_matching\",\n",
    "                                              target_units=\"atc\")\n",
    "print(causal_estimate_match)\n",
    "print(\"Causal Estimate is \" + str(causal_estimate_match.value))"
   ]
  },
  {
   "cell_type": "code",
   "execution_count": 12,
   "id": "ad0190da",
   "metadata": {
    "execution": {
     "iopub.execute_input": "2022-07-29T15:15:14.828808Z",
     "iopub.status.busy": "2022-07-29T15:15:14.828567Z",
     "iopub.status.idle": "2022-07-29T15:15:14.857005Z",
     "shell.execute_reply": "2022-07-29T15:15:14.856335Z"
    }
   },
   "outputs": [
    {
     "name": "stdout",
     "output_type": "stream",
     "text": [
      "Increasing the treatment variable(s) [v0] from 0 to 1 causes an increase of 0.9975074172461659 in the expected value of the outcome [y], over the data distribution/population represented by the dataset.\n"
     ]
    }
   ],
   "source": [
    "# Textual Interpreter\n",
    "interpretation = causal_estimate_match.interpret(method_name=\"textual_effect_interpreter\")"
   ]
  },
  {
   "cell_type": "markdown",
   "id": "3a79a941",
   "metadata": {},
   "source": [
    "Cannot use propensity balance interpretor here since the interpreter method only supports propensity score stratification estimator."
   ]
  },
  {
   "cell_type": "markdown",
   "id": "c00a8a63",
   "metadata": {},
   "source": [
    "## Method 3: Weighting\n",
    "\n",
    "We will be using (inverse) propensity scores to assign weights to units in the data. DoWhy supports a few different weighting schemes:\n",
    "1. Vanilla Inverse Propensity Score weighting (IPS) (weighting_scheme=\"ips_weight\")\n",
    "2. Self-normalized IPS weighting (also known as the Hajek estimator) (weighting_scheme=\"ips_normalized_weight\")\n",
    "3. Stabilized IPS weighting (weighting_scheme = \"ips_stabilized_weight\")"
   ]
  },
  {
   "cell_type": "code",
   "execution_count": 13,
   "id": "463cdf91",
   "metadata": {
    "execution": {
     "iopub.execute_input": "2022-07-29T15:15:14.860316Z",
     "iopub.status.busy": "2022-07-29T15:15:14.859747Z",
     "iopub.status.idle": "2022-07-29T15:15:14.923817Z",
     "shell.execute_reply": "2022-07-29T15:15:14.922603Z"
    }
   },
   "outputs": [
    {
     "name": "stdout",
     "output_type": "stream",
     "text": [
      "propensity_score_weighting\n",
      "*** Causal Estimate ***\n",
      "\n",
      "## Identified estimand\n",
      "Estimand type: nonparametric-ate\n",
      "\n",
      "### Estimand : 1\n",
      "Estimand name: backdoor\n",
      "Estimand expression:\n",
      "  d                       \n",
      "─────(E[y|W0,W3,W1,W2,W4])\n",
      "d[v₀]                     \n",
      "Estimand assumption 1, Unconfoundedness: If U→{v0} and U→y then P(y|v0,W0,W3,W1,W2,W4,U) = P(y|v0,W0,W3,W1,W2,W4)\n",
      "\n",
      "## Realized estimand\n",
      "b: y~v0+W0+W3+W1+W2+W4\n",
      "Target units: ate\n",
      "\n",
      "## Estimate\n",
      "Mean value: 1.1801020504831594\n",
      "\n",
      "Causal Estimate is 1.1801020504831594\n"
     ]
    },
    {
     "name": "stderr",
     "output_type": "stream",
     "text": [
      "/usr/local/lib/python3.8/dist-packages/sklearn/utils/validation.py:993: DataConversionWarning: A column-vector y was passed when a 1d array was expected. Please change the shape of y to (n_samples, ), for example using ravel().\n",
      "  y = column_or_1d(y, warn=True)\n"
     ]
    }
   ],
   "source": [
    "causal_estimate_ipw = model.estimate_effect(identified_estimand,\n",
    "                                            method_name=\"backdoor.propensity_score_weighting\",\n",
    "                                            target_units = \"ate\",\n",
    "                                            method_params={\"weighting_scheme\":\"ips_weight\"})\n",
    "print(causal_estimate_ipw)\n",
    "print(\"Causal Estimate is \" + str(causal_estimate_ipw.value))"
   ]
  },
  {
   "cell_type": "code",
   "execution_count": 14,
   "id": "a7d5d47c",
   "metadata": {
    "execution": {
     "iopub.execute_input": "2022-07-29T15:15:14.926984Z",
     "iopub.status.busy": "2022-07-29T15:15:14.926752Z",
     "iopub.status.idle": "2022-07-29T15:15:14.950854Z",
     "shell.execute_reply": "2022-07-29T15:15:14.950145Z"
    }
   },
   "outputs": [
    {
     "name": "stdout",
     "output_type": "stream",
     "text": [
      "Increasing the treatment variable(s) [v0] from 0 to 1 causes an increase of 1.1801020504831594 in the expected value of the outcome [y], over the data distribution/population represented by the dataset.\n"
     ]
    }
   ],
   "source": [
    "# Textual Interpreter\n",
    "interpretation = causal_estimate_ipw.interpret(method_name=\"textual_effect_interpreter\")"
   ]
  },
  {
   "cell_type": "code",
   "execution_count": 15,
   "id": "d57adf29",
   "metadata": {
    "execution": {
     "iopub.execute_input": "2022-07-29T15:15:14.953735Z",
     "iopub.status.busy": "2022-07-29T15:15:14.953505Z",
     "iopub.status.idle": "2022-07-29T15:15:15.187405Z",
     "shell.execute_reply": "2022-07-29T15:15:15.186673Z"
    }
   },
   "outputs": [
    {
     "data": {
      "image/png": "[encoded data removed]",
      "text/plain": [
       "<Figure size 576x576 with 2 Axes>"
      ]
     },
     "metadata": {
      "needs_background": "light"
     },
     "output_type": "display_data"
    }
   ],
   "source": [
    "interpretation = causal_estimate_ipw.interpret(method_name=\"confounder_distribution_interpreter\", fig_size=(8,8), font_size=12, var_name='W4', var_type='discrete')"
   ]
  },
  {
   "cell_type": "code",
   "execution_count": null,
   "id": "3bb9ddd7",
   "metadata": {},
   "outputs": [],
   "source": []
  }
 ],
 "metadata": {
  "kernelspec": {
   "display_name": "Python 3",
   "language": "python",
   "name": "python3"
  },
  "language_info": {
   "codemirror_mode": {
    "name": "ipython",
    "version": 3
   },
   "file_extension": ".py",
   "mimetype": "text/x-python",
   "name": "python",
   "nbconvert_exporter": "python",
   "pygments_lexer": "ipython3",
   "version": "3.8.10"
  },
  "toc": {
   "base_numbering": 1,
   "nav_menu": {},
   "number_sections": false,
   "sideBar": true,
   "skip_h1_title": true,
   "title_cell": "Table of Contents",
   "title_sidebar": "Contents",
   "toc_cell": false,
   "toc_position": {},
   "toc_section_display": true,
   "toc_window_display": false
  }
 },
 "nbformat": 4,
 "nbformat_minor": 5
}
