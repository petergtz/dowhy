{
 "cells": [
  {
   "cell_type": "markdown",
   "id": "f804aa89",
   "metadata": {},
   "source": [
    "# DoWhy: Interpreters for Causal Estimators\n",
    "\n",
    "This is a quick introduction to the use of interpreters in the DoWhy causal inference library.\n",
    "We will load in a sample dataset, use different methods for estimating the causal effect of a (pre-specified)treatment variable on a (pre-specified) outcome variable and demonstrate how to interpret the obtained results.\n",
    "\n",
    "First, let us add the required path for Python to find the DoWhy code and load all required packages"
   ]
  },
  {
   "cell_type": "code",
   "execution_count": 1,
   "id": "4e88e440",
   "metadata": {
    "execution": {
     "iopub.execute_input": "2022-07-28T09:32:13.695873Z",
     "iopub.status.busy": "2022-07-28T09:32:13.695061Z",
     "iopub.status.idle": "2022-07-28T09:32:13.715803Z",
     "shell.execute_reply": "2022-07-28T09:32:13.715062Z"
    }
   },
   "outputs": [],
   "source": [
    "%load_ext autoreload\n",
    "%autoreload 2"
   ]
  },
  {
   "cell_type": "code",
   "execution_count": 2,
   "id": "7af9bdff",
   "metadata": {
    "execution": {
     "iopub.execute_input": "2022-07-28T09:32:13.719829Z",
     "iopub.status.busy": "2022-07-28T09:32:13.719376Z",
     "iopub.status.idle": "2022-07-28T09:32:14.992525Z",
     "shell.execute_reply": "2022-07-28T09:32:14.991346Z"
    }
   },
   "outputs": [
    {
     "name": "stdout",
     "output_type": "stream",
     "text": [
      "keywords are unexpanded, not using\n"
     ]
    }
   ],
   "source": [
    "import numpy as np\n",
    "import pandas as pd\n",
    "import logging\n",
    "\n",
    "import dowhy\n",
    "from dowhy import CausalModel\n",
    "import dowhy.datasets "
   ]
  },
  {
   "cell_type": "markdown",
   "id": "884da040",
   "metadata": {},
   "source": [
    "Now, let us load a dataset. For simplicity, we simulate a dataset with linear relationships between common causes and treatment, and common causes and outcome.\n",
    "\n",
    "Beta is the true causal effect."
   ]
  },
  {
   "cell_type": "code",
   "execution_count": 3,
   "id": "2de0221b",
   "metadata": {
    "execution": {
     "iopub.execute_input": "2022-07-28T09:32:14.997265Z",
     "iopub.status.busy": "2022-07-28T09:32:14.996319Z",
     "iopub.status.idle": "2022-07-28T09:32:15.386233Z",
     "shell.execute_reply": "2022-07-28T09:32:15.385539Z"
    }
   },
   "outputs": [
    {
     "name": "stdout",
     "output_type": "stream",
     "text": [
      "7114\n"
     ]
    },
    {
     "data": {
      "text/html": [
       "<div>\n",
       "<style scoped>\n",
       "    .dataframe tbody tr th:only-of-type {\n",
       "        vertical-align: middle;\n",
       "    }\n",
       "\n",
       "    .dataframe tbody tr th {\n",
       "        vertical-align: top;\n",
       "    }\n",
       "\n",
       "    .dataframe thead th {\n",
       "        text-align: right;\n",
       "    }\n",
       "</style>\n",
       "<table border=\"1\" class=\"dataframe\">\n",
       "  <thead>\n",
       "    <tr style=\"text-align: right;\">\n",
       "      <th></th>\n",
       "      <th>Z0</th>\n",
       "      <th>Z1</th>\n",
       "      <th>W0</th>\n",
       "      <th>W1</th>\n",
       "      <th>W2</th>\n",
       "      <th>W3</th>\n",
       "      <th>W4</th>\n",
       "      <th>v0</th>\n",
       "      <th>y</th>\n",
       "    </tr>\n",
       "  </thead>\n",
       "  <tbody>\n",
       "    <tr>\n",
       "      <th>0</th>\n",
       "      <td>0.0</td>\n",
       "      <td>0.970861</td>\n",
       "      <td>-0.157436</td>\n",
       "      <td>-1.081668</td>\n",
       "      <td>0.127937</td>\n",
       "      <td>2.671352</td>\n",
       "      <td>2</td>\n",
       "      <td>True</td>\n",
       "      <td>1.847176</td>\n",
       "    </tr>\n",
       "    <tr>\n",
       "      <th>1</th>\n",
       "      <td>1.0</td>\n",
       "      <td>0.154038</td>\n",
       "      <td>0.297572</td>\n",
       "      <td>0.709177</td>\n",
       "      <td>-2.360308</td>\n",
       "      <td>0.833863</td>\n",
       "      <td>3</td>\n",
       "      <td>True</td>\n",
       "      <td>1.951739</td>\n",
       "    </tr>\n",
       "    <tr>\n",
       "      <th>2</th>\n",
       "      <td>1.0</td>\n",
       "      <td>0.337161</td>\n",
       "      <td>-0.701546</td>\n",
       "      <td>1.469770</td>\n",
       "      <td>-0.154561</td>\n",
       "      <td>2.875034</td>\n",
       "      <td>2</td>\n",
       "      <td>True</td>\n",
       "      <td>4.389114</td>\n",
       "    </tr>\n",
       "    <tr>\n",
       "      <th>3</th>\n",
       "      <td>1.0</td>\n",
       "      <td>0.942051</td>\n",
       "      <td>-0.890800</td>\n",
       "      <td>1.256147</td>\n",
       "      <td>-1.451359</td>\n",
       "      <td>0.313251</td>\n",
       "      <td>0</td>\n",
       "      <td>False</td>\n",
       "      <td>1.086873</td>\n",
       "    </tr>\n",
       "    <tr>\n",
       "      <th>4</th>\n",
       "      <td>0.0</td>\n",
       "      <td>0.548072</td>\n",
       "      <td>0.179223</td>\n",
       "      <td>1.268674</td>\n",
       "      <td>-0.780414</td>\n",
       "      <td>-0.303764</td>\n",
       "      <td>2</td>\n",
       "      <td>True</td>\n",
       "      <td>2.044080</td>\n",
       "    </tr>\n",
       "    <tr>\n",
       "      <th>...</th>\n",
       "      <td>...</td>\n",
       "      <td>...</td>\n",
       "      <td>...</td>\n",
       "      <td>...</td>\n",
       "      <td>...</td>\n",
       "      <td>...</td>\n",
       "      <td>...</td>\n",
       "      <td>...</td>\n",
       "      <td>...</td>\n",
       "    </tr>\n",
       "    <tr>\n",
       "      <th>9995</th>\n",
       "      <td>0.0</td>\n",
       "      <td>0.807433</td>\n",
       "      <td>0.319204</td>\n",
       "      <td>-0.020283</td>\n",
       "      <td>0.356293</td>\n",
       "      <td>-0.279564</td>\n",
       "      <td>0</td>\n",
       "      <td>True</td>\n",
       "      <td>0.887622</td>\n",
       "    </tr>\n",
       "    <tr>\n",
       "      <th>9996</th>\n",
       "      <td>0.0</td>\n",
       "      <td>0.344756</td>\n",
       "      <td>-1.565719</td>\n",
       "      <td>-1.542668</td>\n",
       "      <td>-2.500770</td>\n",
       "      <td>1.770192</td>\n",
       "      <td>1</td>\n",
       "      <td>False</td>\n",
       "      <td>-0.887054</td>\n",
       "    </tr>\n",
       "    <tr>\n",
       "      <th>9997</th>\n",
       "      <td>0.0</td>\n",
       "      <td>0.561903</td>\n",
       "      <td>-0.127064</td>\n",
       "      <td>0.235972</td>\n",
       "      <td>-0.944850</td>\n",
       "      <td>-0.442041</td>\n",
       "      <td>2</td>\n",
       "      <td>False</td>\n",
       "      <td>-0.117593</td>\n",
       "    </tr>\n",
       "    <tr>\n",
       "      <th>9998</th>\n",
       "      <td>1.0</td>\n",
       "      <td>0.992591</td>\n",
       "      <td>-1.580409</td>\n",
       "      <td>-0.787138</td>\n",
       "      <td>-1.205219</td>\n",
       "      <td>0.177968</td>\n",
       "      <td>3</td>\n",
       "      <td>True</td>\n",
       "      <td>0.278438</td>\n",
       "    </tr>\n",
       "    <tr>\n",
       "      <th>9999</th>\n",
       "      <td>0.0</td>\n",
       "      <td>0.830927</td>\n",
       "      <td>-0.156035</td>\n",
       "      <td>0.621559</td>\n",
       "      <td>-3.057914</td>\n",
       "      <td>1.516853</td>\n",
       "      <td>0</td>\n",
       "      <td>False</td>\n",
       "      <td>0.882534</td>\n",
       "    </tr>\n",
       "  </tbody>\n",
       "</table>\n",
       "<p>10000 rows × 9 columns</p>\n",
       "</div>"
      ],
      "text/plain": [
       "       Z0        Z1        W0        W1        W2        W3 W4     v0  \\\n",
       "0     0.0  0.970861 -0.157436 -1.081668  0.127937  2.671352  2   True   \n",
       "1     1.0  0.154038  0.297572  0.709177 -2.360308  0.833863  3   True   \n",
       "2     1.0  0.337161 -0.701546  1.469770 -0.154561  2.875034  2   True   \n",
       "3     1.0  0.942051 -0.890800  1.256147 -1.451359  0.313251  0  False   \n",
       "4     0.0  0.548072  0.179223  1.268674 -0.780414 -0.303764  2   True   \n",
       "...   ...       ...       ...       ...       ...       ... ..    ...   \n",
       "9995  0.0  0.807433  0.319204 -0.020283  0.356293 -0.279564  0   True   \n",
       "9996  0.0  0.344756 -1.565719 -1.542668 -2.500770  1.770192  1  False   \n",
       "9997  0.0  0.561903 -0.127064  0.235972 -0.944850 -0.442041  2  False   \n",
       "9998  1.0  0.992591 -1.580409 -0.787138 -1.205219  0.177968  3   True   \n",
       "9999  0.0  0.830927 -0.156035  0.621559 -3.057914  1.516853  0  False   \n",
       "\n",
       "             y  \n",
       "0     1.847176  \n",
       "1     1.951739  \n",
       "2     4.389114  \n",
       "3     1.086873  \n",
       "4     2.044080  \n",
       "...        ...  \n",
       "9995  0.887622  \n",
       "9996 -0.887054  \n",
       "9997 -0.117593  \n",
       "9998  0.278438  \n",
       "9999  0.882534  \n",
       "\n",
       "[10000 rows x 9 columns]"
      ]
     },
     "execution_count": 3,
     "metadata": {},
     "output_type": "execute_result"
    }
   ],
   "source": [
    "data = dowhy.datasets.linear_dataset(beta=1,\n",
    "        num_common_causes=5, \n",
    "        num_instruments = 2,\n",
    "        num_treatments=1,\n",
    "        num_discrete_common_causes=1,\n",
    "        num_samples=10000,\n",
    "        treatment_is_binary=True,\n",
    "        outcome_is_binary=False)\n",
    "df = data[\"df\"]\n",
    "print(df[df.v0==True].shape[0])\n",
    "df"
   ]
  },
  {
   "cell_type": "markdown",
   "id": "6115e0c6",
   "metadata": {},
   "source": [
    "Note that we are using a pandas dataframe to load the data."
   ]
  },
  {
   "cell_type": "markdown",
   "id": "79345868",
   "metadata": {},
   "source": [
    "## Identifying the causal estimand"
   ]
  },
  {
   "cell_type": "markdown",
   "id": "b887908c",
   "metadata": {},
   "source": [
    "We now input a causal graph in the GML graph format."
   ]
  },
  {
   "cell_type": "code",
   "execution_count": 4,
   "id": "33247bef",
   "metadata": {
    "execution": {
     "iopub.execute_input": "2022-07-28T09:32:15.392302Z",
     "iopub.status.busy": "2022-07-28T09:32:15.391715Z",
     "iopub.status.idle": "2022-07-28T09:32:15.421541Z",
     "shell.execute_reply": "2022-07-28T09:32:15.420796Z"
    }
   },
   "outputs": [],
   "source": [
    "# With graph\n",
    "model=CausalModel(\n",
    "        data = df,\n",
    "        treatment=data[\"treatment_name\"],\n",
    "        outcome=data[\"outcome_name\"],\n",
    "        graph=data[\"gml_graph\"],\n",
    "        instruments=data[\"instrument_names\"]\n",
    "        )"
   ]
  },
  {
   "cell_type": "code",
   "execution_count": 5,
   "id": "1a02ace8",
   "metadata": {
    "execution": {
     "iopub.execute_input": "2022-07-28T09:32:15.426974Z",
     "iopub.status.busy": "2022-07-28T09:32:15.425559Z",
     "iopub.status.idle": "2022-07-28T09:32:15.493875Z",
     "shell.execute_reply": "2022-07-28T09:32:15.493031Z"
    }
   },
   "outputs": [],
   "source": [
    "model.view_model()"
   ]
  },
  {
   "cell_type": "code",
   "execution_count": 6,
   "id": "d0beca71",
   "metadata": {
    "execution": {
     "iopub.execute_input": "2022-07-28T09:32:15.497867Z",
     "iopub.status.busy": "2022-07-28T09:32:15.497329Z",
     "iopub.status.idle": "2022-07-28T09:32:15.528698Z",
     "shell.execute_reply": "2022-07-28T09:32:15.527808Z"
    }
   },
   "outputs": [
    {
     "data": {
      "image/png": "[encoded data removed]",
      "text/plain": [
       "<IPython.core.display.Image object>"
      ]
     },
     "metadata": {},
     "output_type": "display_data"
    }
   ],
   "source": [
    "from IPython.display import Image, display\n",
    "display(Image(filename=\"causal_model.png\"))"
   ]
  },
  {
   "cell_type": "markdown",
   "id": "38dd2588",
   "metadata": {},
   "source": [
    "We get a causal graph. Now identification and estimation is done."
   ]
  },
  {
   "cell_type": "code",
   "execution_count": 7,
   "id": "21537cf0",
   "metadata": {
    "execution": {
     "iopub.execute_input": "2022-07-28T09:32:15.533100Z",
     "iopub.status.busy": "2022-07-28T09:32:15.532547Z",
     "iopub.status.idle": "2022-07-28T09:32:15.815752Z",
     "shell.execute_reply": "2022-07-28T09:32:15.815062Z"
    }
   },
   "outputs": [
    {
     "name": "stdout",
     "output_type": "stream",
     "text": [
      "Estimand type: nonparametric-ate\n",
      "\n",
      "### Estimand : 1\n",
      "Estimand name: backdoor\n",
      "Estimand expression:\n",
      "  d                       \n",
      "─────(E[y|W1,W2,W0,W3,W4])\n",
      "d[v₀]                     \n",
      "Estimand assumption 1, Unconfoundedness: If U→{v0} and U→y then P(y|v0,W1,W2,W0,W3,W4,U) = P(y|v0,W1,W2,W0,W3,W4)\n",
      "\n",
      "### Estimand : 2\n",
      "Estimand name: iv\n",
      "Estimand expression:\n",
      " ⎡                              -1⎤\n",
      " ⎢    d        ⎛    d          ⎞  ⎥\n",
      "E⎢─────────(y)⋅⎜─────────([v₀])⎟  ⎥\n",
      " ⎣d[Z₁  Z₀]    ⎝d[Z₁  Z₀]      ⎠  ⎦\n",
      "Estimand assumption 1, As-if-random: If U→→y then ¬(U →→{Z1,Z0})\n",
      "Estimand assumption 2, Exclusion: If we remove {Z1,Z0}→{v0}, then ¬({Z1,Z0}→y)\n",
      "\n",
      "### Estimand : 3\n",
      "Estimand name: frontdoor\n",
      "No such variable(s) found!\n",
      "\n"
     ]
    }
   ],
   "source": [
    "identified_estimand = model.identify_effect(proceed_when_unidentifiable=True)\n",
    "print(identified_estimand)"
   ]
  },
  {
   "cell_type": "markdown",
   "id": "73cb80a5",
   "metadata": {},
   "source": [
    "## Method 1: Propensity Score Stratification\n",
    "\n",
    "We will be using propensity scores to stratify units in the data."
   ]
  },
  {
   "cell_type": "code",
   "execution_count": 8,
   "id": "534e5e62",
   "metadata": {
    "execution": {
     "iopub.execute_input": "2022-07-28T09:32:15.819349Z",
     "iopub.status.busy": "2022-07-28T09:32:15.819056Z",
     "iopub.status.idle": "2022-07-28T09:32:16.710120Z",
     "shell.execute_reply": "2022-07-28T09:32:16.709031Z"
    }
   },
   "outputs": [
    {
     "name": "stdout",
     "output_type": "stream",
     "text": [
      "propensity_score_stratification\n"
     ]
    },
    {
     "name": "stderr",
     "output_type": "stream",
     "text": [
      "/usr/local/lib/python3.8/dist-packages/sklearn/utils/validation.py:993: DataConversionWarning: A column-vector y was passed when a 1d array was expected. Please change the shape of y to (n_samples, ), for example using ravel().\n",
      "  y = column_or_1d(y, warn=True)\n"
     ]
    },
    {
     "name": "stdout",
     "output_type": "stream",
     "text": [
      "*** Causal Estimate ***\n",
      "\n",
      "## Identified estimand\n",
      "Estimand type: nonparametric-ate\n",
      "\n",
      "### Estimand : 1\n",
      "Estimand name: backdoor\n",
      "Estimand expression:\n",
      "  d                       \n",
      "─────(E[y|W1,W2,W0,W3,W4])\n",
      "d[v₀]                     \n",
      "Estimand assumption 1, Unconfoundedness: If U→{v0} and U→y then P(y|v0,W1,W2,W0,W3,W4,U) = P(y|v0,W1,W2,W0,W3,W4)\n",
      "\n",
      "## Realized estimand\n",
      "b: y~v0+W1+W2+W0+W3+W4\n",
      "Target units: att\n",
      "\n",
      "## Estimate\n",
      "Mean value: 0.9673223218535288\n",
      "\n",
      "Causal Estimate is 0.9673223218535288\n"
     ]
    }
   ],
   "source": [
    "causal_estimate_strat = model.estimate_effect(identified_estimand,\n",
    "                                              method_name=\"backdoor.propensity_score_stratification\",\n",
    "                                              target_units=\"att\")\n",
    "print(causal_estimate_strat)\n",
    "print(\"Causal Estimate is \" + str(causal_estimate_strat.value))"
   ]
  },
  {
   "cell_type": "markdown",
   "id": "dd5f7b37",
   "metadata": {},
   "source": [
    "### Textual Interpreter\n",
    "\n",
    "The textual Interpreter describes (in words) the effect of unit change in the treatment variable on the outcome variable."
   ]
  },
  {
   "cell_type": "code",
   "execution_count": 9,
   "id": "1c62dd82",
   "metadata": {
    "execution": {
     "iopub.execute_input": "2022-07-28T09:32:16.714693Z",
     "iopub.status.busy": "2022-07-28T09:32:16.713981Z",
     "iopub.status.idle": "2022-07-28T09:32:16.745448Z",
     "shell.execute_reply": "2022-07-28T09:32:16.744584Z"
    }
   },
   "outputs": [
    {
     "name": "stdout",
     "output_type": "stream",
     "text": [
      "Increasing the treatment variable(s) [v0] from 0 to 1 causes an increase of 0.9673223218535288 in the expected value of the outcome [y], over the data distribution/population represented by the dataset.\n"
     ]
    }
   ],
   "source": [
    "# Textual Interpreter\n",
    "interpretation = causal_estimate_strat.interpret(method_name=\"textual_effect_interpreter\")"
   ]
  },
  {
   "cell_type": "markdown",
   "id": "bd90ef28",
   "metadata": {},
   "source": [
    "### Visual Interpreter\n",
    "\n",
    "The visual interpreter plots the change in the standardized mean difference (SMD) before and after Propensity Score based adjustment of the dataset. The formula for SMD is given below.\n",
    "\n",
    "\n",
    "$SMD = \\frac{\\bar X_{1} - \\bar X_{2}}{\\sqrt{(S_{1}^{2} + S_{2}^{2})/2}}$\n",
    "\n",
    "Here, $\\bar X_{1}$ and $\\bar X_{2}$ are the sample mean for the treated and control groups.\n"
   ]
  },
  {
   "cell_type": "code",
   "execution_count": 10,
   "id": "6c314fb7",
   "metadata": {
    "execution": {
     "iopub.execute_input": "2022-07-28T09:32:16.749823Z",
     "iopub.status.busy": "2022-07-28T09:32:16.749271Z",
     "iopub.status.idle": "2022-07-28T09:32:18.298556Z",
     "shell.execute_reply": "2022-07-28T09:32:18.297749Z"
    }
   },
   "outputs": [
    {
     "data": {
      "image/png": "[encoded data removed]",
      "text/plain": [
       "<Figure size 432x288 with 1 Axes>"
      ]
     },
     "metadata": {
      "needs_background": "light"
     },
     "output_type": "display_data"
    }
   ],
   "source": [
    "# Visual Interpreter\n",
    "interpretation = causal_estimate_strat.interpret(method_name=\"propensity_balance_interpreter\")"
   ]
  },
  {
   "cell_type": "markdown",
   "id": "c6f71fea",
   "metadata": {},
   "source": [
    "This plot shows how the SMD decreases from the unadjusted to the stratified units. "
   ]
  },
  {
   "cell_type": "markdown",
   "id": "d10e3054",
   "metadata": {},
   "source": [
    "## Method 2: Propensity Score Matching\n",
    "\n",
    "We will be using propensity scores to match units in the data."
   ]
  },
  {
   "cell_type": "code",
   "execution_count": 11,
   "id": "bf4f9b56",
   "metadata": {
    "execution": {
     "iopub.execute_input": "2022-07-28T09:32:18.302770Z",
     "iopub.status.busy": "2022-07-28T09:32:18.302021Z",
     "iopub.status.idle": "2022-07-28T09:32:23.989790Z",
     "shell.execute_reply": "2022-07-28T09:32:23.988560Z"
    }
   },
   "outputs": [
    {
     "name": "stdout",
     "output_type": "stream",
     "text": [
      "propensity_score_matching\n"
     ]
    },
    {
     "name": "stderr",
     "output_type": "stream",
     "text": [
      "/usr/local/lib/python3.8/dist-packages/sklearn/utils/validation.py:993: DataConversionWarning: A column-vector y was passed when a 1d array was expected. Please change the shape of y to (n_samples, ), for example using ravel().\n",
      "  y = column_or_1d(y, warn=True)\n"
     ]
    },
    {
     "name": "stdout",
     "output_type": "stream",
     "text": [
      "*** Causal Estimate ***\n",
      "\n",
      "## Identified estimand\n",
      "Estimand type: nonparametric-ate\n",
      "\n",
      "### Estimand : 1\n",
      "Estimand name: backdoor\n",
      "Estimand expression:\n",
      "  d                       \n",
      "─────(E[y|W1,W2,W0,W3,W4])\n",
      "d[v₀]                     \n",
      "Estimand assumption 1, Unconfoundedness: If U→{v0} and U→y then P(y|v0,W1,W2,W0,W3,W4,U) = P(y|v0,W1,W2,W0,W3,W4)\n",
      "\n",
      "## Realized estimand\n",
      "b: y~v0+W1+W2+W0+W3+W4\n",
      "Target units: atc\n",
      "\n",
      "## Estimate\n",
      "Mean value: 1.0120220667045217\n",
      "\n",
      "Causal Estimate is 1.0120220667045217\n"
     ]
    }
   ],
   "source": [
    "causal_estimate_match = model.estimate_effect(identified_estimand,\n",
    "                                              method_name=\"backdoor.propensity_score_matching\",\n",
    "                                              target_units=\"atc\")\n",
    "print(causal_estimate_match)\n",
    "print(\"Causal Estimate is \" + str(causal_estimate_match.value))"
   ]
  },
  {
   "cell_type": "code",
   "execution_count": 12,
   "id": "0883333b",
   "metadata": {
    "execution": {
     "iopub.execute_input": "2022-07-28T09:32:23.994273Z",
     "iopub.status.busy": "2022-07-28T09:32:23.993624Z",
     "iopub.status.idle": "2022-07-28T09:32:24.024028Z",
     "shell.execute_reply": "2022-07-28T09:32:24.023299Z"
    }
   },
   "outputs": [
    {
     "name": "stdout",
     "output_type": "stream",
     "text": [
      "Increasing the treatment variable(s) [v0] from 0 to 1 causes an increase of 1.0120220667045217 in the expected value of the outcome [y], over the data distribution/population represented by the dataset.\n"
     ]
    }
   ],
   "source": [
    "# Textual Interpreter\n",
    "interpretation = causal_estimate_match.interpret(method_name=\"textual_effect_interpreter\")"
   ]
  },
  {
   "cell_type": "markdown",
   "id": "91dc81d0",
   "metadata": {},
   "source": [
    "Cannot use propensity balance interpretor here since the interpreter method only supports propensity score stratification estimator."
   ]
  },
  {
   "cell_type": "markdown",
   "id": "53e530d8",
   "metadata": {},
   "source": [
    "## Method 3: Weighting\n",
    "\n",
    "We will be using (inverse) propensity scores to assign weights to units in the data. DoWhy supports a few different weighting schemes:\n",
    "1. Vanilla Inverse Propensity Score weighting (IPS) (weighting_scheme=\"ips_weight\")\n",
    "2. Self-normalized IPS weighting (also known as the Hajek estimator) (weighting_scheme=\"ips_normalized_weight\")\n",
    "3. Stabilized IPS weighting (weighting_scheme = \"ips_stabilized_weight\")"
   ]
  },
  {
   "cell_type": "code",
   "execution_count": 13,
   "id": "59ead766",
   "metadata": {
    "execution": {
     "iopub.execute_input": "2022-07-28T09:32:24.027687Z",
     "iopub.status.busy": "2022-07-28T09:32:24.027410Z",
     "iopub.status.idle": "2022-07-28T09:32:24.104190Z",
     "shell.execute_reply": "2022-07-28T09:32:24.103262Z"
    }
   },
   "outputs": [
    {
     "name": "stdout",
     "output_type": "stream",
     "text": [
      "propensity_score_weighting\n",
      "*** Causal Estimate ***\n",
      "\n",
      "## Identified estimand\n",
      "Estimand type: nonparametric-ate\n",
      "\n",
      "### Estimand : 1\n",
      "Estimand name: backdoor\n",
      "Estimand expression:\n",
      "  d                       \n",
      "─────(E[y|W1,W2,W0,W3,W4])\n",
      "d[v₀]                     \n",
      "Estimand assumption 1, Unconfoundedness: If U→{v0} and U→y then P(y|v0,W1,W2,W0,W3,W4,U) = P(y|v0,W1,W2,W0,W3,W4)\n",
      "\n",
      "## Realized estimand\n",
      "b: y~v0+W1+W2+W0+W3+W4\n",
      "Target units: ate\n",
      "\n",
      "## Estimate\n",
      "Mean value: 0.9921979407061922\n",
      "\n",
      "Causal Estimate is 0.9921979407061922\n"
     ]
    },
    {
     "name": "stderr",
     "output_type": "stream",
     "text": [
      "/usr/local/lib/python3.8/dist-packages/sklearn/utils/validation.py:993: DataConversionWarning: A column-vector y was passed when a 1d array was expected. Please change the shape of y to (n_samples, ), for example using ravel().\n",
      "  y = column_or_1d(y, warn=True)\n"
     ]
    }
   ],
   "source": [
    "causal_estimate_ipw = model.estimate_effect(identified_estimand,\n",
    "                                            method_name=\"backdoor.propensity_score_weighting\",\n",
    "                                            target_units = \"ate\",\n",
    "                                            method_params={\"weighting_scheme\":\"ips_weight\"})\n",
    "print(causal_estimate_ipw)\n",
    "print(\"Causal Estimate is \" + str(causal_estimate_ipw.value))"
   ]
  },
  {
   "cell_type": "code",
   "execution_count": 14,
   "id": "63e6d481",
   "metadata": {
    "execution": {
     "iopub.execute_input": "2022-07-28T09:32:24.107746Z",
     "iopub.status.busy": "2022-07-28T09:32:24.107446Z",
     "iopub.status.idle": "2022-07-28T09:32:24.136939Z",
     "shell.execute_reply": "2022-07-28T09:32:24.136136Z"
    }
   },
   "outputs": [
    {
     "name": "stdout",
     "output_type": "stream",
     "text": [
      "Increasing the treatment variable(s) [v0] from 0 to 1 causes an increase of 0.9921979407061922 in the expected value of the outcome [y], over the data distribution/population represented by the dataset.\n"
     ]
    }
   ],
   "source": [
    "# Textual Interpreter\n",
    "interpretation = causal_estimate_ipw.interpret(method_name=\"textual_effect_interpreter\")"
   ]
  },
  {
   "cell_type": "code",
   "execution_count": 15,
   "id": "89aff64c",
   "metadata": {
    "execution": {
     "iopub.execute_input": "2022-07-28T09:32:24.140416Z",
     "iopub.status.busy": "2022-07-28T09:32:24.140061Z",
     "iopub.status.idle": "2022-07-28T09:32:24.463002Z",
     "shell.execute_reply": "2022-07-28T09:32:24.462057Z"
    }
   },
   "outputs": [
    {
     "data": {
      "image/png": "[encoded data removed]",
      "text/plain": [
       "<Figure size 576x576 with 2 Axes>"
      ]
     },
     "metadata": {
      "needs_background": "light"
     },
     "output_type": "display_data"
    }
   ],
   "source": [
    "interpretation = causal_estimate_ipw.interpret(method_name=\"confounder_distribution_interpreter\", fig_size=(8,8), font_size=12, var_name='W4', var_type='discrete')"
   ]
  },
  {
   "cell_type": "code",
   "execution_count": null,
   "id": "1493064e",
   "metadata": {},
   "outputs": [],
   "source": []
  }
 ],
 "metadata": {
  "kernelspec": {
   "display_name": "Python 3",
   "language": "python",
   "name": "python3"
  },
  "language_info": {
   "codemirror_mode": {
    "name": "ipython",
    "version": 3
   },
   "file_extension": ".py",
   "mimetype": "text/x-python",
   "name": "python",
   "nbconvert_exporter": "python",
   "pygments_lexer": "ipython3",
   "version": "3.8.10"
  },
  "toc": {
   "base_numbering": 1,
   "nav_menu": {},
   "number_sections": false,
   "sideBar": true,
   "skip_h1_title": true,
   "title_cell": "Table of Contents",
   "title_sidebar": "Contents",
   "toc_cell": false,
   "toc_position": {},
   "toc_section_display": true,
   "toc_window_display": false
  }
 },
 "nbformat": 4,
 "nbformat_minor": 5
}
