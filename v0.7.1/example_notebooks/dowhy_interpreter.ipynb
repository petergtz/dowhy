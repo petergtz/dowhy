{
 "cells": [
  {
   "cell_type": "markdown",
   "id": "8b02f98e",
   "metadata": {},
   "source": [
    "# DoWhy: Interpreters for Causal Estimators\n",
    "\n",
    "This is a quick introduction to the use of interpreters in the DoWhy causal inference library.\n",
    "We will load in a sample dataset, use different methods for estimating the causal effect of a (pre-specified)treatment variable on a (pre-specified) outcome variable and demonstrate how to interpret the obtained results.\n",
    "\n",
    "First, let us add the required path for Python to find the DoWhy code and load all required packages"
   ]
  },
  {
   "cell_type": "code",
   "execution_count": 1,
   "id": "79810fe9",
   "metadata": {
    "execution": {
     "iopub.execute_input": "2022-07-19T21:19:32.544821Z",
     "iopub.status.busy": "2022-07-19T21:19:32.544576Z",
     "iopub.status.idle": "2022-07-19T21:19:32.561650Z",
     "shell.execute_reply": "2022-07-19T21:19:32.560993Z"
    }
   },
   "outputs": [],
   "source": [
    "%load_ext autoreload\n",
    "%autoreload 2"
   ]
  },
  {
   "cell_type": "code",
   "execution_count": 2,
   "id": "001fcf1e",
   "metadata": {
    "execution": {
     "iopub.execute_input": "2022-07-19T21:19:32.564466Z",
     "iopub.status.busy": "2022-07-19T21:19:32.564255Z",
     "iopub.status.idle": "2022-07-19T21:19:33.545517Z",
     "shell.execute_reply": "2022-07-19T21:19:33.544820Z"
    }
   },
   "outputs": [
    {
     "name": "stdout",
     "output_type": "stream",
     "text": [
      "keywords are unexpanded, not using\n"
     ]
    }
   ],
   "source": [
    "import numpy as np\n",
    "import pandas as pd\n",
    "import logging\n",
    "\n",
    "import dowhy\n",
    "from dowhy import CausalModel\n",
    "import dowhy.datasets "
   ]
  },
  {
   "cell_type": "markdown",
   "id": "bdbe7954",
   "metadata": {},
   "source": [
    "Now, let us load a dataset. For simplicity, we simulate a dataset with linear relationships between common causes and treatment, and common causes and outcome.\n",
    "\n",
    "Beta is the true causal effect."
   ]
  },
  {
   "cell_type": "code",
   "execution_count": 3,
   "id": "1b519a1b",
   "metadata": {
    "execution": {
     "iopub.execute_input": "2022-07-19T21:19:33.549096Z",
     "iopub.status.busy": "2022-07-19T21:19:33.548540Z",
     "iopub.status.idle": "2022-07-19T21:19:33.841172Z",
     "shell.execute_reply": "2022-07-19T21:19:33.840319Z"
    }
   },
   "outputs": [
    {
     "name": "stdout",
     "output_type": "stream",
     "text": [
      "9036\n"
     ]
    },
    {
     "data": {
      "text/html": [
       "<div>\n",
       "<style scoped>\n",
       "    .dataframe tbody tr th:only-of-type {\n",
       "        vertical-align: middle;\n",
       "    }\n",
       "\n",
       "    .dataframe tbody tr th {\n",
       "        vertical-align: top;\n",
       "    }\n",
       "\n",
       "    .dataframe thead th {\n",
       "        text-align: right;\n",
       "    }\n",
       "</style>\n",
       "<table border=\"1\" class=\"dataframe\">\n",
       "  <thead>\n",
       "    <tr style=\"text-align: right;\">\n",
       "      <th></th>\n",
       "      <th>Z0</th>\n",
       "      <th>Z1</th>\n",
       "      <th>W0</th>\n",
       "      <th>W1</th>\n",
       "      <th>W2</th>\n",
       "      <th>W3</th>\n",
       "      <th>W4</th>\n",
       "      <th>v0</th>\n",
       "      <th>y</th>\n",
       "    </tr>\n",
       "  </thead>\n",
       "  <tbody>\n",
       "    <tr>\n",
       "      <th>0</th>\n",
       "      <td>1.0</td>\n",
       "      <td>0.847588</td>\n",
       "      <td>0.664983</td>\n",
       "      <td>1.555904</td>\n",
       "      <td>-0.865258</td>\n",
       "      <td>-0.479306</td>\n",
       "      <td>1</td>\n",
       "      <td>True</td>\n",
       "      <td>2.155451</td>\n",
       "    </tr>\n",
       "    <tr>\n",
       "      <th>1</th>\n",
       "      <td>0.0</td>\n",
       "      <td>0.389642</td>\n",
       "      <td>0.943851</td>\n",
       "      <td>0.850430</td>\n",
       "      <td>-0.084582</td>\n",
       "      <td>0.788776</td>\n",
       "      <td>0</td>\n",
       "      <td>True</td>\n",
       "      <td>1.619285</td>\n",
       "    </tr>\n",
       "    <tr>\n",
       "      <th>2</th>\n",
       "      <td>1.0</td>\n",
       "      <td>0.377669</td>\n",
       "      <td>1.482615</td>\n",
       "      <td>0.985840</td>\n",
       "      <td>-0.003301</td>\n",
       "      <td>-0.812055</td>\n",
       "      <td>0</td>\n",
       "      <td>True</td>\n",
       "      <td>1.923541</td>\n",
       "    </tr>\n",
       "    <tr>\n",
       "      <th>3</th>\n",
       "      <td>1.0</td>\n",
       "      <td>0.412788</td>\n",
       "      <td>2.104552</td>\n",
       "      <td>-0.083771</td>\n",
       "      <td>0.843161</td>\n",
       "      <td>-0.789704</td>\n",
       "      <td>1</td>\n",
       "      <td>True</td>\n",
       "      <td>3.374881</td>\n",
       "    </tr>\n",
       "    <tr>\n",
       "      <th>4</th>\n",
       "      <td>1.0</td>\n",
       "      <td>0.895552</td>\n",
       "      <td>1.853526</td>\n",
       "      <td>-0.906642</td>\n",
       "      <td>-1.231929</td>\n",
       "      <td>-0.685261</td>\n",
       "      <td>0</td>\n",
       "      <td>True</td>\n",
       "      <td>1.066697</td>\n",
       "    </tr>\n",
       "    <tr>\n",
       "      <th>...</th>\n",
       "      <td>...</td>\n",
       "      <td>...</td>\n",
       "      <td>...</td>\n",
       "      <td>...</td>\n",
       "      <td>...</td>\n",
       "      <td>...</td>\n",
       "      <td>...</td>\n",
       "      <td>...</td>\n",
       "      <td>...</td>\n",
       "    </tr>\n",
       "    <tr>\n",
       "      <th>9995</th>\n",
       "      <td>1.0</td>\n",
       "      <td>0.209786</td>\n",
       "      <td>0.250543</td>\n",
       "      <td>-0.481453</td>\n",
       "      <td>1.989477</td>\n",
       "      <td>0.036635</td>\n",
       "      <td>1</td>\n",
       "      <td>True</td>\n",
       "      <td>2.960050</td>\n",
       "    </tr>\n",
       "    <tr>\n",
       "      <th>9996</th>\n",
       "      <td>1.0</td>\n",
       "      <td>0.408075</td>\n",
       "      <td>1.562378</td>\n",
       "      <td>0.672364</td>\n",
       "      <td>0.020005</td>\n",
       "      <td>0.363116</td>\n",
       "      <td>2</td>\n",
       "      <td>True</td>\n",
       "      <td>3.847448</td>\n",
       "    </tr>\n",
       "    <tr>\n",
       "      <th>9997</th>\n",
       "      <td>1.0</td>\n",
       "      <td>0.922458</td>\n",
       "      <td>-0.540611</td>\n",
       "      <td>0.627625</td>\n",
       "      <td>-2.067022</td>\n",
       "      <td>0.490675</td>\n",
       "      <td>1</td>\n",
       "      <td>True</td>\n",
       "      <td>0.770777</td>\n",
       "    </tr>\n",
       "    <tr>\n",
       "      <th>9998</th>\n",
       "      <td>0.0</td>\n",
       "      <td>0.127430</td>\n",
       "      <td>-0.010433</td>\n",
       "      <td>-0.026470</td>\n",
       "      <td>1.247042</td>\n",
       "      <td>1.262396</td>\n",
       "      <td>0</td>\n",
       "      <td>True</td>\n",
       "      <td>1.678614</td>\n",
       "    </tr>\n",
       "    <tr>\n",
       "      <th>9999</th>\n",
       "      <td>1.0</td>\n",
       "      <td>0.103959</td>\n",
       "      <td>-0.134242</td>\n",
       "      <td>-0.111676</td>\n",
       "      <td>-0.411890</td>\n",
       "      <td>1.206948</td>\n",
       "      <td>2</td>\n",
       "      <td>True</td>\n",
       "      <td>2.637141</td>\n",
       "    </tr>\n",
       "  </tbody>\n",
       "</table>\n",
       "<p>10000 rows × 9 columns</p>\n",
       "</div>"
      ],
      "text/plain": [
       "       Z0        Z1        W0        W1        W2        W3 W4    v0         y\n",
       "0     1.0  0.847588  0.664983  1.555904 -0.865258 -0.479306  1  True  2.155451\n",
       "1     0.0  0.389642  0.943851  0.850430 -0.084582  0.788776  0  True  1.619285\n",
       "2     1.0  0.377669  1.482615  0.985840 -0.003301 -0.812055  0  True  1.923541\n",
       "3     1.0  0.412788  2.104552 -0.083771  0.843161 -0.789704  1  True  3.374881\n",
       "4     1.0  0.895552  1.853526 -0.906642 -1.231929 -0.685261  0  True  1.066697\n",
       "...   ...       ...       ...       ...       ...       ... ..   ...       ...\n",
       "9995  1.0  0.209786  0.250543 -0.481453  1.989477  0.036635  1  True  2.960050\n",
       "9996  1.0  0.408075  1.562378  0.672364  0.020005  0.363116  2  True  3.847448\n",
       "9997  1.0  0.922458 -0.540611  0.627625 -2.067022  0.490675  1  True  0.770777\n",
       "9998  0.0  0.127430 -0.010433 -0.026470  1.247042  1.262396  0  True  1.678614\n",
       "9999  1.0  0.103959 -0.134242 -0.111676 -0.411890  1.206948  2  True  2.637141\n",
       "\n",
       "[10000 rows x 9 columns]"
      ]
     },
     "execution_count": 3,
     "metadata": {},
     "output_type": "execute_result"
    }
   ],
   "source": [
    "data = dowhy.datasets.linear_dataset(beta=1,\n",
    "        num_common_causes=5, \n",
    "        num_instruments = 2,\n",
    "        num_treatments=1,\n",
    "        num_discrete_common_causes=1,\n",
    "        num_samples=10000,\n",
    "        treatment_is_binary=True,\n",
    "        outcome_is_binary=False)\n",
    "df = data[\"df\"]\n",
    "print(df[df.v0==True].shape[0])\n",
    "df"
   ]
  },
  {
   "cell_type": "markdown",
   "id": "d7c1a870",
   "metadata": {},
   "source": [
    "Note that we are using a pandas dataframe to load the data."
   ]
  },
  {
   "cell_type": "markdown",
   "id": "2785026e",
   "metadata": {},
   "source": [
    "## Identifying the causal estimand"
   ]
  },
  {
   "cell_type": "markdown",
   "id": "cf26eaac",
   "metadata": {},
   "source": [
    "We now input a causal graph in the GML graph format."
   ]
  },
  {
   "cell_type": "code",
   "execution_count": 4,
   "id": "79eaf4d9",
   "metadata": {
    "execution": {
     "iopub.execute_input": "2022-07-19T21:19:33.844330Z",
     "iopub.status.busy": "2022-07-19T21:19:33.844096Z",
     "iopub.status.idle": "2022-07-19T21:19:33.870436Z",
     "shell.execute_reply": "2022-07-19T21:19:33.869837Z"
    }
   },
   "outputs": [],
   "source": [
    "# With graph\n",
    "model=CausalModel(\n",
    "        data = df,\n",
    "        treatment=data[\"treatment_name\"],\n",
    "        outcome=data[\"outcome_name\"],\n",
    "        graph=data[\"gml_graph\"],\n",
    "        instruments=data[\"instrument_names\"]\n",
    "        )"
   ]
  },
  {
   "cell_type": "code",
   "execution_count": 5,
   "id": "1b44d54c",
   "metadata": {
    "execution": {
     "iopub.execute_input": "2022-07-19T21:19:33.873448Z",
     "iopub.status.busy": "2022-07-19T21:19:33.873226Z",
     "iopub.status.idle": "2022-07-19T21:19:33.936206Z",
     "shell.execute_reply": "2022-07-19T21:19:33.935608Z"
    }
   },
   "outputs": [],
   "source": [
    "model.view_model()"
   ]
  },
  {
   "cell_type": "code",
   "execution_count": 6,
   "id": "11aaf6ac",
   "metadata": {
    "execution": {
     "iopub.execute_input": "2022-07-19T21:19:33.939695Z",
     "iopub.status.busy": "2022-07-19T21:19:33.939078Z",
     "iopub.status.idle": "2022-07-19T21:19:33.967264Z",
     "shell.execute_reply": "2022-07-19T21:19:33.966614Z"
    }
   },
   "outputs": [
    {
     "data": {
      "image/png": "[encoded data removed]",
      "text/plain": [
       "<IPython.core.display.Image object>"
      ]
     },
     "metadata": {},
     "output_type": "display_data"
    }
   ],
   "source": [
    "from IPython.display import Image, display\n",
    "display(Image(filename=\"causal_model.png\"))"
   ]
  },
  {
   "cell_type": "markdown",
   "id": "0ce50b60",
   "metadata": {},
   "source": [
    "We get a causal graph. Now identification and estimation is done."
   ]
  },
  {
   "cell_type": "code",
   "execution_count": 7,
   "id": "a40d0513",
   "metadata": {
    "execution": {
     "iopub.execute_input": "2022-07-19T21:19:33.970142Z",
     "iopub.status.busy": "2022-07-19T21:19:33.969923Z",
     "iopub.status.idle": "2022-07-19T21:19:34.193121Z",
     "shell.execute_reply": "2022-07-19T21:19:34.192241Z"
    }
   },
   "outputs": [
    {
     "name": "stdout",
     "output_type": "stream",
     "text": [
      "Estimand type: nonparametric-ate\n",
      "\n",
      "### Estimand : 1\n",
      "Estimand name: backdoor\n",
      "Estimand expression:\n",
      "  d                       \n",
      "─────(E[y|W0,W1,W2,W4,W3])\n",
      "d[v₀]                     \n",
      "Estimand assumption 1, Unconfoundedness: If U→{v0} and U→y then P(y|v0,W0,W1,W2,W4,W3,U) = P(y|v0,W0,W1,W2,W4,W3)\n",
      "\n",
      "### Estimand : 2\n",
      "Estimand name: iv\n",
      "Estimand expression:\n",
      " ⎡                              -1⎤\n",
      " ⎢    d        ⎛    d          ⎞  ⎥\n",
      "E⎢─────────(y)⋅⎜─────────([v₀])⎟  ⎥\n",
      " ⎣d[Z₀  Z₁]    ⎝d[Z₀  Z₁]      ⎠  ⎦\n",
      "Estimand assumption 1, As-if-random: If U→→y then ¬(U →→{Z0,Z1})\n",
      "Estimand assumption 2, Exclusion: If we remove {Z0,Z1}→{v0}, then ¬({Z0,Z1}→y)\n",
      "\n",
      "### Estimand : 3\n",
      "Estimand name: frontdoor\n",
      "No such variable(s) found!\n",
      "\n"
     ]
    }
   ],
   "source": [
    "identified_estimand = model.identify_effect(proceed_when_unidentifiable=True)\n",
    "print(identified_estimand)"
   ]
  },
  {
   "cell_type": "markdown",
   "id": "ce62bd58",
   "metadata": {},
   "source": [
    "## Method 1: Propensity Score Stratification\n",
    "\n",
    "We will be using propensity scores to stratify units in the data."
   ]
  },
  {
   "cell_type": "code",
   "execution_count": 8,
   "id": "1841f19d",
   "metadata": {
    "execution": {
     "iopub.execute_input": "2022-07-19T21:19:34.196184Z",
     "iopub.status.busy": "2022-07-19T21:19:34.195979Z",
     "iopub.status.idle": "2022-07-19T21:19:34.858019Z",
     "shell.execute_reply": "2022-07-19T21:19:34.857300Z"
    }
   },
   "outputs": [
    {
     "name": "stdout",
     "output_type": "stream",
     "text": [
      "propensity_score_stratification\n"
     ]
    },
    {
     "name": "stderr",
     "output_type": "stream",
     "text": [
      "/usr/local/lib/python3.8/dist-packages/sklearn/utils/validation.py:993: DataConversionWarning: A column-vector y was passed when a 1d array was expected. Please change the shape of y to (n_samples, ), for example using ravel().\n",
      "  y = column_or_1d(y, warn=True)\n"
     ]
    },
    {
     "name": "stdout",
     "output_type": "stream",
     "text": [
      "*** Causal Estimate ***\n",
      "\n",
      "## Identified estimand\n",
      "Estimand type: nonparametric-ate\n",
      "\n",
      "### Estimand : 1\n",
      "Estimand name: backdoor\n",
      "Estimand expression:\n",
      "  d                       \n",
      "─────(E[y|W0,W1,W2,W4,W3])\n",
      "d[v₀]                     \n",
      "Estimand assumption 1, Unconfoundedness: If U→{v0} and U→y then P(y|v0,W0,W1,W2,W4,W3,U) = P(y|v0,W0,W1,W2,W4,W3)\n",
      "\n",
      "## Realized estimand\n",
      "b: y~v0+W0+W1+W2+W4+W3\n",
      "Target units: att\n",
      "\n",
      "## Estimate\n",
      "Mean value: 1.0256827384721954\n",
      "\n",
      "Causal Estimate is 1.0256827384721954\n"
     ]
    }
   ],
   "source": [
    "causal_estimate_strat = model.estimate_effect(identified_estimand,\n",
    "                                              method_name=\"backdoor.propensity_score_stratification\",\n",
    "                                              target_units=\"att\")\n",
    "print(causal_estimate_strat)\n",
    "print(\"Causal Estimate is \" + str(causal_estimate_strat.value))"
   ]
  },
  {
   "cell_type": "markdown",
   "id": "cdc48dcb",
   "metadata": {},
   "source": [
    "### Textual Interpreter\n",
    "\n",
    "The textual Interpreter describes (in words) the effect of unit change in the treatment variable on the outcome variable."
   ]
  },
  {
   "cell_type": "code",
   "execution_count": 9,
   "id": "a0d84d28",
   "metadata": {
    "execution": {
     "iopub.execute_input": "2022-07-19T21:19:34.861524Z",
     "iopub.status.busy": "2022-07-19T21:19:34.860965Z",
     "iopub.status.idle": "2022-07-19T21:19:34.887998Z",
     "shell.execute_reply": "2022-07-19T21:19:34.887347Z"
    }
   },
   "outputs": [
    {
     "name": "stdout",
     "output_type": "stream",
     "text": [
      "Increasing the treatment variable(s) [v0] from 0 to 1 causes an increase of 1.0256827384721954 in the expected value of the outcome [y], over the data distribution/population represented by the dataset.\n"
     ]
    }
   ],
   "source": [
    "# Textual Interpreter\n",
    "interpretation = causal_estimate_strat.interpret(method_name=\"textual_effect_interpreter\")"
   ]
  },
  {
   "cell_type": "markdown",
   "id": "4e90dbcb",
   "metadata": {},
   "source": [
    "### Visual Interpreter\n",
    "\n",
    "The visual interpreter plots the change in the standardized mean difference (SMD) before and after Propensity Score based adjustment of the dataset. The formula for SMD is given below.\n",
    "\n",
    "\n",
    "$SMD = \\frac{\\bar X_{1} - \\bar X_{2}}{\\sqrt{(S_{1}^{2} + S_{2}^{2})/2}}$\n",
    "\n",
    "Here, $\\bar X_{1}$ and $\\bar X_{2}$ are the sample mean for the treated and control groups.\n"
   ]
  },
  {
   "cell_type": "code",
   "execution_count": 10,
   "id": "d311a987",
   "metadata": {
    "execution": {
     "iopub.execute_input": "2022-07-19T21:19:34.891366Z",
     "iopub.status.busy": "2022-07-19T21:19:34.890996Z",
     "iopub.status.idle": "2022-07-19T21:19:35.805184Z",
     "shell.execute_reply": "2022-07-19T21:19:35.804562Z"
    }
   },
   "outputs": [
    {
     "data": {
      "image/png": "[encoded data removed]",
      "text/plain": [
       "<Figure size 432x288 with 1 Axes>"
      ]
     },
     "metadata": {
      "needs_background": "light"
     },
     "output_type": "display_data"
    }
   ],
   "source": [
    "# Visual Interpreter\n",
    "interpretation = causal_estimate_strat.interpret(method_name=\"propensity_balance_interpreter\")"
   ]
  },
  {
   "cell_type": "markdown",
   "id": "6d71f2b8",
   "metadata": {},
   "source": [
    "This plot shows how the SMD decreases from the unadjusted to the stratified units. "
   ]
  },
  {
   "cell_type": "markdown",
   "id": "50526987",
   "metadata": {},
   "source": [
    "## Method 2: Propensity Score Matching\n",
    "\n",
    "We will be using propensity scores to match units in the data."
   ]
  },
  {
   "cell_type": "code",
   "execution_count": 11,
   "id": "bb46977e",
   "metadata": {
    "execution": {
     "iopub.execute_input": "2022-07-19T21:19:35.808533Z",
     "iopub.status.busy": "2022-07-19T21:19:35.808055Z",
     "iopub.status.idle": "2022-07-19T21:19:39.342905Z",
     "shell.execute_reply": "2022-07-19T21:19:39.342216Z"
    }
   },
   "outputs": [
    {
     "name": "stdout",
     "output_type": "stream",
     "text": [
      "propensity_score_matching\n"
     ]
    },
    {
     "name": "stderr",
     "output_type": "stream",
     "text": [
      "/usr/local/lib/python3.8/dist-packages/sklearn/utils/validation.py:993: DataConversionWarning: A column-vector y was passed when a 1d array was expected. Please change the shape of y to (n_samples, ), for example using ravel().\n",
      "  y = column_or_1d(y, warn=True)\n"
     ]
    },
    {
     "name": "stdout",
     "output_type": "stream",
     "text": [
      "*** Causal Estimate ***\n",
      "\n",
      "## Identified estimand\n",
      "Estimand type: nonparametric-ate\n",
      "\n",
      "### Estimand : 1\n",
      "Estimand name: backdoor\n",
      "Estimand expression:\n",
      "  d                       \n",
      "─────(E[y|W0,W1,W2,W4,W3])\n",
      "d[v₀]                     \n",
      "Estimand assumption 1, Unconfoundedness: If U→{v0} and U→y then P(y|v0,W0,W1,W2,W4,W3,U) = P(y|v0,W0,W1,W2,W4,W3)\n",
      "\n",
      "## Realized estimand\n",
      "b: y~v0+W0+W1+W2+W4+W3\n",
      "Target units: atc\n",
      "\n",
      "## Estimate\n",
      "Mean value: 1.0338243842366295\n",
      "\n",
      "Causal Estimate is 1.0338243842366295\n"
     ]
    }
   ],
   "source": [
    "causal_estimate_match = model.estimate_effect(identified_estimand,\n",
    "                                              method_name=\"backdoor.propensity_score_matching\",\n",
    "                                              target_units=\"atc\")\n",
    "print(causal_estimate_match)\n",
    "print(\"Causal Estimate is \" + str(causal_estimate_match.value))"
   ]
  },
  {
   "cell_type": "code",
   "execution_count": 12,
   "id": "07eb9249",
   "metadata": {
    "execution": {
     "iopub.execute_input": "2022-07-19T21:19:39.345700Z",
     "iopub.status.busy": "2022-07-19T21:19:39.345461Z",
     "iopub.status.idle": "2022-07-19T21:19:39.373372Z",
     "shell.execute_reply": "2022-07-19T21:19:39.372727Z"
    }
   },
   "outputs": [
    {
     "name": "stdout",
     "output_type": "stream",
     "text": [
      "Increasing the treatment variable(s) [v0] from 0 to 1 causes an increase of 1.0338243842366295 in the expected value of the outcome [y], over the data distribution/population represented by the dataset.\n"
     ]
    }
   ],
   "source": [
    "# Textual Interpreter\n",
    "interpretation = causal_estimate_match.interpret(method_name=\"textual_effect_interpreter\")"
   ]
  },
  {
   "cell_type": "markdown",
   "id": "bcdbae40",
   "metadata": {},
   "source": [
    "Cannot use propensity balance interpretor here since the interpreter method only supports propensity score stratification estimator."
   ]
  },
  {
   "cell_type": "markdown",
   "id": "539f3909",
   "metadata": {},
   "source": [
    "## Method 3: Weighting\n",
    "\n",
    "We will be using (inverse) propensity scores to assign weights to units in the data. DoWhy supports a few different weighting schemes:\n",
    "1. Vanilla Inverse Propensity Score weighting (IPS) (weighting_scheme=\"ips_weight\")\n",
    "2. Self-normalized IPS weighting (also known as the Hajek estimator) (weighting_scheme=\"ips_normalized_weight\")\n",
    "3. Stabilized IPS weighting (weighting_scheme = \"ips_stabilized_weight\")"
   ]
  },
  {
   "cell_type": "code",
   "execution_count": 13,
   "id": "1a2cb09f",
   "metadata": {
    "execution": {
     "iopub.execute_input": "2022-07-19T21:19:39.376491Z",
     "iopub.status.busy": "2022-07-19T21:19:39.376138Z",
     "iopub.status.idle": "2022-07-19T21:19:39.437539Z",
     "shell.execute_reply": "2022-07-19T21:19:39.436373Z"
    }
   },
   "outputs": [
    {
     "name": "stdout",
     "output_type": "stream",
     "text": [
      "propensity_score_weighting\n",
      "*** Causal Estimate ***\n",
      "\n",
      "## Identified estimand\n",
      "Estimand type: nonparametric-ate\n",
      "\n",
      "### Estimand : 1\n",
      "Estimand name: backdoor\n",
      "Estimand expression:\n",
      "  d                       \n",
      "─────(E[y|W0,W1,W2,W4,W3])\n",
      "d[v₀]                     \n",
      "Estimand assumption 1, Unconfoundedness: If U→{v0} and U→y then P(y|v0,W0,W1,W2,W4,W3,U) = P(y|v0,W0,W1,W2,W4,W3)\n",
      "\n",
      "## Realized estimand\n",
      "b: y~v0+W0+W1+W2+W4+W3\n",
      "Target units: ate\n",
      "\n",
      "## Estimate\n",
      "Mean value: 1.2500197227993257\n",
      "\n",
      "Causal Estimate is 1.2500197227993257\n"
     ]
    },
    {
     "name": "stderr",
     "output_type": "stream",
     "text": [
      "/usr/local/lib/python3.8/dist-packages/sklearn/utils/validation.py:993: DataConversionWarning: A column-vector y was passed when a 1d array was expected. Please change the shape of y to (n_samples, ), for example using ravel().\n",
      "  y = column_or_1d(y, warn=True)\n"
     ]
    }
   ],
   "source": [
    "causal_estimate_ipw = model.estimate_effect(identified_estimand,\n",
    "                                            method_name=\"backdoor.propensity_score_weighting\",\n",
    "                                            target_units = \"ate\",\n",
    "                                            method_params={\"weighting_scheme\":\"ips_weight\"})\n",
    "print(causal_estimate_ipw)\n",
    "print(\"Causal Estimate is \" + str(causal_estimate_ipw.value))"
   ]
  },
  {
   "cell_type": "code",
   "execution_count": 14,
   "id": "a2a71757",
   "metadata": {
    "execution": {
     "iopub.execute_input": "2022-07-19T21:19:39.440571Z",
     "iopub.status.busy": "2022-07-19T21:19:39.440353Z",
     "iopub.status.idle": "2022-07-19T21:19:39.466269Z",
     "shell.execute_reply": "2022-07-19T21:19:39.465660Z"
    }
   },
   "outputs": [
    {
     "name": "stdout",
     "output_type": "stream",
     "text": [
      "Increasing the treatment variable(s) [v0] from 0 to 1 causes an increase of 1.2500197227993257 in the expected value of the outcome [y], over the data distribution/population represented by the dataset.\n"
     ]
    }
   ],
   "source": [
    "# Textual Interpreter\n",
    "interpretation = causal_estimate_ipw.interpret(method_name=\"textual_effect_interpreter\")"
   ]
  },
  {
   "cell_type": "code",
   "execution_count": 15,
   "id": "e6c87a56",
   "metadata": {
    "execution": {
     "iopub.execute_input": "2022-07-19T21:19:39.469216Z",
     "iopub.status.busy": "2022-07-19T21:19:39.468999Z",
     "iopub.status.idle": "2022-07-19T21:19:39.705943Z",
     "shell.execute_reply": "2022-07-19T21:19:39.705329Z"
    }
   },
   "outputs": [
    {
     "data": {
      "image/png": "[encoded data removed]",
      "text/plain": [
       "<Figure size 576x576 with 2 Axes>"
      ]
     },
     "metadata": {
      "needs_background": "light"
     },
     "output_type": "display_data"
    }
   ],
   "source": [
    "interpretation = causal_estimate_ipw.interpret(method_name=\"confounder_distribution_interpreter\", fig_size=(8,8), font_size=12, var_name='W4', var_type='discrete')"
   ]
  },
  {
   "cell_type": "code",
   "execution_count": null,
   "id": "d3266a67",
   "metadata": {},
   "outputs": [],
   "source": []
  }
 ],
 "metadata": {
  "kernelspec": {
   "display_name": "Python 3",
   "language": "python",
   "name": "python3"
  },
  "language_info": {
   "codemirror_mode": {
    "name": "ipython",
    "version": 3
   },
   "file_extension": ".py",
   "mimetype": "text/x-python",
   "name": "python",
   "nbconvert_exporter": "python",
   "pygments_lexer": "ipython3",
   "version": "3.8.10"
  },
  "toc": {
   "base_numbering": 1,
   "nav_menu": {},
   "number_sections": false,
   "sideBar": true,
   "skip_h1_title": true,
   "title_cell": "Table of Contents",
   "title_sidebar": "Contents",
   "toc_cell": false,
   "toc_position": {},
   "toc_section_display": true,
   "toc_window_display": false
  }
 },
 "nbformat": 4,
 "nbformat_minor": 5
}
