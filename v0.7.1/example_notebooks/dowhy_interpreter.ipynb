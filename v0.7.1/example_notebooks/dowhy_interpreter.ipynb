{
 "cells": [
  {
   "cell_type": "markdown",
   "id": "6dd93270",
   "metadata": {},
   "source": [
    "# DoWhy: Interpreters for Causal Estimators\n",
    "\n",
    "This is a quick introduction to the use of interpreters in the DoWhy causal inference library.\n",
    "We will load in a sample dataset, use different methods for estimating the causal effect of a (pre-specified)treatment variable on a (pre-specified) outcome variable and demonstrate how to interpret the obtained results.\n",
    "\n",
    "First, let us add the required path for Python to find the DoWhy code and load all required packages"
   ]
  },
  {
   "cell_type": "code",
   "execution_count": 1,
   "id": "c72aacdf",
   "metadata": {
    "execution": {
     "iopub.execute_input": "2022-07-15T15:08:19.066251Z",
     "iopub.status.busy": "2022-07-15T15:08:19.065828Z",
     "iopub.status.idle": "2022-07-15T15:08:19.083061Z",
     "shell.execute_reply": "2022-07-15T15:08:19.081733Z"
    }
   },
   "outputs": [],
   "source": [
    "%load_ext autoreload\n",
    "%autoreload 2"
   ]
  },
  {
   "cell_type": "code",
   "execution_count": 2,
   "id": "3a9d2642",
   "metadata": {
    "execution": {
     "iopub.execute_input": "2022-07-15T15:08:19.086363Z",
     "iopub.status.busy": "2022-07-15T15:08:19.085846Z",
     "iopub.status.idle": "2022-07-15T15:08:20.168156Z",
     "shell.execute_reply": "2022-07-15T15:08:20.167393Z"
    }
   },
   "outputs": [
    {
     "name": "stdout",
     "output_type": "stream",
     "text": [
      "keywords are unexpanded, not using\n"
     ]
    }
   ],
   "source": [
    "import numpy as np\n",
    "import pandas as pd\n",
    "import logging\n",
    "\n",
    "import dowhy\n",
    "from dowhy import CausalModel\n",
    "import dowhy.datasets "
   ]
  },
  {
   "cell_type": "markdown",
   "id": "af266731",
   "metadata": {},
   "source": [
    "Now, let us load a dataset. For simplicity, we simulate a dataset with linear relationships between common causes and treatment, and common causes and outcome.\n",
    "\n",
    "Beta is the true causal effect."
   ]
  },
  {
   "cell_type": "code",
   "execution_count": 3,
   "id": "6be5e322",
   "metadata": {
    "execution": {
     "iopub.execute_input": "2022-07-15T15:08:20.172166Z",
     "iopub.status.busy": "2022-07-15T15:08:20.171412Z",
     "iopub.status.idle": "2022-07-15T15:08:20.496398Z",
     "shell.execute_reply": "2022-07-15T15:08:20.495804Z"
    }
   },
   "outputs": [
    {
     "name": "stdout",
     "output_type": "stream",
     "text": [
      "9386\n"
     ]
    },
    {
     "data": {
      "text/html": [
       "<div>\n",
       "<style scoped>\n",
       "    .dataframe tbody tr th:only-of-type {\n",
       "        vertical-align: middle;\n",
       "    }\n",
       "\n",
       "    .dataframe tbody tr th {\n",
       "        vertical-align: top;\n",
       "    }\n",
       "\n",
       "    .dataframe thead th {\n",
       "        text-align: right;\n",
       "    }\n",
       "</style>\n",
       "<table border=\"1\" class=\"dataframe\">\n",
       "  <thead>\n",
       "    <tr style=\"text-align: right;\">\n",
       "      <th></th>\n",
       "      <th>Z0</th>\n",
       "      <th>Z1</th>\n",
       "      <th>W0</th>\n",
       "      <th>W1</th>\n",
       "      <th>W2</th>\n",
       "      <th>W3</th>\n",
       "      <th>W4</th>\n",
       "      <th>v0</th>\n",
       "      <th>y</th>\n",
       "    </tr>\n",
       "  </thead>\n",
       "  <tbody>\n",
       "    <tr>\n",
       "      <th>0</th>\n",
       "      <td>1.0</td>\n",
       "      <td>0.517649</td>\n",
       "      <td>0.761304</td>\n",
       "      <td>-1.421805</td>\n",
       "      <td>-0.861232</td>\n",
       "      <td>0.705580</td>\n",
       "      <td>2</td>\n",
       "      <td>True</td>\n",
       "      <td>2.386110</td>\n",
       "    </tr>\n",
       "    <tr>\n",
       "      <th>1</th>\n",
       "      <td>0.0</td>\n",
       "      <td>0.379899</td>\n",
       "      <td>-0.074192</td>\n",
       "      <td>1.013601</td>\n",
       "      <td>-0.916441</td>\n",
       "      <td>1.031564</td>\n",
       "      <td>1</td>\n",
       "      <td>True</td>\n",
       "      <td>3.021076</td>\n",
       "    </tr>\n",
       "    <tr>\n",
       "      <th>2</th>\n",
       "      <td>0.0</td>\n",
       "      <td>0.501369</td>\n",
       "      <td>-0.020104</td>\n",
       "      <td>-0.445257</td>\n",
       "      <td>1.188858</td>\n",
       "      <td>-0.086788</td>\n",
       "      <td>3</td>\n",
       "      <td>True</td>\n",
       "      <td>2.675404</td>\n",
       "    </tr>\n",
       "    <tr>\n",
       "      <th>3</th>\n",
       "      <td>0.0</td>\n",
       "      <td>0.698525</td>\n",
       "      <td>-0.739659</td>\n",
       "      <td>1.712251</td>\n",
       "      <td>1.176142</td>\n",
       "      <td>0.757219</td>\n",
       "      <td>0</td>\n",
       "      <td>True</td>\n",
       "      <td>2.282117</td>\n",
       "    </tr>\n",
       "    <tr>\n",
       "      <th>4</th>\n",
       "      <td>1.0</td>\n",
       "      <td>0.597908</td>\n",
       "      <td>1.123191</td>\n",
       "      <td>0.202360</td>\n",
       "      <td>1.184393</td>\n",
       "      <td>-0.172933</td>\n",
       "      <td>1</td>\n",
       "      <td>True</td>\n",
       "      <td>2.845117</td>\n",
       "    </tr>\n",
       "    <tr>\n",
       "      <th>...</th>\n",
       "      <td>...</td>\n",
       "      <td>...</td>\n",
       "      <td>...</td>\n",
       "      <td>...</td>\n",
       "      <td>...</td>\n",
       "      <td>...</td>\n",
       "      <td>...</td>\n",
       "      <td>...</td>\n",
       "      <td>...</td>\n",
       "    </tr>\n",
       "    <tr>\n",
       "      <th>9995</th>\n",
       "      <td>1.0</td>\n",
       "      <td>0.241671</td>\n",
       "      <td>-0.166502</td>\n",
       "      <td>-1.814176</td>\n",
       "      <td>-0.848507</td>\n",
       "      <td>0.992835</td>\n",
       "      <td>2</td>\n",
       "      <td>True</td>\n",
       "      <td>1.460971</td>\n",
       "    </tr>\n",
       "    <tr>\n",
       "      <th>9996</th>\n",
       "      <td>1.0</td>\n",
       "      <td>0.289762</td>\n",
       "      <td>1.328884</td>\n",
       "      <td>0.250068</td>\n",
       "      <td>-0.387489</td>\n",
       "      <td>-2.664573</td>\n",
       "      <td>0</td>\n",
       "      <td>True</td>\n",
       "      <td>0.406480</td>\n",
       "    </tr>\n",
       "    <tr>\n",
       "      <th>9997</th>\n",
       "      <td>1.0</td>\n",
       "      <td>0.855343</td>\n",
       "      <td>0.943700</td>\n",
       "      <td>-0.578650</td>\n",
       "      <td>-0.976735</td>\n",
       "      <td>1.520592</td>\n",
       "      <td>1</td>\n",
       "      <td>True</td>\n",
       "      <td>3.096412</td>\n",
       "    </tr>\n",
       "    <tr>\n",
       "      <th>9998</th>\n",
       "      <td>0.0</td>\n",
       "      <td>0.775811</td>\n",
       "      <td>1.650920</td>\n",
       "      <td>0.356315</td>\n",
       "      <td>0.373535</td>\n",
       "      <td>-0.900156</td>\n",
       "      <td>2</td>\n",
       "      <td>True</td>\n",
       "      <td>3.483791</td>\n",
       "    </tr>\n",
       "    <tr>\n",
       "      <th>9999</th>\n",
       "      <td>1.0</td>\n",
       "      <td>0.347805</td>\n",
       "      <td>1.246893</td>\n",
       "      <td>-0.083046</td>\n",
       "      <td>-1.172397</td>\n",
       "      <td>1.005853</td>\n",
       "      <td>0</td>\n",
       "      <td>False</td>\n",
       "      <td>1.713219</td>\n",
       "    </tr>\n",
       "  </tbody>\n",
       "</table>\n",
       "<p>10000 rows × 9 columns</p>\n",
       "</div>"
      ],
      "text/plain": [
       "       Z0        Z1        W0        W1        W2        W3 W4     v0  \\\n",
       "0     1.0  0.517649  0.761304 -1.421805 -0.861232  0.705580  2   True   \n",
       "1     0.0  0.379899 -0.074192  1.013601 -0.916441  1.031564  1   True   \n",
       "2     0.0  0.501369 -0.020104 -0.445257  1.188858 -0.086788  3   True   \n",
       "3     0.0  0.698525 -0.739659  1.712251  1.176142  0.757219  0   True   \n",
       "4     1.0  0.597908  1.123191  0.202360  1.184393 -0.172933  1   True   \n",
       "...   ...       ...       ...       ...       ...       ... ..    ...   \n",
       "9995  1.0  0.241671 -0.166502 -1.814176 -0.848507  0.992835  2   True   \n",
       "9996  1.0  0.289762  1.328884  0.250068 -0.387489 -2.664573  0   True   \n",
       "9997  1.0  0.855343  0.943700 -0.578650 -0.976735  1.520592  1   True   \n",
       "9998  0.0  0.775811  1.650920  0.356315  0.373535 -0.900156  2   True   \n",
       "9999  1.0  0.347805  1.246893 -0.083046 -1.172397  1.005853  0  False   \n",
       "\n",
       "             y  \n",
       "0     2.386110  \n",
       "1     3.021076  \n",
       "2     2.675404  \n",
       "3     2.282117  \n",
       "4     2.845117  \n",
       "...        ...  \n",
       "9995  1.460971  \n",
       "9996  0.406480  \n",
       "9997  3.096412  \n",
       "9998  3.483791  \n",
       "9999  1.713219  \n",
       "\n",
       "[10000 rows x 9 columns]"
      ]
     },
     "execution_count": 3,
     "metadata": {},
     "output_type": "execute_result"
    }
   ],
   "source": [
    "data = dowhy.datasets.linear_dataset(beta=1,\n",
    "        num_common_causes=5, \n",
    "        num_instruments = 2,\n",
    "        num_treatments=1,\n",
    "        num_discrete_common_causes=1,\n",
    "        num_samples=10000,\n",
    "        treatment_is_binary=True,\n",
    "        outcome_is_binary=False)\n",
    "df = data[\"df\"]\n",
    "print(df[df.v0==True].shape[0])\n",
    "df"
   ]
  },
  {
   "cell_type": "markdown",
   "id": "15a241a5",
   "metadata": {},
   "source": [
    "Note that we are using a pandas dataframe to load the data."
   ]
  },
  {
   "cell_type": "markdown",
   "id": "5cc86904",
   "metadata": {},
   "source": [
    "## Identifying the causal estimand"
   ]
  },
  {
   "cell_type": "markdown",
   "id": "65c6832b",
   "metadata": {},
   "source": [
    "We now input a causal graph in the GML graph format."
   ]
  },
  {
   "cell_type": "code",
   "execution_count": 4,
   "id": "f1b14dbc",
   "metadata": {
    "execution": {
     "iopub.execute_input": "2022-07-15T15:08:20.500209Z",
     "iopub.status.busy": "2022-07-15T15:08:20.499815Z",
     "iopub.status.idle": "2022-07-15T15:08:20.525835Z",
     "shell.execute_reply": "2022-07-15T15:08:20.525214Z"
    }
   },
   "outputs": [],
   "source": [
    "# With graph\n",
    "model=CausalModel(\n",
    "        data = df,\n",
    "        treatment=data[\"treatment_name\"],\n",
    "        outcome=data[\"outcome_name\"],\n",
    "        graph=data[\"gml_graph\"],\n",
    "        instruments=data[\"instrument_names\"]\n",
    "        )"
   ]
  },
  {
   "cell_type": "code",
   "execution_count": 5,
   "id": "f7293c52",
   "metadata": {
    "execution": {
     "iopub.execute_input": "2022-07-15T15:08:20.530364Z",
     "iopub.status.busy": "2022-07-15T15:08:20.529336Z",
     "iopub.status.idle": "2022-07-15T15:08:20.583489Z",
     "shell.execute_reply": "2022-07-15T15:08:20.582806Z"
    }
   },
   "outputs": [],
   "source": [
    "model.view_model()"
   ]
  },
  {
   "cell_type": "code",
   "execution_count": 6,
   "id": "2351fdd1",
   "metadata": {
    "execution": {
     "iopub.execute_input": "2022-07-15T15:08:20.587695Z",
     "iopub.status.busy": "2022-07-15T15:08:20.586992Z",
     "iopub.status.idle": "2022-07-15T15:08:20.612988Z",
     "shell.execute_reply": "2022-07-15T15:08:20.612289Z"
    }
   },
   "outputs": [
    {
     "data": {
      "image/png": "[encoded data removed]",
      "text/plain": [
       "<IPython.core.display.Image object>"
      ]
     },
     "metadata": {},
     "output_type": "display_data"
    }
   ],
   "source": [
    "from IPython.display import Image, display\n",
    "display(Image(filename=\"causal_model.png\"))"
   ]
  },
  {
   "cell_type": "markdown",
   "id": "fa5091e6",
   "metadata": {},
   "source": [
    "We get a causal graph. Now identification and estimation is done."
   ]
  },
  {
   "cell_type": "code",
   "execution_count": 7,
   "id": "dfd87c2b",
   "metadata": {
    "execution": {
     "iopub.execute_input": "2022-07-15T15:08:20.616169Z",
     "iopub.status.busy": "2022-07-15T15:08:20.615810Z",
     "iopub.status.idle": "2022-07-15T15:08:20.842910Z",
     "shell.execute_reply": "2022-07-15T15:08:20.842241Z"
    }
   },
   "outputs": [
    {
     "name": "stdout",
     "output_type": "stream",
     "text": [
      "Estimand type: nonparametric-ate\n",
      "\n",
      "### Estimand : 1\n",
      "Estimand name: backdoor\n",
      "Estimand expression:\n",
      "  d                       \n",
      "─────(E[y|W0,W4,W3,W1,W2])\n",
      "d[v₀]                     \n",
      "Estimand assumption 1, Unconfoundedness: If U→{v0} and U→y then P(y|v0,W0,W4,W3,W1,W2,U) = P(y|v0,W0,W4,W3,W1,W2)\n",
      "\n",
      "### Estimand : 2\n",
      "Estimand name: iv\n",
      "Estimand expression:\n",
      " ⎡                              -1⎤\n",
      " ⎢    d        ⎛    d          ⎞  ⎥\n",
      "E⎢─────────(y)⋅⎜─────────([v₀])⎟  ⎥\n",
      " ⎣d[Z₀  Z₁]    ⎝d[Z₀  Z₁]      ⎠  ⎦\n",
      "Estimand assumption 1, As-if-random: If U→→y then ¬(U →→{Z0,Z1})\n",
      "Estimand assumption 2, Exclusion: If we remove {Z0,Z1}→{v0}, then ¬({Z0,Z1}→y)\n",
      "\n",
      "### Estimand : 3\n",
      "Estimand name: frontdoor\n",
      "No such variable(s) found!\n",
      "\n"
     ]
    }
   ],
   "source": [
    "identified_estimand = model.identify_effect(proceed_when_unidentifiable=True)\n",
    "print(identified_estimand)"
   ]
  },
  {
   "cell_type": "markdown",
   "id": "3bd6073b",
   "metadata": {},
   "source": [
    "## Method 1: Propensity Score Stratification\n",
    "\n",
    "We will be using propensity scores to stratify units in the data."
   ]
  },
  {
   "cell_type": "code",
   "execution_count": 8,
   "id": "ef757181",
   "metadata": {
    "execution": {
     "iopub.execute_input": "2022-07-15T15:08:20.846251Z",
     "iopub.status.busy": "2022-07-15T15:08:20.846000Z",
     "iopub.status.idle": "2022-07-15T15:08:21.654594Z",
     "shell.execute_reply": "2022-07-15T15:08:21.653822Z"
    }
   },
   "outputs": [
    {
     "name": "stdout",
     "output_type": "stream",
     "text": [
      "propensity_score_stratification\n"
     ]
    },
    {
     "name": "stderr",
     "output_type": "stream",
     "text": [
      "/usr/local/lib/python3.8/dist-packages/sklearn/utils/validation.py:993: DataConversionWarning: A column-vector y was passed when a 1d array was expected. Please change the shape of y to (n_samples, ), for example using ravel().\n",
      "  y = column_or_1d(y, warn=True)\n"
     ]
    },
    {
     "name": "stdout",
     "output_type": "stream",
     "text": [
      "*** Causal Estimate ***\n",
      "\n",
      "## Identified estimand\n",
      "Estimand type: nonparametric-ate\n",
      "\n",
      "### Estimand : 1\n",
      "Estimand name: backdoor\n",
      "Estimand expression:\n",
      "  d                       \n",
      "─────(E[y|W0,W4,W3,W1,W2])\n",
      "d[v₀]                     \n",
      "Estimand assumption 1, Unconfoundedness: If U→{v0} and U→y then P(y|v0,W0,W4,W3,W1,W2,U) = P(y|v0,W0,W4,W3,W1,W2)\n",
      "\n",
      "## Realized estimand\n",
      "b: y~v0+W0+W4+W3+W1+W2\n",
      "Target units: att\n",
      "\n",
      "## Estimate\n",
      "Mean value: 0.9865142909858913\n",
      "\n",
      "Causal Estimate is 0.9865142909858913\n"
     ]
    }
   ],
   "source": [
    "causal_estimate_strat = model.estimate_effect(identified_estimand,\n",
    "                                              method_name=\"backdoor.propensity_score_stratification\",\n",
    "                                              target_units=\"att\")\n",
    "print(causal_estimate_strat)\n",
    "print(\"Causal Estimate is \" + str(causal_estimate_strat.value))"
   ]
  },
  {
   "cell_type": "markdown",
   "id": "eba1b6e1",
   "metadata": {},
   "source": [
    "### Textual Interpreter\n",
    "\n",
    "The textual Interpreter describes (in words) the effect of unit change in the treatment variable on the outcome variable."
   ]
  },
  {
   "cell_type": "code",
   "execution_count": 9,
   "id": "4f7cfd85",
   "metadata": {
    "execution": {
     "iopub.execute_input": "2022-07-15T15:08:21.658446Z",
     "iopub.status.busy": "2022-07-15T15:08:21.657865Z",
     "iopub.status.idle": "2022-07-15T15:08:21.683540Z",
     "shell.execute_reply": "2022-07-15T15:08:21.682904Z"
    }
   },
   "outputs": [
    {
     "name": "stdout",
     "output_type": "stream",
     "text": [
      "Increasing the treatment variable(s) [v0] from 0 to 1 causes an increase of 0.9865142909858913 in the expected value of the outcome [y], over the data distribution/population represented by the dataset.\n"
     ]
    }
   ],
   "source": [
    "# Textual Interpreter\n",
    "interpretation = causal_estimate_strat.interpret(method_name=\"textual_effect_interpreter\")"
   ]
  },
  {
   "cell_type": "markdown",
   "id": "a7a972cb",
   "metadata": {},
   "source": [
    "### Visual Interpreter\n",
    "\n",
    "The visual interpreter plots the change in the standardized mean difference (SMD) before and after Propensity Score based adjustment of the dataset. The formula for SMD is given below.\n",
    "\n",
    "\n",
    "$SMD = \\frac{\\bar X_{1} - \\bar X_{2}}{\\sqrt{(S_{1}^{2} + S_{2}^{2})/2}}$\n",
    "\n",
    "Here, $\\bar X_{1}$ and $\\bar X_{2}$ are the sample mean for the treated and control groups.\n"
   ]
  },
  {
   "cell_type": "code",
   "execution_count": 10,
   "id": "f75a1807",
   "metadata": {
    "execution": {
     "iopub.execute_input": "2022-07-15T15:08:21.686598Z",
     "iopub.status.busy": "2022-07-15T15:08:21.686361Z",
     "iopub.status.idle": "2022-07-15T15:08:22.674534Z",
     "shell.execute_reply": "2022-07-15T15:08:22.673815Z"
    }
   },
   "outputs": [
    {
     "data": {
      "image/png": "[encoded data removed]",
      "text/plain": [
       "<Figure size 432x288 with 1 Axes>"
      ]
     },
     "metadata": {
      "needs_background": "light"
     },
     "output_type": "display_data"
    }
   ],
   "source": [
    "# Visual Interpreter\n",
    "interpretation = causal_estimate_strat.interpret(method_name=\"propensity_balance_interpreter\")"
   ]
  },
  {
   "cell_type": "markdown",
   "id": "fe22336e",
   "metadata": {},
   "source": [
    "This plot shows how the SMD decreases from the unadjusted to the stratified units. "
   ]
  },
  {
   "cell_type": "markdown",
   "id": "a0f66718",
   "metadata": {},
   "source": [
    "## Method 2: Propensity Score Matching\n",
    "\n",
    "We will be using propensity scores to match units in the data."
   ]
  },
  {
   "cell_type": "code",
   "execution_count": 11,
   "id": "fbe6b8f5",
   "metadata": {
    "execution": {
     "iopub.execute_input": "2022-07-15T15:08:22.678757Z",
     "iopub.status.busy": "2022-07-15T15:08:22.678127Z",
     "iopub.status.idle": "2022-07-15T15:08:27.216295Z",
     "shell.execute_reply": "2022-07-15T15:08:27.215599Z"
    }
   },
   "outputs": [
    {
     "name": "stdout",
     "output_type": "stream",
     "text": [
      "propensity_score_matching\n"
     ]
    },
    {
     "name": "stderr",
     "output_type": "stream",
     "text": [
      "/usr/local/lib/python3.8/dist-packages/sklearn/utils/validation.py:993: DataConversionWarning: A column-vector y was passed when a 1d array was expected. Please change the shape of y to (n_samples, ), for example using ravel().\n",
      "  y = column_or_1d(y, warn=True)\n"
     ]
    },
    {
     "name": "stdout",
     "output_type": "stream",
     "text": [
      "*** Causal Estimate ***\n",
      "\n",
      "## Identified estimand\n",
      "Estimand type: nonparametric-ate\n",
      "\n",
      "### Estimand : 1\n",
      "Estimand name: backdoor\n",
      "Estimand expression:\n",
      "  d                       \n",
      "─────(E[y|W0,W4,W3,W1,W2])\n",
      "d[v₀]                     \n",
      "Estimand assumption 1, Unconfoundedness: If U→{v0} and U→y then P(y|v0,W0,W4,W3,W1,W2,U) = P(y|v0,W0,W4,W3,W1,W2)\n",
      "\n",
      "## Realized estimand\n",
      "b: y~v0+W0+W4+W3+W1+W2\n",
      "Target units: atc\n",
      "\n",
      "## Estimate\n",
      "Mean value: 0.9501082442480147\n",
      "\n",
      "Causal Estimate is 0.9501082442480147\n"
     ]
    }
   ],
   "source": [
    "causal_estimate_match = model.estimate_effect(identified_estimand,\n",
    "                                              method_name=\"backdoor.propensity_score_matching\",\n",
    "                                              target_units=\"atc\")\n",
    "print(causal_estimate_match)\n",
    "print(\"Causal Estimate is \" + str(causal_estimate_match.value))"
   ]
  },
  {
   "cell_type": "code",
   "execution_count": 12,
   "id": "b28076ac",
   "metadata": {
    "execution": {
     "iopub.execute_input": "2022-07-15T15:08:27.219960Z",
     "iopub.status.busy": "2022-07-15T15:08:27.219460Z",
     "iopub.status.idle": "2022-07-15T15:08:27.245437Z",
     "shell.execute_reply": "2022-07-15T15:08:27.244603Z"
    }
   },
   "outputs": [
    {
     "name": "stdout",
     "output_type": "stream",
     "text": [
      "Increasing the treatment variable(s) [v0] from 0 to 1 causes an increase of 0.9501082442480147 in the expected value of the outcome [y], over the data distribution/population represented by the dataset.\n"
     ]
    }
   ],
   "source": [
    "# Textual Interpreter\n",
    "interpretation = causal_estimate_match.interpret(method_name=\"textual_effect_interpreter\")"
   ]
  },
  {
   "cell_type": "markdown",
   "id": "5a5d8f2e",
   "metadata": {},
   "source": [
    "Cannot use propensity balance interpretor here since the interpreter method only supports propensity score stratification estimator."
   ]
  },
  {
   "cell_type": "markdown",
   "id": "e2e14ea7",
   "metadata": {},
   "source": [
    "## Method 3: Weighting\n",
    "\n",
    "We will be using (inverse) propensity scores to assign weights to units in the data. DoWhy supports a few different weighting schemes:\n",
    "1. Vanilla Inverse Propensity Score weighting (IPS) (weighting_scheme=\"ips_weight\")\n",
    "2. Self-normalized IPS weighting (also known as the Hajek estimator) (weighting_scheme=\"ips_normalized_weight\")\n",
    "3. Stabilized IPS weighting (weighting_scheme = \"ips_stabilized_weight\")"
   ]
  },
  {
   "cell_type": "code",
   "execution_count": 13,
   "id": "d76c1144",
   "metadata": {
    "execution": {
     "iopub.execute_input": "2022-07-15T15:08:27.249311Z",
     "iopub.status.busy": "2022-07-15T15:08:27.248815Z",
     "iopub.status.idle": "2022-07-15T15:08:27.316646Z",
     "shell.execute_reply": "2022-07-15T15:08:27.315950Z"
    }
   },
   "outputs": [
    {
     "name": "stdout",
     "output_type": "stream",
     "text": [
      "propensity_score_weighting\n",
      "*** Causal Estimate ***\n",
      "\n",
      "## Identified estimand\n",
      "Estimand type: nonparametric-ate\n",
      "\n",
      "### Estimand : 1\n",
      "Estimand name: backdoor\n",
      "Estimand expression:\n",
      "  d                       \n",
      "─────(E[y|W0,W4,W3,W1,W2])\n",
      "d[v₀]                     \n",
      "Estimand assumption 1, Unconfoundedness: If U→{v0} and U→y then P(y|v0,W0,W4,W3,W1,W2,U) = P(y|v0,W0,W4,W3,W1,W2)\n",
      "\n",
      "## Realized estimand\n",
      "b: y~v0+W0+W4+W3+W1+W2\n",
      "Target units: ate\n",
      "\n",
      "## Estimate\n",
      "Mean value: 1.790326059369431\n",
      "\n",
      "Causal Estimate is 1.790326059369431\n"
     ]
    },
    {
     "name": "stderr",
     "output_type": "stream",
     "text": [
      "/usr/local/lib/python3.8/dist-packages/sklearn/utils/validation.py:993: DataConversionWarning: A column-vector y was passed when a 1d array was expected. Please change the shape of y to (n_samples, ), for example using ravel().\n",
      "  y = column_or_1d(y, warn=True)\n"
     ]
    }
   ],
   "source": [
    "causal_estimate_ipw = model.estimate_effect(identified_estimand,\n",
    "                                            method_name=\"backdoor.propensity_score_weighting\",\n",
    "                                            target_units = \"ate\",\n",
    "                                            method_params={\"weighting_scheme\":\"ips_weight\"})\n",
    "print(causal_estimate_ipw)\n",
    "print(\"Causal Estimate is \" + str(causal_estimate_ipw.value))"
   ]
  },
  {
   "cell_type": "code",
   "execution_count": 14,
   "id": "03e86b66",
   "metadata": {
    "execution": {
     "iopub.execute_input": "2022-07-15T15:08:27.321147Z",
     "iopub.status.busy": "2022-07-15T15:08:27.319872Z",
     "iopub.status.idle": "2022-07-15T15:08:27.346839Z",
     "shell.execute_reply": "2022-07-15T15:08:27.346232Z"
    }
   },
   "outputs": [
    {
     "name": "stdout",
     "output_type": "stream",
     "text": [
      "Increasing the treatment variable(s) [v0] from 0 to 1 causes an increase of 1.790326059369431 in the expected value of the outcome [y], over the data distribution/population represented by the dataset.\n"
     ]
    }
   ],
   "source": [
    "# Textual Interpreter\n",
    "interpretation = causal_estimate_ipw.interpret(method_name=\"textual_effect_interpreter\")"
   ]
  },
  {
   "cell_type": "code",
   "execution_count": 15,
   "id": "25bffa5c",
   "metadata": {
    "execution": {
     "iopub.execute_input": "2022-07-15T15:08:27.350278Z",
     "iopub.status.busy": "2022-07-15T15:08:27.349920Z",
     "iopub.status.idle": "2022-07-15T15:08:27.594620Z",
     "shell.execute_reply": "2022-07-15T15:08:27.593827Z"
    }
   },
   "outputs": [
    {
     "data": {
      "image/png": "[encoded data removed]",
      "text/plain": [
       "<Figure size 576x576 with 2 Axes>"
      ]
     },
     "metadata": {
      "needs_background": "light"
     },
     "output_type": "display_data"
    }
   ],
   "source": [
    "interpretation = causal_estimate_ipw.interpret(method_name=\"confounder_distribution_interpreter\", fig_size=(8,8), font_size=12, var_name='W4', var_type='discrete')"
   ]
  },
  {
   "cell_type": "code",
   "execution_count": null,
   "id": "559f9f8f",
   "metadata": {},
   "outputs": [],
   "source": []
  }
 ],
 "metadata": {
  "kernelspec": {
   "display_name": "Python 3",
   "language": "python",
   "name": "python3"
  },
  "language_info": {
   "codemirror_mode": {
    "name": "ipython",
    "version": 3
   },
   "file_extension": ".py",
   "mimetype": "text/x-python",
   "name": "python",
   "nbconvert_exporter": "python",
   "pygments_lexer": "ipython3",
   "version": "3.8.10"
  },
  "toc": {
   "base_numbering": 1,
   "nav_menu": {},
   "number_sections": false,
   "sideBar": true,
   "skip_h1_title": true,
   "title_cell": "Table of Contents",
   "title_sidebar": "Contents",
   "toc_cell": false,
   "toc_position": {},
   "toc_section_display": true,
   "toc_window_display": false
  }
 },
 "nbformat": 4,
 "nbformat_minor": 5
}
