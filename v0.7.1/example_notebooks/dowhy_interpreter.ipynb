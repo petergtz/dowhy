{
 "cells": [
  {
   "cell_type": "markdown",
   "id": "71e12646",
   "metadata": {},
   "source": [
    "# DoWhy: Interpreters for Causal Estimators\n",
    "\n",
    "This is a quick introduction to the use of interpreters in the DoWhy causal inference library.\n",
    "We will load in a sample dataset, use different methods for estimating the causal effect of a (pre-specified)treatment variable on a (pre-specified) outcome variable and demonstrate how to interpret the obtained results.\n",
    "\n",
    "First, let us add the required path for Python to find the DoWhy code and load all required packages"
   ]
  },
  {
   "cell_type": "code",
   "execution_count": 1,
   "id": "e3301150",
   "metadata": {
    "execution": {
     "iopub.execute_input": "2022-07-15T16:24:19.860120Z",
     "iopub.status.busy": "2022-07-15T16:24:19.859871Z",
     "iopub.status.idle": "2022-07-15T16:24:19.875601Z",
     "shell.execute_reply": "2022-07-15T16:24:19.875010Z"
    }
   },
   "outputs": [],
   "source": [
    "%load_ext autoreload\n",
    "%autoreload 2"
   ]
  },
  {
   "cell_type": "code",
   "execution_count": 2,
   "id": "8dc4898a",
   "metadata": {
    "execution": {
     "iopub.execute_input": "2022-07-15T16:24:19.878606Z",
     "iopub.status.busy": "2022-07-15T16:24:19.878391Z",
     "iopub.status.idle": "2022-07-15T16:24:20.847368Z",
     "shell.execute_reply": "2022-07-15T16:24:20.846559Z"
    }
   },
   "outputs": [
    {
     "name": "stdout",
     "output_type": "stream",
     "text": [
      "keywords are unexpanded, not using\n"
     ]
    }
   ],
   "source": [
    "import numpy as np\n",
    "import pandas as pd\n",
    "import logging\n",
    "\n",
    "import dowhy\n",
    "from dowhy import CausalModel\n",
    "import dowhy.datasets "
   ]
  },
  {
   "cell_type": "markdown",
   "id": "35e631d9",
   "metadata": {},
   "source": [
    "Now, let us load a dataset. For simplicity, we simulate a dataset with linear relationships between common causes and treatment, and common causes and outcome.\n",
    "\n",
    "Beta is the true causal effect."
   ]
  },
  {
   "cell_type": "code",
   "execution_count": 3,
   "id": "af110533",
   "metadata": {
    "execution": {
     "iopub.execute_input": "2022-07-15T16:24:20.851159Z",
     "iopub.status.busy": "2022-07-15T16:24:20.850320Z",
     "iopub.status.idle": "2022-07-15T16:24:21.141344Z",
     "shell.execute_reply": "2022-07-15T16:24:21.140754Z"
    }
   },
   "outputs": [
    {
     "name": "stdout",
     "output_type": "stream",
     "text": [
      "7194\n"
     ]
    },
    {
     "data": {
      "text/html": [
       "<div>\n",
       "<style scoped>\n",
       "    .dataframe tbody tr th:only-of-type {\n",
       "        vertical-align: middle;\n",
       "    }\n",
       "\n",
       "    .dataframe tbody tr th {\n",
       "        vertical-align: top;\n",
       "    }\n",
       "\n",
       "    .dataframe thead th {\n",
       "        text-align: right;\n",
       "    }\n",
       "</style>\n",
       "<table border=\"1\" class=\"dataframe\">\n",
       "  <thead>\n",
       "    <tr style=\"text-align: right;\">\n",
       "      <th></th>\n",
       "      <th>Z0</th>\n",
       "      <th>Z1</th>\n",
       "      <th>W0</th>\n",
       "      <th>W1</th>\n",
       "      <th>W2</th>\n",
       "      <th>W3</th>\n",
       "      <th>W4</th>\n",
       "      <th>v0</th>\n",
       "      <th>y</th>\n",
       "    </tr>\n",
       "  </thead>\n",
       "  <tbody>\n",
       "    <tr>\n",
       "      <th>0</th>\n",
       "      <td>0.0</td>\n",
       "      <td>0.239569</td>\n",
       "      <td>-0.472967</td>\n",
       "      <td>1.415189</td>\n",
       "      <td>-1.220312</td>\n",
       "      <td>0.692883</td>\n",
       "      <td>2</td>\n",
       "      <td>True</td>\n",
       "      <td>1.416021</td>\n",
       "    </tr>\n",
       "    <tr>\n",
       "      <th>1</th>\n",
       "      <td>0.0</td>\n",
       "      <td>0.357514</td>\n",
       "      <td>-1.549293</td>\n",
       "      <td>1.674543</td>\n",
       "      <td>-0.653309</td>\n",
       "      <td>-0.435537</td>\n",
       "      <td>1</td>\n",
       "      <td>False</td>\n",
       "      <td>-0.133148</td>\n",
       "    </tr>\n",
       "    <tr>\n",
       "      <th>2</th>\n",
       "      <td>1.0</td>\n",
       "      <td>0.100813</td>\n",
       "      <td>-0.408528</td>\n",
       "      <td>0.951133</td>\n",
       "      <td>-0.088051</td>\n",
       "      <td>-1.865731</td>\n",
       "      <td>0</td>\n",
       "      <td>False</td>\n",
       "      <td>-0.573015</td>\n",
       "    </tr>\n",
       "    <tr>\n",
       "      <th>3</th>\n",
       "      <td>0.0</td>\n",
       "      <td>0.369393</td>\n",
       "      <td>0.686724</td>\n",
       "      <td>-1.329844</td>\n",
       "      <td>-1.227531</td>\n",
       "      <td>-0.676283</td>\n",
       "      <td>2</td>\n",
       "      <td>True</td>\n",
       "      <td>0.961818</td>\n",
       "    </tr>\n",
       "    <tr>\n",
       "      <th>4</th>\n",
       "      <td>0.0</td>\n",
       "      <td>0.645794</td>\n",
       "      <td>0.072009</td>\n",
       "      <td>-0.486063</td>\n",
       "      <td>0.417948</td>\n",
       "      <td>0.647751</td>\n",
       "      <td>3</td>\n",
       "      <td>True</td>\n",
       "      <td>2.801893</td>\n",
       "    </tr>\n",
       "    <tr>\n",
       "      <th>...</th>\n",
       "      <td>...</td>\n",
       "      <td>...</td>\n",
       "      <td>...</td>\n",
       "      <td>...</td>\n",
       "      <td>...</td>\n",
       "      <td>...</td>\n",
       "      <td>...</td>\n",
       "      <td>...</td>\n",
       "      <td>...</td>\n",
       "    </tr>\n",
       "    <tr>\n",
       "      <th>9995</th>\n",
       "      <td>0.0</td>\n",
       "      <td>0.678724</td>\n",
       "      <td>-1.952751</td>\n",
       "      <td>0.532242</td>\n",
       "      <td>0.467040</td>\n",
       "      <td>-0.461901</td>\n",
       "      <td>1</td>\n",
       "      <td>False</td>\n",
       "      <td>0.433356</td>\n",
       "    </tr>\n",
       "    <tr>\n",
       "      <th>9996</th>\n",
       "      <td>1.0</td>\n",
       "      <td>0.065888</td>\n",
       "      <td>-0.210769</td>\n",
       "      <td>1.394626</td>\n",
       "      <td>0.053160</td>\n",
       "      <td>0.812867</td>\n",
       "      <td>1</td>\n",
       "      <td>True</td>\n",
       "      <td>1.802084</td>\n",
       "    </tr>\n",
       "    <tr>\n",
       "      <th>9997</th>\n",
       "      <td>0.0</td>\n",
       "      <td>0.848481</td>\n",
       "      <td>0.829808</td>\n",
       "      <td>0.184956</td>\n",
       "      <td>-0.957218</td>\n",
       "      <td>-0.985306</td>\n",
       "      <td>0</td>\n",
       "      <td>True</td>\n",
       "      <td>0.236010</td>\n",
       "    </tr>\n",
       "    <tr>\n",
       "      <th>9998</th>\n",
       "      <td>0.0</td>\n",
       "      <td>0.409581</td>\n",
       "      <td>-2.229319</td>\n",
       "      <td>0.994411</td>\n",
       "      <td>0.488046</td>\n",
       "      <td>-0.236350</td>\n",
       "      <td>0</td>\n",
       "      <td>True</td>\n",
       "      <td>1.053728</td>\n",
       "    </tr>\n",
       "    <tr>\n",
       "      <th>9999</th>\n",
       "      <td>1.0</td>\n",
       "      <td>0.572147</td>\n",
       "      <td>0.541541</td>\n",
       "      <td>0.742104</td>\n",
       "      <td>-1.997645</td>\n",
       "      <td>-0.438215</td>\n",
       "      <td>0</td>\n",
       "      <td>True</td>\n",
       "      <td>-0.267986</td>\n",
       "    </tr>\n",
       "  </tbody>\n",
       "</table>\n",
       "<p>10000 rows × 9 columns</p>\n",
       "</div>"
      ],
      "text/plain": [
       "       Z0        Z1        W0        W1        W2        W3 W4     v0  \\\n",
       "0     0.0  0.239569 -0.472967  1.415189 -1.220312  0.692883  2   True   \n",
       "1     0.0  0.357514 -1.549293  1.674543 -0.653309 -0.435537  1  False   \n",
       "2     1.0  0.100813 -0.408528  0.951133 -0.088051 -1.865731  0  False   \n",
       "3     0.0  0.369393  0.686724 -1.329844 -1.227531 -0.676283  2   True   \n",
       "4     0.0  0.645794  0.072009 -0.486063  0.417948  0.647751  3   True   \n",
       "...   ...       ...       ...       ...       ...       ... ..    ...   \n",
       "9995  0.0  0.678724 -1.952751  0.532242  0.467040 -0.461901  1  False   \n",
       "9996  1.0  0.065888 -0.210769  1.394626  0.053160  0.812867  1   True   \n",
       "9997  0.0  0.848481  0.829808  0.184956 -0.957218 -0.985306  0   True   \n",
       "9998  0.0  0.409581 -2.229319  0.994411  0.488046 -0.236350  0   True   \n",
       "9999  1.0  0.572147  0.541541  0.742104 -1.997645 -0.438215  0   True   \n",
       "\n",
       "             y  \n",
       "0     1.416021  \n",
       "1    -0.133148  \n",
       "2    -0.573015  \n",
       "3     0.961818  \n",
       "4     2.801893  \n",
       "...        ...  \n",
       "9995  0.433356  \n",
       "9996  1.802084  \n",
       "9997  0.236010  \n",
       "9998  1.053728  \n",
       "9999 -0.267986  \n",
       "\n",
       "[10000 rows x 9 columns]"
      ]
     },
     "execution_count": 3,
     "metadata": {},
     "output_type": "execute_result"
    }
   ],
   "source": [
    "data = dowhy.datasets.linear_dataset(beta=1,\n",
    "        num_common_causes=5, \n",
    "        num_instruments = 2,\n",
    "        num_treatments=1,\n",
    "        num_discrete_common_causes=1,\n",
    "        num_samples=10000,\n",
    "        treatment_is_binary=True,\n",
    "        outcome_is_binary=False)\n",
    "df = data[\"df\"]\n",
    "print(df[df.v0==True].shape[0])\n",
    "df"
   ]
  },
  {
   "cell_type": "markdown",
   "id": "b742daf2",
   "metadata": {},
   "source": [
    "Note that we are using a pandas dataframe to load the data."
   ]
  },
  {
   "cell_type": "markdown",
   "id": "b8a5f018",
   "metadata": {},
   "source": [
    "## Identifying the causal estimand"
   ]
  },
  {
   "cell_type": "markdown",
   "id": "3e91b7c3",
   "metadata": {},
   "source": [
    "We now input a causal graph in the GML graph format."
   ]
  },
  {
   "cell_type": "code",
   "execution_count": 4,
   "id": "ab88bec1",
   "metadata": {
    "execution": {
     "iopub.execute_input": "2022-07-15T16:24:21.144589Z",
     "iopub.status.busy": "2022-07-15T16:24:21.144075Z",
     "iopub.status.idle": "2022-07-15T16:24:21.167235Z",
     "shell.execute_reply": "2022-07-15T16:24:21.166654Z"
    }
   },
   "outputs": [],
   "source": [
    "# With graph\n",
    "model=CausalModel(\n",
    "        data = df,\n",
    "        treatment=data[\"treatment_name\"],\n",
    "        outcome=data[\"outcome_name\"],\n",
    "        graph=data[\"gml_graph\"],\n",
    "        instruments=data[\"instrument_names\"]\n",
    "        )"
   ]
  },
  {
   "cell_type": "code",
   "execution_count": 5,
   "id": "c3a8d360",
   "metadata": {
    "execution": {
     "iopub.execute_input": "2022-07-15T16:24:21.170487Z",
     "iopub.status.busy": "2022-07-15T16:24:21.170268Z",
     "iopub.status.idle": "2022-07-15T16:24:21.222577Z",
     "shell.execute_reply": "2022-07-15T16:24:21.221935Z"
    }
   },
   "outputs": [],
   "source": [
    "model.view_model()"
   ]
  },
  {
   "cell_type": "code",
   "execution_count": 6,
   "id": "12cb87cb",
   "metadata": {
    "execution": {
     "iopub.execute_input": "2022-07-15T16:24:21.225977Z",
     "iopub.status.busy": "2022-07-15T16:24:21.225427Z",
     "iopub.status.idle": "2022-07-15T16:24:21.248605Z",
     "shell.execute_reply": "2022-07-15T16:24:21.247941Z"
    }
   },
   "outputs": [
    {
     "data": {
      "image/png": "[encoded data removed]",
      "text/plain": [
       "<IPython.core.display.Image object>"
      ]
     },
     "metadata": {},
     "output_type": "display_data"
    }
   ],
   "source": [
    "from IPython.display import Image, display\n",
    "display(Image(filename=\"causal_model.png\"))"
   ]
  },
  {
   "cell_type": "markdown",
   "id": "36203fd4",
   "metadata": {},
   "source": [
    "We get a causal graph. Now identification and estimation is done."
   ]
  },
  {
   "cell_type": "code",
   "execution_count": 7,
   "id": "550ff623",
   "metadata": {
    "execution": {
     "iopub.execute_input": "2022-07-15T16:24:21.251889Z",
     "iopub.status.busy": "2022-07-15T16:24:21.251474Z",
     "iopub.status.idle": "2022-07-15T16:24:21.467964Z",
     "shell.execute_reply": "2022-07-15T16:24:21.467408Z"
    }
   },
   "outputs": [
    {
     "name": "stdout",
     "output_type": "stream",
     "text": [
      "Estimand type: nonparametric-ate\n",
      "\n",
      "### Estimand : 1\n",
      "Estimand name: backdoor\n",
      "Estimand expression:\n",
      "  d                       \n",
      "─────(E[y|W3,W0,W2,W4,W1])\n",
      "d[v₀]                     \n",
      "Estimand assumption 1, Unconfoundedness: If U→{v0} and U→y then P(y|v0,W3,W0,W2,W4,W1,U) = P(y|v0,W3,W0,W2,W4,W1)\n",
      "\n",
      "### Estimand : 2\n",
      "Estimand name: iv\n",
      "Estimand expression:\n",
      " ⎡                              -1⎤\n",
      " ⎢    d        ⎛    d          ⎞  ⎥\n",
      "E⎢─────────(y)⋅⎜─────────([v₀])⎟  ⎥\n",
      " ⎣d[Z₀  Z₁]    ⎝d[Z₀  Z₁]      ⎠  ⎦\n",
      "Estimand assumption 1, As-if-random: If U→→y then ¬(U →→{Z0,Z1})\n",
      "Estimand assumption 2, Exclusion: If we remove {Z0,Z1}→{v0}, then ¬({Z0,Z1}→y)\n",
      "\n",
      "### Estimand : 3\n",
      "Estimand name: frontdoor\n",
      "No such variable(s) found!\n",
      "\n"
     ]
    }
   ],
   "source": [
    "identified_estimand = model.identify_effect(proceed_when_unidentifiable=True)\n",
    "print(identified_estimand)"
   ]
  },
  {
   "cell_type": "markdown",
   "id": "5b36b7e4",
   "metadata": {},
   "source": [
    "## Method 1: Propensity Score Stratification\n",
    "\n",
    "We will be using propensity scores to stratify units in the data."
   ]
  },
  {
   "cell_type": "code",
   "execution_count": 8,
   "id": "b35c4dca",
   "metadata": {
    "execution": {
     "iopub.execute_input": "2022-07-15T16:24:21.471088Z",
     "iopub.status.busy": "2022-07-15T16:24:21.470874Z",
     "iopub.status.idle": "2022-07-15T16:24:22.061338Z",
     "shell.execute_reply": "2022-07-15T16:24:22.060733Z"
    }
   },
   "outputs": [
    {
     "name": "stdout",
     "output_type": "stream",
     "text": [
      "propensity_score_stratification\n"
     ]
    },
    {
     "name": "stderr",
     "output_type": "stream",
     "text": [
      "/usr/local/lib/python3.8/dist-packages/sklearn/utils/validation.py:993: DataConversionWarning: A column-vector y was passed when a 1d array was expected. Please change the shape of y to (n_samples, ), for example using ravel().\n",
      "  y = column_or_1d(y, warn=True)\n"
     ]
    },
    {
     "name": "stdout",
     "output_type": "stream",
     "text": [
      "*** Causal Estimate ***\n",
      "\n",
      "## Identified estimand\n",
      "Estimand type: nonparametric-ate\n",
      "\n",
      "### Estimand : 1\n",
      "Estimand name: backdoor\n",
      "Estimand expression:\n",
      "  d                       \n",
      "─────(E[y|W3,W0,W2,W4,W1])\n",
      "d[v₀]                     \n",
      "Estimand assumption 1, Unconfoundedness: If U→{v0} and U→y then P(y|v0,W3,W0,W2,W4,W1,U) = P(y|v0,W3,W0,W2,W4,W1)\n",
      "\n",
      "## Realized estimand\n",
      "b: y~v0+W3+W0+W2+W4+W1\n",
      "Target units: att\n",
      "\n",
      "## Estimate\n",
      "Mean value: 0.9934126571533257\n",
      "\n",
      "Causal Estimate is 0.9934126571533257\n"
     ]
    }
   ],
   "source": [
    "causal_estimate_strat = model.estimate_effect(identified_estimand,\n",
    "                                              method_name=\"backdoor.propensity_score_stratification\",\n",
    "                                              target_units=\"att\")\n",
    "print(causal_estimate_strat)\n",
    "print(\"Causal Estimate is \" + str(causal_estimate_strat.value))"
   ]
  },
  {
   "cell_type": "markdown",
   "id": "94126613",
   "metadata": {},
   "source": [
    "### Textual Interpreter\n",
    "\n",
    "The textual Interpreter describes (in words) the effect of unit change in the treatment variable on the outcome variable."
   ]
  },
  {
   "cell_type": "code",
   "execution_count": 9,
   "id": "298ec53c",
   "metadata": {
    "execution": {
     "iopub.execute_input": "2022-07-15T16:24:22.065479Z",
     "iopub.status.busy": "2022-07-15T16:24:22.064286Z",
     "iopub.status.idle": "2022-07-15T16:24:22.088723Z",
     "shell.execute_reply": "2022-07-15T16:24:22.088108Z"
    }
   },
   "outputs": [
    {
     "name": "stdout",
     "output_type": "stream",
     "text": [
      "Increasing the treatment variable(s) [v0] from 0 to 1 causes an increase of 0.9934126571533257 in the expected value of the outcome [y], over the data distribution/population represented by the dataset.\n"
     ]
    }
   ],
   "source": [
    "# Textual Interpreter\n",
    "interpretation = causal_estimate_strat.interpret(method_name=\"textual_effect_interpreter\")"
   ]
  },
  {
   "cell_type": "markdown",
   "id": "eeb7b88b",
   "metadata": {},
   "source": [
    "### Visual Interpreter\n",
    "\n",
    "The visual interpreter plots the change in the standardized mean difference (SMD) before and after Propensity Score based adjustment of the dataset. The formula for SMD is given below.\n",
    "\n",
    "\n",
    "$SMD = \\frac{\\bar X_{1} - \\bar X_{2}}{\\sqrt{(S_{1}^{2} + S_{2}^{2})/2}}$\n",
    "\n",
    "Here, $\\bar X_{1}$ and $\\bar X_{2}$ are the sample mean for the treated and control groups.\n"
   ]
  },
  {
   "cell_type": "code",
   "execution_count": 10,
   "id": "1aff1000",
   "metadata": {
    "execution": {
     "iopub.execute_input": "2022-07-15T16:24:22.092638Z",
     "iopub.status.busy": "2022-07-15T16:24:22.091539Z",
     "iopub.status.idle": "2022-07-15T16:24:23.281764Z",
     "shell.execute_reply": "2022-07-15T16:24:23.281126Z"
    }
   },
   "outputs": [
    {
     "data": {
      "image/png": "[encoded data removed]",
      "text/plain": [
       "<Figure size 432x288 with 1 Axes>"
      ]
     },
     "metadata": {
      "needs_background": "light"
     },
     "output_type": "display_data"
    }
   ],
   "source": [
    "# Visual Interpreter\n",
    "interpretation = causal_estimate_strat.interpret(method_name=\"propensity_balance_interpreter\")"
   ]
  },
  {
   "cell_type": "markdown",
   "id": "86008619",
   "metadata": {},
   "source": [
    "This plot shows how the SMD decreases from the unadjusted to the stratified units. "
   ]
  },
  {
   "cell_type": "markdown",
   "id": "1b39a569",
   "metadata": {},
   "source": [
    "## Method 2: Propensity Score Matching\n",
    "\n",
    "We will be using propensity scores to match units in the data."
   ]
  },
  {
   "cell_type": "code",
   "execution_count": 11,
   "id": "ec010c59",
   "metadata": {
    "execution": {
     "iopub.execute_input": "2022-07-15T16:24:23.285299Z",
     "iopub.status.busy": "2022-07-15T16:24:23.284820Z",
     "iopub.status.idle": "2022-07-15T16:24:26.791305Z",
     "shell.execute_reply": "2022-07-15T16:24:26.790680Z"
    }
   },
   "outputs": [
    {
     "name": "stdout",
     "output_type": "stream",
     "text": [
      "propensity_score_matching\n"
     ]
    },
    {
     "name": "stderr",
     "output_type": "stream",
     "text": [
      "/usr/local/lib/python3.8/dist-packages/sklearn/utils/validation.py:993: DataConversionWarning: A column-vector y was passed when a 1d array was expected. Please change the shape of y to (n_samples, ), for example using ravel().\n",
      "  y = column_or_1d(y, warn=True)\n"
     ]
    },
    {
     "name": "stdout",
     "output_type": "stream",
     "text": [
      "*** Causal Estimate ***\n",
      "\n",
      "## Identified estimand\n",
      "Estimand type: nonparametric-ate\n",
      "\n",
      "### Estimand : 1\n",
      "Estimand name: backdoor\n",
      "Estimand expression:\n",
      "  d                       \n",
      "─────(E[y|W3,W0,W2,W4,W1])\n",
      "d[v₀]                     \n",
      "Estimand assumption 1, Unconfoundedness: If U→{v0} and U→y then P(y|v0,W3,W0,W2,W4,W1,U) = P(y|v0,W3,W0,W2,W4,W1)\n",
      "\n",
      "## Realized estimand\n",
      "b: y~v0+W3+W0+W2+W4+W1\n",
      "Target units: atc\n",
      "\n",
      "## Estimate\n",
      "Mean value: 1.014598343202691\n",
      "\n",
      "Causal Estimate is 1.014598343202691\n"
     ]
    }
   ],
   "source": [
    "causal_estimate_match = model.estimate_effect(identified_estimand,\n",
    "                                              method_name=\"backdoor.propensity_score_matching\",\n",
    "                                              target_units=\"atc\")\n",
    "print(causal_estimate_match)\n",
    "print(\"Causal Estimate is \" + str(causal_estimate_match.value))"
   ]
  },
  {
   "cell_type": "code",
   "execution_count": 12,
   "id": "ad743153",
   "metadata": {
    "execution": {
     "iopub.execute_input": "2022-07-15T16:24:26.794516Z",
     "iopub.status.busy": "2022-07-15T16:24:26.794195Z",
     "iopub.status.idle": "2022-07-15T16:24:26.817737Z",
     "shell.execute_reply": "2022-07-15T16:24:26.817116Z"
    }
   },
   "outputs": [
    {
     "name": "stdout",
     "output_type": "stream",
     "text": [
      "Increasing the treatment variable(s) [v0] from 0 to 1 causes an increase of 1.014598343202691 in the expected value of the outcome [y], over the data distribution/population represented by the dataset.\n"
     ]
    }
   ],
   "source": [
    "# Textual Interpreter\n",
    "interpretation = causal_estimate_match.interpret(method_name=\"textual_effect_interpreter\")"
   ]
  },
  {
   "cell_type": "markdown",
   "id": "1cbdf25e",
   "metadata": {},
   "source": [
    "Cannot use propensity balance interpretor here since the interpreter method only supports propensity score stratification estimator."
   ]
  },
  {
   "cell_type": "markdown",
   "id": "93f20b4c",
   "metadata": {},
   "source": [
    "## Method 3: Weighting\n",
    "\n",
    "We will be using (inverse) propensity scores to assign weights to units in the data. DoWhy supports a few different weighting schemes:\n",
    "1. Vanilla Inverse Propensity Score weighting (IPS) (weighting_scheme=\"ips_weight\")\n",
    "2. Self-normalized IPS weighting (also known as the Hajek estimator) (weighting_scheme=\"ips_normalized_weight\")\n",
    "3. Stabilized IPS weighting (weighting_scheme = \"ips_stabilized_weight\")"
   ]
  },
  {
   "cell_type": "code",
   "execution_count": 13,
   "id": "181f7295",
   "metadata": {
    "execution": {
     "iopub.execute_input": "2022-07-15T16:24:26.821126Z",
     "iopub.status.busy": "2022-07-15T16:24:26.820795Z",
     "iopub.status.idle": "2022-07-15T16:24:26.878568Z",
     "shell.execute_reply": "2022-07-15T16:24:26.877928Z"
    }
   },
   "outputs": [
    {
     "name": "stdout",
     "output_type": "stream",
     "text": [
      "propensity_score_weighting\n",
      "*** Causal Estimate ***\n",
      "\n",
      "## Identified estimand\n",
      "Estimand type: nonparametric-ate\n",
      "\n",
      "### Estimand : 1\n",
      "Estimand name: backdoor\n",
      "Estimand expression:\n",
      "  d                       \n",
      "─────(E[y|W3,W0,W2,W4,W1])\n",
      "d[v₀]                     \n",
      "Estimand assumption 1, Unconfoundedness: If U→{v0} and U→y then P(y|v0,W3,W0,W2,W4,W1,U) = P(y|v0,W3,W0,W2,W4,W1)\n",
      "\n",
      "## Realized estimand\n",
      "b: y~v0+W3+W0+W2+W4+W1\n",
      "Target units: ate\n",
      "\n",
      "## Estimate\n",
      "Mean value: 1.0532511746948736\n",
      "\n",
      "Causal Estimate is 1.0532511746948736\n"
     ]
    },
    {
     "name": "stderr",
     "output_type": "stream",
     "text": [
      "/usr/local/lib/python3.8/dist-packages/sklearn/utils/validation.py:993: DataConversionWarning: A column-vector y was passed when a 1d array was expected. Please change the shape of y to (n_samples, ), for example using ravel().\n",
      "  y = column_or_1d(y, warn=True)\n"
     ]
    }
   ],
   "source": [
    "causal_estimate_ipw = model.estimate_effect(identified_estimand,\n",
    "                                            method_name=\"backdoor.propensity_score_weighting\",\n",
    "                                            target_units = \"ate\",\n",
    "                                            method_params={\"weighting_scheme\":\"ips_weight\"})\n",
    "print(causal_estimate_ipw)\n",
    "print(\"Causal Estimate is \" + str(causal_estimate_ipw.value))"
   ]
  },
  {
   "cell_type": "code",
   "execution_count": 14,
   "id": "e465dee7",
   "metadata": {
    "execution": {
     "iopub.execute_input": "2022-07-15T16:24:26.881891Z",
     "iopub.status.busy": "2022-07-15T16:24:26.881665Z",
     "iopub.status.idle": "2022-07-15T16:24:26.905859Z",
     "shell.execute_reply": "2022-07-15T16:24:26.905260Z"
    }
   },
   "outputs": [
    {
     "name": "stdout",
     "output_type": "stream",
     "text": [
      "Increasing the treatment variable(s) [v0] from 0 to 1 causes an increase of 1.0532511746948736 in the expected value of the outcome [y], over the data distribution/population represented by the dataset.\n"
     ]
    }
   ],
   "source": [
    "# Textual Interpreter\n",
    "interpretation = causal_estimate_ipw.interpret(method_name=\"textual_effect_interpreter\")"
   ]
  },
  {
   "cell_type": "code",
   "execution_count": 15,
   "id": "d3db94ee",
   "metadata": {
    "execution": {
     "iopub.execute_input": "2022-07-15T16:24:26.909012Z",
     "iopub.status.busy": "2022-07-15T16:24:26.908796Z",
     "iopub.status.idle": "2022-07-15T16:24:27.149851Z",
     "shell.execute_reply": "2022-07-15T16:24:27.149168Z"
    }
   },
   "outputs": [
    {
     "data": {
      "image/png": "[encoded data removed]",
      "text/plain": [
       "<Figure size 576x576 with 2 Axes>"
      ]
     },
     "metadata": {
      "needs_background": "light"
     },
     "output_type": "display_data"
    }
   ],
   "source": [
    "interpretation = causal_estimate_ipw.interpret(method_name=\"confounder_distribution_interpreter\", fig_size=(8,8), font_size=12, var_name='W4', var_type='discrete')"
   ]
  },
  {
   "cell_type": "code",
   "execution_count": null,
   "id": "9f22dfa0",
   "metadata": {},
   "outputs": [],
   "source": []
  }
 ],
 "metadata": {
  "kernelspec": {
   "display_name": "Python 3",
   "language": "python",
   "name": "python3"
  },
  "language_info": {
   "codemirror_mode": {
    "name": "ipython",
    "version": 3
   },
   "file_extension": ".py",
   "mimetype": "text/x-python",
   "name": "python",
   "nbconvert_exporter": "python",
   "pygments_lexer": "ipython3",
   "version": "3.8.10"
  },
  "toc": {
   "base_numbering": 1,
   "nav_menu": {},
   "number_sections": false,
   "sideBar": true,
   "skip_h1_title": true,
   "title_cell": "Table of Contents",
   "title_sidebar": "Contents",
   "toc_cell": false,
   "toc_position": {},
   "toc_section_display": true,
   "toc_window_display": false
  }
 },
 "nbformat": 4,
 "nbformat_minor": 5
}
