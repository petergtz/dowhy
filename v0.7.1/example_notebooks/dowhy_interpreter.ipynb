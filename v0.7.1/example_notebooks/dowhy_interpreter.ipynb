{
 "cells": [
  {
   "cell_type": "markdown",
   "id": "6a403592",
   "metadata": {},
   "source": [
    "# DoWhy: Interpreters for Causal Estimators\n",
    "\n",
    "This is a quick introduction to the use of interpreters in the DoWhy causal inference library.\n",
    "We will load in a sample dataset, use different methods for estimating the causal effect of a (pre-specified)treatment variable on a (pre-specified) outcome variable and demonstrate how to interpret the obtained results.\n",
    "\n",
    "First, let us add the required path for Python to find the DoWhy code and load all required packages"
   ]
  },
  {
   "cell_type": "code",
   "execution_count": 1,
   "id": "1b0311b8",
   "metadata": {
    "execution": {
     "iopub.execute_input": "2022-07-28T11:45:29.201434Z",
     "iopub.status.busy": "2022-07-28T11:45:29.201126Z",
     "iopub.status.idle": "2022-07-28T11:45:29.220420Z",
     "shell.execute_reply": "2022-07-28T11:45:29.219744Z"
    }
   },
   "outputs": [],
   "source": [
    "%load_ext autoreload\n",
    "%autoreload 2"
   ]
  },
  {
   "cell_type": "code",
   "execution_count": 2,
   "id": "fb28d8e2",
   "metadata": {
    "execution": {
     "iopub.execute_input": "2022-07-28T11:45:29.224075Z",
     "iopub.status.busy": "2022-07-28T11:45:29.223501Z",
     "iopub.status.idle": "2022-07-28T11:45:30.446188Z",
     "shell.execute_reply": "2022-07-28T11:45:30.445093Z"
    }
   },
   "outputs": [
    {
     "name": "stdout",
     "output_type": "stream",
     "text": [
      "keywords are unexpanded, not using\n"
     ]
    }
   ],
   "source": [
    "import numpy as np\n",
    "import pandas as pd\n",
    "import logging\n",
    "\n",
    "import dowhy\n",
    "from dowhy import CausalModel\n",
    "import dowhy.datasets "
   ]
  },
  {
   "cell_type": "markdown",
   "id": "bb3e1cb9",
   "metadata": {},
   "source": [
    "Now, let us load a dataset. For simplicity, we simulate a dataset with linear relationships between common causes and treatment, and common causes and outcome.\n",
    "\n",
    "Beta is the true causal effect."
   ]
  },
  {
   "cell_type": "code",
   "execution_count": 3,
   "id": "55de27ab",
   "metadata": {
    "execution": {
     "iopub.execute_input": "2022-07-28T11:45:30.450854Z",
     "iopub.status.busy": "2022-07-28T11:45:30.450123Z",
     "iopub.status.idle": "2022-07-28T11:45:30.815241Z",
     "shell.execute_reply": "2022-07-28T11:45:30.814556Z"
    }
   },
   "outputs": [
    {
     "name": "stdout",
     "output_type": "stream",
     "text": [
      "9480\n"
     ]
    },
    {
     "data": {
      "text/html": [
       "<div>\n",
       "<style scoped>\n",
       "    .dataframe tbody tr th:only-of-type {\n",
       "        vertical-align: middle;\n",
       "    }\n",
       "\n",
       "    .dataframe tbody tr th {\n",
       "        vertical-align: top;\n",
       "    }\n",
       "\n",
       "    .dataframe thead th {\n",
       "        text-align: right;\n",
       "    }\n",
       "</style>\n",
       "<table border=\"1\" class=\"dataframe\">\n",
       "  <thead>\n",
       "    <tr style=\"text-align: right;\">\n",
       "      <th></th>\n",
       "      <th>Z0</th>\n",
       "      <th>Z1</th>\n",
       "      <th>W0</th>\n",
       "      <th>W1</th>\n",
       "      <th>W2</th>\n",
       "      <th>W3</th>\n",
       "      <th>W4</th>\n",
       "      <th>v0</th>\n",
       "      <th>y</th>\n",
       "    </tr>\n",
       "  </thead>\n",
       "  <tbody>\n",
       "    <tr>\n",
       "      <th>0</th>\n",
       "      <td>0.0</td>\n",
       "      <td>0.346508</td>\n",
       "      <td>0.010736</td>\n",
       "      <td>-0.003948</td>\n",
       "      <td>0.161994</td>\n",
       "      <td>-0.511031</td>\n",
       "      <td>2</td>\n",
       "      <td>False</td>\n",
       "      <td>0.680694</td>\n",
       "    </tr>\n",
       "    <tr>\n",
       "      <th>1</th>\n",
       "      <td>1.0</td>\n",
       "      <td>0.366288</td>\n",
       "      <td>-0.005050</td>\n",
       "      <td>1.091773</td>\n",
       "      <td>1.248520</td>\n",
       "      <td>-1.162326</td>\n",
       "      <td>0</td>\n",
       "      <td>True</td>\n",
       "      <td>1.949567</td>\n",
       "    </tr>\n",
       "    <tr>\n",
       "      <th>2</th>\n",
       "      <td>1.0</td>\n",
       "      <td>0.779789</td>\n",
       "      <td>1.262667</td>\n",
       "      <td>1.547197</td>\n",
       "      <td>-0.982675</td>\n",
       "      <td>-1.920929</td>\n",
       "      <td>2</td>\n",
       "      <td>True</td>\n",
       "      <td>2.643696</td>\n",
       "    </tr>\n",
       "    <tr>\n",
       "      <th>3</th>\n",
       "      <td>1.0</td>\n",
       "      <td>0.631282</td>\n",
       "      <td>-1.687462</td>\n",
       "      <td>3.145370</td>\n",
       "      <td>0.100849</td>\n",
       "      <td>-0.243884</td>\n",
       "      <td>0</td>\n",
       "      <td>True</td>\n",
       "      <td>2.570255</td>\n",
       "    </tr>\n",
       "    <tr>\n",
       "      <th>4</th>\n",
       "      <td>1.0</td>\n",
       "      <td>0.249955</td>\n",
       "      <td>-1.249156</td>\n",
       "      <td>0.546544</td>\n",
       "      <td>1.132352</td>\n",
       "      <td>0.324499</td>\n",
       "      <td>2</td>\n",
       "      <td>True</td>\n",
       "      <td>2.292546</td>\n",
       "    </tr>\n",
       "    <tr>\n",
       "      <th>...</th>\n",
       "      <td>...</td>\n",
       "      <td>...</td>\n",
       "      <td>...</td>\n",
       "      <td>...</td>\n",
       "      <td>...</td>\n",
       "      <td>...</td>\n",
       "      <td>...</td>\n",
       "      <td>...</td>\n",
       "      <td>...</td>\n",
       "    </tr>\n",
       "    <tr>\n",
       "      <th>9995</th>\n",
       "      <td>1.0</td>\n",
       "      <td>0.897733</td>\n",
       "      <td>1.225441</td>\n",
       "      <td>-0.456120</td>\n",
       "      <td>0.257214</td>\n",
       "      <td>-0.167304</td>\n",
       "      <td>3</td>\n",
       "      <td>True</td>\n",
       "      <td>3.053265</td>\n",
       "    </tr>\n",
       "    <tr>\n",
       "      <th>9996</th>\n",
       "      <td>1.0</td>\n",
       "      <td>0.156382</td>\n",
       "      <td>-0.727436</td>\n",
       "      <td>1.907724</td>\n",
       "      <td>1.521555</td>\n",
       "      <td>-0.096381</td>\n",
       "      <td>1</td>\n",
       "      <td>True</td>\n",
       "      <td>3.565979</td>\n",
       "    </tr>\n",
       "    <tr>\n",
       "      <th>9997</th>\n",
       "      <td>1.0</td>\n",
       "      <td>0.243051</td>\n",
       "      <td>0.058714</td>\n",
       "      <td>1.465913</td>\n",
       "      <td>0.435752</td>\n",
       "      <td>-1.626719</td>\n",
       "      <td>0</td>\n",
       "      <td>True</td>\n",
       "      <td>1.614541</td>\n",
       "    </tr>\n",
       "    <tr>\n",
       "      <th>9998</th>\n",
       "      <td>1.0</td>\n",
       "      <td>0.542335</td>\n",
       "      <td>-0.625806</td>\n",
       "      <td>1.380764</td>\n",
       "      <td>-1.402001</td>\n",
       "      <td>-1.800461</td>\n",
       "      <td>2</td>\n",
       "      <td>True</td>\n",
       "      <td>0.728084</td>\n",
       "    </tr>\n",
       "    <tr>\n",
       "      <th>9999</th>\n",
       "      <td>0.0</td>\n",
       "      <td>0.478962</td>\n",
       "      <td>0.994609</td>\n",
       "      <td>1.012847</td>\n",
       "      <td>1.043031</td>\n",
       "      <td>-0.469878</td>\n",
       "      <td>1</td>\n",
       "      <td>True</td>\n",
       "      <td>3.577079</td>\n",
       "    </tr>\n",
       "  </tbody>\n",
       "</table>\n",
       "<p>10000 rows × 9 columns</p>\n",
       "</div>"
      ],
      "text/plain": [
       "       Z0        Z1        W0        W1        W2        W3 W4     v0  \\\n",
       "0     0.0  0.346508  0.010736 -0.003948  0.161994 -0.511031  2  False   \n",
       "1     1.0  0.366288 -0.005050  1.091773  1.248520 -1.162326  0   True   \n",
       "2     1.0  0.779789  1.262667  1.547197 -0.982675 -1.920929  2   True   \n",
       "3     1.0  0.631282 -1.687462  3.145370  0.100849 -0.243884  0   True   \n",
       "4     1.0  0.249955 -1.249156  0.546544  1.132352  0.324499  2   True   \n",
       "...   ...       ...       ...       ...       ...       ... ..    ...   \n",
       "9995  1.0  0.897733  1.225441 -0.456120  0.257214 -0.167304  3   True   \n",
       "9996  1.0  0.156382 -0.727436  1.907724  1.521555 -0.096381  1   True   \n",
       "9997  1.0  0.243051  0.058714  1.465913  0.435752 -1.626719  0   True   \n",
       "9998  1.0  0.542335 -0.625806  1.380764 -1.402001 -1.800461  2   True   \n",
       "9999  0.0  0.478962  0.994609  1.012847  1.043031 -0.469878  1   True   \n",
       "\n",
       "             y  \n",
       "0     0.680694  \n",
       "1     1.949567  \n",
       "2     2.643696  \n",
       "3     2.570255  \n",
       "4     2.292546  \n",
       "...        ...  \n",
       "9995  3.053265  \n",
       "9996  3.565979  \n",
       "9997  1.614541  \n",
       "9998  0.728084  \n",
       "9999  3.577079  \n",
       "\n",
       "[10000 rows x 9 columns]"
      ]
     },
     "execution_count": 3,
     "metadata": {},
     "output_type": "execute_result"
    }
   ],
   "source": [
    "data = dowhy.datasets.linear_dataset(beta=1,\n",
    "        num_common_causes=5, \n",
    "        num_instruments = 2,\n",
    "        num_treatments=1,\n",
    "        num_discrete_common_causes=1,\n",
    "        num_samples=10000,\n",
    "        treatment_is_binary=True,\n",
    "        outcome_is_binary=False)\n",
    "df = data[\"df\"]\n",
    "print(df[df.v0==True].shape[0])\n",
    "df"
   ]
  },
  {
   "cell_type": "markdown",
   "id": "0d182d41",
   "metadata": {},
   "source": [
    "Note that we are using a pandas dataframe to load the data."
   ]
  },
  {
   "cell_type": "markdown",
   "id": "9ab2216e",
   "metadata": {},
   "source": [
    "## Identifying the causal estimand"
   ]
  },
  {
   "cell_type": "markdown",
   "id": "21f08867",
   "metadata": {},
   "source": [
    "We now input a causal graph in the GML graph format."
   ]
  },
  {
   "cell_type": "code",
   "execution_count": 4,
   "id": "61402199",
   "metadata": {
    "execution": {
     "iopub.execute_input": "2022-07-28T11:45:30.819247Z",
     "iopub.status.busy": "2022-07-28T11:45:30.818764Z",
     "iopub.status.idle": "2022-07-28T11:45:30.847177Z",
     "shell.execute_reply": "2022-07-28T11:45:30.846446Z"
    }
   },
   "outputs": [],
   "source": [
    "# With graph\n",
    "model=CausalModel(\n",
    "        data = df,\n",
    "        treatment=data[\"treatment_name\"],\n",
    "        outcome=data[\"outcome_name\"],\n",
    "        graph=data[\"gml_graph\"],\n",
    "        instruments=data[\"instrument_names\"]\n",
    "        )"
   ]
  },
  {
   "cell_type": "code",
   "execution_count": 5,
   "id": "0ca11e28",
   "metadata": {
    "execution": {
     "iopub.execute_input": "2022-07-28T11:45:30.851292Z",
     "iopub.status.busy": "2022-07-28T11:45:30.851044Z",
     "iopub.status.idle": "2022-07-28T11:45:30.917775Z",
     "shell.execute_reply": "2022-07-28T11:45:30.916785Z"
    }
   },
   "outputs": [],
   "source": [
    "model.view_model()"
   ]
  },
  {
   "cell_type": "code",
   "execution_count": 6,
   "id": "ff4f5948",
   "metadata": {
    "execution": {
     "iopub.execute_input": "2022-07-28T11:45:30.922409Z",
     "iopub.status.busy": "2022-07-28T11:45:30.921548Z",
     "iopub.status.idle": "2022-07-28T11:45:30.951636Z",
     "shell.execute_reply": "2022-07-28T11:45:30.950835Z"
    }
   },
   "outputs": [
    {
     "data": {
      "image/png": "[encoded data removed]",
      "text/plain": [
       "<IPython.core.display.Image object>"
      ]
     },
     "metadata": {},
     "output_type": "display_data"
    }
   ],
   "source": [
    "from IPython.display import Image, display\n",
    "display(Image(filename=\"causal_model.png\"))"
   ]
  },
  {
   "cell_type": "markdown",
   "id": "bb214578",
   "metadata": {},
   "source": [
    "We get a causal graph. Now identification and estimation is done."
   ]
  },
  {
   "cell_type": "code",
   "execution_count": 7,
   "id": "a782ea8f",
   "metadata": {
    "execution": {
     "iopub.execute_input": "2022-07-28T11:45:30.955582Z",
     "iopub.status.busy": "2022-07-28T11:45:30.954863Z",
     "iopub.status.idle": "2022-07-28T11:45:31.218589Z",
     "shell.execute_reply": "2022-07-28T11:45:31.217686Z"
    }
   },
   "outputs": [
    {
     "name": "stdout",
     "output_type": "stream",
     "text": [
      "Estimand type: nonparametric-ate\n",
      "\n",
      "### Estimand : 1\n",
      "Estimand name: backdoor\n",
      "Estimand expression:\n",
      "  d                       \n",
      "─────(E[y|W0,W1,W4,W3,W2])\n",
      "d[v₀]                     \n",
      "Estimand assumption 1, Unconfoundedness: If U→{v0} and U→y then P(y|v0,W0,W1,W4,W3,W2,U) = P(y|v0,W0,W1,W4,W3,W2)\n",
      "\n",
      "### Estimand : 2\n",
      "Estimand name: iv\n",
      "Estimand expression:\n",
      " ⎡                              -1⎤\n",
      " ⎢    d        ⎛    d          ⎞  ⎥\n",
      "E⎢─────────(y)⋅⎜─────────([v₀])⎟  ⎥\n",
      " ⎣d[Z₁  Z₀]    ⎝d[Z₁  Z₀]      ⎠  ⎦\n",
      "Estimand assumption 1, As-if-random: If U→→y then ¬(U →→{Z1,Z0})\n",
      "Estimand assumption 2, Exclusion: If we remove {Z1,Z0}→{v0}, then ¬({Z1,Z0}→y)\n",
      "\n",
      "### Estimand : 3\n",
      "Estimand name: frontdoor\n",
      "No such variable(s) found!\n",
      "\n"
     ]
    }
   ],
   "source": [
    "identified_estimand = model.identify_effect(proceed_when_unidentifiable=True)\n",
    "print(identified_estimand)"
   ]
  },
  {
   "cell_type": "markdown",
   "id": "365b1002",
   "metadata": {},
   "source": [
    "## Method 1: Propensity Score Stratification\n",
    "\n",
    "We will be using propensity scores to stratify units in the data."
   ]
  },
  {
   "cell_type": "code",
   "execution_count": 8,
   "id": "cd9961b5",
   "metadata": {
    "execution": {
     "iopub.execute_input": "2022-07-28T11:45:31.223018Z",
     "iopub.status.busy": "2022-07-28T11:45:31.222697Z",
     "iopub.status.idle": "2022-07-28T11:45:32.191160Z",
     "shell.execute_reply": "2022-07-28T11:45:32.189853Z"
    }
   },
   "outputs": [
    {
     "name": "stdout",
     "output_type": "stream",
     "text": [
      "propensity_score_stratification\n"
     ]
    },
    {
     "name": "stderr",
     "output_type": "stream",
     "text": [
      "/usr/local/lib/python3.8/dist-packages/sklearn/utils/validation.py:993: DataConversionWarning: A column-vector y was passed when a 1d array was expected. Please change the shape of y to (n_samples, ), for example using ravel().\n",
      "  y = column_or_1d(y, warn=True)\n"
     ]
    },
    {
     "name": "stdout",
     "output_type": "stream",
     "text": [
      "*** Causal Estimate ***\n",
      "\n",
      "## Identified estimand\n",
      "Estimand type: nonparametric-ate\n",
      "\n",
      "### Estimand : 1\n",
      "Estimand name: backdoor\n",
      "Estimand expression:\n",
      "  d                       \n",
      "─────(E[y|W0,W1,W4,W3,W2])\n",
      "d[v₀]                     \n",
      "Estimand assumption 1, Unconfoundedness: If U→{v0} and U→y then P(y|v0,W0,W1,W4,W3,W2,U) = P(y|v0,W0,W1,W4,W3,W2)\n",
      "\n",
      "## Realized estimand\n",
      "b: y~v0+W0+W1+W4+W3+W2\n",
      "Target units: att\n",
      "\n",
      "## Estimate\n",
      "Mean value: 1.1161175675968402\n",
      "\n",
      "Causal Estimate is 1.1161175675968402\n"
     ]
    }
   ],
   "source": [
    "causal_estimate_strat = model.estimate_effect(identified_estimand,\n",
    "                                              method_name=\"backdoor.propensity_score_stratification\",\n",
    "                                              target_units=\"att\")\n",
    "print(causal_estimate_strat)\n",
    "print(\"Causal Estimate is \" + str(causal_estimate_strat.value))"
   ]
  },
  {
   "cell_type": "markdown",
   "id": "ae18ab80",
   "metadata": {},
   "source": [
    "### Textual Interpreter\n",
    "\n",
    "The textual Interpreter describes (in words) the effect of unit change in the treatment variable on the outcome variable."
   ]
  },
  {
   "cell_type": "code",
   "execution_count": 9,
   "id": "8070754b",
   "metadata": {
    "execution": {
     "iopub.execute_input": "2022-07-28T11:45:32.194792Z",
     "iopub.status.busy": "2022-07-28T11:45:32.194183Z",
     "iopub.status.idle": "2022-07-28T11:45:32.221329Z",
     "shell.execute_reply": "2022-07-28T11:45:32.220477Z"
    }
   },
   "outputs": [
    {
     "name": "stdout",
     "output_type": "stream",
     "text": [
      "Increasing the treatment variable(s) [v0] from 0 to 1 causes an increase of 1.1161175675968402 in the expected value of the outcome [y], over the data distribution/population represented by the dataset.\n"
     ]
    }
   ],
   "source": [
    "# Textual Interpreter\n",
    "interpretation = causal_estimate_strat.interpret(method_name=\"textual_effect_interpreter\")"
   ]
  },
  {
   "cell_type": "markdown",
   "id": "59e7dfde",
   "metadata": {},
   "source": [
    "### Visual Interpreter\n",
    "\n",
    "The visual interpreter plots the change in the standardized mean difference (SMD) before and after Propensity Score based adjustment of the dataset. The formula for SMD is given below.\n",
    "\n",
    "\n",
    "$SMD = \\frac{\\bar X_{1} - \\bar X_{2}}{\\sqrt{(S_{1}^{2} + S_{2}^{2})/2}}$\n",
    "\n",
    "Here, $\\bar X_{1}$ and $\\bar X_{2}$ are the sample mean for the treated and control groups.\n"
   ]
  },
  {
   "cell_type": "code",
   "execution_count": 10,
   "id": "b8ff4340",
   "metadata": {
    "execution": {
     "iopub.execute_input": "2022-07-28T11:45:32.225838Z",
     "iopub.status.busy": "2022-07-28T11:45:32.225417Z",
     "iopub.status.idle": "2022-07-28T11:45:33.356154Z",
     "shell.execute_reply": "2022-07-28T11:45:33.355432Z"
    }
   },
   "outputs": [
    {
     "data": {
      "image/png": "[encoded data removed]",
      "text/plain": [
       "<Figure size 432x288 with 1 Axes>"
      ]
     },
     "metadata": {
      "needs_background": "light"
     },
     "output_type": "display_data"
    }
   ],
   "source": [
    "# Visual Interpreter\n",
    "interpretation = causal_estimate_strat.interpret(method_name=\"propensity_balance_interpreter\")"
   ]
  },
  {
   "cell_type": "markdown",
   "id": "033ce748",
   "metadata": {},
   "source": [
    "This plot shows how the SMD decreases from the unadjusted to the stratified units. "
   ]
  },
  {
   "cell_type": "markdown",
   "id": "2fe2db43",
   "metadata": {},
   "source": [
    "## Method 2: Propensity Score Matching\n",
    "\n",
    "We will be using propensity scores to match units in the data."
   ]
  },
  {
   "cell_type": "code",
   "execution_count": 11,
   "id": "5720987c",
   "metadata": {
    "execution": {
     "iopub.execute_input": "2022-07-28T11:45:33.361550Z",
     "iopub.status.busy": "2022-07-28T11:45:33.359744Z",
     "iopub.status.idle": "2022-07-28T11:45:38.509131Z",
     "shell.execute_reply": "2022-07-28T11:45:38.507992Z"
    }
   },
   "outputs": [
    {
     "name": "stdout",
     "output_type": "stream",
     "text": [
      "propensity_score_matching\n"
     ]
    },
    {
     "name": "stderr",
     "output_type": "stream",
     "text": [
      "/usr/local/lib/python3.8/dist-packages/sklearn/utils/validation.py:993: DataConversionWarning: A column-vector y was passed when a 1d array was expected. Please change the shape of y to (n_samples, ), for example using ravel().\n",
      "  y = column_or_1d(y, warn=True)\n"
     ]
    },
    {
     "name": "stdout",
     "output_type": "stream",
     "text": [
      "*** Causal Estimate ***\n",
      "\n",
      "## Identified estimand\n",
      "Estimand type: nonparametric-ate\n",
      "\n",
      "### Estimand : 1\n",
      "Estimand name: backdoor\n",
      "Estimand expression:\n",
      "  d                       \n",
      "─────(E[y|W0,W1,W4,W3,W2])\n",
      "d[v₀]                     \n",
      "Estimand assumption 1, Unconfoundedness: If U→{v0} and U→y then P(y|v0,W0,W1,W4,W3,W2,U) = P(y|v0,W0,W1,W4,W3,W2)\n",
      "\n",
      "## Realized estimand\n",
      "b: y~v0+W0+W1+W4+W3+W2\n",
      "Target units: atc\n",
      "\n",
      "## Estimate\n",
      "Mean value: 0.9567979304114537\n",
      "\n",
      "Causal Estimate is 0.9567979304114537\n"
     ]
    }
   ],
   "source": [
    "causal_estimate_match = model.estimate_effect(identified_estimand,\n",
    "                                              method_name=\"backdoor.propensity_score_matching\",\n",
    "                                              target_units=\"atc\")\n",
    "print(causal_estimate_match)\n",
    "print(\"Causal Estimate is \" + str(causal_estimate_match.value))"
   ]
  },
  {
   "cell_type": "code",
   "execution_count": 12,
   "id": "9411eb5c",
   "metadata": {
    "execution": {
     "iopub.execute_input": "2022-07-28T11:45:38.513306Z",
     "iopub.status.busy": "2022-07-28T11:45:38.512773Z",
     "iopub.status.idle": "2022-07-28T11:45:38.542641Z",
     "shell.execute_reply": "2022-07-28T11:45:38.541630Z"
    }
   },
   "outputs": [
    {
     "name": "stdout",
     "output_type": "stream",
     "text": [
      "Increasing the treatment variable(s) [v0] from 0 to 1 causes an increase of 0.9567979304114537 in the expected value of the outcome [y], over the data distribution/population represented by the dataset.\n"
     ]
    }
   ],
   "source": [
    "# Textual Interpreter\n",
    "interpretation = causal_estimate_match.interpret(method_name=\"textual_effect_interpreter\")"
   ]
  },
  {
   "cell_type": "markdown",
   "id": "872c5a9e",
   "metadata": {},
   "source": [
    "Cannot use propensity balance interpretor here since the interpreter method only supports propensity score stratification estimator."
   ]
  },
  {
   "cell_type": "markdown",
   "id": "07eca3b0",
   "metadata": {},
   "source": [
    "## Method 3: Weighting\n",
    "\n",
    "We will be using (inverse) propensity scores to assign weights to units in the data. DoWhy supports a few different weighting schemes:\n",
    "1. Vanilla Inverse Propensity Score weighting (IPS) (weighting_scheme=\"ips_weight\")\n",
    "2. Self-normalized IPS weighting (also known as the Hajek estimator) (weighting_scheme=\"ips_normalized_weight\")\n",
    "3. Stabilized IPS weighting (weighting_scheme = \"ips_stabilized_weight\")"
   ]
  },
  {
   "cell_type": "code",
   "execution_count": 13,
   "id": "1ed3a01f",
   "metadata": {
    "execution": {
     "iopub.execute_input": "2022-07-28T11:45:38.546463Z",
     "iopub.status.busy": "2022-07-28T11:45:38.546176Z",
     "iopub.status.idle": "2022-07-28T11:45:38.622260Z",
     "shell.execute_reply": "2022-07-28T11:45:38.621411Z"
    }
   },
   "outputs": [
    {
     "name": "stdout",
     "output_type": "stream",
     "text": [
      "propensity_score_weighting\n",
      "*** Causal Estimate ***\n",
      "\n",
      "## Identified estimand\n",
      "Estimand type: nonparametric-ate\n",
      "\n",
      "### Estimand : 1\n",
      "Estimand name: backdoor\n",
      "Estimand expression:\n",
      "  d                       \n",
      "─────(E[y|W0,W1,W4,W3,W2])\n",
      "d[v₀]                     \n",
      "Estimand assumption 1, Unconfoundedness: If U→{v0} and U→y then P(y|v0,W0,W1,W4,W3,W2,U) = P(y|v0,W0,W1,W4,W3,W2)\n",
      "\n",
      "## Realized estimand\n",
      "b: y~v0+W0+W1+W4+W3+W2\n",
      "Target units: ate\n",
      "\n",
      "## Estimate\n",
      "Mean value: 1.8118801691316386\n",
      "\n",
      "Causal Estimate is 1.8118801691316386\n"
     ]
    },
    {
     "name": "stderr",
     "output_type": "stream",
     "text": [
      "/usr/local/lib/python3.8/dist-packages/sklearn/utils/validation.py:993: DataConversionWarning: A column-vector y was passed when a 1d array was expected. Please change the shape of y to (n_samples, ), for example using ravel().\n",
      "  y = column_or_1d(y, warn=True)\n"
     ]
    }
   ],
   "source": [
    "causal_estimate_ipw = model.estimate_effect(identified_estimand,\n",
    "                                            method_name=\"backdoor.propensity_score_weighting\",\n",
    "                                            target_units = \"ate\",\n",
    "                                            method_params={\"weighting_scheme\":\"ips_weight\"})\n",
    "print(causal_estimate_ipw)\n",
    "print(\"Causal Estimate is \" + str(causal_estimate_ipw.value))"
   ]
  },
  {
   "cell_type": "code",
   "execution_count": 14,
   "id": "c2cfeb89",
   "metadata": {
    "execution": {
     "iopub.execute_input": "2022-07-28T11:45:38.625793Z",
     "iopub.status.busy": "2022-07-28T11:45:38.625496Z",
     "iopub.status.idle": "2022-07-28T11:45:38.655050Z",
     "shell.execute_reply": "2022-07-28T11:45:38.654319Z"
    }
   },
   "outputs": [
    {
     "name": "stdout",
     "output_type": "stream",
     "text": [
      "Increasing the treatment variable(s) [v0] from 0 to 1 causes an increase of 1.8118801691316386 in the expected value of the outcome [y], over the data distribution/population represented by the dataset.\n"
     ]
    }
   ],
   "source": [
    "# Textual Interpreter\n",
    "interpretation = causal_estimate_ipw.interpret(method_name=\"textual_effect_interpreter\")"
   ]
  },
  {
   "cell_type": "code",
   "execution_count": 15,
   "id": "ad7c100b",
   "metadata": {
    "execution": {
     "iopub.execute_input": "2022-07-28T11:45:38.658129Z",
     "iopub.status.busy": "2022-07-28T11:45:38.657871Z",
     "iopub.status.idle": "2022-07-28T11:45:38.939811Z",
     "shell.execute_reply": "2022-07-28T11:45:38.938857Z"
    }
   },
   "outputs": [
    {
     "data": {
      "image/png": "[encoded data removed]",
      "text/plain": [
       "<Figure size 576x576 with 2 Axes>"
      ]
     },
     "metadata": {
      "needs_background": "light"
     },
     "output_type": "display_data"
    }
   ],
   "source": [
    "interpretation = causal_estimate_ipw.interpret(method_name=\"confounder_distribution_interpreter\", fig_size=(8,8), font_size=12, var_name='W4', var_type='discrete')"
   ]
  },
  {
   "cell_type": "code",
   "execution_count": null,
   "id": "57cbf3ec",
   "metadata": {},
   "outputs": [],
   "source": []
  }
 ],
 "metadata": {
  "kernelspec": {
   "display_name": "Python 3",
   "language": "python",
   "name": "python3"
  },
  "language_info": {
   "codemirror_mode": {
    "name": "ipython",
    "version": 3
   },
   "file_extension": ".py",
   "mimetype": "text/x-python",
   "name": "python",
   "nbconvert_exporter": "python",
   "pygments_lexer": "ipython3",
   "version": "3.8.10"
  },
  "toc": {
   "base_numbering": 1,
   "nav_menu": {},
   "number_sections": false,
   "sideBar": true,
   "skip_h1_title": true,
   "title_cell": "Table of Contents",
   "title_sidebar": "Contents",
   "toc_cell": false,
   "toc_position": {},
   "toc_section_display": true,
   "toc_window_display": false
  }
 },
 "nbformat": 4,
 "nbformat_minor": 5
}
