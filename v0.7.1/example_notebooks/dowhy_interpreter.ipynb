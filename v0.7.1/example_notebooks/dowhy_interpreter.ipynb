{
 "cells": [
  {
   "cell_type": "markdown",
   "id": "53cce534",
   "metadata": {},
   "source": [
    "# DoWhy: Interpreters for Causal Estimators\n",
    "\n",
    "This is a quick introduction to the use of interpreters in the DoWhy causal inference library.\n",
    "We will load in a sample dataset, use different methods for estimating the causal effect of a (pre-specified)treatment variable on a (pre-specified) outcome variable and demonstrate how to interpret the obtained results.\n",
    "\n",
    "First, let us add the required path for Python to find the DoWhy code and load all required packages"
   ]
  },
  {
   "cell_type": "code",
   "execution_count": 1,
   "id": "941edabd",
   "metadata": {
    "execution": {
     "iopub.execute_input": "2022-08-02T14:09:51.297372Z",
     "iopub.status.busy": "2022-08-02T14:09:51.296912Z",
     "iopub.status.idle": "2022-08-02T14:09:51.313533Z",
     "shell.execute_reply": "2022-08-02T14:09:51.312958Z"
    }
   },
   "outputs": [],
   "source": [
    "%load_ext autoreload\n",
    "%autoreload 2"
   ]
  },
  {
   "cell_type": "code",
   "execution_count": 2,
   "id": "d528d6f2",
   "metadata": {
    "execution": {
     "iopub.execute_input": "2022-08-02T14:09:51.316640Z",
     "iopub.status.busy": "2022-08-02T14:09:51.316424Z",
     "iopub.status.idle": "2022-08-02T14:09:52.385779Z",
     "shell.execute_reply": "2022-08-02T14:09:52.384968Z"
    }
   },
   "outputs": [
    {
     "name": "stdout",
     "output_type": "stream",
     "text": [
      "keywords are unexpanded, not using\n"
     ]
    }
   ],
   "source": [
    "import numpy as np\n",
    "import pandas as pd\n",
    "import logging\n",
    "\n",
    "import dowhy\n",
    "from dowhy import CausalModel\n",
    "import dowhy.datasets "
   ]
  },
  {
   "cell_type": "markdown",
   "id": "9a5d5850",
   "metadata": {},
   "source": [
    "Now, let us load a dataset. For simplicity, we simulate a dataset with linear relationships between common causes and treatment, and common causes and outcome.\n",
    "\n",
    "Beta is the true causal effect."
   ]
  },
  {
   "cell_type": "code",
   "execution_count": 3,
   "id": "48a427ea",
   "metadata": {
    "execution": {
     "iopub.execute_input": "2022-08-02T14:09:52.389969Z",
     "iopub.status.busy": "2022-08-02T14:09:52.389210Z",
     "iopub.status.idle": "2022-08-02T14:09:52.715790Z",
     "shell.execute_reply": "2022-08-02T14:09:52.714894Z"
    }
   },
   "outputs": [
    {
     "name": "stdout",
     "output_type": "stream",
     "text": [
      "8463\n"
     ]
    },
    {
     "data": {
      "text/html": [
       "<div>\n",
       "<style scoped>\n",
       "    .dataframe tbody tr th:only-of-type {\n",
       "        vertical-align: middle;\n",
       "    }\n",
       "\n",
       "    .dataframe tbody tr th {\n",
       "        vertical-align: top;\n",
       "    }\n",
       "\n",
       "    .dataframe thead th {\n",
       "        text-align: right;\n",
       "    }\n",
       "</style>\n",
       "<table border=\"1\" class=\"dataframe\">\n",
       "  <thead>\n",
       "    <tr style=\"text-align: right;\">\n",
       "      <th></th>\n",
       "      <th>Z0</th>\n",
       "      <th>Z1</th>\n",
       "      <th>W0</th>\n",
       "      <th>W1</th>\n",
       "      <th>W2</th>\n",
       "      <th>W3</th>\n",
       "      <th>W4</th>\n",
       "      <th>v0</th>\n",
       "      <th>y</th>\n",
       "    </tr>\n",
       "  </thead>\n",
       "  <tbody>\n",
       "    <tr>\n",
       "      <th>0</th>\n",
       "      <td>0.0</td>\n",
       "      <td>0.826896</td>\n",
       "      <td>-0.010829</td>\n",
       "      <td>0.173729</td>\n",
       "      <td>1.066608</td>\n",
       "      <td>2.460342</td>\n",
       "      <td>3</td>\n",
       "      <td>True</td>\n",
       "      <td>3.066746</td>\n",
       "    </tr>\n",
       "    <tr>\n",
       "      <th>1</th>\n",
       "      <td>0.0</td>\n",
       "      <td>0.785390</td>\n",
       "      <td>-1.529163</td>\n",
       "      <td>-0.191806</td>\n",
       "      <td>1.141504</td>\n",
       "      <td>0.536522</td>\n",
       "      <td>3</td>\n",
       "      <td>True</td>\n",
       "      <td>0.969669</td>\n",
       "    </tr>\n",
       "    <tr>\n",
       "      <th>2</th>\n",
       "      <td>0.0</td>\n",
       "      <td>0.300632</td>\n",
       "      <td>0.165307</td>\n",
       "      <td>-0.795620</td>\n",
       "      <td>0.172003</td>\n",
       "      <td>0.164162</td>\n",
       "      <td>0</td>\n",
       "      <td>False</td>\n",
       "      <td>-0.210512</td>\n",
       "    </tr>\n",
       "    <tr>\n",
       "      <th>3</th>\n",
       "      <td>0.0</td>\n",
       "      <td>0.174357</td>\n",
       "      <td>-0.420537</td>\n",
       "      <td>-0.523996</td>\n",
       "      <td>2.297502</td>\n",
       "      <td>1.058516</td>\n",
       "      <td>2</td>\n",
       "      <td>True</td>\n",
       "      <td>1.991391</td>\n",
       "    </tr>\n",
       "    <tr>\n",
       "      <th>4</th>\n",
       "      <td>0.0</td>\n",
       "      <td>0.331015</td>\n",
       "      <td>-1.793217</td>\n",
       "      <td>-0.086287</td>\n",
       "      <td>0.422135</td>\n",
       "      <td>2.496827</td>\n",
       "      <td>3</td>\n",
       "      <td>True</td>\n",
       "      <td>1.127686</td>\n",
       "    </tr>\n",
       "    <tr>\n",
       "      <th>...</th>\n",
       "      <td>...</td>\n",
       "      <td>...</td>\n",
       "      <td>...</td>\n",
       "      <td>...</td>\n",
       "      <td>...</td>\n",
       "      <td>...</td>\n",
       "      <td>...</td>\n",
       "      <td>...</td>\n",
       "      <td>...</td>\n",
       "    </tr>\n",
       "    <tr>\n",
       "      <th>9995</th>\n",
       "      <td>0.0</td>\n",
       "      <td>0.335356</td>\n",
       "      <td>-0.416718</td>\n",
       "      <td>0.113453</td>\n",
       "      <td>-0.767608</td>\n",
       "      <td>0.445546</td>\n",
       "      <td>3</td>\n",
       "      <td>True</td>\n",
       "      <td>1.554043</td>\n",
       "    </tr>\n",
       "    <tr>\n",
       "      <th>9996</th>\n",
       "      <td>0.0</td>\n",
       "      <td>0.514335</td>\n",
       "      <td>-0.559528</td>\n",
       "      <td>-2.206127</td>\n",
       "      <td>-0.068756</td>\n",
       "      <td>-0.574793</td>\n",
       "      <td>1</td>\n",
       "      <td>False</td>\n",
       "      <td>-1.656099</td>\n",
       "    </tr>\n",
       "    <tr>\n",
       "      <th>9997</th>\n",
       "      <td>0.0</td>\n",
       "      <td>0.914865</td>\n",
       "      <td>1.716078</td>\n",
       "      <td>-0.118679</td>\n",
       "      <td>0.481367</td>\n",
       "      <td>-0.014567</td>\n",
       "      <td>3</td>\n",
       "      <td>True</td>\n",
       "      <td>3.639784</td>\n",
       "    </tr>\n",
       "    <tr>\n",
       "      <th>9998</th>\n",
       "      <td>0.0</td>\n",
       "      <td>0.602381</td>\n",
       "      <td>-1.719505</td>\n",
       "      <td>0.132402</td>\n",
       "      <td>-0.901762</td>\n",
       "      <td>1.936007</td>\n",
       "      <td>3</td>\n",
       "      <td>True</td>\n",
       "      <td>0.749777</td>\n",
       "    </tr>\n",
       "    <tr>\n",
       "      <th>9999</th>\n",
       "      <td>0.0</td>\n",
       "      <td>0.451263</td>\n",
       "      <td>-0.406956</td>\n",
       "      <td>-2.270745</td>\n",
       "      <td>-1.539411</td>\n",
       "      <td>1.131756</td>\n",
       "      <td>3</td>\n",
       "      <td>True</td>\n",
       "      <td>0.093219</td>\n",
       "    </tr>\n",
       "  </tbody>\n",
       "</table>\n",
       "<p>10000 rows × 9 columns</p>\n",
       "</div>"
      ],
      "text/plain": [
       "       Z0        Z1        W0        W1        W2        W3 W4     v0  \\\n",
       "0     0.0  0.826896 -0.010829  0.173729  1.066608  2.460342  3   True   \n",
       "1     0.0  0.785390 -1.529163 -0.191806  1.141504  0.536522  3   True   \n",
       "2     0.0  0.300632  0.165307 -0.795620  0.172003  0.164162  0  False   \n",
       "3     0.0  0.174357 -0.420537 -0.523996  2.297502  1.058516  2   True   \n",
       "4     0.0  0.331015 -1.793217 -0.086287  0.422135  2.496827  3   True   \n",
       "...   ...       ...       ...       ...       ...       ... ..    ...   \n",
       "9995  0.0  0.335356 -0.416718  0.113453 -0.767608  0.445546  3   True   \n",
       "9996  0.0  0.514335 -0.559528 -2.206127 -0.068756 -0.574793  1  False   \n",
       "9997  0.0  0.914865  1.716078 -0.118679  0.481367 -0.014567  3   True   \n",
       "9998  0.0  0.602381 -1.719505  0.132402 -0.901762  1.936007  3   True   \n",
       "9999  0.0  0.451263 -0.406956 -2.270745 -1.539411  1.131756  3   True   \n",
       "\n",
       "             y  \n",
       "0     3.066746  \n",
       "1     0.969669  \n",
       "2    -0.210512  \n",
       "3     1.991391  \n",
       "4     1.127686  \n",
       "...        ...  \n",
       "9995  1.554043  \n",
       "9996 -1.656099  \n",
       "9997  3.639784  \n",
       "9998  0.749777  \n",
       "9999  0.093219  \n",
       "\n",
       "[10000 rows x 9 columns]"
      ]
     },
     "execution_count": 3,
     "metadata": {},
     "output_type": "execute_result"
    }
   ],
   "source": [
    "data = dowhy.datasets.linear_dataset(beta=1,\n",
    "        num_common_causes=5, \n",
    "        num_instruments = 2,\n",
    "        num_treatments=1,\n",
    "        num_discrete_common_causes=1,\n",
    "        num_samples=10000,\n",
    "        treatment_is_binary=True,\n",
    "        outcome_is_binary=False)\n",
    "df = data[\"df\"]\n",
    "print(df[df.v0==True].shape[0])\n",
    "df"
   ]
  },
  {
   "cell_type": "markdown",
   "id": "59bbe3c7",
   "metadata": {},
   "source": [
    "Note that we are using a pandas dataframe to load the data."
   ]
  },
  {
   "cell_type": "markdown",
   "id": "6becdf3a",
   "metadata": {},
   "source": [
    "## Identifying the causal estimand"
   ]
  },
  {
   "cell_type": "markdown",
   "id": "fa036774",
   "metadata": {},
   "source": [
    "We now input a causal graph in the GML graph format."
   ]
  },
  {
   "cell_type": "code",
   "execution_count": 4,
   "id": "79d90dc9",
   "metadata": {
    "execution": {
     "iopub.execute_input": "2022-08-02T14:09:52.718881Z",
     "iopub.status.busy": "2022-08-02T14:09:52.718576Z",
     "iopub.status.idle": "2022-08-02T14:09:52.743933Z",
     "shell.execute_reply": "2022-08-02T14:09:52.743348Z"
    }
   },
   "outputs": [],
   "source": [
    "# With graph\n",
    "model=CausalModel(\n",
    "        data = df,\n",
    "        treatment=data[\"treatment_name\"],\n",
    "        outcome=data[\"outcome_name\"],\n",
    "        graph=data[\"gml_graph\"],\n",
    "        instruments=data[\"instrument_names\"]\n",
    "        )"
   ]
  },
  {
   "cell_type": "code",
   "execution_count": 5,
   "id": "de7ae5fb",
   "metadata": {
    "execution": {
     "iopub.execute_input": "2022-08-02T14:09:52.746905Z",
     "iopub.status.busy": "2022-08-02T14:09:52.746684Z",
     "iopub.status.idle": "2022-08-02T14:09:52.802897Z",
     "shell.execute_reply": "2022-08-02T14:09:52.802285Z"
    }
   },
   "outputs": [],
   "source": [
    "model.view_model()"
   ]
  },
  {
   "cell_type": "code",
   "execution_count": 6,
   "id": "bc6438e2",
   "metadata": {
    "execution": {
     "iopub.execute_input": "2022-08-02T14:09:52.806077Z",
     "iopub.status.busy": "2022-08-02T14:09:52.805388Z",
     "iopub.status.idle": "2022-08-02T14:09:52.830230Z",
     "shell.execute_reply": "2022-08-02T14:09:52.829634Z"
    }
   },
   "outputs": [
    {
     "data": {
      "image/png": "[encoded data removed]",
      "text/plain": [
       "<IPython.core.display.Image object>"
      ]
     },
     "metadata": {},
     "output_type": "display_data"
    }
   ],
   "source": [
    "from IPython.display import Image, display\n",
    "display(Image(filename=\"causal_model.png\"))"
   ]
  },
  {
   "cell_type": "markdown",
   "id": "2aa3c0b0",
   "metadata": {},
   "source": [
    "We get a causal graph. Now identification and estimation is done."
   ]
  },
  {
   "cell_type": "code",
   "execution_count": 7,
   "id": "41bbfaf3",
   "metadata": {
    "execution": {
     "iopub.execute_input": "2022-08-02T14:09:52.833174Z",
     "iopub.status.busy": "2022-08-02T14:09:52.832958Z",
     "iopub.status.idle": "2022-08-02T14:09:53.053846Z",
     "shell.execute_reply": "2022-08-02T14:09:53.052840Z"
    }
   },
   "outputs": [
    {
     "name": "stdout",
     "output_type": "stream",
     "text": [
      "Estimand type: nonparametric-ate\n",
      "\n",
      "### Estimand : 1\n",
      "Estimand name: backdoor\n",
      "Estimand expression:\n",
      "  d                       \n",
      "─────(E[y|W3,W2,W1,W0,W4])\n",
      "d[v₀]                     \n",
      "Estimand assumption 1, Unconfoundedness: If U→{v0} and U→y then P(y|v0,W3,W2,W1,W0,W4,U) = P(y|v0,W3,W2,W1,W0,W4)\n",
      "\n",
      "### Estimand : 2\n",
      "Estimand name: iv\n",
      "Estimand expression:\n",
      " ⎡                              -1⎤\n",
      " ⎢    d        ⎛    d          ⎞  ⎥\n",
      "E⎢─────────(y)⋅⎜─────────([v₀])⎟  ⎥\n",
      " ⎣d[Z₁  Z₀]    ⎝d[Z₁  Z₀]      ⎠  ⎦\n",
      "Estimand assumption 1, As-if-random: If U→→y then ¬(U →→{Z1,Z0})\n",
      "Estimand assumption 2, Exclusion: If we remove {Z1,Z0}→{v0}, then ¬({Z1,Z0}→y)\n",
      "\n",
      "### Estimand : 3\n",
      "Estimand name: frontdoor\n",
      "No such variable(s) found!\n",
      "\n"
     ]
    }
   ],
   "source": [
    "identified_estimand = model.identify_effect(proceed_when_unidentifiable=True)\n",
    "print(identified_estimand)"
   ]
  },
  {
   "cell_type": "markdown",
   "id": "35093a72",
   "metadata": {},
   "source": [
    "## Method 1: Propensity Score Stratification\n",
    "\n",
    "We will be using propensity scores to stratify units in the data."
   ]
  },
  {
   "cell_type": "code",
   "execution_count": 8,
   "id": "88fd015a",
   "metadata": {
    "execution": {
     "iopub.execute_input": "2022-08-02T14:09:53.057435Z",
     "iopub.status.busy": "2022-08-02T14:09:53.057032Z",
     "iopub.status.idle": "2022-08-02T14:09:53.826462Z",
     "shell.execute_reply": "2022-08-02T14:09:53.825594Z"
    }
   },
   "outputs": [
    {
     "name": "stdout",
     "output_type": "stream",
     "text": [
      "propensity_score_stratification\n"
     ]
    },
    {
     "name": "stderr",
     "output_type": "stream",
     "text": [
      "/usr/local/lib/python3.8/dist-packages/sklearn/utils/validation.py:993: DataConversionWarning: A column-vector y was passed when a 1d array was expected. Please change the shape of y to (n_samples, ), for example using ravel().\n",
      "  y = column_or_1d(y, warn=True)\n"
     ]
    },
    {
     "name": "stdout",
     "output_type": "stream",
     "text": [
      "*** Causal Estimate ***\n",
      "\n",
      "## Identified estimand\n",
      "Estimand type: nonparametric-ate\n",
      "\n",
      "### Estimand : 1\n",
      "Estimand name: backdoor\n",
      "Estimand expression:\n",
      "  d                       \n",
      "─────(E[y|W3,W2,W1,W0,W4])\n",
      "d[v₀]                     \n",
      "Estimand assumption 1, Unconfoundedness: If U→{v0} and U→y then P(y|v0,W3,W2,W1,W0,W4,U) = P(y|v0,W3,W2,W1,W0,W4)\n",
      "\n",
      "## Realized estimand\n",
      "b: y~v0+W3+W2+W1+W0+W4\n",
      "Target units: att\n",
      "\n",
      "## Estimate\n",
      "Mean value: 1.0236507769995487\n",
      "\n",
      "Causal Estimate is 1.0236507769995487\n"
     ]
    }
   ],
   "source": [
    "causal_estimate_strat = model.estimate_effect(identified_estimand,\n",
    "                                              method_name=\"backdoor.propensity_score_stratification\",\n",
    "                                              target_units=\"att\")\n",
    "print(causal_estimate_strat)\n",
    "print(\"Causal Estimate is \" + str(causal_estimate_strat.value))"
   ]
  },
  {
   "cell_type": "markdown",
   "id": "3fa30dcf",
   "metadata": {},
   "source": [
    "### Textual Interpreter\n",
    "\n",
    "The textual Interpreter describes (in words) the effect of unit change in the treatment variable on the outcome variable."
   ]
  },
  {
   "cell_type": "code",
   "execution_count": 9,
   "id": "fbca6f79",
   "metadata": {
    "execution": {
     "iopub.execute_input": "2022-08-02T14:09:53.830257Z",
     "iopub.status.busy": "2022-08-02T14:09:53.829857Z",
     "iopub.status.idle": "2022-08-02T14:09:53.858217Z",
     "shell.execute_reply": "2022-08-02T14:09:53.857447Z"
    }
   },
   "outputs": [
    {
     "name": "stdout",
     "output_type": "stream",
     "text": [
      "Increasing the treatment variable(s) [v0] from 0 to 1 causes an increase of 1.0236507769995487 in the expected value of the outcome [y], over the data distribution/population represented by the dataset.\n"
     ]
    }
   ],
   "source": [
    "# Textual Interpreter\n",
    "interpretation = causal_estimate_strat.interpret(method_name=\"textual_effect_interpreter\")"
   ]
  },
  {
   "cell_type": "markdown",
   "id": "ce57f83f",
   "metadata": {},
   "source": [
    "### Visual Interpreter\n",
    "\n",
    "The visual interpreter plots the change in the standardized mean difference (SMD) before and after Propensity Score based adjustment of the dataset. The formula for SMD is given below.\n",
    "\n",
    "\n",
    "$SMD = \\frac{\\bar X_{1} - \\bar X_{2}}{\\sqrt{(S_{1}^{2} + S_{2}^{2})/2}}$\n",
    "\n",
    "Here, $\\bar X_{1}$ and $\\bar X_{2}$ are the sample mean for the treated and control groups.\n"
   ]
  },
  {
   "cell_type": "code",
   "execution_count": 10,
   "id": "f1b1edac",
   "metadata": {
    "execution": {
     "iopub.execute_input": "2022-08-02T14:09:53.861667Z",
     "iopub.status.busy": "2022-08-02T14:09:53.861274Z",
     "iopub.status.idle": "2022-08-02T14:09:54.955728Z",
     "shell.execute_reply": "2022-08-02T14:09:54.955002Z"
    }
   },
   "outputs": [
    {
     "data": {
      "image/png": "[encoded data removed]",
      "text/plain": [
       "<Figure size 432x288 with 1 Axes>"
      ]
     },
     "metadata": {
      "needs_background": "light"
     },
     "output_type": "display_data"
    }
   ],
   "source": [
    "# Visual Interpreter\n",
    "interpretation = causal_estimate_strat.interpret(method_name=\"propensity_balance_interpreter\")"
   ]
  },
  {
   "cell_type": "markdown",
   "id": "41209593",
   "metadata": {},
   "source": [
    "This plot shows how the SMD decreases from the unadjusted to the stratified units. "
   ]
  },
  {
   "cell_type": "markdown",
   "id": "f872e6ea",
   "metadata": {},
   "source": [
    "## Method 2: Propensity Score Matching\n",
    "\n",
    "We will be using propensity scores to match units in the data."
   ]
  },
  {
   "cell_type": "code",
   "execution_count": 11,
   "id": "c617d161",
   "metadata": {
    "execution": {
     "iopub.execute_input": "2022-08-02T14:09:54.959467Z",
     "iopub.status.busy": "2022-08-02T14:09:54.958838Z",
     "iopub.status.idle": "2022-08-02T14:09:59.409811Z",
     "shell.execute_reply": "2022-08-02T14:09:59.409138Z"
    }
   },
   "outputs": [
    {
     "name": "stdout",
     "output_type": "stream",
     "text": [
      "propensity_score_matching\n"
     ]
    },
    {
     "name": "stderr",
     "output_type": "stream",
     "text": [
      "/usr/local/lib/python3.8/dist-packages/sklearn/utils/validation.py:993: DataConversionWarning: A column-vector y was passed when a 1d array was expected. Please change the shape of y to (n_samples, ), for example using ravel().\n",
      "  y = column_or_1d(y, warn=True)\n"
     ]
    },
    {
     "name": "stdout",
     "output_type": "stream",
     "text": [
      "*** Causal Estimate ***\n",
      "\n",
      "## Identified estimand\n",
      "Estimand type: nonparametric-ate\n",
      "\n",
      "### Estimand : 1\n",
      "Estimand name: backdoor\n",
      "Estimand expression:\n",
      "  d                       \n",
      "─────(E[y|W3,W2,W1,W0,W4])\n",
      "d[v₀]                     \n",
      "Estimand assumption 1, Unconfoundedness: If U→{v0} and U→y then P(y|v0,W3,W2,W1,W0,W4,U) = P(y|v0,W3,W2,W1,W0,W4)\n",
      "\n",
      "## Realized estimand\n",
      "b: y~v0+W3+W2+W1+W0+W4\n",
      "Target units: atc\n",
      "\n",
      "## Estimate\n",
      "Mean value: 0.967329172945795\n",
      "\n",
      "Causal Estimate is 0.967329172945795\n"
     ]
    }
   ],
   "source": [
    "causal_estimate_match = model.estimate_effect(identified_estimand,\n",
    "                                              method_name=\"backdoor.propensity_score_matching\",\n",
    "                                              target_units=\"atc\")\n",
    "print(causal_estimate_match)\n",
    "print(\"Causal Estimate is \" + str(causal_estimate_match.value))"
   ]
  },
  {
   "cell_type": "code",
   "execution_count": 12,
   "id": "8dfaf08a",
   "metadata": {
    "execution": {
     "iopub.execute_input": "2022-08-02T14:09:59.413416Z",
     "iopub.status.busy": "2022-08-02T14:09:59.412848Z",
     "iopub.status.idle": "2022-08-02T14:09:59.440395Z",
     "shell.execute_reply": "2022-08-02T14:09:59.439798Z"
    }
   },
   "outputs": [
    {
     "name": "stdout",
     "output_type": "stream",
     "text": [
      "Increasing the treatment variable(s) [v0] from 0 to 1 causes an increase of 0.967329172945795 in the expected value of the outcome [y], over the data distribution/population represented by the dataset.\n"
     ]
    }
   ],
   "source": [
    "# Textual Interpreter\n",
    "interpretation = causal_estimate_match.interpret(method_name=\"textual_effect_interpreter\")"
   ]
  },
  {
   "cell_type": "markdown",
   "id": "cb9a9765",
   "metadata": {},
   "source": [
    "Cannot use propensity balance interpretor here since the interpreter method only supports propensity score stratification estimator."
   ]
  },
  {
   "cell_type": "markdown",
   "id": "c8a35b55",
   "metadata": {},
   "source": [
    "## Method 3: Weighting\n",
    "\n",
    "We will be using (inverse) propensity scores to assign weights to units in the data. DoWhy supports a few different weighting schemes:\n",
    "1. Vanilla Inverse Propensity Score weighting (IPS) (weighting_scheme=\"ips_weight\")\n",
    "2. Self-normalized IPS weighting (also known as the Hajek estimator) (weighting_scheme=\"ips_normalized_weight\")\n",
    "3. Stabilized IPS weighting (weighting_scheme = \"ips_stabilized_weight\")"
   ]
  },
  {
   "cell_type": "code",
   "execution_count": 13,
   "id": "1b44e6a7",
   "metadata": {
    "execution": {
     "iopub.execute_input": "2022-08-02T14:09:59.444582Z",
     "iopub.status.busy": "2022-08-02T14:09:59.443983Z",
     "iopub.status.idle": "2022-08-02T14:09:59.507009Z",
     "shell.execute_reply": "2022-08-02T14:09:59.505798Z"
    }
   },
   "outputs": [
    {
     "name": "stdout",
     "output_type": "stream",
     "text": [
      "propensity_score_weighting\n",
      "*** Causal Estimate ***\n",
      "\n",
      "## Identified estimand\n",
      "Estimand type: nonparametric-ate\n",
      "\n",
      "### Estimand : 1\n",
      "Estimand name: backdoor\n",
      "Estimand expression:\n",
      "  d                       \n",
      "─────(E[y|W3,W2,W1,W0,W4])\n",
      "d[v₀]                     \n",
      "Estimand assumption 1, Unconfoundedness: If U→{v0} and U→y then P(y|v0,W3,W2,W1,W0,W4,U) = P(y|v0,W3,W2,W1,W0,W4)\n",
      "\n",
      "## Realized estimand\n",
      "b: y~v0+W3+W2+W1+W0+W4\n",
      "Target units: ate\n",
      "\n",
      "## Estimate\n",
      "Mean value: 1.1966298408055627\n",
      "\n",
      "Causal Estimate is 1.1966298408055627\n"
     ]
    },
    {
     "name": "stderr",
     "output_type": "stream",
     "text": [
      "/usr/local/lib/python3.8/dist-packages/sklearn/utils/validation.py:993: DataConversionWarning: A column-vector y was passed when a 1d array was expected. Please change the shape of y to (n_samples, ), for example using ravel().\n",
      "  y = column_or_1d(y, warn=True)\n"
     ]
    }
   ],
   "source": [
    "causal_estimate_ipw = model.estimate_effect(identified_estimand,\n",
    "                                            method_name=\"backdoor.propensity_score_weighting\",\n",
    "                                            target_units = \"ate\",\n",
    "                                            method_params={\"weighting_scheme\":\"ips_weight\"})\n",
    "print(causal_estimate_ipw)\n",
    "print(\"Causal Estimate is \" + str(causal_estimate_ipw.value))"
   ]
  },
  {
   "cell_type": "code",
   "execution_count": 14,
   "id": "5e8f3e24",
   "metadata": {
    "execution": {
     "iopub.execute_input": "2022-08-02T14:09:59.510312Z",
     "iopub.status.busy": "2022-08-02T14:09:59.510080Z",
     "iopub.status.idle": "2022-08-02T14:09:59.534984Z",
     "shell.execute_reply": "2022-08-02T14:09:59.534323Z"
    }
   },
   "outputs": [
    {
     "name": "stdout",
     "output_type": "stream",
     "text": [
      "Increasing the treatment variable(s) [v0] from 0 to 1 causes an increase of 1.1966298408055627 in the expected value of the outcome [y], over the data distribution/population represented by the dataset.\n"
     ]
    }
   ],
   "source": [
    "# Textual Interpreter\n",
    "interpretation = causal_estimate_ipw.interpret(method_name=\"textual_effect_interpreter\")"
   ]
  },
  {
   "cell_type": "code",
   "execution_count": 15,
   "id": "a4d08088",
   "metadata": {
    "execution": {
     "iopub.execute_input": "2022-08-02T14:09:59.537773Z",
     "iopub.status.busy": "2022-08-02T14:09:59.537551Z",
     "iopub.status.idle": "2022-08-02T14:09:59.776352Z",
     "shell.execute_reply": "2022-08-02T14:09:59.775238Z"
    }
   },
   "outputs": [
    {
     "data": {
      "image/png": "[encoded data removed]",
      "text/plain": [
       "<Figure size 576x576 with 2 Axes>"
      ]
     },
     "metadata": {
      "needs_background": "light"
     },
     "output_type": "display_data"
    }
   ],
   "source": [
    "interpretation = causal_estimate_ipw.interpret(method_name=\"confounder_distribution_interpreter\", fig_size=(8,8), font_size=12, var_name='W4', var_type='discrete')"
   ]
  },
  {
   "cell_type": "code",
   "execution_count": null,
   "id": "48ee40e0",
   "metadata": {},
   "outputs": [],
   "source": []
  }
 ],
 "metadata": {
  "kernelspec": {
   "display_name": "Python 3",
   "language": "python",
   "name": "python3"
  },
  "language_info": {
   "codemirror_mode": {
    "name": "ipython",
    "version": 3
   },
   "file_extension": ".py",
   "mimetype": "text/x-python",
   "name": "python",
   "nbconvert_exporter": "python",
   "pygments_lexer": "ipython3",
   "version": "3.8.10"
  },
  "toc": {
   "base_numbering": 1,
   "nav_menu": {},
   "number_sections": false,
   "sideBar": true,
   "skip_h1_title": true,
   "title_cell": "Table of Contents",
   "title_sidebar": "Contents",
   "toc_cell": false,
   "toc_position": {},
   "toc_section_display": true,
   "toc_window_display": false
  }
 },
 "nbformat": 4,
 "nbformat_minor": 5
}
