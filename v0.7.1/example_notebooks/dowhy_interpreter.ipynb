{
 "cells": [
  {
   "cell_type": "markdown",
   "id": "2aec4ea9",
   "metadata": {},
   "source": [
    "# DoWhy: Interpreters for Causal Estimators\n",
    "\n",
    "This is a quick introduction to the use of interpreters in the DoWhy causal inference library.\n",
    "We will load in a sample dataset, use different methods for estimating the causal effect of a (pre-specified)treatment variable on a (pre-specified) outcome variable and demonstrate how to interpret the obtained results.\n",
    "\n",
    "First, let us add the required path for Python to find the DoWhy code and load all required packages"
   ]
  },
  {
   "cell_type": "code",
   "execution_count": 1,
   "id": "9b6ed214",
   "metadata": {
    "execution": {
     "iopub.execute_input": "2022-07-21T08:44:26.508210Z",
     "iopub.status.busy": "2022-07-21T08:44:26.507775Z",
     "iopub.status.idle": "2022-07-21T08:44:26.525035Z",
     "shell.execute_reply": "2022-07-21T08:44:26.524428Z"
    }
   },
   "outputs": [],
   "source": [
    "%load_ext autoreload\n",
    "%autoreload 2"
   ]
  },
  {
   "cell_type": "code",
   "execution_count": 2,
   "id": "572d6d3a",
   "metadata": {
    "execution": {
     "iopub.execute_input": "2022-07-21T08:44:26.528208Z",
     "iopub.status.busy": "2022-07-21T08:44:26.527823Z",
     "iopub.status.idle": "2022-07-21T08:44:27.594409Z",
     "shell.execute_reply": "2022-07-21T08:44:27.593153Z"
    }
   },
   "outputs": [
    {
     "name": "stdout",
     "output_type": "stream",
     "text": [
      "keywords are unexpanded, not using\n"
     ]
    }
   ],
   "source": [
    "import numpy as np\n",
    "import pandas as pd\n",
    "import logging\n",
    "\n",
    "import dowhy\n",
    "from dowhy import CausalModel\n",
    "import dowhy.datasets "
   ]
  },
  {
   "cell_type": "markdown",
   "id": "0a66901d",
   "metadata": {},
   "source": [
    "Now, let us load a dataset. For simplicity, we simulate a dataset with linear relationships between common causes and treatment, and common causes and outcome.\n",
    "\n",
    "Beta is the true causal effect."
   ]
  },
  {
   "cell_type": "code",
   "execution_count": 3,
   "id": "5269710a",
   "metadata": {
    "execution": {
     "iopub.execute_input": "2022-07-21T08:44:27.598272Z",
     "iopub.status.busy": "2022-07-21T08:44:27.597745Z",
     "iopub.status.idle": "2022-07-21T08:44:27.917469Z",
     "shell.execute_reply": "2022-07-21T08:44:27.916892Z"
    }
   },
   "outputs": [
    {
     "name": "stdout",
     "output_type": "stream",
     "text": [
      "7696\n"
     ]
    },
    {
     "data": {
      "text/html": [
       "<div>\n",
       "<style scoped>\n",
       "    .dataframe tbody tr th:only-of-type {\n",
       "        vertical-align: middle;\n",
       "    }\n",
       "\n",
       "    .dataframe tbody tr th {\n",
       "        vertical-align: top;\n",
       "    }\n",
       "\n",
       "    .dataframe thead th {\n",
       "        text-align: right;\n",
       "    }\n",
       "</style>\n",
       "<table border=\"1\" class=\"dataframe\">\n",
       "  <thead>\n",
       "    <tr style=\"text-align: right;\">\n",
       "      <th></th>\n",
       "      <th>Z0</th>\n",
       "      <th>Z1</th>\n",
       "      <th>W0</th>\n",
       "      <th>W1</th>\n",
       "      <th>W2</th>\n",
       "      <th>W3</th>\n",
       "      <th>W4</th>\n",
       "      <th>v0</th>\n",
       "      <th>y</th>\n",
       "    </tr>\n",
       "  </thead>\n",
       "  <tbody>\n",
       "    <tr>\n",
       "      <th>0</th>\n",
       "      <td>1.0</td>\n",
       "      <td>0.343138</td>\n",
       "      <td>0.132237</td>\n",
       "      <td>0.228029</td>\n",
       "      <td>0.088854</td>\n",
       "      <td>-0.025086</td>\n",
       "      <td>1</td>\n",
       "      <td>True</td>\n",
       "      <td>1.722122</td>\n",
       "    </tr>\n",
       "    <tr>\n",
       "      <th>1</th>\n",
       "      <td>1.0</td>\n",
       "      <td>0.212837</td>\n",
       "      <td>-1.952204</td>\n",
       "      <td>-1.557653</td>\n",
       "      <td>-2.380911</td>\n",
       "      <td>0.810024</td>\n",
       "      <td>2</td>\n",
       "      <td>False</td>\n",
       "      <td>-1.542747</td>\n",
       "    </tr>\n",
       "    <tr>\n",
       "      <th>2</th>\n",
       "      <td>1.0</td>\n",
       "      <td>0.932176</td>\n",
       "      <td>-1.626816</td>\n",
       "      <td>-2.207986</td>\n",
       "      <td>1.696030</td>\n",
       "      <td>-1.118205</td>\n",
       "      <td>1</td>\n",
       "      <td>False</td>\n",
       "      <td>0.254151</td>\n",
       "    </tr>\n",
       "    <tr>\n",
       "      <th>3</th>\n",
       "      <td>1.0</td>\n",
       "      <td>0.276970</td>\n",
       "      <td>0.150703</td>\n",
       "      <td>-0.640386</td>\n",
       "      <td>0.283282</td>\n",
       "      <td>0.852364</td>\n",
       "      <td>0</td>\n",
       "      <td>True</td>\n",
       "      <td>1.260206</td>\n",
       "    </tr>\n",
       "    <tr>\n",
       "      <th>4</th>\n",
       "      <td>1.0</td>\n",
       "      <td>0.119674</td>\n",
       "      <td>0.470956</td>\n",
       "      <td>-2.127819</td>\n",
       "      <td>-0.998430</td>\n",
       "      <td>0.608267</td>\n",
       "      <td>0</td>\n",
       "      <td>True</td>\n",
       "      <td>-0.621971</td>\n",
       "    </tr>\n",
       "    <tr>\n",
       "      <th>...</th>\n",
       "      <td>...</td>\n",
       "      <td>...</td>\n",
       "      <td>...</td>\n",
       "      <td>...</td>\n",
       "      <td>...</td>\n",
       "      <td>...</td>\n",
       "      <td>...</td>\n",
       "      <td>...</td>\n",
       "      <td>...</td>\n",
       "    </tr>\n",
       "    <tr>\n",
       "      <th>9995</th>\n",
       "      <td>1.0</td>\n",
       "      <td>0.815314</td>\n",
       "      <td>0.960141</td>\n",
       "      <td>1.271094</td>\n",
       "      <td>-0.912752</td>\n",
       "      <td>1.313041</td>\n",
       "      <td>0</td>\n",
       "      <td>True</td>\n",
       "      <td>1.463201</td>\n",
       "    </tr>\n",
       "    <tr>\n",
       "      <th>9996</th>\n",
       "      <td>1.0</td>\n",
       "      <td>0.475498</td>\n",
       "      <td>1.274545</td>\n",
       "      <td>-1.535939</td>\n",
       "      <td>-0.156648</td>\n",
       "      <td>0.843586</td>\n",
       "      <td>1</td>\n",
       "      <td>True</td>\n",
       "      <td>1.045034</td>\n",
       "    </tr>\n",
       "    <tr>\n",
       "      <th>9997</th>\n",
       "      <td>1.0</td>\n",
       "      <td>0.502807</td>\n",
       "      <td>-0.290126</td>\n",
       "      <td>-2.157667</td>\n",
       "      <td>-0.360794</td>\n",
       "      <td>0.008818</td>\n",
       "      <td>0</td>\n",
       "      <td>True</td>\n",
       "      <td>-0.389775</td>\n",
       "    </tr>\n",
       "    <tr>\n",
       "      <th>9998</th>\n",
       "      <td>1.0</td>\n",
       "      <td>0.032148</td>\n",
       "      <td>-0.149142</td>\n",
       "      <td>0.618801</td>\n",
       "      <td>-0.760092</td>\n",
       "      <td>0.543741</td>\n",
       "      <td>3</td>\n",
       "      <td>True</td>\n",
       "      <td>2.449709</td>\n",
       "    </tr>\n",
       "    <tr>\n",
       "      <th>9999</th>\n",
       "      <td>0.0</td>\n",
       "      <td>0.177166</td>\n",
       "      <td>0.369874</td>\n",
       "      <td>-1.027551</td>\n",
       "      <td>1.405115</td>\n",
       "      <td>2.189439</td>\n",
       "      <td>1</td>\n",
       "      <td>True</td>\n",
       "      <td>3.022134</td>\n",
       "    </tr>\n",
       "  </tbody>\n",
       "</table>\n",
       "<p>10000 rows × 9 columns</p>\n",
       "</div>"
      ],
      "text/plain": [
       "       Z0        Z1        W0        W1        W2        W3 W4     v0  \\\n",
       "0     1.0  0.343138  0.132237  0.228029  0.088854 -0.025086  1   True   \n",
       "1     1.0  0.212837 -1.952204 -1.557653 -2.380911  0.810024  2  False   \n",
       "2     1.0  0.932176 -1.626816 -2.207986  1.696030 -1.118205  1  False   \n",
       "3     1.0  0.276970  0.150703 -0.640386  0.283282  0.852364  0   True   \n",
       "4     1.0  0.119674  0.470956 -2.127819 -0.998430  0.608267  0   True   \n",
       "...   ...       ...       ...       ...       ...       ... ..    ...   \n",
       "9995  1.0  0.815314  0.960141  1.271094 -0.912752  1.313041  0   True   \n",
       "9996  1.0  0.475498  1.274545 -1.535939 -0.156648  0.843586  1   True   \n",
       "9997  1.0  0.502807 -0.290126 -2.157667 -0.360794  0.008818  0   True   \n",
       "9998  1.0  0.032148 -0.149142  0.618801 -0.760092  0.543741  3   True   \n",
       "9999  0.0  0.177166  0.369874 -1.027551  1.405115  2.189439  1   True   \n",
       "\n",
       "             y  \n",
       "0     1.722122  \n",
       "1    -1.542747  \n",
       "2     0.254151  \n",
       "3     1.260206  \n",
       "4    -0.621971  \n",
       "...        ...  \n",
       "9995  1.463201  \n",
       "9996  1.045034  \n",
       "9997 -0.389775  \n",
       "9998  2.449709  \n",
       "9999  3.022134  \n",
       "\n",
       "[10000 rows x 9 columns]"
      ]
     },
     "execution_count": 3,
     "metadata": {},
     "output_type": "execute_result"
    }
   ],
   "source": [
    "data = dowhy.datasets.linear_dataset(beta=1,\n",
    "        num_common_causes=5, \n",
    "        num_instruments = 2,\n",
    "        num_treatments=1,\n",
    "        num_discrete_common_causes=1,\n",
    "        num_samples=10000,\n",
    "        treatment_is_binary=True,\n",
    "        outcome_is_binary=False)\n",
    "df = data[\"df\"]\n",
    "print(df[df.v0==True].shape[0])\n",
    "df"
   ]
  },
  {
   "cell_type": "markdown",
   "id": "5ad4d969",
   "metadata": {},
   "source": [
    "Note that we are using a pandas dataframe to load the data."
   ]
  },
  {
   "cell_type": "markdown",
   "id": "c32b7f71",
   "metadata": {},
   "source": [
    "## Identifying the causal estimand"
   ]
  },
  {
   "cell_type": "markdown",
   "id": "2968e101",
   "metadata": {},
   "source": [
    "We now input a causal graph in the GML graph format."
   ]
  },
  {
   "cell_type": "code",
   "execution_count": 4,
   "id": "f45b7a7b",
   "metadata": {
    "execution": {
     "iopub.execute_input": "2022-07-21T08:44:27.920887Z",
     "iopub.status.busy": "2022-07-21T08:44:27.920496Z",
     "iopub.status.idle": "2022-07-21T08:44:27.948045Z",
     "shell.execute_reply": "2022-07-21T08:44:27.947439Z"
    }
   },
   "outputs": [],
   "source": [
    "# With graph\n",
    "model=CausalModel(\n",
    "        data = df,\n",
    "        treatment=data[\"treatment_name\"],\n",
    "        outcome=data[\"outcome_name\"],\n",
    "        graph=data[\"gml_graph\"],\n",
    "        instruments=data[\"instrument_names\"]\n",
    "        )"
   ]
  },
  {
   "cell_type": "code",
   "execution_count": 5,
   "id": "0adb95b8",
   "metadata": {
    "execution": {
     "iopub.execute_input": "2022-07-21T08:44:27.951530Z",
     "iopub.status.busy": "2022-07-21T08:44:27.951147Z",
     "iopub.status.idle": "2022-07-21T08:44:28.010586Z",
     "shell.execute_reply": "2022-07-21T08:44:28.009826Z"
    }
   },
   "outputs": [],
   "source": [
    "model.view_model()"
   ]
  },
  {
   "cell_type": "code",
   "execution_count": 6,
   "id": "8823c929",
   "metadata": {
    "execution": {
     "iopub.execute_input": "2022-07-21T08:44:28.014564Z",
     "iopub.status.busy": "2022-07-21T08:44:28.013939Z",
     "iopub.status.idle": "2022-07-21T08:44:28.045275Z",
     "shell.execute_reply": "2022-07-21T08:44:28.044648Z"
    }
   },
   "outputs": [
    {
     "data": {
      "image/png": "[encoded data removed]",
      "text/plain": [
       "<IPython.core.display.Image object>"
      ]
     },
     "metadata": {},
     "output_type": "display_data"
    }
   ],
   "source": [
    "from IPython.display import Image, display\n",
    "display(Image(filename=\"causal_model.png\"))"
   ]
  },
  {
   "cell_type": "markdown",
   "id": "a2ed001e",
   "metadata": {},
   "source": [
    "We get a causal graph. Now identification and estimation is done."
   ]
  },
  {
   "cell_type": "code",
   "execution_count": 7,
   "id": "0f82503e",
   "metadata": {
    "execution": {
     "iopub.execute_input": "2022-07-21T08:44:28.049212Z",
     "iopub.status.busy": "2022-07-21T08:44:28.048963Z",
     "iopub.status.idle": "2022-07-21T08:44:28.276635Z",
     "shell.execute_reply": "2022-07-21T08:44:28.275695Z"
    }
   },
   "outputs": [
    {
     "name": "stdout",
     "output_type": "stream",
     "text": [
      "Estimand type: nonparametric-ate\n",
      "\n",
      "### Estimand : 1\n",
      "Estimand name: backdoor\n",
      "Estimand expression:\n",
      "  d                       \n",
      "─────(E[y|W4,W1,W0,W2,W3])\n",
      "d[v₀]                     \n",
      "Estimand assumption 1, Unconfoundedness: If U→{v0} and U→y then P(y|v0,W4,W1,W0,W2,W3,U) = P(y|v0,W4,W1,W0,W2,W3)\n",
      "\n",
      "### Estimand : 2\n",
      "Estimand name: iv\n",
      "Estimand expression:\n",
      " ⎡                              -1⎤\n",
      " ⎢    d        ⎛    d          ⎞  ⎥\n",
      "E⎢─────────(y)⋅⎜─────────([v₀])⎟  ⎥\n",
      " ⎣d[Z₁  Z₀]    ⎝d[Z₁  Z₀]      ⎠  ⎦\n",
      "Estimand assumption 1, As-if-random: If U→→y then ¬(U →→{Z1,Z0})\n",
      "Estimand assumption 2, Exclusion: If we remove {Z1,Z0}→{v0}, then ¬({Z1,Z0}→y)\n",
      "\n",
      "### Estimand : 3\n",
      "Estimand name: frontdoor\n",
      "No such variable(s) found!\n",
      "\n"
     ]
    }
   ],
   "source": [
    "identified_estimand = model.identify_effect(proceed_when_unidentifiable=True)\n",
    "print(identified_estimand)"
   ]
  },
  {
   "cell_type": "markdown",
   "id": "40e70dc0",
   "metadata": {},
   "source": [
    "## Method 1: Propensity Score Stratification\n",
    "\n",
    "We will be using propensity scores to stratify units in the data."
   ]
  },
  {
   "cell_type": "code",
   "execution_count": 8,
   "id": "d046d888",
   "metadata": {
    "execution": {
     "iopub.execute_input": "2022-07-21T08:44:28.280116Z",
     "iopub.status.busy": "2022-07-21T08:44:28.279659Z",
     "iopub.status.idle": "2022-07-21T08:44:29.032516Z",
     "shell.execute_reply": "2022-07-21T08:44:29.031366Z"
    }
   },
   "outputs": [
    {
     "name": "stdout",
     "output_type": "stream",
     "text": [
      "propensity_score_stratification\n"
     ]
    },
    {
     "name": "stderr",
     "output_type": "stream",
     "text": [
      "/usr/local/lib/python3.8/dist-packages/sklearn/utils/validation.py:993: DataConversionWarning: A column-vector y was passed when a 1d array was expected. Please change the shape of y to (n_samples, ), for example using ravel().\n",
      "  y = column_or_1d(y, warn=True)\n"
     ]
    },
    {
     "name": "stdout",
     "output_type": "stream",
     "text": [
      "*** Causal Estimate ***\n",
      "\n",
      "## Identified estimand\n",
      "Estimand type: nonparametric-ate\n",
      "\n",
      "### Estimand : 1\n",
      "Estimand name: backdoor\n",
      "Estimand expression:\n",
      "  d                       \n",
      "─────(E[y|W4,W1,W0,W2,W3])\n",
      "d[v₀]                     \n",
      "Estimand assumption 1, Unconfoundedness: If U→{v0} and U→y then P(y|v0,W4,W1,W0,W2,W3,U) = P(y|v0,W4,W1,W0,W2,W3)\n",
      "\n",
      "## Realized estimand\n",
      "b: y~v0+W4+W1+W0+W2+W3\n",
      "Target units: att\n",
      "\n",
      "## Estimate\n",
      "Mean value: 0.9941574780845837\n",
      "\n",
      "Causal Estimate is 0.9941574780845837\n"
     ]
    }
   ],
   "source": [
    "causal_estimate_strat = model.estimate_effect(identified_estimand,\n",
    "                                              method_name=\"backdoor.propensity_score_stratification\",\n",
    "                                              target_units=\"att\")\n",
    "print(causal_estimate_strat)\n",
    "print(\"Causal Estimate is \" + str(causal_estimate_strat.value))"
   ]
  },
  {
   "cell_type": "markdown",
   "id": "90113c73",
   "metadata": {},
   "source": [
    "### Textual Interpreter\n",
    "\n",
    "The textual Interpreter describes (in words) the effect of unit change in the treatment variable on the outcome variable."
   ]
  },
  {
   "cell_type": "code",
   "execution_count": 9,
   "id": "1b8e26b9",
   "metadata": {
    "execution": {
     "iopub.execute_input": "2022-07-21T08:44:29.035983Z",
     "iopub.status.busy": "2022-07-21T08:44:29.035704Z",
     "iopub.status.idle": "2022-07-21T08:44:29.063998Z",
     "shell.execute_reply": "2022-07-21T08:44:29.063183Z"
    }
   },
   "outputs": [
    {
     "name": "stdout",
     "output_type": "stream",
     "text": [
      "Increasing the treatment variable(s) [v0] from 0 to 1 causes an increase of 0.9941574780845837 in the expected value of the outcome [y], over the data distribution/population represented by the dataset.\n"
     ]
    }
   ],
   "source": [
    "# Textual Interpreter\n",
    "interpretation = causal_estimate_strat.interpret(method_name=\"textual_effect_interpreter\")"
   ]
  },
  {
   "cell_type": "markdown",
   "id": "ee8d797a",
   "metadata": {},
   "source": [
    "### Visual Interpreter\n",
    "\n",
    "The visual interpreter plots the change in the standardized mean difference (SMD) before and after Propensity Score based adjustment of the dataset. The formula for SMD is given below.\n",
    "\n",
    "\n",
    "$SMD = \\frac{\\bar X_{1} - \\bar X_{2}}{\\sqrt{(S_{1}^{2} + S_{2}^{2})/2}}$\n",
    "\n",
    "Here, $\\bar X_{1}$ and $\\bar X_{2}$ are the sample mean for the treated and control groups.\n"
   ]
  },
  {
   "cell_type": "code",
   "execution_count": 10,
   "id": "f1ce456b",
   "metadata": {
    "execution": {
     "iopub.execute_input": "2022-07-21T08:44:29.067463Z",
     "iopub.status.busy": "2022-07-21T08:44:29.067019Z",
     "iopub.status.idle": "2022-07-21T08:44:30.345174Z",
     "shell.execute_reply": "2022-07-21T08:44:30.344460Z"
    }
   },
   "outputs": [
    {
     "data": {
      "image/png": "[encoded data removed]",
      "text/plain": [
       "<Figure size 432x288 with 1 Axes>"
      ]
     },
     "metadata": {
      "needs_background": "light"
     },
     "output_type": "display_data"
    }
   ],
   "source": [
    "# Visual Interpreter\n",
    "interpretation = causal_estimate_strat.interpret(method_name=\"propensity_balance_interpreter\")"
   ]
  },
  {
   "cell_type": "markdown",
   "id": "056f0c32",
   "metadata": {},
   "source": [
    "This plot shows how the SMD decreases from the unadjusted to the stratified units. "
   ]
  },
  {
   "cell_type": "markdown",
   "id": "f6d1c9cb",
   "metadata": {},
   "source": [
    "## Method 2: Propensity Score Matching\n",
    "\n",
    "We will be using propensity scores to match units in the data."
   ]
  },
  {
   "cell_type": "code",
   "execution_count": 11,
   "id": "4f7e4eaa",
   "metadata": {
    "execution": {
     "iopub.execute_input": "2022-07-21T08:44:30.348722Z",
     "iopub.status.busy": "2022-07-21T08:44:30.348353Z",
     "iopub.status.idle": "2022-07-21T08:44:34.771979Z",
     "shell.execute_reply": "2022-07-21T08:44:34.771234Z"
    }
   },
   "outputs": [
    {
     "name": "stdout",
     "output_type": "stream",
     "text": [
      "propensity_score_matching\n"
     ]
    },
    {
     "name": "stderr",
     "output_type": "stream",
     "text": [
      "/usr/local/lib/python3.8/dist-packages/sklearn/utils/validation.py:993: DataConversionWarning: A column-vector y was passed when a 1d array was expected. Please change the shape of y to (n_samples, ), for example using ravel().\n",
      "  y = column_or_1d(y, warn=True)\n"
     ]
    },
    {
     "name": "stdout",
     "output_type": "stream",
     "text": [
      "*** Causal Estimate ***\n",
      "\n",
      "## Identified estimand\n",
      "Estimand type: nonparametric-ate\n",
      "\n",
      "### Estimand : 1\n",
      "Estimand name: backdoor\n",
      "Estimand expression:\n",
      "  d                       \n",
      "─────(E[y|W4,W1,W0,W2,W3])\n",
      "d[v₀]                     \n",
      "Estimand assumption 1, Unconfoundedness: If U→{v0} and U→y then P(y|v0,W4,W1,W0,W2,W3,U) = P(y|v0,W4,W1,W0,W2,W3)\n",
      "\n",
      "## Realized estimand\n",
      "b: y~v0+W4+W1+W0+W2+W3\n",
      "Target units: atc\n",
      "\n",
      "## Estimate\n",
      "Mean value: 1.0023905582640127\n",
      "\n",
      "Causal Estimate is 1.0023905582640127\n"
     ]
    }
   ],
   "source": [
    "causal_estimate_match = model.estimate_effect(identified_estimand,\n",
    "                                              method_name=\"backdoor.propensity_score_matching\",\n",
    "                                              target_units=\"atc\")\n",
    "print(causal_estimate_match)\n",
    "print(\"Causal Estimate is \" + str(causal_estimate_match.value))"
   ]
  },
  {
   "cell_type": "code",
   "execution_count": 12,
   "id": "6019e9ad",
   "metadata": {
    "execution": {
     "iopub.execute_input": "2022-07-21T08:44:34.775552Z",
     "iopub.status.busy": "2022-07-21T08:44:34.775129Z",
     "iopub.status.idle": "2022-07-21T08:44:34.803970Z",
     "shell.execute_reply": "2022-07-21T08:44:34.803220Z"
    }
   },
   "outputs": [
    {
     "name": "stdout",
     "output_type": "stream",
     "text": [
      "Increasing the treatment variable(s) [v0] from 0 to 1 causes an increase of 1.0023905582640127 in the expected value of the outcome [y], over the data distribution/population represented by the dataset.\n"
     ]
    }
   ],
   "source": [
    "# Textual Interpreter\n",
    "interpretation = causal_estimate_match.interpret(method_name=\"textual_effect_interpreter\")"
   ]
  },
  {
   "cell_type": "markdown",
   "id": "9356c63f",
   "metadata": {},
   "source": [
    "Cannot use propensity balance interpretor here since the interpreter method only supports propensity score stratification estimator."
   ]
  },
  {
   "cell_type": "markdown",
   "id": "7321eab8",
   "metadata": {},
   "source": [
    "## Method 3: Weighting\n",
    "\n",
    "We will be using (inverse) propensity scores to assign weights to units in the data. DoWhy supports a few different weighting schemes:\n",
    "1. Vanilla Inverse Propensity Score weighting (IPS) (weighting_scheme=\"ips_weight\")\n",
    "2. Self-normalized IPS weighting (also known as the Hajek estimator) (weighting_scheme=\"ips_normalized_weight\")\n",
    "3. Stabilized IPS weighting (weighting_scheme = \"ips_stabilized_weight\")"
   ]
  },
  {
   "cell_type": "code",
   "execution_count": 13,
   "id": "7b5ccac4",
   "metadata": {
    "execution": {
     "iopub.execute_input": "2022-07-21T08:44:34.807647Z",
     "iopub.status.busy": "2022-07-21T08:44:34.807201Z",
     "iopub.status.idle": "2022-07-21T08:44:34.873004Z",
     "shell.execute_reply": "2022-07-21T08:44:34.872330Z"
    }
   },
   "outputs": [
    {
     "name": "stdout",
     "output_type": "stream",
     "text": [
      "propensity_score_weighting\n",
      "*** Causal Estimate ***\n",
      "\n",
      "## Identified estimand\n",
      "Estimand type: nonparametric-ate\n",
      "\n",
      "### Estimand : 1\n",
      "Estimand name: backdoor\n",
      "Estimand expression:\n",
      "  d                       \n",
      "─────(E[y|W4,W1,W0,W2,W3])\n",
      "d[v₀]                     \n",
      "Estimand assumption 1, Unconfoundedness: If U→{v0} and U→y then P(y|v0,W4,W1,W0,W2,W3,U) = P(y|v0,W4,W1,W0,W2,W3)\n",
      "\n",
      "## Realized estimand\n",
      "b: y~v0+W4+W1+W0+W2+W3\n",
      "Target units: ate\n",
      "\n",
      "## Estimate\n",
      "Mean value: 1.0551093652388106\n",
      "\n",
      "Causal Estimate is 1.0551093652388106\n"
     ]
    },
    {
     "name": "stderr",
     "output_type": "stream",
     "text": [
      "/usr/local/lib/python3.8/dist-packages/sklearn/utils/validation.py:993: DataConversionWarning: A column-vector y was passed when a 1d array was expected. Please change the shape of y to (n_samples, ), for example using ravel().\n",
      "  y = column_or_1d(y, warn=True)\n"
     ]
    }
   ],
   "source": [
    "causal_estimate_ipw = model.estimate_effect(identified_estimand,\n",
    "                                            method_name=\"backdoor.propensity_score_weighting\",\n",
    "                                            target_units = \"ate\",\n",
    "                                            method_params={\"weighting_scheme\":\"ips_weight\"})\n",
    "print(causal_estimate_ipw)\n",
    "print(\"Causal Estimate is \" + str(causal_estimate_ipw.value))"
   ]
  },
  {
   "cell_type": "code",
   "execution_count": 14,
   "id": "21cf702c",
   "metadata": {
    "execution": {
     "iopub.execute_input": "2022-07-21T08:44:34.876393Z",
     "iopub.status.busy": "2022-07-21T08:44:34.876160Z",
     "iopub.status.idle": "2022-07-21T08:44:34.904685Z",
     "shell.execute_reply": "2022-07-21T08:44:34.904063Z"
    }
   },
   "outputs": [
    {
     "name": "stdout",
     "output_type": "stream",
     "text": [
      "Increasing the treatment variable(s) [v0] from 0 to 1 causes an increase of 1.0551093652388106 in the expected value of the outcome [y], over the data distribution/population represented by the dataset.\n"
     ]
    }
   ],
   "source": [
    "# Textual Interpreter\n",
    "interpretation = causal_estimate_ipw.interpret(method_name=\"textual_effect_interpreter\")"
   ]
  },
  {
   "cell_type": "code",
   "execution_count": 15,
   "id": "7fe8f6b2",
   "metadata": {
    "execution": {
     "iopub.execute_input": "2022-07-21T08:44:34.907769Z",
     "iopub.status.busy": "2022-07-21T08:44:34.907544Z",
     "iopub.status.idle": "2022-07-21T08:44:35.161247Z",
     "shell.execute_reply": "2022-07-21T08:44:35.160462Z"
    }
   },
   "outputs": [
    {
     "data": {
      "image/png": "[encoded data removed]",
      "text/plain": [
       "<Figure size 576x576 with 2 Axes>"
      ]
     },
     "metadata": {
      "needs_background": "light"
     },
     "output_type": "display_data"
    }
   ],
   "source": [
    "interpretation = causal_estimate_ipw.interpret(method_name=\"confounder_distribution_interpreter\", fig_size=(8,8), font_size=12, var_name='W4', var_type='discrete')"
   ]
  },
  {
   "cell_type": "code",
   "execution_count": null,
   "id": "20900b76",
   "metadata": {},
   "outputs": [],
   "source": []
  }
 ],
 "metadata": {
  "kernelspec": {
   "display_name": "Python 3",
   "language": "python",
   "name": "python3"
  },
  "language_info": {
   "codemirror_mode": {
    "name": "ipython",
    "version": 3
   },
   "file_extension": ".py",
   "mimetype": "text/x-python",
   "name": "python",
   "nbconvert_exporter": "python",
   "pygments_lexer": "ipython3",
   "version": "3.8.10"
  },
  "toc": {
   "base_numbering": 1,
   "nav_menu": {},
   "number_sections": false,
   "sideBar": true,
   "skip_h1_title": true,
   "title_cell": "Table of Contents",
   "title_sidebar": "Contents",
   "toc_cell": false,
   "toc_position": {},
   "toc_section_display": true,
   "toc_window_display": false
  }
 },
 "nbformat": 4,
 "nbformat_minor": 5
}
