{
 "cells": [
  {
   "cell_type": "markdown",
   "id": "bcb6051b",
   "metadata": {},
   "source": [
    "# DoWhy: Interpreters for Causal Estimators\n",
    "\n",
    "This is a quick introduction to the use of interpreters in the DoWhy causal inference library.\n",
    "We will load in a sample dataset, use different methods for estimating the causal effect of a (pre-specified)treatment variable on a (pre-specified) outcome variable and demonstrate how to interpret the obtained results.\n",
    "\n",
    "First, let us add the required path for Python to find the DoWhy code and load all required packages"
   ]
  },
  {
   "cell_type": "code",
   "execution_count": 1,
   "id": "aae7c396",
   "metadata": {
    "execution": {
     "iopub.execute_input": "2022-10-25T14:55:46.387741Z",
     "iopub.status.busy": "2022-10-25T14:55:46.387419Z",
     "iopub.status.idle": "2022-10-25T14:55:46.406957Z",
     "shell.execute_reply": "2022-10-25T14:55:46.406013Z"
    }
   },
   "outputs": [],
   "source": [
    "%load_ext autoreload\n",
    "%autoreload 2"
   ]
  },
  {
   "cell_type": "code",
   "execution_count": 2,
   "id": "ff4ef783",
   "metadata": {
    "execution": {
     "iopub.execute_input": "2022-10-25T14:55:46.411567Z",
     "iopub.status.busy": "2022-10-25T14:55:46.411301Z",
     "iopub.status.idle": "2022-10-25T14:55:48.964617Z",
     "shell.execute_reply": "2022-10-25T14:55:48.963487Z"
    }
   },
   "outputs": [],
   "source": [
    "import numpy as np\n",
    "import pandas as pd\n",
    "import logging\n",
    "\n",
    "import dowhy\n",
    "from dowhy import CausalModel\n",
    "import dowhy.datasets "
   ]
  },
  {
   "cell_type": "markdown",
   "id": "8055e44b",
   "metadata": {},
   "source": [
    "Now, let us load a dataset. For simplicity, we simulate a dataset with linear relationships between common causes and treatment, and common causes and outcome.\n",
    "\n",
    "Beta is the true causal effect."
   ]
  },
  {
   "cell_type": "code",
   "execution_count": 3,
   "id": "79a8de38",
   "metadata": {
    "execution": {
     "iopub.execute_input": "2022-10-25T14:55:48.973072Z",
     "iopub.status.busy": "2022-10-25T14:55:48.971594Z",
     "iopub.status.idle": "2022-10-25T14:55:49.529163Z",
     "shell.execute_reply": "2022-10-25T14:55:49.528268Z"
    }
   },
   "outputs": [
    {
     "name": "stdout",
     "output_type": "stream",
     "text": [
      "7323\n"
     ]
    },
    {
     "data": {
      "text/html": [
       "<div>\n",
       "<style scoped>\n",
       "    .dataframe tbody tr th:only-of-type {\n",
       "        vertical-align: middle;\n",
       "    }\n",
       "\n",
       "    .dataframe tbody tr th {\n",
       "        vertical-align: top;\n",
       "    }\n",
       "\n",
       "    .dataframe thead th {\n",
       "        text-align: right;\n",
       "    }\n",
       "</style>\n",
       "<table border=\"1\" class=\"dataframe\">\n",
       "  <thead>\n",
       "    <tr style=\"text-align: right;\">\n",
       "      <th></th>\n",
       "      <th>Z0</th>\n",
       "      <th>Z1</th>\n",
       "      <th>W0</th>\n",
       "      <th>W1</th>\n",
       "      <th>W2</th>\n",
       "      <th>W3</th>\n",
       "      <th>W4</th>\n",
       "      <th>v0</th>\n",
       "      <th>y</th>\n",
       "    </tr>\n",
       "  </thead>\n",
       "  <tbody>\n",
       "    <tr>\n",
       "      <th>0</th>\n",
       "      <td>0.0</td>\n",
       "      <td>0.310839</td>\n",
       "      <td>-1.277055</td>\n",
       "      <td>-1.204778</td>\n",
       "      <td>-0.039249</td>\n",
       "      <td>0.012055</td>\n",
       "      <td>2</td>\n",
       "      <td>True</td>\n",
       "      <td>-0.215008</td>\n",
       "    </tr>\n",
       "    <tr>\n",
       "      <th>1</th>\n",
       "      <td>0.0</td>\n",
       "      <td>0.660229</td>\n",
       "      <td>-1.389771</td>\n",
       "      <td>-1.091947</td>\n",
       "      <td>1.231137</td>\n",
       "      <td>0.747384</td>\n",
       "      <td>1</td>\n",
       "      <td>False</td>\n",
       "      <td>0.524493</td>\n",
       "    </tr>\n",
       "    <tr>\n",
       "      <th>2</th>\n",
       "      <td>0.0</td>\n",
       "      <td>0.667047</td>\n",
       "      <td>-2.783440</td>\n",
       "      <td>0.012786</td>\n",
       "      <td>1.745436</td>\n",
       "      <td>1.715418</td>\n",
       "      <td>1</td>\n",
       "      <td>True</td>\n",
       "      <td>3.550248</td>\n",
       "    </tr>\n",
       "    <tr>\n",
       "      <th>3</th>\n",
       "      <td>0.0</td>\n",
       "      <td>0.667614</td>\n",
       "      <td>0.362480</td>\n",
       "      <td>-1.380189</td>\n",
       "      <td>0.654926</td>\n",
       "      <td>-0.367549</td>\n",
       "      <td>1</td>\n",
       "      <td>True</td>\n",
       "      <td>0.279112</td>\n",
       "    </tr>\n",
       "    <tr>\n",
       "      <th>4</th>\n",
       "      <td>0.0</td>\n",
       "      <td>0.369602</td>\n",
       "      <td>0.936382</td>\n",
       "      <td>-1.164172</td>\n",
       "      <td>-1.077069</td>\n",
       "      <td>0.842312</td>\n",
       "      <td>3</td>\n",
       "      <td>True</td>\n",
       "      <td>0.584375</td>\n",
       "    </tr>\n",
       "    <tr>\n",
       "      <th>...</th>\n",
       "      <td>...</td>\n",
       "      <td>...</td>\n",
       "      <td>...</td>\n",
       "      <td>...</td>\n",
       "      <td>...</td>\n",
       "      <td>...</td>\n",
       "      <td>...</td>\n",
       "      <td>...</td>\n",
       "      <td>...</td>\n",
       "    </tr>\n",
       "    <tr>\n",
       "      <th>9995</th>\n",
       "      <td>0.0</td>\n",
       "      <td>0.988616</td>\n",
       "      <td>-0.149019</td>\n",
       "      <td>-2.538564</td>\n",
       "      <td>0.897726</td>\n",
       "      <td>-0.865076</td>\n",
       "      <td>2</td>\n",
       "      <td>True</td>\n",
       "      <td>-1.051270</td>\n",
       "    </tr>\n",
       "    <tr>\n",
       "      <th>9996</th>\n",
       "      <td>0.0</td>\n",
       "      <td>0.052111</td>\n",
       "      <td>-1.821817</td>\n",
       "      <td>-1.982725</td>\n",
       "      <td>2.934587</td>\n",
       "      <td>0.794963</td>\n",
       "      <td>1</td>\n",
       "      <td>True</td>\n",
       "      <td>2.198650</td>\n",
       "    </tr>\n",
       "    <tr>\n",
       "      <th>9997</th>\n",
       "      <td>0.0</td>\n",
       "      <td>0.823427</td>\n",
       "      <td>-1.858231</td>\n",
       "      <td>-1.049981</td>\n",
       "      <td>0.284392</td>\n",
       "      <td>-0.311901</td>\n",
       "      <td>3</td>\n",
       "      <td>True</td>\n",
       "      <td>-0.020483</td>\n",
       "    </tr>\n",
       "    <tr>\n",
       "      <th>9998</th>\n",
       "      <td>0.0</td>\n",
       "      <td>0.885377</td>\n",
       "      <td>-1.566211</td>\n",
       "      <td>0.816987</td>\n",
       "      <td>0.383652</td>\n",
       "      <td>1.242472</td>\n",
       "      <td>0</td>\n",
       "      <td>False</td>\n",
       "      <td>1.797946</td>\n",
       "    </tr>\n",
       "    <tr>\n",
       "      <th>9999</th>\n",
       "      <td>0.0</td>\n",
       "      <td>0.090538</td>\n",
       "      <td>-2.308041</td>\n",
       "      <td>-0.518526</td>\n",
       "      <td>0.350703</td>\n",
       "      <td>0.105930</td>\n",
       "      <td>0</td>\n",
       "      <td>True</td>\n",
       "      <td>0.125932</td>\n",
       "    </tr>\n",
       "  </tbody>\n",
       "</table>\n",
       "<p>10000 rows × 9 columns</p>\n",
       "</div>"
      ],
      "text/plain": [
       "       Z0        Z1        W0        W1        W2        W3 W4     v0  \\\n",
       "0     0.0  0.310839 -1.277055 -1.204778 -0.039249  0.012055  2   True   \n",
       "1     0.0  0.660229 -1.389771 -1.091947  1.231137  0.747384  1  False   \n",
       "2     0.0  0.667047 -2.783440  0.012786  1.745436  1.715418  1   True   \n",
       "3     0.0  0.667614  0.362480 -1.380189  0.654926 -0.367549  1   True   \n",
       "4     0.0  0.369602  0.936382 -1.164172 -1.077069  0.842312  3   True   \n",
       "...   ...       ...       ...       ...       ...       ... ..    ...   \n",
       "9995  0.0  0.988616 -0.149019 -2.538564  0.897726 -0.865076  2   True   \n",
       "9996  0.0  0.052111 -1.821817 -1.982725  2.934587  0.794963  1   True   \n",
       "9997  0.0  0.823427 -1.858231 -1.049981  0.284392 -0.311901  3   True   \n",
       "9998  0.0  0.885377 -1.566211  0.816987  0.383652  1.242472  0  False   \n",
       "9999  0.0  0.090538 -2.308041 -0.518526  0.350703  0.105930  0   True   \n",
       "\n",
       "             y  \n",
       "0    -0.215008  \n",
       "1     0.524493  \n",
       "2     3.550248  \n",
       "3     0.279112  \n",
       "4     0.584375  \n",
       "...        ...  \n",
       "9995 -1.051270  \n",
       "9996  2.198650  \n",
       "9997 -0.020483  \n",
       "9998  1.797946  \n",
       "9999  0.125932  \n",
       "\n",
       "[10000 rows x 9 columns]"
      ]
     },
     "execution_count": 3,
     "metadata": {},
     "output_type": "execute_result"
    }
   ],
   "source": [
    "data = dowhy.datasets.linear_dataset(beta=1,\n",
    "        num_common_causes=5, \n",
    "        num_instruments = 2,\n",
    "        num_treatments=1,\n",
    "        num_discrete_common_causes=1,\n",
    "        num_samples=10000,\n",
    "        treatment_is_binary=True,\n",
    "        outcome_is_binary=False)\n",
    "df = data[\"df\"]\n",
    "print(df[df.v0==True].shape[0])\n",
    "df"
   ]
  },
  {
   "cell_type": "markdown",
   "id": "0c5c2a55",
   "metadata": {},
   "source": [
    "Note that we are using a pandas dataframe to load the data."
   ]
  },
  {
   "cell_type": "markdown",
   "id": "215c7c13",
   "metadata": {},
   "source": [
    "## Identifying the causal estimand"
   ]
  },
  {
   "cell_type": "markdown",
   "id": "48d41790",
   "metadata": {},
   "source": [
    "We now input a causal graph in the GML graph format."
   ]
  },
  {
   "cell_type": "code",
   "execution_count": 4,
   "id": "e2ba16dc",
   "metadata": {
    "execution": {
     "iopub.execute_input": "2022-10-25T14:55:49.533364Z",
     "iopub.status.busy": "2022-10-25T14:55:49.532879Z",
     "iopub.status.idle": "2022-10-25T14:55:49.572174Z",
     "shell.execute_reply": "2022-10-25T14:55:49.571259Z"
    }
   },
   "outputs": [],
   "source": [
    "# With graph\n",
    "model=CausalModel(\n",
    "        data = df,\n",
    "        treatment=data[\"treatment_name\"],\n",
    "        outcome=data[\"outcome_name\"],\n",
    "        graph=data[\"gml_graph\"],\n",
    "        instruments=data[\"instrument_names\"]\n",
    "        )"
   ]
  },
  {
   "cell_type": "code",
   "execution_count": 5,
   "id": "a0514eee",
   "metadata": {
    "execution": {
     "iopub.execute_input": "2022-10-25T14:55:49.577431Z",
     "iopub.status.busy": "2022-10-25T14:55:49.577020Z",
     "iopub.status.idle": "2022-10-25T14:55:49.650610Z",
     "shell.execute_reply": "2022-10-25T14:55:49.649619Z"
    }
   },
   "outputs": [],
   "source": [
    "model.view_model()"
   ]
  },
  {
   "cell_type": "code",
   "execution_count": 6,
   "id": "13a733c7",
   "metadata": {
    "execution": {
     "iopub.execute_input": "2022-10-25T14:55:49.655212Z",
     "iopub.status.busy": "2022-10-25T14:55:49.654741Z",
     "iopub.status.idle": "2022-10-25T14:55:49.695953Z",
     "shell.execute_reply": "2022-10-25T14:55:49.694905Z"
    }
   },
   "outputs": [
    {
     "data": {
      "image/png": "[encoded data removed]",
      "text/plain": [
       "<IPython.core.display.Image object>"
      ]
     },
     "metadata": {},
     "output_type": "display_data"
    }
   ],
   "source": [
    "from IPython.display import Image, display\n",
    "display(Image(filename=\"causal_model.png\"))"
   ]
  },
  {
   "cell_type": "markdown",
   "id": "95e25c1f",
   "metadata": {},
   "source": [
    "We get a causal graph. Now identification and estimation is done."
   ]
  },
  {
   "cell_type": "code",
   "execution_count": 7,
   "id": "a10a51b4",
   "metadata": {
    "execution": {
     "iopub.execute_input": "2022-10-25T14:55:49.700859Z",
     "iopub.status.busy": "2022-10-25T14:55:49.700083Z",
     "iopub.status.idle": "2022-10-25T14:55:50.015899Z",
     "shell.execute_reply": "2022-10-25T14:55:50.014851Z"
    }
   },
   "outputs": [
    {
     "name": "stdout",
     "output_type": "stream",
     "text": [
      "Estimand type: EstimandType.NONPARAMETRIC_ATE\n",
      "\n",
      "### Estimand : 1\n",
      "Estimand name: backdoor\n",
      "Estimand expression:\n",
      "  d                       \n",
      "─────(E[y|W0,W2,W1,W4,W3])\n",
      "d[v₀]                     \n",
      "Estimand assumption 1, Unconfoundedness: If U→{v0} and U→y then P(y|v0,W0,W2,W1,W4,W3,U) = P(y|v0,W0,W2,W1,W4,W3)\n",
      "\n",
      "### Estimand : 2\n",
      "Estimand name: iv\n",
      "Estimand expression:\n",
      " ⎡                              -1⎤\n",
      " ⎢    d        ⎛    d          ⎞  ⎥\n",
      "E⎢─────────(y)⋅⎜─────────([v₀])⎟  ⎥\n",
      " ⎣d[Z₁  Z₀]    ⎝d[Z₁  Z₀]      ⎠  ⎦\n",
      "Estimand assumption 1, As-if-random: If U→→y then ¬(U →→{Z1,Z0})\n",
      "Estimand assumption 2, Exclusion: If we remove {Z1,Z0}→{v0}, then ¬({Z1,Z0}→y)\n",
      "\n",
      "### Estimand : 3\n",
      "Estimand name: frontdoor\n",
      "No such variable(s) found!\n",
      "\n"
     ]
    }
   ],
   "source": [
    "identified_estimand = model.identify_effect(proceed_when_unidentifiable=True)\n",
    "print(identified_estimand)"
   ]
  },
  {
   "cell_type": "markdown",
   "id": "993b43e7",
   "metadata": {},
   "source": [
    "## Method 1: Propensity Score Stratification\n",
    "\n",
    "We will be using propensity scores to stratify units in the data."
   ]
  },
  {
   "cell_type": "code",
   "execution_count": 8,
   "id": "a6d0b265",
   "metadata": {
    "execution": {
     "iopub.execute_input": "2022-10-25T14:55:50.020193Z",
     "iopub.status.busy": "2022-10-25T14:55:50.019890Z",
     "iopub.status.idle": "2022-10-25T14:55:51.165776Z",
     "shell.execute_reply": "2022-10-25T14:55:51.164782Z"
    }
   },
   "outputs": [
    {
     "name": "stdout",
     "output_type": "stream",
     "text": [
      "*** Causal Estimate ***\n",
      "\n",
      "## Identified estimand\n",
      "Estimand type: EstimandType.NONPARAMETRIC_ATE\n",
      "\n",
      "### Estimand : 1\n",
      "Estimand name: backdoor\n",
      "Estimand expression:\n",
      "  d                       \n",
      "─────(E[y|W0,W2,W1,W4,W3])\n",
      "d[v₀]                     \n",
      "Estimand assumption 1, Unconfoundedness: If U→{v0} and U→y then P(y|v0,W0,W2,W1,W4,W3,U) = P(y|v0,W0,W2,W1,W4,W3)\n",
      "\n",
      "## Realized estimand\n",
      "b: y~v0+W0+W2+W1+W4+W3\n",
      "Target units: att\n",
      "\n",
      "## Estimate\n",
      "Mean value: 1.0013489306134882\n",
      "\n",
      "Causal Estimate is 1.0013489306134882\n"
     ]
    }
   ],
   "source": [
    "causal_estimate_strat = model.estimate_effect(identified_estimand,\n",
    "                                              method_name=\"backdoor.propensity_score_stratification\",\n",
    "                                              target_units=\"att\")\n",
    "print(causal_estimate_strat)\n",
    "print(\"Causal Estimate is \" + str(causal_estimate_strat.value))"
   ]
  },
  {
   "cell_type": "markdown",
   "id": "d97b36af",
   "metadata": {},
   "source": [
    "### Textual Interpreter\n",
    "\n",
    "The textual Interpreter describes (in words) the effect of unit change in the treatment variable on the outcome variable."
   ]
  },
  {
   "cell_type": "code",
   "execution_count": 9,
   "id": "1d0bb8b4",
   "metadata": {
    "execution": {
     "iopub.execute_input": "2022-10-25T14:55:51.173088Z",
     "iopub.status.busy": "2022-10-25T14:55:51.172576Z",
     "iopub.status.idle": "2022-10-25T14:55:51.211799Z",
     "shell.execute_reply": "2022-10-25T14:55:51.210979Z"
    }
   },
   "outputs": [
    {
     "name": "stdout",
     "output_type": "stream",
     "text": [
      "Increasing the treatment variable(s) [v0] from 0 to 1 causes an increase of 1.0013489306134882 in the expected value of the outcome [y], over the data distribution/population represented by the dataset.\n"
     ]
    }
   ],
   "source": [
    "# Textual Interpreter\n",
    "interpretation = causal_estimate_strat.interpret(method_name=\"textual_effect_interpreter\")"
   ]
  },
  {
   "cell_type": "markdown",
   "id": "8a1704c9",
   "metadata": {},
   "source": [
    "### Visual Interpreter\n",
    "\n",
    "The visual interpreter plots the change in the standardized mean difference (SMD) before and after Propensity Score based adjustment of the dataset. The formula for SMD is given below.\n",
    "\n",
    "\n",
    "$SMD = \\frac{\\bar X_{1} - \\bar X_{2}}{\\sqrt{(S_{1}^{2} + S_{2}^{2})/2}}$\n",
    "\n",
    "Here, $\\bar X_{1}$ and $\\bar X_{2}$ are the sample mean for the treated and control groups.\n"
   ]
  },
  {
   "cell_type": "code",
   "execution_count": 10,
   "id": "92de5bd0",
   "metadata": {
    "execution": {
     "iopub.execute_input": "2022-10-25T14:55:51.215712Z",
     "iopub.status.busy": "2022-10-25T14:55:51.215424Z",
     "iopub.status.idle": "2022-10-25T14:55:52.637617Z",
     "shell.execute_reply": "2022-10-25T14:55:52.636661Z"
    }
   },
   "outputs": [
    {
     "data": {
      "image/png": "[encoded data removed]",
      "text/plain": [
       "<Figure size 640x480 with 1 Axes>"
      ]
     },
     "metadata": {},
     "output_type": "display_data"
    }
   ],
   "source": [
    "# Visual Interpreter\n",
    "interpretation = causal_estimate_strat.interpret(method_name=\"propensity_balance_interpreter\")"
   ]
  },
  {
   "cell_type": "markdown",
   "id": "504bdc23",
   "metadata": {},
   "source": [
    "This plot shows how the SMD decreases from the unadjusted to the stratified units. "
   ]
  },
  {
   "cell_type": "markdown",
   "id": "909105ee",
   "metadata": {},
   "source": [
    "## Method 2: Propensity Score Matching\n",
    "\n",
    "We will be using propensity scores to match units in the data."
   ]
  },
  {
   "cell_type": "code",
   "execution_count": 11,
   "id": "dd10e08b",
   "metadata": {
    "execution": {
     "iopub.execute_input": "2022-10-25T14:55:52.642092Z",
     "iopub.status.busy": "2022-10-25T14:55:52.641344Z",
     "iopub.status.idle": "2022-10-25T14:55:59.411420Z",
     "shell.execute_reply": "2022-10-25T14:55:59.410443Z"
    }
   },
   "outputs": [
    {
     "name": "stdout",
     "output_type": "stream",
     "text": [
      "*** Causal Estimate ***\n",
      "\n",
      "## Identified estimand\n",
      "Estimand type: EstimandType.NONPARAMETRIC_ATE\n",
      "\n",
      "### Estimand : 1\n",
      "Estimand name: backdoor\n",
      "Estimand expression:\n",
      "  d                       \n",
      "─────(E[y|W0,W2,W1,W4,W3])\n",
      "d[v₀]                     \n",
      "Estimand assumption 1, Unconfoundedness: If U→{v0} and U→y then P(y|v0,W0,W2,W1,W4,W3,U) = P(y|v0,W0,W2,W1,W4,W3)\n",
      "\n",
      "## Realized estimand\n",
      "b: y~v0+W0+W2+W1+W4+W3\n",
      "Target units: atc\n",
      "\n",
      "## Estimate\n",
      "Mean value: 0.9791028463875369\n",
      "\n",
      "Causal Estimate is 0.9791028463875369\n"
     ]
    }
   ],
   "source": [
    "causal_estimate_match = model.estimate_effect(identified_estimand,\n",
    "                                              method_name=\"backdoor.propensity_score_matching\",\n",
    "                                              target_units=\"atc\")\n",
    "print(causal_estimate_match)\n",
    "print(\"Causal Estimate is \" + str(causal_estimate_match.value))"
   ]
  },
  {
   "cell_type": "code",
   "execution_count": 12,
   "id": "4085c7ed",
   "metadata": {
    "execution": {
     "iopub.execute_input": "2022-10-25T14:55:59.416858Z",
     "iopub.status.busy": "2022-10-25T14:55:59.416484Z",
     "iopub.status.idle": "2022-10-25T14:55:59.464335Z",
     "shell.execute_reply": "2022-10-25T14:55:59.463237Z"
    }
   },
   "outputs": [
    {
     "name": "stdout",
     "output_type": "stream",
     "text": [
      "Increasing the treatment variable(s) [v0] from 0 to 1 causes an increase of 0.9791028463875369 in the expected value of the outcome [y], over the data distribution/population represented by the dataset.\n"
     ]
    }
   ],
   "source": [
    "# Textual Interpreter\n",
    "interpretation = causal_estimate_match.interpret(method_name=\"textual_effect_interpreter\")"
   ]
  },
  {
   "cell_type": "markdown",
   "id": "85276946",
   "metadata": {},
   "source": [
    "Cannot use propensity balance interpretor here since the interpreter method only supports propensity score stratification estimator."
   ]
  },
  {
   "cell_type": "markdown",
   "id": "1124a4c7",
   "metadata": {},
   "source": [
    "## Method 3: Weighting\n",
    "\n",
    "We will be using (inverse) propensity scores to assign weights to units in the data. DoWhy supports a few different weighting schemes:\n",
    "1. Vanilla Inverse Propensity Score weighting (IPS) (weighting_scheme=\"ips_weight\")\n",
    "2. Self-normalized IPS weighting (also known as the Hajek estimator) (weighting_scheme=\"ips_normalized_weight\")\n",
    "3. Stabilized IPS weighting (weighting_scheme = \"ips_stabilized_weight\")"
   ]
  },
  {
   "cell_type": "code",
   "execution_count": 13,
   "id": "eb10a326",
   "metadata": {
    "execution": {
     "iopub.execute_input": "2022-10-25T14:55:59.471988Z",
     "iopub.status.busy": "2022-10-25T14:55:59.471696Z",
     "iopub.status.idle": "2022-10-25T14:55:59.561004Z",
     "shell.execute_reply": "2022-10-25T14:55:59.560096Z"
    }
   },
   "outputs": [
    {
     "name": "stdout",
     "output_type": "stream",
     "text": [
      "*** Causal Estimate ***\n",
      "\n",
      "## Identified estimand\n",
      "Estimand type: EstimandType.NONPARAMETRIC_ATE\n",
      "\n",
      "### Estimand : 1\n",
      "Estimand name: backdoor\n",
      "Estimand expression:\n",
      "  d                       \n",
      "─────(E[y|W0,W2,W1,W4,W3])\n",
      "d[v₀]                     \n",
      "Estimand assumption 1, Unconfoundedness: If U→{v0} and U→y then P(y|v0,W0,W2,W1,W4,W3,U) = P(y|v0,W0,W2,W1,W4,W3)\n",
      "\n",
      "## Realized estimand\n",
      "b: y~v0+W0+W2+W1+W4+W3\n",
      "Target units: ate\n",
      "\n",
      "## Estimate\n",
      "Mean value: 0.9972612672257359\n",
      "\n",
      "Causal Estimate is 0.9972612672257359\n"
     ]
    }
   ],
   "source": [
    "causal_estimate_ipw = model.estimate_effect(identified_estimand,\n",
    "                                            method_name=\"backdoor.propensity_score_weighting\",\n",
    "                                            target_units = \"ate\",\n",
    "                                            method_params={\"weighting_scheme\":\"ips_weight\"})\n",
    "print(causal_estimate_ipw)\n",
    "print(\"Causal Estimate is \" + str(causal_estimate_ipw.value))"
   ]
  },
  {
   "cell_type": "code",
   "execution_count": 14,
   "id": "c37706d9",
   "metadata": {
    "execution": {
     "iopub.execute_input": "2022-10-25T14:55:59.564948Z",
     "iopub.status.busy": "2022-10-25T14:55:59.564667Z",
     "iopub.status.idle": "2022-10-25T14:55:59.601905Z",
     "shell.execute_reply": "2022-10-25T14:55:59.601052Z"
    }
   },
   "outputs": [
    {
     "name": "stdout",
     "output_type": "stream",
     "text": [
      "Increasing the treatment variable(s) [v0] from 0 to 1 causes an increase of 0.9972612672257359 in the expected value of the outcome [y], over the data distribution/population represented by the dataset.\n"
     ]
    }
   ],
   "source": [
    "# Textual Interpreter\n",
    "interpretation = causal_estimate_ipw.interpret(method_name=\"textual_effect_interpreter\")"
   ]
  },
  {
   "cell_type": "code",
   "execution_count": 15,
   "id": "f1e76cd8",
   "metadata": {
    "execution": {
     "iopub.execute_input": "2022-10-25T14:55:59.606311Z",
     "iopub.status.busy": "2022-10-25T14:55:59.606032Z",
     "iopub.status.idle": "2022-10-25T14:56:00.085843Z",
     "shell.execute_reply": "2022-10-25T14:56:00.084762Z"
    }
   },
   "outputs": [
    {
     "data": {
      "image/png": "[encoded data removed]",
      "text/plain": [
       "<Figure size 800x800 with 2 Axes>"
      ]
     },
     "metadata": {},
     "output_type": "display_data"
    }
   ],
   "source": [
    "interpretation = causal_estimate_ipw.interpret(method_name=\"confounder_distribution_interpreter\", fig_size=(8,8), font_size=12, var_name='W4', var_type='discrete')"
   ]
  },
  {
   "cell_type": "code",
   "execution_count": null,
   "id": "f26eccd7",
   "metadata": {},
   "outputs": [],
   "source": []
  }
 ],
 "metadata": {
  "kernelspec": {
   "display_name": "Python 3",
   "language": "python",
   "name": "python3"
  },
  "language_info": {
   "codemirror_mode": {
    "name": "ipython",
    "version": 3
   },
   "file_extension": ".py",
   "mimetype": "text/x-python",
   "name": "python",
   "nbconvert_exporter": "python",
   "pygments_lexer": "ipython3",
   "version": "3.8.10"
  },
  "toc": {
   "base_numbering": 1,
   "nav_menu": {},
   "number_sections": false,
   "sideBar": true,
   "skip_h1_title": true,
   "title_cell": "Table of Contents",
   "title_sidebar": "Contents",
   "toc_cell": false,
   "toc_position": {},
   "toc_section_display": true,
   "toc_window_display": false
  }
 },
 "nbformat": 4,
 "nbformat_minor": 5
}
