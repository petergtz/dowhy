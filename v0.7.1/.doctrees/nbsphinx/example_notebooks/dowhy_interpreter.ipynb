{
 "cells": [
  {
   "cell_type": "markdown",
   "id": "e176ff8c",
   "metadata": {},
   "source": [
    "# DoWhy: Interpreters for Causal Estimators\n",
    "\n",
    "This is a quick introduction to the use of interpreters in the DoWhy causal inference library.\n",
    "We will load in a sample dataset, use different methods for estimating the causal effect of a (pre-specified)treatment variable on a (pre-specified) outcome variable and demonstrate how to interpret the obtained results.\n",
    "\n",
    "First, let us add the required path for Python to find the DoWhy code and load all required packages"
   ]
  },
  {
   "cell_type": "code",
   "execution_count": 1,
   "id": "30964434",
   "metadata": {
    "execution": {
     "iopub.execute_input": "2022-07-20T22:12:00.238216Z",
     "iopub.status.busy": "2022-07-20T22:12:00.237724Z",
     "iopub.status.idle": "2022-07-20T22:12:00.256220Z",
     "shell.execute_reply": "2022-07-20T22:12:00.255711Z"
    }
   },
   "outputs": [],
   "source": [
    "%load_ext autoreload\n",
    "%autoreload 2"
   ]
  },
  {
   "cell_type": "code",
   "execution_count": 2,
   "id": "67668f16",
   "metadata": {
    "execution": {
     "iopub.execute_input": "2022-07-20T22:12:00.259200Z",
     "iopub.status.busy": "2022-07-20T22:12:00.258945Z",
     "iopub.status.idle": "2022-07-20T22:12:01.447808Z",
     "shell.execute_reply": "2022-07-20T22:12:01.446210Z"
    }
   },
   "outputs": [
    {
     "name": "stdout",
     "output_type": "stream",
     "text": [
      "keywords are unexpanded, not using\n"
     ]
    }
   ],
   "source": [
    "import numpy as np\n",
    "import pandas as pd\n",
    "import logging\n",
    "\n",
    "import dowhy\n",
    "from dowhy import CausalModel\n",
    "import dowhy.datasets "
   ]
  },
  {
   "cell_type": "markdown",
   "id": "9967e980",
   "metadata": {},
   "source": [
    "Now, let us load a dataset. For simplicity, we simulate a dataset with linear relationships between common causes and treatment, and common causes and outcome.\n",
    "\n",
    "Beta is the true causal effect."
   ]
  },
  {
   "cell_type": "code",
   "execution_count": 3,
   "id": "6c5218b4",
   "metadata": {
    "execution": {
     "iopub.execute_input": "2022-07-20T22:12:01.452547Z",
     "iopub.status.busy": "2022-07-20T22:12:01.451882Z",
     "iopub.status.idle": "2022-07-20T22:12:01.804489Z",
     "shell.execute_reply": "2022-07-20T22:12:01.803825Z"
    }
   },
   "outputs": [
    {
     "name": "stdout",
     "output_type": "stream",
     "text": [
      "8346\n"
     ]
    },
    {
     "data": {
      "text/html": [
       "<div>\n",
       "<style scoped>\n",
       "    .dataframe tbody tr th:only-of-type {\n",
       "        vertical-align: middle;\n",
       "    }\n",
       "\n",
       "    .dataframe tbody tr th {\n",
       "        vertical-align: top;\n",
       "    }\n",
       "\n",
       "    .dataframe thead th {\n",
       "        text-align: right;\n",
       "    }\n",
       "</style>\n",
       "<table border=\"1\" class=\"dataframe\">\n",
       "  <thead>\n",
       "    <tr style=\"text-align: right;\">\n",
       "      <th></th>\n",
       "      <th>Z0</th>\n",
       "      <th>Z1</th>\n",
       "      <th>W0</th>\n",
       "      <th>W1</th>\n",
       "      <th>W2</th>\n",
       "      <th>W3</th>\n",
       "      <th>W4</th>\n",
       "      <th>v0</th>\n",
       "      <th>y</th>\n",
       "    </tr>\n",
       "  </thead>\n",
       "  <tbody>\n",
       "    <tr>\n",
       "      <th>0</th>\n",
       "      <td>1.0</td>\n",
       "      <td>0.496809</td>\n",
       "      <td>-0.500880</td>\n",
       "      <td>-0.514472</td>\n",
       "      <td>-0.140787</td>\n",
       "      <td>0.288778</td>\n",
       "      <td>2</td>\n",
       "      <td>True</td>\n",
       "      <td>0.946127</td>\n",
       "    </tr>\n",
       "    <tr>\n",
       "      <th>1</th>\n",
       "      <td>0.0</td>\n",
       "      <td>0.742630</td>\n",
       "      <td>-2.517618</td>\n",
       "      <td>0.027862</td>\n",
       "      <td>-0.260940</td>\n",
       "      <td>2.064609</td>\n",
       "      <td>0</td>\n",
       "      <td>True</td>\n",
       "      <td>-1.192322</td>\n",
       "    </tr>\n",
       "    <tr>\n",
       "      <th>2</th>\n",
       "      <td>0.0</td>\n",
       "      <td>0.000772</td>\n",
       "      <td>-1.251297</td>\n",
       "      <td>-1.067327</td>\n",
       "      <td>0.234250</td>\n",
       "      <td>0.295552</td>\n",
       "      <td>1</td>\n",
       "      <td>False</td>\n",
       "      <td>-0.757509</td>\n",
       "    </tr>\n",
       "    <tr>\n",
       "      <th>3</th>\n",
       "      <td>1.0</td>\n",
       "      <td>0.548246</td>\n",
       "      <td>-1.839377</td>\n",
       "      <td>-0.350553</td>\n",
       "      <td>1.367575</td>\n",
       "      <td>1.089457</td>\n",
       "      <td>2</td>\n",
       "      <td>True</td>\n",
       "      <td>1.369854</td>\n",
       "    </tr>\n",
       "    <tr>\n",
       "      <th>4</th>\n",
       "      <td>1.0</td>\n",
       "      <td>0.384944</td>\n",
       "      <td>-0.295319</td>\n",
       "      <td>-0.553315</td>\n",
       "      <td>0.193913</td>\n",
       "      <td>0.018434</td>\n",
       "      <td>3</td>\n",
       "      <td>True</td>\n",
       "      <td>1.714726</td>\n",
       "    </tr>\n",
       "    <tr>\n",
       "      <th>...</th>\n",
       "      <td>...</td>\n",
       "      <td>...</td>\n",
       "      <td>...</td>\n",
       "      <td>...</td>\n",
       "      <td>...</td>\n",
       "      <td>...</td>\n",
       "      <td>...</td>\n",
       "      <td>...</td>\n",
       "      <td>...</td>\n",
       "    </tr>\n",
       "    <tr>\n",
       "      <th>9995</th>\n",
       "      <td>0.0</td>\n",
       "      <td>0.598953</td>\n",
       "      <td>0.049940</td>\n",
       "      <td>-3.275561</td>\n",
       "      <td>3.543393</td>\n",
       "      <td>1.998792</td>\n",
       "      <td>2</td>\n",
       "      <td>True</td>\n",
       "      <td>5.319682</td>\n",
       "    </tr>\n",
       "    <tr>\n",
       "      <th>9996</th>\n",
       "      <td>1.0</td>\n",
       "      <td>0.843702</td>\n",
       "      <td>1.083044</td>\n",
       "      <td>-0.488778</td>\n",
       "      <td>0.796715</td>\n",
       "      <td>1.597259</td>\n",
       "      <td>3</td>\n",
       "      <td>True</td>\n",
       "      <td>4.102520</td>\n",
       "    </tr>\n",
       "    <tr>\n",
       "      <th>9997</th>\n",
       "      <td>0.0</td>\n",
       "      <td>0.495797</td>\n",
       "      <td>0.890909</td>\n",
       "      <td>-0.813607</td>\n",
       "      <td>2.889223</td>\n",
       "      <td>-1.183463</td>\n",
       "      <td>3</td>\n",
       "      <td>True</td>\n",
       "      <td>5.214806</td>\n",
       "    </tr>\n",
       "    <tr>\n",
       "      <th>9998</th>\n",
       "      <td>0.0</td>\n",
       "      <td>0.255784</td>\n",
       "      <td>-3.171634</td>\n",
       "      <td>-0.956171</td>\n",
       "      <td>1.549487</td>\n",
       "      <td>-0.488097</td>\n",
       "      <td>1</td>\n",
       "      <td>True</td>\n",
       "      <td>-0.550581</td>\n",
       "    </tr>\n",
       "    <tr>\n",
       "      <th>9999</th>\n",
       "      <td>1.0</td>\n",
       "      <td>0.853433</td>\n",
       "      <td>-1.644818</td>\n",
       "      <td>0.464201</td>\n",
       "      <td>0.527226</td>\n",
       "      <td>1.198645</td>\n",
       "      <td>0</td>\n",
       "      <td>True</td>\n",
       "      <td>0.244164</td>\n",
       "    </tr>\n",
       "  </tbody>\n",
       "</table>\n",
       "<p>10000 rows × 9 columns</p>\n",
       "</div>"
      ],
      "text/plain": [
       "       Z0        Z1        W0        W1        W2        W3 W4     v0  \\\n",
       "0     1.0  0.496809 -0.500880 -0.514472 -0.140787  0.288778  2   True   \n",
       "1     0.0  0.742630 -2.517618  0.027862 -0.260940  2.064609  0   True   \n",
       "2     0.0  0.000772 -1.251297 -1.067327  0.234250  0.295552  1  False   \n",
       "3     1.0  0.548246 -1.839377 -0.350553  1.367575  1.089457  2   True   \n",
       "4     1.0  0.384944 -0.295319 -0.553315  0.193913  0.018434  3   True   \n",
       "...   ...       ...       ...       ...       ...       ... ..    ...   \n",
       "9995  0.0  0.598953  0.049940 -3.275561  3.543393  1.998792  2   True   \n",
       "9996  1.0  0.843702  1.083044 -0.488778  0.796715  1.597259  3   True   \n",
       "9997  0.0  0.495797  0.890909 -0.813607  2.889223 -1.183463  3   True   \n",
       "9998  0.0  0.255784 -3.171634 -0.956171  1.549487 -0.488097  1   True   \n",
       "9999  1.0  0.853433 -1.644818  0.464201  0.527226  1.198645  0   True   \n",
       "\n",
       "             y  \n",
       "0     0.946127  \n",
       "1    -1.192322  \n",
       "2    -0.757509  \n",
       "3     1.369854  \n",
       "4     1.714726  \n",
       "...        ...  \n",
       "9995  5.319682  \n",
       "9996  4.102520  \n",
       "9997  5.214806  \n",
       "9998 -0.550581  \n",
       "9999  0.244164  \n",
       "\n",
       "[10000 rows x 9 columns]"
      ]
     },
     "execution_count": 3,
     "metadata": {},
     "output_type": "execute_result"
    }
   ],
   "source": [
    "data = dowhy.datasets.linear_dataset(beta=1,\n",
    "        num_common_causes=5, \n",
    "        num_instruments = 2,\n",
    "        num_treatments=1,\n",
    "        num_discrete_common_causes=1,\n",
    "        num_samples=10000,\n",
    "        treatment_is_binary=True,\n",
    "        outcome_is_binary=False)\n",
    "df = data[\"df\"]\n",
    "print(df[df.v0==True].shape[0])\n",
    "df"
   ]
  },
  {
   "cell_type": "markdown",
   "id": "97fef346",
   "metadata": {},
   "source": [
    "Note that we are using a pandas dataframe to load the data."
   ]
  },
  {
   "cell_type": "markdown",
   "id": "15dc8552",
   "metadata": {},
   "source": [
    "## Identifying the causal estimand"
   ]
  },
  {
   "cell_type": "markdown",
   "id": "b1133c51",
   "metadata": {},
   "source": [
    "We now input a causal graph in the GML graph format."
   ]
  },
  {
   "cell_type": "code",
   "execution_count": 4,
   "id": "696b19f4",
   "metadata": {
    "execution": {
     "iopub.execute_input": "2022-07-20T22:12:01.809792Z",
     "iopub.status.busy": "2022-07-20T22:12:01.808551Z",
     "iopub.status.idle": "2022-07-20T22:12:01.839346Z",
     "shell.execute_reply": "2022-07-20T22:12:01.838764Z"
    }
   },
   "outputs": [],
   "source": [
    "# With graph\n",
    "model=CausalModel(\n",
    "        data = df,\n",
    "        treatment=data[\"treatment_name\"],\n",
    "        outcome=data[\"outcome_name\"],\n",
    "        graph=data[\"gml_graph\"],\n",
    "        instruments=data[\"instrument_names\"]\n",
    "        )"
   ]
  },
  {
   "cell_type": "code",
   "execution_count": 5,
   "id": "45f3aaa9",
   "metadata": {
    "execution": {
     "iopub.execute_input": "2022-07-20T22:12:01.844118Z",
     "iopub.status.busy": "2022-07-20T22:12:01.842896Z",
     "iopub.status.idle": "2022-07-20T22:12:01.917642Z",
     "shell.execute_reply": "2022-07-20T22:12:01.916578Z"
    }
   },
   "outputs": [],
   "source": [
    "model.view_model()"
   ]
  },
  {
   "cell_type": "code",
   "execution_count": 6,
   "id": "0d933a98",
   "metadata": {
    "execution": {
     "iopub.execute_input": "2022-07-20T22:12:01.921117Z",
     "iopub.status.busy": "2022-07-20T22:12:01.920715Z",
     "iopub.status.idle": "2022-07-20T22:12:01.955294Z",
     "shell.execute_reply": "2022-07-20T22:12:01.954694Z"
    }
   },
   "outputs": [
    {
     "data": {
      "image/png": "[encoded data removed]",
      "text/plain": [
       "<IPython.core.display.Image object>"
      ]
     },
     "metadata": {},
     "output_type": "display_data"
    }
   ],
   "source": [
    "from IPython.display import Image, display\n",
    "display(Image(filename=\"causal_model.png\"))"
   ]
  },
  {
   "cell_type": "markdown",
   "id": "a7ba32c5",
   "metadata": {},
   "source": [
    "We get a causal graph. Now identification and estimation is done."
   ]
  },
  {
   "cell_type": "code",
   "execution_count": 7,
   "id": "583788b9",
   "metadata": {
    "execution": {
     "iopub.execute_input": "2022-07-20T22:12:01.960061Z",
     "iopub.status.busy": "2022-07-20T22:12:01.958582Z",
     "iopub.status.idle": "2022-07-20T22:12:02.212537Z",
     "shell.execute_reply": "2022-07-20T22:12:02.211409Z"
    }
   },
   "outputs": [
    {
     "name": "stdout",
     "output_type": "stream",
     "text": [
      "Estimand type: nonparametric-ate\n",
      "\n",
      "### Estimand : 1\n",
      "Estimand name: backdoor\n",
      "Estimand expression:\n",
      "  d                       \n",
      "─────(E[y|W2,W4,W3,W1,W0])\n",
      "d[v₀]                     \n",
      "Estimand assumption 1, Unconfoundedness: If U→{v0} and U→y then P(y|v0,W2,W4,W3,W1,W0,U) = P(y|v0,W2,W4,W3,W1,W0)\n",
      "\n",
      "### Estimand : 2\n",
      "Estimand name: iv\n",
      "Estimand expression:\n",
      " ⎡                              -1⎤\n",
      " ⎢    d        ⎛    d          ⎞  ⎥\n",
      "E⎢─────────(y)⋅⎜─────────([v₀])⎟  ⎥\n",
      " ⎣d[Z₀  Z₁]    ⎝d[Z₀  Z₁]      ⎠  ⎦\n",
      "Estimand assumption 1, As-if-random: If U→→y then ¬(U →→{Z0,Z1})\n",
      "Estimand assumption 2, Exclusion: If we remove {Z0,Z1}→{v0}, then ¬({Z0,Z1}→y)\n",
      "\n",
      "### Estimand : 3\n",
      "Estimand name: frontdoor\n",
      "No such variable(s) found!\n",
      "\n"
     ]
    }
   ],
   "source": [
    "identified_estimand = model.identify_effect(proceed_when_unidentifiable=True)\n",
    "print(identified_estimand)"
   ]
  },
  {
   "cell_type": "markdown",
   "id": "a60ccd41",
   "metadata": {},
   "source": [
    "## Method 1: Propensity Score Stratification\n",
    "\n",
    "We will be using propensity scores to stratify units in the data."
   ]
  },
  {
   "cell_type": "code",
   "execution_count": 8,
   "id": "e227cf9e",
   "metadata": {
    "execution": {
     "iopub.execute_input": "2022-07-20T22:12:02.218556Z",
     "iopub.status.busy": "2022-07-20T22:12:02.218263Z",
     "iopub.status.idle": "2022-07-20T22:12:03.041465Z",
     "shell.execute_reply": "2022-07-20T22:12:03.040349Z"
    }
   },
   "outputs": [
    {
     "name": "stdout",
     "output_type": "stream",
     "text": [
      "propensity_score_stratification\n"
     ]
    },
    {
     "name": "stderr",
     "output_type": "stream",
     "text": [
      "/usr/local/lib/python3.8/dist-packages/sklearn/utils/validation.py:993: DataConversionWarning: A column-vector y was passed when a 1d array was expected. Please change the shape of y to (n_samples, ), for example using ravel().\n",
      "  y = column_or_1d(y, warn=True)\n"
     ]
    },
    {
     "name": "stdout",
     "output_type": "stream",
     "text": [
      "*** Causal Estimate ***\n",
      "\n",
      "## Identified estimand\n",
      "Estimand type: nonparametric-ate\n",
      "\n",
      "### Estimand : 1\n",
      "Estimand name: backdoor\n",
      "Estimand expression:\n",
      "  d                       \n",
      "─────(E[y|W2,W4,W3,W1,W0])\n",
      "d[v₀]                     \n",
      "Estimand assumption 1, Unconfoundedness: If U→{v0} and U→y then P(y|v0,W2,W4,W3,W1,W0,U) = P(y|v0,W2,W4,W3,W1,W0)\n",
      "\n",
      "## Realized estimand\n",
      "b: y~v0+W2+W4+W3+W1+W0\n",
      "Target units: att\n",
      "\n",
      "## Estimate\n",
      "Mean value: 0.998422859198755\n",
      "\n",
      "Causal Estimate is 0.998422859198755\n"
     ]
    }
   ],
   "source": [
    "causal_estimate_strat = model.estimate_effect(identified_estimand,\n",
    "                                              method_name=\"backdoor.propensity_score_stratification\",\n",
    "                                              target_units=\"att\")\n",
    "print(causal_estimate_strat)\n",
    "print(\"Causal Estimate is \" + str(causal_estimate_strat.value))"
   ]
  },
  {
   "cell_type": "markdown",
   "id": "f89eb107",
   "metadata": {},
   "source": [
    "### Textual Interpreter\n",
    "\n",
    "The textual Interpreter describes (in words) the effect of unit change in the treatment variable on the outcome variable."
   ]
  },
  {
   "cell_type": "code",
   "execution_count": 9,
   "id": "1844c4f0",
   "metadata": {
    "execution": {
     "iopub.execute_input": "2022-07-20T22:12:03.048501Z",
     "iopub.status.busy": "2022-07-20T22:12:03.047809Z",
     "iopub.status.idle": "2022-07-20T22:12:03.080185Z",
     "shell.execute_reply": "2022-07-20T22:12:03.079478Z"
    }
   },
   "outputs": [
    {
     "name": "stdout",
     "output_type": "stream",
     "text": [
      "Increasing the treatment variable(s) [v0] from 0 to 1 causes an increase of 0.998422859198755 in the expected value of the outcome [y], over the data distribution/population represented by the dataset.\n"
     ]
    }
   ],
   "source": [
    "# Textual Interpreter\n",
    "interpretation = causal_estimate_strat.interpret(method_name=\"textual_effect_interpreter\")"
   ]
  },
  {
   "cell_type": "markdown",
   "id": "54c0664d",
   "metadata": {},
   "source": [
    "### Visual Interpreter\n",
    "\n",
    "The visual interpreter plots the change in the standardized mean difference (SMD) before and after Propensity Score based adjustment of the dataset. The formula for SMD is given below.\n",
    "\n",
    "\n",
    "$SMD = \\frac{\\bar X_{1} - \\bar X_{2}}{\\sqrt{(S_{1}^{2} + S_{2}^{2})/2}}$\n",
    "\n",
    "Here, $\\bar X_{1}$ and $\\bar X_{2}$ are the sample mean for the treated and control groups.\n"
   ]
  },
  {
   "cell_type": "code",
   "execution_count": 10,
   "id": "e4be27b4",
   "metadata": {
    "execution": {
     "iopub.execute_input": "2022-07-20T22:12:03.083623Z",
     "iopub.status.busy": "2022-07-20T22:12:03.083339Z",
     "iopub.status.idle": "2022-07-20T22:12:04.485024Z",
     "shell.execute_reply": "2022-07-20T22:12:04.484242Z"
    }
   },
   "outputs": [
    {
     "data": {
      "image/png": "[encoded data removed]",
      "text/plain": [
       "<Figure size 432x288 with 1 Axes>"
      ]
     },
     "metadata": {
      "needs_background": "light"
     },
     "output_type": "display_data"
    }
   ],
   "source": [
    "# Visual Interpreter\n",
    "interpretation = causal_estimate_strat.interpret(method_name=\"propensity_balance_interpreter\")"
   ]
  },
  {
   "cell_type": "markdown",
   "id": "486432a9",
   "metadata": {},
   "source": [
    "This plot shows how the SMD decreases from the unadjusted to the stratified units. "
   ]
  },
  {
   "cell_type": "markdown",
   "id": "664f4791",
   "metadata": {},
   "source": [
    "## Method 2: Propensity Score Matching\n",
    "\n",
    "We will be using propensity scores to match units in the data."
   ]
  },
  {
   "cell_type": "code",
   "execution_count": 11,
   "id": "6bf5f3d3",
   "metadata": {
    "execution": {
     "iopub.execute_input": "2022-07-20T22:12:04.489416Z",
     "iopub.status.busy": "2022-07-20T22:12:04.488622Z",
     "iopub.status.idle": "2022-07-20T22:12:09.139270Z",
     "shell.execute_reply": "2022-07-20T22:12:09.137987Z"
    }
   },
   "outputs": [
    {
     "name": "stdout",
     "output_type": "stream",
     "text": [
      "propensity_score_matching\n"
     ]
    },
    {
     "name": "stderr",
     "output_type": "stream",
     "text": [
      "/usr/local/lib/python3.8/dist-packages/sklearn/utils/validation.py:993: DataConversionWarning: A column-vector y was passed when a 1d array was expected. Please change the shape of y to (n_samples, ), for example using ravel().\n",
      "  y = column_or_1d(y, warn=True)\n"
     ]
    },
    {
     "name": "stdout",
     "output_type": "stream",
     "text": [
      "*** Causal Estimate ***\n",
      "\n",
      "## Identified estimand\n",
      "Estimand type: nonparametric-ate\n",
      "\n",
      "### Estimand : 1\n",
      "Estimand name: backdoor\n",
      "Estimand expression:\n",
      "  d                       \n",
      "─────(E[y|W2,W4,W3,W1,W0])\n",
      "d[v₀]                     \n",
      "Estimand assumption 1, Unconfoundedness: If U→{v0} and U→y then P(y|v0,W2,W4,W3,W1,W0,U) = P(y|v0,W2,W4,W3,W1,W0)\n",
      "\n",
      "## Realized estimand\n",
      "b: y~v0+W2+W4+W3+W1+W0\n",
      "Target units: atc\n",
      "\n",
      "## Estimate\n",
      "Mean value: 0.9698322101028172\n",
      "\n",
      "Causal Estimate is 0.9698322101028172\n"
     ]
    }
   ],
   "source": [
    "causal_estimate_match = model.estimate_effect(identified_estimand,\n",
    "                                              method_name=\"backdoor.propensity_score_matching\",\n",
    "                                              target_units=\"atc\")\n",
    "print(causal_estimate_match)\n",
    "print(\"Causal Estimate is \" + str(causal_estimate_match.value))"
   ]
  },
  {
   "cell_type": "code",
   "execution_count": 12,
   "id": "77662d59",
   "metadata": {
    "execution": {
     "iopub.execute_input": "2022-07-20T22:12:09.143770Z",
     "iopub.status.busy": "2022-07-20T22:12:09.143145Z",
     "iopub.status.idle": "2022-07-20T22:12:09.175977Z",
     "shell.execute_reply": "2022-07-20T22:12:09.175160Z"
    }
   },
   "outputs": [
    {
     "name": "stdout",
     "output_type": "stream",
     "text": [
      "Increasing the treatment variable(s) [v0] from 0 to 1 causes an increase of 0.9698322101028172 in the expected value of the outcome [y], over the data distribution/population represented by the dataset.\n"
     ]
    }
   ],
   "source": [
    "# Textual Interpreter\n",
    "interpretation = causal_estimate_match.interpret(method_name=\"textual_effect_interpreter\")"
   ]
  },
  {
   "cell_type": "markdown",
   "id": "478fa72e",
   "metadata": {},
   "source": [
    "Cannot use propensity balance interpretor here since the interpreter method only supports propensity score stratification estimator."
   ]
  },
  {
   "cell_type": "markdown",
   "id": "7823f4c5",
   "metadata": {},
   "source": [
    "## Method 3: Weighting\n",
    "\n",
    "We will be using (inverse) propensity scores to assign weights to units in the data. DoWhy supports a few different weighting schemes:\n",
    "1. Vanilla Inverse Propensity Score weighting (IPS) (weighting_scheme=\"ips_weight\")\n",
    "2. Self-normalized IPS weighting (also known as the Hajek estimator) (weighting_scheme=\"ips_normalized_weight\")\n",
    "3. Stabilized IPS weighting (weighting_scheme = \"ips_stabilized_weight\")"
   ]
  },
  {
   "cell_type": "code",
   "execution_count": 13,
   "id": "62ecb617",
   "metadata": {
    "execution": {
     "iopub.execute_input": "2022-07-20T22:12:09.179356Z",
     "iopub.status.busy": "2022-07-20T22:12:09.178908Z",
     "iopub.status.idle": "2022-07-20T22:12:09.252543Z",
     "shell.execute_reply": "2022-07-20T22:12:09.251730Z"
    }
   },
   "outputs": [
    {
     "name": "stdout",
     "output_type": "stream",
     "text": [
      "propensity_score_weighting\n",
      "*** Causal Estimate ***\n",
      "\n",
      "## Identified estimand\n",
      "Estimand type: nonparametric-ate\n",
      "\n",
      "### Estimand : 1\n",
      "Estimand name: backdoor\n",
      "Estimand expression:\n",
      "  d                       \n",
      "─────(E[y|W2,W4,W3,W1,W0])\n",
      "d[v₀]                     \n",
      "Estimand assumption 1, Unconfoundedness: If U→{v0} and U→y then P(y|v0,W2,W4,W3,W1,W0,U) = P(y|v0,W2,W4,W3,W1,W0)\n",
      "\n",
      "## Realized estimand\n",
      "b: y~v0+W2+W4+W3+W1+W0\n",
      "Target units: ate\n",
      "\n",
      "## Estimate\n",
      "Mean value: 1.1535306500016083\n",
      "\n",
      "Causal Estimate is 1.1535306500016083\n"
     ]
    },
    {
     "name": "stderr",
     "output_type": "stream",
     "text": [
      "/usr/local/lib/python3.8/dist-packages/sklearn/utils/validation.py:993: DataConversionWarning: A column-vector y was passed when a 1d array was expected. Please change the shape of y to (n_samples, ), for example using ravel().\n",
      "  y = column_or_1d(y, warn=True)\n"
     ]
    }
   ],
   "source": [
    "causal_estimate_ipw = model.estimate_effect(identified_estimand,\n",
    "                                            method_name=\"backdoor.propensity_score_weighting\",\n",
    "                                            target_units = \"ate\",\n",
    "                                            method_params={\"weighting_scheme\":\"ips_weight\"})\n",
    "print(causal_estimate_ipw)\n",
    "print(\"Causal Estimate is \" + str(causal_estimate_ipw.value))"
   ]
  },
  {
   "cell_type": "code",
   "execution_count": 14,
   "id": "259f686b",
   "metadata": {
    "execution": {
     "iopub.execute_input": "2022-07-20T22:12:09.256229Z",
     "iopub.status.busy": "2022-07-20T22:12:09.255743Z",
     "iopub.status.idle": "2022-07-20T22:12:09.286463Z",
     "shell.execute_reply": "2022-07-20T22:12:09.285738Z"
    }
   },
   "outputs": [
    {
     "name": "stdout",
     "output_type": "stream",
     "text": [
      "Increasing the treatment variable(s) [v0] from 0 to 1 causes an increase of 1.1535306500016083 in the expected value of the outcome [y], over the data distribution/population represented by the dataset.\n"
     ]
    }
   ],
   "source": [
    "# Textual Interpreter\n",
    "interpretation = causal_estimate_ipw.interpret(method_name=\"textual_effect_interpreter\")"
   ]
  },
  {
   "cell_type": "code",
   "execution_count": 15,
   "id": "eaa2613e",
   "metadata": {
    "execution": {
     "iopub.execute_input": "2022-07-20T22:12:09.289602Z",
     "iopub.status.busy": "2022-07-20T22:12:09.289133Z",
     "iopub.status.idle": "2022-07-20T22:12:09.551930Z",
     "shell.execute_reply": "2022-07-20T22:12:09.551285Z"
    }
   },
   "outputs": [
    {
     "data": {
      "image/png": "[encoded data removed]",
      "text/plain": [
       "<Figure size 576x576 with 2 Axes>"
      ]
     },
     "metadata": {
      "needs_background": "light"
     },
     "output_type": "display_data"
    }
   ],
   "source": [
    "interpretation = causal_estimate_ipw.interpret(method_name=\"confounder_distribution_interpreter\", fig_size=(8,8), font_size=12, var_name='W4', var_type='discrete')"
   ]
  },
  {
   "cell_type": "code",
   "execution_count": null,
   "id": "9c422b53",
   "metadata": {},
   "outputs": [],
   "source": []
  }
 ],
 "metadata": {
  "kernelspec": {
   "display_name": "Python 3",
   "language": "python",
   "name": "python3"
  },
  "language_info": {
   "codemirror_mode": {
    "name": "ipython",
    "version": 3
   },
   "file_extension": ".py",
   "mimetype": "text/x-python",
   "name": "python",
   "nbconvert_exporter": "python",
   "pygments_lexer": "ipython3",
   "version": "3.8.10"
  },
  "toc": {
   "base_numbering": 1,
   "nav_menu": {},
   "number_sections": false,
   "sideBar": true,
   "skip_h1_title": true,
   "title_cell": "Table of Contents",
   "title_sidebar": "Contents",
   "toc_cell": false,
   "toc_position": {},
   "toc_section_display": true,
   "toc_window_display": false
  }
 },
 "nbformat": 4,
 "nbformat_minor": 5
}
