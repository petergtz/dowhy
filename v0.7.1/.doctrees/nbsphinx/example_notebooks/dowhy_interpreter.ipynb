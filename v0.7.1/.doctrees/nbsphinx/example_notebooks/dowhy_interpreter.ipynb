{
 "cells": [
  {
   "cell_type": "markdown",
   "id": "89d85c5d",
   "metadata": {},
   "source": [
    "# DoWhy: Interpreters for Causal Estimators\n",
    "\n",
    "This is a quick introduction to the use of interpreters in the DoWhy causal inference library.\n",
    "We will load in a sample dataset, use different methods for estimating the causal effect of a (pre-specified)treatment variable on a (pre-specified) outcome variable and demonstrate how to interpret the obtained results.\n",
    "\n",
    "First, let us add the required path for Python to find the DoWhy code and load all required packages"
   ]
  },
  {
   "cell_type": "code",
   "execution_count": 1,
   "id": "4dd4293d",
   "metadata": {
    "execution": {
     "iopub.execute_input": "2022-10-17T14:59:05.576430Z",
     "iopub.status.busy": "2022-10-17T14:59:05.576065Z",
     "iopub.status.idle": "2022-10-17T14:59:05.595777Z",
     "shell.execute_reply": "2022-10-17T14:59:05.594818Z"
    }
   },
   "outputs": [],
   "source": [
    "%load_ext autoreload\n",
    "%autoreload 2"
   ]
  },
  {
   "cell_type": "code",
   "execution_count": 2,
   "id": "0584db88",
   "metadata": {
    "execution": {
     "iopub.execute_input": "2022-10-17T14:59:05.600622Z",
     "iopub.status.busy": "2022-10-17T14:59:05.599835Z",
     "iopub.status.idle": "2022-10-17T14:59:08.031771Z",
     "shell.execute_reply": "2022-10-17T14:59:08.030675Z"
    }
   },
   "outputs": [],
   "source": [
    "import numpy as np\n",
    "import pandas as pd\n",
    "import logging\n",
    "\n",
    "import dowhy\n",
    "from dowhy import CausalModel\n",
    "import dowhy.datasets "
   ]
  },
  {
   "cell_type": "markdown",
   "id": "186ea781",
   "metadata": {},
   "source": [
    "Now, let us load a dataset. For simplicity, we simulate a dataset with linear relationships between common causes and treatment, and common causes and outcome.\n",
    "\n",
    "Beta is the true causal effect."
   ]
  },
  {
   "cell_type": "code",
   "execution_count": 3,
   "id": "ead2941f",
   "metadata": {
    "execution": {
     "iopub.execute_input": "2022-10-17T14:59:08.036792Z",
     "iopub.status.busy": "2022-10-17T14:59:08.035965Z",
     "iopub.status.idle": "2022-10-17T14:59:08.396540Z",
     "shell.execute_reply": "2022-10-17T14:59:08.395751Z"
    }
   },
   "outputs": [
    {
     "name": "stdout",
     "output_type": "stream",
     "text": [
      "7664\n"
     ]
    },
    {
     "data": {
      "text/html": [
       "<div>\n",
       "<style scoped>\n",
       "    .dataframe tbody tr th:only-of-type {\n",
       "        vertical-align: middle;\n",
       "    }\n",
       "\n",
       "    .dataframe tbody tr th {\n",
       "        vertical-align: top;\n",
       "    }\n",
       "\n",
       "    .dataframe thead th {\n",
       "        text-align: right;\n",
       "    }\n",
       "</style>\n",
       "<table border=\"1\" class=\"dataframe\">\n",
       "  <thead>\n",
       "    <tr style=\"text-align: right;\">\n",
       "      <th></th>\n",
       "      <th>Z0</th>\n",
       "      <th>Z1</th>\n",
       "      <th>W0</th>\n",
       "      <th>W1</th>\n",
       "      <th>W2</th>\n",
       "      <th>W3</th>\n",
       "      <th>W4</th>\n",
       "      <th>v0</th>\n",
       "      <th>y</th>\n",
       "    </tr>\n",
       "  </thead>\n",
       "  <tbody>\n",
       "    <tr>\n",
       "      <th>0</th>\n",
       "      <td>0.0</td>\n",
       "      <td>0.228683</td>\n",
       "      <td>-0.694325</td>\n",
       "      <td>-0.456550</td>\n",
       "      <td>-0.294118</td>\n",
       "      <td>0.202535</td>\n",
       "      <td>1</td>\n",
       "      <td>True</td>\n",
       "      <td>1.188244</td>\n",
       "    </tr>\n",
       "    <tr>\n",
       "      <th>1</th>\n",
       "      <td>0.0</td>\n",
       "      <td>0.580902</td>\n",
       "      <td>0.804006</td>\n",
       "      <td>-1.601649</td>\n",
       "      <td>-0.298958</td>\n",
       "      <td>0.795904</td>\n",
       "      <td>1</td>\n",
       "      <td>True</td>\n",
       "      <td>2.275798</td>\n",
       "    </tr>\n",
       "    <tr>\n",
       "      <th>2</th>\n",
       "      <td>0.0</td>\n",
       "      <td>0.769420</td>\n",
       "      <td>1.210118</td>\n",
       "      <td>-1.059771</td>\n",
       "      <td>0.717003</td>\n",
       "      <td>1.708874</td>\n",
       "      <td>0</td>\n",
       "      <td>True</td>\n",
       "      <td>3.072388</td>\n",
       "    </tr>\n",
       "    <tr>\n",
       "      <th>3</th>\n",
       "      <td>0.0</td>\n",
       "      <td>0.905857</td>\n",
       "      <td>0.221053</td>\n",
       "      <td>-1.377401</td>\n",
       "      <td>-1.679437</td>\n",
       "      <td>0.304138</td>\n",
       "      <td>2</td>\n",
       "      <td>False</td>\n",
       "      <td>0.918204</td>\n",
       "    </tr>\n",
       "    <tr>\n",
       "      <th>4</th>\n",
       "      <td>0.0</td>\n",
       "      <td>0.897811</td>\n",
       "      <td>1.034289</td>\n",
       "      <td>-0.554236</td>\n",
       "      <td>-0.312552</td>\n",
       "      <td>0.821199</td>\n",
       "      <td>0</td>\n",
       "      <td>True</td>\n",
       "      <td>2.172223</td>\n",
       "    </tr>\n",
       "    <tr>\n",
       "      <th>...</th>\n",
       "      <td>...</td>\n",
       "      <td>...</td>\n",
       "      <td>...</td>\n",
       "      <td>...</td>\n",
       "      <td>...</td>\n",
       "      <td>...</td>\n",
       "      <td>...</td>\n",
       "      <td>...</td>\n",
       "      <td>...</td>\n",
       "    </tr>\n",
       "    <tr>\n",
       "      <th>9995</th>\n",
       "      <td>0.0</td>\n",
       "      <td>0.956093</td>\n",
       "      <td>1.113171</td>\n",
       "      <td>-0.249764</td>\n",
       "      <td>-0.043883</td>\n",
       "      <td>-1.345389</td>\n",
       "      <td>0</td>\n",
       "      <td>True</td>\n",
       "      <td>0.294128</td>\n",
       "    </tr>\n",
       "    <tr>\n",
       "      <th>9996</th>\n",
       "      <td>0.0</td>\n",
       "      <td>0.793263</td>\n",
       "      <td>0.061087</td>\n",
       "      <td>-1.221735</td>\n",
       "      <td>-1.175395</td>\n",
       "      <td>0.497994</td>\n",
       "      <td>2</td>\n",
       "      <td>True</td>\n",
       "      <td>2.129577</td>\n",
       "    </tr>\n",
       "    <tr>\n",
       "      <th>9997</th>\n",
       "      <td>0.0</td>\n",
       "      <td>0.282509</td>\n",
       "      <td>0.595732</td>\n",
       "      <td>-2.215659</td>\n",
       "      <td>-1.322343</td>\n",
       "      <td>1.152506</td>\n",
       "      <td>2</td>\n",
       "      <td>True</td>\n",
       "      <td>2.747872</td>\n",
       "    </tr>\n",
       "    <tr>\n",
       "      <th>9998</th>\n",
       "      <td>0.0</td>\n",
       "      <td>0.090437</td>\n",
       "      <td>-0.363009</td>\n",
       "      <td>-1.214437</td>\n",
       "      <td>1.896512</td>\n",
       "      <td>0.631030</td>\n",
       "      <td>0</td>\n",
       "      <td>True</td>\n",
       "      <td>1.303694</td>\n",
       "    </tr>\n",
       "    <tr>\n",
       "      <th>9999</th>\n",
       "      <td>1.0</td>\n",
       "      <td>0.202680</td>\n",
       "      <td>0.453659</td>\n",
       "      <td>0.926204</td>\n",
       "      <td>0.055023</td>\n",
       "      <td>-1.502203</td>\n",
       "      <td>2</td>\n",
       "      <td>True</td>\n",
       "      <td>1.118157</td>\n",
       "    </tr>\n",
       "  </tbody>\n",
       "</table>\n",
       "<p>10000 rows × 9 columns</p>\n",
       "</div>"
      ],
      "text/plain": [
       "       Z0        Z1        W0        W1        W2        W3 W4     v0  \\\n",
       "0     0.0  0.228683 -0.694325 -0.456550 -0.294118  0.202535  1   True   \n",
       "1     0.0  0.580902  0.804006 -1.601649 -0.298958  0.795904  1   True   \n",
       "2     0.0  0.769420  1.210118 -1.059771  0.717003  1.708874  0   True   \n",
       "3     0.0  0.905857  0.221053 -1.377401 -1.679437  0.304138  2  False   \n",
       "4     0.0  0.897811  1.034289 -0.554236 -0.312552  0.821199  0   True   \n",
       "...   ...       ...       ...       ...       ...       ... ..    ...   \n",
       "9995  0.0  0.956093  1.113171 -0.249764 -0.043883 -1.345389  0   True   \n",
       "9996  0.0  0.793263  0.061087 -1.221735 -1.175395  0.497994  2   True   \n",
       "9997  0.0  0.282509  0.595732 -2.215659 -1.322343  1.152506  2   True   \n",
       "9998  0.0  0.090437 -0.363009 -1.214437  1.896512  0.631030  0   True   \n",
       "9999  1.0  0.202680  0.453659  0.926204  0.055023 -1.502203  2   True   \n",
       "\n",
       "             y  \n",
       "0     1.188244  \n",
       "1     2.275798  \n",
       "2     3.072388  \n",
       "3     0.918204  \n",
       "4     2.172223  \n",
       "...        ...  \n",
       "9995  0.294128  \n",
       "9996  2.129577  \n",
       "9997  2.747872  \n",
       "9998  1.303694  \n",
       "9999  1.118157  \n",
       "\n",
       "[10000 rows x 9 columns]"
      ]
     },
     "execution_count": 3,
     "metadata": {},
     "output_type": "execute_result"
    }
   ],
   "source": [
    "data = dowhy.datasets.linear_dataset(beta=1,\n",
    "        num_common_causes=5, \n",
    "        num_instruments = 2,\n",
    "        num_treatments=1,\n",
    "        num_discrete_common_causes=1,\n",
    "        num_samples=10000,\n",
    "        treatment_is_binary=True,\n",
    "        outcome_is_binary=False)\n",
    "df = data[\"df\"]\n",
    "print(df[df.v0==True].shape[0])\n",
    "df"
   ]
  },
  {
   "cell_type": "markdown",
   "id": "bb029ea4",
   "metadata": {},
   "source": [
    "Note that we are using a pandas dataframe to load the data."
   ]
  },
  {
   "cell_type": "markdown",
   "id": "fa39bfd4",
   "metadata": {},
   "source": [
    "## Identifying the causal estimand"
   ]
  },
  {
   "cell_type": "markdown",
   "id": "92043923",
   "metadata": {},
   "source": [
    "We now input a causal graph in the GML graph format."
   ]
  },
  {
   "cell_type": "code",
   "execution_count": 4,
   "id": "68c037e0",
   "metadata": {
    "execution": {
     "iopub.execute_input": "2022-10-17T14:59:08.400740Z",
     "iopub.status.busy": "2022-10-17T14:59:08.400269Z",
     "iopub.status.idle": "2022-10-17T14:59:08.438226Z",
     "shell.execute_reply": "2022-10-17T14:59:08.437386Z"
    }
   },
   "outputs": [],
   "source": [
    "# With graph\n",
    "model=CausalModel(\n",
    "        data = df,\n",
    "        treatment=data[\"treatment_name\"],\n",
    "        outcome=data[\"outcome_name\"],\n",
    "        graph=data[\"gml_graph\"],\n",
    "        instruments=data[\"instrument_names\"]\n",
    "        )"
   ]
  },
  {
   "cell_type": "code",
   "execution_count": 5,
   "id": "be089939",
   "metadata": {
    "execution": {
     "iopub.execute_input": "2022-10-17T14:59:08.442095Z",
     "iopub.status.busy": "2022-10-17T14:59:08.441784Z",
     "iopub.status.idle": "2022-10-17T14:59:08.517174Z",
     "shell.execute_reply": "2022-10-17T14:59:08.515972Z"
    }
   },
   "outputs": [],
   "source": [
    "model.view_model()"
   ]
  },
  {
   "cell_type": "code",
   "execution_count": 6,
   "id": "2f7e0d4d",
   "metadata": {
    "execution": {
     "iopub.execute_input": "2022-10-17T14:59:08.521614Z",
     "iopub.status.busy": "2022-10-17T14:59:08.521298Z",
     "iopub.status.idle": "2022-10-17T14:59:08.561552Z",
     "shell.execute_reply": "2022-10-17T14:59:08.560362Z"
    }
   },
   "outputs": [
    {
     "data": {
      "image/png": "[encoded data removed]",
      "text/plain": [
       "<IPython.core.display.Image object>"
      ]
     },
     "metadata": {},
     "output_type": "display_data"
    }
   ],
   "source": [
    "from IPython.display import Image, display\n",
    "display(Image(filename=\"causal_model.png\"))"
   ]
  },
  {
   "cell_type": "markdown",
   "id": "320d7448",
   "metadata": {},
   "source": [
    "We get a causal graph. Now identification and estimation is done."
   ]
  },
  {
   "cell_type": "code",
   "execution_count": 7,
   "id": "d54e8399",
   "metadata": {
    "execution": {
     "iopub.execute_input": "2022-10-17T14:59:08.566329Z",
     "iopub.status.busy": "2022-10-17T14:59:08.565968Z",
     "iopub.status.idle": "2022-10-17T14:59:08.853936Z",
     "shell.execute_reply": "2022-10-17T14:59:08.852817Z"
    }
   },
   "outputs": [
    {
     "name": "stdout",
     "output_type": "stream",
     "text": [
      "Estimand type: EstimandType.NONPARAMETRIC_ATE\n",
      "\n",
      "### Estimand : 1\n",
      "Estimand name: backdoor\n",
      "Estimand expression:\n",
      "  d                       \n",
      "─────(E[y|W1,W4,W0,W3,W2])\n",
      "d[v₀]                     \n",
      "Estimand assumption 1, Unconfoundedness: If U→{v0} and U→y then P(y|v0,W1,W4,W0,W3,W2,U) = P(y|v0,W1,W4,W0,W3,W2)\n",
      "\n",
      "### Estimand : 2\n",
      "Estimand name: iv\n",
      "Estimand expression:\n",
      " ⎡                              -1⎤\n",
      " ⎢    d        ⎛    d          ⎞  ⎥\n",
      "E⎢─────────(y)⋅⎜─────────([v₀])⎟  ⎥\n",
      " ⎣d[Z₀  Z₁]    ⎝d[Z₀  Z₁]      ⎠  ⎦\n",
      "Estimand assumption 1, As-if-random: If U→→y then ¬(U →→{Z0,Z1})\n",
      "Estimand assumption 2, Exclusion: If we remove {Z0,Z1}→{v0}, then ¬({Z0,Z1}→y)\n",
      "\n",
      "### Estimand : 3\n",
      "Estimand name: frontdoor\n",
      "No such variable(s) found!\n",
      "\n"
     ]
    }
   ],
   "source": [
    "identified_estimand = model.identify_effect(proceed_when_unidentifiable=True)\n",
    "print(identified_estimand)"
   ]
  },
  {
   "cell_type": "markdown",
   "id": "7e2e7141",
   "metadata": {},
   "source": [
    "## Method 1: Propensity Score Stratification\n",
    "\n",
    "We will be using propensity scores to stratify units in the data."
   ]
  },
  {
   "cell_type": "code",
   "execution_count": 8,
   "id": "ed1b8654",
   "metadata": {
    "execution": {
     "iopub.execute_input": "2022-10-17T14:59:08.858454Z",
     "iopub.status.busy": "2022-10-17T14:59:08.857926Z",
     "iopub.status.idle": "2022-10-17T14:59:09.711761Z",
     "shell.execute_reply": "2022-10-17T14:59:09.711079Z"
    }
   },
   "outputs": [
    {
     "name": "stdout",
     "output_type": "stream",
     "text": [
      "*** Causal Estimate ***\n",
      "\n",
      "## Identified estimand\n",
      "Estimand type: EstimandType.NONPARAMETRIC_ATE\n",
      "\n",
      "### Estimand : 1\n",
      "Estimand name: backdoor\n",
      "Estimand expression:\n",
      "  d                       \n",
      "─────(E[y|W1,W4,W0,W3,W2])\n",
      "d[v₀]                     \n",
      "Estimand assumption 1, Unconfoundedness: If U→{v0} and U→y then P(y|v0,W1,W4,W0,W3,W2,U) = P(y|v0,W1,W4,W0,W3,W2)\n",
      "\n",
      "## Realized estimand\n",
      "b: y~v0+W1+W4+W0+W3+W2\n",
      "Target units: att\n",
      "\n",
      "## Estimate\n",
      "Mean value: 1.0087957574224056\n",
      "\n",
      "Causal Estimate is 1.0087957574224056\n"
     ]
    }
   ],
   "source": [
    "causal_estimate_strat = model.estimate_effect(identified_estimand,\n",
    "                                              method_name=\"backdoor.propensity_score_stratification\",\n",
    "                                              target_units=\"att\")\n",
    "print(causal_estimate_strat)\n",
    "print(\"Causal Estimate is \" + str(causal_estimate_strat.value))"
   ]
  },
  {
   "cell_type": "markdown",
   "id": "aa64252e",
   "metadata": {},
   "source": [
    "### Textual Interpreter\n",
    "\n",
    "The textual Interpreter describes (in words) the effect of unit change in the treatment variable on the outcome variable."
   ]
  },
  {
   "cell_type": "code",
   "execution_count": 9,
   "id": "9a2a1710",
   "metadata": {
    "execution": {
     "iopub.execute_input": "2022-10-17T14:59:09.716015Z",
     "iopub.status.busy": "2022-10-17T14:59:09.715191Z",
     "iopub.status.idle": "2022-10-17T14:59:09.755229Z",
     "shell.execute_reply": "2022-10-17T14:59:09.754222Z"
    }
   },
   "outputs": [
    {
     "name": "stdout",
     "output_type": "stream",
     "text": [
      "Increasing the treatment variable(s) [v0] from 0 to 1 causes an increase of 1.0087957574224056 in the expected value of the outcome [y], over the data distribution/population represented by the dataset.\n"
     ]
    }
   ],
   "source": [
    "# Textual Interpreter\n",
    "interpretation = causal_estimate_strat.interpret(method_name=\"textual_effect_interpreter\")"
   ]
  },
  {
   "cell_type": "markdown",
   "id": "c0c509f0",
   "metadata": {},
   "source": [
    "### Visual Interpreter\n",
    "\n",
    "The visual interpreter plots the change in the standardized mean difference (SMD) before and after Propensity Score based adjustment of the dataset. The formula for SMD is given below.\n",
    "\n",
    "\n",
    "$SMD = \\frac{\\bar X_{1} - \\bar X_{2}}{\\sqrt{(S_{1}^{2} + S_{2}^{2})/2}}$\n",
    "\n",
    "Here, $\\bar X_{1}$ and $\\bar X_{2}$ are the sample mean for the treated and control groups.\n"
   ]
  },
  {
   "cell_type": "code",
   "execution_count": 10,
   "id": "30898ed1",
   "metadata": {
    "execution": {
     "iopub.execute_input": "2022-10-17T14:59:09.760024Z",
     "iopub.status.busy": "2022-10-17T14:59:09.759463Z",
     "iopub.status.idle": "2022-10-17T14:59:10.994696Z",
     "shell.execute_reply": "2022-10-17T14:59:10.993886Z"
    }
   },
   "outputs": [
    {
     "data": {
      "image/png": "[encoded data removed]",
      "text/plain": [
       "<Figure size 640x480 with 1 Axes>"
      ]
     },
     "metadata": {},
     "output_type": "display_data"
    }
   ],
   "source": [
    "# Visual Interpreter\n",
    "interpretation = causal_estimate_strat.interpret(method_name=\"propensity_balance_interpreter\")"
   ]
  },
  {
   "cell_type": "markdown",
   "id": "4a2341db",
   "metadata": {},
   "source": [
    "This plot shows how the SMD decreases from the unadjusted to the stratified units. "
   ]
  },
  {
   "cell_type": "markdown",
   "id": "4828af05",
   "metadata": {},
   "source": [
    "## Method 2: Propensity Score Matching\n",
    "\n",
    "We will be using propensity scores to match units in the data."
   ]
  },
  {
   "cell_type": "code",
   "execution_count": 11,
   "id": "d0d18ae3",
   "metadata": {
    "execution": {
     "iopub.execute_input": "2022-10-17T14:59:10.999183Z",
     "iopub.status.busy": "2022-10-17T14:59:10.998614Z",
     "iopub.status.idle": "2022-10-17T14:59:16.101148Z",
     "shell.execute_reply": "2022-10-17T14:59:16.099726Z"
    }
   },
   "outputs": [
    {
     "name": "stdout",
     "output_type": "stream",
     "text": [
      "*** Causal Estimate ***\n",
      "\n",
      "## Identified estimand\n",
      "Estimand type: EstimandType.NONPARAMETRIC_ATE\n",
      "\n",
      "### Estimand : 1\n",
      "Estimand name: backdoor\n",
      "Estimand expression:\n",
      "  d                       \n",
      "─────(E[y|W1,W4,W0,W3,W2])\n",
      "d[v₀]                     \n",
      "Estimand assumption 1, Unconfoundedness: If U→{v0} and U→y then P(y|v0,W1,W4,W0,W3,W2,U) = P(y|v0,W1,W4,W0,W3,W2)\n",
      "\n",
      "## Realized estimand\n",
      "b: y~v0+W1+W4+W0+W3+W2\n",
      "Target units: atc\n",
      "\n",
      "## Estimate\n",
      "Mean value: 1.0087893826772176\n",
      "\n",
      "Causal Estimate is 1.0087893826772176\n"
     ]
    }
   ],
   "source": [
    "causal_estimate_match = model.estimate_effect(identified_estimand,\n",
    "                                              method_name=\"backdoor.propensity_score_matching\",\n",
    "                                              target_units=\"atc\")\n",
    "print(causal_estimate_match)\n",
    "print(\"Causal Estimate is \" + str(causal_estimate_match.value))"
   ]
  },
  {
   "cell_type": "code",
   "execution_count": 12,
   "id": "8271ad45",
   "metadata": {
    "execution": {
     "iopub.execute_input": "2022-10-17T14:59:16.105648Z",
     "iopub.status.busy": "2022-10-17T14:59:16.104859Z",
     "iopub.status.idle": "2022-10-17T14:59:16.145948Z",
     "shell.execute_reply": "2022-10-17T14:59:16.145055Z"
    }
   },
   "outputs": [
    {
     "name": "stdout",
     "output_type": "stream",
     "text": [
      "Increasing the treatment variable(s) [v0] from 0 to 1 causes an increase of 1.0087893826772176 in the expected value of the outcome [y], over the data distribution/population represented by the dataset.\n"
     ]
    }
   ],
   "source": [
    "# Textual Interpreter\n",
    "interpretation = causal_estimate_match.interpret(method_name=\"textual_effect_interpreter\")"
   ]
  },
  {
   "cell_type": "markdown",
   "id": "455e8d42",
   "metadata": {},
   "source": [
    "Cannot use propensity balance interpretor here since the interpreter method only supports propensity score stratification estimator."
   ]
  },
  {
   "cell_type": "markdown",
   "id": "9e423667",
   "metadata": {},
   "source": [
    "## Method 3: Weighting\n",
    "\n",
    "We will be using (inverse) propensity scores to assign weights to units in the data. DoWhy supports a few different weighting schemes:\n",
    "1. Vanilla Inverse Propensity Score weighting (IPS) (weighting_scheme=\"ips_weight\")\n",
    "2. Self-normalized IPS weighting (also known as the Hajek estimator) (weighting_scheme=\"ips_normalized_weight\")\n",
    "3. Stabilized IPS weighting (weighting_scheme = \"ips_stabilized_weight\")"
   ]
  },
  {
   "cell_type": "code",
   "execution_count": 13,
   "id": "5fc9d0e7",
   "metadata": {
    "execution": {
     "iopub.execute_input": "2022-10-17T14:59:16.150095Z",
     "iopub.status.busy": "2022-10-17T14:59:16.149484Z",
     "iopub.status.idle": "2022-10-17T14:59:16.238171Z",
     "shell.execute_reply": "2022-10-17T14:59:16.237281Z"
    }
   },
   "outputs": [
    {
     "name": "stdout",
     "output_type": "stream",
     "text": [
      "*** Causal Estimate ***\n",
      "\n",
      "## Identified estimand\n",
      "Estimand type: EstimandType.NONPARAMETRIC_ATE\n",
      "\n",
      "### Estimand : 1\n",
      "Estimand name: backdoor\n",
      "Estimand expression:\n",
      "  d                       \n",
      "─────(E[y|W1,W4,W0,W3,W2])\n",
      "d[v₀]                     \n",
      "Estimand assumption 1, Unconfoundedness: If U→{v0} and U→y then P(y|v0,W1,W4,W0,W3,W2,U) = P(y|v0,W1,W4,W0,W3,W2)\n",
      "\n",
      "## Realized estimand\n",
      "b: y~v0+W1+W4+W0+W3+W2\n",
      "Target units: ate\n",
      "\n",
      "## Estimate\n",
      "Mean value: 1.028976831592074\n",
      "\n",
      "Causal Estimate is 1.028976831592074\n"
     ]
    }
   ],
   "source": [
    "causal_estimate_ipw = model.estimate_effect(identified_estimand,\n",
    "                                            method_name=\"backdoor.propensity_score_weighting\",\n",
    "                                            target_units = \"ate\",\n",
    "                                            method_params={\"weighting_scheme\":\"ips_weight\"})\n",
    "print(causal_estimate_ipw)\n",
    "print(\"Causal Estimate is \" + str(causal_estimate_ipw.value))"
   ]
  },
  {
   "cell_type": "code",
   "execution_count": 14,
   "id": "d231ee84",
   "metadata": {
    "execution": {
     "iopub.execute_input": "2022-10-17T14:59:16.243751Z",
     "iopub.status.busy": "2022-10-17T14:59:16.243397Z",
     "iopub.status.idle": "2022-10-17T14:59:16.281512Z",
     "shell.execute_reply": "2022-10-17T14:59:16.280593Z"
    }
   },
   "outputs": [
    {
     "name": "stdout",
     "output_type": "stream",
     "text": [
      "Increasing the treatment variable(s) [v0] from 0 to 1 causes an increase of 1.028976831592074 in the expected value of the outcome [y], over the data distribution/population represented by the dataset.\n"
     ]
    }
   ],
   "source": [
    "# Textual Interpreter\n",
    "interpretation = causal_estimate_ipw.interpret(method_name=\"textual_effect_interpreter\")"
   ]
  },
  {
   "cell_type": "code",
   "execution_count": 15,
   "id": "7d3be313",
   "metadata": {
    "execution": {
     "iopub.execute_input": "2022-10-17T14:59:16.285492Z",
     "iopub.status.busy": "2022-10-17T14:59:16.284856Z",
     "iopub.status.idle": "2022-10-17T14:59:16.719263Z",
     "shell.execute_reply": "2022-10-17T14:59:16.718306Z"
    }
   },
   "outputs": [
    {
     "data": {
      "image/png": "[encoded data removed]",
      "text/plain": [
       "<Figure size 800x800 with 2 Axes>"
      ]
     },
     "metadata": {},
     "output_type": "display_data"
    }
   ],
   "source": [
    "interpretation = causal_estimate_ipw.interpret(method_name=\"confounder_distribution_interpreter\", fig_size=(8,8), font_size=12, var_name='W4', var_type='discrete')"
   ]
  },
  {
   "cell_type": "code",
   "execution_count": null,
   "id": "dbf9429a",
   "metadata": {},
   "outputs": [],
   "source": []
  }
 ],
 "metadata": {
  "kernelspec": {
   "display_name": "Python 3",
   "language": "python",
   "name": "python3"
  },
  "language_info": {
   "codemirror_mode": {
    "name": "ipython",
    "version": 3
   },
   "file_extension": ".py",
   "mimetype": "text/x-python",
   "name": "python",
   "nbconvert_exporter": "python",
   "pygments_lexer": "ipython3",
   "version": "3.8.10"
  },
  "toc": {
   "base_numbering": 1,
   "nav_menu": {},
   "number_sections": false,
   "sideBar": true,
   "skip_h1_title": true,
   "title_cell": "Table of Contents",
   "title_sidebar": "Contents",
   "toc_cell": false,
   "toc_position": {},
   "toc_section_display": true,
   "toc_window_display": false
  }
 },
 "nbformat": 4,
 "nbformat_minor": 5
}
