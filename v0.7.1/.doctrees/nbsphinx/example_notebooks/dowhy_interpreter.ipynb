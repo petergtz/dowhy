{
 "cells": [
  {
   "cell_type": "markdown",
   "id": "c411faeb",
   "metadata": {},
   "source": [
    "# DoWhy: Interpreters for Causal Estimators\n",
    "\n",
    "This is a quick introduction to the use of interpreters in the DoWhy causal inference library.\n",
    "We will load in a sample dataset, use different methods for estimating the causal effect of a (pre-specified)treatment variable on a (pre-specified) outcome variable and demonstrate how to interpret the obtained results.\n",
    "\n",
    "First, let us add the required path for Python to find the DoWhy code and load all required packages"
   ]
  },
  {
   "cell_type": "code",
   "execution_count": 1,
   "id": "309c6c17",
   "metadata": {
    "execution": {
     "iopub.execute_input": "2022-07-20T18:55:36.789568Z",
     "iopub.status.busy": "2022-07-20T18:55:36.789140Z",
     "iopub.status.idle": "2022-07-20T18:55:36.806918Z",
     "shell.execute_reply": "2022-07-20T18:55:36.806258Z"
    }
   },
   "outputs": [],
   "source": [
    "%load_ext autoreload\n",
    "%autoreload 2"
   ]
  },
  {
   "cell_type": "code",
   "execution_count": 2,
   "id": "1e1e94b4",
   "metadata": {
    "execution": {
     "iopub.execute_input": "2022-07-20T18:55:36.809976Z",
     "iopub.status.busy": "2022-07-20T18:55:36.809685Z",
     "iopub.status.idle": "2022-07-20T18:55:37.794279Z",
     "shell.execute_reply": "2022-07-20T18:55:37.793518Z"
    }
   },
   "outputs": [
    {
     "name": "stdout",
     "output_type": "stream",
     "text": [
      "keywords are unexpanded, not using\n"
     ]
    }
   ],
   "source": [
    "import numpy as np\n",
    "import pandas as pd\n",
    "import logging\n",
    "\n",
    "import dowhy\n",
    "from dowhy import CausalModel\n",
    "import dowhy.datasets "
   ]
  },
  {
   "cell_type": "markdown",
   "id": "05a19bac",
   "metadata": {},
   "source": [
    "Now, let us load a dataset. For simplicity, we simulate a dataset with linear relationships between common causes and treatment, and common causes and outcome.\n",
    "\n",
    "Beta is the true causal effect."
   ]
  },
  {
   "cell_type": "code",
   "execution_count": 3,
   "id": "3a9f9787",
   "metadata": {
    "execution": {
     "iopub.execute_input": "2022-07-20T18:55:37.798290Z",
     "iopub.status.busy": "2022-07-20T18:55:37.797652Z",
     "iopub.status.idle": "2022-07-20T18:55:38.085868Z",
     "shell.execute_reply": "2022-07-20T18:55:38.085314Z"
    }
   },
   "outputs": [
    {
     "name": "stdout",
     "output_type": "stream",
     "text": [
      "9168\n"
     ]
    },
    {
     "data": {
      "text/html": [
       "<div>\n",
       "<style scoped>\n",
       "    .dataframe tbody tr th:only-of-type {\n",
       "        vertical-align: middle;\n",
       "    }\n",
       "\n",
       "    .dataframe tbody tr th {\n",
       "        vertical-align: top;\n",
       "    }\n",
       "\n",
       "    .dataframe thead th {\n",
       "        text-align: right;\n",
       "    }\n",
       "</style>\n",
       "<table border=\"1\" class=\"dataframe\">\n",
       "  <thead>\n",
       "    <tr style=\"text-align: right;\">\n",
       "      <th></th>\n",
       "      <th>Z0</th>\n",
       "      <th>Z1</th>\n",
       "      <th>W0</th>\n",
       "      <th>W1</th>\n",
       "      <th>W2</th>\n",
       "      <th>W3</th>\n",
       "      <th>W4</th>\n",
       "      <th>v0</th>\n",
       "      <th>y</th>\n",
       "    </tr>\n",
       "  </thead>\n",
       "  <tbody>\n",
       "    <tr>\n",
       "      <th>0</th>\n",
       "      <td>0.0</td>\n",
       "      <td>0.200643</td>\n",
       "      <td>-0.477184</td>\n",
       "      <td>1.285299</td>\n",
       "      <td>-1.246185</td>\n",
       "      <td>-2.224386</td>\n",
       "      <td>3</td>\n",
       "      <td>True</td>\n",
       "      <td>-0.483001</td>\n",
       "    </tr>\n",
       "    <tr>\n",
       "      <th>1</th>\n",
       "      <td>1.0</td>\n",
       "      <td>0.720865</td>\n",
       "      <td>0.411409</td>\n",
       "      <td>0.528300</td>\n",
       "      <td>0.394060</td>\n",
       "      <td>-1.188146</td>\n",
       "      <td>2</td>\n",
       "      <td>True</td>\n",
       "      <td>1.724232</td>\n",
       "    </tr>\n",
       "    <tr>\n",
       "      <th>2</th>\n",
       "      <td>1.0</td>\n",
       "      <td>0.298608</td>\n",
       "      <td>1.857065</td>\n",
       "      <td>0.152010</td>\n",
       "      <td>1.110486</td>\n",
       "      <td>-0.258625</td>\n",
       "      <td>0</td>\n",
       "      <td>True</td>\n",
       "      <td>3.341168</td>\n",
       "    </tr>\n",
       "    <tr>\n",
       "      <th>3</th>\n",
       "      <td>1.0</td>\n",
       "      <td>0.403397</td>\n",
       "      <td>-0.768922</td>\n",
       "      <td>-0.608848</td>\n",
       "      <td>0.534904</td>\n",
       "      <td>-0.819490</td>\n",
       "      <td>0</td>\n",
       "      <td>True</td>\n",
       "      <td>-0.323779</td>\n",
       "    </tr>\n",
       "    <tr>\n",
       "      <th>4</th>\n",
       "      <td>1.0</td>\n",
       "      <td>0.718517</td>\n",
       "      <td>0.029859</td>\n",
       "      <td>-0.499266</td>\n",
       "      <td>-0.051354</td>\n",
       "      <td>-0.724243</td>\n",
       "      <td>1</td>\n",
       "      <td>True</td>\n",
       "      <td>0.188350</td>\n",
       "    </tr>\n",
       "    <tr>\n",
       "      <th>...</th>\n",
       "      <td>...</td>\n",
       "      <td>...</td>\n",
       "      <td>...</td>\n",
       "      <td>...</td>\n",
       "      <td>...</td>\n",
       "      <td>...</td>\n",
       "      <td>...</td>\n",
       "      <td>...</td>\n",
       "      <td>...</td>\n",
       "    </tr>\n",
       "    <tr>\n",
       "      <th>9995</th>\n",
       "      <td>1.0</td>\n",
       "      <td>0.878082</td>\n",
       "      <td>1.163790</td>\n",
       "      <td>-0.230213</td>\n",
       "      <td>1.149351</td>\n",
       "      <td>-0.087726</td>\n",
       "      <td>0</td>\n",
       "      <td>True</td>\n",
       "      <td>2.686394</td>\n",
       "    </tr>\n",
       "    <tr>\n",
       "      <th>9996</th>\n",
       "      <td>1.0</td>\n",
       "      <td>0.041037</td>\n",
       "      <td>0.573543</td>\n",
       "      <td>-1.217395</td>\n",
       "      <td>0.467740</td>\n",
       "      <td>1.129744</td>\n",
       "      <td>1</td>\n",
       "      <td>True</td>\n",
       "      <td>2.177089</td>\n",
       "    </tr>\n",
       "    <tr>\n",
       "      <th>9997</th>\n",
       "      <td>1.0</td>\n",
       "      <td>0.519971</td>\n",
       "      <td>2.063558</td>\n",
       "      <td>-1.104783</td>\n",
       "      <td>0.275099</td>\n",
       "      <td>-0.667083</td>\n",
       "      <td>1</td>\n",
       "      <td>True</td>\n",
       "      <td>1.489292</td>\n",
       "    </tr>\n",
       "    <tr>\n",
       "      <th>9998</th>\n",
       "      <td>1.0</td>\n",
       "      <td>0.712861</td>\n",
       "      <td>-0.528686</td>\n",
       "      <td>0.719127</td>\n",
       "      <td>1.813066</td>\n",
       "      <td>0.136316</td>\n",
       "      <td>2</td>\n",
       "      <td>True</td>\n",
       "      <td>3.850643</td>\n",
       "    </tr>\n",
       "    <tr>\n",
       "      <th>9999</th>\n",
       "      <td>1.0</td>\n",
       "      <td>0.076478</td>\n",
       "      <td>-0.395173</td>\n",
       "      <td>-0.508168</td>\n",
       "      <td>0.802214</td>\n",
       "      <td>0.566271</td>\n",
       "      <td>0</td>\n",
       "      <td>True</td>\n",
       "      <td>1.597522</td>\n",
       "    </tr>\n",
       "  </tbody>\n",
       "</table>\n",
       "<p>10000 rows × 9 columns</p>\n",
       "</div>"
      ],
      "text/plain": [
       "       Z0        Z1        W0        W1        W2        W3 W4    v0         y\n",
       "0     0.0  0.200643 -0.477184  1.285299 -1.246185 -2.224386  3  True -0.483001\n",
       "1     1.0  0.720865  0.411409  0.528300  0.394060 -1.188146  2  True  1.724232\n",
       "2     1.0  0.298608  1.857065  0.152010  1.110486 -0.258625  0  True  3.341168\n",
       "3     1.0  0.403397 -0.768922 -0.608848  0.534904 -0.819490  0  True -0.323779\n",
       "4     1.0  0.718517  0.029859 -0.499266 -0.051354 -0.724243  1  True  0.188350\n",
       "...   ...       ...       ...       ...       ...       ... ..   ...       ...\n",
       "9995  1.0  0.878082  1.163790 -0.230213  1.149351 -0.087726  0  True  2.686394\n",
       "9996  1.0  0.041037  0.573543 -1.217395  0.467740  1.129744  1  True  2.177089\n",
       "9997  1.0  0.519971  2.063558 -1.104783  0.275099 -0.667083  1  True  1.489292\n",
       "9998  1.0  0.712861 -0.528686  0.719127  1.813066  0.136316  2  True  3.850643\n",
       "9999  1.0  0.076478 -0.395173 -0.508168  0.802214  0.566271  0  True  1.597522\n",
       "\n",
       "[10000 rows x 9 columns]"
      ]
     },
     "execution_count": 3,
     "metadata": {},
     "output_type": "execute_result"
    }
   ],
   "source": [
    "data = dowhy.datasets.linear_dataset(beta=1,\n",
    "        num_common_causes=5, \n",
    "        num_instruments = 2,\n",
    "        num_treatments=1,\n",
    "        num_discrete_common_causes=1,\n",
    "        num_samples=10000,\n",
    "        treatment_is_binary=True,\n",
    "        outcome_is_binary=False)\n",
    "df = data[\"df\"]\n",
    "print(df[df.v0==True].shape[0])\n",
    "df"
   ]
  },
  {
   "cell_type": "markdown",
   "id": "8e634fff",
   "metadata": {},
   "source": [
    "Note that we are using a pandas dataframe to load the data."
   ]
  },
  {
   "cell_type": "markdown",
   "id": "2f46845f",
   "metadata": {},
   "source": [
    "## Identifying the causal estimand"
   ]
  },
  {
   "cell_type": "markdown",
   "id": "487d7a27",
   "metadata": {},
   "source": [
    "We now input a causal graph in the GML graph format."
   ]
  },
  {
   "cell_type": "code",
   "execution_count": 4,
   "id": "0ef99e31",
   "metadata": {
    "execution": {
     "iopub.execute_input": "2022-07-20T18:55:38.089088Z",
     "iopub.status.busy": "2022-07-20T18:55:38.088723Z",
     "iopub.status.idle": "2022-07-20T18:55:38.115195Z",
     "shell.execute_reply": "2022-07-20T18:55:38.114614Z"
    }
   },
   "outputs": [],
   "source": [
    "# With graph\n",
    "model=CausalModel(\n",
    "        data = df,\n",
    "        treatment=data[\"treatment_name\"],\n",
    "        outcome=data[\"outcome_name\"],\n",
    "        graph=data[\"gml_graph\"],\n",
    "        instruments=data[\"instrument_names\"]\n",
    "        )"
   ]
  },
  {
   "cell_type": "code",
   "execution_count": 5,
   "id": "63c4339e",
   "metadata": {
    "execution": {
     "iopub.execute_input": "2022-07-20T18:55:38.118503Z",
     "iopub.status.busy": "2022-07-20T18:55:38.118079Z",
     "iopub.status.idle": "2022-07-20T18:55:38.174821Z",
     "shell.execute_reply": "2022-07-20T18:55:38.174220Z"
    }
   },
   "outputs": [],
   "source": [
    "model.view_model()"
   ]
  },
  {
   "cell_type": "code",
   "execution_count": 6,
   "id": "dd5a9e60",
   "metadata": {
    "execution": {
     "iopub.execute_input": "2022-07-20T18:55:38.178450Z",
     "iopub.status.busy": "2022-07-20T18:55:38.178180Z",
     "iopub.status.idle": "2022-07-20T18:55:38.205071Z",
     "shell.execute_reply": "2022-07-20T18:55:38.204431Z"
    }
   },
   "outputs": [
    {
     "data": {
      "image/png": "[encoded data removed]",
      "text/plain": [
       "<IPython.core.display.Image object>"
      ]
     },
     "metadata": {},
     "output_type": "display_data"
    }
   ],
   "source": [
    "from IPython.display import Image, display\n",
    "display(Image(filename=\"causal_model.png\"))"
   ]
  },
  {
   "cell_type": "markdown",
   "id": "9bb12949",
   "metadata": {},
   "source": [
    "We get a causal graph. Now identification and estimation is done."
   ]
  },
  {
   "cell_type": "code",
   "execution_count": 7,
   "id": "694f9d35",
   "metadata": {
    "execution": {
     "iopub.execute_input": "2022-07-20T18:55:38.208693Z",
     "iopub.status.busy": "2022-07-20T18:55:38.208398Z",
     "iopub.status.idle": "2022-07-20T18:55:38.428707Z",
     "shell.execute_reply": "2022-07-20T18:55:38.428151Z"
    }
   },
   "outputs": [
    {
     "name": "stdout",
     "output_type": "stream",
     "text": [
      "Estimand type: nonparametric-ate\n",
      "\n",
      "### Estimand : 1\n",
      "Estimand name: backdoor\n",
      "Estimand expression:\n",
      "  d                       \n",
      "─────(E[y|W1,W2,W4,W3,W0])\n",
      "d[v₀]                     \n",
      "Estimand assumption 1, Unconfoundedness: If U→{v0} and U→y then P(y|v0,W1,W2,W4,W3,W0,U) = P(y|v0,W1,W2,W4,W3,W0)\n",
      "\n",
      "### Estimand : 2\n",
      "Estimand name: iv\n",
      "Estimand expression:\n",
      " ⎡                              -1⎤\n",
      " ⎢    d        ⎛    d          ⎞  ⎥\n",
      "E⎢─────────(y)⋅⎜─────────([v₀])⎟  ⎥\n",
      " ⎣d[Z₁  Z₀]    ⎝d[Z₁  Z₀]      ⎠  ⎦\n",
      "Estimand assumption 1, As-if-random: If U→→y then ¬(U →→{Z1,Z0})\n",
      "Estimand assumption 2, Exclusion: If we remove {Z1,Z0}→{v0}, then ¬({Z1,Z0}→y)\n",
      "\n",
      "### Estimand : 3\n",
      "Estimand name: frontdoor\n",
      "No such variable(s) found!\n",
      "\n"
     ]
    }
   ],
   "source": [
    "identified_estimand = model.identify_effect(proceed_when_unidentifiable=True)\n",
    "print(identified_estimand)"
   ]
  },
  {
   "cell_type": "markdown",
   "id": "858726ed",
   "metadata": {},
   "source": [
    "## Method 1: Propensity Score Stratification\n",
    "\n",
    "We will be using propensity scores to stratify units in the data."
   ]
  },
  {
   "cell_type": "code",
   "execution_count": 8,
   "id": "707e3ad5",
   "metadata": {
    "execution": {
     "iopub.execute_input": "2022-07-20T18:55:38.431903Z",
     "iopub.status.busy": "2022-07-20T18:55:38.431548Z",
     "iopub.status.idle": "2022-07-20T18:55:39.123366Z",
     "shell.execute_reply": "2022-07-20T18:55:39.122703Z"
    }
   },
   "outputs": [
    {
     "name": "stdout",
     "output_type": "stream",
     "text": [
      "propensity_score_stratification\n"
     ]
    },
    {
     "name": "stderr",
     "output_type": "stream",
     "text": [
      "/usr/local/lib/python3.8/dist-packages/sklearn/utils/validation.py:993: DataConversionWarning: A column-vector y was passed when a 1d array was expected. Please change the shape of y to (n_samples, ), for example using ravel().\n",
      "  y = column_or_1d(y, warn=True)\n"
     ]
    },
    {
     "name": "stdout",
     "output_type": "stream",
     "text": [
      "*** Causal Estimate ***\n",
      "\n",
      "## Identified estimand\n",
      "Estimand type: nonparametric-ate\n",
      "\n",
      "### Estimand : 1\n",
      "Estimand name: backdoor\n",
      "Estimand expression:\n",
      "  d                       \n",
      "─────(E[y|W1,W2,W4,W3,W0])\n",
      "d[v₀]                     \n",
      "Estimand assumption 1, Unconfoundedness: If U→{v0} and U→y then P(y|v0,W1,W2,W4,W3,W0,U) = P(y|v0,W1,W2,W4,W3,W0)\n",
      "\n",
      "## Realized estimand\n",
      "b: y~v0+W1+W2+W4+W3+W0\n",
      "Target units: att\n",
      "\n",
      "## Estimate\n",
      "Mean value: 1.0034036375177262\n",
      "\n",
      "Causal Estimate is 1.0034036375177262\n"
     ]
    }
   ],
   "source": [
    "causal_estimate_strat = model.estimate_effect(identified_estimand,\n",
    "                                              method_name=\"backdoor.propensity_score_stratification\",\n",
    "                                              target_units=\"att\")\n",
    "print(causal_estimate_strat)\n",
    "print(\"Causal Estimate is \" + str(causal_estimate_strat.value))"
   ]
  },
  {
   "cell_type": "markdown",
   "id": "2323752b",
   "metadata": {},
   "source": [
    "### Textual Interpreter\n",
    "\n",
    "The textual Interpreter describes (in words) the effect of unit change in the treatment variable on the outcome variable."
   ]
  },
  {
   "cell_type": "code",
   "execution_count": 9,
   "id": "d99d2616",
   "metadata": {
    "execution": {
     "iopub.execute_input": "2022-07-20T18:55:39.126315Z",
     "iopub.status.busy": "2022-07-20T18:55:39.126089Z",
     "iopub.status.idle": "2022-07-20T18:55:39.154286Z",
     "shell.execute_reply": "2022-07-20T18:55:39.153700Z"
    }
   },
   "outputs": [
    {
     "name": "stdout",
     "output_type": "stream",
     "text": [
      "Increasing the treatment variable(s) [v0] from 0 to 1 causes an increase of 1.0034036375177262 in the expected value of the outcome [y], over the data distribution/population represented by the dataset.\n"
     ]
    }
   ],
   "source": [
    "# Textual Interpreter\n",
    "interpretation = causal_estimate_strat.interpret(method_name=\"textual_effect_interpreter\")"
   ]
  },
  {
   "cell_type": "markdown",
   "id": "66123078",
   "metadata": {},
   "source": [
    "### Visual Interpreter\n",
    "\n",
    "The visual interpreter plots the change in the standardized mean difference (SMD) before and after Propensity Score based adjustment of the dataset. The formula for SMD is given below.\n",
    "\n",
    "\n",
    "$SMD = \\frac{\\bar X_{1} - \\bar X_{2}}{\\sqrt{(S_{1}^{2} + S_{2}^{2})/2}}$\n",
    "\n",
    "Here, $\\bar X_{1}$ and $\\bar X_{2}$ are the sample mean for the treated and control groups.\n"
   ]
  },
  {
   "cell_type": "code",
   "execution_count": 10,
   "id": "1b889c4b",
   "metadata": {
    "execution": {
     "iopub.execute_input": "2022-07-20T18:55:39.157055Z",
     "iopub.status.busy": "2022-07-20T18:55:39.156849Z",
     "iopub.status.idle": "2022-07-20T18:55:40.092594Z",
     "shell.execute_reply": "2022-07-20T18:55:40.090342Z"
    }
   },
   "outputs": [
    {
     "data": {
      "image/png": "[encoded data removed]",
      "text/plain": [
       "<Figure size 432x288 with 1 Axes>"
      ]
     },
     "metadata": {
      "needs_background": "light"
     },
     "output_type": "display_data"
    }
   ],
   "source": [
    "# Visual Interpreter\n",
    "interpretation = causal_estimate_strat.interpret(method_name=\"propensity_balance_interpreter\")"
   ]
  },
  {
   "cell_type": "markdown",
   "id": "8297a4f2",
   "metadata": {},
   "source": [
    "This plot shows how the SMD decreases from the unadjusted to the stratified units. "
   ]
  },
  {
   "cell_type": "markdown",
   "id": "ae789abc",
   "metadata": {},
   "source": [
    "## Method 2: Propensity Score Matching\n",
    "\n",
    "We will be using propensity scores to match units in the data."
   ]
  },
  {
   "cell_type": "code",
   "execution_count": 11,
   "id": "9b8c058b",
   "metadata": {
    "execution": {
     "iopub.execute_input": "2022-07-20T18:55:40.096427Z",
     "iopub.status.busy": "2022-07-20T18:55:40.096061Z",
     "iopub.status.idle": "2022-07-20T18:55:43.638027Z",
     "shell.execute_reply": "2022-07-20T18:55:43.637352Z"
    }
   },
   "outputs": [
    {
     "name": "stdout",
     "output_type": "stream",
     "text": [
      "propensity_score_matching\n"
     ]
    },
    {
     "name": "stderr",
     "output_type": "stream",
     "text": [
      "/usr/local/lib/python3.8/dist-packages/sklearn/utils/validation.py:993: DataConversionWarning: A column-vector y was passed when a 1d array was expected. Please change the shape of y to (n_samples, ), for example using ravel().\n",
      "  y = column_or_1d(y, warn=True)\n"
     ]
    },
    {
     "name": "stdout",
     "output_type": "stream",
     "text": [
      "*** Causal Estimate ***\n",
      "\n",
      "## Identified estimand\n",
      "Estimand type: nonparametric-ate\n",
      "\n",
      "### Estimand : 1\n",
      "Estimand name: backdoor\n",
      "Estimand expression:\n",
      "  d                       \n",
      "─────(E[y|W1,W2,W4,W3,W0])\n",
      "d[v₀]                     \n",
      "Estimand assumption 1, Unconfoundedness: If U→{v0} and U→y then P(y|v0,W1,W2,W4,W3,W0,U) = P(y|v0,W1,W2,W4,W3,W0)\n",
      "\n",
      "## Realized estimand\n",
      "b: y~v0+W1+W2+W4+W3+W0\n",
      "Target units: atc\n",
      "\n",
      "## Estimate\n",
      "Mean value: 1.0163529364400532\n",
      "\n",
      "Causal Estimate is 1.0163529364400532\n"
     ]
    }
   ],
   "source": [
    "causal_estimate_match = model.estimate_effect(identified_estimand,\n",
    "                                              method_name=\"backdoor.propensity_score_matching\",\n",
    "                                              target_units=\"atc\")\n",
    "print(causal_estimate_match)\n",
    "print(\"Causal Estimate is \" + str(causal_estimate_match.value))"
   ]
  },
  {
   "cell_type": "code",
   "execution_count": 12,
   "id": "25a2a99d",
   "metadata": {
    "execution": {
     "iopub.execute_input": "2022-07-20T18:55:43.641096Z",
     "iopub.status.busy": "2022-07-20T18:55:43.640733Z",
     "iopub.status.idle": "2022-07-20T18:55:43.670094Z",
     "shell.execute_reply": "2022-07-20T18:55:43.669494Z"
    }
   },
   "outputs": [
    {
     "name": "stdout",
     "output_type": "stream",
     "text": [
      "Increasing the treatment variable(s) [v0] from 0 to 1 causes an increase of 1.0163529364400532 in the expected value of the outcome [y], over the data distribution/population represented by the dataset.\n"
     ]
    }
   ],
   "source": [
    "# Textual Interpreter\n",
    "interpretation = causal_estimate_match.interpret(method_name=\"textual_effect_interpreter\")"
   ]
  },
  {
   "cell_type": "markdown",
   "id": "c136d929",
   "metadata": {},
   "source": [
    "Cannot use propensity balance interpretor here since the interpreter method only supports propensity score stratification estimator."
   ]
  },
  {
   "cell_type": "markdown",
   "id": "745723f9",
   "metadata": {},
   "source": [
    "## Method 3: Weighting\n",
    "\n",
    "We will be using (inverse) propensity scores to assign weights to units in the data. DoWhy supports a few different weighting schemes:\n",
    "1. Vanilla Inverse Propensity Score weighting (IPS) (weighting_scheme=\"ips_weight\")\n",
    "2. Self-normalized IPS weighting (also known as the Hajek estimator) (weighting_scheme=\"ips_normalized_weight\")\n",
    "3. Stabilized IPS weighting (weighting_scheme = \"ips_stabilized_weight\")"
   ]
  },
  {
   "cell_type": "code",
   "execution_count": 13,
   "id": "f05f6e4d",
   "metadata": {
    "execution": {
     "iopub.execute_input": "2022-07-20T18:55:43.673655Z",
     "iopub.status.busy": "2022-07-20T18:55:43.673069Z",
     "iopub.status.idle": "2022-07-20T18:55:43.753856Z",
     "shell.execute_reply": "2022-07-20T18:55:43.753328Z"
    }
   },
   "outputs": [
    {
     "name": "stdout",
     "output_type": "stream",
     "text": [
      "propensity_score_weighting\n",
      "*** Causal Estimate ***\n",
      "\n",
      "## Identified estimand\n",
      "Estimand type: nonparametric-ate\n",
      "\n",
      "### Estimand : 1\n",
      "Estimand name: backdoor\n",
      "Estimand expression:\n",
      "  d                       \n",
      "─────(E[y|W1,W2,W4,W3,W0])\n",
      "d[v₀]                     \n",
      "Estimand assumption 1, Unconfoundedness: If U→{v0} and U→y then P(y|v0,W1,W2,W4,W3,W0,U) = P(y|v0,W1,W2,W4,W3,W0)\n",
      "\n",
      "## Realized estimand\n",
      "b: y~v0+W1+W2+W4+W3+W0\n",
      "Target units: ate\n",
      "\n",
      "## Estimate\n",
      "Mean value: 1.5533536762737365\n",
      "\n",
      "Causal Estimate is 1.5533536762737365\n"
     ]
    },
    {
     "name": "stderr",
     "output_type": "stream",
     "text": [
      "/usr/local/lib/python3.8/dist-packages/sklearn/utils/validation.py:993: DataConversionWarning: A column-vector y was passed when a 1d array was expected. Please change the shape of y to (n_samples, ), for example using ravel().\n",
      "  y = column_or_1d(y, warn=True)\n"
     ]
    }
   ],
   "source": [
    "causal_estimate_ipw = model.estimate_effect(identified_estimand,\n",
    "                                            method_name=\"backdoor.propensity_score_weighting\",\n",
    "                                            target_units = \"ate\",\n",
    "                                            method_params={\"weighting_scheme\":\"ips_weight\"})\n",
    "print(causal_estimate_ipw)\n",
    "print(\"Causal Estimate is \" + str(causal_estimate_ipw.value))"
   ]
  },
  {
   "cell_type": "code",
   "execution_count": 14,
   "id": "b63c7021",
   "metadata": {
    "execution": {
     "iopub.execute_input": "2022-07-20T18:55:43.756680Z",
     "iopub.status.busy": "2022-07-20T18:55:43.756449Z",
     "iopub.status.idle": "2022-07-20T18:55:43.784166Z",
     "shell.execute_reply": "2022-07-20T18:55:43.783522Z"
    }
   },
   "outputs": [
    {
     "name": "stdout",
     "output_type": "stream",
     "text": [
      "Increasing the treatment variable(s) [v0] from 0 to 1 causes an increase of 1.5533536762737365 in the expected value of the outcome [y], over the data distribution/population represented by the dataset.\n"
     ]
    }
   ],
   "source": [
    "# Textual Interpreter\n",
    "interpretation = causal_estimate_ipw.interpret(method_name=\"textual_effect_interpreter\")"
   ]
  },
  {
   "cell_type": "code",
   "execution_count": 15,
   "id": "8317612b",
   "metadata": {
    "execution": {
     "iopub.execute_input": "2022-07-20T18:55:43.786954Z",
     "iopub.status.busy": "2022-07-20T18:55:43.786724Z",
     "iopub.status.idle": "2022-07-20T18:55:44.037691Z",
     "shell.execute_reply": "2022-07-20T18:55:44.037067Z"
    }
   },
   "outputs": [
    {
     "data": {
      "image/png": "[encoded data removed]",
      "text/plain": [
       "<Figure size 576x576 with 2 Axes>"
      ]
     },
     "metadata": {
      "needs_background": "light"
     },
     "output_type": "display_data"
    }
   ],
   "source": [
    "interpretation = causal_estimate_ipw.interpret(method_name=\"confounder_distribution_interpreter\", fig_size=(8,8), font_size=12, var_name='W4', var_type='discrete')"
   ]
  },
  {
   "cell_type": "code",
   "execution_count": null,
   "id": "961f0945",
   "metadata": {},
   "outputs": [],
   "source": []
  }
 ],
 "metadata": {
  "kernelspec": {
   "display_name": "Python 3",
   "language": "python",
   "name": "python3"
  },
  "language_info": {
   "codemirror_mode": {
    "name": "ipython",
    "version": 3
   },
   "file_extension": ".py",
   "mimetype": "text/x-python",
   "name": "python",
   "nbconvert_exporter": "python",
   "pygments_lexer": "ipython3",
   "version": "3.8.10"
  },
  "toc": {
   "base_numbering": 1,
   "nav_menu": {},
   "number_sections": false,
   "sideBar": true,
   "skip_h1_title": true,
   "title_cell": "Table of Contents",
   "title_sidebar": "Contents",
   "toc_cell": false,
   "toc_position": {},
   "toc_section_display": true,
   "toc_window_display": false
  }
 },
 "nbformat": 4,
 "nbformat_minor": 5
}
