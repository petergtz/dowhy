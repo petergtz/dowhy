{
 "cells": [
  {
   "cell_type": "markdown",
   "id": "6df9ace2",
   "metadata": {},
   "source": [
    "# DoWhy: Interpreters for Causal Estimators\n",
    "\n",
    "This is a quick introduction to the use of interpreters in the DoWhy causal inference library.\n",
    "We will load in a sample dataset, use different methods for estimating the causal effect of a (pre-specified)treatment variable on a (pre-specified) outcome variable and demonstrate how to interpret the obtained results.\n",
    "\n",
    "First, let us add the required path for Python to find the DoWhy code and load all required packages"
   ]
  },
  {
   "cell_type": "code",
   "execution_count": 1,
   "id": "bc23e746",
   "metadata": {
    "execution": {
     "iopub.execute_input": "2022-07-28T11:28:07.979534Z",
     "iopub.status.busy": "2022-07-28T11:28:07.979077Z",
     "iopub.status.idle": "2022-07-28T11:28:07.994563Z",
     "shell.execute_reply": "2022-07-28T11:28:07.994020Z"
    }
   },
   "outputs": [],
   "source": [
    "%load_ext autoreload\n",
    "%autoreload 2"
   ]
  },
  {
   "cell_type": "code",
   "execution_count": 2,
   "id": "6028715f",
   "metadata": {
    "execution": {
     "iopub.execute_input": "2022-07-28T11:28:07.997171Z",
     "iopub.status.busy": "2022-07-28T11:28:07.996973Z",
     "iopub.status.idle": "2022-07-28T11:28:08.932290Z",
     "shell.execute_reply": "2022-07-28T11:28:08.931215Z"
    }
   },
   "outputs": [
    {
     "name": "stdout",
     "output_type": "stream",
     "text": [
      "keywords are unexpanded, not using\n"
     ]
    }
   ],
   "source": [
    "import numpy as np\n",
    "import pandas as pd\n",
    "import logging\n",
    "\n",
    "import dowhy\n",
    "from dowhy import CausalModel\n",
    "import dowhy.datasets "
   ]
  },
  {
   "cell_type": "markdown",
   "id": "d3d4d337",
   "metadata": {},
   "source": [
    "Now, let us load a dataset. For simplicity, we simulate a dataset with linear relationships between common causes and treatment, and common causes and outcome.\n",
    "\n",
    "Beta is the true causal effect."
   ]
  },
  {
   "cell_type": "code",
   "execution_count": 3,
   "id": "1bc139d8",
   "metadata": {
    "execution": {
     "iopub.execute_input": "2022-07-28T11:28:08.935987Z",
     "iopub.status.busy": "2022-07-28T11:28:08.935185Z",
     "iopub.status.idle": "2022-07-28T11:28:09.223734Z",
     "shell.execute_reply": "2022-07-28T11:28:09.222882Z"
    }
   },
   "outputs": [
    {
     "name": "stdout",
     "output_type": "stream",
     "text": [
      "8815\n"
     ]
    },
    {
     "data": {
      "text/html": [
       "<div>\n",
       "<style scoped>\n",
       "    .dataframe tbody tr th:only-of-type {\n",
       "        vertical-align: middle;\n",
       "    }\n",
       "\n",
       "    .dataframe tbody tr th {\n",
       "        vertical-align: top;\n",
       "    }\n",
       "\n",
       "    .dataframe thead th {\n",
       "        text-align: right;\n",
       "    }\n",
       "</style>\n",
       "<table border=\"1\" class=\"dataframe\">\n",
       "  <thead>\n",
       "    <tr style=\"text-align: right;\">\n",
       "      <th></th>\n",
       "      <th>Z0</th>\n",
       "      <th>Z1</th>\n",
       "      <th>W0</th>\n",
       "      <th>W1</th>\n",
       "      <th>W2</th>\n",
       "      <th>W3</th>\n",
       "      <th>W4</th>\n",
       "      <th>v0</th>\n",
       "      <th>y</th>\n",
       "    </tr>\n",
       "  </thead>\n",
       "  <tbody>\n",
       "    <tr>\n",
       "      <th>0</th>\n",
       "      <td>1.0</td>\n",
       "      <td>0.392319</td>\n",
       "      <td>1.316943</td>\n",
       "      <td>-0.866604</td>\n",
       "      <td>-1.813626</td>\n",
       "      <td>1.379085</td>\n",
       "      <td>2</td>\n",
       "      <td>True</td>\n",
       "      <td>1.848755</td>\n",
       "    </tr>\n",
       "    <tr>\n",
       "      <th>1</th>\n",
       "      <td>1.0</td>\n",
       "      <td>0.594319</td>\n",
       "      <td>2.453052</td>\n",
       "      <td>0.415339</td>\n",
       "      <td>0.046976</td>\n",
       "      <td>-1.913396</td>\n",
       "      <td>3</td>\n",
       "      <td>True</td>\n",
       "      <td>2.589795</td>\n",
       "    </tr>\n",
       "    <tr>\n",
       "      <th>2</th>\n",
       "      <td>1.0</td>\n",
       "      <td>0.223737</td>\n",
       "      <td>2.699179</td>\n",
       "      <td>0.939373</td>\n",
       "      <td>-2.024967</td>\n",
       "      <td>-0.676494</td>\n",
       "      <td>0</td>\n",
       "      <td>True</td>\n",
       "      <td>1.814250</td>\n",
       "    </tr>\n",
       "    <tr>\n",
       "      <th>3</th>\n",
       "      <td>1.0</td>\n",
       "      <td>0.244107</td>\n",
       "      <td>-0.497934</td>\n",
       "      <td>1.343135</td>\n",
       "      <td>-0.670225</td>\n",
       "      <td>-2.651435</td>\n",
       "      <td>2</td>\n",
       "      <td>True</td>\n",
       "      <td>-0.877231</td>\n",
       "    </tr>\n",
       "    <tr>\n",
       "      <th>4</th>\n",
       "      <td>1.0</td>\n",
       "      <td>0.354627</td>\n",
       "      <td>-0.348585</td>\n",
       "      <td>0.800439</td>\n",
       "      <td>-0.233590</td>\n",
       "      <td>-0.822921</td>\n",
       "      <td>0</td>\n",
       "      <td>True</td>\n",
       "      <td>0.318721</td>\n",
       "    </tr>\n",
       "    <tr>\n",
       "      <th>...</th>\n",
       "      <td>...</td>\n",
       "      <td>...</td>\n",
       "      <td>...</td>\n",
       "      <td>...</td>\n",
       "      <td>...</td>\n",
       "      <td>...</td>\n",
       "      <td>...</td>\n",
       "      <td>...</td>\n",
       "      <td>...</td>\n",
       "    </tr>\n",
       "    <tr>\n",
       "      <th>9995</th>\n",
       "      <td>0.0</td>\n",
       "      <td>0.873737</td>\n",
       "      <td>1.408245</td>\n",
       "      <td>0.983904</td>\n",
       "      <td>-0.445191</td>\n",
       "      <td>-0.323052</td>\n",
       "      <td>2</td>\n",
       "      <td>True</td>\n",
       "      <td>2.717895</td>\n",
       "    </tr>\n",
       "    <tr>\n",
       "      <th>9996</th>\n",
       "      <td>1.0</td>\n",
       "      <td>0.446657</td>\n",
       "      <td>0.203751</td>\n",
       "      <td>1.962176</td>\n",
       "      <td>-2.417970</td>\n",
       "      <td>-1.444183</td>\n",
       "      <td>2</td>\n",
       "      <td>True</td>\n",
       "      <td>-0.227172</td>\n",
       "    </tr>\n",
       "    <tr>\n",
       "      <th>9997</th>\n",
       "      <td>1.0</td>\n",
       "      <td>0.020045</td>\n",
       "      <td>0.056889</td>\n",
       "      <td>-0.081495</td>\n",
       "      <td>-1.132643</td>\n",
       "      <td>-1.995971</td>\n",
       "      <td>2</td>\n",
       "      <td>True</td>\n",
       "      <td>-1.080305</td>\n",
       "    </tr>\n",
       "    <tr>\n",
       "      <th>9998</th>\n",
       "      <td>1.0</td>\n",
       "      <td>0.624197</td>\n",
       "      <td>1.607625</td>\n",
       "      <td>2.174130</td>\n",
       "      <td>0.542083</td>\n",
       "      <td>-1.596175</td>\n",
       "      <td>1</td>\n",
       "      <td>True</td>\n",
       "      <td>3.066690</td>\n",
       "    </tr>\n",
       "    <tr>\n",
       "      <th>9999</th>\n",
       "      <td>1.0</td>\n",
       "      <td>0.517286</td>\n",
       "      <td>3.257687</td>\n",
       "      <td>0.101745</td>\n",
       "      <td>0.751519</td>\n",
       "      <td>-0.554926</td>\n",
       "      <td>0</td>\n",
       "      <td>True</td>\n",
       "      <td>4.053215</td>\n",
       "    </tr>\n",
       "  </tbody>\n",
       "</table>\n",
       "<p>10000 rows × 9 columns</p>\n",
       "</div>"
      ],
      "text/plain": [
       "       Z0        Z1        W0        W1        W2        W3 W4    v0         y\n",
       "0     1.0  0.392319  1.316943 -0.866604 -1.813626  1.379085  2  True  1.848755\n",
       "1     1.0  0.594319  2.453052  0.415339  0.046976 -1.913396  3  True  2.589795\n",
       "2     1.0  0.223737  2.699179  0.939373 -2.024967 -0.676494  0  True  1.814250\n",
       "3     1.0  0.244107 -0.497934  1.343135 -0.670225 -2.651435  2  True -0.877231\n",
       "4     1.0  0.354627 -0.348585  0.800439 -0.233590 -0.822921  0  True  0.318721\n",
       "...   ...       ...       ...       ...       ...       ... ..   ...       ...\n",
       "9995  0.0  0.873737  1.408245  0.983904 -0.445191 -0.323052  2  True  2.717895\n",
       "9996  1.0  0.446657  0.203751  1.962176 -2.417970 -1.444183  2  True -0.227172\n",
       "9997  1.0  0.020045  0.056889 -0.081495 -1.132643 -1.995971  2  True -1.080305\n",
       "9998  1.0  0.624197  1.607625  2.174130  0.542083 -1.596175  1  True  3.066690\n",
       "9999  1.0  0.517286  3.257687  0.101745  0.751519 -0.554926  0  True  4.053215\n",
       "\n",
       "[10000 rows x 9 columns]"
      ]
     },
     "execution_count": 3,
     "metadata": {},
     "output_type": "execute_result"
    }
   ],
   "source": [
    "data = dowhy.datasets.linear_dataset(beta=1,\n",
    "        num_common_causes=5, \n",
    "        num_instruments = 2,\n",
    "        num_treatments=1,\n",
    "        num_discrete_common_causes=1,\n",
    "        num_samples=10000,\n",
    "        treatment_is_binary=True,\n",
    "        outcome_is_binary=False)\n",
    "df = data[\"df\"]\n",
    "print(df[df.v0==True].shape[0])\n",
    "df"
   ]
  },
  {
   "cell_type": "markdown",
   "id": "3c472974",
   "metadata": {},
   "source": [
    "Note that we are using a pandas dataframe to load the data."
   ]
  },
  {
   "cell_type": "markdown",
   "id": "2efa530a",
   "metadata": {},
   "source": [
    "## Identifying the causal estimand"
   ]
  },
  {
   "cell_type": "markdown",
   "id": "7de10120",
   "metadata": {},
   "source": [
    "We now input a causal graph in the GML graph format."
   ]
  },
  {
   "cell_type": "code",
   "execution_count": 4,
   "id": "edb8ba68",
   "metadata": {
    "execution": {
     "iopub.execute_input": "2022-07-28T11:28:09.227097Z",
     "iopub.status.busy": "2022-07-28T11:28:09.226750Z",
     "iopub.status.idle": "2022-07-28T11:28:09.250868Z",
     "shell.execute_reply": "2022-07-28T11:28:09.250326Z"
    }
   },
   "outputs": [],
   "source": [
    "# With graph\n",
    "model=CausalModel(\n",
    "        data = df,\n",
    "        treatment=data[\"treatment_name\"],\n",
    "        outcome=data[\"outcome_name\"],\n",
    "        graph=data[\"gml_graph\"],\n",
    "        instruments=data[\"instrument_names\"]\n",
    "        )"
   ]
  },
  {
   "cell_type": "code",
   "execution_count": 5,
   "id": "de5a3be3",
   "metadata": {
    "execution": {
     "iopub.execute_input": "2022-07-28T11:28:09.253847Z",
     "iopub.status.busy": "2022-07-28T11:28:09.253632Z",
     "iopub.status.idle": "2022-07-28T11:28:09.304806Z",
     "shell.execute_reply": "2022-07-28T11:28:09.304249Z"
    }
   },
   "outputs": [],
   "source": [
    "model.view_model()"
   ]
  },
  {
   "cell_type": "code",
   "execution_count": 6,
   "id": "329d0b76",
   "metadata": {
    "execution": {
     "iopub.execute_input": "2022-07-28T11:28:09.307788Z",
     "iopub.status.busy": "2022-07-28T11:28:09.307403Z",
     "iopub.status.idle": "2022-07-28T11:28:09.331095Z",
     "shell.execute_reply": "2022-07-28T11:28:09.330526Z"
    }
   },
   "outputs": [
    {
     "data": {
      "image/png": "[encoded data removed]",
      "text/plain": [
       "<IPython.core.display.Image object>"
      ]
     },
     "metadata": {},
     "output_type": "display_data"
    }
   ],
   "source": [
    "from IPython.display import Image, display\n",
    "display(Image(filename=\"causal_model.png\"))"
   ]
  },
  {
   "cell_type": "markdown",
   "id": "8cec3c97",
   "metadata": {},
   "source": [
    "We get a causal graph. Now identification and estimation is done."
   ]
  },
  {
   "cell_type": "code",
   "execution_count": 7,
   "id": "39f6e8da",
   "metadata": {
    "execution": {
     "iopub.execute_input": "2022-07-28T11:28:09.334004Z",
     "iopub.status.busy": "2022-07-28T11:28:09.333699Z",
     "iopub.status.idle": "2022-07-28T11:28:09.548161Z",
     "shell.execute_reply": "2022-07-28T11:28:09.547539Z"
    }
   },
   "outputs": [
    {
     "name": "stdout",
     "output_type": "stream",
     "text": [
      "Estimand type: nonparametric-ate\n",
      "\n",
      "### Estimand : 1\n",
      "Estimand name: backdoor\n",
      "Estimand expression:\n",
      "  d                       \n",
      "─────(E[y|W2,W4,W1,W0,W3])\n",
      "d[v₀]                     \n",
      "Estimand assumption 1, Unconfoundedness: If U→{v0} and U→y then P(y|v0,W2,W4,W1,W0,W3,U) = P(y|v0,W2,W4,W1,W0,W3)\n",
      "\n",
      "### Estimand : 2\n",
      "Estimand name: iv\n",
      "Estimand expression:\n",
      " ⎡                              -1⎤\n",
      " ⎢    d        ⎛    d          ⎞  ⎥\n",
      "E⎢─────────(y)⋅⎜─────────([v₀])⎟  ⎥\n",
      " ⎣d[Z₀  Z₁]    ⎝d[Z₀  Z₁]      ⎠  ⎦\n",
      "Estimand assumption 1, As-if-random: If U→→y then ¬(U →→{Z0,Z1})\n",
      "Estimand assumption 2, Exclusion: If we remove {Z0,Z1}→{v0}, then ¬({Z0,Z1}→y)\n",
      "\n",
      "### Estimand : 3\n",
      "Estimand name: frontdoor\n",
      "No such variable(s) found!\n",
      "\n"
     ]
    }
   ],
   "source": [
    "identified_estimand = model.identify_effect(proceed_when_unidentifiable=True)\n",
    "print(identified_estimand)"
   ]
  },
  {
   "cell_type": "markdown",
   "id": "b5c6c8f9",
   "metadata": {},
   "source": [
    "## Method 1: Propensity Score Stratification\n",
    "\n",
    "We will be using propensity scores to stratify units in the data."
   ]
  },
  {
   "cell_type": "code",
   "execution_count": 8,
   "id": "73153fa1",
   "metadata": {
    "execution": {
     "iopub.execute_input": "2022-07-28T11:28:09.551327Z",
     "iopub.status.busy": "2022-07-28T11:28:09.551108Z",
     "iopub.status.idle": "2022-07-28T11:28:10.180466Z",
     "shell.execute_reply": "2022-07-28T11:28:10.179937Z"
    }
   },
   "outputs": [
    {
     "name": "stdout",
     "output_type": "stream",
     "text": [
      "propensity_score_stratification\n"
     ]
    },
    {
     "name": "stderr",
     "output_type": "stream",
     "text": [
      "/usr/local/lib/python3.8/dist-packages/sklearn/utils/validation.py:993: DataConversionWarning: A column-vector y was passed when a 1d array was expected. Please change the shape of y to (n_samples, ), for example using ravel().\n",
      "  y = column_or_1d(y, warn=True)\n"
     ]
    },
    {
     "name": "stdout",
     "output_type": "stream",
     "text": [
      "*** Causal Estimate ***\n",
      "\n",
      "## Identified estimand\n",
      "Estimand type: nonparametric-ate\n",
      "\n",
      "### Estimand : 1\n",
      "Estimand name: backdoor\n",
      "Estimand expression:\n",
      "  d                       \n",
      "─────(E[y|W2,W4,W1,W0,W3])\n",
      "d[v₀]                     \n",
      "Estimand assumption 1, Unconfoundedness: If U→{v0} and U→y then P(y|v0,W2,W4,W1,W0,W3,U) = P(y|v0,W2,W4,W1,W0,W3)\n",
      "\n",
      "## Realized estimand\n",
      "b: y~v0+W2+W4+W1+W0+W3\n",
      "Target units: att\n",
      "\n",
      "## Estimate\n",
      "Mean value: 1.023407720797638\n",
      "\n",
      "Causal Estimate is 1.023407720797638\n"
     ]
    }
   ],
   "source": [
    "causal_estimate_strat = model.estimate_effect(identified_estimand,\n",
    "                                              method_name=\"backdoor.propensity_score_stratification\",\n",
    "                                              target_units=\"att\")\n",
    "print(causal_estimate_strat)\n",
    "print(\"Causal Estimate is \" + str(causal_estimate_strat.value))"
   ]
  },
  {
   "cell_type": "markdown",
   "id": "76b62702",
   "metadata": {},
   "source": [
    "### Textual Interpreter\n",
    "\n",
    "The textual Interpreter describes (in words) the effect of unit change in the treatment variable on the outcome variable."
   ]
  },
  {
   "cell_type": "code",
   "execution_count": 9,
   "id": "9250d8ec",
   "metadata": {
    "execution": {
     "iopub.execute_input": "2022-07-28T11:28:10.183431Z",
     "iopub.status.busy": "2022-07-28T11:28:10.183213Z",
     "iopub.status.idle": "2022-07-28T11:28:10.206095Z",
     "shell.execute_reply": "2022-07-28T11:28:10.205527Z"
    }
   },
   "outputs": [
    {
     "name": "stdout",
     "output_type": "stream",
     "text": [
      "Increasing the treatment variable(s) [v0] from 0 to 1 causes an increase of 1.023407720797638 in the expected value of the outcome [y], over the data distribution/population represented by the dataset.\n"
     ]
    }
   ],
   "source": [
    "# Textual Interpreter\n",
    "interpretation = causal_estimate_strat.interpret(method_name=\"textual_effect_interpreter\")"
   ]
  },
  {
   "cell_type": "markdown",
   "id": "c688e0b7",
   "metadata": {},
   "source": [
    "### Visual Interpreter\n",
    "\n",
    "The visual interpreter plots the change in the standardized mean difference (SMD) before and after Propensity Score based adjustment of the dataset. The formula for SMD is given below.\n",
    "\n",
    "\n",
    "$SMD = \\frac{\\bar X_{1} - \\bar X_{2}}{\\sqrt{(S_{1}^{2} + S_{2}^{2})/2}}$\n",
    "\n",
    "Here, $\\bar X_{1}$ and $\\bar X_{2}$ are the sample mean for the treated and control groups.\n"
   ]
  },
  {
   "cell_type": "code",
   "execution_count": 10,
   "id": "47eb2aa1",
   "metadata": {
    "execution": {
     "iopub.execute_input": "2022-07-28T11:28:10.208983Z",
     "iopub.status.busy": "2022-07-28T11:28:10.208772Z",
     "iopub.status.idle": "2022-07-28T11:28:11.204414Z",
     "shell.execute_reply": "2022-07-28T11:28:11.203822Z"
    }
   },
   "outputs": [
    {
     "data": {
      "image/png": "[encoded data removed]",
      "text/plain": [
       "<Figure size 432x288 with 1 Axes>"
      ]
     },
     "metadata": {
      "needs_background": "light"
     },
     "output_type": "display_data"
    }
   ],
   "source": [
    "# Visual Interpreter\n",
    "interpretation = causal_estimate_strat.interpret(method_name=\"propensity_balance_interpreter\")"
   ]
  },
  {
   "cell_type": "markdown",
   "id": "b694f762",
   "metadata": {},
   "source": [
    "This plot shows how the SMD decreases from the unadjusted to the stratified units. "
   ]
  },
  {
   "cell_type": "markdown",
   "id": "83d19b4e",
   "metadata": {},
   "source": [
    "## Method 2: Propensity Score Matching\n",
    "\n",
    "We will be using propensity scores to match units in the data."
   ]
  },
  {
   "cell_type": "code",
   "execution_count": 11,
   "id": "7ab1cbd2",
   "metadata": {
    "execution": {
     "iopub.execute_input": "2022-07-28T11:28:11.207764Z",
     "iopub.status.busy": "2022-07-28T11:28:11.207055Z",
     "iopub.status.idle": "2022-07-28T11:28:14.712818Z",
     "shell.execute_reply": "2022-07-28T11:28:14.711982Z"
    }
   },
   "outputs": [
    {
     "name": "stdout",
     "output_type": "stream",
     "text": [
      "propensity_score_matching\n"
     ]
    },
    {
     "name": "stderr",
     "output_type": "stream",
     "text": [
      "/usr/local/lib/python3.8/dist-packages/sklearn/utils/validation.py:993: DataConversionWarning: A column-vector y was passed when a 1d array was expected. Please change the shape of y to (n_samples, ), for example using ravel().\n",
      "  y = column_or_1d(y, warn=True)\n"
     ]
    },
    {
     "name": "stdout",
     "output_type": "stream",
     "text": [
      "*** Causal Estimate ***\n",
      "\n",
      "## Identified estimand\n",
      "Estimand type: nonparametric-ate\n",
      "\n",
      "### Estimand : 1\n",
      "Estimand name: backdoor\n",
      "Estimand expression:\n",
      "  d                       \n",
      "─────(E[y|W2,W4,W1,W0,W3])\n",
      "d[v₀]                     \n",
      "Estimand assumption 1, Unconfoundedness: If U→{v0} and U→y then P(y|v0,W2,W4,W1,W0,W3,U) = P(y|v0,W2,W4,W1,W0,W3)\n",
      "\n",
      "## Realized estimand\n",
      "b: y~v0+W2+W4+W1+W0+W3\n",
      "Target units: atc\n",
      "\n",
      "## Estimate\n",
      "Mean value: 1.0133053069230915\n",
      "\n",
      "Causal Estimate is 1.0133053069230915\n"
     ]
    }
   ],
   "source": [
    "causal_estimate_match = model.estimate_effect(identified_estimand,\n",
    "                                              method_name=\"backdoor.propensity_score_matching\",\n",
    "                                              target_units=\"atc\")\n",
    "print(causal_estimate_match)\n",
    "print(\"Causal Estimate is \" + str(causal_estimate_match.value))"
   ]
  },
  {
   "cell_type": "code",
   "execution_count": 12,
   "id": "2ef95af0",
   "metadata": {
    "execution": {
     "iopub.execute_input": "2022-07-28T11:28:14.715915Z",
     "iopub.status.busy": "2022-07-28T11:28:14.715578Z",
     "iopub.status.idle": "2022-07-28T11:28:14.739998Z",
     "shell.execute_reply": "2022-07-28T11:28:14.738837Z"
    }
   },
   "outputs": [
    {
     "name": "stdout",
     "output_type": "stream",
     "text": [
      "Increasing the treatment variable(s) [v0] from 0 to 1 causes an increase of 1.0133053069230915 in the expected value of the outcome [y], over the data distribution/population represented by the dataset.\n"
     ]
    }
   ],
   "source": [
    "# Textual Interpreter\n",
    "interpretation = causal_estimate_match.interpret(method_name=\"textual_effect_interpreter\")"
   ]
  },
  {
   "cell_type": "markdown",
   "id": "c0e8d313",
   "metadata": {},
   "source": [
    "Cannot use propensity balance interpretor here since the interpreter method only supports propensity score stratification estimator."
   ]
  },
  {
   "cell_type": "markdown",
   "id": "0fa03636",
   "metadata": {},
   "source": [
    "## Method 3: Weighting\n",
    "\n",
    "We will be using (inverse) propensity scores to assign weights to units in the data. DoWhy supports a few different weighting schemes:\n",
    "1. Vanilla Inverse Propensity Score weighting (IPS) (weighting_scheme=\"ips_weight\")\n",
    "2. Self-normalized IPS weighting (also known as the Hajek estimator) (weighting_scheme=\"ips_normalized_weight\")\n",
    "3. Stabilized IPS weighting (weighting_scheme = \"ips_stabilized_weight\")"
   ]
  },
  {
   "cell_type": "code",
   "execution_count": 13,
   "id": "336e5136",
   "metadata": {
    "execution": {
     "iopub.execute_input": "2022-07-28T11:28:14.742891Z",
     "iopub.status.busy": "2022-07-28T11:28:14.742690Z",
     "iopub.status.idle": "2022-07-28T11:28:14.798367Z",
     "shell.execute_reply": "2022-07-28T11:28:14.797756Z"
    }
   },
   "outputs": [
    {
     "name": "stdout",
     "output_type": "stream",
     "text": [
      "propensity_score_weighting\n",
      "*** Causal Estimate ***\n",
      "\n",
      "## Identified estimand\n",
      "Estimand type: nonparametric-ate\n",
      "\n",
      "### Estimand : 1\n",
      "Estimand name: backdoor\n",
      "Estimand expression:\n",
      "  d                       \n",
      "─────(E[y|W2,W4,W1,W0,W3])\n",
      "d[v₀]                     \n",
      "Estimand assumption 1, Unconfoundedness: If U→{v0} and U→y then P(y|v0,W2,W4,W1,W0,W3,U) = P(y|v0,W2,W4,W1,W0,W3)\n",
      "\n",
      "## Realized estimand\n",
      "b: y~v0+W2+W4+W1+W0+W3\n",
      "Target units: ate\n",
      "\n",
      "## Estimate\n",
      "Mean value: 1.3858108761892411\n",
      "\n",
      "Causal Estimate is 1.3858108761892411\n"
     ]
    },
    {
     "name": "stderr",
     "output_type": "stream",
     "text": [
      "/usr/local/lib/python3.8/dist-packages/sklearn/utils/validation.py:993: DataConversionWarning: A column-vector y was passed when a 1d array was expected. Please change the shape of y to (n_samples, ), for example using ravel().\n",
      "  y = column_or_1d(y, warn=True)\n"
     ]
    }
   ],
   "source": [
    "causal_estimate_ipw = model.estimate_effect(identified_estimand,\n",
    "                                            method_name=\"backdoor.propensity_score_weighting\",\n",
    "                                            target_units = \"ate\",\n",
    "                                            method_params={\"weighting_scheme\":\"ips_weight\"})\n",
    "print(causal_estimate_ipw)\n",
    "print(\"Causal Estimate is \" + str(causal_estimate_ipw.value))"
   ]
  },
  {
   "cell_type": "code",
   "execution_count": 14,
   "id": "23d52278",
   "metadata": {
    "execution": {
     "iopub.execute_input": "2022-07-28T11:28:14.801511Z",
     "iopub.status.busy": "2022-07-28T11:28:14.801293Z",
     "iopub.status.idle": "2022-07-28T11:28:14.825469Z",
     "shell.execute_reply": "2022-07-28T11:28:14.824873Z"
    }
   },
   "outputs": [
    {
     "name": "stdout",
     "output_type": "stream",
     "text": [
      "Increasing the treatment variable(s) [v0] from 0 to 1 causes an increase of 1.3858108761892411 in the expected value of the outcome [y], over the data distribution/population represented by the dataset.\n"
     ]
    }
   ],
   "source": [
    "# Textual Interpreter\n",
    "interpretation = causal_estimate_ipw.interpret(method_name=\"textual_effect_interpreter\")"
   ]
  },
  {
   "cell_type": "code",
   "execution_count": 15,
   "id": "164cd6cc",
   "metadata": {
    "execution": {
     "iopub.execute_input": "2022-07-28T11:28:14.828614Z",
     "iopub.status.busy": "2022-07-28T11:28:14.828397Z",
     "iopub.status.idle": "2022-07-28T11:28:15.061316Z",
     "shell.execute_reply": "2022-07-28T11:28:15.060266Z"
    }
   },
   "outputs": [
    {
     "data": {
      "image/png": "[encoded data removed]",
      "text/plain": [
       "<Figure size 576x576 with 2 Axes>"
      ]
     },
     "metadata": {
      "needs_background": "light"
     },
     "output_type": "display_data"
    }
   ],
   "source": [
    "interpretation = causal_estimate_ipw.interpret(method_name=\"confounder_distribution_interpreter\", fig_size=(8,8), font_size=12, var_name='W4', var_type='discrete')"
   ]
  },
  {
   "cell_type": "code",
   "execution_count": null,
   "id": "e1f71ccf",
   "metadata": {},
   "outputs": [],
   "source": []
  }
 ],
 "metadata": {
  "kernelspec": {
   "display_name": "Python 3",
   "language": "python",
   "name": "python3"
  },
  "language_info": {
   "codemirror_mode": {
    "name": "ipython",
    "version": 3
   },
   "file_extension": ".py",
   "mimetype": "text/x-python",
   "name": "python",
   "nbconvert_exporter": "python",
   "pygments_lexer": "ipython3",
   "version": "3.8.10"
  },
  "toc": {
   "base_numbering": 1,
   "nav_menu": {},
   "number_sections": false,
   "sideBar": true,
   "skip_h1_title": true,
   "title_cell": "Table of Contents",
   "title_sidebar": "Contents",
   "toc_cell": false,
   "toc_position": {},
   "toc_section_display": true,
   "toc_window_display": false
  }
 },
 "nbformat": 4,
 "nbformat_minor": 5
}
