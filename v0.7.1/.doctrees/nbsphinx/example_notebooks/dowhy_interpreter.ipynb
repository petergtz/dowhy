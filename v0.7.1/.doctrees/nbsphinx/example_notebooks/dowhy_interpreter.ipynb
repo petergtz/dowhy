{
 "cells": [
  {
   "cell_type": "markdown",
   "id": "b4fa7171",
   "metadata": {},
   "source": [
    "# DoWhy: Interpreters for Causal Estimators\n",
    "\n",
    "This is a quick introduction to the use of interpreters in the DoWhy causal inference library.\n",
    "We will load in a sample dataset, use different methods for estimating the causal effect of a (pre-specified)treatment variable on a (pre-specified) outcome variable and demonstrate how to interpret the obtained results.\n",
    "\n",
    "First, let us add the required path for Python to find the DoWhy code and load all required packages"
   ]
  },
  {
   "cell_type": "code",
   "execution_count": 1,
   "id": "2bfb9e19",
   "metadata": {
    "execution": {
     "iopub.execute_input": "2022-07-27T16:23:29.556817Z",
     "iopub.status.busy": "2022-07-27T16:23:29.556285Z",
     "iopub.status.idle": "2022-07-27T16:23:29.571913Z",
     "shell.execute_reply": "2022-07-27T16:23:29.571345Z"
    }
   },
   "outputs": [],
   "source": [
    "%load_ext autoreload\n",
    "%autoreload 2"
   ]
  },
  {
   "cell_type": "code",
   "execution_count": 2,
   "id": "14589f8a",
   "metadata": {
    "execution": {
     "iopub.execute_input": "2022-07-27T16:23:29.574610Z",
     "iopub.status.busy": "2022-07-27T16:23:29.574412Z",
     "iopub.status.idle": "2022-07-27T16:23:30.519146Z",
     "shell.execute_reply": "2022-07-27T16:23:30.518461Z"
    }
   },
   "outputs": [
    {
     "name": "stdout",
     "output_type": "stream",
     "text": [
      "keywords are unexpanded, not using\n"
     ]
    }
   ],
   "source": [
    "import numpy as np\n",
    "import pandas as pd\n",
    "import logging\n",
    "\n",
    "import dowhy\n",
    "from dowhy import CausalModel\n",
    "import dowhy.datasets "
   ]
  },
  {
   "cell_type": "markdown",
   "id": "33d9f0b6",
   "metadata": {},
   "source": [
    "Now, let us load a dataset. For simplicity, we simulate a dataset with linear relationships between common causes and treatment, and common causes and outcome.\n",
    "\n",
    "Beta is the true causal effect."
   ]
  },
  {
   "cell_type": "code",
   "execution_count": 3,
   "id": "84bcc8ae",
   "metadata": {
    "execution": {
     "iopub.execute_input": "2022-07-27T16:23:30.522766Z",
     "iopub.status.busy": "2022-07-27T16:23:30.522154Z",
     "iopub.status.idle": "2022-07-27T16:23:30.814053Z",
     "shell.execute_reply": "2022-07-27T16:23:30.813473Z"
    }
   },
   "outputs": [
    {
     "name": "stdout",
     "output_type": "stream",
     "text": [
      "9106\n"
     ]
    },
    {
     "data": {
      "text/html": [
       "<div>\n",
       "<style scoped>\n",
       "    .dataframe tbody tr th:only-of-type {\n",
       "        vertical-align: middle;\n",
       "    }\n",
       "\n",
       "    .dataframe tbody tr th {\n",
       "        vertical-align: top;\n",
       "    }\n",
       "\n",
       "    .dataframe thead th {\n",
       "        text-align: right;\n",
       "    }\n",
       "</style>\n",
       "<table border=\"1\" class=\"dataframe\">\n",
       "  <thead>\n",
       "    <tr style=\"text-align: right;\">\n",
       "      <th></th>\n",
       "      <th>Z0</th>\n",
       "      <th>Z1</th>\n",
       "      <th>W0</th>\n",
       "      <th>W1</th>\n",
       "      <th>W2</th>\n",
       "      <th>W3</th>\n",
       "      <th>W4</th>\n",
       "      <th>v0</th>\n",
       "      <th>y</th>\n",
       "    </tr>\n",
       "  </thead>\n",
       "  <tbody>\n",
       "    <tr>\n",
       "      <th>0</th>\n",
       "      <td>1.0</td>\n",
       "      <td>0.911666</td>\n",
       "      <td>2.034568</td>\n",
       "      <td>-0.916744</td>\n",
       "      <td>-0.485372</td>\n",
       "      <td>-0.682627</td>\n",
       "      <td>0</td>\n",
       "      <td>True</td>\n",
       "      <td>-0.122617</td>\n",
       "    </tr>\n",
       "    <tr>\n",
       "      <th>1</th>\n",
       "      <td>1.0</td>\n",
       "      <td>0.178290</td>\n",
       "      <td>0.280525</td>\n",
       "      <td>0.386795</td>\n",
       "      <td>0.327204</td>\n",
       "      <td>-1.021838</td>\n",
       "      <td>1</td>\n",
       "      <td>False</td>\n",
       "      <td>-0.286822</td>\n",
       "    </tr>\n",
       "    <tr>\n",
       "      <th>2</th>\n",
       "      <td>1.0</td>\n",
       "      <td>0.071331</td>\n",
       "      <td>0.238329</td>\n",
       "      <td>-1.519050</td>\n",
       "      <td>1.059561</td>\n",
       "      <td>-0.101084</td>\n",
       "      <td>2</td>\n",
       "      <td>True</td>\n",
       "      <td>0.672153</td>\n",
       "    </tr>\n",
       "    <tr>\n",
       "      <th>3</th>\n",
       "      <td>1.0</td>\n",
       "      <td>0.270652</td>\n",
       "      <td>-1.486595</td>\n",
       "      <td>-0.190290</td>\n",
       "      <td>-1.406827</td>\n",
       "      <td>-1.924531</td>\n",
       "      <td>3</td>\n",
       "      <td>True</td>\n",
       "      <td>-0.368811</td>\n",
       "    </tr>\n",
       "    <tr>\n",
       "      <th>4</th>\n",
       "      <td>1.0</td>\n",
       "      <td>0.997211</td>\n",
       "      <td>0.022435</td>\n",
       "      <td>-0.727282</td>\n",
       "      <td>-0.314563</td>\n",
       "      <td>-1.436002</td>\n",
       "      <td>2</td>\n",
       "      <td>True</td>\n",
       "      <td>-0.259639</td>\n",
       "    </tr>\n",
       "    <tr>\n",
       "      <th>...</th>\n",
       "      <td>...</td>\n",
       "      <td>...</td>\n",
       "      <td>...</td>\n",
       "      <td>...</td>\n",
       "      <td>...</td>\n",
       "      <td>...</td>\n",
       "      <td>...</td>\n",
       "      <td>...</td>\n",
       "      <td>...</td>\n",
       "    </tr>\n",
       "    <tr>\n",
       "      <th>9995</th>\n",
       "      <td>1.0</td>\n",
       "      <td>0.660732</td>\n",
       "      <td>1.564319</td>\n",
       "      <td>-1.811185</td>\n",
       "      <td>-1.328025</td>\n",
       "      <td>-2.120146</td>\n",
       "      <td>1</td>\n",
       "      <td>True</td>\n",
       "      <td>-1.945343</td>\n",
       "    </tr>\n",
       "    <tr>\n",
       "      <th>9996</th>\n",
       "      <td>1.0</td>\n",
       "      <td>0.516135</td>\n",
       "      <td>2.239088</td>\n",
       "      <td>0.385106</td>\n",
       "      <td>-0.419515</td>\n",
       "      <td>0.606140</td>\n",
       "      <td>2</td>\n",
       "      <td>True</td>\n",
       "      <td>2.647852</td>\n",
       "    </tr>\n",
       "    <tr>\n",
       "      <th>9997</th>\n",
       "      <td>1.0</td>\n",
       "      <td>0.758656</td>\n",
       "      <td>-1.545891</td>\n",
       "      <td>0.505061</td>\n",
       "      <td>-0.223775</td>\n",
       "      <td>-0.594513</td>\n",
       "      <td>0</td>\n",
       "      <td>True</td>\n",
       "      <td>0.578718</td>\n",
       "    </tr>\n",
       "    <tr>\n",
       "      <th>9998</th>\n",
       "      <td>1.0</td>\n",
       "      <td>0.833339</td>\n",
       "      <td>1.197778</td>\n",
       "      <td>-1.320757</td>\n",
       "      <td>0.095081</td>\n",
       "      <td>-1.527468</td>\n",
       "      <td>2</td>\n",
       "      <td>True</td>\n",
       "      <td>-0.563957</td>\n",
       "    </tr>\n",
       "    <tr>\n",
       "      <th>9999</th>\n",
       "      <td>1.0</td>\n",
       "      <td>0.418815</td>\n",
       "      <td>1.131767</td>\n",
       "      <td>-1.385977</td>\n",
       "      <td>-1.333104</td>\n",
       "      <td>-1.298325</td>\n",
       "      <td>0</td>\n",
       "      <td>True</td>\n",
       "      <td>-1.258146</td>\n",
       "    </tr>\n",
       "  </tbody>\n",
       "</table>\n",
       "<p>10000 rows × 9 columns</p>\n",
       "</div>"
      ],
      "text/plain": [
       "       Z0        Z1        W0        W1        W2        W3 W4     v0  \\\n",
       "0     1.0  0.911666  2.034568 -0.916744 -0.485372 -0.682627  0   True   \n",
       "1     1.0  0.178290  0.280525  0.386795  0.327204 -1.021838  1  False   \n",
       "2     1.0  0.071331  0.238329 -1.519050  1.059561 -0.101084  2   True   \n",
       "3     1.0  0.270652 -1.486595 -0.190290 -1.406827 -1.924531  3   True   \n",
       "4     1.0  0.997211  0.022435 -0.727282 -0.314563 -1.436002  2   True   \n",
       "...   ...       ...       ...       ...       ...       ... ..    ...   \n",
       "9995  1.0  0.660732  1.564319 -1.811185 -1.328025 -2.120146  1   True   \n",
       "9996  1.0  0.516135  2.239088  0.385106 -0.419515  0.606140  2   True   \n",
       "9997  1.0  0.758656 -1.545891  0.505061 -0.223775 -0.594513  0   True   \n",
       "9998  1.0  0.833339  1.197778 -1.320757  0.095081 -1.527468  2   True   \n",
       "9999  1.0  0.418815  1.131767 -1.385977 -1.333104 -1.298325  0   True   \n",
       "\n",
       "             y  \n",
       "0    -0.122617  \n",
       "1    -0.286822  \n",
       "2     0.672153  \n",
       "3    -0.368811  \n",
       "4    -0.259639  \n",
       "...        ...  \n",
       "9995 -1.945343  \n",
       "9996  2.647852  \n",
       "9997  0.578718  \n",
       "9998 -0.563957  \n",
       "9999 -1.258146  \n",
       "\n",
       "[10000 rows x 9 columns]"
      ]
     },
     "execution_count": 3,
     "metadata": {},
     "output_type": "execute_result"
    }
   ],
   "source": [
    "data = dowhy.datasets.linear_dataset(beta=1,\n",
    "        num_common_causes=5, \n",
    "        num_instruments = 2,\n",
    "        num_treatments=1,\n",
    "        num_discrete_common_causes=1,\n",
    "        num_samples=10000,\n",
    "        treatment_is_binary=True,\n",
    "        outcome_is_binary=False)\n",
    "df = data[\"df\"]\n",
    "print(df[df.v0==True].shape[0])\n",
    "df"
   ]
  },
  {
   "cell_type": "markdown",
   "id": "79b531e4",
   "metadata": {},
   "source": [
    "Note that we are using a pandas dataframe to load the data."
   ]
  },
  {
   "cell_type": "markdown",
   "id": "fc75cbf4",
   "metadata": {},
   "source": [
    "## Identifying the causal estimand"
   ]
  },
  {
   "cell_type": "markdown",
   "id": "0a78a752",
   "metadata": {},
   "source": [
    "We now input a causal graph in the GML graph format."
   ]
  },
  {
   "cell_type": "code",
   "execution_count": 4,
   "id": "07759220",
   "metadata": {
    "execution": {
     "iopub.execute_input": "2022-07-27T16:23:30.818118Z",
     "iopub.status.busy": "2022-07-27T16:23:30.817581Z",
     "iopub.status.idle": "2022-07-27T16:23:30.841731Z",
     "shell.execute_reply": "2022-07-27T16:23:30.841178Z"
    }
   },
   "outputs": [],
   "source": [
    "# With graph\n",
    "model=CausalModel(\n",
    "        data = df,\n",
    "        treatment=data[\"treatment_name\"],\n",
    "        outcome=data[\"outcome_name\"],\n",
    "        graph=data[\"gml_graph\"],\n",
    "        instruments=data[\"instrument_names\"]\n",
    "        )"
   ]
  },
  {
   "cell_type": "code",
   "execution_count": 5,
   "id": "959da949",
   "metadata": {
    "execution": {
     "iopub.execute_input": "2022-07-27T16:23:30.844655Z",
     "iopub.status.busy": "2022-07-27T16:23:30.844361Z",
     "iopub.status.idle": "2022-07-27T16:23:30.898589Z",
     "shell.execute_reply": "2022-07-27T16:23:30.898005Z"
    }
   },
   "outputs": [],
   "source": [
    "model.view_model()"
   ]
  },
  {
   "cell_type": "code",
   "execution_count": 6,
   "id": "592e6304",
   "metadata": {
    "execution": {
     "iopub.execute_input": "2022-07-27T16:23:30.901631Z",
     "iopub.status.busy": "2022-07-27T16:23:30.901239Z",
     "iopub.status.idle": "2022-07-27T16:23:30.924771Z",
     "shell.execute_reply": "2022-07-27T16:23:30.924169Z"
    }
   },
   "outputs": [
    {
     "data": {
      "image/png": "[encoded data removed]",
      "text/plain": [
       "<IPython.core.display.Image object>"
      ]
     },
     "metadata": {},
     "output_type": "display_data"
    }
   ],
   "source": [
    "from IPython.display import Image, display\n",
    "display(Image(filename=\"causal_model.png\"))"
   ]
  },
  {
   "cell_type": "markdown",
   "id": "f7ac1d04",
   "metadata": {},
   "source": [
    "We get a causal graph. Now identification and estimation is done."
   ]
  },
  {
   "cell_type": "code",
   "execution_count": 7,
   "id": "eef1bfbe",
   "metadata": {
    "execution": {
     "iopub.execute_input": "2022-07-27T16:23:30.927530Z",
     "iopub.status.busy": "2022-07-27T16:23:30.927315Z",
     "iopub.status.idle": "2022-07-27T16:23:31.140562Z",
     "shell.execute_reply": "2022-07-27T16:23:31.139900Z"
    }
   },
   "outputs": [
    {
     "name": "stdout",
     "output_type": "stream",
     "text": [
      "Estimand type: nonparametric-ate\n",
      "\n",
      "### Estimand : 1\n",
      "Estimand name: backdoor\n",
      "Estimand expression:\n",
      "  d                       \n",
      "─────(E[y|W0,W4,W3,W2,W1])\n",
      "d[v₀]                     \n",
      "Estimand assumption 1, Unconfoundedness: If U→{v0} and U→y then P(y|v0,W0,W4,W3,W2,W1,U) = P(y|v0,W0,W4,W3,W2,W1)\n",
      "\n",
      "### Estimand : 2\n",
      "Estimand name: iv\n",
      "Estimand expression:\n",
      " ⎡                              -1⎤\n",
      " ⎢    d        ⎛    d          ⎞  ⎥\n",
      "E⎢─────────(y)⋅⎜─────────([v₀])⎟  ⎥\n",
      " ⎣d[Z₀  Z₁]    ⎝d[Z₀  Z₁]      ⎠  ⎦\n",
      "Estimand assumption 1, As-if-random: If U→→y then ¬(U →→{Z0,Z1})\n",
      "Estimand assumption 2, Exclusion: If we remove {Z0,Z1}→{v0}, then ¬({Z0,Z1}→y)\n",
      "\n",
      "### Estimand : 3\n",
      "Estimand name: frontdoor\n",
      "No such variable(s) found!\n",
      "\n"
     ]
    }
   ],
   "source": [
    "identified_estimand = model.identify_effect(proceed_when_unidentifiable=True)\n",
    "print(identified_estimand)"
   ]
  },
  {
   "cell_type": "markdown",
   "id": "497b728c",
   "metadata": {},
   "source": [
    "## Method 1: Propensity Score Stratification\n",
    "\n",
    "We will be using propensity scores to stratify units in the data."
   ]
  },
  {
   "cell_type": "code",
   "execution_count": 8,
   "id": "b60e839f",
   "metadata": {
    "execution": {
     "iopub.execute_input": "2022-07-27T16:23:31.143593Z",
     "iopub.status.busy": "2022-07-27T16:23:31.143188Z",
     "iopub.status.idle": "2022-07-27T16:23:31.774032Z",
     "shell.execute_reply": "2022-07-27T16:23:31.772795Z"
    }
   },
   "outputs": [
    {
     "name": "stdout",
     "output_type": "stream",
     "text": [
      "propensity_score_stratification\n"
     ]
    },
    {
     "name": "stderr",
     "output_type": "stream",
     "text": [
      "/usr/local/lib/python3.8/dist-packages/sklearn/utils/validation.py:993: DataConversionWarning: A column-vector y was passed when a 1d array was expected. Please change the shape of y to (n_samples, ), for example using ravel().\n",
      "  y = column_or_1d(y, warn=True)\n"
     ]
    },
    {
     "name": "stdout",
     "output_type": "stream",
     "text": [
      "*** Causal Estimate ***\n",
      "\n",
      "## Identified estimand\n",
      "Estimand type: nonparametric-ate\n",
      "\n",
      "### Estimand : 1\n",
      "Estimand name: backdoor\n",
      "Estimand expression:\n",
      "  d                       \n",
      "─────(E[y|W0,W4,W3,W2,W1])\n",
      "d[v₀]                     \n",
      "Estimand assumption 1, Unconfoundedness: If U→{v0} and U→y then P(y|v0,W0,W4,W3,W2,W1,U) = P(y|v0,W0,W4,W3,W2,W1)\n",
      "\n",
      "## Realized estimand\n",
      "b: y~v0+W0+W4+W3+W2+W1\n",
      "Target units: att\n",
      "\n",
      "## Estimate\n",
      "Mean value: 0.9783438907951191\n",
      "\n",
      "Causal Estimate is 0.9783438907951191\n"
     ]
    }
   ],
   "source": [
    "causal_estimate_strat = model.estimate_effect(identified_estimand,\n",
    "                                              method_name=\"backdoor.propensity_score_stratification\",\n",
    "                                              target_units=\"att\")\n",
    "print(causal_estimate_strat)\n",
    "print(\"Causal Estimate is \" + str(causal_estimate_strat.value))"
   ]
  },
  {
   "cell_type": "markdown",
   "id": "97133ecb",
   "metadata": {},
   "source": [
    "### Textual Interpreter\n",
    "\n",
    "The textual Interpreter describes (in words) the effect of unit change in the treatment variable on the outcome variable."
   ]
  },
  {
   "cell_type": "code",
   "execution_count": 9,
   "id": "89636f61",
   "metadata": {
    "execution": {
     "iopub.execute_input": "2022-07-27T16:23:31.777479Z",
     "iopub.status.busy": "2022-07-27T16:23:31.777019Z",
     "iopub.status.idle": "2022-07-27T16:23:31.800673Z",
     "shell.execute_reply": "2022-07-27T16:23:31.800107Z"
    }
   },
   "outputs": [
    {
     "name": "stdout",
     "output_type": "stream",
     "text": [
      "Increasing the treatment variable(s) [v0] from 0 to 1 causes an increase of 0.9783438907951191 in the expected value of the outcome [y], over the data distribution/population represented by the dataset.\n"
     ]
    }
   ],
   "source": [
    "# Textual Interpreter\n",
    "interpretation = causal_estimate_strat.interpret(method_name=\"textual_effect_interpreter\")"
   ]
  },
  {
   "cell_type": "markdown",
   "id": "cf9176de",
   "metadata": {},
   "source": [
    "### Visual Interpreter\n",
    "\n",
    "The visual interpreter plots the change in the standardized mean difference (SMD) before and after Propensity Score based adjustment of the dataset. The formula for SMD is given below.\n",
    "\n",
    "\n",
    "$SMD = \\frac{\\bar X_{1} - \\bar X_{2}}{\\sqrt{(S_{1}^{2} + S_{2}^{2})/2}}$\n",
    "\n",
    "Here, $\\bar X_{1}$ and $\\bar X_{2}$ are the sample mean for the treated and control groups.\n"
   ]
  },
  {
   "cell_type": "code",
   "execution_count": 10,
   "id": "2a61fa3b",
   "metadata": {
    "execution": {
     "iopub.execute_input": "2022-07-27T16:23:31.803660Z",
     "iopub.status.busy": "2022-07-27T16:23:31.803334Z",
     "iopub.status.idle": "2022-07-27T16:23:32.787505Z",
     "shell.execute_reply": "2022-07-27T16:23:32.786884Z"
    }
   },
   "outputs": [
    {
     "data": {
      "image/png": "[encoded data removed]",
      "text/plain": [
       "<Figure size 432x288 with 1 Axes>"
      ]
     },
     "metadata": {
      "needs_background": "light"
     },
     "output_type": "display_data"
    }
   ],
   "source": [
    "# Visual Interpreter\n",
    "interpretation = causal_estimate_strat.interpret(method_name=\"propensity_balance_interpreter\")"
   ]
  },
  {
   "cell_type": "markdown",
   "id": "9c7a9a8b",
   "metadata": {},
   "source": [
    "This plot shows how the SMD decreases from the unadjusted to the stratified units. "
   ]
  },
  {
   "cell_type": "markdown",
   "id": "bbe36f72",
   "metadata": {},
   "source": [
    "## Method 2: Propensity Score Matching\n",
    "\n",
    "We will be using propensity scores to match units in the data."
   ]
  },
  {
   "cell_type": "code",
   "execution_count": 11,
   "id": "95de471b",
   "metadata": {
    "execution": {
     "iopub.execute_input": "2022-07-27T16:23:32.790651Z",
     "iopub.status.busy": "2022-07-27T16:23:32.790204Z",
     "iopub.status.idle": "2022-07-27T16:23:36.271451Z",
     "shell.execute_reply": "2022-07-27T16:23:36.270927Z"
    }
   },
   "outputs": [
    {
     "name": "stdout",
     "output_type": "stream",
     "text": [
      "propensity_score_matching\n"
     ]
    },
    {
     "name": "stderr",
     "output_type": "stream",
     "text": [
      "/usr/local/lib/python3.8/dist-packages/sklearn/utils/validation.py:993: DataConversionWarning: A column-vector y was passed when a 1d array was expected. Please change the shape of y to (n_samples, ), for example using ravel().\n",
      "  y = column_or_1d(y, warn=True)\n"
     ]
    },
    {
     "name": "stdout",
     "output_type": "stream",
     "text": [
      "*** Causal Estimate ***\n",
      "\n",
      "## Identified estimand\n",
      "Estimand type: nonparametric-ate\n",
      "\n",
      "### Estimand : 1\n",
      "Estimand name: backdoor\n",
      "Estimand expression:\n",
      "  d                       \n",
      "─────(E[y|W0,W4,W3,W2,W1])\n",
      "d[v₀]                     \n",
      "Estimand assumption 1, Unconfoundedness: If U→{v0} and U→y then P(y|v0,W0,W4,W3,W2,W1,U) = P(y|v0,W0,W4,W3,W2,W1)\n",
      "\n",
      "## Realized estimand\n",
      "b: y~v0+W0+W4+W3+W2+W1\n",
      "Target units: atc\n",
      "\n",
      "## Estimate\n",
      "Mean value: 0.9518047836115658\n",
      "\n",
      "Causal Estimate is 0.9518047836115658\n"
     ]
    }
   ],
   "source": [
    "causal_estimate_match = model.estimate_effect(identified_estimand,\n",
    "                                              method_name=\"backdoor.propensity_score_matching\",\n",
    "                                              target_units=\"atc\")\n",
    "print(causal_estimate_match)\n",
    "print(\"Causal Estimate is \" + str(causal_estimate_match.value))"
   ]
  },
  {
   "cell_type": "code",
   "execution_count": 12,
   "id": "f3c858cf",
   "metadata": {
    "execution": {
     "iopub.execute_input": "2022-07-27T16:23:36.274800Z",
     "iopub.status.busy": "2022-07-27T16:23:36.274465Z",
     "iopub.status.idle": "2022-07-27T16:23:36.300225Z",
     "shell.execute_reply": "2022-07-27T16:23:36.298906Z"
    }
   },
   "outputs": [
    {
     "name": "stdout",
     "output_type": "stream",
     "text": [
      "Increasing the treatment variable(s) [v0] from 0 to 1 causes an increase of 0.9518047836115658 in the expected value of the outcome [y], over the data distribution/population represented by the dataset.\n"
     ]
    }
   ],
   "source": [
    "# Textual Interpreter\n",
    "interpretation = causal_estimate_match.interpret(method_name=\"textual_effect_interpreter\")"
   ]
  },
  {
   "cell_type": "markdown",
   "id": "9c0332a1",
   "metadata": {},
   "source": [
    "Cannot use propensity balance interpretor here since the interpreter method only supports propensity score stratification estimator."
   ]
  },
  {
   "cell_type": "markdown",
   "id": "e4802e3c",
   "metadata": {},
   "source": [
    "## Method 3: Weighting\n",
    "\n",
    "We will be using (inverse) propensity scores to assign weights to units in the data. DoWhy supports a few different weighting schemes:\n",
    "1. Vanilla Inverse Propensity Score weighting (IPS) (weighting_scheme=\"ips_weight\")\n",
    "2. Self-normalized IPS weighting (also known as the Hajek estimator) (weighting_scheme=\"ips_normalized_weight\")\n",
    "3. Stabilized IPS weighting (weighting_scheme = \"ips_stabilized_weight\")"
   ]
  },
  {
   "cell_type": "code",
   "execution_count": 13,
   "id": "d3c8aa81",
   "metadata": {
    "execution": {
     "iopub.execute_input": "2022-07-27T16:23:36.303000Z",
     "iopub.status.busy": "2022-07-27T16:23:36.302796Z",
     "iopub.status.idle": "2022-07-27T16:23:36.359965Z",
     "shell.execute_reply": "2022-07-27T16:23:36.359372Z"
    }
   },
   "outputs": [
    {
     "name": "stdout",
     "output_type": "stream",
     "text": [
      "propensity_score_weighting\n",
      "*** Causal Estimate ***\n",
      "\n",
      "## Identified estimand\n",
      "Estimand type: nonparametric-ate\n",
      "\n",
      "### Estimand : 1\n",
      "Estimand name: backdoor\n",
      "Estimand expression:\n",
      "  d                       \n",
      "─────(E[y|W0,W4,W3,W2,W1])\n",
      "d[v₀]                     \n",
      "Estimand assumption 1, Unconfoundedness: If U→{v0} and U→y then P(y|v0,W0,W4,W3,W2,W1,U) = P(y|v0,W0,W4,W3,W2,W1)\n",
      "\n",
      "## Realized estimand\n",
      "b: y~v0+W0+W4+W3+W2+W1\n",
      "Target units: ate\n",
      "\n",
      "## Estimate\n",
      "Mean value: 1.1691688034559378\n",
      "\n",
      "Causal Estimate is 1.1691688034559378\n"
     ]
    },
    {
     "name": "stderr",
     "output_type": "stream",
     "text": [
      "/usr/local/lib/python3.8/dist-packages/sklearn/utils/validation.py:993: DataConversionWarning: A column-vector y was passed when a 1d array was expected. Please change the shape of y to (n_samples, ), for example using ravel().\n",
      "  y = column_or_1d(y, warn=True)\n"
     ]
    }
   ],
   "source": [
    "causal_estimate_ipw = model.estimate_effect(identified_estimand,\n",
    "                                            method_name=\"backdoor.propensity_score_weighting\",\n",
    "                                            target_units = \"ate\",\n",
    "                                            method_params={\"weighting_scheme\":\"ips_weight\"})\n",
    "print(causal_estimate_ipw)\n",
    "print(\"Causal Estimate is \" + str(causal_estimate_ipw.value))"
   ]
  },
  {
   "cell_type": "code",
   "execution_count": 14,
   "id": "e7b30e58",
   "metadata": {
    "execution": {
     "iopub.execute_input": "2022-07-27T16:23:36.363064Z",
     "iopub.status.busy": "2022-07-27T16:23:36.362842Z",
     "iopub.status.idle": "2022-07-27T16:23:36.386461Z",
     "shell.execute_reply": "2022-07-27T16:23:36.385868Z"
    }
   },
   "outputs": [
    {
     "name": "stdout",
     "output_type": "stream",
     "text": [
      "Increasing the treatment variable(s) [v0] from 0 to 1 causes an increase of 1.1691688034559378 in the expected value of the outcome [y], over the data distribution/population represented by the dataset.\n"
     ]
    }
   ],
   "source": [
    "# Textual Interpreter\n",
    "interpretation = causal_estimate_ipw.interpret(method_name=\"textual_effect_interpreter\")"
   ]
  },
  {
   "cell_type": "code",
   "execution_count": 15,
   "id": "6fd453a5",
   "metadata": {
    "execution": {
     "iopub.execute_input": "2022-07-27T16:23:36.389350Z",
     "iopub.status.busy": "2022-07-27T16:23:36.389138Z",
     "iopub.status.idle": "2022-07-27T16:23:36.614364Z",
     "shell.execute_reply": "2022-07-27T16:23:36.613755Z"
    }
   },
   "outputs": [
    {
     "data": {
      "image/png": "[encoded data removed]",
      "text/plain": [
       "<Figure size 576x576 with 2 Axes>"
      ]
     },
     "metadata": {
      "needs_background": "light"
     },
     "output_type": "display_data"
    }
   ],
   "source": [
    "interpretation = causal_estimate_ipw.interpret(method_name=\"confounder_distribution_interpreter\", fig_size=(8,8), font_size=12, var_name='W4', var_type='discrete')"
   ]
  },
  {
   "cell_type": "code",
   "execution_count": null,
   "id": "7273bc9c",
   "metadata": {},
   "outputs": [],
   "source": []
  }
 ],
 "metadata": {
  "kernelspec": {
   "display_name": "Python 3",
   "language": "python",
   "name": "python3"
  },
  "language_info": {
   "codemirror_mode": {
    "name": "ipython",
    "version": 3
   },
   "file_extension": ".py",
   "mimetype": "text/x-python",
   "name": "python",
   "nbconvert_exporter": "python",
   "pygments_lexer": "ipython3",
   "version": "3.8.10"
  },
  "toc": {
   "base_numbering": 1,
   "nav_menu": {},
   "number_sections": false,
   "sideBar": true,
   "skip_h1_title": true,
   "title_cell": "Table of Contents",
   "title_sidebar": "Contents",
   "toc_cell": false,
   "toc_position": {},
   "toc_section_display": true,
   "toc_window_display": false
  }
 },
 "nbformat": 4,
 "nbformat_minor": 5
}
