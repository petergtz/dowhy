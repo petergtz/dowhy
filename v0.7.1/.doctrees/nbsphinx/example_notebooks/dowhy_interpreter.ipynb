{
 "cells": [
  {
   "cell_type": "markdown",
   "id": "ca2a9f6d",
   "metadata": {},
   "source": [
    "# DoWhy: Interpreters for Causal Estimators\n",
    "\n",
    "This is a quick introduction to the use of interpreters in the DoWhy causal inference library.\n",
    "We will load in a sample dataset, use different methods for estimating the causal effect of a (pre-specified)treatment variable on a (pre-specified) outcome variable and demonstrate how to interpret the obtained results.\n",
    "\n",
    "First, let us add the required path for Python to find the DoWhy code and load all required packages"
   ]
  },
  {
   "cell_type": "code",
   "execution_count": 1,
   "id": "3ad3275a",
   "metadata": {
    "execution": {
     "iopub.execute_input": "2022-08-02T07:52:01.521278Z",
     "iopub.status.busy": "2022-08-02T07:52:01.520836Z",
     "iopub.status.idle": "2022-08-02T07:52:01.537086Z",
     "shell.execute_reply": "2022-08-02T07:52:01.536498Z"
    }
   },
   "outputs": [],
   "source": [
    "%load_ext autoreload\n",
    "%autoreload 2"
   ]
  },
  {
   "cell_type": "code",
   "execution_count": 2,
   "id": "f7f1a2ee",
   "metadata": {
    "execution": {
     "iopub.execute_input": "2022-08-02T07:52:01.540401Z",
     "iopub.status.busy": "2022-08-02T07:52:01.540003Z",
     "iopub.status.idle": "2022-08-02T07:52:02.656857Z",
     "shell.execute_reply": "2022-08-02T07:52:02.655924Z"
    }
   },
   "outputs": [
    {
     "name": "stdout",
     "output_type": "stream",
     "text": [
      "keywords are unexpanded, not using\n"
     ]
    }
   ],
   "source": [
    "import numpy as np\n",
    "import pandas as pd\n",
    "import logging\n",
    "\n",
    "import dowhy\n",
    "from dowhy import CausalModel\n",
    "import dowhy.datasets "
   ]
  },
  {
   "cell_type": "markdown",
   "id": "ce3f4374",
   "metadata": {},
   "source": [
    "Now, let us load a dataset. For simplicity, we simulate a dataset with linear relationships between common causes and treatment, and common causes and outcome.\n",
    "\n",
    "Beta is the true causal effect."
   ]
  },
  {
   "cell_type": "code",
   "execution_count": 3,
   "id": "fa9fec7e",
   "metadata": {
    "execution": {
     "iopub.execute_input": "2022-08-02T07:52:02.661248Z",
     "iopub.status.busy": "2022-08-02T07:52:02.660517Z",
     "iopub.status.idle": "2022-08-02T07:52:02.986102Z",
     "shell.execute_reply": "2022-08-02T07:52:02.985530Z"
    }
   },
   "outputs": [
    {
     "name": "stdout",
     "output_type": "stream",
     "text": [
      "9183\n"
     ]
    },
    {
     "data": {
      "text/html": [
       "<div>\n",
       "<style scoped>\n",
       "    .dataframe tbody tr th:only-of-type {\n",
       "        vertical-align: middle;\n",
       "    }\n",
       "\n",
       "    .dataframe tbody tr th {\n",
       "        vertical-align: top;\n",
       "    }\n",
       "\n",
       "    .dataframe thead th {\n",
       "        text-align: right;\n",
       "    }\n",
       "</style>\n",
       "<table border=\"1\" class=\"dataframe\">\n",
       "  <thead>\n",
       "    <tr style=\"text-align: right;\">\n",
       "      <th></th>\n",
       "      <th>Z0</th>\n",
       "      <th>Z1</th>\n",
       "      <th>W0</th>\n",
       "      <th>W1</th>\n",
       "      <th>W2</th>\n",
       "      <th>W3</th>\n",
       "      <th>W4</th>\n",
       "      <th>v0</th>\n",
       "      <th>y</th>\n",
       "    </tr>\n",
       "  </thead>\n",
       "  <tbody>\n",
       "    <tr>\n",
       "      <th>0</th>\n",
       "      <td>0.0</td>\n",
       "      <td>0.175564</td>\n",
       "      <td>-1.896139</td>\n",
       "      <td>0.503206</td>\n",
       "      <td>0.195505</td>\n",
       "      <td>2.071839</td>\n",
       "      <td>3</td>\n",
       "      <td>True</td>\n",
       "      <td>3.224429</td>\n",
       "    </tr>\n",
       "    <tr>\n",
       "      <th>1</th>\n",
       "      <td>0.0</td>\n",
       "      <td>0.747316</td>\n",
       "      <td>-1.310216</td>\n",
       "      <td>1.742433</td>\n",
       "      <td>2.362034</td>\n",
       "      <td>1.031711</td>\n",
       "      <td>1</td>\n",
       "      <td>True</td>\n",
       "      <td>4.421329</td>\n",
       "    </tr>\n",
       "    <tr>\n",
       "      <th>2</th>\n",
       "      <td>0.0</td>\n",
       "      <td>0.770864</td>\n",
       "      <td>-1.533251</td>\n",
       "      <td>1.927733</td>\n",
       "      <td>0.866732</td>\n",
       "      <td>-0.148826</td>\n",
       "      <td>3</td>\n",
       "      <td>True</td>\n",
       "      <td>3.186324</td>\n",
       "    </tr>\n",
       "    <tr>\n",
       "      <th>3</th>\n",
       "      <td>0.0</td>\n",
       "      <td>0.336415</td>\n",
       "      <td>0.344800</td>\n",
       "      <td>1.565000</td>\n",
       "      <td>0.654969</td>\n",
       "      <td>1.324120</td>\n",
       "      <td>0</td>\n",
       "      <td>False</td>\n",
       "      <td>2.347659</td>\n",
       "    </tr>\n",
       "    <tr>\n",
       "      <th>4</th>\n",
       "      <td>0.0</td>\n",
       "      <td>0.961680</td>\n",
       "      <td>-1.173333</td>\n",
       "      <td>-0.547890</td>\n",
       "      <td>0.846157</td>\n",
       "      <td>1.784453</td>\n",
       "      <td>0</td>\n",
       "      <td>True</td>\n",
       "      <td>2.112508</td>\n",
       "    </tr>\n",
       "    <tr>\n",
       "      <th>...</th>\n",
       "      <td>...</td>\n",
       "      <td>...</td>\n",
       "      <td>...</td>\n",
       "      <td>...</td>\n",
       "      <td>...</td>\n",
       "      <td>...</td>\n",
       "      <td>...</td>\n",
       "      <td>...</td>\n",
       "      <td>...</td>\n",
       "    </tr>\n",
       "    <tr>\n",
       "      <th>9995</th>\n",
       "      <td>1.0</td>\n",
       "      <td>0.056802</td>\n",
       "      <td>-1.432858</td>\n",
       "      <td>0.871325</td>\n",
       "      <td>0.525092</td>\n",
       "      <td>0.504750</td>\n",
       "      <td>1</td>\n",
       "      <td>False</td>\n",
       "      <td>0.920513</td>\n",
       "    </tr>\n",
       "    <tr>\n",
       "      <th>9996</th>\n",
       "      <td>0.0</td>\n",
       "      <td>0.974498</td>\n",
       "      <td>1.067972</td>\n",
       "      <td>-0.013373</td>\n",
       "      <td>0.829033</td>\n",
       "      <td>1.202892</td>\n",
       "      <td>0</td>\n",
       "      <td>True</td>\n",
       "      <td>3.178279</td>\n",
       "    </tr>\n",
       "    <tr>\n",
       "      <th>9997</th>\n",
       "      <td>0.0</td>\n",
       "      <td>0.230857</td>\n",
       "      <td>0.238039</td>\n",
       "      <td>0.250317</td>\n",
       "      <td>0.737788</td>\n",
       "      <td>1.003849</td>\n",
       "      <td>1</td>\n",
       "      <td>True</td>\n",
       "      <td>3.088284</td>\n",
       "    </tr>\n",
       "    <tr>\n",
       "      <th>9998</th>\n",
       "      <td>0.0</td>\n",
       "      <td>0.638321</td>\n",
       "      <td>1.724219</td>\n",
       "      <td>1.047310</td>\n",
       "      <td>1.292399</td>\n",
       "      <td>0.522665</td>\n",
       "      <td>0</td>\n",
       "      <td>True</td>\n",
       "      <td>3.959024</td>\n",
       "    </tr>\n",
       "    <tr>\n",
       "      <th>9999</th>\n",
       "      <td>0.0</td>\n",
       "      <td>0.960152</td>\n",
       "      <td>0.463903</td>\n",
       "      <td>1.455005</td>\n",
       "      <td>0.270231</td>\n",
       "      <td>1.146539</td>\n",
       "      <td>1</td>\n",
       "      <td>True</td>\n",
       "      <td>3.377107</td>\n",
       "    </tr>\n",
       "  </tbody>\n",
       "</table>\n",
       "<p>10000 rows × 9 columns</p>\n",
       "</div>"
      ],
      "text/plain": [
       "       Z0        Z1        W0        W1        W2        W3 W4     v0  \\\n",
       "0     0.0  0.175564 -1.896139  0.503206  0.195505  2.071839  3   True   \n",
       "1     0.0  0.747316 -1.310216  1.742433  2.362034  1.031711  1   True   \n",
       "2     0.0  0.770864 -1.533251  1.927733  0.866732 -0.148826  3   True   \n",
       "3     0.0  0.336415  0.344800  1.565000  0.654969  1.324120  0  False   \n",
       "4     0.0  0.961680 -1.173333 -0.547890  0.846157  1.784453  0   True   \n",
       "...   ...       ...       ...       ...       ...       ... ..    ...   \n",
       "9995  1.0  0.056802 -1.432858  0.871325  0.525092  0.504750  1  False   \n",
       "9996  0.0  0.974498  1.067972 -0.013373  0.829033  1.202892  0   True   \n",
       "9997  0.0  0.230857  0.238039  0.250317  0.737788  1.003849  1   True   \n",
       "9998  0.0  0.638321  1.724219  1.047310  1.292399  0.522665  0   True   \n",
       "9999  0.0  0.960152  0.463903  1.455005  0.270231  1.146539  1   True   \n",
       "\n",
       "             y  \n",
       "0     3.224429  \n",
       "1     4.421329  \n",
       "2     3.186324  \n",
       "3     2.347659  \n",
       "4     2.112508  \n",
       "...        ...  \n",
       "9995  0.920513  \n",
       "9996  3.178279  \n",
       "9997  3.088284  \n",
       "9998  3.959024  \n",
       "9999  3.377107  \n",
       "\n",
       "[10000 rows x 9 columns]"
      ]
     },
     "execution_count": 3,
     "metadata": {},
     "output_type": "execute_result"
    }
   ],
   "source": [
    "data = dowhy.datasets.linear_dataset(beta=1,\n",
    "        num_common_causes=5, \n",
    "        num_instruments = 2,\n",
    "        num_treatments=1,\n",
    "        num_discrete_common_causes=1,\n",
    "        num_samples=10000,\n",
    "        treatment_is_binary=True,\n",
    "        outcome_is_binary=False)\n",
    "df = data[\"df\"]\n",
    "print(df[df.v0==True].shape[0])\n",
    "df"
   ]
  },
  {
   "cell_type": "markdown",
   "id": "6bc61921",
   "metadata": {},
   "source": [
    "Note that we are using a pandas dataframe to load the data."
   ]
  },
  {
   "cell_type": "markdown",
   "id": "7ec4c080",
   "metadata": {},
   "source": [
    "## Identifying the causal estimand"
   ]
  },
  {
   "cell_type": "markdown",
   "id": "7a7e6dfd",
   "metadata": {},
   "source": [
    "We now input a causal graph in the GML graph format."
   ]
  },
  {
   "cell_type": "code",
   "execution_count": 4,
   "id": "c11fd107",
   "metadata": {
    "execution": {
     "iopub.execute_input": "2022-08-02T07:52:02.989898Z",
     "iopub.status.busy": "2022-08-02T07:52:02.989477Z",
     "iopub.status.idle": "2022-08-02T07:52:03.015215Z",
     "shell.execute_reply": "2022-08-02T07:52:03.014535Z"
    }
   },
   "outputs": [],
   "source": [
    "# With graph\n",
    "model=CausalModel(\n",
    "        data = df,\n",
    "        treatment=data[\"treatment_name\"],\n",
    "        outcome=data[\"outcome_name\"],\n",
    "        graph=data[\"gml_graph\"],\n",
    "        instruments=data[\"instrument_names\"]\n",
    "        )"
   ]
  },
  {
   "cell_type": "code",
   "execution_count": 5,
   "id": "e10e4b09",
   "metadata": {
    "execution": {
     "iopub.execute_input": "2022-08-02T07:52:03.018643Z",
     "iopub.status.busy": "2022-08-02T07:52:03.018346Z",
     "iopub.status.idle": "2022-08-02T07:52:03.086310Z",
     "shell.execute_reply": "2022-08-02T07:52:03.085592Z"
    }
   },
   "outputs": [],
   "source": [
    "model.view_model()"
   ]
  },
  {
   "cell_type": "code",
   "execution_count": 6,
   "id": "fc2f7a51",
   "metadata": {
    "execution": {
     "iopub.execute_input": "2022-08-02T07:52:03.090346Z",
     "iopub.status.busy": "2022-08-02T07:52:03.089879Z",
     "iopub.status.idle": "2022-08-02T07:52:03.117978Z",
     "shell.execute_reply": "2022-08-02T07:52:03.117270Z"
    }
   },
   "outputs": [
    {
     "data": {
      "image/png": "[encoded data removed]",
      "text/plain": [
       "<IPython.core.display.Image object>"
      ]
     },
     "metadata": {},
     "output_type": "display_data"
    }
   ],
   "source": [
    "from IPython.display import Image, display\n",
    "display(Image(filename=\"causal_model.png\"))"
   ]
  },
  {
   "cell_type": "markdown",
   "id": "b58605d1",
   "metadata": {},
   "source": [
    "We get a causal graph. Now identification and estimation is done."
   ]
  },
  {
   "cell_type": "code",
   "execution_count": 7,
   "id": "146fb244",
   "metadata": {
    "execution": {
     "iopub.execute_input": "2022-08-02T07:52:03.121414Z",
     "iopub.status.busy": "2022-08-02T07:52:03.121033Z",
     "iopub.status.idle": "2022-08-02T07:52:03.353348Z",
     "shell.execute_reply": "2022-08-02T07:52:03.352486Z"
    }
   },
   "outputs": [
    {
     "name": "stdout",
     "output_type": "stream",
     "text": [
      "Estimand type: nonparametric-ate\n",
      "\n",
      "### Estimand : 1\n",
      "Estimand name: backdoor\n",
      "Estimand expression:\n",
      "  d                       \n",
      "─────(E[y|W0,W2,W3,W4,W1])\n",
      "d[v₀]                     \n",
      "Estimand assumption 1, Unconfoundedness: If U→{v0} and U→y then P(y|v0,W0,W2,W3,W4,W1,U) = P(y|v0,W0,W2,W3,W4,W1)\n",
      "\n",
      "### Estimand : 2\n",
      "Estimand name: iv\n",
      "Estimand expression:\n",
      " ⎡                              -1⎤\n",
      " ⎢    d        ⎛    d          ⎞  ⎥\n",
      "E⎢─────────(y)⋅⎜─────────([v₀])⎟  ⎥\n",
      " ⎣d[Z₀  Z₁]    ⎝d[Z₀  Z₁]      ⎠  ⎦\n",
      "Estimand assumption 1, As-if-random: If U→→y then ¬(U →→{Z0,Z1})\n",
      "Estimand assumption 2, Exclusion: If we remove {Z0,Z1}→{v0}, then ¬({Z0,Z1}→y)\n",
      "\n",
      "### Estimand : 3\n",
      "Estimand name: frontdoor\n",
      "No such variable(s) found!\n",
      "\n"
     ]
    }
   ],
   "source": [
    "identified_estimand = model.identify_effect(proceed_when_unidentifiable=True)\n",
    "print(identified_estimand)"
   ]
  },
  {
   "cell_type": "markdown",
   "id": "ab980ba3",
   "metadata": {},
   "source": [
    "## Method 1: Propensity Score Stratification\n",
    "\n",
    "We will be using propensity scores to stratify units in the data."
   ]
  },
  {
   "cell_type": "code",
   "execution_count": 8,
   "id": "d467a145",
   "metadata": {
    "execution": {
     "iopub.execute_input": "2022-08-02T07:52:03.357105Z",
     "iopub.status.busy": "2022-08-02T07:52:03.356665Z",
     "iopub.status.idle": "2022-08-02T07:52:04.181774Z",
     "shell.execute_reply": "2022-08-02T07:52:04.180891Z"
    }
   },
   "outputs": [
    {
     "name": "stdout",
     "output_type": "stream",
     "text": [
      "propensity_score_stratification\n"
     ]
    },
    {
     "name": "stderr",
     "output_type": "stream",
     "text": [
      "/usr/local/lib/python3.8/dist-packages/sklearn/utils/validation.py:993: DataConversionWarning: A column-vector y was passed when a 1d array was expected. Please change the shape of y to (n_samples, ), for example using ravel().\n",
      "  y = column_or_1d(y, warn=True)\n"
     ]
    },
    {
     "name": "stdout",
     "output_type": "stream",
     "text": [
      "*** Causal Estimate ***\n",
      "\n",
      "## Identified estimand\n",
      "Estimand type: nonparametric-ate\n",
      "\n",
      "### Estimand : 1\n",
      "Estimand name: backdoor\n",
      "Estimand expression:\n",
      "  d                       \n",
      "─────(E[y|W0,W2,W3,W4,W1])\n",
      "d[v₀]                     \n",
      "Estimand assumption 1, Unconfoundedness: If U→{v0} and U→y then P(y|v0,W0,W2,W3,W4,W1,U) = P(y|v0,W0,W2,W3,W4,W1)\n",
      "\n",
      "## Realized estimand\n",
      "b: y~v0+W0+W2+W3+W4+W1\n",
      "Target units: att\n",
      "\n",
      "## Estimate\n",
      "Mean value: 1.0067668249030797\n",
      "\n",
      "Causal Estimate is 1.0067668249030797\n"
     ]
    }
   ],
   "source": [
    "causal_estimate_strat = model.estimate_effect(identified_estimand,\n",
    "                                              method_name=\"backdoor.propensity_score_stratification\",\n",
    "                                              target_units=\"att\")\n",
    "print(causal_estimate_strat)\n",
    "print(\"Causal Estimate is \" + str(causal_estimate_strat.value))"
   ]
  },
  {
   "cell_type": "markdown",
   "id": "8ad9fa66",
   "metadata": {},
   "source": [
    "### Textual Interpreter\n",
    "\n",
    "The textual Interpreter describes (in words) the effect of unit change in the treatment variable on the outcome variable."
   ]
  },
  {
   "cell_type": "code",
   "execution_count": 9,
   "id": "8210150b",
   "metadata": {
    "execution": {
     "iopub.execute_input": "2022-08-02T07:52:04.185677Z",
     "iopub.status.busy": "2022-08-02T07:52:04.185263Z",
     "iopub.status.idle": "2022-08-02T07:52:04.212347Z",
     "shell.execute_reply": "2022-08-02T07:52:04.211521Z"
    }
   },
   "outputs": [
    {
     "name": "stdout",
     "output_type": "stream",
     "text": [
      "Increasing the treatment variable(s) [v0] from 0 to 1 causes an increase of 1.0067668249030797 in the expected value of the outcome [y], over the data distribution/population represented by the dataset.\n"
     ]
    }
   ],
   "source": [
    "# Textual Interpreter\n",
    "interpretation = causal_estimate_strat.interpret(method_name=\"textual_effect_interpreter\")"
   ]
  },
  {
   "cell_type": "markdown",
   "id": "818ac8b0",
   "metadata": {},
   "source": [
    "### Visual Interpreter\n",
    "\n",
    "The visual interpreter plots the change in the standardized mean difference (SMD) before and after Propensity Score based adjustment of the dataset. The formula for SMD is given below.\n",
    "\n",
    "\n",
    "$SMD = \\frac{\\bar X_{1} - \\bar X_{2}}{\\sqrt{(S_{1}^{2} + S_{2}^{2})/2}}$\n",
    "\n",
    "Here, $\\bar X_{1}$ and $\\bar X_{2}$ are the sample mean for the treated and control groups.\n"
   ]
  },
  {
   "cell_type": "code",
   "execution_count": 10,
   "id": "05460109",
   "metadata": {
    "execution": {
     "iopub.execute_input": "2022-08-02T07:52:04.215935Z",
     "iopub.status.busy": "2022-08-02T07:52:04.215519Z",
     "iopub.status.idle": "2022-08-02T07:52:05.212903Z",
     "shell.execute_reply": "2022-08-02T07:52:05.212221Z"
    }
   },
   "outputs": [
    {
     "data": {
      "image/png": "[encoded data removed]",
      "text/plain": [
       "<Figure size 432x288 with 1 Axes>"
      ]
     },
     "metadata": {
      "needs_background": "light"
     },
     "output_type": "display_data"
    }
   ],
   "source": [
    "# Visual Interpreter\n",
    "interpretation = causal_estimate_strat.interpret(method_name=\"propensity_balance_interpreter\")"
   ]
  },
  {
   "cell_type": "markdown",
   "id": "d4e0b209",
   "metadata": {},
   "source": [
    "This plot shows how the SMD decreases from the unadjusted to the stratified units. "
   ]
  },
  {
   "cell_type": "markdown",
   "id": "85da5fe4",
   "metadata": {},
   "source": [
    "## Method 2: Propensity Score Matching\n",
    "\n",
    "We will be using propensity scores to match units in the data."
   ]
  },
  {
   "cell_type": "code",
   "execution_count": 11,
   "id": "736108a8",
   "metadata": {
    "execution": {
     "iopub.execute_input": "2022-08-02T07:52:05.216925Z",
     "iopub.status.busy": "2022-08-02T07:52:05.216364Z",
     "iopub.status.idle": "2022-08-02T07:52:09.593812Z",
     "shell.execute_reply": "2022-08-02T07:52:09.593092Z"
    }
   },
   "outputs": [
    {
     "name": "stdout",
     "output_type": "stream",
     "text": [
      "propensity_score_matching\n"
     ]
    },
    {
     "name": "stderr",
     "output_type": "stream",
     "text": [
      "/usr/local/lib/python3.8/dist-packages/sklearn/utils/validation.py:993: DataConversionWarning: A column-vector y was passed when a 1d array was expected. Please change the shape of y to (n_samples, ), for example using ravel().\n",
      "  y = column_or_1d(y, warn=True)\n"
     ]
    },
    {
     "name": "stdout",
     "output_type": "stream",
     "text": [
      "*** Causal Estimate ***\n",
      "\n",
      "## Identified estimand\n",
      "Estimand type: nonparametric-ate\n",
      "\n",
      "### Estimand : 1\n",
      "Estimand name: backdoor\n",
      "Estimand expression:\n",
      "  d                       \n",
      "─────(E[y|W0,W2,W3,W4,W1])\n",
      "d[v₀]                     \n",
      "Estimand assumption 1, Unconfoundedness: If U→{v0} and U→y then P(y|v0,W0,W2,W3,W4,W1,U) = P(y|v0,W0,W2,W3,W4,W1)\n",
      "\n",
      "## Realized estimand\n",
      "b: y~v0+W0+W2+W3+W4+W1\n",
      "Target units: atc\n",
      "\n",
      "## Estimate\n",
      "Mean value: 1.0045067710603397\n",
      "\n",
      "Causal Estimate is 1.0045067710603397\n"
     ]
    }
   ],
   "source": [
    "causal_estimate_match = model.estimate_effect(identified_estimand,\n",
    "                                              method_name=\"backdoor.propensity_score_matching\",\n",
    "                                              target_units=\"atc\")\n",
    "print(causal_estimate_match)\n",
    "print(\"Causal Estimate is \" + str(causal_estimate_match.value))"
   ]
  },
  {
   "cell_type": "code",
   "execution_count": 12,
   "id": "77764cd1",
   "metadata": {
    "execution": {
     "iopub.execute_input": "2022-08-02T07:52:09.597173Z",
     "iopub.status.busy": "2022-08-02T07:52:09.596716Z",
     "iopub.status.idle": "2022-08-02T07:52:09.622354Z",
     "shell.execute_reply": "2022-08-02T07:52:09.621684Z"
    }
   },
   "outputs": [
    {
     "name": "stdout",
     "output_type": "stream",
     "text": [
      "Increasing the treatment variable(s) [v0] from 0 to 1 causes an increase of 1.0045067710603397 in the expected value of the outcome [y], over the data distribution/population represented by the dataset.\n"
     ]
    }
   ],
   "source": [
    "# Textual Interpreter\n",
    "interpretation = causal_estimate_match.interpret(method_name=\"textual_effect_interpreter\")"
   ]
  },
  {
   "cell_type": "markdown",
   "id": "7286ea77",
   "metadata": {},
   "source": [
    "Cannot use propensity balance interpretor here since the interpreter method only supports propensity score stratification estimator."
   ]
  },
  {
   "cell_type": "markdown",
   "id": "b614575c",
   "metadata": {},
   "source": [
    "## Method 3: Weighting\n",
    "\n",
    "We will be using (inverse) propensity scores to assign weights to units in the data. DoWhy supports a few different weighting schemes:\n",
    "1. Vanilla Inverse Propensity Score weighting (IPS) (weighting_scheme=\"ips_weight\")\n",
    "2. Self-normalized IPS weighting (also known as the Hajek estimator) (weighting_scheme=\"ips_normalized_weight\")\n",
    "3. Stabilized IPS weighting (weighting_scheme = \"ips_stabilized_weight\")"
   ]
  },
  {
   "cell_type": "code",
   "execution_count": 13,
   "id": "eeda9a8d",
   "metadata": {
    "execution": {
     "iopub.execute_input": "2022-08-02T07:52:09.625655Z",
     "iopub.status.busy": "2022-08-02T07:52:09.625198Z",
     "iopub.status.idle": "2022-08-02T07:52:09.692159Z",
     "shell.execute_reply": "2022-08-02T07:52:09.690345Z"
    }
   },
   "outputs": [
    {
     "name": "stdout",
     "output_type": "stream",
     "text": [
      "propensity_score_weighting\n",
      "*** Causal Estimate ***\n",
      "\n",
      "## Identified estimand\n",
      "Estimand type: nonparametric-ate\n",
      "\n",
      "### Estimand : 1\n",
      "Estimand name: backdoor\n",
      "Estimand expression:\n",
      "  d                       \n",
      "─────(E[y|W0,W2,W3,W4,W1])\n",
      "d[v₀]                     \n",
      "Estimand assumption 1, Unconfoundedness: If U→{v0} and U→y then P(y|v0,W0,W2,W3,W4,W1,U) = P(y|v0,W0,W2,W3,W4,W1)\n",
      "\n",
      "## Realized estimand\n",
      "b: y~v0+W0+W2+W3+W4+W1\n",
      "Target units: ate\n",
      "\n",
      "## Estimate\n",
      "Mean value: 1.632429153815166\n",
      "\n",
      "Causal Estimate is 1.632429153815166\n"
     ]
    },
    {
     "name": "stderr",
     "output_type": "stream",
     "text": [
      "/usr/local/lib/python3.8/dist-packages/sklearn/utils/validation.py:993: DataConversionWarning: A column-vector y was passed when a 1d array was expected. Please change the shape of y to (n_samples, ), for example using ravel().\n",
      "  y = column_or_1d(y, warn=True)\n"
     ]
    }
   ],
   "source": [
    "causal_estimate_ipw = model.estimate_effect(identified_estimand,\n",
    "                                            method_name=\"backdoor.propensity_score_weighting\",\n",
    "                                            target_units = \"ate\",\n",
    "                                            method_params={\"weighting_scheme\":\"ips_weight\"})\n",
    "print(causal_estimate_ipw)\n",
    "print(\"Causal Estimate is \" + str(causal_estimate_ipw.value))"
   ]
  },
  {
   "cell_type": "code",
   "execution_count": 14,
   "id": "0c643a4e",
   "metadata": {
    "execution": {
     "iopub.execute_input": "2022-08-02T07:52:09.696400Z",
     "iopub.status.busy": "2022-08-02T07:52:09.695146Z",
     "iopub.status.idle": "2022-08-02T07:52:09.722644Z",
     "shell.execute_reply": "2022-08-02T07:52:09.721974Z"
    }
   },
   "outputs": [
    {
     "name": "stdout",
     "output_type": "stream",
     "text": [
      "Increasing the treatment variable(s) [v0] from 0 to 1 causes an increase of 1.632429153815166 in the expected value of the outcome [y], over the data distribution/population represented by the dataset.\n"
     ]
    }
   ],
   "source": [
    "# Textual Interpreter\n",
    "interpretation = causal_estimate_ipw.interpret(method_name=\"textual_effect_interpreter\")"
   ]
  },
  {
   "cell_type": "code",
   "execution_count": 15,
   "id": "9164d9d8",
   "metadata": {
    "execution": {
     "iopub.execute_input": "2022-08-02T07:52:09.726461Z",
     "iopub.status.busy": "2022-08-02T07:52:09.725919Z",
     "iopub.status.idle": "2022-08-02T07:52:09.980318Z",
     "shell.execute_reply": "2022-08-02T07:52:09.979619Z"
    }
   },
   "outputs": [
    {
     "data": {
      "image/png": "[encoded data removed]",
      "text/plain": [
       "<Figure size 576x576 with 2 Axes>"
      ]
     },
     "metadata": {
      "needs_background": "light"
     },
     "output_type": "display_data"
    }
   ],
   "source": [
    "interpretation = causal_estimate_ipw.interpret(method_name=\"confounder_distribution_interpreter\", fig_size=(8,8), font_size=12, var_name='W4', var_type='discrete')"
   ]
  },
  {
   "cell_type": "code",
   "execution_count": null,
   "id": "0aa6fc2d",
   "metadata": {},
   "outputs": [],
   "source": []
  }
 ],
 "metadata": {
  "kernelspec": {
   "display_name": "Python 3",
   "language": "python",
   "name": "python3"
  },
  "language_info": {
   "codemirror_mode": {
    "name": "ipython",
    "version": 3
   },
   "file_extension": ".py",
   "mimetype": "text/x-python",
   "name": "python",
   "nbconvert_exporter": "python",
   "pygments_lexer": "ipython3",
   "version": "3.8.10"
  },
  "toc": {
   "base_numbering": 1,
   "nav_menu": {},
   "number_sections": false,
   "sideBar": true,
   "skip_h1_title": true,
   "title_cell": "Table of Contents",
   "title_sidebar": "Contents",
   "toc_cell": false,
   "toc_position": {},
   "toc_section_display": true,
   "toc_window_display": false
  }
 },
 "nbformat": 4,
 "nbformat_minor": 5
}
