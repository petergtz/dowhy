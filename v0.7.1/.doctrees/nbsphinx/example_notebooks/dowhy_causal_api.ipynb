{
 "cells": [
  {
   "cell_type": "markdown",
   "metadata": {},
   "source": [
    "# Demo for the DoWhy causal API\n",
    "We show a simple example of adding a causal extension to any dataframe. "
   ]
  },
  {
   "cell_type": "code",
   "execution_count": 1,
   "metadata": {
    "execution": {
     "iopub.execute_input": "2022-07-20T18:46:38.715408Z",
     "iopub.status.busy": "2022-07-20T18:46:38.714737Z",
     "iopub.status.idle": "2022-07-20T18:46:40.042567Z",
     "shell.execute_reply": "2022-07-20T18:46:40.041538Z"
    }
   },
   "outputs": [
    {
     "name": "stdout",
     "output_type": "stream",
     "text": [
      "keywords are unexpanded, not using\n"
     ]
    }
   ],
   "source": [
    "import dowhy.datasets\n",
    "import dowhy.api\n",
    "\n",
    "import numpy as np\n",
    "import pandas as pd\n",
    "\n",
    "from statsmodels.api import OLS"
   ]
  },
  {
   "cell_type": "code",
   "execution_count": 2,
   "metadata": {
    "execution": {
     "iopub.execute_input": "2022-07-20T18:46:40.047183Z",
     "iopub.status.busy": "2022-07-20T18:46:40.046413Z",
     "iopub.status.idle": "2022-07-20T18:46:40.104393Z",
     "shell.execute_reply": "2022-07-20T18:46:40.103661Z"
    }
   },
   "outputs": [
    {
     "data": {
      "text/html": [
       "<div>\n",
       "<style scoped>\n",
       "    .dataframe tbody tr th:only-of-type {\n",
       "        vertical-align: middle;\n",
       "    }\n",
       "\n",
       "    .dataframe tbody tr th {\n",
       "        vertical-align: top;\n",
       "    }\n",
       "\n",
       "    .dataframe thead th {\n",
       "        text-align: right;\n",
       "    }\n",
       "</style>\n",
       "<table border=\"1\" class=\"dataframe\">\n",
       "  <thead>\n",
       "    <tr style=\"text-align: right;\">\n",
       "      <th></th>\n",
       "      <th>W0</th>\n",
       "      <th>v0</th>\n",
       "      <th>y</th>\n",
       "    </tr>\n",
       "  </thead>\n",
       "  <tbody>\n",
       "    <tr>\n",
       "      <th>0</th>\n",
       "      <td>-1.790970</td>\n",
       "      <td>False</td>\n",
       "      <td>-0.155237</td>\n",
       "    </tr>\n",
       "    <tr>\n",
       "      <th>1</th>\n",
       "      <td>-1.798436</td>\n",
       "      <td>False</td>\n",
       "      <td>-0.867401</td>\n",
       "    </tr>\n",
       "    <tr>\n",
       "      <th>2</th>\n",
       "      <td>0.332897</td>\n",
       "      <td>True</td>\n",
       "      <td>6.516229</td>\n",
       "    </tr>\n",
       "    <tr>\n",
       "      <th>3</th>\n",
       "      <td>-2.593850</td>\n",
       "      <td>False</td>\n",
       "      <td>-2.853900</td>\n",
       "    </tr>\n",
       "    <tr>\n",
       "      <th>4</th>\n",
       "      <td>-0.370484</td>\n",
       "      <td>False</td>\n",
       "      <td>-0.488782</td>\n",
       "    </tr>\n",
       "    <tr>\n",
       "      <th>...</th>\n",
       "      <td>...</td>\n",
       "      <td>...</td>\n",
       "      <td>...</td>\n",
       "    </tr>\n",
       "    <tr>\n",
       "      <th>995</th>\n",
       "      <td>-1.299448</td>\n",
       "      <td>False</td>\n",
       "      <td>-2.845319</td>\n",
       "    </tr>\n",
       "    <tr>\n",
       "      <th>996</th>\n",
       "      <td>-0.791570</td>\n",
       "      <td>True</td>\n",
       "      <td>5.228880</td>\n",
       "    </tr>\n",
       "    <tr>\n",
       "      <th>997</th>\n",
       "      <td>-1.040983</td>\n",
       "      <td>True</td>\n",
       "      <td>2.617555</td>\n",
       "    </tr>\n",
       "    <tr>\n",
       "      <th>998</th>\n",
       "      <td>0.157243</td>\n",
       "      <td>True</td>\n",
       "      <td>3.257913</td>\n",
       "    </tr>\n",
       "    <tr>\n",
       "      <th>999</th>\n",
       "      <td>0.854038</td>\n",
       "      <td>False</td>\n",
       "      <td>0.537596</td>\n",
       "    </tr>\n",
       "  </tbody>\n",
       "</table>\n",
       "<p>1000 rows × 3 columns</p>\n",
       "</div>"
      ],
      "text/plain": [
       "           W0     v0         y\n",
       "0   -1.790970  False -0.155237\n",
       "1   -1.798436  False -0.867401\n",
       "2    0.332897   True  6.516229\n",
       "3   -2.593850  False -2.853900\n",
       "4   -0.370484  False -0.488782\n",
       "..        ...    ...       ...\n",
       "995 -1.299448  False -2.845319\n",
       "996 -0.791570   True  5.228880\n",
       "997 -1.040983   True  2.617555\n",
       "998  0.157243   True  3.257913\n",
       "999  0.854038  False  0.537596\n",
       "\n",
       "[1000 rows x 3 columns]"
      ]
     },
     "execution_count": 2,
     "metadata": {},
     "output_type": "execute_result"
    }
   ],
   "source": [
    "data = dowhy.datasets.linear_dataset(beta=5,\n",
    "        num_common_causes=1,\n",
    "        num_instruments = 0,\n",
    "        num_samples=1000,\n",
    "        treatment_is_binary=True)\n",
    "df = data['df']\n",
    "df['y'] = df['y'] + np.random.normal(size=len(df)) # Adding noise to data. Without noise, the variance in Y|X, Z is zero, and mcmc fails.\n",
    "#data['dot_graph'] = 'digraph { v ->y;X0-> v;X0-> y;}'\n",
    "\n",
    "treatment= data[\"treatment_name\"][0]\n",
    "outcome = data[\"outcome_name\"][0]\n",
    "common_cause = data[\"common_causes_names\"][0]\n",
    "df"
   ]
  },
  {
   "cell_type": "code",
   "execution_count": 3,
   "metadata": {
    "execution": {
     "iopub.execute_input": "2022-07-20T18:46:40.108989Z",
     "iopub.status.busy": "2022-07-20T18:46:40.108546Z",
     "iopub.status.idle": "2022-07-20T18:46:40.920376Z",
     "shell.execute_reply": "2022-07-20T18:46:40.919768Z"
    }
   },
   "outputs": [
    {
     "data": {
      "text/plain": [
       "<AxesSubplot:xlabel='v0'>"
      ]
     },
     "execution_count": 3,
     "metadata": {},
     "output_type": "execute_result"
    },
    {
     "data": {
      "image/png": "[encoded data removed]",
      "text/plain": [
       "<Figure size 432x288 with 1 Axes>"
      ]
     },
     "metadata": {
      "needs_background": "light"
     },
     "output_type": "display_data"
    }
   ],
   "source": [
    "# data['df'] is just a regular pandas.DataFrame\n",
    "df.causal.do(x=treatment,\n",
    "                     variable_types={treatment: 'b', outcome: 'c', common_cause: 'c'},\n",
    "                     outcome=outcome,\n",
    "                     common_causes=[common_cause],\n",
    "                     proceed_when_unidentifiable=True).groupby(treatment).mean().plot(y=outcome, kind='bar')"
   ]
  },
  {
   "cell_type": "code",
   "execution_count": 4,
   "metadata": {
    "execution": {
     "iopub.execute_input": "2022-07-20T18:46:40.926355Z",
     "iopub.status.busy": "2022-07-20T18:46:40.925725Z",
     "iopub.status.idle": "2022-07-20T18:46:41.021863Z",
     "shell.execute_reply": "2022-07-20T18:46:41.021225Z"
    }
   },
   "outputs": [
    {
     "data": {
      "text/plain": [
       "<AxesSubplot:xlabel='v0'>"
      ]
     },
     "execution_count": 4,
     "metadata": {},
     "output_type": "execute_result"
    },
    {
     "data": {
      "image/png": "[encoded data removed]",
      "text/plain": [
       "<Figure size 432x288 with 1 Axes>"
      ]
     },
     "metadata": {
      "needs_background": "light"
     },
     "output_type": "display_data"
    }
   ],
   "source": [
    "df.causal.do(x={treatment: 1}, \n",
    "              variable_types={treatment:'b', outcome: 'c', common_cause: 'c'}, \n",
    "              outcome=outcome,\n",
    "              method='weighting', \n",
    "              common_causes=[common_cause],\n",
    "              proceed_when_unidentifiable=True).groupby(treatment).mean().plot(y=outcome, kind='bar')"
   ]
  },
  {
   "cell_type": "code",
   "execution_count": 5,
   "metadata": {
    "execution": {
     "iopub.execute_input": "2022-07-20T18:46:41.027647Z",
     "iopub.status.busy": "2022-07-20T18:46:41.027190Z",
     "iopub.status.idle": "2022-07-20T18:46:41.067527Z",
     "shell.execute_reply": "2022-07-20T18:46:41.065586Z"
    }
   },
   "outputs": [],
   "source": [
    "cdf_1 = df.causal.do(x={treatment: 1}, \n",
    "              variable_types={treatment: 'b', outcome: 'c', common_cause: 'c'}, \n",
    "              outcome=outcome, \n",
    "              dot_graph=data['dot_graph'],\n",
    "              proceed_when_unidentifiable=True)\n",
    "\n",
    "cdf_0 = df.causal.do(x={treatment: 0}, \n",
    "              variable_types={treatment: 'b', outcome: 'c', common_cause: 'c'}, \n",
    "              outcome=outcome, \n",
    "              dot_graph=data['dot_graph'],\n",
    "              proceed_when_unidentifiable=True)\n"
   ]
  },
  {
   "cell_type": "code",
   "execution_count": 6,
   "metadata": {
    "execution": {
     "iopub.execute_input": "2022-07-20T18:46:41.078436Z",
     "iopub.status.busy": "2022-07-20T18:46:41.075523Z",
     "iopub.status.idle": "2022-07-20T18:46:41.106311Z",
     "shell.execute_reply": "2022-07-20T18:46:41.105132Z"
    },
    "scrolled": true
   },
   "outputs": [
    {
     "data": {
      "text/html": [
       "<div>\n",
       "<style scoped>\n",
       "    .dataframe tbody tr th:only-of-type {\n",
       "        vertical-align: middle;\n",
       "    }\n",
       "\n",
       "    .dataframe tbody tr th {\n",
       "        vertical-align: top;\n",
       "    }\n",
       "\n",
       "    .dataframe thead th {\n",
       "        text-align: right;\n",
       "    }\n",
       "</style>\n",
       "<table border=\"1\" class=\"dataframe\">\n",
       "  <thead>\n",
       "    <tr style=\"text-align: right;\">\n",
       "      <th></th>\n",
       "      <th>W0</th>\n",
       "      <th>v0</th>\n",
       "      <th>y</th>\n",
       "      <th>propensity_score</th>\n",
       "      <th>weight</th>\n",
       "    </tr>\n",
       "  </thead>\n",
       "  <tbody>\n",
       "    <tr>\n",
       "      <th>0</th>\n",
       "      <td>-2.204484</td>\n",
       "      <td>False</td>\n",
       "      <td>-1.724063</td>\n",
       "      <td>0.878640</td>\n",
       "      <td>1.138122</td>\n",
       "    </tr>\n",
       "    <tr>\n",
       "      <th>1</th>\n",
       "      <td>-1.184127</td>\n",
       "      <td>False</td>\n",
       "      <td>0.776954</td>\n",
       "      <td>0.741208</td>\n",
       "      <td>1.349149</td>\n",
       "    </tr>\n",
       "    <tr>\n",
       "      <th>2</th>\n",
       "      <td>-0.672982</td>\n",
       "      <td>False</td>\n",
       "      <td>-0.574813</td>\n",
       "      <td>0.642837</td>\n",
       "      <td>1.555605</td>\n",
       "    </tr>\n",
       "    <tr>\n",
       "      <th>3</th>\n",
       "      <td>-2.825907</td>\n",
       "      <td>False</td>\n",
       "      <td>-2.868167</td>\n",
       "      <td>0.927197</td>\n",
       "      <td>1.078520</td>\n",
       "    </tr>\n",
       "    <tr>\n",
       "      <th>4</th>\n",
       "      <td>-0.937298</td>\n",
       "      <td>False</td>\n",
       "      <td>-0.415856</td>\n",
       "      <td>0.695916</td>\n",
       "      <td>1.436956</td>\n",
       "    </tr>\n",
       "    <tr>\n",
       "      <th>...</th>\n",
       "      <td>...</td>\n",
       "      <td>...</td>\n",
       "      <td>...</td>\n",
       "      <td>...</td>\n",
       "      <td>...</td>\n",
       "    </tr>\n",
       "    <tr>\n",
       "      <th>995</th>\n",
       "      <td>-1.416970</td>\n",
       "      <td>False</td>\n",
       "      <td>-1.783701</td>\n",
       "      <td>0.779693</td>\n",
       "      <td>1.282556</td>\n",
       "    </tr>\n",
       "    <tr>\n",
       "      <th>996</th>\n",
       "      <td>-0.670404</td>\n",
       "      <td>False</td>\n",
       "      <td>-2.347864</td>\n",
       "      <td>0.642299</td>\n",
       "      <td>1.556908</td>\n",
       "    </tr>\n",
       "    <tr>\n",
       "      <th>997</th>\n",
       "      <td>-2.649378</td>\n",
       "      <td>False</td>\n",
       "      <td>-0.896442</td>\n",
       "      <td>0.915596</td>\n",
       "      <td>1.092184</td>\n",
       "    </tr>\n",
       "    <tr>\n",
       "      <th>998</th>\n",
       "      <td>-2.460834</td>\n",
       "      <td>False</td>\n",
       "      <td>-1.858701</td>\n",
       "      <td>0.901376</td>\n",
       "      <td>1.109415</td>\n",
       "    </tr>\n",
       "    <tr>\n",
       "      <th>999</th>\n",
       "      <td>0.050483</td>\n",
       "      <td>False</td>\n",
       "      <td>-0.526885</td>\n",
       "      <td>0.482549</td>\n",
       "      <td>2.072327</td>\n",
       "    </tr>\n",
       "  </tbody>\n",
       "</table>\n",
       "<p>1000 rows × 5 columns</p>\n",
       "</div>"
      ],
      "text/plain": [
       "           W0     v0         y  propensity_score    weight\n",
       "0   -2.204484  False -1.724063          0.878640  1.138122\n",
       "1   -1.184127  False  0.776954          0.741208  1.349149\n",
       "2   -0.672982  False -0.574813          0.642837  1.555605\n",
       "3   -2.825907  False -2.868167          0.927197  1.078520\n",
       "4   -0.937298  False -0.415856          0.695916  1.436956\n",
       "..        ...    ...       ...               ...       ...\n",
       "995 -1.416970  False -1.783701          0.779693  1.282556\n",
       "996 -0.670404  False -2.347864          0.642299  1.556908\n",
       "997 -2.649378  False -0.896442          0.915596  1.092184\n",
       "998 -2.460834  False -1.858701          0.901376  1.109415\n",
       "999  0.050483  False -0.526885          0.482549  2.072327\n",
       "\n",
       "[1000 rows x 5 columns]"
      ]
     },
     "execution_count": 6,
     "metadata": {},
     "output_type": "execute_result"
    }
   ],
   "source": [
    "cdf_0"
   ]
  },
  {
   "cell_type": "code",
   "execution_count": 7,
   "metadata": {
    "execution": {
     "iopub.execute_input": "2022-07-20T18:46:41.110917Z",
     "iopub.status.busy": "2022-07-20T18:46:41.110139Z",
     "iopub.status.idle": "2022-07-20T18:46:41.135940Z",
     "shell.execute_reply": "2022-07-20T18:46:41.135320Z"
    }
   },
   "outputs": [
    {
     "data": {
      "text/html": [
       "<div>\n",
       "<style scoped>\n",
       "    .dataframe tbody tr th:only-of-type {\n",
       "        vertical-align: middle;\n",
       "    }\n",
       "\n",
       "    .dataframe tbody tr th {\n",
       "        vertical-align: top;\n",
       "    }\n",
       "\n",
       "    .dataframe thead th {\n",
       "        text-align: right;\n",
       "    }\n",
       "</style>\n",
       "<table border=\"1\" class=\"dataframe\">\n",
       "  <thead>\n",
       "    <tr style=\"text-align: right;\">\n",
       "      <th></th>\n",
       "      <th>W0</th>\n",
       "      <th>v0</th>\n",
       "      <th>y</th>\n",
       "      <th>propensity_score</th>\n",
       "      <th>weight</th>\n",
       "    </tr>\n",
       "  </thead>\n",
       "  <tbody>\n",
       "    <tr>\n",
       "      <th>0</th>\n",
       "      <td>-2.461383</td>\n",
       "      <td>True</td>\n",
       "      <td>2.888078</td>\n",
       "      <td>0.098580</td>\n",
       "      <td>10.144054</td>\n",
       "    </tr>\n",
       "    <tr>\n",
       "      <th>1</th>\n",
       "      <td>-1.477651</td>\n",
       "      <td>True</td>\n",
       "      <td>1.686898</td>\n",
       "      <td>0.210980</td>\n",
       "      <td>4.739788</td>\n",
       "    </tr>\n",
       "    <tr>\n",
       "      <th>2</th>\n",
       "      <td>-0.943287</td>\n",
       "      <td>True</td>\n",
       "      <td>4.155861</td>\n",
       "      <td>0.302934</td>\n",
       "      <td>3.301053</td>\n",
       "    </tr>\n",
       "    <tr>\n",
       "      <th>3</th>\n",
       "      <td>0.756196</td>\n",
       "      <td>True</td>\n",
       "      <td>4.784443</td>\n",
       "      <td>0.670672</td>\n",
       "      <td>1.491042</td>\n",
       "    </tr>\n",
       "    <tr>\n",
       "      <th>4</th>\n",
       "      <td>-3.405843</td>\n",
       "      <td>True</td>\n",
       "      <td>3.210876</td>\n",
       "      <td>0.044299</td>\n",
       "      <td>22.573941</td>\n",
       "    </tr>\n",
       "    <tr>\n",
       "      <th>...</th>\n",
       "      <td>...</td>\n",
       "      <td>...</td>\n",
       "      <td>...</td>\n",
       "      <td>...</td>\n",
       "      <td>...</td>\n",
       "    </tr>\n",
       "    <tr>\n",
       "      <th>995</th>\n",
       "      <td>0.486792</td>\n",
       "      <td>True</td>\n",
       "      <td>4.301010</td>\n",
       "      <td>0.614525</td>\n",
       "      <td>1.627272</td>\n",
       "    </tr>\n",
       "    <tr>\n",
       "      <th>996</th>\n",
       "      <td>0.112802</td>\n",
       "      <td>True</td>\n",
       "      <td>4.676018</td>\n",
       "      <td>0.531575</td>\n",
       "      <td>1.881201</td>\n",
       "    </tr>\n",
       "    <tr>\n",
       "      <th>997</th>\n",
       "      <td>-0.618640</td>\n",
       "      <td>True</td>\n",
       "      <td>5.174668</td>\n",
       "      <td>0.368581</td>\n",
       "      <td>2.713107</td>\n",
       "    </tr>\n",
       "    <tr>\n",
       "      <th>998</th>\n",
       "      <td>-0.948462</td>\n",
       "      <td>True</td>\n",
       "      <td>4.302587</td>\n",
       "      <td>0.301941</td>\n",
       "      <td>3.311901</td>\n",
       "    </tr>\n",
       "    <tr>\n",
       "      <th>999</th>\n",
       "      <td>0.655466</td>\n",
       "      <td>True</td>\n",
       "      <td>3.941745</td>\n",
       "      <td>0.650145</td>\n",
       "      <td>1.538119</td>\n",
       "    </tr>\n",
       "  </tbody>\n",
       "</table>\n",
       "<p>1000 rows × 5 columns</p>\n",
       "</div>"
      ],
      "text/plain": [
       "           W0    v0         y  propensity_score     weight\n",
       "0   -2.461383  True  2.888078          0.098580  10.144054\n",
       "1   -1.477651  True  1.686898          0.210980   4.739788\n",
       "2   -0.943287  True  4.155861          0.302934   3.301053\n",
       "3    0.756196  True  4.784443          0.670672   1.491042\n",
       "4   -3.405843  True  3.210876          0.044299  22.573941\n",
       "..        ...   ...       ...               ...        ...\n",
       "995  0.486792  True  4.301010          0.614525   1.627272\n",
       "996  0.112802  True  4.676018          0.531575   1.881201\n",
       "997 -0.618640  True  5.174668          0.368581   2.713107\n",
       "998 -0.948462  True  4.302587          0.301941   3.311901\n",
       "999  0.655466  True  3.941745          0.650145   1.538119\n",
       "\n",
       "[1000 rows x 5 columns]"
      ]
     },
     "execution_count": 7,
     "metadata": {},
     "output_type": "execute_result"
    }
   ],
   "source": [
    "cdf_1"
   ]
  },
  {
   "cell_type": "markdown",
   "metadata": {},
   "source": [
    "## Comparing the estimate to Linear Regression\n",
    "First, estimating the effect using the causal data frame, and the 95% confidence interval."
   ]
  },
  {
   "cell_type": "code",
   "execution_count": 8,
   "metadata": {
    "execution": {
     "iopub.execute_input": "2022-07-20T18:46:41.139340Z",
     "iopub.status.busy": "2022-07-20T18:46:41.138866Z",
     "iopub.status.idle": "2022-07-20T18:46:41.242432Z",
     "shell.execute_reply": "2022-07-20T18:46:41.241761Z"
    }
   },
   "outputs": [
    {
     "data": {
      "image/png": "[encoded data removed]",
      "text/latex": [
       "$\\displaystyle 4.9792687455287$"
      ],
      "text/plain": [
       "4.979268745528698"
      ]
     },
     "execution_count": 8,
     "metadata": {},
     "output_type": "execute_result"
    }
   ],
   "source": [
    "(cdf_1['y'] - cdf_0['y']).mean()"
   ]
  },
  {
   "cell_type": "code",
   "execution_count": 9,
   "metadata": {
    "execution": {
     "iopub.execute_input": "2022-07-20T18:46:41.246186Z",
     "iopub.status.busy": "2022-07-20T18:46:41.245791Z",
     "iopub.status.idle": "2022-07-20T18:46:41.277814Z",
     "shell.execute_reply": "2022-07-20T18:46:41.277240Z"
    }
   },
   "outputs": [
    {
     "data": {
      "image/png": "[encoded data removed]",
      "text/latex": [
       "$\\displaystyle 0.115389146608924$"
      ],
      "text/plain": [
       "0.11538914660892437"
      ]
     },
     "execution_count": 9,
     "metadata": {},
     "output_type": "execute_result"
    }
   ],
   "source": [
    "1.96*(cdf_1['y'] - cdf_0['y']).std() / np.sqrt(len(df))"
   ]
  },
  {
   "cell_type": "markdown",
   "metadata": {},
   "source": [
    "Comparing to the estimate from OLS."
   ]
  },
  {
   "cell_type": "code",
   "execution_count": 10,
   "metadata": {
    "execution": {
     "iopub.execute_input": "2022-07-20T18:46:41.281273Z",
     "iopub.status.busy": "2022-07-20T18:46:41.281039Z",
     "iopub.status.idle": "2022-07-20T18:46:41.298163Z",
     "shell.execute_reply": "2022-07-20T18:46:41.297003Z"
    }
   },
   "outputs": [
    {
     "data": {
      "text/html": [
       "<table class=\"simpletable\">\n",
       "<caption>OLS Regression Results</caption>\n",
       "<tr>\n",
       "  <th>Dep. Variable:</th>            <td>y</td>        <th>  R-squared (uncentered):</th>      <td>   0.900</td>\n",
       "</tr>\n",
       "<tr>\n",
       "  <th>Model:</th>                   <td>OLS</td>       <th>  Adj. R-squared (uncentered):</th> <td>   0.900</td>\n",
       "</tr>\n",
       "<tr>\n",
       "  <th>Method:</th>             <td>Least Squares</td>  <th>  F-statistic:       </th>          <td>   4486.</td>\n",
       "</tr>\n",
       "<tr>\n",
       "  <th>Date:</th>             <td>Wed, 20 Jul 2022</td> <th>  Prob (F-statistic):</th>           <td>  0.00</td> \n",
       "</tr>\n",
       "<tr>\n",
       "  <th>Time:</th>                 <td>18:46:41</td>     <th>  Log-Likelihood:    </th>          <td> -1450.5</td>\n",
       "</tr>\n",
       "<tr>\n",
       "  <th>No. Observations:</th>      <td>  1000</td>      <th>  AIC:               </th>          <td>   2905.</td>\n",
       "</tr>\n",
       "<tr>\n",
       "  <th>Df Residuals:</th>          <td>   998</td>      <th>  BIC:               </th>          <td>   2915.</td>\n",
       "</tr>\n",
       "<tr>\n",
       "  <th>Df Model:</th>              <td>     2</td>      <th>                     </th>              <td> </td>   \n",
       "</tr>\n",
       "<tr>\n",
       "  <th>Covariance Type:</th>      <td>nonrobust</td>    <th>                     </th>              <td> </td>   \n",
       "</tr>\n",
       "</table>\n",
       "<table class=\"simpletable\">\n",
       "<tr>\n",
       "   <td></td>     <th>coef</th>     <th>std err</th>      <th>t</th>      <th>P>|t|</th>  <th>[0.025</th>    <th>0.975]</th>  \n",
       "</tr>\n",
       "<tr>\n",
       "  <th>x1</th> <td>    0.8031</td> <td>    0.026</td> <td>   30.394</td> <td> 0.000</td> <td>    0.751</td> <td>    0.855</td>\n",
       "</tr>\n",
       "<tr>\n",
       "  <th>x2</th> <td>    5.0402</td> <td>    0.054</td> <td>   92.597</td> <td> 0.000</td> <td>    4.933</td> <td>    5.147</td>\n",
       "</tr>\n",
       "</table>\n",
       "<table class=\"simpletable\">\n",
       "<tr>\n",
       "  <th>Omnibus:</th>       <td> 0.541</td> <th>  Durbin-Watson:     </th> <td>   2.053</td>\n",
       "</tr>\n",
       "<tr>\n",
       "  <th>Prob(Omnibus):</th> <td> 0.763</td> <th>  Jarque-Bera (JB):  </th> <td>   0.431</td>\n",
       "</tr>\n",
       "<tr>\n",
       "  <th>Skew:</th>          <td> 0.035</td> <th>  Prob(JB):          </th> <td>   0.806</td>\n",
       "</tr>\n",
       "<tr>\n",
       "  <th>Kurtosis:</th>      <td> 3.073</td> <th>  Cond. No.          </th> <td>    2.08</td>\n",
       "</tr>\n",
       "</table><br/><br/>Notes:<br/>[1] R² is computed without centering (uncentered) since the model does not contain a constant.<br/>[2] Standard Errors assume that the covariance matrix of the errors is correctly specified."
      ],
      "text/plain": [
       "<class 'statsmodels.iolib.summary.Summary'>\n",
       "\"\"\"\n",
       "                                 OLS Regression Results                                \n",
       "=======================================================================================\n",
       "Dep. Variable:                      y   R-squared (uncentered):                   0.900\n",
       "Model:                            OLS   Adj. R-squared (uncentered):              0.900\n",
       "Method:                 Least Squares   F-statistic:                              4486.\n",
       "Date:                Wed, 20 Jul 2022   Prob (F-statistic):                        0.00\n",
       "Time:                        18:46:41   Log-Likelihood:                         -1450.5\n",
       "No. Observations:                1000   AIC:                                      2905.\n",
       "Df Residuals:                     998   BIC:                                      2915.\n",
       "Df Model:                           2                                                  \n",
       "Covariance Type:            nonrobust                                                  \n",
       "==============================================================================\n",
       "                 coef    std err          t      P>|t|      [0.025      0.975]\n",
       "------------------------------------------------------------------------------\n",
       "x1             0.8031      0.026     30.394      0.000       0.751       0.855\n",
       "x2             5.0402      0.054     92.597      0.000       4.933       5.147\n",
       "==============================================================================\n",
       "Omnibus:                        0.541   Durbin-Watson:                   2.053\n",
       "Prob(Omnibus):                  0.763   Jarque-Bera (JB):                0.431\n",
       "Skew:                           0.035   Prob(JB):                        0.806\n",
       "Kurtosis:                       3.073   Cond. No.                         2.08\n",
       "==============================================================================\n",
       "\n",
       "Notes:\n",
       "[1] R² is computed without centering (uncentered) since the model does not contain a constant.\n",
       "[2] Standard Errors assume that the covariance matrix of the errors is correctly specified.\n",
       "\"\"\""
      ]
     },
     "execution_count": 10,
     "metadata": {},
     "output_type": "execute_result"
    }
   ],
   "source": [
    "model = OLS(np.asarray(df[outcome]), np.asarray(df[[common_cause, treatment]], dtype=np.float64))\n",
    "result = model.fit()\n",
    "result.summary()"
   ]
  }
 ],
 "metadata": {
  "kernelspec": {
   "display_name": "Python 3",
   "language": "python",
   "name": "python3"
  },
  "language_info": {
   "codemirror_mode": {
    "name": "ipython",
    "version": 3
   },
   "file_extension": ".py",
   "mimetype": "text/x-python",
   "name": "python",
   "nbconvert_exporter": "python",
   "pygments_lexer": "ipython3",
   "version": "3.8.10"
  },
  "toc": {
   "base_numbering": 1,
   "nav_menu": {},
   "number_sections": false,
   "sideBar": true,
   "skip_h1_title": true,
   "title_cell": "Table of Contents",
   "title_sidebar": "Contents",
   "toc_cell": false,
   "toc_position": {},
   "toc_section_display": true,
   "toc_window_display": false
  }
 },
 "nbformat": 4,
 "nbformat_minor": 4
}
