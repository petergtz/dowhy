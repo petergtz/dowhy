{
 "cells": [
  {
   "cell_type": "markdown",
   "metadata": {},
   "source": [
    "# Demo for the DoWhy causal API\n",
    "We show a simple example of adding a causal extension to any dataframe. "
   ]
  },
  {
   "cell_type": "code",
   "execution_count": 1,
   "metadata": {
    "execution": {
     "iopub.execute_input": "2022-07-27T16:22:46.191408Z",
     "iopub.status.busy": "2022-07-27T16:22:46.190927Z",
     "iopub.status.idle": "2022-07-27T16:22:47.265133Z",
     "shell.execute_reply": "2022-07-27T16:22:47.264114Z"
    }
   },
   "outputs": [
    {
     "name": "stdout",
     "output_type": "stream",
     "text": [
      "keywords are unexpanded, not using\n"
     ]
    }
   ],
   "source": [
    "import dowhy.datasets\n",
    "import dowhy.api\n",
    "\n",
    "import numpy as np\n",
    "import pandas as pd\n",
    "\n",
    "from statsmodels.api import OLS"
   ]
  },
  {
   "cell_type": "code",
   "execution_count": 2,
   "metadata": {
    "execution": {
     "iopub.execute_input": "2022-07-27T16:22:47.268937Z",
     "iopub.status.busy": "2022-07-27T16:22:47.268055Z",
     "iopub.status.idle": "2022-07-27T16:22:47.309777Z",
     "shell.execute_reply": "2022-07-27T16:22:47.309189Z"
    }
   },
   "outputs": [
    {
     "data": {
      "text/html": [
       "<div>\n",
       "<style scoped>\n",
       "    .dataframe tbody tr th:only-of-type {\n",
       "        vertical-align: middle;\n",
       "    }\n",
       "\n",
       "    .dataframe tbody tr th {\n",
       "        vertical-align: top;\n",
       "    }\n",
       "\n",
       "    .dataframe thead th {\n",
       "        text-align: right;\n",
       "    }\n",
       "</style>\n",
       "<table border=\"1\" class=\"dataframe\">\n",
       "  <thead>\n",
       "    <tr style=\"text-align: right;\">\n",
       "      <th></th>\n",
       "      <th>W0</th>\n",
       "      <th>v0</th>\n",
       "      <th>y</th>\n",
       "    </tr>\n",
       "  </thead>\n",
       "  <tbody>\n",
       "    <tr>\n",
       "      <th>0</th>\n",
       "      <td>1.093010</td>\n",
       "      <td>True</td>\n",
       "      <td>7.534945</td>\n",
       "    </tr>\n",
       "    <tr>\n",
       "      <th>1</th>\n",
       "      <td>-0.146202</td>\n",
       "      <td>True</td>\n",
       "      <td>2.818488</td>\n",
       "    </tr>\n",
       "    <tr>\n",
       "      <th>2</th>\n",
       "      <td>1.342172</td>\n",
       "      <td>True</td>\n",
       "      <td>8.356502</td>\n",
       "    </tr>\n",
       "    <tr>\n",
       "      <th>3</th>\n",
       "      <td>0.696062</td>\n",
       "      <td>True</td>\n",
       "      <td>6.269747</td>\n",
       "    </tr>\n",
       "    <tr>\n",
       "      <th>4</th>\n",
       "      <td>-0.133053</td>\n",
       "      <td>True</td>\n",
       "      <td>3.491102</td>\n",
       "    </tr>\n",
       "    <tr>\n",
       "      <th>...</th>\n",
       "      <td>...</td>\n",
       "      <td>...</td>\n",
       "      <td>...</td>\n",
       "    </tr>\n",
       "    <tr>\n",
       "      <th>995</th>\n",
       "      <td>1.337139</td>\n",
       "      <td>True</td>\n",
       "      <td>7.487182</td>\n",
       "    </tr>\n",
       "    <tr>\n",
       "      <th>996</th>\n",
       "      <td>1.671579</td>\n",
       "      <td>True</td>\n",
       "      <td>9.103208</td>\n",
       "    </tr>\n",
       "    <tr>\n",
       "      <th>997</th>\n",
       "      <td>1.267878</td>\n",
       "      <td>True</td>\n",
       "      <td>6.556997</td>\n",
       "    </tr>\n",
       "    <tr>\n",
       "      <th>998</th>\n",
       "      <td>0.847149</td>\n",
       "      <td>True</td>\n",
       "      <td>6.136397</td>\n",
       "    </tr>\n",
       "    <tr>\n",
       "      <th>999</th>\n",
       "      <td>2.224794</td>\n",
       "      <td>True</td>\n",
       "      <td>9.642221</td>\n",
       "    </tr>\n",
       "  </tbody>\n",
       "</table>\n",
       "<p>1000 rows × 3 columns</p>\n",
       "</div>"
      ],
      "text/plain": [
       "           W0    v0         y\n",
       "0    1.093010  True  7.534945\n",
       "1   -0.146202  True  2.818488\n",
       "2    1.342172  True  8.356502\n",
       "3    0.696062  True  6.269747\n",
       "4   -0.133053  True  3.491102\n",
       "..        ...   ...       ...\n",
       "995  1.337139  True  7.487182\n",
       "996  1.671579  True  9.103208\n",
       "997  1.267878  True  6.556997\n",
       "998  0.847149  True  6.136397\n",
       "999  2.224794  True  9.642221\n",
       "\n",
       "[1000 rows x 3 columns]"
      ]
     },
     "execution_count": 2,
     "metadata": {},
     "output_type": "execute_result"
    }
   ],
   "source": [
    "data = dowhy.datasets.linear_dataset(beta=5,\n",
    "        num_common_causes=1,\n",
    "        num_instruments = 0,\n",
    "        num_samples=1000,\n",
    "        treatment_is_binary=True)\n",
    "df = data['df']\n",
    "df['y'] = df['y'] + np.random.normal(size=len(df)) # Adding noise to data. Without noise, the variance in Y|X, Z is zero, and mcmc fails.\n",
    "#data['dot_graph'] = 'digraph { v ->y;X0-> v;X0-> y;}'\n",
    "\n",
    "treatment= data[\"treatment_name\"][0]\n",
    "outcome = data[\"outcome_name\"][0]\n",
    "common_cause = data[\"common_causes_names\"][0]\n",
    "df"
   ]
  },
  {
   "cell_type": "code",
   "execution_count": 3,
   "metadata": {
    "execution": {
     "iopub.execute_input": "2022-07-27T16:22:47.312758Z",
     "iopub.status.busy": "2022-07-27T16:22:47.312191Z",
     "iopub.status.idle": "2022-07-27T16:22:48.034846Z",
     "shell.execute_reply": "2022-07-27T16:22:48.034316Z"
    }
   },
   "outputs": [
    {
     "data": {
      "text/plain": [
       "<AxesSubplot:xlabel='v0'>"
      ]
     },
     "execution_count": 3,
     "metadata": {},
     "output_type": "execute_result"
    },
    {
     "data": {
      "image/png": "[encoded data removed]",
      "text/plain": [
       "<Figure size 432x288 with 1 Axes>"
      ]
     },
     "metadata": {
      "needs_background": "light"
     },
     "output_type": "display_data"
    }
   ],
   "source": [
    "# data['df'] is just a regular pandas.DataFrame\n",
    "df.causal.do(x=treatment,\n",
    "                     variable_types={treatment: 'b', outcome: 'c', common_cause: 'c'},\n",
    "                     outcome=outcome,\n",
    "                     common_causes=[common_cause],\n",
    "                     proceed_when_unidentifiable=True).groupby(treatment).mean().plot(y=outcome, kind='bar')"
   ]
  },
  {
   "cell_type": "code",
   "execution_count": 4,
   "metadata": {
    "execution": {
     "iopub.execute_input": "2022-07-27T16:22:48.037771Z",
     "iopub.status.busy": "2022-07-27T16:22:48.037256Z",
     "iopub.status.idle": "2022-07-27T16:22:48.123453Z",
     "shell.execute_reply": "2022-07-27T16:22:48.122955Z"
    }
   },
   "outputs": [
    {
     "data": {
      "text/plain": [
       "<AxesSubplot:xlabel='v0'>"
      ]
     },
     "execution_count": 4,
     "metadata": {},
     "output_type": "execute_result"
    },
    {
     "data": {
      "image/png": "[encoded data removed]",
      "text/plain": [
       "<Figure size 432x288 with 1 Axes>"
      ]
     },
     "metadata": {
      "needs_background": "light"
     },
     "output_type": "display_data"
    }
   ],
   "source": [
    "df.causal.do(x={treatment: 1}, \n",
    "              variable_types={treatment:'b', outcome: 'c', common_cause: 'c'}, \n",
    "              outcome=outcome,\n",
    "              method='weighting', \n",
    "              common_causes=[common_cause],\n",
    "              proceed_when_unidentifiable=True).groupby(treatment).mean().plot(y=outcome, kind='bar')"
   ]
  },
  {
   "cell_type": "code",
   "execution_count": 5,
   "metadata": {
    "execution": {
     "iopub.execute_input": "2022-07-27T16:22:48.126187Z",
     "iopub.status.busy": "2022-07-27T16:22:48.125762Z",
     "iopub.status.idle": "2022-07-27T16:22:48.154402Z",
     "shell.execute_reply": "2022-07-27T16:22:48.153887Z"
    }
   },
   "outputs": [],
   "source": [
    "cdf_1 = df.causal.do(x={treatment: 1}, \n",
    "              variable_types={treatment: 'b', outcome: 'c', common_cause: 'c'}, \n",
    "              outcome=outcome, \n",
    "              dot_graph=data['dot_graph'],\n",
    "              proceed_when_unidentifiable=True)\n",
    "\n",
    "cdf_0 = df.causal.do(x={treatment: 0}, \n",
    "              variable_types={treatment: 'b', outcome: 'c', common_cause: 'c'}, \n",
    "              outcome=outcome, \n",
    "              dot_graph=data['dot_graph'],\n",
    "              proceed_when_unidentifiable=True)\n"
   ]
  },
  {
   "cell_type": "code",
   "execution_count": 6,
   "metadata": {
    "execution": {
     "iopub.execute_input": "2022-07-27T16:22:48.157000Z",
     "iopub.status.busy": "2022-07-27T16:22:48.156602Z",
     "iopub.status.idle": "2022-07-27T16:22:48.167196Z",
     "shell.execute_reply": "2022-07-27T16:22:48.166653Z"
    },
    "scrolled": true
   },
   "outputs": [
    {
     "data": {
      "text/html": [
       "<div>\n",
       "<style scoped>\n",
       "    .dataframe tbody tr th:only-of-type {\n",
       "        vertical-align: middle;\n",
       "    }\n",
       "\n",
       "    .dataframe tbody tr th {\n",
       "        vertical-align: top;\n",
       "    }\n",
       "\n",
       "    .dataframe thead th {\n",
       "        text-align: right;\n",
       "    }\n",
       "</style>\n",
       "<table border=\"1\" class=\"dataframe\">\n",
       "  <thead>\n",
       "    <tr style=\"text-align: right;\">\n",
       "      <th></th>\n",
       "      <th>W0</th>\n",
       "      <th>v0</th>\n",
       "      <th>y</th>\n",
       "      <th>propensity_score</th>\n",
       "      <th>weight</th>\n",
       "    </tr>\n",
       "  </thead>\n",
       "  <tbody>\n",
       "    <tr>\n",
       "      <th>0</th>\n",
       "      <td>0.955731</td>\n",
       "      <td>False</td>\n",
       "      <td>1.684827</td>\n",
       "      <td>0.178232</td>\n",
       "      <td>5.610674</td>\n",
       "    </tr>\n",
       "    <tr>\n",
       "      <th>1</th>\n",
       "      <td>1.565555</td>\n",
       "      <td>False</td>\n",
       "      <td>2.584063</td>\n",
       "      <td>0.077903</td>\n",
       "      <td>12.836519</td>\n",
       "    </tr>\n",
       "    <tr>\n",
       "      <th>2</th>\n",
       "      <td>1.565555</td>\n",
       "      <td>False</td>\n",
       "      <td>2.584063</td>\n",
       "      <td>0.077903</td>\n",
       "      <td>12.836519</td>\n",
       "    </tr>\n",
       "    <tr>\n",
       "      <th>3</th>\n",
       "      <td>1.550398</td>\n",
       "      <td>False</td>\n",
       "      <td>2.404524</td>\n",
       "      <td>0.079603</td>\n",
       "      <td>12.562383</td>\n",
       "    </tr>\n",
       "    <tr>\n",
       "      <th>4</th>\n",
       "      <td>0.382451</td>\n",
       "      <td>False</td>\n",
       "      <td>-1.510288</td>\n",
       "      <td>0.344781</td>\n",
       "      <td>2.900388</td>\n",
       "    </tr>\n",
       "    <tr>\n",
       "      <th>...</th>\n",
       "      <td>...</td>\n",
       "      <td>...</td>\n",
       "      <td>...</td>\n",
       "      <td>...</td>\n",
       "      <td>...</td>\n",
       "    </tr>\n",
       "    <tr>\n",
       "      <th>995</th>\n",
       "      <td>-0.084194</td>\n",
       "      <td>False</td>\n",
       "      <td>1.265416</td>\n",
       "      <td>0.519838</td>\n",
       "      <td>1.923675</td>\n",
       "    </tr>\n",
       "    <tr>\n",
       "      <th>996</th>\n",
       "      <td>-0.562961</td>\n",
       "      <td>False</td>\n",
       "      <td>0.865337</td>\n",
       "      <td>0.694150</td>\n",
       "      <td>1.440612</td>\n",
       "    </tr>\n",
       "    <tr>\n",
       "      <th>997</th>\n",
       "      <td>-1.421403</td>\n",
       "      <td>False</td>\n",
       "      <td>-1.747358</td>\n",
       "      <td>0.895368</td>\n",
       "      <td>1.116860</td>\n",
       "    </tr>\n",
       "    <tr>\n",
       "      <th>998</th>\n",
       "      <td>0.786344</td>\n",
       "      <td>False</td>\n",
       "      <td>1.315614</td>\n",
       "      <td>0.219858</td>\n",
       "      <td>4.548391</td>\n",
       "    </tr>\n",
       "    <tr>\n",
       "      <th>999</th>\n",
       "      <td>0.073356</td>\n",
       "      <td>False</td>\n",
       "      <td>0.471999</td>\n",
       "      <td>0.459046</td>\n",
       "      <td>2.178431</td>\n",
       "    </tr>\n",
       "  </tbody>\n",
       "</table>\n",
       "<p>1000 rows × 5 columns</p>\n",
       "</div>"
      ],
      "text/plain": [
       "           W0     v0         y  propensity_score     weight\n",
       "0    0.955731  False  1.684827          0.178232   5.610674\n",
       "1    1.565555  False  2.584063          0.077903  12.836519\n",
       "2    1.565555  False  2.584063          0.077903  12.836519\n",
       "3    1.550398  False  2.404524          0.079603  12.562383\n",
       "4    0.382451  False -1.510288          0.344781   2.900388\n",
       "..        ...    ...       ...               ...        ...\n",
       "995 -0.084194  False  1.265416          0.519838   1.923675\n",
       "996 -0.562961  False  0.865337          0.694150   1.440612\n",
       "997 -1.421403  False -1.747358          0.895368   1.116860\n",
       "998  0.786344  False  1.315614          0.219858   4.548391\n",
       "999  0.073356  False  0.471999          0.459046   2.178431\n",
       "\n",
       "[1000 rows x 5 columns]"
      ]
     },
     "execution_count": 6,
     "metadata": {},
     "output_type": "execute_result"
    }
   ],
   "source": [
    "cdf_0"
   ]
  },
  {
   "cell_type": "code",
   "execution_count": 7,
   "metadata": {
    "execution": {
     "iopub.execute_input": "2022-07-27T16:22:48.169685Z",
     "iopub.status.busy": "2022-07-27T16:22:48.169472Z",
     "iopub.status.idle": "2022-07-27T16:22:48.180464Z",
     "shell.execute_reply": "2022-07-27T16:22:48.179924Z"
    }
   },
   "outputs": [
    {
     "data": {
      "text/html": [
       "<div>\n",
       "<style scoped>\n",
       "    .dataframe tbody tr th:only-of-type {\n",
       "        vertical-align: middle;\n",
       "    }\n",
       "\n",
       "    .dataframe tbody tr th {\n",
       "        vertical-align: top;\n",
       "    }\n",
       "\n",
       "    .dataframe thead th {\n",
       "        text-align: right;\n",
       "    }\n",
       "</style>\n",
       "<table border=\"1\" class=\"dataframe\">\n",
       "  <thead>\n",
       "    <tr style=\"text-align: right;\">\n",
       "      <th></th>\n",
       "      <th>W0</th>\n",
       "      <th>v0</th>\n",
       "      <th>y</th>\n",
       "      <th>propensity_score</th>\n",
       "      <th>weight</th>\n",
       "    </tr>\n",
       "  </thead>\n",
       "  <tbody>\n",
       "    <tr>\n",
       "      <th>0</th>\n",
       "      <td>0.442513</td>\n",
       "      <td>True</td>\n",
       "      <td>6.609369</td>\n",
       "      <td>0.675883</td>\n",
       "      <td>1.479545</td>\n",
       "    </tr>\n",
       "    <tr>\n",
       "      <th>1</th>\n",
       "      <td>0.652285</td>\n",
       "      <td>True</td>\n",
       "      <td>6.271907</td>\n",
       "      <td>0.742544</td>\n",
       "      <td>1.346721</td>\n",
       "    </tr>\n",
       "    <tr>\n",
       "      <th>2</th>\n",
       "      <td>2.158333</td>\n",
       "      <td>True</td>\n",
       "      <td>8.796857</td>\n",
       "      <td>0.967316</td>\n",
       "      <td>1.033788</td>\n",
       "    </tr>\n",
       "    <tr>\n",
       "      <th>3</th>\n",
       "      <td>1.240597</td>\n",
       "      <td>True</td>\n",
       "      <td>5.580195</td>\n",
       "      <td>0.877481</td>\n",
       "      <td>1.139626</td>\n",
       "    </tr>\n",
       "    <tr>\n",
       "      <th>4</th>\n",
       "      <td>0.652577</td>\n",
       "      <td>True</td>\n",
       "      <td>6.155409</td>\n",
       "      <td>0.742630</td>\n",
       "      <td>1.346565</td>\n",
       "    </tr>\n",
       "    <tr>\n",
       "      <th>...</th>\n",
       "      <td>...</td>\n",
       "      <td>...</td>\n",
       "      <td>...</td>\n",
       "      <td>...</td>\n",
       "      <td>...</td>\n",
       "    </tr>\n",
       "    <tr>\n",
       "      <th>995</th>\n",
       "      <td>1.351818</td>\n",
       "      <td>True</td>\n",
       "      <td>6.281182</td>\n",
       "      <td>0.894801</td>\n",
       "      <td>1.117567</td>\n",
       "    </tr>\n",
       "    <tr>\n",
       "      <th>996</th>\n",
       "      <td>0.904632</td>\n",
       "      <td>True</td>\n",
       "      <td>8.308529</td>\n",
       "      <td>0.809902</td>\n",
       "      <td>1.234717</td>\n",
       "    </tr>\n",
       "    <tr>\n",
       "      <th>997</th>\n",
       "      <td>1.351818</td>\n",
       "      <td>True</td>\n",
       "      <td>6.281182</td>\n",
       "      <td>0.894801</td>\n",
       "      <td>1.117567</td>\n",
       "    </tr>\n",
       "    <tr>\n",
       "      <th>998</th>\n",
       "      <td>-1.576993</td>\n",
       "      <td>True</td>\n",
       "      <td>2.088792</td>\n",
       "      <td>0.084144</td>\n",
       "      <td>11.884400</td>\n",
       "    </tr>\n",
       "    <tr>\n",
       "      <th>999</th>\n",
       "      <td>-0.206464</td>\n",
       "      <td>True</td>\n",
       "      <td>4.255853</td>\n",
       "      <td>0.433292</td>\n",
       "      <td>2.307910</td>\n",
       "    </tr>\n",
       "  </tbody>\n",
       "</table>\n",
       "<p>1000 rows × 5 columns</p>\n",
       "</div>"
      ],
      "text/plain": [
       "           W0    v0         y  propensity_score     weight\n",
       "0    0.442513  True  6.609369          0.675883   1.479545\n",
       "1    0.652285  True  6.271907          0.742544   1.346721\n",
       "2    2.158333  True  8.796857          0.967316   1.033788\n",
       "3    1.240597  True  5.580195          0.877481   1.139626\n",
       "4    0.652577  True  6.155409          0.742630   1.346565\n",
       "..        ...   ...       ...               ...        ...\n",
       "995  1.351818  True  6.281182          0.894801   1.117567\n",
       "996  0.904632  True  8.308529          0.809902   1.234717\n",
       "997  1.351818  True  6.281182          0.894801   1.117567\n",
       "998 -1.576993  True  2.088792          0.084144  11.884400\n",
       "999 -0.206464  True  4.255853          0.433292   2.307910\n",
       "\n",
       "[1000 rows x 5 columns]"
      ]
     },
     "execution_count": 7,
     "metadata": {},
     "output_type": "execute_result"
    }
   ],
   "source": [
    "cdf_1"
   ]
  },
  {
   "cell_type": "markdown",
   "metadata": {},
   "source": [
    "## Comparing the estimate to Linear Regression\n",
    "First, estimating the effect using the causal data frame, and the 95% confidence interval."
   ]
  },
  {
   "cell_type": "code",
   "execution_count": 8,
   "metadata": {
    "execution": {
     "iopub.execute_input": "2022-07-27T16:22:48.182990Z",
     "iopub.status.busy": "2022-07-27T16:22:48.182786Z",
     "iopub.status.idle": "2022-07-27T16:22:48.276733Z",
     "shell.execute_reply": "2022-07-27T16:22:48.276084Z"
    }
   },
   "outputs": [
    {
     "data": {
      "image/png": "[encoded data removed]",
      "text/latex": [
       "$\\displaystyle 5.0627726857531$"
      ],
      "text/plain": [
       "5.062772685753099"
      ]
     },
     "execution_count": 8,
     "metadata": {},
     "output_type": "execute_result"
    }
   ],
   "source": [
    "(cdf_1['y'] - cdf_0['y']).mean()"
   ]
  },
  {
   "cell_type": "code",
   "execution_count": 9,
   "metadata": {
    "execution": {
     "iopub.execute_input": "2022-07-27T16:22:48.279506Z",
     "iopub.status.busy": "2022-07-27T16:22:48.279293Z",
     "iopub.status.idle": "2022-07-27T16:22:48.303288Z",
     "shell.execute_reply": "2022-07-27T16:22:48.302703Z"
    }
   },
   "outputs": [
    {
     "data": {
      "image/png": "[encoded data removed]",
      "text/latex": [
       "$\\displaystyle 0.156085443459602$"
      ],
      "text/plain": [
       "0.15608544345960235"
      ]
     },
     "execution_count": 9,
     "metadata": {},
     "output_type": "execute_result"
    }
   ],
   "source": [
    "1.96*(cdf_1['y'] - cdf_0['y']).std() / np.sqrt(len(df))"
   ]
  },
  {
   "cell_type": "markdown",
   "metadata": {},
   "source": [
    "Comparing to the estimate from OLS."
   ]
  },
  {
   "cell_type": "code",
   "execution_count": 10,
   "metadata": {
    "execution": {
     "iopub.execute_input": "2022-07-27T16:22:48.306448Z",
     "iopub.status.busy": "2022-07-27T16:22:48.306229Z",
     "iopub.status.idle": "2022-07-27T16:22:48.319326Z",
     "shell.execute_reply": "2022-07-27T16:22:48.318740Z"
    }
   },
   "outputs": [
    {
     "data": {
      "text/html": [
       "<table class=\"simpletable\">\n",
       "<caption>OLS Regression Results</caption>\n",
       "<tr>\n",
       "  <th>Dep. Variable:</th>            <td>y</td>        <th>  R-squared (uncentered):</th>      <td>   0.971</td> \n",
       "</tr>\n",
       "<tr>\n",
       "  <th>Model:</th>                   <td>OLS</td>       <th>  Adj. R-squared (uncentered):</th> <td>   0.971</td> \n",
       "</tr>\n",
       "<tr>\n",
       "  <th>Method:</th>             <td>Least Squares</td>  <th>  F-statistic:       </th>          <td>1.678e+04</td>\n",
       "</tr>\n",
       "<tr>\n",
       "  <th>Date:</th>             <td>Wed, 27 Jul 2022</td> <th>  Prob (F-statistic):</th>           <td>  0.00</td>  \n",
       "</tr>\n",
       "<tr>\n",
       "  <th>Time:</th>                 <td>16:22:48</td>     <th>  Log-Likelihood:    </th>          <td> -1401.3</td> \n",
       "</tr>\n",
       "<tr>\n",
       "  <th>No. Observations:</th>      <td>  1000</td>      <th>  AIC:               </th>          <td>   2807.</td> \n",
       "</tr>\n",
       "<tr>\n",
       "  <th>Df Residuals:</th>          <td>   998</td>      <th>  BIC:               </th>          <td>   2816.</td> \n",
       "</tr>\n",
       "<tr>\n",
       "  <th>Df Model:</th>              <td>     2</td>      <th>                     </th>              <td> </td>    \n",
       "</tr>\n",
       "<tr>\n",
       "  <th>Covariance Type:</th>      <td>nonrobust</td>    <th>                     </th>              <td> </td>    \n",
       "</tr>\n",
       "</table>\n",
       "<table class=\"simpletable\">\n",
       "<tr>\n",
       "   <td></td>     <th>coef</th>     <th>std err</th>      <th>t</th>      <th>P>|t|</th>  <th>[0.025</th>    <th>0.975]</th>  \n",
       "</tr>\n",
       "<tr>\n",
       "  <th>x1</th> <td>    1.4758</td> <td>    0.036</td> <td>   40.551</td> <td> 0.000</td> <td>    1.404</td> <td>    1.547</td>\n",
       "</tr>\n",
       "<tr>\n",
       "  <th>x2</th> <td>    5.0722</td> <td>    0.054</td> <td>   94.004</td> <td> 0.000</td> <td>    4.966</td> <td>    5.178</td>\n",
       "</tr>\n",
       "</table>\n",
       "<table class=\"simpletable\">\n",
       "<tr>\n",
       "  <th>Omnibus:</th>       <td> 0.509</td> <th>  Durbin-Watson:     </th> <td>   2.059</td>\n",
       "</tr>\n",
       "<tr>\n",
       "  <th>Prob(Omnibus):</th> <td> 0.775</td> <th>  Jarque-Bera (JB):  </th> <td>   0.394</td>\n",
       "</tr>\n",
       "<tr>\n",
       "  <th>Skew:</th>          <td> 0.027</td> <th>  Prob(JB):          </th> <td>   0.821</td>\n",
       "</tr>\n",
       "<tr>\n",
       "  <th>Kurtosis:</th>      <td> 3.080</td> <th>  Cond. No.          </th> <td>    2.76</td>\n",
       "</tr>\n",
       "</table><br/><br/>Notes:<br/>[1] R² is computed without centering (uncentered) since the model does not contain a constant.<br/>[2] Standard Errors assume that the covariance matrix of the errors is correctly specified."
      ],
      "text/plain": [
       "<class 'statsmodels.iolib.summary.Summary'>\n",
       "\"\"\"\n",
       "                                 OLS Regression Results                                \n",
       "=======================================================================================\n",
       "Dep. Variable:                      y   R-squared (uncentered):                   0.971\n",
       "Model:                            OLS   Adj. R-squared (uncentered):              0.971\n",
       "Method:                 Least Squares   F-statistic:                          1.678e+04\n",
       "Date:                Wed, 27 Jul 2022   Prob (F-statistic):                        0.00\n",
       "Time:                        16:22:48   Log-Likelihood:                         -1401.3\n",
       "No. Observations:                1000   AIC:                                      2807.\n",
       "Df Residuals:                     998   BIC:                                      2816.\n",
       "Df Model:                           2                                                  \n",
       "Covariance Type:            nonrobust                                                  \n",
       "==============================================================================\n",
       "                 coef    std err          t      P>|t|      [0.025      0.975]\n",
       "------------------------------------------------------------------------------\n",
       "x1             1.4758      0.036     40.551      0.000       1.404       1.547\n",
       "x2             5.0722      0.054     94.004      0.000       4.966       5.178\n",
       "==============================================================================\n",
       "Omnibus:                        0.509   Durbin-Watson:                   2.059\n",
       "Prob(Omnibus):                  0.775   Jarque-Bera (JB):                0.394\n",
       "Skew:                           0.027   Prob(JB):                        0.821\n",
       "Kurtosis:                       3.080   Cond. No.                         2.76\n",
       "==============================================================================\n",
       "\n",
       "Notes:\n",
       "[1] R² is computed without centering (uncentered) since the model does not contain a constant.\n",
       "[2] Standard Errors assume that the covariance matrix of the errors is correctly specified.\n",
       "\"\"\""
      ]
     },
     "execution_count": 10,
     "metadata": {},
     "output_type": "execute_result"
    }
   ],
   "source": [
    "model = OLS(np.asarray(df[outcome]), np.asarray(df[[common_cause, treatment]], dtype=np.float64))\n",
    "result = model.fit()\n",
    "result.summary()"
   ]
  }
 ],
 "metadata": {
  "kernelspec": {
   "display_name": "Python 3",
   "language": "python",
   "name": "python3"
  },
  "language_info": {
   "codemirror_mode": {
    "name": "ipython",
    "version": 3
   },
   "file_extension": ".py",
   "mimetype": "text/x-python",
   "name": "python",
   "nbconvert_exporter": "python",
   "pygments_lexer": "ipython3",
   "version": "3.8.10"
  },
  "toc": {
   "base_numbering": 1,
   "nav_menu": {},
   "number_sections": false,
   "sideBar": true,
   "skip_h1_title": true,
   "title_cell": "Table of Contents",
   "title_sidebar": "Contents",
   "toc_cell": false,
   "toc_position": {},
   "toc_section_display": true,
   "toc_window_display": false
  }
 },
 "nbformat": 4,
 "nbformat_minor": 4
}
