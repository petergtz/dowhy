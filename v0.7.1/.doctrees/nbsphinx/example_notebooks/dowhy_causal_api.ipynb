{
 "cells": [
  {
   "cell_type": "markdown",
   "metadata": {},
   "source": [
    "# Demo for the DoWhy causal API\n",
    "We show a simple example of adding a causal extension to any dataframe. "
   ]
  },
  {
   "cell_type": "code",
   "execution_count": 1,
   "metadata": {
    "execution": {
     "iopub.execute_input": "2022-10-25T18:27:12.581920Z",
     "iopub.status.busy": "2022-10-25T18:27:12.581651Z",
     "iopub.status.idle": "2022-10-25T18:27:14.553631Z",
     "shell.execute_reply": "2022-10-25T18:27:14.552898Z"
    }
   },
   "outputs": [],
   "source": [
    "import dowhy.datasets\n",
    "import dowhy.api\n",
    "\n",
    "import numpy as np\n",
    "import pandas as pd\n",
    "\n",
    "from statsmodels.api import OLS"
   ]
  },
  {
   "cell_type": "code",
   "execution_count": 2,
   "metadata": {
    "execution": {
     "iopub.execute_input": "2022-10-25T18:27:14.559385Z",
     "iopub.status.busy": "2022-10-25T18:27:14.557625Z",
     "iopub.status.idle": "2022-10-25T18:27:14.607424Z",
     "shell.execute_reply": "2022-10-25T18:27:14.606770Z"
    }
   },
   "outputs": [
    {
     "data": {
      "text/html": [
       "<div>\n",
       "<style scoped>\n",
       "    .dataframe tbody tr th:only-of-type {\n",
       "        vertical-align: middle;\n",
       "    }\n",
       "\n",
       "    .dataframe tbody tr th {\n",
       "        vertical-align: top;\n",
       "    }\n",
       "\n",
       "    .dataframe thead th {\n",
       "        text-align: right;\n",
       "    }\n",
       "</style>\n",
       "<table border=\"1\" class=\"dataframe\">\n",
       "  <thead>\n",
       "    <tr style=\"text-align: right;\">\n",
       "      <th></th>\n",
       "      <th>W0</th>\n",
       "      <th>v0</th>\n",
       "      <th>y</th>\n",
       "    </tr>\n",
       "  </thead>\n",
       "  <tbody>\n",
       "    <tr>\n",
       "      <th>0</th>\n",
       "      <td>0.341057</td>\n",
       "      <td>True</td>\n",
       "      <td>6.094884</td>\n",
       "    </tr>\n",
       "    <tr>\n",
       "      <th>1</th>\n",
       "      <td>-0.943988</td>\n",
       "      <td>False</td>\n",
       "      <td>-1.859987</td>\n",
       "    </tr>\n",
       "    <tr>\n",
       "      <th>2</th>\n",
       "      <td>-1.766549</td>\n",
       "      <td>False</td>\n",
       "      <td>-1.022965</td>\n",
       "    </tr>\n",
       "    <tr>\n",
       "      <th>3</th>\n",
       "      <td>-0.464593</td>\n",
       "      <td>False</td>\n",
       "      <td>0.422382</td>\n",
       "    </tr>\n",
       "    <tr>\n",
       "      <th>4</th>\n",
       "      <td>-0.261416</td>\n",
       "      <td>False</td>\n",
       "      <td>-1.621774</td>\n",
       "    </tr>\n",
       "    <tr>\n",
       "      <th>...</th>\n",
       "      <td>...</td>\n",
       "      <td>...</td>\n",
       "      <td>...</td>\n",
       "    </tr>\n",
       "    <tr>\n",
       "      <th>995</th>\n",
       "      <td>-0.329988</td>\n",
       "      <td>False</td>\n",
       "      <td>-0.209193</td>\n",
       "    </tr>\n",
       "    <tr>\n",
       "      <th>996</th>\n",
       "      <td>0.805815</td>\n",
       "      <td>True</td>\n",
       "      <td>6.587458</td>\n",
       "    </tr>\n",
       "    <tr>\n",
       "      <th>997</th>\n",
       "      <td>-1.119123</td>\n",
       "      <td>False</td>\n",
       "      <td>-1.468974</td>\n",
       "    </tr>\n",
       "    <tr>\n",
       "      <th>998</th>\n",
       "      <td>-0.408043</td>\n",
       "      <td>True</td>\n",
       "      <td>5.182579</td>\n",
       "    </tr>\n",
       "    <tr>\n",
       "      <th>999</th>\n",
       "      <td>-0.533452</td>\n",
       "      <td>True</td>\n",
       "      <td>4.919964</td>\n",
       "    </tr>\n",
       "  </tbody>\n",
       "</table>\n",
       "<p>1000 rows × 3 columns</p>\n",
       "</div>"
      ],
      "text/plain": [
       "           W0     v0         y\n",
       "0    0.341057   True  6.094884\n",
       "1   -0.943988  False -1.859987\n",
       "2   -1.766549  False -1.022965\n",
       "3   -0.464593  False  0.422382\n",
       "4   -0.261416  False -1.621774\n",
       "..        ...    ...       ...\n",
       "995 -0.329988  False -0.209193\n",
       "996  0.805815   True  6.587458\n",
       "997 -1.119123  False -1.468974\n",
       "998 -0.408043   True  5.182579\n",
       "999 -0.533452   True  4.919964\n",
       "\n",
       "[1000 rows x 3 columns]"
      ]
     },
     "execution_count": 2,
     "metadata": {},
     "output_type": "execute_result"
    }
   ],
   "source": [
    "data = dowhy.datasets.linear_dataset(beta=5,\n",
    "        num_common_causes=1,\n",
    "        num_instruments = 0,\n",
    "        num_samples=1000,\n",
    "        treatment_is_binary=True)\n",
    "df = data['df']\n",
    "df['y'] = df['y'] + np.random.normal(size=len(df)) # Adding noise to data. Without noise, the variance in Y|X, Z is zero, and mcmc fails.\n",
    "#data['dot_graph'] = 'digraph { v ->y;X0-> v;X0-> y;}'\n",
    "\n",
    "treatment= data[\"treatment_name\"][0]\n",
    "outcome = data[\"outcome_name\"][0]\n",
    "common_cause = data[\"common_causes_names\"][0]\n",
    "df"
   ]
  },
  {
   "cell_type": "code",
   "execution_count": 3,
   "metadata": {
    "execution": {
     "iopub.execute_input": "2022-10-25T18:27:14.610818Z",
     "iopub.status.busy": "2022-10-25T18:27:14.610429Z",
     "iopub.status.idle": "2022-10-25T18:27:14.761043Z",
     "shell.execute_reply": "2022-10-25T18:27:14.760138Z"
    }
   },
   "outputs": [
    {
     "data": {
      "text/plain": [
       "<AxesSubplot: xlabel='v0'>"
      ]
     },
     "execution_count": 3,
     "metadata": {},
     "output_type": "execute_result"
    },
    {
     "data": {
      "image/png": "[encoded data removed]",
      "text/plain": [
       "<Figure size 640x480 with 1 Axes>"
      ]
     },
     "metadata": {},
     "output_type": "display_data"
    }
   ],
   "source": [
    "# data['df'] is just a regular pandas.DataFrame\n",
    "df.causal.do(x=treatment,\n",
    "                     variable_types={treatment: 'b', outcome: 'c', common_cause: 'c'},\n",
    "                     outcome=outcome,\n",
    "                     common_causes=[common_cause],\n",
    "                     proceed_when_unidentifiable=True).groupby(treatment).mean().plot(y=outcome, kind='bar')"
   ]
  },
  {
   "cell_type": "code",
   "execution_count": 4,
   "metadata": {
    "execution": {
     "iopub.execute_input": "2022-10-25T18:27:14.764946Z",
     "iopub.status.busy": "2022-10-25T18:27:14.764505Z",
     "iopub.status.idle": "2022-10-25T18:27:14.881022Z",
     "shell.execute_reply": "2022-10-25T18:27:14.880453Z"
    }
   },
   "outputs": [
    {
     "data": {
      "text/plain": [
       "<AxesSubplot: xlabel='v0'>"
      ]
     },
     "execution_count": 4,
     "metadata": {},
     "output_type": "execute_result"
    },
    {
     "data": {
      "image/png": "[encoded data removed]",
      "text/plain": [
       "<Figure size 640x480 with 1 Axes>"
      ]
     },
     "metadata": {},
     "output_type": "display_data"
    }
   ],
   "source": [
    "df.causal.do(x={treatment: 1}, \n",
    "              variable_types={treatment:'b', outcome: 'c', common_cause: 'c'}, \n",
    "              outcome=outcome,\n",
    "              method='weighting', \n",
    "              common_causes=[common_cause],\n",
    "              proceed_when_unidentifiable=True).groupby(treatment).mean().plot(y=outcome, kind='bar')"
   ]
  },
  {
   "cell_type": "code",
   "execution_count": 5,
   "metadata": {
    "execution": {
     "iopub.execute_input": "2022-10-25T18:27:14.885298Z",
     "iopub.status.busy": "2022-10-25T18:27:14.884229Z",
     "iopub.status.idle": "2022-10-25T18:27:14.918612Z",
     "shell.execute_reply": "2022-10-25T18:27:14.917954Z"
    }
   },
   "outputs": [],
   "source": [
    "cdf_1 = df.causal.do(x={treatment: 1}, \n",
    "              variable_types={treatment: 'b', outcome: 'c', common_cause: 'c'}, \n",
    "              outcome=outcome, \n",
    "              dot_graph=data['dot_graph'],\n",
    "              proceed_when_unidentifiable=True)\n",
    "\n",
    "cdf_0 = df.causal.do(x={treatment: 0}, \n",
    "              variable_types={treatment: 'b', outcome: 'c', common_cause: 'c'}, \n",
    "              outcome=outcome, \n",
    "              dot_graph=data['dot_graph'],\n",
    "              proceed_when_unidentifiable=True)\n"
   ]
  },
  {
   "cell_type": "code",
   "execution_count": 6,
   "metadata": {
    "execution": {
     "iopub.execute_input": "2022-10-25T18:27:14.922626Z",
     "iopub.status.busy": "2022-10-25T18:27:14.922016Z",
     "iopub.status.idle": "2022-10-25T18:27:14.934990Z",
     "shell.execute_reply": "2022-10-25T18:27:14.934411Z"
    },
    "scrolled": true
   },
   "outputs": [
    {
     "data": {
      "text/html": [
       "<div>\n",
       "<style scoped>\n",
       "    .dataframe tbody tr th:only-of-type {\n",
       "        vertical-align: middle;\n",
       "    }\n",
       "\n",
       "    .dataframe tbody tr th {\n",
       "        vertical-align: top;\n",
       "    }\n",
       "\n",
       "    .dataframe thead th {\n",
       "        text-align: right;\n",
       "    }\n",
       "</style>\n",
       "<table border=\"1\" class=\"dataframe\">\n",
       "  <thead>\n",
       "    <tr style=\"text-align: right;\">\n",
       "      <th></th>\n",
       "      <th>W0</th>\n",
       "      <th>v0</th>\n",
       "      <th>y</th>\n",
       "      <th>propensity_score</th>\n",
       "      <th>weight</th>\n",
       "    </tr>\n",
       "  </thead>\n",
       "  <tbody>\n",
       "    <tr>\n",
       "      <th>0</th>\n",
       "      <td>-0.769552</td>\n",
       "      <td>False</td>\n",
       "      <td>0.232160</td>\n",
       "      <td>0.882444</td>\n",
       "      <td>1.133216</td>\n",
       "    </tr>\n",
       "    <tr>\n",
       "      <th>1</th>\n",
       "      <td>-0.080220</td>\n",
       "      <td>False</td>\n",
       "      <td>0.963311</td>\n",
       "      <td>0.553210</td>\n",
       "      <td>1.807633</td>\n",
       "    </tr>\n",
       "    <tr>\n",
       "      <th>2</th>\n",
       "      <td>-0.761956</td>\n",
       "      <td>False</td>\n",
       "      <td>0.866193</td>\n",
       "      <td>0.880368</td>\n",
       "      <td>1.135888</td>\n",
       "    </tr>\n",
       "    <tr>\n",
       "      <th>3</th>\n",
       "      <td>0.976475</td>\n",
       "      <td>False</td>\n",
       "      <td>1.734305</td>\n",
       "      <td>0.072501</td>\n",
       "      <td>13.792896</td>\n",
       "    </tr>\n",
       "    <tr>\n",
       "      <th>4</th>\n",
       "      <td>-1.705102</td>\n",
       "      <td>False</td>\n",
       "      <td>-1.058246</td>\n",
       "      <td>0.988588</td>\n",
       "      <td>1.011544</td>\n",
       "    </tr>\n",
       "    <tr>\n",
       "      <th>...</th>\n",
       "      <td>...</td>\n",
       "      <td>...</td>\n",
       "      <td>...</td>\n",
       "      <td>...</td>\n",
       "      <td>...</td>\n",
       "    </tr>\n",
       "    <tr>\n",
       "      <th>995</th>\n",
       "      <td>0.331263</td>\n",
       "      <td>False</td>\n",
       "      <td>-0.076957</td>\n",
       "      <td>0.296900</td>\n",
       "      <td>3.368133</td>\n",
       "    </tr>\n",
       "    <tr>\n",
       "      <th>996</th>\n",
       "      <td>-0.400450</td>\n",
       "      <td>False</td>\n",
       "      <td>-1.711298</td>\n",
       "      <td>0.740934</td>\n",
       "      <td>1.349647</td>\n",
       "    </tr>\n",
       "    <tr>\n",
       "      <th>997</th>\n",
       "      <td>-1.771990</td>\n",
       "      <td>False</td>\n",
       "      <td>-2.270971</td>\n",
       "      <td>0.990401</td>\n",
       "      <td>1.009692</td>\n",
       "    </tr>\n",
       "    <tr>\n",
       "      <th>998</th>\n",
       "      <td>-3.945902</td>\n",
       "      <td>False</td>\n",
       "      <td>-2.235685</td>\n",
       "      <td>0.999967</td>\n",
       "      <td>1.000033</td>\n",
       "    </tr>\n",
       "    <tr>\n",
       "      <th>999</th>\n",
       "      <td>-0.484649</td>\n",
       "      <td>False</td>\n",
       "      <td>-0.788893</td>\n",
       "      <td>0.780906</td>\n",
       "      <td>1.280564</td>\n",
       "    </tr>\n",
       "  </tbody>\n",
       "</table>\n",
       "<p>1000 rows × 5 columns</p>\n",
       "</div>"
      ],
      "text/plain": [
       "           W0     v0         y  propensity_score     weight\n",
       "0   -0.769552  False  0.232160          0.882444   1.133216\n",
       "1   -0.080220  False  0.963311          0.553210   1.807633\n",
       "2   -0.761956  False  0.866193          0.880368   1.135888\n",
       "3    0.976475  False  1.734305          0.072501  13.792896\n",
       "4   -1.705102  False -1.058246          0.988588   1.011544\n",
       "..        ...    ...       ...               ...        ...\n",
       "995  0.331263  False -0.076957          0.296900   3.368133\n",
       "996 -0.400450  False -1.711298          0.740934   1.349647\n",
       "997 -1.771990  False -2.270971          0.990401   1.009692\n",
       "998 -3.945902  False -2.235685          0.999967   1.000033\n",
       "999 -0.484649  False -0.788893          0.780906   1.280564\n",
       "\n",
       "[1000 rows x 5 columns]"
      ]
     },
     "execution_count": 6,
     "metadata": {},
     "output_type": "execute_result"
    }
   ],
   "source": [
    "cdf_0"
   ]
  },
  {
   "cell_type": "code",
   "execution_count": 7,
   "metadata": {
    "execution": {
     "iopub.execute_input": "2022-10-25T18:27:14.937849Z",
     "iopub.status.busy": "2022-10-25T18:27:14.937412Z",
     "iopub.status.idle": "2022-10-25T18:27:14.949619Z",
     "shell.execute_reply": "2022-10-25T18:27:14.948974Z"
    }
   },
   "outputs": [
    {
     "data": {
      "text/html": [
       "<div>\n",
       "<style scoped>\n",
       "    .dataframe tbody tr th:only-of-type {\n",
       "        vertical-align: middle;\n",
       "    }\n",
       "\n",
       "    .dataframe tbody tr th {\n",
       "        vertical-align: top;\n",
       "    }\n",
       "\n",
       "    .dataframe thead th {\n",
       "        text-align: right;\n",
       "    }\n",
       "</style>\n",
       "<table border=\"1\" class=\"dataframe\">\n",
       "  <thead>\n",
       "    <tr style=\"text-align: right;\">\n",
       "      <th></th>\n",
       "      <th>W0</th>\n",
       "      <th>v0</th>\n",
       "      <th>y</th>\n",
       "      <th>propensity_score</th>\n",
       "      <th>weight</th>\n",
       "    </tr>\n",
       "  </thead>\n",
       "  <tbody>\n",
       "    <tr>\n",
       "      <th>0</th>\n",
       "      <td>-1.254981</td>\n",
       "      <td>True</td>\n",
       "      <td>3.877408</td>\n",
       "      <td>0.036095</td>\n",
       "      <td>27.704859</td>\n",
       "    </tr>\n",
       "    <tr>\n",
       "      <th>1</th>\n",
       "      <td>-1.157749</td>\n",
       "      <td>True</td>\n",
       "      <td>6.051899</td>\n",
       "      <td>0.046060</td>\n",
       "      <td>21.710710</td>\n",
       "    </tr>\n",
       "    <tr>\n",
       "      <th>2</th>\n",
       "      <td>2.769125</td>\n",
       "      <td>True</td>\n",
       "      <td>5.811220</td>\n",
       "      <td>0.999280</td>\n",
       "      <td>1.000721</td>\n",
       "    </tr>\n",
       "    <tr>\n",
       "      <th>3</th>\n",
       "      <td>-1.159571</td>\n",
       "      <td>True</td>\n",
       "      <td>3.510571</td>\n",
       "      <td>0.045851</td>\n",
       "      <td>21.809591</td>\n",
       "    </tr>\n",
       "    <tr>\n",
       "      <th>4</th>\n",
       "      <td>-1.476568</td>\n",
       "      <td>True</td>\n",
       "      <td>4.869829</td>\n",
       "      <td>0.020550</td>\n",
       "      <td>48.662571</td>\n",
       "    </tr>\n",
       "    <tr>\n",
       "      <th>...</th>\n",
       "      <td>...</td>\n",
       "      <td>...</td>\n",
       "      <td>...</td>\n",
       "      <td>...</td>\n",
       "      <td>...</td>\n",
       "    </tr>\n",
       "    <tr>\n",
       "      <th>995</th>\n",
       "      <td>0.550957</td>\n",
       "      <td>True</td>\n",
       "      <td>7.005650</td>\n",
       "      <td>0.807904</td>\n",
       "      <td>1.237770</td>\n",
       "    </tr>\n",
       "    <tr>\n",
       "      <th>996</th>\n",
       "      <td>-0.389819</td>\n",
       "      <td>True</td>\n",
       "      <td>4.151224</td>\n",
       "      <td>0.264436</td>\n",
       "      <td>3.781630</td>\n",
       "    </tr>\n",
       "    <tr>\n",
       "      <th>997</th>\n",
       "      <td>-1.157749</td>\n",
       "      <td>True</td>\n",
       "      <td>6.051899</td>\n",
       "      <td>0.046060</td>\n",
       "      <td>21.710710</td>\n",
       "    </tr>\n",
       "    <tr>\n",
       "      <th>998</th>\n",
       "      <td>-0.866293</td>\n",
       "      <td>True</td>\n",
       "      <td>2.712128</td>\n",
       "      <td>0.093749</td>\n",
       "      <td>10.666750</td>\n",
       "    </tr>\n",
       "    <tr>\n",
       "      <th>999</th>\n",
       "      <td>-1.267417</td>\n",
       "      <td>True</td>\n",
       "      <td>4.328259</td>\n",
       "      <td>0.034980</td>\n",
       "      <td>28.587394</td>\n",
       "    </tr>\n",
       "  </tbody>\n",
       "</table>\n",
       "<p>1000 rows × 5 columns</p>\n",
       "</div>"
      ],
      "text/plain": [
       "           W0    v0         y  propensity_score     weight\n",
       "0   -1.254981  True  3.877408          0.036095  27.704859\n",
       "1   -1.157749  True  6.051899          0.046060  21.710710\n",
       "2    2.769125  True  5.811220          0.999280   1.000721\n",
       "3   -1.159571  True  3.510571          0.045851  21.809591\n",
       "4   -1.476568  True  4.869829          0.020550  48.662571\n",
       "..        ...   ...       ...               ...        ...\n",
       "995  0.550957  True  7.005650          0.807904   1.237770\n",
       "996 -0.389819  True  4.151224          0.264436   3.781630\n",
       "997 -1.157749  True  6.051899          0.046060  21.710710\n",
       "998 -0.866293  True  2.712128          0.093749  10.666750\n",
       "999 -1.267417  True  4.328259          0.034980  28.587394\n",
       "\n",
       "[1000 rows x 5 columns]"
      ]
     },
     "execution_count": 7,
     "metadata": {},
     "output_type": "execute_result"
    }
   ],
   "source": [
    "cdf_1"
   ]
  },
  {
   "cell_type": "markdown",
   "metadata": {},
   "source": [
    "## Comparing the estimate to Linear Regression\n",
    "First, estimating the effect using the causal data frame, and the 95% confidence interval."
   ]
  },
  {
   "cell_type": "code",
   "execution_count": 8,
   "metadata": {
    "execution": {
     "iopub.execute_input": "2022-10-25T18:27:14.952544Z",
     "iopub.status.busy": "2022-10-25T18:27:14.952313Z",
     "iopub.status.idle": "2022-10-25T18:27:15.011384Z",
     "shell.execute_reply": "2022-10-25T18:27:15.010730Z"
    }
   },
   "outputs": [
    {
     "data": {
      "image/png": "[encoded data removed]",
      "text/latex": [
       "$\\displaystyle 5.19731270247417$"
      ],
      "text/plain": [
       "5.197312702474166"
      ]
     },
     "execution_count": 8,
     "metadata": {},
     "output_type": "execute_result"
    }
   ],
   "source": [
    "(cdf_1['y'] - cdf_0['y']).mean()"
   ]
  },
  {
   "cell_type": "code",
   "execution_count": 9,
   "metadata": {
    "execution": {
     "iopub.execute_input": "2022-10-25T18:27:15.014961Z",
     "iopub.status.busy": "2022-10-25T18:27:15.014394Z",
     "iopub.status.idle": "2022-10-25T18:27:15.038477Z",
     "shell.execute_reply": "2022-10-25T18:27:15.037811Z"
    }
   },
   "outputs": [
    {
     "data": {
      "image/png": "[encoded data removed]",
      "text/latex": [
       "$\\displaystyle 0.0973061861896924$"
      ],
      "text/plain": [
       "0.0973061861896924"
      ]
     },
     "execution_count": 9,
     "metadata": {},
     "output_type": "execute_result"
    }
   ],
   "source": [
    "1.96*(cdf_1['y'] - cdf_0['y']).std() / np.sqrt(len(df))"
   ]
  },
  {
   "cell_type": "markdown",
   "metadata": {},
   "source": [
    "Comparing to the estimate from OLS."
   ]
  },
  {
   "cell_type": "code",
   "execution_count": 10,
   "metadata": {
    "execution": {
     "iopub.execute_input": "2022-10-25T18:27:15.042071Z",
     "iopub.status.busy": "2022-10-25T18:27:15.041660Z",
     "iopub.status.idle": "2022-10-25T18:27:15.060930Z",
     "shell.execute_reply": "2022-10-25T18:27:15.060227Z"
    }
   },
   "outputs": [
    {
     "data": {
      "text/html": [
       "<table class=\"simpletable\">\n",
       "<caption>OLS Regression Results</caption>\n",
       "<tr>\n",
       "  <th>Dep. Variable:</th>            <td>y</td>        <th>  R-squared (uncentered):</th>      <td>   0.863</td>\n",
       "</tr>\n",
       "<tr>\n",
       "  <th>Model:</th>                   <td>OLS</td>       <th>  Adj. R-squared (uncentered):</th> <td>   0.863</td>\n",
       "</tr>\n",
       "<tr>\n",
       "  <th>Method:</th>             <td>Least Squares</td>  <th>  F-statistic:       </th>          <td>   3145.</td>\n",
       "</tr>\n",
       "<tr>\n",
       "  <th>Date:</th>             <td>Tue, 25 Oct 2022</td> <th>  Prob (F-statistic):</th>           <td>  0.00</td> \n",
       "</tr>\n",
       "<tr>\n",
       "  <th>Time:</th>                 <td>18:27:15</td>     <th>  Log-Likelihood:    </th>          <td> -1427.6</td>\n",
       "</tr>\n",
       "<tr>\n",
       "  <th>No. Observations:</th>      <td>  1000</td>      <th>  AIC:               </th>          <td>   2859.</td>\n",
       "</tr>\n",
       "<tr>\n",
       "  <th>Df Residuals:</th>          <td>   998</td>      <th>  BIC:               </th>          <td>   2869.</td>\n",
       "</tr>\n",
       "<tr>\n",
       "  <th>Df Model:</th>              <td>     2</td>      <th>                     </th>              <td> </td>   \n",
       "</tr>\n",
       "<tr>\n",
       "  <th>Covariance Type:</th>      <td>nonrobust</td>    <th>                     </th>              <td> </td>   \n",
       "</tr>\n",
       "</table>\n",
       "<table class=\"simpletable\">\n",
       "<tr>\n",
       "   <td></td>     <th>coef</th>     <th>std err</th>      <th>t</th>      <th>P>|t|</th>  <th>[0.025</th>    <th>0.975]</th>  \n",
       "</tr>\n",
       "<tr>\n",
       "  <th>x1</th> <td>    0.5725</td> <td>    0.023</td> <td>   24.555</td> <td> 0.000</td> <td>    0.527</td> <td>    0.618</td>\n",
       "</tr>\n",
       "<tr>\n",
       "  <th>x2</th> <td>    5.0086</td> <td>    0.068</td> <td>   73.573</td> <td> 0.000</td> <td>    4.875</td> <td>    5.142</td>\n",
       "</tr>\n",
       "</table>\n",
       "<table class=\"simpletable\">\n",
       "<tr>\n",
       "  <th>Omnibus:</th>       <td> 3.421</td> <th>  Durbin-Watson:     </th> <td>   1.948</td>\n",
       "</tr>\n",
       "<tr>\n",
       "  <th>Prob(Omnibus):</th> <td> 0.181</td> <th>  Jarque-Bera (JB):  </th> <td>   3.862</td>\n",
       "</tr>\n",
       "<tr>\n",
       "  <th>Skew:</th>          <td> 0.013</td> <th>  Prob(JB):          </th> <td>   0.145</td>\n",
       "</tr>\n",
       "<tr>\n",
       "  <th>Kurtosis:</th>      <td> 3.303</td> <th>  Cond. No.          </th> <td>    2.93</td>\n",
       "</tr>\n",
       "</table><br/><br/>Notes:<br/>[1] R² is computed without centering (uncentered) since the model does not contain a constant.<br/>[2] Standard Errors assume that the covariance matrix of the errors is correctly specified."
      ],
      "text/plain": [
       "<class 'statsmodels.iolib.summary.Summary'>\n",
       "\"\"\"\n",
       "                                 OLS Regression Results                                \n",
       "=======================================================================================\n",
       "Dep. Variable:                      y   R-squared (uncentered):                   0.863\n",
       "Model:                            OLS   Adj. R-squared (uncentered):              0.863\n",
       "Method:                 Least Squares   F-statistic:                              3145.\n",
       "Date:                Tue, 25 Oct 2022   Prob (F-statistic):                        0.00\n",
       "Time:                        18:27:15   Log-Likelihood:                         -1427.6\n",
       "No. Observations:                1000   AIC:                                      2859.\n",
       "Df Residuals:                     998   BIC:                                      2869.\n",
       "Df Model:                           2                                                  \n",
       "Covariance Type:            nonrobust                                                  \n",
       "==============================================================================\n",
       "                 coef    std err          t      P>|t|      [0.025      0.975]\n",
       "------------------------------------------------------------------------------\n",
       "x1             0.5725      0.023     24.555      0.000       0.527       0.618\n",
       "x2             5.0086      0.068     73.573      0.000       4.875       5.142\n",
       "==============================================================================\n",
       "Omnibus:                        3.421   Durbin-Watson:                   1.948\n",
       "Prob(Omnibus):                  0.181   Jarque-Bera (JB):                3.862\n",
       "Skew:                           0.013   Prob(JB):                        0.145\n",
       "Kurtosis:                       3.303   Cond. No.                         2.93\n",
       "==============================================================================\n",
       "\n",
       "Notes:\n",
       "[1] R² is computed without centering (uncentered) since the model does not contain a constant.\n",
       "[2] Standard Errors assume that the covariance matrix of the errors is correctly specified.\n",
       "\"\"\""
      ]
     },
     "execution_count": 10,
     "metadata": {},
     "output_type": "execute_result"
    }
   ],
   "source": [
    "model = OLS(np.asarray(df[outcome]), np.asarray(df[[common_cause, treatment]], dtype=np.float64))\n",
    "result = model.fit()\n",
    "result.summary()"
   ]
  }
 ],
 "metadata": {
  "kernelspec": {
   "display_name": "Python 3",
   "language": "python",
   "name": "python3"
  },
  "language_info": {
   "codemirror_mode": {
    "name": "ipython",
    "version": 3
   },
   "file_extension": ".py",
   "mimetype": "text/x-python",
   "name": "python",
   "nbconvert_exporter": "python",
   "pygments_lexer": "ipython3",
   "version": "3.8.10"
  },
  "toc": {
   "base_numbering": 1,
   "nav_menu": {},
   "number_sections": false,
   "sideBar": true,
   "skip_h1_title": true,
   "title_cell": "Table of Contents",
   "title_sidebar": "Contents",
   "toc_cell": false,
   "toc_position": {},
   "toc_section_display": true,
   "toc_window_display": false
  }
 },
 "nbformat": 4,
 "nbformat_minor": 4
}
