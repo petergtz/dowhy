{
 "cells": [
  {
   "cell_type": "markdown",
   "metadata": {},
   "source": [
    "# Demo for the DoWhy causal API\n",
    "We show a simple example of adding a causal extension to any dataframe. "
   ]
  },
  {
   "cell_type": "code",
   "execution_count": 1,
   "metadata": {
    "execution": {
     "iopub.execute_input": "2022-10-17T14:13:33.822359Z",
     "iopub.status.busy": "2022-10-17T14:13:33.821571Z",
     "iopub.status.idle": "2022-10-17T14:13:36.275227Z",
     "shell.execute_reply": "2022-10-17T14:13:36.274170Z"
    }
   },
   "outputs": [],
   "source": [
    "import dowhy.datasets\n",
    "import dowhy.api\n",
    "\n",
    "import numpy as np\n",
    "import pandas as pd\n",
    "\n",
    "from statsmodels.api import OLS"
   ]
  },
  {
   "cell_type": "code",
   "execution_count": 2,
   "metadata": {
    "execution": {
     "iopub.execute_input": "2022-10-17T14:13:36.281056Z",
     "iopub.status.busy": "2022-10-17T14:13:36.279189Z",
     "iopub.status.idle": "2022-10-17T14:13:36.350204Z",
     "shell.execute_reply": "2022-10-17T14:13:36.349240Z"
    }
   },
   "outputs": [
    {
     "data": {
      "text/html": [
       "<div>\n",
       "<style scoped>\n",
       "    .dataframe tbody tr th:only-of-type {\n",
       "        vertical-align: middle;\n",
       "    }\n",
       "\n",
       "    .dataframe tbody tr th {\n",
       "        vertical-align: top;\n",
       "    }\n",
       "\n",
       "    .dataframe thead th {\n",
       "        text-align: right;\n",
       "    }\n",
       "</style>\n",
       "<table border=\"1\" class=\"dataframe\">\n",
       "  <thead>\n",
       "    <tr style=\"text-align: right;\">\n",
       "      <th></th>\n",
       "      <th>W0</th>\n",
       "      <th>v0</th>\n",
       "      <th>y</th>\n",
       "    </tr>\n",
       "  </thead>\n",
       "  <tbody>\n",
       "    <tr>\n",
       "      <th>0</th>\n",
       "      <td>-0.255409</td>\n",
       "      <td>False</td>\n",
       "      <td>0.004099</td>\n",
       "    </tr>\n",
       "    <tr>\n",
       "      <th>1</th>\n",
       "      <td>0.840175</td>\n",
       "      <td>True</td>\n",
       "      <td>4.288417</td>\n",
       "    </tr>\n",
       "    <tr>\n",
       "      <th>2</th>\n",
       "      <td>0.181350</td>\n",
       "      <td>True</td>\n",
       "      <td>5.904492</td>\n",
       "    </tr>\n",
       "    <tr>\n",
       "      <th>3</th>\n",
       "      <td>2.862424</td>\n",
       "      <td>True</td>\n",
       "      <td>5.031135</td>\n",
       "    </tr>\n",
       "    <tr>\n",
       "      <th>4</th>\n",
       "      <td>0.729631</td>\n",
       "      <td>False</td>\n",
       "      <td>1.807294</td>\n",
       "    </tr>\n",
       "    <tr>\n",
       "      <th>...</th>\n",
       "      <td>...</td>\n",
       "      <td>...</td>\n",
       "      <td>...</td>\n",
       "    </tr>\n",
       "    <tr>\n",
       "      <th>995</th>\n",
       "      <td>0.824080</td>\n",
       "      <td>True</td>\n",
       "      <td>3.327751</td>\n",
       "    </tr>\n",
       "    <tr>\n",
       "      <th>996</th>\n",
       "      <td>2.117673</td>\n",
       "      <td>True</td>\n",
       "      <td>5.631327</td>\n",
       "    </tr>\n",
       "    <tr>\n",
       "      <th>997</th>\n",
       "      <td>-0.053550</td>\n",
       "      <td>False</td>\n",
       "      <td>-0.192348</td>\n",
       "    </tr>\n",
       "    <tr>\n",
       "      <th>998</th>\n",
       "      <td>1.222240</td>\n",
       "      <td>True</td>\n",
       "      <td>8.158245</td>\n",
       "    </tr>\n",
       "    <tr>\n",
       "      <th>999</th>\n",
       "      <td>-0.061861</td>\n",
       "      <td>False</td>\n",
       "      <td>0.180326</td>\n",
       "    </tr>\n",
       "  </tbody>\n",
       "</table>\n",
       "<p>1000 rows × 3 columns</p>\n",
       "</div>"
      ],
      "text/plain": [
       "           W0     v0         y\n",
       "0   -0.255409  False  0.004099\n",
       "1    0.840175   True  4.288417\n",
       "2    0.181350   True  5.904492\n",
       "3    2.862424   True  5.031135\n",
       "4    0.729631  False  1.807294\n",
       "..        ...    ...       ...\n",
       "995  0.824080   True  3.327751\n",
       "996  2.117673   True  5.631327\n",
       "997 -0.053550  False -0.192348\n",
       "998  1.222240   True  8.158245\n",
       "999 -0.061861  False  0.180326\n",
       "\n",
       "[1000 rows x 3 columns]"
      ]
     },
     "execution_count": 2,
     "metadata": {},
     "output_type": "execute_result"
    }
   ],
   "source": [
    "data = dowhy.datasets.linear_dataset(beta=5,\n",
    "        num_common_causes=1,\n",
    "        num_instruments = 0,\n",
    "        num_samples=1000,\n",
    "        treatment_is_binary=True)\n",
    "df = data['df']\n",
    "df['y'] = df['y'] + np.random.normal(size=len(df)) # Adding noise to data. Without noise, the variance in Y|X, Z is zero, and mcmc fails.\n",
    "#data['dot_graph'] = 'digraph { v ->y;X0-> v;X0-> y;}'\n",
    "\n",
    "treatment= data[\"treatment_name\"][0]\n",
    "outcome = data[\"outcome_name\"][0]\n",
    "common_cause = data[\"common_causes_names\"][0]\n",
    "df"
   ]
  },
  {
   "cell_type": "code",
   "execution_count": 3,
   "metadata": {
    "execution": {
     "iopub.execute_input": "2022-10-17T14:13:36.354216Z",
     "iopub.status.busy": "2022-10-17T14:13:36.353782Z",
     "iopub.status.idle": "2022-10-17T14:13:36.570080Z",
     "shell.execute_reply": "2022-10-17T14:13:36.565427Z"
    }
   },
   "outputs": [
    {
     "data": {
      "text/plain": [
       "<AxesSubplot: xlabel='v0'>"
      ]
     },
     "execution_count": 3,
     "metadata": {},
     "output_type": "execute_result"
    },
    {
     "data": {
      "image/png": "[encoded data removed]",
      "text/plain": [
       "<Figure size 640x480 with 1 Axes>"
      ]
     },
     "metadata": {},
     "output_type": "display_data"
    }
   ],
   "source": [
    "# data['df'] is just a regular pandas.DataFrame\n",
    "df.causal.do(x=treatment,\n",
    "                     variable_types={treatment: 'b', outcome: 'c', common_cause: 'c'},\n",
    "                     outcome=outcome,\n",
    "                     common_causes=[common_cause],\n",
    "                     proceed_when_unidentifiable=True).groupby(treatment).mean().plot(y=outcome, kind='bar')"
   ]
  },
  {
   "cell_type": "code",
   "execution_count": 4,
   "metadata": {
    "execution": {
     "iopub.execute_input": "2022-10-17T14:13:36.575098Z",
     "iopub.status.busy": "2022-10-17T14:13:36.574609Z",
     "iopub.status.idle": "2022-10-17T14:13:36.751071Z",
     "shell.execute_reply": "2022-10-17T14:13:36.750039Z"
    }
   },
   "outputs": [
    {
     "data": {
      "text/plain": [
       "<AxesSubplot: xlabel='v0'>"
      ]
     },
     "execution_count": 4,
     "metadata": {},
     "output_type": "execute_result"
    },
    {
     "data": {
      "image/png": "[encoded data removed]",
      "text/plain": [
       "<Figure size 640x480 with 1 Axes>"
      ]
     },
     "metadata": {},
     "output_type": "display_data"
    }
   ],
   "source": [
    "df.causal.do(x={treatment: 1}, \n",
    "              variable_types={treatment:'b', outcome: 'c', common_cause: 'c'}, \n",
    "              outcome=outcome,\n",
    "              method='weighting', \n",
    "              common_causes=[common_cause],\n",
    "              proceed_when_unidentifiable=True).groupby(treatment).mean().plot(y=outcome, kind='bar')"
   ]
  },
  {
   "cell_type": "code",
   "execution_count": 5,
   "metadata": {
    "execution": {
     "iopub.execute_input": "2022-10-17T14:13:36.754981Z",
     "iopub.status.busy": "2022-10-17T14:13:36.754679Z",
     "iopub.status.idle": "2022-10-17T14:13:36.801074Z",
     "shell.execute_reply": "2022-10-17T14:13:36.799569Z"
    }
   },
   "outputs": [],
   "source": [
    "cdf_1 = df.causal.do(x={treatment: 1}, \n",
    "              variable_types={treatment: 'b', outcome: 'c', common_cause: 'c'}, \n",
    "              outcome=outcome, \n",
    "              dot_graph=data['dot_graph'],\n",
    "              proceed_when_unidentifiable=True)\n",
    "\n",
    "cdf_0 = df.causal.do(x={treatment: 0}, \n",
    "              variable_types={treatment: 'b', outcome: 'c', common_cause: 'c'}, \n",
    "              outcome=outcome, \n",
    "              dot_graph=data['dot_graph'],\n",
    "              proceed_when_unidentifiable=True)\n"
   ]
  },
  {
   "cell_type": "code",
   "execution_count": 6,
   "metadata": {
    "execution": {
     "iopub.execute_input": "2022-10-17T14:13:36.808594Z",
     "iopub.status.busy": "2022-10-17T14:13:36.808294Z",
     "iopub.status.idle": "2022-10-17T14:13:36.825180Z",
     "shell.execute_reply": "2022-10-17T14:13:36.824274Z"
    },
    "scrolled": true
   },
   "outputs": [
    {
     "data": {
      "text/html": [
       "<div>\n",
       "<style scoped>\n",
       "    .dataframe tbody tr th:only-of-type {\n",
       "        vertical-align: middle;\n",
       "    }\n",
       "\n",
       "    .dataframe tbody tr th {\n",
       "        vertical-align: top;\n",
       "    }\n",
       "\n",
       "    .dataframe thead th {\n",
       "        text-align: right;\n",
       "    }\n",
       "</style>\n",
       "<table border=\"1\" class=\"dataframe\">\n",
       "  <thead>\n",
       "    <tr style=\"text-align: right;\">\n",
       "      <th></th>\n",
       "      <th>W0</th>\n",
       "      <th>v0</th>\n",
       "      <th>y</th>\n",
       "      <th>propensity_score</th>\n",
       "      <th>weight</th>\n",
       "    </tr>\n",
       "  </thead>\n",
       "  <tbody>\n",
       "    <tr>\n",
       "      <th>0</th>\n",
       "      <td>0.961316</td>\n",
       "      <td>False</td>\n",
       "      <td>2.283123</td>\n",
       "      <td>0.155246</td>\n",
       "      <td>6.441372</td>\n",
       "    </tr>\n",
       "    <tr>\n",
       "      <th>1</th>\n",
       "      <td>2.358405</td>\n",
       "      <td>False</td>\n",
       "      <td>0.979806</td>\n",
       "      <td>0.014005</td>\n",
       "      <td>71.401378</td>\n",
       "    </tr>\n",
       "    <tr>\n",
       "      <th>2</th>\n",
       "      <td>-0.546683</td>\n",
       "      <td>False</td>\n",
       "      <td>0.666149</td>\n",
       "      <td>0.744482</td>\n",
       "      <td>1.343217</td>\n",
       "    </tr>\n",
       "    <tr>\n",
       "      <th>3</th>\n",
       "      <td>0.621487</td>\n",
       "      <td>False</td>\n",
       "      <td>2.136768</td>\n",
       "      <td>0.255158</td>\n",
       "      <td>3.919144</td>\n",
       "    </tr>\n",
       "    <tr>\n",
       "      <th>4</th>\n",
       "      <td>-0.934239</td>\n",
       "      <td>False</td>\n",
       "      <td>0.247119</td>\n",
       "      <td>0.855647</td>\n",
       "      <td>1.168707</td>\n",
       "    </tr>\n",
       "    <tr>\n",
       "      <th>...</th>\n",
       "      <td>...</td>\n",
       "      <td>...</td>\n",
       "      <td>...</td>\n",
       "      <td>...</td>\n",
       "      <td>...</td>\n",
       "    </tr>\n",
       "    <tr>\n",
       "      <th>995</th>\n",
       "      <td>-0.035449</td>\n",
       "      <td>False</td>\n",
       "      <td>0.415312</td>\n",
       "      <td>0.533089</td>\n",
       "      <td>1.875858</td>\n",
       "    </tr>\n",
       "    <tr>\n",
       "      <th>996</th>\n",
       "      <td>0.745569</td>\n",
       "      <td>False</td>\n",
       "      <td>-0.335327</td>\n",
       "      <td>0.214389</td>\n",
       "      <td>4.664428</td>\n",
       "    </tr>\n",
       "    <tr>\n",
       "      <th>997</th>\n",
       "      <td>0.897021</td>\n",
       "      <td>False</td>\n",
       "      <td>0.721672</td>\n",
       "      <td>0.171333</td>\n",
       "      <td>5.836590</td>\n",
       "    </tr>\n",
       "    <tr>\n",
       "      <th>998</th>\n",
       "      <td>0.635104</td>\n",
       "      <td>False</td>\n",
       "      <td>-0.346212</td>\n",
       "      <td>0.250444</td>\n",
       "      <td>3.992906</td>\n",
       "    </tr>\n",
       "    <tr>\n",
       "      <th>999</th>\n",
       "      <td>0.818168</td>\n",
       "      <td>False</td>\n",
       "      <td>0.385476</td>\n",
       "      <td>0.192832</td>\n",
       "      <td>5.185855</td>\n",
       "    </tr>\n",
       "  </tbody>\n",
       "</table>\n",
       "<p>1000 rows × 5 columns</p>\n",
       "</div>"
      ],
      "text/plain": [
       "           W0     v0         y  propensity_score     weight\n",
       "0    0.961316  False  2.283123          0.155246   6.441372\n",
       "1    2.358405  False  0.979806          0.014005  71.401378\n",
       "2   -0.546683  False  0.666149          0.744482   1.343217\n",
       "3    0.621487  False  2.136768          0.255158   3.919144\n",
       "4   -0.934239  False  0.247119          0.855647   1.168707\n",
       "..        ...    ...       ...               ...        ...\n",
       "995 -0.035449  False  0.415312          0.533089   1.875858\n",
       "996  0.745569  False -0.335327          0.214389   4.664428\n",
       "997  0.897021  False  0.721672          0.171333   5.836590\n",
       "998  0.635104  False -0.346212          0.250444   3.992906\n",
       "999  0.818168  False  0.385476          0.192832   5.185855\n",
       "\n",
       "[1000 rows x 5 columns]"
      ]
     },
     "execution_count": 6,
     "metadata": {},
     "output_type": "execute_result"
    }
   ],
   "source": [
    "cdf_0"
   ]
  },
  {
   "cell_type": "code",
   "execution_count": 7,
   "metadata": {
    "execution": {
     "iopub.execute_input": "2022-10-17T14:13:36.829341Z",
     "iopub.status.busy": "2022-10-17T14:13:36.828562Z",
     "iopub.status.idle": "2022-10-17T14:13:36.845034Z",
     "shell.execute_reply": "2022-10-17T14:13:36.844191Z"
    }
   },
   "outputs": [
    {
     "data": {
      "text/html": [
       "<div>\n",
       "<style scoped>\n",
       "    .dataframe tbody tr th:only-of-type {\n",
       "        vertical-align: middle;\n",
       "    }\n",
       "\n",
       "    .dataframe tbody tr th {\n",
       "        vertical-align: top;\n",
       "    }\n",
       "\n",
       "    .dataframe thead th {\n",
       "        text-align: right;\n",
       "    }\n",
       "</style>\n",
       "<table border=\"1\" class=\"dataframe\">\n",
       "  <thead>\n",
       "    <tr style=\"text-align: right;\">\n",
       "      <th></th>\n",
       "      <th>W0</th>\n",
       "      <th>v0</th>\n",
       "      <th>y</th>\n",
       "      <th>propensity_score</th>\n",
       "      <th>weight</th>\n",
       "    </tr>\n",
       "  </thead>\n",
       "  <tbody>\n",
       "    <tr>\n",
       "      <th>0</th>\n",
       "      <td>1.050595</td>\n",
       "      <td>True</td>\n",
       "      <td>4.690912</td>\n",
       "      <td>0.865021</td>\n",
       "      <td>1.156041</td>\n",
       "    </tr>\n",
       "    <tr>\n",
       "      <th>1</th>\n",
       "      <td>0.811144</td>\n",
       "      <td>True</td>\n",
       "      <td>4.217163</td>\n",
       "      <td>0.805156</td>\n",
       "      <td>1.241995</td>\n",
       "    </tr>\n",
       "    <tr>\n",
       "      <th>2</th>\n",
       "      <td>0.227378</td>\n",
       "      <td>True</td>\n",
       "      <td>3.985521</td>\n",
       "      <td>0.586395</td>\n",
       "      <td>1.705335</td>\n",
       "    </tr>\n",
       "    <tr>\n",
       "      <th>3</th>\n",
       "      <td>1.889638</td>\n",
       "      <td>True</td>\n",
       "      <td>5.455703</td>\n",
       "      <td>0.967554</td>\n",
       "      <td>1.033534</td>\n",
       "    </tr>\n",
       "    <tr>\n",
       "      <th>4</th>\n",
       "      <td>0.227427</td>\n",
       "      <td>True</td>\n",
       "      <td>4.787850</td>\n",
       "      <td>0.586417</td>\n",
       "      <td>1.705273</td>\n",
       "    </tr>\n",
       "    <tr>\n",
       "      <th>...</th>\n",
       "      <td>...</td>\n",
       "      <td>...</td>\n",
       "      <td>...</td>\n",
       "      <td>...</td>\n",
       "      <td>...</td>\n",
       "    </tr>\n",
       "    <tr>\n",
       "      <th>995</th>\n",
       "      <td>1.250640</td>\n",
       "      <td>True</td>\n",
       "      <td>6.709029</td>\n",
       "      <td>0.902404</td>\n",
       "      <td>1.108152</td>\n",
       "    </tr>\n",
       "    <tr>\n",
       "      <th>996</th>\n",
       "      <td>1.628029</td>\n",
       "      <td>True</td>\n",
       "      <td>5.740778</td>\n",
       "      <td>0.948622</td>\n",
       "      <td>1.054161</td>\n",
       "    </tr>\n",
       "    <tr>\n",
       "      <th>997</th>\n",
       "      <td>2.551384</td>\n",
       "      <td>True</td>\n",
       "      <td>4.509149</td>\n",
       "      <td>0.990125</td>\n",
       "      <td>1.009973</td>\n",
       "    </tr>\n",
       "    <tr>\n",
       "      <th>998</th>\n",
       "      <td>1.160265</td>\n",
       "      <td>True</td>\n",
       "      <td>5.243985</td>\n",
       "      <td>0.886815</td>\n",
       "      <td>1.127631</td>\n",
       "    </tr>\n",
       "    <tr>\n",
       "      <th>999</th>\n",
       "      <td>1.617147</td>\n",
       "      <td>True</td>\n",
       "      <td>4.062640</td>\n",
       "      <td>0.947641</td>\n",
       "      <td>1.055252</td>\n",
       "    </tr>\n",
       "  </tbody>\n",
       "</table>\n",
       "<p>1000 rows × 5 columns</p>\n",
       "</div>"
      ],
      "text/plain": [
       "           W0    v0         y  propensity_score    weight\n",
       "0    1.050595  True  4.690912          0.865021  1.156041\n",
       "1    0.811144  True  4.217163          0.805156  1.241995\n",
       "2    0.227378  True  3.985521          0.586395  1.705335\n",
       "3    1.889638  True  5.455703          0.967554  1.033534\n",
       "4    0.227427  True  4.787850          0.586417  1.705273\n",
       "..        ...   ...       ...               ...       ...\n",
       "995  1.250640  True  6.709029          0.902404  1.108152\n",
       "996  1.628029  True  5.740778          0.948622  1.054161\n",
       "997  2.551384  True  4.509149          0.990125  1.009973\n",
       "998  1.160265  True  5.243985          0.886815  1.127631\n",
       "999  1.617147  True  4.062640          0.947641  1.055252\n",
       "\n",
       "[1000 rows x 5 columns]"
      ]
     },
     "execution_count": 7,
     "metadata": {},
     "output_type": "execute_result"
    }
   ],
   "source": [
    "cdf_1"
   ]
  },
  {
   "cell_type": "markdown",
   "metadata": {},
   "source": [
    "## Comparing the estimate to Linear Regression\n",
    "First, estimating the effect using the causal data frame, and the 95% confidence interval."
   ]
  },
  {
   "cell_type": "code",
   "execution_count": 8,
   "metadata": {
    "execution": {
     "iopub.execute_input": "2022-10-17T14:13:36.849522Z",
     "iopub.status.busy": "2022-10-17T14:13:36.849083Z",
     "iopub.status.idle": "2022-10-17T14:13:36.925590Z",
     "shell.execute_reply": "2022-10-17T14:13:36.924621Z"
    }
   },
   "outputs": [
    {
     "data": {
      "image/png": "[encoded data removed]",
      "text/latex": [
       "$\\displaystyle 5.24826588830779$"
      ],
      "text/plain": [
       "5.248265888307787"
      ]
     },
     "execution_count": 8,
     "metadata": {},
     "output_type": "execute_result"
    }
   ],
   "source": [
    "(cdf_1['y'] - cdf_0['y']).mean()"
   ]
  },
  {
   "cell_type": "code",
   "execution_count": 9,
   "metadata": {
    "execution": {
     "iopub.execute_input": "2022-10-17T14:13:36.929419Z",
     "iopub.status.busy": "2022-10-17T14:13:36.929134Z",
     "iopub.status.idle": "2022-10-17T14:13:36.956086Z",
     "shell.execute_reply": "2022-10-17T14:13:36.955220Z"
    }
   },
   "outputs": [
    {
     "data": {
      "image/png": "[encoded data removed]",
      "text/latex": [
       "$\\displaystyle 0.084929333222551$"
      ],
      "text/plain": [
       "0.08492933322255096"
      ]
     },
     "execution_count": 9,
     "metadata": {},
     "output_type": "execute_result"
    }
   ],
   "source": [
    "1.96*(cdf_1['y'] - cdf_0['y']).std() / np.sqrt(len(df))"
   ]
  },
  {
   "cell_type": "markdown",
   "metadata": {},
   "source": [
    "Comparing to the estimate from OLS."
   ]
  },
  {
   "cell_type": "code",
   "execution_count": 10,
   "metadata": {
    "execution": {
     "iopub.execute_input": "2022-10-17T14:13:36.960860Z",
     "iopub.status.busy": "2022-10-17T14:13:36.960433Z",
     "iopub.status.idle": "2022-10-17T14:13:36.982964Z",
     "shell.execute_reply": "2022-10-17T14:13:36.982022Z"
    }
   },
   "outputs": [
    {
     "data": {
      "text/html": [
       "<table class=\"simpletable\">\n",
       "<caption>OLS Regression Results</caption>\n",
       "<tr>\n",
       "  <th>Dep. Variable:</th>            <td>y</td>        <th>  R-squared (uncentered):</th>      <td>   0.955</td> \n",
       "</tr>\n",
       "<tr>\n",
       "  <th>Model:</th>                   <td>OLS</td>       <th>  Adj. R-squared (uncentered):</th> <td>   0.955</td> \n",
       "</tr>\n",
       "<tr>\n",
       "  <th>Method:</th>             <td>Least Squares</td>  <th>  F-statistic:       </th>          <td>1.063e+04</td>\n",
       "</tr>\n",
       "<tr>\n",
       "  <th>Date:</th>             <td>Mon, 17 Oct 2022</td> <th>  Prob (F-statistic):</th>           <td>  0.00</td>  \n",
       "</tr>\n",
       "<tr>\n",
       "  <th>Time:</th>                 <td>14:13:36</td>     <th>  Log-Likelihood:    </th>          <td> -1397.9</td> \n",
       "</tr>\n",
       "<tr>\n",
       "  <th>No. Observations:</th>      <td>  1000</td>      <th>  AIC:               </th>          <td>   2800.</td> \n",
       "</tr>\n",
       "<tr>\n",
       "  <th>Df Residuals:</th>          <td>   998</td>      <th>  BIC:               </th>          <td>   2810.</td> \n",
       "</tr>\n",
       "<tr>\n",
       "  <th>Df Model:</th>              <td>     2</td>      <th>                     </th>              <td> </td>    \n",
       "</tr>\n",
       "<tr>\n",
       "  <th>Covariance Type:</th>      <td>nonrobust</td>    <th>                     </th>              <td> </td>    \n",
       "</tr>\n",
       "</table>\n",
       "<table class=\"simpletable\">\n",
       "<tr>\n",
       "   <td></td>     <th>coef</th>     <th>std err</th>      <th>t</th>      <th>P>|t|</th>  <th>[0.025</th>    <th>0.975]</th>  \n",
       "</tr>\n",
       "<tr>\n",
       "  <th>x1</th> <td>    0.2970</td> <td>    0.035</td> <td>    8.474</td> <td> 0.000</td> <td>    0.228</td> <td>    0.366</td>\n",
       "</tr>\n",
       "<tr>\n",
       "  <th>x2</th> <td>    5.0729</td> <td>    0.055</td> <td>   92.112</td> <td> 0.000</td> <td>    4.965</td> <td>    5.181</td>\n",
       "</tr>\n",
       "</table>\n",
       "<table class=\"simpletable\">\n",
       "<tr>\n",
       "  <th>Omnibus:</th>       <td> 4.484</td> <th>  Durbin-Watson:     </th> <td>   2.008</td>\n",
       "</tr>\n",
       "<tr>\n",
       "  <th>Prob(Omnibus):</th> <td> 0.106</td> <th>  Jarque-Bera (JB):  </th> <td>   4.466</td>\n",
       "</tr>\n",
       "<tr>\n",
       "  <th>Skew:</th>          <td> 0.140</td> <th>  Prob(JB):          </th> <td>   0.107</td>\n",
       "</tr>\n",
       "<tr>\n",
       "  <th>Kurtosis:</th>      <td> 2.829</td> <th>  Cond. No.          </th> <td>    2.93</td>\n",
       "</tr>\n",
       "</table><br/><br/>Notes:<br/>[1] R² is computed without centering (uncentered) since the model does not contain a constant.<br/>[2] Standard Errors assume that the covariance matrix of the errors is correctly specified."
      ],
      "text/plain": [
       "<class 'statsmodels.iolib.summary.Summary'>\n",
       "\"\"\"\n",
       "                                 OLS Regression Results                                \n",
       "=======================================================================================\n",
       "Dep. Variable:                      y   R-squared (uncentered):                   0.955\n",
       "Model:                            OLS   Adj. R-squared (uncentered):              0.955\n",
       "Method:                 Least Squares   F-statistic:                          1.063e+04\n",
       "Date:                Mon, 17 Oct 2022   Prob (F-statistic):                        0.00\n",
       "Time:                        14:13:36   Log-Likelihood:                         -1397.9\n",
       "No. Observations:                1000   AIC:                                      2800.\n",
       "Df Residuals:                     998   BIC:                                      2810.\n",
       "Df Model:                           2                                                  \n",
       "Covariance Type:            nonrobust                                                  \n",
       "==============================================================================\n",
       "                 coef    std err          t      P>|t|      [0.025      0.975]\n",
       "------------------------------------------------------------------------------\n",
       "x1             0.2970      0.035      8.474      0.000       0.228       0.366\n",
       "x2             5.0729      0.055     92.112      0.000       4.965       5.181\n",
       "==============================================================================\n",
       "Omnibus:                        4.484   Durbin-Watson:                   2.008\n",
       "Prob(Omnibus):                  0.106   Jarque-Bera (JB):                4.466\n",
       "Skew:                           0.140   Prob(JB):                        0.107\n",
       "Kurtosis:                       2.829   Cond. No.                         2.93\n",
       "==============================================================================\n",
       "\n",
       "Notes:\n",
       "[1] R² is computed without centering (uncentered) since the model does not contain a constant.\n",
       "[2] Standard Errors assume that the covariance matrix of the errors is correctly specified.\n",
       "\"\"\""
      ]
     },
     "execution_count": 10,
     "metadata": {},
     "output_type": "execute_result"
    }
   ],
   "source": [
    "model = OLS(np.asarray(df[outcome]), np.asarray(df[[common_cause, treatment]], dtype=np.float64))\n",
    "result = model.fit()\n",
    "result.summary()"
   ]
  }
 ],
 "metadata": {
  "kernelspec": {
   "display_name": "Python 3",
   "language": "python",
   "name": "python3"
  },
  "language_info": {
   "codemirror_mode": {
    "name": "ipython",
    "version": 3
   },
   "file_extension": ".py",
   "mimetype": "text/x-python",
   "name": "python",
   "nbconvert_exporter": "python",
   "pygments_lexer": "ipython3",
   "version": "3.8.10"
  },
  "toc": {
   "base_numbering": 1,
   "nav_menu": {},
   "number_sections": false,
   "sideBar": true,
   "skip_h1_title": true,
   "title_cell": "Table of Contents",
   "title_sidebar": "Contents",
   "toc_cell": false,
   "toc_position": {},
   "toc_section_display": true,
   "toc_window_display": false
  }
 },
 "nbformat": 4,
 "nbformat_minor": 4
}
