{
 "cells": [
  {
   "cell_type": "markdown",
   "metadata": {},
   "source": [
    "# Demo for the DoWhy causal API\n",
    "We show a simple example of adding a causal extension to any dataframe. "
   ]
  },
  {
   "cell_type": "code",
   "execution_count": 1,
   "metadata": {
    "execution": {
     "iopub.execute_input": "2022-07-28T09:31:16.749100Z",
     "iopub.status.busy": "2022-07-28T09:31:16.748339Z",
     "iopub.status.idle": "2022-07-28T09:31:18.237299Z",
     "shell.execute_reply": "2022-07-28T09:31:18.236198Z"
    }
   },
   "outputs": [
    {
     "name": "stdout",
     "output_type": "stream",
     "text": [
      "keywords are unexpanded, not using\n"
     ]
    }
   ],
   "source": [
    "import dowhy.datasets\n",
    "import dowhy.api\n",
    "\n",
    "import numpy as np\n",
    "import pandas as pd\n",
    "\n",
    "from statsmodels.api import OLS"
   ]
  },
  {
   "cell_type": "code",
   "execution_count": 2,
   "metadata": {
    "execution": {
     "iopub.execute_input": "2022-07-28T09:31:18.242261Z",
     "iopub.status.busy": "2022-07-28T09:31:18.241392Z",
     "iopub.status.idle": "2022-07-28T09:31:18.301146Z",
     "shell.execute_reply": "2022-07-28T09:31:18.300149Z"
    }
   },
   "outputs": [
    {
     "data": {
      "text/html": [
       "<div>\n",
       "<style scoped>\n",
       "    .dataframe tbody tr th:only-of-type {\n",
       "        vertical-align: middle;\n",
       "    }\n",
       "\n",
       "    .dataframe tbody tr th {\n",
       "        vertical-align: top;\n",
       "    }\n",
       "\n",
       "    .dataframe thead th {\n",
       "        text-align: right;\n",
       "    }\n",
       "</style>\n",
       "<table border=\"1\" class=\"dataframe\">\n",
       "  <thead>\n",
       "    <tr style=\"text-align: right;\">\n",
       "      <th></th>\n",
       "      <th>W0</th>\n",
       "      <th>v0</th>\n",
       "      <th>y</th>\n",
       "    </tr>\n",
       "  </thead>\n",
       "  <tbody>\n",
       "    <tr>\n",
       "      <th>0</th>\n",
       "      <td>-1.118741</td>\n",
       "      <td>False</td>\n",
       "      <td>-1.404588</td>\n",
       "    </tr>\n",
       "    <tr>\n",
       "      <th>1</th>\n",
       "      <td>0.223132</td>\n",
       "      <td>True</td>\n",
       "      <td>4.252431</td>\n",
       "    </tr>\n",
       "    <tr>\n",
       "      <th>2</th>\n",
       "      <td>0.845327</td>\n",
       "      <td>True</td>\n",
       "      <td>5.940847</td>\n",
       "    </tr>\n",
       "    <tr>\n",
       "      <th>3</th>\n",
       "      <td>-0.231145</td>\n",
       "      <td>False</td>\n",
       "      <td>-1.118763</td>\n",
       "    </tr>\n",
       "    <tr>\n",
       "      <th>4</th>\n",
       "      <td>-2.783672</td>\n",
       "      <td>False</td>\n",
       "      <td>-5.481188</td>\n",
       "    </tr>\n",
       "    <tr>\n",
       "      <th>...</th>\n",
       "      <td>...</td>\n",
       "      <td>...</td>\n",
       "      <td>...</td>\n",
       "    </tr>\n",
       "    <tr>\n",
       "      <th>995</th>\n",
       "      <td>-0.851276</td>\n",
       "      <td>False</td>\n",
       "      <td>-1.489282</td>\n",
       "    </tr>\n",
       "    <tr>\n",
       "      <th>996</th>\n",
       "      <td>-0.300277</td>\n",
       "      <td>True</td>\n",
       "      <td>4.404065</td>\n",
       "    </tr>\n",
       "    <tr>\n",
       "      <th>997</th>\n",
       "      <td>-1.688793</td>\n",
       "      <td>False</td>\n",
       "      <td>-2.602843</td>\n",
       "    </tr>\n",
       "    <tr>\n",
       "      <th>998</th>\n",
       "      <td>-0.016134</td>\n",
       "      <td>True</td>\n",
       "      <td>4.600415</td>\n",
       "    </tr>\n",
       "    <tr>\n",
       "      <th>999</th>\n",
       "      <td>1.278408</td>\n",
       "      <td>True</td>\n",
       "      <td>5.980350</td>\n",
       "    </tr>\n",
       "  </tbody>\n",
       "</table>\n",
       "<p>1000 rows × 3 columns</p>\n",
       "</div>"
      ],
      "text/plain": [
       "           W0     v0         y\n",
       "0   -1.118741  False -1.404588\n",
       "1    0.223132   True  4.252431\n",
       "2    0.845327   True  5.940847\n",
       "3   -0.231145  False -1.118763\n",
       "4   -2.783672  False -5.481188\n",
       "..        ...    ...       ...\n",
       "995 -0.851276  False -1.489282\n",
       "996 -0.300277   True  4.404065\n",
       "997 -1.688793  False -2.602843\n",
       "998 -0.016134   True  4.600415\n",
       "999  1.278408   True  5.980350\n",
       "\n",
       "[1000 rows x 3 columns]"
      ]
     },
     "execution_count": 2,
     "metadata": {},
     "output_type": "execute_result"
    }
   ],
   "source": [
    "data = dowhy.datasets.linear_dataset(beta=5,\n",
    "        num_common_causes=1,\n",
    "        num_instruments = 0,\n",
    "        num_samples=1000,\n",
    "        treatment_is_binary=True)\n",
    "df = data['df']\n",
    "df['y'] = df['y'] + np.random.normal(size=len(df)) # Adding noise to data. Without noise, the variance in Y|X, Z is zero, and mcmc fails.\n",
    "#data['dot_graph'] = 'digraph { v ->y;X0-> v;X0-> y;}'\n",
    "\n",
    "treatment= data[\"treatment_name\"][0]\n",
    "outcome = data[\"outcome_name\"][0]\n",
    "common_cause = data[\"common_causes_names\"][0]\n",
    "df"
   ]
  },
  {
   "cell_type": "code",
   "execution_count": 3,
   "metadata": {
    "execution": {
     "iopub.execute_input": "2022-07-28T09:31:18.305727Z",
     "iopub.status.busy": "2022-07-28T09:31:18.304929Z",
     "iopub.status.idle": "2022-07-28T09:31:19.255846Z",
     "shell.execute_reply": "2022-07-28T09:31:19.255163Z"
    }
   },
   "outputs": [
    {
     "data": {
      "text/plain": [
       "<AxesSubplot:xlabel='v0'>"
      ]
     },
     "execution_count": 3,
     "metadata": {},
     "output_type": "execute_result"
    },
    {
     "data": {
      "image/png": "[encoded data removed]",
      "text/plain": [
       "<Figure size 432x288 with 1 Axes>"
      ]
     },
     "metadata": {
      "needs_background": "light"
     },
     "output_type": "display_data"
    }
   ],
   "source": [
    "# data['df'] is just a regular pandas.DataFrame\n",
    "df.causal.do(x=treatment,\n",
    "                     variable_types={treatment: 'b', outcome: 'c', common_cause: 'c'},\n",
    "                     outcome=outcome,\n",
    "                     common_causes=[common_cause],\n",
    "                     proceed_when_unidentifiable=True).groupby(treatment).mean().plot(y=outcome, kind='bar')"
   ]
  },
  {
   "cell_type": "code",
   "execution_count": 4,
   "metadata": {
    "execution": {
     "iopub.execute_input": "2022-07-28T09:31:19.261355Z",
     "iopub.status.busy": "2022-07-28T09:31:19.259867Z",
     "iopub.status.idle": "2022-07-28T09:31:19.372304Z",
     "shell.execute_reply": "2022-07-28T09:31:19.371631Z"
    }
   },
   "outputs": [
    {
     "data": {
      "text/plain": [
       "<AxesSubplot:xlabel='v0'>"
      ]
     },
     "execution_count": 4,
     "metadata": {},
     "output_type": "execute_result"
    },
    {
     "data": {
      "image/png": "[encoded data removed]",
      "text/plain": [
       "<Figure size 432x288 with 1 Axes>"
      ]
     },
     "metadata": {
      "needs_background": "light"
     },
     "output_type": "display_data"
    }
   ],
   "source": [
    "df.causal.do(x={treatment: 1}, \n",
    "              variable_types={treatment:'b', outcome: 'c', common_cause: 'c'}, \n",
    "              outcome=outcome,\n",
    "              method='weighting', \n",
    "              common_causes=[common_cause],\n",
    "              proceed_when_unidentifiable=True).groupby(treatment).mean().plot(y=outcome, kind='bar')"
   ]
  },
  {
   "cell_type": "code",
   "execution_count": 5,
   "metadata": {
    "execution": {
     "iopub.execute_input": "2022-07-28T09:31:19.378069Z",
     "iopub.status.busy": "2022-07-28T09:31:19.376719Z",
     "iopub.status.idle": "2022-07-28T09:31:19.419741Z",
     "shell.execute_reply": "2022-07-28T09:31:19.418984Z"
    }
   },
   "outputs": [],
   "source": [
    "cdf_1 = df.causal.do(x={treatment: 1}, \n",
    "              variable_types={treatment: 'b', outcome: 'c', common_cause: 'c'}, \n",
    "              outcome=outcome, \n",
    "              dot_graph=data['dot_graph'],\n",
    "              proceed_when_unidentifiable=True)\n",
    "\n",
    "cdf_0 = df.causal.do(x={treatment: 0}, \n",
    "              variable_types={treatment: 'b', outcome: 'c', common_cause: 'c'}, \n",
    "              outcome=outcome, \n",
    "              dot_graph=data['dot_graph'],\n",
    "              proceed_when_unidentifiable=True)\n"
   ]
  },
  {
   "cell_type": "code",
   "execution_count": 6,
   "metadata": {
    "execution": {
     "iopub.execute_input": "2022-07-28T09:31:19.425452Z",
     "iopub.status.busy": "2022-07-28T09:31:19.424103Z",
     "iopub.status.idle": "2022-07-28T09:31:19.439821Z",
     "shell.execute_reply": "2022-07-28T09:31:19.439111Z"
    },
    "scrolled": true
   },
   "outputs": [
    {
     "data": {
      "text/html": [
       "<div>\n",
       "<style scoped>\n",
       "    .dataframe tbody tr th:only-of-type {\n",
       "        vertical-align: middle;\n",
       "    }\n",
       "\n",
       "    .dataframe tbody tr th {\n",
       "        vertical-align: top;\n",
       "    }\n",
       "\n",
       "    .dataframe thead th {\n",
       "        text-align: right;\n",
       "    }\n",
       "</style>\n",
       "<table border=\"1\" class=\"dataframe\">\n",
       "  <thead>\n",
       "    <tr style=\"text-align: right;\">\n",
       "      <th></th>\n",
       "      <th>W0</th>\n",
       "      <th>v0</th>\n",
       "      <th>y</th>\n",
       "      <th>propensity_score</th>\n",
       "      <th>weight</th>\n",
       "    </tr>\n",
       "  </thead>\n",
       "  <tbody>\n",
       "    <tr>\n",
       "      <th>0</th>\n",
       "      <td>0.891559</td>\n",
       "      <td>False</td>\n",
       "      <td>0.719602</td>\n",
       "      <td>0.133566</td>\n",
       "      <td>7.486921</td>\n",
       "    </tr>\n",
       "    <tr>\n",
       "      <th>1</th>\n",
       "      <td>0.075070</td>\n",
       "      <td>False</td>\n",
       "      <td>1.248278</td>\n",
       "      <td>0.428585</td>\n",
       "      <td>2.333259</td>\n",
       "    </tr>\n",
       "    <tr>\n",
       "      <th>2</th>\n",
       "      <td>-1.110745</td>\n",
       "      <td>False</td>\n",
       "      <td>-2.643611</td>\n",
       "      <td>0.881864</td>\n",
       "      <td>1.133962</td>\n",
       "    </tr>\n",
       "    <tr>\n",
       "      <th>3</th>\n",
       "      <td>-0.155644</td>\n",
       "      <td>False</td>\n",
       "      <td>0.488681</td>\n",
       "      <td>0.539776</td>\n",
       "      <td>1.852620</td>\n",
       "    </tr>\n",
       "    <tr>\n",
       "      <th>4</th>\n",
       "      <td>0.580990</td>\n",
       "      <td>False</td>\n",
       "      <td>-0.066972</td>\n",
       "      <td>0.219603</td>\n",
       "      <td>4.553668</td>\n",
       "    </tr>\n",
       "    <tr>\n",
       "      <th>...</th>\n",
       "      <td>...</td>\n",
       "      <td>...</td>\n",
       "      <td>...</td>\n",
       "      <td>...</td>\n",
       "      <td>...</td>\n",
       "    </tr>\n",
       "    <tr>\n",
       "      <th>995</th>\n",
       "      <td>-0.475290</td>\n",
       "      <td>False</td>\n",
       "      <td>-1.218367</td>\n",
       "      <td>0.685430</td>\n",
       "      <td>1.458938</td>\n",
       "    </tr>\n",
       "    <tr>\n",
       "      <th>996</th>\n",
       "      <td>-0.787630</td>\n",
       "      <td>False</td>\n",
       "      <td>-2.064819</td>\n",
       "      <td>0.799645</td>\n",
       "      <td>1.250554</td>\n",
       "    </tr>\n",
       "    <tr>\n",
       "      <th>997</th>\n",
       "      <td>1.194658</td>\n",
       "      <td>False</td>\n",
       "      <td>2.973561</td>\n",
       "      <td>0.078919</td>\n",
       "      <td>12.671154</td>\n",
       "    </tr>\n",
       "    <tr>\n",
       "      <th>998</th>\n",
       "      <td>0.371789</td>\n",
       "      <td>False</td>\n",
       "      <td>-0.181822</td>\n",
       "      <td>0.296797</td>\n",
       "      <td>3.369309</td>\n",
       "    </tr>\n",
       "    <tr>\n",
       "      <th>999</th>\n",
       "      <td>-0.705680</td>\n",
       "      <td>False</td>\n",
       "      <td>-0.756842</td>\n",
       "      <td>0.772991</td>\n",
       "      <td>1.293676</td>\n",
       "    </tr>\n",
       "  </tbody>\n",
       "</table>\n",
       "<p>1000 rows × 5 columns</p>\n",
       "</div>"
      ],
      "text/plain": [
       "           W0     v0         y  propensity_score     weight\n",
       "0    0.891559  False  0.719602          0.133566   7.486921\n",
       "1    0.075070  False  1.248278          0.428585   2.333259\n",
       "2   -1.110745  False -2.643611          0.881864   1.133962\n",
       "3   -0.155644  False  0.488681          0.539776   1.852620\n",
       "4    0.580990  False -0.066972          0.219603   4.553668\n",
       "..        ...    ...       ...               ...        ...\n",
       "995 -0.475290  False -1.218367          0.685430   1.458938\n",
       "996 -0.787630  False -2.064819          0.799645   1.250554\n",
       "997  1.194658  False  2.973561          0.078919  12.671154\n",
       "998  0.371789  False -0.181822          0.296797   3.369309\n",
       "999 -0.705680  False -0.756842          0.772991   1.293676\n",
       "\n",
       "[1000 rows x 5 columns]"
      ]
     },
     "execution_count": 6,
     "metadata": {},
     "output_type": "execute_result"
    }
   ],
   "source": [
    "cdf_0"
   ]
  },
  {
   "cell_type": "code",
   "execution_count": 7,
   "metadata": {
    "execution": {
     "iopub.execute_input": "2022-07-28T09:31:19.443649Z",
     "iopub.status.busy": "2022-07-28T09:31:19.442896Z",
     "iopub.status.idle": "2022-07-28T09:31:19.457347Z",
     "shell.execute_reply": "2022-07-28T09:31:19.456640Z"
    }
   },
   "outputs": [
    {
     "data": {
      "text/html": [
       "<div>\n",
       "<style scoped>\n",
       "    .dataframe tbody tr th:only-of-type {\n",
       "        vertical-align: middle;\n",
       "    }\n",
       "\n",
       "    .dataframe tbody tr th {\n",
       "        vertical-align: top;\n",
       "    }\n",
       "\n",
       "    .dataframe thead th {\n",
       "        text-align: right;\n",
       "    }\n",
       "</style>\n",
       "<table border=\"1\" class=\"dataframe\">\n",
       "  <thead>\n",
       "    <tr style=\"text-align: right;\">\n",
       "      <th></th>\n",
       "      <th>W0</th>\n",
       "      <th>v0</th>\n",
       "      <th>y</th>\n",
       "      <th>propensity_score</th>\n",
       "      <th>weight</th>\n",
       "    </tr>\n",
       "  </thead>\n",
       "  <tbody>\n",
       "    <tr>\n",
       "      <th>0</th>\n",
       "      <td>0.756626</td>\n",
       "      <td>True</td>\n",
       "      <td>6.690550</td>\n",
       "      <td>0.833178</td>\n",
       "      <td>1.200224</td>\n",
       "    </tr>\n",
       "    <tr>\n",
       "      <th>1</th>\n",
       "      <td>0.031791</td>\n",
       "      <td>True</td>\n",
       "      <td>5.650007</td>\n",
       "      <td>0.550765</td>\n",
       "      <td>1.815655</td>\n",
       "    </tr>\n",
       "    <tr>\n",
       "      <th>2</th>\n",
       "      <td>-1.497212</td>\n",
       "      <td>True</td>\n",
       "      <td>4.022112</td>\n",
       "      <td>0.059576</td>\n",
       "      <td>16.785302</td>\n",
       "    </tr>\n",
       "    <tr>\n",
       "      <th>3</th>\n",
       "      <td>0.246304</td>\n",
       "      <td>True</td>\n",
       "      <td>4.873341</td>\n",
       "      <td>0.650091</td>\n",
       "      <td>1.538247</td>\n",
       "    </tr>\n",
       "    <tr>\n",
       "      <th>4</th>\n",
       "      <td>0.588816</td>\n",
       "      <td>True</td>\n",
       "      <td>3.726814</td>\n",
       "      <td>0.782985</td>\n",
       "      <td>1.277164</td>\n",
       "    </tr>\n",
       "    <tr>\n",
       "      <th>...</th>\n",
       "      <td>...</td>\n",
       "      <td>...</td>\n",
       "      <td>...</td>\n",
       "      <td>...</td>\n",
       "      <td>...</td>\n",
       "    </tr>\n",
       "    <tr>\n",
       "      <th>995</th>\n",
       "      <td>1.893244</td>\n",
       "      <td>True</td>\n",
       "      <td>7.259326</td>\n",
       "      <td>0.978349</td>\n",
       "      <td>1.022130</td>\n",
       "    </tr>\n",
       "    <tr>\n",
       "      <th>996</th>\n",
       "      <td>-0.203405</td>\n",
       "      <td>True</td>\n",
       "      <td>3.547857</td>\n",
       "      <td>0.437333</td>\n",
       "      <td>2.286585</td>\n",
       "    </tr>\n",
       "    <tr>\n",
       "      <th>997</th>\n",
       "      <td>-1.384912</td>\n",
       "      <td>True</td>\n",
       "      <td>3.165262</td>\n",
       "      <td>0.073002</td>\n",
       "      <td>13.698291</td>\n",
       "    </tr>\n",
       "    <tr>\n",
       "      <th>998</th>\n",
       "      <td>-0.246509</td>\n",
       "      <td>True</td>\n",
       "      <td>2.577683</td>\n",
       "      <td>0.416899</td>\n",
       "      <td>2.398663</td>\n",
       "    </tr>\n",
       "    <tr>\n",
       "      <th>999</th>\n",
       "      <td>-0.582733</td>\n",
       "      <td>True</td>\n",
       "      <td>5.036290</td>\n",
       "      <td>0.271498</td>\n",
       "      <td>3.683271</td>\n",
       "    </tr>\n",
       "  </tbody>\n",
       "</table>\n",
       "<p>1000 rows × 5 columns</p>\n",
       "</div>"
      ],
      "text/plain": [
       "           W0    v0         y  propensity_score     weight\n",
       "0    0.756626  True  6.690550          0.833178   1.200224\n",
       "1    0.031791  True  5.650007          0.550765   1.815655\n",
       "2   -1.497212  True  4.022112          0.059576  16.785302\n",
       "3    0.246304  True  4.873341          0.650091   1.538247\n",
       "4    0.588816  True  3.726814          0.782985   1.277164\n",
       "..        ...   ...       ...               ...        ...\n",
       "995  1.893244  True  7.259326          0.978349   1.022130\n",
       "996 -0.203405  True  3.547857          0.437333   2.286585\n",
       "997 -1.384912  True  3.165262          0.073002  13.698291\n",
       "998 -0.246509  True  2.577683          0.416899   2.398663\n",
       "999 -0.582733  True  5.036290          0.271498   3.683271\n",
       "\n",
       "[1000 rows x 5 columns]"
      ]
     },
     "execution_count": 7,
     "metadata": {},
     "output_type": "execute_result"
    }
   ],
   "source": [
    "cdf_1"
   ]
  },
  {
   "cell_type": "markdown",
   "metadata": {},
   "source": [
    "## Comparing the estimate to Linear Regression\n",
    "First, estimating the effect using the causal data frame, and the 95% confidence interval."
   ]
  },
  {
   "cell_type": "code",
   "execution_count": 8,
   "metadata": {
    "execution": {
     "iopub.execute_input": "2022-07-28T09:31:19.461731Z",
     "iopub.status.busy": "2022-07-28T09:31:19.460956Z",
     "iopub.status.idle": "2022-07-28T09:31:19.586819Z",
     "shell.execute_reply": "2022-07-28T09:31:19.585851Z"
    }
   },
   "outputs": [
    {
     "data": {
      "image/png": "[encoded data removed]",
      "text/latex": [
       "$\\displaystyle 5.29974522562992$"
      ],
      "text/plain": [
       "5.299745225629918"
      ]
     },
     "execution_count": 8,
     "metadata": {},
     "output_type": "execute_result"
    }
   ],
   "source": [
    "(cdf_1['y'] - cdf_0['y']).mean()"
   ]
  },
  {
   "cell_type": "code",
   "execution_count": 9,
   "metadata": {
    "execution": {
     "iopub.execute_input": "2022-07-28T09:31:19.590990Z",
     "iopub.status.busy": "2022-07-28T09:31:19.590262Z",
     "iopub.status.idle": "2022-07-28T09:31:19.623098Z",
     "shell.execute_reply": "2022-07-28T09:31:19.622179Z"
    }
   },
   "outputs": [
    {
     "data": {
      "image/png": "[encoded data removed]",
      "text/latex": [
       "$\\displaystyle 0.146226333785573$"
      ],
      "text/plain": [
       "0.14622633378557295"
      ]
     },
     "execution_count": 9,
     "metadata": {},
     "output_type": "execute_result"
    }
   ],
   "source": [
    "1.96*(cdf_1['y'] - cdf_0['y']).std() / np.sqrt(len(df))"
   ]
  },
  {
   "cell_type": "markdown",
   "metadata": {},
   "source": [
    "Comparing to the estimate from OLS."
   ]
  },
  {
   "cell_type": "code",
   "execution_count": 10,
   "metadata": {
    "execution": {
     "iopub.execute_input": "2022-07-28T09:31:19.627275Z",
     "iopub.status.busy": "2022-07-28T09:31:19.626732Z",
     "iopub.status.idle": "2022-07-28T09:31:19.648019Z",
     "shell.execute_reply": "2022-07-28T09:31:19.647277Z"
    }
   },
   "outputs": [
    {
     "data": {
      "text/html": [
       "<table class=\"simpletable\">\n",
       "<caption>OLS Regression Results</caption>\n",
       "<tr>\n",
       "  <th>Dep. Variable:</th>            <td>y</td>        <th>  R-squared (uncentered):</th>      <td>   0.942</td>\n",
       "</tr>\n",
       "<tr>\n",
       "  <th>Model:</th>                   <td>OLS</td>       <th>  Adj. R-squared (uncentered):</th> <td>   0.942</td>\n",
       "</tr>\n",
       "<tr>\n",
       "  <th>Method:</th>             <td>Least Squares</td>  <th>  F-statistic:       </th>          <td>   8085.</td>\n",
       "</tr>\n",
       "<tr>\n",
       "  <th>Date:</th>             <td>Thu, 28 Jul 2022</td> <th>  Prob (F-statistic):</th>           <td>  0.00</td> \n",
       "</tr>\n",
       "<tr>\n",
       "  <th>Time:</th>                 <td>09:31:19</td>     <th>  Log-Likelihood:    </th>          <td> -1363.5</td>\n",
       "</tr>\n",
       "<tr>\n",
       "  <th>No. Observations:</th>      <td>  1000</td>      <th>  AIC:               </th>          <td>   2731.</td>\n",
       "</tr>\n",
       "<tr>\n",
       "  <th>Df Residuals:</th>          <td>   998</td>      <th>  BIC:               </th>          <td>   2741.</td>\n",
       "</tr>\n",
       "<tr>\n",
       "  <th>Df Model:</th>              <td>     2</td>      <th>                     </th>              <td> </td>   \n",
       "</tr>\n",
       "<tr>\n",
       "  <th>Covariance Type:</th>      <td>nonrobust</td>    <th>                     </th>              <td> </td>   \n",
       "</tr>\n",
       "</table>\n",
       "<table class=\"simpletable\">\n",
       "<tr>\n",
       "   <td></td>     <th>coef</th>     <th>std err</th>      <th>t</th>      <th>P>|t|</th>  <th>[0.025</th>    <th>0.975]</th>  \n",
       "</tr>\n",
       "<tr>\n",
       "  <th>x1</th> <td>    1.4007</td> <td>    0.028</td> <td>   50.186</td> <td> 0.000</td> <td>    1.346</td> <td>    1.455</td>\n",
       "</tr>\n",
       "<tr>\n",
       "  <th>x2</th> <td>    4.9801</td> <td>    0.048</td> <td>  103.561</td> <td> 0.000</td> <td>    4.886</td> <td>    5.074</td>\n",
       "</tr>\n",
       "</table>\n",
       "<table class=\"simpletable\">\n",
       "<tr>\n",
       "  <th>Omnibus:</th>       <td> 7.553</td> <th>  Durbin-Watson:     </th> <td>   2.017</td>\n",
       "</tr>\n",
       "<tr>\n",
       "  <th>Prob(Omnibus):</th> <td> 0.023</td> <th>  Jarque-Bera (JB):  </th> <td>   7.667</td>\n",
       "</tr>\n",
       "<tr>\n",
       "  <th>Skew:</th>          <td>-0.176</td> <th>  Prob(JB):          </th> <td>  0.0216</td>\n",
       "</tr>\n",
       "<tr>\n",
       "  <th>Kurtosis:</th>      <td> 3.244</td> <th>  Cond. No.          </th> <td>    1.80</td>\n",
       "</tr>\n",
       "</table><br/><br/>Notes:<br/>[1] R² is computed without centering (uncentered) since the model does not contain a constant.<br/>[2] Standard Errors assume that the covariance matrix of the errors is correctly specified."
      ],
      "text/plain": [
       "<class 'statsmodels.iolib.summary.Summary'>\n",
       "\"\"\"\n",
       "                                 OLS Regression Results                                \n",
       "=======================================================================================\n",
       "Dep. Variable:                      y   R-squared (uncentered):                   0.942\n",
       "Model:                            OLS   Adj. R-squared (uncentered):              0.942\n",
       "Method:                 Least Squares   F-statistic:                              8085.\n",
       "Date:                Thu, 28 Jul 2022   Prob (F-statistic):                        0.00\n",
       "Time:                        09:31:19   Log-Likelihood:                         -1363.5\n",
       "No. Observations:                1000   AIC:                                      2731.\n",
       "Df Residuals:                     998   BIC:                                      2741.\n",
       "Df Model:                           2                                                  \n",
       "Covariance Type:            nonrobust                                                  \n",
       "==============================================================================\n",
       "                 coef    std err          t      P>|t|      [0.025      0.975]\n",
       "------------------------------------------------------------------------------\n",
       "x1             1.4007      0.028     50.186      0.000       1.346       1.455\n",
       "x2             4.9801      0.048    103.561      0.000       4.886       5.074\n",
       "==============================================================================\n",
       "Omnibus:                        7.553   Durbin-Watson:                   2.017\n",
       "Prob(Omnibus):                  0.023   Jarque-Bera (JB):                7.667\n",
       "Skew:                          -0.176   Prob(JB):                       0.0216\n",
       "Kurtosis:                       3.244   Cond. No.                         1.80\n",
       "==============================================================================\n",
       "\n",
       "Notes:\n",
       "[1] R² is computed without centering (uncentered) since the model does not contain a constant.\n",
       "[2] Standard Errors assume that the covariance matrix of the errors is correctly specified.\n",
       "\"\"\""
      ]
     },
     "execution_count": 10,
     "metadata": {},
     "output_type": "execute_result"
    }
   ],
   "source": [
    "model = OLS(np.asarray(df[outcome]), np.asarray(df[[common_cause, treatment]], dtype=np.float64))\n",
    "result = model.fit()\n",
    "result.summary()"
   ]
  }
 ],
 "metadata": {
  "kernelspec": {
   "display_name": "Python 3",
   "language": "python",
   "name": "python3"
  },
  "language_info": {
   "codemirror_mode": {
    "name": "ipython",
    "version": 3
   },
   "file_extension": ".py",
   "mimetype": "text/x-python",
   "name": "python",
   "nbconvert_exporter": "python",
   "pygments_lexer": "ipython3",
   "version": "3.8.10"
  },
  "toc": {
   "base_numbering": 1,
   "nav_menu": {},
   "number_sections": false,
   "sideBar": true,
   "skip_h1_title": true,
   "title_cell": "Table of Contents",
   "title_sidebar": "Contents",
   "toc_cell": false,
   "toc_position": {},
   "toc_section_display": true,
   "toc_window_display": false
  }
 },
 "nbformat": 4,
 "nbformat_minor": 4
}
