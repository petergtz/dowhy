{
 "cells": [
  {
   "cell_type": "markdown",
   "metadata": {},
   "source": [
    "# Demo for the DoWhy causal API\n",
    "We show a simple example of adding a causal extension to any dataframe. "
   ]
  },
  {
   "cell_type": "code",
   "execution_count": 1,
   "metadata": {
    "execution": {
     "iopub.execute_input": "2022-08-02T07:51:12.203075Z",
     "iopub.status.busy": "2022-08-02T07:51:12.202578Z",
     "iopub.status.idle": "2022-08-02T07:51:13.411322Z",
     "shell.execute_reply": "2022-08-02T07:51:13.410531Z"
    }
   },
   "outputs": [
    {
     "name": "stdout",
     "output_type": "stream",
     "text": [
      "keywords are unexpanded, not using\n"
     ]
    }
   ],
   "source": [
    "import dowhy.datasets\n",
    "import dowhy.api\n",
    "\n",
    "import numpy as np\n",
    "import pandas as pd\n",
    "\n",
    "from statsmodels.api import OLS"
   ]
  },
  {
   "cell_type": "code",
   "execution_count": 2,
   "metadata": {
    "execution": {
     "iopub.execute_input": "2022-08-02T07:51:13.415493Z",
     "iopub.status.busy": "2022-08-02T07:51:13.414807Z",
     "iopub.status.idle": "2022-08-02T07:51:13.464175Z",
     "shell.execute_reply": "2022-08-02T07:51:13.463399Z"
    }
   },
   "outputs": [
    {
     "data": {
      "text/html": [
       "<div>\n",
       "<style scoped>\n",
       "    .dataframe tbody tr th:only-of-type {\n",
       "        vertical-align: middle;\n",
       "    }\n",
       "\n",
       "    .dataframe tbody tr th {\n",
       "        vertical-align: top;\n",
       "    }\n",
       "\n",
       "    .dataframe thead th {\n",
       "        text-align: right;\n",
       "    }\n",
       "</style>\n",
       "<table border=\"1\" class=\"dataframe\">\n",
       "  <thead>\n",
       "    <tr style=\"text-align: right;\">\n",
       "      <th></th>\n",
       "      <th>W0</th>\n",
       "      <th>v0</th>\n",
       "      <th>y</th>\n",
       "    </tr>\n",
       "  </thead>\n",
       "  <tbody>\n",
       "    <tr>\n",
       "      <th>0</th>\n",
       "      <td>0.962720</td>\n",
       "      <td>True</td>\n",
       "      <td>7.407084</td>\n",
       "    </tr>\n",
       "    <tr>\n",
       "      <th>1</th>\n",
       "      <td>0.249559</td>\n",
       "      <td>True</td>\n",
       "      <td>5.491634</td>\n",
       "    </tr>\n",
       "    <tr>\n",
       "      <th>2</th>\n",
       "      <td>-0.659273</td>\n",
       "      <td>False</td>\n",
       "      <td>-1.193523</td>\n",
       "    </tr>\n",
       "    <tr>\n",
       "      <th>3</th>\n",
       "      <td>1.772145</td>\n",
       "      <td>True</td>\n",
       "      <td>8.664534</td>\n",
       "    </tr>\n",
       "    <tr>\n",
       "      <th>4</th>\n",
       "      <td>-0.092658</td>\n",
       "      <td>False</td>\n",
       "      <td>-0.467651</td>\n",
       "    </tr>\n",
       "    <tr>\n",
       "      <th>...</th>\n",
       "      <td>...</td>\n",
       "      <td>...</td>\n",
       "      <td>...</td>\n",
       "    </tr>\n",
       "    <tr>\n",
       "      <th>995</th>\n",
       "      <td>-0.425301</td>\n",
       "      <td>False</td>\n",
       "      <td>0.387535</td>\n",
       "    </tr>\n",
       "    <tr>\n",
       "      <th>996</th>\n",
       "      <td>-0.891500</td>\n",
       "      <td>True</td>\n",
       "      <td>3.750981</td>\n",
       "    </tr>\n",
       "    <tr>\n",
       "      <th>997</th>\n",
       "      <td>-1.384918</td>\n",
       "      <td>False</td>\n",
       "      <td>-3.066749</td>\n",
       "    </tr>\n",
       "    <tr>\n",
       "      <th>998</th>\n",
       "      <td>-0.261407</td>\n",
       "      <td>True</td>\n",
       "      <td>3.826111</td>\n",
       "    </tr>\n",
       "    <tr>\n",
       "      <th>999</th>\n",
       "      <td>1.867711</td>\n",
       "      <td>False</td>\n",
       "      <td>3.079725</td>\n",
       "    </tr>\n",
       "  </tbody>\n",
       "</table>\n",
       "<p>1000 rows × 3 columns</p>\n",
       "</div>"
      ],
      "text/plain": [
       "           W0     v0         y\n",
       "0    0.962720   True  7.407084\n",
       "1    0.249559   True  5.491634\n",
       "2   -0.659273  False -1.193523\n",
       "3    1.772145   True  8.664534\n",
       "4   -0.092658  False -0.467651\n",
       "..        ...    ...       ...\n",
       "995 -0.425301  False  0.387535\n",
       "996 -0.891500   True  3.750981\n",
       "997 -1.384918  False -3.066749\n",
       "998 -0.261407   True  3.826111\n",
       "999  1.867711  False  3.079725\n",
       "\n",
       "[1000 rows x 3 columns]"
      ]
     },
     "execution_count": 2,
     "metadata": {},
     "output_type": "execute_result"
    }
   ],
   "source": [
    "data = dowhy.datasets.linear_dataset(beta=5,\n",
    "        num_common_causes=1,\n",
    "        num_instruments = 0,\n",
    "        num_samples=1000,\n",
    "        treatment_is_binary=True)\n",
    "df = data['df']\n",
    "df['y'] = df['y'] + np.random.normal(size=len(df)) # Adding noise to data. Without noise, the variance in Y|X, Z is zero, and mcmc fails.\n",
    "#data['dot_graph'] = 'digraph { v ->y;X0-> v;X0-> y;}'\n",
    "\n",
    "treatment= data[\"treatment_name\"][0]\n",
    "outcome = data[\"outcome_name\"][0]\n",
    "common_cause = data[\"common_causes_names\"][0]\n",
    "df"
   ]
  },
  {
   "cell_type": "code",
   "execution_count": 3,
   "metadata": {
    "execution": {
     "iopub.execute_input": "2022-08-02T07:51:13.467795Z",
     "iopub.status.busy": "2022-08-02T07:51:13.467344Z",
     "iopub.status.idle": "2022-08-02T07:51:14.256534Z",
     "shell.execute_reply": "2022-08-02T07:51:14.255934Z"
    }
   },
   "outputs": [
    {
     "data": {
      "text/plain": [
       "<AxesSubplot:xlabel='v0'>"
      ]
     },
     "execution_count": 3,
     "metadata": {},
     "output_type": "execute_result"
    },
    {
     "data": {
      "image/png": "[encoded data removed]",
      "text/plain": [
       "<Figure size 432x288 with 1 Axes>"
      ]
     },
     "metadata": {
      "needs_background": "light"
     },
     "output_type": "display_data"
    }
   ],
   "source": [
    "# data['df'] is just a regular pandas.DataFrame\n",
    "df.causal.do(x=treatment,\n",
    "                     variable_types={treatment: 'b', outcome: 'c', common_cause: 'c'},\n",
    "                     outcome=outcome,\n",
    "                     common_causes=[common_cause],\n",
    "                     proceed_when_unidentifiable=True).groupby(treatment).mean().plot(y=outcome, kind='bar')"
   ]
  },
  {
   "cell_type": "code",
   "execution_count": 4,
   "metadata": {
    "execution": {
     "iopub.execute_input": "2022-08-02T07:51:14.261017Z",
     "iopub.status.busy": "2022-08-02T07:51:14.259773Z",
     "iopub.status.idle": "2022-08-02T07:51:14.355672Z",
     "shell.execute_reply": "2022-08-02T07:51:14.355077Z"
    }
   },
   "outputs": [
    {
     "data": {
      "text/plain": [
       "<AxesSubplot:xlabel='v0'>"
      ]
     },
     "execution_count": 4,
     "metadata": {},
     "output_type": "execute_result"
    },
    {
     "data": {
      "image/png": "[encoded data removed]",
      "text/plain": [
       "<Figure size 432x288 with 1 Axes>"
      ]
     },
     "metadata": {
      "needs_background": "light"
     },
     "output_type": "display_data"
    }
   ],
   "source": [
    "df.causal.do(x={treatment: 1}, \n",
    "              variable_types={treatment:'b', outcome: 'c', common_cause: 'c'}, \n",
    "              outcome=outcome,\n",
    "              method='weighting', \n",
    "              common_causes=[common_cause],\n",
    "              proceed_when_unidentifiable=True).groupby(treatment).mean().plot(y=outcome, kind='bar')"
   ]
  },
  {
   "cell_type": "code",
   "execution_count": 5,
   "metadata": {
    "execution": {
     "iopub.execute_input": "2022-08-02T07:51:14.360173Z",
     "iopub.status.busy": "2022-08-02T07:51:14.359125Z",
     "iopub.status.idle": "2022-08-02T07:51:14.392118Z",
     "shell.execute_reply": "2022-08-02T07:51:14.391493Z"
    }
   },
   "outputs": [],
   "source": [
    "cdf_1 = df.causal.do(x={treatment: 1}, \n",
    "              variable_types={treatment: 'b', outcome: 'c', common_cause: 'c'}, \n",
    "              outcome=outcome, \n",
    "              dot_graph=data['dot_graph'],\n",
    "              proceed_when_unidentifiable=True)\n",
    "\n",
    "cdf_0 = df.causal.do(x={treatment: 0}, \n",
    "              variable_types={treatment: 'b', outcome: 'c', common_cause: 'c'}, \n",
    "              outcome=outcome, \n",
    "              dot_graph=data['dot_graph'],\n",
    "              proceed_when_unidentifiable=True)\n"
   ]
  },
  {
   "cell_type": "code",
   "execution_count": 6,
   "metadata": {
    "execution": {
     "iopub.execute_input": "2022-08-02T07:51:14.396023Z",
     "iopub.status.busy": "2022-08-02T07:51:14.395585Z",
     "iopub.status.idle": "2022-08-02T07:51:14.409472Z",
     "shell.execute_reply": "2022-08-02T07:51:14.408830Z"
    },
    "scrolled": true
   },
   "outputs": [
    {
     "data": {
      "text/html": [
       "<div>\n",
       "<style scoped>\n",
       "    .dataframe tbody tr th:only-of-type {\n",
       "        vertical-align: middle;\n",
       "    }\n",
       "\n",
       "    .dataframe tbody tr th {\n",
       "        vertical-align: top;\n",
       "    }\n",
       "\n",
       "    .dataframe thead th {\n",
       "        text-align: right;\n",
       "    }\n",
       "</style>\n",
       "<table border=\"1\" class=\"dataframe\">\n",
       "  <thead>\n",
       "    <tr style=\"text-align: right;\">\n",
       "      <th></th>\n",
       "      <th>W0</th>\n",
       "      <th>v0</th>\n",
       "      <th>y</th>\n",
       "      <th>propensity_score</th>\n",
       "      <th>weight</th>\n",
       "    </tr>\n",
       "  </thead>\n",
       "  <tbody>\n",
       "    <tr>\n",
       "      <th>0</th>\n",
       "      <td>-1.243913</td>\n",
       "      <td>False</td>\n",
       "      <td>-2.536105</td>\n",
       "      <td>0.800898</td>\n",
       "      <td>1.248598</td>\n",
       "    </tr>\n",
       "    <tr>\n",
       "      <th>1</th>\n",
       "      <td>0.972700</td>\n",
       "      <td>False</td>\n",
       "      <td>1.131601</td>\n",
       "      <td>0.283591</td>\n",
       "      <td>3.526203</td>\n",
       "    </tr>\n",
       "    <tr>\n",
       "      <th>2</th>\n",
       "      <td>-0.025845</td>\n",
       "      <td>False</td>\n",
       "      <td>0.785652</td>\n",
       "      <td>0.529413</td>\n",
       "      <td>1.888886</td>\n",
       "    </tr>\n",
       "    <tr>\n",
       "      <th>3</th>\n",
       "      <td>1.532202</td>\n",
       "      <td>False</td>\n",
       "      <td>3.324288</td>\n",
       "      <td>0.180647</td>\n",
       "      <td>5.535661</td>\n",
       "    </tr>\n",
       "    <tr>\n",
       "      <th>4</th>\n",
       "      <td>-0.095901</td>\n",
       "      <td>False</td>\n",
       "      <td>0.475500</td>\n",
       "      <td>0.547622</td>\n",
       "      <td>1.826077</td>\n",
       "    </tr>\n",
       "    <tr>\n",
       "      <th>...</th>\n",
       "      <td>...</td>\n",
       "      <td>...</td>\n",
       "      <td>...</td>\n",
       "      <td>...</td>\n",
       "      <td>...</td>\n",
       "    </tr>\n",
       "    <tr>\n",
       "      <th>995</th>\n",
       "      <td>0.493804</td>\n",
       "      <td>False</td>\n",
       "      <td>1.441334</td>\n",
       "      <td>0.395135</td>\n",
       "      <td>2.530783</td>\n",
       "    </tr>\n",
       "    <tr>\n",
       "      <th>996</th>\n",
       "      <td>0.344784</td>\n",
       "      <td>False</td>\n",
       "      <td>1.007399</td>\n",
       "      <td>0.432931</td>\n",
       "      <td>2.309835</td>\n",
       "    </tr>\n",
       "    <tr>\n",
       "      <th>997</th>\n",
       "      <td>-0.861849</td>\n",
       "      <td>False</td>\n",
       "      <td>-3.199634</td>\n",
       "      <td>0.729536</td>\n",
       "      <td>1.370735</td>\n",
       "    </tr>\n",
       "    <tr>\n",
       "      <th>998</th>\n",
       "      <td>0.926856</td>\n",
       "      <td>False</td>\n",
       "      <td>3.266609</td>\n",
       "      <td>0.293434</td>\n",
       "      <td>3.407920</td>\n",
       "    </tr>\n",
       "    <tr>\n",
       "      <th>999</th>\n",
       "      <td>1.715587</td>\n",
       "      <td>False</td>\n",
       "      <td>3.718468</td>\n",
       "      <td>0.153970</td>\n",
       "      <td>6.494764</td>\n",
       "    </tr>\n",
       "  </tbody>\n",
       "</table>\n",
       "<p>1000 rows × 5 columns</p>\n",
       "</div>"
      ],
      "text/plain": [
       "           W0     v0         y  propensity_score    weight\n",
       "0   -1.243913  False -2.536105          0.800898  1.248598\n",
       "1    0.972700  False  1.131601          0.283591  3.526203\n",
       "2   -0.025845  False  0.785652          0.529413  1.888886\n",
       "3    1.532202  False  3.324288          0.180647  5.535661\n",
       "4   -0.095901  False  0.475500          0.547622  1.826077\n",
       "..        ...    ...       ...               ...       ...\n",
       "995  0.493804  False  1.441334          0.395135  2.530783\n",
       "996  0.344784  False  1.007399          0.432931  2.309835\n",
       "997 -0.861849  False -3.199634          0.729536  1.370735\n",
       "998  0.926856  False  3.266609          0.293434  3.407920\n",
       "999  1.715587  False  3.718468          0.153970  6.494764\n",
       "\n",
       "[1000 rows x 5 columns]"
      ]
     },
     "execution_count": 6,
     "metadata": {},
     "output_type": "execute_result"
    }
   ],
   "source": [
    "cdf_0"
   ]
  },
  {
   "cell_type": "code",
   "execution_count": 7,
   "metadata": {
    "execution": {
     "iopub.execute_input": "2022-08-02T07:51:14.412771Z",
     "iopub.status.busy": "2022-08-02T07:51:14.412259Z",
     "iopub.status.idle": "2022-08-02T07:51:14.424045Z",
     "shell.execute_reply": "2022-08-02T07:51:14.423361Z"
    }
   },
   "outputs": [
    {
     "data": {
      "text/html": [
       "<div>\n",
       "<style scoped>\n",
       "    .dataframe tbody tr th:only-of-type {\n",
       "        vertical-align: middle;\n",
       "    }\n",
       "\n",
       "    .dataframe tbody tr th {\n",
       "        vertical-align: top;\n",
       "    }\n",
       "\n",
       "    .dataframe thead th {\n",
       "        text-align: right;\n",
       "    }\n",
       "</style>\n",
       "<table border=\"1\" class=\"dataframe\">\n",
       "  <thead>\n",
       "    <tr style=\"text-align: right;\">\n",
       "      <th></th>\n",
       "      <th>W0</th>\n",
       "      <th>v0</th>\n",
       "      <th>y</th>\n",
       "      <th>propensity_score</th>\n",
       "      <th>weight</th>\n",
       "    </tr>\n",
       "  </thead>\n",
       "  <tbody>\n",
       "    <tr>\n",
       "      <th>0</th>\n",
       "      <td>-0.677622</td>\n",
       "      <td>True</td>\n",
       "      <td>3.282862</td>\n",
       "      <td>0.310119</td>\n",
       "      <td>3.224566</td>\n",
       "    </tr>\n",
       "    <tr>\n",
       "      <th>1</th>\n",
       "      <td>1.421611</td>\n",
       "      <td>True</td>\n",
       "      <td>9.508700</td>\n",
       "      <td>0.801594</td>\n",
       "      <td>1.247514</td>\n",
       "    </tr>\n",
       "    <tr>\n",
       "      <th>2</th>\n",
       "      <td>0.886737</td>\n",
       "      <td>True</td>\n",
       "      <td>7.012762</td>\n",
       "      <td>0.697790</td>\n",
       "      <td>1.433095</td>\n",
       "    </tr>\n",
       "    <tr>\n",
       "      <th>3</th>\n",
       "      <td>-0.158396</td>\n",
       "      <td>True</td>\n",
       "      <td>6.764459</td>\n",
       "      <td>0.436239</td>\n",
       "      <td>2.292320</td>\n",
       "    </tr>\n",
       "    <tr>\n",
       "      <th>4</th>\n",
       "      <td>1.378892</td>\n",
       "      <td>True</td>\n",
       "      <td>9.509055</td>\n",
       "      <td>0.794392</td>\n",
       "      <td>1.258825</td>\n",
       "    </tr>\n",
       "    <tr>\n",
       "      <th>...</th>\n",
       "      <td>...</td>\n",
       "      <td>...</td>\n",
       "      <td>...</td>\n",
       "      <td>...</td>\n",
       "      <td>...</td>\n",
       "    </tr>\n",
       "    <tr>\n",
       "      <th>995</th>\n",
       "      <td>0.221864</td>\n",
       "      <td>True</td>\n",
       "      <td>5.617360</td>\n",
       "      <td>0.535272</td>\n",
       "      <td>1.868209</td>\n",
       "    </tr>\n",
       "    <tr>\n",
       "      <th>996</th>\n",
       "      <td>0.219137</td>\n",
       "      <td>True</td>\n",
       "      <td>6.838306</td>\n",
       "      <td>0.534562</td>\n",
       "      <td>1.870689</td>\n",
       "    </tr>\n",
       "    <tr>\n",
       "      <th>997</th>\n",
       "      <td>0.911654</td>\n",
       "      <td>True</td>\n",
       "      <td>8.169008</td>\n",
       "      <td>0.703258</td>\n",
       "      <td>1.421953</td>\n",
       "    </tr>\n",
       "    <tr>\n",
       "      <th>998</th>\n",
       "      <td>-0.834733</td>\n",
       "      <td>True</td>\n",
       "      <td>5.204245</td>\n",
       "      <td>0.276097</td>\n",
       "      <td>3.621914</td>\n",
       "    </tr>\n",
       "    <tr>\n",
       "      <th>999</th>\n",
       "      <td>-1.198608</td>\n",
       "      <td>True</td>\n",
       "      <td>2.192733</td>\n",
       "      <td>0.206767</td>\n",
       "      <td>4.836373</td>\n",
       "    </tr>\n",
       "  </tbody>\n",
       "</table>\n",
       "<p>1000 rows × 5 columns</p>\n",
       "</div>"
      ],
      "text/plain": [
       "           W0    v0         y  propensity_score    weight\n",
       "0   -0.677622  True  3.282862          0.310119  3.224566\n",
       "1    1.421611  True  9.508700          0.801594  1.247514\n",
       "2    0.886737  True  7.012762          0.697790  1.433095\n",
       "3   -0.158396  True  6.764459          0.436239  2.292320\n",
       "4    1.378892  True  9.509055          0.794392  1.258825\n",
       "..        ...   ...       ...               ...       ...\n",
       "995  0.221864  True  5.617360          0.535272  1.868209\n",
       "996  0.219137  True  6.838306          0.534562  1.870689\n",
       "997  0.911654  True  8.169008          0.703258  1.421953\n",
       "998 -0.834733  True  5.204245          0.276097  3.621914\n",
       "999 -1.198608  True  2.192733          0.206767  4.836373\n",
       "\n",
       "[1000 rows x 5 columns]"
      ]
     },
     "execution_count": 7,
     "metadata": {},
     "output_type": "execute_result"
    }
   ],
   "source": [
    "cdf_1"
   ]
  },
  {
   "cell_type": "markdown",
   "metadata": {},
   "source": [
    "## Comparing the estimate to Linear Regression\n",
    "First, estimating the effect using the causal data frame, and the 95% confidence interval."
   ]
  },
  {
   "cell_type": "code",
   "execution_count": 8,
   "metadata": {
    "execution": {
     "iopub.execute_input": "2022-08-02T07:51:14.427384Z",
     "iopub.status.busy": "2022-08-02T07:51:14.426831Z",
     "iopub.status.idle": "2022-08-02T07:51:14.528316Z",
     "shell.execute_reply": "2022-08-02T07:51:14.527538Z"
    }
   },
   "outputs": [
    {
     "data": {
      "image/png": "[encoded data removed]",
      "text/latex": [
       "$\\displaystyle 5.25914831585529$"
      ],
      "text/plain": [
       "5.259148315855291"
      ]
     },
     "execution_count": 8,
     "metadata": {},
     "output_type": "execute_result"
    }
   ],
   "source": [
    "(cdf_1['y'] - cdf_0['y']).mean()"
   ]
  },
  {
   "cell_type": "code",
   "execution_count": 9,
   "metadata": {
    "execution": {
     "iopub.execute_input": "2022-08-02T07:51:14.531891Z",
     "iopub.status.busy": "2022-08-02T07:51:14.531415Z",
     "iopub.status.idle": "2022-08-02T07:51:14.556976Z",
     "shell.execute_reply": "2022-08-02T07:51:14.556211Z"
    }
   },
   "outputs": [
    {
     "data": {
      "image/png": "[encoded data removed]",
      "text/latex": [
       "$\\displaystyle 0.238019770692976$"
      ],
      "text/plain": [
       "0.23801977069297603"
      ]
     },
     "execution_count": 9,
     "metadata": {},
     "output_type": "execute_result"
    }
   ],
   "source": [
    "1.96*(cdf_1['y'] - cdf_0['y']).std() / np.sqrt(len(df))"
   ]
  },
  {
   "cell_type": "markdown",
   "metadata": {},
   "source": [
    "Comparing to the estimate from OLS."
   ]
  },
  {
   "cell_type": "code",
   "execution_count": 10,
   "metadata": {
    "execution": {
     "iopub.execute_input": "2022-08-02T07:51:14.560645Z",
     "iopub.status.busy": "2022-08-02T07:51:14.560295Z",
     "iopub.status.idle": "2022-08-02T07:51:14.576567Z",
     "shell.execute_reply": "2022-08-02T07:51:14.575836Z"
    }
   },
   "outputs": [
    {
     "data": {
      "text/html": [
       "<table class=\"simpletable\">\n",
       "<caption>OLS Regression Results</caption>\n",
       "<tr>\n",
       "  <th>Dep. Variable:</th>            <td>y</td>        <th>  R-squared (uncentered):</th>      <td>   0.960</td> \n",
       "</tr>\n",
       "<tr>\n",
       "  <th>Model:</th>                   <td>OLS</td>       <th>  Adj. R-squared (uncentered):</th> <td>   0.959</td> \n",
       "</tr>\n",
       "<tr>\n",
       "  <th>Method:</th>             <td>Least Squares</td>  <th>  F-statistic:       </th>          <td>1.182e+04</td>\n",
       "</tr>\n",
       "<tr>\n",
       "  <th>Date:</th>             <td>Tue, 02 Aug 2022</td> <th>  Prob (F-statistic):</th>           <td>  0.00</td>  \n",
       "</tr>\n",
       "<tr>\n",
       "  <th>Time:</th>                 <td>07:51:14</td>     <th>  Log-Likelihood:    </th>          <td> -1459.2</td> \n",
       "</tr>\n",
       "<tr>\n",
       "  <th>No. Observations:</th>      <td>  1000</td>      <th>  AIC:               </th>          <td>   2922.</td> \n",
       "</tr>\n",
       "<tr>\n",
       "  <th>Df Residuals:</th>          <td>   998</td>      <th>  BIC:               </th>          <td>   2932.</td> \n",
       "</tr>\n",
       "<tr>\n",
       "  <th>Df Model:</th>              <td>     2</td>      <th>                     </th>              <td> </td>    \n",
       "</tr>\n",
       "<tr>\n",
       "  <th>Covariance Type:</th>      <td>nonrobust</td>    <th>                     </th>              <td> </td>    \n",
       "</tr>\n",
       "</table>\n",
       "<table class=\"simpletable\">\n",
       "<tr>\n",
       "   <td></td>     <th>coef</th>     <th>std err</th>      <th>t</th>      <th>P>|t|</th>  <th>[0.025</th>    <th>0.975]</th>  \n",
       "</tr>\n",
       "<tr>\n",
       "  <th>x1</th> <td>    2.4085</td> <td>    0.035</td> <td>   69.523</td> <td> 0.000</td> <td>    2.341</td> <td>    2.476</td>\n",
       "</tr>\n",
       "<tr>\n",
       "  <th>x2</th> <td>    5.0205</td> <td>    0.050</td> <td>  100.124</td> <td> 0.000</td> <td>    4.922</td> <td>    5.119</td>\n",
       "</tr>\n",
       "</table>\n",
       "<table class=\"simpletable\">\n",
       "<tr>\n",
       "  <th>Omnibus:</th>       <td> 1.671</td> <th>  Durbin-Watson:     </th> <td>   1.984</td>\n",
       "</tr>\n",
       "<tr>\n",
       "  <th>Prob(Omnibus):</th> <td> 0.434</td> <th>  Jarque-Bera (JB):  </th> <td>   1.532</td>\n",
       "</tr>\n",
       "<tr>\n",
       "  <th>Skew:</th>          <td> 0.074</td> <th>  Prob(JB):          </th> <td>   0.465</td>\n",
       "</tr>\n",
       "<tr>\n",
       "  <th>Kurtosis:</th>      <td> 3.122</td> <th>  Cond. No.          </th> <td>    1.74</td>\n",
       "</tr>\n",
       "</table><br/><br/>Notes:<br/>[1] R² is computed without centering (uncentered) since the model does not contain a constant.<br/>[2] Standard Errors assume that the covariance matrix of the errors is correctly specified."
      ],
      "text/plain": [
       "<class 'statsmodels.iolib.summary.Summary'>\n",
       "\"\"\"\n",
       "                                 OLS Regression Results                                \n",
       "=======================================================================================\n",
       "Dep. Variable:                      y   R-squared (uncentered):                   0.960\n",
       "Model:                            OLS   Adj. R-squared (uncentered):              0.959\n",
       "Method:                 Least Squares   F-statistic:                          1.182e+04\n",
       "Date:                Tue, 02 Aug 2022   Prob (F-statistic):                        0.00\n",
       "Time:                        07:51:14   Log-Likelihood:                         -1459.2\n",
       "No. Observations:                1000   AIC:                                      2922.\n",
       "Df Residuals:                     998   BIC:                                      2932.\n",
       "Df Model:                           2                                                  \n",
       "Covariance Type:            nonrobust                                                  \n",
       "==============================================================================\n",
       "                 coef    std err          t      P>|t|      [0.025      0.975]\n",
       "------------------------------------------------------------------------------\n",
       "x1             2.4085      0.035     69.523      0.000       2.341       2.476\n",
       "x2             5.0205      0.050    100.124      0.000       4.922       5.119\n",
       "==============================================================================\n",
       "Omnibus:                        1.671   Durbin-Watson:                   1.984\n",
       "Prob(Omnibus):                  0.434   Jarque-Bera (JB):                1.532\n",
       "Skew:                           0.074   Prob(JB):                        0.465\n",
       "Kurtosis:                       3.122   Cond. No.                         1.74\n",
       "==============================================================================\n",
       "\n",
       "Notes:\n",
       "[1] R² is computed without centering (uncentered) since the model does not contain a constant.\n",
       "[2] Standard Errors assume that the covariance matrix of the errors is correctly specified.\n",
       "\"\"\""
      ]
     },
     "execution_count": 10,
     "metadata": {},
     "output_type": "execute_result"
    }
   ],
   "source": [
    "model = OLS(np.asarray(df[outcome]), np.asarray(df[[common_cause, treatment]], dtype=np.float64))\n",
    "result = model.fit()\n",
    "result.summary()"
   ]
  }
 ],
 "metadata": {
  "kernelspec": {
   "display_name": "Python 3",
   "language": "python",
   "name": "python3"
  },
  "language_info": {
   "codemirror_mode": {
    "name": "ipython",
    "version": 3
   },
   "file_extension": ".py",
   "mimetype": "text/x-python",
   "name": "python",
   "nbconvert_exporter": "python",
   "pygments_lexer": "ipython3",
   "version": "3.8.10"
  },
  "toc": {
   "base_numbering": 1,
   "nav_menu": {},
   "number_sections": false,
   "sideBar": true,
   "skip_h1_title": true,
   "title_cell": "Table of Contents",
   "title_sidebar": "Contents",
   "toc_cell": false,
   "toc_position": {},
   "toc_section_display": true,
   "toc_window_display": false
  }
 },
 "nbformat": 4,
 "nbformat_minor": 4
}
