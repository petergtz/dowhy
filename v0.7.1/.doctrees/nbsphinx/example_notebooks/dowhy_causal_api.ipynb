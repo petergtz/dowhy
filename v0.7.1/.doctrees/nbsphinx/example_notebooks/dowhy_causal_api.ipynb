{
 "cells": [
  {
   "cell_type": "markdown",
   "metadata": {},
   "source": [
    "# Demo for the DoWhy causal API\n",
    "We show a simple example of adding a causal extension to any dataframe. "
   ]
  },
  {
   "cell_type": "code",
   "execution_count": 1,
   "metadata": {
    "execution": {
     "iopub.execute_input": "2022-08-02T14:09:04.111444Z",
     "iopub.status.busy": "2022-08-02T14:09:04.111041Z",
     "iopub.status.idle": "2022-08-02T14:09:05.289767Z",
     "shell.execute_reply": "2022-08-02T14:09:05.289009Z"
    }
   },
   "outputs": [
    {
     "name": "stdout",
     "output_type": "stream",
     "text": [
      "keywords are unexpanded, not using\n"
     ]
    }
   ],
   "source": [
    "import dowhy.datasets\n",
    "import dowhy.api\n",
    "\n",
    "import numpy as np\n",
    "import pandas as pd\n",
    "\n",
    "from statsmodels.api import OLS"
   ]
  },
  {
   "cell_type": "code",
   "execution_count": 2,
   "metadata": {
    "execution": {
     "iopub.execute_input": "2022-08-02T14:09:05.294036Z",
     "iopub.status.busy": "2022-08-02T14:09:05.293431Z",
     "iopub.status.idle": "2022-08-02T14:09:05.340364Z",
     "shell.execute_reply": "2022-08-02T14:09:05.339678Z"
    }
   },
   "outputs": [
    {
     "data": {
      "text/html": [
       "<div>\n",
       "<style scoped>\n",
       "    .dataframe tbody tr th:only-of-type {\n",
       "        vertical-align: middle;\n",
       "    }\n",
       "\n",
       "    .dataframe tbody tr th {\n",
       "        vertical-align: top;\n",
       "    }\n",
       "\n",
       "    .dataframe thead th {\n",
       "        text-align: right;\n",
       "    }\n",
       "</style>\n",
       "<table border=\"1\" class=\"dataframe\">\n",
       "  <thead>\n",
       "    <tr style=\"text-align: right;\">\n",
       "      <th></th>\n",
       "      <th>W0</th>\n",
       "      <th>v0</th>\n",
       "      <th>y</th>\n",
       "    </tr>\n",
       "  </thead>\n",
       "  <tbody>\n",
       "    <tr>\n",
       "      <th>0</th>\n",
       "      <td>0.762732</td>\n",
       "      <td>True</td>\n",
       "      <td>6.332410</td>\n",
       "    </tr>\n",
       "    <tr>\n",
       "      <th>1</th>\n",
       "      <td>0.380254</td>\n",
       "      <td>True</td>\n",
       "      <td>6.319269</td>\n",
       "    </tr>\n",
       "    <tr>\n",
       "      <th>2</th>\n",
       "      <td>1.318211</td>\n",
       "      <td>True</td>\n",
       "      <td>6.973154</td>\n",
       "    </tr>\n",
       "    <tr>\n",
       "      <th>3</th>\n",
       "      <td>1.838819</td>\n",
       "      <td>True</td>\n",
       "      <td>6.618017</td>\n",
       "    </tr>\n",
       "    <tr>\n",
       "      <th>4</th>\n",
       "      <td>2.504549</td>\n",
       "      <td>True</td>\n",
       "      <td>6.087930</td>\n",
       "    </tr>\n",
       "    <tr>\n",
       "      <th>...</th>\n",
       "      <td>...</td>\n",
       "      <td>...</td>\n",
       "      <td>...</td>\n",
       "    </tr>\n",
       "    <tr>\n",
       "      <th>995</th>\n",
       "      <td>2.482514</td>\n",
       "      <td>True</td>\n",
       "      <td>9.913304</td>\n",
       "    </tr>\n",
       "    <tr>\n",
       "      <th>996</th>\n",
       "      <td>-0.462434</td>\n",
       "      <td>False</td>\n",
       "      <td>0.299569</td>\n",
       "    </tr>\n",
       "    <tr>\n",
       "      <th>997</th>\n",
       "      <td>1.352696</td>\n",
       "      <td>True</td>\n",
       "      <td>7.349307</td>\n",
       "    </tr>\n",
       "    <tr>\n",
       "      <th>998</th>\n",
       "      <td>1.378896</td>\n",
       "      <td>True</td>\n",
       "      <td>4.329894</td>\n",
       "    </tr>\n",
       "    <tr>\n",
       "      <th>999</th>\n",
       "      <td>-2.115622</td>\n",
       "      <td>False</td>\n",
       "      <td>-2.067488</td>\n",
       "    </tr>\n",
       "  </tbody>\n",
       "</table>\n",
       "<p>1000 rows × 3 columns</p>\n",
       "</div>"
      ],
      "text/plain": [
       "           W0     v0         y\n",
       "0    0.762732   True  6.332410\n",
       "1    0.380254   True  6.319269\n",
       "2    1.318211   True  6.973154\n",
       "3    1.838819   True  6.618017\n",
       "4    2.504549   True  6.087930\n",
       "..        ...    ...       ...\n",
       "995  2.482514   True  9.913304\n",
       "996 -0.462434  False  0.299569\n",
       "997  1.352696   True  7.349307\n",
       "998  1.378896   True  4.329894\n",
       "999 -2.115622  False -2.067488\n",
       "\n",
       "[1000 rows x 3 columns]"
      ]
     },
     "execution_count": 2,
     "metadata": {},
     "output_type": "execute_result"
    }
   ],
   "source": [
    "data = dowhy.datasets.linear_dataset(beta=5,\n",
    "        num_common_causes=1,\n",
    "        num_instruments = 0,\n",
    "        num_samples=1000,\n",
    "        treatment_is_binary=True)\n",
    "df = data['df']\n",
    "df['y'] = df['y'] + np.random.normal(size=len(df)) # Adding noise to data. Without noise, the variance in Y|X, Z is zero, and mcmc fails.\n",
    "#data['dot_graph'] = 'digraph { v ->y;X0-> v;X0-> y;}'\n",
    "\n",
    "treatment= data[\"treatment_name\"][0]\n",
    "outcome = data[\"outcome_name\"][0]\n",
    "common_cause = data[\"common_causes_names\"][0]\n",
    "df"
   ]
  },
  {
   "cell_type": "code",
   "execution_count": 3,
   "metadata": {
    "execution": {
     "iopub.execute_input": "2022-08-02T14:09:05.343553Z",
     "iopub.status.busy": "2022-08-02T14:09:05.343190Z",
     "iopub.status.idle": "2022-08-02T14:09:06.125957Z",
     "shell.execute_reply": "2022-08-02T14:09:06.125377Z"
    }
   },
   "outputs": [
    {
     "data": {
      "text/plain": [
       "<AxesSubplot:xlabel='v0'>"
      ]
     },
     "execution_count": 3,
     "metadata": {},
     "output_type": "execute_result"
    },
    {
     "data": {
      "image/png": "[encoded data removed]",
      "text/plain": [
       "<Figure size 432x288 with 1 Axes>"
      ]
     },
     "metadata": {
      "needs_background": "light"
     },
     "output_type": "display_data"
    }
   ],
   "source": [
    "# data['df'] is just a regular pandas.DataFrame\n",
    "df.causal.do(x=treatment,\n",
    "                     variable_types={treatment: 'b', outcome: 'c', common_cause: 'c'},\n",
    "                     outcome=outcome,\n",
    "                     common_causes=[common_cause],\n",
    "                     proceed_when_unidentifiable=True).groupby(treatment).mean().plot(y=outcome, kind='bar')"
   ]
  },
  {
   "cell_type": "code",
   "execution_count": 4,
   "metadata": {
    "execution": {
     "iopub.execute_input": "2022-08-02T14:09:06.130355Z",
     "iopub.status.busy": "2022-08-02T14:09:06.129161Z",
     "iopub.status.idle": "2022-08-02T14:09:06.222338Z",
     "shell.execute_reply": "2022-08-02T14:09:06.221775Z"
    }
   },
   "outputs": [
    {
     "data": {
      "text/plain": [
       "<AxesSubplot:xlabel='v0'>"
      ]
     },
     "execution_count": 4,
     "metadata": {},
     "output_type": "execute_result"
    },
    {
     "data": {
      "image/png": "[encoded data removed]",
      "text/plain": [
       "<Figure size 432x288 with 1 Axes>"
      ]
     },
     "metadata": {
      "needs_background": "light"
     },
     "output_type": "display_data"
    }
   ],
   "source": [
    "df.causal.do(x={treatment: 1}, \n",
    "              variable_types={treatment:'b', outcome: 'c', common_cause: 'c'}, \n",
    "              outcome=outcome,\n",
    "              method='weighting', \n",
    "              common_causes=[common_cause],\n",
    "              proceed_when_unidentifiable=True).groupby(treatment).mean().plot(y=outcome, kind='bar')"
   ]
  },
  {
   "cell_type": "code",
   "execution_count": 5,
   "metadata": {
    "execution": {
     "iopub.execute_input": "2022-08-02T14:09:06.227069Z",
     "iopub.status.busy": "2022-08-02T14:09:06.225990Z",
     "iopub.status.idle": "2022-08-02T14:09:06.259048Z",
     "shell.execute_reply": "2022-08-02T14:09:06.258504Z"
    }
   },
   "outputs": [],
   "source": [
    "cdf_1 = df.causal.do(x={treatment: 1}, \n",
    "              variable_types={treatment: 'b', outcome: 'c', common_cause: 'c'}, \n",
    "              outcome=outcome, \n",
    "              dot_graph=data['dot_graph'],\n",
    "              proceed_when_unidentifiable=True)\n",
    "\n",
    "cdf_0 = df.causal.do(x={treatment: 0}, \n",
    "              variable_types={treatment: 'b', outcome: 'c', common_cause: 'c'}, \n",
    "              outcome=outcome, \n",
    "              dot_graph=data['dot_graph'],\n",
    "              proceed_when_unidentifiable=True)\n"
   ]
  },
  {
   "cell_type": "code",
   "execution_count": 6,
   "metadata": {
    "execution": {
     "iopub.execute_input": "2022-08-02T14:09:06.263359Z",
     "iopub.status.busy": "2022-08-02T14:09:06.262294Z",
     "iopub.status.idle": "2022-08-02T14:09:06.274805Z",
     "shell.execute_reply": "2022-08-02T14:09:06.274212Z"
    },
    "scrolled": true
   },
   "outputs": [
    {
     "data": {
      "text/html": [
       "<div>\n",
       "<style scoped>\n",
       "    .dataframe tbody tr th:only-of-type {\n",
       "        vertical-align: middle;\n",
       "    }\n",
       "\n",
       "    .dataframe tbody tr th {\n",
       "        vertical-align: top;\n",
       "    }\n",
       "\n",
       "    .dataframe thead th {\n",
       "        text-align: right;\n",
       "    }\n",
       "</style>\n",
       "<table border=\"1\" class=\"dataframe\">\n",
       "  <thead>\n",
       "    <tr style=\"text-align: right;\">\n",
       "      <th></th>\n",
       "      <th>W0</th>\n",
       "      <th>v0</th>\n",
       "      <th>y</th>\n",
       "      <th>propensity_score</th>\n",
       "      <th>weight</th>\n",
       "    </tr>\n",
       "  </thead>\n",
       "  <tbody>\n",
       "    <tr>\n",
       "      <th>0</th>\n",
       "      <td>0.526686</td>\n",
       "      <td>False</td>\n",
       "      <td>1.118611</td>\n",
       "      <td>0.272814</td>\n",
       "      <td>3.665494</td>\n",
       "    </tr>\n",
       "    <tr>\n",
       "      <th>1</th>\n",
       "      <td>2.227615</td>\n",
       "      <td>False</td>\n",
       "      <td>1.605954</td>\n",
       "      <td>0.013424</td>\n",
       "      <td>74.490799</td>\n",
       "    </tr>\n",
       "    <tr>\n",
       "      <th>2</th>\n",
       "      <td>0.096453</td>\n",
       "      <td>False</td>\n",
       "      <td>0.502943</td>\n",
       "      <td>0.464697</td>\n",
       "      <td>2.151939</td>\n",
       "    </tr>\n",
       "    <tr>\n",
       "      <th>3</th>\n",
       "      <td>-0.706678</td>\n",
       "      <td>False</td>\n",
       "      <td>-0.394790</td>\n",
       "      <td>0.806065</td>\n",
       "      <td>1.240595</td>\n",
       "    </tr>\n",
       "    <tr>\n",
       "      <th>4</th>\n",
       "      <td>0.910844</td>\n",
       "      <td>False</td>\n",
       "      <td>0.543750</td>\n",
       "      <td>0.150653</td>\n",
       "      <td>6.637773</td>\n",
       "    </tr>\n",
       "    <tr>\n",
       "      <th>...</th>\n",
       "      <td>...</td>\n",
       "      <td>...</td>\n",
       "      <td>...</td>\n",
       "      <td>...</td>\n",
       "      <td>...</td>\n",
       "    </tr>\n",
       "    <tr>\n",
       "      <th>995</th>\n",
       "      <td>1.865322</td>\n",
       "      <td>False</td>\n",
       "      <td>2.068691</td>\n",
       "      <td>0.026839</td>\n",
       "      <td>37.259374</td>\n",
       "    </tr>\n",
       "    <tr>\n",
       "      <th>996</th>\n",
       "      <td>0.155851</td>\n",
       "      <td>False</td>\n",
       "      <td>0.275461</td>\n",
       "      <td>0.436035</td>\n",
       "      <td>2.293395</td>\n",
       "    </tr>\n",
       "    <tr>\n",
       "      <th>997</th>\n",
       "      <td>1.345157</td>\n",
       "      <td>False</td>\n",
       "      <td>2.066243</td>\n",
       "      <td>0.070674</td>\n",
       "      <td>14.149573</td>\n",
       "    </tr>\n",
       "    <tr>\n",
       "      <th>998</th>\n",
       "      <td>0.058660</td>\n",
       "      <td>False</td>\n",
       "      <td>0.094515</td>\n",
       "      <td>0.483069</td>\n",
       "      <td>2.070098</td>\n",
       "    </tr>\n",
       "    <tr>\n",
       "      <th>999</th>\n",
       "      <td>1.184836</td>\n",
       "      <td>False</td>\n",
       "      <td>1.889179</td>\n",
       "      <td>0.094169</td>\n",
       "      <td>10.619261</td>\n",
       "    </tr>\n",
       "  </tbody>\n",
       "</table>\n",
       "<p>1000 rows × 5 columns</p>\n",
       "</div>"
      ],
      "text/plain": [
       "           W0     v0         y  propensity_score     weight\n",
       "0    0.526686  False  1.118611          0.272814   3.665494\n",
       "1    2.227615  False  1.605954          0.013424  74.490799\n",
       "2    0.096453  False  0.502943          0.464697   2.151939\n",
       "3   -0.706678  False -0.394790          0.806065   1.240595\n",
       "4    0.910844  False  0.543750          0.150653   6.637773\n",
       "..        ...    ...       ...               ...        ...\n",
       "995  1.865322  False  2.068691          0.026839  37.259374\n",
       "996  0.155851  False  0.275461          0.436035   2.293395\n",
       "997  1.345157  False  2.066243          0.070674  14.149573\n",
       "998  0.058660  False  0.094515          0.483069   2.070098\n",
       "999  1.184836  False  1.889179          0.094169  10.619261\n",
       "\n",
       "[1000 rows x 5 columns]"
      ]
     },
     "execution_count": 6,
     "metadata": {},
     "output_type": "execute_result"
    }
   ],
   "source": [
    "cdf_0"
   ]
  },
  {
   "cell_type": "code",
   "execution_count": 7,
   "metadata": {
    "execution": {
     "iopub.execute_input": "2022-08-02T14:09:06.277460Z",
     "iopub.status.busy": "2022-08-02T14:09:06.277241Z",
     "iopub.status.idle": "2022-08-02T14:09:06.288695Z",
     "shell.execute_reply": "2022-08-02T14:09:06.288144Z"
    }
   },
   "outputs": [
    {
     "data": {
      "text/html": [
       "<div>\n",
       "<style scoped>\n",
       "    .dataframe tbody tr th:only-of-type {\n",
       "        vertical-align: middle;\n",
       "    }\n",
       "\n",
       "    .dataframe tbody tr th {\n",
       "        vertical-align: top;\n",
       "    }\n",
       "\n",
       "    .dataframe thead th {\n",
       "        text-align: right;\n",
       "    }\n",
       "</style>\n",
       "<table border=\"1\" class=\"dataframe\">\n",
       "  <thead>\n",
       "    <tr style=\"text-align: right;\">\n",
       "      <th></th>\n",
       "      <th>W0</th>\n",
       "      <th>v0</th>\n",
       "      <th>y</th>\n",
       "      <th>propensity_score</th>\n",
       "      <th>weight</th>\n",
       "    </tr>\n",
       "  </thead>\n",
       "  <tbody>\n",
       "    <tr>\n",
       "      <th>0</th>\n",
       "      <td>0.471884</td>\n",
       "      <td>True</td>\n",
       "      <td>5.729287</td>\n",
       "      <td>0.705479</td>\n",
       "      <td>1.417476</td>\n",
       "    </tr>\n",
       "    <tr>\n",
       "      <th>1</th>\n",
       "      <td>-0.002099</td>\n",
       "      <td>True</td>\n",
       "      <td>5.833732</td>\n",
       "      <td>0.487321</td>\n",
       "      <td>2.052036</td>\n",
       "    </tr>\n",
       "    <tr>\n",
       "      <th>2</th>\n",
       "      <td>0.845021</td>\n",
       "      <td>True</td>\n",
       "      <td>5.692377</td>\n",
       "      <td>0.832177</td>\n",
       "      <td>1.201667</td>\n",
       "    </tr>\n",
       "    <tr>\n",
       "      <th>3</th>\n",
       "      <td>0.101626</td>\n",
       "      <td>True</td>\n",
       "      <td>5.014653</td>\n",
       "      <td>0.537811</td>\n",
       "      <td>1.859390</td>\n",
       "    </tr>\n",
       "    <tr>\n",
       "      <th>4</th>\n",
       "      <td>1.535407</td>\n",
       "      <td>True</td>\n",
       "      <td>6.296723</td>\n",
       "      <td>0.950139</td>\n",
       "      <td>1.052477</td>\n",
       "    </tr>\n",
       "    <tr>\n",
       "      <th>...</th>\n",
       "      <td>...</td>\n",
       "      <td>...</td>\n",
       "      <td>...</td>\n",
       "      <td>...</td>\n",
       "      <td>...</td>\n",
       "    </tr>\n",
       "    <tr>\n",
       "      <th>995</th>\n",
       "      <td>2.822485</td>\n",
       "      <td>True</td>\n",
       "      <td>9.296195</td>\n",
       "      <td>0.995752</td>\n",
       "      <td>1.004266</td>\n",
       "    </tr>\n",
       "    <tr>\n",
       "      <th>996</th>\n",
       "      <td>0.223079</td>\n",
       "      <td>True</td>\n",
       "      <td>5.656650</td>\n",
       "      <td>0.595889</td>\n",
       "      <td>1.678166</td>\n",
       "    </tr>\n",
       "    <tr>\n",
       "      <th>997</th>\n",
       "      <td>-0.245362</td>\n",
       "      <td>True</td>\n",
       "      <td>4.769206</td>\n",
       "      <td>0.371664</td>\n",
       "      <td>2.690601</td>\n",
       "    </tr>\n",
       "    <tr>\n",
       "      <th>998</th>\n",
       "      <td>0.381093</td>\n",
       "      <td>True</td>\n",
       "      <td>3.849307</td>\n",
       "      <td>0.667408</td>\n",
       "      <td>1.498333</td>\n",
       "    </tr>\n",
       "    <tr>\n",
       "      <th>999</th>\n",
       "      <td>0.096397</td>\n",
       "      <td>True</td>\n",
       "      <td>4.334652</td>\n",
       "      <td>0.535275</td>\n",
       "      <td>1.868197</td>\n",
       "    </tr>\n",
       "  </tbody>\n",
       "</table>\n",
       "<p>1000 rows × 5 columns</p>\n",
       "</div>"
      ],
      "text/plain": [
       "           W0    v0         y  propensity_score    weight\n",
       "0    0.471884  True  5.729287          0.705479  1.417476\n",
       "1   -0.002099  True  5.833732          0.487321  2.052036\n",
       "2    0.845021  True  5.692377          0.832177  1.201667\n",
       "3    0.101626  True  5.014653          0.537811  1.859390\n",
       "4    1.535407  True  6.296723          0.950139  1.052477\n",
       "..        ...   ...       ...               ...       ...\n",
       "995  2.822485  True  9.296195          0.995752  1.004266\n",
       "996  0.223079  True  5.656650          0.595889  1.678166\n",
       "997 -0.245362  True  4.769206          0.371664  2.690601\n",
       "998  0.381093  True  3.849307          0.667408  1.498333\n",
       "999  0.096397  True  4.334652          0.535275  1.868197\n",
       "\n",
       "[1000 rows x 5 columns]"
      ]
     },
     "execution_count": 7,
     "metadata": {},
     "output_type": "execute_result"
    }
   ],
   "source": [
    "cdf_1"
   ]
  },
  {
   "cell_type": "markdown",
   "metadata": {},
   "source": [
    "## Comparing the estimate to Linear Regression\n",
    "First, estimating the effect using the causal data frame, and the 95% confidence interval."
   ]
  },
  {
   "cell_type": "code",
   "execution_count": 8,
   "metadata": {
    "execution": {
     "iopub.execute_input": "2022-08-02T14:09:06.291535Z",
     "iopub.status.busy": "2022-08-02T14:09:06.291313Z",
     "iopub.status.idle": "2022-08-02T14:09:06.391386Z",
     "shell.execute_reply": "2022-08-02T14:09:06.390784Z"
    }
   },
   "outputs": [
    {
     "data": {
      "image/png": "[encoded data removed]",
      "text/latex": [
       "$\\displaystyle 5.04773302832102$"
      ],
      "text/plain": [
       "5.047733028321018"
      ]
     },
     "execution_count": 8,
     "metadata": {},
     "output_type": "execute_result"
    }
   ],
   "source": [
    "(cdf_1['y'] - cdf_0['y']).mean()"
   ]
  },
  {
   "cell_type": "code",
   "execution_count": 9,
   "metadata": {
    "execution": {
     "iopub.execute_input": "2022-08-02T14:09:06.394123Z",
     "iopub.status.busy": "2022-08-02T14:09:06.393905Z",
     "iopub.status.idle": "2022-08-02T14:09:06.419309Z",
     "shell.execute_reply": "2022-08-02T14:09:06.418596Z"
    }
   },
   "outputs": [
    {
     "data": {
      "image/png": "[encoded data removed]",
      "text/latex": [
       "$\\displaystyle 0.116608033446897$"
      ],
      "text/plain": [
       "0.11660803344689699"
      ]
     },
     "execution_count": 9,
     "metadata": {},
     "output_type": "execute_result"
    }
   ],
   "source": [
    "1.96*(cdf_1['y'] - cdf_0['y']).std() / np.sqrt(len(df))"
   ]
  },
  {
   "cell_type": "markdown",
   "metadata": {},
   "source": [
    "Comparing to the estimate from OLS."
   ]
  },
  {
   "cell_type": "code",
   "execution_count": 10,
   "metadata": {
    "execution": {
     "iopub.execute_input": "2022-08-02T14:09:06.422425Z",
     "iopub.status.busy": "2022-08-02T14:09:06.422024Z",
     "iopub.status.idle": "2022-08-02T14:09:06.438899Z",
     "shell.execute_reply": "2022-08-02T14:09:06.438321Z"
    }
   },
   "outputs": [
    {
     "data": {
      "text/html": [
       "<table class=\"simpletable\">\n",
       "<caption>OLS Regression Results</caption>\n",
       "<tr>\n",
       "  <th>Dep. Variable:</th>            <td>y</td>        <th>  R-squared (uncentered):</th>      <td>   0.963</td> \n",
       "</tr>\n",
       "<tr>\n",
       "  <th>Model:</th>                   <td>OLS</td>       <th>  Adj. R-squared (uncentered):</th> <td>   0.963</td> \n",
       "</tr>\n",
       "<tr>\n",
       "  <th>Method:</th>             <td>Least Squares</td>  <th>  F-statistic:       </th>          <td>1.298e+04</td>\n",
       "</tr>\n",
       "<tr>\n",
       "  <th>Date:</th>             <td>Tue, 02 Aug 2022</td> <th>  Prob (F-statistic):</th>           <td>  0.00</td>  \n",
       "</tr>\n",
       "<tr>\n",
       "  <th>Time:</th>                 <td>14:09:06</td>     <th>  Log-Likelihood:    </th>          <td> -1405.8</td> \n",
       "</tr>\n",
       "<tr>\n",
       "  <th>No. Observations:</th>      <td>  1000</td>      <th>  AIC:               </th>          <td>   2816.</td> \n",
       "</tr>\n",
       "<tr>\n",
       "  <th>Df Residuals:</th>          <td>   998</td>      <th>  BIC:               </th>          <td>   2825.</td> \n",
       "</tr>\n",
       "<tr>\n",
       "  <th>Df Model:</th>              <td>     2</td>      <th>                     </th>              <td> </td>    \n",
       "</tr>\n",
       "<tr>\n",
       "  <th>Covariance Type:</th>      <td>nonrobust</td>    <th>                     </th>              <td> </td>    \n",
       "</tr>\n",
       "</table>\n",
       "<table class=\"simpletable\">\n",
       "<tr>\n",
       "   <td></td>     <th>coef</th>     <th>std err</th>      <th>t</th>      <th>P>|t|</th>  <th>[0.025</th>    <th>0.975]</th>  \n",
       "</tr>\n",
       "<tr>\n",
       "  <th>x1</th> <td>    0.9264</td> <td>    0.037</td> <td>   24.916</td> <td> 0.000</td> <td>    0.853</td> <td>    0.999</td>\n",
       "</tr>\n",
       "<tr>\n",
       "  <th>x2</th> <td>    4.9949</td> <td>    0.055</td> <td>   90.205</td> <td> 0.000</td> <td>    4.886</td> <td>    5.104</td>\n",
       "</tr>\n",
       "</table>\n",
       "<table class=\"simpletable\">\n",
       "<tr>\n",
       "  <th>Omnibus:</th>       <td> 4.265</td> <th>  Durbin-Watson:     </th> <td>   2.056</td>\n",
       "</tr>\n",
       "<tr>\n",
       "  <th>Prob(Omnibus):</th> <td> 0.119</td> <th>  Jarque-Bera (JB):  </th> <td>   3.963</td>\n",
       "</tr>\n",
       "<tr>\n",
       "  <th>Skew:</th>          <td>-0.103</td> <th>  Prob(JB):          </th> <td>   0.138</td>\n",
       "</tr>\n",
       "<tr>\n",
       "  <th>Kurtosis:</th>      <td> 2.771</td> <th>  Cond. No.          </th> <td>    2.82</td>\n",
       "</tr>\n",
       "</table><br/><br/>Notes:<br/>[1] R² is computed without centering (uncentered) since the model does not contain a constant.<br/>[2] Standard Errors assume that the covariance matrix of the errors is correctly specified."
      ],
      "text/plain": [
       "<class 'statsmodels.iolib.summary.Summary'>\n",
       "\"\"\"\n",
       "                                 OLS Regression Results                                \n",
       "=======================================================================================\n",
       "Dep. Variable:                      y   R-squared (uncentered):                   0.963\n",
       "Model:                            OLS   Adj. R-squared (uncentered):              0.963\n",
       "Method:                 Least Squares   F-statistic:                          1.298e+04\n",
       "Date:                Tue, 02 Aug 2022   Prob (F-statistic):                        0.00\n",
       "Time:                        14:09:06   Log-Likelihood:                         -1405.8\n",
       "No. Observations:                1000   AIC:                                      2816.\n",
       "Df Residuals:                     998   BIC:                                      2825.\n",
       "Df Model:                           2                                                  \n",
       "Covariance Type:            nonrobust                                                  \n",
       "==============================================================================\n",
       "                 coef    std err          t      P>|t|      [0.025      0.975]\n",
       "------------------------------------------------------------------------------\n",
       "x1             0.9264      0.037     24.916      0.000       0.853       0.999\n",
       "x2             4.9949      0.055     90.205      0.000       4.886       5.104\n",
       "==============================================================================\n",
       "Omnibus:                        4.265   Durbin-Watson:                   2.056\n",
       "Prob(Omnibus):                  0.119   Jarque-Bera (JB):                3.963\n",
       "Skew:                          -0.103   Prob(JB):                        0.138\n",
       "Kurtosis:                       2.771   Cond. No.                         2.82\n",
       "==============================================================================\n",
       "\n",
       "Notes:\n",
       "[1] R² is computed without centering (uncentered) since the model does not contain a constant.\n",
       "[2] Standard Errors assume that the covariance matrix of the errors is correctly specified.\n",
       "\"\"\""
      ]
     },
     "execution_count": 10,
     "metadata": {},
     "output_type": "execute_result"
    }
   ],
   "source": [
    "model = OLS(np.asarray(df[outcome]), np.asarray(df[[common_cause, treatment]], dtype=np.float64))\n",
    "result = model.fit()\n",
    "result.summary()"
   ]
  }
 ],
 "metadata": {
  "kernelspec": {
   "display_name": "Python 3",
   "language": "python",
   "name": "python3"
  },
  "language_info": {
   "codemirror_mode": {
    "name": "ipython",
    "version": 3
   },
   "file_extension": ".py",
   "mimetype": "text/x-python",
   "name": "python",
   "nbconvert_exporter": "python",
   "pygments_lexer": "ipython3",
   "version": "3.8.10"
  },
  "toc": {
   "base_numbering": 1,
   "nav_menu": {},
   "number_sections": false,
   "sideBar": true,
   "skip_h1_title": true,
   "title_cell": "Table of Contents",
   "title_sidebar": "Contents",
   "toc_cell": false,
   "toc_position": {},
   "toc_section_display": true,
   "toc_window_display": false
  }
 },
 "nbformat": 4,
 "nbformat_minor": 4
}
