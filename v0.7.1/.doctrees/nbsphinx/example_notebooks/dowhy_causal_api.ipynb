{
 "cells": [
  {
   "cell_type": "markdown",
   "metadata": {},
   "source": [
    "# Demo for the DoWhy causal API\n",
    "We show a simple example of adding a causal extension to any dataframe. "
   ]
  },
  {
   "cell_type": "code",
   "execution_count": 1,
   "metadata": {
    "execution": {
     "iopub.execute_input": "2022-07-19T21:18:48.958273Z",
     "iopub.status.busy": "2022-07-19T21:18:48.957895Z",
     "iopub.status.idle": "2022-07-19T21:18:50.082649Z",
     "shell.execute_reply": "2022-07-19T21:18:50.081837Z"
    }
   },
   "outputs": [
    {
     "name": "stdout",
     "output_type": "stream",
     "text": [
      "keywords are unexpanded, not using\n"
     ]
    }
   ],
   "source": [
    "import dowhy.datasets\n",
    "import dowhy.api\n",
    "\n",
    "import numpy as np\n",
    "import pandas as pd\n",
    "\n",
    "from statsmodels.api import OLS"
   ]
  },
  {
   "cell_type": "code",
   "execution_count": 2,
   "metadata": {
    "execution": {
     "iopub.execute_input": "2022-07-19T21:18:50.086622Z",
     "iopub.status.busy": "2022-07-19T21:18:50.086121Z",
     "iopub.status.idle": "2022-07-19T21:18:50.129947Z",
     "shell.execute_reply": "2022-07-19T21:18:50.129339Z"
    }
   },
   "outputs": [
    {
     "data": {
      "text/html": [
       "<div>\n",
       "<style scoped>\n",
       "    .dataframe tbody tr th:only-of-type {\n",
       "        vertical-align: middle;\n",
       "    }\n",
       "\n",
       "    .dataframe tbody tr th {\n",
       "        vertical-align: top;\n",
       "    }\n",
       "\n",
       "    .dataframe thead th {\n",
       "        text-align: right;\n",
       "    }\n",
       "</style>\n",
       "<table border=\"1\" class=\"dataframe\">\n",
       "  <thead>\n",
       "    <tr style=\"text-align: right;\">\n",
       "      <th></th>\n",
       "      <th>W0</th>\n",
       "      <th>v0</th>\n",
       "      <th>y</th>\n",
       "    </tr>\n",
       "  </thead>\n",
       "  <tbody>\n",
       "    <tr>\n",
       "      <th>0</th>\n",
       "      <td>-0.806360</td>\n",
       "      <td>False</td>\n",
       "      <td>-0.489130</td>\n",
       "    </tr>\n",
       "    <tr>\n",
       "      <th>1</th>\n",
       "      <td>-1.233618</td>\n",
       "      <td>False</td>\n",
       "      <td>-0.530538</td>\n",
       "    </tr>\n",
       "    <tr>\n",
       "      <th>2</th>\n",
       "      <td>-0.542871</td>\n",
       "      <td>True</td>\n",
       "      <td>3.796599</td>\n",
       "    </tr>\n",
       "    <tr>\n",
       "      <th>3</th>\n",
       "      <td>-0.567849</td>\n",
       "      <td>True</td>\n",
       "      <td>4.843557</td>\n",
       "    </tr>\n",
       "    <tr>\n",
       "      <th>4</th>\n",
       "      <td>1.236875</td>\n",
       "      <td>True</td>\n",
       "      <td>4.132975</td>\n",
       "    </tr>\n",
       "    <tr>\n",
       "      <th>...</th>\n",
       "      <td>...</td>\n",
       "      <td>...</td>\n",
       "      <td>...</td>\n",
       "    </tr>\n",
       "    <tr>\n",
       "      <th>995</th>\n",
       "      <td>-1.219869</td>\n",
       "      <td>True</td>\n",
       "      <td>5.290628</td>\n",
       "    </tr>\n",
       "    <tr>\n",
       "      <th>996</th>\n",
       "      <td>-2.172223</td>\n",
       "      <td>True</td>\n",
       "      <td>6.104618</td>\n",
       "    </tr>\n",
       "    <tr>\n",
       "      <th>997</th>\n",
       "      <td>-1.566917</td>\n",
       "      <td>False</td>\n",
       "      <td>0.283152</td>\n",
       "    </tr>\n",
       "    <tr>\n",
       "      <th>998</th>\n",
       "      <td>-0.713272</td>\n",
       "      <td>False</td>\n",
       "      <td>-2.010453</td>\n",
       "    </tr>\n",
       "    <tr>\n",
       "      <th>999</th>\n",
       "      <td>0.151877</td>\n",
       "      <td>False</td>\n",
       "      <td>2.669891</td>\n",
       "    </tr>\n",
       "  </tbody>\n",
       "</table>\n",
       "<p>1000 rows × 3 columns</p>\n",
       "</div>"
      ],
      "text/plain": [
       "           W0     v0         y\n",
       "0   -0.806360  False -0.489130\n",
       "1   -1.233618  False -0.530538\n",
       "2   -0.542871   True  3.796599\n",
       "3   -0.567849   True  4.843557\n",
       "4    1.236875   True  4.132975\n",
       "..        ...    ...       ...\n",
       "995 -1.219869   True  5.290628\n",
       "996 -2.172223   True  6.104618\n",
       "997 -1.566917  False  0.283152\n",
       "998 -0.713272  False -2.010453\n",
       "999  0.151877  False  2.669891\n",
       "\n",
       "[1000 rows x 3 columns]"
      ]
     },
     "execution_count": 2,
     "metadata": {},
     "output_type": "execute_result"
    }
   ],
   "source": [
    "data = dowhy.datasets.linear_dataset(beta=5,\n",
    "        num_common_causes=1,\n",
    "        num_instruments = 0,\n",
    "        num_samples=1000,\n",
    "        treatment_is_binary=True)\n",
    "df = data['df']\n",
    "df['y'] = df['y'] + np.random.normal(size=len(df)) # Adding noise to data. Without noise, the variance in Y|X, Z is zero, and mcmc fails.\n",
    "#data['dot_graph'] = 'digraph { v ->y;X0-> v;X0-> y;}'\n",
    "\n",
    "treatment= data[\"treatment_name\"][0]\n",
    "outcome = data[\"outcome_name\"][0]\n",
    "common_cause = data[\"common_causes_names\"][0]\n",
    "df"
   ]
  },
  {
   "cell_type": "code",
   "execution_count": 3,
   "metadata": {
    "execution": {
     "iopub.execute_input": "2022-07-19T21:18:50.132758Z",
     "iopub.status.busy": "2022-07-19T21:18:50.132543Z",
     "iopub.status.idle": "2022-07-19T21:18:50.871485Z",
     "shell.execute_reply": "2022-07-19T21:18:50.870950Z"
    }
   },
   "outputs": [
    {
     "data": {
      "text/plain": [
       "<AxesSubplot:xlabel='v0'>"
      ]
     },
     "execution_count": 3,
     "metadata": {},
     "output_type": "execute_result"
    },
    {
     "data": {
      "image/png": "[encoded data removed]",
      "text/plain": [
       "<Figure size 432x288 with 1 Axes>"
      ]
     },
     "metadata": {
      "needs_background": "light"
     },
     "output_type": "display_data"
    }
   ],
   "source": [
    "# data['df'] is just a regular pandas.DataFrame\n",
    "df.causal.do(x=treatment,\n",
    "                     variable_types={treatment: 'b', outcome: 'c', common_cause: 'c'},\n",
    "                     outcome=outcome,\n",
    "                     common_causes=[common_cause],\n",
    "                     proceed_when_unidentifiable=True).groupby(treatment).mean().plot(y=outcome, kind='bar')"
   ]
  },
  {
   "cell_type": "code",
   "execution_count": 4,
   "metadata": {
    "execution": {
     "iopub.execute_input": "2022-07-19T21:18:50.875940Z",
     "iopub.status.busy": "2022-07-19T21:18:50.874794Z",
     "iopub.status.idle": "2022-07-19T21:18:50.963704Z",
     "shell.execute_reply": "2022-07-19T21:18:50.963164Z"
    }
   },
   "outputs": [
    {
     "data": {
      "text/plain": [
       "<AxesSubplot:xlabel='v0'>"
      ]
     },
     "execution_count": 4,
     "metadata": {},
     "output_type": "execute_result"
    },
    {
     "data": {
      "image/png": "[encoded data removed]",
      "text/plain": [
       "<Figure size 432x288 with 1 Axes>"
      ]
     },
     "metadata": {
      "needs_background": "light"
     },
     "output_type": "display_data"
    }
   ],
   "source": [
    "df.causal.do(x={treatment: 1}, \n",
    "              variable_types={treatment:'b', outcome: 'c', common_cause: 'c'}, \n",
    "              outcome=outcome,\n",
    "              method='weighting', \n",
    "              common_causes=[common_cause],\n",
    "              proceed_when_unidentifiable=True).groupby(treatment).mean().plot(y=outcome, kind='bar')"
   ]
  },
  {
   "cell_type": "code",
   "execution_count": 5,
   "metadata": {
    "execution": {
     "iopub.execute_input": "2022-07-19T21:18:50.967918Z",
     "iopub.status.busy": "2022-07-19T21:18:50.966884Z",
     "iopub.status.idle": "2022-07-19T21:18:50.997705Z",
     "shell.execute_reply": "2022-07-19T21:18:50.997156Z"
    }
   },
   "outputs": [],
   "source": [
    "cdf_1 = df.causal.do(x={treatment: 1}, \n",
    "              variable_types={treatment: 'b', outcome: 'c', common_cause: 'c'}, \n",
    "              outcome=outcome, \n",
    "              dot_graph=data['dot_graph'],\n",
    "              proceed_when_unidentifiable=True)\n",
    "\n",
    "cdf_0 = df.causal.do(x={treatment: 0}, \n",
    "              variable_types={treatment: 'b', outcome: 'c', common_cause: 'c'}, \n",
    "              outcome=outcome, \n",
    "              dot_graph=data['dot_graph'],\n",
    "              proceed_when_unidentifiable=True)\n"
   ]
  },
  {
   "cell_type": "code",
   "execution_count": 6,
   "metadata": {
    "execution": {
     "iopub.execute_input": "2022-07-19T21:18:51.001041Z",
     "iopub.status.busy": "2022-07-19T21:18:51.000811Z",
     "iopub.status.idle": "2022-07-19T21:18:51.011602Z",
     "shell.execute_reply": "2022-07-19T21:18:51.010980Z"
    },
    "scrolled": true
   },
   "outputs": [
    {
     "data": {
      "text/html": [
       "<div>\n",
       "<style scoped>\n",
       "    .dataframe tbody tr th:only-of-type {\n",
       "        vertical-align: middle;\n",
       "    }\n",
       "\n",
       "    .dataframe tbody tr th {\n",
       "        vertical-align: top;\n",
       "    }\n",
       "\n",
       "    .dataframe thead th {\n",
       "        text-align: right;\n",
       "    }\n",
       "</style>\n",
       "<table border=\"1\" class=\"dataframe\">\n",
       "  <thead>\n",
       "    <tr style=\"text-align: right;\">\n",
       "      <th></th>\n",
       "      <th>W0</th>\n",
       "      <th>v0</th>\n",
       "      <th>y</th>\n",
       "      <th>propensity_score</th>\n",
       "      <th>weight</th>\n",
       "    </tr>\n",
       "  </thead>\n",
       "  <tbody>\n",
       "    <tr>\n",
       "      <th>0</th>\n",
       "      <td>-2.293048</td>\n",
       "      <td>False</td>\n",
       "      <td>-0.588240</td>\n",
       "      <td>0.899823</td>\n",
       "      <td>1.111330</td>\n",
       "    </tr>\n",
       "    <tr>\n",
       "      <th>1</th>\n",
       "      <td>-0.694030</td>\n",
       "      <td>False</td>\n",
       "      <td>0.826683</td>\n",
       "      <td>0.666235</td>\n",
       "      <td>1.500973</td>\n",
       "    </tr>\n",
       "    <tr>\n",
       "      <th>2</th>\n",
       "      <td>-0.944917</td>\n",
       "      <td>False</td>\n",
       "      <td>-1.494721</td>\n",
       "      <td>0.716505</td>\n",
       "      <td>1.395664</td>\n",
       "    </tr>\n",
       "    <tr>\n",
       "      <th>3</th>\n",
       "      <td>-0.239102</td>\n",
       "      <td>False</td>\n",
       "      <td>0.326657</td>\n",
       "      <td>0.565446</td>\n",
       "      <td>1.768516</td>\n",
       "    </tr>\n",
       "    <tr>\n",
       "      <th>4</th>\n",
       "      <td>0.131730</td>\n",
       "      <td>False</td>\n",
       "      <td>1.688801</td>\n",
       "      <td>0.478634</td>\n",
       "      <td>2.089277</td>\n",
       "    </tr>\n",
       "    <tr>\n",
       "      <th>...</th>\n",
       "      <td>...</td>\n",
       "      <td>...</td>\n",
       "      <td>...</td>\n",
       "      <td>...</td>\n",
       "      <td>...</td>\n",
       "    </tr>\n",
       "    <tr>\n",
       "      <th>995</th>\n",
       "      <td>-0.708521</td>\n",
       "      <td>False</td>\n",
       "      <td>-0.542799</td>\n",
       "      <td>0.669259</td>\n",
       "      <td>1.494191</td>\n",
       "    </tr>\n",
       "    <tr>\n",
       "      <th>996</th>\n",
       "      <td>0.942228</td>\n",
       "      <td>False</td>\n",
       "      <td>0.111790</td>\n",
       "      <td>0.299878</td>\n",
       "      <td>3.334685</td>\n",
       "    </tr>\n",
       "    <tr>\n",
       "      <th>997</th>\n",
       "      <td>-0.634890</td>\n",
       "      <td>False</td>\n",
       "      <td>-0.661387</td>\n",
       "      <td>0.653753</td>\n",
       "      <td>1.529631</td>\n",
       "    </tr>\n",
       "    <tr>\n",
       "      <th>998</th>\n",
       "      <td>-1.931447</td>\n",
       "      <td>False</td>\n",
       "      <td>-0.392290</td>\n",
       "      <td>0.864728</td>\n",
       "      <td>1.156433</td>\n",
       "    </tr>\n",
       "    <tr>\n",
       "      <th>999</th>\n",
       "      <td>-1.363550</td>\n",
       "      <td>False</td>\n",
       "      <td>-0.597637</td>\n",
       "      <td>0.789341</td>\n",
       "      <td>1.266879</td>\n",
       "    </tr>\n",
       "  </tbody>\n",
       "</table>\n",
       "<p>1000 rows × 5 columns</p>\n",
       "</div>"
      ],
      "text/plain": [
       "           W0     v0         y  propensity_score    weight\n",
       "0   -2.293048  False -0.588240          0.899823  1.111330\n",
       "1   -0.694030  False  0.826683          0.666235  1.500973\n",
       "2   -0.944917  False -1.494721          0.716505  1.395664\n",
       "3   -0.239102  False  0.326657          0.565446  1.768516\n",
       "4    0.131730  False  1.688801          0.478634  2.089277\n",
       "..        ...    ...       ...               ...       ...\n",
       "995 -0.708521  False -0.542799          0.669259  1.494191\n",
       "996  0.942228  False  0.111790          0.299878  3.334685\n",
       "997 -0.634890  False -0.661387          0.653753  1.529631\n",
       "998 -1.931447  False -0.392290          0.864728  1.156433\n",
       "999 -1.363550  False -0.597637          0.789341  1.266879\n",
       "\n",
       "[1000 rows x 5 columns]"
      ]
     },
     "execution_count": 6,
     "metadata": {},
     "output_type": "execute_result"
    }
   ],
   "source": [
    "cdf_0"
   ]
  },
  {
   "cell_type": "code",
   "execution_count": 7,
   "metadata": {
    "execution": {
     "iopub.execute_input": "2022-07-19T21:18:51.014907Z",
     "iopub.status.busy": "2022-07-19T21:18:51.014397Z",
     "iopub.status.idle": "2022-07-19T21:18:51.025483Z",
     "shell.execute_reply": "2022-07-19T21:18:51.024936Z"
    }
   },
   "outputs": [
    {
     "data": {
      "text/html": [
       "<div>\n",
       "<style scoped>\n",
       "    .dataframe tbody tr th:only-of-type {\n",
       "        vertical-align: middle;\n",
       "    }\n",
       "\n",
       "    .dataframe tbody tr th {\n",
       "        vertical-align: top;\n",
       "    }\n",
       "\n",
       "    .dataframe thead th {\n",
       "        text-align: right;\n",
       "    }\n",
       "</style>\n",
       "<table border=\"1\" class=\"dataframe\">\n",
       "  <thead>\n",
       "    <tr style=\"text-align: right;\">\n",
       "      <th></th>\n",
       "      <th>W0</th>\n",
       "      <th>v0</th>\n",
       "      <th>y</th>\n",
       "      <th>propensity_score</th>\n",
       "      <th>weight</th>\n",
       "    </tr>\n",
       "  </thead>\n",
       "  <tbody>\n",
       "    <tr>\n",
       "      <th>0</th>\n",
       "      <td>-0.681735</td>\n",
       "      <td>True</td>\n",
       "      <td>4.639871</td>\n",
       "      <td>0.336342</td>\n",
       "      <td>2.973165</td>\n",
       "    </tr>\n",
       "    <tr>\n",
       "      <th>1</th>\n",
       "      <td>-0.011533</td>\n",
       "      <td>True</td>\n",
       "      <td>5.096190</td>\n",
       "      <td>0.487693</td>\n",
       "      <td>2.050472</td>\n",
       "    </tr>\n",
       "    <tr>\n",
       "      <th>2</th>\n",
       "      <td>-0.054627</td>\n",
       "      <td>True</td>\n",
       "      <td>6.191731</td>\n",
       "      <td>0.477571</td>\n",
       "      <td>2.093928</td>\n",
       "    </tr>\n",
       "    <tr>\n",
       "      <th>3</th>\n",
       "      <td>-0.942950</td>\n",
       "      <td>True</td>\n",
       "      <td>4.119390</td>\n",
       "      <td>0.283871</td>\n",
       "      <td>3.522726</td>\n",
       "    </tr>\n",
       "    <tr>\n",
       "      <th>4</th>\n",
       "      <td>-1.498523</td>\n",
       "      <td>True</td>\n",
       "      <td>5.682775</td>\n",
       "      <td>0.190322</td>\n",
       "      <td>5.254244</td>\n",
       "    </tr>\n",
       "    <tr>\n",
       "      <th>...</th>\n",
       "      <td>...</td>\n",
       "      <td>...</td>\n",
       "      <td>...</td>\n",
       "      <td>...</td>\n",
       "      <td>...</td>\n",
       "    </tr>\n",
       "    <tr>\n",
       "      <th>995</th>\n",
       "      <td>-0.629641</td>\n",
       "      <td>True</td>\n",
       "      <td>3.705359</td>\n",
       "      <td>0.347366</td>\n",
       "      <td>2.878810</td>\n",
       "    </tr>\n",
       "    <tr>\n",
       "      <th>996</th>\n",
       "      <td>1.460457</td>\n",
       "      <td>True</td>\n",
       "      <td>5.447846</td>\n",
       "      <td>0.791721</td>\n",
       "      <td>1.263072</td>\n",
       "    </tr>\n",
       "    <tr>\n",
       "      <th>997</th>\n",
       "      <td>-0.398987</td>\n",
       "      <td>True</td>\n",
       "      <td>4.845695</td>\n",
       "      <td>0.398029</td>\n",
       "      <td>2.512378</td>\n",
       "    </tr>\n",
       "    <tr>\n",
       "      <th>998</th>\n",
       "      <td>1.023933</td>\n",
       "      <td>True</td>\n",
       "      <td>5.141795</td>\n",
       "      <td>0.716005</td>\n",
       "      <td>1.396639</td>\n",
       "    </tr>\n",
       "    <tr>\n",
       "      <th>999</th>\n",
       "      <td>-0.669329</td>\n",
       "      <td>True</td>\n",
       "      <td>4.240032</td>\n",
       "      <td>0.338952</td>\n",
       "      <td>2.950273</td>\n",
       "    </tr>\n",
       "  </tbody>\n",
       "</table>\n",
       "<p>1000 rows × 5 columns</p>\n",
       "</div>"
      ],
      "text/plain": [
       "           W0    v0         y  propensity_score    weight\n",
       "0   -0.681735  True  4.639871          0.336342  2.973165\n",
       "1   -0.011533  True  5.096190          0.487693  2.050472\n",
       "2   -0.054627  True  6.191731          0.477571  2.093928\n",
       "3   -0.942950  True  4.119390          0.283871  3.522726\n",
       "4   -1.498523  True  5.682775          0.190322  5.254244\n",
       "..        ...   ...       ...               ...       ...\n",
       "995 -0.629641  True  3.705359          0.347366  2.878810\n",
       "996  1.460457  True  5.447846          0.791721  1.263072\n",
       "997 -0.398987  True  4.845695          0.398029  2.512378\n",
       "998  1.023933  True  5.141795          0.716005  1.396639\n",
       "999 -0.669329  True  4.240032          0.338952  2.950273\n",
       "\n",
       "[1000 rows x 5 columns]"
      ]
     },
     "execution_count": 7,
     "metadata": {},
     "output_type": "execute_result"
    }
   ],
   "source": [
    "cdf_1"
   ]
  },
  {
   "cell_type": "markdown",
   "metadata": {},
   "source": [
    "## Comparing the estimate to Linear Regression\n",
    "First, estimating the effect using the causal data frame, and the 95% confidence interval."
   ]
  },
  {
   "cell_type": "code",
   "execution_count": 8,
   "metadata": {
    "execution": {
     "iopub.execute_input": "2022-07-19T21:18:51.028261Z",
     "iopub.status.busy": "2022-07-19T21:18:51.027857Z",
     "iopub.status.idle": "2022-07-19T21:18:51.125599Z",
     "shell.execute_reply": "2022-07-19T21:18:51.124987Z"
    }
   },
   "outputs": [
    {
     "data": {
      "image/png": "[encoded data removed]",
      "text/latex": [
       "$\\displaystyle 5.00778664797456$"
      ],
      "text/plain": [
       "5.007786647974564"
      ]
     },
     "execution_count": 8,
     "metadata": {},
     "output_type": "execute_result"
    }
   ],
   "source": [
    "(cdf_1['y'] - cdf_0['y']).mean()"
   ]
  },
  {
   "cell_type": "code",
   "execution_count": 9,
   "metadata": {
    "execution": {
     "iopub.execute_input": "2022-07-19T21:18:51.128432Z",
     "iopub.status.busy": "2022-07-19T21:18:51.128080Z",
     "iopub.status.idle": "2022-07-19T21:18:51.152060Z",
     "shell.execute_reply": "2022-07-19T21:18:51.151446Z"
    }
   },
   "outputs": [
    {
     "data": {
      "image/png": "[encoded data removed]",
      "text/latex": [
       "$\\displaystyle 0.096006977875554$"
      ],
      "text/plain": [
       "0.09600697787555396"
      ]
     },
     "execution_count": 9,
     "metadata": {},
     "output_type": "execute_result"
    }
   ],
   "source": [
    "1.96*(cdf_1['y'] - cdf_0['y']).std() / np.sqrt(len(df))"
   ]
  },
  {
   "cell_type": "markdown",
   "metadata": {},
   "source": [
    "Comparing to the estimate from OLS."
   ]
  },
  {
   "cell_type": "code",
   "execution_count": 10,
   "metadata": {
    "execution": {
     "iopub.execute_input": "2022-07-19T21:18:51.155137Z",
     "iopub.status.busy": "2022-07-19T21:18:51.154617Z",
     "iopub.status.idle": "2022-07-19T21:18:51.168583Z",
     "shell.execute_reply": "2022-07-19T21:18:51.167972Z"
    }
   },
   "outputs": [
    {
     "data": {
      "text/html": [
       "<table class=\"simpletable\">\n",
       "<caption>OLS Regression Results</caption>\n",
       "<tr>\n",
       "  <th>Dep. Variable:</th>            <td>y</td>        <th>  R-squared (uncentered):</th>      <td>   0.907</td>\n",
       "</tr>\n",
       "<tr>\n",
       "  <th>Model:</th>                   <td>OLS</td>       <th>  Adj. R-squared (uncentered):</th> <td>   0.907</td>\n",
       "</tr>\n",
       "<tr>\n",
       "  <th>Method:</th>             <td>Least Squares</td>  <th>  F-statistic:       </th>          <td>   4870.</td>\n",
       "</tr>\n",
       "<tr>\n",
       "  <th>Date:</th>             <td>Tue, 19 Jul 2022</td> <th>  Prob (F-statistic):</th>           <td>  0.00</td> \n",
       "</tr>\n",
       "<tr>\n",
       "  <th>Time:</th>                 <td>21:18:51</td>     <th>  Log-Likelihood:    </th>          <td> -1426.3</td>\n",
       "</tr>\n",
       "<tr>\n",
       "  <th>No. Observations:</th>      <td>  1000</td>      <th>  AIC:               </th>          <td>   2857.</td>\n",
       "</tr>\n",
       "<tr>\n",
       "  <th>Df Residuals:</th>          <td>   998</td>      <th>  BIC:               </th>          <td>   2866.</td>\n",
       "</tr>\n",
       "<tr>\n",
       "  <th>Df Model:</th>              <td>     2</td>      <th>                     </th>              <td> </td>   \n",
       "</tr>\n",
       "<tr>\n",
       "  <th>Covariance Type:</th>      <td>nonrobust</td>    <th>                     </th>              <td> </td>   \n",
       "</tr>\n",
       "</table>\n",
       "<table class=\"simpletable\">\n",
       "<tr>\n",
       "   <td></td>     <th>coef</th>     <th>std err</th>      <th>t</th>      <th>P>|t|</th>  <th>[0.025</th>    <th>0.975]</th>  \n",
       "</tr>\n",
       "<tr>\n",
       "  <th>x1</th> <td>    0.3783</td> <td>    0.029</td> <td>   13.173</td> <td> 0.000</td> <td>    0.322</td> <td>    0.435</td>\n",
       "</tr>\n",
       "<tr>\n",
       "  <th>x2</th> <td>    4.9861</td> <td>    0.051</td> <td>   98.009</td> <td> 0.000</td> <td>    4.886</td> <td>    5.086</td>\n",
       "</tr>\n",
       "</table>\n",
       "<table class=\"simpletable\">\n",
       "<tr>\n",
       "  <th>Omnibus:</th>       <td> 1.731</td> <th>  Durbin-Watson:     </th> <td>   2.068</td>\n",
       "</tr>\n",
       "<tr>\n",
       "  <th>Prob(Omnibus):</th> <td> 0.421</td> <th>  Jarque-Bera (JB):  </th> <td>   1.629</td>\n",
       "</tr>\n",
       "<tr>\n",
       "  <th>Skew:</th>          <td>-0.001</td> <th>  Prob(JB):          </th> <td>   0.443</td>\n",
       "</tr>\n",
       "<tr>\n",
       "  <th>Kurtosis:</th>      <td> 2.802</td> <th>  Cond. No.          </th> <td>    1.77</td>\n",
       "</tr>\n",
       "</table><br/><br/>Notes:<br/>[1] R² is computed without centering (uncentered) since the model does not contain a constant.<br/>[2] Standard Errors assume that the covariance matrix of the errors is correctly specified."
      ],
      "text/plain": [
       "<class 'statsmodels.iolib.summary.Summary'>\n",
       "\"\"\"\n",
       "                                 OLS Regression Results                                \n",
       "=======================================================================================\n",
       "Dep. Variable:                      y   R-squared (uncentered):                   0.907\n",
       "Model:                            OLS   Adj. R-squared (uncentered):              0.907\n",
       "Method:                 Least Squares   F-statistic:                              4870.\n",
       "Date:                Tue, 19 Jul 2022   Prob (F-statistic):                        0.00\n",
       "Time:                        21:18:51   Log-Likelihood:                         -1426.3\n",
       "No. Observations:                1000   AIC:                                      2857.\n",
       "Df Residuals:                     998   BIC:                                      2866.\n",
       "Df Model:                           2                                                  \n",
       "Covariance Type:            nonrobust                                                  \n",
       "==============================================================================\n",
       "                 coef    std err          t      P>|t|      [0.025      0.975]\n",
       "------------------------------------------------------------------------------\n",
       "x1             0.3783      0.029     13.173      0.000       0.322       0.435\n",
       "x2             4.9861      0.051     98.009      0.000       4.886       5.086\n",
       "==============================================================================\n",
       "Omnibus:                        1.731   Durbin-Watson:                   2.068\n",
       "Prob(Omnibus):                  0.421   Jarque-Bera (JB):                1.629\n",
       "Skew:                          -0.001   Prob(JB):                        0.443\n",
       "Kurtosis:                       2.802   Cond. No.                         1.77\n",
       "==============================================================================\n",
       "\n",
       "Notes:\n",
       "[1] R² is computed without centering (uncentered) since the model does not contain a constant.\n",
       "[2] Standard Errors assume that the covariance matrix of the errors is correctly specified.\n",
       "\"\"\""
      ]
     },
     "execution_count": 10,
     "metadata": {},
     "output_type": "execute_result"
    }
   ],
   "source": [
    "model = OLS(np.asarray(df[outcome]), np.asarray(df[[common_cause, treatment]], dtype=np.float64))\n",
    "result = model.fit()\n",
    "result.summary()"
   ]
  }
 ],
 "metadata": {
  "kernelspec": {
   "display_name": "Python 3",
   "language": "python",
   "name": "python3"
  },
  "language_info": {
   "codemirror_mode": {
    "name": "ipython",
    "version": 3
   },
   "file_extension": ".py",
   "mimetype": "text/x-python",
   "name": "python",
   "nbconvert_exporter": "python",
   "pygments_lexer": "ipython3",
   "version": "3.8.10"
  },
  "toc": {
   "base_numbering": 1,
   "nav_menu": {},
   "number_sections": false,
   "sideBar": true,
   "skip_h1_title": true,
   "title_cell": "Table of Contents",
   "title_sidebar": "Contents",
   "toc_cell": false,
   "toc_position": {},
   "toc_section_display": true,
   "toc_window_display": false
  }
 },
 "nbformat": 4,
 "nbformat_minor": 4
}
