{
 "cells": [
  {
   "cell_type": "markdown",
   "metadata": {},
   "source": [
    "# Demo for the DoWhy causal API\n",
    "We show a simple example of adding a causal extension to any dataframe. "
   ]
  },
  {
   "cell_type": "code",
   "execution_count": 1,
   "metadata": {
    "execution": {
     "iopub.execute_input": "2022-07-20T18:54:52.639254Z",
     "iopub.status.busy": "2022-07-20T18:54:52.639000Z",
     "iopub.status.idle": "2022-07-20T18:54:53.773510Z",
     "shell.execute_reply": "2022-07-20T18:54:53.772796Z"
    }
   },
   "outputs": [
    {
     "name": "stdout",
     "output_type": "stream",
     "text": [
      "keywords are unexpanded, not using\n"
     ]
    }
   ],
   "source": [
    "import dowhy.datasets\n",
    "import dowhy.api\n",
    "\n",
    "import numpy as np\n",
    "import pandas as pd\n",
    "\n",
    "from statsmodels.api import OLS"
   ]
  },
  {
   "cell_type": "code",
   "execution_count": 2,
   "metadata": {
    "execution": {
     "iopub.execute_input": "2022-07-20T18:54:53.777868Z",
     "iopub.status.busy": "2022-07-20T18:54:53.777247Z",
     "iopub.status.idle": "2022-07-20T18:54:53.821208Z",
     "shell.execute_reply": "2022-07-20T18:54:53.820527Z"
    }
   },
   "outputs": [
    {
     "data": {
      "text/html": [
       "<div>\n",
       "<style scoped>\n",
       "    .dataframe tbody tr th:only-of-type {\n",
       "        vertical-align: middle;\n",
       "    }\n",
       "\n",
       "    .dataframe tbody tr th {\n",
       "        vertical-align: top;\n",
       "    }\n",
       "\n",
       "    .dataframe thead th {\n",
       "        text-align: right;\n",
       "    }\n",
       "</style>\n",
       "<table border=\"1\" class=\"dataframe\">\n",
       "  <thead>\n",
       "    <tr style=\"text-align: right;\">\n",
       "      <th></th>\n",
       "      <th>W0</th>\n",
       "      <th>v0</th>\n",
       "      <th>y</th>\n",
       "    </tr>\n",
       "  </thead>\n",
       "  <tbody>\n",
       "    <tr>\n",
       "      <th>0</th>\n",
       "      <td>-2.353688</td>\n",
       "      <td>False</td>\n",
       "      <td>-5.283221</td>\n",
       "    </tr>\n",
       "    <tr>\n",
       "      <th>1</th>\n",
       "      <td>-3.099100</td>\n",
       "      <td>False</td>\n",
       "      <td>-4.179467</td>\n",
       "    </tr>\n",
       "    <tr>\n",
       "      <th>2</th>\n",
       "      <td>0.376163</td>\n",
       "      <td>True</td>\n",
       "      <td>6.320346</td>\n",
       "    </tr>\n",
       "    <tr>\n",
       "      <th>3</th>\n",
       "      <td>-2.102649</td>\n",
       "      <td>False</td>\n",
       "      <td>-4.195261</td>\n",
       "    </tr>\n",
       "    <tr>\n",
       "      <th>4</th>\n",
       "      <td>0.787378</td>\n",
       "      <td>True</td>\n",
       "      <td>4.532105</td>\n",
       "    </tr>\n",
       "    <tr>\n",
       "      <th>...</th>\n",
       "      <td>...</td>\n",
       "      <td>...</td>\n",
       "      <td>...</td>\n",
       "    </tr>\n",
       "    <tr>\n",
       "      <th>995</th>\n",
       "      <td>0.125928</td>\n",
       "      <td>False</td>\n",
       "      <td>-2.491909</td>\n",
       "    </tr>\n",
       "    <tr>\n",
       "      <th>996</th>\n",
       "      <td>-0.853559</td>\n",
       "      <td>False</td>\n",
       "      <td>-1.303539</td>\n",
       "    </tr>\n",
       "    <tr>\n",
       "      <th>997</th>\n",
       "      <td>-0.484098</td>\n",
       "      <td>False</td>\n",
       "      <td>-2.113869</td>\n",
       "    </tr>\n",
       "    <tr>\n",
       "      <th>998</th>\n",
       "      <td>-0.286770</td>\n",
       "      <td>True</td>\n",
       "      <td>3.641265</td>\n",
       "    </tr>\n",
       "    <tr>\n",
       "      <th>999</th>\n",
       "      <td>-1.943931</td>\n",
       "      <td>False</td>\n",
       "      <td>-3.962178</td>\n",
       "    </tr>\n",
       "  </tbody>\n",
       "</table>\n",
       "<p>1000 rows × 3 columns</p>\n",
       "</div>"
      ],
      "text/plain": [
       "           W0     v0         y\n",
       "0   -2.353688  False -5.283221\n",
       "1   -3.099100  False -4.179467\n",
       "2    0.376163   True  6.320346\n",
       "3   -2.102649  False -4.195261\n",
       "4    0.787378   True  4.532105\n",
       "..        ...    ...       ...\n",
       "995  0.125928  False -2.491909\n",
       "996 -0.853559  False -1.303539\n",
       "997 -0.484098  False -2.113869\n",
       "998 -0.286770   True  3.641265\n",
       "999 -1.943931  False -3.962178\n",
       "\n",
       "[1000 rows x 3 columns]"
      ]
     },
     "execution_count": 2,
     "metadata": {},
     "output_type": "execute_result"
    }
   ],
   "source": [
    "data = dowhy.datasets.linear_dataset(beta=5,\n",
    "        num_common_causes=1,\n",
    "        num_instruments = 0,\n",
    "        num_samples=1000,\n",
    "        treatment_is_binary=True)\n",
    "df = data['df']\n",
    "df['y'] = df['y'] + np.random.normal(size=len(df)) # Adding noise to data. Without noise, the variance in Y|X, Z is zero, and mcmc fails.\n",
    "#data['dot_graph'] = 'digraph { v ->y;X0-> v;X0-> y;}'\n",
    "\n",
    "treatment= data[\"treatment_name\"][0]\n",
    "outcome = data[\"outcome_name\"][0]\n",
    "common_cause = data[\"common_causes_names\"][0]\n",
    "df"
   ]
  },
  {
   "cell_type": "code",
   "execution_count": 3,
   "metadata": {
    "execution": {
     "iopub.execute_input": "2022-07-20T18:54:53.824297Z",
     "iopub.status.busy": "2022-07-20T18:54:53.823852Z",
     "iopub.status.idle": "2022-07-20T18:54:54.562321Z",
     "shell.execute_reply": "2022-07-20T18:54:54.561743Z"
    }
   },
   "outputs": [
    {
     "data": {
      "text/plain": [
       "<AxesSubplot:xlabel='v0'>"
      ]
     },
     "execution_count": 3,
     "metadata": {},
     "output_type": "execute_result"
    },
    {
     "data": {
      "image/png": "[encoded data removed]",
      "text/plain": [
       "<Figure size 432x288 with 1 Axes>"
      ]
     },
     "metadata": {
      "needs_background": "light"
     },
     "output_type": "display_data"
    }
   ],
   "source": [
    "# data['df'] is just a regular pandas.DataFrame\n",
    "df.causal.do(x=treatment,\n",
    "                     variable_types={treatment: 'b', outcome: 'c', common_cause: 'c'},\n",
    "                     outcome=outcome,\n",
    "                     common_causes=[common_cause],\n",
    "                     proceed_when_unidentifiable=True).groupby(treatment).mean().plot(y=outcome, kind='bar')"
   ]
  },
  {
   "cell_type": "code",
   "execution_count": 4,
   "metadata": {
    "execution": {
     "iopub.execute_input": "2022-07-20T18:54:54.565651Z",
     "iopub.status.busy": "2022-07-20T18:54:54.565106Z",
     "iopub.status.idle": "2022-07-20T18:54:54.660073Z",
     "shell.execute_reply": "2022-07-20T18:54:54.659545Z"
    }
   },
   "outputs": [
    {
     "data": {
      "text/plain": [
       "<AxesSubplot:xlabel='v0'>"
      ]
     },
     "execution_count": 4,
     "metadata": {},
     "output_type": "execute_result"
    },
    {
     "data": {
      "image/png": "[encoded data removed]",
      "text/plain": [
       "<Figure size 432x288 with 1 Axes>"
      ]
     },
     "metadata": {
      "needs_background": "light"
     },
     "output_type": "display_data"
    }
   ],
   "source": [
    "df.causal.do(x={treatment: 1}, \n",
    "              variable_types={treatment:'b', outcome: 'c', common_cause: 'c'}, \n",
    "              outcome=outcome,\n",
    "              method='weighting', \n",
    "              common_causes=[common_cause],\n",
    "              proceed_when_unidentifiable=True).groupby(treatment).mean().plot(y=outcome, kind='bar')"
   ]
  },
  {
   "cell_type": "code",
   "execution_count": 5,
   "metadata": {
    "execution": {
     "iopub.execute_input": "2022-07-20T18:54:54.663016Z",
     "iopub.status.busy": "2022-07-20T18:54:54.662590Z",
     "iopub.status.idle": "2022-07-20T18:54:54.693174Z",
     "shell.execute_reply": "2022-07-20T18:54:54.692427Z"
    }
   },
   "outputs": [],
   "source": [
    "cdf_1 = df.causal.do(x={treatment: 1}, \n",
    "              variable_types={treatment: 'b', outcome: 'c', common_cause: 'c'}, \n",
    "              outcome=outcome, \n",
    "              dot_graph=data['dot_graph'],\n",
    "              proceed_when_unidentifiable=True)\n",
    "\n",
    "cdf_0 = df.causal.do(x={treatment: 0}, \n",
    "              variable_types={treatment: 'b', outcome: 'c', common_cause: 'c'}, \n",
    "              outcome=outcome, \n",
    "              dot_graph=data['dot_graph'],\n",
    "              proceed_when_unidentifiable=True)\n"
   ]
  },
  {
   "cell_type": "code",
   "execution_count": 6,
   "metadata": {
    "execution": {
     "iopub.execute_input": "2022-07-20T18:54:54.696418Z",
     "iopub.status.busy": "2022-07-20T18:54:54.695797Z",
     "iopub.status.idle": "2022-07-20T18:54:54.708660Z",
     "shell.execute_reply": "2022-07-20T18:54:54.708150Z"
    },
    "scrolled": true
   },
   "outputs": [
    {
     "data": {
      "text/html": [
       "<div>\n",
       "<style scoped>\n",
       "    .dataframe tbody tr th:only-of-type {\n",
       "        vertical-align: middle;\n",
       "    }\n",
       "\n",
       "    .dataframe tbody tr th {\n",
       "        vertical-align: top;\n",
       "    }\n",
       "\n",
       "    .dataframe thead th {\n",
       "        text-align: right;\n",
       "    }\n",
       "</style>\n",
       "<table border=\"1\" class=\"dataframe\">\n",
       "  <thead>\n",
       "    <tr style=\"text-align: right;\">\n",
       "      <th></th>\n",
       "      <th>W0</th>\n",
       "      <th>v0</th>\n",
       "      <th>y</th>\n",
       "      <th>propensity_score</th>\n",
       "      <th>weight</th>\n",
       "    </tr>\n",
       "  </thead>\n",
       "  <tbody>\n",
       "    <tr>\n",
       "      <th>0</th>\n",
       "      <td>-0.381384</td>\n",
       "      <td>False</td>\n",
       "      <td>0.148515</td>\n",
       "      <td>0.696738</td>\n",
       "      <td>1.435260</td>\n",
       "    </tr>\n",
       "    <tr>\n",
       "      <th>1</th>\n",
       "      <td>-0.692914</td>\n",
       "      <td>False</td>\n",
       "      <td>-0.996492</td>\n",
       "      <td>0.823302</td>\n",
       "      <td>1.214622</td>\n",
       "    </tr>\n",
       "    <tr>\n",
       "      <th>2</th>\n",
       "      <td>-0.341224</td>\n",
       "      <td>False</td>\n",
       "      <td>-1.413034</td>\n",
       "      <td>0.677141</td>\n",
       "      <td>1.476797</td>\n",
       "    </tr>\n",
       "    <tr>\n",
       "      <th>3</th>\n",
       "      <td>0.995339</td>\n",
       "      <td>False</td>\n",
       "      <td>2.480074</td>\n",
       "      <td>0.091715</td>\n",
       "      <td>10.903348</td>\n",
       "    </tr>\n",
       "    <tr>\n",
       "      <th>4</th>\n",
       "      <td>-1.819528</td>\n",
       "      <td>False</td>\n",
       "      <td>-2.025802</td>\n",
       "      <td>0.983632</td>\n",
       "      <td>1.016641</td>\n",
       "    </tr>\n",
       "    <tr>\n",
       "      <th>...</th>\n",
       "      <td>...</td>\n",
       "      <td>...</td>\n",
       "      <td>...</td>\n",
       "      <td>...</td>\n",
       "      <td>...</td>\n",
       "    </tr>\n",
       "    <tr>\n",
       "      <th>995</th>\n",
       "      <td>-0.052375</td>\n",
       "      <td>False</td>\n",
       "      <td>0.549894</td>\n",
       "      <td>0.521256</td>\n",
       "      <td>1.918442</td>\n",
       "    </tr>\n",
       "    <tr>\n",
       "      <th>996</th>\n",
       "      <td>0.780770</td>\n",
       "      <td>False</td>\n",
       "      <td>1.725949</td>\n",
       "      <td>0.141138</td>\n",
       "      <td>7.085283</td>\n",
       "    </tr>\n",
       "    <tr>\n",
       "      <th>997</th>\n",
       "      <td>0.407065</td>\n",
       "      <td>False</td>\n",
       "      <td>-0.061821</td>\n",
       "      <td>0.277340</td>\n",
       "      <td>3.605681</td>\n",
       "    </tr>\n",
       "    <tr>\n",
       "      <th>998</th>\n",
       "      <td>-1.502605</td>\n",
       "      <td>False</td>\n",
       "      <td>-2.075964</td>\n",
       "      <td>0.966965</td>\n",
       "      <td>1.034164</td>\n",
       "    </tr>\n",
       "    <tr>\n",
       "      <th>999</th>\n",
       "      <td>-0.527630</td>\n",
       "      <td>False</td>\n",
       "      <td>-0.851038</td>\n",
       "      <td>0.762012</td>\n",
       "      <td>1.312315</td>\n",
       "    </tr>\n",
       "  </tbody>\n",
       "</table>\n",
       "<p>1000 rows × 5 columns</p>\n",
       "</div>"
      ],
      "text/plain": [
       "           W0     v0         y  propensity_score     weight\n",
       "0   -0.381384  False  0.148515          0.696738   1.435260\n",
       "1   -0.692914  False -0.996492          0.823302   1.214622\n",
       "2   -0.341224  False -1.413034          0.677141   1.476797\n",
       "3    0.995339  False  2.480074          0.091715  10.903348\n",
       "4   -1.819528  False -2.025802          0.983632   1.016641\n",
       "..        ...    ...       ...               ...        ...\n",
       "995 -0.052375  False  0.549894          0.521256   1.918442\n",
       "996  0.780770  False  1.725949          0.141138   7.085283\n",
       "997  0.407065  False -0.061821          0.277340   3.605681\n",
       "998 -1.502605  False -2.075964          0.966965   1.034164\n",
       "999 -0.527630  False -0.851038          0.762012   1.312315\n",
       "\n",
       "[1000 rows x 5 columns]"
      ]
     },
     "execution_count": 6,
     "metadata": {},
     "output_type": "execute_result"
    }
   ],
   "source": [
    "cdf_0"
   ]
  },
  {
   "cell_type": "code",
   "execution_count": 7,
   "metadata": {
    "execution": {
     "iopub.execute_input": "2022-07-20T18:54:54.711409Z",
     "iopub.status.busy": "2022-07-20T18:54:54.711075Z",
     "iopub.status.idle": "2022-07-20T18:54:54.720832Z",
     "shell.execute_reply": "2022-07-20T18:54:54.720204Z"
    }
   },
   "outputs": [
    {
     "data": {
      "text/html": [
       "<div>\n",
       "<style scoped>\n",
       "    .dataframe tbody tr th:only-of-type {\n",
       "        vertical-align: middle;\n",
       "    }\n",
       "\n",
       "    .dataframe tbody tr th {\n",
       "        vertical-align: top;\n",
       "    }\n",
       "\n",
       "    .dataframe thead th {\n",
       "        text-align: right;\n",
       "    }\n",
       "</style>\n",
       "<table border=\"1\" class=\"dataframe\">\n",
       "  <thead>\n",
       "    <tr style=\"text-align: right;\">\n",
       "      <th></th>\n",
       "      <th>W0</th>\n",
       "      <th>v0</th>\n",
       "      <th>y</th>\n",
       "      <th>propensity_score</th>\n",
       "      <th>weight</th>\n",
       "    </tr>\n",
       "  </thead>\n",
       "  <tbody>\n",
       "    <tr>\n",
       "      <th>0</th>\n",
       "      <td>-0.806837</td>\n",
       "      <td>True</td>\n",
       "      <td>3.152226</td>\n",
       "      <td>0.142162</td>\n",
       "      <td>7.034205</td>\n",
       "    </tr>\n",
       "    <tr>\n",
       "      <th>1</th>\n",
       "      <td>-1.054148</td>\n",
       "      <td>True</td>\n",
       "      <td>3.086059</td>\n",
       "      <td>0.086372</td>\n",
       "      <td>11.577759</td>\n",
       "    </tr>\n",
       "    <tr>\n",
       "      <th>2</th>\n",
       "      <td>-0.175199</td>\n",
       "      <td>True</td>\n",
       "      <td>4.510599</td>\n",
       "      <td>0.410029</td>\n",
       "      <td>2.438850</td>\n",
       "    </tr>\n",
       "    <tr>\n",
       "      <th>3</th>\n",
       "      <td>0.507889</td>\n",
       "      <td>True</td>\n",
       "      <td>5.912638</td>\n",
       "      <td>0.766120</td>\n",
       "      <td>1.305279</td>\n",
       "    </tr>\n",
       "    <tr>\n",
       "      <th>4</th>\n",
       "      <td>-0.186526</td>\n",
       "      <td>True</td>\n",
       "      <td>4.984382</td>\n",
       "      <td>0.403825</td>\n",
       "      <td>2.476321</td>\n",
       "    </tr>\n",
       "    <tr>\n",
       "      <th>...</th>\n",
       "      <td>...</td>\n",
       "      <td>...</td>\n",
       "      <td>...</td>\n",
       "      <td>...</td>\n",
       "      <td>...</td>\n",
       "    </tr>\n",
       "    <tr>\n",
       "      <th>995</th>\n",
       "      <td>0.376323</td>\n",
       "      <td>True</td>\n",
       "      <td>6.461822</td>\n",
       "      <td>0.708461</td>\n",
       "      <td>1.411511</td>\n",
       "    </tr>\n",
       "    <tr>\n",
       "      <th>996</th>\n",
       "      <td>-1.284725</td>\n",
       "      <td>True</td>\n",
       "      <td>2.714874</td>\n",
       "      <td>0.053046</td>\n",
       "      <td>18.851425</td>\n",
       "    </tr>\n",
       "    <tr>\n",
       "      <th>997</th>\n",
       "      <td>1.240032</td>\n",
       "      <td>True</td>\n",
       "      <td>6.965658</td>\n",
       "      <td>0.945228</td>\n",
       "      <td>1.057946</td>\n",
       "    </tr>\n",
       "    <tr>\n",
       "      <th>998</th>\n",
       "      <td>-1.894933</td>\n",
       "      <td>True</td>\n",
       "      <td>2.071187</td>\n",
       "      <td>0.013829</td>\n",
       "      <td>72.310707</td>\n",
       "    </tr>\n",
       "    <tr>\n",
       "      <th>999</th>\n",
       "      <td>0.535724</td>\n",
       "      <td>True</td>\n",
       "      <td>5.026314</td>\n",
       "      <td>0.777249</td>\n",
       "      <td>1.286589</td>\n",
       "    </tr>\n",
       "  </tbody>\n",
       "</table>\n",
       "<p>1000 rows × 5 columns</p>\n",
       "</div>"
      ],
      "text/plain": [
       "           W0    v0         y  propensity_score     weight\n",
       "0   -0.806837  True  3.152226          0.142162   7.034205\n",
       "1   -1.054148  True  3.086059          0.086372  11.577759\n",
       "2   -0.175199  True  4.510599          0.410029   2.438850\n",
       "3    0.507889  True  5.912638          0.766120   1.305279\n",
       "4   -0.186526  True  4.984382          0.403825   2.476321\n",
       "..        ...   ...       ...               ...        ...\n",
       "995  0.376323  True  6.461822          0.708461   1.411511\n",
       "996 -1.284725  True  2.714874          0.053046  18.851425\n",
       "997  1.240032  True  6.965658          0.945228   1.057946\n",
       "998 -1.894933  True  2.071187          0.013829  72.310707\n",
       "999  0.535724  True  5.026314          0.777249   1.286589\n",
       "\n",
       "[1000 rows x 5 columns]"
      ]
     },
     "execution_count": 7,
     "metadata": {},
     "output_type": "execute_result"
    }
   ],
   "source": [
    "cdf_1"
   ]
  },
  {
   "cell_type": "markdown",
   "metadata": {},
   "source": [
    "## Comparing the estimate to Linear Regression\n",
    "First, estimating the effect using the causal data frame, and the 95% confidence interval."
   ]
  },
  {
   "cell_type": "code",
   "execution_count": 8,
   "metadata": {
    "execution": {
     "iopub.execute_input": "2022-07-20T18:54:54.723748Z",
     "iopub.status.busy": "2022-07-20T18:54:54.723529Z",
     "iopub.status.idle": "2022-07-20T18:54:54.820424Z",
     "shell.execute_reply": "2022-07-20T18:54:54.819743Z"
    }
   },
   "outputs": [
    {
     "data": {
      "image/png": "[encoded data removed]",
      "text/latex": [
       "$\\displaystyle 4.96064170277652$"
      ],
      "text/plain": [
       "4.960641702776519"
      ]
     },
     "execution_count": 8,
     "metadata": {},
     "output_type": "execute_result"
    }
   ],
   "source": [
    "(cdf_1['y'] - cdf_0['y']).mean()"
   ]
  },
  {
   "cell_type": "code",
   "execution_count": 9,
   "metadata": {
    "execution": {
     "iopub.execute_input": "2022-07-20T18:54:54.823657Z",
     "iopub.status.busy": "2022-07-20T18:54:54.823159Z",
     "iopub.status.idle": "2022-07-20T18:54:54.847925Z",
     "shell.execute_reply": "2022-07-20T18:54:54.847292Z"
    }
   },
   "outputs": [
    {
     "data": {
      "image/png": "[encoded data removed]",
      "text/latex": [
       "$\\displaystyle 0.165801092148522$"
      ],
      "text/plain": [
       "0.16580109214852207"
      ]
     },
     "execution_count": 9,
     "metadata": {},
     "output_type": "execute_result"
    }
   ],
   "source": [
    "1.96*(cdf_1['y'] - cdf_0['y']).std() / np.sqrt(len(df))"
   ]
  },
  {
   "cell_type": "markdown",
   "metadata": {},
   "source": [
    "Comparing to the estimate from OLS."
   ]
  },
  {
   "cell_type": "code",
   "execution_count": 10,
   "metadata": {
    "execution": {
     "iopub.execute_input": "2022-07-20T18:54:54.850944Z",
     "iopub.status.busy": "2022-07-20T18:54:54.850508Z",
     "iopub.status.idle": "2022-07-20T18:54:54.864140Z",
     "shell.execute_reply": "2022-07-20T18:54:54.863526Z"
    }
   },
   "outputs": [
    {
     "data": {
      "text/html": [
       "<table class=\"simpletable\">\n",
       "<caption>OLS Regression Results</caption>\n",
       "<tr>\n",
       "  <th>Dep. Variable:</th>            <td>y</td>        <th>  R-squared (uncentered):</th>      <td>   0.940</td>\n",
       "</tr>\n",
       "<tr>\n",
       "  <th>Model:</th>                   <td>OLS</td>       <th>  Adj. R-squared (uncentered):</th> <td>   0.939</td>\n",
       "</tr>\n",
       "<tr>\n",
       "  <th>Method:</th>             <td>Least Squares</td>  <th>  F-statistic:       </th>          <td>   7752.</td>\n",
       "</tr>\n",
       "<tr>\n",
       "  <th>Date:</th>             <td>Wed, 20 Jul 2022</td> <th>  Prob (F-statistic):</th>           <td>  0.00</td> \n",
       "</tr>\n",
       "<tr>\n",
       "  <th>Time:</th>                 <td>18:54:54</td>     <th>  Log-Likelihood:    </th>          <td> -1403.8</td>\n",
       "</tr>\n",
       "<tr>\n",
       "  <th>No. Observations:</th>      <td>  1000</td>      <th>  AIC:               </th>          <td>   2812.</td>\n",
       "</tr>\n",
       "<tr>\n",
       "  <th>Df Residuals:</th>          <td>   998</td>      <th>  BIC:               </th>          <td>   2821.</td>\n",
       "</tr>\n",
       "<tr>\n",
       "  <th>Df Model:</th>              <td>     2</td>      <th>                     </th>              <td> </td>   \n",
       "</tr>\n",
       "<tr>\n",
       "  <th>Covariance Type:</th>      <td>nonrobust</td>    <th>                     </th>              <td> </td>   \n",
       "</tr>\n",
       "</table>\n",
       "<table class=\"simpletable\">\n",
       "<tr>\n",
       "   <td></td>     <th>coef</th>     <th>std err</th>      <th>t</th>      <th>P>|t|</th>  <th>[0.025</th>    <th>0.975]</th>  \n",
       "</tr>\n",
       "<tr>\n",
       "  <th>x1</th> <td>    1.7177</td> <td>    0.030</td> <td>   57.489</td> <td> 0.000</td> <td>    1.659</td> <td>    1.776</td>\n",
       "</tr>\n",
       "<tr>\n",
       "  <th>x2</th> <td>    4.9362</td> <td>    0.052</td> <td>   94.898</td> <td> 0.000</td> <td>    4.834</td> <td>    5.038</td>\n",
       "</tr>\n",
       "</table>\n",
       "<table class=\"simpletable\">\n",
       "<tr>\n",
       "  <th>Omnibus:</th>       <td> 3.505</td> <th>  Durbin-Watson:     </th> <td>   1.915</td>\n",
       "</tr>\n",
       "<tr>\n",
       "  <th>Prob(Omnibus):</th> <td> 0.173</td> <th>  Jarque-Bera (JB):  </th> <td>   3.296</td>\n",
       "</tr>\n",
       "<tr>\n",
       "  <th>Skew:</th>          <td>-0.090</td> <th>  Prob(JB):          </th> <td>   0.192</td>\n",
       "</tr>\n",
       "<tr>\n",
       "  <th>Kurtosis:</th>      <td> 2.785</td> <th>  Cond. No.          </th> <td>    1.83</td>\n",
       "</tr>\n",
       "</table><br/><br/>Notes:<br/>[1] R² is computed without centering (uncentered) since the model does not contain a constant.<br/>[2] Standard Errors assume that the covariance matrix of the errors is correctly specified."
      ],
      "text/plain": [
       "<class 'statsmodels.iolib.summary.Summary'>\n",
       "\"\"\"\n",
       "                                 OLS Regression Results                                \n",
       "=======================================================================================\n",
       "Dep. Variable:                      y   R-squared (uncentered):                   0.940\n",
       "Model:                            OLS   Adj. R-squared (uncentered):              0.939\n",
       "Method:                 Least Squares   F-statistic:                              7752.\n",
       "Date:                Wed, 20 Jul 2022   Prob (F-statistic):                        0.00\n",
       "Time:                        18:54:54   Log-Likelihood:                         -1403.8\n",
       "No. Observations:                1000   AIC:                                      2812.\n",
       "Df Residuals:                     998   BIC:                                      2821.\n",
       "Df Model:                           2                                                  \n",
       "Covariance Type:            nonrobust                                                  \n",
       "==============================================================================\n",
       "                 coef    std err          t      P>|t|      [0.025      0.975]\n",
       "------------------------------------------------------------------------------\n",
       "x1             1.7177      0.030     57.489      0.000       1.659       1.776\n",
       "x2             4.9362      0.052     94.898      0.000       4.834       5.038\n",
       "==============================================================================\n",
       "Omnibus:                        3.505   Durbin-Watson:                   1.915\n",
       "Prob(Omnibus):                  0.173   Jarque-Bera (JB):                3.296\n",
       "Skew:                          -0.090   Prob(JB):                        0.192\n",
       "Kurtosis:                       2.785   Cond. No.                         1.83\n",
       "==============================================================================\n",
       "\n",
       "Notes:\n",
       "[1] R² is computed without centering (uncentered) since the model does not contain a constant.\n",
       "[2] Standard Errors assume that the covariance matrix of the errors is correctly specified.\n",
       "\"\"\""
      ]
     },
     "execution_count": 10,
     "metadata": {},
     "output_type": "execute_result"
    }
   ],
   "source": [
    "model = OLS(np.asarray(df[outcome]), np.asarray(df[[common_cause, treatment]], dtype=np.float64))\n",
    "result = model.fit()\n",
    "result.summary()"
   ]
  }
 ],
 "metadata": {
  "kernelspec": {
   "display_name": "Python 3",
   "language": "python",
   "name": "python3"
  },
  "language_info": {
   "codemirror_mode": {
    "name": "ipython",
    "version": 3
   },
   "file_extension": ".py",
   "mimetype": "text/x-python",
   "name": "python",
   "nbconvert_exporter": "python",
   "pygments_lexer": "ipython3",
   "version": "3.8.10"
  },
  "toc": {
   "base_numbering": 1,
   "nav_menu": {},
   "number_sections": false,
   "sideBar": true,
   "skip_h1_title": true,
   "title_cell": "Table of Contents",
   "title_sidebar": "Contents",
   "toc_cell": false,
   "toc_position": {},
   "toc_section_display": true,
   "toc_window_display": false
  }
 },
 "nbformat": 4,
 "nbformat_minor": 4
}
