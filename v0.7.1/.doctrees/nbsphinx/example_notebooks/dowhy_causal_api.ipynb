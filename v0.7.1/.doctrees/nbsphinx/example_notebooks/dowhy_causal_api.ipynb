{
 "cells": [
  {
   "cell_type": "markdown",
   "metadata": {},
   "source": [
    "# Demo for the DoWhy causal API\n",
    "We show a simple example of adding a causal extension to any dataframe. "
   ]
  },
  {
   "cell_type": "code",
   "execution_count": 1,
   "metadata": {
    "execution": {
     "iopub.execute_input": "2022-10-19T15:30:54.473765Z",
     "iopub.status.busy": "2022-10-19T15:30:54.473255Z",
     "iopub.status.idle": "2022-10-19T15:30:56.840026Z",
     "shell.execute_reply": "2022-10-19T15:30:56.838949Z"
    }
   },
   "outputs": [],
   "source": [
    "import dowhy.datasets\n",
    "import dowhy.api\n",
    "\n",
    "import numpy as np\n",
    "import pandas as pd\n",
    "\n",
    "from statsmodels.api import OLS"
   ]
  },
  {
   "cell_type": "code",
   "execution_count": 2,
   "metadata": {
    "execution": {
     "iopub.execute_input": "2022-10-19T15:30:56.847111Z",
     "iopub.status.busy": "2022-10-19T15:30:56.845347Z",
     "iopub.status.idle": "2022-10-19T15:30:56.899114Z",
     "shell.execute_reply": "2022-10-19T15:30:56.898240Z"
    }
   },
   "outputs": [
    {
     "data": {
      "text/html": [
       "<div>\n",
       "<style scoped>\n",
       "    .dataframe tbody tr th:only-of-type {\n",
       "        vertical-align: middle;\n",
       "    }\n",
       "\n",
       "    .dataframe tbody tr th {\n",
       "        vertical-align: top;\n",
       "    }\n",
       "\n",
       "    .dataframe thead th {\n",
       "        text-align: right;\n",
       "    }\n",
       "</style>\n",
       "<table border=\"1\" class=\"dataframe\">\n",
       "  <thead>\n",
       "    <tr style=\"text-align: right;\">\n",
       "      <th></th>\n",
       "      <th>W0</th>\n",
       "      <th>v0</th>\n",
       "      <th>y</th>\n",
       "    </tr>\n",
       "  </thead>\n",
       "  <tbody>\n",
       "    <tr>\n",
       "      <th>0</th>\n",
       "      <td>0.196882</td>\n",
       "      <td>True</td>\n",
       "      <td>6.572437</td>\n",
       "    </tr>\n",
       "    <tr>\n",
       "      <th>1</th>\n",
       "      <td>0.572213</td>\n",
       "      <td>True</td>\n",
       "      <td>7.522597</td>\n",
       "    </tr>\n",
       "    <tr>\n",
       "      <th>2</th>\n",
       "      <td>0.915397</td>\n",
       "      <td>True</td>\n",
       "      <td>6.001227</td>\n",
       "    </tr>\n",
       "    <tr>\n",
       "      <th>3</th>\n",
       "      <td>-0.528673</td>\n",
       "      <td>False</td>\n",
       "      <td>-0.812860</td>\n",
       "    </tr>\n",
       "    <tr>\n",
       "      <th>4</th>\n",
       "      <td>0.358692</td>\n",
       "      <td>True</td>\n",
       "      <td>4.504694</td>\n",
       "    </tr>\n",
       "    <tr>\n",
       "      <th>...</th>\n",
       "      <td>...</td>\n",
       "      <td>...</td>\n",
       "      <td>...</td>\n",
       "    </tr>\n",
       "    <tr>\n",
       "      <th>995</th>\n",
       "      <td>-0.513807</td>\n",
       "      <td>False</td>\n",
       "      <td>0.801536</td>\n",
       "    </tr>\n",
       "    <tr>\n",
       "      <th>996</th>\n",
       "      <td>0.526521</td>\n",
       "      <td>True</td>\n",
       "      <td>6.140910</td>\n",
       "    </tr>\n",
       "    <tr>\n",
       "      <th>997</th>\n",
       "      <td>2.238583</td>\n",
       "      <td>True</td>\n",
       "      <td>9.246269</td>\n",
       "    </tr>\n",
       "    <tr>\n",
       "      <th>998</th>\n",
       "      <td>-0.488478</td>\n",
       "      <td>False</td>\n",
       "      <td>-1.706225</td>\n",
       "    </tr>\n",
       "    <tr>\n",
       "      <th>999</th>\n",
       "      <td>0.387045</td>\n",
       "      <td>False</td>\n",
       "      <td>0.496522</td>\n",
       "    </tr>\n",
       "  </tbody>\n",
       "</table>\n",
       "<p>1000 rows × 3 columns</p>\n",
       "</div>"
      ],
      "text/plain": [
       "           W0     v0         y\n",
       "0    0.196882   True  6.572437\n",
       "1    0.572213   True  7.522597\n",
       "2    0.915397   True  6.001227\n",
       "3   -0.528673  False -0.812860\n",
       "4    0.358692   True  4.504694\n",
       "..        ...    ...       ...\n",
       "995 -0.513807  False  0.801536\n",
       "996  0.526521   True  6.140910\n",
       "997  2.238583   True  9.246269\n",
       "998 -0.488478  False -1.706225\n",
       "999  0.387045  False  0.496522\n",
       "\n",
       "[1000 rows x 3 columns]"
      ]
     },
     "execution_count": 2,
     "metadata": {},
     "output_type": "execute_result"
    }
   ],
   "source": [
    "data = dowhy.datasets.linear_dataset(beta=5,\n",
    "        num_common_causes=1,\n",
    "        num_instruments = 0,\n",
    "        num_samples=1000,\n",
    "        treatment_is_binary=True)\n",
    "df = data['df']\n",
    "df['y'] = df['y'] + np.random.normal(size=len(df)) # Adding noise to data. Without noise, the variance in Y|X, Z is zero, and mcmc fails.\n",
    "#data['dot_graph'] = 'digraph { v ->y;X0-> v;X0-> y;}'\n",
    "\n",
    "treatment= data[\"treatment_name\"][0]\n",
    "outcome = data[\"outcome_name\"][0]\n",
    "common_cause = data[\"common_causes_names\"][0]\n",
    "df"
   ]
  },
  {
   "cell_type": "code",
   "execution_count": 3,
   "metadata": {
    "execution": {
     "iopub.execute_input": "2022-10-19T15:30:56.903581Z",
     "iopub.status.busy": "2022-10-19T15:30:56.903291Z",
     "iopub.status.idle": "2022-10-19T15:30:57.097747Z",
     "shell.execute_reply": "2022-10-19T15:30:57.096965Z"
    }
   },
   "outputs": [
    {
     "data": {
      "text/plain": [
       "<AxesSubplot: xlabel='v0'>"
      ]
     },
     "execution_count": 3,
     "metadata": {},
     "output_type": "execute_result"
    },
    {
     "data": {
      "image/png": "[encoded data removed]",
      "text/plain": [
       "<Figure size 640x480 with 1 Axes>"
      ]
     },
     "metadata": {},
     "output_type": "display_data"
    }
   ],
   "source": [
    "# data['df'] is just a regular pandas.DataFrame\n",
    "df.causal.do(x=treatment,\n",
    "                     variable_types={treatment: 'b', outcome: 'c', common_cause: 'c'},\n",
    "                     outcome=outcome,\n",
    "                     common_causes=[common_cause],\n",
    "                     proceed_when_unidentifiable=True).groupby(treatment).mean().plot(y=outcome, kind='bar')"
   ]
  },
  {
   "cell_type": "code",
   "execution_count": 4,
   "metadata": {
    "execution": {
     "iopub.execute_input": "2022-10-19T15:30:57.101804Z",
     "iopub.status.busy": "2022-10-19T15:30:57.101031Z",
     "iopub.status.idle": "2022-10-19T15:30:57.253101Z",
     "shell.execute_reply": "2022-10-19T15:30:57.252390Z"
    }
   },
   "outputs": [
    {
     "data": {
      "text/plain": [
       "<AxesSubplot: xlabel='v0'>"
      ]
     },
     "execution_count": 4,
     "metadata": {},
     "output_type": "execute_result"
    },
    {
     "data": {
      "image/png": "[encoded data removed]",
      "text/plain": [
       "<Figure size 640x480 with 1 Axes>"
      ]
     },
     "metadata": {},
     "output_type": "display_data"
    }
   ],
   "source": [
    "df.causal.do(x={treatment: 1}, \n",
    "              variable_types={treatment:'b', outcome: 'c', common_cause: 'c'}, \n",
    "              outcome=outcome,\n",
    "              method='weighting', \n",
    "              common_causes=[common_cause],\n",
    "              proceed_when_unidentifiable=True).groupby(treatment).mean().plot(y=outcome, kind='bar')"
   ]
  },
  {
   "cell_type": "code",
   "execution_count": 5,
   "metadata": {
    "execution": {
     "iopub.execute_input": "2022-10-19T15:30:57.256880Z",
     "iopub.status.busy": "2022-10-19T15:30:57.256153Z",
     "iopub.status.idle": "2022-10-19T15:30:57.298200Z",
     "shell.execute_reply": "2022-10-19T15:30:57.297241Z"
    }
   },
   "outputs": [],
   "source": [
    "cdf_1 = df.causal.do(x={treatment: 1}, \n",
    "              variable_types={treatment: 'b', outcome: 'c', common_cause: 'c'}, \n",
    "              outcome=outcome, \n",
    "              dot_graph=data['dot_graph'],\n",
    "              proceed_when_unidentifiable=True)\n",
    "\n",
    "cdf_0 = df.causal.do(x={treatment: 0}, \n",
    "              variable_types={treatment: 'b', outcome: 'c', common_cause: 'c'}, \n",
    "              outcome=outcome, \n",
    "              dot_graph=data['dot_graph'],\n",
    "              proceed_when_unidentifiable=True)\n"
   ]
  },
  {
   "cell_type": "code",
   "execution_count": 6,
   "metadata": {
    "execution": {
     "iopub.execute_input": "2022-10-19T15:30:57.303381Z",
     "iopub.status.busy": "2022-10-19T15:30:57.303078Z",
     "iopub.status.idle": "2022-10-19T15:30:57.317222Z",
     "shell.execute_reply": "2022-10-19T15:30:57.316416Z"
    },
    "scrolled": true
   },
   "outputs": [
    {
     "data": {
      "text/html": [
       "<div>\n",
       "<style scoped>\n",
       "    .dataframe tbody tr th:only-of-type {\n",
       "        vertical-align: middle;\n",
       "    }\n",
       "\n",
       "    .dataframe tbody tr th {\n",
       "        vertical-align: top;\n",
       "    }\n",
       "\n",
       "    .dataframe thead th {\n",
       "        text-align: right;\n",
       "    }\n",
       "</style>\n",
       "<table border=\"1\" class=\"dataframe\">\n",
       "  <thead>\n",
       "    <tr style=\"text-align: right;\">\n",
       "      <th></th>\n",
       "      <th>W0</th>\n",
       "      <th>v0</th>\n",
       "      <th>y</th>\n",
       "      <th>propensity_score</th>\n",
       "      <th>weight</th>\n",
       "    </tr>\n",
       "  </thead>\n",
       "  <tbody>\n",
       "    <tr>\n",
       "      <th>0</th>\n",
       "      <td>0.990746</td>\n",
       "      <td>False</td>\n",
       "      <td>2.590237</td>\n",
       "      <td>0.049776</td>\n",
       "      <td>20.090034</td>\n",
       "    </tr>\n",
       "    <tr>\n",
       "      <th>1</th>\n",
       "      <td>0.933770</td>\n",
       "      <td>False</td>\n",
       "      <td>0.226247</td>\n",
       "      <td>0.058265</td>\n",
       "      <td>17.163041</td>\n",
       "    </tr>\n",
       "    <tr>\n",
       "      <th>2</th>\n",
       "      <td>-0.844100</td>\n",
       "      <td>False</td>\n",
       "      <td>-2.666299</td>\n",
       "      <td>0.917645</td>\n",
       "      <td>1.089746</td>\n",
       "    </tr>\n",
       "    <tr>\n",
       "      <th>3</th>\n",
       "      <td>-0.306733</td>\n",
       "      <td>False</td>\n",
       "      <td>-0.287693</td>\n",
       "      <td>0.698680</td>\n",
       "      <td>1.431271</td>\n",
       "    </tr>\n",
       "    <tr>\n",
       "      <th>4</th>\n",
       "      <td>-0.806765</td>\n",
       "      <td>False</td>\n",
       "      <td>-2.809773</td>\n",
       "      <td>0.909019</td>\n",
       "      <td>1.100088</td>\n",
       "    </tr>\n",
       "    <tr>\n",
       "      <th>...</th>\n",
       "      <td>...</td>\n",
       "      <td>...</td>\n",
       "      <td>...</td>\n",
       "      <td>...</td>\n",
       "      <td>...</td>\n",
       "    </tr>\n",
       "    <tr>\n",
       "      <th>995</th>\n",
       "      <td>0.716922</td>\n",
       "      <td>False</td>\n",
       "      <td>0.407677</td>\n",
       "      <td>0.104399</td>\n",
       "      <td>9.578630</td>\n",
       "    </tr>\n",
       "    <tr>\n",
       "      <th>996</th>\n",
       "      <td>-0.024712</td>\n",
       "      <td>False</td>\n",
       "      <td>0.097778</td>\n",
       "      <td>0.504295</td>\n",
       "      <td>1.982965</td>\n",
       "    </tr>\n",
       "    <tr>\n",
       "      <th>997</th>\n",
       "      <td>1.100664</td>\n",
       "      <td>False</td>\n",
       "      <td>2.059952</td>\n",
       "      <td>0.036606</td>\n",
       "      <td>27.318108</td>\n",
       "    </tr>\n",
       "    <tr>\n",
       "      <th>998</th>\n",
       "      <td>0.233502</td>\n",
       "      <td>False</td>\n",
       "      <td>-1.113152</td>\n",
       "      <td>0.323637</td>\n",
       "      <td>3.089886</td>\n",
       "    </tr>\n",
       "    <tr>\n",
       "      <th>999</th>\n",
       "      <td>0.705584</td>\n",
       "      <td>False</td>\n",
       "      <td>0.770376</td>\n",
       "      <td>0.107537</td>\n",
       "      <td>9.299144</td>\n",
       "    </tr>\n",
       "  </tbody>\n",
       "</table>\n",
       "<p>1000 rows × 5 columns</p>\n",
       "</div>"
      ],
      "text/plain": [
       "           W0     v0         y  propensity_score     weight\n",
       "0    0.990746  False  2.590237          0.049776  20.090034\n",
       "1    0.933770  False  0.226247          0.058265  17.163041\n",
       "2   -0.844100  False -2.666299          0.917645   1.089746\n",
       "3   -0.306733  False -0.287693          0.698680   1.431271\n",
       "4   -0.806765  False -2.809773          0.909019   1.100088\n",
       "..        ...    ...       ...               ...        ...\n",
       "995  0.716922  False  0.407677          0.104399   9.578630\n",
       "996 -0.024712  False  0.097778          0.504295   1.982965\n",
       "997  1.100664  False  2.059952          0.036606  27.318108\n",
       "998  0.233502  False -1.113152          0.323637   3.089886\n",
       "999  0.705584  False  0.770376          0.107537   9.299144\n",
       "\n",
       "[1000 rows x 5 columns]"
      ]
     },
     "execution_count": 6,
     "metadata": {},
     "output_type": "execute_result"
    }
   ],
   "source": [
    "cdf_0"
   ]
  },
  {
   "cell_type": "code",
   "execution_count": 7,
   "metadata": {
    "execution": {
     "iopub.execute_input": "2022-10-19T15:30:57.320912Z",
     "iopub.status.busy": "2022-10-19T15:30:57.320240Z",
     "iopub.status.idle": "2022-10-19T15:30:57.332453Z",
     "shell.execute_reply": "2022-10-19T15:30:57.331660Z"
    }
   },
   "outputs": [
    {
     "data": {
      "text/html": [
       "<div>\n",
       "<style scoped>\n",
       "    .dataframe tbody tr th:only-of-type {\n",
       "        vertical-align: middle;\n",
       "    }\n",
       "\n",
       "    .dataframe tbody tr th {\n",
       "        vertical-align: top;\n",
       "    }\n",
       "\n",
       "    .dataframe thead th {\n",
       "        text-align: right;\n",
       "    }\n",
       "</style>\n",
       "<table border=\"1\" class=\"dataframe\">\n",
       "  <thead>\n",
       "    <tr style=\"text-align: right;\">\n",
       "      <th></th>\n",
       "      <th>W0</th>\n",
       "      <th>v0</th>\n",
       "      <th>y</th>\n",
       "      <th>propensity_score</th>\n",
       "      <th>weight</th>\n",
       "    </tr>\n",
       "  </thead>\n",
       "  <tbody>\n",
       "    <tr>\n",
       "      <th>0</th>\n",
       "      <td>-0.205621</td>\n",
       "      <td>True</td>\n",
       "      <td>3.240250</td>\n",
       "      <td>0.366874</td>\n",
       "      <td>2.725731</td>\n",
       "    </tr>\n",
       "    <tr>\n",
       "      <th>1</th>\n",
       "      <td>0.700188</td>\n",
       "      <td>True</td>\n",
       "      <td>6.598756</td>\n",
       "      <td>0.890941</td>\n",
       "      <td>1.122409</td>\n",
       "    </tr>\n",
       "    <tr>\n",
       "      <th>2</th>\n",
       "      <td>0.004086</td>\n",
       "      <td>True</td>\n",
       "      <td>3.912412</td>\n",
       "      <td>0.516729</td>\n",
       "      <td>1.935250</td>\n",
       "    </tr>\n",
       "    <tr>\n",
       "      <th>3</th>\n",
       "      <td>-0.017804</td>\n",
       "      <td>True</td>\n",
       "      <td>5.492929</td>\n",
       "      <td>0.500750</td>\n",
       "      <td>1.997006</td>\n",
       "    </tr>\n",
       "    <tr>\n",
       "      <th>4</th>\n",
       "      <td>1.286763</td>\n",
       "      <td>True</td>\n",
       "      <td>8.445182</td>\n",
       "      <td>0.978414</td>\n",
       "      <td>1.022062</td>\n",
       "    </tr>\n",
       "    <tr>\n",
       "      <th>...</th>\n",
       "      <td>...</td>\n",
       "      <td>...</td>\n",
       "      <td>...</td>\n",
       "      <td>...</td>\n",
       "      <td>...</td>\n",
       "    </tr>\n",
       "    <tr>\n",
       "      <th>995</th>\n",
       "      <td>-0.535059</td>\n",
       "      <td>True</td>\n",
       "      <td>2.332497</td>\n",
       "      <td>0.181235</td>\n",
       "      <td>5.517696</td>\n",
       "    </tr>\n",
       "    <tr>\n",
       "      <th>996</th>\n",
       "      <td>0.043812</td>\n",
       "      <td>True</td>\n",
       "      <td>5.765371</td>\n",
       "      <td>0.545620</td>\n",
       "      <td>1.832777</td>\n",
       "    </tr>\n",
       "    <tr>\n",
       "      <th>997</th>\n",
       "      <td>2.436207</td>\n",
       "      <td>True</td>\n",
       "      <td>9.148052</td>\n",
       "      <td>0.999233</td>\n",
       "      <td>1.000768</td>\n",
       "    </tr>\n",
       "    <tr>\n",
       "      <th>998</th>\n",
       "      <td>1.294090</td>\n",
       "      <td>True</td>\n",
       "      <td>7.809679</td>\n",
       "      <td>0.978861</td>\n",
       "      <td>1.021595</td>\n",
       "    </tr>\n",
       "    <tr>\n",
       "      <th>999</th>\n",
       "      <td>0.283836</td>\n",
       "      <td>True</td>\n",
       "      <td>4.465058</td>\n",
       "      <td>0.707680</td>\n",
       "      <td>1.413067</td>\n",
       "    </tr>\n",
       "  </tbody>\n",
       "</table>\n",
       "<p>1000 rows × 5 columns</p>\n",
       "</div>"
      ],
      "text/plain": [
       "           W0    v0         y  propensity_score    weight\n",
       "0   -0.205621  True  3.240250          0.366874  2.725731\n",
       "1    0.700188  True  6.598756          0.890941  1.122409\n",
       "2    0.004086  True  3.912412          0.516729  1.935250\n",
       "3   -0.017804  True  5.492929          0.500750  1.997006\n",
       "4    1.286763  True  8.445182          0.978414  1.022062\n",
       "..        ...   ...       ...               ...       ...\n",
       "995 -0.535059  True  2.332497          0.181235  5.517696\n",
       "996  0.043812  True  5.765371          0.545620  1.832777\n",
       "997  2.436207  True  9.148052          0.999233  1.000768\n",
       "998  1.294090  True  7.809679          0.978861  1.021595\n",
       "999  0.283836  True  4.465058          0.707680  1.413067\n",
       "\n",
       "[1000 rows x 5 columns]"
      ]
     },
     "execution_count": 7,
     "metadata": {},
     "output_type": "execute_result"
    }
   ],
   "source": [
    "cdf_1"
   ]
  },
  {
   "cell_type": "markdown",
   "metadata": {},
   "source": [
    "## Comparing the estimate to Linear Regression\n",
    "First, estimating the effect using the causal data frame, and the 95% confidence interval."
   ]
  },
  {
   "cell_type": "code",
   "execution_count": 8,
   "metadata": {
    "execution": {
     "iopub.execute_input": "2022-10-19T15:30:57.336797Z",
     "iopub.status.busy": "2022-10-19T15:30:57.336284Z",
     "iopub.status.idle": "2022-10-19T15:30:57.407742Z",
     "shell.execute_reply": "2022-10-19T15:30:57.406854Z"
    }
   },
   "outputs": [
    {
     "data": {
      "image/png": "[encoded data removed]",
      "text/latex": [
       "$\\displaystyle 5.58581692178388$"
      ],
      "text/plain": [
       "5.585816921783882"
      ]
     },
     "execution_count": 8,
     "metadata": {},
     "output_type": "execute_result"
    }
   ],
   "source": [
    "(cdf_1['y'] - cdf_0['y']).mean()"
   ]
  },
  {
   "cell_type": "code",
   "execution_count": 9,
   "metadata": {
    "execution": {
     "iopub.execute_input": "2022-10-19T15:30:57.411977Z",
     "iopub.status.busy": "2022-10-19T15:30:57.411323Z",
     "iopub.status.idle": "2022-10-19T15:30:57.435397Z",
     "shell.execute_reply": "2022-10-19T15:30:57.434565Z"
    }
   },
   "outputs": [
    {
     "data": {
      "image/png": "[encoded data removed]",
      "text/latex": [
       "$\\displaystyle 0.145301804570332$"
      ],
      "text/plain": [
       "0.1453018045703316"
      ]
     },
     "execution_count": 9,
     "metadata": {},
     "output_type": "execute_result"
    }
   ],
   "source": [
    "1.96*(cdf_1['y'] - cdf_0['y']).std() / np.sqrt(len(df))"
   ]
  },
  {
   "cell_type": "markdown",
   "metadata": {},
   "source": [
    "Comparing to the estimate from OLS."
   ]
  },
  {
   "cell_type": "code",
   "execution_count": 10,
   "metadata": {
    "execution": {
     "iopub.execute_input": "2022-10-19T15:30:57.439430Z",
     "iopub.status.busy": "2022-10-19T15:30:57.438691Z",
     "iopub.status.idle": "2022-10-19T15:30:57.457855Z",
     "shell.execute_reply": "2022-10-19T15:30:57.457065Z"
    }
   },
   "outputs": [
    {
     "data": {
      "text/html": [
       "<table class=\"simpletable\">\n",
       "<caption>OLS Regression Results</caption>\n",
       "<tr>\n",
       "  <th>Dep. Variable:</th>            <td>y</td>        <th>  R-squared (uncentered):</th>      <td>   0.966</td> \n",
       "</tr>\n",
       "<tr>\n",
       "  <th>Model:</th>                   <td>OLS</td>       <th>  Adj. R-squared (uncentered):</th> <td>   0.966</td> \n",
       "</tr>\n",
       "<tr>\n",
       "  <th>Method:</th>             <td>Least Squares</td>  <th>  F-statistic:       </th>          <td>1.438e+04</td>\n",
       "</tr>\n",
       "<tr>\n",
       "  <th>Date:</th>             <td>Wed, 19 Oct 2022</td> <th>  Prob (F-statistic):</th>           <td>  0.00</td>  \n",
       "</tr>\n",
       "<tr>\n",
       "  <th>Time:</th>                 <td>15:30:57</td>     <th>  Log-Likelihood:    </th>          <td> -1442.0</td> \n",
       "</tr>\n",
       "<tr>\n",
       "  <th>No. Observations:</th>      <td>  1000</td>      <th>  AIC:               </th>          <td>   2888.</td> \n",
       "</tr>\n",
       "<tr>\n",
       "  <th>Df Residuals:</th>          <td>   998</td>      <th>  BIC:               </th>          <td>   2898.</td> \n",
       "</tr>\n",
       "<tr>\n",
       "  <th>Df Model:</th>              <td>     2</td>      <th>                     </th>              <td> </td>    \n",
       "</tr>\n",
       "<tr>\n",
       "  <th>Covariance Type:</th>      <td>nonrobust</td>    <th>                     </th>              <td> </td>    \n",
       "</tr>\n",
       "</table>\n",
       "<table class=\"simpletable\">\n",
       "<tr>\n",
       "   <td></td>     <th>coef</th>     <th>std err</th>      <th>t</th>      <th>P>|t|</th>  <th>[0.025</th>    <th>0.975]</th>  \n",
       "</tr>\n",
       "<tr>\n",
       "  <th>x1</th> <td>    1.6310</td> <td>    0.042</td> <td>   39.018</td> <td> 0.000</td> <td>    1.549</td> <td>    1.713</td>\n",
       "</tr>\n",
       "<tr>\n",
       "  <th>x2</th> <td>    4.9849</td> <td>    0.056</td> <td>   89.356</td> <td> 0.000</td> <td>    4.875</td> <td>    5.094</td>\n",
       "</tr>\n",
       "</table>\n",
       "<table class=\"simpletable\">\n",
       "<tr>\n",
       "  <th>Omnibus:</th>       <td> 0.651</td> <th>  Durbin-Watson:     </th> <td>   1.876</td>\n",
       "</tr>\n",
       "<tr>\n",
       "  <th>Prob(Omnibus):</th> <td> 0.722</td> <th>  Jarque-Bera (JB):  </th> <td>   0.737</td>\n",
       "</tr>\n",
       "<tr>\n",
       "  <th>Skew:</th>          <td>-0.037</td> <th>  Prob(JB):          </th> <td>   0.692</td>\n",
       "</tr>\n",
       "<tr>\n",
       "  <th>Kurtosis:</th>      <td> 2.890</td> <th>  Cond. No.          </th> <td>    2.55</td>\n",
       "</tr>\n",
       "</table><br/><br/>Notes:<br/>[1] R² is computed without centering (uncentered) since the model does not contain a constant.<br/>[2] Standard Errors assume that the covariance matrix of the errors is correctly specified."
      ],
      "text/plain": [
       "<class 'statsmodels.iolib.summary.Summary'>\n",
       "\"\"\"\n",
       "                                 OLS Regression Results                                \n",
       "=======================================================================================\n",
       "Dep. Variable:                      y   R-squared (uncentered):                   0.966\n",
       "Model:                            OLS   Adj. R-squared (uncentered):              0.966\n",
       "Method:                 Least Squares   F-statistic:                          1.438e+04\n",
       "Date:                Wed, 19 Oct 2022   Prob (F-statistic):                        0.00\n",
       "Time:                        15:30:57   Log-Likelihood:                         -1442.0\n",
       "No. Observations:                1000   AIC:                                      2888.\n",
       "Df Residuals:                     998   BIC:                                      2898.\n",
       "Df Model:                           2                                                  \n",
       "Covariance Type:            nonrobust                                                  \n",
       "==============================================================================\n",
       "                 coef    std err          t      P>|t|      [0.025      0.975]\n",
       "------------------------------------------------------------------------------\n",
       "x1             1.6310      0.042     39.018      0.000       1.549       1.713\n",
       "x2             4.9849      0.056     89.356      0.000       4.875       5.094\n",
       "==============================================================================\n",
       "Omnibus:                        0.651   Durbin-Watson:                   1.876\n",
       "Prob(Omnibus):                  0.722   Jarque-Bera (JB):                0.737\n",
       "Skew:                          -0.037   Prob(JB):                        0.692\n",
       "Kurtosis:                       2.890   Cond. No.                         2.55\n",
       "==============================================================================\n",
       "\n",
       "Notes:\n",
       "[1] R² is computed without centering (uncentered) since the model does not contain a constant.\n",
       "[2] Standard Errors assume that the covariance matrix of the errors is correctly specified.\n",
       "\"\"\""
      ]
     },
     "execution_count": 10,
     "metadata": {},
     "output_type": "execute_result"
    }
   ],
   "source": [
    "model = OLS(np.asarray(df[outcome]), np.asarray(df[[common_cause, treatment]], dtype=np.float64))\n",
    "result = model.fit()\n",
    "result.summary()"
   ]
  }
 ],
 "metadata": {
  "kernelspec": {
   "display_name": "Python 3",
   "language": "python",
   "name": "python3"
  },
  "language_info": {
   "codemirror_mode": {
    "name": "ipython",
    "version": 3
   },
   "file_extension": ".py",
   "mimetype": "text/x-python",
   "name": "python",
   "nbconvert_exporter": "python",
   "pygments_lexer": "ipython3",
   "version": "3.8.10"
  },
  "toc": {
   "base_numbering": 1,
   "nav_menu": {},
   "number_sections": false,
   "sideBar": true,
   "skip_h1_title": true,
   "title_cell": "Table of Contents",
   "title_sidebar": "Contents",
   "toc_cell": false,
   "toc_position": {},
   "toc_section_display": true,
   "toc_window_display": false
  }
 },
 "nbformat": 4,
 "nbformat_minor": 4
}
