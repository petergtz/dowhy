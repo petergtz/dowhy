{
 "cells": [
  {
   "cell_type": "markdown",
   "metadata": {},
   "source": [
    "# Demo for the DoWhy causal API\n",
    "We show a simple example of adding a causal extension to any dataframe. "
   ]
  },
  {
   "cell_type": "code",
   "execution_count": 1,
   "metadata": {
    "execution": {
     "iopub.execute_input": "2022-09-06T07:39:30.039874Z",
     "iopub.status.busy": "2022-09-06T07:39:30.039594Z",
     "iopub.status.idle": "2022-09-06T07:39:31.252573Z",
     "shell.execute_reply": "2022-09-06T07:39:31.251816Z"
    }
   },
   "outputs": [],
   "source": [
    "import dowhy.datasets\n",
    "import dowhy.api\n",
    "\n",
    "import numpy as np\n",
    "import pandas as pd\n",
    "\n",
    "from statsmodels.api import OLS"
   ]
  },
  {
   "cell_type": "code",
   "execution_count": 2,
   "metadata": {
    "execution": {
     "iopub.execute_input": "2022-09-06T07:39:31.257014Z",
     "iopub.status.busy": "2022-09-06T07:39:31.256619Z",
     "iopub.status.idle": "2022-09-06T07:39:31.299616Z",
     "shell.execute_reply": "2022-09-06T07:39:31.298961Z"
    }
   },
   "outputs": [
    {
     "data": {
      "text/html": [
       "<div>\n",
       "<style scoped>\n",
       "    .dataframe tbody tr th:only-of-type {\n",
       "        vertical-align: middle;\n",
       "    }\n",
       "\n",
       "    .dataframe tbody tr th {\n",
       "        vertical-align: top;\n",
       "    }\n",
       "\n",
       "    .dataframe thead th {\n",
       "        text-align: right;\n",
       "    }\n",
       "</style>\n",
       "<table border=\"1\" class=\"dataframe\">\n",
       "  <thead>\n",
       "    <tr style=\"text-align: right;\">\n",
       "      <th></th>\n",
       "      <th>W0</th>\n",
       "      <th>v0</th>\n",
       "      <th>y</th>\n",
       "    </tr>\n",
       "  </thead>\n",
       "  <tbody>\n",
       "    <tr>\n",
       "      <th>0</th>\n",
       "      <td>-0.293122</td>\n",
       "      <td>False</td>\n",
       "      <td>0.263783</td>\n",
       "    </tr>\n",
       "    <tr>\n",
       "      <th>1</th>\n",
       "      <td>1.119633</td>\n",
       "      <td>True</td>\n",
       "      <td>6.319526</td>\n",
       "    </tr>\n",
       "    <tr>\n",
       "      <th>2</th>\n",
       "      <td>1.582717</td>\n",
       "      <td>True</td>\n",
       "      <td>5.428521</td>\n",
       "    </tr>\n",
       "    <tr>\n",
       "      <th>3</th>\n",
       "      <td>1.396714</td>\n",
       "      <td>True</td>\n",
       "      <td>5.374532</td>\n",
       "    </tr>\n",
       "    <tr>\n",
       "      <th>4</th>\n",
       "      <td>2.269855</td>\n",
       "      <td>True</td>\n",
       "      <td>6.850925</td>\n",
       "    </tr>\n",
       "    <tr>\n",
       "      <th>...</th>\n",
       "      <td>...</td>\n",
       "      <td>...</td>\n",
       "      <td>...</td>\n",
       "    </tr>\n",
       "    <tr>\n",
       "      <th>995</th>\n",
       "      <td>0.825839</td>\n",
       "      <td>True</td>\n",
       "      <td>6.059904</td>\n",
       "    </tr>\n",
       "    <tr>\n",
       "      <th>996</th>\n",
       "      <td>0.658618</td>\n",
       "      <td>True</td>\n",
       "      <td>4.308807</td>\n",
       "    </tr>\n",
       "    <tr>\n",
       "      <th>997</th>\n",
       "      <td>1.581109</td>\n",
       "      <td>True</td>\n",
       "      <td>6.757601</td>\n",
       "    </tr>\n",
       "    <tr>\n",
       "      <th>998</th>\n",
       "      <td>1.554820</td>\n",
       "      <td>False</td>\n",
       "      <td>1.852797</td>\n",
       "    </tr>\n",
       "    <tr>\n",
       "      <th>999</th>\n",
       "      <td>1.593044</td>\n",
       "      <td>True</td>\n",
       "      <td>6.066120</td>\n",
       "    </tr>\n",
       "  </tbody>\n",
       "</table>\n",
       "<p>1000 rows × 3 columns</p>\n",
       "</div>"
      ],
      "text/plain": [
       "           W0     v0         y\n",
       "0   -0.293122  False  0.263783\n",
       "1    1.119633   True  6.319526\n",
       "2    1.582717   True  5.428521\n",
       "3    1.396714   True  5.374532\n",
       "4    2.269855   True  6.850925\n",
       "..        ...    ...       ...\n",
       "995  0.825839   True  6.059904\n",
       "996  0.658618   True  4.308807\n",
       "997  1.581109   True  6.757601\n",
       "998  1.554820  False  1.852797\n",
       "999  1.593044   True  6.066120\n",
       "\n",
       "[1000 rows x 3 columns]"
      ]
     },
     "execution_count": 2,
     "metadata": {},
     "output_type": "execute_result"
    }
   ],
   "source": [
    "data = dowhy.datasets.linear_dataset(beta=5,\n",
    "        num_common_causes=1,\n",
    "        num_instruments = 0,\n",
    "        num_samples=1000,\n",
    "        treatment_is_binary=True)\n",
    "df = data['df']\n",
    "df['y'] = df['y'] + np.random.normal(size=len(df)) # Adding noise to data. Without noise, the variance in Y|X, Z is zero, and mcmc fails.\n",
    "#data['dot_graph'] = 'digraph { v ->y;X0-> v;X0-> y;}'\n",
    "\n",
    "treatment= data[\"treatment_name\"][0]\n",
    "outcome = data[\"outcome_name\"][0]\n",
    "common_cause = data[\"common_causes_names\"][0]\n",
    "df"
   ]
  },
  {
   "cell_type": "code",
   "execution_count": 3,
   "metadata": {
    "execution": {
     "iopub.execute_input": "2022-09-06T07:39:31.302945Z",
     "iopub.status.busy": "2022-09-06T07:39:31.302470Z",
     "iopub.status.idle": "2022-09-06T07:39:32.107662Z",
     "shell.execute_reply": "2022-09-06T07:39:32.107092Z"
    }
   },
   "outputs": [
    {
     "data": {
      "text/plain": [
       "<AxesSubplot:xlabel='v0'>"
      ]
     },
     "execution_count": 3,
     "metadata": {},
     "output_type": "execute_result"
    },
    {
     "data": {
      "image/png": "[encoded data removed]",
      "text/plain": [
       "<Figure size 640x480 with 1 Axes>"
      ]
     },
     "metadata": {},
     "output_type": "display_data"
    }
   ],
   "source": [
    "# data['df'] is just a regular pandas.DataFrame\n",
    "df.causal.do(x=treatment,\n",
    "                     variable_types={treatment: 'b', outcome: 'c', common_cause: 'c'},\n",
    "                     outcome=outcome,\n",
    "                     common_causes=[common_cause],\n",
    "                     proceed_when_unidentifiable=True).groupby(treatment).mean().plot(y=outcome, kind='bar')"
   ]
  },
  {
   "cell_type": "code",
   "execution_count": 4,
   "metadata": {
    "execution": {
     "iopub.execute_input": "2022-09-06T07:39:32.111409Z",
     "iopub.status.busy": "2022-09-06T07:39:32.110767Z",
     "iopub.status.idle": "2022-09-06T07:39:32.221062Z",
     "shell.execute_reply": "2022-09-06T07:39:32.220484Z"
    }
   },
   "outputs": [
    {
     "data": {
      "text/plain": [
       "<AxesSubplot:xlabel='v0'>"
      ]
     },
     "execution_count": 4,
     "metadata": {},
     "output_type": "execute_result"
    },
    {
     "data": {
      "image/png": "[encoded data removed]",
      "text/plain": [
       "<Figure size 640x480 with 1 Axes>"
      ]
     },
     "metadata": {},
     "output_type": "display_data"
    }
   ],
   "source": [
    "df.causal.do(x={treatment: 1}, \n",
    "              variable_types={treatment:'b', outcome: 'c', common_cause: 'c'}, \n",
    "              outcome=outcome,\n",
    "              method='weighting', \n",
    "              common_causes=[common_cause],\n",
    "              proceed_when_unidentifiable=True).groupby(treatment).mean().plot(y=outcome, kind='bar')"
   ]
  },
  {
   "cell_type": "code",
   "execution_count": 5,
   "metadata": {
    "execution": {
     "iopub.execute_input": "2022-09-06T07:39:32.224355Z",
     "iopub.status.busy": "2022-09-06T07:39:32.223882Z",
     "iopub.status.idle": "2022-09-06T07:39:32.256677Z",
     "shell.execute_reply": "2022-09-06T07:39:32.256070Z"
    }
   },
   "outputs": [],
   "source": [
    "cdf_1 = df.causal.do(x={treatment: 1}, \n",
    "              variable_types={treatment: 'b', outcome: 'c', common_cause: 'c'}, \n",
    "              outcome=outcome, \n",
    "              dot_graph=data['dot_graph'],\n",
    "              proceed_when_unidentifiable=True)\n",
    "\n",
    "cdf_0 = df.causal.do(x={treatment: 0}, \n",
    "              variable_types={treatment: 'b', outcome: 'c', common_cause: 'c'}, \n",
    "              outcome=outcome, \n",
    "              dot_graph=data['dot_graph'],\n",
    "              proceed_when_unidentifiable=True)\n"
   ]
  },
  {
   "cell_type": "code",
   "execution_count": 6,
   "metadata": {
    "execution": {
     "iopub.execute_input": "2022-09-06T07:39:32.260262Z",
     "iopub.status.busy": "2022-09-06T07:39:32.259843Z",
     "iopub.status.idle": "2022-09-06T07:39:32.272645Z",
     "shell.execute_reply": "2022-09-06T07:39:32.272068Z"
    },
    "scrolled": true
   },
   "outputs": [
    {
     "data": {
      "text/html": [
       "<div>\n",
       "<style scoped>\n",
       "    .dataframe tbody tr th:only-of-type {\n",
       "        vertical-align: middle;\n",
       "    }\n",
       "\n",
       "    .dataframe tbody tr th {\n",
       "        vertical-align: top;\n",
       "    }\n",
       "\n",
       "    .dataframe thead th {\n",
       "        text-align: right;\n",
       "    }\n",
       "</style>\n",
       "<table border=\"1\" class=\"dataframe\">\n",
       "  <thead>\n",
       "    <tr style=\"text-align: right;\">\n",
       "      <th></th>\n",
       "      <th>W0</th>\n",
       "      <th>v0</th>\n",
       "      <th>y</th>\n",
       "      <th>propensity_score</th>\n",
       "      <th>weight</th>\n",
       "    </tr>\n",
       "  </thead>\n",
       "  <tbody>\n",
       "    <tr>\n",
       "      <th>0</th>\n",
       "      <td>0.386275</td>\n",
       "      <td>False</td>\n",
       "      <td>-0.590913</td>\n",
       "      <td>0.325274</td>\n",
       "      <td>3.074330</td>\n",
       "    </tr>\n",
       "    <tr>\n",
       "      <th>1</th>\n",
       "      <td>-0.662693</td>\n",
       "      <td>False</td>\n",
       "      <td>-2.345637</td>\n",
       "      <td>0.841250</td>\n",
       "      <td>1.188707</td>\n",
       "    </tr>\n",
       "    <tr>\n",
       "      <th>2</th>\n",
       "      <td>-1.026152</td>\n",
       "      <td>False</td>\n",
       "      <td>0.559619</td>\n",
       "      <td>0.924013</td>\n",
       "      <td>1.082235</td>\n",
       "    </tr>\n",
       "    <tr>\n",
       "      <th>3</th>\n",
       "      <td>0.224994</td>\n",
       "      <td>False</td>\n",
       "      <td>1.973805</td>\n",
       "      <td>0.410702</td>\n",
       "      <td>2.434855</td>\n",
       "    </tr>\n",
       "    <tr>\n",
       "      <th>4</th>\n",
       "      <td>1.617062</td>\n",
       "      <td>False</td>\n",
       "      <td>0.288122</td>\n",
       "      <td>0.028131</td>\n",
       "      <td>35.547877</td>\n",
       "    </tr>\n",
       "    <tr>\n",
       "      <th>...</th>\n",
       "      <td>...</td>\n",
       "      <td>...</td>\n",
       "      <td>...</td>\n",
       "      <td>...</td>\n",
       "      <td>...</td>\n",
       "    </tr>\n",
       "    <tr>\n",
       "      <th>995</th>\n",
       "      <td>-1.439597</td>\n",
       "      <td>False</td>\n",
       "      <td>1.249141</td>\n",
       "      <td>0.969022</td>\n",
       "      <td>1.031968</td>\n",
       "    </tr>\n",
       "    <tr>\n",
       "      <th>996</th>\n",
       "      <td>0.764022</td>\n",
       "      <td>False</td>\n",
       "      <td>-0.473626</td>\n",
       "      <td>0.168976</td>\n",
       "      <td>5.917997</td>\n",
       "    </tr>\n",
       "    <tr>\n",
       "      <th>997</th>\n",
       "      <td>2.339796</td>\n",
       "      <td>False</td>\n",
       "      <td>-0.391517</td>\n",
       "      <td>0.005519</td>\n",
       "      <td>181.188593</td>\n",
       "    </tr>\n",
       "    <tr>\n",
       "      <th>998</th>\n",
       "      <td>1.756224</td>\n",
       "      <td>False</td>\n",
       "      <td>1.338199</td>\n",
       "      <td>0.020626</td>\n",
       "      <td>48.483013</td>\n",
       "    </tr>\n",
       "    <tr>\n",
       "      <th>999</th>\n",
       "      <td>1.193212</td>\n",
       "      <td>False</td>\n",
       "      <td>0.783635</td>\n",
       "      <td>0.070849</td>\n",
       "      <td>14.114594</td>\n",
       "    </tr>\n",
       "  </tbody>\n",
       "</table>\n",
       "<p>1000 rows × 5 columns</p>\n",
       "</div>"
      ],
      "text/plain": [
       "           W0     v0         y  propensity_score      weight\n",
       "0    0.386275  False -0.590913          0.325274    3.074330\n",
       "1   -0.662693  False -2.345637          0.841250    1.188707\n",
       "2   -1.026152  False  0.559619          0.924013    1.082235\n",
       "3    0.224994  False  1.973805          0.410702    2.434855\n",
       "4    1.617062  False  0.288122          0.028131   35.547877\n",
       "..        ...    ...       ...               ...         ...\n",
       "995 -1.439597  False  1.249141          0.969022    1.031968\n",
       "996  0.764022  False -0.473626          0.168976    5.917997\n",
       "997  2.339796  False -0.391517          0.005519  181.188593\n",
       "998  1.756224  False  1.338199          0.020626   48.483013\n",
       "999  1.193212  False  0.783635          0.070849   14.114594\n",
       "\n",
       "[1000 rows x 5 columns]"
      ]
     },
     "execution_count": 6,
     "metadata": {},
     "output_type": "execute_result"
    }
   ],
   "source": [
    "cdf_0"
   ]
  },
  {
   "cell_type": "code",
   "execution_count": 7,
   "metadata": {
    "execution": {
     "iopub.execute_input": "2022-09-06T07:39:32.276456Z",
     "iopub.status.busy": "2022-09-06T07:39:32.275209Z",
     "iopub.status.idle": "2022-09-06T07:39:32.287707Z",
     "shell.execute_reply": "2022-09-06T07:39:32.287126Z"
    }
   },
   "outputs": [
    {
     "data": {
      "text/html": [
       "<div>\n",
       "<style scoped>\n",
       "    .dataframe tbody tr th:only-of-type {\n",
       "        vertical-align: middle;\n",
       "    }\n",
       "\n",
       "    .dataframe tbody tr th {\n",
       "        vertical-align: top;\n",
       "    }\n",
       "\n",
       "    .dataframe thead th {\n",
       "        text-align: right;\n",
       "    }\n",
       "</style>\n",
       "<table border=\"1\" class=\"dataframe\">\n",
       "  <thead>\n",
       "    <tr style=\"text-align: right;\">\n",
       "      <th></th>\n",
       "      <th>W0</th>\n",
       "      <th>v0</th>\n",
       "      <th>y</th>\n",
       "      <th>propensity_score</th>\n",
       "      <th>weight</th>\n",
       "    </tr>\n",
       "  </thead>\n",
       "  <tbody>\n",
       "    <tr>\n",
       "      <th>0</th>\n",
       "      <td>2.423879</td>\n",
       "      <td>True</td>\n",
       "      <td>5.605433</td>\n",
       "      <td>0.995441</td>\n",
       "      <td>1.004580</td>\n",
       "    </tr>\n",
       "    <tr>\n",
       "      <th>1</th>\n",
       "      <td>0.811964</td>\n",
       "      <td>True</td>\n",
       "      <td>7.310871</td>\n",
       "      <td>0.845856</td>\n",
       "      <td>1.182234</td>\n",
       "    </tr>\n",
       "    <tr>\n",
       "      <th>2</th>\n",
       "      <td>1.545667</td>\n",
       "      <td>True</td>\n",
       "      <td>6.010666</td>\n",
       "      <td>0.967048</td>\n",
       "      <td>1.034075</td>\n",
       "    </tr>\n",
       "    <tr>\n",
       "      <th>3</th>\n",
       "      <td>1.276921</td>\n",
       "      <td>True</td>\n",
       "      <td>6.511528</td>\n",
       "      <td>0.940756</td>\n",
       "      <td>1.062975</td>\n",
       "    </tr>\n",
       "    <tr>\n",
       "      <th>4</th>\n",
       "      <td>1.399884</td>\n",
       "      <td>True</td>\n",
       "      <td>4.876382</td>\n",
       "      <td>0.954611</td>\n",
       "      <td>1.047547</td>\n",
       "    </tr>\n",
       "    <tr>\n",
       "      <th>...</th>\n",
       "      <td>...</td>\n",
       "      <td>...</td>\n",
       "      <td>...</td>\n",
       "      <td>...</td>\n",
       "      <td>...</td>\n",
       "    </tr>\n",
       "    <tr>\n",
       "      <th>995</th>\n",
       "      <td>1.767156</td>\n",
       "      <td>True</td>\n",
       "      <td>5.454695</td>\n",
       "      <td>0.979873</td>\n",
       "      <td>1.020541</td>\n",
       "    </tr>\n",
       "    <tr>\n",
       "      <th>996</th>\n",
       "      <td>0.789070</td>\n",
       "      <td>True</td>\n",
       "      <td>5.632283</td>\n",
       "      <td>0.838910</td>\n",
       "      <td>1.192023</td>\n",
       "    </tr>\n",
       "    <tr>\n",
       "      <th>997</th>\n",
       "      <td>0.658618</td>\n",
       "      <td>True</td>\n",
       "      <td>4.308807</td>\n",
       "      <td>0.794460</td>\n",
       "      <td>1.258717</td>\n",
       "    </tr>\n",
       "    <tr>\n",
       "      <th>998</th>\n",
       "      <td>-0.562438</td>\n",
       "      <td>True</td>\n",
       "      <td>2.846279</td>\n",
       "      <td>0.191786</td>\n",
       "      <td>5.214148</td>\n",
       "    </tr>\n",
       "    <tr>\n",
       "      <th>999</th>\n",
       "      <td>0.616642</td>\n",
       "      <td>True</td>\n",
       "      <td>4.261347</td>\n",
       "      <td>0.778353</td>\n",
       "      <td>1.284764</td>\n",
       "    </tr>\n",
       "  </tbody>\n",
       "</table>\n",
       "<p>1000 rows × 5 columns</p>\n",
       "</div>"
      ],
      "text/plain": [
       "           W0    v0         y  propensity_score    weight\n",
       "0    2.423879  True  5.605433          0.995441  1.004580\n",
       "1    0.811964  True  7.310871          0.845856  1.182234\n",
       "2    1.545667  True  6.010666          0.967048  1.034075\n",
       "3    1.276921  True  6.511528          0.940756  1.062975\n",
       "4    1.399884  True  4.876382          0.954611  1.047547\n",
       "..        ...   ...       ...               ...       ...\n",
       "995  1.767156  True  5.454695          0.979873  1.020541\n",
       "996  0.789070  True  5.632283          0.838910  1.192023\n",
       "997  0.658618  True  4.308807          0.794460  1.258717\n",
       "998 -0.562438  True  2.846279          0.191786  5.214148\n",
       "999  0.616642  True  4.261347          0.778353  1.284764\n",
       "\n",
       "[1000 rows x 5 columns]"
      ]
     },
     "execution_count": 7,
     "metadata": {},
     "output_type": "execute_result"
    }
   ],
   "source": [
    "cdf_1"
   ]
  },
  {
   "cell_type": "markdown",
   "metadata": {},
   "source": [
    "## Comparing the estimate to Linear Regression\n",
    "First, estimating the effect using the causal data frame, and the 95% confidence interval."
   ]
  },
  {
   "cell_type": "code",
   "execution_count": 8,
   "metadata": {
    "execution": {
     "iopub.execute_input": "2022-09-06T07:39:32.290649Z",
     "iopub.status.busy": "2022-09-06T07:39:32.290424Z",
     "iopub.status.idle": "2022-09-06T07:39:32.391750Z",
     "shell.execute_reply": "2022-09-06T07:39:32.390984Z"
    }
   },
   "outputs": [
    {
     "data": {
      "image/png": "[encoded data removed]",
      "text/latex": [
       "$\\displaystyle 5.19098822111585$"
      ],
      "text/plain": [
       "5.190988221115854"
      ]
     },
     "execution_count": 8,
     "metadata": {},
     "output_type": "execute_result"
    }
   ],
   "source": [
    "(cdf_1['y'] - cdf_0['y']).mean()"
   ]
  },
  {
   "cell_type": "code",
   "execution_count": 9,
   "metadata": {
    "execution": {
     "iopub.execute_input": "2022-09-06T07:39:32.395434Z",
     "iopub.status.busy": "2022-09-06T07:39:32.394825Z",
     "iopub.status.idle": "2022-09-06T07:39:32.423242Z",
     "shell.execute_reply": "2022-09-06T07:39:32.422578Z"
    }
   },
   "outputs": [
    {
     "data": {
      "image/png": "[encoded data removed]",
      "text/latex": [
       "$\\displaystyle 0.0903026586448677$"
      ],
      "text/plain": [
       "0.09030265864486774"
      ]
     },
     "execution_count": 9,
     "metadata": {},
     "output_type": "execute_result"
    }
   ],
   "source": [
    "1.96*(cdf_1['y'] - cdf_0['y']).std() / np.sqrt(len(df))"
   ]
  },
  {
   "cell_type": "markdown",
   "metadata": {},
   "source": [
    "Comparing to the estimate from OLS."
   ]
  },
  {
   "cell_type": "code",
   "execution_count": 10,
   "metadata": {
    "execution": {
     "iopub.execute_input": "2022-09-06T07:39:32.426566Z",
     "iopub.status.busy": "2022-09-06T07:39:32.426187Z",
     "iopub.status.idle": "2022-09-06T07:39:32.444267Z",
     "shell.execute_reply": "2022-09-06T07:39:32.443702Z"
    }
   },
   "outputs": [
    {
     "data": {
      "text/html": [
       "<table class=\"simpletable\">\n",
       "<caption>OLS Regression Results</caption>\n",
       "<tr>\n",
       "  <th>Dep. Variable:</th>            <td>y</td>        <th>  R-squared (uncentered):</th>      <td>   0.958</td> \n",
       "</tr>\n",
       "<tr>\n",
       "  <th>Model:</th>                   <td>OLS</td>       <th>  Adj. R-squared (uncentered):</th> <td>   0.958</td> \n",
       "</tr>\n",
       "<tr>\n",
       "  <th>Method:</th>             <td>Least Squares</td>  <th>  F-statistic:       </th>          <td>1.135e+04</td>\n",
       "</tr>\n",
       "<tr>\n",
       "  <th>Date:</th>             <td>Tue, 06 Sep 2022</td> <th>  Prob (F-statistic):</th>           <td>  0.00</td>  \n",
       "</tr>\n",
       "<tr>\n",
       "  <th>Time:</th>                 <td>07:39:32</td>     <th>  Log-Likelihood:    </th>          <td> -1399.2</td> \n",
       "</tr>\n",
       "<tr>\n",
       "  <th>No. Observations:</th>      <td>  1000</td>      <th>  AIC:               </th>          <td>   2802.</td> \n",
       "</tr>\n",
       "<tr>\n",
       "  <th>Df Residuals:</th>          <td>   998</td>      <th>  BIC:               </th>          <td>   2812.</td> \n",
       "</tr>\n",
       "<tr>\n",
       "  <th>Df Model:</th>              <td>     2</td>      <th>                     </th>              <td> </td>    \n",
       "</tr>\n",
       "<tr>\n",
       "  <th>Covariance Type:</th>      <td>nonrobust</td>    <th>                     </th>              <td> </td>    \n",
       "</tr>\n",
       "</table>\n",
       "<table class=\"simpletable\">\n",
       "<tr>\n",
       "   <td></td>     <th>coef</th>     <th>std err</th>      <th>t</th>      <th>P>|t|</th>  <th>[0.025</th>    <th>0.975]</th>  \n",
       "</tr>\n",
       "<tr>\n",
       "  <th>x1</th> <td>    0.4852</td> <td>    0.038</td> <td>   12.689</td> <td> 0.000</td> <td>    0.410</td> <td>    0.560</td>\n",
       "</tr>\n",
       "<tr>\n",
       "  <th>x2</th> <td>    4.9989</td> <td>    0.057</td> <td>   87.011</td> <td> 0.000</td> <td>    4.886</td> <td>    5.112</td>\n",
       "</tr>\n",
       "</table>\n",
       "<table class=\"simpletable\">\n",
       "<tr>\n",
       "  <th>Omnibus:</th>       <td> 0.058</td> <th>  Durbin-Watson:     </th> <td>   1.945</td>\n",
       "</tr>\n",
       "<tr>\n",
       "  <th>Prob(Omnibus):</th> <td> 0.972</td> <th>  Jarque-Bera (JB):  </th> <td>   0.110</td>\n",
       "</tr>\n",
       "<tr>\n",
       "  <th>Skew:</th>          <td> 0.010</td> <th>  Prob(JB):          </th> <td>   0.947</td>\n",
       "</tr>\n",
       "<tr>\n",
       "  <th>Kurtosis:</th>      <td> 2.953</td> <th>  Cond. No.          </th> <td>    3.04</td>\n",
       "</tr>\n",
       "</table><br/><br/>Notes:<br/>[1] R² is computed without centering (uncentered) since the model does not contain a constant.<br/>[2] Standard Errors assume that the covariance matrix of the errors is correctly specified."
      ],
      "text/plain": [
       "<class 'statsmodels.iolib.summary.Summary'>\n",
       "\"\"\"\n",
       "                                 OLS Regression Results                                \n",
       "=======================================================================================\n",
       "Dep. Variable:                      y   R-squared (uncentered):                   0.958\n",
       "Model:                            OLS   Adj. R-squared (uncentered):              0.958\n",
       "Method:                 Least Squares   F-statistic:                          1.135e+04\n",
       "Date:                Tue, 06 Sep 2022   Prob (F-statistic):                        0.00\n",
       "Time:                        07:39:32   Log-Likelihood:                         -1399.2\n",
       "No. Observations:                1000   AIC:                                      2802.\n",
       "Df Residuals:                     998   BIC:                                      2812.\n",
       "Df Model:                           2                                                  \n",
       "Covariance Type:            nonrobust                                                  \n",
       "==============================================================================\n",
       "                 coef    std err          t      P>|t|      [0.025      0.975]\n",
       "------------------------------------------------------------------------------\n",
       "x1             0.4852      0.038     12.689      0.000       0.410       0.560\n",
       "x2             4.9989      0.057     87.011      0.000       4.886       5.112\n",
       "==============================================================================\n",
       "Omnibus:                        0.058   Durbin-Watson:                   1.945\n",
       "Prob(Omnibus):                  0.972   Jarque-Bera (JB):                0.110\n",
       "Skew:                           0.010   Prob(JB):                        0.947\n",
       "Kurtosis:                       2.953   Cond. No.                         3.04\n",
       "==============================================================================\n",
       "\n",
       "Notes:\n",
       "[1] R² is computed without centering (uncentered) since the model does not contain a constant.\n",
       "[2] Standard Errors assume that the covariance matrix of the errors is correctly specified.\n",
       "\"\"\""
      ]
     },
     "execution_count": 10,
     "metadata": {},
     "output_type": "execute_result"
    }
   ],
   "source": [
    "model = OLS(np.asarray(df[outcome]), np.asarray(df[[common_cause, treatment]], dtype=np.float64))\n",
    "result = model.fit()\n",
    "result.summary()"
   ]
  }
 ],
 "metadata": {
  "kernelspec": {
   "display_name": "Python 3",
   "language": "python",
   "name": "python3"
  },
  "language_info": {
   "codemirror_mode": {
    "name": "ipython",
    "version": 3
   },
   "file_extension": ".py",
   "mimetype": "text/x-python",
   "name": "python",
   "nbconvert_exporter": "python",
   "pygments_lexer": "ipython3",
   "version": "3.8.10"
  },
  "toc": {
   "base_numbering": 1,
   "nav_menu": {},
   "number_sections": false,
   "sideBar": true,
   "skip_h1_title": true,
   "title_cell": "Table of Contents",
   "title_sidebar": "Contents",
   "toc_cell": false,
   "toc_position": {},
   "toc_section_display": true,
   "toc_window_display": false
  }
 },
 "nbformat": 4,
 "nbformat_minor": 4
}
