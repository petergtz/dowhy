{
 "cells": [
  {
   "cell_type": "markdown",
   "metadata": {},
   "source": [
    "# Demo for the DoWhy causal API\n",
    "We show a simple example of adding a causal extension to any dataframe. "
   ]
  },
  {
   "cell_type": "code",
   "execution_count": 1,
   "metadata": {
    "execution": {
     "iopub.execute_input": "2022-07-20T22:11:06.102775Z",
     "iopub.status.busy": "2022-07-20T22:11:06.102465Z",
     "iopub.status.idle": "2022-07-20T22:11:07.444034Z",
     "shell.execute_reply": "2022-07-20T22:11:07.442916Z"
    }
   },
   "outputs": [
    {
     "name": "stdout",
     "output_type": "stream",
     "text": [
      "keywords are unexpanded, not using\n"
     ]
    }
   ],
   "source": [
    "import dowhy.datasets\n",
    "import dowhy.api\n",
    "\n",
    "import numpy as np\n",
    "import pandas as pd\n",
    "\n",
    "from statsmodels.api import OLS"
   ]
  },
  {
   "cell_type": "code",
   "execution_count": 2,
   "metadata": {
    "execution": {
     "iopub.execute_input": "2022-07-20T22:11:07.450359Z",
     "iopub.status.busy": "2022-07-20T22:11:07.449754Z",
     "iopub.status.idle": "2022-07-20T22:11:07.503203Z",
     "shell.execute_reply": "2022-07-20T22:11:07.502470Z"
    }
   },
   "outputs": [
    {
     "data": {
      "text/html": [
       "<div>\n",
       "<style scoped>\n",
       "    .dataframe tbody tr th:only-of-type {\n",
       "        vertical-align: middle;\n",
       "    }\n",
       "\n",
       "    .dataframe tbody tr th {\n",
       "        vertical-align: top;\n",
       "    }\n",
       "\n",
       "    .dataframe thead th {\n",
       "        text-align: right;\n",
       "    }\n",
       "</style>\n",
       "<table border=\"1\" class=\"dataframe\">\n",
       "  <thead>\n",
       "    <tr style=\"text-align: right;\">\n",
       "      <th></th>\n",
       "      <th>W0</th>\n",
       "      <th>v0</th>\n",
       "      <th>y</th>\n",
       "    </tr>\n",
       "  </thead>\n",
       "  <tbody>\n",
       "    <tr>\n",
       "      <th>0</th>\n",
       "      <td>0.088901</td>\n",
       "      <td>True</td>\n",
       "      <td>5.422139</td>\n",
       "    </tr>\n",
       "    <tr>\n",
       "      <th>1</th>\n",
       "      <td>-0.900788</td>\n",
       "      <td>True</td>\n",
       "      <td>4.254737</td>\n",
       "    </tr>\n",
       "    <tr>\n",
       "      <th>2</th>\n",
       "      <td>-1.874952</td>\n",
       "      <td>False</td>\n",
       "      <td>-2.611583</td>\n",
       "    </tr>\n",
       "    <tr>\n",
       "      <th>3</th>\n",
       "      <td>-2.155776</td>\n",
       "      <td>False</td>\n",
       "      <td>-2.664398</td>\n",
       "    </tr>\n",
       "    <tr>\n",
       "      <th>4</th>\n",
       "      <td>0.704494</td>\n",
       "      <td>False</td>\n",
       "      <td>1.032854</td>\n",
       "    </tr>\n",
       "    <tr>\n",
       "      <th>...</th>\n",
       "      <td>...</td>\n",
       "      <td>...</td>\n",
       "      <td>...</td>\n",
       "    </tr>\n",
       "    <tr>\n",
       "      <th>995</th>\n",
       "      <td>-1.393274</td>\n",
       "      <td>False</td>\n",
       "      <td>-1.793297</td>\n",
       "    </tr>\n",
       "    <tr>\n",
       "      <th>996</th>\n",
       "      <td>-0.918474</td>\n",
       "      <td>False</td>\n",
       "      <td>-2.289546</td>\n",
       "    </tr>\n",
       "    <tr>\n",
       "      <th>997</th>\n",
       "      <td>-1.163178</td>\n",
       "      <td>False</td>\n",
       "      <td>-2.301462</td>\n",
       "    </tr>\n",
       "    <tr>\n",
       "      <th>998</th>\n",
       "      <td>-1.770846</td>\n",
       "      <td>False</td>\n",
       "      <td>-2.680135</td>\n",
       "    </tr>\n",
       "    <tr>\n",
       "      <th>999</th>\n",
       "      <td>-0.728680</td>\n",
       "      <td>False</td>\n",
       "      <td>-0.546005</td>\n",
       "    </tr>\n",
       "  </tbody>\n",
       "</table>\n",
       "<p>1000 rows × 3 columns</p>\n",
       "</div>"
      ],
      "text/plain": [
       "           W0     v0         y\n",
       "0    0.088901   True  5.422139\n",
       "1   -0.900788   True  4.254737\n",
       "2   -1.874952  False -2.611583\n",
       "3   -2.155776  False -2.664398\n",
       "4    0.704494  False  1.032854\n",
       "..        ...    ...       ...\n",
       "995 -1.393274  False -1.793297\n",
       "996 -0.918474  False -2.289546\n",
       "997 -1.163178  False -2.301462\n",
       "998 -1.770846  False -2.680135\n",
       "999 -0.728680  False -0.546005\n",
       "\n",
       "[1000 rows x 3 columns]"
      ]
     },
     "execution_count": 2,
     "metadata": {},
     "output_type": "execute_result"
    }
   ],
   "source": [
    "data = dowhy.datasets.linear_dataset(beta=5,\n",
    "        num_common_causes=1,\n",
    "        num_instruments = 0,\n",
    "        num_samples=1000,\n",
    "        treatment_is_binary=True)\n",
    "df = data['df']\n",
    "df['y'] = df['y'] + np.random.normal(size=len(df)) # Adding noise to data. Without noise, the variance in Y|X, Z is zero, and mcmc fails.\n",
    "#data['dot_graph'] = 'digraph { v ->y;X0-> v;X0-> y;}'\n",
    "\n",
    "treatment= data[\"treatment_name\"][0]\n",
    "outcome = data[\"outcome_name\"][0]\n",
    "common_cause = data[\"common_causes_names\"][0]\n",
    "df"
   ]
  },
  {
   "cell_type": "code",
   "execution_count": 3,
   "metadata": {
    "execution": {
     "iopub.execute_input": "2022-07-20T22:11:07.506591Z",
     "iopub.status.busy": "2022-07-20T22:11:07.506316Z",
     "iopub.status.idle": "2022-07-20T22:11:08.374932Z",
     "shell.execute_reply": "2022-07-20T22:11:08.374209Z"
    }
   },
   "outputs": [
    {
     "data": {
      "text/plain": [
       "<AxesSubplot:xlabel='v0'>"
      ]
     },
     "execution_count": 3,
     "metadata": {},
     "output_type": "execute_result"
    },
    {
     "data": {
      "image/png": "[encoded data removed]",
      "text/plain": [
       "<Figure size 432x288 with 1 Axes>"
      ]
     },
     "metadata": {
      "needs_background": "light"
     },
     "output_type": "display_data"
    }
   ],
   "source": [
    "# data['df'] is just a regular pandas.DataFrame\n",
    "df.causal.do(x=treatment,\n",
    "                     variable_types={treatment: 'b', outcome: 'c', common_cause: 'c'},\n",
    "                     outcome=outcome,\n",
    "                     common_causes=[common_cause],\n",
    "                     proceed_when_unidentifiable=True).groupby(treatment).mean().plot(y=outcome, kind='bar')"
   ]
  },
  {
   "cell_type": "code",
   "execution_count": 4,
   "metadata": {
    "execution": {
     "iopub.execute_input": "2022-07-20T22:11:08.378955Z",
     "iopub.status.busy": "2022-07-20T22:11:08.378302Z",
     "iopub.status.idle": "2022-07-20T22:11:08.491229Z",
     "shell.execute_reply": "2022-07-20T22:11:08.490672Z"
    }
   },
   "outputs": [
    {
     "data": {
      "text/plain": [
       "<AxesSubplot:xlabel='v0'>"
      ]
     },
     "execution_count": 4,
     "metadata": {},
     "output_type": "execute_result"
    },
    {
     "data": {
      "image/png": "[encoded data removed]",
      "text/plain": [
       "<Figure size 432x288 with 1 Axes>"
      ]
     },
     "metadata": {
      "needs_background": "light"
     },
     "output_type": "display_data"
    }
   ],
   "source": [
    "df.causal.do(x={treatment: 1}, \n",
    "              variable_types={treatment:'b', outcome: 'c', common_cause: 'c'}, \n",
    "              outcome=outcome,\n",
    "              method='weighting', \n",
    "              common_causes=[common_cause],\n",
    "              proceed_when_unidentifiable=True).groupby(treatment).mean().plot(y=outcome, kind='bar')"
   ]
  },
  {
   "cell_type": "code",
   "execution_count": 5,
   "metadata": {
    "execution": {
     "iopub.execute_input": "2022-07-20T22:11:08.495887Z",
     "iopub.status.busy": "2022-07-20T22:11:08.494867Z",
     "iopub.status.idle": "2022-07-20T22:11:08.534631Z",
     "shell.execute_reply": "2022-07-20T22:11:08.533964Z"
    }
   },
   "outputs": [],
   "source": [
    "cdf_1 = df.causal.do(x={treatment: 1}, \n",
    "              variable_types={treatment: 'b', outcome: 'c', common_cause: 'c'}, \n",
    "              outcome=outcome, \n",
    "              dot_graph=data['dot_graph'],\n",
    "              proceed_when_unidentifiable=True)\n",
    "\n",
    "cdf_0 = df.causal.do(x={treatment: 0}, \n",
    "              variable_types={treatment: 'b', outcome: 'c', common_cause: 'c'}, \n",
    "              outcome=outcome, \n",
    "              dot_graph=data['dot_graph'],\n",
    "              proceed_when_unidentifiable=True)\n"
   ]
  },
  {
   "cell_type": "code",
   "execution_count": 6,
   "metadata": {
    "execution": {
     "iopub.execute_input": "2022-07-20T22:11:08.539302Z",
     "iopub.status.busy": "2022-07-20T22:11:08.538075Z",
     "iopub.status.idle": "2022-07-20T22:11:08.551702Z",
     "shell.execute_reply": "2022-07-20T22:11:08.551080Z"
    },
    "scrolled": true
   },
   "outputs": [
    {
     "data": {
      "text/html": [
       "<div>\n",
       "<style scoped>\n",
       "    .dataframe tbody tr th:only-of-type {\n",
       "        vertical-align: middle;\n",
       "    }\n",
       "\n",
       "    .dataframe tbody tr th {\n",
       "        vertical-align: top;\n",
       "    }\n",
       "\n",
       "    .dataframe thead th {\n",
       "        text-align: right;\n",
       "    }\n",
       "</style>\n",
       "<table border=\"1\" class=\"dataframe\">\n",
       "  <thead>\n",
       "    <tr style=\"text-align: right;\">\n",
       "      <th></th>\n",
       "      <th>W0</th>\n",
       "      <th>v0</th>\n",
       "      <th>y</th>\n",
       "      <th>propensity_score</th>\n",
       "      <th>weight</th>\n",
       "    </tr>\n",
       "  </thead>\n",
       "  <tbody>\n",
       "    <tr>\n",
       "      <th>0</th>\n",
       "      <td>1.193818</td>\n",
       "      <td>False</td>\n",
       "      <td>3.395750</td>\n",
       "      <td>0.393856</td>\n",
       "      <td>2.538997</td>\n",
       "    </tr>\n",
       "    <tr>\n",
       "      <th>1</th>\n",
       "      <td>0.987758</td>\n",
       "      <td>False</td>\n",
       "      <td>2.209116</td>\n",
       "      <td>0.419499</td>\n",
       "      <td>2.383798</td>\n",
       "    </tr>\n",
       "    <tr>\n",
       "      <th>2</th>\n",
       "      <td>-0.912008</td>\n",
       "      <td>False</td>\n",
       "      <td>-2.218042</td>\n",
       "      <td>0.658179</td>\n",
       "      <td>1.519344</td>\n",
       "    </tr>\n",
       "    <tr>\n",
       "      <th>3</th>\n",
       "      <td>-0.046370</td>\n",
       "      <td>False</td>\n",
       "      <td>-0.796811</td>\n",
       "      <td>0.551971</td>\n",
       "      <td>1.811689</td>\n",
       "    </tr>\n",
       "    <tr>\n",
       "      <th>4</th>\n",
       "      <td>1.893054</td>\n",
       "      <td>False</td>\n",
       "      <td>2.815275</td>\n",
       "      <td>0.311773</td>\n",
       "      <td>3.207459</td>\n",
       "    </tr>\n",
       "    <tr>\n",
       "      <th>...</th>\n",
       "      <td>...</td>\n",
       "      <td>...</td>\n",
       "      <td>...</td>\n",
       "      <td>...</td>\n",
       "      <td>...</td>\n",
       "    </tr>\n",
       "    <tr>\n",
       "      <th>995</th>\n",
       "      <td>0.515730</td>\n",
       "      <td>False</td>\n",
       "      <td>1.561417</td>\n",
       "      <td>0.479679</td>\n",
       "      <td>2.084728</td>\n",
       "    </tr>\n",
       "    <tr>\n",
       "      <th>996</th>\n",
       "      <td>-0.966040</td>\n",
       "      <td>False</td>\n",
       "      <td>-0.226005</td>\n",
       "      <td>0.664422</td>\n",
       "      <td>1.505068</td>\n",
       "    </tr>\n",
       "    <tr>\n",
       "      <th>997</th>\n",
       "      <td>-0.722926</td>\n",
       "      <td>False</td>\n",
       "      <td>-1.304118</td>\n",
       "      <td>0.635908</td>\n",
       "      <td>1.572554</td>\n",
       "    </tr>\n",
       "    <tr>\n",
       "      <th>998</th>\n",
       "      <td>0.360479</td>\n",
       "      <td>False</td>\n",
       "      <td>2.467328</td>\n",
       "      <td>0.499690</td>\n",
       "      <td>2.001242</td>\n",
       "    </tr>\n",
       "    <tr>\n",
       "      <th>999</th>\n",
       "      <td>-0.690217</td>\n",
       "      <td>False</td>\n",
       "      <td>0.143342</td>\n",
       "      <td>0.631993</td>\n",
       "      <td>1.582296</td>\n",
       "    </tr>\n",
       "  </tbody>\n",
       "</table>\n",
       "<p>1000 rows × 5 columns</p>\n",
       "</div>"
      ],
      "text/plain": [
       "           W0     v0         y  propensity_score    weight\n",
       "0    1.193818  False  3.395750          0.393856  2.538997\n",
       "1    0.987758  False  2.209116          0.419499  2.383798\n",
       "2   -0.912008  False -2.218042          0.658179  1.519344\n",
       "3   -0.046370  False -0.796811          0.551971  1.811689\n",
       "4    1.893054  False  2.815275          0.311773  3.207459\n",
       "..        ...    ...       ...               ...       ...\n",
       "995  0.515730  False  1.561417          0.479679  2.084728\n",
       "996 -0.966040  False -0.226005          0.664422  1.505068\n",
       "997 -0.722926  False -1.304118          0.635908  1.572554\n",
       "998  0.360479  False  2.467328          0.499690  2.001242\n",
       "999 -0.690217  False  0.143342          0.631993  1.582296\n",
       "\n",
       "[1000 rows x 5 columns]"
      ]
     },
     "execution_count": 6,
     "metadata": {},
     "output_type": "execute_result"
    }
   ],
   "source": [
    "cdf_0"
   ]
  },
  {
   "cell_type": "code",
   "execution_count": 7,
   "metadata": {
    "execution": {
     "iopub.execute_input": "2022-07-20T22:11:08.556275Z",
     "iopub.status.busy": "2022-07-20T22:11:08.555043Z",
     "iopub.status.idle": "2022-07-20T22:11:08.568563Z",
     "shell.execute_reply": "2022-07-20T22:11:08.567274Z"
    }
   },
   "outputs": [
    {
     "data": {
      "text/html": [
       "<div>\n",
       "<style scoped>\n",
       "    .dataframe tbody tr th:only-of-type {\n",
       "        vertical-align: middle;\n",
       "    }\n",
       "\n",
       "    .dataframe tbody tr th {\n",
       "        vertical-align: top;\n",
       "    }\n",
       "\n",
       "    .dataframe thead th {\n",
       "        text-align: right;\n",
       "    }\n",
       "</style>\n",
       "<table border=\"1\" class=\"dataframe\">\n",
       "  <thead>\n",
       "    <tr style=\"text-align: right;\">\n",
       "      <th></th>\n",
       "      <th>W0</th>\n",
       "      <th>v0</th>\n",
       "      <th>y</th>\n",
       "      <th>propensity_score</th>\n",
       "      <th>weight</th>\n",
       "    </tr>\n",
       "  </thead>\n",
       "  <tbody>\n",
       "    <tr>\n",
       "      <th>0</th>\n",
       "      <td>-0.710807</td>\n",
       "      <td>True</td>\n",
       "      <td>3.986672</td>\n",
       "      <td>0.365540</td>\n",
       "      <td>2.735676</td>\n",
       "    </tr>\n",
       "    <tr>\n",
       "      <th>1</th>\n",
       "      <td>-0.689614</td>\n",
       "      <td>True</td>\n",
       "      <td>5.903564</td>\n",
       "      <td>0.368079</td>\n",
       "      <td>2.716805</td>\n",
       "    </tr>\n",
       "    <tr>\n",
       "      <th>2</th>\n",
       "      <td>-0.786670</td>\n",
       "      <td>True</td>\n",
       "      <td>4.926488</td>\n",
       "      <td>0.356513</td>\n",
       "      <td>2.804949</td>\n",
       "    </tr>\n",
       "    <tr>\n",
       "      <th>3</th>\n",
       "      <td>-0.067930</td>\n",
       "      <td>True</td>\n",
       "      <td>5.778453</td>\n",
       "      <td>0.445280</td>\n",
       "      <td>2.245778</td>\n",
       "    </tr>\n",
       "    <tr>\n",
       "      <th>4</th>\n",
       "      <td>-1.470779</td>\n",
       "      <td>True</td>\n",
       "      <td>1.294409</td>\n",
       "      <td>0.280206</td>\n",
       "      <td>3.568803</td>\n",
       "    </tr>\n",
       "    <tr>\n",
       "      <th>...</th>\n",
       "      <td>...</td>\n",
       "      <td>...</td>\n",
       "      <td>...</td>\n",
       "      <td>...</td>\n",
       "      <td>...</td>\n",
       "    </tr>\n",
       "    <tr>\n",
       "      <th>995</th>\n",
       "      <td>-2.254515</td>\n",
       "      <td>True</td>\n",
       "      <td>1.150399</td>\n",
       "      <td>0.206240</td>\n",
       "      <td>4.848724</td>\n",
       "    </tr>\n",
       "    <tr>\n",
       "      <th>996</th>\n",
       "      <td>0.027724</td>\n",
       "      <td>True</td>\n",
       "      <td>5.131284</td>\n",
       "      <td>0.457499</td>\n",
       "      <td>2.185797</td>\n",
       "    </tr>\n",
       "    <tr>\n",
       "      <th>997</th>\n",
       "      <td>-1.219173</td>\n",
       "      <td>True</td>\n",
       "      <td>2.330688</td>\n",
       "      <td>0.307114</td>\n",
       "      <td>3.256118</td>\n",
       "    </tr>\n",
       "    <tr>\n",
       "      <th>998</th>\n",
       "      <td>0.951901</td>\n",
       "      <td>True</td>\n",
       "      <td>7.625579</td>\n",
       "      <td>0.575990</td>\n",
       "      <td>1.736140</td>\n",
       "    </tr>\n",
       "    <tr>\n",
       "      <th>999</th>\n",
       "      <td>-0.169489</td>\n",
       "      <td>True</td>\n",
       "      <td>5.719883</td>\n",
       "      <td>0.432379</td>\n",
       "      <td>2.312785</td>\n",
       "    </tr>\n",
       "  </tbody>\n",
       "</table>\n",
       "<p>1000 rows × 5 columns</p>\n",
       "</div>"
      ],
      "text/plain": [
       "           W0    v0         y  propensity_score    weight\n",
       "0   -0.710807  True  3.986672          0.365540  2.735676\n",
       "1   -0.689614  True  5.903564          0.368079  2.716805\n",
       "2   -0.786670  True  4.926488          0.356513  2.804949\n",
       "3   -0.067930  True  5.778453          0.445280  2.245778\n",
       "4   -1.470779  True  1.294409          0.280206  3.568803\n",
       "..        ...   ...       ...               ...       ...\n",
       "995 -2.254515  True  1.150399          0.206240  4.848724\n",
       "996  0.027724  True  5.131284          0.457499  2.185797\n",
       "997 -1.219173  True  2.330688          0.307114  3.256118\n",
       "998  0.951901  True  7.625579          0.575990  1.736140\n",
       "999 -0.169489  True  5.719883          0.432379  2.312785\n",
       "\n",
       "[1000 rows x 5 columns]"
      ]
     },
     "execution_count": 7,
     "metadata": {},
     "output_type": "execute_result"
    }
   ],
   "source": [
    "cdf_1"
   ]
  },
  {
   "cell_type": "markdown",
   "metadata": {},
   "source": [
    "## Comparing the estimate to Linear Regression\n",
    "First, estimating the effect using the causal data frame, and the 95% confidence interval."
   ]
  },
  {
   "cell_type": "code",
   "execution_count": 8,
   "metadata": {
    "execution": {
     "iopub.execute_input": "2022-07-20T22:11:08.572075Z",
     "iopub.status.busy": "2022-07-20T22:11:08.571409Z",
     "iopub.status.idle": "2022-07-20T22:11:08.686377Z",
     "shell.execute_reply": "2022-07-20T22:11:08.685290Z"
    }
   },
   "outputs": [
    {
     "data": {
      "image/png": "[encoded data removed]",
      "text/latex": [
       "$\\displaystyle 4.86081118123146$"
      ],
      "text/plain": [
       "4.860811181231459"
      ]
     },
     "execution_count": 8,
     "metadata": {},
     "output_type": "execute_result"
    }
   ],
   "source": [
    "(cdf_1['y'] - cdf_0['y']).mean()"
   ]
  },
  {
   "cell_type": "code",
   "execution_count": 9,
   "metadata": {
    "execution": {
     "iopub.execute_input": "2022-07-20T22:11:08.691107Z",
     "iopub.status.busy": "2022-07-20T22:11:08.689598Z",
     "iopub.status.idle": "2022-07-20T22:11:08.719738Z",
     "shell.execute_reply": "2022-07-20T22:11:08.718819Z"
    }
   },
   "outputs": [
    {
     "data": {
      "image/png": "[encoded data removed]",
      "text/latex": [
       "$\\displaystyle 0.155837112217838$"
      ],
      "text/plain": [
       "0.15583711221783836"
      ]
     },
     "execution_count": 9,
     "metadata": {},
     "output_type": "execute_result"
    }
   ],
   "source": [
    "1.96*(cdf_1['y'] - cdf_0['y']).std() / np.sqrt(len(df))"
   ]
  },
  {
   "cell_type": "markdown",
   "metadata": {},
   "source": [
    "Comparing to the estimate from OLS."
   ]
  },
  {
   "cell_type": "code",
   "execution_count": 10,
   "metadata": {
    "execution": {
     "iopub.execute_input": "2022-07-20T22:11:08.722967Z",
     "iopub.status.busy": "2022-07-20T22:11:08.722716Z",
     "iopub.status.idle": "2022-07-20T22:11:08.740910Z",
     "shell.execute_reply": "2022-07-20T22:11:08.740238Z"
    }
   },
   "outputs": [
    {
     "data": {
      "text/html": [
       "<table class=\"simpletable\">\n",
       "<caption>OLS Regression Results</caption>\n",
       "<tr>\n",
       "  <th>Dep. Variable:</th>            <td>y</td>        <th>  R-squared (uncentered):</th>      <td>   0.917</td>\n",
       "</tr>\n",
       "<tr>\n",
       "  <th>Model:</th>                   <td>OLS</td>       <th>  Adj. R-squared (uncentered):</th> <td>   0.917</td>\n",
       "</tr>\n",
       "<tr>\n",
       "  <th>Method:</th>             <td>Least Squares</td>  <th>  F-statistic:       </th>          <td>   5518.</td>\n",
       "</tr>\n",
       "<tr>\n",
       "  <th>Date:</th>             <td>Wed, 20 Jul 2022</td> <th>  Prob (F-statistic):</th>           <td>  0.00</td> \n",
       "</tr>\n",
       "<tr>\n",
       "  <th>Time:</th>                 <td>22:11:08</td>     <th>  Log-Likelihood:    </th>          <td> -1436.7</td>\n",
       "</tr>\n",
       "<tr>\n",
       "  <th>No. Observations:</th>      <td>  1000</td>      <th>  AIC:               </th>          <td>   2877.</td>\n",
       "</tr>\n",
       "<tr>\n",
       "  <th>Df Residuals:</th>          <td>   998</td>      <th>  BIC:               </th>          <td>   2887.</td>\n",
       "</tr>\n",
       "<tr>\n",
       "  <th>Df Model:</th>              <td>     2</td>      <th>                     </th>              <td> </td>   \n",
       "</tr>\n",
       "<tr>\n",
       "  <th>Covariance Type:</th>      <td>nonrobust</td>    <th>                     </th>              <td> </td>   \n",
       "</tr>\n",
       "</table>\n",
       "<table class=\"simpletable\">\n",
       "<tr>\n",
       "   <td></td>     <th>coef</th>     <th>std err</th>      <th>t</th>      <th>P>|t|</th>  <th>[0.025</th>    <th>0.975]</th>  \n",
       "</tr>\n",
       "<tr>\n",
       "  <th>x1</th> <td>    1.5234</td> <td>    0.030</td> <td>   50.230</td> <td> 0.000</td> <td>    1.464</td> <td>    1.583</td>\n",
       "</tr>\n",
       "<tr>\n",
       "  <th>x2</th> <td>    4.9658</td> <td>    0.051</td> <td>   97.143</td> <td> 0.000</td> <td>    4.865</td> <td>    5.066</td>\n",
       "</tr>\n",
       "</table>\n",
       "<table class=\"simpletable\">\n",
       "<tr>\n",
       "  <th>Omnibus:</th>       <td> 0.539</td> <th>  Durbin-Watson:     </th> <td>   2.014</td>\n",
       "</tr>\n",
       "<tr>\n",
       "  <th>Prob(Omnibus):</th> <td> 0.764</td> <th>  Jarque-Bera (JB):  </th> <td>   0.414</td>\n",
       "</tr>\n",
       "<tr>\n",
       "  <th>Skew:</th>          <td>-0.003</td> <th>  Prob(JB):          </th> <td>   0.813</td>\n",
       "</tr>\n",
       "<tr>\n",
       "  <th>Kurtosis:</th>      <td> 3.100</td> <th>  Cond. No.          </th> <td>    1.71</td>\n",
       "</tr>\n",
       "</table><br/><br/>Notes:<br/>[1] R² is computed without centering (uncentered) since the model does not contain a constant.<br/>[2] Standard Errors assume that the covariance matrix of the errors is correctly specified."
      ],
      "text/plain": [
       "<class 'statsmodels.iolib.summary.Summary'>\n",
       "\"\"\"\n",
       "                                 OLS Regression Results                                \n",
       "=======================================================================================\n",
       "Dep. Variable:                      y   R-squared (uncentered):                   0.917\n",
       "Model:                            OLS   Adj. R-squared (uncentered):              0.917\n",
       "Method:                 Least Squares   F-statistic:                              5518.\n",
       "Date:                Wed, 20 Jul 2022   Prob (F-statistic):                        0.00\n",
       "Time:                        22:11:08   Log-Likelihood:                         -1436.7\n",
       "No. Observations:                1000   AIC:                                      2877.\n",
       "Df Residuals:                     998   BIC:                                      2887.\n",
       "Df Model:                           2                                                  \n",
       "Covariance Type:            nonrobust                                                  \n",
       "==============================================================================\n",
       "                 coef    std err          t      P>|t|      [0.025      0.975]\n",
       "------------------------------------------------------------------------------\n",
       "x1             1.5234      0.030     50.230      0.000       1.464       1.583\n",
       "x2             4.9658      0.051     97.143      0.000       4.865       5.066\n",
       "==============================================================================\n",
       "Omnibus:                        0.539   Durbin-Watson:                   2.014\n",
       "Prob(Omnibus):                  0.764   Jarque-Bera (JB):                0.414\n",
       "Skew:                          -0.003   Prob(JB):                        0.813\n",
       "Kurtosis:                       3.100   Cond. No.                         1.71\n",
       "==============================================================================\n",
       "\n",
       "Notes:\n",
       "[1] R² is computed without centering (uncentered) since the model does not contain a constant.\n",
       "[2] Standard Errors assume that the covariance matrix of the errors is correctly specified.\n",
       "\"\"\""
      ]
     },
     "execution_count": 10,
     "metadata": {},
     "output_type": "execute_result"
    }
   ],
   "source": [
    "model = OLS(np.asarray(df[outcome]), np.asarray(df[[common_cause, treatment]], dtype=np.float64))\n",
    "result = model.fit()\n",
    "result.summary()"
   ]
  }
 ],
 "metadata": {
  "kernelspec": {
   "display_name": "Python 3",
   "language": "python",
   "name": "python3"
  },
  "language_info": {
   "codemirror_mode": {
    "name": "ipython",
    "version": 3
   },
   "file_extension": ".py",
   "mimetype": "text/x-python",
   "name": "python",
   "nbconvert_exporter": "python",
   "pygments_lexer": "ipython3",
   "version": "3.8.10"
  },
  "toc": {
   "base_numbering": 1,
   "nav_menu": {},
   "number_sections": false,
   "sideBar": true,
   "skip_h1_title": true,
   "title_cell": "Table of Contents",
   "title_sidebar": "Contents",
   "toc_cell": false,
   "toc_position": {},
   "toc_section_display": true,
   "toc_window_display": false
  }
 },
 "nbformat": 4,
 "nbformat_minor": 4
}
