{
 "cells": [
  {
   "cell_type": "markdown",
   "metadata": {},
   "source": [
    "# Demo for the DoWhy causal API\n",
    "We show a simple example of adding a causal extension to any dataframe. "
   ]
  },
  {
   "cell_type": "code",
   "execution_count": 1,
   "metadata": {
    "execution": {
     "iopub.execute_input": "2022-07-15T15:07:31.888314Z",
     "iopub.status.busy": "2022-07-15T15:07:31.887988Z",
     "iopub.status.idle": "2022-07-15T15:07:33.118558Z",
     "shell.execute_reply": "2022-07-15T15:07:33.117779Z"
    }
   },
   "outputs": [
    {
     "name": "stdout",
     "output_type": "stream",
     "text": [
      "keywords are unexpanded, not using\n"
     ]
    }
   ],
   "source": [
    "import dowhy.datasets\n",
    "import dowhy.api\n",
    "\n",
    "import numpy as np\n",
    "import pandas as pd\n",
    "\n",
    "from statsmodels.api import OLS"
   ]
  },
  {
   "cell_type": "code",
   "execution_count": 2,
   "metadata": {
    "execution": {
     "iopub.execute_input": "2022-07-15T15:07:33.123000Z",
     "iopub.status.busy": "2022-07-15T15:07:33.122440Z",
     "iopub.status.idle": "2022-07-15T15:07:33.173146Z",
     "shell.execute_reply": "2022-07-15T15:07:33.172501Z"
    }
   },
   "outputs": [
    {
     "data": {
      "text/html": [
       "<div>\n",
       "<style scoped>\n",
       "    .dataframe tbody tr th:only-of-type {\n",
       "        vertical-align: middle;\n",
       "    }\n",
       "\n",
       "    .dataframe tbody tr th {\n",
       "        vertical-align: top;\n",
       "    }\n",
       "\n",
       "    .dataframe thead th {\n",
       "        text-align: right;\n",
       "    }\n",
       "</style>\n",
       "<table border=\"1\" class=\"dataframe\">\n",
       "  <thead>\n",
       "    <tr style=\"text-align: right;\">\n",
       "      <th></th>\n",
       "      <th>W0</th>\n",
       "      <th>v0</th>\n",
       "      <th>y</th>\n",
       "    </tr>\n",
       "  </thead>\n",
       "  <tbody>\n",
       "    <tr>\n",
       "      <th>0</th>\n",
       "      <td>-0.832988</td>\n",
       "      <td>False</td>\n",
       "      <td>0.497823</td>\n",
       "    </tr>\n",
       "    <tr>\n",
       "      <th>1</th>\n",
       "      <td>-2.569926</td>\n",
       "      <td>False</td>\n",
       "      <td>-1.202289</td>\n",
       "    </tr>\n",
       "    <tr>\n",
       "      <th>2</th>\n",
       "      <td>-0.504787</td>\n",
       "      <td>False</td>\n",
       "      <td>-1.773538</td>\n",
       "    </tr>\n",
       "    <tr>\n",
       "      <th>3</th>\n",
       "      <td>-0.046876</td>\n",
       "      <td>False</td>\n",
       "      <td>0.176519</td>\n",
       "    </tr>\n",
       "    <tr>\n",
       "      <th>4</th>\n",
       "      <td>-0.216126</td>\n",
       "      <td>False</td>\n",
       "      <td>1.335532</td>\n",
       "    </tr>\n",
       "    <tr>\n",
       "      <th>...</th>\n",
       "      <td>...</td>\n",
       "      <td>...</td>\n",
       "      <td>...</td>\n",
       "    </tr>\n",
       "    <tr>\n",
       "      <th>995</th>\n",
       "      <td>-0.245720</td>\n",
       "      <td>True</td>\n",
       "      <td>5.981728</td>\n",
       "    </tr>\n",
       "    <tr>\n",
       "      <th>996</th>\n",
       "      <td>0.017892</td>\n",
       "      <td>False</td>\n",
       "      <td>-0.845023</td>\n",
       "    </tr>\n",
       "    <tr>\n",
       "      <th>997</th>\n",
       "      <td>-1.581344</td>\n",
       "      <td>False</td>\n",
       "      <td>-1.525959</td>\n",
       "    </tr>\n",
       "    <tr>\n",
       "      <th>998</th>\n",
       "      <td>-0.508796</td>\n",
       "      <td>False</td>\n",
       "      <td>-0.644371</td>\n",
       "    </tr>\n",
       "    <tr>\n",
       "      <th>999</th>\n",
       "      <td>0.033569</td>\n",
       "      <td>False</td>\n",
       "      <td>-0.672557</td>\n",
       "    </tr>\n",
       "  </tbody>\n",
       "</table>\n",
       "<p>1000 rows × 3 columns</p>\n",
       "</div>"
      ],
      "text/plain": [
       "           W0     v0         y\n",
       "0   -0.832988  False  0.497823\n",
       "1   -2.569926  False -1.202289\n",
       "2   -0.504787  False -1.773538\n",
       "3   -0.046876  False  0.176519\n",
       "4   -0.216126  False  1.335532\n",
       "..        ...    ...       ...\n",
       "995 -0.245720   True  5.981728\n",
       "996  0.017892  False -0.845023\n",
       "997 -1.581344  False -1.525959\n",
       "998 -0.508796  False -0.644371\n",
       "999  0.033569  False -0.672557\n",
       "\n",
       "[1000 rows x 3 columns]"
      ]
     },
     "execution_count": 2,
     "metadata": {},
     "output_type": "execute_result"
    }
   ],
   "source": [
    "data = dowhy.datasets.linear_dataset(beta=5,\n",
    "        num_common_causes=1,\n",
    "        num_instruments = 0,\n",
    "        num_samples=1000,\n",
    "        treatment_is_binary=True)\n",
    "df = data['df']\n",
    "df['y'] = df['y'] + np.random.normal(size=len(df)) # Adding noise to data. Without noise, the variance in Y|X, Z is zero, and mcmc fails.\n",
    "#data['dot_graph'] = 'digraph { v ->y;X0-> v;X0-> y;}'\n",
    "\n",
    "treatment= data[\"treatment_name\"][0]\n",
    "outcome = data[\"outcome_name\"][0]\n",
    "common_cause = data[\"common_causes_names\"][0]\n",
    "df"
   ]
  },
  {
   "cell_type": "code",
   "execution_count": 3,
   "metadata": {
    "execution": {
     "iopub.execute_input": "2022-07-15T15:07:33.176674Z",
     "iopub.status.busy": "2022-07-15T15:07:33.176294Z",
     "iopub.status.idle": "2022-07-15T15:07:33.981953Z",
     "shell.execute_reply": "2022-07-15T15:07:33.981311Z"
    }
   },
   "outputs": [
    {
     "data": {
      "text/plain": [
       "<AxesSubplot:xlabel='v0'>"
      ]
     },
     "execution_count": 3,
     "metadata": {},
     "output_type": "execute_result"
    },
    {
     "data": {
      "image/png": "[encoded data removed]",
      "text/plain": [
       "<Figure size 432x288 with 1 Axes>"
      ]
     },
     "metadata": {
      "needs_background": "light"
     },
     "output_type": "display_data"
    }
   ],
   "source": [
    "# data['df'] is just a regular pandas.DataFrame\n",
    "df.causal.do(x=treatment,\n",
    "                     variable_types={treatment: 'b', outcome: 'c', common_cause: 'c'},\n",
    "                     outcome=outcome,\n",
    "                     common_causes=[common_cause],\n",
    "                     proceed_when_unidentifiable=True).groupby(treatment).mean().plot(y=outcome, kind='bar')"
   ]
  },
  {
   "cell_type": "code",
   "execution_count": 4,
   "metadata": {
    "execution": {
     "iopub.execute_input": "2022-07-15T15:07:33.986281Z",
     "iopub.status.busy": "2022-07-15T15:07:33.985655Z",
     "iopub.status.idle": "2022-07-15T15:07:34.080832Z",
     "shell.execute_reply": "2022-07-15T15:07:34.080222Z"
    }
   },
   "outputs": [
    {
     "data": {
      "text/plain": [
       "<AxesSubplot:xlabel='v0'>"
      ]
     },
     "execution_count": 4,
     "metadata": {},
     "output_type": "execute_result"
    },
    {
     "data": {
      "image/png": "[encoded data removed]",
      "text/plain": [
       "<Figure size 432x288 with 1 Axes>"
      ]
     },
     "metadata": {
      "needs_background": "light"
     },
     "output_type": "display_data"
    }
   ],
   "source": [
    "df.causal.do(x={treatment: 1}, \n",
    "              variable_types={treatment:'b', outcome: 'c', common_cause: 'c'}, \n",
    "              outcome=outcome,\n",
    "              method='weighting', \n",
    "              common_causes=[common_cause],\n",
    "              proceed_when_unidentifiable=True).groupby(treatment).mean().plot(y=outcome, kind='bar')"
   ]
  },
  {
   "cell_type": "code",
   "execution_count": 5,
   "metadata": {
    "execution": {
     "iopub.execute_input": "2022-07-15T15:07:34.084895Z",
     "iopub.status.busy": "2022-07-15T15:07:34.084373Z",
     "iopub.status.idle": "2022-07-15T15:07:34.118857Z",
     "shell.execute_reply": "2022-07-15T15:07:34.118266Z"
    }
   },
   "outputs": [],
   "source": [
    "cdf_1 = df.causal.do(x={treatment: 1}, \n",
    "              variable_types={treatment: 'b', outcome: 'c', common_cause: 'c'}, \n",
    "              outcome=outcome, \n",
    "              dot_graph=data['dot_graph'],\n",
    "              proceed_when_unidentifiable=True)\n",
    "\n",
    "cdf_0 = df.causal.do(x={treatment: 0}, \n",
    "              variable_types={treatment: 'b', outcome: 'c', common_cause: 'c'}, \n",
    "              outcome=outcome, \n",
    "              dot_graph=data['dot_graph'],\n",
    "              proceed_when_unidentifiable=True)\n"
   ]
  },
  {
   "cell_type": "code",
   "execution_count": 6,
   "metadata": {
    "execution": {
     "iopub.execute_input": "2022-07-15T15:07:34.122758Z",
     "iopub.status.busy": "2022-07-15T15:07:34.122313Z",
     "iopub.status.idle": "2022-07-15T15:07:34.134589Z",
     "shell.execute_reply": "2022-07-15T15:07:34.133938Z"
    },
    "scrolled": true
   },
   "outputs": [
    {
     "data": {
      "text/html": [
       "<div>\n",
       "<style scoped>\n",
       "    .dataframe tbody tr th:only-of-type {\n",
       "        vertical-align: middle;\n",
       "    }\n",
       "\n",
       "    .dataframe tbody tr th {\n",
       "        vertical-align: top;\n",
       "    }\n",
       "\n",
       "    .dataframe thead th {\n",
       "        text-align: right;\n",
       "    }\n",
       "</style>\n",
       "<table border=\"1\" class=\"dataframe\">\n",
       "  <thead>\n",
       "    <tr style=\"text-align: right;\">\n",
       "      <th></th>\n",
       "      <th>W0</th>\n",
       "      <th>v0</th>\n",
       "      <th>y</th>\n",
       "      <th>propensity_score</th>\n",
       "      <th>weight</th>\n",
       "    </tr>\n",
       "  </thead>\n",
       "  <tbody>\n",
       "    <tr>\n",
       "      <th>0</th>\n",
       "      <td>-0.179996</td>\n",
       "      <td>False</td>\n",
       "      <td>0.809273</td>\n",
       "      <td>0.609444</td>\n",
       "      <td>1.640839</td>\n",
       "    </tr>\n",
       "    <tr>\n",
       "      <th>1</th>\n",
       "      <td>-1.576401</td>\n",
       "      <td>False</td>\n",
       "      <td>-0.525282</td>\n",
       "      <td>0.976408</td>\n",
       "      <td>1.024162</td>\n",
       "    </tr>\n",
       "    <tr>\n",
       "      <th>2</th>\n",
       "      <td>0.675643</td>\n",
       "      <td>False</td>\n",
       "      <td>-0.066530</td>\n",
       "      <td>0.173131</td>\n",
       "      <td>5.775964</td>\n",
       "    </tr>\n",
       "    <tr>\n",
       "      <th>3</th>\n",
       "      <td>-0.866217</td>\n",
       "      <td>False</td>\n",
       "      <td>-1.577441</td>\n",
       "      <td>0.886537</td>\n",
       "      <td>1.127984</td>\n",
       "    </tr>\n",
       "    <tr>\n",
       "      <th>4</th>\n",
       "      <td>-0.851276</td>\n",
       "      <td>False</td>\n",
       "      <td>-1.226849</td>\n",
       "      <td>0.882961</td>\n",
       "      <td>1.132553</td>\n",
       "    </tr>\n",
       "    <tr>\n",
       "      <th>...</th>\n",
       "      <td>...</td>\n",
       "      <td>...</td>\n",
       "      <td>...</td>\n",
       "      <td>...</td>\n",
       "      <td>...</td>\n",
       "    </tr>\n",
       "    <tr>\n",
       "      <th>995</th>\n",
       "      <td>-2.878935</td>\n",
       "      <td>False</td>\n",
       "      <td>-0.909766</td>\n",
       "      <td>0.998866</td>\n",
       "      <td>1.001136</td>\n",
       "    </tr>\n",
       "    <tr>\n",
       "      <th>996</th>\n",
       "      <td>-1.581344</td>\n",
       "      <td>False</td>\n",
       "      <td>-1.525959</td>\n",
       "      <td>0.976674</td>\n",
       "      <td>1.023883</td>\n",
       "    </tr>\n",
       "    <tr>\n",
       "      <th>997</th>\n",
       "      <td>-1.458289</td>\n",
       "      <td>False</td>\n",
       "      <td>-1.610629</td>\n",
       "      <td>0.969103</td>\n",
       "      <td>1.031882</td>\n",
       "    </tr>\n",
       "    <tr>\n",
       "      <th>998</th>\n",
       "      <td>-0.944229</td>\n",
       "      <td>False</td>\n",
       "      <td>-1.983212</td>\n",
       "      <td>0.903695</td>\n",
       "      <td>1.106567</td>\n",
       "    </tr>\n",
       "    <tr>\n",
       "      <th>999</th>\n",
       "      <td>0.118882</td>\n",
       "      <td>False</td>\n",
       "      <td>-0.230676</td>\n",
       "      <td>0.436193</td>\n",
       "      <td>2.292562</td>\n",
       "    </tr>\n",
       "  </tbody>\n",
       "</table>\n",
       "<p>1000 rows × 5 columns</p>\n",
       "</div>"
      ],
      "text/plain": [
       "           W0     v0         y  propensity_score    weight\n",
       "0   -0.179996  False  0.809273          0.609444  1.640839\n",
       "1   -1.576401  False -0.525282          0.976408  1.024162\n",
       "2    0.675643  False -0.066530          0.173131  5.775964\n",
       "3   -0.866217  False -1.577441          0.886537  1.127984\n",
       "4   -0.851276  False -1.226849          0.882961  1.132553\n",
       "..        ...    ...       ...               ...       ...\n",
       "995 -2.878935  False -0.909766          0.998866  1.001136\n",
       "996 -1.581344  False -1.525959          0.976674  1.023883\n",
       "997 -1.458289  False -1.610629          0.969103  1.031882\n",
       "998 -0.944229  False -1.983212          0.903695  1.106567\n",
       "999  0.118882  False -0.230676          0.436193  2.292562\n",
       "\n",
       "[1000 rows x 5 columns]"
      ]
     },
     "execution_count": 6,
     "metadata": {},
     "output_type": "execute_result"
    }
   ],
   "source": [
    "cdf_0"
   ]
  },
  {
   "cell_type": "code",
   "execution_count": 7,
   "metadata": {
    "execution": {
     "iopub.execute_input": "2022-07-15T15:07:34.137482Z",
     "iopub.status.busy": "2022-07-15T15:07:34.137253Z",
     "iopub.status.idle": "2022-07-15T15:07:34.149329Z",
     "shell.execute_reply": "2022-07-15T15:07:34.148731Z"
    }
   },
   "outputs": [
    {
     "data": {
      "text/html": [
       "<div>\n",
       "<style scoped>\n",
       "    .dataframe tbody tr th:only-of-type {\n",
       "        vertical-align: middle;\n",
       "    }\n",
       "\n",
       "    .dataframe tbody tr th {\n",
       "        vertical-align: top;\n",
       "    }\n",
       "\n",
       "    .dataframe thead th {\n",
       "        text-align: right;\n",
       "    }\n",
       "</style>\n",
       "<table border=\"1\" class=\"dataframe\">\n",
       "  <thead>\n",
       "    <tr style=\"text-align: right;\">\n",
       "      <th></th>\n",
       "      <th>W0</th>\n",
       "      <th>v0</th>\n",
       "      <th>y</th>\n",
       "      <th>propensity_score</th>\n",
       "      <th>weight</th>\n",
       "    </tr>\n",
       "  </thead>\n",
       "  <tbody>\n",
       "    <tr>\n",
       "      <th>0</th>\n",
       "      <td>-0.779254</td>\n",
       "      <td>True</td>\n",
       "      <td>4.972477</td>\n",
       "      <td>0.135673</td>\n",
       "      <td>7.370674</td>\n",
       "    </tr>\n",
       "    <tr>\n",
       "      <th>1</th>\n",
       "      <td>-1.372015</td>\n",
       "      <td>True</td>\n",
       "      <td>3.611434</td>\n",
       "      <td>0.037573</td>\n",
       "      <td>26.615122</td>\n",
       "    </tr>\n",
       "    <tr>\n",
       "      <th>2</th>\n",
       "      <td>-0.772927</td>\n",
       "      <td>True</td>\n",
       "      <td>4.460582</td>\n",
       "      <td>0.137424</td>\n",
       "      <td>7.276762</td>\n",
       "    </tr>\n",
       "    <tr>\n",
       "      <th>3</th>\n",
       "      <td>-1.467343</td>\n",
       "      <td>True</td>\n",
       "      <td>3.166262</td>\n",
       "      <td>0.030267</td>\n",
       "      <td>33.039236</td>\n",
       "    </tr>\n",
       "    <tr>\n",
       "      <th>4</th>\n",
       "      <td>-1.372015</td>\n",
       "      <td>True</td>\n",
       "      <td>3.611434</td>\n",
       "      <td>0.037573</td>\n",
       "      <td>26.615122</td>\n",
       "    </tr>\n",
       "    <tr>\n",
       "      <th>...</th>\n",
       "      <td>...</td>\n",
       "      <td>...</td>\n",
       "      <td>...</td>\n",
       "      <td>...</td>\n",
       "      <td>...</td>\n",
       "    </tr>\n",
       "    <tr>\n",
       "      <th>995</th>\n",
       "      <td>-1.467343</td>\n",
       "      <td>True</td>\n",
       "      <td>3.166262</td>\n",
       "      <td>0.030267</td>\n",
       "      <td>33.039236</td>\n",
       "    </tr>\n",
       "    <tr>\n",
       "      <th>996</th>\n",
       "      <td>-1.472969</td>\n",
       "      <td>True</td>\n",
       "      <td>3.093660</td>\n",
       "      <td>0.029882</td>\n",
       "      <td>33.465210</td>\n",
       "    </tr>\n",
       "    <tr>\n",
       "      <th>997</th>\n",
       "      <td>-0.628181</td>\n",
       "      <td>True</td>\n",
       "      <td>4.823224</td>\n",
       "      <td>0.182863</td>\n",
       "      <td>5.468568</td>\n",
       "    </tr>\n",
       "    <tr>\n",
       "      <th>998</th>\n",
       "      <td>-1.472969</td>\n",
       "      <td>True</td>\n",
       "      <td>3.093660</td>\n",
       "      <td>0.029882</td>\n",
       "      <td>33.465210</td>\n",
       "    </tr>\n",
       "    <tr>\n",
       "      <th>999</th>\n",
       "      <td>0.163686</td>\n",
       "      <td>True</td>\n",
       "      <td>4.277088</td>\n",
       "      <td>0.589476</td>\n",
       "      <td>1.696421</td>\n",
       "    </tr>\n",
       "  </tbody>\n",
       "</table>\n",
       "<p>1000 rows × 5 columns</p>\n",
       "</div>"
      ],
      "text/plain": [
       "           W0    v0         y  propensity_score     weight\n",
       "0   -0.779254  True  4.972477          0.135673   7.370674\n",
       "1   -1.372015  True  3.611434          0.037573  26.615122\n",
       "2   -0.772927  True  4.460582          0.137424   7.276762\n",
       "3   -1.467343  True  3.166262          0.030267  33.039236\n",
       "4   -1.372015  True  3.611434          0.037573  26.615122\n",
       "..        ...   ...       ...               ...        ...\n",
       "995 -1.467343  True  3.166262          0.030267  33.039236\n",
       "996 -1.472969  True  3.093660          0.029882  33.465210\n",
       "997 -0.628181  True  4.823224          0.182863   5.468568\n",
       "998 -1.472969  True  3.093660          0.029882  33.465210\n",
       "999  0.163686  True  4.277088          0.589476   1.696421\n",
       "\n",
       "[1000 rows x 5 columns]"
      ]
     },
     "execution_count": 7,
     "metadata": {},
     "output_type": "execute_result"
    }
   ],
   "source": [
    "cdf_1"
   ]
  },
  {
   "cell_type": "markdown",
   "metadata": {},
   "source": [
    "## Comparing the estimate to Linear Regression\n",
    "First, estimating the effect using the causal data frame, and the 95% confidence interval."
   ]
  },
  {
   "cell_type": "code",
   "execution_count": 8,
   "metadata": {
    "execution": {
     "iopub.execute_input": "2022-07-15T15:07:34.152505Z",
     "iopub.status.busy": "2022-07-15T15:07:34.151893Z",
     "iopub.status.idle": "2022-07-15T15:07:34.254570Z",
     "shell.execute_reply": "2022-07-15T15:07:34.253824Z"
    }
   },
   "outputs": [
    {
     "data": {
      "image/png": "[encoded data removed]",
      "text/latex": [
       "$\\displaystyle 5.18396491595546$"
      ],
      "text/plain": [
       "5.183964915955457"
      ]
     },
     "execution_count": 8,
     "metadata": {},
     "output_type": "execute_result"
    }
   ],
   "source": [
    "(cdf_1['y'] - cdf_0['y']).mean()"
   ]
  },
  {
   "cell_type": "code",
   "execution_count": 9,
   "metadata": {
    "execution": {
     "iopub.execute_input": "2022-07-15T15:07:34.257968Z",
     "iopub.status.busy": "2022-07-15T15:07:34.257717Z",
     "iopub.status.idle": "2022-07-15T15:07:34.283772Z",
     "shell.execute_reply": "2022-07-15T15:07:34.283040Z"
    }
   },
   "outputs": [
    {
     "data": {
      "image/png": "[encoded data removed]",
      "text/latex": [
       "$\\displaystyle 0.0971705390181861$"
      ],
      "text/plain": [
       "0.09717053901818613"
      ]
     },
     "execution_count": 9,
     "metadata": {},
     "output_type": "execute_result"
    }
   ],
   "source": [
    "1.96*(cdf_1['y'] - cdf_0['y']).std() / np.sqrt(len(df))"
   ]
  },
  {
   "cell_type": "markdown",
   "metadata": {},
   "source": [
    "Comparing to the estimate from OLS."
   ]
  },
  {
   "cell_type": "code",
   "execution_count": 10,
   "metadata": {
    "execution": {
     "iopub.execute_input": "2022-07-15T15:07:34.287071Z",
     "iopub.status.busy": "2022-07-15T15:07:34.286674Z",
     "iopub.status.idle": "2022-07-15T15:07:34.301872Z",
     "shell.execute_reply": "2022-07-15T15:07:34.301220Z"
    }
   },
   "outputs": [
    {
     "data": {
      "text/html": [
       "<table class=\"simpletable\">\n",
       "<caption>OLS Regression Results</caption>\n",
       "<tr>\n",
       "  <th>Dep. Variable:</th>            <td>y</td>        <th>  R-squared (uncentered):</th>      <td>   0.883</td>\n",
       "</tr>\n",
       "<tr>\n",
       "  <th>Model:</th>                   <td>OLS</td>       <th>  Adj. R-squared (uncentered):</th> <td>   0.882</td>\n",
       "</tr>\n",
       "<tr>\n",
       "  <th>Method:</th>             <td>Least Squares</td>  <th>  F-statistic:       </th>          <td>   3750.</td>\n",
       "</tr>\n",
       "<tr>\n",
       "  <th>Date:</th>             <td>Fri, 15 Jul 2022</td> <th>  Prob (F-statistic):</th>           <td>  0.00</td> \n",
       "</tr>\n",
       "<tr>\n",
       "  <th>Time:</th>                 <td>15:07:34</td>     <th>  Log-Likelihood:    </th>          <td> -1409.8</td>\n",
       "</tr>\n",
       "<tr>\n",
       "  <th>No. Observations:</th>      <td>  1000</td>      <th>  AIC:               </th>          <td>   2824.</td>\n",
       "</tr>\n",
       "<tr>\n",
       "  <th>Df Residuals:</th>          <td>   998</td>      <th>  BIC:               </th>          <td>   2833.</td>\n",
       "</tr>\n",
       "<tr>\n",
       "  <th>Df Model:</th>              <td>     2</td>      <th>                     </th>              <td> </td>   \n",
       "</tr>\n",
       "<tr>\n",
       "  <th>Covariance Type:</th>      <td>nonrobust</td>    <th>                     </th>              <td> </td>   \n",
       "</tr>\n",
       "</table>\n",
       "<table class=\"simpletable\">\n",
       "<tr>\n",
       "   <td></td>     <th>coef</th>     <th>std err</th>      <th>t</th>      <th>P>|t|</th>  <th>[0.025</th>    <th>0.975]</th>  \n",
       "</tr>\n",
       "<tr>\n",
       "  <th>x1</th> <td>    0.6169</td> <td>    0.024</td> <td>   25.530</td> <td> 0.000</td> <td>    0.570</td> <td>    0.664</td>\n",
       "</tr>\n",
       "<tr>\n",
       "  <th>x2</th> <td>    4.9312</td> <td>    0.061</td> <td>   80.346</td> <td> 0.000</td> <td>    4.811</td> <td>    5.052</td>\n",
       "</tr>\n",
       "</table>\n",
       "<table class=\"simpletable\">\n",
       "<tr>\n",
       "  <th>Omnibus:</th>       <td> 1.507</td> <th>  Durbin-Watson:     </th> <td>   1.939</td>\n",
       "</tr>\n",
       "<tr>\n",
       "  <th>Prob(Omnibus):</th> <td> 0.471</td> <th>  Jarque-Bera (JB):  </th> <td>   1.538</td>\n",
       "</tr>\n",
       "<tr>\n",
       "  <th>Skew:</th>          <td> 0.056</td> <th>  Prob(JB):          </th> <td>   0.464</td>\n",
       "</tr>\n",
       "<tr>\n",
       "  <th>Kurtosis:</th>      <td> 2.844</td> <th>  Cond. No.          </th> <td>    2.55</td>\n",
       "</tr>\n",
       "</table><br/><br/>Notes:<br/>[1] R² is computed without centering (uncentered) since the model does not contain a constant.<br/>[2] Standard Errors assume that the covariance matrix of the errors is correctly specified."
      ],
      "text/plain": [
       "<class 'statsmodels.iolib.summary.Summary'>\n",
       "\"\"\"\n",
       "                                 OLS Regression Results                                \n",
       "=======================================================================================\n",
       "Dep. Variable:                      y   R-squared (uncentered):                   0.883\n",
       "Model:                            OLS   Adj. R-squared (uncentered):              0.882\n",
       "Method:                 Least Squares   F-statistic:                              3750.\n",
       "Date:                Fri, 15 Jul 2022   Prob (F-statistic):                        0.00\n",
       "Time:                        15:07:34   Log-Likelihood:                         -1409.8\n",
       "No. Observations:                1000   AIC:                                      2824.\n",
       "Df Residuals:                     998   BIC:                                      2833.\n",
       "Df Model:                           2                                                  \n",
       "Covariance Type:            nonrobust                                                  \n",
       "==============================================================================\n",
       "                 coef    std err          t      P>|t|      [0.025      0.975]\n",
       "------------------------------------------------------------------------------\n",
       "x1             0.6169      0.024     25.530      0.000       0.570       0.664\n",
       "x2             4.9312      0.061     80.346      0.000       4.811       5.052\n",
       "==============================================================================\n",
       "Omnibus:                        1.507   Durbin-Watson:                   1.939\n",
       "Prob(Omnibus):                  0.471   Jarque-Bera (JB):                1.538\n",
       "Skew:                           0.056   Prob(JB):                        0.464\n",
       "Kurtosis:                       2.844   Cond. No.                         2.55\n",
       "==============================================================================\n",
       "\n",
       "Notes:\n",
       "[1] R² is computed without centering (uncentered) since the model does not contain a constant.\n",
       "[2] Standard Errors assume that the covariance matrix of the errors is correctly specified.\n",
       "\"\"\""
      ]
     },
     "execution_count": 10,
     "metadata": {},
     "output_type": "execute_result"
    }
   ],
   "source": [
    "model = OLS(np.asarray(df[outcome]), np.asarray(df[[common_cause, treatment]], dtype=np.float64))\n",
    "result = model.fit()\n",
    "result.summary()"
   ]
  }
 ],
 "metadata": {
  "kernelspec": {
   "display_name": "Python 3",
   "language": "python",
   "name": "python3"
  },
  "language_info": {
   "codemirror_mode": {
    "name": "ipython",
    "version": 3
   },
   "file_extension": ".py",
   "mimetype": "text/x-python",
   "name": "python",
   "nbconvert_exporter": "python",
   "pygments_lexer": "ipython3",
   "version": "3.8.10"
  },
  "toc": {
   "base_numbering": 1,
   "nav_menu": {},
   "number_sections": false,
   "sideBar": true,
   "skip_h1_title": true,
   "title_cell": "Table of Contents",
   "title_sidebar": "Contents",
   "toc_cell": false,
   "toc_position": {},
   "toc_section_display": true,
   "toc_window_display": false
  }
 },
 "nbformat": 4,
 "nbformat_minor": 4
}
