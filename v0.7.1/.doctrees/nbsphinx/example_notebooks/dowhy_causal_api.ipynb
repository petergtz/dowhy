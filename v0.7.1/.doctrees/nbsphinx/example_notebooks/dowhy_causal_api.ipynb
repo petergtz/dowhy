{
 "cells": [
  {
   "cell_type": "markdown",
   "metadata": {},
   "source": [
    "# Demo for the DoWhy causal API\n",
    "We show a simple example of adding a causal extension to any dataframe. "
   ]
  },
  {
   "cell_type": "code",
   "execution_count": 1,
   "metadata": {
    "execution": {
     "iopub.execute_input": "2022-07-27T13:54:35.724784Z",
     "iopub.status.busy": "2022-07-27T13:54:35.724470Z",
     "iopub.status.idle": "2022-07-27T13:54:37.266755Z",
     "shell.execute_reply": "2022-07-27T13:54:37.265680Z"
    }
   },
   "outputs": [
    {
     "name": "stdout",
     "output_type": "stream",
     "text": [
      "keywords are unexpanded, not using\n"
     ]
    }
   ],
   "source": [
    "import dowhy.datasets\n",
    "import dowhy.api\n",
    "\n",
    "import numpy as np\n",
    "import pandas as pd\n",
    "\n",
    "from statsmodels.api import OLS"
   ]
  },
  {
   "cell_type": "code",
   "execution_count": 2,
   "metadata": {
    "execution": {
     "iopub.execute_input": "2022-07-27T13:54:37.271755Z",
     "iopub.status.busy": "2022-07-27T13:54:37.271006Z",
     "iopub.status.idle": "2022-07-27T13:54:37.344791Z",
     "shell.execute_reply": "2022-07-27T13:54:37.343924Z"
    }
   },
   "outputs": [
    {
     "data": {
      "text/html": [
       "<div>\n",
       "<style scoped>\n",
       "    .dataframe tbody tr th:only-of-type {\n",
       "        vertical-align: middle;\n",
       "    }\n",
       "\n",
       "    .dataframe tbody tr th {\n",
       "        vertical-align: top;\n",
       "    }\n",
       "\n",
       "    .dataframe thead th {\n",
       "        text-align: right;\n",
       "    }\n",
       "</style>\n",
       "<table border=\"1\" class=\"dataframe\">\n",
       "  <thead>\n",
       "    <tr style=\"text-align: right;\">\n",
       "      <th></th>\n",
       "      <th>W0</th>\n",
       "      <th>v0</th>\n",
       "      <th>y</th>\n",
       "    </tr>\n",
       "  </thead>\n",
       "  <tbody>\n",
       "    <tr>\n",
       "      <th>0</th>\n",
       "      <td>1.715005</td>\n",
       "      <td>True</td>\n",
       "      <td>5.659198</td>\n",
       "    </tr>\n",
       "    <tr>\n",
       "      <th>1</th>\n",
       "      <td>-1.620697</td>\n",
       "      <td>False</td>\n",
       "      <td>-3.125415</td>\n",
       "    </tr>\n",
       "    <tr>\n",
       "      <th>2</th>\n",
       "      <td>-1.752493</td>\n",
       "      <td>False</td>\n",
       "      <td>-3.144005</td>\n",
       "    </tr>\n",
       "    <tr>\n",
       "      <th>3</th>\n",
       "      <td>0.013939</td>\n",
       "      <td>True</td>\n",
       "      <td>6.889675</td>\n",
       "    </tr>\n",
       "    <tr>\n",
       "      <th>4</th>\n",
       "      <td>-0.673255</td>\n",
       "      <td>True</td>\n",
       "      <td>3.454869</td>\n",
       "    </tr>\n",
       "    <tr>\n",
       "      <th>...</th>\n",
       "      <td>...</td>\n",
       "      <td>...</td>\n",
       "      <td>...</td>\n",
       "    </tr>\n",
       "    <tr>\n",
       "      <th>995</th>\n",
       "      <td>-1.057805</td>\n",
       "      <td>True</td>\n",
       "      <td>4.873714</td>\n",
       "    </tr>\n",
       "    <tr>\n",
       "      <th>996</th>\n",
       "      <td>-0.327193</td>\n",
       "      <td>True</td>\n",
       "      <td>3.347015</td>\n",
       "    </tr>\n",
       "    <tr>\n",
       "      <th>997</th>\n",
       "      <td>0.186486</td>\n",
       "      <td>True</td>\n",
       "      <td>3.773212</td>\n",
       "    </tr>\n",
       "    <tr>\n",
       "      <th>998</th>\n",
       "      <td>-0.116920</td>\n",
       "      <td>False</td>\n",
       "      <td>-0.145078</td>\n",
       "    </tr>\n",
       "    <tr>\n",
       "      <th>999</th>\n",
       "      <td>-0.048707</td>\n",
       "      <td>False</td>\n",
       "      <td>-1.056164</td>\n",
       "    </tr>\n",
       "  </tbody>\n",
       "</table>\n",
       "<p>1000 rows × 3 columns</p>\n",
       "</div>"
      ],
      "text/plain": [
       "           W0     v0         y\n",
       "0    1.715005   True  5.659198\n",
       "1   -1.620697  False -3.125415\n",
       "2   -1.752493  False -3.144005\n",
       "3    0.013939   True  6.889675\n",
       "4   -0.673255   True  3.454869\n",
       "..        ...    ...       ...\n",
       "995 -1.057805   True  4.873714\n",
       "996 -0.327193   True  3.347015\n",
       "997  0.186486   True  3.773212\n",
       "998 -0.116920  False -0.145078\n",
       "999 -0.048707  False -1.056164\n",
       "\n",
       "[1000 rows x 3 columns]"
      ]
     },
     "execution_count": 2,
     "metadata": {},
     "output_type": "execute_result"
    }
   ],
   "source": [
    "data = dowhy.datasets.linear_dataset(beta=5,\n",
    "        num_common_causes=1,\n",
    "        num_instruments = 0,\n",
    "        num_samples=1000,\n",
    "        treatment_is_binary=True)\n",
    "df = data['df']\n",
    "df['y'] = df['y'] + np.random.normal(size=len(df)) # Adding noise to data. Without noise, the variance in Y|X, Z is zero, and mcmc fails.\n",
    "#data['dot_graph'] = 'digraph { v ->y;X0-> v;X0-> y;}'\n",
    "\n",
    "treatment= data[\"treatment_name\"][0]\n",
    "outcome = data[\"outcome_name\"][0]\n",
    "common_cause = data[\"common_causes_names\"][0]\n",
    "df"
   ]
  },
  {
   "cell_type": "code",
   "execution_count": 3,
   "metadata": {
    "execution": {
     "iopub.execute_input": "2022-07-27T13:54:37.348843Z",
     "iopub.status.busy": "2022-07-27T13:54:37.348215Z",
     "iopub.status.idle": "2022-07-27T13:54:38.341414Z",
     "shell.execute_reply": "2022-07-27T13:54:38.340602Z"
    }
   },
   "outputs": [
    {
     "data": {
      "text/plain": [
       "<AxesSubplot:xlabel='v0'>"
      ]
     },
     "execution_count": 3,
     "metadata": {},
     "output_type": "execute_result"
    },
    {
     "data": {
      "image/png": "[encoded data removed]",
      "text/plain": [
       "<Figure size 432x288 with 1 Axes>"
      ]
     },
     "metadata": {
      "needs_background": "light"
     },
     "output_type": "display_data"
    }
   ],
   "source": [
    "# data['df'] is just a regular pandas.DataFrame\n",
    "df.causal.do(x=treatment,\n",
    "                     variable_types={treatment: 'b', outcome: 'c', common_cause: 'c'},\n",
    "                     outcome=outcome,\n",
    "                     common_causes=[common_cause],\n",
    "                     proceed_when_unidentifiable=True).groupby(treatment).mean().plot(y=outcome, kind='bar')"
   ]
  },
  {
   "cell_type": "code",
   "execution_count": 4,
   "metadata": {
    "execution": {
     "iopub.execute_input": "2022-07-27T13:54:38.347424Z",
     "iopub.status.busy": "2022-07-27T13:54:38.345897Z",
     "iopub.status.idle": "2022-07-27T13:54:38.485747Z",
     "shell.execute_reply": "2022-07-27T13:54:38.484766Z"
    }
   },
   "outputs": [
    {
     "data": {
      "text/plain": [
       "<AxesSubplot:xlabel='v0'>"
      ]
     },
     "execution_count": 4,
     "metadata": {},
     "output_type": "execute_result"
    },
    {
     "data": {
      "image/png": "[encoded data removed]",
      "text/plain": [
       "<Figure size 432x288 with 1 Axes>"
      ]
     },
     "metadata": {
      "needs_background": "light"
     },
     "output_type": "display_data"
    }
   ],
   "source": [
    "df.causal.do(x={treatment: 1}, \n",
    "              variable_types={treatment:'b', outcome: 'c', common_cause: 'c'}, \n",
    "              outcome=outcome,\n",
    "              method='weighting', \n",
    "              common_causes=[common_cause],\n",
    "              proceed_when_unidentifiable=True).groupby(treatment).mean().plot(y=outcome, kind='bar')"
   ]
  },
  {
   "cell_type": "code",
   "execution_count": 5,
   "metadata": {
    "execution": {
     "iopub.execute_input": "2022-07-27T13:54:38.492113Z",
     "iopub.status.busy": "2022-07-27T13:54:38.490660Z",
     "iopub.status.idle": "2022-07-27T13:54:38.539600Z",
     "shell.execute_reply": "2022-07-27T13:54:38.538575Z"
    }
   },
   "outputs": [],
   "source": [
    "cdf_1 = df.causal.do(x={treatment: 1}, \n",
    "              variable_types={treatment: 'b', outcome: 'c', common_cause: 'c'}, \n",
    "              outcome=outcome, \n",
    "              dot_graph=data['dot_graph'],\n",
    "              proceed_when_unidentifiable=True)\n",
    "\n",
    "cdf_0 = df.causal.do(x={treatment: 0}, \n",
    "              variable_types={treatment: 'b', outcome: 'c', common_cause: 'c'}, \n",
    "              outcome=outcome, \n",
    "              dot_graph=data['dot_graph'],\n",
    "              proceed_when_unidentifiable=True)\n"
   ]
  },
  {
   "cell_type": "code",
   "execution_count": 6,
   "metadata": {
    "execution": {
     "iopub.execute_input": "2022-07-27T13:54:38.543556Z",
     "iopub.status.busy": "2022-07-27T13:54:38.543037Z",
     "iopub.status.idle": "2022-07-27T13:54:38.561918Z",
     "shell.execute_reply": "2022-07-27T13:54:38.560971Z"
    },
    "scrolled": true
   },
   "outputs": [
    {
     "data": {
      "text/html": [
       "<div>\n",
       "<style scoped>\n",
       "    .dataframe tbody tr th:only-of-type {\n",
       "        vertical-align: middle;\n",
       "    }\n",
       "\n",
       "    .dataframe tbody tr th {\n",
       "        vertical-align: top;\n",
       "    }\n",
       "\n",
       "    .dataframe thead th {\n",
       "        text-align: right;\n",
       "    }\n",
       "</style>\n",
       "<table border=\"1\" class=\"dataframe\">\n",
       "  <thead>\n",
       "    <tr style=\"text-align: right;\">\n",
       "      <th></th>\n",
       "      <th>W0</th>\n",
       "      <th>v0</th>\n",
       "      <th>y</th>\n",
       "      <th>propensity_score</th>\n",
       "      <th>weight</th>\n",
       "    </tr>\n",
       "  </thead>\n",
       "  <tbody>\n",
       "    <tr>\n",
       "      <th>0</th>\n",
       "      <td>0.317029</td>\n",
       "      <td>False</td>\n",
       "      <td>-0.392311</td>\n",
       "      <td>0.409689</td>\n",
       "      <td>2.440874</td>\n",
       "    </tr>\n",
       "    <tr>\n",
       "      <th>1</th>\n",
       "      <td>-0.637205</td>\n",
       "      <td>False</td>\n",
       "      <td>-1.420445</td>\n",
       "      <td>0.717270</td>\n",
       "      <td>1.394176</td>\n",
       "    </tr>\n",
       "    <tr>\n",
       "      <th>2</th>\n",
       "      <td>-0.149389</td>\n",
       "      <td>False</td>\n",
       "      <td>-1.816512</td>\n",
       "      <td>0.566681</td>\n",
       "      <td>1.764662</td>\n",
       "    </tr>\n",
       "    <tr>\n",
       "      <th>3</th>\n",
       "      <td>-0.149389</td>\n",
       "      <td>False</td>\n",
       "      <td>-1.816512</td>\n",
       "      <td>0.566681</td>\n",
       "      <td>1.764662</td>\n",
       "    </tr>\n",
       "    <tr>\n",
       "      <th>4</th>\n",
       "      <td>0.560838</td>\n",
       "      <td>False</td>\n",
       "      <td>0.370359</td>\n",
       "      <td>0.332603</td>\n",
       "      <td>3.006583</td>\n",
       "    </tr>\n",
       "    <tr>\n",
       "      <th>...</th>\n",
       "      <td>...</td>\n",
       "      <td>...</td>\n",
       "      <td>...</td>\n",
       "      <td>...</td>\n",
       "      <td>...</td>\n",
       "    </tr>\n",
       "    <tr>\n",
       "      <th>995</th>\n",
       "      <td>0.225082</td>\n",
       "      <td>False</td>\n",
       "      <td>0.172930</td>\n",
       "      <td>0.440200</td>\n",
       "      <td>2.271696</td>\n",
       "    </tr>\n",
       "    <tr>\n",
       "      <th>996</th>\n",
       "      <td>-0.548771</td>\n",
       "      <td>False</td>\n",
       "      <td>-1.950298</td>\n",
       "      <td>0.692287</td>\n",
       "      <td>1.444488</td>\n",
       "    </tr>\n",
       "    <tr>\n",
       "      <th>997</th>\n",
       "      <td>1.326658</td>\n",
       "      <td>False</td>\n",
       "      <td>1.728349</td>\n",
       "      <td>0.149732</td>\n",
       "      <td>6.678607</td>\n",
       "    </tr>\n",
       "    <tr>\n",
       "      <th>998</th>\n",
       "      <td>0.566108</td>\n",
       "      <td>False</td>\n",
       "      <td>0.540323</td>\n",
       "      <td>0.331016</td>\n",
       "      <td>3.020999</td>\n",
       "    </tr>\n",
       "    <tr>\n",
       "      <th>999</th>\n",
       "      <td>1.023912</td>\n",
       "      <td>False</td>\n",
       "      <td>2.095250</td>\n",
       "      <td>0.209911</td>\n",
       "      <td>4.763927</td>\n",
       "    </tr>\n",
       "  </tbody>\n",
       "</table>\n",
       "<p>1000 rows × 5 columns</p>\n",
       "</div>"
      ],
      "text/plain": [
       "           W0     v0         y  propensity_score    weight\n",
       "0    0.317029  False -0.392311          0.409689  2.440874\n",
       "1   -0.637205  False -1.420445          0.717270  1.394176\n",
       "2   -0.149389  False -1.816512          0.566681  1.764662\n",
       "3   -0.149389  False -1.816512          0.566681  1.764662\n",
       "4    0.560838  False  0.370359          0.332603  3.006583\n",
       "..        ...    ...       ...               ...       ...\n",
       "995  0.225082  False  0.172930          0.440200  2.271696\n",
       "996 -0.548771  False -1.950298          0.692287  1.444488\n",
       "997  1.326658  False  1.728349          0.149732  6.678607\n",
       "998  0.566108  False  0.540323          0.331016  3.020999\n",
       "999  1.023912  False  2.095250          0.209911  4.763927\n",
       "\n",
       "[1000 rows x 5 columns]"
      ]
     },
     "execution_count": 6,
     "metadata": {},
     "output_type": "execute_result"
    }
   ],
   "source": [
    "cdf_0"
   ]
  },
  {
   "cell_type": "code",
   "execution_count": 7,
   "metadata": {
    "execution": {
     "iopub.execute_input": "2022-07-27T13:54:38.565477Z",
     "iopub.status.busy": "2022-07-27T13:54:38.565152Z",
     "iopub.status.idle": "2022-07-27T13:54:38.580376Z",
     "shell.execute_reply": "2022-07-27T13:54:38.579379Z"
    }
   },
   "outputs": [
    {
     "data": {
      "text/html": [
       "<div>\n",
       "<style scoped>\n",
       "    .dataframe tbody tr th:only-of-type {\n",
       "        vertical-align: middle;\n",
       "    }\n",
       "\n",
       "    .dataframe tbody tr th {\n",
       "        vertical-align: top;\n",
       "    }\n",
       "\n",
       "    .dataframe thead th {\n",
       "        text-align: right;\n",
       "    }\n",
       "</style>\n",
       "<table border=\"1\" class=\"dataframe\">\n",
       "  <thead>\n",
       "    <tr style=\"text-align: right;\">\n",
       "      <th></th>\n",
       "      <th>W0</th>\n",
       "      <th>v0</th>\n",
       "      <th>y</th>\n",
       "      <th>propensity_score</th>\n",
       "      <th>weight</th>\n",
       "    </tr>\n",
       "  </thead>\n",
       "  <tbody>\n",
       "    <tr>\n",
       "      <th>0</th>\n",
       "      <td>-0.505391</td>\n",
       "      <td>True</td>\n",
       "      <td>4.524817</td>\n",
       "      <td>0.320406</td>\n",
       "      <td>3.121038</td>\n",
       "    </tr>\n",
       "    <tr>\n",
       "      <th>1</th>\n",
       "      <td>-0.467810</td>\n",
       "      <td>True</td>\n",
       "      <td>5.720615</td>\n",
       "      <td>0.331622</td>\n",
       "      <td>3.015478</td>\n",
       "    </tr>\n",
       "    <tr>\n",
       "      <th>2</th>\n",
       "      <td>0.554513</td>\n",
       "      <td>True</td>\n",
       "      <td>6.493333</td>\n",
       "      <td>0.665487</td>\n",
       "      <td>1.502660</td>\n",
       "    </tr>\n",
       "    <tr>\n",
       "      <th>3</th>\n",
       "      <td>0.337231</td>\n",
       "      <td>True</td>\n",
       "      <td>7.046618</td>\n",
       "      <td>0.596930</td>\n",
       "      <td>1.675237</td>\n",
       "    </tr>\n",
       "    <tr>\n",
       "      <th>4</th>\n",
       "      <td>-0.087099</td>\n",
       "      <td>True</td>\n",
       "      <td>3.141479</td>\n",
       "      <td>0.454202</td>\n",
       "      <td>2.201665</td>\n",
       "    </tr>\n",
       "    <tr>\n",
       "      <th>...</th>\n",
       "      <td>...</td>\n",
       "      <td>...</td>\n",
       "      <td>...</td>\n",
       "      <td>...</td>\n",
       "      <td>...</td>\n",
       "    </tr>\n",
       "    <tr>\n",
       "      <th>995</th>\n",
       "      <td>-0.128905</td>\n",
       "      <td>True</td>\n",
       "      <td>6.423158</td>\n",
       "      <td>0.440164</td>\n",
       "      <td>2.271880</td>\n",
       "    </tr>\n",
       "    <tr>\n",
       "      <th>996</th>\n",
       "      <td>0.072927</td>\n",
       "      <td>True</td>\n",
       "      <td>4.669278</td>\n",
       "      <td>0.508416</td>\n",
       "      <td>1.966892</td>\n",
       "    </tr>\n",
       "    <tr>\n",
       "      <th>997</th>\n",
       "      <td>0.306562</td>\n",
       "      <td>True</td>\n",
       "      <td>6.961555</td>\n",
       "      <td>0.586868</td>\n",
       "      <td>1.703962</td>\n",
       "    </tr>\n",
       "    <tr>\n",
       "      <th>998</th>\n",
       "      <td>0.909117</td>\n",
       "      <td>True</td>\n",
       "      <td>5.110660</td>\n",
       "      <td>0.763060</td>\n",
       "      <td>1.310513</td>\n",
       "    </tr>\n",
       "    <tr>\n",
       "      <th>999</th>\n",
       "      <td>1.806167</td>\n",
       "      <td>True</td>\n",
       "      <td>8.494323</td>\n",
       "      <td>0.915912</td>\n",
       "      <td>1.091808</td>\n",
       "    </tr>\n",
       "  </tbody>\n",
       "</table>\n",
       "<p>1000 rows × 5 columns</p>\n",
       "</div>"
      ],
      "text/plain": [
       "           W0    v0         y  propensity_score    weight\n",
       "0   -0.505391  True  4.524817          0.320406  3.121038\n",
       "1   -0.467810  True  5.720615          0.331622  3.015478\n",
       "2    0.554513  True  6.493333          0.665487  1.502660\n",
       "3    0.337231  True  7.046618          0.596930  1.675237\n",
       "4   -0.087099  True  3.141479          0.454202  2.201665\n",
       "..        ...   ...       ...               ...       ...\n",
       "995 -0.128905  True  6.423158          0.440164  2.271880\n",
       "996  0.072927  True  4.669278          0.508416  1.966892\n",
       "997  0.306562  True  6.961555          0.586868  1.703962\n",
       "998  0.909117  True  5.110660          0.763060  1.310513\n",
       "999  1.806167  True  8.494323          0.915912  1.091808\n",
       "\n",
       "[1000 rows x 5 columns]"
      ]
     },
     "execution_count": 7,
     "metadata": {},
     "output_type": "execute_result"
    }
   ],
   "source": [
    "cdf_1"
   ]
  },
  {
   "cell_type": "markdown",
   "metadata": {},
   "source": [
    "## Comparing the estimate to Linear Regression\n",
    "First, estimating the effect using the causal data frame, and the 95% confidence interval."
   ]
  },
  {
   "cell_type": "code",
   "execution_count": 8,
   "metadata": {
    "execution": {
     "iopub.execute_input": "2022-07-27T13:54:38.584083Z",
     "iopub.status.busy": "2022-07-27T13:54:38.583583Z",
     "iopub.status.idle": "2022-07-27T13:54:38.715898Z",
     "shell.execute_reply": "2022-07-27T13:54:38.715009Z"
    }
   },
   "outputs": [
    {
     "data": {
      "image/png": "[encoded data removed]",
      "text/latex": [
       "$\\displaystyle 5.21790825325442$"
      ],
      "text/plain": [
       "5.217908253254417"
      ]
     },
     "execution_count": 8,
     "metadata": {},
     "output_type": "execute_result"
    }
   ],
   "source": [
    "(cdf_1['y'] - cdf_0['y']).mean()"
   ]
  },
  {
   "cell_type": "code",
   "execution_count": 9,
   "metadata": {
    "execution": {
     "iopub.execute_input": "2022-07-27T13:54:38.719691Z",
     "iopub.status.busy": "2022-07-27T13:54:38.719391Z",
     "iopub.status.idle": "2022-07-27T13:54:38.753237Z",
     "shell.execute_reply": "2022-07-27T13:54:38.752293Z"
    }
   },
   "outputs": [
    {
     "data": {
      "image/png": "[encoded data removed]",
      "text/latex": [
       "$\\displaystyle 0.139058342056504$"
      ],
      "text/plain": [
       "0.13905834205650405"
      ]
     },
     "execution_count": 9,
     "metadata": {},
     "output_type": "execute_result"
    }
   ],
   "source": [
    "1.96*(cdf_1['y'] - cdf_0['y']).std() / np.sqrt(len(df))"
   ]
  },
  {
   "cell_type": "markdown",
   "metadata": {},
   "source": [
    "Comparing to the estimate from OLS."
   ]
  },
  {
   "cell_type": "code",
   "execution_count": 10,
   "metadata": {
    "execution": {
     "iopub.execute_input": "2022-07-27T13:54:38.757212Z",
     "iopub.status.busy": "2022-07-27T13:54:38.756775Z",
     "iopub.status.idle": "2022-07-27T13:54:38.777566Z",
     "shell.execute_reply": "2022-07-27T13:54:38.776591Z"
    }
   },
   "outputs": [
    {
     "data": {
      "text/html": [
       "<table class=\"simpletable\">\n",
       "<caption>OLS Regression Results</caption>\n",
       "<tr>\n",
       "  <th>Dep. Variable:</th>            <td>y</td>        <th>  R-squared (uncentered):</th>      <td>   0.941</td>\n",
       "</tr>\n",
       "<tr>\n",
       "  <th>Model:</th>                   <td>OLS</td>       <th>  Adj. R-squared (uncentered):</th> <td>   0.941</td>\n",
       "</tr>\n",
       "<tr>\n",
       "  <th>Method:</th>             <td>Least Squares</td>  <th>  F-statistic:       </th>          <td>   8004.</td>\n",
       "</tr>\n",
       "<tr>\n",
       "  <th>Date:</th>             <td>Wed, 27 Jul 2022</td> <th>  Prob (F-statistic):</th>           <td>  0.00</td> \n",
       "</tr>\n",
       "<tr>\n",
       "  <th>Time:</th>                 <td>13:54:38</td>     <th>  Log-Likelihood:    </th>          <td> -1425.2</td>\n",
       "</tr>\n",
       "<tr>\n",
       "  <th>No. Observations:</th>      <td>  1000</td>      <th>  AIC:               </th>          <td>   2854.</td>\n",
       "</tr>\n",
       "<tr>\n",
       "  <th>Df Residuals:</th>          <td>   998</td>      <th>  BIC:               </th>          <td>   2864.</td>\n",
       "</tr>\n",
       "<tr>\n",
       "  <th>Df Model:</th>              <td>     2</td>      <th>                     </th>              <td> </td>   \n",
       "</tr>\n",
       "<tr>\n",
       "  <th>Covariance Type:</th>      <td>nonrobust</td>    <th>                     </th>              <td> </td>   \n",
       "</tr>\n",
       "</table>\n",
       "<table class=\"simpletable\">\n",
       "<tr>\n",
       "   <td></td>     <th>coef</th>     <th>std err</th>      <th>t</th>      <th>P>|t|</th>  <th>[0.025</th>    <th>0.975]</th>  \n",
       "</tr>\n",
       "<tr>\n",
       "  <th>x1</th> <td>    1.3570</td> <td>    0.033</td> <td>   41.680</td> <td> 0.000</td> <td>    1.293</td> <td>    1.421</td>\n",
       "</tr>\n",
       "<tr>\n",
       "  <th>x2</th> <td>    5.0511</td> <td>    0.049</td> <td>  102.457</td> <td> 0.000</td> <td>    4.954</td> <td>    5.148</td>\n",
       "</tr>\n",
       "</table>\n",
       "<table class=\"simpletable\">\n",
       "<tr>\n",
       "  <th>Omnibus:</th>       <td>11.782</td> <th>  Durbin-Watson:     </th> <td>   1.986</td>\n",
       "</tr>\n",
       "<tr>\n",
       "  <th>Prob(Omnibus):</th> <td> 0.003</td> <th>  Jarque-Bera (JB):  </th> <td>  11.868</td>\n",
       "</tr>\n",
       "<tr>\n",
       "  <th>Skew:</th>          <td> 0.251</td> <th>  Prob(JB):          </th> <td> 0.00265</td>\n",
       "</tr>\n",
       "<tr>\n",
       "  <th>Kurtosis:</th>      <td> 3.183</td> <th>  Cond. No.          </th> <td>    1.67</td>\n",
       "</tr>\n",
       "</table><br/><br/>Notes:<br/>[1] R² is computed without centering (uncentered) since the model does not contain a constant.<br/>[2] Standard Errors assume that the covariance matrix of the errors is correctly specified."
      ],
      "text/plain": [
       "<class 'statsmodels.iolib.summary.Summary'>\n",
       "\"\"\"\n",
       "                                 OLS Regression Results                                \n",
       "=======================================================================================\n",
       "Dep. Variable:                      y   R-squared (uncentered):                   0.941\n",
       "Model:                            OLS   Adj. R-squared (uncentered):              0.941\n",
       "Method:                 Least Squares   F-statistic:                              8004.\n",
       "Date:                Wed, 27 Jul 2022   Prob (F-statistic):                        0.00\n",
       "Time:                        13:54:38   Log-Likelihood:                         -1425.2\n",
       "No. Observations:                1000   AIC:                                      2854.\n",
       "Df Residuals:                     998   BIC:                                      2864.\n",
       "Df Model:                           2                                                  \n",
       "Covariance Type:            nonrobust                                                  \n",
       "==============================================================================\n",
       "                 coef    std err          t      P>|t|      [0.025      0.975]\n",
       "------------------------------------------------------------------------------\n",
       "x1             1.3570      0.033     41.680      0.000       1.293       1.421\n",
       "x2             5.0511      0.049    102.457      0.000       4.954       5.148\n",
       "==============================================================================\n",
       "Omnibus:                       11.782   Durbin-Watson:                   1.986\n",
       "Prob(Omnibus):                  0.003   Jarque-Bera (JB):               11.868\n",
       "Skew:                           0.251   Prob(JB):                      0.00265\n",
       "Kurtosis:                       3.183   Cond. No.                         1.67\n",
       "==============================================================================\n",
       "\n",
       "Notes:\n",
       "[1] R² is computed without centering (uncentered) since the model does not contain a constant.\n",
       "[2] Standard Errors assume that the covariance matrix of the errors is correctly specified.\n",
       "\"\"\""
      ]
     },
     "execution_count": 10,
     "metadata": {},
     "output_type": "execute_result"
    }
   ],
   "source": [
    "model = OLS(np.asarray(df[outcome]), np.asarray(df[[common_cause, treatment]], dtype=np.float64))\n",
    "result = model.fit()\n",
    "result.summary()"
   ]
  }
 ],
 "metadata": {
  "kernelspec": {
   "display_name": "Python 3",
   "language": "python",
   "name": "python3"
  },
  "language_info": {
   "codemirror_mode": {
    "name": "ipython",
    "version": 3
   },
   "file_extension": ".py",
   "mimetype": "text/x-python",
   "name": "python",
   "nbconvert_exporter": "python",
   "pygments_lexer": "ipython3",
   "version": "3.8.10"
  },
  "toc": {
   "base_numbering": 1,
   "nav_menu": {},
   "number_sections": false,
   "sideBar": true,
   "skip_h1_title": true,
   "title_cell": "Table of Contents",
   "title_sidebar": "Contents",
   "toc_cell": false,
   "toc_position": {},
   "toc_section_display": true,
   "toc_window_display": false
  }
 },
 "nbformat": 4,
 "nbformat_minor": 4
}
