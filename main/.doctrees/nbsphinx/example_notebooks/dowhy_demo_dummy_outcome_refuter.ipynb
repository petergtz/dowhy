{
 "cells": [
  {
   "cell_type": "markdown",
   "metadata": {},
   "source": [
    "# A Simple Example on Creating a Custom Refutation Using User-Defined Outcome Functions\n",
    "In this experiment, we define a linear dataset. In order to find the coefficients, we make use of the linear regression estimator. In order to test the effectiveness of the linear estimator, we now replace the outcome value with a dummy produced with the help of a linear expression based on the value of the confounders. This effectively means that the effect of the treatment on the outcome should be zero. This is exactly, what we should expect from the results of the refuter."
   ]
  },
  {
   "cell_type": "markdown",
   "metadata": {},
   "source": [
    "## Insert Dependencies"
   ]
  },
  {
   "cell_type": "code",
   "execution_count": 1,
   "metadata": {
    "execution": {
     "iopub.execute_input": "2022-09-05T18:56:11.569199Z",
     "iopub.status.busy": "2022-09-05T18:56:11.568864Z",
     "iopub.status.idle": "2022-09-05T18:56:12.862160Z",
     "shell.execute_reply": "2022-09-05T18:56:12.860905Z"
    }
   },
   "outputs": [],
   "source": [
    "from dowhy import CausalModel\n",
    "import dowhy.datasets\n",
    "import pandas as pd\n",
    "import numpy as np\n",
    "\n",
    "# Config dict to set the logging level\n",
    "import logging.config\n",
    "DEFAULT_LOGGING = {\n",
    "    'version': 1,\n",
    "    'disable_existing_loggers': False,\n",
    "    'loggers': {\n",
    "        '': {\n",
    "            'level': 'WARN',\n",
    "        },\n",
    "    }\n",
    "}\n",
    "\n",
    "logging.config.dictConfig(DEFAULT_LOGGING)"
   ]
  },
  {
   "cell_type": "markdown",
   "metadata": {},
   "source": [
    "## Create the Dataset\n",
    "You can change the values of the hyper params to see how the effects change, as each parameter changes\n",
    "Variable Guide:\n",
    "\n",
    "| Variable Name   | Data Type |  Interpretation    |\n",
    "|-----------------|-----------|--------------------|\n",
    "|   $Z_i$         |  float    | Insrument Variable |\n",
    "|   $W_i$         |  float    | Confounder         |\n",
    "|   $v_0$         |  float    | Treatment          |\n",
    "|    $y$          |  float    | Outcome            |\n",
    "\n"
   ]
  },
  {
   "cell_type": "code",
   "execution_count": 2,
   "metadata": {
    "execution": {
     "iopub.execute_input": "2022-09-05T18:56:12.868130Z",
     "iopub.status.busy": "2022-09-05T18:56:12.867686Z",
     "iopub.status.idle": "2022-09-05T18:56:12.924531Z",
     "shell.execute_reply": "2022-09-05T18:56:12.923762Z"
    }
   },
   "outputs": [
    {
     "data": {
      "text/html": [
       "<div>\n",
       "<style scoped>\n",
       "    .dataframe tbody tr th:only-of-type {\n",
       "        vertical-align: middle;\n",
       "    }\n",
       "\n",
       "    .dataframe tbody tr th {\n",
       "        vertical-align: top;\n",
       "    }\n",
       "\n",
       "    .dataframe thead th {\n",
       "        text-align: right;\n",
       "    }\n",
       "</style>\n",
       "<table border=\"1\" class=\"dataframe\">\n",
       "  <thead>\n",
       "    <tr style=\"text-align: right;\">\n",
       "      <th></th>\n",
       "      <th>Z0</th>\n",
       "      <th>W0</th>\n",
       "      <th>W1</th>\n",
       "      <th>v0</th>\n",
       "      <th>y</th>\n",
       "    </tr>\n",
       "  </thead>\n",
       "  <tbody>\n",
       "    <tr>\n",
       "      <th>0</th>\n",
       "      <td>0.0</td>\n",
       "      <td>1.521112</td>\n",
       "      <td>2.398673</td>\n",
       "      <td>22.395615</td>\n",
       "      <td>235.723913</td>\n",
       "    </tr>\n",
       "    <tr>\n",
       "      <th>1</th>\n",
       "      <td>0.0</td>\n",
       "      <td>1.060080</td>\n",
       "      <td>1.408749</td>\n",
       "      <td>11.577615</td>\n",
       "      <td>123.419114</td>\n",
       "    </tr>\n",
       "    <tr>\n",
       "      <th>2</th>\n",
       "      <td>0.0</td>\n",
       "      <td>0.331744</td>\n",
       "      <td>0.910781</td>\n",
       "      <td>5.123503</td>\n",
       "      <td>54.643601</td>\n",
       "    </tr>\n",
       "    <tr>\n",
       "      <th>3</th>\n",
       "      <td>0.0</td>\n",
       "      <td>1.327544</td>\n",
       "      <td>-0.837144</td>\n",
       "      <td>2.690792</td>\n",
       "      <td>30.720460</td>\n",
       "    </tr>\n",
       "    <tr>\n",
       "      <th>4</th>\n",
       "      <td>0.0</td>\n",
       "      <td>1.051989</td>\n",
       "      <td>0.312024</td>\n",
       "      <td>4.764111</td>\n",
       "      <td>52.797226</td>\n",
       "    </tr>\n",
       "  </tbody>\n",
       "</table>\n",
       "</div>"
      ],
      "text/plain": [
       "    Z0        W0        W1         v0           y\n",
       "0  0.0  1.521112  2.398673  22.395615  235.723913\n",
       "1  0.0  1.060080  1.408749  11.577615  123.419114\n",
       "2  0.0  0.331744  0.910781   5.123503   54.643601\n",
       "3  0.0  1.327544 -0.837144   2.690792   30.720460\n",
       "4  0.0  1.051989  0.312024   4.764111   52.797226"
      ]
     },
     "execution_count": 2,
     "metadata": {},
     "output_type": "execute_result"
    }
   ],
   "source": [
    "# Value of the coefficient [BETA]\n",
    "BETA = 10\n",
    "# Number of Common Causes\n",
    "NUM_COMMON_CAUSES = 2\n",
    "# Number of Instruments\n",
    "NUM_INSTRUMENTS = 1\n",
    "# Number of Samples\n",
    "NUM_SAMPLES = 100000\n",
    "# Treatment is Binary\n",
    "TREATMENT_IS_BINARY = False\n",
    "data = dowhy.datasets.linear_dataset(beta=BETA,\n",
    "                                 num_common_causes=NUM_COMMON_CAUSES,\n",
    "                                 num_instruments=NUM_INSTRUMENTS,\n",
    "                                 num_samples=NUM_SAMPLES,\n",
    "                                 treatment_is_binary=TREATMENT_IS_BINARY)\n",
    "data['df'].head()"
   ]
  },
  {
   "cell_type": "markdown",
   "metadata": {},
   "source": [
    "## Creating the Causal Model"
   ]
  },
  {
   "cell_type": "code",
   "execution_count": 3,
   "metadata": {
    "execution": {
     "iopub.execute_input": "2022-09-05T18:56:12.928282Z",
     "iopub.status.busy": "2022-09-05T18:56:12.928003Z",
     "iopub.status.idle": "2022-09-05T18:56:12.935323Z",
     "shell.execute_reply": "2022-09-05T18:56:12.934618Z"
    }
   },
   "outputs": [],
   "source": [
    "model = CausalModel(\n",
    "    data = data['df'],\n",
    "    treatment = data['treatment_name'],\n",
    "    outcome = data['outcome_name'],\n",
    "    graph = data['gml_graph'],\n",
    "    instruments = data['instrument_names']\n",
    ")"
   ]
  },
  {
   "cell_type": "code",
   "execution_count": 4,
   "metadata": {
    "execution": {
     "iopub.execute_input": "2022-09-05T18:56:12.938565Z",
     "iopub.status.busy": "2022-09-05T18:56:12.938306Z",
     "iopub.status.idle": "2022-09-05T18:56:13.005404Z",
     "shell.execute_reply": "2022-09-05T18:56:13.004666Z"
    }
   },
   "outputs": [],
   "source": [
    "model.view_model()"
   ]
  },
  {
   "cell_type": "markdown",
   "metadata": {},
   "source": [
    "In the above figure, we have a causal graph that shows the relationships between the treatment, outcome, confounders and the instrument variable.\n",
    "- The Confounders $W_0$ and $W_1$ affect both the treatment and the outcome\n",
    "- The instrument variable $Z_0$ is able to effect the outcome $y$ through the treatment $x$"
   ]
  },
  {
   "cell_type": "markdown",
   "metadata": {},
   "source": [
    "## Identify the Estimand"
   ]
  },
  {
   "cell_type": "code",
   "execution_count": 5,
   "metadata": {
    "execution": {
     "iopub.execute_input": "2022-09-05T18:56:13.010064Z",
     "iopub.status.busy": "2022-09-05T18:56:13.009777Z",
     "iopub.status.idle": "2022-09-05T18:56:13.229379Z",
     "shell.execute_reply": "2022-09-05T18:56:13.228228Z"
    }
   },
   "outputs": [
    {
     "name": "stdout",
     "output_type": "stream",
     "text": [
      "Estimand type: nonparametric-ate\n",
      "\n",
      "### Estimand : 1\n",
      "Estimand name: backdoor\n",
      "Estimand expression:\n",
      "  d              \n",
      "─────(E[y|W1,W0])\n",
      "d[v₀]            \n",
      "Estimand assumption 1, Unconfoundedness: If U→{v0} and U→y then P(y|v0,W1,W0,U) = P(y|v0,W1,W0)\n",
      "\n",
      "### Estimand : 2\n",
      "Estimand name: iv\n",
      "Estimand expression:\n",
      " ⎡                      -1⎤\n",
      " ⎢  d      ⎛  d        ⎞  ⎥\n",
      "E⎢─────(y)⋅⎜─────([v₀])⎟  ⎥\n",
      " ⎣d[Z₀]    ⎝d[Z₀]      ⎠  ⎦\n",
      "Estimand assumption 1, As-if-random: If U→→y then ¬(U →→{Z0})\n",
      "Estimand assumption 2, Exclusion: If we remove {Z0}→{v0}, then ¬({Z0}→y)\n",
      "\n",
      "### Estimand : 3\n",
      "Estimand name: frontdoor\n",
      "No such variable(s) found!\n",
      "\n"
     ]
    }
   ],
   "source": [
    "identified_estimand = model.identify_effect(proceed_when_unidentifiable=True)\n",
    "print(identified_estimand)"
   ]
  },
  {
   "cell_type": "markdown",
   "metadata": {},
   "source": [
    "## Estimating the Effect"
   ]
  },
  {
   "cell_type": "code",
   "execution_count": 6,
   "metadata": {
    "execution": {
     "iopub.execute_input": "2022-09-05T18:56:13.234951Z",
     "iopub.status.busy": "2022-09-05T18:56:13.234364Z",
     "iopub.status.idle": "2022-09-05T18:56:13.292285Z",
     "shell.execute_reply": "2022-09-05T18:56:13.291093Z"
    },
    "scrolled": true
   },
   "outputs": [
    {
     "name": "stdout",
     "output_type": "stream",
     "text": [
      "*** Causal Estimate ***\n",
      "\n",
      "## Identified estimand\n",
      "Estimand type: nonparametric-ate\n",
      "\n",
      "### Estimand : 1\n",
      "Estimand name: iv\n",
      "Estimand expression:\n",
      " ⎡                      -1⎤\n",
      " ⎢  d      ⎛  d        ⎞  ⎥\n",
      "E⎢─────(y)⋅⎜─────([v₀])⎟  ⎥\n",
      " ⎣d[Z₀]    ⎝d[Z₀]      ⎠  ⎦\n",
      "Estimand assumption 1, As-if-random: If U→→y then ¬(U →→{Z0})\n",
      "Estimand assumption 2, Exclusion: If we remove {Z0}→{v0}, then ¬({Z0}→y)\n",
      "\n",
      "## Realized estimand\n",
      "Realized estimand: Wald Estimator\n",
      "Realized estimand type: nonparametric-ate\n",
      "Estimand expression:\n",
      " ⎡ d    ⎤  -1⎡ d     ⎤\n",
      "E⎢───(y)⎥⋅E  ⎢───(v₀)⎥\n",
      " ⎣dZ₀   ⎦    ⎣dZ₀    ⎦\n",
      "Estimand assumption 1, As-if-random: If U→→y then ¬(U →→{Z0})\n",
      "Estimand assumption 2, Exclusion: If we remove {Z0}→{v0}, then ¬({Z0}→y)\n",
      "Estimand assumption 3, treatment_effect_homogeneity: Each unit's treatment ['v0'] is affected in the same way by common causes of ['v0'] and y\n",
      "Estimand assumption 4, outcome_effect_homogeneity: Each unit's outcome y is affected in the same way by common causes of ['v0'] and y\n",
      "\n",
      "Target units: ate\n",
      "\n",
      "## Estimate\n",
      "Mean value: 10.000555934773098\n",
      "\n"
     ]
    }
   ],
   "source": [
    "causal_estimate = model.estimate_effect( identified_estimand,\n",
    "                                       method_name=\"iv.instrumental_variable\",\n",
    "                                       method_params={'iv_instrument_name':'Z0'}\n",
    "                                       )\n",
    "print(causal_estimate)"
   ]
  },
  {
   "cell_type": "markdown",
   "metadata": {},
   "source": [
    "## Refuting the Estimate"
   ]
  },
  {
   "cell_type": "markdown",
   "metadata": {},
   "source": [
    "## Using a Randomly Generated Outcome"
   ]
  },
  {
   "cell_type": "code",
   "execution_count": 7,
   "metadata": {
    "execution": {
     "iopub.execute_input": "2022-09-05T18:56:13.296808Z",
     "iopub.status.busy": "2022-09-05T18:56:13.296122Z",
     "iopub.status.idle": "2022-09-05T18:56:16.646458Z",
     "shell.execute_reply": "2022-09-05T18:56:16.645310Z"
    }
   },
   "outputs": [
    {
     "name": "stdout",
     "output_type": "stream",
     "text": [
      "Refute: Use a Dummy Outcome\n",
      "Estimated effect:0\n",
      "New effect:-1.2667262481281538e-05\n",
      "p value:0.96\n",
      "\n"
     ]
    }
   ],
   "source": [
    "ref = model.refute_estimate(identified_estimand,\n",
    "                           causal_estimate,\n",
    "                           method_name=\"dummy_outcome_refuter\"\n",
    "                           )\n",
    "print(ref[0])"
   ]
  },
  {
   "cell_type": "markdown",
   "metadata": {},
   "source": [
    "The result shows that the treatment does not lead to the outcome. The estimated effect is a value that tends to zero, which matches our expectation. This shows that if we replace the outcome by randomly generated data, the estimator correctly predicts that the influence if treatment is Zero."
   ]
  },
  {
   "cell_type": "markdown",
   "metadata": {},
   "source": [
    "## Using a Function that Generates the Outcome from the Confounders"
   ]
  },
  {
   "cell_type": "markdown",
   "metadata": {},
   "source": [
    "Let us define a simple function that generates the outcome as a linear function of the confounders."
   ]
  },
  {
   "cell_type": "code",
   "execution_count": 8,
   "metadata": {
    "execution": {
     "iopub.execute_input": "2022-09-05T18:56:16.666492Z",
     "iopub.status.busy": "2022-09-05T18:56:16.665354Z",
     "iopub.status.idle": "2022-09-05T18:56:16.670953Z",
     "shell.execute_reply": "2022-09-05T18:56:16.669877Z"
    }
   },
   "outputs": [],
   "source": [
    "coefficients = np.array([1,2])\n",
    "bias = 3\n",
    "def linear_gen(df):\n",
    "    y_new = np.dot(df[['W0','W1']].values,coefficients) + 3\n",
    "    return y_new"
   ]
  },
  {
   "cell_type": "markdown",
   "metadata": {},
   "source": [
    "The basic expression is of the form\n",
    "$y_{new} = \\beta_0W_0 + \\beta_1W_1 + \\gamma_0$\n",
    "\n",
    "where,\n",
    "$\\beta_0=1$, $\\beta_1=2$ and $\\gamma_0=3$"
   ]
  },
  {
   "cell_type": "code",
   "execution_count": 9,
   "metadata": {
    "execution": {
     "iopub.execute_input": "2022-09-05T18:56:16.675166Z",
     "iopub.status.busy": "2022-09-05T18:56:16.674698Z",
     "iopub.status.idle": "2022-09-05T18:56:18.904406Z",
     "shell.execute_reply": "2022-09-05T18:56:18.903636Z"
    }
   },
   "outputs": [
    {
     "name": "stdout",
     "output_type": "stream",
     "text": [
      "Refute: Use a Dummy Outcome\n",
      "Estimated effect:0\n",
      "New effect:7.6595713538299e-05\n",
      "p value:0.88\n",
      "\n"
     ]
    }
   ],
   "source": [
    "ref = model.refute_estimate(identified_estimand,\n",
    "                           causal_estimate,\n",
    "                           method_name=\"dummy_outcome_refuter\",\n",
    "                           outcome_function=linear_gen\n",
    "                           )\n",
    "\n",
    "print(ref[0])"
   ]
  },
  {
   "cell_type": "markdown",
   "metadata": {},
   "source": [
    "Like the previous experiment, we observe that the estimator shows that the effect of the treatment is Zero. The refuter confirms this as the value obtained through the refutation is quite low and has a p value of >0.05 across 100 simulations."
   ]
  }
 ],
 "metadata": {
  "kernelspec": {
   "display_name": "Python 3",
   "language": "python",
   "name": "python3"
  },
  "language_info": {
   "codemirror_mode": {
    "name": "ipython",
    "version": 3
   },
   "file_extension": ".py",
   "mimetype": "text/x-python",
   "name": "python",
   "nbconvert_exporter": "python",
   "pygments_lexer": "ipython3",
   "version": "3.8.10"
  },
  "toc": {
   "base_numbering": 1,
   "nav_menu": {},
   "number_sections": false,
   "sideBar": true,
   "skip_h1_title": true,
   "title_cell": "Table of Contents",
   "title_sidebar": "Contents",
   "toc_cell": false,
   "toc_position": {},
   "toc_section_display": true,
   "toc_window_display": false
  }
 },
 "nbformat": 4,
 "nbformat_minor": 4
}
