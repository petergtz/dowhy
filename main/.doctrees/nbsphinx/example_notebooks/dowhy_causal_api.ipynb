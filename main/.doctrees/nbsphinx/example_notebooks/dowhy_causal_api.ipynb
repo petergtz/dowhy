{
 "cells": [
  {
   "cell_type": "markdown",
   "metadata": {},
   "source": [
    "# Demo for the DoWhy causal API\n",
    "We show a simple example of adding a causal extension to any dataframe. "
   ]
  },
  {
   "cell_type": "code",
   "execution_count": 1,
   "metadata": {
    "execution": {
     "iopub.execute_input": "2023-03-22T20:01:27.706185Z",
     "iopub.status.busy": "2023-03-22T20:01:27.705802Z",
     "iopub.status.idle": "2023-03-22T20:01:29.429014Z",
     "shell.execute_reply": "2023-03-22T20:01:29.428294Z"
    }
   },
   "outputs": [],
   "source": [
    "import dowhy.datasets\n",
    "import dowhy.api\n",
    "\n",
    "import numpy as np\n",
    "import pandas as pd\n",
    "\n",
    "from statsmodels.api import OLS"
   ]
  },
  {
   "cell_type": "code",
   "execution_count": 2,
   "metadata": {
    "execution": {
     "iopub.execute_input": "2023-03-22T20:01:29.433316Z",
     "iopub.status.busy": "2023-03-22T20:01:29.432734Z",
     "iopub.status.idle": "2023-03-22T20:01:29.482176Z",
     "shell.execute_reply": "2023-03-22T20:01:29.481499Z"
    }
   },
   "outputs": [
    {
     "data": {
      "text/html": [
       "<div>\n",
       "<style scoped>\n",
       "    .dataframe tbody tr th:only-of-type {\n",
       "        vertical-align: middle;\n",
       "    }\n",
       "\n",
       "    .dataframe tbody tr th {\n",
       "        vertical-align: top;\n",
       "    }\n",
       "\n",
       "    .dataframe thead th {\n",
       "        text-align: right;\n",
       "    }\n",
       "</style>\n",
       "<table border=\"1\" class=\"dataframe\">\n",
       "  <thead>\n",
       "    <tr style=\"text-align: right;\">\n",
       "      <th></th>\n",
       "      <th>W0</th>\n",
       "      <th>v0</th>\n",
       "      <th>y</th>\n",
       "    </tr>\n",
       "  </thead>\n",
       "  <tbody>\n",
       "    <tr>\n",
       "      <th>0</th>\n",
       "      <td>0.590346</td>\n",
       "      <td>False</td>\n",
       "      <td>0.451943</td>\n",
       "    </tr>\n",
       "    <tr>\n",
       "      <th>1</th>\n",
       "      <td>-0.623346</td>\n",
       "      <td>False</td>\n",
       "      <td>0.789491</td>\n",
       "    </tr>\n",
       "    <tr>\n",
       "      <th>2</th>\n",
       "      <td>0.639282</td>\n",
       "      <td>True</td>\n",
       "      <td>5.410539</td>\n",
       "    </tr>\n",
       "    <tr>\n",
       "      <th>3</th>\n",
       "      <td>1.780607</td>\n",
       "      <td>True</td>\n",
       "      <td>7.202585</td>\n",
       "    </tr>\n",
       "    <tr>\n",
       "      <th>4</th>\n",
       "      <td>0.450909</td>\n",
       "      <td>False</td>\n",
       "      <td>0.895143</td>\n",
       "    </tr>\n",
       "    <tr>\n",
       "      <th>...</th>\n",
       "      <td>...</td>\n",
       "      <td>...</td>\n",
       "      <td>...</td>\n",
       "    </tr>\n",
       "    <tr>\n",
       "      <th>995</th>\n",
       "      <td>-0.423072</td>\n",
       "      <td>True</td>\n",
       "      <td>4.448100</td>\n",
       "    </tr>\n",
       "    <tr>\n",
       "      <th>996</th>\n",
       "      <td>0.441852</td>\n",
       "      <td>False</td>\n",
       "      <td>1.227898</td>\n",
       "    </tr>\n",
       "    <tr>\n",
       "      <th>997</th>\n",
       "      <td>0.325917</td>\n",
       "      <td>False</td>\n",
       "      <td>0.960673</td>\n",
       "    </tr>\n",
       "    <tr>\n",
       "      <th>998</th>\n",
       "      <td>0.276323</td>\n",
       "      <td>False</td>\n",
       "      <td>0.783902</td>\n",
       "    </tr>\n",
       "    <tr>\n",
       "      <th>999</th>\n",
       "      <td>-0.066967</td>\n",
       "      <td>False</td>\n",
       "      <td>-0.905636</td>\n",
       "    </tr>\n",
       "  </tbody>\n",
       "</table>\n",
       "<p>1000 rows × 3 columns</p>\n",
       "</div>"
      ],
      "text/plain": [
       "           W0     v0         y\n",
       "0    0.590346  False  0.451943\n",
       "1   -0.623346  False  0.789491\n",
       "2    0.639282   True  5.410539\n",
       "3    1.780607   True  7.202585\n",
       "4    0.450909  False  0.895143\n",
       "..        ...    ...       ...\n",
       "995 -0.423072   True  4.448100\n",
       "996  0.441852  False  1.227898\n",
       "997  0.325917  False  0.960673\n",
       "998  0.276323  False  0.783902\n",
       "999 -0.066967  False -0.905636\n",
       "\n",
       "[1000 rows x 3 columns]"
      ]
     },
     "execution_count": 2,
     "metadata": {},
     "output_type": "execute_result"
    }
   ],
   "source": [
    "data = dowhy.datasets.linear_dataset(beta=5,\n",
    "        num_common_causes=1,\n",
    "        num_instruments = 0,\n",
    "        num_samples=1000,\n",
    "        treatment_is_binary=True)\n",
    "df = data['df']\n",
    "df['y'] = df['y'] + np.random.normal(size=len(df)) # Adding noise to data. Without noise, the variance in Y|X, Z is zero, and mcmc fails.\n",
    "#data['dot_graph'] = 'digraph { v ->y;X0-> v;X0-> y;}'\n",
    "\n",
    "treatment= data[\"treatment_name\"][0]\n",
    "outcome = data[\"outcome_name\"][0]\n",
    "common_cause = data[\"common_causes_names\"][0]\n",
    "df"
   ]
  },
  {
   "cell_type": "code",
   "execution_count": 3,
   "metadata": {
    "execution": {
     "iopub.execute_input": "2023-03-22T20:01:29.485608Z",
     "iopub.status.busy": "2023-03-22T20:01:29.485149Z",
     "iopub.status.idle": "2023-03-22T20:01:29.641051Z",
     "shell.execute_reply": "2023-03-22T20:01:29.640331Z"
    }
   },
   "outputs": [
    {
     "data": {
      "text/plain": [
       "<AxesSubplot: xlabel='v0'>"
      ]
     },
     "execution_count": 3,
     "metadata": {},
     "output_type": "execute_result"
    },
    {
     "data": {
      "image/png": "[encoded data removed]",
      "text/plain": [
       "<Figure size 640x480 with 1 Axes>"
      ]
     },
     "metadata": {},
     "output_type": "display_data"
    }
   ],
   "source": [
    "# data['df'] is just a regular pandas.DataFrame\n",
    "df.causal.do(x=treatment,\n",
    "                     variable_types={treatment: 'b', outcome: 'c', common_cause: 'c'},\n",
    "                     outcome=outcome,\n",
    "                     common_causes=[common_cause],\n",
    "                     proceed_when_unidentifiable=True).groupby(treatment).mean().plot(y=outcome, kind='bar')"
   ]
  },
  {
   "cell_type": "code",
   "execution_count": 4,
   "metadata": {
    "execution": {
     "iopub.execute_input": "2023-03-22T20:01:29.645608Z",
     "iopub.status.busy": "2023-03-22T20:01:29.644952Z",
     "iopub.status.idle": "2023-03-22T20:01:29.771276Z",
     "shell.execute_reply": "2023-03-22T20:01:29.770662Z"
    }
   },
   "outputs": [
    {
     "data": {
      "text/plain": [
       "<AxesSubplot: xlabel='v0'>"
      ]
     },
     "execution_count": 4,
     "metadata": {},
     "output_type": "execute_result"
    },
    {
     "data": {
      "image/png": "[encoded data removed]",
      "text/plain": [
       "<Figure size 640x480 with 1 Axes>"
      ]
     },
     "metadata": {},
     "output_type": "display_data"
    }
   ],
   "source": [
    "df.causal.do(x={treatment: 1}, \n",
    "              variable_types={treatment:'b', outcome: 'c', common_cause: 'c'}, \n",
    "              outcome=outcome,\n",
    "              method='weighting', \n",
    "              common_causes=[common_cause],\n",
    "              proceed_when_unidentifiable=True).groupby(treatment).mean().plot(y=outcome, kind='bar')"
   ]
  },
  {
   "cell_type": "code",
   "execution_count": 5,
   "metadata": {
    "execution": {
     "iopub.execute_input": "2023-03-22T20:01:29.775419Z",
     "iopub.status.busy": "2023-03-22T20:01:29.774377Z",
     "iopub.status.idle": "2023-03-22T20:01:29.919526Z",
     "shell.execute_reply": "2023-03-22T20:01:29.918773Z"
    }
   },
   "outputs": [],
   "source": [
    "cdf_1 = df.causal.do(x={treatment: 1}, \n",
    "              variable_types={treatment: 'b', outcome: 'c', common_cause: 'c'}, \n",
    "              outcome=outcome, \n",
    "              dot_graph=data['dot_graph'],\n",
    "              proceed_when_unidentifiable=True)\n",
    "\n",
    "cdf_0 = df.causal.do(x={treatment: 0}, \n",
    "              variable_types={treatment: 'b', outcome: 'c', common_cause: 'c'}, \n",
    "              outcome=outcome, \n",
    "              dot_graph=data['dot_graph'],\n",
    "              proceed_when_unidentifiable=True)\n"
   ]
  },
  {
   "cell_type": "code",
   "execution_count": 6,
   "metadata": {
    "execution": {
     "iopub.execute_input": "2023-03-22T20:01:29.923584Z",
     "iopub.status.busy": "2023-03-22T20:01:29.923108Z",
     "iopub.status.idle": "2023-03-22T20:01:29.936499Z",
     "shell.execute_reply": "2023-03-22T20:01:29.935830Z"
    },
    "scrolled": true
   },
   "outputs": [
    {
     "data": {
      "text/html": [
       "<div>\n",
       "<style scoped>\n",
       "    .dataframe tbody tr th:only-of-type {\n",
       "        vertical-align: middle;\n",
       "    }\n",
       "\n",
       "    .dataframe tbody tr th {\n",
       "        vertical-align: top;\n",
       "    }\n",
       "\n",
       "    .dataframe thead th {\n",
       "        text-align: right;\n",
       "    }\n",
       "</style>\n",
       "<table border=\"1\" class=\"dataframe\">\n",
       "  <thead>\n",
       "    <tr style=\"text-align: right;\">\n",
       "      <th></th>\n",
       "      <th>W0</th>\n",
       "      <th>v0</th>\n",
       "      <th>y</th>\n",
       "      <th>propensity_score</th>\n",
       "      <th>weight</th>\n",
       "    </tr>\n",
       "  </thead>\n",
       "  <tbody>\n",
       "    <tr>\n",
       "      <th>0</th>\n",
       "      <td>-0.048491</td>\n",
       "      <td>False</td>\n",
       "      <td>0.280266</td>\n",
       "      <td>0.513315</td>\n",
       "      <td>1.948123</td>\n",
       "    </tr>\n",
       "    <tr>\n",
       "      <th>1</th>\n",
       "      <td>1.150179</td>\n",
       "      <td>False</td>\n",
       "      <td>2.729700</td>\n",
       "      <td>0.446180</td>\n",
       "      <td>2.241247</td>\n",
       "    </tr>\n",
       "    <tr>\n",
       "      <th>2</th>\n",
       "      <td>-0.503277</td>\n",
       "      <td>False</td>\n",
       "      <td>-0.300330</td>\n",
       "      <td>0.538791</td>\n",
       "      <td>1.856006</td>\n",
       "    </tr>\n",
       "    <tr>\n",
       "      <th>3</th>\n",
       "      <td>1.231618</td>\n",
       "      <td>False</td>\n",
       "      <td>4.399349</td>\n",
       "      <td>0.441662</td>\n",
       "      <td>2.264174</td>\n",
       "    </tr>\n",
       "    <tr>\n",
       "      <th>4</th>\n",
       "      <td>1.231618</td>\n",
       "      <td>False</td>\n",
       "      <td>4.399349</td>\n",
       "      <td>0.441662</td>\n",
       "      <td>2.264174</td>\n",
       "    </tr>\n",
       "    <tr>\n",
       "      <th>...</th>\n",
       "      <td>...</td>\n",
       "      <td>...</td>\n",
       "      <td>...</td>\n",
       "      <td>...</td>\n",
       "      <td>...</td>\n",
       "    </tr>\n",
       "    <tr>\n",
       "      <th>995</th>\n",
       "      <td>-0.808307</td>\n",
       "      <td>False</td>\n",
       "      <td>-3.695063</td>\n",
       "      <td>0.555775</td>\n",
       "      <td>1.799291</td>\n",
       "    </tr>\n",
       "    <tr>\n",
       "      <th>996</th>\n",
       "      <td>-0.339232</td>\n",
       "      <td>False</td>\n",
       "      <td>-0.438218</td>\n",
       "      <td>0.529618</td>\n",
       "      <td>1.888153</td>\n",
       "    </tr>\n",
       "    <tr>\n",
       "      <th>997</th>\n",
       "      <td>-1.494150</td>\n",
       "      <td>False</td>\n",
       "      <td>-3.072175</td>\n",
       "      <td>0.593431</td>\n",
       "      <td>1.685117</td>\n",
       "    </tr>\n",
       "    <tr>\n",
       "      <th>998</th>\n",
       "      <td>-0.665784</td>\n",
       "      <td>False</td>\n",
       "      <td>-0.738764</td>\n",
       "      <td>0.547853</td>\n",
       "      <td>1.825307</td>\n",
       "    </tr>\n",
       "    <tr>\n",
       "      <th>999</th>\n",
       "      <td>1.092171</td>\n",
       "      <td>False</td>\n",
       "      <td>0.613645</td>\n",
       "      <td>0.449404</td>\n",
       "      <td>2.225171</td>\n",
       "    </tr>\n",
       "  </tbody>\n",
       "</table>\n",
       "<p>1000 rows × 5 columns</p>\n",
       "</div>"
      ],
      "text/plain": [
       "           W0     v0         y  propensity_score    weight\n",
       "0   -0.048491  False  0.280266          0.513315  1.948123\n",
       "1    1.150179  False  2.729700          0.446180  2.241247\n",
       "2   -0.503277  False -0.300330          0.538791  1.856006\n",
       "3    1.231618  False  4.399349          0.441662  2.264174\n",
       "4    1.231618  False  4.399349          0.441662  2.264174\n",
       "..        ...    ...       ...               ...       ...\n",
       "995 -0.808307  False -3.695063          0.555775  1.799291\n",
       "996 -0.339232  False -0.438218          0.529618  1.888153\n",
       "997 -1.494150  False -3.072175          0.593431  1.685117\n",
       "998 -0.665784  False -0.738764          0.547853  1.825307\n",
       "999  1.092171  False  0.613645          0.449404  2.225171\n",
       "\n",
       "[1000 rows x 5 columns]"
      ]
     },
     "execution_count": 6,
     "metadata": {},
     "output_type": "execute_result"
    }
   ],
   "source": [
    "cdf_0"
   ]
  },
  {
   "cell_type": "code",
   "execution_count": 7,
   "metadata": {
    "execution": {
     "iopub.execute_input": "2023-03-22T20:01:29.939880Z",
     "iopub.status.busy": "2023-03-22T20:01:29.939348Z",
     "iopub.status.idle": "2023-03-22T20:01:29.951506Z",
     "shell.execute_reply": "2023-03-22T20:01:29.950913Z"
    }
   },
   "outputs": [
    {
     "data": {
      "text/html": [
       "<div>\n",
       "<style scoped>\n",
       "    .dataframe tbody tr th:only-of-type {\n",
       "        vertical-align: middle;\n",
       "    }\n",
       "\n",
       "    .dataframe tbody tr th {\n",
       "        vertical-align: top;\n",
       "    }\n",
       "\n",
       "    .dataframe thead th {\n",
       "        text-align: right;\n",
       "    }\n",
       "</style>\n",
       "<table border=\"1\" class=\"dataframe\">\n",
       "  <thead>\n",
       "    <tr style=\"text-align: right;\">\n",
       "      <th></th>\n",
       "      <th>W0</th>\n",
       "      <th>v0</th>\n",
       "      <th>y</th>\n",
       "      <th>propensity_score</th>\n",
       "      <th>weight</th>\n",
       "    </tr>\n",
       "  </thead>\n",
       "  <tbody>\n",
       "    <tr>\n",
       "      <th>0</th>\n",
       "      <td>0.267147</td>\n",
       "      <td>True</td>\n",
       "      <td>7.415935</td>\n",
       "      <td>0.504416</td>\n",
       "      <td>1.982490</td>\n",
       "    </tr>\n",
       "    <tr>\n",
       "      <th>1</th>\n",
       "      <td>0.289825</td>\n",
       "      <td>True</td>\n",
       "      <td>6.490655</td>\n",
       "      <td>0.505690</td>\n",
       "      <td>1.977495</td>\n",
       "    </tr>\n",
       "    <tr>\n",
       "      <th>2</th>\n",
       "      <td>-0.546687</td>\n",
       "      <td>True</td>\n",
       "      <td>2.620579</td>\n",
       "      <td>0.458785</td>\n",
       "      <td>2.179670</td>\n",
       "    </tr>\n",
       "    <tr>\n",
       "      <th>3</th>\n",
       "      <td>-0.080909</td>\n",
       "      <td>True</td>\n",
       "      <td>3.477549</td>\n",
       "      <td>0.484866</td>\n",
       "      <td>2.062427</td>\n",
       "    </tr>\n",
       "    <tr>\n",
       "      <th>4</th>\n",
       "      <td>-2.306137</td>\n",
       "      <td>True</td>\n",
       "      <td>0.628236</td>\n",
       "      <td>0.363397</td>\n",
       "      <td>2.751811</td>\n",
       "    </tr>\n",
       "    <tr>\n",
       "      <th>...</th>\n",
       "      <td>...</td>\n",
       "      <td>...</td>\n",
       "      <td>...</td>\n",
       "      <td>...</td>\n",
       "      <td>...</td>\n",
       "    </tr>\n",
       "    <tr>\n",
       "      <th>995</th>\n",
       "      <td>1.761640</td>\n",
       "      <td>True</td>\n",
       "      <td>7.735308</td>\n",
       "      <td>0.587475</td>\n",
       "      <td>1.702201</td>\n",
       "    </tr>\n",
       "    <tr>\n",
       "      <th>996</th>\n",
       "      <td>0.290613</td>\n",
       "      <td>True</td>\n",
       "      <td>5.484001</td>\n",
       "      <td>0.505735</td>\n",
       "      <td>1.977322</td>\n",
       "    </tr>\n",
       "    <tr>\n",
       "      <th>997</th>\n",
       "      <td>0.712704</td>\n",
       "      <td>True</td>\n",
       "      <td>6.426136</td>\n",
       "      <td>0.529416</td>\n",
       "      <td>1.888874</td>\n",
       "    </tr>\n",
       "    <tr>\n",
       "      <th>998</th>\n",
       "      <td>-0.595939</td>\n",
       "      <td>True</td>\n",
       "      <td>4.719589</td>\n",
       "      <td>0.456038</td>\n",
       "      <td>2.192800</td>\n",
       "    </tr>\n",
       "    <tr>\n",
       "      <th>999</th>\n",
       "      <td>0.977852</td>\n",
       "      <td>True</td>\n",
       "      <td>6.715720</td>\n",
       "      <td>0.544231</td>\n",
       "      <td>1.837455</td>\n",
       "    </tr>\n",
       "  </tbody>\n",
       "</table>\n",
       "<p>1000 rows × 5 columns</p>\n",
       "</div>"
      ],
      "text/plain": [
       "           W0    v0         y  propensity_score    weight\n",
       "0    0.267147  True  7.415935          0.504416  1.982490\n",
       "1    0.289825  True  6.490655          0.505690  1.977495\n",
       "2   -0.546687  True  2.620579          0.458785  2.179670\n",
       "3   -0.080909  True  3.477549          0.484866  2.062427\n",
       "4   -2.306137  True  0.628236          0.363397  2.751811\n",
       "..        ...   ...       ...               ...       ...\n",
       "995  1.761640  True  7.735308          0.587475  1.702201\n",
       "996  0.290613  True  5.484001          0.505735  1.977322\n",
       "997  0.712704  True  6.426136          0.529416  1.888874\n",
       "998 -0.595939  True  4.719589          0.456038  2.192800\n",
       "999  0.977852  True  6.715720          0.544231  1.837455\n",
       "\n",
       "[1000 rows x 5 columns]"
      ]
     },
     "execution_count": 7,
     "metadata": {},
     "output_type": "execute_result"
    }
   ],
   "source": [
    "cdf_1"
   ]
  },
  {
   "cell_type": "markdown",
   "metadata": {},
   "source": [
    "## Comparing the estimate to Linear Regression\n",
    "First, estimating the effect using the causal data frame, and the 95% confidence interval."
   ]
  },
  {
   "cell_type": "code",
   "execution_count": 8,
   "metadata": {
    "execution": {
     "iopub.execute_input": "2023-03-22T20:01:29.954577Z",
     "iopub.status.busy": "2023-03-22T20:01:29.954198Z",
     "iopub.status.idle": "2023-03-22T20:01:30.014099Z",
     "shell.execute_reply": "2023-03-22T20:01:30.013447Z"
    }
   },
   "outputs": [
    {
     "data": {
      "image/png": "[encoded data removed]",
      "text/latex": [
       "$\\displaystyle 5.09528460260874$"
      ],
      "text/plain": [
       "5.095284602608741"
      ]
     },
     "execution_count": 8,
     "metadata": {},
     "output_type": "execute_result"
    }
   ],
   "source": [
    "(cdf_1['y'] - cdf_0['y']).mean()"
   ]
  },
  {
   "cell_type": "code",
   "execution_count": 9,
   "metadata": {
    "execution": {
     "iopub.execute_input": "2023-03-22T20:01:30.017785Z",
     "iopub.status.busy": "2023-03-22T20:01:30.017065Z",
     "iopub.status.idle": "2023-03-22T20:01:30.039070Z",
     "shell.execute_reply": "2023-03-22T20:01:30.038485Z"
    }
   },
   "outputs": [
    {
     "data": {
      "image/png": "[encoded data removed]",
      "text/latex": [
       "$\\displaystyle 0.182261051894858$"
      ],
      "text/plain": [
       "0.18226105189485758"
      ]
     },
     "execution_count": 9,
     "metadata": {},
     "output_type": "execute_result"
    }
   ],
   "source": [
    "1.96*(cdf_1['y'] - cdf_0['y']).std() / np.sqrt(len(df))"
   ]
  },
  {
   "cell_type": "markdown",
   "metadata": {},
   "source": [
    "Comparing to the estimate from OLS."
   ]
  },
  {
   "cell_type": "code",
   "execution_count": 10,
   "metadata": {
    "execution": {
     "iopub.execute_input": "2023-03-22T20:01:30.042135Z",
     "iopub.status.busy": "2023-03-22T20:01:30.041728Z",
     "iopub.status.idle": "2023-03-22T20:01:30.056532Z",
     "shell.execute_reply": "2023-03-22T20:01:30.055986Z"
    }
   },
   "outputs": [
    {
     "data": {
      "text/html": [
       "<table class=\"simpletable\">\n",
       "<caption>OLS Regression Results</caption>\n",
       "<tr>\n",
       "  <th>Dep. Variable:</th>            <td>y</td>        <th>  R-squared (uncentered):</th>      <td>   0.947</td>\n",
       "</tr>\n",
       "<tr>\n",
       "  <th>Model:</th>                   <td>OLS</td>       <th>  Adj. R-squared (uncentered):</th> <td>   0.946</td>\n",
       "</tr>\n",
       "<tr>\n",
       "  <th>Method:</th>             <td>Least Squares</td>  <th>  F-statistic:       </th>          <td>   8841.</td>\n",
       "</tr>\n",
       "<tr>\n",
       "  <th>Date:</th>             <td>Wed, 22 Mar 2023</td> <th>  Prob (F-statistic):</th>           <td>  0.00</td> \n",
       "</tr>\n",
       "<tr>\n",
       "  <th>Time:</th>                 <td>20:01:30</td>     <th>  Log-Likelihood:    </th>          <td> -1426.1</td>\n",
       "</tr>\n",
       "<tr>\n",
       "  <th>No. Observations:</th>      <td>  1000</td>      <th>  AIC:               </th>          <td>   2856.</td>\n",
       "</tr>\n",
       "<tr>\n",
       "  <th>Df Residuals:</th>          <td>   998</td>      <th>  BIC:               </th>          <td>   2866.</td>\n",
       "</tr>\n",
       "<tr>\n",
       "  <th>Df Model:</th>              <td>     2</td>      <th>                     </th>              <td> </td>   \n",
       "</tr>\n",
       "<tr>\n",
       "  <th>Covariance Type:</th>      <td>nonrobust</td>    <th>                     </th>              <td> </td>   \n",
       "</tr>\n",
       "</table>\n",
       "<table class=\"simpletable\">\n",
       "<tr>\n",
       "   <td></td>     <th>coef</th>     <th>std err</th>      <th>t</th>      <th>P>|t|</th>  <th>[0.025</th>    <th>0.975]</th>  \n",
       "</tr>\n",
       "<tr>\n",
       "  <th>x1</th> <td>    1.8407</td> <td>    0.031</td> <td>   58.699</td> <td> 0.000</td> <td>    1.779</td> <td>    1.902</td>\n",
       "</tr>\n",
       "<tr>\n",
       "  <th>x2</th> <td>    5.0481</td> <td>    0.046</td> <td>  110.258</td> <td> 0.000</td> <td>    4.958</td> <td>    5.138</td>\n",
       "</tr>\n",
       "</table>\n",
       "<table class=\"simpletable\">\n",
       "<tr>\n",
       "  <th>Omnibus:</th>       <td> 2.137</td> <th>  Durbin-Watson:     </th> <td>   2.112</td>\n",
       "</tr>\n",
       "<tr>\n",
       "  <th>Prob(Omnibus):</th> <td> 0.344</td> <th>  Jarque-Bera (JB):  </th> <td>   2.208</td>\n",
       "</tr>\n",
       "<tr>\n",
       "  <th>Skew:</th>          <td> 0.100</td> <th>  Prob(JB):          </th> <td>   0.332</td>\n",
       "</tr>\n",
       "<tr>\n",
       "  <th>Kurtosis:</th>      <td> 2.885</td> <th>  Cond. No.          </th> <td>    1.50</td>\n",
       "</tr>\n",
       "</table><br/><br/>Notes:<br/>[1] R² is computed without centering (uncentered) since the model does not contain a constant.<br/>[2] Standard Errors assume that the covariance matrix of the errors is correctly specified."
      ],
      "text/plain": [
       "<class 'statsmodels.iolib.summary.Summary'>\n",
       "\"\"\"\n",
       "                                 OLS Regression Results                                \n",
       "=======================================================================================\n",
       "Dep. Variable:                      y   R-squared (uncentered):                   0.947\n",
       "Model:                            OLS   Adj. R-squared (uncentered):              0.946\n",
       "Method:                 Least Squares   F-statistic:                              8841.\n",
       "Date:                Wed, 22 Mar 2023   Prob (F-statistic):                        0.00\n",
       "Time:                        20:01:30   Log-Likelihood:                         -1426.1\n",
       "No. Observations:                1000   AIC:                                      2856.\n",
       "Df Residuals:                     998   BIC:                                      2866.\n",
       "Df Model:                           2                                                  \n",
       "Covariance Type:            nonrobust                                                  \n",
       "==============================================================================\n",
       "                 coef    std err          t      P>|t|      [0.025      0.975]\n",
       "------------------------------------------------------------------------------\n",
       "x1             1.8407      0.031     58.699      0.000       1.779       1.902\n",
       "x2             5.0481      0.046    110.258      0.000       4.958       5.138\n",
       "==============================================================================\n",
       "Omnibus:                        2.137   Durbin-Watson:                   2.112\n",
       "Prob(Omnibus):                  0.344   Jarque-Bera (JB):                2.208\n",
       "Skew:                           0.100   Prob(JB):                        0.332\n",
       "Kurtosis:                       2.885   Cond. No.                         1.50\n",
       "==============================================================================\n",
       "\n",
       "Notes:\n",
       "[1] R² is computed without centering (uncentered) since the model does not contain a constant.\n",
       "[2] Standard Errors assume that the covariance matrix of the errors is correctly specified.\n",
       "\"\"\""
      ]
     },
     "execution_count": 10,
     "metadata": {},
     "output_type": "execute_result"
    }
   ],
   "source": [
    "model = OLS(np.asarray(df[outcome]), np.asarray(df[[common_cause, treatment]], dtype=np.float64))\n",
    "result = model.fit()\n",
    "result.summary()"
   ]
  }
 ],
 "metadata": {
  "kernelspec": {
   "display_name": "Python 3",
   "language": "python",
   "name": "python3"
  },
  "language_info": {
   "codemirror_mode": {
    "name": "ipython",
    "version": 3
   },
   "file_extension": ".py",
   "mimetype": "text/x-python",
   "name": "python",
   "nbconvert_exporter": "python",
   "pygments_lexer": "ipython3",
   "version": "3.8.10"
  },
  "toc": {
   "base_numbering": 1,
   "nav_menu": {},
   "number_sections": false,
   "sideBar": true,
   "skip_h1_title": true,
   "title_cell": "Table of Contents",
   "title_sidebar": "Contents",
   "toc_cell": false,
   "toc_position": {},
   "toc_section_display": true,
   "toc_window_display": false
  }
 },
 "nbformat": 4,
 "nbformat_minor": 4
}
