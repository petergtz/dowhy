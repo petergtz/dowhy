{
 "cells": [
  {
   "cell_type": "markdown",
   "metadata": {},
   "source": [
    "# Demo for the DoWhy causal API\n",
    "We show a simple example of adding a causal extension to any dataframe. "
   ]
  },
  {
   "cell_type": "code",
   "execution_count": 1,
   "metadata": {
    "execution": {
     "iopub.execute_input": "2022-10-25T15:01:29.710672Z",
     "iopub.status.busy": "2022-10-25T15:01:29.710355Z",
     "iopub.status.idle": "2022-10-25T15:01:31.100603Z",
     "shell.execute_reply": "2022-10-25T15:01:31.100050Z"
    }
   },
   "outputs": [],
   "source": [
    "import dowhy.datasets\n",
    "import dowhy.api\n",
    "\n",
    "import numpy as np\n",
    "import pandas as pd\n",
    "\n",
    "from statsmodels.api import OLS"
   ]
  },
  {
   "cell_type": "code",
   "execution_count": 2,
   "metadata": {
    "execution": {
     "iopub.execute_input": "2022-10-25T15:01:31.104814Z",
     "iopub.status.busy": "2022-10-25T15:01:31.103449Z",
     "iopub.status.idle": "2022-10-25T15:01:31.135458Z",
     "shell.execute_reply": "2022-10-25T15:01:31.134944Z"
    }
   },
   "outputs": [
    {
     "data": {
      "text/html": [
       "<div>\n",
       "<style scoped>\n",
       "    .dataframe tbody tr th:only-of-type {\n",
       "        vertical-align: middle;\n",
       "    }\n",
       "\n",
       "    .dataframe tbody tr th {\n",
       "        vertical-align: top;\n",
       "    }\n",
       "\n",
       "    .dataframe thead th {\n",
       "        text-align: right;\n",
       "    }\n",
       "</style>\n",
       "<table border=\"1\" class=\"dataframe\">\n",
       "  <thead>\n",
       "    <tr style=\"text-align: right;\">\n",
       "      <th></th>\n",
       "      <th>W0</th>\n",
       "      <th>v0</th>\n",
       "      <th>y</th>\n",
       "    </tr>\n",
       "  </thead>\n",
       "  <tbody>\n",
       "    <tr>\n",
       "      <th>0</th>\n",
       "      <td>-1.066916</td>\n",
       "      <td>True</td>\n",
       "      <td>4.902346</td>\n",
       "    </tr>\n",
       "    <tr>\n",
       "      <th>1</th>\n",
       "      <td>-0.644360</td>\n",
       "      <td>True</td>\n",
       "      <td>6.220749</td>\n",
       "    </tr>\n",
       "    <tr>\n",
       "      <th>2</th>\n",
       "      <td>0.477774</td>\n",
       "      <td>True</td>\n",
       "      <td>4.098452</td>\n",
       "    </tr>\n",
       "    <tr>\n",
       "      <th>3</th>\n",
       "      <td>0.677380</td>\n",
       "      <td>True</td>\n",
       "      <td>5.596986</td>\n",
       "    </tr>\n",
       "    <tr>\n",
       "      <th>4</th>\n",
       "      <td>0.774406</td>\n",
       "      <td>True</td>\n",
       "      <td>6.582154</td>\n",
       "    </tr>\n",
       "    <tr>\n",
       "      <th>...</th>\n",
       "      <td>...</td>\n",
       "      <td>...</td>\n",
       "      <td>...</td>\n",
       "    </tr>\n",
       "    <tr>\n",
       "      <th>995</th>\n",
       "      <td>-1.025847</td>\n",
       "      <td>False</td>\n",
       "      <td>-0.753912</td>\n",
       "    </tr>\n",
       "    <tr>\n",
       "      <th>996</th>\n",
       "      <td>0.867778</td>\n",
       "      <td>True</td>\n",
       "      <td>6.023399</td>\n",
       "    </tr>\n",
       "    <tr>\n",
       "      <th>997</th>\n",
       "      <td>-1.070748</td>\n",
       "      <td>False</td>\n",
       "      <td>-0.605593</td>\n",
       "    </tr>\n",
       "    <tr>\n",
       "      <th>998</th>\n",
       "      <td>-1.346549</td>\n",
       "      <td>False</td>\n",
       "      <td>0.682342</td>\n",
       "    </tr>\n",
       "    <tr>\n",
       "      <th>999</th>\n",
       "      <td>0.913176</td>\n",
       "      <td>True</td>\n",
       "      <td>5.116235</td>\n",
       "    </tr>\n",
       "  </tbody>\n",
       "</table>\n",
       "<p>1000 rows × 3 columns</p>\n",
       "</div>"
      ],
      "text/plain": [
       "           W0     v0         y\n",
       "0   -1.066916   True  4.902346\n",
       "1   -0.644360   True  6.220749\n",
       "2    0.477774   True  4.098452\n",
       "3    0.677380   True  5.596986\n",
       "4    0.774406   True  6.582154\n",
       "..        ...    ...       ...\n",
       "995 -1.025847  False -0.753912\n",
       "996  0.867778   True  6.023399\n",
       "997 -1.070748  False -0.605593\n",
       "998 -1.346549  False  0.682342\n",
       "999  0.913176   True  5.116235\n",
       "\n",
       "[1000 rows x 3 columns]"
      ]
     },
     "execution_count": 2,
     "metadata": {},
     "output_type": "execute_result"
    }
   ],
   "source": [
    "data = dowhy.datasets.linear_dataset(beta=5,\n",
    "        num_common_causes=1,\n",
    "        num_instruments = 0,\n",
    "        num_samples=1000,\n",
    "        treatment_is_binary=True)\n",
    "df = data['df']\n",
    "df['y'] = df['y'] + np.random.normal(size=len(df)) # Adding noise to data. Without noise, the variance in Y|X, Z is zero, and mcmc fails.\n",
    "#data['dot_graph'] = 'digraph { v ->y;X0-> v;X0-> y;}'\n",
    "\n",
    "treatment= data[\"treatment_name\"][0]\n",
    "outcome = data[\"outcome_name\"][0]\n",
    "common_cause = data[\"common_causes_names\"][0]\n",
    "df"
   ]
  },
  {
   "cell_type": "code",
   "execution_count": 3,
   "metadata": {
    "execution": {
     "iopub.execute_input": "2022-10-25T15:01:31.138706Z",
     "iopub.status.busy": "2022-10-25T15:01:31.137776Z",
     "iopub.status.idle": "2022-10-25T15:01:31.246603Z",
     "shell.execute_reply": "2022-10-25T15:01:31.246107Z"
    }
   },
   "outputs": [
    {
     "data": {
      "text/plain": [
       "<AxesSubplot: xlabel='v0'>"
      ]
     },
     "execution_count": 3,
     "metadata": {},
     "output_type": "execute_result"
    },
    {
     "data": {
      "image/png": "[encoded data removed]",
      "text/plain": [
       "<Figure size 640x480 with 1 Axes>"
      ]
     },
     "metadata": {},
     "output_type": "display_data"
    }
   ],
   "source": [
    "# data['df'] is just a regular pandas.DataFrame\n",
    "df.causal.do(x=treatment,\n",
    "                     variable_types={treatment: 'b', outcome: 'c', common_cause: 'c'},\n",
    "                     outcome=outcome,\n",
    "                     common_causes=[common_cause],\n",
    "                     proceed_when_unidentifiable=True).groupby(treatment).mean().plot(y=outcome, kind='bar')"
   ]
  },
  {
   "cell_type": "code",
   "execution_count": 4,
   "metadata": {
    "execution": {
     "iopub.execute_input": "2022-10-25T15:01:31.249258Z",
     "iopub.status.busy": "2022-10-25T15:01:31.248903Z",
     "iopub.status.idle": "2022-10-25T15:01:31.337347Z",
     "shell.execute_reply": "2022-10-25T15:01:31.336945Z"
    }
   },
   "outputs": [
    {
     "data": {
      "text/plain": [
       "<AxesSubplot: xlabel='v0'>"
      ]
     },
     "execution_count": 4,
     "metadata": {},
     "output_type": "execute_result"
    },
    {
     "data": {
      "image/png": "[encoded data removed]",
      "text/plain": [
       "<Figure size 640x480 with 1 Axes>"
      ]
     },
     "metadata": {},
     "output_type": "display_data"
    }
   ],
   "source": [
    "df.causal.do(x={treatment: 1}, \n",
    "              variable_types={treatment:'b', outcome: 'c', common_cause: 'c'}, \n",
    "              outcome=outcome,\n",
    "              method='weighting', \n",
    "              common_causes=[common_cause],\n",
    "              proceed_when_unidentifiable=True).groupby(treatment).mean().plot(y=outcome, kind='bar')"
   ]
  },
  {
   "cell_type": "code",
   "execution_count": 5,
   "metadata": {
    "execution": {
     "iopub.execute_input": "2022-10-25T15:01:31.340525Z",
     "iopub.status.busy": "2022-10-25T15:01:31.339651Z",
     "iopub.status.idle": "2022-10-25T15:01:31.364360Z",
     "shell.execute_reply": "2022-10-25T15:01:31.363931Z"
    }
   },
   "outputs": [],
   "source": [
    "cdf_1 = df.causal.do(x={treatment: 1}, \n",
    "              variable_types={treatment: 'b', outcome: 'c', common_cause: 'c'}, \n",
    "              outcome=outcome, \n",
    "              dot_graph=data['dot_graph'],\n",
    "              proceed_when_unidentifiable=True)\n",
    "\n",
    "cdf_0 = df.causal.do(x={treatment: 0}, \n",
    "              variable_types={treatment: 'b', outcome: 'c', common_cause: 'c'}, \n",
    "              outcome=outcome, \n",
    "              dot_graph=data['dot_graph'],\n",
    "              proceed_when_unidentifiable=True)\n"
   ]
  },
  {
   "cell_type": "code",
   "execution_count": 6,
   "metadata": {
    "execution": {
     "iopub.execute_input": "2022-10-25T15:01:31.367698Z",
     "iopub.status.busy": "2022-10-25T15:01:31.366791Z",
     "iopub.status.idle": "2022-10-25T15:01:31.376286Z",
     "shell.execute_reply": "2022-10-25T15:01:31.375881Z"
    },
    "scrolled": true
   },
   "outputs": [
    {
     "data": {
      "text/html": [
       "<div>\n",
       "<style scoped>\n",
       "    .dataframe tbody tr th:only-of-type {\n",
       "        vertical-align: middle;\n",
       "    }\n",
       "\n",
       "    .dataframe tbody tr th {\n",
       "        vertical-align: top;\n",
       "    }\n",
       "\n",
       "    .dataframe thead th {\n",
       "        text-align: right;\n",
       "    }\n",
       "</style>\n",
       "<table border=\"1\" class=\"dataframe\">\n",
       "  <thead>\n",
       "    <tr style=\"text-align: right;\">\n",
       "      <th></th>\n",
       "      <th>W0</th>\n",
       "      <th>v0</th>\n",
       "      <th>y</th>\n",
       "      <th>propensity_score</th>\n",
       "      <th>weight</th>\n",
       "    </tr>\n",
       "  </thead>\n",
       "  <tbody>\n",
       "    <tr>\n",
       "      <th>0</th>\n",
       "      <td>-0.045262</td>\n",
       "      <td>False</td>\n",
       "      <td>-1.988535</td>\n",
       "      <td>0.501571</td>\n",
       "      <td>1.993735</td>\n",
       "    </tr>\n",
       "    <tr>\n",
       "      <th>1</th>\n",
       "      <td>0.782638</td>\n",
       "      <td>False</td>\n",
       "      <td>0.999790</td>\n",
       "      <td>0.224133</td>\n",
       "      <td>4.461641</td>\n",
       "    </tr>\n",
       "    <tr>\n",
       "      <th>2</th>\n",
       "      <td>0.113033</td>\n",
       "      <td>False</td>\n",
       "      <td>-2.232524</td>\n",
       "      <td>0.442175</td>\n",
       "      <td>2.261547</td>\n",
       "    </tr>\n",
       "    <tr>\n",
       "      <th>3</th>\n",
       "      <td>-0.205366</td>\n",
       "      <td>False</td>\n",
       "      <td>1.392362</td>\n",
       "      <td>0.561594</td>\n",
       "      <td>1.780645</td>\n",
       "    </tr>\n",
       "    <tr>\n",
       "      <th>4</th>\n",
       "      <td>-0.168479</td>\n",
       "      <td>False</td>\n",
       "      <td>1.705050</td>\n",
       "      <td>0.547860</td>\n",
       "      <td>1.825282</td>\n",
       "    </tr>\n",
       "    <tr>\n",
       "      <th>...</th>\n",
       "      <td>...</td>\n",
       "      <td>...</td>\n",
       "      <td>...</td>\n",
       "      <td>...</td>\n",
       "      <td>...</td>\n",
       "    </tr>\n",
       "    <tr>\n",
       "      <th>995</th>\n",
       "      <td>-1.590473</td>\n",
       "      <td>False</td>\n",
       "      <td>-2.357884</td>\n",
       "      <td>0.911785</td>\n",
       "      <td>1.096749</td>\n",
       "    </tr>\n",
       "    <tr>\n",
       "      <th>996</th>\n",
       "      <td>-1.600130</td>\n",
       "      <td>False</td>\n",
       "      <td>-1.556615</td>\n",
       "      <td>0.912949</td>\n",
       "      <td>1.095351</td>\n",
       "    </tr>\n",
       "    <tr>\n",
       "      <th>997</th>\n",
       "      <td>-0.088449</td>\n",
       "      <td>False</td>\n",
       "      <td>0.299121</td>\n",
       "      <td>0.517839</td>\n",
       "      <td>1.931101</td>\n",
       "    </tr>\n",
       "    <tr>\n",
       "      <th>998</th>\n",
       "      <td>-0.934484</td>\n",
       "      <td>False</td>\n",
       "      <td>-0.482812</td>\n",
       "      <td>0.793598</td>\n",
       "      <td>1.260083</td>\n",
       "    </tr>\n",
       "    <tr>\n",
       "      <th>999</th>\n",
       "      <td>-1.041084</td>\n",
       "      <td>False</td>\n",
       "      <td>-0.143934</td>\n",
       "      <td>0.818683</td>\n",
       "      <td>1.221474</td>\n",
       "    </tr>\n",
       "  </tbody>\n",
       "</table>\n",
       "<p>1000 rows × 5 columns</p>\n",
       "</div>"
      ],
      "text/plain": [
       "           W0     v0         y  propensity_score    weight\n",
       "0   -0.045262  False -1.988535          0.501571  1.993735\n",
       "1    0.782638  False  0.999790          0.224133  4.461641\n",
       "2    0.113033  False -2.232524          0.442175  2.261547\n",
       "3   -0.205366  False  1.392362          0.561594  1.780645\n",
       "4   -0.168479  False  1.705050          0.547860  1.825282\n",
       "..        ...    ...       ...               ...       ...\n",
       "995 -1.590473  False -2.357884          0.911785  1.096749\n",
       "996 -1.600130  False -1.556615          0.912949  1.095351\n",
       "997 -0.088449  False  0.299121          0.517839  1.931101\n",
       "998 -0.934484  False -0.482812          0.793598  1.260083\n",
       "999 -1.041084  False -0.143934          0.818683  1.221474\n",
       "\n",
       "[1000 rows x 5 columns]"
      ]
     },
     "execution_count": 6,
     "metadata": {},
     "output_type": "execute_result"
    }
   ],
   "source": [
    "cdf_0"
   ]
  },
  {
   "cell_type": "code",
   "execution_count": 7,
   "metadata": {
    "execution": {
     "iopub.execute_input": "2022-10-25T15:01:31.379128Z",
     "iopub.status.busy": "2022-10-25T15:01:31.378302Z",
     "iopub.status.idle": "2022-10-25T15:01:31.387540Z",
     "shell.execute_reply": "2022-10-25T15:01:31.387119Z"
    }
   },
   "outputs": [
    {
     "data": {
      "text/html": [
       "<div>\n",
       "<style scoped>\n",
       "    .dataframe tbody tr th:only-of-type {\n",
       "        vertical-align: middle;\n",
       "    }\n",
       "\n",
       "    .dataframe tbody tr th {\n",
       "        vertical-align: top;\n",
       "    }\n",
       "\n",
       "    .dataframe thead th {\n",
       "        text-align: right;\n",
       "    }\n",
       "</style>\n",
       "<table border=\"1\" class=\"dataframe\">\n",
       "  <thead>\n",
       "    <tr style=\"text-align: right;\">\n",
       "      <th></th>\n",
       "      <th>W0</th>\n",
       "      <th>v0</th>\n",
       "      <th>y</th>\n",
       "      <th>propensity_score</th>\n",
       "      <th>weight</th>\n",
       "    </tr>\n",
       "  </thead>\n",
       "  <tbody>\n",
       "    <tr>\n",
       "      <th>0</th>\n",
       "      <td>0.136422</td>\n",
       "      <td>True</td>\n",
       "      <td>5.262490</td>\n",
       "      <td>0.566503</td>\n",
       "      <td>1.765216</td>\n",
       "    </tr>\n",
       "    <tr>\n",
       "      <th>1</th>\n",
       "      <td>0.284968</td>\n",
       "      <td>True</td>\n",
       "      <td>5.765385</td>\n",
       "      <td>0.620466</td>\n",
       "      <td>1.611693</td>\n",
       "    </tr>\n",
       "    <tr>\n",
       "      <th>2</th>\n",
       "      <td>-1.322432</td>\n",
       "      <td>True</td>\n",
       "      <td>3.888894</td>\n",
       "      <td>0.126577</td>\n",
       "      <td>7.900339</td>\n",
       "    </tr>\n",
       "    <tr>\n",
       "      <th>3</th>\n",
       "      <td>0.003051</td>\n",
       "      <td>True</td>\n",
       "      <td>3.566810</td>\n",
       "      <td>0.516630</td>\n",
       "      <td>1.935620</td>\n",
       "    </tr>\n",
       "    <tr>\n",
       "      <th>4</th>\n",
       "      <td>1.535764</td>\n",
       "      <td>True</td>\n",
       "      <td>6.058258</td>\n",
       "      <td>0.915061</td>\n",
       "      <td>1.092824</td>\n",
       "    </tr>\n",
       "    <tr>\n",
       "      <th>...</th>\n",
       "      <td>...</td>\n",
       "      <td>...</td>\n",
       "      <td>...</td>\n",
       "      <td>...</td>\n",
       "      <td>...</td>\n",
       "    </tr>\n",
       "    <tr>\n",
       "      <th>995</th>\n",
       "      <td>-0.429772</td>\n",
       "      <td>True</td>\n",
       "      <td>6.473912</td>\n",
       "      <td>0.357572</td>\n",
       "      <td>2.796642</td>\n",
       "    </tr>\n",
       "    <tr>\n",
       "      <th>996</th>\n",
       "      <td>-1.294993</td>\n",
       "      <td>True</td>\n",
       "      <td>2.729078</td>\n",
       "      <td>0.131221</td>\n",
       "      <td>7.620733</td>\n",
       "    </tr>\n",
       "    <tr>\n",
       "      <th>997</th>\n",
       "      <td>-0.463074</td>\n",
       "      <td>True</td>\n",
       "      <td>6.361547</td>\n",
       "      <td>0.346124</td>\n",
       "      <td>2.889136</td>\n",
       "    </tr>\n",
       "    <tr>\n",
       "      <th>998</th>\n",
       "      <td>0.309155</td>\n",
       "      <td>True</td>\n",
       "      <td>5.229049</td>\n",
       "      <td>0.629013</td>\n",
       "      <td>1.589792</td>\n",
       "    </tr>\n",
       "    <tr>\n",
       "      <th>999</th>\n",
       "      <td>0.138024</td>\n",
       "      <td>True</td>\n",
       "      <td>4.136116</td>\n",
       "      <td>0.567096</td>\n",
       "      <td>1.763370</td>\n",
       "    </tr>\n",
       "  </tbody>\n",
       "</table>\n",
       "<p>1000 rows × 5 columns</p>\n",
       "</div>"
      ],
      "text/plain": [
       "           W0    v0         y  propensity_score    weight\n",
       "0    0.136422  True  5.262490          0.566503  1.765216\n",
       "1    0.284968  True  5.765385          0.620466  1.611693\n",
       "2   -1.322432  True  3.888894          0.126577  7.900339\n",
       "3    0.003051  True  3.566810          0.516630  1.935620\n",
       "4    1.535764  True  6.058258          0.915061  1.092824\n",
       "..        ...   ...       ...               ...       ...\n",
       "995 -0.429772  True  6.473912          0.357572  2.796642\n",
       "996 -1.294993  True  2.729078          0.131221  7.620733\n",
       "997 -0.463074  True  6.361547          0.346124  2.889136\n",
       "998  0.309155  True  5.229049          0.629013  1.589792\n",
       "999  0.138024  True  4.136116          0.567096  1.763370\n",
       "\n",
       "[1000 rows x 5 columns]"
      ]
     },
     "execution_count": 7,
     "metadata": {},
     "output_type": "execute_result"
    }
   ],
   "source": [
    "cdf_1"
   ]
  },
  {
   "cell_type": "markdown",
   "metadata": {},
   "source": [
    "## Comparing the estimate to Linear Regression\n",
    "First, estimating the effect using the causal data frame, and the 95% confidence interval."
   ]
  },
  {
   "cell_type": "code",
   "execution_count": 8,
   "metadata": {
    "execution": {
     "iopub.execute_input": "2022-10-25T15:01:31.389680Z",
     "iopub.status.busy": "2022-10-25T15:01:31.389528Z",
     "iopub.status.idle": "2022-10-25T15:01:31.432266Z",
     "shell.execute_reply": "2022-10-25T15:01:31.431772Z"
    }
   },
   "outputs": [
    {
     "data": {
      "image/png": "[encoded data removed]",
      "text/latex": [
       "$\\displaystyle 5.10455593685231$"
      ],
      "text/plain": [
       "5.104555936852313"
      ]
     },
     "execution_count": 8,
     "metadata": {},
     "output_type": "execute_result"
    }
   ],
   "source": [
    "(cdf_1['y'] - cdf_0['y']).mean()"
   ]
  },
  {
   "cell_type": "code",
   "execution_count": 9,
   "metadata": {
    "execution": {
     "iopub.execute_input": "2022-10-25T15:01:31.434457Z",
     "iopub.status.busy": "2022-10-25T15:01:31.434272Z",
     "iopub.status.idle": "2022-10-25T15:01:31.451760Z",
     "shell.execute_reply": "2022-10-25T15:01:31.451308Z"
    }
   },
   "outputs": [
    {
     "data": {
      "image/png": "[encoded data removed]",
      "text/latex": [
       "$\\displaystyle 0.104061991752731$"
      ],
      "text/plain": [
       "0.10406199175273145"
      ]
     },
     "execution_count": 9,
     "metadata": {},
     "output_type": "execute_result"
    }
   ],
   "source": [
    "1.96*(cdf_1['y'] - cdf_0['y']).std() / np.sqrt(len(df))"
   ]
  },
  {
   "cell_type": "markdown",
   "metadata": {},
   "source": [
    "Comparing to the estimate from OLS."
   ]
  },
  {
   "cell_type": "code",
   "execution_count": 10,
   "metadata": {
    "execution": {
     "iopub.execute_input": "2022-10-25T15:01:31.454800Z",
     "iopub.status.busy": "2022-10-25T15:01:31.453938Z",
     "iopub.status.idle": "2022-10-25T15:01:31.468257Z",
     "shell.execute_reply": "2022-10-25T15:01:31.467834Z"
    }
   },
   "outputs": [
    {
     "data": {
      "text/html": [
       "<table class=\"simpletable\">\n",
       "<caption>OLS Regression Results</caption>\n",
       "<tr>\n",
       "  <th>Dep. Variable:</th>            <td>y</td>        <th>  R-squared (uncentered):</th>      <td>   0.926</td>\n",
       "</tr>\n",
       "<tr>\n",
       "  <th>Model:</th>                   <td>OLS</td>       <th>  Adj. R-squared (uncentered):</th> <td>   0.926</td>\n",
       "</tr>\n",
       "<tr>\n",
       "  <th>Method:</th>             <td>Least Squares</td>  <th>  F-statistic:       </th>          <td>   6218.</td>\n",
       "</tr>\n",
       "<tr>\n",
       "  <th>Date:</th>             <td>Tue, 25 Oct 2022</td> <th>  Prob (F-statistic):</th>           <td>  0.00</td> \n",
       "</tr>\n",
       "<tr>\n",
       "  <th>Time:</th>                 <td>15:01:31</td>     <th>  Log-Likelihood:    </th>          <td> -1426.3</td>\n",
       "</tr>\n",
       "<tr>\n",
       "  <th>No. Observations:</th>      <td>  1000</td>      <th>  AIC:               </th>          <td>   2857.</td>\n",
       "</tr>\n",
       "<tr>\n",
       "  <th>Df Residuals:</th>          <td>   998</td>      <th>  BIC:               </th>          <td>   2866.</td>\n",
       "</tr>\n",
       "<tr>\n",
       "  <th>Df Model:</th>              <td>     2</td>      <th>                     </th>              <td> </td>   \n",
       "</tr>\n",
       "<tr>\n",
       "  <th>Covariance Type:</th>      <td>nonrobust</td>    <th>                     </th>              <td> </td>   \n",
       "</tr>\n",
       "</table>\n",
       "<table class=\"simpletable\">\n",
       "<tr>\n",
       "   <td></td>     <th>coef</th>     <th>std err</th>      <th>t</th>      <th>P>|t|</th>  <th>[0.025</th>    <th>0.975]</th>  \n",
       "</tr>\n",
       "<tr>\n",
       "  <th>x1</th> <td>    0.5357</td> <td>    0.032</td> <td>   16.751</td> <td> 0.000</td> <td>    0.473</td> <td>    0.598</td>\n",
       "</tr>\n",
       "<tr>\n",
       "  <th>x2</th> <td>    5.0041</td> <td>    0.049</td> <td>  102.660</td> <td> 0.000</td> <td>    4.908</td> <td>    5.100</td>\n",
       "</tr>\n",
       "</table>\n",
       "<table class=\"simpletable\">\n",
       "<tr>\n",
       "  <th>Omnibus:</th>       <td> 1.050</td> <th>  Durbin-Watson:     </th> <td>   1.919</td>\n",
       "</tr>\n",
       "<tr>\n",
       "  <th>Prob(Omnibus):</th> <td> 0.591</td> <th>  Jarque-Bera (JB):  </th> <td>   0.935</td>\n",
       "</tr>\n",
       "<tr>\n",
       "  <th>Skew:</th>          <td>-0.004</td> <th>  Prob(JB):          </th> <td>   0.627</td>\n",
       "</tr>\n",
       "<tr>\n",
       "  <th>Kurtosis:</th>      <td> 3.150</td> <th>  Cond. No.          </th> <td>    1.64</td>\n",
       "</tr>\n",
       "</table><br/><br/>Notes:<br/>[1] R² is computed without centering (uncentered) since the model does not contain a constant.<br/>[2] Standard Errors assume that the covariance matrix of the errors is correctly specified."
      ],
      "text/plain": [
       "<class 'statsmodels.iolib.summary.Summary'>\n",
       "\"\"\"\n",
       "                                 OLS Regression Results                                \n",
       "=======================================================================================\n",
       "Dep. Variable:                      y   R-squared (uncentered):                   0.926\n",
       "Model:                            OLS   Adj. R-squared (uncentered):              0.926\n",
       "Method:                 Least Squares   F-statistic:                              6218.\n",
       "Date:                Tue, 25 Oct 2022   Prob (F-statistic):                        0.00\n",
       "Time:                        15:01:31   Log-Likelihood:                         -1426.3\n",
       "No. Observations:                1000   AIC:                                      2857.\n",
       "Df Residuals:                     998   BIC:                                      2866.\n",
       "Df Model:                           2                                                  \n",
       "Covariance Type:            nonrobust                                                  \n",
       "==============================================================================\n",
       "                 coef    std err          t      P>|t|      [0.025      0.975]\n",
       "------------------------------------------------------------------------------\n",
       "x1             0.5357      0.032     16.751      0.000       0.473       0.598\n",
       "x2             5.0041      0.049    102.660      0.000       4.908       5.100\n",
       "==============================================================================\n",
       "Omnibus:                        1.050   Durbin-Watson:                   1.919\n",
       "Prob(Omnibus):                  0.591   Jarque-Bera (JB):                0.935\n",
       "Skew:                          -0.004   Prob(JB):                        0.627\n",
       "Kurtosis:                       3.150   Cond. No.                         1.64\n",
       "==============================================================================\n",
       "\n",
       "Notes:\n",
       "[1] R² is computed without centering (uncentered) since the model does not contain a constant.\n",
       "[2] Standard Errors assume that the covariance matrix of the errors is correctly specified.\n",
       "\"\"\""
      ]
     },
     "execution_count": 10,
     "metadata": {},
     "output_type": "execute_result"
    }
   ],
   "source": [
    "model = OLS(np.asarray(df[outcome]), np.asarray(df[[common_cause, treatment]], dtype=np.float64))\n",
    "result = model.fit()\n",
    "result.summary()"
   ]
  }
 ],
 "metadata": {
  "kernelspec": {
   "display_name": "Python 3",
   "language": "python",
   "name": "python3"
  },
  "language_info": {
   "codemirror_mode": {
    "name": "ipython",
    "version": 3
   },
   "file_extension": ".py",
   "mimetype": "text/x-python",
   "name": "python",
   "nbconvert_exporter": "python",
   "pygments_lexer": "ipython3",
   "version": "3.8.10"
  },
  "toc": {
   "base_numbering": 1,
   "nav_menu": {},
   "number_sections": false,
   "sideBar": true,
   "skip_h1_title": true,
   "title_cell": "Table of Contents",
   "title_sidebar": "Contents",
   "toc_cell": false,
   "toc_position": {},
   "toc_section_display": true,
   "toc_window_display": false
  }
 },
 "nbformat": 4,
 "nbformat_minor": 4
}
