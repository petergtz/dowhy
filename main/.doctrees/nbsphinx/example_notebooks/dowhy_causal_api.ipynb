{
 "cells": [
  {
   "cell_type": "markdown",
   "metadata": {},
   "source": [
    "# Demo for the DoWhy causal API\n",
    "We show a simple example of adding a causal extension to any dataframe. "
   ]
  },
  {
   "cell_type": "code",
   "execution_count": 1,
   "metadata": {
    "execution": {
     "iopub.execute_input": "2022-11-14T17:33:11.238113Z",
     "iopub.status.busy": "2022-11-14T17:33:11.237817Z",
     "iopub.status.idle": "2022-11-14T17:33:13.298689Z",
     "shell.execute_reply": "2022-11-14T17:33:13.297944Z"
    }
   },
   "outputs": [],
   "source": [
    "import dowhy.datasets\n",
    "import dowhy.api\n",
    "\n",
    "import numpy as np\n",
    "import pandas as pd\n",
    "\n",
    "from statsmodels.api import OLS"
   ]
  },
  {
   "cell_type": "code",
   "execution_count": 2,
   "metadata": {
    "execution": {
     "iopub.execute_input": "2022-11-14T17:33:13.302961Z",
     "iopub.status.busy": "2022-11-14T17:33:13.302082Z",
     "iopub.status.idle": "2022-11-14T17:33:13.351589Z",
     "shell.execute_reply": "2022-11-14T17:33:13.350594Z"
    }
   },
   "outputs": [
    {
     "data": {
      "text/html": [
       "<div>\n",
       "<style scoped>\n",
       "    .dataframe tbody tr th:only-of-type {\n",
       "        vertical-align: middle;\n",
       "    }\n",
       "\n",
       "    .dataframe tbody tr th {\n",
       "        vertical-align: top;\n",
       "    }\n",
       "\n",
       "    .dataframe thead th {\n",
       "        text-align: right;\n",
       "    }\n",
       "</style>\n",
       "<table border=\"1\" class=\"dataframe\">\n",
       "  <thead>\n",
       "    <tr style=\"text-align: right;\">\n",
       "      <th></th>\n",
       "      <th>W0</th>\n",
       "      <th>v0</th>\n",
       "      <th>y</th>\n",
       "    </tr>\n",
       "  </thead>\n",
       "  <tbody>\n",
       "    <tr>\n",
       "      <th>0</th>\n",
       "      <td>2.032515</td>\n",
       "      <td>True</td>\n",
       "      <td>11.517678</td>\n",
       "    </tr>\n",
       "    <tr>\n",
       "      <th>1</th>\n",
       "      <td>-0.991765</td>\n",
       "      <td>False</td>\n",
       "      <td>-2.604534</td>\n",
       "    </tr>\n",
       "    <tr>\n",
       "      <th>2</th>\n",
       "      <td>2.973576</td>\n",
       "      <td>True</td>\n",
       "      <td>12.653210</td>\n",
       "    </tr>\n",
       "    <tr>\n",
       "      <th>3</th>\n",
       "      <td>1.238046</td>\n",
       "      <td>False</td>\n",
       "      <td>4.824492</td>\n",
       "    </tr>\n",
       "    <tr>\n",
       "      <th>4</th>\n",
       "      <td>1.053408</td>\n",
       "      <td>True</td>\n",
       "      <td>8.908305</td>\n",
       "    </tr>\n",
       "    <tr>\n",
       "      <th>...</th>\n",
       "      <td>...</td>\n",
       "      <td>...</td>\n",
       "      <td>...</td>\n",
       "    </tr>\n",
       "    <tr>\n",
       "      <th>995</th>\n",
       "      <td>-0.586416</td>\n",
       "      <td>True</td>\n",
       "      <td>4.211017</td>\n",
       "    </tr>\n",
       "    <tr>\n",
       "      <th>996</th>\n",
       "      <td>0.930279</td>\n",
       "      <td>True</td>\n",
       "      <td>7.552883</td>\n",
       "    </tr>\n",
       "    <tr>\n",
       "      <th>997</th>\n",
       "      <td>0.855264</td>\n",
       "      <td>False</td>\n",
       "      <td>2.451511</td>\n",
       "    </tr>\n",
       "    <tr>\n",
       "      <th>998</th>\n",
       "      <td>0.503639</td>\n",
       "      <td>False</td>\n",
       "      <td>2.937192</td>\n",
       "    </tr>\n",
       "    <tr>\n",
       "      <th>999</th>\n",
       "      <td>0.811983</td>\n",
       "      <td>False</td>\n",
       "      <td>1.634187</td>\n",
       "    </tr>\n",
       "  </tbody>\n",
       "</table>\n",
       "<p>1000 rows × 3 columns</p>\n",
       "</div>"
      ],
      "text/plain": [
       "           W0     v0          y\n",
       "0    2.032515   True  11.517678\n",
       "1   -0.991765  False  -2.604534\n",
       "2    2.973576   True  12.653210\n",
       "3    1.238046  False   4.824492\n",
       "4    1.053408   True   8.908305\n",
       "..        ...    ...        ...\n",
       "995 -0.586416   True   4.211017\n",
       "996  0.930279   True   7.552883\n",
       "997  0.855264  False   2.451511\n",
       "998  0.503639  False   2.937192\n",
       "999  0.811983  False   1.634187\n",
       "\n",
       "[1000 rows x 3 columns]"
      ]
     },
     "execution_count": 2,
     "metadata": {},
     "output_type": "execute_result"
    }
   ],
   "source": [
    "data = dowhy.datasets.linear_dataset(beta=5,\n",
    "        num_common_causes=1,\n",
    "        num_instruments = 0,\n",
    "        num_samples=1000,\n",
    "        treatment_is_binary=True)\n",
    "df = data['df']\n",
    "df['y'] = df['y'] + np.random.normal(size=len(df)) # Adding noise to data. Without noise, the variance in Y|X, Z is zero, and mcmc fails.\n",
    "#data['dot_graph'] = 'digraph { v ->y;X0-> v;X0-> y;}'\n",
    "\n",
    "treatment= data[\"treatment_name\"][0]\n",
    "outcome = data[\"outcome_name\"][0]\n",
    "common_cause = data[\"common_causes_names\"][0]\n",
    "df"
   ]
  },
  {
   "cell_type": "code",
   "execution_count": 3,
   "metadata": {
    "execution": {
     "iopub.execute_input": "2022-11-14T17:33:13.356143Z",
     "iopub.status.busy": "2022-11-14T17:33:13.355640Z",
     "iopub.status.idle": "2022-11-14T17:33:13.523039Z",
     "shell.execute_reply": "2022-11-14T17:33:13.522349Z"
    }
   },
   "outputs": [
    {
     "data": {
      "text/plain": [
       "<AxesSubplot: xlabel='v0'>"
      ]
     },
     "execution_count": 3,
     "metadata": {},
     "output_type": "execute_result"
    },
    {
     "data": {
      "image/png": "[encoded data removed]",
      "text/plain": [
       "<Figure size 640x480 with 1 Axes>"
      ]
     },
     "metadata": {},
     "output_type": "display_data"
    }
   ],
   "source": [
    "# data['df'] is just a regular pandas.DataFrame\n",
    "df.causal.do(x=treatment,\n",
    "                     variable_types={treatment: 'b', outcome: 'c', common_cause: 'c'},\n",
    "                     outcome=outcome,\n",
    "                     common_causes=[common_cause],\n",
    "                     proceed_when_unidentifiable=True).groupby(treatment).mean().plot(y=outcome, kind='bar')"
   ]
  },
  {
   "cell_type": "code",
   "execution_count": 4,
   "metadata": {
    "execution": {
     "iopub.execute_input": "2022-11-14T17:33:13.526937Z",
     "iopub.status.busy": "2022-11-14T17:33:13.526439Z",
     "iopub.status.idle": "2022-11-14T17:33:13.651736Z",
     "shell.execute_reply": "2022-11-14T17:33:13.651149Z"
    }
   },
   "outputs": [
    {
     "data": {
      "text/plain": [
       "<AxesSubplot: xlabel='v0'>"
      ]
     },
     "execution_count": 4,
     "metadata": {},
     "output_type": "execute_result"
    },
    {
     "data": {
      "image/png": "[encoded data removed]",
      "text/plain": [
       "<Figure size 640x480 with 1 Axes>"
      ]
     },
     "metadata": {},
     "output_type": "display_data"
    }
   ],
   "source": [
    "df.causal.do(x={treatment: 1}, \n",
    "              variable_types={treatment:'b', outcome: 'c', common_cause: 'c'}, \n",
    "              outcome=outcome,\n",
    "              method='weighting', \n",
    "              common_causes=[common_cause],\n",
    "              proceed_when_unidentifiable=True).groupby(treatment).mean().plot(y=outcome, kind='bar')"
   ]
  },
  {
   "cell_type": "code",
   "execution_count": 5,
   "metadata": {
    "execution": {
     "iopub.execute_input": "2022-11-14T17:33:13.655514Z",
     "iopub.status.busy": "2022-11-14T17:33:13.654993Z",
     "iopub.status.idle": "2022-11-14T17:33:13.689023Z",
     "shell.execute_reply": "2022-11-14T17:33:13.688296Z"
    }
   },
   "outputs": [],
   "source": [
    "cdf_1 = df.causal.do(x={treatment: 1}, \n",
    "              variable_types={treatment: 'b', outcome: 'c', common_cause: 'c'}, \n",
    "              outcome=outcome, \n",
    "              dot_graph=data['dot_graph'],\n",
    "              proceed_when_unidentifiable=True)\n",
    "\n",
    "cdf_0 = df.causal.do(x={treatment: 0}, \n",
    "              variable_types={treatment: 'b', outcome: 'c', common_cause: 'c'}, \n",
    "              outcome=outcome, \n",
    "              dot_graph=data['dot_graph'],\n",
    "              proceed_when_unidentifiable=True)\n"
   ]
  },
  {
   "cell_type": "code",
   "execution_count": 6,
   "metadata": {
    "execution": {
     "iopub.execute_input": "2022-11-14T17:33:13.692924Z",
     "iopub.status.busy": "2022-11-14T17:33:13.692505Z",
     "iopub.status.idle": "2022-11-14T17:33:13.704798Z",
     "shell.execute_reply": "2022-11-14T17:33:13.704087Z"
    },
    "scrolled": true
   },
   "outputs": [
    {
     "data": {
      "text/html": [
       "<div>\n",
       "<style scoped>\n",
       "    .dataframe tbody tr th:only-of-type {\n",
       "        vertical-align: middle;\n",
       "    }\n",
       "\n",
       "    .dataframe tbody tr th {\n",
       "        vertical-align: top;\n",
       "    }\n",
       "\n",
       "    .dataframe thead th {\n",
       "        text-align: right;\n",
       "    }\n",
       "</style>\n",
       "<table border=\"1\" class=\"dataframe\">\n",
       "  <thead>\n",
       "    <tr style=\"text-align: right;\">\n",
       "      <th></th>\n",
       "      <th>W0</th>\n",
       "      <th>v0</th>\n",
       "      <th>y</th>\n",
       "      <th>propensity_score</th>\n",
       "      <th>weight</th>\n",
       "    </tr>\n",
       "  </thead>\n",
       "  <tbody>\n",
       "    <tr>\n",
       "      <th>0</th>\n",
       "      <td>0.320538</td>\n",
       "      <td>False</td>\n",
       "      <td>1.730849</td>\n",
       "      <td>0.411577</td>\n",
       "      <td>2.429678</td>\n",
       "    </tr>\n",
       "    <tr>\n",
       "      <th>1</th>\n",
       "      <td>-0.667775</td>\n",
       "      <td>False</td>\n",
       "      <td>-1.854502</td>\n",
       "      <td>0.637296</td>\n",
       "      <td>1.569130</td>\n",
       "    </tr>\n",
       "    <tr>\n",
       "      <th>2</th>\n",
       "      <td>1.100085</td>\n",
       "      <td>False</td>\n",
       "      <td>2.840350</td>\n",
       "      <td>0.252754</td>\n",
       "      <td>3.956420</td>\n",
       "    </tr>\n",
       "    <tr>\n",
       "      <th>3</th>\n",
       "      <td>1.694506</td>\n",
       "      <td>False</td>\n",
       "      <td>4.973412</td>\n",
       "      <td>0.162741</td>\n",
       "      <td>6.144730</td>\n",
       "    </tr>\n",
       "    <tr>\n",
       "      <th>4</th>\n",
       "      <td>0.164330</td>\n",
       "      <td>False</td>\n",
       "      <td>2.302419</td>\n",
       "      <td>0.447231</td>\n",
       "      <td>2.235982</td>\n",
       "    </tr>\n",
       "    <tr>\n",
       "      <th>...</th>\n",
       "      <td>...</td>\n",
       "      <td>...</td>\n",
       "      <td>...</td>\n",
       "      <td>...</td>\n",
       "      <td>...</td>\n",
       "    </tr>\n",
       "    <tr>\n",
       "      <th>995</th>\n",
       "      <td>0.492115</td>\n",
       "      <td>False</td>\n",
       "      <td>1.172215</td>\n",
       "      <td>0.373470</td>\n",
       "      <td>2.677589</td>\n",
       "    </tr>\n",
       "    <tr>\n",
       "      <th>996</th>\n",
       "      <td>1.959409</td>\n",
       "      <td>False</td>\n",
       "      <td>5.301127</td>\n",
       "      <td>0.131832</td>\n",
       "      <td>7.585432</td>\n",
       "    </tr>\n",
       "    <tr>\n",
       "      <th>997</th>\n",
       "      <td>0.238855</td>\n",
       "      <td>False</td>\n",
       "      <td>1.247627</td>\n",
       "      <td>0.430130</td>\n",
       "      <td>2.324880</td>\n",
       "    </tr>\n",
       "    <tr>\n",
       "      <th>998</th>\n",
       "      <td>-1.235162</td>\n",
       "      <td>False</td>\n",
       "      <td>-4.513237</td>\n",
       "      <td>0.748842</td>\n",
       "      <td>1.335395</td>\n",
       "    </tr>\n",
       "    <tr>\n",
       "      <th>999</th>\n",
       "      <td>1.517169</td>\n",
       "      <td>False</td>\n",
       "      <td>3.689315</td>\n",
       "      <td>0.186533</td>\n",
       "      <td>5.360978</td>\n",
       "    </tr>\n",
       "  </tbody>\n",
       "</table>\n",
       "<p>1000 rows × 5 columns</p>\n",
       "</div>"
      ],
      "text/plain": [
       "           W0     v0         y  propensity_score    weight\n",
       "0    0.320538  False  1.730849          0.411577  2.429678\n",
       "1   -0.667775  False -1.854502          0.637296  1.569130\n",
       "2    1.100085  False  2.840350          0.252754  3.956420\n",
       "3    1.694506  False  4.973412          0.162741  6.144730\n",
       "4    0.164330  False  2.302419          0.447231  2.235982\n",
       "..        ...    ...       ...               ...       ...\n",
       "995  0.492115  False  1.172215          0.373470  2.677589\n",
       "996  1.959409  False  5.301127          0.131832  7.585432\n",
       "997  0.238855  False  1.247627          0.430130  2.324880\n",
       "998 -1.235162  False -4.513237          0.748842  1.335395\n",
       "999  1.517169  False  3.689315          0.186533  5.360978\n",
       "\n",
       "[1000 rows x 5 columns]"
      ]
     },
     "execution_count": 6,
     "metadata": {},
     "output_type": "execute_result"
    }
   ],
   "source": [
    "cdf_0"
   ]
  },
  {
   "cell_type": "code",
   "execution_count": 7,
   "metadata": {
    "execution": {
     "iopub.execute_input": "2022-11-14T17:33:13.708017Z",
     "iopub.status.busy": "2022-11-14T17:33:13.707559Z",
     "iopub.status.idle": "2022-11-14T17:33:13.718144Z",
     "shell.execute_reply": "2022-11-14T17:33:13.717470Z"
    }
   },
   "outputs": [
    {
     "data": {
      "text/html": [
       "<div>\n",
       "<style scoped>\n",
       "    .dataframe tbody tr th:only-of-type {\n",
       "        vertical-align: middle;\n",
       "    }\n",
       "\n",
       "    .dataframe tbody tr th {\n",
       "        vertical-align: top;\n",
       "    }\n",
       "\n",
       "    .dataframe thead th {\n",
       "        text-align: right;\n",
       "    }\n",
       "</style>\n",
       "<table border=\"1\" class=\"dataframe\">\n",
       "  <thead>\n",
       "    <tr style=\"text-align: right;\">\n",
       "      <th></th>\n",
       "      <th>W0</th>\n",
       "      <th>v0</th>\n",
       "      <th>y</th>\n",
       "      <th>propensity_score</th>\n",
       "      <th>weight</th>\n",
       "    </tr>\n",
       "  </thead>\n",
       "  <tbody>\n",
       "    <tr>\n",
       "      <th>0</th>\n",
       "      <td>0.408195</td>\n",
       "      <td>True</td>\n",
       "      <td>7.635348</td>\n",
       "      <td>0.608055</td>\n",
       "      <td>1.644587</td>\n",
       "    </tr>\n",
       "    <tr>\n",
       "      <th>1</th>\n",
       "      <td>0.120814</td>\n",
       "      <td>True</td>\n",
       "      <td>4.158793</td>\n",
       "      <td>0.542723</td>\n",
       "      <td>1.842561</td>\n",
       "    </tr>\n",
       "    <tr>\n",
       "      <th>2</th>\n",
       "      <td>0.839406</td>\n",
       "      <td>True</td>\n",
       "      <td>8.148286</td>\n",
       "      <td>0.698682</td>\n",
       "      <td>1.431267</td>\n",
       "    </tr>\n",
       "    <tr>\n",
       "      <th>3</th>\n",
       "      <td>-1.326933</td>\n",
       "      <td>True</td>\n",
       "      <td>1.226598</td>\n",
       "      <td>0.235416</td>\n",
       "      <td>4.247792</td>\n",
       "    </tr>\n",
       "    <tr>\n",
       "      <th>4</th>\n",
       "      <td>1.085213</td>\n",
       "      <td>True</td>\n",
       "      <td>8.940591</td>\n",
       "      <td>0.744619</td>\n",
       "      <td>1.342968</td>\n",
       "    </tr>\n",
       "    <tr>\n",
       "      <th>...</th>\n",
       "      <td>...</td>\n",
       "      <td>...</td>\n",
       "      <td>...</td>\n",
       "      <td>...</td>\n",
       "      <td>...</td>\n",
       "    </tr>\n",
       "    <tr>\n",
       "      <th>995</th>\n",
       "      <td>0.808319</td>\n",
       "      <td>True</td>\n",
       "      <td>8.924909</td>\n",
       "      <td>0.692548</td>\n",
       "      <td>1.443944</td>\n",
       "    </tr>\n",
       "    <tr>\n",
       "      <th>996</th>\n",
       "      <td>0.359826</td>\n",
       "      <td>True</td>\n",
       "      <td>5.383857</td>\n",
       "      <td>0.597261</td>\n",
       "      <td>1.674310</td>\n",
       "    </tr>\n",
       "    <tr>\n",
       "      <th>997</th>\n",
       "      <td>-0.741361</td>\n",
       "      <td>True</td>\n",
       "      <td>2.133050</td>\n",
       "      <td>0.347005</td>\n",
       "      <td>2.881800</td>\n",
       "    </tr>\n",
       "    <tr>\n",
       "      <th>998</th>\n",
       "      <td>1.790282</td>\n",
       "      <td>True</td>\n",
       "      <td>10.254748</td>\n",
       "      <td>0.849058</td>\n",
       "      <td>1.177775</td>\n",
       "    </tr>\n",
       "    <tr>\n",
       "      <th>999</th>\n",
       "      <td>1.543949</td>\n",
       "      <td>True</td>\n",
       "      <td>9.990430</td>\n",
       "      <td>0.817225</td>\n",
       "      <td>1.223654</td>\n",
       "    </tr>\n",
       "  </tbody>\n",
       "</table>\n",
       "<p>1000 rows × 5 columns</p>\n",
       "</div>"
      ],
      "text/plain": [
       "           W0    v0          y  propensity_score    weight\n",
       "0    0.408195  True   7.635348          0.608055  1.644587\n",
       "1    0.120814  True   4.158793          0.542723  1.842561\n",
       "2    0.839406  True   8.148286          0.698682  1.431267\n",
       "3   -1.326933  True   1.226598          0.235416  4.247792\n",
       "4    1.085213  True   8.940591          0.744619  1.342968\n",
       "..        ...   ...        ...               ...       ...\n",
       "995  0.808319  True   8.924909          0.692548  1.443944\n",
       "996  0.359826  True   5.383857          0.597261  1.674310\n",
       "997 -0.741361  True   2.133050          0.347005  2.881800\n",
       "998  1.790282  True  10.254748          0.849058  1.177775\n",
       "999  1.543949  True   9.990430          0.817225  1.223654\n",
       "\n",
       "[1000 rows x 5 columns]"
      ]
     },
     "execution_count": 7,
     "metadata": {},
     "output_type": "execute_result"
    }
   ],
   "source": [
    "cdf_1"
   ]
  },
  {
   "cell_type": "markdown",
   "metadata": {},
   "source": [
    "## Comparing the estimate to Linear Regression\n",
    "First, estimating the effect using the causal data frame, and the 95% confidence interval."
   ]
  },
  {
   "cell_type": "code",
   "execution_count": 8,
   "metadata": {
    "execution": {
     "iopub.execute_input": "2022-11-14T17:33:13.722291Z",
     "iopub.status.busy": "2022-11-14T17:33:13.721651Z",
     "iopub.status.idle": "2022-11-14T17:33:13.780955Z",
     "shell.execute_reply": "2022-11-14T17:33:13.780153Z"
    }
   },
   "outputs": [
    {
     "data": {
      "image/png": "[encoded data removed]",
      "text/latex": [
       "$\\displaystyle 4.87236136985834$"
      ],
      "text/plain": [
       "4.872361369858338"
      ]
     },
     "execution_count": 8,
     "metadata": {},
     "output_type": "execute_result"
    }
   ],
   "source": [
    "(cdf_1['y'] - cdf_0['y']).mean()"
   ]
  },
  {
   "cell_type": "code",
   "execution_count": 9,
   "metadata": {
    "execution": {
     "iopub.execute_input": "2022-11-14T17:33:13.785175Z",
     "iopub.status.busy": "2022-11-14T17:33:13.784576Z",
     "iopub.status.idle": "2022-11-14T17:33:13.806555Z",
     "shell.execute_reply": "2022-11-14T17:33:13.805770Z"
    }
   },
   "outputs": [
    {
     "data": {
      "image/png": "[encoded data removed]",
      "text/latex": [
       "$\\displaystyle 0.263187598502121$"
      ],
      "text/plain": [
       "0.2631875985021211"
      ]
     },
     "execution_count": 9,
     "metadata": {},
     "output_type": "execute_result"
    }
   ],
   "source": [
    "1.96*(cdf_1['y'] - cdf_0['y']).std() / np.sqrt(len(df))"
   ]
  },
  {
   "cell_type": "markdown",
   "metadata": {},
   "source": [
    "Comparing to the estimate from OLS."
   ]
  },
  {
   "cell_type": "code",
   "execution_count": 10,
   "metadata": {
    "execution": {
     "iopub.execute_input": "2022-11-14T17:33:13.810872Z",
     "iopub.status.busy": "2022-11-14T17:33:13.810477Z",
     "iopub.status.idle": "2022-11-14T17:33:13.827874Z",
     "shell.execute_reply": "2022-11-14T17:33:13.827161Z"
    }
   },
   "outputs": [
    {
     "data": {
      "text/html": [
       "<table class=\"simpletable\">\n",
       "<caption>OLS Regression Results</caption>\n",
       "<tr>\n",
       "  <th>Dep. Variable:</th>            <td>y</td>        <th>  R-squared (uncentered):</th>      <td>   0.975</td> \n",
       "</tr>\n",
       "<tr>\n",
       "  <th>Model:</th>                   <td>OLS</td>       <th>  Adj. R-squared (uncentered):</th> <td>   0.975</td> \n",
       "</tr>\n",
       "<tr>\n",
       "  <th>Method:</th>             <td>Least Squares</td>  <th>  F-statistic:       </th>          <td>1.928e+04</td>\n",
       "</tr>\n",
       "<tr>\n",
       "  <th>Date:</th>             <td>Mon, 14 Nov 2022</td> <th>  Prob (F-statistic):</th>           <td>  0.00</td>  \n",
       "</tr>\n",
       "<tr>\n",
       "  <th>Time:</th>                 <td>17:33:13</td>     <th>  Log-Likelihood:    </th>          <td> -1400.7</td> \n",
       "</tr>\n",
       "<tr>\n",
       "  <th>No. Observations:</th>      <td>  1000</td>      <th>  AIC:               </th>          <td>   2805.</td> \n",
       "</tr>\n",
       "<tr>\n",
       "  <th>Df Residuals:</th>          <td>   998</td>      <th>  BIC:               </th>          <td>   2815.</td> \n",
       "</tr>\n",
       "<tr>\n",
       "  <th>Df Model:</th>              <td>     2</td>      <th>                     </th>              <td> </td>    \n",
       "</tr>\n",
       "<tr>\n",
       "  <th>Covariance Type:</th>      <td>nonrobust</td>    <th>                     </th>              <td> </td>    \n",
       "</tr>\n",
       "</table>\n",
       "<table class=\"simpletable\">\n",
       "<tr>\n",
       "   <td></td>     <th>coef</th>     <th>std err</th>      <th>t</th>      <th>P>|t|</th>  <th>[0.025</th>    <th>0.975]</th>  \n",
       "</tr>\n",
       "<tr>\n",
       "  <th>x1</th> <td>    2.9734</td> <td>    0.034</td> <td>   87.935</td> <td> 0.000</td> <td>    2.907</td> <td>    3.040</td>\n",
       "</tr>\n",
       "<tr>\n",
       "  <th>x2</th> <td>    4.9619</td> <td>    0.047</td> <td>  104.885</td> <td> 0.000</td> <td>    4.869</td> <td>    5.055</td>\n",
       "</tr>\n",
       "</table>\n",
       "<table class=\"simpletable\">\n",
       "<tr>\n",
       "  <th>Omnibus:</th>       <td> 0.564</td> <th>  Durbin-Watson:     </th> <td>   1.945</td>\n",
       "</tr>\n",
       "<tr>\n",
       "  <th>Prob(Omnibus):</th> <td> 0.754</td> <th>  Jarque-Bera (JB):  </th> <td>   0.586</td>\n",
       "</tr>\n",
       "<tr>\n",
       "  <th>Skew:</th>          <td>-0.057</td> <th>  Prob(JB):          </th> <td>   0.746</td>\n",
       "</tr>\n",
       "<tr>\n",
       "  <th>Kurtosis:</th>      <td> 2.971</td> <th>  Cond. No.          </th> <td>    1.96</td>\n",
       "</tr>\n",
       "</table><br/><br/>Notes:<br/>[1] R² is computed without centering (uncentered) since the model does not contain a constant.<br/>[2] Standard Errors assume that the covariance matrix of the errors is correctly specified."
      ],
      "text/plain": [
       "<class 'statsmodels.iolib.summary.Summary'>\n",
       "\"\"\"\n",
       "                                 OLS Regression Results                                \n",
       "=======================================================================================\n",
       "Dep. Variable:                      y   R-squared (uncentered):                   0.975\n",
       "Model:                            OLS   Adj. R-squared (uncentered):              0.975\n",
       "Method:                 Least Squares   F-statistic:                          1.928e+04\n",
       "Date:                Mon, 14 Nov 2022   Prob (F-statistic):                        0.00\n",
       "Time:                        17:33:13   Log-Likelihood:                         -1400.7\n",
       "No. Observations:                1000   AIC:                                      2805.\n",
       "Df Residuals:                     998   BIC:                                      2815.\n",
       "Df Model:                           2                                                  \n",
       "Covariance Type:            nonrobust                                                  \n",
       "==============================================================================\n",
       "                 coef    std err          t      P>|t|      [0.025      0.975]\n",
       "------------------------------------------------------------------------------\n",
       "x1             2.9734      0.034     87.935      0.000       2.907       3.040\n",
       "x2             4.9619      0.047    104.885      0.000       4.869       5.055\n",
       "==============================================================================\n",
       "Omnibus:                        0.564   Durbin-Watson:                   1.945\n",
       "Prob(Omnibus):                  0.754   Jarque-Bera (JB):                0.586\n",
       "Skew:                          -0.057   Prob(JB):                        0.746\n",
       "Kurtosis:                       2.971   Cond. No.                         1.96\n",
       "==============================================================================\n",
       "\n",
       "Notes:\n",
       "[1] R² is computed without centering (uncentered) since the model does not contain a constant.\n",
       "[2] Standard Errors assume that the covariance matrix of the errors is correctly specified.\n",
       "\"\"\""
      ]
     },
     "execution_count": 10,
     "metadata": {},
     "output_type": "execute_result"
    }
   ],
   "source": [
    "model = OLS(np.asarray(df[outcome]), np.asarray(df[[common_cause, treatment]], dtype=np.float64))\n",
    "result = model.fit()\n",
    "result.summary()"
   ]
  }
 ],
 "metadata": {
  "kernelspec": {
   "display_name": "Python 3",
   "language": "python",
   "name": "python3"
  },
  "language_info": {
   "codemirror_mode": {
    "name": "ipython",
    "version": 3
   },
   "file_extension": ".py",
   "mimetype": "text/x-python",
   "name": "python",
   "nbconvert_exporter": "python",
   "pygments_lexer": "ipython3",
   "version": "3.8.10"
  },
  "toc": {
   "base_numbering": 1,
   "nav_menu": {},
   "number_sections": false,
   "sideBar": true,
   "skip_h1_title": true,
   "title_cell": "Table of Contents",
   "title_sidebar": "Contents",
   "toc_cell": false,
   "toc_position": {},
   "toc_section_display": true,
   "toc_window_display": false
  }
 },
 "nbformat": 4,
 "nbformat_minor": 4
}
