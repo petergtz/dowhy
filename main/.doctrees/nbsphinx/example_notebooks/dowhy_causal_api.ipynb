{
 "cells": [
  {
   "cell_type": "markdown",
   "metadata": {},
   "source": [
    "# Demo for the DoWhy causal API\n",
    "We show a simple example of adding a causal extension to any dataframe. "
   ]
  },
  {
   "cell_type": "code",
   "execution_count": 1,
   "metadata": {
    "execution": {
     "iopub.execute_input": "2022-09-05T18:55:53.826976Z",
     "iopub.status.busy": "2022-09-05T18:55:53.826265Z",
     "iopub.status.idle": "2022-09-05T18:55:55.221439Z",
     "shell.execute_reply": "2022-09-05T18:55:55.220189Z"
    }
   },
   "outputs": [],
   "source": [
    "import dowhy.datasets\n",
    "import dowhy.api\n",
    "\n",
    "import numpy as np\n",
    "import pandas as pd\n",
    "\n",
    "from statsmodels.api import OLS"
   ]
  },
  {
   "cell_type": "code",
   "execution_count": 2,
   "metadata": {
    "execution": {
     "iopub.execute_input": "2022-09-05T18:55:55.226810Z",
     "iopub.status.busy": "2022-09-05T18:55:55.226373Z",
     "iopub.status.idle": "2022-09-05T18:55:55.279612Z",
     "shell.execute_reply": "2022-09-05T18:55:55.278808Z"
    }
   },
   "outputs": [
    {
     "data": {
      "text/html": [
       "<div>\n",
       "<style scoped>\n",
       "    .dataframe tbody tr th:only-of-type {\n",
       "        vertical-align: middle;\n",
       "    }\n",
       "\n",
       "    .dataframe tbody tr th {\n",
       "        vertical-align: top;\n",
       "    }\n",
       "\n",
       "    .dataframe thead th {\n",
       "        text-align: right;\n",
       "    }\n",
       "</style>\n",
       "<table border=\"1\" class=\"dataframe\">\n",
       "  <thead>\n",
       "    <tr style=\"text-align: right;\">\n",
       "      <th></th>\n",
       "      <th>W0</th>\n",
       "      <th>v0</th>\n",
       "      <th>y</th>\n",
       "    </tr>\n",
       "  </thead>\n",
       "  <tbody>\n",
       "    <tr>\n",
       "      <th>0</th>\n",
       "      <td>-1.559117</td>\n",
       "      <td>False</td>\n",
       "      <td>-4.947211</td>\n",
       "    </tr>\n",
       "    <tr>\n",
       "      <th>1</th>\n",
       "      <td>-1.097597</td>\n",
       "      <td>False</td>\n",
       "      <td>-3.652108</td>\n",
       "    </tr>\n",
       "    <tr>\n",
       "      <th>2</th>\n",
       "      <td>0.281786</td>\n",
       "      <td>True</td>\n",
       "      <td>4.491823</td>\n",
       "    </tr>\n",
       "    <tr>\n",
       "      <th>3</th>\n",
       "      <td>-1.779724</td>\n",
       "      <td>False</td>\n",
       "      <td>-4.532002</td>\n",
       "    </tr>\n",
       "    <tr>\n",
       "      <th>4</th>\n",
       "      <td>0.553455</td>\n",
       "      <td>True</td>\n",
       "      <td>7.630840</td>\n",
       "    </tr>\n",
       "    <tr>\n",
       "      <th>...</th>\n",
       "      <td>...</td>\n",
       "      <td>...</td>\n",
       "      <td>...</td>\n",
       "    </tr>\n",
       "    <tr>\n",
       "      <th>995</th>\n",
       "      <td>-0.792842</td>\n",
       "      <td>False</td>\n",
       "      <td>-2.925580</td>\n",
       "    </tr>\n",
       "    <tr>\n",
       "      <th>996</th>\n",
       "      <td>-1.512340</td>\n",
       "      <td>False</td>\n",
       "      <td>-5.416895</td>\n",
       "    </tr>\n",
       "    <tr>\n",
       "      <th>997</th>\n",
       "      <td>-2.787478</td>\n",
       "      <td>False</td>\n",
       "      <td>-6.956076</td>\n",
       "    </tr>\n",
       "    <tr>\n",
       "      <th>998</th>\n",
       "      <td>-1.178318</td>\n",
       "      <td>False</td>\n",
       "      <td>-4.332932</td>\n",
       "    </tr>\n",
       "    <tr>\n",
       "      <th>999</th>\n",
       "      <td>-1.032524</td>\n",
       "      <td>True</td>\n",
       "      <td>3.536892</td>\n",
       "    </tr>\n",
       "  </tbody>\n",
       "</table>\n",
       "<p>1000 rows × 3 columns</p>\n",
       "</div>"
      ],
      "text/plain": [
       "           W0     v0         y\n",
       "0   -1.559117  False -4.947211\n",
       "1   -1.097597  False -3.652108\n",
       "2    0.281786   True  4.491823\n",
       "3   -1.779724  False -4.532002\n",
       "4    0.553455   True  7.630840\n",
       "..        ...    ...       ...\n",
       "995 -0.792842  False -2.925580\n",
       "996 -1.512340  False -5.416895\n",
       "997 -2.787478  False -6.956076\n",
       "998 -1.178318  False -4.332932\n",
       "999 -1.032524   True  3.536892\n",
       "\n",
       "[1000 rows x 3 columns]"
      ]
     },
     "execution_count": 2,
     "metadata": {},
     "output_type": "execute_result"
    }
   ],
   "source": [
    "data = dowhy.datasets.linear_dataset(beta=5,\n",
    "        num_common_causes=1,\n",
    "        num_instruments = 0,\n",
    "        num_samples=1000,\n",
    "        treatment_is_binary=True)\n",
    "df = data['df']\n",
    "df['y'] = df['y'] + np.random.normal(size=len(df)) # Adding noise to data. Without noise, the variance in Y|X, Z is zero, and mcmc fails.\n",
    "#data['dot_graph'] = 'digraph { v ->y;X0-> v;X0-> y;}'\n",
    "\n",
    "treatment= data[\"treatment_name\"][0]\n",
    "outcome = data[\"outcome_name\"][0]\n",
    "common_cause = data[\"common_causes_names\"][0]\n",
    "df"
   ]
  },
  {
   "cell_type": "code",
   "execution_count": 3,
   "metadata": {
    "execution": {
     "iopub.execute_input": "2022-09-05T18:55:55.283849Z",
     "iopub.status.busy": "2022-09-05T18:55:55.283237Z",
     "iopub.status.idle": "2022-09-05T18:55:56.187111Z",
     "shell.execute_reply": "2022-09-05T18:55:56.186448Z"
    }
   },
   "outputs": [
    {
     "data": {
      "text/plain": [
       "<AxesSubplot:xlabel='v0'>"
      ]
     },
     "execution_count": 3,
     "metadata": {},
     "output_type": "execute_result"
    },
    {
     "data": {
      "image/png": "[encoded data removed]",
      "text/plain": [
       "<Figure size 640x480 with 1 Axes>"
      ]
     },
     "metadata": {},
     "output_type": "display_data"
    }
   ],
   "source": [
    "# data['df'] is just a regular pandas.DataFrame\n",
    "df.causal.do(x=treatment,\n",
    "                     variable_types={treatment: 'b', outcome: 'c', common_cause: 'c'},\n",
    "                     outcome=outcome,\n",
    "                     common_causes=[common_cause],\n",
    "                     proceed_when_unidentifiable=True).groupby(treatment).mean().plot(y=outcome, kind='bar')"
   ]
  },
  {
   "cell_type": "code",
   "execution_count": 4,
   "metadata": {
    "execution": {
     "iopub.execute_input": "2022-09-05T18:55:56.191121Z",
     "iopub.status.busy": "2022-09-05T18:55:56.190454Z",
     "iopub.status.idle": "2022-09-05T18:55:56.314522Z",
     "shell.execute_reply": "2022-09-05T18:55:56.313755Z"
    }
   },
   "outputs": [
    {
     "data": {
      "text/plain": [
       "<AxesSubplot:xlabel='v0'>"
      ]
     },
     "execution_count": 4,
     "metadata": {},
     "output_type": "execute_result"
    },
    {
     "data": {
      "image/png": "[encoded data removed]",
      "text/plain": [
       "<Figure size 640x480 with 1 Axes>"
      ]
     },
     "metadata": {},
     "output_type": "display_data"
    }
   ],
   "source": [
    "df.causal.do(x={treatment: 1}, \n",
    "              variable_types={treatment:'b', outcome: 'c', common_cause: 'c'}, \n",
    "              outcome=outcome,\n",
    "              method='weighting', \n",
    "              common_causes=[common_cause],\n",
    "              proceed_when_unidentifiable=True).groupby(treatment).mean().plot(y=outcome, kind='bar')"
   ]
  },
  {
   "cell_type": "code",
   "execution_count": 5,
   "metadata": {
    "execution": {
     "iopub.execute_input": "2022-09-05T18:55:56.318204Z",
     "iopub.status.busy": "2022-09-05T18:55:56.317680Z",
     "iopub.status.idle": "2022-09-05T18:55:56.353935Z",
     "shell.execute_reply": "2022-09-05T18:55:56.353051Z"
    }
   },
   "outputs": [],
   "source": [
    "cdf_1 = df.causal.do(x={treatment: 1}, \n",
    "              variable_types={treatment: 'b', outcome: 'c', common_cause: 'c'}, \n",
    "              outcome=outcome, \n",
    "              dot_graph=data['dot_graph'],\n",
    "              proceed_when_unidentifiable=True)\n",
    "\n",
    "cdf_0 = df.causal.do(x={treatment: 0}, \n",
    "              variable_types={treatment: 'b', outcome: 'c', common_cause: 'c'}, \n",
    "              outcome=outcome, \n",
    "              dot_graph=data['dot_graph'],\n",
    "              proceed_when_unidentifiable=True)\n"
   ]
  },
  {
   "cell_type": "code",
   "execution_count": 6,
   "metadata": {
    "execution": {
     "iopub.execute_input": "2022-09-05T18:55:56.357953Z",
     "iopub.status.busy": "2022-09-05T18:55:56.357165Z",
     "iopub.status.idle": "2022-09-05T18:55:56.369049Z",
     "shell.execute_reply": "2022-09-05T18:55:56.368444Z"
    },
    "scrolled": true
   },
   "outputs": [
    {
     "data": {
      "text/html": [
       "<div>\n",
       "<style scoped>\n",
       "    .dataframe tbody tr th:only-of-type {\n",
       "        vertical-align: middle;\n",
       "    }\n",
       "\n",
       "    .dataframe tbody tr th {\n",
       "        vertical-align: top;\n",
       "    }\n",
       "\n",
       "    .dataframe thead th {\n",
       "        text-align: right;\n",
       "    }\n",
       "</style>\n",
       "<table border=\"1\" class=\"dataframe\">\n",
       "  <thead>\n",
       "    <tr style=\"text-align: right;\">\n",
       "      <th></th>\n",
       "      <th>W0</th>\n",
       "      <th>v0</th>\n",
       "      <th>y</th>\n",
       "      <th>propensity_score</th>\n",
       "      <th>weight</th>\n",
       "    </tr>\n",
       "  </thead>\n",
       "  <tbody>\n",
       "    <tr>\n",
       "      <th>0</th>\n",
       "      <td>-1.108705</td>\n",
       "      <td>False</td>\n",
       "      <td>-4.504503</td>\n",
       "      <td>0.722942</td>\n",
       "      <td>1.383237</td>\n",
       "    </tr>\n",
       "    <tr>\n",
       "      <th>1</th>\n",
       "      <td>-0.767562</td>\n",
       "      <td>False</td>\n",
       "      <td>-3.118559</td>\n",
       "      <td>0.650111</td>\n",
       "      <td>1.538198</td>\n",
       "    </tr>\n",
       "    <tr>\n",
       "      <th>2</th>\n",
       "      <td>1.020640</td>\n",
       "      <td>False</td>\n",
       "      <td>3.904776</td>\n",
       "      <td>0.238585</td>\n",
       "      <td>4.191372</td>\n",
       "    </tr>\n",
       "    <tr>\n",
       "      <th>3</th>\n",
       "      <td>-1.288116</td>\n",
       "      <td>False</td>\n",
       "      <td>-5.489351</td>\n",
       "      <td>0.757255</td>\n",
       "      <td>1.320559</td>\n",
       "    </tr>\n",
       "    <tr>\n",
       "      <th>4</th>\n",
       "      <td>-3.379873</td>\n",
       "      <td>False</td>\n",
       "      <td>-9.860514</td>\n",
       "      <td>0.961574</td>\n",
       "      <td>1.039962</td>\n",
       "    </tr>\n",
       "    <tr>\n",
       "      <th>...</th>\n",
       "      <td>...</td>\n",
       "      <td>...</td>\n",
       "      <td>...</td>\n",
       "      <td>...</td>\n",
       "      <td>...</td>\n",
       "    </tr>\n",
       "    <tr>\n",
       "      <th>995</th>\n",
       "      <td>0.467256</td>\n",
       "      <td>False</td>\n",
       "      <td>-1.350665</td>\n",
       "      <td>0.352148</td>\n",
       "      <td>2.839716</td>\n",
       "    </tr>\n",
       "    <tr>\n",
       "      <th>996</th>\n",
       "      <td>-0.767562</td>\n",
       "      <td>False</td>\n",
       "      <td>-3.118559</td>\n",
       "      <td>0.650111</td>\n",
       "      <td>1.538198</td>\n",
       "    </tr>\n",
       "    <tr>\n",
       "      <th>997</th>\n",
       "      <td>0.521243</td>\n",
       "      <td>False</td>\n",
       "      <td>3.161459</td>\n",
       "      <td>0.339987</td>\n",
       "      <td>2.941286</td>\n",
       "    </tr>\n",
       "    <tr>\n",
       "      <th>998</th>\n",
       "      <td>1.310790</td>\n",
       "      <td>False</td>\n",
       "      <td>2.355850</td>\n",
       "      <td>0.190115</td>\n",
       "      <td>5.259986</td>\n",
       "    </tr>\n",
       "    <tr>\n",
       "      <th>999</th>\n",
       "      <td>-2.045443</td>\n",
       "      <td>False</td>\n",
       "      <td>-5.949393</td>\n",
       "      <td>0.868930</td>\n",
       "      <td>1.150841</td>\n",
       "    </tr>\n",
       "  </tbody>\n",
       "</table>\n",
       "<p>1000 rows × 5 columns</p>\n",
       "</div>"
      ],
      "text/plain": [
       "           W0     v0         y  propensity_score    weight\n",
       "0   -1.108705  False -4.504503          0.722942  1.383237\n",
       "1   -0.767562  False -3.118559          0.650111  1.538198\n",
       "2    1.020640  False  3.904776          0.238585  4.191372\n",
       "3   -1.288116  False -5.489351          0.757255  1.320559\n",
       "4   -3.379873  False -9.860514          0.961574  1.039962\n",
       "..        ...    ...       ...               ...       ...\n",
       "995  0.467256  False -1.350665          0.352148  2.839716\n",
       "996 -0.767562  False -3.118559          0.650111  1.538198\n",
       "997  0.521243  False  3.161459          0.339987  2.941286\n",
       "998  1.310790  False  2.355850          0.190115  5.259986\n",
       "999 -2.045443  False -5.949393          0.868930  1.150841\n",
       "\n",
       "[1000 rows x 5 columns]"
      ]
     },
     "execution_count": 6,
     "metadata": {},
     "output_type": "execute_result"
    }
   ],
   "source": [
    "cdf_0"
   ]
  },
  {
   "cell_type": "code",
   "execution_count": 7,
   "metadata": {
    "execution": {
     "iopub.execute_input": "2022-09-05T18:55:56.372510Z",
     "iopub.status.busy": "2022-09-05T18:55:56.372098Z",
     "iopub.status.idle": "2022-09-05T18:55:56.385825Z",
     "shell.execute_reply": "2022-09-05T18:55:56.385173Z"
    }
   },
   "outputs": [
    {
     "data": {
      "text/html": [
       "<div>\n",
       "<style scoped>\n",
       "    .dataframe tbody tr th:only-of-type {\n",
       "        vertical-align: middle;\n",
       "    }\n",
       "\n",
       "    .dataframe tbody tr th {\n",
       "        vertical-align: top;\n",
       "    }\n",
       "\n",
       "    .dataframe thead th {\n",
       "        text-align: right;\n",
       "    }\n",
       "</style>\n",
       "<table border=\"1\" class=\"dataframe\">\n",
       "  <thead>\n",
       "    <tr style=\"text-align: right;\">\n",
       "      <th></th>\n",
       "      <th>W0</th>\n",
       "      <th>v0</th>\n",
       "      <th>y</th>\n",
       "      <th>propensity_score</th>\n",
       "      <th>weight</th>\n",
       "    </tr>\n",
       "  </thead>\n",
       "  <tbody>\n",
       "    <tr>\n",
       "      <th>0</th>\n",
       "      <td>-0.487016</td>\n",
       "      <td>True</td>\n",
       "      <td>4.027125</td>\n",
       "      <td>0.415743</td>\n",
       "      <td>2.405330</td>\n",
       "    </tr>\n",
       "    <tr>\n",
       "      <th>1</th>\n",
       "      <td>-1.798656</td>\n",
       "      <td>True</td>\n",
       "      <td>-1.793601</td>\n",
       "      <td>0.161667</td>\n",
       "      <td>6.185571</td>\n",
       "    </tr>\n",
       "    <tr>\n",
       "      <th>2</th>\n",
       "      <td>-0.362503</td>\n",
       "      <td>True</td>\n",
       "      <td>4.791171</td>\n",
       "      <td>0.446127</td>\n",
       "      <td>2.241514</td>\n",
       "    </tr>\n",
       "    <tr>\n",
       "      <th>3</th>\n",
       "      <td>-0.263394</td>\n",
       "      <td>True</td>\n",
       "      <td>4.304625</td>\n",
       "      <td>0.470614</td>\n",
       "      <td>2.124882</td>\n",
       "    </tr>\n",
       "    <tr>\n",
       "      <th>4</th>\n",
       "      <td>-1.585595</td>\n",
       "      <td>True</td>\n",
       "      <td>-0.113548</td>\n",
       "      <td>0.192508</td>\n",
       "      <td>5.194602</td>\n",
       "    </tr>\n",
       "    <tr>\n",
       "      <th>...</th>\n",
       "      <td>...</td>\n",
       "      <td>...</td>\n",
       "      <td>...</td>\n",
       "      <td>...</td>\n",
       "      <td>...</td>\n",
       "    </tr>\n",
       "    <tr>\n",
       "      <th>995</th>\n",
       "      <td>-0.835189</td>\n",
       "      <td>True</td>\n",
       "      <td>2.038454</td>\n",
       "      <td>0.334736</td>\n",
       "      <td>2.987432</td>\n",
       "    </tr>\n",
       "    <tr>\n",
       "      <th>996</th>\n",
       "      <td>-0.061586</td>\n",
       "      <td>True</td>\n",
       "      <td>3.100156</td>\n",
       "      <td>0.520788</td>\n",
       "      <td>1.920166</td>\n",
       "    </tr>\n",
       "    <tr>\n",
       "      <th>997</th>\n",
       "      <td>-0.917817</td>\n",
       "      <td>True</td>\n",
       "      <td>1.727651</td>\n",
       "      <td>0.316675</td>\n",
       "      <td>3.157807</td>\n",
       "    </tr>\n",
       "    <tr>\n",
       "      <th>998</th>\n",
       "      <td>-0.191045</td>\n",
       "      <td>True</td>\n",
       "      <td>4.742772</td>\n",
       "      <td>0.488587</td>\n",
       "      <td>2.046720</td>\n",
       "    </tr>\n",
       "    <tr>\n",
       "      <th>999</th>\n",
       "      <td>-0.274968</td>\n",
       "      <td>True</td>\n",
       "      <td>5.270227</td>\n",
       "      <td>0.467745</td>\n",
       "      <td>2.137917</td>\n",
       "    </tr>\n",
       "  </tbody>\n",
       "</table>\n",
       "<p>1000 rows × 5 columns</p>\n",
       "</div>"
      ],
      "text/plain": [
       "           W0    v0         y  propensity_score    weight\n",
       "0   -0.487016  True  4.027125          0.415743  2.405330\n",
       "1   -1.798656  True -1.793601          0.161667  6.185571\n",
       "2   -0.362503  True  4.791171          0.446127  2.241514\n",
       "3   -0.263394  True  4.304625          0.470614  2.124882\n",
       "4   -1.585595  True -0.113548          0.192508  5.194602\n",
       "..        ...   ...       ...               ...       ...\n",
       "995 -0.835189  True  2.038454          0.334736  2.987432\n",
       "996 -0.061586  True  3.100156          0.520788  1.920166\n",
       "997 -0.917817  True  1.727651          0.316675  3.157807\n",
       "998 -0.191045  True  4.742772          0.488587  2.046720\n",
       "999 -0.274968  True  5.270227          0.467745  2.137917\n",
       "\n",
       "[1000 rows x 5 columns]"
      ]
     },
     "execution_count": 7,
     "metadata": {},
     "output_type": "execute_result"
    }
   ],
   "source": [
    "cdf_1"
   ]
  },
  {
   "cell_type": "markdown",
   "metadata": {},
   "source": [
    "## Comparing the estimate to Linear Regression\n",
    "First, estimating the effect using the causal data frame, and the 95% confidence interval."
   ]
  },
  {
   "cell_type": "code",
   "execution_count": 8,
   "metadata": {
    "execution": {
     "iopub.execute_input": "2022-09-05T18:55:56.389712Z",
     "iopub.status.busy": "2022-09-05T18:55:56.389129Z",
     "iopub.status.idle": "2022-09-05T18:55:56.509014Z",
     "shell.execute_reply": "2022-09-05T18:55:56.508104Z"
    }
   },
   "outputs": [
    {
     "data": {
      "image/png": "[encoded data removed]",
      "text/latex": [
       "$\\displaystyle 4.9042136337344$"
      ],
      "text/plain": [
       "4.9042136337344"
      ]
     },
     "execution_count": 8,
     "metadata": {},
     "output_type": "execute_result"
    }
   ],
   "source": [
    "(cdf_1['y'] - cdf_0['y']).mean()"
   ]
  },
  {
   "cell_type": "code",
   "execution_count": 9,
   "metadata": {
    "execution": {
     "iopub.execute_input": "2022-09-05T18:55:56.514551Z",
     "iopub.status.busy": "2022-09-05T18:55:56.512849Z",
     "iopub.status.idle": "2022-09-05T18:55:56.545942Z",
     "shell.execute_reply": "2022-09-05T18:55:56.545049Z"
    }
   },
   "outputs": [
    {
     "data": {
      "image/png": "[encoded data removed]",
      "text/latex": [
       "$\\displaystyle 0.267575034848372$"
      ],
      "text/plain": [
       "0.26757503484837203"
      ]
     },
     "execution_count": 9,
     "metadata": {},
     "output_type": "execute_result"
    }
   ],
   "source": [
    "1.96*(cdf_1['y'] - cdf_0['y']).std() / np.sqrt(len(df))"
   ]
  },
  {
   "cell_type": "markdown",
   "metadata": {},
   "source": [
    "Comparing to the estimate from OLS."
   ]
  },
  {
   "cell_type": "code",
   "execution_count": 10,
   "metadata": {
    "execution": {
     "iopub.execute_input": "2022-09-05T18:55:56.550395Z",
     "iopub.status.busy": "2022-09-05T18:55:56.549950Z",
     "iopub.status.idle": "2022-09-05T18:55:56.572636Z",
     "shell.execute_reply": "2022-09-05T18:55:56.571943Z"
    }
   },
   "outputs": [
    {
     "data": {
      "text/html": [
       "<table class=\"simpletable\">\n",
       "<caption>OLS Regression Results</caption>\n",
       "<tr>\n",
       "  <th>Dep. Variable:</th>            <td>y</td>        <th>  R-squared (uncentered):</th>      <td>   0.952</td>\n",
       "</tr>\n",
       "<tr>\n",
       "  <th>Model:</th>                   <td>OLS</td>       <th>  Adj. R-squared (uncentered):</th> <td>   0.952</td>\n",
       "</tr>\n",
       "<tr>\n",
       "  <th>Method:</th>             <td>Least Squares</td>  <th>  F-statistic:       </th>          <td>   9900.</td>\n",
       "</tr>\n",
       "<tr>\n",
       "  <th>Date:</th>             <td>Mon, 05 Sep 2022</td> <th>  Prob (F-statistic):</th>           <td>  0.00</td> \n",
       "</tr>\n",
       "<tr>\n",
       "  <th>Time:</th>                 <td>18:55:56</td>     <th>  Log-Likelihood:    </th>          <td> -1425.8</td>\n",
       "</tr>\n",
       "<tr>\n",
       "  <th>No. Observations:</th>      <td>  1000</td>      <th>  AIC:               </th>          <td>   2856.</td>\n",
       "</tr>\n",
       "<tr>\n",
       "  <th>Df Residuals:</th>          <td>   998</td>      <th>  BIC:               </th>          <td>   2865.</td>\n",
       "</tr>\n",
       "<tr>\n",
       "  <th>Df Model:</th>              <td>     2</td>      <th>                     </th>              <td> </td>   \n",
       "</tr>\n",
       "<tr>\n",
       "  <th>Covariance Type:</th>      <td>nonrobust</td>    <th>                     </th>              <td> </td>   \n",
       "</tr>\n",
       "</table>\n",
       "<table class=\"simpletable\">\n",
       "<tr>\n",
       "   <td></td>     <th>coef</th>     <th>std err</th>      <th>t</th>      <th>P>|t|</th>  <th>[0.025</th>    <th>0.975]</th>  \n",
       "</tr>\n",
       "<tr>\n",
       "  <th>x1</th> <td>    2.9493</td> <td>    0.025</td> <td>  119.839</td> <td> 0.000</td> <td>    2.901</td> <td>    2.998</td>\n",
       "</tr>\n",
       "<tr>\n",
       "  <th>x2</th> <td>    4.9637</td> <td>    0.054</td> <td>   91.525</td> <td> 0.000</td> <td>    4.857</td> <td>    5.070</td>\n",
       "</tr>\n",
       "</table>\n",
       "<table class=\"simpletable\">\n",
       "<tr>\n",
       "  <th>Omnibus:</th>       <td> 2.847</td> <th>  Durbin-Watson:     </th> <td>   2.015</td>\n",
       "</tr>\n",
       "<tr>\n",
       "  <th>Prob(Omnibus):</th> <td> 0.241</td> <th>  Jarque-Bera (JB):  </th> <td>   2.877</td>\n",
       "</tr>\n",
       "<tr>\n",
       "  <th>Skew:</th>          <td>-0.068</td> <th>  Prob(JB):          </th> <td>   0.237</td>\n",
       "</tr>\n",
       "<tr>\n",
       "  <th>Kurtosis:</th>      <td> 3.225</td> <th>  Cond. No.          </th> <td>    2.24</td>\n",
       "</tr>\n",
       "</table><br/><br/>Notes:<br/>[1] R² is computed without centering (uncentered) since the model does not contain a constant.<br/>[2] Standard Errors assume that the covariance matrix of the errors is correctly specified."
      ],
      "text/plain": [
       "<class 'statsmodels.iolib.summary.Summary'>\n",
       "\"\"\"\n",
       "                                 OLS Regression Results                                \n",
       "=======================================================================================\n",
       "Dep. Variable:                      y   R-squared (uncentered):                   0.952\n",
       "Model:                            OLS   Adj. R-squared (uncentered):              0.952\n",
       "Method:                 Least Squares   F-statistic:                              9900.\n",
       "Date:                Mon, 05 Sep 2022   Prob (F-statistic):                        0.00\n",
       "Time:                        18:55:56   Log-Likelihood:                         -1425.8\n",
       "No. Observations:                1000   AIC:                                      2856.\n",
       "Df Residuals:                     998   BIC:                                      2865.\n",
       "Df Model:                           2                                                  \n",
       "Covariance Type:            nonrobust                                                  \n",
       "==============================================================================\n",
       "                 coef    std err          t      P>|t|      [0.025      0.975]\n",
       "------------------------------------------------------------------------------\n",
       "x1             2.9493      0.025    119.839      0.000       2.901       2.998\n",
       "x2             4.9637      0.054     91.525      0.000       4.857       5.070\n",
       "==============================================================================\n",
       "Omnibus:                        2.847   Durbin-Watson:                   2.015\n",
       "Prob(Omnibus):                  0.241   Jarque-Bera (JB):                2.877\n",
       "Skew:                          -0.068   Prob(JB):                        0.237\n",
       "Kurtosis:                       3.225   Cond. No.                         2.24\n",
       "==============================================================================\n",
       "\n",
       "Notes:\n",
       "[1] R² is computed without centering (uncentered) since the model does not contain a constant.\n",
       "[2] Standard Errors assume that the covariance matrix of the errors is correctly specified.\n",
       "\"\"\""
      ]
     },
     "execution_count": 10,
     "metadata": {},
     "output_type": "execute_result"
    }
   ],
   "source": [
    "model = OLS(np.asarray(df[outcome]), np.asarray(df[[common_cause, treatment]], dtype=np.float64))\n",
    "result = model.fit()\n",
    "result.summary()"
   ]
  }
 ],
 "metadata": {
  "kernelspec": {
   "display_name": "Python 3",
   "language": "python",
   "name": "python3"
  },
  "language_info": {
   "codemirror_mode": {
    "name": "ipython",
    "version": 3
   },
   "file_extension": ".py",
   "mimetype": "text/x-python",
   "name": "python",
   "nbconvert_exporter": "python",
   "pygments_lexer": "ipython3",
   "version": "3.8.10"
  },
  "toc": {
   "base_numbering": 1,
   "nav_menu": {},
   "number_sections": false,
   "sideBar": true,
   "skip_h1_title": true,
   "title_cell": "Table of Contents",
   "title_sidebar": "Contents",
   "toc_cell": false,
   "toc_position": {},
   "toc_section_display": true,
   "toc_window_display": false
  }
 },
 "nbformat": 4,
 "nbformat_minor": 4
}
