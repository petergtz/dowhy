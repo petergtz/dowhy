{
 "cells": [
  {
   "cell_type": "markdown",
   "metadata": {},
   "source": [
    "# Demo for the DoWhy causal API\n",
    "We show a simple example of adding a causal extension to any dataframe. "
   ]
  },
  {
   "cell_type": "code",
   "execution_count": 1,
   "metadata": {
    "execution": {
     "iopub.execute_input": "2022-10-19T14:46:48.785218Z",
     "iopub.status.busy": "2022-10-19T14:46:48.784768Z",
     "iopub.status.idle": "2022-10-19T14:46:50.236343Z",
     "shell.execute_reply": "2022-10-19T14:46:50.235796Z"
    }
   },
   "outputs": [],
   "source": [
    "import dowhy.datasets\n",
    "import dowhy.api\n",
    "\n",
    "import numpy as np\n",
    "import pandas as pd\n",
    "\n",
    "from statsmodels.api import OLS"
   ]
  },
  {
   "cell_type": "code",
   "execution_count": 2,
   "metadata": {
    "execution": {
     "iopub.execute_input": "2022-10-19T14:46:50.239687Z",
     "iopub.status.busy": "2022-10-19T14:46:50.238679Z",
     "iopub.status.idle": "2022-10-19T14:46:50.271778Z",
     "shell.execute_reply": "2022-10-19T14:46:50.271247Z"
    }
   },
   "outputs": [
    {
     "data": {
      "text/html": [
       "<div>\n",
       "<style scoped>\n",
       "    .dataframe tbody tr th:only-of-type {\n",
       "        vertical-align: middle;\n",
       "    }\n",
       "\n",
       "    .dataframe tbody tr th {\n",
       "        vertical-align: top;\n",
       "    }\n",
       "\n",
       "    .dataframe thead th {\n",
       "        text-align: right;\n",
       "    }\n",
       "</style>\n",
       "<table border=\"1\" class=\"dataframe\">\n",
       "  <thead>\n",
       "    <tr style=\"text-align: right;\">\n",
       "      <th></th>\n",
       "      <th>W0</th>\n",
       "      <th>v0</th>\n",
       "      <th>y</th>\n",
       "    </tr>\n",
       "  </thead>\n",
       "  <tbody>\n",
       "    <tr>\n",
       "      <th>0</th>\n",
       "      <td>-1.944377</td>\n",
       "      <td>False</td>\n",
       "      <td>-1.058411</td>\n",
       "    </tr>\n",
       "    <tr>\n",
       "      <th>1</th>\n",
       "      <td>-0.226095</td>\n",
       "      <td>True</td>\n",
       "      <td>3.999184</td>\n",
       "    </tr>\n",
       "    <tr>\n",
       "      <th>2</th>\n",
       "      <td>-2.363965</td>\n",
       "      <td>False</td>\n",
       "      <td>-1.388672</td>\n",
       "    </tr>\n",
       "    <tr>\n",
       "      <th>3</th>\n",
       "      <td>-1.340643</td>\n",
       "      <td>False</td>\n",
       "      <td>-1.319006</td>\n",
       "    </tr>\n",
       "    <tr>\n",
       "      <th>4</th>\n",
       "      <td>-1.188821</td>\n",
       "      <td>False</td>\n",
       "      <td>-1.994718</td>\n",
       "    </tr>\n",
       "    <tr>\n",
       "      <th>...</th>\n",
       "      <td>...</td>\n",
       "      <td>...</td>\n",
       "      <td>...</td>\n",
       "    </tr>\n",
       "    <tr>\n",
       "      <th>995</th>\n",
       "      <td>-0.009112</td>\n",
       "      <td>True</td>\n",
       "      <td>3.958634</td>\n",
       "    </tr>\n",
       "    <tr>\n",
       "      <th>996</th>\n",
       "      <td>-1.669372</td>\n",
       "      <td>True</td>\n",
       "      <td>5.810738</td>\n",
       "    </tr>\n",
       "    <tr>\n",
       "      <th>997</th>\n",
       "      <td>-0.196890</td>\n",
       "      <td>True</td>\n",
       "      <td>4.757233</td>\n",
       "    </tr>\n",
       "    <tr>\n",
       "      <th>998</th>\n",
       "      <td>-2.442120</td>\n",
       "      <td>False</td>\n",
       "      <td>-2.176536</td>\n",
       "    </tr>\n",
       "    <tr>\n",
       "      <th>999</th>\n",
       "      <td>-0.101714</td>\n",
       "      <td>False</td>\n",
       "      <td>-2.711424</td>\n",
       "    </tr>\n",
       "  </tbody>\n",
       "</table>\n",
       "<p>1000 rows × 3 columns</p>\n",
       "</div>"
      ],
      "text/plain": [
       "           W0     v0         y\n",
       "0   -1.944377  False -1.058411\n",
       "1   -0.226095   True  3.999184\n",
       "2   -2.363965  False -1.388672\n",
       "3   -1.340643  False -1.319006\n",
       "4   -1.188821  False -1.994718\n",
       "..        ...    ...       ...\n",
       "995 -0.009112   True  3.958634\n",
       "996 -1.669372   True  5.810738\n",
       "997 -0.196890   True  4.757233\n",
       "998 -2.442120  False -2.176536\n",
       "999 -0.101714  False -2.711424\n",
       "\n",
       "[1000 rows x 3 columns]"
      ]
     },
     "execution_count": 2,
     "metadata": {},
     "output_type": "execute_result"
    }
   ],
   "source": [
    "data = dowhy.datasets.linear_dataset(beta=5,\n",
    "        num_common_causes=1,\n",
    "        num_instruments = 0,\n",
    "        num_samples=1000,\n",
    "        treatment_is_binary=True)\n",
    "df = data['df']\n",
    "df['y'] = df['y'] + np.random.normal(size=len(df)) # Adding noise to data. Without noise, the variance in Y|X, Z is zero, and mcmc fails.\n",
    "#data['dot_graph'] = 'digraph { v ->y;X0-> v;X0-> y;}'\n",
    "\n",
    "treatment= data[\"treatment_name\"][0]\n",
    "outcome = data[\"outcome_name\"][0]\n",
    "common_cause = data[\"common_causes_names\"][0]\n",
    "df"
   ]
  },
  {
   "cell_type": "code",
   "execution_count": 3,
   "metadata": {
    "execution": {
     "iopub.execute_input": "2022-10-19T14:46:50.274164Z",
     "iopub.status.busy": "2022-10-19T14:46:50.273770Z",
     "iopub.status.idle": "2022-10-19T14:46:50.411289Z",
     "shell.execute_reply": "2022-10-19T14:46:50.410738Z"
    }
   },
   "outputs": [
    {
     "data": {
      "text/plain": [
       "<AxesSubplot: xlabel='v0'>"
      ]
     },
     "execution_count": 3,
     "metadata": {},
     "output_type": "execute_result"
    },
    {
     "data": {
      "image/png": "[encoded data removed]",
      "text/plain": [
       "<Figure size 640x480 with 1 Axes>"
      ]
     },
     "metadata": {},
     "output_type": "display_data"
    }
   ],
   "source": [
    "# data['df'] is just a regular pandas.DataFrame\n",
    "df.causal.do(x=treatment,\n",
    "                     variable_types={treatment: 'b', outcome: 'c', common_cause: 'c'},\n",
    "                     outcome=outcome,\n",
    "                     common_causes=[common_cause],\n",
    "                     proceed_when_unidentifiable=True).groupby(treatment).mean().plot(y=outcome, kind='bar')"
   ]
  },
  {
   "cell_type": "code",
   "execution_count": 4,
   "metadata": {
    "execution": {
     "iopub.execute_input": "2022-10-19T14:46:50.414028Z",
     "iopub.status.busy": "2022-10-19T14:46:50.413818Z",
     "iopub.status.idle": "2022-10-19T14:46:50.541651Z",
     "shell.execute_reply": "2022-10-19T14:46:50.541120Z"
    }
   },
   "outputs": [
    {
     "data": {
      "text/plain": [
       "<AxesSubplot: xlabel='v0'>"
      ]
     },
     "execution_count": 4,
     "metadata": {},
     "output_type": "execute_result"
    },
    {
     "data": {
      "image/png": "[encoded data removed]",
      "text/plain": [
       "<Figure size 640x480 with 1 Axes>"
      ]
     },
     "metadata": {},
     "output_type": "display_data"
    }
   ],
   "source": [
    "df.causal.do(x={treatment: 1}, \n",
    "              variable_types={treatment:'b', outcome: 'c', common_cause: 'c'}, \n",
    "              outcome=outcome,\n",
    "              method='weighting', \n",
    "              common_causes=[common_cause],\n",
    "              proceed_when_unidentifiable=True).groupby(treatment).mean().plot(y=outcome, kind='bar')"
   ]
  },
  {
   "cell_type": "code",
   "execution_count": 5,
   "metadata": {
    "execution": {
     "iopub.execute_input": "2022-10-19T14:46:50.544399Z",
     "iopub.status.busy": "2022-10-19T14:46:50.544022Z",
     "iopub.status.idle": "2022-10-19T14:46:50.568144Z",
     "shell.execute_reply": "2022-10-19T14:46:50.567594Z"
    }
   },
   "outputs": [],
   "source": [
    "cdf_1 = df.causal.do(x={treatment: 1}, \n",
    "              variable_types={treatment: 'b', outcome: 'c', common_cause: 'c'}, \n",
    "              outcome=outcome, \n",
    "              dot_graph=data['dot_graph'],\n",
    "              proceed_when_unidentifiable=True)\n",
    "\n",
    "cdf_0 = df.causal.do(x={treatment: 0}, \n",
    "              variable_types={treatment: 'b', outcome: 'c', common_cause: 'c'}, \n",
    "              outcome=outcome, \n",
    "              dot_graph=data['dot_graph'],\n",
    "              proceed_when_unidentifiable=True)\n"
   ]
  },
  {
   "cell_type": "code",
   "execution_count": 6,
   "metadata": {
    "execution": {
     "iopub.execute_input": "2022-10-19T14:46:50.570418Z",
     "iopub.status.busy": "2022-10-19T14:46:50.570192Z",
     "iopub.status.idle": "2022-10-19T14:46:50.578838Z",
     "shell.execute_reply": "2022-10-19T14:46:50.578397Z"
    },
    "scrolled": true
   },
   "outputs": [
    {
     "data": {
      "text/html": [
       "<div>\n",
       "<style scoped>\n",
       "    .dataframe tbody tr th:only-of-type {\n",
       "        vertical-align: middle;\n",
       "    }\n",
       "\n",
       "    .dataframe tbody tr th {\n",
       "        vertical-align: top;\n",
       "    }\n",
       "\n",
       "    .dataframe thead th {\n",
       "        text-align: right;\n",
       "    }\n",
       "</style>\n",
       "<table border=\"1\" class=\"dataframe\">\n",
       "  <thead>\n",
       "    <tr style=\"text-align: right;\">\n",
       "      <th></th>\n",
       "      <th>W0</th>\n",
       "      <th>v0</th>\n",
       "      <th>y</th>\n",
       "      <th>propensity_score</th>\n",
       "      <th>weight</th>\n",
       "    </tr>\n",
       "  </thead>\n",
       "  <tbody>\n",
       "    <tr>\n",
       "      <th>0</th>\n",
       "      <td>-0.030907</td>\n",
       "      <td>False</td>\n",
       "      <td>0.653785</td>\n",
       "      <td>0.474155</td>\n",
       "      <td>2.109014</td>\n",
       "    </tr>\n",
       "    <tr>\n",
       "      <th>1</th>\n",
       "      <td>-0.353377</td>\n",
       "      <td>False</td>\n",
       "      <td>-1.038776</td>\n",
       "      <td>0.518313</td>\n",
       "      <td>1.929336</td>\n",
       "    </tr>\n",
       "    <tr>\n",
       "      <th>2</th>\n",
       "      <td>0.055643</td>\n",
       "      <td>False</td>\n",
       "      <td>-0.503726</td>\n",
       "      <td>0.462343</td>\n",
       "      <td>2.162894</td>\n",
       "    </tr>\n",
       "    <tr>\n",
       "      <th>3</th>\n",
       "      <td>-1.254629</td>\n",
       "      <td>False</td>\n",
       "      <td>-1.673596</td>\n",
       "      <td>0.638138</td>\n",
       "      <td>1.567060</td>\n",
       "    </tr>\n",
       "    <tr>\n",
       "      <th>4</th>\n",
       "      <td>-0.118293</td>\n",
       "      <td>False</td>\n",
       "      <td>0.303329</td>\n",
       "      <td>0.486110</td>\n",
       "      <td>2.057146</td>\n",
       "    </tr>\n",
       "    <tr>\n",
       "      <th>...</th>\n",
       "      <td>...</td>\n",
       "      <td>...</td>\n",
       "      <td>...</td>\n",
       "      <td>...</td>\n",
       "      <td>...</td>\n",
       "    </tr>\n",
       "    <tr>\n",
       "      <th>995</th>\n",
       "      <td>-0.364394</td>\n",
       "      <td>False</td>\n",
       "      <td>-1.463887</td>\n",
       "      <td>0.519821</td>\n",
       "      <td>1.923741</td>\n",
       "    </tr>\n",
       "    <tr>\n",
       "      <th>996</th>\n",
       "      <td>-1.135074</td>\n",
       "      <td>False</td>\n",
       "      <td>-0.132431</td>\n",
       "      <td>0.622872</td>\n",
       "      <td>1.605465</td>\n",
       "    </tr>\n",
       "    <tr>\n",
       "      <th>997</th>\n",
       "      <td>-2.370753</td>\n",
       "      <td>False</td>\n",
       "      <td>-0.236214</td>\n",
       "      <td>0.764781</td>\n",
       "      <td>1.307563</td>\n",
       "    </tr>\n",
       "    <tr>\n",
       "      <th>998</th>\n",
       "      <td>-1.166201</td>\n",
       "      <td>False</td>\n",
       "      <td>-0.896010</td>\n",
       "      <td>0.626872</td>\n",
       "      <td>1.595222</td>\n",
       "    </tr>\n",
       "    <tr>\n",
       "      <th>999</th>\n",
       "      <td>-1.044537</td>\n",
       "      <td>False</td>\n",
       "      <td>-0.709912</td>\n",
       "      <td>0.611146</td>\n",
       "      <td>1.636270</td>\n",
       "    </tr>\n",
       "  </tbody>\n",
       "</table>\n",
       "<p>1000 rows × 5 columns</p>\n",
       "</div>"
      ],
      "text/plain": [
       "           W0     v0         y  propensity_score    weight\n",
       "0   -0.030907  False  0.653785          0.474155  2.109014\n",
       "1   -0.353377  False -1.038776          0.518313  1.929336\n",
       "2    0.055643  False -0.503726          0.462343  2.162894\n",
       "3   -1.254629  False -1.673596          0.638138  1.567060\n",
       "4   -0.118293  False  0.303329          0.486110  2.057146\n",
       "..        ...    ...       ...               ...       ...\n",
       "995 -0.364394  False -1.463887          0.519821  1.923741\n",
       "996 -1.135074  False -0.132431          0.622872  1.605465\n",
       "997 -2.370753  False -0.236214          0.764781  1.307563\n",
       "998 -1.166201  False -0.896010          0.626872  1.595222\n",
       "999 -1.044537  False -0.709912          0.611146  1.636270\n",
       "\n",
       "[1000 rows x 5 columns]"
      ]
     },
     "execution_count": 6,
     "metadata": {},
     "output_type": "execute_result"
    }
   ],
   "source": [
    "cdf_0"
   ]
  },
  {
   "cell_type": "code",
   "execution_count": 7,
   "metadata": {
    "execution": {
     "iopub.execute_input": "2022-10-19T14:46:50.580862Z",
     "iopub.status.busy": "2022-10-19T14:46:50.580643Z",
     "iopub.status.idle": "2022-10-19T14:46:50.589036Z",
     "shell.execute_reply": "2022-10-19T14:46:50.588504Z"
    }
   },
   "outputs": [
    {
     "data": {
      "text/html": [
       "<div>\n",
       "<style scoped>\n",
       "    .dataframe tbody tr th:only-of-type {\n",
       "        vertical-align: middle;\n",
       "    }\n",
       "\n",
       "    .dataframe tbody tr th {\n",
       "        vertical-align: top;\n",
       "    }\n",
       "\n",
       "    .dataframe thead th {\n",
       "        text-align: right;\n",
       "    }\n",
       "</style>\n",
       "<table border=\"1\" class=\"dataframe\">\n",
       "  <thead>\n",
       "    <tr style=\"text-align: right;\">\n",
       "      <th></th>\n",
       "      <th>W0</th>\n",
       "      <th>v0</th>\n",
       "      <th>y</th>\n",
       "      <th>propensity_score</th>\n",
       "      <th>weight</th>\n",
       "    </tr>\n",
       "  </thead>\n",
       "  <tbody>\n",
       "    <tr>\n",
       "      <th>0</th>\n",
       "      <td>-1.624025</td>\n",
       "      <td>True</td>\n",
       "      <td>2.115097</td>\n",
       "      <td>0.316529</td>\n",
       "      <td>3.159266</td>\n",
       "    </tr>\n",
       "    <tr>\n",
       "      <th>1</th>\n",
       "      <td>-0.360570</td>\n",
       "      <td>True</td>\n",
       "      <td>5.672464</td>\n",
       "      <td>0.480703</td>\n",
       "      <td>2.080288</td>\n",
       "    </tr>\n",
       "    <tr>\n",
       "      <th>2</th>\n",
       "      <td>-0.862055</td>\n",
       "      <td>True</td>\n",
       "      <td>2.636511</td>\n",
       "      <td>0.412871</td>\n",
       "      <td>2.422062</td>\n",
       "    </tr>\n",
       "    <tr>\n",
       "      <th>3</th>\n",
       "      <td>-0.709497</td>\n",
       "      <td>True</td>\n",
       "      <td>4.102400</td>\n",
       "      <td>0.433279</td>\n",
       "      <td>2.307982</td>\n",
       "    </tr>\n",
       "    <tr>\n",
       "      <th>4</th>\n",
       "      <td>-3.217392</td>\n",
       "      <td>True</td>\n",
       "      <td>1.081379</td>\n",
       "      <td>0.162038</td>\n",
       "      <td>6.171404</td>\n",
       "    </tr>\n",
       "    <tr>\n",
       "      <th>...</th>\n",
       "      <td>...</td>\n",
       "      <td>...</td>\n",
       "      <td>...</td>\n",
       "      <td>...</td>\n",
       "      <td>...</td>\n",
       "    </tr>\n",
       "    <tr>\n",
       "      <th>995</th>\n",
       "      <td>-1.153740</td>\n",
       "      <td>True</td>\n",
       "      <td>5.597034</td>\n",
       "      <td>0.374727</td>\n",
       "      <td>2.668608</td>\n",
       "    </tr>\n",
       "    <tr>\n",
       "      <th>996</th>\n",
       "      <td>-1.817651</td>\n",
       "      <td>True</td>\n",
       "      <td>3.567567</td>\n",
       "      <td>0.294028</td>\n",
       "      <td>3.401038</td>\n",
       "    </tr>\n",
       "    <tr>\n",
       "      <th>997</th>\n",
       "      <td>-1.148774</td>\n",
       "      <td>True</td>\n",
       "      <td>3.592059</td>\n",
       "      <td>0.375365</td>\n",
       "      <td>2.664072</td>\n",
       "    </tr>\n",
       "    <tr>\n",
       "      <th>998</th>\n",
       "      <td>-0.101798</td>\n",
       "      <td>True</td>\n",
       "      <td>3.762000</td>\n",
       "      <td>0.516148</td>\n",
       "      <td>1.937430</td>\n",
       "    </tr>\n",
       "    <tr>\n",
       "      <th>999</th>\n",
       "      <td>-1.776313</td>\n",
       "      <td>True</td>\n",
       "      <td>1.396064</td>\n",
       "      <td>0.298753</td>\n",
       "      <td>3.347245</td>\n",
       "    </tr>\n",
       "  </tbody>\n",
       "</table>\n",
       "<p>1000 rows × 5 columns</p>\n",
       "</div>"
      ],
      "text/plain": [
       "           W0    v0         y  propensity_score    weight\n",
       "0   -1.624025  True  2.115097          0.316529  3.159266\n",
       "1   -0.360570  True  5.672464          0.480703  2.080288\n",
       "2   -0.862055  True  2.636511          0.412871  2.422062\n",
       "3   -0.709497  True  4.102400          0.433279  2.307982\n",
       "4   -3.217392  True  1.081379          0.162038  6.171404\n",
       "..        ...   ...       ...               ...       ...\n",
       "995 -1.153740  True  5.597034          0.374727  2.668608\n",
       "996 -1.817651  True  3.567567          0.294028  3.401038\n",
       "997 -1.148774  True  3.592059          0.375365  2.664072\n",
       "998 -0.101798  True  3.762000          0.516148  1.937430\n",
       "999 -1.776313  True  1.396064          0.298753  3.347245\n",
       "\n",
       "[1000 rows x 5 columns]"
      ]
     },
     "execution_count": 7,
     "metadata": {},
     "output_type": "execute_result"
    }
   ],
   "source": [
    "cdf_1"
   ]
  },
  {
   "cell_type": "markdown",
   "metadata": {},
   "source": [
    "## Comparing the estimate to Linear Regression\n",
    "First, estimating the effect using the causal data frame, and the 95% confidence interval."
   ]
  },
  {
   "cell_type": "code",
   "execution_count": 8,
   "metadata": {
    "execution": {
     "iopub.execute_input": "2022-10-19T14:46:50.591278Z",
     "iopub.status.busy": "2022-10-19T14:46:50.590836Z",
     "iopub.status.idle": "2022-10-19T14:46:50.635492Z",
     "shell.execute_reply": "2022-10-19T14:46:50.635037Z"
    }
   },
   "outputs": [
    {
     "data": {
      "image/png": "[encoded data removed]",
      "text/latex": [
       "$\\displaystyle 4.91625361730049$"
      ],
      "text/plain": [
       "4.916253617300488"
      ]
     },
     "execution_count": 8,
     "metadata": {},
     "output_type": "execute_result"
    }
   ],
   "source": [
    "(cdf_1['y'] - cdf_0['y']).mean()"
   ]
  },
  {
   "cell_type": "code",
   "execution_count": 9,
   "metadata": {
    "execution": {
     "iopub.execute_input": "2022-10-19T14:46:50.637568Z",
     "iopub.status.busy": "2022-10-19T14:46:50.637247Z",
     "iopub.status.idle": "2022-10-19T14:46:50.653481Z",
     "shell.execute_reply": "2022-10-19T14:46:50.653068Z"
    }
   },
   "outputs": [
    {
     "data": {
      "image/png": "[encoded data removed]",
      "text/latex": [
       "$\\displaystyle 0.120575471390586$"
      ],
      "text/plain": [
       "0.12057547139058618"
      ]
     },
     "execution_count": 9,
     "metadata": {},
     "output_type": "execute_result"
    }
   ],
   "source": [
    "1.96*(cdf_1['y'] - cdf_0['y']).std() / np.sqrt(len(df))"
   ]
  },
  {
   "cell_type": "markdown",
   "metadata": {},
   "source": [
    "Comparing to the estimate from OLS."
   ]
  },
  {
   "cell_type": "code",
   "execution_count": 10,
   "metadata": {
    "execution": {
     "iopub.execute_input": "2022-10-19T14:46:50.655771Z",
     "iopub.status.busy": "2022-10-19T14:46:50.655326Z",
     "iopub.status.idle": "2022-10-19T14:46:50.667450Z",
     "shell.execute_reply": "2022-10-19T14:46:50.667004Z"
    }
   },
   "outputs": [
    {
     "data": {
      "text/html": [
       "<table class=\"simpletable\">\n",
       "<caption>OLS Regression Results</caption>\n",
       "<tr>\n",
       "  <th>Dep. Variable:</th>            <td>y</td>        <th>  R-squared (uncentered):</th>      <td>   0.910</td>\n",
       "</tr>\n",
       "<tr>\n",
       "  <th>Model:</th>                   <td>OLS</td>       <th>  Adj. R-squared (uncentered):</th> <td>   0.910</td>\n",
       "</tr>\n",
       "<tr>\n",
       "  <th>Method:</th>             <td>Least Squares</td>  <th>  F-statistic:       </th>          <td>   5037.</td>\n",
       "</tr>\n",
       "<tr>\n",
       "  <th>Date:</th>             <td>Wed, 19 Oct 2022</td> <th>  Prob (F-statistic):</th>           <td>  0.00</td> \n",
       "</tr>\n",
       "<tr>\n",
       "  <th>Time:</th>                 <td>14:46:50</td>     <th>  Log-Likelihood:    </th>          <td> -1403.7</td>\n",
       "</tr>\n",
       "<tr>\n",
       "  <th>No. Observations:</th>      <td>  1000</td>      <th>  AIC:               </th>          <td>   2811.</td>\n",
       "</tr>\n",
       "<tr>\n",
       "  <th>Df Residuals:</th>          <td>   998</td>      <th>  BIC:               </th>          <td>   2821.</td>\n",
       "</tr>\n",
       "<tr>\n",
       "  <th>Df Model:</th>              <td>     2</td>      <th>                     </th>              <td> </td>   \n",
       "</tr>\n",
       "<tr>\n",
       "  <th>Covariance Type:</th>      <td>nonrobust</td>    <th>                     </th>              <td> </td>   \n",
       "</tr>\n",
       "</table>\n",
       "<table class=\"simpletable\">\n",
       "<tr>\n",
       "   <td></td>     <th>coef</th>     <th>std err</th>      <th>t</th>      <th>P>|t|</th>  <th>[0.025</th>    <th>0.975]</th>  \n",
       "</tr>\n",
       "<tr>\n",
       "  <th>x1</th> <td>    0.9559</td> <td>    0.025</td> <td>   37.875</td> <td> 0.000</td> <td>    0.906</td> <td>    1.005</td>\n",
       "</tr>\n",
       "<tr>\n",
       "  <th>x2</th> <td>    4.9835</td> <td>    0.050</td> <td>   99.797</td> <td> 0.000</td> <td>    4.886</td> <td>    5.082</td>\n",
       "</tr>\n",
       "</table>\n",
       "<table class=\"simpletable\">\n",
       "<tr>\n",
       "  <th>Omnibus:</th>       <td> 1.048</td> <th>  Durbin-Watson:     </th> <td>   2.036</td>\n",
       "</tr>\n",
       "<tr>\n",
       "  <th>Prob(Omnibus):</th> <td> 0.592</td> <th>  Jarque-Bera (JB):  </th> <td>   1.117</td>\n",
       "</tr>\n",
       "<tr>\n",
       "  <th>Skew:</th>          <td> 0.047</td> <th>  Prob(JB):          </th> <td>   0.572</td>\n",
       "</tr>\n",
       "<tr>\n",
       "  <th>Kurtosis:</th>      <td> 2.866</td> <th>  Cond. No.          </th> <td>    2.11</td>\n",
       "</tr>\n",
       "</table><br/><br/>Notes:<br/>[1] R² is computed without centering (uncentered) since the model does not contain a constant.<br/>[2] Standard Errors assume that the covariance matrix of the errors is correctly specified."
      ],
      "text/plain": [
       "<class 'statsmodels.iolib.summary.Summary'>\n",
       "\"\"\"\n",
       "                                 OLS Regression Results                                \n",
       "=======================================================================================\n",
       "Dep. Variable:                      y   R-squared (uncentered):                   0.910\n",
       "Model:                            OLS   Adj. R-squared (uncentered):              0.910\n",
       "Method:                 Least Squares   F-statistic:                              5037.\n",
       "Date:                Wed, 19 Oct 2022   Prob (F-statistic):                        0.00\n",
       "Time:                        14:46:50   Log-Likelihood:                         -1403.7\n",
       "No. Observations:                1000   AIC:                                      2811.\n",
       "Df Residuals:                     998   BIC:                                      2821.\n",
       "Df Model:                           2                                                  \n",
       "Covariance Type:            nonrobust                                                  \n",
       "==============================================================================\n",
       "                 coef    std err          t      P>|t|      [0.025      0.975]\n",
       "------------------------------------------------------------------------------\n",
       "x1             0.9559      0.025     37.875      0.000       0.906       1.005\n",
       "x2             4.9835      0.050     99.797      0.000       4.886       5.082\n",
       "==============================================================================\n",
       "Omnibus:                        1.048   Durbin-Watson:                   2.036\n",
       "Prob(Omnibus):                  0.592   Jarque-Bera (JB):                1.117\n",
       "Skew:                           0.047   Prob(JB):                        0.572\n",
       "Kurtosis:                       2.866   Cond. No.                         2.11\n",
       "==============================================================================\n",
       "\n",
       "Notes:\n",
       "[1] R² is computed without centering (uncentered) since the model does not contain a constant.\n",
       "[2] Standard Errors assume that the covariance matrix of the errors is correctly specified.\n",
       "\"\"\""
      ]
     },
     "execution_count": 10,
     "metadata": {},
     "output_type": "execute_result"
    }
   ],
   "source": [
    "model = OLS(np.asarray(df[outcome]), np.asarray(df[[common_cause, treatment]], dtype=np.float64))\n",
    "result = model.fit()\n",
    "result.summary()"
   ]
  }
 ],
 "metadata": {
  "kernelspec": {
   "display_name": "Python 3",
   "language": "python",
   "name": "python3"
  },
  "language_info": {
   "codemirror_mode": {
    "name": "ipython",
    "version": 3
   },
   "file_extension": ".py",
   "mimetype": "text/x-python",
   "name": "python",
   "nbconvert_exporter": "python",
   "pygments_lexer": "ipython3",
   "version": "3.8.10"
  },
  "toc": {
   "base_numbering": 1,
   "nav_menu": {},
   "number_sections": false,
   "sideBar": true,
   "skip_h1_title": true,
   "title_cell": "Table of Contents",
   "title_sidebar": "Contents",
   "toc_cell": false,
   "toc_position": {},
   "toc_section_display": true,
   "toc_window_display": false
  }
 },
 "nbformat": 4,
 "nbformat_minor": 4
}
