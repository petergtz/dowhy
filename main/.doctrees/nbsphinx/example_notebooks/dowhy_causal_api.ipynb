{
 "cells": [
  {
   "cell_type": "markdown",
   "metadata": {},
   "source": [
    "# Demo for the DoWhy causal API\n",
    "We show a simple example of adding a causal extension to any dataframe. "
   ]
  },
  {
   "cell_type": "code",
   "execution_count": 1,
   "metadata": {
    "execution": {
     "iopub.execute_input": "2022-11-11T17:31:46.627087Z",
     "iopub.status.busy": "2022-11-11T17:31:46.626745Z",
     "iopub.status.idle": "2022-11-11T17:31:49.268538Z",
     "shell.execute_reply": "2022-11-11T17:31:49.267508Z"
    }
   },
   "outputs": [],
   "source": [
    "import dowhy.datasets\n",
    "import dowhy.api\n",
    "\n",
    "import numpy as np\n",
    "import pandas as pd\n",
    "\n",
    "from statsmodels.api import OLS"
   ]
  },
  {
   "cell_type": "code",
   "execution_count": 2,
   "metadata": {
    "execution": {
     "iopub.execute_input": "2022-11-11T17:31:49.274280Z",
     "iopub.status.busy": "2022-11-11T17:31:49.273624Z",
     "iopub.status.idle": "2022-11-11T17:31:49.350503Z",
     "shell.execute_reply": "2022-11-11T17:31:49.349344Z"
    }
   },
   "outputs": [
    {
     "data": {
      "text/html": [
       "<div>\n",
       "<style scoped>\n",
       "    .dataframe tbody tr th:only-of-type {\n",
       "        vertical-align: middle;\n",
       "    }\n",
       "\n",
       "    .dataframe tbody tr th {\n",
       "        vertical-align: top;\n",
       "    }\n",
       "\n",
       "    .dataframe thead th {\n",
       "        text-align: right;\n",
       "    }\n",
       "</style>\n",
       "<table border=\"1\" class=\"dataframe\">\n",
       "  <thead>\n",
       "    <tr style=\"text-align: right;\">\n",
       "      <th></th>\n",
       "      <th>W0</th>\n",
       "      <th>v0</th>\n",
       "      <th>y</th>\n",
       "    </tr>\n",
       "  </thead>\n",
       "  <tbody>\n",
       "    <tr>\n",
       "      <th>0</th>\n",
       "      <td>0.837625</td>\n",
       "      <td>True</td>\n",
       "      <td>4.463464</td>\n",
       "    </tr>\n",
       "    <tr>\n",
       "      <th>1</th>\n",
       "      <td>1.970818</td>\n",
       "      <td>True</td>\n",
       "      <td>4.531151</td>\n",
       "    </tr>\n",
       "    <tr>\n",
       "      <th>2</th>\n",
       "      <td>2.369800</td>\n",
       "      <td>True</td>\n",
       "      <td>5.122748</td>\n",
       "    </tr>\n",
       "    <tr>\n",
       "      <th>3</th>\n",
       "      <td>1.516296</td>\n",
       "      <td>True</td>\n",
       "      <td>8.028153</td>\n",
       "    </tr>\n",
       "    <tr>\n",
       "      <th>4</th>\n",
       "      <td>1.509464</td>\n",
       "      <td>True</td>\n",
       "      <td>6.950984</td>\n",
       "    </tr>\n",
       "    <tr>\n",
       "      <th>...</th>\n",
       "      <td>...</td>\n",
       "      <td>...</td>\n",
       "      <td>...</td>\n",
       "    </tr>\n",
       "    <tr>\n",
       "      <th>995</th>\n",
       "      <td>0.603750</td>\n",
       "      <td>True</td>\n",
       "      <td>2.886611</td>\n",
       "    </tr>\n",
       "    <tr>\n",
       "      <th>996</th>\n",
       "      <td>0.706733</td>\n",
       "      <td>True</td>\n",
       "      <td>5.552090</td>\n",
       "    </tr>\n",
       "    <tr>\n",
       "      <th>997</th>\n",
       "      <td>-0.848687</td>\n",
       "      <td>True</td>\n",
       "      <td>3.856235</td>\n",
       "    </tr>\n",
       "    <tr>\n",
       "      <th>998</th>\n",
       "      <td>-0.305758</td>\n",
       "      <td>False</td>\n",
       "      <td>-0.144103</td>\n",
       "    </tr>\n",
       "    <tr>\n",
       "      <th>999</th>\n",
       "      <td>-0.656768</td>\n",
       "      <td>False</td>\n",
       "      <td>-1.004002</td>\n",
       "    </tr>\n",
       "  </tbody>\n",
       "</table>\n",
       "<p>1000 rows × 3 columns</p>\n",
       "</div>"
      ],
      "text/plain": [
       "           W0     v0         y\n",
       "0    0.837625   True  4.463464\n",
       "1    1.970818   True  4.531151\n",
       "2    2.369800   True  5.122748\n",
       "3    1.516296   True  8.028153\n",
       "4    1.509464   True  6.950984\n",
       "..        ...    ...       ...\n",
       "995  0.603750   True  2.886611\n",
       "996  0.706733   True  5.552090\n",
       "997 -0.848687   True  3.856235\n",
       "998 -0.305758  False -0.144103\n",
       "999 -0.656768  False -1.004002\n",
       "\n",
       "[1000 rows x 3 columns]"
      ]
     },
     "execution_count": 2,
     "metadata": {},
     "output_type": "execute_result"
    }
   ],
   "source": [
    "data = dowhy.datasets.linear_dataset(beta=5,\n",
    "        num_common_causes=1,\n",
    "        num_instruments = 0,\n",
    "        num_samples=1000,\n",
    "        treatment_is_binary=True)\n",
    "df = data['df']\n",
    "df['y'] = df['y'] + np.random.normal(size=len(df)) # Adding noise to data. Without noise, the variance in Y|X, Z is zero, and mcmc fails.\n",
    "#data['dot_graph'] = 'digraph { v ->y;X0-> v;X0-> y;}'\n",
    "\n",
    "treatment= data[\"treatment_name\"][0]\n",
    "outcome = data[\"outcome_name\"][0]\n",
    "common_cause = data[\"common_causes_names\"][0]\n",
    "df"
   ]
  },
  {
   "cell_type": "code",
   "execution_count": 3,
   "metadata": {
    "execution": {
     "iopub.execute_input": "2022-11-11T17:31:49.355086Z",
     "iopub.status.busy": "2022-11-11T17:31:49.354795Z",
     "iopub.status.idle": "2022-11-11T17:31:49.583669Z",
     "shell.execute_reply": "2022-11-11T17:31:49.582683Z"
    }
   },
   "outputs": [
    {
     "data": {
      "text/plain": [
       "<AxesSubplot: xlabel='v0'>"
      ]
     },
     "execution_count": 3,
     "metadata": {},
     "output_type": "execute_result"
    },
    {
     "data": {
      "image/png": "[encoded data removed]",
      "text/plain": [
       "<Figure size 640x480 with 1 Axes>"
      ]
     },
     "metadata": {},
     "output_type": "display_data"
    }
   ],
   "source": [
    "# data['df'] is just a regular pandas.DataFrame\n",
    "df.causal.do(x=treatment,\n",
    "                     variable_types={treatment: 'b', outcome: 'c', common_cause: 'c'},\n",
    "                     outcome=outcome,\n",
    "                     common_causes=[common_cause],\n",
    "                     proceed_when_unidentifiable=True).groupby(treatment).mean().plot(y=outcome, kind='bar')"
   ]
  },
  {
   "cell_type": "code",
   "execution_count": 4,
   "metadata": {
    "execution": {
     "iopub.execute_input": "2022-11-11T17:31:49.588530Z",
     "iopub.status.busy": "2022-11-11T17:31:49.587514Z",
     "iopub.status.idle": "2022-11-11T17:31:49.771841Z",
     "shell.execute_reply": "2022-11-11T17:31:49.770860Z"
    }
   },
   "outputs": [
    {
     "data": {
      "text/plain": [
       "<AxesSubplot: xlabel='v0'>"
      ]
     },
     "execution_count": 4,
     "metadata": {},
     "output_type": "execute_result"
    },
    {
     "data": {
      "image/png": "[encoded data removed]",
      "text/plain": [
       "<Figure size 640x480 with 1 Axes>"
      ]
     },
     "metadata": {},
     "output_type": "display_data"
    }
   ],
   "source": [
    "df.causal.do(x={treatment: 1}, \n",
    "              variable_types={treatment:'b', outcome: 'c', common_cause: 'c'}, \n",
    "              outcome=outcome,\n",
    "              method='weighting', \n",
    "              common_causes=[common_cause],\n",
    "              proceed_when_unidentifiable=True).groupby(treatment).mean().plot(y=outcome, kind='bar')"
   ]
  },
  {
   "cell_type": "code",
   "execution_count": 5,
   "metadata": {
    "execution": {
     "iopub.execute_input": "2022-11-11T17:31:49.776595Z",
     "iopub.status.busy": "2022-11-11T17:31:49.776100Z",
     "iopub.status.idle": "2022-11-11T17:31:49.824381Z",
     "shell.execute_reply": "2022-11-11T17:31:49.823329Z"
    }
   },
   "outputs": [],
   "source": [
    "cdf_1 = df.causal.do(x={treatment: 1}, \n",
    "              variable_types={treatment: 'b', outcome: 'c', common_cause: 'c'}, \n",
    "              outcome=outcome, \n",
    "              dot_graph=data['dot_graph'],\n",
    "              proceed_when_unidentifiable=True)\n",
    "\n",
    "cdf_0 = df.causal.do(x={treatment: 0}, \n",
    "              variable_types={treatment: 'b', outcome: 'c', common_cause: 'c'}, \n",
    "              outcome=outcome, \n",
    "              dot_graph=data['dot_graph'],\n",
    "              proceed_when_unidentifiable=True)\n"
   ]
  },
  {
   "cell_type": "code",
   "execution_count": 6,
   "metadata": {
    "execution": {
     "iopub.execute_input": "2022-11-11T17:31:49.829218Z",
     "iopub.status.busy": "2022-11-11T17:31:49.828871Z",
     "iopub.status.idle": "2022-11-11T17:31:49.844954Z",
     "shell.execute_reply": "2022-11-11T17:31:49.844042Z"
    },
    "scrolled": true
   },
   "outputs": [
    {
     "data": {
      "text/html": [
       "<div>\n",
       "<style scoped>\n",
       "    .dataframe tbody tr th:only-of-type {\n",
       "        vertical-align: middle;\n",
       "    }\n",
       "\n",
       "    .dataframe tbody tr th {\n",
       "        vertical-align: top;\n",
       "    }\n",
       "\n",
       "    .dataframe thead th {\n",
       "        text-align: right;\n",
       "    }\n",
       "</style>\n",
       "<table border=\"1\" class=\"dataframe\">\n",
       "  <thead>\n",
       "    <tr style=\"text-align: right;\">\n",
       "      <th></th>\n",
       "      <th>W0</th>\n",
       "      <th>v0</th>\n",
       "      <th>y</th>\n",
       "      <th>propensity_score</th>\n",
       "      <th>weight</th>\n",
       "    </tr>\n",
       "  </thead>\n",
       "  <tbody>\n",
       "    <tr>\n",
       "      <th>0</th>\n",
       "      <td>0.659040</td>\n",
       "      <td>False</td>\n",
       "      <td>0.908117</td>\n",
       "      <td>0.255960</td>\n",
       "      <td>3.906865</td>\n",
       "    </tr>\n",
       "    <tr>\n",
       "      <th>1</th>\n",
       "      <td>1.823928</td>\n",
       "      <td>False</td>\n",
       "      <td>1.528957</td>\n",
       "      <td>0.060376</td>\n",
       "      <td>16.562781</td>\n",
       "    </tr>\n",
       "    <tr>\n",
       "      <th>2</th>\n",
       "      <td>1.026635</td>\n",
       "      <td>False</td>\n",
       "      <td>1.401280</td>\n",
       "      <td>0.168467</td>\n",
       "      <td>5.935870</td>\n",
       "    </tr>\n",
       "    <tr>\n",
       "      <th>3</th>\n",
       "      <td>1.561227</td>\n",
       "      <td>False</td>\n",
       "      <td>-1.265168</td>\n",
       "      <td>0.085762</td>\n",
       "      <td>11.660127</td>\n",
       "    </tr>\n",
       "    <tr>\n",
       "      <th>4</th>\n",
       "      <td>0.977908</td>\n",
       "      <td>False</td>\n",
       "      <td>1.938071</td>\n",
       "      <td>0.178529</td>\n",
       "      <td>5.601335</td>\n",
       "    </tr>\n",
       "    <tr>\n",
       "      <th>...</th>\n",
       "      <td>...</td>\n",
       "      <td>...</td>\n",
       "      <td>...</td>\n",
       "      <td>...</td>\n",
       "      <td>...</td>\n",
       "    </tr>\n",
       "    <tr>\n",
       "      <th>995</th>\n",
       "      <td>1.042399</td>\n",
       "      <td>False</td>\n",
       "      <td>1.948735</td>\n",
       "      <td>0.165311</td>\n",
       "      <td>6.049219</td>\n",
       "    </tr>\n",
       "    <tr>\n",
       "      <th>996</th>\n",
       "      <td>-1.682238</td>\n",
       "      <td>False</td>\n",
       "      <td>-1.996657</td>\n",
       "      <td>0.909299</td>\n",
       "      <td>1.099748</td>\n",
       "    </tr>\n",
       "    <tr>\n",
       "      <th>997</th>\n",
       "      <td>-0.129092</td>\n",
       "      <td>False</td>\n",
       "      <td>0.603994</td>\n",
       "      <td>0.517014</td>\n",
       "      <td>1.934182</td>\n",
       "    </tr>\n",
       "    <tr>\n",
       "      <th>998</th>\n",
       "      <td>0.977908</td>\n",
       "      <td>False</td>\n",
       "      <td>1.938071</td>\n",
       "      <td>0.178529</td>\n",
       "      <td>5.601335</td>\n",
       "    </tr>\n",
       "    <tr>\n",
       "      <th>999</th>\n",
       "      <td>0.626252</td>\n",
       "      <td>False</td>\n",
       "      <td>1.279216</td>\n",
       "      <td>0.265057</td>\n",
       "      <td>3.772779</td>\n",
       "    </tr>\n",
       "  </tbody>\n",
       "</table>\n",
       "<p>1000 rows × 5 columns</p>\n",
       "</div>"
      ],
      "text/plain": [
       "           W0     v0         y  propensity_score     weight\n",
       "0    0.659040  False  0.908117          0.255960   3.906865\n",
       "1    1.823928  False  1.528957          0.060376  16.562781\n",
       "2    1.026635  False  1.401280          0.168467   5.935870\n",
       "3    1.561227  False -1.265168          0.085762  11.660127\n",
       "4    0.977908  False  1.938071          0.178529   5.601335\n",
       "..        ...    ...       ...               ...        ...\n",
       "995  1.042399  False  1.948735          0.165311   6.049219\n",
       "996 -1.682238  False -1.996657          0.909299   1.099748\n",
       "997 -0.129092  False  0.603994          0.517014   1.934182\n",
       "998  0.977908  False  1.938071          0.178529   5.601335\n",
       "999  0.626252  False  1.279216          0.265057   3.772779\n",
       "\n",
       "[1000 rows x 5 columns]"
      ]
     },
     "execution_count": 6,
     "metadata": {},
     "output_type": "execute_result"
    }
   ],
   "source": [
    "cdf_0"
   ]
  },
  {
   "cell_type": "code",
   "execution_count": 7,
   "metadata": {
    "execution": {
     "iopub.execute_input": "2022-11-11T17:31:49.848918Z",
     "iopub.status.busy": "2022-11-11T17:31:49.848586Z",
     "iopub.status.idle": "2022-11-11T17:31:49.864035Z",
     "shell.execute_reply": "2022-11-11T17:31:49.863035Z"
    }
   },
   "outputs": [
    {
     "data": {
      "text/html": [
       "<div>\n",
       "<style scoped>\n",
       "    .dataframe tbody tr th:only-of-type {\n",
       "        vertical-align: middle;\n",
       "    }\n",
       "\n",
       "    .dataframe tbody tr th {\n",
       "        vertical-align: top;\n",
       "    }\n",
       "\n",
       "    .dataframe thead th {\n",
       "        text-align: right;\n",
       "    }\n",
       "</style>\n",
       "<table border=\"1\" class=\"dataframe\">\n",
       "  <thead>\n",
       "    <tr style=\"text-align: right;\">\n",
       "      <th></th>\n",
       "      <th>W0</th>\n",
       "      <th>v0</th>\n",
       "      <th>y</th>\n",
       "      <th>propensity_score</th>\n",
       "      <th>weight</th>\n",
       "    </tr>\n",
       "  </thead>\n",
       "  <tbody>\n",
       "    <tr>\n",
       "      <th>0</th>\n",
       "      <td>1.196647</td>\n",
       "      <td>True</td>\n",
       "      <td>5.599873</td>\n",
       "      <td>0.863114</td>\n",
       "      <td>1.158595</td>\n",
       "    </tr>\n",
       "    <tr>\n",
       "      <th>1</th>\n",
       "      <td>0.583576</td>\n",
       "      <td>True</td>\n",
       "      <td>5.601883</td>\n",
       "      <td>0.722798</td>\n",
       "      <td>1.383512</td>\n",
       "    </tr>\n",
       "    <tr>\n",
       "      <th>2</th>\n",
       "      <td>1.798500</td>\n",
       "      <td>True</td>\n",
       "      <td>4.547092</td>\n",
       "      <td>0.937512</td>\n",
       "      <td>1.066653</td>\n",
       "    </tr>\n",
       "    <tr>\n",
       "      <th>3</th>\n",
       "      <td>0.188380</td>\n",
       "      <td>True</td>\n",
       "      <td>5.653405</td>\n",
       "      <td>0.596084</td>\n",
       "      <td>1.677615</td>\n",
       "    </tr>\n",
       "    <tr>\n",
       "      <th>4</th>\n",
       "      <td>-0.600442</td>\n",
       "      <td>True</td>\n",
       "      <td>5.486427</td>\n",
       "      <td>0.321480</td>\n",
       "      <td>3.110609</td>\n",
       "    </tr>\n",
       "    <tr>\n",
       "      <th>...</th>\n",
       "      <td>...</td>\n",
       "      <td>...</td>\n",
       "      <td>...</td>\n",
       "      <td>...</td>\n",
       "      <td>...</td>\n",
       "    </tr>\n",
       "    <tr>\n",
       "      <th>995</th>\n",
       "      <td>-0.593921</td>\n",
       "      <td>True</td>\n",
       "      <td>5.125966</td>\n",
       "      <td>0.323532</td>\n",
       "      <td>3.090880</td>\n",
       "    </tr>\n",
       "    <tr>\n",
       "      <th>996</th>\n",
       "      <td>0.137799</td>\n",
       "      <td>True</td>\n",
       "      <td>4.172470</td>\n",
       "      <td>0.578428</td>\n",
       "      <td>1.728824</td>\n",
       "    </tr>\n",
       "    <tr>\n",
       "      <th>997</th>\n",
       "      <td>1.327460</td>\n",
       "      <td>True</td>\n",
       "      <td>4.473735</td>\n",
       "      <td>0.883892</td>\n",
       "      <td>1.131360</td>\n",
       "    </tr>\n",
       "    <tr>\n",
       "      <th>998</th>\n",
       "      <td>0.440047</td>\n",
       "      <td>True</td>\n",
       "      <td>3.777446</td>\n",
       "      <td>0.679539</td>\n",
       "      <td>1.471585</td>\n",
       "    </tr>\n",
       "    <tr>\n",
       "      <th>999</th>\n",
       "      <td>0.262613</td>\n",
       "      <td>True</td>\n",
       "      <td>3.445222</td>\n",
       "      <td>0.621541</td>\n",
       "      <td>1.608904</td>\n",
       "    </tr>\n",
       "  </tbody>\n",
       "</table>\n",
       "<p>1000 rows × 5 columns</p>\n",
       "</div>"
      ],
      "text/plain": [
       "           W0    v0         y  propensity_score    weight\n",
       "0    1.196647  True  5.599873          0.863114  1.158595\n",
       "1    0.583576  True  5.601883          0.722798  1.383512\n",
       "2    1.798500  True  4.547092          0.937512  1.066653\n",
       "3    0.188380  True  5.653405          0.596084  1.677615\n",
       "4   -0.600442  True  5.486427          0.321480  3.110609\n",
       "..        ...   ...       ...               ...       ...\n",
       "995 -0.593921  True  5.125966          0.323532  3.090880\n",
       "996  0.137799  True  4.172470          0.578428  1.728824\n",
       "997  1.327460  True  4.473735          0.883892  1.131360\n",
       "998  0.440047  True  3.777446          0.679539  1.471585\n",
       "999  0.262613  True  3.445222          0.621541  1.608904\n",
       "\n",
       "[1000 rows x 5 columns]"
      ]
     },
     "execution_count": 7,
     "metadata": {},
     "output_type": "execute_result"
    }
   ],
   "source": [
    "cdf_1"
   ]
  },
  {
   "cell_type": "markdown",
   "metadata": {},
   "source": [
    "## Comparing the estimate to Linear Regression\n",
    "First, estimating the effect using the causal data frame, and the 95% confidence interval."
   ]
  },
  {
   "cell_type": "code",
   "execution_count": 8,
   "metadata": {
    "execution": {
     "iopub.execute_input": "2022-11-11T17:31:49.868389Z",
     "iopub.status.busy": "2022-11-11T17:31:49.868038Z",
     "iopub.status.idle": "2022-11-11T17:31:49.955833Z",
     "shell.execute_reply": "2022-11-11T17:31:49.954800Z"
    }
   },
   "outputs": [
    {
     "data": {
      "image/png": "[encoded data removed]",
      "text/latex": [
       "$\\displaystyle 5.02233339594582$"
      ],
      "text/plain": [
       "5.022333395945818"
      ]
     },
     "execution_count": 8,
     "metadata": {},
     "output_type": "execute_result"
    }
   ],
   "source": [
    "(cdf_1['y'] - cdf_0['y']).mean()"
   ]
  },
  {
   "cell_type": "code",
   "execution_count": 9,
   "metadata": {
    "execution": {
     "iopub.execute_input": "2022-11-11T17:31:49.962085Z",
     "iopub.status.busy": "2022-11-11T17:31:49.961320Z",
     "iopub.status.idle": "2022-11-11T17:31:49.993864Z",
     "shell.execute_reply": "2022-11-11T17:31:49.992839Z"
    }
   },
   "outputs": [
    {
     "data": {
      "image/png": "[encoded data removed]",
      "text/latex": [
       "$\\displaystyle 0.0959998647890382$"
      ],
      "text/plain": [
       "0.09599986478903817"
      ]
     },
     "execution_count": 9,
     "metadata": {},
     "output_type": "execute_result"
    }
   ],
   "source": [
    "1.96*(cdf_1['y'] - cdf_0['y']).std() / np.sqrt(len(df))"
   ]
  },
  {
   "cell_type": "markdown",
   "metadata": {},
   "source": [
    "Comparing to the estimate from OLS."
   ]
  },
  {
   "cell_type": "code",
   "execution_count": 10,
   "metadata": {
    "execution": {
     "iopub.execute_input": "2022-11-11T17:31:49.998467Z",
     "iopub.status.busy": "2022-11-11T17:31:49.997909Z",
     "iopub.status.idle": "2022-11-11T17:31:50.022771Z",
     "shell.execute_reply": "2022-11-11T17:31:50.021743Z"
    }
   },
   "outputs": [
    {
     "data": {
      "text/html": [
       "<table class=\"simpletable\">\n",
       "<caption>OLS Regression Results</caption>\n",
       "<tr>\n",
       "  <th>Dep. Variable:</th>            <td>y</td>        <th>  R-squared (uncentered):</th>      <td>   0.956</td> \n",
       "</tr>\n",
       "<tr>\n",
       "  <th>Model:</th>                   <td>OLS</td>       <th>  Adj. R-squared (uncentered):</th> <td>   0.956</td> \n",
       "</tr>\n",
       "<tr>\n",
       "  <th>Method:</th>             <td>Least Squares</td>  <th>  F-statistic:       </th>          <td>1.096e+04</td>\n",
       "</tr>\n",
       "<tr>\n",
       "  <th>Date:</th>             <td>Fri, 11 Nov 2022</td> <th>  Prob (F-statistic):</th>           <td>  0.00</td>  \n",
       "</tr>\n",
       "<tr>\n",
       "  <th>Time:</th>                 <td>17:31:50</td>     <th>  Log-Likelihood:    </th>          <td> -1438.9</td> \n",
       "</tr>\n",
       "<tr>\n",
       "  <th>No. Observations:</th>      <td>  1000</td>      <th>  AIC:               </th>          <td>   2882.</td> \n",
       "</tr>\n",
       "<tr>\n",
       "  <th>Df Residuals:</th>          <td>   998</td>      <th>  BIC:               </th>          <td>   2892.</td> \n",
       "</tr>\n",
       "<tr>\n",
       "  <th>Df Model:</th>              <td>     2</td>      <th>                     </th>              <td> </td>    \n",
       "</tr>\n",
       "<tr>\n",
       "  <th>Covariance Type:</th>      <td>nonrobust</td>    <th>                     </th>              <td> </td>    \n",
       "</tr>\n",
       "</table>\n",
       "<table class=\"simpletable\">\n",
       "<tr>\n",
       "   <td></td>     <th>coef</th>     <th>std err</th>      <th>t</th>      <th>P>|t|</th>  <th>[0.025</th>    <th>0.975]</th>  \n",
       "</tr>\n",
       "<tr>\n",
       "  <th>x1</th> <td>    0.4161</td> <td>    0.036</td> <td>   11.590</td> <td> 0.000</td> <td>    0.346</td> <td>    0.487</td>\n",
       "</tr>\n",
       "<tr>\n",
       "  <th>x2</th> <td>    5.0342</td> <td>    0.058</td> <td>   87.335</td> <td> 0.000</td> <td>    4.921</td> <td>    5.147</td>\n",
       "</tr>\n",
       "</table>\n",
       "<table class=\"simpletable\">\n",
       "<tr>\n",
       "  <th>Omnibus:</th>       <td> 2.943</td> <th>  Durbin-Watson:     </th> <td>   2.041</td>\n",
       "</tr>\n",
       "<tr>\n",
       "  <th>Prob(Omnibus):</th> <td> 0.230</td> <th>  Jarque-Bera (JB):  </th> <td>   2.872</td>\n",
       "</tr>\n",
       "<tr>\n",
       "  <th>Skew:</th>          <td>-0.091</td> <th>  Prob(JB):          </th> <td>   0.238</td>\n",
       "</tr>\n",
       "<tr>\n",
       "  <th>Kurtosis:</th>      <td> 3.190</td> <th>  Cond. No.          </th> <td>    3.10</td>\n",
       "</tr>\n",
       "</table><br/><br/>Notes:<br/>[1] R² is computed without centering (uncentered) since the model does not contain a constant.<br/>[2] Standard Errors assume that the covariance matrix of the errors is correctly specified."
      ],
      "text/plain": [
       "<class 'statsmodels.iolib.summary.Summary'>\n",
       "\"\"\"\n",
       "                                 OLS Regression Results                                \n",
       "=======================================================================================\n",
       "Dep. Variable:                      y   R-squared (uncentered):                   0.956\n",
       "Model:                            OLS   Adj. R-squared (uncentered):              0.956\n",
       "Method:                 Least Squares   F-statistic:                          1.096e+04\n",
       "Date:                Fri, 11 Nov 2022   Prob (F-statistic):                        0.00\n",
       "Time:                        17:31:50   Log-Likelihood:                         -1438.9\n",
       "No. Observations:                1000   AIC:                                      2882.\n",
       "Df Residuals:                     998   BIC:                                      2892.\n",
       "Df Model:                           2                                                  \n",
       "Covariance Type:            nonrobust                                                  \n",
       "==============================================================================\n",
       "                 coef    std err          t      P>|t|      [0.025      0.975]\n",
       "------------------------------------------------------------------------------\n",
       "x1             0.4161      0.036     11.590      0.000       0.346       0.487\n",
       "x2             5.0342      0.058     87.335      0.000       4.921       5.147\n",
       "==============================================================================\n",
       "Omnibus:                        2.943   Durbin-Watson:                   2.041\n",
       "Prob(Omnibus):                  0.230   Jarque-Bera (JB):                2.872\n",
       "Skew:                          -0.091   Prob(JB):                        0.238\n",
       "Kurtosis:                       3.190   Cond. No.                         3.10\n",
       "==============================================================================\n",
       "\n",
       "Notes:\n",
       "[1] R² is computed without centering (uncentered) since the model does not contain a constant.\n",
       "[2] Standard Errors assume that the covariance matrix of the errors is correctly specified.\n",
       "\"\"\""
      ]
     },
     "execution_count": 10,
     "metadata": {},
     "output_type": "execute_result"
    }
   ],
   "source": [
    "model = OLS(np.asarray(df[outcome]), np.asarray(df[[common_cause, treatment]], dtype=np.float64))\n",
    "result = model.fit()\n",
    "result.summary()"
   ]
  }
 ],
 "metadata": {
  "kernelspec": {
   "display_name": "Python 3",
   "language": "python",
   "name": "python3"
  },
  "language_info": {
   "codemirror_mode": {
    "name": "ipython",
    "version": 3
   },
   "file_extension": ".py",
   "mimetype": "text/x-python",
   "name": "python",
   "nbconvert_exporter": "python",
   "pygments_lexer": "ipython3",
   "version": "3.8.10"
  },
  "toc": {
   "base_numbering": 1,
   "nav_menu": {},
   "number_sections": false,
   "sideBar": true,
   "skip_h1_title": true,
   "title_cell": "Table of Contents",
   "title_sidebar": "Contents",
   "toc_cell": false,
   "toc_position": {},
   "toc_section_display": true,
   "toc_window_display": false
  }
 },
 "nbformat": 4,
 "nbformat_minor": 4
}
