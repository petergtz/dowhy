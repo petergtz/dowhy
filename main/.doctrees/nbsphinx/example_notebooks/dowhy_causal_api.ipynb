{
 "cells": [
  {
   "cell_type": "markdown",
   "metadata": {},
   "source": [
    "# Demo for the DoWhy causal API\n",
    "We show a simple example of adding a causal extension to any dataframe. "
   ]
  },
  {
   "cell_type": "code",
   "execution_count": 1,
   "metadata": {
    "execution": {
     "iopub.execute_input": "2022-11-16T11:56:11.057028Z",
     "iopub.status.busy": "2022-11-16T11:56:11.056713Z",
     "iopub.status.idle": "2022-11-16T11:56:13.065331Z",
     "shell.execute_reply": "2022-11-16T11:56:13.064455Z"
    }
   },
   "outputs": [],
   "source": [
    "import dowhy.datasets\n",
    "import dowhy.api\n",
    "\n",
    "import numpy as np\n",
    "import pandas as pd\n",
    "\n",
    "from statsmodels.api import OLS"
   ]
  },
  {
   "cell_type": "code",
   "execution_count": 2,
   "metadata": {
    "execution": {
     "iopub.execute_input": "2022-11-16T11:56:13.069738Z",
     "iopub.status.busy": "2022-11-16T11:56:13.069087Z",
     "iopub.status.idle": "2022-11-16T11:56:13.113634Z",
     "shell.execute_reply": "2022-11-16T11:56:13.112604Z"
    }
   },
   "outputs": [
    {
     "data": {
      "text/html": [
       "<div>\n",
       "<style scoped>\n",
       "    .dataframe tbody tr th:only-of-type {\n",
       "        vertical-align: middle;\n",
       "    }\n",
       "\n",
       "    .dataframe tbody tr th {\n",
       "        vertical-align: top;\n",
       "    }\n",
       "\n",
       "    .dataframe thead th {\n",
       "        text-align: right;\n",
       "    }\n",
       "</style>\n",
       "<table border=\"1\" class=\"dataframe\">\n",
       "  <thead>\n",
       "    <tr style=\"text-align: right;\">\n",
       "      <th></th>\n",
       "      <th>W0</th>\n",
       "      <th>v0</th>\n",
       "      <th>y</th>\n",
       "    </tr>\n",
       "  </thead>\n",
       "  <tbody>\n",
       "    <tr>\n",
       "      <th>0</th>\n",
       "      <td>0.253025</td>\n",
       "      <td>True</td>\n",
       "      <td>7.730459</td>\n",
       "    </tr>\n",
       "    <tr>\n",
       "      <th>1</th>\n",
       "      <td>0.829617</td>\n",
       "      <td>False</td>\n",
       "      <td>0.665477</td>\n",
       "    </tr>\n",
       "    <tr>\n",
       "      <th>2</th>\n",
       "      <td>-0.365939</td>\n",
       "      <td>True</td>\n",
       "      <td>5.507432</td>\n",
       "    </tr>\n",
       "    <tr>\n",
       "      <th>3</th>\n",
       "      <td>1.907286</td>\n",
       "      <td>False</td>\n",
       "      <td>1.179113</td>\n",
       "    </tr>\n",
       "    <tr>\n",
       "      <th>4</th>\n",
       "      <td>0.896438</td>\n",
       "      <td>True</td>\n",
       "      <td>7.636563</td>\n",
       "    </tr>\n",
       "    <tr>\n",
       "      <th>...</th>\n",
       "      <td>...</td>\n",
       "      <td>...</td>\n",
       "      <td>...</td>\n",
       "    </tr>\n",
       "    <tr>\n",
       "      <th>995</th>\n",
       "      <td>0.713612</td>\n",
       "      <td>True</td>\n",
       "      <td>6.358418</td>\n",
       "    </tr>\n",
       "    <tr>\n",
       "      <th>996</th>\n",
       "      <td>0.489737</td>\n",
       "      <td>True</td>\n",
       "      <td>4.386484</td>\n",
       "    </tr>\n",
       "    <tr>\n",
       "      <th>997</th>\n",
       "      <td>-0.054579</td>\n",
       "      <td>False</td>\n",
       "      <td>1.051083</td>\n",
       "    </tr>\n",
       "    <tr>\n",
       "      <th>998</th>\n",
       "      <td>-0.758831</td>\n",
       "      <td>False</td>\n",
       "      <td>0.219016</td>\n",
       "    </tr>\n",
       "    <tr>\n",
       "      <th>999</th>\n",
       "      <td>-0.395746</td>\n",
       "      <td>True</td>\n",
       "      <td>5.276849</td>\n",
       "    </tr>\n",
       "  </tbody>\n",
       "</table>\n",
       "<p>1000 rows × 3 columns</p>\n",
       "</div>"
      ],
      "text/plain": [
       "           W0     v0         y\n",
       "0    0.253025   True  7.730459\n",
       "1    0.829617  False  0.665477\n",
       "2   -0.365939   True  5.507432\n",
       "3    1.907286  False  1.179113\n",
       "4    0.896438   True  7.636563\n",
       "..        ...    ...       ...\n",
       "995  0.713612   True  6.358418\n",
       "996  0.489737   True  4.386484\n",
       "997 -0.054579  False  1.051083\n",
       "998 -0.758831  False  0.219016\n",
       "999 -0.395746   True  5.276849\n",
       "\n",
       "[1000 rows x 3 columns]"
      ]
     },
     "execution_count": 2,
     "metadata": {},
     "output_type": "execute_result"
    }
   ],
   "source": [
    "data = dowhy.datasets.linear_dataset(beta=5,\n",
    "        num_common_causes=1,\n",
    "        num_instruments = 0,\n",
    "        num_samples=1000,\n",
    "        treatment_is_binary=True)\n",
    "df = data['df']\n",
    "df['y'] = df['y'] + np.random.normal(size=len(df)) # Adding noise to data. Without noise, the variance in Y|X, Z is zero, and mcmc fails.\n",
    "#data['dot_graph'] = 'digraph { v ->y;X0-> v;X0-> y;}'\n",
    "\n",
    "treatment= data[\"treatment_name\"][0]\n",
    "outcome = data[\"outcome_name\"][0]\n",
    "common_cause = data[\"common_causes_names\"][0]\n",
    "df"
   ]
  },
  {
   "cell_type": "code",
   "execution_count": 3,
   "metadata": {
    "execution": {
     "iopub.execute_input": "2022-11-16T11:56:13.116675Z",
     "iopub.status.busy": "2022-11-16T11:56:13.116442Z",
     "iopub.status.idle": "2022-11-16T11:56:13.276512Z",
     "shell.execute_reply": "2022-11-16T11:56:13.275905Z"
    }
   },
   "outputs": [
    {
     "data": {
      "text/plain": [
       "<AxesSubplot: xlabel='v0'>"
      ]
     },
     "execution_count": 3,
     "metadata": {},
     "output_type": "execute_result"
    },
    {
     "data": {
      "image/png": "[encoded data removed]",
      "text/plain": [
       "<Figure size 640x480 with 1 Axes>"
      ]
     },
     "metadata": {},
     "output_type": "display_data"
    }
   ],
   "source": [
    "# data['df'] is just a regular pandas.DataFrame\n",
    "df.causal.do(x=treatment,\n",
    "                     variable_types={treatment: 'b', outcome: 'c', common_cause: 'c'},\n",
    "                     outcome=outcome,\n",
    "                     common_causes=[common_cause],\n",
    "                     proceed_when_unidentifiable=True).groupby(treatment).mean().plot(y=outcome, kind='bar')"
   ]
  },
  {
   "cell_type": "code",
   "execution_count": 4,
   "metadata": {
    "execution": {
     "iopub.execute_input": "2022-11-16T11:56:13.280102Z",
     "iopub.status.busy": "2022-11-16T11:56:13.279442Z",
     "iopub.status.idle": "2022-11-16T11:56:13.400169Z",
     "shell.execute_reply": "2022-11-16T11:56:13.399526Z"
    }
   },
   "outputs": [
    {
     "data": {
      "text/plain": [
       "<AxesSubplot: xlabel='v0'>"
      ]
     },
     "execution_count": 4,
     "metadata": {},
     "output_type": "execute_result"
    },
    {
     "data": {
      "image/png": "[encoded data removed]",
      "text/plain": [
       "<Figure size 640x480 with 1 Axes>"
      ]
     },
     "metadata": {},
     "output_type": "display_data"
    }
   ],
   "source": [
    "df.causal.do(x={treatment: 1}, \n",
    "              variable_types={treatment:'b', outcome: 'c', common_cause: 'c'}, \n",
    "              outcome=outcome,\n",
    "              method='weighting', \n",
    "              common_causes=[common_cause],\n",
    "              proceed_when_unidentifiable=True).groupby(treatment).mean().plot(y=outcome, kind='bar')"
   ]
  },
  {
   "cell_type": "code",
   "execution_count": 5,
   "metadata": {
    "execution": {
     "iopub.execute_input": "2022-11-16T11:56:13.403467Z",
     "iopub.status.busy": "2022-11-16T11:56:13.403001Z",
     "iopub.status.idle": "2022-11-16T11:56:13.435578Z",
     "shell.execute_reply": "2022-11-16T11:56:13.434888Z"
    }
   },
   "outputs": [],
   "source": [
    "cdf_1 = df.causal.do(x={treatment: 1}, \n",
    "              variable_types={treatment: 'b', outcome: 'c', common_cause: 'c'}, \n",
    "              outcome=outcome, \n",
    "              dot_graph=data['dot_graph'],\n",
    "              proceed_when_unidentifiable=True)\n",
    "\n",
    "cdf_0 = df.causal.do(x={treatment: 0}, \n",
    "              variable_types={treatment: 'b', outcome: 'c', common_cause: 'c'}, \n",
    "              outcome=outcome, \n",
    "              dot_graph=data['dot_graph'],\n",
    "              proceed_when_unidentifiable=True)\n"
   ]
  },
  {
   "cell_type": "code",
   "execution_count": 6,
   "metadata": {
    "execution": {
     "iopub.execute_input": "2022-11-16T11:56:13.438893Z",
     "iopub.status.busy": "2022-11-16T11:56:13.438658Z",
     "iopub.status.idle": "2022-11-16T11:56:13.449730Z",
     "shell.execute_reply": "2022-11-16T11:56:13.449091Z"
    },
    "scrolled": true
   },
   "outputs": [
    {
     "data": {
      "text/html": [
       "<div>\n",
       "<style scoped>\n",
       "    .dataframe tbody tr th:only-of-type {\n",
       "        vertical-align: middle;\n",
       "    }\n",
       "\n",
       "    .dataframe tbody tr th {\n",
       "        vertical-align: top;\n",
       "    }\n",
       "\n",
       "    .dataframe thead th {\n",
       "        text-align: right;\n",
       "    }\n",
       "</style>\n",
       "<table border=\"1\" class=\"dataframe\">\n",
       "  <thead>\n",
       "    <tr style=\"text-align: right;\">\n",
       "      <th></th>\n",
       "      <th>W0</th>\n",
       "      <th>v0</th>\n",
       "      <th>y</th>\n",
       "      <th>propensity_score</th>\n",
       "      <th>weight</th>\n",
       "    </tr>\n",
       "  </thead>\n",
       "  <tbody>\n",
       "    <tr>\n",
       "      <th>0</th>\n",
       "      <td>-0.565599</td>\n",
       "      <td>False</td>\n",
       "      <td>-1.536105</td>\n",
       "      <td>0.674490</td>\n",
       "      <td>1.482603</td>\n",
       "    </tr>\n",
       "    <tr>\n",
       "      <th>1</th>\n",
       "      <td>0.803470</td>\n",
       "      <td>False</td>\n",
       "      <td>0.921438</td>\n",
       "      <td>0.247767</td>\n",
       "      <td>4.036051</td>\n",
       "    </tr>\n",
       "    <tr>\n",
       "      <th>2</th>\n",
       "      <td>-1.204674</td>\n",
       "      <td>False</td>\n",
       "      <td>0.312473</td>\n",
       "      <td>0.830201</td>\n",
       "      <td>1.204528</td>\n",
       "    </tr>\n",
       "    <tr>\n",
       "      <th>3</th>\n",
       "      <td>0.697675</td>\n",
       "      <td>False</td>\n",
       "      <td>0.115949</td>\n",
       "      <td>0.275192</td>\n",
       "      <td>3.633830</td>\n",
       "    </tr>\n",
       "    <tr>\n",
       "      <th>4</th>\n",
       "      <td>1.563104</td>\n",
       "      <td>False</td>\n",
       "      <td>0.088157</td>\n",
       "      <td>0.106120</td>\n",
       "      <td>9.423279</td>\n",
       "    </tr>\n",
       "    <tr>\n",
       "      <th>...</th>\n",
       "      <td>...</td>\n",
       "      <td>...</td>\n",
       "      <td>...</td>\n",
       "      <td>...</td>\n",
       "      <td>...</td>\n",
       "    </tr>\n",
       "    <tr>\n",
       "      <th>995</th>\n",
       "      <td>1.563104</td>\n",
       "      <td>False</td>\n",
       "      <td>0.088157</td>\n",
       "      <td>0.106120</td>\n",
       "      <td>9.423279</td>\n",
       "    </tr>\n",
       "    <tr>\n",
       "      <th>996</th>\n",
       "      <td>0.887526</td>\n",
       "      <td>False</td>\n",
       "      <td>2.034403</td>\n",
       "      <td>0.227326</td>\n",
       "      <td>4.398970</td>\n",
       "    </tr>\n",
       "    <tr>\n",
       "      <th>997</th>\n",
       "      <td>1.259145</td>\n",
       "      <td>False</td>\n",
       "      <td>0.120230</td>\n",
       "      <td>0.151526</td>\n",
       "      <td>6.599519</td>\n",
       "    </tr>\n",
       "    <tr>\n",
       "      <th>998</th>\n",
       "      <td>0.361272</td>\n",
       "      <td>False</td>\n",
       "      <td>-0.762479</td>\n",
       "      <td>0.373662</td>\n",
       "      <td>2.676214</td>\n",
       "    </tr>\n",
       "    <tr>\n",
       "      <th>999</th>\n",
       "      <td>0.714846</td>\n",
       "      <td>False</td>\n",
       "      <td>-0.465281</td>\n",
       "      <td>0.270615</td>\n",
       "      <td>3.695289</td>\n",
       "    </tr>\n",
       "  </tbody>\n",
       "</table>\n",
       "<p>1000 rows × 5 columns</p>\n",
       "</div>"
      ],
      "text/plain": [
       "           W0     v0         y  propensity_score    weight\n",
       "0   -0.565599  False -1.536105          0.674490  1.482603\n",
       "1    0.803470  False  0.921438          0.247767  4.036051\n",
       "2   -1.204674  False  0.312473          0.830201  1.204528\n",
       "3    0.697675  False  0.115949          0.275192  3.633830\n",
       "4    1.563104  False  0.088157          0.106120  9.423279\n",
       "..        ...    ...       ...               ...       ...\n",
       "995  1.563104  False  0.088157          0.106120  9.423279\n",
       "996  0.887526  False  2.034403          0.227326  4.398970\n",
       "997  1.259145  False  0.120230          0.151526  6.599519\n",
       "998  0.361272  False -0.762479          0.373662  2.676214\n",
       "999  0.714846  False -0.465281          0.270615  3.695289\n",
       "\n",
       "[1000 rows x 5 columns]"
      ]
     },
     "execution_count": 6,
     "metadata": {},
     "output_type": "execute_result"
    }
   ],
   "source": [
    "cdf_0"
   ]
  },
  {
   "cell_type": "code",
   "execution_count": 7,
   "metadata": {
    "execution": {
     "iopub.execute_input": "2022-11-16T11:56:13.452586Z",
     "iopub.status.busy": "2022-11-16T11:56:13.452365Z",
     "iopub.status.idle": "2022-11-16T11:56:13.462215Z",
     "shell.execute_reply": "2022-11-16T11:56:13.461545Z"
    }
   },
   "outputs": [
    {
     "data": {
      "text/html": [
       "<div>\n",
       "<style scoped>\n",
       "    .dataframe tbody tr th:only-of-type {\n",
       "        vertical-align: middle;\n",
       "    }\n",
       "\n",
       "    .dataframe tbody tr th {\n",
       "        vertical-align: top;\n",
       "    }\n",
       "\n",
       "    .dataframe thead th {\n",
       "        text-align: right;\n",
       "    }\n",
       "</style>\n",
       "<table border=\"1\" class=\"dataframe\">\n",
       "  <thead>\n",
       "    <tr style=\"text-align: right;\">\n",
       "      <th></th>\n",
       "      <th>W0</th>\n",
       "      <th>v0</th>\n",
       "      <th>y</th>\n",
       "      <th>propensity_score</th>\n",
       "      <th>weight</th>\n",
       "    </tr>\n",
       "  </thead>\n",
       "  <tbody>\n",
       "    <tr>\n",
       "      <th>0</th>\n",
       "      <td>-0.745462</td>\n",
       "      <td>True</td>\n",
       "      <td>4.362752</td>\n",
       "      <td>0.274845</td>\n",
       "      <td>3.638413</td>\n",
       "    </tr>\n",
       "    <tr>\n",
       "      <th>1</th>\n",
       "      <td>1.549672</td>\n",
       "      <td>True</td>\n",
       "      <td>6.250553</td>\n",
       "      <td>0.892156</td>\n",
       "      <td>1.120880</td>\n",
       "    </tr>\n",
       "    <tr>\n",
       "      <th>2</th>\n",
       "      <td>0.058439</td>\n",
       "      <td>True</td>\n",
       "      <td>5.099115</td>\n",
       "      <td>0.527405</td>\n",
       "      <td>1.896075</td>\n",
       "    </tr>\n",
       "    <tr>\n",
       "      <th>3</th>\n",
       "      <td>1.464874</td>\n",
       "      <td>True</td>\n",
       "      <td>8.018346</td>\n",
       "      <td>0.880697</td>\n",
       "      <td>1.135465</td>\n",
       "    </tr>\n",
       "    <tr>\n",
       "      <th>4</th>\n",
       "      <td>-0.405352</td>\n",
       "      <td>True</td>\n",
       "      <td>5.173181</td>\n",
       "      <td>0.374421</td>\n",
       "      <td>2.670788</td>\n",
       "    </tr>\n",
       "    <tr>\n",
       "      <th>...</th>\n",
       "      <td>...</td>\n",
       "      <td>...</td>\n",
       "      <td>...</td>\n",
       "      <td>...</td>\n",
       "      <td>...</td>\n",
       "    </tr>\n",
       "    <tr>\n",
       "      <th>995</th>\n",
       "      <td>-0.092552</td>\n",
       "      <td>True</td>\n",
       "      <td>5.622993</td>\n",
       "      <td>0.476742</td>\n",
       "      <td>2.097571</td>\n",
       "    </tr>\n",
       "    <tr>\n",
       "      <th>996</th>\n",
       "      <td>-0.407226</td>\n",
       "      <td>True</td>\n",
       "      <td>3.774108</td>\n",
       "      <td>0.373832</td>\n",
       "      <td>2.674999</td>\n",
       "    </tr>\n",
       "    <tr>\n",
       "      <th>997</th>\n",
       "      <td>1.599512</td>\n",
       "      <td>True</td>\n",
       "      <td>5.420082</td>\n",
       "      <td>0.898431</td>\n",
       "      <td>1.113052</td>\n",
       "    </tr>\n",
       "    <tr>\n",
       "      <th>998</th>\n",
       "      <td>0.702576</td>\n",
       "      <td>True</td>\n",
       "      <td>6.032835</td>\n",
       "      <td>0.726119</td>\n",
       "      <td>1.377184</td>\n",
       "    </tr>\n",
       "    <tr>\n",
       "      <th>999</th>\n",
       "      <td>-1.509550</td>\n",
       "      <td>True</td>\n",
       "      <td>4.021194</td>\n",
       "      <td>0.119560</td>\n",
       "      <td>8.364000</td>\n",
       "    </tr>\n",
       "  </tbody>\n",
       "</table>\n",
       "<p>1000 rows × 5 columns</p>\n",
       "</div>"
      ],
      "text/plain": [
       "           W0    v0         y  propensity_score    weight\n",
       "0   -0.745462  True  4.362752          0.274845  3.638413\n",
       "1    1.549672  True  6.250553          0.892156  1.120880\n",
       "2    0.058439  True  5.099115          0.527405  1.896075\n",
       "3    1.464874  True  8.018346          0.880697  1.135465\n",
       "4   -0.405352  True  5.173181          0.374421  2.670788\n",
       "..        ...   ...       ...               ...       ...\n",
       "995 -0.092552  True  5.622993          0.476742  2.097571\n",
       "996 -0.407226  True  3.774108          0.373832  2.674999\n",
       "997  1.599512  True  5.420082          0.898431  1.113052\n",
       "998  0.702576  True  6.032835          0.726119  1.377184\n",
       "999 -1.509550  True  4.021194          0.119560  8.364000\n",
       "\n",
       "[1000 rows x 5 columns]"
      ]
     },
     "execution_count": 7,
     "metadata": {},
     "output_type": "execute_result"
    }
   ],
   "source": [
    "cdf_1"
   ]
  },
  {
   "cell_type": "markdown",
   "metadata": {},
   "source": [
    "## Comparing the estimate to Linear Regression\n",
    "First, estimating the effect using the causal data frame, and the 95% confidence interval."
   ]
  },
  {
   "cell_type": "code",
   "execution_count": 8,
   "metadata": {
    "execution": {
     "iopub.execute_input": "2022-11-16T11:56:13.466116Z",
     "iopub.status.busy": "2022-11-16T11:56:13.465514Z",
     "iopub.status.idle": "2022-11-16T11:56:13.525117Z",
     "shell.execute_reply": "2022-11-16T11:56:13.524388Z"
    }
   },
   "outputs": [
    {
     "data": {
      "image/png": "[encoded data removed]",
      "text/latex": [
       "$\\displaystyle 5.16440412073627$"
      ],
      "text/plain": [
       "5.1644041207362665"
      ]
     },
     "execution_count": 8,
     "metadata": {},
     "output_type": "execute_result"
    }
   ],
   "source": [
    "(cdf_1['y'] - cdf_0['y']).mean()"
   ]
  },
  {
   "cell_type": "code",
   "execution_count": 9,
   "metadata": {
    "execution": {
     "iopub.execute_input": "2022-11-16T11:56:13.528501Z",
     "iopub.status.busy": "2022-11-16T11:56:13.528031Z",
     "iopub.status.idle": "2022-11-16T11:56:13.549553Z",
     "shell.execute_reply": "2022-11-16T11:56:13.548921Z"
    }
   },
   "outputs": [
    {
     "data": {
      "image/png": "[encoded data removed]",
      "text/latex": [
       "$\\displaystyle 0.104257154202835$"
      ],
      "text/plain": [
       "0.10425715420283548"
      ]
     },
     "execution_count": 9,
     "metadata": {},
     "output_type": "execute_result"
    }
   ],
   "source": [
    "1.96*(cdf_1['y'] - cdf_0['y']).std() / np.sqrt(len(df))"
   ]
  },
  {
   "cell_type": "markdown",
   "metadata": {},
   "source": [
    "Comparing to the estimate from OLS."
   ]
  },
  {
   "cell_type": "code",
   "execution_count": 10,
   "metadata": {
    "execution": {
     "iopub.execute_input": "2022-11-16T11:56:13.553146Z",
     "iopub.status.busy": "2022-11-16T11:56:13.552720Z",
     "iopub.status.idle": "2022-11-16T11:56:13.571289Z",
     "shell.execute_reply": "2022-11-16T11:56:13.570722Z"
    }
   },
   "outputs": [
    {
     "data": {
      "text/html": [
       "<table class=\"simpletable\">\n",
       "<caption>OLS Regression Results</caption>\n",
       "<tr>\n",
       "  <th>Dep. Variable:</th>            <td>y</td>        <th>  R-squared (uncentered):</th>      <td>   0.955</td> \n",
       "</tr>\n",
       "<tr>\n",
       "  <th>Model:</th>                   <td>OLS</td>       <th>  Adj. R-squared (uncentered):</th> <td>   0.955</td> \n",
       "</tr>\n",
       "<tr>\n",
       "  <th>Method:</th>             <td>Least Squares</td>  <th>  F-statistic:       </th>          <td>1.059e+04</td>\n",
       "</tr>\n",
       "<tr>\n",
       "  <th>Date:</th>             <td>Wed, 16 Nov 2022</td> <th>  Prob (F-statistic):</th>           <td>  0.00</td>  \n",
       "</tr>\n",
       "<tr>\n",
       "  <th>Time:</th>                 <td>11:56:13</td>     <th>  Log-Likelihood:    </th>          <td> -1419.0</td> \n",
       "</tr>\n",
       "<tr>\n",
       "  <th>No. Observations:</th>      <td>  1000</td>      <th>  AIC:               </th>          <td>   2842.</td> \n",
       "</tr>\n",
       "<tr>\n",
       "  <th>Df Residuals:</th>          <td>   998</td>      <th>  BIC:               </th>          <td>   2852.</td> \n",
       "</tr>\n",
       "<tr>\n",
       "  <th>Df Model:</th>              <td>     2</td>      <th>                     </th>              <td> </td>    \n",
       "</tr>\n",
       "<tr>\n",
       "  <th>Covariance Type:</th>      <td>nonrobust</td>    <th>                     </th>              <td> </td>    \n",
       "</tr>\n",
       "</table>\n",
       "<table class=\"simpletable\">\n",
       "<tr>\n",
       "   <td></td>     <th>coef</th>     <th>std err</th>      <th>t</th>      <th>P>|t|</th>  <th>[0.025</th>    <th>0.975]</th>  \n",
       "</tr>\n",
       "<tr>\n",
       "  <th>x1</th> <td>    0.6423</td> <td>    0.036</td> <td>   17.793</td> <td> 0.000</td> <td>    0.571</td> <td>    0.713</td>\n",
       "</tr>\n",
       "<tr>\n",
       "  <th>x2</th> <td>    5.1138</td> <td>    0.052</td> <td>   99.049</td> <td> 0.000</td> <td>    5.013</td> <td>    5.215</td>\n",
       "</tr>\n",
       "</table>\n",
       "<table class=\"simpletable\">\n",
       "<tr>\n",
       "  <th>Omnibus:</th>       <td> 0.503</td> <th>  Durbin-Watson:     </th> <td>   1.969</td>\n",
       "</tr>\n",
       "<tr>\n",
       "  <th>Prob(Omnibus):</th> <td> 0.778</td> <th>  Jarque-Bera (JB):  </th> <td>   0.490</td>\n",
       "</tr>\n",
       "<tr>\n",
       "  <th>Skew:</th>          <td> 0.054</td> <th>  Prob(JB):          </th> <td>   0.783</td>\n",
       "</tr>\n",
       "<tr>\n",
       "  <th>Kurtosis:</th>      <td> 2.996</td> <th>  Cond. No.          </th> <td>    2.36</td>\n",
       "</tr>\n",
       "</table><br/><br/>Notes:<br/>[1] R² is computed without centering (uncentered) since the model does not contain a constant.<br/>[2] Standard Errors assume that the covariance matrix of the errors is correctly specified."
      ],
      "text/plain": [
       "<class 'statsmodels.iolib.summary.Summary'>\n",
       "\"\"\"\n",
       "                                 OLS Regression Results                                \n",
       "=======================================================================================\n",
       "Dep. Variable:                      y   R-squared (uncentered):                   0.955\n",
       "Model:                            OLS   Adj. R-squared (uncentered):              0.955\n",
       "Method:                 Least Squares   F-statistic:                          1.059e+04\n",
       "Date:                Wed, 16 Nov 2022   Prob (F-statistic):                        0.00\n",
       "Time:                        11:56:13   Log-Likelihood:                         -1419.0\n",
       "No. Observations:                1000   AIC:                                      2842.\n",
       "Df Residuals:                     998   BIC:                                      2852.\n",
       "Df Model:                           2                                                  \n",
       "Covariance Type:            nonrobust                                                  \n",
       "==============================================================================\n",
       "                 coef    std err          t      P>|t|      [0.025      0.975]\n",
       "------------------------------------------------------------------------------\n",
       "x1             0.6423      0.036     17.793      0.000       0.571       0.713\n",
       "x2             5.1138      0.052     99.049      0.000       5.013       5.215\n",
       "==============================================================================\n",
       "Omnibus:                        0.503   Durbin-Watson:                   1.969\n",
       "Prob(Omnibus):                  0.778   Jarque-Bera (JB):                0.490\n",
       "Skew:                           0.054   Prob(JB):                        0.783\n",
       "Kurtosis:                       2.996   Cond. No.                         2.36\n",
       "==============================================================================\n",
       "\n",
       "Notes:\n",
       "[1] R² is computed without centering (uncentered) since the model does not contain a constant.\n",
       "[2] Standard Errors assume that the covariance matrix of the errors is correctly specified.\n",
       "\"\"\""
      ]
     },
     "execution_count": 10,
     "metadata": {},
     "output_type": "execute_result"
    }
   ],
   "source": [
    "model = OLS(np.asarray(df[outcome]), np.asarray(df[[common_cause, treatment]], dtype=np.float64))\n",
    "result = model.fit()\n",
    "result.summary()"
   ]
  }
 ],
 "metadata": {
  "kernelspec": {
   "display_name": "Python 3",
   "language": "python",
   "name": "python3"
  },
  "language_info": {
   "codemirror_mode": {
    "name": "ipython",
    "version": 3
   },
   "file_extension": ".py",
   "mimetype": "text/x-python",
   "name": "python",
   "nbconvert_exporter": "python",
   "pygments_lexer": "ipython3",
   "version": "3.8.10"
  },
  "toc": {
   "base_numbering": 1,
   "nav_menu": {},
   "number_sections": false,
   "sideBar": true,
   "skip_h1_title": true,
   "title_cell": "Table of Contents",
   "title_sidebar": "Contents",
   "toc_cell": false,
   "toc_position": {},
   "toc_section_display": true,
   "toc_window_display": false
  }
 },
 "nbformat": 4,
 "nbformat_minor": 4
}
