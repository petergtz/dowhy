{
 "cells": [
  {
   "cell_type": "markdown",
   "metadata": {},
   "source": [
    "# Demo for the DoWhy causal API\n",
    "We show a simple example of adding a causal extension to any dataframe. "
   ]
  },
  {
   "cell_type": "code",
   "execution_count": 1,
   "metadata": {
    "execution": {
     "iopub.execute_input": "2022-11-16T12:08:43.834402Z",
     "iopub.status.busy": "2022-11-16T12:08:43.834008Z",
     "iopub.status.idle": "2022-11-16T12:08:45.621363Z",
     "shell.execute_reply": "2022-11-16T12:08:45.620710Z"
    }
   },
   "outputs": [],
   "source": [
    "import dowhy.datasets\n",
    "import dowhy.api\n",
    "\n",
    "import numpy as np\n",
    "import pandas as pd\n",
    "\n",
    "from statsmodels.api import OLS"
   ]
  },
  {
   "cell_type": "code",
   "execution_count": 2,
   "metadata": {
    "execution": {
     "iopub.execute_input": "2022-11-16T12:08:45.625048Z",
     "iopub.status.busy": "2022-11-16T12:08:45.624337Z",
     "iopub.status.idle": "2022-11-16T12:08:45.664568Z",
     "shell.execute_reply": "2022-11-16T12:08:45.663344Z"
    }
   },
   "outputs": [
    {
     "data": {
      "text/html": [
       "<div>\n",
       "<style scoped>\n",
       "    .dataframe tbody tr th:only-of-type {\n",
       "        vertical-align: middle;\n",
       "    }\n",
       "\n",
       "    .dataframe tbody tr th {\n",
       "        vertical-align: top;\n",
       "    }\n",
       "\n",
       "    .dataframe thead th {\n",
       "        text-align: right;\n",
       "    }\n",
       "</style>\n",
       "<table border=\"1\" class=\"dataframe\">\n",
       "  <thead>\n",
       "    <tr style=\"text-align: right;\">\n",
       "      <th></th>\n",
       "      <th>W0</th>\n",
       "      <th>v0</th>\n",
       "      <th>y</th>\n",
       "    </tr>\n",
       "  </thead>\n",
       "  <tbody>\n",
       "    <tr>\n",
       "      <th>0</th>\n",
       "      <td>-0.521926</td>\n",
       "      <td>True</td>\n",
       "      <td>4.168561</td>\n",
       "    </tr>\n",
       "    <tr>\n",
       "      <th>1</th>\n",
       "      <td>0.529100</td>\n",
       "      <td>True</td>\n",
       "      <td>7.446772</td>\n",
       "    </tr>\n",
       "    <tr>\n",
       "      <th>2</th>\n",
       "      <td>-1.185175</td>\n",
       "      <td>True</td>\n",
       "      <td>4.837306</td>\n",
       "    </tr>\n",
       "    <tr>\n",
       "      <th>3</th>\n",
       "      <td>-0.536551</td>\n",
       "      <td>False</td>\n",
       "      <td>0.929058</td>\n",
       "    </tr>\n",
       "    <tr>\n",
       "      <th>4</th>\n",
       "      <td>0.727100</td>\n",
       "      <td>True</td>\n",
       "      <td>3.123939</td>\n",
       "    </tr>\n",
       "    <tr>\n",
       "      <th>...</th>\n",
       "      <td>...</td>\n",
       "      <td>...</td>\n",
       "      <td>...</td>\n",
       "    </tr>\n",
       "    <tr>\n",
       "      <th>995</th>\n",
       "      <td>-2.869465</td>\n",
       "      <td>False</td>\n",
       "      <td>-1.675050</td>\n",
       "    </tr>\n",
       "    <tr>\n",
       "      <th>996</th>\n",
       "      <td>-2.160877</td>\n",
       "      <td>False</td>\n",
       "      <td>-0.659050</td>\n",
       "    </tr>\n",
       "    <tr>\n",
       "      <th>997</th>\n",
       "      <td>-2.016886</td>\n",
       "      <td>False</td>\n",
       "      <td>1.137603</td>\n",
       "    </tr>\n",
       "    <tr>\n",
       "      <th>998</th>\n",
       "      <td>-2.459570</td>\n",
       "      <td>False</td>\n",
       "      <td>-0.274213</td>\n",
       "    </tr>\n",
       "    <tr>\n",
       "      <th>999</th>\n",
       "      <td>-0.683261</td>\n",
       "      <td>False</td>\n",
       "      <td>-0.119416</td>\n",
       "    </tr>\n",
       "  </tbody>\n",
       "</table>\n",
       "<p>1000 rows × 3 columns</p>\n",
       "</div>"
      ],
      "text/plain": [
       "           W0     v0         y\n",
       "0   -0.521926   True  4.168561\n",
       "1    0.529100   True  7.446772\n",
       "2   -1.185175   True  4.837306\n",
       "3   -0.536551  False  0.929058\n",
       "4    0.727100   True  3.123939\n",
       "..        ...    ...       ...\n",
       "995 -2.869465  False -1.675050\n",
       "996 -2.160877  False -0.659050\n",
       "997 -2.016886  False  1.137603\n",
       "998 -2.459570  False -0.274213\n",
       "999 -0.683261  False -0.119416\n",
       "\n",
       "[1000 rows x 3 columns]"
      ]
     },
     "execution_count": 2,
     "metadata": {},
     "output_type": "execute_result"
    }
   ],
   "source": [
    "data = dowhy.datasets.linear_dataset(beta=5,\n",
    "        num_common_causes=1,\n",
    "        num_instruments = 0,\n",
    "        num_samples=1000,\n",
    "        treatment_is_binary=True)\n",
    "df = data['df']\n",
    "df['y'] = df['y'] + np.random.normal(size=len(df)) # Adding noise to data. Without noise, the variance in Y|X, Z is zero, and mcmc fails.\n",
    "#data['dot_graph'] = 'digraph { v ->y;X0-> v;X0-> y;}'\n",
    "\n",
    "treatment= data[\"treatment_name\"][0]\n",
    "outcome = data[\"outcome_name\"][0]\n",
    "common_cause = data[\"common_causes_names\"][0]\n",
    "df"
   ]
  },
  {
   "cell_type": "code",
   "execution_count": 3,
   "metadata": {
    "execution": {
     "iopub.execute_input": "2022-11-16T12:08:45.667327Z",
     "iopub.status.busy": "2022-11-16T12:08:45.667094Z",
     "iopub.status.idle": "2022-11-16T12:08:45.812788Z",
     "shell.execute_reply": "2022-11-16T12:08:45.812172Z"
    }
   },
   "outputs": [
    {
     "data": {
      "text/plain": [
       "<AxesSubplot: xlabel='v0'>"
      ]
     },
     "execution_count": 3,
     "metadata": {},
     "output_type": "execute_result"
    },
    {
     "data": {
      "image/png": "[encoded data removed]",
      "text/plain": [
       "<Figure size 640x480 with 1 Axes>"
      ]
     },
     "metadata": {},
     "output_type": "display_data"
    }
   ],
   "source": [
    "# data['df'] is just a regular pandas.DataFrame\n",
    "df.causal.do(x=treatment,\n",
    "                     variable_types={treatment: 'b', outcome: 'c', common_cause: 'c'},\n",
    "                     outcome=outcome,\n",
    "                     common_causes=[common_cause],\n",
    "                     proceed_when_unidentifiable=True).groupby(treatment).mean().plot(y=outcome, kind='bar')"
   ]
  },
  {
   "cell_type": "code",
   "execution_count": 4,
   "metadata": {
    "execution": {
     "iopub.execute_input": "2022-11-16T12:08:45.815642Z",
     "iopub.status.busy": "2022-11-16T12:08:45.815301Z",
     "iopub.status.idle": "2022-11-16T12:08:45.928464Z",
     "shell.execute_reply": "2022-11-16T12:08:45.927867Z"
    }
   },
   "outputs": [
    {
     "data": {
      "text/plain": [
       "<AxesSubplot: xlabel='v0'>"
      ]
     },
     "execution_count": 4,
     "metadata": {},
     "output_type": "execute_result"
    },
    {
     "data": {
      "image/png": "[encoded data removed]",
      "text/plain": [
       "<Figure size 640x480 with 1 Axes>"
      ]
     },
     "metadata": {},
     "output_type": "display_data"
    }
   ],
   "source": [
    "df.causal.do(x={treatment: 1}, \n",
    "              variable_types={treatment:'b', outcome: 'c', common_cause: 'c'}, \n",
    "              outcome=outcome,\n",
    "              method='weighting', \n",
    "              common_causes=[common_cause],\n",
    "              proceed_when_unidentifiable=True).groupby(treatment).mean().plot(y=outcome, kind='bar')"
   ]
  },
  {
   "cell_type": "code",
   "execution_count": 5,
   "metadata": {
    "execution": {
     "iopub.execute_input": "2022-11-16T12:08:45.931710Z",
     "iopub.status.busy": "2022-11-16T12:08:45.931378Z",
     "iopub.status.idle": "2022-11-16T12:08:45.961356Z",
     "shell.execute_reply": "2022-11-16T12:08:45.960779Z"
    }
   },
   "outputs": [],
   "source": [
    "cdf_1 = df.causal.do(x={treatment: 1}, \n",
    "              variable_types={treatment: 'b', outcome: 'c', common_cause: 'c'}, \n",
    "              outcome=outcome, \n",
    "              dot_graph=data['dot_graph'],\n",
    "              proceed_when_unidentifiable=True)\n",
    "\n",
    "cdf_0 = df.causal.do(x={treatment: 0}, \n",
    "              variable_types={treatment: 'b', outcome: 'c', common_cause: 'c'}, \n",
    "              outcome=outcome, \n",
    "              dot_graph=data['dot_graph'],\n",
    "              proceed_when_unidentifiable=True)\n"
   ]
  },
  {
   "cell_type": "code",
   "execution_count": 6,
   "metadata": {
    "execution": {
     "iopub.execute_input": "2022-11-16T12:08:45.964196Z",
     "iopub.status.busy": "2022-11-16T12:08:45.963788Z",
     "iopub.status.idle": "2022-11-16T12:08:45.975499Z",
     "shell.execute_reply": "2022-11-16T12:08:45.974908Z"
    },
    "scrolled": true
   },
   "outputs": [
    {
     "data": {
      "text/html": [
       "<div>\n",
       "<style scoped>\n",
       "    .dataframe tbody tr th:only-of-type {\n",
       "        vertical-align: middle;\n",
       "    }\n",
       "\n",
       "    .dataframe tbody tr th {\n",
       "        vertical-align: top;\n",
       "    }\n",
       "\n",
       "    .dataframe thead th {\n",
       "        text-align: right;\n",
       "    }\n",
       "</style>\n",
       "<table border=\"1\" class=\"dataframe\">\n",
       "  <thead>\n",
       "    <tr style=\"text-align: right;\">\n",
       "      <th></th>\n",
       "      <th>W0</th>\n",
       "      <th>v0</th>\n",
       "      <th>y</th>\n",
       "      <th>propensity_score</th>\n",
       "      <th>weight</th>\n",
       "    </tr>\n",
       "  </thead>\n",
       "  <tbody>\n",
       "    <tr>\n",
       "      <th>0</th>\n",
       "      <td>-1.463625</td>\n",
       "      <td>False</td>\n",
       "      <td>-0.166308</td>\n",
       "      <td>0.875040</td>\n",
       "      <td>1.142805</td>\n",
       "    </tr>\n",
       "    <tr>\n",
       "      <th>1</th>\n",
       "      <td>-1.621213</td>\n",
       "      <td>False</td>\n",
       "      <td>-0.373634</td>\n",
       "      <td>0.896014</td>\n",
       "      <td>1.116054</td>\n",
       "    </tr>\n",
       "    <tr>\n",
       "      <th>2</th>\n",
       "      <td>-1.374278</td>\n",
       "      <td>False</td>\n",
       "      <td>0.052919</td>\n",
       "      <td>0.861603</td>\n",
       "      <td>1.160628</td>\n",
       "    </tr>\n",
       "    <tr>\n",
       "      <th>3</th>\n",
       "      <td>-1.047494</td>\n",
       "      <td>False</td>\n",
       "      <td>-0.434254</td>\n",
       "      <td>0.801950</td>\n",
       "      <td>1.246960</td>\n",
       "    </tr>\n",
       "    <tr>\n",
       "      <th>4</th>\n",
       "      <td>0.292719</td>\n",
       "      <td>False</td>\n",
       "      <td>-1.056471</td>\n",
       "      <td>0.409613</td>\n",
       "      <td>2.441328</td>\n",
       "    </tr>\n",
       "    <tr>\n",
       "      <th>...</th>\n",
       "      <td>...</td>\n",
       "      <td>...</td>\n",
       "      <td>...</td>\n",
       "      <td>...</td>\n",
       "      <td>...</td>\n",
       "    </tr>\n",
       "    <tr>\n",
       "      <th>995</th>\n",
       "      <td>-3.454525</td>\n",
       "      <td>False</td>\n",
       "      <td>-2.009146</td>\n",
       "      <td>0.989716</td>\n",
       "      <td>1.010391</td>\n",
       "    </tr>\n",
       "    <tr>\n",
       "      <th>996</th>\n",
       "      <td>0.428610</td>\n",
       "      <td>False</td>\n",
       "      <td>-0.380013</td>\n",
       "      <td>0.367156</td>\n",
       "      <td>2.723637</td>\n",
       "    </tr>\n",
       "    <tr>\n",
       "      <th>997</th>\n",
       "      <td>-0.638404</td>\n",
       "      <td>False</td>\n",
       "      <td>-0.199366</td>\n",
       "      <td>0.702672</td>\n",
       "      <td>1.423140</td>\n",
       "    </tr>\n",
       "    <tr>\n",
       "      <th>998</th>\n",
       "      <td>-1.139601</td>\n",
       "      <td>False</td>\n",
       "      <td>-0.450883</td>\n",
       "      <td>0.820504</td>\n",
       "      <td>1.218763</td>\n",
       "    </tr>\n",
       "    <tr>\n",
       "      <th>999</th>\n",
       "      <td>-1.386088</td>\n",
       "      <td>False</td>\n",
       "      <td>-1.194852</td>\n",
       "      <td>0.863446</td>\n",
       "      <td>1.158150</td>\n",
       "    </tr>\n",
       "  </tbody>\n",
       "</table>\n",
       "<p>1000 rows × 5 columns</p>\n",
       "</div>"
      ],
      "text/plain": [
       "           W0     v0         y  propensity_score    weight\n",
       "0   -1.463625  False -0.166308          0.875040  1.142805\n",
       "1   -1.621213  False -0.373634          0.896014  1.116054\n",
       "2   -1.374278  False  0.052919          0.861603  1.160628\n",
       "3   -1.047494  False -0.434254          0.801950  1.246960\n",
       "4    0.292719  False -1.056471          0.409613  2.441328\n",
       "..        ...    ...       ...               ...       ...\n",
       "995 -3.454525  False -2.009146          0.989716  1.010391\n",
       "996  0.428610  False -0.380013          0.367156  2.723637\n",
       "997 -0.638404  False -0.199366          0.702672  1.423140\n",
       "998 -1.139601  False -0.450883          0.820504  1.218763\n",
       "999 -1.386088  False -1.194852          0.863446  1.158150\n",
       "\n",
       "[1000 rows x 5 columns]"
      ]
     },
     "execution_count": 6,
     "metadata": {},
     "output_type": "execute_result"
    }
   ],
   "source": [
    "cdf_0"
   ]
  },
  {
   "cell_type": "code",
   "execution_count": 7,
   "metadata": {
    "execution": {
     "iopub.execute_input": "2022-11-16T12:08:45.978063Z",
     "iopub.status.busy": "2022-11-16T12:08:45.977742Z",
     "iopub.status.idle": "2022-11-16T12:08:45.988945Z",
     "shell.execute_reply": "2022-11-16T12:08:45.988405Z"
    }
   },
   "outputs": [
    {
     "data": {
      "text/html": [
       "<div>\n",
       "<style scoped>\n",
       "    .dataframe tbody tr th:only-of-type {\n",
       "        vertical-align: middle;\n",
       "    }\n",
       "\n",
       "    .dataframe tbody tr th {\n",
       "        vertical-align: top;\n",
       "    }\n",
       "\n",
       "    .dataframe thead th {\n",
       "        text-align: right;\n",
       "    }\n",
       "</style>\n",
       "<table border=\"1\" class=\"dataframe\">\n",
       "  <thead>\n",
       "    <tr style=\"text-align: right;\">\n",
       "      <th></th>\n",
       "      <th>W0</th>\n",
       "      <th>v0</th>\n",
       "      <th>y</th>\n",
       "      <th>propensity_score</th>\n",
       "      <th>weight</th>\n",
       "    </tr>\n",
       "  </thead>\n",
       "  <tbody>\n",
       "    <tr>\n",
       "      <th>0</th>\n",
       "      <td>-0.019015</td>\n",
       "      <td>True</td>\n",
       "      <td>4.490301</td>\n",
       "      <td>0.488811</td>\n",
       "      <td>2.045780</td>\n",
       "    </tr>\n",
       "    <tr>\n",
       "      <th>1</th>\n",
       "      <td>-1.734372</td>\n",
       "      <td>True</td>\n",
       "      <td>4.151437</td>\n",
       "      <td>0.090904</td>\n",
       "      <td>11.000660</td>\n",
       "    </tr>\n",
       "    <tr>\n",
       "      <th>2</th>\n",
       "      <td>-1.452795</td>\n",
       "      <td>True</td>\n",
       "      <td>4.504987</td>\n",
       "      <td>0.126527</td>\n",
       "      <td>7.903423</td>\n",
       "    </tr>\n",
       "    <tr>\n",
       "      <th>3</th>\n",
       "      <td>-0.715856</td>\n",
       "      <td>True</td>\n",
       "      <td>5.437658</td>\n",
       "      <td>0.276478</td>\n",
       "      <td>3.616923</td>\n",
       "    </tr>\n",
       "    <tr>\n",
       "      <th>4</th>\n",
       "      <td>-1.456313</td>\n",
       "      <td>True</td>\n",
       "      <td>6.062515</td>\n",
       "      <td>0.126017</td>\n",
       "      <td>7.935462</td>\n",
       "    </tr>\n",
       "    <tr>\n",
       "      <th>...</th>\n",
       "      <td>...</td>\n",
       "      <td>...</td>\n",
       "      <td>...</td>\n",
       "      <td>...</td>\n",
       "      <td>...</td>\n",
       "    </tr>\n",
       "    <tr>\n",
       "      <th>995</th>\n",
       "      <td>0.315108</td>\n",
       "      <td>True</td>\n",
       "      <td>5.332239</td>\n",
       "      <td>0.597494</td>\n",
       "      <td>1.673656</td>\n",
       "    </tr>\n",
       "    <tr>\n",
       "      <th>996</th>\n",
       "      <td>-1.928974</td>\n",
       "      <td>True</td>\n",
       "      <td>5.135653</td>\n",
       "      <td>0.071837</td>\n",
       "      <td>13.920323</td>\n",
       "    </tr>\n",
       "    <tr>\n",
       "      <th>997</th>\n",
       "      <td>-1.452795</td>\n",
       "      <td>True</td>\n",
       "      <td>4.504987</td>\n",
       "      <td>0.126527</td>\n",
       "      <td>7.903423</td>\n",
       "    </tr>\n",
       "    <tr>\n",
       "      <th>998</th>\n",
       "      <td>-0.076314</td>\n",
       "      <td>True</td>\n",
       "      <td>2.974456</td>\n",
       "      <td>0.469990</td>\n",
       "      <td>2.127705</td>\n",
       "    </tr>\n",
       "    <tr>\n",
       "      <th>999</th>\n",
       "      <td>-0.536960</td>\n",
       "      <td>True</td>\n",
       "      <td>4.531505</td>\n",
       "      <td>0.325958</td>\n",
       "      <td>3.067879</td>\n",
       "    </tr>\n",
       "  </tbody>\n",
       "</table>\n",
       "<p>1000 rows × 5 columns</p>\n",
       "</div>"
      ],
      "text/plain": [
       "           W0    v0         y  propensity_score     weight\n",
       "0   -0.019015  True  4.490301          0.488811   2.045780\n",
       "1   -1.734372  True  4.151437          0.090904  11.000660\n",
       "2   -1.452795  True  4.504987          0.126527   7.903423\n",
       "3   -0.715856  True  5.437658          0.276478   3.616923\n",
       "4   -1.456313  True  6.062515          0.126017   7.935462\n",
       "..        ...   ...       ...               ...        ...\n",
       "995  0.315108  True  5.332239          0.597494   1.673656\n",
       "996 -1.928974  True  5.135653          0.071837  13.920323\n",
       "997 -1.452795  True  4.504987          0.126527   7.903423\n",
       "998 -0.076314  True  2.974456          0.469990   2.127705\n",
       "999 -0.536960  True  4.531505          0.325958   3.067879\n",
       "\n",
       "[1000 rows x 5 columns]"
      ]
     },
     "execution_count": 7,
     "metadata": {},
     "output_type": "execute_result"
    }
   ],
   "source": [
    "cdf_1"
   ]
  },
  {
   "cell_type": "markdown",
   "metadata": {},
   "source": [
    "## Comparing the estimate to Linear Regression\n",
    "First, estimating the effect using the causal data frame, and the 95% confidence interval."
   ]
  },
  {
   "cell_type": "code",
   "execution_count": 8,
   "metadata": {
    "execution": {
     "iopub.execute_input": "2022-11-16T12:08:45.992119Z",
     "iopub.status.busy": "2022-11-16T12:08:45.991348Z",
     "iopub.status.idle": "2022-11-16T12:08:46.049714Z",
     "shell.execute_reply": "2022-11-16T12:08:46.049123Z"
    }
   },
   "outputs": [
    {
     "data": {
      "image/png": "[encoded data removed]",
      "text/latex": [
       "$\\displaystyle 5.25811235257019$"
      ],
      "text/plain": [
       "5.2581123525701905"
      ]
     },
     "execution_count": 8,
     "metadata": {},
     "output_type": "execute_result"
    }
   ],
   "source": [
    "(cdf_1['y'] - cdf_0['y']).mean()"
   ]
  },
  {
   "cell_type": "code",
   "execution_count": 9,
   "metadata": {
    "execution": {
     "iopub.execute_input": "2022-11-16T12:08:46.053009Z",
     "iopub.status.busy": "2022-11-16T12:08:46.052517Z",
     "iopub.status.idle": "2022-11-16T12:08:46.072579Z",
     "shell.execute_reply": "2022-11-16T12:08:46.071974Z"
    }
   },
   "outputs": [
    {
     "data": {
      "image/png": "[encoded data removed]",
      "text/latex": [
       "$\\displaystyle 0.0981805918514905$"
      ],
      "text/plain": [
       "0.09818059185149051"
      ]
     },
     "execution_count": 9,
     "metadata": {},
     "output_type": "execute_result"
    }
   ],
   "source": [
    "1.96*(cdf_1['y'] - cdf_0['y']).std() / np.sqrt(len(df))"
   ]
  },
  {
   "cell_type": "markdown",
   "metadata": {},
   "source": [
    "Comparing to the estimate from OLS."
   ]
  },
  {
   "cell_type": "code",
   "execution_count": 10,
   "metadata": {
    "execution": {
     "iopub.execute_input": "2022-11-16T12:08:46.075590Z",
     "iopub.status.busy": "2022-11-16T12:08:46.075037Z",
     "iopub.status.idle": "2022-11-16T12:08:46.089900Z",
     "shell.execute_reply": "2022-11-16T12:08:46.089291Z"
    }
   },
   "outputs": [
    {
     "data": {
      "text/html": [
       "<table class=\"simpletable\">\n",
       "<caption>OLS Regression Results</caption>\n",
       "<tr>\n",
       "  <th>Dep. Variable:</th>            <td>y</td>        <th>  R-squared (uncentered):</th>      <td>   0.883</td>\n",
       "</tr>\n",
       "<tr>\n",
       "  <th>Model:</th>                   <td>OLS</td>       <th>  Adj. R-squared (uncentered):</th> <td>   0.882</td>\n",
       "</tr>\n",
       "<tr>\n",
       "  <th>Method:</th>             <td>Least Squares</td>  <th>  F-statistic:       </th>          <td>   3755.</td>\n",
       "</tr>\n",
       "<tr>\n",
       "  <th>Date:</th>             <td>Wed, 16 Nov 2022</td> <th>  Prob (F-statistic):</th>           <td>  0.00</td> \n",
       "</tr>\n",
       "<tr>\n",
       "  <th>Time:</th>                 <td>12:08:46</td>     <th>  Log-Likelihood:    </th>          <td> -1433.7</td>\n",
       "</tr>\n",
       "<tr>\n",
       "  <th>No. Observations:</th>      <td>  1000</td>      <th>  AIC:               </th>          <td>   2871.</td>\n",
       "</tr>\n",
       "<tr>\n",
       "  <th>Df Residuals:</th>          <td>   998</td>      <th>  BIC:               </th>          <td>   2881.</td>\n",
       "</tr>\n",
       "<tr>\n",
       "  <th>Df Model:</th>              <td>     2</td>      <th>                     </th>              <td> </td>   \n",
       "</tr>\n",
       "<tr>\n",
       "  <th>Covariance Type:</th>      <td>nonrobust</td>    <th>                     </th>              <td> </td>   \n",
       "</tr>\n",
       "</table>\n",
       "<table class=\"simpletable\">\n",
       "<tr>\n",
       "   <td></td>     <th>coef</th>     <th>std err</th>      <th>t</th>      <th>P>|t|</th>  <th>[0.025</th>    <th>0.975]</th>  \n",
       "</tr>\n",
       "<tr>\n",
       "  <th>x1</th> <td>    0.3593</td> <td>    0.024</td> <td>   14.807</td> <td> 0.000</td> <td>    0.312</td> <td>    0.407</td>\n",
       "</tr>\n",
       "<tr>\n",
       "  <th>x2</th> <td>    5.1146</td> <td>    0.059</td> <td>   86.157</td> <td> 0.000</td> <td>    4.998</td> <td>    5.231</td>\n",
       "</tr>\n",
       "</table>\n",
       "<table class=\"simpletable\">\n",
       "<tr>\n",
       "  <th>Omnibus:</th>       <td> 0.692</td> <th>  Durbin-Watson:     </th> <td>   1.840</td>\n",
       "</tr>\n",
       "<tr>\n",
       "  <th>Prob(Omnibus):</th> <td> 0.707</td> <th>  Jarque-Bera (JB):  </th> <td>   0.564</td>\n",
       "</tr>\n",
       "<tr>\n",
       "  <th>Skew:</th>          <td>-0.001</td> <th>  Prob(JB):          </th> <td>   0.754</td>\n",
       "</tr>\n",
       "<tr>\n",
       "  <th>Kurtosis:</th>      <td> 3.116</td> <th>  Cond. No.          </th> <td>    2.45</td>\n",
       "</tr>\n",
       "</table><br/><br/>Notes:<br/>[1] R² is computed without centering (uncentered) since the model does not contain a constant.<br/>[2] Standard Errors assume that the covariance matrix of the errors is correctly specified."
      ],
      "text/plain": [
       "<class 'statsmodels.iolib.summary.Summary'>\n",
       "\"\"\"\n",
       "                                 OLS Regression Results                                \n",
       "=======================================================================================\n",
       "Dep. Variable:                      y   R-squared (uncentered):                   0.883\n",
       "Model:                            OLS   Adj. R-squared (uncentered):              0.882\n",
       "Method:                 Least Squares   F-statistic:                              3755.\n",
       "Date:                Wed, 16 Nov 2022   Prob (F-statistic):                        0.00\n",
       "Time:                        12:08:46   Log-Likelihood:                         -1433.7\n",
       "No. Observations:                1000   AIC:                                      2871.\n",
       "Df Residuals:                     998   BIC:                                      2881.\n",
       "Df Model:                           2                                                  \n",
       "Covariance Type:            nonrobust                                                  \n",
       "==============================================================================\n",
       "                 coef    std err          t      P>|t|      [0.025      0.975]\n",
       "------------------------------------------------------------------------------\n",
       "x1             0.3593      0.024     14.807      0.000       0.312       0.407\n",
       "x2             5.1146      0.059     86.157      0.000       4.998       5.231\n",
       "==============================================================================\n",
       "Omnibus:                        0.692   Durbin-Watson:                   1.840\n",
       "Prob(Omnibus):                  0.707   Jarque-Bera (JB):                0.564\n",
       "Skew:                          -0.001   Prob(JB):                        0.754\n",
       "Kurtosis:                       3.116   Cond. No.                         2.45\n",
       "==============================================================================\n",
       "\n",
       "Notes:\n",
       "[1] R² is computed without centering (uncentered) since the model does not contain a constant.\n",
       "[2] Standard Errors assume that the covariance matrix of the errors is correctly specified.\n",
       "\"\"\""
      ]
     },
     "execution_count": 10,
     "metadata": {},
     "output_type": "execute_result"
    }
   ],
   "source": [
    "model = OLS(np.asarray(df[outcome]), np.asarray(df[[common_cause, treatment]], dtype=np.float64))\n",
    "result = model.fit()\n",
    "result.summary()"
   ]
  }
 ],
 "metadata": {
  "kernelspec": {
   "display_name": "Python 3",
   "language": "python",
   "name": "python3"
  },
  "language_info": {
   "codemirror_mode": {
    "name": "ipython",
    "version": 3
   },
   "file_extension": ".py",
   "mimetype": "text/x-python",
   "name": "python",
   "nbconvert_exporter": "python",
   "pygments_lexer": "ipython3",
   "version": "3.8.10"
  },
  "toc": {
   "base_numbering": 1,
   "nav_menu": {},
   "number_sections": false,
   "sideBar": true,
   "skip_h1_title": true,
   "title_cell": "Table of Contents",
   "title_sidebar": "Contents",
   "toc_cell": false,
   "toc_position": {},
   "toc_section_display": true,
   "toc_window_display": false
  }
 },
 "nbformat": 4,
 "nbformat_minor": 4
}
