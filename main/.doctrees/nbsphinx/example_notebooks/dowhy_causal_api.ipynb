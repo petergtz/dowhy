{
 "cells": [
  {
   "cell_type": "markdown",
   "metadata": {},
   "source": [
    "# Demo for the DoWhy causal API\n",
    "We show a simple example of adding a causal extension to any dataframe. "
   ]
  },
  {
   "cell_type": "code",
   "execution_count": 1,
   "metadata": {
    "execution": {
     "iopub.execute_input": "2022-10-25T15:29:34.001929Z",
     "iopub.status.busy": "2022-10-25T15:29:34.001285Z",
     "iopub.status.idle": "2022-10-25T15:29:36.560895Z",
     "shell.execute_reply": "2022-10-25T15:29:36.559790Z"
    }
   },
   "outputs": [],
   "source": [
    "import dowhy.datasets\n",
    "import dowhy.api\n",
    "\n",
    "import numpy as np\n",
    "import pandas as pd\n",
    "\n",
    "from statsmodels.api import OLS"
   ]
  },
  {
   "cell_type": "code",
   "execution_count": 2,
   "metadata": {
    "execution": {
     "iopub.execute_input": "2022-10-25T15:29:36.565886Z",
     "iopub.status.busy": "2022-10-25T15:29:36.565015Z",
     "iopub.status.idle": "2022-10-25T15:29:36.658061Z",
     "shell.execute_reply": "2022-10-25T15:29:36.657193Z"
    }
   },
   "outputs": [
    {
     "data": {
      "text/html": [
       "<div>\n",
       "<style scoped>\n",
       "    .dataframe tbody tr th:only-of-type {\n",
       "        vertical-align: middle;\n",
       "    }\n",
       "\n",
       "    .dataframe tbody tr th {\n",
       "        vertical-align: top;\n",
       "    }\n",
       "\n",
       "    .dataframe thead th {\n",
       "        text-align: right;\n",
       "    }\n",
       "</style>\n",
       "<table border=\"1\" class=\"dataframe\">\n",
       "  <thead>\n",
       "    <tr style=\"text-align: right;\">\n",
       "      <th></th>\n",
       "      <th>W0</th>\n",
       "      <th>v0</th>\n",
       "      <th>y</th>\n",
       "    </tr>\n",
       "  </thead>\n",
       "  <tbody>\n",
       "    <tr>\n",
       "      <th>0</th>\n",
       "      <td>1.699408</td>\n",
       "      <td>True</td>\n",
       "      <td>9.189256</td>\n",
       "    </tr>\n",
       "    <tr>\n",
       "      <th>1</th>\n",
       "      <td>1.709454</td>\n",
       "      <td>False</td>\n",
       "      <td>3.605616</td>\n",
       "    </tr>\n",
       "    <tr>\n",
       "      <th>2</th>\n",
       "      <td>3.282476</td>\n",
       "      <td>True</td>\n",
       "      <td>12.706027</td>\n",
       "    </tr>\n",
       "    <tr>\n",
       "      <th>3</th>\n",
       "      <td>-1.935062</td>\n",
       "      <td>False</td>\n",
       "      <td>-4.208031</td>\n",
       "    </tr>\n",
       "    <tr>\n",
       "      <th>4</th>\n",
       "      <td>-0.044965</td>\n",
       "      <td>False</td>\n",
       "      <td>-0.700791</td>\n",
       "    </tr>\n",
       "    <tr>\n",
       "      <th>...</th>\n",
       "      <td>...</td>\n",
       "      <td>...</td>\n",
       "      <td>...</td>\n",
       "    </tr>\n",
       "    <tr>\n",
       "      <th>995</th>\n",
       "      <td>-0.349081</td>\n",
       "      <td>False</td>\n",
       "      <td>-2.647624</td>\n",
       "    </tr>\n",
       "    <tr>\n",
       "      <th>996</th>\n",
       "      <td>2.591046</td>\n",
       "      <td>True</td>\n",
       "      <td>12.995542</td>\n",
       "    </tr>\n",
       "    <tr>\n",
       "      <th>997</th>\n",
       "      <td>0.095390</td>\n",
       "      <td>False</td>\n",
       "      <td>1.869155</td>\n",
       "    </tr>\n",
       "    <tr>\n",
       "      <th>998</th>\n",
       "      <td>1.048704</td>\n",
       "      <td>True</td>\n",
       "      <td>7.979649</td>\n",
       "    </tr>\n",
       "    <tr>\n",
       "      <th>999</th>\n",
       "      <td>0.155532</td>\n",
       "      <td>True</td>\n",
       "      <td>4.594572</td>\n",
       "    </tr>\n",
       "  </tbody>\n",
       "</table>\n",
       "<p>1000 rows × 3 columns</p>\n",
       "</div>"
      ],
      "text/plain": [
       "           W0     v0          y\n",
       "0    1.699408   True   9.189256\n",
       "1    1.709454  False   3.605616\n",
       "2    3.282476   True  12.706027\n",
       "3   -1.935062  False  -4.208031\n",
       "4   -0.044965  False  -0.700791\n",
       "..        ...    ...        ...\n",
       "995 -0.349081  False  -2.647624\n",
       "996  2.591046   True  12.995542\n",
       "997  0.095390  False   1.869155\n",
       "998  1.048704   True   7.979649\n",
       "999  0.155532   True   4.594572\n",
       "\n",
       "[1000 rows x 3 columns]"
      ]
     },
     "execution_count": 2,
     "metadata": {},
     "output_type": "execute_result"
    }
   ],
   "source": [
    "data = dowhy.datasets.linear_dataset(beta=5,\n",
    "        num_common_causes=1,\n",
    "        num_instruments = 0,\n",
    "        num_samples=1000,\n",
    "        treatment_is_binary=True)\n",
    "df = data['df']\n",
    "df['y'] = df['y'] + np.random.normal(size=len(df)) # Adding noise to data. Without noise, the variance in Y|X, Z is zero, and mcmc fails.\n",
    "#data['dot_graph'] = 'digraph { v ->y;X0-> v;X0-> y;}'\n",
    "\n",
    "treatment= data[\"treatment_name\"][0]\n",
    "outcome = data[\"outcome_name\"][0]\n",
    "common_cause = data[\"common_causes_names\"][0]\n",
    "df"
   ]
  },
  {
   "cell_type": "code",
   "execution_count": 3,
   "metadata": {
    "execution": {
     "iopub.execute_input": "2022-10-25T15:29:36.664332Z",
     "iopub.status.busy": "2022-10-25T15:29:36.662777Z",
     "iopub.status.idle": "2022-10-25T15:29:36.884149Z",
     "shell.execute_reply": "2022-10-25T15:29:36.883319Z"
    }
   },
   "outputs": [
    {
     "data": {
      "text/plain": [
       "<AxesSubplot: xlabel='v0'>"
      ]
     },
     "execution_count": 3,
     "metadata": {},
     "output_type": "execute_result"
    },
    {
     "data": {
      "image/png": "[encoded data removed]",
      "text/plain": [
       "<Figure size 640x480 with 1 Axes>"
      ]
     },
     "metadata": {},
     "output_type": "display_data"
    }
   ],
   "source": [
    "# data['df'] is just a regular pandas.DataFrame\n",
    "df.causal.do(x=treatment,\n",
    "                     variable_types={treatment: 'b', outcome: 'c', common_cause: 'c'},\n",
    "                     outcome=outcome,\n",
    "                     common_causes=[common_cause],\n",
    "                     proceed_when_unidentifiable=True).groupby(treatment).mean().plot(y=outcome, kind='bar')"
   ]
  },
  {
   "cell_type": "code",
   "execution_count": 4,
   "metadata": {
    "execution": {
     "iopub.execute_input": "2022-10-25T15:29:36.888392Z",
     "iopub.status.busy": "2022-10-25T15:29:36.887936Z",
     "iopub.status.idle": "2022-10-25T15:29:37.078568Z",
     "shell.execute_reply": "2022-10-25T15:29:37.077503Z"
    }
   },
   "outputs": [
    {
     "data": {
      "text/plain": [
       "<AxesSubplot: xlabel='v0'>"
      ]
     },
     "execution_count": 4,
     "metadata": {},
     "output_type": "execute_result"
    },
    {
     "data": {
      "image/png": "[encoded data removed]",
      "text/plain": [
       "<Figure size 640x480 with 1 Axes>"
      ]
     },
     "metadata": {},
     "output_type": "display_data"
    }
   ],
   "source": [
    "df.causal.do(x={treatment: 1}, \n",
    "              variable_types={treatment:'b', outcome: 'c', common_cause: 'c'}, \n",
    "              outcome=outcome,\n",
    "              method='weighting', \n",
    "              common_causes=[common_cause],\n",
    "              proceed_when_unidentifiable=True).groupby(treatment).mean().plot(y=outcome, kind='bar')"
   ]
  },
  {
   "cell_type": "code",
   "execution_count": 5,
   "metadata": {
    "execution": {
     "iopub.execute_input": "2022-10-25T15:29:37.083620Z",
     "iopub.status.busy": "2022-10-25T15:29:37.083093Z",
     "iopub.status.idle": "2022-10-25T15:29:37.130238Z",
     "shell.execute_reply": "2022-10-25T15:29:37.129237Z"
    }
   },
   "outputs": [],
   "source": [
    "cdf_1 = df.causal.do(x={treatment: 1}, \n",
    "              variable_types={treatment: 'b', outcome: 'c', common_cause: 'c'}, \n",
    "              outcome=outcome, \n",
    "              dot_graph=data['dot_graph'],\n",
    "              proceed_when_unidentifiable=True)\n",
    "\n",
    "cdf_0 = df.causal.do(x={treatment: 0}, \n",
    "              variable_types={treatment: 'b', outcome: 'c', common_cause: 'c'}, \n",
    "              outcome=outcome, \n",
    "              dot_graph=data['dot_graph'],\n",
    "              proceed_when_unidentifiable=True)\n"
   ]
  },
  {
   "cell_type": "code",
   "execution_count": 6,
   "metadata": {
    "execution": {
     "iopub.execute_input": "2022-10-25T15:29:37.134026Z",
     "iopub.status.busy": "2022-10-25T15:29:37.133718Z",
     "iopub.status.idle": "2022-10-25T15:29:37.150693Z",
     "shell.execute_reply": "2022-10-25T15:29:37.149763Z"
    },
    "scrolled": true
   },
   "outputs": [
    {
     "data": {
      "text/html": [
       "<div>\n",
       "<style scoped>\n",
       "    .dataframe tbody tr th:only-of-type {\n",
       "        vertical-align: middle;\n",
       "    }\n",
       "\n",
       "    .dataframe tbody tr th {\n",
       "        vertical-align: top;\n",
       "    }\n",
       "\n",
       "    .dataframe thead th {\n",
       "        text-align: right;\n",
       "    }\n",
       "</style>\n",
       "<table border=\"1\" class=\"dataframe\">\n",
       "  <thead>\n",
       "    <tr style=\"text-align: right;\">\n",
       "      <th></th>\n",
       "      <th>W0</th>\n",
       "      <th>v0</th>\n",
       "      <th>y</th>\n",
       "      <th>propensity_score</th>\n",
       "      <th>weight</th>\n",
       "    </tr>\n",
       "  </thead>\n",
       "  <tbody>\n",
       "    <tr>\n",
       "      <th>0</th>\n",
       "      <td>1.279028</td>\n",
       "      <td>False</td>\n",
       "      <td>2.313435</td>\n",
       "      <td>0.123623</td>\n",
       "      <td>8.089133</td>\n",
       "    </tr>\n",
       "    <tr>\n",
       "      <th>1</th>\n",
       "      <td>0.015746</td>\n",
       "      <td>False</td>\n",
       "      <td>2.764644</td>\n",
       "      <td>0.514830</td>\n",
       "      <td>1.942388</td>\n",
       "    </tr>\n",
       "    <tr>\n",
       "      <th>2</th>\n",
       "      <td>0.454872</td>\n",
       "      <td>False</td>\n",
       "      <td>2.580646</td>\n",
       "      <td>0.344772</td>\n",
       "      <td>2.900465</td>\n",
       "    </tr>\n",
       "    <tr>\n",
       "      <th>3</th>\n",
       "      <td>-0.334767</td>\n",
       "      <td>False</td>\n",
       "      <td>-0.489637</td>\n",
       "      <td>0.650043</td>\n",
       "      <td>1.538359</td>\n",
       "    </tr>\n",
       "    <tr>\n",
       "      <th>4</th>\n",
       "      <td>0.278230</td>\n",
       "      <td>False</td>\n",
       "      <td>-0.121157</td>\n",
       "      <td>0.410974</td>\n",
       "      <td>2.433244</td>\n",
       "    </tr>\n",
       "    <tr>\n",
       "      <th>...</th>\n",
       "      <td>...</td>\n",
       "      <td>...</td>\n",
       "      <td>...</td>\n",
       "      <td>...</td>\n",
       "      <td>...</td>\n",
       "    </tr>\n",
       "    <tr>\n",
       "      <th>995</th>\n",
       "      <td>-0.432144</td>\n",
       "      <td>False</td>\n",
       "      <td>-0.232987</td>\n",
       "      <td>0.684553</td>\n",
       "      <td>1.460808</td>\n",
       "    </tr>\n",
       "    <tr>\n",
       "      <th>996</th>\n",
       "      <td>1.555486</td>\n",
       "      <td>False</td>\n",
       "      <td>4.289671</td>\n",
       "      <td>0.083160</td>\n",
       "      <td>12.024974</td>\n",
       "    </tr>\n",
       "    <tr>\n",
       "      <th>997</th>\n",
       "      <td>-1.108604</td>\n",
       "      <td>False</td>\n",
       "      <td>-2.770635</td>\n",
       "      <td>0.864750</td>\n",
       "      <td>1.156403</td>\n",
       "    </tr>\n",
       "    <tr>\n",
       "      <th>998</th>\n",
       "      <td>1.352445</td>\n",
       "      <td>False</td>\n",
       "      <td>2.159773</td>\n",
       "      <td>0.111468</td>\n",
       "      <td>8.971203</td>\n",
       "    </tr>\n",
       "    <tr>\n",
       "      <th>999</th>\n",
       "      <td>-0.404248</td>\n",
       "      <td>False</td>\n",
       "      <td>-2.312966</td>\n",
       "      <td>0.674852</td>\n",
       "      <td>1.481806</td>\n",
       "    </tr>\n",
       "  </tbody>\n",
       "</table>\n",
       "<p>1000 rows × 5 columns</p>\n",
       "</div>"
      ],
      "text/plain": [
       "           W0     v0         y  propensity_score     weight\n",
       "0    1.279028  False  2.313435          0.123623   8.089133\n",
       "1    0.015746  False  2.764644          0.514830   1.942388\n",
       "2    0.454872  False  2.580646          0.344772   2.900465\n",
       "3   -0.334767  False -0.489637          0.650043   1.538359\n",
       "4    0.278230  False -0.121157          0.410974   2.433244\n",
       "..        ...    ...       ...               ...        ...\n",
       "995 -0.432144  False -0.232987          0.684553   1.460808\n",
       "996  1.555486  False  4.289671          0.083160  12.024974\n",
       "997 -1.108604  False -2.770635          0.864750   1.156403\n",
       "998  1.352445  False  2.159773          0.111468   8.971203\n",
       "999 -0.404248  False -2.312966          0.674852   1.481806\n",
       "\n",
       "[1000 rows x 5 columns]"
      ]
     },
     "execution_count": 6,
     "metadata": {},
     "output_type": "execute_result"
    }
   ],
   "source": [
    "cdf_0"
   ]
  },
  {
   "cell_type": "code",
   "execution_count": 7,
   "metadata": {
    "execution": {
     "iopub.execute_input": "2022-10-25T15:29:37.154615Z",
     "iopub.status.busy": "2022-10-25T15:29:37.154276Z",
     "iopub.status.idle": "2022-10-25T15:29:37.168971Z",
     "shell.execute_reply": "2022-10-25T15:29:37.168031Z"
    }
   },
   "outputs": [
    {
     "data": {
      "text/html": [
       "<div>\n",
       "<style scoped>\n",
       "    .dataframe tbody tr th:only-of-type {\n",
       "        vertical-align: middle;\n",
       "    }\n",
       "\n",
       "    .dataframe tbody tr th {\n",
       "        vertical-align: top;\n",
       "    }\n",
       "\n",
       "    .dataframe thead th {\n",
       "        text-align: right;\n",
       "    }\n",
       "</style>\n",
       "<table border=\"1\" class=\"dataframe\">\n",
       "  <thead>\n",
       "    <tr style=\"text-align: right;\">\n",
       "      <th></th>\n",
       "      <th>W0</th>\n",
       "      <th>v0</th>\n",
       "      <th>y</th>\n",
       "      <th>propensity_score</th>\n",
       "      <th>weight</th>\n",
       "    </tr>\n",
       "  </thead>\n",
       "  <tbody>\n",
       "    <tr>\n",
       "      <th>0</th>\n",
       "      <td>1.796326</td>\n",
       "      <td>True</td>\n",
       "      <td>10.609176</td>\n",
       "      <td>0.941853</td>\n",
       "      <td>1.061737</td>\n",
       "    </tr>\n",
       "    <tr>\n",
       "      <th>1</th>\n",
       "      <td>0.478663</td>\n",
       "      <td>True</td>\n",
       "      <td>6.353521</td>\n",
       "      <td>0.663761</td>\n",
       "      <td>1.506565</td>\n",
       "    </tr>\n",
       "    <tr>\n",
       "      <th>2</th>\n",
       "      <td>2.248043</td>\n",
       "      <td>True</td>\n",
       "      <td>11.943103</td>\n",
       "      <td>0.970870</td>\n",
       "      <td>1.030004</td>\n",
       "    </tr>\n",
       "    <tr>\n",
       "      <th>3</th>\n",
       "      <td>0.568551</td>\n",
       "      <td>True</td>\n",
       "      <td>7.861082</td>\n",
       "      <td>0.695018</td>\n",
       "      <td>1.438812</td>\n",
       "    </tr>\n",
       "    <tr>\n",
       "      <th>4</th>\n",
       "      <td>1.345824</td>\n",
       "      <td>True</td>\n",
       "      <td>7.107811</td>\n",
       "      <td>0.887480</td>\n",
       "      <td>1.126785</td>\n",
       "    </tr>\n",
       "    <tr>\n",
       "      <th>...</th>\n",
       "      <td>...</td>\n",
       "      <td>...</td>\n",
       "      <td>...</td>\n",
       "      <td>...</td>\n",
       "      <td>...</td>\n",
       "    </tr>\n",
       "    <tr>\n",
       "      <th>995</th>\n",
       "      <td>-0.817819</td>\n",
       "      <td>True</td>\n",
       "      <td>0.975855</td>\n",
       "      <td>0.199275</td>\n",
       "      <td>5.018190</td>\n",
       "    </tr>\n",
       "    <tr>\n",
       "      <th>996</th>\n",
       "      <td>0.356804</td>\n",
       "      <td>True</td>\n",
       "      <td>4.735507</td>\n",
       "      <td>0.619034</td>\n",
       "      <td>1.615420</td>\n",
       "    </tr>\n",
       "    <tr>\n",
       "      <th>997</th>\n",
       "      <td>0.912909</td>\n",
       "      <td>True</td>\n",
       "      <td>8.377771</td>\n",
       "      <td>0.797984</td>\n",
       "      <td>1.253158</td>\n",
       "    </tr>\n",
       "    <tr>\n",
       "      <th>998</th>\n",
       "      <td>0.215876</td>\n",
       "      <td>True</td>\n",
       "      <td>5.632446</td>\n",
       "      <td>0.564720</td>\n",
       "      <td>1.770790</td>\n",
       "    </tr>\n",
       "    <tr>\n",
       "      <th>999</th>\n",
       "      <td>0.917761</td>\n",
       "      <td>True</td>\n",
       "      <td>7.710032</td>\n",
       "      <td>0.799231</td>\n",
       "      <td>1.251203</td>\n",
       "    </tr>\n",
       "  </tbody>\n",
       "</table>\n",
       "<p>1000 rows × 5 columns</p>\n",
       "</div>"
      ],
      "text/plain": [
       "           W0    v0          y  propensity_score    weight\n",
       "0    1.796326  True  10.609176          0.941853  1.061737\n",
       "1    0.478663  True   6.353521          0.663761  1.506565\n",
       "2    2.248043  True  11.943103          0.970870  1.030004\n",
       "3    0.568551  True   7.861082          0.695018  1.438812\n",
       "4    1.345824  True   7.107811          0.887480  1.126785\n",
       "..        ...   ...        ...               ...       ...\n",
       "995 -0.817819  True   0.975855          0.199275  5.018190\n",
       "996  0.356804  True   4.735507          0.619034  1.615420\n",
       "997  0.912909  True   8.377771          0.797984  1.253158\n",
       "998  0.215876  True   5.632446          0.564720  1.770790\n",
       "999  0.917761  True   7.710032          0.799231  1.251203\n",
       "\n",
       "[1000 rows x 5 columns]"
      ]
     },
     "execution_count": 7,
     "metadata": {},
     "output_type": "execute_result"
    }
   ],
   "source": [
    "cdf_1"
   ]
  },
  {
   "cell_type": "markdown",
   "metadata": {},
   "source": [
    "## Comparing the estimate to Linear Regression\n",
    "First, estimating the effect using the causal data frame, and the 95% confidence interval."
   ]
  },
  {
   "cell_type": "code",
   "execution_count": 8,
   "metadata": {
    "execution": {
     "iopub.execute_input": "2022-10-25T15:29:37.173458Z",
     "iopub.status.busy": "2022-10-25T15:29:37.173175Z",
     "iopub.status.idle": "2022-10-25T15:29:37.248492Z",
     "shell.execute_reply": "2022-10-25T15:29:37.247508Z"
    }
   },
   "outputs": [
    {
     "data": {
      "image/png": "[encoded data removed]",
      "text/latex": [
       "$\\displaystyle 5.69247174790385$"
      ],
      "text/plain": [
       "5.692471747903852"
      ]
     },
     "execution_count": 8,
     "metadata": {},
     "output_type": "execute_result"
    }
   ],
   "source": [
    "(cdf_1['y'] - cdf_0['y']).mean()"
   ]
  },
  {
   "cell_type": "code",
   "execution_count": 9,
   "metadata": {
    "execution": {
     "iopub.execute_input": "2022-10-25T15:29:37.254103Z",
     "iopub.status.busy": "2022-10-25T15:29:37.253792Z",
     "iopub.status.idle": "2022-10-25T15:29:37.282444Z",
     "shell.execute_reply": "2022-10-25T15:29:37.281504Z"
    }
   },
   "outputs": [
    {
     "data": {
      "image/png": "[encoded data removed]",
      "text/latex": [
       "$\\displaystyle 0.241955447771795$"
      ],
      "text/plain": [
       "0.241955447771795"
      ]
     },
     "execution_count": 9,
     "metadata": {},
     "output_type": "execute_result"
    }
   ],
   "source": [
    "1.96*(cdf_1['y'] - cdf_0['y']).std() / np.sqrt(len(df))"
   ]
  },
  {
   "cell_type": "markdown",
   "metadata": {},
   "source": [
    "Comparing to the estimate from OLS."
   ]
  },
  {
   "cell_type": "code",
   "execution_count": 10,
   "metadata": {
    "execution": {
     "iopub.execute_input": "2022-10-25T15:29:37.286187Z",
     "iopub.status.busy": "2022-10-25T15:29:37.285911Z",
     "iopub.status.idle": "2022-10-25T15:29:37.306298Z",
     "shell.execute_reply": "2022-10-25T15:29:37.305405Z"
    }
   },
   "outputs": [
    {
     "data": {
      "text/html": [
       "<table class=\"simpletable\">\n",
       "<caption>OLS Regression Results</caption>\n",
       "<tr>\n",
       "  <th>Dep. Variable:</th>            <td>y</td>        <th>  R-squared (uncentered):</th>      <td>   0.980</td> \n",
       "</tr>\n",
       "<tr>\n",
       "  <th>Model:</th>                   <td>OLS</td>       <th>  Adj. R-squared (uncentered):</th> <td>   0.980</td> \n",
       "</tr>\n",
       "<tr>\n",
       "  <th>Method:</th>             <td>Least Squares</td>  <th>  F-statistic:       </th>          <td>2.497e+04</td>\n",
       "</tr>\n",
       "<tr>\n",
       "  <th>Date:</th>             <td>Tue, 25 Oct 2022</td> <th>  Prob (F-statistic):</th>           <td>  0.00</td>  \n",
       "</tr>\n",
       "<tr>\n",
       "  <th>Time:</th>                 <td>15:29:37</td>     <th>  Log-Likelihood:    </th>          <td> -1439.1</td> \n",
       "</tr>\n",
       "<tr>\n",
       "  <th>No. Observations:</th>      <td>  1000</td>      <th>  AIC:               </th>          <td>   2882.</td> \n",
       "</tr>\n",
       "<tr>\n",
       "  <th>Df Residuals:</th>          <td>   998</td>      <th>  BIC:               </th>          <td>   2892.</td> \n",
       "</tr>\n",
       "<tr>\n",
       "  <th>Df Model:</th>              <td>     2</td>      <th>                     </th>              <td> </td>    \n",
       "</tr>\n",
       "<tr>\n",
       "  <th>Covariance Type:</th>      <td>nonrobust</td>    <th>                     </th>              <td> </td>    \n",
       "</tr>\n",
       "</table>\n",
       "<table class=\"simpletable\">\n",
       "<tr>\n",
       "   <td></td>     <th>coef</th>     <th>std err</th>      <th>t</th>      <th>P>|t|</th>  <th>[0.025</th>    <th>0.975]</th>  \n",
       "</tr>\n",
       "<tr>\n",
       "  <th>x1</th> <td>    2.5924</td> <td>    0.037</td> <td>   70.372</td> <td> 0.000</td> <td>    2.520</td> <td>    2.665</td>\n",
       "</tr>\n",
       "<tr>\n",
       "  <th>x2</th> <td>    4.9572</td> <td>    0.059</td> <td>   83.655</td> <td> 0.000</td> <td>    4.841</td> <td>    5.073</td>\n",
       "</tr>\n",
       "</table>\n",
       "<table class=\"simpletable\">\n",
       "<tr>\n",
       "  <th>Omnibus:</th>       <td> 8.903</td> <th>  Durbin-Watson:     </th> <td>   2.017</td>\n",
       "</tr>\n",
       "<tr>\n",
       "  <th>Prob(Omnibus):</th> <td> 0.012</td> <th>  Jarque-Bera (JB):  </th> <td>   6.817</td>\n",
       "</tr>\n",
       "<tr>\n",
       "  <th>Skew:</th>          <td>-0.097</td> <th>  Prob(JB):          </th> <td>  0.0331</td>\n",
       "</tr>\n",
       "<tr>\n",
       "  <th>Kurtosis:</th>      <td> 2.645</td> <th>  Cond. No.          </th> <td>    3.13</td>\n",
       "</tr>\n",
       "</table><br/><br/>Notes:<br/>[1] R² is computed without centering (uncentered) since the model does not contain a constant.<br/>[2] Standard Errors assume that the covariance matrix of the errors is correctly specified."
      ],
      "text/plain": [
       "<class 'statsmodels.iolib.summary.Summary'>\n",
       "\"\"\"\n",
       "                                 OLS Regression Results                                \n",
       "=======================================================================================\n",
       "Dep. Variable:                      y   R-squared (uncentered):                   0.980\n",
       "Model:                            OLS   Adj. R-squared (uncentered):              0.980\n",
       "Method:                 Least Squares   F-statistic:                          2.497e+04\n",
       "Date:                Tue, 25 Oct 2022   Prob (F-statistic):                        0.00\n",
       "Time:                        15:29:37   Log-Likelihood:                         -1439.1\n",
       "No. Observations:                1000   AIC:                                      2882.\n",
       "Df Residuals:                     998   BIC:                                      2892.\n",
       "Df Model:                           2                                                  \n",
       "Covariance Type:            nonrobust                                                  \n",
       "==============================================================================\n",
       "                 coef    std err          t      P>|t|      [0.025      0.975]\n",
       "------------------------------------------------------------------------------\n",
       "x1             2.5924      0.037     70.372      0.000       2.520       2.665\n",
       "x2             4.9572      0.059     83.655      0.000       4.841       5.073\n",
       "==============================================================================\n",
       "Omnibus:                        8.903   Durbin-Watson:                   2.017\n",
       "Prob(Omnibus):                  0.012   Jarque-Bera (JB):                6.817\n",
       "Skew:                          -0.097   Prob(JB):                       0.0331\n",
       "Kurtosis:                       2.645   Cond. No.                         3.13\n",
       "==============================================================================\n",
       "\n",
       "Notes:\n",
       "[1] R² is computed without centering (uncentered) since the model does not contain a constant.\n",
       "[2] Standard Errors assume that the covariance matrix of the errors is correctly specified.\n",
       "\"\"\""
      ]
     },
     "execution_count": 10,
     "metadata": {},
     "output_type": "execute_result"
    }
   ],
   "source": [
    "model = OLS(np.asarray(df[outcome]), np.asarray(df[[common_cause, treatment]], dtype=np.float64))\n",
    "result = model.fit()\n",
    "result.summary()"
   ]
  }
 ],
 "metadata": {
  "kernelspec": {
   "display_name": "Python 3",
   "language": "python",
   "name": "python3"
  },
  "language_info": {
   "codemirror_mode": {
    "name": "ipython",
    "version": 3
   },
   "file_extension": ".py",
   "mimetype": "text/x-python",
   "name": "python",
   "nbconvert_exporter": "python",
   "pygments_lexer": "ipython3",
   "version": "3.8.10"
  },
  "toc": {
   "base_numbering": 1,
   "nav_menu": {},
   "number_sections": false,
   "sideBar": true,
   "skip_h1_title": true,
   "title_cell": "Table of Contents",
   "title_sidebar": "Contents",
   "toc_cell": false,
   "toc_position": {},
   "toc_section_display": true,
   "toc_window_display": false
  }
 },
 "nbformat": 4,
 "nbformat_minor": 4
}
