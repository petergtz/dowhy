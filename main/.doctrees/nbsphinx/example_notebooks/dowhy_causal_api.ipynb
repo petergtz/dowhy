{
 "cells": [
  {
   "cell_type": "markdown",
   "metadata": {},
   "source": [
    "# Demo for the DoWhy causal API\n",
    "We show a simple example of adding a causal extension to any dataframe. "
   ]
  },
  {
   "cell_type": "code",
   "execution_count": 1,
   "metadata": {
    "execution": {
     "iopub.execute_input": "2022-08-02T08:17:55.870512Z",
     "iopub.status.busy": "2022-08-02T08:17:55.870116Z",
     "iopub.status.idle": "2022-08-02T08:17:57.035859Z",
     "shell.execute_reply": "2022-08-02T08:17:57.035102Z"
    }
   },
   "outputs": [
    {
     "name": "stdout",
     "output_type": "stream",
     "text": [
      "keywords are unexpanded, not using\n"
     ]
    }
   ],
   "source": [
    "import dowhy.datasets\n",
    "import dowhy.api\n",
    "\n",
    "import numpy as np\n",
    "import pandas as pd\n",
    "\n",
    "from statsmodels.api import OLS"
   ]
  },
  {
   "cell_type": "code",
   "execution_count": 2,
   "metadata": {
    "execution": {
     "iopub.execute_input": "2022-08-02T08:17:57.040188Z",
     "iopub.status.busy": "2022-08-02T08:17:57.039457Z",
     "iopub.status.idle": "2022-08-02T08:17:57.088020Z",
     "shell.execute_reply": "2022-08-02T08:17:57.087388Z"
    }
   },
   "outputs": [
    {
     "data": {
      "text/html": [
       "<div>\n",
       "<style scoped>\n",
       "    .dataframe tbody tr th:only-of-type {\n",
       "        vertical-align: middle;\n",
       "    }\n",
       "\n",
       "    .dataframe tbody tr th {\n",
       "        vertical-align: top;\n",
       "    }\n",
       "\n",
       "    .dataframe thead th {\n",
       "        text-align: right;\n",
       "    }\n",
       "</style>\n",
       "<table border=\"1\" class=\"dataframe\">\n",
       "  <thead>\n",
       "    <tr style=\"text-align: right;\">\n",
       "      <th></th>\n",
       "      <th>W0</th>\n",
       "      <th>v0</th>\n",
       "      <th>y</th>\n",
       "    </tr>\n",
       "  </thead>\n",
       "  <tbody>\n",
       "    <tr>\n",
       "      <th>0</th>\n",
       "      <td>0.941591</td>\n",
       "      <td>True</td>\n",
       "      <td>5.913060</td>\n",
       "    </tr>\n",
       "    <tr>\n",
       "      <th>1</th>\n",
       "      <td>1.445337</td>\n",
       "      <td>True</td>\n",
       "      <td>5.380751</td>\n",
       "    </tr>\n",
       "    <tr>\n",
       "      <th>2</th>\n",
       "      <td>0.585699</td>\n",
       "      <td>True</td>\n",
       "      <td>5.149434</td>\n",
       "    </tr>\n",
       "    <tr>\n",
       "      <th>3</th>\n",
       "      <td>1.076739</td>\n",
       "      <td>False</td>\n",
       "      <td>2.021763</td>\n",
       "    </tr>\n",
       "    <tr>\n",
       "      <th>4</th>\n",
       "      <td>-1.520760</td>\n",
       "      <td>False</td>\n",
       "      <td>-0.532469</td>\n",
       "    </tr>\n",
       "    <tr>\n",
       "      <th>...</th>\n",
       "      <td>...</td>\n",
       "      <td>...</td>\n",
       "      <td>...</td>\n",
       "    </tr>\n",
       "    <tr>\n",
       "      <th>995</th>\n",
       "      <td>0.744595</td>\n",
       "      <td>True</td>\n",
       "      <td>6.869821</td>\n",
       "    </tr>\n",
       "    <tr>\n",
       "      <th>996</th>\n",
       "      <td>-0.137876</td>\n",
       "      <td>False</td>\n",
       "      <td>-1.111942</td>\n",
       "    </tr>\n",
       "    <tr>\n",
       "      <th>997</th>\n",
       "      <td>-1.278868</td>\n",
       "      <td>False</td>\n",
       "      <td>0.288365</td>\n",
       "    </tr>\n",
       "    <tr>\n",
       "      <th>998</th>\n",
       "      <td>0.929446</td>\n",
       "      <td>True</td>\n",
       "      <td>5.555550</td>\n",
       "    </tr>\n",
       "    <tr>\n",
       "      <th>999</th>\n",
       "      <td>-0.755772</td>\n",
       "      <td>False</td>\n",
       "      <td>-1.096770</td>\n",
       "    </tr>\n",
       "  </tbody>\n",
       "</table>\n",
       "<p>1000 rows × 3 columns</p>\n",
       "</div>"
      ],
      "text/plain": [
       "           W0     v0         y\n",
       "0    0.941591   True  5.913060\n",
       "1    1.445337   True  5.380751\n",
       "2    0.585699   True  5.149434\n",
       "3    1.076739  False  2.021763\n",
       "4   -1.520760  False -0.532469\n",
       "..        ...    ...       ...\n",
       "995  0.744595   True  6.869821\n",
       "996 -0.137876  False -1.111942\n",
       "997 -1.278868  False  0.288365\n",
       "998  0.929446   True  5.555550\n",
       "999 -0.755772  False -1.096770\n",
       "\n",
       "[1000 rows x 3 columns]"
      ]
     },
     "execution_count": 2,
     "metadata": {},
     "output_type": "execute_result"
    }
   ],
   "source": [
    "data = dowhy.datasets.linear_dataset(beta=5,\n",
    "        num_common_causes=1,\n",
    "        num_instruments = 0,\n",
    "        num_samples=1000,\n",
    "        treatment_is_binary=True)\n",
    "df = data['df']\n",
    "df['y'] = df['y'] + np.random.normal(size=len(df)) # Adding noise to data. Without noise, the variance in Y|X, Z is zero, and mcmc fails.\n",
    "#data['dot_graph'] = 'digraph { v ->y;X0-> v;X0-> y;}'\n",
    "\n",
    "treatment= data[\"treatment_name\"][0]\n",
    "outcome = data[\"outcome_name\"][0]\n",
    "common_cause = data[\"common_causes_names\"][0]\n",
    "df"
   ]
  },
  {
   "cell_type": "code",
   "execution_count": 3,
   "metadata": {
    "execution": {
     "iopub.execute_input": "2022-08-02T08:17:57.091125Z",
     "iopub.status.busy": "2022-08-02T08:17:57.090768Z",
     "iopub.status.idle": "2022-08-02T08:17:57.860009Z",
     "shell.execute_reply": "2022-08-02T08:17:57.859451Z"
    }
   },
   "outputs": [
    {
     "data": {
      "text/plain": [
       "<AxesSubplot:xlabel='v0'>"
      ]
     },
     "execution_count": 3,
     "metadata": {},
     "output_type": "execute_result"
    },
    {
     "data": {
      "image/png": "[encoded data removed]",
      "text/plain": [
       "<Figure size 432x288 with 1 Axes>"
      ]
     },
     "metadata": {
      "needs_background": "light"
     },
     "output_type": "display_data"
    }
   ],
   "source": [
    "# data['df'] is just a regular pandas.DataFrame\n",
    "df.causal.do(x=treatment,\n",
    "                     variable_types={treatment: 'b', outcome: 'c', common_cause: 'c'},\n",
    "                     outcome=outcome,\n",
    "                     common_causes=[common_cause],\n",
    "                     proceed_when_unidentifiable=True).groupby(treatment).mean().plot(y=outcome, kind='bar')"
   ]
  },
  {
   "cell_type": "code",
   "execution_count": 4,
   "metadata": {
    "execution": {
     "iopub.execute_input": "2022-08-02T08:17:57.863830Z",
     "iopub.status.busy": "2022-08-02T08:17:57.863311Z",
     "iopub.status.idle": "2022-08-02T08:17:57.955321Z",
     "shell.execute_reply": "2022-08-02T08:17:57.954791Z"
    }
   },
   "outputs": [
    {
     "data": {
      "text/plain": [
       "<AxesSubplot:xlabel='v0'>"
      ]
     },
     "execution_count": 4,
     "metadata": {},
     "output_type": "execute_result"
    },
    {
     "data": {
      "image/png": "[encoded data removed]",
      "text/plain": [
       "<Figure size 432x288 with 1 Axes>"
      ]
     },
     "metadata": {
      "needs_background": "light"
     },
     "output_type": "display_data"
    }
   ],
   "source": [
    "df.causal.do(x={treatment: 1}, \n",
    "              variable_types={treatment:'b', outcome: 'c', common_cause: 'c'}, \n",
    "              outcome=outcome,\n",
    "              method='weighting', \n",
    "              common_causes=[common_cause],\n",
    "              proceed_when_unidentifiable=True).groupby(treatment).mean().plot(y=outcome, kind='bar')"
   ]
  },
  {
   "cell_type": "code",
   "execution_count": 5,
   "metadata": {
    "execution": {
     "iopub.execute_input": "2022-08-02T08:17:57.958887Z",
     "iopub.status.busy": "2022-08-02T08:17:57.958427Z",
     "iopub.status.idle": "2022-08-02T08:17:57.990079Z",
     "shell.execute_reply": "2022-08-02T08:17:57.989562Z"
    }
   },
   "outputs": [],
   "source": [
    "cdf_1 = df.causal.do(x={treatment: 1}, \n",
    "              variable_types={treatment: 'b', outcome: 'c', common_cause: 'c'}, \n",
    "              outcome=outcome, \n",
    "              dot_graph=data['dot_graph'],\n",
    "              proceed_when_unidentifiable=True)\n",
    "\n",
    "cdf_0 = df.causal.do(x={treatment: 0}, \n",
    "              variable_types={treatment: 'b', outcome: 'c', common_cause: 'c'}, \n",
    "              outcome=outcome, \n",
    "              dot_graph=data['dot_graph'],\n",
    "              proceed_when_unidentifiable=True)\n"
   ]
  },
  {
   "cell_type": "code",
   "execution_count": 6,
   "metadata": {
    "execution": {
     "iopub.execute_input": "2022-08-02T08:17:57.993559Z",
     "iopub.status.busy": "2022-08-02T08:17:57.993152Z",
     "iopub.status.idle": "2022-08-02T08:17:58.005408Z",
     "shell.execute_reply": "2022-08-02T08:17:58.004848Z"
    },
    "scrolled": true
   },
   "outputs": [
    {
     "data": {
      "text/html": [
       "<div>\n",
       "<style scoped>\n",
       "    .dataframe tbody tr th:only-of-type {\n",
       "        vertical-align: middle;\n",
       "    }\n",
       "\n",
       "    .dataframe tbody tr th {\n",
       "        vertical-align: top;\n",
       "    }\n",
       "\n",
       "    .dataframe thead th {\n",
       "        text-align: right;\n",
       "    }\n",
       "</style>\n",
       "<table border=\"1\" class=\"dataframe\">\n",
       "  <thead>\n",
       "    <tr style=\"text-align: right;\">\n",
       "      <th></th>\n",
       "      <th>W0</th>\n",
       "      <th>v0</th>\n",
       "      <th>y</th>\n",
       "      <th>propensity_score</th>\n",
       "      <th>weight</th>\n",
       "    </tr>\n",
       "  </thead>\n",
       "  <tbody>\n",
       "    <tr>\n",
       "      <th>0</th>\n",
       "      <td>1.118007</td>\n",
       "      <td>False</td>\n",
       "      <td>1.590108</td>\n",
       "      <td>0.067099</td>\n",
       "      <td>14.903312</td>\n",
       "    </tr>\n",
       "    <tr>\n",
       "      <th>1</th>\n",
       "      <td>-0.354756</td>\n",
       "      <td>False</td>\n",
       "      <td>0.990830</td>\n",
       "      <td>0.673046</td>\n",
       "      <td>1.485782</td>\n",
       "    </tr>\n",
       "    <tr>\n",
       "      <th>2</th>\n",
       "      <td>1.494524</td>\n",
       "      <td>False</td>\n",
       "      <td>0.117046</td>\n",
       "      <td>0.029609</td>\n",
       "      <td>33.773465</td>\n",
       "    </tr>\n",
       "    <tr>\n",
       "      <th>3</th>\n",
       "      <td>-0.144071</td>\n",
       "      <td>False</td>\n",
       "      <td>-0.032810</td>\n",
       "      <td>0.560250</td>\n",
       "      <td>1.784919</td>\n",
       "    </tr>\n",
       "    <tr>\n",
       "      <th>4</th>\n",
       "      <td>1.118007</td>\n",
       "      <td>False</td>\n",
       "      <td>1.590108</td>\n",
       "      <td>0.067099</td>\n",
       "      <td>14.903312</td>\n",
       "    </tr>\n",
       "    <tr>\n",
       "      <th>...</th>\n",
       "      <td>...</td>\n",
       "      <td>...</td>\n",
       "      <td>...</td>\n",
       "      <td>...</td>\n",
       "      <td>...</td>\n",
       "    </tr>\n",
       "    <tr>\n",
       "      <th>995</th>\n",
       "      <td>-0.318083</td>\n",
       "      <td>False</td>\n",
       "      <td>-0.854877</td>\n",
       "      <td>0.654409</td>\n",
       "      <td>1.528097</td>\n",
       "    </tr>\n",
       "    <tr>\n",
       "      <th>996</th>\n",
       "      <td>1.494524</td>\n",
       "      <td>False</td>\n",
       "      <td>0.117046</td>\n",
       "      <td>0.029609</td>\n",
       "      <td>33.773465</td>\n",
       "    </tr>\n",
       "    <tr>\n",
       "      <th>997</th>\n",
       "      <td>1.095887</td>\n",
       "      <td>False</td>\n",
       "      <td>0.880985</td>\n",
       "      <td>0.070322</td>\n",
       "      <td>14.220238</td>\n",
       "    </tr>\n",
       "    <tr>\n",
       "      <th>998</th>\n",
       "      <td>-0.778031</td>\n",
       "      <td>False</td>\n",
       "      <td>-1.589359</td>\n",
       "      <td>0.843694</td>\n",
       "      <td>1.185264</td>\n",
       "    </tr>\n",
       "    <tr>\n",
       "      <th>999</th>\n",
       "      <td>-0.813665</td>\n",
       "      <td>False</td>\n",
       "      <td>0.521667</td>\n",
       "      <td>0.854100</td>\n",
       "      <td>1.170822</td>\n",
       "    </tr>\n",
       "  </tbody>\n",
       "</table>\n",
       "<p>1000 rows × 5 columns</p>\n",
       "</div>"
      ],
      "text/plain": [
       "           W0     v0         y  propensity_score     weight\n",
       "0    1.118007  False  1.590108          0.067099  14.903312\n",
       "1   -0.354756  False  0.990830          0.673046   1.485782\n",
       "2    1.494524  False  0.117046          0.029609  33.773465\n",
       "3   -0.144071  False -0.032810          0.560250   1.784919\n",
       "4    1.118007  False  1.590108          0.067099  14.903312\n",
       "..        ...    ...       ...               ...        ...\n",
       "995 -0.318083  False -0.854877          0.654409   1.528097\n",
       "996  1.494524  False  0.117046          0.029609  33.773465\n",
       "997  1.095887  False  0.880985          0.070322  14.220238\n",
       "998 -0.778031  False -1.589359          0.843694   1.185264\n",
       "999 -0.813665  False  0.521667          0.854100   1.170822\n",
       "\n",
       "[1000 rows x 5 columns]"
      ]
     },
     "execution_count": 6,
     "metadata": {},
     "output_type": "execute_result"
    }
   ],
   "source": [
    "cdf_0"
   ]
  },
  {
   "cell_type": "code",
   "execution_count": 7,
   "metadata": {
    "execution": {
     "iopub.execute_input": "2022-08-02T08:17:58.008105Z",
     "iopub.status.busy": "2022-08-02T08:17:58.007887Z",
     "iopub.status.idle": "2022-08-02T08:17:58.019387Z",
     "shell.execute_reply": "2022-08-02T08:17:58.018825Z"
    }
   },
   "outputs": [
    {
     "data": {
      "text/html": [
       "<div>\n",
       "<style scoped>\n",
       "    .dataframe tbody tr th:only-of-type {\n",
       "        vertical-align: middle;\n",
       "    }\n",
       "\n",
       "    .dataframe tbody tr th {\n",
       "        vertical-align: top;\n",
       "    }\n",
       "\n",
       "    .dataframe thead th {\n",
       "        text-align: right;\n",
       "    }\n",
       "</style>\n",
       "<table border=\"1\" class=\"dataframe\">\n",
       "  <thead>\n",
       "    <tr style=\"text-align: right;\">\n",
       "      <th></th>\n",
       "      <th>W0</th>\n",
       "      <th>v0</th>\n",
       "      <th>y</th>\n",
       "      <th>propensity_score</th>\n",
       "      <th>weight</th>\n",
       "    </tr>\n",
       "  </thead>\n",
       "  <tbody>\n",
       "    <tr>\n",
       "      <th>0</th>\n",
       "      <td>1.302894</td>\n",
       "      <td>True</td>\n",
       "      <td>4.550083</td>\n",
       "      <td>0.954920</td>\n",
       "      <td>1.047208</td>\n",
       "    </tr>\n",
       "    <tr>\n",
       "      <th>1</th>\n",
       "      <td>-0.428836</td>\n",
       "      <td>True</td>\n",
       "      <td>5.060365</td>\n",
       "      <td>0.290964</td>\n",
       "      <td>3.436853</td>\n",
       "    </tr>\n",
       "    <tr>\n",
       "      <th>2</th>\n",
       "      <td>2.048998</td>\n",
       "      <td>True</td>\n",
       "      <td>6.975522</td>\n",
       "      <td>0.991443</td>\n",
       "      <td>1.008631</td>\n",
       "    </tr>\n",
       "    <tr>\n",
       "      <th>3</th>\n",
       "      <td>-1.163314</td>\n",
       "      <td>True</td>\n",
       "      <td>3.416153</td>\n",
       "      <td>0.071529</td>\n",
       "      <td>13.980311</td>\n",
       "    </tr>\n",
       "    <tr>\n",
       "      <th>4</th>\n",
       "      <td>1.217471</td>\n",
       "      <td>True</td>\n",
       "      <td>4.918229</td>\n",
       "      <td>0.945764</td>\n",
       "      <td>1.057346</td>\n",
       "    </tr>\n",
       "    <tr>\n",
       "      <th>...</th>\n",
       "      <td>...</td>\n",
       "      <td>...</td>\n",
       "      <td>...</td>\n",
       "      <td>...</td>\n",
       "      <td>...</td>\n",
       "    </tr>\n",
       "    <tr>\n",
       "      <th>995</th>\n",
       "      <td>0.329450</td>\n",
       "      <td>True</td>\n",
       "      <td>6.369552</td>\n",
       "      <td>0.697672</td>\n",
       "      <td>1.433337</td>\n",
       "    </tr>\n",
       "    <tr>\n",
       "      <th>996</th>\n",
       "      <td>1.081946</td>\n",
       "      <td>True</td>\n",
       "      <td>3.857809</td>\n",
       "      <td>0.927574</td>\n",
       "      <td>1.078082</td>\n",
       "    </tr>\n",
       "    <tr>\n",
       "      <th>997</th>\n",
       "      <td>0.728955</td>\n",
       "      <td>True</td>\n",
       "      <td>6.459965</td>\n",
       "      <td>0.851458</td>\n",
       "      <td>1.174455</td>\n",
       "    </tr>\n",
       "    <tr>\n",
       "      <th>998</th>\n",
       "      <td>-1.163314</td>\n",
       "      <td>True</td>\n",
       "      <td>3.416153</td>\n",
       "      <td>0.071529</td>\n",
       "      <td>13.980311</td>\n",
       "    </tr>\n",
       "    <tr>\n",
       "      <th>999</th>\n",
       "      <td>0.829655</td>\n",
       "      <td>True</td>\n",
       "      <td>6.814998</td>\n",
       "      <td>0.878192</td>\n",
       "      <td>1.138703</td>\n",
       "    </tr>\n",
       "  </tbody>\n",
       "</table>\n",
       "<p>1000 rows × 5 columns</p>\n",
       "</div>"
      ],
      "text/plain": [
       "           W0    v0         y  propensity_score     weight\n",
       "0    1.302894  True  4.550083          0.954920   1.047208\n",
       "1   -0.428836  True  5.060365          0.290964   3.436853\n",
       "2    2.048998  True  6.975522          0.991443   1.008631\n",
       "3   -1.163314  True  3.416153          0.071529  13.980311\n",
       "4    1.217471  True  4.918229          0.945764   1.057346\n",
       "..        ...   ...       ...               ...        ...\n",
       "995  0.329450  True  6.369552          0.697672   1.433337\n",
       "996  1.081946  True  3.857809          0.927574   1.078082\n",
       "997  0.728955  True  6.459965          0.851458   1.174455\n",
       "998 -1.163314  True  3.416153          0.071529  13.980311\n",
       "999  0.829655  True  6.814998          0.878192   1.138703\n",
       "\n",
       "[1000 rows x 5 columns]"
      ]
     },
     "execution_count": 7,
     "metadata": {},
     "output_type": "execute_result"
    }
   ],
   "source": [
    "cdf_1"
   ]
  },
  {
   "cell_type": "markdown",
   "metadata": {},
   "source": [
    "## Comparing the estimate to Linear Regression\n",
    "First, estimating the effect using the causal data frame, and the 95% confidence interval."
   ]
  },
  {
   "cell_type": "code",
   "execution_count": 8,
   "metadata": {
    "execution": {
     "iopub.execute_input": "2022-08-02T08:17:58.022227Z",
     "iopub.status.busy": "2022-08-02T08:17:58.022010Z",
     "iopub.status.idle": "2022-08-02T08:17:58.125161Z",
     "shell.execute_reply": "2022-08-02T08:17:58.123845Z"
    }
   },
   "outputs": [
    {
     "data": {
      "image/png": "[encoded data removed]",
      "text/latex": [
       "$\\displaystyle 5.05351284510877$"
      ],
      "text/plain": [
       "5.053512845108774"
      ]
     },
     "execution_count": 8,
     "metadata": {},
     "output_type": "execute_result"
    }
   ],
   "source": [
    "(cdf_1['y'] - cdf_0['y']).mean()"
   ]
  },
  {
   "cell_type": "code",
   "execution_count": 9,
   "metadata": {
    "execution": {
     "iopub.execute_input": "2022-08-02T08:17:58.128370Z",
     "iopub.status.busy": "2022-08-02T08:17:58.128124Z",
     "iopub.status.idle": "2022-08-02T08:17:58.155314Z",
     "shell.execute_reply": "2022-08-02T08:17:58.154709Z"
    }
   },
   "outputs": [
    {
     "data": {
      "image/png": "[encoded data removed]",
      "text/latex": [
       "$\\displaystyle 0.0980215041150304$"
      ],
      "text/plain": [
       "0.09802150411503044"
      ]
     },
     "execution_count": 9,
     "metadata": {},
     "output_type": "execute_result"
    }
   ],
   "source": [
    "1.96*(cdf_1['y'] - cdf_0['y']).std() / np.sqrt(len(df))"
   ]
  },
  {
   "cell_type": "markdown",
   "metadata": {},
   "source": [
    "Comparing to the estimate from OLS."
   ]
  },
  {
   "cell_type": "code",
   "execution_count": 10,
   "metadata": {
    "execution": {
     "iopub.execute_input": "2022-08-02T08:17:58.158736Z",
     "iopub.status.busy": "2022-08-02T08:17:58.158387Z",
     "iopub.status.idle": "2022-08-02T08:17:58.178158Z",
     "shell.execute_reply": "2022-08-02T08:17:58.177391Z"
    }
   },
   "outputs": [
    {
     "data": {
      "text/html": [
       "<table class=\"simpletable\">\n",
       "<caption>OLS Regression Results</caption>\n",
       "<tr>\n",
       "  <th>Dep. Variable:</th>            <td>y</td>        <th>  R-squared (uncentered):</th>      <td>   0.948</td>\n",
       "</tr>\n",
       "<tr>\n",
       "  <th>Model:</th>                   <td>OLS</td>       <th>  Adj. R-squared (uncentered):</th> <td>   0.947</td>\n",
       "</tr>\n",
       "<tr>\n",
       "  <th>Method:</th>             <td>Least Squares</td>  <th>  F-statistic:       </th>          <td>   9010.</td>\n",
       "</tr>\n",
       "<tr>\n",
       "  <th>Date:</th>             <td>Tue, 02 Aug 2022</td> <th>  Prob (F-statistic):</th>           <td>  0.00</td> \n",
       "</tr>\n",
       "<tr>\n",
       "  <th>Time:</th>                 <td>08:17:58</td>     <th>  Log-Likelihood:    </th>          <td> -1446.8</td>\n",
       "</tr>\n",
       "<tr>\n",
       "  <th>No. Observations:</th>      <td>  1000</td>      <th>  AIC:               </th>          <td>   2898.</td>\n",
       "</tr>\n",
       "<tr>\n",
       "  <th>Df Residuals:</th>          <td>   998</td>      <th>  BIC:               </th>          <td>   2907.</td>\n",
       "</tr>\n",
       "<tr>\n",
       "  <th>Df Model:</th>              <td>     2</td>      <th>                     </th>              <td> </td>   \n",
       "</tr>\n",
       "<tr>\n",
       "  <th>Covariance Type:</th>      <td>nonrobust</td>    <th>                     </th>              <td> </td>   \n",
       "</tr>\n",
       "</table>\n",
       "<table class=\"simpletable\">\n",
       "<tr>\n",
       "   <td></td>     <th>coef</th>     <th>std err</th>      <th>t</th>      <th>P>|t|</th>  <th>[0.025</th>    <th>0.975]</th>  \n",
       "</tr>\n",
       "<tr>\n",
       "  <th>x1</th> <td>    0.4618</td> <td>    0.039</td> <td>   11.759</td> <td> 0.000</td> <td>    0.385</td> <td>    0.539</td>\n",
       "</tr>\n",
       "<tr>\n",
       "  <th>x2</th> <td>    5.0295</td> <td>    0.054</td> <td>   93.741</td> <td> 0.000</td> <td>    4.924</td> <td>    5.135</td>\n",
       "</tr>\n",
       "</table>\n",
       "<table class=\"simpletable\">\n",
       "<tr>\n",
       "  <th>Omnibus:</th>       <td> 5.884</td> <th>  Durbin-Watson:     </th> <td>   1.955</td>\n",
       "</tr>\n",
       "<tr>\n",
       "  <th>Prob(Omnibus):</th> <td> 0.053</td> <th>  Jarque-Bera (JB):  </th> <td>   5.824</td>\n",
       "</tr>\n",
       "<tr>\n",
       "  <th>Skew:</th>          <td> 0.160</td> <th>  Prob(JB):          </th> <td>  0.0544</td>\n",
       "</tr>\n",
       "<tr>\n",
       "  <th>Kurtosis:</th>      <td> 3.193</td> <th>  Cond. No.          </th> <td>    2.34</td>\n",
       "</tr>\n",
       "</table><br/><br/>Notes:<br/>[1] R² is computed without centering (uncentered) since the model does not contain a constant.<br/>[2] Standard Errors assume that the covariance matrix of the errors is correctly specified."
      ],
      "text/plain": [
       "<class 'statsmodels.iolib.summary.Summary'>\n",
       "\"\"\"\n",
       "                                 OLS Regression Results                                \n",
       "=======================================================================================\n",
       "Dep. Variable:                      y   R-squared (uncentered):                   0.948\n",
       "Model:                            OLS   Adj. R-squared (uncentered):              0.947\n",
       "Method:                 Least Squares   F-statistic:                              9010.\n",
       "Date:                Tue, 02 Aug 2022   Prob (F-statistic):                        0.00\n",
       "Time:                        08:17:58   Log-Likelihood:                         -1446.8\n",
       "No. Observations:                1000   AIC:                                      2898.\n",
       "Df Residuals:                     998   BIC:                                      2907.\n",
       "Df Model:                           2                                                  \n",
       "Covariance Type:            nonrobust                                                  \n",
       "==============================================================================\n",
       "                 coef    std err          t      P>|t|      [0.025      0.975]\n",
       "------------------------------------------------------------------------------\n",
       "x1             0.4618      0.039     11.759      0.000       0.385       0.539\n",
       "x2             5.0295      0.054     93.741      0.000       4.924       5.135\n",
       "==============================================================================\n",
       "Omnibus:                        5.884   Durbin-Watson:                   1.955\n",
       "Prob(Omnibus):                  0.053   Jarque-Bera (JB):                5.824\n",
       "Skew:                           0.160   Prob(JB):                       0.0544\n",
       "Kurtosis:                       3.193   Cond. No.                         2.34\n",
       "==============================================================================\n",
       "\n",
       "Notes:\n",
       "[1] R² is computed without centering (uncentered) since the model does not contain a constant.\n",
       "[2] Standard Errors assume that the covariance matrix of the errors is correctly specified.\n",
       "\"\"\""
      ]
     },
     "execution_count": 10,
     "metadata": {},
     "output_type": "execute_result"
    }
   ],
   "source": [
    "model = OLS(np.asarray(df[outcome]), np.asarray(df[[common_cause, treatment]], dtype=np.float64))\n",
    "result = model.fit()\n",
    "result.summary()"
   ]
  }
 ],
 "metadata": {
  "kernelspec": {
   "display_name": "Python 3",
   "language": "python",
   "name": "python3"
  },
  "language_info": {
   "codemirror_mode": {
    "name": "ipython",
    "version": 3
   },
   "file_extension": ".py",
   "mimetype": "text/x-python",
   "name": "python",
   "nbconvert_exporter": "python",
   "pygments_lexer": "ipython3",
   "version": "3.8.10"
  },
  "toc": {
   "base_numbering": 1,
   "nav_menu": {},
   "number_sections": false,
   "sideBar": true,
   "skip_h1_title": true,
   "title_cell": "Table of Contents",
   "title_sidebar": "Contents",
   "toc_cell": false,
   "toc_position": {},
   "toc_section_display": true,
   "toc_window_display": false
  }
 },
 "nbformat": 4,
 "nbformat_minor": 4
}
