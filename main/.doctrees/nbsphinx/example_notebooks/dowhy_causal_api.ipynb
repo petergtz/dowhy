{
 "cells": [
  {
   "cell_type": "markdown",
   "metadata": {},
   "source": [
    "# Demo for the DoWhy causal API\n",
    "We show a simple example of adding a causal extension to any dataframe. "
   ]
  },
  {
   "cell_type": "code",
   "execution_count": 1,
   "metadata": {
    "execution": {
     "iopub.execute_input": "2023-03-27T12:34:20.241684Z",
     "iopub.status.busy": "2023-03-27T12:34:20.241192Z",
     "iopub.status.idle": "2023-03-27T12:34:21.960292Z",
     "shell.execute_reply": "2023-03-27T12:34:21.959555Z"
    }
   },
   "outputs": [],
   "source": [
    "import dowhy.datasets\n",
    "import dowhy.api\n",
    "\n",
    "import numpy as np\n",
    "import pandas as pd\n",
    "\n",
    "from statsmodels.api import OLS"
   ]
  },
  {
   "cell_type": "code",
   "execution_count": 2,
   "metadata": {
    "execution": {
     "iopub.execute_input": "2023-03-27T12:34:21.964117Z",
     "iopub.status.busy": "2023-03-27T12:34:21.963566Z",
     "iopub.status.idle": "2023-03-27T12:34:22.014937Z",
     "shell.execute_reply": "2023-03-27T12:34:22.014030Z"
    }
   },
   "outputs": [
    {
     "data": {
      "text/html": [
       "<div>\n",
       "<style scoped>\n",
       "    .dataframe tbody tr th:only-of-type {\n",
       "        vertical-align: middle;\n",
       "    }\n",
       "\n",
       "    .dataframe tbody tr th {\n",
       "        vertical-align: top;\n",
       "    }\n",
       "\n",
       "    .dataframe thead th {\n",
       "        text-align: right;\n",
       "    }\n",
       "</style>\n",
       "<table border=\"1\" class=\"dataframe\">\n",
       "  <thead>\n",
       "    <tr style=\"text-align: right;\">\n",
       "      <th></th>\n",
       "      <th>W0</th>\n",
       "      <th>v0</th>\n",
       "      <th>y</th>\n",
       "    </tr>\n",
       "  </thead>\n",
       "  <tbody>\n",
       "    <tr>\n",
       "      <th>0</th>\n",
       "      <td>0.495676</td>\n",
       "      <td>False</td>\n",
       "      <td>0.114497</td>\n",
       "    </tr>\n",
       "    <tr>\n",
       "      <th>1</th>\n",
       "      <td>0.271500</td>\n",
       "      <td>True</td>\n",
       "      <td>6.111279</td>\n",
       "    </tr>\n",
       "    <tr>\n",
       "      <th>2</th>\n",
       "      <td>0.405087</td>\n",
       "      <td>True</td>\n",
       "      <td>4.467770</td>\n",
       "    </tr>\n",
       "    <tr>\n",
       "      <th>3</th>\n",
       "      <td>1.437909</td>\n",
       "      <td>True</td>\n",
       "      <td>10.856139</td>\n",
       "    </tr>\n",
       "    <tr>\n",
       "      <th>4</th>\n",
       "      <td>0.853315</td>\n",
       "      <td>False</td>\n",
       "      <td>5.036457</td>\n",
       "    </tr>\n",
       "    <tr>\n",
       "      <th>...</th>\n",
       "      <td>...</td>\n",
       "      <td>...</td>\n",
       "      <td>...</td>\n",
       "    </tr>\n",
       "    <tr>\n",
       "      <th>995</th>\n",
       "      <td>0.683802</td>\n",
       "      <td>False</td>\n",
       "      <td>0.712246</td>\n",
       "    </tr>\n",
       "    <tr>\n",
       "      <th>996</th>\n",
       "      <td>-0.649195</td>\n",
       "      <td>False</td>\n",
       "      <td>-3.760712</td>\n",
       "    </tr>\n",
       "    <tr>\n",
       "      <th>997</th>\n",
       "      <td>1.223760</td>\n",
       "      <td>False</td>\n",
       "      <td>4.286952</td>\n",
       "    </tr>\n",
       "    <tr>\n",
       "      <th>998</th>\n",
       "      <td>2.577242</td>\n",
       "      <td>True</td>\n",
       "      <td>11.527125</td>\n",
       "    </tr>\n",
       "    <tr>\n",
       "      <th>999</th>\n",
       "      <td>0.762801</td>\n",
       "      <td>True</td>\n",
       "      <td>6.146325</td>\n",
       "    </tr>\n",
       "  </tbody>\n",
       "</table>\n",
       "<p>1000 rows × 3 columns</p>\n",
       "</div>"
      ],
      "text/plain": [
       "           W0     v0          y\n",
       "0    0.495676  False   0.114497\n",
       "1    0.271500   True   6.111279\n",
       "2    0.405087   True   4.467770\n",
       "3    1.437909   True  10.856139\n",
       "4    0.853315  False   5.036457\n",
       "..        ...    ...        ...\n",
       "995  0.683802  False   0.712246\n",
       "996 -0.649195  False  -3.760712\n",
       "997  1.223760  False   4.286952\n",
       "998  2.577242   True  11.527125\n",
       "999  0.762801   True   6.146325\n",
       "\n",
       "[1000 rows x 3 columns]"
      ]
     },
     "execution_count": 2,
     "metadata": {},
     "output_type": "execute_result"
    }
   ],
   "source": [
    "data = dowhy.datasets.linear_dataset(beta=5,\n",
    "        num_common_causes=1,\n",
    "        num_instruments = 0,\n",
    "        num_samples=1000,\n",
    "        treatment_is_binary=True)\n",
    "df = data['df']\n",
    "df['y'] = df['y'] + np.random.normal(size=len(df)) # Adding noise to data. Without noise, the variance in Y|X, Z is zero, and mcmc fails.\n",
    "#data['dot_graph'] = 'digraph { v ->y;X0-> v;X0-> y;}'\n",
    "\n",
    "treatment= data[\"treatment_name\"][0]\n",
    "outcome = data[\"outcome_name\"][0]\n",
    "common_cause = data[\"common_causes_names\"][0]\n",
    "df"
   ]
  },
  {
   "cell_type": "code",
   "execution_count": 3,
   "metadata": {
    "execution": {
     "iopub.execute_input": "2023-03-27T12:34:22.018300Z",
     "iopub.status.busy": "2023-03-27T12:34:22.017860Z",
     "iopub.status.idle": "2023-03-27T12:34:22.184723Z",
     "shell.execute_reply": "2023-03-27T12:34:22.184060Z"
    }
   },
   "outputs": [
    {
     "data": {
      "text/plain": [
       "<AxesSubplot: xlabel='v0'>"
      ]
     },
     "execution_count": 3,
     "metadata": {},
     "output_type": "execute_result"
    },
    {
     "data": {
      "image/png": "[encoded data removed]",
      "text/plain": [
       "<Figure size 640x480 with 1 Axes>"
      ]
     },
     "metadata": {},
     "output_type": "display_data"
    }
   ],
   "source": [
    "# data['df'] is just a regular pandas.DataFrame\n",
    "df.causal.do(x=treatment,\n",
    "                     variable_types={treatment: 'b', outcome: 'c', common_cause: 'c'},\n",
    "                     outcome=outcome,\n",
    "                     common_causes=[common_cause],\n",
    "                     proceed_when_unidentifiable=True).groupby(treatment).mean().plot(y=outcome, kind='bar')"
   ]
  },
  {
   "cell_type": "code",
   "execution_count": 4,
   "metadata": {
    "execution": {
     "iopub.execute_input": "2023-03-27T12:34:22.187851Z",
     "iopub.status.busy": "2023-03-27T12:34:22.187299Z",
     "iopub.status.idle": "2023-03-27T12:34:22.435101Z",
     "shell.execute_reply": "2023-03-27T12:34:22.434308Z"
    }
   },
   "outputs": [
    {
     "data": {
      "text/plain": [
       "<AxesSubplot: xlabel='v0'>"
      ]
     },
     "execution_count": 4,
     "metadata": {},
     "output_type": "execute_result"
    },
    {
     "data": {
      "image/png": "[encoded data removed]",
      "text/plain": [
       "<Figure size 640x480 with 1 Axes>"
      ]
     },
     "metadata": {},
     "output_type": "display_data"
    }
   ],
   "source": [
    "df.causal.do(x={treatment: 1}, \n",
    "              variable_types={treatment:'b', outcome: 'c', common_cause: 'c'}, \n",
    "              outcome=outcome,\n",
    "              method='weighting', \n",
    "              common_causes=[common_cause],\n",
    "              proceed_when_unidentifiable=True).groupby(treatment).mean().plot(y=outcome, kind='bar')"
   ]
  },
  {
   "cell_type": "code",
   "execution_count": 5,
   "metadata": {
    "execution": {
     "iopub.execute_input": "2023-03-27T12:34:22.439241Z",
     "iopub.status.busy": "2023-03-27T12:34:22.438638Z",
     "iopub.status.idle": "2023-03-27T12:34:22.471464Z",
     "shell.execute_reply": "2023-03-27T12:34:22.470760Z"
    }
   },
   "outputs": [],
   "source": [
    "cdf_1 = df.causal.do(x={treatment: 1}, \n",
    "              variable_types={treatment: 'b', outcome: 'c', common_cause: 'c'}, \n",
    "              outcome=outcome, \n",
    "              dot_graph=data['dot_graph'],\n",
    "              proceed_when_unidentifiable=True)\n",
    "\n",
    "cdf_0 = df.causal.do(x={treatment: 0}, \n",
    "              variable_types={treatment: 'b', outcome: 'c', common_cause: 'c'}, \n",
    "              outcome=outcome, \n",
    "              dot_graph=data['dot_graph'],\n",
    "              proceed_when_unidentifiable=True)\n"
   ]
  },
  {
   "cell_type": "code",
   "execution_count": 6,
   "metadata": {
    "execution": {
     "iopub.execute_input": "2023-03-27T12:34:22.475315Z",
     "iopub.status.busy": "2023-03-27T12:34:22.474855Z",
     "iopub.status.idle": "2023-03-27T12:34:22.487768Z",
     "shell.execute_reply": "2023-03-27T12:34:22.487211Z"
    },
    "scrolled": true
   },
   "outputs": [
    {
     "data": {
      "text/html": [
       "<div>\n",
       "<style scoped>\n",
       "    .dataframe tbody tr th:only-of-type {\n",
       "        vertical-align: middle;\n",
       "    }\n",
       "\n",
       "    .dataframe tbody tr th {\n",
       "        vertical-align: top;\n",
       "    }\n",
       "\n",
       "    .dataframe thead th {\n",
       "        text-align: right;\n",
       "    }\n",
       "</style>\n",
       "<table border=\"1\" class=\"dataframe\">\n",
       "  <thead>\n",
       "    <tr style=\"text-align: right;\">\n",
       "      <th></th>\n",
       "      <th>W0</th>\n",
       "      <th>v0</th>\n",
       "      <th>y</th>\n",
       "      <th>propensity_score</th>\n",
       "      <th>weight</th>\n",
       "    </tr>\n",
       "  </thead>\n",
       "  <tbody>\n",
       "    <tr>\n",
       "      <th>0</th>\n",
       "      <td>0.962677</td>\n",
       "      <td>False</td>\n",
       "      <td>2.731163</td>\n",
       "      <td>0.488649</td>\n",
       "      <td>2.046457</td>\n",
       "    </tr>\n",
       "    <tr>\n",
       "      <th>1</th>\n",
       "      <td>0.963060</td>\n",
       "      <td>False</td>\n",
       "      <td>1.285152</td>\n",
       "      <td>0.488636</td>\n",
       "      <td>2.046512</td>\n",
       "    </tr>\n",
       "    <tr>\n",
       "      <th>2</th>\n",
       "      <td>1.333450</td>\n",
       "      <td>False</td>\n",
       "      <td>2.819011</td>\n",
       "      <td>0.476049</td>\n",
       "      <td>2.100623</td>\n",
       "    </tr>\n",
       "    <tr>\n",
       "      <th>3</th>\n",
       "      <td>1.113292</td>\n",
       "      <td>False</td>\n",
       "      <td>4.793211</td>\n",
       "      <td>0.483528</td>\n",
       "      <td>2.068131</td>\n",
       "    </tr>\n",
       "    <tr>\n",
       "      <th>4</th>\n",
       "      <td>-0.076380</td>\n",
       "      <td>False</td>\n",
       "      <td>1.492980</td>\n",
       "      <td>0.523985</td>\n",
       "      <td>1.908450</td>\n",
       "    </tr>\n",
       "    <tr>\n",
       "      <th>...</th>\n",
       "      <td>...</td>\n",
       "      <td>...</td>\n",
       "      <td>...</td>\n",
       "      <td>...</td>\n",
       "      <td>...</td>\n",
       "    </tr>\n",
       "    <tr>\n",
       "      <th>995</th>\n",
       "      <td>0.495474</td>\n",
       "      <td>False</td>\n",
       "      <td>1.407595</td>\n",
       "      <td>0.504545</td>\n",
       "      <td>1.981984</td>\n",
       "    </tr>\n",
       "    <tr>\n",
       "      <th>996</th>\n",
       "      <td>0.093358</td>\n",
       "      <td>False</td>\n",
       "      <td>2.586551</td>\n",
       "      <td>0.518220</td>\n",
       "      <td>1.929683</td>\n",
       "    </tr>\n",
       "    <tr>\n",
       "      <th>997</th>\n",
       "      <td>-0.649195</td>\n",
       "      <td>False</td>\n",
       "      <td>-3.760712</td>\n",
       "      <td>0.543386</td>\n",
       "      <td>1.840313</td>\n",
       "    </tr>\n",
       "    <tr>\n",
       "      <th>998</th>\n",
       "      <td>-0.313608</td>\n",
       "      <td>False</td>\n",
       "      <td>-1.064077</td>\n",
       "      <td>0.532032</td>\n",
       "      <td>1.879586</td>\n",
       "    </tr>\n",
       "    <tr>\n",
       "      <th>999</th>\n",
       "      <td>-1.104398</td>\n",
       "      <td>False</td>\n",
       "      <td>-3.100139</td>\n",
       "      <td>0.558712</td>\n",
       "      <td>1.789830</td>\n",
       "    </tr>\n",
       "  </tbody>\n",
       "</table>\n",
       "<p>1000 rows × 5 columns</p>\n",
       "</div>"
      ],
      "text/plain": [
       "           W0     v0         y  propensity_score    weight\n",
       "0    0.962677  False  2.731163          0.488649  2.046457\n",
       "1    0.963060  False  1.285152          0.488636  2.046512\n",
       "2    1.333450  False  2.819011          0.476049  2.100623\n",
       "3    1.113292  False  4.793211          0.483528  2.068131\n",
       "4   -0.076380  False  1.492980          0.523985  1.908450\n",
       "..        ...    ...       ...               ...       ...\n",
       "995  0.495474  False  1.407595          0.504545  1.981984\n",
       "996  0.093358  False  2.586551          0.518220  1.929683\n",
       "997 -0.649195  False -3.760712          0.543386  1.840313\n",
       "998 -0.313608  False -1.064077          0.532032  1.879586\n",
       "999 -1.104398  False -3.100139          0.558712  1.789830\n",
       "\n",
       "[1000 rows x 5 columns]"
      ]
     },
     "execution_count": 6,
     "metadata": {},
     "output_type": "execute_result"
    }
   ],
   "source": [
    "cdf_0"
   ]
  },
  {
   "cell_type": "code",
   "execution_count": 7,
   "metadata": {
    "execution": {
     "iopub.execute_input": "2023-03-27T12:34:22.490838Z",
     "iopub.status.busy": "2023-03-27T12:34:22.490412Z",
     "iopub.status.idle": "2023-03-27T12:34:22.502826Z",
     "shell.execute_reply": "2023-03-27T12:34:22.502056Z"
    }
   },
   "outputs": [
    {
     "data": {
      "text/html": [
       "<div>\n",
       "<style scoped>\n",
       "    .dataframe tbody tr th:only-of-type {\n",
       "        vertical-align: middle;\n",
       "    }\n",
       "\n",
       "    .dataframe tbody tr th {\n",
       "        vertical-align: top;\n",
       "    }\n",
       "\n",
       "    .dataframe thead th {\n",
       "        text-align: right;\n",
       "    }\n",
       "</style>\n",
       "<table border=\"1\" class=\"dataframe\">\n",
       "  <thead>\n",
       "    <tr style=\"text-align: right;\">\n",
       "      <th></th>\n",
       "      <th>W0</th>\n",
       "      <th>v0</th>\n",
       "      <th>y</th>\n",
       "      <th>propensity_score</th>\n",
       "      <th>weight</th>\n",
       "    </tr>\n",
       "  </thead>\n",
       "  <tbody>\n",
       "    <tr>\n",
       "      <th>0</th>\n",
       "      <td>1.800934</td>\n",
       "      <td>True</td>\n",
       "      <td>9.604396</td>\n",
       "      <td>0.539792</td>\n",
       "      <td>1.852566</td>\n",
       "    </tr>\n",
       "    <tr>\n",
       "      <th>1</th>\n",
       "      <td>0.908676</td>\n",
       "      <td>True</td>\n",
       "      <td>7.848732</td>\n",
       "      <td>0.509514</td>\n",
       "      <td>1.962655</td>\n",
       "    </tr>\n",
       "    <tr>\n",
       "      <th>2</th>\n",
       "      <td>1.486907</td>\n",
       "      <td>True</td>\n",
       "      <td>8.214336</td>\n",
       "      <td>0.529158</td>\n",
       "      <td>1.889796</td>\n",
       "    </tr>\n",
       "    <tr>\n",
       "      <th>3</th>\n",
       "      <td>2.860181</td>\n",
       "      <td>True</td>\n",
       "      <td>11.082506</td>\n",
       "      <td>0.575341</td>\n",
       "      <td>1.738098</td>\n",
       "    </tr>\n",
       "    <tr>\n",
       "      <th>4</th>\n",
       "      <td>0.605184</td>\n",
       "      <td>True</td>\n",
       "      <td>8.075637</td>\n",
       "      <td>0.499188</td>\n",
       "      <td>2.003253</td>\n",
       "    </tr>\n",
       "    <tr>\n",
       "      <th>...</th>\n",
       "      <td>...</td>\n",
       "      <td>...</td>\n",
       "      <td>...</td>\n",
       "      <td>...</td>\n",
       "      <td>...</td>\n",
       "    </tr>\n",
       "    <tr>\n",
       "      <th>995</th>\n",
       "      <td>0.762801</td>\n",
       "      <td>True</td>\n",
       "      <td>6.146325</td>\n",
       "      <td>0.504551</td>\n",
       "      <td>1.981959</td>\n",
       "    </tr>\n",
       "    <tr>\n",
       "      <th>996</th>\n",
       "      <td>-1.252360</td>\n",
       "      <td>True</td>\n",
       "      <td>2.651436</td>\n",
       "      <td>0.436328</td>\n",
       "      <td>2.291852</td>\n",
       "    </tr>\n",
       "    <tr>\n",
       "      <th>997</th>\n",
       "      <td>-0.702970</td>\n",
       "      <td>True</td>\n",
       "      <td>1.747041</td>\n",
       "      <td>0.454799</td>\n",
       "      <td>2.198774</td>\n",
       "    </tr>\n",
       "    <tr>\n",
       "      <th>998</th>\n",
       "      <td>1.964816</td>\n",
       "      <td>True</td>\n",
       "      <td>8.846990</td>\n",
       "      <td>0.545328</td>\n",
       "      <td>1.833759</td>\n",
       "    </tr>\n",
       "    <tr>\n",
       "      <th>999</th>\n",
       "      <td>1.906254</td>\n",
       "      <td>True</td>\n",
       "      <td>6.299404</td>\n",
       "      <td>0.543351</td>\n",
       "      <td>1.840431</td>\n",
       "    </tr>\n",
       "  </tbody>\n",
       "</table>\n",
       "<p>1000 rows × 5 columns</p>\n",
       "</div>"
      ],
      "text/plain": [
       "           W0    v0          y  propensity_score    weight\n",
       "0    1.800934  True   9.604396          0.539792  1.852566\n",
       "1    0.908676  True   7.848732          0.509514  1.962655\n",
       "2    1.486907  True   8.214336          0.529158  1.889796\n",
       "3    2.860181  True  11.082506          0.575341  1.738098\n",
       "4    0.605184  True   8.075637          0.499188  2.003253\n",
       "..        ...   ...        ...               ...       ...\n",
       "995  0.762801  True   6.146325          0.504551  1.981959\n",
       "996 -1.252360  True   2.651436          0.436328  2.291852\n",
       "997 -0.702970  True   1.747041          0.454799  2.198774\n",
       "998  1.964816  True   8.846990          0.545328  1.833759\n",
       "999  1.906254  True   6.299404          0.543351  1.840431\n",
       "\n",
       "[1000 rows x 5 columns]"
      ]
     },
     "execution_count": 7,
     "metadata": {},
     "output_type": "execute_result"
    }
   ],
   "source": [
    "cdf_1"
   ]
  },
  {
   "cell_type": "markdown",
   "metadata": {},
   "source": [
    "## Comparing the estimate to Linear Regression\n",
    "First, estimating the effect using the causal data frame, and the 95% confidence interval."
   ]
  },
  {
   "cell_type": "code",
   "execution_count": 8,
   "metadata": {
    "execution": {
     "iopub.execute_input": "2023-03-27T12:34:22.505438Z",
     "iopub.status.busy": "2023-03-27T12:34:22.505091Z",
     "iopub.status.idle": "2023-03-27T12:34:22.562995Z",
     "shell.execute_reply": "2023-03-27T12:34:22.562297Z"
    }
   },
   "outputs": [
    {
     "data": {
      "image/png": "[encoded data removed]",
      "text/latex": [
       "$\\displaystyle 4.70464995857471$"
      ],
      "text/plain": [
       "4.704649958574708"
      ]
     },
     "execution_count": 8,
     "metadata": {},
     "output_type": "execute_result"
    }
   ],
   "source": [
    "(cdf_1['y'] - cdf_0['y']).mean()"
   ]
  },
  {
   "cell_type": "code",
   "execution_count": 9,
   "metadata": {
    "execution": {
     "iopub.execute_input": "2023-03-27T12:34:22.566186Z",
     "iopub.status.busy": "2023-03-27T12:34:22.565685Z",
     "iopub.status.idle": "2023-03-27T12:34:22.586362Z",
     "shell.execute_reply": "2023-03-27T12:34:22.585381Z"
    }
   },
   "outputs": [
    {
     "data": {
      "image/png": "[encoded data removed]",
      "text/latex": [
       "$\\displaystyle 0.22224585666512$"
      ],
      "text/plain": [
       "0.22224585666511984"
      ]
     },
     "execution_count": 9,
     "metadata": {},
     "output_type": "execute_result"
    }
   ],
   "source": [
    "1.96*(cdf_1['y'] - cdf_0['y']).std() / np.sqrt(len(df))"
   ]
  },
  {
   "cell_type": "markdown",
   "metadata": {},
   "source": [
    "Comparing to the estimate from OLS."
   ]
  },
  {
   "cell_type": "code",
   "execution_count": 10,
   "metadata": {
    "execution": {
     "iopub.execute_input": "2023-03-27T12:34:22.589278Z",
     "iopub.status.busy": "2023-03-27T12:34:22.588861Z",
     "iopub.status.idle": "2023-03-27T12:34:22.604496Z",
     "shell.execute_reply": "2023-03-27T12:34:22.603932Z"
    }
   },
   "outputs": [
    {
     "data": {
      "text/html": [
       "<table class=\"simpletable\">\n",
       "<caption>OLS Regression Results</caption>\n",
       "<tr>\n",
       "  <th>Dep. Variable:</th>            <td>y</td>        <th>  R-squared (uncentered):</th>      <td>   0.968</td> \n",
       "</tr>\n",
       "<tr>\n",
       "  <th>Model:</th>                   <td>OLS</td>       <th>  Adj. R-squared (uncentered):</th> <td>   0.968</td> \n",
       "</tr>\n",
       "<tr>\n",
       "  <th>Method:</th>             <td>Least Squares</td>  <th>  F-statistic:       </th>          <td>1.518e+04</td>\n",
       "</tr>\n",
       "<tr>\n",
       "  <th>Date:</th>             <td>Mon, 27 Mar 2023</td> <th>  Prob (F-statistic):</th>           <td>  0.00</td>  \n",
       "</tr>\n",
       "<tr>\n",
       "  <th>Time:</th>                 <td>12:34:22</td>     <th>  Log-Likelihood:    </th>          <td> -1439.3</td> \n",
       "</tr>\n",
       "<tr>\n",
       "  <th>No. Observations:</th>      <td>  1000</td>      <th>  AIC:               </th>          <td>   2883.</td> \n",
       "</tr>\n",
       "<tr>\n",
       "  <th>Df Residuals:</th>          <td>   998</td>      <th>  BIC:               </th>          <td>   2892.</td> \n",
       "</tr>\n",
       "<tr>\n",
       "  <th>Df Model:</th>              <td>     2</td>      <th>                     </th>              <td> </td>    \n",
       "</tr>\n",
       "<tr>\n",
       "  <th>Covariance Type:</th>      <td>nonrobust</td>    <th>                     </th>              <td> </td>    \n",
       "</tr>\n",
       "</table>\n",
       "<table class=\"simpletable\">\n",
       "<tr>\n",
       "   <td></td>     <th>coef</th>     <th>std err</th>      <th>t</th>      <th>P>|t|</th>  <th>[0.025</th>    <th>0.975]</th>  \n",
       "</tr>\n",
       "<tr>\n",
       "  <th>x1</th> <td>    2.3676</td> <td>    0.029</td> <td>   82.056</td> <td> 0.000</td> <td>    2.311</td> <td>    2.424</td>\n",
       "</tr>\n",
       "<tr>\n",
       "  <th>x2</th> <td>    4.9885</td> <td>    0.052</td> <td>   96.714</td> <td> 0.000</td> <td>    4.887</td> <td>    5.090</td>\n",
       "</tr>\n",
       "</table>\n",
       "<table class=\"simpletable\">\n",
       "<tr>\n",
       "  <th>Omnibus:</th>       <td> 2.708</td> <th>  Durbin-Watson:     </th> <td>   1.914</td>\n",
       "</tr>\n",
       "<tr>\n",
       "  <th>Prob(Omnibus):</th> <td> 0.258</td> <th>  Jarque-Bera (JB):  </th> <td>   2.655</td>\n",
       "</tr>\n",
       "<tr>\n",
       "  <th>Skew:</th>          <td>-0.079</td> <th>  Prob(JB):          </th> <td>   0.265</td>\n",
       "</tr>\n",
       "<tr>\n",
       "  <th>Kurtosis:</th>      <td> 3.197</td> <th>  Cond. No.          </th> <td>    2.21</td>\n",
       "</tr>\n",
       "</table><br/><br/>Notes:<br/>[1] R² is computed without centering (uncentered) since the model does not contain a constant.<br/>[2] Standard Errors assume that the covariance matrix of the errors is correctly specified."
      ],
      "text/plain": [
       "<class 'statsmodels.iolib.summary.Summary'>\n",
       "\"\"\"\n",
       "                                 OLS Regression Results                                \n",
       "=======================================================================================\n",
       "Dep. Variable:                      y   R-squared (uncentered):                   0.968\n",
       "Model:                            OLS   Adj. R-squared (uncentered):              0.968\n",
       "Method:                 Least Squares   F-statistic:                          1.518e+04\n",
       "Date:                Mon, 27 Mar 2023   Prob (F-statistic):                        0.00\n",
       "Time:                        12:34:22   Log-Likelihood:                         -1439.3\n",
       "No. Observations:                1000   AIC:                                      2883.\n",
       "Df Residuals:                     998   BIC:                                      2892.\n",
       "Df Model:                           2                                                  \n",
       "Covariance Type:            nonrobust                                                  \n",
       "==============================================================================\n",
       "                 coef    std err          t      P>|t|      [0.025      0.975]\n",
       "------------------------------------------------------------------------------\n",
       "x1             2.3676      0.029     82.056      0.000       2.311       2.424\n",
       "x2             4.9885      0.052     96.714      0.000       4.887       5.090\n",
       "==============================================================================\n",
       "Omnibus:                        2.708   Durbin-Watson:                   1.914\n",
       "Prob(Omnibus):                  0.258   Jarque-Bera (JB):                2.655\n",
       "Skew:                          -0.079   Prob(JB):                        0.265\n",
       "Kurtosis:                       3.197   Cond. No.                         2.21\n",
       "==============================================================================\n",
       "\n",
       "Notes:\n",
       "[1] R² is computed without centering (uncentered) since the model does not contain a constant.\n",
       "[2] Standard Errors assume that the covariance matrix of the errors is correctly specified.\n",
       "\"\"\""
      ]
     },
     "execution_count": 10,
     "metadata": {},
     "output_type": "execute_result"
    }
   ],
   "source": [
    "model = OLS(np.asarray(df[outcome]), np.asarray(df[[common_cause, treatment]], dtype=np.float64))\n",
    "result = model.fit()\n",
    "result.summary()"
   ]
  }
 ],
 "metadata": {
  "kernelspec": {
   "display_name": "Python 3",
   "language": "python",
   "name": "python3"
  },
  "language_info": {
   "codemirror_mode": {
    "name": "ipython",
    "version": 3
   },
   "file_extension": ".py",
   "mimetype": "text/x-python",
   "name": "python",
   "nbconvert_exporter": "python",
   "pygments_lexer": "ipython3",
   "version": "3.8.10"
  },
  "toc": {
   "base_numbering": 1,
   "nav_menu": {},
   "number_sections": false,
   "sideBar": true,
   "skip_h1_title": true,
   "title_cell": "Table of Contents",
   "title_sidebar": "Contents",
   "toc_cell": false,
   "toc_position": {},
   "toc_section_display": true,
   "toc_window_display": false
  }
 },
 "nbformat": 4,
 "nbformat_minor": 4
}
