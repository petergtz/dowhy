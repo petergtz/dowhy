{
 "cells": [
  {
   "cell_type": "markdown",
   "metadata": {},
   "source": [
    "# Demo for the DoWhy causal API\n",
    "We show a simple example of adding a causal extension to any dataframe. "
   ]
  },
  {
   "cell_type": "code",
   "execution_count": 1,
   "metadata": {
    "execution": {
     "iopub.execute_input": "2022-11-10T22:07:17.654722Z",
     "iopub.status.busy": "2022-11-10T22:07:17.654425Z",
     "iopub.status.idle": "2022-11-10T22:07:19.619564Z",
     "shell.execute_reply": "2022-11-10T22:07:19.618490Z"
    }
   },
   "outputs": [],
   "source": [
    "import dowhy.datasets\n",
    "import dowhy.api\n",
    "\n",
    "import numpy as np\n",
    "import pandas as pd\n",
    "\n",
    "from statsmodels.api import OLS"
   ]
  },
  {
   "cell_type": "code",
   "execution_count": 2,
   "metadata": {
    "execution": {
     "iopub.execute_input": "2022-11-10T22:07:19.623839Z",
     "iopub.status.busy": "2022-11-10T22:07:19.623280Z",
     "iopub.status.idle": "2022-11-10T22:07:19.670318Z",
     "shell.execute_reply": "2022-11-10T22:07:19.669518Z"
    }
   },
   "outputs": [
    {
     "data": {
      "text/html": [
       "<div>\n",
       "<style scoped>\n",
       "    .dataframe tbody tr th:only-of-type {\n",
       "        vertical-align: middle;\n",
       "    }\n",
       "\n",
       "    .dataframe tbody tr th {\n",
       "        vertical-align: top;\n",
       "    }\n",
       "\n",
       "    .dataframe thead th {\n",
       "        text-align: right;\n",
       "    }\n",
       "</style>\n",
       "<table border=\"1\" class=\"dataframe\">\n",
       "  <thead>\n",
       "    <tr style=\"text-align: right;\">\n",
       "      <th></th>\n",
       "      <th>W0</th>\n",
       "      <th>v0</th>\n",
       "      <th>y</th>\n",
       "    </tr>\n",
       "  </thead>\n",
       "  <tbody>\n",
       "    <tr>\n",
       "      <th>0</th>\n",
       "      <td>-1.484934</td>\n",
       "      <td>False</td>\n",
       "      <td>-1.258587</td>\n",
       "    </tr>\n",
       "    <tr>\n",
       "      <th>1</th>\n",
       "      <td>-0.293540</td>\n",
       "      <td>False</td>\n",
       "      <td>1.744407</td>\n",
       "    </tr>\n",
       "    <tr>\n",
       "      <th>2</th>\n",
       "      <td>-2.539983</td>\n",
       "      <td>False</td>\n",
       "      <td>-0.790637</td>\n",
       "    </tr>\n",
       "    <tr>\n",
       "      <th>3</th>\n",
       "      <td>-1.347819</td>\n",
       "      <td>False</td>\n",
       "      <td>-2.160864</td>\n",
       "    </tr>\n",
       "    <tr>\n",
       "      <th>4</th>\n",
       "      <td>-1.688702</td>\n",
       "      <td>False</td>\n",
       "      <td>-2.254526</td>\n",
       "    </tr>\n",
       "    <tr>\n",
       "      <th>...</th>\n",
       "      <td>...</td>\n",
       "      <td>...</td>\n",
       "      <td>...</td>\n",
       "    </tr>\n",
       "    <tr>\n",
       "      <th>995</th>\n",
       "      <td>-0.396707</td>\n",
       "      <td>False</td>\n",
       "      <td>0.087879</td>\n",
       "    </tr>\n",
       "    <tr>\n",
       "      <th>996</th>\n",
       "      <td>-0.276705</td>\n",
       "      <td>False</td>\n",
       "      <td>0.129165</td>\n",
       "    </tr>\n",
       "    <tr>\n",
       "      <th>997</th>\n",
       "      <td>1.852488</td>\n",
       "      <td>True</td>\n",
       "      <td>7.964448</td>\n",
       "    </tr>\n",
       "    <tr>\n",
       "      <th>998</th>\n",
       "      <td>-1.520557</td>\n",
       "      <td>False</td>\n",
       "      <td>-2.518222</td>\n",
       "    </tr>\n",
       "    <tr>\n",
       "      <th>999</th>\n",
       "      <td>0.285240</td>\n",
       "      <td>False</td>\n",
       "      <td>1.865000</td>\n",
       "    </tr>\n",
       "  </tbody>\n",
       "</table>\n",
       "<p>1000 rows × 3 columns</p>\n",
       "</div>"
      ],
      "text/plain": [
       "           W0     v0         y\n",
       "0   -1.484934  False -1.258587\n",
       "1   -0.293540  False  1.744407\n",
       "2   -2.539983  False -0.790637\n",
       "3   -1.347819  False -2.160864\n",
       "4   -1.688702  False -2.254526\n",
       "..        ...    ...       ...\n",
       "995 -0.396707  False  0.087879\n",
       "996 -0.276705  False  0.129165\n",
       "997  1.852488   True  7.964448\n",
       "998 -1.520557  False -2.518222\n",
       "999  0.285240  False  1.865000\n",
       "\n",
       "[1000 rows x 3 columns]"
      ]
     },
     "execution_count": 2,
     "metadata": {},
     "output_type": "execute_result"
    }
   ],
   "source": [
    "data = dowhy.datasets.linear_dataset(beta=5,\n",
    "        num_common_causes=1,\n",
    "        num_instruments = 0,\n",
    "        num_samples=1000,\n",
    "        treatment_is_binary=True)\n",
    "df = data['df']\n",
    "df['y'] = df['y'] + np.random.normal(size=len(df)) # Adding noise to data. Without noise, the variance in Y|X, Z is zero, and mcmc fails.\n",
    "#data['dot_graph'] = 'digraph { v ->y;X0-> v;X0-> y;}'\n",
    "\n",
    "treatment= data[\"treatment_name\"][0]\n",
    "outcome = data[\"outcome_name\"][0]\n",
    "common_cause = data[\"common_causes_names\"][0]\n",
    "df"
   ]
  },
  {
   "cell_type": "code",
   "execution_count": 3,
   "metadata": {
    "execution": {
     "iopub.execute_input": "2022-11-10T22:07:19.673607Z",
     "iopub.status.busy": "2022-11-10T22:07:19.673213Z",
     "iopub.status.idle": "2022-11-10T22:07:19.829175Z",
     "shell.execute_reply": "2022-11-10T22:07:19.828509Z"
    }
   },
   "outputs": [
    {
     "data": {
      "text/plain": [
       "<AxesSubplot: xlabel='v0'>"
      ]
     },
     "execution_count": 3,
     "metadata": {},
     "output_type": "execute_result"
    },
    {
     "data": {
      "image/png": "[encoded data removed]",
      "text/plain": [
       "<Figure size 640x480 with 1 Axes>"
      ]
     },
     "metadata": {},
     "output_type": "display_data"
    }
   ],
   "source": [
    "# data['df'] is just a regular pandas.DataFrame\n",
    "df.causal.do(x=treatment,\n",
    "                     variable_types={treatment: 'b', outcome: 'c', common_cause: 'c'},\n",
    "                     outcome=outcome,\n",
    "                     common_causes=[common_cause],\n",
    "                     proceed_when_unidentifiable=True).groupby(treatment).mean().plot(y=outcome, kind='bar')"
   ]
  },
  {
   "cell_type": "code",
   "execution_count": 4,
   "metadata": {
    "execution": {
     "iopub.execute_input": "2022-11-10T22:07:19.832735Z",
     "iopub.status.busy": "2022-11-10T22:07:19.832345Z",
     "iopub.status.idle": "2022-11-10T22:07:19.966057Z",
     "shell.execute_reply": "2022-11-10T22:07:19.965404Z"
    }
   },
   "outputs": [
    {
     "data": {
      "text/plain": [
       "<AxesSubplot: xlabel='v0'>"
      ]
     },
     "execution_count": 4,
     "metadata": {},
     "output_type": "execute_result"
    },
    {
     "data": {
      "image/png": "[encoded data removed]",
      "text/plain": [
       "<Figure size 640x480 with 1 Axes>"
      ]
     },
     "metadata": {},
     "output_type": "display_data"
    }
   ],
   "source": [
    "df.causal.do(x={treatment: 1}, \n",
    "              variable_types={treatment:'b', outcome: 'c', common_cause: 'c'}, \n",
    "              outcome=outcome,\n",
    "              method='weighting', \n",
    "              common_causes=[common_cause],\n",
    "              proceed_when_unidentifiable=True).groupby(treatment).mean().plot(y=outcome, kind='bar')"
   ]
  },
  {
   "cell_type": "code",
   "execution_count": 5,
   "metadata": {
    "execution": {
     "iopub.execute_input": "2022-11-10T22:07:19.969167Z",
     "iopub.status.busy": "2022-11-10T22:07:19.968929Z",
     "iopub.status.idle": "2022-11-10T22:07:20.001117Z",
     "shell.execute_reply": "2022-11-10T22:07:20.000191Z"
    }
   },
   "outputs": [],
   "source": [
    "cdf_1 = df.causal.do(x={treatment: 1}, \n",
    "              variable_types={treatment: 'b', outcome: 'c', common_cause: 'c'}, \n",
    "              outcome=outcome, \n",
    "              dot_graph=data['dot_graph'],\n",
    "              proceed_when_unidentifiable=True)\n",
    "\n",
    "cdf_0 = df.causal.do(x={treatment: 0}, \n",
    "              variable_types={treatment: 'b', outcome: 'c', common_cause: 'c'}, \n",
    "              outcome=outcome, \n",
    "              dot_graph=data['dot_graph'],\n",
    "              proceed_when_unidentifiable=True)\n"
   ]
  },
  {
   "cell_type": "code",
   "execution_count": 6,
   "metadata": {
    "execution": {
     "iopub.execute_input": "2022-11-10T22:07:20.004508Z",
     "iopub.status.busy": "2022-11-10T22:07:20.004082Z",
     "iopub.status.idle": "2022-11-10T22:07:20.016907Z",
     "shell.execute_reply": "2022-11-10T22:07:20.015860Z"
    },
    "scrolled": true
   },
   "outputs": [
    {
     "data": {
      "text/html": [
       "<div>\n",
       "<style scoped>\n",
       "    .dataframe tbody tr th:only-of-type {\n",
       "        vertical-align: middle;\n",
       "    }\n",
       "\n",
       "    .dataframe tbody tr th {\n",
       "        vertical-align: top;\n",
       "    }\n",
       "\n",
       "    .dataframe thead th {\n",
       "        text-align: right;\n",
       "    }\n",
       "</style>\n",
       "<table border=\"1\" class=\"dataframe\">\n",
       "  <thead>\n",
       "    <tr style=\"text-align: right;\">\n",
       "      <th></th>\n",
       "      <th>W0</th>\n",
       "      <th>v0</th>\n",
       "      <th>y</th>\n",
       "      <th>propensity_score</th>\n",
       "      <th>weight</th>\n",
       "    </tr>\n",
       "  </thead>\n",
       "  <tbody>\n",
       "    <tr>\n",
       "      <th>0</th>\n",
       "      <td>0.812883</td>\n",
       "      <td>False</td>\n",
       "      <td>1.200435</td>\n",
       "      <td>0.172278</td>\n",
       "      <td>5.804564</td>\n",
       "    </tr>\n",
       "    <tr>\n",
       "      <th>1</th>\n",
       "      <td>-0.300221</td>\n",
       "      <td>False</td>\n",
       "      <td>-1.210312</td>\n",
       "      <td>0.603445</td>\n",
       "      <td>1.657152</td>\n",
       "    </tr>\n",
       "    <tr>\n",
       "      <th>2</th>\n",
       "      <td>-0.609151</td>\n",
       "      <td>False</td>\n",
       "      <td>-1.009581</td>\n",
       "      <td>0.725514</td>\n",
       "      <td>1.378334</td>\n",
       "    </tr>\n",
       "    <tr>\n",
       "      <th>3</th>\n",
       "      <td>0.545766</td>\n",
       "      <td>False</td>\n",
       "      <td>2.260545</td>\n",
       "      <td>0.251212</td>\n",
       "      <td>3.980701</td>\n",
       "    </tr>\n",
       "    <tr>\n",
       "      <th>4</th>\n",
       "      <td>-1.796086</td>\n",
       "      <td>False</td>\n",
       "      <td>-2.784393</td>\n",
       "      <td>0.956617</td>\n",
       "      <td>1.045350</td>\n",
       "    </tr>\n",
       "    <tr>\n",
       "      <th>...</th>\n",
       "      <td>...</td>\n",
       "      <td>...</td>\n",
       "      <td>...</td>\n",
       "      <td>...</td>\n",
       "      <td>...</td>\n",
       "    </tr>\n",
       "    <tr>\n",
       "      <th>995</th>\n",
       "      <td>-0.703199</td>\n",
       "      <td>False</td>\n",
       "      <td>-0.793769</td>\n",
       "      <td>0.757692</td>\n",
       "      <td>1.319797</td>\n",
       "    </tr>\n",
       "    <tr>\n",
       "      <th>996</th>\n",
       "      <td>-0.048418</td>\n",
       "      <td>False</td>\n",
       "      <td>-0.936854</td>\n",
       "      <td>0.492451</td>\n",
       "      <td>2.030657</td>\n",
       "    </tr>\n",
       "    <tr>\n",
       "      <th>997</th>\n",
       "      <td>-2.623479</td>\n",
       "      <td>False</td>\n",
       "      <td>-3.076311</td>\n",
       "      <td>0.989770</td>\n",
       "      <td>1.010336</td>\n",
       "    </tr>\n",
       "    <tr>\n",
       "      <th>998</th>\n",
       "      <td>-0.209454</td>\n",
       "      <td>False</td>\n",
       "      <td>-0.110930</td>\n",
       "      <td>0.564050</td>\n",
       "      <td>1.772891</td>\n",
       "    </tr>\n",
       "    <tr>\n",
       "      <th>999</th>\n",
       "      <td>-1.944443</td>\n",
       "      <td>False</td>\n",
       "      <td>-1.723246</td>\n",
       "      <td>0.966382</td>\n",
       "      <td>1.034788</td>\n",
       "    </tr>\n",
       "  </tbody>\n",
       "</table>\n",
       "<p>1000 rows × 5 columns</p>\n",
       "</div>"
      ],
      "text/plain": [
       "           W0     v0         y  propensity_score    weight\n",
       "0    0.812883  False  1.200435          0.172278  5.804564\n",
       "1   -0.300221  False -1.210312          0.603445  1.657152\n",
       "2   -0.609151  False -1.009581          0.725514  1.378334\n",
       "3    0.545766  False  2.260545          0.251212  3.980701\n",
       "4   -1.796086  False -2.784393          0.956617  1.045350\n",
       "..        ...    ...       ...               ...       ...\n",
       "995 -0.703199  False -0.793769          0.757692  1.319797\n",
       "996 -0.048418  False -0.936854          0.492451  2.030657\n",
       "997 -2.623479  False -3.076311          0.989770  1.010336\n",
       "998 -0.209454  False -0.110930          0.564050  1.772891\n",
       "999 -1.944443  False -1.723246          0.966382  1.034788\n",
       "\n",
       "[1000 rows x 5 columns]"
      ]
     },
     "execution_count": 6,
     "metadata": {},
     "output_type": "execute_result"
    }
   ],
   "source": [
    "cdf_0"
   ]
  },
  {
   "cell_type": "code",
   "execution_count": 7,
   "metadata": {
    "execution": {
     "iopub.execute_input": "2022-11-10T22:07:20.020110Z",
     "iopub.status.busy": "2022-11-10T22:07:20.019601Z",
     "iopub.status.idle": "2022-11-10T22:07:20.032217Z",
     "shell.execute_reply": "2022-11-10T22:07:20.031094Z"
    }
   },
   "outputs": [
    {
     "data": {
      "text/html": [
       "<div>\n",
       "<style scoped>\n",
       "    .dataframe tbody tr th:only-of-type {\n",
       "        vertical-align: middle;\n",
       "    }\n",
       "\n",
       "    .dataframe tbody tr th {\n",
       "        vertical-align: top;\n",
       "    }\n",
       "\n",
       "    .dataframe thead th {\n",
       "        text-align: right;\n",
       "    }\n",
       "</style>\n",
       "<table border=\"1\" class=\"dataframe\">\n",
       "  <thead>\n",
       "    <tr style=\"text-align: right;\">\n",
       "      <th></th>\n",
       "      <th>W0</th>\n",
       "      <th>v0</th>\n",
       "      <th>y</th>\n",
       "      <th>propensity_score</th>\n",
       "      <th>weight</th>\n",
       "    </tr>\n",
       "  </thead>\n",
       "  <tbody>\n",
       "    <tr>\n",
       "      <th>0</th>\n",
       "      <td>-0.947176</td>\n",
       "      <td>True</td>\n",
       "      <td>5.324704</td>\n",
       "      <td>0.171346</td>\n",
       "      <td>5.836146</td>\n",
       "    </tr>\n",
       "    <tr>\n",
       "      <th>1</th>\n",
       "      <td>-0.131105</td>\n",
       "      <td>True</td>\n",
       "      <td>5.919088</td>\n",
       "      <td>0.470638</td>\n",
       "      <td>2.124777</td>\n",
       "    </tr>\n",
       "    <tr>\n",
       "      <th>2</th>\n",
       "      <td>-1.081580</td>\n",
       "      <td>True</td>\n",
       "      <td>3.988420</td>\n",
       "      <td>0.139875</td>\n",
       "      <td>7.149262</td>\n",
       "    </tr>\n",
       "    <tr>\n",
       "      <th>3</th>\n",
       "      <td>0.690915</td>\n",
       "      <td>True</td>\n",
       "      <td>5.513900</td>\n",
       "      <td>0.794387</td>\n",
       "      <td>1.258832</td>\n",
       "    </tr>\n",
       "    <tr>\n",
       "      <th>4</th>\n",
       "      <td>-0.291842</td>\n",
       "      <td>True</td>\n",
       "      <td>7.425734</td>\n",
       "      <td>0.400144</td>\n",
       "      <td>2.499101</td>\n",
       "    </tr>\n",
       "    <tr>\n",
       "      <th>...</th>\n",
       "      <td>...</td>\n",
       "      <td>...</td>\n",
       "      <td>...</td>\n",
       "      <td>...</td>\n",
       "      <td>...</td>\n",
       "    </tr>\n",
       "    <tr>\n",
       "      <th>995</th>\n",
       "      <td>-1.685624</td>\n",
       "      <td>True</td>\n",
       "      <td>3.390587</td>\n",
       "      <td>0.052356</td>\n",
       "      <td>19.100094</td>\n",
       "    </tr>\n",
       "    <tr>\n",
       "      <th>996</th>\n",
       "      <td>-2.166020</td>\n",
       "      <td>True</td>\n",
       "      <td>3.909257</td>\n",
       "      <td>0.022876</td>\n",
       "      <td>43.713333</td>\n",
       "    </tr>\n",
       "    <tr>\n",
       "      <th>997</th>\n",
       "      <td>-1.771122</td>\n",
       "      <td>True</td>\n",
       "      <td>2.892219</td>\n",
       "      <td>0.045273</td>\n",
       "      <td>22.088416</td>\n",
       "    </tr>\n",
       "    <tr>\n",
       "      <th>998</th>\n",
       "      <td>-1.103424</td>\n",
       "      <td>True</td>\n",
       "      <td>2.582233</td>\n",
       "      <td>0.135243</td>\n",
       "      <td>7.394089</td>\n",
       "    </tr>\n",
       "    <tr>\n",
       "      <th>999</th>\n",
       "      <td>0.740041</td>\n",
       "      <td>True</td>\n",
       "      <td>7.095491</td>\n",
       "      <td>0.808359</td>\n",
       "      <td>1.237075</td>\n",
       "    </tr>\n",
       "  </tbody>\n",
       "</table>\n",
       "<p>1000 rows × 5 columns</p>\n",
       "</div>"
      ],
      "text/plain": [
       "           W0    v0         y  propensity_score     weight\n",
       "0   -0.947176  True  5.324704          0.171346   5.836146\n",
       "1   -0.131105  True  5.919088          0.470638   2.124777\n",
       "2   -1.081580  True  3.988420          0.139875   7.149262\n",
       "3    0.690915  True  5.513900          0.794387   1.258832\n",
       "4   -0.291842  True  7.425734          0.400144   2.499101\n",
       "..        ...   ...       ...               ...        ...\n",
       "995 -1.685624  True  3.390587          0.052356  19.100094\n",
       "996 -2.166020  True  3.909257          0.022876  43.713333\n",
       "997 -1.771122  True  2.892219          0.045273  22.088416\n",
       "998 -1.103424  True  2.582233          0.135243   7.394089\n",
       "999  0.740041  True  7.095491          0.808359   1.237075\n",
       "\n",
       "[1000 rows x 5 columns]"
      ]
     },
     "execution_count": 7,
     "metadata": {},
     "output_type": "execute_result"
    }
   ],
   "source": [
    "cdf_1"
   ]
  },
  {
   "cell_type": "markdown",
   "metadata": {},
   "source": [
    "## Comparing the estimate to Linear Regression\n",
    "First, estimating the effect using the causal data frame, and the 95% confidence interval."
   ]
  },
  {
   "cell_type": "code",
   "execution_count": 8,
   "metadata": {
    "execution": {
     "iopub.execute_input": "2022-11-10T22:07:20.035007Z",
     "iopub.status.busy": "2022-11-10T22:07:20.034662Z",
     "iopub.status.idle": "2022-11-10T22:07:20.092565Z",
     "shell.execute_reply": "2022-11-10T22:07:20.091811Z"
    }
   },
   "outputs": [
    {
     "data": {
      "image/png": "[encoded data removed]",
      "text/latex": [
       "$\\displaystyle 5.08157467105541$"
      ],
      "text/plain": [
       "5.081574671055414"
      ]
     },
     "execution_count": 8,
     "metadata": {},
     "output_type": "execute_result"
    }
   ],
   "source": [
    "(cdf_1['y'] - cdf_0['y']).mean()"
   ]
  },
  {
   "cell_type": "code",
   "execution_count": 9,
   "metadata": {
    "execution": {
     "iopub.execute_input": "2022-11-10T22:07:20.095487Z",
     "iopub.status.busy": "2022-11-10T22:07:20.095131Z",
     "iopub.status.idle": "2022-11-10T22:07:20.114096Z",
     "shell.execute_reply": "2022-11-10T22:07:20.113473Z"
    }
   },
   "outputs": [
    {
     "data": {
      "image/png": "[encoded data removed]",
      "text/latex": [
       "$\\displaystyle 0.118960196685013$"
      ],
      "text/plain": [
       "0.1189601966850132"
      ]
     },
     "execution_count": 9,
     "metadata": {},
     "output_type": "execute_result"
    }
   ],
   "source": [
    "1.96*(cdf_1['y'] - cdf_0['y']).std() / np.sqrt(len(df))"
   ]
  },
  {
   "cell_type": "markdown",
   "metadata": {},
   "source": [
    "Comparing to the estimate from OLS."
   ]
  },
  {
   "cell_type": "code",
   "execution_count": 10,
   "metadata": {
    "execution": {
     "iopub.execute_input": "2022-11-10T22:07:20.117367Z",
     "iopub.status.busy": "2022-11-10T22:07:20.116970Z",
     "iopub.status.idle": "2022-11-10T22:07:20.132633Z",
     "shell.execute_reply": "2022-11-10T22:07:20.132010Z"
    }
   },
   "outputs": [
    {
     "data": {
      "text/html": [
       "<table class=\"simpletable\">\n",
       "<caption>OLS Regression Results</caption>\n",
       "<tr>\n",
       "  <th>Dep. Variable:</th>            <td>y</td>        <th>  R-squared (uncentered):</th>      <td>   0.897</td>\n",
       "</tr>\n",
       "<tr>\n",
       "  <th>Model:</th>                   <td>OLS</td>       <th>  Adj. R-squared (uncentered):</th> <td>   0.896</td>\n",
       "</tr>\n",
       "<tr>\n",
       "  <th>Method:</th>             <td>Least Squares</td>  <th>  F-statistic:       </th>          <td>   4325.</td>\n",
       "</tr>\n",
       "<tr>\n",
       "  <th>Date:</th>             <td>Thu, 10 Nov 2022</td> <th>  Prob (F-statistic):</th>           <td>  0.00</td> \n",
       "</tr>\n",
       "<tr>\n",
       "  <th>Time:</th>                 <td>22:07:20</td>     <th>  Log-Likelihood:    </th>          <td> -1443.6</td>\n",
       "</tr>\n",
       "<tr>\n",
       "  <th>No. Observations:</th>      <td>  1000</td>      <th>  AIC:               </th>          <td>   2891.</td>\n",
       "</tr>\n",
       "<tr>\n",
       "  <th>Df Residuals:</th>          <td>   998</td>      <th>  BIC:               </th>          <td>   2901.</td>\n",
       "</tr>\n",
       "<tr>\n",
       "  <th>Df Model:</th>              <td>     2</td>      <th>                     </th>              <td> </td>   \n",
       "</tr>\n",
       "<tr>\n",
       "  <th>Covariance Type:</th>      <td>nonrobust</td>    <th>                     </th>              <td> </td>   \n",
       "</tr>\n",
       "</table>\n",
       "<table class=\"simpletable\">\n",
       "<tr>\n",
       "   <td></td>     <th>coef</th>     <th>std err</th>      <th>t</th>      <th>P>|t|</th>  <th>[0.025</th>    <th>0.975]</th>  \n",
       "</tr>\n",
       "<tr>\n",
       "  <th>x1</th> <td>    1.0584</td> <td>    0.024</td> <td>   44.989</td> <td> 0.000</td> <td>    1.012</td> <td>    1.105</td>\n",
       "</tr>\n",
       "<tr>\n",
       "  <th>x2</th> <td>    5.0185</td> <td>    0.062</td> <td>   81.408</td> <td> 0.000</td> <td>    4.898</td> <td>    5.140</td>\n",
       "</tr>\n",
       "</table>\n",
       "<table class=\"simpletable\">\n",
       "<tr>\n",
       "  <th>Omnibus:</th>       <td> 3.020</td> <th>  Durbin-Watson:     </th> <td>   2.028</td>\n",
       "</tr>\n",
       "<tr>\n",
       "  <th>Prob(Omnibus):</th> <td> 0.221</td> <th>  Jarque-Bera (JB):  </th> <td>   2.942</td>\n",
       "</tr>\n",
       "<tr>\n",
       "  <th>Skew:</th>          <td> 0.093</td> <th>  Prob(JB):          </th> <td>   0.230</td>\n",
       "</tr>\n",
       "<tr>\n",
       "  <th>Kurtosis:</th>      <td> 2.811</td> <th>  Cond. No.          </th> <td>    2.62</td>\n",
       "</tr>\n",
       "</table><br/><br/>Notes:<br/>[1] R² is computed without centering (uncentered) since the model does not contain a constant.<br/>[2] Standard Errors assume that the covariance matrix of the errors is correctly specified."
      ],
      "text/plain": [
       "<class 'statsmodels.iolib.summary.Summary'>\n",
       "\"\"\"\n",
       "                                 OLS Regression Results                                \n",
       "=======================================================================================\n",
       "Dep. Variable:                      y   R-squared (uncentered):                   0.897\n",
       "Model:                            OLS   Adj. R-squared (uncentered):              0.896\n",
       "Method:                 Least Squares   F-statistic:                              4325.\n",
       "Date:                Thu, 10 Nov 2022   Prob (F-statistic):                        0.00\n",
       "Time:                        22:07:20   Log-Likelihood:                         -1443.6\n",
       "No. Observations:                1000   AIC:                                      2891.\n",
       "Df Residuals:                     998   BIC:                                      2901.\n",
       "Df Model:                           2                                                  \n",
       "Covariance Type:            nonrobust                                                  \n",
       "==============================================================================\n",
       "                 coef    std err          t      P>|t|      [0.025      0.975]\n",
       "------------------------------------------------------------------------------\n",
       "x1             1.0584      0.024     44.989      0.000       1.012       1.105\n",
       "x2             5.0185      0.062     81.408      0.000       4.898       5.140\n",
       "==============================================================================\n",
       "Omnibus:                        3.020   Durbin-Watson:                   2.028\n",
       "Prob(Omnibus):                  0.221   Jarque-Bera (JB):                2.942\n",
       "Skew:                           0.093   Prob(JB):                        0.230\n",
       "Kurtosis:                       2.811   Cond. No.                         2.62\n",
       "==============================================================================\n",
       "\n",
       "Notes:\n",
       "[1] R² is computed without centering (uncentered) since the model does not contain a constant.\n",
       "[2] Standard Errors assume that the covariance matrix of the errors is correctly specified.\n",
       "\"\"\""
      ]
     },
     "execution_count": 10,
     "metadata": {},
     "output_type": "execute_result"
    }
   ],
   "source": [
    "model = OLS(np.asarray(df[outcome]), np.asarray(df[[common_cause, treatment]], dtype=np.float64))\n",
    "result = model.fit()\n",
    "result.summary()"
   ]
  }
 ],
 "metadata": {
  "kernelspec": {
   "display_name": "Python 3",
   "language": "python",
   "name": "python3"
  },
  "language_info": {
   "codemirror_mode": {
    "name": "ipython",
    "version": 3
   },
   "file_extension": ".py",
   "mimetype": "text/x-python",
   "name": "python",
   "nbconvert_exporter": "python",
   "pygments_lexer": "ipython3",
   "version": "3.8.10"
  },
  "toc": {
   "base_numbering": 1,
   "nav_menu": {},
   "number_sections": false,
   "sideBar": true,
   "skip_h1_title": true,
   "title_cell": "Table of Contents",
   "title_sidebar": "Contents",
   "toc_cell": false,
   "toc_position": {},
   "toc_section_display": true,
   "toc_window_display": false
  }
 },
 "nbformat": 4,
 "nbformat_minor": 4
}
