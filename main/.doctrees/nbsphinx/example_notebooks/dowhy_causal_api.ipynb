{
 "cells": [
  {
   "cell_type": "markdown",
   "metadata": {},
   "source": [
    "# Demo for the DoWhy causal API\n",
    "We show a simple example of adding a causal extension to any dataframe. "
   ]
  },
  {
   "cell_type": "code",
   "execution_count": 1,
   "metadata": {
    "execution": {
     "iopub.execute_input": "2022-09-06T08:07:16.373746Z",
     "iopub.status.busy": "2022-09-06T08:07:16.373160Z",
     "iopub.status.idle": "2022-09-06T08:07:17.574639Z",
     "shell.execute_reply": "2022-09-06T08:07:17.573875Z"
    }
   },
   "outputs": [],
   "source": [
    "import dowhy.datasets\n",
    "import dowhy.api\n",
    "\n",
    "import numpy as np\n",
    "import pandas as pd\n",
    "\n",
    "from statsmodels.api import OLS"
   ]
  },
  {
   "cell_type": "code",
   "execution_count": 2,
   "metadata": {
    "execution": {
     "iopub.execute_input": "2022-09-06T08:07:17.578502Z",
     "iopub.status.busy": "2022-09-06T08:07:17.578114Z",
     "iopub.status.idle": "2022-09-06T08:07:17.624688Z",
     "shell.execute_reply": "2022-09-06T08:07:17.623983Z"
    }
   },
   "outputs": [
    {
     "data": {
      "text/html": [
       "<div>\n",
       "<style scoped>\n",
       "    .dataframe tbody tr th:only-of-type {\n",
       "        vertical-align: middle;\n",
       "    }\n",
       "\n",
       "    .dataframe tbody tr th {\n",
       "        vertical-align: top;\n",
       "    }\n",
       "\n",
       "    .dataframe thead th {\n",
       "        text-align: right;\n",
       "    }\n",
       "</style>\n",
       "<table border=\"1\" class=\"dataframe\">\n",
       "  <thead>\n",
       "    <tr style=\"text-align: right;\">\n",
       "      <th></th>\n",
       "      <th>W0</th>\n",
       "      <th>v0</th>\n",
       "      <th>y</th>\n",
       "    </tr>\n",
       "  </thead>\n",
       "  <tbody>\n",
       "    <tr>\n",
       "      <th>0</th>\n",
       "      <td>-0.348900</td>\n",
       "      <td>True</td>\n",
       "      <td>2.724803</td>\n",
       "    </tr>\n",
       "    <tr>\n",
       "      <th>1</th>\n",
       "      <td>-1.416028</td>\n",
       "      <td>False</td>\n",
       "      <td>-5.297047</td>\n",
       "    </tr>\n",
       "    <tr>\n",
       "      <th>2</th>\n",
       "      <td>1.339480</td>\n",
       "      <td>True</td>\n",
       "      <td>7.831478</td>\n",
       "    </tr>\n",
       "    <tr>\n",
       "      <th>3</th>\n",
       "      <td>0.486306</td>\n",
       "      <td>True</td>\n",
       "      <td>6.517949</td>\n",
       "    </tr>\n",
       "    <tr>\n",
       "      <th>4</th>\n",
       "      <td>-1.931233</td>\n",
       "      <td>False</td>\n",
       "      <td>-4.004848</td>\n",
       "    </tr>\n",
       "    <tr>\n",
       "      <th>...</th>\n",
       "      <td>...</td>\n",
       "      <td>...</td>\n",
       "      <td>...</td>\n",
       "    </tr>\n",
       "    <tr>\n",
       "      <th>995</th>\n",
       "      <td>-0.574632</td>\n",
       "      <td>True</td>\n",
       "      <td>4.193243</td>\n",
       "    </tr>\n",
       "    <tr>\n",
       "      <th>996</th>\n",
       "      <td>0.650107</td>\n",
       "      <td>True</td>\n",
       "      <td>7.345007</td>\n",
       "    </tr>\n",
       "    <tr>\n",
       "      <th>997</th>\n",
       "      <td>0.258377</td>\n",
       "      <td>False</td>\n",
       "      <td>-0.218013</td>\n",
       "    </tr>\n",
       "    <tr>\n",
       "      <th>998</th>\n",
       "      <td>-1.247673</td>\n",
       "      <td>False</td>\n",
       "      <td>-2.829876</td>\n",
       "    </tr>\n",
       "    <tr>\n",
       "      <th>999</th>\n",
       "      <td>-2.123305</td>\n",
       "      <td>False</td>\n",
       "      <td>-4.930880</td>\n",
       "    </tr>\n",
       "  </tbody>\n",
       "</table>\n",
       "<p>1000 rows × 3 columns</p>\n",
       "</div>"
      ],
      "text/plain": [
       "           W0     v0         y\n",
       "0   -0.348900   True  2.724803\n",
       "1   -1.416028  False -5.297047\n",
       "2    1.339480   True  7.831478\n",
       "3    0.486306   True  6.517949\n",
       "4   -1.931233  False -4.004848\n",
       "..        ...    ...       ...\n",
       "995 -0.574632   True  4.193243\n",
       "996  0.650107   True  7.345007\n",
       "997  0.258377  False -0.218013\n",
       "998 -1.247673  False -2.829876\n",
       "999 -2.123305  False -4.930880\n",
       "\n",
       "[1000 rows x 3 columns]"
      ]
     },
     "execution_count": 2,
     "metadata": {},
     "output_type": "execute_result"
    }
   ],
   "source": [
    "data = dowhy.datasets.linear_dataset(beta=5,\n",
    "        num_common_causes=1,\n",
    "        num_instruments = 0,\n",
    "        num_samples=1000,\n",
    "        treatment_is_binary=True)\n",
    "df = data['df']\n",
    "df['y'] = df['y'] + np.random.normal(size=len(df)) # Adding noise to data. Without noise, the variance in Y|X, Z is zero, and mcmc fails.\n",
    "#data['dot_graph'] = 'digraph { v ->y;X0-> v;X0-> y;}'\n",
    "\n",
    "treatment= data[\"treatment_name\"][0]\n",
    "outcome = data[\"outcome_name\"][0]\n",
    "common_cause = data[\"common_causes_names\"][0]\n",
    "df"
   ]
  },
  {
   "cell_type": "code",
   "execution_count": 3,
   "metadata": {
    "execution": {
     "iopub.execute_input": "2022-09-06T08:07:17.628091Z",
     "iopub.status.busy": "2022-09-06T08:07:17.627675Z",
     "iopub.status.idle": "2022-09-06T08:07:18.424608Z",
     "shell.execute_reply": "2022-09-06T08:07:18.423936Z"
    }
   },
   "outputs": [
    {
     "data": {
      "text/plain": [
       "<AxesSubplot:xlabel='v0'>"
      ]
     },
     "execution_count": 3,
     "metadata": {},
     "output_type": "execute_result"
    },
    {
     "data": {
      "image/png": "[encoded data removed]",
      "text/plain": [
       "<Figure size 640x480 with 1 Axes>"
      ]
     },
     "metadata": {},
     "output_type": "display_data"
    }
   ],
   "source": [
    "# data['df'] is just a regular pandas.DataFrame\n",
    "df.causal.do(x=treatment,\n",
    "                     variable_types={treatment: 'b', outcome: 'c', common_cause: 'c'},\n",
    "                     outcome=outcome,\n",
    "                     common_causes=[common_cause],\n",
    "                     proceed_when_unidentifiable=True).groupby(treatment).mean().plot(y=outcome, kind='bar')"
   ]
  },
  {
   "cell_type": "code",
   "execution_count": 4,
   "metadata": {
    "execution": {
     "iopub.execute_input": "2022-09-06T08:07:18.428025Z",
     "iopub.status.busy": "2022-09-06T08:07:18.427427Z",
     "iopub.status.idle": "2022-09-06T08:07:18.535753Z",
     "shell.execute_reply": "2022-09-06T08:07:18.535158Z"
    }
   },
   "outputs": [
    {
     "data": {
      "text/plain": [
       "<AxesSubplot:xlabel='v0'>"
      ]
     },
     "execution_count": 4,
     "metadata": {},
     "output_type": "execute_result"
    },
    {
     "data": {
      "image/png": "[encoded data removed]",
      "text/plain": [
       "<Figure size 640x480 with 1 Axes>"
      ]
     },
     "metadata": {},
     "output_type": "display_data"
    }
   ],
   "source": [
    "df.causal.do(x={treatment: 1}, \n",
    "              variable_types={treatment:'b', outcome: 'c', common_cause: 'c'}, \n",
    "              outcome=outcome,\n",
    "              method='weighting', \n",
    "              common_causes=[common_cause],\n",
    "              proceed_when_unidentifiable=True).groupby(treatment).mean().plot(y=outcome, kind='bar')"
   ]
  },
  {
   "cell_type": "code",
   "execution_count": 5,
   "metadata": {
    "execution": {
     "iopub.execute_input": "2022-09-06T08:07:18.539047Z",
     "iopub.status.busy": "2022-09-06T08:07:18.538654Z",
     "iopub.status.idle": "2022-09-06T08:07:18.572709Z",
     "shell.execute_reply": "2022-09-06T08:07:18.572033Z"
    }
   },
   "outputs": [],
   "source": [
    "cdf_1 = df.causal.do(x={treatment: 1}, \n",
    "              variable_types={treatment: 'b', outcome: 'c', common_cause: 'c'}, \n",
    "              outcome=outcome, \n",
    "              dot_graph=data['dot_graph'],\n",
    "              proceed_when_unidentifiable=True)\n",
    "\n",
    "cdf_0 = df.causal.do(x={treatment: 0}, \n",
    "              variable_types={treatment: 'b', outcome: 'c', common_cause: 'c'}, \n",
    "              outcome=outcome, \n",
    "              dot_graph=data['dot_graph'],\n",
    "              proceed_when_unidentifiable=True)\n"
   ]
  },
  {
   "cell_type": "code",
   "execution_count": 6,
   "metadata": {
    "execution": {
     "iopub.execute_input": "2022-09-06T08:07:18.576052Z",
     "iopub.status.busy": "2022-09-06T08:07:18.575601Z",
     "iopub.status.idle": "2022-09-06T08:07:18.588862Z",
     "shell.execute_reply": "2022-09-06T08:07:18.588234Z"
    },
    "scrolled": true
   },
   "outputs": [
    {
     "data": {
      "text/html": [
       "<div>\n",
       "<style scoped>\n",
       "    .dataframe tbody tr th:only-of-type {\n",
       "        vertical-align: middle;\n",
       "    }\n",
       "\n",
       "    .dataframe tbody tr th {\n",
       "        vertical-align: top;\n",
       "    }\n",
       "\n",
       "    .dataframe thead th {\n",
       "        text-align: right;\n",
       "    }\n",
       "</style>\n",
       "<table border=\"1\" class=\"dataframe\">\n",
       "  <thead>\n",
       "    <tr style=\"text-align: right;\">\n",
       "      <th></th>\n",
       "      <th>W0</th>\n",
       "      <th>v0</th>\n",
       "      <th>y</th>\n",
       "      <th>propensity_score</th>\n",
       "      <th>weight</th>\n",
       "    </tr>\n",
       "  </thead>\n",
       "  <tbody>\n",
       "    <tr>\n",
       "      <th>0</th>\n",
       "      <td>-2.036776</td>\n",
       "      <td>False</td>\n",
       "      <td>-2.975269</td>\n",
       "      <td>0.956969</td>\n",
       "      <td>1.044966</td>\n",
       "    </tr>\n",
       "    <tr>\n",
       "      <th>1</th>\n",
       "      <td>-0.246528</td>\n",
       "      <td>False</td>\n",
       "      <td>-0.338273</td>\n",
       "      <td>0.577322</td>\n",
       "      <td>1.732135</td>\n",
       "    </tr>\n",
       "    <tr>\n",
       "      <th>2</th>\n",
       "      <td>0.899619</td>\n",
       "      <td>False</td>\n",
       "      <td>3.074898</td>\n",
       "      <td>0.186267</td>\n",
       "      <td>5.368644</td>\n",
       "    </tr>\n",
       "    <tr>\n",
       "      <th>3</th>\n",
       "      <td>-0.259573</td>\n",
       "      <td>False</td>\n",
       "      <td>0.107464</td>\n",
       "      <td>0.582275</td>\n",
       "      <td>1.717401</td>\n",
       "    </tr>\n",
       "    <tr>\n",
       "      <th>4</th>\n",
       "      <td>0.488808</td>\n",
       "      <td>False</td>\n",
       "      <td>2.031841</td>\n",
       "      <td>0.302755</td>\n",
       "      <td>3.303004</td>\n",
       "    </tr>\n",
       "    <tr>\n",
       "      <th>...</th>\n",
       "      <td>...</td>\n",
       "      <td>...</td>\n",
       "      <td>...</td>\n",
       "      <td>...</td>\n",
       "      <td>...</td>\n",
       "    </tr>\n",
       "    <tr>\n",
       "      <th>995</th>\n",
       "      <td>-1.264433</td>\n",
       "      <td>False</td>\n",
       "      <td>-3.040332</td>\n",
       "      <td>0.869684</td>\n",
       "      <td>1.149842</td>\n",
       "    </tr>\n",
       "    <tr>\n",
       "      <th>996</th>\n",
       "      <td>-0.561551</td>\n",
       "      <td>False</td>\n",
       "      <td>-2.073441</td>\n",
       "      <td>0.690562</td>\n",
       "      <td>1.448096</td>\n",
       "    </tr>\n",
       "    <tr>\n",
       "      <th>997</th>\n",
       "      <td>-0.071389</td>\n",
       "      <td>False</td>\n",
       "      <td>-1.091597</td>\n",
       "      <td>0.509709</td>\n",
       "      <td>1.961904</td>\n",
       "    </tr>\n",
       "    <tr>\n",
       "      <th>998</th>\n",
       "      <td>-0.712630</td>\n",
       "      <td>False</td>\n",
       "      <td>-0.358626</td>\n",
       "      <td>0.738502</td>\n",
       "      <td>1.354092</td>\n",
       "    </tr>\n",
       "    <tr>\n",
       "      <th>999</th>\n",
       "      <td>-0.014815</td>\n",
       "      <td>False</td>\n",
       "      <td>-0.222726</td>\n",
       "      <td>0.487670</td>\n",
       "      <td>2.050566</td>\n",
       "    </tr>\n",
       "  </tbody>\n",
       "</table>\n",
       "<p>1000 rows × 5 columns</p>\n",
       "</div>"
      ],
      "text/plain": [
       "           W0     v0         y  propensity_score    weight\n",
       "0   -2.036776  False -2.975269          0.956969  1.044966\n",
       "1   -0.246528  False -0.338273          0.577322  1.732135\n",
       "2    0.899619  False  3.074898          0.186267  5.368644\n",
       "3   -0.259573  False  0.107464          0.582275  1.717401\n",
       "4    0.488808  False  2.031841          0.302755  3.303004\n",
       "..        ...    ...       ...               ...       ...\n",
       "995 -1.264433  False -3.040332          0.869684  1.149842\n",
       "996 -0.561551  False -2.073441          0.690562  1.448096\n",
       "997 -0.071389  False -1.091597          0.509709  1.961904\n",
       "998 -0.712630  False -0.358626          0.738502  1.354092\n",
       "999 -0.014815  False -0.222726          0.487670  2.050566\n",
       "\n",
       "[1000 rows x 5 columns]"
      ]
     },
     "execution_count": 6,
     "metadata": {},
     "output_type": "execute_result"
    }
   ],
   "source": [
    "cdf_0"
   ]
  },
  {
   "cell_type": "code",
   "execution_count": 7,
   "metadata": {
    "execution": {
     "iopub.execute_input": "2022-09-06T08:07:18.591910Z",
     "iopub.status.busy": "2022-09-06T08:07:18.591365Z",
     "iopub.status.idle": "2022-09-06T08:07:18.601999Z",
     "shell.execute_reply": "2022-09-06T08:07:18.601324Z"
    }
   },
   "outputs": [
    {
     "data": {
      "text/html": [
       "<div>\n",
       "<style scoped>\n",
       "    .dataframe tbody tr th:only-of-type {\n",
       "        vertical-align: middle;\n",
       "    }\n",
       "\n",
       "    .dataframe tbody tr th {\n",
       "        vertical-align: top;\n",
       "    }\n",
       "\n",
       "    .dataframe thead th {\n",
       "        text-align: right;\n",
       "    }\n",
       "</style>\n",
       "<table border=\"1\" class=\"dataframe\">\n",
       "  <thead>\n",
       "    <tr style=\"text-align: right;\">\n",
       "      <th></th>\n",
       "      <th>W0</th>\n",
       "      <th>v0</th>\n",
       "      <th>y</th>\n",
       "      <th>propensity_score</th>\n",
       "      <th>weight</th>\n",
       "    </tr>\n",
       "  </thead>\n",
       "  <tbody>\n",
       "    <tr>\n",
       "      <th>0</th>\n",
       "      <td>-0.647848</td>\n",
       "      <td>True</td>\n",
       "      <td>4.059408</td>\n",
       "      <td>0.281459</td>\n",
       "      <td>3.552921</td>\n",
       "    </tr>\n",
       "    <tr>\n",
       "      <th>1</th>\n",
       "      <td>0.909232</td>\n",
       "      <td>True</td>\n",
       "      <td>6.971657</td>\n",
       "      <td>0.815994</td>\n",
       "      <td>1.225500</td>\n",
       "    </tr>\n",
       "    <tr>\n",
       "      <th>2</th>\n",
       "      <td>0.079688</td>\n",
       "      <td>True</td>\n",
       "      <td>5.805927</td>\n",
       "      <td>0.548995</td>\n",
       "      <td>1.821511</td>\n",
       "    </tr>\n",
       "    <tr>\n",
       "      <th>3</th>\n",
       "      <td>0.755315</td>\n",
       "      <td>True</td>\n",
       "      <td>6.293804</td>\n",
       "      <td>0.777224</td>\n",
       "      <td>1.286631</td>\n",
       "    </tr>\n",
       "    <tr>\n",
       "      <th>4</th>\n",
       "      <td>1.834860</td>\n",
       "      <td>True</td>\n",
       "      <td>10.353869</td>\n",
       "      <td>0.949406</td>\n",
       "      <td>1.053290</td>\n",
       "    </tr>\n",
       "    <tr>\n",
       "      <th>...</th>\n",
       "      <td>...</td>\n",
       "      <td>...</td>\n",
       "      <td>...</td>\n",
       "      <td>...</td>\n",
       "      <td>...</td>\n",
       "    </tr>\n",
       "    <tr>\n",
       "      <th>995</th>\n",
       "      <td>0.054286</td>\n",
       "      <td>True</td>\n",
       "      <td>6.989439</td>\n",
       "      <td>0.539175</td>\n",
       "      <td>1.854686</td>\n",
       "    </tr>\n",
       "    <tr>\n",
       "      <th>996</th>\n",
       "      <td>1.730881</td>\n",
       "      <td>True</td>\n",
       "      <td>9.123788</td>\n",
       "      <td>0.941031</td>\n",
       "      <td>1.062665</td>\n",
       "    </tr>\n",
       "    <tr>\n",
       "      <th>997</th>\n",
       "      <td>-0.876869</td>\n",
       "      <td>True</td>\n",
       "      <td>4.300003</td>\n",
       "      <td>0.215149</td>\n",
       "      <td>4.647938</td>\n",
       "    </tr>\n",
       "    <tr>\n",
       "      <th>998</th>\n",
       "      <td>-1.926717</td>\n",
       "      <td>True</td>\n",
       "      <td>1.270687</td>\n",
       "      <td>0.050675</td>\n",
       "      <td>19.733717</td>\n",
       "    </tr>\n",
       "    <tr>\n",
       "      <th>999</th>\n",
       "      <td>0.779394</td>\n",
       "      <td>True</td>\n",
       "      <td>8.890812</td>\n",
       "      <td>0.783654</td>\n",
       "      <td>1.276074</td>\n",
       "    </tr>\n",
       "  </tbody>\n",
       "</table>\n",
       "<p>1000 rows × 5 columns</p>\n",
       "</div>"
      ],
      "text/plain": [
       "           W0    v0          y  propensity_score     weight\n",
       "0   -0.647848  True   4.059408          0.281459   3.552921\n",
       "1    0.909232  True   6.971657          0.815994   1.225500\n",
       "2    0.079688  True   5.805927          0.548995   1.821511\n",
       "3    0.755315  True   6.293804          0.777224   1.286631\n",
       "4    1.834860  True  10.353869          0.949406   1.053290\n",
       "..        ...   ...        ...               ...        ...\n",
       "995  0.054286  True   6.989439          0.539175   1.854686\n",
       "996  1.730881  True   9.123788          0.941031   1.062665\n",
       "997 -0.876869  True   4.300003          0.215149   4.647938\n",
       "998 -1.926717  True   1.270687          0.050675  19.733717\n",
       "999  0.779394  True   8.890812          0.783654   1.276074\n",
       "\n",
       "[1000 rows x 5 columns]"
      ]
     },
     "execution_count": 7,
     "metadata": {},
     "output_type": "execute_result"
    }
   ],
   "source": [
    "cdf_1"
   ]
  },
  {
   "cell_type": "markdown",
   "metadata": {},
   "source": [
    "## Comparing the estimate to Linear Regression\n",
    "First, estimating the effect using the causal data frame, and the 95% confidence interval."
   ]
  },
  {
   "cell_type": "code",
   "execution_count": 8,
   "metadata": {
    "execution": {
     "iopub.execute_input": "2022-09-06T08:07:18.605631Z",
     "iopub.status.busy": "2022-09-06T08:07:18.605265Z",
     "iopub.status.idle": "2022-09-06T08:07:18.707961Z",
     "shell.execute_reply": "2022-09-06T08:07:18.707117Z"
    }
   },
   "outputs": [
    {
     "data": {
      "image/png": "[encoded data removed]",
      "text/latex": [
       "$\\displaystyle 5.2339009748028$"
      ],
      "text/plain": [
       "5.233900974802799"
      ]
     },
     "execution_count": 8,
     "metadata": {},
     "output_type": "execute_result"
    }
   ],
   "source": [
    "(cdf_1['y'] - cdf_0['y']).mean()"
   ]
  },
  {
   "cell_type": "code",
   "execution_count": 9,
   "metadata": {
    "execution": {
     "iopub.execute_input": "2022-09-06T08:07:18.711624Z",
     "iopub.status.busy": "2022-09-06T08:07:18.711030Z",
     "iopub.status.idle": "2022-09-06T08:07:18.739702Z",
     "shell.execute_reply": "2022-09-06T08:07:18.739035Z"
    }
   },
   "outputs": [
    {
     "data": {
      "image/png": "[encoded data removed]",
      "text/latex": [
       "$\\displaystyle 0.218281806141647$"
      ],
      "text/plain": [
       "0.2182818061416467"
      ]
     },
     "execution_count": 9,
     "metadata": {},
     "output_type": "execute_result"
    }
   ],
   "source": [
    "1.96*(cdf_1['y'] - cdf_0['y']).std() / np.sqrt(len(df))"
   ]
  },
  {
   "cell_type": "markdown",
   "metadata": {},
   "source": [
    "Comparing to the estimate from OLS."
   ]
  },
  {
   "cell_type": "code",
   "execution_count": 10,
   "metadata": {
    "execution": {
     "iopub.execute_input": "2022-09-06T08:07:18.742969Z",
     "iopub.status.busy": "2022-09-06T08:07:18.742715Z",
     "iopub.status.idle": "2022-09-06T08:07:18.760172Z",
     "shell.execute_reply": "2022-09-06T08:07:18.759540Z"
    }
   },
   "outputs": [
    {
     "data": {
      "text/html": [
       "<table class=\"simpletable\">\n",
       "<caption>OLS Regression Results</caption>\n",
       "<tr>\n",
       "  <th>Dep. Variable:</th>            <td>y</td>        <th>  R-squared (uncentered):</th>      <td>   0.961</td> \n",
       "</tr>\n",
       "<tr>\n",
       "  <th>Model:</th>                   <td>OLS</td>       <th>  Adj. R-squared (uncentered):</th> <td>   0.960</td> \n",
       "</tr>\n",
       "<tr>\n",
       "  <th>Method:</th>             <td>Least Squares</td>  <th>  F-statistic:       </th>          <td>1.215e+04</td>\n",
       "</tr>\n",
       "<tr>\n",
       "  <th>Date:</th>             <td>Tue, 06 Sep 2022</td> <th>  Prob (F-statistic):</th>           <td>  0.00</td>  \n",
       "</tr>\n",
       "<tr>\n",
       "  <th>Time:</th>                 <td>08:07:18</td>     <th>  Log-Likelihood:    </th>          <td> -1437.9</td> \n",
       "</tr>\n",
       "<tr>\n",
       "  <th>No. Observations:</th>      <td>  1000</td>      <th>  AIC:               </th>          <td>   2880.</td> \n",
       "</tr>\n",
       "<tr>\n",
       "  <th>Df Residuals:</th>          <td>   998</td>      <th>  BIC:               </th>          <td>   2890.</td> \n",
       "</tr>\n",
       "<tr>\n",
       "  <th>Df Model:</th>              <td>     2</td>      <th>                     </th>              <td> </td>    \n",
       "</tr>\n",
       "<tr>\n",
       "  <th>Covariance Type:</th>      <td>nonrobust</td>    <th>                     </th>              <td> </td>    \n",
       "</tr>\n",
       "</table>\n",
       "<table class=\"simpletable\">\n",
       "<tr>\n",
       "   <td></td>     <th>coef</th>     <th>std err</th>      <th>t</th>      <th>P>|t|</th>  <th>[0.025</th>    <th>0.975]</th>  \n",
       "</tr>\n",
       "<tr>\n",
       "  <th>x1</th> <td>    2.4902</td> <td>    0.035</td> <td>   71.513</td> <td> 0.000</td> <td>    2.422</td> <td>    2.559</td>\n",
       "</tr>\n",
       "<tr>\n",
       "  <th>x2</th> <td>    4.9706</td> <td>    0.049</td> <td>  102.231</td> <td> 0.000</td> <td>    4.875</td> <td>    5.066</td>\n",
       "</tr>\n",
       "</table>\n",
       "<table class=\"simpletable\">\n",
       "<tr>\n",
       "  <th>Omnibus:</th>       <td> 0.419</td> <th>  Durbin-Watson:     </th> <td>   2.072</td>\n",
       "</tr>\n",
       "<tr>\n",
       "  <th>Prob(Omnibus):</th> <td> 0.811</td> <th>  Jarque-Bera (JB):  </th> <td>   0.508</td>\n",
       "</tr>\n",
       "<tr>\n",
       "  <th>Skew:</th>          <td>-0.020</td> <th>  Prob(JB):          </th> <td>   0.776</td>\n",
       "</tr>\n",
       "<tr>\n",
       "  <th>Kurtosis:</th>      <td> 2.897</td> <th>  Cond. No.          </th> <td>    1.68</td>\n",
       "</tr>\n",
       "</table><br/><br/>Notes:<br/>[1] R² is computed without centering (uncentered) since the model does not contain a constant.<br/>[2] Standard Errors assume that the covariance matrix of the errors is correctly specified."
      ],
      "text/plain": [
       "<class 'statsmodels.iolib.summary.Summary'>\n",
       "\"\"\"\n",
       "                                 OLS Regression Results                                \n",
       "=======================================================================================\n",
       "Dep. Variable:                      y   R-squared (uncentered):                   0.961\n",
       "Model:                            OLS   Adj. R-squared (uncentered):              0.960\n",
       "Method:                 Least Squares   F-statistic:                          1.215e+04\n",
       "Date:                Tue, 06 Sep 2022   Prob (F-statistic):                        0.00\n",
       "Time:                        08:07:18   Log-Likelihood:                         -1437.9\n",
       "No. Observations:                1000   AIC:                                      2880.\n",
       "Df Residuals:                     998   BIC:                                      2890.\n",
       "Df Model:                           2                                                  \n",
       "Covariance Type:            nonrobust                                                  \n",
       "==============================================================================\n",
       "                 coef    std err          t      P>|t|      [0.025      0.975]\n",
       "------------------------------------------------------------------------------\n",
       "x1             2.4902      0.035     71.513      0.000       2.422       2.559\n",
       "x2             4.9706      0.049    102.231      0.000       4.875       5.066\n",
       "==============================================================================\n",
       "Omnibus:                        0.419   Durbin-Watson:                   2.072\n",
       "Prob(Omnibus):                  0.811   Jarque-Bera (JB):                0.508\n",
       "Skew:                          -0.020   Prob(JB):                        0.776\n",
       "Kurtosis:                       2.897   Cond. No.                         1.68\n",
       "==============================================================================\n",
       "\n",
       "Notes:\n",
       "[1] R² is computed without centering (uncentered) since the model does not contain a constant.\n",
       "[2] Standard Errors assume that the covariance matrix of the errors is correctly specified.\n",
       "\"\"\""
      ]
     },
     "execution_count": 10,
     "metadata": {},
     "output_type": "execute_result"
    }
   ],
   "source": [
    "model = OLS(np.asarray(df[outcome]), np.asarray(df[[common_cause, treatment]], dtype=np.float64))\n",
    "result = model.fit()\n",
    "result.summary()"
   ]
  }
 ],
 "metadata": {
  "kernelspec": {
   "display_name": "Python 3",
   "language": "python",
   "name": "python3"
  },
  "language_info": {
   "codemirror_mode": {
    "name": "ipython",
    "version": 3
   },
   "file_extension": ".py",
   "mimetype": "text/x-python",
   "name": "python",
   "nbconvert_exporter": "python",
   "pygments_lexer": "ipython3",
   "version": "3.8.10"
  },
  "toc": {
   "base_numbering": 1,
   "nav_menu": {},
   "number_sections": false,
   "sideBar": true,
   "skip_h1_title": true,
   "title_cell": "Table of Contents",
   "title_sidebar": "Contents",
   "toc_cell": false,
   "toc_position": {},
   "toc_section_display": true,
   "toc_window_display": false
  }
 },
 "nbformat": 4,
 "nbformat_minor": 4
}
