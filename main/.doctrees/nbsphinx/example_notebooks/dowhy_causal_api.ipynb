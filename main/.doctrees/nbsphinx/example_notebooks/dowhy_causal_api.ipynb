{
 "cells": [
  {
   "cell_type": "markdown",
   "metadata": {},
   "source": [
    "# Demo for the DoWhy causal API\n",
    "We show a simple example of adding a causal extension to any dataframe. "
   ]
  },
  {
   "cell_type": "code",
   "execution_count": 1,
   "metadata": {
    "execution": {
     "iopub.execute_input": "2022-10-17T14:30:47.452545Z",
     "iopub.status.busy": "2022-10-17T14:30:47.452302Z",
     "iopub.status.idle": "2022-10-17T14:30:49.268875Z",
     "shell.execute_reply": "2022-10-17T14:30:49.268239Z"
    }
   },
   "outputs": [],
   "source": [
    "import dowhy.datasets\n",
    "import dowhy.api\n",
    "\n",
    "import numpy as np\n",
    "import pandas as pd\n",
    "\n",
    "from statsmodels.api import OLS"
   ]
  },
  {
   "cell_type": "code",
   "execution_count": 2,
   "metadata": {
    "execution": {
     "iopub.execute_input": "2022-10-17T14:30:49.272479Z",
     "iopub.status.busy": "2022-10-17T14:30:49.272107Z",
     "iopub.status.idle": "2022-10-17T14:30:49.315377Z",
     "shell.execute_reply": "2022-10-17T14:30:49.314748Z"
    }
   },
   "outputs": [
    {
     "data": {
      "text/html": [
       "<div>\n",
       "<style scoped>\n",
       "    .dataframe tbody tr th:only-of-type {\n",
       "        vertical-align: middle;\n",
       "    }\n",
       "\n",
       "    .dataframe tbody tr th {\n",
       "        vertical-align: top;\n",
       "    }\n",
       "\n",
       "    .dataframe thead th {\n",
       "        text-align: right;\n",
       "    }\n",
       "</style>\n",
       "<table border=\"1\" class=\"dataframe\">\n",
       "  <thead>\n",
       "    <tr style=\"text-align: right;\">\n",
       "      <th></th>\n",
       "      <th>W0</th>\n",
       "      <th>v0</th>\n",
       "      <th>y</th>\n",
       "    </tr>\n",
       "  </thead>\n",
       "  <tbody>\n",
       "    <tr>\n",
       "      <th>0</th>\n",
       "      <td>1.302571</td>\n",
       "      <td>True</td>\n",
       "      <td>6.369490</td>\n",
       "    </tr>\n",
       "    <tr>\n",
       "      <th>1</th>\n",
       "      <td>0.487572</td>\n",
       "      <td>True</td>\n",
       "      <td>6.590777</td>\n",
       "    </tr>\n",
       "    <tr>\n",
       "      <th>2</th>\n",
       "      <td>0.928295</td>\n",
       "      <td>True</td>\n",
       "      <td>8.659969</td>\n",
       "    </tr>\n",
       "    <tr>\n",
       "      <th>3</th>\n",
       "      <td>-1.416513</td>\n",
       "      <td>False</td>\n",
       "      <td>-2.366209</td>\n",
       "    </tr>\n",
       "    <tr>\n",
       "      <th>4</th>\n",
       "      <td>-1.251058</td>\n",
       "      <td>False</td>\n",
       "      <td>-1.347237</td>\n",
       "    </tr>\n",
       "    <tr>\n",
       "      <th>...</th>\n",
       "      <td>...</td>\n",
       "      <td>...</td>\n",
       "      <td>...</td>\n",
       "    </tr>\n",
       "    <tr>\n",
       "      <th>995</th>\n",
       "      <td>-0.675823</td>\n",
       "      <td>True</td>\n",
       "      <td>4.520989</td>\n",
       "    </tr>\n",
       "    <tr>\n",
       "      <th>996</th>\n",
       "      <td>0.762766</td>\n",
       "      <td>True</td>\n",
       "      <td>6.571076</td>\n",
       "    </tr>\n",
       "    <tr>\n",
       "      <th>997</th>\n",
       "      <td>-0.552114</td>\n",
       "      <td>False</td>\n",
       "      <td>-1.395625</td>\n",
       "    </tr>\n",
       "    <tr>\n",
       "      <th>998</th>\n",
       "      <td>0.573109</td>\n",
       "      <td>True</td>\n",
       "      <td>7.270368</td>\n",
       "    </tr>\n",
       "    <tr>\n",
       "      <th>999</th>\n",
       "      <td>2.152193</td>\n",
       "      <td>True</td>\n",
       "      <td>9.108980</td>\n",
       "    </tr>\n",
       "  </tbody>\n",
       "</table>\n",
       "<p>1000 rows × 3 columns</p>\n",
       "</div>"
      ],
      "text/plain": [
       "           W0     v0         y\n",
       "0    1.302571   True  6.369490\n",
       "1    0.487572   True  6.590777\n",
       "2    0.928295   True  8.659969\n",
       "3   -1.416513  False -2.366209\n",
       "4   -1.251058  False -1.347237\n",
       "..        ...    ...       ...\n",
       "995 -0.675823   True  4.520989\n",
       "996  0.762766   True  6.571076\n",
       "997 -0.552114  False -1.395625\n",
       "998  0.573109   True  7.270368\n",
       "999  2.152193   True  9.108980\n",
       "\n",
       "[1000 rows x 3 columns]"
      ]
     },
     "execution_count": 2,
     "metadata": {},
     "output_type": "execute_result"
    }
   ],
   "source": [
    "data = dowhy.datasets.linear_dataset(beta=5,\n",
    "        num_common_causes=1,\n",
    "        num_instruments = 0,\n",
    "        num_samples=1000,\n",
    "        treatment_is_binary=True)\n",
    "df = data['df']\n",
    "df['y'] = df['y'] + np.random.normal(size=len(df)) # Adding noise to data. Without noise, the variance in Y|X, Z is zero, and mcmc fails.\n",
    "#data['dot_graph'] = 'digraph { v ->y;X0-> v;X0-> y;}'\n",
    "\n",
    "treatment= data[\"treatment_name\"][0]\n",
    "outcome = data[\"outcome_name\"][0]\n",
    "common_cause = data[\"common_causes_names\"][0]\n",
    "df"
   ]
  },
  {
   "cell_type": "code",
   "execution_count": 3,
   "metadata": {
    "execution": {
     "iopub.execute_input": "2022-10-17T14:30:49.318191Z",
     "iopub.status.busy": "2022-10-17T14:30:49.317971Z",
     "iopub.status.idle": "2022-10-17T14:30:49.456410Z",
     "shell.execute_reply": "2022-10-17T14:30:49.455887Z"
    }
   },
   "outputs": [
    {
     "data": {
      "text/plain": [
       "<AxesSubplot: xlabel='v0'>"
      ]
     },
     "execution_count": 3,
     "metadata": {},
     "output_type": "execute_result"
    },
    {
     "data": {
      "image/png": "[encoded data removed]",
      "text/plain": [
       "<Figure size 640x480 with 1 Axes>"
      ]
     },
     "metadata": {},
     "output_type": "display_data"
    }
   ],
   "source": [
    "# data['df'] is just a regular pandas.DataFrame\n",
    "df.causal.do(x=treatment,\n",
    "                     variable_types={treatment: 'b', outcome: 'c', common_cause: 'c'},\n",
    "                     outcome=outcome,\n",
    "                     common_causes=[common_cause],\n",
    "                     proceed_when_unidentifiable=True).groupby(treatment).mean().plot(y=outcome, kind='bar')"
   ]
  },
  {
   "cell_type": "code",
   "execution_count": 4,
   "metadata": {
    "execution": {
     "iopub.execute_input": "2022-10-17T14:30:49.459743Z",
     "iopub.status.busy": "2022-10-17T14:30:49.459179Z",
     "iopub.status.idle": "2022-10-17T14:30:49.579691Z",
     "shell.execute_reply": "2022-10-17T14:30:49.579074Z"
    }
   },
   "outputs": [
    {
     "data": {
      "text/plain": [
       "<AxesSubplot: xlabel='v0'>"
      ]
     },
     "execution_count": 4,
     "metadata": {},
     "output_type": "execute_result"
    },
    {
     "data": {
      "image/png": "[encoded data removed]",
      "text/plain": [
       "<Figure size 640x480 with 1 Axes>"
      ]
     },
     "metadata": {},
     "output_type": "display_data"
    }
   ],
   "source": [
    "df.causal.do(x={treatment: 1}, \n",
    "              variable_types={treatment:'b', outcome: 'c', common_cause: 'c'}, \n",
    "              outcome=outcome,\n",
    "              method='weighting', \n",
    "              common_causes=[common_cause],\n",
    "              proceed_when_unidentifiable=True).groupby(treatment).mean().plot(y=outcome, kind='bar')"
   ]
  },
  {
   "cell_type": "code",
   "execution_count": 5,
   "metadata": {
    "execution": {
     "iopub.execute_input": "2022-10-17T14:30:49.583956Z",
     "iopub.status.busy": "2022-10-17T14:30:49.582752Z",
     "iopub.status.idle": "2022-10-17T14:30:49.614315Z",
     "shell.execute_reply": "2022-10-17T14:30:49.613703Z"
    }
   },
   "outputs": [],
   "source": [
    "cdf_1 = df.causal.do(x={treatment: 1}, \n",
    "              variable_types={treatment: 'b', outcome: 'c', common_cause: 'c'}, \n",
    "              outcome=outcome, \n",
    "              dot_graph=data['dot_graph'],\n",
    "              proceed_when_unidentifiable=True)\n",
    "\n",
    "cdf_0 = df.causal.do(x={treatment: 0}, \n",
    "              variable_types={treatment: 'b', outcome: 'c', common_cause: 'c'}, \n",
    "              outcome=outcome, \n",
    "              dot_graph=data['dot_graph'],\n",
    "              proceed_when_unidentifiable=True)\n"
   ]
  },
  {
   "cell_type": "code",
   "execution_count": 6,
   "metadata": {
    "execution": {
     "iopub.execute_input": "2022-10-17T14:30:49.617638Z",
     "iopub.status.busy": "2022-10-17T14:30:49.617296Z",
     "iopub.status.idle": "2022-10-17T14:30:49.628544Z",
     "shell.execute_reply": "2022-10-17T14:30:49.627904Z"
    },
    "scrolled": true
   },
   "outputs": [
    {
     "data": {
      "text/html": [
       "<div>\n",
       "<style scoped>\n",
       "    .dataframe tbody tr th:only-of-type {\n",
       "        vertical-align: middle;\n",
       "    }\n",
       "\n",
       "    .dataframe tbody tr th {\n",
       "        vertical-align: top;\n",
       "    }\n",
       "\n",
       "    .dataframe thead th {\n",
       "        text-align: right;\n",
       "    }\n",
       "</style>\n",
       "<table border=\"1\" class=\"dataframe\">\n",
       "  <thead>\n",
       "    <tr style=\"text-align: right;\">\n",
       "      <th></th>\n",
       "      <th>W0</th>\n",
       "      <th>v0</th>\n",
       "      <th>y</th>\n",
       "      <th>propensity_score</th>\n",
       "      <th>weight</th>\n",
       "    </tr>\n",
       "  </thead>\n",
       "  <tbody>\n",
       "    <tr>\n",
       "      <th>0</th>\n",
       "      <td>-0.984390</td>\n",
       "      <td>False</td>\n",
       "      <td>-2.065663</td>\n",
       "      <td>0.727130</td>\n",
       "      <td>1.375269</td>\n",
       "    </tr>\n",
       "    <tr>\n",
       "      <th>1</th>\n",
       "      <td>0.900073</td>\n",
       "      <td>False</td>\n",
       "      <td>1.739081</td>\n",
       "      <td>0.284744</td>\n",
       "      <td>3.511923</td>\n",
       "    </tr>\n",
       "    <tr>\n",
       "      <th>2</th>\n",
       "      <td>-1.085824</td>\n",
       "      <td>False</td>\n",
       "      <td>-2.384810</td>\n",
       "      <td>0.746956</td>\n",
       "      <td>1.338767</td>\n",
       "    </tr>\n",
       "    <tr>\n",
       "      <th>3</th>\n",
       "      <td>0.434081</td>\n",
       "      <td>False</td>\n",
       "      <td>0.541987</td>\n",
       "      <td>0.389140</td>\n",
       "      <td>2.569768</td>\n",
       "    </tr>\n",
       "    <tr>\n",
       "      <th>4</th>\n",
       "      <td>-1.053114</td>\n",
       "      <td>False</td>\n",
       "      <td>-1.956994</td>\n",
       "      <td>0.740668</td>\n",
       "      <td>1.350132</td>\n",
       "    </tr>\n",
       "    <tr>\n",
       "      <th>...</th>\n",
       "      <td>...</td>\n",
       "      <td>...</td>\n",
       "      <td>...</td>\n",
       "      <td>...</td>\n",
       "      <td>...</td>\n",
       "    </tr>\n",
       "    <tr>\n",
       "      <th>995</th>\n",
       "      <td>1.541991</td>\n",
       "      <td>False</td>\n",
       "      <td>3.519773</td>\n",
       "      <td>0.172408</td>\n",
       "      <td>5.800187</td>\n",
       "    </tr>\n",
       "    <tr>\n",
       "      <th>996</th>\n",
       "      <td>-0.126072</td>\n",
       "      <td>False</td>\n",
       "      <td>1.005904</td>\n",
       "      <td>0.528516</td>\n",
       "      <td>1.892090</td>\n",
       "    </tr>\n",
       "    <tr>\n",
       "      <th>997</th>\n",
       "      <td>-0.327738</td>\n",
       "      <td>False</td>\n",
       "      <td>-1.665187</td>\n",
       "      <td>0.578749</td>\n",
       "      <td>1.727864</td>\n",
       "    </tr>\n",
       "    <tr>\n",
       "      <th>998</th>\n",
       "      <td>0.530329</td>\n",
       "      <td>False</td>\n",
       "      <td>-0.442212</td>\n",
       "      <td>0.366322</td>\n",
       "      <td>2.729841</td>\n",
       "    </tr>\n",
       "    <tr>\n",
       "      <th>999</th>\n",
       "      <td>1.801792</td>\n",
       "      <td>False</td>\n",
       "      <td>2.113551</td>\n",
       "      <td>0.138148</td>\n",
       "      <td>7.238612</td>\n",
       "    </tr>\n",
       "  </tbody>\n",
       "</table>\n",
       "<p>1000 rows × 5 columns</p>\n",
       "</div>"
      ],
      "text/plain": [
       "           W0     v0         y  propensity_score    weight\n",
       "0   -0.984390  False -2.065663          0.727130  1.375269\n",
       "1    0.900073  False  1.739081          0.284744  3.511923\n",
       "2   -1.085824  False -2.384810          0.746956  1.338767\n",
       "3    0.434081  False  0.541987          0.389140  2.569768\n",
       "4   -1.053114  False -1.956994          0.740668  1.350132\n",
       "..        ...    ...       ...               ...       ...\n",
       "995  1.541991  False  3.519773          0.172408  5.800187\n",
       "996 -0.126072  False  1.005904          0.528516  1.892090\n",
       "997 -0.327738  False -1.665187          0.578749  1.727864\n",
       "998  0.530329  False -0.442212          0.366322  2.729841\n",
       "999  1.801792  False  2.113551          0.138148  7.238612\n",
       "\n",
       "[1000 rows x 5 columns]"
      ]
     },
     "execution_count": 6,
     "metadata": {},
     "output_type": "execute_result"
    }
   ],
   "source": [
    "cdf_0"
   ]
  },
  {
   "cell_type": "code",
   "execution_count": 7,
   "metadata": {
    "execution": {
     "iopub.execute_input": "2022-10-17T14:30:49.631314Z",
     "iopub.status.busy": "2022-10-17T14:30:49.631097Z",
     "iopub.status.idle": "2022-10-17T14:30:49.640731Z",
     "shell.execute_reply": "2022-10-17T14:30:49.640154Z"
    }
   },
   "outputs": [
    {
     "data": {
      "text/html": [
       "<div>\n",
       "<style scoped>\n",
       "    .dataframe tbody tr th:only-of-type {\n",
       "        vertical-align: middle;\n",
       "    }\n",
       "\n",
       "    .dataframe tbody tr th {\n",
       "        vertical-align: top;\n",
       "    }\n",
       "\n",
       "    .dataframe thead th {\n",
       "        text-align: right;\n",
       "    }\n",
       "</style>\n",
       "<table border=\"1\" class=\"dataframe\">\n",
       "  <thead>\n",
       "    <tr style=\"text-align: right;\">\n",
       "      <th></th>\n",
       "      <th>W0</th>\n",
       "      <th>v0</th>\n",
       "      <th>y</th>\n",
       "      <th>propensity_score</th>\n",
       "      <th>weight</th>\n",
       "    </tr>\n",
       "  </thead>\n",
       "  <tbody>\n",
       "    <tr>\n",
       "      <th>0</th>\n",
       "      <td>-0.644264</td>\n",
       "      <td>True</td>\n",
       "      <td>4.049065</td>\n",
       "      <td>0.345931</td>\n",
       "      <td>2.890747</td>\n",
       "    </tr>\n",
       "    <tr>\n",
       "      <th>1</th>\n",
       "      <td>-0.003592</td>\n",
       "      <td>True</td>\n",
       "      <td>4.620328</td>\n",
       "      <td>0.502344</td>\n",
       "      <td>1.990667</td>\n",
       "    </tr>\n",
       "    <tr>\n",
       "      <th>2</th>\n",
       "      <td>-0.487040</td>\n",
       "      <td>True</td>\n",
       "      <td>3.732007</td>\n",
       "      <td>0.382641</td>\n",
       "      <td>2.613417</td>\n",
       "    </tr>\n",
       "    <tr>\n",
       "      <th>3</th>\n",
       "      <td>1.938819</td>\n",
       "      <td>True</td>\n",
       "      <td>10.390138</td>\n",
       "      <td>0.877503</td>\n",
       "      <td>1.139597</td>\n",
       "    </tr>\n",
       "    <tr>\n",
       "      <th>4</th>\n",
       "      <td>1.331330</td>\n",
       "      <td>True</td>\n",
       "      <td>7.103606</td>\n",
       "      <td>0.795130</td>\n",
       "      <td>1.257657</td>\n",
       "    </tr>\n",
       "    <tr>\n",
       "      <th>...</th>\n",
       "      <td>...</td>\n",
       "      <td>...</td>\n",
       "      <td>...</td>\n",
       "      <td>...</td>\n",
       "      <td>...</td>\n",
       "    </tr>\n",
       "    <tr>\n",
       "      <th>995</th>\n",
       "      <td>-1.353607</td>\n",
       "      <td>True</td>\n",
       "      <td>1.210503</td>\n",
       "      <td>0.205446</td>\n",
       "      <td>4.867467</td>\n",
       "    </tr>\n",
       "    <tr>\n",
       "      <th>996</th>\n",
       "      <td>0.447385</td>\n",
       "      <td>True</td>\n",
       "      <td>7.105042</td>\n",
       "      <td>0.614046</td>\n",
       "      <td>1.628543</td>\n",
       "    </tr>\n",
       "    <tr>\n",
       "      <th>997</th>\n",
       "      <td>0.285074</td>\n",
       "      <td>True</td>\n",
       "      <td>5.872214</td>\n",
       "      <td>0.574589</td>\n",
       "      <td>1.740373</td>\n",
       "    </tr>\n",
       "    <tr>\n",
       "      <th>998</th>\n",
       "      <td>0.266034</td>\n",
       "      <td>True</td>\n",
       "      <td>6.902793</td>\n",
       "      <td>0.569887</td>\n",
       "      <td>1.754732</td>\n",
       "    </tr>\n",
       "    <tr>\n",
       "      <th>999</th>\n",
       "      <td>-0.605327</td>\n",
       "      <td>True</td>\n",
       "      <td>3.863186</td>\n",
       "      <td>0.354873</td>\n",
       "      <td>2.817913</td>\n",
       "    </tr>\n",
       "  </tbody>\n",
       "</table>\n",
       "<p>1000 rows × 5 columns</p>\n",
       "</div>"
      ],
      "text/plain": [
       "           W0    v0          y  propensity_score    weight\n",
       "0   -0.644264  True   4.049065          0.345931  2.890747\n",
       "1   -0.003592  True   4.620328          0.502344  1.990667\n",
       "2   -0.487040  True   3.732007          0.382641  2.613417\n",
       "3    1.938819  True  10.390138          0.877503  1.139597\n",
       "4    1.331330  True   7.103606          0.795130  1.257657\n",
       "..        ...   ...        ...               ...       ...\n",
       "995 -1.353607  True   1.210503          0.205446  4.867467\n",
       "996  0.447385  True   7.105042          0.614046  1.628543\n",
       "997  0.285074  True   5.872214          0.574589  1.740373\n",
       "998  0.266034  True   6.902793          0.569887  1.754732\n",
       "999 -0.605327  True   3.863186          0.354873  2.817913\n",
       "\n",
       "[1000 rows x 5 columns]"
      ]
     },
     "execution_count": 7,
     "metadata": {},
     "output_type": "execute_result"
    }
   ],
   "source": [
    "cdf_1"
   ]
  },
  {
   "cell_type": "markdown",
   "metadata": {},
   "source": [
    "## Comparing the estimate to Linear Regression\n",
    "First, estimating the effect using the causal data frame, and the 95% confidence interval."
   ]
  },
  {
   "cell_type": "code",
   "execution_count": 8,
   "metadata": {
    "execution": {
     "iopub.execute_input": "2022-10-17T14:30:49.644753Z",
     "iopub.status.busy": "2022-10-17T14:30:49.644240Z",
     "iopub.status.idle": "2022-10-17T14:30:49.701393Z",
     "shell.execute_reply": "2022-10-17T14:30:49.700718Z"
    }
   },
   "outputs": [
    {
     "data": {
      "image/png": "[encoded data removed]",
      "text/latex": [
       "$\\displaystyle 5.37927702501637$"
      ],
      "text/plain": [
       "5.379277025016369"
      ]
     },
     "execution_count": 8,
     "metadata": {},
     "output_type": "execute_result"
    }
   ],
   "source": [
    "(cdf_1['y'] - cdf_0['y']).mean()"
   ]
  },
  {
   "cell_type": "code",
   "execution_count": 9,
   "metadata": {
    "execution": {
     "iopub.execute_input": "2022-10-17T14:30:49.704455Z",
     "iopub.status.busy": "2022-10-17T14:30:49.703949Z",
     "iopub.status.idle": "2022-10-17T14:30:49.723763Z",
     "shell.execute_reply": "2022-10-17T14:30:49.723119Z"
    }
   },
   "outputs": [
    {
     "data": {
      "image/png": "[encoded data removed]",
      "text/latex": [
       "$\\displaystyle 0.1878616949503$"
      ],
      "text/plain": [
       "0.18786169495029995"
      ]
     },
     "execution_count": 9,
     "metadata": {},
     "output_type": "execute_result"
    }
   ],
   "source": [
    "1.96*(cdf_1['y'] - cdf_0['y']).std() / np.sqrt(len(df))"
   ]
  },
  {
   "cell_type": "markdown",
   "metadata": {},
   "source": [
    "Comparing to the estimate from OLS."
   ]
  },
  {
   "cell_type": "code",
   "execution_count": 10,
   "metadata": {
    "execution": {
     "iopub.execute_input": "2022-10-17T14:30:49.726862Z",
     "iopub.status.busy": "2022-10-17T14:30:49.726274Z",
     "iopub.status.idle": "2022-10-17T14:30:49.741600Z",
     "shell.execute_reply": "2022-10-17T14:30:49.740958Z"
    }
   },
   "outputs": [
    {
     "data": {
      "text/html": [
       "<table class=\"simpletable\">\n",
       "<caption>OLS Regression Results</caption>\n",
       "<tr>\n",
       "  <th>Dep. Variable:</th>            <td>y</td>        <th>  R-squared (uncentered):</th>      <td>   0.965</td> \n",
       "</tr>\n",
       "<tr>\n",
       "  <th>Model:</th>                   <td>OLS</td>       <th>  Adj. R-squared (uncentered):</th> <td>   0.965</td> \n",
       "</tr>\n",
       "<tr>\n",
       "  <th>Method:</th>             <td>Least Squares</td>  <th>  F-statistic:       </th>          <td>1.390e+04</td>\n",
       "</tr>\n",
       "<tr>\n",
       "  <th>Date:</th>             <td>Mon, 17 Oct 2022</td> <th>  Prob (F-statistic):</th>           <td>  0.00</td>  \n",
       "</tr>\n",
       "<tr>\n",
       "  <th>Time:</th>                 <td>14:30:49</td>     <th>  Log-Likelihood:    </th>          <td> -1405.6</td> \n",
       "</tr>\n",
       "<tr>\n",
       "  <th>No. Observations:</th>      <td>  1000</td>      <th>  AIC:               </th>          <td>   2815.</td> \n",
       "</tr>\n",
       "<tr>\n",
       "  <th>Df Residuals:</th>          <td>   998</td>      <th>  BIC:               </th>          <td>   2825.</td> \n",
       "</tr>\n",
       "<tr>\n",
       "  <th>Df Model:</th>              <td>     2</td>      <th>                     </th>              <td> </td>    \n",
       "</tr>\n",
       "<tr>\n",
       "  <th>Covariance Type:</th>      <td>nonrobust</td>    <th>                     </th>              <td> </td>    \n",
       "</tr>\n",
       "</table>\n",
       "<table class=\"simpletable\">\n",
       "<tr>\n",
       "   <td></td>     <th>coef</th>     <th>std err</th>      <th>t</th>      <th>P>|t|</th>  <th>[0.025</th>    <th>0.975]</th>  \n",
       "</tr>\n",
       "<tr>\n",
       "  <th>x1</th> <td>    1.8988</td> <td>    0.033</td> <td>   56.689</td> <td> 0.000</td> <td>    1.833</td> <td>    1.965</td>\n",
       "</tr>\n",
       "<tr>\n",
       "  <th>x2</th> <td>    5.0744</td> <td>    0.048</td> <td>  106.134</td> <td> 0.000</td> <td>    4.981</td> <td>    5.168</td>\n",
       "</tr>\n",
       "</table>\n",
       "<table class=\"simpletable\">\n",
       "<tr>\n",
       "  <th>Omnibus:</th>       <td> 0.884</td> <th>  Durbin-Watson:     </th> <td>   2.079</td>\n",
       "</tr>\n",
       "<tr>\n",
       "  <th>Prob(Omnibus):</th> <td> 0.643</td> <th>  Jarque-Bera (JB):  </th> <td>   0.950</td>\n",
       "</tr>\n",
       "<tr>\n",
       "  <th>Skew:</th>          <td> 0.030</td> <th>  Prob(JB):          </th> <td>   0.622</td>\n",
       "</tr>\n",
       "<tr>\n",
       "  <th>Kurtosis:</th>      <td> 2.862</td> <th>  Cond. No.          </th> <td>    1.96</td>\n",
       "</tr>\n",
       "</table><br/><br/>Notes:<br/>[1] R² is computed without centering (uncentered) since the model does not contain a constant.<br/>[2] Standard Errors assume that the covariance matrix of the errors is correctly specified."
      ],
      "text/plain": [
       "<class 'statsmodels.iolib.summary.Summary'>\n",
       "\"\"\"\n",
       "                                 OLS Regression Results                                \n",
       "=======================================================================================\n",
       "Dep. Variable:                      y   R-squared (uncentered):                   0.965\n",
       "Model:                            OLS   Adj. R-squared (uncentered):              0.965\n",
       "Method:                 Least Squares   F-statistic:                          1.390e+04\n",
       "Date:                Mon, 17 Oct 2022   Prob (F-statistic):                        0.00\n",
       "Time:                        14:30:49   Log-Likelihood:                         -1405.6\n",
       "No. Observations:                1000   AIC:                                      2815.\n",
       "Df Residuals:                     998   BIC:                                      2825.\n",
       "Df Model:                           2                                                  \n",
       "Covariance Type:            nonrobust                                                  \n",
       "==============================================================================\n",
       "                 coef    std err          t      P>|t|      [0.025      0.975]\n",
       "------------------------------------------------------------------------------\n",
       "x1             1.8988      0.033     56.689      0.000       1.833       1.965\n",
       "x2             5.0744      0.048    106.134      0.000       4.981       5.168\n",
       "==============================================================================\n",
       "Omnibus:                        0.884   Durbin-Watson:                   2.079\n",
       "Prob(Omnibus):                  0.643   Jarque-Bera (JB):                0.950\n",
       "Skew:                           0.030   Prob(JB):                        0.622\n",
       "Kurtosis:                       2.862   Cond. No.                         1.96\n",
       "==============================================================================\n",
       "\n",
       "Notes:\n",
       "[1] R² is computed without centering (uncentered) since the model does not contain a constant.\n",
       "[2] Standard Errors assume that the covariance matrix of the errors is correctly specified.\n",
       "\"\"\""
      ]
     },
     "execution_count": 10,
     "metadata": {},
     "output_type": "execute_result"
    }
   ],
   "source": [
    "model = OLS(np.asarray(df[outcome]), np.asarray(df[[common_cause, treatment]], dtype=np.float64))\n",
    "result = model.fit()\n",
    "result.summary()"
   ]
  }
 ],
 "metadata": {
  "kernelspec": {
   "display_name": "Python 3",
   "language": "python",
   "name": "python3"
  },
  "language_info": {
   "codemirror_mode": {
    "name": "ipython",
    "version": 3
   },
   "file_extension": ".py",
   "mimetype": "text/x-python",
   "name": "python",
   "nbconvert_exporter": "python",
   "pygments_lexer": "ipython3",
   "version": "3.8.10"
  },
  "toc": {
   "base_numbering": 1,
   "nav_menu": {},
   "number_sections": false,
   "sideBar": true,
   "skip_h1_title": true,
   "title_cell": "Table of Contents",
   "title_sidebar": "Contents",
   "toc_cell": false,
   "toc_position": {},
   "toc_section_display": true,
   "toc_window_display": false
  }
 },
 "nbformat": 4,
 "nbformat_minor": 4
}
