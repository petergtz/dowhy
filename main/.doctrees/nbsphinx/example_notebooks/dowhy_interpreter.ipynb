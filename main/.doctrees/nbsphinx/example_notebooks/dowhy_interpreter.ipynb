{
 "cells": [
  {
   "cell_type": "markdown",
   "id": "c6dedbc3",
   "metadata": {},
   "source": [
    "# DoWhy: Interpreters for Causal Estimators\n",
    "\n",
    "This is a quick introduction to the use of interpreters in the DoWhy causal inference library.\n",
    "We will load in a sample dataset, use different methods for estimating the causal effect of a (pre-specified)treatment variable on a (pre-specified) outcome variable and demonstrate how to interpret the obtained results.\n",
    "\n",
    "First, let us add the required path for Python to find the DoWhy code and load all required packages"
   ]
  },
  {
   "cell_type": "code",
   "execution_count": 1,
   "id": "4a4c0372",
   "metadata": {
    "execution": {
     "iopub.execute_input": "2023-03-15T17:23:04.294614Z",
     "iopub.status.busy": "2023-03-15T17:23:04.294340Z",
     "iopub.status.idle": "2023-03-15T17:23:04.314042Z",
     "shell.execute_reply": "2023-03-15T17:23:04.313146Z"
    }
   },
   "outputs": [],
   "source": [
    "%load_ext autoreload\n",
    "%autoreload 2"
   ]
  },
  {
   "cell_type": "code",
   "execution_count": 2,
   "id": "c43f1fa6",
   "metadata": {
    "execution": {
     "iopub.execute_input": "2023-03-15T17:23:04.317288Z",
     "iopub.status.busy": "2023-03-15T17:23:04.317036Z",
     "iopub.status.idle": "2023-03-15T17:23:06.726735Z",
     "shell.execute_reply": "2023-03-15T17:23:06.725756Z"
    }
   },
   "outputs": [],
   "source": [
    "import numpy as np\n",
    "import pandas as pd\n",
    "import logging\n",
    "\n",
    "import dowhy\n",
    "from dowhy import CausalModel\n",
    "import dowhy.datasets "
   ]
  },
  {
   "cell_type": "markdown",
   "id": "70b920b9",
   "metadata": {},
   "source": [
    "Now, let us load a dataset. For simplicity, we simulate a dataset with linear relationships between common causes and treatment, and common causes and outcome.\n",
    "\n",
    "Beta is the true causal effect."
   ]
  },
  {
   "cell_type": "code",
   "execution_count": 3,
   "id": "e8a06f39",
   "metadata": {
    "execution": {
     "iopub.execute_input": "2023-03-15T17:23:06.732958Z",
     "iopub.status.busy": "2023-03-15T17:23:06.731029Z",
     "iopub.status.idle": "2023-03-15T17:23:07.210561Z",
     "shell.execute_reply": "2023-03-15T17:23:07.209783Z"
    }
   },
   "outputs": [
    {
     "name": "stdout",
     "output_type": "stream",
     "text": [
      "9159\n"
     ]
    },
    {
     "data": {
      "text/html": [
       "<div>\n",
       "<style scoped>\n",
       "    .dataframe tbody tr th:only-of-type {\n",
       "        vertical-align: middle;\n",
       "    }\n",
       "\n",
       "    .dataframe tbody tr th {\n",
       "        vertical-align: top;\n",
       "    }\n",
       "\n",
       "    .dataframe thead th {\n",
       "        text-align: right;\n",
       "    }\n",
       "</style>\n",
       "<table border=\"1\" class=\"dataframe\">\n",
       "  <thead>\n",
       "    <tr style=\"text-align: right;\">\n",
       "      <th></th>\n",
       "      <th>Z0</th>\n",
       "      <th>Z1</th>\n",
       "      <th>W0</th>\n",
       "      <th>W1</th>\n",
       "      <th>W2</th>\n",
       "      <th>W3</th>\n",
       "      <th>W4</th>\n",
       "      <th>v0</th>\n",
       "      <th>y</th>\n",
       "    </tr>\n",
       "  </thead>\n",
       "  <tbody>\n",
       "    <tr>\n",
       "      <th>0</th>\n",
       "      <td>1.0</td>\n",
       "      <td>0.125319</td>\n",
       "      <td>0.649193</td>\n",
       "      <td>0.817249</td>\n",
       "      <td>-0.661721</td>\n",
       "      <td>-0.653247</td>\n",
       "      <td>1</td>\n",
       "      <td>True</td>\n",
       "      <td>1.078303</td>\n",
       "    </tr>\n",
       "    <tr>\n",
       "      <th>1</th>\n",
       "      <td>1.0</td>\n",
       "      <td>0.816653</td>\n",
       "      <td>1.054121</td>\n",
       "      <td>0.547501</td>\n",
       "      <td>0.955091</td>\n",
       "      <td>0.369588</td>\n",
       "      <td>3</td>\n",
       "      <td>True</td>\n",
       "      <td>3.711700</td>\n",
       "    </tr>\n",
       "    <tr>\n",
       "      <th>2</th>\n",
       "      <td>0.0</td>\n",
       "      <td>0.625247</td>\n",
       "      <td>0.280154</td>\n",
       "      <td>-0.169451</td>\n",
       "      <td>1.419577</td>\n",
       "      <td>0.048341</td>\n",
       "      <td>0</td>\n",
       "      <td>True</td>\n",
       "      <td>2.309920</td>\n",
       "    </tr>\n",
       "    <tr>\n",
       "      <th>3</th>\n",
       "      <td>1.0</td>\n",
       "      <td>0.432698</td>\n",
       "      <td>-0.257361</td>\n",
       "      <td>-1.242256</td>\n",
       "      <td>-0.250236</td>\n",
       "      <td>0.317897</td>\n",
       "      <td>2</td>\n",
       "      <td>True</td>\n",
       "      <td>1.426384</td>\n",
       "    </tr>\n",
       "    <tr>\n",
       "      <th>4</th>\n",
       "      <td>0.0</td>\n",
       "      <td>0.438356</td>\n",
       "      <td>1.734780</td>\n",
       "      <td>-0.131331</td>\n",
       "      <td>-0.228776</td>\n",
       "      <td>0.429733</td>\n",
       "      <td>3</td>\n",
       "      <td>True</td>\n",
       "      <td>2.513185</td>\n",
       "    </tr>\n",
       "    <tr>\n",
       "      <th>...</th>\n",
       "      <td>...</td>\n",
       "      <td>...</td>\n",
       "      <td>...</td>\n",
       "      <td>...</td>\n",
       "      <td>...</td>\n",
       "      <td>...</td>\n",
       "      <td>...</td>\n",
       "      <td>...</td>\n",
       "      <td>...</td>\n",
       "    </tr>\n",
       "    <tr>\n",
       "      <th>9995</th>\n",
       "      <td>0.0</td>\n",
       "      <td>0.882096</td>\n",
       "      <td>-1.203129</td>\n",
       "      <td>1.216390</td>\n",
       "      <td>0.694078</td>\n",
       "      <td>-1.129144</td>\n",
       "      <td>3</td>\n",
       "      <td>True</td>\n",
       "      <td>3.236945</td>\n",
       "    </tr>\n",
       "    <tr>\n",
       "      <th>9996</th>\n",
       "      <td>0.0</td>\n",
       "      <td>0.775956</td>\n",
       "      <td>-0.044804</td>\n",
       "      <td>-2.204224</td>\n",
       "      <td>-0.034593</td>\n",
       "      <td>1.366660</td>\n",
       "      <td>2</td>\n",
       "      <td>False</td>\n",
       "      <td>0.492670</td>\n",
       "    </tr>\n",
       "    <tr>\n",
       "      <th>9997</th>\n",
       "      <td>1.0</td>\n",
       "      <td>0.780188</td>\n",
       "      <td>-0.382629</td>\n",
       "      <td>0.165940</td>\n",
       "      <td>1.050808</td>\n",
       "      <td>-0.790239</td>\n",
       "      <td>2</td>\n",
       "      <td>True</td>\n",
       "      <td>2.866230</td>\n",
       "    </tr>\n",
       "    <tr>\n",
       "      <th>9998</th>\n",
       "      <td>1.0</td>\n",
       "      <td>0.515862</td>\n",
       "      <td>-0.431741</td>\n",
       "      <td>-1.257283</td>\n",
       "      <td>0.403588</td>\n",
       "      <td>0.283676</td>\n",
       "      <td>1</td>\n",
       "      <td>True</td>\n",
       "      <td>1.504651</td>\n",
       "    </tr>\n",
       "    <tr>\n",
       "      <th>9999</th>\n",
       "      <td>1.0</td>\n",
       "      <td>0.609123</td>\n",
       "      <td>0.498441</td>\n",
       "      <td>0.839851</td>\n",
       "      <td>1.253526</td>\n",
       "      <td>0.282515</td>\n",
       "      <td>0</td>\n",
       "      <td>True</td>\n",
       "      <td>2.524488</td>\n",
       "    </tr>\n",
       "  </tbody>\n",
       "</table>\n",
       "<p>10000 rows × 9 columns</p>\n",
       "</div>"
      ],
      "text/plain": [
       "       Z0        Z1        W0        W1        W2        W3 W4     v0  \\\n",
       "0     1.0  0.125319  0.649193  0.817249 -0.661721 -0.653247  1   True   \n",
       "1     1.0  0.816653  1.054121  0.547501  0.955091  0.369588  3   True   \n",
       "2     0.0  0.625247  0.280154 -0.169451  1.419577  0.048341  0   True   \n",
       "3     1.0  0.432698 -0.257361 -1.242256 -0.250236  0.317897  2   True   \n",
       "4     0.0  0.438356  1.734780 -0.131331 -0.228776  0.429733  3   True   \n",
       "...   ...       ...       ...       ...       ...       ... ..    ...   \n",
       "9995  0.0  0.882096 -1.203129  1.216390  0.694078 -1.129144  3   True   \n",
       "9996  0.0  0.775956 -0.044804 -2.204224 -0.034593  1.366660  2  False   \n",
       "9997  1.0  0.780188 -0.382629  0.165940  1.050808 -0.790239  2   True   \n",
       "9998  1.0  0.515862 -0.431741 -1.257283  0.403588  0.283676  1   True   \n",
       "9999  1.0  0.609123  0.498441  0.839851  1.253526  0.282515  0   True   \n",
       "\n",
       "             y  \n",
       "0     1.078303  \n",
       "1     3.711700  \n",
       "2     2.309920  \n",
       "3     1.426384  \n",
       "4     2.513185  \n",
       "...        ...  \n",
       "9995  3.236945  \n",
       "9996  0.492670  \n",
       "9997  2.866230  \n",
       "9998  1.504651  \n",
       "9999  2.524488  \n",
       "\n",
       "[10000 rows x 9 columns]"
      ]
     },
     "execution_count": 3,
     "metadata": {},
     "output_type": "execute_result"
    }
   ],
   "source": [
    "data = dowhy.datasets.linear_dataset(beta=1,\n",
    "        num_common_causes=5, \n",
    "        num_instruments = 2,\n",
    "        num_treatments=1,\n",
    "        num_discrete_common_causes=1,\n",
    "        num_samples=10000,\n",
    "        treatment_is_binary=True,\n",
    "        outcome_is_binary=False)\n",
    "df = data[\"df\"]\n",
    "print(df[df.v0==True].shape[0])\n",
    "df"
   ]
  },
  {
   "cell_type": "markdown",
   "id": "d3fc1eb3",
   "metadata": {},
   "source": [
    "Note that we are using a pandas dataframe to load the data."
   ]
  },
  {
   "cell_type": "markdown",
   "id": "d9f0f28b",
   "metadata": {},
   "source": [
    "## Identifying the causal estimand"
   ]
  },
  {
   "cell_type": "markdown",
   "id": "691ffb9a",
   "metadata": {},
   "source": [
    "We now input a causal graph in the GML graph format."
   ]
  },
  {
   "cell_type": "code",
   "execution_count": 4,
   "id": "13ac6cec",
   "metadata": {
    "execution": {
     "iopub.execute_input": "2023-03-15T17:23:07.214135Z",
     "iopub.status.busy": "2023-03-15T17:23:07.213652Z",
     "iopub.status.idle": "2023-03-15T17:23:07.252031Z",
     "shell.execute_reply": "2023-03-15T17:23:07.251280Z"
    }
   },
   "outputs": [],
   "source": [
    "# With graph\n",
    "model=CausalModel(\n",
    "        data = df,\n",
    "        treatment=data[\"treatment_name\"],\n",
    "        outcome=data[\"outcome_name\"],\n",
    "        graph=data[\"gml_graph\"],\n",
    "        instruments=data[\"instrument_names\"]\n",
    "        )"
   ]
  },
  {
   "cell_type": "code",
   "execution_count": 5,
   "id": "8c82e1d7",
   "metadata": {
    "execution": {
     "iopub.execute_input": "2023-03-15T17:23:07.255689Z",
     "iopub.status.busy": "2023-03-15T17:23:07.255088Z",
     "iopub.status.idle": "2023-03-15T17:23:07.321806Z",
     "shell.execute_reply": "2023-03-15T17:23:07.320780Z"
    }
   },
   "outputs": [],
   "source": [
    "model.view_model()"
   ]
  },
  {
   "cell_type": "code",
   "execution_count": 6,
   "id": "67f6e169",
   "metadata": {
    "execution": {
     "iopub.execute_input": "2023-03-15T17:23:07.325441Z",
     "iopub.status.busy": "2023-03-15T17:23:07.325149Z",
     "iopub.status.idle": "2023-03-15T17:23:07.362665Z",
     "shell.execute_reply": "2023-03-15T17:23:07.361662Z"
    }
   },
   "outputs": [
    {
     "data": {
      "image/png": "[encoded data removed]",
      "text/plain": [
       "<IPython.core.display.Image object>"
      ]
     },
     "metadata": {},
     "output_type": "display_data"
    }
   ],
   "source": [
    "from IPython.display import Image, display\n",
    "display(Image(filename=\"causal_model.png\"))"
   ]
  },
  {
   "cell_type": "markdown",
   "id": "11e19375",
   "metadata": {},
   "source": [
    "We get a causal graph. Now identification and estimation is done."
   ]
  },
  {
   "cell_type": "code",
   "execution_count": 7,
   "id": "a55c84b8",
   "metadata": {
    "execution": {
     "iopub.execute_input": "2023-03-15T17:23:07.366032Z",
     "iopub.status.busy": "2023-03-15T17:23:07.365787Z",
     "iopub.status.idle": "2023-03-15T17:23:07.671340Z",
     "shell.execute_reply": "2023-03-15T17:23:07.670472Z"
    }
   },
   "outputs": [
    {
     "name": "stdout",
     "output_type": "stream",
     "text": [
      "Estimand type: EstimandType.NONPARAMETRIC_ATE\n",
      "\n",
      "### Estimand : 1\n",
      "Estimand name: backdoor\n",
      "Estimand expression:\n",
      "  d                       \n",
      "─────(E[y|W2,W4,W3,W0,W1])\n",
      "d[v₀]                     \n",
      "Estimand assumption 1, Unconfoundedness: If U→{v0} and U→y then P(y|v0,W2,W4,W3,W0,W1,U) = P(y|v0,W2,W4,W3,W0,W1)\n",
      "\n",
      "### Estimand : 2\n",
      "Estimand name: iv\n",
      "Estimand expression:\n",
      " ⎡                              -1⎤\n",
      " ⎢    d        ⎛    d          ⎞  ⎥\n",
      "E⎢─────────(y)⋅⎜─────────([v₀])⎟  ⎥\n",
      " ⎣d[Z₀  Z₁]    ⎝d[Z₀  Z₁]      ⎠  ⎦\n",
      "Estimand assumption 1, As-if-random: If U→→y then ¬(U →→{Z0,Z1})\n",
      "Estimand assumption 2, Exclusion: If we remove {Z0,Z1}→{v0}, then ¬({Z0,Z1}→y)\n",
      "\n",
      "### Estimand : 3\n",
      "Estimand name: frontdoor\n",
      "No such variable(s) found!\n",
      "\n"
     ]
    }
   ],
   "source": [
    "identified_estimand = model.identify_effect(proceed_when_unidentifiable=True)\n",
    "print(identified_estimand)"
   ]
  },
  {
   "cell_type": "markdown",
   "id": "c68a942b",
   "metadata": {},
   "source": [
    "## Method 1: Propensity Score Stratification\n",
    "\n",
    "We will be using propensity scores to stratify units in the data."
   ]
  },
  {
   "cell_type": "code",
   "execution_count": 8,
   "id": "8bee6bb1",
   "metadata": {
    "execution": {
     "iopub.execute_input": "2023-03-15T17:23:07.675187Z",
     "iopub.status.busy": "2023-03-15T17:23:07.674688Z",
     "iopub.status.idle": "2023-03-15T17:23:08.875279Z",
     "shell.execute_reply": "2023-03-15T17:23:08.874401Z"
    }
   },
   "outputs": [
    {
     "name": "stdout",
     "output_type": "stream",
     "text": [
      "*** Causal Estimate ***\n",
      "\n",
      "## Identified estimand\n",
      "Estimand type: EstimandType.NONPARAMETRIC_ATE\n",
      "\n",
      "### Estimand : 1\n",
      "Estimand name: backdoor\n",
      "Estimand expression:\n",
      "  d                       \n",
      "─────(E[y|W2,W4,W3,W0,W1])\n",
      "d[v₀]                     \n",
      "Estimand assumption 1, Unconfoundedness: If U→{v0} and U→y then P(y|v0,W2,W4,W3,W0,W1,U) = P(y|v0,W2,W4,W3,W0,W1)\n",
      "\n",
      "## Realized estimand\n",
      "b: y~v0+W2+W4+W3+W0+W1\n",
      "Target units: att\n",
      "\n",
      "## Estimate\n",
      "Mean value: 0.9987446288132963\n",
      "\n",
      "Causal Estimate is 0.9987446288132963\n"
     ]
    }
   ],
   "source": [
    "causal_estimate_strat = model.estimate_effect(identified_estimand,\n",
    "                                              method_name=\"backdoor.propensity_score_stratification\",\n",
    "                                              target_units=\"att\")\n",
    "print(causal_estimate_strat)\n",
    "print(\"Causal Estimate is \" + str(causal_estimate_strat.value))"
   ]
  },
  {
   "cell_type": "markdown",
   "id": "392b614c",
   "metadata": {},
   "source": [
    "### Textual Interpreter\n",
    "\n",
    "The textual Interpreter describes (in words) the effect of unit change in the treatment variable on the outcome variable."
   ]
  },
  {
   "cell_type": "code",
   "execution_count": 9,
   "id": "735f8b6b",
   "metadata": {
    "execution": {
     "iopub.execute_input": "2023-03-15T17:23:08.879124Z",
     "iopub.status.busy": "2023-03-15T17:23:08.878657Z",
     "iopub.status.idle": "2023-03-15T17:23:08.916444Z",
     "shell.execute_reply": "2023-03-15T17:23:08.915536Z"
    }
   },
   "outputs": [
    {
     "name": "stdout",
     "output_type": "stream",
     "text": [
      "Increasing the treatment variable(s) [v0] from 0 to 1 causes an increase of 0.9987446288132963 in the expected value of the outcome [['y']], over the data distribution/population represented by the dataset.\n"
     ]
    }
   ],
   "source": [
    "# Textual Interpreter\n",
    "interpretation = causal_estimate_strat.interpret(method_name=\"textual_effect_interpreter\")"
   ]
  },
  {
   "cell_type": "markdown",
   "id": "6b99ab9e",
   "metadata": {},
   "source": [
    "### Visual Interpreter\n",
    "\n",
    "The visual interpreter plots the change in the standardized mean difference (SMD) before and after Propensity Score based adjustment of the dataset. The formula for SMD is given below.\n",
    "\n",
    "\n",
    "$SMD = \\frac{\\bar X_{1} - \\bar X_{2}}{\\sqrt{(S_{1}^{2} + S_{2}^{2})/2}}$\n",
    "\n",
    "Here, $\\bar X_{1}$ and $\\bar X_{2}$ are the sample mean for the treated and control groups.\n"
   ]
  },
  {
   "cell_type": "code",
   "execution_count": 10,
   "id": "0b2e6c46",
   "metadata": {
    "execution": {
     "iopub.execute_input": "2023-03-15T17:23:08.919686Z",
     "iopub.status.busy": "2023-03-15T17:23:08.919400Z",
     "iopub.status.idle": "2023-03-15T17:23:09.779589Z",
     "shell.execute_reply": "2023-03-15T17:23:09.778585Z"
    }
   },
   "outputs": [
    {
     "data": {
      "image/png": "[encoded data removed]",
      "text/plain": [
       "<Figure size 640x480 with 1 Axes>"
      ]
     },
     "metadata": {},
     "output_type": "display_data"
    }
   ],
   "source": [
    "# Visual Interpreter\n",
    "interpretation = causal_estimate_strat.interpret(method_name=\"propensity_balance_interpreter\")"
   ]
  },
  {
   "cell_type": "markdown",
   "id": "7164aca9",
   "metadata": {},
   "source": [
    "This plot shows how the SMD decreases from the unadjusted to the stratified units. "
   ]
  },
  {
   "cell_type": "markdown",
   "id": "1be36b4a",
   "metadata": {},
   "source": [
    "## Method 2: Propensity Score Matching\n",
    "\n",
    "We will be using propensity scores to match units in the data."
   ]
  },
  {
   "cell_type": "code",
   "execution_count": 11,
   "id": "334d2211",
   "metadata": {
    "execution": {
     "iopub.execute_input": "2023-03-15T17:23:09.783252Z",
     "iopub.status.busy": "2023-03-15T17:23:09.782787Z",
     "iopub.status.idle": "2023-03-15T17:23:16.244891Z",
     "shell.execute_reply": "2023-03-15T17:23:16.243236Z"
    }
   },
   "outputs": [
    {
     "name": "stdout",
     "output_type": "stream",
     "text": [
      "*** Causal Estimate ***\n",
      "\n",
      "## Identified estimand\n",
      "Estimand type: EstimandType.NONPARAMETRIC_ATE\n",
      "\n",
      "### Estimand : 1\n",
      "Estimand name: backdoor\n",
      "Estimand expression:\n",
      "  d                       \n",
      "─────(E[y|W2,W4,W3,W0,W1])\n",
      "d[v₀]                     \n",
      "Estimand assumption 1, Unconfoundedness: If U→{v0} and U→y then P(y|v0,W2,W4,W3,W0,W1,U) = P(y|v0,W2,W4,W3,W0,W1)\n",
      "\n",
      "## Realized estimand\n",
      "b: y~v0+W2+W4+W3+W0+W1\n",
      "Target units: atc\n",
      "\n",
      "## Estimate\n",
      "Mean value: 0.987352353375993\n",
      "\n",
      "Causal Estimate is 0.987352353375993\n"
     ]
    }
   ],
   "source": [
    "causal_estimate_match = model.estimate_effect(identified_estimand,\n",
    "                                              method_name=\"backdoor.propensity_score_matching\",\n",
    "                                              target_units=\"atc\")\n",
    "print(causal_estimate_match)\n",
    "print(\"Causal Estimate is \" + str(causal_estimate_match.value))"
   ]
  },
  {
   "cell_type": "code",
   "execution_count": 12,
   "id": "b9ca9098",
   "metadata": {
    "execution": {
     "iopub.execute_input": "2023-03-15T17:23:16.248747Z",
     "iopub.status.busy": "2023-03-15T17:23:16.248482Z",
     "iopub.status.idle": "2023-03-15T17:23:16.285159Z",
     "shell.execute_reply": "2023-03-15T17:23:16.284046Z"
    }
   },
   "outputs": [
    {
     "name": "stdout",
     "output_type": "stream",
     "text": [
      "Increasing the treatment variable(s) [v0] from 0 to 1 causes an increase of 0.987352353375993 in the expected value of the outcome [['y']], over the data distribution/population represented by the dataset.\n"
     ]
    }
   ],
   "source": [
    "# Textual Interpreter\n",
    "interpretation = causal_estimate_match.interpret(method_name=\"textual_effect_interpreter\")"
   ]
  },
  {
   "cell_type": "markdown",
   "id": "af480596",
   "metadata": {},
   "source": [
    "Cannot use propensity balance interpretor here since the interpreter method only supports propensity score stratification estimator."
   ]
  },
  {
   "cell_type": "markdown",
   "id": "bd6e107b",
   "metadata": {},
   "source": [
    "## Method 3: Weighting\n",
    "\n",
    "We will be using (inverse) propensity scores to assign weights to units in the data. DoWhy supports a few different weighting schemes:\n",
    "1. Vanilla Inverse Propensity Score weighting (IPS) (weighting_scheme=\"ips_weight\")\n",
    "2. Self-normalized IPS weighting (also known as the Hajek estimator) (weighting_scheme=\"ips_normalized_weight\")\n",
    "3. Stabilized IPS weighting (weighting_scheme = \"ips_stabilized_weight\")"
   ]
  },
  {
   "cell_type": "code",
   "execution_count": 13,
   "id": "c31af486",
   "metadata": {
    "execution": {
     "iopub.execute_input": "2023-03-15T17:23:16.288849Z",
     "iopub.status.busy": "2023-03-15T17:23:16.288585Z",
     "iopub.status.idle": "2023-03-15T17:23:16.349613Z",
     "shell.execute_reply": "2023-03-15T17:23:16.348699Z"
    }
   },
   "outputs": [
    {
     "name": "stdout",
     "output_type": "stream",
     "text": [
      "*** Causal Estimate ***\n",
      "\n",
      "## Identified estimand\n",
      "Estimand type: EstimandType.NONPARAMETRIC_ATE\n",
      "\n",
      "### Estimand : 1\n",
      "Estimand name: backdoor\n",
      "Estimand expression:\n",
      "  d                       \n",
      "─────(E[y|W2,W4,W3,W0,W1])\n",
      "d[v₀]                     \n",
      "Estimand assumption 1, Unconfoundedness: If U→{v0} and U→y then P(y|v0,W2,W4,W3,W0,W1,U) = P(y|v0,W2,W4,W3,W0,W1)\n",
      "\n",
      "## Realized estimand\n",
      "b: y~v0+W2+W4+W3+W0+W1\n",
      "Target units: ate\n",
      "\n",
      "## Estimate\n",
      "Mean value: 1.299483311508391\n",
      "\n",
      "Causal Estimate is 1.299483311508391\n"
     ]
    }
   ],
   "source": [
    "causal_estimate_ipw = model.estimate_effect(identified_estimand,\n",
    "                                            method_name=\"backdoor.propensity_score_weighting\",\n",
    "                                            target_units = \"ate\",\n",
    "                                            method_params={\"weighting_scheme\":\"ips_weight\"})\n",
    "print(causal_estimate_ipw)\n",
    "print(\"Causal Estimate is \" + str(causal_estimate_ipw.value))"
   ]
  },
  {
   "cell_type": "code",
   "execution_count": 14,
   "id": "e3a18439",
   "metadata": {
    "execution": {
     "iopub.execute_input": "2023-03-15T17:23:16.353182Z",
     "iopub.status.busy": "2023-03-15T17:23:16.352721Z",
     "iopub.status.idle": "2023-03-15T17:23:16.391654Z",
     "shell.execute_reply": "2023-03-15T17:23:16.390705Z"
    }
   },
   "outputs": [
    {
     "name": "stdout",
     "output_type": "stream",
     "text": [
      "Increasing the treatment variable(s) [v0] from 0 to 1 causes an increase of 1.299483311508391 in the expected value of the outcome [['y']], over the data distribution/population represented by the dataset.\n"
     ]
    }
   ],
   "source": [
    "# Textual Interpreter\n",
    "interpretation = causal_estimate_ipw.interpret(method_name=\"textual_effect_interpreter\")"
   ]
  },
  {
   "cell_type": "code",
   "execution_count": 15,
   "id": "1f28e28b",
   "metadata": {
    "execution": {
     "iopub.execute_input": "2023-03-15T17:23:16.395354Z",
     "iopub.status.busy": "2023-03-15T17:23:16.394840Z",
     "iopub.status.idle": "2023-03-15T17:23:16.813223Z",
     "shell.execute_reply": "2023-03-15T17:23:16.811984Z"
    }
   },
   "outputs": [
    {
     "data": {
      "image/png": "[encoded data removed]",
      "text/plain": [
       "<Figure size 800x800 with 2 Axes>"
      ]
     },
     "metadata": {},
     "output_type": "display_data"
    }
   ],
   "source": [
    "interpretation = causal_estimate_ipw.interpret(method_name=\"confounder_distribution_interpreter\", fig_size=(8,8), font_size=12, var_name='W4', var_type='discrete')"
   ]
  },
  {
   "cell_type": "code",
   "execution_count": null,
   "id": "a4c54b19",
   "metadata": {},
   "outputs": [],
   "source": []
  }
 ],
 "metadata": {
  "kernelspec": {
   "display_name": "Python 3",
   "language": "python",
   "name": "python3"
  },
  "language_info": {
   "codemirror_mode": {
    "name": "ipython",
    "version": 3
   },
   "file_extension": ".py",
   "mimetype": "text/x-python",
   "name": "python",
   "nbconvert_exporter": "python",
   "pygments_lexer": "ipython3",
   "version": "3.8.10"
  },
  "toc": {
   "base_numbering": 1,
   "nav_menu": {},
   "number_sections": false,
   "sideBar": true,
   "skip_h1_title": true,
   "title_cell": "Table of Contents",
   "title_sidebar": "Contents",
   "toc_cell": false,
   "toc_position": {},
   "toc_section_display": true,
   "toc_window_display": false
  }
 },
 "nbformat": 4,
 "nbformat_minor": 5
}
