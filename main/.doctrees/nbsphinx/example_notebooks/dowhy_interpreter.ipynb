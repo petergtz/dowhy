{
 "cells": [
  {
   "cell_type": "markdown",
   "id": "f74fa47d",
   "metadata": {},
   "source": [
    "# DoWhy: Interpreters for Causal Estimators\n",
    "\n",
    "This is a quick introduction to the use of interpreters in the DoWhy causal inference library.\n",
    "We will load in a sample dataset, use different methods for estimating the causal effect of a (pre-specified)treatment variable on a (pre-specified) outcome variable and demonstrate how to interpret the obtained results.\n",
    "\n",
    "First, let us add the required path for Python to find the DoWhy code and load all required packages"
   ]
  },
  {
   "cell_type": "code",
   "execution_count": 1,
   "id": "d2f30acf",
   "metadata": {
    "execution": {
     "iopub.execute_input": "2022-08-02T14:36:24.800220Z",
     "iopub.status.busy": "2022-08-02T14:36:24.799961Z",
     "iopub.status.idle": "2022-08-02T14:36:24.816440Z",
     "shell.execute_reply": "2022-08-02T14:36:24.815724Z"
    }
   },
   "outputs": [],
   "source": [
    "%load_ext autoreload\n",
    "%autoreload 2"
   ]
  },
  {
   "cell_type": "code",
   "execution_count": 2,
   "id": "c0139148",
   "metadata": {
    "execution": {
     "iopub.execute_input": "2022-08-02T14:36:24.819523Z",
     "iopub.status.busy": "2022-08-02T14:36:24.819020Z",
     "iopub.status.idle": "2022-08-02T14:36:25.849436Z",
     "shell.execute_reply": "2022-08-02T14:36:25.848645Z"
    }
   },
   "outputs": [
    {
     "name": "stdout",
     "output_type": "stream",
     "text": [
      "keywords are unexpanded, not using\n"
     ]
    }
   ],
   "source": [
    "import numpy as np\n",
    "import pandas as pd\n",
    "import logging\n",
    "\n",
    "import dowhy\n",
    "from dowhy import CausalModel\n",
    "import dowhy.datasets "
   ]
  },
  {
   "cell_type": "markdown",
   "id": "b9a3f4ce",
   "metadata": {},
   "source": [
    "Now, let us load a dataset. For simplicity, we simulate a dataset with linear relationships between common causes and treatment, and common causes and outcome.\n",
    "\n",
    "Beta is the true causal effect."
   ]
  },
  {
   "cell_type": "code",
   "execution_count": 3,
   "id": "0852d4dd",
   "metadata": {
    "execution": {
     "iopub.execute_input": "2022-08-02T14:36:25.853556Z",
     "iopub.status.busy": "2022-08-02T14:36:25.852762Z",
     "iopub.status.idle": "2022-08-02T14:36:26.170776Z",
     "shell.execute_reply": "2022-08-02T14:36:26.170138Z"
    }
   },
   "outputs": [
    {
     "name": "stdout",
     "output_type": "stream",
     "text": [
      "9038\n"
     ]
    },
    {
     "data": {
      "text/html": [
       "<div>\n",
       "<style scoped>\n",
       "    .dataframe tbody tr th:only-of-type {\n",
       "        vertical-align: middle;\n",
       "    }\n",
       "\n",
       "    .dataframe tbody tr th {\n",
       "        vertical-align: top;\n",
       "    }\n",
       "\n",
       "    .dataframe thead th {\n",
       "        text-align: right;\n",
       "    }\n",
       "</style>\n",
       "<table border=\"1\" class=\"dataframe\">\n",
       "  <thead>\n",
       "    <tr style=\"text-align: right;\">\n",
       "      <th></th>\n",
       "      <th>Z0</th>\n",
       "      <th>Z1</th>\n",
       "      <th>W0</th>\n",
       "      <th>W1</th>\n",
       "      <th>W2</th>\n",
       "      <th>W3</th>\n",
       "      <th>W4</th>\n",
       "      <th>v0</th>\n",
       "      <th>y</th>\n",
       "    </tr>\n",
       "  </thead>\n",
       "  <tbody>\n",
       "    <tr>\n",
       "      <th>0</th>\n",
       "      <td>1.0</td>\n",
       "      <td>0.287206</td>\n",
       "      <td>-0.145792</td>\n",
       "      <td>-0.311887</td>\n",
       "      <td>0.058777</td>\n",
       "      <td>1.906695</td>\n",
       "      <td>0</td>\n",
       "      <td>True</td>\n",
       "      <td>1.693724</td>\n",
       "    </tr>\n",
       "    <tr>\n",
       "      <th>1</th>\n",
       "      <td>1.0</td>\n",
       "      <td>0.637913</td>\n",
       "      <td>-0.750117</td>\n",
       "      <td>-1.940058</td>\n",
       "      <td>-0.541213</td>\n",
       "      <td>-0.645530</td>\n",
       "      <td>2</td>\n",
       "      <td>True</td>\n",
       "      <td>0.044324</td>\n",
       "    </tr>\n",
       "    <tr>\n",
       "      <th>2</th>\n",
       "      <td>1.0</td>\n",
       "      <td>0.176874</td>\n",
       "      <td>-2.290778</td>\n",
       "      <td>0.096599</td>\n",
       "      <td>0.490881</td>\n",
       "      <td>0.433344</td>\n",
       "      <td>0</td>\n",
       "      <td>False</td>\n",
       "      <td>-0.860627</td>\n",
       "    </tr>\n",
       "    <tr>\n",
       "      <th>3</th>\n",
       "      <td>1.0</td>\n",
       "      <td>0.179932</td>\n",
       "      <td>0.666235</td>\n",
       "      <td>-1.091223</td>\n",
       "      <td>-0.482225</td>\n",
       "      <td>-0.311795</td>\n",
       "      <td>1</td>\n",
       "      <td>True</td>\n",
       "      <td>0.986238</td>\n",
       "    </tr>\n",
       "    <tr>\n",
       "      <th>4</th>\n",
       "      <td>1.0</td>\n",
       "      <td>0.443549</td>\n",
       "      <td>-0.453600</td>\n",
       "      <td>-1.016154</td>\n",
       "      <td>0.536013</td>\n",
       "      <td>-0.637858</td>\n",
       "      <td>0</td>\n",
       "      <td>False</td>\n",
       "      <td>-0.834740</td>\n",
       "    </tr>\n",
       "    <tr>\n",
       "      <th>...</th>\n",
       "      <td>...</td>\n",
       "      <td>...</td>\n",
       "      <td>...</td>\n",
       "      <td>...</td>\n",
       "      <td>...</td>\n",
       "      <td>...</td>\n",
       "      <td>...</td>\n",
       "      <td>...</td>\n",
       "      <td>...</td>\n",
       "    </tr>\n",
       "    <tr>\n",
       "      <th>9995</th>\n",
       "      <td>1.0</td>\n",
       "      <td>0.310532</td>\n",
       "      <td>2.032871</td>\n",
       "      <td>-3.067109</td>\n",
       "      <td>0.921319</td>\n",
       "      <td>0.456662</td>\n",
       "      <td>0</td>\n",
       "      <td>True</td>\n",
       "      <td>1.363525</td>\n",
       "    </tr>\n",
       "    <tr>\n",
       "      <th>9996</th>\n",
       "      <td>1.0</td>\n",
       "      <td>0.234017</td>\n",
       "      <td>-0.029636</td>\n",
       "      <td>-0.261576</td>\n",
       "      <td>0.480321</td>\n",
       "      <td>1.076695</td>\n",
       "      <td>2</td>\n",
       "      <td>True</td>\n",
       "      <td>3.338781</td>\n",
       "    </tr>\n",
       "    <tr>\n",
       "      <th>9997</th>\n",
       "      <td>1.0</td>\n",
       "      <td>0.143228</td>\n",
       "      <td>0.606797</td>\n",
       "      <td>-0.177786</td>\n",
       "      <td>0.783500</td>\n",
       "      <td>0.932421</td>\n",
       "      <td>0</td>\n",
       "      <td>True</td>\n",
       "      <td>2.413211</td>\n",
       "    </tr>\n",
       "    <tr>\n",
       "      <th>9998</th>\n",
       "      <td>1.0</td>\n",
       "      <td>0.044507</td>\n",
       "      <td>-1.461165</td>\n",
       "      <td>-0.244724</td>\n",
       "      <td>0.086654</td>\n",
       "      <td>0.374072</td>\n",
       "      <td>3</td>\n",
       "      <td>False</td>\n",
       "      <td>1.506207</td>\n",
       "    </tr>\n",
       "    <tr>\n",
       "      <th>9999</th>\n",
       "      <td>1.0</td>\n",
       "      <td>0.944061</td>\n",
       "      <td>0.099621</td>\n",
       "      <td>-1.512466</td>\n",
       "      <td>0.489823</td>\n",
       "      <td>2.318421</td>\n",
       "      <td>0</td>\n",
       "      <td>True</td>\n",
       "      <td>1.636927</td>\n",
       "    </tr>\n",
       "  </tbody>\n",
       "</table>\n",
       "<p>10000 rows × 9 columns</p>\n",
       "</div>"
      ],
      "text/plain": [
       "       Z0        Z1        W0        W1        W2        W3 W4     v0  \\\n",
       "0     1.0  0.287206 -0.145792 -0.311887  0.058777  1.906695  0   True   \n",
       "1     1.0  0.637913 -0.750117 -1.940058 -0.541213 -0.645530  2   True   \n",
       "2     1.0  0.176874 -2.290778  0.096599  0.490881  0.433344  0  False   \n",
       "3     1.0  0.179932  0.666235 -1.091223 -0.482225 -0.311795  1   True   \n",
       "4     1.0  0.443549 -0.453600 -1.016154  0.536013 -0.637858  0  False   \n",
       "...   ...       ...       ...       ...       ...       ... ..    ...   \n",
       "9995  1.0  0.310532  2.032871 -3.067109  0.921319  0.456662  0   True   \n",
       "9996  1.0  0.234017 -0.029636 -0.261576  0.480321  1.076695  2   True   \n",
       "9997  1.0  0.143228  0.606797 -0.177786  0.783500  0.932421  0   True   \n",
       "9998  1.0  0.044507 -1.461165 -0.244724  0.086654  0.374072  3  False   \n",
       "9999  1.0  0.944061  0.099621 -1.512466  0.489823  2.318421  0   True   \n",
       "\n",
       "             y  \n",
       "0     1.693724  \n",
       "1     0.044324  \n",
       "2    -0.860627  \n",
       "3     0.986238  \n",
       "4    -0.834740  \n",
       "...        ...  \n",
       "9995  1.363525  \n",
       "9996  3.338781  \n",
       "9997  2.413211  \n",
       "9998  1.506207  \n",
       "9999  1.636927  \n",
       "\n",
       "[10000 rows x 9 columns]"
      ]
     },
     "execution_count": 3,
     "metadata": {},
     "output_type": "execute_result"
    }
   ],
   "source": [
    "data = dowhy.datasets.linear_dataset(beta=1,\n",
    "        num_common_causes=5, \n",
    "        num_instruments = 2,\n",
    "        num_treatments=1,\n",
    "        num_discrete_common_causes=1,\n",
    "        num_samples=10000,\n",
    "        treatment_is_binary=True,\n",
    "        outcome_is_binary=False)\n",
    "df = data[\"df\"]\n",
    "print(df[df.v0==True].shape[0])\n",
    "df"
   ]
  },
  {
   "cell_type": "markdown",
   "id": "099da3aa",
   "metadata": {},
   "source": [
    "Note that we are using a pandas dataframe to load the data."
   ]
  },
  {
   "cell_type": "markdown",
   "id": "d94607ff",
   "metadata": {},
   "source": [
    "## Identifying the causal estimand"
   ]
  },
  {
   "cell_type": "markdown",
   "id": "aa8b1bad",
   "metadata": {},
   "source": [
    "We now input a causal graph in the GML graph format."
   ]
  },
  {
   "cell_type": "code",
   "execution_count": 4,
   "id": "14100d05",
   "metadata": {
    "execution": {
     "iopub.execute_input": "2022-08-02T14:36:26.174088Z",
     "iopub.status.busy": "2022-08-02T14:36:26.173671Z",
     "iopub.status.idle": "2022-08-02T14:36:26.198259Z",
     "shell.execute_reply": "2022-08-02T14:36:26.197751Z"
    }
   },
   "outputs": [],
   "source": [
    "# With graph\n",
    "model=CausalModel(\n",
    "        data = df,\n",
    "        treatment=data[\"treatment_name\"],\n",
    "        outcome=data[\"outcome_name\"],\n",
    "        graph=data[\"gml_graph\"],\n",
    "        instruments=data[\"instrument_names\"]\n",
    "        )"
   ]
  },
  {
   "cell_type": "code",
   "execution_count": 5,
   "id": "5083796b",
   "metadata": {
    "execution": {
     "iopub.execute_input": "2022-08-02T14:36:26.201338Z",
     "iopub.status.busy": "2022-08-02T14:36:26.200826Z",
     "iopub.status.idle": "2022-08-02T14:36:26.254915Z",
     "shell.execute_reply": "2022-08-02T14:36:26.253878Z"
    }
   },
   "outputs": [],
   "source": [
    "model.view_model()"
   ]
  },
  {
   "cell_type": "code",
   "execution_count": 6,
   "id": "2f295d92",
   "metadata": {
    "execution": {
     "iopub.execute_input": "2022-08-02T14:36:26.257661Z",
     "iopub.status.busy": "2022-08-02T14:36:26.257277Z",
     "iopub.status.idle": "2022-08-02T14:36:26.282009Z",
     "shell.execute_reply": "2022-08-02T14:36:26.281323Z"
    }
   },
   "outputs": [
    {
     "data": {
      "image/png": "[encoded data removed]",
      "text/plain": [
       "<IPython.core.display.Image object>"
      ]
     },
     "metadata": {},
     "output_type": "display_data"
    }
   ],
   "source": [
    "from IPython.display import Image, display\n",
    "display(Image(filename=\"causal_model.png\"))"
   ]
  },
  {
   "cell_type": "markdown",
   "id": "b91c8b24",
   "metadata": {},
   "source": [
    "We get a causal graph. Now identification and estimation is done."
   ]
  },
  {
   "cell_type": "code",
   "execution_count": 7,
   "id": "bc4461ba",
   "metadata": {
    "execution": {
     "iopub.execute_input": "2022-08-02T14:36:26.285079Z",
     "iopub.status.busy": "2022-08-02T14:36:26.284705Z",
     "iopub.status.idle": "2022-08-02T14:36:26.508526Z",
     "shell.execute_reply": "2022-08-02T14:36:26.507029Z"
    }
   },
   "outputs": [
    {
     "name": "stdout",
     "output_type": "stream",
     "text": [
      "Estimand type: nonparametric-ate\n",
      "\n",
      "### Estimand : 1\n",
      "Estimand name: backdoor\n",
      "Estimand expression:\n",
      "  d                       \n",
      "─────(E[y|W0,W1,W4,W3,W2])\n",
      "d[v₀]                     \n",
      "Estimand assumption 1, Unconfoundedness: If U→{v0} and U→y then P(y|v0,W0,W1,W4,W3,W2,U) = P(y|v0,W0,W1,W4,W3,W2)\n",
      "\n",
      "### Estimand : 2\n",
      "Estimand name: iv\n",
      "Estimand expression:\n",
      " ⎡                              -1⎤\n",
      " ⎢    d        ⎛    d          ⎞  ⎥\n",
      "E⎢─────────(y)⋅⎜─────────([v₀])⎟  ⎥\n",
      " ⎣d[Z₀  Z₁]    ⎝d[Z₀  Z₁]      ⎠  ⎦\n",
      "Estimand assumption 1, As-if-random: If U→→y then ¬(U →→{Z0,Z1})\n",
      "Estimand assumption 2, Exclusion: If we remove {Z0,Z1}→{v0}, then ¬({Z0,Z1}→y)\n",
      "\n",
      "### Estimand : 3\n",
      "Estimand name: frontdoor\n",
      "No such variable(s) found!\n",
      "\n"
     ]
    }
   ],
   "source": [
    "identified_estimand = model.identify_effect(proceed_when_unidentifiable=True)\n",
    "print(identified_estimand)"
   ]
  },
  {
   "cell_type": "markdown",
   "id": "89bbef97",
   "metadata": {},
   "source": [
    "## Method 1: Propensity Score Stratification\n",
    "\n",
    "We will be using propensity scores to stratify units in the data."
   ]
  },
  {
   "cell_type": "code",
   "execution_count": 8,
   "id": "6e0d2cc5",
   "metadata": {
    "execution": {
     "iopub.execute_input": "2022-08-02T14:36:26.511733Z",
     "iopub.status.busy": "2022-08-02T14:36:26.511474Z",
     "iopub.status.idle": "2022-08-02T14:36:27.273874Z",
     "shell.execute_reply": "2022-08-02T14:36:27.273072Z"
    }
   },
   "outputs": [
    {
     "name": "stdout",
     "output_type": "stream",
     "text": [
      "propensity_score_stratification\n"
     ]
    },
    {
     "name": "stderr",
     "output_type": "stream",
     "text": [
      "/usr/local/lib/python3.8/dist-packages/sklearn/utils/validation.py:993: DataConversionWarning: A column-vector y was passed when a 1d array was expected. Please change the shape of y to (n_samples, ), for example using ravel().\n",
      "  y = column_or_1d(y, warn=True)\n"
     ]
    },
    {
     "name": "stdout",
     "output_type": "stream",
     "text": [
      "*** Causal Estimate ***\n",
      "\n",
      "## Identified estimand\n",
      "Estimand type: nonparametric-ate\n",
      "\n",
      "### Estimand : 1\n",
      "Estimand name: backdoor\n",
      "Estimand expression:\n",
      "  d                       \n",
      "─────(E[y|W0,W1,W4,W3,W2])\n",
      "d[v₀]                     \n",
      "Estimand assumption 1, Unconfoundedness: If U→{v0} and U→y then P(y|v0,W0,W1,W4,W3,W2,U) = P(y|v0,W0,W1,W4,W3,W2)\n",
      "\n",
      "## Realized estimand\n",
      "b: y~v0+W0+W1+W4+W3+W2\n",
      "Target units: att\n",
      "\n",
      "## Estimate\n",
      "Mean value: 0.9962532421973486\n",
      "\n",
      "Causal Estimate is 0.9962532421973486\n"
     ]
    }
   ],
   "source": [
    "causal_estimate_strat = model.estimate_effect(identified_estimand,\n",
    "                                              method_name=\"backdoor.propensity_score_stratification\",\n",
    "                                              target_units=\"att\")\n",
    "print(causal_estimate_strat)\n",
    "print(\"Causal Estimate is \" + str(causal_estimate_strat.value))"
   ]
  },
  {
   "cell_type": "markdown",
   "id": "b9c2350c",
   "metadata": {},
   "source": [
    "### Textual Interpreter\n",
    "\n",
    "The textual Interpreter describes (in words) the effect of unit change in the treatment variable on the outcome variable."
   ]
  },
  {
   "cell_type": "code",
   "execution_count": 9,
   "id": "db651996",
   "metadata": {
    "execution": {
     "iopub.execute_input": "2022-08-02T14:36:27.277737Z",
     "iopub.status.busy": "2022-08-02T14:36:27.277262Z",
     "iopub.status.idle": "2022-08-02T14:36:27.303798Z",
     "shell.execute_reply": "2022-08-02T14:36:27.303038Z"
    }
   },
   "outputs": [
    {
     "name": "stdout",
     "output_type": "stream",
     "text": [
      "Increasing the treatment variable(s) [v0] from 0 to 1 causes an increase of 0.9962532421973486 in the expected value of the outcome [y], over the data distribution/population represented by the dataset.\n"
     ]
    }
   ],
   "source": [
    "# Textual Interpreter\n",
    "interpretation = causal_estimate_strat.interpret(method_name=\"textual_effect_interpreter\")"
   ]
  },
  {
   "cell_type": "markdown",
   "id": "450d6d71",
   "metadata": {},
   "source": [
    "### Visual Interpreter\n",
    "\n",
    "The visual interpreter plots the change in the standardized mean difference (SMD) before and after Propensity Score based adjustment of the dataset. The formula for SMD is given below.\n",
    "\n",
    "\n",
    "$SMD = \\frac{\\bar X_{1} - \\bar X_{2}}{\\sqrt{(S_{1}^{2} + S_{2}^{2})/2}}$\n",
    "\n",
    "Here, $\\bar X_{1}$ and $\\bar X_{2}$ are the sample mean for the treated and control groups.\n"
   ]
  },
  {
   "cell_type": "code",
   "execution_count": 10,
   "id": "a1935ba4",
   "metadata": {
    "execution": {
     "iopub.execute_input": "2022-08-02T14:36:27.306976Z",
     "iopub.status.busy": "2022-08-02T14:36:27.306764Z",
     "iopub.status.idle": "2022-08-02T14:36:28.383761Z",
     "shell.execute_reply": "2022-08-02T14:36:28.382761Z"
    }
   },
   "outputs": [
    {
     "data": {
      "image/png": "[encoded data removed]",
      "text/plain": [
       "<Figure size 432x288 with 1 Axes>"
      ]
     },
     "metadata": {
      "needs_background": "light"
     },
     "output_type": "display_data"
    }
   ],
   "source": [
    "# Visual Interpreter\n",
    "interpretation = causal_estimate_strat.interpret(method_name=\"propensity_balance_interpreter\")"
   ]
  },
  {
   "cell_type": "markdown",
   "id": "283d6fe7",
   "metadata": {},
   "source": [
    "This plot shows how the SMD decreases from the unadjusted to the stratified units. "
   ]
  },
  {
   "cell_type": "markdown",
   "id": "8a951ef2",
   "metadata": {},
   "source": [
    "## Method 2: Propensity Score Matching\n",
    "\n",
    "We will be using propensity scores to match units in the data."
   ]
  },
  {
   "cell_type": "code",
   "execution_count": 11,
   "id": "b0a58937",
   "metadata": {
    "execution": {
     "iopub.execute_input": "2022-08-02T14:36:28.387823Z",
     "iopub.status.busy": "2022-08-02T14:36:28.387325Z",
     "iopub.status.idle": "2022-08-02T14:36:32.831576Z",
     "shell.execute_reply": "2022-08-02T14:36:32.830905Z"
    }
   },
   "outputs": [
    {
     "name": "stdout",
     "output_type": "stream",
     "text": [
      "propensity_score_matching\n"
     ]
    },
    {
     "name": "stderr",
     "output_type": "stream",
     "text": [
      "/usr/local/lib/python3.8/dist-packages/sklearn/utils/validation.py:993: DataConversionWarning: A column-vector y was passed when a 1d array was expected. Please change the shape of y to (n_samples, ), for example using ravel().\n",
      "  y = column_or_1d(y, warn=True)\n"
     ]
    },
    {
     "name": "stdout",
     "output_type": "stream",
     "text": [
      "*** Causal Estimate ***\n",
      "\n",
      "## Identified estimand\n",
      "Estimand type: nonparametric-ate\n",
      "\n",
      "### Estimand : 1\n",
      "Estimand name: backdoor\n",
      "Estimand expression:\n",
      "  d                       \n",
      "─────(E[y|W0,W1,W4,W3,W2])\n",
      "d[v₀]                     \n",
      "Estimand assumption 1, Unconfoundedness: If U→{v0} and U→y then P(y|v0,W0,W1,W4,W3,W2,U) = P(y|v0,W0,W1,W4,W3,W2)\n",
      "\n",
      "## Realized estimand\n",
      "b: y~v0+W0+W1+W4+W3+W2\n",
      "Target units: atc\n",
      "\n",
      "## Estimate\n",
      "Mean value: 0.9845422224384477\n",
      "\n",
      "Causal Estimate is 0.9845422224384477\n"
     ]
    }
   ],
   "source": [
    "causal_estimate_match = model.estimate_effect(identified_estimand,\n",
    "                                              method_name=\"backdoor.propensity_score_matching\",\n",
    "                                              target_units=\"atc\")\n",
    "print(causal_estimate_match)\n",
    "print(\"Causal Estimate is \" + str(causal_estimate_match.value))"
   ]
  },
  {
   "cell_type": "code",
   "execution_count": 12,
   "id": "e7e5b26d",
   "metadata": {
    "execution": {
     "iopub.execute_input": "2022-08-02T14:36:32.834978Z",
     "iopub.status.busy": "2022-08-02T14:36:32.834732Z",
     "iopub.status.idle": "2022-08-02T14:36:32.860897Z",
     "shell.execute_reply": "2022-08-02T14:36:32.859973Z"
    }
   },
   "outputs": [
    {
     "name": "stdout",
     "output_type": "stream",
     "text": [
      "Increasing the treatment variable(s) [v0] from 0 to 1 causes an increase of 0.9845422224384477 in the expected value of the outcome [y], over the data distribution/population represented by the dataset.\n"
     ]
    }
   ],
   "source": [
    "# Textual Interpreter\n",
    "interpretation = causal_estimate_match.interpret(method_name=\"textual_effect_interpreter\")"
   ]
  },
  {
   "cell_type": "markdown",
   "id": "09c7729d",
   "metadata": {},
   "source": [
    "Cannot use propensity balance interpretor here since the interpreter method only supports propensity score stratification estimator."
   ]
  },
  {
   "cell_type": "markdown",
   "id": "0d99efb0",
   "metadata": {},
   "source": [
    "## Method 3: Weighting\n",
    "\n",
    "We will be using (inverse) propensity scores to assign weights to units in the data. DoWhy supports a few different weighting schemes:\n",
    "1. Vanilla Inverse Propensity Score weighting (IPS) (weighting_scheme=\"ips_weight\")\n",
    "2. Self-normalized IPS weighting (also known as the Hajek estimator) (weighting_scheme=\"ips_normalized_weight\")\n",
    "3. Stabilized IPS weighting (weighting_scheme = \"ips_stabilized_weight\")"
   ]
  },
  {
   "cell_type": "code",
   "execution_count": 13,
   "id": "84e2de54",
   "metadata": {
    "execution": {
     "iopub.execute_input": "2022-08-02T14:36:32.864102Z",
     "iopub.status.busy": "2022-08-02T14:36:32.863687Z",
     "iopub.status.idle": "2022-08-02T14:36:32.925017Z",
     "shell.execute_reply": "2022-08-02T14:36:32.924324Z"
    }
   },
   "outputs": [
    {
     "name": "stdout",
     "output_type": "stream",
     "text": [
      "propensity_score_weighting\n",
      "*** Causal Estimate ***\n",
      "\n",
      "## Identified estimand\n",
      "Estimand type: nonparametric-ate\n",
      "\n",
      "### Estimand : 1\n",
      "Estimand name: backdoor\n",
      "Estimand expression:\n",
      "  d                       \n",
      "─────(E[y|W0,W1,W4,W3,W2])\n",
      "d[v₀]                     \n",
      "Estimand assumption 1, Unconfoundedness: If U→{v0} and U→y then P(y|v0,W0,W1,W4,W3,W2,U) = P(y|v0,W0,W1,W4,W3,W2)\n",
      "\n",
      "## Realized estimand\n",
      "b: y~v0+W0+W1+W4+W3+W2\n",
      "Target units: ate\n",
      "\n",
      "## Estimate\n",
      "Mean value: 1.2375826496031634\n",
      "\n",
      "Causal Estimate is 1.2375826496031634\n"
     ]
    },
    {
     "name": "stderr",
     "output_type": "stream",
     "text": [
      "/usr/local/lib/python3.8/dist-packages/sklearn/utils/validation.py:993: DataConversionWarning: A column-vector y was passed when a 1d array was expected. Please change the shape of y to (n_samples, ), for example using ravel().\n",
      "  y = column_or_1d(y, warn=True)\n"
     ]
    }
   ],
   "source": [
    "causal_estimate_ipw = model.estimate_effect(identified_estimand,\n",
    "                                            method_name=\"backdoor.propensity_score_weighting\",\n",
    "                                            target_units = \"ate\",\n",
    "                                            method_params={\"weighting_scheme\":\"ips_weight\"})\n",
    "print(causal_estimate_ipw)\n",
    "print(\"Causal Estimate is \" + str(causal_estimate_ipw.value))"
   ]
  },
  {
   "cell_type": "code",
   "execution_count": 14,
   "id": "f4670ac3",
   "metadata": {
    "execution": {
     "iopub.execute_input": "2022-08-02T14:36:32.927754Z",
     "iopub.status.busy": "2022-08-02T14:36:32.927344Z",
     "iopub.status.idle": "2022-08-02T14:36:32.950391Z",
     "shell.execute_reply": "2022-08-02T14:36:32.949887Z"
    }
   },
   "outputs": [
    {
     "name": "stdout",
     "output_type": "stream",
     "text": [
      "Increasing the treatment variable(s) [v0] from 0 to 1 causes an increase of 1.2375826496031634 in the expected value of the outcome [y], over the data distribution/population represented by the dataset.\n"
     ]
    }
   ],
   "source": [
    "# Textual Interpreter\n",
    "interpretation = causal_estimate_ipw.interpret(method_name=\"textual_effect_interpreter\")"
   ]
  },
  {
   "cell_type": "code",
   "execution_count": 15,
   "id": "13b7c881",
   "metadata": {
    "execution": {
     "iopub.execute_input": "2022-08-02T14:36:32.953003Z",
     "iopub.status.busy": "2022-08-02T14:36:32.952598Z",
     "iopub.status.idle": "2022-08-02T14:36:33.189324Z",
     "shell.execute_reply": "2022-08-02T14:36:33.188681Z"
    }
   },
   "outputs": [
    {
     "data": {
      "image/png": "[encoded data removed]",
      "text/plain": [
       "<Figure size 576x576 with 2 Axes>"
      ]
     },
     "metadata": {
      "needs_background": "light"
     },
     "output_type": "display_data"
    }
   ],
   "source": [
    "interpretation = causal_estimate_ipw.interpret(method_name=\"confounder_distribution_interpreter\", fig_size=(8,8), font_size=12, var_name='W4', var_type='discrete')"
   ]
  },
  {
   "cell_type": "code",
   "execution_count": null,
   "id": "93930e14",
   "metadata": {},
   "outputs": [],
   "source": []
  }
 ],
 "metadata": {
  "kernelspec": {
   "display_name": "Python 3",
   "language": "python",
   "name": "python3"
  },
  "language_info": {
   "codemirror_mode": {
    "name": "ipython",
    "version": 3
   },
   "file_extension": ".py",
   "mimetype": "text/x-python",
   "name": "python",
   "nbconvert_exporter": "python",
   "pygments_lexer": "ipython3",
   "version": "3.8.10"
  },
  "toc": {
   "base_numbering": 1,
   "nav_menu": {},
   "number_sections": false,
   "sideBar": true,
   "skip_h1_title": true,
   "title_cell": "Table of Contents",
   "title_sidebar": "Contents",
   "toc_cell": false,
   "toc_position": {},
   "toc_section_display": true,
   "toc_window_display": false
  }
 },
 "nbformat": 4,
 "nbformat_minor": 5
}
