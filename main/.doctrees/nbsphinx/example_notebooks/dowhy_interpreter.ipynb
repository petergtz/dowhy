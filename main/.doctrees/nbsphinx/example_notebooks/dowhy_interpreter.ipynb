{
 "cells": [
  {
   "cell_type": "markdown",
   "id": "f6a19c67",
   "metadata": {},
   "source": [
    "# DoWhy: Interpreters for Causal Estimators\n",
    "\n",
    "This is a quick introduction to the use of interpreters in the DoWhy causal inference library.\n",
    "We will load in a sample dataset, use different methods for estimating the causal effect of a (pre-specified)treatment variable on a (pre-specified) outcome variable and demonstrate how to interpret the obtained results.\n",
    "\n",
    "First, let us add the required path for Python to find the DoWhy code and load all required packages"
   ]
  },
  {
   "cell_type": "code",
   "execution_count": 1,
   "id": "52cf9939",
   "metadata": {
    "execution": {
     "iopub.execute_input": "2022-10-17T15:17:05.380765Z",
     "iopub.status.busy": "2022-10-17T15:17:05.380321Z",
     "iopub.status.idle": "2022-10-17T15:17:05.397369Z",
     "shell.execute_reply": "2022-10-17T15:17:05.396683Z"
    }
   },
   "outputs": [],
   "source": [
    "%load_ext autoreload\n",
    "%autoreload 2"
   ]
  },
  {
   "cell_type": "code",
   "execution_count": 2,
   "id": "26cd5f48",
   "metadata": {
    "execution": {
     "iopub.execute_input": "2022-10-17T15:17:05.400982Z",
     "iopub.status.busy": "2022-10-17T15:17:05.400384Z",
     "iopub.status.idle": "2022-10-17T15:17:07.592839Z",
     "shell.execute_reply": "2022-10-17T15:17:07.591832Z"
    }
   },
   "outputs": [],
   "source": [
    "import numpy as np\n",
    "import pandas as pd\n",
    "import logging\n",
    "\n",
    "import dowhy\n",
    "from dowhy import CausalModel\n",
    "import dowhy.datasets "
   ]
  },
  {
   "cell_type": "markdown",
   "id": "eab867a0",
   "metadata": {},
   "source": [
    "Now, let us load a dataset. For simplicity, we simulate a dataset with linear relationships between common causes and treatment, and common causes and outcome.\n",
    "\n",
    "Beta is the true causal effect."
   ]
  },
  {
   "cell_type": "code",
   "execution_count": 3,
   "id": "6252f2ec",
   "metadata": {
    "execution": {
     "iopub.execute_input": "2022-10-17T15:17:07.598299Z",
     "iopub.status.busy": "2022-10-17T15:17:07.597702Z",
     "iopub.status.idle": "2022-10-17T15:17:07.943023Z",
     "shell.execute_reply": "2022-10-17T15:17:07.942360Z"
    }
   },
   "outputs": [
    {
     "name": "stdout",
     "output_type": "stream",
     "text": [
      "9251\n"
     ]
    },
    {
     "data": {
      "text/html": [
       "<div>\n",
       "<style scoped>\n",
       "    .dataframe tbody tr th:only-of-type {\n",
       "        vertical-align: middle;\n",
       "    }\n",
       "\n",
       "    .dataframe tbody tr th {\n",
       "        vertical-align: top;\n",
       "    }\n",
       "\n",
       "    .dataframe thead th {\n",
       "        text-align: right;\n",
       "    }\n",
       "</style>\n",
       "<table border=\"1\" class=\"dataframe\">\n",
       "  <thead>\n",
       "    <tr style=\"text-align: right;\">\n",
       "      <th></th>\n",
       "      <th>Z0</th>\n",
       "      <th>Z1</th>\n",
       "      <th>W0</th>\n",
       "      <th>W1</th>\n",
       "      <th>W2</th>\n",
       "      <th>W3</th>\n",
       "      <th>W4</th>\n",
       "      <th>v0</th>\n",
       "      <th>y</th>\n",
       "    </tr>\n",
       "  </thead>\n",
       "  <tbody>\n",
       "    <tr>\n",
       "      <th>0</th>\n",
       "      <td>1.0</td>\n",
       "      <td>0.872625</td>\n",
       "      <td>-1.195748</td>\n",
       "      <td>1.873987</td>\n",
       "      <td>-0.769325</td>\n",
       "      <td>-0.526347</td>\n",
       "      <td>0</td>\n",
       "      <td>True</td>\n",
       "      <td>0.717710</td>\n",
       "    </tr>\n",
       "    <tr>\n",
       "      <th>1</th>\n",
       "      <td>1.0</td>\n",
       "      <td>0.039636</td>\n",
       "      <td>0.395969</td>\n",
       "      <td>0.571627</td>\n",
       "      <td>-0.556503</td>\n",
       "      <td>-0.360666</td>\n",
       "      <td>0</td>\n",
       "      <td>True</td>\n",
       "      <td>1.090568</td>\n",
       "    </tr>\n",
       "    <tr>\n",
       "      <th>2</th>\n",
       "      <td>1.0</td>\n",
       "      <td>0.781168</td>\n",
       "      <td>0.123380</td>\n",
       "      <td>-0.345618</td>\n",
       "      <td>-0.328148</td>\n",
       "      <td>1.094939</td>\n",
       "      <td>2</td>\n",
       "      <td>True</td>\n",
       "      <td>1.532989</td>\n",
       "    </tr>\n",
       "    <tr>\n",
       "      <th>3</th>\n",
       "      <td>1.0</td>\n",
       "      <td>0.951569</td>\n",
       "      <td>1.176711</td>\n",
       "      <td>1.852740</td>\n",
       "      <td>0.753135</td>\n",
       "      <td>0.474187</td>\n",
       "      <td>1</td>\n",
       "      <td>True</td>\n",
       "      <td>3.749101</td>\n",
       "    </tr>\n",
       "    <tr>\n",
       "      <th>4</th>\n",
       "      <td>1.0</td>\n",
       "      <td>0.491973</td>\n",
       "      <td>0.055978</td>\n",
       "      <td>0.937817</td>\n",
       "      <td>-0.229746</td>\n",
       "      <td>0.372193</td>\n",
       "      <td>3</td>\n",
       "      <td>True</td>\n",
       "      <td>2.115028</td>\n",
       "    </tr>\n",
       "    <tr>\n",
       "      <th>...</th>\n",
       "      <td>...</td>\n",
       "      <td>...</td>\n",
       "      <td>...</td>\n",
       "      <td>...</td>\n",
       "      <td>...</td>\n",
       "      <td>...</td>\n",
       "      <td>...</td>\n",
       "      <td>...</td>\n",
       "      <td>...</td>\n",
       "    </tr>\n",
       "    <tr>\n",
       "      <th>9995</th>\n",
       "      <td>1.0</td>\n",
       "      <td>0.079347</td>\n",
       "      <td>-1.023008</td>\n",
       "      <td>1.352813</td>\n",
       "      <td>0.766219</td>\n",
       "      <td>0.308570</td>\n",
       "      <td>2</td>\n",
       "      <td>True</td>\n",
       "      <td>2.083998</td>\n",
       "    </tr>\n",
       "    <tr>\n",
       "      <th>9996</th>\n",
       "      <td>1.0</td>\n",
       "      <td>0.657971</td>\n",
       "      <td>-0.356866</td>\n",
       "      <td>-0.021456</td>\n",
       "      <td>-2.019482</td>\n",
       "      <td>1.011984</td>\n",
       "      <td>0</td>\n",
       "      <td>True</td>\n",
       "      <td>0.177432</td>\n",
       "    </tr>\n",
       "    <tr>\n",
       "      <th>9997</th>\n",
       "      <td>1.0</td>\n",
       "      <td>0.774278</td>\n",
       "      <td>1.019354</td>\n",
       "      <td>1.509803</td>\n",
       "      <td>-0.751616</td>\n",
       "      <td>-2.624731</td>\n",
       "      <td>1</td>\n",
       "      <td>True</td>\n",
       "      <td>0.885610</td>\n",
       "    </tr>\n",
       "    <tr>\n",
       "      <th>9998</th>\n",
       "      <td>1.0</td>\n",
       "      <td>0.480156</td>\n",
       "      <td>-0.837696</td>\n",
       "      <td>0.682623</td>\n",
       "      <td>-0.361102</td>\n",
       "      <td>-0.805646</td>\n",
       "      <td>3</td>\n",
       "      <td>True</td>\n",
       "      <td>0.661512</td>\n",
       "    </tr>\n",
       "    <tr>\n",
       "      <th>9999</th>\n",
       "      <td>1.0</td>\n",
       "      <td>0.778504</td>\n",
       "      <td>-0.500146</td>\n",
       "      <td>1.041619</td>\n",
       "      <td>0.329099</td>\n",
       "      <td>0.222369</td>\n",
       "      <td>0</td>\n",
       "      <td>True</td>\n",
       "      <td>1.666503</td>\n",
       "    </tr>\n",
       "  </tbody>\n",
       "</table>\n",
       "<p>10000 rows × 9 columns</p>\n",
       "</div>"
      ],
      "text/plain": [
       "       Z0        Z1        W0        W1        W2        W3 W4    v0         y\n",
       "0     1.0  0.872625 -1.195748  1.873987 -0.769325 -0.526347  0  True  0.717710\n",
       "1     1.0  0.039636  0.395969  0.571627 -0.556503 -0.360666  0  True  1.090568\n",
       "2     1.0  0.781168  0.123380 -0.345618 -0.328148  1.094939  2  True  1.532989\n",
       "3     1.0  0.951569  1.176711  1.852740  0.753135  0.474187  1  True  3.749101\n",
       "4     1.0  0.491973  0.055978  0.937817 -0.229746  0.372193  3  True  2.115028\n",
       "...   ...       ...       ...       ...       ...       ... ..   ...       ...\n",
       "9995  1.0  0.079347 -1.023008  1.352813  0.766219  0.308570  2  True  2.083998\n",
       "9996  1.0  0.657971 -0.356866 -0.021456 -2.019482  1.011984  0  True  0.177432\n",
       "9997  1.0  0.774278  1.019354  1.509803 -0.751616 -2.624731  1  True  0.885610\n",
       "9998  1.0  0.480156 -0.837696  0.682623 -0.361102 -0.805646  3  True  0.661512\n",
       "9999  1.0  0.778504 -0.500146  1.041619  0.329099  0.222369  0  True  1.666503\n",
       "\n",
       "[10000 rows x 9 columns]"
      ]
     },
     "execution_count": 3,
     "metadata": {},
     "output_type": "execute_result"
    }
   ],
   "source": [
    "data = dowhy.datasets.linear_dataset(beta=1,\n",
    "        num_common_causes=5, \n",
    "        num_instruments = 2,\n",
    "        num_treatments=1,\n",
    "        num_discrete_common_causes=1,\n",
    "        num_samples=10000,\n",
    "        treatment_is_binary=True,\n",
    "        outcome_is_binary=False)\n",
    "df = data[\"df\"]\n",
    "print(df[df.v0==True].shape[0])\n",
    "df"
   ]
  },
  {
   "cell_type": "markdown",
   "id": "b56d97fb",
   "metadata": {},
   "source": [
    "Note that we are using a pandas dataframe to load the data."
   ]
  },
  {
   "cell_type": "markdown",
   "id": "2f730c10",
   "metadata": {},
   "source": [
    "## Identifying the causal estimand"
   ]
  },
  {
   "cell_type": "markdown",
   "id": "6d72a531",
   "metadata": {},
   "source": [
    "We now input a causal graph in the GML graph format."
   ]
  },
  {
   "cell_type": "code",
   "execution_count": 4,
   "id": "22193a25",
   "metadata": {
    "execution": {
     "iopub.execute_input": "2022-10-17T15:17:07.946755Z",
     "iopub.status.busy": "2022-10-17T15:17:07.946328Z",
     "iopub.status.idle": "2022-10-17T15:17:07.982259Z",
     "shell.execute_reply": "2022-10-17T15:17:07.981567Z"
    }
   },
   "outputs": [],
   "source": [
    "# With graph\n",
    "model=CausalModel(\n",
    "        data = df,\n",
    "        treatment=data[\"treatment_name\"],\n",
    "        outcome=data[\"outcome_name\"],\n",
    "        graph=data[\"gml_graph\"],\n",
    "        instruments=data[\"instrument_names\"]\n",
    "        )"
   ]
  },
  {
   "cell_type": "code",
   "execution_count": 5,
   "id": "219a513d",
   "metadata": {
    "execution": {
     "iopub.execute_input": "2022-10-17T15:17:07.986136Z",
     "iopub.status.busy": "2022-10-17T15:17:07.985385Z",
     "iopub.status.idle": "2022-10-17T15:17:08.055558Z",
     "shell.execute_reply": "2022-10-17T15:17:08.054775Z"
    }
   },
   "outputs": [],
   "source": [
    "model.view_model()"
   ]
  },
  {
   "cell_type": "code",
   "execution_count": 6,
   "id": "ccc9b555",
   "metadata": {
    "execution": {
     "iopub.execute_input": "2022-10-17T15:17:08.059433Z",
     "iopub.status.busy": "2022-10-17T15:17:08.058770Z",
     "iopub.status.idle": "2022-10-17T15:17:08.094968Z",
     "shell.execute_reply": "2022-10-17T15:17:08.094063Z"
    }
   },
   "outputs": [
    {
     "data": {
      "image/png": "[encoded data removed]",
      "text/plain": [
       "<IPython.core.display.Image object>"
      ]
     },
     "metadata": {},
     "output_type": "display_data"
    }
   ],
   "source": [
    "from IPython.display import Image, display\n",
    "display(Image(filename=\"causal_model.png\"))"
   ]
  },
  {
   "cell_type": "markdown",
   "id": "a2e4b165",
   "metadata": {},
   "source": [
    "We get a causal graph. Now identification and estimation is done."
   ]
  },
  {
   "cell_type": "code",
   "execution_count": 7,
   "id": "5233278b",
   "metadata": {
    "execution": {
     "iopub.execute_input": "2022-10-17T15:17:08.098527Z",
     "iopub.status.busy": "2022-10-17T15:17:08.098116Z",
     "iopub.status.idle": "2022-10-17T15:17:08.371012Z",
     "shell.execute_reply": "2022-10-17T15:17:08.369790Z"
    }
   },
   "outputs": [
    {
     "name": "stdout",
     "output_type": "stream",
     "text": [
      "Estimand type: EstimandType.NONPARAMETRIC_ATE\n",
      "\n",
      "### Estimand : 1\n",
      "Estimand name: backdoor\n",
      "Estimand expression:\n",
      "  d                       \n",
      "─────(E[y|W2,W1,W3,W4,W0])\n",
      "d[v₀]                     \n",
      "Estimand assumption 1, Unconfoundedness: If U→{v0} and U→y then P(y|v0,W2,W1,W3,W4,W0,U) = P(y|v0,W2,W1,W3,W4,W0)\n",
      "\n",
      "### Estimand : 2\n",
      "Estimand name: iv\n",
      "Estimand expression:\n",
      " ⎡                              -1⎤\n",
      " ⎢    d        ⎛    d          ⎞  ⎥\n",
      "E⎢─────────(y)⋅⎜─────────([v₀])⎟  ⎥\n",
      " ⎣d[Z₁  Z₀]    ⎝d[Z₁  Z₀]      ⎠  ⎦\n",
      "Estimand assumption 1, As-if-random: If U→→y then ¬(U →→{Z1,Z0})\n",
      "Estimand assumption 2, Exclusion: If we remove {Z1,Z0}→{v0}, then ¬({Z1,Z0}→y)\n",
      "\n",
      "### Estimand : 3\n",
      "Estimand name: frontdoor\n",
      "No such variable(s) found!\n",
      "\n"
     ]
    }
   ],
   "source": [
    "identified_estimand = model.identify_effect(proceed_when_unidentifiable=True)\n",
    "print(identified_estimand)"
   ]
  },
  {
   "cell_type": "markdown",
   "id": "3b142200",
   "metadata": {},
   "source": [
    "## Method 1: Propensity Score Stratification\n",
    "\n",
    "We will be using propensity scores to stratify units in the data."
   ]
  },
  {
   "cell_type": "code",
   "execution_count": 8,
   "id": "3f508a99",
   "metadata": {
    "execution": {
     "iopub.execute_input": "2022-10-17T15:17:08.375780Z",
     "iopub.status.busy": "2022-10-17T15:17:08.374913Z",
     "iopub.status.idle": "2022-10-17T15:17:09.314140Z",
     "shell.execute_reply": "2022-10-17T15:17:09.313037Z"
    }
   },
   "outputs": [
    {
     "name": "stdout",
     "output_type": "stream",
     "text": [
      "*** Causal Estimate ***\n",
      "\n",
      "## Identified estimand\n",
      "Estimand type: EstimandType.NONPARAMETRIC_ATE\n",
      "\n",
      "### Estimand : 1\n",
      "Estimand name: backdoor\n",
      "Estimand expression:\n",
      "  d                       \n",
      "─────(E[y|W2,W1,W3,W4,W0])\n",
      "d[v₀]                     \n",
      "Estimand assumption 1, Unconfoundedness: If U→{v0} and U→y then P(y|v0,W2,W1,W3,W4,W0,U) = P(y|v0,W2,W1,W3,W4,W0)\n",
      "\n",
      "## Realized estimand\n",
      "b: y~v0+W2+W1+W3+W4+W0\n",
      "Target units: att\n",
      "\n",
      "## Estimate\n",
      "Mean value: 1.0321284625427627\n",
      "\n",
      "Causal Estimate is 1.0321284625427627\n"
     ]
    }
   ],
   "source": [
    "causal_estimate_strat = model.estimate_effect(identified_estimand,\n",
    "                                              method_name=\"backdoor.propensity_score_stratification\",\n",
    "                                              target_units=\"att\")\n",
    "print(causal_estimate_strat)\n",
    "print(\"Causal Estimate is \" + str(causal_estimate_strat.value))"
   ]
  },
  {
   "cell_type": "markdown",
   "id": "5a702eb3",
   "metadata": {},
   "source": [
    "### Textual Interpreter\n",
    "\n",
    "The textual Interpreter describes (in words) the effect of unit change in the treatment variable on the outcome variable."
   ]
  },
  {
   "cell_type": "code",
   "execution_count": 9,
   "id": "99fa9d71",
   "metadata": {
    "execution": {
     "iopub.execute_input": "2022-10-17T15:17:09.318860Z",
     "iopub.status.busy": "2022-10-17T15:17:09.318343Z",
     "iopub.status.idle": "2022-10-17T15:17:09.355856Z",
     "shell.execute_reply": "2022-10-17T15:17:09.354894Z"
    }
   },
   "outputs": [
    {
     "name": "stdout",
     "output_type": "stream",
     "text": [
      "Increasing the treatment variable(s) [v0] from 0 to 1 causes an increase of 1.0321284625427627 in the expected value of the outcome [y], over the data distribution/population represented by the dataset.\n"
     ]
    }
   ],
   "source": [
    "# Textual Interpreter\n",
    "interpretation = causal_estimate_strat.interpret(method_name=\"textual_effect_interpreter\")"
   ]
  },
  {
   "cell_type": "markdown",
   "id": "ff8ea349",
   "metadata": {},
   "source": [
    "### Visual Interpreter\n",
    "\n",
    "The visual interpreter plots the change in the standardized mean difference (SMD) before and after Propensity Score based adjustment of the dataset. The formula for SMD is given below.\n",
    "\n",
    "\n",
    "$SMD = \\frac{\\bar X_{1} - \\bar X_{2}}{\\sqrt{(S_{1}^{2} + S_{2}^{2})/2}}$\n",
    "\n",
    "Here, $\\bar X_{1}$ and $\\bar X_{2}$ are the sample mean for the treated and control groups.\n"
   ]
  },
  {
   "cell_type": "code",
   "execution_count": 10,
   "id": "63e41ee5",
   "metadata": {
    "execution": {
     "iopub.execute_input": "2022-10-17T15:17:09.360269Z",
     "iopub.status.busy": "2022-10-17T15:17:09.359509Z",
     "iopub.status.idle": "2022-10-17T15:17:09.926901Z",
     "shell.execute_reply": "2022-10-17T15:17:09.925920Z"
    }
   },
   "outputs": [
    {
     "data": {
      "image/png": "[encoded data removed]",
      "text/plain": [
       "<Figure size 640x480 with 1 Axes>"
      ]
     },
     "metadata": {},
     "output_type": "display_data"
    }
   ],
   "source": [
    "# Visual Interpreter\n",
    "interpretation = causal_estimate_strat.interpret(method_name=\"propensity_balance_interpreter\")"
   ]
  },
  {
   "cell_type": "markdown",
   "id": "6b52bf37",
   "metadata": {},
   "source": [
    "This plot shows how the SMD decreases from the unadjusted to the stratified units. "
   ]
  },
  {
   "cell_type": "markdown",
   "id": "04d5fab8",
   "metadata": {},
   "source": [
    "## Method 2: Propensity Score Matching\n",
    "\n",
    "We will be using propensity scores to match units in the data."
   ]
  },
  {
   "cell_type": "code",
   "execution_count": 11,
   "id": "696ff949",
   "metadata": {
    "execution": {
     "iopub.execute_input": "2022-10-17T15:17:09.931026Z",
     "iopub.status.busy": "2022-10-17T15:17:09.930580Z",
     "iopub.status.idle": "2022-10-17T15:17:14.660591Z",
     "shell.execute_reply": "2022-10-17T15:17:14.659682Z"
    }
   },
   "outputs": [
    {
     "name": "stdout",
     "output_type": "stream",
     "text": [
      "*** Causal Estimate ***\n",
      "\n",
      "## Identified estimand\n",
      "Estimand type: EstimandType.NONPARAMETRIC_ATE\n",
      "\n",
      "### Estimand : 1\n",
      "Estimand name: backdoor\n",
      "Estimand expression:\n",
      "  d                       \n",
      "─────(E[y|W2,W1,W3,W4,W0])\n",
      "d[v₀]                     \n",
      "Estimand assumption 1, Unconfoundedness: If U→{v0} and U→y then P(y|v0,W2,W1,W3,W4,W0,U) = P(y|v0,W2,W1,W3,W4,W0)\n",
      "\n",
      "## Realized estimand\n",
      "b: y~v0+W2+W1+W3+W4+W0\n",
      "Target units: atc\n",
      "\n",
      "## Estimate\n",
      "Mean value: 1.0906131393626055\n",
      "\n",
      "Causal Estimate is 1.0906131393626055\n"
     ]
    }
   ],
   "source": [
    "causal_estimate_match = model.estimate_effect(identified_estimand,\n",
    "                                              method_name=\"backdoor.propensity_score_matching\",\n",
    "                                              target_units=\"atc\")\n",
    "print(causal_estimate_match)\n",
    "print(\"Causal Estimate is \" + str(causal_estimate_match.value))"
   ]
  },
  {
   "cell_type": "code",
   "execution_count": 12,
   "id": "3df80821",
   "metadata": {
    "execution": {
     "iopub.execute_input": "2022-10-17T15:17:14.664902Z",
     "iopub.status.busy": "2022-10-17T15:17:14.664196Z",
     "iopub.status.idle": "2022-10-17T15:17:14.699688Z",
     "shell.execute_reply": "2022-10-17T15:17:14.698294Z"
    }
   },
   "outputs": [
    {
     "name": "stdout",
     "output_type": "stream",
     "text": [
      "Increasing the treatment variable(s) [v0] from 0 to 1 causes an increase of 1.0906131393626055 in the expected value of the outcome [y], over the data distribution/population represented by the dataset.\n"
     ]
    }
   ],
   "source": [
    "# Textual Interpreter\n",
    "interpretation = causal_estimate_match.interpret(method_name=\"textual_effect_interpreter\")"
   ]
  },
  {
   "cell_type": "markdown",
   "id": "4f2ab744",
   "metadata": {},
   "source": [
    "Cannot use propensity balance interpretor here since the interpreter method only supports propensity score stratification estimator."
   ]
  },
  {
   "cell_type": "markdown",
   "id": "95335c5b",
   "metadata": {},
   "source": [
    "## Method 3: Weighting\n",
    "\n",
    "We will be using (inverse) propensity scores to assign weights to units in the data. DoWhy supports a few different weighting schemes:\n",
    "1. Vanilla Inverse Propensity Score weighting (IPS) (weighting_scheme=\"ips_weight\")\n",
    "2. Self-normalized IPS weighting (also known as the Hajek estimator) (weighting_scheme=\"ips_normalized_weight\")\n",
    "3. Stabilized IPS weighting (weighting_scheme = \"ips_stabilized_weight\")"
   ]
  },
  {
   "cell_type": "code",
   "execution_count": 13,
   "id": "4d98ee83",
   "metadata": {
    "execution": {
     "iopub.execute_input": "2022-10-17T15:17:14.704430Z",
     "iopub.status.busy": "2022-10-17T15:17:14.703951Z",
     "iopub.status.idle": "2022-10-17T15:17:14.781564Z",
     "shell.execute_reply": "2022-10-17T15:17:14.780888Z"
    }
   },
   "outputs": [
    {
     "name": "stdout",
     "output_type": "stream",
     "text": [
      "*** Causal Estimate ***\n",
      "\n",
      "## Identified estimand\n",
      "Estimand type: EstimandType.NONPARAMETRIC_ATE\n",
      "\n",
      "### Estimand : 1\n",
      "Estimand name: backdoor\n",
      "Estimand expression:\n",
      "  d                       \n",
      "─────(E[y|W2,W1,W3,W4,W0])\n",
      "d[v₀]                     \n",
      "Estimand assumption 1, Unconfoundedness: If U→{v0} and U→y then P(y|v0,W2,W1,W3,W4,W0,U) = P(y|v0,W2,W1,W3,W4,W0)\n",
      "\n",
      "## Realized estimand\n",
      "b: y~v0+W2+W1+W3+W4+W0\n",
      "Target units: ate\n",
      "\n",
      "## Estimate\n",
      "Mean value: 1.2835424563613036\n",
      "\n",
      "Causal Estimate is 1.2835424563613036\n"
     ]
    }
   ],
   "source": [
    "causal_estimate_ipw = model.estimate_effect(identified_estimand,\n",
    "                                            method_name=\"backdoor.propensity_score_weighting\",\n",
    "                                            target_units = \"ate\",\n",
    "                                            method_params={\"weighting_scheme\":\"ips_weight\"})\n",
    "print(causal_estimate_ipw)\n",
    "print(\"Causal Estimate is \" + str(causal_estimate_ipw.value))"
   ]
  },
  {
   "cell_type": "code",
   "execution_count": 14,
   "id": "b1e5422b",
   "metadata": {
    "execution": {
     "iopub.execute_input": "2022-10-17T15:17:14.785291Z",
     "iopub.status.busy": "2022-10-17T15:17:14.784853Z",
     "iopub.status.idle": "2022-10-17T15:17:14.818811Z",
     "shell.execute_reply": "2022-10-17T15:17:14.818229Z"
    }
   },
   "outputs": [
    {
     "name": "stdout",
     "output_type": "stream",
     "text": [
      "Increasing the treatment variable(s) [v0] from 0 to 1 causes an increase of 1.2835424563613036 in the expected value of the outcome [y], over the data distribution/population represented by the dataset.\n"
     ]
    }
   ],
   "source": [
    "# Textual Interpreter\n",
    "interpretation = causal_estimate_ipw.interpret(method_name=\"textual_effect_interpreter\")"
   ]
  },
  {
   "cell_type": "code",
   "execution_count": 15,
   "id": "e05ae97a",
   "metadata": {
    "execution": {
     "iopub.execute_input": "2022-10-17T15:17:14.822150Z",
     "iopub.status.busy": "2022-10-17T15:17:14.821663Z",
     "iopub.status.idle": "2022-10-17T15:17:15.174000Z",
     "shell.execute_reply": "2022-10-17T15:17:15.173274Z"
    }
   },
   "outputs": [
    {
     "data": {
      "image/png": "[encoded data removed]",
      "text/plain": [
       "<Figure size 800x800 with 2 Axes>"
      ]
     },
     "metadata": {},
     "output_type": "display_data"
    }
   ],
   "source": [
    "interpretation = causal_estimate_ipw.interpret(method_name=\"confounder_distribution_interpreter\", fig_size=(8,8), font_size=12, var_name='W4', var_type='discrete')"
   ]
  },
  {
   "cell_type": "code",
   "execution_count": null,
   "id": "ecc8a410",
   "metadata": {},
   "outputs": [],
   "source": []
  }
 ],
 "metadata": {
  "kernelspec": {
   "display_name": "Python 3",
   "language": "python",
   "name": "python3"
  },
  "language_info": {
   "codemirror_mode": {
    "name": "ipython",
    "version": 3
   },
   "file_extension": ".py",
   "mimetype": "text/x-python",
   "name": "python",
   "nbconvert_exporter": "python",
   "pygments_lexer": "ipython3",
   "version": "3.8.10"
  },
  "toc": {
   "base_numbering": 1,
   "nav_menu": {},
   "number_sections": false,
   "sideBar": true,
   "skip_h1_title": true,
   "title_cell": "Table of Contents",
   "title_sidebar": "Contents",
   "toc_cell": false,
   "toc_position": {},
   "toc_section_display": true,
   "toc_window_display": false
  }
 },
 "nbformat": 4,
 "nbformat_minor": 5
}
