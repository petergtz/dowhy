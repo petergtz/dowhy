{
 "cells": [
  {
   "cell_type": "markdown",
   "id": "7312c753",
   "metadata": {},
   "source": [
    "# DoWhy: Interpreters for Causal Estimators\n",
    "\n",
    "This is a quick introduction to the use of interpreters in the DoWhy causal inference library.\n",
    "We will load in a sample dataset, use different methods for estimating the causal effect of a (pre-specified)treatment variable on a (pre-specified) outcome variable and demonstrate how to interpret the obtained results.\n",
    "\n",
    "First, let us add the required path for Python to find the DoWhy code and load all required packages"
   ]
  },
  {
   "cell_type": "code",
   "execution_count": 1,
   "id": "6c1c8355",
   "metadata": {
    "execution": {
     "iopub.execute_input": "2022-08-02T08:18:42.714422Z",
     "iopub.status.busy": "2022-08-02T08:18:42.714120Z",
     "iopub.status.idle": "2022-08-02T08:18:42.730763Z",
     "shell.execute_reply": "2022-08-02T08:18:42.730163Z"
    }
   },
   "outputs": [],
   "source": [
    "%load_ext autoreload\n",
    "%autoreload 2"
   ]
  },
  {
   "cell_type": "code",
   "execution_count": 2,
   "id": "af36411f",
   "metadata": {
    "execution": {
     "iopub.execute_input": "2022-08-02T08:18:42.733950Z",
     "iopub.status.busy": "2022-08-02T08:18:42.733727Z",
     "iopub.status.idle": "2022-08-02T08:18:43.781685Z",
     "shell.execute_reply": "2022-08-02T08:18:43.780431Z"
    }
   },
   "outputs": [
    {
     "name": "stdout",
     "output_type": "stream",
     "text": [
      "keywords are unexpanded, not using\n"
     ]
    }
   ],
   "source": [
    "import numpy as np\n",
    "import pandas as pd\n",
    "import logging\n",
    "\n",
    "import dowhy\n",
    "from dowhy import CausalModel\n",
    "import dowhy.datasets "
   ]
  },
  {
   "cell_type": "markdown",
   "id": "192883e0",
   "metadata": {},
   "source": [
    "Now, let us load a dataset. For simplicity, we simulate a dataset with linear relationships between common causes and treatment, and common causes and outcome.\n",
    "\n",
    "Beta is the true causal effect."
   ]
  },
  {
   "cell_type": "code",
   "execution_count": 3,
   "id": "b0c9e52a",
   "metadata": {
    "execution": {
     "iopub.execute_input": "2022-08-02T08:18:43.785830Z",
     "iopub.status.busy": "2022-08-02T08:18:43.785318Z",
     "iopub.status.idle": "2022-08-02T08:18:44.112999Z",
     "shell.execute_reply": "2022-08-02T08:18:44.112330Z"
    }
   },
   "outputs": [
    {
     "name": "stdout",
     "output_type": "stream",
     "text": [
      "8464\n"
     ]
    },
    {
     "data": {
      "text/html": [
       "<div>\n",
       "<style scoped>\n",
       "    .dataframe tbody tr th:only-of-type {\n",
       "        vertical-align: middle;\n",
       "    }\n",
       "\n",
       "    .dataframe tbody tr th {\n",
       "        vertical-align: top;\n",
       "    }\n",
       "\n",
       "    .dataframe thead th {\n",
       "        text-align: right;\n",
       "    }\n",
       "</style>\n",
       "<table border=\"1\" class=\"dataframe\">\n",
       "  <thead>\n",
       "    <tr style=\"text-align: right;\">\n",
       "      <th></th>\n",
       "      <th>Z0</th>\n",
       "      <th>Z1</th>\n",
       "      <th>W0</th>\n",
       "      <th>W1</th>\n",
       "      <th>W2</th>\n",
       "      <th>W3</th>\n",
       "      <th>W4</th>\n",
       "      <th>v0</th>\n",
       "      <th>y</th>\n",
       "    </tr>\n",
       "  </thead>\n",
       "  <tbody>\n",
       "    <tr>\n",
       "      <th>0</th>\n",
       "      <td>1.0</td>\n",
       "      <td>0.705225</td>\n",
       "      <td>0.710091</td>\n",
       "      <td>1.666307</td>\n",
       "      <td>0.024382</td>\n",
       "      <td>-0.018041</td>\n",
       "      <td>2</td>\n",
       "      <td>True</td>\n",
       "      <td>1.615798</td>\n",
       "    </tr>\n",
       "    <tr>\n",
       "      <th>1</th>\n",
       "      <td>1.0</td>\n",
       "      <td>0.791209</td>\n",
       "      <td>-0.365973</td>\n",
       "      <td>-0.180339</td>\n",
       "      <td>0.112446</td>\n",
       "      <td>-0.989508</td>\n",
       "      <td>2</td>\n",
       "      <td>True</td>\n",
       "      <td>0.334063</td>\n",
       "    </tr>\n",
       "    <tr>\n",
       "      <th>2</th>\n",
       "      <td>1.0</td>\n",
       "      <td>0.276122</td>\n",
       "      <td>-0.856112</td>\n",
       "      <td>-1.699210</td>\n",
       "      <td>0.508876</td>\n",
       "      <td>-0.417669</td>\n",
       "      <td>1</td>\n",
       "      <td>True</td>\n",
       "      <td>0.783714</td>\n",
       "    </tr>\n",
       "    <tr>\n",
       "      <th>3</th>\n",
       "      <td>1.0</td>\n",
       "      <td>0.209783</td>\n",
       "      <td>2.013111</td>\n",
       "      <td>0.278117</td>\n",
       "      <td>0.816607</td>\n",
       "      <td>0.439128</td>\n",
       "      <td>1</td>\n",
       "      <td>True</td>\n",
       "      <td>2.727798</td>\n",
       "    </tr>\n",
       "    <tr>\n",
       "      <th>4</th>\n",
       "      <td>0.0</td>\n",
       "      <td>0.998573</td>\n",
       "      <td>-2.456991</td>\n",
       "      <td>0.984822</td>\n",
       "      <td>-0.213715</td>\n",
       "      <td>-0.093791</td>\n",
       "      <td>1</td>\n",
       "      <td>True</td>\n",
       "      <td>0.302265</td>\n",
       "    </tr>\n",
       "    <tr>\n",
       "      <th>...</th>\n",
       "      <td>...</td>\n",
       "      <td>...</td>\n",
       "      <td>...</td>\n",
       "      <td>...</td>\n",
       "      <td>...</td>\n",
       "      <td>...</td>\n",
       "      <td>...</td>\n",
       "      <td>...</td>\n",
       "      <td>...</td>\n",
       "    </tr>\n",
       "    <tr>\n",
       "      <th>9995</th>\n",
       "      <td>1.0</td>\n",
       "      <td>0.050726</td>\n",
       "      <td>-0.059095</td>\n",
       "      <td>0.991119</td>\n",
       "      <td>2.402813</td>\n",
       "      <td>-0.948650</td>\n",
       "      <td>1</td>\n",
       "      <td>True</td>\n",
       "      <td>1.887399</td>\n",
       "    </tr>\n",
       "    <tr>\n",
       "      <th>9996</th>\n",
       "      <td>1.0</td>\n",
       "      <td>0.757657</td>\n",
       "      <td>-0.878681</td>\n",
       "      <td>0.916229</td>\n",
       "      <td>-0.320883</td>\n",
       "      <td>-2.009516</td>\n",
       "      <td>3</td>\n",
       "      <td>True</td>\n",
       "      <td>-0.875503</td>\n",
       "    </tr>\n",
       "    <tr>\n",
       "      <th>9997</th>\n",
       "      <td>1.0</td>\n",
       "      <td>0.868357</td>\n",
       "      <td>0.240023</td>\n",
       "      <td>1.148061</td>\n",
       "      <td>-0.938887</td>\n",
       "      <td>-1.624538</td>\n",
       "      <td>1</td>\n",
       "      <td>True</td>\n",
       "      <td>-0.953223</td>\n",
       "    </tr>\n",
       "    <tr>\n",
       "      <th>9998</th>\n",
       "      <td>1.0</td>\n",
       "      <td>0.175940</td>\n",
       "      <td>-1.697904</td>\n",
       "      <td>1.239246</td>\n",
       "      <td>-1.770423</td>\n",
       "      <td>-2.224096</td>\n",
       "      <td>0</td>\n",
       "      <td>False</td>\n",
       "      <td>-3.825720</td>\n",
       "    </tr>\n",
       "    <tr>\n",
       "      <th>9999</th>\n",
       "      <td>1.0</td>\n",
       "      <td>0.782522</td>\n",
       "      <td>-1.656539</td>\n",
       "      <td>1.454137</td>\n",
       "      <td>1.618415</td>\n",
       "      <td>-1.227175</td>\n",
       "      <td>0</td>\n",
       "      <td>True</td>\n",
       "      <td>0.491881</td>\n",
       "    </tr>\n",
       "  </tbody>\n",
       "</table>\n",
       "<p>10000 rows × 9 columns</p>\n",
       "</div>"
      ],
      "text/plain": [
       "       Z0        Z1        W0        W1        W2        W3 W4     v0  \\\n",
       "0     1.0  0.705225  0.710091  1.666307  0.024382 -0.018041  2   True   \n",
       "1     1.0  0.791209 -0.365973 -0.180339  0.112446 -0.989508  2   True   \n",
       "2     1.0  0.276122 -0.856112 -1.699210  0.508876 -0.417669  1   True   \n",
       "3     1.0  0.209783  2.013111  0.278117  0.816607  0.439128  1   True   \n",
       "4     0.0  0.998573 -2.456991  0.984822 -0.213715 -0.093791  1   True   \n",
       "...   ...       ...       ...       ...       ...       ... ..    ...   \n",
       "9995  1.0  0.050726 -0.059095  0.991119  2.402813 -0.948650  1   True   \n",
       "9996  1.0  0.757657 -0.878681  0.916229 -0.320883 -2.009516  3   True   \n",
       "9997  1.0  0.868357  0.240023  1.148061 -0.938887 -1.624538  1   True   \n",
       "9998  1.0  0.175940 -1.697904  1.239246 -1.770423 -2.224096  0  False   \n",
       "9999  1.0  0.782522 -1.656539  1.454137  1.618415 -1.227175  0   True   \n",
       "\n",
       "             y  \n",
       "0     1.615798  \n",
       "1     0.334063  \n",
       "2     0.783714  \n",
       "3     2.727798  \n",
       "4     0.302265  \n",
       "...        ...  \n",
       "9995  1.887399  \n",
       "9996 -0.875503  \n",
       "9997 -0.953223  \n",
       "9998 -3.825720  \n",
       "9999  0.491881  \n",
       "\n",
       "[10000 rows x 9 columns]"
      ]
     },
     "execution_count": 3,
     "metadata": {},
     "output_type": "execute_result"
    }
   ],
   "source": [
    "data = dowhy.datasets.linear_dataset(beta=1,\n",
    "        num_common_causes=5, \n",
    "        num_instruments = 2,\n",
    "        num_treatments=1,\n",
    "        num_discrete_common_causes=1,\n",
    "        num_samples=10000,\n",
    "        treatment_is_binary=True,\n",
    "        outcome_is_binary=False)\n",
    "df = data[\"df\"]\n",
    "print(df[df.v0==True].shape[0])\n",
    "df"
   ]
  },
  {
   "cell_type": "markdown",
   "id": "36aba0de",
   "metadata": {},
   "source": [
    "Note that we are using a pandas dataframe to load the data."
   ]
  },
  {
   "cell_type": "markdown",
   "id": "90f52e80",
   "metadata": {},
   "source": [
    "## Identifying the causal estimand"
   ]
  },
  {
   "cell_type": "markdown",
   "id": "eb41b3d2",
   "metadata": {},
   "source": [
    "We now input a causal graph in the GML graph format."
   ]
  },
  {
   "cell_type": "code",
   "execution_count": 4,
   "id": "914cc41c",
   "metadata": {
    "execution": {
     "iopub.execute_input": "2022-08-02T08:18:44.116285Z",
     "iopub.status.busy": "2022-08-02T08:18:44.116048Z",
     "iopub.status.idle": "2022-08-02T08:18:44.140304Z",
     "shell.execute_reply": "2022-08-02T08:18:44.139715Z"
    }
   },
   "outputs": [],
   "source": [
    "# With graph\n",
    "model=CausalModel(\n",
    "        data = df,\n",
    "        treatment=data[\"treatment_name\"],\n",
    "        outcome=data[\"outcome_name\"],\n",
    "        graph=data[\"gml_graph\"],\n",
    "        instruments=data[\"instrument_names\"]\n",
    "        )"
   ]
  },
  {
   "cell_type": "code",
   "execution_count": 5,
   "id": "15e6f4e8",
   "metadata": {
    "execution": {
     "iopub.execute_input": "2022-08-02T08:18:44.143353Z",
     "iopub.status.busy": "2022-08-02T08:18:44.143125Z",
     "iopub.status.idle": "2022-08-02T08:18:44.196644Z",
     "shell.execute_reply": "2022-08-02T08:18:44.195925Z"
    }
   },
   "outputs": [],
   "source": [
    "model.view_model()"
   ]
  },
  {
   "cell_type": "code",
   "execution_count": 6,
   "id": "b4ed3b79",
   "metadata": {
    "execution": {
     "iopub.execute_input": "2022-08-02T08:18:44.200132Z",
     "iopub.status.busy": "2022-08-02T08:18:44.199567Z",
     "iopub.status.idle": "2022-08-02T08:18:44.224051Z",
     "shell.execute_reply": "2022-08-02T08:18:44.223337Z"
    }
   },
   "outputs": [
    {
     "data": {
      "image/png": "[encoded data removed]",
      "text/plain": [
       "<IPython.core.display.Image object>"
      ]
     },
     "metadata": {},
     "output_type": "display_data"
    }
   ],
   "source": [
    "from IPython.display import Image, display\n",
    "display(Image(filename=\"causal_model.png\"))"
   ]
  },
  {
   "cell_type": "markdown",
   "id": "6d3bfed9",
   "metadata": {},
   "source": [
    "We get a causal graph. Now identification and estimation is done."
   ]
  },
  {
   "cell_type": "code",
   "execution_count": 7,
   "id": "52bd24d7",
   "metadata": {
    "execution": {
     "iopub.execute_input": "2022-08-02T08:18:44.227688Z",
     "iopub.status.busy": "2022-08-02T08:18:44.227275Z",
     "iopub.status.idle": "2022-08-02T08:18:44.451631Z",
     "shell.execute_reply": "2022-08-02T08:18:44.450796Z"
    }
   },
   "outputs": [
    {
     "name": "stdout",
     "output_type": "stream",
     "text": [
      "Estimand type: nonparametric-ate\n",
      "\n",
      "### Estimand : 1\n",
      "Estimand name: backdoor\n",
      "Estimand expression:\n",
      "  d                       \n",
      "─────(E[y|W2,W0,W1,W3,W4])\n",
      "d[v₀]                     \n",
      "Estimand assumption 1, Unconfoundedness: If U→{v0} and U→y then P(y|v0,W2,W0,W1,W3,W4,U) = P(y|v0,W2,W0,W1,W3,W4)\n",
      "\n",
      "### Estimand : 2\n",
      "Estimand name: iv\n",
      "Estimand expression:\n",
      " ⎡                              -1⎤\n",
      " ⎢    d        ⎛    d          ⎞  ⎥\n",
      "E⎢─────────(y)⋅⎜─────────([v₀])⎟  ⎥\n",
      " ⎣d[Z₀  Z₁]    ⎝d[Z₀  Z₁]      ⎠  ⎦\n",
      "Estimand assumption 1, As-if-random: If U→→y then ¬(U →→{Z0,Z1})\n",
      "Estimand assumption 2, Exclusion: If we remove {Z0,Z1}→{v0}, then ¬({Z0,Z1}→y)\n",
      "\n",
      "### Estimand : 3\n",
      "Estimand name: frontdoor\n",
      "No such variable(s) found!\n",
      "\n"
     ]
    }
   ],
   "source": [
    "identified_estimand = model.identify_effect(proceed_when_unidentifiable=True)\n",
    "print(identified_estimand)"
   ]
  },
  {
   "cell_type": "markdown",
   "id": "c053b5eb",
   "metadata": {},
   "source": [
    "## Method 1: Propensity Score Stratification\n",
    "\n",
    "We will be using propensity scores to stratify units in the data."
   ]
  },
  {
   "cell_type": "code",
   "execution_count": 8,
   "id": "7961cab0",
   "metadata": {
    "execution": {
     "iopub.execute_input": "2022-08-02T08:18:44.455099Z",
     "iopub.status.busy": "2022-08-02T08:18:44.454719Z",
     "iopub.status.idle": "2022-08-02T08:18:45.225124Z",
     "shell.execute_reply": "2022-08-02T08:18:45.223992Z"
    }
   },
   "outputs": [
    {
     "name": "stdout",
     "output_type": "stream",
     "text": [
      "propensity_score_stratification\n"
     ]
    },
    {
     "name": "stderr",
     "output_type": "stream",
     "text": [
      "/usr/local/lib/python3.8/dist-packages/sklearn/utils/validation.py:993: DataConversionWarning: A column-vector y was passed when a 1d array was expected. Please change the shape of y to (n_samples, ), for example using ravel().\n",
      "  y = column_or_1d(y, warn=True)\n"
     ]
    },
    {
     "name": "stdout",
     "output_type": "stream",
     "text": [
      "*** Causal Estimate ***\n",
      "\n",
      "## Identified estimand\n",
      "Estimand type: nonparametric-ate\n",
      "\n",
      "### Estimand : 1\n",
      "Estimand name: backdoor\n",
      "Estimand expression:\n",
      "  d                       \n",
      "─────(E[y|W2,W0,W1,W3,W4])\n",
      "d[v₀]                     \n",
      "Estimand assumption 1, Unconfoundedness: If U→{v0} and U→y then P(y|v0,W2,W0,W1,W3,W4,U) = P(y|v0,W2,W0,W1,W3,W4)\n",
      "\n",
      "## Realized estimand\n",
      "b: y~v0+W2+W0+W1+W3+W4\n",
      "Target units: att\n",
      "\n",
      "## Estimate\n",
      "Mean value: 1.0149899924472752\n",
      "\n",
      "Causal Estimate is 1.0149899924472752\n"
     ]
    }
   ],
   "source": [
    "causal_estimate_strat = model.estimate_effect(identified_estimand,\n",
    "                                              method_name=\"backdoor.propensity_score_stratification\",\n",
    "                                              target_units=\"att\")\n",
    "print(causal_estimate_strat)\n",
    "print(\"Causal Estimate is \" + str(causal_estimate_strat.value))"
   ]
  },
  {
   "cell_type": "markdown",
   "id": "5d51901c",
   "metadata": {},
   "source": [
    "### Textual Interpreter\n",
    "\n",
    "The textual Interpreter describes (in words) the effect of unit change in the treatment variable on the outcome variable."
   ]
  },
  {
   "cell_type": "code",
   "execution_count": 9,
   "id": "f0682049",
   "metadata": {
    "execution": {
     "iopub.execute_input": "2022-08-02T08:18:45.229015Z",
     "iopub.status.busy": "2022-08-02T08:18:45.228636Z",
     "iopub.status.idle": "2022-08-02T08:18:45.255830Z",
     "shell.execute_reply": "2022-08-02T08:18:45.254729Z"
    }
   },
   "outputs": [
    {
     "name": "stdout",
     "output_type": "stream",
     "text": [
      "Increasing the treatment variable(s) [v0] from 0 to 1 causes an increase of 1.0149899924472752 in the expected value of the outcome [y], over the data distribution/population represented by the dataset.\n"
     ]
    }
   ],
   "source": [
    "# Textual Interpreter\n",
    "interpretation = causal_estimate_strat.interpret(method_name=\"textual_effect_interpreter\")"
   ]
  },
  {
   "cell_type": "markdown",
   "id": "fa0ef4ac",
   "metadata": {},
   "source": [
    "### Visual Interpreter\n",
    "\n",
    "The visual interpreter plots the change in the standardized mean difference (SMD) before and after Propensity Score based adjustment of the dataset. The formula for SMD is given below.\n",
    "\n",
    "\n",
    "$SMD = \\frac{\\bar X_{1} - \\bar X_{2}}{\\sqrt{(S_{1}^{2} + S_{2}^{2})/2}}$\n",
    "\n",
    "Here, $\\bar X_{1}$ and $\\bar X_{2}$ are the sample mean for the treated and control groups.\n"
   ]
  },
  {
   "cell_type": "code",
   "execution_count": 10,
   "id": "307261a3",
   "metadata": {
    "execution": {
     "iopub.execute_input": "2022-08-02T08:18:45.259104Z",
     "iopub.status.busy": "2022-08-02T08:18:45.258662Z",
     "iopub.status.idle": "2022-08-02T08:18:46.351174Z",
     "shell.execute_reply": "2022-08-02T08:18:46.350457Z"
    }
   },
   "outputs": [
    {
     "data": {
      "image/png": "[encoded data removed]",
      "text/plain": [
       "<Figure size 432x288 with 1 Axes>"
      ]
     },
     "metadata": {
      "needs_background": "light"
     },
     "output_type": "display_data"
    }
   ],
   "source": [
    "# Visual Interpreter\n",
    "interpretation = causal_estimate_strat.interpret(method_name=\"propensity_balance_interpreter\")"
   ]
  },
  {
   "cell_type": "markdown",
   "id": "4f66ea5b",
   "metadata": {},
   "source": [
    "This plot shows how the SMD decreases from the unadjusted to the stratified units. "
   ]
  },
  {
   "cell_type": "markdown",
   "id": "6b05e6ba",
   "metadata": {},
   "source": [
    "## Method 2: Propensity Score Matching\n",
    "\n",
    "We will be using propensity scores to match units in the data."
   ]
  },
  {
   "cell_type": "code",
   "execution_count": 11,
   "id": "5ee02395",
   "metadata": {
    "execution": {
     "iopub.execute_input": "2022-08-02T08:18:46.354850Z",
     "iopub.status.busy": "2022-08-02T08:18:46.354201Z",
     "iopub.status.idle": "2022-08-02T08:18:50.882463Z",
     "shell.execute_reply": "2022-08-02T08:18:50.881818Z"
    }
   },
   "outputs": [
    {
     "name": "stdout",
     "output_type": "stream",
     "text": [
      "propensity_score_matching\n"
     ]
    },
    {
     "name": "stderr",
     "output_type": "stream",
     "text": [
      "/usr/local/lib/python3.8/dist-packages/sklearn/utils/validation.py:993: DataConversionWarning: A column-vector y was passed when a 1d array was expected. Please change the shape of y to (n_samples, ), for example using ravel().\n",
      "  y = column_or_1d(y, warn=True)\n"
     ]
    },
    {
     "name": "stdout",
     "output_type": "stream",
     "text": [
      "*** Causal Estimate ***\n",
      "\n",
      "## Identified estimand\n",
      "Estimand type: nonparametric-ate\n",
      "\n",
      "### Estimand : 1\n",
      "Estimand name: backdoor\n",
      "Estimand expression:\n",
      "  d                       \n",
      "─────(E[y|W2,W0,W1,W3,W4])\n",
      "d[v₀]                     \n",
      "Estimand assumption 1, Unconfoundedness: If U→{v0} and U→y then P(y|v0,W2,W0,W1,W3,W4,U) = P(y|v0,W2,W0,W1,W3,W4)\n",
      "\n",
      "## Realized estimand\n",
      "b: y~v0+W2+W0+W1+W3+W4\n",
      "Target units: atc\n",
      "\n",
      "## Estimate\n",
      "Mean value: 1.0165397705072712\n",
      "\n",
      "Causal Estimate is 1.0165397705072712\n"
     ]
    }
   ],
   "source": [
    "causal_estimate_match = model.estimate_effect(identified_estimand,\n",
    "                                              method_name=\"backdoor.propensity_score_matching\",\n",
    "                                              target_units=\"atc\")\n",
    "print(causal_estimate_match)\n",
    "print(\"Causal Estimate is \" + str(causal_estimate_match.value))"
   ]
  },
  {
   "cell_type": "code",
   "execution_count": 12,
   "id": "1be3b7ce",
   "metadata": {
    "execution": {
     "iopub.execute_input": "2022-08-02T08:18:50.885698Z",
     "iopub.status.busy": "2022-08-02T08:18:50.885238Z",
     "iopub.status.idle": "2022-08-02T08:18:50.910054Z",
     "shell.execute_reply": "2022-08-02T08:18:50.909364Z"
    }
   },
   "outputs": [
    {
     "name": "stdout",
     "output_type": "stream",
     "text": [
      "Increasing the treatment variable(s) [v0] from 0 to 1 causes an increase of 1.0165397705072712 in the expected value of the outcome [y], over the data distribution/population represented by the dataset.\n"
     ]
    }
   ],
   "source": [
    "# Textual Interpreter\n",
    "interpretation = causal_estimate_match.interpret(method_name=\"textual_effect_interpreter\")"
   ]
  },
  {
   "cell_type": "markdown",
   "id": "7b129c65",
   "metadata": {},
   "source": [
    "Cannot use propensity balance interpretor here since the interpreter method only supports propensity score stratification estimator."
   ]
  },
  {
   "cell_type": "markdown",
   "id": "e1470d3b",
   "metadata": {},
   "source": [
    "## Method 3: Weighting\n",
    "\n",
    "We will be using (inverse) propensity scores to assign weights to units in the data. DoWhy supports a few different weighting schemes:\n",
    "1. Vanilla Inverse Propensity Score weighting (IPS) (weighting_scheme=\"ips_weight\")\n",
    "2. Self-normalized IPS weighting (also known as the Hajek estimator) (weighting_scheme=\"ips_normalized_weight\")\n",
    "3. Stabilized IPS weighting (weighting_scheme = \"ips_stabilized_weight\")"
   ]
  },
  {
   "cell_type": "code",
   "execution_count": 13,
   "id": "eb72493f",
   "metadata": {
    "execution": {
     "iopub.execute_input": "2022-08-02T08:18:50.913543Z",
     "iopub.status.busy": "2022-08-02T08:18:50.913191Z",
     "iopub.status.idle": "2022-08-02T08:18:50.977192Z",
     "shell.execute_reply": "2022-08-02T08:18:50.976487Z"
    }
   },
   "outputs": [
    {
     "name": "stdout",
     "output_type": "stream",
     "text": [
      "propensity_score_weighting\n",
      "*** Causal Estimate ***\n",
      "\n",
      "## Identified estimand\n",
      "Estimand type: nonparametric-ate\n",
      "\n",
      "### Estimand : 1\n",
      "Estimand name: backdoor\n",
      "Estimand expression:\n",
      "  d                       \n",
      "─────(E[y|W2,W0,W1,W3,W4])\n",
      "d[v₀]                     \n",
      "Estimand assumption 1, Unconfoundedness: If U→{v0} and U→y then P(y|v0,W2,W0,W1,W3,W4,U) = P(y|v0,W2,W0,W1,W3,W4)\n",
      "\n",
      "## Realized estimand\n",
      "b: y~v0+W2+W0+W1+W3+W4\n",
      "Target units: ate\n",
      "\n",
      "## Estimate\n",
      "Mean value: 1.1782301275000484\n",
      "\n",
      "Causal Estimate is 1.1782301275000484\n"
     ]
    },
    {
     "name": "stderr",
     "output_type": "stream",
     "text": [
      "/usr/local/lib/python3.8/dist-packages/sklearn/utils/validation.py:993: DataConversionWarning: A column-vector y was passed when a 1d array was expected. Please change the shape of y to (n_samples, ), for example using ravel().\n",
      "  y = column_or_1d(y, warn=True)\n"
     ]
    }
   ],
   "source": [
    "causal_estimate_ipw = model.estimate_effect(identified_estimand,\n",
    "                                            method_name=\"backdoor.propensity_score_weighting\",\n",
    "                                            target_units = \"ate\",\n",
    "                                            method_params={\"weighting_scheme\":\"ips_weight\"})\n",
    "print(causal_estimate_ipw)\n",
    "print(\"Causal Estimate is \" + str(causal_estimate_ipw.value))"
   ]
  },
  {
   "cell_type": "code",
   "execution_count": 14,
   "id": "a5aecee5",
   "metadata": {
    "execution": {
     "iopub.execute_input": "2022-08-02T08:18:50.980748Z",
     "iopub.status.busy": "2022-08-02T08:18:50.980279Z",
     "iopub.status.idle": "2022-08-02T08:18:51.006594Z",
     "shell.execute_reply": "2022-08-02T08:18:51.006067Z"
    }
   },
   "outputs": [
    {
     "name": "stdout",
     "output_type": "stream",
     "text": [
      "Increasing the treatment variable(s) [v0] from 0 to 1 causes an increase of 1.1782301275000484 in the expected value of the outcome [y], over the data distribution/population represented by the dataset.\n"
     ]
    }
   ],
   "source": [
    "# Textual Interpreter\n",
    "interpretation = causal_estimate_ipw.interpret(method_name=\"textual_effect_interpreter\")"
   ]
  },
  {
   "cell_type": "code",
   "execution_count": 15,
   "id": "0d731b48",
   "metadata": {
    "execution": {
     "iopub.execute_input": "2022-08-02T08:18:51.009925Z",
     "iopub.status.busy": "2022-08-02T08:18:51.009394Z",
     "iopub.status.idle": "2022-08-02T08:18:51.250955Z",
     "shell.execute_reply": "2022-08-02T08:18:51.250265Z"
    }
   },
   "outputs": [
    {
     "data": {
      "image/png": "[encoded data removed]",
      "text/plain": [
       "<Figure size 576x576 with 2 Axes>"
      ]
     },
     "metadata": {
      "needs_background": "light"
     },
     "output_type": "display_data"
    }
   ],
   "source": [
    "interpretation = causal_estimate_ipw.interpret(method_name=\"confounder_distribution_interpreter\", fig_size=(8,8), font_size=12, var_name='W4', var_type='discrete')"
   ]
  },
  {
   "cell_type": "code",
   "execution_count": null,
   "id": "5cb70549",
   "metadata": {},
   "outputs": [],
   "source": []
  }
 ],
 "metadata": {
  "kernelspec": {
   "display_name": "Python 3",
   "language": "python",
   "name": "python3"
  },
  "language_info": {
   "codemirror_mode": {
    "name": "ipython",
    "version": 3
   },
   "file_extension": ".py",
   "mimetype": "text/x-python",
   "name": "python",
   "nbconvert_exporter": "python",
   "pygments_lexer": "ipython3",
   "version": "3.8.10"
  },
  "toc": {
   "base_numbering": 1,
   "nav_menu": {},
   "number_sections": false,
   "sideBar": true,
   "skip_h1_title": true,
   "title_cell": "Table of Contents",
   "title_sidebar": "Contents",
   "toc_cell": false,
   "toc_position": {},
   "toc_section_display": true,
   "toc_window_display": false
  }
 },
 "nbformat": 4,
 "nbformat_minor": 5
}
