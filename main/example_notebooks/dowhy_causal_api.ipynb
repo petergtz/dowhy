{
 "cells": [
  {
   "cell_type": "markdown",
   "metadata": {},
   "source": [
    "# Demo for the DoWhy causal API\n",
    "We show a simple example of adding a causal extension to any dataframe. "
   ]
  },
  {
   "cell_type": "code",
   "execution_count": 1,
   "metadata": {
    "execution": {
     "iopub.execute_input": "2022-08-02T14:35:39.141200Z",
     "iopub.status.busy": "2022-08-02T14:35:39.140934Z",
     "iopub.status.idle": "2022-08-02T14:35:40.313925Z",
     "shell.execute_reply": "2022-08-02T14:35:40.312804Z"
    }
   },
   "outputs": [
    {
     "name": "stdout",
     "output_type": "stream",
     "text": [
      "keywords are unexpanded, not using\n"
     ]
    }
   ],
   "source": [
    "import dowhy.datasets\n",
    "import dowhy.api\n",
    "\n",
    "import numpy as np\n",
    "import pandas as pd\n",
    "\n",
    "from statsmodels.api import OLS"
   ]
  },
  {
   "cell_type": "code",
   "execution_count": 2,
   "metadata": {
    "execution": {
     "iopub.execute_input": "2022-08-02T14:35:40.318301Z",
     "iopub.status.busy": "2022-08-02T14:35:40.317633Z",
     "iopub.status.idle": "2022-08-02T14:35:40.369784Z",
     "shell.execute_reply": "2022-08-02T14:35:40.368779Z"
    }
   },
   "outputs": [
    {
     "data": {
      "text/html": [
       "<div>\n",
       "<style scoped>\n",
       "    .dataframe tbody tr th:only-of-type {\n",
       "        vertical-align: middle;\n",
       "    }\n",
       "\n",
       "    .dataframe tbody tr th {\n",
       "        vertical-align: top;\n",
       "    }\n",
       "\n",
       "    .dataframe thead th {\n",
       "        text-align: right;\n",
       "    }\n",
       "</style>\n",
       "<table border=\"1\" class=\"dataframe\">\n",
       "  <thead>\n",
       "    <tr style=\"text-align: right;\">\n",
       "      <th></th>\n",
       "      <th>W0</th>\n",
       "      <th>v0</th>\n",
       "      <th>y</th>\n",
       "    </tr>\n",
       "  </thead>\n",
       "  <tbody>\n",
       "    <tr>\n",
       "      <th>0</th>\n",
       "      <td>0.276605</td>\n",
       "      <td>False</td>\n",
       "      <td>-1.029570</td>\n",
       "    </tr>\n",
       "    <tr>\n",
       "      <th>1</th>\n",
       "      <td>0.431098</td>\n",
       "      <td>False</td>\n",
       "      <td>1.154992</td>\n",
       "    </tr>\n",
       "    <tr>\n",
       "      <th>2</th>\n",
       "      <td>3.664006</td>\n",
       "      <td>True</td>\n",
       "      <td>8.606223</td>\n",
       "    </tr>\n",
       "    <tr>\n",
       "      <th>3</th>\n",
       "      <td>0.796903</td>\n",
       "      <td>True</td>\n",
       "      <td>5.601567</td>\n",
       "    </tr>\n",
       "    <tr>\n",
       "      <th>4</th>\n",
       "      <td>-1.600488</td>\n",
       "      <td>False</td>\n",
       "      <td>-0.106867</td>\n",
       "    </tr>\n",
       "    <tr>\n",
       "      <th>...</th>\n",
       "      <td>...</td>\n",
       "      <td>...</td>\n",
       "      <td>...</td>\n",
       "    </tr>\n",
       "    <tr>\n",
       "      <th>995</th>\n",
       "      <td>0.292446</td>\n",
       "      <td>True</td>\n",
       "      <td>4.738906</td>\n",
       "    </tr>\n",
       "    <tr>\n",
       "      <th>996</th>\n",
       "      <td>1.291597</td>\n",
       "      <td>True</td>\n",
       "      <td>5.401288</td>\n",
       "    </tr>\n",
       "    <tr>\n",
       "      <th>997</th>\n",
       "      <td>1.066640</td>\n",
       "      <td>False</td>\n",
       "      <td>0.136621</td>\n",
       "    </tr>\n",
       "    <tr>\n",
       "      <th>998</th>\n",
       "      <td>1.441507</td>\n",
       "      <td>True</td>\n",
       "      <td>4.209241</td>\n",
       "    </tr>\n",
       "    <tr>\n",
       "      <th>999</th>\n",
       "      <td>0.169553</td>\n",
       "      <td>False</td>\n",
       "      <td>0.228625</td>\n",
       "    </tr>\n",
       "  </tbody>\n",
       "</table>\n",
       "<p>1000 rows × 3 columns</p>\n",
       "</div>"
      ],
      "text/plain": [
       "           W0     v0         y\n",
       "0    0.276605  False -1.029570\n",
       "1    0.431098  False  1.154992\n",
       "2    3.664006   True  8.606223\n",
       "3    0.796903   True  5.601567\n",
       "4   -1.600488  False -0.106867\n",
       "..        ...    ...       ...\n",
       "995  0.292446   True  4.738906\n",
       "996  1.291597   True  5.401288\n",
       "997  1.066640  False  0.136621\n",
       "998  1.441507   True  4.209241\n",
       "999  0.169553  False  0.228625\n",
       "\n",
       "[1000 rows x 3 columns]"
      ]
     },
     "execution_count": 2,
     "metadata": {},
     "output_type": "execute_result"
    }
   ],
   "source": [
    "data = dowhy.datasets.linear_dataset(beta=5,\n",
    "        num_common_causes=1,\n",
    "        num_instruments = 0,\n",
    "        num_samples=1000,\n",
    "        treatment_is_binary=True)\n",
    "df = data['df']\n",
    "df['y'] = df['y'] + np.random.normal(size=len(df)) # Adding noise to data. Without noise, the variance in Y|X, Z is zero, and mcmc fails.\n",
    "#data['dot_graph'] = 'digraph { v ->y;X0-> v;X0-> y;}'\n",
    "\n",
    "treatment= data[\"treatment_name\"][0]\n",
    "outcome = data[\"outcome_name\"][0]\n",
    "common_cause = data[\"common_causes_names\"][0]\n",
    "df"
   ]
  },
  {
   "cell_type": "code",
   "execution_count": 3,
   "metadata": {
    "execution": {
     "iopub.execute_input": "2022-08-02T14:35:40.372990Z",
     "iopub.status.busy": "2022-08-02T14:35:40.372561Z",
     "iopub.status.idle": "2022-08-02T14:35:41.158128Z",
     "shell.execute_reply": "2022-08-02T14:35:41.157568Z"
    }
   },
   "outputs": [
    {
     "data": {
      "text/plain": [
       "<AxesSubplot:xlabel='v0'>"
      ]
     },
     "execution_count": 3,
     "metadata": {},
     "output_type": "execute_result"
    },
    {
     "data": {
      "image/png": "[encoded data removed]",
      "text/plain": [
       "<Figure size 432x288 with 1 Axes>"
      ]
     },
     "metadata": {
      "needs_background": "light"
     },
     "output_type": "display_data"
    }
   ],
   "source": [
    "# data['df'] is just a regular pandas.DataFrame\n",
    "df.causal.do(x=treatment,\n",
    "                     variable_types={treatment: 'b', outcome: 'c', common_cause: 'c'},\n",
    "                     outcome=outcome,\n",
    "                     common_causes=[common_cause],\n",
    "                     proceed_when_unidentifiable=True).groupby(treatment).mean().plot(y=outcome, kind='bar')"
   ]
  },
  {
   "cell_type": "code",
   "execution_count": 4,
   "metadata": {
    "execution": {
     "iopub.execute_input": "2022-08-02T14:35:41.161294Z",
     "iopub.status.busy": "2022-08-02T14:35:41.160738Z",
     "iopub.status.idle": "2022-08-02T14:35:41.249690Z",
     "shell.execute_reply": "2022-08-02T14:35:41.249163Z"
    }
   },
   "outputs": [
    {
     "data": {
      "text/plain": [
       "<AxesSubplot:xlabel='v0'>"
      ]
     },
     "execution_count": 4,
     "metadata": {},
     "output_type": "execute_result"
    },
    {
     "data": {
      "image/png": "[encoded data removed]",
      "text/plain": [
       "<Figure size 432x288 with 1 Axes>"
      ]
     },
     "metadata": {
      "needs_background": "light"
     },
     "output_type": "display_data"
    }
   ],
   "source": [
    "df.causal.do(x={treatment: 1}, \n",
    "              variable_types={treatment:'b', outcome: 'c', common_cause: 'c'}, \n",
    "              outcome=outcome,\n",
    "              method='weighting', \n",
    "              common_causes=[common_cause],\n",
    "              proceed_when_unidentifiable=True).groupby(treatment).mean().plot(y=outcome, kind='bar')"
   ]
  },
  {
   "cell_type": "code",
   "execution_count": 5,
   "metadata": {
    "execution": {
     "iopub.execute_input": "2022-08-02T14:35:41.252679Z",
     "iopub.status.busy": "2022-08-02T14:35:41.252249Z",
     "iopub.status.idle": "2022-08-02T14:35:41.282559Z",
     "shell.execute_reply": "2022-08-02T14:35:41.282022Z"
    }
   },
   "outputs": [],
   "source": [
    "cdf_1 = df.causal.do(x={treatment: 1}, \n",
    "              variable_types={treatment: 'b', outcome: 'c', common_cause: 'c'}, \n",
    "              outcome=outcome, \n",
    "              dot_graph=data['dot_graph'],\n",
    "              proceed_when_unidentifiable=True)\n",
    "\n",
    "cdf_0 = df.causal.do(x={treatment: 0}, \n",
    "              variable_types={treatment: 'b', outcome: 'c', common_cause: 'c'}, \n",
    "              outcome=outcome, \n",
    "              dot_graph=data['dot_graph'],\n",
    "              proceed_when_unidentifiable=True)\n"
   ]
  },
  {
   "cell_type": "code",
   "execution_count": 6,
   "metadata": {
    "execution": {
     "iopub.execute_input": "2022-08-02T14:35:41.285419Z",
     "iopub.status.busy": "2022-08-02T14:35:41.284998Z",
     "iopub.status.idle": "2022-08-02T14:35:41.295058Z",
     "shell.execute_reply": "2022-08-02T14:35:41.294405Z"
    },
    "scrolled": true
   },
   "outputs": [
    {
     "data": {
      "text/html": [
       "<div>\n",
       "<style scoped>\n",
       "    .dataframe tbody tr th:only-of-type {\n",
       "        vertical-align: middle;\n",
       "    }\n",
       "\n",
       "    .dataframe tbody tr th {\n",
       "        vertical-align: top;\n",
       "    }\n",
       "\n",
       "    .dataframe thead th {\n",
       "        text-align: right;\n",
       "    }\n",
       "</style>\n",
       "<table border=\"1\" class=\"dataframe\">\n",
       "  <thead>\n",
       "    <tr style=\"text-align: right;\">\n",
       "      <th></th>\n",
       "      <th>W0</th>\n",
       "      <th>v0</th>\n",
       "      <th>y</th>\n",
       "      <th>propensity_score</th>\n",
       "      <th>weight</th>\n",
       "    </tr>\n",
       "  </thead>\n",
       "  <tbody>\n",
       "    <tr>\n",
       "      <th>0</th>\n",
       "      <td>1.283557</td>\n",
       "      <td>False</td>\n",
       "      <td>0.165012</td>\n",
       "      <td>0.079670</td>\n",
       "      <td>12.551845</td>\n",
       "    </tr>\n",
       "    <tr>\n",
       "      <th>1</th>\n",
       "      <td>0.695414</td>\n",
       "      <td>False</td>\n",
       "      <td>-0.776181</td>\n",
       "      <td>0.217219</td>\n",
       "      <td>4.603657</td>\n",
       "    </tr>\n",
       "    <tr>\n",
       "      <th>2</th>\n",
       "      <td>1.762301</td>\n",
       "      <td>False</td>\n",
       "      <td>0.985568</td>\n",
       "      <td>0.032450</td>\n",
       "      <td>30.816509</td>\n",
       "    </tr>\n",
       "    <tr>\n",
       "      <th>3</th>\n",
       "      <td>-0.072787</td>\n",
       "      <td>False</td>\n",
       "      <td>-0.163265</td>\n",
       "      <td>0.559609</td>\n",
       "      <td>1.786963</td>\n",
       "    </tr>\n",
       "    <tr>\n",
       "      <th>4</th>\n",
       "      <td>0.601147</td>\n",
       "      <td>False</td>\n",
       "      <td>0.212287</td>\n",
       "      <td>0.250633</td>\n",
       "      <td>3.989905</td>\n",
       "    </tr>\n",
       "    <tr>\n",
       "      <th>...</th>\n",
       "      <td>...</td>\n",
       "      <td>...</td>\n",
       "      <td>...</td>\n",
       "      <td>...</td>\n",
       "      <td>...</td>\n",
       "    </tr>\n",
       "    <tr>\n",
       "      <th>995</th>\n",
       "      <td>0.240069</td>\n",
       "      <td>False</td>\n",
       "      <td>-0.160846</td>\n",
       "      <td>0.406108</td>\n",
       "      <td>2.462400</td>\n",
       "    </tr>\n",
       "    <tr>\n",
       "      <th>996</th>\n",
       "      <td>0.574363</td>\n",
       "      <td>False</td>\n",
       "      <td>0.632563</td>\n",
       "      <td>0.260727</td>\n",
       "      <td>3.835429</td>\n",
       "    </tr>\n",
       "    <tr>\n",
       "      <th>997</th>\n",
       "      <td>0.311594</td>\n",
       "      <td>False</td>\n",
       "      <td>0.981055</td>\n",
       "      <td>0.372445</td>\n",
       "      <td>2.684962</td>\n",
       "    </tr>\n",
       "    <tr>\n",
       "      <th>998</th>\n",
       "      <td>1.072582</td>\n",
       "      <td>False</td>\n",
       "      <td>1.734856</td>\n",
       "      <td>0.116194</td>\n",
       "      <td>8.606329</td>\n",
       "    </tr>\n",
       "    <tr>\n",
       "      <th>999</th>\n",
       "      <td>1.292641</td>\n",
       "      <td>False</td>\n",
       "      <td>1.493251</td>\n",
       "      <td>0.078360</td>\n",
       "      <td>12.761582</td>\n",
       "    </tr>\n",
       "  </tbody>\n",
       "</table>\n",
       "<p>1000 rows × 5 columns</p>\n",
       "</div>"
      ],
      "text/plain": [
       "           W0     v0         y  propensity_score     weight\n",
       "0    1.283557  False  0.165012          0.079670  12.551845\n",
       "1    0.695414  False -0.776181          0.217219   4.603657\n",
       "2    1.762301  False  0.985568          0.032450  30.816509\n",
       "3   -0.072787  False -0.163265          0.559609   1.786963\n",
       "4    0.601147  False  0.212287          0.250633   3.989905\n",
       "..        ...    ...       ...               ...        ...\n",
       "995  0.240069  False -0.160846          0.406108   2.462400\n",
       "996  0.574363  False  0.632563          0.260727   3.835429\n",
       "997  0.311594  False  0.981055          0.372445   2.684962\n",
       "998  1.072582  False  1.734856          0.116194   8.606329\n",
       "999  1.292641  False  1.493251          0.078360  12.761582\n",
       "\n",
       "[1000 rows x 5 columns]"
      ]
     },
     "execution_count": 6,
     "metadata": {},
     "output_type": "execute_result"
    }
   ],
   "source": [
    "cdf_0"
   ]
  },
  {
   "cell_type": "code",
   "execution_count": 7,
   "metadata": {
    "execution": {
     "iopub.execute_input": "2022-08-02T14:35:41.297662Z",
     "iopub.status.busy": "2022-08-02T14:35:41.297445Z",
     "iopub.status.idle": "2022-08-02T14:35:41.308995Z",
     "shell.execute_reply": "2022-08-02T14:35:41.308288Z"
    }
   },
   "outputs": [
    {
     "data": {
      "text/html": [
       "<div>\n",
       "<style scoped>\n",
       "    .dataframe tbody tr th:only-of-type {\n",
       "        vertical-align: middle;\n",
       "    }\n",
       "\n",
       "    .dataframe tbody tr th {\n",
       "        vertical-align: top;\n",
       "    }\n",
       "\n",
       "    .dataframe thead th {\n",
       "        text-align: right;\n",
       "    }\n",
       "</style>\n",
       "<table border=\"1\" class=\"dataframe\">\n",
       "  <thead>\n",
       "    <tr style=\"text-align: right;\">\n",
       "      <th></th>\n",
       "      <th>W0</th>\n",
       "      <th>v0</th>\n",
       "      <th>y</th>\n",
       "      <th>propensity_score</th>\n",
       "      <th>weight</th>\n",
       "    </tr>\n",
       "  </thead>\n",
       "  <tbody>\n",
       "    <tr>\n",
       "      <th>0</th>\n",
       "      <td>1.020043</td>\n",
       "      <td>True</td>\n",
       "      <td>4.331969</td>\n",
       "      <td>0.872686</td>\n",
       "      <td>1.145887</td>\n",
       "    </tr>\n",
       "    <tr>\n",
       "      <th>1</th>\n",
       "      <td>1.751840</td>\n",
       "      <td>True</td>\n",
       "      <td>5.360854</td>\n",
       "      <td>0.966893</td>\n",
       "      <td>1.034241</td>\n",
       "    </tr>\n",
       "    <tr>\n",
       "      <th>2</th>\n",
       "      <td>0.720224</td>\n",
       "      <td>True</td>\n",
       "      <td>6.953294</td>\n",
       "      <td>0.791021</td>\n",
       "      <td>1.264189</td>\n",
       "    </tr>\n",
       "    <tr>\n",
       "      <th>3</th>\n",
       "      <td>0.601784</td>\n",
       "      <td>True</td>\n",
       "      <td>4.258033</td>\n",
       "      <td>0.749605</td>\n",
       "      <td>1.334037</td>\n",
       "    </tr>\n",
       "    <tr>\n",
       "      <th>4</th>\n",
       "      <td>2.000279</td>\n",
       "      <td>True</td>\n",
       "      <td>6.004562</td>\n",
       "      <td>0.979496</td>\n",
       "      <td>1.020933</td>\n",
       "    </tr>\n",
       "    <tr>\n",
       "      <th>...</th>\n",
       "      <td>...</td>\n",
       "      <td>...</td>\n",
       "      <td>...</td>\n",
       "      <td>...</td>\n",
       "      <td>...</td>\n",
       "    </tr>\n",
       "    <tr>\n",
       "      <th>995</th>\n",
       "      <td>-0.150720</td>\n",
       "      <td>True</td>\n",
       "      <td>4.981775</td>\n",
       "      <td>0.402771</td>\n",
       "      <td>2.482797</td>\n",
       "    </tr>\n",
       "    <tr>\n",
       "      <th>996</th>\n",
       "      <td>-1.959616</td>\n",
       "      <td>True</td>\n",
       "      <td>5.154716</td>\n",
       "      <td>0.018403</td>\n",
       "      <td>54.340192</td>\n",
       "    </tr>\n",
       "    <tr>\n",
       "      <th>997</th>\n",
       "      <td>0.367146</td>\n",
       "      <td>True</td>\n",
       "      <td>6.996826</td>\n",
       "      <td>0.652891</td>\n",
       "      <td>1.531649</td>\n",
       "    </tr>\n",
       "    <tr>\n",
       "      <th>998</th>\n",
       "      <td>-0.557470</td>\n",
       "      <td>True</td>\n",
       "      <td>4.300211</td>\n",
       "      <td>0.231555</td>\n",
       "      <td>4.318632</td>\n",
       "    </tr>\n",
       "    <tr>\n",
       "      <th>999</th>\n",
       "      <td>0.553952</td>\n",
       "      <td>True</td>\n",
       "      <td>7.081950</td>\n",
       "      <td>0.731406</td>\n",
       "      <td>1.367230</td>\n",
       "    </tr>\n",
       "  </tbody>\n",
       "</table>\n",
       "<p>1000 rows × 5 columns</p>\n",
       "</div>"
      ],
      "text/plain": [
       "           W0    v0         y  propensity_score     weight\n",
       "0    1.020043  True  4.331969          0.872686   1.145887\n",
       "1    1.751840  True  5.360854          0.966893   1.034241\n",
       "2    0.720224  True  6.953294          0.791021   1.264189\n",
       "3    0.601784  True  4.258033          0.749605   1.334037\n",
       "4    2.000279  True  6.004562          0.979496   1.020933\n",
       "..        ...   ...       ...               ...        ...\n",
       "995 -0.150720  True  4.981775          0.402771   2.482797\n",
       "996 -1.959616  True  5.154716          0.018403  54.340192\n",
       "997  0.367146  True  6.996826          0.652891   1.531649\n",
       "998 -0.557470  True  4.300211          0.231555   4.318632\n",
       "999  0.553952  True  7.081950          0.731406   1.367230\n",
       "\n",
       "[1000 rows x 5 columns]"
      ]
     },
     "execution_count": 7,
     "metadata": {},
     "output_type": "execute_result"
    }
   ],
   "source": [
    "cdf_1"
   ]
  },
  {
   "cell_type": "markdown",
   "metadata": {},
   "source": [
    "## Comparing the estimate to Linear Regression\n",
    "First, estimating the effect using the causal data frame, and the 95% confidence interval."
   ]
  },
  {
   "cell_type": "code",
   "execution_count": 8,
   "metadata": {
    "execution": {
     "iopub.execute_input": "2022-08-02T14:35:41.311732Z",
     "iopub.status.busy": "2022-08-02T14:35:41.311519Z",
     "iopub.status.idle": "2022-08-02T14:35:41.410170Z",
     "shell.execute_reply": "2022-08-02T14:35:41.409465Z"
    }
   },
   "outputs": [
    {
     "data": {
      "image/png": "[encoded data removed]",
      "text/latex": [
       "$\\displaystyle 5.16542221023418$"
      ],
      "text/plain": [
       "5.165422210234175"
      ]
     },
     "execution_count": 8,
     "metadata": {},
     "output_type": "execute_result"
    }
   ],
   "source": [
    "(cdf_1['y'] - cdf_0['y']).mean()"
   ]
  },
  {
   "cell_type": "code",
   "execution_count": 9,
   "metadata": {
    "execution": {
     "iopub.execute_input": "2022-08-02T14:35:41.413359Z",
     "iopub.status.busy": "2022-08-02T14:35:41.413135Z",
     "iopub.status.idle": "2022-08-02T14:35:41.436687Z",
     "shell.execute_reply": "2022-08-02T14:35:41.436072Z"
    }
   },
   "outputs": [
    {
     "data": {
      "image/png": "[encoded data removed]",
      "text/latex": [
       "$\\displaystyle 0.094554010998006$"
      ],
      "text/plain": [
       "0.09455401099800596"
      ]
     },
     "execution_count": 9,
     "metadata": {},
     "output_type": "execute_result"
    }
   ],
   "source": [
    "1.96*(cdf_1['y'] - cdf_0['y']).std() / np.sqrt(len(df))"
   ]
  },
  {
   "cell_type": "markdown",
   "metadata": {},
   "source": [
    "Comparing to the estimate from OLS."
   ]
  },
  {
   "cell_type": "code",
   "execution_count": 10,
   "metadata": {
    "execution": {
     "iopub.execute_input": "2022-08-02T14:35:41.439614Z",
     "iopub.status.busy": "2022-08-02T14:35:41.439278Z",
     "iopub.status.idle": "2022-08-02T14:35:41.455705Z",
     "shell.execute_reply": "2022-08-02T14:35:41.455081Z"
    }
   },
   "outputs": [
    {
     "data": {
      "text/html": [
       "<table class=\"simpletable\">\n",
       "<caption>OLS Regression Results</caption>\n",
       "<tr>\n",
       "  <th>Dep. Variable:</th>            <td>y</td>        <th>  R-squared (uncentered):</th>      <td>   0.961</td> \n",
       "</tr>\n",
       "<tr>\n",
       "  <th>Model:</th>                   <td>OLS</td>       <th>  Adj. R-squared (uncentered):</th> <td>   0.961</td> \n",
       "</tr>\n",
       "<tr>\n",
       "  <th>Method:</th>             <td>Least Squares</td>  <th>  F-statistic:       </th>          <td>1.229e+04</td>\n",
       "</tr>\n",
       "<tr>\n",
       "  <th>Date:</th>             <td>Tue, 02 Aug 2022</td> <th>  Prob (F-statistic):</th>           <td>  0.00</td>  \n",
       "</tr>\n",
       "<tr>\n",
       "  <th>Time:</th>                 <td>14:35:41</td>     <th>  Log-Likelihood:    </th>          <td> -1430.8</td> \n",
       "</tr>\n",
       "<tr>\n",
       "  <th>No. Observations:</th>      <td>  1000</td>      <th>  AIC:               </th>          <td>   2866.</td> \n",
       "</tr>\n",
       "<tr>\n",
       "  <th>Df Residuals:</th>          <td>   998</td>      <th>  BIC:               </th>          <td>   2875.</td> \n",
       "</tr>\n",
       "<tr>\n",
       "  <th>Df Model:</th>              <td>     2</td>      <th>                     </th>              <td> </td>    \n",
       "</tr>\n",
       "<tr>\n",
       "  <th>Covariance Type:</th>      <td>nonrobust</td>    <th>                     </th>              <td> </td>    \n",
       "</tr>\n",
       "</table>\n",
       "<table class=\"simpletable\">\n",
       "<tr>\n",
       "   <td></td>     <th>coef</th>     <th>std err</th>      <th>t</th>      <th>P>|t|</th>  <th>[0.025</th>    <th>0.975]</th>  \n",
       "</tr>\n",
       "<tr>\n",
       "  <th>x1</th> <td>    0.6621</td> <td>    0.038</td> <td>   17.393</td> <td> 0.000</td> <td>    0.587</td> <td>    0.737</td>\n",
       "</tr>\n",
       "<tr>\n",
       "  <th>x2</th> <td>    4.9799</td> <td>    0.061</td> <td>   82.260</td> <td> 0.000</td> <td>    4.861</td> <td>    5.099</td>\n",
       "</tr>\n",
       "</table>\n",
       "<table class=\"simpletable\">\n",
       "<tr>\n",
       "  <th>Omnibus:</th>       <td> 0.570</td> <th>  Durbin-Watson:     </th> <td>   2.005</td>\n",
       "</tr>\n",
       "<tr>\n",
       "  <th>Prob(Omnibus):</th> <td> 0.752</td> <th>  Jarque-Bera (JB):  </th> <td>   0.593</td>\n",
       "</tr>\n",
       "<tr>\n",
       "  <th>Skew:</th>          <td> 0.058</td> <th>  Prob(JB):          </th> <td>   0.743</td>\n",
       "</tr>\n",
       "<tr>\n",
       "  <th>Kurtosis:</th>      <td> 2.970</td> <th>  Cond. No.          </th> <td>    3.30</td>\n",
       "</tr>\n",
       "</table><br/><br/>Notes:<br/>[1] R² is computed without centering (uncentered) since the model does not contain a constant.<br/>[2] Standard Errors assume that the covariance matrix of the errors is correctly specified."
      ],
      "text/plain": [
       "<class 'statsmodels.iolib.summary.Summary'>\n",
       "\"\"\"\n",
       "                                 OLS Regression Results                                \n",
       "=======================================================================================\n",
       "Dep. Variable:                      y   R-squared (uncentered):                   0.961\n",
       "Model:                            OLS   Adj. R-squared (uncentered):              0.961\n",
       "Method:                 Least Squares   F-statistic:                          1.229e+04\n",
       "Date:                Tue, 02 Aug 2022   Prob (F-statistic):                        0.00\n",
       "Time:                        14:35:41   Log-Likelihood:                         -1430.8\n",
       "No. Observations:                1000   AIC:                                      2866.\n",
       "Df Residuals:                     998   BIC:                                      2875.\n",
       "Df Model:                           2                                                  \n",
       "Covariance Type:            nonrobust                                                  \n",
       "==============================================================================\n",
       "                 coef    std err          t      P>|t|      [0.025      0.975]\n",
       "------------------------------------------------------------------------------\n",
       "x1             0.6621      0.038     17.393      0.000       0.587       0.737\n",
       "x2             4.9799      0.061     82.260      0.000       4.861       5.099\n",
       "==============================================================================\n",
       "Omnibus:                        0.570   Durbin-Watson:                   2.005\n",
       "Prob(Omnibus):                  0.752   Jarque-Bera (JB):                0.593\n",
       "Skew:                           0.058   Prob(JB):                        0.743\n",
       "Kurtosis:                       2.970   Cond. No.                         3.30\n",
       "==============================================================================\n",
       "\n",
       "Notes:\n",
       "[1] R² is computed without centering (uncentered) since the model does not contain a constant.\n",
       "[2] Standard Errors assume that the covariance matrix of the errors is correctly specified.\n",
       "\"\"\""
      ]
     },
     "execution_count": 10,
     "metadata": {},
     "output_type": "execute_result"
    }
   ],
   "source": [
    "model = OLS(np.asarray(df[outcome]), np.asarray(df[[common_cause, treatment]], dtype=np.float64))\n",
    "result = model.fit()\n",
    "result.summary()"
   ]
  }
 ],
 "metadata": {
  "kernelspec": {
   "display_name": "Python 3",
   "language": "python",
   "name": "python3"
  },
  "language_info": {
   "codemirror_mode": {
    "name": "ipython",
    "version": 3
   },
   "file_extension": ".py",
   "mimetype": "text/x-python",
   "name": "python",
   "nbconvert_exporter": "python",
   "pygments_lexer": "ipython3",
   "version": "3.8.10"
  },
  "toc": {
   "base_numbering": 1,
   "nav_menu": {},
   "number_sections": false,
   "sideBar": true,
   "skip_h1_title": true,
   "title_cell": "Table of Contents",
   "title_sidebar": "Contents",
   "toc_cell": false,
   "toc_position": {},
   "toc_section_display": true,
   "toc_window_display": false
  }
 },
 "nbformat": 4,
 "nbformat_minor": 4
}
