{
 "cells": [
  {
   "cell_type": "markdown",
   "metadata": {},
   "source": [
    "# Demo for the DoWhy causal API\n",
    "We show a simple example of adding a causal extension to any dataframe. "
   ]
  },
  {
   "cell_type": "code",
   "execution_count": 1,
   "metadata": {
    "execution": {
     "iopub.execute_input": "2022-07-29T15:40:43.438705Z",
     "iopub.status.busy": "2022-07-29T15:40:43.438201Z",
     "iopub.status.idle": "2022-07-29T15:40:44.647847Z",
     "shell.execute_reply": "2022-07-29T15:40:44.646994Z"
    }
   },
   "outputs": [
    {
     "name": "stdout",
     "output_type": "stream",
     "text": [
      "keywords are unexpanded, not using\n"
     ]
    }
   ],
   "source": [
    "import dowhy.datasets\n",
    "import dowhy.api\n",
    "\n",
    "import numpy as np\n",
    "import pandas as pd\n",
    "\n",
    "from statsmodels.api import OLS"
   ]
  },
  {
   "cell_type": "code",
   "execution_count": 2,
   "metadata": {
    "execution": {
     "iopub.execute_input": "2022-07-29T15:40:44.652369Z",
     "iopub.status.busy": "2022-07-29T15:40:44.651837Z",
     "iopub.status.idle": "2022-07-29T15:40:44.698818Z",
     "shell.execute_reply": "2022-07-29T15:40:44.698075Z"
    }
   },
   "outputs": [
    {
     "data": {
      "text/html": [
       "<div>\n",
       "<style scoped>\n",
       "    .dataframe tbody tr th:only-of-type {\n",
       "        vertical-align: middle;\n",
       "    }\n",
       "\n",
       "    .dataframe tbody tr th {\n",
       "        vertical-align: top;\n",
       "    }\n",
       "\n",
       "    .dataframe thead th {\n",
       "        text-align: right;\n",
       "    }\n",
       "</style>\n",
       "<table border=\"1\" class=\"dataframe\">\n",
       "  <thead>\n",
       "    <tr style=\"text-align: right;\">\n",
       "      <th></th>\n",
       "      <th>W0</th>\n",
       "      <th>v0</th>\n",
       "      <th>y</th>\n",
       "    </tr>\n",
       "  </thead>\n",
       "  <tbody>\n",
       "    <tr>\n",
       "      <th>0</th>\n",
       "      <td>-1.321642</td>\n",
       "      <td>False</td>\n",
       "      <td>-0.637409</td>\n",
       "    </tr>\n",
       "    <tr>\n",
       "      <th>1</th>\n",
       "      <td>1.098294</td>\n",
       "      <td>True</td>\n",
       "      <td>4.944728</td>\n",
       "    </tr>\n",
       "    <tr>\n",
       "      <th>2</th>\n",
       "      <td>-0.576084</td>\n",
       "      <td>True</td>\n",
       "      <td>4.520480</td>\n",
       "    </tr>\n",
       "    <tr>\n",
       "      <th>3</th>\n",
       "      <td>-1.932086</td>\n",
       "      <td>True</td>\n",
       "      <td>3.990415</td>\n",
       "    </tr>\n",
       "    <tr>\n",
       "      <th>4</th>\n",
       "      <td>0.004718</td>\n",
       "      <td>True</td>\n",
       "      <td>5.741791</td>\n",
       "    </tr>\n",
       "    <tr>\n",
       "      <th>...</th>\n",
       "      <td>...</td>\n",
       "      <td>...</td>\n",
       "      <td>...</td>\n",
       "    </tr>\n",
       "    <tr>\n",
       "      <th>995</th>\n",
       "      <td>0.290972</td>\n",
       "      <td>True</td>\n",
       "      <td>5.455165</td>\n",
       "    </tr>\n",
       "    <tr>\n",
       "      <th>996</th>\n",
       "      <td>-0.828581</td>\n",
       "      <td>False</td>\n",
       "      <td>-0.378240</td>\n",
       "    </tr>\n",
       "    <tr>\n",
       "      <th>997</th>\n",
       "      <td>-1.269259</td>\n",
       "      <td>False</td>\n",
       "      <td>0.295400</td>\n",
       "    </tr>\n",
       "    <tr>\n",
       "      <th>998</th>\n",
       "      <td>1.297504</td>\n",
       "      <td>True</td>\n",
       "      <td>4.457884</td>\n",
       "    </tr>\n",
       "    <tr>\n",
       "      <th>999</th>\n",
       "      <td>0.903033</td>\n",
       "      <td>True</td>\n",
       "      <td>5.404465</td>\n",
       "    </tr>\n",
       "  </tbody>\n",
       "</table>\n",
       "<p>1000 rows × 3 columns</p>\n",
       "</div>"
      ],
      "text/plain": [
       "           W0     v0         y\n",
       "0   -1.321642  False -0.637409\n",
       "1    1.098294   True  4.944728\n",
       "2   -0.576084   True  4.520480\n",
       "3   -1.932086   True  3.990415\n",
       "4    0.004718   True  5.741791\n",
       "..        ...    ...       ...\n",
       "995  0.290972   True  5.455165\n",
       "996 -0.828581  False -0.378240\n",
       "997 -1.269259  False  0.295400\n",
       "998  1.297504   True  4.457884\n",
       "999  0.903033   True  5.404465\n",
       "\n",
       "[1000 rows x 3 columns]"
      ]
     },
     "execution_count": 2,
     "metadata": {},
     "output_type": "execute_result"
    }
   ],
   "source": [
    "data = dowhy.datasets.linear_dataset(beta=5,\n",
    "        num_common_causes=1,\n",
    "        num_instruments = 0,\n",
    "        num_samples=1000,\n",
    "        treatment_is_binary=True)\n",
    "df = data['df']\n",
    "df['y'] = df['y'] + np.random.normal(size=len(df)) # Adding noise to data. Without noise, the variance in Y|X, Z is zero, and mcmc fails.\n",
    "#data['dot_graph'] = 'digraph { v ->y;X0-> v;X0-> y;}'\n",
    "\n",
    "treatment= data[\"treatment_name\"][0]\n",
    "outcome = data[\"outcome_name\"][0]\n",
    "common_cause = data[\"common_causes_names\"][0]\n",
    "df"
   ]
  },
  {
   "cell_type": "code",
   "execution_count": 3,
   "metadata": {
    "execution": {
     "iopub.execute_input": "2022-07-29T15:40:44.703065Z",
     "iopub.status.busy": "2022-07-29T15:40:44.702667Z",
     "iopub.status.idle": "2022-07-29T15:40:45.491996Z",
     "shell.execute_reply": "2022-07-29T15:40:45.491416Z"
    }
   },
   "outputs": [
    {
     "data": {
      "text/plain": [
       "<AxesSubplot:xlabel='v0'>"
      ]
     },
     "execution_count": 3,
     "metadata": {},
     "output_type": "execute_result"
    },
    {
     "data": {
      "image/png": "[encoded data removed]",
      "text/plain": [
       "<Figure size 432x288 with 1 Axes>"
      ]
     },
     "metadata": {
      "needs_background": "light"
     },
     "output_type": "display_data"
    }
   ],
   "source": [
    "# data['df'] is just a regular pandas.DataFrame\n",
    "df.causal.do(x=treatment,\n",
    "                     variable_types={treatment: 'b', outcome: 'c', common_cause: 'c'},\n",
    "                     outcome=outcome,\n",
    "                     common_causes=[common_cause],\n",
    "                     proceed_when_unidentifiable=True).groupby(treatment).mean().plot(y=outcome, kind='bar')"
   ]
  },
  {
   "cell_type": "code",
   "execution_count": 4,
   "metadata": {
    "execution": {
     "iopub.execute_input": "2022-07-29T15:40:45.495096Z",
     "iopub.status.busy": "2022-07-29T15:40:45.494550Z",
     "iopub.status.idle": "2022-07-29T15:40:45.585713Z",
     "shell.execute_reply": "2022-07-29T15:40:45.585141Z"
    }
   },
   "outputs": [
    {
     "data": {
      "text/plain": [
       "<AxesSubplot:xlabel='v0'>"
      ]
     },
     "execution_count": 4,
     "metadata": {},
     "output_type": "execute_result"
    },
    {
     "data": {
      "image/png": "[encoded data removed]",
      "text/plain": [
       "<Figure size 432x288 with 1 Axes>"
      ]
     },
     "metadata": {
      "needs_background": "light"
     },
     "output_type": "display_data"
    }
   ],
   "source": [
    "df.causal.do(x={treatment: 1}, \n",
    "              variable_types={treatment:'b', outcome: 'c', common_cause: 'c'}, \n",
    "              outcome=outcome,\n",
    "              method='weighting', \n",
    "              common_causes=[common_cause],\n",
    "              proceed_when_unidentifiable=True).groupby(treatment).mean().plot(y=outcome, kind='bar')"
   ]
  },
  {
   "cell_type": "code",
   "execution_count": 5,
   "metadata": {
    "execution": {
     "iopub.execute_input": "2022-07-29T15:40:45.588834Z",
     "iopub.status.busy": "2022-07-29T15:40:45.588371Z",
     "iopub.status.idle": "2022-07-29T15:40:45.619767Z",
     "shell.execute_reply": "2022-07-29T15:40:45.619153Z"
    }
   },
   "outputs": [],
   "source": [
    "cdf_1 = df.causal.do(x={treatment: 1}, \n",
    "              variable_types={treatment: 'b', outcome: 'c', common_cause: 'c'}, \n",
    "              outcome=outcome, \n",
    "              dot_graph=data['dot_graph'],\n",
    "              proceed_when_unidentifiable=True)\n",
    "\n",
    "cdf_0 = df.causal.do(x={treatment: 0}, \n",
    "              variable_types={treatment: 'b', outcome: 'c', common_cause: 'c'}, \n",
    "              outcome=outcome, \n",
    "              dot_graph=data['dot_graph'],\n",
    "              proceed_when_unidentifiable=True)\n"
   ]
  },
  {
   "cell_type": "code",
   "execution_count": 6,
   "metadata": {
    "execution": {
     "iopub.execute_input": "2022-07-29T15:40:45.623114Z",
     "iopub.status.busy": "2022-07-29T15:40:45.622640Z",
     "iopub.status.idle": "2022-07-29T15:40:45.634308Z",
     "shell.execute_reply": "2022-07-29T15:40:45.633688Z"
    },
    "scrolled": true
   },
   "outputs": [
    {
     "data": {
      "text/html": [
       "<div>\n",
       "<style scoped>\n",
       "    .dataframe tbody tr th:only-of-type {\n",
       "        vertical-align: middle;\n",
       "    }\n",
       "\n",
       "    .dataframe tbody tr th {\n",
       "        vertical-align: top;\n",
       "    }\n",
       "\n",
       "    .dataframe thead th {\n",
       "        text-align: right;\n",
       "    }\n",
       "</style>\n",
       "<table border=\"1\" class=\"dataframe\">\n",
       "  <thead>\n",
       "    <tr style=\"text-align: right;\">\n",
       "      <th></th>\n",
       "      <th>W0</th>\n",
       "      <th>v0</th>\n",
       "      <th>y</th>\n",
       "      <th>propensity_score</th>\n",
       "      <th>weight</th>\n",
       "    </tr>\n",
       "  </thead>\n",
       "  <tbody>\n",
       "    <tr>\n",
       "      <th>0</th>\n",
       "      <td>-1.104658</td>\n",
       "      <td>False</td>\n",
       "      <td>-0.944485</td>\n",
       "      <td>0.605864</td>\n",
       "      <td>1.650535</td>\n",
       "    </tr>\n",
       "    <tr>\n",
       "      <th>1</th>\n",
       "      <td>-0.795723</td>\n",
       "      <td>False</td>\n",
       "      <td>-0.898001</td>\n",
       "      <td>0.567294</td>\n",
       "      <td>1.762756</td>\n",
       "    </tr>\n",
       "    <tr>\n",
       "      <th>2</th>\n",
       "      <td>-2.890913</td>\n",
       "      <td>False</td>\n",
       "      <td>-0.341378</td>\n",
       "      <td>0.794150</td>\n",
       "      <td>1.259208</td>\n",
       "    </tr>\n",
       "    <tr>\n",
       "      <th>3</th>\n",
       "      <td>1.545595</td>\n",
       "      <td>False</td>\n",
       "      <td>0.253375</td>\n",
       "      <td>0.281855</td>\n",
       "      <td>3.547920</td>\n",
       "    </tr>\n",
       "    <tr>\n",
       "      <th>4</th>\n",
       "      <td>-0.905230</td>\n",
       "      <td>False</td>\n",
       "      <td>-0.921969</td>\n",
       "      <td>0.581085</td>\n",
       "      <td>1.720919</td>\n",
       "    </tr>\n",
       "    <tr>\n",
       "      <th>...</th>\n",
       "      <td>...</td>\n",
       "      <td>...</td>\n",
       "      <td>...</td>\n",
       "      <td>...</td>\n",
       "      <td>...</td>\n",
       "    </tr>\n",
       "    <tr>\n",
       "      <th>995</th>\n",
       "      <td>-1.277213</td>\n",
       "      <td>False</td>\n",
       "      <td>-0.973239</td>\n",
       "      <td>0.626879</td>\n",
       "      <td>1.595204</td>\n",
       "    </tr>\n",
       "    <tr>\n",
       "      <th>996</th>\n",
       "      <td>-2.269179</td>\n",
       "      <td>False</td>\n",
       "      <td>1.835987</td>\n",
       "      <td>0.736886</td>\n",
       "      <td>1.357062</td>\n",
       "    </tr>\n",
       "    <tr>\n",
       "      <th>997</th>\n",
       "      <td>-0.348725</td>\n",
       "      <td>False</td>\n",
       "      <td>0.142659</td>\n",
       "      <td>0.510137</td>\n",
       "      <td>1.960258</td>\n",
       "    </tr>\n",
       "    <tr>\n",
       "      <th>998</th>\n",
       "      <td>0.918179</td>\n",
       "      <td>False</td>\n",
       "      <td>1.258159</td>\n",
       "      <td>0.351586</td>\n",
       "      <td>2.844252</td>\n",
       "    </tr>\n",
       "    <tr>\n",
       "      <th>999</th>\n",
       "      <td>-0.606619</td>\n",
       "      <td>False</td>\n",
       "      <td>0.132840</td>\n",
       "      <td>0.543243</td>\n",
       "      <td>1.840798</td>\n",
       "    </tr>\n",
       "  </tbody>\n",
       "</table>\n",
       "<p>1000 rows × 5 columns</p>\n",
       "</div>"
      ],
      "text/plain": [
       "           W0     v0         y  propensity_score    weight\n",
       "0   -1.104658  False -0.944485          0.605864  1.650535\n",
       "1   -0.795723  False -0.898001          0.567294  1.762756\n",
       "2   -2.890913  False -0.341378          0.794150  1.259208\n",
       "3    1.545595  False  0.253375          0.281855  3.547920\n",
       "4   -0.905230  False -0.921969          0.581085  1.720919\n",
       "..        ...    ...       ...               ...       ...\n",
       "995 -1.277213  False -0.973239          0.626879  1.595204\n",
       "996 -2.269179  False  1.835987          0.736886  1.357062\n",
       "997 -0.348725  False  0.142659          0.510137  1.960258\n",
       "998  0.918179  False  1.258159          0.351586  2.844252\n",
       "999 -0.606619  False  0.132840          0.543243  1.840798\n",
       "\n",
       "[1000 rows x 5 columns]"
      ]
     },
     "execution_count": 6,
     "metadata": {},
     "output_type": "execute_result"
    }
   ],
   "source": [
    "cdf_0"
   ]
  },
  {
   "cell_type": "code",
   "execution_count": 7,
   "metadata": {
    "execution": {
     "iopub.execute_input": "2022-07-29T15:40:45.637220Z",
     "iopub.status.busy": "2022-07-29T15:40:45.636854Z",
     "iopub.status.idle": "2022-07-29T15:40:45.648733Z",
     "shell.execute_reply": "2022-07-29T15:40:45.648174Z"
    }
   },
   "outputs": [
    {
     "data": {
      "text/html": [
       "<div>\n",
       "<style scoped>\n",
       "    .dataframe tbody tr th:only-of-type {\n",
       "        vertical-align: middle;\n",
       "    }\n",
       "\n",
       "    .dataframe tbody tr th {\n",
       "        vertical-align: top;\n",
       "    }\n",
       "\n",
       "    .dataframe thead th {\n",
       "        text-align: right;\n",
       "    }\n",
       "</style>\n",
       "<table border=\"1\" class=\"dataframe\">\n",
       "  <thead>\n",
       "    <tr style=\"text-align: right;\">\n",
       "      <th></th>\n",
       "      <th>W0</th>\n",
       "      <th>v0</th>\n",
       "      <th>y</th>\n",
       "      <th>propensity_score</th>\n",
       "      <th>weight</th>\n",
       "    </tr>\n",
       "  </thead>\n",
       "  <tbody>\n",
       "    <tr>\n",
       "      <th>0</th>\n",
       "      <td>0.560277</td>\n",
       "      <td>True</td>\n",
       "      <td>5.765811</td>\n",
       "      <td>0.605326</td>\n",
       "      <td>1.652003</td>\n",
       "    </tr>\n",
       "    <tr>\n",
       "      <th>1</th>\n",
       "      <td>-0.490283</td>\n",
       "      <td>True</td>\n",
       "      <td>4.496108</td>\n",
       "      <td>0.471662</td>\n",
       "      <td>2.120164</td>\n",
       "    </tr>\n",
       "    <tr>\n",
       "      <th>2</th>\n",
       "      <td>-0.886652</td>\n",
       "      <td>True</td>\n",
       "      <td>5.244145</td>\n",
       "      <td>0.421247</td>\n",
       "      <td>2.373907</td>\n",
       "    </tr>\n",
       "    <tr>\n",
       "      <th>3</th>\n",
       "      <td>0.269202</td>\n",
       "      <td>True</td>\n",
       "      <td>5.246380</td>\n",
       "      <td>0.568998</td>\n",
       "      <td>1.757476</td>\n",
       "    </tr>\n",
       "    <tr>\n",
       "      <th>4</th>\n",
       "      <td>-2.663472</td>\n",
       "      <td>True</td>\n",
       "      <td>4.187775</td>\n",
       "      <td>0.225664</td>\n",
       "      <td>4.431375</td>\n",
       "    </tr>\n",
       "    <tr>\n",
       "      <th>...</th>\n",
       "      <td>...</td>\n",
       "      <td>...</td>\n",
       "      <td>...</td>\n",
       "      <td>...</td>\n",
       "      <td>...</td>\n",
       "    </tr>\n",
       "    <tr>\n",
       "      <th>995</th>\n",
       "      <td>0.387711</td>\n",
       "      <td>True</td>\n",
       "      <td>3.497712</td>\n",
       "      <td>0.583902</td>\n",
       "      <td>1.712617</td>\n",
       "    </tr>\n",
       "    <tr>\n",
       "      <th>996</th>\n",
       "      <td>1.607041</td>\n",
       "      <td>True</td>\n",
       "      <td>5.775217</td>\n",
       "      <td>0.724507</td>\n",
       "      <td>1.380249</td>\n",
       "    </tr>\n",
       "    <tr>\n",
       "      <th>997</th>\n",
       "      <td>-1.494715</td>\n",
       "      <td>True</td>\n",
       "      <td>4.988505</td>\n",
       "      <td>0.347308</td>\n",
       "      <td>2.879288</td>\n",
       "    </tr>\n",
       "    <tr>\n",
       "      <th>998</th>\n",
       "      <td>0.434750</td>\n",
       "      <td>True</td>\n",
       "      <td>5.597173</td>\n",
       "      <td>0.589777</td>\n",
       "      <td>1.695557</td>\n",
       "    </tr>\n",
       "    <tr>\n",
       "      <th>999</th>\n",
       "      <td>-0.603133</td>\n",
       "      <td>True</td>\n",
       "      <td>6.481915</td>\n",
       "      <td>0.457203</td>\n",
       "      <td>2.187212</td>\n",
       "    </tr>\n",
       "  </tbody>\n",
       "</table>\n",
       "<p>1000 rows × 5 columns</p>\n",
       "</div>"
      ],
      "text/plain": [
       "           W0    v0         y  propensity_score    weight\n",
       "0    0.560277  True  5.765811          0.605326  1.652003\n",
       "1   -0.490283  True  4.496108          0.471662  2.120164\n",
       "2   -0.886652  True  5.244145          0.421247  2.373907\n",
       "3    0.269202  True  5.246380          0.568998  1.757476\n",
       "4   -2.663472  True  4.187775          0.225664  4.431375\n",
       "..        ...   ...       ...               ...       ...\n",
       "995  0.387711  True  3.497712          0.583902  1.712617\n",
       "996  1.607041  True  5.775217          0.724507  1.380249\n",
       "997 -1.494715  True  4.988505          0.347308  2.879288\n",
       "998  0.434750  True  5.597173          0.589777  1.695557\n",
       "999 -0.603133  True  6.481915          0.457203  2.187212\n",
       "\n",
       "[1000 rows x 5 columns]"
      ]
     },
     "execution_count": 7,
     "metadata": {},
     "output_type": "execute_result"
    }
   ],
   "source": [
    "cdf_1"
   ]
  },
  {
   "cell_type": "markdown",
   "metadata": {},
   "source": [
    "## Comparing the estimate to Linear Regression\n",
    "First, estimating the effect using the causal data frame, and the 95% confidence interval."
   ]
  },
  {
   "cell_type": "code",
   "execution_count": 8,
   "metadata": {
    "execution": {
     "iopub.execute_input": "2022-07-29T15:40:45.651846Z",
     "iopub.status.busy": "2022-07-29T15:40:45.651251Z",
     "iopub.status.idle": "2022-07-29T15:40:45.753151Z",
     "shell.execute_reply": "2022-07-29T15:40:45.752482Z"
    }
   },
   "outputs": [
    {
     "data": {
      "image/png": "[encoded data removed]",
      "text/latex": [
       "$\\displaystyle 4.96226705488095$"
      ],
      "text/plain": [
       "4.962267054880955"
      ]
     },
     "execution_count": 8,
     "metadata": {},
     "output_type": "execute_result"
    }
   ],
   "source": [
    "(cdf_1['y'] - cdf_0['y']).mean()"
   ]
  },
  {
   "cell_type": "code",
   "execution_count": 9,
   "metadata": {
    "execution": {
     "iopub.execute_input": "2022-07-29T15:40:45.756711Z",
     "iopub.status.busy": "2022-07-29T15:40:45.756122Z",
     "iopub.status.idle": "2022-07-29T15:40:45.784358Z",
     "shell.execute_reply": "2022-07-29T15:40:45.783736Z"
    }
   },
   "outputs": [
    {
     "data": {
      "image/png": "[encoded data removed]",
      "text/latex": [
       "$\\displaystyle 0.0861951929886925$"
      ],
      "text/plain": [
       "0.08619519298869247"
      ]
     },
     "execution_count": 9,
     "metadata": {},
     "output_type": "execute_result"
    }
   ],
   "source": [
    "1.96*(cdf_1['y'] - cdf_0['y']).std() / np.sqrt(len(df))"
   ]
  },
  {
   "cell_type": "markdown",
   "metadata": {},
   "source": [
    "Comparing to the estimate from OLS."
   ]
  },
  {
   "cell_type": "code",
   "execution_count": 10,
   "metadata": {
    "execution": {
     "iopub.execute_input": "2022-07-29T15:40:45.788451Z",
     "iopub.status.busy": "2022-07-29T15:40:45.787970Z",
     "iopub.status.idle": "2022-07-29T15:40:45.807482Z",
     "shell.execute_reply": "2022-07-29T15:40:45.806809Z"
    }
   },
   "outputs": [
    {
     "data": {
      "text/html": [
       "<table class=\"simpletable\">\n",
       "<caption>OLS Regression Results</caption>\n",
       "<tr>\n",
       "  <th>Dep. Variable:</th>            <td>y</td>        <th>  R-squared (uncentered):</th>      <td>   0.922</td>\n",
       "</tr>\n",
       "<tr>\n",
       "  <th>Model:</th>                   <td>OLS</td>       <th>  Adj. R-squared (uncentered):</th> <td>   0.922</td>\n",
       "</tr>\n",
       "<tr>\n",
       "  <th>Method:</th>             <td>Least Squares</td>  <th>  F-statistic:       </th>          <td>   5903.</td>\n",
       "</tr>\n",
       "<tr>\n",
       "  <th>Date:</th>             <td>Fri, 29 Jul 2022</td> <th>  Prob (F-statistic):</th>           <td>  0.00</td> \n",
       "</tr>\n",
       "<tr>\n",
       "  <th>Time:</th>                 <td>15:40:45</td>     <th>  Log-Likelihood:    </th>          <td> -1402.3</td>\n",
       "</tr>\n",
       "<tr>\n",
       "  <th>No. Observations:</th>      <td>  1000</td>      <th>  AIC:               </th>          <td>   2809.</td>\n",
       "</tr>\n",
       "<tr>\n",
       "  <th>Df Residuals:</th>          <td>   998</td>      <th>  BIC:               </th>          <td>   2818.</td>\n",
       "</tr>\n",
       "<tr>\n",
       "  <th>Df Model:</th>              <td>     2</td>      <th>                     </th>              <td> </td>   \n",
       "</tr>\n",
       "<tr>\n",
       "  <th>Covariance Type:</th>      <td>nonrobust</td>    <th>                     </th>              <td> </td>   \n",
       "</tr>\n",
       "</table>\n",
       "<table class=\"simpletable\">\n",
       "<tr>\n",
       "   <td></td>     <th>coef</th>     <th>std err</th>      <th>t</th>      <th>P>|t|</th>  <th>[0.025</th>    <th>0.975]</th>  \n",
       "</tr>\n",
       "<tr>\n",
       "  <th>x1</th> <td>    0.1301</td> <td>    0.028</td> <td>    4.732</td> <td> 0.000</td> <td>    0.076</td> <td>    0.184</td>\n",
       "</tr>\n",
       "<tr>\n",
       "  <th>x2</th> <td>    5.0336</td> <td>    0.047</td> <td>  107.220</td> <td> 0.000</td> <td>    4.942</td> <td>    5.126</td>\n",
       "</tr>\n",
       "</table>\n",
       "<table class=\"simpletable\">\n",
       "<tr>\n",
       "  <th>Omnibus:</th>       <td> 0.071</td> <th>  Durbin-Watson:     </th> <td>   2.061</td>\n",
       "</tr>\n",
       "<tr>\n",
       "  <th>Prob(Omnibus):</th> <td> 0.965</td> <th>  Jarque-Bera (JB):  </th> <td>   0.082</td>\n",
       "</tr>\n",
       "<tr>\n",
       "  <th>Skew:</th>          <td> 0.020</td> <th>  Prob(JB):          </th> <td>   0.960</td>\n",
       "</tr>\n",
       "<tr>\n",
       "  <th>Kurtosis:</th>      <td> 2.983</td> <th>  Cond. No.          </th> <td>    1.78</td>\n",
       "</tr>\n",
       "</table><br/><br/>Notes:<br/>[1] R² is computed without centering (uncentered) since the model does not contain a constant.<br/>[2] Standard Errors assume that the covariance matrix of the errors is correctly specified."
      ],
      "text/plain": [
       "<class 'statsmodels.iolib.summary.Summary'>\n",
       "\"\"\"\n",
       "                                 OLS Regression Results                                \n",
       "=======================================================================================\n",
       "Dep. Variable:                      y   R-squared (uncentered):                   0.922\n",
       "Model:                            OLS   Adj. R-squared (uncentered):              0.922\n",
       "Method:                 Least Squares   F-statistic:                              5903.\n",
       "Date:                Fri, 29 Jul 2022   Prob (F-statistic):                        0.00\n",
       "Time:                        15:40:45   Log-Likelihood:                         -1402.3\n",
       "No. Observations:                1000   AIC:                                      2809.\n",
       "Df Residuals:                     998   BIC:                                      2818.\n",
       "Df Model:                           2                                                  \n",
       "Covariance Type:            nonrobust                                                  \n",
       "==============================================================================\n",
       "                 coef    std err          t      P>|t|      [0.025      0.975]\n",
       "------------------------------------------------------------------------------\n",
       "x1             0.1301      0.028      4.732      0.000       0.076       0.184\n",
       "x2             5.0336      0.047    107.220      0.000       4.942       5.126\n",
       "==============================================================================\n",
       "Omnibus:                        0.071   Durbin-Watson:                   2.061\n",
       "Prob(Omnibus):                  0.965   Jarque-Bera (JB):                0.082\n",
       "Skew:                           0.020   Prob(JB):                        0.960\n",
       "Kurtosis:                       2.983   Cond. No.                         1.78\n",
       "==============================================================================\n",
       "\n",
       "Notes:\n",
       "[1] R² is computed without centering (uncentered) since the model does not contain a constant.\n",
       "[2] Standard Errors assume that the covariance matrix of the errors is correctly specified.\n",
       "\"\"\""
      ]
     },
     "execution_count": 10,
     "metadata": {},
     "output_type": "execute_result"
    }
   ],
   "source": [
    "model = OLS(np.asarray(df[outcome]), np.asarray(df[[common_cause, treatment]], dtype=np.float64))\n",
    "result = model.fit()\n",
    "result.summary()"
   ]
  }
 ],
 "metadata": {
  "kernelspec": {
   "display_name": "Python 3",
   "language": "python",
   "name": "python3"
  },
  "language_info": {
   "codemirror_mode": {
    "name": "ipython",
    "version": 3
   },
   "file_extension": ".py",
   "mimetype": "text/x-python",
   "name": "python",
   "nbconvert_exporter": "python",
   "pygments_lexer": "ipython3",
   "version": "3.8.10"
  },
  "toc": {
   "base_numbering": 1,
   "nav_menu": {},
   "number_sections": false,
   "sideBar": true,
   "skip_h1_title": true,
   "title_cell": "Table of Contents",
   "title_sidebar": "Contents",
   "toc_cell": false,
   "toc_position": {},
   "toc_section_display": true,
   "toc_window_display": false
  }
 },
 "nbformat": 4,
 "nbformat_minor": 4
}
