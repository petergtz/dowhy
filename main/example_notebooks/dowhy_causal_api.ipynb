{
 "cells": [
  {
   "cell_type": "markdown",
   "metadata": {},
   "source": [
    "# Demo for the DoWhy causal API\n",
    "We show a simple example of adding a causal extension to any dataframe. "
   ]
  },
  {
   "cell_type": "code",
   "execution_count": 1,
   "metadata": {
    "execution": {
     "iopub.execute_input": "2022-10-19T15:58:45.810896Z",
     "iopub.status.busy": "2022-10-19T15:58:45.810650Z",
     "iopub.status.idle": "2022-10-19T15:58:47.597482Z",
     "shell.execute_reply": "2022-10-19T15:58:47.596835Z"
    }
   },
   "outputs": [],
   "source": [
    "import dowhy.datasets\n",
    "import dowhy.api\n",
    "\n",
    "import numpy as np\n",
    "import pandas as pd\n",
    "\n",
    "from statsmodels.api import OLS"
   ]
  },
  {
   "cell_type": "code",
   "execution_count": 2,
   "metadata": {
    "execution": {
     "iopub.execute_input": "2022-10-19T15:58:47.600924Z",
     "iopub.status.busy": "2022-10-19T15:58:47.600548Z",
     "iopub.status.idle": "2022-10-19T15:58:47.646905Z",
     "shell.execute_reply": "2022-10-19T15:58:47.646330Z"
    }
   },
   "outputs": [
    {
     "data": {
      "text/html": [
       "<div>\n",
       "<style scoped>\n",
       "    .dataframe tbody tr th:only-of-type {\n",
       "        vertical-align: middle;\n",
       "    }\n",
       "\n",
       "    .dataframe tbody tr th {\n",
       "        vertical-align: top;\n",
       "    }\n",
       "\n",
       "    .dataframe thead th {\n",
       "        text-align: right;\n",
       "    }\n",
       "</style>\n",
       "<table border=\"1\" class=\"dataframe\">\n",
       "  <thead>\n",
       "    <tr style=\"text-align: right;\">\n",
       "      <th></th>\n",
       "      <th>W0</th>\n",
       "      <th>v0</th>\n",
       "      <th>y</th>\n",
       "    </tr>\n",
       "  </thead>\n",
       "  <tbody>\n",
       "    <tr>\n",
       "      <th>0</th>\n",
       "      <td>-0.258637</td>\n",
       "      <td>True</td>\n",
       "      <td>2.405568</td>\n",
       "    </tr>\n",
       "    <tr>\n",
       "      <th>1</th>\n",
       "      <td>-1.410309</td>\n",
       "      <td>False</td>\n",
       "      <td>-3.276105</td>\n",
       "    </tr>\n",
       "    <tr>\n",
       "      <th>2</th>\n",
       "      <td>0.373648</td>\n",
       "      <td>False</td>\n",
       "      <td>0.745694</td>\n",
       "    </tr>\n",
       "    <tr>\n",
       "      <th>3</th>\n",
       "      <td>-0.890784</td>\n",
       "      <td>True</td>\n",
       "      <td>2.459542</td>\n",
       "    </tr>\n",
       "    <tr>\n",
       "      <th>4</th>\n",
       "      <td>-1.709225</td>\n",
       "      <td>False</td>\n",
       "      <td>-3.169654</td>\n",
       "    </tr>\n",
       "    <tr>\n",
       "      <th>...</th>\n",
       "      <td>...</td>\n",
       "      <td>...</td>\n",
       "      <td>...</td>\n",
       "    </tr>\n",
       "    <tr>\n",
       "      <th>995</th>\n",
       "      <td>0.556842</td>\n",
       "      <td>True</td>\n",
       "      <td>5.359667</td>\n",
       "    </tr>\n",
       "    <tr>\n",
       "      <th>996</th>\n",
       "      <td>0.197870</td>\n",
       "      <td>False</td>\n",
       "      <td>-0.683598</td>\n",
       "    </tr>\n",
       "    <tr>\n",
       "      <th>997</th>\n",
       "      <td>-2.014307</td>\n",
       "      <td>False</td>\n",
       "      <td>-3.209927</td>\n",
       "    </tr>\n",
       "    <tr>\n",
       "      <th>998</th>\n",
       "      <td>1.054081</td>\n",
       "      <td>False</td>\n",
       "      <td>1.914296</td>\n",
       "    </tr>\n",
       "    <tr>\n",
       "      <th>999</th>\n",
       "      <td>-0.625663</td>\n",
       "      <td>True</td>\n",
       "      <td>2.707396</td>\n",
       "    </tr>\n",
       "  </tbody>\n",
       "</table>\n",
       "<p>1000 rows × 3 columns</p>\n",
       "</div>"
      ],
      "text/plain": [
       "           W0     v0         y\n",
       "0   -0.258637   True  2.405568\n",
       "1   -1.410309  False -3.276105\n",
       "2    0.373648  False  0.745694\n",
       "3   -0.890784   True  2.459542\n",
       "4   -1.709225  False -3.169654\n",
       "..        ...    ...       ...\n",
       "995  0.556842   True  5.359667\n",
       "996  0.197870  False -0.683598\n",
       "997 -2.014307  False -3.209927\n",
       "998  1.054081  False  1.914296\n",
       "999 -0.625663   True  2.707396\n",
       "\n",
       "[1000 rows x 3 columns]"
      ]
     },
     "execution_count": 2,
     "metadata": {},
     "output_type": "execute_result"
    }
   ],
   "source": [
    "data = dowhy.datasets.linear_dataset(beta=5,\n",
    "        num_common_causes=1,\n",
    "        num_instruments = 0,\n",
    "        num_samples=1000,\n",
    "        treatment_is_binary=True)\n",
    "df = data['df']\n",
    "df['y'] = df['y'] + np.random.normal(size=len(df)) # Adding noise to data. Without noise, the variance in Y|X, Z is zero, and mcmc fails.\n",
    "#data['dot_graph'] = 'digraph { v ->y;X0-> v;X0-> y;}'\n",
    "\n",
    "treatment= data[\"treatment_name\"][0]\n",
    "outcome = data[\"outcome_name\"][0]\n",
    "common_cause = data[\"common_causes_names\"][0]\n",
    "df"
   ]
  },
  {
   "cell_type": "code",
   "execution_count": 3,
   "metadata": {
    "execution": {
     "iopub.execute_input": "2022-10-19T15:58:47.650330Z",
     "iopub.status.busy": "2022-10-19T15:58:47.649990Z",
     "iopub.status.idle": "2022-10-19T15:58:47.783506Z",
     "shell.execute_reply": "2022-10-19T15:58:47.782988Z"
    }
   },
   "outputs": [
    {
     "data": {
      "text/plain": [
       "<AxesSubplot: xlabel='v0'>"
      ]
     },
     "execution_count": 3,
     "metadata": {},
     "output_type": "execute_result"
    },
    {
     "data": {
      "image/png": "[encoded data removed]",
      "text/plain": [
       "<Figure size 640x480 with 1 Axes>"
      ]
     },
     "metadata": {},
     "output_type": "display_data"
    }
   ],
   "source": [
    "# data['df'] is just a regular pandas.DataFrame\n",
    "df.causal.do(x=treatment,\n",
    "                     variable_types={treatment: 'b', outcome: 'c', common_cause: 'c'},\n",
    "                     outcome=outcome,\n",
    "                     common_causes=[common_cause],\n",
    "                     proceed_when_unidentifiable=True).groupby(treatment).mean().plot(y=outcome, kind='bar')"
   ]
  },
  {
   "cell_type": "code",
   "execution_count": 4,
   "metadata": {
    "execution": {
     "iopub.execute_input": "2022-10-19T15:58:47.786731Z",
     "iopub.status.busy": "2022-10-19T15:58:47.786384Z",
     "iopub.status.idle": "2022-10-19T15:58:47.891947Z",
     "shell.execute_reply": "2022-10-19T15:58:47.891441Z"
    }
   },
   "outputs": [
    {
     "data": {
      "text/plain": [
       "<AxesSubplot: xlabel='v0'>"
      ]
     },
     "execution_count": 4,
     "metadata": {},
     "output_type": "execute_result"
    },
    {
     "data": {
      "image/png": "[encoded data removed]",
      "text/plain": [
       "<Figure size 640x480 with 1 Axes>"
      ]
     },
     "metadata": {},
     "output_type": "display_data"
    }
   ],
   "source": [
    "df.causal.do(x={treatment: 1}, \n",
    "              variable_types={treatment:'b', outcome: 'c', common_cause: 'c'}, \n",
    "              outcome=outcome,\n",
    "              method='weighting', \n",
    "              common_causes=[common_cause],\n",
    "              proceed_when_unidentifiable=True).groupby(treatment).mean().plot(y=outcome, kind='bar')"
   ]
  },
  {
   "cell_type": "code",
   "execution_count": 5,
   "metadata": {
    "execution": {
     "iopub.execute_input": "2022-10-19T15:58:47.894922Z",
     "iopub.status.busy": "2022-10-19T15:58:47.894518Z",
     "iopub.status.idle": "2022-10-19T15:58:47.924261Z",
     "shell.execute_reply": "2022-10-19T15:58:47.923658Z"
    }
   },
   "outputs": [],
   "source": [
    "cdf_1 = df.causal.do(x={treatment: 1}, \n",
    "              variable_types={treatment: 'b', outcome: 'c', common_cause: 'c'}, \n",
    "              outcome=outcome, \n",
    "              dot_graph=data['dot_graph'],\n",
    "              proceed_when_unidentifiable=True)\n",
    "\n",
    "cdf_0 = df.causal.do(x={treatment: 0}, \n",
    "              variable_types={treatment: 'b', outcome: 'c', common_cause: 'c'}, \n",
    "              outcome=outcome, \n",
    "              dot_graph=data['dot_graph'],\n",
    "              proceed_when_unidentifiable=True)\n"
   ]
  },
  {
   "cell_type": "code",
   "execution_count": 6,
   "metadata": {
    "execution": {
     "iopub.execute_input": "2022-10-19T15:58:47.927461Z",
     "iopub.status.busy": "2022-10-19T15:58:47.927062Z",
     "iopub.status.idle": "2022-10-19T15:58:47.936945Z",
     "shell.execute_reply": "2022-10-19T15:58:47.936485Z"
    },
    "scrolled": true
   },
   "outputs": [
    {
     "data": {
      "text/html": [
       "<div>\n",
       "<style scoped>\n",
       "    .dataframe tbody tr th:only-of-type {\n",
       "        vertical-align: middle;\n",
       "    }\n",
       "\n",
       "    .dataframe tbody tr th {\n",
       "        vertical-align: top;\n",
       "    }\n",
       "\n",
       "    .dataframe thead th {\n",
       "        text-align: right;\n",
       "    }\n",
       "</style>\n",
       "<table border=\"1\" class=\"dataframe\">\n",
       "  <thead>\n",
       "    <tr style=\"text-align: right;\">\n",
       "      <th></th>\n",
       "      <th>W0</th>\n",
       "      <th>v0</th>\n",
       "      <th>y</th>\n",
       "      <th>propensity_score</th>\n",
       "      <th>weight</th>\n",
       "    </tr>\n",
       "  </thead>\n",
       "  <tbody>\n",
       "    <tr>\n",
       "      <th>0</th>\n",
       "      <td>-1.594207</td>\n",
       "      <td>False</td>\n",
       "      <td>-2.790014</td>\n",
       "      <td>0.765102</td>\n",
       "      <td>1.307015</td>\n",
       "    </tr>\n",
       "    <tr>\n",
       "      <th>1</th>\n",
       "      <td>0.408457</td>\n",
       "      <td>False</td>\n",
       "      <td>-0.184075</td>\n",
       "      <td>0.406721</td>\n",
       "      <td>2.458688</td>\n",
       "    </tr>\n",
       "    <tr>\n",
       "      <th>2</th>\n",
       "      <td>-1.413526</td>\n",
       "      <td>False</td>\n",
       "      <td>-2.396976</td>\n",
       "      <td>0.738900</td>\n",
       "      <td>1.353363</td>\n",
       "    </tr>\n",
       "    <tr>\n",
       "      <th>3</th>\n",
       "      <td>-1.028396</td>\n",
       "      <td>False</td>\n",
       "      <td>-2.326481</td>\n",
       "      <td>0.677120</td>\n",
       "      <td>1.476844</td>\n",
       "    </tr>\n",
       "    <tr>\n",
       "      <th>4</th>\n",
       "      <td>0.195549</td>\n",
       "      <td>False</td>\n",
       "      <td>0.844234</td>\n",
       "      <td>0.447232</td>\n",
       "      <td>2.235976</td>\n",
       "    </tr>\n",
       "    <tr>\n",
       "      <th>...</th>\n",
       "      <td>...</td>\n",
       "      <td>...</td>\n",
       "      <td>...</td>\n",
       "      <td>...</td>\n",
       "      <td>...</td>\n",
       "    </tr>\n",
       "    <tr>\n",
       "      <th>995</th>\n",
       "      <td>1.623951</td>\n",
       "      <td>False</td>\n",
       "      <td>1.936535</td>\n",
       "      <td>0.210255</td>\n",
       "      <td>4.756122</td>\n",
       "    </tr>\n",
       "    <tr>\n",
       "      <th>996</th>\n",
       "      <td>0.069743</td>\n",
       "      <td>False</td>\n",
       "      <td>0.662607</td>\n",
       "      <td>0.471540</td>\n",
       "      <td>2.120711</td>\n",
       "    </tr>\n",
       "    <tr>\n",
       "      <th>997</th>\n",
       "      <td>-0.485615</td>\n",
       "      <td>False</td>\n",
       "      <td>-0.372054</td>\n",
       "      <td>0.578884</td>\n",
       "      <td>1.727461</td>\n",
       "    </tr>\n",
       "    <tr>\n",
       "      <th>998</th>\n",
       "      <td>-0.110329</td>\n",
       "      <td>False</td>\n",
       "      <td>1.154404</td>\n",
       "      <td>0.506540</td>\n",
       "      <td>1.974178</td>\n",
       "    </tr>\n",
       "    <tr>\n",
       "      <th>999</th>\n",
       "      <td>0.651030</td>\n",
       "      <td>False</td>\n",
       "      <td>1.304604</td>\n",
       "      <td>0.362091</td>\n",
       "      <td>2.761734</td>\n",
       "    </tr>\n",
       "  </tbody>\n",
       "</table>\n",
       "<p>1000 rows × 5 columns</p>\n",
       "</div>"
      ],
      "text/plain": [
       "           W0     v0         y  propensity_score    weight\n",
       "0   -1.594207  False -2.790014          0.765102  1.307015\n",
       "1    0.408457  False -0.184075          0.406721  2.458688\n",
       "2   -1.413526  False -2.396976          0.738900  1.353363\n",
       "3   -1.028396  False -2.326481          0.677120  1.476844\n",
       "4    0.195549  False  0.844234          0.447232  2.235976\n",
       "..        ...    ...       ...               ...       ...\n",
       "995  1.623951  False  1.936535          0.210255  4.756122\n",
       "996  0.069743  False  0.662607          0.471540  2.120711\n",
       "997 -0.485615  False -0.372054          0.578884  1.727461\n",
       "998 -0.110329  False  1.154404          0.506540  1.974178\n",
       "999  0.651030  False  1.304604          0.362091  2.761734\n",
       "\n",
       "[1000 rows x 5 columns]"
      ]
     },
     "execution_count": 6,
     "metadata": {},
     "output_type": "execute_result"
    }
   ],
   "source": [
    "cdf_0"
   ]
  },
  {
   "cell_type": "code",
   "execution_count": 7,
   "metadata": {
    "execution": {
     "iopub.execute_input": "2022-10-19T15:58:47.939742Z",
     "iopub.status.busy": "2022-10-19T15:58:47.939248Z",
     "iopub.status.idle": "2022-10-19T15:58:47.948769Z",
     "shell.execute_reply": "2022-10-19T15:58:47.948194Z"
    }
   },
   "outputs": [
    {
     "data": {
      "text/html": [
       "<div>\n",
       "<style scoped>\n",
       "    .dataframe tbody tr th:only-of-type {\n",
       "        vertical-align: middle;\n",
       "    }\n",
       "\n",
       "    .dataframe tbody tr th {\n",
       "        vertical-align: top;\n",
       "    }\n",
       "\n",
       "    .dataframe thead th {\n",
       "        text-align: right;\n",
       "    }\n",
       "</style>\n",
       "<table border=\"1\" class=\"dataframe\">\n",
       "  <thead>\n",
       "    <tr style=\"text-align: right;\">\n",
       "      <th></th>\n",
       "      <th>W0</th>\n",
       "      <th>v0</th>\n",
       "      <th>y</th>\n",
       "      <th>propensity_score</th>\n",
       "      <th>weight</th>\n",
       "    </tr>\n",
       "  </thead>\n",
       "  <tbody>\n",
       "    <tr>\n",
       "      <th>0</th>\n",
       "      <td>0.226035</td>\n",
       "      <td>True</td>\n",
       "      <td>5.671544</td>\n",
       "      <td>0.558625</td>\n",
       "      <td>1.790110</td>\n",
       "    </tr>\n",
       "    <tr>\n",
       "      <th>1</th>\n",
       "      <td>-1.187694</td>\n",
       "      <td>True</td>\n",
       "      <td>4.186240</td>\n",
       "      <td>0.296395</td>\n",
       "      <td>3.373878</td>\n",
       "    </tr>\n",
       "    <tr>\n",
       "      <th>2</th>\n",
       "      <td>-1.906061</td>\n",
       "      <td>True</td>\n",
       "      <td>3.223932</td>\n",
       "      <td>0.194109</td>\n",
       "      <td>5.151752</td>\n",
       "    </tr>\n",
       "    <tr>\n",
       "      <th>3</th>\n",
       "      <td>0.294511</td>\n",
       "      <td>True</td>\n",
       "      <td>5.775278</td>\n",
       "      <td>0.571719</td>\n",
       "      <td>1.749110</td>\n",
       "    </tr>\n",
       "    <tr>\n",
       "      <th>4</th>\n",
       "      <td>0.310934</td>\n",
       "      <td>True</td>\n",
       "      <td>4.267306</td>\n",
       "      <td>0.574845</td>\n",
       "      <td>1.739598</td>\n",
       "    </tr>\n",
       "    <tr>\n",
       "      <th>...</th>\n",
       "      <td>...</td>\n",
       "      <td>...</td>\n",
       "      <td>...</td>\n",
       "      <td>...</td>\n",
       "      <td>...</td>\n",
       "    </tr>\n",
       "    <tr>\n",
       "      <th>995</th>\n",
       "      <td>-1.579779</td>\n",
       "      <td>True</td>\n",
       "      <td>3.511541</td>\n",
       "      <td>0.236922</td>\n",
       "      <td>4.220802</td>\n",
       "    </tr>\n",
       "    <tr>\n",
       "      <th>996</th>\n",
       "      <td>0.466419</td>\n",
       "      <td>True</td>\n",
       "      <td>5.149593</td>\n",
       "      <td>0.604115</td>\n",
       "      <td>1.655314</td>\n",
       "    </tr>\n",
       "    <tr>\n",
       "      <th>997</th>\n",
       "      <td>-0.697253</td>\n",
       "      <td>True</td>\n",
       "      <td>4.556066</td>\n",
       "      <td>0.381572</td>\n",
       "      <td>2.620740</td>\n",
       "    </tr>\n",
       "    <tr>\n",
       "      <th>998</th>\n",
       "      <td>-0.826116</td>\n",
       "      <td>True</td>\n",
       "      <td>2.889539</td>\n",
       "      <td>0.358206</td>\n",
       "      <td>2.791689</td>\n",
       "    </tr>\n",
       "    <tr>\n",
       "      <th>999</th>\n",
       "      <td>-0.900080</td>\n",
       "      <td>True</td>\n",
       "      <td>3.933218</td>\n",
       "      <td>0.345085</td>\n",
       "      <td>2.897838</td>\n",
       "    </tr>\n",
       "  </tbody>\n",
       "</table>\n",
       "<p>1000 rows × 5 columns</p>\n",
       "</div>"
      ],
      "text/plain": [
       "           W0    v0         y  propensity_score    weight\n",
       "0    0.226035  True  5.671544          0.558625  1.790110\n",
       "1   -1.187694  True  4.186240          0.296395  3.373878\n",
       "2   -1.906061  True  3.223932          0.194109  5.151752\n",
       "3    0.294511  True  5.775278          0.571719  1.749110\n",
       "4    0.310934  True  4.267306          0.574845  1.739598\n",
       "..        ...   ...       ...               ...       ...\n",
       "995 -1.579779  True  3.511541          0.236922  4.220802\n",
       "996  0.466419  True  5.149593          0.604115  1.655314\n",
       "997 -0.697253  True  4.556066          0.381572  2.620740\n",
       "998 -0.826116  True  2.889539          0.358206  2.791689\n",
       "999 -0.900080  True  3.933218          0.345085  2.897838\n",
       "\n",
       "[1000 rows x 5 columns]"
      ]
     },
     "execution_count": 7,
     "metadata": {},
     "output_type": "execute_result"
    }
   ],
   "source": [
    "cdf_1"
   ]
  },
  {
   "cell_type": "markdown",
   "metadata": {},
   "source": [
    "## Comparing the estimate to Linear Regression\n",
    "First, estimating the effect using the causal data frame, and the 95% confidence interval."
   ]
  },
  {
   "cell_type": "code",
   "execution_count": 8,
   "metadata": {
    "execution": {
     "iopub.execute_input": "2022-10-19T15:58:47.952354Z",
     "iopub.status.busy": "2022-10-19T15:58:47.951771Z",
     "iopub.status.idle": "2022-10-19T15:58:48.008335Z",
     "shell.execute_reply": "2022-10-19T15:58:48.007679Z"
    }
   },
   "outputs": [
    {
     "data": {
      "image/png": "[encoded data removed]",
      "text/latex": [
       "$\\displaystyle 4.98826341024273$"
      ],
      "text/plain": [
       "4.988263410242735"
      ]
     },
     "execution_count": 8,
     "metadata": {},
     "output_type": "execute_result"
    }
   ],
   "source": [
    "(cdf_1['y'] - cdf_0['y']).mean()"
   ]
  },
  {
   "cell_type": "code",
   "execution_count": 9,
   "metadata": {
    "execution": {
     "iopub.execute_input": "2022-10-19T15:58:48.011484Z",
     "iopub.status.busy": "2022-10-19T15:58:48.010977Z",
     "iopub.status.idle": "2022-10-19T15:58:48.030245Z",
     "shell.execute_reply": "2022-10-19T15:58:48.029663Z"
    }
   },
   "outputs": [
    {
     "data": {
      "image/png": "[encoded data removed]",
      "text/latex": [
       "$\\displaystyle 0.14779967037757$"
      ],
      "text/plain": [
       "0.14779967037757044"
      ]
     },
     "execution_count": 9,
     "metadata": {},
     "output_type": "execute_result"
    }
   ],
   "source": [
    "1.96*(cdf_1['y'] - cdf_0['y']).std() / np.sqrt(len(df))"
   ]
  },
  {
   "cell_type": "markdown",
   "metadata": {},
   "source": [
    "Comparing to the estimate from OLS."
   ]
  },
  {
   "cell_type": "code",
   "execution_count": 10,
   "metadata": {
    "execution": {
     "iopub.execute_input": "2022-10-19T15:58:48.033168Z",
     "iopub.status.busy": "2022-10-19T15:58:48.032667Z",
     "iopub.status.idle": "2022-10-19T15:58:48.047332Z",
     "shell.execute_reply": "2022-10-19T15:58:48.046759Z"
    }
   },
   "outputs": [
    {
     "data": {
      "text/html": [
       "<table class=\"simpletable\">\n",
       "<caption>OLS Regression Results</caption>\n",
       "<tr>\n",
       "  <th>Dep. Variable:</th>            <td>y</td>        <th>  R-squared (uncentered):</th>      <td>   0.929</td>\n",
       "</tr>\n",
       "<tr>\n",
       "  <th>Model:</th>                   <td>OLS</td>       <th>  Adj. R-squared (uncentered):</th> <td>   0.929</td>\n",
       "</tr>\n",
       "<tr>\n",
       "  <th>Method:</th>             <td>Least Squares</td>  <th>  F-statistic:       </th>          <td>   6538.</td>\n",
       "</tr>\n",
       "<tr>\n",
       "  <th>Date:</th>             <td>Wed, 19 Oct 2022</td> <th>  Prob (F-statistic):</th>           <td>  0.00</td> \n",
       "</tr>\n",
       "<tr>\n",
       "  <th>Time:</th>                 <td>15:58:48</td>     <th>  Log-Likelihood:    </th>          <td> -1415.8</td>\n",
       "</tr>\n",
       "<tr>\n",
       "  <th>No. Observations:</th>      <td>  1000</td>      <th>  AIC:               </th>          <td>   2836.</td>\n",
       "</tr>\n",
       "<tr>\n",
       "  <th>Df Residuals:</th>          <td>   998</td>      <th>  BIC:               </th>          <td>   2845.</td>\n",
       "</tr>\n",
       "<tr>\n",
       "  <th>Df Model:</th>              <td>     2</td>      <th>                     </th>              <td> </td>   \n",
       "</tr>\n",
       "<tr>\n",
       "  <th>Covariance Type:</th>      <td>nonrobust</td>    <th>                     </th>              <td> </td>   \n",
       "</tr>\n",
       "</table>\n",
       "<table class=\"simpletable\">\n",
       "<tr>\n",
       "   <td></td>     <th>coef</th>     <th>std err</th>      <th>t</th>      <th>P>|t|</th>  <th>[0.025</th>    <th>0.975]</th>  \n",
       "</tr>\n",
       "<tr>\n",
       "  <th>x1</th> <td>    1.4638</td> <td>    0.029</td> <td>   50.726</td> <td> 0.000</td> <td>    1.407</td> <td>    1.520</td>\n",
       "</tr>\n",
       "<tr>\n",
       "  <th>x2</th> <td>    4.9404</td> <td>    0.048</td> <td>  103.820</td> <td> 0.000</td> <td>    4.847</td> <td>    5.034</td>\n",
       "</tr>\n",
       "</table>\n",
       "<table class=\"simpletable\">\n",
       "<tr>\n",
       "  <th>Omnibus:</th>       <td> 3.756</td> <th>  Durbin-Watson:     </th> <td>   2.064</td>\n",
       "</tr>\n",
       "<tr>\n",
       "  <th>Prob(Omnibus):</th> <td> 0.153</td> <th>  Jarque-Bera (JB):  </th> <td>   3.618</td>\n",
       "</tr>\n",
       "<tr>\n",
       "  <th>Skew:</th>          <td>-0.140</td> <th>  Prob(JB):          </th> <td>   0.164</td>\n",
       "</tr>\n",
       "<tr>\n",
       "  <th>Kurtosis:</th>      <td> 3.091</td> <th>  Cond. No.          </th> <td>    1.65</td>\n",
       "</tr>\n",
       "</table><br/><br/>Notes:<br/>[1] R² is computed without centering (uncentered) since the model does not contain a constant.<br/>[2] Standard Errors assume that the covariance matrix of the errors is correctly specified."
      ],
      "text/plain": [
       "<class 'statsmodels.iolib.summary.Summary'>\n",
       "\"\"\"\n",
       "                                 OLS Regression Results                                \n",
       "=======================================================================================\n",
       "Dep. Variable:                      y   R-squared (uncentered):                   0.929\n",
       "Model:                            OLS   Adj. R-squared (uncentered):              0.929\n",
       "Method:                 Least Squares   F-statistic:                              6538.\n",
       "Date:                Wed, 19 Oct 2022   Prob (F-statistic):                        0.00\n",
       "Time:                        15:58:48   Log-Likelihood:                         -1415.8\n",
       "No. Observations:                1000   AIC:                                      2836.\n",
       "Df Residuals:                     998   BIC:                                      2845.\n",
       "Df Model:                           2                                                  \n",
       "Covariance Type:            nonrobust                                                  \n",
       "==============================================================================\n",
       "                 coef    std err          t      P>|t|      [0.025      0.975]\n",
       "------------------------------------------------------------------------------\n",
       "x1             1.4638      0.029     50.726      0.000       1.407       1.520\n",
       "x2             4.9404      0.048    103.820      0.000       4.847       5.034\n",
       "==============================================================================\n",
       "Omnibus:                        3.756   Durbin-Watson:                   2.064\n",
       "Prob(Omnibus):                  0.153   Jarque-Bera (JB):                3.618\n",
       "Skew:                          -0.140   Prob(JB):                        0.164\n",
       "Kurtosis:                       3.091   Cond. No.                         1.65\n",
       "==============================================================================\n",
       "\n",
       "Notes:\n",
       "[1] R² is computed without centering (uncentered) since the model does not contain a constant.\n",
       "[2] Standard Errors assume that the covariance matrix of the errors is correctly specified.\n",
       "\"\"\""
      ]
     },
     "execution_count": 10,
     "metadata": {},
     "output_type": "execute_result"
    }
   ],
   "source": [
    "model = OLS(np.asarray(df[outcome]), np.asarray(df[[common_cause, treatment]], dtype=np.float64))\n",
    "result = model.fit()\n",
    "result.summary()"
   ]
  }
 ],
 "metadata": {
  "kernelspec": {
   "display_name": "Python 3",
   "language": "python",
   "name": "python3"
  },
  "language_info": {
   "codemirror_mode": {
    "name": "ipython",
    "version": 3
   },
   "file_extension": ".py",
   "mimetype": "text/x-python",
   "name": "python",
   "nbconvert_exporter": "python",
   "pygments_lexer": "ipython3",
   "version": "3.8.10"
  },
  "toc": {
   "base_numbering": 1,
   "nav_menu": {},
   "number_sections": false,
   "sideBar": true,
   "skip_h1_title": true,
   "title_cell": "Table of Contents",
   "title_sidebar": "Contents",
   "toc_cell": false,
   "toc_position": {},
   "toc_section_display": true,
   "toc_window_display": false
  }
 },
 "nbformat": 4,
 "nbformat_minor": 4
}
