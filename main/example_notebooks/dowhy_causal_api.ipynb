{
 "cells": [
  {
   "cell_type": "markdown",
   "metadata": {},
   "source": [
    "# Demo for the DoWhy causal API\n",
    "We show a simple example of adding a causal extension to any dataframe. "
   ]
  },
  {
   "cell_type": "code",
   "execution_count": 1,
   "metadata": {
    "execution": {
     "iopub.execute_input": "2022-10-17T15:14:48.737627Z",
     "iopub.status.busy": "2022-10-17T15:14:48.737296Z",
     "iopub.status.idle": "2022-10-17T15:14:50.870133Z",
     "shell.execute_reply": "2022-10-17T15:14:50.869158Z"
    }
   },
   "outputs": [],
   "source": [
    "import dowhy.datasets\n",
    "import dowhy.api\n",
    "\n",
    "import numpy as np\n",
    "import pandas as pd\n",
    "\n",
    "from statsmodels.api import OLS"
   ]
  },
  {
   "cell_type": "code",
   "execution_count": 2,
   "metadata": {
    "execution": {
     "iopub.execute_input": "2022-10-17T15:14:50.874693Z",
     "iopub.status.busy": "2022-10-17T15:14:50.874260Z",
     "iopub.status.idle": "2022-10-17T15:14:50.922552Z",
     "shell.execute_reply": "2022-10-17T15:14:50.921927Z"
    }
   },
   "outputs": [
    {
     "data": {
      "text/html": [
       "<div>\n",
       "<style scoped>\n",
       "    .dataframe tbody tr th:only-of-type {\n",
       "        vertical-align: middle;\n",
       "    }\n",
       "\n",
       "    .dataframe tbody tr th {\n",
       "        vertical-align: top;\n",
       "    }\n",
       "\n",
       "    .dataframe thead th {\n",
       "        text-align: right;\n",
       "    }\n",
       "</style>\n",
       "<table border=\"1\" class=\"dataframe\">\n",
       "  <thead>\n",
       "    <tr style=\"text-align: right;\">\n",
       "      <th></th>\n",
       "      <th>W0</th>\n",
       "      <th>v0</th>\n",
       "      <th>y</th>\n",
       "    </tr>\n",
       "  </thead>\n",
       "  <tbody>\n",
       "    <tr>\n",
       "      <th>0</th>\n",
       "      <td>-0.166896</td>\n",
       "      <td>False</td>\n",
       "      <td>-1.221893</td>\n",
       "    </tr>\n",
       "    <tr>\n",
       "      <th>1</th>\n",
       "      <td>-0.437662</td>\n",
       "      <td>False</td>\n",
       "      <td>-0.601438</td>\n",
       "    </tr>\n",
       "    <tr>\n",
       "      <th>2</th>\n",
       "      <td>-1.436948</td>\n",
       "      <td>False</td>\n",
       "      <td>-1.757200</td>\n",
       "    </tr>\n",
       "    <tr>\n",
       "      <th>3</th>\n",
       "      <td>-0.493307</td>\n",
       "      <td>False</td>\n",
       "      <td>-0.776904</td>\n",
       "    </tr>\n",
       "    <tr>\n",
       "      <th>4</th>\n",
       "      <td>-0.510537</td>\n",
       "      <td>False</td>\n",
       "      <td>-2.276785</td>\n",
       "    </tr>\n",
       "    <tr>\n",
       "      <th>...</th>\n",
       "      <td>...</td>\n",
       "      <td>...</td>\n",
       "      <td>...</td>\n",
       "    </tr>\n",
       "    <tr>\n",
       "      <th>995</th>\n",
       "      <td>-0.424548</td>\n",
       "      <td>True</td>\n",
       "      <td>3.172706</td>\n",
       "    </tr>\n",
       "    <tr>\n",
       "      <th>996</th>\n",
       "      <td>-2.189782</td>\n",
       "      <td>False</td>\n",
       "      <td>-5.593129</td>\n",
       "    </tr>\n",
       "    <tr>\n",
       "      <th>997</th>\n",
       "      <td>-1.442641</td>\n",
       "      <td>False</td>\n",
       "      <td>-1.686951</td>\n",
       "    </tr>\n",
       "    <tr>\n",
       "      <th>998</th>\n",
       "      <td>-0.465033</td>\n",
       "      <td>False</td>\n",
       "      <td>-1.085073</td>\n",
       "    </tr>\n",
       "    <tr>\n",
       "      <th>999</th>\n",
       "      <td>0.446444</td>\n",
       "      <td>True</td>\n",
       "      <td>5.743282</td>\n",
       "    </tr>\n",
       "  </tbody>\n",
       "</table>\n",
       "<p>1000 rows × 3 columns</p>\n",
       "</div>"
      ],
      "text/plain": [
       "           W0     v0         y\n",
       "0   -0.166896  False -1.221893\n",
       "1   -0.437662  False -0.601438\n",
       "2   -1.436948  False -1.757200\n",
       "3   -0.493307  False -0.776904\n",
       "4   -0.510537  False -2.276785\n",
       "..        ...    ...       ...\n",
       "995 -0.424548   True  3.172706\n",
       "996 -2.189782  False -5.593129\n",
       "997 -1.442641  False -1.686951\n",
       "998 -0.465033  False -1.085073\n",
       "999  0.446444   True  5.743282\n",
       "\n",
       "[1000 rows x 3 columns]"
      ]
     },
     "execution_count": 2,
     "metadata": {},
     "output_type": "execute_result"
    }
   ],
   "source": [
    "data = dowhy.datasets.linear_dataset(beta=5,\n",
    "        num_common_causes=1,\n",
    "        num_instruments = 0,\n",
    "        num_samples=1000,\n",
    "        treatment_is_binary=True)\n",
    "df = data['df']\n",
    "df['y'] = df['y'] + np.random.normal(size=len(df)) # Adding noise to data. Without noise, the variance in Y|X, Z is zero, and mcmc fails.\n",
    "#data['dot_graph'] = 'digraph { v ->y;X0-> v;X0-> y;}'\n",
    "\n",
    "treatment= data[\"treatment_name\"][0]\n",
    "outcome = data[\"outcome_name\"][0]\n",
    "common_cause = data[\"common_causes_names\"][0]\n",
    "df"
   ]
  },
  {
   "cell_type": "code",
   "execution_count": 3,
   "metadata": {
    "execution": {
     "iopub.execute_input": "2022-10-17T15:14:50.925814Z",
     "iopub.status.busy": "2022-10-17T15:14:50.925539Z",
     "iopub.status.idle": "2022-10-17T15:14:51.090529Z",
     "shell.execute_reply": "2022-10-17T15:14:51.089940Z"
    }
   },
   "outputs": [
    {
     "data": {
      "text/plain": [
       "<AxesSubplot: xlabel='v0'>"
      ]
     },
     "execution_count": 3,
     "metadata": {},
     "output_type": "execute_result"
    },
    {
     "data": {
      "image/png": "[encoded data removed]",
      "text/plain": [
       "<Figure size 640x480 with 1 Axes>"
      ]
     },
     "metadata": {},
     "output_type": "display_data"
    }
   ],
   "source": [
    "# data['df'] is just a regular pandas.DataFrame\n",
    "df.causal.do(x=treatment,\n",
    "                     variable_types={treatment: 'b', outcome: 'c', common_cause: 'c'},\n",
    "                     outcome=outcome,\n",
    "                     common_causes=[common_cause],\n",
    "                     proceed_when_unidentifiable=True).groupby(treatment).mean().plot(y=outcome, kind='bar')"
   ]
  },
  {
   "cell_type": "code",
   "execution_count": 4,
   "metadata": {
    "execution": {
     "iopub.execute_input": "2022-10-17T15:14:51.093960Z",
     "iopub.status.busy": "2022-10-17T15:14:51.093474Z",
     "iopub.status.idle": "2022-10-17T15:14:51.236252Z",
     "shell.execute_reply": "2022-10-17T15:14:51.235595Z"
    }
   },
   "outputs": [
    {
     "data": {
      "text/plain": [
       "<AxesSubplot: xlabel='v0'>"
      ]
     },
     "execution_count": 4,
     "metadata": {},
     "output_type": "execute_result"
    },
    {
     "data": {
      "image/png": "[encoded data removed]",
      "text/plain": [
       "<Figure size 640x480 with 1 Axes>"
      ]
     },
     "metadata": {},
     "output_type": "display_data"
    }
   ],
   "source": [
    "df.causal.do(x={treatment: 1}, \n",
    "              variable_types={treatment:'b', outcome: 'c', common_cause: 'c'}, \n",
    "              outcome=outcome,\n",
    "              method='weighting', \n",
    "              common_causes=[common_cause],\n",
    "              proceed_when_unidentifiable=True).groupby(treatment).mean().plot(y=outcome, kind='bar')"
   ]
  },
  {
   "cell_type": "code",
   "execution_count": 5,
   "metadata": {
    "execution": {
     "iopub.execute_input": "2022-10-17T15:14:51.239532Z",
     "iopub.status.busy": "2022-10-17T15:14:51.239241Z",
     "iopub.status.idle": "2022-10-17T15:14:51.275758Z",
     "shell.execute_reply": "2022-10-17T15:14:51.275065Z"
    }
   },
   "outputs": [],
   "source": [
    "cdf_1 = df.causal.do(x={treatment: 1}, \n",
    "              variable_types={treatment: 'b', outcome: 'c', common_cause: 'c'}, \n",
    "              outcome=outcome, \n",
    "              dot_graph=data['dot_graph'],\n",
    "              proceed_when_unidentifiable=True)\n",
    "\n",
    "cdf_0 = df.causal.do(x={treatment: 0}, \n",
    "              variable_types={treatment: 'b', outcome: 'c', common_cause: 'c'}, \n",
    "              outcome=outcome, \n",
    "              dot_graph=data['dot_graph'],\n",
    "              proceed_when_unidentifiable=True)\n"
   ]
  },
  {
   "cell_type": "code",
   "execution_count": 6,
   "metadata": {
    "execution": {
     "iopub.execute_input": "2022-10-17T15:14:51.279398Z",
     "iopub.status.busy": "2022-10-17T15:14:51.278885Z",
     "iopub.status.idle": "2022-10-17T15:14:51.293847Z",
     "shell.execute_reply": "2022-10-17T15:14:51.293221Z"
    },
    "scrolled": true
   },
   "outputs": [
    {
     "data": {
      "text/html": [
       "<div>\n",
       "<style scoped>\n",
       "    .dataframe tbody tr th:only-of-type {\n",
       "        vertical-align: middle;\n",
       "    }\n",
       "\n",
       "    .dataframe tbody tr th {\n",
       "        vertical-align: top;\n",
       "    }\n",
       "\n",
       "    .dataframe thead th {\n",
       "        text-align: right;\n",
       "    }\n",
       "</style>\n",
       "<table border=\"1\" class=\"dataframe\">\n",
       "  <thead>\n",
       "    <tr style=\"text-align: right;\">\n",
       "      <th></th>\n",
       "      <th>W0</th>\n",
       "      <th>v0</th>\n",
       "      <th>y</th>\n",
       "      <th>propensity_score</th>\n",
       "      <th>weight</th>\n",
       "    </tr>\n",
       "  </thead>\n",
       "  <tbody>\n",
       "    <tr>\n",
       "      <th>0</th>\n",
       "      <td>-0.727373</td>\n",
       "      <td>False</td>\n",
       "      <td>-2.044442</td>\n",
       "      <td>0.704567</td>\n",
       "      <td>1.419311</td>\n",
       "    </tr>\n",
       "    <tr>\n",
       "      <th>1</th>\n",
       "      <td>-0.100094</td>\n",
       "      <td>False</td>\n",
       "      <td>-0.768654</td>\n",
       "      <td>0.524367</td>\n",
       "      <td>1.907061</td>\n",
       "    </tr>\n",
       "    <tr>\n",
       "      <th>2</th>\n",
       "      <td>-0.229798</td>\n",
       "      <td>False</td>\n",
       "      <td>-1.606128</td>\n",
       "      <td>0.563921</td>\n",
       "      <td>1.773297</td>\n",
       "    </tr>\n",
       "    <tr>\n",
       "      <th>3</th>\n",
       "      <td>-2.188735</td>\n",
       "      <td>False</td>\n",
       "      <td>-4.935452</td>\n",
       "      <td>0.935034</td>\n",
       "      <td>1.069480</td>\n",
       "    </tr>\n",
       "    <tr>\n",
       "      <th>4</th>\n",
       "      <td>0.238044</td>\n",
       "      <td>False</td>\n",
       "      <td>-0.068065</td>\n",
       "      <td>0.421069</td>\n",
       "      <td>2.374908</td>\n",
       "    </tr>\n",
       "    <tr>\n",
       "      <th>...</th>\n",
       "      <td>...</td>\n",
       "      <td>...</td>\n",
       "      <td>...</td>\n",
       "      <td>...</td>\n",
       "      <td>...</td>\n",
       "    </tr>\n",
       "    <tr>\n",
       "      <th>995</th>\n",
       "      <td>-1.236437</td>\n",
       "      <td>False</td>\n",
       "      <td>-2.731985</td>\n",
       "      <td>0.816876</td>\n",
       "      <td>1.224175</td>\n",
       "    </tr>\n",
       "    <tr>\n",
       "      <th>996</th>\n",
       "      <td>-0.442759</td>\n",
       "      <td>False</td>\n",
       "      <td>0.155065</td>\n",
       "      <td>0.626925</td>\n",
       "      <td>1.595087</td>\n",
       "    </tr>\n",
       "    <tr>\n",
       "      <th>997</th>\n",
       "      <td>-1.304271</td>\n",
       "      <td>False</td>\n",
       "      <td>-2.091874</td>\n",
       "      <td>0.829030</td>\n",
       "      <td>1.206229</td>\n",
       "    </tr>\n",
       "    <tr>\n",
       "      <th>998</th>\n",
       "      <td>-0.906838</td>\n",
       "      <td>False</td>\n",
       "      <td>-2.258631</td>\n",
       "      <td>0.748362</td>\n",
       "      <td>1.336251</td>\n",
       "    </tr>\n",
       "    <tr>\n",
       "      <th>999</th>\n",
       "      <td>0.472092</td>\n",
       "      <td>False</td>\n",
       "      <td>2.092708</td>\n",
       "      <td>0.352908</td>\n",
       "      <td>2.833601</td>\n",
       "    </tr>\n",
       "  </tbody>\n",
       "</table>\n",
       "<p>1000 rows × 5 columns</p>\n",
       "</div>"
      ],
      "text/plain": [
       "           W0     v0         y  propensity_score    weight\n",
       "0   -0.727373  False -2.044442          0.704567  1.419311\n",
       "1   -0.100094  False -0.768654          0.524367  1.907061\n",
       "2   -0.229798  False -1.606128          0.563921  1.773297\n",
       "3   -2.188735  False -4.935452          0.935034  1.069480\n",
       "4    0.238044  False -0.068065          0.421069  2.374908\n",
       "..        ...    ...       ...               ...       ...\n",
       "995 -1.236437  False -2.731985          0.816876  1.224175\n",
       "996 -0.442759  False  0.155065          0.626925  1.595087\n",
       "997 -1.304271  False -2.091874          0.829030  1.206229\n",
       "998 -0.906838  False -2.258631          0.748362  1.336251\n",
       "999  0.472092  False  2.092708          0.352908  2.833601\n",
       "\n",
       "[1000 rows x 5 columns]"
      ]
     },
     "execution_count": 6,
     "metadata": {},
     "output_type": "execute_result"
    }
   ],
   "source": [
    "cdf_0"
   ]
  },
  {
   "cell_type": "code",
   "execution_count": 7,
   "metadata": {
    "execution": {
     "iopub.execute_input": "2022-10-17T15:14:51.297146Z",
     "iopub.status.busy": "2022-10-17T15:14:51.296642Z",
     "iopub.status.idle": "2022-10-17T15:14:51.308150Z",
     "shell.execute_reply": "2022-10-17T15:14:51.307453Z"
    }
   },
   "outputs": [
    {
     "data": {
      "text/html": [
       "<div>\n",
       "<style scoped>\n",
       "    .dataframe tbody tr th:only-of-type {\n",
       "        vertical-align: middle;\n",
       "    }\n",
       "\n",
       "    .dataframe tbody tr th {\n",
       "        vertical-align: top;\n",
       "    }\n",
       "\n",
       "    .dataframe thead th {\n",
       "        text-align: right;\n",
       "    }\n",
       "</style>\n",
       "<table border=\"1\" class=\"dataframe\">\n",
       "  <thead>\n",
       "    <tr style=\"text-align: right;\">\n",
       "      <th></th>\n",
       "      <th>W0</th>\n",
       "      <th>v0</th>\n",
       "      <th>y</th>\n",
       "      <th>propensity_score</th>\n",
       "      <th>weight</th>\n",
       "    </tr>\n",
       "  </thead>\n",
       "  <tbody>\n",
       "    <tr>\n",
       "      <th>0</th>\n",
       "      <td>0.157632</td>\n",
       "      <td>True</td>\n",
       "      <td>4.997642</td>\n",
       "      <td>0.554649</td>\n",
       "      <td>1.802941</td>\n",
       "    </tr>\n",
       "    <tr>\n",
       "      <th>1</th>\n",
       "      <td>-0.676461</td>\n",
       "      <td>True</td>\n",
       "      <td>3.399576</td>\n",
       "      <td>0.308633</td>\n",
       "      <td>3.240093</td>\n",
       "    </tr>\n",
       "    <tr>\n",
       "      <th>2</th>\n",
       "      <td>-0.173843</td>\n",
       "      <td>True</td>\n",
       "      <td>4.789088</td>\n",
       "      <td>0.453073</td>\n",
       "      <td>2.207151</td>\n",
       "    </tr>\n",
       "    <tr>\n",
       "      <th>3</th>\n",
       "      <td>0.114869</td>\n",
       "      <td>True</td>\n",
       "      <td>4.764298</td>\n",
       "      <td>0.541622</td>\n",
       "      <td>1.846307</td>\n",
       "    </tr>\n",
       "    <tr>\n",
       "      <th>4</th>\n",
       "      <td>-3.116843</td>\n",
       "      <td>True</td>\n",
       "      <td>-3.316126</td>\n",
       "      <td>0.021703</td>\n",
       "      <td>46.076259</td>\n",
       "    </tr>\n",
       "    <tr>\n",
       "      <th>...</th>\n",
       "      <td>...</td>\n",
       "      <td>...</td>\n",
       "      <td>...</td>\n",
       "      <td>...</td>\n",
       "      <td>...</td>\n",
       "    </tr>\n",
       "    <tr>\n",
       "      <th>995</th>\n",
       "      <td>0.544168</td>\n",
       "      <td>True</td>\n",
       "      <td>7.022507</td>\n",
       "      <td>0.667065</td>\n",
       "      <td>1.499104</td>\n",
       "    </tr>\n",
       "    <tr>\n",
       "      <th>996</th>\n",
       "      <td>-0.202201</td>\n",
       "      <td>True</td>\n",
       "      <td>4.535001</td>\n",
       "      <td>0.444444</td>\n",
       "      <td>2.250002</td>\n",
       "    </tr>\n",
       "    <tr>\n",
       "      <th>997</th>\n",
       "      <td>0.076180</td>\n",
       "      <td>True</td>\n",
       "      <td>4.161181</td>\n",
       "      <td>0.529785</td>\n",
       "      <td>1.887557</td>\n",
       "    </tr>\n",
       "    <tr>\n",
       "      <th>998</th>\n",
       "      <td>0.656732</td>\n",
       "      <td>True</td>\n",
       "      <td>7.091007</td>\n",
       "      <td>0.697074</td>\n",
       "      <td>1.434569</td>\n",
       "    </tr>\n",
       "    <tr>\n",
       "      <th>999</th>\n",
       "      <td>2.382977</td>\n",
       "      <td>True</td>\n",
       "      <td>9.935911</td>\n",
       "      <td>0.950584</td>\n",
       "      <td>1.051985</td>\n",
       "    </tr>\n",
       "  </tbody>\n",
       "</table>\n",
       "<p>1000 rows × 5 columns</p>\n",
       "</div>"
      ],
      "text/plain": [
       "           W0    v0         y  propensity_score     weight\n",
       "0    0.157632  True  4.997642          0.554649   1.802941\n",
       "1   -0.676461  True  3.399576          0.308633   3.240093\n",
       "2   -0.173843  True  4.789088          0.453073   2.207151\n",
       "3    0.114869  True  4.764298          0.541622   1.846307\n",
       "4   -3.116843  True -3.316126          0.021703  46.076259\n",
       "..        ...   ...       ...               ...        ...\n",
       "995  0.544168  True  7.022507          0.667065   1.499104\n",
       "996 -0.202201  True  4.535001          0.444444   2.250002\n",
       "997  0.076180  True  4.161181          0.529785   1.887557\n",
       "998  0.656732  True  7.091007          0.697074   1.434569\n",
       "999  2.382977  True  9.935911          0.950584   1.051985\n",
       "\n",
       "[1000 rows x 5 columns]"
      ]
     },
     "execution_count": 7,
     "metadata": {},
     "output_type": "execute_result"
    }
   ],
   "source": [
    "cdf_1"
   ]
  },
  {
   "cell_type": "markdown",
   "metadata": {},
   "source": [
    "## Comparing the estimate to Linear Regression\n",
    "First, estimating the effect using the causal data frame, and the 95% confidence interval."
   ]
  },
  {
   "cell_type": "code",
   "execution_count": 8,
   "metadata": {
    "execution": {
     "iopub.execute_input": "2022-10-17T15:14:51.312057Z",
     "iopub.status.busy": "2022-10-17T15:14:51.311494Z",
     "iopub.status.idle": "2022-10-17T15:14:51.376987Z",
     "shell.execute_reply": "2022-10-17T15:14:51.375892Z"
    }
   },
   "outputs": [
    {
     "data": {
      "image/png": "[encoded data removed]",
      "text/latex": [
       "$\\displaystyle 4.76755332773273$"
      ],
      "text/plain": [
       "4.767553327732732"
      ]
     },
     "execution_count": 8,
     "metadata": {},
     "output_type": "execute_result"
    }
   ],
   "source": [
    "(cdf_1['y'] - cdf_0['y']).mean()"
   ]
  },
  {
   "cell_type": "code",
   "execution_count": 9,
   "metadata": {
    "execution": {
     "iopub.execute_input": "2022-10-17T15:14:51.380531Z",
     "iopub.status.busy": "2022-10-17T15:14:51.379962Z",
     "iopub.status.idle": "2022-10-17T15:14:51.404201Z",
     "shell.execute_reply": "2022-10-17T15:14:51.403354Z"
    }
   },
   "outputs": [
    {
     "data": {
      "image/png": "[encoded data removed]",
      "text/latex": [
       "$\\displaystyle 0.206624987211129$"
      ],
      "text/plain": [
       "0.20662498721112926"
      ]
     },
     "execution_count": 9,
     "metadata": {},
     "output_type": "execute_result"
    }
   ],
   "source": [
    "1.96*(cdf_1['y'] - cdf_0['y']).std() / np.sqrt(len(df))"
   ]
  },
  {
   "cell_type": "markdown",
   "metadata": {},
   "source": [
    "Comparing to the estimate from OLS."
   ]
  },
  {
   "cell_type": "code",
   "execution_count": 10,
   "metadata": {
    "execution": {
     "iopub.execute_input": "2022-10-17T15:14:51.407846Z",
     "iopub.status.busy": "2022-10-17T15:14:51.407424Z",
     "iopub.status.idle": "2022-10-17T15:14:51.426583Z",
     "shell.execute_reply": "2022-10-17T15:14:51.425925Z"
    }
   },
   "outputs": [
    {
     "data": {
      "text/html": [
       "<table class=\"simpletable\">\n",
       "<caption>OLS Regression Results</caption>\n",
       "<tr>\n",
       "  <th>Dep. Variable:</th>            <td>y</td>        <th>  R-squared (uncentered):</th>      <td>   0.939</td>\n",
       "</tr>\n",
       "<tr>\n",
       "  <th>Model:</th>                   <td>OLS</td>       <th>  Adj. R-squared (uncentered):</th> <td>   0.938</td>\n",
       "</tr>\n",
       "<tr>\n",
       "  <th>Method:</th>             <td>Least Squares</td>  <th>  F-statistic:       </th>          <td>   7616.</td>\n",
       "</tr>\n",
       "<tr>\n",
       "  <th>Date:</th>             <td>Mon, 17 Oct 2022</td> <th>  Prob (F-statistic):</th>           <td>  0.00</td> \n",
       "</tr>\n",
       "<tr>\n",
       "  <th>Time:</th>                 <td>15:14:51</td>     <th>  Log-Likelihood:    </th>          <td> -1402.6</td>\n",
       "</tr>\n",
       "<tr>\n",
       "  <th>No. Observations:</th>      <td>  1000</td>      <th>  AIC:               </th>          <td>   2809.</td>\n",
       "</tr>\n",
       "<tr>\n",
       "  <th>Df Residuals:</th>          <td>   998</td>      <th>  BIC:               </th>          <td>   2819.</td>\n",
       "</tr>\n",
       "<tr>\n",
       "  <th>Df Model:</th>              <td>     2</td>      <th>                     </th>              <td> </td>   \n",
       "</tr>\n",
       "<tr>\n",
       "  <th>Covariance Type:</th>      <td>nonrobust</td>    <th>                     </th>              <td> </td>   \n",
       "</tr>\n",
       "</table>\n",
       "<table class=\"simpletable\">\n",
       "<tr>\n",
       "   <td></td>     <th>coef</th>     <th>std err</th>      <th>t</th>      <th>P>|t|</th>  <th>[0.025</th>    <th>0.975]</th>  \n",
       "</tr>\n",
       "<tr>\n",
       "  <th>x1</th> <td>    2.0064</td> <td>    0.026</td> <td>   75.812</td> <td> 0.000</td> <td>    1.954</td> <td>    2.058</td>\n",
       "</tr>\n",
       "<tr>\n",
       "  <th>x2</th> <td>    4.9750</td> <td>    0.051</td> <td>   96.643</td> <td> 0.000</td> <td>    4.874</td> <td>    5.076</td>\n",
       "</tr>\n",
       "</table>\n",
       "<table class=\"simpletable\">\n",
       "<tr>\n",
       "  <th>Omnibus:</th>       <td> 3.911</td> <th>  Durbin-Watson:     </th> <td>   2.002</td>\n",
       "</tr>\n",
       "<tr>\n",
       "  <th>Prob(Omnibus):</th> <td> 0.142</td> <th>  Jarque-Bera (JB):  </th> <td>   3.767</td>\n",
       "</tr>\n",
       "<tr>\n",
       "  <th>Skew:</th>          <td> 0.135</td> <th>  Prob(JB):          </th> <td>   0.152</td>\n",
       "</tr>\n",
       "<tr>\n",
       "  <th>Kurtosis:</th>      <td> 3.134</td> <th>  Cond. No.          </th> <td>    1.95</td>\n",
       "</tr>\n",
       "</table><br/><br/>Notes:<br/>[1] R² is computed without centering (uncentered) since the model does not contain a constant.<br/>[2] Standard Errors assume that the covariance matrix of the errors is correctly specified."
      ],
      "text/plain": [
       "<class 'statsmodels.iolib.summary.Summary'>\n",
       "\"\"\"\n",
       "                                 OLS Regression Results                                \n",
       "=======================================================================================\n",
       "Dep. Variable:                      y   R-squared (uncentered):                   0.939\n",
       "Model:                            OLS   Adj. R-squared (uncentered):              0.938\n",
       "Method:                 Least Squares   F-statistic:                              7616.\n",
       "Date:                Mon, 17 Oct 2022   Prob (F-statistic):                        0.00\n",
       "Time:                        15:14:51   Log-Likelihood:                         -1402.6\n",
       "No. Observations:                1000   AIC:                                      2809.\n",
       "Df Residuals:                     998   BIC:                                      2819.\n",
       "Df Model:                           2                                                  \n",
       "Covariance Type:            nonrobust                                                  \n",
       "==============================================================================\n",
       "                 coef    std err          t      P>|t|      [0.025      0.975]\n",
       "------------------------------------------------------------------------------\n",
       "x1             2.0064      0.026     75.812      0.000       1.954       2.058\n",
       "x2             4.9750      0.051     96.643      0.000       4.874       5.076\n",
       "==============================================================================\n",
       "Omnibus:                        3.911   Durbin-Watson:                   2.002\n",
       "Prob(Omnibus):                  0.142   Jarque-Bera (JB):                3.767\n",
       "Skew:                           0.135   Prob(JB):                        0.152\n",
       "Kurtosis:                       3.134   Cond. No.                         1.95\n",
       "==============================================================================\n",
       "\n",
       "Notes:\n",
       "[1] R² is computed without centering (uncentered) since the model does not contain a constant.\n",
       "[2] Standard Errors assume that the covariance matrix of the errors is correctly specified.\n",
       "\"\"\""
      ]
     },
     "execution_count": 10,
     "metadata": {},
     "output_type": "execute_result"
    }
   ],
   "source": [
    "model = OLS(np.asarray(df[outcome]), np.asarray(df[[common_cause, treatment]], dtype=np.float64))\n",
    "result = model.fit()\n",
    "result.summary()"
   ]
  }
 ],
 "metadata": {
  "kernelspec": {
   "display_name": "Python 3",
   "language": "python",
   "name": "python3"
  },
  "language_info": {
   "codemirror_mode": {
    "name": "ipython",
    "version": 3
   },
   "file_extension": ".py",
   "mimetype": "text/x-python",
   "name": "python",
   "nbconvert_exporter": "python",
   "pygments_lexer": "ipython3",
   "version": "3.8.10"
  },
  "toc": {
   "base_numbering": 1,
   "nav_menu": {},
   "number_sections": false,
   "sideBar": true,
   "skip_h1_title": true,
   "title_cell": "Table of Contents",
   "title_sidebar": "Contents",
   "toc_cell": false,
   "toc_position": {},
   "toc_section_display": true,
   "toc_window_display": false
  }
 },
 "nbformat": 4,
 "nbformat_minor": 4
}
