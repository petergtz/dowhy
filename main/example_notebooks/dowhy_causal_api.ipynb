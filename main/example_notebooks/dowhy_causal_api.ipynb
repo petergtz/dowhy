{
 "cells": [
  {
   "cell_type": "markdown",
   "metadata": {},
   "source": [
    "# Demo for the DoWhy causal API\n",
    "We show a simple example of adding a causal extension to any dataframe. "
   ]
  },
  {
   "cell_type": "code",
   "execution_count": 1,
   "metadata": {
    "execution": {
     "iopub.execute_input": "2022-11-11T08:52:29.856517Z",
     "iopub.status.busy": "2022-11-11T08:52:29.856051Z",
     "iopub.status.idle": "2022-11-11T08:52:31.764775Z",
     "shell.execute_reply": "2022-11-11T08:52:31.764048Z"
    }
   },
   "outputs": [],
   "source": [
    "import dowhy.datasets\n",
    "import dowhy.api\n",
    "\n",
    "import numpy as np\n",
    "import pandas as pd\n",
    "\n",
    "from statsmodels.api import OLS"
   ]
  },
  {
   "cell_type": "code",
   "execution_count": 2,
   "metadata": {
    "execution": {
     "iopub.execute_input": "2022-11-11T08:52:31.769368Z",
     "iopub.status.busy": "2022-11-11T08:52:31.768662Z",
     "iopub.status.idle": "2022-11-11T08:52:31.812795Z",
     "shell.execute_reply": "2022-11-11T08:52:31.812013Z"
    }
   },
   "outputs": [
    {
     "data": {
      "text/html": [
       "<div>\n",
       "<style scoped>\n",
       "    .dataframe tbody tr th:only-of-type {\n",
       "        vertical-align: middle;\n",
       "    }\n",
       "\n",
       "    .dataframe tbody tr th {\n",
       "        vertical-align: top;\n",
       "    }\n",
       "\n",
       "    .dataframe thead th {\n",
       "        text-align: right;\n",
       "    }\n",
       "</style>\n",
       "<table border=\"1\" class=\"dataframe\">\n",
       "  <thead>\n",
       "    <tr style=\"text-align: right;\">\n",
       "      <th></th>\n",
       "      <th>W0</th>\n",
       "      <th>v0</th>\n",
       "      <th>y</th>\n",
       "    </tr>\n",
       "  </thead>\n",
       "  <tbody>\n",
       "    <tr>\n",
       "      <th>0</th>\n",
       "      <td>0.925586</td>\n",
       "      <td>False</td>\n",
       "      <td>-0.780106</td>\n",
       "    </tr>\n",
       "    <tr>\n",
       "      <th>1</th>\n",
       "      <td>0.040524</td>\n",
       "      <td>False</td>\n",
       "      <td>0.817322</td>\n",
       "    </tr>\n",
       "    <tr>\n",
       "      <th>2</th>\n",
       "      <td>-0.917482</td>\n",
       "      <td>False</td>\n",
       "      <td>-1.126283</td>\n",
       "    </tr>\n",
       "    <tr>\n",
       "      <th>3</th>\n",
       "      <td>2.527187</td>\n",
       "      <td>True</td>\n",
       "      <td>6.749634</td>\n",
       "    </tr>\n",
       "    <tr>\n",
       "      <th>4</th>\n",
       "      <td>0.424340</td>\n",
       "      <td>False</td>\n",
       "      <td>-0.596998</td>\n",
       "    </tr>\n",
       "    <tr>\n",
       "      <th>...</th>\n",
       "      <td>...</td>\n",
       "      <td>...</td>\n",
       "      <td>...</td>\n",
       "    </tr>\n",
       "    <tr>\n",
       "      <th>995</th>\n",
       "      <td>-0.296269</td>\n",
       "      <td>True</td>\n",
       "      <td>4.422545</td>\n",
       "    </tr>\n",
       "    <tr>\n",
       "      <th>996</th>\n",
       "      <td>-0.317680</td>\n",
       "      <td>False</td>\n",
       "      <td>-0.082002</td>\n",
       "    </tr>\n",
       "    <tr>\n",
       "      <th>997</th>\n",
       "      <td>0.369659</td>\n",
       "      <td>False</td>\n",
       "      <td>-0.533308</td>\n",
       "    </tr>\n",
       "    <tr>\n",
       "      <th>998</th>\n",
       "      <td>-1.376906</td>\n",
       "      <td>False</td>\n",
       "      <td>-1.448601</td>\n",
       "    </tr>\n",
       "    <tr>\n",
       "      <th>999</th>\n",
       "      <td>-0.042972</td>\n",
       "      <td>False</td>\n",
       "      <td>0.031530</td>\n",
       "    </tr>\n",
       "  </tbody>\n",
       "</table>\n",
       "<p>1000 rows × 3 columns</p>\n",
       "</div>"
      ],
      "text/plain": [
       "           W0     v0         y\n",
       "0    0.925586  False -0.780106\n",
       "1    0.040524  False  0.817322\n",
       "2   -0.917482  False -1.126283\n",
       "3    2.527187   True  6.749634\n",
       "4    0.424340  False -0.596998\n",
       "..        ...    ...       ...\n",
       "995 -0.296269   True  4.422545\n",
       "996 -0.317680  False -0.082002\n",
       "997  0.369659  False -0.533308\n",
       "998 -1.376906  False -1.448601\n",
       "999 -0.042972  False  0.031530\n",
       "\n",
       "[1000 rows x 3 columns]"
      ]
     },
     "execution_count": 2,
     "metadata": {},
     "output_type": "execute_result"
    }
   ],
   "source": [
    "data = dowhy.datasets.linear_dataset(beta=5,\n",
    "        num_common_causes=1,\n",
    "        num_instruments = 0,\n",
    "        num_samples=1000,\n",
    "        treatment_is_binary=True)\n",
    "df = data['df']\n",
    "df['y'] = df['y'] + np.random.normal(size=len(df)) # Adding noise to data. Without noise, the variance in Y|X, Z is zero, and mcmc fails.\n",
    "#data['dot_graph'] = 'digraph { v ->y;X0-> v;X0-> y;}'\n",
    "\n",
    "treatment= data[\"treatment_name\"][0]\n",
    "outcome = data[\"outcome_name\"][0]\n",
    "common_cause = data[\"common_causes_names\"][0]\n",
    "df"
   ]
  },
  {
   "cell_type": "code",
   "execution_count": 3,
   "metadata": {
    "execution": {
     "iopub.execute_input": "2022-11-11T08:52:31.817063Z",
     "iopub.status.busy": "2022-11-11T08:52:31.815740Z",
     "iopub.status.idle": "2022-11-11T08:52:31.971418Z",
     "shell.execute_reply": "2022-11-11T08:52:31.970802Z"
    }
   },
   "outputs": [
    {
     "data": {
      "text/plain": [
       "<AxesSubplot: xlabel='v0'>"
      ]
     },
     "execution_count": 3,
     "metadata": {},
     "output_type": "execute_result"
    },
    {
     "data": {
      "image/png": "[encoded data removed]",
      "text/plain": [
       "<Figure size 640x480 with 1 Axes>"
      ]
     },
     "metadata": {},
     "output_type": "display_data"
    }
   ],
   "source": [
    "# data['df'] is just a regular pandas.DataFrame\n",
    "df.causal.do(x=treatment,\n",
    "                     variable_types={treatment: 'b', outcome: 'c', common_cause: 'c'},\n",
    "                     outcome=outcome,\n",
    "                     common_causes=[common_cause],\n",
    "                     proceed_when_unidentifiable=True).groupby(treatment).mean().plot(y=outcome, kind='bar')"
   ]
  },
  {
   "cell_type": "code",
   "execution_count": 4,
   "metadata": {
    "execution": {
     "iopub.execute_input": "2022-11-11T08:52:31.974567Z",
     "iopub.status.busy": "2022-11-11T08:52:31.974116Z",
     "iopub.status.idle": "2022-11-11T08:52:32.089527Z",
     "shell.execute_reply": "2022-11-11T08:52:32.088984Z"
    }
   },
   "outputs": [
    {
     "data": {
      "text/plain": [
       "<AxesSubplot: xlabel='v0'>"
      ]
     },
     "execution_count": 4,
     "metadata": {},
     "output_type": "execute_result"
    },
    {
     "data": {
      "image/png": "[encoded data removed]",
      "text/plain": [
       "<Figure size 640x480 with 1 Axes>"
      ]
     },
     "metadata": {},
     "output_type": "display_data"
    }
   ],
   "source": [
    "df.causal.do(x={treatment: 1}, \n",
    "              variable_types={treatment:'b', outcome: 'c', common_cause: 'c'}, \n",
    "              outcome=outcome,\n",
    "              method='weighting', \n",
    "              common_causes=[common_cause],\n",
    "              proceed_when_unidentifiable=True).groupby(treatment).mean().plot(y=outcome, kind='bar')"
   ]
  },
  {
   "cell_type": "code",
   "execution_count": 5,
   "metadata": {
    "execution": {
     "iopub.execute_input": "2022-11-11T08:52:32.092354Z",
     "iopub.status.busy": "2022-11-11T08:52:32.091985Z",
     "iopub.status.idle": "2022-11-11T08:52:32.123435Z",
     "shell.execute_reply": "2022-11-11T08:52:32.122822Z"
    }
   },
   "outputs": [],
   "source": [
    "cdf_1 = df.causal.do(x={treatment: 1}, \n",
    "              variable_types={treatment: 'b', outcome: 'c', common_cause: 'c'}, \n",
    "              outcome=outcome, \n",
    "              dot_graph=data['dot_graph'],\n",
    "              proceed_when_unidentifiable=True)\n",
    "\n",
    "cdf_0 = df.causal.do(x={treatment: 0}, \n",
    "              variable_types={treatment: 'b', outcome: 'c', common_cause: 'c'}, \n",
    "              outcome=outcome, \n",
    "              dot_graph=data['dot_graph'],\n",
    "              proceed_when_unidentifiable=True)\n"
   ]
  },
  {
   "cell_type": "code",
   "execution_count": 6,
   "metadata": {
    "execution": {
     "iopub.execute_input": "2022-11-11T08:52:32.126871Z",
     "iopub.status.busy": "2022-11-11T08:52:32.126449Z",
     "iopub.status.idle": "2022-11-11T08:52:32.137300Z",
     "shell.execute_reply": "2022-11-11T08:52:32.136678Z"
    },
    "scrolled": true
   },
   "outputs": [
    {
     "data": {
      "text/html": [
       "<div>\n",
       "<style scoped>\n",
       "    .dataframe tbody tr th:only-of-type {\n",
       "        vertical-align: middle;\n",
       "    }\n",
       "\n",
       "    .dataframe tbody tr th {\n",
       "        vertical-align: top;\n",
       "    }\n",
       "\n",
       "    .dataframe thead th {\n",
       "        text-align: right;\n",
       "    }\n",
       "</style>\n",
       "<table border=\"1\" class=\"dataframe\">\n",
       "  <thead>\n",
       "    <tr style=\"text-align: right;\">\n",
       "      <th></th>\n",
       "      <th>W0</th>\n",
       "      <th>v0</th>\n",
       "      <th>y</th>\n",
       "      <th>propensity_score</th>\n",
       "      <th>weight</th>\n",
       "    </tr>\n",
       "  </thead>\n",
       "  <tbody>\n",
       "    <tr>\n",
       "      <th>0</th>\n",
       "      <td>0.946810</td>\n",
       "      <td>False</td>\n",
       "      <td>0.720078</td>\n",
       "      <td>0.153818</td>\n",
       "      <td>6.501200</td>\n",
       "    </tr>\n",
       "    <tr>\n",
       "      <th>1</th>\n",
       "      <td>1.787287</td>\n",
       "      <td>False</td>\n",
       "      <td>2.109053</td>\n",
       "      <td>0.034085</td>\n",
       "      <td>29.338544</td>\n",
       "    </tr>\n",
       "    <tr>\n",
       "      <th>2</th>\n",
       "      <td>1.280898</td>\n",
       "      <td>False</td>\n",
       "      <td>1.421287</td>\n",
       "      <td>0.086545</td>\n",
       "      <td>11.554653</td>\n",
       "    </tr>\n",
       "    <tr>\n",
       "      <th>3</th>\n",
       "      <td>1.671965</td>\n",
       "      <td>False</td>\n",
       "      <td>2.039689</td>\n",
       "      <td>0.042318</td>\n",
       "      <td>23.630540</td>\n",
       "    </tr>\n",
       "    <tr>\n",
       "      <th>4</th>\n",
       "      <td>0.517289</td>\n",
       "      <td>False</td>\n",
       "      <td>1.552860</td>\n",
       "      <td>0.295830</td>\n",
       "      <td>3.380320</td>\n",
       "    </tr>\n",
       "    <tr>\n",
       "      <th>...</th>\n",
       "      <td>...</td>\n",
       "      <td>...</td>\n",
       "      <td>...</td>\n",
       "      <td>...</td>\n",
       "      <td>...</td>\n",
       "    </tr>\n",
       "    <tr>\n",
       "      <th>995</th>\n",
       "      <td>0.662590</td>\n",
       "      <td>False</td>\n",
       "      <td>1.396345</td>\n",
       "      <td>0.240374</td>\n",
       "      <td>4.160178</td>\n",
       "    </tr>\n",
       "    <tr>\n",
       "      <th>996</th>\n",
       "      <td>-2.239011</td>\n",
       "      <td>False</td>\n",
       "      <td>-0.499603</td>\n",
       "      <td>0.989106</td>\n",
       "      <td>1.011014</td>\n",
       "    </tr>\n",
       "    <tr>\n",
       "      <th>997</th>\n",
       "      <td>0.418026</td>\n",
       "      <td>False</td>\n",
       "      <td>0.925231</td>\n",
       "      <td>0.337684</td>\n",
       "      <td>2.961353</td>\n",
       "    </tr>\n",
       "    <tr>\n",
       "      <th>998</th>\n",
       "      <td>0.681283</td>\n",
       "      <td>False</td>\n",
       "      <td>1.154752</td>\n",
       "      <td>0.233781</td>\n",
       "      <td>4.277517</td>\n",
       "    </tr>\n",
       "    <tr>\n",
       "      <th>999</th>\n",
       "      <td>0.043849</td>\n",
       "      <td>False</td>\n",
       "      <td>1.179931</td>\n",
       "      <td>0.514035</td>\n",
       "      <td>1.945392</td>\n",
       "    </tr>\n",
       "  </tbody>\n",
       "</table>\n",
       "<p>1000 rows × 5 columns</p>\n",
       "</div>"
      ],
      "text/plain": [
       "           W0     v0         y  propensity_score     weight\n",
       "0    0.946810  False  0.720078          0.153818   6.501200\n",
       "1    1.787287  False  2.109053          0.034085  29.338544\n",
       "2    1.280898  False  1.421287          0.086545  11.554653\n",
       "3    1.671965  False  2.039689          0.042318  23.630540\n",
       "4    0.517289  False  1.552860          0.295830   3.380320\n",
       "..        ...    ...       ...               ...        ...\n",
       "995  0.662590  False  1.396345          0.240374   4.160178\n",
       "996 -2.239011  False -0.499603          0.989106   1.011014\n",
       "997  0.418026  False  0.925231          0.337684   2.961353\n",
       "998  0.681283  False  1.154752          0.233781   4.277517\n",
       "999  0.043849  False  1.179931          0.514035   1.945392\n",
       "\n",
       "[1000 rows x 5 columns]"
      ]
     },
     "execution_count": 6,
     "metadata": {},
     "output_type": "execute_result"
    }
   ],
   "source": [
    "cdf_0"
   ]
  },
  {
   "cell_type": "code",
   "execution_count": 7,
   "metadata": {
    "execution": {
     "iopub.execute_input": "2022-11-11T08:52:32.139818Z",
     "iopub.status.busy": "2022-11-11T08:52:32.139596Z",
     "iopub.status.idle": "2022-11-11T08:52:32.151501Z",
     "shell.execute_reply": "2022-11-11T08:52:32.150664Z"
    }
   },
   "outputs": [
    {
     "data": {
      "text/html": [
       "<div>\n",
       "<style scoped>\n",
       "    .dataframe tbody tr th:only-of-type {\n",
       "        vertical-align: middle;\n",
       "    }\n",
       "\n",
       "    .dataframe tbody tr th {\n",
       "        vertical-align: top;\n",
       "    }\n",
       "\n",
       "    .dataframe thead th {\n",
       "        text-align: right;\n",
       "    }\n",
       "</style>\n",
       "<table border=\"1\" class=\"dataframe\">\n",
       "  <thead>\n",
       "    <tr style=\"text-align: right;\">\n",
       "      <th></th>\n",
       "      <th>W0</th>\n",
       "      <th>v0</th>\n",
       "      <th>y</th>\n",
       "      <th>propensity_score</th>\n",
       "      <th>weight</th>\n",
       "    </tr>\n",
       "  </thead>\n",
       "  <tbody>\n",
       "    <tr>\n",
       "      <th>0</th>\n",
       "      <td>1.719787</td>\n",
       "      <td>True</td>\n",
       "      <td>7.715784</td>\n",
       "      <td>0.961305</td>\n",
       "      <td>1.040253</td>\n",
       "    </tr>\n",
       "    <tr>\n",
       "      <th>1</th>\n",
       "      <td>0.932860</td>\n",
       "      <td>True</td>\n",
       "      <td>6.326615</td>\n",
       "      <td>0.842608</td>\n",
       "      <td>1.186792</td>\n",
       "    </tr>\n",
       "    <tr>\n",
       "      <th>2</th>\n",
       "      <td>-0.954614</td>\n",
       "      <td>True</td>\n",
       "      <td>4.542720</td>\n",
       "      <td>0.118831</td>\n",
       "      <td>8.415294</td>\n",
       "    </tr>\n",
       "    <tr>\n",
       "      <th>3</th>\n",
       "      <td>1.721617</td>\n",
       "      <td>True</td>\n",
       "      <td>5.821451</td>\n",
       "      <td>0.961437</td>\n",
       "      <td>1.040110</td>\n",
       "    </tr>\n",
       "    <tr>\n",
       "      <th>4</th>\n",
       "      <td>0.094250</td>\n",
       "      <td>True</td>\n",
       "      <td>8.072083</td>\n",
       "      <td>0.510535</td>\n",
       "      <td>1.958730</td>\n",
       "    </tr>\n",
       "    <tr>\n",
       "      <th>...</th>\n",
       "      <td>...</td>\n",
       "      <td>...</td>\n",
       "      <td>...</td>\n",
       "      <td>...</td>\n",
       "      <td>...</td>\n",
       "    </tr>\n",
       "    <tr>\n",
       "      <th>995</th>\n",
       "      <td>-0.517667</td>\n",
       "      <td>True</td>\n",
       "      <td>3.079754</td>\n",
       "      <td>0.240246</td>\n",
       "      <td>4.162396</td>\n",
       "    </tr>\n",
       "    <tr>\n",
       "      <th>996</th>\n",
       "      <td>-1.304338</td>\n",
       "      <td>True</td>\n",
       "      <td>2.742947</td>\n",
       "      <td>0.063826</td>\n",
       "      <td>15.667619</td>\n",
       "    </tr>\n",
       "    <tr>\n",
       "      <th>997</th>\n",
       "      <td>-1.081362</td>\n",
       "      <td>True</td>\n",
       "      <td>2.281089</td>\n",
       "      <td>0.095285</td>\n",
       "      <td>10.494885</td>\n",
       "    </tr>\n",
       "    <tr>\n",
       "      <th>998</th>\n",
       "      <td>-1.534727</td>\n",
       "      <td>True</td>\n",
       "      <td>3.454180</td>\n",
       "      <td>0.041687</td>\n",
       "      <td>23.988416</td>\n",
       "    </tr>\n",
       "    <tr>\n",
       "      <th>999</th>\n",
       "      <td>0.743878</td>\n",
       "      <td>True</td>\n",
       "      <td>7.041079</td>\n",
       "      <td>0.787375</td>\n",
       "      <td>1.270044</td>\n",
       "    </tr>\n",
       "  </tbody>\n",
       "</table>\n",
       "<p>1000 rows × 5 columns</p>\n",
       "</div>"
      ],
      "text/plain": [
       "           W0    v0         y  propensity_score     weight\n",
       "0    1.719787  True  7.715784          0.961305   1.040253\n",
       "1    0.932860  True  6.326615          0.842608   1.186792\n",
       "2   -0.954614  True  4.542720          0.118831   8.415294\n",
       "3    1.721617  True  5.821451          0.961437   1.040110\n",
       "4    0.094250  True  8.072083          0.510535   1.958730\n",
       "..        ...   ...       ...               ...        ...\n",
       "995 -0.517667  True  3.079754          0.240246   4.162396\n",
       "996 -1.304338  True  2.742947          0.063826  15.667619\n",
       "997 -1.081362  True  2.281089          0.095285  10.494885\n",
       "998 -1.534727  True  3.454180          0.041687  23.988416\n",
       "999  0.743878  True  7.041079          0.787375   1.270044\n",
       "\n",
       "[1000 rows x 5 columns]"
      ]
     },
     "execution_count": 7,
     "metadata": {},
     "output_type": "execute_result"
    }
   ],
   "source": [
    "cdf_1"
   ]
  },
  {
   "cell_type": "markdown",
   "metadata": {},
   "source": [
    "## Comparing the estimate to Linear Regression\n",
    "First, estimating the effect using the causal data frame, and the 95% confidence interval."
   ]
  },
  {
   "cell_type": "code",
   "execution_count": 8,
   "metadata": {
    "execution": {
     "iopub.execute_input": "2022-11-11T08:52:32.154272Z",
     "iopub.status.busy": "2022-11-11T08:52:32.153924Z",
     "iopub.status.idle": "2022-11-11T08:52:32.211922Z",
     "shell.execute_reply": "2022-11-11T08:52:32.211143Z"
    }
   },
   "outputs": [
    {
     "data": {
      "image/png": "[encoded data removed]",
      "text/latex": [
       "$\\displaystyle 4.9685672292513$"
      ],
      "text/plain": [
       "4.968567229251296"
      ]
     },
     "execution_count": 8,
     "metadata": {},
     "output_type": "execute_result"
    }
   ],
   "source": [
    "(cdf_1['y'] - cdf_0['y']).mean()"
   ]
  },
  {
   "cell_type": "code",
   "execution_count": 9,
   "metadata": {
    "execution": {
     "iopub.execute_input": "2022-11-11T08:52:32.214945Z",
     "iopub.status.busy": "2022-11-11T08:52:32.214579Z",
     "iopub.status.idle": "2022-11-11T08:52:32.237078Z",
     "shell.execute_reply": "2022-11-11T08:52:32.236053Z"
    }
   },
   "outputs": [
    {
     "data": {
      "image/png": "[encoded data removed]",
      "text/latex": [
       "$\\displaystyle 0.121234209076369$"
      ],
      "text/plain": [
       "0.12123420907636887"
      ]
     },
     "execution_count": 9,
     "metadata": {},
     "output_type": "execute_result"
    }
   ],
   "source": [
    "1.96*(cdf_1['y'] - cdf_0['y']).std() / np.sqrt(len(df))"
   ]
  },
  {
   "cell_type": "markdown",
   "metadata": {},
   "source": [
    "Comparing to the estimate from OLS."
   ]
  },
  {
   "cell_type": "code",
   "execution_count": 10,
   "metadata": {
    "execution": {
     "iopub.execute_input": "2022-11-11T08:52:32.240279Z",
     "iopub.status.busy": "2022-11-11T08:52:32.239892Z",
     "iopub.status.idle": "2022-11-11T08:52:32.257663Z",
     "shell.execute_reply": "2022-11-11T08:52:32.256919Z"
    }
   },
   "outputs": [
    {
     "data": {
      "text/html": [
       "<table class=\"simpletable\">\n",
       "<caption>OLS Regression Results</caption>\n",
       "<tr>\n",
       "  <th>Dep. Variable:</th>            <td>y</td>        <th>  R-squared (uncentered):</th>      <td>   0.941</td>\n",
       "</tr>\n",
       "<tr>\n",
       "  <th>Model:</th>                   <td>OLS</td>       <th>  Adj. R-squared (uncentered):</th> <td>   0.940</td>\n",
       "</tr>\n",
       "<tr>\n",
       "  <th>Method:</th>             <td>Least Squares</td>  <th>  F-statistic:       </th>          <td>   7901.</td>\n",
       "</tr>\n",
       "<tr>\n",
       "  <th>Date:</th>             <td>Fri, 11 Nov 2022</td> <th>  Prob (F-statistic):</th>           <td>  0.00</td> \n",
       "</tr>\n",
       "<tr>\n",
       "  <th>Time:</th>                 <td>08:52:32</td>     <th>  Log-Likelihood:    </th>          <td> -1493.2</td>\n",
       "</tr>\n",
       "<tr>\n",
       "  <th>No. Observations:</th>      <td>  1000</td>      <th>  AIC:               </th>          <td>   2990.</td>\n",
       "</tr>\n",
       "<tr>\n",
       "  <th>Df Residuals:</th>          <td>   998</td>      <th>  BIC:               </th>          <td>   3000.</td>\n",
       "</tr>\n",
       "<tr>\n",
       "  <th>Df Model:</th>              <td>     2</td>      <th>                     </th>              <td> </td>   \n",
       "</tr>\n",
       "<tr>\n",
       "  <th>Covariance Type:</th>      <td>nonrobust</td>    <th>                     </th>              <td> </td>   \n",
       "</tr>\n",
       "</table>\n",
       "<table class=\"simpletable\">\n",
       "<tr>\n",
       "   <td></td>     <th>coef</th>     <th>std err</th>      <th>t</th>      <th>P>|t|</th>  <th>[0.025</th>    <th>0.975]</th>  \n",
       "</tr>\n",
       "<tr>\n",
       "  <th>x1</th> <td>    0.8326</td> <td>    0.039</td> <td>   21.295</td> <td> 0.000</td> <td>    0.756</td> <td>    0.909</td>\n",
       "</tr>\n",
       "<tr>\n",
       "  <th>x2</th> <td>    5.0986</td> <td>    0.056</td> <td>   91.829</td> <td> 0.000</td> <td>    4.990</td> <td>    5.208</td>\n",
       "</tr>\n",
       "</table>\n",
       "<table class=\"simpletable\">\n",
       "<tr>\n",
       "  <th>Omnibus:</th>       <td> 0.296</td> <th>  Durbin-Watson:     </th> <td>   1.975</td>\n",
       "</tr>\n",
       "<tr>\n",
       "  <th>Prob(Omnibus):</th> <td> 0.863</td> <th>  Jarque-Bera (JB):  </th> <td>   0.194</td>\n",
       "</tr>\n",
       "<tr>\n",
       "  <th>Skew:</th>          <td>-0.006</td> <th>  Prob(JB):          </th> <td>   0.908</td>\n",
       "</tr>\n",
       "<tr>\n",
       "  <th>Kurtosis:</th>      <td> 3.067</td> <th>  Cond. No.          </th> <td>    2.06</td>\n",
       "</tr>\n",
       "</table><br/><br/>Notes:<br/>[1] R² is computed without centering (uncentered) since the model does not contain a constant.<br/>[2] Standard Errors assume that the covariance matrix of the errors is correctly specified."
      ],
      "text/plain": [
       "<class 'statsmodels.iolib.summary.Summary'>\n",
       "\"\"\"\n",
       "                                 OLS Regression Results                                \n",
       "=======================================================================================\n",
       "Dep. Variable:                      y   R-squared (uncentered):                   0.941\n",
       "Model:                            OLS   Adj. R-squared (uncentered):              0.940\n",
       "Method:                 Least Squares   F-statistic:                              7901.\n",
       "Date:                Fri, 11 Nov 2022   Prob (F-statistic):                        0.00\n",
       "Time:                        08:52:32   Log-Likelihood:                         -1493.2\n",
       "No. Observations:                1000   AIC:                                      2990.\n",
       "Df Residuals:                     998   BIC:                                      3000.\n",
       "Df Model:                           2                                                  \n",
       "Covariance Type:            nonrobust                                                  \n",
       "==============================================================================\n",
       "                 coef    std err          t      P>|t|      [0.025      0.975]\n",
       "------------------------------------------------------------------------------\n",
       "x1             0.8326      0.039     21.295      0.000       0.756       0.909\n",
       "x2             5.0986      0.056     91.829      0.000       4.990       5.208\n",
       "==============================================================================\n",
       "Omnibus:                        0.296   Durbin-Watson:                   1.975\n",
       "Prob(Omnibus):                  0.863   Jarque-Bera (JB):                0.194\n",
       "Skew:                          -0.006   Prob(JB):                        0.908\n",
       "Kurtosis:                       3.067   Cond. No.                         2.06\n",
       "==============================================================================\n",
       "\n",
       "Notes:\n",
       "[1] R² is computed without centering (uncentered) since the model does not contain a constant.\n",
       "[2] Standard Errors assume that the covariance matrix of the errors is correctly specified.\n",
       "\"\"\""
      ]
     },
     "execution_count": 10,
     "metadata": {},
     "output_type": "execute_result"
    }
   ],
   "source": [
    "model = OLS(np.asarray(df[outcome]), np.asarray(df[[common_cause, treatment]], dtype=np.float64))\n",
    "result = model.fit()\n",
    "result.summary()"
   ]
  }
 ],
 "metadata": {
  "kernelspec": {
   "display_name": "Python 3",
   "language": "python",
   "name": "python3"
  },
  "language_info": {
   "codemirror_mode": {
    "name": "ipython",
    "version": 3
   },
   "file_extension": ".py",
   "mimetype": "text/x-python",
   "name": "python",
   "nbconvert_exporter": "python",
   "pygments_lexer": "ipython3",
   "version": "3.8.10"
  },
  "toc": {
   "base_numbering": 1,
   "nav_menu": {},
   "number_sections": false,
   "sideBar": true,
   "skip_h1_title": true,
   "title_cell": "Table of Contents",
   "title_sidebar": "Contents",
   "toc_cell": false,
   "toc_position": {},
   "toc_section_display": true,
   "toc_window_display": false
  }
 },
 "nbformat": 4,
 "nbformat_minor": 4
}
