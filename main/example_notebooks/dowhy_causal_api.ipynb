{
 "cells": [
  {
   "cell_type": "markdown",
   "metadata": {},
   "source": [
    "# Demo for the DoWhy causal API\n",
    "We show a simple example of adding a causal extension to any dataframe. "
   ]
  },
  {
   "cell_type": "code",
   "execution_count": 1,
   "metadata": {
    "execution": {
     "iopub.execute_input": "2022-10-17T14:48:28.716798Z",
     "iopub.status.busy": "2022-10-17T14:48:28.716206Z",
     "iopub.status.idle": "2022-10-17T14:48:31.259912Z",
     "shell.execute_reply": "2022-10-17T14:48:31.258854Z"
    }
   },
   "outputs": [],
   "source": [
    "import dowhy.datasets\n",
    "import dowhy.api\n",
    "\n",
    "import numpy as np\n",
    "import pandas as pd\n",
    "\n",
    "from statsmodels.api import OLS"
   ]
  },
  {
   "cell_type": "code",
   "execution_count": 2,
   "metadata": {
    "execution": {
     "iopub.execute_input": "2022-10-17T14:48:31.266085Z",
     "iopub.status.busy": "2022-10-17T14:48:31.264267Z",
     "iopub.status.idle": "2022-10-17T14:48:31.333157Z",
     "shell.execute_reply": "2022-10-17T14:48:31.332181Z"
    }
   },
   "outputs": [
    {
     "data": {
      "text/html": [
       "<div>\n",
       "<style scoped>\n",
       "    .dataframe tbody tr th:only-of-type {\n",
       "        vertical-align: middle;\n",
       "    }\n",
       "\n",
       "    .dataframe tbody tr th {\n",
       "        vertical-align: top;\n",
       "    }\n",
       "\n",
       "    .dataframe thead th {\n",
       "        text-align: right;\n",
       "    }\n",
       "</style>\n",
       "<table border=\"1\" class=\"dataframe\">\n",
       "  <thead>\n",
       "    <tr style=\"text-align: right;\">\n",
       "      <th></th>\n",
       "      <th>W0</th>\n",
       "      <th>v0</th>\n",
       "      <th>y</th>\n",
       "    </tr>\n",
       "  </thead>\n",
       "  <tbody>\n",
       "    <tr>\n",
       "      <th>0</th>\n",
       "      <td>-1.263721</td>\n",
       "      <td>False</td>\n",
       "      <td>-3.040264</td>\n",
       "    </tr>\n",
       "    <tr>\n",
       "      <th>1</th>\n",
       "      <td>-0.111994</td>\n",
       "      <td>True</td>\n",
       "      <td>5.857057</td>\n",
       "    </tr>\n",
       "    <tr>\n",
       "      <th>2</th>\n",
       "      <td>-0.507297</td>\n",
       "      <td>False</td>\n",
       "      <td>-2.346335</td>\n",
       "    </tr>\n",
       "    <tr>\n",
       "      <th>3</th>\n",
       "      <td>-1.736043</td>\n",
       "      <td>False</td>\n",
       "      <td>-5.415301</td>\n",
       "    </tr>\n",
       "    <tr>\n",
       "      <th>4</th>\n",
       "      <td>0.294744</td>\n",
       "      <td>True</td>\n",
       "      <td>7.500058</td>\n",
       "    </tr>\n",
       "    <tr>\n",
       "      <th>...</th>\n",
       "      <td>...</td>\n",
       "      <td>...</td>\n",
       "      <td>...</td>\n",
       "    </tr>\n",
       "    <tr>\n",
       "      <th>995</th>\n",
       "      <td>-1.695925</td>\n",
       "      <td>True</td>\n",
       "      <td>0.507453</td>\n",
       "    </tr>\n",
       "    <tr>\n",
       "      <th>996</th>\n",
       "      <td>-0.035035</td>\n",
       "      <td>True</td>\n",
       "      <td>4.021246</td>\n",
       "    </tr>\n",
       "    <tr>\n",
       "      <th>997</th>\n",
       "      <td>-0.929146</td>\n",
       "      <td>False</td>\n",
       "      <td>-1.979360</td>\n",
       "    </tr>\n",
       "    <tr>\n",
       "      <th>998</th>\n",
       "      <td>-1.293079</td>\n",
       "      <td>True</td>\n",
       "      <td>0.774261</td>\n",
       "    </tr>\n",
       "    <tr>\n",
       "      <th>999</th>\n",
       "      <td>-1.494914</td>\n",
       "      <td>True</td>\n",
       "      <td>2.015106</td>\n",
       "    </tr>\n",
       "  </tbody>\n",
       "</table>\n",
       "<p>1000 rows × 3 columns</p>\n",
       "</div>"
      ],
      "text/plain": [
       "           W0     v0         y\n",
       "0   -1.263721  False -3.040264\n",
       "1   -0.111994   True  5.857057\n",
       "2   -0.507297  False -2.346335\n",
       "3   -1.736043  False -5.415301\n",
       "4    0.294744   True  7.500058\n",
       "..        ...    ...       ...\n",
       "995 -1.695925   True  0.507453\n",
       "996 -0.035035   True  4.021246\n",
       "997 -0.929146  False -1.979360\n",
       "998 -1.293079   True  0.774261\n",
       "999 -1.494914   True  2.015106\n",
       "\n",
       "[1000 rows x 3 columns]"
      ]
     },
     "execution_count": 2,
     "metadata": {},
     "output_type": "execute_result"
    }
   ],
   "source": [
    "data = dowhy.datasets.linear_dataset(beta=5,\n",
    "        num_common_causes=1,\n",
    "        num_instruments = 0,\n",
    "        num_samples=1000,\n",
    "        treatment_is_binary=True)\n",
    "df = data['df']\n",
    "df['y'] = df['y'] + np.random.normal(size=len(df)) # Adding noise to data. Without noise, the variance in Y|X, Z is zero, and mcmc fails.\n",
    "#data['dot_graph'] = 'digraph { v ->y;X0-> v;X0-> y;}'\n",
    "\n",
    "treatment= data[\"treatment_name\"][0]\n",
    "outcome = data[\"outcome_name\"][0]\n",
    "common_cause = data[\"common_causes_names\"][0]\n",
    "df"
   ]
  },
  {
   "cell_type": "code",
   "execution_count": 3,
   "metadata": {
    "execution": {
     "iopub.execute_input": "2022-10-17T14:48:31.337634Z",
     "iopub.status.busy": "2022-10-17T14:48:31.337316Z",
     "iopub.status.idle": "2022-10-17T14:48:31.545064Z",
     "shell.execute_reply": "2022-10-17T14:48:31.544110Z"
    }
   },
   "outputs": [
    {
     "data": {
      "text/plain": [
       "<AxesSubplot: xlabel='v0'>"
      ]
     },
     "execution_count": 3,
     "metadata": {},
     "output_type": "execute_result"
    },
    {
     "data": {
      "image/png": "[encoded data removed]",
      "text/plain": [
       "<Figure size 640x480 with 1 Axes>"
      ]
     },
     "metadata": {},
     "output_type": "display_data"
    }
   ],
   "source": [
    "# data['df'] is just a regular pandas.DataFrame\n",
    "df.causal.do(x=treatment,\n",
    "                     variable_types={treatment: 'b', outcome: 'c', common_cause: 'c'},\n",
    "                     outcome=outcome,\n",
    "                     common_causes=[common_cause],\n",
    "                     proceed_when_unidentifiable=True).groupby(treatment).mean().plot(y=outcome, kind='bar')"
   ]
  },
  {
   "cell_type": "code",
   "execution_count": 4,
   "metadata": {
    "execution": {
     "iopub.execute_input": "2022-10-17T14:48:31.548984Z",
     "iopub.status.busy": "2022-10-17T14:48:31.548692Z",
     "iopub.status.idle": "2022-10-17T14:48:31.709323Z",
     "shell.execute_reply": "2022-10-17T14:48:31.708257Z"
    }
   },
   "outputs": [
    {
     "data": {
      "text/plain": [
       "<AxesSubplot: xlabel='v0'>"
      ]
     },
     "execution_count": 4,
     "metadata": {},
     "output_type": "execute_result"
    },
    {
     "data": {
      "image/png": "[encoded data removed]",
      "text/plain": [
       "<Figure size 640x480 with 1 Axes>"
      ]
     },
     "metadata": {},
     "output_type": "display_data"
    }
   ],
   "source": [
    "df.causal.do(x={treatment: 1}, \n",
    "              variable_types={treatment:'b', outcome: 'c', common_cause: 'c'}, \n",
    "              outcome=outcome,\n",
    "              method='weighting', \n",
    "              common_causes=[common_cause],\n",
    "              proceed_when_unidentifiable=True).groupby(treatment).mean().plot(y=outcome, kind='bar')"
   ]
  },
  {
   "cell_type": "code",
   "execution_count": 5,
   "metadata": {
    "execution": {
     "iopub.execute_input": "2022-10-17T14:48:31.713175Z",
     "iopub.status.busy": "2022-10-17T14:48:31.712879Z",
     "iopub.status.idle": "2022-10-17T14:48:31.754473Z",
     "shell.execute_reply": "2022-10-17T14:48:31.753574Z"
    }
   },
   "outputs": [],
   "source": [
    "cdf_1 = df.causal.do(x={treatment: 1}, \n",
    "              variable_types={treatment: 'b', outcome: 'c', common_cause: 'c'}, \n",
    "              outcome=outcome, \n",
    "              dot_graph=data['dot_graph'],\n",
    "              proceed_when_unidentifiable=True)\n",
    "\n",
    "cdf_0 = df.causal.do(x={treatment: 0}, \n",
    "              variable_types={treatment: 'b', outcome: 'c', common_cause: 'c'}, \n",
    "              outcome=outcome, \n",
    "              dot_graph=data['dot_graph'],\n",
    "              proceed_when_unidentifiable=True)\n"
   ]
  },
  {
   "cell_type": "code",
   "execution_count": 6,
   "metadata": {
    "execution": {
     "iopub.execute_input": "2022-10-17T14:48:31.759879Z",
     "iopub.status.busy": "2022-10-17T14:48:31.759457Z",
     "iopub.status.idle": "2022-10-17T14:48:31.773868Z",
     "shell.execute_reply": "2022-10-17T14:48:31.772920Z"
    },
    "scrolled": true
   },
   "outputs": [
    {
     "data": {
      "text/html": [
       "<div>\n",
       "<style scoped>\n",
       "    .dataframe tbody tr th:only-of-type {\n",
       "        vertical-align: middle;\n",
       "    }\n",
       "\n",
       "    .dataframe tbody tr th {\n",
       "        vertical-align: top;\n",
       "    }\n",
       "\n",
       "    .dataframe thead th {\n",
       "        text-align: right;\n",
       "    }\n",
       "</style>\n",
       "<table border=\"1\" class=\"dataframe\">\n",
       "  <thead>\n",
       "    <tr style=\"text-align: right;\">\n",
       "      <th></th>\n",
       "      <th>W0</th>\n",
       "      <th>v0</th>\n",
       "      <th>y</th>\n",
       "      <th>propensity_score</th>\n",
       "      <th>weight</th>\n",
       "    </tr>\n",
       "  </thead>\n",
       "  <tbody>\n",
       "    <tr>\n",
       "      <th>0</th>\n",
       "      <td>-1.996805</td>\n",
       "      <td>False</td>\n",
       "      <td>-3.786357</td>\n",
       "      <td>0.513223</td>\n",
       "      <td>1.948469</td>\n",
       "    </tr>\n",
       "    <tr>\n",
       "      <th>1</th>\n",
       "      <td>0.404654</td>\n",
       "      <td>False</td>\n",
       "      <td>1.117376</td>\n",
       "      <td>0.485918</td>\n",
       "      <td>2.057960</td>\n",
       "    </tr>\n",
       "    <tr>\n",
       "      <th>2</th>\n",
       "      <td>-0.345309</td>\n",
       "      <td>False</td>\n",
       "      <td>-1.501684</td>\n",
       "      <td>0.494444</td>\n",
       "      <td>2.022474</td>\n",
       "    </tr>\n",
       "    <tr>\n",
       "      <th>3</th>\n",
       "      <td>-0.362435</td>\n",
       "      <td>False</td>\n",
       "      <td>-0.580447</td>\n",
       "      <td>0.494639</td>\n",
       "      <td>2.021677</td>\n",
       "    </tr>\n",
       "    <tr>\n",
       "      <th>4</th>\n",
       "      <td>-0.851442</td>\n",
       "      <td>False</td>\n",
       "      <td>-3.091548</td>\n",
       "      <td>0.500200</td>\n",
       "      <td>1.999200</td>\n",
       "    </tr>\n",
       "    <tr>\n",
       "      <th>...</th>\n",
       "      <td>...</td>\n",
       "      <td>...</td>\n",
       "      <td>...</td>\n",
       "      <td>...</td>\n",
       "      <td>...</td>\n",
       "    </tr>\n",
       "    <tr>\n",
       "      <th>995</th>\n",
       "      <td>0.032985</td>\n",
       "      <td>False</td>\n",
       "      <td>0.273542</td>\n",
       "      <td>0.490143</td>\n",
       "      <td>2.040222</td>\n",
       "    </tr>\n",
       "    <tr>\n",
       "      <th>996</th>\n",
       "      <td>-1.660649</td>\n",
       "      <td>False</td>\n",
       "      <td>-4.818721</td>\n",
       "      <td>0.509402</td>\n",
       "      <td>1.963085</td>\n",
       "    </tr>\n",
       "    <tr>\n",
       "      <th>997</th>\n",
       "      <td>-2.635309</td>\n",
       "      <td>False</td>\n",
       "      <td>-7.043708</td>\n",
       "      <td>0.520477</td>\n",
       "      <td>1.921315</td>\n",
       "    </tr>\n",
       "    <tr>\n",
       "      <th>998</th>\n",
       "      <td>-1.190256</td>\n",
       "      <td>False</td>\n",
       "      <td>-3.496641</td>\n",
       "      <td>0.504053</td>\n",
       "      <td>1.983917</td>\n",
       "    </tr>\n",
       "    <tr>\n",
       "      <th>999</th>\n",
       "      <td>-1.417434</td>\n",
       "      <td>False</td>\n",
       "      <td>-4.679719</td>\n",
       "      <td>0.506637</td>\n",
       "      <td>1.973801</td>\n",
       "    </tr>\n",
       "  </tbody>\n",
       "</table>\n",
       "<p>1000 rows × 5 columns</p>\n",
       "</div>"
      ],
      "text/plain": [
       "           W0     v0         y  propensity_score    weight\n",
       "0   -1.996805  False -3.786357          0.513223  1.948469\n",
       "1    0.404654  False  1.117376          0.485918  2.057960\n",
       "2   -0.345309  False -1.501684          0.494444  2.022474\n",
       "3   -0.362435  False -0.580447          0.494639  2.021677\n",
       "4   -0.851442  False -3.091548          0.500200  1.999200\n",
       "..        ...    ...       ...               ...       ...\n",
       "995  0.032985  False  0.273542          0.490143  2.040222\n",
       "996 -1.660649  False -4.818721          0.509402  1.963085\n",
       "997 -2.635309  False -7.043708          0.520477  1.921315\n",
       "998 -1.190256  False -3.496641          0.504053  1.983917\n",
       "999 -1.417434  False -4.679719          0.506637  1.973801\n",
       "\n",
       "[1000 rows x 5 columns]"
      ]
     },
     "execution_count": 6,
     "metadata": {},
     "output_type": "execute_result"
    }
   ],
   "source": [
    "cdf_0"
   ]
  },
  {
   "cell_type": "code",
   "execution_count": 7,
   "metadata": {
    "execution": {
     "iopub.execute_input": "2022-10-17T14:48:31.778819Z",
     "iopub.status.busy": "2022-10-17T14:48:31.778508Z",
     "iopub.status.idle": "2022-10-17T14:48:31.793054Z",
     "shell.execute_reply": "2022-10-17T14:48:31.792113Z"
    }
   },
   "outputs": [
    {
     "data": {
      "text/html": [
       "<div>\n",
       "<style scoped>\n",
       "    .dataframe tbody tr th:only-of-type {\n",
       "        vertical-align: middle;\n",
       "    }\n",
       "\n",
       "    .dataframe tbody tr th {\n",
       "        vertical-align: top;\n",
       "    }\n",
       "\n",
       "    .dataframe thead th {\n",
       "        text-align: right;\n",
       "    }\n",
       "</style>\n",
       "<table border=\"1\" class=\"dataframe\">\n",
       "  <thead>\n",
       "    <tr style=\"text-align: right;\">\n",
       "      <th></th>\n",
       "      <th>W0</th>\n",
       "      <th>v0</th>\n",
       "      <th>y</th>\n",
       "      <th>propensity_score</th>\n",
       "      <th>weight</th>\n",
       "    </tr>\n",
       "  </thead>\n",
       "  <tbody>\n",
       "    <tr>\n",
       "      <th>0</th>\n",
       "      <td>-1.323943</td>\n",
       "      <td>True</td>\n",
       "      <td>2.361578</td>\n",
       "      <td>0.494426</td>\n",
       "      <td>2.022546</td>\n",
       "    </tr>\n",
       "    <tr>\n",
       "      <th>1</th>\n",
       "      <td>-1.339604</td>\n",
       "      <td>True</td>\n",
       "      <td>0.070729</td>\n",
       "      <td>0.494248</td>\n",
       "      <td>2.023275</td>\n",
       "    </tr>\n",
       "    <tr>\n",
       "      <th>2</th>\n",
       "      <td>2.332462</td>\n",
       "      <td>True</td>\n",
       "      <td>10.671613</td>\n",
       "      <td>0.535949</td>\n",
       "      <td>1.865851</td>\n",
       "    </tr>\n",
       "    <tr>\n",
       "      <th>3</th>\n",
       "      <td>-0.095093</td>\n",
       "      <td>True</td>\n",
       "      <td>5.916268</td>\n",
       "      <td>0.508401</td>\n",
       "      <td>1.966951</td>\n",
       "    </tr>\n",
       "    <tr>\n",
       "      <th>4</th>\n",
       "      <td>0.348725</td>\n",
       "      <td>True</td>\n",
       "      <td>6.495579</td>\n",
       "      <td>0.513446</td>\n",
       "      <td>1.947623</td>\n",
       "    </tr>\n",
       "    <tr>\n",
       "      <th>...</th>\n",
       "      <td>...</td>\n",
       "      <td>...</td>\n",
       "      <td>...</td>\n",
       "      <td>...</td>\n",
       "      <td>...</td>\n",
       "    </tr>\n",
       "    <tr>\n",
       "      <th>995</th>\n",
       "      <td>-1.130484</td>\n",
       "      <td>True</td>\n",
       "      <td>2.736162</td>\n",
       "      <td>0.496626</td>\n",
       "      <td>2.013586</td>\n",
       "    </tr>\n",
       "    <tr>\n",
       "      <th>996</th>\n",
       "      <td>-0.913702</td>\n",
       "      <td>True</td>\n",
       "      <td>3.248578</td>\n",
       "      <td>0.499092</td>\n",
       "      <td>2.003639</td>\n",
       "    </tr>\n",
       "    <tr>\n",
       "      <th>997</th>\n",
       "      <td>-0.743403</td>\n",
       "      <td>True</td>\n",
       "      <td>4.239293</td>\n",
       "      <td>0.501029</td>\n",
       "      <td>1.995894</td>\n",
       "    </tr>\n",
       "    <tr>\n",
       "      <th>998</th>\n",
       "      <td>-2.787483</td>\n",
       "      <td>True</td>\n",
       "      <td>-3.273086</td>\n",
       "      <td>0.477796</td>\n",
       "      <td>2.092945</td>\n",
       "    </tr>\n",
       "    <tr>\n",
       "      <th>999</th>\n",
       "      <td>0.322868</td>\n",
       "      <td>True</td>\n",
       "      <td>5.874783</td>\n",
       "      <td>0.513152</td>\n",
       "      <td>1.948739</td>\n",
       "    </tr>\n",
       "  </tbody>\n",
       "</table>\n",
       "<p>1000 rows × 5 columns</p>\n",
       "</div>"
      ],
      "text/plain": [
       "           W0    v0          y  propensity_score    weight\n",
       "0   -1.323943  True   2.361578          0.494426  2.022546\n",
       "1   -1.339604  True   0.070729          0.494248  2.023275\n",
       "2    2.332462  True  10.671613          0.535949  1.865851\n",
       "3   -0.095093  True   5.916268          0.508401  1.966951\n",
       "4    0.348725  True   6.495579          0.513446  1.947623\n",
       "..        ...   ...        ...               ...       ...\n",
       "995 -1.130484  True   2.736162          0.496626  2.013586\n",
       "996 -0.913702  True   3.248578          0.499092  2.003639\n",
       "997 -0.743403  True   4.239293          0.501029  1.995894\n",
       "998 -2.787483  True  -3.273086          0.477796  2.092945\n",
       "999  0.322868  True   5.874783          0.513152  1.948739\n",
       "\n",
       "[1000 rows x 5 columns]"
      ]
     },
     "execution_count": 7,
     "metadata": {},
     "output_type": "execute_result"
    }
   ],
   "source": [
    "cdf_1"
   ]
  },
  {
   "cell_type": "markdown",
   "metadata": {},
   "source": [
    "## Comparing the estimate to Linear Regression\n",
    "First, estimating the effect using the causal data frame, and the 95% confidence interval."
   ]
  },
  {
   "cell_type": "code",
   "execution_count": 8,
   "metadata": {
    "execution": {
     "iopub.execute_input": "2022-10-17T14:48:31.798059Z",
     "iopub.status.busy": "2022-10-17T14:48:31.797760Z",
     "iopub.status.idle": "2022-10-17T14:48:31.873985Z",
     "shell.execute_reply": "2022-10-17T14:48:31.873024Z"
    }
   },
   "outputs": [
    {
     "data": {
      "image/png": "[encoded data removed]",
      "text/latex": [
       "$\\displaystyle 5.04111516419754$"
      ],
      "text/plain": [
       "5.041115164197535"
      ]
     },
     "execution_count": 8,
     "metadata": {},
     "output_type": "execute_result"
    }
   ],
   "source": [
    "(cdf_1['y'] - cdf_0['y']).mean()"
   ]
  },
  {
   "cell_type": "code",
   "execution_count": 9,
   "metadata": {
    "execution": {
     "iopub.execute_input": "2022-10-17T14:48:31.878492Z",
     "iopub.status.busy": "2022-10-17T14:48:31.878205Z",
     "iopub.status.idle": "2022-10-17T14:48:31.905465Z",
     "shell.execute_reply": "2022-10-17T14:48:31.904516Z"
    }
   },
   "outputs": [
    {
     "data": {
      "image/png": "[encoded data removed]",
      "text/latex": [
       "$\\displaystyle 0.266640309701441$"
      ],
      "text/plain": [
       "0.2666403097014412"
      ]
     },
     "execution_count": 9,
     "metadata": {},
     "output_type": "execute_result"
    }
   ],
   "source": [
    "1.96*(cdf_1['y'] - cdf_0['y']).std() / np.sqrt(len(df))"
   ]
  },
  {
   "cell_type": "markdown",
   "metadata": {},
   "source": [
    "Comparing to the estimate from OLS."
   ]
  },
  {
   "cell_type": "code",
   "execution_count": 10,
   "metadata": {
    "execution": {
     "iopub.execute_input": "2022-10-17T14:48:31.909665Z",
     "iopub.status.busy": "2022-10-17T14:48:31.909377Z",
     "iopub.status.idle": "2022-10-17T14:48:31.930754Z",
     "shell.execute_reply": "2022-10-17T14:48:31.929731Z"
    }
   },
   "outputs": [
    {
     "data": {
      "text/html": [
       "<table class=\"simpletable\">\n",
       "<caption>OLS Regression Results</caption>\n",
       "<tr>\n",
       "  <th>Dep. Variable:</th>            <td>y</td>        <th>  R-squared (uncentered):</th>      <td>   0.935</td>\n",
       "</tr>\n",
       "<tr>\n",
       "  <th>Model:</th>                   <td>OLS</td>       <th>  Adj. R-squared (uncentered):</th> <td>   0.935</td>\n",
       "</tr>\n",
       "<tr>\n",
       "  <th>Method:</th>             <td>Least Squares</td>  <th>  F-statistic:       </th>          <td>   7196.</td>\n",
       "</tr>\n",
       "<tr>\n",
       "  <th>Date:</th>             <td>Mon, 17 Oct 2022</td> <th>  Prob (F-statistic):</th>           <td>  0.00</td> \n",
       "</tr>\n",
       "<tr>\n",
       "  <th>Time:</th>                 <td>14:48:31</td>     <th>  Log-Likelihood:    </th>          <td> -1431.3</td>\n",
       "</tr>\n",
       "<tr>\n",
       "  <th>No. Observations:</th>      <td>  1000</td>      <th>  AIC:               </th>          <td>   2867.</td>\n",
       "</tr>\n",
       "<tr>\n",
       "  <th>Df Residuals:</th>          <td>   998</td>      <th>  BIC:               </th>          <td>   2876.</td>\n",
       "</tr>\n",
       "<tr>\n",
       "  <th>Df Model:</th>              <td>     2</td>      <th>                     </th>              <td> </td>   \n",
       "</tr>\n",
       "<tr>\n",
       "  <th>Covariance Type:</th>      <td>nonrobust</td>    <th>                     </th>              <td> </td>   \n",
       "</tr>\n",
       "</table>\n",
       "<table class=\"simpletable\">\n",
       "<tr>\n",
       "   <td></td>     <th>coef</th>     <th>std err</th>      <th>t</th>      <th>P>|t|</th>  <th>[0.025</th>    <th>0.975]</th>  \n",
       "</tr>\n",
       "<tr>\n",
       "  <th>x1</th> <td>    2.8706</td> <td>    0.027</td> <td>  107.633</td> <td> 0.000</td> <td>    2.818</td> <td>    2.923</td>\n",
       "</tr>\n",
       "<tr>\n",
       "  <th>x2</th> <td>    4.9841</td> <td>    0.051</td> <td>   97.132</td> <td> 0.000</td> <td>    4.883</td> <td>    5.085</td>\n",
       "</tr>\n",
       "</table>\n",
       "<table class=\"simpletable\">\n",
       "<tr>\n",
       "  <th>Omnibus:</th>       <td> 0.221</td> <th>  Durbin-Watson:     </th> <td>   2.123</td>\n",
       "</tr>\n",
       "<tr>\n",
       "  <th>Prob(Omnibus):</th> <td> 0.895</td> <th>  Jarque-Bera (JB):  </th> <td>   0.283</td>\n",
       "</tr>\n",
       "<tr>\n",
       "  <th>Skew:</th>          <td>-0.030</td> <th>  Prob(JB):          </th> <td>   0.868</td>\n",
       "</tr>\n",
       "<tr>\n",
       "  <th>Kurtosis:</th>      <td> 2.942</td> <th>  Cond. No.          </th> <td>    2.34</td>\n",
       "</tr>\n",
       "</table><br/><br/>Notes:<br/>[1] R² is computed without centering (uncentered) since the model does not contain a constant.<br/>[2] Standard Errors assume that the covariance matrix of the errors is correctly specified."
      ],
      "text/plain": [
       "<class 'statsmodels.iolib.summary.Summary'>\n",
       "\"\"\"\n",
       "                                 OLS Regression Results                                \n",
       "=======================================================================================\n",
       "Dep. Variable:                      y   R-squared (uncentered):                   0.935\n",
       "Model:                            OLS   Adj. R-squared (uncentered):              0.935\n",
       "Method:                 Least Squares   F-statistic:                              7196.\n",
       "Date:                Mon, 17 Oct 2022   Prob (F-statistic):                        0.00\n",
       "Time:                        14:48:31   Log-Likelihood:                         -1431.3\n",
       "No. Observations:                1000   AIC:                                      2867.\n",
       "Df Residuals:                     998   BIC:                                      2876.\n",
       "Df Model:                           2                                                  \n",
       "Covariance Type:            nonrobust                                                  \n",
       "==============================================================================\n",
       "                 coef    std err          t      P>|t|      [0.025      0.975]\n",
       "------------------------------------------------------------------------------\n",
       "x1             2.8706      0.027    107.633      0.000       2.818       2.923\n",
       "x2             4.9841      0.051     97.132      0.000       4.883       5.085\n",
       "==============================================================================\n",
       "Omnibus:                        0.221   Durbin-Watson:                   2.123\n",
       "Prob(Omnibus):                  0.895   Jarque-Bera (JB):                0.283\n",
       "Skew:                          -0.030   Prob(JB):                        0.868\n",
       "Kurtosis:                       2.942   Cond. No.                         2.34\n",
       "==============================================================================\n",
       "\n",
       "Notes:\n",
       "[1] R² is computed without centering (uncentered) since the model does not contain a constant.\n",
       "[2] Standard Errors assume that the covariance matrix of the errors is correctly specified.\n",
       "\"\"\""
      ]
     },
     "execution_count": 10,
     "metadata": {},
     "output_type": "execute_result"
    }
   ],
   "source": [
    "model = OLS(np.asarray(df[outcome]), np.asarray(df[[common_cause, treatment]], dtype=np.float64))\n",
    "result = model.fit()\n",
    "result.summary()"
   ]
  }
 ],
 "metadata": {
  "kernelspec": {
   "display_name": "Python 3",
   "language": "python",
   "name": "python3"
  },
  "language_info": {
   "codemirror_mode": {
    "name": "ipython",
    "version": 3
   },
   "file_extension": ".py",
   "mimetype": "text/x-python",
   "name": "python",
   "nbconvert_exporter": "python",
   "pygments_lexer": "ipython3",
   "version": "3.8.10"
  },
  "toc": {
   "base_numbering": 1,
   "nav_menu": {},
   "number_sections": false,
   "sideBar": true,
   "skip_h1_title": true,
   "title_cell": "Table of Contents",
   "title_sidebar": "Contents",
   "toc_cell": false,
   "toc_position": {},
   "toc_section_display": true,
   "toc_window_display": false
  }
 },
 "nbformat": 4,
 "nbformat_minor": 4
}
