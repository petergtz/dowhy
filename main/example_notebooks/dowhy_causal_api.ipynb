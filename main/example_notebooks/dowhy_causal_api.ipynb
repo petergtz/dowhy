{
 "cells": [
  {
   "cell_type": "markdown",
   "metadata": {},
   "source": [
    "# Demo for the DoWhy causal API\n",
    "We show a simple example of adding a causal extension to any dataframe. "
   ]
  },
  {
   "cell_type": "code",
   "execution_count": 1,
   "metadata": {
    "execution": {
     "iopub.execute_input": "2022-09-06T08:06:32.516474Z",
     "iopub.status.busy": "2022-09-06T08:06:32.515966Z",
     "iopub.status.idle": "2022-09-06T08:06:33.736396Z",
     "shell.execute_reply": "2022-09-06T08:06:33.735264Z"
    }
   },
   "outputs": [],
   "source": [
    "import dowhy.datasets\n",
    "import dowhy.api\n",
    "\n",
    "import numpy as np\n",
    "import pandas as pd\n",
    "\n",
    "from statsmodels.api import OLS"
   ]
  },
  {
   "cell_type": "code",
   "execution_count": 2,
   "metadata": {
    "execution": {
     "iopub.execute_input": "2022-09-06T08:06:33.740448Z",
     "iopub.status.busy": "2022-09-06T08:06:33.740049Z",
     "iopub.status.idle": "2022-09-06T08:06:33.785683Z",
     "shell.execute_reply": "2022-09-06T08:06:33.785000Z"
    }
   },
   "outputs": [
    {
     "data": {
      "text/html": [
       "<div>\n",
       "<style scoped>\n",
       "    .dataframe tbody tr th:only-of-type {\n",
       "        vertical-align: middle;\n",
       "    }\n",
       "\n",
       "    .dataframe tbody tr th {\n",
       "        vertical-align: top;\n",
       "    }\n",
       "\n",
       "    .dataframe thead th {\n",
       "        text-align: right;\n",
       "    }\n",
       "</style>\n",
       "<table border=\"1\" class=\"dataframe\">\n",
       "  <thead>\n",
       "    <tr style=\"text-align: right;\">\n",
       "      <th></th>\n",
       "      <th>W0</th>\n",
       "      <th>v0</th>\n",
       "      <th>y</th>\n",
       "    </tr>\n",
       "  </thead>\n",
       "  <tbody>\n",
       "    <tr>\n",
       "      <th>0</th>\n",
       "      <td>1.405418</td>\n",
       "      <td>False</td>\n",
       "      <td>2.112417</td>\n",
       "    </tr>\n",
       "    <tr>\n",
       "      <th>1</th>\n",
       "      <td>-1.066220</td>\n",
       "      <td>False</td>\n",
       "      <td>1.173738</td>\n",
       "    </tr>\n",
       "    <tr>\n",
       "      <th>2</th>\n",
       "      <td>0.067600</td>\n",
       "      <td>True</td>\n",
       "      <td>4.971389</td>\n",
       "    </tr>\n",
       "    <tr>\n",
       "      <th>3</th>\n",
       "      <td>-1.769064</td>\n",
       "      <td>False</td>\n",
       "      <td>-1.132984</td>\n",
       "    </tr>\n",
       "    <tr>\n",
       "      <th>4</th>\n",
       "      <td>1.327620</td>\n",
       "      <td>False</td>\n",
       "      <td>1.080546</td>\n",
       "    </tr>\n",
       "    <tr>\n",
       "      <th>...</th>\n",
       "      <td>...</td>\n",
       "      <td>...</td>\n",
       "      <td>...</td>\n",
       "    </tr>\n",
       "    <tr>\n",
       "      <th>995</th>\n",
       "      <td>-1.939594</td>\n",
       "      <td>True</td>\n",
       "      <td>4.811588</td>\n",
       "    </tr>\n",
       "    <tr>\n",
       "      <th>996</th>\n",
       "      <td>-0.925954</td>\n",
       "      <td>True</td>\n",
       "      <td>5.042209</td>\n",
       "    </tr>\n",
       "    <tr>\n",
       "      <th>997</th>\n",
       "      <td>0.494302</td>\n",
       "      <td>True</td>\n",
       "      <td>5.216215</td>\n",
       "    </tr>\n",
       "    <tr>\n",
       "      <th>998</th>\n",
       "      <td>-0.283598</td>\n",
       "      <td>True</td>\n",
       "      <td>5.031695</td>\n",
       "    </tr>\n",
       "    <tr>\n",
       "      <th>999</th>\n",
       "      <td>1.148790</td>\n",
       "      <td>False</td>\n",
       "      <td>0.899169</td>\n",
       "    </tr>\n",
       "  </tbody>\n",
       "</table>\n",
       "<p>1000 rows × 3 columns</p>\n",
       "</div>"
      ],
      "text/plain": [
       "           W0     v0         y\n",
       "0    1.405418  False  2.112417\n",
       "1   -1.066220  False  1.173738\n",
       "2    0.067600   True  4.971389\n",
       "3   -1.769064  False -1.132984\n",
       "4    1.327620  False  1.080546\n",
       "..        ...    ...       ...\n",
       "995 -1.939594   True  4.811588\n",
       "996 -0.925954   True  5.042209\n",
       "997  0.494302   True  5.216215\n",
       "998 -0.283598   True  5.031695\n",
       "999  1.148790  False  0.899169\n",
       "\n",
       "[1000 rows x 3 columns]"
      ]
     },
     "execution_count": 2,
     "metadata": {},
     "output_type": "execute_result"
    }
   ],
   "source": [
    "data = dowhy.datasets.linear_dataset(beta=5,\n",
    "        num_common_causes=1,\n",
    "        num_instruments = 0,\n",
    "        num_samples=1000,\n",
    "        treatment_is_binary=True)\n",
    "df = data['df']\n",
    "df['y'] = df['y'] + np.random.normal(size=len(df)) # Adding noise to data. Without noise, the variance in Y|X, Z is zero, and mcmc fails.\n",
    "#data['dot_graph'] = 'digraph { v ->y;X0-> v;X0-> y;}'\n",
    "\n",
    "treatment= data[\"treatment_name\"][0]\n",
    "outcome = data[\"outcome_name\"][0]\n",
    "common_cause = data[\"common_causes_names\"][0]\n",
    "df"
   ]
  },
  {
   "cell_type": "code",
   "execution_count": 3,
   "metadata": {
    "execution": {
     "iopub.execute_input": "2022-09-06T08:06:33.789377Z",
     "iopub.status.busy": "2022-09-06T08:06:33.788880Z",
     "iopub.status.idle": "2022-09-06T08:06:34.595053Z",
     "shell.execute_reply": "2022-09-06T08:06:34.594446Z"
    }
   },
   "outputs": [
    {
     "data": {
      "text/plain": [
       "<AxesSubplot:xlabel='v0'>"
      ]
     },
     "execution_count": 3,
     "metadata": {},
     "output_type": "execute_result"
    },
    {
     "data": {
      "image/png": "[encoded data removed]",
      "text/plain": [
       "<Figure size 640x480 with 1 Axes>"
      ]
     },
     "metadata": {},
     "output_type": "display_data"
    }
   ],
   "source": [
    "# data['df'] is just a regular pandas.DataFrame\n",
    "df.causal.do(x=treatment,\n",
    "                     variable_types={treatment: 'b', outcome: 'c', common_cause: 'c'},\n",
    "                     outcome=outcome,\n",
    "                     common_causes=[common_cause],\n",
    "                     proceed_when_unidentifiable=True).groupby(treatment).mean().plot(y=outcome, kind='bar')"
   ]
  },
  {
   "cell_type": "code",
   "execution_count": 4,
   "metadata": {
    "execution": {
     "iopub.execute_input": "2022-09-06T08:06:34.599796Z",
     "iopub.status.busy": "2022-09-06T08:06:34.598587Z",
     "iopub.status.idle": "2022-09-06T08:06:34.710465Z",
     "shell.execute_reply": "2022-09-06T08:06:34.709866Z"
    }
   },
   "outputs": [
    {
     "data": {
      "text/plain": [
       "<AxesSubplot:xlabel='v0'>"
      ]
     },
     "execution_count": 4,
     "metadata": {},
     "output_type": "execute_result"
    },
    {
     "data": {
      "image/png": "[encoded data removed]",
      "text/plain": [
       "<Figure size 640x480 with 1 Axes>"
      ]
     },
     "metadata": {},
     "output_type": "display_data"
    }
   ],
   "source": [
    "df.causal.do(x={treatment: 1}, \n",
    "              variable_types={treatment:'b', outcome: 'c', common_cause: 'c'}, \n",
    "              outcome=outcome,\n",
    "              method='weighting', \n",
    "              common_causes=[common_cause],\n",
    "              proceed_when_unidentifiable=True).groupby(treatment).mean().plot(y=outcome, kind='bar')"
   ]
  },
  {
   "cell_type": "code",
   "execution_count": 5,
   "metadata": {
    "execution": {
     "iopub.execute_input": "2022-09-06T08:06:34.714826Z",
     "iopub.status.busy": "2022-09-06T08:06:34.713708Z",
     "iopub.status.idle": "2022-09-06T08:06:34.747443Z",
     "shell.execute_reply": "2022-09-06T08:06:34.746803Z"
    }
   },
   "outputs": [],
   "source": [
    "cdf_1 = df.causal.do(x={treatment: 1}, \n",
    "              variable_types={treatment: 'b', outcome: 'c', common_cause: 'c'}, \n",
    "              outcome=outcome, \n",
    "              dot_graph=data['dot_graph'],\n",
    "              proceed_when_unidentifiable=True)\n",
    "\n",
    "cdf_0 = df.causal.do(x={treatment: 0}, \n",
    "              variable_types={treatment: 'b', outcome: 'c', common_cause: 'c'}, \n",
    "              outcome=outcome, \n",
    "              dot_graph=data['dot_graph'],\n",
    "              proceed_when_unidentifiable=True)\n"
   ]
  },
  {
   "cell_type": "code",
   "execution_count": 6,
   "metadata": {
    "execution": {
     "iopub.execute_input": "2022-09-06T08:06:34.750834Z",
     "iopub.status.busy": "2022-09-06T08:06:34.750450Z",
     "iopub.status.idle": "2022-09-06T08:06:34.763170Z",
     "shell.execute_reply": "2022-09-06T08:06:34.762227Z"
    },
    "scrolled": true
   },
   "outputs": [
    {
     "data": {
      "text/html": [
       "<div>\n",
       "<style scoped>\n",
       "    .dataframe tbody tr th:only-of-type {\n",
       "        vertical-align: middle;\n",
       "    }\n",
       "\n",
       "    .dataframe tbody tr th {\n",
       "        vertical-align: top;\n",
       "    }\n",
       "\n",
       "    .dataframe thead th {\n",
       "        text-align: right;\n",
       "    }\n",
       "</style>\n",
       "<table border=\"1\" class=\"dataframe\">\n",
       "  <thead>\n",
       "    <tr style=\"text-align: right;\">\n",
       "      <th></th>\n",
       "      <th>W0</th>\n",
       "      <th>v0</th>\n",
       "      <th>y</th>\n",
       "      <th>propensity_score</th>\n",
       "      <th>weight</th>\n",
       "    </tr>\n",
       "  </thead>\n",
       "  <tbody>\n",
       "    <tr>\n",
       "      <th>0</th>\n",
       "      <td>-0.001025</td>\n",
       "      <td>False</td>\n",
       "      <td>-1.067650</td>\n",
       "      <td>0.500187</td>\n",
       "      <td>1.999251</td>\n",
       "    </tr>\n",
       "    <tr>\n",
       "      <th>1</th>\n",
       "      <td>-2.070262</td>\n",
       "      <td>False</td>\n",
       "      <td>1.256696</td>\n",
       "      <td>0.721828</td>\n",
       "      <td>1.385371</td>\n",
       "    </tr>\n",
       "    <tr>\n",
       "      <th>2</th>\n",
       "      <td>-0.405488</td>\n",
       "      <td>False</td>\n",
       "      <td>1.235605</td>\n",
       "      <td>0.546611</td>\n",
       "      <td>1.829453</td>\n",
       "    </tr>\n",
       "    <tr>\n",
       "      <th>3</th>\n",
       "      <td>-1.258449</td>\n",
       "      <td>False</td>\n",
       "      <td>-0.910764</td>\n",
       "      <td>0.641008</td>\n",
       "      <td>1.560042</td>\n",
       "    </tr>\n",
       "    <tr>\n",
       "      <th>4</th>\n",
       "      <td>-0.171460</td>\n",
       "      <td>False</td>\n",
       "      <td>-0.487344</td>\n",
       "      <td>0.519797</td>\n",
       "      <td>1.923829</td>\n",
       "    </tr>\n",
       "    <tr>\n",
       "      <th>...</th>\n",
       "      <td>...</td>\n",
       "      <td>...</td>\n",
       "      <td>...</td>\n",
       "      <td>...</td>\n",
       "      <td>...</td>\n",
       "    </tr>\n",
       "    <tr>\n",
       "      <th>995</th>\n",
       "      <td>1.421296</td>\n",
       "      <td>False</td>\n",
       "      <td>-0.174220</td>\n",
       "      <td>0.342050</td>\n",
       "      <td>2.923548</td>\n",
       "    </tr>\n",
       "    <tr>\n",
       "      <th>996</th>\n",
       "      <td>0.086384</td>\n",
       "      <td>False</td>\n",
       "      <td>-0.616153</td>\n",
       "      <td>0.490127</td>\n",
       "      <td>2.040289</td>\n",
       "    </tr>\n",
       "    <tr>\n",
       "      <th>997</th>\n",
       "      <td>-0.798327</td>\n",
       "      <td>False</td>\n",
       "      <td>0.444761</td>\n",
       "      <td>0.590945</td>\n",
       "      <td>1.692204</td>\n",
       "    </tr>\n",
       "    <tr>\n",
       "      <th>998</th>\n",
       "      <td>-0.162754</td>\n",
       "      <td>False</td>\n",
       "      <td>-1.585023</td>\n",
       "      <td>0.518796</td>\n",
       "      <td>1.927540</td>\n",
       "    </tr>\n",
       "    <tr>\n",
       "      <th>999</th>\n",
       "      <td>0.750956</td>\n",
       "      <td>False</td>\n",
       "      <td>0.172833</td>\n",
       "      <td>0.414472</td>\n",
       "      <td>2.412706</td>\n",
       "    </tr>\n",
       "  </tbody>\n",
       "</table>\n",
       "<p>1000 rows × 5 columns</p>\n",
       "</div>"
      ],
      "text/plain": [
       "           W0     v0         y  propensity_score    weight\n",
       "0   -0.001025  False -1.067650          0.500187  1.999251\n",
       "1   -2.070262  False  1.256696          0.721828  1.385371\n",
       "2   -0.405488  False  1.235605          0.546611  1.829453\n",
       "3   -1.258449  False -0.910764          0.641008  1.560042\n",
       "4   -0.171460  False -0.487344          0.519797  1.923829\n",
       "..        ...    ...       ...               ...       ...\n",
       "995  1.421296  False -0.174220          0.342050  2.923548\n",
       "996  0.086384  False -0.616153          0.490127  2.040289\n",
       "997 -0.798327  False  0.444761          0.590945  1.692204\n",
       "998 -0.162754  False -1.585023          0.518796  1.927540\n",
       "999  0.750956  False  0.172833          0.414472  2.412706\n",
       "\n",
       "[1000 rows x 5 columns]"
      ]
     },
     "execution_count": 6,
     "metadata": {},
     "output_type": "execute_result"
    }
   ],
   "source": [
    "cdf_0"
   ]
  },
  {
   "cell_type": "code",
   "execution_count": 7,
   "metadata": {
    "execution": {
     "iopub.execute_input": "2022-09-06T08:06:34.765990Z",
     "iopub.status.busy": "2022-09-06T08:06:34.765623Z",
     "iopub.status.idle": "2022-09-06T08:06:34.776242Z",
     "shell.execute_reply": "2022-09-06T08:06:34.775569Z"
    }
   },
   "outputs": [
    {
     "data": {
      "text/html": [
       "<div>\n",
       "<style scoped>\n",
       "    .dataframe tbody tr th:only-of-type {\n",
       "        vertical-align: middle;\n",
       "    }\n",
       "\n",
       "    .dataframe tbody tr th {\n",
       "        vertical-align: top;\n",
       "    }\n",
       "\n",
       "    .dataframe thead th {\n",
       "        text-align: right;\n",
       "    }\n",
       "</style>\n",
       "<table border=\"1\" class=\"dataframe\">\n",
       "  <thead>\n",
       "    <tr style=\"text-align: right;\">\n",
       "      <th></th>\n",
       "      <th>W0</th>\n",
       "      <th>v0</th>\n",
       "      <th>y</th>\n",
       "      <th>propensity_score</th>\n",
       "      <th>weight</th>\n",
       "    </tr>\n",
       "  </thead>\n",
       "  <tbody>\n",
       "    <tr>\n",
       "      <th>0</th>\n",
       "      <td>0.873926</td>\n",
       "      <td>True</td>\n",
       "      <td>5.026358</td>\n",
       "      <td>0.599199</td>\n",
       "      <td>1.668894</td>\n",
       "    </tr>\n",
       "    <tr>\n",
       "      <th>1</th>\n",
       "      <td>0.578638</td>\n",
       "      <td>True</td>\n",
       "      <td>4.688932</td>\n",
       "      <td>0.566150</td>\n",
       "      <td>1.766315</td>\n",
       "    </tr>\n",
       "    <tr>\n",
       "      <th>2</th>\n",
       "      <td>-1.218090</td>\n",
       "      <td>True</td>\n",
       "      <td>6.196127</td>\n",
       "      <td>0.363279</td>\n",
       "      <td>2.752702</td>\n",
       "    </tr>\n",
       "    <tr>\n",
       "      <th>3</th>\n",
       "      <td>0.326422</td>\n",
       "      <td>True</td>\n",
       "      <td>5.052820</td>\n",
       "      <td>0.537436</td>\n",
       "      <td>1.860685</td>\n",
       "    </tr>\n",
       "    <tr>\n",
       "      <th>4</th>\n",
       "      <td>-1.377334</td>\n",
       "      <td>True</td>\n",
       "      <td>4.958819</td>\n",
       "      <td>0.346494</td>\n",
       "      <td>2.886049</td>\n",
       "    </tr>\n",
       "    <tr>\n",
       "      <th>...</th>\n",
       "      <td>...</td>\n",
       "      <td>...</td>\n",
       "      <td>...</td>\n",
       "      <td>...</td>\n",
       "      <td>...</td>\n",
       "    </tr>\n",
       "    <tr>\n",
       "      <th>995</th>\n",
       "      <td>-1.153404</td>\n",
       "      <td>True</td>\n",
       "      <td>5.728081</td>\n",
       "      <td>0.370197</td>\n",
       "      <td>2.701267</td>\n",
       "    </tr>\n",
       "    <tr>\n",
       "      <th>996</th>\n",
       "      <td>1.787777</td>\n",
       "      <td>True</td>\n",
       "      <td>4.553946</td>\n",
       "      <td>0.694856</td>\n",
       "      <td>1.439147</td>\n",
       "    </tr>\n",
       "    <tr>\n",
       "      <th>997</th>\n",
       "      <td>-0.827863</td>\n",
       "      <td>True</td>\n",
       "      <td>4.576651</td>\n",
       "      <td>0.405771</td>\n",
       "      <td>2.464443</td>\n",
       "    </tr>\n",
       "    <tr>\n",
       "      <th>998</th>\n",
       "      <td>0.288580</td>\n",
       "      <td>True</td>\n",
       "      <td>3.054898</td>\n",
       "      <td>0.533102</td>\n",
       "      <td>1.875814</td>\n",
       "    </tr>\n",
       "    <tr>\n",
       "      <th>999</th>\n",
       "      <td>-0.413863</td>\n",
       "      <td>True</td>\n",
       "      <td>2.580943</td>\n",
       "      <td>0.452433</td>\n",
       "      <td>2.210272</td>\n",
       "    </tr>\n",
       "  </tbody>\n",
       "</table>\n",
       "<p>1000 rows × 5 columns</p>\n",
       "</div>"
      ],
      "text/plain": [
       "           W0    v0         y  propensity_score    weight\n",
       "0    0.873926  True  5.026358          0.599199  1.668894\n",
       "1    0.578638  True  4.688932          0.566150  1.766315\n",
       "2   -1.218090  True  6.196127          0.363279  2.752702\n",
       "3    0.326422  True  5.052820          0.537436  1.860685\n",
       "4   -1.377334  True  4.958819          0.346494  2.886049\n",
       "..        ...   ...       ...               ...       ...\n",
       "995 -1.153404  True  5.728081          0.370197  2.701267\n",
       "996  1.787777  True  4.553946          0.694856  1.439147\n",
       "997 -0.827863  True  4.576651          0.405771  2.464443\n",
       "998  0.288580  True  3.054898          0.533102  1.875814\n",
       "999 -0.413863  True  2.580943          0.452433  2.210272\n",
       "\n",
       "[1000 rows x 5 columns]"
      ]
     },
     "execution_count": 7,
     "metadata": {},
     "output_type": "execute_result"
    }
   ],
   "source": [
    "cdf_1"
   ]
  },
  {
   "cell_type": "markdown",
   "metadata": {},
   "source": [
    "## Comparing the estimate to Linear Regression\n",
    "First, estimating the effect using the causal data frame, and the 95% confidence interval."
   ]
  },
  {
   "cell_type": "code",
   "execution_count": 8,
   "metadata": {
    "execution": {
     "iopub.execute_input": "2022-09-06T08:06:34.779071Z",
     "iopub.status.busy": "2022-09-06T08:06:34.778836Z",
     "iopub.status.idle": "2022-09-06T08:06:34.880242Z",
     "shell.execute_reply": "2022-09-06T08:06:34.879461Z"
    }
   },
   "outputs": [
    {
     "data": {
      "image/png": "[encoded data removed]",
      "text/latex": [
       "$\\displaystyle 4.94987590904302$"
      ],
      "text/plain": [
       "4.94987590904302"
      ]
     },
     "execution_count": 8,
     "metadata": {},
     "output_type": "execute_result"
    }
   ],
   "source": [
    "(cdf_1['y'] - cdf_0['y']).mean()"
   ]
  },
  {
   "cell_type": "code",
   "execution_count": 9,
   "metadata": {
    "execution": {
     "iopub.execute_input": "2022-09-06T08:06:34.883627Z",
     "iopub.status.busy": "2022-09-06T08:06:34.883244Z",
     "iopub.status.idle": "2022-09-06T08:06:34.909200Z",
     "shell.execute_reply": "2022-09-06T08:06:34.908485Z"
    }
   },
   "outputs": [
    {
     "data": {
      "image/png": "[encoded data removed]",
      "text/latex": [
       "$\\displaystyle 0.0860261381691849$"
      ],
      "text/plain": [
       "0.08602613816918495"
      ]
     },
     "execution_count": 9,
     "metadata": {},
     "output_type": "execute_result"
    }
   ],
   "source": [
    "1.96*(cdf_1['y'] - cdf_0['y']).std() / np.sqrt(len(df))"
   ]
  },
  {
   "cell_type": "markdown",
   "metadata": {},
   "source": [
    "Comparing to the estimate from OLS."
   ]
  },
  {
   "cell_type": "code",
   "execution_count": 10,
   "metadata": {
    "execution": {
     "iopub.execute_input": "2022-09-06T08:06:34.912484Z",
     "iopub.status.busy": "2022-09-06T08:06:34.912251Z",
     "iopub.status.idle": "2022-09-06T08:06:34.929647Z",
     "shell.execute_reply": "2022-09-06T08:06:34.928959Z"
    }
   },
   "outputs": [
    {
     "data": {
      "text/html": [
       "<table class=\"simpletable\">\n",
       "<caption>OLS Regression Results</caption>\n",
       "<tr>\n",
       "  <th>Dep. Variable:</th>            <td>y</td>        <th>  R-squared (uncentered):</th>      <td>   0.922</td>\n",
       "</tr>\n",
       "<tr>\n",
       "  <th>Model:</th>                   <td>OLS</td>       <th>  Adj. R-squared (uncentered):</th> <td>   0.922</td>\n",
       "</tr>\n",
       "<tr>\n",
       "  <th>Method:</th>             <td>Least Squares</td>  <th>  F-statistic:       </th>          <td>   5894.</td>\n",
       "</tr>\n",
       "<tr>\n",
       "  <th>Date:</th>             <td>Tue, 06 Sep 2022</td> <th>  Prob (F-statistic):</th>           <td>  0.00</td> \n",
       "</tr>\n",
       "<tr>\n",
       "  <th>Time:</th>                 <td>08:06:34</td>     <th>  Log-Likelihood:    </th>          <td> -1421.9</td>\n",
       "</tr>\n",
       "<tr>\n",
       "  <th>No. Observations:</th>      <td>  1000</td>      <th>  AIC:               </th>          <td>   2848.</td>\n",
       "</tr>\n",
       "<tr>\n",
       "  <th>Df Residuals:</th>          <td>   998</td>      <th>  BIC:               </th>          <td>   2858.</td>\n",
       "</tr>\n",
       "<tr>\n",
       "  <th>Df Model:</th>              <td>     2</td>      <th>                     </th>              <td> </td>   \n",
       "</tr>\n",
       "<tr>\n",
       "  <th>Covariance Type:</th>      <td>nonrobust</td>    <th>                     </th>              <td> </td>   \n",
       "</tr>\n",
       "</table>\n",
       "<table class=\"simpletable\">\n",
       "<tr>\n",
       "   <td></td>     <th>coef</th>     <th>std err</th>      <th>t</th>      <th>P>|t|</th>  <th>[0.025</th>    <th>0.975]</th>  \n",
       "</tr>\n",
       "<tr>\n",
       "  <th>x1</th> <td>   -0.0605</td> <td>    0.031</td> <td>   -1.925</td> <td> 0.054</td> <td>   -0.122</td> <td>    0.001</td>\n",
       "</tr>\n",
       "<tr>\n",
       "  <th>x2</th> <td>    5.0482</td> <td>    0.047</td> <td>  108.172</td> <td> 0.000</td> <td>    4.957</td> <td>    5.140</td>\n",
       "</tr>\n",
       "</table>\n",
       "<table class=\"simpletable\">\n",
       "<tr>\n",
       "  <th>Omnibus:</th>       <td> 2.093</td> <th>  Durbin-Watson:     </th> <td>   1.928</td>\n",
       "</tr>\n",
       "<tr>\n",
       "  <th>Prob(Omnibus):</th> <td> 0.351</td> <th>  Jarque-Bera (JB):  </th> <td>   1.916</td>\n",
       "</tr>\n",
       "<tr>\n",
       "  <th>Skew:</th>          <td>-0.015</td> <th>  Prob(JB):          </th> <td>   0.384</td>\n",
       "</tr>\n",
       "<tr>\n",
       "  <th>Kurtosis:</th>      <td> 2.788</td> <th>  Cond. No.          </th> <td>    1.49</td>\n",
       "</tr>\n",
       "</table><br/><br/>Notes:<br/>[1] R² is computed without centering (uncentered) since the model does not contain a constant.<br/>[2] Standard Errors assume that the covariance matrix of the errors is correctly specified."
      ],
      "text/plain": [
       "<class 'statsmodels.iolib.summary.Summary'>\n",
       "\"\"\"\n",
       "                                 OLS Regression Results                                \n",
       "=======================================================================================\n",
       "Dep. Variable:                      y   R-squared (uncentered):                   0.922\n",
       "Model:                            OLS   Adj. R-squared (uncentered):              0.922\n",
       "Method:                 Least Squares   F-statistic:                              5894.\n",
       "Date:                Tue, 06 Sep 2022   Prob (F-statistic):                        0.00\n",
       "Time:                        08:06:34   Log-Likelihood:                         -1421.9\n",
       "No. Observations:                1000   AIC:                                      2848.\n",
       "Df Residuals:                     998   BIC:                                      2858.\n",
       "Df Model:                           2                                                  \n",
       "Covariance Type:            nonrobust                                                  \n",
       "==============================================================================\n",
       "                 coef    std err          t      P>|t|      [0.025      0.975]\n",
       "------------------------------------------------------------------------------\n",
       "x1            -0.0605      0.031     -1.925      0.054      -0.122       0.001\n",
       "x2             5.0482      0.047    108.172      0.000       4.957       5.140\n",
       "==============================================================================\n",
       "Omnibus:                        2.093   Durbin-Watson:                   1.928\n",
       "Prob(Omnibus):                  0.351   Jarque-Bera (JB):                1.916\n",
       "Skew:                          -0.015   Prob(JB):                        0.384\n",
       "Kurtosis:                       2.788   Cond. No.                         1.49\n",
       "==============================================================================\n",
       "\n",
       "Notes:\n",
       "[1] R² is computed without centering (uncentered) since the model does not contain a constant.\n",
       "[2] Standard Errors assume that the covariance matrix of the errors is correctly specified.\n",
       "\"\"\""
      ]
     },
     "execution_count": 10,
     "metadata": {},
     "output_type": "execute_result"
    }
   ],
   "source": [
    "model = OLS(np.asarray(df[outcome]), np.asarray(df[[common_cause, treatment]], dtype=np.float64))\n",
    "result = model.fit()\n",
    "result.summary()"
   ]
  }
 ],
 "metadata": {
  "kernelspec": {
   "display_name": "Python 3",
   "language": "python",
   "name": "python3"
  },
  "language_info": {
   "codemirror_mode": {
    "name": "ipython",
    "version": 3
   },
   "file_extension": ".py",
   "mimetype": "text/x-python",
   "name": "python",
   "nbconvert_exporter": "python",
   "pygments_lexer": "ipython3",
   "version": "3.8.10"
  },
  "toc": {
   "base_numbering": 1,
   "nav_menu": {},
   "number_sections": false,
   "sideBar": true,
   "skip_h1_title": true,
   "title_cell": "Table of Contents",
   "title_sidebar": "Contents",
   "toc_cell": false,
   "toc_position": {},
   "toc_section_display": true,
   "toc_window_display": false
  }
 },
 "nbformat": 4,
 "nbformat_minor": 4
}
