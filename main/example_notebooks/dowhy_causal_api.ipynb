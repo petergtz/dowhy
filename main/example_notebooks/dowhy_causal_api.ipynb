{
 "cells": [
  {
   "cell_type": "markdown",
   "metadata": {},
   "source": [
    "# Demo for the DoWhy causal API\n",
    "We show a simple example of adding a causal extension to any dataframe. "
   ]
  },
  {
   "cell_type": "code",
   "execution_count": 1,
   "metadata": {
    "execution": {
     "iopub.execute_input": "2023-03-22T16:43:41.421739Z",
     "iopub.status.busy": "2023-03-22T16:43:41.421369Z",
     "iopub.status.idle": "2023-03-22T16:43:42.982397Z",
     "shell.execute_reply": "2023-03-22T16:43:42.981746Z"
    }
   },
   "outputs": [],
   "source": [
    "import dowhy.datasets\n",
    "import dowhy.api\n",
    "\n",
    "import numpy as np\n",
    "import pandas as pd\n",
    "\n",
    "from statsmodels.api import OLS"
   ]
  },
  {
   "cell_type": "code",
   "execution_count": 2,
   "metadata": {
    "execution": {
     "iopub.execute_input": "2023-03-22T16:43:42.986207Z",
     "iopub.status.busy": "2023-03-22T16:43:42.985536Z",
     "iopub.status.idle": "2023-03-22T16:43:43.030269Z",
     "shell.execute_reply": "2023-03-22T16:43:43.029663Z"
    }
   },
   "outputs": [
    {
     "data": {
      "text/html": [
       "<div>\n",
       "<style scoped>\n",
       "    .dataframe tbody tr th:only-of-type {\n",
       "        vertical-align: middle;\n",
       "    }\n",
       "\n",
       "    .dataframe tbody tr th {\n",
       "        vertical-align: top;\n",
       "    }\n",
       "\n",
       "    .dataframe thead th {\n",
       "        text-align: right;\n",
       "    }\n",
       "</style>\n",
       "<table border=\"1\" class=\"dataframe\">\n",
       "  <thead>\n",
       "    <tr style=\"text-align: right;\">\n",
       "      <th></th>\n",
       "      <th>W0</th>\n",
       "      <th>v0</th>\n",
       "      <th>y</th>\n",
       "    </tr>\n",
       "  </thead>\n",
       "  <tbody>\n",
       "    <tr>\n",
       "      <th>0</th>\n",
       "      <td>0.271772</td>\n",
       "      <td>True</td>\n",
       "      <td>6.095385</td>\n",
       "    </tr>\n",
       "    <tr>\n",
       "      <th>1</th>\n",
       "      <td>-0.516279</td>\n",
       "      <td>False</td>\n",
       "      <td>-0.810173</td>\n",
       "    </tr>\n",
       "    <tr>\n",
       "      <th>2</th>\n",
       "      <td>-0.646227</td>\n",
       "      <td>True</td>\n",
       "      <td>6.518671</td>\n",
       "    </tr>\n",
       "    <tr>\n",
       "      <th>3</th>\n",
       "      <td>0.553258</td>\n",
       "      <td>True</td>\n",
       "      <td>6.161136</td>\n",
       "    </tr>\n",
       "    <tr>\n",
       "      <th>4</th>\n",
       "      <td>-0.843376</td>\n",
       "      <td>True</td>\n",
       "      <td>6.229790</td>\n",
       "    </tr>\n",
       "    <tr>\n",
       "      <th>...</th>\n",
       "      <td>...</td>\n",
       "      <td>...</td>\n",
       "      <td>...</td>\n",
       "    </tr>\n",
       "    <tr>\n",
       "      <th>995</th>\n",
       "      <td>-1.197364</td>\n",
       "      <td>False</td>\n",
       "      <td>-0.089434</td>\n",
       "    </tr>\n",
       "    <tr>\n",
       "      <th>996</th>\n",
       "      <td>-0.629921</td>\n",
       "      <td>True</td>\n",
       "      <td>5.775164</td>\n",
       "    </tr>\n",
       "    <tr>\n",
       "      <th>997</th>\n",
       "      <td>-0.338736</td>\n",
       "      <td>True</td>\n",
       "      <td>2.908087</td>\n",
       "    </tr>\n",
       "    <tr>\n",
       "      <th>998</th>\n",
       "      <td>0.783775</td>\n",
       "      <td>False</td>\n",
       "      <td>1.101429</td>\n",
       "    </tr>\n",
       "    <tr>\n",
       "      <th>999</th>\n",
       "      <td>-0.231636</td>\n",
       "      <td>False</td>\n",
       "      <td>-1.788841</td>\n",
       "    </tr>\n",
       "  </tbody>\n",
       "</table>\n",
       "<p>1000 rows × 3 columns</p>\n",
       "</div>"
      ],
      "text/plain": [
       "           W0     v0         y\n",
       "0    0.271772   True  6.095385\n",
       "1   -0.516279  False -0.810173\n",
       "2   -0.646227   True  6.518671\n",
       "3    0.553258   True  6.161136\n",
       "4   -0.843376   True  6.229790\n",
       "..        ...    ...       ...\n",
       "995 -1.197364  False -0.089434\n",
       "996 -0.629921   True  5.775164\n",
       "997 -0.338736   True  2.908087\n",
       "998  0.783775  False  1.101429\n",
       "999 -0.231636  False -1.788841\n",
       "\n",
       "[1000 rows x 3 columns]"
      ]
     },
     "execution_count": 2,
     "metadata": {},
     "output_type": "execute_result"
    }
   ],
   "source": [
    "data = dowhy.datasets.linear_dataset(beta=5,\n",
    "        num_common_causes=1,\n",
    "        num_instruments = 0,\n",
    "        num_samples=1000,\n",
    "        treatment_is_binary=True)\n",
    "df = data['df']\n",
    "df['y'] = df['y'] + np.random.normal(size=len(df)) # Adding noise to data. Without noise, the variance in Y|X, Z is zero, and mcmc fails.\n",
    "#data['dot_graph'] = 'digraph { v ->y;X0-> v;X0-> y;}'\n",
    "\n",
    "treatment= data[\"treatment_name\"][0]\n",
    "outcome = data[\"outcome_name\"][0]\n",
    "common_cause = data[\"common_causes_names\"][0]\n",
    "df"
   ]
  },
  {
   "cell_type": "code",
   "execution_count": 3,
   "metadata": {
    "execution": {
     "iopub.execute_input": "2023-03-22T16:43:43.034042Z",
     "iopub.status.busy": "2023-03-22T16:43:43.032978Z",
     "iopub.status.idle": "2023-03-22T16:43:43.181908Z",
     "shell.execute_reply": "2023-03-22T16:43:43.181282Z"
    }
   },
   "outputs": [
    {
     "data": {
      "text/plain": [
       "<AxesSubplot: xlabel='v0'>"
      ]
     },
     "execution_count": 3,
     "metadata": {},
     "output_type": "execute_result"
    },
    {
     "data": {
      "image/png": "[encoded data removed]",
      "text/plain": [
       "<Figure size 640x480 with 1 Axes>"
      ]
     },
     "metadata": {},
     "output_type": "display_data"
    }
   ],
   "source": [
    "# data['df'] is just a regular pandas.DataFrame\n",
    "df.causal.do(x=treatment,\n",
    "                     variable_types={treatment: 'b', outcome: 'c', common_cause: 'c'},\n",
    "                     outcome=outcome,\n",
    "                     common_causes=[common_cause],\n",
    "                     proceed_when_unidentifiable=True).groupby(treatment).mean().plot(y=outcome, kind='bar')"
   ]
  },
  {
   "cell_type": "code",
   "execution_count": 4,
   "metadata": {
    "execution": {
     "iopub.execute_input": "2023-03-22T16:43:43.184787Z",
     "iopub.status.busy": "2023-03-22T16:43:43.184556Z",
     "iopub.status.idle": "2023-03-22T16:43:43.295071Z",
     "shell.execute_reply": "2023-03-22T16:43:43.294558Z"
    }
   },
   "outputs": [
    {
     "data": {
      "text/plain": [
       "<AxesSubplot: xlabel='v0'>"
      ]
     },
     "execution_count": 4,
     "metadata": {},
     "output_type": "execute_result"
    },
    {
     "data": {
      "image/png": "[encoded data removed]",
      "text/plain": [
       "<Figure size 640x480 with 1 Axes>"
      ]
     },
     "metadata": {},
     "output_type": "display_data"
    }
   ],
   "source": [
    "df.causal.do(x={treatment: 1}, \n",
    "              variable_types={treatment:'b', outcome: 'c', common_cause: 'c'}, \n",
    "              outcome=outcome,\n",
    "              method='weighting', \n",
    "              common_causes=[common_cause],\n",
    "              proceed_when_unidentifiable=True).groupby(treatment).mean().plot(y=outcome, kind='bar')"
   ]
  },
  {
   "cell_type": "code",
   "execution_count": 5,
   "metadata": {
    "execution": {
     "iopub.execute_input": "2023-03-22T16:43:43.297953Z",
     "iopub.status.busy": "2023-03-22T16:43:43.297563Z",
     "iopub.status.idle": "2023-03-22T16:43:43.410412Z",
     "shell.execute_reply": "2023-03-22T16:43:43.409784Z"
    }
   },
   "outputs": [],
   "source": [
    "cdf_1 = df.causal.do(x={treatment: 1}, \n",
    "              variable_types={treatment: 'b', outcome: 'c', common_cause: 'c'}, \n",
    "              outcome=outcome, \n",
    "              dot_graph=data['dot_graph'],\n",
    "              proceed_when_unidentifiable=True)\n",
    "\n",
    "cdf_0 = df.causal.do(x={treatment: 0}, \n",
    "              variable_types={treatment: 'b', outcome: 'c', common_cause: 'c'}, \n",
    "              outcome=outcome, \n",
    "              dot_graph=data['dot_graph'],\n",
    "              proceed_when_unidentifiable=True)\n"
   ]
  },
  {
   "cell_type": "code",
   "execution_count": 6,
   "metadata": {
    "execution": {
     "iopub.execute_input": "2023-03-22T16:43:43.413947Z",
     "iopub.status.busy": "2023-03-22T16:43:43.413431Z",
     "iopub.status.idle": "2023-03-22T16:43:43.423968Z",
     "shell.execute_reply": "2023-03-22T16:43:43.423366Z"
    },
    "scrolled": true
   },
   "outputs": [
    {
     "data": {
      "text/html": [
       "<div>\n",
       "<style scoped>\n",
       "    .dataframe tbody tr th:only-of-type {\n",
       "        vertical-align: middle;\n",
       "    }\n",
       "\n",
       "    .dataframe tbody tr th {\n",
       "        vertical-align: top;\n",
       "    }\n",
       "\n",
       "    .dataframe thead th {\n",
       "        text-align: right;\n",
       "    }\n",
       "</style>\n",
       "<table border=\"1\" class=\"dataframe\">\n",
       "  <thead>\n",
       "    <tr style=\"text-align: right;\">\n",
       "      <th></th>\n",
       "      <th>W0</th>\n",
       "      <th>v0</th>\n",
       "      <th>y</th>\n",
       "      <th>propensity_score</th>\n",
       "      <th>weight</th>\n",
       "    </tr>\n",
       "  </thead>\n",
       "  <tbody>\n",
       "    <tr>\n",
       "      <th>0</th>\n",
       "      <td>0.392748</td>\n",
       "      <td>False</td>\n",
       "      <td>0.348350</td>\n",
       "      <td>0.485361</td>\n",
       "      <td>2.060321</td>\n",
       "    </tr>\n",
       "    <tr>\n",
       "      <th>1</th>\n",
       "      <td>-0.027795</td>\n",
       "      <td>False</td>\n",
       "      <td>1.178441</td>\n",
       "      <td>0.497361</td>\n",
       "      <td>2.010613</td>\n",
       "    </tr>\n",
       "    <tr>\n",
       "      <th>2</th>\n",
       "      <td>-1.226358</td>\n",
       "      <td>False</td>\n",
       "      <td>0.496117</td>\n",
       "      <td>0.531530</td>\n",
       "      <td>1.881362</td>\n",
       "    </tr>\n",
       "    <tr>\n",
       "      <th>3</th>\n",
       "      <td>-0.549721</td>\n",
       "      <td>False</td>\n",
       "      <td>0.226520</td>\n",
       "      <td>0.512256</td>\n",
       "      <td>1.952150</td>\n",
       "    </tr>\n",
       "    <tr>\n",
       "      <th>4</th>\n",
       "      <td>0.406804</td>\n",
       "      <td>False</td>\n",
       "      <td>-0.075801</td>\n",
       "      <td>0.484961</td>\n",
       "      <td>2.062024</td>\n",
       "    </tr>\n",
       "    <tr>\n",
       "      <th>...</th>\n",
       "      <td>...</td>\n",
       "      <td>...</td>\n",
       "      <td>...</td>\n",
       "      <td>...</td>\n",
       "      <td>...</td>\n",
       "    </tr>\n",
       "    <tr>\n",
       "      <th>995</th>\n",
       "      <td>0.044906</td>\n",
       "      <td>False</td>\n",
       "      <td>0.654673</td>\n",
       "      <td>0.495286</td>\n",
       "      <td>2.019036</td>\n",
       "    </tr>\n",
       "    <tr>\n",
       "      <th>996</th>\n",
       "      <td>0.072479</td>\n",
       "      <td>False</td>\n",
       "      <td>-0.786685</td>\n",
       "      <td>0.494499</td>\n",
       "      <td>2.022249</td>\n",
       "    </tr>\n",
       "    <tr>\n",
       "      <th>997</th>\n",
       "      <td>0.962766</td>\n",
       "      <td>False</td>\n",
       "      <td>2.677095</td>\n",
       "      <td>0.469126</td>\n",
       "      <td>2.131622</td>\n",
       "    </tr>\n",
       "    <tr>\n",
       "      <th>998</th>\n",
       "      <td>-1.106044</td>\n",
       "      <td>False</td>\n",
       "      <td>-0.851667</td>\n",
       "      <td>0.528108</td>\n",
       "      <td>1.893553</td>\n",
       "    </tr>\n",
       "    <tr>\n",
       "      <th>999</th>\n",
       "      <td>-2.091557</td>\n",
       "      <td>False</td>\n",
       "      <td>0.408303</td>\n",
       "      <td>0.556031</td>\n",
       "      <td>1.798461</td>\n",
       "    </tr>\n",
       "  </tbody>\n",
       "</table>\n",
       "<p>1000 rows × 5 columns</p>\n",
       "</div>"
      ],
      "text/plain": [
       "           W0     v0         y  propensity_score    weight\n",
       "0    0.392748  False  0.348350          0.485361  2.060321\n",
       "1   -0.027795  False  1.178441          0.497361  2.010613\n",
       "2   -1.226358  False  0.496117          0.531530  1.881362\n",
       "3   -0.549721  False  0.226520          0.512256  1.952150\n",
       "4    0.406804  False -0.075801          0.484961  2.062024\n",
       "..        ...    ...       ...               ...       ...\n",
       "995  0.044906  False  0.654673          0.495286  2.019036\n",
       "996  0.072479  False -0.786685          0.494499  2.022249\n",
       "997  0.962766  False  2.677095          0.469126  2.131622\n",
       "998 -1.106044  False -0.851667          0.528108  1.893553\n",
       "999 -2.091557  False  0.408303          0.556031  1.798461\n",
       "\n",
       "[1000 rows x 5 columns]"
      ]
     },
     "execution_count": 6,
     "metadata": {},
     "output_type": "execute_result"
    }
   ],
   "source": [
    "cdf_0"
   ]
  },
  {
   "cell_type": "code",
   "execution_count": 7,
   "metadata": {
    "execution": {
     "iopub.execute_input": "2023-03-22T16:43:43.426614Z",
     "iopub.status.busy": "2023-03-22T16:43:43.426406Z",
     "iopub.status.idle": "2023-03-22T16:43:43.436677Z",
     "shell.execute_reply": "2023-03-22T16:43:43.436075Z"
    }
   },
   "outputs": [
    {
     "data": {
      "text/html": [
       "<div>\n",
       "<style scoped>\n",
       "    .dataframe tbody tr th:only-of-type {\n",
       "        vertical-align: middle;\n",
       "    }\n",
       "\n",
       "    .dataframe tbody tr th {\n",
       "        vertical-align: top;\n",
       "    }\n",
       "\n",
       "    .dataframe thead th {\n",
       "        text-align: right;\n",
       "    }\n",
       "</style>\n",
       "<table border=\"1\" class=\"dataframe\">\n",
       "  <thead>\n",
       "    <tr style=\"text-align: right;\">\n",
       "      <th></th>\n",
       "      <th>W0</th>\n",
       "      <th>v0</th>\n",
       "      <th>y</th>\n",
       "      <th>propensity_score</th>\n",
       "      <th>weight</th>\n",
       "    </tr>\n",
       "  </thead>\n",
       "  <tbody>\n",
       "    <tr>\n",
       "      <th>0</th>\n",
       "      <td>0.634226</td>\n",
       "      <td>True</td>\n",
       "      <td>5.974971</td>\n",
       "      <td>0.521522</td>\n",
       "      <td>1.917464</td>\n",
       "    </tr>\n",
       "    <tr>\n",
       "      <th>1</th>\n",
       "      <td>1.890716</td>\n",
       "      <td>True</td>\n",
       "      <td>6.289931</td>\n",
       "      <td>0.557149</td>\n",
       "      <td>1.794853</td>\n",
       "    </tr>\n",
       "    <tr>\n",
       "      <th>2</th>\n",
       "      <td>-0.247286</td>\n",
       "      <td>True</td>\n",
       "      <td>4.564480</td>\n",
       "      <td>0.496374</td>\n",
       "      <td>2.014609</td>\n",
       "    </tr>\n",
       "    <tr>\n",
       "      <th>3</th>\n",
       "      <td>0.040778</td>\n",
       "      <td>True</td>\n",
       "      <td>6.201517</td>\n",
       "      <td>0.504596</td>\n",
       "      <td>1.981782</td>\n",
       "    </tr>\n",
       "    <tr>\n",
       "      <th>4</th>\n",
       "      <td>-0.104760</td>\n",
       "      <td>True</td>\n",
       "      <td>6.323085</td>\n",
       "      <td>0.500442</td>\n",
       "      <td>1.998232</td>\n",
       "    </tr>\n",
       "    <tr>\n",
       "      <th>...</th>\n",
       "      <td>...</td>\n",
       "      <td>...</td>\n",
       "      <td>...</td>\n",
       "      <td>...</td>\n",
       "      <td>...</td>\n",
       "    </tr>\n",
       "    <tr>\n",
       "      <th>995</th>\n",
       "      <td>-2.244410</td>\n",
       "      <td>True</td>\n",
       "      <td>4.694722</td>\n",
       "      <td>0.439665</td>\n",
       "      <td>2.274457</td>\n",
       "    </tr>\n",
       "    <tr>\n",
       "      <th>996</th>\n",
       "      <td>0.040778</td>\n",
       "      <td>True</td>\n",
       "      <td>6.201517</td>\n",
       "      <td>0.504596</td>\n",
       "      <td>1.981782</td>\n",
       "    </tr>\n",
       "    <tr>\n",
       "      <th>997</th>\n",
       "      <td>-0.754456</td>\n",
       "      <td>True</td>\n",
       "      <td>5.426650</td>\n",
       "      <td>0.481906</td>\n",
       "      <td>2.075094</td>\n",
       "    </tr>\n",
       "    <tr>\n",
       "      <th>998</th>\n",
       "      <td>-0.727225</td>\n",
       "      <td>True</td>\n",
       "      <td>5.312729</td>\n",
       "      <td>0.482682</td>\n",
       "      <td>2.071757</td>\n",
       "    </tr>\n",
       "    <tr>\n",
       "      <th>999</th>\n",
       "      <td>0.684905</td>\n",
       "      <td>True</td>\n",
       "      <td>5.607787</td>\n",
       "      <td>0.522966</td>\n",
       "      <td>1.912171</td>\n",
       "    </tr>\n",
       "  </tbody>\n",
       "</table>\n",
       "<p>1000 rows × 5 columns</p>\n",
       "</div>"
      ],
      "text/plain": [
       "           W0    v0         y  propensity_score    weight\n",
       "0    0.634226  True  5.974971          0.521522  1.917464\n",
       "1    1.890716  True  6.289931          0.557149  1.794853\n",
       "2   -0.247286  True  4.564480          0.496374  2.014609\n",
       "3    0.040778  True  6.201517          0.504596  1.981782\n",
       "4   -0.104760  True  6.323085          0.500442  1.998232\n",
       "..        ...   ...       ...               ...       ...\n",
       "995 -2.244410  True  4.694722          0.439665  2.274457\n",
       "996  0.040778  True  6.201517          0.504596  1.981782\n",
       "997 -0.754456  True  5.426650          0.481906  2.075094\n",
       "998 -0.727225  True  5.312729          0.482682  2.071757\n",
       "999  0.684905  True  5.607787          0.522966  1.912171\n",
       "\n",
       "[1000 rows x 5 columns]"
      ]
     },
     "execution_count": 7,
     "metadata": {},
     "output_type": "execute_result"
    }
   ],
   "source": [
    "cdf_1"
   ]
  },
  {
   "cell_type": "markdown",
   "metadata": {},
   "source": [
    "## Comparing the estimate to Linear Regression\n",
    "First, estimating the effect using the causal data frame, and the 95% confidence interval."
   ]
  },
  {
   "cell_type": "code",
   "execution_count": 8,
   "metadata": {
    "execution": {
     "iopub.execute_input": "2023-03-22T16:43:43.439460Z",
     "iopub.status.busy": "2023-03-22T16:43:43.439134Z",
     "iopub.status.idle": "2023-03-22T16:43:43.495089Z",
     "shell.execute_reply": "2023-03-22T16:43:43.494445Z"
    }
   },
   "outputs": [
    {
     "data": {
      "image/png": "[encoded data removed]",
      "text/latex": [
       "$\\displaystyle 4.92135107208743$"
      ],
      "text/plain": [
       "4.921351072087431"
      ]
     },
     "execution_count": 8,
     "metadata": {},
     "output_type": "execute_result"
    }
   ],
   "source": [
    "(cdf_1['y'] - cdf_0['y']).mean()"
   ]
  },
  {
   "cell_type": "code",
   "execution_count": 9,
   "metadata": {
    "execution": {
     "iopub.execute_input": "2023-03-22T16:43:43.497798Z",
     "iopub.status.busy": "2023-03-22T16:43:43.497466Z",
     "iopub.status.idle": "2023-03-22T16:43:43.517925Z",
     "shell.execute_reply": "2023-03-22T16:43:43.517323Z"
    }
   },
   "outputs": [
    {
     "data": {
      "image/png": "[encoded data removed]",
      "text/latex": [
       "$\\displaystyle 0.0950931191393261$"
      ],
      "text/plain": [
       "0.09509311913932611"
      ]
     },
     "execution_count": 9,
     "metadata": {},
     "output_type": "execute_result"
    }
   ],
   "source": [
    "1.96*(cdf_1['y'] - cdf_0['y']).std() / np.sqrt(len(df))"
   ]
  },
  {
   "cell_type": "markdown",
   "metadata": {},
   "source": [
    "Comparing to the estimate from OLS."
   ]
  },
  {
   "cell_type": "code",
   "execution_count": 10,
   "metadata": {
    "execution": {
     "iopub.execute_input": "2023-03-22T16:43:43.520461Z",
     "iopub.status.busy": "2023-03-22T16:43:43.520255Z",
     "iopub.status.idle": "2023-03-22T16:43:43.533599Z",
     "shell.execute_reply": "2023-03-22T16:43:43.533010Z"
    }
   },
   "outputs": [
    {
     "data": {
      "text/html": [
       "<table class=\"simpletable\">\n",
       "<caption>OLS Regression Results</caption>\n",
       "<tr>\n",
       "  <th>Dep. Variable:</th>            <td>y</td>        <th>  R-squared (uncentered):</th>      <td>   0.923</td>\n",
       "</tr>\n",
       "<tr>\n",
       "  <th>Model:</th>                   <td>OLS</td>       <th>  Adj. R-squared (uncentered):</th> <td>   0.923</td>\n",
       "</tr>\n",
       "<tr>\n",
       "  <th>Method:</th>             <td>Least Squares</td>  <th>  F-statistic:       </th>          <td>   5971.</td>\n",
       "</tr>\n",
       "<tr>\n",
       "  <th>Date:</th>             <td>Wed, 22 Mar 2023</td> <th>  Prob (F-statistic):</th>           <td>  0.00</td> \n",
       "</tr>\n",
       "<tr>\n",
       "  <th>Time:</th>                 <td>16:43:43</td>     <th>  Log-Likelihood:    </th>          <td> -1435.8</td>\n",
       "</tr>\n",
       "<tr>\n",
       "  <th>No. Observations:</th>      <td>  1000</td>      <th>  AIC:               </th>          <td>   2876.</td>\n",
       "</tr>\n",
       "<tr>\n",
       "  <th>Df Residuals:</th>          <td>   998</td>      <th>  BIC:               </th>          <td>   2885.</td>\n",
       "</tr>\n",
       "<tr>\n",
       "  <th>Df Model:</th>              <td>     2</td>      <th>                     </th>              <td> </td>   \n",
       "</tr>\n",
       "<tr>\n",
       "  <th>Covariance Type:</th>      <td>nonrobust</td>    <th>                     </th>              <td> </td>   \n",
       "</tr>\n",
       "</table>\n",
       "<table class=\"simpletable\">\n",
       "<tr>\n",
       "   <td></td>     <th>coef</th>     <th>std err</th>      <th>t</th>      <th>P>|t|</th>  <th>[0.025</th>    <th>0.975]</th>  \n",
       "</tr>\n",
       "<tr>\n",
       "  <th>x1</th> <td>    0.3292</td> <td>    0.033</td> <td>    9.990</td> <td> 0.000</td> <td>    0.265</td> <td>    0.394</td>\n",
       "</tr>\n",
       "<tr>\n",
       "  <th>x2</th> <td>    5.0095</td> <td>    0.046</td> <td>  109.273</td> <td> 0.000</td> <td>    4.920</td> <td>    5.099</td>\n",
       "</tr>\n",
       "</table>\n",
       "<table class=\"simpletable\">\n",
       "<tr>\n",
       "  <th>Omnibus:</th>       <td> 2.042</td> <th>  Durbin-Watson:     </th> <td>   1.985</td>\n",
       "</tr>\n",
       "<tr>\n",
       "  <th>Prob(Omnibus):</th> <td> 0.360</td> <th>  Jarque-Bera (JB):  </th> <td>   1.871</td>\n",
       "</tr>\n",
       "<tr>\n",
       "  <th>Skew:</th>          <td>-0.008</td> <th>  Prob(JB):          </th> <td>   0.392</td>\n",
       "</tr>\n",
       "<tr>\n",
       "  <th>Kurtosis:</th>      <td> 2.789</td> <th>  Cond. No.          </th> <td>    1.41</td>\n",
       "</tr>\n",
       "</table><br/><br/>Notes:<br/>[1] R² is computed without centering (uncentered) since the model does not contain a constant.<br/>[2] Standard Errors assume that the covariance matrix of the errors is correctly specified."
      ],
      "text/plain": [
       "<class 'statsmodels.iolib.summary.Summary'>\n",
       "\"\"\"\n",
       "                                 OLS Regression Results                                \n",
       "=======================================================================================\n",
       "Dep. Variable:                      y   R-squared (uncentered):                   0.923\n",
       "Model:                            OLS   Adj. R-squared (uncentered):              0.923\n",
       "Method:                 Least Squares   F-statistic:                              5971.\n",
       "Date:                Wed, 22 Mar 2023   Prob (F-statistic):                        0.00\n",
       "Time:                        16:43:43   Log-Likelihood:                         -1435.8\n",
       "No. Observations:                1000   AIC:                                      2876.\n",
       "Df Residuals:                     998   BIC:                                      2885.\n",
       "Df Model:                           2                                                  \n",
       "Covariance Type:            nonrobust                                                  \n",
       "==============================================================================\n",
       "                 coef    std err          t      P>|t|      [0.025      0.975]\n",
       "------------------------------------------------------------------------------\n",
       "x1             0.3292      0.033      9.990      0.000       0.265       0.394\n",
       "x2             5.0095      0.046    109.273      0.000       4.920       5.099\n",
       "==============================================================================\n",
       "Omnibus:                        2.042   Durbin-Watson:                   1.985\n",
       "Prob(Omnibus):                  0.360   Jarque-Bera (JB):                1.871\n",
       "Skew:                          -0.008   Prob(JB):                        0.392\n",
       "Kurtosis:                       2.789   Cond. No.                         1.41\n",
       "==============================================================================\n",
       "\n",
       "Notes:\n",
       "[1] R² is computed without centering (uncentered) since the model does not contain a constant.\n",
       "[2] Standard Errors assume that the covariance matrix of the errors is correctly specified.\n",
       "\"\"\""
      ]
     },
     "execution_count": 10,
     "metadata": {},
     "output_type": "execute_result"
    }
   ],
   "source": [
    "model = OLS(np.asarray(df[outcome]), np.asarray(df[[common_cause, treatment]], dtype=np.float64))\n",
    "result = model.fit()\n",
    "result.summary()"
   ]
  }
 ],
 "metadata": {
  "kernelspec": {
   "display_name": "Python 3",
   "language": "python",
   "name": "python3"
  },
  "language_info": {
   "codemirror_mode": {
    "name": "ipython",
    "version": 3
   },
   "file_extension": ".py",
   "mimetype": "text/x-python",
   "name": "python",
   "nbconvert_exporter": "python",
   "pygments_lexer": "ipython3",
   "version": "3.8.10"
  },
  "toc": {
   "base_numbering": 1,
   "nav_menu": {},
   "number_sections": false,
   "sideBar": true,
   "skip_h1_title": true,
   "title_cell": "Table of Contents",
   "title_sidebar": "Contents",
   "toc_cell": false,
   "toc_position": {},
   "toc_section_display": true,
   "toc_window_display": false
  }
 },
 "nbformat": 4,
 "nbformat_minor": 4
}
