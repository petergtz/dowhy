{
 "cells": [
  {
   "cell_type": "markdown",
   "metadata": {},
   "source": [
    "# Demo for the DoWhy causal API\n",
    "We show a simple example of adding a causal extension to any dataframe. "
   ]
  },
  {
   "cell_type": "code",
   "execution_count": 1,
   "metadata": {
    "execution": {
     "iopub.execute_input": "2022-11-09T11:49:06.877791Z",
     "iopub.status.busy": "2022-11-09T11:49:06.877324Z",
     "iopub.status.idle": "2022-11-09T11:49:09.444364Z",
     "shell.execute_reply": "2022-11-09T11:49:09.443199Z"
    }
   },
   "outputs": [],
   "source": [
    "import dowhy.datasets\n",
    "import dowhy.api\n",
    "\n",
    "import numpy as np\n",
    "import pandas as pd\n",
    "\n",
    "from statsmodels.api import OLS"
   ]
  },
  {
   "cell_type": "code",
   "execution_count": 2,
   "metadata": {
    "execution": {
     "iopub.execute_input": "2022-11-09T11:49:09.449406Z",
     "iopub.status.busy": "2022-11-09T11:49:09.448698Z",
     "iopub.status.idle": "2022-11-09T11:49:09.516656Z",
     "shell.execute_reply": "2022-11-09T11:49:09.515749Z"
    }
   },
   "outputs": [
    {
     "data": {
      "text/html": [
       "<div>\n",
       "<style scoped>\n",
       "    .dataframe tbody tr th:only-of-type {\n",
       "        vertical-align: middle;\n",
       "    }\n",
       "\n",
       "    .dataframe tbody tr th {\n",
       "        vertical-align: top;\n",
       "    }\n",
       "\n",
       "    .dataframe thead th {\n",
       "        text-align: right;\n",
       "    }\n",
       "</style>\n",
       "<table border=\"1\" class=\"dataframe\">\n",
       "  <thead>\n",
       "    <tr style=\"text-align: right;\">\n",
       "      <th></th>\n",
       "      <th>W0</th>\n",
       "      <th>v0</th>\n",
       "      <th>y</th>\n",
       "    </tr>\n",
       "  </thead>\n",
       "  <tbody>\n",
       "    <tr>\n",
       "      <th>0</th>\n",
       "      <td>-0.514323</td>\n",
       "      <td>False</td>\n",
       "      <td>-0.827101</td>\n",
       "    </tr>\n",
       "    <tr>\n",
       "      <th>1</th>\n",
       "      <td>1.335791</td>\n",
       "      <td>True</td>\n",
       "      <td>7.159879</td>\n",
       "    </tr>\n",
       "    <tr>\n",
       "      <th>2</th>\n",
       "      <td>0.815691</td>\n",
       "      <td>True</td>\n",
       "      <td>5.773155</td>\n",
       "    </tr>\n",
       "    <tr>\n",
       "      <th>3</th>\n",
       "      <td>-0.643784</td>\n",
       "      <td>False</td>\n",
       "      <td>1.899899</td>\n",
       "    </tr>\n",
       "    <tr>\n",
       "      <th>4</th>\n",
       "      <td>0.482402</td>\n",
       "      <td>False</td>\n",
       "      <td>0.087218</td>\n",
       "    </tr>\n",
       "    <tr>\n",
       "      <th>...</th>\n",
       "      <td>...</td>\n",
       "      <td>...</td>\n",
       "      <td>...</td>\n",
       "    </tr>\n",
       "    <tr>\n",
       "      <th>995</th>\n",
       "      <td>0.412267</td>\n",
       "      <td>False</td>\n",
       "      <td>-0.313098</td>\n",
       "    </tr>\n",
       "    <tr>\n",
       "      <th>996</th>\n",
       "      <td>0.174244</td>\n",
       "      <td>True</td>\n",
       "      <td>5.912689</td>\n",
       "    </tr>\n",
       "    <tr>\n",
       "      <th>997</th>\n",
       "      <td>0.574027</td>\n",
       "      <td>False</td>\n",
       "      <td>1.657991</td>\n",
       "    </tr>\n",
       "    <tr>\n",
       "      <th>998</th>\n",
       "      <td>-0.717837</td>\n",
       "      <td>False</td>\n",
       "      <td>-1.115055</td>\n",
       "    </tr>\n",
       "    <tr>\n",
       "      <th>999</th>\n",
       "      <td>-0.646309</td>\n",
       "      <td>False</td>\n",
       "      <td>-0.667954</td>\n",
       "    </tr>\n",
       "  </tbody>\n",
       "</table>\n",
       "<p>1000 rows × 3 columns</p>\n",
       "</div>"
      ],
      "text/plain": [
       "           W0     v0         y\n",
       "0   -0.514323  False -0.827101\n",
       "1    1.335791   True  7.159879\n",
       "2    0.815691   True  5.773155\n",
       "3   -0.643784  False  1.899899\n",
       "4    0.482402  False  0.087218\n",
       "..        ...    ...       ...\n",
       "995  0.412267  False -0.313098\n",
       "996  0.174244   True  5.912689\n",
       "997  0.574027  False  1.657991\n",
       "998 -0.717837  False -1.115055\n",
       "999 -0.646309  False -0.667954\n",
       "\n",
       "[1000 rows x 3 columns]"
      ]
     },
     "execution_count": 2,
     "metadata": {},
     "output_type": "execute_result"
    }
   ],
   "source": [
    "data = dowhy.datasets.linear_dataset(beta=5,\n",
    "        num_common_causes=1,\n",
    "        num_instruments = 0,\n",
    "        num_samples=1000,\n",
    "        treatment_is_binary=True)\n",
    "df = data['df']\n",
    "df['y'] = df['y'] + np.random.normal(size=len(df)) # Adding noise to data. Without noise, the variance in Y|X, Z is zero, and mcmc fails.\n",
    "#data['dot_graph'] = 'digraph { v ->y;X0-> v;X0-> y;}'\n",
    "\n",
    "treatment= data[\"treatment_name\"][0]\n",
    "outcome = data[\"outcome_name\"][0]\n",
    "common_cause = data[\"common_causes_names\"][0]\n",
    "df"
   ]
  },
  {
   "cell_type": "code",
   "execution_count": 3,
   "metadata": {
    "execution": {
     "iopub.execute_input": "2022-11-09T11:49:09.520950Z",
     "iopub.status.busy": "2022-11-09T11:49:09.520520Z",
     "iopub.status.idle": "2022-11-09T11:49:09.732525Z",
     "shell.execute_reply": "2022-11-09T11:49:09.731496Z"
    }
   },
   "outputs": [
    {
     "data": {
      "text/plain": [
       "<AxesSubplot: xlabel='v0'>"
      ]
     },
     "execution_count": 3,
     "metadata": {},
     "output_type": "execute_result"
    },
    {
     "data": {
      "image/png": "[encoded data removed]",
      "text/plain": [
       "<Figure size 640x480 with 1 Axes>"
      ]
     },
     "metadata": {},
     "output_type": "display_data"
    }
   ],
   "source": [
    "# data['df'] is just a regular pandas.DataFrame\n",
    "df.causal.do(x=treatment,\n",
    "                     variable_types={treatment: 'b', outcome: 'c', common_cause: 'c'},\n",
    "                     outcome=outcome,\n",
    "                     common_causes=[common_cause],\n",
    "                     proceed_when_unidentifiable=True).groupby(treatment).mean().plot(y=outcome, kind='bar')"
   ]
  },
  {
   "cell_type": "code",
   "execution_count": 4,
   "metadata": {
    "execution": {
     "iopub.execute_input": "2022-11-09T11:49:09.737218Z",
     "iopub.status.busy": "2022-11-09T11:49:09.736757Z",
     "iopub.status.idle": "2022-11-09T11:49:09.897370Z",
     "shell.execute_reply": "2022-11-09T11:49:09.896486Z"
    }
   },
   "outputs": [
    {
     "data": {
      "text/plain": [
       "<AxesSubplot: xlabel='v0'>"
      ]
     },
     "execution_count": 4,
     "metadata": {},
     "output_type": "execute_result"
    },
    {
     "data": {
      "image/png": "[encoded data removed]",
      "text/plain": [
       "<Figure size 640x480 with 1 Axes>"
      ]
     },
     "metadata": {},
     "output_type": "display_data"
    }
   ],
   "source": [
    "df.causal.do(x={treatment: 1}, \n",
    "              variable_types={treatment:'b', outcome: 'c', common_cause: 'c'}, \n",
    "              outcome=outcome,\n",
    "              method='weighting', \n",
    "              common_causes=[common_cause],\n",
    "              proceed_when_unidentifiable=True).groupby(treatment).mean().plot(y=outcome, kind='bar')"
   ]
  },
  {
   "cell_type": "code",
   "execution_count": 5,
   "metadata": {
    "execution": {
     "iopub.execute_input": "2022-11-09T11:49:09.901676Z",
     "iopub.status.busy": "2022-11-09T11:49:09.901233Z",
     "iopub.status.idle": "2022-11-09T11:49:09.945168Z",
     "shell.execute_reply": "2022-11-09T11:49:09.944149Z"
    }
   },
   "outputs": [],
   "source": [
    "cdf_1 = df.causal.do(x={treatment: 1}, \n",
    "              variable_types={treatment: 'b', outcome: 'c', common_cause: 'c'}, \n",
    "              outcome=outcome, \n",
    "              dot_graph=data['dot_graph'],\n",
    "              proceed_when_unidentifiable=True)\n",
    "\n",
    "cdf_0 = df.causal.do(x={treatment: 0}, \n",
    "              variable_types={treatment: 'b', outcome: 'c', common_cause: 'c'}, \n",
    "              outcome=outcome, \n",
    "              dot_graph=data['dot_graph'],\n",
    "              proceed_when_unidentifiable=True)\n"
   ]
  },
  {
   "cell_type": "code",
   "execution_count": 6,
   "metadata": {
    "execution": {
     "iopub.execute_input": "2022-11-09T11:49:09.949429Z",
     "iopub.status.busy": "2022-11-09T11:49:09.949143Z",
     "iopub.status.idle": "2022-11-09T11:49:09.963126Z",
     "shell.execute_reply": "2022-11-09T11:49:09.962208Z"
    },
    "scrolled": true
   },
   "outputs": [
    {
     "data": {
      "text/html": [
       "<div>\n",
       "<style scoped>\n",
       "    .dataframe tbody tr th:only-of-type {\n",
       "        vertical-align: middle;\n",
       "    }\n",
       "\n",
       "    .dataframe tbody tr th {\n",
       "        vertical-align: top;\n",
       "    }\n",
       "\n",
       "    .dataframe thead th {\n",
       "        text-align: right;\n",
       "    }\n",
       "</style>\n",
       "<table border=\"1\" class=\"dataframe\">\n",
       "  <thead>\n",
       "    <tr style=\"text-align: right;\">\n",
       "      <th></th>\n",
       "      <th>W0</th>\n",
       "      <th>v0</th>\n",
       "      <th>y</th>\n",
       "      <th>propensity_score</th>\n",
       "      <th>weight</th>\n",
       "    </tr>\n",
       "  </thead>\n",
       "  <tbody>\n",
       "    <tr>\n",
       "      <th>0</th>\n",
       "      <td>-0.514323</td>\n",
       "      <td>False</td>\n",
       "      <td>-0.827101</td>\n",
       "      <td>0.594117</td>\n",
       "      <td>1.683171</td>\n",
       "    </tr>\n",
       "    <tr>\n",
       "      <th>1</th>\n",
       "      <td>-1.491861</td>\n",
       "      <td>False</td>\n",
       "      <td>-0.607017</td>\n",
       "      <td>0.751162</td>\n",
       "      <td>1.331271</td>\n",
       "    </tr>\n",
       "    <tr>\n",
       "      <th>2</th>\n",
       "      <td>0.165015</td>\n",
       "      <td>False</td>\n",
       "      <td>2.148263</td>\n",
       "      <td>0.469538</td>\n",
       "      <td>2.129755</td>\n",
       "    </tr>\n",
       "    <tr>\n",
       "      <th>3</th>\n",
       "      <td>-2.196448</td>\n",
       "      <td>False</td>\n",
       "      <td>-1.307902</td>\n",
       "      <td>0.835693</td>\n",
       "      <td>1.196612</td>\n",
       "    </tr>\n",
       "    <tr>\n",
       "      <th>4</th>\n",
       "      <td>-1.981386</td>\n",
       "      <td>False</td>\n",
       "      <td>-2.187982</td>\n",
       "      <td>0.812644</td>\n",
       "      <td>1.230551</td>\n",
       "    </tr>\n",
       "    <tr>\n",
       "      <th>...</th>\n",
       "      <td>...</td>\n",
       "      <td>...</td>\n",
       "      <td>...</td>\n",
       "      <td>...</td>\n",
       "      <td>...</td>\n",
       "    </tr>\n",
       "    <tr>\n",
       "      <th>995</th>\n",
       "      <td>-1.464118</td>\n",
       "      <td>False</td>\n",
       "      <td>-1.104269</td>\n",
       "      <td>0.747303</td>\n",
       "      <td>1.338146</td>\n",
       "    </tr>\n",
       "    <tr>\n",
       "      <th>996</th>\n",
       "      <td>-2.530016</td>\n",
       "      <td>False</td>\n",
       "      <td>-4.591898</td>\n",
       "      <td>0.866864</td>\n",
       "      <td>1.153583</td>\n",
       "    </tr>\n",
       "    <tr>\n",
       "      <th>997</th>\n",
       "      <td>0.523404</td>\n",
       "      <td>False</td>\n",
       "      <td>0.583821</td>\n",
       "      <td>0.404351</td>\n",
       "      <td>2.473096</td>\n",
       "    </tr>\n",
       "    <tr>\n",
       "      <th>998</th>\n",
       "      <td>-2.556500</td>\n",
       "      <td>False</td>\n",
       "      <td>-4.129267</td>\n",
       "      <td>0.869111</td>\n",
       "      <td>1.150601</td>\n",
       "    </tr>\n",
       "    <tr>\n",
       "      <th>999</th>\n",
       "      <td>2.338645</td>\n",
       "      <td>False</td>\n",
       "      <td>3.858549</td>\n",
       "      <td>0.150403</td>\n",
       "      <td>6.648815</td>\n",
       "    </tr>\n",
       "  </tbody>\n",
       "</table>\n",
       "<p>1000 rows × 5 columns</p>\n",
       "</div>"
      ],
      "text/plain": [
       "           W0     v0         y  propensity_score    weight\n",
       "0   -0.514323  False -0.827101          0.594117  1.683171\n",
       "1   -1.491861  False -0.607017          0.751162  1.331271\n",
       "2    0.165015  False  2.148263          0.469538  2.129755\n",
       "3   -2.196448  False -1.307902          0.835693  1.196612\n",
       "4   -1.981386  False -2.187982          0.812644  1.230551\n",
       "..        ...    ...       ...               ...       ...\n",
       "995 -1.464118  False -1.104269          0.747303  1.338146\n",
       "996 -2.530016  False -4.591898          0.866864  1.153583\n",
       "997  0.523404  False  0.583821          0.404351  2.473096\n",
       "998 -2.556500  False -4.129267          0.869111  1.150601\n",
       "999  2.338645  False  3.858549          0.150403  6.648815\n",
       "\n",
       "[1000 rows x 5 columns]"
      ]
     },
     "execution_count": 6,
     "metadata": {},
     "output_type": "execute_result"
    }
   ],
   "source": [
    "cdf_0"
   ]
  },
  {
   "cell_type": "code",
   "execution_count": 7,
   "metadata": {
    "execution": {
     "iopub.execute_input": "2022-11-09T11:49:09.968040Z",
     "iopub.status.busy": "2022-11-09T11:49:09.967747Z",
     "iopub.status.idle": "2022-11-09T11:49:09.983124Z",
     "shell.execute_reply": "2022-11-09T11:49:09.981312Z"
    }
   },
   "outputs": [
    {
     "data": {
      "text/html": [
       "<div>\n",
       "<style scoped>\n",
       "    .dataframe tbody tr th:only-of-type {\n",
       "        vertical-align: middle;\n",
       "    }\n",
       "\n",
       "    .dataframe tbody tr th {\n",
       "        vertical-align: top;\n",
       "    }\n",
       "\n",
       "    .dataframe thead th {\n",
       "        text-align: right;\n",
       "    }\n",
       "</style>\n",
       "<table border=\"1\" class=\"dataframe\">\n",
       "  <thead>\n",
       "    <tr style=\"text-align: right;\">\n",
       "      <th></th>\n",
       "      <th>W0</th>\n",
       "      <th>v0</th>\n",
       "      <th>y</th>\n",
       "      <th>propensity_score</th>\n",
       "      <th>weight</th>\n",
       "    </tr>\n",
       "  </thead>\n",
       "  <tbody>\n",
       "    <tr>\n",
       "      <th>0</th>\n",
       "      <td>-0.246503</td>\n",
       "      <td>True</td>\n",
       "      <td>5.522314</td>\n",
       "      <td>0.454450</td>\n",
       "      <td>2.200460</td>\n",
       "    </tr>\n",
       "    <tr>\n",
       "      <th>1</th>\n",
       "      <td>-0.420720</td>\n",
       "      <td>True</td>\n",
       "      <td>4.408742</td>\n",
       "      <td>0.422699</td>\n",
       "      <td>2.365747</td>\n",
       "    </tr>\n",
       "    <tr>\n",
       "      <th>2</th>\n",
       "      <td>0.095401</td>\n",
       "      <td>True</td>\n",
       "      <td>5.531009</td>\n",
       "      <td>0.517607</td>\n",
       "      <td>1.931969</td>\n",
       "    </tr>\n",
       "    <tr>\n",
       "      <th>3</th>\n",
       "      <td>1.128013</td>\n",
       "      <td>True</td>\n",
       "      <td>7.457028</td>\n",
       "      <td>0.697420</td>\n",
       "      <td>1.433855</td>\n",
       "    </tr>\n",
       "    <tr>\n",
       "      <th>4</th>\n",
       "      <td>0.992516</td>\n",
       "      <td>True</td>\n",
       "      <td>5.757657</td>\n",
       "      <td>0.675839</td>\n",
       "      <td>1.479642</td>\n",
       "    </tr>\n",
       "    <tr>\n",
       "      <th>...</th>\n",
       "      <td>...</td>\n",
       "      <td>...</td>\n",
       "      <td>...</td>\n",
       "      <td>...</td>\n",
       "      <td>...</td>\n",
       "    </tr>\n",
       "    <tr>\n",
       "      <th>995</th>\n",
       "      <td>-1.101255</td>\n",
       "      <td>True</td>\n",
       "      <td>2.349495</td>\n",
       "      <td>0.306699</td>\n",
       "      <td>3.260528</td>\n",
       "    </tr>\n",
       "    <tr>\n",
       "      <th>996</th>\n",
       "      <td>0.232086</td>\n",
       "      <td>True</td>\n",
       "      <td>5.184403</td>\n",
       "      <td>0.542811</td>\n",
       "      <td>1.842263</td>\n",
       "    </tr>\n",
       "    <tr>\n",
       "      <th>997</th>\n",
       "      <td>0.623530</td>\n",
       "      <td>True</td>\n",
       "      <td>6.448518</td>\n",
       "      <td>0.613371</td>\n",
       "      <td>1.630335</td>\n",
       "    </tr>\n",
       "    <tr>\n",
       "      <th>998</th>\n",
       "      <td>-0.022469</td>\n",
       "      <td>True</td>\n",
       "      <td>6.148919</td>\n",
       "      <td>0.495795</td>\n",
       "      <td>2.016963</td>\n",
       "    </tr>\n",
       "    <tr>\n",
       "      <th>999</th>\n",
       "      <td>-0.552648</td>\n",
       "      <td>True</td>\n",
       "      <td>6.136847</td>\n",
       "      <td>0.399059</td>\n",
       "      <td>2.505895</td>\n",
       "    </tr>\n",
       "  </tbody>\n",
       "</table>\n",
       "<p>1000 rows × 5 columns</p>\n",
       "</div>"
      ],
      "text/plain": [
       "           W0    v0         y  propensity_score    weight\n",
       "0   -0.246503  True  5.522314          0.454450  2.200460\n",
       "1   -0.420720  True  4.408742          0.422699  2.365747\n",
       "2    0.095401  True  5.531009          0.517607  1.931969\n",
       "3    1.128013  True  7.457028          0.697420  1.433855\n",
       "4    0.992516  True  5.757657          0.675839  1.479642\n",
       "..        ...   ...       ...               ...       ...\n",
       "995 -1.101255  True  2.349495          0.306699  3.260528\n",
       "996  0.232086  True  5.184403          0.542811  1.842263\n",
       "997  0.623530  True  6.448518          0.613371  1.630335\n",
       "998 -0.022469  True  6.148919          0.495795  2.016963\n",
       "999 -0.552648  True  6.136847          0.399059  2.505895\n",
       "\n",
       "[1000 rows x 5 columns]"
      ]
     },
     "execution_count": 7,
     "metadata": {},
     "output_type": "execute_result"
    }
   ],
   "source": [
    "cdf_1"
   ]
  },
  {
   "cell_type": "markdown",
   "metadata": {},
   "source": [
    "## Comparing the estimate to Linear Regression\n",
    "First, estimating the effect using the causal data frame, and the 95% confidence interval."
   ]
  },
  {
   "cell_type": "code",
   "execution_count": 8,
   "metadata": {
    "execution": {
     "iopub.execute_input": "2022-11-09T11:49:09.990204Z",
     "iopub.status.busy": "2022-11-09T11:49:09.989102Z",
     "iopub.status.idle": "2022-11-09T11:49:10.069768Z",
     "shell.execute_reply": "2022-11-09T11:49:10.068366Z"
    }
   },
   "outputs": [
    {
     "data": {
      "image/png": "[encoded data removed]",
      "text/latex": [
       "$\\displaystyle 5.03627343399167$"
      ],
      "text/plain": [
       "5.036273433991673"
      ]
     },
     "execution_count": 8,
     "metadata": {},
     "output_type": "execute_result"
    }
   ],
   "source": [
    "(cdf_1['y'] - cdf_0['y']).mean()"
   ]
  },
  {
   "cell_type": "code",
   "execution_count": 9,
   "metadata": {
    "execution": {
     "iopub.execute_input": "2022-11-09T11:49:10.074846Z",
     "iopub.status.busy": "2022-11-09T11:49:10.074474Z",
     "iopub.status.idle": "2022-11-09T11:49:10.103188Z",
     "shell.execute_reply": "2022-11-09T11:49:10.102250Z"
    }
   },
   "outputs": [
    {
     "data": {
      "image/png": "[encoded data removed]",
      "text/latex": [
       "$\\displaystyle 0.152949214786538$"
      ],
      "text/plain": [
       "0.15294921478653833"
      ]
     },
     "execution_count": 9,
     "metadata": {},
     "output_type": "execute_result"
    }
   ],
   "source": [
    "1.96*(cdf_1['y'] - cdf_0['y']).std() / np.sqrt(len(df))"
   ]
  },
  {
   "cell_type": "markdown",
   "metadata": {},
   "source": [
    "Comparing to the estimate from OLS."
   ]
  },
  {
   "cell_type": "code",
   "execution_count": 10,
   "metadata": {
    "execution": {
     "iopub.execute_input": "2022-11-09T11:49:10.108323Z",
     "iopub.status.busy": "2022-11-09T11:49:10.108005Z",
     "iopub.status.idle": "2022-11-09T11:49:10.133198Z",
     "shell.execute_reply": "2022-11-09T11:49:10.132150Z"
    }
   },
   "outputs": [
    {
     "data": {
      "text/html": [
       "<table class=\"simpletable\">\n",
       "<caption>OLS Regression Results</caption>\n",
       "<tr>\n",
       "  <th>Dep. Variable:</th>            <td>y</td>        <th>  R-squared (uncentered):</th>      <td>   0.936</td>\n",
       "</tr>\n",
       "<tr>\n",
       "  <th>Model:</th>                   <td>OLS</td>       <th>  Adj. R-squared (uncentered):</th> <td>   0.936</td>\n",
       "</tr>\n",
       "<tr>\n",
       "  <th>Method:</th>             <td>Least Squares</td>  <th>  F-statistic:       </th>          <td>   7302.</td>\n",
       "</tr>\n",
       "<tr>\n",
       "  <th>Date:</th>             <td>Wed, 09 Nov 2022</td> <th>  Prob (F-statistic):</th>           <td>  0.00</td> \n",
       "</tr>\n",
       "<tr>\n",
       "  <th>Time:</th>                 <td>11:49:10</td>     <th>  Log-Likelihood:    </th>          <td> -1435.4</td>\n",
       "</tr>\n",
       "<tr>\n",
       "  <th>No. Observations:</th>      <td>  1000</td>      <th>  AIC:               </th>          <td>   2875.</td>\n",
       "</tr>\n",
       "<tr>\n",
       "  <th>Df Residuals:</th>          <td>   998</td>      <th>  BIC:               </th>          <td>   2885.</td>\n",
       "</tr>\n",
       "<tr>\n",
       "  <th>Df Model:</th>              <td>     2</td>      <th>                     </th>              <td> </td>   \n",
       "</tr>\n",
       "<tr>\n",
       "  <th>Covariance Type:</th>      <td>nonrobust</td>    <th>                     </th>              <td> </td>   \n",
       "</tr>\n",
       "</table>\n",
       "<table class=\"simpletable\">\n",
       "<tr>\n",
       "   <td></td>     <th>coef</th>     <th>std err</th>      <th>t</th>      <th>P>|t|</th>  <th>[0.025</th>    <th>0.975]</th>  \n",
       "</tr>\n",
       "<tr>\n",
       "  <th>x1</th> <td>    1.3675</td> <td>    0.032</td> <td>   42.725</td> <td> 0.000</td> <td>    1.305</td> <td>    1.430</td>\n",
       "</tr>\n",
       "<tr>\n",
       "  <th>x2</th> <td>    5.1047</td> <td>    0.047</td> <td>  107.919</td> <td> 0.000</td> <td>    5.012</td> <td>    5.197</td>\n",
       "</tr>\n",
       "</table>\n",
       "<table class=\"simpletable\">\n",
       "<tr>\n",
       "  <th>Omnibus:</th>       <td> 3.609</td> <th>  Durbin-Watson:     </th> <td>   2.132</td>\n",
       "</tr>\n",
       "<tr>\n",
       "  <th>Prob(Omnibus):</th> <td> 0.165</td> <th>  Jarque-Bera (JB):  </th> <td>   3.485</td>\n",
       "</tr>\n",
       "<tr>\n",
       "  <th>Skew:</th>          <td>-0.120</td> <th>  Prob(JB):          </th> <td>   0.175</td>\n",
       "</tr>\n",
       "<tr>\n",
       "  <th>Kurtosis:</th>      <td> 3.160</td> <th>  Cond. No.          </th> <td>    1.50</td>\n",
       "</tr>\n",
       "</table><br/><br/>Notes:<br/>[1] R² is computed without centering (uncentered) since the model does not contain a constant.<br/>[2] Standard Errors assume that the covariance matrix of the errors is correctly specified."
      ],
      "text/plain": [
       "<class 'statsmodels.iolib.summary.Summary'>\n",
       "\"\"\"\n",
       "                                 OLS Regression Results                                \n",
       "=======================================================================================\n",
       "Dep. Variable:                      y   R-squared (uncentered):                   0.936\n",
       "Model:                            OLS   Adj. R-squared (uncentered):              0.936\n",
       "Method:                 Least Squares   F-statistic:                              7302.\n",
       "Date:                Wed, 09 Nov 2022   Prob (F-statistic):                        0.00\n",
       "Time:                        11:49:10   Log-Likelihood:                         -1435.4\n",
       "No. Observations:                1000   AIC:                                      2875.\n",
       "Df Residuals:                     998   BIC:                                      2885.\n",
       "Df Model:                           2                                                  \n",
       "Covariance Type:            nonrobust                                                  \n",
       "==============================================================================\n",
       "                 coef    std err          t      P>|t|      [0.025      0.975]\n",
       "------------------------------------------------------------------------------\n",
       "x1             1.3675      0.032     42.725      0.000       1.305       1.430\n",
       "x2             5.1047      0.047    107.919      0.000       5.012       5.197\n",
       "==============================================================================\n",
       "Omnibus:                        3.609   Durbin-Watson:                   2.132\n",
       "Prob(Omnibus):                  0.165   Jarque-Bera (JB):                3.485\n",
       "Skew:                          -0.120   Prob(JB):                        0.175\n",
       "Kurtosis:                       3.160   Cond. No.                         1.50\n",
       "==============================================================================\n",
       "\n",
       "Notes:\n",
       "[1] R² is computed without centering (uncentered) since the model does not contain a constant.\n",
       "[2] Standard Errors assume that the covariance matrix of the errors is correctly specified.\n",
       "\"\"\""
      ]
     },
     "execution_count": 10,
     "metadata": {},
     "output_type": "execute_result"
    }
   ],
   "source": [
    "model = OLS(np.asarray(df[outcome]), np.asarray(df[[common_cause, treatment]], dtype=np.float64))\n",
    "result = model.fit()\n",
    "result.summary()"
   ]
  }
 ],
 "metadata": {
  "kernelspec": {
   "display_name": "Python 3",
   "language": "python",
   "name": "python3"
  },
  "language_info": {
   "codemirror_mode": {
    "name": "ipython",
    "version": 3
   },
   "file_extension": ".py",
   "mimetype": "text/x-python",
   "name": "python",
   "nbconvert_exporter": "python",
   "pygments_lexer": "ipython3",
   "version": "3.8.10"
  },
  "toc": {
   "base_numbering": 1,
   "nav_menu": {},
   "number_sections": false,
   "sideBar": true,
   "skip_h1_title": true,
   "title_cell": "Table of Contents",
   "title_sidebar": "Contents",
   "toc_cell": false,
   "toc_position": {},
   "toc_section_display": true,
   "toc_window_display": false
  }
 },
 "nbformat": 4,
 "nbformat_minor": 4
}
