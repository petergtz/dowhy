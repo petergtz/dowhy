{
 "cells": [
  {
   "cell_type": "markdown",
   "metadata": {},
   "source": [
    "# Demo for the DoWhy causal API\n",
    "We show a simple example of adding a causal extension to any dataframe. "
   ]
  },
  {
   "cell_type": "code",
   "execution_count": 1,
   "metadata": {
    "execution": {
     "iopub.execute_input": "2022-10-19T16:03:32.413492Z",
     "iopub.status.busy": "2022-10-19T16:03:32.412927Z",
     "iopub.status.idle": "2022-10-19T16:03:34.742287Z",
     "shell.execute_reply": "2022-10-19T16:03:34.740864Z"
    }
   },
   "outputs": [],
   "source": [
    "import dowhy.datasets\n",
    "import dowhy.api\n",
    "\n",
    "import numpy as np\n",
    "import pandas as pd\n",
    "\n",
    "from statsmodels.api import OLS"
   ]
  },
  {
   "cell_type": "code",
   "execution_count": 2,
   "metadata": {
    "execution": {
     "iopub.execute_input": "2022-10-19T16:03:34.748794Z",
     "iopub.status.busy": "2022-10-19T16:03:34.747331Z",
     "iopub.status.idle": "2022-10-19T16:03:34.800786Z",
     "shell.execute_reply": "2022-10-19T16:03:34.799851Z"
    }
   },
   "outputs": [
    {
     "data": {
      "text/html": [
       "<div>\n",
       "<style scoped>\n",
       "    .dataframe tbody tr th:only-of-type {\n",
       "        vertical-align: middle;\n",
       "    }\n",
       "\n",
       "    .dataframe tbody tr th {\n",
       "        vertical-align: top;\n",
       "    }\n",
       "\n",
       "    .dataframe thead th {\n",
       "        text-align: right;\n",
       "    }\n",
       "</style>\n",
       "<table border=\"1\" class=\"dataframe\">\n",
       "  <thead>\n",
       "    <tr style=\"text-align: right;\">\n",
       "      <th></th>\n",
       "      <th>W0</th>\n",
       "      <th>v0</th>\n",
       "      <th>y</th>\n",
       "    </tr>\n",
       "  </thead>\n",
       "  <tbody>\n",
       "    <tr>\n",
       "      <th>0</th>\n",
       "      <td>0.037090</td>\n",
       "      <td>True</td>\n",
       "      <td>5.376776</td>\n",
       "    </tr>\n",
       "    <tr>\n",
       "      <th>1</th>\n",
       "      <td>0.202380</td>\n",
       "      <td>False</td>\n",
       "      <td>0.707057</td>\n",
       "    </tr>\n",
       "    <tr>\n",
       "      <th>2</th>\n",
       "      <td>-2.041607</td>\n",
       "      <td>False</td>\n",
       "      <td>-6.256731</td>\n",
       "    </tr>\n",
       "    <tr>\n",
       "      <th>3</th>\n",
       "      <td>-0.073407</td>\n",
       "      <td>False</td>\n",
       "      <td>-0.539406</td>\n",
       "    </tr>\n",
       "    <tr>\n",
       "      <th>4</th>\n",
       "      <td>-0.448471</td>\n",
       "      <td>False</td>\n",
       "      <td>-1.061783</td>\n",
       "    </tr>\n",
       "    <tr>\n",
       "      <th>...</th>\n",
       "      <td>...</td>\n",
       "      <td>...</td>\n",
       "      <td>...</td>\n",
       "    </tr>\n",
       "    <tr>\n",
       "      <th>995</th>\n",
       "      <td>0.404990</td>\n",
       "      <td>True</td>\n",
       "      <td>5.789682</td>\n",
       "    </tr>\n",
       "    <tr>\n",
       "      <th>996</th>\n",
       "      <td>0.134869</td>\n",
       "      <td>True</td>\n",
       "      <td>4.422475</td>\n",
       "    </tr>\n",
       "    <tr>\n",
       "      <th>997</th>\n",
       "      <td>1.377515</td>\n",
       "      <td>True</td>\n",
       "      <td>8.933273</td>\n",
       "    </tr>\n",
       "    <tr>\n",
       "      <th>998</th>\n",
       "      <td>0.364984</td>\n",
       "      <td>True</td>\n",
       "      <td>7.419739</td>\n",
       "    </tr>\n",
       "    <tr>\n",
       "      <th>999</th>\n",
       "      <td>-0.620899</td>\n",
       "      <td>False</td>\n",
       "      <td>-2.123951</td>\n",
       "    </tr>\n",
       "  </tbody>\n",
       "</table>\n",
       "<p>1000 rows × 3 columns</p>\n",
       "</div>"
      ],
      "text/plain": [
       "           W0     v0         y\n",
       "0    0.037090   True  5.376776\n",
       "1    0.202380  False  0.707057\n",
       "2   -2.041607  False -6.256731\n",
       "3   -0.073407  False -0.539406\n",
       "4   -0.448471  False -1.061783\n",
       "..        ...    ...       ...\n",
       "995  0.404990   True  5.789682\n",
       "996  0.134869   True  4.422475\n",
       "997  1.377515   True  8.933273\n",
       "998  0.364984   True  7.419739\n",
       "999 -0.620899  False -2.123951\n",
       "\n",
       "[1000 rows x 3 columns]"
      ]
     },
     "execution_count": 2,
     "metadata": {},
     "output_type": "execute_result"
    }
   ],
   "source": [
    "data = dowhy.datasets.linear_dataset(beta=5,\n",
    "        num_common_causes=1,\n",
    "        num_instruments = 0,\n",
    "        num_samples=1000,\n",
    "        treatment_is_binary=True)\n",
    "df = data['df']\n",
    "df['y'] = df['y'] + np.random.normal(size=len(df)) # Adding noise to data. Without noise, the variance in Y|X, Z is zero, and mcmc fails.\n",
    "#data['dot_graph'] = 'digraph { v ->y;X0-> v;X0-> y;}'\n",
    "\n",
    "treatment= data[\"treatment_name\"][0]\n",
    "outcome = data[\"outcome_name\"][0]\n",
    "common_cause = data[\"common_causes_names\"][0]\n",
    "df"
   ]
  },
  {
   "cell_type": "code",
   "execution_count": 3,
   "metadata": {
    "execution": {
     "iopub.execute_input": "2022-10-19T16:03:34.805327Z",
     "iopub.status.busy": "2022-10-19T16:03:34.804645Z",
     "iopub.status.idle": "2022-10-19T16:03:34.983470Z",
     "shell.execute_reply": "2022-10-19T16:03:34.982769Z"
    }
   },
   "outputs": [
    {
     "data": {
      "text/plain": [
       "<AxesSubplot: xlabel='v0'>"
      ]
     },
     "execution_count": 3,
     "metadata": {},
     "output_type": "execute_result"
    },
    {
     "data": {
      "image/png": "[encoded data removed]",
      "text/plain": [
       "<Figure size 640x480 with 1 Axes>"
      ]
     },
     "metadata": {},
     "output_type": "display_data"
    }
   ],
   "source": [
    "# data['df'] is just a regular pandas.DataFrame\n",
    "df.causal.do(x=treatment,\n",
    "                     variable_types={treatment: 'b', outcome: 'c', common_cause: 'c'},\n",
    "                     outcome=outcome,\n",
    "                     common_causes=[common_cause],\n",
    "                     proceed_when_unidentifiable=True).groupby(treatment).mean().plot(y=outcome, kind='bar')"
   ]
  },
  {
   "cell_type": "code",
   "execution_count": 4,
   "metadata": {
    "execution": {
     "iopub.execute_input": "2022-10-19T16:03:34.987682Z",
     "iopub.status.busy": "2022-10-19T16:03:34.987126Z",
     "iopub.status.idle": "2022-10-19T16:03:35.129550Z",
     "shell.execute_reply": "2022-10-19T16:03:35.128871Z"
    }
   },
   "outputs": [
    {
     "data": {
      "text/plain": [
       "<AxesSubplot: xlabel='v0'>"
      ]
     },
     "execution_count": 4,
     "metadata": {},
     "output_type": "execute_result"
    },
    {
     "data": {
      "image/png": "[encoded data removed]",
      "text/plain": [
       "<Figure size 640x480 with 1 Axes>"
      ]
     },
     "metadata": {},
     "output_type": "display_data"
    }
   ],
   "source": [
    "df.causal.do(x={treatment: 1}, \n",
    "              variable_types={treatment:'b', outcome: 'c', common_cause: 'c'}, \n",
    "              outcome=outcome,\n",
    "              method='weighting', \n",
    "              common_causes=[common_cause],\n",
    "              proceed_when_unidentifiable=True).groupby(treatment).mean().plot(y=outcome, kind='bar')"
   ]
  },
  {
   "cell_type": "code",
   "execution_count": 5,
   "metadata": {
    "execution": {
     "iopub.execute_input": "2022-10-19T16:03:35.134709Z",
     "iopub.status.busy": "2022-10-19T16:03:35.133423Z",
     "iopub.status.idle": "2022-10-19T16:03:35.172324Z",
     "shell.execute_reply": "2022-10-19T16:03:35.171550Z"
    }
   },
   "outputs": [],
   "source": [
    "cdf_1 = df.causal.do(x={treatment: 1}, \n",
    "              variable_types={treatment: 'b', outcome: 'c', common_cause: 'c'}, \n",
    "              outcome=outcome, \n",
    "              dot_graph=data['dot_graph'],\n",
    "              proceed_when_unidentifiable=True)\n",
    "\n",
    "cdf_0 = df.causal.do(x={treatment: 0}, \n",
    "              variable_types={treatment: 'b', outcome: 'c', common_cause: 'c'}, \n",
    "              outcome=outcome, \n",
    "              dot_graph=data['dot_graph'],\n",
    "              proceed_when_unidentifiable=True)\n"
   ]
  },
  {
   "cell_type": "code",
   "execution_count": 6,
   "metadata": {
    "execution": {
     "iopub.execute_input": "2022-10-19T16:03:35.176977Z",
     "iopub.status.busy": "2022-10-19T16:03:35.176311Z",
     "iopub.status.idle": "2022-10-19T16:03:35.192044Z",
     "shell.execute_reply": "2022-10-19T16:03:35.191238Z"
    },
    "scrolled": true
   },
   "outputs": [
    {
     "data": {
      "text/html": [
       "<div>\n",
       "<style scoped>\n",
       "    .dataframe tbody tr th:only-of-type {\n",
       "        vertical-align: middle;\n",
       "    }\n",
       "\n",
       "    .dataframe tbody tr th {\n",
       "        vertical-align: top;\n",
       "    }\n",
       "\n",
       "    .dataframe thead th {\n",
       "        text-align: right;\n",
       "    }\n",
       "</style>\n",
       "<table border=\"1\" class=\"dataframe\">\n",
       "  <thead>\n",
       "    <tr style=\"text-align: right;\">\n",
       "      <th></th>\n",
       "      <th>W0</th>\n",
       "      <th>v0</th>\n",
       "      <th>y</th>\n",
       "      <th>propensity_score</th>\n",
       "      <th>weight</th>\n",
       "    </tr>\n",
       "  </thead>\n",
       "  <tbody>\n",
       "    <tr>\n",
       "      <th>0</th>\n",
       "      <td>-0.032941</td>\n",
       "      <td>False</td>\n",
       "      <td>-0.489662</td>\n",
       "      <td>0.501540</td>\n",
       "      <td>1.993860</td>\n",
       "    </tr>\n",
       "    <tr>\n",
       "      <th>1</th>\n",
       "      <td>1.158850</td>\n",
       "      <td>False</td>\n",
       "      <td>2.054903</td>\n",
       "      <td>0.088966</td>\n",
       "      <td>11.240190</td>\n",
       "    </tr>\n",
       "    <tr>\n",
       "      <th>2</th>\n",
       "      <td>-0.132759</td>\n",
       "      <td>False</td>\n",
       "      <td>-1.659307</td>\n",
       "      <td>0.550209</td>\n",
       "      <td>1.817491</td>\n",
       "    </tr>\n",
       "    <tr>\n",
       "      <th>3</th>\n",
       "      <td>0.607163</td>\n",
       "      <td>False</td>\n",
       "      <td>1.176051</td>\n",
       "      <td>0.223289</td>\n",
       "      <td>4.478501</td>\n",
       "    </tr>\n",
       "    <tr>\n",
       "      <th>4</th>\n",
       "      <td>-0.073407</td>\n",
       "      <td>False</td>\n",
       "      <td>-0.539406</td>\n",
       "      <td>0.521326</td>\n",
       "      <td>1.918186</td>\n",
       "    </tr>\n",
       "    <tr>\n",
       "      <th>...</th>\n",
       "      <td>...</td>\n",
       "      <td>...</td>\n",
       "      <td>...</td>\n",
       "      <td>...</td>\n",
       "      <td>...</td>\n",
       "    </tr>\n",
       "    <tr>\n",
       "      <th>995</th>\n",
       "      <td>0.780855</td>\n",
       "      <td>False</td>\n",
       "      <td>0.844283</td>\n",
       "      <td>0.169871</td>\n",
       "      <td>5.886805</td>\n",
       "    </tr>\n",
       "    <tr>\n",
       "      <th>996</th>\n",
       "      <td>0.407551</td>\n",
       "      <td>False</td>\n",
       "      <td>0.892933</td>\n",
       "      <td>0.298189</td>\n",
       "      <td>3.353581</td>\n",
       "    </tr>\n",
       "    <tr>\n",
       "      <th>997</th>\n",
       "      <td>0.255098</td>\n",
       "      <td>False</td>\n",
       "      <td>1.253909</td>\n",
       "      <td>0.364110</td>\n",
       "      <td>2.746422</td>\n",
       "    </tr>\n",
       "    <tr>\n",
       "      <th>998</th>\n",
       "      <td>-1.255596</td>\n",
       "      <td>False</td>\n",
       "      <td>-4.688930</td>\n",
       "      <td>0.916754</td>\n",
       "      <td>1.090805</td>\n",
       "    </tr>\n",
       "    <tr>\n",
       "      <th>999</th>\n",
       "      <td>-1.163058</td>\n",
       "      <td>False</td>\n",
       "      <td>-2.269193</td>\n",
       "      <td>0.901848</td>\n",
       "      <td>1.108834</td>\n",
       "    </tr>\n",
       "  </tbody>\n",
       "</table>\n",
       "<p>1000 rows × 5 columns</p>\n",
       "</div>"
      ],
      "text/plain": [
       "           W0     v0         y  propensity_score     weight\n",
       "0   -0.032941  False -0.489662          0.501540   1.993860\n",
       "1    1.158850  False  2.054903          0.088966  11.240190\n",
       "2   -0.132759  False -1.659307          0.550209   1.817491\n",
       "3    0.607163  False  1.176051          0.223289   4.478501\n",
       "4   -0.073407  False -0.539406          0.521326   1.918186\n",
       "..        ...    ...       ...               ...        ...\n",
       "995  0.780855  False  0.844283          0.169871   5.886805\n",
       "996  0.407551  False  0.892933          0.298189   3.353581\n",
       "997  0.255098  False  1.253909          0.364110   2.746422\n",
       "998 -1.255596  False -4.688930          0.916754   1.090805\n",
       "999 -1.163058  False -2.269193          0.901848   1.108834\n",
       "\n",
       "[1000 rows x 5 columns]"
      ]
     },
     "execution_count": 6,
     "metadata": {},
     "output_type": "execute_result"
    }
   ],
   "source": [
    "cdf_0"
   ]
  },
  {
   "cell_type": "code",
   "execution_count": 7,
   "metadata": {
    "execution": {
     "iopub.execute_input": "2022-10-19T16:03:35.196013Z",
     "iopub.status.busy": "2022-10-19T16:03:35.195576Z",
     "iopub.status.idle": "2022-10-19T16:03:35.210060Z",
     "shell.execute_reply": "2022-10-19T16:03:35.209326Z"
    }
   },
   "outputs": [
    {
     "data": {
      "text/html": [
       "<div>\n",
       "<style scoped>\n",
       "    .dataframe tbody tr th:only-of-type {\n",
       "        vertical-align: middle;\n",
       "    }\n",
       "\n",
       "    .dataframe tbody tr th {\n",
       "        vertical-align: top;\n",
       "    }\n",
       "\n",
       "    .dataframe thead th {\n",
       "        text-align: right;\n",
       "    }\n",
       "</style>\n",
       "<table border=\"1\" class=\"dataframe\">\n",
       "  <thead>\n",
       "    <tr style=\"text-align: right;\">\n",
       "      <th></th>\n",
       "      <th>W0</th>\n",
       "      <th>v0</th>\n",
       "      <th>y</th>\n",
       "      <th>propensity_score</th>\n",
       "      <th>weight</th>\n",
       "    </tr>\n",
       "  </thead>\n",
       "  <tbody>\n",
       "    <tr>\n",
       "      <th>0</th>\n",
       "      <td>-1.138288</td>\n",
       "      <td>True</td>\n",
       "      <td>3.954274</td>\n",
       "      <td>0.102527</td>\n",
       "      <td>9.753514</td>\n",
       "    </tr>\n",
       "    <tr>\n",
       "      <th>1</th>\n",
       "      <td>0.699254</td>\n",
       "      <td>True</td>\n",
       "      <td>7.624528</td>\n",
       "      <td>0.806408</td>\n",
       "      <td>1.240067</td>\n",
       "    </tr>\n",
       "    <tr>\n",
       "      <th>2</th>\n",
       "      <td>-0.481218</td>\n",
       "      <td>True</td>\n",
       "      <td>2.007632</td>\n",
       "      <td>0.292455</td>\n",
       "      <td>3.419328</td>\n",
       "    </tr>\n",
       "    <tr>\n",
       "      <th>3</th>\n",
       "      <td>-0.938561</td>\n",
       "      <td>True</td>\n",
       "      <td>4.273024</td>\n",
       "      <td>0.144480</td>\n",
       "      <td>6.921358</td>\n",
       "    </tr>\n",
       "    <tr>\n",
       "      <th>4</th>\n",
       "      <td>-0.539439</td>\n",
       "      <td>True</td>\n",
       "      <td>3.806338</td>\n",
       "      <td>0.269446</td>\n",
       "      <td>3.711321</td>\n",
       "    </tr>\n",
       "    <tr>\n",
       "      <th>...</th>\n",
       "      <td>...</td>\n",
       "      <td>...</td>\n",
       "      <td>...</td>\n",
       "      <td>...</td>\n",
       "      <td>...</td>\n",
       "    </tr>\n",
       "    <tr>\n",
       "      <th>995</th>\n",
       "      <td>-0.303823</td>\n",
       "      <td>True</td>\n",
       "      <td>4.161955</td>\n",
       "      <td>0.369047</td>\n",
       "      <td>2.709681</td>\n",
       "    </tr>\n",
       "    <tr>\n",
       "      <th>996</th>\n",
       "      <td>-0.800226</td>\n",
       "      <td>True</td>\n",
       "      <td>2.208560</td>\n",
       "      <td>0.181261</td>\n",
       "      <td>5.516907</td>\n",
       "    </tr>\n",
       "    <tr>\n",
       "      <th>997</th>\n",
       "      <td>-1.785215</td>\n",
       "      <td>True</td>\n",
       "      <td>-0.654902</td>\n",
       "      <td>0.031202</td>\n",
       "      <td>32.049106</td>\n",
       "    </tr>\n",
       "    <tr>\n",
       "      <th>998</th>\n",
       "      <td>-0.400513</td>\n",
       "      <td>True</td>\n",
       "      <td>4.031002</td>\n",
       "      <td>0.326174</td>\n",
       "      <td>3.065846</td>\n",
       "    </tr>\n",
       "    <tr>\n",
       "      <th>999</th>\n",
       "      <td>1.352728</td>\n",
       "      <td>True</td>\n",
       "      <td>7.232445</td>\n",
       "      <td>0.937366</td>\n",
       "      <td>1.066819</td>\n",
       "    </tr>\n",
       "  </tbody>\n",
       "</table>\n",
       "<p>1000 rows × 5 columns</p>\n",
       "</div>"
      ],
      "text/plain": [
       "           W0    v0         y  propensity_score     weight\n",
       "0   -1.138288  True  3.954274          0.102527   9.753514\n",
       "1    0.699254  True  7.624528          0.806408   1.240067\n",
       "2   -0.481218  True  2.007632          0.292455   3.419328\n",
       "3   -0.938561  True  4.273024          0.144480   6.921358\n",
       "4   -0.539439  True  3.806338          0.269446   3.711321\n",
       "..        ...   ...       ...               ...        ...\n",
       "995 -0.303823  True  4.161955          0.369047   2.709681\n",
       "996 -0.800226  True  2.208560          0.181261   5.516907\n",
       "997 -1.785215  True -0.654902          0.031202  32.049106\n",
       "998 -0.400513  True  4.031002          0.326174   3.065846\n",
       "999  1.352728  True  7.232445          0.937366   1.066819\n",
       "\n",
       "[1000 rows x 5 columns]"
      ]
     },
     "execution_count": 7,
     "metadata": {},
     "output_type": "execute_result"
    }
   ],
   "source": [
    "cdf_1"
   ]
  },
  {
   "cell_type": "markdown",
   "metadata": {},
   "source": [
    "## Comparing the estimate to Linear Regression\n",
    "First, estimating the effect using the causal data frame, and the 95% confidence interval."
   ]
  },
  {
   "cell_type": "code",
   "execution_count": 8,
   "metadata": {
    "execution": {
     "iopub.execute_input": "2022-10-19T16:03:35.214033Z",
     "iopub.status.busy": "2022-10-19T16:03:35.213577Z",
     "iopub.status.idle": "2022-10-19T16:03:35.284329Z",
     "shell.execute_reply": "2022-10-19T16:03:35.283278Z"
    }
   },
   "outputs": [
    {
     "data": {
      "image/png": "[encoded data removed]",
      "text/latex": [
       "$\\displaystyle 5.47812065388139$"
      ],
      "text/plain": [
       "5.478120653881393"
      ]
     },
     "execution_count": 8,
     "metadata": {},
     "output_type": "execute_result"
    }
   ],
   "source": [
    "(cdf_1['y'] - cdf_0['y']).mean()"
   ]
  },
  {
   "cell_type": "code",
   "execution_count": 9,
   "metadata": {
    "execution": {
     "iopub.execute_input": "2022-10-19T16:03:35.289639Z",
     "iopub.status.busy": "2022-10-19T16:03:35.288991Z",
     "iopub.status.idle": "2022-10-19T16:03:35.313952Z",
     "shell.execute_reply": "2022-10-19T16:03:35.313140Z"
    }
   },
   "outputs": [
    {
     "data": {
      "image/png": "[encoded data removed]",
      "text/latex": [
       "$\\displaystyle 0.199757616447616$"
      ],
      "text/plain": [
       "0.19975761644761594"
      ]
     },
     "execution_count": 9,
     "metadata": {},
     "output_type": "execute_result"
    }
   ],
   "source": [
    "1.96*(cdf_1['y'] - cdf_0['y']).std() / np.sqrt(len(df))"
   ]
  },
  {
   "cell_type": "markdown",
   "metadata": {},
   "source": [
    "Comparing to the estimate from OLS."
   ]
  },
  {
   "cell_type": "code",
   "execution_count": 10,
   "metadata": {
    "execution": {
     "iopub.execute_input": "2022-10-19T16:03:35.318026Z",
     "iopub.status.busy": "2022-10-19T16:03:35.317483Z",
     "iopub.status.idle": "2022-10-19T16:03:35.337052Z",
     "shell.execute_reply": "2022-10-19T16:03:35.336259Z"
    }
   },
   "outputs": [
    {
     "data": {
      "text/html": [
       "<table class=\"simpletable\">\n",
       "<caption>OLS Regression Results</caption>\n",
       "<tr>\n",
       "  <th>Dep. Variable:</th>            <td>y</td>        <th>  R-squared (uncentered):</th>      <td>   0.959</td> \n",
       "</tr>\n",
       "<tr>\n",
       "  <th>Model:</th>                   <td>OLS</td>       <th>  Adj. R-squared (uncentered):</th> <td>   0.959</td> \n",
       "</tr>\n",
       "<tr>\n",
       "  <th>Method:</th>             <td>Least Squares</td>  <th>  F-statistic:       </th>          <td>1.162e+04</td>\n",
       "</tr>\n",
       "<tr>\n",
       "  <th>Date:</th>             <td>Wed, 19 Oct 2022</td> <th>  Prob (F-statistic):</th>           <td>  0.00</td>  \n",
       "</tr>\n",
       "<tr>\n",
       "  <th>Time:</th>                 <td>16:03:35</td>     <th>  Log-Likelihood:    </th>          <td> -1395.7</td> \n",
       "</tr>\n",
       "<tr>\n",
       "  <th>No. Observations:</th>      <td>  1000</td>      <th>  AIC:               </th>          <td>   2795.</td> \n",
       "</tr>\n",
       "<tr>\n",
       "  <th>Df Residuals:</th>          <td>   998</td>      <th>  BIC:               </th>          <td>   2805.</td> \n",
       "</tr>\n",
       "<tr>\n",
       "  <th>Df Model:</th>              <td>     2</td>      <th>                     </th>              <td> </td>    \n",
       "</tr>\n",
       "<tr>\n",
       "  <th>Covariance Type:</th>      <td>nonrobust</td>    <th>                     </th>              <td> </td>    \n",
       "</tr>\n",
       "</table>\n",
       "<table class=\"simpletable\">\n",
       "<tr>\n",
       "   <td></td>     <th>coef</th>     <th>std err</th>      <th>t</th>      <th>P>|t|</th>  <th>[0.025</th>    <th>0.975]</th>  \n",
       "</tr>\n",
       "<tr>\n",
       "  <th>x1</th> <td>    2.2348</td> <td>    0.033</td> <td>   67.015</td> <td> 0.000</td> <td>    2.169</td> <td>    2.300</td>\n",
       "</tr>\n",
       "<tr>\n",
       "  <th>x2</th> <td>    4.9849</td> <td>    0.048</td> <td>  104.002</td> <td> 0.000</td> <td>    4.891</td> <td>    5.079</td>\n",
       "</tr>\n",
       "</table>\n",
       "<table class=\"simpletable\">\n",
       "<tr>\n",
       "  <th>Omnibus:</th>       <td> 1.699</td> <th>  Durbin-Watson:     </th> <td>   1.918</td>\n",
       "</tr>\n",
       "<tr>\n",
       "  <th>Prob(Omnibus):</th> <td> 0.428</td> <th>  Jarque-Bera (JB):  </th> <td>   1.607</td>\n",
       "</tr>\n",
       "<tr>\n",
       "  <th>Skew:</th>          <td>-0.009</td> <th>  Prob(JB):          </th> <td>   0.448</td>\n",
       "</tr>\n",
       "<tr>\n",
       "  <th>Kurtosis:</th>      <td> 2.804</td> <th>  Cond. No.          </th> <td>    1.69</td>\n",
       "</tr>\n",
       "</table><br/><br/>Notes:<br/>[1] R² is computed without centering (uncentered) since the model does not contain a constant.<br/>[2] Standard Errors assume that the covariance matrix of the errors is correctly specified."
      ],
      "text/plain": [
       "<class 'statsmodels.iolib.summary.Summary'>\n",
       "\"\"\"\n",
       "                                 OLS Regression Results                                \n",
       "=======================================================================================\n",
       "Dep. Variable:                      y   R-squared (uncentered):                   0.959\n",
       "Model:                            OLS   Adj. R-squared (uncentered):              0.959\n",
       "Method:                 Least Squares   F-statistic:                          1.162e+04\n",
       "Date:                Wed, 19 Oct 2022   Prob (F-statistic):                        0.00\n",
       "Time:                        16:03:35   Log-Likelihood:                         -1395.7\n",
       "No. Observations:                1000   AIC:                                      2795.\n",
       "Df Residuals:                     998   BIC:                                      2805.\n",
       "Df Model:                           2                                                  \n",
       "Covariance Type:            nonrobust                                                  \n",
       "==============================================================================\n",
       "                 coef    std err          t      P>|t|      [0.025      0.975]\n",
       "------------------------------------------------------------------------------\n",
       "x1             2.2348      0.033     67.015      0.000       2.169       2.300\n",
       "x2             4.9849      0.048    104.002      0.000       4.891       5.079\n",
       "==============================================================================\n",
       "Omnibus:                        1.699   Durbin-Watson:                   1.918\n",
       "Prob(Omnibus):                  0.428   Jarque-Bera (JB):                1.607\n",
       "Skew:                          -0.009   Prob(JB):                        0.448\n",
       "Kurtosis:                       2.804   Cond. No.                         1.69\n",
       "==============================================================================\n",
       "\n",
       "Notes:\n",
       "[1] R² is computed without centering (uncentered) since the model does not contain a constant.\n",
       "[2] Standard Errors assume that the covariance matrix of the errors is correctly specified.\n",
       "\"\"\""
      ]
     },
     "execution_count": 10,
     "metadata": {},
     "output_type": "execute_result"
    }
   ],
   "source": [
    "model = OLS(np.asarray(df[outcome]), np.asarray(df[[common_cause, treatment]], dtype=np.float64))\n",
    "result = model.fit()\n",
    "result.summary()"
   ]
  }
 ],
 "metadata": {
  "kernelspec": {
   "display_name": "Python 3",
   "language": "python",
   "name": "python3"
  },
  "language_info": {
   "codemirror_mode": {
    "name": "ipython",
    "version": 3
   },
   "file_extension": ".py",
   "mimetype": "text/x-python",
   "name": "python",
   "nbconvert_exporter": "python",
   "pygments_lexer": "ipython3",
   "version": "3.8.10"
  },
  "toc": {
   "base_numbering": 1,
   "nav_menu": {},
   "number_sections": false,
   "sideBar": true,
   "skip_h1_title": true,
   "title_cell": "Table of Contents",
   "title_sidebar": "Contents",
   "toc_cell": false,
   "toc_position": {},
   "toc_section_display": true,
   "toc_window_display": false
  }
 },
 "nbformat": 4,
 "nbformat_minor": 4
}
