{
 "cells": [
  {
   "cell_type": "markdown",
   "metadata": {},
   "source": [
    "# Demo for the DoWhy causal API\n",
    "We show a simple example of adding a causal extension to any dataframe. "
   ]
  },
  {
   "cell_type": "code",
   "execution_count": 1,
   "metadata": {
    "execution": {
     "iopub.execute_input": "2022-11-14T20:37:55.354932Z",
     "iopub.status.busy": "2022-11-14T20:37:55.354691Z",
     "iopub.status.idle": "2022-11-14T20:37:57.109141Z",
     "shell.execute_reply": "2022-11-14T20:37:57.108509Z"
    }
   },
   "outputs": [],
   "source": [
    "import dowhy.datasets\n",
    "import dowhy.api\n",
    "\n",
    "import numpy as np\n",
    "import pandas as pd\n",
    "\n",
    "from statsmodels.api import OLS"
   ]
  },
  {
   "cell_type": "code",
   "execution_count": 2,
   "metadata": {
    "execution": {
     "iopub.execute_input": "2022-11-14T20:37:57.113326Z",
     "iopub.status.busy": "2022-11-14T20:37:57.112529Z",
     "iopub.status.idle": "2022-11-14T20:37:57.154095Z",
     "shell.execute_reply": "2022-11-14T20:37:57.153506Z"
    }
   },
   "outputs": [
    {
     "data": {
      "text/html": [
       "<div>\n",
       "<style scoped>\n",
       "    .dataframe tbody tr th:only-of-type {\n",
       "        vertical-align: middle;\n",
       "    }\n",
       "\n",
       "    .dataframe tbody tr th {\n",
       "        vertical-align: top;\n",
       "    }\n",
       "\n",
       "    .dataframe thead th {\n",
       "        text-align: right;\n",
       "    }\n",
       "</style>\n",
       "<table border=\"1\" class=\"dataframe\">\n",
       "  <thead>\n",
       "    <tr style=\"text-align: right;\">\n",
       "      <th></th>\n",
       "      <th>W0</th>\n",
       "      <th>v0</th>\n",
       "      <th>y</th>\n",
       "    </tr>\n",
       "  </thead>\n",
       "  <tbody>\n",
       "    <tr>\n",
       "      <th>0</th>\n",
       "      <td>0.466372</td>\n",
       "      <td>False</td>\n",
       "      <td>1.487627</td>\n",
       "    </tr>\n",
       "    <tr>\n",
       "      <th>1</th>\n",
       "      <td>-0.704426</td>\n",
       "      <td>True</td>\n",
       "      <td>3.306835</td>\n",
       "    </tr>\n",
       "    <tr>\n",
       "      <th>2</th>\n",
       "      <td>-1.497792</td>\n",
       "      <td>False</td>\n",
       "      <td>-2.467635</td>\n",
       "    </tr>\n",
       "    <tr>\n",
       "      <th>3</th>\n",
       "      <td>0.045241</td>\n",
       "      <td>False</td>\n",
       "      <td>0.505998</td>\n",
       "    </tr>\n",
       "    <tr>\n",
       "      <th>4</th>\n",
       "      <td>-0.189657</td>\n",
       "      <td>False</td>\n",
       "      <td>0.450247</td>\n",
       "    </tr>\n",
       "    <tr>\n",
       "      <th>...</th>\n",
       "      <td>...</td>\n",
       "      <td>...</td>\n",
       "      <td>...</td>\n",
       "    </tr>\n",
       "    <tr>\n",
       "      <th>995</th>\n",
       "      <td>-2.232604</td>\n",
       "      <td>True</td>\n",
       "      <td>4.413348</td>\n",
       "    </tr>\n",
       "    <tr>\n",
       "      <th>996</th>\n",
       "      <td>0.206981</td>\n",
       "      <td>True</td>\n",
       "      <td>7.418781</td>\n",
       "    </tr>\n",
       "    <tr>\n",
       "      <th>997</th>\n",
       "      <td>-0.923973</td>\n",
       "      <td>False</td>\n",
       "      <td>-1.571704</td>\n",
       "    </tr>\n",
       "    <tr>\n",
       "      <th>998</th>\n",
       "      <td>-3.088508</td>\n",
       "      <td>False</td>\n",
       "      <td>-3.508877</td>\n",
       "    </tr>\n",
       "    <tr>\n",
       "      <th>999</th>\n",
       "      <td>0.027522</td>\n",
       "      <td>False</td>\n",
       "      <td>-0.407257</td>\n",
       "    </tr>\n",
       "  </tbody>\n",
       "</table>\n",
       "<p>1000 rows × 3 columns</p>\n",
       "</div>"
      ],
      "text/plain": [
       "           W0     v0         y\n",
       "0    0.466372  False  1.487627\n",
       "1   -0.704426   True  3.306835\n",
       "2   -1.497792  False -2.467635\n",
       "3    0.045241  False  0.505998\n",
       "4   -0.189657  False  0.450247\n",
       "..        ...    ...       ...\n",
       "995 -2.232604   True  4.413348\n",
       "996  0.206981   True  7.418781\n",
       "997 -0.923973  False -1.571704\n",
       "998 -3.088508  False -3.508877\n",
       "999  0.027522  False -0.407257\n",
       "\n",
       "[1000 rows x 3 columns]"
      ]
     },
     "execution_count": 2,
     "metadata": {},
     "output_type": "execute_result"
    }
   ],
   "source": [
    "data = dowhy.datasets.linear_dataset(beta=5,\n",
    "        num_common_causes=1,\n",
    "        num_instruments = 0,\n",
    "        num_samples=1000,\n",
    "        treatment_is_binary=True)\n",
    "df = data['df']\n",
    "df['y'] = df['y'] + np.random.normal(size=len(df)) # Adding noise to data. Without noise, the variance in Y|X, Z is zero, and mcmc fails.\n",
    "#data['dot_graph'] = 'digraph { v ->y;X0-> v;X0-> y;}'\n",
    "\n",
    "treatment= data[\"treatment_name\"][0]\n",
    "outcome = data[\"outcome_name\"][0]\n",
    "common_cause = data[\"common_causes_names\"][0]\n",
    "df"
   ]
  },
  {
   "cell_type": "code",
   "execution_count": 3,
   "metadata": {
    "execution": {
     "iopub.execute_input": "2022-11-14T20:37:57.156897Z",
     "iopub.status.busy": "2022-11-14T20:37:57.156663Z",
     "iopub.status.idle": "2022-11-14T20:37:57.299234Z",
     "shell.execute_reply": "2022-11-14T20:37:57.298615Z"
    }
   },
   "outputs": [
    {
     "data": {
      "text/plain": [
       "<AxesSubplot: xlabel='v0'>"
      ]
     },
     "execution_count": 3,
     "metadata": {},
     "output_type": "execute_result"
    },
    {
     "data": {
      "image/png": "[encoded data removed]",
      "text/plain": [
       "<Figure size 640x480 with 1 Axes>"
      ]
     },
     "metadata": {},
     "output_type": "display_data"
    }
   ],
   "source": [
    "# data['df'] is just a regular pandas.DataFrame\n",
    "df.causal.do(x=treatment,\n",
    "                     variable_types={treatment: 'b', outcome: 'c', common_cause: 'c'},\n",
    "                     outcome=outcome,\n",
    "                     common_causes=[common_cause],\n",
    "                     proceed_when_unidentifiable=True).groupby(treatment).mean().plot(y=outcome, kind='bar')"
   ]
  },
  {
   "cell_type": "code",
   "execution_count": 4,
   "metadata": {
    "execution": {
     "iopub.execute_input": "2022-11-14T20:37:57.302383Z",
     "iopub.status.busy": "2022-11-14T20:37:57.302050Z",
     "iopub.status.idle": "2022-11-14T20:37:57.424092Z",
     "shell.execute_reply": "2022-11-14T20:37:57.423604Z"
    }
   },
   "outputs": [
    {
     "data": {
      "text/plain": [
       "<AxesSubplot: xlabel='v0'>"
      ]
     },
     "execution_count": 4,
     "metadata": {},
     "output_type": "execute_result"
    },
    {
     "data": {
      "image/png": "[encoded data removed]",
      "text/plain": [
       "<Figure size 640x480 with 1 Axes>"
      ]
     },
     "metadata": {},
     "output_type": "display_data"
    }
   ],
   "source": [
    "df.causal.do(x={treatment: 1}, \n",
    "              variable_types={treatment:'b', outcome: 'c', common_cause: 'c'}, \n",
    "              outcome=outcome,\n",
    "              method='weighting', \n",
    "              common_causes=[common_cause],\n",
    "              proceed_when_unidentifiable=True).groupby(treatment).mean().plot(y=outcome, kind='bar')"
   ]
  },
  {
   "cell_type": "code",
   "execution_count": 5,
   "metadata": {
    "execution": {
     "iopub.execute_input": "2022-11-14T20:37:57.427946Z",
     "iopub.status.busy": "2022-11-14T20:37:57.426765Z",
     "iopub.status.idle": "2022-11-14T20:37:57.457786Z",
     "shell.execute_reply": "2022-11-14T20:37:57.456437Z"
    }
   },
   "outputs": [],
   "source": [
    "cdf_1 = df.causal.do(x={treatment: 1}, \n",
    "              variable_types={treatment: 'b', outcome: 'c', common_cause: 'c'}, \n",
    "              outcome=outcome, \n",
    "              dot_graph=data['dot_graph'],\n",
    "              proceed_when_unidentifiable=True)\n",
    "\n",
    "cdf_0 = df.causal.do(x={treatment: 0}, \n",
    "              variable_types={treatment: 'b', outcome: 'c', common_cause: 'c'}, \n",
    "              outcome=outcome, \n",
    "              dot_graph=data['dot_graph'],\n",
    "              proceed_when_unidentifiable=True)\n"
   ]
  },
  {
   "cell_type": "code",
   "execution_count": 6,
   "metadata": {
    "execution": {
     "iopub.execute_input": "2022-11-14T20:37:57.460978Z",
     "iopub.status.busy": "2022-11-14T20:37:57.460577Z",
     "iopub.status.idle": "2022-11-14T20:37:57.473236Z",
     "shell.execute_reply": "2022-11-14T20:37:57.471899Z"
    },
    "scrolled": true
   },
   "outputs": [
    {
     "data": {
      "text/html": [
       "<div>\n",
       "<style scoped>\n",
       "    .dataframe tbody tr th:only-of-type {\n",
       "        vertical-align: middle;\n",
       "    }\n",
       "\n",
       "    .dataframe tbody tr th {\n",
       "        vertical-align: top;\n",
       "    }\n",
       "\n",
       "    .dataframe thead th {\n",
       "        text-align: right;\n",
       "    }\n",
       "</style>\n",
       "<table border=\"1\" class=\"dataframe\">\n",
       "  <thead>\n",
       "    <tr style=\"text-align: right;\">\n",
       "      <th></th>\n",
       "      <th>W0</th>\n",
       "      <th>v0</th>\n",
       "      <th>y</th>\n",
       "      <th>propensity_score</th>\n",
       "      <th>weight</th>\n",
       "    </tr>\n",
       "  </thead>\n",
       "  <tbody>\n",
       "    <tr>\n",
       "      <th>0</th>\n",
       "      <td>-2.524005</td>\n",
       "      <td>False</td>\n",
       "      <td>-6.193919</td>\n",
       "      <td>0.905670</td>\n",
       "      <td>1.104155</td>\n",
       "    </tr>\n",
       "    <tr>\n",
       "      <th>1</th>\n",
       "      <td>0.337514</td>\n",
       "      <td>False</td>\n",
       "      <td>1.111026</td>\n",
       "      <td>0.453566</td>\n",
       "      <td>2.204750</td>\n",
       "    </tr>\n",
       "    <tr>\n",
       "      <th>2</th>\n",
       "      <td>-1.643986</td>\n",
       "      <td>False</td>\n",
       "      <td>-1.899768</td>\n",
       "      <td>0.818911</td>\n",
       "      <td>1.221134</td>\n",
       "    </tr>\n",
       "    <tr>\n",
       "      <th>3</th>\n",
       "      <td>-1.167004</td>\n",
       "      <td>False</td>\n",
       "      <td>-2.787843</td>\n",
       "      <td>0.750430</td>\n",
       "      <td>1.332569</td>\n",
       "    </tr>\n",
       "    <tr>\n",
       "      <th>4</th>\n",
       "      <td>-1.938610</td>\n",
       "      <td>False</td>\n",
       "      <td>-0.744513</td>\n",
       "      <td>0.853341</td>\n",
       "      <td>1.171864</td>\n",
       "    </tr>\n",
       "    <tr>\n",
       "      <th>...</th>\n",
       "      <td>...</td>\n",
       "      <td>...</td>\n",
       "      <td>...</td>\n",
       "      <td>...</td>\n",
       "      <td>...</td>\n",
       "    </tr>\n",
       "    <tr>\n",
       "      <th>995</th>\n",
       "      <td>0.959606</td>\n",
       "      <td>False</td>\n",
       "      <td>-0.958200</td>\n",
       "      <td>0.327724</td>\n",
       "      <td>3.051350</td>\n",
       "    </tr>\n",
       "    <tr>\n",
       "      <th>996</th>\n",
       "      <td>-2.073384</td>\n",
       "      <td>False</td>\n",
       "      <td>-2.769339</td>\n",
       "      <td>0.867192</td>\n",
       "      <td>1.153147</td>\n",
       "    </tr>\n",
       "    <tr>\n",
       "      <th>997</th>\n",
       "      <td>-0.932008</td>\n",
       "      <td>False</td>\n",
       "      <td>-0.663544</td>\n",
       "      <td>0.710920</td>\n",
       "      <td>1.406627</td>\n",
       "    </tr>\n",
       "    <tr>\n",
       "      <th>998</th>\n",
       "      <td>0.218917</td>\n",
       "      <td>False</td>\n",
       "      <td>1.814552</td>\n",
       "      <td>0.478811</td>\n",
       "      <td>2.088507</td>\n",
       "    </tr>\n",
       "    <tr>\n",
       "      <th>999</th>\n",
       "      <td>-1.448605</td>\n",
       "      <td>False</td>\n",
       "      <td>-2.286028</td>\n",
       "      <td>0.792791</td>\n",
       "      <td>1.261367</td>\n",
       "    </tr>\n",
       "  </tbody>\n",
       "</table>\n",
       "<p>1000 rows × 5 columns</p>\n",
       "</div>"
      ],
      "text/plain": [
       "           W0     v0         y  propensity_score    weight\n",
       "0   -2.524005  False -6.193919          0.905670  1.104155\n",
       "1    0.337514  False  1.111026          0.453566  2.204750\n",
       "2   -1.643986  False -1.899768          0.818911  1.221134\n",
       "3   -1.167004  False -2.787843          0.750430  1.332569\n",
       "4   -1.938610  False -0.744513          0.853341  1.171864\n",
       "..        ...    ...       ...               ...       ...\n",
       "995  0.959606  False -0.958200          0.327724  3.051350\n",
       "996 -2.073384  False -2.769339          0.867192  1.153147\n",
       "997 -0.932008  False -0.663544          0.710920  1.406627\n",
       "998  0.218917  False  1.814552          0.478811  2.088507\n",
       "999 -1.448605  False -2.286028          0.792791  1.261367\n",
       "\n",
       "[1000 rows x 5 columns]"
      ]
     },
     "execution_count": 6,
     "metadata": {},
     "output_type": "execute_result"
    }
   ],
   "source": [
    "cdf_0"
   ]
  },
  {
   "cell_type": "code",
   "execution_count": 7,
   "metadata": {
    "execution": {
     "iopub.execute_input": "2022-11-14T20:37:57.476095Z",
     "iopub.status.busy": "2022-11-14T20:37:57.475787Z",
     "iopub.status.idle": "2022-11-14T20:37:57.487051Z",
     "shell.execute_reply": "2022-11-14T20:37:57.486539Z"
    }
   },
   "outputs": [
    {
     "data": {
      "text/html": [
       "<div>\n",
       "<style scoped>\n",
       "    .dataframe tbody tr th:only-of-type {\n",
       "        vertical-align: middle;\n",
       "    }\n",
       "\n",
       "    .dataframe tbody tr th {\n",
       "        vertical-align: top;\n",
       "    }\n",
       "\n",
       "    .dataframe thead th {\n",
       "        text-align: right;\n",
       "    }\n",
       "</style>\n",
       "<table border=\"1\" class=\"dataframe\">\n",
       "  <thead>\n",
       "    <tr style=\"text-align: right;\">\n",
       "      <th></th>\n",
       "      <th>W0</th>\n",
       "      <th>v0</th>\n",
       "      <th>y</th>\n",
       "      <th>propensity_score</th>\n",
       "      <th>weight</th>\n",
       "    </tr>\n",
       "  </thead>\n",
       "  <tbody>\n",
       "    <tr>\n",
       "      <th>0</th>\n",
       "      <td>-1.210825</td>\n",
       "      <td>True</td>\n",
       "      <td>1.819430</td>\n",
       "      <td>0.242615</td>\n",
       "      <td>4.121764</td>\n",
       "    </tr>\n",
       "    <tr>\n",
       "      <th>1</th>\n",
       "      <td>-0.848285</td>\n",
       "      <td>True</td>\n",
       "      <td>5.682561</td>\n",
       "      <td>0.304020</td>\n",
       "      <td>3.289262</td>\n",
       "    </tr>\n",
       "    <tr>\n",
       "      <th>2</th>\n",
       "      <td>-2.295197</td>\n",
       "      <td>True</td>\n",
       "      <td>2.644286</td>\n",
       "      <td>0.112433</td>\n",
       "      <td>8.894172</td>\n",
       "    </tr>\n",
       "    <tr>\n",
       "      <th>3</th>\n",
       "      <td>-1.759628</td>\n",
       "      <td>True</td>\n",
       "      <td>2.805313</td>\n",
       "      <td>0.166877</td>\n",
       "      <td>5.992430</td>\n",
       "    </tr>\n",
       "    <tr>\n",
       "      <th>4</th>\n",
       "      <td>-0.776731</td>\n",
       "      <td>True</td>\n",
       "      <td>2.894867</td>\n",
       "      <td>0.317126</td>\n",
       "      <td>3.153323</td>\n",
       "    </tr>\n",
       "    <tr>\n",
       "      <th>...</th>\n",
       "      <td>...</td>\n",
       "      <td>...</td>\n",
       "      <td>...</td>\n",
       "      <td>...</td>\n",
       "      <td>...</td>\n",
       "    </tr>\n",
       "    <tr>\n",
       "      <th>995</th>\n",
       "      <td>-1.567087</td>\n",
       "      <td>True</td>\n",
       "      <td>3.480768</td>\n",
       "      <td>0.191051</td>\n",
       "      <td>5.234206</td>\n",
       "    </tr>\n",
       "    <tr>\n",
       "      <th>996</th>\n",
       "      <td>-1.426197</td>\n",
       "      <td>True</td>\n",
       "      <td>4.042869</td>\n",
       "      <td>0.210376</td>\n",
       "      <td>4.753386</td>\n",
       "    </tr>\n",
       "    <tr>\n",
       "      <th>997</th>\n",
       "      <td>-0.136342</td>\n",
       "      <td>True</td>\n",
       "      <td>5.505401</td>\n",
       "      <td>0.445435</td>\n",
       "      <td>2.244996</td>\n",
       "    </tr>\n",
       "    <tr>\n",
       "      <th>998</th>\n",
       "      <td>-1.674413</td>\n",
       "      <td>True</td>\n",
       "      <td>3.389337</td>\n",
       "      <td>0.177261</td>\n",
       "      <td>5.641409</td>\n",
       "    </tr>\n",
       "    <tr>\n",
       "      <th>999</th>\n",
       "      <td>-2.232604</td>\n",
       "      <td>True</td>\n",
       "      <td>4.413348</td>\n",
       "      <td>0.117889</td>\n",
       "      <td>8.482554</td>\n",
       "    </tr>\n",
       "  </tbody>\n",
       "</table>\n",
       "<p>1000 rows × 5 columns</p>\n",
       "</div>"
      ],
      "text/plain": [
       "           W0    v0         y  propensity_score    weight\n",
       "0   -1.210825  True  1.819430          0.242615  4.121764\n",
       "1   -0.848285  True  5.682561          0.304020  3.289262\n",
       "2   -2.295197  True  2.644286          0.112433  8.894172\n",
       "3   -1.759628  True  2.805313          0.166877  5.992430\n",
       "4   -0.776731  True  2.894867          0.317126  3.153323\n",
       "..        ...   ...       ...               ...       ...\n",
       "995 -1.567087  True  3.480768          0.191051  5.234206\n",
       "996 -1.426197  True  4.042869          0.210376  4.753386\n",
       "997 -0.136342  True  5.505401          0.445435  2.244996\n",
       "998 -1.674413  True  3.389337          0.177261  5.641409\n",
       "999 -2.232604  True  4.413348          0.117889  8.482554\n",
       "\n",
       "[1000 rows x 5 columns]"
      ]
     },
     "execution_count": 7,
     "metadata": {},
     "output_type": "execute_result"
    }
   ],
   "source": [
    "cdf_1"
   ]
  },
  {
   "cell_type": "markdown",
   "metadata": {},
   "source": [
    "## Comparing the estimate to Linear Regression\n",
    "First, estimating the effect using the causal data frame, and the 95% confidence interval."
   ]
  },
  {
   "cell_type": "code",
   "execution_count": 8,
   "metadata": {
    "execution": {
     "iopub.execute_input": "2022-11-14T20:37:57.489915Z",
     "iopub.status.busy": "2022-11-14T20:37:57.489426Z",
     "iopub.status.idle": "2022-11-14T20:37:57.547191Z",
     "shell.execute_reply": "2022-11-14T20:37:57.546658Z"
    }
   },
   "outputs": [
    {
     "data": {
      "image/png": "[encoded data removed]",
      "text/latex": [
       "$\\displaystyle 5.3218649787714$"
      ],
      "text/plain": [
       "5.3218649787714"
      ]
     },
     "execution_count": 8,
     "metadata": {},
     "output_type": "execute_result"
    }
   ],
   "source": [
    "(cdf_1['y'] - cdf_0['y']).mean()"
   ]
  },
  {
   "cell_type": "code",
   "execution_count": 9,
   "metadata": {
    "execution": {
     "iopub.execute_input": "2022-11-14T20:37:57.549953Z",
     "iopub.status.busy": "2022-11-14T20:37:57.549617Z",
     "iopub.status.idle": "2022-11-14T20:37:57.570272Z",
     "shell.execute_reply": "2022-11-14T20:37:57.569750Z"
    }
   },
   "outputs": [
    {
     "data": {
      "image/png": "[encoded data removed]",
      "text/latex": [
       "$\\displaystyle 0.123808818435664$"
      ],
      "text/plain": [
       "0.12380881843566374"
      ]
     },
     "execution_count": 9,
     "metadata": {},
     "output_type": "execute_result"
    }
   ],
   "source": [
    "1.96*(cdf_1['y'] - cdf_0['y']).std() / np.sqrt(len(df))"
   ]
  },
  {
   "cell_type": "markdown",
   "metadata": {},
   "source": [
    "Comparing to the estimate from OLS."
   ]
  },
  {
   "cell_type": "code",
   "execution_count": 10,
   "metadata": {
    "execution": {
     "iopub.execute_input": "2022-11-14T20:37:57.573237Z",
     "iopub.status.busy": "2022-11-14T20:37:57.572921Z",
     "iopub.status.idle": "2022-11-14T20:37:57.588980Z",
     "shell.execute_reply": "2022-11-14T20:37:57.588420Z"
    }
   },
   "outputs": [
    {
     "data": {
      "text/html": [
       "<table class=\"simpletable\">\n",
       "<caption>OLS Regression Results</caption>\n",
       "<tr>\n",
       "  <th>Dep. Variable:</th>            <td>y</td>        <th>  R-squared (uncentered):</th>      <td>   0.896</td>\n",
       "</tr>\n",
       "<tr>\n",
       "  <th>Model:</th>                   <td>OLS</td>       <th>  Adj. R-squared (uncentered):</th> <td>   0.896</td>\n",
       "</tr>\n",
       "<tr>\n",
       "  <th>Method:</th>             <td>Least Squares</td>  <th>  F-statistic:       </th>          <td>   4309.</td>\n",
       "</tr>\n",
       "<tr>\n",
       "  <th>Date:</th>             <td>Mon, 14 Nov 2022</td> <th>  Prob (F-statistic):</th>           <td>  0.00</td> \n",
       "</tr>\n",
       "<tr>\n",
       "  <th>Time:</th>                 <td>20:37:57</td>     <th>  Log-Likelihood:    </th>          <td> -1424.2</td>\n",
       "</tr>\n",
       "<tr>\n",
       "  <th>No. Observations:</th>      <td>  1000</td>      <th>  AIC:               </th>          <td>   2852.</td>\n",
       "</tr>\n",
       "<tr>\n",
       "  <th>Df Residuals:</th>          <td>   998</td>      <th>  BIC:               </th>          <td>   2862.</td>\n",
       "</tr>\n",
       "<tr>\n",
       "  <th>Df Model:</th>              <td>     2</td>      <th>                     </th>              <td> </td>   \n",
       "</tr>\n",
       "<tr>\n",
       "  <th>Covariance Type:</th>      <td>nonrobust</td>    <th>                     </th>              <td> </td>   \n",
       "</tr>\n",
       "</table>\n",
       "<table class=\"simpletable\">\n",
       "<tr>\n",
       "   <td></td>     <th>coef</th>     <th>std err</th>      <th>t</th>      <th>P>|t|</th>  <th>[0.025</th>    <th>0.975]</th>  \n",
       "</tr>\n",
       "<tr>\n",
       "  <th>x1</th> <td>    1.0321</td> <td>    0.024</td> <td>   43.886</td> <td> 0.000</td> <td>    0.986</td> <td>    1.078</td>\n",
       "</tr>\n",
       "<tr>\n",
       "  <th>x2</th> <td>    5.0583</td> <td>    0.058</td> <td>   87.970</td> <td> 0.000</td> <td>    4.945</td> <td>    5.171</td>\n",
       "</tr>\n",
       "</table>\n",
       "<table class=\"simpletable\">\n",
       "<tr>\n",
       "  <th>Omnibus:</th>       <td> 0.464</td> <th>  Durbin-Watson:     </th> <td>   1.932</td>\n",
       "</tr>\n",
       "<tr>\n",
       "  <th>Prob(Omnibus):</th> <td> 0.793</td> <th>  Jarque-Bera (JB):  </th> <td>   0.544</td>\n",
       "</tr>\n",
       "<tr>\n",
       "  <th>Skew:</th>          <td>-0.039</td> <th>  Prob(JB):          </th> <td>   0.762</td>\n",
       "</tr>\n",
       "<tr>\n",
       "  <th>Kurtosis:</th>      <td> 2.917</td> <th>  Cond. No.          </th> <td>    2.49</td>\n",
       "</tr>\n",
       "</table><br/><br/>Notes:<br/>[1] R² is computed without centering (uncentered) since the model does not contain a constant.<br/>[2] Standard Errors assume that the covariance matrix of the errors is correctly specified."
      ],
      "text/plain": [
       "<class 'statsmodels.iolib.summary.Summary'>\n",
       "\"\"\"\n",
       "                                 OLS Regression Results                                \n",
       "=======================================================================================\n",
       "Dep. Variable:                      y   R-squared (uncentered):                   0.896\n",
       "Model:                            OLS   Adj. R-squared (uncentered):              0.896\n",
       "Method:                 Least Squares   F-statistic:                              4309.\n",
       "Date:                Mon, 14 Nov 2022   Prob (F-statistic):                        0.00\n",
       "Time:                        20:37:57   Log-Likelihood:                         -1424.2\n",
       "No. Observations:                1000   AIC:                                      2852.\n",
       "Df Residuals:                     998   BIC:                                      2862.\n",
       "Df Model:                           2                                                  \n",
       "Covariance Type:            nonrobust                                                  \n",
       "==============================================================================\n",
       "                 coef    std err          t      P>|t|      [0.025      0.975]\n",
       "------------------------------------------------------------------------------\n",
       "x1             1.0321      0.024     43.886      0.000       0.986       1.078\n",
       "x2             5.0583      0.058     87.970      0.000       4.945       5.171\n",
       "==============================================================================\n",
       "Omnibus:                        0.464   Durbin-Watson:                   1.932\n",
       "Prob(Omnibus):                  0.793   Jarque-Bera (JB):                0.544\n",
       "Skew:                          -0.039   Prob(JB):                        0.762\n",
       "Kurtosis:                       2.917   Cond. No.                         2.49\n",
       "==============================================================================\n",
       "\n",
       "Notes:\n",
       "[1] R² is computed without centering (uncentered) since the model does not contain a constant.\n",
       "[2] Standard Errors assume that the covariance matrix of the errors is correctly specified.\n",
       "\"\"\""
      ]
     },
     "execution_count": 10,
     "metadata": {},
     "output_type": "execute_result"
    }
   ],
   "source": [
    "model = OLS(np.asarray(df[outcome]), np.asarray(df[[common_cause, treatment]], dtype=np.float64))\n",
    "result = model.fit()\n",
    "result.summary()"
   ]
  }
 ],
 "metadata": {
  "kernelspec": {
   "display_name": "Python 3",
   "language": "python",
   "name": "python3"
  },
  "language_info": {
   "codemirror_mode": {
    "name": "ipython",
    "version": 3
   },
   "file_extension": ".py",
   "mimetype": "text/x-python",
   "name": "python",
   "nbconvert_exporter": "python",
   "pygments_lexer": "ipython3",
   "version": "3.8.10"
  },
  "toc": {
   "base_numbering": 1,
   "nav_menu": {},
   "number_sections": false,
   "sideBar": true,
   "skip_h1_title": true,
   "title_cell": "Table of Contents",
   "title_sidebar": "Contents",
   "toc_cell": false,
   "toc_position": {},
   "toc_section_display": true,
   "toc_window_display": false
  }
 },
 "nbformat": 4,
 "nbformat_minor": 4
}
