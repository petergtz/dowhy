{
 "cells": [
  {
   "cell_type": "markdown",
   "metadata": {},
   "source": [
    "# Demo for the DoWhy causal API\n",
    "We show a simple example of adding a causal extension to any dataframe. "
   ]
  },
  {
   "cell_type": "code",
   "execution_count": 1,
   "metadata": {
    "execution": {
     "iopub.execute_input": "2023-03-15T17:20:01.635634Z",
     "iopub.status.busy": "2023-03-15T17:20:01.635111Z",
     "iopub.status.idle": "2023-03-15T17:20:03.948280Z",
     "shell.execute_reply": "2023-03-15T17:20:03.947109Z"
    }
   },
   "outputs": [],
   "source": [
    "import dowhy.datasets\n",
    "import dowhy.api\n",
    "\n",
    "import numpy as np\n",
    "import pandas as pd\n",
    "\n",
    "from statsmodels.api import OLS"
   ]
  },
  {
   "cell_type": "code",
   "execution_count": 2,
   "metadata": {
    "execution": {
     "iopub.execute_input": "2023-03-15T17:20:03.952520Z",
     "iopub.status.busy": "2023-03-15T17:20:03.951947Z",
     "iopub.status.idle": "2023-03-15T17:20:04.014020Z",
     "shell.execute_reply": "2023-03-15T17:20:04.013133Z"
    }
   },
   "outputs": [
    {
     "data": {
      "text/html": [
       "<div>\n",
       "<style scoped>\n",
       "    .dataframe tbody tr th:only-of-type {\n",
       "        vertical-align: middle;\n",
       "    }\n",
       "\n",
       "    .dataframe tbody tr th {\n",
       "        vertical-align: top;\n",
       "    }\n",
       "\n",
       "    .dataframe thead th {\n",
       "        text-align: right;\n",
       "    }\n",
       "</style>\n",
       "<table border=\"1\" class=\"dataframe\">\n",
       "  <thead>\n",
       "    <tr style=\"text-align: right;\">\n",
       "      <th></th>\n",
       "      <th>W0</th>\n",
       "      <th>v0</th>\n",
       "      <th>y</th>\n",
       "    </tr>\n",
       "  </thead>\n",
       "  <tbody>\n",
       "    <tr>\n",
       "      <th>0</th>\n",
       "      <td>-0.942221</td>\n",
       "      <td>False</td>\n",
       "      <td>-0.481036</td>\n",
       "    </tr>\n",
       "    <tr>\n",
       "      <th>1</th>\n",
       "      <td>-2.689740</td>\n",
       "      <td>True</td>\n",
       "      <td>2.691270</td>\n",
       "    </tr>\n",
       "    <tr>\n",
       "      <th>2</th>\n",
       "      <td>0.418382</td>\n",
       "      <td>True</td>\n",
       "      <td>5.407442</td>\n",
       "    </tr>\n",
       "    <tr>\n",
       "      <th>3</th>\n",
       "      <td>0.767454</td>\n",
       "      <td>True</td>\n",
       "      <td>5.489635</td>\n",
       "    </tr>\n",
       "    <tr>\n",
       "      <th>4</th>\n",
       "      <td>-1.049987</td>\n",
       "      <td>False</td>\n",
       "      <td>-1.762481</td>\n",
       "    </tr>\n",
       "    <tr>\n",
       "      <th>...</th>\n",
       "      <td>...</td>\n",
       "      <td>...</td>\n",
       "      <td>...</td>\n",
       "    </tr>\n",
       "    <tr>\n",
       "      <th>995</th>\n",
       "      <td>1.845456</td>\n",
       "      <td>True</td>\n",
       "      <td>6.317095</td>\n",
       "    </tr>\n",
       "    <tr>\n",
       "      <th>996</th>\n",
       "      <td>0.430530</td>\n",
       "      <td>False</td>\n",
       "      <td>2.410149</td>\n",
       "    </tr>\n",
       "    <tr>\n",
       "      <th>997</th>\n",
       "      <td>-0.247464</td>\n",
       "      <td>True</td>\n",
       "      <td>4.819919</td>\n",
       "    </tr>\n",
       "    <tr>\n",
       "      <th>998</th>\n",
       "      <td>-0.167812</td>\n",
       "      <td>True</td>\n",
       "      <td>4.511350</td>\n",
       "    </tr>\n",
       "    <tr>\n",
       "      <th>999</th>\n",
       "      <td>0.090249</td>\n",
       "      <td>False</td>\n",
       "      <td>-0.079511</td>\n",
       "    </tr>\n",
       "  </tbody>\n",
       "</table>\n",
       "<p>1000 rows × 3 columns</p>\n",
       "</div>"
      ],
      "text/plain": [
       "           W0     v0         y\n",
       "0   -0.942221  False -0.481036\n",
       "1   -2.689740   True  2.691270\n",
       "2    0.418382   True  5.407442\n",
       "3    0.767454   True  5.489635\n",
       "4   -1.049987  False -1.762481\n",
       "..        ...    ...       ...\n",
       "995  1.845456   True  6.317095\n",
       "996  0.430530  False  2.410149\n",
       "997 -0.247464   True  4.819919\n",
       "998 -0.167812   True  4.511350\n",
       "999  0.090249  False -0.079511\n",
       "\n",
       "[1000 rows x 3 columns]"
      ]
     },
     "execution_count": 2,
     "metadata": {},
     "output_type": "execute_result"
    }
   ],
   "source": [
    "data = dowhy.datasets.linear_dataset(beta=5,\n",
    "        num_common_causes=1,\n",
    "        num_instruments = 0,\n",
    "        num_samples=1000,\n",
    "        treatment_is_binary=True)\n",
    "df = data['df']\n",
    "df['y'] = df['y'] + np.random.normal(size=len(df)) # Adding noise to data. Without noise, the variance in Y|X, Z is zero, and mcmc fails.\n",
    "#data['dot_graph'] = 'digraph { v ->y;X0-> v;X0-> y;}'\n",
    "\n",
    "treatment= data[\"treatment_name\"][0]\n",
    "outcome = data[\"outcome_name\"][0]\n",
    "common_cause = data[\"common_causes_names\"][0]\n",
    "df"
   ]
  },
  {
   "cell_type": "code",
   "execution_count": 3,
   "metadata": {
    "execution": {
     "iopub.execute_input": "2023-03-15T17:20:04.017071Z",
     "iopub.status.busy": "2023-03-15T17:20:04.016700Z",
     "iopub.status.idle": "2023-03-15T17:20:04.215097Z",
     "shell.execute_reply": "2023-03-15T17:20:04.213708Z"
    }
   },
   "outputs": [
    {
     "data": {
      "text/plain": [
       "<AxesSubplot: xlabel='v0'>"
      ]
     },
     "execution_count": 3,
     "metadata": {},
     "output_type": "execute_result"
    },
    {
     "data": {
      "image/png": "[encoded data removed]",
      "text/plain": [
       "<Figure size 640x480 with 1 Axes>"
      ]
     },
     "metadata": {},
     "output_type": "display_data"
    }
   ],
   "source": [
    "# data['df'] is just a regular pandas.DataFrame\n",
    "df.causal.do(x=treatment,\n",
    "                     variable_types={treatment: 'b', outcome: 'c', common_cause: 'c'},\n",
    "                     outcome=outcome,\n",
    "                     common_causes=[common_cause],\n",
    "                     proceed_when_unidentifiable=True).groupby(treatment).mean().plot(y=outcome, kind='bar')"
   ]
  },
  {
   "cell_type": "code",
   "execution_count": 4,
   "metadata": {
    "execution": {
     "iopub.execute_input": "2023-03-15T17:20:04.218652Z",
     "iopub.status.busy": "2023-03-15T17:20:04.218194Z",
     "iopub.status.idle": "2023-03-15T17:20:04.375100Z",
     "shell.execute_reply": "2023-03-15T17:20:04.374116Z"
    }
   },
   "outputs": [
    {
     "data": {
      "text/plain": [
       "<AxesSubplot: xlabel='v0'>"
      ]
     },
     "execution_count": 4,
     "metadata": {},
     "output_type": "execute_result"
    },
    {
     "data": {
      "image/png": "[encoded data removed]",
      "text/plain": [
       "<Figure size 640x480 with 1 Axes>"
      ]
     },
     "metadata": {},
     "output_type": "display_data"
    }
   ],
   "source": [
    "df.causal.do(x={treatment: 1}, \n",
    "              variable_types={treatment:'b', outcome: 'c', common_cause: 'c'}, \n",
    "              outcome=outcome,\n",
    "              method='weighting', \n",
    "              common_causes=[common_cause],\n",
    "              proceed_when_unidentifiable=True).groupby(treatment).mean().plot(y=outcome, kind='bar')"
   ]
  },
  {
   "cell_type": "code",
   "execution_count": 5,
   "metadata": {
    "execution": {
     "iopub.execute_input": "2023-03-15T17:20:04.378713Z",
     "iopub.status.busy": "2023-03-15T17:20:04.378154Z",
     "iopub.status.idle": "2023-03-15T17:20:04.416173Z",
     "shell.execute_reply": "2023-03-15T17:20:04.415384Z"
    }
   },
   "outputs": [],
   "source": [
    "cdf_1 = df.causal.do(x={treatment: 1}, \n",
    "              variable_types={treatment: 'b', outcome: 'c', common_cause: 'c'}, \n",
    "              outcome=outcome, \n",
    "              dot_graph=data['dot_graph'],\n",
    "              proceed_when_unidentifiable=True)\n",
    "\n",
    "cdf_0 = df.causal.do(x={treatment: 0}, \n",
    "              variable_types={treatment: 'b', outcome: 'c', common_cause: 'c'}, \n",
    "              outcome=outcome, \n",
    "              dot_graph=data['dot_graph'],\n",
    "              proceed_when_unidentifiable=True)\n"
   ]
  },
  {
   "cell_type": "code",
   "execution_count": 6,
   "metadata": {
    "execution": {
     "iopub.execute_input": "2023-03-15T17:20:04.419342Z",
     "iopub.status.busy": "2023-03-15T17:20:04.418924Z",
     "iopub.status.idle": "2023-03-15T17:20:04.432174Z",
     "shell.execute_reply": "2023-03-15T17:20:04.431245Z"
    },
    "scrolled": true
   },
   "outputs": [
    {
     "data": {
      "text/html": [
       "<div>\n",
       "<style scoped>\n",
       "    .dataframe tbody tr th:only-of-type {\n",
       "        vertical-align: middle;\n",
       "    }\n",
       "\n",
       "    .dataframe tbody tr th {\n",
       "        vertical-align: top;\n",
       "    }\n",
       "\n",
       "    .dataframe thead th {\n",
       "        text-align: right;\n",
       "    }\n",
       "</style>\n",
       "<table border=\"1\" class=\"dataframe\">\n",
       "  <thead>\n",
       "    <tr style=\"text-align: right;\">\n",
       "      <th></th>\n",
       "      <th>W0</th>\n",
       "      <th>v0</th>\n",
       "      <th>y</th>\n",
       "      <th>propensity_score</th>\n",
       "      <th>weight</th>\n",
       "    </tr>\n",
       "  </thead>\n",
       "  <tbody>\n",
       "    <tr>\n",
       "      <th>0</th>\n",
       "      <td>-0.117572</td>\n",
       "      <td>False</td>\n",
       "      <td>-1.251556</td>\n",
       "      <td>0.485724</td>\n",
       "      <td>2.058782</td>\n",
       "    </tr>\n",
       "    <tr>\n",
       "      <th>1</th>\n",
       "      <td>0.909749</td>\n",
       "      <td>False</td>\n",
       "      <td>-0.279609</td>\n",
       "      <td>0.488743</td>\n",
       "      <td>2.046066</td>\n",
       "    </tr>\n",
       "    <tr>\n",
       "      <th>2</th>\n",
       "      <td>-1.587975</td>\n",
       "      <td>False</td>\n",
       "      <td>-0.298389</td>\n",
       "      <td>0.481405</td>\n",
       "      <td>2.077253</td>\n",
       "    </tr>\n",
       "    <tr>\n",
       "      <th>3</th>\n",
       "      <td>-1.654083</td>\n",
       "      <td>False</td>\n",
       "      <td>-0.816746</td>\n",
       "      <td>0.481211</td>\n",
       "      <td>2.078091</td>\n",
       "    </tr>\n",
       "    <tr>\n",
       "      <th>4</th>\n",
       "      <td>-0.614750</td>\n",
       "      <td>False</td>\n",
       "      <td>-1.593530</td>\n",
       "      <td>0.484263</td>\n",
       "      <td>2.064992</td>\n",
       "    </tr>\n",
       "    <tr>\n",
       "      <th>...</th>\n",
       "      <td>...</td>\n",
       "      <td>...</td>\n",
       "      <td>...</td>\n",
       "      <td>...</td>\n",
       "      <td>...</td>\n",
       "    </tr>\n",
       "    <tr>\n",
       "      <th>995</th>\n",
       "      <td>-0.775392</td>\n",
       "      <td>False</td>\n",
       "      <td>-0.514784</td>\n",
       "      <td>0.483791</td>\n",
       "      <td>2.067006</td>\n",
       "    </tr>\n",
       "    <tr>\n",
       "      <th>996</th>\n",
       "      <td>-0.166905</td>\n",
       "      <td>False</td>\n",
       "      <td>-0.312468</td>\n",
       "      <td>0.485579</td>\n",
       "      <td>2.059397</td>\n",
       "    </tr>\n",
       "    <tr>\n",
       "      <th>997</th>\n",
       "      <td>-1.700841</td>\n",
       "      <td>False</td>\n",
       "      <td>-2.471519</td>\n",
       "      <td>0.481074</td>\n",
       "      <td>2.078684</td>\n",
       "    </tr>\n",
       "    <tr>\n",
       "      <th>998</th>\n",
       "      <td>-1.446262</td>\n",
       "      <td>False</td>\n",
       "      <td>0.421636</td>\n",
       "      <td>0.481821</td>\n",
       "      <td>2.075459</td>\n",
       "    </tr>\n",
       "    <tr>\n",
       "      <th>999</th>\n",
       "      <td>0.616571</td>\n",
       "      <td>False</td>\n",
       "      <td>1.256012</td>\n",
       "      <td>0.487881</td>\n",
       "      <td>2.049679</td>\n",
       "    </tr>\n",
       "  </tbody>\n",
       "</table>\n",
       "<p>1000 rows × 5 columns</p>\n",
       "</div>"
      ],
      "text/plain": [
       "           W0     v0         y  propensity_score    weight\n",
       "0   -0.117572  False -1.251556          0.485724  2.058782\n",
       "1    0.909749  False -0.279609          0.488743  2.046066\n",
       "2   -1.587975  False -0.298389          0.481405  2.077253\n",
       "3   -1.654083  False -0.816746          0.481211  2.078091\n",
       "4   -0.614750  False -1.593530          0.484263  2.064992\n",
       "..        ...    ...       ...               ...       ...\n",
       "995 -0.775392  False -0.514784          0.483791  2.067006\n",
       "996 -0.166905  False -0.312468          0.485579  2.059397\n",
       "997 -1.700841  False -2.471519          0.481074  2.078684\n",
       "998 -1.446262  False  0.421636          0.481821  2.075459\n",
       "999  0.616571  False  1.256012          0.487881  2.049679\n",
       "\n",
       "[1000 rows x 5 columns]"
      ]
     },
     "execution_count": 6,
     "metadata": {},
     "output_type": "execute_result"
    }
   ],
   "source": [
    "cdf_0"
   ]
  },
  {
   "cell_type": "code",
   "execution_count": 7,
   "metadata": {
    "execution": {
     "iopub.execute_input": "2023-03-15T17:20:04.435265Z",
     "iopub.status.busy": "2023-03-15T17:20:04.434979Z",
     "iopub.status.idle": "2023-03-15T17:20:04.447848Z",
     "shell.execute_reply": "2023-03-15T17:20:04.446962Z"
    }
   },
   "outputs": [
    {
     "data": {
      "text/html": [
       "<div>\n",
       "<style scoped>\n",
       "    .dataframe tbody tr th:only-of-type {\n",
       "        vertical-align: middle;\n",
       "    }\n",
       "\n",
       "    .dataframe tbody tr th {\n",
       "        vertical-align: top;\n",
       "    }\n",
       "\n",
       "    .dataframe thead th {\n",
       "        text-align: right;\n",
       "    }\n",
       "</style>\n",
       "<table border=\"1\" class=\"dataframe\">\n",
       "  <thead>\n",
       "    <tr style=\"text-align: right;\">\n",
       "      <th></th>\n",
       "      <th>W0</th>\n",
       "      <th>v0</th>\n",
       "      <th>y</th>\n",
       "      <th>propensity_score</th>\n",
       "      <th>weight</th>\n",
       "    </tr>\n",
       "  </thead>\n",
       "  <tbody>\n",
       "    <tr>\n",
       "      <th>0</th>\n",
       "      <td>0.552626</td>\n",
       "      <td>True</td>\n",
       "      <td>4.780679</td>\n",
       "      <td>0.512307</td>\n",
       "      <td>1.951956</td>\n",
       "    </tr>\n",
       "    <tr>\n",
       "      <th>1</th>\n",
       "      <td>-0.694602</td>\n",
       "      <td>True</td>\n",
       "      <td>3.826533</td>\n",
       "      <td>0.515971</td>\n",
       "      <td>1.938093</td>\n",
       "    </tr>\n",
       "    <tr>\n",
       "      <th>2</th>\n",
       "      <td>-1.009518</td>\n",
       "      <td>True</td>\n",
       "      <td>4.073917</td>\n",
       "      <td>0.516896</td>\n",
       "      <td>1.934624</td>\n",
       "    </tr>\n",
       "    <tr>\n",
       "      <th>3</th>\n",
       "      <td>-0.482241</td>\n",
       "      <td>True</td>\n",
       "      <td>4.892678</td>\n",
       "      <td>0.515347</td>\n",
       "      <td>1.940439</td>\n",
       "    </tr>\n",
       "    <tr>\n",
       "      <th>4</th>\n",
       "      <td>-1.212939</td>\n",
       "      <td>True</td>\n",
       "      <td>2.311308</td>\n",
       "      <td>0.517494</td>\n",
       "      <td>1.932391</td>\n",
       "    </tr>\n",
       "    <tr>\n",
       "      <th>...</th>\n",
       "      <td>...</td>\n",
       "      <td>...</td>\n",
       "      <td>...</td>\n",
       "      <td>...</td>\n",
       "      <td>...</td>\n",
       "    </tr>\n",
       "    <tr>\n",
       "      <th>995</th>\n",
       "      <td>2.087655</td>\n",
       "      <td>True</td>\n",
       "      <td>7.468169</td>\n",
       "      <td>0.507795</td>\n",
       "      <td>1.969299</td>\n",
       "    </tr>\n",
       "    <tr>\n",
       "      <th>996</th>\n",
       "      <td>-0.928226</td>\n",
       "      <td>True</td>\n",
       "      <td>4.774114</td>\n",
       "      <td>0.516657</td>\n",
       "      <td>1.935518</td>\n",
       "    </tr>\n",
       "    <tr>\n",
       "      <th>997</th>\n",
       "      <td>1.990984</td>\n",
       "      <td>True</td>\n",
       "      <td>5.372982</td>\n",
       "      <td>0.508079</td>\n",
       "      <td>1.968198</td>\n",
       "    </tr>\n",
       "    <tr>\n",
       "      <th>998</th>\n",
       "      <td>0.351192</td>\n",
       "      <td>True</td>\n",
       "      <td>4.989443</td>\n",
       "      <td>0.512899</td>\n",
       "      <td>1.949703</td>\n",
       "    </tr>\n",
       "    <tr>\n",
       "      <th>999</th>\n",
       "      <td>2.718648</td>\n",
       "      <td>True</td>\n",
       "      <td>6.442646</td>\n",
       "      <td>0.505940</td>\n",
       "      <td>1.976520</td>\n",
       "    </tr>\n",
       "  </tbody>\n",
       "</table>\n",
       "<p>1000 rows × 5 columns</p>\n",
       "</div>"
      ],
      "text/plain": [
       "           W0    v0         y  propensity_score    weight\n",
       "0    0.552626  True  4.780679          0.512307  1.951956\n",
       "1   -0.694602  True  3.826533          0.515971  1.938093\n",
       "2   -1.009518  True  4.073917          0.516896  1.934624\n",
       "3   -0.482241  True  4.892678          0.515347  1.940439\n",
       "4   -1.212939  True  2.311308          0.517494  1.932391\n",
       "..        ...   ...       ...               ...       ...\n",
       "995  2.087655  True  7.468169          0.507795  1.969299\n",
       "996 -0.928226  True  4.774114          0.516657  1.935518\n",
       "997  1.990984  True  5.372982          0.508079  1.968198\n",
       "998  0.351192  True  4.989443          0.512899  1.949703\n",
       "999  2.718648  True  6.442646          0.505940  1.976520\n",
       "\n",
       "[1000 rows x 5 columns]"
      ]
     },
     "execution_count": 7,
     "metadata": {},
     "output_type": "execute_result"
    }
   ],
   "source": [
    "cdf_1"
   ]
  },
  {
   "cell_type": "markdown",
   "metadata": {},
   "source": [
    "## Comparing the estimate to Linear Regression\n",
    "First, estimating the effect using the causal data frame, and the 95% confidence interval."
   ]
  },
  {
   "cell_type": "code",
   "execution_count": 8,
   "metadata": {
    "execution": {
     "iopub.execute_input": "2023-03-15T17:20:04.452322Z",
     "iopub.status.busy": "2023-03-15T17:20:04.451950Z",
     "iopub.status.idle": "2023-03-15T17:20:04.518469Z",
     "shell.execute_reply": "2023-03-15T17:20:04.517650Z"
    }
   },
   "outputs": [
    {
     "data": {
      "image/png": "[encoded data removed]",
      "text/latex": [
       "$\\displaystyle 4.96979134952053$"
      ],
      "text/plain": [
       "4.969791349520529"
      ]
     },
     "execution_count": 8,
     "metadata": {},
     "output_type": "execute_result"
    }
   ],
   "source": [
    "(cdf_1['y'] - cdf_0['y']).mean()"
   ]
  },
  {
   "cell_type": "code",
   "execution_count": 9,
   "metadata": {
    "execution": {
     "iopub.execute_input": "2023-03-15T17:20:04.521764Z",
     "iopub.status.busy": "2023-03-15T17:20:04.521363Z",
     "iopub.status.idle": "2023-03-15T17:20:04.544717Z",
     "shell.execute_reply": "2023-03-15T17:20:04.543886Z"
    }
   },
   "outputs": [
    {
     "data": {
      "image/png": "[encoded data removed]",
      "text/latex": [
       "$\\displaystyle 0.106956518172601$"
      ],
      "text/plain": [
       "0.10695651817260103"
      ]
     },
     "execution_count": 9,
     "metadata": {},
     "output_type": "execute_result"
    }
   ],
   "source": [
    "1.96*(cdf_1['y'] - cdf_0['y']).std() / np.sqrt(len(df))"
   ]
  },
  {
   "cell_type": "markdown",
   "metadata": {},
   "source": [
    "Comparing to the estimate from OLS."
   ]
  },
  {
   "cell_type": "code",
   "execution_count": 10,
   "metadata": {
    "execution": {
     "iopub.execute_input": "2023-03-15T17:20:04.547714Z",
     "iopub.status.busy": "2023-03-15T17:20:04.547471Z",
     "iopub.status.idle": "2023-03-15T17:20:04.563997Z",
     "shell.execute_reply": "2023-03-15T17:20:04.563111Z"
    }
   },
   "outputs": [
    {
     "data": {
      "text/html": [
       "<table class=\"simpletable\">\n",
       "<caption>OLS Regression Results</caption>\n",
       "<tr>\n",
       "  <th>Dep. Variable:</th>            <td>y</td>        <th>  R-squared (uncentered):</th>      <td>   0.931</td>\n",
       "</tr>\n",
       "<tr>\n",
       "  <th>Model:</th>                   <td>OLS</td>       <th>  Adj. R-squared (uncentered):</th> <td>   0.931</td>\n",
       "</tr>\n",
       "<tr>\n",
       "  <th>Method:</th>             <td>Least Squares</td>  <th>  F-statistic:       </th>          <td>   6765.</td>\n",
       "</tr>\n",
       "<tr>\n",
       "  <th>Date:</th>             <td>Wed, 15 Mar 2023</td> <th>  Prob (F-statistic):</th>           <td>  0.00</td> \n",
       "</tr>\n",
       "<tr>\n",
       "  <th>Time:</th>                 <td>17:20:04</td>     <th>  Log-Likelihood:    </th>          <td> -1407.2</td>\n",
       "</tr>\n",
       "<tr>\n",
       "  <th>No. Observations:</th>      <td>  1000</td>      <th>  AIC:               </th>          <td>   2818.</td>\n",
       "</tr>\n",
       "<tr>\n",
       "  <th>Df Residuals:</th>          <td>   998</td>      <th>  BIC:               </th>          <td>   2828.</td>\n",
       "</tr>\n",
       "<tr>\n",
       "  <th>Df Model:</th>              <td>     2</td>      <th>                     </th>              <td> </td>   \n",
       "</tr>\n",
       "<tr>\n",
       "  <th>Covariance Type:</th>      <td>nonrobust</td>    <th>                     </th>              <td> </td>   \n",
       "</tr>\n",
       "</table>\n",
       "<table class=\"simpletable\">\n",
       "<tr>\n",
       "   <td></td>     <th>coef</th>     <th>std err</th>      <th>t</th>      <th>P>|t|</th>  <th>[0.025</th>    <th>0.975]</th>  \n",
       "</tr>\n",
       "<tr>\n",
       "  <th>x1</th> <td>    0.7044</td> <td>    0.032</td> <td>   22.338</td> <td> 0.000</td> <td>    0.643</td> <td>    0.766</td>\n",
       "</tr>\n",
       "<tr>\n",
       "  <th>x2</th> <td>    5.0023</td> <td>    0.044</td> <td>  114.604</td> <td> 0.000</td> <td>    4.917</td> <td>    5.088</td>\n",
       "</tr>\n",
       "</table>\n",
       "<table class=\"simpletable\">\n",
       "<tr>\n",
       "  <th>Omnibus:</th>       <td> 0.568</td> <th>  Durbin-Watson:     </th> <td>   2.025</td>\n",
       "</tr>\n",
       "<tr>\n",
       "  <th>Prob(Omnibus):</th> <td> 0.753</td> <th>  Jarque-Bera (JB):  </th> <td>   0.522</td>\n",
       "</tr>\n",
       "<tr>\n",
       "  <th>Skew:</th>          <td>-0.055</td> <th>  Prob(JB):          </th> <td>   0.770</td>\n",
       "</tr>\n",
       "<tr>\n",
       "  <th>Kurtosis:</th>      <td> 3.018</td> <th>  Cond. No.          </th> <td>    1.39</td>\n",
       "</tr>\n",
       "</table><br/><br/>Notes:<br/>[1] R² is computed without centering (uncentered) since the model does not contain a constant.<br/>[2] Standard Errors assume that the covariance matrix of the errors is correctly specified."
      ],
      "text/plain": [
       "<class 'statsmodels.iolib.summary.Summary'>\n",
       "\"\"\"\n",
       "                                 OLS Regression Results                                \n",
       "=======================================================================================\n",
       "Dep. Variable:                      y   R-squared (uncentered):                   0.931\n",
       "Model:                            OLS   Adj. R-squared (uncentered):              0.931\n",
       "Method:                 Least Squares   F-statistic:                              6765.\n",
       "Date:                Wed, 15 Mar 2023   Prob (F-statistic):                        0.00\n",
       "Time:                        17:20:04   Log-Likelihood:                         -1407.2\n",
       "No. Observations:                1000   AIC:                                      2818.\n",
       "Df Residuals:                     998   BIC:                                      2828.\n",
       "Df Model:                           2                                                  \n",
       "Covariance Type:            nonrobust                                                  \n",
       "==============================================================================\n",
       "                 coef    std err          t      P>|t|      [0.025      0.975]\n",
       "------------------------------------------------------------------------------\n",
       "x1             0.7044      0.032     22.338      0.000       0.643       0.766\n",
       "x2             5.0023      0.044    114.604      0.000       4.917       5.088\n",
       "==============================================================================\n",
       "Omnibus:                        0.568   Durbin-Watson:                   2.025\n",
       "Prob(Omnibus):                  0.753   Jarque-Bera (JB):                0.522\n",
       "Skew:                          -0.055   Prob(JB):                        0.770\n",
       "Kurtosis:                       3.018   Cond. No.                         1.39\n",
       "==============================================================================\n",
       "\n",
       "Notes:\n",
       "[1] R² is computed without centering (uncentered) since the model does not contain a constant.\n",
       "[2] Standard Errors assume that the covariance matrix of the errors is correctly specified.\n",
       "\"\"\""
      ]
     },
     "execution_count": 10,
     "metadata": {},
     "output_type": "execute_result"
    }
   ],
   "source": [
    "model = OLS(np.asarray(df[outcome]), np.asarray(df[[common_cause, treatment]], dtype=np.float64))\n",
    "result = model.fit()\n",
    "result.summary()"
   ]
  }
 ],
 "metadata": {
  "kernelspec": {
   "display_name": "Python 3",
   "language": "python",
   "name": "python3"
  },
  "language_info": {
   "codemirror_mode": {
    "name": "ipython",
    "version": 3
   },
   "file_extension": ".py",
   "mimetype": "text/x-python",
   "name": "python",
   "nbconvert_exporter": "python",
   "pygments_lexer": "ipython3",
   "version": "3.8.10"
  },
  "toc": {
   "base_numbering": 1,
   "nav_menu": {},
   "number_sections": false,
   "sideBar": true,
   "skip_h1_title": true,
   "title_cell": "Table of Contents",
   "title_sidebar": "Contents",
   "toc_cell": false,
   "toc_position": {},
   "toc_section_display": true,
   "toc_window_display": false
  }
 },
 "nbformat": 4,
 "nbformat_minor": 4
}
