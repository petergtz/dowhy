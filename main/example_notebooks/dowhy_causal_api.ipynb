{
 "cells": [
  {
   "cell_type": "markdown",
   "metadata": {},
   "source": [
    "# Demo for the DoWhy causal API\n",
    "We show a simple example of adding a causal extension to any dataframe. "
   ]
  },
  {
   "cell_type": "code",
   "execution_count": 1,
   "metadata": {
    "execution": {
     "iopub.execute_input": "2022-10-17T15:31:39.559299Z",
     "iopub.status.busy": "2022-10-17T15:31:39.558263Z",
     "iopub.status.idle": "2022-10-17T15:31:42.032219Z",
     "shell.execute_reply": "2022-10-17T15:31:42.030912Z"
    }
   },
   "outputs": [],
   "source": [
    "import dowhy.datasets\n",
    "import dowhy.api\n",
    "\n",
    "import numpy as np\n",
    "import pandas as pd\n",
    "\n",
    "from statsmodels.api import OLS"
   ]
  },
  {
   "cell_type": "code",
   "execution_count": 2,
   "metadata": {
    "execution": {
     "iopub.execute_input": "2022-10-17T15:31:42.039249Z",
     "iopub.status.busy": "2022-10-17T15:31:42.038450Z",
     "iopub.status.idle": "2022-10-17T15:31:42.101532Z",
     "shell.execute_reply": "2022-10-17T15:31:42.100413Z"
    }
   },
   "outputs": [
    {
     "data": {
      "text/html": [
       "<div>\n",
       "<style scoped>\n",
       "    .dataframe tbody tr th:only-of-type {\n",
       "        vertical-align: middle;\n",
       "    }\n",
       "\n",
       "    .dataframe tbody tr th {\n",
       "        vertical-align: top;\n",
       "    }\n",
       "\n",
       "    .dataframe thead th {\n",
       "        text-align: right;\n",
       "    }\n",
       "</style>\n",
       "<table border=\"1\" class=\"dataframe\">\n",
       "  <thead>\n",
       "    <tr style=\"text-align: right;\">\n",
       "      <th></th>\n",
       "      <th>W0</th>\n",
       "      <th>v0</th>\n",
       "      <th>y</th>\n",
       "    </tr>\n",
       "  </thead>\n",
       "  <tbody>\n",
       "    <tr>\n",
       "      <th>0</th>\n",
       "      <td>-1.535798</td>\n",
       "      <td>False</td>\n",
       "      <td>-3.887165</td>\n",
       "    </tr>\n",
       "    <tr>\n",
       "      <th>1</th>\n",
       "      <td>0.241690</td>\n",
       "      <td>True</td>\n",
       "      <td>4.956606</td>\n",
       "    </tr>\n",
       "    <tr>\n",
       "      <th>2</th>\n",
       "      <td>0.072863</td>\n",
       "      <td>True</td>\n",
       "      <td>2.843988</td>\n",
       "    </tr>\n",
       "    <tr>\n",
       "      <th>3</th>\n",
       "      <td>0.000518</td>\n",
       "      <td>True</td>\n",
       "      <td>4.802711</td>\n",
       "    </tr>\n",
       "    <tr>\n",
       "      <th>4</th>\n",
       "      <td>-1.340945</td>\n",
       "      <td>False</td>\n",
       "      <td>-4.026831</td>\n",
       "    </tr>\n",
       "    <tr>\n",
       "      <th>...</th>\n",
       "      <td>...</td>\n",
       "      <td>...</td>\n",
       "      <td>...</td>\n",
       "    </tr>\n",
       "    <tr>\n",
       "      <th>995</th>\n",
       "      <td>0.287928</td>\n",
       "      <td>False</td>\n",
       "      <td>-1.342023</td>\n",
       "    </tr>\n",
       "    <tr>\n",
       "      <th>996</th>\n",
       "      <td>-1.182559</td>\n",
       "      <td>False</td>\n",
       "      <td>-3.059115</td>\n",
       "    </tr>\n",
       "    <tr>\n",
       "      <th>997</th>\n",
       "      <td>-0.226997</td>\n",
       "      <td>False</td>\n",
       "      <td>-0.294755</td>\n",
       "    </tr>\n",
       "    <tr>\n",
       "      <th>998</th>\n",
       "      <td>-0.630083</td>\n",
       "      <td>False</td>\n",
       "      <td>-1.250803</td>\n",
       "    </tr>\n",
       "    <tr>\n",
       "      <th>999</th>\n",
       "      <td>-0.542430</td>\n",
       "      <td>False</td>\n",
       "      <td>-0.935706</td>\n",
       "    </tr>\n",
       "  </tbody>\n",
       "</table>\n",
       "<p>1000 rows × 3 columns</p>\n",
       "</div>"
      ],
      "text/plain": [
       "           W0     v0         y\n",
       "0   -1.535798  False -3.887165\n",
       "1    0.241690   True  4.956606\n",
       "2    0.072863   True  2.843988\n",
       "3    0.000518   True  4.802711\n",
       "4   -1.340945  False -4.026831\n",
       "..        ...    ...       ...\n",
       "995  0.287928  False -1.342023\n",
       "996 -1.182559  False -3.059115\n",
       "997 -0.226997  False -0.294755\n",
       "998 -0.630083  False -1.250803\n",
       "999 -0.542430  False -0.935706\n",
       "\n",
       "[1000 rows x 3 columns]"
      ]
     },
     "execution_count": 2,
     "metadata": {},
     "output_type": "execute_result"
    }
   ],
   "source": [
    "data = dowhy.datasets.linear_dataset(beta=5,\n",
    "        num_common_causes=1,\n",
    "        num_instruments = 0,\n",
    "        num_samples=1000,\n",
    "        treatment_is_binary=True)\n",
    "df = data['df']\n",
    "df['y'] = df['y'] + np.random.normal(size=len(df)) # Adding noise to data. Without noise, the variance in Y|X, Z is zero, and mcmc fails.\n",
    "#data['dot_graph'] = 'digraph { v ->y;X0-> v;X0-> y;}'\n",
    "\n",
    "treatment= data[\"treatment_name\"][0]\n",
    "outcome = data[\"outcome_name\"][0]\n",
    "common_cause = data[\"common_causes_names\"][0]\n",
    "df"
   ]
  },
  {
   "cell_type": "code",
   "execution_count": 3,
   "metadata": {
    "execution": {
     "iopub.execute_input": "2022-10-17T15:31:42.105651Z",
     "iopub.status.busy": "2022-10-17T15:31:42.105098Z",
     "iopub.status.idle": "2022-10-17T15:31:42.300844Z",
     "shell.execute_reply": "2022-10-17T15:31:42.299841Z"
    }
   },
   "outputs": [
    {
     "data": {
      "text/plain": [
       "<AxesSubplot: xlabel='v0'>"
      ]
     },
     "execution_count": 3,
     "metadata": {},
     "output_type": "execute_result"
    },
    {
     "data": {
      "image/png": "[encoded data removed]",
      "text/plain": [
       "<Figure size 640x480 with 1 Axes>"
      ]
     },
     "metadata": {},
     "output_type": "display_data"
    }
   ],
   "source": [
    "# data['df'] is just a regular pandas.DataFrame\n",
    "df.causal.do(x=treatment,\n",
    "                     variable_types={treatment: 'b', outcome: 'c', common_cause: 'c'},\n",
    "                     outcome=outcome,\n",
    "                     common_causes=[common_cause],\n",
    "                     proceed_when_unidentifiable=True).groupby(treatment).mean().plot(y=outcome, kind='bar')"
   ]
  },
  {
   "cell_type": "code",
   "execution_count": 4,
   "metadata": {
    "execution": {
     "iopub.execute_input": "2022-10-17T15:31:42.305623Z",
     "iopub.status.busy": "2022-10-17T15:31:42.305265Z",
     "iopub.status.idle": "2022-10-17T15:31:42.463568Z",
     "shell.execute_reply": "2022-10-17T15:31:42.462894Z"
    }
   },
   "outputs": [
    {
     "data": {
      "text/plain": [
       "<AxesSubplot: xlabel='v0'>"
      ]
     },
     "execution_count": 4,
     "metadata": {},
     "output_type": "execute_result"
    },
    {
     "data": {
      "image/png": "[encoded data removed]",
      "text/plain": [
       "<Figure size 640x480 with 1 Axes>"
      ]
     },
     "metadata": {},
     "output_type": "display_data"
    }
   ],
   "source": [
    "df.causal.do(x={treatment: 1}, \n",
    "              variable_types={treatment:'b', outcome: 'c', common_cause: 'c'}, \n",
    "              outcome=outcome,\n",
    "              method='weighting', \n",
    "              common_causes=[common_cause],\n",
    "              proceed_when_unidentifiable=True).groupby(treatment).mean().plot(y=outcome, kind='bar')"
   ]
  },
  {
   "cell_type": "code",
   "execution_count": 5,
   "metadata": {
    "execution": {
     "iopub.execute_input": "2022-10-17T15:31:42.467923Z",
     "iopub.status.busy": "2022-10-17T15:31:42.467197Z",
     "iopub.status.idle": "2022-10-17T15:31:42.513427Z",
     "shell.execute_reply": "2022-10-17T15:31:42.512346Z"
    }
   },
   "outputs": [],
   "source": [
    "cdf_1 = df.causal.do(x={treatment: 1}, \n",
    "              variable_types={treatment: 'b', outcome: 'c', common_cause: 'c'}, \n",
    "              outcome=outcome, \n",
    "              dot_graph=data['dot_graph'],\n",
    "              proceed_when_unidentifiable=True)\n",
    "\n",
    "cdf_0 = df.causal.do(x={treatment: 0}, \n",
    "              variable_types={treatment: 'b', outcome: 'c', common_cause: 'c'}, \n",
    "              outcome=outcome, \n",
    "              dot_graph=data['dot_graph'],\n",
    "              proceed_when_unidentifiable=True)\n"
   ]
  },
  {
   "cell_type": "code",
   "execution_count": 6,
   "metadata": {
    "execution": {
     "iopub.execute_input": "2022-10-17T15:31:42.518398Z",
     "iopub.status.busy": "2022-10-17T15:31:42.517737Z",
     "iopub.status.idle": "2022-10-17T15:31:42.531673Z",
     "shell.execute_reply": "2022-10-17T15:31:42.531024Z"
    },
    "scrolled": true
   },
   "outputs": [
    {
     "data": {
      "text/html": [
       "<div>\n",
       "<style scoped>\n",
       "    .dataframe tbody tr th:only-of-type {\n",
       "        vertical-align: middle;\n",
       "    }\n",
       "\n",
       "    .dataframe tbody tr th {\n",
       "        vertical-align: top;\n",
       "    }\n",
       "\n",
       "    .dataframe thead th {\n",
       "        text-align: right;\n",
       "    }\n",
       "</style>\n",
       "<table border=\"1\" class=\"dataframe\">\n",
       "  <thead>\n",
       "    <tr style=\"text-align: right;\">\n",
       "      <th></th>\n",
       "      <th>W0</th>\n",
       "      <th>v0</th>\n",
       "      <th>y</th>\n",
       "      <th>propensity_score</th>\n",
       "      <th>weight</th>\n",
       "    </tr>\n",
       "  </thead>\n",
       "  <tbody>\n",
       "    <tr>\n",
       "      <th>0</th>\n",
       "      <td>2.082695</td>\n",
       "      <td>False</td>\n",
       "      <td>4.060896</td>\n",
       "      <td>0.016085</td>\n",
       "      <td>62.169521</td>\n",
       "    </tr>\n",
       "    <tr>\n",
       "      <th>1</th>\n",
       "      <td>1.099656</td>\n",
       "      <td>False</td>\n",
       "      <td>3.199019</td>\n",
       "      <td>0.102838</td>\n",
       "      <td>9.723999</td>\n",
       "    </tr>\n",
       "    <tr>\n",
       "      <th>2</th>\n",
       "      <td>-0.411774</td>\n",
       "      <td>False</td>\n",
       "      <td>0.875990</td>\n",
       "      <td>0.696001</td>\n",
       "      <td>1.436779</td>\n",
       "    </tr>\n",
       "    <tr>\n",
       "      <th>3</th>\n",
       "      <td>-1.089992</td>\n",
       "      <td>False</td>\n",
       "      <td>-0.845814</td>\n",
       "      <td>0.897707</td>\n",
       "      <td>1.113950</td>\n",
       "    </tr>\n",
       "    <tr>\n",
       "      <th>4</th>\n",
       "      <td>-0.784026</td>\n",
       "      <td>False</td>\n",
       "      <td>-2.243816</td>\n",
       "      <td>0.827188</td>\n",
       "      <td>1.208915</td>\n",
       "    </tr>\n",
       "    <tr>\n",
       "      <th>...</th>\n",
       "      <td>...</td>\n",
       "      <td>...</td>\n",
       "      <td>...</td>\n",
       "      <td>...</td>\n",
       "      <td>...</td>\n",
       "    </tr>\n",
       "    <tr>\n",
       "      <th>995</th>\n",
       "      <td>-0.856869</td>\n",
       "      <td>False</td>\n",
       "      <td>-1.012128</td>\n",
       "      <td>0.846854</td>\n",
       "      <td>1.180840</td>\n",
       "    </tr>\n",
       "    <tr>\n",
       "      <th>996</th>\n",
       "      <td>-0.190172</td>\n",
       "      <td>False</td>\n",
       "      <td>0.471012</td>\n",
       "      <td>0.596114</td>\n",
       "      <td>1.677533</td>\n",
       "    </tr>\n",
       "    <tr>\n",
       "      <th>997</th>\n",
       "      <td>0.980997</td>\n",
       "      <td>False</td>\n",
       "      <td>2.424498</td>\n",
       "      <td>0.126641</td>\n",
       "      <td>7.896346</td>\n",
       "    </tr>\n",
       "    <tr>\n",
       "      <th>998</th>\n",
       "      <td>-0.107339</td>\n",
       "      <td>False</td>\n",
       "      <td>0.008385</td>\n",
       "      <td>0.556061</td>\n",
       "      <td>1.798364</td>\n",
       "    </tr>\n",
       "    <tr>\n",
       "      <th>999</th>\n",
       "      <td>-1.036351</td>\n",
       "      <td>False</td>\n",
       "      <td>-2.222540</td>\n",
       "      <td>0.887527</td>\n",
       "      <td>1.126726</td>\n",
       "    </tr>\n",
       "  </tbody>\n",
       "</table>\n",
       "<p>1000 rows × 5 columns</p>\n",
       "</div>"
      ],
      "text/plain": [
       "           W0     v0         y  propensity_score     weight\n",
       "0    2.082695  False  4.060896          0.016085  62.169521\n",
       "1    1.099656  False  3.199019          0.102838   9.723999\n",
       "2   -0.411774  False  0.875990          0.696001   1.436779\n",
       "3   -1.089992  False -0.845814          0.897707   1.113950\n",
       "4   -0.784026  False -2.243816          0.827188   1.208915\n",
       "..        ...    ...       ...               ...        ...\n",
       "995 -0.856869  False -1.012128          0.846854   1.180840\n",
       "996 -0.190172  False  0.471012          0.596114   1.677533\n",
       "997  0.980997  False  2.424498          0.126641   7.896346\n",
       "998 -0.107339  False  0.008385          0.556061   1.798364\n",
       "999 -1.036351  False -2.222540          0.887527   1.126726\n",
       "\n",
       "[1000 rows x 5 columns]"
      ]
     },
     "execution_count": 6,
     "metadata": {},
     "output_type": "execute_result"
    }
   ],
   "source": [
    "cdf_0"
   ]
  },
  {
   "cell_type": "code",
   "execution_count": 7,
   "metadata": {
    "execution": {
     "iopub.execute_input": "2022-10-17T15:31:42.535690Z",
     "iopub.status.busy": "2022-10-17T15:31:42.534835Z",
     "iopub.status.idle": "2022-10-17T15:31:42.548515Z",
     "shell.execute_reply": "2022-10-17T15:31:42.547456Z"
    }
   },
   "outputs": [
    {
     "data": {
      "text/html": [
       "<div>\n",
       "<style scoped>\n",
       "    .dataframe tbody tr th:only-of-type {\n",
       "        vertical-align: middle;\n",
       "    }\n",
       "\n",
       "    .dataframe tbody tr th {\n",
       "        vertical-align: top;\n",
       "    }\n",
       "\n",
       "    .dataframe thead th {\n",
       "        text-align: right;\n",
       "    }\n",
       "</style>\n",
       "<table border=\"1\" class=\"dataframe\">\n",
       "  <thead>\n",
       "    <tr style=\"text-align: right;\">\n",
       "      <th></th>\n",
       "      <th>W0</th>\n",
       "      <th>v0</th>\n",
       "      <th>y</th>\n",
       "      <th>propensity_score</th>\n",
       "      <th>weight</th>\n",
       "    </tr>\n",
       "  </thead>\n",
       "  <tbody>\n",
       "    <tr>\n",
       "      <th>0</th>\n",
       "      <td>-0.464802</td>\n",
       "      <td>True</td>\n",
       "      <td>4.948393</td>\n",
       "      <td>0.282238</td>\n",
       "      <td>3.543110</td>\n",
       "    </tr>\n",
       "    <tr>\n",
       "      <th>1</th>\n",
       "      <td>1.113828</td>\n",
       "      <td>True</td>\n",
       "      <td>7.472993</td>\n",
       "      <td>0.899723</td>\n",
       "      <td>1.111453</td>\n",
       "    </tr>\n",
       "    <tr>\n",
       "      <th>2</th>\n",
       "      <td>-0.112546</td>\n",
       "      <td>True</td>\n",
       "      <td>4.683048</td>\n",
       "      <td>0.441394</td>\n",
       "      <td>2.265550</td>\n",
       "    </tr>\n",
       "    <tr>\n",
       "      <th>3</th>\n",
       "      <td>-1.384539</td>\n",
       "      <td>True</td>\n",
       "      <td>3.255545</td>\n",
       "      <td>0.059774</td>\n",
       "      <td>16.729639</td>\n",
       "    </tr>\n",
       "    <tr>\n",
       "      <th>4</th>\n",
       "      <td>0.811673</td>\n",
       "      <td>True</td>\n",
       "      <td>6.790507</td>\n",
       "      <td>0.831393</td>\n",
       "      <td>1.202800</td>\n",
       "    </tr>\n",
       "    <tr>\n",
       "      <th>...</th>\n",
       "      <td>...</td>\n",
       "      <td>...</td>\n",
       "      <td>...</td>\n",
       "      <td>...</td>\n",
       "      <td>...</td>\n",
       "    </tr>\n",
       "    <tr>\n",
       "      <th>995</th>\n",
       "      <td>-0.423827</td>\n",
       "      <td>True</td>\n",
       "      <td>4.328345</td>\n",
       "      <td>0.298970</td>\n",
       "      <td>3.344822</td>\n",
       "    </tr>\n",
       "    <tr>\n",
       "      <th>996</th>\n",
       "      <td>-0.126695</td>\n",
       "      <td>True</td>\n",
       "      <td>5.548011</td>\n",
       "      <td>0.434494</td>\n",
       "      <td>2.301526</td>\n",
       "    </tr>\n",
       "    <tr>\n",
       "      <th>997</th>\n",
       "      <td>-0.798977</td>\n",
       "      <td>True</td>\n",
       "      <td>2.545487</td>\n",
       "      <td>0.168619</td>\n",
       "      <td>5.930530</td>\n",
       "    </tr>\n",
       "    <tr>\n",
       "      <th>998</th>\n",
       "      <td>-0.084513</td>\n",
       "      <td>True</td>\n",
       "      <td>5.623516</td>\n",
       "      <td>0.455129</td>\n",
       "      <td>2.197180</td>\n",
       "    </tr>\n",
       "    <tr>\n",
       "      <th>999</th>\n",
       "      <td>0.388696</td>\n",
       "      <td>True</td>\n",
       "      <td>5.693389</td>\n",
       "      <td>0.680820</td>\n",
       "      <td>1.468818</td>\n",
       "    </tr>\n",
       "  </tbody>\n",
       "</table>\n",
       "<p>1000 rows × 5 columns</p>\n",
       "</div>"
      ],
      "text/plain": [
       "           W0    v0         y  propensity_score     weight\n",
       "0   -0.464802  True  4.948393          0.282238   3.543110\n",
       "1    1.113828  True  7.472993          0.899723   1.111453\n",
       "2   -0.112546  True  4.683048          0.441394   2.265550\n",
       "3   -1.384539  True  3.255545          0.059774  16.729639\n",
       "4    0.811673  True  6.790507          0.831393   1.202800\n",
       "..        ...   ...       ...               ...        ...\n",
       "995 -0.423827  True  4.328345          0.298970   3.344822\n",
       "996 -0.126695  True  5.548011          0.434494   2.301526\n",
       "997 -0.798977  True  2.545487          0.168619   5.930530\n",
       "998 -0.084513  True  5.623516          0.455129   2.197180\n",
       "999  0.388696  True  5.693389          0.680820   1.468818\n",
       "\n",
       "[1000 rows x 5 columns]"
      ]
     },
     "execution_count": 7,
     "metadata": {},
     "output_type": "execute_result"
    }
   ],
   "source": [
    "cdf_1"
   ]
  },
  {
   "cell_type": "markdown",
   "metadata": {},
   "source": [
    "## Comparing the estimate to Linear Regression\n",
    "First, estimating the effect using the causal data frame, and the 95% confidence interval."
   ]
  },
  {
   "cell_type": "code",
   "execution_count": 8,
   "metadata": {
    "execution": {
     "iopub.execute_input": "2022-10-17T15:31:42.552981Z",
     "iopub.status.busy": "2022-10-17T15:31:42.552356Z",
     "iopub.status.idle": "2022-10-17T15:31:42.628266Z",
     "shell.execute_reply": "2022-10-17T15:31:42.627137Z"
    }
   },
   "outputs": [
    {
     "data": {
      "image/png": "[encoded data removed]",
      "text/latex": [
       "$\\displaystyle 5.0025619440367$"
      ],
      "text/plain": [
       "5.002561944036695"
      ]
     },
     "execution_count": 8,
     "metadata": {},
     "output_type": "execute_result"
    }
   ],
   "source": [
    "(cdf_1['y'] - cdf_0['y']).mean()"
   ]
  },
  {
   "cell_type": "code",
   "execution_count": 9,
   "metadata": {
    "execution": {
     "iopub.execute_input": "2022-10-17T15:31:42.633184Z",
     "iopub.status.busy": "2022-10-17T15:31:42.632638Z",
     "iopub.status.idle": "2022-10-17T15:31:42.662171Z",
     "shell.execute_reply": "2022-10-17T15:31:42.660428Z"
    }
   },
   "outputs": [
    {
     "data": {
      "image/png": "[encoded data removed]",
      "text/latex": [
       "$\\displaystyle 0.22309947761712$"
      ],
      "text/plain": [
       "0.22309947761711962"
      ]
     },
     "execution_count": 9,
     "metadata": {},
     "output_type": "execute_result"
    }
   ],
   "source": [
    "1.96*(cdf_1['y'] - cdf_0['y']).std() / np.sqrt(len(df))"
   ]
  },
  {
   "cell_type": "markdown",
   "metadata": {},
   "source": [
    "Comparing to the estimate from OLS."
   ]
  },
  {
   "cell_type": "code",
   "execution_count": 10,
   "metadata": {
    "execution": {
     "iopub.execute_input": "2022-10-17T15:31:42.667555Z",
     "iopub.status.busy": "2022-10-17T15:31:42.667204Z",
     "iopub.status.idle": "2022-10-17T15:31:42.691744Z",
     "shell.execute_reply": "2022-10-17T15:31:42.690941Z"
    }
   },
   "outputs": [
    {
     "data": {
      "text/html": [
       "<table class=\"simpletable\">\n",
       "<caption>OLS Regression Results</caption>\n",
       "<tr>\n",
       "  <th>Dep. Variable:</th>            <td>y</td>        <th>  R-squared (uncentered):</th>      <td>   0.947</td>\n",
       "</tr>\n",
       "<tr>\n",
       "  <th>Model:</th>                   <td>OLS</td>       <th>  Adj. R-squared (uncentered):</th> <td>   0.947</td>\n",
       "</tr>\n",
       "<tr>\n",
       "  <th>Method:</th>             <td>Least Squares</td>  <th>  F-statistic:       </th>          <td>   8857.</td>\n",
       "</tr>\n",
       "<tr>\n",
       "  <th>Date:</th>             <td>Mon, 17 Oct 2022</td> <th>  Prob (F-statistic):</th>           <td>  0.00</td> \n",
       "</tr>\n",
       "<tr>\n",
       "  <th>Time:</th>                 <td>15:31:42</td>     <th>  Log-Likelihood:    </th>          <td> -1415.2</td>\n",
       "</tr>\n",
       "<tr>\n",
       "  <th>No. Observations:</th>      <td>  1000</td>      <th>  AIC:               </th>          <td>   2834.</td>\n",
       "</tr>\n",
       "<tr>\n",
       "  <th>Df Residuals:</th>          <td>   998</td>      <th>  BIC:               </th>          <td>   2844.</td>\n",
       "</tr>\n",
       "<tr>\n",
       "  <th>Df Model:</th>              <td>     2</td>      <th>                     </th>              <td> </td>   \n",
       "</tr>\n",
       "<tr>\n",
       "  <th>Covariance Type:</th>      <td>nonrobust</td>    <th>                     </th>              <td> </td>   \n",
       "</tr>\n",
       "</table>\n",
       "<table class=\"simpletable\">\n",
       "<tr>\n",
       "   <td></td>     <th>coef</th>     <th>std err</th>      <th>t</th>      <th>P>|t|</th>  <th>[0.025</th>    <th>0.975]</th>  \n",
       "</tr>\n",
       "<tr>\n",
       "  <th>x1</th> <td>    2.2562</td> <td>    0.029</td> <td>   77.067</td> <td> 0.000</td> <td>    2.199</td> <td>    2.314</td>\n",
       "</tr>\n",
       "<tr>\n",
       "  <th>x2</th> <td>    4.9710</td> <td>    0.053</td> <td>   93.536</td> <td> 0.000</td> <td>    4.867</td> <td>    5.075</td>\n",
       "</tr>\n",
       "</table>\n",
       "<table class=\"simpletable\">\n",
       "<tr>\n",
       "  <th>Omnibus:</th>       <td> 0.954</td> <th>  Durbin-Watson:     </th> <td>   2.107</td>\n",
       "</tr>\n",
       "<tr>\n",
       "  <th>Prob(Omnibus):</th> <td> 0.621</td> <th>  Jarque-Bera (JB):  </th> <td>   0.827</td>\n",
       "</tr>\n",
       "<tr>\n",
       "  <th>Skew:</th>          <td>-0.023</td> <th>  Prob(JB):          </th> <td>   0.661</td>\n",
       "</tr>\n",
       "<tr>\n",
       "  <th>Kurtosis:</th>      <td> 3.133</td> <th>  Cond. No.          </th> <td>    1.87</td>\n",
       "</tr>\n",
       "</table><br/><br/>Notes:<br/>[1] R² is computed without centering (uncentered) since the model does not contain a constant.<br/>[2] Standard Errors assume that the covariance matrix of the errors is correctly specified."
      ],
      "text/plain": [
       "<class 'statsmodels.iolib.summary.Summary'>\n",
       "\"\"\"\n",
       "                                 OLS Regression Results                                \n",
       "=======================================================================================\n",
       "Dep. Variable:                      y   R-squared (uncentered):                   0.947\n",
       "Model:                            OLS   Adj. R-squared (uncentered):              0.947\n",
       "Method:                 Least Squares   F-statistic:                              8857.\n",
       "Date:                Mon, 17 Oct 2022   Prob (F-statistic):                        0.00\n",
       "Time:                        15:31:42   Log-Likelihood:                         -1415.2\n",
       "No. Observations:                1000   AIC:                                      2834.\n",
       "Df Residuals:                     998   BIC:                                      2844.\n",
       "Df Model:                           2                                                  \n",
       "Covariance Type:            nonrobust                                                  \n",
       "==============================================================================\n",
       "                 coef    std err          t      P>|t|      [0.025      0.975]\n",
       "------------------------------------------------------------------------------\n",
       "x1             2.2562      0.029     77.067      0.000       2.199       2.314\n",
       "x2             4.9710      0.053     93.536      0.000       4.867       5.075\n",
       "==============================================================================\n",
       "Omnibus:                        0.954   Durbin-Watson:                   2.107\n",
       "Prob(Omnibus):                  0.621   Jarque-Bera (JB):                0.827\n",
       "Skew:                          -0.023   Prob(JB):                        0.661\n",
       "Kurtosis:                       3.133   Cond. No.                         1.87\n",
       "==============================================================================\n",
       "\n",
       "Notes:\n",
       "[1] R² is computed without centering (uncentered) since the model does not contain a constant.\n",
       "[2] Standard Errors assume that the covariance matrix of the errors is correctly specified.\n",
       "\"\"\""
      ]
     },
     "execution_count": 10,
     "metadata": {},
     "output_type": "execute_result"
    }
   ],
   "source": [
    "model = OLS(np.asarray(df[outcome]), np.asarray(df[[common_cause, treatment]], dtype=np.float64))\n",
    "result = model.fit()\n",
    "result.summary()"
   ]
  }
 ],
 "metadata": {
  "kernelspec": {
   "display_name": "Python 3",
   "language": "python",
   "name": "python3"
  },
  "language_info": {
   "codemirror_mode": {
    "name": "ipython",
    "version": 3
   },
   "file_extension": ".py",
   "mimetype": "text/x-python",
   "name": "python",
   "nbconvert_exporter": "python",
   "pygments_lexer": "ipython3",
   "version": "3.8.10"
  },
  "toc": {
   "base_numbering": 1,
   "nav_menu": {},
   "number_sections": false,
   "sideBar": true,
   "skip_h1_title": true,
   "title_cell": "Table of Contents",
   "title_sidebar": "Contents",
   "toc_cell": false,
   "toc_position": {},
   "toc_section_display": true,
   "toc_window_display": false
  }
 },
 "nbformat": 4,
 "nbformat_minor": 4
}
