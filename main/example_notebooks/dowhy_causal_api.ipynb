{
 "cells": [
  {
   "cell_type": "markdown",
   "metadata": {},
   "source": [
    "# Demo for the DoWhy causal API\n",
    "We show a simple example of adding a causal extension to any dataframe. "
   ]
  },
  {
   "cell_type": "code",
   "execution_count": 1,
   "metadata": {
    "execution": {
     "iopub.execute_input": "2022-10-17T13:30:11.472790Z",
     "iopub.status.busy": "2022-10-17T13:30:11.472409Z",
     "iopub.status.idle": "2022-10-17T13:30:13.929862Z",
     "shell.execute_reply": "2022-10-17T13:30:13.928814Z"
    }
   },
   "outputs": [],
   "source": [
    "import dowhy.datasets\n",
    "import dowhy.api\n",
    "\n",
    "import numpy as np\n",
    "import pandas as pd\n",
    "\n",
    "from statsmodels.api import OLS"
   ]
  },
  {
   "cell_type": "code",
   "execution_count": 2,
   "metadata": {
    "execution": {
     "iopub.execute_input": "2022-10-17T13:30:13.937193Z",
     "iopub.status.busy": "2022-10-17T13:30:13.935200Z",
     "iopub.status.idle": "2022-10-17T13:30:13.989542Z",
     "shell.execute_reply": "2022-10-17T13:30:13.988334Z"
    }
   },
   "outputs": [
    {
     "data": {
      "text/html": [
       "<div>\n",
       "<style scoped>\n",
       "    .dataframe tbody tr th:only-of-type {\n",
       "        vertical-align: middle;\n",
       "    }\n",
       "\n",
       "    .dataframe tbody tr th {\n",
       "        vertical-align: top;\n",
       "    }\n",
       "\n",
       "    .dataframe thead th {\n",
       "        text-align: right;\n",
       "    }\n",
       "</style>\n",
       "<table border=\"1\" class=\"dataframe\">\n",
       "  <thead>\n",
       "    <tr style=\"text-align: right;\">\n",
       "      <th></th>\n",
       "      <th>W0</th>\n",
       "      <th>v0</th>\n",
       "      <th>y</th>\n",
       "    </tr>\n",
       "  </thead>\n",
       "  <tbody>\n",
       "    <tr>\n",
       "      <th>0</th>\n",
       "      <td>1.812567</td>\n",
       "      <td>True</td>\n",
       "      <td>7.736697</td>\n",
       "    </tr>\n",
       "    <tr>\n",
       "      <th>1</th>\n",
       "      <td>1.826074</td>\n",
       "      <td>False</td>\n",
       "      <td>2.538347</td>\n",
       "    </tr>\n",
       "    <tr>\n",
       "      <th>2</th>\n",
       "      <td>2.022721</td>\n",
       "      <td>True</td>\n",
       "      <td>8.964443</td>\n",
       "    </tr>\n",
       "    <tr>\n",
       "      <th>3</th>\n",
       "      <td>0.259723</td>\n",
       "      <td>True</td>\n",
       "      <td>7.247494</td>\n",
       "    </tr>\n",
       "    <tr>\n",
       "      <th>4</th>\n",
       "      <td>1.819481</td>\n",
       "      <td>True</td>\n",
       "      <td>7.599879</td>\n",
       "    </tr>\n",
       "    <tr>\n",
       "      <th>...</th>\n",
       "      <td>...</td>\n",
       "      <td>...</td>\n",
       "      <td>...</td>\n",
       "    </tr>\n",
       "    <tr>\n",
       "      <th>995</th>\n",
       "      <td>-1.027437</td>\n",
       "      <td>True</td>\n",
       "      <td>5.177420</td>\n",
       "    </tr>\n",
       "    <tr>\n",
       "      <th>996</th>\n",
       "      <td>0.204471</td>\n",
       "      <td>False</td>\n",
       "      <td>0.139476</td>\n",
       "    </tr>\n",
       "    <tr>\n",
       "      <th>997</th>\n",
       "      <td>0.624099</td>\n",
       "      <td>False</td>\n",
       "      <td>3.705422</td>\n",
       "    </tr>\n",
       "    <tr>\n",
       "      <th>998</th>\n",
       "      <td>2.097327</td>\n",
       "      <td>True</td>\n",
       "      <td>8.699861</td>\n",
       "    </tr>\n",
       "    <tr>\n",
       "      <th>999</th>\n",
       "      <td>0.389385</td>\n",
       "      <td>False</td>\n",
       "      <td>0.644237</td>\n",
       "    </tr>\n",
       "  </tbody>\n",
       "</table>\n",
       "<p>1000 rows × 3 columns</p>\n",
       "</div>"
      ],
      "text/plain": [
       "           W0     v0         y\n",
       "0    1.812567   True  7.736697\n",
       "1    1.826074  False  2.538347\n",
       "2    2.022721   True  8.964443\n",
       "3    0.259723   True  7.247494\n",
       "4    1.819481   True  7.599879\n",
       "..        ...    ...       ...\n",
       "995 -1.027437   True  5.177420\n",
       "996  0.204471  False  0.139476\n",
       "997  0.624099  False  3.705422\n",
       "998  2.097327   True  8.699861\n",
       "999  0.389385  False  0.644237\n",
       "\n",
       "[1000 rows x 3 columns]"
      ]
     },
     "execution_count": 2,
     "metadata": {},
     "output_type": "execute_result"
    }
   ],
   "source": [
    "data = dowhy.datasets.linear_dataset(beta=5,\n",
    "        num_common_causes=1,\n",
    "        num_instruments = 0,\n",
    "        num_samples=1000,\n",
    "        treatment_is_binary=True)\n",
    "df = data['df']\n",
    "df['y'] = df['y'] + np.random.normal(size=len(df)) # Adding noise to data. Without noise, the variance in Y|X, Z is zero, and mcmc fails.\n",
    "#data['dot_graph'] = 'digraph { v ->y;X0-> v;X0-> y;}'\n",
    "\n",
    "treatment= data[\"treatment_name\"][0]\n",
    "outcome = data[\"outcome_name\"][0]\n",
    "common_cause = data[\"common_causes_names\"][0]\n",
    "df"
   ]
  },
  {
   "cell_type": "code",
   "execution_count": 3,
   "metadata": {
    "execution": {
     "iopub.execute_input": "2022-10-17T13:30:13.994107Z",
     "iopub.status.busy": "2022-10-17T13:30:13.993316Z",
     "iopub.status.idle": "2022-10-17T13:30:14.180204Z",
     "shell.execute_reply": "2022-10-17T13:30:14.179248Z"
    }
   },
   "outputs": [
    {
     "data": {
      "text/plain": [
       "<AxesSubplot: xlabel='v0'>"
      ]
     },
     "execution_count": 3,
     "metadata": {},
     "output_type": "execute_result"
    },
    {
     "data": {
      "image/png": "[encoded data removed]",
      "text/plain": [
       "<Figure size 640x480 with 1 Axes>"
      ]
     },
     "metadata": {},
     "output_type": "display_data"
    }
   ],
   "source": [
    "# data['df'] is just a regular pandas.DataFrame\n",
    "df.causal.do(x=treatment,\n",
    "                     variable_types={treatment: 'b', outcome: 'c', common_cause: 'c'},\n",
    "                     outcome=outcome,\n",
    "                     common_causes=[common_cause],\n",
    "                     proceed_when_unidentifiable=True).groupby(treatment).mean().plot(y=outcome, kind='bar')"
   ]
  },
  {
   "cell_type": "code",
   "execution_count": 4,
   "metadata": {
    "execution": {
     "iopub.execute_input": "2022-10-17T13:30:14.184331Z",
     "iopub.status.busy": "2022-10-17T13:30:14.183633Z",
     "iopub.status.idle": "2022-10-17T13:30:14.334781Z",
     "shell.execute_reply": "2022-10-17T13:30:14.334058Z"
    }
   },
   "outputs": [
    {
     "data": {
      "text/plain": [
       "<AxesSubplot: xlabel='v0'>"
      ]
     },
     "execution_count": 4,
     "metadata": {},
     "output_type": "execute_result"
    },
    {
     "data": {
      "image/png": "[encoded data removed]",
      "text/plain": [
       "<Figure size 640x480 with 1 Axes>"
      ]
     },
     "metadata": {},
     "output_type": "display_data"
    }
   ],
   "source": [
    "df.causal.do(x={treatment: 1}, \n",
    "              variable_types={treatment:'b', outcome: 'c', common_cause: 'c'}, \n",
    "              outcome=outcome,\n",
    "              method='weighting', \n",
    "              common_causes=[common_cause],\n",
    "              proceed_when_unidentifiable=True).groupby(treatment).mean().plot(y=outcome, kind='bar')"
   ]
  },
  {
   "cell_type": "code",
   "execution_count": 5,
   "metadata": {
    "execution": {
     "iopub.execute_input": "2022-10-17T13:30:14.338608Z",
     "iopub.status.busy": "2022-10-17T13:30:14.337995Z",
     "iopub.status.idle": "2022-10-17T13:30:14.378504Z",
     "shell.execute_reply": "2022-10-17T13:30:14.377580Z"
    }
   },
   "outputs": [],
   "source": [
    "cdf_1 = df.causal.do(x={treatment: 1}, \n",
    "              variable_types={treatment: 'b', outcome: 'c', common_cause: 'c'}, \n",
    "              outcome=outcome, \n",
    "              dot_graph=data['dot_graph'],\n",
    "              proceed_when_unidentifiable=True)\n",
    "\n",
    "cdf_0 = df.causal.do(x={treatment: 0}, \n",
    "              variable_types={treatment: 'b', outcome: 'c', common_cause: 'c'}, \n",
    "              outcome=outcome, \n",
    "              dot_graph=data['dot_graph'],\n",
    "              proceed_when_unidentifiable=True)\n"
   ]
  },
  {
   "cell_type": "code",
   "execution_count": 6,
   "metadata": {
    "execution": {
     "iopub.execute_input": "2022-10-17T13:30:14.383237Z",
     "iopub.status.busy": "2022-10-17T13:30:14.382712Z",
     "iopub.status.idle": "2022-10-17T13:30:14.399733Z",
     "shell.execute_reply": "2022-10-17T13:30:14.398909Z"
    },
    "scrolled": true
   },
   "outputs": [
    {
     "data": {
      "text/html": [
       "<div>\n",
       "<style scoped>\n",
       "    .dataframe tbody tr th:only-of-type {\n",
       "        vertical-align: middle;\n",
       "    }\n",
       "\n",
       "    .dataframe tbody tr th {\n",
       "        vertical-align: top;\n",
       "    }\n",
       "\n",
       "    .dataframe thead th {\n",
       "        text-align: right;\n",
       "    }\n",
       "</style>\n",
       "<table border=\"1\" class=\"dataframe\">\n",
       "  <thead>\n",
       "    <tr style=\"text-align: right;\">\n",
       "      <th></th>\n",
       "      <th>W0</th>\n",
       "      <th>v0</th>\n",
       "      <th>y</th>\n",
       "      <th>propensity_score</th>\n",
       "      <th>weight</th>\n",
       "    </tr>\n",
       "  </thead>\n",
       "  <tbody>\n",
       "    <tr>\n",
       "      <th>0</th>\n",
       "      <td>-0.036307</td>\n",
       "      <td>False</td>\n",
       "      <td>-0.364898</td>\n",
       "      <td>0.509923</td>\n",
       "      <td>1.961081</td>\n",
       "    </tr>\n",
       "    <tr>\n",
       "      <th>1</th>\n",
       "      <td>-0.237895</td>\n",
       "      <td>False</td>\n",
       "      <td>0.240834</td>\n",
       "      <td>0.521839</td>\n",
       "      <td>1.916300</td>\n",
       "    </tr>\n",
       "    <tr>\n",
       "      <th>2</th>\n",
       "      <td>-0.235974</td>\n",
       "      <td>False</td>\n",
       "      <td>-0.389322</td>\n",
       "      <td>0.521725</td>\n",
       "      <td>1.916717</td>\n",
       "    </tr>\n",
       "    <tr>\n",
       "      <th>3</th>\n",
       "      <td>0.025510</td>\n",
       "      <td>False</td>\n",
       "      <td>0.432823</td>\n",
       "      <td>0.506266</td>\n",
       "      <td>1.975247</td>\n",
       "    </tr>\n",
       "    <tr>\n",
       "      <th>4</th>\n",
       "      <td>2.403741</td>\n",
       "      <td>False</td>\n",
       "      <td>3.789390</td>\n",
       "      <td>0.368688</td>\n",
       "      <td>2.712323</td>\n",
       "    </tr>\n",
       "    <tr>\n",
       "      <th>...</th>\n",
       "      <td>...</td>\n",
       "      <td>...</td>\n",
       "      <td>...</td>\n",
       "      <td>...</td>\n",
       "      <td>...</td>\n",
       "    </tr>\n",
       "    <tr>\n",
       "      <th>995</th>\n",
       "      <td>-0.553863</td>\n",
       "      <td>False</td>\n",
       "      <td>-1.710658</td>\n",
       "      <td>0.540461</td>\n",
       "      <td>1.850272</td>\n",
       "    </tr>\n",
       "    <tr>\n",
       "      <th>996</th>\n",
       "      <td>0.405261</td>\n",
       "      <td>False</td>\n",
       "      <td>1.113162</td>\n",
       "      <td>0.483801</td>\n",
       "      <td>2.066968</td>\n",
       "    </tr>\n",
       "    <tr>\n",
       "      <th>997</th>\n",
       "      <td>-1.501342</td>\n",
       "      <td>False</td>\n",
       "      <td>-3.372845</td>\n",
       "      <td>0.595431</td>\n",
       "      <td>1.679456</td>\n",
       "    </tr>\n",
       "    <tr>\n",
       "      <th>998</th>\n",
       "      <td>-0.413891</td>\n",
       "      <td>False</td>\n",
       "      <td>-2.181594</td>\n",
       "      <td>0.532222</td>\n",
       "      <td>1.878913</td>\n",
       "    </tr>\n",
       "    <tr>\n",
       "      <th>999</th>\n",
       "      <td>-0.702723</td>\n",
       "      <td>False</td>\n",
       "      <td>-3.613882</td>\n",
       "      <td>0.549199</td>\n",
       "      <td>1.820834</td>\n",
       "    </tr>\n",
       "  </tbody>\n",
       "</table>\n",
       "<p>1000 rows × 5 columns</p>\n",
       "</div>"
      ],
      "text/plain": [
       "           W0     v0         y  propensity_score    weight\n",
       "0   -0.036307  False -0.364898          0.509923  1.961081\n",
       "1   -0.237895  False  0.240834          0.521839  1.916300\n",
       "2   -0.235974  False -0.389322          0.521725  1.916717\n",
       "3    0.025510  False  0.432823          0.506266  1.975247\n",
       "4    2.403741  False  3.789390          0.368688  2.712323\n",
       "..        ...    ...       ...               ...       ...\n",
       "995 -0.553863  False -1.710658          0.540461  1.850272\n",
       "996  0.405261  False  1.113162          0.483801  2.066968\n",
       "997 -1.501342  False -3.372845          0.595431  1.679456\n",
       "998 -0.413891  False -2.181594          0.532222  1.878913\n",
       "999 -0.702723  False -3.613882          0.549199  1.820834\n",
       "\n",
       "[1000 rows x 5 columns]"
      ]
     },
     "execution_count": 6,
     "metadata": {},
     "output_type": "execute_result"
    }
   ],
   "source": [
    "cdf_0"
   ]
  },
  {
   "cell_type": "code",
   "execution_count": 7,
   "metadata": {
    "execution": {
     "iopub.execute_input": "2022-10-17T13:30:14.403705Z",
     "iopub.status.busy": "2022-10-17T13:30:14.402980Z",
     "iopub.status.idle": "2022-10-17T13:30:14.417261Z",
     "shell.execute_reply": "2022-10-17T13:30:14.416379Z"
    }
   },
   "outputs": [
    {
     "data": {
      "text/html": [
       "<div>\n",
       "<style scoped>\n",
       "    .dataframe tbody tr th:only-of-type {\n",
       "        vertical-align: middle;\n",
       "    }\n",
       "\n",
       "    .dataframe tbody tr th {\n",
       "        vertical-align: top;\n",
       "    }\n",
       "\n",
       "    .dataframe thead th {\n",
       "        text-align: right;\n",
       "    }\n",
       "</style>\n",
       "<table border=\"1\" class=\"dataframe\">\n",
       "  <thead>\n",
       "    <tr style=\"text-align: right;\">\n",
       "      <th></th>\n",
       "      <th>W0</th>\n",
       "      <th>v0</th>\n",
       "      <th>y</th>\n",
       "      <th>propensity_score</th>\n",
       "      <th>weight</th>\n",
       "    </tr>\n",
       "  </thead>\n",
       "  <tbody>\n",
       "    <tr>\n",
       "      <th>0</th>\n",
       "      <td>0.202312</td>\n",
       "      <td>True</td>\n",
       "      <td>4.533832</td>\n",
       "      <td>0.504196</td>\n",
       "      <td>1.983357</td>\n",
       "    </tr>\n",
       "    <tr>\n",
       "      <th>1</th>\n",
       "      <td>0.639143</td>\n",
       "      <td>True</td>\n",
       "      <td>8.749086</td>\n",
       "      <td>0.530009</td>\n",
       "      <td>1.886761</td>\n",
       "    </tr>\n",
       "    <tr>\n",
       "      <th>2</th>\n",
       "      <td>0.711031</td>\n",
       "      <td>True</td>\n",
       "      <td>7.216608</td>\n",
       "      <td>0.534245</td>\n",
       "      <td>1.871800</td>\n",
       "    </tr>\n",
       "    <tr>\n",
       "      <th>3</th>\n",
       "      <td>-0.780993</td>\n",
       "      <td>True</td>\n",
       "      <td>2.605185</td>\n",
       "      <td>0.446219</td>\n",
       "      <td>2.241053</td>\n",
       "    </tr>\n",
       "    <tr>\n",
       "      <th>4</th>\n",
       "      <td>-0.856166</td>\n",
       "      <td>True</td>\n",
       "      <td>4.430944</td>\n",
       "      <td>0.441826</td>\n",
       "      <td>2.263333</td>\n",
       "    </tr>\n",
       "    <tr>\n",
       "      <th>...</th>\n",
       "      <td>...</td>\n",
       "      <td>...</td>\n",
       "      <td>...</td>\n",
       "      <td>...</td>\n",
       "      <td>...</td>\n",
       "    </tr>\n",
       "    <tr>\n",
       "      <th>995</th>\n",
       "      <td>1.806006</td>\n",
       "      <td>True</td>\n",
       "      <td>9.741128</td>\n",
       "      <td>0.597815</td>\n",
       "      <td>1.672758</td>\n",
       "    </tr>\n",
       "    <tr>\n",
       "      <th>996</th>\n",
       "      <td>0.415797</td>\n",
       "      <td>True</td>\n",
       "      <td>5.878189</td>\n",
       "      <td>0.516822</td>\n",
       "      <td>1.934901</td>\n",
       "    </tr>\n",
       "    <tr>\n",
       "      <th>997</th>\n",
       "      <td>1.665519</td>\n",
       "      <td>True</td>\n",
       "      <td>9.456510</td>\n",
       "      <td>0.589795</td>\n",
       "      <td>1.695505</td>\n",
       "    </tr>\n",
       "    <tr>\n",
       "      <th>998</th>\n",
       "      <td>1.123874</td>\n",
       "      <td>True</td>\n",
       "      <td>6.963742</td>\n",
       "      <td>0.558460</td>\n",
       "      <td>1.790640</td>\n",
       "    </tr>\n",
       "    <tr>\n",
       "      <th>999</th>\n",
       "      <td>-0.688159</td>\n",
       "      <td>True</td>\n",
       "      <td>3.351848</td>\n",
       "      <td>0.451655</td>\n",
       "      <td>2.214080</td>\n",
       "    </tr>\n",
       "  </tbody>\n",
       "</table>\n",
       "<p>1000 rows × 5 columns</p>\n",
       "</div>"
      ],
      "text/plain": [
       "           W0    v0         y  propensity_score    weight\n",
       "0    0.202312  True  4.533832          0.504196  1.983357\n",
       "1    0.639143  True  8.749086          0.530009  1.886761\n",
       "2    0.711031  True  7.216608          0.534245  1.871800\n",
       "3   -0.780993  True  2.605185          0.446219  2.241053\n",
       "4   -0.856166  True  4.430944          0.441826  2.263333\n",
       "..        ...   ...       ...               ...       ...\n",
       "995  1.806006  True  9.741128          0.597815  1.672758\n",
       "996  0.415797  True  5.878189          0.516822  1.934901\n",
       "997  1.665519  True  9.456510          0.589795  1.695505\n",
       "998  1.123874  True  6.963742          0.558460  1.790640\n",
       "999 -0.688159  True  3.351848          0.451655  2.214080\n",
       "\n",
       "[1000 rows x 5 columns]"
      ]
     },
     "execution_count": 7,
     "metadata": {},
     "output_type": "execute_result"
    }
   ],
   "source": [
    "cdf_1"
   ]
  },
  {
   "cell_type": "markdown",
   "metadata": {},
   "source": [
    "## Comparing the estimate to Linear Regression\n",
    "First, estimating the effect using the causal data frame, and the 95% confidence interval."
   ]
  },
  {
   "cell_type": "code",
   "execution_count": 8,
   "metadata": {
    "execution": {
     "iopub.execute_input": "2022-10-17T13:30:14.422782Z",
     "iopub.status.busy": "2022-10-17T13:30:14.421962Z",
     "iopub.status.idle": "2022-10-17T13:30:14.496690Z",
     "shell.execute_reply": "2022-10-17T13:30:14.495556Z"
    }
   },
   "outputs": [
    {
     "data": {
      "image/png": "[encoded data removed]",
      "text/latex": [
       "$\\displaystyle 5.12278080292304$"
      ],
      "text/plain": [
       "5.122780802923044"
      ]
     },
     "execution_count": 8,
     "metadata": {},
     "output_type": "execute_result"
    }
   ],
   "source": [
    "(cdf_1['y'] - cdf_0['y']).mean()"
   ]
  },
  {
   "cell_type": "code",
   "execution_count": 9,
   "metadata": {
    "execution": {
     "iopub.execute_input": "2022-10-17T13:30:14.502958Z",
     "iopub.status.busy": "2022-10-17T13:30:14.502207Z",
     "iopub.status.idle": "2022-10-17T13:30:14.541504Z",
     "shell.execute_reply": "2022-10-17T13:30:14.540579Z"
    }
   },
   "outputs": [
    {
     "data": {
      "image/png": "[encoded data removed]",
      "text/latex": [
       "$\\displaystyle 0.189446573190267$"
      ],
      "text/plain": [
       "0.18944657319026714"
      ]
     },
     "execution_count": 9,
     "metadata": {},
     "output_type": "execute_result"
    }
   ],
   "source": [
    "1.96*(cdf_1['y'] - cdf_0['y']).std() / np.sqrt(len(df))"
   ]
  },
  {
   "cell_type": "markdown",
   "metadata": {},
   "source": [
    "Comparing to the estimate from OLS."
   ]
  },
  {
   "cell_type": "code",
   "execution_count": 10,
   "metadata": {
    "execution": {
     "iopub.execute_input": "2022-10-17T13:30:14.546246Z",
     "iopub.status.busy": "2022-10-17T13:30:14.545718Z",
     "iopub.status.idle": "2022-10-17T13:30:14.567178Z",
     "shell.execute_reply": "2022-10-17T13:30:14.566308Z"
    }
   },
   "outputs": [
    {
     "data": {
      "text/html": [
       "<table class=\"simpletable\">\n",
       "<caption>OLS Regression Results</caption>\n",
       "<tr>\n",
       "  <th>Dep. Variable:</th>            <td>y</td>        <th>  R-squared (uncentered):</th>      <td>   0.962</td> \n",
       "</tr>\n",
       "<tr>\n",
       "  <th>Model:</th>                   <td>OLS</td>       <th>  Adj. R-squared (uncentered):</th> <td>   0.962</td> \n",
       "</tr>\n",
       "<tr>\n",
       "  <th>Method:</th>             <td>Least Squares</td>  <th>  F-statistic:       </th>          <td>1.253e+04</td>\n",
       "</tr>\n",
       "<tr>\n",
       "  <th>Date:</th>             <td>Mon, 17 Oct 2022</td> <th>  Prob (F-statistic):</th>           <td>  0.00</td>  \n",
       "</tr>\n",
       "<tr>\n",
       "  <th>Time:</th>                 <td>13:30:14</td>     <th>  Log-Likelihood:    </th>          <td> -1384.1</td> \n",
       "</tr>\n",
       "<tr>\n",
       "  <th>No. Observations:</th>      <td>  1000</td>      <th>  AIC:               </th>          <td>   2772.</td> \n",
       "</tr>\n",
       "<tr>\n",
       "  <th>Df Residuals:</th>          <td>   998</td>      <th>  BIC:               </th>          <td>   2782.</td> \n",
       "</tr>\n",
       "<tr>\n",
       "  <th>Df Model:</th>              <td>     2</td>      <th>                     </th>              <td> </td>    \n",
       "</tr>\n",
       "<tr>\n",
       "  <th>Covariance Type:</th>      <td>nonrobust</td>    <th>                     </th>              <td> </td>    \n",
       "</tr>\n",
       "</table>\n",
       "<table class=\"simpletable\">\n",
       "<tr>\n",
       "   <td></td>     <th>coef</th>     <th>std err</th>      <th>t</th>      <th>P>|t|</th>  <th>[0.025</th>    <th>0.975]</th>  \n",
       "</tr>\n",
       "<tr>\n",
       "  <th>x1</th> <td>    2.0447</td> <td>    0.030</td> <td>   67.241</td> <td> 0.000</td> <td>    1.985</td> <td>    2.104</td>\n",
       "</tr>\n",
       "<tr>\n",
       "  <th>x2</th> <td>    5.0037</td> <td>    0.045</td> <td>  109.975</td> <td> 0.000</td> <td>    4.914</td> <td>    5.093</td>\n",
       "</tr>\n",
       "</table>\n",
       "<table class=\"simpletable\">\n",
       "<tr>\n",
       "  <th>Omnibus:</th>       <td> 0.323</td> <th>  Durbin-Watson:     </th> <td>   2.107</td>\n",
       "</tr>\n",
       "<tr>\n",
       "  <th>Prob(Omnibus):</th> <td> 0.851</td> <th>  Jarque-Bera (JB):  </th> <td>   0.413</td>\n",
       "</tr>\n",
       "<tr>\n",
       "  <th>Skew:</th>          <td>-0.004</td> <th>  Prob(JB):          </th> <td>   0.814</td>\n",
       "</tr>\n",
       "<tr>\n",
       "  <th>Kurtosis:</th>      <td> 2.901</td> <th>  Cond. No.          </th> <td>    1.74</td>\n",
       "</tr>\n",
       "</table><br/><br/>Notes:<br/>[1] R² is computed without centering (uncentered) since the model does not contain a constant.<br/>[2] Standard Errors assume that the covariance matrix of the errors is correctly specified."
      ],
      "text/plain": [
       "<class 'statsmodels.iolib.summary.Summary'>\n",
       "\"\"\"\n",
       "                                 OLS Regression Results                                \n",
       "=======================================================================================\n",
       "Dep. Variable:                      y   R-squared (uncentered):                   0.962\n",
       "Model:                            OLS   Adj. R-squared (uncentered):              0.962\n",
       "Method:                 Least Squares   F-statistic:                          1.253e+04\n",
       "Date:                Mon, 17 Oct 2022   Prob (F-statistic):                        0.00\n",
       "Time:                        13:30:14   Log-Likelihood:                         -1384.1\n",
       "No. Observations:                1000   AIC:                                      2772.\n",
       "Df Residuals:                     998   BIC:                                      2782.\n",
       "Df Model:                           2                                                  \n",
       "Covariance Type:            nonrobust                                                  \n",
       "==============================================================================\n",
       "                 coef    std err          t      P>|t|      [0.025      0.975]\n",
       "------------------------------------------------------------------------------\n",
       "x1             2.0447      0.030     67.241      0.000       1.985       2.104\n",
       "x2             5.0037      0.045    109.975      0.000       4.914       5.093\n",
       "==============================================================================\n",
       "Omnibus:                        0.323   Durbin-Watson:                   2.107\n",
       "Prob(Omnibus):                  0.851   Jarque-Bera (JB):                0.413\n",
       "Skew:                          -0.004   Prob(JB):                        0.814\n",
       "Kurtosis:                       2.901   Cond. No.                         1.74\n",
       "==============================================================================\n",
       "\n",
       "Notes:\n",
       "[1] R² is computed without centering (uncentered) since the model does not contain a constant.\n",
       "[2] Standard Errors assume that the covariance matrix of the errors is correctly specified.\n",
       "\"\"\""
      ]
     },
     "execution_count": 10,
     "metadata": {},
     "output_type": "execute_result"
    }
   ],
   "source": [
    "model = OLS(np.asarray(df[outcome]), np.asarray(df[[common_cause, treatment]], dtype=np.float64))\n",
    "result = model.fit()\n",
    "result.summary()"
   ]
  }
 ],
 "metadata": {
  "kernelspec": {
   "display_name": "Python 3",
   "language": "python",
   "name": "python3"
  },
  "language_info": {
   "codemirror_mode": {
    "name": "ipython",
    "version": 3
   },
   "file_extension": ".py",
   "mimetype": "text/x-python",
   "name": "python",
   "nbconvert_exporter": "python",
   "pygments_lexer": "ipython3",
   "version": "3.8.10"
  },
  "toc": {
   "base_numbering": 1,
   "nav_menu": {},
   "number_sections": false,
   "sideBar": true,
   "skip_h1_title": true,
   "title_cell": "Table of Contents",
   "title_sidebar": "Contents",
   "toc_cell": false,
   "toc_position": {},
   "toc_section_display": true,
   "toc_window_display": false
  }
 },
 "nbformat": 4,
 "nbformat_minor": 4
}
