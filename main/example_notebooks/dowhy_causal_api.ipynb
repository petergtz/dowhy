{
 "cells": [
  {
   "cell_type": "markdown",
   "metadata": {},
   "source": [
    "# Demo for the DoWhy causal API\n",
    "We show a simple example of adding a causal extension to any dataframe. "
   ]
  },
  {
   "cell_type": "code",
   "execution_count": 1,
   "metadata": {
    "execution": {
     "iopub.execute_input": "2022-10-19T15:56:06.743504Z",
     "iopub.status.busy": "2022-10-19T15:56:06.743125Z",
     "iopub.status.idle": "2022-10-19T15:56:08.512478Z",
     "shell.execute_reply": "2022-10-19T15:56:08.511825Z"
    }
   },
   "outputs": [],
   "source": [
    "import dowhy.datasets\n",
    "import dowhy.api\n",
    "\n",
    "import numpy as np\n",
    "import pandas as pd\n",
    "\n",
    "from statsmodels.api import OLS"
   ]
  },
  {
   "cell_type": "code",
   "execution_count": 2,
   "metadata": {
    "execution": {
     "iopub.execute_input": "2022-10-19T15:56:08.516934Z",
     "iopub.status.busy": "2022-10-19T15:56:08.515629Z",
     "iopub.status.idle": "2022-10-19T15:56:08.561085Z",
     "shell.execute_reply": "2022-10-19T15:56:08.559510Z"
    }
   },
   "outputs": [
    {
     "data": {
      "text/html": [
       "<div>\n",
       "<style scoped>\n",
       "    .dataframe tbody tr th:only-of-type {\n",
       "        vertical-align: middle;\n",
       "    }\n",
       "\n",
       "    .dataframe tbody tr th {\n",
       "        vertical-align: top;\n",
       "    }\n",
       "\n",
       "    .dataframe thead th {\n",
       "        text-align: right;\n",
       "    }\n",
       "</style>\n",
       "<table border=\"1\" class=\"dataframe\">\n",
       "  <thead>\n",
       "    <tr style=\"text-align: right;\">\n",
       "      <th></th>\n",
       "      <th>W0</th>\n",
       "      <th>v0</th>\n",
       "      <th>y</th>\n",
       "    </tr>\n",
       "  </thead>\n",
       "  <tbody>\n",
       "    <tr>\n",
       "      <th>0</th>\n",
       "      <td>0.701713</td>\n",
       "      <td>False</td>\n",
       "      <td>1.869219</td>\n",
       "    </tr>\n",
       "    <tr>\n",
       "      <th>1</th>\n",
       "      <td>0.132643</td>\n",
       "      <td>False</td>\n",
       "      <td>0.667514</td>\n",
       "    </tr>\n",
       "    <tr>\n",
       "      <th>2</th>\n",
       "      <td>-0.409500</td>\n",
       "      <td>False</td>\n",
       "      <td>-0.703595</td>\n",
       "    </tr>\n",
       "    <tr>\n",
       "      <th>3</th>\n",
       "      <td>-0.271013</td>\n",
       "      <td>True</td>\n",
       "      <td>4.240761</td>\n",
       "    </tr>\n",
       "    <tr>\n",
       "      <th>4</th>\n",
       "      <td>0.460016</td>\n",
       "      <td>True</td>\n",
       "      <td>6.246702</td>\n",
       "    </tr>\n",
       "    <tr>\n",
       "      <th>...</th>\n",
       "      <td>...</td>\n",
       "      <td>...</td>\n",
       "      <td>...</td>\n",
       "    </tr>\n",
       "    <tr>\n",
       "      <th>995</th>\n",
       "      <td>1.465487</td>\n",
       "      <td>True</td>\n",
       "      <td>9.836021</td>\n",
       "    </tr>\n",
       "    <tr>\n",
       "      <th>996</th>\n",
       "      <td>-0.019249</td>\n",
       "      <td>True</td>\n",
       "      <td>4.909124</td>\n",
       "    </tr>\n",
       "    <tr>\n",
       "      <th>997</th>\n",
       "      <td>0.344793</td>\n",
       "      <td>True</td>\n",
       "      <td>6.283251</td>\n",
       "    </tr>\n",
       "    <tr>\n",
       "      <th>998</th>\n",
       "      <td>0.558740</td>\n",
       "      <td>False</td>\n",
       "      <td>2.853064</td>\n",
       "    </tr>\n",
       "    <tr>\n",
       "      <th>999</th>\n",
       "      <td>0.735912</td>\n",
       "      <td>True</td>\n",
       "      <td>8.759154</td>\n",
       "    </tr>\n",
       "  </tbody>\n",
       "</table>\n",
       "<p>1000 rows × 3 columns</p>\n",
       "</div>"
      ],
      "text/plain": [
       "           W0     v0         y\n",
       "0    0.701713  False  1.869219\n",
       "1    0.132643  False  0.667514\n",
       "2   -0.409500  False -0.703595\n",
       "3   -0.271013   True  4.240761\n",
       "4    0.460016   True  6.246702\n",
       "..        ...    ...       ...\n",
       "995  1.465487   True  9.836021\n",
       "996 -0.019249   True  4.909124\n",
       "997  0.344793   True  6.283251\n",
       "998  0.558740  False  2.853064\n",
       "999  0.735912   True  8.759154\n",
       "\n",
       "[1000 rows x 3 columns]"
      ]
     },
     "execution_count": 2,
     "metadata": {},
     "output_type": "execute_result"
    }
   ],
   "source": [
    "data = dowhy.datasets.linear_dataset(beta=5,\n",
    "        num_common_causes=1,\n",
    "        num_instruments = 0,\n",
    "        num_samples=1000,\n",
    "        treatment_is_binary=True)\n",
    "df = data['df']\n",
    "df['y'] = df['y'] + np.random.normal(size=len(df)) # Adding noise to data. Without noise, the variance in Y|X, Z is zero, and mcmc fails.\n",
    "#data['dot_graph'] = 'digraph { v ->y;X0-> v;X0-> y;}'\n",
    "\n",
    "treatment= data[\"treatment_name\"][0]\n",
    "outcome = data[\"outcome_name\"][0]\n",
    "common_cause = data[\"common_causes_names\"][0]\n",
    "df"
   ]
  },
  {
   "cell_type": "code",
   "execution_count": 3,
   "metadata": {
    "execution": {
     "iopub.execute_input": "2022-10-19T15:56:08.564639Z",
     "iopub.status.busy": "2022-10-19T15:56:08.564170Z",
     "iopub.status.idle": "2022-10-19T15:56:08.704016Z",
     "shell.execute_reply": "2022-10-19T15:56:08.703352Z"
    }
   },
   "outputs": [
    {
     "data": {
      "text/plain": [
       "<AxesSubplot: xlabel='v0'>"
      ]
     },
     "execution_count": 3,
     "metadata": {},
     "output_type": "execute_result"
    },
    {
     "data": {
      "image/png": "[encoded data removed]",
      "text/plain": [
       "<Figure size 640x480 with 1 Axes>"
      ]
     },
     "metadata": {},
     "output_type": "display_data"
    }
   ],
   "source": [
    "# data['df'] is just a regular pandas.DataFrame\n",
    "df.causal.do(x=treatment,\n",
    "                     variable_types={treatment: 'b', outcome: 'c', common_cause: 'c'},\n",
    "                     outcome=outcome,\n",
    "                     common_causes=[common_cause],\n",
    "                     proceed_when_unidentifiable=True).groupby(treatment).mean().plot(y=outcome, kind='bar')"
   ]
  },
  {
   "cell_type": "code",
   "execution_count": 4,
   "metadata": {
    "execution": {
     "iopub.execute_input": "2022-10-19T15:56:08.706905Z",
     "iopub.status.busy": "2022-10-19T15:56:08.706682Z",
     "iopub.status.idle": "2022-10-19T15:56:08.821230Z",
     "shell.execute_reply": "2022-10-19T15:56:08.820693Z"
    }
   },
   "outputs": [
    {
     "data": {
      "text/plain": [
       "<AxesSubplot: xlabel='v0'>"
      ]
     },
     "execution_count": 4,
     "metadata": {},
     "output_type": "execute_result"
    },
    {
     "data": {
      "image/png": "[encoded data removed]",
      "text/plain": [
       "<Figure size 640x480 with 1 Axes>"
      ]
     },
     "metadata": {},
     "output_type": "display_data"
    }
   ],
   "source": [
    "df.causal.do(x={treatment: 1}, \n",
    "              variable_types={treatment:'b', outcome: 'c', common_cause: 'c'}, \n",
    "              outcome=outcome,\n",
    "              method='weighting', \n",
    "              common_causes=[common_cause],\n",
    "              proceed_when_unidentifiable=True).groupby(treatment).mean().plot(y=outcome, kind='bar')"
   ]
  },
  {
   "cell_type": "code",
   "execution_count": 5,
   "metadata": {
    "execution": {
     "iopub.execute_input": "2022-10-19T15:56:08.824625Z",
     "iopub.status.busy": "2022-10-19T15:56:08.824226Z",
     "iopub.status.idle": "2022-10-19T15:56:08.854842Z",
     "shell.execute_reply": "2022-10-19T15:56:08.854228Z"
    }
   },
   "outputs": [],
   "source": [
    "cdf_1 = df.causal.do(x={treatment: 1}, \n",
    "              variable_types={treatment: 'b', outcome: 'c', common_cause: 'c'}, \n",
    "              outcome=outcome, \n",
    "              dot_graph=data['dot_graph'],\n",
    "              proceed_when_unidentifiable=True)\n",
    "\n",
    "cdf_0 = df.causal.do(x={treatment: 0}, \n",
    "              variable_types={treatment: 'b', outcome: 'c', common_cause: 'c'}, \n",
    "              outcome=outcome, \n",
    "              dot_graph=data['dot_graph'],\n",
    "              proceed_when_unidentifiable=True)\n"
   ]
  },
  {
   "cell_type": "code",
   "execution_count": 6,
   "metadata": {
    "execution": {
     "iopub.execute_input": "2022-10-19T15:56:08.858067Z",
     "iopub.status.busy": "2022-10-19T15:56:08.857507Z",
     "iopub.status.idle": "2022-10-19T15:56:08.869168Z",
     "shell.execute_reply": "2022-10-19T15:56:08.868598Z"
    },
    "scrolled": true
   },
   "outputs": [
    {
     "data": {
      "text/html": [
       "<div>\n",
       "<style scoped>\n",
       "    .dataframe tbody tr th:only-of-type {\n",
       "        vertical-align: middle;\n",
       "    }\n",
       "\n",
       "    .dataframe tbody tr th {\n",
       "        vertical-align: top;\n",
       "    }\n",
       "\n",
       "    .dataframe thead th {\n",
       "        text-align: right;\n",
       "    }\n",
       "</style>\n",
       "<table border=\"1\" class=\"dataframe\">\n",
       "  <thead>\n",
       "    <tr style=\"text-align: right;\">\n",
       "      <th></th>\n",
       "      <th>W0</th>\n",
       "      <th>v0</th>\n",
       "      <th>y</th>\n",
       "      <th>propensity_score</th>\n",
       "      <th>weight</th>\n",
       "    </tr>\n",
       "  </thead>\n",
       "  <tbody>\n",
       "    <tr>\n",
       "      <th>0</th>\n",
       "      <td>-0.467248</td>\n",
       "      <td>False</td>\n",
       "      <td>-1.627827</td>\n",
       "      <td>0.572115</td>\n",
       "      <td>1.747899</td>\n",
       "    </tr>\n",
       "    <tr>\n",
       "      <th>1</th>\n",
       "      <td>0.716275</td>\n",
       "      <td>False</td>\n",
       "      <td>1.581694</td>\n",
       "      <td>0.324266</td>\n",
       "      <td>3.083892</td>\n",
       "    </tr>\n",
       "    <tr>\n",
       "      <th>2</th>\n",
       "      <td>1.574159</td>\n",
       "      <td>False</td>\n",
       "      <td>4.050267</td>\n",
       "      <td>0.185879</td>\n",
       "      <td>5.379855</td>\n",
       "    </tr>\n",
       "    <tr>\n",
       "      <th>3</th>\n",
       "      <td>0.407953</td>\n",
       "      <td>False</td>\n",
       "      <td>2.078734</td>\n",
       "      <td>0.385259</td>\n",
       "      <td>2.595655</td>\n",
       "    </tr>\n",
       "    <tr>\n",
       "      <th>4</th>\n",
       "      <td>0.953777</td>\n",
       "      <td>False</td>\n",
       "      <td>2.460929</td>\n",
       "      <td>0.280926</td>\n",
       "      <td>3.559656</td>\n",
       "    </tr>\n",
       "    <tr>\n",
       "      <th>...</th>\n",
       "      <td>...</td>\n",
       "      <td>...</td>\n",
       "      <td>...</td>\n",
       "      <td>...</td>\n",
       "      <td>...</td>\n",
       "    </tr>\n",
       "    <tr>\n",
       "      <th>995</th>\n",
       "      <td>-0.756579</td>\n",
       "      <td>False</td>\n",
       "      <td>-1.987343</td>\n",
       "      <td>0.632045</td>\n",
       "      <td>1.582167</td>\n",
       "    </tr>\n",
       "    <tr>\n",
       "      <th>996</th>\n",
       "      <td>0.996093</td>\n",
       "      <td>False</td>\n",
       "      <td>2.157881</td>\n",
       "      <td>0.273585</td>\n",
       "      <td>3.655177</td>\n",
       "    </tr>\n",
       "    <tr>\n",
       "      <th>997</th>\n",
       "      <td>1.088125</td>\n",
       "      <td>False</td>\n",
       "      <td>0.642409</td>\n",
       "      <td>0.258037</td>\n",
       "      <td>3.875410</td>\n",
       "    </tr>\n",
       "    <tr>\n",
       "      <th>998</th>\n",
       "      <td>1.549300</td>\n",
       "      <td>False</td>\n",
       "      <td>6.063918</td>\n",
       "      <td>0.189158</td>\n",
       "      <td>5.286591</td>\n",
       "    </tr>\n",
       "    <tr>\n",
       "      <th>999</th>\n",
       "      <td>0.531911</td>\n",
       "      <td>False</td>\n",
       "      <td>-0.067977</td>\n",
       "      <td>0.360174</td>\n",
       "      <td>2.776438</td>\n",
       "    </tr>\n",
       "  </tbody>\n",
       "</table>\n",
       "<p>1000 rows × 5 columns</p>\n",
       "</div>"
      ],
      "text/plain": [
       "           W0     v0         y  propensity_score    weight\n",
       "0   -0.467248  False -1.627827          0.572115  1.747899\n",
       "1    0.716275  False  1.581694          0.324266  3.083892\n",
       "2    1.574159  False  4.050267          0.185879  5.379855\n",
       "3    0.407953  False  2.078734          0.385259  2.595655\n",
       "4    0.953777  False  2.460929          0.280926  3.559656\n",
       "..        ...    ...       ...               ...       ...\n",
       "995 -0.756579  False -1.987343          0.632045  1.582167\n",
       "996  0.996093  False  2.157881          0.273585  3.655177\n",
       "997  1.088125  False  0.642409          0.258037  3.875410\n",
       "998  1.549300  False  6.063918          0.189158  5.286591\n",
       "999  0.531911  False -0.067977          0.360174  2.776438\n",
       "\n",
       "[1000 rows x 5 columns]"
      ]
     },
     "execution_count": 6,
     "metadata": {},
     "output_type": "execute_result"
    }
   ],
   "source": [
    "cdf_0"
   ]
  },
  {
   "cell_type": "code",
   "execution_count": 7,
   "metadata": {
    "execution": {
     "iopub.execute_input": "2022-10-19T15:56:08.871767Z",
     "iopub.status.busy": "2022-10-19T15:56:08.871546Z",
     "iopub.status.idle": "2022-10-19T15:56:08.881048Z",
     "shell.execute_reply": "2022-10-19T15:56:08.880475Z"
    }
   },
   "outputs": [
    {
     "data": {
      "text/html": [
       "<div>\n",
       "<style scoped>\n",
       "    .dataframe tbody tr th:only-of-type {\n",
       "        vertical-align: middle;\n",
       "    }\n",
       "\n",
       "    .dataframe tbody tr th {\n",
       "        vertical-align: top;\n",
       "    }\n",
       "\n",
       "    .dataframe thead th {\n",
       "        text-align: right;\n",
       "    }\n",
       "</style>\n",
       "<table border=\"1\" class=\"dataframe\">\n",
       "  <thead>\n",
       "    <tr style=\"text-align: right;\">\n",
       "      <th></th>\n",
       "      <th>W0</th>\n",
       "      <th>v0</th>\n",
       "      <th>y</th>\n",
       "      <th>propensity_score</th>\n",
       "      <th>weight</th>\n",
       "    </tr>\n",
       "  </thead>\n",
       "  <tbody>\n",
       "    <tr>\n",
       "      <th>0</th>\n",
       "      <td>-2.678420</td>\n",
       "      <td>True</td>\n",
       "      <td>-0.640576</td>\n",
       "      <td>0.099304</td>\n",
       "      <td>10.070054</td>\n",
       "    </tr>\n",
       "    <tr>\n",
       "      <th>1</th>\n",
       "      <td>-1.467888</td>\n",
       "      <td>True</td>\n",
       "      <td>1.499838</td>\n",
       "      <td>0.239237</td>\n",
       "      <td>4.179957</td>\n",
       "    </tr>\n",
       "    <tr>\n",
       "      <th>2</th>\n",
       "      <td>-2.678420</td>\n",
       "      <td>True</td>\n",
       "      <td>-0.640576</td>\n",
       "      <td>0.099304</td>\n",
       "      <td>10.070054</td>\n",
       "    </tr>\n",
       "    <tr>\n",
       "      <th>3</th>\n",
       "      <td>0.282921</td>\n",
       "      <td>True</td>\n",
       "      <td>5.216686</td>\n",
       "      <td>0.588805</td>\n",
       "      <td>1.698354</td>\n",
       "    </tr>\n",
       "    <tr>\n",
       "      <th>4</th>\n",
       "      <td>0.919110</td>\n",
       "      <td>True</td>\n",
       "      <td>7.644282</td>\n",
       "      <td>0.712971</td>\n",
       "      <td>1.402582</td>\n",
       "    </tr>\n",
       "    <tr>\n",
       "      <th>...</th>\n",
       "      <td>...</td>\n",
       "      <td>...</td>\n",
       "      <td>...</td>\n",
       "      <td>...</td>\n",
       "      <td>...</td>\n",
       "    </tr>\n",
       "    <tr>\n",
       "      <th>995</th>\n",
       "      <td>0.641142</td>\n",
       "      <td>True</td>\n",
       "      <td>6.646965</td>\n",
       "      <td>0.661321</td>\n",
       "      <td>1.512125</td>\n",
       "    </tr>\n",
       "    <tr>\n",
       "      <th>996</th>\n",
       "      <td>0.321098</td>\n",
       "      <td>True</td>\n",
       "      <td>6.767981</td>\n",
       "      <td>0.596784</td>\n",
       "      <td>1.675648</td>\n",
       "    </tr>\n",
       "    <tr>\n",
       "      <th>997</th>\n",
       "      <td>0.864776</td>\n",
       "      <td>True</td>\n",
       "      <td>9.089998</td>\n",
       "      <td>0.703248</td>\n",
       "      <td>1.421973</td>\n",
       "    </tr>\n",
       "    <tr>\n",
       "      <th>998</th>\n",
       "      <td>-0.534850</td>\n",
       "      <td>True</td>\n",
       "      <td>2.238884</td>\n",
       "      <td>0.413620</td>\n",
       "      <td>2.417676</td>\n",
       "    </tr>\n",
       "    <tr>\n",
       "      <th>999</th>\n",
       "      <td>0.315626</td>\n",
       "      <td>True</td>\n",
       "      <td>7.052003</td>\n",
       "      <td>0.595643</td>\n",
       "      <td>1.678857</td>\n",
       "    </tr>\n",
       "  </tbody>\n",
       "</table>\n",
       "<p>1000 rows × 5 columns</p>\n",
       "</div>"
      ],
      "text/plain": [
       "           W0    v0         y  propensity_score     weight\n",
       "0   -2.678420  True -0.640576          0.099304  10.070054\n",
       "1   -1.467888  True  1.499838          0.239237   4.179957\n",
       "2   -2.678420  True -0.640576          0.099304  10.070054\n",
       "3    0.282921  True  5.216686          0.588805   1.698354\n",
       "4    0.919110  True  7.644282          0.712971   1.402582\n",
       "..        ...   ...       ...               ...        ...\n",
       "995  0.641142  True  6.646965          0.661321   1.512125\n",
       "996  0.321098  True  6.767981          0.596784   1.675648\n",
       "997  0.864776  True  9.089998          0.703248   1.421973\n",
       "998 -0.534850  True  2.238884          0.413620   2.417676\n",
       "999  0.315626  True  7.052003          0.595643   1.678857\n",
       "\n",
       "[1000 rows x 5 columns]"
      ]
     },
     "execution_count": 7,
     "metadata": {},
     "output_type": "execute_result"
    }
   ],
   "source": [
    "cdf_1"
   ]
  },
  {
   "cell_type": "markdown",
   "metadata": {},
   "source": [
    "## Comparing the estimate to Linear Regression\n",
    "First, estimating the effect using the causal data frame, and the 95% confidence interval."
   ]
  },
  {
   "cell_type": "code",
   "execution_count": 8,
   "metadata": {
    "execution": {
     "iopub.execute_input": "2022-10-19T15:56:08.884415Z",
     "iopub.status.busy": "2022-10-19T15:56:08.884093Z",
     "iopub.status.idle": "2022-10-19T15:56:08.940562Z",
     "shell.execute_reply": "2022-10-19T15:56:08.939922Z"
    }
   },
   "outputs": [
    {
     "data": {
      "image/png": "[encoded data removed]",
      "text/latex": [
       "$\\displaystyle 5.10890544413652$"
      ],
      "text/plain": [
       "5.108905444136525"
      ]
     },
     "execution_count": 8,
     "metadata": {},
     "output_type": "execute_result"
    }
   ],
   "source": [
    "(cdf_1['y'] - cdf_0['y']).mean()"
   ]
  },
  {
   "cell_type": "code",
   "execution_count": 9,
   "metadata": {
    "execution": {
     "iopub.execute_input": "2022-10-19T15:56:08.943444Z",
     "iopub.status.busy": "2022-10-19T15:56:08.942954Z",
     "iopub.status.idle": "2022-10-19T15:56:08.962650Z",
     "shell.execute_reply": "2022-10-19T15:56:08.962052Z"
    }
   },
   "outputs": [
    {
     "data": {
      "image/png": "[encoded data removed]",
      "text/latex": [
       "$\\displaystyle 0.241158577281409$"
      ],
      "text/plain": [
       "0.24115857728140888"
      ]
     },
     "execution_count": 9,
     "metadata": {},
     "output_type": "execute_result"
    }
   ],
   "source": [
    "1.96*(cdf_1['y'] - cdf_0['y']).std() / np.sqrt(len(df))"
   ]
  },
  {
   "cell_type": "markdown",
   "metadata": {},
   "source": [
    "Comparing to the estimate from OLS."
   ]
  },
  {
   "cell_type": "code",
   "execution_count": 10,
   "metadata": {
    "execution": {
     "iopub.execute_input": "2022-10-19T15:56:08.965558Z",
     "iopub.status.busy": "2022-10-19T15:56:08.965064Z",
     "iopub.status.idle": "2022-10-19T15:56:08.979979Z",
     "shell.execute_reply": "2022-10-19T15:56:08.979388Z"
    }
   },
   "outputs": [
    {
     "data": {
      "text/html": [
       "<table class=\"simpletable\">\n",
       "<caption>OLS Regression Results</caption>\n",
       "<tr>\n",
       "  <th>Dep. Variable:</th>            <td>y</td>        <th>  R-squared (uncentered):</th>      <td>   0.965</td> \n",
       "</tr>\n",
       "<tr>\n",
       "  <th>Model:</th>                   <td>OLS</td>       <th>  Adj. R-squared (uncentered):</th> <td>   0.965</td> \n",
       "</tr>\n",
       "<tr>\n",
       "  <th>Method:</th>             <td>Least Squares</td>  <th>  F-statistic:       </th>          <td>1.363e+04</td>\n",
       "</tr>\n",
       "<tr>\n",
       "  <th>Date:</th>             <td>Wed, 19 Oct 2022</td> <th>  Prob (F-statistic):</th>           <td>  0.00</td>  \n",
       "</tr>\n",
       "<tr>\n",
       "  <th>Time:</th>                 <td>15:56:08</td>     <th>  Log-Likelihood:    </th>          <td> -1437.9</td> \n",
       "</tr>\n",
       "<tr>\n",
       "  <th>No. Observations:</th>      <td>  1000</td>      <th>  AIC:               </th>          <td>   2880.</td> \n",
       "</tr>\n",
       "<tr>\n",
       "  <th>Df Residuals:</th>          <td>   998</td>      <th>  BIC:               </th>          <td>   2890.</td> \n",
       "</tr>\n",
       "<tr>\n",
       "  <th>Df Model:</th>              <td>     2</td>      <th>                     </th>              <td> </td>    \n",
       "</tr>\n",
       "<tr>\n",
       "  <th>Covariance Type:</th>      <td>nonrobust</td>    <th>                     </th>              <td> </td>    \n",
       "</tr>\n",
       "</table>\n",
       "<table class=\"simpletable\">\n",
       "<tr>\n",
       "   <td></td>     <th>coef</th>     <th>std err</th>      <th>t</th>      <th>P>|t|</th>  <th>[0.025</th>    <th>0.975]</th>  \n",
       "</tr>\n",
       "<tr>\n",
       "  <th>x1</th> <td>    2.6607</td> <td>    0.034</td> <td>   77.427</td> <td> 0.000</td> <td>    2.593</td> <td>    2.728</td>\n",
       "</tr>\n",
       "<tr>\n",
       "  <th>x2</th> <td>    5.0065</td> <td>    0.046</td> <td>  107.695</td> <td> 0.000</td> <td>    4.915</td> <td>    5.098</td>\n",
       "</tr>\n",
       "</table>\n",
       "<table class=\"simpletable\">\n",
       "<tr>\n",
       "  <th>Omnibus:</th>       <td> 0.180</td> <th>  Durbin-Watson:     </th> <td>   2.013</td>\n",
       "</tr>\n",
       "<tr>\n",
       "  <th>Prob(Omnibus):</th> <td> 0.914</td> <th>  Jarque-Bera (JB):  </th> <td>   0.251</td>\n",
       "</tr>\n",
       "<tr>\n",
       "  <th>Skew:</th>          <td>-0.021</td> <th>  Prob(JB):          </th> <td>   0.882</td>\n",
       "</tr>\n",
       "<tr>\n",
       "  <th>Kurtosis:</th>      <td> 2.934</td> <th>  Cond. No.          </th> <td>    1.63</td>\n",
       "</tr>\n",
       "</table><br/><br/>Notes:<br/>[1] R² is computed without centering (uncentered) since the model does not contain a constant.<br/>[2] Standard Errors assume that the covariance matrix of the errors is correctly specified."
      ],
      "text/plain": [
       "<class 'statsmodels.iolib.summary.Summary'>\n",
       "\"\"\"\n",
       "                                 OLS Regression Results                                \n",
       "=======================================================================================\n",
       "Dep. Variable:                      y   R-squared (uncentered):                   0.965\n",
       "Model:                            OLS   Adj. R-squared (uncentered):              0.965\n",
       "Method:                 Least Squares   F-statistic:                          1.363e+04\n",
       "Date:                Wed, 19 Oct 2022   Prob (F-statistic):                        0.00\n",
       "Time:                        15:56:08   Log-Likelihood:                         -1437.9\n",
       "No. Observations:                1000   AIC:                                      2880.\n",
       "Df Residuals:                     998   BIC:                                      2890.\n",
       "Df Model:                           2                                                  \n",
       "Covariance Type:            nonrobust                                                  \n",
       "==============================================================================\n",
       "                 coef    std err          t      P>|t|      [0.025      0.975]\n",
       "------------------------------------------------------------------------------\n",
       "x1             2.6607      0.034     77.427      0.000       2.593       2.728\n",
       "x2             5.0065      0.046    107.695      0.000       4.915       5.098\n",
       "==============================================================================\n",
       "Omnibus:                        0.180   Durbin-Watson:                   2.013\n",
       "Prob(Omnibus):                  0.914   Jarque-Bera (JB):                0.251\n",
       "Skew:                          -0.021   Prob(JB):                        0.882\n",
       "Kurtosis:                       2.934   Cond. No.                         1.63\n",
       "==============================================================================\n",
       "\n",
       "Notes:\n",
       "[1] R² is computed without centering (uncentered) since the model does not contain a constant.\n",
       "[2] Standard Errors assume that the covariance matrix of the errors is correctly specified.\n",
       "\"\"\""
      ]
     },
     "execution_count": 10,
     "metadata": {},
     "output_type": "execute_result"
    }
   ],
   "source": [
    "model = OLS(np.asarray(df[outcome]), np.asarray(df[[common_cause, treatment]], dtype=np.float64))\n",
    "result = model.fit()\n",
    "result.summary()"
   ]
  }
 ],
 "metadata": {
  "kernelspec": {
   "display_name": "Python 3",
   "language": "python",
   "name": "python3"
  },
  "language_info": {
   "codemirror_mode": {
    "name": "ipython",
    "version": 3
   },
   "file_extension": ".py",
   "mimetype": "text/x-python",
   "name": "python",
   "nbconvert_exporter": "python",
   "pygments_lexer": "ipython3",
   "version": "3.8.10"
  },
  "toc": {
   "base_numbering": 1,
   "nav_menu": {},
   "number_sections": false,
   "sideBar": true,
   "skip_h1_title": true,
   "title_cell": "Table of Contents",
   "title_sidebar": "Contents",
   "toc_cell": false,
   "toc_position": {},
   "toc_section_display": true,
   "toc_window_display": false
  }
 },
 "nbformat": 4,
 "nbformat_minor": 4
}
