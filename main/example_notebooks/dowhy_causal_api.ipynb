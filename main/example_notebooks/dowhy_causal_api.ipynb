{
 "cells": [
  {
   "cell_type": "markdown",
   "metadata": {},
   "source": [
    "# Demo for the DoWhy causal API\n",
    "We show a simple example of adding a causal extension to any dataframe. "
   ]
  },
  {
   "cell_type": "code",
   "execution_count": 1,
   "metadata": {
    "execution": {
     "iopub.execute_input": "2022-11-11T14:51:59.217182Z",
     "iopub.status.busy": "2022-11-11T14:51:59.216791Z",
     "iopub.status.idle": "2022-11-11T14:52:01.683109Z",
     "shell.execute_reply": "2022-11-11T14:52:01.681994Z"
    }
   },
   "outputs": [],
   "source": [
    "import dowhy.datasets\n",
    "import dowhy.api\n",
    "\n",
    "import numpy as np\n",
    "import pandas as pd\n",
    "\n",
    "from statsmodels.api import OLS"
   ]
  },
  {
   "cell_type": "code",
   "execution_count": 2,
   "metadata": {
    "execution": {
     "iopub.execute_input": "2022-11-11T14:52:01.688503Z",
     "iopub.status.busy": "2022-11-11T14:52:01.687721Z",
     "iopub.status.idle": "2022-11-11T14:52:01.756290Z",
     "shell.execute_reply": "2022-11-11T14:52:01.755070Z"
    }
   },
   "outputs": [
    {
     "data": {
      "text/html": [
       "<div>\n",
       "<style scoped>\n",
       "    .dataframe tbody tr th:only-of-type {\n",
       "        vertical-align: middle;\n",
       "    }\n",
       "\n",
       "    .dataframe tbody tr th {\n",
       "        vertical-align: top;\n",
       "    }\n",
       "\n",
       "    .dataframe thead th {\n",
       "        text-align: right;\n",
       "    }\n",
       "</style>\n",
       "<table border=\"1\" class=\"dataframe\">\n",
       "  <thead>\n",
       "    <tr style=\"text-align: right;\">\n",
       "      <th></th>\n",
       "      <th>W0</th>\n",
       "      <th>v0</th>\n",
       "      <th>y</th>\n",
       "    </tr>\n",
       "  </thead>\n",
       "  <tbody>\n",
       "    <tr>\n",
       "      <th>0</th>\n",
       "      <td>-0.576137</td>\n",
       "      <td>True</td>\n",
       "      <td>5.311164</td>\n",
       "    </tr>\n",
       "    <tr>\n",
       "      <th>1</th>\n",
       "      <td>0.134082</td>\n",
       "      <td>True</td>\n",
       "      <td>7.034830</td>\n",
       "    </tr>\n",
       "    <tr>\n",
       "      <th>2</th>\n",
       "      <td>0.619580</td>\n",
       "      <td>True</td>\n",
       "      <td>4.721515</td>\n",
       "    </tr>\n",
       "    <tr>\n",
       "      <th>3</th>\n",
       "      <td>-1.006582</td>\n",
       "      <td>True</td>\n",
       "      <td>5.320655</td>\n",
       "    </tr>\n",
       "    <tr>\n",
       "      <th>4</th>\n",
       "      <td>0.501089</td>\n",
       "      <td>False</td>\n",
       "      <td>1.414797</td>\n",
       "    </tr>\n",
       "    <tr>\n",
       "      <th>...</th>\n",
       "      <td>...</td>\n",
       "      <td>...</td>\n",
       "      <td>...</td>\n",
       "    </tr>\n",
       "    <tr>\n",
       "      <th>995</th>\n",
       "      <td>0.286471</td>\n",
       "      <td>False</td>\n",
       "      <td>0.694648</td>\n",
       "    </tr>\n",
       "    <tr>\n",
       "      <th>996</th>\n",
       "      <td>-0.427592</td>\n",
       "      <td>False</td>\n",
       "      <td>-0.495062</td>\n",
       "    </tr>\n",
       "    <tr>\n",
       "      <th>997</th>\n",
       "      <td>-0.092285</td>\n",
       "      <td>False</td>\n",
       "      <td>-0.954352</td>\n",
       "    </tr>\n",
       "    <tr>\n",
       "      <th>998</th>\n",
       "      <td>1.249877</td>\n",
       "      <td>True</td>\n",
       "      <td>5.298827</td>\n",
       "    </tr>\n",
       "    <tr>\n",
       "      <th>999</th>\n",
       "      <td>0.496956</td>\n",
       "      <td>True</td>\n",
       "      <td>6.379998</td>\n",
       "    </tr>\n",
       "  </tbody>\n",
       "</table>\n",
       "<p>1000 rows × 3 columns</p>\n",
       "</div>"
      ],
      "text/plain": [
       "           W0     v0         y\n",
       "0   -0.576137   True  5.311164\n",
       "1    0.134082   True  7.034830\n",
       "2    0.619580   True  4.721515\n",
       "3   -1.006582   True  5.320655\n",
       "4    0.501089  False  1.414797\n",
       "..        ...    ...       ...\n",
       "995  0.286471  False  0.694648\n",
       "996 -0.427592  False -0.495062\n",
       "997 -0.092285  False -0.954352\n",
       "998  1.249877   True  5.298827\n",
       "999  0.496956   True  6.379998\n",
       "\n",
       "[1000 rows x 3 columns]"
      ]
     },
     "execution_count": 2,
     "metadata": {},
     "output_type": "execute_result"
    }
   ],
   "source": [
    "data = dowhy.datasets.linear_dataset(beta=5,\n",
    "        num_common_causes=1,\n",
    "        num_instruments = 0,\n",
    "        num_samples=1000,\n",
    "        treatment_is_binary=True)\n",
    "df = data['df']\n",
    "df['y'] = df['y'] + np.random.normal(size=len(df)) # Adding noise to data. Without noise, the variance in Y|X, Z is zero, and mcmc fails.\n",
    "#data['dot_graph'] = 'digraph { v ->y;X0-> v;X0-> y;}'\n",
    "\n",
    "treatment= data[\"treatment_name\"][0]\n",
    "outcome = data[\"outcome_name\"][0]\n",
    "common_cause = data[\"common_causes_names\"][0]\n",
    "df"
   ]
  },
  {
   "cell_type": "code",
   "execution_count": 3,
   "metadata": {
    "execution": {
     "iopub.execute_input": "2022-11-11T14:52:01.760588Z",
     "iopub.status.busy": "2022-11-11T14:52:01.760288Z",
     "iopub.status.idle": "2022-11-11T14:52:01.993193Z",
     "shell.execute_reply": "2022-11-11T14:52:01.992394Z"
    }
   },
   "outputs": [
    {
     "data": {
      "text/plain": [
       "<AxesSubplot: xlabel='v0'>"
      ]
     },
     "execution_count": 3,
     "metadata": {},
     "output_type": "execute_result"
    },
    {
     "data": {
      "image/png": "[encoded data removed]",
      "text/plain": [
       "<Figure size 640x480 with 1 Axes>"
      ]
     },
     "metadata": {},
     "output_type": "display_data"
    }
   ],
   "source": [
    "# data['df'] is just a regular pandas.DataFrame\n",
    "df.causal.do(x=treatment,\n",
    "                     variable_types={treatment: 'b', outcome: 'c', common_cause: 'c'},\n",
    "                     outcome=outcome,\n",
    "                     common_causes=[common_cause],\n",
    "                     proceed_when_unidentifiable=True).groupby(treatment).mean().plot(y=outcome, kind='bar')"
   ]
  },
  {
   "cell_type": "code",
   "execution_count": 4,
   "metadata": {
    "execution": {
     "iopub.execute_input": "2022-11-11T14:52:01.998552Z",
     "iopub.status.busy": "2022-11-11T14:52:01.996682Z",
     "iopub.status.idle": "2022-11-11T14:52:02.176326Z",
     "shell.execute_reply": "2022-11-11T14:52:02.175392Z"
    }
   },
   "outputs": [
    {
     "data": {
      "text/plain": [
       "<AxesSubplot: xlabel='v0'>"
      ]
     },
     "execution_count": 4,
     "metadata": {},
     "output_type": "execute_result"
    },
    {
     "data": {
      "image/png": "[encoded data removed]",
      "text/plain": [
       "<Figure size 640x480 with 1 Axes>"
      ]
     },
     "metadata": {},
     "output_type": "display_data"
    }
   ],
   "source": [
    "df.causal.do(x={treatment: 1}, \n",
    "              variable_types={treatment:'b', outcome: 'c', common_cause: 'c'}, \n",
    "              outcome=outcome,\n",
    "              method='weighting', \n",
    "              common_causes=[common_cause],\n",
    "              proceed_when_unidentifiable=True).groupby(treatment).mean().plot(y=outcome, kind='bar')"
   ]
  },
  {
   "cell_type": "code",
   "execution_count": 5,
   "metadata": {
    "execution": {
     "iopub.execute_input": "2022-11-11T14:52:02.179987Z",
     "iopub.status.busy": "2022-11-11T14:52:02.179633Z",
     "iopub.status.idle": "2022-11-11T14:52:02.221141Z",
     "shell.execute_reply": "2022-11-11T14:52:02.220278Z"
    }
   },
   "outputs": [],
   "source": [
    "cdf_1 = df.causal.do(x={treatment: 1}, \n",
    "              variable_types={treatment: 'b', outcome: 'c', common_cause: 'c'}, \n",
    "              outcome=outcome, \n",
    "              dot_graph=data['dot_graph'],\n",
    "              proceed_when_unidentifiable=True)\n",
    "\n",
    "cdf_0 = df.causal.do(x={treatment: 0}, \n",
    "              variable_types={treatment: 'b', outcome: 'c', common_cause: 'c'}, \n",
    "              outcome=outcome, \n",
    "              dot_graph=data['dot_graph'],\n",
    "              proceed_when_unidentifiable=True)\n"
   ]
  },
  {
   "cell_type": "code",
   "execution_count": 6,
   "metadata": {
    "execution": {
     "iopub.execute_input": "2022-11-11T14:52:02.225153Z",
     "iopub.status.busy": "2022-11-11T14:52:02.224894Z",
     "iopub.status.idle": "2022-11-11T14:52:02.238293Z",
     "shell.execute_reply": "2022-11-11T14:52:02.237464Z"
    },
    "scrolled": true
   },
   "outputs": [
    {
     "data": {
      "text/html": [
       "<div>\n",
       "<style scoped>\n",
       "    .dataframe tbody tr th:only-of-type {\n",
       "        vertical-align: middle;\n",
       "    }\n",
       "\n",
       "    .dataframe tbody tr th {\n",
       "        vertical-align: top;\n",
       "    }\n",
       "\n",
       "    .dataframe thead th {\n",
       "        text-align: right;\n",
       "    }\n",
       "</style>\n",
       "<table border=\"1\" class=\"dataframe\">\n",
       "  <thead>\n",
       "    <tr style=\"text-align: right;\">\n",
       "      <th></th>\n",
       "      <th>W0</th>\n",
       "      <th>v0</th>\n",
       "      <th>y</th>\n",
       "      <th>propensity_score</th>\n",
       "      <th>weight</th>\n",
       "    </tr>\n",
       "  </thead>\n",
       "  <tbody>\n",
       "    <tr>\n",
       "      <th>0</th>\n",
       "      <td>1.464482</td>\n",
       "      <td>False</td>\n",
       "      <td>1.962616</td>\n",
       "      <td>0.492070</td>\n",
       "      <td>2.032230</td>\n",
       "    </tr>\n",
       "    <tr>\n",
       "      <th>1</th>\n",
       "      <td>1.181961</td>\n",
       "      <td>False</td>\n",
       "      <td>0.462154</td>\n",
       "      <td>0.496512</td>\n",
       "      <td>2.014051</td>\n",
       "    </tr>\n",
       "    <tr>\n",
       "      <th>2</th>\n",
       "      <td>1.431247</td>\n",
       "      <td>False</td>\n",
       "      <td>0.503697</td>\n",
       "      <td>0.492593</td>\n",
       "      <td>2.030074</td>\n",
       "    </tr>\n",
       "    <tr>\n",
       "      <th>3</th>\n",
       "      <td>1.960463</td>\n",
       "      <td>False</td>\n",
       "      <td>1.572044</td>\n",
       "      <td>0.484277</td>\n",
       "      <td>2.064935</td>\n",
       "    </tr>\n",
       "    <tr>\n",
       "      <th>4</th>\n",
       "      <td>0.189002</td>\n",
       "      <td>False</td>\n",
       "      <td>-0.563123</td>\n",
       "      <td>0.512122</td>\n",
       "      <td>1.952661</td>\n",
       "    </tr>\n",
       "    <tr>\n",
       "      <th>...</th>\n",
       "      <td>...</td>\n",
       "      <td>...</td>\n",
       "      <td>...</td>\n",
       "      <td>...</td>\n",
       "      <td>...</td>\n",
       "    </tr>\n",
       "    <tr>\n",
       "      <th>995</th>\n",
       "      <td>0.164003</td>\n",
       "      <td>False</td>\n",
       "      <td>0.018390</td>\n",
       "      <td>0.512514</td>\n",
       "      <td>1.951165</td>\n",
       "    </tr>\n",
       "    <tr>\n",
       "      <th>996</th>\n",
       "      <td>-0.225210</td>\n",
       "      <td>False</td>\n",
       "      <td>0.489504</td>\n",
       "      <td>0.518628</td>\n",
       "      <td>1.928165</td>\n",
       "    </tr>\n",
       "    <tr>\n",
       "      <th>997</th>\n",
       "      <td>0.359810</td>\n",
       "      <td>False</td>\n",
       "      <td>-1.978185</td>\n",
       "      <td>0.509437</td>\n",
       "      <td>1.962950</td>\n",
       "    </tr>\n",
       "    <tr>\n",
       "      <th>998</th>\n",
       "      <td>1.255530</td>\n",
       "      <td>False</td>\n",
       "      <td>0.666235</td>\n",
       "      <td>0.495355</td>\n",
       "      <td>2.018754</td>\n",
       "    </tr>\n",
       "    <tr>\n",
       "      <th>999</th>\n",
       "      <td>0.314341</td>\n",
       "      <td>False</td>\n",
       "      <td>-0.197617</td>\n",
       "      <td>0.510152</td>\n",
       "      <td>1.960201</td>\n",
       "    </tr>\n",
       "  </tbody>\n",
       "</table>\n",
       "<p>1000 rows × 5 columns</p>\n",
       "</div>"
      ],
      "text/plain": [
       "           W0     v0         y  propensity_score    weight\n",
       "0    1.464482  False  1.962616          0.492070  2.032230\n",
       "1    1.181961  False  0.462154          0.496512  2.014051\n",
       "2    1.431247  False  0.503697          0.492593  2.030074\n",
       "3    1.960463  False  1.572044          0.484277  2.064935\n",
       "4    0.189002  False -0.563123          0.512122  1.952661\n",
       "..        ...    ...       ...               ...       ...\n",
       "995  0.164003  False  0.018390          0.512514  1.951165\n",
       "996 -0.225210  False  0.489504          0.518628  1.928165\n",
       "997  0.359810  False -1.978185          0.509437  1.962950\n",
       "998  1.255530  False  0.666235          0.495355  2.018754\n",
       "999  0.314341  False -0.197617          0.510152  1.960201\n",
       "\n",
       "[1000 rows x 5 columns]"
      ]
     },
     "execution_count": 6,
     "metadata": {},
     "output_type": "execute_result"
    }
   ],
   "source": [
    "cdf_0"
   ]
  },
  {
   "cell_type": "code",
   "execution_count": 7,
   "metadata": {
    "execution": {
     "iopub.execute_input": "2022-11-11T14:52:02.242908Z",
     "iopub.status.busy": "2022-11-11T14:52:02.242519Z",
     "iopub.status.idle": "2022-11-11T14:52:02.256306Z",
     "shell.execute_reply": "2022-11-11T14:52:02.255378Z"
    }
   },
   "outputs": [
    {
     "data": {
      "text/html": [
       "<div>\n",
       "<style scoped>\n",
       "    .dataframe tbody tr th:only-of-type {\n",
       "        vertical-align: middle;\n",
       "    }\n",
       "\n",
       "    .dataframe tbody tr th {\n",
       "        vertical-align: top;\n",
       "    }\n",
       "\n",
       "    .dataframe thead th {\n",
       "        text-align: right;\n",
       "    }\n",
       "</style>\n",
       "<table border=\"1\" class=\"dataframe\">\n",
       "  <thead>\n",
       "    <tr style=\"text-align: right;\">\n",
       "      <th></th>\n",
       "      <th>W0</th>\n",
       "      <th>v0</th>\n",
       "      <th>y</th>\n",
       "      <th>propensity_score</th>\n",
       "      <th>weight</th>\n",
       "    </tr>\n",
       "  </thead>\n",
       "  <tbody>\n",
       "    <tr>\n",
       "      <th>0</th>\n",
       "      <td>0.636451</td>\n",
       "      <td>True</td>\n",
       "      <td>4.517692</td>\n",
       "      <td>0.494911</td>\n",
       "      <td>2.020564</td>\n",
       "    </tr>\n",
       "    <tr>\n",
       "      <th>1</th>\n",
       "      <td>0.657207</td>\n",
       "      <td>True</td>\n",
       "      <td>3.006623</td>\n",
       "      <td>0.495238</td>\n",
       "      <td>2.019232</td>\n",
       "    </tr>\n",
       "    <tr>\n",
       "      <th>2</th>\n",
       "      <td>-0.416703</td>\n",
       "      <td>True</td>\n",
       "      <td>4.746565</td>\n",
       "      <td>0.478366</td>\n",
       "      <td>2.090449</td>\n",
       "    </tr>\n",
       "    <tr>\n",
       "      <th>3</th>\n",
       "      <td>-0.670387</td>\n",
       "      <td>True</td>\n",
       "      <td>4.916105</td>\n",
       "      <td>0.474386</td>\n",
       "      <td>2.107986</td>\n",
       "    </tr>\n",
       "    <tr>\n",
       "      <th>4</th>\n",
       "      <td>1.584663</td>\n",
       "      <td>True</td>\n",
       "      <td>6.256285</td>\n",
       "      <td>0.509819</td>\n",
       "      <td>1.961482</td>\n",
       "    </tr>\n",
       "    <tr>\n",
       "      <th>...</th>\n",
       "      <td>...</td>\n",
       "      <td>...</td>\n",
       "      <td>...</td>\n",
       "      <td>...</td>\n",
       "      <td>...</td>\n",
       "    </tr>\n",
       "    <tr>\n",
       "      <th>995</th>\n",
       "      <td>1.353802</td>\n",
       "      <td>True</td>\n",
       "      <td>5.857645</td>\n",
       "      <td>0.506190</td>\n",
       "      <td>1.975544</td>\n",
       "    </tr>\n",
       "    <tr>\n",
       "      <th>996</th>\n",
       "      <td>0.657243</td>\n",
       "      <td>True</td>\n",
       "      <td>6.731408</td>\n",
       "      <td>0.495238</td>\n",
       "      <td>2.019230</td>\n",
       "    </tr>\n",
       "    <tr>\n",
       "      <th>997</th>\n",
       "      <td>1.032322</td>\n",
       "      <td>True</td>\n",
       "      <td>5.412787</td>\n",
       "      <td>0.501135</td>\n",
       "      <td>1.995468</td>\n",
       "    </tr>\n",
       "    <tr>\n",
       "      <th>998</th>\n",
       "      <td>0.835110</td>\n",
       "      <td>True</td>\n",
       "      <td>5.877864</td>\n",
       "      <td>0.498035</td>\n",
       "      <td>2.007892</td>\n",
       "    </tr>\n",
       "    <tr>\n",
       "      <th>999</th>\n",
       "      <td>-0.056297</td>\n",
       "      <td>True</td>\n",
       "      <td>6.167784</td>\n",
       "      <td>0.484025</td>\n",
       "      <td>2.066010</td>\n",
       "    </tr>\n",
       "  </tbody>\n",
       "</table>\n",
       "<p>1000 rows × 5 columns</p>\n",
       "</div>"
      ],
      "text/plain": [
       "           W0    v0         y  propensity_score    weight\n",
       "0    0.636451  True  4.517692          0.494911  2.020564\n",
       "1    0.657207  True  3.006623          0.495238  2.019232\n",
       "2   -0.416703  True  4.746565          0.478366  2.090449\n",
       "3   -0.670387  True  4.916105          0.474386  2.107986\n",
       "4    1.584663  True  6.256285          0.509819  1.961482\n",
       "..        ...   ...       ...               ...       ...\n",
       "995  1.353802  True  5.857645          0.506190  1.975544\n",
       "996  0.657243  True  6.731408          0.495238  2.019230\n",
       "997  1.032322  True  5.412787          0.501135  1.995468\n",
       "998  0.835110  True  5.877864          0.498035  2.007892\n",
       "999 -0.056297  True  6.167784          0.484025  2.066010\n",
       "\n",
       "[1000 rows x 5 columns]"
      ]
     },
     "execution_count": 7,
     "metadata": {},
     "output_type": "execute_result"
    }
   ],
   "source": [
    "cdf_1"
   ]
  },
  {
   "cell_type": "markdown",
   "metadata": {},
   "source": [
    "## Comparing the estimate to Linear Regression\n",
    "First, estimating the effect using the causal data frame, and the 95% confidence interval."
   ]
  },
  {
   "cell_type": "code",
   "execution_count": 8,
   "metadata": {
    "execution": {
     "iopub.execute_input": "2022-11-11T14:52:02.260284Z",
     "iopub.status.busy": "2022-11-11T14:52:02.259986Z",
     "iopub.status.idle": "2022-11-11T14:52:02.334999Z",
     "shell.execute_reply": "2022-11-11T14:52:02.334037Z"
    }
   },
   "outputs": [
    {
     "data": {
      "image/png": "[encoded data removed]",
      "text/latex": [
       "$\\displaystyle 5.05554252990036$"
      ],
      "text/plain": [
       "5.055542529900361"
      ]
     },
     "execution_count": 8,
     "metadata": {},
     "output_type": "execute_result"
    }
   ],
   "source": [
    "(cdf_1['y'] - cdf_0['y']).mean()"
   ]
  },
  {
   "cell_type": "code",
   "execution_count": 9,
   "metadata": {
    "execution": {
     "iopub.execute_input": "2022-11-11T14:52:02.339061Z",
     "iopub.status.busy": "2022-11-11T14:52:02.338760Z",
     "iopub.status.idle": "2022-11-11T14:52:02.366884Z",
     "shell.execute_reply": "2022-11-11T14:52:02.365976Z"
    }
   },
   "outputs": [
    {
     "data": {
      "image/png": "[encoded data removed]",
      "text/latex": [
       "$\\displaystyle 0.0978459979017372$"
      ],
      "text/plain": [
       "0.09784599790173724"
      ]
     },
     "execution_count": 9,
     "metadata": {},
     "output_type": "execute_result"
    }
   ],
   "source": [
    "1.96*(cdf_1['y'] - cdf_0['y']).std() / np.sqrt(len(df))"
   ]
  },
  {
   "cell_type": "markdown",
   "metadata": {},
   "source": [
    "Comparing to the estimate from OLS."
   ]
  },
  {
   "cell_type": "code",
   "execution_count": 10,
   "metadata": {
    "execution": {
     "iopub.execute_input": "2022-11-11T14:52:02.370869Z",
     "iopub.status.busy": "2022-11-11T14:52:02.370453Z",
     "iopub.status.idle": "2022-11-11T14:52:02.392325Z",
     "shell.execute_reply": "2022-11-11T14:52:02.391333Z"
    }
   },
   "outputs": [
    {
     "data": {
      "text/html": [
       "<table class=\"simpletable\">\n",
       "<caption>OLS Regression Results</caption>\n",
       "<tr>\n",
       "  <th>Dep. Variable:</th>            <td>y</td>        <th>  R-squared (uncentered):</th>      <td>   0.940</td>\n",
       "</tr>\n",
       "<tr>\n",
       "  <th>Model:</th>                   <td>OLS</td>       <th>  Adj. R-squared (uncentered):</th> <td>   0.939</td>\n",
       "</tr>\n",
       "<tr>\n",
       "  <th>Method:</th>             <td>Least Squares</td>  <th>  F-statistic:       </th>          <td>   7762.</td>\n",
       "</tr>\n",
       "<tr>\n",
       "  <th>Date:</th>             <td>Fri, 11 Nov 2022</td> <th>  Prob (F-statistic):</th>           <td>  0.00</td> \n",
       "</tr>\n",
       "<tr>\n",
       "  <th>Time:</th>                 <td>14:52:02</td>     <th>  Log-Likelihood:    </th>          <td> -1376.0</td>\n",
       "</tr>\n",
       "<tr>\n",
       "  <th>No. Observations:</th>      <td>  1000</td>      <th>  AIC:               </th>          <td>   2756.</td>\n",
       "</tr>\n",
       "<tr>\n",
       "  <th>Df Residuals:</th>          <td>   998</td>      <th>  BIC:               </th>          <td>   2766.</td>\n",
       "</tr>\n",
       "<tr>\n",
       "  <th>Df Model:</th>              <td>     2</td>      <th>                     </th>              <td> </td>   \n",
       "</tr>\n",
       "<tr>\n",
       "  <th>Covariance Type:</th>      <td>nonrobust</td>    <th>                     </th>              <td> </td>   \n",
       "</tr>\n",
       "</table>\n",
       "<table class=\"simpletable\">\n",
       "<tr>\n",
       "   <td></td>     <th>coef</th>     <th>std err</th>      <th>t</th>      <th>P>|t|</th>  <th>[0.025</th>    <th>0.975]</th>  \n",
       "</tr>\n",
       "<tr>\n",
       "  <th>x1</th> <td>    0.5511</td> <td>    0.029</td> <td>   18.709</td> <td> 0.000</td> <td>    0.493</td> <td>    0.609</td>\n",
       "</tr>\n",
       "<tr>\n",
       "  <th>x2</th> <td>    5.0600</td> <td>    0.046</td> <td>  111.202</td> <td> 0.000</td> <td>    4.971</td> <td>    5.149</td>\n",
       "</tr>\n",
       "</table>\n",
       "<table class=\"simpletable\">\n",
       "<tr>\n",
       "  <th>Omnibus:</th>       <td>16.215</td> <th>  Durbin-Watson:     </th> <td>   2.028</td>\n",
       "</tr>\n",
       "<tr>\n",
       "  <th>Prob(Omnibus):</th> <td> 0.000</td> <th>  Jarque-Bera (JB):  </th> <td>  16.564</td>\n",
       "</tr>\n",
       "<tr>\n",
       "  <th>Skew:</th>          <td>-0.301</td> <th>  Prob(JB):          </th> <td>0.000253</td>\n",
       "</tr>\n",
       "<tr>\n",
       "  <th>Kurtosis:</th>      <td> 3.187</td> <th>  Cond. No.          </th> <td>    1.73</td>\n",
       "</tr>\n",
       "</table><br/><br/>Notes:<br/>[1] R² is computed without centering (uncentered) since the model does not contain a constant.<br/>[2] Standard Errors assume that the covariance matrix of the errors is correctly specified."
      ],
      "text/plain": [
       "<class 'statsmodels.iolib.summary.Summary'>\n",
       "\"\"\"\n",
       "                                 OLS Regression Results                                \n",
       "=======================================================================================\n",
       "Dep. Variable:                      y   R-squared (uncentered):                   0.940\n",
       "Model:                            OLS   Adj. R-squared (uncentered):              0.939\n",
       "Method:                 Least Squares   F-statistic:                              7762.\n",
       "Date:                Fri, 11 Nov 2022   Prob (F-statistic):                        0.00\n",
       "Time:                        14:52:02   Log-Likelihood:                         -1376.0\n",
       "No. Observations:                1000   AIC:                                      2756.\n",
       "Df Residuals:                     998   BIC:                                      2766.\n",
       "Df Model:                           2                                                  \n",
       "Covariance Type:            nonrobust                                                  \n",
       "==============================================================================\n",
       "                 coef    std err          t      P>|t|      [0.025      0.975]\n",
       "------------------------------------------------------------------------------\n",
       "x1             0.5511      0.029     18.709      0.000       0.493       0.609\n",
       "x2             5.0600      0.046    111.202      0.000       4.971       5.149\n",
       "==============================================================================\n",
       "Omnibus:                       16.215   Durbin-Watson:                   2.028\n",
       "Prob(Omnibus):                  0.000   Jarque-Bera (JB):               16.564\n",
       "Skew:                          -0.301   Prob(JB):                     0.000253\n",
       "Kurtosis:                       3.187   Cond. No.                         1.73\n",
       "==============================================================================\n",
       "\n",
       "Notes:\n",
       "[1] R² is computed without centering (uncentered) since the model does not contain a constant.\n",
       "[2] Standard Errors assume that the covariance matrix of the errors is correctly specified.\n",
       "\"\"\""
      ]
     },
     "execution_count": 10,
     "metadata": {},
     "output_type": "execute_result"
    }
   ],
   "source": [
    "model = OLS(np.asarray(df[outcome]), np.asarray(df[[common_cause, treatment]], dtype=np.float64))\n",
    "result = model.fit()\n",
    "result.summary()"
   ]
  }
 ],
 "metadata": {
  "kernelspec": {
   "display_name": "Python 3",
   "language": "python",
   "name": "python3"
  },
  "language_info": {
   "codemirror_mode": {
    "name": "ipython",
    "version": 3
   },
   "file_extension": ".py",
   "mimetype": "text/x-python",
   "name": "python",
   "nbconvert_exporter": "python",
   "pygments_lexer": "ipython3",
   "version": "3.8.10"
  },
  "toc": {
   "base_numbering": 1,
   "nav_menu": {},
   "number_sections": false,
   "sideBar": true,
   "skip_h1_title": true,
   "title_cell": "Table of Contents",
   "title_sidebar": "Contents",
   "toc_cell": false,
   "toc_position": {},
   "toc_section_display": true,
   "toc_window_display": false
  }
 },
 "nbformat": 4,
 "nbformat_minor": 4
}
