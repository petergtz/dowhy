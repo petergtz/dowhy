{
 "cells": [
  {
   "cell_type": "markdown",
   "metadata": {},
   "source": [
    "# Demo for the DoWhy causal API\n",
    "We show a simple example of adding a causal extension to any dataframe. "
   ]
  },
  {
   "cell_type": "code",
   "execution_count": 1,
   "metadata": {
    "execution": {
     "iopub.execute_input": "2022-10-25T18:54:32.736932Z",
     "iopub.status.busy": "2022-10-25T18:54:32.736225Z",
     "iopub.status.idle": "2022-10-25T18:54:34.701979Z",
     "shell.execute_reply": "2022-10-25T18:54:34.701263Z"
    }
   },
   "outputs": [],
   "source": [
    "import dowhy.datasets\n",
    "import dowhy.api\n",
    "\n",
    "import numpy as np\n",
    "import pandas as pd\n",
    "\n",
    "from statsmodels.api import OLS"
   ]
  },
  {
   "cell_type": "code",
   "execution_count": 2,
   "metadata": {
    "execution": {
     "iopub.execute_input": "2022-10-25T18:54:34.707251Z",
     "iopub.status.busy": "2022-10-25T18:54:34.705675Z",
     "iopub.status.idle": "2022-10-25T18:54:34.752388Z",
     "shell.execute_reply": "2022-10-25T18:54:34.751725Z"
    }
   },
   "outputs": [
    {
     "data": {
      "text/html": [
       "<div>\n",
       "<style scoped>\n",
       "    .dataframe tbody tr th:only-of-type {\n",
       "        vertical-align: middle;\n",
       "    }\n",
       "\n",
       "    .dataframe tbody tr th {\n",
       "        vertical-align: top;\n",
       "    }\n",
       "\n",
       "    .dataframe thead th {\n",
       "        text-align: right;\n",
       "    }\n",
       "</style>\n",
       "<table border=\"1\" class=\"dataframe\">\n",
       "  <thead>\n",
       "    <tr style=\"text-align: right;\">\n",
       "      <th></th>\n",
       "      <th>W0</th>\n",
       "      <th>v0</th>\n",
       "      <th>y</th>\n",
       "    </tr>\n",
       "  </thead>\n",
       "  <tbody>\n",
       "    <tr>\n",
       "      <th>0</th>\n",
       "      <td>1.457287</td>\n",
       "      <td>True</td>\n",
       "      <td>8.646741</td>\n",
       "    </tr>\n",
       "    <tr>\n",
       "      <th>1</th>\n",
       "      <td>0.747700</td>\n",
       "      <td>True</td>\n",
       "      <td>8.452898</td>\n",
       "    </tr>\n",
       "    <tr>\n",
       "      <th>2</th>\n",
       "      <td>0.875473</td>\n",
       "      <td>False</td>\n",
       "      <td>1.950375</td>\n",
       "    </tr>\n",
       "    <tr>\n",
       "      <th>3</th>\n",
       "      <td>0.166488</td>\n",
       "      <td>False</td>\n",
       "      <td>1.003343</td>\n",
       "    </tr>\n",
       "    <tr>\n",
       "      <th>4</th>\n",
       "      <td>2.208260</td>\n",
       "      <td>True</td>\n",
       "      <td>9.351602</td>\n",
       "    </tr>\n",
       "    <tr>\n",
       "      <th>...</th>\n",
       "      <td>...</td>\n",
       "      <td>...</td>\n",
       "      <td>...</td>\n",
       "    </tr>\n",
       "    <tr>\n",
       "      <th>995</th>\n",
       "      <td>1.820145</td>\n",
       "      <td>True</td>\n",
       "      <td>10.513021</td>\n",
       "    </tr>\n",
       "    <tr>\n",
       "      <th>996</th>\n",
       "      <td>1.234316</td>\n",
       "      <td>True</td>\n",
       "      <td>7.121028</td>\n",
       "    </tr>\n",
       "    <tr>\n",
       "      <th>997</th>\n",
       "      <td>0.992891</td>\n",
       "      <td>True</td>\n",
       "      <td>6.199318</td>\n",
       "    </tr>\n",
       "    <tr>\n",
       "      <th>998</th>\n",
       "      <td>1.284357</td>\n",
       "      <td>False</td>\n",
       "      <td>3.027734</td>\n",
       "    </tr>\n",
       "    <tr>\n",
       "      <th>999</th>\n",
       "      <td>0.472034</td>\n",
       "      <td>True</td>\n",
       "      <td>5.527123</td>\n",
       "    </tr>\n",
       "  </tbody>\n",
       "</table>\n",
       "<p>1000 rows × 3 columns</p>\n",
       "</div>"
      ],
      "text/plain": [
       "           W0     v0          y\n",
       "0    1.457287   True   8.646741\n",
       "1    0.747700   True   8.452898\n",
       "2    0.875473  False   1.950375\n",
       "3    0.166488  False   1.003343\n",
       "4    2.208260   True   9.351602\n",
       "..        ...    ...        ...\n",
       "995  1.820145   True  10.513021\n",
       "996  1.234316   True   7.121028\n",
       "997  0.992891   True   6.199318\n",
       "998  1.284357  False   3.027734\n",
       "999  0.472034   True   5.527123\n",
       "\n",
       "[1000 rows x 3 columns]"
      ]
     },
     "execution_count": 2,
     "metadata": {},
     "output_type": "execute_result"
    }
   ],
   "source": [
    "data = dowhy.datasets.linear_dataset(beta=5,\n",
    "        num_common_causes=1,\n",
    "        num_instruments = 0,\n",
    "        num_samples=1000,\n",
    "        treatment_is_binary=True)\n",
    "df = data['df']\n",
    "df['y'] = df['y'] + np.random.normal(size=len(df)) # Adding noise to data. Without noise, the variance in Y|X, Z is zero, and mcmc fails.\n",
    "#data['dot_graph'] = 'digraph { v ->y;X0-> v;X0-> y;}'\n",
    "\n",
    "treatment= data[\"treatment_name\"][0]\n",
    "outcome = data[\"outcome_name\"][0]\n",
    "common_cause = data[\"common_causes_names\"][0]\n",
    "df"
   ]
  },
  {
   "cell_type": "code",
   "execution_count": 3,
   "metadata": {
    "execution": {
     "iopub.execute_input": "2022-10-25T18:54:34.755915Z",
     "iopub.status.busy": "2022-10-25T18:54:34.755292Z",
     "iopub.status.idle": "2022-10-25T18:54:34.908920Z",
     "shell.execute_reply": "2022-10-25T18:54:34.908234Z"
    }
   },
   "outputs": [
    {
     "data": {
      "text/plain": [
       "<AxesSubplot: xlabel='v0'>"
      ]
     },
     "execution_count": 3,
     "metadata": {},
     "output_type": "execute_result"
    },
    {
     "data": {
      "image/png": "[encoded data removed]",
      "text/plain": [
       "<Figure size 640x480 with 1 Axes>"
      ]
     },
     "metadata": {},
     "output_type": "display_data"
    }
   ],
   "source": [
    "# data['df'] is just a regular pandas.DataFrame\n",
    "df.causal.do(x=treatment,\n",
    "                     variable_types={treatment: 'b', outcome: 'c', common_cause: 'c'},\n",
    "                     outcome=outcome,\n",
    "                     common_causes=[common_cause],\n",
    "                     proceed_when_unidentifiable=True).groupby(treatment).mean().plot(y=outcome, kind='bar')"
   ]
  },
  {
   "cell_type": "code",
   "execution_count": 4,
   "metadata": {
    "execution": {
     "iopub.execute_input": "2022-10-25T18:54:34.912086Z",
     "iopub.status.busy": "2022-10-25T18:54:34.911848Z",
     "iopub.status.idle": "2022-10-25T18:54:35.037256Z",
     "shell.execute_reply": "2022-10-25T18:54:35.036689Z"
    }
   },
   "outputs": [
    {
     "data": {
      "text/plain": [
       "<AxesSubplot: xlabel='v0'>"
      ]
     },
     "execution_count": 4,
     "metadata": {},
     "output_type": "execute_result"
    },
    {
     "data": {
      "image/png": "[encoded data removed]",
      "text/plain": [
       "<Figure size 640x480 with 1 Axes>"
      ]
     },
     "metadata": {},
     "output_type": "display_data"
    }
   ],
   "source": [
    "df.causal.do(x={treatment: 1}, \n",
    "              variable_types={treatment:'b', outcome: 'c', common_cause: 'c'}, \n",
    "              outcome=outcome,\n",
    "              method='weighting', \n",
    "              common_causes=[common_cause],\n",
    "              proceed_when_unidentifiable=True).groupby(treatment).mean().plot(y=outcome, kind='bar')"
   ]
  },
  {
   "cell_type": "code",
   "execution_count": 5,
   "metadata": {
    "execution": {
     "iopub.execute_input": "2022-10-25T18:54:35.041461Z",
     "iopub.status.busy": "2022-10-25T18:54:35.040423Z",
     "iopub.status.idle": "2022-10-25T18:54:35.072857Z",
     "shell.execute_reply": "2022-10-25T18:54:35.072186Z"
    }
   },
   "outputs": [],
   "source": [
    "cdf_1 = df.causal.do(x={treatment: 1}, \n",
    "              variable_types={treatment: 'b', outcome: 'c', common_cause: 'c'}, \n",
    "              outcome=outcome, \n",
    "              dot_graph=data['dot_graph'],\n",
    "              proceed_when_unidentifiable=True)\n",
    "\n",
    "cdf_0 = df.causal.do(x={treatment: 0}, \n",
    "              variable_types={treatment: 'b', outcome: 'c', common_cause: 'c'}, \n",
    "              outcome=outcome, \n",
    "              dot_graph=data['dot_graph'],\n",
    "              proceed_when_unidentifiable=True)\n"
   ]
  },
  {
   "cell_type": "code",
   "execution_count": 6,
   "metadata": {
    "execution": {
     "iopub.execute_input": "2022-10-25T18:54:35.076650Z",
     "iopub.status.busy": "2022-10-25T18:54:35.076253Z",
     "iopub.status.idle": "2022-10-25T18:54:35.088090Z",
     "shell.execute_reply": "2022-10-25T18:54:35.087421Z"
    },
    "scrolled": true
   },
   "outputs": [
    {
     "data": {
      "text/html": [
       "<div>\n",
       "<style scoped>\n",
       "    .dataframe tbody tr th:only-of-type {\n",
       "        vertical-align: middle;\n",
       "    }\n",
       "\n",
       "    .dataframe tbody tr th {\n",
       "        vertical-align: top;\n",
       "    }\n",
       "\n",
       "    .dataframe thead th {\n",
       "        text-align: right;\n",
       "    }\n",
       "</style>\n",
       "<table border=\"1\" class=\"dataframe\">\n",
       "  <thead>\n",
       "    <tr style=\"text-align: right;\">\n",
       "      <th></th>\n",
       "      <th>W0</th>\n",
       "      <th>v0</th>\n",
       "      <th>y</th>\n",
       "      <th>propensity_score</th>\n",
       "      <th>weight</th>\n",
       "    </tr>\n",
       "  </thead>\n",
       "  <tbody>\n",
       "    <tr>\n",
       "      <th>0</th>\n",
       "      <td>1.407103</td>\n",
       "      <td>False</td>\n",
       "      <td>3.490308</td>\n",
       "      <td>0.083508</td>\n",
       "      <td>11.974843</td>\n",
       "    </tr>\n",
       "    <tr>\n",
       "      <th>1</th>\n",
       "      <td>-0.082321</td>\n",
       "      <td>False</td>\n",
       "      <td>0.292104</td>\n",
       "      <td>0.522553</td>\n",
       "      <td>1.913681</td>\n",
       "    </tr>\n",
       "    <tr>\n",
       "      <th>2</th>\n",
       "      <td>0.755723</td>\n",
       "      <td>False</td>\n",
       "      <td>1.231772</td>\n",
       "      <td>0.212748</td>\n",
       "      <td>4.700393</td>\n",
       "    </tr>\n",
       "    <tr>\n",
       "      <th>3</th>\n",
       "      <td>-0.337036</td>\n",
       "      <td>False</td>\n",
       "      <td>-2.439381</td>\n",
       "      <td>0.626071</td>\n",
       "      <td>1.597263</td>\n",
       "    </tr>\n",
       "    <tr>\n",
       "      <th>4</th>\n",
       "      <td>2.432504</td>\n",
       "      <td>False</td>\n",
       "      <td>5.885953</td>\n",
       "      <td>0.016190</td>\n",
       "      <td>61.765474</td>\n",
       "    </tr>\n",
       "    <tr>\n",
       "      <th>...</th>\n",
       "      <td>...</td>\n",
       "      <td>...</td>\n",
       "      <td>...</td>\n",
       "      <td>...</td>\n",
       "      <td>...</td>\n",
       "    </tr>\n",
       "    <tr>\n",
       "      <th>995</th>\n",
       "      <td>0.733849</td>\n",
       "      <td>False</td>\n",
       "      <td>0.577474</td>\n",
       "      <td>0.218927</td>\n",
       "      <td>4.567736</td>\n",
       "    </tr>\n",
       "    <tr>\n",
       "      <th>996</th>\n",
       "      <td>1.135329</td>\n",
       "      <td>False</td>\n",
       "      <td>1.945608</td>\n",
       "      <td>0.125427</td>\n",
       "      <td>7.972743</td>\n",
       "    </tr>\n",
       "    <tr>\n",
       "      <th>997</th>\n",
       "      <td>-0.337595</td>\n",
       "      <td>False</td>\n",
       "      <td>-0.769321</td>\n",
       "      <td>0.626290</td>\n",
       "      <td>1.596705</td>\n",
       "    </tr>\n",
       "    <tr>\n",
       "      <th>998</th>\n",
       "      <td>0.690738</td>\n",
       "      <td>False</td>\n",
       "      <td>3.520266</td>\n",
       "      <td>0.231479</td>\n",
       "      <td>4.320043</td>\n",
       "    </tr>\n",
       "    <tr>\n",
       "      <th>999</th>\n",
       "      <td>1.277158</td>\n",
       "      <td>False</td>\n",
       "      <td>3.593263</td>\n",
       "      <td>0.101677</td>\n",
       "      <td>9.835027</td>\n",
       "    </tr>\n",
       "  </tbody>\n",
       "</table>\n",
       "<p>1000 rows × 5 columns</p>\n",
       "</div>"
      ],
      "text/plain": [
       "           W0     v0         y  propensity_score     weight\n",
       "0    1.407103  False  3.490308          0.083508  11.974843\n",
       "1   -0.082321  False  0.292104          0.522553   1.913681\n",
       "2    0.755723  False  1.231772          0.212748   4.700393\n",
       "3   -0.337036  False -2.439381          0.626071   1.597263\n",
       "4    2.432504  False  5.885953          0.016190  61.765474\n",
       "..        ...    ...       ...               ...        ...\n",
       "995  0.733849  False  0.577474          0.218927   4.567736\n",
       "996  1.135329  False  1.945608          0.125427   7.972743\n",
       "997 -0.337595  False -0.769321          0.626290   1.596705\n",
       "998  0.690738  False  3.520266          0.231479   4.320043\n",
       "999  1.277158  False  3.593263          0.101677   9.835027\n",
       "\n",
       "[1000 rows x 5 columns]"
      ]
     },
     "execution_count": 6,
     "metadata": {},
     "output_type": "execute_result"
    }
   ],
   "source": [
    "cdf_0"
   ]
  },
  {
   "cell_type": "code",
   "execution_count": 7,
   "metadata": {
    "execution": {
     "iopub.execute_input": "2022-10-25T18:54:35.091257Z",
     "iopub.status.busy": "2022-10-25T18:54:35.090675Z",
     "iopub.status.idle": "2022-10-25T18:54:35.100820Z",
     "shell.execute_reply": "2022-10-25T18:54:35.100198Z"
    }
   },
   "outputs": [
    {
     "data": {
      "text/html": [
       "<div>\n",
       "<style scoped>\n",
       "    .dataframe tbody tr th:only-of-type {\n",
       "        vertical-align: middle;\n",
       "    }\n",
       "\n",
       "    .dataframe tbody tr th {\n",
       "        vertical-align: top;\n",
       "    }\n",
       "\n",
       "    .dataframe thead th {\n",
       "        text-align: right;\n",
       "    }\n",
       "</style>\n",
       "<table border=\"1\" class=\"dataframe\">\n",
       "  <thead>\n",
       "    <tr style=\"text-align: right;\">\n",
       "      <th></th>\n",
       "      <th>W0</th>\n",
       "      <th>v0</th>\n",
       "      <th>y</th>\n",
       "      <th>propensity_score</th>\n",
       "      <th>weight</th>\n",
       "    </tr>\n",
       "  </thead>\n",
       "  <tbody>\n",
       "    <tr>\n",
       "      <th>0</th>\n",
       "      <td>-0.308391</td>\n",
       "      <td>True</td>\n",
       "      <td>2.580572</td>\n",
       "      <td>0.385187</td>\n",
       "      <td>2.596143</td>\n",
       "    </tr>\n",
       "    <tr>\n",
       "      <th>1</th>\n",
       "      <td>0.391715</td>\n",
       "      <td>True</td>\n",
       "      <td>6.225666</td>\n",
       "      <td>0.668388</td>\n",
       "      <td>1.496137</td>\n",
       "    </tr>\n",
       "    <tr>\n",
       "      <th>2</th>\n",
       "      <td>0.717280</td>\n",
       "      <td>True</td>\n",
       "      <td>6.949139</td>\n",
       "      <td>0.776308</td>\n",
       "      <td>1.288149</td>\n",
       "    </tr>\n",
       "    <tr>\n",
       "      <th>3</th>\n",
       "      <td>0.215376</td>\n",
       "      <td>True</td>\n",
       "      <td>4.293439</td>\n",
       "      <td>0.600270</td>\n",
       "      <td>1.665918</td>\n",
       "    </tr>\n",
       "    <tr>\n",
       "      <th>4</th>\n",
       "      <td>-0.608431</td>\n",
       "      <td>True</td>\n",
       "      <td>3.930855</td>\n",
       "      <td>0.275207</td>\n",
       "      <td>3.633629</td>\n",
       "    </tr>\n",
       "    <tr>\n",
       "      <th>...</th>\n",
       "      <td>...</td>\n",
       "      <td>...</td>\n",
       "      <td>...</td>\n",
       "      <td>...</td>\n",
       "      <td>...</td>\n",
       "    </tr>\n",
       "    <tr>\n",
       "      <th>995</th>\n",
       "      <td>0.692377</td>\n",
       "      <td>True</td>\n",
       "      <td>6.179087</td>\n",
       "      <td>0.769007</td>\n",
       "      <td>1.300378</td>\n",
       "    </tr>\n",
       "    <tr>\n",
       "      <th>996</th>\n",
       "      <td>1.240776</td>\n",
       "      <td>True</td>\n",
       "      <td>8.982915</td>\n",
       "      <td>0.892641</td>\n",
       "      <td>1.120272</td>\n",
       "    </tr>\n",
       "    <tr>\n",
       "      <th>997</th>\n",
       "      <td>1.548809</td>\n",
       "      <td>True</td>\n",
       "      <td>10.468078</td>\n",
       "      <td>0.932900</td>\n",
       "      <td>1.071926</td>\n",
       "    </tr>\n",
       "    <tr>\n",
       "      <th>998</th>\n",
       "      <td>1.203342</td>\n",
       "      <td>True</td>\n",
       "      <td>7.826497</td>\n",
       "      <td>0.886505</td>\n",
       "      <td>1.128026</td>\n",
       "    </tr>\n",
       "    <tr>\n",
       "      <th>999</th>\n",
       "      <td>2.322025</td>\n",
       "      <td>True</td>\n",
       "      <td>11.719491</td>\n",
       "      <td>0.980595</td>\n",
       "      <td>1.019789</td>\n",
       "    </tr>\n",
       "  </tbody>\n",
       "</table>\n",
       "<p>1000 rows × 5 columns</p>\n",
       "</div>"
      ],
      "text/plain": [
       "           W0    v0          y  propensity_score    weight\n",
       "0   -0.308391  True   2.580572          0.385187  2.596143\n",
       "1    0.391715  True   6.225666          0.668388  1.496137\n",
       "2    0.717280  True   6.949139          0.776308  1.288149\n",
       "3    0.215376  True   4.293439          0.600270  1.665918\n",
       "4   -0.608431  True   3.930855          0.275207  3.633629\n",
       "..        ...   ...        ...               ...       ...\n",
       "995  0.692377  True   6.179087          0.769007  1.300378\n",
       "996  1.240776  True   8.982915          0.892641  1.120272\n",
       "997  1.548809  True  10.468078          0.932900  1.071926\n",
       "998  1.203342  True   7.826497          0.886505  1.128026\n",
       "999  2.322025  True  11.719491          0.980595  1.019789\n",
       "\n",
       "[1000 rows x 5 columns]"
      ]
     },
     "execution_count": 7,
     "metadata": {},
     "output_type": "execute_result"
    }
   ],
   "source": [
    "cdf_1"
   ]
  },
  {
   "cell_type": "markdown",
   "metadata": {},
   "source": [
    "## Comparing the estimate to Linear Regression\n",
    "First, estimating the effect using the causal data frame, and the 95% confidence interval."
   ]
  },
  {
   "cell_type": "code",
   "execution_count": 8,
   "metadata": {
    "execution": {
     "iopub.execute_input": "2022-10-25T18:54:35.103695Z",
     "iopub.status.busy": "2022-10-25T18:54:35.103338Z",
     "iopub.status.idle": "2022-10-25T18:54:35.160576Z",
     "shell.execute_reply": "2022-10-25T18:54:35.159832Z"
    }
   },
   "outputs": [
    {
     "data": {
      "image/png": "[encoded data removed]",
      "text/latex": [
       "$\\displaystyle 5.15237302056817$"
      ],
      "text/plain": [
       "5.152373020568169"
      ]
     },
     "execution_count": 8,
     "metadata": {},
     "output_type": "execute_result"
    }
   ],
   "source": [
    "(cdf_1['y'] - cdf_0['y']).mean()"
   ]
  },
  {
   "cell_type": "code",
   "execution_count": 9,
   "metadata": {
    "execution": {
     "iopub.execute_input": "2022-10-25T18:54:35.164091Z",
     "iopub.status.busy": "2022-10-25T18:54:35.163628Z",
     "iopub.status.idle": "2022-10-25T18:54:35.183450Z",
     "shell.execute_reply": "2022-10-25T18:54:35.182782Z"
    }
   },
   "outputs": [
    {
     "data": {
      "image/png": "[encoded data removed]",
      "text/latex": [
       "$\\displaystyle 0.222609938008697$"
      ],
      "text/plain": [
       "0.22260993800869686"
      ]
     },
     "execution_count": 9,
     "metadata": {},
     "output_type": "execute_result"
    }
   ],
   "source": [
    "1.96*(cdf_1['y'] - cdf_0['y']).std() / np.sqrt(len(df))"
   ]
  },
  {
   "cell_type": "markdown",
   "metadata": {},
   "source": [
    "Comparing to the estimate from OLS."
   ]
  },
  {
   "cell_type": "code",
   "execution_count": 10,
   "metadata": {
    "execution": {
     "iopub.execute_input": "2022-10-25T18:54:35.186394Z",
     "iopub.status.busy": "2022-10-25T18:54:35.186042Z",
     "iopub.status.idle": "2022-10-25T18:54:35.202028Z",
     "shell.execute_reply": "2022-10-25T18:54:35.201399Z"
    }
   },
   "outputs": [
    {
     "data": {
      "text/html": [
       "<table class=\"simpletable\">\n",
       "<caption>OLS Regression Results</caption>\n",
       "<tr>\n",
       "  <th>Dep. Variable:</th>            <td>y</td>        <th>  R-squared (uncentered):</th>      <td>   0.978</td> \n",
       "</tr>\n",
       "<tr>\n",
       "  <th>Model:</th>                   <td>OLS</td>       <th>  Adj. R-squared (uncentered):</th> <td>   0.978</td> \n",
       "</tr>\n",
       "<tr>\n",
       "  <th>Method:</th>             <td>Least Squares</td>  <th>  F-statistic:       </th>          <td>2.254e+04</td>\n",
       "</tr>\n",
       "<tr>\n",
       "  <th>Date:</th>             <td>Tue, 25 Oct 2022</td> <th>  Prob (F-statistic):</th>           <td>  0.00</td>  \n",
       "</tr>\n",
       "<tr>\n",
       "  <th>Time:</th>                 <td>18:54:35</td>     <th>  Log-Likelihood:    </th>          <td> -1416.3</td> \n",
       "</tr>\n",
       "<tr>\n",
       "  <th>No. Observations:</th>      <td>  1000</td>      <th>  AIC:               </th>          <td>   2837.</td> \n",
       "</tr>\n",
       "<tr>\n",
       "  <th>Df Residuals:</th>          <td>   998</td>      <th>  BIC:               </th>          <td>   2846.</td> \n",
       "</tr>\n",
       "<tr>\n",
       "  <th>Df Model:</th>              <td>     2</td>      <th>                     </th>              <td> </td>    \n",
       "</tr>\n",
       "<tr>\n",
       "  <th>Covariance Type:</th>      <td>nonrobust</td>    <th>                     </th>              <td> </td>    \n",
       "</tr>\n",
       "</table>\n",
       "<table class=\"simpletable\">\n",
       "<tr>\n",
       "   <td></td>     <th>coef</th>     <th>std err</th>      <th>t</th>      <th>P>|t|</th>  <th>[0.025</th>    <th>0.975]</th>  \n",
       "</tr>\n",
       "<tr>\n",
       "  <th>x1</th> <td>    2.5430</td> <td>    0.038</td> <td>   67.078</td> <td> 0.000</td> <td>    2.469</td> <td>    2.617</td>\n",
       "</tr>\n",
       "<tr>\n",
       "  <th>x2</th> <td>    4.9570</td> <td>    0.055</td> <td>   90.721</td> <td> 0.000</td> <td>    4.850</td> <td>    5.064</td>\n",
       "</tr>\n",
       "</table>\n",
       "<table class=\"simpletable\">\n",
       "<tr>\n",
       "  <th>Omnibus:</th>       <td> 0.831</td> <th>  Durbin-Watson:     </th> <td>   1.996</td>\n",
       "</tr>\n",
       "<tr>\n",
       "  <th>Prob(Omnibus):</th> <td> 0.660</td> <th>  Jarque-Bera (JB):  </th> <td>   0.914</td>\n",
       "</tr>\n",
       "<tr>\n",
       "  <th>Skew:</th>          <td>-0.055</td> <th>  Prob(JB):          </th> <td>   0.633</td>\n",
       "</tr>\n",
       "<tr>\n",
       "  <th>Kurtosis:</th>      <td> 2.901</td> <th>  Cond. No.          </th> <td>    2.72</td>\n",
       "</tr>\n",
       "</table><br/><br/>Notes:<br/>[1] R² is computed without centering (uncentered) since the model does not contain a constant.<br/>[2] Standard Errors assume that the covariance matrix of the errors is correctly specified."
      ],
      "text/plain": [
       "<class 'statsmodels.iolib.summary.Summary'>\n",
       "\"\"\"\n",
       "                                 OLS Regression Results                                \n",
       "=======================================================================================\n",
       "Dep. Variable:                      y   R-squared (uncentered):                   0.978\n",
       "Model:                            OLS   Adj. R-squared (uncentered):              0.978\n",
       "Method:                 Least Squares   F-statistic:                          2.254e+04\n",
       "Date:                Tue, 25 Oct 2022   Prob (F-statistic):                        0.00\n",
       "Time:                        18:54:35   Log-Likelihood:                         -1416.3\n",
       "No. Observations:                1000   AIC:                                      2837.\n",
       "Df Residuals:                     998   BIC:                                      2846.\n",
       "Df Model:                           2                                                  \n",
       "Covariance Type:            nonrobust                                                  \n",
       "==============================================================================\n",
       "                 coef    std err          t      P>|t|      [0.025      0.975]\n",
       "------------------------------------------------------------------------------\n",
       "x1             2.5430      0.038     67.078      0.000       2.469       2.617\n",
       "x2             4.9570      0.055     90.721      0.000       4.850       5.064\n",
       "==============================================================================\n",
       "Omnibus:                        0.831   Durbin-Watson:                   1.996\n",
       "Prob(Omnibus):                  0.660   Jarque-Bera (JB):                0.914\n",
       "Skew:                          -0.055   Prob(JB):                        0.633\n",
       "Kurtosis:                       2.901   Cond. No.                         2.72\n",
       "==============================================================================\n",
       "\n",
       "Notes:\n",
       "[1] R² is computed without centering (uncentered) since the model does not contain a constant.\n",
       "[2] Standard Errors assume that the covariance matrix of the errors is correctly specified.\n",
       "\"\"\""
      ]
     },
     "execution_count": 10,
     "metadata": {},
     "output_type": "execute_result"
    }
   ],
   "source": [
    "model = OLS(np.asarray(df[outcome]), np.asarray(df[[common_cause, treatment]], dtype=np.float64))\n",
    "result = model.fit()\n",
    "result.summary()"
   ]
  }
 ],
 "metadata": {
  "kernelspec": {
   "display_name": "Python 3",
   "language": "python",
   "name": "python3"
  },
  "language_info": {
   "codemirror_mode": {
    "name": "ipython",
    "version": 3
   },
   "file_extension": ".py",
   "mimetype": "text/x-python",
   "name": "python",
   "nbconvert_exporter": "python",
   "pygments_lexer": "ipython3",
   "version": "3.8.10"
  },
  "toc": {
   "base_numbering": 1,
   "nav_menu": {},
   "number_sections": false,
   "sideBar": true,
   "skip_h1_title": true,
   "title_cell": "Table of Contents",
   "title_sidebar": "Contents",
   "toc_cell": false,
   "toc_position": {},
   "toc_section_display": true,
   "toc_window_display": false
  }
 },
 "nbformat": 4,
 "nbformat_minor": 4
}
