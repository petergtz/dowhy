{
 "cells": [
  {
   "cell_type": "markdown",
   "metadata": {},
   "source": [
    "# Demo for the DoWhy causal API\n",
    "We show a simple example of adding a causal extension to any dataframe. "
   ]
  },
  {
   "cell_type": "code",
   "execution_count": 1,
   "metadata": {
    "execution": {
     "iopub.execute_input": "2022-11-14T15:14:21.988753Z",
     "iopub.status.busy": "2022-11-14T15:14:21.988000Z",
     "iopub.status.idle": "2022-11-14T15:14:24.701437Z",
     "shell.execute_reply": "2022-11-14T15:14:24.700364Z"
    }
   },
   "outputs": [],
   "source": [
    "import dowhy.datasets\n",
    "import dowhy.api\n",
    "\n",
    "import numpy as np\n",
    "import pandas as pd\n",
    "\n",
    "from statsmodels.api import OLS"
   ]
  },
  {
   "cell_type": "code",
   "execution_count": 2,
   "metadata": {
    "execution": {
     "iopub.execute_input": "2022-11-14T15:14:24.706930Z",
     "iopub.status.busy": "2022-11-14T15:14:24.706295Z",
     "iopub.status.idle": "2022-11-14T15:14:24.781584Z",
     "shell.execute_reply": "2022-11-14T15:14:24.780556Z"
    }
   },
   "outputs": [
    {
     "data": {
      "text/html": [
       "<div>\n",
       "<style scoped>\n",
       "    .dataframe tbody tr th:only-of-type {\n",
       "        vertical-align: middle;\n",
       "    }\n",
       "\n",
       "    .dataframe tbody tr th {\n",
       "        vertical-align: top;\n",
       "    }\n",
       "\n",
       "    .dataframe thead th {\n",
       "        text-align: right;\n",
       "    }\n",
       "</style>\n",
       "<table border=\"1\" class=\"dataframe\">\n",
       "  <thead>\n",
       "    <tr style=\"text-align: right;\">\n",
       "      <th></th>\n",
       "      <th>W0</th>\n",
       "      <th>v0</th>\n",
       "      <th>y</th>\n",
       "    </tr>\n",
       "  </thead>\n",
       "  <tbody>\n",
       "    <tr>\n",
       "      <th>0</th>\n",
       "      <td>-1.062806</td>\n",
       "      <td>False</td>\n",
       "      <td>0.159980</td>\n",
       "    </tr>\n",
       "    <tr>\n",
       "      <th>1</th>\n",
       "      <td>-0.897001</td>\n",
       "      <td>False</td>\n",
       "      <td>-0.968306</td>\n",
       "    </tr>\n",
       "    <tr>\n",
       "      <th>2</th>\n",
       "      <td>-1.313631</td>\n",
       "      <td>False</td>\n",
       "      <td>-0.279971</td>\n",
       "    </tr>\n",
       "    <tr>\n",
       "      <th>3</th>\n",
       "      <td>-0.317817</td>\n",
       "      <td>False</td>\n",
       "      <td>0.502713</td>\n",
       "    </tr>\n",
       "    <tr>\n",
       "      <th>4</th>\n",
       "      <td>-2.335533</td>\n",
       "      <td>False</td>\n",
       "      <td>-1.023609</td>\n",
       "    </tr>\n",
       "    <tr>\n",
       "      <th>...</th>\n",
       "      <td>...</td>\n",
       "      <td>...</td>\n",
       "      <td>...</td>\n",
       "    </tr>\n",
       "    <tr>\n",
       "      <th>995</th>\n",
       "      <td>-0.248615</td>\n",
       "      <td>False</td>\n",
       "      <td>-1.725051</td>\n",
       "    </tr>\n",
       "    <tr>\n",
       "      <th>996</th>\n",
       "      <td>-0.436043</td>\n",
       "      <td>False</td>\n",
       "      <td>-0.586123</td>\n",
       "    </tr>\n",
       "    <tr>\n",
       "      <th>997</th>\n",
       "      <td>-1.477794</td>\n",
       "      <td>False</td>\n",
       "      <td>-1.815060</td>\n",
       "    </tr>\n",
       "    <tr>\n",
       "      <th>998</th>\n",
       "      <td>-2.007911</td>\n",
       "      <td>False</td>\n",
       "      <td>-0.962901</td>\n",
       "    </tr>\n",
       "    <tr>\n",
       "      <th>999</th>\n",
       "      <td>1.308202</td>\n",
       "      <td>True</td>\n",
       "      <td>6.451470</td>\n",
       "    </tr>\n",
       "  </tbody>\n",
       "</table>\n",
       "<p>1000 rows × 3 columns</p>\n",
       "</div>"
      ],
      "text/plain": [
       "           W0     v0         y\n",
       "0   -1.062806  False  0.159980\n",
       "1   -0.897001  False -0.968306\n",
       "2   -1.313631  False -0.279971\n",
       "3   -0.317817  False  0.502713\n",
       "4   -2.335533  False -1.023609\n",
       "..        ...    ...       ...\n",
       "995 -0.248615  False -1.725051\n",
       "996 -0.436043  False -0.586123\n",
       "997 -1.477794  False -1.815060\n",
       "998 -2.007911  False -0.962901\n",
       "999  1.308202   True  6.451470\n",
       "\n",
       "[1000 rows x 3 columns]"
      ]
     },
     "execution_count": 2,
     "metadata": {},
     "output_type": "execute_result"
    }
   ],
   "source": [
    "data = dowhy.datasets.linear_dataset(beta=5,\n",
    "        num_common_causes=1,\n",
    "        num_instruments = 0,\n",
    "        num_samples=1000,\n",
    "        treatment_is_binary=True)\n",
    "df = data['df']\n",
    "df['y'] = df['y'] + np.random.normal(size=len(df)) # Adding noise to data. Without noise, the variance in Y|X, Z is zero, and mcmc fails.\n",
    "#data['dot_graph'] = 'digraph { v ->y;X0-> v;X0-> y;}'\n",
    "\n",
    "treatment= data[\"treatment_name\"][0]\n",
    "outcome = data[\"outcome_name\"][0]\n",
    "common_cause = data[\"common_causes_names\"][0]\n",
    "df"
   ]
  },
  {
   "cell_type": "code",
   "execution_count": 3,
   "metadata": {
    "execution": {
     "iopub.execute_input": "2022-11-14T15:14:24.786453Z",
     "iopub.status.busy": "2022-11-14T15:14:24.786014Z",
     "iopub.status.idle": "2022-11-14T15:14:25.019751Z",
     "shell.execute_reply": "2022-11-14T15:14:25.018729Z"
    }
   },
   "outputs": [
    {
     "data": {
      "text/plain": [
       "<AxesSubplot: xlabel='v0'>"
      ]
     },
     "execution_count": 3,
     "metadata": {},
     "output_type": "execute_result"
    },
    {
     "data": {
      "image/png": "[encoded data removed]",
      "text/plain": [
       "<Figure size 640x480 with 1 Axes>"
      ]
     },
     "metadata": {},
     "output_type": "display_data"
    }
   ],
   "source": [
    "# data['df'] is just a regular pandas.DataFrame\n",
    "df.causal.do(x=treatment,\n",
    "                     variable_types={treatment: 'b', outcome: 'c', common_cause: 'c'},\n",
    "                     outcome=outcome,\n",
    "                     common_causes=[common_cause],\n",
    "                     proceed_when_unidentifiable=True).groupby(treatment).mean().plot(y=outcome, kind='bar')"
   ]
  },
  {
   "cell_type": "code",
   "execution_count": 4,
   "metadata": {
    "execution": {
     "iopub.execute_input": "2022-11-14T15:14:25.023411Z",
     "iopub.status.busy": "2022-11-14T15:14:25.023143Z",
     "iopub.status.idle": "2022-11-14T15:14:25.205461Z",
     "shell.execute_reply": "2022-11-14T15:14:25.204455Z"
    }
   },
   "outputs": [
    {
     "data": {
      "text/plain": [
       "<AxesSubplot: xlabel='v0'>"
      ]
     },
     "execution_count": 4,
     "metadata": {},
     "output_type": "execute_result"
    },
    {
     "data": {
      "image/png": "[encoded data removed]",
      "text/plain": [
       "<Figure size 640x480 with 1 Axes>"
      ]
     },
     "metadata": {},
     "output_type": "display_data"
    }
   ],
   "source": [
    "df.causal.do(x={treatment: 1}, \n",
    "              variable_types={treatment:'b', outcome: 'c', common_cause: 'c'}, \n",
    "              outcome=outcome,\n",
    "              method='weighting', \n",
    "              common_causes=[common_cause],\n",
    "              proceed_when_unidentifiable=True).groupby(treatment).mean().plot(y=outcome, kind='bar')"
   ]
  },
  {
   "cell_type": "code",
   "execution_count": 5,
   "metadata": {
    "execution": {
     "iopub.execute_input": "2022-11-14T15:14:25.210047Z",
     "iopub.status.busy": "2022-11-14T15:14:25.209743Z",
     "iopub.status.idle": "2022-11-14T15:14:25.257756Z",
     "shell.execute_reply": "2022-11-14T15:14:25.256642Z"
    }
   },
   "outputs": [],
   "source": [
    "cdf_1 = df.causal.do(x={treatment: 1}, \n",
    "              variable_types={treatment: 'b', outcome: 'c', common_cause: 'c'}, \n",
    "              outcome=outcome, \n",
    "              dot_graph=data['dot_graph'],\n",
    "              proceed_when_unidentifiable=True)\n",
    "\n",
    "cdf_0 = df.causal.do(x={treatment: 0}, \n",
    "              variable_types={treatment: 'b', outcome: 'c', common_cause: 'c'}, \n",
    "              outcome=outcome, \n",
    "              dot_graph=data['dot_graph'],\n",
    "              proceed_when_unidentifiable=True)\n"
   ]
  },
  {
   "cell_type": "code",
   "execution_count": 6,
   "metadata": {
    "execution": {
     "iopub.execute_input": "2022-11-14T15:14:25.262486Z",
     "iopub.status.busy": "2022-11-14T15:14:25.262169Z",
     "iopub.status.idle": "2022-11-14T15:14:25.276853Z",
     "shell.execute_reply": "2022-11-14T15:14:25.275919Z"
    },
    "scrolled": true
   },
   "outputs": [
    {
     "data": {
      "text/html": [
       "<div>\n",
       "<style scoped>\n",
       "    .dataframe tbody tr th:only-of-type {\n",
       "        vertical-align: middle;\n",
       "    }\n",
       "\n",
       "    .dataframe tbody tr th {\n",
       "        vertical-align: top;\n",
       "    }\n",
       "\n",
       "    .dataframe thead th {\n",
       "        text-align: right;\n",
       "    }\n",
       "</style>\n",
       "<table border=\"1\" class=\"dataframe\">\n",
       "  <thead>\n",
       "    <tr style=\"text-align: right;\">\n",
       "      <th></th>\n",
       "      <th>W0</th>\n",
       "      <th>v0</th>\n",
       "      <th>y</th>\n",
       "      <th>propensity_score</th>\n",
       "      <th>weight</th>\n",
       "    </tr>\n",
       "  </thead>\n",
       "  <tbody>\n",
       "    <tr>\n",
       "      <th>0</th>\n",
       "      <td>0.058435</td>\n",
       "      <td>False</td>\n",
       "      <td>0.195888</td>\n",
       "      <td>0.403531</td>\n",
       "      <td>2.478127</td>\n",
       "    </tr>\n",
       "    <tr>\n",
       "      <th>1</th>\n",
       "      <td>0.280076</td>\n",
       "      <td>False</td>\n",
       "      <td>-0.708436</td>\n",
       "      <td>0.287687</td>\n",
       "      <td>3.475998</td>\n",
       "    </tr>\n",
       "    <tr>\n",
       "      <th>2</th>\n",
       "      <td>-0.035630</td>\n",
       "      <td>False</td>\n",
       "      <td>0.296982</td>\n",
       "      <td>0.457145</td>\n",
       "      <td>2.187489</td>\n",
       "    </tr>\n",
       "    <tr>\n",
       "      <th>3</th>\n",
       "      <td>-2.126480</td>\n",
       "      <td>False</td>\n",
       "      <td>-0.731496</td>\n",
       "      <td>0.990938</td>\n",
       "      <td>1.009145</td>\n",
       "    </tr>\n",
       "    <tr>\n",
       "      <th>4</th>\n",
       "      <td>0.656995</td>\n",
       "      <td>False</td>\n",
       "      <td>0.782559</td>\n",
       "      <td>0.143820</td>\n",
       "      <td>6.953155</td>\n",
       "    </tr>\n",
       "    <tr>\n",
       "      <th>...</th>\n",
       "      <td>...</td>\n",
       "      <td>...</td>\n",
       "      <td>...</td>\n",
       "      <td>...</td>\n",
       "      <td>...</td>\n",
       "    </tr>\n",
       "    <tr>\n",
       "      <th>995</th>\n",
       "      <td>-2.079757</td>\n",
       "      <td>False</td>\n",
       "      <td>-1.523027</td>\n",
       "      <td>0.989908</td>\n",
       "      <td>1.010195</td>\n",
       "    </tr>\n",
       "    <tr>\n",
       "      <th>996</th>\n",
       "      <td>-0.012703</td>\n",
       "      <td>False</td>\n",
       "      <td>0.365681</td>\n",
       "      <td>0.443936</td>\n",
       "      <td>2.252577</td>\n",
       "    </tr>\n",
       "    <tr>\n",
       "      <th>997</th>\n",
       "      <td>-0.353660</td>\n",
       "      <td>False</td>\n",
       "      <td>-0.249205</td>\n",
       "      <td>0.638387</td>\n",
       "      <td>1.566448</td>\n",
       "    </tr>\n",
       "    <tr>\n",
       "      <th>998</th>\n",
       "      <td>-0.217553</td>\n",
       "      <td>False</td>\n",
       "      <td>-2.039930</td>\n",
       "      <td>0.562566</td>\n",
       "      <td>1.777569</td>\n",
       "    </tr>\n",
       "    <tr>\n",
       "      <th>999</th>\n",
       "      <td>0.122433</td>\n",
       "      <td>False</td>\n",
       "      <td>-0.113104</td>\n",
       "      <td>0.368250</td>\n",
       "      <td>2.715546</td>\n",
       "    </tr>\n",
       "  </tbody>\n",
       "</table>\n",
       "<p>1000 rows × 5 columns</p>\n",
       "</div>"
      ],
      "text/plain": [
       "           W0     v0         y  propensity_score    weight\n",
       "0    0.058435  False  0.195888          0.403531  2.478127\n",
       "1    0.280076  False -0.708436          0.287687  3.475998\n",
       "2   -0.035630  False  0.296982          0.457145  2.187489\n",
       "3   -2.126480  False -0.731496          0.990938  1.009145\n",
       "4    0.656995  False  0.782559          0.143820  6.953155\n",
       "..        ...    ...       ...               ...       ...\n",
       "995 -2.079757  False -1.523027          0.989908  1.010195\n",
       "996 -0.012703  False  0.365681          0.443936  2.252577\n",
       "997 -0.353660  False -0.249205          0.638387  1.566448\n",
       "998 -0.217553  False -2.039930          0.562566  1.777569\n",
       "999  0.122433  False -0.113104          0.368250  2.715546\n",
       "\n",
       "[1000 rows x 5 columns]"
      ]
     },
     "execution_count": 6,
     "metadata": {},
     "output_type": "execute_result"
    }
   ],
   "source": [
    "cdf_0"
   ]
  },
  {
   "cell_type": "code",
   "execution_count": 7,
   "metadata": {
    "execution": {
     "iopub.execute_input": "2022-11-14T15:14:25.282140Z",
     "iopub.status.busy": "2022-11-14T15:14:25.281814Z",
     "iopub.status.idle": "2022-11-14T15:14:25.295571Z",
     "shell.execute_reply": "2022-11-14T15:14:25.294700Z"
    }
   },
   "outputs": [
    {
     "data": {
      "text/html": [
       "<div>\n",
       "<style scoped>\n",
       "    .dataframe tbody tr th:only-of-type {\n",
       "        vertical-align: middle;\n",
       "    }\n",
       "\n",
       "    .dataframe tbody tr th {\n",
       "        vertical-align: top;\n",
       "    }\n",
       "\n",
       "    .dataframe thead th {\n",
       "        text-align: right;\n",
       "    }\n",
       "</style>\n",
       "<table border=\"1\" class=\"dataframe\">\n",
       "  <thead>\n",
       "    <tr style=\"text-align: right;\">\n",
       "      <th></th>\n",
       "      <th>W0</th>\n",
       "      <th>v0</th>\n",
       "      <th>y</th>\n",
       "      <th>propensity_score</th>\n",
       "      <th>weight</th>\n",
       "    </tr>\n",
       "  </thead>\n",
       "  <tbody>\n",
       "    <tr>\n",
       "      <th>0</th>\n",
       "      <td>-0.765091</td>\n",
       "      <td>True</td>\n",
       "      <td>4.315843</td>\n",
       "      <td>0.178583</td>\n",
       "      <td>5.599623</td>\n",
       "    </tr>\n",
       "    <tr>\n",
       "      <th>1</th>\n",
       "      <td>2.976666</td>\n",
       "      <td>True</td>\n",
       "      <td>5.991654</td>\n",
       "      <td>0.999241</td>\n",
       "      <td>1.000759</td>\n",
       "    </tr>\n",
       "    <tr>\n",
       "      <th>2</th>\n",
       "      <td>-0.068332</td>\n",
       "      <td>True</td>\n",
       "      <td>6.238496</td>\n",
       "      <td>0.523913</td>\n",
       "      <td>1.908712</td>\n",
       "    </tr>\n",
       "    <tr>\n",
       "      <th>3</th>\n",
       "      <td>1.074347</td>\n",
       "      <td>True</td>\n",
       "      <td>5.968406</td>\n",
       "      <td>0.940212</td>\n",
       "      <td>1.063590</td>\n",
       "    </tr>\n",
       "    <tr>\n",
       "      <th>4</th>\n",
       "      <td>0.063721</td>\n",
       "      <td>True</td>\n",
       "      <td>4.219795</td>\n",
       "      <td>0.599428</td>\n",
       "      <td>1.668258</td>\n",
       "    </tr>\n",
       "    <tr>\n",
       "      <th>...</th>\n",
       "      <td>...</td>\n",
       "      <td>...</td>\n",
       "      <td>...</td>\n",
       "      <td>...</td>\n",
       "      <td>...</td>\n",
       "    </tr>\n",
       "    <tr>\n",
       "      <th>995</th>\n",
       "      <td>-0.839661</td>\n",
       "      <td>True</td>\n",
       "      <td>2.823131</td>\n",
       "      <td>0.154526</td>\n",
       "      <td>6.471404</td>\n",
       "    </tr>\n",
       "    <tr>\n",
       "      <th>996</th>\n",
       "      <td>-0.274924</td>\n",
       "      <td>True</td>\n",
       "      <td>6.450790</td>\n",
       "      <td>0.404894</td>\n",
       "      <td>2.469780</td>\n",
       "    </tr>\n",
       "    <tr>\n",
       "      <th>997</th>\n",
       "      <td>-1.179147</td>\n",
       "      <td>True</td>\n",
       "      <td>4.665587</td>\n",
       "      <td>0.076584</td>\n",
       "      <td>13.057493</td>\n",
       "    </tr>\n",
       "    <tr>\n",
       "      <th>998</th>\n",
       "      <td>-0.727631</td>\n",
       "      <td>True</td>\n",
       "      <td>6.956859</td>\n",
       "      <td>0.191733</td>\n",
       "      <td>5.215575</td>\n",
       "    </tr>\n",
       "    <tr>\n",
       "      <th>999</th>\n",
       "      <td>-0.612565</td>\n",
       "      <td>True</td>\n",
       "      <td>5.195667</td>\n",
       "      <td>0.236679</td>\n",
       "      <td>4.225123</td>\n",
       "    </tr>\n",
       "  </tbody>\n",
       "</table>\n",
       "<p>1000 rows × 5 columns</p>\n",
       "</div>"
      ],
      "text/plain": [
       "           W0    v0         y  propensity_score     weight\n",
       "0   -0.765091  True  4.315843          0.178583   5.599623\n",
       "1    2.976666  True  5.991654          0.999241   1.000759\n",
       "2   -0.068332  True  6.238496          0.523913   1.908712\n",
       "3    1.074347  True  5.968406          0.940212   1.063590\n",
       "4    0.063721  True  4.219795          0.599428   1.668258\n",
       "..        ...   ...       ...               ...        ...\n",
       "995 -0.839661  True  2.823131          0.154526   6.471404\n",
       "996 -0.274924  True  6.450790          0.404894   2.469780\n",
       "997 -1.179147  True  4.665587          0.076584  13.057493\n",
       "998 -0.727631  True  6.956859          0.191733   5.215575\n",
       "999 -0.612565  True  5.195667          0.236679   4.225123\n",
       "\n",
       "[1000 rows x 5 columns]"
      ]
     },
     "execution_count": 7,
     "metadata": {},
     "output_type": "execute_result"
    }
   ],
   "source": [
    "cdf_1"
   ]
  },
  {
   "cell_type": "markdown",
   "metadata": {},
   "source": [
    "## Comparing the estimate to Linear Regression\n",
    "First, estimating the effect using the causal data frame, and the 95% confidence interval."
   ]
  },
  {
   "cell_type": "code",
   "execution_count": 8,
   "metadata": {
    "execution": {
     "iopub.execute_input": "2022-11-14T15:14:25.301136Z",
     "iopub.status.busy": "2022-11-14T15:14:25.300806Z",
     "iopub.status.idle": "2022-11-14T15:14:25.385884Z",
     "shell.execute_reply": "2022-11-14T15:14:25.384803Z"
    }
   },
   "outputs": [
    {
     "data": {
      "image/png": "[encoded data removed]",
      "text/latex": [
       "$\\displaystyle 5.04729758220966$"
      ],
      "text/plain": [
       "5.047297582209661"
      ]
     },
     "execution_count": 8,
     "metadata": {},
     "output_type": "execute_result"
    }
   ],
   "source": [
    "(cdf_1['y'] - cdf_0['y']).mean()"
   ]
  },
  {
   "cell_type": "code",
   "execution_count": 9,
   "metadata": {
    "execution": {
     "iopub.execute_input": "2022-11-14T15:14:25.392021Z",
     "iopub.status.busy": "2022-11-14T15:14:25.391483Z",
     "iopub.status.idle": "2022-11-14T15:14:25.420304Z",
     "shell.execute_reply": "2022-11-14T15:14:25.419144Z"
    }
   },
   "outputs": [
    {
     "data": {
      "image/png": "[encoded data removed]",
      "text/latex": [
       "$\\displaystyle 0.100961850828578$"
      ],
      "text/plain": [
       "0.10096185082857821"
      ]
     },
     "execution_count": 9,
     "metadata": {},
     "output_type": "execute_result"
    }
   ],
   "source": [
    "1.96*(cdf_1['y'] - cdf_0['y']).std() / np.sqrt(len(df))"
   ]
  },
  {
   "cell_type": "markdown",
   "metadata": {},
   "source": [
    "Comparing to the estimate from OLS."
   ]
  },
  {
   "cell_type": "code",
   "execution_count": 10,
   "metadata": {
    "execution": {
     "iopub.execute_input": "2022-11-14T15:14:25.424862Z",
     "iopub.status.busy": "2022-11-14T15:14:25.424309Z",
     "iopub.status.idle": "2022-11-14T15:14:25.446778Z",
     "shell.execute_reply": "2022-11-14T15:14:25.445891Z"
    }
   },
   "outputs": [
    {
     "data": {
      "text/html": [
       "<table class=\"simpletable\">\n",
       "<caption>OLS Regression Results</caption>\n",
       "<tr>\n",
       "  <th>Dep. Variable:</th>            <td>y</td>        <th>  R-squared (uncentered):</th>      <td>   0.919</td>\n",
       "</tr>\n",
       "<tr>\n",
       "  <th>Model:</th>                   <td>OLS</td>       <th>  Adj. R-squared (uncentered):</th> <td>   0.918</td>\n",
       "</tr>\n",
       "<tr>\n",
       "  <th>Method:</th>             <td>Least Squares</td>  <th>  F-statistic:       </th>          <td>   5629.</td>\n",
       "</tr>\n",
       "<tr>\n",
       "  <th>Date:</th>             <td>Mon, 14 Nov 2022</td> <th>  Prob (F-statistic):</th>           <td>  0.00</td> \n",
       "</tr>\n",
       "<tr>\n",
       "  <th>Time:</th>                 <td>15:14:25</td>     <th>  Log-Likelihood:    </th>          <td> -1418.0</td>\n",
       "</tr>\n",
       "<tr>\n",
       "  <th>No. Observations:</th>      <td>  1000</td>      <th>  AIC:               </th>          <td>   2840.</td>\n",
       "</tr>\n",
       "<tr>\n",
       "  <th>Df Residuals:</th>          <td>   998</td>      <th>  BIC:               </th>          <td>   2850.</td>\n",
       "</tr>\n",
       "<tr>\n",
       "  <th>Df Model:</th>              <td>     2</td>      <th>                     </th>              <td> </td>   \n",
       "</tr>\n",
       "<tr>\n",
       "  <th>Covariance Type:</th>      <td>nonrobust</td>    <th>                     </th>              <td> </td>   \n",
       "</tr>\n",
       "</table>\n",
       "<table class=\"simpletable\">\n",
       "<tr>\n",
       "   <td></td>     <th>coef</th>     <th>std err</th>      <th>t</th>      <th>P>|t|</th>  <th>[0.025</th>    <th>0.975]</th>  \n",
       "</tr>\n",
       "<tr>\n",
       "  <th>x1</th> <td>    0.6300</td> <td>    0.029</td> <td>   22.060</td> <td> 0.000</td> <td>    0.574</td> <td>    0.686</td>\n",
       "</tr>\n",
       "<tr>\n",
       "  <th>x2</th> <td>    5.0743</td> <td>    0.052</td> <td>   97.549</td> <td> 0.000</td> <td>    4.972</td> <td>    5.176</td>\n",
       "</tr>\n",
       "</table>\n",
       "<table class=\"simpletable\">\n",
       "<tr>\n",
       "  <th>Omnibus:</th>       <td> 2.531</td> <th>  Durbin-Watson:     </th> <td>   2.049</td>\n",
       "</tr>\n",
       "<tr>\n",
       "  <th>Prob(Omnibus):</th> <td> 0.282</td> <th>  Jarque-Bera (JB):  </th> <td>   2.232</td>\n",
       "</tr>\n",
       "<tr>\n",
       "  <th>Skew:</th>          <td>-0.006</td> <th>  Prob(JB):          </th> <td>   0.328</td>\n",
       "</tr>\n",
       "<tr>\n",
       "  <th>Kurtosis:</th>      <td> 2.769</td> <th>  Cond. No.          </th> <td>    1.89</td>\n",
       "</tr>\n",
       "</table><br/><br/>Notes:<br/>[1] R² is computed without centering (uncentered) since the model does not contain a constant.<br/>[2] Standard Errors assume that the covariance matrix of the errors is correctly specified."
      ],
      "text/plain": [
       "<class 'statsmodels.iolib.summary.Summary'>\n",
       "\"\"\"\n",
       "                                 OLS Regression Results                                \n",
       "=======================================================================================\n",
       "Dep. Variable:                      y   R-squared (uncentered):                   0.919\n",
       "Model:                            OLS   Adj. R-squared (uncentered):              0.918\n",
       "Method:                 Least Squares   F-statistic:                              5629.\n",
       "Date:                Mon, 14 Nov 2022   Prob (F-statistic):                        0.00\n",
       "Time:                        15:14:25   Log-Likelihood:                         -1418.0\n",
       "No. Observations:                1000   AIC:                                      2840.\n",
       "Df Residuals:                     998   BIC:                                      2850.\n",
       "Df Model:                           2                                                  \n",
       "Covariance Type:            nonrobust                                                  \n",
       "==============================================================================\n",
       "                 coef    std err          t      P>|t|      [0.025      0.975]\n",
       "------------------------------------------------------------------------------\n",
       "x1             0.6300      0.029     22.060      0.000       0.574       0.686\n",
       "x2             5.0743      0.052     97.549      0.000       4.972       5.176\n",
       "==============================================================================\n",
       "Omnibus:                        2.531   Durbin-Watson:                   2.049\n",
       "Prob(Omnibus):                  0.282   Jarque-Bera (JB):                2.232\n",
       "Skew:                          -0.006   Prob(JB):                        0.328\n",
       "Kurtosis:                       2.769   Cond. No.                         1.89\n",
       "==============================================================================\n",
       "\n",
       "Notes:\n",
       "[1] R² is computed without centering (uncentered) since the model does not contain a constant.\n",
       "[2] Standard Errors assume that the covariance matrix of the errors is correctly specified.\n",
       "\"\"\""
      ]
     },
     "execution_count": 10,
     "metadata": {},
     "output_type": "execute_result"
    }
   ],
   "source": [
    "model = OLS(np.asarray(df[outcome]), np.asarray(df[[common_cause, treatment]], dtype=np.float64))\n",
    "result = model.fit()\n",
    "result.summary()"
   ]
  }
 ],
 "metadata": {
  "kernelspec": {
   "display_name": "Python 3",
   "language": "python",
   "name": "python3"
  },
  "language_info": {
   "codemirror_mode": {
    "name": "ipython",
    "version": 3
   },
   "file_extension": ".py",
   "mimetype": "text/x-python",
   "name": "python",
   "nbconvert_exporter": "python",
   "pygments_lexer": "ipython3",
   "version": "3.8.10"
  },
  "toc": {
   "base_numbering": 1,
   "nav_menu": {},
   "number_sections": false,
   "sideBar": true,
   "skip_h1_title": true,
   "title_cell": "Table of Contents",
   "title_sidebar": "Contents",
   "toc_cell": false,
   "toc_position": {},
   "toc_section_display": true,
   "toc_window_display": false
  }
 },
 "nbformat": 4,
 "nbformat_minor": 4
}
