{
 "cells": [
  {
   "cell_type": "markdown",
   "id": "b72f7198",
   "metadata": {},
   "source": [
    "# Basic Example for GCM-Based Inference"
   ]
  },
  {
   "cell_type": "markdown",
   "id": "8fe6b612",
   "metadata": {},
   "source": [
    "## Step 1: Modeling cause-effect relationships as a structural causal model (SCM)\n",
    "\n",
    "The first step is to model the cause-effect relationships between variables relevant to our use case. We do that in form of a causal graph. A causal graph is a directed acyclic graph (DAG) where an edge X→Y implies that X causes Y. Statistically, a causal graph encodes the conditional independence relations between variables. Using the [NetworkX](https://networkx.org/) library, we can create causal graphs. In the snippet below, we create a chain X→Y→Z:\n",
    "\n"
   ]
  },
  {
   "cell_type": "code",
   "execution_count": 1,
   "id": "f22337ab",
   "metadata": {
    "execution": {
     "iopub.execute_input": "2022-10-17T15:00:19.394034Z",
     "iopub.status.busy": "2022-10-17T15:00:19.393535Z",
     "iopub.status.idle": "2022-10-17T15:00:19.869700Z",
     "shell.execute_reply": "2022-10-17T15:00:19.868737Z"
    }
   },
   "outputs": [],
   "source": [
    "import networkx as nx\n",
    "causal_graph = nx.DiGraph([('X', 'Y'), ('Y', 'Z')])"
   ]
  },
  {
   "cell_type": "markdown",
   "id": "1a0bb234",
   "metadata": {},
   "source": [
    "To answer causal questions using causal graphs, we also have to know the nature of underlying data-generating process of variables. A causal graph by itself, being a diagram, does not have any information about the data-generating process. To introduce this data-generating process, we use an SCM that’s built on top of our causal graph:\n"
   ]
  },
  {
   "cell_type": "code",
   "execution_count": 2,
   "id": "0367caeb",
   "metadata": {
    "execution": {
     "iopub.execute_input": "2022-10-17T15:00:19.875377Z",
     "iopub.status.busy": "2022-10-17T15:00:19.874584Z",
     "iopub.status.idle": "2022-10-17T15:00:22.102142Z",
     "shell.execute_reply": "2022-10-17T15:00:22.100886Z"
    }
   },
   "outputs": [],
   "source": [
    "from dowhy import gcm\n",
    "causal_model = gcm.StructuralCausalModel(causal_graph)"
   ]
  },
  {
   "cell_type": "markdown",
   "id": "2a54206c",
   "metadata": {
    "collapsed": false,
    "pycharm": {
     "name": "#%% md\n"
    }
   },
   "source": [
    "At this point we would normally load our dataset. For this introduction, we generate\n",
    "some synthetic data instead. The API takes data in form of Pandas DataFrames:"
   ]
  },
  {
   "cell_type": "code",
   "execution_count": 3,
   "id": "0ff5c9d8",
   "metadata": {
    "collapsed": false,
    "execution": {
     "iopub.execute_input": "2022-10-17T15:00:22.106829Z",
     "iopub.status.busy": "2022-10-17T15:00:22.106246Z",
     "iopub.status.idle": "2022-10-17T15:00:22.126415Z",
     "shell.execute_reply": "2022-10-17T15:00:22.125425Z"
    },
    "pycharm": {
     "name": "#%%\n"
    }
   },
   "outputs": [
    {
     "data": {
      "text/html": [
       "<div>\n",
       "<style scoped>\n",
       "    .dataframe tbody tr th:only-of-type {\n",
       "        vertical-align: middle;\n",
       "    }\n",
       "\n",
       "    .dataframe tbody tr th {\n",
       "        vertical-align: top;\n",
       "    }\n",
       "\n",
       "    .dataframe thead th {\n",
       "        text-align: right;\n",
       "    }\n",
       "</style>\n",
       "<table border=\"1\" class=\"dataframe\">\n",
       "  <thead>\n",
       "    <tr style=\"text-align: right;\">\n",
       "      <th></th>\n",
       "      <th>X</th>\n",
       "      <th>Y</th>\n",
       "      <th>Z</th>\n",
       "    </tr>\n",
       "  </thead>\n",
       "  <tbody>\n",
       "    <tr>\n",
       "      <th>0</th>\n",
       "      <td>-2.090527</td>\n",
       "      <td>-3.864928</td>\n",
       "      <td>-11.959269</td>\n",
       "    </tr>\n",
       "    <tr>\n",
       "      <th>1</th>\n",
       "      <td>1.987925</td>\n",
       "      <td>4.254168</td>\n",
       "      <td>12.053645</td>\n",
       "    </tr>\n",
       "    <tr>\n",
       "      <th>2</th>\n",
       "      <td>1.203184</td>\n",
       "      <td>3.205570</td>\n",
       "      <td>8.065682</td>\n",
       "    </tr>\n",
       "    <tr>\n",
       "      <th>3</th>\n",
       "      <td>0.049084</td>\n",
       "      <td>-0.693327</td>\n",
       "      <td>-2.800273</td>\n",
       "    </tr>\n",
       "    <tr>\n",
       "      <th>4</th>\n",
       "      <td>-0.728002</td>\n",
       "      <td>-0.537380</td>\n",
       "      <td>-2.290686</td>\n",
       "    </tr>\n",
       "  </tbody>\n",
       "</table>\n",
       "</div>"
      ],
      "text/plain": [
       "          X         Y          Z\n",
       "0 -2.090527 -3.864928 -11.959269\n",
       "1  1.987925  4.254168  12.053645\n",
       "2  1.203184  3.205570   8.065682\n",
       "3  0.049084 -0.693327  -2.800273\n",
       "4 -0.728002 -0.537380  -2.290686"
      ]
     },
     "execution_count": 3,
     "metadata": {},
     "output_type": "execute_result"
    }
   ],
   "source": [
    "import numpy as np, pandas as pd\n",
    "\n",
    "X = np.random.normal(loc=0, scale=1, size=1000)\n",
    "Y = 2 * X + np.random.normal(loc=0, scale=1, size=1000)\n",
    "Z = 3 * Y + np.random.normal(loc=0, scale=1, size=1000)\n",
    "data = pd.DataFrame(data=dict(X=X, Y=Y, Z=Z))\n",
    "data.head()"
   ]
  },
  {
   "cell_type": "markdown",
   "id": "d5596333",
   "metadata": {
    "collapsed": false,
    "pycharm": {
     "name": "#%% md\n"
    }
   },
   "source": [
    "Note how the columns X, Y, Z correspond to our nodes X, Y, Z in the graph constructed above. We can also see how the\n",
    "values of X influence the values of Y and how the values of Y influence the values of Z in that data set.\n",
    "\n",
    "The causal model created above allows us now to assign causal mechanisms to each node in the form of functional causal\n",
    "models. Here, these mechanism can either be assigned manually if, for instance, prior knowledge about certain causal\n",
    "relationships are known or they can be assigned automatically using the `auto` module. For the latter,\n",
    "we simply call:"
   ]
  },
  {
   "cell_type": "code",
   "execution_count": 4,
   "id": "597b04da",
   "metadata": {
    "collapsed": false,
    "execution": {
     "iopub.execute_input": "2022-10-17T15:00:22.130885Z",
     "iopub.status.busy": "2022-10-17T15:00:22.130548Z",
     "iopub.status.idle": "2022-10-17T15:00:22.656993Z",
     "shell.execute_reply": "2022-10-17T15:00:22.655969Z"
    },
    "pycharm": {
     "name": "#%%\n"
    }
   },
   "outputs": [],
   "source": [
    "gcm.auto.assign_causal_mechanisms(causal_model, data)"
   ]
  },
  {
   "cell_type": "markdown",
   "id": "0ccbc2ad",
   "metadata": {},
   "source": [
    "In case we want to have more control over the assigned mechanisms, we can do this manually as well. For instance, we can\n",
    "can assign an empirical distribution to the root node X and linear additive noise models to nodes Y and Z:"
   ]
  },
  {
   "cell_type": "code",
   "execution_count": 5,
   "id": "7dc5b82d",
   "metadata": {
    "collapsed": false,
    "execution": {
     "iopub.execute_input": "2022-10-17T15:00:22.661289Z",
     "iopub.status.busy": "2022-10-17T15:00:22.660835Z",
     "iopub.status.idle": "2022-10-17T15:00:22.667092Z",
     "shell.execute_reply": "2022-10-17T15:00:22.666141Z"
    },
    "pycharm": {
     "name": "#%%\n"
    }
   },
   "outputs": [],
   "source": [
    "causal_model.set_causal_mechanism('X', gcm.EmpiricalDistribution())\n",
    "causal_model.set_causal_mechanism('Y', gcm.AdditiveNoiseModel(gcm.ml.create_linear_regressor()))\n",
    "causal_model.set_causal_mechanism('Z', gcm.AdditiveNoiseModel(gcm.ml.create_linear_regressor()))"
   ]
  },
  {
   "cell_type": "markdown",
   "id": "684d6391",
   "metadata": {},
   "source": [
    "In the real world, the data comes as an opaque stream of values, where we typically don't know how one\n",
    "variable influences another. The graphical causal models can help us to deconstruct these causal\n",
    "relationships again, even though we didn't know them before.\n",
    "\n",
    "## Step 2: Fitting the SCM to the data\n",
    "\n",
    "With the data at hand and the graph constructed earlier, we can now train the SCM using `fit`:"
   ]
  },
  {
   "cell_type": "code",
   "execution_count": 6,
   "id": "fe5f99f0",
   "metadata": {
    "execution": {
     "iopub.execute_input": "2022-10-17T15:00:22.670894Z",
     "iopub.status.busy": "2022-10-17T15:00:22.670607Z",
     "iopub.status.idle": "2022-10-17T15:00:22.685996Z",
     "shell.execute_reply": "2022-10-17T15:00:22.685016Z"
    }
   },
   "outputs": [
    {
     "name": "stderr",
     "output_type": "stream",
     "text": [
      "\r",
      "Fitting causal models:   0%|          | 0/3 [00:00<?, ?it/s]"
     ]
    },
    {
     "name": "stderr",
     "output_type": "stream",
     "text": [
      "\r",
      "Fitting causal mechanism of node X:   0%|          | 0/3 [00:00<?, ?it/s]"
     ]
    },
    {
     "name": "stderr",
     "output_type": "stream",
     "text": [
      "\r",
      "Fitting causal mechanism of node Y:   0%|          | 0/3 [00:00<?, ?it/s]"
     ]
    },
    {
     "name": "stderr",
     "output_type": "stream",
     "text": [
      "\r",
      "Fitting causal mechanism of node Z:   0%|          | 0/3 [00:00<?, ?it/s]"
     ]
    },
    {
     "name": "stderr",
     "output_type": "stream",
     "text": [
      "\r",
      "Fitting causal mechanism of node Z: 100%|██████████| 3/3 [00:00<00:00, 393.47it/s]"
     ]
    },
    {
     "name": "stderr",
     "output_type": "stream",
     "text": [
      "\n"
     ]
    }
   ],
   "source": [
    "gcm.fit(causal_model, data)"
   ]
  },
  {
   "cell_type": "markdown",
   "id": "13043ca5",
   "metadata": {},
   "source": [
    "Fitting means, we learn the generative models of the variables in the SCM according to the data."
   ]
  },
  {
   "cell_type": "markdown",
   "id": "fc324e13",
   "metadata": {},
   "source": [
    "## Step 3: Answering a causal query based on the SCM\n",
    "\n",
    "The last step, answering a causal question, is our actual goal. E.g. we could ask the question:\n",
    "\n",
    "> What will happen to the variable Z if I intervene on Y?\n",
    "\n",
    "This can be done via the `interventional_samples` function. Here’s how:"
   ]
  },
  {
   "cell_type": "code",
   "execution_count": 7,
   "id": "52452496",
   "metadata": {
    "execution": {
     "iopub.execute_input": "2022-10-17T15:00:22.690699Z",
     "iopub.status.busy": "2022-10-17T15:00:22.690234Z",
     "iopub.status.idle": "2022-10-17T15:00:22.708406Z",
     "shell.execute_reply": "2022-10-17T15:00:22.707364Z"
    }
   },
   "outputs": [
    {
     "data": {
      "text/html": [
       "<div>\n",
       "<style scoped>\n",
       "    .dataframe tbody tr th:only-of-type {\n",
       "        vertical-align: middle;\n",
       "    }\n",
       "\n",
       "    .dataframe tbody tr th {\n",
       "        vertical-align: top;\n",
       "    }\n",
       "\n",
       "    .dataframe thead th {\n",
       "        text-align: right;\n",
       "    }\n",
       "</style>\n",
       "<table border=\"1\" class=\"dataframe\">\n",
       "  <thead>\n",
       "    <tr style=\"text-align: right;\">\n",
       "      <th></th>\n",
       "      <th>X</th>\n",
       "      <th>Y</th>\n",
       "      <th>Z</th>\n",
       "    </tr>\n",
       "  </thead>\n",
       "  <tbody>\n",
       "    <tr>\n",
       "      <th>0</th>\n",
       "      <td>-1.393305</td>\n",
       "      <td>2.34</td>\n",
       "      <td>7.982656</td>\n",
       "    </tr>\n",
       "    <tr>\n",
       "      <th>1</th>\n",
       "      <td>-0.836615</td>\n",
       "      <td>2.34</td>\n",
       "      <td>6.231951</td>\n",
       "    </tr>\n",
       "    <tr>\n",
       "      <th>2</th>\n",
       "      <td>-1.634745</td>\n",
       "      <td>2.34</td>\n",
       "      <td>5.824219</td>\n",
       "    </tr>\n",
       "    <tr>\n",
       "      <th>3</th>\n",
       "      <td>-1.662214</td>\n",
       "      <td>2.34</td>\n",
       "      <td>6.805400</td>\n",
       "    </tr>\n",
       "    <tr>\n",
       "      <th>4</th>\n",
       "      <td>-0.878248</td>\n",
       "      <td>2.34</td>\n",
       "      <td>8.690526</td>\n",
       "    </tr>\n",
       "  </tbody>\n",
       "</table>\n",
       "</div>"
      ],
      "text/plain": [
       "          X     Y         Z\n",
       "0 -1.393305  2.34  7.982656\n",
       "1 -0.836615  2.34  6.231951\n",
       "2 -1.634745  2.34  5.824219\n",
       "3 -1.662214  2.34  6.805400\n",
       "4 -0.878248  2.34  8.690526"
      ]
     },
     "execution_count": 7,
     "metadata": {},
     "output_type": "execute_result"
    }
   ],
   "source": [
    "samples = gcm.interventional_samples(causal_model,\n",
    "                                     {'Y': lambda y: 2.34 },\n",
    "                                     num_samples_to_draw=1000)\n",
    "samples.head()"
   ]
  },
  {
   "cell_type": "markdown",
   "id": "fed830e0",
   "metadata": {
    "collapsed": false,
    "pycharm": {
     "name": "#%% md\n"
    }
   },
   "source": [
    "This intervention says: \"I'll ignore any causal effects of X on Y, and set every value of Y\n",
    "to 2.34.\" So the distribution of X will remain unchanged, whereas values of Y will be at a fixed\n",
    "value and Z will respond according to its causal model."
   ]
  }
 ],
 "metadata": {
  "kernelspec": {
   "display_name": "Python 3 (ipykernel)",
   "language": "python",
   "name": "python3"
  },
  "language_info": {
   "codemirror_mode": {
    "name": "ipython",
    "version": 3
   },
   "file_extension": ".py",
   "mimetype": "text/x-python",
   "name": "python",
   "nbconvert_exporter": "python",
   "pygments_lexer": "ipython3",
   "version": "3.8.10"
  }
 },
 "nbformat": 4,
 "nbformat_minor": 5
}
