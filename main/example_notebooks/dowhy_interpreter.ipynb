{
 "cells": [
  {
   "cell_type": "markdown",
   "id": "0329e400",
   "metadata": {},
   "source": [
    "# DoWhy: Interpreters for Causal Estimators\n",
    "\n",
    "This is a quick introduction to the use of interpreters in the DoWhy causal inference library.\n",
    "We will load in a sample dataset, use different methods for estimating the causal effect of a (pre-specified)treatment variable on a (pre-specified) outcome variable and demonstrate how to interpret the obtained results.\n",
    "\n",
    "First, let us add the required path for Python to find the DoWhy code and load all required packages"
   ]
  },
  {
   "cell_type": "code",
   "execution_count": 1,
   "id": "bfe31d4e",
   "metadata": {
    "execution": {
     "iopub.execute_input": "2022-11-14T20:39:50.477801Z",
     "iopub.status.busy": "2022-11-14T20:39:50.476711Z",
     "iopub.status.idle": "2022-11-14T20:39:50.493530Z",
     "shell.execute_reply": "2022-11-14T20:39:50.492785Z"
    }
   },
   "outputs": [],
   "source": [
    "%load_ext autoreload\n",
    "%autoreload 2"
   ]
  },
  {
   "cell_type": "code",
   "execution_count": 2,
   "id": "bc28c4a8",
   "metadata": {
    "execution": {
     "iopub.execute_input": "2022-11-14T20:39:50.496244Z",
     "iopub.status.busy": "2022-11-14T20:39:50.496037Z",
     "iopub.status.idle": "2022-11-14T20:39:52.447015Z",
     "shell.execute_reply": "2022-11-14T20:39:52.446364Z"
    }
   },
   "outputs": [],
   "source": [
    "import numpy as np\n",
    "import pandas as pd\n",
    "import logging\n",
    "\n",
    "import dowhy\n",
    "from dowhy import CausalModel\n",
    "import dowhy.datasets "
   ]
  },
  {
   "cell_type": "markdown",
   "id": "fd269195",
   "metadata": {},
   "source": [
    "Now, let us load a dataset. For simplicity, we simulate a dataset with linear relationships between common causes and treatment, and common causes and outcome.\n",
    "\n",
    "Beta is the true causal effect."
   ]
  },
  {
   "cell_type": "code",
   "execution_count": 3,
   "id": "684e827d",
   "metadata": {
    "execution": {
     "iopub.execute_input": "2022-11-14T20:39:52.451178Z",
     "iopub.status.busy": "2022-11-14T20:39:52.450638Z",
     "iopub.status.idle": "2022-11-14T20:39:52.725105Z",
     "shell.execute_reply": "2022-11-14T20:39:52.724241Z"
    }
   },
   "outputs": [
    {
     "name": "stdout",
     "output_type": "stream",
     "text": [
      "8623\n"
     ]
    },
    {
     "data": {
      "text/html": [
       "<div>\n",
       "<style scoped>\n",
       "    .dataframe tbody tr th:only-of-type {\n",
       "        vertical-align: middle;\n",
       "    }\n",
       "\n",
       "    .dataframe tbody tr th {\n",
       "        vertical-align: top;\n",
       "    }\n",
       "\n",
       "    .dataframe thead th {\n",
       "        text-align: right;\n",
       "    }\n",
       "</style>\n",
       "<table border=\"1\" class=\"dataframe\">\n",
       "  <thead>\n",
       "    <tr style=\"text-align: right;\">\n",
       "      <th></th>\n",
       "      <th>Z0</th>\n",
       "      <th>Z1</th>\n",
       "      <th>W0</th>\n",
       "      <th>W1</th>\n",
       "      <th>W2</th>\n",
       "      <th>W3</th>\n",
       "      <th>W4</th>\n",
       "      <th>v0</th>\n",
       "      <th>y</th>\n",
       "    </tr>\n",
       "  </thead>\n",
       "  <tbody>\n",
       "    <tr>\n",
       "      <th>0</th>\n",
       "      <td>0.0</td>\n",
       "      <td>0.098882</td>\n",
       "      <td>2.071139</td>\n",
       "      <td>-0.550180</td>\n",
       "      <td>-0.397832</td>\n",
       "      <td>1.153011</td>\n",
       "      <td>1</td>\n",
       "      <td>True</td>\n",
       "      <td>3.599699</td>\n",
       "    </tr>\n",
       "    <tr>\n",
       "      <th>1</th>\n",
       "      <td>0.0</td>\n",
       "      <td>0.333380</td>\n",
       "      <td>0.433020</td>\n",
       "      <td>0.147500</td>\n",
       "      <td>2.108802</td>\n",
       "      <td>1.216674</td>\n",
       "      <td>0</td>\n",
       "      <td>True</td>\n",
       "      <td>3.800321</td>\n",
       "    </tr>\n",
       "    <tr>\n",
       "      <th>2</th>\n",
       "      <td>0.0</td>\n",
       "      <td>0.350783</td>\n",
       "      <td>0.569348</td>\n",
       "      <td>0.081853</td>\n",
       "      <td>0.501817</td>\n",
       "      <td>-0.104820</td>\n",
       "      <td>3</td>\n",
       "      <td>True</td>\n",
       "      <td>2.243020</td>\n",
       "    </tr>\n",
       "    <tr>\n",
       "      <th>3</th>\n",
       "      <td>0.0</td>\n",
       "      <td>0.489321</td>\n",
       "      <td>-0.530186</td>\n",
       "      <td>0.895094</td>\n",
       "      <td>0.006100</td>\n",
       "      <td>0.232285</td>\n",
       "      <td>0</td>\n",
       "      <td>True</td>\n",
       "      <td>0.723095</td>\n",
       "    </tr>\n",
       "    <tr>\n",
       "      <th>4</th>\n",
       "      <td>0.0</td>\n",
       "      <td>0.079776</td>\n",
       "      <td>-0.932435</td>\n",
       "      <td>-0.188927</td>\n",
       "      <td>1.434974</td>\n",
       "      <td>1.421583</td>\n",
       "      <td>0</td>\n",
       "      <td>False</td>\n",
       "      <td>1.124611</td>\n",
       "    </tr>\n",
       "    <tr>\n",
       "      <th>...</th>\n",
       "      <td>...</td>\n",
       "      <td>...</td>\n",
       "      <td>...</td>\n",
       "      <td>...</td>\n",
       "      <td>...</td>\n",
       "      <td>...</td>\n",
       "      <td>...</td>\n",
       "      <td>...</td>\n",
       "      <td>...</td>\n",
       "    </tr>\n",
       "    <tr>\n",
       "      <th>9995</th>\n",
       "      <td>0.0</td>\n",
       "      <td>0.726876</td>\n",
       "      <td>-2.171510</td>\n",
       "      <td>-1.319114</td>\n",
       "      <td>0.155609</td>\n",
       "      <td>1.488085</td>\n",
       "      <td>3</td>\n",
       "      <td>True</td>\n",
       "      <td>0.412623</td>\n",
       "    </tr>\n",
       "    <tr>\n",
       "      <th>9996</th>\n",
       "      <td>0.0</td>\n",
       "      <td>0.749339</td>\n",
       "      <td>0.454141</td>\n",
       "      <td>0.907420</td>\n",
       "      <td>0.506008</td>\n",
       "      <td>1.240040</td>\n",
       "      <td>3</td>\n",
       "      <td>True</td>\n",
       "      <td>3.151826</td>\n",
       "    </tr>\n",
       "    <tr>\n",
       "      <th>9997</th>\n",
       "      <td>0.0</td>\n",
       "      <td>0.138899</td>\n",
       "      <td>0.024353</td>\n",
       "      <td>-0.154115</td>\n",
       "      <td>1.158496</td>\n",
       "      <td>0.749281</td>\n",
       "      <td>1</td>\n",
       "      <td>True</td>\n",
       "      <td>2.519400</td>\n",
       "    </tr>\n",
       "    <tr>\n",
       "      <th>9998</th>\n",
       "      <td>0.0</td>\n",
       "      <td>0.084805</td>\n",
       "      <td>0.269302</td>\n",
       "      <td>-0.827357</td>\n",
       "      <td>-0.998744</td>\n",
       "      <td>0.489441</td>\n",
       "      <td>1</td>\n",
       "      <td>False</td>\n",
       "      <td>-0.032424</td>\n",
       "    </tr>\n",
       "    <tr>\n",
       "      <th>9999</th>\n",
       "      <td>0.0</td>\n",
       "      <td>0.752419</td>\n",
       "      <td>0.384277</td>\n",
       "      <td>2.689262</td>\n",
       "      <td>0.094228</td>\n",
       "      <td>1.478797</td>\n",
       "      <td>0</td>\n",
       "      <td>True</td>\n",
       "      <td>2.649653</td>\n",
       "    </tr>\n",
       "  </tbody>\n",
       "</table>\n",
       "<p>10000 rows × 9 columns</p>\n",
       "</div>"
      ],
      "text/plain": [
       "       Z0        Z1        W0        W1        W2        W3 W4     v0  \\\n",
       "0     0.0  0.098882  2.071139 -0.550180 -0.397832  1.153011  1   True   \n",
       "1     0.0  0.333380  0.433020  0.147500  2.108802  1.216674  0   True   \n",
       "2     0.0  0.350783  0.569348  0.081853  0.501817 -0.104820  3   True   \n",
       "3     0.0  0.489321 -0.530186  0.895094  0.006100  0.232285  0   True   \n",
       "4     0.0  0.079776 -0.932435 -0.188927  1.434974  1.421583  0  False   \n",
       "...   ...       ...       ...       ...       ...       ... ..    ...   \n",
       "9995  0.0  0.726876 -2.171510 -1.319114  0.155609  1.488085  3   True   \n",
       "9996  0.0  0.749339  0.454141  0.907420  0.506008  1.240040  3   True   \n",
       "9997  0.0  0.138899  0.024353 -0.154115  1.158496  0.749281  1   True   \n",
       "9998  0.0  0.084805  0.269302 -0.827357 -0.998744  0.489441  1  False   \n",
       "9999  0.0  0.752419  0.384277  2.689262  0.094228  1.478797  0   True   \n",
       "\n",
       "             y  \n",
       "0     3.599699  \n",
       "1     3.800321  \n",
       "2     2.243020  \n",
       "3     0.723095  \n",
       "4     1.124611  \n",
       "...        ...  \n",
       "9995  0.412623  \n",
       "9996  3.151826  \n",
       "9997  2.519400  \n",
       "9998 -0.032424  \n",
       "9999  2.649653  \n",
       "\n",
       "[10000 rows x 9 columns]"
      ]
     },
     "execution_count": 3,
     "metadata": {},
     "output_type": "execute_result"
    }
   ],
   "source": [
    "data = dowhy.datasets.linear_dataset(beta=1,\n",
    "        num_common_causes=5, \n",
    "        num_instruments = 2,\n",
    "        num_treatments=1,\n",
    "        num_discrete_common_causes=1,\n",
    "        num_samples=10000,\n",
    "        treatment_is_binary=True,\n",
    "        outcome_is_binary=False)\n",
    "df = data[\"df\"]\n",
    "print(df[df.v0==True].shape[0])\n",
    "df"
   ]
  },
  {
   "cell_type": "markdown",
   "id": "f6e82842",
   "metadata": {},
   "source": [
    "Note that we are using a pandas dataframe to load the data."
   ]
  },
  {
   "cell_type": "markdown",
   "id": "6c3fa3c5",
   "metadata": {},
   "source": [
    "## Identifying the causal estimand"
   ]
  },
  {
   "cell_type": "markdown",
   "id": "03495040",
   "metadata": {},
   "source": [
    "We now input a causal graph in the GML graph format."
   ]
  },
  {
   "cell_type": "code",
   "execution_count": 4,
   "id": "dc0a693b",
   "metadata": {
    "execution": {
     "iopub.execute_input": "2022-11-14T20:39:52.728257Z",
     "iopub.status.busy": "2022-11-14T20:39:52.727988Z",
     "iopub.status.idle": "2022-11-14T20:39:52.758493Z",
     "shell.execute_reply": "2022-11-14T20:39:52.757898Z"
    }
   },
   "outputs": [],
   "source": [
    "# With graph\n",
    "model=CausalModel(\n",
    "        data = df,\n",
    "        treatment=data[\"treatment_name\"],\n",
    "        outcome=data[\"outcome_name\"],\n",
    "        graph=data[\"gml_graph\"],\n",
    "        instruments=data[\"instrument_names\"]\n",
    "        )"
   ]
  },
  {
   "cell_type": "code",
   "execution_count": 5,
   "id": "3466fe2c",
   "metadata": {
    "execution": {
     "iopub.execute_input": "2022-11-14T20:39:52.761480Z",
     "iopub.status.busy": "2022-11-14T20:39:52.761175Z",
     "iopub.status.idle": "2022-11-14T20:39:52.821781Z",
     "shell.execute_reply": "2022-11-14T20:39:52.821146Z"
    }
   },
   "outputs": [],
   "source": [
    "model.view_model()"
   ]
  },
  {
   "cell_type": "code",
   "execution_count": 6,
   "id": "c476a758",
   "metadata": {
    "execution": {
     "iopub.execute_input": "2022-11-14T20:39:52.825070Z",
     "iopub.status.busy": "2022-11-14T20:39:52.824519Z",
     "iopub.status.idle": "2022-11-14T20:39:52.856159Z",
     "shell.execute_reply": "2022-11-14T20:39:52.855591Z"
    }
   },
   "outputs": [
    {
     "data": {
      "image/png": "[encoded data removed]",
      "text/plain": [
       "<IPython.core.display.Image object>"
      ]
     },
     "metadata": {},
     "output_type": "display_data"
    }
   ],
   "source": [
    "from IPython.display import Image, display\n",
    "display(Image(filename=\"causal_model.png\"))"
   ]
  },
  {
   "cell_type": "markdown",
   "id": "22adef34",
   "metadata": {},
   "source": [
    "We get a causal graph. Now identification and estimation is done."
   ]
  },
  {
   "cell_type": "code",
   "execution_count": 7,
   "id": "04223de2",
   "metadata": {
    "execution": {
     "iopub.execute_input": "2022-11-14T20:39:52.858946Z",
     "iopub.status.busy": "2022-11-14T20:39:52.858741Z",
     "iopub.status.idle": "2022-11-14T20:39:53.088655Z",
     "shell.execute_reply": "2022-11-14T20:39:53.088045Z"
    }
   },
   "outputs": [
    {
     "name": "stdout",
     "output_type": "stream",
     "text": [
      "Estimand type: EstimandType.NONPARAMETRIC_ATE\n",
      "\n",
      "### Estimand : 1\n",
      "Estimand name: backdoor\n",
      "Estimand expression:\n",
      "  d                       \n",
      "─────(E[y|W1,W2,W3,W4,W0])\n",
      "d[v₀]                     \n",
      "Estimand assumption 1, Unconfoundedness: If U→{v0} and U→y then P(y|v0,W1,W2,W3,W4,W0,U) = P(y|v0,W1,W2,W3,W4,W0)\n",
      "\n",
      "### Estimand : 2\n",
      "Estimand name: iv\n",
      "Estimand expression:\n",
      " ⎡                              -1⎤\n",
      " ⎢    d        ⎛    d          ⎞  ⎥\n",
      "E⎢─────────(y)⋅⎜─────────([v₀])⎟  ⎥\n",
      " ⎣d[Z₁  Z₀]    ⎝d[Z₁  Z₀]      ⎠  ⎦\n",
      "Estimand assumption 1, As-if-random: If U→→y then ¬(U →→{Z1,Z0})\n",
      "Estimand assumption 2, Exclusion: If we remove {Z1,Z0}→{v0}, then ¬({Z1,Z0}→y)\n",
      "\n",
      "### Estimand : 3\n",
      "Estimand name: frontdoor\n",
      "No such variable(s) found!\n",
      "\n"
     ]
    }
   ],
   "source": [
    "identified_estimand = model.identify_effect(proceed_when_unidentifiable=True)\n",
    "print(identified_estimand)"
   ]
  },
  {
   "cell_type": "markdown",
   "id": "204713a4",
   "metadata": {},
   "source": [
    "## Method 1: Propensity Score Stratification\n",
    "\n",
    "We will be using propensity scores to stratify units in the data."
   ]
  },
  {
   "cell_type": "code",
   "execution_count": 8,
   "id": "3d844ef5",
   "metadata": {
    "execution": {
     "iopub.execute_input": "2022-11-14T20:39:53.092433Z",
     "iopub.status.busy": "2022-11-14T20:39:53.091935Z",
     "iopub.status.idle": "2022-11-14T20:39:53.726031Z",
     "shell.execute_reply": "2022-11-14T20:39:53.725388Z"
    }
   },
   "outputs": [
    {
     "name": "stdout",
     "output_type": "stream",
     "text": [
      "*** Causal Estimate ***\n",
      "\n",
      "## Identified estimand\n",
      "Estimand type: EstimandType.NONPARAMETRIC_ATE\n",
      "\n",
      "### Estimand : 1\n",
      "Estimand name: backdoor\n",
      "Estimand expression:\n",
      "  d                       \n",
      "─────(E[y|W1,W2,W3,W4,W0])\n",
      "d[v₀]                     \n",
      "Estimand assumption 1, Unconfoundedness: If U→{v0} and U→y then P(y|v0,W1,W2,W3,W4,W0,U) = P(y|v0,W1,W2,W3,W4,W0)\n",
      "\n",
      "## Realized estimand\n",
      "b: y~v0+W1+W2+W3+W4+W0\n",
      "Target units: att\n",
      "\n",
      "## Estimate\n",
      "Mean value: 0.9796354538246619\n",
      "\n",
      "Causal Estimate is 0.9796354538246619\n"
     ]
    }
   ],
   "source": [
    "causal_estimate_strat = model.estimate_effect(identified_estimand,\n",
    "                                              method_name=\"backdoor.propensity_score_stratification\",\n",
    "                                              target_units=\"att\")\n",
    "print(causal_estimate_strat)\n",
    "print(\"Causal Estimate is \" + str(causal_estimate_strat.value))"
   ]
  },
  {
   "cell_type": "markdown",
   "id": "14df706e",
   "metadata": {},
   "source": [
    "### Textual Interpreter\n",
    "\n",
    "The textual Interpreter describes (in words) the effect of unit change in the treatment variable on the outcome variable."
   ]
  },
  {
   "cell_type": "code",
   "execution_count": 9,
   "id": "24183635",
   "metadata": {
    "execution": {
     "iopub.execute_input": "2022-11-14T20:39:53.729159Z",
     "iopub.status.busy": "2022-11-14T20:39:53.728945Z",
     "iopub.status.idle": "2022-11-14T20:39:53.759312Z",
     "shell.execute_reply": "2022-11-14T20:39:53.758716Z"
    }
   },
   "outputs": [
    {
     "name": "stdout",
     "output_type": "stream",
     "text": [
      "Increasing the treatment variable(s) [v0] from 0 to 1 causes an increase of 0.9796354538246619 in the expected value of the outcome [y], over the data distribution/population represented by the dataset.\n"
     ]
    }
   ],
   "source": [
    "# Textual Interpreter\n",
    "interpretation = causal_estimate_strat.interpret(method_name=\"textual_effect_interpreter\")"
   ]
  },
  {
   "cell_type": "markdown",
   "id": "02fa0b2a",
   "metadata": {},
   "source": [
    "### Visual Interpreter\n",
    "\n",
    "The visual interpreter plots the change in the standardized mean difference (SMD) before and after Propensity Score based adjustment of the dataset. The formula for SMD is given below.\n",
    "\n",
    "\n",
    "$SMD = \\frac{\\bar X_{1} - \\bar X_{2}}{\\sqrt{(S_{1}^{2} + S_{2}^{2})/2}}$\n",
    "\n",
    "Here, $\\bar X_{1}$ and $\\bar X_{2}$ are the sample mean for the treated and control groups.\n"
   ]
  },
  {
   "cell_type": "code",
   "execution_count": 10,
   "id": "8a4088fe",
   "metadata": {
    "execution": {
     "iopub.execute_input": "2022-11-14T20:39:53.762106Z",
     "iopub.status.busy": "2022-11-14T20:39:53.761893Z",
     "iopub.status.idle": "2022-11-14T20:39:54.310076Z",
     "shell.execute_reply": "2022-11-14T20:39:54.309393Z"
    }
   },
   "outputs": [
    {
     "data": {
      "image/png": "[encoded data removed]",
      "text/plain": [
       "<Figure size 640x480 with 1 Axes>"
      ]
     },
     "metadata": {},
     "output_type": "display_data"
    }
   ],
   "source": [
    "# Visual Interpreter\n",
    "interpretation = causal_estimate_strat.interpret(method_name=\"propensity_balance_interpreter\")"
   ]
  },
  {
   "cell_type": "markdown",
   "id": "eaa04aa3",
   "metadata": {},
   "source": [
    "This plot shows how the SMD decreases from the unadjusted to the stratified units. "
   ]
  },
  {
   "cell_type": "markdown",
   "id": "e06fdbc4",
   "metadata": {},
   "source": [
    "## Method 2: Propensity Score Matching\n",
    "\n",
    "We will be using propensity scores to match units in the data."
   ]
  },
  {
   "cell_type": "code",
   "execution_count": 11,
   "id": "bb38a5f9",
   "metadata": {
    "execution": {
     "iopub.execute_input": "2022-11-14T20:39:54.313258Z",
     "iopub.status.busy": "2022-11-14T20:39:54.312920Z",
     "iopub.status.idle": "2022-11-14T20:39:57.732097Z",
     "shell.execute_reply": "2022-11-14T20:39:57.731564Z"
    }
   },
   "outputs": [
    {
     "name": "stdout",
     "output_type": "stream",
     "text": [
      "*** Causal Estimate ***\n",
      "\n",
      "## Identified estimand\n",
      "Estimand type: EstimandType.NONPARAMETRIC_ATE\n",
      "\n",
      "### Estimand : 1\n",
      "Estimand name: backdoor\n",
      "Estimand expression:\n",
      "  d                       \n",
      "─────(E[y|W1,W2,W3,W4,W0])\n",
      "d[v₀]                     \n",
      "Estimand assumption 1, Unconfoundedness: If U→{v0} and U→y then P(y|v0,W1,W2,W3,W4,W0,U) = P(y|v0,W1,W2,W3,W4,W0)\n",
      "\n",
      "## Realized estimand\n",
      "b: y~v0+W1+W2+W3+W4+W0\n",
      "Target units: atc\n",
      "\n",
      "## Estimate\n",
      "Mean value: 0.9242282370143521\n",
      "\n",
      "Causal Estimate is 0.9242282370143521\n"
     ]
    }
   ],
   "source": [
    "causal_estimate_match = model.estimate_effect(identified_estimand,\n",
    "                                              method_name=\"backdoor.propensity_score_matching\",\n",
    "                                              target_units=\"atc\")\n",
    "print(causal_estimate_match)\n",
    "print(\"Causal Estimate is \" + str(causal_estimate_match.value))"
   ]
  },
  {
   "cell_type": "code",
   "execution_count": 12,
   "id": "cfebe909",
   "metadata": {
    "execution": {
     "iopub.execute_input": "2022-11-14T20:39:57.735320Z",
     "iopub.status.busy": "2022-11-14T20:39:57.734826Z",
     "iopub.status.idle": "2022-11-14T20:39:57.765659Z",
     "shell.execute_reply": "2022-11-14T20:39:57.765082Z"
    }
   },
   "outputs": [
    {
     "name": "stdout",
     "output_type": "stream",
     "text": [
      "Increasing the treatment variable(s) [v0] from 0 to 1 causes an increase of 0.9242282370143521 in the expected value of the outcome [y], over the data distribution/population represented by the dataset.\n"
     ]
    }
   ],
   "source": [
    "# Textual Interpreter\n",
    "interpretation = causal_estimate_match.interpret(method_name=\"textual_effect_interpreter\")"
   ]
  },
  {
   "cell_type": "markdown",
   "id": "b130ebb4",
   "metadata": {},
   "source": [
    "Cannot use propensity balance interpretor here since the interpreter method only supports propensity score stratification estimator."
   ]
  },
  {
   "cell_type": "markdown",
   "id": "626b7438",
   "metadata": {},
   "source": [
    "## Method 3: Weighting\n",
    "\n",
    "We will be using (inverse) propensity scores to assign weights to units in the data. DoWhy supports a few different weighting schemes:\n",
    "1. Vanilla Inverse Propensity Score weighting (IPS) (weighting_scheme=\"ips_weight\")\n",
    "2. Self-normalized IPS weighting (also known as the Hajek estimator) (weighting_scheme=\"ips_normalized_weight\")\n",
    "3. Stabilized IPS weighting (weighting_scheme = \"ips_stabilized_weight\")"
   ]
  },
  {
   "cell_type": "code",
   "execution_count": 13,
   "id": "b4941b4f",
   "metadata": {
    "execution": {
     "iopub.execute_input": "2022-11-14T20:39:57.768746Z",
     "iopub.status.busy": "2022-11-14T20:39:57.768194Z",
     "iopub.status.idle": "2022-11-14T20:39:57.829931Z",
     "shell.execute_reply": "2022-11-14T20:39:57.829319Z"
    }
   },
   "outputs": [
    {
     "name": "stdout",
     "output_type": "stream",
     "text": [
      "*** Causal Estimate ***\n",
      "\n",
      "## Identified estimand\n",
      "Estimand type: EstimandType.NONPARAMETRIC_ATE\n",
      "\n",
      "### Estimand : 1\n",
      "Estimand name: backdoor\n",
      "Estimand expression:\n",
      "  d                       \n",
      "─────(E[y|W1,W2,W3,W4,W0])\n",
      "d[v₀]                     \n",
      "Estimand assumption 1, Unconfoundedness: If U→{v0} and U→y then P(y|v0,W1,W2,W3,W4,W0,U) = P(y|v0,W1,W2,W3,W4,W0)\n",
      "\n",
      "## Realized estimand\n",
      "b: y~v0+W1+W2+W3+W4+W0\n",
      "Target units: ate\n",
      "\n",
      "## Estimate\n",
      "Mean value: 1.0926357129218045\n",
      "\n",
      "Causal Estimate is 1.0926357129218045\n"
     ]
    }
   ],
   "source": [
    "causal_estimate_ipw = model.estimate_effect(identified_estimand,\n",
    "                                            method_name=\"backdoor.propensity_score_weighting\",\n",
    "                                            target_units = \"ate\",\n",
    "                                            method_params={\"weighting_scheme\":\"ips_weight\"})\n",
    "print(causal_estimate_ipw)\n",
    "print(\"Causal Estimate is \" + str(causal_estimate_ipw.value))"
   ]
  },
  {
   "cell_type": "code",
   "execution_count": 14,
   "id": "8bf4e119",
   "metadata": {
    "execution": {
     "iopub.execute_input": "2022-11-14T20:39:57.833048Z",
     "iopub.status.busy": "2022-11-14T20:39:57.832707Z",
     "iopub.status.idle": "2022-11-14T20:39:57.861498Z",
     "shell.execute_reply": "2022-11-14T20:39:57.860907Z"
    }
   },
   "outputs": [
    {
     "name": "stdout",
     "output_type": "stream",
     "text": [
      "Increasing the treatment variable(s) [v0] from 0 to 1 causes an increase of 1.0926357129218045 in the expected value of the outcome [y], over the data distribution/population represented by the dataset.\n"
     ]
    }
   ],
   "source": [
    "# Textual Interpreter\n",
    "interpretation = causal_estimate_ipw.interpret(method_name=\"textual_effect_interpreter\")"
   ]
  },
  {
   "cell_type": "code",
   "execution_count": 15,
   "id": "6ff8f6b6",
   "metadata": {
    "execution": {
     "iopub.execute_input": "2022-11-14T20:39:57.864327Z",
     "iopub.status.busy": "2022-11-14T20:39:57.864115Z",
     "iopub.status.idle": "2022-11-14T20:39:58.263808Z",
     "shell.execute_reply": "2022-11-14T20:39:58.263219Z"
    }
   },
   "outputs": [
    {
     "data": {
      "image/png": "[encoded data removed]",
      "text/plain": [
       "<Figure size 800x800 with 2 Axes>"
      ]
     },
     "metadata": {},
     "output_type": "display_data"
    }
   ],
   "source": [
    "interpretation = causal_estimate_ipw.interpret(method_name=\"confounder_distribution_interpreter\", fig_size=(8,8), font_size=12, var_name='W4', var_type='discrete')"
   ]
  },
  {
   "cell_type": "code",
   "execution_count": null,
   "id": "a80d985c",
   "metadata": {},
   "outputs": [],
   "source": []
  }
 ],
 "metadata": {
  "kernelspec": {
   "display_name": "Python 3",
   "language": "python",
   "name": "python3"
  },
  "language_info": {
   "codemirror_mode": {
    "name": "ipython",
    "version": 3
   },
   "file_extension": ".py",
   "mimetype": "text/x-python",
   "name": "python",
   "nbconvert_exporter": "python",
   "pygments_lexer": "ipython3",
   "version": "3.8.10"
  },
  "toc": {
   "base_numbering": 1,
   "nav_menu": {},
   "number_sections": false,
   "sideBar": true,
   "skip_h1_title": true,
   "title_cell": "Table of Contents",
   "title_sidebar": "Contents",
   "toc_cell": false,
   "toc_position": {},
   "toc_section_display": true,
   "toc_window_display": false
  }
 },
 "nbformat": 4,
 "nbformat_minor": 5
}
