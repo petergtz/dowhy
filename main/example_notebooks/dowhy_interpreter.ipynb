{
 "cells": [
  {
   "cell_type": "markdown",
   "id": "3f2bf426",
   "metadata": {},
   "source": [
    "# DoWhy: Interpreters for Causal Estimators\n",
    "\n",
    "This is a quick introduction to the use of interpreters in the DoWhy causal inference library.\n",
    "We will load in a sample dataset, use different methods for estimating the causal effect of a (pre-specified)treatment variable on a (pre-specified) outcome variable and demonstrate how to interpret the obtained results.\n",
    "\n",
    "First, let us add the required path for Python to find the DoWhy code and load all required packages"
   ]
  },
  {
   "cell_type": "code",
   "execution_count": 1,
   "id": "f04d974c",
   "metadata": {
    "execution": {
     "iopub.execute_input": "2022-07-29T15:41:32.809344Z",
     "iopub.status.busy": "2022-07-29T15:41:32.809044Z",
     "iopub.status.idle": "2022-07-29T15:41:32.825128Z",
     "shell.execute_reply": "2022-07-29T15:41:32.824541Z"
    }
   },
   "outputs": [],
   "source": [
    "%load_ext autoreload\n",
    "%autoreload 2"
   ]
  },
  {
   "cell_type": "code",
   "execution_count": 2,
   "id": "c8430855",
   "metadata": {
    "execution": {
     "iopub.execute_input": "2022-07-29T15:41:32.828342Z",
     "iopub.status.busy": "2022-07-29T15:41:32.827998Z",
     "iopub.status.idle": "2022-07-29T15:41:33.885169Z",
     "shell.execute_reply": "2022-07-29T15:41:33.884442Z"
    }
   },
   "outputs": [
    {
     "name": "stdout",
     "output_type": "stream",
     "text": [
      "keywords are unexpanded, not using\n"
     ]
    }
   ],
   "source": [
    "import numpy as np\n",
    "import pandas as pd\n",
    "import logging\n",
    "\n",
    "import dowhy\n",
    "from dowhy import CausalModel\n",
    "import dowhy.datasets "
   ]
  },
  {
   "cell_type": "markdown",
   "id": "2d538a65",
   "metadata": {},
   "source": [
    "Now, let us load a dataset. For simplicity, we simulate a dataset with linear relationships between common causes and treatment, and common causes and outcome.\n",
    "\n",
    "Beta is the true causal effect."
   ]
  },
  {
   "cell_type": "code",
   "execution_count": 3,
   "id": "acce2207",
   "metadata": {
    "execution": {
     "iopub.execute_input": "2022-07-29T15:41:33.889210Z",
     "iopub.status.busy": "2022-07-29T15:41:33.888304Z",
     "iopub.status.idle": "2022-07-29T15:41:34.209424Z",
     "shell.execute_reply": "2022-07-29T15:41:34.208798Z"
    }
   },
   "outputs": [
    {
     "name": "stdout",
     "output_type": "stream",
     "text": [
      "8107\n"
     ]
    },
    {
     "data": {
      "text/html": [
       "<div>\n",
       "<style scoped>\n",
       "    .dataframe tbody tr th:only-of-type {\n",
       "        vertical-align: middle;\n",
       "    }\n",
       "\n",
       "    .dataframe tbody tr th {\n",
       "        vertical-align: top;\n",
       "    }\n",
       "\n",
       "    .dataframe thead th {\n",
       "        text-align: right;\n",
       "    }\n",
       "</style>\n",
       "<table border=\"1\" class=\"dataframe\">\n",
       "  <thead>\n",
       "    <tr style=\"text-align: right;\">\n",
       "      <th></th>\n",
       "      <th>Z0</th>\n",
       "      <th>Z1</th>\n",
       "      <th>W0</th>\n",
       "      <th>W1</th>\n",
       "      <th>W2</th>\n",
       "      <th>W3</th>\n",
       "      <th>W4</th>\n",
       "      <th>v0</th>\n",
       "      <th>y</th>\n",
       "    </tr>\n",
       "  </thead>\n",
       "  <tbody>\n",
       "    <tr>\n",
       "      <th>0</th>\n",
       "      <td>0.0</td>\n",
       "      <td>0.237003</td>\n",
       "      <td>-0.597728</td>\n",
       "      <td>1.269312</td>\n",
       "      <td>0.971108</td>\n",
       "      <td>0.831027</td>\n",
       "      <td>0</td>\n",
       "      <td>True</td>\n",
       "      <td>2.542705</td>\n",
       "    </tr>\n",
       "    <tr>\n",
       "      <th>1</th>\n",
       "      <td>0.0</td>\n",
       "      <td>0.679216</td>\n",
       "      <td>-0.918354</td>\n",
       "      <td>-0.006590</td>\n",
       "      <td>-0.426869</td>\n",
       "      <td>-0.268407</td>\n",
       "      <td>0</td>\n",
       "      <td>True</td>\n",
       "      <td>0.434544</td>\n",
       "    </tr>\n",
       "    <tr>\n",
       "      <th>2</th>\n",
       "      <td>0.0</td>\n",
       "      <td>0.316512</td>\n",
       "      <td>0.560135</td>\n",
       "      <td>-1.069856</td>\n",
       "      <td>0.522910</td>\n",
       "      <td>1.277619</td>\n",
       "      <td>3</td>\n",
       "      <td>True</td>\n",
       "      <td>4.590592</td>\n",
       "    </tr>\n",
       "    <tr>\n",
       "      <th>3</th>\n",
       "      <td>0.0</td>\n",
       "      <td>0.111765</td>\n",
       "      <td>1.588304</td>\n",
       "      <td>-1.344106</td>\n",
       "      <td>0.532205</td>\n",
       "      <td>-0.153328</td>\n",
       "      <td>2</td>\n",
       "      <td>True</td>\n",
       "      <td>3.111916</td>\n",
       "    </tr>\n",
       "    <tr>\n",
       "      <th>4</th>\n",
       "      <td>0.0</td>\n",
       "      <td>0.055665</td>\n",
       "      <td>0.344152</td>\n",
       "      <td>-2.252089</td>\n",
       "      <td>0.974893</td>\n",
       "      <td>-0.152283</td>\n",
       "      <td>0</td>\n",
       "      <td>True</td>\n",
       "      <td>1.122132</td>\n",
       "    </tr>\n",
       "    <tr>\n",
       "      <th>...</th>\n",
       "      <td>...</td>\n",
       "      <td>...</td>\n",
       "      <td>...</td>\n",
       "      <td>...</td>\n",
       "      <td>...</td>\n",
       "      <td>...</td>\n",
       "      <td>...</td>\n",
       "      <td>...</td>\n",
       "      <td>...</td>\n",
       "    </tr>\n",
       "    <tr>\n",
       "      <th>9995</th>\n",
       "      <td>0.0</td>\n",
       "      <td>0.056935</td>\n",
       "      <td>1.198590</td>\n",
       "      <td>-0.577462</td>\n",
       "      <td>-1.368015</td>\n",
       "      <td>0.114283</td>\n",
       "      <td>0</td>\n",
       "      <td>False</td>\n",
       "      <td>-1.311904</td>\n",
       "    </tr>\n",
       "    <tr>\n",
       "      <th>9996</th>\n",
       "      <td>0.0</td>\n",
       "      <td>0.969313</td>\n",
       "      <td>-0.609416</td>\n",
       "      <td>-1.225440</td>\n",
       "      <td>-0.495889</td>\n",
       "      <td>-2.239883</td>\n",
       "      <td>0</td>\n",
       "      <td>True</td>\n",
       "      <td>-0.661167</td>\n",
       "    </tr>\n",
       "    <tr>\n",
       "      <th>9997</th>\n",
       "      <td>0.0</td>\n",
       "      <td>0.126381</td>\n",
       "      <td>-1.863258</td>\n",
       "      <td>-0.078487</td>\n",
       "      <td>-0.140962</td>\n",
       "      <td>-0.541108</td>\n",
       "      <td>3</td>\n",
       "      <td>True</td>\n",
       "      <td>3.432153</td>\n",
       "    </tr>\n",
       "    <tr>\n",
       "      <th>9998</th>\n",
       "      <td>0.0</td>\n",
       "      <td>0.039515</td>\n",
       "      <td>0.242962</td>\n",
       "      <td>-2.004261</td>\n",
       "      <td>-0.324982</td>\n",
       "      <td>-1.589388</td>\n",
       "      <td>3</td>\n",
       "      <td>True</td>\n",
       "      <td>2.483291</td>\n",
       "    </tr>\n",
       "    <tr>\n",
       "      <th>9999</th>\n",
       "      <td>1.0</td>\n",
       "      <td>0.820928</td>\n",
       "      <td>-0.390944</td>\n",
       "      <td>-1.949658</td>\n",
       "      <td>-0.572464</td>\n",
       "      <td>-0.270472</td>\n",
       "      <td>0</td>\n",
       "      <td>True</td>\n",
       "      <td>-0.303339</td>\n",
       "    </tr>\n",
       "  </tbody>\n",
       "</table>\n",
       "<p>10000 rows × 9 columns</p>\n",
       "</div>"
      ],
      "text/plain": [
       "       Z0        Z1        W0        W1        W2        W3 W4     v0  \\\n",
       "0     0.0  0.237003 -0.597728  1.269312  0.971108  0.831027  0   True   \n",
       "1     0.0  0.679216 -0.918354 -0.006590 -0.426869 -0.268407  0   True   \n",
       "2     0.0  0.316512  0.560135 -1.069856  0.522910  1.277619  3   True   \n",
       "3     0.0  0.111765  1.588304 -1.344106  0.532205 -0.153328  2   True   \n",
       "4     0.0  0.055665  0.344152 -2.252089  0.974893 -0.152283  0   True   \n",
       "...   ...       ...       ...       ...       ...       ... ..    ...   \n",
       "9995  0.0  0.056935  1.198590 -0.577462 -1.368015  0.114283  0  False   \n",
       "9996  0.0  0.969313 -0.609416 -1.225440 -0.495889 -2.239883  0   True   \n",
       "9997  0.0  0.126381 -1.863258 -0.078487 -0.140962 -0.541108  3   True   \n",
       "9998  0.0  0.039515  0.242962 -2.004261 -0.324982 -1.589388  3   True   \n",
       "9999  1.0  0.820928 -0.390944 -1.949658 -0.572464 -0.270472  0   True   \n",
       "\n",
       "             y  \n",
       "0     2.542705  \n",
       "1     0.434544  \n",
       "2     4.590592  \n",
       "3     3.111916  \n",
       "4     1.122132  \n",
       "...        ...  \n",
       "9995 -1.311904  \n",
       "9996 -0.661167  \n",
       "9997  3.432153  \n",
       "9998  2.483291  \n",
       "9999 -0.303339  \n",
       "\n",
       "[10000 rows x 9 columns]"
      ]
     },
     "execution_count": 3,
     "metadata": {},
     "output_type": "execute_result"
    }
   ],
   "source": [
    "data = dowhy.datasets.linear_dataset(beta=1,\n",
    "        num_common_causes=5, \n",
    "        num_instruments = 2,\n",
    "        num_treatments=1,\n",
    "        num_discrete_common_causes=1,\n",
    "        num_samples=10000,\n",
    "        treatment_is_binary=True,\n",
    "        outcome_is_binary=False)\n",
    "df = data[\"df\"]\n",
    "print(df[df.v0==True].shape[0])\n",
    "df"
   ]
  },
  {
   "cell_type": "markdown",
   "id": "90477c8f",
   "metadata": {},
   "source": [
    "Note that we are using a pandas dataframe to load the data."
   ]
  },
  {
   "cell_type": "markdown",
   "id": "099eac7f",
   "metadata": {},
   "source": [
    "## Identifying the causal estimand"
   ]
  },
  {
   "cell_type": "markdown",
   "id": "d9447426",
   "metadata": {},
   "source": [
    "We now input a causal graph in the GML graph format."
   ]
  },
  {
   "cell_type": "code",
   "execution_count": 4,
   "id": "5fb23122",
   "metadata": {
    "execution": {
     "iopub.execute_input": "2022-07-29T15:41:34.212635Z",
     "iopub.status.busy": "2022-07-29T15:41:34.212376Z",
     "iopub.status.idle": "2022-07-29T15:41:34.237758Z",
     "shell.execute_reply": "2022-07-29T15:41:34.237080Z"
    }
   },
   "outputs": [],
   "source": [
    "# With graph\n",
    "model=CausalModel(\n",
    "        data = df,\n",
    "        treatment=data[\"treatment_name\"],\n",
    "        outcome=data[\"outcome_name\"],\n",
    "        graph=data[\"gml_graph\"],\n",
    "        instruments=data[\"instrument_names\"]\n",
    "        )"
   ]
  },
  {
   "cell_type": "code",
   "execution_count": 5,
   "id": "6bb45c09",
   "metadata": {
    "execution": {
     "iopub.execute_input": "2022-07-29T15:41:34.241212Z",
     "iopub.status.busy": "2022-07-29T15:41:34.240945Z",
     "iopub.status.idle": "2022-07-29T15:41:34.296896Z",
     "shell.execute_reply": "2022-07-29T15:41:34.296216Z"
    }
   },
   "outputs": [],
   "source": [
    "model.view_model()"
   ]
  },
  {
   "cell_type": "code",
   "execution_count": 6,
   "id": "5909a022",
   "metadata": {
    "execution": {
     "iopub.execute_input": "2022-07-29T15:41:34.300262Z",
     "iopub.status.busy": "2022-07-29T15:41:34.299899Z",
     "iopub.status.idle": "2022-07-29T15:41:34.327263Z",
     "shell.execute_reply": "2022-07-29T15:41:34.326659Z"
    }
   },
   "outputs": [
    {
     "data": {
      "image/png": "[encoded data removed]",
      "text/plain": [
       "<IPython.core.display.Image object>"
      ]
     },
     "metadata": {},
     "output_type": "display_data"
    }
   ],
   "source": [
    "from IPython.display import Image, display\n",
    "display(Image(filename=\"causal_model.png\"))"
   ]
  },
  {
   "cell_type": "markdown",
   "id": "f2d198f8",
   "metadata": {},
   "source": [
    "We get a causal graph. Now identification and estimation is done."
   ]
  },
  {
   "cell_type": "code",
   "execution_count": 7,
   "id": "2d8301bb",
   "metadata": {
    "execution": {
     "iopub.execute_input": "2022-07-29T15:41:34.330457Z",
     "iopub.status.busy": "2022-07-29T15:41:34.329993Z",
     "iopub.status.idle": "2022-07-29T15:41:34.559420Z",
     "shell.execute_reply": "2022-07-29T15:41:34.558671Z"
    }
   },
   "outputs": [
    {
     "name": "stdout",
     "output_type": "stream",
     "text": [
      "Estimand type: nonparametric-ate\n",
      "\n",
      "### Estimand : 1\n",
      "Estimand name: backdoor\n",
      "Estimand expression:\n",
      "  d                       \n",
      "─────(E[y|W2,W4,W3,W0,W1])\n",
      "d[v₀]                     \n",
      "Estimand assumption 1, Unconfoundedness: If U→{v0} and U→y then P(y|v0,W2,W4,W3,W0,W1,U) = P(y|v0,W2,W4,W3,W0,W1)\n",
      "\n",
      "### Estimand : 2\n",
      "Estimand name: iv\n",
      "Estimand expression:\n",
      " ⎡                              -1⎤\n",
      " ⎢    d        ⎛    d          ⎞  ⎥\n",
      "E⎢─────────(y)⋅⎜─────────([v₀])⎟  ⎥\n",
      " ⎣d[Z₀  Z₁]    ⎝d[Z₀  Z₁]      ⎠  ⎦\n",
      "Estimand assumption 1, As-if-random: If U→→y then ¬(U →→{Z0,Z1})\n",
      "Estimand assumption 2, Exclusion: If we remove {Z0,Z1}→{v0}, then ¬({Z0,Z1}→y)\n",
      "\n",
      "### Estimand : 3\n",
      "Estimand name: frontdoor\n",
      "No such variable(s) found!\n",
      "\n"
     ]
    }
   ],
   "source": [
    "identified_estimand = model.identify_effect(proceed_when_unidentifiable=True)\n",
    "print(identified_estimand)"
   ]
  },
  {
   "cell_type": "markdown",
   "id": "c021e6ae",
   "metadata": {},
   "source": [
    "## Method 1: Propensity Score Stratification\n",
    "\n",
    "We will be using propensity scores to stratify units in the data."
   ]
  },
  {
   "cell_type": "code",
   "execution_count": 8,
   "id": "0b0dbabf",
   "metadata": {
    "execution": {
     "iopub.execute_input": "2022-07-29T15:41:34.562955Z",
     "iopub.status.busy": "2022-07-29T15:41:34.562412Z",
     "iopub.status.idle": "2022-07-29T15:41:35.290596Z",
     "shell.execute_reply": "2022-07-29T15:41:35.289753Z"
    }
   },
   "outputs": [
    {
     "name": "stdout",
     "output_type": "stream",
     "text": [
      "propensity_score_stratification\n"
     ]
    },
    {
     "name": "stderr",
     "output_type": "stream",
     "text": [
      "/usr/local/lib/python3.8/dist-packages/sklearn/utils/validation.py:993: DataConversionWarning: A column-vector y was passed when a 1d array was expected. Please change the shape of y to (n_samples, ), for example using ravel().\n",
      "  y = column_or_1d(y, warn=True)\n"
     ]
    },
    {
     "name": "stdout",
     "output_type": "stream",
     "text": [
      "*** Causal Estimate ***\n",
      "\n",
      "## Identified estimand\n",
      "Estimand type: nonparametric-ate\n",
      "\n",
      "### Estimand : 1\n",
      "Estimand name: backdoor\n",
      "Estimand expression:\n",
      "  d                       \n",
      "─────(E[y|W2,W4,W3,W0,W1])\n",
      "d[v₀]                     \n",
      "Estimand assumption 1, Unconfoundedness: If U→{v0} and U→y then P(y|v0,W2,W4,W3,W0,W1,U) = P(y|v0,W2,W4,W3,W0,W1)\n",
      "\n",
      "## Realized estimand\n",
      "b: y~v0+W2+W4+W3+W0+W1\n",
      "Target units: att\n",
      "\n",
      "## Estimate\n",
      "Mean value: 1.0051775930496\n",
      "\n",
      "Causal Estimate is 1.0051775930496\n"
     ]
    }
   ],
   "source": [
    "causal_estimate_strat = model.estimate_effect(identified_estimand,\n",
    "                                              method_name=\"backdoor.propensity_score_stratification\",\n",
    "                                              target_units=\"att\")\n",
    "print(causal_estimate_strat)\n",
    "print(\"Causal Estimate is \" + str(causal_estimate_strat.value))"
   ]
  },
  {
   "cell_type": "markdown",
   "id": "e54e1888",
   "metadata": {},
   "source": [
    "### Textual Interpreter\n",
    "\n",
    "The textual Interpreter describes (in words) the effect of unit change in the treatment variable on the outcome variable."
   ]
  },
  {
   "cell_type": "code",
   "execution_count": 9,
   "id": "5a1d774c",
   "metadata": {
    "execution": {
     "iopub.execute_input": "2022-07-29T15:41:35.294472Z",
     "iopub.status.busy": "2022-07-29T15:41:35.294079Z",
     "iopub.status.idle": "2022-07-29T15:41:35.319385Z",
     "shell.execute_reply": "2022-07-29T15:41:35.318674Z"
    }
   },
   "outputs": [
    {
     "name": "stdout",
     "output_type": "stream",
     "text": [
      "Increasing the treatment variable(s) [v0] from 0 to 1 causes an increase of 1.0051775930496 in the expected value of the outcome [y], over the data distribution/population represented by the dataset.\n"
     ]
    }
   ],
   "source": [
    "# Textual Interpreter\n",
    "interpretation = causal_estimate_strat.interpret(method_name=\"textual_effect_interpreter\")"
   ]
  },
  {
   "cell_type": "markdown",
   "id": "f3a692fe",
   "metadata": {},
   "source": [
    "### Visual Interpreter\n",
    "\n",
    "The visual interpreter plots the change in the standardized mean difference (SMD) before and after Propensity Score based adjustment of the dataset. The formula for SMD is given below.\n",
    "\n",
    "\n",
    "$SMD = \\frac{\\bar X_{1} - \\bar X_{2}}{\\sqrt{(S_{1}^{2} + S_{2}^{2})/2}}$\n",
    "\n",
    "Here, $\\bar X_{1}$ and $\\bar X_{2}$ are the sample mean for the treated and control groups.\n"
   ]
  },
  {
   "cell_type": "code",
   "execution_count": 10,
   "id": "dc892faa",
   "metadata": {
    "execution": {
     "iopub.execute_input": "2022-07-29T15:41:35.322991Z",
     "iopub.status.busy": "2022-07-29T15:41:35.322442Z",
     "iopub.status.idle": "2022-07-29T15:41:36.623096Z",
     "shell.execute_reply": "2022-07-29T15:41:36.622455Z"
    }
   },
   "outputs": [
    {
     "data": {
      "image/png": "[encoded data removed]",
      "text/plain": [
       "<Figure size 432x288 with 1 Axes>"
      ]
     },
     "metadata": {
      "needs_background": "light"
     },
     "output_type": "display_data"
    }
   ],
   "source": [
    "# Visual Interpreter\n",
    "interpretation = causal_estimate_strat.interpret(method_name=\"propensity_balance_interpreter\")"
   ]
  },
  {
   "cell_type": "markdown",
   "id": "359def0f",
   "metadata": {},
   "source": [
    "This plot shows how the SMD decreases from the unadjusted to the stratified units. "
   ]
  },
  {
   "cell_type": "markdown",
   "id": "838920b5",
   "metadata": {},
   "source": [
    "## Method 2: Propensity Score Matching\n",
    "\n",
    "We will be using propensity scores to match units in the data."
   ]
  },
  {
   "cell_type": "code",
   "execution_count": 11,
   "id": "ba0fc418",
   "metadata": {
    "execution": {
     "iopub.execute_input": "2022-07-29T15:41:36.627590Z",
     "iopub.status.busy": "2022-07-29T15:41:36.627044Z",
     "iopub.status.idle": "2022-07-29T15:41:41.140157Z",
     "shell.execute_reply": "2022-07-29T15:41:41.139464Z"
    }
   },
   "outputs": [
    {
     "name": "stdout",
     "output_type": "stream",
     "text": [
      "propensity_score_matching\n"
     ]
    },
    {
     "name": "stderr",
     "output_type": "stream",
     "text": [
      "/usr/local/lib/python3.8/dist-packages/sklearn/utils/validation.py:993: DataConversionWarning: A column-vector y was passed when a 1d array was expected. Please change the shape of y to (n_samples, ), for example using ravel().\n",
      "  y = column_or_1d(y, warn=True)\n"
     ]
    },
    {
     "name": "stdout",
     "output_type": "stream",
     "text": [
      "*** Causal Estimate ***\n",
      "\n",
      "## Identified estimand\n",
      "Estimand type: nonparametric-ate\n",
      "\n",
      "### Estimand : 1\n",
      "Estimand name: backdoor\n",
      "Estimand expression:\n",
      "  d                       \n",
      "─────(E[y|W2,W4,W3,W0,W1])\n",
      "d[v₀]                     \n",
      "Estimand assumption 1, Unconfoundedness: If U→{v0} and U→y then P(y|v0,W2,W4,W3,W0,W1,U) = P(y|v0,W2,W4,W3,W0,W1)\n",
      "\n",
      "## Realized estimand\n",
      "b: y~v0+W2+W4+W3+W0+W1\n",
      "Target units: atc\n",
      "\n",
      "## Estimate\n",
      "Mean value: 0.9971729499124365\n",
      "\n",
      "Causal Estimate is 0.9971729499124365\n"
     ]
    }
   ],
   "source": [
    "causal_estimate_match = model.estimate_effect(identified_estimand,\n",
    "                                              method_name=\"backdoor.propensity_score_matching\",\n",
    "                                              target_units=\"atc\")\n",
    "print(causal_estimate_match)\n",
    "print(\"Causal Estimate is \" + str(causal_estimate_match.value))"
   ]
  },
  {
   "cell_type": "code",
   "execution_count": 12,
   "id": "8f65111d",
   "metadata": {
    "execution": {
     "iopub.execute_input": "2022-07-29T15:41:41.143666Z",
     "iopub.status.busy": "2022-07-29T15:41:41.143232Z",
     "iopub.status.idle": "2022-07-29T15:41:41.170028Z",
     "shell.execute_reply": "2022-07-29T15:41:41.169242Z"
    }
   },
   "outputs": [
    {
     "name": "stdout",
     "output_type": "stream",
     "text": [
      "Increasing the treatment variable(s) [v0] from 0 to 1 causes an increase of 0.9971729499124365 in the expected value of the outcome [y], over the data distribution/population represented by the dataset.\n"
     ]
    }
   ],
   "source": [
    "# Textual Interpreter\n",
    "interpretation = causal_estimate_match.interpret(method_name=\"textual_effect_interpreter\")"
   ]
  },
  {
   "cell_type": "markdown",
   "id": "5159b5b4",
   "metadata": {},
   "source": [
    "Cannot use propensity balance interpretor here since the interpreter method only supports propensity score stratification estimator."
   ]
  },
  {
   "cell_type": "markdown",
   "id": "7c98e0c2",
   "metadata": {},
   "source": [
    "## Method 3: Weighting\n",
    "\n",
    "We will be using (inverse) propensity scores to assign weights to units in the data. DoWhy supports a few different weighting schemes:\n",
    "1. Vanilla Inverse Propensity Score weighting (IPS) (weighting_scheme=\"ips_weight\")\n",
    "2. Self-normalized IPS weighting (also known as the Hajek estimator) (weighting_scheme=\"ips_normalized_weight\")\n",
    "3. Stabilized IPS weighting (weighting_scheme = \"ips_stabilized_weight\")"
   ]
  },
  {
   "cell_type": "code",
   "execution_count": 13,
   "id": "47abdc31",
   "metadata": {
    "execution": {
     "iopub.execute_input": "2022-07-29T15:41:41.173837Z",
     "iopub.status.busy": "2022-07-29T15:41:41.173233Z",
     "iopub.status.idle": "2022-07-29T15:41:41.237372Z",
     "shell.execute_reply": "2022-07-29T15:41:41.236122Z"
    }
   },
   "outputs": [
    {
     "name": "stdout",
     "output_type": "stream",
     "text": [
      "propensity_score_weighting\n",
      "*** Causal Estimate ***\n",
      "\n",
      "## Identified estimand\n",
      "Estimand type: nonparametric-ate\n",
      "\n",
      "### Estimand : 1\n",
      "Estimand name: backdoor\n",
      "Estimand expression:\n",
      "  d                       \n",
      "─────(E[y|W2,W4,W3,W0,W1])\n",
      "d[v₀]                     \n",
      "Estimand assumption 1, Unconfoundedness: If U→{v0} and U→y then P(y|v0,W2,W4,W3,W0,W1,U) = P(y|v0,W2,W4,W3,W0,W1)\n",
      "\n",
      "## Realized estimand\n",
      "b: y~v0+W2+W4+W3+W0+W1\n",
      "Target units: ate\n",
      "\n",
      "## Estimate\n",
      "Mean value: 1.2598158042637717\n",
      "\n",
      "Causal Estimate is 1.2598158042637717\n"
     ]
    },
    {
     "name": "stderr",
     "output_type": "stream",
     "text": [
      "/usr/local/lib/python3.8/dist-packages/sklearn/utils/validation.py:993: DataConversionWarning: A column-vector y was passed when a 1d array was expected. Please change the shape of y to (n_samples, ), for example using ravel().\n",
      "  y = column_or_1d(y, warn=True)\n"
     ]
    }
   ],
   "source": [
    "causal_estimate_ipw = model.estimate_effect(identified_estimand,\n",
    "                                            method_name=\"backdoor.propensity_score_weighting\",\n",
    "                                            target_units = \"ate\",\n",
    "                                            method_params={\"weighting_scheme\":\"ips_weight\"})\n",
    "print(causal_estimate_ipw)\n",
    "print(\"Causal Estimate is \" + str(causal_estimate_ipw.value))"
   ]
  },
  {
   "cell_type": "code",
   "execution_count": 14,
   "id": "e02ed9cf",
   "metadata": {
    "execution": {
     "iopub.execute_input": "2022-07-29T15:41:41.240916Z",
     "iopub.status.busy": "2022-07-29T15:41:41.240435Z",
     "iopub.status.idle": "2022-07-29T15:41:41.266491Z",
     "shell.execute_reply": "2022-07-29T15:41:41.265575Z"
    }
   },
   "outputs": [
    {
     "name": "stdout",
     "output_type": "stream",
     "text": [
      "Increasing the treatment variable(s) [v0] from 0 to 1 causes an increase of 1.2598158042637717 in the expected value of the outcome [y], over the data distribution/population represented by the dataset.\n"
     ]
    }
   ],
   "source": [
    "# Textual Interpreter\n",
    "interpretation = causal_estimate_ipw.interpret(method_name=\"textual_effect_interpreter\")"
   ]
  },
  {
   "cell_type": "code",
   "execution_count": 15,
   "id": "8165bf5e",
   "metadata": {
    "execution": {
     "iopub.execute_input": "2022-07-29T15:41:41.269477Z",
     "iopub.status.busy": "2022-07-29T15:41:41.269228Z",
     "iopub.status.idle": "2022-07-29T15:41:41.511601Z",
     "shell.execute_reply": "2022-07-29T15:41:41.510858Z"
    }
   },
   "outputs": [
    {
     "data": {
      "image/png": "[encoded data removed]",
      "text/plain": [
       "<Figure size 576x576 with 2 Axes>"
      ]
     },
     "metadata": {
      "needs_background": "light"
     },
     "output_type": "display_data"
    }
   ],
   "source": [
    "interpretation = causal_estimate_ipw.interpret(method_name=\"confounder_distribution_interpreter\", fig_size=(8,8), font_size=12, var_name='W4', var_type='discrete')"
   ]
  },
  {
   "cell_type": "code",
   "execution_count": null,
   "id": "da00ab4f",
   "metadata": {},
   "outputs": [],
   "source": []
  }
 ],
 "metadata": {
  "kernelspec": {
   "display_name": "Python 3",
   "language": "python",
   "name": "python3"
  },
  "language_info": {
   "codemirror_mode": {
    "name": "ipython",
    "version": 3
   },
   "file_extension": ".py",
   "mimetype": "text/x-python",
   "name": "python",
   "nbconvert_exporter": "python",
   "pygments_lexer": "ipython3",
   "version": "3.8.10"
  },
  "toc": {
   "base_numbering": 1,
   "nav_menu": {},
   "number_sections": false,
   "sideBar": true,
   "skip_h1_title": true,
   "title_cell": "Table of Contents",
   "title_sidebar": "Contents",
   "toc_cell": false,
   "toc_position": {},
   "toc_section_display": true,
   "toc_window_display": false
  }
 },
 "nbformat": 4,
 "nbformat_minor": 5
}
