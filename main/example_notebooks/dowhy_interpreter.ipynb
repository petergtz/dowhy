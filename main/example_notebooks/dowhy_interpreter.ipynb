{
 "cells": [
  {
   "cell_type": "markdown",
   "id": "c17b584f",
   "metadata": {},
   "source": [
    "# DoWhy: Interpreters for Causal Estimators\n",
    "\n",
    "This is a quick introduction to the use of interpreters in the DoWhy causal inference library.\n",
    "We will load in a sample dataset, use different methods for estimating the causal effect of a (pre-specified)treatment variable on a (pre-specified) outcome variable and demonstrate how to interpret the obtained results.\n",
    "\n",
    "First, let us add the required path for Python to find the DoWhy code and load all required packages"
   ]
  },
  {
   "cell_type": "code",
   "execution_count": 1,
   "id": "0daad0e3",
   "metadata": {
    "execution": {
     "iopub.execute_input": "2022-11-11T08:54:32.558722Z",
     "iopub.status.busy": "2022-11-11T08:54:32.558425Z",
     "iopub.status.idle": "2022-11-11T08:54:32.574884Z",
     "shell.execute_reply": "2022-11-11T08:54:32.574321Z"
    }
   },
   "outputs": [],
   "source": [
    "%load_ext autoreload\n",
    "%autoreload 2"
   ]
  },
  {
   "cell_type": "code",
   "execution_count": 2,
   "id": "319737cb",
   "metadata": {
    "execution": {
     "iopub.execute_input": "2022-11-11T08:54:32.577858Z",
     "iopub.status.busy": "2022-11-11T08:54:32.577456Z",
     "iopub.status.idle": "2022-11-11T08:54:34.496785Z",
     "shell.execute_reply": "2022-11-11T08:54:34.495681Z"
    }
   },
   "outputs": [],
   "source": [
    "import numpy as np\n",
    "import pandas as pd\n",
    "import logging\n",
    "\n",
    "import dowhy\n",
    "from dowhy import CausalModel\n",
    "import dowhy.datasets "
   ]
  },
  {
   "cell_type": "markdown",
   "id": "fafc1b04",
   "metadata": {},
   "source": [
    "Now, let us load a dataset. For simplicity, we simulate a dataset with linear relationships between common causes and treatment, and common causes and outcome.\n",
    "\n",
    "Beta is the true causal effect."
   ]
  },
  {
   "cell_type": "code",
   "execution_count": 3,
   "id": "88e15956",
   "metadata": {
    "execution": {
     "iopub.execute_input": "2022-11-11T08:54:34.501451Z",
     "iopub.status.busy": "2022-11-11T08:54:34.500659Z",
     "iopub.status.idle": "2022-11-11T08:54:34.800166Z",
     "shell.execute_reply": "2022-11-11T08:54:34.799109Z"
    }
   },
   "outputs": [
    {
     "name": "stdout",
     "output_type": "stream",
     "text": [
      "8610\n"
     ]
    },
    {
     "data": {
      "text/html": [
       "<div>\n",
       "<style scoped>\n",
       "    .dataframe tbody tr th:only-of-type {\n",
       "        vertical-align: middle;\n",
       "    }\n",
       "\n",
       "    .dataframe tbody tr th {\n",
       "        vertical-align: top;\n",
       "    }\n",
       "\n",
       "    .dataframe thead th {\n",
       "        text-align: right;\n",
       "    }\n",
       "</style>\n",
       "<table border=\"1\" class=\"dataframe\">\n",
       "  <thead>\n",
       "    <tr style=\"text-align: right;\">\n",
       "      <th></th>\n",
       "      <th>Z0</th>\n",
       "      <th>Z1</th>\n",
       "      <th>W0</th>\n",
       "      <th>W1</th>\n",
       "      <th>W2</th>\n",
       "      <th>W3</th>\n",
       "      <th>W4</th>\n",
       "      <th>v0</th>\n",
       "      <th>y</th>\n",
       "    </tr>\n",
       "  </thead>\n",
       "  <tbody>\n",
       "    <tr>\n",
       "      <th>0</th>\n",
       "      <td>1.0</td>\n",
       "      <td>0.055757</td>\n",
       "      <td>0.222145</td>\n",
       "      <td>-1.076950</td>\n",
       "      <td>1.945130</td>\n",
       "      <td>0.819973</td>\n",
       "      <td>0</td>\n",
       "      <td>True</td>\n",
       "      <td>1.743096</td>\n",
       "    </tr>\n",
       "    <tr>\n",
       "      <th>1</th>\n",
       "      <td>1.0</td>\n",
       "      <td>0.571729</td>\n",
       "      <td>-2.629842</td>\n",
       "      <td>-0.011798</td>\n",
       "      <td>1.925534</td>\n",
       "      <td>0.244883</td>\n",
       "      <td>2</td>\n",
       "      <td>True</td>\n",
       "      <td>2.262795</td>\n",
       "    </tr>\n",
       "    <tr>\n",
       "      <th>2</th>\n",
       "      <td>1.0</td>\n",
       "      <td>0.757440</td>\n",
       "      <td>-1.292751</td>\n",
       "      <td>-0.361004</td>\n",
       "      <td>0.435843</td>\n",
       "      <td>-1.212487</td>\n",
       "      <td>3</td>\n",
       "      <td>True</td>\n",
       "      <td>2.467482</td>\n",
       "    </tr>\n",
       "    <tr>\n",
       "      <th>3</th>\n",
       "      <td>0.0</td>\n",
       "      <td>0.760509</td>\n",
       "      <td>-1.936253</td>\n",
       "      <td>0.511092</td>\n",
       "      <td>0.482092</td>\n",
       "      <td>0.236163</td>\n",
       "      <td>2</td>\n",
       "      <td>False</td>\n",
       "      <td>1.409636</td>\n",
       "    </tr>\n",
       "    <tr>\n",
       "      <th>4</th>\n",
       "      <td>1.0</td>\n",
       "      <td>0.688136</td>\n",
       "      <td>-0.209143</td>\n",
       "      <td>-0.743081</td>\n",
       "      <td>0.729436</td>\n",
       "      <td>0.859281</td>\n",
       "      <td>0</td>\n",
       "      <td>True</td>\n",
       "      <td>1.395676</td>\n",
       "    </tr>\n",
       "    <tr>\n",
       "      <th>...</th>\n",
       "      <td>...</td>\n",
       "      <td>...</td>\n",
       "      <td>...</td>\n",
       "      <td>...</td>\n",
       "      <td>...</td>\n",
       "      <td>...</td>\n",
       "      <td>...</td>\n",
       "      <td>...</td>\n",
       "      <td>...</td>\n",
       "    </tr>\n",
       "    <tr>\n",
       "      <th>9995</th>\n",
       "      <td>1.0</td>\n",
       "      <td>0.273349</td>\n",
       "      <td>-0.258625</td>\n",
       "      <td>-2.185838</td>\n",
       "      <td>1.287562</td>\n",
       "      <td>0.688686</td>\n",
       "      <td>2</td>\n",
       "      <td>True</td>\n",
       "      <td>2.872885</td>\n",
       "    </tr>\n",
       "    <tr>\n",
       "      <th>9996</th>\n",
       "      <td>1.0</td>\n",
       "      <td>0.271957</td>\n",
       "      <td>-1.090330</td>\n",
       "      <td>-0.022834</td>\n",
       "      <td>0.388233</td>\n",
       "      <td>-0.643739</td>\n",
       "      <td>0</td>\n",
       "      <td>True</td>\n",
       "      <td>0.149068</td>\n",
       "    </tr>\n",
       "    <tr>\n",
       "      <th>9997</th>\n",
       "      <td>1.0</td>\n",
       "      <td>0.321357</td>\n",
       "      <td>-1.591173</td>\n",
       "      <td>0.366434</td>\n",
       "      <td>-0.367294</td>\n",
       "      <td>0.433245</td>\n",
       "      <td>2</td>\n",
       "      <td>True</td>\n",
       "      <td>2.487255</td>\n",
       "    </tr>\n",
       "    <tr>\n",
       "      <th>9998</th>\n",
       "      <td>1.0</td>\n",
       "      <td>0.495504</td>\n",
       "      <td>-1.466483</td>\n",
       "      <td>-0.453678</td>\n",
       "      <td>1.043667</td>\n",
       "      <td>0.245190</td>\n",
       "      <td>3</td>\n",
       "      <td>True</td>\n",
       "      <td>3.455552</td>\n",
       "    </tr>\n",
       "    <tr>\n",
       "      <th>9999</th>\n",
       "      <td>1.0</td>\n",
       "      <td>0.558827</td>\n",
       "      <td>-1.531072</td>\n",
       "      <td>1.104954</td>\n",
       "      <td>-0.373949</td>\n",
       "      <td>0.554445</td>\n",
       "      <td>1</td>\n",
       "      <td>True</td>\n",
       "      <td>1.839212</td>\n",
       "    </tr>\n",
       "  </tbody>\n",
       "</table>\n",
       "<p>10000 rows × 9 columns</p>\n",
       "</div>"
      ],
      "text/plain": [
       "       Z0        Z1        W0        W1        W2        W3 W4     v0  \\\n",
       "0     1.0  0.055757  0.222145 -1.076950  1.945130  0.819973  0   True   \n",
       "1     1.0  0.571729 -2.629842 -0.011798  1.925534  0.244883  2   True   \n",
       "2     1.0  0.757440 -1.292751 -0.361004  0.435843 -1.212487  3   True   \n",
       "3     0.0  0.760509 -1.936253  0.511092  0.482092  0.236163  2  False   \n",
       "4     1.0  0.688136 -0.209143 -0.743081  0.729436  0.859281  0   True   \n",
       "...   ...       ...       ...       ...       ...       ... ..    ...   \n",
       "9995  1.0  0.273349 -0.258625 -2.185838  1.287562  0.688686  2   True   \n",
       "9996  1.0  0.271957 -1.090330 -0.022834  0.388233 -0.643739  0   True   \n",
       "9997  1.0  0.321357 -1.591173  0.366434 -0.367294  0.433245  2   True   \n",
       "9998  1.0  0.495504 -1.466483 -0.453678  1.043667  0.245190  3   True   \n",
       "9999  1.0  0.558827 -1.531072  1.104954 -0.373949  0.554445  1   True   \n",
       "\n",
       "             y  \n",
       "0     1.743096  \n",
       "1     2.262795  \n",
       "2     2.467482  \n",
       "3     1.409636  \n",
       "4     1.395676  \n",
       "...        ...  \n",
       "9995  2.872885  \n",
       "9996  0.149068  \n",
       "9997  2.487255  \n",
       "9998  3.455552  \n",
       "9999  1.839212  \n",
       "\n",
       "[10000 rows x 9 columns]"
      ]
     },
     "execution_count": 3,
     "metadata": {},
     "output_type": "execute_result"
    }
   ],
   "source": [
    "data = dowhy.datasets.linear_dataset(beta=1,\n",
    "        num_common_causes=5, \n",
    "        num_instruments = 2,\n",
    "        num_treatments=1,\n",
    "        num_discrete_common_causes=1,\n",
    "        num_samples=10000,\n",
    "        treatment_is_binary=True,\n",
    "        outcome_is_binary=False)\n",
    "df = data[\"df\"]\n",
    "print(df[df.v0==True].shape[0])\n",
    "df"
   ]
  },
  {
   "cell_type": "markdown",
   "id": "415f3a3b",
   "metadata": {},
   "source": [
    "Note that we are using a pandas dataframe to load the data."
   ]
  },
  {
   "cell_type": "markdown",
   "id": "2ece26a4",
   "metadata": {},
   "source": [
    "## Identifying the causal estimand"
   ]
  },
  {
   "cell_type": "markdown",
   "id": "96581671",
   "metadata": {},
   "source": [
    "We now input a causal graph in the GML graph format."
   ]
  },
  {
   "cell_type": "code",
   "execution_count": 4,
   "id": "2b28c7e1",
   "metadata": {
    "execution": {
     "iopub.execute_input": "2022-11-11T08:54:34.803482Z",
     "iopub.status.busy": "2022-11-11T08:54:34.803249Z",
     "iopub.status.idle": "2022-11-11T08:54:34.833786Z",
     "shell.execute_reply": "2022-11-11T08:54:34.833217Z"
    }
   },
   "outputs": [],
   "source": [
    "# With graph\n",
    "model=CausalModel(\n",
    "        data = df,\n",
    "        treatment=data[\"treatment_name\"],\n",
    "        outcome=data[\"outcome_name\"],\n",
    "        graph=data[\"gml_graph\"],\n",
    "        instruments=data[\"instrument_names\"]\n",
    "        )"
   ]
  },
  {
   "cell_type": "code",
   "execution_count": 5,
   "id": "b86d09f4",
   "metadata": {
    "execution": {
     "iopub.execute_input": "2022-11-11T08:54:34.836859Z",
     "iopub.status.busy": "2022-11-11T08:54:34.836579Z",
     "iopub.status.idle": "2022-11-11T08:54:34.895016Z",
     "shell.execute_reply": "2022-11-11T08:54:34.893811Z"
    }
   },
   "outputs": [],
   "source": [
    "model.view_model()"
   ]
  },
  {
   "cell_type": "code",
   "execution_count": 6,
   "id": "dda70906",
   "metadata": {
    "execution": {
     "iopub.execute_input": "2022-11-11T08:54:34.897923Z",
     "iopub.status.busy": "2022-11-11T08:54:34.897698Z",
     "iopub.status.idle": "2022-11-11T08:54:34.928257Z",
     "shell.execute_reply": "2022-11-11T08:54:34.927469Z"
    }
   },
   "outputs": [
    {
     "data": {
      "image/png": "[encoded data removed]",
      "text/plain": [
       "<IPython.core.display.Image object>"
      ]
     },
     "metadata": {},
     "output_type": "display_data"
    }
   ],
   "source": [
    "from IPython.display import Image, display\n",
    "display(Image(filename=\"causal_model.png\"))"
   ]
  },
  {
   "cell_type": "markdown",
   "id": "eafbec65",
   "metadata": {},
   "source": [
    "We get a causal graph. Now identification and estimation is done."
   ]
  },
  {
   "cell_type": "code",
   "execution_count": 7,
   "id": "df9928fe",
   "metadata": {
    "execution": {
     "iopub.execute_input": "2022-11-11T08:54:34.931220Z",
     "iopub.status.busy": "2022-11-11T08:54:34.930862Z",
     "iopub.status.idle": "2022-11-11T08:54:35.167386Z",
     "shell.execute_reply": "2022-11-11T08:54:35.166552Z"
    }
   },
   "outputs": [
    {
     "name": "stdout",
     "output_type": "stream",
     "text": [
      "Estimand type: EstimandType.NONPARAMETRIC_ATE\n",
      "\n",
      "### Estimand : 1\n",
      "Estimand name: backdoor\n",
      "Estimand expression:\n",
      "  d                       \n",
      "─────(E[y|W4,W0,W1,W3,W2])\n",
      "d[v₀]                     \n",
      "Estimand assumption 1, Unconfoundedness: If U→{v0} and U→y then P(y|v0,W4,W0,W1,W3,W2,U) = P(y|v0,W4,W0,W1,W3,W2)\n",
      "\n",
      "### Estimand : 2\n",
      "Estimand name: iv\n",
      "Estimand expression:\n",
      " ⎡                              -1⎤\n",
      " ⎢    d        ⎛    d          ⎞  ⎥\n",
      "E⎢─────────(y)⋅⎜─────────([v₀])⎟  ⎥\n",
      " ⎣d[Z₁  Z₀]    ⎝d[Z₁  Z₀]      ⎠  ⎦\n",
      "Estimand assumption 1, As-if-random: If U→→y then ¬(U →→{Z1,Z0})\n",
      "Estimand assumption 2, Exclusion: If we remove {Z1,Z0}→{v0}, then ¬({Z1,Z0}→y)\n",
      "\n",
      "### Estimand : 3\n",
      "Estimand name: frontdoor\n",
      "No such variable(s) found!\n",
      "\n"
     ]
    }
   ],
   "source": [
    "identified_estimand = model.identify_effect(proceed_when_unidentifiable=True)\n",
    "print(identified_estimand)"
   ]
  },
  {
   "cell_type": "markdown",
   "id": "040e6b48",
   "metadata": {},
   "source": [
    "## Method 1: Propensity Score Stratification\n",
    "\n",
    "We will be using propensity scores to stratify units in the data."
   ]
  },
  {
   "cell_type": "code",
   "execution_count": 8,
   "id": "db3aa454",
   "metadata": {
    "execution": {
     "iopub.execute_input": "2022-11-11T08:54:35.170849Z",
     "iopub.status.busy": "2022-11-11T08:54:35.170603Z",
     "iopub.status.idle": "2022-11-11T08:54:35.943915Z",
     "shell.execute_reply": "2022-11-11T08:54:35.942621Z"
    }
   },
   "outputs": [
    {
     "name": "stdout",
     "output_type": "stream",
     "text": [
      "*** Causal Estimate ***\n",
      "\n",
      "## Identified estimand\n",
      "Estimand type: EstimandType.NONPARAMETRIC_ATE\n",
      "\n",
      "### Estimand : 1\n",
      "Estimand name: backdoor\n",
      "Estimand expression:\n",
      "  d                       \n",
      "─────(E[y|W4,W0,W1,W3,W2])\n",
      "d[v₀]                     \n",
      "Estimand assumption 1, Unconfoundedness: If U→{v0} and U→y then P(y|v0,W4,W0,W1,W3,W2,U) = P(y|v0,W4,W0,W1,W3,W2)\n",
      "\n",
      "## Realized estimand\n",
      "b: y~v0+W4+W0+W1+W3+W2\n",
      "Target units: att\n",
      "\n",
      "## Estimate\n",
      "Mean value: 1.0328721028715935\n",
      "\n",
      "Causal Estimate is 1.0328721028715935\n"
     ]
    }
   ],
   "source": [
    "causal_estimate_strat = model.estimate_effect(identified_estimand,\n",
    "                                              method_name=\"backdoor.propensity_score_stratification\",\n",
    "                                              target_units=\"att\")\n",
    "print(causal_estimate_strat)\n",
    "print(\"Causal Estimate is \" + str(causal_estimate_strat.value))"
   ]
  },
  {
   "cell_type": "markdown",
   "id": "225ba384",
   "metadata": {},
   "source": [
    "### Textual Interpreter\n",
    "\n",
    "The textual Interpreter describes (in words) the effect of unit change in the treatment variable on the outcome variable."
   ]
  },
  {
   "cell_type": "code",
   "execution_count": 9,
   "id": "b292cde1",
   "metadata": {
    "execution": {
     "iopub.execute_input": "2022-11-11T08:54:35.947776Z",
     "iopub.status.busy": "2022-11-11T08:54:35.947148Z",
     "iopub.status.idle": "2022-11-11T08:54:35.979052Z",
     "shell.execute_reply": "2022-11-11T08:54:35.978152Z"
    }
   },
   "outputs": [
    {
     "name": "stdout",
     "output_type": "stream",
     "text": [
      "Increasing the treatment variable(s) [v0] from 0 to 1 causes an increase of 1.0328721028715935 in the expected value of the outcome [y], over the data distribution/population represented by the dataset.\n"
     ]
    }
   ],
   "source": [
    "# Textual Interpreter\n",
    "interpretation = causal_estimate_strat.interpret(method_name=\"textual_effect_interpreter\")"
   ]
  },
  {
   "cell_type": "markdown",
   "id": "ab7660d3",
   "metadata": {},
   "source": [
    "### Visual Interpreter\n",
    "\n",
    "The visual interpreter plots the change in the standardized mean difference (SMD) before and after Propensity Score based adjustment of the dataset. The formula for SMD is given below.\n",
    "\n",
    "\n",
    "$SMD = \\frac{\\bar X_{1} - \\bar X_{2}}{\\sqrt{(S_{1}^{2} + S_{2}^{2})/2}}$\n",
    "\n",
    "Here, $\\bar X_{1}$ and $\\bar X_{2}$ are the sample mean for the treated and control groups.\n"
   ]
  },
  {
   "cell_type": "code",
   "execution_count": 10,
   "id": "befa0c89",
   "metadata": {
    "execution": {
     "iopub.execute_input": "2022-11-11T08:54:35.982568Z",
     "iopub.status.busy": "2022-11-11T08:54:35.982264Z",
     "iopub.status.idle": "2022-11-11T08:54:36.584716Z",
     "shell.execute_reply": "2022-11-11T08:54:36.584023Z"
    }
   },
   "outputs": [
    {
     "data": {
      "image/png": "[encoded data removed]",
      "text/plain": [
       "<Figure size 640x480 with 1 Axes>"
      ]
     },
     "metadata": {},
     "output_type": "display_data"
    }
   ],
   "source": [
    "# Visual Interpreter\n",
    "interpretation = causal_estimate_strat.interpret(method_name=\"propensity_balance_interpreter\")"
   ]
  },
  {
   "cell_type": "markdown",
   "id": "15a83feb",
   "metadata": {},
   "source": [
    "This plot shows how the SMD decreases from the unadjusted to the stratified units. "
   ]
  },
  {
   "cell_type": "markdown",
   "id": "22e2d00b",
   "metadata": {},
   "source": [
    "## Method 2: Propensity Score Matching\n",
    "\n",
    "We will be using propensity scores to match units in the data."
   ]
  },
  {
   "cell_type": "code",
   "execution_count": 11,
   "id": "c0abfdd7",
   "metadata": {
    "execution": {
     "iopub.execute_input": "2022-11-11T08:54:36.589650Z",
     "iopub.status.busy": "2022-11-11T08:54:36.588418Z",
     "iopub.status.idle": "2022-11-11T08:54:40.841824Z",
     "shell.execute_reply": "2022-11-11T08:54:40.841148Z"
    }
   },
   "outputs": [
    {
     "name": "stdout",
     "output_type": "stream",
     "text": [
      "*** Causal Estimate ***\n",
      "\n",
      "## Identified estimand\n",
      "Estimand type: EstimandType.NONPARAMETRIC_ATE\n",
      "\n",
      "### Estimand : 1\n",
      "Estimand name: backdoor\n",
      "Estimand expression:\n",
      "  d                       \n",
      "─────(E[y|W4,W0,W1,W3,W2])\n",
      "d[v₀]                     \n",
      "Estimand assumption 1, Unconfoundedness: If U→{v0} and U→y then P(y|v0,W4,W0,W1,W3,W2,U) = P(y|v0,W4,W0,W1,W3,W2)\n",
      "\n",
      "## Realized estimand\n",
      "b: y~v0+W4+W0+W1+W3+W2\n",
      "Target units: atc\n",
      "\n",
      "## Estimate\n",
      "Mean value: 1.0188654834974487\n",
      "\n",
      "Causal Estimate is 1.0188654834974487\n"
     ]
    }
   ],
   "source": [
    "causal_estimate_match = model.estimate_effect(identified_estimand,\n",
    "                                              method_name=\"backdoor.propensity_score_matching\",\n",
    "                                              target_units=\"atc\")\n",
    "print(causal_estimate_match)\n",
    "print(\"Causal Estimate is \" + str(causal_estimate_match.value))"
   ]
  },
  {
   "cell_type": "code",
   "execution_count": 12,
   "id": "cbcc4035",
   "metadata": {
    "execution": {
     "iopub.execute_input": "2022-11-11T08:54:40.845219Z",
     "iopub.status.busy": "2022-11-11T08:54:40.844807Z",
     "iopub.status.idle": "2022-11-11T08:54:40.876107Z",
     "shell.execute_reply": "2022-11-11T08:54:40.875480Z"
    }
   },
   "outputs": [
    {
     "name": "stdout",
     "output_type": "stream",
     "text": [
      "Increasing the treatment variable(s) [v0] from 0 to 1 causes an increase of 1.0188654834974487 in the expected value of the outcome [y], over the data distribution/population represented by the dataset.\n"
     ]
    }
   ],
   "source": [
    "# Textual Interpreter\n",
    "interpretation = causal_estimate_match.interpret(method_name=\"textual_effect_interpreter\")"
   ]
  },
  {
   "cell_type": "markdown",
   "id": "ce7a4b0b",
   "metadata": {},
   "source": [
    "Cannot use propensity balance interpretor here since the interpreter method only supports propensity score stratification estimator."
   ]
  },
  {
   "cell_type": "markdown",
   "id": "897e1116",
   "metadata": {},
   "source": [
    "## Method 3: Weighting\n",
    "\n",
    "We will be using (inverse) propensity scores to assign weights to units in the data. DoWhy supports a few different weighting schemes:\n",
    "1. Vanilla Inverse Propensity Score weighting (IPS) (weighting_scheme=\"ips_weight\")\n",
    "2. Self-normalized IPS weighting (also known as the Hajek estimator) (weighting_scheme=\"ips_normalized_weight\")\n",
    "3. Stabilized IPS weighting (weighting_scheme = \"ips_stabilized_weight\")"
   ]
  },
  {
   "cell_type": "code",
   "execution_count": 13,
   "id": "4cbc93fa",
   "metadata": {
    "execution": {
     "iopub.execute_input": "2022-11-11T08:54:40.879587Z",
     "iopub.status.busy": "2022-11-11T08:54:40.879123Z",
     "iopub.status.idle": "2022-11-11T08:54:40.949088Z",
     "shell.execute_reply": "2022-11-11T08:54:40.948402Z"
    }
   },
   "outputs": [
    {
     "name": "stdout",
     "output_type": "stream",
     "text": [
      "*** Causal Estimate ***\n",
      "\n",
      "## Identified estimand\n",
      "Estimand type: EstimandType.NONPARAMETRIC_ATE\n",
      "\n",
      "### Estimand : 1\n",
      "Estimand name: backdoor\n",
      "Estimand expression:\n",
      "  d                       \n",
      "─────(E[y|W4,W0,W1,W3,W2])\n",
      "d[v₀]                     \n",
      "Estimand assumption 1, Unconfoundedness: If U→{v0} and U→y then P(y|v0,W4,W0,W1,W3,W2,U) = P(y|v0,W4,W0,W1,W3,W2)\n",
      "\n",
      "## Realized estimand\n",
      "b: y~v0+W4+W0+W1+W3+W2\n",
      "Target units: ate\n",
      "\n",
      "## Estimate\n",
      "Mean value: 1.1310102888010567\n",
      "\n",
      "Causal Estimate is 1.1310102888010567\n"
     ]
    }
   ],
   "source": [
    "causal_estimate_ipw = model.estimate_effect(identified_estimand,\n",
    "                                            method_name=\"backdoor.propensity_score_weighting\",\n",
    "                                            target_units = \"ate\",\n",
    "                                            method_params={\"weighting_scheme\":\"ips_weight\"})\n",
    "print(causal_estimate_ipw)\n",
    "print(\"Causal Estimate is \" + str(causal_estimate_ipw.value))"
   ]
  },
  {
   "cell_type": "code",
   "execution_count": 14,
   "id": "435568fe",
   "metadata": {
    "execution": {
     "iopub.execute_input": "2022-11-11T08:54:40.952819Z",
     "iopub.status.busy": "2022-11-11T08:54:40.952279Z",
     "iopub.status.idle": "2022-11-11T08:54:40.982322Z",
     "shell.execute_reply": "2022-11-11T08:54:40.981768Z"
    }
   },
   "outputs": [
    {
     "name": "stdout",
     "output_type": "stream",
     "text": [
      "Increasing the treatment variable(s) [v0] from 0 to 1 causes an increase of 1.1310102888010567 in the expected value of the outcome [y], over the data distribution/population represented by the dataset.\n"
     ]
    }
   ],
   "source": [
    "# Textual Interpreter\n",
    "interpretation = causal_estimate_ipw.interpret(method_name=\"textual_effect_interpreter\")"
   ]
  },
  {
   "cell_type": "code",
   "execution_count": 15,
   "id": "c8d73e70",
   "metadata": {
    "execution": {
     "iopub.execute_input": "2022-11-11T08:54:40.985442Z",
     "iopub.status.busy": "2022-11-11T08:54:40.984790Z",
     "iopub.status.idle": "2022-11-11T08:54:41.418487Z",
     "shell.execute_reply": "2022-11-11T08:54:41.417667Z"
    }
   },
   "outputs": [
    {
     "data": {
      "image/png": "[encoded data removed]",
      "text/plain": [
       "<Figure size 800x800 with 2 Axes>"
      ]
     },
     "metadata": {},
     "output_type": "display_data"
    }
   ],
   "source": [
    "interpretation = causal_estimate_ipw.interpret(method_name=\"confounder_distribution_interpreter\", fig_size=(8,8), font_size=12, var_name='W4', var_type='discrete')"
   ]
  },
  {
   "cell_type": "code",
   "execution_count": null,
   "id": "8ccade2c",
   "metadata": {},
   "outputs": [],
   "source": []
  }
 ],
 "metadata": {
  "kernelspec": {
   "display_name": "Python 3",
   "language": "python",
   "name": "python3"
  },
  "language_info": {
   "codemirror_mode": {
    "name": "ipython",
    "version": 3
   },
   "file_extension": ".py",
   "mimetype": "text/x-python",
   "name": "python",
   "nbconvert_exporter": "python",
   "pygments_lexer": "ipython3",
   "version": "3.8.10"
  },
  "toc": {
   "base_numbering": 1,
   "nav_menu": {},
   "number_sections": false,
   "sideBar": true,
   "skip_h1_title": true,
   "title_cell": "Table of Contents",
   "title_sidebar": "Contents",
   "toc_cell": false,
   "toc_position": {},
   "toc_section_display": true,
   "toc_window_display": false
  }
 },
 "nbformat": 4,
 "nbformat_minor": 5
}
