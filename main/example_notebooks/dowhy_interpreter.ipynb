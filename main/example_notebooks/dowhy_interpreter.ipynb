{
 "cells": [
  {
   "cell_type": "markdown",
   "id": "c5e24486",
   "metadata": {},
   "source": [
    "# DoWhy: Interpreters for Causal Estimators\n",
    "\n",
    "This is a quick introduction to the use of interpreters in the DoWhy causal inference library.\n",
    "We will load in a sample dataset, use different methods for estimating the causal effect of a (pre-specified)treatment variable on a (pre-specified) outcome variable and demonstrate how to interpret the obtained results.\n",
    "\n",
    "First, let us add the required path for Python to find the DoWhy code and load all required packages"
   ]
  },
  {
   "cell_type": "code",
   "execution_count": 1,
   "id": "0e4bca83",
   "metadata": {
    "execution": {
     "iopub.execute_input": "2022-10-17T14:51:41.557375Z",
     "iopub.status.busy": "2022-10-17T14:51:41.556854Z",
     "iopub.status.idle": "2022-10-17T14:51:41.577957Z",
     "shell.execute_reply": "2022-10-17T14:51:41.576931Z"
    }
   },
   "outputs": [],
   "source": [
    "%load_ext autoreload\n",
    "%autoreload 2"
   ]
  },
  {
   "cell_type": "code",
   "execution_count": 2,
   "id": "94e44c53",
   "metadata": {
    "execution": {
     "iopub.execute_input": "2022-10-17T14:51:41.582592Z",
     "iopub.status.busy": "2022-10-17T14:51:41.582246Z",
     "iopub.status.idle": "2022-10-17T14:51:44.342069Z",
     "shell.execute_reply": "2022-10-17T14:51:44.340960Z"
    }
   },
   "outputs": [],
   "source": [
    "import numpy as np\n",
    "import pandas as pd\n",
    "import logging\n",
    "\n",
    "import dowhy\n",
    "from dowhy import CausalModel\n",
    "import dowhy.datasets "
   ]
  },
  {
   "cell_type": "markdown",
   "id": "66832005",
   "metadata": {},
   "source": [
    "Now, let us load a dataset. For simplicity, we simulate a dataset with linear relationships between common causes and treatment, and common causes and outcome.\n",
    "\n",
    "Beta is the true causal effect."
   ]
  },
  {
   "cell_type": "code",
   "execution_count": 3,
   "id": "bc036fb7",
   "metadata": {
    "execution": {
     "iopub.execute_input": "2022-10-17T14:51:44.348089Z",
     "iopub.status.busy": "2022-10-17T14:51:44.347305Z",
     "iopub.status.idle": "2022-10-17T14:51:44.903100Z",
     "shell.execute_reply": "2022-10-17T14:51:44.902211Z"
    }
   },
   "outputs": [
    {
     "name": "stdout",
     "output_type": "stream",
     "text": [
      "8853\n"
     ]
    },
    {
     "data": {
      "text/html": [
       "<div>\n",
       "<style scoped>\n",
       "    .dataframe tbody tr th:only-of-type {\n",
       "        vertical-align: middle;\n",
       "    }\n",
       "\n",
       "    .dataframe tbody tr th {\n",
       "        vertical-align: top;\n",
       "    }\n",
       "\n",
       "    .dataframe thead th {\n",
       "        text-align: right;\n",
       "    }\n",
       "</style>\n",
       "<table border=\"1\" class=\"dataframe\">\n",
       "  <thead>\n",
       "    <tr style=\"text-align: right;\">\n",
       "      <th></th>\n",
       "      <th>Z0</th>\n",
       "      <th>Z1</th>\n",
       "      <th>W0</th>\n",
       "      <th>W1</th>\n",
       "      <th>W2</th>\n",
       "      <th>W3</th>\n",
       "      <th>W4</th>\n",
       "      <th>v0</th>\n",
       "      <th>y</th>\n",
       "    </tr>\n",
       "  </thead>\n",
       "  <tbody>\n",
       "    <tr>\n",
       "      <th>0</th>\n",
       "      <td>1.0</td>\n",
       "      <td>0.719453</td>\n",
       "      <td>-0.574124</td>\n",
       "      <td>0.840899</td>\n",
       "      <td>0.506144</td>\n",
       "      <td>1.413692</td>\n",
       "      <td>0</td>\n",
       "      <td>True</td>\n",
       "      <td>2.041124</td>\n",
       "    </tr>\n",
       "    <tr>\n",
       "      <th>1</th>\n",
       "      <td>0.0</td>\n",
       "      <td>0.620647</td>\n",
       "      <td>0.122015</td>\n",
       "      <td>0.745040</td>\n",
       "      <td>1.702016</td>\n",
       "      <td>-0.405936</td>\n",
       "      <td>3</td>\n",
       "      <td>True</td>\n",
       "      <td>2.318283</td>\n",
       "    </tr>\n",
       "    <tr>\n",
       "      <th>2</th>\n",
       "      <td>1.0</td>\n",
       "      <td>0.858171</td>\n",
       "      <td>-1.068928</td>\n",
       "      <td>-0.401846</td>\n",
       "      <td>0.084193</td>\n",
       "      <td>-0.543630</td>\n",
       "      <td>1</td>\n",
       "      <td>True</td>\n",
       "      <td>-0.375010</td>\n",
       "    </tr>\n",
       "    <tr>\n",
       "      <th>3</th>\n",
       "      <td>1.0</td>\n",
       "      <td>0.216857</td>\n",
       "      <td>0.344423</td>\n",
       "      <td>-1.672348</td>\n",
       "      <td>0.545593</td>\n",
       "      <td>-0.058570</td>\n",
       "      <td>3</td>\n",
       "      <td>True</td>\n",
       "      <td>0.542208</td>\n",
       "    </tr>\n",
       "    <tr>\n",
       "      <th>4</th>\n",
       "      <td>1.0</td>\n",
       "      <td>0.408821</td>\n",
       "      <td>0.082355</td>\n",
       "      <td>-0.532302</td>\n",
       "      <td>0.905429</td>\n",
       "      <td>2.672590</td>\n",
       "      <td>3</td>\n",
       "      <td>True</td>\n",
       "      <td>2.643156</td>\n",
       "    </tr>\n",
       "    <tr>\n",
       "      <th>...</th>\n",
       "      <td>...</td>\n",
       "      <td>...</td>\n",
       "      <td>...</td>\n",
       "      <td>...</td>\n",
       "      <td>...</td>\n",
       "      <td>...</td>\n",
       "      <td>...</td>\n",
       "      <td>...</td>\n",
       "      <td>...</td>\n",
       "    </tr>\n",
       "    <tr>\n",
       "      <th>9995</th>\n",
       "      <td>1.0</td>\n",
       "      <td>0.689985</td>\n",
       "      <td>2.823653</td>\n",
       "      <td>-0.627241</td>\n",
       "      <td>-1.253402</td>\n",
       "      <td>1.610628</td>\n",
       "      <td>0</td>\n",
       "      <td>True</td>\n",
       "      <td>3.330365</td>\n",
       "    </tr>\n",
       "    <tr>\n",
       "      <th>9996</th>\n",
       "      <td>1.0</td>\n",
       "      <td>0.127287</td>\n",
       "      <td>-1.649968</td>\n",
       "      <td>-0.863816</td>\n",
       "      <td>1.153858</td>\n",
       "      <td>0.266447</td>\n",
       "      <td>1</td>\n",
       "      <td>True</td>\n",
       "      <td>-0.372812</td>\n",
       "    </tr>\n",
       "    <tr>\n",
       "      <th>9997</th>\n",
       "      <td>0.0</td>\n",
       "      <td>0.035227</td>\n",
       "      <td>-0.767905</td>\n",
       "      <td>-0.523920</td>\n",
       "      <td>0.361216</td>\n",
       "      <td>-0.267136</td>\n",
       "      <td>0</td>\n",
       "      <td>False</td>\n",
       "      <td>-1.027692</td>\n",
       "    </tr>\n",
       "    <tr>\n",
       "      <th>9998</th>\n",
       "      <td>1.0</td>\n",
       "      <td>0.172080</td>\n",
       "      <td>-0.730194</td>\n",
       "      <td>-1.721228</td>\n",
       "      <td>0.178925</td>\n",
       "      <td>1.257166</td>\n",
       "      <td>3</td>\n",
       "      <td>True</td>\n",
       "      <td>0.087320</td>\n",
       "    </tr>\n",
       "    <tr>\n",
       "      <th>9999</th>\n",
       "      <td>1.0</td>\n",
       "      <td>0.803880</td>\n",
       "      <td>-0.938946</td>\n",
       "      <td>-0.714858</td>\n",
       "      <td>1.721983</td>\n",
       "      <td>0.670865</td>\n",
       "      <td>1</td>\n",
       "      <td>True</td>\n",
       "      <td>0.786184</td>\n",
       "    </tr>\n",
       "  </tbody>\n",
       "</table>\n",
       "<p>10000 rows × 9 columns</p>\n",
       "</div>"
      ],
      "text/plain": [
       "       Z0        Z1        W0        W1        W2        W3 W4     v0  \\\n",
       "0     1.0  0.719453 -0.574124  0.840899  0.506144  1.413692  0   True   \n",
       "1     0.0  0.620647  0.122015  0.745040  1.702016 -0.405936  3   True   \n",
       "2     1.0  0.858171 -1.068928 -0.401846  0.084193 -0.543630  1   True   \n",
       "3     1.0  0.216857  0.344423 -1.672348  0.545593 -0.058570  3   True   \n",
       "4     1.0  0.408821  0.082355 -0.532302  0.905429  2.672590  3   True   \n",
       "...   ...       ...       ...       ...       ...       ... ..    ...   \n",
       "9995  1.0  0.689985  2.823653 -0.627241 -1.253402  1.610628  0   True   \n",
       "9996  1.0  0.127287 -1.649968 -0.863816  1.153858  0.266447  1   True   \n",
       "9997  0.0  0.035227 -0.767905 -0.523920  0.361216 -0.267136  0  False   \n",
       "9998  1.0  0.172080 -0.730194 -1.721228  0.178925  1.257166  3   True   \n",
       "9999  1.0  0.803880 -0.938946 -0.714858  1.721983  0.670865  1   True   \n",
       "\n",
       "             y  \n",
       "0     2.041124  \n",
       "1     2.318283  \n",
       "2    -0.375010  \n",
       "3     0.542208  \n",
       "4     2.643156  \n",
       "...        ...  \n",
       "9995  3.330365  \n",
       "9996 -0.372812  \n",
       "9997 -1.027692  \n",
       "9998  0.087320  \n",
       "9999  0.786184  \n",
       "\n",
       "[10000 rows x 9 columns]"
      ]
     },
     "execution_count": 3,
     "metadata": {},
     "output_type": "execute_result"
    }
   ],
   "source": [
    "data = dowhy.datasets.linear_dataset(beta=1,\n",
    "        num_common_causes=5, \n",
    "        num_instruments = 2,\n",
    "        num_treatments=1,\n",
    "        num_discrete_common_causes=1,\n",
    "        num_samples=10000,\n",
    "        treatment_is_binary=True,\n",
    "        outcome_is_binary=False)\n",
    "df = data[\"df\"]\n",
    "print(df[df.v0==True].shape[0])\n",
    "df"
   ]
  },
  {
   "cell_type": "markdown",
   "id": "b471a451",
   "metadata": {},
   "source": [
    "Note that we are using a pandas dataframe to load the data."
   ]
  },
  {
   "cell_type": "markdown",
   "id": "805e17f0",
   "metadata": {},
   "source": [
    "## Identifying the causal estimand"
   ]
  },
  {
   "cell_type": "markdown",
   "id": "193491ad",
   "metadata": {},
   "source": [
    "We now input a causal graph in the GML graph format."
   ]
  },
  {
   "cell_type": "code",
   "execution_count": 4,
   "id": "110a8ed9",
   "metadata": {
    "execution": {
     "iopub.execute_input": "2022-10-17T14:51:44.908682Z",
     "iopub.status.busy": "2022-10-17T14:51:44.908205Z",
     "iopub.status.idle": "2022-10-17T14:51:44.948818Z",
     "shell.execute_reply": "2022-10-17T14:51:44.947933Z"
    }
   },
   "outputs": [],
   "source": [
    "# With graph\n",
    "model=CausalModel(\n",
    "        data = df,\n",
    "        treatment=data[\"treatment_name\"],\n",
    "        outcome=data[\"outcome_name\"],\n",
    "        graph=data[\"gml_graph\"],\n",
    "        instruments=data[\"instrument_names\"]\n",
    "        )"
   ]
  },
  {
   "cell_type": "code",
   "execution_count": 5,
   "id": "df7cbf26",
   "metadata": {
    "execution": {
     "iopub.execute_input": "2022-10-17T14:51:44.953711Z",
     "iopub.status.busy": "2022-10-17T14:51:44.953371Z",
     "iopub.status.idle": "2022-10-17T14:51:45.027562Z",
     "shell.execute_reply": "2022-10-17T14:51:45.026619Z"
    }
   },
   "outputs": [],
   "source": [
    "model.view_model()"
   ]
  },
  {
   "cell_type": "code",
   "execution_count": 6,
   "id": "e16f1f81",
   "metadata": {
    "execution": {
     "iopub.execute_input": "2022-10-17T14:51:45.032275Z",
     "iopub.status.busy": "2022-10-17T14:51:45.031829Z",
     "iopub.status.idle": "2022-10-17T14:51:45.073664Z",
     "shell.execute_reply": "2022-10-17T14:51:45.072569Z"
    }
   },
   "outputs": [
    {
     "data": {
      "image/png": "[encoded data removed]",
      "text/plain": [
       "<IPython.core.display.Image object>"
      ]
     },
     "metadata": {},
     "output_type": "display_data"
    }
   ],
   "source": [
    "from IPython.display import Image, display\n",
    "display(Image(filename=\"causal_model.png\"))"
   ]
  },
  {
   "cell_type": "markdown",
   "id": "14e0de16",
   "metadata": {},
   "source": [
    "We get a causal graph. Now identification and estimation is done."
   ]
  },
  {
   "cell_type": "code",
   "execution_count": 7,
   "id": "b0f9182f",
   "metadata": {
    "execution": {
     "iopub.execute_input": "2022-10-17T14:51:45.078268Z",
     "iopub.status.busy": "2022-10-17T14:51:45.077311Z",
     "iopub.status.idle": "2022-10-17T14:51:45.398006Z",
     "shell.execute_reply": "2022-10-17T14:51:45.397080Z"
    }
   },
   "outputs": [
    {
     "name": "stdout",
     "output_type": "stream",
     "text": [
      "Estimand type: EstimandType.NONPARAMETRIC_ATE\n",
      "\n",
      "### Estimand : 1\n",
      "Estimand name: backdoor\n",
      "Estimand expression:\n",
      "  d                       \n",
      "─────(E[y|W2,W3,W4,W0,W1])\n",
      "d[v₀]                     \n",
      "Estimand assumption 1, Unconfoundedness: If U→{v0} and U→y then P(y|v0,W2,W3,W4,W0,W1,U) = P(y|v0,W2,W3,W4,W0,W1)\n",
      "\n",
      "### Estimand : 2\n",
      "Estimand name: iv\n",
      "Estimand expression:\n",
      " ⎡                              -1⎤\n",
      " ⎢    d        ⎛    d          ⎞  ⎥\n",
      "E⎢─────────(y)⋅⎜─────────([v₀])⎟  ⎥\n",
      " ⎣d[Z₀  Z₁]    ⎝d[Z₀  Z₁]      ⎠  ⎦\n",
      "Estimand assumption 1, As-if-random: If U→→y then ¬(U →→{Z0,Z1})\n",
      "Estimand assumption 2, Exclusion: If we remove {Z0,Z1}→{v0}, then ¬({Z0,Z1}→y)\n",
      "\n",
      "### Estimand : 3\n",
      "Estimand name: frontdoor\n",
      "No such variable(s) found!\n",
      "\n"
     ]
    }
   ],
   "source": [
    "identified_estimand = model.identify_effect(proceed_when_unidentifiable=True)\n",
    "print(identified_estimand)"
   ]
  },
  {
   "cell_type": "markdown",
   "id": "196478db",
   "metadata": {},
   "source": [
    "## Method 1: Propensity Score Stratification\n",
    "\n",
    "We will be using propensity scores to stratify units in the data."
   ]
  },
  {
   "cell_type": "code",
   "execution_count": 8,
   "id": "d1ba0f25",
   "metadata": {
    "execution": {
     "iopub.execute_input": "2022-10-17T14:51:45.402069Z",
     "iopub.status.busy": "2022-10-17T14:51:45.401784Z",
     "iopub.status.idle": "2022-10-17T14:51:46.571642Z",
     "shell.execute_reply": "2022-10-17T14:51:46.569931Z"
    }
   },
   "outputs": [
    {
     "name": "stdout",
     "output_type": "stream",
     "text": [
      "*** Causal Estimate ***\n",
      "\n",
      "## Identified estimand\n",
      "Estimand type: EstimandType.NONPARAMETRIC_ATE\n",
      "\n",
      "### Estimand : 1\n",
      "Estimand name: backdoor\n",
      "Estimand expression:\n",
      "  d                       \n",
      "─────(E[y|W2,W3,W4,W0,W1])\n",
      "d[v₀]                     \n",
      "Estimand assumption 1, Unconfoundedness: If U→{v0} and U→y then P(y|v0,W2,W3,W4,W0,W1,U) = P(y|v0,W2,W3,W4,W0,W1)\n",
      "\n",
      "## Realized estimand\n",
      "b: y~v0+W2+W3+W4+W0+W1\n",
      "Target units: att\n",
      "\n",
      "## Estimate\n",
      "Mean value: 0.9925966171187421\n",
      "\n",
      "Causal Estimate is 0.9925966171187421\n"
     ]
    }
   ],
   "source": [
    "causal_estimate_strat = model.estimate_effect(identified_estimand,\n",
    "                                              method_name=\"backdoor.propensity_score_stratification\",\n",
    "                                              target_units=\"att\")\n",
    "print(causal_estimate_strat)\n",
    "print(\"Causal Estimate is \" + str(causal_estimate_strat.value))"
   ]
  },
  {
   "cell_type": "markdown",
   "id": "45513b7f",
   "metadata": {},
   "source": [
    "### Textual Interpreter\n",
    "\n",
    "The textual Interpreter describes (in words) the effect of unit change in the treatment variable on the outcome variable."
   ]
  },
  {
   "cell_type": "code",
   "execution_count": 9,
   "id": "4f89d6b5",
   "metadata": {
    "execution": {
     "iopub.execute_input": "2022-10-17T14:51:46.576082Z",
     "iopub.status.busy": "2022-10-17T14:51:46.575737Z",
     "iopub.status.idle": "2022-10-17T14:51:46.616133Z",
     "shell.execute_reply": "2022-10-17T14:51:46.615110Z"
    }
   },
   "outputs": [
    {
     "name": "stdout",
     "output_type": "stream",
     "text": [
      "Increasing the treatment variable(s) [v0] from 0 to 1 causes an increase of 0.9925966171187421 in the expected value of the outcome [y], over the data distribution/population represented by the dataset.\n"
     ]
    }
   ],
   "source": [
    "# Textual Interpreter\n",
    "interpretation = causal_estimate_strat.interpret(method_name=\"textual_effect_interpreter\")"
   ]
  },
  {
   "cell_type": "markdown",
   "id": "c0ea678d",
   "metadata": {},
   "source": [
    "### Visual Interpreter\n",
    "\n",
    "The visual interpreter plots the change in the standardized mean difference (SMD) before and after Propensity Score based adjustment of the dataset. The formula for SMD is given below.\n",
    "\n",
    "\n",
    "$SMD = \\frac{\\bar X_{1} - \\bar X_{2}}{\\sqrt{(S_{1}^{2} + S_{2}^{2})/2}}$\n",
    "\n",
    "Here, $\\bar X_{1}$ and $\\bar X_{2}$ are the sample mean for the treated and control groups.\n"
   ]
  },
  {
   "cell_type": "code",
   "execution_count": 10,
   "id": "d0e6832e",
   "metadata": {
    "execution": {
     "iopub.execute_input": "2022-10-17T14:51:46.622961Z",
     "iopub.status.busy": "2022-10-17T14:51:46.622604Z",
     "iopub.status.idle": "2022-10-17T14:51:47.541290Z",
     "shell.execute_reply": "2022-10-17T14:51:47.540332Z"
    }
   },
   "outputs": [
    {
     "data": {
      "image/png": "[encoded data removed]",
      "text/plain": [
       "<Figure size 640x480 with 1 Axes>"
      ]
     },
     "metadata": {},
     "output_type": "display_data"
    }
   ],
   "source": [
    "# Visual Interpreter\n",
    "interpretation = causal_estimate_strat.interpret(method_name=\"propensity_balance_interpreter\")"
   ]
  },
  {
   "cell_type": "markdown",
   "id": "bfd376e3",
   "metadata": {},
   "source": [
    "This plot shows how the SMD decreases from the unadjusted to the stratified units. "
   ]
  },
  {
   "cell_type": "markdown",
   "id": "2c569075",
   "metadata": {},
   "source": [
    "## Method 2: Propensity Score Matching\n",
    "\n",
    "We will be using propensity scores to match units in the data."
   ]
  },
  {
   "cell_type": "code",
   "execution_count": 11,
   "id": "88155b5b",
   "metadata": {
    "execution": {
     "iopub.execute_input": "2022-10-17T14:51:47.545829Z",
     "iopub.status.busy": "2022-10-17T14:51:47.545335Z",
     "iopub.status.idle": "2022-10-17T14:51:54.019310Z",
     "shell.execute_reply": "2022-10-17T14:51:54.018368Z"
    }
   },
   "outputs": [
    {
     "name": "stdout",
     "output_type": "stream",
     "text": [
      "*** Causal Estimate ***\n",
      "\n",
      "## Identified estimand\n",
      "Estimand type: EstimandType.NONPARAMETRIC_ATE\n",
      "\n",
      "### Estimand : 1\n",
      "Estimand name: backdoor\n",
      "Estimand expression:\n",
      "  d                       \n",
      "─────(E[y|W2,W3,W4,W0,W1])\n",
      "d[v₀]                     \n",
      "Estimand assumption 1, Unconfoundedness: If U→{v0} and U→y then P(y|v0,W2,W3,W4,W0,W1,U) = P(y|v0,W2,W3,W4,W0,W1)\n",
      "\n",
      "## Realized estimand\n",
      "b: y~v0+W2+W3+W4+W0+W1\n",
      "Target units: atc\n",
      "\n",
      "## Estimate\n",
      "Mean value: 1.0388120393341491\n",
      "\n",
      "Causal Estimate is 1.0388120393341491\n"
     ]
    }
   ],
   "source": [
    "causal_estimate_match = model.estimate_effect(identified_estimand,\n",
    "                                              method_name=\"backdoor.propensity_score_matching\",\n",
    "                                              target_units=\"atc\")\n",
    "print(causal_estimate_match)\n",
    "print(\"Causal Estimate is \" + str(causal_estimate_match.value))"
   ]
  },
  {
   "cell_type": "code",
   "execution_count": 12,
   "id": "78191854",
   "metadata": {
    "execution": {
     "iopub.execute_input": "2022-10-17T14:51:54.023691Z",
     "iopub.status.busy": "2022-10-17T14:51:54.023204Z",
     "iopub.status.idle": "2022-10-17T14:51:54.060955Z",
     "shell.execute_reply": "2022-10-17T14:51:54.060009Z"
    }
   },
   "outputs": [
    {
     "name": "stdout",
     "output_type": "stream",
     "text": [
      "Increasing the treatment variable(s) [v0] from 0 to 1 causes an increase of 1.0388120393341491 in the expected value of the outcome [y], over the data distribution/population represented by the dataset.\n"
     ]
    }
   ],
   "source": [
    "# Textual Interpreter\n",
    "interpretation = causal_estimate_match.interpret(method_name=\"textual_effect_interpreter\")"
   ]
  },
  {
   "cell_type": "markdown",
   "id": "e94e48d4",
   "metadata": {},
   "source": [
    "Cannot use propensity balance interpretor here since the interpreter method only supports propensity score stratification estimator."
   ]
  },
  {
   "cell_type": "markdown",
   "id": "d62b5b2f",
   "metadata": {},
   "source": [
    "## Method 3: Weighting\n",
    "\n",
    "We will be using (inverse) propensity scores to assign weights to units in the data. DoWhy supports a few different weighting schemes:\n",
    "1. Vanilla Inverse Propensity Score weighting (IPS) (weighting_scheme=\"ips_weight\")\n",
    "2. Self-normalized IPS weighting (also known as the Hajek estimator) (weighting_scheme=\"ips_normalized_weight\")\n",
    "3. Stabilized IPS weighting (weighting_scheme = \"ips_stabilized_weight\")"
   ]
  },
  {
   "cell_type": "code",
   "execution_count": 13,
   "id": "4aad20a8",
   "metadata": {
    "execution": {
     "iopub.execute_input": "2022-10-17T14:51:54.065392Z",
     "iopub.status.busy": "2022-10-17T14:51:54.065094Z",
     "iopub.status.idle": "2022-10-17T14:51:54.155027Z",
     "shell.execute_reply": "2022-10-17T14:51:54.154146Z"
    }
   },
   "outputs": [
    {
     "name": "stdout",
     "output_type": "stream",
     "text": [
      "*** Causal Estimate ***\n",
      "\n",
      "## Identified estimand\n",
      "Estimand type: EstimandType.NONPARAMETRIC_ATE\n",
      "\n",
      "### Estimand : 1\n",
      "Estimand name: backdoor\n",
      "Estimand expression:\n",
      "  d                       \n",
      "─────(E[y|W2,W3,W4,W0,W1])\n",
      "d[v₀]                     \n",
      "Estimand assumption 1, Unconfoundedness: If U→{v0} and U→y then P(y|v0,W2,W3,W4,W0,W1,U) = P(y|v0,W2,W3,W4,W0,W1)\n",
      "\n",
      "## Realized estimand\n",
      "b: y~v0+W2+W3+W4+W0+W1\n",
      "Target units: ate\n",
      "\n",
      "## Estimate\n",
      "Mean value: 1.1183433085636194\n",
      "\n",
      "Causal Estimate is 1.1183433085636194\n"
     ]
    }
   ],
   "source": [
    "causal_estimate_ipw = model.estimate_effect(identified_estimand,\n",
    "                                            method_name=\"backdoor.propensity_score_weighting\",\n",
    "                                            target_units = \"ate\",\n",
    "                                            method_params={\"weighting_scheme\":\"ips_weight\"})\n",
    "print(causal_estimate_ipw)\n",
    "print(\"Causal Estimate is \" + str(causal_estimate_ipw.value))"
   ]
  },
  {
   "cell_type": "code",
   "execution_count": 14,
   "id": "7f7aab7a",
   "metadata": {
    "execution": {
     "iopub.execute_input": "2022-10-17T14:51:54.160231Z",
     "iopub.status.busy": "2022-10-17T14:51:54.159936Z",
     "iopub.status.idle": "2022-10-17T14:51:54.202719Z",
     "shell.execute_reply": "2022-10-17T14:51:54.201762Z"
    }
   },
   "outputs": [
    {
     "name": "stdout",
     "output_type": "stream",
     "text": [
      "Increasing the treatment variable(s) [v0] from 0 to 1 causes an increase of 1.1183433085636194 in the expected value of the outcome [y], over the data distribution/population represented by the dataset.\n"
     ]
    }
   ],
   "source": [
    "# Textual Interpreter\n",
    "interpretation = causal_estimate_ipw.interpret(method_name=\"textual_effect_interpreter\")"
   ]
  },
  {
   "cell_type": "code",
   "execution_count": 15,
   "id": "3fb5265a",
   "metadata": {
    "execution": {
     "iopub.execute_input": "2022-10-17T14:51:54.206378Z",
     "iopub.status.busy": "2022-10-17T14:51:54.206101Z",
     "iopub.status.idle": "2022-10-17T14:51:54.667015Z",
     "shell.execute_reply": "2022-10-17T14:51:54.666070Z"
    }
   },
   "outputs": [
    {
     "data": {
      "image/png": "[encoded data removed]",
      "text/plain": [
       "<Figure size 800x800 with 2 Axes>"
      ]
     },
     "metadata": {},
     "output_type": "display_data"
    }
   ],
   "source": [
    "interpretation = causal_estimate_ipw.interpret(method_name=\"confounder_distribution_interpreter\", fig_size=(8,8), font_size=12, var_name='W4', var_type='discrete')"
   ]
  },
  {
   "cell_type": "code",
   "execution_count": null,
   "id": "851dcc3b",
   "metadata": {},
   "outputs": [],
   "source": []
  }
 ],
 "metadata": {
  "kernelspec": {
   "display_name": "Python 3",
   "language": "python",
   "name": "python3"
  },
  "language_info": {
   "codemirror_mode": {
    "name": "ipython",
    "version": 3
   },
   "file_extension": ".py",
   "mimetype": "text/x-python",
   "name": "python",
   "nbconvert_exporter": "python",
   "pygments_lexer": "ipython3",
   "version": "3.8.10"
  },
  "toc": {
   "base_numbering": 1,
   "nav_menu": {},
   "number_sections": false,
   "sideBar": true,
   "skip_h1_title": true,
   "title_cell": "Table of Contents",
   "title_sidebar": "Contents",
   "toc_cell": false,
   "toc_position": {},
   "toc_section_display": true,
   "toc_window_display": false
  }
 },
 "nbformat": 4,
 "nbformat_minor": 5
}
