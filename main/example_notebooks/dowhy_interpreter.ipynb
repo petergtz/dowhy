{
 "cells": [
  {
   "cell_type": "markdown",
   "id": "4f141f6c",
   "metadata": {},
   "source": [
    "# DoWhy: Interpreters for Causal Estimators\n",
    "\n",
    "This is a quick introduction to the use of interpreters in the DoWhy causal inference library.\n",
    "We will load in a sample dataset, use different methods for estimating the causal effect of a (pre-specified)treatment variable on a (pre-specified) outcome variable and demonstrate how to interpret the obtained results.\n",
    "\n",
    "First, let us add the required path for Python to find the DoWhy code and load all required packages"
   ]
  },
  {
   "cell_type": "code",
   "execution_count": 1,
   "id": "7bab3dc8",
   "metadata": {
    "execution": {
     "iopub.execute_input": "2022-09-06T08:07:26.992153Z",
     "iopub.status.busy": "2022-09-06T08:07:26.991741Z",
     "iopub.status.idle": "2022-09-06T08:07:27.009841Z",
     "shell.execute_reply": "2022-09-06T08:07:27.009254Z"
    }
   },
   "outputs": [],
   "source": [
    "%load_ext autoreload\n",
    "%autoreload 2"
   ]
  },
  {
   "cell_type": "code",
   "execution_count": 2,
   "id": "c95598f6",
   "metadata": {
    "execution": {
     "iopub.execute_input": "2022-09-06T08:07:27.013291Z",
     "iopub.status.busy": "2022-09-06T08:07:27.012754Z",
     "iopub.status.idle": "2022-09-06T08:07:28.125818Z",
     "shell.execute_reply": "2022-09-06T08:07:28.125008Z"
    }
   },
   "outputs": [],
   "source": [
    "import numpy as np\n",
    "import pandas as pd\n",
    "import logging\n",
    "\n",
    "import dowhy\n",
    "from dowhy import CausalModel\n",
    "import dowhy.datasets "
   ]
  },
  {
   "cell_type": "markdown",
   "id": "5233314b",
   "metadata": {},
   "source": [
    "Now, let us load a dataset. For simplicity, we simulate a dataset with linear relationships between common causes and treatment, and common causes and outcome.\n",
    "\n",
    "Beta is the true causal effect."
   ]
  },
  {
   "cell_type": "code",
   "execution_count": 3,
   "id": "86ea0565",
   "metadata": {
    "execution": {
     "iopub.execute_input": "2022-09-06T08:07:28.130269Z",
     "iopub.status.busy": "2022-09-06T08:07:28.129772Z",
     "iopub.status.idle": "2022-09-06T08:07:28.439697Z",
     "shell.execute_reply": "2022-09-06T08:07:28.439025Z"
    }
   },
   "outputs": [
    {
     "name": "stdout",
     "output_type": "stream",
     "text": [
      "8203\n"
     ]
    },
    {
     "data": {
      "text/html": [
       "<div>\n",
       "<style scoped>\n",
       "    .dataframe tbody tr th:only-of-type {\n",
       "        vertical-align: middle;\n",
       "    }\n",
       "\n",
       "    .dataframe tbody tr th {\n",
       "        vertical-align: top;\n",
       "    }\n",
       "\n",
       "    .dataframe thead th {\n",
       "        text-align: right;\n",
       "    }\n",
       "</style>\n",
       "<table border=\"1\" class=\"dataframe\">\n",
       "  <thead>\n",
       "    <tr style=\"text-align: right;\">\n",
       "      <th></th>\n",
       "      <th>Z0</th>\n",
       "      <th>Z1</th>\n",
       "      <th>W0</th>\n",
       "      <th>W1</th>\n",
       "      <th>W2</th>\n",
       "      <th>W3</th>\n",
       "      <th>W4</th>\n",
       "      <th>v0</th>\n",
       "      <th>y</th>\n",
       "    </tr>\n",
       "  </thead>\n",
       "  <tbody>\n",
       "    <tr>\n",
       "      <th>0</th>\n",
       "      <td>0.0</td>\n",
       "      <td>0.830048</td>\n",
       "      <td>0.861108</td>\n",
       "      <td>0.587472</td>\n",
       "      <td>-1.015681</td>\n",
       "      <td>-0.185766</td>\n",
       "      <td>3</td>\n",
       "      <td>True</td>\n",
       "      <td>2.693134</td>\n",
       "    </tr>\n",
       "    <tr>\n",
       "      <th>1</th>\n",
       "      <td>0.0</td>\n",
       "      <td>0.950078</td>\n",
       "      <td>1.079832</td>\n",
       "      <td>1.407483</td>\n",
       "      <td>1.976681</td>\n",
       "      <td>0.266272</td>\n",
       "      <td>3</td>\n",
       "      <td>True</td>\n",
       "      <td>5.054155</td>\n",
       "    </tr>\n",
       "    <tr>\n",
       "      <th>2</th>\n",
       "      <td>0.0</td>\n",
       "      <td>0.948359</td>\n",
       "      <td>1.649682</td>\n",
       "      <td>1.414858</td>\n",
       "      <td>0.823163</td>\n",
       "      <td>0.221916</td>\n",
       "      <td>0</td>\n",
       "      <td>True</td>\n",
       "      <td>3.150698</td>\n",
       "    </tr>\n",
       "    <tr>\n",
       "      <th>3</th>\n",
       "      <td>0.0</td>\n",
       "      <td>0.958088</td>\n",
       "      <td>2.180365</td>\n",
       "      <td>0.010689</td>\n",
       "      <td>0.242907</td>\n",
       "      <td>0.330567</td>\n",
       "      <td>2</td>\n",
       "      <td>True</td>\n",
       "      <td>3.108086</td>\n",
       "    </tr>\n",
       "    <tr>\n",
       "      <th>4</th>\n",
       "      <td>1.0</td>\n",
       "      <td>0.326423</td>\n",
       "      <td>1.583612</td>\n",
       "      <td>-1.448681</td>\n",
       "      <td>1.723150</td>\n",
       "      <td>0.803648</td>\n",
       "      <td>0</td>\n",
       "      <td>True</td>\n",
       "      <td>1.726554</td>\n",
       "    </tr>\n",
       "    <tr>\n",
       "      <th>...</th>\n",
       "      <td>...</td>\n",
       "      <td>...</td>\n",
       "      <td>...</td>\n",
       "      <td>...</td>\n",
       "      <td>...</td>\n",
       "      <td>...</td>\n",
       "      <td>...</td>\n",
       "      <td>...</td>\n",
       "      <td>...</td>\n",
       "    </tr>\n",
       "    <tr>\n",
       "      <th>9995</th>\n",
       "      <td>0.0</td>\n",
       "      <td>0.651515</td>\n",
       "      <td>-1.530399</td>\n",
       "      <td>-0.317729</td>\n",
       "      <td>3.136439</td>\n",
       "      <td>1.099465</td>\n",
       "      <td>1</td>\n",
       "      <td>True</td>\n",
       "      <td>2.636582</td>\n",
       "    </tr>\n",
       "    <tr>\n",
       "      <th>9996</th>\n",
       "      <td>1.0</td>\n",
       "      <td>0.067587</td>\n",
       "      <td>0.122130</td>\n",
       "      <td>-0.475347</td>\n",
       "      <td>-0.753711</td>\n",
       "      <td>-0.332131</td>\n",
       "      <td>1</td>\n",
       "      <td>True</td>\n",
       "      <td>0.722289</td>\n",
       "    </tr>\n",
       "    <tr>\n",
       "      <th>9997</th>\n",
       "      <td>0.0</td>\n",
       "      <td>0.440209</td>\n",
       "      <td>1.841980</td>\n",
       "      <td>0.992982</td>\n",
       "      <td>1.027458</td>\n",
       "      <td>-0.780943</td>\n",
       "      <td>1</td>\n",
       "      <td>True</td>\n",
       "      <td>3.218726</td>\n",
       "    </tr>\n",
       "    <tr>\n",
       "      <th>9998</th>\n",
       "      <td>0.0</td>\n",
       "      <td>0.950798</td>\n",
       "      <td>2.989081</td>\n",
       "      <td>-0.811731</td>\n",
       "      <td>1.339356</td>\n",
       "      <td>0.389756</td>\n",
       "      <td>3</td>\n",
       "      <td>True</td>\n",
       "      <td>3.919819</td>\n",
       "    </tr>\n",
       "    <tr>\n",
       "      <th>9999</th>\n",
       "      <td>0.0</td>\n",
       "      <td>0.739974</td>\n",
       "      <td>0.930003</td>\n",
       "      <td>2.010409</td>\n",
       "      <td>2.818283</td>\n",
       "      <td>0.335057</td>\n",
       "      <td>2</td>\n",
       "      <td>True</td>\n",
       "      <td>5.366680</td>\n",
       "    </tr>\n",
       "  </tbody>\n",
       "</table>\n",
       "<p>10000 rows × 9 columns</p>\n",
       "</div>"
      ],
      "text/plain": [
       "       Z0        Z1        W0        W1        W2        W3 W4    v0         y\n",
       "0     0.0  0.830048  0.861108  0.587472 -1.015681 -0.185766  3  True  2.693134\n",
       "1     0.0  0.950078  1.079832  1.407483  1.976681  0.266272  3  True  5.054155\n",
       "2     0.0  0.948359  1.649682  1.414858  0.823163  0.221916  0  True  3.150698\n",
       "3     0.0  0.958088  2.180365  0.010689  0.242907  0.330567  2  True  3.108086\n",
       "4     1.0  0.326423  1.583612 -1.448681  1.723150  0.803648  0  True  1.726554\n",
       "...   ...       ...       ...       ...       ...       ... ..   ...       ...\n",
       "9995  0.0  0.651515 -1.530399 -0.317729  3.136439  1.099465  1  True  2.636582\n",
       "9996  1.0  0.067587  0.122130 -0.475347 -0.753711 -0.332131  1  True  0.722289\n",
       "9997  0.0  0.440209  1.841980  0.992982  1.027458 -0.780943  1  True  3.218726\n",
       "9998  0.0  0.950798  2.989081 -0.811731  1.339356  0.389756  3  True  3.919819\n",
       "9999  0.0  0.739974  0.930003  2.010409  2.818283  0.335057  2  True  5.366680\n",
       "\n",
       "[10000 rows x 9 columns]"
      ]
     },
     "execution_count": 3,
     "metadata": {},
     "output_type": "execute_result"
    }
   ],
   "source": [
    "data = dowhy.datasets.linear_dataset(beta=1,\n",
    "        num_common_causes=5, \n",
    "        num_instruments = 2,\n",
    "        num_treatments=1,\n",
    "        num_discrete_common_causes=1,\n",
    "        num_samples=10000,\n",
    "        treatment_is_binary=True,\n",
    "        outcome_is_binary=False)\n",
    "df = data[\"df\"]\n",
    "print(df[df.v0==True].shape[0])\n",
    "df"
   ]
  },
  {
   "cell_type": "markdown",
   "id": "ff9583c2",
   "metadata": {},
   "source": [
    "Note that we are using a pandas dataframe to load the data."
   ]
  },
  {
   "cell_type": "markdown",
   "id": "6b23e88a",
   "metadata": {},
   "source": [
    "## Identifying the causal estimand"
   ]
  },
  {
   "cell_type": "markdown",
   "id": "9598cd8b",
   "metadata": {},
   "source": [
    "We now input a causal graph in the GML graph format."
   ]
  },
  {
   "cell_type": "code",
   "execution_count": 4,
   "id": "76e25ffa",
   "metadata": {
    "execution": {
     "iopub.execute_input": "2022-09-06T08:07:28.443506Z",
     "iopub.status.busy": "2022-09-06T08:07:28.443250Z",
     "iopub.status.idle": "2022-09-06T08:07:28.471676Z",
     "shell.execute_reply": "2022-09-06T08:07:28.470944Z"
    }
   },
   "outputs": [],
   "source": [
    "# With graph\n",
    "model=CausalModel(\n",
    "        data = df,\n",
    "        treatment=data[\"treatment_name\"],\n",
    "        outcome=data[\"outcome_name\"],\n",
    "        graph=data[\"gml_graph\"],\n",
    "        instruments=data[\"instrument_names\"]\n",
    "        )"
   ]
  },
  {
   "cell_type": "code",
   "execution_count": 5,
   "id": "840f6ffb",
   "metadata": {
    "execution": {
     "iopub.execute_input": "2022-09-06T08:07:28.475655Z",
     "iopub.status.busy": "2022-09-06T08:07:28.475388Z",
     "iopub.status.idle": "2022-09-06T08:07:28.536695Z",
     "shell.execute_reply": "2022-09-06T08:07:28.535926Z"
    }
   },
   "outputs": [],
   "source": [
    "model.view_model()"
   ]
  },
  {
   "cell_type": "code",
   "execution_count": 6,
   "id": "c23adb9e",
   "metadata": {
    "execution": {
     "iopub.execute_input": "2022-09-06T08:07:28.540646Z",
     "iopub.status.busy": "2022-09-06T08:07:28.540203Z",
     "iopub.status.idle": "2022-09-06T08:07:28.571695Z",
     "shell.execute_reply": "2022-09-06T08:07:28.570977Z"
    }
   },
   "outputs": [
    {
     "data": {
      "image/png": "[encoded data removed]",
      "text/plain": [
       "<IPython.core.display.Image object>"
      ]
     },
     "metadata": {},
     "output_type": "display_data"
    }
   ],
   "source": [
    "from IPython.display import Image, display\n",
    "display(Image(filename=\"causal_model.png\"))"
   ]
  },
  {
   "cell_type": "markdown",
   "id": "5302403e",
   "metadata": {},
   "source": [
    "We get a causal graph. Now identification and estimation is done."
   ]
  },
  {
   "cell_type": "code",
   "execution_count": 7,
   "id": "d268b5ec",
   "metadata": {
    "execution": {
     "iopub.execute_input": "2022-09-06T08:07:28.575812Z",
     "iopub.status.busy": "2022-09-06T08:07:28.575304Z",
     "iopub.status.idle": "2022-09-06T08:07:28.811542Z",
     "shell.execute_reply": "2022-09-06T08:07:28.810808Z"
    }
   },
   "outputs": [
    {
     "name": "stdout",
     "output_type": "stream",
     "text": [
      "Estimand type: nonparametric-ate\n",
      "\n",
      "### Estimand : 1\n",
      "Estimand name: backdoor\n",
      "Estimand expression:\n",
      "  d                       \n",
      "─────(E[y|W2,W0,W1,W3,W4])\n",
      "d[v₀]                     \n",
      "Estimand assumption 1, Unconfoundedness: If U→{v0} and U→y then P(y|v0,W2,W0,W1,W3,W4,U) = P(y|v0,W2,W0,W1,W3,W4)\n",
      "\n",
      "### Estimand : 2\n",
      "Estimand name: iv\n",
      "Estimand expression:\n",
      " ⎡                              -1⎤\n",
      " ⎢    d        ⎛    d          ⎞  ⎥\n",
      "E⎢─────────(y)⋅⎜─────────([v₀])⎟  ⎥\n",
      " ⎣d[Z₀  Z₁]    ⎝d[Z₀  Z₁]      ⎠  ⎦\n",
      "Estimand assumption 1, As-if-random: If U→→y then ¬(U →→{Z0,Z1})\n",
      "Estimand assumption 2, Exclusion: If we remove {Z0,Z1}→{v0}, then ¬({Z0,Z1}→y)\n",
      "\n",
      "### Estimand : 3\n",
      "Estimand name: frontdoor\n",
      "No such variable(s) found!\n",
      "\n"
     ]
    }
   ],
   "source": [
    "identified_estimand = model.identify_effect(proceed_when_unidentifiable=True)\n",
    "print(identified_estimand)"
   ]
  },
  {
   "cell_type": "markdown",
   "id": "079db6c0",
   "metadata": {},
   "source": [
    "## Method 1: Propensity Score Stratification\n",
    "\n",
    "We will be using propensity scores to stratify units in the data."
   ]
  },
  {
   "cell_type": "code",
   "execution_count": 8,
   "id": "a61f61d6",
   "metadata": {
    "execution": {
     "iopub.execute_input": "2022-09-06T08:07:28.815486Z",
     "iopub.status.busy": "2022-09-06T08:07:28.815230Z",
     "iopub.status.idle": "2022-09-06T08:07:29.551596Z",
     "shell.execute_reply": "2022-09-06T08:07:29.550814Z"
    }
   },
   "outputs": [
    {
     "name": "stdout",
     "output_type": "stream",
     "text": [
      "*** Causal Estimate ***\n",
      "\n",
      "## Identified estimand\n",
      "Estimand type: nonparametric-ate\n",
      "\n",
      "### Estimand : 1\n",
      "Estimand name: backdoor\n",
      "Estimand expression:\n",
      "  d                       \n",
      "─────(E[y|W2,W0,W1,W3,W4])\n",
      "d[v₀]                     \n",
      "Estimand assumption 1, Unconfoundedness: If U→{v0} and U→y then P(y|v0,W2,W0,W1,W3,W4,U) = P(y|v0,W2,W0,W1,W3,W4)\n",
      "\n",
      "## Realized estimand\n",
      "b: y~v0+W2+W0+W1+W3+W4\n",
      "Target units: att\n",
      "\n",
      "## Estimate\n",
      "Mean value: 1.0099249750278723\n",
      "\n",
      "Causal Estimate is 1.0099249750278723\n"
     ]
    }
   ],
   "source": [
    "causal_estimate_strat = model.estimate_effect(identified_estimand,\n",
    "                                              method_name=\"backdoor.propensity_score_stratification\",\n",
    "                                              target_units=\"att\")\n",
    "print(causal_estimate_strat)\n",
    "print(\"Causal Estimate is \" + str(causal_estimate_strat.value))"
   ]
  },
  {
   "cell_type": "markdown",
   "id": "f028b542",
   "metadata": {},
   "source": [
    "### Textual Interpreter\n",
    "\n",
    "The textual Interpreter describes (in words) the effect of unit change in the treatment variable on the outcome variable."
   ]
  },
  {
   "cell_type": "code",
   "execution_count": 9,
   "id": "cf9d0352",
   "metadata": {
    "execution": {
     "iopub.execute_input": "2022-09-06T08:07:29.556102Z",
     "iopub.status.busy": "2022-09-06T08:07:29.555523Z",
     "iopub.status.idle": "2022-09-06T08:07:29.584081Z",
     "shell.execute_reply": "2022-09-06T08:07:29.582769Z"
    }
   },
   "outputs": [
    {
     "name": "stdout",
     "output_type": "stream",
     "text": [
      "Increasing the treatment variable(s) [v0] from 0 to 1 causes an increase of 1.0099249750278723 in the expected value of the outcome [y], over the data distribution/population represented by the dataset.\n"
     ]
    }
   ],
   "source": [
    "# Textual Interpreter\n",
    "interpretation = causal_estimate_strat.interpret(method_name=\"textual_effect_interpreter\")"
   ]
  },
  {
   "cell_type": "markdown",
   "id": "7d914e10",
   "metadata": {},
   "source": [
    "### Visual Interpreter\n",
    "\n",
    "The visual interpreter plots the change in the standardized mean difference (SMD) before and after Propensity Score based adjustment of the dataset. The formula for SMD is given below.\n",
    "\n",
    "\n",
    "$SMD = \\frac{\\bar X_{1} - \\bar X_{2}}{\\sqrt{(S_{1}^{2} + S_{2}^{2})/2}}$\n",
    "\n",
    "Here, $\\bar X_{1}$ and $\\bar X_{2}$ are the sample mean for the treated and control groups.\n"
   ]
  },
  {
   "cell_type": "code",
   "execution_count": 10,
   "id": "08c89235",
   "metadata": {
    "execution": {
     "iopub.execute_input": "2022-09-06T08:07:29.587568Z",
     "iopub.status.busy": "2022-09-06T08:07:29.587160Z",
     "iopub.status.idle": "2022-09-06T08:07:30.951718Z",
     "shell.execute_reply": "2022-09-06T08:07:30.950893Z"
    }
   },
   "outputs": [
    {
     "data": {
      "image/png": "[encoded data removed]",
      "text/plain": [
       "<Figure size 640x480 with 1 Axes>"
      ]
     },
     "metadata": {},
     "output_type": "display_data"
    }
   ],
   "source": [
    "# Visual Interpreter\n",
    "interpretation = causal_estimate_strat.interpret(method_name=\"propensity_balance_interpreter\")"
   ]
  },
  {
   "cell_type": "markdown",
   "id": "6b2f80ca",
   "metadata": {},
   "source": [
    "This plot shows how the SMD decreases from the unadjusted to the stratified units. "
   ]
  },
  {
   "cell_type": "markdown",
   "id": "577bdcde",
   "metadata": {},
   "source": [
    "## Method 2: Propensity Score Matching\n",
    "\n",
    "We will be using propensity scores to match units in the data."
   ]
  },
  {
   "cell_type": "code",
   "execution_count": 11,
   "id": "bb55e0ff",
   "metadata": {
    "execution": {
     "iopub.execute_input": "2022-09-06T08:07:30.956285Z",
     "iopub.status.busy": "2022-09-06T08:07:30.955496Z",
     "iopub.status.idle": "2022-09-06T08:07:35.482378Z",
     "shell.execute_reply": "2022-09-06T08:07:35.481620Z"
    }
   },
   "outputs": [
    {
     "name": "stdout",
     "output_type": "stream",
     "text": [
      "*** Causal Estimate ***\n",
      "\n",
      "## Identified estimand\n",
      "Estimand type: nonparametric-ate\n",
      "\n",
      "### Estimand : 1\n",
      "Estimand name: backdoor\n",
      "Estimand expression:\n",
      "  d                       \n",
      "─────(E[y|W2,W0,W1,W3,W4])\n",
      "d[v₀]                     \n",
      "Estimand assumption 1, Unconfoundedness: If U→{v0} and U→y then P(y|v0,W2,W0,W1,W3,W4,U) = P(y|v0,W2,W0,W1,W3,W4)\n",
      "\n",
      "## Realized estimand\n",
      "b: y~v0+W2+W0+W1+W3+W4\n",
      "Target units: atc\n",
      "\n",
      "## Estimate\n",
      "Mean value: 1.0128027567770406\n",
      "\n",
      "Causal Estimate is 1.0128027567770406\n"
     ]
    }
   ],
   "source": [
    "causal_estimate_match = model.estimate_effect(identified_estimand,\n",
    "                                              method_name=\"backdoor.propensity_score_matching\",\n",
    "                                              target_units=\"atc\")\n",
    "print(causal_estimate_match)\n",
    "print(\"Causal Estimate is \" + str(causal_estimate_match.value))"
   ]
  },
  {
   "cell_type": "code",
   "execution_count": 12,
   "id": "35b420b4",
   "metadata": {
    "execution": {
     "iopub.execute_input": "2022-09-06T08:07:35.486067Z",
     "iopub.status.busy": "2022-09-06T08:07:35.485495Z",
     "iopub.status.idle": "2022-09-06T08:07:35.514380Z",
     "shell.execute_reply": "2022-09-06T08:07:35.513656Z"
    }
   },
   "outputs": [
    {
     "name": "stdout",
     "output_type": "stream",
     "text": [
      "Increasing the treatment variable(s) [v0] from 0 to 1 causes an increase of 1.0128027567770406 in the expected value of the outcome [y], over the data distribution/population represented by the dataset.\n"
     ]
    }
   ],
   "source": [
    "# Textual Interpreter\n",
    "interpretation = causal_estimate_match.interpret(method_name=\"textual_effect_interpreter\")"
   ]
  },
  {
   "cell_type": "markdown",
   "id": "7851a5c3",
   "metadata": {},
   "source": [
    "Cannot use propensity balance interpretor here since the interpreter method only supports propensity score stratification estimator."
   ]
  },
  {
   "cell_type": "markdown",
   "id": "96477bbc",
   "metadata": {},
   "source": [
    "## Method 3: Weighting\n",
    "\n",
    "We will be using (inverse) propensity scores to assign weights to units in the data. DoWhy supports a few different weighting schemes:\n",
    "1. Vanilla Inverse Propensity Score weighting (IPS) (weighting_scheme=\"ips_weight\")\n",
    "2. Self-normalized IPS weighting (also known as the Hajek estimator) (weighting_scheme=\"ips_normalized_weight\")\n",
    "3. Stabilized IPS weighting (weighting_scheme = \"ips_stabilized_weight\")"
   ]
  },
  {
   "cell_type": "code",
   "execution_count": 13,
   "id": "e9d4a707",
   "metadata": {
    "execution": {
     "iopub.execute_input": "2022-09-06T08:07:35.518382Z",
     "iopub.status.busy": "2022-09-06T08:07:35.517738Z",
     "iopub.status.idle": "2022-09-06T08:07:35.583238Z",
     "shell.execute_reply": "2022-09-06T08:07:35.582498Z"
    }
   },
   "outputs": [
    {
     "name": "stdout",
     "output_type": "stream",
     "text": [
      "*** Causal Estimate ***\n",
      "\n",
      "## Identified estimand\n",
      "Estimand type: nonparametric-ate\n",
      "\n",
      "### Estimand : 1\n",
      "Estimand name: backdoor\n",
      "Estimand expression:\n",
      "  d                       \n",
      "─────(E[y|W2,W0,W1,W3,W4])\n",
      "d[v₀]                     \n",
      "Estimand assumption 1, Unconfoundedness: If U→{v0} and U→y then P(y|v0,W2,W0,W1,W3,W4,U) = P(y|v0,W2,W0,W1,W3,W4)\n",
      "\n",
      "## Realized estimand\n",
      "b: y~v0+W2+W0+W1+W3+W4\n",
      "Target units: ate\n",
      "\n",
      "## Estimate\n",
      "Mean value: 1.0196794662885136\n",
      "\n",
      "Causal Estimate is 1.0196794662885136\n"
     ]
    }
   ],
   "source": [
    "causal_estimate_ipw = model.estimate_effect(identified_estimand,\n",
    "                                            method_name=\"backdoor.propensity_score_weighting\",\n",
    "                                            target_units = \"ate\",\n",
    "                                            method_params={\"weighting_scheme\":\"ips_weight\"})\n",
    "print(causal_estimate_ipw)\n",
    "print(\"Causal Estimate is \" + str(causal_estimate_ipw.value))"
   ]
  },
  {
   "cell_type": "code",
   "execution_count": 14,
   "id": "cb77867d",
   "metadata": {
    "execution": {
     "iopub.execute_input": "2022-09-06T08:07:35.587159Z",
     "iopub.status.busy": "2022-09-06T08:07:35.586654Z",
     "iopub.status.idle": "2022-09-06T08:07:35.614423Z",
     "shell.execute_reply": "2022-09-06T08:07:35.613498Z"
    }
   },
   "outputs": [
    {
     "name": "stdout",
     "output_type": "stream",
     "text": [
      "Increasing the treatment variable(s) [v0] from 0 to 1 causes an increase of 1.0196794662885136 in the expected value of the outcome [y], over the data distribution/population represented by the dataset.\n"
     ]
    }
   ],
   "source": [
    "# Textual Interpreter\n",
    "interpretation = causal_estimate_ipw.interpret(method_name=\"textual_effect_interpreter\")"
   ]
  },
  {
   "cell_type": "code",
   "execution_count": 15,
   "id": "e5861709",
   "metadata": {
    "execution": {
     "iopub.execute_input": "2022-09-06T08:07:35.617482Z",
     "iopub.status.busy": "2022-09-06T08:07:35.617167Z",
     "iopub.status.idle": "2022-09-06T08:07:36.009803Z",
     "shell.execute_reply": "2022-09-06T08:07:36.008878Z"
    }
   },
   "outputs": [
    {
     "data": {
      "image/png": "[encoded data removed]",
      "text/plain": [
       "<Figure size 800x800 with 2 Axes>"
      ]
     },
     "metadata": {},
     "output_type": "display_data"
    }
   ],
   "source": [
    "interpretation = causal_estimate_ipw.interpret(method_name=\"confounder_distribution_interpreter\", fig_size=(8,8), font_size=12, var_name='W4', var_type='discrete')"
   ]
  },
  {
   "cell_type": "code",
   "execution_count": null,
   "id": "a1a22251",
   "metadata": {},
   "outputs": [],
   "source": []
  }
 ],
 "metadata": {
  "kernelspec": {
   "display_name": "Python 3",
   "language": "python",
   "name": "python3"
  },
  "language_info": {
   "codemirror_mode": {
    "name": "ipython",
    "version": 3
   },
   "file_extension": ".py",
   "mimetype": "text/x-python",
   "name": "python",
   "nbconvert_exporter": "python",
   "pygments_lexer": "ipython3",
   "version": "3.8.10"
  },
  "toc": {
   "base_numbering": 1,
   "nav_menu": {},
   "number_sections": false,
   "sideBar": true,
   "skip_h1_title": true,
   "title_cell": "Table of Contents",
   "title_sidebar": "Contents",
   "toc_cell": false,
   "toc_position": {},
   "toc_section_display": true,
   "toc_window_display": false
  }
 },
 "nbformat": 4,
 "nbformat_minor": 5
}
