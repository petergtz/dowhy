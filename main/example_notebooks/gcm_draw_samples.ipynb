{
 "cells": [
  {
   "cell_type": "markdown",
   "id": "b72f7198",
   "metadata": {},
   "source": [
    "# Basic Example for generating samples from a GCM"
   ]
  },
  {
   "cell_type": "markdown",
   "id": "8fe6b612",
   "metadata": {},
   "source": [
    "A graphical causal model (GCM) describes the data generation process of the modeled variables. Therefore, after we fit\n",
    "a GCM, we can also generate completely new samples from it and, thus, can see it as data generator for synthetic data based on the underlying\n",
    "models. Generating new samples can generally be done by sorting the nodes in topological\n",
    "order, randomly sample from root-nodes and then propagate the data through the graph by evaluating the downstream\n",
    "causal mechanisms with randomly sampled noise. The ``dowhy.gcm`` package provides a simple helper function that does\n",
    "this automatically and, by this, offers a simple API to draw samples from a GCM.\n",
    "\n",
    "Lets take a look at the following example:"
   ]
  },
  {
   "cell_type": "code",
   "execution_count": 1,
   "id": "f22337ab",
   "metadata": {
    "execution": {
     "iopub.execute_input": "2022-11-16T12:16:29.501140Z",
     "iopub.status.busy": "2022-11-16T12:16:29.500760Z",
     "iopub.status.idle": "2022-11-16T12:16:29.757813Z",
     "shell.execute_reply": "2022-11-16T12:16:29.757197Z"
    }
   },
   "outputs": [
    {
     "data": {
      "text/html": [
       "<div>\n",
       "<style scoped>\n",
       "    .dataframe tbody tr th:only-of-type {\n",
       "        vertical-align: middle;\n",
       "    }\n",
       "\n",
       "    .dataframe tbody tr th {\n",
       "        vertical-align: top;\n",
       "    }\n",
       "\n",
       "    .dataframe thead th {\n",
       "        text-align: right;\n",
       "    }\n",
       "</style>\n",
       "<table border=\"1\" class=\"dataframe\">\n",
       "  <thead>\n",
       "    <tr style=\"text-align: right;\">\n",
       "      <th></th>\n",
       "      <th>X</th>\n",
       "      <th>Y</th>\n",
       "      <th>Z</th>\n",
       "    </tr>\n",
       "  </thead>\n",
       "  <tbody>\n",
       "    <tr>\n",
       "      <th>0</th>\n",
       "      <td>-0.143905</td>\n",
       "      <td>0.913775</td>\n",
       "      <td>2.716169</td>\n",
       "    </tr>\n",
       "    <tr>\n",
       "      <th>1</th>\n",
       "      <td>0.900007</td>\n",
       "      <td>2.601871</td>\n",
       "      <td>8.561468</td>\n",
       "    </tr>\n",
       "    <tr>\n",
       "      <th>2</th>\n",
       "      <td>0.611907</td>\n",
       "      <td>0.738924</td>\n",
       "      <td>1.969030</td>\n",
       "    </tr>\n",
       "    <tr>\n",
       "      <th>3</th>\n",
       "      <td>0.955472</td>\n",
       "      <td>0.175186</td>\n",
       "      <td>0.705411</td>\n",
       "    </tr>\n",
       "    <tr>\n",
       "      <th>4</th>\n",
       "      <td>-0.138126</td>\n",
       "      <td>0.219097</td>\n",
       "      <td>0.080663</td>\n",
       "    </tr>\n",
       "  </tbody>\n",
       "</table>\n",
       "</div>"
      ],
      "text/plain": [
       "          X         Y         Z\n",
       "0 -0.143905  0.913775  2.716169\n",
       "1  0.900007  2.601871  8.561468\n",
       "2  0.611907  0.738924  1.969030\n",
       "3  0.955472  0.175186  0.705411\n",
       "4 -0.138126  0.219097  0.080663"
      ]
     },
     "execution_count": 1,
     "metadata": {},
     "output_type": "execute_result"
    }
   ],
   "source": [
    "import numpy as np, pandas as pd\n",
    "\n",
    "X = np.random.normal(loc=0, scale=1, size=1000)\n",
    "Y = 2 * X + np.random.normal(loc=0, scale=1, size=1000)\n",
    "Z = 3 * Y + np.random.normal(loc=0, scale=1, size=1000)\n",
    "data = pd.DataFrame(data=dict(X=X, Y=Y, Z=Z))\n",
    "data.head()"
   ]
  },
  {
   "cell_type": "markdown",
   "id": "1a0bb234",
   "metadata": {},
   "source": [
    "Similar as in the introduction, we generate data for the simple linear DAG X→Y→Z. Lets define the GCM and fit it to the\n",
    "data:"
   ]
  },
  {
   "cell_type": "code",
   "execution_count": 2,
   "id": "0367caeb",
   "metadata": {
    "execution": {
     "iopub.execute_input": "2022-11-16T12:16:29.761082Z",
     "iopub.status.busy": "2022-11-16T12:16:29.760604Z",
     "iopub.status.idle": "2022-11-16T12:16:34.089828Z",
     "shell.execute_reply": "2022-11-16T12:16:34.089080Z"
    }
   },
   "outputs": [
    {
     "name": "stderr",
     "output_type": "stream",
     "text": [
      "\r",
      "Fitting causal models:   0%|          | 0/3 [00:00<?, ?it/s]"
     ]
    },
    {
     "name": "stderr",
     "output_type": "stream",
     "text": [
      "\r",
      "Fitting causal mechanism of node X:   0%|          | 0/3 [00:00<?, ?it/s]"
     ]
    },
    {
     "name": "stderr",
     "output_type": "stream",
     "text": [
      "\r",
      "Fitting causal mechanism of node Y:   0%|          | 0/3 [00:00<?, ?it/s]"
     ]
    },
    {
     "name": "stderr",
     "output_type": "stream",
     "text": [
      "\r",
      "Fitting causal mechanism of node Z:   0%|          | 0/3 [00:00<?, ?it/s]"
     ]
    },
    {
     "name": "stderr",
     "output_type": "stream",
     "text": [
      "\r",
      "Fitting causal mechanism of node Z: 100%|██████████| 3/3 [00:00<00:00, 360.98it/s]"
     ]
    },
    {
     "name": "stderr",
     "output_type": "stream",
     "text": [
      "\n"
     ]
    }
   ],
   "source": [
    "import networkx as nx\n",
    "import dowhy.gcm as gcm\n",
    "\n",
    "causal_model = gcm.StructuralCausalModel(nx.DiGraph([('X', 'Y'), ('Y', 'Z')]))\n",
    "gcm.auto.assign_causal_mechanisms(causal_model, data) # Automatically assigns additive noise models to non-root nodes\n",
    "gcm.fit(causal_model, data)"
   ]
  },
  {
   "cell_type": "markdown",
   "id": "c779d943",
   "metadata": {
    "pycharm": {
     "name": "#%% md\n"
    }
   },
   "source": [
    "We now learned the generative models of the variables, based on the defined causal graph and the additive noise model assumption.\n",
    "To generate new samples from this model, we can now simply call:"
   ]
  },
  {
   "cell_type": "code",
   "execution_count": 3,
   "id": "eb63a8e1",
   "metadata": {
    "collapsed": false,
    "execution": {
     "iopub.execute_input": "2022-11-16T12:16:34.093431Z",
     "iopub.status.busy": "2022-11-16T12:16:34.092703Z",
     "iopub.status.idle": "2022-11-16T12:16:34.106139Z",
     "shell.execute_reply": "2022-11-16T12:16:34.105556Z"
    },
    "jupyter": {
     "outputs_hidden": false
    },
    "pycharm": {
     "name": "#%%\n"
    }
   },
   "outputs": [
    {
     "data": {
      "text/html": [
       "<div>\n",
       "<style scoped>\n",
       "    .dataframe tbody tr th:only-of-type {\n",
       "        vertical-align: middle;\n",
       "    }\n",
       "\n",
       "    .dataframe tbody tr th {\n",
       "        vertical-align: top;\n",
       "    }\n",
       "\n",
       "    .dataframe thead th {\n",
       "        text-align: right;\n",
       "    }\n",
       "</style>\n",
       "<table border=\"1\" class=\"dataframe\">\n",
       "  <thead>\n",
       "    <tr style=\"text-align: right;\">\n",
       "      <th></th>\n",
       "      <th>X</th>\n",
       "      <th>Y</th>\n",
       "      <th>Z</th>\n",
       "    </tr>\n",
       "  </thead>\n",
       "  <tbody>\n",
       "    <tr>\n",
       "      <th>0</th>\n",
       "      <td>-2.881079</td>\n",
       "      <td>-6.028778</td>\n",
       "      <td>-18.727733</td>\n",
       "    </tr>\n",
       "    <tr>\n",
       "      <th>1</th>\n",
       "      <td>0.237915</td>\n",
       "      <td>1.081042</td>\n",
       "      <td>3.696041</td>\n",
       "    </tr>\n",
       "    <tr>\n",
       "      <th>2</th>\n",
       "      <td>-0.339116</td>\n",
       "      <td>-1.996618</td>\n",
       "      <td>-6.330822</td>\n",
       "    </tr>\n",
       "    <tr>\n",
       "      <th>3</th>\n",
       "      <td>-1.122709</td>\n",
       "      <td>-2.766470</td>\n",
       "      <td>-9.686081</td>\n",
       "    </tr>\n",
       "    <tr>\n",
       "      <th>4</th>\n",
       "      <td>-0.194719</td>\n",
       "      <td>-1.171048</td>\n",
       "      <td>-3.621302</td>\n",
       "    </tr>\n",
       "  </tbody>\n",
       "</table>\n",
       "</div>"
      ],
      "text/plain": [
       "          X         Y          Z\n",
       "0 -2.881079 -6.028778 -18.727733\n",
       "1  0.237915  1.081042   3.696041\n",
       "2 -0.339116 -1.996618  -6.330822\n",
       "3 -1.122709 -2.766470  -9.686081\n",
       "4 -0.194719 -1.171048  -3.621302"
      ]
     },
     "execution_count": 3,
     "metadata": {},
     "output_type": "execute_result"
    }
   ],
   "source": [
    "generated_data = gcm.draw_samples(causal_model, num_samples=1000)\n",
    "generated_data.head()"
   ]
  },
  {
   "cell_type": "markdown",
   "id": "96b5e58a",
   "metadata": {
    "pycharm": {
     "name": "#%% md\n"
    }
   },
   "source": [
    "If our modeling assumptions are correct, the generated data should now resemble the observed data distribution, i.e. the\n",
    "generated samples correspond to the joint distribution we defined for our example data at the beginning. A quick\n",
    "way to make sure of this is to estimate the KL-divergence between observed and generated distribution:"
   ]
  },
  {
   "cell_type": "code",
   "execution_count": 4,
   "id": "557db59e",
   "metadata": {
    "collapsed": false,
    "execution": {
     "iopub.execute_input": "2022-11-16T12:16:34.109292Z",
     "iopub.status.busy": "2022-11-16T12:16:34.108726Z",
     "iopub.status.idle": "2022-11-16T12:16:34.182278Z",
     "shell.execute_reply": "2022-11-16T12:16:34.181641Z"
    },
    "jupyter": {
     "outputs_hidden": false
    },
    "pycharm": {
     "name": "#%%\n"
    }
   },
   "outputs": [
    {
     "data": {
      "image/png": "[encoded data removed]",
      "text/latex": [
       "$\\displaystyle 0$"
      ],
      "text/plain": [
       "0"
      ]
     },
     "execution_count": 4,
     "metadata": {},
     "output_type": "execute_result"
    }
   ],
   "source": [
    "gcm.divergence.auto_estimate_kl_divergence(data.to_numpy(), generated_data.to_numpy())"
   ]
  },
  {
   "cell_type": "markdown",
   "id": "0ccbc2ad",
   "metadata": {
    "pycharm": {
     "name": "#%% md\n"
    }
   },
   "source": [
    "Here, we expect the divergence to be (very) small.\n",
    "\n",
    "**Note**: We **cannot** validate the correctness of a causal graph this way,\n",
    "since any graph from a Markov equivalence class would be sufficient to generate data that is consistent with the observed one,\n",
    "but only one particular graph would generate the correct interventional and counterfactual distributions. This is, seeing the example above,\n",
    "X→Y→Z and X←Y←Z would generate the same observational distribution (since they encode the same conditionals), but only X→Y→Z would generate the\n",
    "correct interventional distribution (e.g. when intervening on Y)."
   ]
  }
 ],
 "metadata": {
  "kernelspec": {
   "display_name": "Python 3 (ipykernel)",
   "language": "python",
   "name": "python3"
  },
  "language_info": {
   "codemirror_mode": {
    "name": "ipython",
    "version": 3
   },
   "file_extension": ".py",
   "mimetype": "text/x-python",
   "name": "python",
   "nbconvert_exporter": "python",
   "pygments_lexer": "ipython3",
   "version": "3.8.10"
  }
 },
 "nbformat": 4,
 "nbformat_minor": 5
}
