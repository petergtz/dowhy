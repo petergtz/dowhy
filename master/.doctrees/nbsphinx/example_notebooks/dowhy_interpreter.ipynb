{
 "cells": [
  {
   "cell_type": "markdown",
   "id": "ced06f95",
   "metadata": {},
   "source": [
    "# DoWhy: Interpreters for Causal Estimators\n",
    "\n",
    "This is a quick introduction to the use of interpreters in the DoWhy causal inference library.\n",
    "We will load in a sample dataset, use different methods for estimating the causal effect of a (pre-specified)treatment variable on a (pre-specified) outcome variable and demonstrate how to interpret the obtained results.\n",
    "\n",
    "First, let us add the required path for Python to find the DoWhy code and load all required packages"
   ]
  },
  {
   "cell_type": "code",
   "execution_count": 1,
   "id": "9de3f6e5",
   "metadata": {
    "execution": {
     "iopub.execute_input": "2022-07-28T10:55:02.747234Z",
     "iopub.status.busy": "2022-07-28T10:55:02.746657Z",
     "iopub.status.idle": "2022-07-28T10:55:02.769776Z",
     "shell.execute_reply": "2022-07-28T10:55:02.769077Z"
    }
   },
   "outputs": [],
   "source": [
    "%load_ext autoreload\n",
    "%autoreload 2"
   ]
  },
  {
   "cell_type": "code",
   "execution_count": 2,
   "id": "9611a7de",
   "metadata": {
    "execution": {
     "iopub.execute_input": "2022-07-28T10:55:02.773413Z",
     "iopub.status.busy": "2022-07-28T10:55:02.773141Z",
     "iopub.status.idle": "2022-07-28T10:55:04.024917Z",
     "shell.execute_reply": "2022-07-28T10:55:04.023778Z"
    }
   },
   "outputs": [
    {
     "name": "stdout",
     "output_type": "stream",
     "text": [
      "keywords are unexpanded, not using\n"
     ]
    }
   ],
   "source": [
    "import numpy as np\n",
    "import pandas as pd\n",
    "import logging\n",
    "\n",
    "import dowhy\n",
    "from dowhy import CausalModel\n",
    "import dowhy.datasets "
   ]
  },
  {
   "cell_type": "markdown",
   "id": "aabbcabe",
   "metadata": {},
   "source": [
    "Now, let us load a dataset. For simplicity, we simulate a dataset with linear relationships between common causes and treatment, and common causes and outcome.\n",
    "\n",
    "Beta is the true causal effect."
   ]
  },
  {
   "cell_type": "code",
   "execution_count": 3,
   "id": "fa87f03f",
   "metadata": {
    "execution": {
     "iopub.execute_input": "2022-07-28T10:55:04.029702Z",
     "iopub.status.busy": "2022-07-28T10:55:04.028618Z",
     "iopub.status.idle": "2022-07-28T10:55:04.414731Z",
     "shell.execute_reply": "2022-07-28T10:55:04.414107Z"
    }
   },
   "outputs": [
    {
     "name": "stdout",
     "output_type": "stream",
     "text": [
      "8634\n"
     ]
    },
    {
     "data": {
      "text/html": [
       "<div>\n",
       "<style scoped>\n",
       "    .dataframe tbody tr th:only-of-type {\n",
       "        vertical-align: middle;\n",
       "    }\n",
       "\n",
       "    .dataframe tbody tr th {\n",
       "        vertical-align: top;\n",
       "    }\n",
       "\n",
       "    .dataframe thead th {\n",
       "        text-align: right;\n",
       "    }\n",
       "</style>\n",
       "<table border=\"1\" class=\"dataframe\">\n",
       "  <thead>\n",
       "    <tr style=\"text-align: right;\">\n",
       "      <th></th>\n",
       "      <th>Z0</th>\n",
       "      <th>Z1</th>\n",
       "      <th>W0</th>\n",
       "      <th>W1</th>\n",
       "      <th>W2</th>\n",
       "      <th>W3</th>\n",
       "      <th>W4</th>\n",
       "      <th>v0</th>\n",
       "      <th>y</th>\n",
       "    </tr>\n",
       "  </thead>\n",
       "  <tbody>\n",
       "    <tr>\n",
       "      <th>0</th>\n",
       "      <td>0.0</td>\n",
       "      <td>0.249369</td>\n",
       "      <td>2.272983</td>\n",
       "      <td>-2.023489</td>\n",
       "      <td>0.575595</td>\n",
       "      <td>0.456341</td>\n",
       "      <td>0</td>\n",
       "      <td>True</td>\n",
       "      <td>3.144241</td>\n",
       "    </tr>\n",
       "    <tr>\n",
       "      <th>1</th>\n",
       "      <td>1.0</td>\n",
       "      <td>0.184226</td>\n",
       "      <td>-0.056393</td>\n",
       "      <td>-2.753636</td>\n",
       "      <td>0.405097</td>\n",
       "      <td>-0.579482</td>\n",
       "      <td>0</td>\n",
       "      <td>True</td>\n",
       "      <td>0.922797</td>\n",
       "    </tr>\n",
       "    <tr>\n",
       "      <th>2</th>\n",
       "      <td>0.0</td>\n",
       "      <td>0.470039</td>\n",
       "      <td>-0.801698</td>\n",
       "      <td>-1.719941</td>\n",
       "      <td>0.106580</td>\n",
       "      <td>-0.803839</td>\n",
       "      <td>0</td>\n",
       "      <td>False</td>\n",
       "      <td>-0.892430</td>\n",
       "    </tr>\n",
       "    <tr>\n",
       "      <th>3</th>\n",
       "      <td>1.0</td>\n",
       "      <td>0.633246</td>\n",
       "      <td>-1.117208</td>\n",
       "      <td>-0.798792</td>\n",
       "      <td>-0.159955</td>\n",
       "      <td>0.228232</td>\n",
       "      <td>3</td>\n",
       "      <td>True</td>\n",
       "      <td>0.993584</td>\n",
       "    </tr>\n",
       "    <tr>\n",
       "      <th>4</th>\n",
       "      <td>1.0</td>\n",
       "      <td>0.960624</td>\n",
       "      <td>0.840030</td>\n",
       "      <td>-0.692729</td>\n",
       "      <td>0.254801</td>\n",
       "      <td>0.447529</td>\n",
       "      <td>1</td>\n",
       "      <td>True</td>\n",
       "      <td>2.216616</td>\n",
       "    </tr>\n",
       "    <tr>\n",
       "      <th>...</th>\n",
       "      <td>...</td>\n",
       "      <td>...</td>\n",
       "      <td>...</td>\n",
       "      <td>...</td>\n",
       "      <td>...</td>\n",
       "      <td>...</td>\n",
       "      <td>...</td>\n",
       "      <td>...</td>\n",
       "      <td>...</td>\n",
       "    </tr>\n",
       "    <tr>\n",
       "      <th>9995</th>\n",
       "      <td>0.0</td>\n",
       "      <td>0.137112</td>\n",
       "      <td>1.027369</td>\n",
       "      <td>-1.121703</td>\n",
       "      <td>-0.838495</td>\n",
       "      <td>0.992919</td>\n",
       "      <td>2</td>\n",
       "      <td>True</td>\n",
       "      <td>2.064287</td>\n",
       "    </tr>\n",
       "    <tr>\n",
       "      <th>9996</th>\n",
       "      <td>1.0</td>\n",
       "      <td>0.715161</td>\n",
       "      <td>1.116288</td>\n",
       "      <td>-0.677712</td>\n",
       "      <td>1.223305</td>\n",
       "      <td>-0.403155</td>\n",
       "      <td>1</td>\n",
       "      <td>True</td>\n",
       "      <td>2.680525</td>\n",
       "    </tr>\n",
       "    <tr>\n",
       "      <th>9997</th>\n",
       "      <td>0.0</td>\n",
       "      <td>0.978150</td>\n",
       "      <td>1.358669</td>\n",
       "      <td>-1.888191</td>\n",
       "      <td>0.913970</td>\n",
       "      <td>0.375039</td>\n",
       "      <td>1</td>\n",
       "      <td>True</td>\n",
       "      <td>2.969365</td>\n",
       "    </tr>\n",
       "    <tr>\n",
       "      <th>9998</th>\n",
       "      <td>1.0</td>\n",
       "      <td>0.450027</td>\n",
       "      <td>-0.891000</td>\n",
       "      <td>-1.269675</td>\n",
       "      <td>1.336875</td>\n",
       "      <td>-0.179273</td>\n",
       "      <td>3</td>\n",
       "      <td>True</td>\n",
       "      <td>2.020931</td>\n",
       "    </tr>\n",
       "    <tr>\n",
       "      <th>9999</th>\n",
       "      <td>1.0</td>\n",
       "      <td>0.851436</td>\n",
       "      <td>-2.621224</td>\n",
       "      <td>-1.774874</td>\n",
       "      <td>0.852870</td>\n",
       "      <td>-0.304755</td>\n",
       "      <td>1</td>\n",
       "      <td>False</td>\n",
       "      <td>-1.133348</td>\n",
       "    </tr>\n",
       "  </tbody>\n",
       "</table>\n",
       "<p>10000 rows × 9 columns</p>\n",
       "</div>"
      ],
      "text/plain": [
       "       Z0        Z1        W0        W1        W2        W3 W4     v0  \\\n",
       "0     0.0  0.249369  2.272983 -2.023489  0.575595  0.456341  0   True   \n",
       "1     1.0  0.184226 -0.056393 -2.753636  0.405097 -0.579482  0   True   \n",
       "2     0.0  0.470039 -0.801698 -1.719941  0.106580 -0.803839  0  False   \n",
       "3     1.0  0.633246 -1.117208 -0.798792 -0.159955  0.228232  3   True   \n",
       "4     1.0  0.960624  0.840030 -0.692729  0.254801  0.447529  1   True   \n",
       "...   ...       ...       ...       ...       ...       ... ..    ...   \n",
       "9995  0.0  0.137112  1.027369 -1.121703 -0.838495  0.992919  2   True   \n",
       "9996  1.0  0.715161  1.116288 -0.677712  1.223305 -0.403155  1   True   \n",
       "9997  0.0  0.978150  1.358669 -1.888191  0.913970  0.375039  1   True   \n",
       "9998  1.0  0.450027 -0.891000 -1.269675  1.336875 -0.179273  3   True   \n",
       "9999  1.0  0.851436 -2.621224 -1.774874  0.852870 -0.304755  1  False   \n",
       "\n",
       "             y  \n",
       "0     3.144241  \n",
       "1     0.922797  \n",
       "2    -0.892430  \n",
       "3     0.993584  \n",
       "4     2.216616  \n",
       "...        ...  \n",
       "9995  2.064287  \n",
       "9996  2.680525  \n",
       "9997  2.969365  \n",
       "9998  2.020931  \n",
       "9999 -1.133348  \n",
       "\n",
       "[10000 rows x 9 columns]"
      ]
     },
     "execution_count": 3,
     "metadata": {},
     "output_type": "execute_result"
    }
   ],
   "source": [
    "data = dowhy.datasets.linear_dataset(beta=1,\n",
    "        num_common_causes=5, \n",
    "        num_instruments = 2,\n",
    "        num_treatments=1,\n",
    "        num_discrete_common_causes=1,\n",
    "        num_samples=10000,\n",
    "        treatment_is_binary=True,\n",
    "        outcome_is_binary=False)\n",
    "df = data[\"df\"]\n",
    "print(df[df.v0==True].shape[0])\n",
    "df"
   ]
  },
  {
   "cell_type": "markdown",
   "id": "54a88899",
   "metadata": {},
   "source": [
    "Note that we are using a pandas dataframe to load the data."
   ]
  },
  {
   "cell_type": "markdown",
   "id": "95462762",
   "metadata": {},
   "source": [
    "## Identifying the causal estimand"
   ]
  },
  {
   "cell_type": "markdown",
   "id": "20abe788",
   "metadata": {},
   "source": [
    "We now input a causal graph in the GML graph format."
   ]
  },
  {
   "cell_type": "code",
   "execution_count": 4,
   "id": "7d9da5f3",
   "metadata": {
    "execution": {
     "iopub.execute_input": "2022-07-28T10:55:04.420169Z",
     "iopub.status.busy": "2022-07-28T10:55:04.418783Z",
     "iopub.status.idle": "2022-07-28T10:55:04.448473Z",
     "shell.execute_reply": "2022-07-28T10:55:04.447873Z"
    }
   },
   "outputs": [],
   "source": [
    "# With graph\n",
    "model=CausalModel(\n",
    "        data = df,\n",
    "        treatment=data[\"treatment_name\"],\n",
    "        outcome=data[\"outcome_name\"],\n",
    "        graph=data[\"gml_graph\"],\n",
    "        instruments=data[\"instrument_names\"]\n",
    "        )"
   ]
  },
  {
   "cell_type": "code",
   "execution_count": 5,
   "id": "1a68ca15",
   "metadata": {
    "execution": {
     "iopub.execute_input": "2022-07-28T10:55:04.453509Z",
     "iopub.status.busy": "2022-07-28T10:55:04.452260Z",
     "iopub.status.idle": "2022-07-28T10:55:04.516353Z",
     "shell.execute_reply": "2022-07-28T10:55:04.515611Z"
    }
   },
   "outputs": [],
   "source": [
    "model.view_model()"
   ]
  },
  {
   "cell_type": "code",
   "execution_count": 6,
   "id": "1eaf4d7e",
   "metadata": {
    "execution": {
     "iopub.execute_input": "2022-07-28T10:55:04.520625Z",
     "iopub.status.busy": "2022-07-28T10:55:04.520090Z",
     "iopub.status.idle": "2022-07-28T10:55:04.548349Z",
     "shell.execute_reply": "2022-07-28T10:55:04.547662Z"
    }
   },
   "outputs": [
    {
     "data": {
      "image/png": "[encoded data removed]",
      "text/plain": [
       "<IPython.core.display.Image object>"
      ]
     },
     "metadata": {},
     "output_type": "display_data"
    }
   ],
   "source": [
    "from IPython.display import Image, display\n",
    "display(Image(filename=\"causal_model.png\"))"
   ]
  },
  {
   "cell_type": "markdown",
   "id": "338896b6",
   "metadata": {},
   "source": [
    "We get a causal graph. Now identification and estimation is done."
   ]
  },
  {
   "cell_type": "code",
   "execution_count": 7,
   "id": "adcd73c8",
   "metadata": {
    "execution": {
     "iopub.execute_input": "2022-07-28T10:55:04.551861Z",
     "iopub.status.busy": "2022-07-28T10:55:04.551613Z",
     "iopub.status.idle": "2022-07-28T10:55:04.821262Z",
     "shell.execute_reply": "2022-07-28T10:55:04.820080Z"
    }
   },
   "outputs": [
    {
     "name": "stdout",
     "output_type": "stream",
     "text": [
      "Estimand type: nonparametric-ate\n",
      "\n",
      "### Estimand : 1\n",
      "Estimand name: backdoor\n",
      "Estimand expression:\n",
      "  d                       \n",
      "─────(E[y|W2,W3,W1,W4,W0])\n",
      "d[v₀]                     \n",
      "Estimand assumption 1, Unconfoundedness: If U→{v0} and U→y then P(y|v0,W2,W3,W1,W4,W0,U) = P(y|v0,W2,W3,W1,W4,W0)\n",
      "\n",
      "### Estimand : 2\n",
      "Estimand name: iv\n",
      "Estimand expression:\n",
      " ⎡                              -1⎤\n",
      " ⎢    d        ⎛    d          ⎞  ⎥\n",
      "E⎢─────────(y)⋅⎜─────────([v₀])⎟  ⎥\n",
      " ⎣d[Z₁  Z₀]    ⎝d[Z₁  Z₀]      ⎠  ⎦\n",
      "Estimand assumption 1, As-if-random: If U→→y then ¬(U →→{Z1,Z0})\n",
      "Estimand assumption 2, Exclusion: If we remove {Z1,Z0}→{v0}, then ¬({Z1,Z0}→y)\n",
      "\n",
      "### Estimand : 3\n",
      "Estimand name: frontdoor\n",
      "No such variable(s) found!\n",
      "\n"
     ]
    }
   ],
   "source": [
    "identified_estimand = model.identify_effect(proceed_when_unidentifiable=True)\n",
    "print(identified_estimand)"
   ]
  },
  {
   "cell_type": "markdown",
   "id": "f1f009fd",
   "metadata": {},
   "source": [
    "## Method 1: Propensity Score Stratification\n",
    "\n",
    "We will be using propensity scores to stratify units in the data."
   ]
  },
  {
   "cell_type": "code",
   "execution_count": 8,
   "id": "7b521b15",
   "metadata": {
    "execution": {
     "iopub.execute_input": "2022-07-28T10:55:04.825252Z",
     "iopub.status.busy": "2022-07-28T10:55:04.824963Z",
     "iopub.status.idle": "2022-07-28T10:55:05.767701Z",
     "shell.execute_reply": "2022-07-28T10:55:05.766528Z"
    }
   },
   "outputs": [
    {
     "name": "stdout",
     "output_type": "stream",
     "text": [
      "propensity_score_stratification\n"
     ]
    },
    {
     "name": "stderr",
     "output_type": "stream",
     "text": [
      "/usr/local/lib/python3.8/dist-packages/sklearn/utils/validation.py:993: DataConversionWarning: A column-vector y was passed when a 1d array was expected. Please change the shape of y to (n_samples, ), for example using ravel().\n",
      "  y = column_or_1d(y, warn=True)\n"
     ]
    },
    {
     "name": "stdout",
     "output_type": "stream",
     "text": [
      "*** Causal Estimate ***\n",
      "\n",
      "## Identified estimand\n",
      "Estimand type: nonparametric-ate\n",
      "\n",
      "### Estimand : 1\n",
      "Estimand name: backdoor\n",
      "Estimand expression:\n",
      "  d                       \n",
      "─────(E[y|W2,W3,W1,W4,W0])\n",
      "d[v₀]                     \n",
      "Estimand assumption 1, Unconfoundedness: If U→{v0} and U→y then P(y|v0,W2,W3,W1,W4,W0,U) = P(y|v0,W2,W3,W1,W4,W0)\n",
      "\n",
      "## Realized estimand\n",
      "b: y~v0+W2+W3+W1+W4+W0\n",
      "Target units: att\n",
      "\n",
      "## Estimate\n",
      "Mean value: 1.019144668304469\n",
      "\n",
      "Causal Estimate is 1.019144668304469\n"
     ]
    }
   ],
   "source": [
    "causal_estimate_strat = model.estimate_effect(identified_estimand,\n",
    "                                              method_name=\"backdoor.propensity_score_stratification\",\n",
    "                                              target_units=\"att\")\n",
    "print(causal_estimate_strat)\n",
    "print(\"Causal Estimate is \" + str(causal_estimate_strat.value))"
   ]
  },
  {
   "cell_type": "markdown",
   "id": "69a38d78",
   "metadata": {},
   "source": [
    "### Textual Interpreter\n",
    "\n",
    "The textual Interpreter describes (in words) the effect of unit change in the treatment variable on the outcome variable."
   ]
  },
  {
   "cell_type": "code",
   "execution_count": 9,
   "id": "2fa23757",
   "metadata": {
    "execution": {
     "iopub.execute_input": "2022-07-28T10:55:05.772154Z",
     "iopub.status.busy": "2022-07-28T10:55:05.771434Z",
     "iopub.status.idle": "2022-07-28T10:55:05.804390Z",
     "shell.execute_reply": "2022-07-28T10:55:05.803489Z"
    }
   },
   "outputs": [
    {
     "name": "stdout",
     "output_type": "stream",
     "text": [
      "Increasing the treatment variable(s) [v0] from 0 to 1 causes an increase of 1.019144668304469 in the expected value of the outcome [y], over the data distribution/population represented by the dataset.\n"
     ]
    }
   ],
   "source": [
    "# Textual Interpreter\n",
    "interpretation = causal_estimate_strat.interpret(method_name=\"textual_effect_interpreter\")"
   ]
  },
  {
   "cell_type": "markdown",
   "id": "511befc6",
   "metadata": {},
   "source": [
    "### Visual Interpreter\n",
    "\n",
    "The visual interpreter plots the change in the standardized mean difference (SMD) before and after Propensity Score based adjustment of the dataset. The formula for SMD is given below.\n",
    "\n",
    "\n",
    "$SMD = \\frac{\\bar X_{1} - \\bar X_{2}}{\\sqrt{(S_{1}^{2} + S_{2}^{2})/2}}$\n",
    "\n",
    "Here, $\\bar X_{1}$ and $\\bar X_{2}$ are the sample mean for the treated and control groups.\n"
   ]
  },
  {
   "cell_type": "code",
   "execution_count": 10,
   "id": "aa4af5c8",
   "metadata": {
    "execution": {
     "iopub.execute_input": "2022-07-28T10:55:05.808229Z",
     "iopub.status.busy": "2022-07-28T10:55:05.807815Z",
     "iopub.status.idle": "2022-07-28T10:55:07.075435Z",
     "shell.execute_reply": "2022-07-28T10:55:07.074660Z"
    }
   },
   "outputs": [
    {
     "data": {
      "image/png": "[encoded data removed]",
      "text/plain": [
       "<Figure size 432x288 with 1 Axes>"
      ]
     },
     "metadata": {
      "needs_background": "light"
     },
     "output_type": "display_data"
    }
   ],
   "source": [
    "# Visual Interpreter\n",
    "interpretation = causal_estimate_strat.interpret(method_name=\"propensity_balance_interpreter\")"
   ]
  },
  {
   "cell_type": "markdown",
   "id": "898da08f",
   "metadata": {},
   "source": [
    "This plot shows how the SMD decreases from the unadjusted to the stratified units. "
   ]
  },
  {
   "cell_type": "markdown",
   "id": "eb8ff05e",
   "metadata": {},
   "source": [
    "## Method 2: Propensity Score Matching\n",
    "\n",
    "We will be using propensity scores to match units in the data."
   ]
  },
  {
   "cell_type": "code",
   "execution_count": 11,
   "id": "41ced673",
   "metadata": {
    "execution": {
     "iopub.execute_input": "2022-07-28T10:55:07.079804Z",
     "iopub.status.busy": "2022-07-28T10:55:07.079236Z",
     "iopub.status.idle": "2022-07-28T10:55:12.074701Z",
     "shell.execute_reply": "2022-07-28T10:55:12.073481Z"
    }
   },
   "outputs": [
    {
     "name": "stdout",
     "output_type": "stream",
     "text": [
      "propensity_score_matching\n"
     ]
    },
    {
     "name": "stderr",
     "output_type": "stream",
     "text": [
      "/usr/local/lib/python3.8/dist-packages/sklearn/utils/validation.py:993: DataConversionWarning: A column-vector y was passed when a 1d array was expected. Please change the shape of y to (n_samples, ), for example using ravel().\n",
      "  y = column_or_1d(y, warn=True)\n"
     ]
    },
    {
     "name": "stdout",
     "output_type": "stream",
     "text": [
      "*** Causal Estimate ***\n",
      "\n",
      "## Identified estimand\n",
      "Estimand type: nonparametric-ate\n",
      "\n",
      "### Estimand : 1\n",
      "Estimand name: backdoor\n",
      "Estimand expression:\n",
      "  d                       \n",
      "─────(E[y|W2,W3,W1,W4,W0])\n",
      "d[v₀]                     \n",
      "Estimand assumption 1, Unconfoundedness: If U→{v0} and U→y then P(y|v0,W2,W3,W1,W4,W0,U) = P(y|v0,W2,W3,W1,W4,W0)\n",
      "\n",
      "## Realized estimand\n",
      "b: y~v0+W2+W3+W1+W4+W0\n",
      "Target units: atc\n",
      "\n",
      "## Estimate\n",
      "Mean value: 1.0066202384168632\n",
      "\n",
      "Causal Estimate is 1.0066202384168632\n"
     ]
    }
   ],
   "source": [
    "causal_estimate_match = model.estimate_effect(identified_estimand,\n",
    "                                              method_name=\"backdoor.propensity_score_matching\",\n",
    "                                              target_units=\"atc\")\n",
    "print(causal_estimate_match)\n",
    "print(\"Causal Estimate is \" + str(causal_estimate_match.value))"
   ]
  },
  {
   "cell_type": "code",
   "execution_count": 12,
   "id": "de014cf0",
   "metadata": {
    "execution": {
     "iopub.execute_input": "2022-07-28T10:55:12.079264Z",
     "iopub.status.busy": "2022-07-28T10:55:12.078430Z",
     "iopub.status.idle": "2022-07-28T10:55:12.109495Z",
     "shell.execute_reply": "2022-07-28T10:55:12.108372Z"
    }
   },
   "outputs": [
    {
     "name": "stdout",
     "output_type": "stream",
     "text": [
      "Increasing the treatment variable(s) [v0] from 0 to 1 causes an increase of 1.0066202384168632 in the expected value of the outcome [y], over the data distribution/population represented by the dataset.\n"
     ]
    }
   ],
   "source": [
    "# Textual Interpreter\n",
    "interpretation = causal_estimate_match.interpret(method_name=\"textual_effect_interpreter\")"
   ]
  },
  {
   "cell_type": "markdown",
   "id": "ca2aefe5",
   "metadata": {},
   "source": [
    "Cannot use propensity balance interpretor here since the interpreter method only supports propensity score stratification estimator."
   ]
  },
  {
   "cell_type": "markdown",
   "id": "7b655383",
   "metadata": {},
   "source": [
    "## Method 3: Weighting\n",
    "\n",
    "We will be using (inverse) propensity scores to assign weights to units in the data. DoWhy supports a few different weighting schemes:\n",
    "1. Vanilla Inverse Propensity Score weighting (IPS) (weighting_scheme=\"ips_weight\")\n",
    "2. Self-normalized IPS weighting (also known as the Hajek estimator) (weighting_scheme=\"ips_normalized_weight\")\n",
    "3. Stabilized IPS weighting (weighting_scheme = \"ips_stabilized_weight\")"
   ]
  },
  {
   "cell_type": "code",
   "execution_count": 13,
   "id": "05a0e2a7",
   "metadata": {
    "execution": {
     "iopub.execute_input": "2022-07-28T10:55:12.113558Z",
     "iopub.status.busy": "2022-07-28T10:55:12.113010Z",
     "iopub.status.idle": "2022-07-28T10:55:12.189828Z",
     "shell.execute_reply": "2022-07-28T10:55:12.188269Z"
    }
   },
   "outputs": [
    {
     "name": "stdout",
     "output_type": "stream",
     "text": [
      "propensity_score_weighting\n",
      "*** Causal Estimate ***\n",
      "\n",
      "## Identified estimand\n",
      "Estimand type: nonparametric-ate\n",
      "\n",
      "### Estimand : 1\n",
      "Estimand name: backdoor\n",
      "Estimand expression:\n",
      "  d                       \n",
      "─────(E[y|W2,W3,W1,W4,W0])\n",
      "d[v₀]                     \n",
      "Estimand assumption 1, Unconfoundedness: If U→{v0} and U→y then P(y|v0,W2,W3,W1,W4,W0,U) = P(y|v0,W2,W3,W1,W4,W0)\n",
      "\n",
      "## Realized estimand\n",
      "b: y~v0+W2+W3+W1+W4+W0\n",
      "Target units: ate\n",
      "\n",
      "## Estimate\n",
      "Mean value: 1.2915923305322679\n",
      "\n",
      "Causal Estimate is 1.2915923305322679\n"
     ]
    },
    {
     "name": "stderr",
     "output_type": "stream",
     "text": [
      "/usr/local/lib/python3.8/dist-packages/sklearn/utils/validation.py:993: DataConversionWarning: A column-vector y was passed when a 1d array was expected. Please change the shape of y to (n_samples, ), for example using ravel().\n",
      "  y = column_or_1d(y, warn=True)\n"
     ]
    }
   ],
   "source": [
    "causal_estimate_ipw = model.estimate_effect(identified_estimand,\n",
    "                                            method_name=\"backdoor.propensity_score_weighting\",\n",
    "                                            target_units = \"ate\",\n",
    "                                            method_params={\"weighting_scheme\":\"ips_weight\"})\n",
    "print(causal_estimate_ipw)\n",
    "print(\"Causal Estimate is \" + str(causal_estimate_ipw.value))"
   ]
  },
  {
   "cell_type": "code",
   "execution_count": 14,
   "id": "1172678f",
   "metadata": {
    "execution": {
     "iopub.execute_input": "2022-07-28T10:55:12.193464Z",
     "iopub.status.busy": "2022-07-28T10:55:12.193101Z",
     "iopub.status.idle": "2022-07-28T10:55:12.238435Z",
     "shell.execute_reply": "2022-07-28T10:55:12.237668Z"
    }
   },
   "outputs": [
    {
     "name": "stdout",
     "output_type": "stream",
     "text": [
      "Increasing the treatment variable(s) [v0] from 0 to 1 causes an increase of 1.2915923305322679 in the expected value of the outcome [y], over the data distribution/population represented by the dataset.\n"
     ]
    }
   ],
   "source": [
    "# Textual Interpreter\n",
    "interpretation = causal_estimate_ipw.interpret(method_name=\"textual_effect_interpreter\")"
   ]
  },
  {
   "cell_type": "code",
   "execution_count": 15,
   "id": "03bba7de",
   "metadata": {
    "execution": {
     "iopub.execute_input": "2022-07-28T10:55:12.244214Z",
     "iopub.status.busy": "2022-07-28T10:55:12.242764Z",
     "iopub.status.idle": "2022-07-28T10:55:12.530135Z",
     "shell.execute_reply": "2022-07-28T10:55:12.529255Z"
    }
   },
   "outputs": [
    {
     "data": {
      "image/png": "[encoded data removed]",
      "text/plain": [
       "<Figure size 576x576 with 2 Axes>"
      ]
     },
     "metadata": {
      "needs_background": "light"
     },
     "output_type": "display_data"
    }
   ],
   "source": [
    "interpretation = causal_estimate_ipw.interpret(method_name=\"confounder_distribution_interpreter\", fig_size=(8,8), font_size=12, var_name='W4', var_type='discrete')"
   ]
  },
  {
   "cell_type": "code",
   "execution_count": null,
   "id": "502329c1",
   "metadata": {},
   "outputs": [],
   "source": []
  }
 ],
 "metadata": {
  "kernelspec": {
   "display_name": "Python 3",
   "language": "python",
   "name": "python3"
  },
  "language_info": {
   "codemirror_mode": {
    "name": "ipython",
    "version": 3
   },
   "file_extension": ".py",
   "mimetype": "text/x-python",
   "name": "python",
   "nbconvert_exporter": "python",
   "pygments_lexer": "ipython3",
   "version": "3.8.10"
  },
  "toc": {
   "base_numbering": 1,
   "nav_menu": {},
   "number_sections": false,
   "sideBar": true,
   "skip_h1_title": true,
   "title_cell": "Table of Contents",
   "title_sidebar": "Contents",
   "toc_cell": false,
   "toc_position": {},
   "toc_section_display": true,
   "toc_window_display": false
  }
 },
 "nbformat": 4,
 "nbformat_minor": 5
}
