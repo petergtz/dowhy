{
 "cells": [
  {
   "cell_type": "markdown",
   "id": "febf4a09",
   "metadata": {},
   "source": [
    "# DoWhy: Interpreters for Causal Estimators\n",
    "\n",
    "This is a quick introduction to the use of interpreters in the DoWhy causal inference library.\n",
    "We will load in a sample dataset, use different methods for estimating the causal effect of a (pre-specified)treatment variable on a (pre-specified) outcome variable and demonstrate how to interpret the obtained results.\n",
    "\n",
    "First, let us add the required path for Python to find the DoWhy code and load all required packages"
   ]
  },
  {
   "cell_type": "code",
   "execution_count": 1,
   "id": "e478a2cf",
   "metadata": {
    "execution": {
     "iopub.execute_input": "2022-07-28T08:39:54.044149Z",
     "iopub.status.busy": "2022-07-28T08:39:54.043641Z",
     "iopub.status.idle": "2022-07-28T08:39:54.062977Z",
     "shell.execute_reply": "2022-07-28T08:39:54.062278Z"
    }
   },
   "outputs": [],
   "source": [
    "%load_ext autoreload\n",
    "%autoreload 2"
   ]
  },
  {
   "cell_type": "code",
   "execution_count": 2,
   "id": "ec4675d5",
   "metadata": {
    "execution": {
     "iopub.execute_input": "2022-07-28T08:39:54.066599Z",
     "iopub.status.busy": "2022-07-28T08:39:54.066182Z",
     "iopub.status.idle": "2022-07-28T08:39:55.338083Z",
     "shell.execute_reply": "2022-07-28T08:39:55.336989Z"
    }
   },
   "outputs": [
    {
     "name": "stdout",
     "output_type": "stream",
     "text": [
      "keywords are unexpanded, not using\n"
     ]
    }
   ],
   "source": [
    "import numpy as np\n",
    "import pandas as pd\n",
    "import logging\n",
    "\n",
    "import dowhy\n",
    "from dowhy import CausalModel\n",
    "import dowhy.datasets "
   ]
  },
  {
   "cell_type": "markdown",
   "id": "9982a0bb",
   "metadata": {},
   "source": [
    "Now, let us load a dataset. For simplicity, we simulate a dataset with linear relationships between common causes and treatment, and common causes and outcome.\n",
    "\n",
    "Beta is the true causal effect."
   ]
  },
  {
   "cell_type": "code",
   "execution_count": 3,
   "id": "362786d8",
   "metadata": {
    "execution": {
     "iopub.execute_input": "2022-07-28T08:39:55.342929Z",
     "iopub.status.busy": "2022-07-28T08:39:55.342101Z",
     "iopub.status.idle": "2022-07-28T08:39:55.756979Z",
     "shell.execute_reply": "2022-07-28T08:39:55.756233Z"
    }
   },
   "outputs": [
    {
     "name": "stdout",
     "output_type": "stream",
     "text": [
      "7872\n"
     ]
    },
    {
     "data": {
      "text/html": [
       "<div>\n",
       "<style scoped>\n",
       "    .dataframe tbody tr th:only-of-type {\n",
       "        vertical-align: middle;\n",
       "    }\n",
       "\n",
       "    .dataframe tbody tr th {\n",
       "        vertical-align: top;\n",
       "    }\n",
       "\n",
       "    .dataframe thead th {\n",
       "        text-align: right;\n",
       "    }\n",
       "</style>\n",
       "<table border=\"1\" class=\"dataframe\">\n",
       "  <thead>\n",
       "    <tr style=\"text-align: right;\">\n",
       "      <th></th>\n",
       "      <th>Z0</th>\n",
       "      <th>Z1</th>\n",
       "      <th>W0</th>\n",
       "      <th>W1</th>\n",
       "      <th>W2</th>\n",
       "      <th>W3</th>\n",
       "      <th>W4</th>\n",
       "      <th>v0</th>\n",
       "      <th>y</th>\n",
       "    </tr>\n",
       "  </thead>\n",
       "  <tbody>\n",
       "    <tr>\n",
       "      <th>0</th>\n",
       "      <td>0.0</td>\n",
       "      <td>0.104299</td>\n",
       "      <td>1.875758</td>\n",
       "      <td>0.485326</td>\n",
       "      <td>2.731760</td>\n",
       "      <td>-1.994439</td>\n",
       "      <td>2</td>\n",
       "      <td>True</td>\n",
       "      <td>2.701421</td>\n",
       "    </tr>\n",
       "    <tr>\n",
       "      <th>1</th>\n",
       "      <td>0.0</td>\n",
       "      <td>0.466315</td>\n",
       "      <td>0.629655</td>\n",
       "      <td>0.747050</td>\n",
       "      <td>1.858655</td>\n",
       "      <td>-1.411448</td>\n",
       "      <td>0</td>\n",
       "      <td>True</td>\n",
       "      <td>1.680103</td>\n",
       "    </tr>\n",
       "    <tr>\n",
       "      <th>2</th>\n",
       "      <td>0.0</td>\n",
       "      <td>0.197825</td>\n",
       "      <td>0.256200</td>\n",
       "      <td>3.020103</td>\n",
       "      <td>2.037112</td>\n",
       "      <td>-0.495216</td>\n",
       "      <td>3</td>\n",
       "      <td>True</td>\n",
       "      <td>5.638353</td>\n",
       "    </tr>\n",
       "    <tr>\n",
       "      <th>3</th>\n",
       "      <td>0.0</td>\n",
       "      <td>0.459990</td>\n",
       "      <td>0.376798</td>\n",
       "      <td>0.005426</td>\n",
       "      <td>1.528603</td>\n",
       "      <td>-0.849498</td>\n",
       "      <td>0</td>\n",
       "      <td>False</td>\n",
       "      <td>0.408313</td>\n",
       "    </tr>\n",
       "    <tr>\n",
       "      <th>4</th>\n",
       "      <td>0.0</td>\n",
       "      <td>0.033670</td>\n",
       "      <td>0.073407</td>\n",
       "      <td>0.144347</td>\n",
       "      <td>1.774467</td>\n",
       "      <td>-0.214960</td>\n",
       "      <td>1</td>\n",
       "      <td>True</td>\n",
       "      <td>2.720945</td>\n",
       "    </tr>\n",
       "    <tr>\n",
       "      <th>...</th>\n",
       "      <td>...</td>\n",
       "      <td>...</td>\n",
       "      <td>...</td>\n",
       "      <td>...</td>\n",
       "      <td>...</td>\n",
       "      <td>...</td>\n",
       "      <td>...</td>\n",
       "      <td>...</td>\n",
       "      <td>...</td>\n",
       "    </tr>\n",
       "    <tr>\n",
       "      <th>9995</th>\n",
       "      <td>0.0</td>\n",
       "      <td>0.866424</td>\n",
       "      <td>-0.776181</td>\n",
       "      <td>0.664303</td>\n",
       "      <td>1.451743</td>\n",
       "      <td>1.012837</td>\n",
       "      <td>3</td>\n",
       "      <td>True</td>\n",
       "      <td>4.870132</td>\n",
       "    </tr>\n",
       "    <tr>\n",
       "      <th>9996</th>\n",
       "      <td>0.0</td>\n",
       "      <td>0.343342</td>\n",
       "      <td>-0.296315</td>\n",
       "      <td>0.960136</td>\n",
       "      <td>1.070089</td>\n",
       "      <td>-0.587790</td>\n",
       "      <td>2</td>\n",
       "      <td>True</td>\n",
       "      <td>2.974441</td>\n",
       "    </tr>\n",
       "    <tr>\n",
       "      <th>9997</th>\n",
       "      <td>0.0</td>\n",
       "      <td>0.454922</td>\n",
       "      <td>-0.632511</td>\n",
       "      <td>0.346597</td>\n",
       "      <td>0.868310</td>\n",
       "      <td>-0.038236</td>\n",
       "      <td>2</td>\n",
       "      <td>True</td>\n",
       "      <td>2.866020</td>\n",
       "    </tr>\n",
       "    <tr>\n",
       "      <th>9998</th>\n",
       "      <td>0.0</td>\n",
       "      <td>0.473666</td>\n",
       "      <td>0.711502</td>\n",
       "      <td>2.236247</td>\n",
       "      <td>0.534223</td>\n",
       "      <td>0.475489</td>\n",
       "      <td>1</td>\n",
       "      <td>True</td>\n",
       "      <td>3.796363</td>\n",
       "    </tr>\n",
       "    <tr>\n",
       "      <th>9999</th>\n",
       "      <td>0.0</td>\n",
       "      <td>0.610512</td>\n",
       "      <td>-1.851065</td>\n",
       "      <td>1.226551</td>\n",
       "      <td>1.648749</td>\n",
       "      <td>0.779454</td>\n",
       "      <td>2</td>\n",
       "      <td>True</td>\n",
       "      <td>4.676024</td>\n",
       "    </tr>\n",
       "  </tbody>\n",
       "</table>\n",
       "<p>10000 rows × 9 columns</p>\n",
       "</div>"
      ],
      "text/plain": [
       "       Z0        Z1        W0        W1        W2        W3 W4     v0  \\\n",
       "0     0.0  0.104299  1.875758  0.485326  2.731760 -1.994439  2   True   \n",
       "1     0.0  0.466315  0.629655  0.747050  1.858655 -1.411448  0   True   \n",
       "2     0.0  0.197825  0.256200  3.020103  2.037112 -0.495216  3   True   \n",
       "3     0.0  0.459990  0.376798  0.005426  1.528603 -0.849498  0  False   \n",
       "4     0.0  0.033670  0.073407  0.144347  1.774467 -0.214960  1   True   \n",
       "...   ...       ...       ...       ...       ...       ... ..    ...   \n",
       "9995  0.0  0.866424 -0.776181  0.664303  1.451743  1.012837  3   True   \n",
       "9996  0.0  0.343342 -0.296315  0.960136  1.070089 -0.587790  2   True   \n",
       "9997  0.0  0.454922 -0.632511  0.346597  0.868310 -0.038236  2   True   \n",
       "9998  0.0  0.473666  0.711502  2.236247  0.534223  0.475489  1   True   \n",
       "9999  0.0  0.610512 -1.851065  1.226551  1.648749  0.779454  2   True   \n",
       "\n",
       "             y  \n",
       "0     2.701421  \n",
       "1     1.680103  \n",
       "2     5.638353  \n",
       "3     0.408313  \n",
       "4     2.720945  \n",
       "...        ...  \n",
       "9995  4.870132  \n",
       "9996  2.974441  \n",
       "9997  2.866020  \n",
       "9998  3.796363  \n",
       "9999  4.676024  \n",
       "\n",
       "[10000 rows x 9 columns]"
      ]
     },
     "execution_count": 3,
     "metadata": {},
     "output_type": "execute_result"
    }
   ],
   "source": [
    "data = dowhy.datasets.linear_dataset(beta=1,\n",
    "        num_common_causes=5, \n",
    "        num_instruments = 2,\n",
    "        num_treatments=1,\n",
    "        num_discrete_common_causes=1,\n",
    "        num_samples=10000,\n",
    "        treatment_is_binary=True,\n",
    "        outcome_is_binary=False)\n",
    "df = data[\"df\"]\n",
    "print(df[df.v0==True].shape[0])\n",
    "df"
   ]
  },
  {
   "cell_type": "markdown",
   "id": "5b6f9123",
   "metadata": {},
   "source": [
    "Note that we are using a pandas dataframe to load the data."
   ]
  },
  {
   "cell_type": "markdown",
   "id": "094add66",
   "metadata": {},
   "source": [
    "## Identifying the causal estimand"
   ]
  },
  {
   "cell_type": "markdown",
   "id": "88c772b7",
   "metadata": {},
   "source": [
    "We now input a causal graph in the GML graph format."
   ]
  },
  {
   "cell_type": "code",
   "execution_count": 4,
   "id": "23618d15",
   "metadata": {
    "execution": {
     "iopub.execute_input": "2022-07-28T08:39:55.762399Z",
     "iopub.status.busy": "2022-07-28T08:39:55.761955Z",
     "iopub.status.idle": "2022-07-28T08:39:55.792415Z",
     "shell.execute_reply": "2022-07-28T08:39:55.791662Z"
    }
   },
   "outputs": [],
   "source": [
    "# With graph\n",
    "model=CausalModel(\n",
    "        data = df,\n",
    "        treatment=data[\"treatment_name\"],\n",
    "        outcome=data[\"outcome_name\"],\n",
    "        graph=data[\"gml_graph\"],\n",
    "        instruments=data[\"instrument_names\"]\n",
    "        )"
   ]
  },
  {
   "cell_type": "code",
   "execution_count": 5,
   "id": "e642f389",
   "metadata": {
    "execution": {
     "iopub.execute_input": "2022-07-28T08:39:55.797473Z",
     "iopub.status.busy": "2022-07-28T08:39:55.796164Z",
     "iopub.status.idle": "2022-07-28T08:39:55.861861Z",
     "shell.execute_reply": "2022-07-28T08:39:55.861075Z"
    }
   },
   "outputs": [],
   "source": [
    "model.view_model()"
   ]
  },
  {
   "cell_type": "code",
   "execution_count": 6,
   "id": "978eb493",
   "metadata": {
    "execution": {
     "iopub.execute_input": "2022-07-28T08:39:55.866361Z",
     "iopub.status.busy": "2022-07-28T08:39:55.865626Z",
     "iopub.status.idle": "2022-07-28T08:39:55.897553Z",
     "shell.execute_reply": "2022-07-28T08:39:55.896668Z"
    }
   },
   "outputs": [
    {
     "data": {
      "image/png": "[encoded data removed]",
      "text/plain": [
       "<IPython.core.display.Image object>"
      ]
     },
     "metadata": {},
     "output_type": "display_data"
    }
   ],
   "source": [
    "from IPython.display import Image, display\n",
    "display(Image(filename=\"causal_model.png\"))"
   ]
  },
  {
   "cell_type": "markdown",
   "id": "fec4688f",
   "metadata": {},
   "source": [
    "We get a causal graph. Now identification and estimation is done."
   ]
  },
  {
   "cell_type": "code",
   "execution_count": 7,
   "id": "28dc502c",
   "metadata": {
    "execution": {
     "iopub.execute_input": "2022-07-28T08:39:55.901541Z",
     "iopub.status.busy": "2022-07-28T08:39:55.901042Z",
     "iopub.status.idle": "2022-07-28T08:39:56.187482Z",
     "shell.execute_reply": "2022-07-28T08:39:56.186393Z"
    }
   },
   "outputs": [
    {
     "name": "stdout",
     "output_type": "stream",
     "text": [
      "Estimand type: nonparametric-ate\n",
      "\n",
      "### Estimand : 1\n",
      "Estimand name: backdoor\n",
      "Estimand expression:\n",
      "  d                       \n",
      "─────(E[y|W1,W4,W2,W3,W0])\n",
      "d[v₀]                     \n",
      "Estimand assumption 1, Unconfoundedness: If U→{v0} and U→y then P(y|v0,W1,W4,W2,W3,W0,U) = P(y|v0,W1,W4,W2,W3,W0)\n",
      "\n",
      "### Estimand : 2\n",
      "Estimand name: iv\n",
      "Estimand expression:\n",
      " ⎡                              -1⎤\n",
      " ⎢    d        ⎛    d          ⎞  ⎥\n",
      "E⎢─────────(y)⋅⎜─────────([v₀])⎟  ⎥\n",
      " ⎣d[Z₀  Z₁]    ⎝d[Z₀  Z₁]      ⎠  ⎦\n",
      "Estimand assumption 1, As-if-random: If U→→y then ¬(U →→{Z0,Z1})\n",
      "Estimand assumption 2, Exclusion: If we remove {Z0,Z1}→{v0}, then ¬({Z0,Z1}→y)\n",
      "\n",
      "### Estimand : 3\n",
      "Estimand name: frontdoor\n",
      "No such variable(s) found!\n",
      "\n"
     ]
    }
   ],
   "source": [
    "identified_estimand = model.identify_effect(proceed_when_unidentifiable=True)\n",
    "print(identified_estimand)"
   ]
  },
  {
   "cell_type": "markdown",
   "id": "b594cd7e",
   "metadata": {},
   "source": [
    "## Method 1: Propensity Score Stratification\n",
    "\n",
    "We will be using propensity scores to stratify units in the data."
   ]
  },
  {
   "cell_type": "code",
   "execution_count": 8,
   "id": "6fc5fe0d",
   "metadata": {
    "execution": {
     "iopub.execute_input": "2022-07-28T08:39:56.192374Z",
     "iopub.status.busy": "2022-07-28T08:39:56.191951Z",
     "iopub.status.idle": "2022-07-28T08:39:57.103953Z",
     "shell.execute_reply": "2022-07-28T08:39:57.102636Z"
    }
   },
   "outputs": [
    {
     "name": "stdout",
     "output_type": "stream",
     "text": [
      "propensity_score_stratification\n"
     ]
    },
    {
     "name": "stderr",
     "output_type": "stream",
     "text": [
      "/usr/local/lib/python3.8/dist-packages/sklearn/utils/validation.py:993: DataConversionWarning: A column-vector y was passed when a 1d array was expected. Please change the shape of y to (n_samples, ), for example using ravel().\n",
      "  y = column_or_1d(y, warn=True)\n"
     ]
    },
    {
     "name": "stdout",
     "output_type": "stream",
     "text": [
      "*** Causal Estimate ***\n",
      "\n",
      "## Identified estimand\n",
      "Estimand type: nonparametric-ate\n",
      "\n",
      "### Estimand : 1\n",
      "Estimand name: backdoor\n",
      "Estimand expression:\n",
      "  d                       \n",
      "─────(E[y|W1,W4,W2,W3,W0])\n",
      "d[v₀]                     \n",
      "Estimand assumption 1, Unconfoundedness: If U→{v0} and U→y then P(y|v0,W1,W4,W2,W3,W0,U) = P(y|v0,W1,W4,W2,W3,W0)\n",
      "\n",
      "## Realized estimand\n",
      "b: y~v0+W1+W4+W2+W3+W0\n",
      "Target units: att\n",
      "\n",
      "## Estimate\n",
      "Mean value: 0.9976338331920906\n",
      "\n",
      "Causal Estimate is 0.9976338331920906\n"
     ]
    }
   ],
   "source": [
    "causal_estimate_strat = model.estimate_effect(identified_estimand,\n",
    "                                              method_name=\"backdoor.propensity_score_stratification\",\n",
    "                                              target_units=\"att\")\n",
    "print(causal_estimate_strat)\n",
    "print(\"Causal Estimate is \" + str(causal_estimate_strat.value))"
   ]
  },
  {
   "cell_type": "markdown",
   "id": "15a20d5a",
   "metadata": {},
   "source": [
    "### Textual Interpreter\n",
    "\n",
    "The textual Interpreter describes (in words) the effect of unit change in the treatment variable on the outcome variable."
   ]
  },
  {
   "cell_type": "code",
   "execution_count": 9,
   "id": "5a30f707",
   "metadata": {
    "execution": {
     "iopub.execute_input": "2022-07-28T08:39:57.108817Z",
     "iopub.status.busy": "2022-07-28T08:39:57.108047Z",
     "iopub.status.idle": "2022-07-28T08:39:57.141158Z",
     "shell.execute_reply": "2022-07-28T08:39:57.140253Z"
    }
   },
   "outputs": [
    {
     "name": "stdout",
     "output_type": "stream",
     "text": [
      "Increasing the treatment variable(s) [v0] from 0 to 1 causes an increase of 0.9976338331920906 in the expected value of the outcome [y], over the data distribution/population represented by the dataset.\n"
     ]
    }
   ],
   "source": [
    "# Textual Interpreter\n",
    "interpretation = causal_estimate_strat.interpret(method_name=\"textual_effect_interpreter\")"
   ]
  },
  {
   "cell_type": "markdown",
   "id": "9be30f31",
   "metadata": {},
   "source": [
    "### Visual Interpreter\n",
    "\n",
    "The visual interpreter plots the change in the standardized mean difference (SMD) before and after Propensity Score based adjustment of the dataset. The formula for SMD is given below.\n",
    "\n",
    "\n",
    "$SMD = \\frac{\\bar X_{1} - \\bar X_{2}}{\\sqrt{(S_{1}^{2} + S_{2}^{2})/2}}$\n",
    "\n",
    "Here, $\\bar X_{1}$ and $\\bar X_{2}$ are the sample mean for the treated and control groups.\n"
   ]
  },
  {
   "cell_type": "code",
   "execution_count": 10,
   "id": "58724f67",
   "metadata": {
    "execution": {
     "iopub.execute_input": "2022-07-28T08:39:57.145832Z",
     "iopub.status.busy": "2022-07-28T08:39:57.144841Z",
     "iopub.status.idle": "2022-07-28T08:39:58.772835Z",
     "shell.execute_reply": "2022-07-28T08:39:58.771983Z"
    }
   },
   "outputs": [
    {
     "data": {
      "image/png": "[encoded data removed]",
      "text/plain": [
       "<Figure size 432x288 with 1 Axes>"
      ]
     },
     "metadata": {
      "needs_background": "light"
     },
     "output_type": "display_data"
    }
   ],
   "source": [
    "# Visual Interpreter\n",
    "interpretation = causal_estimate_strat.interpret(method_name=\"propensity_balance_interpreter\")"
   ]
  },
  {
   "cell_type": "markdown",
   "id": "1e18e735",
   "metadata": {},
   "source": [
    "This plot shows how the SMD decreases from the unadjusted to the stratified units. "
   ]
  },
  {
   "cell_type": "markdown",
   "id": "7dbb6b3d",
   "metadata": {},
   "source": [
    "## Method 2: Propensity Score Matching\n",
    "\n",
    "We will be using propensity scores to match units in the data."
   ]
  },
  {
   "cell_type": "code",
   "execution_count": 11,
   "id": "0efa0d07",
   "metadata": {
    "execution": {
     "iopub.execute_input": "2022-07-28T08:39:58.777767Z",
     "iopub.status.busy": "2022-07-28T08:39:58.777051Z",
     "iopub.status.idle": "2022-07-28T08:40:04.264520Z",
     "shell.execute_reply": "2022-07-28T08:40:04.263275Z"
    }
   },
   "outputs": [
    {
     "name": "stdout",
     "output_type": "stream",
     "text": [
      "propensity_score_matching\n"
     ]
    },
    {
     "name": "stderr",
     "output_type": "stream",
     "text": [
      "/usr/local/lib/python3.8/dist-packages/sklearn/utils/validation.py:993: DataConversionWarning: A column-vector y was passed when a 1d array was expected. Please change the shape of y to (n_samples, ), for example using ravel().\n",
      "  y = column_or_1d(y, warn=True)\n"
     ]
    },
    {
     "name": "stdout",
     "output_type": "stream",
     "text": [
      "*** Causal Estimate ***\n",
      "\n",
      "## Identified estimand\n",
      "Estimand type: nonparametric-ate\n",
      "\n",
      "### Estimand : 1\n",
      "Estimand name: backdoor\n",
      "Estimand expression:\n",
      "  d                       \n",
      "─────(E[y|W1,W4,W2,W3,W0])\n",
      "d[v₀]                     \n",
      "Estimand assumption 1, Unconfoundedness: If U→{v0} and U→y then P(y|v0,W1,W4,W2,W3,W0,U) = P(y|v0,W1,W4,W2,W3,W0)\n",
      "\n",
      "## Realized estimand\n",
      "b: y~v0+W1+W4+W2+W3+W0\n",
      "Target units: atc\n",
      "\n",
      "## Estimate\n",
      "Mean value: 0.9913818376805574\n",
      "\n",
      "Causal Estimate is 0.9913818376805574\n"
     ]
    }
   ],
   "source": [
    "causal_estimate_match = model.estimate_effect(identified_estimand,\n",
    "                                              method_name=\"backdoor.propensity_score_matching\",\n",
    "                                              target_units=\"atc\")\n",
    "print(causal_estimate_match)\n",
    "print(\"Causal Estimate is \" + str(causal_estimate_match.value))"
   ]
  },
  {
   "cell_type": "code",
   "execution_count": 12,
   "id": "17b09f40",
   "metadata": {
    "execution": {
     "iopub.execute_input": "2022-07-28T08:40:04.269964Z",
     "iopub.status.busy": "2022-07-28T08:40:04.268390Z",
     "iopub.status.idle": "2022-07-28T08:40:04.301194Z",
     "shell.execute_reply": "2022-07-28T08:40:04.300250Z"
    }
   },
   "outputs": [
    {
     "name": "stdout",
     "output_type": "stream",
     "text": [
      "Increasing the treatment variable(s) [v0] from 0 to 1 causes an increase of 0.9913818376805574 in the expected value of the outcome [y], over the data distribution/population represented by the dataset.\n"
     ]
    }
   ],
   "source": [
    "# Textual Interpreter\n",
    "interpretation = causal_estimate_match.interpret(method_name=\"textual_effect_interpreter\")"
   ]
  },
  {
   "cell_type": "markdown",
   "id": "7fbe5a6b",
   "metadata": {},
   "source": [
    "Cannot use propensity balance interpretor here since the interpreter method only supports propensity score stratification estimator."
   ]
  },
  {
   "cell_type": "markdown",
   "id": "08445a83",
   "metadata": {},
   "source": [
    "## Method 3: Weighting\n",
    "\n",
    "We will be using (inverse) propensity scores to assign weights to units in the data. DoWhy supports a few different weighting schemes:\n",
    "1. Vanilla Inverse Propensity Score weighting (IPS) (weighting_scheme=\"ips_weight\")\n",
    "2. Self-normalized IPS weighting (also known as the Hajek estimator) (weighting_scheme=\"ips_normalized_weight\")\n",
    "3. Stabilized IPS weighting (weighting_scheme = \"ips_stabilized_weight\")"
   ]
  },
  {
   "cell_type": "code",
   "execution_count": 13,
   "id": "76d444f0",
   "metadata": {
    "execution": {
     "iopub.execute_input": "2022-07-28T08:40:04.305504Z",
     "iopub.status.busy": "2022-07-28T08:40:04.304917Z",
     "iopub.status.idle": "2022-07-28T08:40:04.385464Z",
     "shell.execute_reply": "2022-07-28T08:40:04.384571Z"
    }
   },
   "outputs": [
    {
     "name": "stdout",
     "output_type": "stream",
     "text": [
      "propensity_score_weighting\n",
      "*** Causal Estimate ***\n",
      "\n",
      "## Identified estimand\n",
      "Estimand type: nonparametric-ate\n",
      "\n",
      "### Estimand : 1\n",
      "Estimand name: backdoor\n",
      "Estimand expression:\n",
      "  d                       \n",
      "─────(E[y|W1,W4,W2,W3,W0])\n",
      "d[v₀]                     \n",
      "Estimand assumption 1, Unconfoundedness: If U→{v0} and U→y then P(y|v0,W1,W4,W2,W3,W0,U) = P(y|v0,W1,W4,W2,W3,W0)\n",
      "\n",
      "## Realized estimand\n",
      "b: y~v0+W1+W4+W2+W3+W0\n",
      "Target units: ate\n",
      "\n",
      "## Estimate\n",
      "Mean value: 1.0700026957721125\n",
      "\n",
      "Causal Estimate is 1.0700026957721125\n"
     ]
    },
    {
     "name": "stderr",
     "output_type": "stream",
     "text": [
      "/usr/local/lib/python3.8/dist-packages/sklearn/utils/validation.py:993: DataConversionWarning: A column-vector y was passed when a 1d array was expected. Please change the shape of y to (n_samples, ), for example using ravel().\n",
      "  y = column_or_1d(y, warn=True)\n"
     ]
    }
   ],
   "source": [
    "causal_estimate_ipw = model.estimate_effect(identified_estimand,\n",
    "                                            method_name=\"backdoor.propensity_score_weighting\",\n",
    "                                            target_units = \"ate\",\n",
    "                                            method_params={\"weighting_scheme\":\"ips_weight\"})\n",
    "print(causal_estimate_ipw)\n",
    "print(\"Causal Estimate is \" + str(causal_estimate_ipw.value))"
   ]
  },
  {
   "cell_type": "code",
   "execution_count": 14,
   "id": "dae05909",
   "metadata": {
    "execution": {
     "iopub.execute_input": "2022-07-28T08:40:04.389857Z",
     "iopub.status.busy": "2022-07-28T08:40:04.389316Z",
     "iopub.status.idle": "2022-07-28T08:40:04.421407Z",
     "shell.execute_reply": "2022-07-28T08:40:04.420547Z"
    }
   },
   "outputs": [
    {
     "name": "stdout",
     "output_type": "stream",
     "text": [
      "Increasing the treatment variable(s) [v0] from 0 to 1 causes an increase of 1.0700026957721125 in the expected value of the outcome [y], over the data distribution/population represented by the dataset.\n"
     ]
    }
   ],
   "source": [
    "# Textual Interpreter\n",
    "interpretation = causal_estimate_ipw.interpret(method_name=\"textual_effect_interpreter\")"
   ]
  },
  {
   "cell_type": "code",
   "execution_count": 15,
   "id": "8a6a8e72",
   "metadata": {
    "execution": {
     "iopub.execute_input": "2022-07-28T08:40:04.425433Z",
     "iopub.status.busy": "2022-07-28T08:40:04.424865Z",
     "iopub.status.idle": "2022-07-28T08:40:04.738656Z",
     "shell.execute_reply": "2022-07-28T08:40:04.737972Z"
    }
   },
   "outputs": [
    {
     "data": {
      "image/png": "[encoded data removed]",
      "text/plain": [
       "<Figure size 576x576 with 2 Axes>"
      ]
     },
     "metadata": {
      "needs_background": "light"
     },
     "output_type": "display_data"
    }
   ],
   "source": [
    "interpretation = causal_estimate_ipw.interpret(method_name=\"confounder_distribution_interpreter\", fig_size=(8,8), font_size=12, var_name='W4', var_type='discrete')"
   ]
  },
  {
   "cell_type": "code",
   "execution_count": null,
   "id": "9e553073",
   "metadata": {},
   "outputs": [],
   "source": []
  }
 ],
 "metadata": {
  "kernelspec": {
   "display_name": "Python 3",
   "language": "python",
   "name": "python3"
  },
  "language_info": {
   "codemirror_mode": {
    "name": "ipython",
    "version": 3
   },
   "file_extension": ".py",
   "mimetype": "text/x-python",
   "name": "python",
   "nbconvert_exporter": "python",
   "pygments_lexer": "ipython3",
   "version": "3.8.10"
  },
  "toc": {
   "base_numbering": 1,
   "nav_menu": {},
   "number_sections": false,
   "sideBar": true,
   "skip_h1_title": true,
   "title_cell": "Table of Contents",
   "title_sidebar": "Contents",
   "toc_cell": false,
   "toc_position": {},
   "toc_section_display": true,
   "toc_window_display": false
  }
 },
 "nbformat": 4,
 "nbformat_minor": 5
}
