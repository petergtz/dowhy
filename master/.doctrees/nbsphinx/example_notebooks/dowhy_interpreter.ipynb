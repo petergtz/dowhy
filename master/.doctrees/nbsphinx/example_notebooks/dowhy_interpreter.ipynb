{
 "cells": [
  {
   "cell_type": "markdown",
   "id": "57eaa711",
   "metadata": {},
   "source": [
    "# DoWhy: Interpreters for Causal Estimators\n",
    "\n",
    "This is a quick introduction to the use of interpreters in the DoWhy causal inference library.\n",
    "We will load in a sample dataset, use different methods for estimating the causal effect of a (pre-specified)treatment variable on a (pre-specified) outcome variable and demonstrate how to interpret the obtained results.\n",
    "\n",
    "First, let us add the required path for Python to find the DoWhy code and load all required packages"
   ]
  },
  {
   "cell_type": "code",
   "execution_count": 1,
   "id": "9c82d9d1",
   "metadata": {
    "execution": {
     "iopub.execute_input": "2022-07-20T14:59:54.130424Z",
     "iopub.status.busy": "2022-07-20T14:59:54.130058Z",
     "iopub.status.idle": "2022-07-20T14:59:54.148002Z",
     "shell.execute_reply": "2022-07-20T14:59:54.147279Z"
    }
   },
   "outputs": [],
   "source": [
    "%load_ext autoreload\n",
    "%autoreload 2"
   ]
  },
  {
   "cell_type": "code",
   "execution_count": 2,
   "id": "892578cd",
   "metadata": {
    "execution": {
     "iopub.execute_input": "2022-07-20T14:59:54.152719Z",
     "iopub.status.busy": "2022-07-20T14:59:54.152430Z",
     "iopub.status.idle": "2022-07-20T14:59:55.314356Z",
     "shell.execute_reply": "2022-07-20T14:59:55.313503Z"
    }
   },
   "outputs": [
    {
     "name": "stdout",
     "output_type": "stream",
     "text": [
      "keywords are unexpanded, not using\n"
     ]
    }
   ],
   "source": [
    "import numpy as np\n",
    "import pandas as pd\n",
    "import logging\n",
    "\n",
    "import dowhy\n",
    "from dowhy import CausalModel\n",
    "import dowhy.datasets "
   ]
  },
  {
   "cell_type": "markdown",
   "id": "5344b629",
   "metadata": {},
   "source": [
    "Now, let us load a dataset. For simplicity, we simulate a dataset with linear relationships between common causes and treatment, and common causes and outcome.\n",
    "\n",
    "Beta is the true causal effect."
   ]
  },
  {
   "cell_type": "code",
   "execution_count": 3,
   "id": "20701736",
   "metadata": {
    "execution": {
     "iopub.execute_input": "2022-07-20T14:59:55.319682Z",
     "iopub.status.busy": "2022-07-20T14:59:55.319006Z",
     "iopub.status.idle": "2022-07-20T14:59:55.700786Z",
     "shell.execute_reply": "2022-07-20T14:59:55.699918Z"
    }
   },
   "outputs": [
    {
     "name": "stdout",
     "output_type": "stream",
     "text": [
      "8237\n"
     ]
    },
    {
     "data": {
      "text/html": [
       "<div>\n",
       "<style scoped>\n",
       "    .dataframe tbody tr th:only-of-type {\n",
       "        vertical-align: middle;\n",
       "    }\n",
       "\n",
       "    .dataframe tbody tr th {\n",
       "        vertical-align: top;\n",
       "    }\n",
       "\n",
       "    .dataframe thead th {\n",
       "        text-align: right;\n",
       "    }\n",
       "</style>\n",
       "<table border=\"1\" class=\"dataframe\">\n",
       "  <thead>\n",
       "    <tr style=\"text-align: right;\">\n",
       "      <th></th>\n",
       "      <th>Z0</th>\n",
       "      <th>Z1</th>\n",
       "      <th>W0</th>\n",
       "      <th>W1</th>\n",
       "      <th>W2</th>\n",
       "      <th>W3</th>\n",
       "      <th>W4</th>\n",
       "      <th>v0</th>\n",
       "      <th>y</th>\n",
       "    </tr>\n",
       "  </thead>\n",
       "  <tbody>\n",
       "    <tr>\n",
       "      <th>0</th>\n",
       "      <td>0.0</td>\n",
       "      <td>0.391004</td>\n",
       "      <td>-1.456993</td>\n",
       "      <td>0.490738</td>\n",
       "      <td>-0.220154</td>\n",
       "      <td>1.859967</td>\n",
       "      <td>2</td>\n",
       "      <td>True</td>\n",
       "      <td>3.427554</td>\n",
       "    </tr>\n",
       "    <tr>\n",
       "      <th>1</th>\n",
       "      <td>0.0</td>\n",
       "      <td>0.917626</td>\n",
       "      <td>-0.402301</td>\n",
       "      <td>0.705824</td>\n",
       "      <td>-0.675136</td>\n",
       "      <td>-0.803984</td>\n",
       "      <td>3</td>\n",
       "      <td>True</td>\n",
       "      <td>2.629498</td>\n",
       "    </tr>\n",
       "    <tr>\n",
       "      <th>2</th>\n",
       "      <td>0.0</td>\n",
       "      <td>0.241009</td>\n",
       "      <td>-0.718154</td>\n",
       "      <td>-1.191779</td>\n",
       "      <td>0.292909</td>\n",
       "      <td>-0.564882</td>\n",
       "      <td>0</td>\n",
       "      <td>True</td>\n",
       "      <td>-1.046828</td>\n",
       "    </tr>\n",
       "    <tr>\n",
       "      <th>3</th>\n",
       "      <td>1.0</td>\n",
       "      <td>0.284973</td>\n",
       "      <td>0.124198</td>\n",
       "      <td>-0.209796</td>\n",
       "      <td>-0.704974</td>\n",
       "      <td>1.828057</td>\n",
       "      <td>0</td>\n",
       "      <td>True</td>\n",
       "      <td>2.188082</td>\n",
       "    </tr>\n",
       "    <tr>\n",
       "      <th>4</th>\n",
       "      <td>0.0</td>\n",
       "      <td>0.237815</td>\n",
       "      <td>0.539162</td>\n",
       "      <td>2.167786</td>\n",
       "      <td>1.586552</td>\n",
       "      <td>1.031681</td>\n",
       "      <td>3</td>\n",
       "      <td>True</td>\n",
       "      <td>7.692043</td>\n",
       "    </tr>\n",
       "    <tr>\n",
       "      <th>...</th>\n",
       "      <td>...</td>\n",
       "      <td>...</td>\n",
       "      <td>...</td>\n",
       "      <td>...</td>\n",
       "      <td>...</td>\n",
       "      <td>...</td>\n",
       "      <td>...</td>\n",
       "      <td>...</td>\n",
       "      <td>...</td>\n",
       "    </tr>\n",
       "    <tr>\n",
       "      <th>9995</th>\n",
       "      <td>0.0</td>\n",
       "      <td>0.147019</td>\n",
       "      <td>-1.438780</td>\n",
       "      <td>0.280972</td>\n",
       "      <td>0.497178</td>\n",
       "      <td>0.072969</td>\n",
       "      <td>1</td>\n",
       "      <td>True</td>\n",
       "      <td>1.199923</td>\n",
       "    </tr>\n",
       "    <tr>\n",
       "      <th>9996</th>\n",
       "      <td>0.0</td>\n",
       "      <td>0.108257</td>\n",
       "      <td>-1.131634</td>\n",
       "      <td>0.319378</td>\n",
       "      <td>-1.431695</td>\n",
       "      <td>1.341991</td>\n",
       "      <td>2</td>\n",
       "      <td>True</td>\n",
       "      <td>2.391104</td>\n",
       "    </tr>\n",
       "    <tr>\n",
       "      <th>9997</th>\n",
       "      <td>0.0</td>\n",
       "      <td>0.979612</td>\n",
       "      <td>0.509718</td>\n",
       "      <td>-0.357924</td>\n",
       "      <td>1.399212</td>\n",
       "      <td>1.672505</td>\n",
       "      <td>3</td>\n",
       "      <td>True</td>\n",
       "      <td>5.825316</td>\n",
       "    </tr>\n",
       "    <tr>\n",
       "      <th>9998</th>\n",
       "      <td>0.0</td>\n",
       "      <td>0.823377</td>\n",
       "      <td>-0.059785</td>\n",
       "      <td>0.226296</td>\n",
       "      <td>-1.471126</td>\n",
       "      <td>0.505630</td>\n",
       "      <td>3</td>\n",
       "      <td>True</td>\n",
       "      <td>3.221335</td>\n",
       "    </tr>\n",
       "    <tr>\n",
       "      <th>9999</th>\n",
       "      <td>0.0</td>\n",
       "      <td>0.980342</td>\n",
       "      <td>-1.074826</td>\n",
       "      <td>0.605130</td>\n",
       "      <td>-0.931704</td>\n",
       "      <td>0.405222</td>\n",
       "      <td>0</td>\n",
       "      <td>True</td>\n",
       "      <td>0.492587</td>\n",
       "    </tr>\n",
       "  </tbody>\n",
       "</table>\n",
       "<p>10000 rows × 9 columns</p>\n",
       "</div>"
      ],
      "text/plain": [
       "       Z0        Z1        W0        W1        W2        W3 W4    v0         y\n",
       "0     0.0  0.391004 -1.456993  0.490738 -0.220154  1.859967  2  True  3.427554\n",
       "1     0.0  0.917626 -0.402301  0.705824 -0.675136 -0.803984  3  True  2.629498\n",
       "2     0.0  0.241009 -0.718154 -1.191779  0.292909 -0.564882  0  True -1.046828\n",
       "3     1.0  0.284973  0.124198 -0.209796 -0.704974  1.828057  0  True  2.188082\n",
       "4     0.0  0.237815  0.539162  2.167786  1.586552  1.031681  3  True  7.692043\n",
       "...   ...       ...       ...       ...       ...       ... ..   ...       ...\n",
       "9995  0.0  0.147019 -1.438780  0.280972  0.497178  0.072969  1  True  1.199923\n",
       "9996  0.0  0.108257 -1.131634  0.319378 -1.431695  1.341991  2  True  2.391104\n",
       "9997  0.0  0.979612  0.509718 -0.357924  1.399212  1.672505  3  True  5.825316\n",
       "9998  0.0  0.823377 -0.059785  0.226296 -1.471126  0.505630  3  True  3.221335\n",
       "9999  0.0  0.980342 -1.074826  0.605130 -0.931704  0.405222  0  True  0.492587\n",
       "\n",
       "[10000 rows x 9 columns]"
      ]
     },
     "execution_count": 3,
     "metadata": {},
     "output_type": "execute_result"
    }
   ],
   "source": [
    "data = dowhy.datasets.linear_dataset(beta=1,\n",
    "        num_common_causes=5, \n",
    "        num_instruments = 2,\n",
    "        num_treatments=1,\n",
    "        num_discrete_common_causes=1,\n",
    "        num_samples=10000,\n",
    "        treatment_is_binary=True,\n",
    "        outcome_is_binary=False)\n",
    "df = data[\"df\"]\n",
    "print(df[df.v0==True].shape[0])\n",
    "df"
   ]
  },
  {
   "cell_type": "markdown",
   "id": "a43c8525",
   "metadata": {},
   "source": [
    "Note that we are using a pandas dataframe to load the data."
   ]
  },
  {
   "cell_type": "markdown",
   "id": "ee8ac14d",
   "metadata": {},
   "source": [
    "## Identifying the causal estimand"
   ]
  },
  {
   "cell_type": "markdown",
   "id": "4486def0",
   "metadata": {},
   "source": [
    "We now input a causal graph in the GML graph format."
   ]
  },
  {
   "cell_type": "code",
   "execution_count": 4,
   "id": "e14b3da0",
   "metadata": {
    "execution": {
     "iopub.execute_input": "2022-07-20T14:59:55.704746Z",
     "iopub.status.busy": "2022-07-20T14:59:55.704207Z",
     "iopub.status.idle": "2022-07-20T14:59:55.745718Z",
     "shell.execute_reply": "2022-07-20T14:59:55.744746Z"
    }
   },
   "outputs": [],
   "source": [
    "# With graph\n",
    "model=CausalModel(\n",
    "        data = df,\n",
    "        treatment=data[\"treatment_name\"],\n",
    "        outcome=data[\"outcome_name\"],\n",
    "        graph=data[\"gml_graph\"],\n",
    "        instruments=data[\"instrument_names\"]\n",
    "        )"
   ]
  },
  {
   "cell_type": "code",
   "execution_count": 5,
   "id": "d084c23f",
   "metadata": {
    "execution": {
     "iopub.execute_input": "2022-07-20T14:59:55.750074Z",
     "iopub.status.busy": "2022-07-20T14:59:55.749402Z",
     "iopub.status.idle": "2022-07-20T14:59:55.818352Z",
     "shell.execute_reply": "2022-07-20T14:59:55.817396Z"
    }
   },
   "outputs": [],
   "source": [
    "model.view_model()"
   ]
  },
  {
   "cell_type": "code",
   "execution_count": 6,
   "id": "65ad1f60",
   "metadata": {
    "execution": {
     "iopub.execute_input": "2022-07-20T14:59:55.824510Z",
     "iopub.status.busy": "2022-07-20T14:59:55.823096Z",
     "iopub.status.idle": "2022-07-20T14:59:55.850078Z",
     "shell.execute_reply": "2022-07-20T14:59:55.849258Z"
    }
   },
   "outputs": [
    {
     "data": {
      "image/png": "[encoded data removed]",
      "text/plain": [
       "<IPython.core.display.Image object>"
      ]
     },
     "metadata": {},
     "output_type": "display_data"
    }
   ],
   "source": [
    "from IPython.display import Image, display\n",
    "display(Image(filename=\"causal_model.png\"))"
   ]
  },
  {
   "cell_type": "markdown",
   "id": "e8c3ac3f",
   "metadata": {},
   "source": [
    "We get a causal graph. Now identification and estimation is done."
   ]
  },
  {
   "cell_type": "code",
   "execution_count": 7,
   "id": "03d8b77f",
   "metadata": {
    "execution": {
     "iopub.execute_input": "2022-07-20T14:59:55.853613Z",
     "iopub.status.busy": "2022-07-20T14:59:55.853147Z",
     "iopub.status.idle": "2022-07-20T14:59:56.077205Z",
     "shell.execute_reply": "2022-07-20T14:59:56.076323Z"
    }
   },
   "outputs": [
    {
     "name": "stdout",
     "output_type": "stream",
     "text": [
      "Estimand type: nonparametric-ate\n",
      "\n",
      "### Estimand : 1\n",
      "Estimand name: backdoor\n",
      "Estimand expression:\n",
      "  d                       \n",
      "─────(E[y|W1,W4,W3,W2,W0])\n",
      "d[v₀]                     \n",
      "Estimand assumption 1, Unconfoundedness: If U→{v0} and U→y then P(y|v0,W1,W4,W3,W2,W0,U) = P(y|v0,W1,W4,W3,W2,W0)\n",
      "\n",
      "### Estimand : 2\n",
      "Estimand name: iv\n",
      "Estimand expression:\n",
      " ⎡                              -1⎤\n",
      " ⎢    d        ⎛    d          ⎞  ⎥\n",
      "E⎢─────────(y)⋅⎜─────────([v₀])⎟  ⎥\n",
      " ⎣d[Z₁  Z₀]    ⎝d[Z₁  Z₀]      ⎠  ⎦\n",
      "Estimand assumption 1, As-if-random: If U→→y then ¬(U →→{Z1,Z0})\n",
      "Estimand assumption 2, Exclusion: If we remove {Z1,Z0}→{v0}, then ¬({Z1,Z0}→y)\n",
      "\n",
      "### Estimand : 3\n",
      "Estimand name: frontdoor\n",
      "No such variable(s) found!\n",
      "\n"
     ]
    }
   ],
   "source": [
    "identified_estimand = model.identify_effect(proceed_when_unidentifiable=True)\n",
    "print(identified_estimand)"
   ]
  },
  {
   "cell_type": "markdown",
   "id": "c7875050",
   "metadata": {},
   "source": [
    "## Method 1: Propensity Score Stratification\n",
    "\n",
    "We will be using propensity scores to stratify units in the data."
   ]
  },
  {
   "cell_type": "code",
   "execution_count": 8,
   "id": "cfdd5eec",
   "metadata": {
    "execution": {
     "iopub.execute_input": "2022-07-20T14:59:56.080573Z",
     "iopub.status.busy": "2022-07-20T14:59:56.080257Z",
     "iopub.status.idle": "2022-07-20T14:59:56.960232Z",
     "shell.execute_reply": "2022-07-20T14:59:56.959255Z"
    }
   },
   "outputs": [
    {
     "name": "stdout",
     "output_type": "stream",
     "text": [
      "propensity_score_stratification\n"
     ]
    },
    {
     "name": "stderr",
     "output_type": "stream",
     "text": [
      "/usr/local/lib/python3.8/dist-packages/sklearn/utils/validation.py:993: DataConversionWarning: A column-vector y was passed when a 1d array was expected. Please change the shape of y to (n_samples, ), for example using ravel().\n",
      "  y = column_or_1d(y, warn=True)\n"
     ]
    },
    {
     "name": "stdout",
     "output_type": "stream",
     "text": [
      "*** Causal Estimate ***\n",
      "\n",
      "## Identified estimand\n",
      "Estimand type: nonparametric-ate\n",
      "\n",
      "### Estimand : 1\n",
      "Estimand name: backdoor\n",
      "Estimand expression:\n",
      "  d                       \n",
      "─────(E[y|W1,W4,W3,W2,W0])\n",
      "d[v₀]                     \n",
      "Estimand assumption 1, Unconfoundedness: If U→{v0} and U→y then P(y|v0,W1,W4,W3,W2,W0,U) = P(y|v0,W1,W4,W3,W2,W0)\n",
      "\n",
      "## Realized estimand\n",
      "b: y~v0+W1+W4+W3+W2+W0\n",
      "Target units: att\n",
      "\n",
      "## Estimate\n",
      "Mean value: 1.0312177980736665\n",
      "\n",
      "Causal Estimate is 1.0312177980736665\n"
     ]
    }
   ],
   "source": [
    "causal_estimate_strat = model.estimate_effect(identified_estimand,\n",
    "                                              method_name=\"backdoor.propensity_score_stratification\",\n",
    "                                              target_units=\"att\")\n",
    "print(causal_estimate_strat)\n",
    "print(\"Causal Estimate is \" + str(causal_estimate_strat.value))"
   ]
  },
  {
   "cell_type": "markdown",
   "id": "457bc81e",
   "metadata": {},
   "source": [
    "### Textual Interpreter\n",
    "\n",
    "The textual Interpreter describes (in words) the effect of unit change in the treatment variable on the outcome variable."
   ]
  },
  {
   "cell_type": "code",
   "execution_count": 9,
   "id": "c5fb5f2d",
   "metadata": {
    "execution": {
     "iopub.execute_input": "2022-07-20T14:59:56.963768Z",
     "iopub.status.busy": "2022-07-20T14:59:56.963519Z",
     "iopub.status.idle": "2022-07-20T14:59:56.990894Z",
     "shell.execute_reply": "2022-07-20T14:59:56.990172Z"
    }
   },
   "outputs": [
    {
     "name": "stdout",
     "output_type": "stream",
     "text": [
      "Increasing the treatment variable(s) [v0] from 0 to 1 causes an increase of 1.0312177980736665 in the expected value of the outcome [y], over the data distribution/population represented by the dataset.\n"
     ]
    }
   ],
   "source": [
    "# Textual Interpreter\n",
    "interpretation = causal_estimate_strat.interpret(method_name=\"textual_effect_interpreter\")"
   ]
  },
  {
   "cell_type": "markdown",
   "id": "447bac34",
   "metadata": {},
   "source": [
    "### Visual Interpreter\n",
    "\n",
    "The visual interpreter plots the change in the standardized mean difference (SMD) before and after Propensity Score based adjustment of the dataset. The formula for SMD is given below.\n",
    "\n",
    "\n",
    "$SMD = \\frac{\\bar X_{1} - \\bar X_{2}}{\\sqrt{(S_{1}^{2} + S_{2}^{2})/2}}$\n",
    "\n",
    "Here, $\\bar X_{1}$ and $\\bar X_{2}$ are the sample mean for the treated and control groups.\n"
   ]
  },
  {
   "cell_type": "code",
   "execution_count": 10,
   "id": "07806128",
   "metadata": {
    "execution": {
     "iopub.execute_input": "2022-07-20T14:59:56.994165Z",
     "iopub.status.busy": "2022-07-20T14:59:56.993906Z",
     "iopub.status.idle": "2022-07-20T14:59:58.131349Z",
     "shell.execute_reply": "2022-07-20T14:59:58.130616Z"
    }
   },
   "outputs": [
    {
     "data": {
      "image/png": "[encoded data removed]",
      "text/plain": [
       "<Figure size 432x288 with 1 Axes>"
      ]
     },
     "metadata": {
      "needs_background": "light"
     },
     "output_type": "display_data"
    }
   ],
   "source": [
    "# Visual Interpreter\n",
    "interpretation = causal_estimate_strat.interpret(method_name=\"propensity_balance_interpreter\")"
   ]
  },
  {
   "cell_type": "markdown",
   "id": "bf19e8d7",
   "metadata": {},
   "source": [
    "This plot shows how the SMD decreases from the unadjusted to the stratified units. "
   ]
  },
  {
   "cell_type": "markdown",
   "id": "eb6f3148",
   "metadata": {},
   "source": [
    "## Method 2: Propensity Score Matching\n",
    "\n",
    "We will be using propensity scores to match units in the data."
   ]
  },
  {
   "cell_type": "code",
   "execution_count": 11,
   "id": "aede9d45",
   "metadata": {
    "execution": {
     "iopub.execute_input": "2022-07-20T14:59:58.135165Z",
     "iopub.status.busy": "2022-07-20T14:59:58.134707Z",
     "iopub.status.idle": "2022-07-20T15:00:02.493841Z",
     "shell.execute_reply": "2022-07-20T15:00:02.493040Z"
    }
   },
   "outputs": [
    {
     "name": "stdout",
     "output_type": "stream",
     "text": [
      "propensity_score_matching\n"
     ]
    },
    {
     "name": "stderr",
     "output_type": "stream",
     "text": [
      "/usr/local/lib/python3.8/dist-packages/sklearn/utils/validation.py:993: DataConversionWarning: A column-vector y was passed when a 1d array was expected. Please change the shape of y to (n_samples, ), for example using ravel().\n",
      "  y = column_or_1d(y, warn=True)\n"
     ]
    },
    {
     "name": "stdout",
     "output_type": "stream",
     "text": [
      "*** Causal Estimate ***\n",
      "\n",
      "## Identified estimand\n",
      "Estimand type: nonparametric-ate\n",
      "\n",
      "### Estimand : 1\n",
      "Estimand name: backdoor\n",
      "Estimand expression:\n",
      "  d                       \n",
      "─────(E[y|W1,W4,W3,W2,W0])\n",
      "d[v₀]                     \n",
      "Estimand assumption 1, Unconfoundedness: If U→{v0} and U→y then P(y|v0,W1,W4,W3,W2,W0,U) = P(y|v0,W1,W4,W3,W2,W0)\n",
      "\n",
      "## Realized estimand\n",
      "b: y~v0+W1+W4+W3+W2+W0\n",
      "Target units: atc\n",
      "\n",
      "## Estimate\n",
      "Mean value: 1.002696183218861\n",
      "\n",
      "Causal Estimate is 1.002696183218861\n"
     ]
    }
   ],
   "source": [
    "causal_estimate_match = model.estimate_effect(identified_estimand,\n",
    "                                              method_name=\"backdoor.propensity_score_matching\",\n",
    "                                              target_units=\"atc\")\n",
    "print(causal_estimate_match)\n",
    "print(\"Causal Estimate is \" + str(causal_estimate_match.value))"
   ]
  },
  {
   "cell_type": "code",
   "execution_count": 12,
   "id": "1e9a0fbe",
   "metadata": {
    "execution": {
     "iopub.execute_input": "2022-07-20T15:00:02.497262Z",
     "iopub.status.busy": "2022-07-20T15:00:02.496845Z",
     "iopub.status.idle": "2022-07-20T15:00:02.531099Z",
     "shell.execute_reply": "2022-07-20T15:00:02.530144Z"
    }
   },
   "outputs": [
    {
     "name": "stdout",
     "output_type": "stream",
     "text": [
      "Increasing the treatment variable(s) [v0] from 0 to 1 causes an increase of 1.002696183218861 in the expected value of the outcome [y], over the data distribution/population represented by the dataset.\n"
     ]
    }
   ],
   "source": [
    "# Textual Interpreter\n",
    "interpretation = causal_estimate_match.interpret(method_name=\"textual_effect_interpreter\")"
   ]
  },
  {
   "cell_type": "markdown",
   "id": "b18f1b6f",
   "metadata": {},
   "source": [
    "Cannot use propensity balance interpretor here since the interpreter method only supports propensity score stratification estimator."
   ]
  },
  {
   "cell_type": "markdown",
   "id": "0b893361",
   "metadata": {},
   "source": [
    "## Method 3: Weighting\n",
    "\n",
    "We will be using (inverse) propensity scores to assign weights to units in the data. DoWhy supports a few different weighting schemes:\n",
    "1. Vanilla Inverse Propensity Score weighting (IPS) (weighting_scheme=\"ips_weight\")\n",
    "2. Self-normalized IPS weighting (also known as the Hajek estimator) (weighting_scheme=\"ips_normalized_weight\")\n",
    "3. Stabilized IPS weighting (weighting_scheme = \"ips_stabilized_weight\")"
   ]
  },
  {
   "cell_type": "code",
   "execution_count": 13,
   "id": "4a7a008b",
   "metadata": {
    "execution": {
     "iopub.execute_input": "2022-07-20T15:00:02.534580Z",
     "iopub.status.busy": "2022-07-20T15:00:02.534203Z",
     "iopub.status.idle": "2022-07-20T15:00:02.627992Z",
     "shell.execute_reply": "2022-07-20T15:00:02.627048Z"
    }
   },
   "outputs": [
    {
     "name": "stdout",
     "output_type": "stream",
     "text": [
      "propensity_score_weighting\n",
      "*** Causal Estimate ***\n",
      "\n",
      "## Identified estimand\n",
      "Estimand type: nonparametric-ate\n",
      "\n",
      "### Estimand : 1\n",
      "Estimand name: backdoor\n",
      "Estimand expression:\n",
      "  d                       \n",
      "─────(E[y|W1,W4,W3,W2,W0])\n",
      "d[v₀]                     \n",
      "Estimand assumption 1, Unconfoundedness: If U→{v0} and U→y then P(y|v0,W1,W4,W3,W2,W0,U) = P(y|v0,W1,W4,W3,W2,W0)\n",
      "\n",
      "## Realized estimand\n",
      "b: y~v0+W1+W4+W3+W2+W0\n",
      "Target units: ate\n",
      "\n",
      "## Estimate\n",
      "Mean value: 1.1678044868853725\n",
      "\n",
      "Causal Estimate is 1.1678044868853725\n"
     ]
    },
    {
     "name": "stderr",
     "output_type": "stream",
     "text": [
      "/usr/local/lib/python3.8/dist-packages/sklearn/utils/validation.py:993: DataConversionWarning: A column-vector y was passed when a 1d array was expected. Please change the shape of y to (n_samples, ), for example using ravel().\n",
      "  y = column_or_1d(y, warn=True)\n"
     ]
    }
   ],
   "source": [
    "causal_estimate_ipw = model.estimate_effect(identified_estimand,\n",
    "                                            method_name=\"backdoor.propensity_score_weighting\",\n",
    "                                            target_units = \"ate\",\n",
    "                                            method_params={\"weighting_scheme\":\"ips_weight\"})\n",
    "print(causal_estimate_ipw)\n",
    "print(\"Causal Estimate is \" + str(causal_estimate_ipw.value))"
   ]
  },
  {
   "cell_type": "code",
   "execution_count": 14,
   "id": "6cfb962e",
   "metadata": {
    "execution": {
     "iopub.execute_input": "2022-07-20T15:00:02.632229Z",
     "iopub.status.busy": "2022-07-20T15:00:02.631862Z",
     "iopub.status.idle": "2022-07-20T15:00:02.674521Z",
     "shell.execute_reply": "2022-07-20T15:00:02.673670Z"
    }
   },
   "outputs": [
    {
     "name": "stdout",
     "output_type": "stream",
     "text": [
      "Increasing the treatment variable(s) [v0] from 0 to 1 causes an increase of 1.1678044868853725 in the expected value of the outcome [y], over the data distribution/population represented by the dataset.\n"
     ]
    }
   ],
   "source": [
    "# Textual Interpreter\n",
    "interpretation = causal_estimate_ipw.interpret(method_name=\"textual_effect_interpreter\")"
   ]
  },
  {
   "cell_type": "code",
   "execution_count": 15,
   "id": "3588af4d",
   "metadata": {
    "execution": {
     "iopub.execute_input": "2022-07-20T15:00:02.678778Z",
     "iopub.status.busy": "2022-07-20T15:00:02.678248Z",
     "iopub.status.idle": "2022-07-20T15:00:02.994734Z",
     "shell.execute_reply": "2022-07-20T15:00:02.993986Z"
    }
   },
   "outputs": [
    {
     "data": {
      "image/png": "[encoded data removed]",
      "text/plain": [
       "<Figure size 576x576 with 2 Axes>"
      ]
     },
     "metadata": {
      "needs_background": "light"
     },
     "output_type": "display_data"
    }
   ],
   "source": [
    "interpretation = causal_estimate_ipw.interpret(method_name=\"confounder_distribution_interpreter\", fig_size=(8,8), font_size=12, var_name='W4', var_type='discrete')"
   ]
  },
  {
   "cell_type": "code",
   "execution_count": null,
   "id": "a3de6981",
   "metadata": {},
   "outputs": [],
   "source": []
  }
 ],
 "metadata": {
  "kernelspec": {
   "display_name": "Python 3",
   "language": "python",
   "name": "python3"
  },
  "language_info": {
   "codemirror_mode": {
    "name": "ipython",
    "version": 3
   },
   "file_extension": ".py",
   "mimetype": "text/x-python",
   "name": "python",
   "nbconvert_exporter": "python",
   "pygments_lexer": "ipython3",
   "version": "3.8.10"
  },
  "toc": {
   "base_numbering": 1,
   "nav_menu": {},
   "number_sections": false,
   "sideBar": true,
   "skip_h1_title": true,
   "title_cell": "Table of Contents",
   "title_sidebar": "Contents",
   "toc_cell": false,
   "toc_position": {},
   "toc_section_display": true,
   "toc_window_display": false
  }
 },
 "nbformat": 4,
 "nbformat_minor": 5
}
