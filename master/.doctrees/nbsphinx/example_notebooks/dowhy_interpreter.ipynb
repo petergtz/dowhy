{
 "cells": [
  {
   "cell_type": "markdown",
   "id": "c71d2786",
   "metadata": {},
   "source": [
    "# DoWhy: Interpreters for Causal Estimators\n",
    "\n",
    "This is a quick introduction to the use of interpreters in the DoWhy causal inference library.\n",
    "We will load in a sample dataset, use different methods for estimating the causal effect of a (pre-specified)treatment variable on a (pre-specified) outcome variable and demonstrate how to interpret the obtained results.\n",
    "\n",
    "First, let us add the required path for Python to find the DoWhy code and load all required packages"
   ]
  },
  {
   "cell_type": "code",
   "execution_count": 1,
   "id": "6781c4a1",
   "metadata": {
    "execution": {
     "iopub.execute_input": "2022-07-15T15:48:09.483574Z",
     "iopub.status.busy": "2022-07-15T15:48:09.483333Z",
     "iopub.status.idle": "2022-07-15T15:48:09.498505Z",
     "shell.execute_reply": "2022-07-15T15:48:09.497944Z"
    }
   },
   "outputs": [],
   "source": [
    "%load_ext autoreload\n",
    "%autoreload 2"
   ]
  },
  {
   "cell_type": "code",
   "execution_count": 2,
   "id": "fe443e30",
   "metadata": {
    "execution": {
     "iopub.execute_input": "2022-07-15T15:48:09.501151Z",
     "iopub.status.busy": "2022-07-15T15:48:09.500946Z",
     "iopub.status.idle": "2022-07-15T15:48:10.445917Z",
     "shell.execute_reply": "2022-07-15T15:48:10.445131Z"
    }
   },
   "outputs": [
    {
     "name": "stdout",
     "output_type": "stream",
     "text": [
      "keywords are unexpanded, not using\n"
     ]
    }
   ],
   "source": [
    "import numpy as np\n",
    "import pandas as pd\n",
    "import logging\n",
    "\n",
    "import dowhy\n",
    "from dowhy import CausalModel\n",
    "import dowhy.datasets "
   ]
  },
  {
   "cell_type": "markdown",
   "id": "3d7b7883",
   "metadata": {},
   "source": [
    "Now, let us load a dataset. For simplicity, we simulate a dataset with linear relationships between common causes and treatment, and common causes and outcome.\n",
    "\n",
    "Beta is the true causal effect."
   ]
  },
  {
   "cell_type": "code",
   "execution_count": 3,
   "id": "60727e3d",
   "metadata": {
    "execution": {
     "iopub.execute_input": "2022-07-15T15:48:10.449628Z",
     "iopub.status.busy": "2022-07-15T15:48:10.448810Z",
     "iopub.status.idle": "2022-07-15T15:48:10.739701Z",
     "shell.execute_reply": "2022-07-15T15:48:10.738869Z"
    }
   },
   "outputs": [
    {
     "name": "stdout",
     "output_type": "stream",
     "text": [
      "8268\n"
     ]
    },
    {
     "data": {
      "text/html": [
       "<div>\n",
       "<style scoped>\n",
       "    .dataframe tbody tr th:only-of-type {\n",
       "        vertical-align: middle;\n",
       "    }\n",
       "\n",
       "    .dataframe tbody tr th {\n",
       "        vertical-align: top;\n",
       "    }\n",
       "\n",
       "    .dataframe thead th {\n",
       "        text-align: right;\n",
       "    }\n",
       "</style>\n",
       "<table border=\"1\" class=\"dataframe\">\n",
       "  <thead>\n",
       "    <tr style=\"text-align: right;\">\n",
       "      <th></th>\n",
       "      <th>Z0</th>\n",
       "      <th>Z1</th>\n",
       "      <th>W0</th>\n",
       "      <th>W1</th>\n",
       "      <th>W2</th>\n",
       "      <th>W3</th>\n",
       "      <th>W4</th>\n",
       "      <th>v0</th>\n",
       "      <th>y</th>\n",
       "    </tr>\n",
       "  </thead>\n",
       "  <tbody>\n",
       "    <tr>\n",
       "      <th>0</th>\n",
       "      <td>0.0</td>\n",
       "      <td>0.784920</td>\n",
       "      <td>0.171548</td>\n",
       "      <td>1.023788</td>\n",
       "      <td>0.297271</td>\n",
       "      <td>-1.114145</td>\n",
       "      <td>3</td>\n",
       "      <td>True</td>\n",
       "      <td>3.841022</td>\n",
       "    </tr>\n",
       "    <tr>\n",
       "      <th>1</th>\n",
       "      <td>1.0</td>\n",
       "      <td>0.168513</td>\n",
       "      <td>-2.308964</td>\n",
       "      <td>1.566781</td>\n",
       "      <td>0.887798</td>\n",
       "      <td>-2.472703</td>\n",
       "      <td>2</td>\n",
       "      <td>True</td>\n",
       "      <td>1.931520</td>\n",
       "    </tr>\n",
       "    <tr>\n",
       "      <th>2</th>\n",
       "      <td>1.0</td>\n",
       "      <td>0.674770</td>\n",
       "      <td>-1.027829</td>\n",
       "      <td>1.243575</td>\n",
       "      <td>-1.286151</td>\n",
       "      <td>-0.222594</td>\n",
       "      <td>2</td>\n",
       "      <td>True</td>\n",
       "      <td>2.466186</td>\n",
       "    </tr>\n",
       "    <tr>\n",
       "      <th>3</th>\n",
       "      <td>0.0</td>\n",
       "      <td>0.714385</td>\n",
       "      <td>-1.146608</td>\n",
       "      <td>1.182022</td>\n",
       "      <td>-0.079228</td>\n",
       "      <td>0.559396</td>\n",
       "      <td>2</td>\n",
       "      <td>True</td>\n",
       "      <td>4.066089</td>\n",
       "    </tr>\n",
       "    <tr>\n",
       "      <th>4</th>\n",
       "      <td>1.0</td>\n",
       "      <td>0.866840</td>\n",
       "      <td>-1.667728</td>\n",
       "      <td>-1.242063</td>\n",
       "      <td>-0.064422</td>\n",
       "      <td>-1.523413</td>\n",
       "      <td>3</td>\n",
       "      <td>True</td>\n",
       "      <td>1.104183</td>\n",
       "    </tr>\n",
       "    <tr>\n",
       "      <th>...</th>\n",
       "      <td>...</td>\n",
       "      <td>...</td>\n",
       "      <td>...</td>\n",
       "      <td>...</td>\n",
       "      <td>...</td>\n",
       "      <td>...</td>\n",
       "      <td>...</td>\n",
       "      <td>...</td>\n",
       "      <td>...</td>\n",
       "    </tr>\n",
       "    <tr>\n",
       "      <th>9995</th>\n",
       "      <td>0.0</td>\n",
       "      <td>0.273348</td>\n",
       "      <td>0.767047</td>\n",
       "      <td>-0.459121</td>\n",
       "      <td>-0.019519</td>\n",
       "      <td>0.169951</td>\n",
       "      <td>3</td>\n",
       "      <td>True</td>\n",
       "      <td>3.825659</td>\n",
       "    </tr>\n",
       "    <tr>\n",
       "      <th>9996</th>\n",
       "      <td>1.0</td>\n",
       "      <td>0.021055</td>\n",
       "      <td>0.191067</td>\n",
       "      <td>1.144606</td>\n",
       "      <td>-2.034575</td>\n",
       "      <td>-0.163101</td>\n",
       "      <td>3</td>\n",
       "      <td>True</td>\n",
       "      <td>3.074411</td>\n",
       "    </tr>\n",
       "    <tr>\n",
       "      <th>9997</th>\n",
       "      <td>1.0</td>\n",
       "      <td>0.466274</td>\n",
       "      <td>-2.212299</td>\n",
       "      <td>0.706214</td>\n",
       "      <td>-0.372173</td>\n",
       "      <td>1.070605</td>\n",
       "      <td>1</td>\n",
       "      <td>True</td>\n",
       "      <td>2.791744</td>\n",
       "    </tr>\n",
       "    <tr>\n",
       "      <th>9998</th>\n",
       "      <td>0.0</td>\n",
       "      <td>0.169888</td>\n",
       "      <td>-2.097790</td>\n",
       "      <td>-1.155044</td>\n",
       "      <td>1.119381</td>\n",
       "      <td>-1.950711</td>\n",
       "      <td>2</td>\n",
       "      <td>False</td>\n",
       "      <td>-0.384027</td>\n",
       "    </tr>\n",
       "    <tr>\n",
       "      <th>9999</th>\n",
       "      <td>0.0</td>\n",
       "      <td>0.868822</td>\n",
       "      <td>-1.104527</td>\n",
       "      <td>-0.071132</td>\n",
       "      <td>0.557866</td>\n",
       "      <td>1.305696</td>\n",
       "      <td>3</td>\n",
       "      <td>True</td>\n",
       "      <td>5.294498</td>\n",
       "    </tr>\n",
       "  </tbody>\n",
       "</table>\n",
       "<p>10000 rows × 9 columns</p>\n",
       "</div>"
      ],
      "text/plain": [
       "       Z0        Z1        W0        W1        W2        W3 W4     v0  \\\n",
       "0     0.0  0.784920  0.171548  1.023788  0.297271 -1.114145  3   True   \n",
       "1     1.0  0.168513 -2.308964  1.566781  0.887798 -2.472703  2   True   \n",
       "2     1.0  0.674770 -1.027829  1.243575 -1.286151 -0.222594  2   True   \n",
       "3     0.0  0.714385 -1.146608  1.182022 -0.079228  0.559396  2   True   \n",
       "4     1.0  0.866840 -1.667728 -1.242063 -0.064422 -1.523413  3   True   \n",
       "...   ...       ...       ...       ...       ...       ... ..    ...   \n",
       "9995  0.0  0.273348  0.767047 -0.459121 -0.019519  0.169951  3   True   \n",
       "9996  1.0  0.021055  0.191067  1.144606 -2.034575 -0.163101  3   True   \n",
       "9997  1.0  0.466274 -2.212299  0.706214 -0.372173  1.070605  1   True   \n",
       "9998  0.0  0.169888 -2.097790 -1.155044  1.119381 -1.950711  2  False   \n",
       "9999  0.0  0.868822 -1.104527 -0.071132  0.557866  1.305696  3   True   \n",
       "\n",
       "             y  \n",
       "0     3.841022  \n",
       "1     1.931520  \n",
       "2     2.466186  \n",
       "3     4.066089  \n",
       "4     1.104183  \n",
       "...        ...  \n",
       "9995  3.825659  \n",
       "9996  3.074411  \n",
       "9997  2.791744  \n",
       "9998 -0.384027  \n",
       "9999  5.294498  \n",
       "\n",
       "[10000 rows x 9 columns]"
      ]
     },
     "execution_count": 3,
     "metadata": {},
     "output_type": "execute_result"
    }
   ],
   "source": [
    "data = dowhy.datasets.linear_dataset(beta=1,\n",
    "        num_common_causes=5, \n",
    "        num_instruments = 2,\n",
    "        num_treatments=1,\n",
    "        num_discrete_common_causes=1,\n",
    "        num_samples=10000,\n",
    "        treatment_is_binary=True,\n",
    "        outcome_is_binary=False)\n",
    "df = data[\"df\"]\n",
    "print(df[df.v0==True].shape[0])\n",
    "df"
   ]
  },
  {
   "cell_type": "markdown",
   "id": "c8d6c291",
   "metadata": {},
   "source": [
    "Note that we are using a pandas dataframe to load the data."
   ]
  },
  {
   "cell_type": "markdown",
   "id": "db7c8e2f",
   "metadata": {},
   "source": [
    "## Identifying the causal estimand"
   ]
  },
  {
   "cell_type": "markdown",
   "id": "3c96ce9d",
   "metadata": {},
   "source": [
    "We now input a causal graph in the GML graph format."
   ]
  },
  {
   "cell_type": "code",
   "execution_count": 4,
   "id": "55b36338",
   "metadata": {
    "execution": {
     "iopub.execute_input": "2022-07-15T15:48:10.742688Z",
     "iopub.status.busy": "2022-07-15T15:48:10.742457Z",
     "iopub.status.idle": "2022-07-15T15:48:10.765916Z",
     "shell.execute_reply": "2022-07-15T15:48:10.765384Z"
    }
   },
   "outputs": [],
   "source": [
    "# With graph\n",
    "model=CausalModel(\n",
    "        data = df,\n",
    "        treatment=data[\"treatment_name\"],\n",
    "        outcome=data[\"outcome_name\"],\n",
    "        graph=data[\"gml_graph\"],\n",
    "        instruments=data[\"instrument_names\"]\n",
    "        )"
   ]
  },
  {
   "cell_type": "code",
   "execution_count": 5,
   "id": "ea97af9c",
   "metadata": {
    "execution": {
     "iopub.execute_input": "2022-07-15T15:48:10.768988Z",
     "iopub.status.busy": "2022-07-15T15:48:10.768455Z",
     "iopub.status.idle": "2022-07-15T15:48:10.822073Z",
     "shell.execute_reply": "2022-07-15T15:48:10.821441Z"
    }
   },
   "outputs": [],
   "source": [
    "model.view_model()"
   ]
  },
  {
   "cell_type": "code",
   "execution_count": 6,
   "id": "1a2c7ff5",
   "metadata": {
    "execution": {
     "iopub.execute_input": "2022-07-15T15:48:10.825561Z",
     "iopub.status.busy": "2022-07-15T15:48:10.825012Z",
     "iopub.status.idle": "2022-07-15T15:48:10.848854Z",
     "shell.execute_reply": "2022-07-15T15:48:10.848280Z"
    }
   },
   "outputs": [
    {
     "data": {
      "image/png": "[encoded data removed]",
      "text/plain": [
       "<IPython.core.display.Image object>"
      ]
     },
     "metadata": {},
     "output_type": "display_data"
    }
   ],
   "source": [
    "from IPython.display import Image, display\n",
    "display(Image(filename=\"causal_model.png\"))"
   ]
  },
  {
   "cell_type": "markdown",
   "id": "d1d96744",
   "metadata": {},
   "source": [
    "We get a causal graph. Now identification and estimation is done."
   ]
  },
  {
   "cell_type": "code",
   "execution_count": 7,
   "id": "0b2c0dae",
   "metadata": {
    "execution": {
     "iopub.execute_input": "2022-07-15T15:48:10.851987Z",
     "iopub.status.busy": "2022-07-15T15:48:10.851523Z",
     "iopub.status.idle": "2022-07-15T15:48:11.067634Z",
     "shell.execute_reply": "2022-07-15T15:48:11.066995Z"
    }
   },
   "outputs": [
    {
     "name": "stdout",
     "output_type": "stream",
     "text": [
      "Estimand type: nonparametric-ate\n",
      "\n",
      "### Estimand : 1\n",
      "Estimand name: backdoor\n",
      "Estimand expression:\n",
      "  d                       \n",
      "─────(E[y|W1,W4,W0,W3,W2])\n",
      "d[v₀]                     \n",
      "Estimand assumption 1, Unconfoundedness: If U→{v0} and U→y then P(y|v0,W1,W4,W0,W3,W2,U) = P(y|v0,W1,W4,W0,W3,W2)\n",
      "\n",
      "### Estimand : 2\n",
      "Estimand name: iv\n",
      "Estimand expression:\n",
      " ⎡                              -1⎤\n",
      " ⎢    d        ⎛    d          ⎞  ⎥\n",
      "E⎢─────────(y)⋅⎜─────────([v₀])⎟  ⎥\n",
      " ⎣d[Z₁  Z₀]    ⎝d[Z₁  Z₀]      ⎠  ⎦\n",
      "Estimand assumption 1, As-if-random: If U→→y then ¬(U →→{Z1,Z0})\n",
      "Estimand assumption 2, Exclusion: If we remove {Z1,Z0}→{v0}, then ¬({Z1,Z0}→y)\n",
      "\n",
      "### Estimand : 3\n",
      "Estimand name: frontdoor\n",
      "No such variable(s) found!\n",
      "\n"
     ]
    }
   ],
   "source": [
    "identified_estimand = model.identify_effect(proceed_when_unidentifiable=True)\n",
    "print(identified_estimand)"
   ]
  },
  {
   "cell_type": "markdown",
   "id": "b3ab40ac",
   "metadata": {},
   "source": [
    "## Method 1: Propensity Score Stratification\n",
    "\n",
    "We will be using propensity scores to stratify units in the data."
   ]
  },
  {
   "cell_type": "code",
   "execution_count": 8,
   "id": "80b7318c",
   "metadata": {
    "execution": {
     "iopub.execute_input": "2022-07-15T15:48:11.070731Z",
     "iopub.status.busy": "2022-07-15T15:48:11.070307Z",
     "iopub.status.idle": "2022-07-15T15:48:11.686585Z",
     "shell.execute_reply": "2022-07-15T15:48:11.685950Z"
    }
   },
   "outputs": [
    {
     "name": "stdout",
     "output_type": "stream",
     "text": [
      "propensity_score_stratification\n"
     ]
    },
    {
     "name": "stderr",
     "output_type": "stream",
     "text": [
      "/usr/local/lib/python3.8/dist-packages/sklearn/utils/validation.py:993: DataConversionWarning: A column-vector y was passed when a 1d array was expected. Please change the shape of y to (n_samples, ), for example using ravel().\n",
      "  y = column_or_1d(y, warn=True)\n"
     ]
    },
    {
     "name": "stdout",
     "output_type": "stream",
     "text": [
      "*** Causal Estimate ***\n",
      "\n",
      "## Identified estimand\n",
      "Estimand type: nonparametric-ate\n",
      "\n",
      "### Estimand : 1\n",
      "Estimand name: backdoor\n",
      "Estimand expression:\n",
      "  d                       \n",
      "─────(E[y|W1,W4,W0,W3,W2])\n",
      "d[v₀]                     \n",
      "Estimand assumption 1, Unconfoundedness: If U→{v0} and U→y then P(y|v0,W1,W4,W0,W3,W2,U) = P(y|v0,W1,W4,W0,W3,W2)\n",
      "\n",
      "## Realized estimand\n",
      "b: y~v0+W1+W4+W0+W3+W2\n",
      "Target units: att\n",
      "\n",
      "## Estimate\n",
      "Mean value: 1.01365456699508\n",
      "\n",
      "Causal Estimate is 1.01365456699508\n"
     ]
    }
   ],
   "source": [
    "causal_estimate_strat = model.estimate_effect(identified_estimand,\n",
    "                                              method_name=\"backdoor.propensity_score_stratification\",\n",
    "                                              target_units=\"att\")\n",
    "print(causal_estimate_strat)\n",
    "print(\"Causal Estimate is \" + str(causal_estimate_strat.value))"
   ]
  },
  {
   "cell_type": "markdown",
   "id": "0866f427",
   "metadata": {},
   "source": [
    "### Textual Interpreter\n",
    "\n",
    "The textual Interpreter describes (in words) the effect of unit change in the treatment variable on the outcome variable."
   ]
  },
  {
   "cell_type": "code",
   "execution_count": 9,
   "id": "9f38b3bb",
   "metadata": {
    "execution": {
     "iopub.execute_input": "2022-07-15T15:48:11.689951Z",
     "iopub.status.busy": "2022-07-15T15:48:11.689470Z",
     "iopub.status.idle": "2022-07-15T15:48:11.714351Z",
     "shell.execute_reply": "2022-07-15T15:48:11.713745Z"
    }
   },
   "outputs": [
    {
     "name": "stdout",
     "output_type": "stream",
     "text": [
      "Increasing the treatment variable(s) [v0] from 0 to 1 causes an increase of 1.01365456699508 in the expected value of the outcome [y], over the data distribution/population represented by the dataset.\n"
     ]
    }
   ],
   "source": [
    "# Textual Interpreter\n",
    "interpretation = causal_estimate_strat.interpret(method_name=\"textual_effect_interpreter\")"
   ]
  },
  {
   "cell_type": "markdown",
   "id": "60dc2aff",
   "metadata": {},
   "source": [
    "### Visual Interpreter\n",
    "\n",
    "The visual interpreter plots the change in the standardized mean difference (SMD) before and after Propensity Score based adjustment of the dataset. The formula for SMD is given below.\n",
    "\n",
    "\n",
    "$SMD = \\frac{\\bar X_{1} - \\bar X_{2}}{\\sqrt{(S_{1}^{2} + S_{2}^{2})/2}}$\n",
    "\n",
    "Here, $\\bar X_{1}$ and $\\bar X_{2}$ are the sample mean for the treated and control groups.\n"
   ]
  },
  {
   "cell_type": "code",
   "execution_count": 10,
   "id": "f0b0fd1e",
   "metadata": {
    "execution": {
     "iopub.execute_input": "2022-07-15T15:48:11.717560Z",
     "iopub.status.busy": "2022-07-15T15:48:11.717179Z",
     "iopub.status.idle": "2022-07-15T15:48:12.903795Z",
     "shell.execute_reply": "2022-07-15T15:48:12.903200Z"
    }
   },
   "outputs": [
    {
     "data": {
      "image/png": "[encoded data removed]",
      "text/plain": [
       "<Figure size 432x288 with 1 Axes>"
      ]
     },
     "metadata": {
      "needs_background": "light"
     },
     "output_type": "display_data"
    }
   ],
   "source": [
    "# Visual Interpreter\n",
    "interpretation = causal_estimate_strat.interpret(method_name=\"propensity_balance_interpreter\")"
   ]
  },
  {
   "cell_type": "markdown",
   "id": "fe725f3b",
   "metadata": {},
   "source": [
    "This plot shows how the SMD decreases from the unadjusted to the stratified units. "
   ]
  },
  {
   "cell_type": "markdown",
   "id": "854fb776",
   "metadata": {},
   "source": [
    "## Method 2: Propensity Score Matching\n",
    "\n",
    "We will be using propensity scores to match units in the data."
   ]
  },
  {
   "cell_type": "code",
   "execution_count": 11,
   "id": "9dfce0aa",
   "metadata": {
    "execution": {
     "iopub.execute_input": "2022-07-15T15:48:12.922034Z",
     "iopub.status.busy": "2022-07-15T15:48:12.921469Z",
     "iopub.status.idle": "2022-07-15T15:48:16.491676Z",
     "shell.execute_reply": "2022-07-15T15:48:16.491044Z"
    }
   },
   "outputs": [
    {
     "name": "stdout",
     "output_type": "stream",
     "text": [
      "propensity_score_matching\n"
     ]
    },
    {
     "name": "stderr",
     "output_type": "stream",
     "text": [
      "/usr/local/lib/python3.8/dist-packages/sklearn/utils/validation.py:993: DataConversionWarning: A column-vector y was passed when a 1d array was expected. Please change the shape of y to (n_samples, ), for example using ravel().\n",
      "  y = column_or_1d(y, warn=True)\n"
     ]
    },
    {
     "name": "stdout",
     "output_type": "stream",
     "text": [
      "*** Causal Estimate ***\n",
      "\n",
      "## Identified estimand\n",
      "Estimand type: nonparametric-ate\n",
      "\n",
      "### Estimand : 1\n",
      "Estimand name: backdoor\n",
      "Estimand expression:\n",
      "  d                       \n",
      "─────(E[y|W1,W4,W0,W3,W2])\n",
      "d[v₀]                     \n",
      "Estimand assumption 1, Unconfoundedness: If U→{v0} and U→y then P(y|v0,W1,W4,W0,W3,W2,U) = P(y|v0,W1,W4,W0,W3,W2)\n",
      "\n",
      "## Realized estimand\n",
      "b: y~v0+W1+W4+W0+W3+W2\n",
      "Target units: atc\n",
      "\n",
      "## Estimate\n",
      "Mean value: 0.9511745559773003\n",
      "\n",
      "Causal Estimate is 0.9511745559773003\n"
     ]
    }
   ],
   "source": [
    "causal_estimate_match = model.estimate_effect(identified_estimand,\n",
    "                                              method_name=\"backdoor.propensity_score_matching\",\n",
    "                                              target_units=\"atc\")\n",
    "print(causal_estimate_match)\n",
    "print(\"Causal Estimate is \" + str(causal_estimate_match.value))"
   ]
  },
  {
   "cell_type": "code",
   "execution_count": 12,
   "id": "9768ff5f",
   "metadata": {
    "execution": {
     "iopub.execute_input": "2022-07-15T15:48:16.494594Z",
     "iopub.status.busy": "2022-07-15T15:48:16.494169Z",
     "iopub.status.idle": "2022-07-15T15:48:16.519383Z",
     "shell.execute_reply": "2022-07-15T15:48:16.518805Z"
    }
   },
   "outputs": [
    {
     "name": "stdout",
     "output_type": "stream",
     "text": [
      "Increasing the treatment variable(s) [v0] from 0 to 1 causes an increase of 0.9511745559773003 in the expected value of the outcome [y], over the data distribution/population represented by the dataset.\n"
     ]
    }
   ],
   "source": [
    "# Textual Interpreter\n",
    "interpretation = causal_estimate_match.interpret(method_name=\"textual_effect_interpreter\")"
   ]
  },
  {
   "cell_type": "markdown",
   "id": "f2473185",
   "metadata": {},
   "source": [
    "Cannot use propensity balance interpretor here since the interpreter method only supports propensity score stratification estimator."
   ]
  },
  {
   "cell_type": "markdown",
   "id": "ab008798",
   "metadata": {},
   "source": [
    "## Method 3: Weighting\n",
    "\n",
    "We will be using (inverse) propensity scores to assign weights to units in the data. DoWhy supports a few different weighting schemes:\n",
    "1. Vanilla Inverse Propensity Score weighting (IPS) (weighting_scheme=\"ips_weight\")\n",
    "2. Self-normalized IPS weighting (also known as the Hajek estimator) (weighting_scheme=\"ips_normalized_weight\")\n",
    "3. Stabilized IPS weighting (weighting_scheme = \"ips_stabilized_weight\")"
   ]
  },
  {
   "cell_type": "code",
   "execution_count": 13,
   "id": "f1eae9b4",
   "metadata": {
    "execution": {
     "iopub.execute_input": "2022-07-15T15:48:16.522392Z",
     "iopub.status.busy": "2022-07-15T15:48:16.521894Z",
     "iopub.status.idle": "2022-07-15T15:48:16.578765Z",
     "shell.execute_reply": "2022-07-15T15:48:16.577203Z"
    }
   },
   "outputs": [
    {
     "name": "stdout",
     "output_type": "stream",
     "text": [
      "propensity_score_weighting\n",
      "*** Causal Estimate ***\n",
      "\n",
      "## Identified estimand\n",
      "Estimand type: nonparametric-ate\n",
      "\n",
      "### Estimand : 1\n",
      "Estimand name: backdoor\n",
      "Estimand expression:\n",
      "  d                       \n",
      "─────(E[y|W1,W4,W0,W3,W2])\n",
      "d[v₀]                     \n",
      "Estimand assumption 1, Unconfoundedness: If U→{v0} and U→y then P(y|v0,W1,W4,W0,W3,W2,U) = P(y|v0,W1,W4,W0,W3,W2)\n",
      "\n",
      "## Realized estimand\n",
      "b: y~v0+W1+W4+W0+W3+W2\n",
      "Target units: ate\n",
      "\n",
      "## Estimate\n",
      "Mean value: 1.2880656390712413\n",
      "\n",
      "Causal Estimate is 1.2880656390712413\n"
     ]
    },
    {
     "name": "stderr",
     "output_type": "stream",
     "text": [
      "/usr/local/lib/python3.8/dist-packages/sklearn/utils/validation.py:993: DataConversionWarning: A column-vector y was passed when a 1d array was expected. Please change the shape of y to (n_samples, ), for example using ravel().\n",
      "  y = column_or_1d(y, warn=True)\n"
     ]
    }
   ],
   "source": [
    "causal_estimate_ipw = model.estimate_effect(identified_estimand,\n",
    "                                            method_name=\"backdoor.propensity_score_weighting\",\n",
    "                                            target_units = \"ate\",\n",
    "                                            method_params={\"weighting_scheme\":\"ips_weight\"})\n",
    "print(causal_estimate_ipw)\n",
    "print(\"Causal Estimate is \" + str(causal_estimate_ipw.value))"
   ]
  },
  {
   "cell_type": "code",
   "execution_count": 14,
   "id": "3866ee16",
   "metadata": {
    "execution": {
     "iopub.execute_input": "2022-07-15T15:48:16.581620Z",
     "iopub.status.busy": "2022-07-15T15:48:16.581053Z",
     "iopub.status.idle": "2022-07-15T15:48:16.604887Z",
     "shell.execute_reply": "2022-07-15T15:48:16.604284Z"
    }
   },
   "outputs": [
    {
     "name": "stdout",
     "output_type": "stream",
     "text": [
      "Increasing the treatment variable(s) [v0] from 0 to 1 causes an increase of 1.2880656390712413 in the expected value of the outcome [y], over the data distribution/population represented by the dataset.\n"
     ]
    }
   ],
   "source": [
    "# Textual Interpreter\n",
    "interpretation = causal_estimate_ipw.interpret(method_name=\"textual_effect_interpreter\")"
   ]
  },
  {
   "cell_type": "code",
   "execution_count": 15,
   "id": "3a1c0f32",
   "metadata": {
    "execution": {
     "iopub.execute_input": "2022-07-15T15:48:16.607636Z",
     "iopub.status.busy": "2022-07-15T15:48:16.607415Z",
     "iopub.status.idle": "2022-07-15T15:48:16.837936Z",
     "shell.execute_reply": "2022-07-15T15:48:16.837296Z"
    }
   },
   "outputs": [
    {
     "data": {
      "image/png": "[encoded data removed]",
      "text/plain": [
       "<Figure size 576x576 with 2 Axes>"
      ]
     },
     "metadata": {
      "needs_background": "light"
     },
     "output_type": "display_data"
    }
   ],
   "source": [
    "interpretation = causal_estimate_ipw.interpret(method_name=\"confounder_distribution_interpreter\", fig_size=(8,8), font_size=12, var_name='W4', var_type='discrete')"
   ]
  },
  {
   "cell_type": "code",
   "execution_count": null,
   "id": "cf01d562",
   "metadata": {},
   "outputs": [],
   "source": []
  }
 ],
 "metadata": {
  "kernelspec": {
   "display_name": "Python 3",
   "language": "python",
   "name": "python3"
  },
  "language_info": {
   "codemirror_mode": {
    "name": "ipython",
    "version": 3
   },
   "file_extension": ".py",
   "mimetype": "text/x-python",
   "name": "python",
   "nbconvert_exporter": "python",
   "pygments_lexer": "ipython3",
   "version": "3.8.10"
  },
  "toc": {
   "base_numbering": 1,
   "nav_menu": {},
   "number_sections": false,
   "sideBar": true,
   "skip_h1_title": true,
   "title_cell": "Table of Contents",
   "title_sidebar": "Contents",
   "toc_cell": false,
   "toc_position": {},
   "toc_section_display": true,
   "toc_window_display": false
  }
 },
 "nbformat": 4,
 "nbformat_minor": 5
}
