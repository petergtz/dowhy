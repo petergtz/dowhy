{
 "cells": [
  {
   "cell_type": "markdown",
   "id": "89853ef2",
   "metadata": {},
   "source": [
    "# DoWhy: Interpreters for Causal Estimators\n",
    "\n",
    "This is a quick introduction to the use of interpreters in the DoWhy causal inference library.\n",
    "We will load in a sample dataset, use different methods for estimating the causal effect of a (pre-specified)treatment variable on a (pre-specified) outcome variable and demonstrate how to interpret the obtained results.\n",
    "\n",
    "First, let us add the required path for Python to find the DoWhy code and load all required packages"
   ]
  },
  {
   "cell_type": "code",
   "execution_count": 1,
   "id": "86b83161",
   "metadata": {
    "execution": {
     "iopub.execute_input": "2022-07-15T14:40:05.938657Z",
     "iopub.status.busy": "2022-07-15T14:40:05.938104Z",
     "iopub.status.idle": "2022-07-15T14:40:05.955113Z",
     "shell.execute_reply": "2022-07-15T14:40:05.954486Z"
    }
   },
   "outputs": [],
   "source": [
    "%load_ext autoreload\n",
    "%autoreload 2"
   ]
  },
  {
   "cell_type": "code",
   "execution_count": 2,
   "id": "d966a4f7",
   "metadata": {
    "execution": {
     "iopub.execute_input": "2022-07-15T14:40:05.958620Z",
     "iopub.status.busy": "2022-07-15T14:40:05.958389Z",
     "iopub.status.idle": "2022-07-15T14:40:07.086800Z",
     "shell.execute_reply": "2022-07-15T14:40:07.085858Z"
    }
   },
   "outputs": [
    {
     "name": "stdout",
     "output_type": "stream",
     "text": [
      "keywords are unexpanded, not using\n"
     ]
    }
   ],
   "source": [
    "import numpy as np\n",
    "import pandas as pd\n",
    "import logging\n",
    "\n",
    "import dowhy\n",
    "from dowhy import CausalModel\n",
    "import dowhy.datasets "
   ]
  },
  {
   "cell_type": "markdown",
   "id": "bb365ab9",
   "metadata": {},
   "source": [
    "Now, let us load a dataset. For simplicity, we simulate a dataset with linear relationships between common causes and treatment, and common causes and outcome.\n",
    "\n",
    "Beta is the true causal effect."
   ]
  },
  {
   "cell_type": "code",
   "execution_count": 3,
   "id": "1f4216b9",
   "metadata": {
    "execution": {
     "iopub.execute_input": "2022-07-15T14:40:07.091117Z",
     "iopub.status.busy": "2022-07-15T14:40:07.090363Z",
     "iopub.status.idle": "2022-07-15T14:40:07.410205Z",
     "shell.execute_reply": "2022-07-15T14:40:07.409544Z"
    }
   },
   "outputs": [
    {
     "name": "stdout",
     "output_type": "stream",
     "text": [
      "8655\n"
     ]
    },
    {
     "data": {
      "text/html": [
       "<div>\n",
       "<style scoped>\n",
       "    .dataframe tbody tr th:only-of-type {\n",
       "        vertical-align: middle;\n",
       "    }\n",
       "\n",
       "    .dataframe tbody tr th {\n",
       "        vertical-align: top;\n",
       "    }\n",
       "\n",
       "    .dataframe thead th {\n",
       "        text-align: right;\n",
       "    }\n",
       "</style>\n",
       "<table border=\"1\" class=\"dataframe\">\n",
       "  <thead>\n",
       "    <tr style=\"text-align: right;\">\n",
       "      <th></th>\n",
       "      <th>Z0</th>\n",
       "      <th>Z1</th>\n",
       "      <th>W0</th>\n",
       "      <th>W1</th>\n",
       "      <th>W2</th>\n",
       "      <th>W3</th>\n",
       "      <th>W4</th>\n",
       "      <th>v0</th>\n",
       "      <th>y</th>\n",
       "    </tr>\n",
       "  </thead>\n",
       "  <tbody>\n",
       "    <tr>\n",
       "      <th>0</th>\n",
       "      <td>0.0</td>\n",
       "      <td>0.328542</td>\n",
       "      <td>1.644786</td>\n",
       "      <td>-1.335209</td>\n",
       "      <td>-0.747548</td>\n",
       "      <td>0.374831</td>\n",
       "      <td>3</td>\n",
       "      <td>True</td>\n",
       "      <td>1.479616</td>\n",
       "    </tr>\n",
       "    <tr>\n",
       "      <th>1</th>\n",
       "      <td>0.0</td>\n",
       "      <td>0.524469</td>\n",
       "      <td>0.672785</td>\n",
       "      <td>-0.399989</td>\n",
       "      <td>0.999632</td>\n",
       "      <td>1.234234</td>\n",
       "      <td>2</td>\n",
       "      <td>True</td>\n",
       "      <td>3.468918</td>\n",
       "    </tr>\n",
       "    <tr>\n",
       "      <th>2</th>\n",
       "      <td>1.0</td>\n",
       "      <td>0.361719</td>\n",
       "      <td>1.551768</td>\n",
       "      <td>-0.235235</td>\n",
       "      <td>-0.170672</td>\n",
       "      <td>-0.210078</td>\n",
       "      <td>3</td>\n",
       "      <td>True</td>\n",
       "      <td>2.098483</td>\n",
       "    </tr>\n",
       "    <tr>\n",
       "      <th>3</th>\n",
       "      <td>1.0</td>\n",
       "      <td>0.528323</td>\n",
       "      <td>0.331782</td>\n",
       "      <td>-0.659058</td>\n",
       "      <td>0.231416</td>\n",
       "      <td>-1.012003</td>\n",
       "      <td>0</td>\n",
       "      <td>False</td>\n",
       "      <td>-1.132573</td>\n",
       "    </tr>\n",
       "    <tr>\n",
       "      <th>4</th>\n",
       "      <td>1.0</td>\n",
       "      <td>0.339584</td>\n",
       "      <td>-0.571732</td>\n",
       "      <td>0.196428</td>\n",
       "      <td>-0.512270</td>\n",
       "      <td>-0.355538</td>\n",
       "      <td>2</td>\n",
       "      <td>True</td>\n",
       "      <td>1.313432</td>\n",
       "    </tr>\n",
       "    <tr>\n",
       "      <th>...</th>\n",
       "      <td>...</td>\n",
       "      <td>...</td>\n",
       "      <td>...</td>\n",
       "      <td>...</td>\n",
       "      <td>...</td>\n",
       "      <td>...</td>\n",
       "      <td>...</td>\n",
       "      <td>...</td>\n",
       "      <td>...</td>\n",
       "    </tr>\n",
       "    <tr>\n",
       "      <th>9995</th>\n",
       "      <td>0.0</td>\n",
       "      <td>0.151223</td>\n",
       "      <td>0.016155</td>\n",
       "      <td>-0.879069</td>\n",
       "      <td>0.345408</td>\n",
       "      <td>1.970623</td>\n",
       "      <td>2</td>\n",
       "      <td>False</td>\n",
       "      <td>2.263833</td>\n",
       "    </tr>\n",
       "    <tr>\n",
       "      <th>9996</th>\n",
       "      <td>1.0</td>\n",
       "      <td>0.376858</td>\n",
       "      <td>-1.569120</td>\n",
       "      <td>-0.348930</td>\n",
       "      <td>0.756423</td>\n",
       "      <td>-1.109298</td>\n",
       "      <td>2</td>\n",
       "      <td>True</td>\n",
       "      <td>1.007081</td>\n",
       "    </tr>\n",
       "    <tr>\n",
       "      <th>9997</th>\n",
       "      <td>1.0</td>\n",
       "      <td>0.678918</td>\n",
       "      <td>1.237632</td>\n",
       "      <td>-0.634985</td>\n",
       "      <td>-1.484129</td>\n",
       "      <td>0.163214</td>\n",
       "      <td>2</td>\n",
       "      <td>True</td>\n",
       "      <td>0.791138</td>\n",
       "    </tr>\n",
       "    <tr>\n",
       "      <th>9998</th>\n",
       "      <td>0.0</td>\n",
       "      <td>0.124575</td>\n",
       "      <td>-0.426769</td>\n",
       "      <td>-0.783373</td>\n",
       "      <td>-0.545762</td>\n",
       "      <td>-1.659660</td>\n",
       "      <td>2</td>\n",
       "      <td>True</td>\n",
       "      <td>-0.487451</td>\n",
       "    </tr>\n",
       "    <tr>\n",
       "      <th>9999</th>\n",
       "      <td>1.0</td>\n",
       "      <td>0.257196</td>\n",
       "      <td>1.637918</td>\n",
       "      <td>-1.527449</td>\n",
       "      <td>-0.210795</td>\n",
       "      <td>1.016576</td>\n",
       "      <td>0</td>\n",
       "      <td>True</td>\n",
       "      <td>0.915352</td>\n",
       "    </tr>\n",
       "  </tbody>\n",
       "</table>\n",
       "<p>10000 rows × 9 columns</p>\n",
       "</div>"
      ],
      "text/plain": [
       "       Z0        Z1        W0        W1        W2        W3 W4     v0  \\\n",
       "0     0.0  0.328542  1.644786 -1.335209 -0.747548  0.374831  3   True   \n",
       "1     0.0  0.524469  0.672785 -0.399989  0.999632  1.234234  2   True   \n",
       "2     1.0  0.361719  1.551768 -0.235235 -0.170672 -0.210078  3   True   \n",
       "3     1.0  0.528323  0.331782 -0.659058  0.231416 -1.012003  0  False   \n",
       "4     1.0  0.339584 -0.571732  0.196428 -0.512270 -0.355538  2   True   \n",
       "...   ...       ...       ...       ...       ...       ... ..    ...   \n",
       "9995  0.0  0.151223  0.016155 -0.879069  0.345408  1.970623  2  False   \n",
       "9996  1.0  0.376858 -1.569120 -0.348930  0.756423 -1.109298  2   True   \n",
       "9997  1.0  0.678918  1.237632 -0.634985 -1.484129  0.163214  2   True   \n",
       "9998  0.0  0.124575 -0.426769 -0.783373 -0.545762 -1.659660  2   True   \n",
       "9999  1.0  0.257196  1.637918 -1.527449 -0.210795  1.016576  0   True   \n",
       "\n",
       "             y  \n",
       "0     1.479616  \n",
       "1     3.468918  \n",
       "2     2.098483  \n",
       "3    -1.132573  \n",
       "4     1.313432  \n",
       "...        ...  \n",
       "9995  2.263833  \n",
       "9996  1.007081  \n",
       "9997  0.791138  \n",
       "9998 -0.487451  \n",
       "9999  0.915352  \n",
       "\n",
       "[10000 rows x 9 columns]"
      ]
     },
     "execution_count": 3,
     "metadata": {},
     "output_type": "execute_result"
    }
   ],
   "source": [
    "data = dowhy.datasets.linear_dataset(beta=1,\n",
    "        num_common_causes=5, \n",
    "        num_instruments = 2,\n",
    "        num_treatments=1,\n",
    "        num_discrete_common_causes=1,\n",
    "        num_samples=10000,\n",
    "        treatment_is_binary=True,\n",
    "        outcome_is_binary=False)\n",
    "df = data[\"df\"]\n",
    "print(df[df.v0==True].shape[0])\n",
    "df"
   ]
  },
  {
   "cell_type": "markdown",
   "id": "44d4bd38",
   "metadata": {},
   "source": [
    "Note that we are using a pandas dataframe to load the data."
   ]
  },
  {
   "cell_type": "markdown",
   "id": "f4165414",
   "metadata": {},
   "source": [
    "## Identifying the causal estimand"
   ]
  },
  {
   "cell_type": "markdown",
   "id": "41b8251d",
   "metadata": {},
   "source": [
    "We now input a causal graph in the GML graph format."
   ]
  },
  {
   "cell_type": "code",
   "execution_count": 4,
   "id": "829cc2ce",
   "metadata": {
    "execution": {
     "iopub.execute_input": "2022-07-15T14:40:07.413564Z",
     "iopub.status.busy": "2022-07-15T14:40:07.413311Z",
     "iopub.status.idle": "2022-07-15T14:40:07.439118Z",
     "shell.execute_reply": "2022-07-15T14:40:07.438433Z"
    }
   },
   "outputs": [],
   "source": [
    "# With graph\n",
    "model=CausalModel(\n",
    "        data = df,\n",
    "        treatment=data[\"treatment_name\"],\n",
    "        outcome=data[\"outcome_name\"],\n",
    "        graph=data[\"gml_graph\"],\n",
    "        instruments=data[\"instrument_names\"]\n",
    "        )"
   ]
  },
  {
   "cell_type": "code",
   "execution_count": 5,
   "id": "4915a757",
   "metadata": {
    "execution": {
     "iopub.execute_input": "2022-07-15T14:40:07.442557Z",
     "iopub.status.busy": "2022-07-15T14:40:07.442131Z",
     "iopub.status.idle": "2022-07-15T14:40:07.498343Z",
     "shell.execute_reply": "2022-07-15T14:40:07.497604Z"
    }
   },
   "outputs": [],
   "source": [
    "model.view_model()"
   ]
  },
  {
   "cell_type": "code",
   "execution_count": 6,
   "id": "9304d878",
   "metadata": {
    "execution": {
     "iopub.execute_input": "2022-07-15T14:40:07.502378Z",
     "iopub.status.busy": "2022-07-15T14:40:07.502116Z",
     "iopub.status.idle": "2022-07-15T14:40:07.529152Z",
     "shell.execute_reply": "2022-07-15T14:40:07.528492Z"
    }
   },
   "outputs": [
    {
     "data": {
      "image/png": "[encoded data removed]",
      "text/plain": [
       "<IPython.core.display.Image object>"
      ]
     },
     "metadata": {},
     "output_type": "display_data"
    }
   ],
   "source": [
    "from IPython.display import Image, display\n",
    "display(Image(filename=\"causal_model.png\"))"
   ]
  },
  {
   "cell_type": "markdown",
   "id": "e1fe0bb6",
   "metadata": {},
   "source": [
    "We get a causal graph. Now identification and estimation is done."
   ]
  },
  {
   "cell_type": "code",
   "execution_count": 7,
   "id": "47a0befb",
   "metadata": {
    "execution": {
     "iopub.execute_input": "2022-07-15T14:40:07.532740Z",
     "iopub.status.busy": "2022-07-15T14:40:07.532358Z",
     "iopub.status.idle": "2022-07-15T14:40:07.764921Z",
     "shell.execute_reply": "2022-07-15T14:40:07.764066Z"
    }
   },
   "outputs": [
    {
     "name": "stdout",
     "output_type": "stream",
     "text": [
      "Estimand type: nonparametric-ate\n",
      "\n",
      "### Estimand : 1\n",
      "Estimand name: backdoor\n",
      "Estimand expression:\n",
      "  d                       \n",
      "─────(E[y|W2,W3,W1,W4,W0])\n",
      "d[v₀]                     \n",
      "Estimand assumption 1, Unconfoundedness: If U→{v0} and U→y then P(y|v0,W2,W3,W1,W4,W0,U) = P(y|v0,W2,W3,W1,W4,W0)\n",
      "\n",
      "### Estimand : 2\n",
      "Estimand name: iv\n",
      "Estimand expression:\n",
      " ⎡                              -1⎤\n",
      " ⎢    d        ⎛    d          ⎞  ⎥\n",
      "E⎢─────────(y)⋅⎜─────────([v₀])⎟  ⎥\n",
      " ⎣d[Z₁  Z₀]    ⎝d[Z₁  Z₀]      ⎠  ⎦\n",
      "Estimand assumption 1, As-if-random: If U→→y then ¬(U →→{Z1,Z0})\n",
      "Estimand assumption 2, Exclusion: If we remove {Z1,Z0}→{v0}, then ¬({Z1,Z0}→y)\n",
      "\n",
      "### Estimand : 3\n",
      "Estimand name: frontdoor\n",
      "No such variable(s) found!\n",
      "\n"
     ]
    }
   ],
   "source": [
    "identified_estimand = model.identify_effect(proceed_when_unidentifiable=True)\n",
    "print(identified_estimand)"
   ]
  },
  {
   "cell_type": "markdown",
   "id": "4fd5651a",
   "metadata": {},
   "source": [
    "## Method 1: Propensity Score Stratification\n",
    "\n",
    "We will be using propensity scores to stratify units in the data."
   ]
  },
  {
   "cell_type": "code",
   "execution_count": 8,
   "id": "95e13e1a",
   "metadata": {
    "execution": {
     "iopub.execute_input": "2022-07-15T14:40:07.768639Z",
     "iopub.status.busy": "2022-07-15T14:40:07.768239Z",
     "iopub.status.idle": "2022-07-15T14:40:08.551993Z",
     "shell.execute_reply": "2022-07-15T14:40:08.551187Z"
    }
   },
   "outputs": [
    {
     "name": "stdout",
     "output_type": "stream",
     "text": [
      "propensity_score_stratification\n"
     ]
    },
    {
     "name": "stderr",
     "output_type": "stream",
     "text": [
      "/usr/local/lib/python3.8/dist-packages/sklearn/utils/validation.py:993: DataConversionWarning: A column-vector y was passed when a 1d array was expected. Please change the shape of y to (n_samples, ), for example using ravel().\n",
      "  y = column_or_1d(y, warn=True)\n"
     ]
    },
    {
     "name": "stdout",
     "output_type": "stream",
     "text": [
      "*** Causal Estimate ***\n",
      "\n",
      "## Identified estimand\n",
      "Estimand type: nonparametric-ate\n",
      "\n",
      "### Estimand : 1\n",
      "Estimand name: backdoor\n",
      "Estimand expression:\n",
      "  d                       \n",
      "─────(E[y|W2,W3,W1,W4,W0])\n",
      "d[v₀]                     \n",
      "Estimand assumption 1, Unconfoundedness: If U→{v0} and U→y then P(y|v0,W2,W3,W1,W4,W0,U) = P(y|v0,W2,W3,W1,W4,W0)\n",
      "\n",
      "## Realized estimand\n",
      "b: y~v0+W2+W3+W1+W4+W0\n",
      "Target units: att\n",
      "\n",
      "## Estimate\n",
      "Mean value: 1.0016821006761099\n",
      "\n",
      "Causal Estimate is 1.0016821006761099\n"
     ]
    }
   ],
   "source": [
    "causal_estimate_strat = model.estimate_effect(identified_estimand,\n",
    "                                              method_name=\"backdoor.propensity_score_stratification\",\n",
    "                                              target_units=\"att\")\n",
    "print(causal_estimate_strat)\n",
    "print(\"Causal Estimate is \" + str(causal_estimate_strat.value))"
   ]
  },
  {
   "cell_type": "markdown",
   "id": "bef9b69d",
   "metadata": {},
   "source": [
    "### Textual Interpreter\n",
    "\n",
    "The textual Interpreter describes (in words) the effect of unit change in the treatment variable on the outcome variable."
   ]
  },
  {
   "cell_type": "code",
   "execution_count": 9,
   "id": "4ad55d20",
   "metadata": {
    "execution": {
     "iopub.execute_input": "2022-07-15T14:40:08.555797Z",
     "iopub.status.busy": "2022-07-15T14:40:08.555394Z",
     "iopub.status.idle": "2022-07-15T14:40:08.582716Z",
     "shell.execute_reply": "2022-07-15T14:40:08.581828Z"
    }
   },
   "outputs": [
    {
     "name": "stdout",
     "output_type": "stream",
     "text": [
      "Increasing the treatment variable(s) [v0] from 0 to 1 causes an increase of 1.0016821006761099 in the expected value of the outcome [y], over the data distribution/population represented by the dataset.\n"
     ]
    }
   ],
   "source": [
    "# Textual Interpreter\n",
    "interpretation = causal_estimate_strat.interpret(method_name=\"textual_effect_interpreter\")"
   ]
  },
  {
   "cell_type": "markdown",
   "id": "63a62caf",
   "metadata": {},
   "source": [
    "### Visual Interpreter\n",
    "\n",
    "The visual interpreter plots the change in the standardized mean difference (SMD) before and after Propensity Score based adjustment of the dataset. The formula for SMD is given below.\n",
    "\n",
    "\n",
    "$SMD = \\frac{\\bar X_{1} - \\bar X_{2}}{\\sqrt{(S_{1}^{2} + S_{2}^{2})/2}}$\n",
    "\n",
    "Here, $\\bar X_{1}$ and $\\bar X_{2}$ are the sample mean for the treated and control groups.\n"
   ]
  },
  {
   "cell_type": "code",
   "execution_count": 10,
   "id": "4b8db746",
   "metadata": {
    "execution": {
     "iopub.execute_input": "2022-07-15T14:40:08.586083Z",
     "iopub.status.busy": "2022-07-15T14:40:08.585703Z",
     "iopub.status.idle": "2022-07-15T14:40:09.718595Z",
     "shell.execute_reply": "2022-07-15T14:40:09.717831Z"
    }
   },
   "outputs": [
    {
     "data": {
      "image/png": "[encoded data removed]",
      "text/plain": [
       "<Figure size 432x288 with 1 Axes>"
      ]
     },
     "metadata": {
      "needs_background": "light"
     },
     "output_type": "display_data"
    }
   ],
   "source": [
    "# Visual Interpreter\n",
    "interpretation = causal_estimate_strat.interpret(method_name=\"propensity_balance_interpreter\")"
   ]
  },
  {
   "cell_type": "markdown",
   "id": "165633d0",
   "metadata": {},
   "source": [
    "This plot shows how the SMD decreases from the unadjusted to the stratified units. "
   ]
  },
  {
   "cell_type": "markdown",
   "id": "e89cc745",
   "metadata": {},
   "source": [
    "## Method 2: Propensity Score Matching\n",
    "\n",
    "We will be using propensity scores to match units in the data."
   ]
  },
  {
   "cell_type": "code",
   "execution_count": 11,
   "id": "7980ffb5",
   "metadata": {
    "execution": {
     "iopub.execute_input": "2022-07-15T14:40:09.722952Z",
     "iopub.status.busy": "2022-07-15T14:40:09.722104Z",
     "iopub.status.idle": "2022-07-15T14:40:14.313766Z",
     "shell.execute_reply": "2022-07-15T14:40:14.313062Z"
    }
   },
   "outputs": [
    {
     "name": "stdout",
     "output_type": "stream",
     "text": [
      "propensity_score_matching\n"
     ]
    },
    {
     "name": "stderr",
     "output_type": "stream",
     "text": [
      "/usr/local/lib/python3.8/dist-packages/sklearn/utils/validation.py:993: DataConversionWarning: A column-vector y was passed when a 1d array was expected. Please change the shape of y to (n_samples, ), for example using ravel().\n",
      "  y = column_or_1d(y, warn=True)\n"
     ]
    },
    {
     "name": "stdout",
     "output_type": "stream",
     "text": [
      "*** Causal Estimate ***\n",
      "\n",
      "## Identified estimand\n",
      "Estimand type: nonparametric-ate\n",
      "\n",
      "### Estimand : 1\n",
      "Estimand name: backdoor\n",
      "Estimand expression:\n",
      "  d                       \n",
      "─────(E[y|W2,W3,W1,W4,W0])\n",
      "d[v₀]                     \n",
      "Estimand assumption 1, Unconfoundedness: If U→{v0} and U→y then P(y|v0,W2,W3,W1,W4,W0,U) = P(y|v0,W2,W3,W1,W4,W0)\n",
      "\n",
      "## Realized estimand\n",
      "b: y~v0+W2+W3+W1+W4+W0\n",
      "Target units: atc\n",
      "\n",
      "## Estimate\n",
      "Mean value: 1.0150990577469667\n",
      "\n",
      "Causal Estimate is 1.0150990577469667\n"
     ]
    }
   ],
   "source": [
    "causal_estimate_match = model.estimate_effect(identified_estimand,\n",
    "                                              method_name=\"backdoor.propensity_score_matching\",\n",
    "                                              target_units=\"atc\")\n",
    "print(causal_estimate_match)\n",
    "print(\"Causal Estimate is \" + str(causal_estimate_match.value))"
   ]
  },
  {
   "cell_type": "code",
   "execution_count": 12,
   "id": "0a0dd584",
   "metadata": {
    "execution": {
     "iopub.execute_input": "2022-07-15T14:40:14.317323Z",
     "iopub.status.busy": "2022-07-15T14:40:14.316812Z",
     "iopub.status.idle": "2022-07-15T14:40:14.344503Z",
     "shell.execute_reply": "2022-07-15T14:40:14.343738Z"
    }
   },
   "outputs": [
    {
     "name": "stdout",
     "output_type": "stream",
     "text": [
      "Increasing the treatment variable(s) [v0] from 0 to 1 causes an increase of 1.0150990577469667 in the expected value of the outcome [y], over the data distribution/population represented by the dataset.\n"
     ]
    }
   ],
   "source": [
    "# Textual Interpreter\n",
    "interpretation = causal_estimate_match.interpret(method_name=\"textual_effect_interpreter\")"
   ]
  },
  {
   "cell_type": "markdown",
   "id": "5fb595b4",
   "metadata": {},
   "source": [
    "Cannot use propensity balance interpretor here since the interpreter method only supports propensity score stratification estimator."
   ]
  },
  {
   "cell_type": "markdown",
   "id": "69f5801a",
   "metadata": {},
   "source": [
    "## Method 3: Weighting\n",
    "\n",
    "We will be using (inverse) propensity scores to assign weights to units in the data. DoWhy supports a few different weighting schemes:\n",
    "1. Vanilla Inverse Propensity Score weighting (IPS) (weighting_scheme=\"ips_weight\")\n",
    "2. Self-normalized IPS weighting (also known as the Hajek estimator) (weighting_scheme=\"ips_normalized_weight\")\n",
    "3. Stabilized IPS weighting (weighting_scheme = \"ips_stabilized_weight\")"
   ]
  },
  {
   "cell_type": "code",
   "execution_count": 13,
   "id": "15a1e34d",
   "metadata": {
    "execution": {
     "iopub.execute_input": "2022-07-15T14:40:14.348055Z",
     "iopub.status.busy": "2022-07-15T14:40:14.347657Z",
     "iopub.status.idle": "2022-07-15T14:40:14.416895Z",
     "shell.execute_reply": "2022-07-15T14:40:14.415602Z"
    }
   },
   "outputs": [
    {
     "name": "stdout",
     "output_type": "stream",
     "text": [
      "propensity_score_weighting\n",
      "*** Causal Estimate ***\n",
      "\n",
      "## Identified estimand\n",
      "Estimand type: nonparametric-ate\n",
      "\n",
      "### Estimand : 1\n",
      "Estimand name: backdoor\n",
      "Estimand expression:\n",
      "  d                       \n",
      "─────(E[y|W2,W3,W1,W4,W0])\n",
      "d[v₀]                     \n",
      "Estimand assumption 1, Unconfoundedness: If U→{v0} and U→y then P(y|v0,W2,W3,W1,W4,W0,U) = P(y|v0,W2,W3,W1,W4,W0)\n",
      "\n",
      "## Realized estimand\n",
      "b: y~v0+W2+W3+W1+W4+W0\n",
      "Target units: ate\n",
      "\n",
      "## Estimate\n",
      "Mean value: 1.2086743024864994\n",
      "\n",
      "Causal Estimate is 1.2086743024864994\n"
     ]
    },
    {
     "name": "stderr",
     "output_type": "stream",
     "text": [
      "/usr/local/lib/python3.8/dist-packages/sklearn/utils/validation.py:993: DataConversionWarning: A column-vector y was passed when a 1d array was expected. Please change the shape of y to (n_samples, ), for example using ravel().\n",
      "  y = column_or_1d(y, warn=True)\n"
     ]
    }
   ],
   "source": [
    "causal_estimate_ipw = model.estimate_effect(identified_estimand,\n",
    "                                            method_name=\"backdoor.propensity_score_weighting\",\n",
    "                                            target_units = \"ate\",\n",
    "                                            method_params={\"weighting_scheme\":\"ips_weight\"})\n",
    "print(causal_estimate_ipw)\n",
    "print(\"Causal Estimate is \" + str(causal_estimate_ipw.value))"
   ]
  },
  {
   "cell_type": "code",
   "execution_count": 14,
   "id": "9174945c",
   "metadata": {
    "execution": {
     "iopub.execute_input": "2022-07-15T14:40:14.420299Z",
     "iopub.status.busy": "2022-07-15T14:40:14.420050Z",
     "iopub.status.idle": "2022-07-15T14:40:14.446141Z",
     "shell.execute_reply": "2022-07-15T14:40:14.445466Z"
    }
   },
   "outputs": [
    {
     "name": "stdout",
     "output_type": "stream",
     "text": [
      "Increasing the treatment variable(s) [v0] from 0 to 1 causes an increase of 1.2086743024864994 in the expected value of the outcome [y], over the data distribution/population represented by the dataset.\n"
     ]
    }
   ],
   "source": [
    "# Textual Interpreter\n",
    "interpretation = causal_estimate_ipw.interpret(method_name=\"textual_effect_interpreter\")"
   ]
  },
  {
   "cell_type": "code",
   "execution_count": 15,
   "id": "b5cc4709",
   "metadata": {
    "execution": {
     "iopub.execute_input": "2022-07-15T14:40:14.449135Z",
     "iopub.status.busy": "2022-07-15T14:40:14.448891Z",
     "iopub.status.idle": "2022-07-15T14:40:14.698773Z",
     "shell.execute_reply": "2022-07-15T14:40:14.698032Z"
    }
   },
   "outputs": [
    {
     "data": {
      "image/png": "[encoded data removed]",
      "text/plain": [
       "<Figure size 576x576 with 2 Axes>"
      ]
     },
     "metadata": {
      "needs_background": "light"
     },
     "output_type": "display_data"
    }
   ],
   "source": [
    "interpretation = causal_estimate_ipw.interpret(method_name=\"confounder_distribution_interpreter\", fig_size=(8,8), font_size=12, var_name='W4', var_type='discrete')"
   ]
  },
  {
   "cell_type": "code",
   "execution_count": null,
   "id": "9f2cdd06",
   "metadata": {},
   "outputs": [],
   "source": []
  }
 ],
 "metadata": {
  "kernelspec": {
   "display_name": "Python 3",
   "language": "python",
   "name": "python3"
  },
  "language_info": {
   "codemirror_mode": {
    "name": "ipython",
    "version": 3
   },
   "file_extension": ".py",
   "mimetype": "text/x-python",
   "name": "python",
   "nbconvert_exporter": "python",
   "pygments_lexer": "ipython3",
   "version": "3.8.10"
  },
  "toc": {
   "base_numbering": 1,
   "nav_menu": {},
   "number_sections": false,
   "sideBar": true,
   "skip_h1_title": true,
   "title_cell": "Table of Contents",
   "title_sidebar": "Contents",
   "toc_cell": false,
   "toc_position": {},
   "toc_section_display": true,
   "toc_window_display": false
  }
 },
 "nbformat": 4,
 "nbformat_minor": 5
}
