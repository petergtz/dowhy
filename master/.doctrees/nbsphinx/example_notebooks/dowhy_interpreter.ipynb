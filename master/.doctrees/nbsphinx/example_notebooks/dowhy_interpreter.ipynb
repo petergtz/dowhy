{
 "cells": [
  {
   "cell_type": "markdown",
   "id": "320066c8",
   "metadata": {},
   "source": [
    "# DoWhy: Interpreters for Causal Estimators\n",
    "\n",
    "This is a quick introduction to the use of interpreters in the DoWhy causal inference library.\n",
    "We will load in a sample dataset, use different methods for estimating the causal effect of a (pre-specified)treatment variable on a (pre-specified) outcome variable and demonstrate how to interpret the obtained results.\n",
    "\n",
    "First, let us add the required path for Python to find the DoWhy code and load all required packages"
   ]
  },
  {
   "cell_type": "code",
   "execution_count": 1,
   "id": "ed1f81c6",
   "metadata": {
    "execution": {
     "iopub.execute_input": "2022-07-21T08:02:53.425198Z",
     "iopub.status.busy": "2022-07-21T08:02:53.424936Z",
     "iopub.status.idle": "2022-07-21T08:02:53.444249Z",
     "shell.execute_reply": "2022-07-21T08:02:53.442688Z"
    }
   },
   "outputs": [],
   "source": [
    "%load_ext autoreload\n",
    "%autoreload 2"
   ]
  },
  {
   "cell_type": "code",
   "execution_count": 2,
   "id": "75cae093",
   "metadata": {
    "execution": {
     "iopub.execute_input": "2022-07-21T08:02:53.447223Z",
     "iopub.status.busy": "2022-07-21T08:02:53.446853Z",
     "iopub.status.idle": "2022-07-21T08:02:54.531305Z",
     "shell.execute_reply": "2022-07-21T08:02:54.530467Z"
    }
   },
   "outputs": [
    {
     "name": "stdout",
     "output_type": "stream",
     "text": [
      "keywords are unexpanded, not using\n"
     ]
    }
   ],
   "source": [
    "import numpy as np\n",
    "import pandas as pd\n",
    "import logging\n",
    "\n",
    "import dowhy\n",
    "from dowhy import CausalModel\n",
    "import dowhy.datasets "
   ]
  },
  {
   "cell_type": "markdown",
   "id": "da978f56",
   "metadata": {},
   "source": [
    "Now, let us load a dataset. For simplicity, we simulate a dataset with linear relationships between common causes and treatment, and common causes and outcome.\n",
    "\n",
    "Beta is the true causal effect."
   ]
  },
  {
   "cell_type": "code",
   "execution_count": 3,
   "id": "5e00c40f",
   "metadata": {
    "execution": {
     "iopub.execute_input": "2022-07-21T08:02:54.534954Z",
     "iopub.status.busy": "2022-07-21T08:02:54.534355Z",
     "iopub.status.idle": "2022-07-21T08:02:54.856276Z",
     "shell.execute_reply": "2022-07-21T08:02:54.855672Z"
    }
   },
   "outputs": [
    {
     "name": "stdout",
     "output_type": "stream",
     "text": [
      "8433\n"
     ]
    },
    {
     "data": {
      "text/html": [
       "<div>\n",
       "<style scoped>\n",
       "    .dataframe tbody tr th:only-of-type {\n",
       "        vertical-align: middle;\n",
       "    }\n",
       "\n",
       "    .dataframe tbody tr th {\n",
       "        vertical-align: top;\n",
       "    }\n",
       "\n",
       "    .dataframe thead th {\n",
       "        text-align: right;\n",
       "    }\n",
       "</style>\n",
       "<table border=\"1\" class=\"dataframe\">\n",
       "  <thead>\n",
       "    <tr style=\"text-align: right;\">\n",
       "      <th></th>\n",
       "      <th>Z0</th>\n",
       "      <th>Z1</th>\n",
       "      <th>W0</th>\n",
       "      <th>W1</th>\n",
       "      <th>W2</th>\n",
       "      <th>W3</th>\n",
       "      <th>W4</th>\n",
       "      <th>v0</th>\n",
       "      <th>y</th>\n",
       "    </tr>\n",
       "  </thead>\n",
       "  <tbody>\n",
       "    <tr>\n",
       "      <th>0</th>\n",
       "      <td>0.0</td>\n",
       "      <td>0.275571</td>\n",
       "      <td>-0.378068</td>\n",
       "      <td>0.369490</td>\n",
       "      <td>-0.850139</td>\n",
       "      <td>-0.567072</td>\n",
       "      <td>3</td>\n",
       "      <td>True</td>\n",
       "      <td>0.592968</td>\n",
       "    </tr>\n",
       "    <tr>\n",
       "      <th>1</th>\n",
       "      <td>0.0</td>\n",
       "      <td>0.647764</td>\n",
       "      <td>-0.266732</td>\n",
       "      <td>-0.127879</td>\n",
       "      <td>-0.912673</td>\n",
       "      <td>2.371486</td>\n",
       "      <td>3</td>\n",
       "      <td>True</td>\n",
       "      <td>3.254418</td>\n",
       "    </tr>\n",
       "    <tr>\n",
       "      <th>2</th>\n",
       "      <td>0.0</td>\n",
       "      <td>0.737163</td>\n",
       "      <td>-0.794102</td>\n",
       "      <td>0.386325</td>\n",
       "      <td>0.315447</td>\n",
       "      <td>0.503562</td>\n",
       "      <td>1</td>\n",
       "      <td>True</td>\n",
       "      <td>1.759964</td>\n",
       "    </tr>\n",
       "    <tr>\n",
       "      <th>3</th>\n",
       "      <td>0.0</td>\n",
       "      <td>0.738827</td>\n",
       "      <td>2.351759</td>\n",
       "      <td>0.228551</td>\n",
       "      <td>-1.707389</td>\n",
       "      <td>-1.673114</td>\n",
       "      <td>2</td>\n",
       "      <td>True</td>\n",
       "      <td>-0.777460</td>\n",
       "    </tr>\n",
       "    <tr>\n",
       "      <th>4</th>\n",
       "      <td>0.0</td>\n",
       "      <td>0.252632</td>\n",
       "      <td>-1.180168</td>\n",
       "      <td>-0.514862</td>\n",
       "      <td>0.600375</td>\n",
       "      <td>0.421572</td>\n",
       "      <td>2</td>\n",
       "      <td>True</td>\n",
       "      <td>1.826037</td>\n",
       "    </tr>\n",
       "    <tr>\n",
       "      <th>...</th>\n",
       "      <td>...</td>\n",
       "      <td>...</td>\n",
       "      <td>...</td>\n",
       "      <td>...</td>\n",
       "      <td>...</td>\n",
       "      <td>...</td>\n",
       "      <td>...</td>\n",
       "      <td>...</td>\n",
       "      <td>...</td>\n",
       "    </tr>\n",
       "    <tr>\n",
       "      <th>9995</th>\n",
       "      <td>0.0</td>\n",
       "      <td>0.369713</td>\n",
       "      <td>0.175815</td>\n",
       "      <td>0.885337</td>\n",
       "      <td>-0.074802</td>\n",
       "      <td>-1.150398</td>\n",
       "      <td>0</td>\n",
       "      <td>False</td>\n",
       "      <td>-0.984267</td>\n",
       "    </tr>\n",
       "    <tr>\n",
       "      <th>9996</th>\n",
       "      <td>0.0</td>\n",
       "      <td>0.540002</td>\n",
       "      <td>0.681767</td>\n",
       "      <td>1.155483</td>\n",
       "      <td>0.049915</td>\n",
       "      <td>0.955447</td>\n",
       "      <td>1</td>\n",
       "      <td>True</td>\n",
       "      <td>2.258855</td>\n",
       "    </tr>\n",
       "    <tr>\n",
       "      <th>9997</th>\n",
       "      <td>0.0</td>\n",
       "      <td>0.125412</td>\n",
       "      <td>0.424055</td>\n",
       "      <td>0.532910</td>\n",
       "      <td>-1.609591</td>\n",
       "      <td>0.586027</td>\n",
       "      <td>0</td>\n",
       "      <td>True</td>\n",
       "      <td>0.959219</td>\n",
       "    </tr>\n",
       "    <tr>\n",
       "      <th>9998</th>\n",
       "      <td>0.0</td>\n",
       "      <td>0.087771</td>\n",
       "      <td>-0.660452</td>\n",
       "      <td>0.329613</td>\n",
       "      <td>0.219704</td>\n",
       "      <td>0.723866</td>\n",
       "      <td>1</td>\n",
       "      <td>True</td>\n",
       "      <td>1.941330</td>\n",
       "    </tr>\n",
       "    <tr>\n",
       "      <th>9999</th>\n",
       "      <td>0.0</td>\n",
       "      <td>0.427571</td>\n",
       "      <td>0.198767</td>\n",
       "      <td>0.576274</td>\n",
       "      <td>0.205294</td>\n",
       "      <td>0.409055</td>\n",
       "      <td>0</td>\n",
       "      <td>True</td>\n",
       "      <td>1.554533</td>\n",
       "    </tr>\n",
       "  </tbody>\n",
       "</table>\n",
       "<p>10000 rows × 9 columns</p>\n",
       "</div>"
      ],
      "text/plain": [
       "       Z0        Z1        W0        W1        W2        W3 W4     v0  \\\n",
       "0     0.0  0.275571 -0.378068  0.369490 -0.850139 -0.567072  3   True   \n",
       "1     0.0  0.647764 -0.266732 -0.127879 -0.912673  2.371486  3   True   \n",
       "2     0.0  0.737163 -0.794102  0.386325  0.315447  0.503562  1   True   \n",
       "3     0.0  0.738827  2.351759  0.228551 -1.707389 -1.673114  2   True   \n",
       "4     0.0  0.252632 -1.180168 -0.514862  0.600375  0.421572  2   True   \n",
       "...   ...       ...       ...       ...       ...       ... ..    ...   \n",
       "9995  0.0  0.369713  0.175815  0.885337 -0.074802 -1.150398  0  False   \n",
       "9996  0.0  0.540002  0.681767  1.155483  0.049915  0.955447  1   True   \n",
       "9997  0.0  0.125412  0.424055  0.532910 -1.609591  0.586027  0   True   \n",
       "9998  0.0  0.087771 -0.660452  0.329613  0.219704  0.723866  1   True   \n",
       "9999  0.0  0.427571  0.198767  0.576274  0.205294  0.409055  0   True   \n",
       "\n",
       "             y  \n",
       "0     0.592968  \n",
       "1     3.254418  \n",
       "2     1.759964  \n",
       "3    -0.777460  \n",
       "4     1.826037  \n",
       "...        ...  \n",
       "9995 -0.984267  \n",
       "9996  2.258855  \n",
       "9997  0.959219  \n",
       "9998  1.941330  \n",
       "9999  1.554533  \n",
       "\n",
       "[10000 rows x 9 columns]"
      ]
     },
     "execution_count": 3,
     "metadata": {},
     "output_type": "execute_result"
    }
   ],
   "source": [
    "data = dowhy.datasets.linear_dataset(beta=1,\n",
    "        num_common_causes=5, \n",
    "        num_instruments = 2,\n",
    "        num_treatments=1,\n",
    "        num_discrete_common_causes=1,\n",
    "        num_samples=10000,\n",
    "        treatment_is_binary=True,\n",
    "        outcome_is_binary=False)\n",
    "df = data[\"df\"]\n",
    "print(df[df.v0==True].shape[0])\n",
    "df"
   ]
  },
  {
   "cell_type": "markdown",
   "id": "4b693823",
   "metadata": {},
   "source": [
    "Note that we are using a pandas dataframe to load the data."
   ]
  },
  {
   "cell_type": "markdown",
   "id": "30d217ba",
   "metadata": {},
   "source": [
    "## Identifying the causal estimand"
   ]
  },
  {
   "cell_type": "markdown",
   "id": "86a06fa1",
   "metadata": {},
   "source": [
    "We now input a causal graph in the GML graph format."
   ]
  },
  {
   "cell_type": "code",
   "execution_count": 4,
   "id": "e448678c",
   "metadata": {
    "execution": {
     "iopub.execute_input": "2022-07-21T08:02:54.859515Z",
     "iopub.status.busy": "2022-07-21T08:02:54.859126Z",
     "iopub.status.idle": "2022-07-21T08:02:54.886300Z",
     "shell.execute_reply": "2022-07-21T08:02:54.885743Z"
    }
   },
   "outputs": [],
   "source": [
    "# With graph\n",
    "model=CausalModel(\n",
    "        data = df,\n",
    "        treatment=data[\"treatment_name\"],\n",
    "        outcome=data[\"outcome_name\"],\n",
    "        graph=data[\"gml_graph\"],\n",
    "        instruments=data[\"instrument_names\"]\n",
    "        )"
   ]
  },
  {
   "cell_type": "code",
   "execution_count": 5,
   "id": "6e4d4446",
   "metadata": {
    "execution": {
     "iopub.execute_input": "2022-07-21T08:02:54.889505Z",
     "iopub.status.busy": "2022-07-21T08:02:54.889149Z",
     "iopub.status.idle": "2022-07-21T08:02:54.951105Z",
     "shell.execute_reply": "2022-07-21T08:02:54.950404Z"
    }
   },
   "outputs": [],
   "source": [
    "model.view_model()"
   ]
  },
  {
   "cell_type": "code",
   "execution_count": 6,
   "id": "e5785a4c",
   "metadata": {
    "execution": {
     "iopub.execute_input": "2022-07-21T08:02:54.954915Z",
     "iopub.status.busy": "2022-07-21T08:02:54.954538Z",
     "iopub.status.idle": "2022-07-21T08:02:54.983092Z",
     "shell.execute_reply": "2022-07-21T08:02:54.982477Z"
    }
   },
   "outputs": [
    {
     "data": {
      "image/png": "[encoded data removed]",
      "text/plain": [
       "<IPython.core.display.Image object>"
      ]
     },
     "metadata": {},
     "output_type": "display_data"
    }
   ],
   "source": [
    "from IPython.display import Image, display\n",
    "display(Image(filename=\"causal_model.png\"))"
   ]
  },
  {
   "cell_type": "markdown",
   "id": "274e01cc",
   "metadata": {},
   "source": [
    "We get a causal graph. Now identification and estimation is done."
   ]
  },
  {
   "cell_type": "code",
   "execution_count": 7,
   "id": "bee4a4a7",
   "metadata": {
    "execution": {
     "iopub.execute_input": "2022-07-21T08:02:54.986169Z",
     "iopub.status.busy": "2022-07-21T08:02:54.985935Z",
     "iopub.status.idle": "2022-07-21T08:02:55.214361Z",
     "shell.execute_reply": "2022-07-21T08:02:55.212865Z"
    }
   },
   "outputs": [
    {
     "name": "stdout",
     "output_type": "stream",
     "text": [
      "Estimand type: nonparametric-ate\n",
      "\n",
      "### Estimand : 1\n",
      "Estimand name: backdoor\n",
      "Estimand expression:\n",
      "  d                       \n",
      "─────(E[y|W1,W0,W4,W3,W2])\n",
      "d[v₀]                     \n",
      "Estimand assumption 1, Unconfoundedness: If U→{v0} and U→y then P(y|v0,W1,W0,W4,W3,W2,U) = P(y|v0,W1,W0,W4,W3,W2)\n",
      "\n",
      "### Estimand : 2\n",
      "Estimand name: iv\n",
      "Estimand expression:\n",
      " ⎡                              -1⎤\n",
      " ⎢    d        ⎛    d          ⎞  ⎥\n",
      "E⎢─────────(y)⋅⎜─────────([v₀])⎟  ⎥\n",
      " ⎣d[Z₁  Z₀]    ⎝d[Z₁  Z₀]      ⎠  ⎦\n",
      "Estimand assumption 1, As-if-random: If U→→y then ¬(U →→{Z1,Z0})\n",
      "Estimand assumption 2, Exclusion: If we remove {Z1,Z0}→{v0}, then ¬({Z1,Z0}→y)\n",
      "\n",
      "### Estimand : 3\n",
      "Estimand name: frontdoor\n",
      "No such variable(s) found!\n",
      "\n"
     ]
    }
   ],
   "source": [
    "identified_estimand = model.identify_effect(proceed_when_unidentifiable=True)\n",
    "print(identified_estimand)"
   ]
  },
  {
   "cell_type": "markdown",
   "id": "b4563dd2",
   "metadata": {},
   "source": [
    "## Method 1: Propensity Score Stratification\n",
    "\n",
    "We will be using propensity scores to stratify units in the data."
   ]
  },
  {
   "cell_type": "code",
   "execution_count": 8,
   "id": "68bb560a",
   "metadata": {
    "execution": {
     "iopub.execute_input": "2022-07-21T08:02:55.217707Z",
     "iopub.status.busy": "2022-07-21T08:02:55.217322Z",
     "iopub.status.idle": "2022-07-21T08:02:56.009274Z",
     "shell.execute_reply": "2022-07-21T08:02:56.008377Z"
    }
   },
   "outputs": [
    {
     "name": "stdout",
     "output_type": "stream",
     "text": [
      "propensity_score_stratification\n"
     ]
    },
    {
     "name": "stderr",
     "output_type": "stream",
     "text": [
      "/usr/local/lib/python3.8/dist-packages/sklearn/utils/validation.py:993: DataConversionWarning: A column-vector y was passed when a 1d array was expected. Please change the shape of y to (n_samples, ), for example using ravel().\n",
      "  y = column_or_1d(y, warn=True)\n"
     ]
    },
    {
     "name": "stdout",
     "output_type": "stream",
     "text": [
      "*** Causal Estimate ***\n",
      "\n",
      "## Identified estimand\n",
      "Estimand type: nonparametric-ate\n",
      "\n",
      "### Estimand : 1\n",
      "Estimand name: backdoor\n",
      "Estimand expression:\n",
      "  d                       \n",
      "─────(E[y|W1,W0,W4,W3,W2])\n",
      "d[v₀]                     \n",
      "Estimand assumption 1, Unconfoundedness: If U→{v0} and U→y then P(y|v0,W1,W0,W4,W3,W2,U) = P(y|v0,W1,W0,W4,W3,W2)\n",
      "\n",
      "## Realized estimand\n",
      "b: y~v0+W1+W0+W4+W3+W2\n",
      "Target units: att\n",
      "\n",
      "## Estimate\n",
      "Mean value: 1.0157777851381435\n",
      "\n",
      "Causal Estimate is 1.0157777851381435\n"
     ]
    }
   ],
   "source": [
    "causal_estimate_strat = model.estimate_effect(identified_estimand,\n",
    "                                              method_name=\"backdoor.propensity_score_stratification\",\n",
    "                                              target_units=\"att\")\n",
    "print(causal_estimate_strat)\n",
    "print(\"Causal Estimate is \" + str(causal_estimate_strat.value))"
   ]
  },
  {
   "cell_type": "markdown",
   "id": "d7f0a2ad",
   "metadata": {},
   "source": [
    "### Textual Interpreter\n",
    "\n",
    "The textual Interpreter describes (in words) the effect of unit change in the treatment variable on the outcome variable."
   ]
  },
  {
   "cell_type": "code",
   "execution_count": 9,
   "id": "1d58b527",
   "metadata": {
    "execution": {
     "iopub.execute_input": "2022-07-21T08:02:56.013211Z",
     "iopub.status.busy": "2022-07-21T08:02:56.012815Z",
     "iopub.status.idle": "2022-07-21T08:02:56.042244Z",
     "shell.execute_reply": "2022-07-21T08:02:56.041430Z"
    }
   },
   "outputs": [
    {
     "name": "stdout",
     "output_type": "stream",
     "text": [
      "Increasing the treatment variable(s) [v0] from 0 to 1 causes an increase of 1.0157777851381435 in the expected value of the outcome [y], over the data distribution/population represented by the dataset.\n"
     ]
    }
   ],
   "source": [
    "# Textual Interpreter\n",
    "interpretation = causal_estimate_strat.interpret(method_name=\"textual_effect_interpreter\")"
   ]
  },
  {
   "cell_type": "markdown",
   "id": "24990637",
   "metadata": {},
   "source": [
    "### Visual Interpreter\n",
    "\n",
    "The visual interpreter plots the change in the standardized mean difference (SMD) before and after Propensity Score based adjustment of the dataset. The formula for SMD is given below.\n",
    "\n",
    "\n",
    "$SMD = \\frac{\\bar X_{1} - \\bar X_{2}}{\\sqrt{(S_{1}^{2} + S_{2}^{2})/2}}$\n",
    "\n",
    "Here, $\\bar X_{1}$ and $\\bar X_{2}$ are the sample mean for the treated and control groups.\n"
   ]
  },
  {
   "cell_type": "code",
   "execution_count": 10,
   "id": "a2d34390",
   "metadata": {
    "execution": {
     "iopub.execute_input": "2022-07-21T08:02:56.045677Z",
     "iopub.status.busy": "2022-07-21T08:02:56.045016Z",
     "iopub.status.idle": "2022-07-21T08:02:57.128181Z",
     "shell.execute_reply": "2022-07-21T08:02:57.127449Z"
    }
   },
   "outputs": [
    {
     "data": {
      "image/png": "[encoded data removed]",
      "text/plain": [
       "<Figure size 432x288 with 1 Axes>"
      ]
     },
     "metadata": {
      "needs_background": "light"
     },
     "output_type": "display_data"
    }
   ],
   "source": [
    "# Visual Interpreter\n",
    "interpretation = causal_estimate_strat.interpret(method_name=\"propensity_balance_interpreter\")"
   ]
  },
  {
   "cell_type": "markdown",
   "id": "514378f8",
   "metadata": {},
   "source": [
    "This plot shows how the SMD decreases from the unadjusted to the stratified units. "
   ]
  },
  {
   "cell_type": "markdown",
   "id": "a51e5425",
   "metadata": {},
   "source": [
    "## Method 2: Propensity Score Matching\n",
    "\n",
    "We will be using propensity scores to match units in the data."
   ]
  },
  {
   "cell_type": "code",
   "execution_count": 11,
   "id": "7d01f393",
   "metadata": {
    "execution": {
     "iopub.execute_input": "2022-07-21T08:02:57.131677Z",
     "iopub.status.busy": "2022-07-21T08:02:57.131143Z",
     "iopub.status.idle": "2022-07-21T08:03:01.614435Z",
     "shell.execute_reply": "2022-07-21T08:03:01.613545Z"
    }
   },
   "outputs": [
    {
     "name": "stdout",
     "output_type": "stream",
     "text": [
      "propensity_score_matching\n"
     ]
    },
    {
     "name": "stderr",
     "output_type": "stream",
     "text": [
      "/usr/local/lib/python3.8/dist-packages/sklearn/utils/validation.py:993: DataConversionWarning: A column-vector y was passed when a 1d array was expected. Please change the shape of y to (n_samples, ), for example using ravel().\n",
      "  y = column_or_1d(y, warn=True)\n"
     ]
    },
    {
     "name": "stdout",
     "output_type": "stream",
     "text": [
      "*** Causal Estimate ***\n",
      "\n",
      "## Identified estimand\n",
      "Estimand type: nonparametric-ate\n",
      "\n",
      "### Estimand : 1\n",
      "Estimand name: backdoor\n",
      "Estimand expression:\n",
      "  d                       \n",
      "─────(E[y|W1,W0,W4,W3,W2])\n",
      "d[v₀]                     \n",
      "Estimand assumption 1, Unconfoundedness: If U→{v0} and U→y then P(y|v0,W1,W0,W4,W3,W2,U) = P(y|v0,W1,W0,W4,W3,W2)\n",
      "\n",
      "## Realized estimand\n",
      "b: y~v0+W1+W0+W4+W3+W2\n",
      "Target units: atc\n",
      "\n",
      "## Estimate\n",
      "Mean value: 1.0484155677751035\n",
      "\n",
      "Causal Estimate is 1.0484155677751035\n"
     ]
    }
   ],
   "source": [
    "causal_estimate_match = model.estimate_effect(identified_estimand,\n",
    "                                              method_name=\"backdoor.propensity_score_matching\",\n",
    "                                              target_units=\"atc\")\n",
    "print(causal_estimate_match)\n",
    "print(\"Causal Estimate is \" + str(causal_estimate_match.value))"
   ]
  },
  {
   "cell_type": "code",
   "execution_count": 12,
   "id": "e180bd2d",
   "metadata": {
    "execution": {
     "iopub.execute_input": "2022-07-21T08:03:01.618131Z",
     "iopub.status.busy": "2022-07-21T08:03:01.617454Z",
     "iopub.status.idle": "2022-07-21T08:03:01.645728Z",
     "shell.execute_reply": "2022-07-21T08:03:01.645045Z"
    }
   },
   "outputs": [
    {
     "name": "stdout",
     "output_type": "stream",
     "text": [
      "Increasing the treatment variable(s) [v0] from 0 to 1 causes an increase of 1.0484155677751035 in the expected value of the outcome [y], over the data distribution/population represented by the dataset.\n"
     ]
    }
   ],
   "source": [
    "# Textual Interpreter\n",
    "interpretation = causal_estimate_match.interpret(method_name=\"textual_effect_interpreter\")"
   ]
  },
  {
   "cell_type": "markdown",
   "id": "002ce9e4",
   "metadata": {},
   "source": [
    "Cannot use propensity balance interpretor here since the interpreter method only supports propensity score stratification estimator."
   ]
  },
  {
   "cell_type": "markdown",
   "id": "a651f73a",
   "metadata": {},
   "source": [
    "## Method 3: Weighting\n",
    "\n",
    "We will be using (inverse) propensity scores to assign weights to units in the data. DoWhy supports a few different weighting schemes:\n",
    "1. Vanilla Inverse Propensity Score weighting (IPS) (weighting_scheme=\"ips_weight\")\n",
    "2. Self-normalized IPS weighting (also known as the Hajek estimator) (weighting_scheme=\"ips_normalized_weight\")\n",
    "3. Stabilized IPS weighting (weighting_scheme = \"ips_stabilized_weight\")"
   ]
  },
  {
   "cell_type": "code",
   "execution_count": 13,
   "id": "b928af84",
   "metadata": {
    "execution": {
     "iopub.execute_input": "2022-07-21T08:03:01.649054Z",
     "iopub.status.busy": "2022-07-21T08:03:01.648598Z",
     "iopub.status.idle": "2022-07-21T08:03:01.716522Z",
     "shell.execute_reply": "2022-07-21T08:03:01.715331Z"
    }
   },
   "outputs": [
    {
     "name": "stdout",
     "output_type": "stream",
     "text": [
      "propensity_score_weighting\n",
      "*** Causal Estimate ***\n",
      "\n",
      "## Identified estimand\n",
      "Estimand type: nonparametric-ate\n",
      "\n",
      "### Estimand : 1\n",
      "Estimand name: backdoor\n",
      "Estimand expression:\n",
      "  d                       \n",
      "─────(E[y|W1,W0,W4,W3,W2])\n",
      "d[v₀]                     \n",
      "Estimand assumption 1, Unconfoundedness: If U→{v0} and U→y then P(y|v0,W1,W0,W4,W3,W2,U) = P(y|v0,W1,W0,W4,W3,W2)\n",
      "\n",
      "## Realized estimand\n",
      "b: y~v0+W1+W0+W4+W3+W2\n",
      "Target units: ate\n",
      "\n",
      "## Estimate\n",
      "Mean value: 1.1268103148795818\n",
      "\n",
      "Causal Estimate is 1.1268103148795818\n"
     ]
    },
    {
     "name": "stderr",
     "output_type": "stream",
     "text": [
      "/usr/local/lib/python3.8/dist-packages/sklearn/utils/validation.py:993: DataConversionWarning: A column-vector y was passed when a 1d array was expected. Please change the shape of y to (n_samples, ), for example using ravel().\n",
      "  y = column_or_1d(y, warn=True)\n"
     ]
    }
   ],
   "source": [
    "causal_estimate_ipw = model.estimate_effect(identified_estimand,\n",
    "                                            method_name=\"backdoor.propensity_score_weighting\",\n",
    "                                            target_units = \"ate\",\n",
    "                                            method_params={\"weighting_scheme\":\"ips_weight\"})\n",
    "print(causal_estimate_ipw)\n",
    "print(\"Causal Estimate is \" + str(causal_estimate_ipw.value))"
   ]
  },
  {
   "cell_type": "code",
   "execution_count": 14,
   "id": "dd584435",
   "metadata": {
    "execution": {
     "iopub.execute_input": "2022-07-21T08:03:01.719236Z",
     "iopub.status.busy": "2022-07-21T08:03:01.718943Z",
     "iopub.status.idle": "2022-07-21T08:03:01.750585Z",
     "shell.execute_reply": "2022-07-21T08:03:01.750061Z"
    }
   },
   "outputs": [
    {
     "name": "stdout",
     "output_type": "stream",
     "text": [
      "Increasing the treatment variable(s) [v0] from 0 to 1 causes an increase of 1.1268103148795818 in the expected value of the outcome [y], over the data distribution/population represented by the dataset.\n"
     ]
    }
   ],
   "source": [
    "# Textual Interpreter\n",
    "interpretation = causal_estimate_ipw.interpret(method_name=\"textual_effect_interpreter\")"
   ]
  },
  {
   "cell_type": "code",
   "execution_count": 15,
   "id": "301b68f6",
   "metadata": {
    "execution": {
     "iopub.execute_input": "2022-07-21T08:03:01.754629Z",
     "iopub.status.busy": "2022-07-21T08:03:01.753578Z",
     "iopub.status.idle": "2022-07-21T08:03:01.997948Z",
     "shell.execute_reply": "2022-07-21T08:03:01.997255Z"
    }
   },
   "outputs": [
    {
     "data": {
      "image/png": "[encoded data removed]",
      "text/plain": [
       "<Figure size 576x576 with 2 Axes>"
      ]
     },
     "metadata": {
      "needs_background": "light"
     },
     "output_type": "display_data"
    }
   ],
   "source": [
    "interpretation = causal_estimate_ipw.interpret(method_name=\"confounder_distribution_interpreter\", fig_size=(8,8), font_size=12, var_name='W4', var_type='discrete')"
   ]
  },
  {
   "cell_type": "code",
   "execution_count": null,
   "id": "cdceefef",
   "metadata": {},
   "outputs": [],
   "source": []
  }
 ],
 "metadata": {
  "kernelspec": {
   "display_name": "Python 3",
   "language": "python",
   "name": "python3"
  },
  "language_info": {
   "codemirror_mode": {
    "name": "ipython",
    "version": 3
   },
   "file_extension": ".py",
   "mimetype": "text/x-python",
   "name": "python",
   "nbconvert_exporter": "python",
   "pygments_lexer": "ipython3",
   "version": "3.8.10"
  },
  "toc": {
   "base_numbering": 1,
   "nav_menu": {},
   "number_sections": false,
   "sideBar": true,
   "skip_h1_title": true,
   "title_cell": "Table of Contents",
   "title_sidebar": "Contents",
   "toc_cell": false,
   "toc_position": {},
   "toc_section_display": true,
   "toc_window_display": false
  }
 },
 "nbformat": 4,
 "nbformat_minor": 5
}
