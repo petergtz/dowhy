{
 "cells": [
  {
   "cell_type": "markdown",
   "id": "d41774d2",
   "metadata": {},
   "source": [
    "# DoWhy: Interpreters for Causal Estimators\n",
    "\n",
    "This is a quick introduction to the use of interpreters in the DoWhy causal inference library.\n",
    "We will load in a sample dataset, use different methods for estimating the causal effect of a (pre-specified)treatment variable on a (pre-specified) outcome variable and demonstrate how to interpret the obtained results.\n",
    "\n",
    "First, let us add the required path for Python to find the DoWhy code and load all required packages"
   ]
  },
  {
   "cell_type": "code",
   "execution_count": 1,
   "id": "932587cc",
   "metadata": {
    "execution": {
     "iopub.execute_input": "2022-07-20T18:06:26.583288Z",
     "iopub.status.busy": "2022-07-20T18:06:26.582867Z",
     "iopub.status.idle": "2022-07-20T18:06:26.599734Z",
     "shell.execute_reply": "2022-07-20T18:06:26.599160Z"
    }
   },
   "outputs": [],
   "source": [
    "%load_ext autoreload\n",
    "%autoreload 2"
   ]
  },
  {
   "cell_type": "code",
   "execution_count": 2,
   "id": "d5af88d2",
   "metadata": {
    "execution": {
     "iopub.execute_input": "2022-07-20T18:06:26.602475Z",
     "iopub.status.busy": "2022-07-20T18:06:26.602242Z",
     "iopub.status.idle": "2022-07-20T18:06:27.577866Z",
     "shell.execute_reply": "2022-07-20T18:06:27.576811Z"
    }
   },
   "outputs": [
    {
     "name": "stdout",
     "output_type": "stream",
     "text": [
      "keywords are unexpanded, not using\n"
     ]
    }
   ],
   "source": [
    "import numpy as np\n",
    "import pandas as pd\n",
    "import logging\n",
    "\n",
    "import dowhy\n",
    "from dowhy import CausalModel\n",
    "import dowhy.datasets "
   ]
  },
  {
   "cell_type": "markdown",
   "id": "72657e7a",
   "metadata": {},
   "source": [
    "Now, let us load a dataset. For simplicity, we simulate a dataset with linear relationships between common causes and treatment, and common causes and outcome.\n",
    "\n",
    "Beta is the true causal effect."
   ]
  },
  {
   "cell_type": "code",
   "execution_count": 3,
   "id": "cdde7e2b",
   "metadata": {
    "execution": {
     "iopub.execute_input": "2022-07-20T18:06:27.581346Z",
     "iopub.status.busy": "2022-07-20T18:06:27.580769Z",
     "iopub.status.idle": "2022-07-20T18:06:27.880091Z",
     "shell.execute_reply": "2022-07-20T18:06:27.879493Z"
    }
   },
   "outputs": [
    {
     "name": "stdout",
     "output_type": "stream",
     "text": [
      "9239\n"
     ]
    },
    {
     "data": {
      "text/html": [
       "<div>\n",
       "<style scoped>\n",
       "    .dataframe tbody tr th:only-of-type {\n",
       "        vertical-align: middle;\n",
       "    }\n",
       "\n",
       "    .dataframe tbody tr th {\n",
       "        vertical-align: top;\n",
       "    }\n",
       "\n",
       "    .dataframe thead th {\n",
       "        text-align: right;\n",
       "    }\n",
       "</style>\n",
       "<table border=\"1\" class=\"dataframe\">\n",
       "  <thead>\n",
       "    <tr style=\"text-align: right;\">\n",
       "      <th></th>\n",
       "      <th>Z0</th>\n",
       "      <th>Z1</th>\n",
       "      <th>W0</th>\n",
       "      <th>W1</th>\n",
       "      <th>W2</th>\n",
       "      <th>W3</th>\n",
       "      <th>W4</th>\n",
       "      <th>v0</th>\n",
       "      <th>y</th>\n",
       "    </tr>\n",
       "  </thead>\n",
       "  <tbody>\n",
       "    <tr>\n",
       "      <th>0</th>\n",
       "      <td>1.0</td>\n",
       "      <td>0.339353</td>\n",
       "      <td>-0.397254</td>\n",
       "      <td>0.788938</td>\n",
       "      <td>-0.169059</td>\n",
       "      <td>-0.836818</td>\n",
       "      <td>2</td>\n",
       "      <td>True</td>\n",
       "      <td>2.424168</td>\n",
       "    </tr>\n",
       "    <tr>\n",
       "      <th>1</th>\n",
       "      <td>0.0</td>\n",
       "      <td>0.493566</td>\n",
       "      <td>0.901937</td>\n",
       "      <td>1.190192</td>\n",
       "      <td>0.475901</td>\n",
       "      <td>-0.675385</td>\n",
       "      <td>2</td>\n",
       "      <td>True</td>\n",
       "      <td>3.776862</td>\n",
       "    </tr>\n",
       "    <tr>\n",
       "      <th>2</th>\n",
       "      <td>1.0</td>\n",
       "      <td>0.983864</td>\n",
       "      <td>-0.556318</td>\n",
       "      <td>-1.275911</td>\n",
       "      <td>-1.152993</td>\n",
       "      <td>0.514648</td>\n",
       "      <td>1</td>\n",
       "      <td>True</td>\n",
       "      <td>0.139652</td>\n",
       "    </tr>\n",
       "    <tr>\n",
       "      <th>3</th>\n",
       "      <td>1.0</td>\n",
       "      <td>0.342390</td>\n",
       "      <td>0.276718</td>\n",
       "      <td>2.270851</td>\n",
       "      <td>1.595254</td>\n",
       "      <td>-1.875657</td>\n",
       "      <td>3</td>\n",
       "      <td>True</td>\n",
       "      <td>4.903534</td>\n",
       "    </tr>\n",
       "    <tr>\n",
       "      <th>4</th>\n",
       "      <td>1.0</td>\n",
       "      <td>0.766135</td>\n",
       "      <td>0.087277</td>\n",
       "      <td>-0.735396</td>\n",
       "      <td>-1.655208</td>\n",
       "      <td>-1.365766</td>\n",
       "      <td>1</td>\n",
       "      <td>True</td>\n",
       "      <td>-0.744572</td>\n",
       "    </tr>\n",
       "    <tr>\n",
       "      <th>...</th>\n",
       "      <td>...</td>\n",
       "      <td>...</td>\n",
       "      <td>...</td>\n",
       "      <td>...</td>\n",
       "      <td>...</td>\n",
       "      <td>...</td>\n",
       "      <td>...</td>\n",
       "      <td>...</td>\n",
       "      <td>...</td>\n",
       "    </tr>\n",
       "    <tr>\n",
       "      <th>9995</th>\n",
       "      <td>1.0</td>\n",
       "      <td>0.926189</td>\n",
       "      <td>0.482543</td>\n",
       "      <td>1.975484</td>\n",
       "      <td>-1.905482</td>\n",
       "      <td>-1.694434</td>\n",
       "      <td>3</td>\n",
       "      <td>True</td>\n",
       "      <td>3.238058</td>\n",
       "    </tr>\n",
       "    <tr>\n",
       "      <th>9996</th>\n",
       "      <td>1.0</td>\n",
       "      <td>0.373332</td>\n",
       "      <td>-0.422716</td>\n",
       "      <td>1.306353</td>\n",
       "      <td>0.034072</td>\n",
       "      <td>-0.647951</td>\n",
       "      <td>3</td>\n",
       "      <td>True</td>\n",
       "      <td>3.887924</td>\n",
       "    </tr>\n",
       "    <tr>\n",
       "      <th>9997</th>\n",
       "      <td>1.0</td>\n",
       "      <td>0.123754</td>\n",
       "      <td>1.516804</td>\n",
       "      <td>1.510646</td>\n",
       "      <td>-0.417424</td>\n",
       "      <td>0.892404</td>\n",
       "      <td>1</td>\n",
       "      <td>True</td>\n",
       "      <td>4.436738</td>\n",
       "    </tr>\n",
       "    <tr>\n",
       "      <th>9998</th>\n",
       "      <td>1.0</td>\n",
       "      <td>0.706577</td>\n",
       "      <td>0.254786</td>\n",
       "      <td>-0.067350</td>\n",
       "      <td>-0.073995</td>\n",
       "      <td>-0.050565</td>\n",
       "      <td>3</td>\n",
       "      <td>True</td>\n",
       "      <td>3.254588</td>\n",
       "    </tr>\n",
       "    <tr>\n",
       "      <th>9999</th>\n",
       "      <td>1.0</td>\n",
       "      <td>0.196798</td>\n",
       "      <td>0.316437</td>\n",
       "      <td>0.392314</td>\n",
       "      <td>-0.169161</td>\n",
       "      <td>-0.561780</td>\n",
       "      <td>0</td>\n",
       "      <td>True</td>\n",
       "      <td>0.995508</td>\n",
       "    </tr>\n",
       "  </tbody>\n",
       "</table>\n",
       "<p>10000 rows × 9 columns</p>\n",
       "</div>"
      ],
      "text/plain": [
       "       Z0        Z1        W0        W1        W2        W3 W4    v0         y\n",
       "0     1.0  0.339353 -0.397254  0.788938 -0.169059 -0.836818  2  True  2.424168\n",
       "1     0.0  0.493566  0.901937  1.190192  0.475901 -0.675385  2  True  3.776862\n",
       "2     1.0  0.983864 -0.556318 -1.275911 -1.152993  0.514648  1  True  0.139652\n",
       "3     1.0  0.342390  0.276718  2.270851  1.595254 -1.875657  3  True  4.903534\n",
       "4     1.0  0.766135  0.087277 -0.735396 -1.655208 -1.365766  1  True -0.744572\n",
       "...   ...       ...       ...       ...       ...       ... ..   ...       ...\n",
       "9995  1.0  0.926189  0.482543  1.975484 -1.905482 -1.694434  3  True  3.238058\n",
       "9996  1.0  0.373332 -0.422716  1.306353  0.034072 -0.647951  3  True  3.887924\n",
       "9997  1.0  0.123754  1.516804  1.510646 -0.417424  0.892404  1  True  4.436738\n",
       "9998  1.0  0.706577  0.254786 -0.067350 -0.073995 -0.050565  3  True  3.254588\n",
       "9999  1.0  0.196798  0.316437  0.392314 -0.169161 -0.561780  0  True  0.995508\n",
       "\n",
       "[10000 rows x 9 columns]"
      ]
     },
     "execution_count": 3,
     "metadata": {},
     "output_type": "execute_result"
    }
   ],
   "source": [
    "data = dowhy.datasets.linear_dataset(beta=1,\n",
    "        num_common_causes=5, \n",
    "        num_instruments = 2,\n",
    "        num_treatments=1,\n",
    "        num_discrete_common_causes=1,\n",
    "        num_samples=10000,\n",
    "        treatment_is_binary=True,\n",
    "        outcome_is_binary=False)\n",
    "df = data[\"df\"]\n",
    "print(df[df.v0==True].shape[0])\n",
    "df"
   ]
  },
  {
   "cell_type": "markdown",
   "id": "512d3a01",
   "metadata": {},
   "source": [
    "Note that we are using a pandas dataframe to load the data."
   ]
  },
  {
   "cell_type": "markdown",
   "id": "3b9d3a5d",
   "metadata": {},
   "source": [
    "## Identifying the causal estimand"
   ]
  },
  {
   "cell_type": "markdown",
   "id": "ec5d72d1",
   "metadata": {},
   "source": [
    "We now input a causal graph in the GML graph format."
   ]
  },
  {
   "cell_type": "code",
   "execution_count": 4,
   "id": "c4ed3d2a",
   "metadata": {
    "execution": {
     "iopub.execute_input": "2022-07-20T18:06:27.883601Z",
     "iopub.status.busy": "2022-07-20T18:06:27.883260Z",
     "iopub.status.idle": "2022-07-20T18:06:27.910974Z",
     "shell.execute_reply": "2022-07-20T18:06:27.910431Z"
    }
   },
   "outputs": [],
   "source": [
    "# With graph\n",
    "model=CausalModel(\n",
    "        data = df,\n",
    "        treatment=data[\"treatment_name\"],\n",
    "        outcome=data[\"outcome_name\"],\n",
    "        graph=data[\"gml_graph\"],\n",
    "        instruments=data[\"instrument_names\"]\n",
    "        )"
   ]
  },
  {
   "cell_type": "code",
   "execution_count": 5,
   "id": "a9cba39f",
   "metadata": {
    "execution": {
     "iopub.execute_input": "2022-07-20T18:06:27.915102Z",
     "iopub.status.busy": "2022-07-20T18:06:27.913882Z",
     "iopub.status.idle": "2022-07-20T18:06:27.972171Z",
     "shell.execute_reply": "2022-07-20T18:06:27.971532Z"
    }
   },
   "outputs": [],
   "source": [
    "model.view_model()"
   ]
  },
  {
   "cell_type": "code",
   "execution_count": 6,
   "id": "0df0d33f",
   "metadata": {
    "execution": {
     "iopub.execute_input": "2022-07-20T18:06:27.975484Z",
     "iopub.status.busy": "2022-07-20T18:06:27.975143Z",
     "iopub.status.idle": "2022-07-20T18:06:28.003130Z",
     "shell.execute_reply": "2022-07-20T18:06:28.002443Z"
    }
   },
   "outputs": [
    {
     "data": {
      "image/png": "[encoded data removed]",
      "text/plain": [
       "<IPython.core.display.Image object>"
      ]
     },
     "metadata": {},
     "output_type": "display_data"
    }
   ],
   "source": [
    "from IPython.display import Image, display\n",
    "display(Image(filename=\"causal_model.png\"))"
   ]
  },
  {
   "cell_type": "markdown",
   "id": "bae46120",
   "metadata": {},
   "source": [
    "We get a causal graph. Now identification and estimation is done."
   ]
  },
  {
   "cell_type": "code",
   "execution_count": 7,
   "id": "5fdeed78",
   "metadata": {
    "execution": {
     "iopub.execute_input": "2022-07-20T18:06:28.006468Z",
     "iopub.status.busy": "2022-07-20T18:06:28.006043Z",
     "iopub.status.idle": "2022-07-20T18:06:28.230052Z",
     "shell.execute_reply": "2022-07-20T18:06:28.229408Z"
    }
   },
   "outputs": [
    {
     "name": "stdout",
     "output_type": "stream",
     "text": [
      "Estimand type: nonparametric-ate\n",
      "\n",
      "### Estimand : 1\n",
      "Estimand name: backdoor\n",
      "Estimand expression:\n",
      "  d                       \n",
      "─────(E[y|W1,W3,W4,W0,W2])\n",
      "d[v₀]                     \n",
      "Estimand assumption 1, Unconfoundedness: If U→{v0} and U→y then P(y|v0,W1,W3,W4,W0,W2,U) = P(y|v0,W1,W3,W4,W0,W2)\n",
      "\n",
      "### Estimand : 2\n",
      "Estimand name: iv\n",
      "Estimand expression:\n",
      " ⎡                              -1⎤\n",
      " ⎢    d        ⎛    d          ⎞  ⎥\n",
      "E⎢─────────(y)⋅⎜─────────([v₀])⎟  ⎥\n",
      " ⎣d[Z₀  Z₁]    ⎝d[Z₀  Z₁]      ⎠  ⎦\n",
      "Estimand assumption 1, As-if-random: If U→→y then ¬(U →→{Z0,Z1})\n",
      "Estimand assumption 2, Exclusion: If we remove {Z0,Z1}→{v0}, then ¬({Z0,Z1}→y)\n",
      "\n",
      "### Estimand : 3\n",
      "Estimand name: frontdoor\n",
      "No such variable(s) found!\n",
      "\n"
     ]
    }
   ],
   "source": [
    "identified_estimand = model.identify_effect(proceed_when_unidentifiable=True)\n",
    "print(identified_estimand)"
   ]
  },
  {
   "cell_type": "markdown",
   "id": "4522e0d4",
   "metadata": {},
   "source": [
    "## Method 1: Propensity Score Stratification\n",
    "\n",
    "We will be using propensity scores to stratify units in the data."
   ]
  },
  {
   "cell_type": "code",
   "execution_count": 8,
   "id": "dbc875ad",
   "metadata": {
    "execution": {
     "iopub.execute_input": "2022-07-20T18:06:28.233449Z",
     "iopub.status.busy": "2022-07-20T18:06:28.233094Z",
     "iopub.status.idle": "2022-07-20T18:06:28.904267Z",
     "shell.execute_reply": "2022-07-20T18:06:28.903596Z"
    }
   },
   "outputs": [
    {
     "name": "stdout",
     "output_type": "stream",
     "text": [
      "propensity_score_stratification\n"
     ]
    },
    {
     "name": "stderr",
     "output_type": "stream",
     "text": [
      "/usr/local/lib/python3.8/dist-packages/sklearn/utils/validation.py:993: DataConversionWarning: A column-vector y was passed when a 1d array was expected. Please change the shape of y to (n_samples, ), for example using ravel().\n",
      "  y = column_or_1d(y, warn=True)\n"
     ]
    },
    {
     "name": "stdout",
     "output_type": "stream",
     "text": [
      "*** Causal Estimate ***\n",
      "\n",
      "## Identified estimand\n",
      "Estimand type: nonparametric-ate\n",
      "\n",
      "### Estimand : 1\n",
      "Estimand name: backdoor\n",
      "Estimand expression:\n",
      "  d                       \n",
      "─────(E[y|W1,W3,W4,W0,W2])\n",
      "d[v₀]                     \n",
      "Estimand assumption 1, Unconfoundedness: If U→{v0} and U→y then P(y|v0,W1,W3,W4,W0,W2,U) = P(y|v0,W1,W3,W4,W0,W2)\n",
      "\n",
      "## Realized estimand\n",
      "b: y~v0+W1+W3+W4+W0+W2\n",
      "Target units: att\n",
      "\n",
      "## Estimate\n",
      "Mean value: 1.0211648550735675\n",
      "\n",
      "Causal Estimate is 1.0211648550735675\n"
     ]
    }
   ],
   "source": [
    "causal_estimate_strat = model.estimate_effect(identified_estimand,\n",
    "                                              method_name=\"backdoor.propensity_score_stratification\",\n",
    "                                              target_units=\"att\")\n",
    "print(causal_estimate_strat)\n",
    "print(\"Causal Estimate is \" + str(causal_estimate_strat.value))"
   ]
  },
  {
   "cell_type": "markdown",
   "id": "a4ef3243",
   "metadata": {},
   "source": [
    "### Textual Interpreter\n",
    "\n",
    "The textual Interpreter describes (in words) the effect of unit change in the treatment variable on the outcome variable."
   ]
  },
  {
   "cell_type": "code",
   "execution_count": 9,
   "id": "b3bff6a1",
   "metadata": {
    "execution": {
     "iopub.execute_input": "2022-07-20T18:06:28.907826Z",
     "iopub.status.busy": "2022-07-20T18:06:28.907295Z",
     "iopub.status.idle": "2022-07-20T18:06:28.937302Z",
     "shell.execute_reply": "2022-07-20T18:06:28.936596Z"
    }
   },
   "outputs": [
    {
     "name": "stdout",
     "output_type": "stream",
     "text": [
      "Increasing the treatment variable(s) [v0] from 0 to 1 causes an increase of 1.0211648550735675 in the expected value of the outcome [y], over the data distribution/population represented by the dataset.\n"
     ]
    }
   ],
   "source": [
    "# Textual Interpreter\n",
    "interpretation = causal_estimate_strat.interpret(method_name=\"textual_effect_interpreter\")"
   ]
  },
  {
   "cell_type": "markdown",
   "id": "6e6b82e4",
   "metadata": {},
   "source": [
    "### Visual Interpreter\n",
    "\n",
    "The visual interpreter plots the change in the standardized mean difference (SMD) before and after Propensity Score based adjustment of the dataset. The formula for SMD is given below.\n",
    "\n",
    "\n",
    "$SMD = \\frac{\\bar X_{1} - \\bar X_{2}}{\\sqrt{(S_{1}^{2} + S_{2}^{2})/2}}$\n",
    "\n",
    "Here, $\\bar X_{1}$ and $\\bar X_{2}$ are the sample mean for the treated and control groups.\n"
   ]
  },
  {
   "cell_type": "code",
   "execution_count": 10,
   "id": "657973fe",
   "metadata": {
    "execution": {
     "iopub.execute_input": "2022-07-20T18:06:28.940939Z",
     "iopub.status.busy": "2022-07-20T18:06:28.940682Z",
     "iopub.status.idle": "2022-07-20T18:06:29.905542Z",
     "shell.execute_reply": "2022-07-20T18:06:29.904923Z"
    }
   },
   "outputs": [
    {
     "data": {
      "image/png": "[encoded data removed]",
      "text/plain": [
       "<Figure size 432x288 with 1 Axes>"
      ]
     },
     "metadata": {
      "needs_background": "light"
     },
     "output_type": "display_data"
    }
   ],
   "source": [
    "# Visual Interpreter\n",
    "interpretation = causal_estimate_strat.interpret(method_name=\"propensity_balance_interpreter\")"
   ]
  },
  {
   "cell_type": "markdown",
   "id": "9164c821",
   "metadata": {},
   "source": [
    "This plot shows how the SMD decreases from the unadjusted to the stratified units. "
   ]
  },
  {
   "cell_type": "markdown",
   "id": "2b38112b",
   "metadata": {},
   "source": [
    "## Method 2: Propensity Score Matching\n",
    "\n",
    "We will be using propensity scores to match units in the data."
   ]
  },
  {
   "cell_type": "code",
   "execution_count": 11,
   "id": "638a66ed",
   "metadata": {
    "execution": {
     "iopub.execute_input": "2022-07-20T18:06:29.908858Z",
     "iopub.status.busy": "2022-07-20T18:06:29.908371Z",
     "iopub.status.idle": "2022-07-20T18:06:33.569617Z",
     "shell.execute_reply": "2022-07-20T18:06:33.569070Z"
    }
   },
   "outputs": [
    {
     "name": "stdout",
     "output_type": "stream",
     "text": [
      "propensity_score_matching\n"
     ]
    },
    {
     "name": "stderr",
     "output_type": "stream",
     "text": [
      "/usr/local/lib/python3.8/dist-packages/sklearn/utils/validation.py:993: DataConversionWarning: A column-vector y was passed when a 1d array was expected. Please change the shape of y to (n_samples, ), for example using ravel().\n",
      "  y = column_or_1d(y, warn=True)\n"
     ]
    },
    {
     "name": "stdout",
     "output_type": "stream",
     "text": [
      "*** Causal Estimate ***\n",
      "\n",
      "## Identified estimand\n",
      "Estimand type: nonparametric-ate\n",
      "\n",
      "### Estimand : 1\n",
      "Estimand name: backdoor\n",
      "Estimand expression:\n",
      "  d                       \n",
      "─────(E[y|W1,W3,W4,W0,W2])\n",
      "d[v₀]                     \n",
      "Estimand assumption 1, Unconfoundedness: If U→{v0} and U→y then P(y|v0,W1,W3,W4,W0,W2,U) = P(y|v0,W1,W3,W4,W0,W2)\n",
      "\n",
      "## Realized estimand\n",
      "b: y~v0+W1+W3+W4+W0+W2\n",
      "Target units: atc\n",
      "\n",
      "## Estimate\n",
      "Mean value: 1.0156589231551885\n",
      "\n",
      "Causal Estimate is 1.0156589231551885\n"
     ]
    }
   ],
   "source": [
    "causal_estimate_match = model.estimate_effect(identified_estimand,\n",
    "                                              method_name=\"backdoor.propensity_score_matching\",\n",
    "                                              target_units=\"atc\")\n",
    "print(causal_estimate_match)\n",
    "print(\"Causal Estimate is \" + str(causal_estimate_match.value))"
   ]
  },
  {
   "cell_type": "code",
   "execution_count": 12,
   "id": "a23c5fc6",
   "metadata": {
    "execution": {
     "iopub.execute_input": "2022-07-20T18:06:33.572591Z",
     "iopub.status.busy": "2022-07-20T18:06:33.572235Z",
     "iopub.status.idle": "2022-07-20T18:06:33.600270Z",
     "shell.execute_reply": "2022-07-20T18:06:33.599596Z"
    }
   },
   "outputs": [
    {
     "name": "stdout",
     "output_type": "stream",
     "text": [
      "Increasing the treatment variable(s) [v0] from 0 to 1 causes an increase of 1.0156589231551885 in the expected value of the outcome [y], over the data distribution/population represented by the dataset.\n"
     ]
    }
   ],
   "source": [
    "# Textual Interpreter\n",
    "interpretation = causal_estimate_match.interpret(method_name=\"textual_effect_interpreter\")"
   ]
  },
  {
   "cell_type": "markdown",
   "id": "aaa040ce",
   "metadata": {},
   "source": [
    "Cannot use propensity balance interpretor here since the interpreter method only supports propensity score stratification estimator."
   ]
  },
  {
   "cell_type": "markdown",
   "id": "bb5f8bec",
   "metadata": {},
   "source": [
    "## Method 3: Weighting\n",
    "\n",
    "We will be using (inverse) propensity scores to assign weights to units in the data. DoWhy supports a few different weighting schemes:\n",
    "1. Vanilla Inverse Propensity Score weighting (IPS) (weighting_scheme=\"ips_weight\")\n",
    "2. Self-normalized IPS weighting (also known as the Hajek estimator) (weighting_scheme=\"ips_normalized_weight\")\n",
    "3. Stabilized IPS weighting (weighting_scheme = \"ips_stabilized_weight\")"
   ]
  },
  {
   "cell_type": "code",
   "execution_count": 13,
   "id": "354638ac",
   "metadata": {
    "execution": {
     "iopub.execute_input": "2022-07-20T18:06:33.603332Z",
     "iopub.status.busy": "2022-07-20T18:06:33.602979Z",
     "iopub.status.idle": "2022-07-20T18:06:33.668080Z",
     "shell.execute_reply": "2022-07-20T18:06:33.666894Z"
    }
   },
   "outputs": [
    {
     "name": "stdout",
     "output_type": "stream",
     "text": [
      "propensity_score_weighting\n",
      "*** Causal Estimate ***\n",
      "\n",
      "## Identified estimand\n",
      "Estimand type: nonparametric-ate\n",
      "\n",
      "### Estimand : 1\n",
      "Estimand name: backdoor\n",
      "Estimand expression:\n",
      "  d                       \n",
      "─────(E[y|W1,W3,W4,W0,W2])\n",
      "d[v₀]                     \n",
      "Estimand assumption 1, Unconfoundedness: If U→{v0} and U→y then P(y|v0,W1,W3,W4,W0,W2,U) = P(y|v0,W1,W3,W4,W0,W2)\n",
      "\n",
      "## Realized estimand\n",
      "b: y~v0+W1+W3+W4+W0+W2\n",
      "Target units: ate\n",
      "\n",
      "## Estimate\n",
      "Mean value: 1.819287938190941\n",
      "\n",
      "Causal Estimate is 1.819287938190941\n"
     ]
    },
    {
     "name": "stderr",
     "output_type": "stream",
     "text": [
      "/usr/local/lib/python3.8/dist-packages/sklearn/utils/validation.py:993: DataConversionWarning: A column-vector y was passed when a 1d array was expected. Please change the shape of y to (n_samples, ), for example using ravel().\n",
      "  y = column_or_1d(y, warn=True)\n"
     ]
    }
   ],
   "source": [
    "causal_estimate_ipw = model.estimate_effect(identified_estimand,\n",
    "                                            method_name=\"backdoor.propensity_score_weighting\",\n",
    "                                            target_units = \"ate\",\n",
    "                                            method_params={\"weighting_scheme\":\"ips_weight\"})\n",
    "print(causal_estimate_ipw)\n",
    "print(\"Causal Estimate is \" + str(causal_estimate_ipw.value))"
   ]
  },
  {
   "cell_type": "code",
   "execution_count": 14,
   "id": "76b6be0f",
   "metadata": {
    "execution": {
     "iopub.execute_input": "2022-07-20T18:06:33.671330Z",
     "iopub.status.busy": "2022-07-20T18:06:33.671081Z",
     "iopub.status.idle": "2022-07-20T18:06:33.698256Z",
     "shell.execute_reply": "2022-07-20T18:06:33.697487Z"
    }
   },
   "outputs": [
    {
     "name": "stdout",
     "output_type": "stream",
     "text": [
      "Increasing the treatment variable(s) [v0] from 0 to 1 causes an increase of 1.819287938190941 in the expected value of the outcome [y], over the data distribution/population represented by the dataset.\n"
     ]
    }
   ],
   "source": [
    "# Textual Interpreter\n",
    "interpretation = causal_estimate_ipw.interpret(method_name=\"textual_effect_interpreter\")"
   ]
  },
  {
   "cell_type": "code",
   "execution_count": 15,
   "id": "2b9ad23f",
   "metadata": {
    "execution": {
     "iopub.execute_input": "2022-07-20T18:06:33.701052Z",
     "iopub.status.busy": "2022-07-20T18:06:33.700819Z",
     "iopub.status.idle": "2022-07-20T18:06:33.941418Z",
     "shell.execute_reply": "2022-07-20T18:06:33.940801Z"
    }
   },
   "outputs": [
    {
     "data": {
      "image/png": "[encoded data removed]",
      "text/plain": [
       "<Figure size 576x576 with 2 Axes>"
      ]
     },
     "metadata": {
      "needs_background": "light"
     },
     "output_type": "display_data"
    }
   ],
   "source": [
    "interpretation = causal_estimate_ipw.interpret(method_name=\"confounder_distribution_interpreter\", fig_size=(8,8), font_size=12, var_name='W4', var_type='discrete')"
   ]
  },
  {
   "cell_type": "code",
   "execution_count": null,
   "id": "03e4e4d1",
   "metadata": {},
   "outputs": [],
   "source": []
  }
 ],
 "metadata": {
  "kernelspec": {
   "display_name": "Python 3",
   "language": "python",
   "name": "python3"
  },
  "language_info": {
   "codemirror_mode": {
    "name": "ipython",
    "version": 3
   },
   "file_extension": ".py",
   "mimetype": "text/x-python",
   "name": "python",
   "nbconvert_exporter": "python",
   "pygments_lexer": "ipython3",
   "version": "3.8.10"
  },
  "toc": {
   "base_numbering": 1,
   "nav_menu": {},
   "number_sections": false,
   "sideBar": true,
   "skip_h1_title": true,
   "title_cell": "Table of Contents",
   "title_sidebar": "Contents",
   "toc_cell": false,
   "toc_position": {},
   "toc_section_display": true,
   "toc_window_display": false
  }
 },
 "nbformat": 4,
 "nbformat_minor": 5
}
