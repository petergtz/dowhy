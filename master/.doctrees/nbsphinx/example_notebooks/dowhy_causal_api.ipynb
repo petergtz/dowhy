{
 "cells": [
  {
   "cell_type": "markdown",
   "metadata": {},
   "source": [
    "# Demo for the DoWhy causal API\n",
    "We show a simple example of adding a causal extension to any dataframe. "
   ]
  },
  {
   "cell_type": "code",
   "execution_count": 1,
   "metadata": {
    "execution": {
     "iopub.execute_input": "2022-07-15T15:47:26.683114Z",
     "iopub.status.busy": "2022-07-15T15:47:26.682722Z",
     "iopub.status.idle": "2022-07-15T15:47:27.761915Z",
     "shell.execute_reply": "2022-07-15T15:47:27.760702Z"
    }
   },
   "outputs": [
    {
     "name": "stdout",
     "output_type": "stream",
     "text": [
      "keywords are unexpanded, not using\n"
     ]
    }
   ],
   "source": [
    "import dowhy.datasets\n",
    "import dowhy.api\n",
    "\n",
    "import numpy as np\n",
    "import pandas as pd\n",
    "\n",
    "from statsmodels.api import OLS"
   ]
  },
  {
   "cell_type": "code",
   "execution_count": 2,
   "metadata": {
    "execution": {
     "iopub.execute_input": "2022-07-15T15:47:27.765800Z",
     "iopub.status.busy": "2022-07-15T15:47:27.765288Z",
     "iopub.status.idle": "2022-07-15T15:47:27.809845Z",
     "shell.execute_reply": "2022-07-15T15:47:27.809141Z"
    }
   },
   "outputs": [
    {
     "data": {
      "text/html": [
       "<div>\n",
       "<style scoped>\n",
       "    .dataframe tbody tr th:only-of-type {\n",
       "        vertical-align: middle;\n",
       "    }\n",
       "\n",
       "    .dataframe tbody tr th {\n",
       "        vertical-align: top;\n",
       "    }\n",
       "\n",
       "    .dataframe thead th {\n",
       "        text-align: right;\n",
       "    }\n",
       "</style>\n",
       "<table border=\"1\" class=\"dataframe\">\n",
       "  <thead>\n",
       "    <tr style=\"text-align: right;\">\n",
       "      <th></th>\n",
       "      <th>W0</th>\n",
       "      <th>v0</th>\n",
       "      <th>y</th>\n",
       "    </tr>\n",
       "  </thead>\n",
       "  <tbody>\n",
       "    <tr>\n",
       "      <th>0</th>\n",
       "      <td>-1.419704</td>\n",
       "      <td>False</td>\n",
       "      <td>-3.027045</td>\n",
       "    </tr>\n",
       "    <tr>\n",
       "      <th>1</th>\n",
       "      <td>-0.486053</td>\n",
       "      <td>False</td>\n",
       "      <td>0.015127</td>\n",
       "    </tr>\n",
       "    <tr>\n",
       "      <th>2</th>\n",
       "      <td>-0.978720</td>\n",
       "      <td>False</td>\n",
       "      <td>-1.740713</td>\n",
       "    </tr>\n",
       "    <tr>\n",
       "      <th>3</th>\n",
       "      <td>0.846745</td>\n",
       "      <td>True</td>\n",
       "      <td>6.350126</td>\n",
       "    </tr>\n",
       "    <tr>\n",
       "      <th>4</th>\n",
       "      <td>0.869623</td>\n",
       "      <td>True</td>\n",
       "      <td>4.968033</td>\n",
       "    </tr>\n",
       "    <tr>\n",
       "      <th>...</th>\n",
       "      <td>...</td>\n",
       "      <td>...</td>\n",
       "      <td>...</td>\n",
       "    </tr>\n",
       "    <tr>\n",
       "      <th>995</th>\n",
       "      <td>-0.909733</td>\n",
       "      <td>False</td>\n",
       "      <td>-1.472146</td>\n",
       "    </tr>\n",
       "    <tr>\n",
       "      <th>996</th>\n",
       "      <td>-1.447930</td>\n",
       "      <td>False</td>\n",
       "      <td>-0.536777</td>\n",
       "    </tr>\n",
       "    <tr>\n",
       "      <th>997</th>\n",
       "      <td>-2.143487</td>\n",
       "      <td>False</td>\n",
       "      <td>-3.795796</td>\n",
       "    </tr>\n",
       "    <tr>\n",
       "      <th>998</th>\n",
       "      <td>-1.321587</td>\n",
       "      <td>False</td>\n",
       "      <td>-0.719301</td>\n",
       "    </tr>\n",
       "    <tr>\n",
       "      <th>999</th>\n",
       "      <td>-2.662885</td>\n",
       "      <td>False</td>\n",
       "      <td>-2.800201</td>\n",
       "    </tr>\n",
       "  </tbody>\n",
       "</table>\n",
       "<p>1000 rows × 3 columns</p>\n",
       "</div>"
      ],
      "text/plain": [
       "           W0     v0         y\n",
       "0   -1.419704  False -3.027045\n",
       "1   -0.486053  False  0.015127\n",
       "2   -0.978720  False -1.740713\n",
       "3    0.846745   True  6.350126\n",
       "4    0.869623   True  4.968033\n",
       "..        ...    ...       ...\n",
       "995 -0.909733  False -1.472146\n",
       "996 -1.447930  False -0.536777\n",
       "997 -2.143487  False -3.795796\n",
       "998 -1.321587  False -0.719301\n",
       "999 -2.662885  False -2.800201\n",
       "\n",
       "[1000 rows x 3 columns]"
      ]
     },
     "execution_count": 2,
     "metadata": {},
     "output_type": "execute_result"
    }
   ],
   "source": [
    "data = dowhy.datasets.linear_dataset(beta=5,\n",
    "        num_common_causes=1,\n",
    "        num_instruments = 0,\n",
    "        num_samples=1000,\n",
    "        treatment_is_binary=True)\n",
    "df = data['df']\n",
    "df['y'] = df['y'] + np.random.normal(size=len(df)) # Adding noise to data. Without noise, the variance in Y|X, Z is zero, and mcmc fails.\n",
    "#data['dot_graph'] = 'digraph { v ->y;X0-> v;X0-> y;}'\n",
    "\n",
    "treatment= data[\"treatment_name\"][0]\n",
    "outcome = data[\"outcome_name\"][0]\n",
    "common_cause = data[\"common_causes_names\"][0]\n",
    "df"
   ]
  },
  {
   "cell_type": "code",
   "execution_count": 3,
   "metadata": {
    "execution": {
     "iopub.execute_input": "2022-07-15T15:47:27.812969Z",
     "iopub.status.busy": "2022-07-15T15:47:27.812465Z",
     "iopub.status.idle": "2022-07-15T15:47:28.558948Z",
     "shell.execute_reply": "2022-07-15T15:47:28.558359Z"
    }
   },
   "outputs": [
    {
     "data": {
      "text/plain": [
       "<AxesSubplot:xlabel='v0'>"
      ]
     },
     "execution_count": 3,
     "metadata": {},
     "output_type": "execute_result"
    },
    {
     "data": {
      "image/png": "[encoded data removed]",
      "text/plain": [
       "<Figure size 432x288 with 1 Axes>"
      ]
     },
     "metadata": {
      "needs_background": "light"
     },
     "output_type": "display_data"
    }
   ],
   "source": [
    "# data['df'] is just a regular pandas.DataFrame\n",
    "df.causal.do(x=treatment,\n",
    "                     variable_types={treatment: 'b', outcome: 'c', common_cause: 'c'},\n",
    "                     outcome=outcome,\n",
    "                     common_causes=[common_cause],\n",
    "                     proceed_when_unidentifiable=True).groupby(treatment).mean().plot(y=outcome, kind='bar')"
   ]
  },
  {
   "cell_type": "code",
   "execution_count": 4,
   "metadata": {
    "execution": {
     "iopub.execute_input": "2022-07-15T15:47:28.562480Z",
     "iopub.status.busy": "2022-07-15T15:47:28.562008Z",
     "iopub.status.idle": "2022-07-15T15:47:28.658661Z",
     "shell.execute_reply": "2022-07-15T15:47:28.658080Z"
    }
   },
   "outputs": [
    {
     "data": {
      "text/plain": [
       "<AxesSubplot:xlabel='v0'>"
      ]
     },
     "execution_count": 4,
     "metadata": {},
     "output_type": "execute_result"
    },
    {
     "data": {
      "image/png": "[encoded data removed]",
      "text/plain": [
       "<Figure size 432x288 with 1 Axes>"
      ]
     },
     "metadata": {
      "needs_background": "light"
     },
     "output_type": "display_data"
    }
   ],
   "source": [
    "df.causal.do(x={treatment: 1}, \n",
    "              variable_types={treatment:'b', outcome: 'c', common_cause: 'c'}, \n",
    "              outcome=outcome,\n",
    "              method='weighting', \n",
    "              common_causes=[common_cause],\n",
    "              proceed_when_unidentifiable=True).groupby(treatment).mean().plot(y=outcome, kind='bar')"
   ]
  },
  {
   "cell_type": "code",
   "execution_count": 5,
   "metadata": {
    "execution": {
     "iopub.execute_input": "2022-07-15T15:47:28.662757Z",
     "iopub.status.busy": "2022-07-15T15:47:28.661759Z",
     "iopub.status.idle": "2022-07-15T15:47:28.692612Z",
     "shell.execute_reply": "2022-07-15T15:47:28.692047Z"
    }
   },
   "outputs": [],
   "source": [
    "cdf_1 = df.causal.do(x={treatment: 1}, \n",
    "              variable_types={treatment: 'b', outcome: 'c', common_cause: 'c'}, \n",
    "              outcome=outcome, \n",
    "              dot_graph=data['dot_graph'],\n",
    "              proceed_when_unidentifiable=True)\n",
    "\n",
    "cdf_0 = df.causal.do(x={treatment: 0}, \n",
    "              variable_types={treatment: 'b', outcome: 'c', common_cause: 'c'}, \n",
    "              outcome=outcome, \n",
    "              dot_graph=data['dot_graph'],\n",
    "              proceed_when_unidentifiable=True)\n"
   ]
  },
  {
   "cell_type": "code",
   "execution_count": 6,
   "metadata": {
    "execution": {
     "iopub.execute_input": "2022-07-15T15:47:28.695292Z",
     "iopub.status.busy": "2022-07-15T15:47:28.695083Z",
     "iopub.status.idle": "2022-07-15T15:47:28.706737Z",
     "shell.execute_reply": "2022-07-15T15:47:28.706182Z"
    },
    "scrolled": true
   },
   "outputs": [
    {
     "data": {
      "text/html": [
       "<div>\n",
       "<style scoped>\n",
       "    .dataframe tbody tr th:only-of-type {\n",
       "        vertical-align: middle;\n",
       "    }\n",
       "\n",
       "    .dataframe tbody tr th {\n",
       "        vertical-align: top;\n",
       "    }\n",
       "\n",
       "    .dataframe thead th {\n",
       "        text-align: right;\n",
       "    }\n",
       "</style>\n",
       "<table border=\"1\" class=\"dataframe\">\n",
       "  <thead>\n",
       "    <tr style=\"text-align: right;\">\n",
       "      <th></th>\n",
       "      <th>W0</th>\n",
       "      <th>v0</th>\n",
       "      <th>y</th>\n",
       "      <th>propensity_score</th>\n",
       "      <th>weight</th>\n",
       "    </tr>\n",
       "  </thead>\n",
       "  <tbody>\n",
       "    <tr>\n",
       "      <th>0</th>\n",
       "      <td>0.067776</td>\n",
       "      <td>False</td>\n",
       "      <td>0.376585</td>\n",
       "      <td>0.496331</td>\n",
       "      <td>2.014786</td>\n",
       "    </tr>\n",
       "    <tr>\n",
       "      <th>1</th>\n",
       "      <td>-0.693116</td>\n",
       "      <td>False</td>\n",
       "      <td>-0.572518</td>\n",
       "      <td>0.721742</td>\n",
       "      <td>1.385536</td>\n",
       "    </tr>\n",
       "    <tr>\n",
       "      <th>2</th>\n",
       "      <td>-0.327175</td>\n",
       "      <td>False</td>\n",
       "      <td>0.746571</td>\n",
       "      <td>0.619558</td>\n",
       "      <td>1.614055</td>\n",
       "    </tr>\n",
       "    <tr>\n",
       "      <th>3</th>\n",
       "      <td>-1.171717</td>\n",
       "      <td>False</td>\n",
       "      <td>-1.939843</td>\n",
       "      <td>0.826621</td>\n",
       "      <td>1.209744</td>\n",
       "    </tr>\n",
       "    <tr>\n",
       "      <th>4</th>\n",
       "      <td>0.125988</td>\n",
       "      <td>False</td>\n",
       "      <td>-0.392679</td>\n",
       "      <td>0.477835</td>\n",
       "      <td>2.092772</td>\n",
       "    </tr>\n",
       "    <tr>\n",
       "      <th>...</th>\n",
       "      <td>...</td>\n",
       "      <td>...</td>\n",
       "      <td>...</td>\n",
       "      <td>...</td>\n",
       "      <td>...</td>\n",
       "    </tr>\n",
       "    <tr>\n",
       "      <th>995</th>\n",
       "      <td>-0.383450</td>\n",
       "      <td>False</td>\n",
       "      <td>0.727767</td>\n",
       "      <td>0.636279</td>\n",
       "      <td>1.571638</td>\n",
       "    </tr>\n",
       "    <tr>\n",
       "      <th>996</th>\n",
       "      <td>-1.275157</td>\n",
       "      <td>False</td>\n",
       "      <td>-2.279855</td>\n",
       "      <td>0.844675</td>\n",
       "      <td>1.183887</td>\n",
       "    </tr>\n",
       "    <tr>\n",
       "      <th>997</th>\n",
       "      <td>-1.579396</td>\n",
       "      <td>False</td>\n",
       "      <td>0.114898</td>\n",
       "      <td>0.888984</td>\n",
       "      <td>1.124880</td>\n",
       "    </tr>\n",
       "    <tr>\n",
       "      <th>998</th>\n",
       "      <td>-0.400854</td>\n",
       "      <td>False</td>\n",
       "      <td>0.397264</td>\n",
       "      <td>0.641386</td>\n",
       "      <td>1.559123</td>\n",
       "    </tr>\n",
       "    <tr>\n",
       "      <th>999</th>\n",
       "      <td>-2.407880</td>\n",
       "      <td>False</td>\n",
       "      <td>-2.385324</td>\n",
       "      <td>0.958281</td>\n",
       "      <td>1.043536</td>\n",
       "    </tr>\n",
       "  </tbody>\n",
       "</table>\n",
       "<p>1000 rows × 5 columns</p>\n",
       "</div>"
      ],
      "text/plain": [
       "           W0     v0         y  propensity_score    weight\n",
       "0    0.067776  False  0.376585          0.496331  2.014786\n",
       "1   -0.693116  False -0.572518          0.721742  1.385536\n",
       "2   -0.327175  False  0.746571          0.619558  1.614055\n",
       "3   -1.171717  False -1.939843          0.826621  1.209744\n",
       "4    0.125988  False -0.392679          0.477835  2.092772\n",
       "..        ...    ...       ...               ...       ...\n",
       "995 -0.383450  False  0.727767          0.636279  1.571638\n",
       "996 -1.275157  False -2.279855          0.844675  1.183887\n",
       "997 -1.579396  False  0.114898          0.888984  1.124880\n",
       "998 -0.400854  False  0.397264          0.641386  1.559123\n",
       "999 -2.407880  False -2.385324          0.958281  1.043536\n",
       "\n",
       "[1000 rows x 5 columns]"
      ]
     },
     "execution_count": 6,
     "metadata": {},
     "output_type": "execute_result"
    }
   ],
   "source": [
    "cdf_0"
   ]
  },
  {
   "cell_type": "code",
   "execution_count": 7,
   "metadata": {
    "execution": {
     "iopub.execute_input": "2022-07-15T15:47:28.709224Z",
     "iopub.status.busy": "2022-07-15T15:47:28.709018Z",
     "iopub.status.idle": "2022-07-15T15:47:28.718314Z",
     "shell.execute_reply": "2022-07-15T15:47:28.717705Z"
    }
   },
   "outputs": [
    {
     "data": {
      "text/html": [
       "<div>\n",
       "<style scoped>\n",
       "    .dataframe tbody tr th:only-of-type {\n",
       "        vertical-align: middle;\n",
       "    }\n",
       "\n",
       "    .dataframe tbody tr th {\n",
       "        vertical-align: top;\n",
       "    }\n",
       "\n",
       "    .dataframe thead th {\n",
       "        text-align: right;\n",
       "    }\n",
       "</style>\n",
       "<table border=\"1\" class=\"dataframe\">\n",
       "  <thead>\n",
       "    <tr style=\"text-align: right;\">\n",
       "      <th></th>\n",
       "      <th>W0</th>\n",
       "      <th>v0</th>\n",
       "      <th>y</th>\n",
       "      <th>propensity_score</th>\n",
       "      <th>weight</th>\n",
       "    </tr>\n",
       "  </thead>\n",
       "  <tbody>\n",
       "    <tr>\n",
       "      <th>0</th>\n",
       "      <td>-1.309157</td>\n",
       "      <td>True</td>\n",
       "      <td>4.261877</td>\n",
       "      <td>0.149735</td>\n",
       "      <td>6.678453</td>\n",
       "    </tr>\n",
       "    <tr>\n",
       "      <th>1</th>\n",
       "      <td>-1.669790</td>\n",
       "      <td>True</td>\n",
       "      <td>3.999432</td>\n",
       "      <td>0.100166</td>\n",
       "      <td>9.983388</td>\n",
       "    </tr>\n",
       "    <tr>\n",
       "      <th>2</th>\n",
       "      <td>-0.953045</td>\n",
       "      <td>True</td>\n",
       "      <td>4.556999</td>\n",
       "      <td>0.216916</td>\n",
       "      <td>4.610084</td>\n",
       "    </tr>\n",
       "    <tr>\n",
       "      <th>3</th>\n",
       "      <td>-1.684925</td>\n",
       "      <td>True</td>\n",
       "      <td>2.678599</td>\n",
       "      <td>0.098444</td>\n",
       "      <td>10.158009</td>\n",
       "    </tr>\n",
       "    <tr>\n",
       "      <th>4</th>\n",
       "      <td>-2.900440</td>\n",
       "      <td>True</td>\n",
       "      <td>1.855275</td>\n",
       "      <td>0.022739</td>\n",
       "      <td>43.977344</td>\n",
       "    </tr>\n",
       "    <tr>\n",
       "      <th>...</th>\n",
       "      <td>...</td>\n",
       "      <td>...</td>\n",
       "      <td>...</td>\n",
       "      <td>...</td>\n",
       "      <td>...</td>\n",
       "    </tr>\n",
       "    <tr>\n",
       "      <th>995</th>\n",
       "      <td>-1.180375</td>\n",
       "      <td>True</td>\n",
       "      <td>3.846246</td>\n",
       "      <td>0.171807</td>\n",
       "      <td>5.820500</td>\n",
       "    </tr>\n",
       "    <tr>\n",
       "      <th>996</th>\n",
       "      <td>-1.287213</td>\n",
       "      <td>True</td>\n",
       "      <td>3.120002</td>\n",
       "      <td>0.153324</td>\n",
       "      <td>6.522156</td>\n",
       "    </tr>\n",
       "    <tr>\n",
       "      <th>997</th>\n",
       "      <td>-1.420642</td>\n",
       "      <td>True</td>\n",
       "      <td>4.739936</td>\n",
       "      <td>0.132564</td>\n",
       "      <td>7.543554</td>\n",
       "    </tr>\n",
       "    <tr>\n",
       "      <th>998</th>\n",
       "      <td>-1.381393</td>\n",
       "      <td>True</td>\n",
       "      <td>2.080298</td>\n",
       "      <td>0.138410</td>\n",
       "      <td>7.224907</td>\n",
       "    </tr>\n",
       "    <tr>\n",
       "      <th>999</th>\n",
       "      <td>-2.001365</td>\n",
       "      <td>True</td>\n",
       "      <td>2.687338</td>\n",
       "      <td>0.068045</td>\n",
       "      <td>14.696180</td>\n",
       "    </tr>\n",
       "  </tbody>\n",
       "</table>\n",
       "<p>1000 rows × 5 columns</p>\n",
       "</div>"
      ],
      "text/plain": [
       "           W0    v0         y  propensity_score     weight\n",
       "0   -1.309157  True  4.261877          0.149735   6.678453\n",
       "1   -1.669790  True  3.999432          0.100166   9.983388\n",
       "2   -0.953045  True  4.556999          0.216916   4.610084\n",
       "3   -1.684925  True  2.678599          0.098444  10.158009\n",
       "4   -2.900440  True  1.855275          0.022739  43.977344\n",
       "..        ...   ...       ...               ...        ...\n",
       "995 -1.180375  True  3.846246          0.171807   5.820500\n",
       "996 -1.287213  True  3.120002          0.153324   6.522156\n",
       "997 -1.420642  True  4.739936          0.132564   7.543554\n",
       "998 -1.381393  True  2.080298          0.138410   7.224907\n",
       "999 -2.001365  True  2.687338          0.068045  14.696180\n",
       "\n",
       "[1000 rows x 5 columns]"
      ]
     },
     "execution_count": 7,
     "metadata": {},
     "output_type": "execute_result"
    }
   ],
   "source": [
    "cdf_1"
   ]
  },
  {
   "cell_type": "markdown",
   "metadata": {},
   "source": [
    "## Comparing the estimate to Linear Regression\n",
    "First, estimating the effect using the causal data frame, and the 95% confidence interval."
   ]
  },
  {
   "cell_type": "code",
   "execution_count": 8,
   "metadata": {
    "execution": {
     "iopub.execute_input": "2022-07-15T15:47:28.721828Z",
     "iopub.status.busy": "2022-07-15T15:47:28.721467Z",
     "iopub.status.idle": "2022-07-15T15:47:28.817174Z",
     "shell.execute_reply": "2022-07-15T15:47:28.816527Z"
    }
   },
   "outputs": [
    {
     "data": {
      "image/png": "[encoded data removed]",
      "text/latex": [
       "$\\displaystyle 5.03823296156507$"
      ],
      "text/plain": [
       "5.0382329615650745"
      ]
     },
     "execution_count": 8,
     "metadata": {},
     "output_type": "execute_result"
    }
   ],
   "source": [
    "(cdf_1['y'] - cdf_0['y']).mean()"
   ]
  },
  {
   "cell_type": "code",
   "execution_count": 9,
   "metadata": {
    "execution": {
     "iopub.execute_input": "2022-07-15T15:47:28.820233Z",
     "iopub.status.busy": "2022-07-15T15:47:28.819673Z",
     "iopub.status.idle": "2022-07-15T15:47:28.843826Z",
     "shell.execute_reply": "2022-07-15T15:47:28.843251Z"
    }
   },
   "outputs": [
    {
     "data": {
      "image/png": "[encoded data removed]",
      "text/latex": [
       "$\\displaystyle 0.120843818039825$"
      ],
      "text/plain": [
       "0.12084381803982543"
      ]
     },
     "execution_count": 9,
     "metadata": {},
     "output_type": "execute_result"
    }
   ],
   "source": [
    "1.96*(cdf_1['y'] - cdf_0['y']).std() / np.sqrt(len(df))"
   ]
  },
  {
   "cell_type": "markdown",
   "metadata": {},
   "source": [
    "Comparing to the estimate from OLS."
   ]
  },
  {
   "cell_type": "code",
   "execution_count": 10,
   "metadata": {
    "execution": {
     "iopub.execute_input": "2022-07-15T15:47:28.847225Z",
     "iopub.status.busy": "2022-07-15T15:47:28.846683Z",
     "iopub.status.idle": "2022-07-15T15:47:28.860422Z",
     "shell.execute_reply": "2022-07-15T15:47:28.859832Z"
    }
   },
   "outputs": [
    {
     "data": {
      "text/html": [
       "<table class=\"simpletable\">\n",
       "<caption>OLS Regression Results</caption>\n",
       "<tr>\n",
       "  <th>Dep. Variable:</th>            <td>y</td>        <th>  R-squared (uncentered):</th>      <td>   0.891</td>\n",
       "</tr>\n",
       "<tr>\n",
       "  <th>Model:</th>                   <td>OLS</td>       <th>  Adj. R-squared (uncentered):</th> <td>   0.891</td>\n",
       "</tr>\n",
       "<tr>\n",
       "  <th>Method:</th>             <td>Least Squares</td>  <th>  F-statistic:       </th>          <td>   4084.</td>\n",
       "</tr>\n",
       "<tr>\n",
       "  <th>Date:</th>             <td>Fri, 15 Jul 2022</td> <th>  Prob (F-statistic):</th>           <td>  0.00</td> \n",
       "</tr>\n",
       "<tr>\n",
       "  <th>Time:</th>                 <td>15:47:28</td>     <th>  Log-Likelihood:    </th>          <td> -1433.3</td>\n",
       "</tr>\n",
       "<tr>\n",
       "  <th>No. Observations:</th>      <td>  1000</td>      <th>  AIC:               </th>          <td>   2871.</td>\n",
       "</tr>\n",
       "<tr>\n",
       "  <th>Df Residuals:</th>          <td>   998</td>      <th>  BIC:               </th>          <td>   2880.</td>\n",
       "</tr>\n",
       "<tr>\n",
       "  <th>Df Model:</th>              <td>     2</td>      <th>                     </th>              <td> </td>   \n",
       "</tr>\n",
       "<tr>\n",
       "  <th>Covariance Type:</th>      <td>nonrobust</td>    <th>                     </th>              <td> </td>   \n",
       "</tr>\n",
       "</table>\n",
       "<table class=\"simpletable\">\n",
       "<tr>\n",
       "   <td></td>     <th>coef</th>     <th>std err</th>      <th>t</th>      <th>P>|t|</th>  <th>[0.025</th>    <th>0.975]</th>  \n",
       "</tr>\n",
       "<tr>\n",
       "  <th>x1</th> <td>    0.9528</td> <td>    0.024</td> <td>   40.489</td> <td> 0.000</td> <td>    0.907</td> <td>    0.999</td>\n",
       "</tr>\n",
       "<tr>\n",
       "  <th>x2</th> <td>    5.0218</td> <td>    0.060</td> <td>   83.179</td> <td> 0.000</td> <td>    4.903</td> <td>    5.140</td>\n",
       "</tr>\n",
       "</table>\n",
       "<table class=\"simpletable\">\n",
       "<tr>\n",
       "  <th>Omnibus:</th>       <td> 0.471</td> <th>  Durbin-Watson:     </th> <td>   1.965</td>\n",
       "</tr>\n",
       "<tr>\n",
       "  <th>Prob(Omnibus):</th> <td> 0.790</td> <th>  Jarque-Bera (JB):  </th> <td>   0.551</td>\n",
       "</tr>\n",
       "<tr>\n",
       "  <th>Skew:</th>          <td>-0.040</td> <th>  Prob(JB):          </th> <td>   0.759</td>\n",
       "</tr>\n",
       "<tr>\n",
       "  <th>Kurtosis:</th>      <td> 2.918</td> <th>  Cond. No.          </th> <td>    2.57</td>\n",
       "</tr>\n",
       "</table><br/><br/>Notes:<br/>[1] R² is computed without centering (uncentered) since the model does not contain a constant.<br/>[2] Standard Errors assume that the covariance matrix of the errors is correctly specified."
      ],
      "text/plain": [
       "<class 'statsmodels.iolib.summary.Summary'>\n",
       "\"\"\"\n",
       "                                 OLS Regression Results                                \n",
       "=======================================================================================\n",
       "Dep. Variable:                      y   R-squared (uncentered):                   0.891\n",
       "Model:                            OLS   Adj. R-squared (uncentered):              0.891\n",
       "Method:                 Least Squares   F-statistic:                              4084.\n",
       "Date:                Fri, 15 Jul 2022   Prob (F-statistic):                        0.00\n",
       "Time:                        15:47:28   Log-Likelihood:                         -1433.3\n",
       "No. Observations:                1000   AIC:                                      2871.\n",
       "Df Residuals:                     998   BIC:                                      2880.\n",
       "Df Model:                           2                                                  \n",
       "Covariance Type:            nonrobust                                                  \n",
       "==============================================================================\n",
       "                 coef    std err          t      P>|t|      [0.025      0.975]\n",
       "------------------------------------------------------------------------------\n",
       "x1             0.9528      0.024     40.489      0.000       0.907       0.999\n",
       "x2             5.0218      0.060     83.179      0.000       4.903       5.140\n",
       "==============================================================================\n",
       "Omnibus:                        0.471   Durbin-Watson:                   1.965\n",
       "Prob(Omnibus):                  0.790   Jarque-Bera (JB):                0.551\n",
       "Skew:                          -0.040   Prob(JB):                        0.759\n",
       "Kurtosis:                       2.918   Cond. No.                         2.57\n",
       "==============================================================================\n",
       "\n",
       "Notes:\n",
       "[1] R² is computed without centering (uncentered) since the model does not contain a constant.\n",
       "[2] Standard Errors assume that the covariance matrix of the errors is correctly specified.\n",
       "\"\"\""
      ]
     },
     "execution_count": 10,
     "metadata": {},
     "output_type": "execute_result"
    }
   ],
   "source": [
    "model = OLS(np.asarray(df[outcome]), np.asarray(df[[common_cause, treatment]], dtype=np.float64))\n",
    "result = model.fit()\n",
    "result.summary()"
   ]
  }
 ],
 "metadata": {
  "kernelspec": {
   "display_name": "Python 3",
   "language": "python",
   "name": "python3"
  },
  "language_info": {
   "codemirror_mode": {
    "name": "ipython",
    "version": 3
   },
   "file_extension": ".py",
   "mimetype": "text/x-python",
   "name": "python",
   "nbconvert_exporter": "python",
   "pygments_lexer": "ipython3",
   "version": "3.8.10"
  },
  "toc": {
   "base_numbering": 1,
   "nav_menu": {},
   "number_sections": false,
   "sideBar": true,
   "skip_h1_title": true,
   "title_cell": "Table of Contents",
   "title_sidebar": "Contents",
   "toc_cell": false,
   "toc_position": {},
   "toc_section_display": true,
   "toc_window_display": false
  }
 },
 "nbformat": 4,
 "nbformat_minor": 4
}
