{
 "cells": [
  {
   "cell_type": "markdown",
   "metadata": {},
   "source": [
    "# Demo for the DoWhy causal API\n",
    "We show a simple example of adding a causal extension to any dataframe. "
   ]
  },
  {
   "cell_type": "code",
   "execution_count": 1,
   "metadata": {
    "execution": {
     "iopub.execute_input": "2022-07-27T15:33:11.753701Z",
     "iopub.status.busy": "2022-07-27T15:33:11.753442Z",
     "iopub.status.idle": "2022-07-27T15:33:12.831501Z",
     "shell.execute_reply": "2022-07-27T15:33:12.830490Z"
    }
   },
   "outputs": [
    {
     "name": "stdout",
     "output_type": "stream",
     "text": [
      "keywords are unexpanded, not using\n"
     ]
    }
   ],
   "source": [
    "import dowhy.datasets\n",
    "import dowhy.api\n",
    "\n",
    "import numpy as np\n",
    "import pandas as pd\n",
    "\n",
    "from statsmodels.api import OLS"
   ]
  },
  {
   "cell_type": "code",
   "execution_count": 2,
   "metadata": {
    "execution": {
     "iopub.execute_input": "2022-07-27T15:33:12.835360Z",
     "iopub.status.busy": "2022-07-27T15:33:12.834686Z",
     "iopub.status.idle": "2022-07-27T15:33:12.877810Z",
     "shell.execute_reply": "2022-07-27T15:33:12.877260Z"
    }
   },
   "outputs": [
    {
     "data": {
      "text/html": [
       "<div>\n",
       "<style scoped>\n",
       "    .dataframe tbody tr th:only-of-type {\n",
       "        vertical-align: middle;\n",
       "    }\n",
       "\n",
       "    .dataframe tbody tr th {\n",
       "        vertical-align: top;\n",
       "    }\n",
       "\n",
       "    .dataframe thead th {\n",
       "        text-align: right;\n",
       "    }\n",
       "</style>\n",
       "<table border=\"1\" class=\"dataframe\">\n",
       "  <thead>\n",
       "    <tr style=\"text-align: right;\">\n",
       "      <th></th>\n",
       "      <th>W0</th>\n",
       "      <th>v0</th>\n",
       "      <th>y</th>\n",
       "    </tr>\n",
       "  </thead>\n",
       "  <tbody>\n",
       "    <tr>\n",
       "      <th>0</th>\n",
       "      <td>-0.121631</td>\n",
       "      <td>True</td>\n",
       "      <td>6.257028</td>\n",
       "    </tr>\n",
       "    <tr>\n",
       "      <th>1</th>\n",
       "      <td>0.658344</td>\n",
       "      <td>False</td>\n",
       "      <td>3.059273</td>\n",
       "    </tr>\n",
       "    <tr>\n",
       "      <th>2</th>\n",
       "      <td>1.844799</td>\n",
       "      <td>True</td>\n",
       "      <td>6.900892</td>\n",
       "    </tr>\n",
       "    <tr>\n",
       "      <th>3</th>\n",
       "      <td>0.461885</td>\n",
       "      <td>True</td>\n",
       "      <td>6.053034</td>\n",
       "    </tr>\n",
       "    <tr>\n",
       "      <th>4</th>\n",
       "      <td>2.506200</td>\n",
       "      <td>True</td>\n",
       "      <td>7.845425</td>\n",
       "    </tr>\n",
       "    <tr>\n",
       "      <th>...</th>\n",
       "      <td>...</td>\n",
       "      <td>...</td>\n",
       "      <td>...</td>\n",
       "    </tr>\n",
       "    <tr>\n",
       "      <th>995</th>\n",
       "      <td>0.173669</td>\n",
       "      <td>False</td>\n",
       "      <td>0.148891</td>\n",
       "    </tr>\n",
       "    <tr>\n",
       "      <th>996</th>\n",
       "      <td>-0.133935</td>\n",
       "      <td>False</td>\n",
       "      <td>-1.114377</td>\n",
       "    </tr>\n",
       "    <tr>\n",
       "      <th>997</th>\n",
       "      <td>0.378183</td>\n",
       "      <td>True</td>\n",
       "      <td>5.318726</td>\n",
       "    </tr>\n",
       "    <tr>\n",
       "      <th>998</th>\n",
       "      <td>0.431475</td>\n",
       "      <td>True</td>\n",
       "      <td>7.346879</td>\n",
       "    </tr>\n",
       "    <tr>\n",
       "      <th>999</th>\n",
       "      <td>1.458225</td>\n",
       "      <td>True</td>\n",
       "      <td>6.284530</td>\n",
       "    </tr>\n",
       "  </tbody>\n",
       "</table>\n",
       "<p>1000 rows × 3 columns</p>\n",
       "</div>"
      ],
      "text/plain": [
       "           W0     v0         y\n",
       "0   -0.121631   True  6.257028\n",
       "1    0.658344  False  3.059273\n",
       "2    1.844799   True  6.900892\n",
       "3    0.461885   True  6.053034\n",
       "4    2.506200   True  7.845425\n",
       "..        ...    ...       ...\n",
       "995  0.173669  False  0.148891\n",
       "996 -0.133935  False -1.114377\n",
       "997  0.378183   True  5.318726\n",
       "998  0.431475   True  7.346879\n",
       "999  1.458225   True  6.284530\n",
       "\n",
       "[1000 rows x 3 columns]"
      ]
     },
     "execution_count": 2,
     "metadata": {},
     "output_type": "execute_result"
    }
   ],
   "source": [
    "data = dowhy.datasets.linear_dataset(beta=5,\n",
    "        num_common_causes=1,\n",
    "        num_instruments = 0,\n",
    "        num_samples=1000,\n",
    "        treatment_is_binary=True)\n",
    "df = data['df']\n",
    "df['y'] = df['y'] + np.random.normal(size=len(df)) # Adding noise to data. Without noise, the variance in Y|X, Z is zero, and mcmc fails.\n",
    "#data['dot_graph'] = 'digraph { v ->y;X0-> v;X0-> y;}'\n",
    "\n",
    "treatment= data[\"treatment_name\"][0]\n",
    "outcome = data[\"outcome_name\"][0]\n",
    "common_cause = data[\"common_causes_names\"][0]\n",
    "df"
   ]
  },
  {
   "cell_type": "code",
   "execution_count": 3,
   "metadata": {
    "execution": {
     "iopub.execute_input": "2022-07-27T15:33:12.881229Z",
     "iopub.status.busy": "2022-07-27T15:33:12.880744Z",
     "iopub.status.idle": "2022-07-27T15:33:13.624077Z",
     "shell.execute_reply": "2022-07-27T15:33:13.623548Z"
    }
   },
   "outputs": [
    {
     "data": {
      "text/plain": [
       "<AxesSubplot:xlabel='v0'>"
      ]
     },
     "execution_count": 3,
     "metadata": {},
     "output_type": "execute_result"
    },
    {
     "data": {
      "image/png": "[encoded data removed]",
      "text/plain": [
       "<Figure size 432x288 with 1 Axes>"
      ]
     },
     "metadata": {
      "needs_background": "light"
     },
     "output_type": "display_data"
    }
   ],
   "source": [
    "# data['df'] is just a regular pandas.DataFrame\n",
    "df.causal.do(x=treatment,\n",
    "                     variable_types={treatment: 'b', outcome: 'c', common_cause: 'c'},\n",
    "                     outcome=outcome,\n",
    "                     common_causes=[common_cause],\n",
    "                     proceed_when_unidentifiable=True).groupby(treatment).mean().plot(y=outcome, kind='bar')"
   ]
  },
  {
   "cell_type": "code",
   "execution_count": 4,
   "metadata": {
    "execution": {
     "iopub.execute_input": "2022-07-27T15:33:13.628081Z",
     "iopub.status.busy": "2022-07-27T15:33:13.627009Z",
     "iopub.status.idle": "2022-07-27T15:33:13.715334Z",
     "shell.execute_reply": "2022-07-27T15:33:13.714675Z"
    }
   },
   "outputs": [
    {
     "data": {
      "text/plain": [
       "<AxesSubplot:xlabel='v0'>"
      ]
     },
     "execution_count": 4,
     "metadata": {},
     "output_type": "execute_result"
    },
    {
     "data": {
      "image/png": "[encoded data removed]",
      "text/plain": [
       "<Figure size 432x288 with 1 Axes>"
      ]
     },
     "metadata": {
      "needs_background": "light"
     },
     "output_type": "display_data"
    }
   ],
   "source": [
    "df.causal.do(x={treatment: 1}, \n",
    "              variable_types={treatment:'b', outcome: 'c', common_cause: 'c'}, \n",
    "              outcome=outcome,\n",
    "              method='weighting', \n",
    "              common_causes=[common_cause],\n",
    "              proceed_when_unidentifiable=True).groupby(treatment).mean().plot(y=outcome, kind='bar')"
   ]
  },
  {
   "cell_type": "code",
   "execution_count": 5,
   "metadata": {
    "execution": {
     "iopub.execute_input": "2022-07-27T15:33:13.718716Z",
     "iopub.status.busy": "2022-07-27T15:33:13.718492Z",
     "iopub.status.idle": "2022-07-27T15:33:13.749190Z",
     "shell.execute_reply": "2022-07-27T15:33:13.748604Z"
    }
   },
   "outputs": [],
   "source": [
    "cdf_1 = df.causal.do(x={treatment: 1}, \n",
    "              variable_types={treatment: 'b', outcome: 'c', common_cause: 'c'}, \n",
    "              outcome=outcome, \n",
    "              dot_graph=data['dot_graph'],\n",
    "              proceed_when_unidentifiable=True)\n",
    "\n",
    "cdf_0 = df.causal.do(x={treatment: 0}, \n",
    "              variable_types={treatment: 'b', outcome: 'c', common_cause: 'c'}, \n",
    "              outcome=outcome, \n",
    "              dot_graph=data['dot_graph'],\n",
    "              proceed_when_unidentifiable=True)\n"
   ]
  },
  {
   "cell_type": "code",
   "execution_count": 6,
   "metadata": {
    "execution": {
     "iopub.execute_input": "2022-07-27T15:33:13.752405Z",
     "iopub.status.busy": "2022-07-27T15:33:13.752178Z",
     "iopub.status.idle": "2022-07-27T15:33:13.764025Z",
     "shell.execute_reply": "2022-07-27T15:33:13.763498Z"
    },
    "scrolled": true
   },
   "outputs": [
    {
     "data": {
      "text/html": [
       "<div>\n",
       "<style scoped>\n",
       "    .dataframe tbody tr th:only-of-type {\n",
       "        vertical-align: middle;\n",
       "    }\n",
       "\n",
       "    .dataframe tbody tr th {\n",
       "        vertical-align: top;\n",
       "    }\n",
       "\n",
       "    .dataframe thead th {\n",
       "        text-align: right;\n",
       "    }\n",
       "</style>\n",
       "<table border=\"1\" class=\"dataframe\">\n",
       "  <thead>\n",
       "    <tr style=\"text-align: right;\">\n",
       "      <th></th>\n",
       "      <th>W0</th>\n",
       "      <th>v0</th>\n",
       "      <th>y</th>\n",
       "      <th>propensity_score</th>\n",
       "      <th>weight</th>\n",
       "    </tr>\n",
       "  </thead>\n",
       "  <tbody>\n",
       "    <tr>\n",
       "      <th>0</th>\n",
       "      <td>1.041332</td>\n",
       "      <td>False</td>\n",
       "      <td>1.527358</td>\n",
       "      <td>0.334075</td>\n",
       "      <td>2.993341</td>\n",
       "    </tr>\n",
       "    <tr>\n",
       "      <th>1</th>\n",
       "      <td>1.471706</td>\n",
       "      <td>False</td>\n",
       "      <td>1.042769</td>\n",
       "      <td>0.284555</td>\n",
       "      <td>3.514262</td>\n",
       "    </tr>\n",
       "    <tr>\n",
       "      <th>2</th>\n",
       "      <td>0.908297</td>\n",
       "      <td>False</td>\n",
       "      <td>2.267092</td>\n",
       "      <td>0.350226</td>\n",
       "      <td>2.855299</td>\n",
       "    </tr>\n",
       "    <tr>\n",
       "      <th>3</th>\n",
       "      <td>1.638731</td>\n",
       "      <td>False</td>\n",
       "      <td>2.492324</td>\n",
       "      <td>0.266573</td>\n",
       "      <td>3.751322</td>\n",
       "    </tr>\n",
       "    <tr>\n",
       "      <th>4</th>\n",
       "      <td>0.833440</td>\n",
       "      <td>False</td>\n",
       "      <td>1.395589</td>\n",
       "      <td>0.359470</td>\n",
       "      <td>2.781871</td>\n",
       "    </tr>\n",
       "    <tr>\n",
       "      <th>...</th>\n",
       "      <td>...</td>\n",
       "      <td>...</td>\n",
       "      <td>...</td>\n",
       "      <td>...</td>\n",
       "      <td>...</td>\n",
       "    </tr>\n",
       "    <tr>\n",
       "      <th>995</th>\n",
       "      <td>0.920315</td>\n",
       "      <td>False</td>\n",
       "      <td>-0.550921</td>\n",
       "      <td>0.348752</td>\n",
       "      <td>2.867366</td>\n",
       "    </tr>\n",
       "    <tr>\n",
       "      <th>996</th>\n",
       "      <td>1.039789</td>\n",
       "      <td>False</td>\n",
       "      <td>-0.277902</td>\n",
       "      <td>0.334260</td>\n",
       "      <td>2.991683</td>\n",
       "    </tr>\n",
       "    <tr>\n",
       "      <th>997</th>\n",
       "      <td>2.093442</td>\n",
       "      <td>False</td>\n",
       "      <td>1.878053</td>\n",
       "      <td>0.221426</td>\n",
       "      <td>4.516190</td>\n",
       "    </tr>\n",
       "    <tr>\n",
       "      <th>998</th>\n",
       "      <td>-0.068251</td>\n",
       "      <td>False</td>\n",
       "      <td>-0.593771</td>\n",
       "      <td>0.477205</td>\n",
       "      <td>2.095535</td>\n",
       "    </tr>\n",
       "    <tr>\n",
       "      <th>999</th>\n",
       "      <td>1.222007</td>\n",
       "      <td>False</td>\n",
       "      <td>-0.595544</td>\n",
       "      <td>0.312753</td>\n",
       "      <td>3.197407</td>\n",
       "    </tr>\n",
       "  </tbody>\n",
       "</table>\n",
       "<p>1000 rows × 5 columns</p>\n",
       "</div>"
      ],
      "text/plain": [
       "           W0     v0         y  propensity_score    weight\n",
       "0    1.041332  False  1.527358          0.334075  2.993341\n",
       "1    1.471706  False  1.042769          0.284555  3.514262\n",
       "2    0.908297  False  2.267092          0.350226  2.855299\n",
       "3    1.638731  False  2.492324          0.266573  3.751322\n",
       "4    0.833440  False  1.395589          0.359470  2.781871\n",
       "..        ...    ...       ...               ...       ...\n",
       "995  0.920315  False -0.550921          0.348752  2.867366\n",
       "996  1.039789  False -0.277902          0.334260  2.991683\n",
       "997  2.093442  False  1.878053          0.221426  4.516190\n",
       "998 -0.068251  False -0.593771          0.477205  2.095535\n",
       "999  1.222007  False -0.595544          0.312753  3.197407\n",
       "\n",
       "[1000 rows x 5 columns]"
      ]
     },
     "execution_count": 6,
     "metadata": {},
     "output_type": "execute_result"
    }
   ],
   "source": [
    "cdf_0"
   ]
  },
  {
   "cell_type": "code",
   "execution_count": 7,
   "metadata": {
    "execution": {
     "iopub.execute_input": "2022-07-27T15:33:13.767078Z",
     "iopub.status.busy": "2022-07-27T15:33:13.766758Z",
     "iopub.status.idle": "2022-07-27T15:33:13.778011Z",
     "shell.execute_reply": "2022-07-27T15:33:13.777492Z"
    }
   },
   "outputs": [
    {
     "data": {
      "text/html": [
       "<div>\n",
       "<style scoped>\n",
       "    .dataframe tbody tr th:only-of-type {\n",
       "        vertical-align: middle;\n",
       "    }\n",
       "\n",
       "    .dataframe tbody tr th {\n",
       "        vertical-align: top;\n",
       "    }\n",
       "\n",
       "    .dataframe thead th {\n",
       "        text-align: right;\n",
       "    }\n",
       "</style>\n",
       "<table border=\"1\" class=\"dataframe\">\n",
       "  <thead>\n",
       "    <tr style=\"text-align: right;\">\n",
       "      <th></th>\n",
       "      <th>W0</th>\n",
       "      <th>v0</th>\n",
       "      <th>y</th>\n",
       "      <th>propensity_score</th>\n",
       "      <th>weight</th>\n",
       "    </tr>\n",
       "  </thead>\n",
       "  <tbody>\n",
       "    <tr>\n",
       "      <th>0</th>\n",
       "      <td>-0.361622</td>\n",
       "      <td>True</td>\n",
       "      <td>2.621245</td>\n",
       "      <td>0.483252</td>\n",
       "      <td>2.069314</td>\n",
       "    </tr>\n",
       "    <tr>\n",
       "      <th>1</th>\n",
       "      <td>1.007593</td>\n",
       "      <td>True</td>\n",
       "      <td>7.852687</td>\n",
       "      <td>0.661864</td>\n",
       "      <td>1.510885</td>\n",
       "    </tr>\n",
       "    <tr>\n",
       "      <th>2</th>\n",
       "      <td>0.157642</td>\n",
       "      <td>True</td>\n",
       "      <td>3.108021</td>\n",
       "      <td>0.553075</td>\n",
       "      <td>1.808074</td>\n",
       "    </tr>\n",
       "    <tr>\n",
       "      <th>3</th>\n",
       "      <td>0.899288</td>\n",
       "      <td>True</td>\n",
       "      <td>5.564904</td>\n",
       "      <td>0.648667</td>\n",
       "      <td>1.541623</td>\n",
       "    </tr>\n",
       "    <tr>\n",
       "      <th>4</th>\n",
       "      <td>1.194135</td>\n",
       "      <td>True</td>\n",
       "      <td>7.744064</td>\n",
       "      <td>0.684006</td>\n",
       "      <td>1.461976</td>\n",
       "    </tr>\n",
       "    <tr>\n",
       "      <th>...</th>\n",
       "      <td>...</td>\n",
       "      <td>...</td>\n",
       "      <td>...</td>\n",
       "      <td>...</td>\n",
       "      <td>...</td>\n",
       "    </tr>\n",
       "    <tr>\n",
       "      <th>995</th>\n",
       "      <td>1.088137</td>\n",
       "      <td>True</td>\n",
       "      <td>6.463285</td>\n",
       "      <td>0.671519</td>\n",
       "      <td>1.489162</td>\n",
       "    </tr>\n",
       "    <tr>\n",
       "      <th>996</th>\n",
       "      <td>0.964516</td>\n",
       "      <td>True</td>\n",
       "      <td>6.671230</td>\n",
       "      <td>0.656644</td>\n",
       "      <td>1.522896</td>\n",
       "    </tr>\n",
       "    <tr>\n",
       "      <th>997</th>\n",
       "      <td>0.016164</td>\n",
       "      <td>True</td>\n",
       "      <td>5.926538</td>\n",
       "      <td>0.534142</td>\n",
       "      <td>1.872161</td>\n",
       "    </tr>\n",
       "    <tr>\n",
       "      <th>998</th>\n",
       "      <td>-0.078306</td>\n",
       "      <td>True</td>\n",
       "      <td>4.497298</td>\n",
       "      <td>0.521441</td>\n",
       "      <td>1.917761</td>\n",
       "    </tr>\n",
       "    <tr>\n",
       "      <th>999</th>\n",
       "      <td>1.100473</td>\n",
       "      <td>True</td>\n",
       "      <td>5.258332</td>\n",
       "      <td>0.672985</td>\n",
       "      <td>1.485918</td>\n",
       "    </tr>\n",
       "  </tbody>\n",
       "</table>\n",
       "<p>1000 rows × 5 columns</p>\n",
       "</div>"
      ],
      "text/plain": [
       "           W0    v0         y  propensity_score    weight\n",
       "0   -0.361622  True  2.621245          0.483252  2.069314\n",
       "1    1.007593  True  7.852687          0.661864  1.510885\n",
       "2    0.157642  True  3.108021          0.553075  1.808074\n",
       "3    0.899288  True  5.564904          0.648667  1.541623\n",
       "4    1.194135  True  7.744064          0.684006  1.461976\n",
       "..        ...   ...       ...               ...       ...\n",
       "995  1.088137  True  6.463285          0.671519  1.489162\n",
       "996  0.964516  True  6.671230          0.656644  1.522896\n",
       "997  0.016164  True  5.926538          0.534142  1.872161\n",
       "998 -0.078306  True  4.497298          0.521441  1.917761\n",
       "999  1.100473  True  5.258332          0.672985  1.485918\n",
       "\n",
       "[1000 rows x 5 columns]"
      ]
     },
     "execution_count": 7,
     "metadata": {},
     "output_type": "execute_result"
    }
   ],
   "source": [
    "cdf_1"
   ]
  },
  {
   "cell_type": "markdown",
   "metadata": {},
   "source": [
    "## Comparing the estimate to Linear Regression\n",
    "First, estimating the effect using the causal data frame, and the 95% confidence interval."
   ]
  },
  {
   "cell_type": "code",
   "execution_count": 8,
   "metadata": {
    "execution": {
     "iopub.execute_input": "2022-07-27T15:33:13.780816Z",
     "iopub.status.busy": "2022-07-27T15:33:13.780504Z",
     "iopub.status.idle": "2022-07-27T15:33:13.876406Z",
     "shell.execute_reply": "2022-07-27T15:33:13.875866Z"
    }
   },
   "outputs": [
    {
     "data": {
      "image/png": "[encoded data removed]",
      "text/latex": [
       "$\\displaystyle 5.07078935175525$"
      ],
      "text/plain": [
       "5.070789351755247"
      ]
     },
     "execution_count": 8,
     "metadata": {},
     "output_type": "execute_result"
    }
   ],
   "source": [
    "(cdf_1['y'] - cdf_0['y']).mean()"
   ]
  },
  {
   "cell_type": "code",
   "execution_count": 9,
   "metadata": {
    "execution": {
     "iopub.execute_input": "2022-07-27T15:33:13.879380Z",
     "iopub.status.busy": "2022-07-27T15:33:13.878871Z",
     "iopub.status.idle": "2022-07-27T15:33:13.904694Z",
     "shell.execute_reply": "2022-07-27T15:33:13.904158Z"
    }
   },
   "outputs": [
    {
     "data": {
      "image/png": "[encoded data removed]",
      "text/latex": [
       "$\\displaystyle 0.126276338956019$"
      ],
      "text/plain": [
       "0.1262763389560192"
      ]
     },
     "execution_count": 9,
     "metadata": {},
     "output_type": "execute_result"
    }
   ],
   "source": [
    "1.96*(cdf_1['y'] - cdf_0['y']).std() / np.sqrt(len(df))"
   ]
  },
  {
   "cell_type": "markdown",
   "metadata": {},
   "source": [
    "Comparing to the estimate from OLS."
   ]
  },
  {
   "cell_type": "code",
   "execution_count": 10,
   "metadata": {
    "execution": {
     "iopub.execute_input": "2022-07-27T15:33:13.908378Z",
     "iopub.status.busy": "2022-07-27T15:33:13.907206Z",
     "iopub.status.idle": "2022-07-27T15:33:13.923153Z",
     "shell.execute_reply": "2022-07-27T15:33:13.922628Z"
    }
   },
   "outputs": [
    {
     "data": {
      "text/html": [
       "<table class=\"simpletable\">\n",
       "<caption>OLS Regression Results</caption>\n",
       "<tr>\n",
       "  <th>Dep. Variable:</th>            <td>y</td>        <th>  R-squared (uncentered):</th>      <td>   0.964</td> \n",
       "</tr>\n",
       "<tr>\n",
       "  <th>Model:</th>                   <td>OLS</td>       <th>  Adj. R-squared (uncentered):</th> <td>   0.963</td> \n",
       "</tr>\n",
       "<tr>\n",
       "  <th>Method:</th>             <td>Least Squares</td>  <th>  F-statistic:       </th>          <td>1.319e+04</td>\n",
       "</tr>\n",
       "<tr>\n",
       "  <th>Date:</th>             <td>Wed, 27 Jul 2022</td> <th>  Prob (F-statistic):</th>           <td>  0.00</td>  \n",
       "</tr>\n",
       "<tr>\n",
       "  <th>Time:</th>                 <td>15:33:13</td>     <th>  Log-Likelihood:    </th>          <td> -1416.2</td> \n",
       "</tr>\n",
       "<tr>\n",
       "  <th>No. Observations:</th>      <td>  1000</td>      <th>  AIC:               </th>          <td>   2836.</td> \n",
       "</tr>\n",
       "<tr>\n",
       "  <th>Df Residuals:</th>          <td>   998</td>      <th>  BIC:               </th>          <td>   2846.</td> \n",
       "</tr>\n",
       "<tr>\n",
       "  <th>Df Model:</th>              <td>     2</td>      <th>                     </th>              <td> </td>    \n",
       "</tr>\n",
       "<tr>\n",
       "  <th>Covariance Type:</th>      <td>nonrobust</td>    <th>                     </th>              <td> </td>    \n",
       "</tr>\n",
       "</table>\n",
       "<table class=\"simpletable\">\n",
       "<tr>\n",
       "   <td></td>     <th>coef</th>     <th>std err</th>      <th>t</th>      <th>P>|t|</th>  <th>[0.025</th>    <th>0.975]</th>  \n",
       "</tr>\n",
       "<tr>\n",
       "  <th>x1</th> <td>    1.1116</td> <td>    0.030</td> <td>   36.567</td> <td> 0.000</td> <td>    1.052</td> <td>    1.171</td>\n",
       "</tr>\n",
       "<tr>\n",
       "  <th>x2</th> <td>    4.9687</td> <td>    0.052</td> <td>   95.287</td> <td> 0.000</td> <td>    4.866</td> <td>    5.071</td>\n",
       "</tr>\n",
       "</table>\n",
       "<table class=\"simpletable\">\n",
       "<tr>\n",
       "  <th>Omnibus:</th>       <td> 2.725</td> <th>  Durbin-Watson:     </th> <td>   2.115</td>\n",
       "</tr>\n",
       "<tr>\n",
       "  <th>Prob(Omnibus):</th> <td> 0.256</td> <th>  Jarque-Bera (JB):  </th> <td>   2.393</td>\n",
       "</tr>\n",
       "<tr>\n",
       "  <th>Skew:</th>          <td>-0.023</td> <th>  Prob(JB):          </th> <td>   0.302</td>\n",
       "</tr>\n",
       "<tr>\n",
       "  <th>Kurtosis:</th>      <td> 2.765</td> <th>  Cond. No.          </th> <td>    2.67</td>\n",
       "</tr>\n",
       "</table><br/><br/>Notes:<br/>[1] R² is computed without centering (uncentered) since the model does not contain a constant.<br/>[2] Standard Errors assume that the covariance matrix of the errors is correctly specified."
      ],
      "text/plain": [
       "<class 'statsmodels.iolib.summary.Summary'>\n",
       "\"\"\"\n",
       "                                 OLS Regression Results                                \n",
       "=======================================================================================\n",
       "Dep. Variable:                      y   R-squared (uncentered):                   0.964\n",
       "Model:                            OLS   Adj. R-squared (uncentered):              0.963\n",
       "Method:                 Least Squares   F-statistic:                          1.319e+04\n",
       "Date:                Wed, 27 Jul 2022   Prob (F-statistic):                        0.00\n",
       "Time:                        15:33:13   Log-Likelihood:                         -1416.2\n",
       "No. Observations:                1000   AIC:                                      2836.\n",
       "Df Residuals:                     998   BIC:                                      2846.\n",
       "Df Model:                           2                                                  \n",
       "Covariance Type:            nonrobust                                                  \n",
       "==============================================================================\n",
       "                 coef    std err          t      P>|t|      [0.025      0.975]\n",
       "------------------------------------------------------------------------------\n",
       "x1             1.1116      0.030     36.567      0.000       1.052       1.171\n",
       "x2             4.9687      0.052     95.287      0.000       4.866       5.071\n",
       "==============================================================================\n",
       "Omnibus:                        2.725   Durbin-Watson:                   2.115\n",
       "Prob(Omnibus):                  0.256   Jarque-Bera (JB):                2.393\n",
       "Skew:                          -0.023   Prob(JB):                        0.302\n",
       "Kurtosis:                       2.765   Cond. No.                         2.67\n",
       "==============================================================================\n",
       "\n",
       "Notes:\n",
       "[1] R² is computed without centering (uncentered) since the model does not contain a constant.\n",
       "[2] Standard Errors assume that the covariance matrix of the errors is correctly specified.\n",
       "\"\"\""
      ]
     },
     "execution_count": 10,
     "metadata": {},
     "output_type": "execute_result"
    }
   ],
   "source": [
    "model = OLS(np.asarray(df[outcome]), np.asarray(df[[common_cause, treatment]], dtype=np.float64))\n",
    "result = model.fit()\n",
    "result.summary()"
   ]
  }
 ],
 "metadata": {
  "kernelspec": {
   "display_name": "Python 3",
   "language": "python",
   "name": "python3"
  },
  "language_info": {
   "codemirror_mode": {
    "name": "ipython",
    "version": 3
   },
   "file_extension": ".py",
   "mimetype": "text/x-python",
   "name": "python",
   "nbconvert_exporter": "python",
   "pygments_lexer": "ipython3",
   "version": "3.8.10"
  },
  "toc": {
   "base_numbering": 1,
   "nav_menu": {},
   "number_sections": false,
   "sideBar": true,
   "skip_h1_title": true,
   "title_cell": "Table of Contents",
   "title_sidebar": "Contents",
   "toc_cell": false,
   "toc_position": {},
   "toc_section_display": true,
   "toc_window_display": false
  }
 },
 "nbformat": 4,
 "nbformat_minor": 4
}
