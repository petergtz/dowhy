{
 "cells": [
  {
   "cell_type": "markdown",
   "metadata": {},
   "source": [
    "# Demo for the DoWhy causal API\n",
    "We show a simple example of adding a causal extension to any dataframe. "
   ]
  },
  {
   "cell_type": "code",
   "execution_count": 1,
   "metadata": {
    "execution": {
     "iopub.execute_input": "2022-07-28T08:38:52.849605Z",
     "iopub.status.busy": "2022-07-28T08:38:52.849264Z",
     "iopub.status.idle": "2022-07-28T08:38:54.374323Z",
     "shell.execute_reply": "2022-07-28T08:38:54.373357Z"
    }
   },
   "outputs": [
    {
     "name": "stdout",
     "output_type": "stream",
     "text": [
      "keywords are unexpanded, not using\n"
     ]
    }
   ],
   "source": [
    "import dowhy.datasets\n",
    "import dowhy.api\n",
    "\n",
    "import numpy as np\n",
    "import pandas as pd\n",
    "\n",
    "from statsmodels.api import OLS"
   ]
  },
  {
   "cell_type": "code",
   "execution_count": 2,
   "metadata": {
    "execution": {
     "iopub.execute_input": "2022-07-28T08:38:54.379556Z",
     "iopub.status.busy": "2022-07-28T08:38:54.378658Z",
     "iopub.status.idle": "2022-07-28T08:38:54.439034Z",
     "shell.execute_reply": "2022-07-28T08:38:54.438023Z"
    }
   },
   "outputs": [
    {
     "data": {
      "text/html": [
       "<div>\n",
       "<style scoped>\n",
       "    .dataframe tbody tr th:only-of-type {\n",
       "        vertical-align: middle;\n",
       "    }\n",
       "\n",
       "    .dataframe tbody tr th {\n",
       "        vertical-align: top;\n",
       "    }\n",
       "\n",
       "    .dataframe thead th {\n",
       "        text-align: right;\n",
       "    }\n",
       "</style>\n",
       "<table border=\"1\" class=\"dataframe\">\n",
       "  <thead>\n",
       "    <tr style=\"text-align: right;\">\n",
       "      <th></th>\n",
       "      <th>W0</th>\n",
       "      <th>v0</th>\n",
       "      <th>y</th>\n",
       "    </tr>\n",
       "  </thead>\n",
       "  <tbody>\n",
       "    <tr>\n",
       "      <th>0</th>\n",
       "      <td>0.563128</td>\n",
       "      <td>False</td>\n",
       "      <td>1.619841</td>\n",
       "    </tr>\n",
       "    <tr>\n",
       "      <th>1</th>\n",
       "      <td>-0.757476</td>\n",
       "      <td>True</td>\n",
       "      <td>6.361084</td>\n",
       "    </tr>\n",
       "    <tr>\n",
       "      <th>2</th>\n",
       "      <td>0.082374</td>\n",
       "      <td>True</td>\n",
       "      <td>7.954855</td>\n",
       "    </tr>\n",
       "    <tr>\n",
       "      <th>3</th>\n",
       "      <td>-1.519214</td>\n",
       "      <td>False</td>\n",
       "      <td>0.634509</td>\n",
       "    </tr>\n",
       "    <tr>\n",
       "      <th>4</th>\n",
       "      <td>-0.501509</td>\n",
       "      <td>True</td>\n",
       "      <td>4.896844</td>\n",
       "    </tr>\n",
       "    <tr>\n",
       "      <th>...</th>\n",
       "      <td>...</td>\n",
       "      <td>...</td>\n",
       "      <td>...</td>\n",
       "    </tr>\n",
       "    <tr>\n",
       "      <th>995</th>\n",
       "      <td>-0.182129</td>\n",
       "      <td>True</td>\n",
       "      <td>1.881910</td>\n",
       "    </tr>\n",
       "    <tr>\n",
       "      <th>996</th>\n",
       "      <td>0.890710</td>\n",
       "      <td>True</td>\n",
       "      <td>5.868430</td>\n",
       "    </tr>\n",
       "    <tr>\n",
       "      <th>997</th>\n",
       "      <td>-0.913784</td>\n",
       "      <td>False</td>\n",
       "      <td>-0.974408</td>\n",
       "    </tr>\n",
       "    <tr>\n",
       "      <th>998</th>\n",
       "      <td>-0.395729</td>\n",
       "      <td>False</td>\n",
       "      <td>0.006747</td>\n",
       "    </tr>\n",
       "    <tr>\n",
       "      <th>999</th>\n",
       "      <td>-1.087626</td>\n",
       "      <td>False</td>\n",
       "      <td>-0.526005</td>\n",
       "    </tr>\n",
       "  </tbody>\n",
       "</table>\n",
       "<p>1000 rows × 3 columns</p>\n",
       "</div>"
      ],
      "text/plain": [
       "           W0     v0         y\n",
       "0    0.563128  False  1.619841\n",
       "1   -0.757476   True  6.361084\n",
       "2    0.082374   True  7.954855\n",
       "3   -1.519214  False  0.634509\n",
       "4   -0.501509   True  4.896844\n",
       "..        ...    ...       ...\n",
       "995 -0.182129   True  1.881910\n",
       "996  0.890710   True  5.868430\n",
       "997 -0.913784  False -0.974408\n",
       "998 -0.395729  False  0.006747\n",
       "999 -1.087626  False -0.526005\n",
       "\n",
       "[1000 rows x 3 columns]"
      ]
     },
     "execution_count": 2,
     "metadata": {},
     "output_type": "execute_result"
    }
   ],
   "source": [
    "data = dowhy.datasets.linear_dataset(beta=5,\n",
    "        num_common_causes=1,\n",
    "        num_instruments = 0,\n",
    "        num_samples=1000,\n",
    "        treatment_is_binary=True)\n",
    "df = data['df']\n",
    "df['y'] = df['y'] + np.random.normal(size=len(df)) # Adding noise to data. Without noise, the variance in Y|X, Z is zero, and mcmc fails.\n",
    "#data['dot_graph'] = 'digraph { v ->y;X0-> v;X0-> y;}'\n",
    "\n",
    "treatment= data[\"treatment_name\"][0]\n",
    "outcome = data[\"outcome_name\"][0]\n",
    "common_cause = data[\"common_causes_names\"][0]\n",
    "df"
   ]
  },
  {
   "cell_type": "code",
   "execution_count": 3,
   "metadata": {
    "execution": {
     "iopub.execute_input": "2022-07-28T08:38:54.442775Z",
     "iopub.status.busy": "2022-07-28T08:38:54.442465Z",
     "iopub.status.idle": "2022-07-28T08:38:55.405641Z",
     "shell.execute_reply": "2022-07-28T08:38:55.404936Z"
    }
   },
   "outputs": [
    {
     "data": {
      "text/plain": [
       "<AxesSubplot:xlabel='v0'>"
      ]
     },
     "execution_count": 3,
     "metadata": {},
     "output_type": "execute_result"
    },
    {
     "data": {
      "image/png": "[encoded data removed]",
      "text/plain": [
       "<Figure size 432x288 with 1 Axes>"
      ]
     },
     "metadata": {
      "needs_background": "light"
     },
     "output_type": "display_data"
    }
   ],
   "source": [
    "# data['df'] is just a regular pandas.DataFrame\n",
    "df.causal.do(x=treatment,\n",
    "                     variable_types={treatment: 'b', outcome: 'c', common_cause: 'c'},\n",
    "                     outcome=outcome,\n",
    "                     common_causes=[common_cause],\n",
    "                     proceed_when_unidentifiable=True).groupby(treatment).mean().plot(y=outcome, kind='bar')"
   ]
  },
  {
   "cell_type": "code",
   "execution_count": 4,
   "metadata": {
    "execution": {
     "iopub.execute_input": "2022-07-28T08:38:55.410865Z",
     "iopub.status.busy": "2022-07-28T08:38:55.409393Z",
     "iopub.status.idle": "2022-07-28T08:38:55.522657Z",
     "shell.execute_reply": "2022-07-28T08:38:55.521959Z"
    }
   },
   "outputs": [
    {
     "data": {
      "text/plain": [
       "<AxesSubplot:xlabel='v0'>"
      ]
     },
     "execution_count": 4,
     "metadata": {},
     "output_type": "execute_result"
    },
    {
     "data": {
      "image/png": "[encoded data removed]",
      "text/plain": [
       "<Figure size 432x288 with 1 Axes>"
      ]
     },
     "metadata": {
      "needs_background": "light"
     },
     "output_type": "display_data"
    }
   ],
   "source": [
    "df.causal.do(x={treatment: 1}, \n",
    "              variable_types={treatment:'b', outcome: 'c', common_cause: 'c'}, \n",
    "              outcome=outcome,\n",
    "              method='weighting', \n",
    "              common_causes=[common_cause],\n",
    "              proceed_when_unidentifiable=True).groupby(treatment).mean().plot(y=outcome, kind='bar')"
   ]
  },
  {
   "cell_type": "code",
   "execution_count": 5,
   "metadata": {
    "execution": {
     "iopub.execute_input": "2022-07-28T08:38:55.528096Z",
     "iopub.status.busy": "2022-07-28T08:38:55.526787Z",
     "iopub.status.idle": "2022-07-28T08:38:55.565499Z",
     "shell.execute_reply": "2022-07-28T08:38:55.564755Z"
    }
   },
   "outputs": [],
   "source": [
    "cdf_1 = df.causal.do(x={treatment: 1}, \n",
    "              variable_types={treatment: 'b', outcome: 'c', common_cause: 'c'}, \n",
    "              outcome=outcome, \n",
    "              dot_graph=data['dot_graph'],\n",
    "              proceed_when_unidentifiable=True)\n",
    "\n",
    "cdf_0 = df.causal.do(x={treatment: 0}, \n",
    "              variable_types={treatment: 'b', outcome: 'c', common_cause: 'c'}, \n",
    "              outcome=outcome, \n",
    "              dot_graph=data['dot_graph'],\n",
    "              proceed_when_unidentifiable=True)\n"
   ]
  },
  {
   "cell_type": "code",
   "execution_count": 6,
   "metadata": {
    "execution": {
     "iopub.execute_input": "2022-07-28T08:38:55.570922Z",
     "iopub.status.busy": "2022-07-28T08:38:55.569631Z",
     "iopub.status.idle": "2022-07-28T08:38:55.586979Z",
     "shell.execute_reply": "2022-07-28T08:38:55.584849Z"
    },
    "scrolled": true
   },
   "outputs": [
    {
     "data": {
      "text/html": [
       "<div>\n",
       "<style scoped>\n",
       "    .dataframe tbody tr th:only-of-type {\n",
       "        vertical-align: middle;\n",
       "    }\n",
       "\n",
       "    .dataframe tbody tr th {\n",
       "        vertical-align: top;\n",
       "    }\n",
       "\n",
       "    .dataframe thead th {\n",
       "        text-align: right;\n",
       "    }\n",
       "</style>\n",
       "<table border=\"1\" class=\"dataframe\">\n",
       "  <thead>\n",
       "    <tr style=\"text-align: right;\">\n",
       "      <th></th>\n",
       "      <th>W0</th>\n",
       "      <th>v0</th>\n",
       "      <th>y</th>\n",
       "      <th>propensity_score</th>\n",
       "      <th>weight</th>\n",
       "    </tr>\n",
       "  </thead>\n",
       "  <tbody>\n",
       "    <tr>\n",
       "      <th>0</th>\n",
       "      <td>0.322864</td>\n",
       "      <td>False</td>\n",
       "      <td>0.506619</td>\n",
       "      <td>0.446723</td>\n",
       "      <td>2.238524</td>\n",
       "    </tr>\n",
       "    <tr>\n",
       "      <th>1</th>\n",
       "      <td>0.681457</td>\n",
       "      <td>False</td>\n",
       "      <td>-1.052059</td>\n",
       "      <td>0.388708</td>\n",
       "      <td>2.572628</td>\n",
       "    </tr>\n",
       "    <tr>\n",
       "      <th>2</th>\n",
       "      <td>0.425276</td>\n",
       "      <td>False</td>\n",
       "      <td>0.550296</td>\n",
       "      <td>0.429932</td>\n",
       "      <td>2.325949</td>\n",
       "    </tr>\n",
       "    <tr>\n",
       "      <th>3</th>\n",
       "      <td>0.470577</td>\n",
       "      <td>False</td>\n",
       "      <td>-0.219838</td>\n",
       "      <td>0.422554</td>\n",
       "      <td>2.366563</td>\n",
       "    </tr>\n",
       "    <tr>\n",
       "      <th>4</th>\n",
       "      <td>0.277876</td>\n",
       "      <td>False</td>\n",
       "      <td>-0.536746</td>\n",
       "      <td>0.454140</td>\n",
       "      <td>2.201965</td>\n",
       "    </tr>\n",
       "    <tr>\n",
       "      <th>...</th>\n",
       "      <td>...</td>\n",
       "      <td>...</td>\n",
       "      <td>...</td>\n",
       "      <td>...</td>\n",
       "      <td>...</td>\n",
       "    </tr>\n",
       "    <tr>\n",
       "      <th>995</th>\n",
       "      <td>0.571028</td>\n",
       "      <td>False</td>\n",
       "      <td>-0.206884</td>\n",
       "      <td>0.406320</td>\n",
       "      <td>2.461116</td>\n",
       "    </tr>\n",
       "    <tr>\n",
       "      <th>996</th>\n",
       "      <td>-0.959486</td>\n",
       "      <td>False</td>\n",
       "      <td>-0.461943</td>\n",
       "      <td>0.654785</td>\n",
       "      <td>1.527219</td>\n",
       "    </tr>\n",
       "    <tr>\n",
       "      <th>997</th>\n",
       "      <td>-0.491078</td>\n",
       "      <td>False</td>\n",
       "      <td>-2.497981</td>\n",
       "      <td>0.581315</td>\n",
       "      <td>1.720238</td>\n",
       "    </tr>\n",
       "    <tr>\n",
       "      <th>998</th>\n",
       "      <td>0.079449</td>\n",
       "      <td>False</td>\n",
       "      <td>0.866081</td>\n",
       "      <td>0.487052</td>\n",
       "      <td>2.053169</td>\n",
       "    </tr>\n",
       "    <tr>\n",
       "      <th>999</th>\n",
       "      <td>-1.113819</td>\n",
       "      <td>False</td>\n",
       "      <td>0.472829</td>\n",
       "      <td>0.677636</td>\n",
       "      <td>1.475719</td>\n",
       "    </tr>\n",
       "  </tbody>\n",
       "</table>\n",
       "<p>1000 rows × 5 columns</p>\n",
       "</div>"
      ],
      "text/plain": [
       "           W0     v0         y  propensity_score    weight\n",
       "0    0.322864  False  0.506619          0.446723  2.238524\n",
       "1    0.681457  False -1.052059          0.388708  2.572628\n",
       "2    0.425276  False  0.550296          0.429932  2.325949\n",
       "3    0.470577  False -0.219838          0.422554  2.366563\n",
       "4    0.277876  False -0.536746          0.454140  2.201965\n",
       "..        ...    ...       ...               ...       ...\n",
       "995  0.571028  False -0.206884          0.406320  2.461116\n",
       "996 -0.959486  False -0.461943          0.654785  1.527219\n",
       "997 -0.491078  False -2.497981          0.581315  1.720238\n",
       "998  0.079449  False  0.866081          0.487052  2.053169\n",
       "999 -1.113819  False  0.472829          0.677636  1.475719\n",
       "\n",
       "[1000 rows x 5 columns]"
      ]
     },
     "execution_count": 6,
     "metadata": {},
     "output_type": "execute_result"
    }
   ],
   "source": [
    "cdf_0"
   ]
  },
  {
   "cell_type": "code",
   "execution_count": 7,
   "metadata": {
    "execution": {
     "iopub.execute_input": "2022-07-28T08:38:55.591927Z",
     "iopub.status.busy": "2022-07-28T08:38:55.590634Z",
     "iopub.status.idle": "2022-07-28T08:38:55.605758Z",
     "shell.execute_reply": "2022-07-28T08:38:55.605048Z"
    }
   },
   "outputs": [
    {
     "data": {
      "text/html": [
       "<div>\n",
       "<style scoped>\n",
       "    .dataframe tbody tr th:only-of-type {\n",
       "        vertical-align: middle;\n",
       "    }\n",
       "\n",
       "    .dataframe tbody tr th {\n",
       "        vertical-align: top;\n",
       "    }\n",
       "\n",
       "    .dataframe thead th {\n",
       "        text-align: right;\n",
       "    }\n",
       "</style>\n",
       "<table border=\"1\" class=\"dataframe\">\n",
       "  <thead>\n",
       "    <tr style=\"text-align: right;\">\n",
       "      <th></th>\n",
       "      <th>W0</th>\n",
       "      <th>v0</th>\n",
       "      <th>y</th>\n",
       "      <th>propensity_score</th>\n",
       "      <th>weight</th>\n",
       "    </tr>\n",
       "  </thead>\n",
       "  <tbody>\n",
       "    <tr>\n",
       "      <th>0</th>\n",
       "      <td>-2.702730</td>\n",
       "      <td>True</td>\n",
       "      <td>4.603872</td>\n",
       "      <td>0.141710</td>\n",
       "      <td>7.056664</td>\n",
       "    </tr>\n",
       "    <tr>\n",
       "      <th>1</th>\n",
       "      <td>0.047163</td>\n",
       "      <td>True</td>\n",
       "      <td>4.457430</td>\n",
       "      <td>0.507575</td>\n",
       "      <td>1.970154</td>\n",
       "    </tr>\n",
       "    <tr>\n",
       "      <th>2</th>\n",
       "      <td>-1.482347</td>\n",
       "      <td>True</td>\n",
       "      <td>3.814479</td>\n",
       "      <td>0.271234</td>\n",
       "      <td>3.686853</td>\n",
       "    </tr>\n",
       "    <tr>\n",
       "      <th>3</th>\n",
       "      <td>-1.651699</td>\n",
       "      <td>True</td>\n",
       "      <td>4.206534</td>\n",
       "      <td>0.249522</td>\n",
       "      <td>4.007655</td>\n",
       "    </tr>\n",
       "    <tr>\n",
       "      <th>4</th>\n",
       "      <td>-0.969559</td>\n",
       "      <td>True</td>\n",
       "      <td>4.386705</td>\n",
       "      <td>0.343700</td>\n",
       "      <td>2.909512</td>\n",
       "    </tr>\n",
       "    <tr>\n",
       "      <th>...</th>\n",
       "      <td>...</td>\n",
       "      <td>...</td>\n",
       "      <td>...</td>\n",
       "      <td>...</td>\n",
       "      <td>...</td>\n",
       "    </tr>\n",
       "    <tr>\n",
       "      <th>995</th>\n",
       "      <td>-0.837337</td>\n",
       "      <td>True</td>\n",
       "      <td>6.062797</td>\n",
       "      <td>0.363828</td>\n",
       "      <td>2.748549</td>\n",
       "    </tr>\n",
       "    <tr>\n",
       "      <th>996</th>\n",
       "      <td>-0.541915</td>\n",
       "      <td>True</td>\n",
       "      <td>5.009058</td>\n",
       "      <td>0.410468</td>\n",
       "      <td>2.436245</td>\n",
       "    </tr>\n",
       "    <tr>\n",
       "      <th>997</th>\n",
       "      <td>-0.615884</td>\n",
       "      <td>True</td>\n",
       "      <td>4.172003</td>\n",
       "      <td>0.398601</td>\n",
       "      <td>2.508772</td>\n",
       "    </tr>\n",
       "    <tr>\n",
       "      <th>998</th>\n",
       "      <td>1.351525</td>\n",
       "      <td>True</td>\n",
       "      <td>6.892360</td>\n",
       "      <td>0.710748</td>\n",
       "      <td>1.406968</td>\n",
       "    </tr>\n",
       "    <tr>\n",
       "      <th>999</th>\n",
       "      <td>-0.163235</td>\n",
       "      <td>True</td>\n",
       "      <td>4.804363</td>\n",
       "      <td>0.472571</td>\n",
       "      <td>2.116085</td>\n",
       "    </tr>\n",
       "  </tbody>\n",
       "</table>\n",
       "<p>1000 rows × 5 columns</p>\n",
       "</div>"
      ],
      "text/plain": [
       "           W0    v0         y  propensity_score    weight\n",
       "0   -2.702730  True  4.603872          0.141710  7.056664\n",
       "1    0.047163  True  4.457430          0.507575  1.970154\n",
       "2   -1.482347  True  3.814479          0.271234  3.686853\n",
       "3   -1.651699  True  4.206534          0.249522  4.007655\n",
       "4   -0.969559  True  4.386705          0.343700  2.909512\n",
       "..        ...   ...       ...               ...       ...\n",
       "995 -0.837337  True  6.062797          0.363828  2.748549\n",
       "996 -0.541915  True  5.009058          0.410468  2.436245\n",
       "997 -0.615884  True  4.172003          0.398601  2.508772\n",
       "998  1.351525  True  6.892360          0.710748  1.406968\n",
       "999 -0.163235  True  4.804363          0.472571  2.116085\n",
       "\n",
       "[1000 rows x 5 columns]"
      ]
     },
     "execution_count": 7,
     "metadata": {},
     "output_type": "execute_result"
    }
   ],
   "source": [
    "cdf_1"
   ]
  },
  {
   "cell_type": "markdown",
   "metadata": {},
   "source": [
    "## Comparing the estimate to Linear Regression\n",
    "First, estimating the effect using the causal data frame, and the 95% confidence interval."
   ]
  },
  {
   "cell_type": "code",
   "execution_count": 8,
   "metadata": {
    "execution": {
     "iopub.execute_input": "2022-07-28T08:38:55.609217Z",
     "iopub.status.busy": "2022-07-28T08:38:55.608763Z",
     "iopub.status.idle": "2022-07-28T08:38:55.734182Z",
     "shell.execute_reply": "2022-07-28T08:38:55.733276Z"
    }
   },
   "outputs": [
    {
     "data": {
      "image/png": "[encoded data removed]",
      "text/latex": [
       "$\\displaystyle 4.96136148437384$"
      ],
      "text/plain": [
       "4.961361484373841"
      ]
     },
     "execution_count": 8,
     "metadata": {},
     "output_type": "execute_result"
    }
   ],
   "source": [
    "(cdf_1['y'] - cdf_0['y']).mean()"
   ]
  },
  {
   "cell_type": "code",
   "execution_count": 9,
   "metadata": {
    "execution": {
     "iopub.execute_input": "2022-07-28T08:38:55.740376Z",
     "iopub.status.busy": "2022-07-28T08:38:55.737697Z",
     "iopub.status.idle": "2022-07-28T08:38:55.778900Z",
     "shell.execute_reply": "2022-07-28T08:38:55.778061Z"
    }
   },
   "outputs": [
    {
     "data": {
      "image/png": "[encoded data removed]",
      "text/latex": [
       "$\\displaystyle 0.0852835890334193$"
      ],
      "text/plain": [
       "0.0852835890334193"
      ]
     },
     "execution_count": 9,
     "metadata": {},
     "output_type": "execute_result"
    }
   ],
   "source": [
    "1.96*(cdf_1['y'] - cdf_0['y']).std() / np.sqrt(len(df))"
   ]
  },
  {
   "cell_type": "markdown",
   "metadata": {},
   "source": [
    "Comparing to the estimate from OLS."
   ]
  },
  {
   "cell_type": "code",
   "execution_count": 10,
   "metadata": {
    "execution": {
     "iopub.execute_input": "2022-07-28T08:38:55.783077Z",
     "iopub.status.busy": "2022-07-28T08:38:55.782773Z",
     "iopub.status.idle": "2022-07-28T08:38:55.805860Z",
     "shell.execute_reply": "2022-07-28T08:38:55.805084Z"
    }
   },
   "outputs": [
    {
     "data": {
      "text/html": [
       "<table class=\"simpletable\">\n",
       "<caption>OLS Regression Results</caption>\n",
       "<tr>\n",
       "  <th>Dep. Variable:</th>            <td>y</td>        <th>  R-squared (uncentered):</th>      <td>   0.925</td>\n",
       "</tr>\n",
       "<tr>\n",
       "  <th>Model:</th>                   <td>OLS</td>       <th>  Adj. R-squared (uncentered):</th> <td>   0.925</td>\n",
       "</tr>\n",
       "<tr>\n",
       "  <th>Method:</th>             <td>Least Squares</td>  <th>  F-statistic:       </th>          <td>   6137.</td>\n",
       "</tr>\n",
       "<tr>\n",
       "  <th>Date:</th>             <td>Thu, 28 Jul 2022</td> <th>  Prob (F-statistic):</th>           <td>  0.00</td> \n",
       "</tr>\n",
       "<tr>\n",
       "  <th>Time:</th>                 <td>08:38:55</td>     <th>  Log-Likelihood:    </th>          <td> -1399.1</td>\n",
       "</tr>\n",
       "<tr>\n",
       "  <th>No. Observations:</th>      <td>  1000</td>      <th>  AIC:               </th>          <td>   2802.</td>\n",
       "</tr>\n",
       "<tr>\n",
       "  <th>Df Residuals:</th>          <td>   998</td>      <th>  BIC:               </th>          <td>   2812.</td>\n",
       "</tr>\n",
       "<tr>\n",
       "  <th>Df Model:</th>              <td>     2</td>      <th>                     </th>              <td> </td>   \n",
       "</tr>\n",
       "<tr>\n",
       "  <th>Covariance Type:</th>      <td>nonrobust</td>    <th>                     </th>              <td> </td>   \n",
       "</tr>\n",
       "</table>\n",
       "<table class=\"simpletable\">\n",
       "<tr>\n",
       "   <td></td>     <th>coef</th>     <th>std err</th>      <th>t</th>      <th>P>|t|</th>  <th>[0.025</th>    <th>0.975]</th>  \n",
       "</tr>\n",
       "<tr>\n",
       "  <th>x1</th> <td>    0.0870</td> <td>    0.031</td> <td>    2.814</td> <td> 0.005</td> <td>    0.026</td> <td>    0.148</td>\n",
       "</tr>\n",
       "<tr>\n",
       "  <th>x2</th> <td>    5.0149</td> <td>    0.045</td> <td>  110.281</td> <td> 0.000</td> <td>    4.926</td> <td>    5.104</td>\n",
       "</tr>\n",
       "</table>\n",
       "<table class=\"simpletable\">\n",
       "<tr>\n",
       "  <th>Omnibus:</th>       <td> 0.911</td> <th>  Durbin-Watson:     </th> <td>   2.096</td>\n",
       "</tr>\n",
       "<tr>\n",
       "  <th>Prob(Omnibus):</th> <td> 0.634</td> <th>  Jarque-Bera (JB):  </th> <td>   0.866</td>\n",
       "</tr>\n",
       "<tr>\n",
       "  <th>Skew:</th>          <td>-0.072</td> <th>  Prob(JB):          </th> <td>   0.649</td>\n",
       "</tr>\n",
       "<tr>\n",
       "  <th>Kurtosis:</th>      <td> 3.015</td> <th>  Cond. No.          </th> <td>    1.48</td>\n",
       "</tr>\n",
       "</table><br/><br/>Notes:<br/>[1] R² is computed without centering (uncentered) since the model does not contain a constant.<br/>[2] Standard Errors assume that the covariance matrix of the errors is correctly specified."
      ],
      "text/plain": [
       "<class 'statsmodels.iolib.summary.Summary'>\n",
       "\"\"\"\n",
       "                                 OLS Regression Results                                \n",
       "=======================================================================================\n",
       "Dep. Variable:                      y   R-squared (uncentered):                   0.925\n",
       "Model:                            OLS   Adj. R-squared (uncentered):              0.925\n",
       "Method:                 Least Squares   F-statistic:                              6137.\n",
       "Date:                Thu, 28 Jul 2022   Prob (F-statistic):                        0.00\n",
       "Time:                        08:38:55   Log-Likelihood:                         -1399.1\n",
       "No. Observations:                1000   AIC:                                      2802.\n",
       "Df Residuals:                     998   BIC:                                      2812.\n",
       "Df Model:                           2                                                  \n",
       "Covariance Type:            nonrobust                                                  \n",
       "==============================================================================\n",
       "                 coef    std err          t      P>|t|      [0.025      0.975]\n",
       "------------------------------------------------------------------------------\n",
       "x1             0.0870      0.031      2.814      0.005       0.026       0.148\n",
       "x2             5.0149      0.045    110.281      0.000       4.926       5.104\n",
       "==============================================================================\n",
       "Omnibus:                        0.911   Durbin-Watson:                   2.096\n",
       "Prob(Omnibus):                  0.634   Jarque-Bera (JB):                0.866\n",
       "Skew:                          -0.072   Prob(JB):                        0.649\n",
       "Kurtosis:                       3.015   Cond. No.                         1.48\n",
       "==============================================================================\n",
       "\n",
       "Notes:\n",
       "[1] R² is computed without centering (uncentered) since the model does not contain a constant.\n",
       "[2] Standard Errors assume that the covariance matrix of the errors is correctly specified.\n",
       "\"\"\""
      ]
     },
     "execution_count": 10,
     "metadata": {},
     "output_type": "execute_result"
    }
   ],
   "source": [
    "model = OLS(np.asarray(df[outcome]), np.asarray(df[[common_cause, treatment]], dtype=np.float64))\n",
    "result = model.fit()\n",
    "result.summary()"
   ]
  }
 ],
 "metadata": {
  "kernelspec": {
   "display_name": "Python 3",
   "language": "python",
   "name": "python3"
  },
  "language_info": {
   "codemirror_mode": {
    "name": "ipython",
    "version": 3
   },
   "file_extension": ".py",
   "mimetype": "text/x-python",
   "name": "python",
   "nbconvert_exporter": "python",
   "pygments_lexer": "ipython3",
   "version": "3.8.10"
  },
  "toc": {
   "base_numbering": 1,
   "nav_menu": {},
   "number_sections": false,
   "sideBar": true,
   "skip_h1_title": true,
   "title_cell": "Table of Contents",
   "title_sidebar": "Contents",
   "toc_cell": false,
   "toc_position": {},
   "toc_section_display": true,
   "toc_window_display": false
  }
 },
 "nbformat": 4,
 "nbformat_minor": 4
}
