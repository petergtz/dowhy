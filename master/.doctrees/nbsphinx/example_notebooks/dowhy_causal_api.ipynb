{
 "cells": [
  {
   "cell_type": "markdown",
   "metadata": {},
   "source": [
    "# Demo for the DoWhy causal API\n",
    "We show a simple example of adding a causal extension to any dataframe. "
   ]
  },
  {
   "cell_type": "code",
   "execution_count": 1,
   "metadata": {
    "execution": {
     "iopub.execute_input": "2022-07-15T14:39:16.041967Z",
     "iopub.status.busy": "2022-07-15T14:39:16.041656Z",
     "iopub.status.idle": "2022-07-15T14:39:17.317815Z",
     "shell.execute_reply": "2022-07-15T14:39:17.316925Z"
    }
   },
   "outputs": [
    {
     "name": "stdout",
     "output_type": "stream",
     "text": [
      "keywords are unexpanded, not using\n"
     ]
    }
   ],
   "source": [
    "import dowhy.datasets\n",
    "import dowhy.api\n",
    "\n",
    "import numpy as np\n",
    "import pandas as pd\n",
    "\n",
    "from statsmodels.api import OLS"
   ]
  },
  {
   "cell_type": "code",
   "execution_count": 2,
   "metadata": {
    "execution": {
     "iopub.execute_input": "2022-07-15T14:39:17.322861Z",
     "iopub.status.busy": "2022-07-15T14:39:17.322193Z",
     "iopub.status.idle": "2022-07-15T14:39:17.375994Z",
     "shell.execute_reply": "2022-07-15T14:39:17.375297Z"
    }
   },
   "outputs": [
    {
     "data": {
      "text/html": [
       "<div>\n",
       "<style scoped>\n",
       "    .dataframe tbody tr th:only-of-type {\n",
       "        vertical-align: middle;\n",
       "    }\n",
       "\n",
       "    .dataframe tbody tr th {\n",
       "        vertical-align: top;\n",
       "    }\n",
       "\n",
       "    .dataframe thead th {\n",
       "        text-align: right;\n",
       "    }\n",
       "</style>\n",
       "<table border=\"1\" class=\"dataframe\">\n",
       "  <thead>\n",
       "    <tr style=\"text-align: right;\">\n",
       "      <th></th>\n",
       "      <th>W0</th>\n",
       "      <th>v0</th>\n",
       "      <th>y</th>\n",
       "    </tr>\n",
       "  </thead>\n",
       "  <tbody>\n",
       "    <tr>\n",
       "      <th>0</th>\n",
       "      <td>-1.166855</td>\n",
       "      <td>False</td>\n",
       "      <td>-3.280440</td>\n",
       "    </tr>\n",
       "    <tr>\n",
       "      <th>1</th>\n",
       "      <td>0.218907</td>\n",
       "      <td>False</td>\n",
       "      <td>0.889082</td>\n",
       "    </tr>\n",
       "    <tr>\n",
       "      <th>2</th>\n",
       "      <td>0.734806</td>\n",
       "      <td>False</td>\n",
       "      <td>1.657342</td>\n",
       "    </tr>\n",
       "    <tr>\n",
       "      <th>3</th>\n",
       "      <td>-0.917507</td>\n",
       "      <td>False</td>\n",
       "      <td>-2.436045</td>\n",
       "    </tr>\n",
       "    <tr>\n",
       "      <th>4</th>\n",
       "      <td>-0.928110</td>\n",
       "      <td>True</td>\n",
       "      <td>3.326863</td>\n",
       "    </tr>\n",
       "    <tr>\n",
       "      <th>...</th>\n",
       "      <td>...</td>\n",
       "      <td>...</td>\n",
       "      <td>...</td>\n",
       "    </tr>\n",
       "    <tr>\n",
       "      <th>995</th>\n",
       "      <td>0.020738</td>\n",
       "      <td>False</td>\n",
       "      <td>-0.739023</td>\n",
       "    </tr>\n",
       "    <tr>\n",
       "      <th>996</th>\n",
       "      <td>-0.399244</td>\n",
       "      <td>True</td>\n",
       "      <td>3.805734</td>\n",
       "    </tr>\n",
       "    <tr>\n",
       "      <th>997</th>\n",
       "      <td>-0.514277</td>\n",
       "      <td>True</td>\n",
       "      <td>3.944842</td>\n",
       "    </tr>\n",
       "    <tr>\n",
       "      <th>998</th>\n",
       "      <td>0.101339</td>\n",
       "      <td>False</td>\n",
       "      <td>1.157327</td>\n",
       "    </tr>\n",
       "    <tr>\n",
       "      <th>999</th>\n",
       "      <td>-0.922852</td>\n",
       "      <td>True</td>\n",
       "      <td>3.250769</td>\n",
       "    </tr>\n",
       "  </tbody>\n",
       "</table>\n",
       "<p>1000 rows × 3 columns</p>\n",
       "</div>"
      ],
      "text/plain": [
       "           W0     v0         y\n",
       "0   -1.166855  False -3.280440\n",
       "1    0.218907  False  0.889082\n",
       "2    0.734806  False  1.657342\n",
       "3   -0.917507  False -2.436045\n",
       "4   -0.928110   True  3.326863\n",
       "..        ...    ...       ...\n",
       "995  0.020738  False -0.739023\n",
       "996 -0.399244   True  3.805734\n",
       "997 -0.514277   True  3.944842\n",
       "998  0.101339  False  1.157327\n",
       "999 -0.922852   True  3.250769\n",
       "\n",
       "[1000 rows x 3 columns]"
      ]
     },
     "execution_count": 2,
     "metadata": {},
     "output_type": "execute_result"
    }
   ],
   "source": [
    "data = dowhy.datasets.linear_dataset(beta=5,\n",
    "        num_common_causes=1,\n",
    "        num_instruments = 0,\n",
    "        num_samples=1000,\n",
    "        treatment_is_binary=True)\n",
    "df = data['df']\n",
    "df['y'] = df['y'] + np.random.normal(size=len(df)) # Adding noise to data. Without noise, the variance in Y|X, Z is zero, and mcmc fails.\n",
    "#data['dot_graph'] = 'digraph { v ->y;X0-> v;X0-> y;}'\n",
    "\n",
    "treatment= data[\"treatment_name\"][0]\n",
    "outcome = data[\"outcome_name\"][0]\n",
    "common_cause = data[\"common_causes_names\"][0]\n",
    "df"
   ]
  },
  {
   "cell_type": "code",
   "execution_count": 3,
   "metadata": {
    "execution": {
     "iopub.execute_input": "2022-07-15T14:39:17.379266Z",
     "iopub.status.busy": "2022-07-15T14:39:17.378991Z",
     "iopub.status.idle": "2022-07-15T14:39:18.217249Z",
     "shell.execute_reply": "2022-07-15T14:39:18.216642Z"
    }
   },
   "outputs": [
    {
     "data": {
      "text/plain": [
       "<AxesSubplot:xlabel='v0'>"
      ]
     },
     "execution_count": 3,
     "metadata": {},
     "output_type": "execute_result"
    },
    {
     "data": {
      "image/png": "[encoded data removed]",
      "text/plain": [
       "<Figure size 432x288 with 1 Axes>"
      ]
     },
     "metadata": {
      "needs_background": "light"
     },
     "output_type": "display_data"
    }
   ],
   "source": [
    "# data['df'] is just a regular pandas.DataFrame\n",
    "df.causal.do(x=treatment,\n",
    "                     variable_types={treatment: 'b', outcome: 'c', common_cause: 'c'},\n",
    "                     outcome=outcome,\n",
    "                     common_causes=[common_cause],\n",
    "                     proceed_when_unidentifiable=True).groupby(treatment).mean().plot(y=outcome, kind='bar')"
   ]
  },
  {
   "cell_type": "code",
   "execution_count": 4,
   "metadata": {
    "execution": {
     "iopub.execute_input": "2022-07-15T14:39:18.221758Z",
     "iopub.status.busy": "2022-07-15T14:39:18.220499Z",
     "iopub.status.idle": "2022-07-15T14:39:18.326254Z",
     "shell.execute_reply": "2022-07-15T14:39:18.325643Z"
    }
   },
   "outputs": [
    {
     "data": {
      "text/plain": [
       "<AxesSubplot:xlabel='v0'>"
      ]
     },
     "execution_count": 4,
     "metadata": {},
     "output_type": "execute_result"
    },
    {
     "data": {
      "image/png": "[encoded data removed]",
      "text/plain": [
       "<Figure size 432x288 with 1 Axes>"
      ]
     },
     "metadata": {
      "needs_background": "light"
     },
     "output_type": "display_data"
    }
   ],
   "source": [
    "df.causal.do(x={treatment: 1}, \n",
    "              variable_types={treatment:'b', outcome: 'c', common_cause: 'c'}, \n",
    "              outcome=outcome,\n",
    "              method='weighting', \n",
    "              common_causes=[common_cause],\n",
    "              proceed_when_unidentifiable=True).groupby(treatment).mean().plot(y=outcome, kind='bar')"
   ]
  },
  {
   "cell_type": "code",
   "execution_count": 5,
   "metadata": {
    "execution": {
     "iopub.execute_input": "2022-07-15T14:39:18.330862Z",
     "iopub.status.busy": "2022-07-15T14:39:18.329788Z",
     "iopub.status.idle": "2022-07-15T14:39:18.363051Z",
     "shell.execute_reply": "2022-07-15T14:39:18.362378Z"
    }
   },
   "outputs": [],
   "source": [
    "cdf_1 = df.causal.do(x={treatment: 1}, \n",
    "              variable_types={treatment: 'b', outcome: 'c', common_cause: 'c'}, \n",
    "              outcome=outcome, \n",
    "              dot_graph=data['dot_graph'],\n",
    "              proceed_when_unidentifiable=True)\n",
    "\n",
    "cdf_0 = df.causal.do(x={treatment: 0}, \n",
    "              variable_types={treatment: 'b', outcome: 'c', common_cause: 'c'}, \n",
    "              outcome=outcome, \n",
    "              dot_graph=data['dot_graph'],\n",
    "              proceed_when_unidentifiable=True)\n"
   ]
  },
  {
   "cell_type": "code",
   "execution_count": 6,
   "metadata": {
    "execution": {
     "iopub.execute_input": "2022-07-15T14:39:18.367028Z",
     "iopub.status.busy": "2022-07-15T14:39:18.366650Z",
     "iopub.status.idle": "2022-07-15T14:39:18.380254Z",
     "shell.execute_reply": "2022-07-15T14:39:18.379671Z"
    },
    "scrolled": true
   },
   "outputs": [
    {
     "data": {
      "text/html": [
       "<div>\n",
       "<style scoped>\n",
       "    .dataframe tbody tr th:only-of-type {\n",
       "        vertical-align: middle;\n",
       "    }\n",
       "\n",
       "    .dataframe tbody tr th {\n",
       "        vertical-align: top;\n",
       "    }\n",
       "\n",
       "    .dataframe thead th {\n",
       "        text-align: right;\n",
       "    }\n",
       "</style>\n",
       "<table border=\"1\" class=\"dataframe\">\n",
       "  <thead>\n",
       "    <tr style=\"text-align: right;\">\n",
       "      <th></th>\n",
       "      <th>W0</th>\n",
       "      <th>v0</th>\n",
       "      <th>y</th>\n",
       "      <th>propensity_score</th>\n",
       "      <th>weight</th>\n",
       "    </tr>\n",
       "  </thead>\n",
       "  <tbody>\n",
       "    <tr>\n",
       "      <th>0</th>\n",
       "      <td>-1.323771</td>\n",
       "      <td>False</td>\n",
       "      <td>-3.482634</td>\n",
       "      <td>0.575859</td>\n",
       "      <td>1.736537</td>\n",
       "    </tr>\n",
       "    <tr>\n",
       "      <th>1</th>\n",
       "      <td>-0.731096</td>\n",
       "      <td>False</td>\n",
       "      <td>-0.710747</td>\n",
       "      <td>0.543950</td>\n",
       "      <td>1.838404</td>\n",
       "    </tr>\n",
       "    <tr>\n",
       "      <th>2</th>\n",
       "      <td>-0.452757</td>\n",
       "      <td>False</td>\n",
       "      <td>-1.103364</td>\n",
       "      <td>0.528822</td>\n",
       "      <td>1.890994</td>\n",
       "    </tr>\n",
       "    <tr>\n",
       "      <th>3</th>\n",
       "      <td>0.490579</td>\n",
       "      <td>False</td>\n",
       "      <td>2.124327</td>\n",
       "      <td>0.477324</td>\n",
       "      <td>2.095015</td>\n",
       "    </tr>\n",
       "    <tr>\n",
       "      <th>4</th>\n",
       "      <td>-0.612867</td>\n",
       "      <td>False</td>\n",
       "      <td>-0.971029</td>\n",
       "      <td>0.537533</td>\n",
       "      <td>1.860352</td>\n",
       "    </tr>\n",
       "    <tr>\n",
       "      <th>...</th>\n",
       "      <td>...</td>\n",
       "      <td>...</td>\n",
       "      <td>...</td>\n",
       "      <td>...</td>\n",
       "      <td>...</td>\n",
       "    </tr>\n",
       "    <tr>\n",
       "      <th>995</th>\n",
       "      <td>0.921740</td>\n",
       "      <td>False</td>\n",
       "      <td>3.194826</td>\n",
       "      <td>0.453880</td>\n",
       "      <td>2.203228</td>\n",
       "    </tr>\n",
       "    <tr>\n",
       "      <th>996</th>\n",
       "      <td>0.267991</td>\n",
       "      <td>False</td>\n",
       "      <td>1.387931</td>\n",
       "      <td>0.489472</td>\n",
       "      <td>2.043016</td>\n",
       "    </tr>\n",
       "    <tr>\n",
       "      <th>997</th>\n",
       "      <td>-2.498562</td>\n",
       "      <td>False</td>\n",
       "      <td>-7.136165</td>\n",
       "      <td>0.637047</td>\n",
       "      <td>1.569742</td>\n",
       "    </tr>\n",
       "    <tr>\n",
       "      <th>998</th>\n",
       "      <td>-0.618318</td>\n",
       "      <td>False</td>\n",
       "      <td>0.670679</td>\n",
       "      <td>0.537829</td>\n",
       "      <td>1.859328</td>\n",
       "    </tr>\n",
       "    <tr>\n",
       "      <th>999</th>\n",
       "      <td>0.001813</td>\n",
       "      <td>False</td>\n",
       "      <td>1.452329</td>\n",
       "      <td>0.504015</td>\n",
       "      <td>1.984066</td>\n",
       "    </tr>\n",
       "  </tbody>\n",
       "</table>\n",
       "<p>1000 rows × 5 columns</p>\n",
       "</div>"
      ],
      "text/plain": [
       "           W0     v0         y  propensity_score    weight\n",
       "0   -1.323771  False -3.482634          0.575859  1.736537\n",
       "1   -0.731096  False -0.710747          0.543950  1.838404\n",
       "2   -0.452757  False -1.103364          0.528822  1.890994\n",
       "3    0.490579  False  2.124327          0.477324  2.095015\n",
       "4   -0.612867  False -0.971029          0.537533  1.860352\n",
       "..        ...    ...       ...               ...       ...\n",
       "995  0.921740  False  3.194826          0.453880  2.203228\n",
       "996  0.267991  False  1.387931          0.489472  2.043016\n",
       "997 -2.498562  False -7.136165          0.637047  1.569742\n",
       "998 -0.618318  False  0.670679          0.537829  1.859328\n",
       "999  0.001813  False  1.452329          0.504015  1.984066\n",
       "\n",
       "[1000 rows x 5 columns]"
      ]
     },
     "execution_count": 6,
     "metadata": {},
     "output_type": "execute_result"
    }
   ],
   "source": [
    "cdf_0"
   ]
  },
  {
   "cell_type": "code",
   "execution_count": 7,
   "metadata": {
    "execution": {
     "iopub.execute_input": "2022-07-15T14:39:18.383392Z",
     "iopub.status.busy": "2022-07-15T14:39:18.383031Z",
     "iopub.status.idle": "2022-07-15T14:39:18.394943Z",
     "shell.execute_reply": "2022-07-15T14:39:18.394385Z"
    }
   },
   "outputs": [
    {
     "data": {
      "text/html": [
       "<div>\n",
       "<style scoped>\n",
       "    .dataframe tbody tr th:only-of-type {\n",
       "        vertical-align: middle;\n",
       "    }\n",
       "\n",
       "    .dataframe tbody tr th {\n",
       "        vertical-align: top;\n",
       "    }\n",
       "\n",
       "    .dataframe thead th {\n",
       "        text-align: right;\n",
       "    }\n",
       "</style>\n",
       "<table border=\"1\" class=\"dataframe\">\n",
       "  <thead>\n",
       "    <tr style=\"text-align: right;\">\n",
       "      <th></th>\n",
       "      <th>W0</th>\n",
       "      <th>v0</th>\n",
       "      <th>y</th>\n",
       "      <th>propensity_score</th>\n",
       "      <th>weight</th>\n",
       "    </tr>\n",
       "  </thead>\n",
       "  <tbody>\n",
       "    <tr>\n",
       "      <th>0</th>\n",
       "      <td>-1.658777</td>\n",
       "      <td>True</td>\n",
       "      <td>-1.187812</td>\n",
       "      <td>0.406364</td>\n",
       "      <td>2.460851</td>\n",
       "    </tr>\n",
       "    <tr>\n",
       "      <th>1</th>\n",
       "      <td>-0.187566</td>\n",
       "      <td>True</td>\n",
       "      <td>5.760379</td>\n",
       "      <td>0.485640</td>\n",
       "      <td>2.059137</td>\n",
       "    </tr>\n",
       "    <tr>\n",
       "      <th>2</th>\n",
       "      <td>-0.181223</td>\n",
       "      <td>True</td>\n",
       "      <td>2.709213</td>\n",
       "      <td>0.485987</td>\n",
       "      <td>2.057670</td>\n",
       "    </tr>\n",
       "    <tr>\n",
       "      <th>3</th>\n",
       "      <td>0.250209</td>\n",
       "      <td>True</td>\n",
       "      <td>5.539353</td>\n",
       "      <td>0.509556</td>\n",
       "      <td>1.962491</td>\n",
       "    </tr>\n",
       "    <tr>\n",
       "      <th>4</th>\n",
       "      <td>0.640482</td>\n",
       "      <td>True</td>\n",
       "      <td>7.162167</td>\n",
       "      <td>0.530844</td>\n",
       "      <td>1.883793</td>\n",
       "    </tr>\n",
       "    <tr>\n",
       "      <th>...</th>\n",
       "      <td>...</td>\n",
       "      <td>...</td>\n",
       "      <td>...</td>\n",
       "      <td>...</td>\n",
       "      <td>...</td>\n",
       "    </tr>\n",
       "    <tr>\n",
       "      <th>995</th>\n",
       "      <td>0.918133</td>\n",
       "      <td>True</td>\n",
       "      <td>6.682376</td>\n",
       "      <td>0.545925</td>\n",
       "      <td>1.831753</td>\n",
       "    </tr>\n",
       "    <tr>\n",
       "      <th>996</th>\n",
       "      <td>-0.261398</td>\n",
       "      <td>True</td>\n",
       "      <td>3.772434</td>\n",
       "      <td>0.481610</td>\n",
       "      <td>2.076368</td>\n",
       "    </tr>\n",
       "    <tr>\n",
       "      <th>997</th>\n",
       "      <td>1.147443</td>\n",
       "      <td>True</td>\n",
       "      <td>8.607756</td>\n",
       "      <td>0.558318</td>\n",
       "      <td>1.791093</td>\n",
       "    </tr>\n",
       "    <tr>\n",
       "      <th>998</th>\n",
       "      <td>-0.519152</td>\n",
       "      <td>True</td>\n",
       "      <td>4.039850</td>\n",
       "      <td>0.467563</td>\n",
       "      <td>2.138749</td>\n",
       "    </tr>\n",
       "    <tr>\n",
       "      <th>999</th>\n",
       "      <td>0.556136</td>\n",
       "      <td>True</td>\n",
       "      <td>7.152484</td>\n",
       "      <td>0.526250</td>\n",
       "      <td>1.900237</td>\n",
       "    </tr>\n",
       "  </tbody>\n",
       "</table>\n",
       "<p>1000 rows × 5 columns</p>\n",
       "</div>"
      ],
      "text/plain": [
       "           W0    v0         y  propensity_score    weight\n",
       "0   -1.658777  True -1.187812          0.406364  2.460851\n",
       "1   -0.187566  True  5.760379          0.485640  2.059137\n",
       "2   -0.181223  True  2.709213          0.485987  2.057670\n",
       "3    0.250209  True  5.539353          0.509556  1.962491\n",
       "4    0.640482  True  7.162167          0.530844  1.883793\n",
       "..        ...   ...       ...               ...       ...\n",
       "995  0.918133  True  6.682376          0.545925  1.831753\n",
       "996 -0.261398  True  3.772434          0.481610  2.076368\n",
       "997  1.147443  True  8.607756          0.558318  1.791093\n",
       "998 -0.519152  True  4.039850          0.467563  2.138749\n",
       "999  0.556136  True  7.152484          0.526250  1.900237\n",
       "\n",
       "[1000 rows x 5 columns]"
      ]
     },
     "execution_count": 7,
     "metadata": {},
     "output_type": "execute_result"
    }
   ],
   "source": [
    "cdf_1"
   ]
  },
  {
   "cell_type": "markdown",
   "metadata": {},
   "source": [
    "## Comparing the estimate to Linear Regression\n",
    "First, estimating the effect using the causal data frame, and the 95% confidence interval."
   ]
  },
  {
   "cell_type": "code",
   "execution_count": 8,
   "metadata": {
    "execution": {
     "iopub.execute_input": "2022-07-15T14:39:18.399068Z",
     "iopub.status.busy": "2022-07-15T14:39:18.397888Z",
     "iopub.status.idle": "2022-07-15T14:39:18.502786Z",
     "shell.execute_reply": "2022-07-15T14:39:18.502014Z"
    }
   },
   "outputs": [
    {
     "data": {
      "image/png": "[encoded data removed]",
      "text/latex": [
       "$\\displaystyle 4.85295242002757$"
      ],
      "text/plain": [
       "4.852952420027574"
      ]
     },
     "execution_count": 8,
     "metadata": {},
     "output_type": "execute_result"
    }
   ],
   "source": [
    "(cdf_1['y'] - cdf_0['y']).mean()"
   ]
  },
  {
   "cell_type": "code",
   "execution_count": 9,
   "metadata": {
    "execution": {
     "iopub.execute_input": "2022-07-15T14:39:18.506352Z",
     "iopub.status.busy": "2022-07-15T14:39:18.506099Z",
     "iopub.status.idle": "2022-07-15T14:39:18.534760Z",
     "shell.execute_reply": "2022-07-15T14:39:18.534010Z"
    }
   },
   "outputs": [
    {
     "data": {
      "image/png": "[encoded data removed]",
      "text/latex": [
       "$\\displaystyle 0.259979158741567$"
      ],
      "text/plain": [
       "0.25997915874156663"
      ]
     },
     "execution_count": 9,
     "metadata": {},
     "output_type": "execute_result"
    }
   ],
   "source": [
    "1.96*(cdf_1['y'] - cdf_0['y']).std() / np.sqrt(len(df))"
   ]
  },
  {
   "cell_type": "markdown",
   "metadata": {},
   "source": [
    "Comparing to the estimate from OLS."
   ]
  },
  {
   "cell_type": "code",
   "execution_count": 10,
   "metadata": {
    "execution": {
     "iopub.execute_input": "2022-07-15T14:39:18.538172Z",
     "iopub.status.busy": "2022-07-15T14:39:18.537914Z",
     "iopub.status.idle": "2022-07-15T14:39:18.554650Z",
     "shell.execute_reply": "2022-07-15T14:39:18.554058Z"
    }
   },
   "outputs": [
    {
     "data": {
      "text/html": [
       "<table class=\"simpletable\">\n",
       "<caption>OLS Regression Results</caption>\n",
       "<tr>\n",
       "  <th>Dep. Variable:</th>            <td>y</td>        <th>  R-squared (uncentered):</th>      <td>   0.948</td>\n",
       "</tr>\n",
       "<tr>\n",
       "  <th>Model:</th>                   <td>OLS</td>       <th>  Adj. R-squared (uncentered):</th> <td>   0.948</td>\n",
       "</tr>\n",
       "<tr>\n",
       "  <th>Method:</th>             <td>Least Squares</td>  <th>  F-statistic:       </th>          <td>   9114.</td>\n",
       "</tr>\n",
       "<tr>\n",
       "  <th>Date:</th>             <td>Fri, 15 Jul 2022</td> <th>  Prob (F-statistic):</th>           <td>  0.00</td> \n",
       "</tr>\n",
       "<tr>\n",
       "  <th>Time:</th>                 <td>14:39:18</td>     <th>  Log-Likelihood:    </th>          <td> -1411.0</td>\n",
       "</tr>\n",
       "<tr>\n",
       "  <th>No. Observations:</th>      <td>  1000</td>      <th>  AIC:               </th>          <td>   2826.</td>\n",
       "</tr>\n",
       "<tr>\n",
       "  <th>Df Residuals:</th>          <td>   998</td>      <th>  BIC:               </th>          <td>   2836.</td>\n",
       "</tr>\n",
       "<tr>\n",
       "  <th>Df Model:</th>              <td>     2</td>      <th>                     </th>              <td> </td>   \n",
       "</tr>\n",
       "<tr>\n",
       "  <th>Covariance Type:</th>      <td>nonrobust</td>    <th>                     </th>              <td> </td>   \n",
       "</tr>\n",
       "</table>\n",
       "<table class=\"simpletable\">\n",
       "<tr>\n",
       "   <td></td>     <th>coef</th>     <th>std err</th>      <th>t</th>      <th>P>|t|</th>  <th>[0.025</th>    <th>0.975]</th>  \n",
       "</tr>\n",
       "<tr>\n",
       "  <th>x1</th> <td>    2.7529</td> <td>    0.030</td> <td>   92.547</td> <td> 0.000</td> <td>    2.695</td> <td>    2.811</td>\n",
       "</tr>\n",
       "<tr>\n",
       "  <th>x2</th> <td>    5.0053</td> <td>    0.046</td> <td>  109.391</td> <td> 0.000</td> <td>    4.915</td> <td>    5.095</td>\n",
       "</tr>\n",
       "</table>\n",
       "<table class=\"simpletable\">\n",
       "<tr>\n",
       "  <th>Omnibus:</th>       <td> 0.119</td> <th>  Durbin-Watson:     </th> <td>   2.067</td>\n",
       "</tr>\n",
       "<tr>\n",
       "  <th>Prob(Omnibus):</th> <td> 0.942</td> <th>  Jarque-Bera (JB):  </th> <td>   0.072</td>\n",
       "</tr>\n",
       "<tr>\n",
       "  <th>Skew:</th>          <td> 0.017</td> <th>  Prob(JB):          </th> <td>   0.965</td>\n",
       "</tr>\n",
       "<tr>\n",
       "  <th>Kurtosis:</th>      <td> 3.023</td> <th>  Cond. No.          </th> <td>    1.57</td>\n",
       "</tr>\n",
       "</table><br/><br/>Notes:<br/>[1] R² is computed without centering (uncentered) since the model does not contain a constant.<br/>[2] Standard Errors assume that the covariance matrix of the errors is correctly specified."
      ],
      "text/plain": [
       "<class 'statsmodels.iolib.summary.Summary'>\n",
       "\"\"\"\n",
       "                                 OLS Regression Results                                \n",
       "=======================================================================================\n",
       "Dep. Variable:                      y   R-squared (uncentered):                   0.948\n",
       "Model:                            OLS   Adj. R-squared (uncentered):              0.948\n",
       "Method:                 Least Squares   F-statistic:                              9114.\n",
       "Date:                Fri, 15 Jul 2022   Prob (F-statistic):                        0.00\n",
       "Time:                        14:39:18   Log-Likelihood:                         -1411.0\n",
       "No. Observations:                1000   AIC:                                      2826.\n",
       "Df Residuals:                     998   BIC:                                      2836.\n",
       "Df Model:                           2                                                  \n",
       "Covariance Type:            nonrobust                                                  \n",
       "==============================================================================\n",
       "                 coef    std err          t      P>|t|      [0.025      0.975]\n",
       "------------------------------------------------------------------------------\n",
       "x1             2.7529      0.030     92.547      0.000       2.695       2.811\n",
       "x2             5.0053      0.046    109.391      0.000       4.915       5.095\n",
       "==============================================================================\n",
       "Omnibus:                        0.119   Durbin-Watson:                   2.067\n",
       "Prob(Omnibus):                  0.942   Jarque-Bera (JB):                0.072\n",
       "Skew:                           0.017   Prob(JB):                        0.965\n",
       "Kurtosis:                       3.023   Cond. No.                         1.57\n",
       "==============================================================================\n",
       "\n",
       "Notes:\n",
       "[1] R² is computed without centering (uncentered) since the model does not contain a constant.\n",
       "[2] Standard Errors assume that the covariance matrix of the errors is correctly specified.\n",
       "\"\"\""
      ]
     },
     "execution_count": 10,
     "metadata": {},
     "output_type": "execute_result"
    }
   ],
   "source": [
    "model = OLS(np.asarray(df[outcome]), np.asarray(df[[common_cause, treatment]], dtype=np.float64))\n",
    "result = model.fit()\n",
    "result.summary()"
   ]
  }
 ],
 "metadata": {
  "kernelspec": {
   "display_name": "Python 3",
   "language": "python",
   "name": "python3"
  },
  "language_info": {
   "codemirror_mode": {
    "name": "ipython",
    "version": 3
   },
   "file_extension": ".py",
   "mimetype": "text/x-python",
   "name": "python",
   "nbconvert_exporter": "python",
   "pygments_lexer": "ipython3",
   "version": "3.8.10"
  },
  "toc": {
   "base_numbering": 1,
   "nav_menu": {},
   "number_sections": false,
   "sideBar": true,
   "skip_h1_title": true,
   "title_cell": "Table of Contents",
   "title_sidebar": "Contents",
   "toc_cell": false,
   "toc_position": {},
   "toc_section_display": true,
   "toc_window_display": false
  }
 },
 "nbformat": 4,
 "nbformat_minor": 4
}
