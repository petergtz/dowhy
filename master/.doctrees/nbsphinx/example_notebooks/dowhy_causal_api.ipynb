{
 "cells": [
  {
   "cell_type": "markdown",
   "metadata": {},
   "source": [
    "# Demo for the DoWhy causal API\n",
    "We show a simple example of adding a causal extension to any dataframe. "
   ]
  },
  {
   "cell_type": "code",
   "execution_count": 1,
   "metadata": {
    "execution": {
     "iopub.execute_input": "2022-07-20T21:23:40.207018Z",
     "iopub.status.busy": "2022-07-20T21:23:40.206765Z",
     "iopub.status.idle": "2022-07-20T21:23:41.425845Z",
     "shell.execute_reply": "2022-07-20T21:23:41.424723Z"
    }
   },
   "outputs": [
    {
     "name": "stdout",
     "output_type": "stream",
     "text": [
      "keywords are unexpanded, not using\n"
     ]
    }
   ],
   "source": [
    "import dowhy.datasets\n",
    "import dowhy.api\n",
    "\n",
    "import numpy as np\n",
    "import pandas as pd\n",
    "\n",
    "from statsmodels.api import OLS"
   ]
  },
  {
   "cell_type": "code",
   "execution_count": 2,
   "metadata": {
    "execution": {
     "iopub.execute_input": "2022-07-20T21:23:41.431420Z",
     "iopub.status.busy": "2022-07-20T21:23:41.430912Z",
     "iopub.status.idle": "2022-07-20T21:23:41.477952Z",
     "shell.execute_reply": "2022-07-20T21:23:41.476680Z"
    }
   },
   "outputs": [
    {
     "data": {
      "text/html": [
       "<div>\n",
       "<style scoped>\n",
       "    .dataframe tbody tr th:only-of-type {\n",
       "        vertical-align: middle;\n",
       "    }\n",
       "\n",
       "    .dataframe tbody tr th {\n",
       "        vertical-align: top;\n",
       "    }\n",
       "\n",
       "    .dataframe thead th {\n",
       "        text-align: right;\n",
       "    }\n",
       "</style>\n",
       "<table border=\"1\" class=\"dataframe\">\n",
       "  <thead>\n",
       "    <tr style=\"text-align: right;\">\n",
       "      <th></th>\n",
       "      <th>W0</th>\n",
       "      <th>v0</th>\n",
       "      <th>y</th>\n",
       "    </tr>\n",
       "  </thead>\n",
       "  <tbody>\n",
       "    <tr>\n",
       "      <th>0</th>\n",
       "      <td>1.895613</td>\n",
       "      <td>False</td>\n",
       "      <td>0.032257</td>\n",
       "    </tr>\n",
       "    <tr>\n",
       "      <th>1</th>\n",
       "      <td>-0.622533</td>\n",
       "      <td>False</td>\n",
       "      <td>-1.312021</td>\n",
       "    </tr>\n",
       "    <tr>\n",
       "      <th>2</th>\n",
       "      <td>-0.644899</td>\n",
       "      <td>False</td>\n",
       "      <td>0.757557</td>\n",
       "    </tr>\n",
       "    <tr>\n",
       "      <th>3</th>\n",
       "      <td>1.765545</td>\n",
       "      <td>True</td>\n",
       "      <td>5.356255</td>\n",
       "    </tr>\n",
       "    <tr>\n",
       "      <th>4</th>\n",
       "      <td>0.704589</td>\n",
       "      <td>False</td>\n",
       "      <td>0.917552</td>\n",
       "    </tr>\n",
       "    <tr>\n",
       "      <th>...</th>\n",
       "      <td>...</td>\n",
       "      <td>...</td>\n",
       "      <td>...</td>\n",
       "    </tr>\n",
       "    <tr>\n",
       "      <th>995</th>\n",
       "      <td>1.267934</td>\n",
       "      <td>True</td>\n",
       "      <td>3.880754</td>\n",
       "    </tr>\n",
       "    <tr>\n",
       "      <th>996</th>\n",
       "      <td>2.654832</td>\n",
       "      <td>True</td>\n",
       "      <td>3.932898</td>\n",
       "    </tr>\n",
       "    <tr>\n",
       "      <th>997</th>\n",
       "      <td>1.339011</td>\n",
       "      <td>True</td>\n",
       "      <td>7.140855</td>\n",
       "    </tr>\n",
       "    <tr>\n",
       "      <th>998</th>\n",
       "      <td>2.148516</td>\n",
       "      <td>True</td>\n",
       "      <td>5.773133</td>\n",
       "    </tr>\n",
       "    <tr>\n",
       "      <th>999</th>\n",
       "      <td>1.528687</td>\n",
       "      <td>True</td>\n",
       "      <td>5.005277</td>\n",
       "    </tr>\n",
       "  </tbody>\n",
       "</table>\n",
       "<p>1000 rows × 3 columns</p>\n",
       "</div>"
      ],
      "text/plain": [
       "           W0     v0         y\n",
       "0    1.895613  False  0.032257\n",
       "1   -0.622533  False -1.312021\n",
       "2   -0.644899  False  0.757557\n",
       "3    1.765545   True  5.356255\n",
       "4    0.704589  False  0.917552\n",
       "..        ...    ...       ...\n",
       "995  1.267934   True  3.880754\n",
       "996  2.654832   True  3.932898\n",
       "997  1.339011   True  7.140855\n",
       "998  2.148516   True  5.773133\n",
       "999  1.528687   True  5.005277\n",
       "\n",
       "[1000 rows x 3 columns]"
      ]
     },
     "execution_count": 2,
     "metadata": {},
     "output_type": "execute_result"
    }
   ],
   "source": [
    "data = dowhy.datasets.linear_dataset(beta=5,\n",
    "        num_common_causes=1,\n",
    "        num_instruments = 0,\n",
    "        num_samples=1000,\n",
    "        treatment_is_binary=True)\n",
    "df = data['df']\n",
    "df['y'] = df['y'] + np.random.normal(size=len(df)) # Adding noise to data. Without noise, the variance in Y|X, Z is zero, and mcmc fails.\n",
    "#data['dot_graph'] = 'digraph { v ->y;X0-> v;X0-> y;}'\n",
    "\n",
    "treatment= data[\"treatment_name\"][0]\n",
    "outcome = data[\"outcome_name\"][0]\n",
    "common_cause = data[\"common_causes_names\"][0]\n",
    "df"
   ]
  },
  {
   "cell_type": "code",
   "execution_count": 3,
   "metadata": {
    "execution": {
     "iopub.execute_input": "2022-07-20T21:23:41.481464Z",
     "iopub.status.busy": "2022-07-20T21:23:41.481016Z",
     "iopub.status.idle": "2022-07-20T21:23:42.342635Z",
     "shell.execute_reply": "2022-07-20T21:23:42.341975Z"
    }
   },
   "outputs": [
    {
     "data": {
      "text/plain": [
       "<AxesSubplot:xlabel='v0'>"
      ]
     },
     "execution_count": 3,
     "metadata": {},
     "output_type": "execute_result"
    },
    {
     "data": {
      "image/png": "[encoded data removed]",
      "text/plain": [
       "<Figure size 432x288 with 1 Axes>"
      ]
     },
     "metadata": {
      "needs_background": "light"
     },
     "output_type": "display_data"
    }
   ],
   "source": [
    "# data['df'] is just a regular pandas.DataFrame\n",
    "df.causal.do(x=treatment,\n",
    "                     variable_types={treatment: 'b', outcome: 'c', common_cause: 'c'},\n",
    "                     outcome=outcome,\n",
    "                     common_causes=[common_cause],\n",
    "                     proceed_when_unidentifiable=True).groupby(treatment).mean().plot(y=outcome, kind='bar')"
   ]
  },
  {
   "cell_type": "code",
   "execution_count": 4,
   "metadata": {
    "execution": {
     "iopub.execute_input": "2022-07-20T21:23:42.346565Z",
     "iopub.status.busy": "2022-07-20T21:23:42.345997Z",
     "iopub.status.idle": "2022-07-20T21:23:42.445676Z",
     "shell.execute_reply": "2022-07-20T21:23:42.444938Z"
    }
   },
   "outputs": [
    {
     "data": {
      "text/plain": [
       "<AxesSubplot:xlabel='v0'>"
      ]
     },
     "execution_count": 4,
     "metadata": {},
     "output_type": "execute_result"
    },
    {
     "data": {
      "image/png": "[encoded data removed]",
      "text/plain": [
       "<Figure size 432x288 with 1 Axes>"
      ]
     },
     "metadata": {
      "needs_background": "light"
     },
     "output_type": "display_data"
    }
   ],
   "source": [
    "df.causal.do(x={treatment: 1}, \n",
    "              variable_types={treatment:'b', outcome: 'c', common_cause: 'c'}, \n",
    "              outcome=outcome,\n",
    "              method='weighting', \n",
    "              common_causes=[common_cause],\n",
    "              proceed_when_unidentifiable=True).groupby(treatment).mean().plot(y=outcome, kind='bar')"
   ]
  },
  {
   "cell_type": "code",
   "execution_count": 5,
   "metadata": {
    "execution": {
     "iopub.execute_input": "2022-07-20T21:23:42.450080Z",
     "iopub.status.busy": "2022-07-20T21:23:42.448904Z",
     "iopub.status.idle": "2022-07-20T21:23:42.484174Z",
     "shell.execute_reply": "2022-07-20T21:23:42.483607Z"
    }
   },
   "outputs": [],
   "source": [
    "cdf_1 = df.causal.do(x={treatment: 1}, \n",
    "              variable_types={treatment: 'b', outcome: 'c', common_cause: 'c'}, \n",
    "              outcome=outcome, \n",
    "              dot_graph=data['dot_graph'],\n",
    "              proceed_when_unidentifiable=True)\n",
    "\n",
    "cdf_0 = df.causal.do(x={treatment: 0}, \n",
    "              variable_types={treatment: 'b', outcome: 'c', common_cause: 'c'}, \n",
    "              outcome=outcome, \n",
    "              dot_graph=data['dot_graph'],\n",
    "              proceed_when_unidentifiable=True)\n"
   ]
  },
  {
   "cell_type": "code",
   "execution_count": 6,
   "metadata": {
    "execution": {
     "iopub.execute_input": "2022-07-20T21:23:42.488954Z",
     "iopub.status.busy": "2022-07-20T21:23:42.487876Z",
     "iopub.status.idle": "2022-07-20T21:23:42.501427Z",
     "shell.execute_reply": "2022-07-20T21:23:42.500928Z"
    },
    "scrolled": true
   },
   "outputs": [
    {
     "data": {
      "text/html": [
       "<div>\n",
       "<style scoped>\n",
       "    .dataframe tbody tr th:only-of-type {\n",
       "        vertical-align: middle;\n",
       "    }\n",
       "\n",
       "    .dataframe tbody tr th {\n",
       "        vertical-align: top;\n",
       "    }\n",
       "\n",
       "    .dataframe thead th {\n",
       "        text-align: right;\n",
       "    }\n",
       "</style>\n",
       "<table border=\"1\" class=\"dataframe\">\n",
       "  <thead>\n",
       "    <tr style=\"text-align: right;\">\n",
       "      <th></th>\n",
       "      <th>W0</th>\n",
       "      <th>v0</th>\n",
       "      <th>y</th>\n",
       "      <th>propensity_score</th>\n",
       "      <th>weight</th>\n",
       "    </tr>\n",
       "  </thead>\n",
       "  <tbody>\n",
       "    <tr>\n",
       "      <th>0</th>\n",
       "      <td>1.130365</td>\n",
       "      <td>False</td>\n",
       "      <td>0.440583</td>\n",
       "      <td>0.198257</td>\n",
       "      <td>5.043948</td>\n",
       "    </tr>\n",
       "    <tr>\n",
       "      <th>1</th>\n",
       "      <td>1.133280</td>\n",
       "      <td>False</td>\n",
       "      <td>-0.751090</td>\n",
       "      <td>0.197654</td>\n",
       "      <td>5.059344</td>\n",
       "    </tr>\n",
       "    <tr>\n",
       "      <th>2</th>\n",
       "      <td>0.154514</td>\n",
       "      <td>False</td>\n",
       "      <td>-1.052808</td>\n",
       "      <td>0.468818</td>\n",
       "      <td>2.133026</td>\n",
       "    </tr>\n",
       "    <tr>\n",
       "      <th>3</th>\n",
       "      <td>-0.801882</td>\n",
       "      <td>False</td>\n",
       "      <td>-0.216365</td>\n",
       "      <td>0.754373</td>\n",
       "      <td>1.325604</td>\n",
       "    </tr>\n",
       "    <tr>\n",
       "      <th>4</th>\n",
       "      <td>-2.659556</td>\n",
       "      <td>False</td>\n",
       "      <td>0.895378</td>\n",
       "      <td>0.971918</td>\n",
       "      <td>1.028894</td>\n",
       "    </tr>\n",
       "    <tr>\n",
       "      <th>...</th>\n",
       "      <td>...</td>\n",
       "      <td>...</td>\n",
       "      <td>...</td>\n",
       "      <td>...</td>\n",
       "      <td>...</td>\n",
       "    </tr>\n",
       "    <tr>\n",
       "      <th>995</th>\n",
       "      <td>0.619895</td>\n",
       "      <td>False</td>\n",
       "      <td>0.251488</td>\n",
       "      <td>0.324830</td>\n",
       "      <td>3.078533</td>\n",
       "    </tr>\n",
       "    <tr>\n",
       "      <th>996</th>\n",
       "      <td>0.858651</td>\n",
       "      <td>False</td>\n",
       "      <td>0.427064</td>\n",
       "      <td>0.260580</td>\n",
       "      <td>3.837591</td>\n",
       "    </tr>\n",
       "    <tr>\n",
       "      <th>997</th>\n",
       "      <td>0.704589</td>\n",
       "      <td>False</td>\n",
       "      <td>0.917552</td>\n",
       "      <td>0.301095</td>\n",
       "      <td>3.321209</td>\n",
       "    </tr>\n",
       "    <tr>\n",
       "      <th>998</th>\n",
       "      <td>2.230778</td>\n",
       "      <td>False</td>\n",
       "      <td>0.511255</td>\n",
       "      <td>0.055622</td>\n",
       "      <td>17.978639</td>\n",
       "    </tr>\n",
       "    <tr>\n",
       "      <th>999</th>\n",
       "      <td>0.608746</td>\n",
       "      <td>False</td>\n",
       "      <td>0.508078</td>\n",
       "      <td>0.328026</td>\n",
       "      <td>3.048537</td>\n",
       "    </tr>\n",
       "  </tbody>\n",
       "</table>\n",
       "<p>1000 rows × 5 columns</p>\n",
       "</div>"
      ],
      "text/plain": [
       "           W0     v0         y  propensity_score     weight\n",
       "0    1.130365  False  0.440583          0.198257   5.043948\n",
       "1    1.133280  False -0.751090          0.197654   5.059344\n",
       "2    0.154514  False -1.052808          0.468818   2.133026\n",
       "3   -0.801882  False -0.216365          0.754373   1.325604\n",
       "4   -2.659556  False  0.895378          0.971918   1.028894\n",
       "..        ...    ...       ...               ...        ...\n",
       "995  0.619895  False  0.251488          0.324830   3.078533\n",
       "996  0.858651  False  0.427064          0.260580   3.837591\n",
       "997  0.704589  False  0.917552          0.301095   3.321209\n",
       "998  2.230778  False  0.511255          0.055622  17.978639\n",
       "999  0.608746  False  0.508078          0.328026   3.048537\n",
       "\n",
       "[1000 rows x 5 columns]"
      ]
     },
     "execution_count": 6,
     "metadata": {},
     "output_type": "execute_result"
    }
   ],
   "source": [
    "cdf_0"
   ]
  },
  {
   "cell_type": "code",
   "execution_count": 7,
   "metadata": {
    "execution": {
     "iopub.execute_input": "2022-07-20T21:23:42.505316Z",
     "iopub.status.busy": "2022-07-20T21:23:42.504311Z",
     "iopub.status.idle": "2022-07-20T21:23:42.517788Z",
     "shell.execute_reply": "2022-07-20T21:23:42.517134Z"
    }
   },
   "outputs": [
    {
     "data": {
      "text/html": [
       "<div>\n",
       "<style scoped>\n",
       "    .dataframe tbody tr th:only-of-type {\n",
       "        vertical-align: middle;\n",
       "    }\n",
       "\n",
       "    .dataframe tbody tr th {\n",
       "        vertical-align: top;\n",
       "    }\n",
       "\n",
       "    .dataframe thead th {\n",
       "        text-align: right;\n",
       "    }\n",
       "</style>\n",
       "<table border=\"1\" class=\"dataframe\">\n",
       "  <thead>\n",
       "    <tr style=\"text-align: right;\">\n",
       "      <th></th>\n",
       "      <th>W0</th>\n",
       "      <th>v0</th>\n",
       "      <th>y</th>\n",
       "      <th>propensity_score</th>\n",
       "      <th>weight</th>\n",
       "    </tr>\n",
       "  </thead>\n",
       "  <tbody>\n",
       "    <tr>\n",
       "      <th>0</th>\n",
       "      <td>-0.208642</td>\n",
       "      <td>True</td>\n",
       "      <td>3.571498</td>\n",
       "      <td>0.413723</td>\n",
       "      <td>2.417077</td>\n",
       "    </tr>\n",
       "    <tr>\n",
       "      <th>1</th>\n",
       "      <td>0.292691</td>\n",
       "      <td>True</td>\n",
       "      <td>6.220223</td>\n",
       "      <td>0.575676</td>\n",
       "      <td>1.737087</td>\n",
       "    </tr>\n",
       "    <tr>\n",
       "      <th>2</th>\n",
       "      <td>0.444647</td>\n",
       "      <td>True</td>\n",
       "      <td>4.967821</td>\n",
       "      <td>0.623204</td>\n",
       "      <td>1.604610</td>\n",
       "    </tr>\n",
       "    <tr>\n",
       "      <th>3</th>\n",
       "      <td>-0.183139</td>\n",
       "      <td>True</td>\n",
       "      <td>6.234874</td>\n",
       "      <td>0.421810</td>\n",
       "      <td>2.370733</td>\n",
       "    </tr>\n",
       "    <tr>\n",
       "      <th>4</th>\n",
       "      <td>0.983309</td>\n",
       "      <td>True</td>\n",
       "      <td>5.511330</td>\n",
       "      <td>0.769500</td>\n",
       "      <td>1.299546</td>\n",
       "    </tr>\n",
       "    <tr>\n",
       "      <th>...</th>\n",
       "      <td>...</td>\n",
       "      <td>...</td>\n",
       "      <td>...</td>\n",
       "      <td>...</td>\n",
       "      <td>...</td>\n",
       "    </tr>\n",
       "    <tr>\n",
       "      <th>995</th>\n",
       "      <td>0.444929</td>\n",
       "      <td>True</td>\n",
       "      <td>3.441169</td>\n",
       "      <td>0.623291</td>\n",
       "      <td>1.604388</td>\n",
       "    </tr>\n",
       "    <tr>\n",
       "      <th>996</th>\n",
       "      <td>1.472040</td>\n",
       "      <td>True</td>\n",
       "      <td>5.534681</td>\n",
       "      <td>0.863268</td>\n",
       "      <td>1.158389</td>\n",
       "    </tr>\n",
       "    <tr>\n",
       "      <th>997</th>\n",
       "      <td>-0.235321</td>\n",
       "      <td>True</td>\n",
       "      <td>3.373979</td>\n",
       "      <td>0.405312</td>\n",
       "      <td>2.467238</td>\n",
       "    </tr>\n",
       "    <tr>\n",
       "      <th>998</th>\n",
       "      <td>0.340457</td>\n",
       "      <td>True</td>\n",
       "      <td>5.381418</td>\n",
       "      <td>0.590813</td>\n",
       "      <td>1.692583</td>\n",
       "    </tr>\n",
       "    <tr>\n",
       "      <th>999</th>\n",
       "      <td>-0.669082</td>\n",
       "      <td>True</td>\n",
       "      <td>5.823025</td>\n",
       "      <td>0.279101</td>\n",
       "      <td>3.582933</td>\n",
       "    </tr>\n",
       "  </tbody>\n",
       "</table>\n",
       "<p>1000 rows × 5 columns</p>\n",
       "</div>"
      ],
      "text/plain": [
       "           W0    v0         y  propensity_score    weight\n",
       "0   -0.208642  True  3.571498          0.413723  2.417077\n",
       "1    0.292691  True  6.220223          0.575676  1.737087\n",
       "2    0.444647  True  4.967821          0.623204  1.604610\n",
       "3   -0.183139  True  6.234874          0.421810  2.370733\n",
       "4    0.983309  True  5.511330          0.769500  1.299546\n",
       "..        ...   ...       ...               ...       ...\n",
       "995  0.444929  True  3.441169          0.623291  1.604388\n",
       "996  1.472040  True  5.534681          0.863268  1.158389\n",
       "997 -0.235321  True  3.373979          0.405312  2.467238\n",
       "998  0.340457  True  5.381418          0.590813  1.692583\n",
       "999 -0.669082  True  5.823025          0.279101  3.582933\n",
       "\n",
       "[1000 rows x 5 columns]"
      ]
     },
     "execution_count": 7,
     "metadata": {},
     "output_type": "execute_result"
    }
   ],
   "source": [
    "cdf_1"
   ]
  },
  {
   "cell_type": "markdown",
   "metadata": {},
   "source": [
    "## Comparing the estimate to Linear Regression\n",
    "First, estimating the effect using the causal data frame, and the 95% confidence interval."
   ]
  },
  {
   "cell_type": "code",
   "execution_count": 8,
   "metadata": {
    "execution": {
     "iopub.execute_input": "2022-07-20T21:23:42.522146Z",
     "iopub.status.busy": "2022-07-20T21:23:42.521054Z",
     "iopub.status.idle": "2022-07-20T21:23:42.630825Z",
     "shell.execute_reply": "2022-07-20T21:23:42.630144Z"
    }
   },
   "outputs": [
    {
     "data": {
      "image/png": "[encoded data removed]",
      "text/latex": [
       "$\\displaystyle 5.0142047527013$"
      ],
      "text/plain": [
       "5.014204752701296"
      ]
     },
     "execution_count": 8,
     "metadata": {},
     "output_type": "execute_result"
    }
   ],
   "source": [
    "(cdf_1['y'] - cdf_0['y']).mean()"
   ]
  },
  {
   "cell_type": "code",
   "execution_count": 9,
   "metadata": {
    "execution": {
     "iopub.execute_input": "2022-07-20T21:23:42.634480Z",
     "iopub.status.busy": "2022-07-20T21:23:42.634014Z",
     "iopub.status.idle": "2022-07-20T21:23:42.662158Z",
     "shell.execute_reply": "2022-07-20T21:23:42.661399Z"
    }
   },
   "outputs": [
    {
     "data": {
      "image/png": "[encoded data removed]",
      "text/latex": [
       "$\\displaystyle 0.0844373048080821$"
      ],
      "text/plain": [
       "0.0844373048080821"
      ]
     },
     "execution_count": 9,
     "metadata": {},
     "output_type": "execute_result"
    }
   ],
   "source": [
    "1.96*(cdf_1['y'] - cdf_0['y']).std() / np.sqrt(len(df))"
   ]
  },
  {
   "cell_type": "markdown",
   "metadata": {},
   "source": [
    "Comparing to the estimate from OLS."
   ]
  },
  {
   "cell_type": "code",
   "execution_count": 10,
   "metadata": {
    "execution": {
     "iopub.execute_input": "2022-07-20T21:23:42.666325Z",
     "iopub.status.busy": "2022-07-20T21:23:42.665847Z",
     "iopub.status.idle": "2022-07-20T21:23:42.683612Z",
     "shell.execute_reply": "2022-07-20T21:23:42.682688Z"
    }
   },
   "outputs": [
    {
     "data": {
      "text/html": [
       "<table class=\"simpletable\">\n",
       "<caption>OLS Regression Results</caption>\n",
       "<tr>\n",
       "  <th>Dep. Variable:</th>            <td>y</td>        <th>  R-squared (uncentered):</th>      <td>   0.941</td>\n",
       "</tr>\n",
       "<tr>\n",
       "  <th>Model:</th>                   <td>OLS</td>       <th>  Adj. R-squared (uncentered):</th> <td>   0.941</td>\n",
       "</tr>\n",
       "<tr>\n",
       "  <th>Method:</th>             <td>Least Squares</td>  <th>  F-statistic:       </th>          <td>   8029.</td>\n",
       "</tr>\n",
       "<tr>\n",
       "  <th>Date:</th>             <td>Wed, 20 Jul 2022</td> <th>  Prob (F-statistic):</th>           <td>  0.00</td> \n",
       "</tr>\n",
       "<tr>\n",
       "  <th>Time:</th>                 <td>21:23:42</td>     <th>  Log-Likelihood:    </th>          <td> -1408.9</td>\n",
       "</tr>\n",
       "<tr>\n",
       "  <th>No. Observations:</th>      <td>  1000</td>      <th>  AIC:               </th>          <td>   2822.</td>\n",
       "</tr>\n",
       "<tr>\n",
       "  <th>Df Residuals:</th>          <td>   998</td>      <th>  BIC:               </th>          <td>   2832.</td>\n",
       "</tr>\n",
       "<tr>\n",
       "  <th>Df Model:</th>              <td>     2</td>      <th>                     </th>              <td> </td>   \n",
       "</tr>\n",
       "<tr>\n",
       "  <th>Covariance Type:</th>      <td>nonrobust</td>    <th>                     </th>              <td> </td>   \n",
       "</tr>\n",
       "</table>\n",
       "<table class=\"simpletable\">\n",
       "<tr>\n",
       "   <td></td>     <th>coef</th>     <th>std err</th>      <th>t</th>      <th>P>|t|</th>  <th>[0.025</th>    <th>0.975]</th>  \n",
       "</tr>\n",
       "<tr>\n",
       "  <th>x1</th> <td>    0.0926</td> <td>    0.035</td> <td>    2.630</td> <td> 0.009</td> <td>    0.023</td> <td>    0.162</td>\n",
       "</tr>\n",
       "<tr>\n",
       "  <th>x2</th> <td>    4.9854</td> <td>    0.052</td> <td>   96.557</td> <td> 0.000</td> <td>    4.884</td> <td>    5.087</td>\n",
       "</tr>\n",
       "</table>\n",
       "<table class=\"simpletable\">\n",
       "<tr>\n",
       "  <th>Omnibus:</th>       <td> 0.845</td> <th>  Durbin-Watson:     </th> <td>   2.039</td>\n",
       "</tr>\n",
       "<tr>\n",
       "  <th>Prob(Omnibus):</th> <td> 0.655</td> <th>  Jarque-Bera (JB):  </th> <td>   0.893</td>\n",
       "</tr>\n",
       "<tr>\n",
       "  <th>Skew:</th>          <td> 0.068</td> <th>  Prob(JB):          </th> <td>   0.640</td>\n",
       "</tr>\n",
       "<tr>\n",
       "  <th>Kurtosis:</th>      <td> 2.948</td> <th>  Cond. No.          </th> <td>    2.35</td>\n",
       "</tr>\n",
       "</table><br/><br/>Notes:<br/>[1] R² is computed without centering (uncentered) since the model does not contain a constant.<br/>[2] Standard Errors assume that the covariance matrix of the errors is correctly specified."
      ],
      "text/plain": [
       "<class 'statsmodels.iolib.summary.Summary'>\n",
       "\"\"\"\n",
       "                                 OLS Regression Results                                \n",
       "=======================================================================================\n",
       "Dep. Variable:                      y   R-squared (uncentered):                   0.941\n",
       "Model:                            OLS   Adj. R-squared (uncentered):              0.941\n",
       "Method:                 Least Squares   F-statistic:                              8029.\n",
       "Date:                Wed, 20 Jul 2022   Prob (F-statistic):                        0.00\n",
       "Time:                        21:23:42   Log-Likelihood:                         -1408.9\n",
       "No. Observations:                1000   AIC:                                      2822.\n",
       "Df Residuals:                     998   BIC:                                      2832.\n",
       "Df Model:                           2                                                  \n",
       "Covariance Type:            nonrobust                                                  \n",
       "==============================================================================\n",
       "                 coef    std err          t      P>|t|      [0.025      0.975]\n",
       "------------------------------------------------------------------------------\n",
       "x1             0.0926      0.035      2.630      0.009       0.023       0.162\n",
       "x2             4.9854      0.052     96.557      0.000       4.884       5.087\n",
       "==============================================================================\n",
       "Omnibus:                        0.845   Durbin-Watson:                   2.039\n",
       "Prob(Omnibus):                  0.655   Jarque-Bera (JB):                0.893\n",
       "Skew:                           0.068   Prob(JB):                        0.640\n",
       "Kurtosis:                       2.948   Cond. No.                         2.35\n",
       "==============================================================================\n",
       "\n",
       "Notes:\n",
       "[1] R² is computed without centering (uncentered) since the model does not contain a constant.\n",
       "[2] Standard Errors assume that the covariance matrix of the errors is correctly specified.\n",
       "\"\"\""
      ]
     },
     "execution_count": 10,
     "metadata": {},
     "output_type": "execute_result"
    }
   ],
   "source": [
    "model = OLS(np.asarray(df[outcome]), np.asarray(df[[common_cause, treatment]], dtype=np.float64))\n",
    "result = model.fit()\n",
    "result.summary()"
   ]
  }
 ],
 "metadata": {
  "kernelspec": {
   "display_name": "Python 3",
   "language": "python",
   "name": "python3"
  },
  "language_info": {
   "codemirror_mode": {
    "name": "ipython",
    "version": 3
   },
   "file_extension": ".py",
   "mimetype": "text/x-python",
   "name": "python",
   "nbconvert_exporter": "python",
   "pygments_lexer": "ipython3",
   "version": "3.8.10"
  },
  "toc": {
   "base_numbering": 1,
   "nav_menu": {},
   "number_sections": false,
   "sideBar": true,
   "skip_h1_title": true,
   "title_cell": "Table of Contents",
   "title_sidebar": "Contents",
   "toc_cell": false,
   "toc_position": {},
   "toc_section_display": true,
   "toc_window_display": false
  }
 },
 "nbformat": 4,
 "nbformat_minor": 4
}
