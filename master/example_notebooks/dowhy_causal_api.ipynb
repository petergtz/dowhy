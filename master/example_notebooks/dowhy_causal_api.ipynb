{
 "cells": [
  {
   "cell_type": "markdown",
   "metadata": {},
   "source": [
    "# Demo for the DoWhy causal API\n",
    "We show a simple example of adding a causal extension to any dataframe. "
   ]
  },
  {
   "cell_type": "code",
   "execution_count": 1,
   "metadata": {
    "execution": {
     "iopub.execute_input": "2022-07-21T08:02:06.750712Z",
     "iopub.status.busy": "2022-07-21T08:02:06.750402Z",
     "iopub.status.idle": "2022-07-21T08:02:07.937369Z",
     "shell.execute_reply": "2022-07-21T08:02:07.936521Z"
    }
   },
   "outputs": [
    {
     "name": "stdout",
     "output_type": "stream",
     "text": [
      "keywords are unexpanded, not using\n"
     ]
    }
   ],
   "source": [
    "import dowhy.datasets\n",
    "import dowhy.api\n",
    "\n",
    "import numpy as np\n",
    "import pandas as pd\n",
    "\n",
    "from statsmodels.api import OLS"
   ]
  },
  {
   "cell_type": "code",
   "execution_count": 2,
   "metadata": {
    "execution": {
     "iopub.execute_input": "2022-07-21T08:02:07.941310Z",
     "iopub.status.busy": "2022-07-21T08:02:07.940795Z",
     "iopub.status.idle": "2022-07-21T08:02:07.988181Z",
     "shell.execute_reply": "2022-07-21T08:02:07.987502Z"
    }
   },
   "outputs": [
    {
     "data": {
      "text/html": [
       "<div>\n",
       "<style scoped>\n",
       "    .dataframe tbody tr th:only-of-type {\n",
       "        vertical-align: middle;\n",
       "    }\n",
       "\n",
       "    .dataframe tbody tr th {\n",
       "        vertical-align: top;\n",
       "    }\n",
       "\n",
       "    .dataframe thead th {\n",
       "        text-align: right;\n",
       "    }\n",
       "</style>\n",
       "<table border=\"1\" class=\"dataframe\">\n",
       "  <thead>\n",
       "    <tr style=\"text-align: right;\">\n",
       "      <th></th>\n",
       "      <th>W0</th>\n",
       "      <th>v0</th>\n",
       "      <th>y</th>\n",
       "    </tr>\n",
       "  </thead>\n",
       "  <tbody>\n",
       "    <tr>\n",
       "      <th>0</th>\n",
       "      <td>0.997634</td>\n",
       "      <td>True</td>\n",
       "      <td>7.226835</td>\n",
       "    </tr>\n",
       "    <tr>\n",
       "      <th>1</th>\n",
       "      <td>0.488097</td>\n",
       "      <td>True</td>\n",
       "      <td>5.499293</td>\n",
       "    </tr>\n",
       "    <tr>\n",
       "      <th>2</th>\n",
       "      <td>0.035778</td>\n",
       "      <td>True</td>\n",
       "      <td>6.486450</td>\n",
       "    </tr>\n",
       "    <tr>\n",
       "      <th>3</th>\n",
       "      <td>-0.930496</td>\n",
       "      <td>False</td>\n",
       "      <td>-2.686775</td>\n",
       "    </tr>\n",
       "    <tr>\n",
       "      <th>4</th>\n",
       "      <td>-0.336418</td>\n",
       "      <td>False</td>\n",
       "      <td>-1.882169</td>\n",
       "    </tr>\n",
       "    <tr>\n",
       "      <th>...</th>\n",
       "      <td>...</td>\n",
       "      <td>...</td>\n",
       "      <td>...</td>\n",
       "    </tr>\n",
       "    <tr>\n",
       "      <th>995</th>\n",
       "      <td>-0.332407</td>\n",
       "      <td>True</td>\n",
       "      <td>3.751964</td>\n",
       "    </tr>\n",
       "    <tr>\n",
       "      <th>996</th>\n",
       "      <td>0.525514</td>\n",
       "      <td>True</td>\n",
       "      <td>6.117159</td>\n",
       "    </tr>\n",
       "    <tr>\n",
       "      <th>997</th>\n",
       "      <td>0.162795</td>\n",
       "      <td>False</td>\n",
       "      <td>0.842025</td>\n",
       "    </tr>\n",
       "    <tr>\n",
       "      <th>998</th>\n",
       "      <td>-0.661884</td>\n",
       "      <td>False</td>\n",
       "      <td>-0.783397</td>\n",
       "    </tr>\n",
       "    <tr>\n",
       "      <th>999</th>\n",
       "      <td>0.218219</td>\n",
       "      <td>False</td>\n",
       "      <td>2.152796</td>\n",
       "    </tr>\n",
       "  </tbody>\n",
       "</table>\n",
       "<p>1000 rows × 3 columns</p>\n",
       "</div>"
      ],
      "text/plain": [
       "           W0     v0         y\n",
       "0    0.997634   True  7.226835\n",
       "1    0.488097   True  5.499293\n",
       "2    0.035778   True  6.486450\n",
       "3   -0.930496  False -2.686775\n",
       "4   -0.336418  False -1.882169\n",
       "..        ...    ...       ...\n",
       "995 -0.332407   True  3.751964\n",
       "996  0.525514   True  6.117159\n",
       "997  0.162795  False  0.842025\n",
       "998 -0.661884  False -0.783397\n",
       "999  0.218219  False  2.152796\n",
       "\n",
       "[1000 rows x 3 columns]"
      ]
     },
     "execution_count": 2,
     "metadata": {},
     "output_type": "execute_result"
    }
   ],
   "source": [
    "data = dowhy.datasets.linear_dataset(beta=5,\n",
    "        num_common_causes=1,\n",
    "        num_instruments = 0,\n",
    "        num_samples=1000,\n",
    "        treatment_is_binary=True)\n",
    "df = data['df']\n",
    "df['y'] = df['y'] + np.random.normal(size=len(df)) # Adding noise to data. Without noise, the variance in Y|X, Z is zero, and mcmc fails.\n",
    "#data['dot_graph'] = 'digraph { v ->y;X0-> v;X0-> y;}'\n",
    "\n",
    "treatment= data[\"treatment_name\"][0]\n",
    "outcome = data[\"outcome_name\"][0]\n",
    "common_cause = data[\"common_causes_names\"][0]\n",
    "df"
   ]
  },
  {
   "cell_type": "code",
   "execution_count": 3,
   "metadata": {
    "execution": {
     "iopub.execute_input": "2022-07-21T08:02:07.991567Z",
     "iopub.status.busy": "2022-07-21T08:02:07.991203Z",
     "iopub.status.idle": "2022-07-21T08:02:08.772779Z",
     "shell.execute_reply": "2022-07-21T08:02:08.772191Z"
    }
   },
   "outputs": [
    {
     "data": {
      "text/plain": [
       "<AxesSubplot:xlabel='v0'>"
      ]
     },
     "execution_count": 3,
     "metadata": {},
     "output_type": "execute_result"
    },
    {
     "data": {
      "image/png": "[encoded data removed]",
      "text/plain": [
       "<Figure size 432x288 with 1 Axes>"
      ]
     },
     "metadata": {
      "needs_background": "light"
     },
     "output_type": "display_data"
    }
   ],
   "source": [
    "# data['df'] is just a regular pandas.DataFrame\n",
    "df.causal.do(x=treatment,\n",
    "                     variable_types={treatment: 'b', outcome: 'c', common_cause: 'c'},\n",
    "                     outcome=outcome,\n",
    "                     common_causes=[common_cause],\n",
    "                     proceed_when_unidentifiable=True).groupby(treatment).mean().plot(y=outcome, kind='bar')"
   ]
  },
  {
   "cell_type": "code",
   "execution_count": 4,
   "metadata": {
    "execution": {
     "iopub.execute_input": "2022-07-21T08:02:08.776687Z",
     "iopub.status.busy": "2022-07-21T08:02:08.776167Z",
     "iopub.status.idle": "2022-07-21T08:02:08.873433Z",
     "shell.execute_reply": "2022-07-21T08:02:08.872876Z"
    }
   },
   "outputs": [
    {
     "data": {
      "text/plain": [
       "<AxesSubplot:xlabel='v0'>"
      ]
     },
     "execution_count": 4,
     "metadata": {},
     "output_type": "execute_result"
    },
    {
     "data": {
      "image/png": "[encoded data removed]",
      "text/plain": [
       "<Figure size 432x288 with 1 Axes>"
      ]
     },
     "metadata": {
      "needs_background": "light"
     },
     "output_type": "display_data"
    }
   ],
   "source": [
    "df.causal.do(x={treatment: 1}, \n",
    "              variable_types={treatment:'b', outcome: 'c', common_cause: 'c'}, \n",
    "              outcome=outcome,\n",
    "              method='weighting', \n",
    "              common_causes=[common_cause],\n",
    "              proceed_when_unidentifiable=True).groupby(treatment).mean().plot(y=outcome, kind='bar')"
   ]
  },
  {
   "cell_type": "code",
   "execution_count": 5,
   "metadata": {
    "execution": {
     "iopub.execute_input": "2022-07-21T08:02:08.877581Z",
     "iopub.status.busy": "2022-07-21T08:02:08.876526Z",
     "iopub.status.idle": "2022-07-21T08:02:08.908799Z",
     "shell.execute_reply": "2022-07-21T08:02:08.908238Z"
    }
   },
   "outputs": [],
   "source": [
    "cdf_1 = df.causal.do(x={treatment: 1}, \n",
    "              variable_types={treatment: 'b', outcome: 'c', common_cause: 'c'}, \n",
    "              outcome=outcome, \n",
    "              dot_graph=data['dot_graph'],\n",
    "              proceed_when_unidentifiable=True)\n",
    "\n",
    "cdf_0 = df.causal.do(x={treatment: 0}, \n",
    "              variable_types={treatment: 'b', outcome: 'c', common_cause: 'c'}, \n",
    "              outcome=outcome, \n",
    "              dot_graph=data['dot_graph'],\n",
    "              proceed_when_unidentifiable=True)\n"
   ]
  },
  {
   "cell_type": "code",
   "execution_count": 6,
   "metadata": {
    "execution": {
     "iopub.execute_input": "2022-07-21T08:02:08.912263Z",
     "iopub.status.busy": "2022-07-21T08:02:08.911776Z",
     "iopub.status.idle": "2022-07-21T08:02:08.924631Z",
     "shell.execute_reply": "2022-07-21T08:02:08.923952Z"
    },
    "scrolled": true
   },
   "outputs": [
    {
     "data": {
      "text/html": [
       "<div>\n",
       "<style scoped>\n",
       "    .dataframe tbody tr th:only-of-type {\n",
       "        vertical-align: middle;\n",
       "    }\n",
       "\n",
       "    .dataframe tbody tr th {\n",
       "        vertical-align: top;\n",
       "    }\n",
       "\n",
       "    .dataframe thead th {\n",
       "        text-align: right;\n",
       "    }\n",
       "</style>\n",
       "<table border=\"1\" class=\"dataframe\">\n",
       "  <thead>\n",
       "    <tr style=\"text-align: right;\">\n",
       "      <th></th>\n",
       "      <th>W0</th>\n",
       "      <th>v0</th>\n",
       "      <th>y</th>\n",
       "      <th>propensity_score</th>\n",
       "      <th>weight</th>\n",
       "    </tr>\n",
       "  </thead>\n",
       "  <tbody>\n",
       "    <tr>\n",
       "      <th>0</th>\n",
       "      <td>-0.515472</td>\n",
       "      <td>False</td>\n",
       "      <td>-0.121133</td>\n",
       "      <td>0.739834</td>\n",
       "      <td>1.351654</td>\n",
       "    </tr>\n",
       "    <tr>\n",
       "      <th>1</th>\n",
       "      <td>-0.815367</td>\n",
       "      <td>False</td>\n",
       "      <td>-1.363175</td>\n",
       "      <td>0.844038</td>\n",
       "      <td>1.184781</td>\n",
       "    </tr>\n",
       "    <tr>\n",
       "      <th>2</th>\n",
       "      <td>-0.945070</td>\n",
       "      <td>False</td>\n",
       "      <td>-2.925555</td>\n",
       "      <td>0.877276</td>\n",
       "      <td>1.139892</td>\n",
       "    </tr>\n",
       "    <tr>\n",
       "      <th>3</th>\n",
       "      <td>-0.200988</td>\n",
       "      <td>False</td>\n",
       "      <td>-0.473581</td>\n",
       "      <td>0.591537</td>\n",
       "      <td>1.690510</td>\n",
       "    </tr>\n",
       "    <tr>\n",
       "      <th>4</th>\n",
       "      <td>0.137545</td>\n",
       "      <td>False</td>\n",
       "      <td>-0.058853</td>\n",
       "      <td>0.411914</td>\n",
       "      <td>2.427690</td>\n",
       "    </tr>\n",
       "    <tr>\n",
       "      <th>...</th>\n",
       "      <td>...</td>\n",
       "      <td>...</td>\n",
       "      <td>...</td>\n",
       "      <td>...</td>\n",
       "      <td>...</td>\n",
       "    </tr>\n",
       "    <tr>\n",
       "      <th>995</th>\n",
       "      <td>1.832505</td>\n",
       "      <td>False</td>\n",
       "      <td>6.536063</td>\n",
       "      <td>0.018112</td>\n",
       "      <td>55.211738</td>\n",
       "    </tr>\n",
       "    <tr>\n",
       "      <th>996</th>\n",
       "      <td>-0.612588</td>\n",
       "      <td>False</td>\n",
       "      <td>0.095564</td>\n",
       "      <td>0.777903</td>\n",
       "      <td>1.285508</td>\n",
       "    </tr>\n",
       "    <tr>\n",
       "      <th>997</th>\n",
       "      <td>-0.911785</td>\n",
       "      <td>False</td>\n",
       "      <td>-2.120072</td>\n",
       "      <td>0.869378</td>\n",
       "      <td>1.150248</td>\n",
       "    </tr>\n",
       "    <tr>\n",
       "      <th>998</th>\n",
       "      <td>-0.738034</td>\n",
       "      <td>False</td>\n",
       "      <td>-0.528922</td>\n",
       "      <td>0.820929</td>\n",
       "      <td>1.218132</td>\n",
       "    </tr>\n",
       "    <tr>\n",
       "      <th>999</th>\n",
       "      <td>-0.315149</td>\n",
       "      <td>False</td>\n",
       "      <td>-1.321924</td>\n",
       "      <td>0.649144</td>\n",
       "      <td>1.540491</td>\n",
       "    </tr>\n",
       "  </tbody>\n",
       "</table>\n",
       "<p>1000 rows × 5 columns</p>\n",
       "</div>"
      ],
      "text/plain": [
       "           W0     v0         y  propensity_score     weight\n",
       "0   -0.515472  False -0.121133          0.739834   1.351654\n",
       "1   -0.815367  False -1.363175          0.844038   1.184781\n",
       "2   -0.945070  False -2.925555          0.877276   1.139892\n",
       "3   -0.200988  False -0.473581          0.591537   1.690510\n",
       "4    0.137545  False -0.058853          0.411914   2.427690\n",
       "..        ...    ...       ...               ...        ...\n",
       "995  1.832505  False  6.536063          0.018112  55.211738\n",
       "996 -0.612588  False  0.095564          0.777903   1.285508\n",
       "997 -0.911785  False -2.120072          0.869378   1.150248\n",
       "998 -0.738034  False -0.528922          0.820929   1.218132\n",
       "999 -0.315149  False -1.321924          0.649144   1.540491\n",
       "\n",
       "[1000 rows x 5 columns]"
      ]
     },
     "execution_count": 6,
     "metadata": {},
     "output_type": "execute_result"
    }
   ],
   "source": [
    "cdf_0"
   ]
  },
  {
   "cell_type": "code",
   "execution_count": 7,
   "metadata": {
    "execution": {
     "iopub.execute_input": "2022-07-21T08:02:08.927696Z",
     "iopub.status.busy": "2022-07-21T08:02:08.927199Z",
     "iopub.status.idle": "2022-07-21T08:02:08.939204Z",
     "shell.execute_reply": "2022-07-21T08:02:08.938089Z"
    }
   },
   "outputs": [
    {
     "data": {
      "text/html": [
       "<div>\n",
       "<style scoped>\n",
       "    .dataframe tbody tr th:only-of-type {\n",
       "        vertical-align: middle;\n",
       "    }\n",
       "\n",
       "    .dataframe tbody tr th {\n",
       "        vertical-align: top;\n",
       "    }\n",
       "\n",
       "    .dataframe thead th {\n",
       "        text-align: right;\n",
       "    }\n",
       "</style>\n",
       "<table border=\"1\" class=\"dataframe\">\n",
       "  <thead>\n",
       "    <tr style=\"text-align: right;\">\n",
       "      <th></th>\n",
       "      <th>W0</th>\n",
       "      <th>v0</th>\n",
       "      <th>y</th>\n",
       "      <th>propensity_score</th>\n",
       "      <th>weight</th>\n",
       "    </tr>\n",
       "  </thead>\n",
       "  <tbody>\n",
       "    <tr>\n",
       "      <th>0</th>\n",
       "      <td>-0.392759</td>\n",
       "      <td>True</td>\n",
       "      <td>1.868258</td>\n",
       "      <td>0.313931</td>\n",
       "      <td>3.185414</td>\n",
       "    </tr>\n",
       "    <tr>\n",
       "      <th>1</th>\n",
       "      <td>0.122415</td>\n",
       "      <td>True</td>\n",
       "      <td>5.189023</td>\n",
       "      <td>0.580200</td>\n",
       "      <td>1.723545</td>\n",
       "    </tr>\n",
       "    <tr>\n",
       "      <th>2</th>\n",
       "      <td>-1.527900</td>\n",
       "      <td>True</td>\n",
       "      <td>2.397001</td>\n",
       "      <td>0.038514</td>\n",
       "      <td>25.964427</td>\n",
       "    </tr>\n",
       "    <tr>\n",
       "      <th>3</th>\n",
       "      <td>-0.490316</td>\n",
       "      <td>True</td>\n",
       "      <td>3.251679</td>\n",
       "      <td>0.270689</td>\n",
       "      <td>3.694278</td>\n",
       "    </tr>\n",
       "    <tr>\n",
       "      <th>4</th>\n",
       "      <td>-2.726651</td>\n",
       "      <td>True</td>\n",
       "      <td>0.345228</td>\n",
       "      <td>0.003050</td>\n",
       "      <td>327.878354</td>\n",
       "    </tr>\n",
       "    <tr>\n",
       "      <th>...</th>\n",
       "      <td>...</td>\n",
       "      <td>...</td>\n",
       "      <td>...</td>\n",
       "      <td>...</td>\n",
       "      <td>...</td>\n",
       "    </tr>\n",
       "    <tr>\n",
       "      <th>995</th>\n",
       "      <td>-2.201035</td>\n",
       "      <td>True</td>\n",
       "      <td>-0.266864</td>\n",
       "      <td>0.009361</td>\n",
       "      <td>106.824754</td>\n",
       "    </tr>\n",
       "    <tr>\n",
       "      <th>996</th>\n",
       "      <td>-0.835462</td>\n",
       "      <td>True</td>\n",
       "      <td>3.410684</td>\n",
       "      <td>0.150370</td>\n",
       "      <td>6.650271</td>\n",
       "    </tr>\n",
       "    <tr>\n",
       "      <th>997</th>\n",
       "      <td>-2.201035</td>\n",
       "      <td>True</td>\n",
       "      <td>-0.266864</td>\n",
       "      <td>0.009361</td>\n",
       "      <td>106.824754</td>\n",
       "    </tr>\n",
       "    <tr>\n",
       "      <th>998</th>\n",
       "      <td>0.369715</td>\n",
       "      <td>True</td>\n",
       "      <td>6.630242</td>\n",
       "      <td>0.701452</td>\n",
       "      <td>1.425615</td>\n",
       "    </tr>\n",
       "    <tr>\n",
       "      <th>999</th>\n",
       "      <td>-2.201035</td>\n",
       "      <td>True</td>\n",
       "      <td>-0.266864</td>\n",
       "      <td>0.009361</td>\n",
       "      <td>106.824754</td>\n",
       "    </tr>\n",
       "  </tbody>\n",
       "</table>\n",
       "<p>1000 rows × 5 columns</p>\n",
       "</div>"
      ],
      "text/plain": [
       "           W0    v0         y  propensity_score      weight\n",
       "0   -0.392759  True  1.868258          0.313931    3.185414\n",
       "1    0.122415  True  5.189023          0.580200    1.723545\n",
       "2   -1.527900  True  2.397001          0.038514   25.964427\n",
       "3   -0.490316  True  3.251679          0.270689    3.694278\n",
       "4   -2.726651  True  0.345228          0.003050  327.878354\n",
       "..        ...   ...       ...               ...         ...\n",
       "995 -2.201035  True -0.266864          0.009361  106.824754\n",
       "996 -0.835462  True  3.410684          0.150370    6.650271\n",
       "997 -2.201035  True -0.266864          0.009361  106.824754\n",
       "998  0.369715  True  6.630242          0.701452    1.425615\n",
       "999 -2.201035  True -0.266864          0.009361  106.824754\n",
       "\n",
       "[1000 rows x 5 columns]"
      ]
     },
     "execution_count": 7,
     "metadata": {},
     "output_type": "execute_result"
    }
   ],
   "source": [
    "cdf_1"
   ]
  },
  {
   "cell_type": "markdown",
   "metadata": {},
   "source": [
    "## Comparing the estimate to Linear Regression\n",
    "First, estimating the effect using the causal data frame, and the 95% confidence interval."
   ]
  },
  {
   "cell_type": "code",
   "execution_count": 8,
   "metadata": {
    "execution": {
     "iopub.execute_input": "2022-07-21T08:02:08.942150Z",
     "iopub.status.busy": "2022-07-21T08:02:08.941720Z",
     "iopub.status.idle": "2022-07-21T08:02:09.043250Z",
     "shell.execute_reply": "2022-07-21T08:02:09.042506Z"
    }
   },
   "outputs": [
    {
     "data": {
      "image/png": "[encoded data removed]",
      "text/latex": [
       "$\\displaystyle 3.79340698452941$"
      ],
      "text/plain": [
       "3.793406984529408"
      ]
     },
     "execution_count": 8,
     "metadata": {},
     "output_type": "execute_result"
    }
   ],
   "source": [
    "(cdf_1['y'] - cdf_0['y']).mean()"
   ]
  },
  {
   "cell_type": "code",
   "execution_count": 9,
   "metadata": {
    "execution": {
     "iopub.execute_input": "2022-07-21T08:02:09.046601Z",
     "iopub.status.busy": "2022-07-21T08:02:09.046226Z",
     "iopub.status.idle": "2022-07-21T08:02:09.070656Z",
     "shell.execute_reply": "2022-07-21T08:02:09.069980Z"
    }
   },
   "outputs": [
    {
     "data": {
      "image/png": "[encoded data removed]",
      "text/latex": [
       "$\\displaystyle 0.246231135263765$"
      ],
      "text/plain": [
       "0.24623113526376547"
      ]
     },
     "execution_count": 9,
     "metadata": {},
     "output_type": "execute_result"
    }
   ],
   "source": [
    "1.96*(cdf_1['y'] - cdf_0['y']).std() / np.sqrt(len(df))"
   ]
  },
  {
   "cell_type": "markdown",
   "metadata": {},
   "source": [
    "Comparing to the estimate from OLS."
   ]
  },
  {
   "cell_type": "code",
   "execution_count": 10,
   "metadata": {
    "execution": {
     "iopub.execute_input": "2022-07-21T08:02:09.074071Z",
     "iopub.status.busy": "2022-07-21T08:02:09.073847Z",
     "iopub.status.idle": "2022-07-21T08:02:09.088104Z",
     "shell.execute_reply": "2022-07-21T08:02:09.087420Z"
    }
   },
   "outputs": [
    {
     "data": {
      "text/html": [
       "<table class=\"simpletable\">\n",
       "<caption>OLS Regression Results</caption>\n",
       "<tr>\n",
       "  <th>Dep. Variable:</th>            <td>y</td>        <th>  R-squared (uncentered):</th>      <td>   0.952</td>\n",
       "</tr>\n",
       "<tr>\n",
       "  <th>Model:</th>                   <td>OLS</td>       <th>  Adj. R-squared (uncentered):</th> <td>   0.952</td>\n",
       "</tr>\n",
       "<tr>\n",
       "  <th>Method:</th>             <td>Least Squares</td>  <th>  F-statistic:       </th>          <td>   9877.</td>\n",
       "</tr>\n",
       "<tr>\n",
       "  <th>Date:</th>             <td>Thu, 21 Jul 2022</td> <th>  Prob (F-statistic):</th>           <td>  0.00</td> \n",
       "</tr>\n",
       "<tr>\n",
       "  <th>Time:</th>                 <td>08:02:09</td>     <th>  Log-Likelihood:    </th>          <td> -1427.2</td>\n",
       "</tr>\n",
       "<tr>\n",
       "  <th>No. Observations:</th>      <td>  1000</td>      <th>  AIC:               </th>          <td>   2858.</td>\n",
       "</tr>\n",
       "<tr>\n",
       "  <th>Df Residuals:</th>          <td>   998</td>      <th>  BIC:               </th>          <td>   2868.</td>\n",
       "</tr>\n",
       "<tr>\n",
       "  <th>Df Model:</th>              <td>     2</td>      <th>                     </th>              <td> </td>   \n",
       "</tr>\n",
       "<tr>\n",
       "  <th>Covariance Type:</th>      <td>nonrobust</td>    <th>                     </th>              <td> </td>   \n",
       "</tr>\n",
       "</table>\n",
       "<table class=\"simpletable\">\n",
       "<tr>\n",
       "   <td></td>     <th>coef</th>     <th>std err</th>      <th>t</th>      <th>P>|t|</th>  <th>[0.025</th>    <th>0.975]</th>  \n",
       "</tr>\n",
       "<tr>\n",
       "  <th>x1</th> <td>    2.0106</td> <td>    0.032</td> <td>   63.112</td> <td> 0.000</td> <td>    1.948</td> <td>    2.073</td>\n",
       "</tr>\n",
       "<tr>\n",
       "  <th>x2</th> <td>    4.9501</td> <td>    0.051</td> <td>   97.958</td> <td> 0.000</td> <td>    4.851</td> <td>    5.049</td>\n",
       "</tr>\n",
       "</table>\n",
       "<table class=\"simpletable\">\n",
       "<tr>\n",
       "  <th>Omnibus:</th>       <td> 0.336</td> <th>  Durbin-Watson:     </th> <td>   2.027</td>\n",
       "</tr>\n",
       "<tr>\n",
       "  <th>Prob(Omnibus):</th> <td> 0.845</td> <th>  Jarque-Bera (JB):  </th> <td>   0.379</td>\n",
       "</tr>\n",
       "<tr>\n",
       "  <th>Skew:</th>          <td>-0.043</td> <th>  Prob(JB):          </th> <td>   0.828</td>\n",
       "</tr>\n",
       "<tr>\n",
       "  <th>Kurtosis:</th>      <td> 2.957</td> <th>  Cond. No.          </th> <td>    1.79</td>\n",
       "</tr>\n",
       "</table><br/><br/>Notes:<br/>[1] R² is computed without centering (uncentered) since the model does not contain a constant.<br/>[2] Standard Errors assume that the covariance matrix of the errors is correctly specified."
      ],
      "text/plain": [
       "<class 'statsmodels.iolib.summary.Summary'>\n",
       "\"\"\"\n",
       "                                 OLS Regression Results                                \n",
       "=======================================================================================\n",
       "Dep. Variable:                      y   R-squared (uncentered):                   0.952\n",
       "Model:                            OLS   Adj. R-squared (uncentered):              0.952\n",
       "Method:                 Least Squares   F-statistic:                              9877.\n",
       "Date:                Thu, 21 Jul 2022   Prob (F-statistic):                        0.00\n",
       "Time:                        08:02:09   Log-Likelihood:                         -1427.2\n",
       "No. Observations:                1000   AIC:                                      2858.\n",
       "Df Residuals:                     998   BIC:                                      2868.\n",
       "Df Model:                           2                                                  \n",
       "Covariance Type:            nonrobust                                                  \n",
       "==============================================================================\n",
       "                 coef    std err          t      P>|t|      [0.025      0.975]\n",
       "------------------------------------------------------------------------------\n",
       "x1             2.0106      0.032     63.112      0.000       1.948       2.073\n",
       "x2             4.9501      0.051     97.958      0.000       4.851       5.049\n",
       "==============================================================================\n",
       "Omnibus:                        0.336   Durbin-Watson:                   2.027\n",
       "Prob(Omnibus):                  0.845   Jarque-Bera (JB):                0.379\n",
       "Skew:                          -0.043   Prob(JB):                        0.828\n",
       "Kurtosis:                       2.957   Cond. No.                         1.79\n",
       "==============================================================================\n",
       "\n",
       "Notes:\n",
       "[1] R² is computed without centering (uncentered) since the model does not contain a constant.\n",
       "[2] Standard Errors assume that the covariance matrix of the errors is correctly specified.\n",
       "\"\"\""
      ]
     },
     "execution_count": 10,
     "metadata": {},
     "output_type": "execute_result"
    }
   ],
   "source": [
    "model = OLS(np.asarray(df[outcome]), np.asarray(df[[common_cause, treatment]], dtype=np.float64))\n",
    "result = model.fit()\n",
    "result.summary()"
   ]
  }
 ],
 "metadata": {
  "kernelspec": {
   "display_name": "Python 3",
   "language": "python",
   "name": "python3"
  },
  "language_info": {
   "codemirror_mode": {
    "name": "ipython",
    "version": 3
   },
   "file_extension": ".py",
   "mimetype": "text/x-python",
   "name": "python",
   "nbconvert_exporter": "python",
   "pygments_lexer": "ipython3",
   "version": "3.8.10"
  },
  "toc": {
   "base_numbering": 1,
   "nav_menu": {},
   "number_sections": false,
   "sideBar": true,
   "skip_h1_title": true,
   "title_cell": "Table of Contents",
   "title_sidebar": "Contents",
   "toc_cell": false,
   "toc_position": {},
   "toc_section_display": true,
   "toc_window_display": false
  }
 },
 "nbformat": 4,
 "nbformat_minor": 4
}
