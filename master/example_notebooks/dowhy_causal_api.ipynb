{
 "cells": [
  {
   "cell_type": "markdown",
   "metadata": {},
   "source": [
    "# Demo for the DoWhy causal API\n",
    "We show a simple example of adding a causal extension to any dataframe. "
   ]
  },
  {
   "cell_type": "code",
   "execution_count": 1,
   "metadata": {
    "execution": {
     "iopub.execute_input": "2022-07-20T14:58:56.173686Z",
     "iopub.status.busy": "2022-07-20T14:58:56.173286Z",
     "iopub.status.idle": "2022-07-20T14:58:57.440218Z",
     "shell.execute_reply": "2022-07-20T14:58:57.439340Z"
    }
   },
   "outputs": [
    {
     "name": "stdout",
     "output_type": "stream",
     "text": [
      "keywords are unexpanded, not using\n"
     ]
    }
   ],
   "source": [
    "import dowhy.datasets\n",
    "import dowhy.api\n",
    "\n",
    "import numpy as np\n",
    "import pandas as pd\n",
    "\n",
    "from statsmodels.api import OLS"
   ]
  },
  {
   "cell_type": "code",
   "execution_count": 2,
   "metadata": {
    "execution": {
     "iopub.execute_input": "2022-07-20T14:58:57.444643Z",
     "iopub.status.busy": "2022-07-20T14:58:57.444090Z",
     "iopub.status.idle": "2022-07-20T14:58:57.497883Z",
     "shell.execute_reply": "2022-07-20T14:58:57.497159Z"
    }
   },
   "outputs": [
    {
     "data": {
      "text/html": [
       "<div>\n",
       "<style scoped>\n",
       "    .dataframe tbody tr th:only-of-type {\n",
       "        vertical-align: middle;\n",
       "    }\n",
       "\n",
       "    .dataframe tbody tr th {\n",
       "        vertical-align: top;\n",
       "    }\n",
       "\n",
       "    .dataframe thead th {\n",
       "        text-align: right;\n",
       "    }\n",
       "</style>\n",
       "<table border=\"1\" class=\"dataframe\">\n",
       "  <thead>\n",
       "    <tr style=\"text-align: right;\">\n",
       "      <th></th>\n",
       "      <th>W0</th>\n",
       "      <th>v0</th>\n",
       "      <th>y</th>\n",
       "    </tr>\n",
       "  </thead>\n",
       "  <tbody>\n",
       "    <tr>\n",
       "      <th>0</th>\n",
       "      <td>1.009558</td>\n",
       "      <td>True</td>\n",
       "      <td>6.203421</td>\n",
       "    </tr>\n",
       "    <tr>\n",
       "      <th>1</th>\n",
       "      <td>-0.061189</td>\n",
       "      <td>False</td>\n",
       "      <td>-0.027421</td>\n",
       "    </tr>\n",
       "    <tr>\n",
       "      <th>2</th>\n",
       "      <td>3.073129</td>\n",
       "      <td>True</td>\n",
       "      <td>5.173313</td>\n",
       "    </tr>\n",
       "    <tr>\n",
       "      <th>3</th>\n",
       "      <td>0.718875</td>\n",
       "      <td>True</td>\n",
       "      <td>5.496898</td>\n",
       "    </tr>\n",
       "    <tr>\n",
       "      <th>4</th>\n",
       "      <td>-0.277039</td>\n",
       "      <td>False</td>\n",
       "      <td>-0.577624</td>\n",
       "    </tr>\n",
       "    <tr>\n",
       "      <th>...</th>\n",
       "      <td>...</td>\n",
       "      <td>...</td>\n",
       "      <td>...</td>\n",
       "    </tr>\n",
       "    <tr>\n",
       "      <th>995</th>\n",
       "      <td>0.526608</td>\n",
       "      <td>False</td>\n",
       "      <td>0.002154</td>\n",
       "    </tr>\n",
       "    <tr>\n",
       "      <th>996</th>\n",
       "      <td>1.485738</td>\n",
       "      <td>True</td>\n",
       "      <td>7.133808</td>\n",
       "    </tr>\n",
       "    <tr>\n",
       "      <th>997</th>\n",
       "      <td>0.232238</td>\n",
       "      <td>True</td>\n",
       "      <td>4.353514</td>\n",
       "    </tr>\n",
       "    <tr>\n",
       "      <th>998</th>\n",
       "      <td>-0.276779</td>\n",
       "      <td>True</td>\n",
       "      <td>5.005542</td>\n",
       "    </tr>\n",
       "    <tr>\n",
       "      <th>999</th>\n",
       "      <td>-0.376534</td>\n",
       "      <td>False</td>\n",
       "      <td>-0.034442</td>\n",
       "    </tr>\n",
       "  </tbody>\n",
       "</table>\n",
       "<p>1000 rows × 3 columns</p>\n",
       "</div>"
      ],
      "text/plain": [
       "           W0     v0         y\n",
       "0    1.009558   True  6.203421\n",
       "1   -0.061189  False -0.027421\n",
       "2    3.073129   True  5.173313\n",
       "3    0.718875   True  5.496898\n",
       "4   -0.277039  False -0.577624\n",
       "..        ...    ...       ...\n",
       "995  0.526608  False  0.002154\n",
       "996  1.485738   True  7.133808\n",
       "997  0.232238   True  4.353514\n",
       "998 -0.276779   True  5.005542\n",
       "999 -0.376534  False -0.034442\n",
       "\n",
       "[1000 rows x 3 columns]"
      ]
     },
     "execution_count": 2,
     "metadata": {},
     "output_type": "execute_result"
    }
   ],
   "source": [
    "data = dowhy.datasets.linear_dataset(beta=5,\n",
    "        num_common_causes=1,\n",
    "        num_instruments = 0,\n",
    "        num_samples=1000,\n",
    "        treatment_is_binary=True)\n",
    "df = data['df']\n",
    "df['y'] = df['y'] + np.random.normal(size=len(df)) # Adding noise to data. Without noise, the variance in Y|X, Z is zero, and mcmc fails.\n",
    "#data['dot_graph'] = 'digraph { v ->y;X0-> v;X0-> y;}'\n",
    "\n",
    "treatment= data[\"treatment_name\"][0]\n",
    "outcome = data[\"outcome_name\"][0]\n",
    "common_cause = data[\"common_causes_names\"][0]\n",
    "df"
   ]
  },
  {
   "cell_type": "code",
   "execution_count": 3,
   "metadata": {
    "execution": {
     "iopub.execute_input": "2022-07-20T14:58:57.501525Z",
     "iopub.status.busy": "2022-07-20T14:58:57.501044Z",
     "iopub.status.idle": "2022-07-20T14:58:58.348216Z",
     "shell.execute_reply": "2022-07-20T14:58:58.347465Z"
    }
   },
   "outputs": [
    {
     "data": {
      "text/plain": [
       "<AxesSubplot:xlabel='v0'>"
      ]
     },
     "execution_count": 3,
     "metadata": {},
     "output_type": "execute_result"
    },
    {
     "data": {
      "image/png": "[encoded data removed]",
      "text/plain": [
       "<Figure size 432x288 with 1 Axes>"
      ]
     },
     "metadata": {
      "needs_background": "light"
     },
     "output_type": "display_data"
    }
   ],
   "source": [
    "# data['df'] is just a regular pandas.DataFrame\n",
    "df.causal.do(x=treatment,\n",
    "                     variable_types={treatment: 'b', outcome: 'c', common_cause: 'c'},\n",
    "                     outcome=outcome,\n",
    "                     common_causes=[common_cause],\n",
    "                     proceed_when_unidentifiable=True).groupby(treatment).mean().plot(y=outcome, kind='bar')"
   ]
  },
  {
   "cell_type": "code",
   "execution_count": 4,
   "metadata": {
    "execution": {
     "iopub.execute_input": "2022-07-20T14:58:58.353472Z",
     "iopub.status.busy": "2022-07-20T14:58:58.353048Z",
     "iopub.status.idle": "2022-07-20T14:58:58.481651Z",
     "shell.execute_reply": "2022-07-20T14:58:58.480706Z"
    }
   },
   "outputs": [
    {
     "data": {
      "text/plain": [
       "<AxesSubplot:xlabel='v0'>"
      ]
     },
     "execution_count": 4,
     "metadata": {},
     "output_type": "execute_result"
    },
    {
     "data": {
      "image/png": "[encoded data removed]",
      "text/plain": [
       "<Figure size 432x288 with 1 Axes>"
      ]
     },
     "metadata": {
      "needs_background": "light"
     },
     "output_type": "display_data"
    }
   ],
   "source": [
    "df.causal.do(x={treatment: 1}, \n",
    "              variable_types={treatment:'b', outcome: 'c', common_cause: 'c'}, \n",
    "              outcome=outcome,\n",
    "              method='weighting', \n",
    "              common_causes=[common_cause],\n",
    "              proceed_when_unidentifiable=True).groupby(treatment).mean().plot(y=outcome, kind='bar')"
   ]
  },
  {
   "cell_type": "code",
   "execution_count": 5,
   "metadata": {
    "execution": {
     "iopub.execute_input": "2022-07-20T14:58:58.486200Z",
     "iopub.status.busy": "2022-07-20T14:58:58.485358Z",
     "iopub.status.idle": "2022-07-20T14:58:58.524479Z",
     "shell.execute_reply": "2022-07-20T14:58:58.523740Z"
    }
   },
   "outputs": [],
   "source": [
    "cdf_1 = df.causal.do(x={treatment: 1}, \n",
    "              variable_types={treatment: 'b', outcome: 'c', common_cause: 'c'}, \n",
    "              outcome=outcome, \n",
    "              dot_graph=data['dot_graph'],\n",
    "              proceed_when_unidentifiable=True)\n",
    "\n",
    "cdf_0 = df.causal.do(x={treatment: 0}, \n",
    "              variable_types={treatment: 'b', outcome: 'c', common_cause: 'c'}, \n",
    "              outcome=outcome, \n",
    "              dot_graph=data['dot_graph'],\n",
    "              proceed_when_unidentifiable=True)\n"
   ]
  },
  {
   "cell_type": "code",
   "execution_count": 6,
   "metadata": {
    "execution": {
     "iopub.execute_input": "2022-07-20T14:58:58.527858Z",
     "iopub.status.busy": "2022-07-20T14:58:58.527486Z",
     "iopub.status.idle": "2022-07-20T14:58:58.538242Z",
     "shell.execute_reply": "2022-07-20T14:58:58.537497Z"
    },
    "scrolled": true
   },
   "outputs": [
    {
     "data": {
      "text/html": [
       "<div>\n",
       "<style scoped>\n",
       "    .dataframe tbody tr th:only-of-type {\n",
       "        vertical-align: middle;\n",
       "    }\n",
       "\n",
       "    .dataframe tbody tr th {\n",
       "        vertical-align: top;\n",
       "    }\n",
       "\n",
       "    .dataframe thead th {\n",
       "        text-align: right;\n",
       "    }\n",
       "</style>\n",
       "<table border=\"1\" class=\"dataframe\">\n",
       "  <thead>\n",
       "    <tr style=\"text-align: right;\">\n",
       "      <th></th>\n",
       "      <th>W0</th>\n",
       "      <th>v0</th>\n",
       "      <th>y</th>\n",
       "      <th>propensity_score</th>\n",
       "      <th>weight</th>\n",
       "    </tr>\n",
       "  </thead>\n",
       "  <tbody>\n",
       "    <tr>\n",
       "      <th>0</th>\n",
       "      <td>2.636650</td>\n",
       "      <td>False</td>\n",
       "      <td>0.904063</td>\n",
       "      <td>0.130909</td>\n",
       "      <td>7.638918</td>\n",
       "    </tr>\n",
       "    <tr>\n",
       "      <th>1</th>\n",
       "      <td>0.231633</td>\n",
       "      <td>False</td>\n",
       "      <td>0.384380</td>\n",
       "      <td>0.461040</td>\n",
       "      <td>2.169009</td>\n",
       "    </tr>\n",
       "    <tr>\n",
       "      <th>2</th>\n",
       "      <td>-0.570867</td>\n",
       "      <td>False</td>\n",
       "      <td>-0.504704</td>\n",
       "      <td>0.604290</td>\n",
       "      <td>1.654835</td>\n",
       "    </tr>\n",
       "    <tr>\n",
       "      <th>3</th>\n",
       "      <td>0.087973</td>\n",
       "      <td>False</td>\n",
       "      <td>0.311471</td>\n",
       "      <td>0.486900</td>\n",
       "      <td>2.053810</td>\n",
       "    </tr>\n",
       "    <tr>\n",
       "      <th>4</th>\n",
       "      <td>-0.139579</td>\n",
       "      <td>False</td>\n",
       "      <td>1.226987</td>\n",
       "      <td>0.527950</td>\n",
       "      <td>1.894120</td>\n",
       "    </tr>\n",
       "    <tr>\n",
       "      <th>...</th>\n",
       "      <td>...</td>\n",
       "      <td>...</td>\n",
       "      <td>...</td>\n",
       "      <td>...</td>\n",
       "      <td>...</td>\n",
       "    </tr>\n",
       "    <tr>\n",
       "      <th>995</th>\n",
       "      <td>0.920602</td>\n",
       "      <td>False</td>\n",
       "      <td>0.441798</td>\n",
       "      <td>0.342157</td>\n",
       "      <td>2.922638</td>\n",
       "    </tr>\n",
       "    <tr>\n",
       "      <th>996</th>\n",
       "      <td>-0.359794</td>\n",
       "      <td>False</td>\n",
       "      <td>-0.762239</td>\n",
       "      <td>0.567325</td>\n",
       "      <td>1.762659</td>\n",
       "    </tr>\n",
       "    <tr>\n",
       "      <th>997</th>\n",
       "      <td>1.830038</td>\n",
       "      <td>False</td>\n",
       "      <td>0.387263</td>\n",
       "      <td>0.212411</td>\n",
       "      <td>4.707847</td>\n",
       "    </tr>\n",
       "    <tr>\n",
       "      <th>998</th>\n",
       "      <td>-0.912511</td>\n",
       "      <td>False</td>\n",
       "      <td>1.676137</td>\n",
       "      <td>0.661524</td>\n",
       "      <td>1.511662</td>\n",
       "    </tr>\n",
       "    <tr>\n",
       "      <th>999</th>\n",
       "      <td>2.636650</td>\n",
       "      <td>False</td>\n",
       "      <td>0.904063</td>\n",
       "      <td>0.130909</td>\n",
       "      <td>7.638918</td>\n",
       "    </tr>\n",
       "  </tbody>\n",
       "</table>\n",
       "<p>1000 rows × 5 columns</p>\n",
       "</div>"
      ],
      "text/plain": [
       "           W0     v0         y  propensity_score    weight\n",
       "0    2.636650  False  0.904063          0.130909  7.638918\n",
       "1    0.231633  False  0.384380          0.461040  2.169009\n",
       "2   -0.570867  False -0.504704          0.604290  1.654835\n",
       "3    0.087973  False  0.311471          0.486900  2.053810\n",
       "4   -0.139579  False  1.226987          0.527950  1.894120\n",
       "..        ...    ...       ...               ...       ...\n",
       "995  0.920602  False  0.441798          0.342157  2.922638\n",
       "996 -0.359794  False -0.762239          0.567325  1.762659\n",
       "997  1.830038  False  0.387263          0.212411  4.707847\n",
       "998 -0.912511  False  1.676137          0.661524  1.511662\n",
       "999  2.636650  False  0.904063          0.130909  7.638918\n",
       "\n",
       "[1000 rows x 5 columns]"
      ]
     },
     "execution_count": 6,
     "metadata": {},
     "output_type": "execute_result"
    }
   ],
   "source": [
    "cdf_0"
   ]
  },
  {
   "cell_type": "code",
   "execution_count": 7,
   "metadata": {
    "execution": {
     "iopub.execute_input": "2022-07-20T14:58:58.541202Z",
     "iopub.status.busy": "2022-07-20T14:58:58.540828Z",
     "iopub.status.idle": "2022-07-20T14:58:58.551181Z",
     "shell.execute_reply": "2022-07-20T14:58:58.550392Z"
    }
   },
   "outputs": [
    {
     "data": {
      "text/html": [
       "<div>\n",
       "<style scoped>\n",
       "    .dataframe tbody tr th:only-of-type {\n",
       "        vertical-align: middle;\n",
       "    }\n",
       "\n",
       "    .dataframe tbody tr th {\n",
       "        vertical-align: top;\n",
       "    }\n",
       "\n",
       "    .dataframe thead th {\n",
       "        text-align: right;\n",
       "    }\n",
       "</style>\n",
       "<table border=\"1\" class=\"dataframe\">\n",
       "  <thead>\n",
       "    <tr style=\"text-align: right;\">\n",
       "      <th></th>\n",
       "      <th>W0</th>\n",
       "      <th>v0</th>\n",
       "      <th>y</th>\n",
       "      <th>propensity_score</th>\n",
       "      <th>weight</th>\n",
       "    </tr>\n",
       "  </thead>\n",
       "  <tbody>\n",
       "    <tr>\n",
       "      <th>0</th>\n",
       "      <td>0.410621</td>\n",
       "      <td>True</td>\n",
       "      <td>3.320696</td>\n",
       "      <td>0.570873</td>\n",
       "      <td>1.751703</td>\n",
       "    </tr>\n",
       "    <tr>\n",
       "      <th>1</th>\n",
       "      <td>-0.562292</td>\n",
       "      <td>True</td>\n",
       "      <td>5.913271</td>\n",
       "      <td>0.397192</td>\n",
       "      <td>2.517675</td>\n",
       "    </tr>\n",
       "    <tr>\n",
       "      <th>2</th>\n",
       "      <td>0.176476</td>\n",
       "      <td>True</td>\n",
       "      <td>5.411929</td>\n",
       "      <td>0.529048</td>\n",
       "      <td>1.890186</td>\n",
       "    </tr>\n",
       "    <tr>\n",
       "      <th>3</th>\n",
       "      <td>-0.049614</td>\n",
       "      <td>True</td>\n",
       "      <td>7.180348</td>\n",
       "      <td>0.488265</td>\n",
       "      <td>2.048067</td>\n",
       "    </tr>\n",
       "    <tr>\n",
       "      <th>4</th>\n",
       "      <td>1.222870</td>\n",
       "      <td>True</td>\n",
       "      <td>6.454600</td>\n",
       "      <td>0.705158</td>\n",
       "      <td>1.418122</td>\n",
       "    </tr>\n",
       "    <tr>\n",
       "      <th>...</th>\n",
       "      <td>...</td>\n",
       "      <td>...</td>\n",
       "      <td>...</td>\n",
       "      <td>...</td>\n",
       "      <td>...</td>\n",
       "    </tr>\n",
       "    <tr>\n",
       "      <th>995</th>\n",
       "      <td>0.358995</td>\n",
       "      <td>True</td>\n",
       "      <td>4.567894</td>\n",
       "      <td>0.561716</td>\n",
       "      <td>1.780258</td>\n",
       "    </tr>\n",
       "    <tr>\n",
       "      <th>996</th>\n",
       "      <td>1.452603</td>\n",
       "      <td>True</td>\n",
       "      <td>2.436958</td>\n",
       "      <td>0.738442</td>\n",
       "      <td>1.354203</td>\n",
       "    </tr>\n",
       "    <tr>\n",
       "      <th>997</th>\n",
       "      <td>0.190055</td>\n",
       "      <td>True</td>\n",
       "      <td>5.493745</td>\n",
       "      <td>0.531491</td>\n",
       "      <td>1.881500</td>\n",
       "    </tr>\n",
       "    <tr>\n",
       "      <th>998</th>\n",
       "      <td>0.196278</td>\n",
       "      <td>True</td>\n",
       "      <td>3.597658</td>\n",
       "      <td>0.532610</td>\n",
       "      <td>1.877547</td>\n",
       "    </tr>\n",
       "    <tr>\n",
       "      <th>999</th>\n",
       "      <td>-1.538790</td>\n",
       "      <td>True</td>\n",
       "      <td>2.148661</td>\n",
       "      <td>0.245573</td>\n",
       "      <td>4.072101</td>\n",
       "    </tr>\n",
       "  </tbody>\n",
       "</table>\n",
       "<p>1000 rows × 5 columns</p>\n",
       "</div>"
      ],
      "text/plain": [
       "           W0    v0         y  propensity_score    weight\n",
       "0    0.410621  True  3.320696          0.570873  1.751703\n",
       "1   -0.562292  True  5.913271          0.397192  2.517675\n",
       "2    0.176476  True  5.411929          0.529048  1.890186\n",
       "3   -0.049614  True  7.180348          0.488265  2.048067\n",
       "4    1.222870  True  6.454600          0.705158  1.418122\n",
       "..        ...   ...       ...               ...       ...\n",
       "995  0.358995  True  4.567894          0.561716  1.780258\n",
       "996  1.452603  True  2.436958          0.738442  1.354203\n",
       "997  0.190055  True  5.493745          0.531491  1.881500\n",
       "998  0.196278  True  3.597658          0.532610  1.877547\n",
       "999 -1.538790  True  2.148661          0.245573  4.072101\n",
       "\n",
       "[1000 rows x 5 columns]"
      ]
     },
     "execution_count": 7,
     "metadata": {},
     "output_type": "execute_result"
    }
   ],
   "source": [
    "cdf_1"
   ]
  },
  {
   "cell_type": "markdown",
   "metadata": {},
   "source": [
    "## Comparing the estimate to Linear Regression\n",
    "First, estimating the effect using the causal data frame, and the 95% confidence interval."
   ]
  },
  {
   "cell_type": "code",
   "execution_count": 8,
   "metadata": {
    "execution": {
     "iopub.execute_input": "2022-07-20T14:58:58.554663Z",
     "iopub.status.busy": "2022-07-20T14:58:58.554447Z",
     "iopub.status.idle": "2022-07-20T14:58:58.653966Z",
     "shell.execute_reply": "2022-07-20T14:58:58.653135Z"
    }
   },
   "outputs": [
    {
     "data": {
      "image/png": "[encoded data removed]",
      "text/latex": [
       "$\\displaystyle 4.962817440037$"
      ],
      "text/plain": [
       "4.9628174400369955"
      ]
     },
     "execution_count": 8,
     "metadata": {},
     "output_type": "execute_result"
    }
   ],
   "source": [
    "(cdf_1['y'] - cdf_0['y']).mean()"
   ]
  },
  {
   "cell_type": "code",
   "execution_count": 9,
   "metadata": {
    "execution": {
     "iopub.execute_input": "2022-07-20T14:58:58.657132Z",
     "iopub.status.busy": "2022-07-20T14:58:58.656799Z",
     "iopub.status.idle": "2022-07-20T14:58:58.680982Z",
     "shell.execute_reply": "2022-07-20T14:58:58.680183Z"
    }
   },
   "outputs": [
    {
     "data": {
      "image/png": "[encoded data removed]",
      "text/latex": [
       "$\\displaystyle 0.0989848253215047$"
      ],
      "text/plain": [
       "0.09898482532150465"
      ]
     },
     "execution_count": 9,
     "metadata": {},
     "output_type": "execute_result"
    }
   ],
   "source": [
    "1.96*(cdf_1['y'] - cdf_0['y']).std() / np.sqrt(len(df))"
   ]
  },
  {
   "cell_type": "markdown",
   "metadata": {},
   "source": [
    "Comparing to the estimate from OLS."
   ]
  },
  {
   "cell_type": "code",
   "execution_count": 10,
   "metadata": {
    "execution": {
     "iopub.execute_input": "2022-07-20T14:58:58.684121Z",
     "iopub.status.busy": "2022-07-20T14:58:58.683772Z",
     "iopub.status.idle": "2022-07-20T14:58:58.698340Z",
     "shell.execute_reply": "2022-07-20T14:58:58.697533Z"
    }
   },
   "outputs": [
    {
     "data": {
      "text/html": [
       "<table class=\"simpletable\">\n",
       "<caption>OLS Regression Results</caption>\n",
       "<tr>\n",
       "  <th>Dep. Variable:</th>            <td>y</td>        <th>  R-squared (uncentered):</th>      <td>   0.930</td>\n",
       "</tr>\n",
       "<tr>\n",
       "  <th>Model:</th>                   <td>OLS</td>       <th>  Adj. R-squared (uncentered):</th> <td>   0.930</td>\n",
       "</tr>\n",
       "<tr>\n",
       "  <th>Method:</th>             <td>Least Squares</td>  <th>  F-statistic:       </th>          <td>   6640.</td>\n",
       "</tr>\n",
       "<tr>\n",
       "  <th>Date:</th>             <td>Wed, 20 Jul 2022</td> <th>  Prob (F-statistic):</th>           <td>  0.00</td> \n",
       "</tr>\n",
       "<tr>\n",
       "  <th>Time:</th>                 <td>14:58:58</td>     <th>  Log-Likelihood:    </th>          <td> -1437.5</td>\n",
       "</tr>\n",
       "<tr>\n",
       "  <th>No. Observations:</th>      <td>  1000</td>      <th>  AIC:               </th>          <td>   2879.</td>\n",
       "</tr>\n",
       "<tr>\n",
       "  <th>Df Residuals:</th>          <td>   998</td>      <th>  BIC:               </th>          <td>   2889.</td>\n",
       "</tr>\n",
       "<tr>\n",
       "  <th>Df Model:</th>              <td>     2</td>      <th>                     </th>              <td> </td>   \n",
       "</tr>\n",
       "<tr>\n",
       "  <th>Covariance Type:</th>      <td>nonrobust</td>    <th>                     </th>              <td> </td>   \n",
       "</tr>\n",
       "</table>\n",
       "<table class=\"simpletable\">\n",
       "<tr>\n",
       "   <td></td>     <th>coef</th>     <th>std err</th>      <th>t</th>      <th>P>|t|</th>  <th>[0.025</th>    <th>0.975]</th>  \n",
       "</tr>\n",
       "<tr>\n",
       "  <th>x1</th> <td>    0.4485</td> <td>    0.031</td> <td>   14.409</td> <td> 0.000</td> <td>    0.387</td> <td>    0.510</td>\n",
       "</tr>\n",
       "<tr>\n",
       "  <th>x2</th> <td>    5.0276</td> <td>    0.047</td> <td>  106.667</td> <td> 0.000</td> <td>    4.935</td> <td>    5.120</td>\n",
       "</tr>\n",
       "</table>\n",
       "<table class=\"simpletable\">\n",
       "<tr>\n",
       "  <th>Omnibus:</th>       <td> 0.614</td> <th>  Durbin-Watson:     </th> <td>   2.049</td>\n",
       "</tr>\n",
       "<tr>\n",
       "  <th>Prob(Omnibus):</th> <td> 0.736</td> <th>  Jarque-Bera (JB):  </th> <td>   0.695</td>\n",
       "</tr>\n",
       "<tr>\n",
       "  <th>Skew:</th>          <td>-0.047</td> <th>  Prob(JB):          </th> <td>   0.706</td>\n",
       "</tr>\n",
       "<tr>\n",
       "  <th>Kurtosis:</th>      <td> 2.912</td> <th>  Cond. No.          </th> <td>    1.64</td>\n",
       "</tr>\n",
       "</table><br/><br/>Notes:<br/>[1] R² is computed without centering (uncentered) since the model does not contain a constant.<br/>[2] Standard Errors assume that the covariance matrix of the errors is correctly specified."
      ],
      "text/plain": [
       "<class 'statsmodels.iolib.summary.Summary'>\n",
       "\"\"\"\n",
       "                                 OLS Regression Results                                \n",
       "=======================================================================================\n",
       "Dep. Variable:                      y   R-squared (uncentered):                   0.930\n",
       "Model:                            OLS   Adj. R-squared (uncentered):              0.930\n",
       "Method:                 Least Squares   F-statistic:                              6640.\n",
       "Date:                Wed, 20 Jul 2022   Prob (F-statistic):                        0.00\n",
       "Time:                        14:58:58   Log-Likelihood:                         -1437.5\n",
       "No. Observations:                1000   AIC:                                      2879.\n",
       "Df Residuals:                     998   BIC:                                      2889.\n",
       "Df Model:                           2                                                  \n",
       "Covariance Type:            nonrobust                                                  \n",
       "==============================================================================\n",
       "                 coef    std err          t      P>|t|      [0.025      0.975]\n",
       "------------------------------------------------------------------------------\n",
       "x1             0.4485      0.031     14.409      0.000       0.387       0.510\n",
       "x2             5.0276      0.047    106.667      0.000       4.935       5.120\n",
       "==============================================================================\n",
       "Omnibus:                        0.614   Durbin-Watson:                   2.049\n",
       "Prob(Omnibus):                  0.736   Jarque-Bera (JB):                0.695\n",
       "Skew:                          -0.047   Prob(JB):                        0.706\n",
       "Kurtosis:                       2.912   Cond. No.                         1.64\n",
       "==============================================================================\n",
       "\n",
       "Notes:\n",
       "[1] R² is computed without centering (uncentered) since the model does not contain a constant.\n",
       "[2] Standard Errors assume that the covariance matrix of the errors is correctly specified.\n",
       "\"\"\""
      ]
     },
     "execution_count": 10,
     "metadata": {},
     "output_type": "execute_result"
    }
   ],
   "source": [
    "model = OLS(np.asarray(df[outcome]), np.asarray(df[[common_cause, treatment]], dtype=np.float64))\n",
    "result = model.fit()\n",
    "result.summary()"
   ]
  }
 ],
 "metadata": {
  "kernelspec": {
   "display_name": "Python 3",
   "language": "python",
   "name": "python3"
  },
  "language_info": {
   "codemirror_mode": {
    "name": "ipython",
    "version": 3
   },
   "file_extension": ".py",
   "mimetype": "text/x-python",
   "name": "python",
   "nbconvert_exporter": "python",
   "pygments_lexer": "ipython3",
   "version": "3.8.10"
  },
  "toc": {
   "base_numbering": 1,
   "nav_menu": {},
   "number_sections": false,
   "sideBar": true,
   "skip_h1_title": true,
   "title_cell": "Table of Contents",
   "title_sidebar": "Contents",
   "toc_cell": false,
   "toc_position": {},
   "toc_section_display": true,
   "toc_window_display": false
  }
 },
 "nbformat": 4,
 "nbformat_minor": 4
}
