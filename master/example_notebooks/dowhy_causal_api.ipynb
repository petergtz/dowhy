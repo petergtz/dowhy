{
 "cells": [
  {
   "cell_type": "markdown",
   "metadata": {},
   "source": [
    "# Demo for the DoWhy causal API\n",
    "We show a simple example of adding a causal extension to any dataframe. "
   ]
  },
  {
   "cell_type": "code",
   "execution_count": 1,
   "metadata": {
    "execution": {
     "iopub.execute_input": "2022-07-28T10:54:10.229366Z",
     "iopub.status.busy": "2022-07-28T10:54:10.228865Z",
     "iopub.status.idle": "2022-07-28T10:54:11.701389Z",
     "shell.execute_reply": "2022-07-28T10:54:11.699872Z"
    }
   },
   "outputs": [
    {
     "name": "stdout",
     "output_type": "stream",
     "text": [
      "keywords are unexpanded, not using\n"
     ]
    }
   ],
   "source": [
    "import dowhy.datasets\n",
    "import dowhy.api\n",
    "\n",
    "import numpy as np\n",
    "import pandas as pd\n",
    "\n",
    "from statsmodels.api import OLS"
   ]
  },
  {
   "cell_type": "code",
   "execution_count": 2,
   "metadata": {
    "execution": {
     "iopub.execute_input": "2022-07-28T10:54:11.707837Z",
     "iopub.status.busy": "2022-07-28T10:54:11.705810Z",
     "iopub.status.idle": "2022-07-28T10:54:11.763384Z",
     "shell.execute_reply": "2022-07-28T10:54:11.762610Z"
    }
   },
   "outputs": [
    {
     "data": {
      "text/html": [
       "<div>\n",
       "<style scoped>\n",
       "    .dataframe tbody tr th:only-of-type {\n",
       "        vertical-align: middle;\n",
       "    }\n",
       "\n",
       "    .dataframe tbody tr th {\n",
       "        vertical-align: top;\n",
       "    }\n",
       "\n",
       "    .dataframe thead th {\n",
       "        text-align: right;\n",
       "    }\n",
       "</style>\n",
       "<table border=\"1\" class=\"dataframe\">\n",
       "  <thead>\n",
       "    <tr style=\"text-align: right;\">\n",
       "      <th></th>\n",
       "      <th>W0</th>\n",
       "      <th>v0</th>\n",
       "      <th>y</th>\n",
       "    </tr>\n",
       "  </thead>\n",
       "  <tbody>\n",
       "    <tr>\n",
       "      <th>0</th>\n",
       "      <td>2.631139</td>\n",
       "      <td>False</td>\n",
       "      <td>2.100991</td>\n",
       "    </tr>\n",
       "    <tr>\n",
       "      <th>1</th>\n",
       "      <td>-0.009907</td>\n",
       "      <td>True</td>\n",
       "      <td>4.318753</td>\n",
       "    </tr>\n",
       "    <tr>\n",
       "      <th>2</th>\n",
       "      <td>0.358209</td>\n",
       "      <td>True</td>\n",
       "      <td>6.544482</td>\n",
       "    </tr>\n",
       "    <tr>\n",
       "      <th>3</th>\n",
       "      <td>-1.165764</td>\n",
       "      <td>False</td>\n",
       "      <td>-1.272343</td>\n",
       "    </tr>\n",
       "    <tr>\n",
       "      <th>4</th>\n",
       "      <td>0.022657</td>\n",
       "      <td>True</td>\n",
       "      <td>5.129812</td>\n",
       "    </tr>\n",
       "    <tr>\n",
       "      <th>...</th>\n",
       "      <td>...</td>\n",
       "      <td>...</td>\n",
       "      <td>...</td>\n",
       "    </tr>\n",
       "    <tr>\n",
       "      <th>995</th>\n",
       "      <td>-2.150297</td>\n",
       "      <td>True</td>\n",
       "      <td>2.934997</td>\n",
       "    </tr>\n",
       "    <tr>\n",
       "      <th>996</th>\n",
       "      <td>0.151930</td>\n",
       "      <td>True</td>\n",
       "      <td>5.832680</td>\n",
       "    </tr>\n",
       "    <tr>\n",
       "      <th>997</th>\n",
       "      <td>-0.658898</td>\n",
       "      <td>False</td>\n",
       "      <td>-0.369199</td>\n",
       "    </tr>\n",
       "    <tr>\n",
       "      <th>998</th>\n",
       "      <td>-1.417588</td>\n",
       "      <td>False</td>\n",
       "      <td>-1.946255</td>\n",
       "    </tr>\n",
       "    <tr>\n",
       "      <th>999</th>\n",
       "      <td>-0.347705</td>\n",
       "      <td>True</td>\n",
       "      <td>5.116020</td>\n",
       "    </tr>\n",
       "  </tbody>\n",
       "</table>\n",
       "<p>1000 rows × 3 columns</p>\n",
       "</div>"
      ],
      "text/plain": [
       "           W0     v0         y\n",
       "0    2.631139  False  2.100991\n",
       "1   -0.009907   True  4.318753\n",
       "2    0.358209   True  6.544482\n",
       "3   -1.165764  False -1.272343\n",
       "4    0.022657   True  5.129812\n",
       "..        ...    ...       ...\n",
       "995 -2.150297   True  2.934997\n",
       "996  0.151930   True  5.832680\n",
       "997 -0.658898  False -0.369199\n",
       "998 -1.417588  False -1.946255\n",
       "999 -0.347705   True  5.116020\n",
       "\n",
       "[1000 rows x 3 columns]"
      ]
     },
     "execution_count": 2,
     "metadata": {},
     "output_type": "execute_result"
    }
   ],
   "source": [
    "data = dowhy.datasets.linear_dataset(beta=5,\n",
    "        num_common_causes=1,\n",
    "        num_instruments = 0,\n",
    "        num_samples=1000,\n",
    "        treatment_is_binary=True)\n",
    "df = data['df']\n",
    "df['y'] = df['y'] + np.random.normal(size=len(df)) # Adding noise to data. Without noise, the variance in Y|X, Z is zero, and mcmc fails.\n",
    "#data['dot_graph'] = 'digraph { v ->y;X0-> v;X0-> y;}'\n",
    "\n",
    "treatment= data[\"treatment_name\"][0]\n",
    "outcome = data[\"outcome_name\"][0]\n",
    "common_cause = data[\"common_causes_names\"][0]\n",
    "df"
   ]
  },
  {
   "cell_type": "code",
   "execution_count": 3,
   "metadata": {
    "execution": {
     "iopub.execute_input": "2022-07-28T10:54:11.767201Z",
     "iopub.status.busy": "2022-07-28T10:54:11.766724Z",
     "iopub.status.idle": "2022-07-28T10:54:12.677714Z",
     "shell.execute_reply": "2022-07-28T10:54:12.677061Z"
    }
   },
   "outputs": [
    {
     "data": {
      "text/plain": [
       "<AxesSubplot:xlabel='v0'>"
      ]
     },
     "execution_count": 3,
     "metadata": {},
     "output_type": "execute_result"
    },
    {
     "data": {
      "image/png": "[encoded data removed]",
      "text/plain": [
       "<Figure size 432x288 with 1 Axes>"
      ]
     },
     "metadata": {
      "needs_background": "light"
     },
     "output_type": "display_data"
    }
   ],
   "source": [
    "# data['df'] is just a regular pandas.DataFrame\n",
    "df.causal.do(x=treatment,\n",
    "                     variable_types={treatment: 'b', outcome: 'c', common_cause: 'c'},\n",
    "                     outcome=outcome,\n",
    "                     common_causes=[common_cause],\n",
    "                     proceed_when_unidentifiable=True).groupby(treatment).mean().plot(y=outcome, kind='bar')"
   ]
  },
  {
   "cell_type": "code",
   "execution_count": 4,
   "metadata": {
    "execution": {
     "iopub.execute_input": "2022-07-28T10:54:12.682753Z",
     "iopub.status.busy": "2022-07-28T10:54:12.681436Z",
     "iopub.status.idle": "2022-07-28T10:54:12.786742Z",
     "shell.execute_reply": "2022-07-28T10:54:12.786110Z"
    }
   },
   "outputs": [
    {
     "data": {
      "text/plain": [
       "<AxesSubplot:xlabel='v0'>"
      ]
     },
     "execution_count": 4,
     "metadata": {},
     "output_type": "execute_result"
    },
    {
     "data": {
      "image/png": "[encoded data removed]",
      "text/plain": [
       "<Figure size 432x288 with 1 Axes>"
      ]
     },
     "metadata": {
      "needs_background": "light"
     },
     "output_type": "display_data"
    }
   ],
   "source": [
    "df.causal.do(x={treatment: 1}, \n",
    "              variable_types={treatment:'b', outcome: 'c', common_cause: 'c'}, \n",
    "              outcome=outcome,\n",
    "              method='weighting', \n",
    "              common_causes=[common_cause],\n",
    "              proceed_when_unidentifiable=True).groupby(treatment).mean().plot(y=outcome, kind='bar')"
   ]
  },
  {
   "cell_type": "code",
   "execution_count": 5,
   "metadata": {
    "execution": {
     "iopub.execute_input": "2022-07-28T10:54:12.791519Z",
     "iopub.status.busy": "2022-07-28T10:54:12.790343Z",
     "iopub.status.idle": "2022-07-28T10:54:12.827104Z",
     "shell.execute_reply": "2022-07-28T10:54:12.826415Z"
    }
   },
   "outputs": [],
   "source": [
    "cdf_1 = df.causal.do(x={treatment: 1}, \n",
    "              variable_types={treatment: 'b', outcome: 'c', common_cause: 'c'}, \n",
    "              outcome=outcome, \n",
    "              dot_graph=data['dot_graph'],\n",
    "              proceed_when_unidentifiable=True)\n",
    "\n",
    "cdf_0 = df.causal.do(x={treatment: 0}, \n",
    "              variable_types={treatment: 'b', outcome: 'c', common_cause: 'c'}, \n",
    "              outcome=outcome, \n",
    "              dot_graph=data['dot_graph'],\n",
    "              proceed_when_unidentifiable=True)\n"
   ]
  },
  {
   "cell_type": "code",
   "execution_count": 6,
   "metadata": {
    "execution": {
     "iopub.execute_input": "2022-07-28T10:54:12.831882Z",
     "iopub.status.busy": "2022-07-28T10:54:12.830696Z",
     "iopub.status.idle": "2022-07-28T10:54:12.844764Z",
     "shell.execute_reply": "2022-07-28T10:54:12.844197Z"
    },
    "scrolled": true
   },
   "outputs": [
    {
     "data": {
      "text/html": [
       "<div>\n",
       "<style scoped>\n",
       "    .dataframe tbody tr th:only-of-type {\n",
       "        vertical-align: middle;\n",
       "    }\n",
       "\n",
       "    .dataframe tbody tr th {\n",
       "        vertical-align: top;\n",
       "    }\n",
       "\n",
       "    .dataframe thead th {\n",
       "        text-align: right;\n",
       "    }\n",
       "</style>\n",
       "<table border=\"1\" class=\"dataframe\">\n",
       "  <thead>\n",
       "    <tr style=\"text-align: right;\">\n",
       "      <th></th>\n",
       "      <th>W0</th>\n",
       "      <th>v0</th>\n",
       "      <th>y</th>\n",
       "      <th>propensity_score</th>\n",
       "      <th>weight</th>\n",
       "    </tr>\n",
       "  </thead>\n",
       "  <tbody>\n",
       "    <tr>\n",
       "      <th>0</th>\n",
       "      <td>-0.239286</td>\n",
       "      <td>False</td>\n",
       "      <td>-0.165813</td>\n",
       "      <td>0.518956</td>\n",
       "      <td>1.926944</td>\n",
       "    </tr>\n",
       "    <tr>\n",
       "      <th>1</th>\n",
       "      <td>0.314694</td>\n",
       "      <td>False</td>\n",
       "      <td>0.300549</td>\n",
       "      <td>0.463614</td>\n",
       "      <td>2.156965</td>\n",
       "    </tr>\n",
       "    <tr>\n",
       "      <th>2</th>\n",
       "      <td>-0.236057</td>\n",
       "      <td>False</td>\n",
       "      <td>1.067304</td>\n",
       "      <td>0.518634</td>\n",
       "      <td>1.928143</td>\n",
       "    </tr>\n",
       "    <tr>\n",
       "      <th>3</th>\n",
       "      <td>-1.294106</td>\n",
       "      <td>False</td>\n",
       "      <td>-1.296933</td>\n",
       "      <td>0.621971</td>\n",
       "      <td>1.607792</td>\n",
       "    </tr>\n",
       "    <tr>\n",
       "      <th>4</th>\n",
       "      <td>-0.583932</td>\n",
       "      <td>False</td>\n",
       "      <td>-1.412499</td>\n",
       "      <td>0.553238</td>\n",
       "      <td>1.807540</td>\n",
       "    </tr>\n",
       "    <tr>\n",
       "      <th>...</th>\n",
       "      <td>...</td>\n",
       "      <td>...</td>\n",
       "      <td>...</td>\n",
       "      <td>...</td>\n",
       "      <td>...</td>\n",
       "    </tr>\n",
       "    <tr>\n",
       "      <th>995</th>\n",
       "      <td>-0.342906</td>\n",
       "      <td>False</td>\n",
       "      <td>-0.095061</td>\n",
       "      <td>0.529297</td>\n",
       "      <td>1.889298</td>\n",
       "    </tr>\n",
       "    <tr>\n",
       "      <th>996</th>\n",
       "      <td>-2.203187</td>\n",
       "      <td>False</td>\n",
       "      <td>-1.573136</td>\n",
       "      <td>0.703009</td>\n",
       "      <td>1.422457</td>\n",
       "    </tr>\n",
       "    <tr>\n",
       "      <th>997</th>\n",
       "      <td>0.283549</td>\n",
       "      <td>False</td>\n",
       "      <td>0.761798</td>\n",
       "      <td>0.466715</td>\n",
       "      <td>2.142636</td>\n",
       "    </tr>\n",
       "    <tr>\n",
       "      <th>998</th>\n",
       "      <td>-0.020973</td>\n",
       "      <td>False</td>\n",
       "      <td>-0.645911</td>\n",
       "      <td>0.497127</td>\n",
       "      <td>2.011558</td>\n",
       "    </tr>\n",
       "    <tr>\n",
       "      <th>999</th>\n",
       "      <td>-1.816121</td>\n",
       "      <td>False</td>\n",
       "      <td>-0.354961</td>\n",
       "      <td>0.669692</td>\n",
       "      <td>1.493223</td>\n",
       "    </tr>\n",
       "  </tbody>\n",
       "</table>\n",
       "<p>1000 rows × 5 columns</p>\n",
       "</div>"
      ],
      "text/plain": [
       "           W0     v0         y  propensity_score    weight\n",
       "0   -0.239286  False -0.165813          0.518956  1.926944\n",
       "1    0.314694  False  0.300549          0.463614  2.156965\n",
       "2   -0.236057  False  1.067304          0.518634  1.928143\n",
       "3   -1.294106  False -1.296933          0.621971  1.607792\n",
       "4   -0.583932  False -1.412499          0.553238  1.807540\n",
       "..        ...    ...       ...               ...       ...\n",
       "995 -0.342906  False -0.095061          0.529297  1.889298\n",
       "996 -2.203187  False -1.573136          0.703009  1.422457\n",
       "997  0.283549  False  0.761798          0.466715  2.142636\n",
       "998 -0.020973  False -0.645911          0.497127  2.011558\n",
       "999 -1.816121  False -0.354961          0.669692  1.493223\n",
       "\n",
       "[1000 rows x 5 columns]"
      ]
     },
     "execution_count": 6,
     "metadata": {},
     "output_type": "execute_result"
    }
   ],
   "source": [
    "cdf_0"
   ]
  },
  {
   "cell_type": "code",
   "execution_count": 7,
   "metadata": {
    "execution": {
     "iopub.execute_input": "2022-07-28T10:54:12.848283Z",
     "iopub.status.busy": "2022-07-28T10:54:12.847635Z",
     "iopub.status.idle": "2022-07-28T10:54:12.861299Z",
     "shell.execute_reply": "2022-07-28T10:54:12.860685Z"
    }
   },
   "outputs": [
    {
     "data": {
      "text/html": [
       "<div>\n",
       "<style scoped>\n",
       "    .dataframe tbody tr th:only-of-type {\n",
       "        vertical-align: middle;\n",
       "    }\n",
       "\n",
       "    .dataframe tbody tr th {\n",
       "        vertical-align: top;\n",
       "    }\n",
       "\n",
       "    .dataframe thead th {\n",
       "        text-align: right;\n",
       "    }\n",
       "</style>\n",
       "<table border=\"1\" class=\"dataframe\">\n",
       "  <thead>\n",
       "    <tr style=\"text-align: right;\">\n",
       "      <th></th>\n",
       "      <th>W0</th>\n",
       "      <th>v0</th>\n",
       "      <th>y</th>\n",
       "      <th>propensity_score</th>\n",
       "      <th>weight</th>\n",
       "    </tr>\n",
       "  </thead>\n",
       "  <tbody>\n",
       "    <tr>\n",
       "      <th>0</th>\n",
       "      <td>-0.106487</td>\n",
       "      <td>True</td>\n",
       "      <td>6.748532</td>\n",
       "      <td>0.494319</td>\n",
       "      <td>2.022985</td>\n",
       "    </tr>\n",
       "    <tr>\n",
       "      <th>1</th>\n",
       "      <td>-0.915891</td>\n",
       "      <td>True</td>\n",
       "      <td>5.596616</td>\n",
       "      <td>0.414210</td>\n",
       "      <td>2.414234</td>\n",
       "    </tr>\n",
       "    <tr>\n",
       "      <th>2</th>\n",
       "      <td>0.621719</td>\n",
       "      <td>True</td>\n",
       "      <td>4.335288</td>\n",
       "      <td>0.566761</td>\n",
       "      <td>1.764412</td>\n",
       "    </tr>\n",
       "    <tr>\n",
       "      <th>3</th>\n",
       "      <td>-0.200344</td>\n",
       "      <td>True</td>\n",
       "      <td>4.082877</td>\n",
       "      <td>0.484935</td>\n",
       "      <td>2.062133</td>\n",
       "    </tr>\n",
       "    <tr>\n",
       "      <th>4</th>\n",
       "      <td>-1.799967</td>\n",
       "      <td>True</td>\n",
       "      <td>2.889441</td>\n",
       "      <td>0.331739</td>\n",
       "      <td>3.014416</td>\n",
       "    </tr>\n",
       "    <tr>\n",
       "      <th>...</th>\n",
       "      <td>...</td>\n",
       "      <td>...</td>\n",
       "      <td>...</td>\n",
       "      <td>...</td>\n",
       "      <td>...</td>\n",
       "    </tr>\n",
       "    <tr>\n",
       "      <th>995</th>\n",
       "      <td>-0.119219</td>\n",
       "      <td>True</td>\n",
       "      <td>6.409490</td>\n",
       "      <td>0.493046</td>\n",
       "      <td>2.028210</td>\n",
       "    </tr>\n",
       "    <tr>\n",
       "      <th>996</th>\n",
       "      <td>-0.611409</td>\n",
       "      <td>True</td>\n",
       "      <td>5.092266</td>\n",
       "      <td>0.444046</td>\n",
       "      <td>2.252019</td>\n",
       "    </tr>\n",
       "    <tr>\n",
       "      <th>997</th>\n",
       "      <td>-1.724439</td>\n",
       "      <td>True</td>\n",
       "      <td>4.843344</td>\n",
       "      <td>0.338472</td>\n",
       "      <td>2.954450</td>\n",
       "    </tr>\n",
       "    <tr>\n",
       "      <th>998</th>\n",
       "      <td>-1.560071</td>\n",
       "      <td>True</td>\n",
       "      <td>3.474281</td>\n",
       "      <td>0.353351</td>\n",
       "      <td>2.830047</td>\n",
       "    </tr>\n",
       "    <tr>\n",
       "      <th>999</th>\n",
       "      <td>-1.980667</td>\n",
       "      <td>True</td>\n",
       "      <td>3.567256</td>\n",
       "      <td>0.315910</td>\n",
       "      <td>3.165459</td>\n",
       "    </tr>\n",
       "  </tbody>\n",
       "</table>\n",
       "<p>1000 rows × 5 columns</p>\n",
       "</div>"
      ],
      "text/plain": [
       "           W0    v0         y  propensity_score    weight\n",
       "0   -0.106487  True  6.748532          0.494319  2.022985\n",
       "1   -0.915891  True  5.596616          0.414210  2.414234\n",
       "2    0.621719  True  4.335288          0.566761  1.764412\n",
       "3   -0.200344  True  4.082877          0.484935  2.062133\n",
       "4   -1.799967  True  2.889441          0.331739  3.014416\n",
       "..        ...   ...       ...               ...       ...\n",
       "995 -0.119219  True  6.409490          0.493046  2.028210\n",
       "996 -0.611409  True  5.092266          0.444046  2.252019\n",
       "997 -1.724439  True  4.843344          0.338472  2.954450\n",
       "998 -1.560071  True  3.474281          0.353351  2.830047\n",
       "999 -1.980667  True  3.567256          0.315910  3.165459\n",
       "\n",
       "[1000 rows x 5 columns]"
      ]
     },
     "execution_count": 7,
     "metadata": {},
     "output_type": "execute_result"
    }
   ],
   "source": [
    "cdf_1"
   ]
  },
  {
   "cell_type": "markdown",
   "metadata": {},
   "source": [
    "## Comparing the estimate to Linear Regression\n",
    "First, estimating the effect using the causal data frame, and the 95% confidence interval."
   ]
  },
  {
   "cell_type": "code",
   "execution_count": 8,
   "metadata": {
    "execution": {
     "iopub.execute_input": "2022-07-28T10:54:12.864482Z",
     "iopub.status.busy": "2022-07-28T10:54:12.863986Z",
     "iopub.status.idle": "2022-07-28T10:54:12.982363Z",
     "shell.execute_reply": "2022-07-28T10:54:12.981629Z"
    }
   },
   "outputs": [
    {
     "data": {
      "image/png": "[encoded data removed]",
      "text/latex": [
       "$\\displaystyle 5.01316663778515$"
      ],
      "text/plain": [
       "5.013166637785153"
      ]
     },
     "execution_count": 8,
     "metadata": {},
     "output_type": "execute_result"
    }
   ],
   "source": [
    "(cdf_1['y'] - cdf_0['y']).mean()"
   ]
  },
  {
   "cell_type": "code",
   "execution_count": 9,
   "metadata": {
    "execution": {
     "iopub.execute_input": "2022-07-28T10:54:12.986648Z",
     "iopub.status.busy": "2022-07-28T10:54:12.985946Z",
     "iopub.status.idle": "2022-07-28T10:54:13.016483Z",
     "shell.execute_reply": "2022-07-28T10:54:13.015658Z"
    }
   },
   "outputs": [
    {
     "data": {
      "image/png": "[encoded data removed]",
      "text/latex": [
       "$\\displaystyle 0.115235530957399$"
      ],
      "text/plain": [
       "0.11523553095739865"
      ]
     },
     "execution_count": 9,
     "metadata": {},
     "output_type": "execute_result"
    }
   ],
   "source": [
    "1.96*(cdf_1['y'] - cdf_0['y']).std() / np.sqrt(len(df))"
   ]
  },
  {
   "cell_type": "markdown",
   "metadata": {},
   "source": [
    "Comparing to the estimate from OLS."
   ]
  },
  {
   "cell_type": "code",
   "execution_count": 10,
   "metadata": {
    "execution": {
     "iopub.execute_input": "2022-07-28T10:54:13.020339Z",
     "iopub.status.busy": "2022-07-28T10:54:13.019967Z",
     "iopub.status.idle": "2022-07-28T10:54:13.036702Z",
     "shell.execute_reply": "2022-07-28T10:54:13.035973Z"
    }
   },
   "outputs": [
    {
     "data": {
      "text/html": [
       "<table class=\"simpletable\">\n",
       "<caption>OLS Regression Results</caption>\n",
       "<tr>\n",
       "  <th>Dep. Variable:</th>            <td>y</td>        <th>  R-squared (uncentered):</th>      <td>   0.910</td>\n",
       "</tr>\n",
       "<tr>\n",
       "  <th>Model:</th>                   <td>OLS</td>       <th>  Adj. R-squared (uncentered):</th> <td>   0.910</td>\n",
       "</tr>\n",
       "<tr>\n",
       "  <th>Method:</th>             <td>Least Squares</td>  <th>  F-statistic:       </th>          <td>   5071.</td>\n",
       "</tr>\n",
       "<tr>\n",
       "  <th>Date:</th>             <td>Thu, 28 Jul 2022</td> <th>  Prob (F-statistic):</th>           <td>  0.00</td> \n",
       "</tr>\n",
       "<tr>\n",
       "  <th>Time:</th>                 <td>10:54:13</td>     <th>  Log-Likelihood:    </th>          <td> -1415.2</td>\n",
       "</tr>\n",
       "<tr>\n",
       "  <th>No. Observations:</th>      <td>  1000</td>      <th>  AIC:               </th>          <td>   2834.</td>\n",
       "</tr>\n",
       "<tr>\n",
       "  <th>Df Residuals:</th>          <td>   998</td>      <th>  BIC:               </th>          <td>   2844.</td>\n",
       "</tr>\n",
       "<tr>\n",
       "  <th>Df Model:</th>              <td>     2</td>      <th>                     </th>              <td> </td>   \n",
       "</tr>\n",
       "<tr>\n",
       "  <th>Covariance Type:</th>      <td>nonrobust</td>    <th>                     </th>              <td> </td>   \n",
       "</tr>\n",
       "</table>\n",
       "<table class=\"simpletable\">\n",
       "<tr>\n",
       "   <td></td>     <th>coef</th>     <th>std err</th>      <th>t</th>      <th>P>|t|</th>  <th>[0.025</th>    <th>0.975]</th>  \n",
       "</tr>\n",
       "<tr>\n",
       "  <th>x1</th> <td>    0.8395</td> <td>    0.025</td> <td>   33.139</td> <td> 0.000</td> <td>    0.790</td> <td>    0.889</td>\n",
       "</tr>\n",
       "<tr>\n",
       "  <th>x2</th> <td>    5.0490</td> <td>    0.050</td> <td>  100.586</td> <td> 0.000</td> <td>    4.950</td> <td>    5.147</td>\n",
       "</tr>\n",
       "</table>\n",
       "<table class=\"simpletable\">\n",
       "<tr>\n",
       "  <th>Omnibus:</th>       <td> 2.680</td> <th>  Durbin-Watson:     </th> <td>   1.848</td>\n",
       "</tr>\n",
       "<tr>\n",
       "  <th>Prob(Omnibus):</th> <td> 0.262</td> <th>  Jarque-Bera (JB):  </th> <td>   2.534</td>\n",
       "</tr>\n",
       "<tr>\n",
       "  <th>Skew:</th>          <td>-0.107</td> <th>  Prob(JB):          </th> <td>   0.282</td>\n",
       "</tr>\n",
       "<tr>\n",
       "  <th>Kurtosis:</th>      <td> 3.122</td> <th>  Cond. No.          </th> <td>    2.12</td>\n",
       "</tr>\n",
       "</table><br/><br/>Notes:<br/>[1] R² is computed without centering (uncentered) since the model does not contain a constant.<br/>[2] Standard Errors assume that the covariance matrix of the errors is correctly specified."
      ],
      "text/plain": [
       "<class 'statsmodels.iolib.summary.Summary'>\n",
       "\"\"\"\n",
       "                                 OLS Regression Results                                \n",
       "=======================================================================================\n",
       "Dep. Variable:                      y   R-squared (uncentered):                   0.910\n",
       "Model:                            OLS   Adj. R-squared (uncentered):              0.910\n",
       "Method:                 Least Squares   F-statistic:                              5071.\n",
       "Date:                Thu, 28 Jul 2022   Prob (F-statistic):                        0.00\n",
       "Time:                        10:54:13   Log-Likelihood:                         -1415.2\n",
       "No. Observations:                1000   AIC:                                      2834.\n",
       "Df Residuals:                     998   BIC:                                      2844.\n",
       "Df Model:                           2                                                  \n",
       "Covariance Type:            nonrobust                                                  \n",
       "==============================================================================\n",
       "                 coef    std err          t      P>|t|      [0.025      0.975]\n",
       "------------------------------------------------------------------------------\n",
       "x1             0.8395      0.025     33.139      0.000       0.790       0.889\n",
       "x2             5.0490      0.050    100.586      0.000       4.950       5.147\n",
       "==============================================================================\n",
       "Omnibus:                        2.680   Durbin-Watson:                   1.848\n",
       "Prob(Omnibus):                  0.262   Jarque-Bera (JB):                2.534\n",
       "Skew:                          -0.107   Prob(JB):                        0.282\n",
       "Kurtosis:                       3.122   Cond. No.                         2.12\n",
       "==============================================================================\n",
       "\n",
       "Notes:\n",
       "[1] R² is computed without centering (uncentered) since the model does not contain a constant.\n",
       "[2] Standard Errors assume that the covariance matrix of the errors is correctly specified.\n",
       "\"\"\""
      ]
     },
     "execution_count": 10,
     "metadata": {},
     "output_type": "execute_result"
    }
   ],
   "source": [
    "model = OLS(np.asarray(df[outcome]), np.asarray(df[[common_cause, treatment]], dtype=np.float64))\n",
    "result = model.fit()\n",
    "result.summary()"
   ]
  }
 ],
 "metadata": {
  "kernelspec": {
   "display_name": "Python 3",
   "language": "python",
   "name": "python3"
  },
  "language_info": {
   "codemirror_mode": {
    "name": "ipython",
    "version": 3
   },
   "file_extension": ".py",
   "mimetype": "text/x-python",
   "name": "python",
   "nbconvert_exporter": "python",
   "pygments_lexer": "ipython3",
   "version": "3.8.10"
  },
  "toc": {
   "base_numbering": 1,
   "nav_menu": {},
   "number_sections": false,
   "sideBar": true,
   "skip_h1_title": true,
   "title_cell": "Table of Contents",
   "title_sidebar": "Contents",
   "toc_cell": false,
   "toc_position": {},
   "toc_section_display": true,
   "toc_window_display": false
  }
 },
 "nbformat": 4,
 "nbformat_minor": 4
}
