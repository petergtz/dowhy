{
 "cells": [
  {
   "cell_type": "markdown",
   "metadata": {},
   "source": [
    "# Demo for the DoWhy causal API\n",
    "We show a simple example of adding a causal extension to any dataframe. "
   ]
  },
  {
   "cell_type": "code",
   "execution_count": 1,
   "metadata": {
    "execution": {
     "iopub.execute_input": "2022-07-19T20:29:21.242204Z",
     "iopub.status.busy": "2022-07-19T20:29:21.241956Z",
     "iopub.status.idle": "2022-07-19T20:29:22.347059Z",
     "shell.execute_reply": "2022-07-19T20:29:22.346345Z"
    }
   },
   "outputs": [
    {
     "name": "stdout",
     "output_type": "stream",
     "text": [
      "keywords are unexpanded, not using\n"
     ]
    }
   ],
   "source": [
    "import dowhy.datasets\n",
    "import dowhy.api\n",
    "\n",
    "import numpy as np\n",
    "import pandas as pd\n",
    "\n",
    "from statsmodels.api import OLS"
   ]
  },
  {
   "cell_type": "code",
   "execution_count": 2,
   "metadata": {
    "execution": {
     "iopub.execute_input": "2022-07-19T20:29:22.350685Z",
     "iopub.status.busy": "2022-07-19T20:29:22.349987Z",
     "iopub.status.idle": "2022-07-19T20:29:22.398331Z",
     "shell.execute_reply": "2022-07-19T20:29:22.397746Z"
    }
   },
   "outputs": [
    {
     "data": {
      "text/html": [
       "<div>\n",
       "<style scoped>\n",
       "    .dataframe tbody tr th:only-of-type {\n",
       "        vertical-align: middle;\n",
       "    }\n",
       "\n",
       "    .dataframe tbody tr th {\n",
       "        vertical-align: top;\n",
       "    }\n",
       "\n",
       "    .dataframe thead th {\n",
       "        text-align: right;\n",
       "    }\n",
       "</style>\n",
       "<table border=\"1\" class=\"dataframe\">\n",
       "  <thead>\n",
       "    <tr style=\"text-align: right;\">\n",
       "      <th></th>\n",
       "      <th>W0</th>\n",
       "      <th>v0</th>\n",
       "      <th>y</th>\n",
       "    </tr>\n",
       "  </thead>\n",
       "  <tbody>\n",
       "    <tr>\n",
       "      <th>0</th>\n",
       "      <td>2.467622</td>\n",
       "      <td>True</td>\n",
       "      <td>10.282363</td>\n",
       "    </tr>\n",
       "    <tr>\n",
       "      <th>1</th>\n",
       "      <td>0.767867</td>\n",
       "      <td>False</td>\n",
       "      <td>0.863509</td>\n",
       "    </tr>\n",
       "    <tr>\n",
       "      <th>2</th>\n",
       "      <td>0.347118</td>\n",
       "      <td>False</td>\n",
       "      <td>1.821114</td>\n",
       "    </tr>\n",
       "    <tr>\n",
       "      <th>3</th>\n",
       "      <td>-0.305876</td>\n",
       "      <td>False</td>\n",
       "      <td>-1.020255</td>\n",
       "    </tr>\n",
       "    <tr>\n",
       "      <th>4</th>\n",
       "      <td>0.123471</td>\n",
       "      <td>False</td>\n",
       "      <td>-0.873366</td>\n",
       "    </tr>\n",
       "    <tr>\n",
       "      <th>...</th>\n",
       "      <td>...</td>\n",
       "      <td>...</td>\n",
       "      <td>...</td>\n",
       "    </tr>\n",
       "    <tr>\n",
       "      <th>995</th>\n",
       "      <td>-0.093079</td>\n",
       "      <td>True</td>\n",
       "      <td>5.190158</td>\n",
       "    </tr>\n",
       "    <tr>\n",
       "      <th>996</th>\n",
       "      <td>-2.491506</td>\n",
       "      <td>True</td>\n",
       "      <td>0.373064</td>\n",
       "    </tr>\n",
       "    <tr>\n",
       "      <th>997</th>\n",
       "      <td>0.014719</td>\n",
       "      <td>True</td>\n",
       "      <td>4.284487</td>\n",
       "    </tr>\n",
       "    <tr>\n",
       "      <th>998</th>\n",
       "      <td>0.184560</td>\n",
       "      <td>True</td>\n",
       "      <td>5.416853</td>\n",
       "    </tr>\n",
       "    <tr>\n",
       "      <th>999</th>\n",
       "      <td>0.170935</td>\n",
       "      <td>False</td>\n",
       "      <td>1.212071</td>\n",
       "    </tr>\n",
       "  </tbody>\n",
       "</table>\n",
       "<p>1000 rows × 3 columns</p>\n",
       "</div>"
      ],
      "text/plain": [
       "           W0     v0          y\n",
       "0    2.467622   True  10.282363\n",
       "1    0.767867  False   0.863509\n",
       "2    0.347118  False   1.821114\n",
       "3   -0.305876  False  -1.020255\n",
       "4    0.123471  False  -0.873366\n",
       "..        ...    ...        ...\n",
       "995 -0.093079   True   5.190158\n",
       "996 -2.491506   True   0.373064\n",
       "997  0.014719   True   4.284487\n",
       "998  0.184560   True   5.416853\n",
       "999  0.170935  False   1.212071\n",
       "\n",
       "[1000 rows x 3 columns]"
      ]
     },
     "execution_count": 2,
     "metadata": {},
     "output_type": "execute_result"
    }
   ],
   "source": [
    "data = dowhy.datasets.linear_dataset(beta=5,\n",
    "        num_common_causes=1,\n",
    "        num_instruments = 0,\n",
    "        num_samples=1000,\n",
    "        treatment_is_binary=True)\n",
    "df = data['df']\n",
    "df['y'] = df['y'] + np.random.normal(size=len(df)) # Adding noise to data. Without noise, the variance in Y|X, Z is zero, and mcmc fails.\n",
    "#data['dot_graph'] = 'digraph { v ->y;X0-> v;X0-> y;}'\n",
    "\n",
    "treatment= data[\"treatment_name\"][0]\n",
    "outcome = data[\"outcome_name\"][0]\n",
    "common_cause = data[\"common_causes_names\"][0]\n",
    "df"
   ]
  },
  {
   "cell_type": "code",
   "execution_count": 3,
   "metadata": {
    "execution": {
     "iopub.execute_input": "2022-07-19T20:29:22.401426Z",
     "iopub.status.busy": "2022-07-19T20:29:22.401092Z",
     "iopub.status.idle": "2022-07-19T20:29:23.151497Z",
     "shell.execute_reply": "2022-07-19T20:29:23.150943Z"
    }
   },
   "outputs": [
    {
     "data": {
      "text/plain": [
       "<AxesSubplot:xlabel='v0'>"
      ]
     },
     "execution_count": 3,
     "metadata": {},
     "output_type": "execute_result"
    },
    {
     "data": {
      "image/png": "[encoded data removed]",
      "text/plain": [
       "<Figure size 432x288 with 1 Axes>"
      ]
     },
     "metadata": {
      "needs_background": "light"
     },
     "output_type": "display_data"
    }
   ],
   "source": [
    "# data['df'] is just a regular pandas.DataFrame\n",
    "df.causal.do(x=treatment,\n",
    "                     variable_types={treatment: 'b', outcome: 'c', common_cause: 'c'},\n",
    "                     outcome=outcome,\n",
    "                     common_causes=[common_cause],\n",
    "                     proceed_when_unidentifiable=True).groupby(treatment).mean().plot(y=outcome, kind='bar')"
   ]
  },
  {
   "cell_type": "code",
   "execution_count": 4,
   "metadata": {
    "execution": {
     "iopub.execute_input": "2022-07-19T20:29:23.155036Z",
     "iopub.status.busy": "2022-07-19T20:29:23.154457Z",
     "iopub.status.idle": "2022-07-19T20:29:23.248801Z",
     "shell.execute_reply": "2022-07-19T20:29:23.248296Z"
    }
   },
   "outputs": [
    {
     "data": {
      "text/plain": [
       "<AxesSubplot:xlabel='v0'>"
      ]
     },
     "execution_count": 4,
     "metadata": {},
     "output_type": "execute_result"
    },
    {
     "data": {
      "image/png": "[encoded data removed]",
      "text/plain": [
       "<Figure size 432x288 with 1 Axes>"
      ]
     },
     "metadata": {
      "needs_background": "light"
     },
     "output_type": "display_data"
    }
   ],
   "source": [
    "df.causal.do(x={treatment: 1}, \n",
    "              variable_types={treatment:'b', outcome: 'c', common_cause: 'c'}, \n",
    "              outcome=outcome,\n",
    "              method='weighting', \n",
    "              common_causes=[common_cause],\n",
    "              proceed_when_unidentifiable=True).groupby(treatment).mean().plot(y=outcome, kind='bar')"
   ]
  },
  {
   "cell_type": "code",
   "execution_count": 5,
   "metadata": {
    "execution": {
     "iopub.execute_input": "2022-07-19T20:29:23.252539Z",
     "iopub.status.busy": "2022-07-19T20:29:23.251967Z",
     "iopub.status.idle": "2022-07-19T20:29:23.283366Z",
     "shell.execute_reply": "2022-07-19T20:29:23.282787Z"
    }
   },
   "outputs": [],
   "source": [
    "cdf_1 = df.causal.do(x={treatment: 1}, \n",
    "              variable_types={treatment: 'b', outcome: 'c', common_cause: 'c'}, \n",
    "              outcome=outcome, \n",
    "              dot_graph=data['dot_graph'],\n",
    "              proceed_when_unidentifiable=True)\n",
    "\n",
    "cdf_0 = df.causal.do(x={treatment: 0}, \n",
    "              variable_types={treatment: 'b', outcome: 'c', common_cause: 'c'}, \n",
    "              outcome=outcome, \n",
    "              dot_graph=data['dot_graph'],\n",
    "              proceed_when_unidentifiable=True)\n"
   ]
  },
  {
   "cell_type": "code",
   "execution_count": 6,
   "metadata": {
    "execution": {
     "iopub.execute_input": "2022-07-19T20:29:23.286531Z",
     "iopub.status.busy": "2022-07-19T20:29:23.286213Z",
     "iopub.status.idle": "2022-07-19T20:29:23.298954Z",
     "shell.execute_reply": "2022-07-19T20:29:23.298344Z"
    },
    "scrolled": true
   },
   "outputs": [
    {
     "data": {
      "text/html": [
       "<div>\n",
       "<style scoped>\n",
       "    .dataframe tbody tr th:only-of-type {\n",
       "        vertical-align: middle;\n",
       "    }\n",
       "\n",
       "    .dataframe tbody tr th {\n",
       "        vertical-align: top;\n",
       "    }\n",
       "\n",
       "    .dataframe thead th {\n",
       "        text-align: right;\n",
       "    }\n",
       "</style>\n",
       "<table border=\"1\" class=\"dataframe\">\n",
       "  <thead>\n",
       "    <tr style=\"text-align: right;\">\n",
       "      <th></th>\n",
       "      <th>W0</th>\n",
       "      <th>v0</th>\n",
       "      <th>y</th>\n",
       "      <th>propensity_score</th>\n",
       "      <th>weight</th>\n",
       "    </tr>\n",
       "  </thead>\n",
       "  <tbody>\n",
       "    <tr>\n",
       "      <th>0</th>\n",
       "      <td>-0.241934</td>\n",
       "      <td>False</td>\n",
       "      <td>-0.738336</td>\n",
       "      <td>0.639736</td>\n",
       "      <td>1.563146</td>\n",
       "    </tr>\n",
       "    <tr>\n",
       "      <th>1</th>\n",
       "      <td>-1.556452</td>\n",
       "      <td>False</td>\n",
       "      <td>-4.746635</td>\n",
       "      <td>0.981869</td>\n",
       "      <td>1.018466</td>\n",
       "    </tr>\n",
       "    <tr>\n",
       "      <th>2</th>\n",
       "      <td>-0.226442</td>\n",
       "      <td>False</td>\n",
       "      <td>-0.750365</td>\n",
       "      <td>0.630401</td>\n",
       "      <td>1.586291</td>\n",
       "    </tr>\n",
       "    <tr>\n",
       "      <th>3</th>\n",
       "      <td>0.289549</td>\n",
       "      <td>False</td>\n",
       "      <td>0.468551</td>\n",
       "      <td>0.308405</td>\n",
       "      <td>3.242491</td>\n",
       "    </tr>\n",
       "    <tr>\n",
       "      <th>4</th>\n",
       "      <td>0.387474</td>\n",
       "      <td>False</td>\n",
       "      <td>-0.240465</td>\n",
       "      <td>0.256893</td>\n",
       "      <td>3.892675</td>\n",
       "    </tr>\n",
       "    <tr>\n",
       "      <th>...</th>\n",
       "      <td>...</td>\n",
       "      <td>...</td>\n",
       "      <td>...</td>\n",
       "      <td>...</td>\n",
       "      <td>...</td>\n",
       "    </tr>\n",
       "    <tr>\n",
       "      <th>995</th>\n",
       "      <td>0.449399</td>\n",
       "      <td>False</td>\n",
       "      <td>1.805694</td>\n",
       "      <td>0.227377</td>\n",
       "      <td>4.397983</td>\n",
       "    </tr>\n",
       "    <tr>\n",
       "      <th>996</th>\n",
       "      <td>-0.512677</td>\n",
       "      <td>False</td>\n",
       "      <td>-1.156469</td>\n",
       "      <td>0.782130</td>\n",
       "      <td>1.278559</td>\n",
       "    </tr>\n",
       "    <tr>\n",
       "      <th>997</th>\n",
       "      <td>-1.151929</td>\n",
       "      <td>False</td>\n",
       "      <td>-2.374304</td>\n",
       "      <td>0.949794</td>\n",
       "      <td>1.052860</td>\n",
       "    </tr>\n",
       "    <tr>\n",
       "      <th>998</th>\n",
       "      <td>-1.027078</td>\n",
       "      <td>False</td>\n",
       "      <td>-1.601122</td>\n",
       "      <td>0.931853</td>\n",
       "      <td>1.073130</td>\n",
       "    </tr>\n",
       "    <tr>\n",
       "      <th>999</th>\n",
       "      <td>-0.204557</td>\n",
       "      <td>False</td>\n",
       "      <td>-2.030840</td>\n",
       "      <td>0.617049</td>\n",
       "      <td>1.620618</td>\n",
       "    </tr>\n",
       "  </tbody>\n",
       "</table>\n",
       "<p>1000 rows × 5 columns</p>\n",
       "</div>"
      ],
      "text/plain": [
       "           W0     v0         y  propensity_score    weight\n",
       "0   -0.241934  False -0.738336          0.639736  1.563146\n",
       "1   -1.556452  False -4.746635          0.981869  1.018466\n",
       "2   -0.226442  False -0.750365          0.630401  1.586291\n",
       "3    0.289549  False  0.468551          0.308405  3.242491\n",
       "4    0.387474  False -0.240465          0.256893  3.892675\n",
       "..        ...    ...       ...               ...       ...\n",
       "995  0.449399  False  1.805694          0.227377  4.397983\n",
       "996 -0.512677  False -1.156469          0.782130  1.278559\n",
       "997 -1.151929  False -2.374304          0.949794  1.052860\n",
       "998 -1.027078  False -1.601122          0.931853  1.073130\n",
       "999 -0.204557  False -2.030840          0.617049  1.620618\n",
       "\n",
       "[1000 rows x 5 columns]"
      ]
     },
     "execution_count": 6,
     "metadata": {},
     "output_type": "execute_result"
    }
   ],
   "source": [
    "cdf_0"
   ]
  },
  {
   "cell_type": "code",
   "execution_count": 7,
   "metadata": {
    "execution": {
     "iopub.execute_input": "2022-07-19T20:29:23.301608Z",
     "iopub.status.busy": "2022-07-19T20:29:23.301381Z",
     "iopub.status.idle": "2022-07-19T20:29:23.312722Z",
     "shell.execute_reply": "2022-07-19T20:29:23.312166Z"
    }
   },
   "outputs": [
    {
     "data": {
      "text/html": [
       "<div>\n",
       "<style scoped>\n",
       "    .dataframe tbody tr th:only-of-type {\n",
       "        vertical-align: middle;\n",
       "    }\n",
       "\n",
       "    .dataframe tbody tr th {\n",
       "        vertical-align: top;\n",
       "    }\n",
       "\n",
       "    .dataframe thead th {\n",
       "        text-align: right;\n",
       "    }\n",
       "</style>\n",
       "<table border=\"1\" class=\"dataframe\">\n",
       "  <thead>\n",
       "    <tr style=\"text-align: right;\">\n",
       "      <th></th>\n",
       "      <th>W0</th>\n",
       "      <th>v0</th>\n",
       "      <th>y</th>\n",
       "      <th>propensity_score</th>\n",
       "      <th>weight</th>\n",
       "    </tr>\n",
       "  </thead>\n",
       "  <tbody>\n",
       "    <tr>\n",
       "      <th>0</th>\n",
       "      <td>0.757775</td>\n",
       "      <td>True</td>\n",
       "      <td>6.813301</td>\n",
       "      <td>0.883390</td>\n",
       "      <td>1.132003</td>\n",
       "    </tr>\n",
       "    <tr>\n",
       "      <th>1</th>\n",
       "      <td>2.611090</td>\n",
       "      <td>True</td>\n",
       "      <td>8.626946</td>\n",
       "      <td>0.998935</td>\n",
       "      <td>1.001067</td>\n",
       "    </tr>\n",
       "    <tr>\n",
       "      <th>2</th>\n",
       "      <td>0.305056</td>\n",
       "      <td>True</td>\n",
       "      <td>5.314902</td>\n",
       "      <td>0.700127</td>\n",
       "      <td>1.428312</td>\n",
       "    </tr>\n",
       "    <tr>\n",
       "      <th>3</th>\n",
       "      <td>-0.791335</td>\n",
       "      <td>True</td>\n",
       "      <td>3.847875</td>\n",
       "      <td>0.118930</td>\n",
       "      <td>8.408331</td>\n",
       "    </tr>\n",
       "    <tr>\n",
       "      <th>4</th>\n",
       "      <td>0.001986</td>\n",
       "      <td>True</td>\n",
       "      <td>6.103948</td>\n",
       "      <td>0.514984</td>\n",
       "      <td>1.941810</td>\n",
       "    </tr>\n",
       "    <tr>\n",
       "      <th>...</th>\n",
       "      <td>...</td>\n",
       "      <td>...</td>\n",
       "      <td>...</td>\n",
       "      <td>...</td>\n",
       "      <td>...</td>\n",
       "    </tr>\n",
       "    <tr>\n",
       "      <th>995</th>\n",
       "      <td>-2.491506</td>\n",
       "      <td>True</td>\n",
       "      <td>0.373064</td>\n",
       "      <td>0.001621</td>\n",
       "      <td>616.777747</td>\n",
       "    </tr>\n",
       "    <tr>\n",
       "      <th>996</th>\n",
       "      <td>0.757775</td>\n",
       "      <td>True</td>\n",
       "      <td>6.813301</td>\n",
       "      <td>0.883390</td>\n",
       "      <td>1.132003</td>\n",
       "    </tr>\n",
       "    <tr>\n",
       "      <th>997</th>\n",
       "      <td>0.306244</td>\n",
       "      <td>True</td>\n",
       "      <td>5.625061</td>\n",
       "      <td>0.700776</td>\n",
       "      <td>1.426991</td>\n",
       "    </tr>\n",
       "    <tr>\n",
       "      <th>998</th>\n",
       "      <td>0.181313</td>\n",
       "      <td>True</td>\n",
       "      <td>5.617617</td>\n",
       "      <td>0.628592</td>\n",
       "      <td>1.590856</td>\n",
       "    </tr>\n",
       "    <tr>\n",
       "      <th>999</th>\n",
       "      <td>-2.491506</td>\n",
       "      <td>True</td>\n",
       "      <td>0.373064</td>\n",
       "      <td>0.001621</td>\n",
       "      <td>616.777747</td>\n",
       "    </tr>\n",
       "  </tbody>\n",
       "</table>\n",
       "<p>1000 rows × 5 columns</p>\n",
       "</div>"
      ],
      "text/plain": [
       "           W0    v0         y  propensity_score      weight\n",
       "0    0.757775  True  6.813301          0.883390    1.132003\n",
       "1    2.611090  True  8.626946          0.998935    1.001067\n",
       "2    0.305056  True  5.314902          0.700127    1.428312\n",
       "3   -0.791335  True  3.847875          0.118930    8.408331\n",
       "4    0.001986  True  6.103948          0.514984    1.941810\n",
       "..        ...   ...       ...               ...         ...\n",
       "995 -2.491506  True  0.373064          0.001621  616.777747\n",
       "996  0.757775  True  6.813301          0.883390    1.132003\n",
       "997  0.306244  True  5.625061          0.700776    1.426991\n",
       "998  0.181313  True  5.617617          0.628592    1.590856\n",
       "999 -2.491506  True  0.373064          0.001621  616.777747\n",
       "\n",
       "[1000 rows x 5 columns]"
      ]
     },
     "execution_count": 7,
     "metadata": {},
     "output_type": "execute_result"
    }
   ],
   "source": [
    "cdf_1"
   ]
  },
  {
   "cell_type": "markdown",
   "metadata": {},
   "source": [
    "## Comparing the estimate to Linear Regression\n",
    "First, estimating the effect using the causal data frame, and the 95% confidence interval."
   ]
  },
  {
   "cell_type": "code",
   "execution_count": 8,
   "metadata": {
    "execution": {
     "iopub.execute_input": "2022-07-19T20:29:23.315339Z",
     "iopub.status.busy": "2022-07-19T20:29:23.315129Z",
     "iopub.status.idle": "2022-07-19T20:29:23.412185Z",
     "shell.execute_reply": "2022-07-19T20:29:23.411598Z"
    }
   },
   "outputs": [
    {
     "data": {
      "image/png": "[encoded data removed]",
      "text/latex": [
       "$\\displaystyle 3.47442063781602$"
      ],
      "text/plain": [
       "3.4744206378160154"
      ]
     },
     "execution_count": 8,
     "metadata": {},
     "output_type": "execute_result"
    }
   ],
   "source": [
    "(cdf_1['y'] - cdf_0['y']).mean()"
   ]
  },
  {
   "cell_type": "code",
   "execution_count": 9,
   "metadata": {
    "execution": {
     "iopub.execute_input": "2022-07-19T20:29:23.415402Z",
     "iopub.status.busy": "2022-07-19T20:29:23.415073Z",
     "iopub.status.idle": "2022-07-19T20:29:23.441382Z",
     "shell.execute_reply": "2022-07-19T20:29:23.440815Z"
    }
   },
   "outputs": [
    {
     "data": {
      "image/png": "[encoded data removed]",
      "text/latex": [
       "$\\displaystyle 0.215428284331839$"
      ],
      "text/plain": [
       "0.21542828433183894"
      ]
     },
     "execution_count": 9,
     "metadata": {},
     "output_type": "execute_result"
    }
   ],
   "source": [
    "1.96*(cdf_1['y'] - cdf_0['y']).std() / np.sqrt(len(df))"
   ]
  },
  {
   "cell_type": "markdown",
   "metadata": {},
   "source": [
    "Comparing to the estimate from OLS."
   ]
  },
  {
   "cell_type": "code",
   "execution_count": 10,
   "metadata": {
    "execution": {
     "iopub.execute_input": "2022-07-19T20:29:23.445368Z",
     "iopub.status.busy": "2022-07-19T20:29:23.444236Z",
     "iopub.status.idle": "2022-07-19T20:29:23.459876Z",
     "shell.execute_reply": "2022-07-19T20:29:23.459316Z"
    }
   },
   "outputs": [
    {
     "data": {
      "text/html": [
       "<table class=\"simpletable\">\n",
       "<caption>OLS Regression Results</caption>\n",
       "<tr>\n",
       "  <th>Dep. Variable:</th>            <td>y</td>        <th>  R-squared (uncentered):</th>      <td>   0.967</td> \n",
       "</tr>\n",
       "<tr>\n",
       "  <th>Model:</th>                   <td>OLS</td>       <th>  Adj. R-squared (uncentered):</th> <td>   0.967</td> \n",
       "</tr>\n",
       "<tr>\n",
       "  <th>Method:</th>             <td>Least Squares</td>  <th>  F-statistic:       </th>          <td>1.454e+04</td>\n",
       "</tr>\n",
       "<tr>\n",
       "  <th>Date:</th>             <td>Tue, 19 Jul 2022</td> <th>  Prob (F-statistic):</th>           <td>  0.00</td>  \n",
       "</tr>\n",
       "<tr>\n",
       "  <th>Time:</th>                 <td>20:29:23</td>     <th>  Log-Likelihood:    </th>          <td> -1419.4</td> \n",
       "</tr>\n",
       "<tr>\n",
       "  <th>No. Observations:</th>      <td>  1000</td>      <th>  AIC:               </th>          <td>   2843.</td> \n",
       "</tr>\n",
       "<tr>\n",
       "  <th>Df Residuals:</th>          <td>   998</td>      <th>  BIC:               </th>          <td>   2853.</td> \n",
       "</tr>\n",
       "<tr>\n",
       "  <th>Df Model:</th>              <td>     2</td>      <th>                     </th>              <td> </td>    \n",
       "</tr>\n",
       "<tr>\n",
       "  <th>Covariance Type:</th>      <td>nonrobust</td>    <th>                     </th>              <td> </td>    \n",
       "</tr>\n",
       "</table>\n",
       "<table class=\"simpletable\">\n",
       "<tr>\n",
       "   <td></td>     <th>coef</th>     <th>std err</th>      <th>t</th>      <th>P>|t|</th>  <th>[0.025</th>    <th>0.975]</th>  \n",
       "</tr>\n",
       "<tr>\n",
       "  <th>x1</th> <td>    1.8668</td> <td>    0.037</td> <td>   50.151</td> <td> 0.000</td> <td>    1.794</td> <td>    1.940</td>\n",
       "</tr>\n",
       "<tr>\n",
       "  <th>x2</th> <td>    5.0069</td> <td>    0.052</td> <td>   95.965</td> <td> 0.000</td> <td>    4.905</td> <td>    5.109</td>\n",
       "</tr>\n",
       "</table>\n",
       "<table class=\"simpletable\">\n",
       "<tr>\n",
       "  <th>Omnibus:</th>       <td> 1.262</td> <th>  Durbin-Watson:     </th> <td>   1.929</td>\n",
       "</tr>\n",
       "<tr>\n",
       "  <th>Prob(Omnibus):</th> <td> 0.532</td> <th>  Jarque-Bera (JB):  </th> <td>   1.164</td>\n",
       "</tr>\n",
       "<tr>\n",
       "  <th>Skew:</th>          <td> 0.008</td> <th>  Prob(JB):          </th> <td>   0.559</td>\n",
       "</tr>\n",
       "<tr>\n",
       "  <th>Kurtosis:</th>      <td> 3.166</td> <th>  Cond. No.          </th> <td>    2.27</td>\n",
       "</tr>\n",
       "</table><br/><br/>Notes:<br/>[1] R² is computed without centering (uncentered) since the model does not contain a constant.<br/>[2] Standard Errors assume that the covariance matrix of the errors is correctly specified."
      ],
      "text/plain": [
       "<class 'statsmodels.iolib.summary.Summary'>\n",
       "\"\"\"\n",
       "                                 OLS Regression Results                                \n",
       "=======================================================================================\n",
       "Dep. Variable:                      y   R-squared (uncentered):                   0.967\n",
       "Model:                            OLS   Adj. R-squared (uncentered):              0.967\n",
       "Method:                 Least Squares   F-statistic:                          1.454e+04\n",
       "Date:                Tue, 19 Jul 2022   Prob (F-statistic):                        0.00\n",
       "Time:                        20:29:23   Log-Likelihood:                         -1419.4\n",
       "No. Observations:                1000   AIC:                                      2843.\n",
       "Df Residuals:                     998   BIC:                                      2853.\n",
       "Df Model:                           2                                                  \n",
       "Covariance Type:            nonrobust                                                  \n",
       "==============================================================================\n",
       "                 coef    std err          t      P>|t|      [0.025      0.975]\n",
       "------------------------------------------------------------------------------\n",
       "x1             1.8668      0.037     50.151      0.000       1.794       1.940\n",
       "x2             5.0069      0.052     95.965      0.000       4.905       5.109\n",
       "==============================================================================\n",
       "Omnibus:                        1.262   Durbin-Watson:                   1.929\n",
       "Prob(Omnibus):                  0.532   Jarque-Bera (JB):                1.164\n",
       "Skew:                           0.008   Prob(JB):                        0.559\n",
       "Kurtosis:                       3.166   Cond. No.                         2.27\n",
       "==============================================================================\n",
       "\n",
       "Notes:\n",
       "[1] R² is computed without centering (uncentered) since the model does not contain a constant.\n",
       "[2] Standard Errors assume that the covariance matrix of the errors is correctly specified.\n",
       "\"\"\""
      ]
     },
     "execution_count": 10,
     "metadata": {},
     "output_type": "execute_result"
    }
   ],
   "source": [
    "model = OLS(np.asarray(df[outcome]), np.asarray(df[[common_cause, treatment]], dtype=np.float64))\n",
    "result = model.fit()\n",
    "result.summary()"
   ]
  }
 ],
 "metadata": {
  "kernelspec": {
   "display_name": "Python 3",
   "language": "python",
   "name": "python3"
  },
  "language_info": {
   "codemirror_mode": {
    "name": "ipython",
    "version": 3
   },
   "file_extension": ".py",
   "mimetype": "text/x-python",
   "name": "python",
   "nbconvert_exporter": "python",
   "pygments_lexer": "ipython3",
   "version": "3.8.10"
  },
  "toc": {
   "base_numbering": 1,
   "nav_menu": {},
   "number_sections": false,
   "sideBar": true,
   "skip_h1_title": true,
   "title_cell": "Table of Contents",
   "title_sidebar": "Contents",
   "toc_cell": false,
   "toc_position": {},
   "toc_section_display": true,
   "toc_window_display": false
  }
 },
 "nbformat": 4,
 "nbformat_minor": 4
}
