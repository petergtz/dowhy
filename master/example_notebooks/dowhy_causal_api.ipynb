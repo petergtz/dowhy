{
 "cells": [
  {
   "cell_type": "markdown",
   "metadata": {},
   "source": [
    "# Demo for the DoWhy causal API\n",
    "We show a simple example of adding a causal extension to any dataframe. "
   ]
  },
  {
   "cell_type": "code",
   "execution_count": 1,
   "metadata": {
    "execution": {
     "iopub.execute_input": "2022-07-20T18:01:36.992340Z",
     "iopub.status.busy": "2022-07-20T18:01:36.991836Z",
     "iopub.status.idle": "2022-07-20T18:01:38.249141Z",
     "shell.execute_reply": "2022-07-20T18:01:38.247679Z"
    }
   },
   "outputs": [
    {
     "name": "stdout",
     "output_type": "stream",
     "text": [
      "keywords are unexpanded, not using\n"
     ]
    }
   ],
   "source": [
    "import dowhy.datasets\n",
    "import dowhy.api\n",
    "\n",
    "import numpy as np\n",
    "import pandas as pd\n",
    "\n",
    "from statsmodels.api import OLS"
   ]
  },
  {
   "cell_type": "code",
   "execution_count": 2,
   "metadata": {
    "execution": {
     "iopub.execute_input": "2022-07-20T18:01:38.253332Z",
     "iopub.status.busy": "2022-07-20T18:01:38.252800Z",
     "iopub.status.idle": "2022-07-20T18:01:38.304668Z",
     "shell.execute_reply": "2022-07-20T18:01:38.303864Z"
    }
   },
   "outputs": [
    {
     "data": {
      "text/html": [
       "<div>\n",
       "<style scoped>\n",
       "    .dataframe tbody tr th:only-of-type {\n",
       "        vertical-align: middle;\n",
       "    }\n",
       "\n",
       "    .dataframe tbody tr th {\n",
       "        vertical-align: top;\n",
       "    }\n",
       "\n",
       "    .dataframe thead th {\n",
       "        text-align: right;\n",
       "    }\n",
       "</style>\n",
       "<table border=\"1\" class=\"dataframe\">\n",
       "  <thead>\n",
       "    <tr style=\"text-align: right;\">\n",
       "      <th></th>\n",
       "      <th>W0</th>\n",
       "      <th>v0</th>\n",
       "      <th>y</th>\n",
       "    </tr>\n",
       "  </thead>\n",
       "  <tbody>\n",
       "    <tr>\n",
       "      <th>0</th>\n",
       "      <td>2.234403</td>\n",
       "      <td>True</td>\n",
       "      <td>8.280170</td>\n",
       "    </tr>\n",
       "    <tr>\n",
       "      <th>1</th>\n",
       "      <td>0.044477</td>\n",
       "      <td>True</td>\n",
       "      <td>5.258781</td>\n",
       "    </tr>\n",
       "    <tr>\n",
       "      <th>2</th>\n",
       "      <td>-0.747671</td>\n",
       "      <td>False</td>\n",
       "      <td>0.812865</td>\n",
       "    </tr>\n",
       "    <tr>\n",
       "      <th>3</th>\n",
       "      <td>1.371823</td>\n",
       "      <td>True</td>\n",
       "      <td>7.196454</td>\n",
       "    </tr>\n",
       "    <tr>\n",
       "      <th>4</th>\n",
       "      <td>1.098892</td>\n",
       "      <td>False</td>\n",
       "      <td>-1.650252</td>\n",
       "    </tr>\n",
       "    <tr>\n",
       "      <th>...</th>\n",
       "      <td>...</td>\n",
       "      <td>...</td>\n",
       "      <td>...</td>\n",
       "    </tr>\n",
       "    <tr>\n",
       "      <th>995</th>\n",
       "      <td>0.440217</td>\n",
       "      <td>True</td>\n",
       "      <td>4.662790</td>\n",
       "    </tr>\n",
       "    <tr>\n",
       "      <th>996</th>\n",
       "      <td>1.823214</td>\n",
       "      <td>True</td>\n",
       "      <td>6.285280</td>\n",
       "    </tr>\n",
       "    <tr>\n",
       "      <th>997</th>\n",
       "      <td>0.892812</td>\n",
       "      <td>True</td>\n",
       "      <td>5.304615</td>\n",
       "    </tr>\n",
       "    <tr>\n",
       "      <th>998</th>\n",
       "      <td>1.404442</td>\n",
       "      <td>False</td>\n",
       "      <td>2.402860</td>\n",
       "    </tr>\n",
       "    <tr>\n",
       "      <th>999</th>\n",
       "      <td>0.828299</td>\n",
       "      <td>True</td>\n",
       "      <td>6.944767</td>\n",
       "    </tr>\n",
       "  </tbody>\n",
       "</table>\n",
       "<p>1000 rows × 3 columns</p>\n",
       "</div>"
      ],
      "text/plain": [
       "           W0     v0         y\n",
       "0    2.234403   True  8.280170\n",
       "1    0.044477   True  5.258781\n",
       "2   -0.747671  False  0.812865\n",
       "3    1.371823   True  7.196454\n",
       "4    1.098892  False -1.650252\n",
       "..        ...    ...       ...\n",
       "995  0.440217   True  4.662790\n",
       "996  1.823214   True  6.285280\n",
       "997  0.892812   True  5.304615\n",
       "998  1.404442  False  2.402860\n",
       "999  0.828299   True  6.944767\n",
       "\n",
       "[1000 rows x 3 columns]"
      ]
     },
     "execution_count": 2,
     "metadata": {},
     "output_type": "execute_result"
    }
   ],
   "source": [
    "data = dowhy.datasets.linear_dataset(beta=5,\n",
    "        num_common_causes=1,\n",
    "        num_instruments = 0,\n",
    "        num_samples=1000,\n",
    "        treatment_is_binary=True)\n",
    "df = data['df']\n",
    "df['y'] = df['y'] + np.random.normal(size=len(df)) # Adding noise to data. Without noise, the variance in Y|X, Z is zero, and mcmc fails.\n",
    "#data['dot_graph'] = 'digraph { v ->y;X0-> v;X0-> y;}'\n",
    "\n",
    "treatment= data[\"treatment_name\"][0]\n",
    "outcome = data[\"outcome_name\"][0]\n",
    "common_cause = data[\"common_causes_names\"][0]\n",
    "df"
   ]
  },
  {
   "cell_type": "code",
   "execution_count": 3,
   "metadata": {
    "execution": {
     "iopub.execute_input": "2022-07-20T18:01:38.308558Z",
     "iopub.status.busy": "2022-07-20T18:01:38.307982Z",
     "iopub.status.idle": "2022-07-20T18:01:39.165642Z",
     "shell.execute_reply": "2022-07-20T18:01:39.165003Z"
    }
   },
   "outputs": [
    {
     "data": {
      "text/plain": [
       "<AxesSubplot:xlabel='v0'>"
      ]
     },
     "execution_count": 3,
     "metadata": {},
     "output_type": "execute_result"
    },
    {
     "data": {
      "image/png": "[encoded data removed]",
      "text/plain": [
       "<Figure size 432x288 with 1 Axes>"
      ]
     },
     "metadata": {
      "needs_background": "light"
     },
     "output_type": "display_data"
    }
   ],
   "source": [
    "# data['df'] is just a regular pandas.DataFrame\n",
    "df.causal.do(x=treatment,\n",
    "                     variable_types={treatment: 'b', outcome: 'c', common_cause: 'c'},\n",
    "                     outcome=outcome,\n",
    "                     common_causes=[common_cause],\n",
    "                     proceed_when_unidentifiable=True).groupby(treatment).mean().plot(y=outcome, kind='bar')"
   ]
  },
  {
   "cell_type": "code",
   "execution_count": 4,
   "metadata": {
    "execution": {
     "iopub.execute_input": "2022-07-20T18:01:39.169551Z",
     "iopub.status.busy": "2022-07-20T18:01:39.168921Z",
     "iopub.status.idle": "2022-07-20T18:01:39.268371Z",
     "shell.execute_reply": "2022-07-20T18:01:39.267768Z"
    }
   },
   "outputs": [
    {
     "data": {
      "text/plain": [
       "<AxesSubplot:xlabel='v0'>"
      ]
     },
     "execution_count": 4,
     "metadata": {},
     "output_type": "execute_result"
    },
    {
     "data": {
      "image/png": "[encoded data removed]",
      "text/plain": [
       "<Figure size 432x288 with 1 Axes>"
      ]
     },
     "metadata": {
      "needs_background": "light"
     },
     "output_type": "display_data"
    }
   ],
   "source": [
    "df.causal.do(x={treatment: 1}, \n",
    "              variable_types={treatment:'b', outcome: 'c', common_cause: 'c'}, \n",
    "              outcome=outcome,\n",
    "              method='weighting', \n",
    "              common_causes=[common_cause],\n",
    "              proceed_when_unidentifiable=True).groupby(treatment).mean().plot(y=outcome, kind='bar')"
   ]
  },
  {
   "cell_type": "code",
   "execution_count": 5,
   "metadata": {
    "execution": {
     "iopub.execute_input": "2022-07-20T18:01:39.271825Z",
     "iopub.status.busy": "2022-07-20T18:01:39.271336Z",
     "iopub.status.idle": "2022-07-20T18:01:39.304351Z",
     "shell.execute_reply": "2022-07-20T18:01:39.303700Z"
    }
   },
   "outputs": [],
   "source": [
    "cdf_1 = df.causal.do(x={treatment: 1}, \n",
    "              variable_types={treatment: 'b', outcome: 'c', common_cause: 'c'}, \n",
    "              outcome=outcome, \n",
    "              dot_graph=data['dot_graph'],\n",
    "              proceed_when_unidentifiable=True)\n",
    "\n",
    "cdf_0 = df.causal.do(x={treatment: 0}, \n",
    "              variable_types={treatment: 'b', outcome: 'c', common_cause: 'c'}, \n",
    "              outcome=outcome, \n",
    "              dot_graph=data['dot_graph'],\n",
    "              proceed_when_unidentifiable=True)\n"
   ]
  },
  {
   "cell_type": "code",
   "execution_count": 6,
   "metadata": {
    "execution": {
     "iopub.execute_input": "2022-07-20T18:01:39.307516Z",
     "iopub.status.busy": "2022-07-20T18:01:39.307120Z",
     "iopub.status.idle": "2022-07-20T18:01:39.318444Z",
     "shell.execute_reply": "2022-07-20T18:01:39.317766Z"
    },
    "scrolled": true
   },
   "outputs": [
    {
     "data": {
      "text/html": [
       "<div>\n",
       "<style scoped>\n",
       "    .dataframe tbody tr th:only-of-type {\n",
       "        vertical-align: middle;\n",
       "    }\n",
       "\n",
       "    .dataframe tbody tr th {\n",
       "        vertical-align: top;\n",
       "    }\n",
       "\n",
       "    .dataframe thead th {\n",
       "        text-align: right;\n",
       "    }\n",
       "</style>\n",
       "<table border=\"1\" class=\"dataframe\">\n",
       "  <thead>\n",
       "    <tr style=\"text-align: right;\">\n",
       "      <th></th>\n",
       "      <th>W0</th>\n",
       "      <th>v0</th>\n",
       "      <th>y</th>\n",
       "      <th>propensity_score</th>\n",
       "      <th>weight</th>\n",
       "    </tr>\n",
       "  </thead>\n",
       "  <tbody>\n",
       "    <tr>\n",
       "      <th>0</th>\n",
       "      <td>0.732135</td>\n",
       "      <td>False</td>\n",
       "      <td>2.218457</td>\n",
       "      <td>0.316933</td>\n",
       "      <td>3.155236</td>\n",
       "    </tr>\n",
       "    <tr>\n",
       "      <th>1</th>\n",
       "      <td>1.496649</td>\n",
       "      <td>False</td>\n",
       "      <td>2.283477</td>\n",
       "      <td>0.179581</td>\n",
       "      <td>5.568530</td>\n",
       "    </tr>\n",
       "    <tr>\n",
       "      <th>2</th>\n",
       "      <td>-0.281703</td>\n",
       "      <td>False</td>\n",
       "      <td>0.438987</td>\n",
       "      <td>0.556854</td>\n",
       "      <td>1.795802</td>\n",
       "    </tr>\n",
       "    <tr>\n",
       "      <th>3</th>\n",
       "      <td>0.697331</td>\n",
       "      <td>False</td>\n",
       "      <td>2.547611</td>\n",
       "      <td>0.324384</td>\n",
       "      <td>3.082767</td>\n",
       "    </tr>\n",
       "    <tr>\n",
       "      <th>4</th>\n",
       "      <td>0.035416</td>\n",
       "      <td>False</td>\n",
       "      <td>0.472348</td>\n",
       "      <td>0.479204</td>\n",
       "      <td>2.086792</td>\n",
       "    </tr>\n",
       "    <tr>\n",
       "      <th>...</th>\n",
       "      <td>...</td>\n",
       "      <td>...</td>\n",
       "      <td>...</td>\n",
       "      <td>...</td>\n",
       "      <td>...</td>\n",
       "    </tr>\n",
       "    <tr>\n",
       "      <th>995</th>\n",
       "      <td>0.701647</td>\n",
       "      <td>False</td>\n",
       "      <td>1.131739</td>\n",
       "      <td>0.323455</td>\n",
       "      <td>3.091621</td>\n",
       "    </tr>\n",
       "    <tr>\n",
       "      <th>996</th>\n",
       "      <td>0.384661</td>\n",
       "      <td>False</td>\n",
       "      <td>-1.221794</td>\n",
       "      <td>0.394978</td>\n",
       "      <td>2.531788</td>\n",
       "    </tr>\n",
       "    <tr>\n",
       "      <th>997</th>\n",
       "      <td>0.415265</td>\n",
       "      <td>False</td>\n",
       "      <td>-0.606517</td>\n",
       "      <td>0.387814</td>\n",
       "      <td>2.578555</td>\n",
       "    </tr>\n",
       "    <tr>\n",
       "      <th>998</th>\n",
       "      <td>1.496649</td>\n",
       "      <td>False</td>\n",
       "      <td>2.283477</td>\n",
       "      <td>0.179581</td>\n",
       "      <td>5.568530</td>\n",
       "    </tr>\n",
       "    <tr>\n",
       "      <th>999</th>\n",
       "      <td>1.007224</td>\n",
       "      <td>False</td>\n",
       "      <td>0.553130</td>\n",
       "      <td>0.261491</td>\n",
       "      <td>3.824216</td>\n",
       "    </tr>\n",
       "  </tbody>\n",
       "</table>\n",
       "<p>1000 rows × 5 columns</p>\n",
       "</div>"
      ],
      "text/plain": [
       "           W0     v0         y  propensity_score    weight\n",
       "0    0.732135  False  2.218457          0.316933  3.155236\n",
       "1    1.496649  False  2.283477          0.179581  5.568530\n",
       "2   -0.281703  False  0.438987          0.556854  1.795802\n",
       "3    0.697331  False  2.547611          0.324384  3.082767\n",
       "4    0.035416  False  0.472348          0.479204  2.086792\n",
       "..        ...    ...       ...               ...       ...\n",
       "995  0.701647  False  1.131739          0.323455  3.091621\n",
       "996  0.384661  False -1.221794          0.394978  2.531788\n",
       "997  0.415265  False -0.606517          0.387814  2.578555\n",
       "998  1.496649  False  2.283477          0.179581  5.568530\n",
       "999  1.007224  False  0.553130          0.261491  3.824216\n",
       "\n",
       "[1000 rows x 5 columns]"
      ]
     },
     "execution_count": 6,
     "metadata": {},
     "output_type": "execute_result"
    }
   ],
   "source": [
    "cdf_0"
   ]
  },
  {
   "cell_type": "code",
   "execution_count": 7,
   "metadata": {
    "execution": {
     "iopub.execute_input": "2022-07-20T18:01:39.321479Z",
     "iopub.status.busy": "2022-07-20T18:01:39.321042Z",
     "iopub.status.idle": "2022-07-20T18:01:39.331722Z",
     "shell.execute_reply": "2022-07-20T18:01:39.331008Z"
    }
   },
   "outputs": [
    {
     "data": {
      "text/html": [
       "<div>\n",
       "<style scoped>\n",
       "    .dataframe tbody tr th:only-of-type {\n",
       "        vertical-align: middle;\n",
       "    }\n",
       "\n",
       "    .dataframe tbody tr th {\n",
       "        vertical-align: top;\n",
       "    }\n",
       "\n",
       "    .dataframe thead th {\n",
       "        text-align: right;\n",
       "    }\n",
       "</style>\n",
       "<table border=\"1\" class=\"dataframe\">\n",
       "  <thead>\n",
       "    <tr style=\"text-align: right;\">\n",
       "      <th></th>\n",
       "      <th>W0</th>\n",
       "      <th>v0</th>\n",
       "      <th>y</th>\n",
       "      <th>propensity_score</th>\n",
       "      <th>weight</th>\n",
       "    </tr>\n",
       "  </thead>\n",
       "  <tbody>\n",
       "    <tr>\n",
       "      <th>0</th>\n",
       "      <td>-0.064851</td>\n",
       "      <td>True</td>\n",
       "      <td>4.472908</td>\n",
       "      <td>0.496174</td>\n",
       "      <td>2.015420</td>\n",
       "    </tr>\n",
       "    <tr>\n",
       "      <th>1</th>\n",
       "      <td>1.431383</td>\n",
       "      <td>True</td>\n",
       "      <td>5.339728</td>\n",
       "      <td>0.810775</td>\n",
       "      <td>1.233388</td>\n",
       "    </tr>\n",
       "    <tr>\n",
       "      <th>2</th>\n",
       "      <td>-0.273112</td>\n",
       "      <td>True</td>\n",
       "      <td>5.193136</td>\n",
       "      <td>0.445230</td>\n",
       "      <td>2.246029</td>\n",
       "    </tr>\n",
       "    <tr>\n",
       "      <th>3</th>\n",
       "      <td>1.667211</td>\n",
       "      <td>True</td>\n",
       "      <td>6.461664</td>\n",
       "      <td>0.843803</td>\n",
       "      <td>1.185110</td>\n",
       "    </tr>\n",
       "    <tr>\n",
       "      <th>4</th>\n",
       "      <td>1.220988</td>\n",
       "      <td>True</td>\n",
       "      <td>4.873686</td>\n",
       "      <td>0.777005</td>\n",
       "      <td>1.286993</td>\n",
       "    </tr>\n",
       "    <tr>\n",
       "      <th>...</th>\n",
       "      <td>...</td>\n",
       "      <td>...</td>\n",
       "      <td>...</td>\n",
       "      <td>...</td>\n",
       "      <td>...</td>\n",
       "    </tr>\n",
       "    <tr>\n",
       "      <th>995</th>\n",
       "      <td>2.004996</td>\n",
       "      <td>True</td>\n",
       "      <td>6.696283</td>\n",
       "      <td>0.882751</td>\n",
       "      <td>1.132822</td>\n",
       "    </tr>\n",
       "    <tr>\n",
       "      <th>996</th>\n",
       "      <td>0.874846</td>\n",
       "      <td>True</td>\n",
       "      <td>5.908978</td>\n",
       "      <td>0.712620</td>\n",
       "      <td>1.403272</td>\n",
       "    </tr>\n",
       "    <tr>\n",
       "      <th>997</th>\n",
       "      <td>0.147848</td>\n",
       "      <td>True</td>\n",
       "      <td>5.895636</td>\n",
       "      <td>0.548279</td>\n",
       "      <td>1.823890</td>\n",
       "    </tr>\n",
       "    <tr>\n",
       "      <th>998</th>\n",
       "      <td>-0.054557</td>\n",
       "      <td>True</td>\n",
       "      <td>5.599074</td>\n",
       "      <td>0.498703</td>\n",
       "      <td>2.005200</td>\n",
       "    </tr>\n",
       "    <tr>\n",
       "      <th>999</th>\n",
       "      <td>-0.093630</td>\n",
       "      <td>True</td>\n",
       "      <td>4.510861</td>\n",
       "      <td>0.489106</td>\n",
       "      <td>2.044547</td>\n",
       "    </tr>\n",
       "  </tbody>\n",
       "</table>\n",
       "<p>1000 rows × 5 columns</p>\n",
       "</div>"
      ],
      "text/plain": [
       "           W0    v0         y  propensity_score    weight\n",
       "0   -0.064851  True  4.472908          0.496174  2.015420\n",
       "1    1.431383  True  5.339728          0.810775  1.233388\n",
       "2   -0.273112  True  5.193136          0.445230  2.246029\n",
       "3    1.667211  True  6.461664          0.843803  1.185110\n",
       "4    1.220988  True  4.873686          0.777005  1.286993\n",
       "..        ...   ...       ...               ...       ...\n",
       "995  2.004996  True  6.696283          0.882751  1.132822\n",
       "996  0.874846  True  5.908978          0.712620  1.403272\n",
       "997  0.147848  True  5.895636          0.548279  1.823890\n",
       "998 -0.054557  True  5.599074          0.498703  2.005200\n",
       "999 -0.093630  True  4.510861          0.489106  2.044547\n",
       "\n",
       "[1000 rows x 5 columns]"
      ]
     },
     "execution_count": 7,
     "metadata": {},
     "output_type": "execute_result"
    }
   ],
   "source": [
    "cdf_1"
   ]
  },
  {
   "cell_type": "markdown",
   "metadata": {},
   "source": [
    "## Comparing the estimate to Linear Regression\n",
    "First, estimating the effect using the causal data frame, and the 95% confidence interval."
   ]
  },
  {
   "cell_type": "code",
   "execution_count": 8,
   "metadata": {
    "execution": {
     "iopub.execute_input": "2022-07-20T18:01:39.335198Z",
     "iopub.status.busy": "2022-07-20T18:01:39.334538Z",
     "iopub.status.idle": "2022-07-20T18:01:39.443938Z",
     "shell.execute_reply": "2022-07-20T18:01:39.442994Z"
    }
   },
   "outputs": [
    {
     "data": {
      "image/png": "[encoded data removed]",
      "text/latex": [
       "$\\displaystyle 4.95268323695134$"
      ],
      "text/plain": [
       "4.952683236951338"
      ]
     },
     "execution_count": 8,
     "metadata": {},
     "output_type": "execute_result"
    }
   ],
   "source": [
    "(cdf_1['y'] - cdf_0['y']).mean()"
   ]
  },
  {
   "cell_type": "code",
   "execution_count": 9,
   "metadata": {
    "execution": {
     "iopub.execute_input": "2022-07-20T18:01:39.447880Z",
     "iopub.status.busy": "2022-07-20T18:01:39.447601Z",
     "iopub.status.idle": "2022-07-20T18:01:39.474572Z",
     "shell.execute_reply": "2022-07-20T18:01:39.473798Z"
    }
   },
   "outputs": [
    {
     "data": {
      "image/png": "[encoded data removed]",
      "text/latex": [
       "$\\displaystyle 0.114660724511917$"
      ],
      "text/plain": [
       "0.11466072451191733"
      ]
     },
     "execution_count": 9,
     "metadata": {},
     "output_type": "execute_result"
    }
   ],
   "source": [
    "1.96*(cdf_1['y'] - cdf_0['y']).std() / np.sqrt(len(df))"
   ]
  },
  {
   "cell_type": "markdown",
   "metadata": {},
   "source": [
    "Comparing to the estimate from OLS."
   ]
  },
  {
   "cell_type": "code",
   "execution_count": 10,
   "metadata": {
    "execution": {
     "iopub.execute_input": "2022-07-20T18:01:39.478122Z",
     "iopub.status.busy": "2022-07-20T18:01:39.477767Z",
     "iopub.status.idle": "2022-07-20T18:01:39.495809Z",
     "shell.execute_reply": "2022-07-20T18:01:39.495077Z"
    }
   },
   "outputs": [
    {
     "data": {
      "text/html": [
       "<table class=\"simpletable\">\n",
       "<caption>OLS Regression Results</caption>\n",
       "<tr>\n",
       "  <th>Dep. Variable:</th>            <td>y</td>        <th>  R-squared (uncentered):</th>      <td>   0.959</td> \n",
       "</tr>\n",
       "<tr>\n",
       "  <th>Model:</th>                   <td>OLS</td>       <th>  Adj. R-squared (uncentered):</th> <td>   0.959</td> \n",
       "</tr>\n",
       "<tr>\n",
       "  <th>Method:</th>             <td>Least Squares</td>  <th>  F-statistic:       </th>          <td>1.182e+04</td>\n",
       "</tr>\n",
       "<tr>\n",
       "  <th>Date:</th>             <td>Wed, 20 Jul 2022</td> <th>  Prob (F-statistic):</th>           <td>  0.00</td>  \n",
       "</tr>\n",
       "<tr>\n",
       "  <th>Time:</th>                 <td>18:01:39</td>     <th>  Log-Likelihood:    </th>          <td> -1443.9</td> \n",
       "</tr>\n",
       "<tr>\n",
       "  <th>No. Observations:</th>      <td>  1000</td>      <th>  AIC:               </th>          <td>   2892.</td> \n",
       "</tr>\n",
       "<tr>\n",
       "  <th>Df Residuals:</th>          <td>   998</td>      <th>  BIC:               </th>          <td>   2902.</td> \n",
       "</tr>\n",
       "<tr>\n",
       "  <th>Df Model:</th>              <td>     2</td>      <th>                     </th>              <td> </td>    \n",
       "</tr>\n",
       "<tr>\n",
       "  <th>Covariance Type:</th>      <td>nonrobust</td>    <th>                     </th>              <td> </td>    \n",
       "</tr>\n",
       "</table>\n",
       "<table class=\"simpletable\">\n",
       "<tr>\n",
       "   <td></td>     <th>coef</th>     <th>std err</th>      <th>t</th>      <th>P>|t|</th>  <th>[0.025</th>    <th>0.975]</th>  \n",
       "</tr>\n",
       "<tr>\n",
       "  <th>x1</th> <td>    0.8190</td> <td>    0.034</td> <td>   23.884</td> <td> 0.000</td> <td>    0.752</td> <td>    0.886</td>\n",
       "</tr>\n",
       "<tr>\n",
       "  <th>x2</th> <td>    5.0003</td> <td>    0.056</td> <td>   89.008</td> <td> 0.000</td> <td>    4.890</td> <td>    5.110</td>\n",
       "</tr>\n",
       "</table>\n",
       "<table class=\"simpletable\">\n",
       "<tr>\n",
       "  <th>Omnibus:</th>       <td> 2.248</td> <th>  Durbin-Watson:     </th> <td>   2.022</td>\n",
       "</tr>\n",
       "<tr>\n",
       "  <th>Prob(Omnibus):</th> <td> 0.325</td> <th>  Jarque-Bera (JB):  </th> <td>   2.226</td>\n",
       "</tr>\n",
       "<tr>\n",
       "  <th>Skew:</th>          <td>-0.116</td> <th>  Prob(JB):          </th> <td>   0.329</td>\n",
       "</tr>\n",
       "<tr>\n",
       "  <th>Kurtosis:</th>      <td> 2.994</td> <th>  Cond. No.          </th> <td>    2.87</td>\n",
       "</tr>\n",
       "</table><br/><br/>Notes:<br/>[1] R² is computed without centering (uncentered) since the model does not contain a constant.<br/>[2] Standard Errors assume that the covariance matrix of the errors is correctly specified."
      ],
      "text/plain": [
       "<class 'statsmodels.iolib.summary.Summary'>\n",
       "\"\"\"\n",
       "                                 OLS Regression Results                                \n",
       "=======================================================================================\n",
       "Dep. Variable:                      y   R-squared (uncentered):                   0.959\n",
       "Model:                            OLS   Adj. R-squared (uncentered):              0.959\n",
       "Method:                 Least Squares   F-statistic:                          1.182e+04\n",
       "Date:                Wed, 20 Jul 2022   Prob (F-statistic):                        0.00\n",
       "Time:                        18:01:39   Log-Likelihood:                         -1443.9\n",
       "No. Observations:                1000   AIC:                                      2892.\n",
       "Df Residuals:                     998   BIC:                                      2902.\n",
       "Df Model:                           2                                                  \n",
       "Covariance Type:            nonrobust                                                  \n",
       "==============================================================================\n",
       "                 coef    std err          t      P>|t|      [0.025      0.975]\n",
       "------------------------------------------------------------------------------\n",
       "x1             0.8190      0.034     23.884      0.000       0.752       0.886\n",
       "x2             5.0003      0.056     89.008      0.000       4.890       5.110\n",
       "==============================================================================\n",
       "Omnibus:                        2.248   Durbin-Watson:                   2.022\n",
       "Prob(Omnibus):                  0.325   Jarque-Bera (JB):                2.226\n",
       "Skew:                          -0.116   Prob(JB):                        0.329\n",
       "Kurtosis:                       2.994   Cond. No.                         2.87\n",
       "==============================================================================\n",
       "\n",
       "Notes:\n",
       "[1] R² is computed without centering (uncentered) since the model does not contain a constant.\n",
       "[2] Standard Errors assume that the covariance matrix of the errors is correctly specified.\n",
       "\"\"\""
      ]
     },
     "execution_count": 10,
     "metadata": {},
     "output_type": "execute_result"
    }
   ],
   "source": [
    "model = OLS(np.asarray(df[outcome]), np.asarray(df[[common_cause, treatment]], dtype=np.float64))\n",
    "result = model.fit()\n",
    "result.summary()"
   ]
  }
 ],
 "metadata": {
  "kernelspec": {
   "display_name": "Python 3",
   "language": "python",
   "name": "python3"
  },
  "language_info": {
   "codemirror_mode": {
    "name": "ipython",
    "version": 3
   },
   "file_extension": ".py",
   "mimetype": "text/x-python",
   "name": "python",
   "nbconvert_exporter": "python",
   "pygments_lexer": "ipython3",
   "version": "3.8.10"
  },
  "toc": {
   "base_numbering": 1,
   "nav_menu": {},
   "number_sections": false,
   "sideBar": true,
   "skip_h1_title": true,
   "title_cell": "Table of Contents",
   "title_sidebar": "Contents",
   "toc_cell": false,
   "toc_position": {},
   "toc_section_display": true,
   "toc_window_display": false
  }
 },
 "nbformat": 4,
 "nbformat_minor": 4
}
