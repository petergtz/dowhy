{
 "cells": [
  {
   "cell_type": "markdown",
   "metadata": {},
   "source": [
    "# Demo for the DoWhy causal API\n",
    "We show a simple example of adding a causal extension to any dataframe. "
   ]
  },
  {
   "cell_type": "code",
   "execution_count": 1,
   "metadata": {
    "execution": {
     "iopub.execute_input": "2022-07-28T10:36:47.410979Z",
     "iopub.status.busy": "2022-07-28T10:36:47.410739Z",
     "iopub.status.idle": "2022-07-28T10:36:48.493618Z",
     "shell.execute_reply": "2022-07-28T10:36:48.492607Z"
    }
   },
   "outputs": [
    {
     "name": "stdout",
     "output_type": "stream",
     "text": [
      "keywords are unexpanded, not using\n"
     ]
    }
   ],
   "source": [
    "import dowhy.datasets\n",
    "import dowhy.api\n",
    "\n",
    "import numpy as np\n",
    "import pandas as pd\n",
    "\n",
    "from statsmodels.api import OLS"
   ]
  },
  {
   "cell_type": "code",
   "execution_count": 2,
   "metadata": {
    "execution": {
     "iopub.execute_input": "2022-07-28T10:36:48.497014Z",
     "iopub.status.busy": "2022-07-28T10:36:48.496344Z",
     "iopub.status.idle": "2022-07-28T10:36:48.545104Z",
     "shell.execute_reply": "2022-07-28T10:36:48.544543Z"
    }
   },
   "outputs": [
    {
     "data": {
      "text/html": [
       "<div>\n",
       "<style scoped>\n",
       "    .dataframe tbody tr th:only-of-type {\n",
       "        vertical-align: middle;\n",
       "    }\n",
       "\n",
       "    .dataframe tbody tr th {\n",
       "        vertical-align: top;\n",
       "    }\n",
       "\n",
       "    .dataframe thead th {\n",
       "        text-align: right;\n",
       "    }\n",
       "</style>\n",
       "<table border=\"1\" class=\"dataframe\">\n",
       "  <thead>\n",
       "    <tr style=\"text-align: right;\">\n",
       "      <th></th>\n",
       "      <th>W0</th>\n",
       "      <th>v0</th>\n",
       "      <th>y</th>\n",
       "    </tr>\n",
       "  </thead>\n",
       "  <tbody>\n",
       "    <tr>\n",
       "      <th>0</th>\n",
       "      <td>-0.114848</td>\n",
       "      <td>False</td>\n",
       "      <td>1.098307</td>\n",
       "    </tr>\n",
       "    <tr>\n",
       "      <th>1</th>\n",
       "      <td>-1.465593</td>\n",
       "      <td>True</td>\n",
       "      <td>2.574139</td>\n",
       "    </tr>\n",
       "    <tr>\n",
       "      <th>2</th>\n",
       "      <td>1.601921</td>\n",
       "      <td>False</td>\n",
       "      <td>3.339785</td>\n",
       "    </tr>\n",
       "    <tr>\n",
       "      <th>3</th>\n",
       "      <td>-1.942415</td>\n",
       "      <td>True</td>\n",
       "      <td>1.679678</td>\n",
       "    </tr>\n",
       "    <tr>\n",
       "      <th>4</th>\n",
       "      <td>-2.175915</td>\n",
       "      <td>True</td>\n",
       "      <td>1.988145</td>\n",
       "    </tr>\n",
       "    <tr>\n",
       "      <th>...</th>\n",
       "      <td>...</td>\n",
       "      <td>...</td>\n",
       "      <td>...</td>\n",
       "    </tr>\n",
       "    <tr>\n",
       "      <th>995</th>\n",
       "      <td>-1.380999</td>\n",
       "      <td>False</td>\n",
       "      <td>-3.378650</td>\n",
       "    </tr>\n",
       "    <tr>\n",
       "      <th>996</th>\n",
       "      <td>1.397422</td>\n",
       "      <td>False</td>\n",
       "      <td>3.309344</td>\n",
       "    </tr>\n",
       "    <tr>\n",
       "      <th>997</th>\n",
       "      <td>-1.662942</td>\n",
       "      <td>True</td>\n",
       "      <td>1.093377</td>\n",
       "    </tr>\n",
       "    <tr>\n",
       "      <th>998</th>\n",
       "      <td>-0.791503</td>\n",
       "      <td>False</td>\n",
       "      <td>-0.716235</td>\n",
       "    </tr>\n",
       "    <tr>\n",
       "      <th>999</th>\n",
       "      <td>-1.118329</td>\n",
       "      <td>False</td>\n",
       "      <td>-1.548302</td>\n",
       "    </tr>\n",
       "  </tbody>\n",
       "</table>\n",
       "<p>1000 rows × 3 columns</p>\n",
       "</div>"
      ],
      "text/plain": [
       "           W0     v0         y\n",
       "0   -0.114848  False  1.098307\n",
       "1   -1.465593   True  2.574139\n",
       "2    1.601921  False  3.339785\n",
       "3   -1.942415   True  1.679678\n",
       "4   -2.175915   True  1.988145\n",
       "..        ...    ...       ...\n",
       "995 -1.380999  False -3.378650\n",
       "996  1.397422  False  3.309344\n",
       "997 -1.662942   True  1.093377\n",
       "998 -0.791503  False -0.716235\n",
       "999 -1.118329  False -1.548302\n",
       "\n",
       "[1000 rows x 3 columns]"
      ]
     },
     "execution_count": 2,
     "metadata": {},
     "output_type": "execute_result"
    }
   ],
   "source": [
    "data = dowhy.datasets.linear_dataset(beta=5,\n",
    "        num_common_causes=1,\n",
    "        num_instruments = 0,\n",
    "        num_samples=1000,\n",
    "        treatment_is_binary=True)\n",
    "df = data['df']\n",
    "df['y'] = df['y'] + np.random.normal(size=len(df)) # Adding noise to data. Without noise, the variance in Y|X, Z is zero, and mcmc fails.\n",
    "#data['dot_graph'] = 'digraph { v ->y;X0-> v;X0-> y;}'\n",
    "\n",
    "treatment= data[\"treatment_name\"][0]\n",
    "outcome = data[\"outcome_name\"][0]\n",
    "common_cause = data[\"common_causes_names\"][0]\n",
    "df"
   ]
  },
  {
   "cell_type": "code",
   "execution_count": 3,
   "metadata": {
    "execution": {
     "iopub.execute_input": "2022-07-28T10:36:48.548819Z",
     "iopub.status.busy": "2022-07-28T10:36:48.547708Z",
     "iopub.status.idle": "2022-07-28T10:36:49.289600Z",
     "shell.execute_reply": "2022-07-28T10:36:49.289062Z"
    }
   },
   "outputs": [
    {
     "data": {
      "text/plain": [
       "<AxesSubplot:xlabel='v0'>"
      ]
     },
     "execution_count": 3,
     "metadata": {},
     "output_type": "execute_result"
    },
    {
     "data": {
      "image/png": "[encoded data removed]",
      "text/plain": [
       "<Figure size 432x288 with 1 Axes>"
      ]
     },
     "metadata": {
      "needs_background": "light"
     },
     "output_type": "display_data"
    }
   ],
   "source": [
    "# data['df'] is just a regular pandas.DataFrame\n",
    "df.causal.do(x=treatment,\n",
    "                     variable_types={treatment: 'b', outcome: 'c', common_cause: 'c'},\n",
    "                     outcome=outcome,\n",
    "                     common_causes=[common_cause],\n",
    "                     proceed_when_unidentifiable=True).groupby(treatment).mean().plot(y=outcome, kind='bar')"
   ]
  },
  {
   "cell_type": "code",
   "execution_count": 4,
   "metadata": {
    "execution": {
     "iopub.execute_input": "2022-07-28T10:36:49.293045Z",
     "iopub.status.busy": "2022-07-28T10:36:49.292554Z",
     "iopub.status.idle": "2022-07-28T10:36:49.386382Z",
     "shell.execute_reply": "2022-07-28T10:36:49.385874Z"
    }
   },
   "outputs": [
    {
     "data": {
      "text/plain": [
       "<AxesSubplot:xlabel='v0'>"
      ]
     },
     "execution_count": 4,
     "metadata": {},
     "output_type": "execute_result"
    },
    {
     "data": {
      "image/png": "[encoded data removed]",
      "text/plain": [
       "<Figure size 432x288 with 1 Axes>"
      ]
     },
     "metadata": {
      "needs_background": "light"
     },
     "output_type": "display_data"
    }
   ],
   "source": [
    "df.causal.do(x={treatment: 1}, \n",
    "              variable_types={treatment:'b', outcome: 'c', common_cause: 'c'}, \n",
    "              outcome=outcome,\n",
    "              method='weighting', \n",
    "              common_causes=[common_cause],\n",
    "              proceed_when_unidentifiable=True).groupby(treatment).mean().plot(y=outcome, kind='bar')"
   ]
  },
  {
   "cell_type": "code",
   "execution_count": 5,
   "metadata": {
    "execution": {
     "iopub.execute_input": "2022-07-28T10:36:49.390448Z",
     "iopub.status.busy": "2022-07-28T10:36:49.389458Z",
     "iopub.status.idle": "2022-07-28T10:36:49.420469Z",
     "shell.execute_reply": "2022-07-28T10:36:49.419907Z"
    }
   },
   "outputs": [],
   "source": [
    "cdf_1 = df.causal.do(x={treatment: 1}, \n",
    "              variable_types={treatment: 'b', outcome: 'c', common_cause: 'c'}, \n",
    "              outcome=outcome, \n",
    "              dot_graph=data['dot_graph'],\n",
    "              proceed_when_unidentifiable=True)\n",
    "\n",
    "cdf_0 = df.causal.do(x={treatment: 0}, \n",
    "              variable_types={treatment: 'b', outcome: 'c', common_cause: 'c'}, \n",
    "              outcome=outcome, \n",
    "              dot_graph=data['dot_graph'],\n",
    "              proceed_when_unidentifiable=True)\n"
   ]
  },
  {
   "cell_type": "code",
   "execution_count": 6,
   "metadata": {
    "execution": {
     "iopub.execute_input": "2022-07-28T10:36:49.424490Z",
     "iopub.status.busy": "2022-07-28T10:36:49.423288Z",
     "iopub.status.idle": "2022-07-28T10:36:49.435724Z",
     "shell.execute_reply": "2022-07-28T10:36:49.435169Z"
    },
    "scrolled": true
   },
   "outputs": [
    {
     "data": {
      "text/html": [
       "<div>\n",
       "<style scoped>\n",
       "    .dataframe tbody tr th:only-of-type {\n",
       "        vertical-align: middle;\n",
       "    }\n",
       "\n",
       "    .dataframe tbody tr th {\n",
       "        vertical-align: top;\n",
       "    }\n",
       "\n",
       "    .dataframe thead th {\n",
       "        text-align: right;\n",
       "    }\n",
       "</style>\n",
       "<table border=\"1\" class=\"dataframe\">\n",
       "  <thead>\n",
       "    <tr style=\"text-align: right;\">\n",
       "      <th></th>\n",
       "      <th>W0</th>\n",
       "      <th>v0</th>\n",
       "      <th>y</th>\n",
       "      <th>propensity_score</th>\n",
       "      <th>weight</th>\n",
       "    </tr>\n",
       "  </thead>\n",
       "  <tbody>\n",
       "    <tr>\n",
       "      <th>0</th>\n",
       "      <td>-0.572402</td>\n",
       "      <td>False</td>\n",
       "      <td>0.159776</td>\n",
       "      <td>0.579420</td>\n",
       "      <td>1.725864</td>\n",
       "    </tr>\n",
       "    <tr>\n",
       "      <th>1</th>\n",
       "      <td>-0.731808</td>\n",
       "      <td>False</td>\n",
       "      <td>-0.520489</td>\n",
       "      <td>0.601547</td>\n",
       "      <td>1.662380</td>\n",
       "    </tr>\n",
       "    <tr>\n",
       "      <th>2</th>\n",
       "      <td>-0.569560</td>\n",
       "      <td>False</td>\n",
       "      <td>0.446424</td>\n",
       "      <td>0.579022</td>\n",
       "      <td>1.727050</td>\n",
       "    </tr>\n",
       "    <tr>\n",
       "      <th>3</th>\n",
       "      <td>-2.087775</td>\n",
       "      <td>False</td>\n",
       "      <td>-3.174004</td>\n",
       "      <td>0.766822</td>\n",
       "      <td>1.304084</td>\n",
       "    </tr>\n",
       "    <tr>\n",
       "      <th>4</th>\n",
       "      <td>0.530029</td>\n",
       "      <td>False</td>\n",
       "      <td>0.647976</td>\n",
       "      <td>0.422486</td>\n",
       "      <td>2.366940</td>\n",
       "    </tr>\n",
       "    <tr>\n",
       "      <th>...</th>\n",
       "      <td>...</td>\n",
       "      <td>...</td>\n",
       "      <td>...</td>\n",
       "      <td>...</td>\n",
       "      <td>...</td>\n",
       "    </tr>\n",
       "    <tr>\n",
       "      <th>995</th>\n",
       "      <td>1.108238</td>\n",
       "      <td>False</td>\n",
       "      <td>2.491340</td>\n",
       "      <td>0.344217</td>\n",
       "      <td>2.905142</td>\n",
       "    </tr>\n",
       "    <tr>\n",
       "      <th>996</th>\n",
       "      <td>-1.266161</td>\n",
       "      <td>False</td>\n",
       "      <td>-3.070048</td>\n",
       "      <td>0.672325</td>\n",
       "      <td>1.487377</td>\n",
       "    </tr>\n",
       "    <tr>\n",
       "      <th>997</th>\n",
       "      <td>-1.332551</td>\n",
       "      <td>False</td>\n",
       "      <td>-0.660859</td>\n",
       "      <td>0.680666</td>\n",
       "      <td>1.469148</td>\n",
       "    </tr>\n",
       "    <tr>\n",
       "      <th>998</th>\n",
       "      <td>-2.927385</td>\n",
       "      <td>False</td>\n",
       "      <td>-3.481850</td>\n",
       "      <td>0.841911</td>\n",
       "      <td>1.187773</td>\n",
       "    </tr>\n",
       "    <tr>\n",
       "      <th>999</th>\n",
       "      <td>-0.873604</td>\n",
       "      <td>False</td>\n",
       "      <td>1.229724</td>\n",
       "      <td>0.620890</td>\n",
       "      <td>1.610590</td>\n",
       "    </tr>\n",
       "  </tbody>\n",
       "</table>\n",
       "<p>1000 rows × 5 columns</p>\n",
       "</div>"
      ],
      "text/plain": [
       "           W0     v0         y  propensity_score    weight\n",
       "0   -0.572402  False  0.159776          0.579420  1.725864\n",
       "1   -0.731808  False -0.520489          0.601547  1.662380\n",
       "2   -0.569560  False  0.446424          0.579022  1.727050\n",
       "3   -2.087775  False -3.174004          0.766822  1.304084\n",
       "4    0.530029  False  0.647976          0.422486  2.366940\n",
       "..        ...    ...       ...               ...       ...\n",
       "995  1.108238  False  2.491340          0.344217  2.905142\n",
       "996 -1.266161  False -3.070048          0.672325  1.487377\n",
       "997 -1.332551  False -0.660859          0.680666  1.469148\n",
       "998 -2.927385  False -3.481850          0.841911  1.187773\n",
       "999 -0.873604  False  1.229724          0.620890  1.610590\n",
       "\n",
       "[1000 rows x 5 columns]"
      ]
     },
     "execution_count": 6,
     "metadata": {},
     "output_type": "execute_result"
    }
   ],
   "source": [
    "cdf_0"
   ]
  },
  {
   "cell_type": "code",
   "execution_count": 7,
   "metadata": {
    "execution": {
     "iopub.execute_input": "2022-07-28T10:36:49.438864Z",
     "iopub.status.busy": "2022-07-28T10:36:49.438552Z",
     "iopub.status.idle": "2022-07-28T10:36:49.449959Z",
     "shell.execute_reply": "2022-07-28T10:36:49.449414Z"
    }
   },
   "outputs": [
    {
     "data": {
      "text/html": [
       "<div>\n",
       "<style scoped>\n",
       "    .dataframe tbody tr th:only-of-type {\n",
       "        vertical-align: middle;\n",
       "    }\n",
       "\n",
       "    .dataframe tbody tr th {\n",
       "        vertical-align: top;\n",
       "    }\n",
       "\n",
       "    .dataframe thead th {\n",
       "        text-align: right;\n",
       "    }\n",
       "</style>\n",
       "<table border=\"1\" class=\"dataframe\">\n",
       "  <thead>\n",
       "    <tr style=\"text-align: right;\">\n",
       "      <th></th>\n",
       "      <th>W0</th>\n",
       "      <th>v0</th>\n",
       "      <th>y</th>\n",
       "      <th>propensity_score</th>\n",
       "      <th>weight</th>\n",
       "    </tr>\n",
       "  </thead>\n",
       "  <tbody>\n",
       "    <tr>\n",
       "      <th>0</th>\n",
       "      <td>-0.737451</td>\n",
       "      <td>True</td>\n",
       "      <td>4.110883</td>\n",
       "      <td>0.397676</td>\n",
       "      <td>2.514607</td>\n",
       "    </tr>\n",
       "    <tr>\n",
       "      <th>1</th>\n",
       "      <td>-0.656442</td>\n",
       "      <td>True</td>\n",
       "      <td>1.697156</td>\n",
       "      <td>0.408869</td>\n",
       "      <td>2.445773</td>\n",
       "    </tr>\n",
       "    <tr>\n",
       "      <th>2</th>\n",
       "      <td>-0.063303</td>\n",
       "      <td>True</td>\n",
       "      <td>5.723438</td>\n",
       "      <td>0.492978</td>\n",
       "      <td>2.028488</td>\n",
       "    </tr>\n",
       "    <tr>\n",
       "      <th>3</th>\n",
       "      <td>-0.274949</td>\n",
       "      <td>True</td>\n",
       "      <td>4.683323</td>\n",
       "      <td>0.462668</td>\n",
       "      <td>2.161379</td>\n",
       "    </tr>\n",
       "    <tr>\n",
       "      <th>4</th>\n",
       "      <td>-1.554016</td>\n",
       "      <td>True</td>\n",
       "      <td>2.788685</td>\n",
       "      <td>0.292351</td>\n",
       "      <td>3.420543</td>\n",
       "    </tr>\n",
       "    <tr>\n",
       "      <th>...</th>\n",
       "      <td>...</td>\n",
       "      <td>...</td>\n",
       "      <td>...</td>\n",
       "      <td>...</td>\n",
       "      <td>...</td>\n",
       "    </tr>\n",
       "    <tr>\n",
       "      <th>995</th>\n",
       "      <td>-0.480167</td>\n",
       "      <td>True</td>\n",
       "      <td>3.484657</td>\n",
       "      <td>0.433537</td>\n",
       "      <td>2.306609</td>\n",
       "    </tr>\n",
       "    <tr>\n",
       "      <th>996</th>\n",
       "      <td>-0.622534</td>\n",
       "      <td>True</td>\n",
       "      <td>3.087660</td>\n",
       "      <td>0.413582</td>\n",
       "      <td>2.417899</td>\n",
       "    </tr>\n",
       "    <tr>\n",
       "      <th>997</th>\n",
       "      <td>-1.941976</td>\n",
       "      <td>True</td>\n",
       "      <td>-1.011835</td>\n",
       "      <td>0.248479</td>\n",
       "      <td>4.024486</td>\n",
       "    </tr>\n",
       "    <tr>\n",
       "      <th>998</th>\n",
       "      <td>-2.392156</td>\n",
       "      <td>True</td>\n",
       "      <td>0.590442</td>\n",
       "      <td>0.203394</td>\n",
       "      <td>4.916562</td>\n",
       "    </tr>\n",
       "    <tr>\n",
       "      <th>999</th>\n",
       "      <td>-1.482793</td>\n",
       "      <td>True</td>\n",
       "      <td>4.977772</td>\n",
       "      <td>0.300883</td>\n",
       "      <td>3.323555</td>\n",
       "    </tr>\n",
       "  </tbody>\n",
       "</table>\n",
       "<p>1000 rows × 5 columns</p>\n",
       "</div>"
      ],
      "text/plain": [
       "           W0    v0         y  propensity_score    weight\n",
       "0   -0.737451  True  4.110883          0.397676  2.514607\n",
       "1   -0.656442  True  1.697156          0.408869  2.445773\n",
       "2   -0.063303  True  5.723438          0.492978  2.028488\n",
       "3   -0.274949  True  4.683323          0.462668  2.161379\n",
       "4   -1.554016  True  2.788685          0.292351  3.420543\n",
       "..        ...   ...       ...               ...       ...\n",
       "995 -0.480167  True  3.484657          0.433537  2.306609\n",
       "996 -0.622534  True  3.087660          0.413582  2.417899\n",
       "997 -1.941976  True -1.011835          0.248479  4.024486\n",
       "998 -2.392156  True  0.590442          0.203394  4.916562\n",
       "999 -1.482793  True  4.977772          0.300883  3.323555\n",
       "\n",
       "[1000 rows x 5 columns]"
      ]
     },
     "execution_count": 7,
     "metadata": {},
     "output_type": "execute_result"
    }
   ],
   "source": [
    "cdf_1"
   ]
  },
  {
   "cell_type": "markdown",
   "metadata": {},
   "source": [
    "## Comparing the estimate to Linear Regression\n",
    "First, estimating the effect using the causal data frame, and the 95% confidence interval."
   ]
  },
  {
   "cell_type": "code",
   "execution_count": 8,
   "metadata": {
    "execution": {
     "iopub.execute_input": "2022-07-28T10:36:49.453097Z",
     "iopub.status.busy": "2022-07-28T10:36:49.452659Z",
     "iopub.status.idle": "2022-07-28T10:36:49.549718Z",
     "shell.execute_reply": "2022-07-28T10:36:49.549137Z"
    }
   },
   "outputs": [
    {
     "data": {
      "image/png": "[encoded data removed]",
      "text/latex": [
       "$\\displaystyle 4.84138615882951$"
      ],
      "text/plain": [
       "4.8413861588295095"
      ]
     },
     "execution_count": 8,
     "metadata": {},
     "output_type": "execute_result"
    }
   ],
   "source": [
    "(cdf_1['y'] - cdf_0['y']).mean()"
   ]
  },
  {
   "cell_type": "code",
   "execution_count": 9,
   "metadata": {
    "execution": {
     "iopub.execute_input": "2022-07-28T10:36:49.552707Z",
     "iopub.status.busy": "2022-07-28T10:36:49.552285Z",
     "iopub.status.idle": "2022-07-28T10:36:49.577985Z",
     "shell.execute_reply": "2022-07-28T10:36:49.577458Z"
    }
   },
   "outputs": [
    {
     "data": {
      "image/png": "[encoded data removed]",
      "text/latex": [
       "$\\displaystyle 0.156024283517977$"
      ],
      "text/plain": [
       "0.1560242835179772"
      ]
     },
     "execution_count": 9,
     "metadata": {},
     "output_type": "execute_result"
    }
   ],
   "source": [
    "1.96*(cdf_1['y'] - cdf_0['y']).std() / np.sqrt(len(df))"
   ]
  },
  {
   "cell_type": "markdown",
   "metadata": {},
   "source": [
    "Comparing to the estimate from OLS."
   ]
  },
  {
   "cell_type": "code",
   "execution_count": 10,
   "metadata": {
    "execution": {
     "iopub.execute_input": "2022-07-28T10:36:49.580647Z",
     "iopub.status.busy": "2022-07-28T10:36:49.580425Z",
     "iopub.status.idle": "2022-07-28T10:36:49.594765Z",
     "shell.execute_reply": "2022-07-28T10:36:49.594238Z"
    }
   },
   "outputs": [
    {
     "data": {
      "text/html": [
       "<table class=\"simpletable\">\n",
       "<caption>OLS Regression Results</caption>\n",
       "<tr>\n",
       "  <th>Dep. Variable:</th>            <td>y</td>        <th>  R-squared (uncentered):</th>      <td>   0.913</td>\n",
       "</tr>\n",
       "<tr>\n",
       "  <th>Model:</th>                   <td>OLS</td>       <th>  Adj. R-squared (uncentered):</th> <td>   0.913</td>\n",
       "</tr>\n",
       "<tr>\n",
       "  <th>Method:</th>             <td>Least Squares</td>  <th>  F-statistic:       </th>          <td>   5243.</td>\n",
       "</tr>\n",
       "<tr>\n",
       "  <th>Date:</th>             <td>Thu, 28 Jul 2022</td> <th>  Prob (F-statistic):</th>           <td>  0.00</td> \n",
       "</tr>\n",
       "<tr>\n",
       "  <th>Time:</th>                 <td>10:36:49</td>     <th>  Log-Likelihood:    </th>          <td> -1411.2</td>\n",
       "</tr>\n",
       "<tr>\n",
       "  <th>No. Observations:</th>      <td>  1000</td>      <th>  AIC:               </th>          <td>   2826.</td>\n",
       "</tr>\n",
       "<tr>\n",
       "  <th>Df Residuals:</th>          <td>   998</td>      <th>  BIC:               </th>          <td>   2836.</td>\n",
       "</tr>\n",
       "<tr>\n",
       "  <th>Df Model:</th>              <td>     2</td>      <th>                     </th>              <td> </td>   \n",
       "</tr>\n",
       "<tr>\n",
       "  <th>Covariance Type:</th>      <td>nonrobust</td>    <th>                     </th>              <td> </td>   \n",
       "</tr>\n",
       "</table>\n",
       "<table class=\"simpletable\">\n",
       "<tr>\n",
       "   <td></td>     <th>coef</th>     <th>std err</th>      <th>t</th>      <th>P>|t|</th>  <th>[0.025</th>    <th>0.975]</th>  \n",
       "</tr>\n",
       "<tr>\n",
       "  <th>x1</th> <td>    1.4662</td> <td>    0.024</td> <td>   60.748</td> <td> 0.000</td> <td>    1.419</td> <td>    1.514</td>\n",
       "</tr>\n",
       "<tr>\n",
       "  <th>x2</th> <td>    4.9737</td> <td>    0.052</td> <td>   95.156</td> <td> 0.000</td> <td>    4.871</td> <td>    5.076</td>\n",
       "</tr>\n",
       "</table>\n",
       "<table class=\"simpletable\">\n",
       "<tr>\n",
       "  <th>Omnibus:</th>       <td> 5.402</td> <th>  Durbin-Watson:     </th> <td>   2.032</td>\n",
       "</tr>\n",
       "<tr>\n",
       "  <th>Prob(Omnibus):</th> <td> 0.067</td> <th>  Jarque-Bera (JB):  </th> <td>   5.396</td>\n",
       "</tr>\n",
       "<tr>\n",
       "  <th>Skew:</th>          <td>-0.180</td> <th>  Prob(JB):          </th> <td>  0.0673</td>\n",
       "</tr>\n",
       "<tr>\n",
       "  <th>Kurtosis:</th>      <td> 2.998</td> <th>  Cond. No.          </th> <td>    2.28</td>\n",
       "</tr>\n",
       "</table><br/><br/>Notes:<br/>[1] R² is computed without centering (uncentered) since the model does not contain a constant.<br/>[2] Standard Errors assume that the covariance matrix of the errors is correctly specified."
      ],
      "text/plain": [
       "<class 'statsmodels.iolib.summary.Summary'>\n",
       "\"\"\"\n",
       "                                 OLS Regression Results                                \n",
       "=======================================================================================\n",
       "Dep. Variable:                      y   R-squared (uncentered):                   0.913\n",
       "Model:                            OLS   Adj. R-squared (uncentered):              0.913\n",
       "Method:                 Least Squares   F-statistic:                              5243.\n",
       "Date:                Thu, 28 Jul 2022   Prob (F-statistic):                        0.00\n",
       "Time:                        10:36:49   Log-Likelihood:                         -1411.2\n",
       "No. Observations:                1000   AIC:                                      2826.\n",
       "Df Residuals:                     998   BIC:                                      2836.\n",
       "Df Model:                           2                                                  \n",
       "Covariance Type:            nonrobust                                                  \n",
       "==============================================================================\n",
       "                 coef    std err          t      P>|t|      [0.025      0.975]\n",
       "------------------------------------------------------------------------------\n",
       "x1             1.4662      0.024     60.748      0.000       1.419       1.514\n",
       "x2             4.9737      0.052     95.156      0.000       4.871       5.076\n",
       "==============================================================================\n",
       "Omnibus:                        5.402   Durbin-Watson:                   2.032\n",
       "Prob(Omnibus):                  0.067   Jarque-Bera (JB):                5.396\n",
       "Skew:                          -0.180   Prob(JB):                       0.0673\n",
       "Kurtosis:                       2.998   Cond. No.                         2.28\n",
       "==============================================================================\n",
       "\n",
       "Notes:\n",
       "[1] R² is computed without centering (uncentered) since the model does not contain a constant.\n",
       "[2] Standard Errors assume that the covariance matrix of the errors is correctly specified.\n",
       "\"\"\""
      ]
     },
     "execution_count": 10,
     "metadata": {},
     "output_type": "execute_result"
    }
   ],
   "source": [
    "model = OLS(np.asarray(df[outcome]), np.asarray(df[[common_cause, treatment]], dtype=np.float64))\n",
    "result = model.fit()\n",
    "result.summary()"
   ]
  }
 ],
 "metadata": {
  "kernelspec": {
   "display_name": "Python 3",
   "language": "python",
   "name": "python3"
  },
  "language_info": {
   "codemirror_mode": {
    "name": "ipython",
    "version": 3
   },
   "file_extension": ".py",
   "mimetype": "text/x-python",
   "name": "python",
   "nbconvert_exporter": "python",
   "pygments_lexer": "ipython3",
   "version": "3.8.10"
  },
  "toc": {
   "base_numbering": 1,
   "nav_menu": {},
   "number_sections": false,
   "sideBar": true,
   "skip_h1_title": true,
   "title_cell": "Table of Contents",
   "title_sidebar": "Contents",
   "toc_cell": false,
   "toc_position": {},
   "toc_section_display": true,
   "toc_window_display": false
  }
 },
 "nbformat": 4,
 "nbformat_minor": 4
}
