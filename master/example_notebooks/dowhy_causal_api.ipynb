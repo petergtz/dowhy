{
 "cells": [
  {
   "cell_type": "markdown",
   "metadata": {},
   "source": [
    "# Demo for the DoWhy causal API\n",
    "We show a simple example of adding a causal extension to any dataframe. "
   ]
  },
  {
   "cell_type": "code",
   "execution_count": 1,
   "metadata": {
    "execution": {
     "iopub.execute_input": "2022-07-20T18:05:41.936898Z",
     "iopub.status.busy": "2022-07-20T18:05:41.936639Z",
     "iopub.status.idle": "2022-07-20T18:05:43.068780Z",
     "shell.execute_reply": "2022-07-20T18:05:43.068048Z"
    }
   },
   "outputs": [
    {
     "name": "stdout",
     "output_type": "stream",
     "text": [
      "keywords are unexpanded, not using\n"
     ]
    }
   ],
   "source": [
    "import dowhy.datasets\n",
    "import dowhy.api\n",
    "\n",
    "import numpy as np\n",
    "import pandas as pd\n",
    "\n",
    "from statsmodels.api import OLS"
   ]
  },
  {
   "cell_type": "code",
   "execution_count": 2,
   "metadata": {
    "execution": {
     "iopub.execute_input": "2022-07-20T18:05:43.072861Z",
     "iopub.status.busy": "2022-07-20T18:05:43.072234Z",
     "iopub.status.idle": "2022-07-20T18:05:43.121985Z",
     "shell.execute_reply": "2022-07-20T18:05:43.121382Z"
    }
   },
   "outputs": [
    {
     "data": {
      "text/html": [
       "<div>\n",
       "<style scoped>\n",
       "    .dataframe tbody tr th:only-of-type {\n",
       "        vertical-align: middle;\n",
       "    }\n",
       "\n",
       "    .dataframe tbody tr th {\n",
       "        vertical-align: top;\n",
       "    }\n",
       "\n",
       "    .dataframe thead th {\n",
       "        text-align: right;\n",
       "    }\n",
       "</style>\n",
       "<table border=\"1\" class=\"dataframe\">\n",
       "  <thead>\n",
       "    <tr style=\"text-align: right;\">\n",
       "      <th></th>\n",
       "      <th>W0</th>\n",
       "      <th>v0</th>\n",
       "      <th>y</th>\n",
       "    </tr>\n",
       "  </thead>\n",
       "  <tbody>\n",
       "    <tr>\n",
       "      <th>0</th>\n",
       "      <td>1.575862</td>\n",
       "      <td>True</td>\n",
       "      <td>7.040007</td>\n",
       "    </tr>\n",
       "    <tr>\n",
       "      <th>1</th>\n",
       "      <td>1.522446</td>\n",
       "      <td>True</td>\n",
       "      <td>6.578798</td>\n",
       "    </tr>\n",
       "    <tr>\n",
       "      <th>2</th>\n",
       "      <td>1.858096</td>\n",
       "      <td>True</td>\n",
       "      <td>4.823697</td>\n",
       "    </tr>\n",
       "    <tr>\n",
       "      <th>3</th>\n",
       "      <td>0.577649</td>\n",
       "      <td>True</td>\n",
       "      <td>4.883111</td>\n",
       "    </tr>\n",
       "    <tr>\n",
       "      <th>4</th>\n",
       "      <td>-0.555057</td>\n",
       "      <td>False</td>\n",
       "      <td>-1.287437</td>\n",
       "    </tr>\n",
       "    <tr>\n",
       "      <th>...</th>\n",
       "      <td>...</td>\n",
       "      <td>...</td>\n",
       "      <td>...</td>\n",
       "    </tr>\n",
       "    <tr>\n",
       "      <th>995</th>\n",
       "      <td>-0.707002</td>\n",
       "      <td>False</td>\n",
       "      <td>-0.489885</td>\n",
       "    </tr>\n",
       "    <tr>\n",
       "      <th>996</th>\n",
       "      <td>0.326141</td>\n",
       "      <td>True</td>\n",
       "      <td>3.266617</td>\n",
       "    </tr>\n",
       "    <tr>\n",
       "      <th>997</th>\n",
       "      <td>1.649525</td>\n",
       "      <td>True</td>\n",
       "      <td>5.137859</td>\n",
       "    </tr>\n",
       "    <tr>\n",
       "      <th>998</th>\n",
       "      <td>1.840091</td>\n",
       "      <td>True</td>\n",
       "      <td>5.889908</td>\n",
       "    </tr>\n",
       "    <tr>\n",
       "      <th>999</th>\n",
       "      <td>1.568094</td>\n",
       "      <td>True</td>\n",
       "      <td>5.867414</td>\n",
       "    </tr>\n",
       "  </tbody>\n",
       "</table>\n",
       "<p>1000 rows × 3 columns</p>\n",
       "</div>"
      ],
      "text/plain": [
       "           W0     v0         y\n",
       "0    1.575862   True  7.040007\n",
       "1    1.522446   True  6.578798\n",
       "2    1.858096   True  4.823697\n",
       "3    0.577649   True  4.883111\n",
       "4   -0.555057  False -1.287437\n",
       "..        ...    ...       ...\n",
       "995 -0.707002  False -0.489885\n",
       "996  0.326141   True  3.266617\n",
       "997  1.649525   True  5.137859\n",
       "998  1.840091   True  5.889908\n",
       "999  1.568094   True  5.867414\n",
       "\n",
       "[1000 rows x 3 columns]"
      ]
     },
     "execution_count": 2,
     "metadata": {},
     "output_type": "execute_result"
    }
   ],
   "source": [
    "data = dowhy.datasets.linear_dataset(beta=5,\n",
    "        num_common_causes=1,\n",
    "        num_instruments = 0,\n",
    "        num_samples=1000,\n",
    "        treatment_is_binary=True)\n",
    "df = data['df']\n",
    "df['y'] = df['y'] + np.random.normal(size=len(df)) # Adding noise to data. Without noise, the variance in Y|X, Z is zero, and mcmc fails.\n",
    "#data['dot_graph'] = 'digraph { v ->y;X0-> v;X0-> y;}'\n",
    "\n",
    "treatment= data[\"treatment_name\"][0]\n",
    "outcome = data[\"outcome_name\"][0]\n",
    "common_cause = data[\"common_causes_names\"][0]\n",
    "df"
   ]
  },
  {
   "cell_type": "code",
   "execution_count": 3,
   "metadata": {
    "execution": {
     "iopub.execute_input": "2022-07-20T18:05:43.125202Z",
     "iopub.status.busy": "2022-07-20T18:05:43.124856Z",
     "iopub.status.idle": "2022-07-20T18:05:43.890216Z",
     "shell.execute_reply": "2022-07-20T18:05:43.889654Z"
    }
   },
   "outputs": [
    {
     "data": {
      "text/plain": [
       "<AxesSubplot:xlabel='v0'>"
      ]
     },
     "execution_count": 3,
     "metadata": {},
     "output_type": "execute_result"
    },
    {
     "data": {
      "image/png": "[encoded data removed]",
      "text/plain": [
       "<Figure size 432x288 with 1 Axes>"
      ]
     },
     "metadata": {
      "needs_background": "light"
     },
     "output_type": "display_data"
    }
   ],
   "source": [
    "# data['df'] is just a regular pandas.DataFrame\n",
    "df.causal.do(x=treatment,\n",
    "                     variable_types={treatment: 'b', outcome: 'c', common_cause: 'c'},\n",
    "                     outcome=outcome,\n",
    "                     common_causes=[common_cause],\n",
    "                     proceed_when_unidentifiable=True).groupby(treatment).mean().plot(y=outcome, kind='bar')"
   ]
  },
  {
   "cell_type": "code",
   "execution_count": 4,
   "metadata": {
    "execution": {
     "iopub.execute_input": "2022-07-20T18:05:43.894922Z",
     "iopub.status.busy": "2022-07-20T18:05:43.893393Z",
     "iopub.status.idle": "2022-07-20T18:05:43.984776Z",
     "shell.execute_reply": "2022-07-20T18:05:43.984236Z"
    }
   },
   "outputs": [
    {
     "data": {
      "text/plain": [
       "<AxesSubplot:xlabel='v0'>"
      ]
     },
     "execution_count": 4,
     "metadata": {},
     "output_type": "execute_result"
    },
    {
     "data": {
      "image/png": "[encoded data removed]",
      "text/plain": [
       "<Figure size 432x288 with 1 Axes>"
      ]
     },
     "metadata": {
      "needs_background": "light"
     },
     "output_type": "display_data"
    }
   ],
   "source": [
    "df.causal.do(x={treatment: 1}, \n",
    "              variable_types={treatment:'b', outcome: 'c', common_cause: 'c'}, \n",
    "              outcome=outcome,\n",
    "              method='weighting', \n",
    "              common_causes=[common_cause],\n",
    "              proceed_when_unidentifiable=True).groupby(treatment).mean().plot(y=outcome, kind='bar')"
   ]
  },
  {
   "cell_type": "code",
   "execution_count": 5,
   "metadata": {
    "execution": {
     "iopub.execute_input": "2022-07-20T18:05:43.989178Z",
     "iopub.status.busy": "2022-07-20T18:05:43.987878Z",
     "iopub.status.idle": "2022-07-20T18:05:44.020608Z",
     "shell.execute_reply": "2022-07-20T18:05:44.019988Z"
    }
   },
   "outputs": [],
   "source": [
    "cdf_1 = df.causal.do(x={treatment: 1}, \n",
    "              variable_types={treatment: 'b', outcome: 'c', common_cause: 'c'}, \n",
    "              outcome=outcome, \n",
    "              dot_graph=data['dot_graph'],\n",
    "              proceed_when_unidentifiable=True)\n",
    "\n",
    "cdf_0 = df.causal.do(x={treatment: 0}, \n",
    "              variable_types={treatment: 'b', outcome: 'c', common_cause: 'c'}, \n",
    "              outcome=outcome, \n",
    "              dot_graph=data['dot_graph'],\n",
    "              proceed_when_unidentifiable=True)\n"
   ]
  },
  {
   "cell_type": "code",
   "execution_count": 6,
   "metadata": {
    "execution": {
     "iopub.execute_input": "2022-07-20T18:05:44.024183Z",
     "iopub.status.busy": "2022-07-20T18:05:44.023839Z",
     "iopub.status.idle": "2022-07-20T18:05:44.035695Z",
     "shell.execute_reply": "2022-07-20T18:05:44.035084Z"
    },
    "scrolled": true
   },
   "outputs": [
    {
     "data": {
      "text/html": [
       "<div>\n",
       "<style scoped>\n",
       "    .dataframe tbody tr th:only-of-type {\n",
       "        vertical-align: middle;\n",
       "    }\n",
       "\n",
       "    .dataframe tbody tr th {\n",
       "        vertical-align: top;\n",
       "    }\n",
       "\n",
       "    .dataframe thead th {\n",
       "        text-align: right;\n",
       "    }\n",
       "</style>\n",
       "<table border=\"1\" class=\"dataframe\">\n",
       "  <thead>\n",
       "    <tr style=\"text-align: right;\">\n",
       "      <th></th>\n",
       "      <th>W0</th>\n",
       "      <th>v0</th>\n",
       "      <th>y</th>\n",
       "      <th>propensity_score</th>\n",
       "      <th>weight</th>\n",
       "    </tr>\n",
       "  </thead>\n",
       "  <tbody>\n",
       "    <tr>\n",
       "      <th>0</th>\n",
       "      <td>1.450583</td>\n",
       "      <td>False</td>\n",
       "      <td>-0.153651</td>\n",
       "      <td>0.022874</td>\n",
       "      <td>43.718663</td>\n",
       "    </tr>\n",
       "    <tr>\n",
       "      <th>1</th>\n",
       "      <td>0.528632</td>\n",
       "      <td>False</td>\n",
       "      <td>-0.226960</td>\n",
       "      <td>0.186974</td>\n",
       "      <td>5.348337</td>\n",
       "    </tr>\n",
       "    <tr>\n",
       "      <th>2</th>\n",
       "      <td>-0.562946</td>\n",
       "      <td>False</td>\n",
       "      <td>1.343504</td>\n",
       "      <td>0.774768</td>\n",
       "      <td>1.290710</td>\n",
       "    </tr>\n",
       "    <tr>\n",
       "      <th>3</th>\n",
       "      <td>-2.304997</td>\n",
       "      <td>False</td>\n",
       "      <td>0.706976</td>\n",
       "      <td>0.996138</td>\n",
       "      <td>1.003877</td>\n",
       "    </tr>\n",
       "    <tr>\n",
       "      <th>4</th>\n",
       "      <td>1.129072</td>\n",
       "      <td>False</td>\n",
       "      <td>0.374258</td>\n",
       "      <td>0.049367</td>\n",
       "      <td>20.256437</td>\n",
       "    </tr>\n",
       "    <tr>\n",
       "      <th>...</th>\n",
       "      <td>...</td>\n",
       "      <td>...</td>\n",
       "      <td>...</td>\n",
       "      <td>...</td>\n",
       "      <td>...</td>\n",
       "    </tr>\n",
       "    <tr>\n",
       "      <th>995</th>\n",
       "      <td>-1.109958</td>\n",
       "      <td>False</td>\n",
       "      <td>0.687540</td>\n",
       "      <td>0.930285</td>\n",
       "      <td>1.074940</td>\n",
       "    </tr>\n",
       "    <tr>\n",
       "      <th>996</th>\n",
       "      <td>1.345510</td>\n",
       "      <td>False</td>\n",
       "      <td>1.223789</td>\n",
       "      <td>0.029477</td>\n",
       "      <td>33.925148</td>\n",
       "    </tr>\n",
       "    <tr>\n",
       "      <th>997</th>\n",
       "      <td>1.448495</td>\n",
       "      <td>False</td>\n",
       "      <td>2.145191</td>\n",
       "      <td>0.022989</td>\n",
       "      <td>43.498181</td>\n",
       "    </tr>\n",
       "    <tr>\n",
       "      <th>998</th>\n",
       "      <td>0.723429</td>\n",
       "      <td>False</td>\n",
       "      <td>0.418983</td>\n",
       "      <td>0.124275</td>\n",
       "      <td>8.046658</td>\n",
       "    </tr>\n",
       "    <tr>\n",
       "      <th>999</th>\n",
       "      <td>-0.103891</td>\n",
       "      <td>False</td>\n",
       "      <td>-1.080324</td>\n",
       "      <td>0.524423</td>\n",
       "      <td>1.906859</td>\n",
       "    </tr>\n",
       "  </tbody>\n",
       "</table>\n",
       "<p>1000 rows × 5 columns</p>\n",
       "</div>"
      ],
      "text/plain": [
       "           W0     v0         y  propensity_score     weight\n",
       "0    1.450583  False -0.153651          0.022874  43.718663\n",
       "1    0.528632  False -0.226960          0.186974   5.348337\n",
       "2   -0.562946  False  1.343504          0.774768   1.290710\n",
       "3   -2.304997  False  0.706976          0.996138   1.003877\n",
       "4    1.129072  False  0.374258          0.049367  20.256437\n",
       "..        ...    ...       ...               ...        ...\n",
       "995 -1.109958  False  0.687540          0.930285   1.074940\n",
       "996  1.345510  False  1.223789          0.029477  33.925148\n",
       "997  1.448495  False  2.145191          0.022989  43.498181\n",
       "998  0.723429  False  0.418983          0.124275   8.046658\n",
       "999 -0.103891  False -1.080324          0.524423   1.906859\n",
       "\n",
       "[1000 rows x 5 columns]"
      ]
     },
     "execution_count": 6,
     "metadata": {},
     "output_type": "execute_result"
    }
   ],
   "source": [
    "cdf_0"
   ]
  },
  {
   "cell_type": "code",
   "execution_count": 7,
   "metadata": {
    "execution": {
     "iopub.execute_input": "2022-07-20T18:05:44.038563Z",
     "iopub.status.busy": "2022-07-20T18:05:44.038346Z",
     "iopub.status.idle": "2022-07-20T18:05:44.049712Z",
     "shell.execute_reply": "2022-07-20T18:05:44.049166Z"
    }
   },
   "outputs": [
    {
     "data": {
      "text/html": [
       "<div>\n",
       "<style scoped>\n",
       "    .dataframe tbody tr th:only-of-type {\n",
       "        vertical-align: middle;\n",
       "    }\n",
       "\n",
       "    .dataframe tbody tr th {\n",
       "        vertical-align: top;\n",
       "    }\n",
       "\n",
       "    .dataframe thead th {\n",
       "        text-align: right;\n",
       "    }\n",
       "</style>\n",
       "<table border=\"1\" class=\"dataframe\">\n",
       "  <thead>\n",
       "    <tr style=\"text-align: right;\">\n",
       "      <th></th>\n",
       "      <th>W0</th>\n",
       "      <th>v0</th>\n",
       "      <th>y</th>\n",
       "      <th>propensity_score</th>\n",
       "      <th>weight</th>\n",
       "    </tr>\n",
       "  </thead>\n",
       "  <tbody>\n",
       "    <tr>\n",
       "      <th>0</th>\n",
       "      <td>1.537472</td>\n",
       "      <td>True</td>\n",
       "      <td>7.025476</td>\n",
       "      <td>0.981476</td>\n",
       "      <td>1.018874</td>\n",
       "    </tr>\n",
       "    <tr>\n",
       "      <th>1</th>\n",
       "      <td>0.997136</td>\n",
       "      <td>True</td>\n",
       "      <td>6.697967</td>\n",
       "      <td>0.932822</td>\n",
       "      <td>1.072016</td>\n",
       "    </tr>\n",
       "    <tr>\n",
       "      <th>2</th>\n",
       "      <td>-0.995357</td>\n",
       "      <td>True</td>\n",
       "      <td>5.787307</td>\n",
       "      <td>0.090540</td>\n",
       "      <td>11.044854</td>\n",
       "    </tr>\n",
       "    <tr>\n",
       "      <th>3</th>\n",
       "      <td>0.457138</td>\n",
       "      <td>True</td>\n",
       "      <td>4.339850</td>\n",
       "      <td>0.784589</td>\n",
       "      <td>1.274553</td>\n",
       "    </tr>\n",
       "    <tr>\n",
       "      <th>4</th>\n",
       "      <td>-0.461938</td>\n",
       "      <td>True</td>\n",
       "      <td>5.393236</td>\n",
       "      <td>0.271880</td>\n",
       "      <td>3.678093</td>\n",
       "    </tr>\n",
       "    <tr>\n",
       "      <th>...</th>\n",
       "      <td>...</td>\n",
       "      <td>...</td>\n",
       "      <td>...</td>\n",
       "      <td>...</td>\n",
       "      <td>...</td>\n",
       "    </tr>\n",
       "    <tr>\n",
       "      <th>995</th>\n",
       "      <td>0.124249</td>\n",
       "      <td>True</td>\n",
       "      <td>4.539032</td>\n",
       "      <td>0.614821</td>\n",
       "      <td>1.626490</td>\n",
       "    </tr>\n",
       "    <tr>\n",
       "      <th>996</th>\n",
       "      <td>0.073698</td>\n",
       "      <td>True</td>\n",
       "      <td>5.263751</td>\n",
       "      <td>0.584760</td>\n",
       "      <td>1.710103</td>\n",
       "    </tr>\n",
       "    <tr>\n",
       "      <th>997</th>\n",
       "      <td>-0.222467</td>\n",
       "      <td>True</td>\n",
       "      <td>4.312133</td>\n",
       "      <td>0.403324</td>\n",
       "      <td>2.479393</td>\n",
       "    </tr>\n",
       "    <tr>\n",
       "      <th>998</th>\n",
       "      <td>-1.070775</td>\n",
       "      <td>True</td>\n",
       "      <td>6.454683</td>\n",
       "      <td>0.076282</td>\n",
       "      <td>13.109240</td>\n",
       "    </tr>\n",
       "    <tr>\n",
       "      <th>999</th>\n",
       "      <td>0.330685</td>\n",
       "      <td>True</td>\n",
       "      <td>4.976503</td>\n",
       "      <td>0.726955</td>\n",
       "      <td>1.375601</td>\n",
       "    </tr>\n",
       "  </tbody>\n",
       "</table>\n",
       "<p>1000 rows × 5 columns</p>\n",
       "</div>"
      ],
      "text/plain": [
       "           W0    v0         y  propensity_score     weight\n",
       "0    1.537472  True  7.025476          0.981476   1.018874\n",
       "1    0.997136  True  6.697967          0.932822   1.072016\n",
       "2   -0.995357  True  5.787307          0.090540  11.044854\n",
       "3    0.457138  True  4.339850          0.784589   1.274553\n",
       "4   -0.461938  True  5.393236          0.271880   3.678093\n",
       "..        ...   ...       ...               ...        ...\n",
       "995  0.124249  True  4.539032          0.614821   1.626490\n",
       "996  0.073698  True  5.263751          0.584760   1.710103\n",
       "997 -0.222467  True  4.312133          0.403324   2.479393\n",
       "998 -1.070775  True  6.454683          0.076282  13.109240\n",
       "999  0.330685  True  4.976503          0.726955   1.375601\n",
       "\n",
       "[1000 rows x 5 columns]"
      ]
     },
     "execution_count": 7,
     "metadata": {},
     "output_type": "execute_result"
    }
   ],
   "source": [
    "cdf_1"
   ]
  },
  {
   "cell_type": "markdown",
   "metadata": {},
   "source": [
    "## Comparing the estimate to Linear Regression\n",
    "First, estimating the effect using the causal data frame, and the 95% confidence interval."
   ]
  },
  {
   "cell_type": "code",
   "execution_count": 8,
   "metadata": {
    "execution": {
     "iopub.execute_input": "2022-07-20T18:05:44.052449Z",
     "iopub.status.busy": "2022-07-20T18:05:44.052221Z",
     "iopub.status.idle": "2022-07-20T18:05:44.148781Z",
     "shell.execute_reply": "2022-07-20T18:05:44.148103Z"
    }
   },
   "outputs": [
    {
     "data": {
      "image/png": "[encoded data removed]",
      "text/latex": [
       "$\\displaystyle 4.976647234271$"
      ],
      "text/plain": [
       "4.976647234271004"
      ]
     },
     "execution_count": 8,
     "metadata": {},
     "output_type": "execute_result"
    }
   ],
   "source": [
    "(cdf_1['y'] - cdf_0['y']).mean()"
   ]
  },
  {
   "cell_type": "code",
   "execution_count": 9,
   "metadata": {
    "execution": {
     "iopub.execute_input": "2022-07-20T18:05:44.151742Z",
     "iopub.status.busy": "2022-07-20T18:05:44.151388Z",
     "iopub.status.idle": "2022-07-20T18:05:44.176912Z",
     "shell.execute_reply": "2022-07-20T18:05:44.176279Z"
    }
   },
   "outputs": [
    {
     "data": {
      "image/png": "[encoded data removed]",
      "text/latex": [
       "$\\displaystyle 0.0864885336771099$"
      ],
      "text/plain": [
       "0.0864885336771099"
      ]
     },
     "execution_count": 9,
     "metadata": {},
     "output_type": "execute_result"
    }
   ],
   "source": [
    "1.96*(cdf_1['y'] - cdf_0['y']).std() / np.sqrt(len(df))"
   ]
  },
  {
   "cell_type": "markdown",
   "metadata": {},
   "source": [
    "Comparing to the estimate from OLS."
   ]
  },
  {
   "cell_type": "code",
   "execution_count": 10,
   "metadata": {
    "execution": {
     "iopub.execute_input": "2022-07-20T18:05:44.180350Z",
     "iopub.status.busy": "2022-07-20T18:05:44.179908Z",
     "iopub.status.idle": "2022-07-20T18:05:44.194774Z",
     "shell.execute_reply": "2022-07-20T18:05:44.194127Z"
    }
   },
   "outputs": [
    {
     "data": {
      "text/html": [
       "<table class=\"simpletable\">\n",
       "<caption>OLS Regression Results</caption>\n",
       "<tr>\n",
       "  <th>Dep. Variable:</th>            <td>y</td>        <th>  R-squared (uncentered):</th>      <td>   0.953</td> \n",
       "</tr>\n",
       "<tr>\n",
       "  <th>Model:</th>                   <td>OLS</td>       <th>  Adj. R-squared (uncentered):</th> <td>   0.953</td> \n",
       "</tr>\n",
       "<tr>\n",
       "  <th>Method:</th>             <td>Least Squares</td>  <th>  F-statistic:       </th>          <td>1.008e+04</td>\n",
       "</tr>\n",
       "<tr>\n",
       "  <th>Date:</th>             <td>Wed, 20 Jul 2022</td> <th>  Prob (F-statistic):</th>           <td>  0.00</td>  \n",
       "</tr>\n",
       "<tr>\n",
       "  <th>Time:</th>                 <td>18:05:44</td>     <th>  Log-Likelihood:    </th>          <td> -1384.1</td> \n",
       "</tr>\n",
       "<tr>\n",
       "  <th>No. Observations:</th>      <td>  1000</td>      <th>  AIC:               </th>          <td>   2772.</td> \n",
       "</tr>\n",
       "<tr>\n",
       "  <th>Df Residuals:</th>          <td>   998</td>      <th>  BIC:               </th>          <td>   2782.</td> \n",
       "</tr>\n",
       "<tr>\n",
       "  <th>Df Model:</th>              <td>     2</td>      <th>                     </th>              <td> </td>    \n",
       "</tr>\n",
       "<tr>\n",
       "  <th>Covariance Type:</th>      <td>nonrobust</td>    <th>                     </th>              <td> </td>    \n",
       "</tr>\n",
       "</table>\n",
       "<table class=\"simpletable\">\n",
       "<tr>\n",
       "   <td></td>     <th>coef</th>     <th>std err</th>      <th>t</th>      <th>P>|t|</th>  <th>[0.025</th>    <th>0.975]</th>  \n",
       "</tr>\n",
       "<tr>\n",
       "  <th>x1</th> <td>    0.2289</td> <td>    0.038</td> <td>    6.034</td> <td> 0.000</td> <td>    0.154</td> <td>    0.303</td>\n",
       "</tr>\n",
       "<tr>\n",
       "  <th>x2</th> <td>    5.0064</td> <td>    0.052</td> <td>   97.181</td> <td> 0.000</td> <td>    4.905</td> <td>    5.107</td>\n",
       "</tr>\n",
       "</table>\n",
       "<table class=\"simpletable\">\n",
       "<tr>\n",
       "  <th>Omnibus:</th>       <td> 2.274</td> <th>  Durbin-Watson:     </th> <td>   2.024</td>\n",
       "</tr>\n",
       "<tr>\n",
       "  <th>Prob(Omnibus):</th> <td> 0.321</td> <th>  Jarque-Bera (JB):  </th> <td>   2.173</td>\n",
       "</tr>\n",
       "<tr>\n",
       "  <th>Skew:</th>          <td>-0.111</td> <th>  Prob(JB):          </th> <td>   0.337</td>\n",
       "</tr>\n",
       "<tr>\n",
       "  <th>Kurtosis:</th>      <td> 3.050</td> <th>  Cond. No.          </th> <td>    2.54</td>\n",
       "</tr>\n",
       "</table><br/><br/>Notes:<br/>[1] R² is computed without centering (uncentered) since the model does not contain a constant.<br/>[2] Standard Errors assume that the covariance matrix of the errors is correctly specified."
      ],
      "text/plain": [
       "<class 'statsmodels.iolib.summary.Summary'>\n",
       "\"\"\"\n",
       "                                 OLS Regression Results                                \n",
       "=======================================================================================\n",
       "Dep. Variable:                      y   R-squared (uncentered):                   0.953\n",
       "Model:                            OLS   Adj. R-squared (uncentered):              0.953\n",
       "Method:                 Least Squares   F-statistic:                          1.008e+04\n",
       "Date:                Wed, 20 Jul 2022   Prob (F-statistic):                        0.00\n",
       "Time:                        18:05:44   Log-Likelihood:                         -1384.1\n",
       "No. Observations:                1000   AIC:                                      2772.\n",
       "Df Residuals:                     998   BIC:                                      2782.\n",
       "Df Model:                           2                                                  \n",
       "Covariance Type:            nonrobust                                                  \n",
       "==============================================================================\n",
       "                 coef    std err          t      P>|t|      [0.025      0.975]\n",
       "------------------------------------------------------------------------------\n",
       "x1             0.2289      0.038      6.034      0.000       0.154       0.303\n",
       "x2             5.0064      0.052     97.181      0.000       4.905       5.107\n",
       "==============================================================================\n",
       "Omnibus:                        2.274   Durbin-Watson:                   2.024\n",
       "Prob(Omnibus):                  0.321   Jarque-Bera (JB):                2.173\n",
       "Skew:                          -0.111   Prob(JB):                        0.337\n",
       "Kurtosis:                       3.050   Cond. No.                         2.54\n",
       "==============================================================================\n",
       "\n",
       "Notes:\n",
       "[1] R² is computed without centering (uncentered) since the model does not contain a constant.\n",
       "[2] Standard Errors assume that the covariance matrix of the errors is correctly specified.\n",
       "\"\"\""
      ]
     },
     "execution_count": 10,
     "metadata": {},
     "output_type": "execute_result"
    }
   ],
   "source": [
    "model = OLS(np.asarray(df[outcome]), np.asarray(df[[common_cause, treatment]], dtype=np.float64))\n",
    "result = model.fit()\n",
    "result.summary()"
   ]
  }
 ],
 "metadata": {
  "kernelspec": {
   "display_name": "Python 3",
   "language": "python",
   "name": "python3"
  },
  "language_info": {
   "codemirror_mode": {
    "name": "ipython",
    "version": 3
   },
   "file_extension": ".py",
   "mimetype": "text/x-python",
   "name": "python",
   "nbconvert_exporter": "python",
   "pygments_lexer": "ipython3",
   "version": "3.8.10"
  },
  "toc": {
   "base_numbering": 1,
   "nav_menu": {},
   "number_sections": false,
   "sideBar": true,
   "skip_h1_title": true,
   "title_cell": "Table of Contents",
   "title_sidebar": "Contents",
   "toc_cell": false,
   "toc_position": {},
   "toc_section_display": true,
   "toc_window_display": false
  }
 },
 "nbformat": 4,
 "nbformat_minor": 4
}
