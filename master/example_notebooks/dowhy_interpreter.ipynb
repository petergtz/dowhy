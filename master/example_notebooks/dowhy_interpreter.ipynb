{
 "cells": [
  {
   "cell_type": "markdown",
   "id": "18a897b2",
   "metadata": {},
   "source": [
    "# DoWhy: Interpreters for Causal Estimators\n",
    "\n",
    "This is a quick introduction to the use of interpreters in the DoWhy causal inference library.\n",
    "We will load in a sample dataset, use different methods for estimating the causal effect of a (pre-specified)treatment variable on a (pre-specified) outcome variable and demonstrate how to interpret the obtained results.\n",
    "\n",
    "First, let us add the required path for Python to find the DoWhy code and load all required packages"
   ]
  },
  {
   "cell_type": "code",
   "execution_count": 1,
   "id": "2a32e11c",
   "metadata": {
    "execution": {
     "iopub.execute_input": "2022-07-20T21:24:28.224375Z",
     "iopub.status.busy": "2022-07-20T21:24:28.224091Z",
     "iopub.status.idle": "2022-07-20T21:24:28.241136Z",
     "shell.execute_reply": "2022-07-20T21:24:28.240163Z"
    }
   },
   "outputs": [],
   "source": [
    "%load_ext autoreload\n",
    "%autoreload 2"
   ]
  },
  {
   "cell_type": "code",
   "execution_count": 2,
   "id": "a18db010",
   "metadata": {
    "execution": {
     "iopub.execute_input": "2022-07-20T21:24:28.244500Z",
     "iopub.status.busy": "2022-07-20T21:24:28.244029Z",
     "iopub.status.idle": "2022-07-20T21:24:29.315531Z",
     "shell.execute_reply": "2022-07-20T21:24:29.314690Z"
    }
   },
   "outputs": [
    {
     "name": "stdout",
     "output_type": "stream",
     "text": [
      "keywords are unexpanded, not using\n"
     ]
    }
   ],
   "source": [
    "import numpy as np\n",
    "import pandas as pd\n",
    "import logging\n",
    "\n",
    "import dowhy\n",
    "from dowhy import CausalModel\n",
    "import dowhy.datasets "
   ]
  },
  {
   "cell_type": "markdown",
   "id": "f7cdbece",
   "metadata": {},
   "source": [
    "Now, let us load a dataset. For simplicity, we simulate a dataset with linear relationships between common causes and treatment, and common causes and outcome.\n",
    "\n",
    "Beta is the true causal effect."
   ]
  },
  {
   "cell_type": "code",
   "execution_count": 3,
   "id": "25f31f29",
   "metadata": {
    "execution": {
     "iopub.execute_input": "2022-07-20T21:24:29.320595Z",
     "iopub.status.busy": "2022-07-20T21:24:29.319707Z",
     "iopub.status.idle": "2022-07-20T21:24:29.686446Z",
     "shell.execute_reply": "2022-07-20T21:24:29.685754Z"
    }
   },
   "outputs": [
    {
     "name": "stdout",
     "output_type": "stream",
     "text": [
      "8257\n"
     ]
    },
    {
     "data": {
      "text/html": [
       "<div>\n",
       "<style scoped>\n",
       "    .dataframe tbody tr th:only-of-type {\n",
       "        vertical-align: middle;\n",
       "    }\n",
       "\n",
       "    .dataframe tbody tr th {\n",
       "        vertical-align: top;\n",
       "    }\n",
       "\n",
       "    .dataframe thead th {\n",
       "        text-align: right;\n",
       "    }\n",
       "</style>\n",
       "<table border=\"1\" class=\"dataframe\">\n",
       "  <thead>\n",
       "    <tr style=\"text-align: right;\">\n",
       "      <th></th>\n",
       "      <th>Z0</th>\n",
       "      <th>Z1</th>\n",
       "      <th>W0</th>\n",
       "      <th>W1</th>\n",
       "      <th>W2</th>\n",
       "      <th>W3</th>\n",
       "      <th>W4</th>\n",
       "      <th>v0</th>\n",
       "      <th>y</th>\n",
       "    </tr>\n",
       "  </thead>\n",
       "  <tbody>\n",
       "    <tr>\n",
       "      <th>0</th>\n",
       "      <td>1.0</td>\n",
       "      <td>0.417930</td>\n",
       "      <td>-0.804193</td>\n",
       "      <td>-0.054513</td>\n",
       "      <td>-1.080573</td>\n",
       "      <td>1.170600</td>\n",
       "      <td>3</td>\n",
       "      <td>True</td>\n",
       "      <td>0.877542</td>\n",
       "    </tr>\n",
       "    <tr>\n",
       "      <th>1</th>\n",
       "      <td>0.0</td>\n",
       "      <td>0.883125</td>\n",
       "      <td>0.432459</td>\n",
       "      <td>-0.432053</td>\n",
       "      <td>-0.508146</td>\n",
       "      <td>-1.324412</td>\n",
       "      <td>0</td>\n",
       "      <td>True</td>\n",
       "      <td>0.031454</td>\n",
       "    </tr>\n",
       "    <tr>\n",
       "      <th>2</th>\n",
       "      <td>1.0</td>\n",
       "      <td>0.405283</td>\n",
       "      <td>-1.427727</td>\n",
       "      <td>-1.278313</td>\n",
       "      <td>-1.302233</td>\n",
       "      <td>-1.089313</td>\n",
       "      <td>2</td>\n",
       "      <td>False</td>\n",
       "      <td>-2.476901</td>\n",
       "    </tr>\n",
       "    <tr>\n",
       "      <th>3</th>\n",
       "      <td>0.0</td>\n",
       "      <td>0.557114</td>\n",
       "      <td>0.343272</td>\n",
       "      <td>-0.677797</td>\n",
       "      <td>-0.365427</td>\n",
       "      <td>-0.779893</td>\n",
       "      <td>0</td>\n",
       "      <td>True</td>\n",
       "      <td>0.039221</td>\n",
       "    </tr>\n",
       "    <tr>\n",
       "      <th>4</th>\n",
       "      <td>1.0</td>\n",
       "      <td>0.025848</td>\n",
       "      <td>-1.622713</td>\n",
       "      <td>-0.724226</td>\n",
       "      <td>-3.163699</td>\n",
       "      <td>0.176617</td>\n",
       "      <td>3</td>\n",
       "      <td>True</td>\n",
       "      <td>-1.942456</td>\n",
       "    </tr>\n",
       "    <tr>\n",
       "      <th>...</th>\n",
       "      <td>...</td>\n",
       "      <td>...</td>\n",
       "      <td>...</td>\n",
       "      <td>...</td>\n",
       "      <td>...</td>\n",
       "      <td>...</td>\n",
       "      <td>...</td>\n",
       "      <td>...</td>\n",
       "      <td>...</td>\n",
       "    </tr>\n",
       "    <tr>\n",
       "      <th>9995</th>\n",
       "      <td>0.0</td>\n",
       "      <td>0.608556</td>\n",
       "      <td>-1.183285</td>\n",
       "      <td>-0.671368</td>\n",
       "      <td>0.705759</td>\n",
       "      <td>-0.959829</td>\n",
       "      <td>1</td>\n",
       "      <td>True</td>\n",
       "      <td>0.506400</td>\n",
       "    </tr>\n",
       "    <tr>\n",
       "      <th>9996</th>\n",
       "      <td>0.0</td>\n",
       "      <td>0.738115</td>\n",
       "      <td>0.521337</td>\n",
       "      <td>0.275388</td>\n",
       "      <td>-0.696500</td>\n",
       "      <td>-0.988851</td>\n",
       "      <td>2</td>\n",
       "      <td>False</td>\n",
       "      <td>0.135971</td>\n",
       "    </tr>\n",
       "    <tr>\n",
       "      <th>9997</th>\n",
       "      <td>0.0</td>\n",
       "      <td>0.315266</td>\n",
       "      <td>-0.895665</td>\n",
       "      <td>-0.563461</td>\n",
       "      <td>-1.657244</td>\n",
       "      <td>-1.052826</td>\n",
       "      <td>0</td>\n",
       "      <td>False</td>\n",
       "      <td>-2.417938</td>\n",
       "    </tr>\n",
       "    <tr>\n",
       "      <th>9998</th>\n",
       "      <td>1.0</td>\n",
       "      <td>0.432681</td>\n",
       "      <td>-1.579302</td>\n",
       "      <td>-0.748486</td>\n",
       "      <td>-1.487314</td>\n",
       "      <td>-2.443508</td>\n",
       "      <td>0</td>\n",
       "      <td>True</td>\n",
       "      <td>-2.082963</td>\n",
       "    </tr>\n",
       "    <tr>\n",
       "      <th>9999</th>\n",
       "      <td>0.0</td>\n",
       "      <td>0.578134</td>\n",
       "      <td>-0.955038</td>\n",
       "      <td>-0.355087</td>\n",
       "      <td>-1.352087</td>\n",
       "      <td>-0.924715</td>\n",
       "      <td>0</td>\n",
       "      <td>False</td>\n",
       "      <td>-1.989027</td>\n",
       "    </tr>\n",
       "  </tbody>\n",
       "</table>\n",
       "<p>10000 rows × 9 columns</p>\n",
       "</div>"
      ],
      "text/plain": [
       "       Z0        Z1        W0        W1        W2        W3 W4     v0  \\\n",
       "0     1.0  0.417930 -0.804193 -0.054513 -1.080573  1.170600  3   True   \n",
       "1     0.0  0.883125  0.432459 -0.432053 -0.508146 -1.324412  0   True   \n",
       "2     1.0  0.405283 -1.427727 -1.278313 -1.302233 -1.089313  2  False   \n",
       "3     0.0  0.557114  0.343272 -0.677797 -0.365427 -0.779893  0   True   \n",
       "4     1.0  0.025848 -1.622713 -0.724226 -3.163699  0.176617  3   True   \n",
       "...   ...       ...       ...       ...       ...       ... ..    ...   \n",
       "9995  0.0  0.608556 -1.183285 -0.671368  0.705759 -0.959829  1   True   \n",
       "9996  0.0  0.738115  0.521337  0.275388 -0.696500 -0.988851  2  False   \n",
       "9997  0.0  0.315266 -0.895665 -0.563461 -1.657244 -1.052826  0  False   \n",
       "9998  1.0  0.432681 -1.579302 -0.748486 -1.487314 -2.443508  0   True   \n",
       "9999  0.0  0.578134 -0.955038 -0.355087 -1.352087 -0.924715  0  False   \n",
       "\n",
       "             y  \n",
       "0     0.877542  \n",
       "1     0.031454  \n",
       "2    -2.476901  \n",
       "3     0.039221  \n",
       "4    -1.942456  \n",
       "...        ...  \n",
       "9995  0.506400  \n",
       "9996  0.135971  \n",
       "9997 -2.417938  \n",
       "9998 -2.082963  \n",
       "9999 -1.989027  \n",
       "\n",
       "[10000 rows x 9 columns]"
      ]
     },
     "execution_count": 3,
     "metadata": {},
     "output_type": "execute_result"
    }
   ],
   "source": [
    "data = dowhy.datasets.linear_dataset(beta=1,\n",
    "        num_common_causes=5, \n",
    "        num_instruments = 2,\n",
    "        num_treatments=1,\n",
    "        num_discrete_common_causes=1,\n",
    "        num_samples=10000,\n",
    "        treatment_is_binary=True,\n",
    "        outcome_is_binary=False)\n",
    "df = data[\"df\"]\n",
    "print(df[df.v0==True].shape[0])\n",
    "df"
   ]
  },
  {
   "cell_type": "markdown",
   "id": "9d97318c",
   "metadata": {},
   "source": [
    "Note that we are using a pandas dataframe to load the data."
   ]
  },
  {
   "cell_type": "markdown",
   "id": "bdd88a0f",
   "metadata": {},
   "source": [
    "## Identifying the causal estimand"
   ]
  },
  {
   "cell_type": "markdown",
   "id": "e1a377fb",
   "metadata": {},
   "source": [
    "We now input a causal graph in the GML graph format."
   ]
  },
  {
   "cell_type": "code",
   "execution_count": 4,
   "id": "629ca81d",
   "metadata": {
    "execution": {
     "iopub.execute_input": "2022-07-20T21:24:29.692091Z",
     "iopub.status.busy": "2022-07-20T21:24:29.690755Z",
     "iopub.status.idle": "2022-07-20T21:24:29.727640Z",
     "shell.execute_reply": "2022-07-20T21:24:29.726877Z"
    }
   },
   "outputs": [],
   "source": [
    "# With graph\n",
    "model=CausalModel(\n",
    "        data = df,\n",
    "        treatment=data[\"treatment_name\"],\n",
    "        outcome=data[\"outcome_name\"],\n",
    "        graph=data[\"gml_graph\"],\n",
    "        instruments=data[\"instrument_names\"]\n",
    "        )"
   ]
  },
  {
   "cell_type": "code",
   "execution_count": 5,
   "id": "02539800",
   "metadata": {
    "execution": {
     "iopub.execute_input": "2022-07-20T21:24:29.732566Z",
     "iopub.status.busy": "2022-07-20T21:24:29.730978Z",
     "iopub.status.idle": "2022-07-20T21:24:29.805769Z",
     "shell.execute_reply": "2022-07-20T21:24:29.804462Z"
    }
   },
   "outputs": [],
   "source": [
    "model.view_model()"
   ]
  },
  {
   "cell_type": "code",
   "execution_count": 6,
   "id": "1b544b87",
   "metadata": {
    "execution": {
     "iopub.execute_input": "2022-07-20T21:24:29.809490Z",
     "iopub.status.busy": "2022-07-20T21:24:29.809205Z",
     "iopub.status.idle": "2022-07-20T21:24:29.841523Z",
     "shell.execute_reply": "2022-07-20T21:24:29.840808Z"
    }
   },
   "outputs": [
    {
     "data": {
      "image/png": "[encoded data removed]",
      "text/plain": [
       "<IPython.core.display.Image object>"
      ]
     },
     "metadata": {},
     "output_type": "display_data"
    }
   ],
   "source": [
    "from IPython.display import Image, display\n",
    "display(Image(filename=\"causal_model.png\"))"
   ]
  },
  {
   "cell_type": "markdown",
   "id": "ed5a96c3",
   "metadata": {},
   "source": [
    "We get a causal graph. Now identification and estimation is done."
   ]
  },
  {
   "cell_type": "code",
   "execution_count": 7,
   "id": "23536f2e",
   "metadata": {
    "execution": {
     "iopub.execute_input": "2022-07-20T21:24:29.845047Z",
     "iopub.status.busy": "2022-07-20T21:24:29.844646Z",
     "iopub.status.idle": "2022-07-20T21:24:30.119322Z",
     "shell.execute_reply": "2022-07-20T21:24:30.118198Z"
    }
   },
   "outputs": [
    {
     "name": "stdout",
     "output_type": "stream",
     "text": [
      "Estimand type: nonparametric-ate\n",
      "\n",
      "### Estimand : 1\n",
      "Estimand name: backdoor\n",
      "Estimand expression:\n",
      "  d                       \n",
      "─────(E[y|W0,W1,W2,W4,W3])\n",
      "d[v₀]                     \n",
      "Estimand assumption 1, Unconfoundedness: If U→{v0} and U→y then P(y|v0,W0,W1,W2,W4,W3,U) = P(y|v0,W0,W1,W2,W4,W3)\n",
      "\n",
      "### Estimand : 2\n",
      "Estimand name: iv\n",
      "Estimand expression:\n",
      " ⎡                              -1⎤\n",
      " ⎢    d        ⎛    d          ⎞  ⎥\n",
      "E⎢─────────(y)⋅⎜─────────([v₀])⎟  ⎥\n",
      " ⎣d[Z₀  Z₁]    ⎝d[Z₀  Z₁]      ⎠  ⎦\n",
      "Estimand assumption 1, As-if-random: If U→→y then ¬(U →→{Z0,Z1})\n",
      "Estimand assumption 2, Exclusion: If we remove {Z0,Z1}→{v0}, then ¬({Z0,Z1}→y)\n",
      "\n",
      "### Estimand : 3\n",
      "Estimand name: frontdoor\n",
      "No such variable(s) found!\n",
      "\n"
     ]
    }
   ],
   "source": [
    "identified_estimand = model.identify_effect(proceed_when_unidentifiable=True)\n",
    "print(identified_estimand)"
   ]
  },
  {
   "cell_type": "markdown",
   "id": "f55c6916",
   "metadata": {},
   "source": [
    "## Method 1: Propensity Score Stratification\n",
    "\n",
    "We will be using propensity scores to stratify units in the data."
   ]
  },
  {
   "cell_type": "code",
   "execution_count": 8,
   "id": "095feae9",
   "metadata": {
    "execution": {
     "iopub.execute_input": "2022-07-20T21:24:30.124225Z",
     "iopub.status.busy": "2022-07-20T21:24:30.123444Z",
     "iopub.status.idle": "2022-07-20T21:24:31.060178Z",
     "shell.execute_reply": "2022-07-20T21:24:31.059330Z"
    }
   },
   "outputs": [
    {
     "name": "stdout",
     "output_type": "stream",
     "text": [
      "propensity_score_stratification\n"
     ]
    },
    {
     "name": "stderr",
     "output_type": "stream",
     "text": [
      "/usr/local/lib/python3.8/dist-packages/sklearn/utils/validation.py:993: DataConversionWarning: A column-vector y was passed when a 1d array was expected. Please change the shape of y to (n_samples, ), for example using ravel().\n",
      "  y = column_or_1d(y, warn=True)\n"
     ]
    },
    {
     "name": "stdout",
     "output_type": "stream",
     "text": [
      "*** Causal Estimate ***\n",
      "\n",
      "## Identified estimand\n",
      "Estimand type: nonparametric-ate\n",
      "\n",
      "### Estimand : 1\n",
      "Estimand name: backdoor\n",
      "Estimand expression:\n",
      "  d                       \n",
      "─────(E[y|W0,W1,W2,W4,W3])\n",
      "d[v₀]                     \n",
      "Estimand assumption 1, Unconfoundedness: If U→{v0} and U→y then P(y|v0,W0,W1,W2,W4,W3,U) = P(y|v0,W0,W1,W2,W4,W3)\n",
      "\n",
      "## Realized estimand\n",
      "b: y~v0+W0+W1+W2+W4+W3\n",
      "Target units: att\n",
      "\n",
      "## Estimate\n",
      "Mean value: 0.9975756197457867\n",
      "\n",
      "Causal Estimate is 0.9975756197457867\n"
     ]
    }
   ],
   "source": [
    "causal_estimate_strat = model.estimate_effect(identified_estimand,\n",
    "                                              method_name=\"backdoor.propensity_score_stratification\",\n",
    "                                              target_units=\"att\")\n",
    "print(causal_estimate_strat)\n",
    "print(\"Causal Estimate is \" + str(causal_estimate_strat.value))"
   ]
  },
  {
   "cell_type": "markdown",
   "id": "80635636",
   "metadata": {},
   "source": [
    "### Textual Interpreter\n",
    "\n",
    "The textual Interpreter describes (in words) the effect of unit change in the treatment variable on the outcome variable."
   ]
  },
  {
   "cell_type": "code",
   "execution_count": 9,
   "id": "e9f75d82",
   "metadata": {
    "execution": {
     "iopub.execute_input": "2022-07-20T21:24:31.064349Z",
     "iopub.status.busy": "2022-07-20T21:24:31.063935Z",
     "iopub.status.idle": "2022-07-20T21:24:31.095328Z",
     "shell.execute_reply": "2022-07-20T21:24:31.094551Z"
    }
   },
   "outputs": [
    {
     "name": "stdout",
     "output_type": "stream",
     "text": [
      "Increasing the treatment variable(s) [v0] from 0 to 1 causes an increase of 0.9975756197457867 in the expected value of the outcome [y], over the data distribution/population represented by the dataset.\n"
     ]
    }
   ],
   "source": [
    "# Textual Interpreter\n",
    "interpretation = causal_estimate_strat.interpret(method_name=\"textual_effect_interpreter\")"
   ]
  },
  {
   "cell_type": "markdown",
   "id": "142be809",
   "metadata": {},
   "source": [
    "### Visual Interpreter\n",
    "\n",
    "The visual interpreter plots the change in the standardized mean difference (SMD) before and after Propensity Score based adjustment of the dataset. The formula for SMD is given below.\n",
    "\n",
    "\n",
    "$SMD = \\frac{\\bar X_{1} - \\bar X_{2}}{\\sqrt{(S_{1}^{2} + S_{2}^{2})/2}}$\n",
    "\n",
    "Here, $\\bar X_{1}$ and $\\bar X_{2}$ are the sample mean for the treated and control groups.\n"
   ]
  },
  {
   "cell_type": "code",
   "execution_count": 10,
   "id": "e023bd24",
   "metadata": {
    "execution": {
     "iopub.execute_input": "2022-07-20T21:24:31.098842Z",
     "iopub.status.busy": "2022-07-20T21:24:31.098312Z",
     "iopub.status.idle": "2022-07-20T21:24:32.223872Z",
     "shell.execute_reply": "2022-07-20T21:24:32.223068Z"
    }
   },
   "outputs": [
    {
     "data": {
      "image/png": "[encoded data removed]",
      "text/plain": [
       "<Figure size 432x288 with 1 Axes>"
      ]
     },
     "metadata": {
      "needs_background": "light"
     },
     "output_type": "display_data"
    }
   ],
   "source": [
    "# Visual Interpreter\n",
    "interpretation = causal_estimate_strat.interpret(method_name=\"propensity_balance_interpreter\")"
   ]
  },
  {
   "cell_type": "markdown",
   "id": "9f171c27",
   "metadata": {},
   "source": [
    "This plot shows how the SMD decreases from the unadjusted to the stratified units. "
   ]
  },
  {
   "cell_type": "markdown",
   "id": "1ff0ff3d",
   "metadata": {},
   "source": [
    "## Method 2: Propensity Score Matching\n",
    "\n",
    "We will be using propensity scores to match units in the data."
   ]
  },
  {
   "cell_type": "code",
   "execution_count": 11,
   "id": "48c460ce",
   "metadata": {
    "execution": {
     "iopub.execute_input": "2022-07-20T21:24:32.228381Z",
     "iopub.status.busy": "2022-07-20T21:24:32.227774Z",
     "iopub.status.idle": "2022-07-20T21:24:36.657748Z",
     "shell.execute_reply": "2022-07-20T21:24:36.657017Z"
    }
   },
   "outputs": [
    {
     "name": "stdout",
     "output_type": "stream",
     "text": [
      "propensity_score_matching\n"
     ]
    },
    {
     "name": "stderr",
     "output_type": "stream",
     "text": [
      "/usr/local/lib/python3.8/dist-packages/sklearn/utils/validation.py:993: DataConversionWarning: A column-vector y was passed when a 1d array was expected. Please change the shape of y to (n_samples, ), for example using ravel().\n",
      "  y = column_or_1d(y, warn=True)\n"
     ]
    },
    {
     "name": "stdout",
     "output_type": "stream",
     "text": [
      "*** Causal Estimate ***\n",
      "\n",
      "## Identified estimand\n",
      "Estimand type: nonparametric-ate\n",
      "\n",
      "### Estimand : 1\n",
      "Estimand name: backdoor\n",
      "Estimand expression:\n",
      "  d                       \n",
      "─────(E[y|W0,W1,W2,W4,W3])\n",
      "d[v₀]                     \n",
      "Estimand assumption 1, Unconfoundedness: If U→{v0} and U→y then P(y|v0,W0,W1,W2,W4,W3,U) = P(y|v0,W0,W1,W2,W4,W3)\n",
      "\n",
      "## Realized estimand\n",
      "b: y~v0+W0+W1+W2+W4+W3\n",
      "Target units: atc\n",
      "\n",
      "## Estimate\n",
      "Mean value: 0.9476950294711263\n",
      "\n",
      "Causal Estimate is 0.9476950294711263\n"
     ]
    }
   ],
   "source": [
    "causal_estimate_match = model.estimate_effect(identified_estimand,\n",
    "                                              method_name=\"backdoor.propensity_score_matching\",\n",
    "                                              target_units=\"atc\")\n",
    "print(causal_estimate_match)\n",
    "print(\"Causal Estimate is \" + str(causal_estimate_match.value))"
   ]
  },
  {
   "cell_type": "code",
   "execution_count": 12,
   "id": "d409ee23",
   "metadata": {
    "execution": {
     "iopub.execute_input": "2022-07-20T21:24:36.661575Z",
     "iopub.status.busy": "2022-07-20T21:24:36.661279Z",
     "iopub.status.idle": "2022-07-20T21:24:36.690078Z",
     "shell.execute_reply": "2022-07-20T21:24:36.688842Z"
    }
   },
   "outputs": [
    {
     "name": "stdout",
     "output_type": "stream",
     "text": [
      "Increasing the treatment variable(s) [v0] from 0 to 1 causes an increase of 0.9476950294711263 in the expected value of the outcome [y], over the data distribution/population represented by the dataset.\n"
     ]
    }
   ],
   "source": [
    "# Textual Interpreter\n",
    "interpretation = causal_estimate_match.interpret(method_name=\"textual_effect_interpreter\")"
   ]
  },
  {
   "cell_type": "markdown",
   "id": "73a3327f",
   "metadata": {},
   "source": [
    "Cannot use propensity balance interpretor here since the interpreter method only supports propensity score stratification estimator."
   ]
  },
  {
   "cell_type": "markdown",
   "id": "06157faa",
   "metadata": {},
   "source": [
    "## Method 3: Weighting\n",
    "\n",
    "We will be using (inverse) propensity scores to assign weights to units in the data. DoWhy supports a few different weighting schemes:\n",
    "1. Vanilla Inverse Propensity Score weighting (IPS) (weighting_scheme=\"ips_weight\")\n",
    "2. Self-normalized IPS weighting (also known as the Hajek estimator) (weighting_scheme=\"ips_normalized_weight\")\n",
    "3. Stabilized IPS weighting (weighting_scheme = \"ips_stabilized_weight\")"
   ]
  },
  {
   "cell_type": "code",
   "execution_count": 13,
   "id": "be1d75fc",
   "metadata": {
    "execution": {
     "iopub.execute_input": "2022-07-20T21:24:36.693478Z",
     "iopub.status.busy": "2022-07-20T21:24:36.692959Z",
     "iopub.status.idle": "2022-07-20T21:24:36.761814Z",
     "shell.execute_reply": "2022-07-20T21:24:36.759657Z"
    }
   },
   "outputs": [
    {
     "name": "stdout",
     "output_type": "stream",
     "text": [
      "propensity_score_weighting\n",
      "*** Causal Estimate ***\n",
      "\n",
      "## Identified estimand\n",
      "Estimand type: nonparametric-ate\n",
      "\n",
      "### Estimand : 1\n",
      "Estimand name: backdoor\n",
      "Estimand expression:\n",
      "  d                       \n",
      "─────(E[y|W0,W1,W2,W4,W3])\n",
      "d[v₀]                     \n",
      "Estimand assumption 1, Unconfoundedness: If U→{v0} and U→y then P(y|v0,W0,W1,W2,W4,W3,U) = P(y|v0,W0,W1,W2,W4,W3)\n",
      "\n",
      "## Realized estimand\n",
      "b: y~v0+W0+W1+W2+W4+W3\n",
      "Target units: ate\n",
      "\n",
      "## Estimate\n",
      "Mean value: 1.1543528875953049\n",
      "\n",
      "Causal Estimate is 1.1543528875953049\n"
     ]
    },
    {
     "name": "stderr",
     "output_type": "stream",
     "text": [
      "/usr/local/lib/python3.8/dist-packages/sklearn/utils/validation.py:993: DataConversionWarning: A column-vector y was passed when a 1d array was expected. Please change the shape of y to (n_samples, ), for example using ravel().\n",
      "  y = column_or_1d(y, warn=True)\n"
     ]
    }
   ],
   "source": [
    "causal_estimate_ipw = model.estimate_effect(identified_estimand,\n",
    "                                            method_name=\"backdoor.propensity_score_weighting\",\n",
    "                                            target_units = \"ate\",\n",
    "                                            method_params={\"weighting_scheme\":\"ips_weight\"})\n",
    "print(causal_estimate_ipw)\n",
    "print(\"Causal Estimate is \" + str(causal_estimate_ipw.value))"
   ]
  },
  {
   "cell_type": "code",
   "execution_count": 14,
   "id": "5de1cdfd",
   "metadata": {
    "execution": {
     "iopub.execute_input": "2022-07-20T21:24:36.764623Z",
     "iopub.status.busy": "2022-07-20T21:24:36.764183Z",
     "iopub.status.idle": "2022-07-20T21:24:36.791344Z",
     "shell.execute_reply": "2022-07-20T21:24:36.790893Z"
    }
   },
   "outputs": [
    {
     "name": "stdout",
     "output_type": "stream",
     "text": [
      "Increasing the treatment variable(s) [v0] from 0 to 1 causes an increase of 1.1543528875953049 in the expected value of the outcome [y], over the data distribution/population represented by the dataset.\n"
     ]
    }
   ],
   "source": [
    "# Textual Interpreter\n",
    "interpretation = causal_estimate_ipw.interpret(method_name=\"textual_effect_interpreter\")"
   ]
  },
  {
   "cell_type": "code",
   "execution_count": 15,
   "id": "3a929a0d",
   "metadata": {
    "execution": {
     "iopub.execute_input": "2022-07-20T21:24:36.794167Z",
     "iopub.status.busy": "2022-07-20T21:24:36.793799Z",
     "iopub.status.idle": "2022-07-20T21:24:37.034882Z",
     "shell.execute_reply": "2022-07-20T21:24:37.034341Z"
    }
   },
   "outputs": [
    {
     "data": {
      "image/png": "[encoded data removed]",
      "text/plain": [
       "<Figure size 576x576 with 2 Axes>"
      ]
     },
     "metadata": {
      "needs_background": "light"
     },
     "output_type": "display_data"
    }
   ],
   "source": [
    "interpretation = causal_estimate_ipw.interpret(method_name=\"confounder_distribution_interpreter\", fig_size=(8,8), font_size=12, var_name='W4', var_type='discrete')"
   ]
  },
  {
   "cell_type": "code",
   "execution_count": null,
   "id": "95c75a1a",
   "metadata": {},
   "outputs": [],
   "source": []
  }
 ],
 "metadata": {
  "kernelspec": {
   "display_name": "Python 3",
   "language": "python",
   "name": "python3"
  },
  "language_info": {
   "codemirror_mode": {
    "name": "ipython",
    "version": 3
   },
   "file_extension": ".py",
   "mimetype": "text/x-python",
   "name": "python",
   "nbconvert_exporter": "python",
   "pygments_lexer": "ipython3",
   "version": "3.8.10"
  },
  "toc": {
   "base_numbering": 1,
   "nav_menu": {},
   "number_sections": false,
   "sideBar": true,
   "skip_h1_title": true,
   "title_cell": "Table of Contents",
   "title_sidebar": "Contents",
   "toc_cell": false,
   "toc_position": {},
   "toc_section_display": true,
   "toc_window_display": false
  }
 },
 "nbformat": 4,
 "nbformat_minor": 5
}
