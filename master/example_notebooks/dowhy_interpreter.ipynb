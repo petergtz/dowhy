{
 "cells": [
  {
   "cell_type": "markdown",
   "id": "1d377d45",
   "metadata": {},
   "source": [
    "# DoWhy: Interpreters for Causal Estimators\n",
    "\n",
    "This is a quick introduction to the use of interpreters in the DoWhy causal inference library.\n",
    "We will load in a sample dataset, use different methods for estimating the causal effect of a (pre-specified)treatment variable on a (pre-specified) outcome variable and demonstrate how to interpret the obtained results.\n",
    "\n",
    "First, let us add the required path for Python to find the DoWhy code and load all required packages"
   ]
  },
  {
   "cell_type": "code",
   "execution_count": 1,
   "id": "22139e8b",
   "metadata": {
    "execution": {
     "iopub.execute_input": "2022-07-19T20:30:05.297238Z",
     "iopub.status.busy": "2022-07-19T20:30:05.296882Z",
     "iopub.status.idle": "2022-07-19T20:30:05.313769Z",
     "shell.execute_reply": "2022-07-19T20:30:05.313174Z"
    }
   },
   "outputs": [],
   "source": [
    "%load_ext autoreload\n",
    "%autoreload 2"
   ]
  },
  {
   "cell_type": "code",
   "execution_count": 2,
   "id": "dc70cff5",
   "metadata": {
    "execution": {
     "iopub.execute_input": "2022-07-19T20:30:05.316338Z",
     "iopub.status.busy": "2022-07-19T20:30:05.316132Z",
     "iopub.status.idle": "2022-07-19T20:30:06.287032Z",
     "shell.execute_reply": "2022-07-19T20:30:06.285987Z"
    }
   },
   "outputs": [
    {
     "name": "stdout",
     "output_type": "stream",
     "text": [
      "keywords are unexpanded, not using\n"
     ]
    }
   ],
   "source": [
    "import numpy as np\n",
    "import pandas as pd\n",
    "import logging\n",
    "\n",
    "import dowhy\n",
    "from dowhy import CausalModel\n",
    "import dowhy.datasets "
   ]
  },
  {
   "cell_type": "markdown",
   "id": "649aea4d",
   "metadata": {},
   "source": [
    "Now, let us load a dataset. For simplicity, we simulate a dataset with linear relationships between common causes and treatment, and common causes and outcome.\n",
    "\n",
    "Beta is the true causal effect."
   ]
  },
  {
   "cell_type": "code",
   "execution_count": 3,
   "id": "38e17962",
   "metadata": {
    "execution": {
     "iopub.execute_input": "2022-07-19T20:30:06.290694Z",
     "iopub.status.busy": "2022-07-19T20:30:06.289980Z",
     "iopub.status.idle": "2022-07-19T20:30:06.590692Z",
     "shell.execute_reply": "2022-07-19T20:30:06.590081Z"
    }
   },
   "outputs": [
    {
     "name": "stdout",
     "output_type": "stream",
     "text": [
      "9301\n"
     ]
    },
    {
     "data": {
      "text/html": [
       "<div>\n",
       "<style scoped>\n",
       "    .dataframe tbody tr th:only-of-type {\n",
       "        vertical-align: middle;\n",
       "    }\n",
       "\n",
       "    .dataframe tbody tr th {\n",
       "        vertical-align: top;\n",
       "    }\n",
       "\n",
       "    .dataframe thead th {\n",
       "        text-align: right;\n",
       "    }\n",
       "</style>\n",
       "<table border=\"1\" class=\"dataframe\">\n",
       "  <thead>\n",
       "    <tr style=\"text-align: right;\">\n",
       "      <th></th>\n",
       "      <th>Z0</th>\n",
       "      <th>Z1</th>\n",
       "      <th>W0</th>\n",
       "      <th>W1</th>\n",
       "      <th>W2</th>\n",
       "      <th>W3</th>\n",
       "      <th>W4</th>\n",
       "      <th>v0</th>\n",
       "      <th>y</th>\n",
       "    </tr>\n",
       "  </thead>\n",
       "  <tbody>\n",
       "    <tr>\n",
       "      <th>0</th>\n",
       "      <td>1.0</td>\n",
       "      <td>0.250714</td>\n",
       "      <td>-0.807483</td>\n",
       "      <td>-0.856961</td>\n",
       "      <td>-0.948650</td>\n",
       "      <td>-0.159722</td>\n",
       "      <td>3</td>\n",
       "      <td>True</td>\n",
       "      <td>1.916538</td>\n",
       "    </tr>\n",
       "    <tr>\n",
       "      <th>1</th>\n",
       "      <td>1.0</td>\n",
       "      <td>0.552097</td>\n",
       "      <td>-0.731984</td>\n",
       "      <td>-0.143173</td>\n",
       "      <td>-1.414372</td>\n",
       "      <td>0.002355</td>\n",
       "      <td>0</td>\n",
       "      <td>True</td>\n",
       "      <td>0.154534</td>\n",
       "    </tr>\n",
       "    <tr>\n",
       "      <th>2</th>\n",
       "      <td>1.0</td>\n",
       "      <td>0.998012</td>\n",
       "      <td>-1.449211</td>\n",
       "      <td>2.173317</td>\n",
       "      <td>-0.275067</td>\n",
       "      <td>-0.234064</td>\n",
       "      <td>3</td>\n",
       "      <td>True</td>\n",
       "      <td>3.273035</td>\n",
       "    </tr>\n",
       "    <tr>\n",
       "      <th>3</th>\n",
       "      <td>1.0</td>\n",
       "      <td>0.849224</td>\n",
       "      <td>-1.621797</td>\n",
       "      <td>0.071337</td>\n",
       "      <td>-2.319929</td>\n",
       "      <td>-2.849664</td>\n",
       "      <td>1</td>\n",
       "      <td>True</td>\n",
       "      <td>-1.117439</td>\n",
       "    </tr>\n",
       "    <tr>\n",
       "      <th>4</th>\n",
       "      <td>1.0</td>\n",
       "      <td>0.891425</td>\n",
       "      <td>-2.224343</td>\n",
       "      <td>-0.618836</td>\n",
       "      <td>-1.367542</td>\n",
       "      <td>-0.560829</td>\n",
       "      <td>1</td>\n",
       "      <td>True</td>\n",
       "      <td>-0.311631</td>\n",
       "    </tr>\n",
       "    <tr>\n",
       "      <th>...</th>\n",
       "      <td>...</td>\n",
       "      <td>...</td>\n",
       "      <td>...</td>\n",
       "      <td>...</td>\n",
       "      <td>...</td>\n",
       "      <td>...</td>\n",
       "      <td>...</td>\n",
       "      <td>...</td>\n",
       "      <td>...</td>\n",
       "    </tr>\n",
       "    <tr>\n",
       "      <th>9995</th>\n",
       "      <td>1.0</td>\n",
       "      <td>0.254560</td>\n",
       "      <td>0.626371</td>\n",
       "      <td>-0.471115</td>\n",
       "      <td>-0.916152</td>\n",
       "      <td>-2.195587</td>\n",
       "      <td>3</td>\n",
       "      <td>True</td>\n",
       "      <td>1.748010</td>\n",
       "    </tr>\n",
       "    <tr>\n",
       "      <th>9996</th>\n",
       "      <td>0.0</td>\n",
       "      <td>0.593234</td>\n",
       "      <td>-2.382216</td>\n",
       "      <td>0.809644</td>\n",
       "      <td>-1.225185</td>\n",
       "      <td>-1.319101</td>\n",
       "      <td>3</td>\n",
       "      <td>True</td>\n",
       "      <td>1.371177</td>\n",
       "    </tr>\n",
       "    <tr>\n",
       "      <th>9997</th>\n",
       "      <td>0.0</td>\n",
       "      <td>0.615437</td>\n",
       "      <td>-1.685647</td>\n",
       "      <td>1.452438</td>\n",
       "      <td>-0.035678</td>\n",
       "      <td>-2.091023</td>\n",
       "      <td>2</td>\n",
       "      <td>False</td>\n",
       "      <td>0.298924</td>\n",
       "    </tr>\n",
       "    <tr>\n",
       "      <th>9998</th>\n",
       "      <td>1.0</td>\n",
       "      <td>0.581613</td>\n",
       "      <td>-0.657227</td>\n",
       "      <td>0.339681</td>\n",
       "      <td>-1.401424</td>\n",
       "      <td>-0.373535</td>\n",
       "      <td>0</td>\n",
       "      <td>False</td>\n",
       "      <td>-0.766387</td>\n",
       "    </tr>\n",
       "    <tr>\n",
       "      <th>9999</th>\n",
       "      <td>1.0</td>\n",
       "      <td>0.409731</td>\n",
       "      <td>-0.907436</td>\n",
       "      <td>-1.174977</td>\n",
       "      <td>0.501217</td>\n",
       "      <td>0.244515</td>\n",
       "      <td>0</td>\n",
       "      <td>True</td>\n",
       "      <td>0.307049</td>\n",
       "    </tr>\n",
       "  </tbody>\n",
       "</table>\n",
       "<p>10000 rows × 9 columns</p>\n",
       "</div>"
      ],
      "text/plain": [
       "       Z0        Z1        W0        W1        W2        W3 W4     v0  \\\n",
       "0     1.0  0.250714 -0.807483 -0.856961 -0.948650 -0.159722  3   True   \n",
       "1     1.0  0.552097 -0.731984 -0.143173 -1.414372  0.002355  0   True   \n",
       "2     1.0  0.998012 -1.449211  2.173317 -0.275067 -0.234064  3   True   \n",
       "3     1.0  0.849224 -1.621797  0.071337 -2.319929 -2.849664  1   True   \n",
       "4     1.0  0.891425 -2.224343 -0.618836 -1.367542 -0.560829  1   True   \n",
       "...   ...       ...       ...       ...       ...       ... ..    ...   \n",
       "9995  1.0  0.254560  0.626371 -0.471115 -0.916152 -2.195587  3   True   \n",
       "9996  0.0  0.593234 -2.382216  0.809644 -1.225185 -1.319101  3   True   \n",
       "9997  0.0  0.615437 -1.685647  1.452438 -0.035678 -2.091023  2  False   \n",
       "9998  1.0  0.581613 -0.657227  0.339681 -1.401424 -0.373535  0  False   \n",
       "9999  1.0  0.409731 -0.907436 -1.174977  0.501217  0.244515  0   True   \n",
       "\n",
       "             y  \n",
       "0     1.916538  \n",
       "1     0.154534  \n",
       "2     3.273035  \n",
       "3    -1.117439  \n",
       "4    -0.311631  \n",
       "...        ...  \n",
       "9995  1.748010  \n",
       "9996  1.371177  \n",
       "9997  0.298924  \n",
       "9998 -0.766387  \n",
       "9999  0.307049  \n",
       "\n",
       "[10000 rows x 9 columns]"
      ]
     },
     "execution_count": 3,
     "metadata": {},
     "output_type": "execute_result"
    }
   ],
   "source": [
    "data = dowhy.datasets.linear_dataset(beta=1,\n",
    "        num_common_causes=5, \n",
    "        num_instruments = 2,\n",
    "        num_treatments=1,\n",
    "        num_discrete_common_causes=1,\n",
    "        num_samples=10000,\n",
    "        treatment_is_binary=True,\n",
    "        outcome_is_binary=False)\n",
    "df = data[\"df\"]\n",
    "print(df[df.v0==True].shape[0])\n",
    "df"
   ]
  },
  {
   "cell_type": "markdown",
   "id": "d5f585f0",
   "metadata": {},
   "source": [
    "Note that we are using a pandas dataframe to load the data."
   ]
  },
  {
   "cell_type": "markdown",
   "id": "0ef8bbe6",
   "metadata": {},
   "source": [
    "## Identifying the causal estimand"
   ]
  },
  {
   "cell_type": "markdown",
   "id": "1b083a44",
   "metadata": {},
   "source": [
    "We now input a causal graph in the GML graph format."
   ]
  },
  {
   "cell_type": "code",
   "execution_count": 4,
   "id": "867ff9c4",
   "metadata": {
    "execution": {
     "iopub.execute_input": "2022-07-19T20:30:06.593624Z",
     "iopub.status.busy": "2022-07-19T20:30:06.593396Z",
     "iopub.status.idle": "2022-07-19T20:30:06.619602Z",
     "shell.execute_reply": "2022-07-19T20:30:06.619096Z"
    }
   },
   "outputs": [],
   "source": [
    "# With graph\n",
    "model=CausalModel(\n",
    "        data = df,\n",
    "        treatment=data[\"treatment_name\"],\n",
    "        outcome=data[\"outcome_name\"],\n",
    "        graph=data[\"gml_graph\"],\n",
    "        instruments=data[\"instrument_names\"]\n",
    "        )"
   ]
  },
  {
   "cell_type": "code",
   "execution_count": 5,
   "id": "d3d20ef7",
   "metadata": {
    "execution": {
     "iopub.execute_input": "2022-07-19T20:30:06.622431Z",
     "iopub.status.busy": "2022-07-19T20:30:06.621799Z",
     "iopub.status.idle": "2022-07-19T20:30:06.679714Z",
     "shell.execute_reply": "2022-07-19T20:30:06.679121Z"
    }
   },
   "outputs": [],
   "source": [
    "model.view_model()"
   ]
  },
  {
   "cell_type": "code",
   "execution_count": 6,
   "id": "95840e49",
   "metadata": {
    "execution": {
     "iopub.execute_input": "2022-07-19T20:30:06.682549Z",
     "iopub.status.busy": "2022-07-19T20:30:06.682156Z",
     "iopub.status.idle": "2022-07-19T20:30:06.709085Z",
     "shell.execute_reply": "2022-07-19T20:30:06.708520Z"
    }
   },
   "outputs": [
    {
     "data": {
      "image/png": "[encoded data removed]",
      "text/plain": [
       "<IPython.core.display.Image object>"
      ]
     },
     "metadata": {},
     "output_type": "display_data"
    }
   ],
   "source": [
    "from IPython.display import Image, display\n",
    "display(Image(filename=\"causal_model.png\"))"
   ]
  },
  {
   "cell_type": "markdown",
   "id": "a28f30e4",
   "metadata": {},
   "source": [
    "We get a causal graph. Now identification and estimation is done."
   ]
  },
  {
   "cell_type": "code",
   "execution_count": 7,
   "id": "a3e0ac47",
   "metadata": {
    "execution": {
     "iopub.execute_input": "2022-07-19T20:30:06.712124Z",
     "iopub.status.busy": "2022-07-19T20:30:06.711798Z",
     "iopub.status.idle": "2022-07-19T20:30:06.931585Z",
     "shell.execute_reply": "2022-07-19T20:30:06.930932Z"
    }
   },
   "outputs": [
    {
     "name": "stdout",
     "output_type": "stream",
     "text": [
      "Estimand type: nonparametric-ate\n",
      "\n",
      "### Estimand : 1\n",
      "Estimand name: backdoor\n",
      "Estimand expression:\n",
      "  d                       \n",
      "─────(E[y|W4,W1,W2,W3,W0])\n",
      "d[v₀]                     \n",
      "Estimand assumption 1, Unconfoundedness: If U→{v0} and U→y then P(y|v0,W4,W1,W2,W3,W0,U) = P(y|v0,W4,W1,W2,W3,W0)\n",
      "\n",
      "### Estimand : 2\n",
      "Estimand name: iv\n",
      "Estimand expression:\n",
      " ⎡                              -1⎤\n",
      " ⎢    d        ⎛    d          ⎞  ⎥\n",
      "E⎢─────────(y)⋅⎜─────────([v₀])⎟  ⎥\n",
      " ⎣d[Z₁  Z₀]    ⎝d[Z₁  Z₀]      ⎠  ⎦\n",
      "Estimand assumption 1, As-if-random: If U→→y then ¬(U →→{Z1,Z0})\n",
      "Estimand assumption 2, Exclusion: If we remove {Z1,Z0}→{v0}, then ¬({Z1,Z0}→y)\n",
      "\n",
      "### Estimand : 3\n",
      "Estimand name: frontdoor\n",
      "No such variable(s) found!\n",
      "\n"
     ]
    }
   ],
   "source": [
    "identified_estimand = model.identify_effect(proceed_when_unidentifiable=True)\n",
    "print(identified_estimand)"
   ]
  },
  {
   "cell_type": "markdown",
   "id": "3320b187",
   "metadata": {},
   "source": [
    "## Method 1: Propensity Score Stratification\n",
    "\n",
    "We will be using propensity scores to stratify units in the data."
   ]
  },
  {
   "cell_type": "code",
   "execution_count": 8,
   "id": "9ff62d09",
   "metadata": {
    "execution": {
     "iopub.execute_input": "2022-07-19T20:30:06.935804Z",
     "iopub.status.busy": "2022-07-19T20:30:06.934557Z",
     "iopub.status.idle": "2022-07-19T20:30:07.605443Z",
     "shell.execute_reply": "2022-07-19T20:30:07.604808Z"
    }
   },
   "outputs": [
    {
     "name": "stdout",
     "output_type": "stream",
     "text": [
      "propensity_score_stratification\n"
     ]
    },
    {
     "name": "stderr",
     "output_type": "stream",
     "text": [
      "/usr/local/lib/python3.8/dist-packages/sklearn/utils/validation.py:993: DataConversionWarning: A column-vector y was passed when a 1d array was expected. Please change the shape of y to (n_samples, ), for example using ravel().\n",
      "  y = column_or_1d(y, warn=True)\n"
     ]
    },
    {
     "name": "stdout",
     "output_type": "stream",
     "text": [
      "*** Causal Estimate ***\n",
      "\n",
      "## Identified estimand\n",
      "Estimand type: nonparametric-ate\n",
      "\n",
      "### Estimand : 1\n",
      "Estimand name: backdoor\n",
      "Estimand expression:\n",
      "  d                       \n",
      "─────(E[y|W4,W1,W2,W3,W0])\n",
      "d[v₀]                     \n",
      "Estimand assumption 1, Unconfoundedness: If U→{v0} and U→y then P(y|v0,W4,W1,W2,W3,W0,U) = P(y|v0,W4,W1,W2,W3,W0)\n",
      "\n",
      "## Realized estimand\n",
      "b: y~v0+W4+W1+W2+W3+W0\n",
      "Target units: att\n",
      "\n",
      "## Estimate\n",
      "Mean value: 1.0117768278640458\n",
      "\n",
      "Causal Estimate is 1.0117768278640458\n"
     ]
    }
   ],
   "source": [
    "causal_estimate_strat = model.estimate_effect(identified_estimand,\n",
    "                                              method_name=\"backdoor.propensity_score_stratification\",\n",
    "                                              target_units=\"att\")\n",
    "print(causal_estimate_strat)\n",
    "print(\"Causal Estimate is \" + str(causal_estimate_strat.value))"
   ]
  },
  {
   "cell_type": "markdown",
   "id": "a3983e02",
   "metadata": {},
   "source": [
    "### Textual Interpreter\n",
    "\n",
    "The textual Interpreter describes (in words) the effect of unit change in the treatment variable on the outcome variable."
   ]
  },
  {
   "cell_type": "code",
   "execution_count": 9,
   "id": "bdc4fda5",
   "metadata": {
    "execution": {
     "iopub.execute_input": "2022-07-19T20:30:07.608388Z",
     "iopub.status.busy": "2022-07-19T20:30:07.608165Z",
     "iopub.status.idle": "2022-07-19T20:30:07.635934Z",
     "shell.execute_reply": "2022-07-19T20:30:07.635318Z"
    }
   },
   "outputs": [
    {
     "name": "stdout",
     "output_type": "stream",
     "text": [
      "Increasing the treatment variable(s) [v0] from 0 to 1 causes an increase of 1.0117768278640458 in the expected value of the outcome [y], over the data distribution/population represented by the dataset.\n"
     ]
    }
   ],
   "source": [
    "# Textual Interpreter\n",
    "interpretation = causal_estimate_strat.interpret(method_name=\"textual_effect_interpreter\")"
   ]
  },
  {
   "cell_type": "markdown",
   "id": "922e00dd",
   "metadata": {},
   "source": [
    "### Visual Interpreter\n",
    "\n",
    "The visual interpreter plots the change in the standardized mean difference (SMD) before and after Propensity Score based adjustment of the dataset. The formula for SMD is given below.\n",
    "\n",
    "\n",
    "$SMD = \\frac{\\bar X_{1} - \\bar X_{2}}{\\sqrt{(S_{1}^{2} + S_{2}^{2})/2}}$\n",
    "\n",
    "Here, $\\bar X_{1}$ and $\\bar X_{2}$ are the sample mean for the treated and control groups.\n"
   ]
  },
  {
   "cell_type": "code",
   "execution_count": 10,
   "id": "a0eecc4d",
   "metadata": {
    "execution": {
     "iopub.execute_input": "2022-07-19T20:30:07.639258Z",
     "iopub.status.busy": "2022-07-19T20:30:07.638927Z",
     "iopub.status.idle": "2022-07-19T20:30:08.565568Z",
     "shell.execute_reply": "2022-07-19T20:30:08.564947Z"
    }
   },
   "outputs": [
    {
     "data": {
      "image/png": "[encoded data removed]",
      "text/plain": [
       "<Figure size 432x288 with 1 Axes>"
      ]
     },
     "metadata": {
      "needs_background": "light"
     },
     "output_type": "display_data"
    }
   ],
   "source": [
    "# Visual Interpreter\n",
    "interpretation = causal_estimate_strat.interpret(method_name=\"propensity_balance_interpreter\")"
   ]
  },
  {
   "cell_type": "markdown",
   "id": "06f0879c",
   "metadata": {},
   "source": [
    "This plot shows how the SMD decreases from the unadjusted to the stratified units. "
   ]
  },
  {
   "cell_type": "markdown",
   "id": "b687dc1a",
   "metadata": {},
   "source": [
    "## Method 2: Propensity Score Matching\n",
    "\n",
    "We will be using propensity scores to match units in the data."
   ]
  },
  {
   "cell_type": "code",
   "execution_count": 11,
   "id": "177171f6",
   "metadata": {
    "execution": {
     "iopub.execute_input": "2022-07-19T20:30:08.570052Z",
     "iopub.status.busy": "2022-07-19T20:30:08.568695Z",
     "iopub.status.idle": "2022-07-19T20:30:12.127176Z",
     "shell.execute_reply": "2022-07-19T20:30:12.126621Z"
    }
   },
   "outputs": [
    {
     "name": "stdout",
     "output_type": "stream",
     "text": [
      "propensity_score_matching\n"
     ]
    },
    {
     "name": "stderr",
     "output_type": "stream",
     "text": [
      "/usr/local/lib/python3.8/dist-packages/sklearn/utils/validation.py:993: DataConversionWarning: A column-vector y was passed when a 1d array was expected. Please change the shape of y to (n_samples, ), for example using ravel().\n",
      "  y = column_or_1d(y, warn=True)\n"
     ]
    },
    {
     "name": "stdout",
     "output_type": "stream",
     "text": [
      "*** Causal Estimate ***\n",
      "\n",
      "## Identified estimand\n",
      "Estimand type: nonparametric-ate\n",
      "\n",
      "### Estimand : 1\n",
      "Estimand name: backdoor\n",
      "Estimand expression:\n",
      "  d                       \n",
      "─────(E[y|W4,W1,W2,W3,W0])\n",
      "d[v₀]                     \n",
      "Estimand assumption 1, Unconfoundedness: If U→{v0} and U→y then P(y|v0,W4,W1,W2,W3,W0,U) = P(y|v0,W4,W1,W2,W3,W0)\n",
      "\n",
      "## Realized estimand\n",
      "b: y~v0+W4+W1+W2+W3+W0\n",
      "Target units: atc\n",
      "\n",
      "## Estimate\n",
      "Mean value: 1.0056802467073391\n",
      "\n",
      "Causal Estimate is 1.0056802467073391\n"
     ]
    }
   ],
   "source": [
    "causal_estimate_match = model.estimate_effect(identified_estimand,\n",
    "                                              method_name=\"backdoor.propensity_score_matching\",\n",
    "                                              target_units=\"atc\")\n",
    "print(causal_estimate_match)\n",
    "print(\"Causal Estimate is \" + str(causal_estimate_match.value))"
   ]
  },
  {
   "cell_type": "code",
   "execution_count": 12,
   "id": "173bdbd2",
   "metadata": {
    "execution": {
     "iopub.execute_input": "2022-07-19T20:30:12.130155Z",
     "iopub.status.busy": "2022-07-19T20:30:12.129927Z",
     "iopub.status.idle": "2022-07-19T20:30:12.157331Z",
     "shell.execute_reply": "2022-07-19T20:30:12.156748Z"
    }
   },
   "outputs": [
    {
     "name": "stdout",
     "output_type": "stream",
     "text": [
      "Increasing the treatment variable(s) [v0] from 0 to 1 causes an increase of 1.0056802467073391 in the expected value of the outcome [y], over the data distribution/population represented by the dataset.\n"
     ]
    }
   ],
   "source": [
    "# Textual Interpreter\n",
    "interpretation = causal_estimate_match.interpret(method_name=\"textual_effect_interpreter\")"
   ]
  },
  {
   "cell_type": "markdown",
   "id": "83ca94a8",
   "metadata": {},
   "source": [
    "Cannot use propensity balance interpretor here since the interpreter method only supports propensity score stratification estimator."
   ]
  },
  {
   "cell_type": "markdown",
   "id": "73be8a1e",
   "metadata": {},
   "source": [
    "## Method 3: Weighting\n",
    "\n",
    "We will be using (inverse) propensity scores to assign weights to units in the data. DoWhy supports a few different weighting schemes:\n",
    "1. Vanilla Inverse Propensity Score weighting (IPS) (weighting_scheme=\"ips_weight\")\n",
    "2. Self-normalized IPS weighting (also known as the Hajek estimator) (weighting_scheme=\"ips_normalized_weight\")\n",
    "3. Stabilized IPS weighting (weighting_scheme = \"ips_stabilized_weight\")"
   ]
  },
  {
   "cell_type": "code",
   "execution_count": 13,
   "id": "dd0d34a2",
   "metadata": {
    "execution": {
     "iopub.execute_input": "2022-07-19T20:30:12.160209Z",
     "iopub.status.busy": "2022-07-19T20:30:12.159996Z",
     "iopub.status.idle": "2022-07-19T20:30:12.223649Z",
     "shell.execute_reply": "2022-07-19T20:30:12.223030Z"
    }
   },
   "outputs": [
    {
     "name": "stdout",
     "output_type": "stream",
     "text": [
      "propensity_score_weighting\n",
      "*** Causal Estimate ***\n",
      "\n",
      "## Identified estimand\n",
      "Estimand type: nonparametric-ate\n",
      "\n",
      "### Estimand : 1\n",
      "Estimand name: backdoor\n",
      "Estimand expression:\n",
      "  d                       \n",
      "─────(E[y|W4,W1,W2,W3,W0])\n",
      "d[v₀]                     \n",
      "Estimand assumption 1, Unconfoundedness: If U→{v0} and U→y then P(y|v0,W4,W1,W2,W3,W0,U) = P(y|v0,W4,W1,W2,W3,W0)\n",
      "\n",
      "## Realized estimand\n",
      "b: y~v0+W4+W1+W2+W3+W0\n",
      "Target units: ate\n",
      "\n",
      "## Estimate\n",
      "Mean value: 1.5131238882063414\n",
      "\n",
      "Causal Estimate is 1.5131238882063414\n"
     ]
    },
    {
     "name": "stderr",
     "output_type": "stream",
     "text": [
      "/usr/local/lib/python3.8/dist-packages/sklearn/utils/validation.py:993: DataConversionWarning: A column-vector y was passed when a 1d array was expected. Please change the shape of y to (n_samples, ), for example using ravel().\n",
      "  y = column_or_1d(y, warn=True)\n"
     ]
    }
   ],
   "source": [
    "causal_estimate_ipw = model.estimate_effect(identified_estimand,\n",
    "                                            method_name=\"backdoor.propensity_score_weighting\",\n",
    "                                            target_units = \"ate\",\n",
    "                                            method_params={\"weighting_scheme\":\"ips_weight\"})\n",
    "print(causal_estimate_ipw)\n",
    "print(\"Causal Estimate is \" + str(causal_estimate_ipw.value))"
   ]
  },
  {
   "cell_type": "code",
   "execution_count": 14,
   "id": "d7a6bb45",
   "metadata": {
    "execution": {
     "iopub.execute_input": "2022-07-19T20:30:12.226719Z",
     "iopub.status.busy": "2022-07-19T20:30:12.226496Z",
     "iopub.status.idle": "2022-07-19T20:30:12.252284Z",
     "shell.execute_reply": "2022-07-19T20:30:12.251721Z"
    }
   },
   "outputs": [
    {
     "name": "stdout",
     "output_type": "stream",
     "text": [
      "Increasing the treatment variable(s) [v0] from 0 to 1 causes an increase of 1.5131238882063414 in the expected value of the outcome [y], over the data distribution/population represented by the dataset.\n"
     ]
    }
   ],
   "source": [
    "# Textual Interpreter\n",
    "interpretation = causal_estimate_ipw.interpret(method_name=\"textual_effect_interpreter\")"
   ]
  },
  {
   "cell_type": "code",
   "execution_count": 15,
   "id": "1871f085",
   "metadata": {
    "execution": {
     "iopub.execute_input": "2022-07-19T20:30:12.255494Z",
     "iopub.status.busy": "2022-07-19T20:30:12.255284Z",
     "iopub.status.idle": "2022-07-19T20:30:12.493897Z",
     "shell.execute_reply": "2022-07-19T20:30:12.493263Z"
    }
   },
   "outputs": [
    {
     "data": {
      "image/png": "[encoded data removed]",
      "text/plain": [
       "<Figure size 576x576 with 2 Axes>"
      ]
     },
     "metadata": {
      "needs_background": "light"
     },
     "output_type": "display_data"
    }
   ],
   "source": [
    "interpretation = causal_estimate_ipw.interpret(method_name=\"confounder_distribution_interpreter\", fig_size=(8,8), font_size=12, var_name='W4', var_type='discrete')"
   ]
  },
  {
   "cell_type": "code",
   "execution_count": null,
   "id": "e770d577",
   "metadata": {},
   "outputs": [],
   "source": []
  }
 ],
 "metadata": {
  "kernelspec": {
   "display_name": "Python 3",
   "language": "python",
   "name": "python3"
  },
  "language_info": {
   "codemirror_mode": {
    "name": "ipython",
    "version": 3
   },
   "file_extension": ".py",
   "mimetype": "text/x-python",
   "name": "python",
   "nbconvert_exporter": "python",
   "pygments_lexer": "ipython3",
   "version": "3.8.10"
  },
  "toc": {
   "base_numbering": 1,
   "nav_menu": {},
   "number_sections": false,
   "sideBar": true,
   "skip_h1_title": true,
   "title_cell": "Table of Contents",
   "title_sidebar": "Contents",
   "toc_cell": false,
   "toc_position": {},
   "toc_section_display": true,
   "toc_window_display": false
  }
 },
 "nbformat": 4,
 "nbformat_minor": 5
}
