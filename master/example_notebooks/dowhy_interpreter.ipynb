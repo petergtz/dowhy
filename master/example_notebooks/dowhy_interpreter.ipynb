{
 "cells": [
  {
   "cell_type": "markdown",
   "id": "a5e0acd7",
   "metadata": {},
   "source": [
    "# DoWhy: Interpreters for Causal Estimators\n",
    "\n",
    "This is a quick introduction to the use of interpreters in the DoWhy causal inference library.\n",
    "We will load in a sample dataset, use different methods for estimating the causal effect of a (pre-specified)treatment variable on a (pre-specified) outcome variable and demonstrate how to interpret the obtained results.\n",
    "\n",
    "First, let us add the required path for Python to find the DoWhy code and load all required packages"
   ]
  },
  {
   "cell_type": "code",
   "execution_count": 1,
   "id": "e1021b68",
   "metadata": {
    "execution": {
     "iopub.execute_input": "2022-07-20T18:02:26.719698Z",
     "iopub.status.busy": "2022-07-20T18:02:26.719372Z",
     "iopub.status.idle": "2022-07-20T18:02:26.738348Z",
     "shell.execute_reply": "2022-07-20T18:02:26.737647Z"
    }
   },
   "outputs": [],
   "source": [
    "%load_ext autoreload\n",
    "%autoreload 2"
   ]
  },
  {
   "cell_type": "code",
   "execution_count": 2,
   "id": "65e17280",
   "metadata": {
    "execution": {
     "iopub.execute_input": "2022-07-20T18:02:26.742666Z",
     "iopub.status.busy": "2022-07-20T18:02:26.741921Z",
     "iopub.status.idle": "2022-07-20T18:02:27.914592Z",
     "shell.execute_reply": "2022-07-20T18:02:27.913611Z"
    }
   },
   "outputs": [
    {
     "name": "stdout",
     "output_type": "stream",
     "text": [
      "keywords are unexpanded, not using\n"
     ]
    }
   ],
   "source": [
    "import numpy as np\n",
    "import pandas as pd\n",
    "import logging\n",
    "\n",
    "import dowhy\n",
    "from dowhy import CausalModel\n",
    "import dowhy.datasets "
   ]
  },
  {
   "cell_type": "markdown",
   "id": "124f4a04",
   "metadata": {},
   "source": [
    "Now, let us load a dataset. For simplicity, we simulate a dataset with linear relationships between common causes and treatment, and common causes and outcome.\n",
    "\n",
    "Beta is the true causal effect."
   ]
  },
  {
   "cell_type": "code",
   "execution_count": 3,
   "id": "d752e215",
   "metadata": {
    "execution": {
     "iopub.execute_input": "2022-07-20T18:02:27.919069Z",
     "iopub.status.busy": "2022-07-20T18:02:27.918338Z",
     "iopub.status.idle": "2022-07-20T18:02:28.236500Z",
     "shell.execute_reply": "2022-07-20T18:02:28.235886Z"
    }
   },
   "outputs": [
    {
     "name": "stdout",
     "output_type": "stream",
     "text": [
      "8248\n"
     ]
    },
    {
     "data": {
      "text/html": [
       "<div>\n",
       "<style scoped>\n",
       "    .dataframe tbody tr th:only-of-type {\n",
       "        vertical-align: middle;\n",
       "    }\n",
       "\n",
       "    .dataframe tbody tr th {\n",
       "        vertical-align: top;\n",
       "    }\n",
       "\n",
       "    .dataframe thead th {\n",
       "        text-align: right;\n",
       "    }\n",
       "</style>\n",
       "<table border=\"1\" class=\"dataframe\">\n",
       "  <thead>\n",
       "    <tr style=\"text-align: right;\">\n",
       "      <th></th>\n",
       "      <th>Z0</th>\n",
       "      <th>Z1</th>\n",
       "      <th>W0</th>\n",
       "      <th>W1</th>\n",
       "      <th>W2</th>\n",
       "      <th>W3</th>\n",
       "      <th>W4</th>\n",
       "      <th>v0</th>\n",
       "      <th>y</th>\n",
       "    </tr>\n",
       "  </thead>\n",
       "  <tbody>\n",
       "    <tr>\n",
       "      <th>0</th>\n",
       "      <td>0.0</td>\n",
       "      <td>0.143431</td>\n",
       "      <td>-0.466367</td>\n",
       "      <td>-0.160878</td>\n",
       "      <td>0.047030</td>\n",
       "      <td>0.668102</td>\n",
       "      <td>3</td>\n",
       "      <td>False</td>\n",
       "      <td>1.466720</td>\n",
       "    </tr>\n",
       "    <tr>\n",
       "      <th>1</th>\n",
       "      <td>0.0</td>\n",
       "      <td>0.868936</td>\n",
       "      <td>0.087102</td>\n",
       "      <td>-1.814833</td>\n",
       "      <td>0.163561</td>\n",
       "      <td>1.452059</td>\n",
       "      <td>3</td>\n",
       "      <td>True</td>\n",
       "      <td>3.436956</td>\n",
       "    </tr>\n",
       "    <tr>\n",
       "      <th>2</th>\n",
       "      <td>0.0</td>\n",
       "      <td>0.544928</td>\n",
       "      <td>0.288191</td>\n",
       "      <td>0.698136</td>\n",
       "      <td>0.718951</td>\n",
       "      <td>1.072493</td>\n",
       "      <td>2</td>\n",
       "      <td>True</td>\n",
       "      <td>3.199473</td>\n",
       "    </tr>\n",
       "    <tr>\n",
       "      <th>3</th>\n",
       "      <td>0.0</td>\n",
       "      <td>0.297770</td>\n",
       "      <td>0.508180</td>\n",
       "      <td>1.640048</td>\n",
       "      <td>1.275589</td>\n",
       "      <td>0.407512</td>\n",
       "      <td>3</td>\n",
       "      <td>True</td>\n",
       "      <td>3.659151</td>\n",
       "    </tr>\n",
       "    <tr>\n",
       "      <th>4</th>\n",
       "      <td>1.0</td>\n",
       "      <td>0.953464</td>\n",
       "      <td>0.679785</td>\n",
       "      <td>-0.956352</td>\n",
       "      <td>0.911716</td>\n",
       "      <td>0.476248</td>\n",
       "      <td>3</td>\n",
       "      <td>True</td>\n",
       "      <td>3.592848</td>\n",
       "    </tr>\n",
       "    <tr>\n",
       "      <th>...</th>\n",
       "      <td>...</td>\n",
       "      <td>...</td>\n",
       "      <td>...</td>\n",
       "      <td>...</td>\n",
       "      <td>...</td>\n",
       "      <td>...</td>\n",
       "      <td>...</td>\n",
       "      <td>...</td>\n",
       "      <td>...</td>\n",
       "    </tr>\n",
       "    <tr>\n",
       "      <th>9995</th>\n",
       "      <td>0.0</td>\n",
       "      <td>0.481528</td>\n",
       "      <td>0.065942</td>\n",
       "      <td>2.005594</td>\n",
       "      <td>0.914516</td>\n",
       "      <td>1.731723</td>\n",
       "      <td>2</td>\n",
       "      <td>True</td>\n",
       "      <td>3.605284</td>\n",
       "    </tr>\n",
       "    <tr>\n",
       "      <th>9996</th>\n",
       "      <td>0.0</td>\n",
       "      <td>0.882067</td>\n",
       "      <td>0.901437</td>\n",
       "      <td>-0.583101</td>\n",
       "      <td>-1.070049</td>\n",
       "      <td>-2.312421</td>\n",
       "      <td>1</td>\n",
       "      <td>False</td>\n",
       "      <td>-0.952143</td>\n",
       "    </tr>\n",
       "    <tr>\n",
       "      <th>9997</th>\n",
       "      <td>1.0</td>\n",
       "      <td>0.394870</td>\n",
       "      <td>-1.627007</td>\n",
       "      <td>0.844161</td>\n",
       "      <td>-0.940936</td>\n",
       "      <td>0.843687</td>\n",
       "      <td>0</td>\n",
       "      <td>True</td>\n",
       "      <td>-0.074207</td>\n",
       "    </tr>\n",
       "    <tr>\n",
       "      <th>9998</th>\n",
       "      <td>0.0</td>\n",
       "      <td>0.798427</td>\n",
       "      <td>0.370849</td>\n",
       "      <td>0.184037</td>\n",
       "      <td>-1.856890</td>\n",
       "      <td>3.000880</td>\n",
       "      <td>1</td>\n",
       "      <td>True</td>\n",
       "      <td>2.854717</td>\n",
       "    </tr>\n",
       "    <tr>\n",
       "      <th>9999</th>\n",
       "      <td>0.0</td>\n",
       "      <td>0.004259</td>\n",
       "      <td>1.490605</td>\n",
       "      <td>-0.233417</td>\n",
       "      <td>1.220152</td>\n",
       "      <td>0.578601</td>\n",
       "      <td>2</td>\n",
       "      <td>True</td>\n",
       "      <td>3.975488</td>\n",
       "    </tr>\n",
       "  </tbody>\n",
       "</table>\n",
       "<p>10000 rows × 9 columns</p>\n",
       "</div>"
      ],
      "text/plain": [
       "       Z0        Z1        W0        W1        W2        W3 W4     v0  \\\n",
       "0     0.0  0.143431 -0.466367 -0.160878  0.047030  0.668102  3  False   \n",
       "1     0.0  0.868936  0.087102 -1.814833  0.163561  1.452059  3   True   \n",
       "2     0.0  0.544928  0.288191  0.698136  0.718951  1.072493  2   True   \n",
       "3     0.0  0.297770  0.508180  1.640048  1.275589  0.407512  3   True   \n",
       "4     1.0  0.953464  0.679785 -0.956352  0.911716  0.476248  3   True   \n",
       "...   ...       ...       ...       ...       ...       ... ..    ...   \n",
       "9995  0.0  0.481528  0.065942  2.005594  0.914516  1.731723  2   True   \n",
       "9996  0.0  0.882067  0.901437 -0.583101 -1.070049 -2.312421  1  False   \n",
       "9997  1.0  0.394870 -1.627007  0.844161 -0.940936  0.843687  0   True   \n",
       "9998  0.0  0.798427  0.370849  0.184037 -1.856890  3.000880  1   True   \n",
       "9999  0.0  0.004259  1.490605 -0.233417  1.220152  0.578601  2   True   \n",
       "\n",
       "             y  \n",
       "0     1.466720  \n",
       "1     3.436956  \n",
       "2     3.199473  \n",
       "3     3.659151  \n",
       "4     3.592848  \n",
       "...        ...  \n",
       "9995  3.605284  \n",
       "9996 -0.952143  \n",
       "9997 -0.074207  \n",
       "9998  2.854717  \n",
       "9999  3.975488  \n",
       "\n",
       "[10000 rows x 9 columns]"
      ]
     },
     "execution_count": 3,
     "metadata": {},
     "output_type": "execute_result"
    }
   ],
   "source": [
    "data = dowhy.datasets.linear_dataset(beta=1,\n",
    "        num_common_causes=5, \n",
    "        num_instruments = 2,\n",
    "        num_treatments=1,\n",
    "        num_discrete_common_causes=1,\n",
    "        num_samples=10000,\n",
    "        treatment_is_binary=True,\n",
    "        outcome_is_binary=False)\n",
    "df = data[\"df\"]\n",
    "print(df[df.v0==True].shape[0])\n",
    "df"
   ]
  },
  {
   "cell_type": "markdown",
   "id": "b7a984f8",
   "metadata": {},
   "source": [
    "Note that we are using a pandas dataframe to load the data."
   ]
  },
  {
   "cell_type": "markdown",
   "id": "387c30b4",
   "metadata": {},
   "source": [
    "## Identifying the causal estimand"
   ]
  },
  {
   "cell_type": "markdown",
   "id": "d0a5d0ae",
   "metadata": {},
   "source": [
    "We now input a causal graph in the GML graph format."
   ]
  },
  {
   "cell_type": "code",
   "execution_count": 4,
   "id": "0c5d7ea7",
   "metadata": {
    "execution": {
     "iopub.execute_input": "2022-07-20T18:02:28.239942Z",
     "iopub.status.busy": "2022-07-20T18:02:28.239526Z",
     "iopub.status.idle": "2022-07-20T18:02:28.269581Z",
     "shell.execute_reply": "2022-07-20T18:02:28.268878Z"
    }
   },
   "outputs": [],
   "source": [
    "# With graph\n",
    "model=CausalModel(\n",
    "        data = df,\n",
    "        treatment=data[\"treatment_name\"],\n",
    "        outcome=data[\"outcome_name\"],\n",
    "        graph=data[\"gml_graph\"],\n",
    "        instruments=data[\"instrument_names\"]\n",
    "        )"
   ]
  },
  {
   "cell_type": "code",
   "execution_count": 5,
   "id": "90dfb6a1",
   "metadata": {
    "execution": {
     "iopub.execute_input": "2022-07-20T18:02:28.273504Z",
     "iopub.status.busy": "2022-07-20T18:02:28.273071Z",
     "iopub.status.idle": "2022-07-20T18:02:28.339514Z",
     "shell.execute_reply": "2022-07-20T18:02:28.338742Z"
    }
   },
   "outputs": [],
   "source": [
    "model.view_model()"
   ]
  },
  {
   "cell_type": "code",
   "execution_count": 6,
   "id": "b2839034",
   "metadata": {
    "execution": {
     "iopub.execute_input": "2022-07-20T18:02:28.346417Z",
     "iopub.status.busy": "2022-07-20T18:02:28.345927Z",
     "iopub.status.idle": "2022-07-20T18:02:28.377250Z",
     "shell.execute_reply": "2022-07-20T18:02:28.376482Z"
    }
   },
   "outputs": [
    {
     "data": {
      "image/png": "[encoded data removed]",
      "text/plain": [
       "<IPython.core.display.Image object>"
      ]
     },
     "metadata": {},
     "output_type": "display_data"
    }
   ],
   "source": [
    "from IPython.display import Image, display\n",
    "display(Image(filename=\"causal_model.png\"))"
   ]
  },
  {
   "cell_type": "markdown",
   "id": "bf858992",
   "metadata": {},
   "source": [
    "We get a causal graph. Now identification and estimation is done."
   ]
  },
  {
   "cell_type": "code",
   "execution_count": 7,
   "id": "acaca48a",
   "metadata": {
    "execution": {
     "iopub.execute_input": "2022-07-20T18:02:28.381228Z",
     "iopub.status.busy": "2022-07-20T18:02:28.380828Z",
     "iopub.status.idle": "2022-07-20T18:02:28.623990Z",
     "shell.execute_reply": "2022-07-20T18:02:28.623304Z"
    }
   },
   "outputs": [
    {
     "name": "stdout",
     "output_type": "stream",
     "text": [
      "Estimand type: nonparametric-ate\n",
      "\n",
      "### Estimand : 1\n",
      "Estimand name: backdoor\n",
      "Estimand expression:\n",
      "  d                       \n",
      "─────(E[y|W4,W3,W0,W2,W1])\n",
      "d[v₀]                     \n",
      "Estimand assumption 1, Unconfoundedness: If U→{v0} and U→y then P(y|v0,W4,W3,W0,W2,W1,U) = P(y|v0,W4,W3,W0,W2,W1)\n",
      "\n",
      "### Estimand : 2\n",
      "Estimand name: iv\n",
      "Estimand expression:\n",
      " ⎡                              -1⎤\n",
      " ⎢    d        ⎛    d          ⎞  ⎥\n",
      "E⎢─────────(y)⋅⎜─────────([v₀])⎟  ⎥\n",
      " ⎣d[Z₀  Z₁]    ⎝d[Z₀  Z₁]      ⎠  ⎦\n",
      "Estimand assumption 1, As-if-random: If U→→y then ¬(U →→{Z0,Z1})\n",
      "Estimand assumption 2, Exclusion: If we remove {Z0,Z1}→{v0}, then ¬({Z0,Z1}→y)\n",
      "\n",
      "### Estimand : 3\n",
      "Estimand name: frontdoor\n",
      "No such variable(s) found!\n",
      "\n"
     ]
    }
   ],
   "source": [
    "identified_estimand = model.identify_effect(proceed_when_unidentifiable=True)\n",
    "print(identified_estimand)"
   ]
  },
  {
   "cell_type": "markdown",
   "id": "282ca8d4",
   "metadata": {},
   "source": [
    "## Method 1: Propensity Score Stratification\n",
    "\n",
    "We will be using propensity scores to stratify units in the data."
   ]
  },
  {
   "cell_type": "code",
   "execution_count": 8,
   "id": "225cab37",
   "metadata": {
    "execution": {
     "iopub.execute_input": "2022-07-20T18:02:28.627811Z",
     "iopub.status.busy": "2022-07-20T18:02:28.627149Z",
     "iopub.status.idle": "2022-07-20T18:02:29.420463Z",
     "shell.execute_reply": "2022-07-20T18:02:29.419670Z"
    }
   },
   "outputs": [
    {
     "name": "stdout",
     "output_type": "stream",
     "text": [
      "propensity_score_stratification\n"
     ]
    },
    {
     "name": "stderr",
     "output_type": "stream",
     "text": [
      "/usr/local/lib/python3.8/dist-packages/sklearn/utils/validation.py:993: DataConversionWarning: A column-vector y was passed when a 1d array was expected. Please change the shape of y to (n_samples, ), for example using ravel().\n",
      "  y = column_or_1d(y, warn=True)\n"
     ]
    },
    {
     "name": "stdout",
     "output_type": "stream",
     "text": [
      "*** Causal Estimate ***\n",
      "\n",
      "## Identified estimand\n",
      "Estimand type: nonparametric-ate\n",
      "\n",
      "### Estimand : 1\n",
      "Estimand name: backdoor\n",
      "Estimand expression:\n",
      "  d                       \n",
      "─────(E[y|W4,W3,W0,W2,W1])\n",
      "d[v₀]                     \n",
      "Estimand assumption 1, Unconfoundedness: If U→{v0} and U→y then P(y|v0,W4,W3,W0,W2,W1,U) = P(y|v0,W4,W3,W0,W2,W1)\n",
      "\n",
      "## Realized estimand\n",
      "b: y~v0+W4+W3+W0+W2+W1\n",
      "Target units: att\n",
      "\n",
      "## Estimate\n",
      "Mean value: 1.002340225584046\n",
      "\n",
      "Causal Estimate is 1.002340225584046\n"
     ]
    }
   ],
   "source": [
    "causal_estimate_strat = model.estimate_effect(identified_estimand,\n",
    "                                              method_name=\"backdoor.propensity_score_stratification\",\n",
    "                                              target_units=\"att\")\n",
    "print(causal_estimate_strat)\n",
    "print(\"Causal Estimate is \" + str(causal_estimate_strat.value))"
   ]
  },
  {
   "cell_type": "markdown",
   "id": "4e62b790",
   "metadata": {},
   "source": [
    "### Textual Interpreter\n",
    "\n",
    "The textual Interpreter describes (in words) the effect of unit change in the treatment variable on the outcome variable."
   ]
  },
  {
   "cell_type": "code",
   "execution_count": 9,
   "id": "93ee8848",
   "metadata": {
    "execution": {
     "iopub.execute_input": "2022-07-20T18:02:29.424688Z",
     "iopub.status.busy": "2022-07-20T18:02:29.424298Z",
     "iopub.status.idle": "2022-07-20T18:02:29.458013Z",
     "shell.execute_reply": "2022-07-20T18:02:29.457232Z"
    }
   },
   "outputs": [
    {
     "name": "stdout",
     "output_type": "stream",
     "text": [
      "Increasing the treatment variable(s) [v0] from 0 to 1 causes an increase of 1.002340225584046 in the expected value of the outcome [y], over the data distribution/population represented by the dataset.\n"
     ]
    }
   ],
   "source": [
    "# Textual Interpreter\n",
    "interpretation = causal_estimate_strat.interpret(method_name=\"textual_effect_interpreter\")"
   ]
  },
  {
   "cell_type": "markdown",
   "id": "e72b7e2a",
   "metadata": {},
   "source": [
    "### Visual Interpreter\n",
    "\n",
    "The visual interpreter plots the change in the standardized mean difference (SMD) before and after Propensity Score based adjustment of the dataset. The formula for SMD is given below.\n",
    "\n",
    "\n",
    "$SMD = \\frac{\\bar X_{1} - \\bar X_{2}}{\\sqrt{(S_{1}^{2} + S_{2}^{2})/2}}$\n",
    "\n",
    "Here, $\\bar X_{1}$ and $\\bar X_{2}$ are the sample mean for the treated and control groups.\n"
   ]
  },
  {
   "cell_type": "code",
   "execution_count": 10,
   "id": "de00e1de",
   "metadata": {
    "execution": {
     "iopub.execute_input": "2022-07-20T18:02:29.462282Z",
     "iopub.status.busy": "2022-07-20T18:02:29.461871Z",
     "iopub.status.idle": "2022-07-20T18:02:30.614781Z",
     "shell.execute_reply": "2022-07-20T18:02:30.614050Z"
    }
   },
   "outputs": [
    {
     "data": {
      "image/png": "[encoded data removed]",
      "text/plain": [
       "<Figure size 432x288 with 1 Axes>"
      ]
     },
     "metadata": {
      "needs_background": "light"
     },
     "output_type": "display_data"
    }
   ],
   "source": [
    "# Visual Interpreter\n",
    "interpretation = causal_estimate_strat.interpret(method_name=\"propensity_balance_interpreter\")"
   ]
  },
  {
   "cell_type": "markdown",
   "id": "b8c74aa3",
   "metadata": {},
   "source": [
    "This plot shows how the SMD decreases from the unadjusted to the stratified units. "
   ]
  },
  {
   "cell_type": "markdown",
   "id": "9e910d7f",
   "metadata": {},
   "source": [
    "## Method 2: Propensity Score Matching\n",
    "\n",
    "We will be using propensity scores to match units in the data."
   ]
  },
  {
   "cell_type": "code",
   "execution_count": 11,
   "id": "2123e671",
   "metadata": {
    "execution": {
     "iopub.execute_input": "2022-07-20T18:02:30.618813Z",
     "iopub.status.busy": "2022-07-20T18:02:30.618373Z",
     "iopub.status.idle": "2022-07-20T18:02:35.167353Z",
     "shell.execute_reply": "2022-07-20T18:02:35.166604Z"
    }
   },
   "outputs": [
    {
     "name": "stdout",
     "output_type": "stream",
     "text": [
      "propensity_score_matching\n"
     ]
    },
    {
     "name": "stderr",
     "output_type": "stream",
     "text": [
      "/usr/local/lib/python3.8/dist-packages/sklearn/utils/validation.py:993: DataConversionWarning: A column-vector y was passed when a 1d array was expected. Please change the shape of y to (n_samples, ), for example using ravel().\n",
      "  y = column_or_1d(y, warn=True)\n"
     ]
    },
    {
     "name": "stdout",
     "output_type": "stream",
     "text": [
      "*** Causal Estimate ***\n",
      "\n",
      "## Identified estimand\n",
      "Estimand type: nonparametric-ate\n",
      "\n",
      "### Estimand : 1\n",
      "Estimand name: backdoor\n",
      "Estimand expression:\n",
      "  d                       \n",
      "─────(E[y|W4,W3,W0,W2,W1])\n",
      "d[v₀]                     \n",
      "Estimand assumption 1, Unconfoundedness: If U→{v0} and U→y then P(y|v0,W4,W3,W0,W2,W1,U) = P(y|v0,W4,W3,W0,W2,W1)\n",
      "\n",
      "## Realized estimand\n",
      "b: y~v0+W4+W3+W0+W2+W1\n",
      "Target units: atc\n",
      "\n",
      "## Estimate\n",
      "Mean value: 1.023986743238567\n",
      "\n",
      "Causal Estimate is 1.023986743238567\n"
     ]
    }
   ],
   "source": [
    "causal_estimate_match = model.estimate_effect(identified_estimand,\n",
    "                                              method_name=\"backdoor.propensity_score_matching\",\n",
    "                                              target_units=\"atc\")\n",
    "print(causal_estimate_match)\n",
    "print(\"Causal Estimate is \" + str(causal_estimate_match.value))"
   ]
  },
  {
   "cell_type": "code",
   "execution_count": 12,
   "id": "0f2a4fc9",
   "metadata": {
    "execution": {
     "iopub.execute_input": "2022-07-20T18:02:35.171084Z",
     "iopub.status.busy": "2022-07-20T18:02:35.170575Z",
     "iopub.status.idle": "2022-07-20T18:02:35.200944Z",
     "shell.execute_reply": "2022-07-20T18:02:35.200245Z"
    }
   },
   "outputs": [
    {
     "name": "stdout",
     "output_type": "stream",
     "text": [
      "Increasing the treatment variable(s) [v0] from 0 to 1 causes an increase of 1.023986743238567 in the expected value of the outcome [y], over the data distribution/population represented by the dataset.\n"
     ]
    }
   ],
   "source": [
    "# Textual Interpreter\n",
    "interpretation = causal_estimate_match.interpret(method_name=\"textual_effect_interpreter\")"
   ]
  },
  {
   "cell_type": "markdown",
   "id": "e48bb690",
   "metadata": {},
   "source": [
    "Cannot use propensity balance interpretor here since the interpreter method only supports propensity score stratification estimator."
   ]
  },
  {
   "cell_type": "markdown",
   "id": "83611971",
   "metadata": {},
   "source": [
    "## Method 3: Weighting\n",
    "\n",
    "We will be using (inverse) propensity scores to assign weights to units in the data. DoWhy supports a few different weighting schemes:\n",
    "1. Vanilla Inverse Propensity Score weighting (IPS) (weighting_scheme=\"ips_weight\")\n",
    "2. Self-normalized IPS weighting (also known as the Hajek estimator) (weighting_scheme=\"ips_normalized_weight\")\n",
    "3. Stabilized IPS weighting (weighting_scheme = \"ips_stabilized_weight\")"
   ]
  },
  {
   "cell_type": "code",
   "execution_count": 13,
   "id": "111c5894",
   "metadata": {
    "execution": {
     "iopub.execute_input": "2022-07-20T18:02:35.204145Z",
     "iopub.status.busy": "2022-07-20T18:02:35.203908Z",
     "iopub.status.idle": "2022-07-20T18:02:35.267569Z",
     "shell.execute_reply": "2022-07-20T18:02:35.265642Z"
    }
   },
   "outputs": [
    {
     "name": "stdout",
     "output_type": "stream",
     "text": [
      "propensity_score_weighting\n",
      "*** Causal Estimate ***\n",
      "\n",
      "## Identified estimand\n",
      "Estimand type: nonparametric-ate\n",
      "\n",
      "### Estimand : 1\n",
      "Estimand name: backdoor\n",
      "Estimand expression:\n",
      "  d                       \n",
      "─────(E[y|W4,W3,W0,W2,W1])\n",
      "d[v₀]                     \n",
      "Estimand assumption 1, Unconfoundedness: If U→{v0} and U→y then P(y|v0,W4,W3,W0,W2,W1,U) = P(y|v0,W4,W3,W0,W2,W1)\n",
      "\n",
      "## Realized estimand\n",
      "b: y~v0+W4+W3+W0+W2+W1\n",
      "Target units: ate\n",
      "\n",
      "## Estimate\n",
      "Mean value: 1.0767728370290992\n",
      "\n",
      "Causal Estimate is 1.0767728370290992\n"
     ]
    },
    {
     "name": "stderr",
     "output_type": "stream",
     "text": [
      "/usr/local/lib/python3.8/dist-packages/sklearn/utils/validation.py:993: DataConversionWarning: A column-vector y was passed when a 1d array was expected. Please change the shape of y to (n_samples, ), for example using ravel().\n",
      "  y = column_or_1d(y, warn=True)\n"
     ]
    }
   ],
   "source": [
    "causal_estimate_ipw = model.estimate_effect(identified_estimand,\n",
    "                                            method_name=\"backdoor.propensity_score_weighting\",\n",
    "                                            target_units = \"ate\",\n",
    "                                            method_params={\"weighting_scheme\":\"ips_weight\"})\n",
    "print(causal_estimate_ipw)\n",
    "print(\"Causal Estimate is \" + str(causal_estimate_ipw.value))"
   ]
  },
  {
   "cell_type": "code",
   "execution_count": 14,
   "id": "16bcd45d",
   "metadata": {
    "execution": {
     "iopub.execute_input": "2022-07-20T18:02:35.270558Z",
     "iopub.status.busy": "2022-07-20T18:02:35.270323Z",
     "iopub.status.idle": "2022-07-20T18:02:35.306414Z",
     "shell.execute_reply": "2022-07-20T18:02:35.305861Z"
    }
   },
   "outputs": [
    {
     "name": "stdout",
     "output_type": "stream",
     "text": [
      "Increasing the treatment variable(s) [v0] from 0 to 1 causes an increase of 1.0767728370290992 in the expected value of the outcome [y], over the data distribution/population represented by the dataset.\n"
     ]
    }
   ],
   "source": [
    "# Textual Interpreter\n",
    "interpretation = causal_estimate_ipw.interpret(method_name=\"textual_effect_interpreter\")"
   ]
  },
  {
   "cell_type": "code",
   "execution_count": 15,
   "id": "aa8ce2a4",
   "metadata": {
    "execution": {
     "iopub.execute_input": "2022-07-20T18:02:35.310730Z",
     "iopub.status.busy": "2022-07-20T18:02:35.309438Z",
     "iopub.status.idle": "2022-07-20T18:02:35.572153Z",
     "shell.execute_reply": "2022-07-20T18:02:35.571373Z"
    }
   },
   "outputs": [
    {
     "data": {
      "image/png": "[encoded data removed]",
      "text/plain": [
       "<Figure size 576x576 with 2 Axes>"
      ]
     },
     "metadata": {
      "needs_background": "light"
     },
     "output_type": "display_data"
    }
   ],
   "source": [
    "interpretation = causal_estimate_ipw.interpret(method_name=\"confounder_distribution_interpreter\", fig_size=(8,8), font_size=12, var_name='W4', var_type='discrete')"
   ]
  },
  {
   "cell_type": "code",
   "execution_count": null,
   "id": "121e2339",
   "metadata": {},
   "outputs": [],
   "source": []
  }
 ],
 "metadata": {
  "kernelspec": {
   "display_name": "Python 3",
   "language": "python",
   "name": "python3"
  },
  "language_info": {
   "codemirror_mode": {
    "name": "ipython",
    "version": 3
   },
   "file_extension": ".py",
   "mimetype": "text/x-python",
   "name": "python",
   "nbconvert_exporter": "python",
   "pygments_lexer": "ipython3",
   "version": "3.8.10"
  },
  "toc": {
   "base_numbering": 1,
   "nav_menu": {},
   "number_sections": false,
   "sideBar": true,
   "skip_h1_title": true,
   "title_cell": "Table of Contents",
   "title_sidebar": "Contents",
   "toc_cell": false,
   "toc_position": {},
   "toc_section_display": true,
   "toc_window_display": false
  }
 },
 "nbformat": 4,
 "nbformat_minor": 5
}
