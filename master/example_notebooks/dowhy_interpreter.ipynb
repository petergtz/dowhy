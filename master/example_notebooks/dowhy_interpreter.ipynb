{
 "cells": [
  {
   "cell_type": "markdown",
   "id": "4e2c039b",
   "metadata": {},
   "source": [
    "# DoWhy: Interpreters for Causal Estimators\n",
    "\n",
    "This is a quick introduction to the use of interpreters in the DoWhy causal inference library.\n",
    "We will load in a sample dataset, use different methods for estimating the causal effect of a (pre-specified)treatment variable on a (pre-specified) outcome variable and demonstrate how to interpret the obtained results.\n",
    "\n",
    "First, let us add the required path for Python to find the DoWhy code and load all required packages"
   ]
  },
  {
   "cell_type": "code",
   "execution_count": 1,
   "id": "99ebef1a",
   "metadata": {
    "execution": {
     "iopub.execute_input": "2022-07-27T15:33:54.823316Z",
     "iopub.status.busy": "2022-07-27T15:33:54.823080Z",
     "iopub.status.idle": "2022-07-27T15:33:54.838471Z",
     "shell.execute_reply": "2022-07-27T15:33:54.837909Z"
    }
   },
   "outputs": [],
   "source": [
    "%load_ext autoreload\n",
    "%autoreload 2"
   ]
  },
  {
   "cell_type": "code",
   "execution_count": 2,
   "id": "efa18616",
   "metadata": {
    "execution": {
     "iopub.execute_input": "2022-07-27T15:33:54.841139Z",
     "iopub.status.busy": "2022-07-27T15:33:54.840932Z",
     "iopub.status.idle": "2022-07-27T15:33:55.781772Z",
     "shell.execute_reply": "2022-07-27T15:33:55.781096Z"
    }
   },
   "outputs": [
    {
     "name": "stdout",
     "output_type": "stream",
     "text": [
      "keywords are unexpanded, not using\n"
     ]
    }
   ],
   "source": [
    "import numpy as np\n",
    "import pandas as pd\n",
    "import logging\n",
    "\n",
    "import dowhy\n",
    "from dowhy import CausalModel\n",
    "import dowhy.datasets "
   ]
  },
  {
   "cell_type": "markdown",
   "id": "c14425ff",
   "metadata": {},
   "source": [
    "Now, let us load a dataset. For simplicity, we simulate a dataset with linear relationships between common causes and treatment, and common causes and outcome.\n",
    "\n",
    "Beta is the true causal effect."
   ]
  },
  {
   "cell_type": "code",
   "execution_count": 3,
   "id": "0c582533",
   "metadata": {
    "execution": {
     "iopub.execute_input": "2022-07-27T15:33:55.785865Z",
     "iopub.status.busy": "2022-07-27T15:33:55.784698Z",
     "iopub.status.idle": "2022-07-27T15:33:56.074911Z",
     "shell.execute_reply": "2022-07-27T15:33:56.074315Z"
    }
   },
   "outputs": [
    {
     "name": "stdout",
     "output_type": "stream",
     "text": [
      "7554\n"
     ]
    },
    {
     "data": {
      "text/html": [
       "<div>\n",
       "<style scoped>\n",
       "    .dataframe tbody tr th:only-of-type {\n",
       "        vertical-align: middle;\n",
       "    }\n",
       "\n",
       "    .dataframe tbody tr th {\n",
       "        vertical-align: top;\n",
       "    }\n",
       "\n",
       "    .dataframe thead th {\n",
       "        text-align: right;\n",
       "    }\n",
       "</style>\n",
       "<table border=\"1\" class=\"dataframe\">\n",
       "  <thead>\n",
       "    <tr style=\"text-align: right;\">\n",
       "      <th></th>\n",
       "      <th>Z0</th>\n",
       "      <th>Z1</th>\n",
       "      <th>W0</th>\n",
       "      <th>W1</th>\n",
       "      <th>W2</th>\n",
       "      <th>W3</th>\n",
       "      <th>W4</th>\n",
       "      <th>v0</th>\n",
       "      <th>y</th>\n",
       "    </tr>\n",
       "  </thead>\n",
       "  <tbody>\n",
       "    <tr>\n",
       "      <th>0</th>\n",
       "      <td>0.0</td>\n",
       "      <td>0.227546</td>\n",
       "      <td>-2.016011</td>\n",
       "      <td>-0.730957</td>\n",
       "      <td>-2.547916</td>\n",
       "      <td>0.838821</td>\n",
       "      <td>2</td>\n",
       "      <td>True</td>\n",
       "      <td>-1.117862</td>\n",
       "    </tr>\n",
       "    <tr>\n",
       "      <th>1</th>\n",
       "      <td>0.0</td>\n",
       "      <td>0.770659</td>\n",
       "      <td>-0.148404</td>\n",
       "      <td>0.608354</td>\n",
       "      <td>0.728162</td>\n",
       "      <td>2.134871</td>\n",
       "      <td>1</td>\n",
       "      <td>True</td>\n",
       "      <td>3.937410</td>\n",
       "    </tr>\n",
       "    <tr>\n",
       "      <th>2</th>\n",
       "      <td>0.0</td>\n",
       "      <td>0.605521</td>\n",
       "      <td>0.688328</td>\n",
       "      <td>1.024468</td>\n",
       "      <td>1.320091</td>\n",
       "      <td>-1.250146</td>\n",
       "      <td>0</td>\n",
       "      <td>True</td>\n",
       "      <td>1.854192</td>\n",
       "    </tr>\n",
       "    <tr>\n",
       "      <th>3</th>\n",
       "      <td>0.0</td>\n",
       "      <td>0.962861</td>\n",
       "      <td>-1.482529</td>\n",
       "      <td>-1.583442</td>\n",
       "      <td>2.149058</td>\n",
       "      <td>1.047947</td>\n",
       "      <td>3</td>\n",
       "      <td>True</td>\n",
       "      <td>2.064639</td>\n",
       "    </tr>\n",
       "    <tr>\n",
       "      <th>4</th>\n",
       "      <td>0.0</td>\n",
       "      <td>0.329197</td>\n",
       "      <td>-0.822680</td>\n",
       "      <td>-0.860938</td>\n",
       "      <td>0.742905</td>\n",
       "      <td>0.118596</td>\n",
       "      <td>0</td>\n",
       "      <td>False</td>\n",
       "      <td>-0.280430</td>\n",
       "    </tr>\n",
       "    <tr>\n",
       "      <th>...</th>\n",
       "      <td>...</td>\n",
       "      <td>...</td>\n",
       "      <td>...</td>\n",
       "      <td>...</td>\n",
       "      <td>...</td>\n",
       "      <td>...</td>\n",
       "      <td>...</td>\n",
       "      <td>...</td>\n",
       "      <td>...</td>\n",
       "    </tr>\n",
       "    <tr>\n",
       "      <th>9995</th>\n",
       "      <td>0.0</td>\n",
       "      <td>0.057678</td>\n",
       "      <td>-0.790641</td>\n",
       "      <td>1.378169</td>\n",
       "      <td>-0.117402</td>\n",
       "      <td>0.315108</td>\n",
       "      <td>2</td>\n",
       "      <td>False</td>\n",
       "      <td>1.190899</td>\n",
       "    </tr>\n",
       "    <tr>\n",
       "      <th>9996</th>\n",
       "      <td>1.0</td>\n",
       "      <td>0.929716</td>\n",
       "      <td>-2.083952</td>\n",
       "      <td>0.754905</td>\n",
       "      <td>-0.163282</td>\n",
       "      <td>1.318242</td>\n",
       "      <td>3</td>\n",
       "      <td>True</td>\n",
       "      <td>2.238053</td>\n",
       "    </tr>\n",
       "    <tr>\n",
       "      <th>9997</th>\n",
       "      <td>0.0</td>\n",
       "      <td>0.780153</td>\n",
       "      <td>-2.042370</td>\n",
       "      <td>0.943946</td>\n",
       "      <td>1.540860</td>\n",
       "      <td>2.467324</td>\n",
       "      <td>2</td>\n",
       "      <td>True</td>\n",
       "      <td>4.565526</td>\n",
       "    </tr>\n",
       "    <tr>\n",
       "      <th>9998</th>\n",
       "      <td>1.0</td>\n",
       "      <td>0.122428</td>\n",
       "      <td>-1.554353</td>\n",
       "      <td>0.556542</td>\n",
       "      <td>-0.859197</td>\n",
       "      <td>0.229831</td>\n",
       "      <td>3</td>\n",
       "      <td>False</td>\n",
       "      <td>-0.236469</td>\n",
       "    </tr>\n",
       "    <tr>\n",
       "      <th>9999</th>\n",
       "      <td>0.0</td>\n",
       "      <td>0.566771</td>\n",
       "      <td>0.662867</td>\n",
       "      <td>-1.897646</td>\n",
       "      <td>1.915465</td>\n",
       "      <td>1.059026</td>\n",
       "      <td>1</td>\n",
       "      <td>True</td>\n",
       "      <td>2.142500</td>\n",
       "    </tr>\n",
       "  </tbody>\n",
       "</table>\n",
       "<p>10000 rows × 9 columns</p>\n",
       "</div>"
      ],
      "text/plain": [
       "       Z0        Z1        W0        W1        W2        W3 W4     v0  \\\n",
       "0     0.0  0.227546 -2.016011 -0.730957 -2.547916  0.838821  2   True   \n",
       "1     0.0  0.770659 -0.148404  0.608354  0.728162  2.134871  1   True   \n",
       "2     0.0  0.605521  0.688328  1.024468  1.320091 -1.250146  0   True   \n",
       "3     0.0  0.962861 -1.482529 -1.583442  2.149058  1.047947  3   True   \n",
       "4     0.0  0.329197 -0.822680 -0.860938  0.742905  0.118596  0  False   \n",
       "...   ...       ...       ...       ...       ...       ... ..    ...   \n",
       "9995  0.0  0.057678 -0.790641  1.378169 -0.117402  0.315108  2  False   \n",
       "9996  1.0  0.929716 -2.083952  0.754905 -0.163282  1.318242  3   True   \n",
       "9997  0.0  0.780153 -2.042370  0.943946  1.540860  2.467324  2   True   \n",
       "9998  1.0  0.122428 -1.554353  0.556542 -0.859197  0.229831  3  False   \n",
       "9999  0.0  0.566771  0.662867 -1.897646  1.915465  1.059026  1   True   \n",
       "\n",
       "             y  \n",
       "0    -1.117862  \n",
       "1     3.937410  \n",
       "2     1.854192  \n",
       "3     2.064639  \n",
       "4    -0.280430  \n",
       "...        ...  \n",
       "9995  1.190899  \n",
       "9996  2.238053  \n",
       "9997  4.565526  \n",
       "9998 -0.236469  \n",
       "9999  2.142500  \n",
       "\n",
       "[10000 rows x 9 columns]"
      ]
     },
     "execution_count": 3,
     "metadata": {},
     "output_type": "execute_result"
    }
   ],
   "source": [
    "data = dowhy.datasets.linear_dataset(beta=1,\n",
    "        num_common_causes=5, \n",
    "        num_instruments = 2,\n",
    "        num_treatments=1,\n",
    "        num_discrete_common_causes=1,\n",
    "        num_samples=10000,\n",
    "        treatment_is_binary=True,\n",
    "        outcome_is_binary=False)\n",
    "df = data[\"df\"]\n",
    "print(df[df.v0==True].shape[0])\n",
    "df"
   ]
  },
  {
   "cell_type": "markdown",
   "id": "e2847a0a",
   "metadata": {},
   "source": [
    "Note that we are using a pandas dataframe to load the data."
   ]
  },
  {
   "cell_type": "markdown",
   "id": "fea5281c",
   "metadata": {},
   "source": [
    "## Identifying the causal estimand"
   ]
  },
  {
   "cell_type": "markdown",
   "id": "d0028dc6",
   "metadata": {},
   "source": [
    "We now input a causal graph in the GML graph format."
   ]
  },
  {
   "cell_type": "code",
   "execution_count": 4,
   "id": "4510ea9d",
   "metadata": {
    "execution": {
     "iopub.execute_input": "2022-07-27T15:33:56.078155Z",
     "iopub.status.busy": "2022-07-27T15:33:56.077627Z",
     "iopub.status.idle": "2022-07-27T15:33:56.101170Z",
     "shell.execute_reply": "2022-07-27T15:33:56.100593Z"
    }
   },
   "outputs": [],
   "source": [
    "# With graph\n",
    "model=CausalModel(\n",
    "        data = df,\n",
    "        treatment=data[\"treatment_name\"],\n",
    "        outcome=data[\"outcome_name\"],\n",
    "        graph=data[\"gml_graph\"],\n",
    "        instruments=data[\"instrument_names\"]\n",
    "        )"
   ]
  },
  {
   "cell_type": "code",
   "execution_count": 5,
   "id": "756b0d92",
   "metadata": {
    "execution": {
     "iopub.execute_input": "2022-07-27T15:33:56.103980Z",
     "iopub.status.busy": "2022-07-27T15:33:56.103727Z",
     "iopub.status.idle": "2022-07-27T15:33:56.159113Z",
     "shell.execute_reply": "2022-07-27T15:33:56.158508Z"
    }
   },
   "outputs": [],
   "source": [
    "model.view_model()"
   ]
  },
  {
   "cell_type": "code",
   "execution_count": 6,
   "id": "91f4ac15",
   "metadata": {
    "execution": {
     "iopub.execute_input": "2022-07-27T15:33:56.162724Z",
     "iopub.status.busy": "2022-07-27T15:33:56.162131Z",
     "iopub.status.idle": "2022-07-27T15:33:56.186534Z",
     "shell.execute_reply": "2022-07-27T15:33:56.185952Z"
    }
   },
   "outputs": [
    {
     "data": {
      "image/png": "[encoded data removed]",
      "text/plain": [
       "<IPython.core.display.Image object>"
      ]
     },
     "metadata": {},
     "output_type": "display_data"
    }
   ],
   "source": [
    "from IPython.display import Image, display\n",
    "display(Image(filename=\"causal_model.png\"))"
   ]
  },
  {
   "cell_type": "markdown",
   "id": "4777acdc",
   "metadata": {},
   "source": [
    "We get a causal graph. Now identification and estimation is done."
   ]
  },
  {
   "cell_type": "code",
   "execution_count": 7,
   "id": "79a314f7",
   "metadata": {
    "execution": {
     "iopub.execute_input": "2022-07-27T15:33:56.189682Z",
     "iopub.status.busy": "2022-07-27T15:33:56.189360Z",
     "iopub.status.idle": "2022-07-27T15:33:56.405289Z",
     "shell.execute_reply": "2022-07-27T15:33:56.404668Z"
    }
   },
   "outputs": [
    {
     "name": "stdout",
     "output_type": "stream",
     "text": [
      "Estimand type: nonparametric-ate\n",
      "\n",
      "### Estimand : 1\n",
      "Estimand name: backdoor\n",
      "Estimand expression:\n",
      "  d                       \n",
      "─────(E[y|W0,W1,W3,W2,W4])\n",
      "d[v₀]                     \n",
      "Estimand assumption 1, Unconfoundedness: If U→{v0} and U→y then P(y|v0,W0,W1,W3,W2,W4,U) = P(y|v0,W0,W1,W3,W2,W4)\n",
      "\n",
      "### Estimand : 2\n",
      "Estimand name: iv\n",
      "Estimand expression:\n",
      " ⎡                              -1⎤\n",
      " ⎢    d        ⎛    d          ⎞  ⎥\n",
      "E⎢─────────(y)⋅⎜─────────([v₀])⎟  ⎥\n",
      " ⎣d[Z₁  Z₀]    ⎝d[Z₁  Z₀]      ⎠  ⎦\n",
      "Estimand assumption 1, As-if-random: If U→→y then ¬(U →→{Z1,Z0})\n",
      "Estimand assumption 2, Exclusion: If we remove {Z1,Z0}→{v0}, then ¬({Z1,Z0}→y)\n",
      "\n",
      "### Estimand : 3\n",
      "Estimand name: frontdoor\n",
      "No such variable(s) found!\n",
      "\n"
     ]
    }
   ],
   "source": [
    "identified_estimand = model.identify_effect(proceed_when_unidentifiable=True)\n",
    "print(identified_estimand)"
   ]
  },
  {
   "cell_type": "markdown",
   "id": "71ec0957",
   "metadata": {},
   "source": [
    "## Method 1: Propensity Score Stratification\n",
    "\n",
    "We will be using propensity scores to stratify units in the data."
   ]
  },
  {
   "cell_type": "code",
   "execution_count": 8,
   "id": "d291b1b0",
   "metadata": {
    "execution": {
     "iopub.execute_input": "2022-07-27T15:33:56.409241Z",
     "iopub.status.busy": "2022-07-27T15:33:56.408908Z",
     "iopub.status.idle": "2022-07-27T15:33:57.019292Z",
     "shell.execute_reply": "2022-07-27T15:33:57.018667Z"
    }
   },
   "outputs": [
    {
     "name": "stdout",
     "output_type": "stream",
     "text": [
      "propensity_score_stratification\n"
     ]
    },
    {
     "name": "stderr",
     "output_type": "stream",
     "text": [
      "/usr/local/lib/python3.8/dist-packages/sklearn/utils/validation.py:993: DataConversionWarning: A column-vector y was passed when a 1d array was expected. Please change the shape of y to (n_samples, ), for example using ravel().\n",
      "  y = column_or_1d(y, warn=True)\n"
     ]
    },
    {
     "name": "stdout",
     "output_type": "stream",
     "text": [
      "*** Causal Estimate ***\n",
      "\n",
      "## Identified estimand\n",
      "Estimand type: nonparametric-ate\n",
      "\n",
      "### Estimand : 1\n",
      "Estimand name: backdoor\n",
      "Estimand expression:\n",
      "  d                       \n",
      "─────(E[y|W0,W1,W3,W2,W4])\n",
      "d[v₀]                     \n",
      "Estimand assumption 1, Unconfoundedness: If U→{v0} and U→y then P(y|v0,W0,W1,W3,W2,W4,U) = P(y|v0,W0,W1,W3,W2,W4)\n",
      "\n",
      "## Realized estimand\n",
      "b: y~v0+W0+W1+W3+W2+W4\n",
      "Target units: att\n",
      "\n",
      "## Estimate\n",
      "Mean value: 1.0129632362466443\n",
      "\n",
      "Causal Estimate is 1.0129632362466443\n"
     ]
    }
   ],
   "source": [
    "causal_estimate_strat = model.estimate_effect(identified_estimand,\n",
    "                                              method_name=\"backdoor.propensity_score_stratification\",\n",
    "                                              target_units=\"att\")\n",
    "print(causal_estimate_strat)\n",
    "print(\"Causal Estimate is \" + str(causal_estimate_strat.value))"
   ]
  },
  {
   "cell_type": "markdown",
   "id": "ae1a7fe6",
   "metadata": {},
   "source": [
    "### Textual Interpreter\n",
    "\n",
    "The textual Interpreter describes (in words) the effect of unit change in the treatment variable on the outcome variable."
   ]
  },
  {
   "cell_type": "code",
   "execution_count": 9,
   "id": "4dea7d1e",
   "metadata": {
    "execution": {
     "iopub.execute_input": "2022-07-27T15:33:57.022466Z",
     "iopub.status.busy": "2022-07-27T15:33:57.022119Z",
     "iopub.status.idle": "2022-07-27T15:33:57.047306Z",
     "shell.execute_reply": "2022-07-27T15:33:57.046708Z"
    }
   },
   "outputs": [
    {
     "name": "stdout",
     "output_type": "stream",
     "text": [
      "Increasing the treatment variable(s) [v0] from 0 to 1 causes an increase of 1.0129632362466443 in the expected value of the outcome [y], over the data distribution/population represented by the dataset.\n"
     ]
    }
   ],
   "source": [
    "# Textual Interpreter\n",
    "interpretation = causal_estimate_strat.interpret(method_name=\"textual_effect_interpreter\")"
   ]
  },
  {
   "cell_type": "markdown",
   "id": "2499ce82",
   "metadata": {},
   "source": [
    "### Visual Interpreter\n",
    "\n",
    "The visual interpreter plots the change in the standardized mean difference (SMD) before and after Propensity Score based adjustment of the dataset. The formula for SMD is given below.\n",
    "\n",
    "\n",
    "$SMD = \\frac{\\bar X_{1} - \\bar X_{2}}{\\sqrt{(S_{1}^{2} + S_{2}^{2})/2}}$\n",
    "\n",
    "Here, $\\bar X_{1}$ and $\\bar X_{2}$ are the sample mean for the treated and control groups.\n"
   ]
  },
  {
   "cell_type": "code",
   "execution_count": 10,
   "id": "d05a0be0",
   "metadata": {
    "execution": {
     "iopub.execute_input": "2022-07-27T15:33:57.050508Z",
     "iopub.status.busy": "2022-07-27T15:33:57.050114Z",
     "iopub.status.idle": "2022-07-27T15:33:58.232938Z",
     "shell.execute_reply": "2022-07-27T15:33:58.232334Z"
    }
   },
   "outputs": [
    {
     "data": {
      "image/png": "[encoded data removed]",
      "text/plain": [
       "<Figure size 432x288 with 1 Axes>"
      ]
     },
     "metadata": {
      "needs_background": "light"
     },
     "output_type": "display_data"
    }
   ],
   "source": [
    "# Visual Interpreter\n",
    "interpretation = causal_estimate_strat.interpret(method_name=\"propensity_balance_interpreter\")"
   ]
  },
  {
   "cell_type": "markdown",
   "id": "467312f3",
   "metadata": {},
   "source": [
    "This plot shows how the SMD decreases from the unadjusted to the stratified units. "
   ]
  },
  {
   "cell_type": "markdown",
   "id": "26bc1b1b",
   "metadata": {},
   "source": [
    "## Method 2: Propensity Score Matching\n",
    "\n",
    "We will be using propensity scores to match units in the data."
   ]
  },
  {
   "cell_type": "code",
   "execution_count": 11,
   "id": "44ac9423",
   "metadata": {
    "execution": {
     "iopub.execute_input": "2022-07-27T15:33:58.236117Z",
     "iopub.status.busy": "2022-07-27T15:33:58.235567Z",
     "iopub.status.idle": "2022-07-27T15:34:01.845512Z",
     "shell.execute_reply": "2022-07-27T15:34:01.844701Z"
    }
   },
   "outputs": [
    {
     "name": "stdout",
     "output_type": "stream",
     "text": [
      "propensity_score_matching\n"
     ]
    },
    {
     "name": "stderr",
     "output_type": "stream",
     "text": [
      "/usr/local/lib/python3.8/dist-packages/sklearn/utils/validation.py:993: DataConversionWarning: A column-vector y was passed when a 1d array was expected. Please change the shape of y to (n_samples, ), for example using ravel().\n",
      "  y = column_or_1d(y, warn=True)\n"
     ]
    },
    {
     "name": "stdout",
     "output_type": "stream",
     "text": [
      "*** Causal Estimate ***\n",
      "\n",
      "## Identified estimand\n",
      "Estimand type: nonparametric-ate\n",
      "\n",
      "### Estimand : 1\n",
      "Estimand name: backdoor\n",
      "Estimand expression:\n",
      "  d                       \n",
      "─────(E[y|W0,W1,W3,W2,W4])\n",
      "d[v₀]                     \n",
      "Estimand assumption 1, Unconfoundedness: If U→{v0} and U→y then P(y|v0,W0,W1,W3,W2,W4,U) = P(y|v0,W0,W1,W3,W2,W4)\n",
      "\n",
      "## Realized estimand\n",
      "b: y~v0+W0+W1+W3+W2+W4\n",
      "Target units: atc\n",
      "\n",
      "## Estimate\n",
      "Mean value: 1.0141193356726943\n",
      "\n",
      "Causal Estimate is 1.0141193356726943\n"
     ]
    }
   ],
   "source": [
    "causal_estimate_match = model.estimate_effect(identified_estimand,\n",
    "                                              method_name=\"backdoor.propensity_score_matching\",\n",
    "                                              target_units=\"atc\")\n",
    "print(causal_estimate_match)\n",
    "print(\"Causal Estimate is \" + str(causal_estimate_match.value))"
   ]
  },
  {
   "cell_type": "code",
   "execution_count": 12,
   "id": "2a21f6ac",
   "metadata": {
    "execution": {
     "iopub.execute_input": "2022-07-27T15:34:01.848579Z",
     "iopub.status.busy": "2022-07-27T15:34:01.848069Z",
     "iopub.status.idle": "2022-07-27T15:34:01.871886Z",
     "shell.execute_reply": "2022-07-27T15:34:01.871320Z"
    }
   },
   "outputs": [
    {
     "name": "stdout",
     "output_type": "stream",
     "text": [
      "Increasing the treatment variable(s) [v0] from 0 to 1 causes an increase of 1.0141193356726943 in the expected value of the outcome [y], over the data distribution/population represented by the dataset.\n"
     ]
    }
   ],
   "source": [
    "# Textual Interpreter\n",
    "interpretation = causal_estimate_match.interpret(method_name=\"textual_effect_interpreter\")"
   ]
  },
  {
   "cell_type": "markdown",
   "id": "e1069a5a",
   "metadata": {},
   "source": [
    "Cannot use propensity balance interpretor here since the interpreter method only supports propensity score stratification estimator."
   ]
  },
  {
   "cell_type": "markdown",
   "id": "1c84d7f2",
   "metadata": {},
   "source": [
    "## Method 3: Weighting\n",
    "\n",
    "We will be using (inverse) propensity scores to assign weights to units in the data. DoWhy supports a few different weighting schemes:\n",
    "1. Vanilla Inverse Propensity Score weighting (IPS) (weighting_scheme=\"ips_weight\")\n",
    "2. Self-normalized IPS weighting (also known as the Hajek estimator) (weighting_scheme=\"ips_normalized_weight\")\n",
    "3. Stabilized IPS weighting (weighting_scheme = \"ips_stabilized_weight\")"
   ]
  },
  {
   "cell_type": "code",
   "execution_count": 13,
   "id": "d2e0825e",
   "metadata": {
    "execution": {
     "iopub.execute_input": "2022-07-27T15:34:01.875198Z",
     "iopub.status.busy": "2022-07-27T15:34:01.874872Z",
     "iopub.status.idle": "2022-07-27T15:34:01.933802Z",
     "shell.execute_reply": "2022-07-27T15:34:01.932505Z"
    }
   },
   "outputs": [
    {
     "name": "stdout",
     "output_type": "stream",
     "text": [
      "propensity_score_weighting\n",
      "*** Causal Estimate ***\n",
      "\n",
      "## Identified estimand\n",
      "Estimand type: nonparametric-ate\n",
      "\n",
      "### Estimand : 1\n",
      "Estimand name: backdoor\n",
      "Estimand expression:\n",
      "  d                       \n",
      "─────(E[y|W0,W1,W3,W2,W4])\n",
      "d[v₀]                     \n",
      "Estimand assumption 1, Unconfoundedness: If U→{v0} and U→y then P(y|v0,W0,W1,W3,W2,W4,U) = P(y|v0,W0,W1,W3,W2,W4)\n",
      "\n",
      "## Realized estimand\n",
      "b: y~v0+W0+W1+W3+W2+W4\n",
      "Target units: ate\n",
      "\n",
      "## Estimate\n",
      "Mean value: 1.1433720315444167\n",
      "\n",
      "Causal Estimate is 1.1433720315444167\n"
     ]
    },
    {
     "name": "stderr",
     "output_type": "stream",
     "text": [
      "/usr/local/lib/python3.8/dist-packages/sklearn/utils/validation.py:993: DataConversionWarning: A column-vector y was passed when a 1d array was expected. Please change the shape of y to (n_samples, ), for example using ravel().\n",
      "  y = column_or_1d(y, warn=True)\n"
     ]
    }
   ],
   "source": [
    "causal_estimate_ipw = model.estimate_effect(identified_estimand,\n",
    "                                            method_name=\"backdoor.propensity_score_weighting\",\n",
    "                                            target_units = \"ate\",\n",
    "                                            method_params={\"weighting_scheme\":\"ips_weight\"})\n",
    "print(causal_estimate_ipw)\n",
    "print(\"Causal Estimate is \" + str(causal_estimate_ipw.value))"
   ]
  },
  {
   "cell_type": "code",
   "execution_count": 14,
   "id": "31aac636",
   "metadata": {
    "execution": {
     "iopub.execute_input": "2022-07-27T15:34:01.936863Z",
     "iopub.status.busy": "2022-07-27T15:34:01.936631Z",
     "iopub.status.idle": "2022-07-27T15:34:01.960883Z",
     "shell.execute_reply": "2022-07-27T15:34:01.960283Z"
    }
   },
   "outputs": [
    {
     "name": "stdout",
     "output_type": "stream",
     "text": [
      "Increasing the treatment variable(s) [v0] from 0 to 1 causes an increase of 1.1433720315444167 in the expected value of the outcome [y], over the data distribution/population represented by the dataset.\n"
     ]
    }
   ],
   "source": [
    "# Textual Interpreter\n",
    "interpretation = causal_estimate_ipw.interpret(method_name=\"textual_effect_interpreter\")"
   ]
  },
  {
   "cell_type": "code",
   "execution_count": 15,
   "id": "242993b5",
   "metadata": {
    "execution": {
     "iopub.execute_input": "2022-07-27T15:34:01.964029Z",
     "iopub.status.busy": "2022-07-27T15:34:01.963807Z",
     "iopub.status.idle": "2022-07-27T15:34:02.207594Z",
     "shell.execute_reply": "2022-07-27T15:34:02.206823Z"
    }
   },
   "outputs": [
    {
     "data": {
      "image/png": "[encoded data removed]",
      "text/plain": [
       "<Figure size 576x576 with 2 Axes>"
      ]
     },
     "metadata": {
      "needs_background": "light"
     },
     "output_type": "display_data"
    }
   ],
   "source": [
    "interpretation = causal_estimate_ipw.interpret(method_name=\"confounder_distribution_interpreter\", fig_size=(8,8), font_size=12, var_name='W4', var_type='discrete')"
   ]
  },
  {
   "cell_type": "code",
   "execution_count": null,
   "id": "425640bb",
   "metadata": {},
   "outputs": [],
   "source": []
  }
 ],
 "metadata": {
  "kernelspec": {
   "display_name": "Python 3",
   "language": "python",
   "name": "python3"
  },
  "language_info": {
   "codemirror_mode": {
    "name": "ipython",
    "version": 3
   },
   "file_extension": ".py",
   "mimetype": "text/x-python",
   "name": "python",
   "nbconvert_exporter": "python",
   "pygments_lexer": "ipython3",
   "version": "3.8.10"
  },
  "toc": {
   "base_numbering": 1,
   "nav_menu": {},
   "number_sections": false,
   "sideBar": true,
   "skip_h1_title": true,
   "title_cell": "Table of Contents",
   "title_sidebar": "Contents",
   "toc_cell": false,
   "toc_position": {},
   "toc_section_display": true,
   "toc_window_display": false
  }
 },
 "nbformat": 4,
 "nbformat_minor": 5
}
